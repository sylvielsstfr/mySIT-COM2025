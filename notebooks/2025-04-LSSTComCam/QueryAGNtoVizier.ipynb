{
 "cells": [
  {
   "cell_type": "markdown",
   "id": "8ede1f13-9624-4bfa-99e8-fab64c0b6a91",
   "metadata": {},
   "source": [
    "## Query catalog from Vizier"
   ]
  },
  {
   "cell_type": "code",
   "execution_count": null,
   "id": "7c3bc1c0-a9de-45a2-a895-6e75e6964b95",
   "metadata": {
    "execution": {
     "iopub.execute_input": "2025-04-20T12:44:04.355492Z",
     "iopub.status.busy": "2025-04-20T12:44:04.355162Z",
     "iopub.status.idle": "2025-04-20T12:44:04.406903Z",
     "shell.execute_reply": "2025-04-20T12:44:04.406475Z",
     "shell.execute_reply.started": "2025-04-20T12:44:04.355473Z"
    }
   },
   "outputs": [],
   "source": [
    "from astroquery.vizier import Vizier\n",
    "\n",
    "vizier = Vizier() # this instantiates Vizier with its default parameters\n"
   ]
  },
  {
   "cell_type": "code",
   "execution_count": null,
   "id": "0d769368-469c-4402-928e-e6bf258ddae0",
   "metadata": {
    "execution": {
     "iopub.execute_input": "2025-04-20T12:44:13.467698Z",
     "iopub.status.busy": "2025-04-20T12:44:13.467354Z",
     "iopub.status.idle": "2025-04-20T12:44:22.319033Z",
     "shell.execute_reply": "2025-04-20T12:44:22.318498Z",
     "shell.execute_reply.started": "2025-04-20T12:44:13.467679Z"
    }
   },
   "outputs": [],
   "source": [
    "catalog_list = vizier.find_catalogs('agn')"
   ]
  },
  {
   "cell_type": "code",
   "execution_count": null,
   "id": "a2cc6d00-63b6-4231-8576-18666dc5f842",
   "metadata": {
    "execution": {
     "iopub.execute_input": "2025-04-20T12:44:55.986552Z",
     "iopub.status.busy": "2025-04-20T12:44:55.986336Z",
     "iopub.status.idle": "2025-04-20T12:44:55.990951Z",
     "shell.execute_reply": "2025-04-20T12:44:55.990492Z",
     "shell.execute_reply.started": "2025-04-20T12:44:55.986536Z"
    }
   },
   "outputs": [],
   "source": [
    "print(catalog_list) "
   ]
  },
  {
   "cell_type": "code",
   "execution_count": null,
   "id": "41d57b0c-db1b-4201-99ed-46e35d333f10",
   "metadata": {},
   "outputs": [],
   "source": []
  }
 ],
 "metadata": {
  "kernelspec": {
   "display_name": "LSST",
   "language": "python",
   "name": "lsst"
  },
  "language_info": {
   "codemirror_mode": {
    "name": "ipython",
    "version": 3
   },
   "file_extension": ".py",
   "mimetype": "text/x-python",
   "name": "python",
   "nbconvert_exporter": "python",
   "pygments_lexer": "ipython3",
   "version": "3.12.9"
  }
 },
 "nbformat": 4,
 "nbformat_minor": 5
}
