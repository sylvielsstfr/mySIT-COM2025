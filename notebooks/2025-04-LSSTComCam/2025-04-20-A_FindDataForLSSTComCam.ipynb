{
 "cells": [
  {
   "cell_type": "markdown",
   "id": "8f3da262-37ed-407f-908c-8ac5a52cb4db",
   "metadata": {},
   "source": [
    "# Notebook to access to data \n",
    "\n",
    "- Confluence page : https://rubinobs.atlassian.net/wiki/spaces/LSSTCOM/pages/372867091/System-level+Science+Performance+Verification+Sprint\n",
    "- slides : https://docs.google.com/presentation/d/1bPjS5NGtiEL2lfjmvP1UYdG_tMEDfZxX26ayhf7MhtY/edit#slide=id.ga2f7fb1a1f_0_70"
   ]
  },
  {
   "cell_type": "markdown",
   "id": "f3737976-eab8-4483-a79d-796f738c4f22",
   "metadata": {},
   "source": [
    "- where to find the campains\n",
    "- https://rubinobs.atlassian.net/wiki/spaces/DM/pages/226656354/LSSTComCam+Intermittent+Cumulative+DRP+Runs\n",
    "\n",
    "- plot Navigator\n",
    "- https://usdf-rsp.slac.stanford.edu/plot-navigator\n",
    "- https://usdf-rsp.slac.stanford.edu/plot-navigator/plot/%2Frepo%2Fmain/LSSTComCam%2Fruns%2FDRP%2FDP1%2Fw_2025_05%2FDM-48666/objectTableCore_coaddInputCount_SkyPlot"
   ]
  },
  {
   "cell_type": "markdown",
   "id": "53b4594d-5de5-4fa1-8ada-f60f0018cac5",
   "metadata": {},
   "source": [
    "- Notebooks examples\n",
    "- https://github.com/lsst-dm/DMTR-401/blob/main/notebooks/test_LVV-T40_T1240.ipynb\n",
    "- https://github.com/lsst-dm/DMTR-412/blob/tickets/DM-38728/notebooks/test_LVV-T1751_AM1_AM2.ipynb"
   ]
  },
  {
   "cell_type": "markdown",
   "id": "8402aac4-562a-40cd-ac2b-c1ca76cae55b",
   "metadata": {},
   "source": [
    "- author : Sylvie Dagoret-Campagne\n",
    "- creattion date : 2025-02-03\n",
    "- last update : 2025-04-20"
   ]
  },
  {
   "cell_type": "code",
   "execution_count": null,
   "id": "9d583412-a5a0-456e-84be-1fb658ddf016",
   "metadata": {
    "execution": {
     "iopub.execute_input": "2025-04-20T15:59:08.419765Z",
     "iopub.status.busy": "2025-04-20T15:59:08.419634Z",
     "iopub.status.idle": "2025-04-20T15:59:09.475541Z",
     "shell.execute_reply": "2025-04-20T15:59:09.474781Z",
     "shell.execute_reply.started": "2025-04-20T15:59:08.419741Z"
    }
   },
   "outputs": [],
   "source": [
    "# Confirm that the version of the Science Pipelines is recent:\n",
    "! echo $HOSTNAME\n",
    "! eups list -s | grep lsst_distrib"
   ]
  },
  {
   "cell_type": "code",
   "execution_count": null,
   "id": "8fbb9671-7d8e-4724-8c58-0f0a4fb9e5f0",
   "metadata": {
    "execution": {
     "iopub.execute_input": "2025-04-20T15:59:09.476415Z",
     "iopub.status.busy": "2025-04-20T15:59:09.476265Z",
     "iopub.status.idle": "2025-04-20T15:59:10.523723Z",
     "shell.execute_reply": "2025-04-20T15:59:10.523204Z",
     "shell.execute_reply.started": "2025-04-20T15:59:09.476397Z"
    }
   },
   "outputs": [],
   "source": [
    "from lsst.daf.butler import Butler\n",
    "import lsst.geom as geom"
   ]
  },
  {
   "cell_type": "code",
   "execution_count": null,
   "id": "e814e3d6-750c-4e7f-a9a5-5bf1e2f7205f",
   "metadata": {
    "execution": {
     "iopub.execute_input": "2025-04-20T15:59:10.524412Z",
     "iopub.status.busy": "2025-04-20T15:59:10.524272Z",
     "iopub.status.idle": "2025-04-20T15:59:11.941791Z",
     "shell.execute_reply": "2025-04-20T15:59:11.941287Z",
     "shell.execute_reply.started": "2025-04-20T15:59:10.524397Z"
    }
   },
   "outputs": [],
   "source": [
    "import os\n",
    "import gc\n",
    "import glob\n",
    "import numpy as np\n",
    "import pandas as pd\n",
    "import random\n",
    "\n",
    "import astropy.units as u\n",
    "from astropy.coordinates import SkyCoord\n",
    "from astroquery.gaia import Gaia\n",
    "from astropy.visualization import (MinMaxInterval, AsinhStretch, ZScaleInterval, LogStretch, LinearStretch,\n",
    "                                   ImageNormalize)"
   ]
  },
  {
   "cell_type": "code",
   "execution_count": null,
   "id": "5af15c53-1d3f-42ee-81d8-508a2daa56c0",
   "metadata": {
    "execution": {
     "iopub.execute_input": "2025-04-20T15:59:11.942684Z",
     "iopub.status.busy": "2025-04-20T15:59:11.942291Z",
     "iopub.status.idle": "2025-04-20T15:59:12.146480Z",
     "shell.execute_reply": "2025-04-20T15:59:12.145927Z",
     "shell.execute_reply.started": "2025-04-20T15:59:11.942668Z"
    }
   },
   "outputs": [],
   "source": [
    "# Set plotting defaults\n",
    "%matplotlib inline\n",
    "import matplotlib.pyplot as plt\n",
    "zscale = ZScaleInterval()\n",
    "\n",
    "# Set up some plotting defaults:\n",
    "plt.rcParams.update({'figure.figsize' : (12, 8)})\n",
    "plt.rcParams.update({'font.size' : 24})\n",
    "plt.rcParams.update({'axes.linewidth' : 3})\n",
    "plt.rcParams.update({'axes.labelweight' : 3})\n",
    "plt.rcParams.update({'axes.titleweight' : 5})\n",
    "plt.rcParams.update({'ytick.major.width' : 3})\n",
    "plt.rcParams.update({'ytick.minor.width' : 2})\n",
    "plt.rcParams.update({'ytick.major.size' : 8})\n",
    "plt.rcParams.update({'ytick.minor.size' : 5})\n",
    "plt.rcParams.update({'xtick.major.size' : 8})\n",
    "plt.rcParams.update({'xtick.minor.size' : 5})\n",
    "plt.rcParams.update({'xtick.major.width' : 3})\n",
    "plt.rcParams.update({'xtick.minor.width' : 2})\n",
    "plt.rcParams.update({'xtick.direction' : 'in'})\n",
    "plt.rcParams.update({'ytick.direction' : 'in'})\n"
   ]
  },
  {
   "cell_type": "code",
   "execution_count": null,
   "id": "58131b3b-f3bf-461a-8c71-d236e7d5e7fa",
   "metadata": {
    "execution": {
     "iopub.execute_input": "2025-04-20T15:59:12.147133Z",
     "iopub.status.busy": "2025-04-20T15:59:12.146996Z",
     "iopub.status.idle": "2025-04-20T15:59:12.149639Z",
     "shell.execute_reply": "2025-04-20T15:59:12.149237Z",
     "shell.execute_reply.started": "2025-04-20T15:59:12.147118Z"
    }
   },
   "outputs": [],
   "source": [
    "# check where to look in : https://usdf-rsp.slac.stanford.edu/plot-navigator\n",
    "\n",
    "#repo = '/repo/main'\n",
    "#collection = 'LSSTComCam/runs/DRP/DP1/w_2025_05/DM-48666'\n",
    "\n",
    "#repo = '/repo/dp1'\n",
    "#collection = 'LSSTComCam/runs/DRP/DP1/v29_0_0/DM-50260'\n",
    "\n",
    "repo = '/repo/main'\n",
    "collection = \"LSSTComCam/runs/DRP/DP1/w_2025_15/DM-50050\"\n"
   ]
  },
  {
   "cell_type": "code",
   "execution_count": null,
   "id": "804fcb8b-d567-4a27-b102-05ed002051c4",
   "metadata": {
    "execution": {
     "iopub.execute_input": "2025-04-20T15:59:12.150445Z",
     "iopub.status.busy": "2025-04-20T15:59:12.150122Z",
     "iopub.status.idle": "2025-04-20T15:59:12.804980Z",
     "shell.execute_reply": "2025-04-20T15:59:12.804499Z",
     "shell.execute_reply.started": "2025-04-20T15:59:12.150430Z"
    }
   },
   "outputs": [],
   "source": [
    "# Initialize the butler repo:\n",
    "butler = Butler(repo, collections=collection)\n",
    "registry = butler.registry"
   ]
  },
  {
   "cell_type": "code",
   "execution_count": null,
   "id": "826aebd4-b08d-4259-a715-2274b75182c2",
   "metadata": {
    "execution": {
     "iopub.execute_input": "2025-04-20T15:59:12.805653Z",
     "iopub.status.busy": "2025-04-20T15:59:12.805512Z",
     "iopub.status.idle": "2025-04-20T15:59:16.895969Z",
     "shell.execute_reply": "2025-04-20T15:59:16.895378Z",
     "shell.execute_reply.started": "2025-04-20T15:59:12.805638Z"
    }
   },
   "outputs": [],
   "source": [
    "for _ in registry.queryCollections():\n",
    "    if collection  in _:\n",
    "        print(_)"
   ]
  },
  {
   "cell_type": "code",
   "execution_count": null,
   "id": "d6dbd6d0-8f6c-441a-b465-b983e87cef9f",
   "metadata": {
    "execution": {
     "iopub.execute_input": "2025-04-20T15:59:16.896862Z",
     "iopub.status.busy": "2025-04-20T15:59:16.896709Z",
     "iopub.status.idle": "2025-04-20T16:03:53.402440Z",
     "shell.execute_reply": "2025-04-20T16:03:53.402058Z",
     "shell.execute_reply.started": "2025-04-20T15:59:16.896848Z"
    }
   },
   "outputs": [],
   "source": [
    "for datasetType in registry.queryDatasetTypes():\n",
    "    if registry.queryDatasets(datasetType, collections=collection).any(\n",
    "        execute=False, exact=False\n",
    "    ):\n",
    "        # Limit search results to the data products\n",
    "        if (\n",
    "            (\"_config\" not in datasetType.name)\n",
    "            and (\"_log\" not in datasetType.name)\n",
    "            and (\"_metadata\" not in datasetType.name)\n",
    "            and (\"_resource_usage\" not in datasetType.name)\n",
    "        ):\n",
    "            print(datasetType)"
   ]
  },
  {
   "cell_type": "code",
   "execution_count": null,
   "id": "a01aabf9-0752-4024-b56a-1580e3ee6dc6",
   "metadata": {
    "execution": {
     "iopub.execute_input": "2025-04-20T16:03:53.403043Z",
     "iopub.status.busy": "2025-04-20T16:03:53.402893Z",
     "iopub.status.idle": "2025-04-20T16:03:53.784751Z",
     "shell.execute_reply": "2025-04-20T16:03:53.784079Z",
     "shell.execute_reply.started": "2025-04-20T16:03:53.403028Z"
    }
   },
   "outputs": [],
   "source": [
    "did_tract2394 = {'instrument':'LSSTComCam', 'tract':2394, 'skymap':'lsst_cells_v1'}\n",
    "metric_extract2394 = butler.get('matchedVisitCore_metrics', collections=collection, dataId=did_tract2394)"
   ]
  },
  {
   "cell_type": "code",
   "execution_count": null,
   "id": "31999c85-819b-4492-9f11-4e776d424aad",
   "metadata": {
    "execution": {
     "iopub.status.busy": "2025-04-20T16:03:53.785246Z",
     "iopub.status.idle": "2025-04-20T16:03:53.785423Z",
     "shell.execute_reply": "2025-04-20T16:03:53.785341Z",
     "shell.execute_reply.started": "2025-04-20T16:03:53.785333Z"
    }
   },
   "outputs": [],
   "source": [
    "metric_extract2394 "
   ]
  },
  {
   "cell_type": "code",
   "execution_count": null,
   "id": "b58a66db-4a27-4e5c-bb25-f7654dc952fe",
   "metadata": {
    "execution": {
     "iopub.status.busy": "2025-04-20T16:03:53.786106Z",
     "iopub.status.idle": "2025-04-20T16:03:53.786275Z",
     "shell.execute_reply": "2025-04-20T16:03:53.786198Z",
     "shell.execute_reply.started": "2025-04-20T16:03:53.786190Z"
    }
   },
   "outputs": [],
   "source": [
    "print('Tract 2394:\\n')\n",
    "for met in metric_extract2394['stellarAstrometricRepeatability1']:\n",
    "    if ('AM1' in met.metric_name.metric) and \\\n",
    "       (met.metric_name.metric.startswith('g_') or met.metric_name.metric.startswith('r_') or \\\n",
    "        met.metric_name.metric.startswith('i_')):\n",
    "        print(met.datum)\n",
    "print('\\n')\n",
    "for met in metric_extract2394['stellarAstrometricRepeatability2']:\n",
    "    if ('AM2' in met.metric_name.metric) and \\\n",
    "       (met.metric_name.metric.startswith('g_') or met.metric_name.metric.startswith('r_') or \\\n",
    "        met.metric_name.metric.startswith('i_')):\n",
    "        print(met.datum)\n",
    "\n"
   ]
  },
  {
   "cell_type": "code",
   "execution_count": null,
   "id": "e937c9ef-3813-46cf-a03c-333b1631ac57",
   "metadata": {},
   "outputs": [],
   "source": []
  }
 ],
 "metadata": {
  "kernelspec": {
   "display_name": "LSST",
   "language": "python",
   "name": "lsst"
  },
  "language_info": {
   "codemirror_mode": {
    "name": "ipython",
    "version": 3
   },
   "file_extension": ".py",
   "mimetype": "text/x-python",
   "name": "python",
   "nbconvert_exporter": "python",
   "pygments_lexer": "ipython3",
   "version": "3.12.9"
  }
 },
 "nbformat": 4,
 "nbformat_minor": 5
}
