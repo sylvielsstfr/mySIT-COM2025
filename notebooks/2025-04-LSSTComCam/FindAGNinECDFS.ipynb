{
 "cells": [
  {
   "cell_type": "markdown",
   "id": "42025894-914b-46c8-923e-5fe7481b1bb8",
   "metadata": {},
   "source": [
    "## AGN in Extended Chandra Deep Field South (ECDFS)\n",
    "\n",
    "- author : Sylvie Dagoret-Campagne with the help of ChatGPT 4\n",
    "- affiliation : IJCLab/IN2P3/CNRS\n",
    "- creation date : 2025-04-20\n",
    "- last update : 2025-04-21"
   ]
  },
  {
   "cell_type": "code",
   "execution_count": null,
   "id": "b28a166f-ef9b-473d-a9df-0a9f8767c552",
   "metadata": {
    "execution": {
     "iopub.execute_input": "2025-04-22T12:36:14.321120Z",
     "iopub.status.busy": "2025-04-22T12:36:14.320994Z",
     "iopub.status.idle": "2025-04-22T12:36:14.372431Z",
     "shell.execute_reply": "2025-04-22T12:36:14.371996Z",
     "shell.execute_reply.started": "2025-04-22T12:36:14.321105Z"
    }
   },
   "outputs": [],
   "source": [
    "from astroquery.vizier import Vizier\n",
    "from astropy.coordinates import SkyCoord\n",
    "import astropy.units as u\n",
    "import numpy as np"
   ]
  },
  {
   "cell_type": "markdown",
   "id": "a62e5e09-58ad-4833-8d5a-5e950098dea2",
   "metadata": {},
   "source": [
    "## Selection of a catalog in ECDFS\n",
    "- https://heasarc.gsfc.nasa.gov/docs/heasarc/biblio/pubs/chandra_ycat.html"
   ]
  },
  {
   "cell_type": "code",
   "execution_count": null,
   "id": "75e6fedc-58d3-4fa9-9c9a-b2572c5204c5",
   "metadata": {
    "execution": {
     "iopub.execute_input": "2025-04-22T12:36:14.374289Z",
     "iopub.status.busy": "2025-04-22T12:36:14.374163Z",
     "iopub.status.idle": "2025-04-22T12:36:14.376198Z",
     "shell.execute_reply": "2025-04-22T12:36:14.375844Z",
     "shell.execute_reply.started": "2025-04-22T12:36:14.374275Z"
    }
   },
   "outputs": [],
   "source": [
    "ECDFS_RA = 53.1\n",
    "ECDFS_DEC = -27.8"
   ]
  },
  {
   "cell_type": "code",
   "execution_count": null,
   "id": "801737b0-560f-4f62-b604-52fe694440f6",
   "metadata": {
    "execution": {
     "iopub.execute_input": "2025-04-22T12:36:14.376902Z",
     "iopub.status.busy": "2025-04-22T12:36:14.376622Z",
     "iopub.status.idle": "2025-04-22T12:36:14.418200Z",
     "shell.execute_reply": "2025-04-22T12:36:14.417776Z",
     "shell.execute_reply.started": "2025-04-22T12:36:14.376887Z"
    }
   },
   "outputs": [],
   "source": [
    "# Coordonnées approximatives du centre du E-CDFS\n",
    "coord = SkyCoord(ra=ECDFS_RA, dec=ECDFS_DEC, unit=(u.deg, u.deg), frame='icrs')\n",
    "radius = 15 * u.arcmin\n",
    "\n",
    "# Exemple avec le catalogue Luo+2017 (7Ms CDF-S)\n",
    "catalog_id = \"J/ApJS/228/2\"\n",
    "\n",
    "result = Vizier(columns=[\"*\"]).query_region(coord, radius=radius, catalog=catalog_id)"
   ]
  },
  {
   "cell_type": "markdown",
   "id": "fddb9e6e-b914-4f58-b93b-b0f911466af9",
   "metadata": {},
   "source": [
    "- **sources** : c’est la table principale, avec les propriétés astrophysiques des sources (coordonnées, flux X, luminosité, classification AGN potentielle, etc.)\n",
    "- **table1** : généralement des infos complémentaires ou des index d’identifiants croisés (par ex. index interne, flags de détection, etc.)"
   ]
  },
  {
   "cell_type": "code",
   "execution_count": null,
   "id": "90919dad-78cf-4e30-81c9-6e3220caa448",
   "metadata": {
    "execution": {
     "iopub.execute_input": "2025-04-22T12:36:14.418843Z",
     "iopub.status.busy": "2025-04-22T12:36:14.418704Z",
     "iopub.status.idle": "2025-04-22T12:36:14.421672Z",
     "shell.execute_reply": "2025-04-22T12:36:14.421316Z",
     "shell.execute_reply.started": "2025-04-22T12:36:14.418829Z"
    }
   },
   "outputs": [],
   "source": [
    "result"
   ]
  },
  {
   "cell_type": "code",
   "execution_count": null,
   "id": "51139f76-7555-4bba-a1be-fbc773862018",
   "metadata": {
    "execution": {
     "iopub.execute_input": "2025-04-22T12:36:14.422242Z",
     "iopub.status.busy": "2025-04-22T12:36:14.422110Z",
     "iopub.status.idle": "2025-04-22T12:36:14.456165Z",
     "shell.execute_reply": "2025-04-22T12:36:14.455802Z",
     "shell.execute_reply.started": "2025-04-22T12:36:14.422228Z"
    }
   },
   "outputs": [],
   "source": [
    "# Voir les résultats\n",
    "result[0]"
   ]
  },
  {
   "cell_type": "code",
   "execution_count": null,
   "id": "8ba3715b-6244-416e-bfd6-c38a0f8d12a0",
   "metadata": {
    "execution": {
     "iopub.execute_input": "2025-04-22T12:36:14.456740Z",
     "iopub.status.busy": "2025-04-22T12:36:14.456597Z",
     "iopub.status.idle": "2025-04-22T12:36:14.473469Z",
     "shell.execute_reply": "2025-04-22T12:36:14.473084Z",
     "shell.execute_reply.started": "2025-04-22T12:36:14.456725Z"
    }
   },
   "outputs": [],
   "source": [
    "result[1]"
   ]
  },
  {
   "cell_type": "markdown",
   "id": "6fec7e86-e3ad-42e1-8e9d-eaea6955e395",
   "metadata": {},
   "source": [
    "## Selection of AGN"
   ]
  },
  {
   "cell_type": "code",
   "execution_count": null,
   "id": "d4ae63de-9afc-4cac-9289-bf9f65cea5d0",
   "metadata": {
    "execution": {
     "iopub.execute_input": "2025-04-22T12:36:14.474028Z",
     "iopub.status.busy": "2025-04-22T12:36:14.473897Z",
     "iopub.status.idle": "2025-04-22T12:36:14.483220Z",
     "shell.execute_reply": "2025-04-22T12:36:14.482835Z",
     "shell.execute_reply.started": "2025-04-22T12:36:14.474014Z"
    }
   },
   "outputs": [],
   "source": [
    "sources_table = result['J/ApJS/228/2/sources']\n",
    "print(sources_table.colnames)"
   ]
  },
  {
   "cell_type": "code",
   "execution_count": null,
   "id": "ed242b45-0be2-406c-8d85-5985b2c0191a",
   "metadata": {
    "execution": {
     "iopub.execute_input": "2025-04-22T12:36:14.484112Z",
     "iopub.status.busy": "2025-04-22T12:36:14.483671Z",
     "iopub.status.idle": "2025-04-22T12:36:14.505144Z",
     "shell.execute_reply": "2025-04-22T12:36:14.504724Z",
     "shell.execute_reply.started": "2025-04-22T12:36:14.484096Z"
    }
   },
   "outputs": [],
   "source": [
    "# On calcule le log10 de LX\n",
    "logLX = np.log10(sources_table['LX'])\n",
    "\n",
    "# Et on l'ajoute comme nouvelle colonne à la table\n",
    "sources_table['logLX'] = logLX"
   ]
  },
  {
   "cell_type": "code",
   "execution_count": null,
   "id": "9207833c-178e-4935-b0c5-14b657c534dd",
   "metadata": {
    "execution": {
     "iopub.execute_input": "2025-04-22T12:36:14.505770Z",
     "iopub.status.busy": "2025-04-22T12:36:14.505624Z",
     "iopub.status.idle": "2025-04-22T12:36:14.515613Z",
     "shell.execute_reply": "2025-04-22T12:36:14.515250Z",
     "shell.execute_reply.started": "2025-04-22T12:36:14.505756Z"
    }
   },
   "outputs": [],
   "source": [
    "# Exemple : filtrer les sources avec LX > 10^42 erg/s\n",
    "import numpy as np\n",
    "\n",
    "# Attention au nom exact de la colonne\n",
    "logLX = sources_table['logLX']\n",
    "is_agn = logLX > 42"
   ]
  },
  {
   "cell_type": "code",
   "execution_count": null,
   "id": "59fe019f-2ae2-4e3d-8a79-d72558048c4b",
   "metadata": {
    "execution": {
     "iopub.execute_input": "2025-04-22T12:36:14.516493Z",
     "iopub.status.busy": "2025-04-22T12:36:14.516084Z",
     "iopub.status.idle": "2025-04-22T12:36:14.533996Z",
     "shell.execute_reply": "2025-04-22T12:36:14.533491Z",
     "shell.execute_reply.started": "2025-04-22T12:36:14.516478Z"
    }
   },
   "outputs": [],
   "source": [
    "is_agn = sources_table['logLX'] > 42  # AGN si LX > 10^42 erg/s\n",
    "agn_table = sources_table[is_agn]"
   ]
  },
  {
   "cell_type": "code",
   "execution_count": null,
   "id": "4abadae7-ef90-4376-81f1-2a91aa58c387",
   "metadata": {
    "execution": {
     "iopub.execute_input": "2025-04-22T12:36:14.534825Z",
     "iopub.status.busy": "2025-04-22T12:36:14.534478Z",
     "iopub.status.idle": "2025-04-22T12:36:14.552405Z",
     "shell.execute_reply": "2025-04-22T12:36:14.551983Z",
     "shell.execute_reply.started": "2025-04-22T12:36:14.534809Z"
    }
   },
   "outputs": [],
   "source": [
    "agn_table[['RAJ2000', 'DEJ2000', 'logLX', 'LX', 'zspec']].pprint(max_lines=10)"
   ]
  },
  {
   "cell_type": "markdown",
   "id": "05577958-182b-4dde-b453-e76688eefee1",
   "metadata": {},
   "source": [
    "### Save agn table"
   ]
  },
  {
   "cell_type": "code",
   "execution_count": null,
   "id": "eb2ea170-d700-40dc-b0e8-0d79abe51be1",
   "metadata": {
    "execution": {
     "iopub.execute_input": "2025-04-22T12:36:14.553019Z",
     "iopub.status.busy": "2025-04-22T12:36:14.552877Z",
     "iopub.status.idle": "2025-04-22T12:36:14.918561Z",
     "shell.execute_reply": "2025-04-22T12:36:14.918034Z",
     "shell.execute_reply.started": "2025-04-22T12:36:14.553004Z"
    }
   },
   "outputs": [],
   "source": [
    "df_agn = agn_table.to_pandas()"
   ]
  },
  {
   "cell_type": "code",
   "execution_count": null,
   "id": "fa80a71d-3bcb-4f60-8921-05a517bb8e7b",
   "metadata": {
    "execution": {
     "iopub.execute_input": "2025-04-22T12:36:14.919440Z",
     "iopub.status.busy": "2025-04-22T12:36:14.919110Z",
     "iopub.status.idle": "2025-04-22T12:36:14.958963Z",
     "shell.execute_reply": "2025-04-22T12:36:14.958400Z",
     "shell.execute_reply.started": "2025-04-22T12:36:14.919424Z"
    }
   },
   "outputs": [],
   "source": [
    "df_agn.to_csv(\"agn_ecdfs.csv\") "
   ]
  },
  {
   "cell_type": "markdown",
   "id": "6fde53ec-1d20-4db1-91f5-babaca833f8d",
   "metadata": {},
   "source": [
    "## Plot on AGN"
   ]
  },
  {
   "cell_type": "markdown",
   "id": "ee108346-b412-4e2e-8528-5bd69d90025c",
   "metadata": {},
   "source": [
    "## 🌍 1. Tracer logLX vs redshift (zspec)\n",
    "Pour explorer la distribution des AGN selon leur luminosité X et leur redshift :"
   ]
  },
  {
   "cell_type": "code",
   "execution_count": null,
   "id": "6b672d0a-cf93-4c3f-ae86-122f251bcd72",
   "metadata": {
    "execution": {
     "iopub.execute_input": "2025-04-22T12:36:14.959581Z",
     "iopub.status.busy": "2025-04-22T12:36:14.959445Z",
     "iopub.status.idle": "2025-04-22T12:36:15.390051Z",
     "shell.execute_reply": "2025-04-22T12:36:15.389634Z",
     "shell.execute_reply.started": "2025-04-22T12:36:14.959567Z"
    }
   },
   "outputs": [],
   "source": [
    "import matplotlib.pyplot as plt\n",
    "\n",
    "# Ne garder que les objets avec zspec connu\n",
    "has_zspec = ~sources_table['zspec'].mask  # ou sources_table['zspec'].filled(-1) > 0\n",
    "\n",
    "plt.figure(figsize=(8,6))\n",
    "plt.scatter(sources_table['zspec'][has_zspec], sources_table['logLX'][has_zspec], \n",
    "            c='blue', alpha=0.7, edgecolors='k')\n",
    "plt.xlabel(\"Redshift spectroscopique (zspec)\")\n",
    "plt.ylabel(\"log(Lx) [erg/s]\")\n",
    "plt.title(\"Distribution des AGN dans l'E-CDFS\")\n",
    "plt.grid(True)\n",
    "plt.show()"
   ]
  },
  {
   "cell_type": "markdown",
   "id": "217c656d-7a00-4d8b-b570-5f5e07384c6d",
   "metadata": {},
   "source": [
    "## 📊 2. Histogrammes pour explorer la population\n",
    "Distribution en redshift\n",
    "\n",
    "Distribution en luminosité"
   ]
  },
  {
   "cell_type": "code",
   "execution_count": null,
   "id": "3fdab8b9-d1fb-4966-b114-f937f6e395f2",
   "metadata": {
    "execution": {
     "iopub.execute_input": "2025-04-22T12:36:15.390986Z",
     "iopub.status.busy": "2025-04-22T12:36:15.390690Z",
     "iopub.status.idle": "2025-04-22T12:36:15.714191Z",
     "shell.execute_reply": "2025-04-22T12:36:15.713719Z",
     "shell.execute_reply.started": "2025-04-22T12:36:15.390970Z"
    }
   },
   "outputs": [],
   "source": [
    "plt.figure(figsize=(14,5))\n",
    "\n",
    "plt.subplot(1, 2, 1)\n",
    "plt.hist(sources_table['zspec'][has_zspec], bins=20, color='green', alpha=0.7)\n",
    "plt.xlabel(\"Redshift zspec\")\n",
    "plt.ylabel(\"Nombre de sources\")\n",
    "plt.title(\"Distribution en redshift\")\n",
    "\n",
    "plt.subplot(1, 2, 2)\n",
    "plt.hist(sources_table['logLX'], bins=20, color='orange', alpha=0.7)\n",
    "plt.xlabel(\"log(Lx) [erg/s]\")\n",
    "plt.ylabel(\"Nombre de sources\")\n",
    "plt.title(\"Distribution de la luminosité X\")\n",
    "\n",
    "plt.tight_layout()\n",
    "plt.show()\n"
   ]
  },
  {
   "cell_type": "markdown",
   "id": "0361865d-8faa-4fbc-b6b0-9b658dce6e49",
   "metadata": {},
   "source": [
    "## 🌌 3. Diagramme couleur (ex: BR vs logLX)\n",
    "Si BR est une couleur optique (par exemple B-R), tu peux chercher des relations avec l’activité nucléaire :"
   ]
  },
  {
   "cell_type": "code",
   "execution_count": null,
   "id": "d0ba862e-c30d-4844-8a9a-ea22435e95bf",
   "metadata": {
    "execution": {
     "iopub.execute_input": "2025-04-22T12:36:15.714910Z",
     "iopub.status.busy": "2025-04-22T12:36:15.714756Z",
     "iopub.status.idle": "2025-04-22T12:36:15.795360Z",
     "shell.execute_reply": "2025-04-22T12:36:15.794895Z",
     "shell.execute_reply.started": "2025-04-22T12:36:15.714893Z"
    }
   },
   "outputs": [],
   "source": [
    "plt.scatter(sources_table['BR'], sources_table['logLX'], c='purple', alpha=0.7)\n",
    "plt.xlabel(\"B-R (mag)\")\n",
    "plt.ylabel(\"log(Lx) [erg/s]\")\n",
    "plt.title(\"Couleur optique vs Luminosité X\")\n",
    "plt.grid(True)\n",
    "plt.show()"
   ]
  },
  {
   "cell_type": "markdown",
   "id": "99409dc0-29b1-474a-a494-96a2fefcc8d5",
   "metadata": {},
   "source": [
    "## 🧭 4. Carte du ciel des AGN"
   ]
  },
  {
   "cell_type": "code",
   "execution_count": null,
   "id": "f56ac329-54ed-42ca-848a-798edb40a283",
   "metadata": {
    "execution": {
     "iopub.execute_input": "2025-04-22T12:36:15.796054Z",
     "iopub.status.busy": "2025-04-22T12:36:15.795911Z",
     "iopub.status.idle": "2025-04-22T12:36:15.920628Z",
     "shell.execute_reply": "2025-04-22T12:36:15.920241Z",
     "shell.execute_reply.started": "2025-04-22T12:36:15.796040Z"
    }
   },
   "outputs": [],
   "source": [
    "plt.figure(figsize=(6,6))\n",
    "plt.scatter(sources_table['RAJ2000'], sources_table['DEJ2000'], \n",
    "            s=20, c='gray', label=\"Toutes les sources\")\n",
    "plt.scatter(agn_table['RAJ2000'], agn_table['DEJ2000'], \n",
    "            s=40, c='red', label=\"AGN (logLX > 42)\")\n",
    "plt.xlabel(\"RA (deg)\")\n",
    "plt.ylabel(\"DEC (deg)\")\n",
    "plt.title(\"Carte du ciel des sources E-CDFS\")\n",
    "plt.legend()\n",
    "plt.grid(True)\n",
    "plt.show()\n"
   ]
  },
  {
   "cell_type": "code",
   "execution_count": null,
   "id": "e02e7180-544a-497e-859f-beea013ccf84",
   "metadata": {
    "execution": {
     "iopub.execute_input": "2025-04-22T12:36:15.921232Z",
     "iopub.status.busy": "2025-04-22T12:36:15.921095Z",
     "iopub.status.idle": "2025-04-22T12:36:16.072444Z",
     "shell.execute_reply": "2025-04-22T12:36:16.071713Z",
     "shell.execute_reply.started": "2025-04-22T12:36:15.921217Z"
    }
   },
   "outputs": [],
   "source": [
    "assert False"
   ]
  },
  {
   "cell_type": "markdown",
   "id": "b3df111f-1754-4876-9481-2a61c05ae96b",
   "metadata": {},
   "source": [
    "## 🔗 5. Croisement avec un autre catalogue (optique, IR, radio...)\n",
    "Si tu as un autre catalogue (par exemple CANDELS, GOODS-S, VLA...), on peut faire un cross-match spatial basé sur les coordonnées RA/DEC (avec astropy.coordinates.SkyCoord).\n",
    "\n",
    "Exemple possible :"
   ]
  },
  {
   "cell_type": "code",
   "execution_count": null,
   "id": "0d3fa3c6-c15a-4478-a0a5-8e74b5792605",
   "metadata": {
    "execution": {
     "iopub.status.busy": "2025-04-22T12:36:16.072805Z",
     "iopub.status.idle": "2025-04-22T12:36:16.072988Z",
     "shell.execute_reply": "2025-04-22T12:36:16.072906Z",
     "shell.execute_reply.started": "2025-04-22T12:36:16.072898Z"
    }
   },
   "outputs": [],
   "source": [
    "from astropy.coordinates import SkyCoord\n",
    "from astropy import units as u\n",
    "\n",
    "cat1 = SkyCoord(ra=sources_table['RAJ2000'], dec=sources_table['DEJ2000'], unit='deg')\n",
    "cat2 = SkyCoord(ra=autre_table['RA'], dec=autre_table['DEC'], unit='deg')\n",
    "\n",
    "idx, d2d, _ = cat1.match_to_catalog_sky(cat2)\n",
    "matched = autre_table[idx[d2d < 1.0*u.arcsec]]\n"
   ]
  },
  {
   "cell_type": "markdown",
   "id": "6778efc9-459a-4465-af66-82ded08b3661",
   "metadata": {},
   "source": [
    "\n",
    "\n",
    "    from lsst.daf.butler import Butler\n",
    "    from astropy.coordinates import SkyCoord\n",
    "    import astropy.units as u\n",
    "\n",
    "    # Initialisation du dépôt LSST\n",
    "    butler = Butler(\"/repo/main\")  # à adapter à ton dépôt local, ou celui de DP0\n",
    "\n",
    "    # Tu peux aussi voir quelles collections sont disponibles :\n",
    "    print(butler.registry.queryCollections())\n",
    "\n",
    "    # Ex: sélectionner un sky region (coordonnées du champ E-CDFS)\n",
    "    center = SkyCoord(ra=53.1*u.deg, dec=-27.8*u.deg)\n",
    "    radius = 5.0 * u.arcmin\n",
    "\n",
    "    # Trouver quels tracts couvrent cette région\n",
    "    tracts = butler.registry.queryRegion(\"deepCoadd\", region=center, radius=radius)\n",
    "\n",
    "    for tract in tracts:\n",
    "        # Accès aux catalogues d’objets détectés dans ce tract\n",
    "        data_refs = butler.registry.queryDatasets(\"deepCoadd_forced_src\", tract=tract.tract, band='i')\n",
    "\n",
    "        for ref in data_refs:\n",
    "            cat = butler.get(ref)\n",
    "            # Croisement spatial ici avec ton catalogue Chandra\n",
    "    🚀 Tu travailles :\n",
    "    avec un repo local ComCam, sur une instance personnelle ?\n",
    "\n",
    "    ou bien tu accèdes aux données DP0.x via la Rubin Science Platform (RSP) en ligne ?\n",
    "\n",
    "    ou tu installes LSST pipelines en local pour t’entraîner ?\n",
    "\n",
    "    Je peux t’aider à :\n",
    "\n",
    "    initialiser un dépôt de test ComCam ou DP0\n",
    "\n",
    "    écrire une fonction de croisement Chandra ↔ LSST objets détectés\n",
    "\n",
    "    extraire automatiquement les flux LSST associés à tes AGN\n",
    "\n",
    "    Tu veux faire ça depuis un notebook local ? ou via le portail Rubin Science Platform (JupyterHub sur https://data.lsst.cloud) ?\n",
    "\n",
    "\n",
    "\n",
    "\n",
    "\n",
    "\n",
    "\n",
    "\n",
    "\n"
   ]
  },
  {
   "cell_type": "code",
   "execution_count": null,
   "id": "3ddd5a32-7962-4417-bacf-8b48d285f840",
   "metadata": {},
   "outputs": [],
   "source": []
  }
 ],
 "metadata": {
  "kernelspec": {
   "display_name": "LSST",
   "language": "python",
   "name": "lsst"
  },
  "language_info": {
   "codemirror_mode": {
    "name": "ipython",
    "version": 3
   },
   "file_extension": ".py",
   "mimetype": "text/x-python",
   "name": "python",
   "nbconvert_exporter": "python",
   "pygments_lexer": "ipython3",
   "version": "3.12.9"
  }
 },
 "nbformat": 4,
 "nbformat_minor": 5
}
