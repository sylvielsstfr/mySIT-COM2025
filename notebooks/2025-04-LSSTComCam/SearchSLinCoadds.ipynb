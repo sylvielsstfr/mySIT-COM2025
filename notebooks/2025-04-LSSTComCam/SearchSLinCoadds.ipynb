{
 "cells": [
  {
   "cell_type": "markdown",
   "id": "9b5174d8-cdd6-4146-839f-4972f73001b3",
   "metadata": {},
   "source": [
    "## Search SL in LsstComCam"
   ]
  },
  {
   "cell_type": "code",
   "execution_count": null,
   "id": "e51a6d55-e854-4569-8e47-a0b137f0b4e7",
   "metadata": {
    "execution": {
     "iopub.execute_input": "2025-04-22T17:14:13.586514Z",
     "iopub.status.busy": "2025-04-22T17:14:13.586214Z",
     "iopub.status.idle": "2025-04-22T17:14:15.137939Z",
     "shell.execute_reply": "2025-04-22T17:14:15.137406Z",
     "shell.execute_reply.started": "2025-04-22T17:14:13.586498Z"
    }
   },
   "outputs": [],
   "source": [
    "from lsst.daf.butler import Butler\n",
    "from lsst.geom import SpherePoint, degrees\n",
    "import lsst.afw.display as afwDisplay\n",
    "import numpy as np\n",
    "import pandas as pd\n",
    "from astropy.coordinates import SkyCoord\n",
    "import astropy.units as u"
   ]
  },
  {
   "cell_type": "code",
   "execution_count": null,
   "id": "65a7218a-4473-428b-8949-5405641902d4",
   "metadata": {
    "execution": {
     "iopub.execute_input": "2025-04-22T17:14:15.138876Z",
     "iopub.status.busy": "2025-04-22T17:14:15.138496Z",
     "iopub.status.idle": "2025-04-22T17:14:15.143783Z",
     "shell.execute_reply": "2025-04-22T17:14:15.143276Z",
     "shell.execute_reply.started": "2025-04-22T17:14:15.138859Z"
    }
   },
   "outputs": [],
   "source": [
    "def find_tract_patch_and_display(butler, skymap,ra_deg, dec_deg, band=\"i\"):\n",
    "    # Ouvrir le dépôt\n",
    "    #butler = Butler(repo)\n",
    "    #skymap = butler.get(\"skyMap\")\n",
    "\n",
    "    datasettype = \"objectTable_tract\"\n",
    "    therefs = butler.registry.queryDatasets(datasettype,  collections=collection)\n",
    "\n",
    "    \n",
    "    # Créer le point céleste\n",
    "    coord = SpherePoint(ra_deg * degrees, dec_deg * degrees)\n",
    "\n",
    "    # Trouver tract/patch\n",
    "#    for tractInfo in skymap:\n",
    "#        if tractInfo.contains(coord):\n",
    "#            patchInfo = tractInfo.findPatch(coord)\n",
    "#            tract = tractInfo.tract\n",
    "#            patch = patchInfo.getIndex()  # Tuple (x, y)\n",
    "#            print(f\"Tract: {tract}, Patch: {patch}\")\n",
    "#            break\n",
    "#    else:\n",
    "#        print(\"Coordonnée en dehors du skymap.\")\n",
    "#.   return\n",
    "    found = False\n",
    "    # loop only on existing tracts\n",
    "    for ref in therefs:\n",
    "        tract_id = ref.dataId[\"tract\"]\n",
    "        tractInfo = skymap[tract_id]\n",
    "        if tractInfo.contains(coord):\n",
    "            patchInfo = tractInfo.findPatch(coord)\n",
    "            patch_id = patchInfo.getIndex()  # Tuple (x, y)\n",
    "            patch_indexseq = patchInfo.getSequentialIndex()\n",
    "            print(f\"Tract: {tract_id}, Patch: {patch_indexseq}\")\n",
    "            found = True\n",
    "            break\n",
    "    # Charger l’image coadd correspondante\n",
    "    dataId = {\"tract\": tract_id, \"patch\": patch_indexseq, \"band\": band,\"skymap\": skymapName}\n",
    "    #deepCoadd_calexp\n",
    "    coadd = butler.get(\"deepCoadd_calexp\", dataId)\n",
    "    datatitle = f\"deepcoadd-LSSTComCam : {tract_id} , {patch_indexseq} , {band}\"\n",
    "\n",
    "    # Affichage avec marqueur\n",
    "    display = afwDisplay.Display(1)\n",
    "    display.scale('asinh', 'zscale')\n",
    "    #afw_display.scale('linear', min=zmin, max=zmax)\n",
    "    display.setImageColormap(cmap='grey')\n",
    "    display.mtv(coadd.getImage(),title=datatitle)\n",
    "    display.dot(\"+\", ra_deg, dec_deg, size=20, ctype=\"red\", coordSys=\"sky\")\n",
    "\n",
    "    \n",
    "    return tract, patch"
   ]
  },
  {
   "cell_type": "code",
   "execution_count": null,
   "id": "f00ca36c-793c-4e3c-88e6-79d4991cbcfb",
   "metadata": {
    "execution": {
     "iopub.execute_input": "2025-04-22T17:14:15.145026Z",
     "iopub.status.busy": "2025-04-22T17:14:15.144879Z",
     "iopub.status.idle": "2025-04-22T17:14:15.158509Z",
     "shell.execute_reply": "2025-04-22T17:14:15.158123Z",
     "shell.execute_reply.started": "2025-04-22T17:14:15.145012Z"
    }
   },
   "outputs": [],
   "source": [
    "# The output repo is tagged with the Jira ticket number \"DM-40356\":\n",
    "repo = '/repo/main'\n",
    "#collection = 'LSSTComCam/runs/DRP/DP1/w_2025_05/DM-48666' # work\n",
    "#collection = 'LSSTComCam/runs/DRP/DP1/w_2025_06/DM-48810' # work\n",
    "collection = 'LSSTComCam/runs/DRP/DP1/w_2025_10/DM-49359' # work\n",
    "\n",
    "\n",
    "# bad : crash collection = 'LSSTComCam/runs/DRP/DP1/w_2025_08/DM-49029'\n",
    "\n",
    "# bad : collection = \"LSSTComCam/runs/DRP/20241101_20241211/w_2024_51/DM-48233\"\n",
    "\n",
    "# not working perhaps because I am using w_2025_10 version\n",
    "# bad : no ccd visit collection = \"LSSTComCam/runs/DRP/DP1/w_2025_14/DM-49864\"\n",
    "# bad : no ccd visit collection = 'LSSTComCam/runs/DRP/DP1/w_2025_15/DM-50050'\n",
    "# bad : no cce visit collection = 'LSSTComCam/runs/DRP/DP1/w_2025_14/DM-49864'\n",
    "# bad : no cce visit collection collection = 'LSSTComCam/runs/DRP/DP1/w_2025_13/DM-49751'\n",
    "\n",
    "\n",
    "instrument = \"LSSTComCam\"\n",
    "skymapName = \"lsst_cells_v1\"\n",
    "where_clause = \"instrument = \\'\" + instrument+ \"\\'\"\n",
    "collectionStr = collection.replace(\"/\", \"_\")\n",
    "NDET = 9\n",
    "TRACTSEL = 5063"
   ]
  },
  {
   "cell_type": "code",
   "execution_count": null,
   "id": "58aa7fd0-2818-48e3-9326-e90ec6dc8b8c",
   "metadata": {
    "execution": {
     "iopub.execute_input": "2025-04-22T17:14:15.159230Z",
     "iopub.status.busy": "2025-04-22T17:14:15.158956Z",
     "iopub.status.idle": "2025-04-22T17:14:15.941409Z",
     "shell.execute_reply": "2025-04-22T17:14:15.940897Z",
     "shell.execute_reply.started": "2025-04-22T17:14:15.159215Z"
    }
   },
   "outputs": [],
   "source": [
    "# Initialize the butler repo:\n",
    "butler = Butler(repo, collections=collection)\n",
    "registry = butler.registry\n",
    "skymap = butler.get('skyMap', skymap=skymapName, collections=collection)"
   ]
  },
  {
   "cell_type": "code",
   "execution_count": null,
   "id": "3f1d1f5d-e8da-4777-88f8-8c55e117be31",
   "metadata": {
    "execution": {
     "iopub.execute_input": "2025-04-22T17:14:15.942109Z",
     "iopub.status.busy": "2025-04-22T17:14:15.941968Z",
     "iopub.status.idle": "2025-04-22T17:14:15.945212Z",
     "shell.execute_reply": "2025-04-22T17:14:15.944789Z",
     "shell.execute_reply.started": "2025-04-22T17:14:15.942094Z"
    }
   },
   "outputs": [],
   "source": [
    "# List a number of usefull data-product to explore\n",
    "if 0:\n",
    "    for datasetType in registry.queryDatasetTypes():\n",
    "        if registry.queryDatasets(datasetType, collections=collection).any(\n",
    "            execute=False, exact=False\n",
    "        ):\n",
    "            # Limit search results to the data products\n",
    "            if (\n",
    "                (\"_config\" not in datasetType.name)\n",
    "                and (\"_log\" not in datasetType.name)\n",
    "                and (\"_metadata\" not in datasetType.name)\n",
    "                and (\"_resource_usage\" not in datasetType.name)\n",
    "                and ( \"deepCoadd\" in datasetType.name)\n",
    "            ):\n",
    "                print(datasetType)"
   ]
  },
  {
   "cell_type": "code",
   "execution_count": null,
   "id": "ac15c290-0c54-4713-852f-0e1a2130ec46",
   "metadata": {
    "execution": {
     "iopub.execute_input": "2025-04-22T17:14:15.945820Z",
     "iopub.status.busy": "2025-04-22T17:14:15.945681Z",
     "iopub.status.idle": "2025-04-22T17:14:15.977248Z",
     "shell.execute_reply": "2025-04-22T17:14:15.976830Z",
     "shell.execute_reply.started": "2025-04-22T17:14:15.945807Z"
    }
   },
   "outputs": [],
   "source": [
    "#find_tract_patch_and_display(repo, ra, dec, band=\"i\")"
   ]
  },
  {
   "cell_type": "markdown",
   "id": "1ae2ec07-d554-4828-a6e3-e51ab219f23d",
   "metadata": {},
   "source": [
    "## Definition of SL in ECDFS"
   ]
  },
  {
   "cell_type": "code",
   "execution_count": null,
   "id": "fb074077-c21b-470e-861f-c1db708ba5a4",
   "metadata": {
    "execution": {
     "iopub.execute_input": "2025-04-22T17:14:15.978046Z",
     "iopub.status.busy": "2025-04-22T17:14:15.977915Z",
     "iopub.status.idle": "2025-04-22T17:14:16.011694Z",
     "shell.execute_reply": "2025-04-22T17:14:16.011243Z",
     "shell.execute_reply.started": "2025-04-22T17:14:15.978033Z"
    }
   },
   "outputs": [],
   "source": [
    "sources = {}\n",
    "sources[15422] = SkyCoord(\"03 32 38.21 -27 56 53.2\", unit = (u.hourangle,u.deg))  \n",
    "sources[4244] =  SkyCoord(\"03 32 06.45 -27 47 28.6\",  unit = (u.hourangle,u.deg)) \n",
    "sources[40173] = SkyCoord(\"03 33 19.45 -27 44 50.0\", unit = (u.hourangle,u.deg)) "
   ]
  },
  {
   "cell_type": "code",
   "execution_count": null,
   "id": "93e084d2-6ed8-44a9-a3aa-090906a160b1",
   "metadata": {
    "execution": {
     "iopub.execute_input": "2025-04-22T17:14:16.012455Z",
     "iopub.status.busy": "2025-04-22T17:14:16.012317Z",
     "iopub.status.idle": "2025-04-22T17:14:16.017377Z",
     "shell.execute_reply": "2025-04-22T17:14:16.017018Z",
     "shell.execute_reply.started": "2025-04-22T17:14:16.012440Z"
    }
   },
   "outputs": [],
   "source": [
    "sources[43242] = SkyCoord(\"03 31 55.35 -27 43 23.5\", unit = (u.hourangle,u.deg)) \n",
    "sources[46446] = SkyCoord(\"03 31 35.94 -27 41 48.2\", unit = (u.hourangle,u.deg))  "
   ]
  },
  {
   "cell_type": "markdown",
   "id": "d159c037-bad7-4040-b39c-10e5454056ac",
   "metadata": {},
   "source": [
    "## Check the DeepCoadds"
   ]
  },
  {
   "cell_type": "code",
   "execution_count": null,
   "id": "7cac4f0c-7edb-40dc-a243-a7ca322a1b89",
   "metadata": {
    "execution": {
     "iopub.execute_input": "2025-04-22T17:14:16.018079Z",
     "iopub.status.busy": "2025-04-22T17:14:16.017825Z",
     "iopub.status.idle": "2025-04-22T17:14:16.027534Z",
     "shell.execute_reply": "2025-04-22T17:14:16.027184Z",
     "shell.execute_reply.started": "2025-04-22T17:14:16.018065Z"
    }
   },
   "outputs": [],
   "source": [
    "from warnings import simplefilter\n",
    "simplefilter(action=\"ignore\", category=pd.errors.PerformanceWarning)"
   ]
  },
  {
   "cell_type": "code",
   "execution_count": null,
   "id": "264ac976-1822-480b-8c33-d8df8d6ea6b0",
   "metadata": {
    "execution": {
     "iopub.execute_input": "2025-04-22T17:14:16.028054Z",
     "iopub.status.busy": "2025-04-22T17:14:16.027929Z",
     "iopub.status.idle": "2025-04-22T17:14:17.532833Z",
     "shell.execute_reply": "2025-04-22T17:14:17.532301Z",
     "shell.execute_reply.started": "2025-04-22T17:14:16.028041Z"
    }
   },
   "outputs": [],
   "source": [
    "datasettype = \"deepCoadd_calexp\"\n",
    "df_tractpatchband = pd.DataFrame(columns = [\"tract\",\"patch\",\"band\"])\n",
    "therefs = butler.registry.queryDatasets(datasettype,  collections=collection)\n",
    "for count,ref in enumerate(therefs):\n",
    "    df_tractpatchband.loc[count] =  [int(ref.dataId[\"tract\"]), int(ref.dataId[\"patch\"]), ref.dataId[\"band\"]]"
   ]
  },
  {
   "cell_type": "code",
   "execution_count": null,
   "id": "79e170be-998b-4cd5-bb27-5c07a8d9d0df",
   "metadata": {
    "execution": {
     "iopub.execute_input": "2025-04-22T17:14:17.533522Z",
     "iopub.status.busy": "2025-04-22T17:14:17.533369Z",
     "iopub.status.idle": "2025-04-22T17:14:17.537953Z",
     "shell.execute_reply": "2025-04-22T17:14:17.537518Z",
     "shell.execute_reply.started": "2025-04-22T17:14:17.533505Z"
    }
   },
   "outputs": [],
   "source": [
    "df_tractpatchband.sort_values(by=['tract', 'patch','band'],inplace=True)\n",
    "df_tractpatchband.reset_index(drop=True,inplace=True)"
   ]
  },
  {
   "cell_type": "code",
   "execution_count": null,
   "id": "f886b714-4c8d-4a58-befe-64c9e858865f",
   "metadata": {
    "execution": {
     "iopub.execute_input": "2025-04-22T17:14:17.540153Z",
     "iopub.status.busy": "2025-04-22T17:14:17.539863Z",
     "iopub.status.idle": "2025-04-22T17:14:17.558024Z",
     "shell.execute_reply": "2025-04-22T17:14:17.557551Z",
     "shell.execute_reply.started": "2025-04-22T17:14:17.540137Z"
    }
   },
   "outputs": [],
   "source": [
    "df_tractpatchband[df_tractpatchband.tract == TRACTSEL]"
   ]
  },
  {
   "cell_type": "code",
   "execution_count": null,
   "id": "5c4381b7-77fe-4b67-a025-6551714a8cc5",
   "metadata": {
    "execution": {
     "iopub.execute_input": "2025-04-22T17:14:17.558856Z",
     "iopub.status.busy": "2025-04-22T17:14:17.558694Z",
     "iopub.status.idle": "2025-04-22T17:14:19.480549Z",
     "shell.execute_reply": "2025-04-22T17:14:19.480017Z",
     "shell.execute_reply.started": "2025-04-22T17:14:17.558840Z"
    }
   },
   "outputs": [],
   "source": [
    "dataId = {\"tract\": TRACTSEL, \"patch\": 0, \"band\": \"g\",\"skymap\": skymapName}\n",
    "#deepCoadd_calexp\n",
    "coadd = butler.get(\"deepCoadd_calexp\", dataId)"
   ]
  },
  {
   "cell_type": "code",
   "execution_count": null,
   "id": "234caf2f-65d7-48c6-9585-7a9fe46ad209",
   "metadata": {
    "execution": {
     "iopub.execute_input": "2025-04-22T17:14:19.481628Z",
     "iopub.status.busy": "2025-04-22T17:14:19.481143Z",
     "iopub.status.idle": "2025-04-22T17:14:19.485465Z",
     "shell.execute_reply": "2025-04-22T17:14:19.485049Z",
     "shell.execute_reply.started": "2025-04-22T17:14:19.481610Z"
    }
   },
   "outputs": [],
   "source": [
    "coadd.image"
   ]
  },
  {
   "cell_type": "code",
   "execution_count": null,
   "id": "35fac583-79c1-41c3-9135-bf7c56a691a9",
   "metadata": {
    "execution": {
     "iopub.execute_input": "2025-04-22T17:14:19.486079Z",
     "iopub.status.busy": "2025-04-22T17:14:19.485946Z",
     "iopub.status.idle": "2025-04-22T17:14:21.931144Z",
     "shell.execute_reply": "2025-04-22T17:14:21.930483Z",
     "shell.execute_reply.started": "2025-04-22T17:14:19.486065Z"
    }
   },
   "outputs": [],
   "source": [
    "display = afwDisplay.Display(frame=2)\n",
    "#display.scale(\"asinh\", \"zscale\")\n",
    "display.mtv(coadd.image)"
   ]
  },
  {
   "cell_type": "markdown",
   "id": "d18ec997-d8aa-417a-aab0-17ac025a818c",
   "metadata": {},
   "source": [
    "## Get images"
   ]
  },
  {
   "cell_type": "code",
   "execution_count": null,
   "id": "2bef7efb-6926-48dc-8881-e7728e93b8fe",
   "metadata": {
    "execution": {
     "iopub.status.busy": "2025-04-22T17:14:21.932061Z",
     "iopub.status.idle": "2025-04-22T17:14:21.932223Z",
     "shell.execute_reply": "2025-04-22T17:14:21.932147Z",
     "shell.execute_reply.started": "2025-04-22T17:14:21.932139Z"
    }
   },
   "outputs": [],
   "source": [
    "num = 4244"
   ]
  },
  {
   "cell_type": "code",
   "execution_count": null,
   "id": "54005f2e-6397-4dd3-b8d1-0e0e1251adb0",
   "metadata": {
    "execution": {
     "iopub.status.busy": "2025-04-22T17:14:21.932972Z",
     "iopub.status.idle": "2025-04-22T17:14:21.933139Z",
     "shell.execute_reply": "2025-04-22T17:14:21.933060Z",
     "shell.execute_reply.started": "2025-04-22T17:14:21.933052Z"
    }
   },
   "outputs": [],
   "source": [
    "ra_deg = float(sources[num].ra.degree)\n",
    "dec_deg = float(sources[num].dec.degree)"
   ]
  },
  {
   "cell_type": "code",
   "execution_count": null,
   "id": "48759746-9bb6-476a-b283-c6213630eb5b",
   "metadata": {
    "execution": {
     "iopub.status.busy": "2025-04-22T17:14:21.933437Z",
     "iopub.status.idle": "2025-04-22T17:14:21.933591Z",
     "shell.execute_reply": "2025-04-22T17:14:21.933518Z",
     "shell.execute_reply.started": "2025-04-22T17:14:21.933510Z"
    }
   },
   "outputs": [],
   "source": [
    "datasettype = \"objectTable_tract\"\n",
    "therefs = butler.registry.queryDatasets(datasettype,  collections=collection)\n",
    "tractsId_list = np.unique([float(ref.dataId['tract']) for ref in therefs])\n",
    "tractsId_list = sorted(tractsId_list)\n",
    "print(tractsId_list)"
   ]
  },
  {
   "cell_type": "code",
   "execution_count": null,
   "id": "30188e74-a322-48ca-9fac-f49690f5ada8",
   "metadata": {
    "execution": {
     "iopub.status.busy": "2025-04-22T17:14:21.934253Z",
     "iopub.status.idle": "2025-04-22T17:14:21.934421Z",
     "shell.execute_reply": "2025-04-22T17:14:21.934343Z",
     "shell.execute_reply.started": "2025-04-22T17:14:21.934336Z"
    }
   },
   "outputs": [],
   "source": [
    "# Créer le point céleste\n",
    "coord = SpherePoint(ra_deg * degrees, dec_deg * degrees)\n",
    "found = False\n",
    "for ref in therefs:\n",
    "    tract_id = ref.dataId[\"tract\"]\n",
    "    tractInfo = skymap[tract_id]\n",
    "    if tractInfo.contains(coord):\n",
    "        patchInfo = tractInfo.findPatch(coord)\n",
    "        patch = patchInfo.getIndex()  # Tuple (x, y)\n",
    "        print(f\"Tract: {tract_id}, Patch: {patch}\")\n",
    "        found = True\n",
    "        break"
   ]
  },
  {
   "cell_type": "code",
   "execution_count": null,
   "id": "5d179aba-fa67-4bcc-ab3b-8db62c4493c9",
   "metadata": {
    "execution": {
     "iopub.status.busy": "2025-04-22T17:14:21.934790Z",
     "iopub.status.idle": "2025-04-22T17:14:21.934944Z",
     "shell.execute_reply": "2025-04-22T17:14:21.934873Z",
     "shell.execute_reply.started": "2025-04-22T17:14:21.934866Z"
    }
   },
   "outputs": [],
   "source": [
    "find_tract_patch_and_display(butler, skymap,ra_deg, dec_deg, band=\"i\")"
   ]
  },
  {
   "cell_type": "code",
   "execution_count": null,
   "id": "461a0147-42dc-4479-a778-a14e3ce1abeb",
   "metadata": {},
   "outputs": [],
   "source": []
  },
  {
   "cell_type": "code",
   "execution_count": null,
   "id": "dc27931d-9be7-4892-aa80-37f1260393af",
   "metadata": {},
   "outputs": [],
   "source": []
  }
 ],
 "metadata": {
  "kernelspec": {
   "display_name": "LSST",
   "language": "python",
   "name": "lsst"
  },
  "language_info": {
   "codemirror_mode": {
    "name": "ipython",
    "version": 3
   },
   "file_extension": ".py",
   "mimetype": "text/x-python",
   "name": "python",
   "nbconvert_exporter": "python",
   "pygments_lexer": "ipython3",
   "version": "3.12.9"
  }
 },
 "nbformat": 4,
 "nbformat_minor": 5
}
