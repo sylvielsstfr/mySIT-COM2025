{
 "cells": [
  {
   "cell_type": "markdown",
   "id": "9b5174d8-cdd6-4146-839f-4972f73001b3",
   "metadata": {},
   "source": [
    "## Search SL in LsstComCam"
   ]
  },
  {
   "cell_type": "code",
   "execution_count": null,
   "id": "e51a6d55-e854-4569-8e47-a0b137f0b4e7",
   "metadata": {
    "execution": {
     "iopub.execute_input": "2025-04-22T19:12:33.557523Z",
     "iopub.status.busy": "2025-04-22T19:12:33.557391Z",
     "iopub.status.idle": "2025-04-22T19:12:35.117857Z",
     "shell.execute_reply": "2025-04-22T19:12:35.117353Z",
     "shell.execute_reply.started": "2025-04-22T19:12:33.557507Z"
    }
   },
   "outputs": [],
   "source": [
    "from lsst.daf.butler import Butler\n",
    "from lsst.geom import SpherePoint, degrees\n",
    "import lsst.afw.display as afwDisplay\n",
    "import numpy as np\n",
    "import pandas as pd\n",
    "from astropy.coordinates import SkyCoord\n",
    "import astropy.units as u\n",
    "from lsst.geom import SpherePoint, degrees"
   ]
  },
  {
   "cell_type": "code",
   "execution_count": null,
   "id": "feb3f77f-73ab-4933-8523-2fab93bdaa44",
   "metadata": {
    "execution": {
     "iopub.execute_input": "2025-04-22T19:12:35.119992Z",
     "iopub.status.busy": "2025-04-22T19:12:35.119856Z",
     "iopub.status.idle": "2025-04-22T19:12:35.182988Z",
     "shell.execute_reply": "2025-04-22T19:12:35.182535Z",
     "shell.execute_reply.started": "2025-04-22T19:12:35.119977Z"
    }
   },
   "outputs": [],
   "source": [
    "afwDisplay.setDefaultBackend(\"firefly\")\n",
    "framecount = 1"
   ]
  },
  {
   "cell_type": "code",
   "execution_count": null,
   "id": "65a7218a-4473-428b-8949-5405641902d4",
   "metadata": {
    "execution": {
     "iopub.execute_input": "2025-04-22T19:12:35.183970Z",
     "iopub.status.busy": "2025-04-22T19:12:35.183573Z",
     "iopub.status.idle": "2025-04-22T19:12:35.189241Z",
     "shell.execute_reply": "2025-04-22T19:12:35.188859Z",
     "shell.execute_reply.started": "2025-04-22T19:12:35.183951Z"
    }
   },
   "outputs": [],
   "source": [
    "def find_tract_patch_and_display(butler, skymap,ra_deg, dec_deg, band, framecount):\n",
    "    # Ouvrir le dépôt\n",
    "    #butler = Butler(repo)\n",
    "    #skymap = butler.get(\"skyMap\")\n",
    "    band_to_color = {\"u\":\"blue\",\"g\":\"green\",\"r\":\"red\",\"i\":\"orange\",\"z\":\"yellow\",\"y\":\"purple\"}\n",
    "\n",
    "    datasettype = \"objectTable_tract\"\n",
    "    therefs = butler.registry.queryDatasets(datasettype,  collections=collection)\n",
    "\n",
    "    \n",
    "    # Créer le point céleste\n",
    "    coord = SpherePoint(ra_deg * degrees, dec_deg * degrees)\n",
    "\n",
    "    # Trouver tract/patch\n",
    "#    for tractInfo in skymap:\n",
    "#        if tractInfo.contains(coord):\n",
    "#            patchInfo = tractInfo.findPatch(coord)\n",
    "#            tract = tractInfo.tract\n",
    "#            patch = patchInfo.getIndex()  # Tuple (x, y)\n",
    "#            print(f\"Tract: {tract}, Patch: {patch}\")\n",
    "#            break\n",
    "#    else:\n",
    "#        print(\"Coordonnée en dehors du skymap.\")\n",
    "#.   return\n",
    "    found = False\n",
    "    # loop only on existing tracts\n",
    "    \n",
    "    for ref in therefs:\n",
    "        tract_id = ref.dataId[\"tract\"]\n",
    "        tractInfo = skymap[tract_id]\n",
    "        if tractInfo.contains(coord):\n",
    "            patchInfo = tractInfo.findPatch(coord)\n",
    "            patch_id = patchInfo.getIndex()  # Tuple (x, y)\n",
    "            patch_indexseq = patchInfo.getSequentialIndex()\n",
    "            print(f\"Tract: {tract_id}, Patch: {patch_indexseq}\")\n",
    "            found = True\n",
    "            break\n",
    "    # Charger l’image coadd correspondante\n",
    "    dataId = {\"tract\": tract_id, \"patch\": patch_indexseq, \"band\": band,\"skymap\": skymapName}\n",
    "    #deepCoadd_calexp\n",
    "    coadd = butler.get(\"deepCoadd_calexp\", dataId)\n",
    "    # Récupération du WCS\n",
    "    wcs = coadd.getWcs()\n",
    "\n",
    "    datatitle = f\"deepcoadd-LSSTComCam : {tract_id} , {patch_indexseq} , {band}\"\n",
    "    print(datatitle)\n",
    "\n",
    "    # Affichage avec marqueur\n",
    "    \n",
    "    display = afwDisplay.Display(frame = framecount)\n",
    "    display.scale('asinh', 'zscale')\n",
    "    #afw_display.scale('linear', min=zmin, max=zmax)\n",
    "    #display.setImageColormap(cmap='grey')\n",
    "    display.setImageColormap(cmap='Grey_r')\n",
    "    display.mtv(coadd.getImage(),title=datatitle)\n",
    "\n",
    "    # Création du point céleste\n",
    "    pix_point = wcs.skyToPixel(coord)\n",
    "    x, y = pix_point.x,pix_point.y\n",
    "    \n",
    "    col = band_to_color[band] \n",
    "    display.dot(\"+\", x, y, size=50, ctype=col)\n",
    "    \n",
    "\n",
    "    \n",
    "    return tract_id, patch_indexseq,band"
   ]
  },
  {
   "cell_type": "code",
   "execution_count": null,
   "id": "f00ca36c-793c-4e3c-88e6-79d4991cbcfb",
   "metadata": {
    "execution": {
     "iopub.execute_input": "2025-04-22T19:12:35.189882Z",
     "iopub.status.busy": "2025-04-22T19:12:35.189742Z",
     "iopub.status.idle": "2025-04-22T19:12:35.196288Z",
     "shell.execute_reply": "2025-04-22T19:12:35.195934Z",
     "shell.execute_reply.started": "2025-04-22T19:12:35.189867Z"
    }
   },
   "outputs": [],
   "source": [
    "# The output repo is tagged with the Jira ticket number \"DM-40356\":\n",
    "repo = '/repo/main'\n",
    "#collection = 'LSSTComCam/runs/DRP/DP1/w_2025_05/DM-48666' # work\n",
    "#collection = 'LSSTComCam/runs/DRP/DP1/w_2025_06/DM-48810' # work\n",
    "collection = 'LSSTComCam/runs/DRP/DP1/w_2025_10/DM-49359' # work\n",
    "\n",
    "\n",
    "# bad : crash collection = 'LSSTComCam/runs/DRP/DP1/w_2025_08/DM-49029'\n",
    "\n",
    "# bad : collection = \"LSSTComCam/runs/DRP/20241101_20241211/w_2024_51/DM-48233\"\n",
    "\n",
    "# not working perhaps because I am using w_2025_10 version\n",
    "# bad : no ccd visit collection = \"LSSTComCam/runs/DRP/DP1/w_2025_14/DM-49864\"\n",
    "# bad : no ccd visit collection = 'LSSTComCam/runs/DRP/DP1/w_2025_15/DM-50050'\n",
    "# bad : no cce visit collection = 'LSSTComCam/runs/DRP/DP1/w_2025_14/DM-49864'\n",
    "# bad : no cce visit collection collection = 'LSSTComCam/runs/DRP/DP1/w_2025_13/DM-49751'\n",
    "\n",
    "\n",
    "instrument = \"LSSTComCam\"\n",
    "skymapName = \"lsst_cells_v1\"\n",
    "where_clause = \"instrument = \\'\" + instrument+ \"\\'\"\n",
    "collectionStr = collection.replace(\"/\", \"_\")\n",
    "NDET = 9\n",
    "TRACTSEL = 5063"
   ]
  },
  {
   "cell_type": "code",
   "execution_count": null,
   "id": "58aa7fd0-2818-48e3-9326-e90ec6dc8b8c",
   "metadata": {
    "execution": {
     "iopub.execute_input": "2025-04-22T19:12:35.197003Z",
     "iopub.status.busy": "2025-04-22T19:12:35.196705Z",
     "iopub.status.idle": "2025-04-22T19:12:36.065407Z",
     "shell.execute_reply": "2025-04-22T19:12:36.064920Z",
     "shell.execute_reply.started": "2025-04-22T19:12:35.196987Z"
    }
   },
   "outputs": [],
   "source": [
    "# Initialize the butler repo:\n",
    "butler = Butler(repo, collections=collection)\n",
    "registry = butler.registry\n",
    "skymap = butler.get('skyMap', skymap=skymapName, collections=collection)"
   ]
  },
  {
   "cell_type": "code",
   "execution_count": null,
   "id": "3f1d1f5d-e8da-4777-88f8-8c55e117be31",
   "metadata": {
    "execution": {
     "iopub.execute_input": "2025-04-22T19:12:36.066091Z",
     "iopub.status.busy": "2025-04-22T19:12:36.065950Z",
     "iopub.status.idle": "2025-04-22T19:12:36.068921Z",
     "shell.execute_reply": "2025-04-22T19:12:36.068556Z",
     "shell.execute_reply.started": "2025-04-22T19:12:36.066076Z"
    }
   },
   "outputs": [],
   "source": [
    "# List a number of usefull data-product to explore\n",
    "if 0:\n",
    "    for datasetType in registry.queryDatasetTypes():\n",
    "        if registry.queryDatasets(datasetType, collections=collection).any(\n",
    "            execute=False, exact=False\n",
    "        ):\n",
    "            # Limit search results to the data products\n",
    "            if (\n",
    "                (\"_config\" not in datasetType.name)\n",
    "                and (\"_log\" not in datasetType.name)\n",
    "                and (\"_metadata\" not in datasetType.name)\n",
    "                and (\"_resource_usage\" not in datasetType.name)\n",
    "                and ( \"deepCoadd\" in datasetType.name)\n",
    "            ):\n",
    "                print(datasetType)"
   ]
  },
  {
   "cell_type": "code",
   "execution_count": null,
   "id": "ac15c290-0c54-4713-852f-0e1a2130ec46",
   "metadata": {
    "execution": {
     "iopub.execute_input": "2025-04-22T19:12:36.069485Z",
     "iopub.status.busy": "2025-04-22T19:12:36.069356Z",
     "iopub.status.idle": "2025-04-22T19:12:36.076421Z",
     "shell.execute_reply": "2025-04-22T19:12:36.076080Z",
     "shell.execute_reply.started": "2025-04-22T19:12:36.069472Z"
    }
   },
   "outputs": [],
   "source": [
    "#find_tract_patch_and_display(repo, ra, dec, band=\"i\")"
   ]
  },
  {
   "cell_type": "markdown",
   "id": "1ae2ec07-d554-4828-a6e3-e51ab219f23d",
   "metadata": {},
   "source": [
    "## Definition of SL in ECDFS"
   ]
  },
  {
   "cell_type": "code",
   "execution_count": null,
   "id": "fb074077-c21b-470e-861f-c1db708ba5a4",
   "metadata": {
    "execution": {
     "iopub.execute_input": "2025-04-22T19:12:36.077100Z",
     "iopub.status.busy": "2025-04-22T19:12:36.076863Z",
     "iopub.status.idle": "2025-04-22T19:12:36.096809Z",
     "shell.execute_reply": "2025-04-22T19:12:36.096277Z",
     "shell.execute_reply.started": "2025-04-22T19:12:36.077086Z"
    }
   },
   "outputs": [],
   "source": [
    "sources = {}\n",
    "sources[15422] = SkyCoord(\"03 32 38.21 -27 56 53.2\", unit = (u.hourangle,u.deg))  \n",
    "sources[4244] =  SkyCoord(\"03 32 06.45 -27 47 28.6\",  unit = (u.hourangle,u.deg)) \n",
    "sources[40173] = SkyCoord(\"03 33 19.45 -27 44 50.0\", unit = (u.hourangle,u.deg)) "
   ]
  },
  {
   "cell_type": "code",
   "execution_count": null,
   "id": "93e084d2-6ed8-44a9-a3aa-090906a160b1",
   "metadata": {
    "execution": {
     "iopub.execute_input": "2025-04-22T19:12:36.097462Z",
     "iopub.status.busy": "2025-04-22T19:12:36.097331Z",
     "iopub.status.idle": "2025-04-22T19:12:36.100459Z",
     "shell.execute_reply": "2025-04-22T19:12:36.100103Z",
     "shell.execute_reply.started": "2025-04-22T19:12:36.097449Z"
    }
   },
   "outputs": [],
   "source": [
    "sources[43242] = SkyCoord(\"03 31 55.35 -27 43 23.5\", unit = (u.hourangle,u.deg)) \n",
    "sources[46446] = SkyCoord(\"03 31 35.94 -27 41 48.2\", unit = (u.hourangle,u.deg))  "
   ]
  },
  {
   "cell_type": "markdown",
   "id": "d159c037-bad7-4040-b39c-10e5454056ac",
   "metadata": {},
   "source": [
    "## Check the DeepCoadds"
   ]
  },
  {
   "cell_type": "code",
   "execution_count": null,
   "id": "7cac4f0c-7edb-40dc-a243-a7ca322a1b89",
   "metadata": {
    "execution": {
     "iopub.execute_input": "2025-04-22T19:12:36.101118Z",
     "iopub.status.busy": "2025-04-22T19:12:36.100887Z",
     "iopub.status.idle": "2025-04-22T19:12:36.106623Z",
     "shell.execute_reply": "2025-04-22T19:12:36.106214Z",
     "shell.execute_reply.started": "2025-04-22T19:12:36.101104Z"
    }
   },
   "outputs": [],
   "source": [
    "from warnings import simplefilter\n",
    "simplefilter(action=\"ignore\", category=pd.errors.PerformanceWarning)"
   ]
  },
  {
   "cell_type": "code",
   "execution_count": null,
   "id": "264ac976-1822-480b-8c33-d8df8d6ea6b0",
   "metadata": {
    "execution": {
     "iopub.execute_input": "2025-04-22T19:12:36.107189Z",
     "iopub.status.busy": "2025-04-22T19:12:36.107068Z",
     "iopub.status.idle": "2025-04-22T19:12:37.446642Z",
     "shell.execute_reply": "2025-04-22T19:12:37.445979Z",
     "shell.execute_reply.started": "2025-04-22T19:12:36.107177Z"
    }
   },
   "outputs": [],
   "source": [
    "datasettype = \"deepCoadd_calexp\"\n",
    "df_tractpatchband = pd.DataFrame(columns = [\"tract\",\"patch\",\"band\"])\n",
    "therefs = butler.registry.queryDatasets(datasettype,  collections=collection)\n",
    "for count,ref in enumerate(therefs):\n",
    "    df_tractpatchband.loc[count] =  [int(ref.dataId[\"tract\"]), int(ref.dataId[\"patch\"]), ref.dataId[\"band\"]]"
   ]
  },
  {
   "cell_type": "code",
   "execution_count": null,
   "id": "79e170be-998b-4cd5-bb27-5c07a8d9d0df",
   "metadata": {
    "execution": {
     "iopub.execute_input": "2025-04-22T19:12:37.447360Z",
     "iopub.status.busy": "2025-04-22T19:12:37.447218Z",
     "iopub.status.idle": "2025-04-22T19:12:37.451409Z",
     "shell.execute_reply": "2025-04-22T19:12:37.451001Z",
     "shell.execute_reply.started": "2025-04-22T19:12:37.447345Z"
    }
   },
   "outputs": [],
   "source": [
    "df_tractpatchband.sort_values(by=['tract', 'patch','band'],inplace=True)\n",
    "df_tractpatchband.reset_index(drop=True,inplace=True)"
   ]
  },
  {
   "cell_type": "code",
   "execution_count": null,
   "id": "f886b714-4c8d-4a58-befe-64c9e858865f",
   "metadata": {
    "execution": {
     "iopub.execute_input": "2025-04-22T19:12:37.452248Z",
     "iopub.status.busy": "2025-04-22T19:12:37.451881Z",
     "iopub.status.idle": "2025-04-22T19:12:37.462956Z",
     "shell.execute_reply": "2025-04-22T19:12:37.462559Z",
     "shell.execute_reply.started": "2025-04-22T19:12:37.452233Z"
    }
   },
   "outputs": [],
   "source": [
    "df_tractpatchband[df_tractpatchband.tract == TRACTSEL]"
   ]
  },
  {
   "cell_type": "code",
   "execution_count": null,
   "id": "5c4381b7-77fe-4b67-a025-6551714a8cc5",
   "metadata": {
    "execution": {
     "iopub.execute_input": "2025-04-22T19:12:37.463583Z",
     "iopub.status.busy": "2025-04-22T19:12:37.463456Z",
     "iopub.status.idle": "2025-04-22T19:12:39.411527Z",
     "shell.execute_reply": "2025-04-22T19:12:39.411074Z",
     "shell.execute_reply.started": "2025-04-22T19:12:37.463570Z"
    }
   },
   "outputs": [],
   "source": [
    "dataId = {\"tract\": TRACTSEL, \"patch\": 0, \"band\": \"g\",\"skymap\": skymapName}\n",
    "#deepCoadd_calexp\n",
    "coadd = butler.get(\"deepCoadd_calexp\", dataId)"
   ]
  },
  {
   "cell_type": "code",
   "execution_count": null,
   "id": "234caf2f-65d7-48c6-9585-7a9fe46ad209",
   "metadata": {
    "execution": {
     "iopub.execute_input": "2025-04-22T19:12:39.412452Z",
     "iopub.status.busy": "2025-04-22T19:12:39.411994Z",
     "iopub.status.idle": "2025-04-22T19:12:39.415980Z",
     "shell.execute_reply": "2025-04-22T19:12:39.415607Z",
     "shell.execute_reply.started": "2025-04-22T19:12:39.412436Z"
    }
   },
   "outputs": [],
   "source": [
    "coadd.image"
   ]
  },
  {
   "cell_type": "code",
   "execution_count": null,
   "id": "35fac583-79c1-41c3-9135-bf7c56a691a9",
   "metadata": {
    "execution": {
     "iopub.execute_input": "2025-04-22T19:12:39.416525Z",
     "iopub.status.busy": "2025-04-22T19:12:39.416389Z",
     "iopub.status.idle": "2025-04-22T19:12:39.430097Z",
     "shell.execute_reply": "2025-04-22T19:12:39.429739Z",
     "shell.execute_reply.started": "2025-04-22T19:12:39.416512Z"
    }
   },
   "outputs": [],
   "source": [
    "#display = afwDisplay.Display(frame=2)\n",
    "#display.scale(\"asinh\", \"zscale\")\n",
    "#display.mtv(coadd.image)"
   ]
  },
  {
   "cell_type": "code",
   "execution_count": null,
   "id": "d2e12621-7537-4bc6-8b4e-c0841dbe4fce",
   "metadata": {
    "execution": {
     "iopub.execute_input": "2025-04-22T19:12:39.430751Z",
     "iopub.status.busy": "2025-04-22T19:12:39.430499Z",
     "iopub.status.idle": "2025-04-22T19:12:39.438595Z",
     "shell.execute_reply": "2025-04-22T19:12:39.438232Z",
     "shell.execute_reply.started": "2025-04-22T19:12:39.430737Z"
    }
   },
   "outputs": [],
   "source": [
    "#wcs = coadd.getWcs()"
   ]
  },
  {
   "cell_type": "markdown",
   "id": "d18ec997-d8aa-417a-aab0-17ac025a818c",
   "metadata": {},
   "source": [
    "## Get images"
   ]
  },
  {
   "cell_type": "code",
   "execution_count": null,
   "id": "2bef7efb-6926-48dc-8881-e7728e93b8fe",
   "metadata": {
    "execution": {
     "iopub.execute_input": "2025-04-22T19:12:39.439249Z",
     "iopub.status.busy": "2025-04-22T19:12:39.439026Z",
     "iopub.status.idle": "2025-04-22T19:12:39.446208Z",
     "shell.execute_reply": "2025-04-22T19:12:39.445841Z",
     "shell.execute_reply.started": "2025-04-22T19:12:39.439236Z"
    }
   },
   "outputs": [],
   "source": [
    "num = 46446"
   ]
  },
  {
   "cell_type": "code",
   "execution_count": null,
   "id": "54005f2e-6397-4dd3-b8d1-0e0e1251adb0",
   "metadata": {
    "execution": {
     "iopub.execute_input": "2025-04-22T19:12:39.448782Z",
     "iopub.status.busy": "2025-04-22T19:12:39.448638Z",
     "iopub.status.idle": "2025-04-22T19:12:39.454761Z",
     "shell.execute_reply": "2025-04-22T19:12:39.454377Z",
     "shell.execute_reply.started": "2025-04-22T19:12:39.448768Z"
    }
   },
   "outputs": [],
   "source": [
    "ra_deg = float(sources[num].ra.degree)\n",
    "dec_deg = float(sources[num].dec.degree)"
   ]
  },
  {
   "cell_type": "code",
   "execution_count": null,
   "id": "48759746-9bb6-476a-b283-c6213630eb5b",
   "metadata": {
    "execution": {
     "iopub.execute_input": "2025-04-22T19:12:39.455394Z",
     "iopub.status.busy": "2025-04-22T19:12:39.455176Z",
     "iopub.status.idle": "2025-04-22T19:12:39.528282Z",
     "shell.execute_reply": "2025-04-22T19:12:39.527895Z",
     "shell.execute_reply.started": "2025-04-22T19:12:39.455381Z"
    }
   },
   "outputs": [],
   "source": [
    "datasettype = \"objectTable_tract\"\n",
    "therefs = butler.registry.queryDatasets(datasettype,  collections=collection)\n",
    "tractsId_list = np.unique([float(ref.dataId['tract']) for ref in therefs])\n",
    "tractsId_list = sorted(tractsId_list)\n",
    "print(tractsId_list)"
   ]
  },
  {
   "cell_type": "code",
   "execution_count": null,
   "id": "30188e74-a322-48ca-9fac-f49690f5ada8",
   "metadata": {
    "execution": {
     "iopub.execute_input": "2025-04-22T19:12:39.528939Z",
     "iopub.status.busy": "2025-04-22T19:12:39.528795Z",
     "iopub.status.idle": "2025-04-22T19:12:39.548469Z",
     "shell.execute_reply": "2025-04-22T19:12:39.548086Z",
     "shell.execute_reply.started": "2025-04-22T19:12:39.528918Z"
    }
   },
   "outputs": [],
   "source": [
    "# Créer le point céleste\n",
    "coord = SpherePoint(ra_deg * degrees, dec_deg * degrees)\n",
    "found = False\n",
    "for ref in therefs:\n",
    "    tract_id = ref.dataId[\"tract\"]\n",
    "    tractInfo = skymap[tract_id]\n",
    "    if tractInfo.contains(coord):\n",
    "        patchInfo = tractInfo.findPatch(coord)\n",
    "        patch = patchInfo.getIndex()  # Tuple (x, y)\n",
    "        print(f\"Tract: {tract_id}, Patch: {patch}\")\n",
    "        found = True\n",
    "        break"
   ]
  },
  {
   "cell_type": "code",
   "execution_count": null,
   "id": "5d179aba-fa67-4bcc-ab3b-8db62c4493c9",
   "metadata": {
    "execution": {
     "iopub.execute_input": "2025-04-22T19:12:39.549032Z",
     "iopub.status.busy": "2025-04-22T19:12:39.548898Z",
     "iopub.status.idle": "2025-04-22T19:12:52.484465Z",
     "shell.execute_reply": "2025-04-22T19:12:52.483954Z",
     "shell.execute_reply.started": "2025-04-22T19:12:39.549019Z"
    }
   },
   "outputs": [],
   "source": [
    "all_bands = [\"u\",\"g\",\"r\",\"i\",\"y\"]\n",
    "\n",
    "framecount = 0\n",
    "for iband,band in enumerate(all_bands):\n",
    "    framecount +=1\n",
    "    find_tract_patch_and_display(butler, skymap,ra_deg, dec_deg, band,framecount=framecount)"
   ]
  },
  {
   "cell_type": "code",
   "execution_count": null,
   "id": "461a0147-42dc-4479-a778-a14e3ce1abeb",
   "metadata": {},
   "outputs": [],
   "source": []
  },
  {
   "cell_type": "code",
   "execution_count": null,
   "id": "dc27931d-9be7-4892-aa80-37f1260393af",
   "metadata": {},
   "outputs": [],
   "source": []
  }
 ],
 "metadata": {
  "kernelspec": {
   "display_name": "LSST",
   "language": "python",
   "name": "lsst"
  },
  "language_info": {
   "codemirror_mode": {
    "name": "ipython",
    "version": 3
   },
   "file_extension": ".py",
   "mimetype": "text/x-python",
   "name": "python",
   "nbconvert_exporter": "python",
   "pygments_lexer": "ipython3",
   "version": "3.12.9"
  }
 },
 "nbformat": 4,
 "nbformat_minor": 5
}
