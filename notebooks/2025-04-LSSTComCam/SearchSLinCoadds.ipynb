{
 "cells": [
  {
   "cell_type": "markdown",
   "id": "9b5174d8-cdd6-4146-839f-4972f73001b3",
   "metadata": {},
   "source": [
    "## Search SL in LsstComCam"
   ]
  },
  {
   "cell_type": "code",
   "execution_count": null,
   "id": "e51a6d55-e854-4569-8e47-a0b137f0b4e7",
   "metadata": {
    "execution": {
     "iopub.execute_input": "2025-04-22T18:41:11.296131Z",
     "iopub.status.busy": "2025-04-22T18:41:11.296010Z",
     "iopub.status.idle": "2025-04-22T18:41:12.824112Z",
     "shell.execute_reply": "2025-04-22T18:41:12.823619Z",
     "shell.execute_reply.started": "2025-04-22T18:41:11.296117Z"
    }
   },
   "outputs": [],
   "source": [
    "from lsst.daf.butler import Butler\n",
    "from lsst.geom import SpherePoint, degrees\n",
    "import lsst.afw.display as afwDisplay\n",
    "import numpy as np\n",
    "import pandas as pd\n",
    "from astropy.coordinates import SkyCoord\n",
    "import astropy.units as u\n",
    "from lsst.geom import SpherePoint, degrees"
   ]
  },
  {
   "cell_type": "code",
   "execution_count": null,
   "id": "feb3f77f-73ab-4933-8523-2fab93bdaa44",
   "metadata": {
    "execution": {
     "iopub.execute_input": "2025-04-22T18:41:12.824967Z",
     "iopub.status.busy": "2025-04-22T18:41:12.824609Z",
     "iopub.status.idle": "2025-04-22T18:41:12.885352Z",
     "shell.execute_reply": "2025-04-22T18:41:12.884861Z",
     "shell.execute_reply.started": "2025-04-22T18:41:12.824950Z"
    }
   },
   "outputs": [],
   "source": [
    "afwDisplay.setDefaultBackend(\"firefly\")\n",
    "framecount = 1"
   ]
  },
  {
   "cell_type": "code",
   "execution_count": null,
   "id": "65a7218a-4473-428b-8949-5405641902d4",
   "metadata": {
    "execution": {
     "iopub.execute_input": "2025-04-22T18:41:12.886569Z",
     "iopub.status.busy": "2025-04-22T18:41:12.885923Z",
     "iopub.status.idle": "2025-04-22T18:41:12.891517Z",
     "shell.execute_reply": "2025-04-22T18:41:12.891152Z",
     "shell.execute_reply.started": "2025-04-22T18:41:12.886552Z"
    }
   },
   "outputs": [],
   "source": [
    "def find_tract_patch_and_display(butler, skymap,ra_deg, dec_deg, band, framecount):\n",
    "    # Ouvrir le dépôt\n",
    "    #butler = Butler(repo)\n",
    "    #skymap = butler.get(\"skyMap\")\n",
    "    band_to_color = {\"u\":\"blue\",\"g\":\"green\",\"r\":\"red\",\"i\":\"orange\",\"z\":\"yellow\",\"y\":\"purple\"}\n",
    "\n",
    "    datasettype = \"objectTable_tract\"\n",
    "    therefs = butler.registry.queryDatasets(datasettype,  collections=collection)\n",
    "\n",
    "    \n",
    "    # Créer le point céleste\n",
    "    coord = SpherePoint(ra_deg * degrees, dec_deg * degrees)\n",
    "\n",
    "    # Trouver tract/patch\n",
    "#    for tractInfo in skymap:\n",
    "#        if tractInfo.contains(coord):\n",
    "#            patchInfo = tractInfo.findPatch(coord)\n",
    "#            tract = tractInfo.tract\n",
    "#            patch = patchInfo.getIndex()  # Tuple (x, y)\n",
    "#            print(f\"Tract: {tract}, Patch: {patch}\")\n",
    "#            break\n",
    "#    else:\n",
    "#        print(\"Coordonnée en dehors du skymap.\")\n",
    "#.   return\n",
    "    found = False\n",
    "    # loop only on existing tracts\n",
    "    \n",
    "    for ref in therefs:\n",
    "        tract_id = ref.dataId[\"tract\"]\n",
    "        tractInfo = skymap[tract_id]\n",
    "        if tractInfo.contains(coord):\n",
    "            patchInfo = tractInfo.findPatch(coord)\n",
    "            patch_id = patchInfo.getIndex()  # Tuple (x, y)\n",
    "            patch_indexseq = patchInfo.getSequentialIndex()\n",
    "            print(f\"Tract: {tract_id}, Patch: {patch_indexseq}\")\n",
    "            found = True\n",
    "            break\n",
    "    # Charger l’image coadd correspondante\n",
    "    dataId = {\"tract\": tract_id, \"patch\": patch_indexseq, \"band\": band,\"skymap\": skymapName}\n",
    "    #deepCoadd_calexp\n",
    "    coadd = butler.get(\"deepCoadd_calexp\", dataId)\n",
    "    # Récupération du WCS\n",
    "    wcs = coadd.getWcs()\n",
    "\n",
    "    datatitle = f\"deepcoadd-LSSTComCam : {tract_id} , {patch_indexseq} , {band}\"\n",
    "    print(datatitle)\n",
    "\n",
    "    # Affichage avec marqueur\n",
    "    \n",
    "    display = afwDisplay.Display(frame = framecount)\n",
    "    display.scale('asinh', 'zscale')\n",
    "    #afw_display.scale('linear', min=zmin, max=zmax)\n",
    "    #display.setImageColormap(cmap='grey')\n",
    "    display.setImageColormap(cmap='Grey_r')\n",
    "    display.mtv(coadd.getImage(),title=datatitle)\n",
    "\n",
    "    # Création du point céleste\n",
    "    pix_point = wcs.skyToPixel(coord)\n",
    "    x, y = pix_point.x,pix_point.y\n",
    "    \n",
    "    col = band_to_color[band] \n",
    "    display.dot(\"+\", x, y, size=50, ctype=col)\n",
    "    \n",
    "\n",
    "    \n",
    "    return tract_id, patch_indexseq,band"
   ]
  },
  {
   "cell_type": "code",
   "execution_count": null,
   "id": "f00ca36c-793c-4e3c-88e6-79d4991cbcfb",
   "metadata": {
    "execution": {
     "iopub.execute_input": "2025-04-22T18:41:12.892221Z",
     "iopub.status.busy": "2025-04-22T18:41:12.891965Z",
     "iopub.status.idle": "2025-04-22T18:41:12.919132Z",
     "shell.execute_reply": "2025-04-22T18:41:12.918788Z",
     "shell.execute_reply.started": "2025-04-22T18:41:12.892207Z"
    }
   },
   "outputs": [],
   "source": [
    "# The output repo is tagged with the Jira ticket number \"DM-40356\":\n",
    "repo = '/repo/main'\n",
    "#collection = 'LSSTComCam/runs/DRP/DP1/w_2025_05/DM-48666' # work\n",
    "#collection = 'LSSTComCam/runs/DRP/DP1/w_2025_06/DM-48810' # work\n",
    "collection = 'LSSTComCam/runs/DRP/DP1/w_2025_10/DM-49359' # work\n",
    "\n",
    "\n",
    "# bad : crash collection = 'LSSTComCam/runs/DRP/DP1/w_2025_08/DM-49029'\n",
    "\n",
    "# bad : collection = \"LSSTComCam/runs/DRP/20241101_20241211/w_2024_51/DM-48233\"\n",
    "\n",
    "# not working perhaps because I am using w_2025_10 version\n",
    "# bad : no ccd visit collection = \"LSSTComCam/runs/DRP/DP1/w_2025_14/DM-49864\"\n",
    "# bad : no ccd visit collection = 'LSSTComCam/runs/DRP/DP1/w_2025_15/DM-50050'\n",
    "# bad : no cce visit collection = 'LSSTComCam/runs/DRP/DP1/w_2025_14/DM-49864'\n",
    "# bad : no cce visit collection collection = 'LSSTComCam/runs/DRP/DP1/w_2025_13/DM-49751'\n",
    "\n",
    "\n",
    "instrument = \"LSSTComCam\"\n",
    "skymapName = \"lsst_cells_v1\"\n",
    "where_clause = \"instrument = \\'\" + instrument+ \"\\'\"\n",
    "collectionStr = collection.replace(\"/\", \"_\")\n",
    "NDET = 9\n",
    "TRACTSEL = 5063"
   ]
  },
  {
   "cell_type": "code",
   "execution_count": null,
   "id": "58aa7fd0-2818-48e3-9326-e90ec6dc8b8c",
   "metadata": {
    "execution": {
     "iopub.execute_input": "2025-04-22T18:41:12.919714Z",
     "iopub.status.busy": "2025-04-22T18:41:12.919572Z",
     "iopub.status.idle": "2025-04-22T18:41:13.714505Z",
     "shell.execute_reply": "2025-04-22T18:41:13.713998Z",
     "shell.execute_reply.started": "2025-04-22T18:41:12.919701Z"
    }
   },
   "outputs": [],
   "source": [
    "# Initialize the butler repo:\n",
    "butler = Butler(repo, collections=collection)\n",
    "registry = butler.registry\n",
    "skymap = butler.get('skyMap', skymap=skymapName, collections=collection)"
   ]
  },
  {
   "cell_type": "code",
   "execution_count": null,
   "id": "3f1d1f5d-e8da-4777-88f8-8c55e117be31",
   "metadata": {
    "execution": {
     "iopub.execute_input": "2025-04-22T18:41:13.715232Z",
     "iopub.status.busy": "2025-04-22T18:41:13.715086Z",
     "iopub.status.idle": "2025-04-22T18:41:13.718336Z",
     "shell.execute_reply": "2025-04-22T18:41:13.717970Z",
     "shell.execute_reply.started": "2025-04-22T18:41:13.715217Z"
    }
   },
   "outputs": [],
   "source": [
    "# List a number of usefull data-product to explore\n",
    "if 0:\n",
    "    for datasetType in registry.queryDatasetTypes():\n",
    "        if registry.queryDatasets(datasetType, collections=collection).any(\n",
    "            execute=False, exact=False\n",
    "        ):\n",
    "            # Limit search results to the data products\n",
    "            if (\n",
    "                (\"_config\" not in datasetType.name)\n",
    "                and (\"_log\" not in datasetType.name)\n",
    "                and (\"_metadata\" not in datasetType.name)\n",
    "                and (\"_resource_usage\" not in datasetType.name)\n",
    "                and ( \"deepCoadd\" in datasetType.name)\n",
    "            ):\n",
    "                print(datasetType)"
   ]
  },
  {
   "cell_type": "code",
   "execution_count": null,
   "id": "ac15c290-0c54-4713-852f-0e1a2130ec46",
   "metadata": {
    "execution": {
     "iopub.execute_input": "2025-04-22T18:41:13.718942Z",
     "iopub.status.busy": "2025-04-22T18:41:13.718808Z",
     "iopub.status.idle": "2025-04-22T18:41:13.726655Z",
     "shell.execute_reply": "2025-04-22T18:41:13.726286Z",
     "shell.execute_reply.started": "2025-04-22T18:41:13.718928Z"
    }
   },
   "outputs": [],
   "source": [
    "#find_tract_patch_and_display(repo, ra, dec, band=\"i\")"
   ]
  },
  {
   "cell_type": "markdown",
   "id": "1ae2ec07-d554-4828-a6e3-e51ab219f23d",
   "metadata": {},
   "source": [
    "## Definition of SL in ECDFS"
   ]
  },
  {
   "cell_type": "code",
   "execution_count": null,
   "id": "fb074077-c21b-470e-861f-c1db708ba5a4",
   "metadata": {
    "execution": {
     "iopub.execute_input": "2025-04-22T18:41:13.727260Z",
     "iopub.status.busy": "2025-04-22T18:41:13.727125Z",
     "iopub.status.idle": "2025-04-22T18:41:13.747125Z",
     "shell.execute_reply": "2025-04-22T18:41:13.746722Z",
     "shell.execute_reply.started": "2025-04-22T18:41:13.727247Z"
    }
   },
   "outputs": [],
   "source": [
    "sources = {}\n",
    "sources[15422] = SkyCoord(\"03 32 38.21 -27 56 53.2\", unit = (u.hourangle,u.deg))  \n",
    "sources[4244] =  SkyCoord(\"03 32 06.45 -27 47 28.6\",  unit = (u.hourangle,u.deg)) \n",
    "sources[40173] = SkyCoord(\"03 33 19.45 -27 44 50.0\", unit = (u.hourangle,u.deg)) "
   ]
  },
  {
   "cell_type": "code",
   "execution_count": null,
   "id": "93e084d2-6ed8-44a9-a3aa-090906a160b1",
   "metadata": {
    "execution": {
     "iopub.execute_input": "2025-04-22T18:41:13.747817Z",
     "iopub.status.busy": "2025-04-22T18:41:13.747684Z",
     "iopub.status.idle": "2025-04-22T18:41:13.750776Z",
     "shell.execute_reply": "2025-04-22T18:41:13.750420Z",
     "shell.execute_reply.started": "2025-04-22T18:41:13.747803Z"
    }
   },
   "outputs": [],
   "source": [
    "sources[43242] = SkyCoord(\"03 31 55.35 -27 43 23.5\", unit = (u.hourangle,u.deg)) \n",
    "sources[46446] = SkyCoord(\"03 31 35.94 -27 41 48.2\", unit = (u.hourangle,u.deg))  "
   ]
  },
  {
   "cell_type": "markdown",
   "id": "d159c037-bad7-4040-b39c-10e5454056ac",
   "metadata": {},
   "source": [
    "## Check the DeepCoadds"
   ]
  },
  {
   "cell_type": "code",
   "execution_count": null,
   "id": "7cac4f0c-7edb-40dc-a243-a7ca322a1b89",
   "metadata": {
    "execution": {
     "iopub.execute_input": "2025-04-22T18:41:13.751311Z",
     "iopub.status.busy": "2025-04-22T18:41:13.751180Z",
     "iopub.status.idle": "2025-04-22T18:41:13.756933Z",
     "shell.execute_reply": "2025-04-22T18:41:13.756605Z",
     "shell.execute_reply.started": "2025-04-22T18:41:13.751298Z"
    }
   },
   "outputs": [],
   "source": [
    "from warnings import simplefilter\n",
    "simplefilter(action=\"ignore\", category=pd.errors.PerformanceWarning)"
   ]
  },
  {
   "cell_type": "code",
   "execution_count": null,
   "id": "264ac976-1822-480b-8c33-d8df8d6ea6b0",
   "metadata": {
    "execution": {
     "iopub.execute_input": "2025-04-22T18:41:13.757563Z",
     "iopub.status.busy": "2025-04-22T18:41:13.757435Z",
     "iopub.status.idle": "2025-04-22T18:41:15.157081Z",
     "shell.execute_reply": "2025-04-22T18:41:15.156616Z",
     "shell.execute_reply.started": "2025-04-22T18:41:13.757551Z"
    }
   },
   "outputs": [],
   "source": [
    "datasettype = \"deepCoadd_calexp\"\n",
    "df_tractpatchband = pd.DataFrame(columns = [\"tract\",\"patch\",\"band\"])\n",
    "therefs = butler.registry.queryDatasets(datasettype,  collections=collection)\n",
    "for count,ref in enumerate(therefs):\n",
    "    df_tractpatchband.loc[count] =  [int(ref.dataId[\"tract\"]), int(ref.dataId[\"patch\"]), ref.dataId[\"band\"]]"
   ]
  },
  {
   "cell_type": "code",
   "execution_count": null,
   "id": "79e170be-998b-4cd5-bb27-5c07a8d9d0df",
   "metadata": {
    "execution": {
     "iopub.execute_input": "2025-04-22T18:41:15.157758Z",
     "iopub.status.busy": "2025-04-22T18:41:15.157615Z",
     "iopub.status.idle": "2025-04-22T18:41:15.161784Z",
     "shell.execute_reply": "2025-04-22T18:41:15.161416Z",
     "shell.execute_reply.started": "2025-04-22T18:41:15.157742Z"
    }
   },
   "outputs": [],
   "source": [
    "df_tractpatchband.sort_values(by=['tract', 'patch','band'],inplace=True)\n",
    "df_tractpatchband.reset_index(drop=True,inplace=True)"
   ]
  },
  {
   "cell_type": "code",
   "execution_count": null,
   "id": "f886b714-4c8d-4a58-befe-64c9e858865f",
   "metadata": {
    "execution": {
     "iopub.execute_input": "2025-04-22T18:41:15.162456Z",
     "iopub.status.busy": "2025-04-22T18:41:15.162207Z",
     "iopub.status.idle": "2025-04-22T18:41:15.175488Z",
     "shell.execute_reply": "2025-04-22T18:41:15.175139Z",
     "shell.execute_reply.started": "2025-04-22T18:41:15.162441Z"
    }
   },
   "outputs": [],
   "source": [
    "df_tractpatchband[df_tractpatchband.tract == TRACTSEL]"
   ]
  },
  {
   "cell_type": "code",
   "execution_count": null,
   "id": "5c4381b7-77fe-4b67-a025-6551714a8cc5",
   "metadata": {
    "execution": {
     "iopub.execute_input": "2025-04-22T18:41:15.176020Z",
     "iopub.status.busy": "2025-04-22T18:41:15.175891Z",
     "iopub.status.idle": "2025-04-22T18:41:17.192431Z",
     "shell.execute_reply": "2025-04-22T18:41:17.191938Z",
     "shell.execute_reply.started": "2025-04-22T18:41:15.176007Z"
    }
   },
   "outputs": [],
   "source": [
    "dataId = {\"tract\": TRACTSEL, \"patch\": 0, \"band\": \"g\",\"skymap\": skymapName}\n",
    "#deepCoadd_calexp\n",
    "coadd = butler.get(\"deepCoadd_calexp\", dataId)"
   ]
  },
  {
   "cell_type": "code",
   "execution_count": null,
   "id": "234caf2f-65d7-48c6-9585-7a9fe46ad209",
   "metadata": {
    "execution": {
     "iopub.execute_input": "2025-04-22T18:41:17.193581Z",
     "iopub.status.busy": "2025-04-22T18:41:17.193039Z",
     "iopub.status.idle": "2025-04-22T18:41:17.197438Z",
     "shell.execute_reply": "2025-04-22T18:41:17.197052Z",
     "shell.execute_reply.started": "2025-04-22T18:41:17.193562Z"
    }
   },
   "outputs": [],
   "source": [
    "coadd.image"
   ]
  },
  {
   "cell_type": "code",
   "execution_count": null,
   "id": "35fac583-79c1-41c3-9135-bf7c56a691a9",
   "metadata": {
    "execution": {
     "iopub.execute_input": "2025-04-22T18:41:17.198062Z",
     "iopub.status.busy": "2025-04-22T18:41:17.197916Z",
     "iopub.status.idle": "2025-04-22T18:41:17.205405Z",
     "shell.execute_reply": "2025-04-22T18:41:17.205025Z",
     "shell.execute_reply.started": "2025-04-22T18:41:17.198046Z"
    }
   },
   "outputs": [],
   "source": [
    "#display = afwDisplay.Display(frame=2)\n",
    "#display.scale(\"asinh\", \"zscale\")\n",
    "#display.mtv(coadd.image)"
   ]
  },
  {
   "cell_type": "code",
   "execution_count": null,
   "id": "d2e12621-7537-4bc6-8b4e-c0841dbe4fce",
   "metadata": {
    "execution": {
     "iopub.execute_input": "2025-04-22T18:41:17.206182Z",
     "iopub.status.busy": "2025-04-22T18:41:17.206038Z",
     "iopub.status.idle": "2025-04-22T18:41:17.212219Z",
     "shell.execute_reply": "2025-04-22T18:41:17.211856Z",
     "shell.execute_reply.started": "2025-04-22T18:41:17.206167Z"
    }
   },
   "outputs": [],
   "source": [
    "#wcs = coadd.getWcs()"
   ]
  },
  {
   "cell_type": "markdown",
   "id": "d18ec997-d8aa-417a-aab0-17ac025a818c",
   "metadata": {},
   "source": [
    "## Get images"
   ]
  },
  {
   "cell_type": "code",
   "execution_count": null,
   "id": "2bef7efb-6926-48dc-8881-e7728e93b8fe",
   "metadata": {
    "execution": {
     "iopub.execute_input": "2025-04-22T18:41:17.212961Z",
     "iopub.status.busy": "2025-04-22T18:41:17.212824Z",
     "iopub.status.idle": "2025-04-22T18:41:17.220203Z",
     "shell.execute_reply": "2025-04-22T18:41:17.219824Z",
     "shell.execute_reply.started": "2025-04-22T18:41:17.212947Z"
    }
   },
   "outputs": [],
   "source": [
    "num = 15422"
   ]
  },
  {
   "cell_type": "code",
   "execution_count": null,
   "id": "54005f2e-6397-4dd3-b8d1-0e0e1251adb0",
   "metadata": {
    "execution": {
     "iopub.execute_input": "2025-04-22T18:41:17.220897Z",
     "iopub.status.busy": "2025-04-22T18:41:17.220763Z",
     "iopub.status.idle": "2025-04-22T18:41:17.227863Z",
     "shell.execute_reply": "2025-04-22T18:41:17.227466Z",
     "shell.execute_reply.started": "2025-04-22T18:41:17.220883Z"
    }
   },
   "outputs": [],
   "source": [
    "ra_deg = float(sources[num].ra.degree)\n",
    "dec_deg = float(sources[num].dec.degree)"
   ]
  },
  {
   "cell_type": "code",
   "execution_count": null,
   "id": "48759746-9bb6-476a-b283-c6213630eb5b",
   "metadata": {
    "execution": {
     "iopub.execute_input": "2025-04-22T18:41:17.230900Z",
     "iopub.status.busy": "2025-04-22T18:41:17.230539Z",
     "iopub.status.idle": "2025-04-22T18:41:17.308681Z",
     "shell.execute_reply": "2025-04-22T18:41:17.308241Z",
     "shell.execute_reply.started": "2025-04-22T18:41:17.230886Z"
    }
   },
   "outputs": [],
   "source": [
    "datasettype = \"objectTable_tract\"\n",
    "therefs = butler.registry.queryDatasets(datasettype,  collections=collection)\n",
    "tractsId_list = np.unique([float(ref.dataId['tract']) for ref in therefs])\n",
    "tractsId_list = sorted(tractsId_list)\n",
    "print(tractsId_list)"
   ]
  },
  {
   "cell_type": "code",
   "execution_count": null,
   "id": "30188e74-a322-48ca-9fac-f49690f5ada8",
   "metadata": {
    "execution": {
     "iopub.execute_input": "2025-04-22T18:41:17.309252Z",
     "iopub.status.busy": "2025-04-22T18:41:17.309109Z",
     "iopub.status.idle": "2025-04-22T18:41:17.329060Z",
     "shell.execute_reply": "2025-04-22T18:41:17.328666Z",
     "shell.execute_reply.started": "2025-04-22T18:41:17.309237Z"
    }
   },
   "outputs": [],
   "source": [
    "# Créer le point céleste\n",
    "coord = SpherePoint(ra_deg * degrees, dec_deg * degrees)\n",
    "found = False\n",
    "for ref in therefs:\n",
    "    tract_id = ref.dataId[\"tract\"]\n",
    "    tractInfo = skymap[tract_id]\n",
    "    if tractInfo.contains(coord):\n",
    "        patchInfo = tractInfo.findPatch(coord)\n",
    "        patch = patchInfo.getIndex()  # Tuple (x, y)\n",
    "        print(f\"Tract: {tract_id}, Patch: {patch}\")\n",
    "        found = True\n",
    "        break"
   ]
  },
  {
   "cell_type": "code",
   "execution_count": null,
   "id": "5d179aba-fa67-4bcc-ab3b-8db62c4493c9",
   "metadata": {
    "execution": {
     "iopub.execute_input": "2025-04-22T18:41:17.329641Z",
     "iopub.status.busy": "2025-04-22T18:41:17.329498Z",
     "iopub.status.idle": "2025-04-22T18:41:33.986105Z",
     "shell.execute_reply": "2025-04-22T18:41:33.985574Z",
     "shell.execute_reply.started": "2025-04-22T18:41:17.329626Z"
    }
   },
   "outputs": [],
   "source": [
    "all_bands = [\"g\",\"r\",\"i\",\"y\"]\n",
    "\n",
    "framecount = 0\n",
    "for iband,band in enumerate(all_bands):\n",
    "    framecount +=1\n",
    "    find_tract_patch_and_display(butler, skymap,ra_deg, dec_deg, band,framecount=framecount)"
   ]
  },
  {
   "cell_type": "code",
   "execution_count": null,
   "id": "461a0147-42dc-4479-a778-a14e3ce1abeb",
   "metadata": {},
   "outputs": [],
   "source": []
  },
  {
   "cell_type": "code",
   "execution_count": null,
   "id": "dc27931d-9be7-4892-aa80-37f1260393af",
   "metadata": {},
   "outputs": [],
   "source": []
  }
 ],
 "metadata": {
  "kernelspec": {
   "display_name": "LSST",
   "language": "python",
   "name": "lsst"
  },
  "language_info": {
   "codemirror_mode": {
    "name": "ipython",
    "version": 3
   },
   "file_extension": ".py",
   "mimetype": "text/x-python",
   "name": "python",
   "nbconvert_exporter": "python",
   "pygments_lexer": "ipython3",
   "version": "3.12.9"
  }
 },
 "nbformat": 4,
 "nbformat_minor": 5
}
