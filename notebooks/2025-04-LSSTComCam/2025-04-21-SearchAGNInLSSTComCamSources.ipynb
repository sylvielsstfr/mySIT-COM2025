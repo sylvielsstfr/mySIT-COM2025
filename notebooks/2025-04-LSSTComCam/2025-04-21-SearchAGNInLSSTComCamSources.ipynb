{
 "cells": [
  {
   "cell_type": "markdown",
   "id": "8f3da262-37ed-407f-908c-8ac5a52cb4db",
   "metadata": {},
   "source": [
    "# Search for AGN in the Extended Chandra Deep Field South\n",
    "\n",
    "- Confluence page : https://rubinobs.atlassian.net/wiki/spaces/LSSTCOM/pages/372867091/System-level+Science+Performance+Verification+Sprint\n",
    "- slides : https://docs.google.com/presentation/d/1bPjS5NGtiEL2lfjmvP1UYdG_tMEDfZxX26ayhf7MhtY/edit#slide=id.ga2f7fb1a1f_0_70"
   ]
  },
  {
   "cell_type": "markdown",
   "id": "f3737976-eab8-4483-a79d-796f738c4f22",
   "metadata": {},
   "source": [
    "- where to find the campains\n",
    "- https://rubinobs.atlassian.net/wiki/spaces/DM/pages/226656354/LSSTComCam+Intermittent+Cumulative+DRP+Runs\n",
    "\n",
    "- plot Navigator\n",
    "- https://usdf-rsp.slac.stanford.edu/plot-navigator\n",
    "- https://usdf-rsp.slac.stanford.edu/plot-navigator/plot/%2Frepo%2Fmain/LSSTComCam%2Fruns%2FDRP%2FDP1%2Fw_2025_05%2FDM-48666/objectTableCore_coaddInputCount_SkyPlot"
   ]
  },
  {
   "cell_type": "markdown",
   "id": "53b4594d-5de5-4fa1-8ada-f60f0018cac5",
   "metadata": {},
   "source": [
    "- Notebooks examples\n",
    "- https://github.com/lsst-dm/DMTR-401/blob/main/notebooks/test_LVV-T40_T1240.ipynb\n",
    "- https://github.com/lsst-dm/DMTR-412/blob/tickets/DM-38728/notebooks/test_LVV-T1751_AM1_AM2.ipynb"
   ]
  },
  {
   "cell_type": "markdown",
   "id": "8402aac4-562a-40cd-ac2b-c1ca76cae55b",
   "metadata": {},
   "source": [
    "- author : Sylvie Dagoret-Campagne\n",
    "- creattion date : 2025-02-13\n",
    "- update : 2025-02-19\n",
    "- last update : 2025-04-21\n",
    "- Redo Visits like here : https://github.com/sylvielsstfr/LSST-Rehearsal2024/blob/main/notebooks/Visits/stat_on_visits_LSSTComCamSim.ipynb\n",
    "- To find what I did on LSSTComCamSim : https://github.com/sylvielsstfr/LSST-Rehearsal2024/blob/main/notebooks/LightCurves/MultiColor_lightCurves-DMRehearsal2024_01-AuxTel-DZPOnCCD.ipynb\n",
    "- **Confluence page** : https://rubinobs.atlassian.net/wiki/spaces/LSSTCOM/pages/443613290/Science+Verification+Sprint+Feb+2025\n"
   ]
  },
  {
   "cell_type": "code",
   "execution_count": null,
   "id": "9d583412-a5a0-456e-84be-1fb658ddf016",
   "metadata": {
    "execution": {
     "iopub.execute_input": "2025-04-21T16:48:23.119624Z",
     "iopub.status.busy": "2025-04-21T16:48:23.119358Z",
     "iopub.status.idle": "2025-04-21T16:48:24.174704Z",
     "shell.execute_reply": "2025-04-21T16:48:24.174072Z",
     "shell.execute_reply.started": "2025-04-21T16:48:23.119608Z"
    }
   },
   "outputs": [],
   "source": [
    "# Confirm that the version of the Science Pipelines is recent:\n",
    "! echo $HOSTNAME\n",
    "! eups list -s | grep lsst_distrib"
   ]
  },
  {
   "cell_type": "code",
   "execution_count": null,
   "id": "8fbb9671-7d8e-4724-8c58-0f0a4fb9e5f0",
   "metadata": {
    "execution": {
     "iopub.execute_input": "2025-04-21T16:48:24.175955Z",
     "iopub.status.busy": "2025-04-21T16:48:24.175428Z",
     "iopub.status.idle": "2025-04-21T16:48:25.268635Z",
     "shell.execute_reply": "2025-04-21T16:48:25.267975Z",
     "shell.execute_reply.started": "2025-04-21T16:48:24.175933Z"
    }
   },
   "outputs": [],
   "source": [
    "from lsst.daf.butler import Butler\n",
    "import lsst.geom as geom\n",
    "from lsst.geom import SpherePoint, degrees"
   ]
  },
  {
   "cell_type": "code",
   "execution_count": null,
   "id": "e814e3d6-750c-4e7f-a9a5-5bf1e2f7205f",
   "metadata": {
    "execution": {
     "iopub.execute_input": "2025-04-21T16:48:25.269466Z",
     "iopub.status.busy": "2025-04-21T16:48:25.269302Z",
     "iopub.status.idle": "2025-04-21T16:48:26.547695Z",
     "shell.execute_reply": "2025-04-21T16:48:26.547205Z",
     "shell.execute_reply.started": "2025-04-21T16:48:25.269449Z"
    }
   },
   "outputs": [],
   "source": [
    "import os\n",
    "import gc\n",
    "import glob\n",
    "import numpy as np\n",
    "import pandas as pd\n",
    "import random\n",
    "\n",
    "import astropy.units as u\n",
    "from astropy.coordinates import SkyCoord\n",
    "from astroquery.gaia import Gaia\n",
    "Gaia.MAIN_GAIA_TABLE = \"gaiadr3.gaia_source\"  # Reselect Data Release 3, default\n",
    "Gaia.ROW_LIMIT = 100000\n",
    "from astropy.visualization import (MinMaxInterval, AsinhStretch, ZScaleInterval, LogStretch, LinearStretch,\n",
    "                                   ImageNormalize)"
   ]
  },
  {
   "cell_type": "code",
   "execution_count": null,
   "id": "e68df967-7870-47da-a4dd-760df6732aa5",
   "metadata": {
    "execution": {
     "iopub.execute_input": "2025-04-21T16:48:26.548768Z",
     "iopub.status.busy": "2025-04-21T16:48:26.548322Z",
     "iopub.status.idle": "2025-04-21T16:48:27.377220Z",
     "shell.execute_reply": "2025-04-21T16:48:27.376734Z",
     "shell.execute_reply.started": "2025-04-21T16:48:26.548744Z"
    }
   },
   "outputs": [],
   "source": [
    "import seaborn as sns\n",
    "from itertools import cycle, islice"
   ]
  },
  {
   "cell_type": "code",
   "execution_count": null,
   "id": "f385c649-efb6-40a8-b9f7-ebc65c441a04",
   "metadata": {
    "execution": {
     "iopub.execute_input": "2025-04-21T16:48:27.378050Z",
     "iopub.status.busy": "2025-04-21T16:48:27.377765Z",
     "iopub.status.idle": "2025-04-21T16:48:27.380443Z",
     "shell.execute_reply": "2025-04-21T16:48:27.380046Z",
     "shell.execute_reply.started": "2025-04-21T16:48:27.378032Z"
    }
   },
   "outputs": [],
   "source": [
    "from astropy.time import Time\n",
    "from datetime import datetime, timedelta"
   ]
  },
  {
   "cell_type": "code",
   "execution_count": null,
   "id": "46c68d72-750b-4bb9-b92a-1fe6e1728171",
   "metadata": {
    "execution": {
     "iopub.execute_input": "2025-04-21T16:48:27.381267Z",
     "iopub.status.busy": "2025-04-21T16:48:27.380895Z",
     "iopub.status.idle": "2025-04-21T16:48:27.394119Z",
     "shell.execute_reply": "2025-04-21T16:48:27.393723Z",
     "shell.execute_reply.started": "2025-04-21T16:48:27.381250Z"
    }
   },
   "outputs": [],
   "source": [
    "import lsst\n",
    "import lsst.geom as geom\n",
    "from lsst.geom import Angle\n",
    "from lsst.geom import SpherePoint\n",
    "from lsst.geom import AngleUnit"
   ]
  },
  {
   "cell_type": "code",
   "execution_count": null,
   "id": "2bbb53e9-e293-4ea7-ae47-c78930ce5d93",
   "metadata": {
    "execution": {
     "iopub.execute_input": "2025-04-21T16:48:27.394868Z",
     "iopub.status.busy": "2025-04-21T16:48:27.394574Z",
     "iopub.status.idle": "2025-04-21T16:48:27.404911Z",
     "shell.execute_reply": "2025-04-21T16:48:27.404452Z",
     "shell.execute_reply.started": "2025-04-21T16:48:27.394851Z"
    }
   },
   "outputs": [],
   "source": [
    "# https://pipelines.lsst.io/modules/lsst.geom/getting-started.html\n",
    "func_degToRad = lambda x : Angle(x,lsst.geom.degrees).asRadians()"
   ]
  },
  {
   "cell_type": "code",
   "execution_count": null,
   "id": "5af15c53-1d3f-42ee-81d8-508a2daa56c0",
   "metadata": {
    "execution": {
     "iopub.execute_input": "2025-04-21T16:48:27.405798Z",
     "iopub.status.busy": "2025-04-21T16:48:27.405451Z",
     "iopub.status.idle": "2025-04-21T16:48:27.433389Z",
     "shell.execute_reply": "2025-04-21T16:48:27.432980Z",
     "shell.execute_reply.started": "2025-04-21T16:48:27.405779Z"
    }
   },
   "outputs": [],
   "source": [
    "# Set plotting defaults\n",
    "%matplotlib inline\n",
    "import matplotlib.pyplot as plt\n",
    "from matplotlib.ticker import FormatStrFormatter\n",
    "from matplotlib.colors import ListedColormap\n",
    "from matplotlib import colors\n",
    "zscale = ZScaleInterval()\n",
    "\n",
    "# Set up some plotting defaults:\n",
    "plt.rcParams.update({'figure.figsize' : (12, 8)})\n",
    "plt.rcParams.update({'font.size' : 24})\n",
    "plt.rcParams.update({'axes.linewidth' : 3})\n",
    "plt.rcParams.update({'axes.labelweight' : 3})\n",
    "plt.rcParams.update({'axes.titleweight' : 5})\n",
    "plt.rcParams.update({'ytick.major.width' : 3})\n",
    "plt.rcParams.update({'ytick.minor.width' : 2})\n",
    "plt.rcParams.update({'ytick.major.size' : 8})\n",
    "plt.rcParams.update({'ytick.minor.size' : 5})\n",
    "plt.rcParams.update({'xtick.major.size' : 8})\n",
    "plt.rcParams.update({'xtick.minor.size' : 5})\n",
    "plt.rcParams.update({'xtick.major.width' : 3})\n",
    "plt.rcParams.update({'xtick.minor.width' : 2})\n",
    "plt.rcParams.update({'xtick.direction' : 'in'})\n",
    "plt.rcParams.update({'ytick.direction' : 'in'})\n"
   ]
  },
  {
   "cell_type": "code",
   "execution_count": null,
   "id": "352858ec-5409-4046-89c4-d9a41f2a400e",
   "metadata": {
    "execution": {
     "iopub.execute_input": "2025-04-21T16:48:27.434028Z",
     "iopub.status.busy": "2025-04-21T16:48:27.433885Z",
     "iopub.status.idle": "2025-04-21T16:48:27.438373Z",
     "shell.execute_reply": "2025-04-21T16:48:27.437989Z",
     "shell.execute_reply.started": "2025-04-21T16:48:27.434013Z"
    }
   },
   "outputs": [],
   "source": [
    "def angle_in_range(alpha, lower, upper):\n",
    "    return (alpha - lower) % 360 <= (upper - lower) % 360"
   ]
  },
  {
   "cell_type": "code",
   "execution_count": null,
   "id": "c2e61470-5dd3-4b6e-b800-a25bedfc0a7e",
   "metadata": {
    "execution": {
     "iopub.execute_input": "2025-04-21T16:48:27.438968Z",
     "iopub.status.busy": "2025-04-21T16:48:27.438830Z",
     "iopub.status.idle": "2025-04-21T16:48:27.454966Z",
     "shell.execute_reply": "2025-04-21T16:48:27.454570Z",
     "shell.execute_reply.started": "2025-04-21T16:48:27.438954Z"
    }
   },
   "outputs": [],
   "source": [
    "def get_bbox_radec(wcs, bbox):\n",
    "    \"\"\"\n",
    "    Return the corners in RA,Dec in degrees given the WCS and bounding box for an image.\n",
    "\n",
    "    Parameters\n",
    "    ----------\n",
    "    wcs: image WCS returned by the Butler\n",
    "    bbox: bounding box returned by the Butler\n",
    "\n",
    "    Returns\n",
    "    -------\n",
    "    ramin,ramax,decmin,decmax in decimal degrees\n",
    "    \"\"\"\n",
    "\n",
    "    xmin = bbox.beginX\n",
    "    xmax = bbox.endX\n",
    "    ymin = bbox.beginY\n",
    "    ymax = bbox.endY\n",
    "    \n",
    "    radec_ll = wcs.pixelToSky(xmin, ymin)\n",
    "    radec_ur = wcs.pixelToSky(xmax, ymax)\n",
    "        \n",
    "    return radec_ur.getRa().asDegrees(),radec_ll.getRa().asDegrees(), radec_ll.getDec().asDegrees(),radec_ur.getDec().asDegrees() \n"
   ]
  },
  {
   "cell_type": "code",
   "execution_count": null,
   "id": "57faae1f-6bc6-4784-9005-2555cfbf52ee",
   "metadata": {
    "execution": {
     "iopub.execute_input": "2025-04-21T16:48:27.455563Z",
     "iopub.status.busy": "2025-04-21T16:48:27.455415Z",
     "iopub.status.idle": "2025-04-21T16:48:27.463692Z",
     "shell.execute_reply": "2025-04-21T16:48:27.463302Z",
     "shell.execute_reply.started": "2025-04-21T16:48:27.455549Z"
    }
   },
   "outputs": [],
   "source": [
    "def isradec_inbbox_angularsep(ra,dec,wcs, bbox):\n",
    "    \"\"\"\n",
    "    Return the corners in RA,Dec in degrees given the WCS and bounding box for an image.\n",
    "\n",
    "    Parameters\n",
    "    ----------\n",
    "    ra: ra in degree\n",
    "    dec: dec in degree\n",
    "    wcs: image WCS returned by the Butler\n",
    "    bbox: bounding box returned by the Butler\n",
    "\n",
    "    Returns\n",
    "    -------\n",
    "    float in degree\n",
    "    \n",
    "    \"\"\"\n",
    "\n",
    "   \n",
    "    RAMIN,RAMAX,DECMIN,DECMAX = get_bbox_radec(wcs, bbox)\n",
    "  \n",
    "    RAMEAN = np.mean([RAMIN,RAMAX])\n",
    "    DECMEAN = np.mean([DECMIN,DECMAX])\n",
    "\n",
    "    sp0 = SpherePoint(longitude=geom.Angle(ra,geom.degrees),latitude=geom.Angle(dec,geom.degrees))\n",
    "    sp1 = SpherePoint(longitude=geom.Angle(RAMEAN,geom.degrees),latitude=geom.Angle(DECMEAN,geom.degrees)) \n",
    "    \n",
    "    sep = sp0.separation(sp1).asDegrees()\n",
    "     \n",
    "    return sep\n"
   ]
  },
  {
   "cell_type": "code",
   "execution_count": null,
   "id": "fed836bf-cd9f-4de1-92ff-d62f4f87f60a",
   "metadata": {
    "execution": {
     "iopub.execute_input": "2025-04-21T16:48:27.464285Z",
     "iopub.status.busy": "2025-04-21T16:48:27.464151Z",
     "iopub.status.idle": "2025-04-21T16:48:27.475323Z",
     "shell.execute_reply": "2025-04-21T16:48:27.474930Z",
     "shell.execute_reply.started": "2025-04-21T16:48:27.464271Z"
    }
   },
   "outputs": [],
   "source": [
    "def isradec_inbbox_radec(ra,dec,wcs, bbox):\n",
    "    \"\"\"\n",
    "    Return the corners in RA,Dec in degrees given the WCS and bounding box for an image.\n",
    "\n",
    "    Parameters\n",
    "    ----------\n",
    "    ra: ra in degree\n",
    "    dec: dec in degree\n",
    "    wcs: image WCS returned by the Butler\n",
    "    bbox: bounding box returned by the Butler\n",
    "\n",
    "    Returns\n",
    "    -------\n",
    "    Bool\n",
    "    \n",
    "    \"\"\"\n",
    "\n",
    "    RAMIN,RAMAX,DECMIN,DECMAX = get_bbox_radec(wcs, bbox)\n",
    "\n",
    "    flag_ra = angle_in_range(ra,RAMIN,RAMAX)\n",
    "    flag_dec = angle_in_range(dec,DECMIN,DECMAX)\n",
    "\n",
    "    flag = flag_ra and flag_dec\n",
    "    return flag\n"
   ]
  },
  {
   "cell_type": "code",
   "execution_count": null,
   "id": "a86f902b-bf08-4874-a2ae-85d5c20907b7",
   "metadata": {
    "execution": {
     "iopub.execute_input": "2025-04-21T16:48:27.475935Z",
     "iopub.status.busy": "2025-04-21T16:48:27.475792Z",
     "iopub.status.idle": "2025-04-21T16:48:27.487237Z",
     "shell.execute_reply": "2025-04-21T16:48:27.486844Z",
     "shell.execute_reply.started": "2025-04-21T16:48:27.475921Z"
    }
   },
   "outputs": [],
   "source": [
    "def FindTractAndPatch(row):\n",
    "    \"\"\"\n",
    "    Apply this function on ccdvisitTable dataframe to find the tract and patch for each visit\n",
    "    \"\"\"\n",
    "     \n",
    "    try:\n",
    "        ra = row[\"ra\"]\n",
    "        dec = row[\"dec\"]\n",
    "        selectFlag = False\n",
    "        # loop on tract\n",
    "        for tractID in tractsId_list:\n",
    "            tractInfo = skymap.generateTract(tractID)\n",
    "            patches_selected = [patch.getSequentialIndex() for patch in tractInfo]\n",
    "            wcs=tractInfo.getWcs()\n",
    "            # loop on patches\n",
    "            for patch in tractInfo:\n",
    "                patchID = patch.getSequentialIndex()\n",
    "                if patchID in patches_selected:\n",
    "                    ibb=patch.getInnerBBox()\n",
    "                    flag = isradec_inbbox_radec(ra,dec,wcs, ibb)\n",
    "                    selectFlag =  selectFlag or flag\n",
    "                    if selectFlag:\n",
    "                        return pd.Series([tractID,patchID])\n",
    "        return pd.Series([0,0])           \n",
    "                \n",
    "    except Exception as inst:\n",
    "        print(type(inst))    # the exception type\n",
    "        print(inst.args)     # arguments stored in .args\n",
    "        print(inst)          # __str__ allows args to be printed directly,\n",
    "        return pd.Series([0,0])  \n",
    "        "
   ]
  },
  {
   "cell_type": "code",
   "execution_count": null,
   "id": "97d63db3-29a2-478f-8ebe-19108a12ee50",
   "metadata": {
    "execution": {
     "iopub.execute_input": "2025-04-21T16:48:27.487836Z",
     "iopub.status.busy": "2025-04-21T16:48:27.487694Z",
     "iopub.status.idle": "2025-04-21T16:48:27.502355Z",
     "shell.execute_reply": "2025-04-21T16:48:27.501997Z",
     "shell.execute_reply.started": "2025-04-21T16:48:27.487822Z"
    }
   },
   "outputs": [],
   "source": [
    "def FindTractAndPatchFromAngularSep(row):\n",
    "    \"\"\"\n",
    "    Apply this function on ccdvisitTable dataframe to find the tract and patch for each visit\n",
    "    Need the tractsId_list not to scan the whole skymap\n",
    "    \"\"\"\n",
    "\n",
    "     \n",
    "    try:\n",
    "        ra = row[\"ra\"]\n",
    "        dec = row[\"dec\"]\n",
    "        \n",
    "        # loop on tracts\n",
    "        List_of_tractids = []\n",
    "        List_of_patchids = []\n",
    "        List_of_sep = []\n",
    "        \n",
    "        for tractID in tractsId_list:\n",
    "            tractInfo = skymap.generateTract(tractID)\n",
    "            patches_selected = [patch.getSequentialIndex() for patch in tractInfo]\n",
    "         \n",
    "            wcs=tractInfo.getWcs()\n",
    "            # loop on patches\n",
    "            patches_ids = []\n",
    "            patches_sep = []\n",
    "            # loop on patches\n",
    "            for patch in tractInfo:\n",
    "                patchID = patch.getSequentialIndex()\n",
    "                if patchID in patches_selected:\n",
    "                    ibb=patch.getInnerBBox()\n",
    "                  \n",
    "                    sep = isradec_inbbox_angularsep(ra,dec,wcs, ibb)\n",
    "                    patches_ids.append(patchID)\n",
    "                    patches_sep.append(sep)\n",
    "                    \n",
    "            # find the patch with the minimum distance\n",
    "            patches_ids=np.array(patches_ids)\n",
    "            patches_sep= np.array(patches_sep)\n",
    "            idx_sepmin = int(np.where(patches_sep==patches_sep.min())[0])\n",
    "            \n",
    "            \n",
    "            List_of_tractids.append(tractID)\n",
    "            List_of_patchids.append(patches_ids[idx_sepmin])\n",
    "            List_of_sep.append(patches_sep[idx_sepmin])\n",
    "            \n",
    "        List_of_tractids=np.array(List_of_tractids)\n",
    "        List_of_patchids=np.array(List_of_patchids)\n",
    "        List_of_sep= np.array(List_of_sep)\n",
    "        idx_sepmin = int(np.where(List_of_sep==List_of_sep.min())[0])\n",
    "\n",
    "        tractID_sel = List_of_tractids[idx_sepmin]\n",
    "        patchID_sel = List_of_patchids[idx_sepmin]\n",
    "       \n",
    "            \n",
    "        return pd.Series([tractID_sel,patchID_sel])\n",
    "               \n",
    "                \n",
    "    except Exception as inst:\n",
    "        print(type(inst))    # the exception type\n",
    "        print(inst.args)     # arguments stored in .args\n",
    "        print(inst)          # __str__ allows args to be printed directly,\n",
    "        return pd.Series([0,0])  \n",
    "        "
   ]
  },
  {
   "cell_type": "code",
   "execution_count": null,
   "id": "7bfe58fb-fdba-46d3-b05b-983f147aeab1",
   "metadata": {
    "execution": {
     "iopub.execute_input": "2025-04-21T16:48:27.502947Z",
     "iopub.status.busy": "2025-04-21T16:48:27.502811Z",
     "iopub.status.idle": "2025-04-21T16:48:27.511972Z",
     "shell.execute_reply": "2025-04-21T16:48:27.511606Z",
     "shell.execute_reply.started": "2025-04-21T16:48:27.502933Z"
    }
   },
   "outputs": [],
   "source": [
    "def plotAVisit(row,ax=None):\n",
    "    \"\"\"\n",
    "    row : dataframe row\n",
    "    ax \n",
    "    \"\"\"\n",
    "\n",
    "    if ax == None:\n",
    "        fig, ax = plt.subplots(1,1,figsize=(5,5))\n",
    "        \n",
    "    visitid = row[\"visitId\"]\n",
    "    ra= row[\"ra\"]\n",
    "    dec = row[\"dec\"]\n",
    "    tract_id  = row[\"tractID\"]\n",
    "    patch_id  = row[\"patchID\"]\n",
    "    label = f\"tract {tract_id} , patch {patch_id}\"              \n",
    "    \n",
    "    tractInfo = skymap.generateTract(tract_id)\n",
    "    patches_selected = [patch.getSequentialIndex() for patch in tractInfo]     \n",
    "    wcs=tractInfo.getWcs()\n",
    "            \n",
    "    # loop on patches\n",
    "    all_ra = []\n",
    "    all_dec = []\n",
    "    corners = []\n",
    "    for patch in tractInfo:\n",
    "        patchID = patch.getSequentialIndex()\n",
    "        if patchID == patch_id :\n",
    "            ibb=patch.getInnerBBox()\n",
    "            RAMIN,RAMAX,DECMIN,DECMAX = get_bbox_radec(wcs, ibb)\n",
    "            for icorn,corner in enumerate(ibb.getCorners()):\n",
    "                p = geom.Point2D(corner.getX(), corner.getY())\n",
    "                coord = wcs.pixelToSky(p)\n",
    "                corners.append([coord.getRa().asDegrees(), coord.getDec().asDegrees()])\n",
    "                all_ra.append(coord.getRa().asDegrees()) \n",
    "                all_dec.append(coord.getDec().asDegrees()) \n",
    "    if (len(all_ra)>0) and (len(all_dec)>0):\n",
    "        all_ra.append(all_ra[0])\n",
    "        all_dec.append(all_dec[0])\n",
    "        print(ax)\n",
    "        ax.plot(all_ra,all_dec,'b-',lw=3,label=label)\n",
    "        ax.scatter([ra],[dec],marker = 'o',s=20,c=\"r\",label=visitid)\n",
    "        ax.xaxis.set_major_formatter(FormatStrFormatter('%.2f'))\n",
    "        ax.yaxis.set_major_formatter(FormatStrFormatter('%.2f'))\n",
    "        ax.legend()\n",
    "                "
   ]
  },
  {
   "cell_type": "markdown",
   "id": "a3f04297-3975-4baa-9e7f-146cd717904c",
   "metadata": {},
   "source": [
    "## Build the table of AGN"
   ]
  },
  {
   "cell_type": "code",
   "execution_count": null,
   "id": "fdd48e59-d068-4c3c-a5f9-1c277959c9a1",
   "metadata": {
    "execution": {
     "iopub.execute_input": "2025-04-21T16:48:27.512522Z",
     "iopub.status.busy": "2025-04-21T16:48:27.512397Z",
     "iopub.status.idle": "2025-04-21T16:48:27.625152Z",
     "shell.execute_reply": "2025-04-21T16:48:27.624710Z",
     "shell.execute_reply.started": "2025-04-21T16:48:27.512510Z"
    }
   },
   "outputs": [],
   "source": [
    "from astroquery.vizier import Vizier\n",
    "from astropy.coordinates import SkyCoord\n",
    "import astropy.units as u"
   ]
  },
  {
   "cell_type": "code",
   "execution_count": null,
   "id": "ffc9c099-0200-4a2f-aea6-98e0369c4c6c",
   "metadata": {
    "execution": {
     "iopub.execute_input": "2025-04-21T16:48:27.625942Z",
     "iopub.status.busy": "2025-04-21T16:48:27.625657Z",
     "iopub.status.idle": "2025-04-21T16:48:27.628266Z",
     "shell.execute_reply": "2025-04-21T16:48:27.627891Z",
     "shell.execute_reply.started": "2025-04-21T16:48:27.625926Z"
    }
   },
   "outputs": [],
   "source": [
    "ECDFS_RA = 53.1\n",
    "ECDFS_DEC = -27.8\n",
    "ECDFS_COORD = SpherePoint(ECDFS_RA, ECDFS_DEC , degrees)"
   ]
  },
  {
   "cell_type": "code",
   "execution_count": null,
   "id": "4a3e4c07-1570-4588-976a-678132c11b09",
   "metadata": {
    "execution": {
     "iopub.execute_input": "2025-04-21T16:48:27.628846Z",
     "iopub.status.busy": "2025-04-21T16:48:27.628708Z",
     "iopub.status.idle": "2025-04-21T16:48:27.672461Z",
     "shell.execute_reply": "2025-04-21T16:48:27.671993Z",
     "shell.execute_reply.started": "2025-04-21T16:48:27.628834Z"
    }
   },
   "outputs": [],
   "source": [
    "# Coordonnées approximatives du centre du E-CDFS\n",
    "coord = SkyCoord(ra=ECDFS_RA, dec = ECDFS_DEC, unit=(u.deg, u.deg), frame='icrs')\n",
    "radius = 15 * u.arcmin\n",
    "\n",
    "# Exemple avec le catalogue Luo+2017 (7Ms CDF-S)\n",
    "catalog_id = \"J/ApJS/228/2\"\n",
    "result = Vizier(columns=[\"*\"]).query_region(coord, radius=radius, catalog=catalog_id)"
   ]
  },
  {
   "cell_type": "code",
   "execution_count": null,
   "id": "474756e6-6c8d-444f-961c-a5dad8b43648",
   "metadata": {
    "execution": {
     "iopub.execute_input": "2025-04-21T16:48:27.673277Z",
     "iopub.status.busy": "2025-04-21T16:48:27.672993Z",
     "iopub.status.idle": "2025-04-21T16:48:27.675772Z",
     "shell.execute_reply": "2025-04-21T16:48:27.675338Z",
     "shell.execute_reply.started": "2025-04-21T16:48:27.673261Z"
    }
   },
   "outputs": [],
   "source": [
    "sources_table = result['J/ApJS/228/2/sources']\n",
    "print(sources_table.colnames)"
   ]
  },
  {
   "cell_type": "code",
   "execution_count": null,
   "id": "59d07558-1ea0-4379-86f7-8b185ba5db33",
   "metadata": {
    "execution": {
     "iopub.execute_input": "2025-04-21T17:38:08.881791Z",
     "iopub.status.busy": "2025-04-21T17:38:08.881566Z",
     "iopub.status.idle": "2025-04-21T17:38:08.894287Z",
     "shell.execute_reply": "2025-04-21T17:38:08.893838Z",
     "shell.execute_reply.started": "2025-04-21T17:38:08.881775Z"
    }
   },
   "outputs": [],
   "source": []
  },
  {
   "cell_type": "code",
   "execution_count": null,
   "id": "1eff963d-56d8-413c-bce5-a0d779c34e99",
   "metadata": {
    "execution": {
     "iopub.execute_input": "2025-04-21T16:48:27.676380Z",
     "iopub.status.busy": "2025-04-21T16:48:27.676242Z",
     "iopub.status.idle": "2025-04-21T16:48:27.690153Z",
     "shell.execute_reply": "2025-04-21T16:48:27.689767Z",
     "shell.execute_reply.started": "2025-04-21T16:48:27.676366Z"
    }
   },
   "outputs": [],
   "source": [
    "# On calcule le log10 de LX\n",
    "logLX = np.log10(sources_table['LX'])\n",
    "\n",
    "# Et on l'ajoute comme nouvelle colonne à la table\n",
    "sources_table['logLX'] = logLX\n",
    "\n",
    "# Attention au nom exact de la colonne\n",
    "logLX = sources_table['logLX']\n",
    "is_agn = logLX > 42\n",
    "\n",
    "is_agn = sources_table['logLX'] > 42  # AGN si LX > 10^42 erg/s\n",
    "agn_table = sources_table[is_agn]"
   ]
  },
  {
   "cell_type": "code",
   "execution_count": null,
   "id": "61a131d7-b7bd-4098-af0e-ff9019ffcb23",
   "metadata": {
    "execution": {
     "iopub.execute_input": "2025-04-21T16:48:27.690780Z",
     "iopub.status.busy": "2025-04-21T16:48:27.690630Z",
     "iopub.status.idle": "2025-04-21T16:48:27.703071Z",
     "shell.execute_reply": "2025-04-21T16:48:27.702639Z",
     "shell.execute_reply.started": "2025-04-21T16:48:27.690766Z"
    }
   },
   "outputs": [],
   "source": [
    "agn_table[['RAJ2000', 'DEJ2000', 'logLX', 'LX', 'zspec']].pprint(max_lines=10)"
   ]
  },
  {
   "cell_type": "code",
   "execution_count": null,
   "id": "e902b64e-1149-4f50-8cf1-b5720ed24da6",
   "metadata": {
    "execution": {
     "iopub.execute_input": "2025-04-21T17:39:27.083719Z",
     "iopub.status.busy": "2025-04-21T17:39:27.083244Z",
     "iopub.status.idle": "2025-04-21T17:39:27.089786Z",
     "shell.execute_reply": "2025-04-21T17:39:27.089303Z",
     "shell.execute_reply.started": "2025-04-21T17:39:27.083701Z"
    }
   },
   "outputs": [],
   "source": [
    "galaxy_table = sources_table[sources_table['OType'] == 'Galaxy']"
   ]
  },
  {
   "cell_type": "code",
   "execution_count": null,
   "id": "b1edfa51-80a6-4d65-944d-c33a505049a3",
   "metadata": {
    "execution": {
     "iopub.execute_input": "2025-04-21T17:40:21.535496Z",
     "iopub.status.busy": "2025-04-21T17:40:21.534893Z",
     "iopub.status.idle": "2025-04-21T17:40:21.540139Z",
     "shell.execute_reply": "2025-04-21T17:40:21.539707Z",
     "shell.execute_reply.started": "2025-04-21T17:40:21.535476Z"
    }
   },
   "outputs": [],
   "source": [
    "galaxy_table[['RAJ2000', 'DEJ2000', 'logLX', 'LX', 'zspec']].pprint(max_lines=10)"
   ]
  },
  {
   "cell_type": "markdown",
   "id": "3506978f-3a1e-47a9-90c1-b576f17d092f",
   "metadata": {},
   "source": [
    "## Start Here with initialisation\n",
    "\n",
    "\n",
    "- Check here the collection available : https://rubinobs.atlassian.net/wiki/spaces/DM/pages/226656354/LSSTComCam+Intermittent+Cumulative+DRP+Runs"
   ]
  },
  {
   "cell_type": "code",
   "execution_count": null,
   "id": "58131b3b-f3bf-461a-8c71-d236e7d5e7fa",
   "metadata": {
    "execution": {
     "iopub.execute_input": "2025-04-21T16:48:27.703702Z",
     "iopub.status.busy": "2025-04-21T16:48:27.703563Z",
     "iopub.status.idle": "2025-04-21T16:48:27.712373Z",
     "shell.execute_reply": "2025-04-21T16:48:27.711967Z",
     "shell.execute_reply.started": "2025-04-21T16:48:27.703688Z"
    }
   },
   "outputs": [],
   "source": [
    "# The output repo is tagged with the Jira ticket number \"DM-40356\":\n",
    "repo = '/repo/main'\n",
    "#collection = 'LSSTComCam/runs/DRP/DP1/w_2025_05/DM-48666' # work\n",
    "#collection = 'LSSTComCam/runs/DRP/DP1/w_2025_06/DM-48810' # work\n",
    "collection = 'LSSTComCam/runs/DRP/DP1/w_2025_10/DM-49359' # work\n",
    "\n",
    "\n",
    "# bad : crash collection = 'LSSTComCam/runs/DRP/DP1/w_2025_08/DM-49029'\n",
    "\n",
    "# bad : collection = \"LSSTComCam/runs/DRP/20241101_20241211/w_2024_51/DM-48233\"\n",
    "\n",
    "# not working perhaps because I am using w_2025_10 version\n",
    "# bad : no ccd visit collection = \"LSSTComCam/runs/DRP/DP1/w_2025_14/DM-49864\"\n",
    "# bad : no ccd visit collection = 'LSSTComCam/runs/DRP/DP1/w_2025_15/DM-50050'\n",
    "# bad : no cce visit collection = 'LSSTComCam/runs/DRP/DP1/w_2025_14/DM-49864'\n",
    "# bad : no cce visit collection collection = 'LSSTComCam/runs/DRP/DP1/w_2025_13/DM-49751'\n",
    "\n",
    "\n",
    "instrument = \"LSSTComCam\"\n",
    "skymapName = \"lsst_cells_v1\"\n",
    "where_clause = \"instrument = \\'\" + instrument+ \"\\'\"\n",
    "collectionStr = collection.replace(\"/\", \"_\")\n",
    "NDET = 9\n",
    "TRACTSEL = 5063\n",
    "fn_ccdVisit_tracts_patches = f\"ccdVisittractpatch_{collectionStr}.csv\""
   ]
  },
  {
   "cell_type": "code",
   "execution_count": null,
   "id": "804fcb8b-d567-4a27-b102-05ed002051c4",
   "metadata": {
    "execution": {
     "iopub.execute_input": "2025-04-21T16:48:27.713318Z",
     "iopub.status.busy": "2025-04-21T16:48:27.712919Z",
     "iopub.status.idle": "2025-04-21T16:48:28.113423Z",
     "shell.execute_reply": "2025-04-21T16:48:28.112779Z",
     "shell.execute_reply.started": "2025-04-21T16:48:27.713303Z"
    }
   },
   "outputs": [],
   "source": [
    "# Initialize the butler repo:\n",
    "butler = Butler(repo, collections=collection)\n",
    "registry = butler.registry"
   ]
  },
  {
   "cell_type": "code",
   "execution_count": null,
   "id": "03249edb-84b0-4f36-ae94-af25391b468e",
   "metadata": {
    "execution": {
     "iopub.execute_input": "2025-04-21T16:48:28.117540Z",
     "iopub.status.busy": "2025-04-21T16:48:28.117319Z",
     "iopub.status.idle": "2025-04-21T16:48:28.589405Z",
     "shell.execute_reply": "2025-04-21T16:48:28.588881Z",
     "shell.execute_reply.started": "2025-04-21T16:48:28.117525Z"
    }
   },
   "outputs": [],
   "source": [
    "skymap = butler.get('skyMap', skymap=skymapName, collections=collection)"
   ]
  },
  {
   "cell_type": "code",
   "execution_count": null,
   "id": "ef1ab817-3225-4cc3-82b5-37f86d1f33cc",
   "metadata": {
    "execution": {
     "iopub.execute_input": "2025-04-21T16:48:28.590397Z",
     "iopub.status.busy": "2025-04-21T16:48:28.589910Z",
     "iopub.status.idle": "2025-04-21T16:48:28.595127Z",
     "shell.execute_reply": "2025-04-21T16:48:28.594575Z",
     "shell.execute_reply.started": "2025-04-21T16:48:28.590381Z"
    }
   },
   "outputs": [],
   "source": [
    "# 4. Trouver dans quel tract/patch se trouve la coordonnée\n",
    "ECDFS_tract_info = skymap.findTract(ECDFS_COORD)"
   ]
  },
  {
   "cell_type": "code",
   "execution_count": null,
   "id": "d8becbb0-1595-447b-a2ea-fe81515fbd3a",
   "metadata": {
    "execution": {
     "iopub.execute_input": "2025-04-21T16:48:28.595953Z",
     "iopub.status.busy": "2025-04-21T16:48:28.595730Z",
     "iopub.status.idle": "2025-04-21T16:48:28.605946Z",
     "shell.execute_reply": "2025-04-21T16:48:28.605472Z",
     "shell.execute_reply.started": "2025-04-21T16:48:28.595938Z"
    }
   },
   "outputs": [],
   "source": [
    "print('Tract number for ECDFS ::',ECDFS_tract_info.getId())"
   ]
  },
  {
   "cell_type": "code",
   "execution_count": null,
   "id": "fa1992cb-691e-4408-a03b-2477c0bf052d",
   "metadata": {
    "execution": {
     "iopub.execute_input": "2025-04-21T16:48:28.606826Z",
     "iopub.status.busy": "2025-04-21T16:48:28.606446Z",
     "iopub.status.idle": "2025-04-21T16:48:28.613181Z",
     "shell.execute_reply": "2025-04-21T16:48:28.612698Z",
     "shell.execute_reply.started": "2025-04-21T16:48:28.606810Z"
    }
   },
   "outputs": [],
   "source": [
    "TRACTSEL = ECDFS_tract_info.getId()"
   ]
  },
  {
   "cell_type": "code",
   "execution_count": null,
   "id": "826aebd4-b08d-4259-a715-2274b75182c2",
   "metadata": {
    "execution": {
     "iopub.execute_input": "2025-04-21T16:48:28.613889Z",
     "iopub.status.busy": "2025-04-21T16:48:28.613706Z",
     "iopub.status.idle": "2025-04-21T16:48:32.758177Z",
     "shell.execute_reply": "2025-04-21T16:48:32.757673Z",
     "shell.execute_reply.started": "2025-04-21T16:48:28.613875Z"
    }
   },
   "outputs": [],
   "source": [
    "# Check here the collections available\n",
    "#\n",
    "for _ in registry.queryCollections():\n",
    "    if collection in _:\n",
    "        print(_)"
   ]
  },
  {
   "cell_type": "code",
   "execution_count": null,
   "id": "d6dbd6d0-8f6c-441a-b465-b983e87cef9f",
   "metadata": {
    "execution": {
     "iopub.execute_input": "2025-04-21T16:48:32.758888Z",
     "iopub.status.busy": "2025-04-21T16:48:32.758732Z",
     "iopub.status.idle": "2025-04-21T16:48:32.762392Z",
     "shell.execute_reply": "2025-04-21T16:48:32.762026Z",
     "shell.execute_reply.started": "2025-04-21T16:48:32.758872Z"
    }
   },
   "outputs": [],
   "source": [
    "# List a number of usefull data-product to explore\n",
    "if 0:\n",
    "    for datasetType in registry.queryDatasetTypes():\n",
    "        if registry.queryDatasets(datasetType, collections=collection).any(\n",
    "            execute=False, exact=False\n",
    "        ):\n",
    "            # Limit search results to the data products\n",
    "            if (\n",
    "                (\"_config\" not in datasetType.name)\n",
    "                and (\"_log\" not in datasetType.name)\n",
    "                and (\"_metadata\" not in datasetType.name)\n",
    "                and (\"_resource_usage\" not in datasetType.name)\n",
    "                and ((\"Table\" in datasetType.name) or (\"Zeropointp\" in datasetType.name) or (\"fgcm\" in datasetType.name) or (\"transm\" in datasetType.name) or (\"Transm\" in datasetType.name)\n",
    "                or (\"source\" in datasetType.name) or (\"Source\" in datasetType.name) or (\"object\" in datasetType.name) or (\"Object\" in datasetType.name))\n",
    "            ):\n",
    "                print(datasetType)"
   ]
  },
  {
   "cell_type": "markdown",
   "id": "57be8008-c849-440e-9bae-8649564d3373",
   "metadata": {},
   "source": [
    "## Get list of Tracts and Patches"
   ]
  },
  {
   "cell_type": "code",
   "execution_count": null,
   "id": "c0823ed5-9b23-4548-af23-12d707772667",
   "metadata": {
    "execution": {
     "iopub.execute_input": "2025-04-21T16:48:32.762953Z",
     "iopub.status.busy": "2025-04-21T16:48:32.762818Z",
     "iopub.status.idle": "2025-04-21T16:48:32.845414Z",
     "shell.execute_reply": "2025-04-21T16:48:32.844699Z",
     "shell.execute_reply.started": "2025-04-21T16:48:32.762939Z"
    }
   },
   "outputs": [],
   "source": [
    "datasettype = \"objectTable_tract\"\n",
    "therefs = butler.registry.queryDatasets(datasettype,  collections=collection)"
   ]
  },
  {
   "cell_type": "code",
   "execution_count": null,
   "id": "f810d737-c393-40bb-bc60-32e3706cf4a0",
   "metadata": {
    "execution": {
     "iopub.execute_input": "2025-04-21T16:48:32.846149Z",
     "iopub.status.busy": "2025-04-21T16:48:32.846012Z",
     "iopub.status.idle": "2025-04-21T16:48:32.857794Z",
     "shell.execute_reply": "2025-04-21T16:48:32.857347Z",
     "shell.execute_reply.started": "2025-04-21T16:48:32.846134Z"
    }
   },
   "outputs": [],
   "source": [
    "tractsId_list = np.unique([ref.dataId['tract'] for ref in therefs])\n",
    "tractsId_list = sorted(tractsId_list)\n",
    "print(tractsId_list)"
   ]
  },
  {
   "cell_type": "markdown",
   "id": "3243cf8c-feb7-4167-92c9-b484336b8116",
   "metadata": {},
   "source": [
    "## Forced source table"
   ]
  },
  {
   "cell_type": "code",
   "execution_count": null,
   "id": "76088cd1-fd00-4b97-98cc-b4f37a593801",
   "metadata": {
    "execution": {
     "iopub.execute_input": "2025-04-21T17:41:32.386897Z",
     "iopub.status.busy": "2025-04-21T17:41:32.386662Z",
     "iopub.status.idle": "2025-04-21T17:41:32.397040Z",
     "shell.execute_reply": "2025-04-21T17:41:32.396582Z",
     "shell.execute_reply.started": "2025-04-21T17:41:32.386880Z"
    }
   },
   "outputs": [],
   "source": [
    "df_galaxy = galaxy_table.to_pandas()"
   ]
  },
  {
   "cell_type": "code",
   "execution_count": null,
   "id": "0973616d-2116-47e1-acb2-db61a311ff55",
   "metadata": {
    "execution": {
     "iopub.execute_input": "2025-04-21T16:48:32.858424Z",
     "iopub.status.busy": "2025-04-21T16:48:32.858291Z",
     "iopub.status.idle": "2025-04-21T16:48:32.881249Z",
     "shell.execute_reply": "2025-04-21T16:48:32.880777Z",
     "shell.execute_reply.started": "2025-04-21T16:48:32.858411Z"
    }
   },
   "outputs": [],
   "source": [
    "df_agn = agn_table.to_pandas()"
   ]
  },
  {
   "cell_type": "code",
   "execution_count": null,
   "id": "c5a78be5-8bd4-4b05-ad29-ca71fe5a1e5e",
   "metadata": {
    "execution": {
     "iopub.execute_input": "2025-04-21T16:48:32.881952Z",
     "iopub.status.busy": "2025-04-21T16:48:32.881778Z",
     "iopub.status.idle": "2025-04-21T16:48:32.911765Z",
     "shell.execute_reply": "2025-04-21T16:48:32.911359Z",
     "shell.execute_reply.started": "2025-04-21T16:48:32.881936Z"
    }
   },
   "outputs": [],
   "source": [
    "df_agn"
   ]
  },
  {
   "cell_type": "code",
   "execution_count": null,
   "id": "0adb14c3-9fa2-4ce2-a285-b0d548f0ff84",
   "metadata": {
    "execution": {
     "iopub.execute_input": "2025-04-21T16:48:32.912641Z",
     "iopub.status.busy": "2025-04-21T16:48:32.912274Z",
     "iopub.status.idle": "2025-04-21T16:48:33.104058Z",
     "shell.execute_reply": "2025-04-21T16:48:33.103633Z",
     "shell.execute_reply.started": "2025-04-21T16:48:32.912623Z"
    }
   },
   "outputs": [],
   "source": [
    "plt.figure(figsize=(14,5))\n",
    "\n",
    "plt.subplot(1, 2, 1)\n",
    "plt.hist(df_agn['zspec'].values, bins=20, color='green', alpha=0.7)\n",
    "plt.xlabel(\"Redshift zspec\")\n",
    "plt.ylabel(\"Nombre de sources\")\n",
    "plt.title(\"Distribution en redshift\")\n",
    "\n",
    "plt.subplot(1, 2, 2)\n",
    "plt.hist(df_agn['logLX'].values, bins=20, color='orange', alpha=0.7)\n",
    "plt.xlabel(\"log(Lx) [erg/s]\")\n",
    "plt.ylabel(\"Nombre de sources\")\n",
    "plt.title(\"Distribution de la luminosité X\")\n",
    "\n",
    "plt.tight_layout()\n",
    "plt.show()\n"
   ]
  },
  {
   "cell_type": "markdown",
   "id": "b20d2431-baf2-4f64-acdd-4301479d3981",
   "metadata": {
    "execution": {
     "iopub.execute_input": "2025-04-21T12:06:53.157322Z",
     "iopub.status.busy": "2025-04-21T12:06:53.157187Z",
     "iopub.status.idle": "2025-04-21T12:06:53.279027Z",
     "shell.execute_reply": "2025-04-21T12:06:53.278463Z",
     "shell.execute_reply.started": "2025-04-21T12:06:53.157309Z"
    }
   },
   "source": [
    "## Select One AGN"
   ]
  },
  {
   "cell_type": "code",
   "execution_count": null,
   "id": "6f2bea9b-889e-486d-a023-f2bf0e568f6a",
   "metadata": {
    "execution": {
     "iopub.execute_input": "2025-04-21T16:48:33.104935Z",
     "iopub.status.busy": "2025-04-21T16:48:33.104577Z",
     "iopub.status.idle": "2025-04-21T16:48:33.122139Z",
     "shell.execute_reply": "2025-04-21T16:48:33.121767Z",
     "shell.execute_reply.started": "2025-04-21T16:48:33.104918Z"
    }
   },
   "outputs": [],
   "source": [
    "df_agn[df_agn[\"zspec\"]<1.5]"
   ]
  },
  {
   "cell_type": "code",
   "execution_count": null,
   "id": "ee4d85d6-2e9a-4fff-9cbf-044565619bdc",
   "metadata": {
    "execution": {
     "iopub.execute_input": "2025-04-21T17:43:53.941873Z",
     "iopub.status.busy": "2025-04-21T17:43:53.941546Z",
     "iopub.status.idle": "2025-04-21T17:43:53.945969Z",
     "shell.execute_reply": "2025-04-21T17:43:53.945551Z",
     "shell.execute_reply.started": "2025-04-21T17:43:53.941858Z"
    }
   },
   "outputs": [],
   "source": [
    "galaxyindex_selected = []\n",
    "N =len(df_galaxy)\n",
    "for idx in range(N):\n",
    "    ra_target,dec_target = df_galaxy.iloc[idx][['RAJ2000','DEJ2000']]\n",
    "    target_point = SpherePoint(ra_target, dec_target, degrees)\n",
    "    if ECDFS_tract_info.contains(target_point):\n",
    "        galaxyindex_selected.append(idx)         "
   ]
  },
  {
   "cell_type": "code",
   "execution_count": null,
   "id": "e882f9ae-7f26-4593-bfe5-979699f26793",
   "metadata": {
    "execution": {
     "iopub.execute_input": "2025-04-21T17:44:16.076664Z",
     "iopub.status.busy": "2025-04-21T17:44:16.076336Z",
     "iopub.status.idle": "2025-04-21T17:44:16.079606Z",
     "shell.execute_reply": "2025-04-21T17:44:16.079148Z",
     "shell.execute_reply.started": "2025-04-21T17:44:16.076646Z"
    }
   },
   "outputs": [],
   "source": [
    "print(galaxyindex_selected)"
   ]
  },
  {
   "cell_type": "code",
   "execution_count": null,
   "id": "3acd9664-74f4-4dcc-abfc-80d3315ff166",
   "metadata": {
    "execution": {
     "iopub.execute_input": "2025-04-21T16:48:33.122782Z",
     "iopub.status.busy": "2025-04-21T16:48:33.122641Z",
     "iopub.status.idle": "2025-04-21T16:48:33.147969Z",
     "shell.execute_reply": "2025-04-21T16:48:33.147603Z",
     "shell.execute_reply.started": "2025-04-21T16:48:33.122768Z"
    }
   },
   "outputs": [],
   "source": [
    "agnindex_selected = []\n",
    "N =len(df_agn)\n",
    "for idx in range(N):\n",
    "    ra_target,dec_target = df_agn.iloc[idx][['RAJ2000','DEJ2000']]\n",
    "    target_point = SpherePoint(ra_target, dec_target, degrees)\n",
    "    if ECDFS_tract_info.contains(target_point):\n",
    "        agnindex_selected.append(idx)         "
   ]
  },
  {
   "cell_type": "code",
   "execution_count": null,
   "id": "21e97d92-72b3-48f2-b1a5-b1d96b5faadc",
   "metadata": {
    "execution": {
     "iopub.execute_input": "2025-04-21T16:48:33.148551Z",
     "iopub.status.busy": "2025-04-21T16:48:33.148419Z",
     "iopub.status.idle": "2025-04-21T16:48:33.155783Z",
     "shell.execute_reply": "2025-04-21T16:48:33.155389Z",
     "shell.execute_reply.started": "2025-04-21T16:48:33.148538Z"
    }
   },
   "outputs": [],
   "source": [
    "print(agnindex_selected)"
   ]
  },
  {
   "cell_type": "code",
   "execution_count": null,
   "id": "b5717a3a-6977-4592-b726-1f7781ee97a7",
   "metadata": {
    "execution": {
     "iopub.execute_input": "2025-04-21T17:47:56.618232Z",
     "iopub.status.busy": "2025-04-21T17:47:56.618018Z",
     "iopub.status.idle": "2025-04-21T17:47:56.620930Z",
     "shell.execute_reply": "2025-04-21T17:47:56.620489Z",
     "shell.execute_reply.started": "2025-04-21T17:47:56.618217Z"
    }
   },
   "outputs": [],
   "source": [
    "index_agn_selected = 0\n",
    "index_galaxy_selected = 0\n",
    "FLAG_AGN_SELECTED  = False"
   ]
  },
  {
   "cell_type": "code",
   "execution_count": null,
   "id": "e8b3a6dd-354b-4d2f-80e3-01a6da4d62d7",
   "metadata": {
    "execution": {
     "iopub.execute_input": "2025-04-21T17:47:58.670566Z",
     "iopub.status.busy": "2025-04-21T17:47:58.670352Z",
     "iopub.status.idle": "2025-04-21T17:47:58.676103Z",
     "shell.execute_reply": "2025-04-21T17:47:58.675431Z",
     "shell.execute_reply.started": "2025-04-21T17:47:58.670549Z"
    }
   },
   "outputs": [],
   "source": [
    "if FLAG_AGN_SELECTED: \n",
    "    ra_target,dec_target = df_agn.iloc[index_agn_selected ][['RAJ2000','DEJ2000']]\n",
    "    target_point = SpherePoint(ra_target, dec_target, degrees)\n",
    "    target_coord = SkyCoord(ra=ra_target*u.deg, dec=dec_target*u.deg)\n",
    "    logLx = df_agn.iloc[index_agn_selected ]['logLX']\n",
    "    zspec = df_agn.iloc[index_agn_selected ]['zspec']\n",
    "    target_title = f\"agn :: {index_agn_selected}, log L(erg/s) = {logLx:.2f} , zspec = {zspec:.2f}, (ra,dec) = {ra_target:.5f},{dec_target:.5f}\"\n",
    "else:\n",
    "    ra_target,dec_target = df_galaxy.iloc[index_galaxy_selected ][['RAJ2000','DEJ2000']]\n",
    "    target_point = SpherePoint(ra_target, dec_target, degrees)\n",
    "    target_coord = SkyCoord(ra=ra_target*u.deg, dec=dec_target*u.deg)\n",
    "    logLx = df_galaxy.iloc[index_galaxy_selected ]['logLX']\n",
    "    zspec = df_galaxy.iloc[index_galaxy_selected ]['zspec']\n",
    "    target_title = f\"galaxy :: {index_galaxy_selected}, log L(erg/s) = {logLx:.2f} , zspec = {zspec:.2f}, (ra,dec) = {ra_target:.5f},{dec_target:.5f}\"\n",
    "    "
   ]
  },
  {
   "cell_type": "code",
   "execution_count": null,
   "id": "ae40f327-7e25-46aa-832f-7feaaf526420",
   "metadata": {
    "execution": {
     "iopub.execute_input": "2025-04-21T17:48:02.579300Z",
     "iopub.status.busy": "2025-04-21T17:48:02.578785Z",
     "iopub.status.idle": "2025-04-21T17:48:02.612002Z",
     "shell.execute_reply": "2025-04-21T17:48:02.611602Z",
     "shell.execute_reply.started": "2025-04-21T17:48:02.579281Z"
    }
   },
   "outputs": [],
   "source": [
    "datasettype =  'forcedSourceOnDiaObjectTable'\n",
    "#datasettype =  'diaSourceTable_tract'\n",
    "#datasettype = 'goodSeeingDiff_assocSsSrcTable' # bad table\n",
    "therefs = butler.registry.queryDatasets(datasettype,  collections=collection)"
   ]
  },
  {
   "cell_type": "code",
   "execution_count": null,
   "id": "3cc6ba9a-7fd8-4a08-927a-dda396deda30",
   "metadata": {
    "execution": {
     "iopub.execute_input": "2025-04-21T17:48:04.719260Z",
     "iopub.status.busy": "2025-04-21T17:48:04.718729Z",
     "iopub.status.idle": "2025-04-21T17:48:04.721657Z",
     "shell.execute_reply": "2025-04-21T17:48:04.721300Z",
     "shell.execute_reply.started": "2025-04-21T17:48:04.719241Z"
    }
   },
   "outputs": [],
   "source": [
    "if FLAG_AGN_SELECTED: \n",
    "    figname = f\"agn_{index_agn_selected}_{datasettype}.png\"\n",
    "else:\n",
    "    figname = f\"galaxy_{index_agn_selected}_{datasettype}.png\""
   ]
  },
  {
   "cell_type": "code",
   "execution_count": null,
   "id": "b2990d7a-23fb-494f-b24a-845550403cfb",
   "metadata": {
    "execution": {
     "iopub.execute_input": "2025-04-21T17:48:06.756803Z",
     "iopub.status.busy": "2025-04-21T17:48:06.756458Z",
     "iopub.status.idle": "2025-04-21T17:49:34.243116Z",
     "shell.execute_reply": "2025-04-21T17:49:34.242610Z",
     "shell.execute_reply.started": "2025-04-21T17:48:06.756785Z"
    }
   },
   "outputs": [],
   "source": [
    "all_tables = []\n",
    "\n",
    "for count,ref in enumerate(therefs):\n",
    "    the_id = ref.dataId\n",
    "    the_tract_id = the_id[\"tract\"] \n",
    "    # select the visits in that Tract (ECDFS)\n",
    "    if the_tract_id == TRACTSEL: \n",
    "        catalog = butler.get(ref)\n",
    "        #catalog[\"dateobs\"] = catalog.apply(lambda x: x['visit']//100_000, axis=1)\n",
    "        #catalog[\"seq\"] = catalog[\"visit\"] - catalog[\"dateobs\"]*100_000\n",
    "        #t[\"ra_rad\"] = t[\"coord_ra\"].apply(func_degToRad)  \n",
    "        #t[\"ra_dec\"] = t[\"coord_dec\"].apply(func_degToRad)  \n",
    "        ra = catalog[\"coord_ra\"].values\n",
    "        dec = catalog[\"coord_dec\"].values\n",
    "        # Créer tous les points du catalogue\n",
    "        #points = [SpherePoint(r, d, degrees) for r, d in zip(ra, dec)]\n",
    "        catalog_coords = SkyCoord(ra=ra*u.deg, dec=dec*u.deg)\n",
    "\n",
    "        # Calculer la distance angulaire à la cible (en arcsec)\n",
    "        #distances_arcsec = np.array([pt.separation(target_point).asArcseconds() for pt in points])\n",
    "        # 5. Calcul vectorisé des distances (résultat en arcsec)\n",
    "        distances_arcsec = target_coord.separation(catalog_coords).arcsecond\n",
    "        catalog[\"sep\"] = distances_arcsec\n",
    "\n",
    "        # 5. Sélectionner les objets proches (ex: < 1.5 arcsec)\n",
    "        if datasettype ==  'forcedSourceOnDiaObjectTable':\n",
    "            radius_arcsec = 3\n",
    "        elif datasettype ==  'diaSourceTable_tract':\n",
    "            radius_arcsec = 5\n",
    "        elif datasettype == 'goodSeeingDiff_assocSsSrcTable':\n",
    "            radius_arcsec = 5\n",
    "        else:\n",
    "            radius_arcsec = 3\n",
    "\n",
    "        # select\n",
    "        nearby = catalog[distances_arcsec < radius_arcsec]\n",
    "        \n",
    "        if len(nearby) > 0 :\n",
    "            #print(nearby)\n",
    "            all_tables.append(nearby)  \n",
    "            #break\n",
    "\n",
    "        #if(len(all_tables)>10):\n",
    "        #    break\n",
    "   "
   ]
  },
  {
   "cell_type": "code",
   "execution_count": null,
   "id": "dc2e290d-3fef-4989-a4ca-6e57b502eaac",
   "metadata": {
    "execution": {
     "iopub.execute_input": "2025-04-21T17:49:57.596801Z",
     "iopub.status.busy": "2025-04-21T17:49:57.596572Z",
     "iopub.status.idle": "2025-04-21T17:49:57.600272Z",
     "shell.execute_reply": "2025-04-21T17:49:57.599883Z",
     "shell.execute_reply.started": "2025-04-21T17:49:57.596785Z"
    }
   },
   "outputs": [],
   "source": [
    "len(all_tables)"
   ]
  },
  {
   "cell_type": "code",
   "execution_count": null,
   "id": "23306ca1-a7e6-4280-b9d7-0b199c046db9",
   "metadata": {
    "execution": {
     "iopub.execute_input": "2025-04-21T17:50:03.189214Z",
     "iopub.status.busy": "2025-04-21T17:50:03.189001Z",
     "iopub.status.idle": "2025-04-21T17:50:03.191898Z",
     "shell.execute_reply": "2025-04-21T17:50:03.191501Z",
     "shell.execute_reply.started": "2025-04-21T17:50:03.189199Z"
    }
   },
   "outputs": [],
   "source": [
    "t = all_tables[0]"
   ]
  },
  {
   "cell_type": "code",
   "execution_count": null,
   "id": "e72f6c28-0998-497b-bebf-a243f0189c3b",
   "metadata": {
    "execution": {
     "iopub.execute_input": "2025-04-21T17:50:07.562611Z",
     "iopub.status.busy": "2025-04-21T17:50:07.562396Z",
     "iopub.status.idle": "2025-04-21T17:50:07.651623Z",
     "shell.execute_reply": "2025-04-21T17:50:07.651138Z",
     "shell.execute_reply.started": "2025-04-21T17:50:07.562595Z"
    }
   },
   "outputs": [],
   "source": [
    "fig, ax = plt.subplots(1,1,figsize=(6,4))\n",
    "t[\"sep\"].hist(bins=50,ax=ax)\n",
    "plt.show()"
   ]
  },
  {
   "cell_type": "code",
   "execution_count": null,
   "id": "ee669cab-c892-47fc-982f-967081d452f7",
   "metadata": {
    "execution": {
     "iopub.execute_input": "2025-04-21T17:50:14.963657Z",
     "iopub.status.busy": "2025-04-21T17:50:14.963441Z",
     "iopub.status.idle": "2025-04-21T17:50:14.967092Z",
     "shell.execute_reply": "2025-04-21T17:50:14.966644Z",
     "shell.execute_reply.started": "2025-04-21T17:50:14.963643Z"
    }
   },
   "outputs": [],
   "source": [
    "t = t[t[\"sep\"]<3.5]"
   ]
  },
  {
   "cell_type": "markdown",
   "id": "112094be-7b12-475f-8faa-7133b3b1b936",
   "metadata": {},
   "source": [
    "### Split visit into dayobs and seq"
   ]
  },
  {
   "cell_type": "code",
   "execution_count": null,
   "id": "453798ec-0d66-4278-b8c3-a9ea4e1cf25b",
   "metadata": {
    "execution": {
     "iopub.execute_input": "2025-04-21T17:50:17.105819Z",
     "iopub.status.busy": "2025-04-21T17:50:17.104969Z",
     "iopub.status.idle": "2025-04-21T17:50:17.112459Z",
     "shell.execute_reply": "2025-04-21T17:50:17.112031Z",
     "shell.execute_reply.started": "2025-04-21T17:50:17.105801Z"
    }
   },
   "outputs": [],
   "source": [
    "t[\"dateobs\"] = t.apply(lambda x: x['visit']//100_000, axis=1)\n",
    "t[\"seq\"] = t[\"visit\"] - t[\"dateobs\"]*100_000"
   ]
  },
  {
   "cell_type": "code",
   "execution_count": null,
   "id": "c1b5a1a1-1e84-451f-b340-8371c9fbffac",
   "metadata": {
    "execution": {
     "iopub.execute_input": "2025-04-21T17:50:18.700473Z",
     "iopub.status.busy": "2025-04-21T17:50:18.699677Z",
     "iopub.status.idle": "2025-04-21T17:50:18.705011Z",
     "shell.execute_reply": "2025-04-21T17:50:18.704556Z",
     "shell.execute_reply.started": "2025-04-21T17:50:18.700448Z"
    }
   },
   "outputs": [],
   "source": [
    "t[\"seq\"]"
   ]
  },
  {
   "cell_type": "code",
   "execution_count": null,
   "id": "3b3663e0-bc24-4d76-8fed-92781be70fd5",
   "metadata": {
    "execution": {
     "iopub.execute_input": "2025-04-21T17:50:19.748705Z",
     "iopub.status.busy": "2025-04-21T17:50:19.748368Z",
     "iopub.status.idle": "2025-04-21T17:50:19.753944Z",
     "shell.execute_reply": "2025-04-21T17:50:19.753527Z",
     "shell.execute_reply.started": "2025-04-21T17:50:19.748688Z"
    }
   },
   "outputs": [],
   "source": [
    "t[\"mags\"] = t[\"psfFlux\"].apply(lambda flux : -2.5 * np.log10(flux) + 31.4)\n",
    "t[\"valid\"] = (t[\"psfFlux\"] >0) & (~t[\"psfFlux_flag\"])\n",
    "visit_list = t[\"visit\"].astype(int)"
   ]
  },
  {
   "cell_type": "markdown",
   "id": "8ef1ef5c-7a4c-475f-9fe3-3e9384409943",
   "metadata": {
    "execution": {
     "iopub.execute_input": "2025-04-21T13:39:44.974222Z",
     "iopub.status.busy": "2025-04-21T13:39:44.973998Z",
     "iopub.status.idle": "2025-04-21T13:39:44.976793Z",
     "shell.execute_reply": "2025-04-21T13:39:44.976436Z",
     "shell.execute_reply.started": "2025-04-21T13:39:44.974206Z"
    }
   },
   "source": [
    "#### Find the time associated to a visit"
   ]
  },
  {
   "cell_type": "code",
   "execution_count": null,
   "id": "7ee3d646-b857-4019-b71e-e1d447fe292e",
   "metadata": {
    "execution": {
     "iopub.execute_input": "2025-04-21T17:50:22.655974Z",
     "iopub.status.busy": "2025-04-21T17:50:22.655232Z",
     "iopub.status.idle": "2025-04-21T17:50:22.845426Z",
     "shell.execute_reply": "2025-04-21T17:50:22.845030Z",
     "shell.execute_reply.started": "2025-04-21T17:50:22.655954Z"
    }
   },
   "outputs": [],
   "source": [
    "# On interroge la table visitDefinition\n",
    "rows = registry.queryDimensionRecords(\"visit\", where=f\"visit in {tuple(visit_list)}\")\n",
    "\n",
    "# 4. Construire un tableau des résultats\n",
    "results = []\n",
    "for row in rows:\n",
    "    visit_id = row.id\n",
    "\n",
    "    # Extraire l'instant de début de l'observation (Time astropy)\n",
    "    start_time = row.timespan.begin\n",
    "\n",
    "    # Convertir en MJD et ISO\n",
    "    mjd = start_time.to_value(\"mjd\")  # Ex: 60384.28718\n",
    "    isot = start_time.to_value(\"isot\")  # Ex: '2024-04-19 06:53:32.000'\n",
    "    \n",
    "    #mjd = row.startDate.toMjd()\n",
    "    #utc = Time(mjd, format='mjd', scale='utc').to_value('iso')\n",
    "    results.append({\"visit\": visit_id, \"mjd\": mjd, \"isot\": isot})\n",
    "\n",
    "df_times = pd.DataFrame(results).sort_values(\"visit\")\n",
    "df_times.set_index(\"visit\",inplace=True)"
   ]
  },
  {
   "cell_type": "code",
   "execution_count": null,
   "id": "65027963-05cf-4df4-ae5f-79aa70eeaa57",
   "metadata": {
    "execution": {
     "iopub.execute_input": "2025-04-21T17:50:23.698684Z",
     "iopub.status.busy": "2025-04-21T17:50:23.698336Z",
     "iopub.status.idle": "2025-04-21T17:50:23.741154Z",
     "shell.execute_reply": "2025-04-21T17:50:23.740713Z",
     "shell.execute_reply.started": "2025-04-21T17:50:23.698667Z"
    }
   },
   "outputs": [],
   "source": [
    "t[\"mjd\"] = t[\"visit\"].apply(lambda x: df_times.loc[x][\"mjd\"])\n",
    "t[\"isot\"] = t[\"visit\"].apply(lambda x: df_times.loc[x][\"isot\"])"
   ]
  },
  {
   "cell_type": "code",
   "execution_count": null,
   "id": "070b3a61-c473-4887-9c67-04b0c2ca39d2",
   "metadata": {
    "execution": {
     "iopub.execute_input": "2025-04-21T17:50:24.684412Z",
     "iopub.status.busy": "2025-04-21T17:50:24.684192Z",
     "iopub.status.idle": "2025-04-21T17:50:24.689688Z",
     "shell.execute_reply": "2025-04-21T17:50:24.689338Z",
     "shell.execute_reply.started": "2025-04-21T17:50:24.684397Z"
    }
   },
   "outputs": [],
   "source": [
    "tb = {}\n",
    "for band in [\"u\", \"g\", \"r\", \"i\", \"z\", \"y\"]:\n",
    "    tb[band] = t[t[\"band\"] == band]"
   ]
  },
  {
   "cell_type": "code",
   "execution_count": null,
   "id": "ccddae1e-0100-428d-96c9-8e8a99653c1e",
   "metadata": {
    "execution": {
     "iopub.execute_input": "2025-04-21T17:50:25.409493Z",
     "iopub.status.busy": "2025-04-21T17:50:25.409248Z",
     "iopub.status.idle": "2025-04-21T17:50:25.412169Z",
     "shell.execute_reply": "2025-04-21T17:50:25.411832Z",
     "shell.execute_reply.started": "2025-04-21T17:50:25.409477Z"
    }
   },
   "outputs": [],
   "source": [
    "band_to_col = {\"u\":\"b\", \"g\":\"g\", \"r\":\"r\", \"i\":\"orange\", \"z\":\"grey\", \"y\":\"k\"}"
   ]
  },
  {
   "cell_type": "code",
   "execution_count": null,
   "id": "f816d35d-5402-4611-9b13-f431e3ddd8b2",
   "metadata": {
    "execution": {
     "iopub.execute_input": "2025-04-21T17:50:26.296462Z",
     "iopub.status.busy": "2025-04-21T17:50:26.296244Z",
     "iopub.status.idle": "2025-04-21T17:50:27.403050Z",
     "shell.execute_reply": "2025-04-21T17:50:27.402652Z",
     "shell.execute_reply.started": "2025-04-21T17:50:26.296447Z"
    }
   },
   "outputs": [],
   "source": [
    "fig,axs = plt.subplots(6,1,figsize=(18,16),sharex=True,layout=\"constrained\")\n",
    "\n",
    "for idx,band in enumerate([\"u\", \"g\", \"r\", \"i\", \"z\", \"y\"]):\n",
    "    ax =axs[idx]\n",
    "    ax.scatter(tb[band].mjd, tb[band].mags,color=band_to_col[band])\n",
    "    ax.set_ylabel(\"mag_psfFlux\")\n",
    "    if idx==0:\n",
    "        ax.set_title(target_title,fontweight = \"bold\")\n",
    "ax.set_xlabel(\"mjd\")\n",
    "\n",
    "subtitle = collectionStr + \"_\" + datasettype\n",
    "plt.suptitle(subtitle)\n",
    "#plt.tight_layout()\n",
    "plt.savefig(figname)\n",
    "plt.show()"
   ]
  },
  {
   "cell_type": "code",
   "execution_count": null,
   "id": "1bbeeb36-aee2-4165-a061-740e0f939451",
   "metadata": {},
   "outputs": [],
   "source": []
  },
  {
   "cell_type": "code",
   "execution_count": null,
   "id": "c0ff101d-3672-456c-a365-eb84a67fb561",
   "metadata": {},
   "outputs": [],
   "source": []
  }
 ],
 "metadata": {
  "kernelspec": {
   "display_name": "LSST",
   "language": "python",
   "name": "lsst"
  },
  "language_info": {
   "codemirror_mode": {
    "name": "ipython",
    "version": 3
   },
   "file_extension": ".py",
   "mimetype": "text/x-python",
   "name": "python",
   "nbconvert_exporter": "python",
   "pygments_lexer": "ipython3",
   "version": "3.12.9"
  }
 },
 "nbformat": 4,
 "nbformat_minor": 5
}
