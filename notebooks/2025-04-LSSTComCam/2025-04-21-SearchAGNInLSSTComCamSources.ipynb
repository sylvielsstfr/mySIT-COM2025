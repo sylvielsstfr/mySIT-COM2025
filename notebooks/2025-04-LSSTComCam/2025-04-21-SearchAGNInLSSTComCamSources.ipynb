{
 "cells": [
  {
   "cell_type": "markdown",
   "id": "8f3da262-37ed-407f-908c-8ac5a52cb4db",
   "metadata": {},
   "source": [
    "# Search for AGN in the Extended Chandra Deep Field South\n",
    "\n",
    "- Confluence page : https://rubinobs.atlassian.net/wiki/spaces/LSSTCOM/pages/372867091/System-level+Science+Performance+Verification+Sprint\n",
    "- slides : https://docs.google.com/presentation/d/1bPjS5NGtiEL2lfjmvP1UYdG_tMEDfZxX26ayhf7MhtY/edit#slide=id.ga2f7fb1a1f_0_70"
   ]
  },
  {
   "cell_type": "markdown",
   "id": "f3737976-eab8-4483-a79d-796f738c4f22",
   "metadata": {},
   "source": [
    "- where to find the campains\n",
    "- https://rubinobs.atlassian.net/wiki/spaces/DM/pages/226656354/LSSTComCam+Intermittent+Cumulative+DRP+Runs\n",
    "\n",
    "- plot Navigator\n",
    "- https://usdf-rsp.slac.stanford.edu/plot-navigator\n",
    "- https://usdf-rsp.slac.stanford.edu/plot-navigator/plot/%2Frepo%2Fmain/LSSTComCam%2Fruns%2FDRP%2FDP1%2Fw_2025_05%2FDM-48666/objectTableCore_coaddInputCount_SkyPlot"
   ]
  },
  {
   "cell_type": "markdown",
   "id": "53b4594d-5de5-4fa1-8ada-f60f0018cac5",
   "metadata": {},
   "source": [
    "- Notebooks examples\n",
    "- https://github.com/lsst-dm/DMTR-401/blob/main/notebooks/test_LVV-T40_T1240.ipynb\n",
    "- https://github.com/lsst-dm/DMTR-412/blob/tickets/DM-38728/notebooks/test_LVV-T1751_AM1_AM2.ipynb"
   ]
  },
  {
   "cell_type": "markdown",
   "id": "8402aac4-562a-40cd-ac2b-c1ca76cae55b",
   "metadata": {},
   "source": [
    "- author : Sylvie Dagoret-Campagne\n",
    "- creattion date : 2025-02-13\n",
    "- update : 2025-02-19\n",
    "- last update : 2025-04-22\n",
    "- Redo Visits like here : https://github.com/sylvielsstfr/LSST-Rehearsal2024/blob/main/notebooks/Visits/stat_on_visits_LSSTComCamSim.ipynb\n",
    "- To find what I did on LSSTComCamSim : https://github.com/sylvielsstfr/LSST-Rehearsal2024/blob/main/notebooks/LightCurves/MultiColor_lightCurves-DMRehearsal2024_01-AuxTel-DZPOnCCD.ipynb\n",
    "- **Confluence page** : https://rubinobs.atlassian.net/wiki/spaces/LSSTCOM/pages/443613290/Science+Verification+Sprint+Feb+2025\n"
   ]
  },
  {
   "cell_type": "code",
   "execution_count": null,
   "id": "9d583412-a5a0-456e-84be-1fb658ddf016",
   "metadata": {
    "execution": {
     "iopub.execute_input": "2025-04-22T21:33:36.372190Z",
     "iopub.status.busy": "2025-04-22T21:33:36.372056Z",
     "iopub.status.idle": "2025-04-22T21:33:37.416295Z",
     "shell.execute_reply": "2025-04-22T21:33:37.415635Z",
     "shell.execute_reply.started": "2025-04-22T21:33:36.372175Z"
    }
   },
   "outputs": [],
   "source": [
    "# Confirm that the version of the Science Pipelines is recent:\n",
    "! echo $HOSTNAME\n",
    "! eups list -s | grep lsst_distrib"
   ]
  },
  {
   "cell_type": "code",
   "execution_count": null,
   "id": "8fbb9671-7d8e-4724-8c58-0f0a4fb9e5f0",
   "metadata": {
    "execution": {
     "iopub.execute_input": "2025-04-22T21:33:37.417119Z",
     "iopub.status.busy": "2025-04-22T21:33:37.416964Z",
     "iopub.status.idle": "2025-04-22T21:33:38.803941Z",
     "shell.execute_reply": "2025-04-22T21:33:38.803419Z",
     "shell.execute_reply.started": "2025-04-22T21:33:37.417101Z"
    }
   },
   "outputs": [],
   "source": [
    "from lsst.daf.butler import Butler\n",
    "import lsst.geom as geom\n",
    "from lsst.geom import SpherePoint, degrees\n",
    "import lsst.afw.display as afwDisplay"
   ]
  },
  {
   "cell_type": "code",
   "execution_count": null,
   "id": "8983f25c-dadf-434b-bb84-e24a3150f766",
   "metadata": {
    "execution": {
     "iopub.execute_input": "2025-04-22T21:33:38.804868Z",
     "iopub.status.busy": "2025-04-22T21:33:38.804503Z",
     "iopub.status.idle": "2025-04-22T21:33:38.891484Z",
     "shell.execute_reply": "2025-04-22T21:33:38.891006Z",
     "shell.execute_reply.started": "2025-04-22T21:33:38.804852Z"
    }
   },
   "outputs": [],
   "source": [
    "afwDisplay.setDefaultBackend(\"firefly\")"
   ]
  },
  {
   "cell_type": "code",
   "execution_count": null,
   "id": "e814e3d6-750c-4e7f-a9a5-5bf1e2f7205f",
   "metadata": {
    "execution": {
     "iopub.execute_input": "2025-04-22T21:33:38.892373Z",
     "iopub.status.busy": "2025-04-22T21:33:38.892039Z",
     "iopub.status.idle": "2025-04-22T21:33:40.377014Z",
     "shell.execute_reply": "2025-04-22T21:33:40.376480Z",
     "shell.execute_reply.started": "2025-04-22T21:33:38.892358Z"
    }
   },
   "outputs": [],
   "source": [
    "import os\n",
    "import gc\n",
    "import glob\n",
    "import numpy as np\n",
    "import pandas as pd\n",
    "import random\n",
    "\n",
    "import astropy.units as u\n",
    "from astropy.coordinates import SkyCoord\n",
    "from astroquery.gaia import Gaia\n",
    "Gaia.MAIN_GAIA_TABLE = \"gaiadr3.gaia_source\"  # Reselect Data Release 3, default\n",
    "Gaia.ROW_LIMIT = 100000\n",
    "from astropy.visualization import (MinMaxInterval, AsinhStretch, ZScaleInterval, LogStretch, LinearStretch,\n",
    "                                   ImageNormalize)"
   ]
  },
  {
   "cell_type": "code",
   "execution_count": null,
   "id": "e68df967-7870-47da-a4dd-760df6732aa5",
   "metadata": {
    "execution": {
     "iopub.execute_input": "2025-04-22T21:33:40.378008Z",
     "iopub.status.busy": "2025-04-22T21:33:40.377544Z",
     "iopub.status.idle": "2025-04-22T21:33:41.166376Z",
     "shell.execute_reply": "2025-04-22T21:33:41.165886Z",
     "shell.execute_reply.started": "2025-04-22T21:33:40.377990Z"
    }
   },
   "outputs": [],
   "source": [
    "import seaborn as sns\n",
    "from itertools import cycle, islice"
   ]
  },
  {
   "cell_type": "code",
   "execution_count": null,
   "id": "f385c649-efb6-40a8-b9f7-ebc65c441a04",
   "metadata": {
    "execution": {
     "iopub.execute_input": "2025-04-22T21:33:41.167164Z",
     "iopub.status.busy": "2025-04-22T21:33:41.166923Z",
     "iopub.status.idle": "2025-04-22T21:33:41.169663Z",
     "shell.execute_reply": "2025-04-22T21:33:41.169305Z",
     "shell.execute_reply.started": "2025-04-22T21:33:41.167149Z"
    }
   },
   "outputs": [],
   "source": [
    "from astropy.time import Time\n",
    "from datetime import datetime, timedelta"
   ]
  },
  {
   "cell_type": "code",
   "execution_count": null,
   "id": "46c68d72-750b-4bb9-b92a-1fe6e1728171",
   "metadata": {
    "execution": {
     "iopub.execute_input": "2025-04-22T21:33:41.170195Z",
     "iopub.status.busy": "2025-04-22T21:33:41.170070Z",
     "iopub.status.idle": "2025-04-22T21:33:41.178259Z",
     "shell.execute_reply": "2025-04-22T21:33:41.177863Z",
     "shell.execute_reply.started": "2025-04-22T21:33:41.170183Z"
    }
   },
   "outputs": [],
   "source": [
    "import lsst\n",
    "import lsst.geom as geom\n",
    "from lsst.geom import Angle\n",
    "from lsst.geom import SpherePoint\n",
    "from lsst.geom import AngleUnit"
   ]
  },
  {
   "cell_type": "code",
   "execution_count": null,
   "id": "224cf803-f7cc-4e49-9dc9-46779557286e",
   "metadata": {
    "execution": {
     "iopub.execute_input": "2025-04-22T21:33:41.178844Z",
     "iopub.status.busy": "2025-04-22T21:33:41.178716Z",
     "iopub.status.idle": "2025-04-22T21:33:41.187556Z",
     "shell.execute_reply": "2025-04-22T21:33:41.186990Z",
     "shell.execute_reply.started": "2025-04-22T21:33:41.178831Z"
    }
   },
   "outputs": [],
   "source": [
    "def find_tract_patch_and_display(butler, skymap,ra_deg, dec_deg, band, framecount):\n",
    "    # Ouvrir le dépôt\n",
    "    #butler = Butler(repo)\n",
    "    #skymap = butler.get(\"skyMap\")\n",
    "    band_to_color = {\"u\":\"blue\",\"g\":\"green\",\"r\":\"red\",\"i\":\"orange\",\"z\":\"yellow\",\"y\":\"purple\"}\n",
    "\n",
    "    datasettype = \"objectTable_tract\"\n",
    "    therefs = butler.registry.queryDatasets(datasettype,  collections=collection)\n",
    "\n",
    "    \n",
    "    # Créer le point céleste\n",
    "    coord = SpherePoint(ra_deg * degrees, dec_deg * degrees)\n",
    "\n",
    "    # Trouver tract/patch\n",
    "#    for tractInfo in skymap:\n",
    "#        if tractInfo.contains(coord):\n",
    "#            patchInfo = tractInfo.findPatch(coord)\n",
    "#            tract = tractInfo.tract\n",
    "#            patch = patchInfo.getIndex()  # Tuple (x, y)\n",
    "#            print(f\"Tract: {tract}, Patch: {patch}\")\n",
    "#            break\n",
    "#    else:\n",
    "#        print(\"Coordonnée en dehors du skymap.\")\n",
    "#.   return\n",
    "    found = False\n",
    "    # loop only on existing tracts\n",
    "    \n",
    "    for ref in therefs:\n",
    "        tract_id = ref.dataId[\"tract\"]\n",
    "        tractInfo = skymap[tract_id]\n",
    "        if tractInfo.contains(coord):\n",
    "            patchInfo = tractInfo.findPatch(coord)\n",
    "            patch_id = patchInfo.getIndex()  # Tuple (x, y)\n",
    "            patch_indexseq = patchInfo.getSequentialIndex()\n",
    "            print(f\"Tract: {tract_id}, Patch: {patch_indexseq}\")\n",
    "            found = True\n",
    "            break\n",
    "    # Charger l’image coadd correspondante\n",
    "    dataId = {\"tract\": tract_id, \"patch\": patch_indexseq, \"band\": band,\"skymap\": skymapName}\n",
    "    #deepCoadd_calexp\n",
    "    coadd = butler.get(\"deepCoadd_calexp\", dataId)\n",
    "    # Récupération du WCS\n",
    "    wcs = coadd.getWcs()\n",
    "\n",
    "    datatitle = f\"deepcoadd-LSSTComCam : {tract_id} , {patch_indexseq} , {band}\"\n",
    "    print(datatitle)\n",
    "\n",
    "    # Affichage avec marqueur\n",
    "    \n",
    "    display = afwDisplay.Display(frame = framecount)\n",
    "    display.scale('asinh', 'zscale')\n",
    "    #afw_display.scale('linear', min=zmin, max=zmax)\n",
    "    #display.setImageColormap(cmap='grey')\n",
    "    display.setImageColormap(cmap='Grey_r')\n",
    "    display.mtv(coadd.getImage(),title=datatitle)\n",
    "\n",
    "    # Création du point céleste\n",
    "    pix_point = wcs.skyToPixel(coord)\n",
    "    x, y = pix_point.x,pix_point.y\n",
    "    \n",
    "    col = band_to_color[band] \n",
    "    display.dot(\"+\", x, y, size=50, ctype=col)\n",
    "    \n",
    "\n",
    "    \n",
    "    return tract_id, patch_indexseq,band"
   ]
  },
  {
   "cell_type": "code",
   "execution_count": null,
   "id": "2bbb53e9-e293-4ea7-ae47-c78930ce5d93",
   "metadata": {
    "execution": {
     "iopub.execute_input": "2025-04-22T21:33:41.188121Z",
     "iopub.status.busy": "2025-04-22T21:33:41.187995Z",
     "iopub.status.idle": "2025-04-22T21:33:41.194052Z",
     "shell.execute_reply": "2025-04-22T21:33:41.193657Z",
     "shell.execute_reply.started": "2025-04-22T21:33:41.188109Z"
    }
   },
   "outputs": [],
   "source": [
    "# https://pipelines.lsst.io/modules/lsst.geom/getting-started.html\n",
    "func_degToRad = lambda x : Angle(x,lsst.geom.degrees).asRadians()"
   ]
  },
  {
   "cell_type": "code",
   "execution_count": null,
   "id": "5af15c53-1d3f-42ee-81d8-508a2daa56c0",
   "metadata": {
    "execution": {
     "iopub.execute_input": "2025-04-22T21:33:41.197050Z",
     "iopub.status.busy": "2025-04-22T21:33:41.196920Z",
     "iopub.status.idle": "2025-04-22T21:33:41.207279Z",
     "shell.execute_reply": "2025-04-22T21:33:41.206875Z",
     "shell.execute_reply.started": "2025-04-22T21:33:41.197037Z"
    }
   },
   "outputs": [],
   "source": [
    "# Set plotting defaults\n",
    "%matplotlib inline\n",
    "import matplotlib.pyplot as plt\n",
    "from matplotlib.ticker import FormatStrFormatter\n",
    "from matplotlib.colors import ListedColormap\n",
    "from matplotlib import colors\n",
    "zscale = ZScaleInterval()\n",
    "\n",
    "# Set up some plotting defaults:\n",
    "plt.rcParams.update({'figure.figsize' : (12, 8)})\n",
    "plt.rcParams.update({'font.size' : 24})\n",
    "plt.rcParams.update({'axes.linewidth' : 3})\n",
    "plt.rcParams.update({'axes.labelweight' : 3})\n",
    "plt.rcParams.update({'axes.titleweight' : 5})\n",
    "plt.rcParams.update({'ytick.major.width' : 3})\n",
    "plt.rcParams.update({'ytick.minor.width' : 2})\n",
    "plt.rcParams.update({'ytick.major.size' : 8})\n",
    "plt.rcParams.update({'ytick.minor.size' : 5})\n",
    "plt.rcParams.update({'xtick.major.size' : 8})\n",
    "plt.rcParams.update({'xtick.minor.size' : 5})\n",
    "plt.rcParams.update({'xtick.major.width' : 3})\n",
    "plt.rcParams.update({'xtick.minor.width' : 2})\n",
    "plt.rcParams.update({'xtick.direction' : 'in'})\n",
    "plt.rcParams.update({'ytick.direction' : 'in'})\n"
   ]
  },
  {
   "cell_type": "code",
   "execution_count": null,
   "id": "352858ec-5409-4046-89c4-d9a41f2a400e",
   "metadata": {
    "execution": {
     "iopub.execute_input": "2025-04-22T21:33:41.207854Z",
     "iopub.status.busy": "2025-04-22T21:33:41.207728Z",
     "iopub.status.idle": "2025-04-22T21:33:41.210123Z",
     "shell.execute_reply": "2025-04-22T21:33:41.209732Z",
     "shell.execute_reply.started": "2025-04-22T21:33:41.207842Z"
    }
   },
   "outputs": [],
   "source": [
    "def angle_in_range(alpha, lower, upper):\n",
    "    return (alpha - lower) % 360 <= (upper - lower) % 360"
   ]
  },
  {
   "cell_type": "code",
   "execution_count": null,
   "id": "c2e61470-5dd3-4b6e-b800-a25bedfc0a7e",
   "metadata": {
    "execution": {
     "iopub.execute_input": "2025-04-22T21:33:41.210694Z",
     "iopub.status.busy": "2025-04-22T21:33:41.210564Z",
     "iopub.status.idle": "2025-04-22T21:33:41.216948Z",
     "shell.execute_reply": "2025-04-22T21:33:41.216555Z",
     "shell.execute_reply.started": "2025-04-22T21:33:41.210681Z"
    }
   },
   "outputs": [],
   "source": [
    "def get_bbox_radec(wcs, bbox):\n",
    "    \"\"\"\n",
    "    Return the corners in RA,Dec in degrees given the WCS and bounding box for an image.\n",
    "\n",
    "    Parameters\n",
    "    ----------\n",
    "    wcs: image WCS returned by the Butler\n",
    "    bbox: bounding box returned by the Butler\n",
    "\n",
    "    Returns\n",
    "    -------\n",
    "    ramin,ramax,decmin,decmax in decimal degrees\n",
    "    \"\"\"\n",
    "\n",
    "    xmin = bbox.beginX\n",
    "    xmax = bbox.endX\n",
    "    ymin = bbox.beginY\n",
    "    ymax = bbox.endY\n",
    "    \n",
    "    radec_ll = wcs.pixelToSky(xmin, ymin)\n",
    "    radec_ur = wcs.pixelToSky(xmax, ymax)\n",
    "        \n",
    "    return radec_ur.getRa().asDegrees(),radec_ll.getRa().asDegrees(), radec_ll.getDec().asDegrees(),radec_ur.getDec().asDegrees() \n"
   ]
  },
  {
   "cell_type": "code",
   "execution_count": null,
   "id": "57faae1f-6bc6-4784-9005-2555cfbf52ee",
   "metadata": {
    "execution": {
     "iopub.execute_input": "2025-04-22T21:33:41.217523Z",
     "iopub.status.busy": "2025-04-22T21:33:41.217401Z",
     "iopub.status.idle": "2025-04-22T21:33:41.223803Z",
     "shell.execute_reply": "2025-04-22T21:33:41.223458Z",
     "shell.execute_reply.started": "2025-04-22T21:33:41.217512Z"
    }
   },
   "outputs": [],
   "source": [
    "def isradec_inbbox_angularsep(ra,dec,wcs, bbox):\n",
    "    \"\"\"\n",
    "    Return the corners in RA,Dec in degrees given the WCS and bounding box for an image.\n",
    "\n",
    "    Parameters\n",
    "    ----------\n",
    "    ra: ra in degree\n",
    "    dec: dec in degree\n",
    "    wcs: image WCS returned by the Butler\n",
    "    bbox: bounding box returned by the Butler\n",
    "\n",
    "    Returns\n",
    "    -------\n",
    "    float in degree\n",
    "    \n",
    "    \"\"\"\n",
    "\n",
    "   \n",
    "    RAMIN,RAMAX,DECMIN,DECMAX = get_bbox_radec(wcs, bbox)\n",
    "  \n",
    "    RAMEAN = np.mean([RAMIN,RAMAX])\n",
    "    DECMEAN = np.mean([DECMIN,DECMAX])\n",
    "\n",
    "    sp0 = SpherePoint(longitude=geom.Angle(ra,geom.degrees),latitude=geom.Angle(dec,geom.degrees))\n",
    "    sp1 = SpherePoint(longitude=geom.Angle(RAMEAN,geom.degrees),latitude=geom.Angle(DECMEAN,geom.degrees)) \n",
    "    \n",
    "    sep = sp0.separation(sp1).asDegrees()\n",
    "     \n",
    "    return sep\n"
   ]
  },
  {
   "cell_type": "code",
   "execution_count": null,
   "id": "fed836bf-cd9f-4de1-92ff-d62f4f87f60a",
   "metadata": {
    "execution": {
     "iopub.execute_input": "2025-04-22T21:33:41.224336Z",
     "iopub.status.busy": "2025-04-22T21:33:41.224211Z",
     "iopub.status.idle": "2025-04-22T21:33:41.232081Z",
     "shell.execute_reply": "2025-04-22T21:33:41.231738Z",
     "shell.execute_reply.started": "2025-04-22T21:33:41.224324Z"
    }
   },
   "outputs": [],
   "source": [
    "def isradec_inbbox_radec(ra,dec,wcs, bbox):\n",
    "    \"\"\"\n",
    "    Return the corners in RA,Dec in degrees given the WCS and bounding box for an image.\n",
    "\n",
    "    Parameters\n",
    "    ----------\n",
    "    ra: ra in degree\n",
    "    dec: dec in degree\n",
    "    wcs: image WCS returned by the Butler\n",
    "    bbox: bounding box returned by the Butler\n",
    "\n",
    "    Returns\n",
    "    -------\n",
    "    Bool\n",
    "    \n",
    "    \"\"\"\n",
    "\n",
    "    RAMIN,RAMAX,DECMIN,DECMAX = get_bbox_radec(wcs, bbox)\n",
    "\n",
    "    flag_ra = angle_in_range(ra,RAMIN,RAMAX)\n",
    "    flag_dec = angle_in_range(dec,DECMIN,DECMAX)\n",
    "\n",
    "    flag = flag_ra and flag_dec\n",
    "    return flag\n"
   ]
  },
  {
   "cell_type": "code",
   "execution_count": null,
   "id": "a86f902b-bf08-4874-a2ae-85d5c20907b7",
   "metadata": {
    "execution": {
     "iopub.execute_input": "2025-04-22T21:33:41.232667Z",
     "iopub.status.busy": "2025-04-22T21:33:41.232495Z",
     "iopub.status.idle": "2025-04-22T21:33:41.239080Z",
     "shell.execute_reply": "2025-04-22T21:33:41.238752Z",
     "shell.execute_reply.started": "2025-04-22T21:33:41.232654Z"
    }
   },
   "outputs": [],
   "source": [
    "def FindTractAndPatch(row):\n",
    "    \"\"\"\n",
    "    Apply this function on ccdvisitTable dataframe to find the tract and patch for each visit\n",
    "    \"\"\"\n",
    "     \n",
    "    try:\n",
    "        ra = row[\"ra\"]\n",
    "        dec = row[\"dec\"]\n",
    "        selectFlag = False\n",
    "        # loop on tract\n",
    "        for tractID in tractsId_list:\n",
    "            tractInfo = skymap.generateTract(tractID)\n",
    "            patches_selected = [patch.getSequentialIndex() for patch in tractInfo]\n",
    "            wcs=tractInfo.getWcs()\n",
    "            # loop on patches\n",
    "            for patch in tractInfo:\n",
    "                patchID = patch.getSequentialIndex()\n",
    "                if patchID in patches_selected:\n",
    "                    ibb=patch.getInnerBBox()\n",
    "                    flag = isradec_inbbox_radec(ra,dec,wcs, ibb)\n",
    "                    selectFlag =  selectFlag or flag\n",
    "                    if selectFlag:\n",
    "                        return pd.Series([tractID,patchID])\n",
    "        return pd.Series([0,0])           \n",
    "                \n",
    "    except Exception as inst:\n",
    "        print(type(inst))    # the exception type\n",
    "        print(inst.args)     # arguments stored in .args\n",
    "        print(inst)          # __str__ allows args to be printed directly,\n",
    "        return pd.Series([0,0])  \n",
    "        "
   ]
  },
  {
   "cell_type": "code",
   "execution_count": null,
   "id": "97d63db3-29a2-478f-8ebe-19108a12ee50",
   "metadata": {
    "execution": {
     "iopub.execute_input": "2025-04-22T21:33:41.239668Z",
     "iopub.status.busy": "2025-04-22T21:33:41.239496Z",
     "iopub.status.idle": "2025-04-22T21:33:41.247600Z",
     "shell.execute_reply": "2025-04-22T21:33:41.247258Z",
     "shell.execute_reply.started": "2025-04-22T21:33:41.239656Z"
    }
   },
   "outputs": [],
   "source": [
    "def FindTractAndPatchFromAngularSep(row):\n",
    "    \"\"\"\n",
    "    Apply this function on ccdvisitTable dataframe to find the tract and patch for each visit\n",
    "    Need the tractsId_list not to scan the whole skymap\n",
    "    \"\"\"\n",
    "\n",
    "     \n",
    "    try:\n",
    "        ra = row[\"ra\"]\n",
    "        dec = row[\"dec\"]\n",
    "        \n",
    "        # loop on tracts\n",
    "        List_of_tractids = []\n",
    "        List_of_patchids = []\n",
    "        List_of_sep = []\n",
    "        \n",
    "        for tractID in tractsId_list:\n",
    "            tractInfo = skymap.generateTract(tractID)\n",
    "            patches_selected = [patch.getSequentialIndex() for patch in tractInfo]\n",
    "         \n",
    "            wcs=tractInfo.getWcs()\n",
    "            # loop on patches\n",
    "            patches_ids = []\n",
    "            patches_sep = []\n",
    "            # loop on patches\n",
    "            for patch in tractInfo:\n",
    "                patchID = patch.getSequentialIndex()\n",
    "                if patchID in patches_selected:\n",
    "                    ibb=patch.getInnerBBox()\n",
    "                  \n",
    "                    sep = isradec_inbbox_angularsep(ra,dec,wcs, ibb)\n",
    "                    patches_ids.append(patchID)\n",
    "                    patches_sep.append(sep)\n",
    "                    \n",
    "            # find the patch with the minimum distance\n",
    "            patches_ids=np.array(patches_ids)\n",
    "            patches_sep= np.array(patches_sep)\n",
    "            idx_sepmin = int(np.where(patches_sep==patches_sep.min())[0])\n",
    "            \n",
    "            \n",
    "            List_of_tractids.append(tractID)\n",
    "            List_of_patchids.append(patches_ids[idx_sepmin])\n",
    "            List_of_sep.append(patches_sep[idx_sepmin])\n",
    "            \n",
    "        List_of_tractids=np.array(List_of_tractids)\n",
    "        List_of_patchids=np.array(List_of_patchids)\n",
    "        List_of_sep= np.array(List_of_sep)\n",
    "        idx_sepmin = int(np.where(List_of_sep==List_of_sep.min())[0])\n",
    "\n",
    "        tractID_sel = List_of_tractids[idx_sepmin]\n",
    "        patchID_sel = List_of_patchids[idx_sepmin]\n",
    "       \n",
    "            \n",
    "        return pd.Series([tractID_sel,patchID_sel])\n",
    "               \n",
    "                \n",
    "    except Exception as inst:\n",
    "        print(type(inst))    # the exception type\n",
    "        print(inst.args)     # arguments stored in .args\n",
    "        print(inst)          # __str__ allows args to be printed directly,\n",
    "        return pd.Series([0,0])  \n",
    "        "
   ]
  },
  {
   "cell_type": "code",
   "execution_count": null,
   "id": "7bfe58fb-fdba-46d3-b05b-983f147aeab1",
   "metadata": {
    "execution": {
     "iopub.execute_input": "2025-04-22T21:33:41.248110Z",
     "iopub.status.busy": "2025-04-22T21:33:41.247990Z",
     "iopub.status.idle": "2025-04-22T21:33:41.262872Z",
     "shell.execute_reply": "2025-04-22T21:33:41.262510Z",
     "shell.execute_reply.started": "2025-04-22T21:33:41.248098Z"
    }
   },
   "outputs": [],
   "source": [
    "def plotAVisit(row,ax=None):\n",
    "    \"\"\"\n",
    "    row : dataframe row\n",
    "    ax \n",
    "    \"\"\"\n",
    "\n",
    "    if ax == None:\n",
    "        fig, ax = plt.subplots(1,1,figsize=(5,5))\n",
    "        \n",
    "    visitid = row[\"visitId\"]\n",
    "    ra= row[\"ra\"]\n",
    "    dec = row[\"dec\"]\n",
    "    tract_id  = row[\"tractID\"]\n",
    "    patch_id  = row[\"patchID\"]\n",
    "    label = f\"tract {tract_id} , patch {patch_id}\"              \n",
    "    \n",
    "    tractInfo = skymap.generateTract(tract_id)\n",
    "    patches_selected = [patch.getSequentialIndex() for patch in tractInfo]     \n",
    "    wcs=tractInfo.getWcs()\n",
    "            \n",
    "    # loop on patches\n",
    "    all_ra = []\n",
    "    all_dec = []\n",
    "    corners = []\n",
    "    for patch in tractInfo:\n",
    "        patchID = patch.getSequentialIndex()\n",
    "        if patchID == patch_id :\n",
    "            ibb=patch.getInnerBBox()\n",
    "            RAMIN,RAMAX,DECMIN,DECMAX = get_bbox_radec(wcs, ibb)\n",
    "            for icorn,corner in enumerate(ibb.getCorners()):\n",
    "                p = geom.Point2D(corner.getX(), corner.getY())\n",
    "                coord = wcs.pixelToSky(p)\n",
    "                corners.append([coord.getRa().asDegrees(), coord.getDec().asDegrees()])\n",
    "                all_ra.append(coord.getRa().asDegrees()) \n",
    "                all_dec.append(coord.getDec().asDegrees()) \n",
    "    if (len(all_ra)>0) and (len(all_dec)>0):\n",
    "        all_ra.append(all_ra[0])\n",
    "        all_dec.append(all_dec[0])\n",
    "        print(ax)\n",
    "        ax.plot(all_ra,all_dec,'b-',lw=3,label=label)\n",
    "        ax.scatter([ra],[dec],marker = 'o',s=20,c=\"r\",label=visitid)\n",
    "        ax.xaxis.set_major_formatter(FormatStrFormatter('%.2f'))\n",
    "        ax.yaxis.set_major_formatter(FormatStrFormatter('%.2f'))\n",
    "        ax.legend()\n",
    "                "
   ]
  },
  {
   "cell_type": "markdown",
   "id": "a3f04297-3975-4baa-9e7f-146cd717904c",
   "metadata": {},
   "source": [
    "## Build the table of AGN"
   ]
  },
  {
   "cell_type": "code",
   "execution_count": null,
   "id": "fdd48e59-d068-4c3c-a5f9-1c277959c9a1",
   "metadata": {
    "execution": {
     "iopub.execute_input": "2025-04-22T21:33:41.263566Z",
     "iopub.status.busy": "2025-04-22T21:33:41.263299Z",
     "iopub.status.idle": "2025-04-22T21:33:41.366003Z",
     "shell.execute_reply": "2025-04-22T21:33:41.365523Z",
     "shell.execute_reply.started": "2025-04-22T21:33:41.263552Z"
    }
   },
   "outputs": [],
   "source": [
    "from astroquery.vizier import Vizier\n",
    "from astropy.coordinates import SkyCoord\n",
    "import astropy.units as u"
   ]
  },
  {
   "cell_type": "code",
   "execution_count": null,
   "id": "ffc9c099-0200-4a2f-aea6-98e0369c4c6c",
   "metadata": {
    "execution": {
     "iopub.execute_input": "2025-04-22T21:33:41.366651Z",
     "iopub.status.busy": "2025-04-22T21:33:41.366515Z",
     "iopub.status.idle": "2025-04-22T21:33:41.368901Z",
     "shell.execute_reply": "2025-04-22T21:33:41.368502Z",
     "shell.execute_reply.started": "2025-04-22T21:33:41.366637Z"
    }
   },
   "outputs": [],
   "source": [
    "ECDFS_RA = 53.1\n",
    "ECDFS_DEC = -27.8\n",
    "ECDFS_COORD = SpherePoint(ECDFS_RA, ECDFS_DEC , degrees)"
   ]
  },
  {
   "cell_type": "code",
   "execution_count": null,
   "id": "4a3e4c07-1570-4588-976a-678132c11b09",
   "metadata": {
    "execution": {
     "iopub.execute_input": "2025-04-22T21:33:41.369688Z",
     "iopub.status.busy": "2025-04-22T21:33:41.369357Z",
     "iopub.status.idle": "2025-04-22T21:33:41.417220Z",
     "shell.execute_reply": "2025-04-22T21:33:41.416709Z",
     "shell.execute_reply.started": "2025-04-22T21:33:41.369675Z"
    }
   },
   "outputs": [],
   "source": [
    "# Coordonnées approximatives du centre du E-CDFS\n",
    "coord = SkyCoord(ra=ECDFS_RA, dec = ECDFS_DEC, unit=(u.deg, u.deg), frame='icrs')\n",
    "radius = 15 * u.arcmin\n",
    "\n",
    "# Exemple avec le catalogue Luo+2017 (7Ms CDF-S)\n",
    "catalog_id = \"J/ApJS/228/2\"\n",
    "result = Vizier(columns=[\"*\"]).query_region(coord, radius=radius, catalog=catalog_id)"
   ]
  },
  {
   "cell_type": "code",
   "execution_count": null,
   "id": "474756e6-6c8d-444f-961c-a5dad8b43648",
   "metadata": {
    "execution": {
     "iopub.execute_input": "2025-04-22T21:33:41.417871Z",
     "iopub.status.busy": "2025-04-22T21:33:41.417737Z",
     "iopub.status.idle": "2025-04-22T21:33:41.420436Z",
     "shell.execute_reply": "2025-04-22T21:33:41.420079Z",
     "shell.execute_reply.started": "2025-04-22T21:33:41.417858Z"
    }
   },
   "outputs": [],
   "source": [
    "sources_table = result['J/ApJS/228/2/sources']\n",
    "print(sources_table.colnames)"
   ]
  },
  {
   "cell_type": "code",
   "execution_count": null,
   "id": "59d07558-1ea0-4379-86f7-8b185ba5db33",
   "metadata": {},
   "outputs": [],
   "source": []
  },
  {
   "cell_type": "code",
   "execution_count": null,
   "id": "1eff963d-56d8-413c-bce5-a0d779c34e99",
   "metadata": {
    "execution": {
     "iopub.execute_input": "2025-04-22T21:33:41.421007Z",
     "iopub.status.busy": "2025-04-22T21:33:41.420879Z",
     "iopub.status.idle": "2025-04-22T21:33:41.441451Z",
     "shell.execute_reply": "2025-04-22T21:33:41.441038Z",
     "shell.execute_reply.started": "2025-04-22T21:33:41.420995Z"
    }
   },
   "outputs": [],
   "source": [
    "# On calcule le log10 de LX\n",
    "logLX = np.log10(sources_table['LX'])\n",
    "\n",
    "# Et on l'ajoute comme nouvelle colonne à la table\n",
    "sources_table['logLX'] = logLX\n",
    "\n",
    "# Attention au nom exact de la colonne\n",
    "logLX = sources_table['logLX']\n",
    "is_agn = logLX > 42\n",
    "\n",
    "is_agn = sources_table['logLX'] > 42  # AGN si LX > 10^42 erg/s\n",
    "agn_table = sources_table[is_agn]"
   ]
  },
  {
   "cell_type": "code",
   "execution_count": null,
   "id": "61a131d7-b7bd-4098-af0e-ff9019ffcb23",
   "metadata": {
    "execution": {
     "iopub.execute_input": "2025-04-22T21:33:41.442030Z",
     "iopub.status.busy": "2025-04-22T21:33:41.441901Z",
     "iopub.status.idle": "2025-04-22T21:33:41.450012Z",
     "shell.execute_reply": "2025-04-22T21:33:41.449607Z",
     "shell.execute_reply.started": "2025-04-22T21:33:41.442018Z"
    }
   },
   "outputs": [],
   "source": [
    "agn_table[['RAJ2000', 'DEJ2000', 'logLX', 'LX', 'zspec']].pprint(max_lines=10)"
   ]
  },
  {
   "cell_type": "code",
   "execution_count": null,
   "id": "e902b64e-1149-4f50-8cf1-b5720ed24da6",
   "metadata": {
    "execution": {
     "iopub.execute_input": "2025-04-22T21:33:41.450602Z",
     "iopub.status.busy": "2025-04-22T21:33:41.450470Z",
     "iopub.status.idle": "2025-04-22T21:33:41.459974Z",
     "shell.execute_reply": "2025-04-22T21:33:41.459524Z",
     "shell.execute_reply.started": "2025-04-22T21:33:41.450585Z"
    }
   },
   "outputs": [],
   "source": [
    "galaxy_table = sources_table[sources_table['OType'] == 'Galaxy']"
   ]
  },
  {
   "cell_type": "code",
   "execution_count": null,
   "id": "b1edfa51-80a6-4d65-944d-c33a505049a3",
   "metadata": {
    "execution": {
     "iopub.execute_input": "2025-04-22T21:33:41.460550Z",
     "iopub.status.busy": "2025-04-22T21:33:41.460427Z",
     "iopub.status.idle": "2025-04-22T21:33:41.467738Z",
     "shell.execute_reply": "2025-04-22T21:33:41.467365Z",
     "shell.execute_reply.started": "2025-04-22T21:33:41.460538Z"
    }
   },
   "outputs": [],
   "source": [
    "galaxy_table[['RAJ2000', 'DEJ2000', 'logLX', 'LX', 'zspec']].pprint(max_lines=10)"
   ]
  },
  {
   "cell_type": "markdown",
   "id": "3506978f-3a1e-47a9-90c1-b576f17d092f",
   "metadata": {},
   "source": [
    "## Start Here with initialisation\n",
    "\n",
    "\n",
    "- Check here the collection available : https://rubinobs.atlassian.net/wiki/spaces/DM/pages/226656354/LSSTComCam+Intermittent+Cumulative+DRP+Runs"
   ]
  },
  {
   "cell_type": "code",
   "execution_count": null,
   "id": "58131b3b-f3bf-461a-8c71-d236e7d5e7fa",
   "metadata": {
    "execution": {
     "iopub.execute_input": "2025-04-22T21:33:41.468307Z",
     "iopub.status.busy": "2025-04-22T21:33:41.468179Z",
     "iopub.status.idle": "2025-04-22T21:33:41.474538Z",
     "shell.execute_reply": "2025-04-22T21:33:41.474195Z",
     "shell.execute_reply.started": "2025-04-22T21:33:41.468296Z"
    }
   },
   "outputs": [],
   "source": [
    "# The output repo is tagged with the Jira ticket number \"DM-40356\":\n",
    "repo = '/repo/main'\n",
    "#collection = 'LSSTComCam/runs/DRP/DP1/w_2025_05/DM-48666' # work\n",
    "#collection = 'LSSTComCam/runs/DRP/DP1/w_2025_06/DM-48810' # work\n",
    "collection = 'LSSTComCam/runs/DRP/DP1/w_2025_10/DM-49359' # work\n",
    "\n",
    "\n",
    "# bad : crash collection = 'LSSTComCam/runs/DRP/DP1/w_2025_08/DM-49029'\n",
    "\n",
    "# bad : collection = \"LSSTComCam/runs/DRP/20241101_20241211/w_2024_51/DM-48233\"\n",
    "\n",
    "# not working perhaps because I am using w_2025_10 version\n",
    "# bad : no ccd visit collection = \"LSSTComCam/runs/DRP/DP1/w_2025_14/DM-49864\"\n",
    "# bad : no ccd visit collection = 'LSSTComCam/runs/DRP/DP1/w_2025_15/DM-50050'\n",
    "# bad : no cce visit collection = 'LSSTComCam/runs/DRP/DP1/w_2025_14/DM-49864'\n",
    "# bad : no cce visit collection collection = 'LSSTComCam/runs/DRP/DP1/w_2025_13/DM-49751'\n",
    "\n",
    "\n",
    "instrument = \"LSSTComCam\"\n",
    "skymapName = \"lsst_cells_v1\"\n",
    "where_clause = \"instrument = \\'\" + instrument+ \"\\'\"\n",
    "collectionStr = collection.replace(\"/\", \"_\")\n",
    "NDET = 9\n",
    "TRACTSEL = 5063\n",
    "fn_ccdVisit_tracts_patches = f\"ccdVisittractpatch_{collectionStr}.csv\""
   ]
  },
  {
   "cell_type": "code",
   "execution_count": null,
   "id": "804fcb8b-d567-4a27-b102-05ed002051c4",
   "metadata": {
    "execution": {
     "iopub.execute_input": "2025-04-22T21:33:41.475218Z",
     "iopub.status.busy": "2025-04-22T21:33:41.474957Z",
     "iopub.status.idle": "2025-04-22T21:33:41.822749Z",
     "shell.execute_reply": "2025-04-22T21:33:41.822281Z",
     "shell.execute_reply.started": "2025-04-22T21:33:41.475204Z"
    }
   },
   "outputs": [],
   "source": [
    "# Initialize the butler repo:\n",
    "butler = Butler(repo, collections=collection)\n",
    "registry = butler.registry"
   ]
  },
  {
   "cell_type": "code",
   "execution_count": null,
   "id": "03249edb-84b0-4f36-ae94-af25391b468e",
   "metadata": {
    "execution": {
     "iopub.execute_input": "2025-04-22T21:33:41.823420Z",
     "iopub.status.busy": "2025-04-22T21:33:41.823283Z",
     "iopub.status.idle": "2025-04-22T21:33:42.184689Z",
     "shell.execute_reply": "2025-04-22T21:33:42.184211Z",
     "shell.execute_reply.started": "2025-04-22T21:33:41.823406Z"
    }
   },
   "outputs": [],
   "source": [
    "skymap = butler.get('skyMap', skymap=skymapName, collections=collection)"
   ]
  },
  {
   "cell_type": "code",
   "execution_count": null,
   "id": "ef1ab817-3225-4cc3-82b5-37f86d1f33cc",
   "metadata": {
    "execution": {
     "iopub.execute_input": "2025-04-22T21:33:42.185360Z",
     "iopub.status.busy": "2025-04-22T21:33:42.185224Z",
     "iopub.status.idle": "2025-04-22T21:33:42.189925Z",
     "shell.execute_reply": "2025-04-22T21:33:42.189560Z",
     "shell.execute_reply.started": "2025-04-22T21:33:42.185346Z"
    }
   },
   "outputs": [],
   "source": [
    "# 4. Trouver dans quel tract/patch se trouve la coordonnée\n",
    "ECDFS_tract_info = skymap.findTract(ECDFS_COORD)"
   ]
  },
  {
   "cell_type": "code",
   "execution_count": null,
   "id": "d8becbb0-1595-447b-a2ea-fe81515fbd3a",
   "metadata": {
    "execution": {
     "iopub.execute_input": "2025-04-22T21:33:42.190479Z",
     "iopub.status.busy": "2025-04-22T21:33:42.190350Z",
     "iopub.status.idle": "2025-04-22T21:33:42.197171Z",
     "shell.execute_reply": "2025-04-22T21:33:42.196807Z",
     "shell.execute_reply.started": "2025-04-22T21:33:42.190466Z"
    }
   },
   "outputs": [],
   "source": [
    "print('Tract number for ECDFS ::',ECDFS_tract_info.getId())"
   ]
  },
  {
   "cell_type": "code",
   "execution_count": null,
   "id": "fa1992cb-691e-4408-a03b-2477c0bf052d",
   "metadata": {
    "execution": {
     "iopub.execute_input": "2025-04-22T21:33:42.197877Z",
     "iopub.status.busy": "2025-04-22T21:33:42.197748Z",
     "iopub.status.idle": "2025-04-22T21:33:42.203840Z",
     "shell.execute_reply": "2025-04-22T21:33:42.203492Z",
     "shell.execute_reply.started": "2025-04-22T21:33:42.197864Z"
    }
   },
   "outputs": [],
   "source": [
    "TRACTSEL = ECDFS_tract_info.getId()"
   ]
  },
  {
   "cell_type": "code",
   "execution_count": null,
   "id": "826aebd4-b08d-4259-a715-2274b75182c2",
   "metadata": {
    "execution": {
     "iopub.execute_input": "2025-04-22T21:33:42.204362Z",
     "iopub.status.busy": "2025-04-22T21:33:42.204238Z",
     "iopub.status.idle": "2025-04-22T21:33:46.235015Z",
     "shell.execute_reply": "2025-04-22T21:33:46.234510Z",
     "shell.execute_reply.started": "2025-04-22T21:33:42.204349Z"
    }
   },
   "outputs": [],
   "source": [
    "# Check here the collections available\n",
    "#\n",
    "for _ in registry.queryCollections():\n",
    "    if collection in _:\n",
    "        print(_)"
   ]
  },
  {
   "cell_type": "code",
   "execution_count": null,
   "id": "d6dbd6d0-8f6c-441a-b465-b983e87cef9f",
   "metadata": {
    "execution": {
     "iopub.execute_input": "2025-04-22T21:33:46.235688Z",
     "iopub.status.busy": "2025-04-22T21:33:46.235543Z",
     "iopub.status.idle": "2025-04-22T21:33:46.239219Z",
     "shell.execute_reply": "2025-04-22T21:33:46.238848Z",
     "shell.execute_reply.started": "2025-04-22T21:33:46.235674Z"
    }
   },
   "outputs": [],
   "source": [
    "# List a number of usefull data-product to explore\n",
    "if 0:\n",
    "    for datasetType in registry.queryDatasetTypes():\n",
    "        if registry.queryDatasets(datasetType, collections=collection).any(\n",
    "            execute=False, exact=False\n",
    "        ):\n",
    "            # Limit search results to the data products\n",
    "            if (\n",
    "                (\"_config\" not in datasetType.name)\n",
    "                and (\"_log\" not in datasetType.name)\n",
    "                and (\"_metadata\" not in datasetType.name)\n",
    "                and (\"_resource_usage\" not in datasetType.name)\n",
    "                and ((\"Table\" in datasetType.name) or (\"Zeropointp\" in datasetType.name) or (\"fgcm\" in datasetType.name) or (\"transm\" in datasetType.name) or (\"Transm\" in datasetType.name)\n",
    "                or (\"source\" in datasetType.name) or (\"Source\" in datasetType.name) or (\"object\" in datasetType.name) or (\"Object\" in datasetType.name))\n",
    "            ):\n",
    "                print(datasetType)"
   ]
  },
  {
   "cell_type": "markdown",
   "id": "57be8008-c849-440e-9bae-8649564d3373",
   "metadata": {},
   "source": [
    "## Get list of Tracts and Patches"
   ]
  },
  {
   "cell_type": "code",
   "execution_count": null,
   "id": "c0823ed5-9b23-4548-af23-12d707772667",
   "metadata": {
    "execution": {
     "iopub.execute_input": "2025-04-22T21:33:46.239809Z",
     "iopub.status.busy": "2025-04-22T21:33:46.239675Z",
     "iopub.status.idle": "2025-04-22T21:33:46.313222Z",
     "shell.execute_reply": "2025-04-22T21:33:46.312752Z",
     "shell.execute_reply.started": "2025-04-22T21:33:46.239795Z"
    }
   },
   "outputs": [],
   "source": [
    "datasettype = \"objectTable_tract\"\n",
    "therefs = butler.registry.queryDatasets(datasettype,  collections=collection)"
   ]
  },
  {
   "cell_type": "code",
   "execution_count": null,
   "id": "f810d737-c393-40bb-bc60-32e3706cf4a0",
   "metadata": {
    "execution": {
     "iopub.execute_input": "2025-04-22T21:33:46.313987Z",
     "iopub.status.busy": "2025-04-22T21:33:46.313829Z",
     "iopub.status.idle": "2025-04-22T21:33:46.329542Z",
     "shell.execute_reply": "2025-04-22T21:33:46.329151Z",
     "shell.execute_reply.started": "2025-04-22T21:33:46.313971Z"
    }
   },
   "outputs": [],
   "source": [
    "tractsId_list = np.unique([ref.dataId['tract'] for ref in therefs])\n",
    "tractsId_list = sorted(tractsId_list)\n",
    "print(tractsId_list)"
   ]
  },
  {
   "cell_type": "markdown",
   "id": "3243cf8c-feb7-4167-92c9-b484336b8116",
   "metadata": {},
   "source": [
    "## Forced source table"
   ]
  },
  {
   "cell_type": "code",
   "execution_count": null,
   "id": "76088cd1-fd00-4b97-98cc-b4f37a593801",
   "metadata": {
    "execution": {
     "iopub.execute_input": "2025-04-22T21:33:46.330160Z",
     "iopub.status.busy": "2025-04-22T21:33:46.330022Z",
     "iopub.status.idle": "2025-04-22T21:33:46.338978Z",
     "shell.execute_reply": "2025-04-22T21:33:46.338609Z",
     "shell.execute_reply.started": "2025-04-22T21:33:46.330145Z"
    }
   },
   "outputs": [],
   "source": [
    "df_galaxy = galaxy_table.to_pandas()"
   ]
  },
  {
   "cell_type": "code",
   "execution_count": null,
   "id": "0973616d-2116-47e1-acb2-db61a311ff55",
   "metadata": {
    "execution": {
     "iopub.execute_input": "2025-04-22T21:33:46.339569Z",
     "iopub.status.busy": "2025-04-22T21:33:46.339430Z",
     "iopub.status.idle": "2025-04-22T21:33:46.350887Z",
     "shell.execute_reply": "2025-04-22T21:33:46.350511Z",
     "shell.execute_reply.started": "2025-04-22T21:33:46.339555Z"
    }
   },
   "outputs": [],
   "source": [
    "df_agn = agn_table.to_pandas()"
   ]
  },
  {
   "cell_type": "code",
   "execution_count": null,
   "id": "c5a78be5-8bd4-4b05-ad29-ca71fe5a1e5e",
   "metadata": {
    "execution": {
     "iopub.execute_input": "2025-04-22T21:33:46.351803Z",
     "iopub.status.busy": "2025-04-22T21:33:46.351357Z",
     "iopub.status.idle": "2025-04-22T21:33:46.376559Z",
     "shell.execute_reply": "2025-04-22T21:33:46.376184Z",
     "shell.execute_reply.started": "2025-04-22T21:33:46.351786Z"
    }
   },
   "outputs": [],
   "source": [
    "df_agn"
   ]
  },
  {
   "cell_type": "code",
   "execution_count": null,
   "id": "0adb14c3-9fa2-4ce2-a285-b0d548f0ff84",
   "metadata": {
    "execution": {
     "iopub.execute_input": "2025-04-22T21:33:46.377167Z",
     "iopub.status.busy": "2025-04-22T21:33:46.377030Z",
     "iopub.status.idle": "2025-04-22T21:33:46.579104Z",
     "shell.execute_reply": "2025-04-22T21:33:46.578619Z",
     "shell.execute_reply.started": "2025-04-22T21:33:46.377153Z"
    }
   },
   "outputs": [],
   "source": [
    "plt.figure(figsize=(14,5))\n",
    "\n",
    "plt.subplot(1, 2, 1)\n",
    "plt.hist(df_agn['zspec'].values, bins=20, color='green', alpha=0.7)\n",
    "plt.xlabel(\"Redshift zspec\")\n",
    "plt.ylabel(\"Nombre de sources\")\n",
    "plt.title(\"Distribution en redshift\")\n",
    "\n",
    "plt.subplot(1, 2, 2)\n",
    "plt.hist(df_agn['logLX'].values, bins=20, color='orange', alpha=0.7)\n",
    "plt.xlabel(\"log(Lx) [erg/s]\")\n",
    "plt.ylabel(\"Nombre de sources\")\n",
    "plt.title(\"Distribution de la luminosité X\")\n",
    "\n",
    "plt.tight_layout()\n",
    "plt.show()\n"
   ]
  },
  {
   "cell_type": "markdown",
   "id": "b20d2431-baf2-4f64-acdd-4301479d3981",
   "metadata": {
    "execution": {
     "iopub.execute_input": "2025-04-21T12:06:53.157322Z",
     "iopub.status.busy": "2025-04-21T12:06:53.157187Z",
     "iopub.status.idle": "2025-04-21T12:06:53.279027Z",
     "shell.execute_reply": "2025-04-21T12:06:53.278463Z",
     "shell.execute_reply.started": "2025-04-21T12:06:53.157309Z"
    }
   },
   "source": [
    "## Select One AGN"
   ]
  },
  {
   "cell_type": "code",
   "execution_count": null,
   "id": "6f2bea9b-889e-486d-a023-f2bf0e568f6a",
   "metadata": {
    "execution": {
     "iopub.execute_input": "2025-04-22T21:33:46.579855Z",
     "iopub.status.busy": "2025-04-22T21:33:46.579696Z",
     "iopub.status.idle": "2025-04-22T21:33:46.596401Z",
     "shell.execute_reply": "2025-04-22T21:33:46.595985Z",
     "shell.execute_reply.started": "2025-04-22T21:33:46.579837Z"
    }
   },
   "outputs": [],
   "source": [
    "df_agn[df_agn[\"zspec\"]<1.5]"
   ]
  },
  {
   "cell_type": "code",
   "execution_count": null,
   "id": "ee4d85d6-2e9a-4fff-9cbf-044565619bdc",
   "metadata": {
    "execution": {
     "iopub.execute_input": "2025-04-22T21:33:46.597164Z",
     "iopub.status.busy": "2025-04-22T21:33:46.597011Z",
     "iopub.status.idle": "2025-04-22T21:33:46.604828Z",
     "shell.execute_reply": "2025-04-22T21:33:46.604336Z",
     "shell.execute_reply.started": "2025-04-22T21:33:46.597148Z"
    }
   },
   "outputs": [],
   "source": [
    "galaxyindex_selected = []\n",
    "N =len(df_galaxy)\n",
    "for idx in range(N):\n",
    "    ra_target,dec_target = df_galaxy.iloc[idx][['RAJ2000','DEJ2000']]\n",
    "    target_point = SpherePoint(ra_target, dec_target, degrees)\n",
    "    if ECDFS_tract_info.contains(target_point):\n",
    "        galaxyindex_selected.append(idx)         "
   ]
  },
  {
   "cell_type": "code",
   "execution_count": null,
   "id": "e882f9ae-7f26-4593-bfe5-979699f26793",
   "metadata": {
    "execution": {
     "iopub.execute_input": "2025-04-22T21:33:46.605576Z",
     "iopub.status.busy": "2025-04-22T21:33:46.605419Z",
     "iopub.status.idle": "2025-04-22T21:33:46.611727Z",
     "shell.execute_reply": "2025-04-22T21:33:46.611327Z",
     "shell.execute_reply.started": "2025-04-22T21:33:46.605560Z"
    }
   },
   "outputs": [],
   "source": [
    "print(galaxyindex_selected)"
   ]
  },
  {
   "cell_type": "code",
   "execution_count": null,
   "id": "3acd9664-74f4-4dcc-abfc-80d3315ff166",
   "metadata": {
    "execution": {
     "iopub.execute_input": "2025-04-22T21:33:46.612636Z",
     "iopub.status.busy": "2025-04-22T21:33:46.612259Z",
     "iopub.status.idle": "2025-04-22T21:33:46.631822Z",
     "shell.execute_reply": "2025-04-22T21:33:46.631435Z",
     "shell.execute_reply.started": "2025-04-22T21:33:46.612620Z"
    }
   },
   "outputs": [],
   "source": [
    "agnindex_selected = []\n",
    "N =len(df_agn)\n",
    "for idx in range(N):\n",
    "    ra_target,dec_target = df_agn.iloc[idx][['RAJ2000','DEJ2000']]\n",
    "    target_point = SpherePoint(ra_target, dec_target, degrees)\n",
    "    if ECDFS_tract_info.contains(target_point):\n",
    "        agnindex_selected.append(idx)         "
   ]
  },
  {
   "cell_type": "code",
   "execution_count": null,
   "id": "21e97d92-72b3-48f2-b1a5-b1d96b5faadc",
   "metadata": {
    "execution": {
     "iopub.execute_input": "2025-04-22T21:33:46.632678Z",
     "iopub.status.busy": "2025-04-22T21:33:46.632297Z",
     "iopub.status.idle": "2025-04-22T21:33:46.634774Z",
     "shell.execute_reply": "2025-04-22T21:33:46.634398Z",
     "shell.execute_reply.started": "2025-04-22T21:33:46.632663Z"
    }
   },
   "outputs": [],
   "source": [
    "print(agnindex_selected)"
   ]
  },
  {
   "cell_type": "code",
   "execution_count": null,
   "id": "b5717a3a-6977-4592-b726-1f7781ee97a7",
   "metadata": {
    "execution": {
     "iopub.execute_input": "2025-04-22T21:33:46.635370Z",
     "iopub.status.busy": "2025-04-22T21:33:46.635235Z",
     "iopub.status.idle": "2025-04-22T21:33:46.640764Z",
     "shell.execute_reply": "2025-04-22T21:33:46.640393Z",
     "shell.execute_reply.started": "2025-04-22T21:33:46.635356Z"
    }
   },
   "outputs": [],
   "source": [
    "index_agn_selected = 0\n",
    "index_galaxy_selected = 0\n",
    "FLAG_AGN_SELECTED  = False"
   ]
  },
  {
   "cell_type": "code",
   "execution_count": null,
   "id": "e8b3a6dd-354b-4d2f-80e3-01a6da4d62d7",
   "metadata": {
    "execution": {
     "iopub.execute_input": "2025-04-22T21:33:46.641577Z",
     "iopub.status.busy": "2025-04-22T21:33:46.641265Z",
     "iopub.status.idle": "2025-04-22T21:33:46.649218Z",
     "shell.execute_reply": "2025-04-22T21:33:46.648852Z",
     "shell.execute_reply.started": "2025-04-22T21:33:46.641562Z"
    }
   },
   "outputs": [],
   "source": [
    "if FLAG_AGN_SELECTED: \n",
    "    ra_target,dec_target = df_agn.iloc[index_agn_selected ][['RAJ2000','DEJ2000']]\n",
    "    target_point = SpherePoint(ra_target, dec_target, degrees)\n",
    "    target_coord = SkyCoord(ra=ra_target*u.deg, dec=dec_target*u.deg)\n",
    "    logLx = df_agn.iloc[index_agn_selected ]['logLX']\n",
    "    zspec = df_agn.iloc[index_agn_selected ]['zspec']\n",
    "    target_title = f\"agn :: {index_agn_selected}, log L(erg/s) = {logLx:.2f} , zspec = {zspec:.2f}, (ra,dec) = {ra_target:.5f},{dec_target:.5f}\"\n",
    "else:\n",
    "    ra_target,dec_target = df_galaxy.iloc[index_galaxy_selected ][['RAJ2000','DEJ2000']]\n",
    "    target_point = SpherePoint(ra_target, dec_target, degrees)\n",
    "    target_coord = SkyCoord(ra=ra_target*u.deg, dec=dec_target*u.deg)\n",
    "    logLx = df_galaxy.iloc[index_galaxy_selected ]['logLX']\n",
    "    zspec = df_galaxy.iloc[index_galaxy_selected ]['zspec']\n",
    "    target_title = f\"galaxy :: {index_galaxy_selected}, log L(erg/s) = {logLx:.2f} , zspec = {zspec:.2f}, (ra,dec) = {ra_target:.5f},{dec_target:.5f}\"\n",
    "    "
   ]
  },
  {
   "cell_type": "code",
   "execution_count": null,
   "id": "ae40f327-7e25-46aa-832f-7feaaf526420",
   "metadata": {
    "execution": {
     "iopub.execute_input": "2025-04-22T21:33:46.649802Z",
     "iopub.status.busy": "2025-04-22T21:33:46.649669Z",
     "iopub.status.idle": "2025-04-22T21:33:46.718744Z",
     "shell.execute_reply": "2025-04-22T21:33:46.718256Z",
     "shell.execute_reply.started": "2025-04-22T21:33:46.649790Z"
    }
   },
   "outputs": [],
   "source": [
    "datasettype =  'forcedSourceOnDiaObjectTable'\n",
    "#datasettype =  'diaSourceTable_tract'\n",
    "#datasettype = 'goodSeeingDiff_assocSsSrcTable' # bad table\n",
    "therefs = butler.registry.queryDatasets(datasettype,  collections=collection)"
   ]
  },
  {
   "cell_type": "code",
   "execution_count": null,
   "id": "3cc6ba9a-7fd8-4a08-927a-dda396deda30",
   "metadata": {
    "execution": {
     "iopub.execute_input": "2025-04-22T21:33:46.720036Z",
     "iopub.status.busy": "2025-04-22T21:33:46.719537Z",
     "iopub.status.idle": "2025-04-22T21:33:46.722955Z",
     "shell.execute_reply": "2025-04-22T21:33:46.722579Z",
     "shell.execute_reply.started": "2025-04-22T21:33:46.720000Z"
    }
   },
   "outputs": [],
   "source": [
    "if FLAG_AGN_SELECTED: \n",
    "    figname1 = f\"agn_{index_agn_selected}_{datasettype}_v1.png\"\n",
    "    figname2 = f\"agn_{index_agn_selected}_{datasettype}_v2.png\"\n",
    "else:\n",
    "    figname1 = f\"galaxy_{index_agn_selected}_{datasettype}_v1.png\"\n",
    "    figname2 = f\"galaxy_{index_agn_selected}_{datasettype}_v2.png\""
   ]
  },
  {
   "cell_type": "code",
   "execution_count": null,
   "id": "b2990d7a-23fb-494f-b24a-845550403cfb",
   "metadata": {
    "execution": {
     "iopub.execute_input": "2025-04-22T21:33:46.724010Z",
     "iopub.status.busy": "2025-04-22T21:33:46.723583Z",
     "iopub.status.idle": "2025-04-22T21:35:14.004597Z",
     "shell.execute_reply": "2025-04-22T21:35:14.004141Z",
     "shell.execute_reply.started": "2025-04-22T21:33:46.723976Z"
    }
   },
   "outputs": [],
   "source": [
    "all_tables = []\n",
    "\n",
    "for count,ref in enumerate(therefs):\n",
    "    the_id = ref.dataId\n",
    "    the_tract_id = the_id[\"tract\"] \n",
    "    # select the visits in that Tract (ECDFS)\n",
    "    if the_tract_id == TRACTSEL: \n",
    "        catalog = butler.get(ref)\n",
    "        #catalog[\"dateobs\"] = catalog.apply(lambda x: x['visit']//100_000, axis=1)\n",
    "        #catalog[\"seq\"] = catalog[\"visit\"] - catalog[\"dateobs\"]*100_000\n",
    "        #t[\"ra_rad\"] = t[\"coord_ra\"].apply(func_degToRad)  \n",
    "        #t[\"ra_dec\"] = t[\"coord_dec\"].apply(func_degToRad)  \n",
    "        ra = catalog[\"coord_ra\"].values\n",
    "        dec = catalog[\"coord_dec\"].values\n",
    "        # Créer tous les points du catalogue\n",
    "        #points = [SpherePoint(r, d, degrees) for r, d in zip(ra, dec)]\n",
    "        catalog_coords = SkyCoord(ra=ra*u.deg, dec=dec*u.deg)\n",
    "\n",
    "        # Calculer la distance angulaire à la cible (en arcsec)\n",
    "        #distances_arcsec = np.array([pt.separation(target_point).asArcseconds() for pt in points])\n",
    "        # 5. Calcul vectorisé des distances (résultat en arcsec)\n",
    "        distances_arcsec = target_coord.separation(catalog_coords).arcsecond\n",
    "        catalog[\"sep\"] = distances_arcsec\n",
    "\n",
    "        # 5. Sélectionner les objets proches (ex: < 1.5 arcsec)\n",
    "        if datasettype ==  'forcedSourceOnDiaObjectTable':\n",
    "            radius_arcsec = 3\n",
    "        elif datasettype ==  'diaSourceTable_tract':\n",
    "            radius_arcsec = 5\n",
    "        elif datasettype == 'goodSeeingDiff_assocSsSrcTable':\n",
    "            radius_arcsec = 5\n",
    "        else:\n",
    "            radius_arcsec = 3\n",
    "\n",
    "        # select\n",
    "        nearby = catalog[distances_arcsec < radius_arcsec]\n",
    "        \n",
    "        if len(nearby) > 0 :\n",
    "            #print(nearby)\n",
    "            all_tables.append(nearby)  \n",
    "            #break\n",
    "\n",
    "        #if(len(all_tables)>10):\n",
    "        #    break\n",
    "   "
   ]
  },
  {
   "cell_type": "code",
   "execution_count": null,
   "id": "dc2e290d-3fef-4989-a4ca-6e57b502eaac",
   "metadata": {
    "execution": {
     "iopub.execute_input": "2025-04-22T21:35:14.005265Z",
     "iopub.status.busy": "2025-04-22T21:35:14.005125Z",
     "iopub.status.idle": "2025-04-22T21:35:14.008197Z",
     "shell.execute_reply": "2025-04-22T21:35:14.007853Z",
     "shell.execute_reply.started": "2025-04-22T21:35:14.005252Z"
    }
   },
   "outputs": [],
   "source": [
    "len(all_tables)"
   ]
  },
  {
   "cell_type": "code",
   "execution_count": null,
   "id": "23306ca1-a7e6-4280-b9d7-0b199c046db9",
   "metadata": {
    "execution": {
     "iopub.execute_input": "2025-04-22T21:35:14.008733Z",
     "iopub.status.busy": "2025-04-22T21:35:14.008608Z",
     "iopub.status.idle": "2025-04-22T21:35:14.016056Z",
     "shell.execute_reply": "2025-04-22T21:35:14.015698Z",
     "shell.execute_reply.started": "2025-04-22T21:35:14.008720Z"
    }
   },
   "outputs": [],
   "source": [
    "t = all_tables[0]"
   ]
  },
  {
   "cell_type": "code",
   "execution_count": null,
   "id": "e72f6c28-0998-497b-bebf-a243f0189c3b",
   "metadata": {
    "execution": {
     "iopub.execute_input": "2025-04-22T21:35:14.016667Z",
     "iopub.status.busy": "2025-04-22T21:35:14.016499Z",
     "iopub.status.idle": "2025-04-22T21:35:14.104984Z",
     "shell.execute_reply": "2025-04-22T21:35:14.104582Z",
     "shell.execute_reply.started": "2025-04-22T21:35:14.016651Z"
    }
   },
   "outputs": [],
   "source": [
    "fig, ax = plt.subplots(1,1,figsize=(6,4))\n",
    "t[\"sep\"].hist(bins=50,ax=ax)\n",
    "plt.show()"
   ]
  },
  {
   "cell_type": "code",
   "execution_count": null,
   "id": "ee669cab-c892-47fc-982f-967081d452f7",
   "metadata": {
    "execution": {
     "iopub.execute_input": "2025-04-22T21:35:14.105597Z",
     "iopub.status.busy": "2025-04-22T21:35:14.105455Z",
     "iopub.status.idle": "2025-04-22T21:35:14.108270Z",
     "shell.execute_reply": "2025-04-22T21:35:14.107913Z",
     "shell.execute_reply.started": "2025-04-22T21:35:14.105575Z"
    }
   },
   "outputs": [],
   "source": [
    "t = t[t[\"sep\"]<3.5]"
   ]
  },
  {
   "cell_type": "markdown",
   "id": "112094be-7b12-475f-8faa-7133b3b1b936",
   "metadata": {},
   "source": [
    "### Split visit into dayobs and seq"
   ]
  },
  {
   "cell_type": "code",
   "execution_count": null,
   "id": "453798ec-0d66-4278-b8c3-a9ea4e1cf25b",
   "metadata": {
    "execution": {
     "iopub.execute_input": "2025-04-22T21:35:14.112373Z",
     "iopub.status.busy": "2025-04-22T21:35:14.112057Z",
     "iopub.status.idle": "2025-04-22T21:35:14.120492Z",
     "shell.execute_reply": "2025-04-22T21:35:14.120147Z",
     "shell.execute_reply.started": "2025-04-22T21:35:14.112359Z"
    }
   },
   "outputs": [],
   "source": [
    "t[\"dateobs\"] = t.apply(lambda x: x['visit']//100_000, axis=1)\n",
    "t[\"seq\"] = t[\"visit\"] - t[\"dateobs\"]*100_000"
   ]
  },
  {
   "cell_type": "code",
   "execution_count": null,
   "id": "c1b5a1a1-1e84-451f-b340-8371c9fbffac",
   "metadata": {
    "execution": {
     "iopub.execute_input": "2025-04-22T21:35:14.121044Z",
     "iopub.status.busy": "2025-04-22T21:35:14.120918Z",
     "iopub.status.idle": "2025-04-22T21:35:14.125709Z",
     "shell.execute_reply": "2025-04-22T21:35:14.125352Z",
     "shell.execute_reply.started": "2025-04-22T21:35:14.121032Z"
    }
   },
   "outputs": [],
   "source": [
    "t[\"seq\"]"
   ]
  },
  {
   "cell_type": "code",
   "execution_count": null,
   "id": "3b3663e0-bc24-4d76-8fed-92781be70fd5",
   "metadata": {
    "execution": {
     "iopub.execute_input": "2025-04-22T21:35:14.126250Z",
     "iopub.status.busy": "2025-04-22T21:35:14.126124Z",
     "iopub.status.idle": "2025-04-22T21:35:14.134336Z",
     "shell.execute_reply": "2025-04-22T21:35:14.133952Z",
     "shell.execute_reply.started": "2025-04-22T21:35:14.126237Z"
    }
   },
   "outputs": [],
   "source": [
    "t[\"mags\"] = t[\"psfFlux\"].apply(lambda flux : -2.5 * np.log10(flux) + 31.4)\n",
    "t[\"valid\"] = (t[\"psfFlux\"] >0) & (~t[\"psfFlux_flag\"])\n",
    "visit_list = t[\"visit\"].astype(int)"
   ]
  },
  {
   "cell_type": "markdown",
   "id": "8ef1ef5c-7a4c-475f-9fe3-3e9384409943",
   "metadata": {
    "execution": {
     "iopub.execute_input": "2025-04-21T13:39:44.974222Z",
     "iopub.status.busy": "2025-04-21T13:39:44.973998Z",
     "iopub.status.idle": "2025-04-21T13:39:44.976793Z",
     "shell.execute_reply": "2025-04-21T13:39:44.976436Z",
     "shell.execute_reply.started": "2025-04-21T13:39:44.974206Z"
    }
   },
   "source": [
    "#### Find the time associated to a visit"
   ]
  },
  {
   "cell_type": "code",
   "execution_count": null,
   "id": "7ee3d646-b857-4019-b71e-e1d447fe292e",
   "metadata": {
    "execution": {
     "iopub.execute_input": "2025-04-22T21:35:14.135052Z",
     "iopub.status.busy": "2025-04-22T21:35:14.134784Z",
     "iopub.status.idle": "2025-04-22T21:35:14.337757Z",
     "shell.execute_reply": "2025-04-22T21:35:14.337235Z",
     "shell.execute_reply.started": "2025-04-22T21:35:14.135039Z"
    }
   },
   "outputs": [],
   "source": [
    "# On interroge la table visitDefinition\n",
    "rows = registry.queryDimensionRecords(\"visit\", where=f\"visit in {tuple(visit_list)}\")\n",
    "\n",
    "# 4. Construire un tableau des résultats\n",
    "results = []\n",
    "for row in rows:\n",
    "    visit_id = row.id\n",
    "\n",
    "    # Extraire l'instant de début de l'observation (Time astropy)\n",
    "    start_time = row.timespan.begin\n",
    "\n",
    "    # Convertir en MJD et ISO\n",
    "    mjd = start_time.to_value(\"mjd\")  # Ex: 60384.28718\n",
    "    isot = start_time.to_value(\"isot\")  # Ex: '2024-04-19 06:53:32.000'\n",
    "    \n",
    "    #mjd = row.startDate.toMjd()\n",
    "    #utc = Time(mjd, format='mjd', scale='utc').to_value('iso')\n",
    "    results.append({\"visit\": visit_id, \"mjd\": mjd, \"isot\": isot})\n",
    "\n",
    "df_times = pd.DataFrame(results).sort_values(\"visit\")\n",
    "df_times.set_index(\"visit\",inplace=True)"
   ]
  },
  {
   "cell_type": "code",
   "execution_count": null,
   "id": "65027963-05cf-4df4-ae5f-79aa70eeaa57",
   "metadata": {
    "execution": {
     "iopub.execute_input": "2025-04-22T21:35:14.338503Z",
     "iopub.status.busy": "2025-04-22T21:35:14.338320Z",
     "iopub.status.idle": "2025-04-22T21:35:14.377304Z",
     "shell.execute_reply": "2025-04-22T21:35:14.376820Z",
     "shell.execute_reply.started": "2025-04-22T21:35:14.338488Z"
    }
   },
   "outputs": [],
   "source": [
    "t[\"mjd\"] = t[\"visit\"].apply(lambda x: df_times.loc[x][\"mjd\"])\n",
    "t[\"isot\"] = t[\"visit\"].apply(lambda x: df_times.loc[x][\"isot\"])"
   ]
  },
  {
   "cell_type": "code",
   "execution_count": null,
   "id": "070b3a61-c473-4887-9c67-04b0c2ca39d2",
   "metadata": {
    "execution": {
     "iopub.execute_input": "2025-04-22T21:35:14.377914Z",
     "iopub.status.busy": "2025-04-22T21:35:14.377787Z",
     "iopub.status.idle": "2025-04-22T21:35:14.382377Z",
     "shell.execute_reply": "2025-04-22T21:35:14.382016Z",
     "shell.execute_reply.started": "2025-04-22T21:35:14.377901Z"
    }
   },
   "outputs": [],
   "source": [
    "tb = {}\n",
    "for band in [\"u\", \"g\", \"r\", \"i\", \"z\", \"y\"]:\n",
    "    tb[band] = t[t[\"band\"] == band]"
   ]
  },
  {
   "cell_type": "markdown",
   "id": "eb153e8f-c5b1-439f-a4f1-ca836c771294",
   "metadata": {},
   "source": [
    "## Plot light curves"
   ]
  },
  {
   "cell_type": "code",
   "execution_count": null,
   "id": "ccddae1e-0100-428d-96c9-8e8a99653c1e",
   "metadata": {
    "execution": {
     "iopub.execute_input": "2025-04-22T21:35:14.382973Z",
     "iopub.status.busy": "2025-04-22T21:35:14.382848Z",
     "iopub.status.idle": "2025-04-22T21:35:14.389010Z",
     "shell.execute_reply": "2025-04-22T21:35:14.388604Z",
     "shell.execute_reply.started": "2025-04-22T21:35:14.382961Z"
    }
   },
   "outputs": [],
   "source": [
    "band_to_col = {\"u\":\"b\", \"g\":\"g\", \"r\":\"r\", \"i\":\"orange\", \"z\":\"grey\", \"y\":\"k\"}"
   ]
  },
  {
   "cell_type": "code",
   "execution_count": null,
   "id": "f816d35d-5402-4611-9b13-f431e3ddd8b2",
   "metadata": {
    "execution": {
     "iopub.execute_input": "2025-04-22T21:35:14.389706Z",
     "iopub.status.busy": "2025-04-22T21:35:14.389464Z",
     "iopub.status.idle": "2025-04-22T21:35:15.460870Z",
     "shell.execute_reply": "2025-04-22T21:35:15.460383Z",
     "shell.execute_reply.started": "2025-04-22T21:35:14.389694Z"
    }
   },
   "outputs": [],
   "source": [
    "fig,axs = plt.subplots(6,1,figsize=(18,16),sharex=True,layout=\"constrained\")\n",
    "\n",
    "for idx,band in enumerate([\"u\", \"g\", \"r\", \"i\", \"z\", \"y\"]):\n",
    "    ax =axs[idx]\n",
    "    ax.scatter(tb[band].mjd, tb[band].mags,color=band_to_col[band])\n",
    "    ax.set_ylabel(\"mag_psfFlux\")\n",
    "    if idx==0:\n",
    "        ax.set_title(target_title,fontweight = \"bold\")\n",
    "ax.set_xlabel(\"mjd\")\n",
    "\n",
    "subtitle = collectionStr + \"_\" + datasettype\n",
    "plt.suptitle(subtitle)\n",
    "#plt.tight_layout()\n",
    "plt.savefig(figname1)\n",
    "plt.show()"
   ]
  },
  {
   "cell_type": "code",
   "execution_count": null,
   "id": "fd05015f-cec0-46eb-aa13-39e222116d39",
   "metadata": {
    "execution": {
     "iopub.execute_input": "2025-04-22T21:36:03.516931Z",
     "iopub.status.busy": "2025-04-22T21:36:03.516188Z",
     "iopub.status.idle": "2025-04-22T21:36:03.965987Z",
     "shell.execute_reply": "2025-04-22T21:36:03.965496Z",
     "shell.execute_reply.started": "2025-04-22T21:36:03.516912Z"
    }
   },
   "outputs": [],
   "source": [
    "fig,ax = plt.subplots(1,1,figsize=(18,8),sharex=True,layout=\"constrained\")\n",
    "\n",
    "for idx,band in enumerate([\"u\", \"g\", \"r\", \"i\", \"z\", \"y\"]):\n",
    "    ax.scatter(tb[band].mjd, tb[band].mags,color=band_to_col[band])\n",
    "\n",
    "ax.set_ylabel(\"mag_psfFlux\")\n",
    "ax.set_title(target_title,fontweight = \"bold\")\n",
    "ax.set_xlabel(\"mjd\")\n",
    "\n",
    "subtitle = collectionStr + \"_\" + datasettype\n",
    "plt.suptitle(subtitle)\n",
    "#plt.tight_layout()\n",
    "plt.savefig(figname2)\n",
    "plt.show()"
   ]
  },
  {
   "cell_type": "markdown",
   "id": "2651f1e7-a6e8-4702-a5b3-5d85c6b7b9ca",
   "metadata": {},
   "source": [
    "## Plot the deepCoadds"
   ]
  },
  {
   "cell_type": "code",
   "execution_count": null,
   "id": "1bbeeb36-aee2-4165-a061-740e0f939451",
   "metadata": {
    "execution": {
     "iopub.execute_input": "2025-04-22T21:36:29.382722Z",
     "iopub.status.busy": "2025-04-22T21:36:29.382493Z",
     "iopub.status.idle": "2025-04-22T21:36:42.911220Z",
     "shell.execute_reply": "2025-04-22T21:36:42.910754Z",
     "shell.execute_reply.started": "2025-04-22T21:36:29.382707Z"
    }
   },
   "outputs": [],
   "source": [
    "all_bands = [\"u\",\"g\",\"r\",\"i\",\"y\"]\n",
    "\n",
    "framecount = 0\n",
    "for iband,band in enumerate(all_bands):\n",
    "    framecount +=1\n",
    "    find_tract_patch_and_display(butler, skymap,ra_target, dec_target, band,framecount=framecount)"
   ]
  },
  {
   "cell_type": "code",
   "execution_count": null,
   "id": "c0ff101d-3672-456c-a365-eb84a67fb561",
   "metadata": {},
   "outputs": [],
   "source": []
  }
 ],
 "metadata": {
  "kernelspec": {
   "display_name": "LSST",
   "language": "python",
   "name": "lsst"
  },
  "language_info": {
   "codemirror_mode": {
    "name": "ipython",
    "version": 3
   },
   "file_extension": ".py",
   "mimetype": "text/x-python",
   "name": "python",
   "nbconvert_exporter": "python",
   "pygments_lexer": "ipython3",
   "version": "3.12.9"
  }
 },
 "nbformat": 4,
 "nbformat_minor": 5
}
