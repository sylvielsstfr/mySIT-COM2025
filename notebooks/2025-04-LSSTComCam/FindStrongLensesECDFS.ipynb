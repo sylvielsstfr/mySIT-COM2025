{
 "cells": [
  {
   "cell_type": "markdown",
   "id": "96919126-aa8d-4431-8833-f2ea3e50fb95",
   "metadata": {},
   "source": [
    "# Find strong lenses in ECDFS\n",
    "\n",
    "- author : Sylvie Dagoret-Campagne\n",
    "- affiliation : IJCLab/IN2P3/CNRS\n",
    "- creation date : 2025-04-22\n",
    "- last update : 2025-04-22"
   ]
  },
  {
   "cell_type": "code",
   "execution_count": null,
   "id": "c191394d-33dd-460a-9ab3-734ca4d7b842",
   "metadata": {
    "execution": {
     "iopub.execute_input": "2025-04-22T12:36:06.168143Z",
     "iopub.status.busy": "2025-04-22T12:36:06.167897Z",
     "iopub.status.idle": "2025-04-22T12:36:06.222475Z",
     "shell.execute_reply": "2025-04-22T12:36:06.222028Z",
     "shell.execute_reply.started": "2025-04-22T12:36:06.168127Z"
    }
   },
   "outputs": [],
   "source": [
    "from astroquery.vizier import Vizier\n",
    "from astropy.coordinates import SkyCoord\n",
    "import astropy.units as u"
   ]
  },
  {
   "cell_type": "code",
   "execution_count": null,
   "id": "6f302265-00de-46c2-8868-0ee6b8503080",
   "metadata": {
    "execution": {
     "iopub.execute_input": "2025-04-22T12:36:06.224385Z",
     "iopub.status.busy": "2025-04-22T12:36:06.224259Z",
     "iopub.status.idle": "2025-04-22T12:36:06.226389Z",
     "shell.execute_reply": "2025-04-22T12:36:06.226026Z",
     "shell.execute_reply.started": "2025-04-22T12:36:06.224371Z"
    }
   },
   "outputs": [],
   "source": [
    "ECDFS_RA = 53.1\n",
    "ECDFS_DEC = -27.8"
   ]
  },
  {
   "cell_type": "code",
   "execution_count": null,
   "id": "f0f1b93a-b387-477b-ba5a-ccc154f79507",
   "metadata": {
    "execution": {
     "iopub.execute_input": "2025-04-22T12:36:06.226946Z",
     "iopub.status.busy": "2025-04-22T12:36:06.226818Z",
     "iopub.status.idle": "2025-04-22T12:36:07.976503Z",
     "shell.execute_reply": "2025-04-22T12:36:07.976049Z",
     "shell.execute_reply.started": "2025-04-22T12:36:06.226933Z"
    }
   },
   "outputs": [],
   "source": [
    "# Coordonnées du champ ECDFS\n",
    "coord = SkyCoord(ra=ECDFS_RA*u.deg, dec=ECDFS_DEC*u.deg, frame='icrs')\n",
    "radius = 30 * u.arcmin\n",
    "\n",
    "# Activer toutes les colonnes\n",
    "Vizier.ROW_LIMIT = -1\n",
    "Vizier.columns = ['*']\n",
    "\n",
    "# Catalogue SL2S (Strong Lensing Legacy Survey)\n",
    "catalog_id = \"J/MNRAS/426/3369\"\n",
    "\n",
    "# Interrogation\n",
    "result = Vizier.query_region(coord, radius=radius, catalog=catalog_id)\n"
   ]
  },
  {
   "cell_type": "code",
   "execution_count": null,
   "id": "e50ce85f-b817-45e2-8d35-22f9c3c8a1a7",
   "metadata": {
    "execution": {
     "iopub.execute_input": "2025-04-22T12:36:07.977113Z",
     "iopub.status.busy": "2025-04-22T12:36:07.976980Z",
     "iopub.status.idle": "2025-04-22T12:36:07.980040Z",
     "shell.execute_reply": "2025-04-22T12:36:07.979615Z",
     "shell.execute_reply.started": "2025-04-22T12:36:07.977099Z"
    }
   },
   "outputs": [],
   "source": [
    "# Affichage\n",
    "if result:\n",
    "    lenses = result[0]\n",
    "    print(lenses)\n",
    "else:\n",
    "    print(\"Aucune lentille détectée dans ce rayon.\")\n"
   ]
  },
  {
   "cell_type": "code",
   "execution_count": null,
   "id": "253fa66f-a969-425c-856e-2992ed063101",
   "metadata": {
    "execution": {
     "iopub.execute_input": "2025-04-22T12:41:18.482284Z",
     "iopub.status.busy": "2025-04-22T12:41:18.481963Z",
     "iopub.status.idle": "2025-04-22T12:41:19.992821Z",
     "shell.execute_reply": "2025-04-22T12:41:19.992391Z",
     "shell.execute_reply.started": "2025-04-22T12:41:18.482269Z"
    }
   },
   "outputs": [],
   "source": [
    "from astroquery.vizier import Vizier\n",
    "from astropy.coordinates import SkyCoord\n",
    "import astropy.units as u\n",
    "\n",
    "# Récupérer toutes les colonnes\n",
    "Vizier.ROW_LIMIT = -1\n",
    "Vizier.columns = ['*']\n",
    "\n",
    "# Identifiant du catalogue de Jacobs+2019 (lenses dans CANDELS)\n",
    "catalog_id = \"J/MNRAS/484/5330/candels\"\n",
    "\n",
    "# Interroger le catalogue\n",
    "result = Vizier.get_catalogs(catalog_id)\n"
   ]
  },
  {
   "cell_type": "code",
   "execution_count": null,
   "id": "5845a03f-78da-4f1b-b0a7-62a627a1c12b",
   "metadata": {
    "execution": {
     "iopub.execute_input": "2025-04-22T12:41:21.779208Z",
     "iopub.status.busy": "2025-04-22T12:41:21.778871Z",
     "iopub.status.idle": "2025-04-22T12:41:21.782593Z",
     "shell.execute_reply": "2025-04-22T12:41:21.782221Z",
     "shell.execute_reply.started": "2025-04-22T12:41:21.779180Z"
    }
   },
   "outputs": [],
   "source": [
    "result"
   ]
  },
  {
   "cell_type": "code",
   "execution_count": null,
   "id": "c01f370d-fed3-4e5f-a0a4-5d6e8ae2fd42",
   "metadata": {
    "execution": {
     "iopub.execute_input": "2025-04-22T12:38:23.591576Z",
     "iopub.status.busy": "2025-04-22T12:38:23.591258Z",
     "iopub.status.idle": "2025-04-22T12:38:23.593977Z",
     "shell.execute_reply": "2025-04-22T12:38:23.593585Z",
     "shell.execute_reply.started": "2025-04-22T12:38:23.591558Z"
    }
   },
   "outputs": [],
   "source": [
    "table = result[0]"
   ]
  },
  {
   "cell_type": "code",
   "execution_count": null,
   "id": "cbb0879c-3885-4a3f-89b5-9dd1e1f841f3",
   "metadata": {
    "execution": {
     "iopub.execute_input": "2025-04-22T12:38:30.833982Z",
     "iopub.status.busy": "2025-04-22T12:38:30.833635Z",
     "iopub.status.idle": "2025-04-22T12:38:30.843195Z",
     "shell.execute_reply": "2025-04-22T12:38:30.842828Z",
     "shell.execute_reply.started": "2025-04-22T12:38:30.833954Z"
    }
   },
   "outputs": [],
   "source": [
    "table"
   ]
  },
  {
   "cell_type": "code",
   "execution_count": null,
   "id": "c1bfd5ae-17f9-47bd-9ad0-836c3e69bef1",
   "metadata": {
    "execution": {
     "iopub.execute_input": "2025-04-22T12:42:49.744276Z",
     "iopub.status.busy": "2025-04-22T12:42:49.743695Z",
     "iopub.status.idle": "2025-04-22T12:42:49.769245Z",
     "shell.execute_reply": "2025-04-22T12:42:49.768723Z",
     "shell.execute_reply.started": "2025-04-22T12:42:49.744256Z"
    }
   },
   "outputs": [],
   "source": [
    "# Filtrer les objets dans le champ ECDFS (Field = 'GOODS-S')\n",
    "ecdfs_lenses = table[table['Field'] == 'GOODS-S']\n",
    "\n",
    "# Affichage simple\n",
    "print(ecdfs_lenses)\n",
    "\n",
    "# Optionnel : convertir en DataFrame\n",
    "df = ecdfs_lenses.to_pandas()\n",
    "print(df[['ID', 'RAJ2000', 'DEJ2000', 'p', 'Rank']].head())\n"
   ]
  },
  {
   "cell_type": "code",
   "execution_count": null,
   "id": "ec466f6a-8542-4aeb-a02d-250766dd6b1f",
   "metadata": {
    "execution": {
     "iopub.execute_input": "2025-04-22T12:42:54.448666Z",
     "iopub.status.busy": "2025-04-22T12:42:54.447919Z",
     "iopub.status.idle": "2025-04-22T12:42:55.596997Z",
     "shell.execute_reply": "2025-04-22T12:42:55.596607Z",
     "shell.execute_reply.started": "2025-04-22T12:42:54.448646Z"
    }
   },
   "outputs": [],
   "source": [
    "from astroquery.vizier import Vizier\n",
    "import astropy.units as u\n",
    "from astropy.coordinates import SkyCoord\n",
    "\n",
    "# Configuration de Vizier\n",
    "Vizier.ROW_LIMIT = -1\n",
    "Vizier.columns = ['*']\n",
    "\n",
    "# Coordonnées approximatives du champ ECDFS\n",
    "coord = SkyCoord(ra=53.1*u.deg, dec=-27.8*u.deg, frame='icrs')\n",
    "radius = 0.5 * u.deg  # Rayon de recherche\n",
    "\n",
    "# Identifiant du catalogue SL2S dans VizieR\n",
    "catalog_id = \"J/ApJ/777/98\"  # SL2S\n",
    "\n",
    "# Requête\n",
    "result = Vizier.query_region(coord, radius=radius, catalog=catalog_id)\n",
    "\n",
    "# Affichage des résultats\n",
    "if result:\n",
    "    table = result[0]\n",
    "    print(table)\n",
    "else:\n",
    "    print(\"Aucun résultat trouvé dans le catalogue SL2S pour cette région.\")\n"
   ]
  },
  {
   "cell_type": "code",
   "execution_count": null,
   "id": "e9638e92-06dd-42e8-99d4-c9658a974a2c",
   "metadata": {},
   "outputs": [],
   "source": []
  }
 ],
 "metadata": {
  "kernelspec": {
   "display_name": "LSST",
   "language": "python",
   "name": "lsst"
  },
  "language_info": {
   "codemirror_mode": {
    "name": "ipython",
    "version": 3
   },
   "file_extension": ".py",
   "mimetype": "text/x-python",
   "name": "python",
   "nbconvert_exporter": "python",
   "pygments_lexer": "ipython3",
   "version": "3.12.9"
  }
 },
 "nbformat": 4,
 "nbformat_minor": 5
}
