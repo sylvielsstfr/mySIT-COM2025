{
 "cells": [
  {
   "cell_type": "markdown",
   "id": "4c50da0f-2a30-4761-9a29-c67185aab160",
   "metadata": {},
   "source": [
    "# Consdb for LSSTComCam for visits\n",
    "\n",
    "- Creation date : 2025-04-18\n",
    "- last update : 2025-04-19\n",
    "- https://usdf-rsp-dev.slac.stanford.edu/consdb/\n",
    "- Schemes for constdb : https://sdm-schemas.lsst.io/\n",
    "- Documentation : https://consdb.lsst.io/index.html\n"
   ]
  },
  {
   "cell_type": "code",
   "execution_count": null,
   "id": "8f4e81c8-2d8a-4864-a069-71ab1d8ca056",
   "metadata": {},
   "outputs": [],
   "source": []
  },
  {
   "cell_type": "markdown",
   "id": "ce17244c-8f51-4666-90c4-509291c3d62f",
   "metadata": {},
   "source": [
    "LSSTCam/runs/nightlyValidation/{day_obs}/<lsst_distrib_tag>/DM-50157"
   ]
  },
  {
   "cell_type": "code",
   "execution_count": null,
   "id": "d9170f34-bf3d-4223-a737-89f81fe22a96",
   "metadata": {
    "execution": {
     "iopub.execute_input": "2025-04-28T17:00:15.262485Z",
     "iopub.status.busy": "2025-04-28T17:00:15.262363Z",
     "iopub.status.idle": "2025-04-28T17:00:24.074318Z",
     "shell.execute_reply": "2025-04-28T17:00:24.073807Z",
     "shell.execute_reply.started": "2025-04-28T17:00:15.262470Z"
    }
   },
   "outputs": [],
   "source": [
    "from lsst.summit.utils import ConsDbClient"
   ]
  },
  {
   "cell_type": "code",
   "execution_count": null,
   "id": "c9637cf5-efa5-4842-b39c-1e22ce097b1b",
   "metadata": {
    "execution": {
     "iopub.execute_input": "2025-04-28T17:00:24.075406Z",
     "iopub.status.busy": "2025-04-28T17:00:24.074883Z",
     "iopub.status.idle": "2025-04-28T17:00:24.133639Z",
     "shell.execute_reply": "2025-04-28T17:00:24.133201Z",
     "shell.execute_reply.started": "2025-04-28T17:00:24.075389Z"
    }
   },
   "outputs": [],
   "source": [
    "import numpy as np\n",
    "\n",
    "import matplotlib.pyplot as plt\n",
    "import matplotlib.dates as mdates\n",
    "\n",
    "import matplotlib as mpl\n",
    "import matplotlib.cm as cm \n",
    "import matplotlib.colors as colors\n",
    "import matplotlib.cm as cmx\n",
    "from matplotlib.colors import ListedColormap\n",
    "\n",
    "import seaborn as sns\n",
    "%matplotlib widget\n",
    "\n",
    "from lsst.meas.algorithms.installGaussianPsf import FwhmPerSigma\n",
    "\n",
    "from tqdm.notebook import tqdm\n",
    "import pandas as pd"
   ]
  },
  {
   "cell_type": "code",
   "execution_count": null,
   "id": "b328ebd9-693e-4114-aff3-69ce6124f798",
   "metadata": {
    "execution": {
     "iopub.execute_input": "2025-04-28T17:00:24.134667Z",
     "iopub.status.busy": "2025-04-28T17:00:24.134161Z",
     "iopub.status.idle": "2025-04-28T17:00:24.137299Z",
     "shell.execute_reply": "2025-04-28T17:00:24.136934Z",
     "shell.execute_reply.started": "2025-04-28T17:00:24.134649Z"
    }
   },
   "outputs": [],
   "source": [
    "#xx-small\n",
    "#x-small\n",
    "#small\n",
    "#medium\n",
    "#large\n",
    "#x-large\n",
    "#xx-large\n",
    "\n",
    "plt.rcParams[\"figure.figsize\"] = (10,6)\n",
    "plt.rcParams[\"axes.labelsize\"] = 'x-large'\n",
    "plt.rcParams['axes.titlesize'] = 'x-large'\n",
    "plt.rcParams['xtick.labelsize']= 'x-large'\n",
    "plt.rcParams['ytick.labelsize']= 'x-large'"
   ]
  },
  {
   "cell_type": "code",
   "execution_count": null,
   "id": "46759823-0ab0-4792-9670-08d70280821d",
   "metadata": {
    "execution": {
     "iopub.execute_input": "2025-04-28T17:00:24.137833Z",
     "iopub.status.busy": "2025-04-28T17:00:24.137697Z",
     "iopub.status.idle": "2025-04-28T17:00:24.144163Z",
     "shell.execute_reply": "2025-04-28T17:00:24.143805Z",
     "shell.execute_reply.started": "2025-04-28T17:00:24.137819Z"
    }
   },
   "outputs": [],
   "source": [
    "from astropy.table import Table, join\n",
    "from astropy.time import Time\n",
    "\n",
    "from astropy.coordinates import SkyCoord\n",
    "from astropy import coordinates\n",
    "import astropy.coordinates as coord\n",
    "import astropy.units as u"
   ]
  },
  {
   "cell_type": "code",
   "execution_count": null,
   "id": "24490394-b03f-4aec-8907-8377f67c1df2",
   "metadata": {
    "execution": {
     "iopub.execute_input": "2025-04-28T17:00:24.144894Z",
     "iopub.status.busy": "2025-04-28T17:00:24.144661Z",
     "iopub.status.idle": "2025-04-28T17:00:24.151405Z",
     "shell.execute_reply": "2025-04-28T17:00:24.151049Z",
     "shell.execute_reply.started": "2025-04-28T17:00:24.144878Z"
    }
   },
   "outputs": [],
   "source": [
    "import lsst.geom as geom\n",
    "import lsst\n",
    "from lsst.geom import Angle "
   ]
  },
  {
   "cell_type": "code",
   "execution_count": null,
   "id": "338ce377-6a76-4474-8dfd-e94ee48c6cc8",
   "metadata": {
    "execution": {
     "iopub.execute_input": "2025-04-28T17:00:24.152059Z",
     "iopub.status.busy": "2025-04-28T17:00:24.151810Z",
     "iopub.status.idle": "2025-04-28T17:00:24.159691Z",
     "shell.execute_reply": "2025-04-28T17:00:24.159340Z",
     "shell.execute_reply.started": "2025-04-28T17:00:24.152044Z"
    }
   },
   "outputs": [],
   "source": [
    "# https://pipelines.lsst.io/modules/lsst.geom/getting-started.html\n",
    "func_degToRad = lambda x : Angle(x,lsst.geom.degrees).asRadians()\n",
    "func_zendtoAirmass = lambda x : 1./np.cos(func_degToRad(x))\n",
    "#func_wrap = lambda x : Angle(x,lsst.geom.radians).wrap(180.*lsst.geom.degrees)"
   ]
  },
  {
   "cell_type": "code",
   "execution_count": null,
   "id": "cbaebc60-ba5d-433e-928c-d8ad5fb5fc73",
   "metadata": {
    "execution": {
     "iopub.execute_input": "2025-04-28T17:00:24.160205Z",
     "iopub.status.busy": "2025-04-28T17:00:24.160079Z",
     "iopub.status.idle": "2025-04-28T17:00:24.166384Z",
     "shell.execute_reply": "2025-04-28T17:00:24.166031Z",
     "shell.execute_reply.started": "2025-04-28T17:00:24.160192Z"
    }
   },
   "outputs": [],
   "source": [
    "def ra_to_mollweide(ra_rad):\n",
    "    \"\"\"\n",
    "    Transforme une ascension droite (RA en radians) pour une projection Mollweide :\n",
    "    - RA doit être d'abord dans [0, 2π]\n",
    "    - Puis ramené dans [-π, +π] pour correspondre au domaine Mollweide\n",
    "    - Puis inversé pour que RA croisse vers la gauche sur la carte\n",
    "\n",
    "    Paramètre:\n",
    "    - ra_rad : array ou scalaire de RA en radians\n",
    "\n",
    "    Retourne:\n",
    "    - RA transformé pour projection Mollweide\n",
    "\n",
    "    Discussion avec ChatGPT verifiée le 28/04/2025\n",
    "    \"\"\"\n",
    "\n",
    "    # 1) Assurer que RA est entre 0 et 2π\n",
    "    ra_rad = np.remainder(ra_rad + 2*np.pi, 2*np.pi)\n",
    "\n",
    "    # 2) Remettre RA entre -π et +π\n",
    "    ra_rad[ra_rad > np.pi] -= 2*np.pi\n",
    "\n",
    "    # 3) Inverser RA pour que RA croisse vers la gauche\n",
    "    return -ra_rad\n"
   ]
  },
  {
   "cell_type": "markdown",
   "id": "644d0a4b-7193-46b5-85c8-638ac7207b4f",
   "metadata": {},
   "source": [
    "## Configuration"
   ]
  },
  {
   "cell_type": "code",
   "execution_count": null,
   "id": "7ce654a6-f761-478f-8133-b5e07868ed40",
   "metadata": {
    "execution": {
     "iopub.execute_input": "2025-04-28T17:00:24.167048Z",
     "iopub.status.busy": "2025-04-28T17:00:24.166790Z",
     "iopub.status.idle": "2025-04-28T17:00:24.173229Z",
     "shell.execute_reply": "2025-04-28T17:00:24.172866Z",
     "shell.execute_reply.started": "2025-04-28T17:00:24.167034Z"
    }
   },
   "outputs": [],
   "source": [
    "instrument = \"LSSTComCam\""
   ]
  },
  {
   "cell_type": "code",
   "execution_count": null,
   "id": "fd95a0ea-f58f-4672-afe0-fc3f3f80cfc1",
   "metadata": {
    "execution": {
     "iopub.execute_input": "2025-04-28T17:00:24.173774Z",
     "iopub.status.busy": "2025-04-28T17:00:24.173643Z",
     "iopub.status.idle": "2025-04-28T17:00:24.181647Z",
     "shell.execute_reply": "2025-04-28T17:00:24.181306Z",
     "shell.execute_reply.started": "2025-04-28T17:00:24.173761Z"
    }
   },
   "outputs": [],
   "source": [
    "os.environ[\"no_proxy\"] += \",.consdb\""
   ]
  },
  {
   "cell_type": "code",
   "execution_count": null,
   "id": "8c679aa8-2199-4e02-9354-aafa7f114f91",
   "metadata": {
    "execution": {
     "iopub.execute_input": "2025-04-28T17:00:24.182312Z",
     "iopub.status.busy": "2025-04-28T17:00:24.182061Z",
     "iopub.status.idle": "2025-04-28T17:00:24.188238Z",
     "shell.execute_reply": "2025-04-28T17:00:24.187898Z",
     "shell.execute_reply.started": "2025-04-28T17:00:24.182297Z"
    }
   },
   "outputs": [],
   "source": [
    "url=\"http://consdb-pq.consdb:8080/consdb\""
   ]
  },
  {
   "cell_type": "code",
   "execution_count": null,
   "id": "396043d3-35d4-45f8-bea4-af2ae6af74cd",
   "metadata": {
    "execution": {
     "iopub.execute_input": "2025-04-28T17:00:24.188957Z",
     "iopub.status.busy": "2025-04-28T17:00:24.188662Z",
     "iopub.status.idle": "2025-04-28T17:00:24.195426Z",
     "shell.execute_reply": "2025-04-28T17:00:24.195080Z",
     "shell.execute_reply.started": "2025-04-28T17:00:24.188943Z"
    }
   },
   "outputs": [],
   "source": [
    "consdb=ConsDbClient(url)"
   ]
  },
  {
   "cell_type": "markdown",
   "id": "45ac7b79-cc4a-4abf-8afb-db5e575b894a",
   "metadata": {},
   "source": [
    "https://sdm-schemas.lsst.io/cdb_lsstcomcam.html#exposure"
   ]
  },
  {
   "cell_type": "code",
   "execution_count": null,
   "id": "f015c934-ce60-4833-af60-a0514f33ddcd",
   "metadata": {
    "execution": {
     "iopub.execute_input": "2025-04-28T17:00:24.196171Z",
     "iopub.status.busy": "2025-04-28T17:00:24.195847Z",
     "iopub.status.idle": "2025-04-28T17:00:26.905896Z",
     "shell.execute_reply": "2025-04-28T17:00:26.905380Z",
     "shell.execute_reply.started": "2025-04-28T17:00:24.196156Z"
    }
   },
   "outputs": [],
   "source": [
    "# Query both consDB tables\n",
    "#exposure = consdb.query(\"SELECT * FROM cdb_lsstcam.exposure WHERE science_program = 'BLOCK-351'\")\n",
    "#visits = consdb.query(\"SELECT * FROM cdb_lsstcam.visit1 WHERE science_program = 'BLOCK-351'\")\n",
    "#visits_ql = consdb.query(\"SELECT * FROM cdb_lsstcam.visit1_quicklook\")\n",
    "#visits_ql = consdb.query(\"SELECT * FROM cdb_lsstcam.visit1\")\n",
    "\n",
    "exposure = consdb.query(\"SELECT * FROM cdb_lsstcomcam.exposure WHERE day_obs >= 20241021\")\n",
    "visits = consdb.query(\"SELECT * FROM cdb_lsstcomcam.visit1 WHERE day_obs >= 20241021\")\n",
    "#visits_ql = consdb.query(\"SELECT * FROM cdb_lsstcam.visit1_quicklook\")\n",
    "visits_ql = consdb.query(\"SELECT * FROM cdb_lsstcomcam.visit1 WHERE day_obs >= 20241021\")\n",
    "\n",
    "# Join using astropy's join function on 'visit_id'\n",
    "exposure_join = exposure.rename_column(\"exposure_id\", \"visit_id\")\n",
    "merged_exposure = join(exposure, visits, keys=\"visit_id\", join_type=\"inner\")  \n",
    "merged_visits = join(visits, visits_ql, keys=\"visit_id\", join_type=\"inner\")  \n",
    "\n",
    "# Display or use the merged table\n",
    "#print(merged_visits)"
   ]
  },
  {
   "cell_type": "markdown",
   "id": "24d47919-04af-45ea-a70e-3f9e3d4e2be2",
   "metadata": {},
   "source": [
    "## Explore the visit info in consdb"
   ]
  },
  {
   "cell_type": "code",
   "execution_count": null,
   "id": "d3ab9e1f-2b6b-4372-af3d-457aed8df26b",
   "metadata": {
    "execution": {
     "iopub.execute_input": "2025-04-28T17:00:26.906529Z",
     "iopub.status.busy": "2025-04-28T17:00:26.906393Z",
     "iopub.status.idle": "2025-04-28T17:00:26.909187Z",
     "shell.execute_reply": "2025-04-28T17:00:26.908784Z",
     "shell.execute_reply.started": "2025-04-28T17:00:26.906515Z"
    }
   },
   "outputs": [],
   "source": [
    "print(visits.columns)"
   ]
  },
  {
   "cell_type": "code",
   "execution_count": null,
   "id": "57354d6c-9686-4930-8762-9a8433beebfe",
   "metadata": {
    "execution": {
     "iopub.execute_input": "2025-04-28T17:00:26.909737Z",
     "iopub.status.busy": "2025-04-28T17:00:26.909607Z",
     "iopub.status.idle": "2025-04-28T17:00:26.960085Z",
     "shell.execute_reply": "2025-04-28T17:00:26.959550Z",
     "shell.execute_reply.started": "2025-04-28T17:00:26.909725Z"
    }
   },
   "outputs": [],
   "source": [
    "df_visits = visits.to_pandas()"
   ]
  },
  {
   "cell_type": "code",
   "execution_count": null,
   "id": "cdd83049-7527-4337-abe3-75ed126e2ea9",
   "metadata": {
    "execution": {
     "iopub.execute_input": "2025-04-28T17:00:26.960764Z",
     "iopub.status.busy": "2025-04-28T17:00:26.960628Z",
     "iopub.status.idle": "2025-04-28T17:00:26.964589Z",
     "shell.execute_reply": "2025-04-28T17:00:26.964193Z",
     "shell.execute_reply.started": "2025-04-28T17:00:26.960750Z"
    }
   },
   "outputs": [],
   "source": [
    "df_visits['band'].unique()"
   ]
  },
  {
   "cell_type": "markdown",
   "id": "aef71a12-6d56-4b56-a49e-68ad90e2bc52",
   "metadata": {},
   "source": [
    "### Observation dates"
   ]
  },
  {
   "cell_type": "code",
   "execution_count": null,
   "id": "cb3cde1c-8ef3-4fa3-b4ce-4801747637f6",
   "metadata": {
    "execution": {
     "iopub.execute_input": "2025-04-28T17:00:26.965273Z",
     "iopub.status.busy": "2025-04-28T17:00:26.965038Z",
     "iopub.status.idle": "2025-04-28T17:00:26.972340Z",
     "shell.execute_reply": "2025-04-28T17:00:26.971947Z",
     "shell.execute_reply.started": "2025-04-28T17:00:26.965259Z"
    }
   },
   "outputs": [],
   "source": [
    "df_visits[\"day_obs\"].unique()"
   ]
  },
  {
   "cell_type": "markdown",
   "id": "0dddfbfb-bcab-46a0-a2e4-629d80284aab",
   "metadata": {},
   "source": [
    "### Filters"
   ]
  },
  {
   "cell_type": "code",
   "execution_count": null,
   "id": "5dd87d43-7d1e-47ba-9205-db72babd45aa",
   "metadata": {
    "execution": {
     "iopub.execute_input": "2025-04-28T17:00:26.972901Z",
     "iopub.status.busy": "2025-04-28T17:00:26.972775Z",
     "iopub.status.idle": "2025-04-28T17:00:26.979995Z",
     "shell.execute_reply": "2025-04-28T17:00:26.979589Z",
     "shell.execute_reply.started": "2025-04-28T17:00:26.972889Z"
    }
   },
   "outputs": [],
   "source": [
    "print(df_visits[\"physical_filter\"].unique(),df_visits[\"band\"].unique())"
   ]
  },
  {
   "cell_type": "code",
   "execution_count": null,
   "id": "aa2e3d41-1d5c-495f-86d3-e3a2467d37c5",
   "metadata": {
    "execution": {
     "iopub.execute_input": "2025-04-28T17:00:26.980632Z",
     "iopub.status.busy": "2025-04-28T17:00:26.980445Z",
     "iopub.status.idle": "2025-04-28T17:00:27.004913Z",
     "shell.execute_reply": "2025-04-28T17:00:27.004385Z",
     "shell.execute_reply.started": "2025-04-28T17:00:26.980620Z"
    }
   },
   "outputs": [],
   "source": [
    "df_visits = df_visits[df_visits.band != 'other']\n",
    "df_visits = df_visits[df_visits.band != 'none']"
   ]
  },
  {
   "cell_type": "markdown",
   "id": "c6f1d4b2-ab22-47bf-9a1c-24897a9a308b",
   "metadata": {},
   "source": [
    "## Reasonable airmass"
   ]
  },
  {
   "cell_type": "code",
   "execution_count": null,
   "id": "cc271bbf-f083-439a-84d5-918b8f00176d",
   "metadata": {
    "execution": {
     "iopub.execute_input": "2025-04-28T17:00:27.005606Z",
     "iopub.status.busy": "2025-04-28T17:00:27.005472Z",
     "iopub.status.idle": "2025-04-28T17:00:27.020657Z",
     "shell.execute_reply": "2025-04-28T17:00:27.020027Z",
     "shell.execute_reply.started": "2025-04-28T17:00:27.005593Z"
    }
   },
   "outputs": [],
   "source": [
    "df_visits = df_visits[df_visits[\"airmass\"]>=1.0]"
   ]
  },
  {
   "cell_type": "markdown",
   "id": "f90548eb-3722-4973-be9c-ab932088d70d",
   "metadata": {},
   "source": [
    "### Science program and observation reason"
   ]
  },
  {
   "cell_type": "code",
   "execution_count": null,
   "id": "b8cc4dd2-9b22-4a2e-8b2f-a5ce2525411b",
   "metadata": {
    "execution": {
     "iopub.execute_input": "2025-04-28T17:00:27.024633Z",
     "iopub.status.busy": "2025-04-28T17:00:27.024491Z",
     "iopub.status.idle": "2025-04-28T17:00:27.028640Z",
     "shell.execute_reply": "2025-04-28T17:00:27.028249Z",
     "shell.execute_reply.started": "2025-04-28T17:00:27.024616Z"
    }
   },
   "outputs": [],
   "source": [
    "df_visits[\"science_program\"].unique()"
   ]
  },
  {
   "cell_type": "code",
   "execution_count": null,
   "id": "9fd86ee6-48ce-4494-adf9-cc444c89d508",
   "metadata": {
    "execution": {
     "iopub.execute_input": "2025-04-28T17:00:27.029216Z",
     "iopub.status.busy": "2025-04-28T17:00:27.029089Z",
     "iopub.status.idle": "2025-04-28T17:00:27.037177Z",
     "shell.execute_reply": "2025-04-28T17:00:27.036786Z",
     "shell.execute_reply.started": "2025-04-28T17:00:27.029204Z"
    }
   },
   "outputs": [],
   "source": [
    "df_visits['observation_reason'].unique()"
   ]
  },
  {
   "cell_type": "markdown",
   "id": "f2a46c3b-20c1-4ce0-8db7-b4ab24ac1a12",
   "metadata": {},
   "source": [
    "### Time exposure"
   ]
  },
  {
   "cell_type": "code",
   "execution_count": null,
   "id": "4f5bbbdc-fa6c-45ab-bc4d-d5ee84ae75f9",
   "metadata": {
    "execution": {
     "iopub.execute_input": "2025-04-28T17:00:27.037855Z",
     "iopub.status.busy": "2025-04-28T17:00:27.037616Z",
     "iopub.status.idle": "2025-04-28T17:00:27.125183Z",
     "shell.execute_reply": "2025-04-28T17:00:27.124772Z",
     "shell.execute_reply.started": "2025-04-28T17:00:27.037843Z"
    }
   },
   "outputs": [],
   "source": [
    "fig,ax = plt.subplots(1,1,figsize=(8,4))\n",
    "ax.hist(df_visits[\"exp_time\"].values,bins=50,facecolor=\"b\");\n",
    "plt.show()"
   ]
  },
  {
   "cell_type": "markdown",
   "id": "21441f79-45ef-4022-808f-9957a87a0ad1",
   "metadata": {},
   "source": [
    "## Region in sky"
   ]
  },
  {
   "cell_type": "code",
   "execution_count": null,
   "id": "133fe6ce-6ad5-40ed-a097-40a3662d80df",
   "metadata": {
    "execution": {
     "iopub.execute_input": "2025-04-28T17:00:27.125876Z",
     "iopub.status.busy": "2025-04-28T17:00:27.125690Z",
     "iopub.status.idle": "2025-04-28T17:00:27.128279Z",
     "shell.execute_reply": "2025-04-28T17:00:27.127937Z",
     "shell.execute_reply.started": "2025-04-28T17:00:27.125861Z"
    }
   },
   "outputs": [],
   "source": [
    "dict_b_to_col = {\"u\": \"b\", \"g\":\"g\", \"r\": \"r\", \"i\": 'orange', 'z': \"magenta\",'y':'purple','other':\"k\",'none':'grey'}"
   ]
  },
  {
   "cell_type": "code",
   "execution_count": null,
   "id": "5ee65e5b-3d0a-4fef-8a41-cd853c7c9e4f",
   "metadata": {
    "execution": {
     "iopub.execute_input": "2025-04-28T17:00:27.128795Z",
     "iopub.status.busy": "2025-04-28T17:00:27.128668Z",
     "iopub.status.idle": "2025-04-28T17:00:27.138564Z",
     "shell.execute_reply": "2025-04-28T17:00:27.138179Z",
     "shell.execute_reply.started": "2025-04-28T17:00:27.128783Z"
    }
   },
   "outputs": [],
   "source": [
    "col = df_visits[\"band\"].map(lambda b:  dict_b_to_col[b] ).values"
   ]
  },
  {
   "cell_type": "code",
   "execution_count": null,
   "id": "10ea14f9-5bd4-4c0f-b117-69b7db9886dd",
   "metadata": {
    "execution": {
     "iopub.execute_input": "2025-04-28T17:00:27.139217Z",
     "iopub.status.busy": "2025-04-28T17:00:27.139092Z",
     "iopub.status.idle": "2025-04-28T17:00:27.145917Z",
     "shell.execute_reply": "2025-04-28T17:00:27.145590Z",
     "shell.execute_reply.started": "2025-04-28T17:00:27.139205Z"
    }
   },
   "outputs": [],
   "source": [
    "col"
   ]
  },
  {
   "cell_type": "code",
   "execution_count": null,
   "id": "15cd0a56-3e44-4924-9080-e741dd1bf3b6",
   "metadata": {
    "execution": {
     "iopub.execute_input": "2025-04-28T17:00:27.146451Z",
     "iopub.status.busy": "2025-04-28T17:00:27.146324Z",
     "iopub.status.idle": "2025-04-28T17:00:27.431494Z",
     "shell.execute_reply": "2025-04-28T17:00:27.431088Z",
     "shell.execute_reply.started": "2025-04-28T17:00:27.146439Z"
    }
   },
   "outputs": [],
   "source": [
    "fig,ax = plt.subplots(1,1,figsize=(8,4))\n",
    "df_visits.plot.scatter(x='s_ra',y='s_dec',ax=ax,c=col)\n",
    "ax.grid()\n",
    "ax.set_aspect(\"equal\")\n",
    "plt.show()"
   ]
  },
  {
   "cell_type": "code",
   "execution_count": null,
   "id": "9e6ce737-28e5-4d28-8db2-858485517866",
   "metadata": {
    "execution": {
     "iopub.execute_input": "2025-04-28T17:00:27.432191Z",
     "iopub.status.busy": "2025-04-28T17:00:27.432005Z",
     "iopub.status.idle": "2025-04-28T17:00:27.435198Z",
     "shell.execute_reply": "2025-04-28T17:00:27.434840Z",
     "shell.execute_reply.started": "2025-04-28T17:00:27.432176Z"
    }
   },
   "outputs": [],
   "source": [
    "palette_spectral = sns.color_palette(\"Spectral_r\", as_cmap=True)"
   ]
  },
  {
   "cell_type": "code",
   "execution_count": null,
   "id": "7746fe8f-7c82-4ddf-a624-3d65f9404563",
   "metadata": {
    "execution": {
     "iopub.execute_input": "2025-04-28T17:00:27.435865Z",
     "iopub.status.busy": "2025-04-28T17:00:27.435613Z",
     "iopub.status.idle": "2025-04-28T17:00:28.494067Z",
     "shell.execute_reply": "2025-04-28T17:00:28.493656Z",
     "shell.execute_reply.started": "2025-04-28T17:00:27.435852Z"
    }
   },
   "outputs": [],
   "source": [
    "cmap_time = ListedColormap(sns.color_palette(\"Spectral_r\", df_visits.size))"
   ]
  },
  {
   "cell_type": "code",
   "execution_count": null,
   "id": "97116f16-4c6c-4b78-951d-cbb67fb150d5",
   "metadata": {
    "execution": {
     "iopub.execute_input": "2025-04-28T17:00:28.494740Z",
     "iopub.status.busy": "2025-04-28T17:00:28.494594Z",
     "iopub.status.idle": "2025-04-28T17:00:28.633273Z",
     "shell.execute_reply": "2025-04-28T17:00:28.632825Z",
     "shell.execute_reply.started": "2025-04-28T17:00:28.494723Z"
    }
   },
   "outputs": [],
   "source": [
    "fig, axs = plt.subplots(1,2,figsize=(10,4))\n",
    "ax1,ax2 = axs.flatten() \n",
    "df_visits['s_ra'].hist(bins=50,ax=ax1)\n",
    "df_visits['s_dec'].hist(bins=50,ax=ax2)"
   ]
  },
  {
   "cell_type": "code",
   "execution_count": null,
   "id": "5e3f9c6b-5a36-4ba6-baf3-d66e5f37fef3",
   "metadata": {
    "execution": {
     "iopub.execute_input": "2025-04-28T17:00:28.633941Z",
     "iopub.status.busy": "2025-04-28T17:00:28.633797Z",
     "iopub.status.idle": "2025-04-28T17:00:28.638064Z",
     "shell.execute_reply": "2025-04-28T17:00:28.637712Z",
     "shell.execute_reply.started": "2025-04-28T17:00:28.633928Z"
    }
   },
   "outputs": [],
   "source": [
    "df_coordinates = df_visits[['s_ra','s_dec','obs_start_mjd','airmass']]"
   ]
  },
  {
   "cell_type": "code",
   "execution_count": null,
   "id": "4400e8d5-8121-491f-80e3-4bd2133d5126",
   "metadata": {
    "execution": {
     "iopub.execute_input": "2025-04-28T17:00:28.638589Z",
     "iopub.status.busy": "2025-04-28T17:00:28.638462Z",
     "iopub.status.idle": "2025-04-28T17:00:28.649275Z",
     "shell.execute_reply": "2025-04-28T17:00:28.648871Z",
     "shell.execute_reply.started": "2025-04-28T17:00:28.638577Z"
    }
   },
   "outputs": [],
   "source": [
    "df_coordinates "
   ]
  },
  {
   "cell_type": "markdown",
   "id": "b98f7df3-c5b8-4db0-8977-dc00e457876b",
   "metadata": {},
   "source": [
    "## Must remove not a number in ra and dec"
   ]
  },
  {
   "cell_type": "code",
   "execution_count": null,
   "id": "5df5be78-f4ac-4c9b-9532-ddb105578209",
   "metadata": {
    "execution": {
     "iopub.execute_input": "2025-04-28T17:00:28.649950Z",
     "iopub.status.busy": "2025-04-28T17:00:28.649716Z",
     "iopub.status.idle": "2025-04-28T17:00:28.652620Z",
     "shell.execute_reply": "2025-04-28T17:00:28.652229Z",
     "shell.execute_reply.started": "2025-04-28T17:00:28.649937Z"
    }
   },
   "outputs": [],
   "source": [
    "df_dtypes = np.array(df_coordinates.dtypes)\n",
    "df_numericDtypes= [x.kind in 'bifc' for x in df_dtypes]"
   ]
  },
  {
   "cell_type": "code",
   "execution_count": null,
   "id": "194efe62-bd19-4fbe-9151-7d1f8deaef9b",
   "metadata": {
    "execution": {
     "iopub.execute_input": "2025-04-28T17:00:28.653175Z",
     "iopub.status.busy": "2025-04-28T17:00:28.653041Z",
     "iopub.status.idle": "2025-04-28T17:00:28.661999Z",
     "shell.execute_reply": "2025-04-28T17:00:28.661619Z",
     "shell.execute_reply.started": "2025-04-28T17:00:28.653163Z"
    }
   },
   "outputs": [],
   "source": [
    "df_numericDtypes"
   ]
  },
  {
   "cell_type": "code",
   "execution_count": null,
   "id": "18709735-2cad-438c-b52d-5275c8df323b",
   "metadata": {
    "execution": {
     "iopub.execute_input": "2025-04-28T17:00:28.662545Z",
     "iopub.status.busy": "2025-04-28T17:00:28.662390Z",
     "iopub.status.idle": "2025-04-28T17:00:28.668678Z",
     "shell.execute_reply": "2025-04-28T17:00:28.668346Z",
     "shell.execute_reply.started": "2025-04-28T17:00:28.662533Z"
    }
   },
   "outputs": [],
   "source": [
    "from pandas.api.types import is_any_real_numeric_dtype"
   ]
  },
  {
   "cell_type": "code",
   "execution_count": null,
   "id": "212104b2-2fa0-40c4-a12b-86134692b6ff",
   "metadata": {
    "execution": {
     "iopub.execute_input": "2025-04-28T17:00:28.669216Z",
     "iopub.status.busy": "2025-04-28T17:00:28.669091Z",
     "iopub.status.idle": "2025-04-28T17:00:28.676324Z",
     "shell.execute_reply": "2025-04-28T17:00:28.675979Z",
     "shell.execute_reply.started": "2025-04-28T17:00:28.669204Z"
    }
   },
   "outputs": [],
   "source": [
    "is_any_real_numeric_dtype(df_coordinates ['s_ra'])"
   ]
  },
  {
   "cell_type": "code",
   "execution_count": null,
   "id": "0dc96481-18ce-455f-b837-f6574fae2fa9",
   "metadata": {
    "execution": {
     "iopub.execute_input": "2025-04-28T17:00:28.676963Z",
     "iopub.status.busy": "2025-04-28T17:00:28.676724Z",
     "iopub.status.idle": "2025-04-28T17:00:28.685150Z",
     "shell.execute_reply": "2025-04-28T17:00:28.684812Z",
     "shell.execute_reply.started": "2025-04-28T17:00:28.676950Z"
    }
   },
   "outputs": [],
   "source": [
    "is_any_real_numeric_dtype(df_coordinates ['s_dec'])"
   ]
  },
  {
   "cell_type": "code",
   "execution_count": null,
   "id": "3615ac10-d139-4ced-87d3-34383e63f183",
   "metadata": {
    "execution": {
     "iopub.execute_input": "2025-04-28T17:00:28.685818Z",
     "iopub.status.busy": "2025-04-28T17:00:28.685546Z",
     "iopub.status.idle": "2025-04-28T17:00:28.692379Z",
     "shell.execute_reply": "2025-04-28T17:00:28.692045Z",
     "shell.execute_reply.started": "2025-04-28T17:00:28.685804Z"
    }
   },
   "outputs": [],
   "source": [
    "is_any_real_numeric_dtype(df_coordinates ['obs_start_mjd'])"
   ]
  },
  {
   "cell_type": "code",
   "execution_count": null,
   "id": "2389aca4-54d4-41fe-b483-73330d0f4f50",
   "metadata": {
    "execution": {
     "iopub.execute_input": "2025-04-28T17:00:28.693012Z",
     "iopub.status.busy": "2025-04-28T17:00:28.692776Z",
     "iopub.status.idle": "2025-04-28T17:00:28.709151Z",
     "shell.execute_reply": "2025-04-28T17:00:28.708770Z",
     "shell.execute_reply.started": "2025-04-28T17:00:28.692997Z"
    }
   },
   "outputs": [],
   "source": [
    "df_ = df_coordinates .copy().apply(pd.to_numeric, errors='coerce')\n",
    "test_nmr_coerce = df_.dropna(axis=0, how='any')\n",
    "display(test_nmr_coerce)"
   ]
  },
  {
   "cell_type": "code",
   "execution_count": null,
   "id": "4a201044-e1a4-4d43-ac26-ed5026319819",
   "metadata": {
    "execution": {
     "iopub.execute_input": "2025-04-28T17:00:28.709699Z",
     "iopub.status.busy": "2025-04-28T17:00:28.709571Z",
     "iopub.status.idle": "2025-04-28T17:00:28.712080Z",
     "shell.execute_reply": "2025-04-28T17:00:28.711733Z",
     "shell.execute_reply.started": "2025-04-28T17:00:28.709685Z"
    }
   },
   "outputs": [],
   "source": [
    "df_coordinates  = test_nmr_coerce"
   ]
  },
  {
   "cell_type": "code",
   "execution_count": null,
   "id": "6f056e3e-491b-4e6d-a92e-76f06f8e9536",
   "metadata": {
    "execution": {
     "iopub.execute_input": "2025-04-28T17:00:28.712749Z",
     "iopub.status.busy": "2025-04-28T17:00:28.712478Z",
     "iopub.status.idle": "2025-04-28T17:00:28.748528Z",
     "shell.execute_reply": "2025-04-28T17:00:28.748180Z",
     "shell.execute_reply.started": "2025-04-28T17:00:28.712736Z"
    }
   },
   "outputs": [],
   "source": [
    "ra_g = df_coordinates['s_ra'].apply(func_degToRad) \n",
    "dec_g = df_coordinates['s_dec'].apply(func_degToRad) "
   ]
  },
  {
   "cell_type": "code",
   "execution_count": null,
   "id": "a9968ad6-6c5b-4855-a400-a769cb5ad52e",
   "metadata": {
    "execution": {
     "iopub.execute_input": "2025-04-28T17:00:28.749145Z",
     "iopub.status.busy": "2025-04-28T17:00:28.749002Z",
     "iopub.status.idle": "2025-04-28T17:00:28.751604Z",
     "shell.execute_reply": "2025-04-28T17:00:28.751266Z",
     "shell.execute_reply.started": "2025-04-28T17:00:28.749132Z"
    }
   },
   "outputs": [],
   "source": [
    "dt = df_coordinates['obs_start_mjd'].values - df_coordinates['obs_start_mjd'].min()"
   ]
  },
  {
   "cell_type": "code",
   "execution_count": null,
   "id": "358735fd-81de-42de-aa1e-930d5764d562",
   "metadata": {
    "execution": {
     "iopub.execute_input": "2025-04-28T17:00:28.752095Z",
     "iopub.status.busy": "2025-04-28T17:00:28.751966Z",
     "iopub.status.idle": "2025-04-28T17:00:28.759363Z",
     "shell.execute_reply": "2025-04-28T17:00:28.759012Z",
     "shell.execute_reply.started": "2025-04-28T17:00:28.752083Z"
    }
   },
   "outputs": [],
   "source": [
    "dtmin = dt.min()\n",
    "dtmax = dt.max()"
   ]
  },
  {
   "cell_type": "code",
   "execution_count": null,
   "id": "cd8f4136-dfed-4029-ae49-d52ea4054839",
   "metadata": {
    "execution": {
     "iopub.execute_input": "2025-04-28T17:00:28.759996Z",
     "iopub.status.busy": "2025-04-28T17:00:28.759868Z",
     "iopub.status.idle": "2025-04-28T17:00:28.769429Z",
     "shell.execute_reply": "2025-04-28T17:00:28.769080Z",
     "shell.execute_reply.started": "2025-04-28T17:00:28.759983Z"
    }
   },
   "outputs": [],
   "source": [
    "# Galactic plane\n",
    "gal_long = np.linspace(-180.,180,360)\n",
    "gal_lat = np.zeros((360))\n",
    "coordinates_galactic_planes = SkyCoord(l=gal_long*u.degree, b=gal_lat*u.degree, frame='galactic')\n",
    "gp_radec = coordinates_galactic_planes.transform_to('icrs')  \n",
    "# for galactic plane\n",
    "# gp_radec.ra : 0., 360.\n",
    "# gp_radec.dec : -90, 90\n",
    "gp_ra_toplot = coordinates.Angle(gp_radec.ra.degree*u.degree)\n",
    "gp_ra_toplot = gp_ra_toplot.wrap_at(180*u.degree)\n",
    "# gp_ra_toplot -180, 180"
   ]
  },
  {
   "cell_type": "code",
   "execution_count": null,
   "id": "527a501a-41fd-4bb1-8db5-22c9d70fba5a",
   "metadata": {
    "execution": {
     "iopub.execute_input": "2025-04-28T17:00:28.769990Z",
     "iopub.status.busy": "2025-04-28T17:00:28.769861Z",
     "iopub.status.idle": "2025-04-28T17:00:28.774955Z",
     "shell.execute_reply": "2025-04-28T17:00:28.774593Z",
     "shell.execute_reply.started": "2025-04-28T17:00:28.769978Z"
    }
   },
   "outputs": [],
   "source": [
    "ra = coordinates.Angle(df_coordinates['s_ra'].values,unit=\"deg\").radian\n",
    "dec = coordinates.Angle(df_coordinates['s_dec'].values,unit=\"deg\").radian"
   ]
  },
  {
   "cell_type": "code",
   "execution_count": null,
   "id": "e99f4a95-1534-4345-b37c-c1de06bbd717",
   "metadata": {
    "execution": {
     "iopub.execute_input": "2025-04-28T17:00:28.775507Z",
     "iopub.status.busy": "2025-04-28T17:00:28.775377Z",
     "iopub.status.idle": "2025-04-28T17:00:29.019995Z",
     "shell.execute_reply": "2025-04-28T17:00:29.019583Z",
     "shell.execute_reply.started": "2025-04-28T17:00:28.775494Z"
    }
   },
   "outputs": [],
   "source": [
    "# plot\n",
    "# x arg in rad must be (-2pi,2pi), y arg in rad  must be in ( -pi,pi )\n",
    "fig = plt.figure(figsize=(16,8))\n",
    "#ax = fig.add_subplot(111, projection=\"aitoff\")\n",
    "ax = fig.add_subplot(111, projection=\"mollweide\")\n",
    "ax.scatter(gp_ra_toplot.radian, gp_radec.dec.radian,c=\"r\",label=\"Galactic Plane\",s=1)\n",
    "#ax.scatter(ra-np.pi,dec,marker='+',c=all_colors_g)\n",
    "#im = ax.scatter(ra_g.values-np.pi,dec_g.values,marker='+',s=50,lw=3,c=dt,cmap=palette_spectral)\n",
    "im = ax.scatter(ra_to_mollweide(ra_g.values),dec_g.values,marker='+',s=50,lw=3,c=dt,cmap=palette_spectral)\n",
    "ax.legend()\n",
    "ax.grid()\n",
    "\n",
    "cbar = plt.colorbar(im, orientation='horizontal', label='time(days)')\n",
    "plt.suptitle(instrument + \" commissioning 2024\")\n",
    "plt.show()"
   ]
  },
  {
   "cell_type": "code",
   "execution_count": null,
   "id": "ea88b768-2a32-44c0-96a2-bd18905e1cc6",
   "metadata": {
    "execution": {
     "iopub.execute_input": "2025-04-28T22:11:49.585187Z",
     "iopub.status.busy": "2025-04-28T22:11:49.584846Z",
     "iopub.status.idle": "2025-04-28T22:11:49.836723Z",
     "shell.execute_reply": "2025-04-28T22:11:49.836383Z",
     "shell.execute_reply.started": "2025-04-28T22:11:49.585168Z"
    }
   },
   "outputs": [],
   "source": [
    "import numpy as np\n",
    "import matplotlib.pyplot as plt\n",
    "\n",
    "# Coordonnées des Deep Drilling Fields (RA en degrés, Dec en degrés)\n",
    "ddf_names = ['XMM-LSS', 'COSMOS', 'ECDFS', 'ELAIS-S1', 'EDFS_a','EDFS_b']\n",
    "ddf_ra_deg = np.array([35.57, 150.11, 52.98, 9.45, 58.90, 63.60])   # approximatif\n",
    "ddf_dec_deg = np.array([-4.82, 2.23, -28.12, -44.02, -49.32,-47.60])  # approximatif\n",
    "\n",
    "\n",
    "\n",
    "# Conversion en radians et adaptation pour Mollweide projection\n",
    "ddf_ra_rad = np.radians(ddf_ra_deg)\n",
    "ddf_dec_rad = np.radians(ddf_dec_deg)\n",
    "# Décalage pour Mollweide (RA=0h au centre), donc -π à π\n",
    "#ddf_ra_rad = np.remainder(ddf_ra_rad + 2*np.pi, 2*np.pi)  # force RA entre 0 et 2pi\n",
    "#ddf_ra_rad[ddf_ra_rad > np.pi] -= 2*np.pi  # force entre -pi et +pi\n",
    "#ddf_ra_rad = -ddf_ra_rad  # reverse l'axe des RA\n",
    "ddf_ra_rad = ra_to_mollweide(ddf_ra_rad)\n",
    "\n",
    "# --- Ton plot existant ---\n",
    "fig = plt.figure(figsize=(14,8))\n",
    "ax = fig.add_subplot(111, projection=\"mollweide\")\n",
    "\n",
    "# Exemple de fond existant\n",
    "ax.scatter(gp_ra_toplot.radian, gp_radec.dec.radian, c=\"r\", label=\"Galactic Plane\", s=1)\n",
    "#im = ax.scatter(ra_g.values - np.pi, dec_g.values, marker='+', s=50, lw=3, c=dt, cmap=palette_spectral)\n",
    "im = ax.scatter(ra_to_mollweide(ra_g.values),dec_g.values,marker='+',s=50,lw=2,c=dt,cmap=palette_spectral)\n",
    "\n",
    "# Ajout des Deep Drilling Fields\n",
    "for i in range(len(ddf_names)):\n",
    "    ax.plot(ddf_ra_rad[i], ddf_dec_rad[i], 'o', markersize=12, color='gold', markeredgecolor='black')\n",
    "    ax.text(ddf_ra_rad[i]+0.05, ddf_dec_rad[i]+0.05, ddf_names[i], fontsize=12, color='gold', ha='left', va='bottom', weight='bold')\n",
    "\n",
    "ax.legend()\n",
    "ax.grid()\n",
    "\n",
    "cbar = plt.colorbar(im, orientation='horizontal', label='time (days)')\n",
    "plt.suptitle(instrument)\n",
    "\n",
    "plt.show()\n"
   ]
  },
  {
   "cell_type": "markdown",
   "id": "4206e540-8635-4806-8e00-d32799a0de06",
   "metadata": {},
   "source": [
    "### Add Deep drilling field"
   ]
  },
  {
   "cell_type": "code",
   "execution_count": null,
   "id": "90f09ba6-32bd-4087-ae47-befc3ee15eb8",
   "metadata": {
    "execution": {
     "iopub.execute_input": "2025-04-28T17:00:29.249770Z",
     "iopub.status.busy": "2025-04-28T17:00:29.249625Z",
     "iopub.status.idle": "2025-04-28T17:00:29.253602Z",
     "shell.execute_reply": "2025-04-28T17:00:29.253198Z",
     "shell.execute_reply.started": "2025-04-28T17:00:29.249753Z"
    }
   },
   "outputs": [],
   "source": [
    "ddf = {}\n",
    "ddf[\"47 Tuc\"] = {\"name\": \"47 Tuc Globular Cluster\", \"ra\": 6.02, \"dec\": -72.08}\n",
    "ddf[\"Rubin SV 38 7\"] = {\"name\": \"Low Ecliptic Latitude Field\", \"ra\": 37.86, \"dec\": 6.98}\n",
    "ddf[\"Fornax dSph\"] = {\"name\" : \"Fornax Dwarf Spheroidal Galaxy\", \"ra\": 40.00, \"dec\": -34.45}\n",
    "ddf[\"ECDFS\"] = {\"name\" : \"Extended Chandra Deep Field South\", \"ra\": 53.13, \"dec\": -28.10}\n",
    "ddf[\"EDFS\"] = {\"name\" : \"Euclid Deep Field South\", \"ra\": 59.10, \"dec\": -48.73}\n",
    "ddf[\"Rubin SV 95 -25\"] = {\"name\" : \"Low Galactic Latitude Field\", \"ra\": 95.00, \"dec\": -25.00}\n",
    "ddf[\"Seagull\"] = {\"name\" : \"Seagul Nebular\", \"ra\": 106.23, \"dec\": -10.51}"
   ]
  },
  {
   "cell_type": "code",
   "execution_count": null,
   "id": "7a6b6b73-f5d5-4352-bdf6-2e632bc8c350",
   "metadata": {
    "execution": {
     "iopub.execute_input": "2025-04-28T17:00:29.254379Z",
     "iopub.status.busy": "2025-04-28T17:00:29.254024Z",
     "iopub.status.idle": "2025-04-28T17:00:29.265909Z",
     "shell.execute_reply": "2025-04-28T17:00:29.265512Z",
     "shell.execute_reply.started": "2025-04-28T17:00:29.254366Z"
    }
   },
   "outputs": [],
   "source": [
    "# Extraire les coordonnées RA/DEC depuis le dictionnaire\n",
    "ddf_ra = []\n",
    "ddf_dec = []\n",
    "ddf_labels = []\n",
    "ddf_names = []\n",
    "\n",
    "for key, val in ddf.items():\n",
    "    ddf_ra.append(val[\"ra\"])\n",
    "    ddf_dec.append(val[\"dec\"])\n",
    "    ddf_labels.append(key)\n",
    "    ddf_names.append(val[\"name\"]) \n",
    "\n",
    "# Conversion en radians to plot in sky map\n",
    "ddf_ra_rad = np.radians(ddf_ra) \n",
    "ddf_ra_rad = ra_to_mollweide(ddf_ra_rad)\n",
    "ddf_dec_rad = np.radians(ddf_dec)"
   ]
  },
  {
   "cell_type": "code",
   "execution_count": null,
   "id": "add90051-893f-406a-bfd8-b9bc43de4f64",
   "metadata": {
    "execution": {
     "iopub.execute_input": "2025-04-28T17:00:29.266451Z",
     "iopub.status.busy": "2025-04-28T17:00:29.266328Z",
     "iopub.status.idle": "2025-04-28T17:00:29.274119Z",
     "shell.execute_reply": "2025-04-28T17:00:29.273760Z",
     "shell.execute_reply.started": "2025-04-28T17:00:29.266438Z"
    }
   },
   "outputs": [],
   "source": [
    "len(ddf_ra_rad )"
   ]
  },
  {
   "cell_type": "code",
   "execution_count": null,
   "id": "646980d2-799e-438e-a402-9acea5cd0f6f",
   "metadata": {
    "execution": {
     "iopub.execute_input": "2025-04-28T17:00:29.274669Z",
     "iopub.status.busy": "2025-04-28T17:00:29.274538Z",
     "iopub.status.idle": "2025-04-28T17:00:29.281850Z",
     "shell.execute_reply": "2025-04-28T17:00:29.281506Z",
     "shell.execute_reply.started": "2025-04-28T17:00:29.274657Z"
    }
   },
   "outputs": [],
   "source": [
    "len(ddf_dec_rad)"
   ]
  },
  {
   "cell_type": "code",
   "execution_count": null,
   "id": "f4fd7793-1441-4948-8da5-43111852f9f4",
   "metadata": {
    "execution": {
     "iopub.execute_input": "2025-04-28T17:00:29.282550Z",
     "iopub.status.busy": "2025-04-28T17:00:29.282312Z",
     "iopub.status.idle": "2025-04-28T17:00:29.621422Z",
     "shell.execute_reply": "2025-04-28T17:00:29.620882Z",
     "shell.execute_reply.started": "2025-04-28T17:00:29.282537Z"
    }
   },
   "outputs": [],
   "source": [
    "# plot\n",
    "# x arg in rad must be (-2pi,2pi), y arg in rad  must be in ( -pi,pi )\n",
    "fig = plt.figure(figsize=(16,8))\n",
    "#ax = fig.add_subplot(111, projection=\"aitoff\")\n",
    "ax = fig.add_subplot(111, projection=\"mollweide\")\n",
    "ax.scatter(gp_ra_toplot.radian, gp_radec.dec.radian,c=\"r\",label=\"Galactic Plane\",s=1)\n",
    "#ax.scatter(ra-np.pi,dec,marker='+',c=all_colors_g)\n",
    "#im = ax.scatter(ra_g.values-np.pi,dec_g.values,marker='+',s=50,lw=3,c=dt,cmap=palette_spectral)\n",
    "im = ax.scatter(ra_to_mollweide(ra_g.values),dec_g.values,marker='+',s=50,lw=3,c=dt,cmap=palette_spectral)\n",
    "\n",
    "#cbar = plt.colorbar(im, orientation='horizontal', label='time(days)')\n",
    "\n",
    "# Affichage sur la carte\n",
    "ax.scatter(ddf_ra_rad, ddf_dec_rad, c=\"k\", marker=\"*\", s=200, label=\"Deep drilling fields\")\n",
    "\n",
    "# Ajouter les noms des champs sur la carte\n",
    "for ra, dec, label in zip(ddf_ra_rad, ddf_dec_rad, ddf_labels):\n",
    "    ax.text(ra, dec, label, fontsize=16, fontweight=\"bold\",ha=\"left\", va=\"bottom\", color=\"k\")\n",
    "\n",
    "\n",
    "# Créer un tableau avec pandas pour les noms\n",
    "df = pd.DataFrame({\n",
    "    'Deep Field': ddf_labels,\n",
    "    'description': ddf_names,\n",
    "    'RA (deg)': ddf_ra,\n",
    "    'DEC (deg)': ddf_dec\n",
    "})\n",
    "\n",
    "# Créer un tableau sous la carte\n",
    "table_data = df.values\n",
    "col_labels = df.columns\n",
    "\n",
    "\n",
    "# Ajouter un tableau sous la carte avec plus d'espace et ajustement des lignes\n",
    "table = ax.table(cellText=table_data, colLabels=col_labels, loc='bottom', cellLoc='center', colLoc='center', bbox=[0, -0.2, 1, 0.15])\n",
    "\n",
    "# Ajuster la taille des lignes (hauteur des cellules)\n",
    "for key, cell in table.get_celld().items():\n",
    "    if key[0] == 0:  # En-têtes de colonnes\n",
    "        cell.set_fontsize(14)\n",
    "    else:  # Données des lignes\n",
    "        cell.set_fontsize(12)\n",
    "    cell.set_height(1.8)  # Ajuste la hauteur des cellules pour éviter qu'elles soient trop écrasées\n",
    "\n",
    "\n",
    "# Ajouter la colorbar sous le tableau\n",
    "#cbar = plt.colorbar(im, label='time(days)', ax=ax, pad=0.1, fraction=0.05)\n",
    "cbar = plt.colorbar(im, label='time(days)', ax=ax)\n",
    "\n",
    "ax.legend()\n",
    "ax.grid()\n",
    "plt.suptitle(instrument + \" commissioning 2024\",fontsize=16)\n",
    "plt.subplots_adjust(bottom=0.2)  # Augmenter l'espace en bas pour accueillir la colorbar\n"
   ]
  },
  {
   "cell_type": "markdown",
   "id": "7310a336-342e-49b4-bdd7-eb5295afed7c",
   "metadata": {
    "execution": {
     "iopub.status.busy": "2025-04-18T15:21:32.428824Z",
     "iopub.status.idle": "2025-04-18T15:21:32.428991Z",
     "shell.execute_reply": "2025-04-18T15:21:32.428916Z",
     "shell.execute_reply.started": "2025-04-18T15:21:32.428908Z"
    }
   },
   "source": [
    "## Time dependence"
   ]
  },
  {
   "cell_type": "code",
   "execution_count": null,
   "id": "d6e78b73-58a4-40e5-bc6a-2c95f6953ae3",
   "metadata": {
    "execution": {
     "iopub.execute_input": "2025-04-28T17:00:29.622220Z",
     "iopub.status.busy": "2025-04-28T17:00:29.622064Z",
     "iopub.status.idle": "2025-04-28T17:00:29.630572Z",
     "shell.execute_reply": "2025-04-28T17:00:29.630168Z",
     "shell.execute_reply.started": "2025-04-28T17:00:29.622205Z"
    }
   },
   "outputs": [],
   "source": [
    "time = Time(visits['exp_midpt'])"
   ]
  },
  {
   "cell_type": "code",
   "execution_count": null,
   "id": "c9ae914c-b595-4f94-adff-2b77996fa096",
   "metadata": {
    "execution": {
     "iopub.execute_input": "2025-04-28T17:00:29.631312Z",
     "iopub.status.busy": "2025-04-28T17:00:29.631009Z",
     "iopub.status.idle": "2025-04-28T17:00:29.693178Z",
     "shell.execute_reply": "2025-04-28T17:00:29.692822Z",
     "shell.execute_reply.started": "2025-04-28T17:00:29.631299Z"
    }
   },
   "outputs": [],
   "source": [
    "print('tmin = ',time.min(),' | tmax = ',time.max())"
   ]
  },
  {
   "cell_type": "markdown",
   "id": "10161d7e-3d6b-4eb5-9871-d024961b0846",
   "metadata": {},
   "source": [
    "### Airmass vs Time"
   ]
  },
  {
   "cell_type": "code",
   "execution_count": null,
   "id": "2ac16eec-4253-4647-a4c0-15c5e9ebd094",
   "metadata": {
    "execution": {
     "iopub.execute_input": "2025-04-28T17:00:29.693704Z",
     "iopub.status.busy": "2025-04-28T17:00:29.693577Z",
     "iopub.status.idle": "2025-04-28T17:00:30.108699Z",
     "shell.execute_reply": "2025-04-28T17:00:30.108274Z",
     "shell.execute_reply.started": "2025-04-28T17:00:29.693691Z"
    }
   },
   "outputs": [],
   "source": [
    "\n",
    "# Plot the time vs the specified column\n",
    "plt.figure(figsize=(12, 4))\n",
    "plt.plot(time.plot_date, visits['airmass'],'b.')\n",
    "\n",
    "# Set x-axis to show dates\n",
    "#plt.gca().xaxis.set_major_formatter(mdates.DateFormatter('%Y-%m-%d %H:%M:%S'))\n",
    "plt.gca().xaxis.set_major_formatter(mdates.DateFormatter('%Y-%m-%d %H'))\n",
    "plt.gca().xaxis.set_major_locator(mdates.AutoDateLocator())\n",
    "\n",
    "# Rotate and format x-axis labels for readability\n",
    "plt.xticks(rotation=45, ha='right')\n",
    "\n",
    "plt.xlabel('Time')\n",
    "plt.ylabel('Airmass')\n",
    "plt.title(f'Time vs Airmass')\n",
    "plt.legend()\n",
    "plt.grid(True)\n",
    "plt.tight_layout()  # Adjust layout to prevent clipping of labels\n",
    "plt.show()"
   ]
  },
  {
   "cell_type": "code",
   "execution_count": null,
   "id": "6e94a1a2-f7a9-45fd-9fb7-876cd2634afc",
   "metadata": {},
   "outputs": [],
   "source": []
  },
  {
   "cell_type": "code",
   "execution_count": null,
   "id": "4f3d1575-f9ba-41bc-a983-07d7c7ade714",
   "metadata": {
    "execution": {
     "iopub.execute_input": "2025-04-28T17:00:30.109387Z",
     "iopub.status.busy": "2025-04-28T17:00:30.109234Z",
     "iopub.status.idle": "2025-04-28T17:00:30.249483Z",
     "shell.execute_reply": "2025-04-28T17:00:30.249048Z",
     "shell.execute_reply.started": "2025-04-28T17:00:30.109368Z"
    }
   },
   "outputs": [],
   "source": [
    "# Plot the time vs the specified column\n",
    "plt.figure(figsize=(12, 4))\n",
    "plt.plot(time.plot_date, visits['air_temp'],'b.')\n",
    "\n",
    "# Set x-axis to show dates\n",
    "#plt.gca().xaxis.set_major_formatter(mdates.DateFormatter('%Y-%m-%d %H:%M:%S'))\n",
    "plt.gca().xaxis.set_major_formatter(mdates.DateFormatter('%Y-%m-%d %H'))\n",
    "plt.gca().xaxis.set_major_locator(mdates.AutoDateLocator())\n",
    "\n",
    "# Rotate and format x-axis labels for readability\n",
    "plt.xticks(rotation=45, ha='right')\n",
    "\n",
    "plt.xlabel('Time')\n",
    "plt.ylabel('air_temp')\n",
    "plt.title(f'air_temp vs time')\n",
    "plt.legend()\n",
    "plt.grid(True)\n",
    "plt.tight_layout()  # Adjust layout to prevent clipping of labels\n",
    "plt.show()"
   ]
  },
  {
   "cell_type": "code",
   "execution_count": null,
   "id": "745d7739-954b-4947-9b37-4e15658087c5",
   "metadata": {
    "execution": {
     "iopub.execute_input": "2025-04-28T17:00:30.250253Z",
     "iopub.status.busy": "2025-04-28T17:00:30.250043Z",
     "iopub.status.idle": "2025-04-28T17:00:30.384339Z",
     "shell.execute_reply": "2025-04-28T17:00:30.383903Z",
     "shell.execute_reply.started": "2025-04-28T17:00:30.250236Z"
    }
   },
   "outputs": [],
   "source": [
    "# Plot the time vs the specified column\n",
    "plt.figure(figsize=(12, 4))\n",
    "plt.plot(time.plot_date, visits['pressure'],'b.')\n",
    "\n",
    "# Set x-axis to show dates\n",
    "#plt.gca().xaxis.set_major_formatter(mdates.DateFormatter('%Y-%m-%d %H:%M:%S'))\n",
    "plt.gca().xaxis.set_major_formatter(mdates.DateFormatter('%Y-%m-%d %H'))\n",
    "plt.gca().xaxis.set_major_locator(mdates.AutoDateLocator())\n",
    "\n",
    "# Rotate and format x-axis labels for readability\n",
    "plt.xticks(rotation=45, ha='right')\n",
    "\n",
    "plt.xlabel('Time')\n",
    "plt.ylabel('pressure')\n",
    "plt.title(f'pressure vs time')\n",
    "plt.legend()\n",
    "plt.grid(True)\n",
    "plt.tight_layout()  # Adjust layout to prevent clipping of labels\n",
    "plt.show()"
   ]
  },
  {
   "cell_type": "code",
   "execution_count": null,
   "id": "c56e229e-e2a7-4311-a619-ef77678cd07a",
   "metadata": {
    "execution": {
     "iopub.execute_input": "2025-04-28T17:00:30.385087Z",
     "iopub.status.busy": "2025-04-28T17:00:30.384879Z",
     "iopub.status.idle": "2025-04-28T17:00:30.530647Z",
     "shell.execute_reply": "2025-04-28T17:00:30.530226Z",
     "shell.execute_reply.started": "2025-04-28T17:00:30.385057Z"
    }
   },
   "outputs": [],
   "source": [
    "# Plot the time vs the specified column\n",
    "plt.figure(figsize=(12, 4))\n",
    "plt.plot(time.plot_date, visits['humidity'],'b.')\n",
    "\n",
    "# Set x-axis to show dates\n",
    "#plt.gca().xaxis.set_major_formatter(mdates.DateFormatter('%Y-%m-%d %H:%M:%S'))\n",
    "plt.gca().xaxis.set_major_formatter(mdates.DateFormatter('%Y-%m-%d %H'))\n",
    "plt.gca().xaxis.set_major_locator(mdates.AutoDateLocator())\n",
    "\n",
    "# Rotate and format x-axis labels for readability\n",
    "plt.xticks(rotation=45, ha='right')\n",
    "\n",
    "plt.xlabel('Time')\n",
    "plt.ylabel('humidity')\n",
    "plt.title(f'humidity vs time')\n",
    "plt.legend()\n",
    "plt.grid(True)\n",
    "plt.tight_layout()  # Adjust layout to prevent clipping of labels\n",
    "plt.show()"
   ]
  },
  {
   "cell_type": "code",
   "execution_count": null,
   "id": "161879f6-53c4-4d00-8760-3f7edc95b450",
   "metadata": {},
   "outputs": [],
   "source": []
  },
  {
   "cell_type": "code",
   "execution_count": null,
   "id": "b341d28f-5e57-462a-90a2-0f7e3fe88afa",
   "metadata": {},
   "outputs": [],
   "source": []
  },
  {
   "cell_type": "code",
   "execution_count": null,
   "id": "69edab7a-5891-4423-9011-2ce78e570a6f",
   "metadata": {
    "execution": {
     "iopub.execute_input": "2025-04-28T17:00:30.531350Z",
     "iopub.status.busy": "2025-04-28T17:00:30.531196Z",
     "iopub.status.idle": "2025-04-28T17:00:30.669778Z",
     "shell.execute_reply": "2025-04-28T17:00:30.669379Z",
     "shell.execute_reply.started": "2025-04-28T17:00:30.531334Z"
    }
   },
   "outputs": [],
   "source": [
    "# Plot the time vs the specified column\n",
    "plt.figure(figsize=(12, 4))\n",
    "plt.plot(time.plot_date, visits['wind_speed'],'b.')\n",
    "\n",
    "# Set x-axis to show dates\n",
    "#plt.gca().xaxis.set_major_formatter(mdates.DateFormatter('%Y-%m-%d %H:%M:%S'))\n",
    "plt.gca().xaxis.set_major_formatter(mdates.DateFormatter('%Y-%m-%d %H'))\n",
    "plt.gca().xaxis.set_major_locator(mdates.AutoDateLocator())\n",
    "\n",
    "# Rotate and format x-axis labels for readability\n",
    "plt.xticks(rotation=45, ha='right')\n",
    "\n",
    "plt.xlabel('Time')\n",
    "plt.ylabel('wind_speed')\n",
    "plt.title(f'wind_speed vs time')\n",
    "plt.legend()\n",
    "plt.grid(True)\n",
    "plt.tight_layout()  # Adjust layout to prevent clipping of labels\n",
    "plt.show()"
   ]
  },
  {
   "cell_type": "code",
   "execution_count": null,
   "id": "5b53fb9e-dc8a-4bd3-bb9e-6c5640070191",
   "metadata": {
    "execution": {
     "iopub.execute_input": "2025-04-28T17:00:30.670427Z",
     "iopub.status.busy": "2025-04-28T17:00:30.670286Z",
     "iopub.status.idle": "2025-04-28T17:00:30.815793Z",
     "shell.execute_reply": "2025-04-28T17:00:30.815177Z",
     "shell.execute_reply.started": "2025-04-28T17:00:30.670412Z"
    }
   },
   "outputs": [],
   "source": [
    "# Plot the time vs the specified column\n",
    "plt.figure(figsize=(12, 4))\n",
    "plt.plot(time.plot_date, visits['wind_dir'],'b.')\n",
    "\n",
    "# Set x-axis to show dates\n",
    "#plt.gca().xaxis.set_major_formatter(mdates.DateFormatter('%Y-%m-%d %H:%M:%S'))\n",
    "plt.gca().xaxis.set_major_formatter(mdates.DateFormatter('%Y-%m-%d %H'))\n",
    "plt.gca().xaxis.set_major_locator(mdates.AutoDateLocator())\n",
    "\n",
    "# Rotate and format x-axis labels for readability\n",
    "plt.xticks(rotation=45, ha='right')\n",
    "\n",
    "plt.xlabel('Time')\n",
    "plt.ylabel('wind_dir')\n",
    "plt.title(f'wind_dir vs time')\n",
    "plt.legend()\n",
    "plt.grid(True)\n",
    "plt.tight_layout()  # Adjust layout to prevent clipping of labels\n",
    "plt.show()"
   ]
  },
  {
   "cell_type": "code",
   "execution_count": null,
   "id": "78ad5bbb-6425-4265-91f9-0f93a0286123",
   "metadata": {
    "execution": {
     "iopub.execute_input": "2025-04-28T17:00:30.816830Z",
     "iopub.status.busy": "2025-04-28T17:00:30.816587Z",
     "iopub.status.idle": "2025-04-28T17:00:30.946977Z",
     "shell.execute_reply": "2025-04-28T17:00:30.946584Z",
     "shell.execute_reply.started": "2025-04-28T17:00:30.816803Z"
    }
   },
   "outputs": [],
   "source": [
    "# Plot the time vs the specified column\n",
    "plt.figure(figsize=(12, 4))\n",
    "plt.plot(time.plot_date, visits['dimm_seeing'],'b.')\n",
    "\n",
    "# Set x-axis to show dates\n",
    "#plt.gca().xaxis.set_major_formatter(mdates.DateFormatter('%Y-%m-%d %H:%M:%S'))\n",
    "plt.gca().xaxis.set_major_formatter(mdates.DateFormatter('%Y-%m-%d %H'))\n",
    "plt.gca().xaxis.set_major_locator(mdates.AutoDateLocator())\n",
    "\n",
    "# Rotate and format x-axis labels for readability\n",
    "plt.xticks(rotation=45, ha='right')\n",
    "\n",
    "plt.xlabel('Time')\n",
    "plt.ylabel('dimm_seeing')\n",
    "plt.title(f'dimm_seeing vs time')\n",
    "plt.legend()\n",
    "plt.grid(True)\n",
    "plt.tight_layout()  # Adjust layout to prevent clipping of labels\n",
    "plt.show()"
   ]
  },
  {
   "cell_type": "code",
   "execution_count": null,
   "id": "aae79c73-d9cf-4d89-8d85-f0ebcaf259ef",
   "metadata": {
    "execution": {
     "iopub.execute_input": "2025-04-28T17:00:30.947609Z",
     "iopub.status.busy": "2025-04-28T17:00:30.947467Z",
     "iopub.status.idle": "2025-04-28T17:00:31.073248Z",
     "shell.execute_reply": "2025-04-28T17:00:31.072849Z",
     "shell.execute_reply.started": "2025-04-28T17:00:30.947592Z"
    }
   },
   "outputs": [],
   "source": [
    "# Plot the time vs the specified column\n",
    "plt.figure(figsize=(12, 4))\n",
    "plt.plot(time.plot_date, visits['focus_z'],'b.')\n",
    "\n",
    "# Set x-axis to show dates\n",
    "#plt.gca().xaxis.set_major_formatter(mdates.DateFormatter('%Y-%m-%d %H:%M:%S'))\n",
    "plt.gca().xaxis.set_major_formatter(mdates.DateFormatter('%Y-%m-%d %H'))\n",
    "plt.gca().xaxis.set_major_locator(mdates.AutoDateLocator())\n",
    "\n",
    "# Rotate and format x-axis labels for readability\n",
    "plt.xticks(rotation=45, ha='right')\n",
    "\n",
    "plt.xlabel('Time')\n",
    "plt.ylabel('focus_z')\n",
    "plt.title(f'focus_z vs time')\n",
    "plt.legend()\n",
    "plt.grid(True)\n",
    "plt.tight_layout()  # Adjust layout to prevent clipping of labels\n",
    "plt.show()"
   ]
  },
  {
   "cell_type": "code",
   "execution_count": null,
   "id": "98d10515-a9d1-4cd0-a8a2-eeb9007d5538",
   "metadata": {},
   "outputs": [],
   "source": []
  }
 ],
 "metadata": {
  "kernelspec": {
   "display_name": "LSST",
   "language": "python",
   "name": "lsst"
  },
  "language_info": {
   "codemirror_mode": {
    "name": "ipython",
    "version": 3
   },
   "file_extension": ".py",
   "mimetype": "text/x-python",
   "name": "python",
   "nbconvert_exporter": "python",
   "pygments_lexer": "ipython3",
   "version": "3.12.9"
  }
 },
 "nbformat": 4,
 "nbformat_minor": 5
}
