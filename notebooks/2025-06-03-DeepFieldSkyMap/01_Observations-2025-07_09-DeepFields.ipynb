{
 "cells": [
  {
   "cell_type": "markdown",
   "id": "b5414a7d-fad1-40d6-96cf-da9b6c2d0338",
   "metadata": {},
   "source": [
    " # 01 Build the Visibility plot for Deep Drilling fields"
   ]
  },
  {
   "cell_type": "markdown",
   "id": "21420fd6-8690-4ea4-a32b-fd3d39b8d8ce",
   "metadata": {},
   "source": [
    "- Author Sylvie Dagoret-Campagne\n",
    "- Creation : 2025-06-03\n"
   ]
  },
  {
   "cell_type": "markdown",
   "id": "be2f4b7c-c880-480e-8c15-42616edf7462",
   "metadata": {},
   "source": [
    "## Ckeck on airmass.org : https://airmass.org/"
   ]
  },
  {
   "cell_type": "code",
   "execution_count": null,
   "id": "c7861f29-3c20-4e5d-99a6-4e8acc89981c",
   "metadata": {
    "execution": {
     "iopub.execute_input": "2025-06-08T19:12:13.528810Z",
     "iopub.status.busy": "2025-06-08T19:12:13.528670Z",
     "iopub.status.idle": "2025-06-08T19:12:14.279398Z",
     "shell.execute_reply": "2025-06-08T19:12:14.278925Z",
     "shell.execute_reply.started": "2025-06-08T19:12:13.528794Z"
    }
   },
   "outputs": [],
   "source": [
    "import numpy as np\n",
    "import matplotlib.pyplot as plt\n",
    "from astropy.visualization import astropy_mpl_style, quantity_support\n",
    "plt.style.use(astropy_mpl_style)\n",
    "quantity_support()\n",
    "import matplotlib.colors as colors\n",
    "import matplotlib.cm as cm\n",
    "import matplotlib.colors as mcolors\n",
    "import matplotlib.cm as cmx\n",
    "import matplotlib.ticker as ticker\n",
    "import matplotlib.dates as mdates\n",
    "\n",
    "from matplotlib.dates import (AutoDateLocator, YearLocator, MonthLocator,\n",
    "                              DayLocator, WeekdayLocator, HourLocator,\n",
    "                              MinuteLocator, SecondLocator, MicrosecondLocator,\n",
    "                              RRuleLocator, rrulewrapper, MONTHLY,\n",
    "                              MO, TU, WE, TH, FR, SA, SU, DateFormatter,\n",
    "                              AutoDateFormatter, ConciseDateFormatter)\n",
    "\n",
    "%matplotlib inline\n",
    "import pandas as pd"
   ]
  },
  {
   "cell_type": "code",
   "execution_count": null,
   "id": "f8b2040a-9aca-4764-80dc-040c46a5f97c",
   "metadata": {
    "execution": {
     "iopub.execute_input": "2025-06-08T19:12:14.280233Z",
     "iopub.status.busy": "2025-06-08T19:12:14.279917Z",
     "iopub.status.idle": "2025-06-08T19:12:14.316490Z",
     "shell.execute_reply": "2025-06-08T19:12:14.316000Z",
     "shell.execute_reply.started": "2025-06-08T19:12:14.280215Z"
    }
   },
   "outputs": [],
   "source": [
    "import lsst.geom as geom\n",
    "import lsst\n",
    "from lsst.geom import Angle"
   ]
  },
  {
   "cell_type": "code",
   "execution_count": null,
   "id": "0f0dd04a-e582-4128-8dbe-246f7b3a8d7a",
   "metadata": {
    "execution": {
     "iopub.execute_input": "2025-06-08T19:12:14.317347Z",
     "iopub.status.busy": "2025-06-08T19:12:14.317033Z",
     "iopub.status.idle": "2025-06-08T19:12:14.319906Z",
     "shell.execute_reply": "2025-06-08T19:12:14.319527Z",
     "shell.execute_reply.started": "2025-06-08T19:12:14.317330Z"
    }
   },
   "outputs": [],
   "source": [
    "import astropy.units as u\n",
    "from astropy.coordinates import AltAz, EarthLocation, SkyCoord\n",
    "from astropy.coordinates import Angle\n",
    "from astropy.time import Time, TimezoneInfo,TimeDelta\n",
    "from astropy.coordinates import Longitude,Latitude"
   ]
  },
  {
   "cell_type": "code",
   "execution_count": null,
   "id": "dd9155fa-5568-4a06-b5af-8b0241195e14",
   "metadata": {
    "execution": {
     "iopub.execute_input": "2025-06-08T19:12:14.320652Z",
     "iopub.status.busy": "2025-06-08T19:12:14.320379Z",
     "iopub.status.idle": "2025-06-08T19:12:15.347836Z",
     "shell.execute_reply": "2025-06-08T19:12:15.347311Z",
     "shell.execute_reply.started": "2025-06-08T19:12:14.320636Z"
    },
    "tags": []
   },
   "outputs": [],
   "source": [
    "import datetime as dt\n",
    "from datetime import datetime\n",
    "import timezonefinder, pytz\n",
    "from tzwhere import tzwhere\n",
    "from calendar import monthrange\n",
    "import calendar"
   ]
  },
  {
   "cell_type": "code",
   "execution_count": null,
   "id": "9b134ad3-1f76-406f-b6d6-8cef7d1c3fe7",
   "metadata": {
    "execution": {
     "iopub.execute_input": "2025-06-08T19:12:15.348667Z",
     "iopub.status.busy": "2025-06-08T19:12:15.348360Z",
     "iopub.status.idle": "2025-06-08T19:12:15.350985Z",
     "shell.execute_reply": "2025-06-08T19:12:15.350620Z",
     "shell.execute_reply.started": "2025-06-08T19:12:15.348650Z"
    }
   },
   "outputs": [],
   "source": [
    "pd.set_option('display.max_columns', None)\n",
    "pd.set_option('display.max_rows', None)"
   ]
  },
  {
   "cell_type": "code",
   "execution_count": null,
   "id": "b37c7fc3-58c5-4eea-af8b-8db3a1075fec",
   "metadata": {
    "execution": {
     "iopub.execute_input": "2025-06-08T19:12:15.351526Z",
     "iopub.status.busy": "2025-06-08T19:12:15.351392Z",
     "iopub.status.idle": "2025-06-08T19:12:15.363901Z",
     "shell.execute_reply": "2025-06-08T19:12:15.363528Z",
     "shell.execute_reply.started": "2025-06-08T19:12:15.351513Z"
    }
   },
   "outputs": [],
   "source": [
    "plt.rcParams[\"axes.labelsize\"]=\"large\"\n",
    "plt.rcParams[\"axes.linewidth\"]=2.0\n",
    "plt.rcParams[\"xtick.major.size\"]=8\n",
    "plt.rcParams[\"ytick.major.size\"]=8\n",
    "plt.rcParams[\"ytick.minor.size\"]=5\n",
    "plt.rcParams[\"xtick.labelsize\"]=\"large\"\n",
    "plt.rcParams[\"ytick.labelsize\"]=\"large\"\n",
    "\n",
    "plt.rcParams[\"figure.figsize\"]=(12,8)\n",
    "plt.rcParams['axes.titlesize'] = 16\n",
    "plt.rcParams['axes.titleweight'] = 'bold'\n",
    "#plt.rcParams['axes.facecolor'] = 'blue'\n",
    "plt.rcParams['xtick.direction'] = 'out'\n",
    "plt.rcParams['ytick.direction'] = 'out'\n",
    "plt.rcParams['lines.markeredgewidth'] = 0.3 # the line width around the marker symbol\n",
    "plt.rcParams['lines.markersize'] = 5  # markersize, in points\n",
    "plt.rcParams['grid.alpha'] = 0.75 # transparency, between 0.0 and 1.0\n",
    "plt.rcParams['grid.linestyle'] = '-' # simple line\n",
    "plt.rcParams['grid.linewidth'] = 0.4 # in points\n",
    "plt.rcParams['font.size'] = 13"
   ]
  },
  {
   "cell_type": "code",
   "execution_count": null,
   "id": "a4991d20-1fa8-4541-9041-c0d4e8a7b4fc",
   "metadata": {
    "execution": {
     "iopub.execute_input": "2025-06-08T19:12:15.364522Z",
     "iopub.status.busy": "2025-06-08T19:12:15.364349Z",
     "iopub.status.idle": "2025-06-08T19:12:15.374500Z",
     "shell.execute_reply": "2025-06-08T19:12:15.374129Z",
     "shell.execute_reply.started": "2025-06-08T19:12:15.364502Z"
    }
   },
   "outputs": [],
   "source": [
    "# https://pipelines.lsst.io/modules/lsst.geom/getting-started.html\n",
    "func_degToRad = lambda x: Angle(x, lsst.geom.degrees).asRadians()\n",
    "func_zendtoAirmass = lambda x: 1.0 / np.cos(func_degToRad(x))\n",
    "# func_wrap = lambda x : Angle(x,lsst.geom.radians).wrap(180.*lsst.geom.degrees)"
   ]
  },
  {
   "cell_type": "code",
   "execution_count": null,
   "id": "5109b912-14bd-4304-b146-687c5596ba16",
   "metadata": {
    "execution": {
     "iopub.execute_input": "2025-06-08T19:12:15.375201Z",
     "iopub.status.busy": "2025-06-08T19:12:15.375070Z",
     "iopub.status.idle": "2025-06-08T19:12:15.386789Z",
     "shell.execute_reply": "2025-06-08T19:12:15.386415Z",
     "shell.execute_reply.started": "2025-06-08T19:12:15.375189Z"
    }
   },
   "outputs": [],
   "source": [
    "def ra_to_mollweide(ra_rad):\n",
    "    \"\"\"\n",
    "    Transforme une ascension droite (RA en radians) pour une projection Mollweide :\n",
    "    - RA doit être d'abord dans [0, 2π]\n",
    "    - Puis ramené dans [-π, +π] pour correspondre au domaine Mollweide\n",
    "    - Puis inversé pour que RA croisse vers la gauche sur la carte\n",
    "\n",
    "    Paramètre:\n",
    "    - ra_rad : array ou scalaire de RA en radians\n",
    "\n",
    "    Retourne:\n",
    "    - RA transformé pour projection Mollweide\n",
    "\n",
    "    Discussion avec ChatGPT verifiée le 28/04/2025\n",
    "    \"\"\"\n",
    "\n",
    "    # 1) Assurer que RA est entre 0 et 2π\n",
    "    ra_rad = np.remainder(ra_rad + 2 * np.pi, 2 * np.pi)\n",
    "\n",
    "    # 2) Remettre RA entre -π et +π\n",
    "    ra_rad[ra_rad > np.pi] -= 2 * np.pi\n",
    "\n",
    "    # 3) Inverser RA pour que RA croisse vers la gauche\n",
    "    return -ra_rad"
   ]
  },
  {
   "cell_type": "code",
   "execution_count": null,
   "id": "27be51f9-62b1-489f-8418-92b3bfd636f9",
   "metadata": {
    "execution": {
     "iopub.execute_input": "2025-06-08T19:12:15.387527Z",
     "iopub.status.busy": "2025-06-08T19:12:15.387280Z",
     "iopub.status.idle": "2025-06-08T19:12:15.398856Z",
     "shell.execute_reply": "2025-06-08T19:12:15.398486Z",
     "shell.execute_reply.started": "2025-06-08T19:12:15.387514Z"
    }
   },
   "outputs": [],
   "source": [
    "def CalculateBounds(theta,thetamin,thetamax):\n",
    "    \"\"\"\n",
    "    Handle the boundaries of angles\n",
    "    \n",
    "    parameters:\n",
    "        theta : the input angle in degree to test\n",
    "        thetamin: lower bound angle\n",
    "        thetamax: upper bound angle\n",
    "    \"\"\"\n",
    "    \n",
    "    theta_min_angle = Longitude(thetamin,unit=u.degree)\n",
    "    theta_max_angle = Longitude(thetamax,unit=u.degree)\n",
    "    theta_angle = Longitude(theta,unit=u.degree)\n",
    "    \n",
    "    #print(\"longitude angles\",theta_angle,theta_min_angle,theta_max_angle)\n",
    "    \n",
    "    wrap = 0\n",
    "    \n",
    "    if theta_min_angle.degree < theta_max_angle.degree:\n",
    "        wrap = 360 * u.deg\n",
    "    else:\n",
    "        wrap = 180 * u.deg\n",
    "        \n",
    "    theta_min_angle.wrap_angle = wrap\n",
    "    theta_max_angle.wrap_angle = wrap\n",
    "    theta_angle.wrap_angle = wrap\n",
    "       \n",
    "    #print(\"wrap\",wrap,\"theta=\",theta_angle,\"theta_min=\",theta_min_angle,\"theta_max\",theta_max_angle)\n",
    "    return theta_angle.is_within_bounds(theta_min_angle,theta_max_angle)\n",
    "    "
   ]
  },
  {
   "cell_type": "markdown",
   "id": "2c97e727-e949-4a7d-abd5-4d1be0417c40",
   "metadata": {},
   "source": [
    "## Configuration"
   ]
  },
  {
   "cell_type": "markdown",
   "id": "32b6f000-fa74-4158-98df-1bbcdbe3ca1b",
   "metadata": {},
   "source": [
    "### Specify the observation date"
   ]
  },
  {
   "cell_type": "code",
   "execution_count": null,
   "id": "30e94dfd-eddb-48be-ae4c-6891e629d9e7",
   "metadata": {
    "execution": {
     "iopub.execute_input": "2025-06-08T19:12:15.401846Z",
     "iopub.status.busy": "2025-06-08T19:12:15.401612Z",
     "iopub.status.idle": "2025-06-08T19:12:15.405332Z",
     "shell.execute_reply": "2025-06-08T19:12:15.404977Z",
     "shell.execute_reply.started": "2025-06-08T19:12:15.401832Z"
    }
   },
   "outputs": [],
   "source": [
    "NYEAR=2025\n",
    "NMONTH=7\n",
    "NDAY=15"
   ]
  },
  {
   "cell_type": "markdown",
   "id": "c7feb606-ef30-4a42-8752-c86c1fe9c4d4",
   "metadata": {},
   "source": [
    "## Initialisation"
   ]
  },
  {
   "cell_type": "markdown",
   "id": "8a5da78a-b9ba-4a15-964d-9f3d96bf29e6",
   "metadata": {},
   "source": [
    "### Location of sites"
   ]
  },
  {
   "cell_type": "code",
   "execution_count": null,
   "id": "afb65891-53b7-47c5-ba28-e03538ea9d28",
   "metadata": {
    "execution": {
     "iopub.execute_input": "2025-06-08T19:12:15.406030Z",
     "iopub.status.busy": "2025-06-08T19:12:15.405801Z",
     "iopub.status.idle": "2025-06-08T19:12:15.636418Z",
     "shell.execute_reply": "2025-06-08T19:12:15.635927Z",
     "shell.execute_reply.started": "2025-06-08T19:12:15.406017Z"
    }
   },
   "outputs": [],
   "source": [
    "list_of_observation_sites = EarthLocation.get_site_names()"
   ]
  },
  {
   "cell_type": "code",
   "execution_count": null,
   "id": "ade83693-38c4-4cea-b959-e5c248e85e8e",
   "metadata": {
    "execution": {
     "iopub.execute_input": "2025-06-08T19:12:15.637126Z",
     "iopub.status.busy": "2025-06-08T19:12:15.636977Z",
     "iopub.status.idle": "2025-06-08T19:12:15.640018Z",
     "shell.execute_reply": "2025-06-08T19:12:15.639616Z",
     "shell.execute_reply.started": "2025-06-08T19:12:15.637109Z"
    }
   },
   "outputs": [],
   "source": [
    "print(list_of_observation_sites)"
   ]
  },
  {
   "cell_type": "markdown",
   "id": "6a0505e0-53a1-4375-83e2-e9401fefa172",
   "metadata": {},
   "source": [
    "#### Greenwitch Observatory"
   ]
  },
  {
   "cell_type": "code",
   "execution_count": null,
   "id": "9caf83a6-2810-4b20-806d-1569c0129ee7",
   "metadata": {
    "execution": {
     "iopub.execute_input": "2025-06-08T19:12:15.640713Z",
     "iopub.status.busy": "2025-06-08T19:12:15.640467Z",
     "iopub.status.idle": "2025-06-08T19:12:15.654328Z",
     "shell.execute_reply": "2025-06-08T19:12:15.653699Z",
     "shell.execute_reply.started": "2025-06-08T19:12:15.640698Z"
    }
   },
   "outputs": [],
   "source": [
    "latitude_greenwitch = 51.476852*u.degree \n",
    "# There is a little shift between the prime meridian and the Greenwitch observatory\n",
    "#longitude_greenwitch = -0.000500*u.degree\n",
    "longitude_greenwitch = -0.00*u.degree\n",
    "altitude_greenwitch = 68.0*u.m\n",
    "site_Greenwitch = EarthLocation(lat=latitude_greenwitch, lon=longitude_greenwitch, height=altitude_greenwitch)"
   ]
  },
  {
   "cell_type": "code",
   "execution_count": null,
   "id": "dbe6c2d8-2f0e-4fe4-bb8f-79c2ccb25153",
   "metadata": {
    "execution": {
     "iopub.execute_input": "2025-06-08T19:12:15.655466Z",
     "iopub.status.busy": "2025-06-08T19:12:15.655050Z",
     "iopub.status.idle": "2025-06-08T19:12:15.663145Z",
     "shell.execute_reply": "2025-06-08T19:12:15.662730Z",
     "shell.execute_reply.started": "2025-06-08T19:12:15.655443Z"
    }
   },
   "outputs": [],
   "source": [
    "site_Greenwitch "
   ]
  },
  {
   "cell_type": "code",
   "execution_count": null,
   "id": "aea4d75e-ebfd-4f0e-a03c-315b55e8d672",
   "metadata": {
    "execution": {
     "iopub.execute_input": "2025-06-08T19:12:15.663780Z",
     "iopub.status.busy": "2025-06-08T19:12:15.663642Z",
     "iopub.status.idle": "2025-06-08T19:12:16.147815Z",
     "shell.execute_reply": "2025-06-08T19:12:16.147312Z",
     "shell.execute_reply.started": "2025-06-08T19:12:15.663764Z"
    }
   },
   "outputs": [],
   "source": [
    "tf = timezonefinder.TimezoneFinder()\n",
    "timezone_greenwitch_str = tf.certain_timezone_at(lat=latitude_greenwitch/u.degree , lng=longitude_greenwitch/u.degree)\n",
    "print(f\"Time zone at Greenwitch Observatory: {timezone_greenwitch_str}\")"
   ]
  },
  {
   "cell_type": "code",
   "execution_count": null,
   "id": "2e2208e1-9b94-48e7-889c-cc8ad2a6dd91",
   "metadata": {
    "execution": {
     "iopub.execute_input": "2025-06-08T19:12:16.148488Z",
     "iopub.status.busy": "2025-06-08T19:12:16.148352Z",
     "iopub.status.idle": "2025-06-08T19:12:16.159972Z",
     "shell.execute_reply": "2025-06-08T19:12:16.159593Z",
     "shell.execute_reply.started": "2025-06-08T19:12:16.148474Z"
    }
   },
   "outputs": [],
   "source": [
    "# Not working (want to know where is the observatory relative to zone border)\n",
    "tz_data = tf.get_geometry(tz_name=timezone_greenwitch_str)[0][0]\n",
    "all_long,all_lat = np.array(tz_data)\n",
    "min_longitude_tzgreen = all_long.min()\n",
    "max_longitude_tzgreen = all_long.max()"
   ]
  },
  {
   "cell_type": "code",
   "execution_count": null,
   "id": "00cc4a08-62f1-4cc9-a0f9-45efca8a6a54",
   "metadata": {
    "execution": {
     "iopub.execute_input": "2025-06-08T19:12:16.160757Z",
     "iopub.status.busy": "2025-06-08T19:12:16.160427Z",
     "iopub.status.idle": "2025-06-08T19:12:16.163165Z",
     "shell.execute_reply": "2025-06-08T19:12:16.162755Z",
     "shell.execute_reply.started": "2025-06-08T19:12:16.160741Z"
    }
   },
   "outputs": [],
   "source": [
    "print(f\" Check longitude : {min_longitude_tzgreen} < {longitude_greenwitch} < {max_longitude_tzgreen}\")"
   ]
  },
  {
   "cell_type": "markdown",
   "id": "4fc43c7d-d244-4615-9ef4-5aacfe4d4e3c",
   "metadata": {},
   "source": [
    "#### Rubin-LSST Observatory"
   ]
  },
  {
   "cell_type": "code",
   "execution_count": null,
   "id": "94e22ae2-abf5-4914-a2a7-c18fef629f45",
   "metadata": {
    "execution": {
     "iopub.execute_input": "2025-06-08T19:12:16.163761Z",
     "iopub.status.busy": "2025-06-08T19:12:16.163625Z",
     "iopub.status.idle": "2025-06-08T19:12:16.176832Z",
     "shell.execute_reply": "2025-06-08T19:12:16.176429Z",
     "shell.execute_reply.started": "2025-06-08T19:12:16.163746Z"
    }
   },
   "outputs": [],
   "source": [
    "LSSTNAME='Cerro Pachon'\n",
    "site_LSST = EarthLocation.of_site(LSSTNAME)\n",
    "longitude_lsst = site_LSST.lon\n",
    "latitude_lsst = site_LSST.lat\n",
    "altitude_lsst = site_LSST.height\n",
    "site_LSST"
   ]
  },
  {
   "cell_type": "code",
   "execution_count": null,
   "id": "a3e2a6ad-2140-44f0-9777-333318e3c230",
   "metadata": {
    "execution": {
     "iopub.execute_input": "2025-06-08T19:12:16.177448Z",
     "iopub.status.busy": "2025-06-08T19:12:16.177327Z",
     "iopub.status.idle": "2025-06-08T19:12:16.190718Z",
     "shell.execute_reply": "2025-06-08T19:12:16.190362Z",
     "shell.execute_reply.started": "2025-06-08T19:12:16.177436Z"
    }
   },
   "outputs": [],
   "source": [
    "cerro_pachon = EarthLocation(lat = latitude_lsst, lon = longitude_lsst, height = altitude_lsst)\n",
    "cerro_pachon "
   ]
  },
  {
   "cell_type": "code",
   "execution_count": null,
   "id": "6ee591e5-2c62-42d7-af41-62b28452ceac",
   "metadata": {
    "execution": {
     "iopub.execute_input": "2025-06-08T19:12:16.191372Z",
     "iopub.status.busy": "2025-06-08T19:12:16.191156Z",
     "iopub.status.idle": "2025-06-08T19:12:16.681585Z",
     "shell.execute_reply": "2025-06-08T19:12:16.681056Z",
     "shell.execute_reply.started": "2025-06-08T19:12:16.191359Z"
    }
   },
   "outputs": [],
   "source": [
    "tf = timezonefinder.TimezoneFinder()\n",
    "timezone_lsst_str = tf.certain_timezone_at(lat=latitude_lsst/u.degree , lng=longitude_lsst/u.degree)\n",
    "print(f\"Time zone at Rubin LSST Observatory: {timezone_lsst_str}\")"
   ]
  },
  {
   "cell_type": "code",
   "execution_count": null,
   "id": "7eaa441a-05a7-4ef2-972d-86baf977c8b7",
   "metadata": {
    "execution": {
     "iopub.execute_input": "2025-06-08T19:12:16.682256Z",
     "iopub.status.busy": "2025-06-08T19:12:16.682082Z",
     "iopub.status.idle": "2025-06-08T19:12:16.693817Z",
     "shell.execute_reply": "2025-06-08T19:12:16.693280Z",
     "shell.execute_reply.started": "2025-06-08T19:12:16.682242Z"
    }
   },
   "outputs": [],
   "source": [
    "# Not working (want to know where is the observatory relative to zone border)\n",
    "tz_data = tf.get_geometry(tz_name=timezone_lsst_str)[0][0]\n",
    "all_long,all_lat = np.array(tz_data)\n",
    "min_longitude_tzlsst = all_long.min()\n",
    "max_longitude_tzlsst = all_long.max()"
   ]
  },
  {
   "cell_type": "code",
   "execution_count": null,
   "id": "f99871a9-d34c-4a13-8270-9612c368f819",
   "metadata": {
    "execution": {
     "iopub.execute_input": "2025-06-08T19:12:16.694539Z",
     "iopub.status.busy": "2025-06-08T19:12:16.694355Z",
     "iopub.status.idle": "2025-06-08T19:12:16.704197Z",
     "shell.execute_reply": "2025-06-08T19:12:16.703796Z",
     "shell.execute_reply.started": "2025-06-08T19:12:16.694526Z"
    }
   },
   "outputs": [],
   "source": [
    "print(f\" Check longitude : {min_longitude_tzlsst} < {longitude_lsst} < {max_longitude_tzlsst}\")"
   ]
  },
  {
   "cell_type": "markdown",
   "id": "fd63e9a8-ed1a-410b-8bea-2a225529a615",
   "metadata": {},
   "source": [
    "### UTC offset"
   ]
  },
  {
   "cell_type": "markdown",
   "id": "f5f492a4-dea7-4a99-b9ba-6f3132fb4021",
   "metadata": {},
   "source": [
    "- Quelle est l'offset number en UTC du chili\n",
    "ChatGPT a dit :\n",
    "Le Chili se situe normalement dans le fuseau horaire UTC-4 (Chili Standard Time, CLT). Cependant, il utilise également l’heure d’été (Chili Summer Time, CLST), qui est UTC-3.\n",
    "\n",
    "Détail :\n",
    "- UTC-4 (CLT) : heure standard, utilisée en hiver (approximativement d’avril à septembre).\n",
    "- UTC-3 (CLST) : heure d’été, utilisée en été (approximativement de septembre à avril).\n",
    "\n",
    "Actuellement (20 mai 2025) :\n",
    "Le Chili est en heure d’hiver (CLT), donc l’offset UTC est -4."
   ]
  },
  {
   "cell_type": "markdown",
   "id": "02a79512-0739-42da-9e8f-6cc595007be9",
   "metadata": {},
   "source": [
    "#### UTC offset using longitude"
   ]
  },
  {
   "cell_type": "code",
   "execution_count": null,
   "id": "7bc1d6ec-867a-44af-b6d4-e405b59eed1f",
   "metadata": {
    "execution": {
     "iopub.execute_input": "2025-06-08T19:12:16.704862Z",
     "iopub.status.busy": "2025-06-08T19:12:16.704639Z",
     "iopub.status.idle": "2025-06-08T19:12:16.711649Z",
     "shell.execute_reply": "2025-06-08T19:12:16.711246Z",
     "shell.execute_reply.started": "2025-06-08T19:12:16.704849Z"
    }
   },
   "outputs": [],
   "source": [
    "longitude_offset = longitude_lsst - longitude_greenwitch\n",
    "longitude_offset"
   ]
  },
  {
   "cell_type": "code",
   "execution_count": null,
   "id": "664774ef-286d-4677-ab0c-0e6e46f5755e",
   "metadata": {
    "execution": {
     "iopub.execute_input": "2025-06-08T19:12:16.712221Z",
     "iopub.status.busy": "2025-06-08T19:12:16.712096Z",
     "iopub.status.idle": "2025-06-08T19:12:16.722754Z",
     "shell.execute_reply": "2025-06-08T19:12:16.722346Z",
     "shell.execute_reply.started": "2025-06-08T19:12:16.712209Z"
    }
   },
   "outputs": [],
   "source": [
    "longitude_offset.hour"
   ]
  },
  {
   "cell_type": "code",
   "execution_count": null,
   "id": "74350e8d-3b4f-4fa6-8146-77e0e92d9cde",
   "metadata": {
    "execution": {
     "iopub.execute_input": "2025-06-08T19:12:16.723321Z",
     "iopub.status.busy": "2025-06-08T19:12:16.723198Z",
     "iopub.status.idle": "2025-06-08T19:12:16.740374Z",
     "shell.execute_reply": "2025-06-08T19:12:16.739996Z",
     "shell.execute_reply.started": "2025-06-08T19:12:16.723309Z"
    }
   },
   "outputs": [],
   "source": [
    "#utcoffset_number = timezone.utcoffset(dt).total_seconds()/60./60.\n",
    "utcoffset_number1 = longitude_offset.hour\n",
    "print(\"The UTC offset in Chile is \",utcoffset_number1,\" hours\")"
   ]
  },
  {
   "cell_type": "code",
   "execution_count": null,
   "id": "c6309f4a-00e6-4df9-92dc-11cfbbc25595",
   "metadata": {
    "execution": {
     "iopub.execute_input": "2025-06-08T19:12:16.741081Z",
     "iopub.status.busy": "2025-06-08T19:12:16.740844Z",
     "iopub.status.idle": "2025-06-08T19:12:16.748350Z",
     "shell.execute_reply": "2025-06-08T19:12:16.747996Z",
     "shell.execute_reply.started": "2025-06-08T19:12:16.741069Z"
    }
   },
   "outputs": [],
   "source": [
    "utcoffset_number2  = (longitude_lsst * 24.0 / 360.0/u.deg)\n",
    "utcoffset_number2 "
   ]
  },
  {
   "cell_type": "markdown",
   "id": "e8ed5dda-3643-44f4-827d-89ef160eb113",
   "metadata": {},
   "source": [
    "- Notice that this offset calculated above is in sidereal time not in solar time"
   ]
  },
  {
   "cell_type": "markdown",
   "id": "807e5eea-6ec3-4da9-9452-6079a66bbcf9",
   "metadata": {},
   "source": [
    "#### UTC offset Using timezone"
   ]
  },
  {
   "cell_type": "code",
   "execution_count": null,
   "id": "4567f47e-fc94-44c0-a995-61e119921d05",
   "metadata": {
    "execution": {
     "iopub.execute_input": "2025-06-08T19:12:16.749018Z",
     "iopub.status.busy": "2025-06-08T19:12:16.748790Z",
     "iopub.status.idle": "2025-06-08T19:12:16.774377Z",
     "shell.execute_reply": "2025-06-08T19:12:16.773957Z",
     "shell.execute_reply.started": "2025-06-08T19:12:16.749005Z"
    }
   },
   "outputs": [],
   "source": [
    "if timezone_lsst_str is None:\n",
    "    print(\"Could not determine my time zone\")\n",
    "else:\n",
    "    # Display the current time in that time zone\n",
    "        \n",
    "    timezone_lsst = pytz.timezone(timezone_lsst_str)\n",
    "    timezone0 = pytz.timezone('UTC')\n",
    "    \n",
    "    dt = datetime.utcnow()\n",
    "    utc_offset =  timezone_lsst.utcoffset(dt)\n",
    "    \n",
    "    print(\"\\t - The UTC Time now %s\" % dt)\n",
    "    print(f\"\\t - the UTC offset in zone {timezone_lsst_str} is {utc_offset}\")"
   ]
  },
  {
   "cell_type": "code",
   "execution_count": null,
   "id": "9ee60296-7857-4eb8-9072-d7101699c480",
   "metadata": {
    "execution": {
     "iopub.execute_input": "2025-06-08T19:12:16.775085Z",
     "iopub.status.busy": "2025-06-08T19:12:16.774857Z",
     "iopub.status.idle": "2025-06-08T19:12:16.777735Z",
     "shell.execute_reply": "2025-06-08T19:12:16.777319Z",
     "shell.execute_reply.started": "2025-06-08T19:12:16.775072Z"
    }
   },
   "outputs": [],
   "source": [
    "# This is the offset that works with the sidereal time calculated after\n",
    "utcoffset_number3 = timezone_lsst.utcoffset(dt).total_seconds()/60./60.\n",
    "utcoffset_number3"
   ]
  },
  {
   "cell_type": "markdown",
   "id": "b056c53c-8a80-43fa-9c03-34370f0e42f2",
   "metadata": {},
   "source": [
    "### Try to correct internally to the time zone"
   ]
  },
  {
   "cell_type": "code",
   "execution_count": null,
   "id": "820900dc-65fb-43fa-a0b5-738a14c817b7",
   "metadata": {
    "execution": {
     "iopub.execute_input": "2025-06-08T19:12:16.778418Z",
     "iopub.status.busy": "2025-06-08T19:12:16.778192Z",
     "iopub.status.idle": "2025-06-08T19:12:16.811775Z",
     "shell.execute_reply": "2025-06-08T19:12:16.811354Z",
     "shell.execute_reply.started": "2025-06-08T19:12:16.778405Z"
    }
   },
   "outputs": [],
   "source": [
    "dt_corr = (longitude_offset.hour - np.floor(longitude_offset.hour))\n",
    "dt_corr"
   ]
  },
  {
   "cell_type": "code",
   "execution_count": null,
   "id": "b2fba731-50c4-442a-957d-3086b77cae7b",
   "metadata": {
    "execution": {
     "iopub.execute_input": "2025-06-08T19:12:16.812432Z",
     "iopub.status.busy": "2025-06-08T19:12:16.812200Z",
     "iopub.status.idle": "2025-06-08T19:12:16.817574Z",
     "shell.execute_reply": "2025-06-08T19:12:16.817207Z",
     "shell.execute_reply.started": "2025-06-08T19:12:16.812420Z"
    }
   },
   "outputs": [],
   "source": [
    "utcoffset_number4 = utcoffset_number3 - dt_corr"
   ]
  },
  {
   "cell_type": "markdown",
   "id": "0b18a061-8a3c-47a6-b313-5027c22b1da0",
   "metadata": {},
   "source": [
    "#### the TimezoneInfo object from astropy\n",
    "\n",
    "- https://docs.astropy.org/en/stable/api/astropy.time.TimezoneInfo.html\n",
    "- create the TimezoneInfo object required for sideral time\n",
    "\n",
    "Have to choose among the four calculations :**utcoffset_number1, utcoffset_number2, utcoffset_number3, utcoffset_number4**\n",
    "\n",
    "- Only utcoffset_number3 gives the correct sidereal time within 2 minutes"
   ]
  },
  {
   "cell_type": "code",
   "execution_count": null,
   "id": "6d15261b-0ce2-4cdc-8913-2ca5cb33ac25",
   "metadata": {
    "execution": {
     "iopub.execute_input": "2025-06-08T19:12:16.818231Z",
     "iopub.status.busy": "2025-06-08T19:12:16.818000Z",
     "iopub.status.idle": "2025-06-08T19:12:16.824157Z",
     "shell.execute_reply": "2025-06-08T19:12:16.823800Z",
     "shell.execute_reply.started": "2025-06-08T19:12:16.818218Z"
    }
   },
   "outputs": [],
   "source": [
    "utcoffset_number = utcoffset_number3\n",
    "tz_utc_minus_xx_hours = TimezoneInfo(utc_offset = utcoffset_number*u.hour)"
   ]
  },
  {
   "cell_type": "code",
   "execution_count": null,
   "id": "906fdc05-e394-461f-bdbe-779c29e6272a",
   "metadata": {
    "execution": {
     "iopub.execute_input": "2025-06-08T19:12:16.824810Z",
     "iopub.status.busy": "2025-06-08T19:12:16.824580Z",
     "iopub.status.idle": "2025-06-08T19:12:16.836064Z",
     "shell.execute_reply": "2025-06-08T19:12:16.835705Z",
     "shell.execute_reply.started": "2025-06-08T19:12:16.824798Z"
    }
   },
   "outputs": [],
   "source": [
    "utcoffset_number"
   ]
  },
  {
   "cell_type": "markdown",
   "id": "04dc4078-ebe9-4acf-8d2c-000538ad043c",
   "metadata": {},
   "source": [
    "### Night of observation and local time\n",
    "\n",
    "- creation of an observation date chosen very close to the local midnight from the chosen NYEAR,NMONTH,NDAY\n",
    "- Note we provide the **tz_utc_minus_xx_hours** which provide the UTC offset of the site"
   ]
  },
  {
   "cell_type": "code",
   "execution_count": null,
   "id": "48307b34-0fa2-4408-8f4a-d1cb35607ebd",
   "metadata": {
    "execution": {
     "iopub.execute_input": "2025-06-08T19:12:16.836728Z",
     "iopub.status.busy": "2025-06-08T19:12:16.836500Z",
     "iopub.status.idle": "2025-06-08T19:12:16.843873Z",
     "shell.execute_reply": "2025-06-08T19:12:16.843520Z",
     "shell.execute_reply.started": "2025-06-08T19:12:16.836716Z"
    }
   },
   "outputs": [],
   "source": [
    "# datetime at local midnight in the timezone of Chile by providing the right TimezoneInfo() object set at site Timezone\n",
    "night_obs = datetime(NYEAR, NMONTH, NDAY, 0, 0)\n",
    "night_obs_midnight = datetime(NYEAR, NMONTH, NDAY, 23, 59,59,tzinfo = tz_utc_minus_xx_hours)\n",
    "night_obs_midnight"
   ]
  },
  {
   "cell_type": "code",
   "execution_count": null,
   "id": "7cd89503-731c-4248-a4ec-2eb6078d560e",
   "metadata": {
    "execution": {
     "iopub.execute_input": "2025-06-08T19:12:16.844377Z",
     "iopub.status.busy": "2025-06-08T19:12:16.844258Z",
     "iopub.status.idle": "2025-06-08T19:12:16.856116Z",
     "shell.execute_reply": "2025-06-08T19:12:16.855752Z",
     "shell.execute_reply.started": "2025-06-08T19:12:16.844366Z"
    }
   },
   "outputs": [],
   "source": [
    "night_obs_str = night_obs.strftime(\"%Y-%m-%d %H:%M:%S\")\n",
    "print(f\"Night of Observation : {night_obs_str}\")"
   ]
  },
  {
   "cell_type": "code",
   "execution_count": null,
   "id": "e9531c20-92eb-4787-b6b7-0a1c0f869628",
   "metadata": {
    "execution": {
     "iopub.execute_input": "2025-06-08T19:12:16.856772Z",
     "iopub.status.busy": "2025-06-08T19:12:16.856549Z",
     "iopub.status.idle": "2025-06-08T19:12:16.864391Z",
     "shell.execute_reply": "2025-06-08T19:12:16.864027Z",
     "shell.execute_reply.started": "2025-06-08T19:12:16.856759Z"
    }
   },
   "outputs": [],
   "source": [
    "#check the string of the date\n",
    "night_obs_midnight_str = night_obs_midnight.strftime(\"%Y-%m-%d %H:%M:%S\")\n",
    "night_obs_midnight_str\n",
    "print(f\"Midnight of Night of Observation : {night_obs_midnight_str}\")"
   ]
  },
  {
   "cell_type": "markdown",
   "id": "76023027-abfa-4286-91a6-2bfd18ba2a1e",
   "metadata": {},
   "source": [
    "### Compute UTC and Sideral Time at local midnight\n",
    "\n",
    "We check here that the offset in time between UTC and Chile time is 3 hours"
   ]
  },
  {
   "cell_type": "markdown",
   "id": "e3294ca7-f717-475c-b4a2-7836308aa83a",
   "metadata": {},
   "source": [
    "##### TimezoneInfo object from astropy\n",
    "https://docs.astropy.org/en/stable/api/astropy.time.TimezoneInfo.html"
   ]
  },
  {
   "cell_type": "code",
   "execution_count": null,
   "id": "621b8f44-0ef2-4ead-b16d-7d963edf7fcc",
   "metadata": {
    "execution": {
     "iopub.execute_input": "2025-06-08T19:12:16.865033Z",
     "iopub.status.busy": "2025-06-08T19:12:16.864821Z",
     "iopub.status.idle": "2025-06-08T19:12:16.875949Z",
     "shell.execute_reply": "2025-06-08T19:12:16.875582Z",
     "shell.execute_reply.started": "2025-06-08T19:12:16.865020Z"
    }
   },
   "outputs": [],
   "source": [
    "tz_utc = TimezoneInfo() \n",
    "print(\"\\t - Local time in Santiago in (GMT-3) in winter : \",night_obs_midnight)\n",
    "print(\"\\t - Time in UTC at the Local Time above         : \",night_obs_midnight.astimezone(tz_utc))"
   ]
  },
  {
   "cell_type": "markdown",
   "id": "e5dd761a-5c3b-4887-8ae5-f935f86566a8",
   "metadata": {},
   "source": [
    "#### Sidereal time at LSST site "
   ]
  },
  {
   "cell_type": "markdown",
   "id": "44357b2c-ab58-4d2b-b969-03a5eb433795",
   "metadata": {},
   "source": [
    "- https://docs.astropy.org/en/stable/time/index.html\n",
    "- we compute here the local sideral time at midnight local time\n",
    "- we need to provide the utc offset  from the object TimezoneInfo required later to compute the local siteral time"
   ]
  },
  {
   "cell_type": "markdown",
   "id": "f43c78ef-a133-4e1c-82d9-fd9ea4113b58",
   "metadata": {},
   "source": [
    "#### Sidereal time and angle at local time midnight\n",
    "\n",
    "- this calculation has been checked in Stellarium at Cerro Pachon for this observation date and time\n",
    "- using utc_offset3 based on timezone info, I have only 2 minutes differences"
   ]
  },
  {
   "cell_type": "code",
   "execution_count": null,
   "id": "3930d5d0-2dba-423b-986f-f4690d164b60",
   "metadata": {
    "execution": {
     "iopub.execute_input": "2025-06-08T19:12:16.876597Z",
     "iopub.status.busy": "2025-06-08T19:12:16.876370Z",
     "iopub.status.idle": "2025-06-08T19:12:17.414784Z",
     "shell.execute_reply": "2025-06-08T19:12:17.414262Z",
     "shell.execute_reply.started": "2025-06-08T19:12:16.876584Z"
    }
   },
   "outputs": [],
   "source": [
    "# the sidereal time is constructed from 1) local clock wall time, 2) the UTC timezone 3) and the location of observation site on earth \n",
    "t_lsst = Time(night_obs_midnight.astimezone(tz_utc), scale='utc',location = site_LSST)\n",
    "#t_sidereal_lsst = t_lsst.sidereal_time('apparent')  \n",
    "t_sidereal_lsst = t_lsst.sidereal_time('mean')  \n",
    "print(\"Sideral Time at LSST midnight:\",t_sidereal_lsst)"
   ]
  },
  {
   "cell_type": "markdown",
   "id": "a9ba0e21-d0ac-4868-bbc5-aeede961829a",
   "metadata": {},
   "source": [
    "#### The Sideral angle is measured from the meridian ( westward in north hemisphere)"
   ]
  },
  {
   "cell_type": "code",
   "execution_count": null,
   "id": "c33894af-69bd-41ef-847c-5579a36f158c",
   "metadata": {
    "execution": {
     "iopub.execute_input": "2025-06-08T19:12:17.415534Z",
     "iopub.status.busy": "2025-06-08T19:12:17.415345Z",
     "iopub.status.idle": "2025-06-08T19:12:17.418294Z",
     "shell.execute_reply": "2025-06-08T19:12:17.417913Z",
     "shell.execute_reply.started": "2025-06-08T19:12:17.415520Z"
    }
   },
   "outputs": [],
   "source": [
    "print(\"Sidereal Time angle at LSST midnight:\",Angle(t_sidereal_lsst).to(u.degree))\n",
    "print(\"Sidereal Time angle at LSST midnight:\",Angle(t_sidereal_lsst).degree)"
   ]
  },
  {
   "cell_type": "markdown",
   "id": "44d1575c-47ca-45a3-8d8a-d4bb734cbb5e",
   "metadata": {},
   "source": [
    "## Define galactic plane"
   ]
  },
  {
   "cell_type": "code",
   "execution_count": null,
   "id": "21d29e9f-9374-429f-bfaa-aaa94b48f1de",
   "metadata": {
    "execution": {
     "iopub.execute_input": "2025-06-08T19:12:17.419057Z",
     "iopub.status.busy": "2025-06-08T19:12:17.418729Z",
     "iopub.status.idle": "2025-06-08T19:12:17.451056Z",
     "shell.execute_reply": "2025-06-08T19:12:17.450523Z",
     "shell.execute_reply.started": "2025-06-08T19:12:17.419043Z"
    }
   },
   "outputs": [],
   "source": [
    "# Galactic plane\n",
    "gal_long = np.linspace(-180.0, 180, 360)\n",
    "gal_lat = np.zeros((360))\n",
    "coordinates_galactic_planes = SkyCoord(l=gal_long * u.degree, b=gal_lat * u.degree, frame=\"galactic\")\n",
    "gp_radec = coordinates_galactic_planes.transform_to(\"icrs\")\n",
    "\n",
    "# new method in radian with ra_to_mollweide\n",
    "gp_ra_toplot = ra_to_mollweide(gp_radec.ra.radian)\n",
    "gp_dec_toplot = gp_radec.dec.radian"
   ]
  },
  {
   "cell_type": "markdown",
   "id": "fde4c10c-26b8-49d0-a148-3c3d8920f067",
   "metadata": {},
   "source": [
    "## Define deep fields"
   ]
  },
  {
   "cell_type": "code",
   "execution_count": null,
   "id": "d4829685-4a89-4a21-aab3-ebb0350f0878",
   "metadata": {
    "execution": {
     "iopub.execute_input": "2025-06-08T19:12:17.451791Z",
     "iopub.status.busy": "2025-06-08T19:12:17.451648Z",
     "iopub.status.idle": "2025-06-08T19:12:17.459249Z",
     "shell.execute_reply": "2025-06-08T19:12:17.458810Z",
     "shell.execute_reply.started": "2025-06-08T19:12:17.451777Z"
    }
   },
   "outputs": [],
   "source": [
    "# Coordonnées des Deep Drilling Fields (RA en degrés, Dec en degrés)\n",
    "ddf_names = [\"XMM-LSS\", \"COSMOS\", \"ECDFS\", \"ELAIS-S1\", \"EDFS_a\", \"EDFS_b\"]\n",
    "ddf_ra_deg = np.array([35.57, 150.11, 52.98, 9.45, 58.90, 63.60])  # approximatif\n",
    "ddf_dec_deg = np.array([-4.82, 2.23, -28.12, -44.02, -49.32, -47.60])  # approximatif\n",
    "\n",
    "\n",
    "df = pd.DataFrame()\n",
    "df[\"name\"] = ddf_names \n",
    "df[\"ra\"] = ddf_ra_deg\n",
    "df[\"dec\"] = ddf_dec_deg\n",
    "\n",
    "# sorting\n",
    "df = df.sort_values(by='ra',ascending = True)\n",
    "df = df.reset_index(drop=True)\n",
    "\n",
    "ddf_names = df[\"name\"].values\n",
    "ddf_ra_deg = df[\"ra\"].values\n",
    "ddf_dec_deg = df[\"dec\"].values\n",
    "\n",
    "# Conversion en radians et adaptation pour Mollweide projection\n",
    "ddf_ra_rad = np.radians(ddf_ra_deg)\n",
    "ddf_dec_rad = np.radians(ddf_dec_deg)\n",
    "ddf_ra_rad = ra_to_mollweide(ddf_ra_rad)"
   ]
  },
  {
   "cell_type": "code",
   "execution_count": null,
   "id": "79906407-f9c9-456c-a952-4d426033aaa5",
   "metadata": {
    "execution": {
     "iopub.execute_input": "2025-06-08T19:12:17.459983Z",
     "iopub.status.busy": "2025-06-08T19:12:17.459750Z",
     "iopub.status.idle": "2025-06-08T19:12:17.471888Z",
     "shell.execute_reply": "2025-06-08T19:12:17.471526Z",
     "shell.execute_reply.started": "2025-06-08T19:12:17.459969Z"
    }
   },
   "outputs": [],
   "source": [
    "df"
   ]
  },
  {
   "cell_type": "code",
   "execution_count": null,
   "id": "b7df58f4-62a3-401d-8ad7-e2b44826b8f4",
   "metadata": {
    "execution": {
     "iopub.execute_input": "2025-06-08T19:12:17.472434Z",
     "iopub.status.busy": "2025-06-08T19:12:17.472307Z",
     "iopub.status.idle": "2025-06-08T19:12:17.484824Z",
     "shell.execute_reply": "2025-06-08T19:12:17.484332Z",
     "shell.execute_reply.started": "2025-06-08T19:12:17.472421Z"
    }
   },
   "outputs": [],
   "source": [
    "NTargets = len(df)\n",
    "# wavelength bin colors\n",
    "jet = plt.get_cmap('jet')\n",
    "cNorm = colors.Normalize(vmin=0, vmax=NTargets)\n",
    "scalarMap = cmx.ScalarMappable(norm=cNorm, cmap=jet)\n",
    "all_colors = scalarMap.to_rgba(np.arange(NTargets), alpha=1)"
   ]
  },
  {
   "cell_type": "code",
   "execution_count": null,
   "id": "6a82f38d-fcc9-457e-86ec-5bd0a889b6d8",
   "metadata": {
    "execution": {
     "iopub.execute_input": "2025-06-08T19:12:17.485552Z",
     "iopub.status.busy": "2025-06-08T19:12:17.485295Z",
     "iopub.status.idle": "2025-06-08T19:12:17.865189Z",
     "shell.execute_reply": "2025-06-08T19:12:17.864744Z",
     "shell.execute_reply.started": "2025-06-08T19:12:17.485539Z"
    }
   },
   "outputs": [],
   "source": [
    "# plot\n",
    "# x arg in rad must be (-2pi,2pi), y arg in rad  must be in ( -pi,pi )\n",
    "fig = plt.figure(figsize=(14, 8))\n",
    "# ax = fig.add_subplot(111, projection=\"aitoff\")\n",
    "ax = fig.add_subplot(111, projection=\"mollweide\")\n",
    "\n",
    "# galactic plane\n",
    "# ax.scatter(ra_to_mollweide(gp_ra_toplot.radian), gp_radec.dec.radian, c=\"r\", label=\"Galactic Plane\", s=1)\n",
    "# galactic plane\n",
    "ax.scatter(gp_ra_toplot, gp_dec_toplot, c=\"r\", label=\"Galactic Plane\", s=1)\n",
    "\n",
    "# ax.scatter(ra-np.pi,dec,marker='+',c=all_colors_g)\n",
    "# im = ax.scatter(ra_g.values-np.pi,dec_g.values,marker='+',s=50,lw=3,c=dt,cmap=palette_spectral)\n",
    "#im = ax.scatter(\n",
    "#    ra_to_mollweide(ra_g.values), dec_g.values, marker=\"+\", s=50, lw=2, c=dt, cmap=palette_spectral\n",
    "#)\n",
    "\n",
    "# Ajout des Deep Drilling Fields\n",
    "for i in range(len(ddf_names)):\n",
    "    ax.plot(ddf_ra_rad[i], ddf_dec_rad[i], \"o\", markersize=10, color=all_colors[i], markeredgecolor=\"black\")\n",
    "    ax.text(\n",
    "        ddf_ra_rad[i] + 0.05,\n",
    "        ddf_dec_rad[i] + 0.05,\n",
    "        ddf_names[i],\n",
    "        fontsize=12,\n",
    "        color=all_colors[i],\n",
    "        ha=\"left\",\n",
    "        va=\"bottom\",\n",
    "        weight=\"bold\",\n",
    "    )\n",
    "\n",
    "ax.legend()\n",
    "\n",
    "#cbar = plt.colorbar(im, orientation=\"horizontal\", label=\"time (days)\")\n",
    "plt.suptitle(\"Rubin-LSST DDF\", fontsize=20, fontweight=\"bold\")\n",
    "\n",
    "plt.show()\n",
    "\n"
   ]
  },
  {
   "cell_type": "markdown",
   "id": "70c67459-8e8f-439c-a9e8-5b375baa20be",
   "metadata": {},
   "source": [
    "## Filter Obervable targets according RA and magnitude and culmination angle\n",
    "$$\n",
    "HA = LST - RA\n",
    "$$\n",
    "\n",
    "where $HA$ means Hour Angle, $LST$ means Local sidereal time and $RA$ means Right ascension\n",
    "- $-6H<HA<+6H \\longrightarrow  LST-6H <RA< LST+6H $ \n",
    "- Select the target which Right-Asccention is +/- 6 hours from the sideral time\n",
    "- The culmination Hour angle at the meridian must not be less than -6H to + 6H"
   ]
  },
  {
   "cell_type": "markdown",
   "id": "edd461dd-e8d2-4eb0-b66b-d9e4108d59ab",
   "metadata": {},
   "source": [
    "#### - Criteria on Margin Angle\n",
    "\n",
    "- **Strange but I cannot have a larger margin : need to understand**"
   ]
  },
  {
   "cell_type": "code",
   "execution_count": null,
   "id": "13bb79f5-a42c-48fb-b1a1-bb11891856fd",
   "metadata": {
    "execution": {
     "iopub.execute_input": "2025-06-08T19:12:17.865945Z",
     "iopub.status.busy": "2025-06-08T19:12:17.865753Z",
     "iopub.status.idle": "2025-06-08T19:12:17.869249Z",
     "shell.execute_reply": "2025-06-08T19:12:17.868894Z",
     "shell.execute_reply.started": "2025-06-08T19:12:17.865931Z"
    }
   },
   "outputs": [],
   "source": [
    "MarginAngle = Angle(6.0,u.hour)\n",
    "MarginAngle"
   ]
  },
  {
   "cell_type": "markdown",
   "id": "ff02870b-ef2c-46c9-9e10-768686c78e2b",
   "metadata": {},
   "source": [
    "$$\n",
    "RA = LST - HA(margin\\; Angle)\n",
    "$$"
   ]
  },
  {
   "cell_type": "code",
   "execution_count": null,
   "id": "275cc18e-1aa8-41ab-a6e2-d653debefce9",
   "metadata": {
    "execution": {
     "iopub.execute_input": "2025-06-08T19:12:17.869801Z",
     "iopub.status.busy": "2025-06-08T19:12:17.869665Z",
     "iopub.status.idle": "2025-06-08T19:12:17.877320Z",
     "shell.execute_reply": "2025-06-08T19:12:17.876954Z",
     "shell.execute_reply.started": "2025-06-08T19:12:17.869788Z"
    }
   },
   "outputs": [],
   "source": [
    "#calculate tdege range of RA target to be visible within the MarginAngle\n",
    "#ra_min = (t_sidereal_lsst - MarginAngle).degree\n",
    "#ra_max = (t_sidereal_lsst + MarginAngle).degree\n",
    "ra_min = Longitude((t_sidereal_lsst - MarginAngle).degree,unit=u.deg)\n",
    "ra_max = Longitude((t_sidereal_lsst + MarginAngle).degree,unit=u.deg)"
   ]
  },
  {
   "cell_type": "code",
   "execution_count": null,
   "id": "5742ae68-45a2-4878-97a0-a49a29d47636",
   "metadata": {
    "execution": {
     "iopub.execute_input": "2025-06-08T19:12:17.878008Z",
     "iopub.status.busy": "2025-06-08T19:12:17.877756Z",
     "iopub.status.idle": "2025-06-08T19:12:17.890122Z",
     "shell.execute_reply": "2025-06-08T19:12:17.889705Z",
     "shell.execute_reply.started": "2025-06-08T19:12:17.877995Z"
    }
   },
   "outputs": [],
   "source": [
    "ra_min"
   ]
  },
  {
   "cell_type": "code",
   "execution_count": null,
   "id": "03239c17-657f-4398-b15f-444b6e72d357",
   "metadata": {
    "execution": {
     "iopub.execute_input": "2025-06-08T19:12:17.890709Z",
     "iopub.status.busy": "2025-06-08T19:12:17.890574Z",
     "iopub.status.idle": "2025-06-08T19:12:17.898101Z",
     "shell.execute_reply": "2025-06-08T19:12:17.897688Z",
     "shell.execute_reply.started": "2025-06-08T19:12:17.890696Z"
    }
   },
   "outputs": [],
   "source": [
    "ra_max"
   ]
  },
  {
   "cell_type": "code",
   "execution_count": null,
   "id": "4e6016f6-8d24-4454-9f72-67e90fb2a3f6",
   "metadata": {
    "execution": {
     "iopub.execute_input": "2025-06-08T19:12:17.898709Z",
     "iopub.status.busy": "2025-06-08T19:12:17.898578Z",
     "iopub.status.idle": "2025-06-08T19:12:17.911105Z",
     "shell.execute_reply": "2025-06-08T19:12:17.910682Z",
     "shell.execute_reply.started": "2025-06-08T19:12:17.898696Z"
    }
   },
   "outputs": [],
   "source": [
    "#ra_min_angle = Angle(ra_min,u.degree)\n",
    "#ra_max_angle = Angle(ra_max,u.degree)\n",
    "ra_min_angle = Longitude(ra_min,u.degree)\n",
    "ra_max_angle = Longitude(ra_max,u.degree)\n",
    "#ra_min_angle.wrap_angle = 180 * u.deg\n",
    "#ra_max_angle.wrap_angle = 180 * u.deg"
   ]
  },
  {
   "cell_type": "code",
   "execution_count": null,
   "id": "d01b7fae-190e-4b63-bf0b-828c4b751183",
   "metadata": {
    "execution": {
     "iopub.execute_input": "2025-06-08T19:12:17.911703Z",
     "iopub.status.busy": "2025-06-08T19:12:17.911575Z",
     "iopub.status.idle": "2025-06-08T19:12:17.924531Z",
     "shell.execute_reply": "2025-06-08T19:12:17.924167Z",
     "shell.execute_reply.started": "2025-06-08T19:12:17.911691Z"
    }
   },
   "outputs": [],
   "source": [
    "ra_min_angle.degree"
   ]
  },
  {
   "cell_type": "code",
   "execution_count": null,
   "id": "e01023df-220b-4283-9855-cc9ffbb5848d",
   "metadata": {
    "execution": {
     "iopub.execute_input": "2025-06-08T19:12:17.925209Z",
     "iopub.status.busy": "2025-06-08T19:12:17.924968Z",
     "iopub.status.idle": "2025-06-08T19:12:17.936913Z",
     "shell.execute_reply": "2025-06-08T19:12:17.936497Z",
     "shell.execute_reply.started": "2025-06-08T19:12:17.925197Z"
    }
   },
   "outputs": [],
   "source": [
    "ra_max_angle.degree"
   ]
  },
  {
   "cell_type": "markdown",
   "id": "ae57e993-af18-4f12-8c88-1841bd2d3d7e",
   "metadata": {},
   "source": [
    "#### - Criteria on culmination angle\n",
    "\n",
    "- The culmination angle is obtained when HA = 0, then RA = LST"
   ]
  },
  {
   "cell_type": "code",
   "execution_count": null,
   "id": "2c352d5a-e23f-4bce-ab53-674fd240deee",
   "metadata": {
    "execution": {
     "iopub.execute_input": "2025-06-08T19:12:17.937610Z",
     "iopub.status.busy": "2025-06-08T19:12:17.937351Z",
     "iopub.status.idle": "2025-06-08T19:12:17.944936Z",
     "shell.execute_reply": "2025-06-08T19:12:17.944522Z",
     "shell.execute_reply.started": "2025-06-08T19:12:17.937597Z"
    }
   },
   "outputs": [],
   "source": [
    "culmin_angle_min = 30"
   ]
  },
  {
   "cell_type": "markdown",
   "id": "181d1af9-1e7b-42ce-ba46-987b1f5b47a2",
   "metadata": {},
   "source": [
    "### Algo for the selection of the target wrt RA selection , culmination angle, "
   ]
  },
  {
   "cell_type": "code",
   "execution_count": null,
   "id": "760160de-af90-4f7f-94bc-a0ffb7c397b1",
   "metadata": {
    "execution": {
     "iopub.execute_input": "2025-06-08T19:12:17.945668Z",
     "iopub.status.busy": "2025-06-08T19:12:17.945422Z",
     "iopub.status.idle": "2025-06-08T19:12:17.961154Z",
     "shell.execute_reply": "2025-06-08T19:12:17.960721Z",
     "shell.execute_reply.started": "2025-06-08T19:12:17.945653Z"
    }
   },
   "outputs": [],
   "source": [
    "latitude = latitude_lsst\n",
    "\n",
    "all_flag_select = []\n",
    "\n",
    "# numeric collections\n",
    "all_ra_angles_deg = []\n",
    "all_dec_angles_deg = []\n",
    "all_altmax_angle_deg = []\n",
    "all_zenithmin_angle_deg = []\n",
    "all_magV = []\n",
    "\n",
    "# loop on each entries in the df table to calculate angles\n",
    "for index, row in df.iterrows(): \n",
    "    target_name = row[\"name\"]\n",
    "    \n",
    "    # compute numeric values for ra-dec\n",
    "    ra_angle = Longitude(row['ra'],unit = u.deg)  \n",
    "    dec_angle = Angle(row[\"dec\"],unit = u.deg) \n",
    "\n",
    "    \n",
    "    # compute the culmination angle from the zenith angle\n",
    "    # North hemisphere\n",
    "    if latitude.deg >= 0:\n",
    "        if dec_angle.deg >= latitude.deg:\n",
    "            zenith_angle =   dec_angle - latitude\n",
    "        else:\n",
    "            zenith_angle = latitude - dec_angle\n",
    "    # south hemisphere\n",
    "    else:\n",
    "        if dec_angle.deg < latitude.deg :\n",
    "            zenith_angle =   latitude - dec_angle \n",
    "        else:\n",
    "            zenith_angle =   dec_angle - latitude \n",
    "        \n",
    "    culmination_angle = Angle(90.0, unit = u.deg) - zenith_angle\n",
    "\n",
    "\n",
    "            \n",
    "             \n",
    "    all_ra_angles_deg.append(ra_angle.degree)\n",
    "    all_dec_angles_deg.append(dec_angle.degree)\n",
    "    all_altmax_angle_deg.append(culmination_angle.degree) \n",
    "    all_zenithmin_angle_deg.append(zenith_angle.degree )\n",
    "\n",
    "    # test on ra angle\n",
    "    flag1 = CalculateBounds(ra_angle.degree,ra_min_angle.degree,ra_max_angle.degree)\n",
    "    \n",
    "    flag2 = False\n",
    "    \n",
    "    # test on culmination angle\n",
    "    if culmination_angle.degree > culmin_angle_min :\n",
    "        flag2 = True\n",
    "        \n",
    "    \n",
    "    flag = flag1 & flag2 \n",
    "    \n",
    "\n",
    "    if flag:\n",
    "        print(f\"{index}, {target_name} , RA = {ra_angle.hour:.2f} , DEC = {dec_angle.degree:.2f} , RA-MIN-MAX = {ra_min_angle.deg:.1f}-{ra_max_angle.deg:.1f},zenith_angle = {zenith_angle.degree:.2f}  culmination angle = {culmination_angle.degree:.2f} , flag_select = {flag}\")\n",
    "   \n",
    "    all_flag_select.append(flag)                "
   ]
  },
  {
   "cell_type": "code",
   "execution_count": null,
   "id": "bfeee0fc-dda2-4790-9e3d-9b66d04f07ba",
   "metadata": {
    "execution": {
     "iopub.execute_input": "2025-06-08T19:12:17.961771Z",
     "iopub.status.busy": "2025-06-08T19:12:17.961647Z",
     "iopub.status.idle": "2025-06-08T19:12:17.974172Z",
     "shell.execute_reply": "2025-06-08T19:12:17.973809Z",
     "shell.execute_reply.started": "2025-06-08T19:12:17.961759Z"
    }
   },
   "outputs": [],
   "source": [
    "all_flag_select"
   ]
  },
  {
   "cell_type": "markdown",
   "id": "a65787d9-0e5a-475c-bc3c-164e68c09c86",
   "metadata": {},
   "source": [
    "## Add calculated numerical values to the pandas table"
   ]
  },
  {
   "cell_type": "code",
   "execution_count": null,
   "id": "5e734093-f549-4a39-95a2-6ac5549955d2",
   "metadata": {
    "execution": {
     "iopub.execute_input": "2025-06-08T19:12:17.979070Z",
     "iopub.status.busy": "2025-06-08T19:12:17.978830Z",
     "iopub.status.idle": "2025-06-08T19:12:17.986472Z",
     "shell.execute_reply": "2025-06-08T19:12:17.986098Z",
     "shell.execute_reply.started": "2025-06-08T19:12:17.979057Z"
    }
   },
   "outputs": [],
   "source": [
    "df[\"ra_deg\"] = all_ra_angles_deg\n",
    "df[\"dec_deg\"] = all_dec_angles_deg \n",
    "df[\"alt_max\"] = all_altmax_angle_deg\n",
    "df[\"zenith_min\"] = all_zenithmin_angle_deg"
   ]
  },
  {
   "cell_type": "code",
   "execution_count": null,
   "id": "17aad149-1289-411c-9d1d-63cf6c0e1d3f",
   "metadata": {
    "execution": {
     "iopub.execute_input": "2025-06-08T19:12:17.987126Z",
     "iopub.status.busy": "2025-06-08T19:12:17.987000Z",
     "iopub.status.idle": "2025-06-08T19:12:17.998612Z",
     "shell.execute_reply": "2025-06-08T19:12:17.998231Z",
     "shell.execute_reply.started": "2025-06-08T19:12:17.987114Z"
    }
   },
   "outputs": [],
   "source": [
    "df"
   ]
  },
  {
   "cell_type": "markdown",
   "id": "2d742433-d0b8-43fb-9b52-4711f9de1bc4",
   "metadata": {},
   "source": [
    "## Apply all selection cuts on RA, culmination and magnitude"
   ]
  },
  {
   "cell_type": "code",
   "execution_count": null,
   "id": "d380fc89-e36b-49bc-b949-1df35244c5e5",
   "metadata": {
    "execution": {
     "iopub.execute_input": "2025-06-08T19:12:17.999291Z",
     "iopub.status.busy": "2025-06-08T19:12:17.999049Z",
     "iopub.status.idle": "2025-06-08T19:12:18.005418Z",
     "shell.execute_reply": "2025-06-08T19:12:18.005064Z",
     "shell.execute_reply.started": "2025-06-08T19:12:17.999278Z"
    }
   },
   "outputs": [],
   "source": [
    "df[\"select\"] = all_flag_select\n",
    "cut = df[\"select\"] == True\n",
    "\n",
    "t=df[cut]\n",
    "NTargets=len(t)"
   ]
  },
  {
   "cell_type": "code",
   "execution_count": null,
   "id": "f193e7f7-cc57-4118-a2c8-105ebefebdfe",
   "metadata": {
    "execution": {
     "iopub.execute_input": "2025-06-08T19:12:18.006109Z",
     "iopub.status.busy": "2025-06-08T19:12:18.005856Z",
     "iopub.status.idle": "2025-06-08T19:12:18.024253Z",
     "shell.execute_reply": "2025-06-08T19:12:18.023885Z",
     "shell.execute_reply.started": "2025-06-08T19:12:18.006096Z"
    }
   },
   "outputs": [],
   "source": [
    "t=df"
   ]
  },
  {
   "cell_type": "code",
   "execution_count": null,
   "id": "67363e71-4bc2-4f55-affd-e4145f512d06",
   "metadata": {
    "execution": {
     "iopub.execute_input": "2025-06-08T19:12:18.024880Z",
     "iopub.status.busy": "2025-06-08T19:12:18.024758Z",
     "iopub.status.idle": "2025-06-08T19:12:18.035890Z",
     "shell.execute_reply": "2025-06-08T19:12:18.035526Z",
     "shell.execute_reply.started": "2025-06-08T19:12:18.024868Z"
    }
   },
   "outputs": [],
   "source": [
    "t.sort_values(by=\"ra_deg\",ascending=True, inplace=True)"
   ]
  },
  {
   "cell_type": "markdown",
   "id": "ef750b29-db9d-4acd-8b44-d3b78a2af1de",
   "metadata": {},
   "source": [
    "### Must reindex the table"
   ]
  },
  {
   "cell_type": "code",
   "execution_count": null,
   "id": "cb0910ca-58e1-4b07-a679-0137e553dcdf",
   "metadata": {
    "execution": {
     "iopub.execute_input": "2025-06-08T19:12:18.036556Z",
     "iopub.status.busy": "2025-06-08T19:12:18.036308Z",
     "iopub.status.idle": "2025-06-08T19:12:18.042870Z",
     "shell.execute_reply": "2025-06-08T19:12:18.042522Z",
     "shell.execute_reply.started": "2025-06-08T19:12:18.036541Z"
    }
   },
   "outputs": [],
   "source": [
    "t.reset_index(drop=True,inplace=True)"
   ]
  },
  {
   "cell_type": "code",
   "execution_count": null,
   "id": "34531200-9589-4fc1-8154-cdb527b3d5b2",
   "metadata": {
    "execution": {
     "iopub.execute_input": "2025-06-08T19:12:18.043529Z",
     "iopub.status.busy": "2025-06-08T19:12:18.043286Z",
     "iopub.status.idle": "2025-06-08T19:12:18.058260Z",
     "shell.execute_reply": "2025-06-08T19:12:18.057908Z",
     "shell.execute_reply.started": "2025-06-08T19:12:18.043516Z"
    }
   },
   "outputs": [],
   "source": [
    "t"
   ]
  },
  {
   "cell_type": "code",
   "execution_count": null,
   "id": "803b82f0-1669-4fc7-b5ac-0f2bfe44f849",
   "metadata": {
    "execution": {
     "iopub.execute_input": "2025-06-08T19:12:18.058876Z",
     "iopub.status.busy": "2025-06-08T19:12:18.058753Z",
     "iopub.status.idle": "2025-06-08T19:12:18.069600Z",
     "shell.execute_reply": "2025-06-08T19:12:18.069240Z",
     "shell.execute_reply.started": "2025-06-08T19:12:18.058864Z"
    }
   },
   "outputs": [],
   "source": [
    "NTargets = len(t)\n",
    "print(NTargets)"
   ]
  },
  {
   "cell_type": "code",
   "execution_count": null,
   "id": "d5bddf5e-2140-4ccf-aaab-df1e23f65e91",
   "metadata": {
    "execution": {
     "iopub.execute_input": "2025-06-08T19:12:18.070214Z",
     "iopub.status.busy": "2025-06-08T19:12:18.070092Z",
     "iopub.status.idle": "2025-06-08T19:12:18.077392Z",
     "shell.execute_reply": "2025-06-08T19:12:18.077046Z",
     "shell.execute_reply.started": "2025-06-08T19:12:18.070202Z"
    }
   },
   "outputs": [],
   "source": [
    "# wavelength bin colors\n",
    "jet = plt.get_cmap('jet')\n",
    "cNorm = colors.Normalize(vmin=0, vmax=NTargets)\n",
    "scalarMap = cmx.ScalarMappable(norm=cNorm, cmap=jet)\n",
    "all_colors = scalarMap.to_rgba(np.arange(NTargets), alpha=1)"
   ]
  },
  {
   "cell_type": "markdown",
   "id": "5fd1f4c8-b3ee-473c-92a5-32456d3c6577",
   "metadata": {},
   "source": [
    "## Compute Target location before computing their sky trajectory"
   ]
  },
  {
   "cell_type": "code",
   "execution_count": null,
   "id": "d0fc5577-d42c-410b-8e5f-628236945e84",
   "metadata": {
    "execution": {
     "iopub.execute_input": "2025-06-08T19:12:18.078027Z",
     "iopub.status.busy": "2025-06-08T19:12:18.077804Z",
     "iopub.status.idle": "2025-06-08T19:12:18.095503Z",
     "shell.execute_reply": "2025-06-08T19:12:18.095138Z",
     "shell.execute_reply.started": "2025-06-08T19:12:18.078014Z"
    }
   },
   "outputs": [],
   "source": [
    "all_target_names = t[\"name\"].values\n",
    "selected_target_locations = [ SkyCoord(row.ra_deg,row.dec_deg, unit=\"deg\") for key, row in t.iterrows() ]"
   ]
  },
  {
   "cell_type": "code",
   "execution_count": null,
   "id": "336d7aad-b10c-4360-b83f-ac3731991f65",
   "metadata": {
    "execution": {
     "iopub.execute_input": "2025-06-08T19:12:18.096177Z",
     "iopub.status.busy": "2025-06-08T19:12:18.095936Z",
     "iopub.status.idle": "2025-06-08T19:12:18.110805Z",
     "shell.execute_reply": "2025-06-08T19:12:18.110449Z",
     "shell.execute_reply.started": "2025-06-08T19:12:18.096164Z"
    }
   },
   "outputs": [],
   "source": [
    "all_ra_astroquery=[]\n",
    "all_dec_astroquery=[]\n",
    "for target_loc in selected_target_locations:\n",
    "    all_ra_astroquery.append(target_loc.ra)\n",
    "    all_dec_astroquery.append(target_loc.dec)"
   ]
  },
  {
   "cell_type": "markdown",
   "id": "3ed31001-2ae3-47cb-9d36-694e107f05cc",
   "metadata": {},
   "source": [
    "# Astronomical in Observation frame for each selected target"
   ]
  },
  {
   "cell_type": "markdown",
   "id": "9daa30a8-7dd1-434c-8167-0d014b46e685",
   "metadata": {},
   "source": [
    "## Initialisation "
   ]
  },
  {
   "cell_type": "code",
   "execution_count": null,
   "id": "80538780-912f-42f8-90c1-51ef6bb1bb5b",
   "metadata": {
    "execution": {
     "iopub.execute_input": "2025-06-08T19:12:18.111310Z",
     "iopub.status.busy": "2025-06-08T19:12:18.111187Z",
     "iopub.status.idle": "2025-06-08T19:12:18.126136Z",
     "shell.execute_reply": "2025-06-08T19:12:18.125797Z",
     "shell.execute_reply.started": "2025-06-08T19:12:18.111298Z"
    }
   },
   "outputs": [],
   "source": [
    "utcoffset_number"
   ]
  },
  {
   "cell_type": "code",
   "execution_count": null,
   "id": "e93b8580-db2f-41c0-9275-93bc8e0f8268",
   "metadata": {
    "execution": {
     "iopub.execute_input": "2025-06-08T19:12:18.126675Z",
     "iopub.status.busy": "2025-06-08T19:12:18.126549Z",
     "iopub.status.idle": "2025-06-08T19:12:18.132926Z",
     "shell.execute_reply": "2025-06-08T19:12:18.132584Z",
     "shell.execute_reply.started": "2025-06-08T19:12:18.126663Z"
    },
    "tags": []
   },
   "outputs": [],
   "source": [
    "night_obs_midnight_str"
   ]
  },
  {
   "cell_type": "code",
   "execution_count": null,
   "id": "1fda626d-38bf-4379-9352-8a0410a27a48",
   "metadata": {
    "execution": {
     "iopub.execute_input": "2025-06-08T19:12:18.133564Z",
     "iopub.status.busy": "2025-06-08T19:12:18.133319Z",
     "iopub.status.idle": "2025-06-08T19:12:18.147825Z",
     "shell.execute_reply": "2025-06-08T19:12:18.147458Z",
     "shell.execute_reply.started": "2025-06-08T19:12:18.133551Z"
    }
   },
   "outputs": [],
   "source": [
    "# Greenwitch time at local midnight time\n",
    "midnight_utc = Time(night_obs_midnight_str) - utcoffset_number*u.hour\n",
    "delta_midnight = np.linspace(-12, 12, 1000)*u.hour\n",
    "sideral_times = Angle(t_sidereal_lsst) + Angle(delta_midnight)\n",
    "\n",
    "# utc times around local midnight\n",
    "times_evening_to_morning = midnight_utc + delta_midnight\n",
    "frame_evening_to_morning = AltAz(obstime=times_evening_to_morning, location=cerro_pachon)"
   ]
  },
  {
   "cell_type": "code",
   "execution_count": null,
   "id": "cbe2ef39-abee-4d6d-bd4d-c9f798f85a83",
   "metadata": {
    "execution": {
     "iopub.execute_input": "2025-06-08T19:12:18.148381Z",
     "iopub.status.busy": "2025-06-08T19:12:18.148233Z",
     "iopub.status.idle": "2025-06-08T19:12:18.157499Z",
     "shell.execute_reply": "2025-06-08T19:12:18.157121Z",
     "shell.execute_reply.started": "2025-06-08T19:12:18.148369Z"
    }
   },
   "outputs": [],
   "source": [
    "times_evening_to_morning_datetime = times_evening_to_morning.to_datetime()"
   ]
  },
  {
   "cell_type": "markdown",
   "id": "7ddc2a29-3a3c-413a-9118-9ae911ec6bb9",
   "metadata": {},
   "source": [
    "## Sun frame"
   ]
  },
  {
   "cell_type": "code",
   "execution_count": null,
   "id": "d48907c0-f2bd-40eb-ab06-c8839756e6e2",
   "metadata": {
    "execution": {
     "iopub.execute_input": "2025-06-08T19:12:18.158143Z",
     "iopub.status.busy": "2025-06-08T19:12:18.158019Z",
     "iopub.status.idle": "2025-06-08T19:12:18.359900Z",
     "shell.execute_reply": "2025-06-08T19:12:18.359335Z",
     "shell.execute_reply.started": "2025-06-08T19:12:18.158130Z"
    }
   },
   "outputs": [],
   "source": [
    "from astropy.coordinates import get_sun\n",
    "sunaltazs_evening_to_morning = get_sun(times_evening_to_morning).transform_to(frame_evening_to_morning)"
   ]
  },
  {
   "cell_type": "markdown",
   "id": "782e934f-6ca6-4972-aba8-51b8093d1c32",
   "metadata": {},
   "source": [
    "## Moon frame"
   ]
  },
  {
   "cell_type": "code",
   "execution_count": null,
   "id": "5d2dff7b-14ba-4b86-ac7a-80b11fdb3cf1",
   "metadata": {
    "execution": {
     "iopub.execute_input": "2025-06-08T19:12:18.360695Z",
     "iopub.status.busy": "2025-06-08T19:12:18.360429Z",
     "iopub.status.idle": "2025-06-08T19:12:18.362763Z",
     "shell.execute_reply": "2025-06-08T19:12:18.362339Z",
     "shell.execute_reply.started": "2025-06-08T19:12:18.360682Z"
    },
    "tags": []
   },
   "outputs": [],
   "source": [
    "# Old version in conda_py310\n",
    "#from astropy.coordinates import get_moon\n",
    "#moon_evening_to_morning = get_moon(times_evening_to_morning)\n",
    "#moonaltazs_evening_to_morning = moon_evening_to_morning.transform_to(frame_evening_to_morning)"
   ]
  },
  {
   "cell_type": "code",
   "execution_count": null,
   "id": "fbd1e80e-239c-4845-94fa-89494a3ecc33",
   "metadata": {
    "execution": {
     "iopub.execute_input": "2025-06-08T19:12:18.363440Z",
     "iopub.status.busy": "2025-06-08T19:12:18.363211Z",
     "iopub.status.idle": "2025-06-08T19:12:18.379533Z",
     "shell.execute_reply": "2025-06-08T19:12:18.379115Z",
     "shell.execute_reply.started": "2025-06-08T19:12:18.363428Z"
    },
    "tags": []
   },
   "outputs": [],
   "source": [
    "from astropy import coordinates"
   ]
  },
  {
   "cell_type": "markdown",
   "id": "842f4197-df4c-4d01-a693-9d4a879ca821",
   "metadata": {
    "tags": []
   },
   "source": [
    "### Get moon ephemerides\n",
    "- Checked sky trajectory at https://airmass.org/"
   ]
  },
  {
   "cell_type": "code",
   "execution_count": null,
   "id": "1b6acdee-9b2d-4a25-b396-09b6c908acfd",
   "metadata": {
    "execution": {
     "iopub.execute_input": "2025-06-08T19:12:18.380248Z",
     "iopub.status.busy": "2025-06-08T19:12:18.379999Z",
     "iopub.status.idle": "2025-06-08T19:12:19.010688Z",
     "shell.execute_reply": "2025-06-08T19:12:19.010160Z",
     "shell.execute_reply.started": "2025-06-08T19:12:18.380236Z"
    },
    "tags": []
   },
   "outputs": [],
   "source": [
    "moon_evening_to_morning = coordinates.get_body(\"moon\",times_evening_to_morning,location=site_LSST)\n",
    "moonaltazs_evening_to_morning = moon_evening_to_morning.transform_to(frame_evening_to_morning)"
   ]
  },
  {
   "cell_type": "markdown",
   "id": "617b0eb1-8947-40db-a81b-a41739ffa80b",
   "metadata": {},
   "source": [
    "## Targets Frame"
   ]
  },
  {
   "cell_type": "code",
   "execution_count": null,
   "id": "664ebc1f-f6db-4be4-9bf6-fd203a18e0fc",
   "metadata": {
    "execution": {
     "iopub.execute_input": "2025-06-08T19:12:19.011456Z",
     "iopub.status.busy": "2025-06-08T19:12:19.011315Z",
     "iopub.status.idle": "2025-06-08T19:12:19.604194Z",
     "shell.execute_reply": "2025-06-08T19:12:19.603712Z",
     "shell.execute_reply.started": "2025-06-08T19:12:19.011440Z"
    }
   },
   "outputs": [],
   "source": [
    "all_target_altazs_evening_to_morning = [target_location.transform_to(frame_evening_to_morning) for target_location in  selected_target_locations ]"
   ]
  },
  {
   "cell_type": "markdown",
   "id": "fcadc2c8-c8bd-41a8-8843-954ea6d95cbe",
   "metadata": {},
   "source": [
    "## Distance to the moon"
   ]
  },
  {
   "cell_type": "code",
   "execution_count": null,
   "id": "798b7a8a-ef2a-4427-bb05-5d051ca65ed4",
   "metadata": {
    "execution": {
     "iopub.execute_input": "2025-06-08T19:12:19.604946Z",
     "iopub.status.busy": "2025-06-08T19:12:19.604805Z",
     "iopub.status.idle": "2025-06-08T19:12:26.159333Z",
     "shell.execute_reply": "2025-06-08T19:12:26.158822Z",
     "shell.execute_reply.started": "2025-06-08T19:12:19.604930Z"
    }
   },
   "outputs": [],
   "source": [
    "all_target_distancetomoon_evening_to_morning = [] \n",
    "all_target_tagnames = all_target_names\n",
    "num_target=0\n",
    "for idx,targetcoordinateseries in enumerate(all_target_altazs_evening_to_morning): \n",
    "    N_coord = len(targetcoordinateseries)\n",
    "    idx_coord = 0\n",
    "    all_distances_sep = []\n",
    "    for idx_coord in range(N_coord):\n",
    "        distance_sep=targetcoordinateseries[idx_coord].separation(moonaltazs_evening_to_morning[idx_coord])\n",
    "        all_distances_sep.append(distance_sep.degree)\n",
    "    all_distances_sep= np.array(all_distances_sep)\n",
    "    all_distances_sep_min = all_distances_sep.min()\n",
    "    all_target_distancetomoon_evening_to_morning.append(all_distances_sep_min) \n",
    "    all_target_tagnames[idx] += f\", d_m = {all_distances_sep_min:.0f}°\"\n",
    "    num_target+=1"
   ]
  },
  {
   "cell_type": "code",
   "execution_count": null,
   "id": "5c3fae28-e411-47b5-9fde-182211285280",
   "metadata": {
    "execution": {
     "iopub.execute_input": "2025-06-08T19:12:26.160023Z",
     "iopub.status.busy": "2025-06-08T19:12:26.159881Z",
     "iopub.status.idle": "2025-06-08T19:12:26.163561Z",
     "shell.execute_reply": "2025-06-08T19:12:26.163153Z",
     "shell.execute_reply.started": "2025-06-08T19:12:26.160006Z"
    }
   },
   "outputs": [],
   "source": [
    "all_target_tagnames"
   ]
  },
  {
   "cell_type": "markdown",
   "id": "6325dbce-0100-4b59-8c84-61cd16eac0a3",
   "metadata": {},
   "source": [
    "### Update target tag"
   ]
  },
  {
   "cell_type": "code",
   "execution_count": null,
   "id": "6cedc8c4-6b1a-4a43-bc96-e0e87670f4d0",
   "metadata": {
    "execution": {
     "iopub.execute_input": "2025-06-08T19:12:26.164128Z",
     "iopub.status.busy": "2025-06-08T19:12:26.164001Z",
     "iopub.status.idle": "2025-06-08T19:12:26.212813Z",
     "shell.execute_reply": "2025-06-08T19:12:26.212318Z",
     "shell.execute_reply.started": "2025-06-08T19:12:26.164116Z"
    }
   },
   "outputs": [],
   "source": [
    "t[\"tag\"] = all_target_tagnames"
   ]
  },
  {
   "cell_type": "code",
   "execution_count": null,
   "id": "4a19b0d2-1f2e-401c-81a7-973ce4b01725",
   "metadata": {
    "execution": {
     "iopub.execute_input": "2025-06-08T19:12:26.213353Z",
     "iopub.status.busy": "2025-06-08T19:12:26.213227Z",
     "iopub.status.idle": "2025-06-08T19:12:26.233477Z",
     "shell.execute_reply": "2025-06-08T19:12:26.233079Z",
     "shell.execute_reply.started": "2025-06-08T19:12:26.213341Z"
    }
   },
   "outputs": [],
   "source": [
    "t"
   ]
  },
  {
   "cell_type": "markdown",
   "id": "3ae4eafa-ded3-4035-ba74-13640dc07207",
   "metadata": {},
   "source": [
    "## Sort target according increasing max culminating time"
   ]
  },
  {
   "cell_type": "code",
   "execution_count": null,
   "id": "94abc470-88f1-4626-b9df-494a47fefcc8",
   "metadata": {
    "execution": {
     "iopub.execute_input": "2025-06-08T19:12:26.234268Z",
     "iopub.status.busy": "2025-06-08T19:12:26.234142Z",
     "iopub.status.idle": "2025-06-08T19:12:26.242549Z",
     "shell.execute_reply": "2025-06-08T19:12:26.242099Z",
     "shell.execute_reply.started": "2025-06-08T19:12:26.234255Z"
    }
   },
   "outputs": [],
   "source": [
    "NTargets = len(t)\n",
    "all_timemax=np.zeros(NTargets)\n",
    "all_altitudesmax=np.zeros(NTargets)\n",
    "for idx in np.arange(NTargets):\n",
    "    altitudes=all_target_altazs_evening_to_morning[idx].alt\n",
    "    idx_max=np.where(altitudes==altitudes.max())[0][0]\n",
    "    all_timemax[idx]=delta_midnight[idx_max].value\n",
    "    all_altitudesmax[idx]=altitudes.max().degree"
   ]
  },
  {
   "cell_type": "code",
   "execution_count": null,
   "id": "eadce3a7-a87a-4b82-93e6-f0be07ccad58",
   "metadata": {
    "execution": {
     "iopub.execute_input": "2025-06-08T19:12:26.242993Z",
     "iopub.status.busy": "2025-06-08T19:12:26.242871Z",
     "iopub.status.idle": "2025-06-08T19:12:26.255037Z",
     "shell.execute_reply": "2025-06-08T19:12:26.254635Z",
     "shell.execute_reply.started": "2025-06-08T19:12:26.242981Z"
    }
   },
   "outputs": [],
   "source": [
    "all_altitudesmax"
   ]
  },
  {
   "cell_type": "code",
   "execution_count": null,
   "id": "f8af5476-c83d-4105-a955-a11d3d407a4e",
   "metadata": {
    "execution": {
     "iopub.execute_input": "2025-06-08T19:12:26.255547Z",
     "iopub.status.busy": "2025-06-08T19:12:26.255407Z",
     "iopub.status.idle": "2025-06-08T19:12:26.279055Z",
     "shell.execute_reply": "2025-06-08T19:12:26.278633Z",
     "shell.execute_reply.started": "2025-06-08T19:12:26.255534Z"
    }
   },
   "outputs": [],
   "source": [
    "t[\"tmax\"] = all_timemax"
   ]
  },
  {
   "cell_type": "code",
   "execution_count": null,
   "id": "4da15e1a-96ca-4fcc-a348-97e5be21bbb0",
   "metadata": {
    "execution": {
     "iopub.execute_input": "2025-06-08T19:12:26.279601Z",
     "iopub.status.busy": "2025-06-08T19:12:26.279473Z",
     "iopub.status.idle": "2025-06-08T19:12:26.289931Z",
     "shell.execute_reply": "2025-06-08T19:12:26.289526Z",
     "shell.execute_reply.started": "2025-06-08T19:12:26.279589Z"
    }
   },
   "outputs": [],
   "source": [
    "all_timemax"
   ]
  },
  {
   "cell_type": "code",
   "execution_count": null,
   "id": "f7dee73e-b64b-4586-b3fd-2a27e3e40a13",
   "metadata": {
    "execution": {
     "iopub.execute_input": "2025-06-08T19:12:26.290422Z",
     "iopub.status.busy": "2025-06-08T19:12:26.290302Z",
     "iopub.status.idle": "2025-06-08T19:12:26.309321Z",
     "shell.execute_reply": "2025-06-08T19:12:26.308910Z",
     "shell.execute_reply.started": "2025-06-08T19:12:26.290410Z"
    }
   },
   "outputs": [],
   "source": [
    "rank = np.argsort(all_timemax)\n",
    "rank"
   ]
  },
  {
   "cell_type": "code",
   "execution_count": null,
   "id": "37af2e80-03e0-4986-bea7-b4808cb737a4",
   "metadata": {
    "execution": {
     "iopub.execute_input": "2025-06-08T19:12:26.309870Z",
     "iopub.status.busy": "2025-06-08T19:12:26.309749Z",
     "iopub.status.idle": "2025-06-08T19:12:26.322461Z",
     "shell.execute_reply": "2025-06-08T19:12:26.322055Z",
     "shell.execute_reply.started": "2025-06-08T19:12:26.309859Z"
    }
   },
   "outputs": [],
   "source": [
    "rankinv = np.argsort(rank)\n",
    "rankinv"
   ]
  },
  {
   "cell_type": "code",
   "execution_count": null,
   "id": "68496db5-3422-41f3-bf5e-ebbed41216b4",
   "metadata": {
    "execution": {
     "iopub.execute_input": "2025-06-08T19:12:26.323046Z",
     "iopub.status.busy": "2025-06-08T19:12:26.322919Z",
     "iopub.status.idle": "2025-06-08T19:12:26.340723Z",
     "shell.execute_reply": "2025-06-08T19:12:26.340267Z",
     "shell.execute_reply.started": "2025-06-08T19:12:26.323034Z"
    }
   },
   "outputs": [],
   "source": [
    "#t.index[rank]"
   ]
  },
  {
   "cell_type": "code",
   "execution_count": null,
   "id": "4f1c7a38-6660-4ed5-a23f-a280967d88e0",
   "metadata": {
    "execution": {
     "iopub.execute_input": "2025-06-08T19:12:26.341228Z",
     "iopub.status.busy": "2025-06-08T19:12:26.341109Z",
     "iopub.status.idle": "2025-06-08T19:12:26.351642Z",
     "shell.execute_reply": "2025-06-08T19:12:26.351177Z",
     "shell.execute_reply.started": "2025-06-08T19:12:26.341216Z"
    }
   },
   "outputs": [],
   "source": [
    "t[\"rank_tmax\"] = rankinv # rank in time\n",
    "t[\"rank_num\"] = np.arange(NTargets) # rank in original table"
   ]
  },
  {
   "cell_type": "code",
   "execution_count": null,
   "id": "3594bc2f-c268-4fb9-adea-a51ab238aade",
   "metadata": {
    "execution": {
     "iopub.execute_input": "2025-06-08T19:12:26.352214Z",
     "iopub.status.busy": "2025-06-08T19:12:26.352093Z",
     "iopub.status.idle": "2025-06-08T19:12:26.365457Z",
     "shell.execute_reply": "2025-06-08T19:12:26.364960Z",
     "shell.execute_reply.started": "2025-06-08T19:12:26.352202Z"
    }
   },
   "outputs": [],
   "source": [
    "#t = t.sort_values(by = ['tmax'])"
   ]
  },
  {
   "cell_type": "markdown",
   "id": "0dd6828b-e468-4129-a61b-59d996c2c0a7",
   "metadata": {},
   "source": [
    "### Must reindex dataframe for loop on targets (in sorting order)"
   ]
  },
  {
   "cell_type": "code",
   "execution_count": null,
   "id": "1d9858fa-3fc1-45b7-89ec-31dd20c0f95f",
   "metadata": {
    "execution": {
     "iopub.execute_input": "2025-06-08T19:12:26.366084Z",
     "iopub.status.busy": "2025-06-08T19:12:26.365962Z",
     "iopub.status.idle": "2025-06-08T19:12:26.372719Z",
     "shell.execute_reply": "2025-06-08T19:12:26.372240Z",
     "shell.execute_reply.started": "2025-06-08T19:12:26.366071Z"
    }
   },
   "outputs": [],
   "source": [
    "#t.reset_index(inplace=True)"
   ]
  },
  {
   "cell_type": "code",
   "execution_count": null,
   "id": "d3879460-486f-4092-bcab-6c9bb168a380",
   "metadata": {
    "execution": {
     "iopub.execute_input": "2025-06-08T19:12:26.373147Z",
     "iopub.status.busy": "2025-06-08T19:12:26.373025Z",
     "iopub.status.idle": "2025-06-08T19:12:26.391955Z",
     "shell.execute_reply": "2025-06-08T19:12:26.391523Z",
     "shell.execute_reply.started": "2025-06-08T19:12:26.373134Z"
    }
   },
   "outputs": [],
   "source": [
    "t.sort_values(by= \"ra_deg\",  axis=0, ascending=True, inplace=False)"
   ]
  },
  {
   "cell_type": "code",
   "execution_count": null,
   "id": "54cb0137-6e57-4140-863a-2a273e6448b4",
   "metadata": {
    "execution": {
     "iopub.execute_input": "2025-06-08T19:12:26.392512Z",
     "iopub.status.busy": "2025-06-08T19:12:26.392377Z",
     "iopub.status.idle": "2025-06-08T19:12:26.403838Z",
     "shell.execute_reply": "2025-06-08T19:12:26.403372Z",
     "shell.execute_reply.started": "2025-06-08T19:12:26.392491Z"
    }
   },
   "outputs": [],
   "source": [
    "t['rank_num'] =  [0, 1, 2, 3, 4, 5]\n",
    "# Normaliser les valeurs entre 0 et 1\n",
    "norm = mcolors.Normalize(vmin=t['rank_num'].min(), vmax=t['rank_num'].max())\n",
    "\n",
    "# Choisir une colormap continue (par ex. \"coolwarm\" ou \"RdBu_r\")\n",
    "colormap = cm.get_cmap(\"coolwarm\")  # bleu → rouge\n",
    "\n",
    "# Appliquer une couleur discrète par ligne\n",
    "t['color'] = t['rank_num'].apply(lambda x: mcolors.to_hex(colormap(norm(x))))\n",
    "\n",
    "print(t)"
   ]
  },
  {
   "cell_type": "markdown",
   "id": "67a606cf-8ec8-439b-98b9-76fba2b771e6",
   "metadata": {},
   "source": [
    "# Plot"
   ]
  },
  {
   "cell_type": "code",
   "execution_count": null,
   "id": "2353baec-360b-4df5-817d-7339c65f59f9",
   "metadata": {
    "execution": {
     "iopub.execute_input": "2025-06-08T19:12:26.404288Z",
     "iopub.status.busy": "2025-06-08T19:12:26.404160Z",
     "iopub.status.idle": "2025-06-08T19:12:26.411668Z",
     "shell.execute_reply": "2025-06-08T19:12:26.411229Z",
     "shell.execute_reply.started": "2025-06-08T19:12:26.404274Z"
    }
   },
   "outputs": [],
   "source": [
    "all_target_names = t[\"name\"].values\n",
    "all_target_names"
   ]
  },
  {
   "cell_type": "code",
   "execution_count": null,
   "id": "f2122726-bee6-4a4a-92e7-3c1fd0c12be1",
   "metadata": {
    "execution": {
     "iopub.execute_input": "2025-06-08T19:12:26.412423Z",
     "iopub.status.busy": "2025-06-08T19:12:26.412175Z",
     "iopub.status.idle": "2025-06-08T19:12:27.434136Z",
     "shell.execute_reply": "2025-06-08T19:12:27.433689Z",
     "shell.execute_reply.started": "2025-06-08T19:12:26.412410Z"
    }
   },
   "outputs": [],
   "source": [
    "fig = plt.figure(figsize=(18,12),layout=\"constrained\")\n",
    "\n",
    "\n",
    "# First Axis : target sky trajectories\n",
    "# ====================================\n",
    "ax=fig.add_subplot(1,1,1)\n",
    "\n",
    "# plot sun\n",
    "ax.plot(delta_midnight, sunaltazs_evening_to_morning.alt, color='r', ls=\":\",label='Sun',lw=5)\n",
    "#plot moon\n",
    "ax.plot(delta_midnight, moonaltazs_evening_to_morning.alt, color=[0.75]*3, ls='--', label='Moon',lw=5)\n",
    "\n",
    "\n",
    "# loop on selected targets in pandas dataframe t according rank order\n",
    "for index in range(NTargets):\n",
    "    \n",
    "    # select the good row in pandas dataframe from time ordering\n",
    "    row = (t[t[\"rank_tmax\"] == index]).iloc[0]\n",
    "    \n",
    "\n",
    "    # get its tag\n",
    "    label = str(index+1) + \") : \" + row[\"tag\"]\n",
    "    \n",
    "    # rank in all_target_altazs_evening_to_morning table\n",
    "    rank_num = row[\"rank_num\"]\n",
    "    tmax = row[\"tmax\"]\n",
    "    altmax = row[\"alt_max\"]\n",
    "    \n",
    "    \n",
    "  \n",
    "    # plot trajectory\n",
    "    ax.plot(delta_midnight, all_target_altazs_evening_to_morning[rank_num].alt,label=label, lw=2.5,color=all_colors[index])\n",
    "    #ax.plot(delta_midnight, all_target_altazs_evening_to_morning[rank_num].alt,label=label, lw=2.5,color=t[\"color\"].values)\n",
    "\n",
    "    # plot label\n",
    "    if all_target_altazs_evening_to_morning[rank_num].alt[-1]>0:\n",
    "        ax.text(delta_midnight[-1], all_target_altazs_evening_to_morning[rank_num].alt[-1], f'{index+1}',color=all_colors[index],fontsize=20)\n",
    "    if all_target_altazs_evening_to_morning[rank_num].alt[0]>0:\n",
    "        ax.text(delta_midnight[0], all_target_altazs_evening_to_morning[rank_num].alt[0], f'{index+1}',color=all_colors[index],fontsize=20)\n",
    "    if altmax>0 :\n",
    "        ax.text(tmax, altmax, f'{index+1}',color=all_colors[index],fontsize=20)\n",
    "    \n",
    "\n",
    "\n",
    "ax.fill_between(delta_midnight, 0*u.deg, 90*u.deg,sunaltazs_evening_to_morning.alt < -0*u.deg, color='0.5', zorder=0)\n",
    "ax.fill_between(delta_midnight, 0*u.deg, 90*u.deg,sunaltazs_evening_to_morning.alt < -18*u.deg, color='k', zorder=0)\n",
    "\n",
    "ax.legend(loc='upper right')\n",
    "ax.set_xlim(-12*u.hour, 12*u.hour)\n",
    "ax.set_xticks((np.arange(13)*2-12)*u.hour)\n",
    "ax.set_ylim(0*u.deg, 90*u.deg)\n",
    "ax.set_xlabel('Hours from Midnight local time')\n",
    "ax.set_ylabel('Altitude [deg]')\n",
    "ax.grid(None)\n",
    "tick_spacing = 1\n",
    "ax.xaxis.set_major_locator(ticker.MultipleLocator(tick_spacing))\n",
    "title = \"Observations at AuxTel at night \" + night_obs_str.split(\" \")[0]\n",
    "ax.set_title(title)\n",
    "#for label in ax.get_xticklabels(which='major'):\n",
    "#    label.set(rotation=30, horizontalalignment='right')\n",
    "\n",
    "\n",
    "# second horizontal axis : Sideral time axis\n",
    "# ==========================================\n",
    "ax2 = ax.twiny()\n",
    "ax2.plot([sideral_times[0].hour,sideral_times[-1].hour],[0,0])\n",
    "ax2.set_xlabel(\"sideral time (hour)\")\n",
    "ax2.xaxis.set_major_locator(ticker.MultipleLocator(tick_spacing))\n",
    "ax2.grid(None)\n",
    "\n",
    "# third horizontal axis : UTC time axis\n",
    "# =====================================\n",
    "\n",
    "ax3 = ax.twiny()\n",
    "# Move twinned axis ticks and label from top to bottom\n",
    "ax3.xaxis.set_ticks_position(\"bottom\")\n",
    "ax3.xaxis.set_label_position(\"bottom\")\n",
    "# Offset the twin axis below the host\n",
    "offset = -0.12\n",
    "ax3.spines[\"bottom\"].set_position((\"axes\", offset))\n",
    "\n",
    "ax3.set_frame_on(True)\n",
    "ax3.patch.set_visible(False) # mandatory\n",
    "for sp in ax3.spines.values():\n",
    "    sp.set_visible(False)\n",
    "ax3.spines[\"bottom\"].set_visible(True)\n",
    "#fmt = '%m/%d %H:%M'\n",
    "fmt = '%H:%M'\n",
    "plt.gca().xaxis.set_major_formatter(mdates.DateFormatter(fmt))\n",
    "ax3.xaxis.set_major_locator(mdates.HourLocator(interval=1))\n",
    "\n",
    "curvetoremove, = ax3.plot_date(times_evening_to_morning_datetime, sunaltazs_evening_to_morning.alt, color='r', ls=\":\",lw=0)\n",
    "curvetoremove.remove()\n",
    "ax3.set_xlim(times_evening_to_morning_datetime[0], times_evening_to_morning_datetime[-1])\n",
    "\n",
    "\n",
    "\n",
    "ax3.tick_params(which='major', width=1.00, length=5)\n",
    "ax3.tick_params(which='minor', width=0.75, length=2.5)\n",
    "ax3.grid(True)\n",
    "#plt.gcf().autofmt_xdate()  # orient date labels at a slant\n",
    "# slant for this axis\n",
    "for label in ax3.get_xticklabels(which='major'):\n",
    "    label.set(rotation=30, horizontalalignment='right')\n",
    "\n",
    "ax3.set_xlabel(\"UTC Time\")\n",
    "\n",
    "\n",
    "figname=\"RubinLSST_StarAlt{:4d}_{:d}_{:d}.png\".format(NYEAR,NMONTH,NDAY)\n",
    "\n",
    "plt.tight_layout()\n",
    "plt.savefig(figname)\n",
    "\n",
    "plt.show()"
   ]
  },
  {
   "cell_type": "markdown",
   "id": "e41d2a28-a2ae-42fc-961f-0733a698e5d4",
   "metadata": {},
   "source": [
    "# To plot in staralt\n",
    "\n",
    "https://www.ing.iac.es//Astronomy/telescopes/wht/catformat.html"
   ]
  },
  {
   "cell_type": "code",
   "execution_count": null,
   "id": "13fc2ada-7d46-43c8-b6d1-bbced1767cc9",
   "metadata": {
    "execution": {
     "iopub.execute_input": "2025-06-08T19:12:27.434795Z",
     "iopub.status.busy": "2025-06-08T19:12:27.434657Z",
     "iopub.status.idle": "2025-06-08T19:12:27.439357Z",
     "shell.execute_reply": "2025-06-08T19:12:27.438966Z",
     "shell.execute_reply.started": "2025-06-08T19:12:27.434780Z"
    }
   },
   "outputs": [],
   "source": [
    "t_staralt = t[[\"name\",\"ra\",\"dec\",\"rank_tmax\"]]\n",
    "t_staralt[\"equinox\"] = np.full(NTargets,\"J2000\")\n",
    "t_staralt = t_staralt.sort_values(by = ['rank_tmax'])\n",
    "t_staralt = t_staralt.drop(['rank_tmax'], axis=1)"
   ]
  },
  {
   "cell_type": "code",
   "execution_count": null,
   "id": "9d150a78-3bdb-4faa-a1b5-04e7a84724b3",
   "metadata": {
    "execution": {
     "iopub.execute_input": "2025-06-08T19:12:27.440085Z",
     "iopub.status.busy": "2025-06-08T19:12:27.439840Z",
     "iopub.status.idle": "2025-06-08T19:12:27.462080Z",
     "shell.execute_reply": "2025-06-08T19:12:27.461675Z",
     "shell.execute_reply.started": "2025-06-08T19:12:27.440072Z"
    }
   },
   "outputs": [],
   "source": [
    "t_staralt"
   ]
  },
  {
   "cell_type": "code",
   "execution_count": null,
   "id": "302f4b5c-bac8-41db-88ff-a0ae1f778275",
   "metadata": {
    "execution": {
     "iopub.execute_input": "2025-06-08T19:12:27.462714Z",
     "iopub.status.busy": "2025-06-08T19:12:27.462576Z",
     "iopub.status.idle": "2025-06-08T19:12:27.482771Z",
     "shell.execute_reply": "2025-06-08T19:12:27.482331Z",
     "shell.execute_reply.started": "2025-06-08T19:12:27.462698Z"
    }
   },
   "outputs": [],
   "source": [
    "t_staralt.to_csv(\"staralt.csv\",index=False,header=False, sep = \" \")"
   ]
  },
  {
   "cell_type": "code",
   "execution_count": null,
   "id": "984037c8-fa5e-41b7-bb1e-5789b34964cc",
   "metadata": {
    "execution": {
     "iopub.execute_input": "2025-06-08T19:12:27.483558Z",
     "iopub.status.busy": "2025-06-08T19:12:27.483409Z",
     "iopub.status.idle": "2025-06-08T19:12:27.902728Z",
     "shell.execute_reply": "2025-06-08T19:12:27.902091Z",
     "shell.execute_reply.started": "2025-06-08T19:12:27.483542Z"
    }
   },
   "outputs": [],
   "source": [
    "! cat staralt.csv"
   ]
  },
  {
   "cell_type": "markdown",
   "id": "25045fc8-76be-42e6-b79a-5a811795f87a",
   "metadata": {},
   "source": [
    "# Spheric plot"
   ]
  },
  {
   "cell_type": "markdown",
   "id": "df49fd30-e89c-4768-8bb7-b804e9670878",
   "metadata": {},
   "source": [
    "### Looking toward local meridian, toward the north\n",
    "- star rise from east \n",
    "- star set at west\n",
    "- south pole is 30 degree above horizon\n",
    "\n",
    "### Looking toward the south pole\n",
    "- star rotate clockwise around the pole"
   ]
  },
  {
   "cell_type": "markdown",
   "id": "9d6a9745-6e72-4847-87ab-9ce038f65977",
   "metadata": {},
   "source": [
    "### Dans l’hémisphère sud, les étoiles tournent autour du pôle Sud céleste dans le sens des aiguilles d’une montre.\n",
    "Explication rapide :\n",
    "- Dans l’hémisphère nord, les étoiles tournent autour du pôle Nord céleste dans le sens inverse des aiguilles d’une montre.\n",
    "- Dans l’hémisphère sud, c’est l’inverse : autour du pôle Sud céleste, le mouvement apparent des étoiles est horaire, donc dans le sens des aiguilles d’une montre.\n",
    "Si tu observes le ciel depuis l’hémisphère sud, par exemple en regardant vers le pôle Sud céleste (près de l’étoile Sigma Octantis), les étoiles sembleront tourner dans ce sens."
   ]
  },
  {
   "cell_type": "code",
   "execution_count": null,
   "id": "68d4c9da-e3ee-423b-a018-260d9478527f",
   "metadata": {
    "execution": {
     "iopub.execute_input": "2025-06-08T19:12:27.903568Z",
     "iopub.status.busy": "2025-06-08T19:12:27.903397Z",
     "iopub.status.idle": "2025-06-08T19:12:27.907370Z",
     "shell.execute_reply": "2025-06-08T19:12:27.906983Z",
     "shell.execute_reply.started": "2025-06-08T19:12:27.903548Z"
    }
   },
   "outputs": [],
   "source": [
    "def makePolarPlot(azimuthsInDegrees, zenithAngles, marker=\".\",ax=None,\n",
    "                       title=None, color=None, objName=None,lw=0.5):\n",
    "    if ax==None:\n",
    "        _ = plt.figure(figsize=(20, 10))\n",
    "        ax = plt.subplot(111, polar=True)\n",
    "        \n",
    "    ax.plot([a*np.pi/180 for a in azimuthsInDegrees], zenithAngles, marker, c=color, label=objName,lw=lw)\n",
    "    if title:\n",
    "        ax.set_title(title, va='bottom')\n",
    "    ax.set_theta_zero_location(\"N\")\n",
    "    ax.set_theta_direction(-1)\n",
    "    ax.set_rlim(0, 90)\n",
    "    return ax"
   ]
  },
  {
   "cell_type": "code",
   "execution_count": null,
   "id": "c825e1de-36ff-41a7-b0b0-784c4b9fc11e",
   "metadata": {
    "execution": {
     "iopub.execute_input": "2025-06-08T19:12:27.908124Z",
     "iopub.status.busy": "2025-06-08T19:12:27.907879Z",
     "iopub.status.idle": "2025-06-08T19:12:28.251942Z",
     "shell.execute_reply": "2025-06-08T19:12:28.251386Z",
     "shell.execute_reply.started": "2025-06-08T19:12:27.908109Z"
    }
   },
   "outputs": [],
   "source": [
    "_ = plt.figure(figsize=(20, 10))\n",
    "\n",
    "ax = plt.subplot(111, polar=True)\n",
    "\n",
    "\n",
    "darkTimeIndex=[sunaltazs_evening_to_morning.alt < -18*u.deg][0]\n",
    "\n",
    "# compute zenith and azimuth angles\n",
    "moon_azimuthsInDegrees = Angle(moonaltazs_evening_to_morning.az).deg\n",
    "moon_zenithAngles = Angle(moonaltazs_evening_to_morning.zen).deg\n",
    "\n",
    "#ax=makePolarPlot(moon_azimuthsInDegrees, moon_zenithAngles,ax=ax, marker=\"--\",color=\"y\", title = None, lw=1)\n",
    "\n",
    "moon_azimuthsInDegreesNight=moon_azimuthsInDegrees[darkTimeIndex]\n",
    "moon_zenithAnglesNight=moon_zenithAngles[darkTimeIndex]\n",
    "ax=makePolarPlot(moon_azimuthsInDegreesNight, moon_zenithAnglesNight,ax=ax ,marker=\"*-\",title=None, color = \"y\",objName=\"Moon\",lw=10)\n",
    "\n",
    "    \n",
    "# loop on selected targets in pandas dataframe t according rank order\n",
    "for index in range(NTargets):\n",
    "    \n",
    "    # select the good row in pandas dataframe from time ordering\n",
    "    row = (t[t[\"rank_tmax\"] == index]).iloc[0]\n",
    "    \n",
    "\n",
    "    # get its tag\n",
    "    label = str(index+1) + \") : \" + row[\"tag\"]\n",
    "    \n",
    "    # rank in all_target_altazs_evening_to_morning table\n",
    "    rank_num = row[\"rank_num\"]\n",
    "    tmax = row[\"tmax\"]\n",
    "    altmax = row[\"alt_max\"]\n",
    "    \n",
    "    \n",
    "    \n",
    "    \n",
    "    \n",
    "    # compute zenith and azimuth angles\n",
    "    azimuthsInDegrees=Angle(all_target_altazs_evening_to_morning[rank_num].az).deg\n",
    "    zenithAngles = Angle(all_target_altazs_evening_to_morning[rank_num].zen).deg\n",
    "    \n",
    "    ax=makePolarPlot(azimuthsInDegrees, zenithAngles,ax=ax, marker=\"-\",title=None, color=all_colors[index], lw=0.5)\n",
    "    \n",
    "    azimuthsInDegreesNight=azimuthsInDegrees[darkTimeIndex]\n",
    "    zenithAnglesNight=zenithAngles[darkTimeIndex]\n",
    "    ax=makePolarPlot(azimuthsInDegreesNight, zenithAnglesNight,ax=ax ,marker=\"*-\",title=None, color=all_colors[index],objName=label,lw=0.5)\n",
    "    \n",
    "    thex=zenithAnglesNight[0]*np.sin( (azimuthsInDegreesNight[0]) *np.pi/180.)\n",
    "    they=zenithAnglesNight[0]*np.cos( (azimuthsInDegreesNight[0])*np.pi/180.)\n",
    "   \n",
    "    #plt.text(thex, they,f'{rank}',color=all_colors[rank],fontsize=20)\n",
    "    \n",
    " \n",
    "ax.legend(bbox_to_anchor=(1.08, 1), prop={'size': 15}, loc='upper left')\n",
    "ax.set_theta_zero_location(\"N\")\n",
    "ax.set_theta_direction(-1)\n",
    "ax.set_rlim(0, 90)\n",
    "ax.set_xticklabels(['N', '', 'E', '', 'S', '', 'W', ''])\n",
    "title = \"Observations at AuxTel at night \" + night_obs_str.split(\" \")[0]\n",
    "ax.set_title(title)"
   ]
  },
  {
   "cell_type": "code",
   "execution_count": null,
   "id": "81a1cdb6-f920-4a58-abc0-598e07fd6922",
   "metadata": {},
   "outputs": [],
   "source": []
  },
  {
   "cell_type": "code",
   "execution_count": null,
   "id": "789efc3f-8f33-49d8-aaeb-e935aa5cbc1c",
   "metadata": {},
   "outputs": [],
   "source": []
  },
  {
   "cell_type": "code",
   "execution_count": null,
   "id": "1e05850b-9900-4661-b7bd-cf69f0073a28",
   "metadata": {},
   "outputs": [],
   "source": []
  }
 ],
 "metadata": {
  "kernelspec": {
   "display_name": "LSST",
   "language": "python",
   "name": "lsst"
  },
  "language_info": {
   "codemirror_mode": {
    "name": "ipython",
    "version": 3
   },
   "file_extension": ".py",
   "mimetype": "text/x-python",
   "name": "python",
   "nbconvert_exporter": "python",
   "pygments_lexer": "ipython3",
   "version": "3.12.10"
  }
 },
 "nbformat": 4,
 "nbformat_minor": 5
}
