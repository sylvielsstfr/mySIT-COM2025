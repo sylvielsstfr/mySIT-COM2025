{
 "cells": [
  {
   "cell_type": "markdown",
   "id": "8f3da262-37ed-407f-908c-8ac5a52cb4db",
   "metadata": {},
   "source": [
    "# Notebook to access to data on CCDVisits for the System-level Science Performance Verification Sprint February 3-5 2025\n",
    "\n",
    "- Confluence page : https://rubinobs.atlassian.net/wiki/spaces/LSSTCOM/pages/372867091/System-level+Science+Performance+Verification+Sprint\n",
    "- slides : https://docs.google.com/presentation/d/1bPjS5NGtiEL2lfjmvP1UYdG_tMEDfZxX26ayhf7MhtY/edit#slide=id.ga2f7fb1a1f_0_70"
   ]
  },
  {
   "cell_type": "markdown",
   "id": "f3737976-eab8-4483-a79d-796f738c4f22",
   "metadata": {},
   "source": [
    "- where to find the campains\n",
    "- https://rubinobs.atlassian.net/wiki/spaces/DM/pages/226656354/LSSTComCam+Intermittent+Cumulative+DRP+Runs\n",
    "\n",
    "- plot Navigator\n",
    "- https://usdf-rsp.slac.stanford.edu/plot-navigator\n",
    "- https://usdf-rsp.slac.stanford.edu/plot-navigator/plot/%2Frepo%2Fmain/LSSTComCam%2Fruns%2FDRP%2FDP1%2Fw_2025_05%2FDM-48666/objectTableCore_coaddInputCount_SkyPlot"
   ]
  },
  {
   "cell_type": "markdown",
   "id": "53b4594d-5de5-4fa1-8ada-f60f0018cac5",
   "metadata": {},
   "source": [
    "- Notebooks examples\n",
    "- https://github.com/lsst-dm/DMTR-401/blob/main/notebooks/test_LVV-T40_T1240.ipynb\n",
    "- https://github.com/lsst-dm/DMTR-412/blob/tickets/DM-38728/notebooks/test_LVV-T1751_AM1_AM2.ipynb"
   ]
  },
  {
   "cell_type": "markdown",
   "id": "8402aac4-562a-40cd-ac2b-c1ca76cae55b",
   "metadata": {},
   "source": [
    "- author : Sylvie Dagoret-Campagne\n",
    "- creattion date : 2025-02-13\n",
    "- update : 2025-02-19\n",
    "- Redo Visits like here : https://github.com/sylvielsstfr/LSST-Rehearsal2024/blob/main/notebooks/Visits/stat_on_visits_LSSTComCamSim.ipynb\n",
    "- To find what I did on LSSTComCamSim : https://github.com/sylvielsstfr/LSST-Rehearsal2024/blob/main/notebooks/LightCurves/MultiColor_lightCurves-DMRehearsal2024_01-AuxTel-DZPOnCCD.ipynb\n",
    "- **Confluence page** : https://rubinobs.atlassian.net/wiki/spaces/LSSTCOM/pages/443613290/Science+Verification+Sprint+Feb+2025\n"
   ]
  },
  {
   "cell_type": "code",
   "execution_count": null,
   "id": "9d583412-a5a0-456e-84be-1fb658ddf016",
   "metadata": {
    "execution": {
     "iopub.execute_input": "2025-02-19T17:22:21.881486Z",
     "iopub.status.busy": "2025-02-19T17:22:21.881368Z",
     "iopub.status.idle": "2025-02-19T17:22:22.453055Z",
     "shell.execute_reply": "2025-02-19T17:22:22.452545Z",
     "shell.execute_reply.started": "2025-02-19T17:22:21.881474Z"
    }
   },
   "outputs": [],
   "source": [
    "# Confirm that the version of the Science Pipelines is recent:\n",
    "! echo $HOSTNAME\n",
    "! eups list -s | grep lsst_distrib"
   ]
  },
  {
   "cell_type": "code",
   "execution_count": null,
   "id": "8fbb9671-7d8e-4724-8c58-0f0a4fb9e5f0",
   "metadata": {
    "execution": {
     "iopub.execute_input": "2025-02-19T17:22:22.453776Z",
     "iopub.status.busy": "2025-02-19T17:22:22.453633Z",
     "iopub.status.idle": "2025-02-19T17:22:23.306497Z",
     "shell.execute_reply": "2025-02-19T17:22:23.306019Z",
     "shell.execute_reply.started": "2025-02-19T17:22:22.453761Z"
    }
   },
   "outputs": [],
   "source": [
    "from lsst.daf.butler import Butler\n",
    "import lsst.geom as geom"
   ]
  },
  {
   "cell_type": "code",
   "execution_count": null,
   "id": "e814e3d6-750c-4e7f-a9a5-5bf1e2f7205f",
   "metadata": {
    "execution": {
     "iopub.execute_input": "2025-02-19T17:22:23.307133Z",
     "iopub.status.busy": "2025-02-19T17:22:23.306996Z",
     "iopub.status.idle": "2025-02-19T17:22:24.948058Z",
     "shell.execute_reply": "2025-02-19T17:22:24.947695Z",
     "shell.execute_reply.started": "2025-02-19T17:22:23.307120Z"
    }
   },
   "outputs": [],
   "source": [
    "import os\n",
    "import gc\n",
    "import glob\n",
    "import numpy as np\n",
    "import pandas as pd\n",
    "import random\n",
    "\n",
    "import astropy.units as u\n",
    "from astropy.coordinates import SkyCoord\n",
    "from astroquery.gaia import Gaia\n",
    "Gaia.MAIN_GAIA_TABLE = \"gaiadr3.gaia_source\"  # Reselect Data Release 3, default\n",
    "Gaia.ROW_LIMIT = 100000\n",
    "from astropy.visualization import (MinMaxInterval, AsinhStretch, ZScaleInterval, LogStretch, LinearStretch,\n",
    "                                   ImageNormalize)"
   ]
  },
  {
   "cell_type": "code",
   "execution_count": null,
   "id": "e68df967-7870-47da-a4dd-760df6732aa5",
   "metadata": {
    "execution": {
     "iopub.execute_input": "2025-02-19T17:22:24.949705Z",
     "iopub.status.busy": "2025-02-19T17:22:24.949320Z",
     "iopub.status.idle": "2025-02-19T17:22:25.957029Z",
     "shell.execute_reply": "2025-02-19T17:22:25.956606Z",
     "shell.execute_reply.started": "2025-02-19T17:22:24.949683Z"
    }
   },
   "outputs": [],
   "source": [
    "import seaborn as sns\n",
    "from itertools import cycle, islice"
   ]
  },
  {
   "cell_type": "code",
   "execution_count": null,
   "id": "f385c649-efb6-40a8-b9f7-ebc65c441a04",
   "metadata": {
    "execution": {
     "iopub.execute_input": "2025-02-19T17:22:25.957773Z",
     "iopub.status.busy": "2025-02-19T17:22:25.957528Z",
     "iopub.status.idle": "2025-02-19T17:22:25.960009Z",
     "shell.execute_reply": "2025-02-19T17:22:25.959662Z",
     "shell.execute_reply.started": "2025-02-19T17:22:25.957760Z"
    }
   },
   "outputs": [],
   "source": [
    "from astropy.time import Time\n",
    "from datetime import datetime, timedelta"
   ]
  },
  {
   "cell_type": "code",
   "execution_count": null,
   "id": "46c68d72-750b-4bb9-b92a-1fe6e1728171",
   "metadata": {
    "execution": {
     "iopub.execute_input": "2025-02-19T17:22:25.960564Z",
     "iopub.status.busy": "2025-02-19T17:22:25.960446Z",
     "iopub.status.idle": "2025-02-19T17:22:25.966868Z",
     "shell.execute_reply": "2025-02-19T17:22:25.966398Z",
     "shell.execute_reply.started": "2025-02-19T17:22:25.960553Z"
    }
   },
   "outputs": [],
   "source": [
    "import lsst.geom as geom\n",
    "from lsst.geom import Angle\n",
    "from lsst.geom import SpherePoint\n",
    "from lsst.geom import AngleUnit"
   ]
  },
  {
   "cell_type": "code",
   "execution_count": null,
   "id": "5af15c53-1d3f-42ee-81d8-508a2daa56c0",
   "metadata": {
    "execution": {
     "iopub.execute_input": "2025-02-19T17:22:25.967445Z",
     "iopub.status.busy": "2025-02-19T17:22:25.967324Z",
     "iopub.status.idle": "2025-02-19T17:22:25.979218Z",
     "shell.execute_reply": "2025-02-19T17:22:25.978802Z",
     "shell.execute_reply.started": "2025-02-19T17:22:25.967434Z"
    }
   },
   "outputs": [],
   "source": [
    "# Set plotting defaults\n",
    "%matplotlib inline\n",
    "import matplotlib.pyplot as plt\n",
    "from matplotlib.ticker import FormatStrFormatter\n",
    "from matplotlib.colors import ListedColormap\n",
    "from matplotlib import colors\n",
    "zscale = ZScaleInterval()\n",
    "\n",
    "# Set up some plotting defaults:\n",
    "plt.rcParams.update({'figure.figsize' : (12, 8)})\n",
    "plt.rcParams.update({'font.size' : 24})\n",
    "plt.rcParams.update({'axes.linewidth' : 3})\n",
    "plt.rcParams.update({'axes.labelweight' : 3})\n",
    "plt.rcParams.update({'axes.titleweight' : 5})\n",
    "plt.rcParams.update({'ytick.major.width' : 3})\n",
    "plt.rcParams.update({'ytick.minor.width' : 2})\n",
    "plt.rcParams.update({'ytick.major.size' : 8})\n",
    "plt.rcParams.update({'ytick.minor.size' : 5})\n",
    "plt.rcParams.update({'xtick.major.size' : 8})\n",
    "plt.rcParams.update({'xtick.minor.size' : 5})\n",
    "plt.rcParams.update({'xtick.major.width' : 3})\n",
    "plt.rcParams.update({'xtick.minor.width' : 2})\n",
    "plt.rcParams.update({'xtick.direction' : 'in'})\n",
    "plt.rcParams.update({'ytick.direction' : 'in'})\n"
   ]
  },
  {
   "cell_type": "code",
   "execution_count": null,
   "id": "352858ec-5409-4046-89c4-d9a41f2a400e",
   "metadata": {
    "execution": {
     "iopub.execute_input": "2025-02-19T17:22:25.979790Z",
     "iopub.status.busy": "2025-02-19T17:22:25.979665Z",
     "iopub.status.idle": "2025-02-19T17:22:25.983024Z",
     "shell.execute_reply": "2025-02-19T17:22:25.982678Z",
     "shell.execute_reply.started": "2025-02-19T17:22:25.979778Z"
    }
   },
   "outputs": [],
   "source": [
    "def angle_in_range(alpha, lower, upper):\n",
    "    return (alpha - lower) % 360 <= (upper - lower) % 360"
   ]
  },
  {
   "cell_type": "code",
   "execution_count": null,
   "id": "c2e61470-5dd3-4b6e-b800-a25bedfc0a7e",
   "metadata": {
    "execution": {
     "iopub.execute_input": "2025-02-19T17:22:25.983574Z",
     "iopub.status.busy": "2025-02-19T17:22:25.983445Z",
     "iopub.status.idle": "2025-02-19T17:22:25.989072Z",
     "shell.execute_reply": "2025-02-19T17:22:25.988723Z",
     "shell.execute_reply.started": "2025-02-19T17:22:25.983562Z"
    }
   },
   "outputs": [],
   "source": [
    "def get_bbox_radec(wcs, bbox):\n",
    "    \"\"\"\n",
    "    Return the corners in RA,Dec in degrees given the WCS and bounding box for an image.\n",
    "\n",
    "    Parameters\n",
    "    ----------\n",
    "    wcs: image WCS returned by the Butler\n",
    "    bbox: bounding box returned by the Butler\n",
    "\n",
    "    Returns\n",
    "    -------\n",
    "    ramin,ramax,decmin,decmax in decimal degrees\n",
    "    \"\"\"\n",
    "\n",
    "    xmin = bbox.beginX\n",
    "    xmax = bbox.endX\n",
    "    ymin = bbox.beginY\n",
    "    ymax = bbox.endY\n",
    "    \n",
    "    radec_ll = wcs.pixelToSky(xmin, ymin)\n",
    "    radec_ur = wcs.pixelToSky(xmax, ymax)\n",
    "        \n",
    "    return radec_ur.getRa().asDegrees(),radec_ll.getRa().asDegrees(), radec_ll.getDec().asDegrees(),radec_ur.getDec().asDegrees() \n"
   ]
  },
  {
   "cell_type": "code",
   "execution_count": null,
   "id": "57faae1f-6bc6-4784-9005-2555cfbf52ee",
   "metadata": {
    "execution": {
     "iopub.execute_input": "2025-02-19T17:22:25.989572Z",
     "iopub.status.busy": "2025-02-19T17:22:25.989455Z",
     "iopub.status.idle": "2025-02-19T17:22:25.995601Z",
     "shell.execute_reply": "2025-02-19T17:22:25.995259Z",
     "shell.execute_reply.started": "2025-02-19T17:22:25.989561Z"
    }
   },
   "outputs": [],
   "source": [
    "def isradec_inbbox_angularsep(ra,dec,wcs, bbox):\n",
    "    \"\"\"\n",
    "    Return the corners in RA,Dec in degrees given the WCS and bounding box for an image.\n",
    "\n",
    "    Parameters\n",
    "    ----------\n",
    "    ra: ra in degree\n",
    "    dec: dec in degree\n",
    "    wcs: image WCS returned by the Butler\n",
    "    bbox: bounding box returned by the Butler\n",
    "\n",
    "    Returns\n",
    "    -------\n",
    "    float in degree\n",
    "    \n",
    "    \"\"\"\n",
    "\n",
    "   \n",
    "    RAMIN,RAMAX,DECMIN,DECMAX = get_bbox_radec(wcs, bbox)\n",
    "  \n",
    "    RAMEAN = np.mean([RAMIN,RAMAX])\n",
    "    DECMEAN = np.mean([DECMIN,DECMAX])\n",
    "\n",
    "    sp0 = SpherePoint(longitude=geom.Angle(ra,geom.degrees),latitude=geom.Angle(dec,geom.degrees))\n",
    "    sp1 = SpherePoint(longitude=geom.Angle(RAMEAN,geom.degrees),latitude=geom.Angle(DECMEAN,geom.degrees)) \n",
    "    \n",
    "    sep = sp0.separation(sp1).asDegrees()\n",
    "     \n",
    "    return sep\n"
   ]
  },
  {
   "cell_type": "code",
   "execution_count": null,
   "id": "fed836bf-cd9f-4de1-92ff-d62f4f87f60a",
   "metadata": {
    "execution": {
     "iopub.execute_input": "2025-02-19T17:22:25.996220Z",
     "iopub.status.busy": "2025-02-19T17:22:25.996097Z",
     "iopub.status.idle": "2025-02-19T17:22:26.001823Z",
     "shell.execute_reply": "2025-02-19T17:22:26.001488Z",
     "shell.execute_reply.started": "2025-02-19T17:22:25.996209Z"
    }
   },
   "outputs": [],
   "source": [
    "def isradec_inbbox_radec(ra,dec,wcs, bbox):\n",
    "    \"\"\"\n",
    "    Return the corners in RA,Dec in degrees given the WCS and bounding box for an image.\n",
    "\n",
    "    Parameters\n",
    "    ----------\n",
    "    ra: ra in degree\n",
    "    dec: dec in degree\n",
    "    wcs: image WCS returned by the Butler\n",
    "    bbox: bounding box returned by the Butler\n",
    "\n",
    "    Returns\n",
    "    -------\n",
    "    Bool\n",
    "    \n",
    "    \"\"\"\n",
    "\n",
    "    RAMIN,RAMAX,DECMIN,DECMAX = get_bbox_radec(wcs, bbox)\n",
    "\n",
    "    flag_ra = angle_in_range(ra,RAMIN,RAMAX)\n",
    "    flag_dec = angle_in_range(dec,DECMIN,DECMAX)\n",
    "\n",
    "    flag = flag_ra and flag_dec\n",
    "    return flag\n"
   ]
  },
  {
   "cell_type": "code",
   "execution_count": null,
   "id": "a86f902b-bf08-4874-a2ae-85d5c20907b7",
   "metadata": {
    "execution": {
     "iopub.execute_input": "2025-02-19T17:22:26.002358Z",
     "iopub.status.busy": "2025-02-19T17:22:26.002237Z",
     "iopub.status.idle": "2025-02-19T17:22:26.009363Z",
     "shell.execute_reply": "2025-02-19T17:22:26.009009Z",
     "shell.execute_reply.started": "2025-02-19T17:22:26.002347Z"
    }
   },
   "outputs": [],
   "source": [
    "def FindTractAndPatch(row):\n",
    "    \"\"\"\n",
    "    Apply this function on ccdvisitTable dataframe to find the tract and patch for each visit\n",
    "    \"\"\"\n",
    "     \n",
    "    try:\n",
    "        ra = row[\"ra\"]\n",
    "        dec = row[\"dec\"]\n",
    "        selectFlag = False\n",
    "        # loop on tract\n",
    "        for tractID in tractsId_list:\n",
    "            tractInfo = skymap.generateTract(tractID)\n",
    "            patches_selected = [patch.getSequentialIndex() for patch in tractInfo]\n",
    "            wcs=tractInfo.getWcs()\n",
    "            # loop on patches\n",
    "            for patch in tractInfo:\n",
    "                patchID = patch.getSequentialIndex()\n",
    "                if patchID in patches_selected:\n",
    "                    ibb=patch.getInnerBBox()\n",
    "                    flag = isradec_inbbox_radec(ra,dec,wcs, ibb)\n",
    "                    selectFlag =  selectFlag or flag\n",
    "                    if selectFlag:\n",
    "                        return pd.Series([tractID,patchID])\n",
    "        return pd.Series([0,0])           \n",
    "                \n",
    "    except Exception as inst:\n",
    "        print(type(inst))    # the exception type\n",
    "        print(inst.args)     # arguments stored in .args\n",
    "        print(inst)          # __str__ allows args to be printed directly,\n",
    "        return pd.Series([0,0])  \n",
    "        "
   ]
  },
  {
   "cell_type": "code",
   "execution_count": null,
   "id": "97d63db3-29a2-478f-8ebe-19108a12ee50",
   "metadata": {
    "execution": {
     "iopub.execute_input": "2025-02-19T17:22:26.009900Z",
     "iopub.status.busy": "2025-02-19T17:22:26.009783Z",
     "iopub.status.idle": "2025-02-19T17:22:26.017507Z",
     "shell.execute_reply": "2025-02-19T17:22:26.017168Z",
     "shell.execute_reply.started": "2025-02-19T17:22:26.009889Z"
    }
   },
   "outputs": [],
   "source": [
    "def FindTractAndPatchFromAngularSep(row):\n",
    "    \"\"\"\n",
    "    Apply this function on ccdvisitTable dataframe to find the tract and patch for each visit\n",
    "    Need the tractsId_list not to scan the whole skymap\n",
    "    \"\"\"\n",
    "\n",
    "     \n",
    "    try:\n",
    "        ra = row[\"ra\"]\n",
    "        dec = row[\"dec\"]\n",
    "        \n",
    "        # loop on tracts\n",
    "        List_of_tractids = []\n",
    "        List_of_patchids = []\n",
    "        List_of_sep = []\n",
    "        \n",
    "        for tractID in tractsId_list:\n",
    "            tractInfo = skymap.generateTract(tractID)\n",
    "            patches_selected = [patch.getSequentialIndex() for patch in tractInfo]\n",
    "         \n",
    "            wcs=tractInfo.getWcs()\n",
    "            # loop on patches\n",
    "            patches_ids = []\n",
    "            patches_sep = []\n",
    "            # loop on patches\n",
    "            for patch in tractInfo:\n",
    "                patchID = patch.getSequentialIndex()\n",
    "                if patchID in patches_selected:\n",
    "                    ibb=patch.getInnerBBox()\n",
    "                  \n",
    "                    sep = isradec_inbbox_angularsep(ra,dec,wcs, ibb)\n",
    "                    patches_ids.append(patchID)\n",
    "                    patches_sep.append(sep)\n",
    "                    \n",
    "            # find the patch with the minimum distance\n",
    "            patches_ids=np.array(patches_ids)\n",
    "            patches_sep= np.array(patches_sep)\n",
    "            idx_sepmin = int(np.where(patches_sep==patches_sep.min())[0])\n",
    "            \n",
    "            \n",
    "            List_of_tractids.append(tractID)\n",
    "            List_of_patchids.append(patches_ids[idx_sepmin])\n",
    "            List_of_sep.append(patches_sep[idx_sepmin])\n",
    "            \n",
    "        List_of_tractids=np.array(List_of_tractids)\n",
    "        List_of_patchids=np.array(List_of_patchids)\n",
    "        List_of_sep= np.array(List_of_sep)\n",
    "        idx_sepmin = int(np.where(List_of_sep==List_of_sep.min())[0])\n",
    "\n",
    "        tractID_sel = List_of_tractids[idx_sepmin]\n",
    "        patchID_sel = List_of_patchids[idx_sepmin]\n",
    "       \n",
    "            \n",
    "        return pd.Series([tractID_sel,patchID_sel])\n",
    "               \n",
    "                \n",
    "    except Exception as inst:\n",
    "        print(type(inst))    # the exception type\n",
    "        print(inst.args)     # arguments stored in .args\n",
    "        print(inst)          # __str__ allows args to be printed directly,\n",
    "        return pd.Series([0,0])  \n",
    "        "
   ]
  },
  {
   "cell_type": "code",
   "execution_count": null,
   "id": "7bfe58fb-fdba-46d3-b05b-983f147aeab1",
   "metadata": {
    "execution": {
     "iopub.execute_input": "2025-02-19T17:22:26.018058Z",
     "iopub.status.busy": "2025-02-19T17:22:26.017937Z",
     "iopub.status.idle": "2025-02-19T17:22:26.025969Z",
     "shell.execute_reply": "2025-02-19T17:22:26.025552Z",
     "shell.execute_reply.started": "2025-02-19T17:22:26.018047Z"
    }
   },
   "outputs": [],
   "source": [
    "def plotAVisit(row,ax=None):\n",
    "    \"\"\"\n",
    "    row : dataframe row\n",
    "    ax \n",
    "    \"\"\"\n",
    "\n",
    "    if ax == None:\n",
    "        fig, ax = plt.subplots(1,1,figsize=(5,5))\n",
    "        \n",
    "    visitid = row[\"visitId\"]\n",
    "    ra= row[\"ra\"]\n",
    "    dec = row[\"dec\"]\n",
    "    tract_id  = row[\"tractID\"]\n",
    "    patch_id  = row[\"patchID\"]\n",
    "    label = f\"tract {tract_id} , patch {patch_id}\"              \n",
    "    \n",
    "    tractInfo = skymap.generateTract(tract_id)\n",
    "    patches_selected = [patch.getSequentialIndex() for patch in tractInfo]     \n",
    "    wcs=tractInfo.getWcs()\n",
    "            \n",
    "    # loop on patches\n",
    "    all_ra = []\n",
    "    all_dec = []\n",
    "    corners = []\n",
    "    for patch in tractInfo:\n",
    "        patchID = patch.getSequentialIndex()\n",
    "        if patchID == patch_id :\n",
    "            ibb=patch.getInnerBBox()\n",
    "            RAMIN,RAMAX,DECMIN,DECMAX = get_bbox_radec(wcs, ibb)\n",
    "            for icorn,corner in enumerate(ibb.getCorners()):\n",
    "                p = geom.Point2D(corner.getX(), corner.getY())\n",
    "                coord = wcs.pixelToSky(p)\n",
    "                corners.append([coord.getRa().asDegrees(), coord.getDec().asDegrees()])\n",
    "                all_ra.append(coord.getRa().asDegrees()) \n",
    "                all_dec.append(coord.getDec().asDegrees()) \n",
    "    if (len(all_ra)>0) and (len(all_dec)>0):\n",
    "        all_ra.append(all_ra[0])\n",
    "        all_dec.append(all_dec[0])\n",
    "        print(ax)\n",
    "        ax.plot(all_ra,all_dec,'b-',lw=3,label=label)\n",
    "        ax.scatter([ra],[dec],marker = 'o',s=20,c=\"r\",label=visitid)\n",
    "        ax.xaxis.set_major_formatter(FormatStrFormatter('%.2f'))\n",
    "        ax.yaxis.set_major_formatter(FormatStrFormatter('%.2f'))\n",
    "        ax.legend()\n",
    "                \n",
    "\n"
   ]
  },
  {
   "cell_type": "markdown",
   "id": "3506978f-3a1e-47a9-90c1-b576f17d092f",
   "metadata": {},
   "source": [
    "## Start Here with initialisation\n",
    "\n",
    "\n",
    "- Check here the collection available : https://rubinobs.atlassian.net/wiki/spaces/DM/pages/226656354/LSSTComCam+Intermittent+Cumulative+DRP+Runs"
   ]
  },
  {
   "cell_type": "code",
   "execution_count": null,
   "id": "58131b3b-f3bf-461a-8c71-d236e7d5e7fa",
   "metadata": {
    "execution": {
     "iopub.execute_input": "2025-02-19T17:22:26.026538Z",
     "iopub.status.busy": "2025-02-19T17:22:26.026417Z",
     "iopub.status.idle": "2025-02-19T17:22:26.031860Z",
     "shell.execute_reply": "2025-02-19T17:22:26.031453Z",
     "shell.execute_reply.started": "2025-02-19T17:22:26.026527Z"
    }
   },
   "outputs": [],
   "source": [
    "# The output repo is tagged with the Jira ticket number \"DM-40356\":\n",
    "repo = '/repo/main'\n",
    "collection = 'LSSTComCam/runs/DRP/DP1/w_2025_05/DM-48666'\n",
    "instrument = \"LSSTComCam\"\n",
    "skymapName = \"lsst_cells_v1\"\n",
    "where_clause = \"instrument = \\'\" + instrument+ \"\\'\"\n",
    "collectionStr = collection.replace(\"/\", \"_\")\n",
    "NDET = 9\n",
    "TRACTSEL = 5526\n",
    "fn_ccdVisit_tracts_patches = f\"ccdVisittractpatch_{collectionStr}.csv\""
   ]
  },
  {
   "cell_type": "code",
   "execution_count": null,
   "id": "804fcb8b-d567-4a27-b102-05ed002051c4",
   "metadata": {
    "execution": {
     "iopub.execute_input": "2025-02-19T17:22:26.032410Z",
     "iopub.status.busy": "2025-02-19T17:22:26.032294Z",
     "iopub.status.idle": "2025-02-19T17:22:26.449313Z",
     "shell.execute_reply": "2025-02-19T17:22:26.448816Z",
     "shell.execute_reply.started": "2025-02-19T17:22:26.032399Z"
    }
   },
   "outputs": [],
   "source": [
    "# Initialize the butler repo:\n",
    "butler = Butler(repo, collections=collection)\n",
    "registry = butler.registry"
   ]
  },
  {
   "cell_type": "code",
   "execution_count": null,
   "id": "03249edb-84b0-4f36-ae94-af25391b468e",
   "metadata": {
    "execution": {
     "iopub.execute_input": "2025-02-19T17:22:26.449930Z",
     "iopub.status.busy": "2025-02-19T17:22:26.449798Z",
     "iopub.status.idle": "2025-02-19T17:22:26.681541Z",
     "shell.execute_reply": "2025-02-19T17:22:26.681067Z",
     "shell.execute_reply.started": "2025-02-19T17:22:26.449917Z"
    }
   },
   "outputs": [],
   "source": [
    "skymap = butler.get('skyMap', skymap=skymapName, collections=collection)"
   ]
  },
  {
   "cell_type": "code",
   "execution_count": null,
   "id": "826aebd4-b08d-4259-a715-2274b75182c2",
   "metadata": {
    "execution": {
     "iopub.execute_input": "2025-02-19T17:22:26.682334Z",
     "iopub.status.busy": "2025-02-19T17:22:26.682010Z",
     "iopub.status.idle": "2025-02-19T17:22:26.684362Z",
     "shell.execute_reply": "2025-02-19T17:22:26.684017Z",
     "shell.execute_reply.started": "2025-02-19T17:22:26.682321Z"
    }
   },
   "outputs": [],
   "source": [
    "# Check here the collections available\n",
    "#for _ in registry.queryCollections():\n",
    "#    if \"LSSTComCam/runs/DRP/DP1/w_2025_05\" in _:\n",
    "#        print(_)"
   ]
  },
  {
   "cell_type": "code",
   "execution_count": null,
   "id": "d6dbd6d0-8f6c-441a-b465-b983e87cef9f",
   "metadata": {
    "execution": {
     "iopub.execute_input": "2025-02-19T17:22:26.687347Z",
     "iopub.status.busy": "2025-02-19T17:22:26.687083Z",
     "iopub.status.idle": "2025-02-19T17:22:26.691467Z",
     "shell.execute_reply": "2025-02-19T17:22:26.691108Z",
     "shell.execute_reply.started": "2025-02-19T17:22:26.687333Z"
    }
   },
   "outputs": [],
   "source": [
    "# List a number of usefull data-product to explore\n",
    "if 0:\n",
    "    for datasetType in registry.queryDatasetTypes():\n",
    "        if registry.queryDatasets(datasetType, collections=collection).any(\n",
    "            execute=False, exact=False\n",
    "        ):\n",
    "            # Limit search results to the data products\n",
    "            if (\n",
    "                (\"_config\" not in datasetType.name)\n",
    "                and (\"_log\" not in datasetType.name)\n",
    "                and (\"_metadata\" not in datasetType.name)\n",
    "                and (\"_resource_usage\" not in datasetType.name)\n",
    "                and ((\"Table\" in datasetType.name) or (\"Zeropointp\" in datasetType.name) or (\"fgcm\" in datasetType.name) or (\"transm\" in datasetType.name) or (\"Transm\" in datasetType.name) )\n",
    "            ):\n",
    "                print(datasetType)"
   ]
  },
  {
   "cell_type": "markdown",
   "id": "57be8008-c849-440e-9bae-8649564d3373",
   "metadata": {},
   "source": [
    "## Get list of Tracts and Patches"
   ]
  },
  {
   "cell_type": "code",
   "execution_count": null,
   "id": "c0823ed5-9b23-4548-af23-12d707772667",
   "metadata": {
    "execution": {
     "iopub.execute_input": "2025-02-19T17:22:26.692029Z",
     "iopub.status.busy": "2025-02-19T17:22:26.691911Z",
     "iopub.status.idle": "2025-02-19T17:22:26.757287Z",
     "shell.execute_reply": "2025-02-19T17:22:26.756859Z",
     "shell.execute_reply.started": "2025-02-19T17:22:26.692018Z"
    }
   },
   "outputs": [],
   "source": [
    "datasettype = \"objectTable_tract\"\n",
    "therefs = butler.registry.queryDatasets(datasettype,  collections=collection)"
   ]
  },
  {
   "cell_type": "code",
   "execution_count": null,
   "id": "f810d737-c393-40bb-bc60-32e3706cf4a0",
   "metadata": {
    "execution": {
     "iopub.execute_input": "2025-02-19T17:22:26.757811Z",
     "iopub.status.busy": "2025-02-19T17:22:26.757690Z",
     "iopub.status.idle": "2025-02-19T17:22:26.766721Z",
     "shell.execute_reply": "2025-02-19T17:22:26.766334Z",
     "shell.execute_reply.started": "2025-02-19T17:22:26.757800Z"
    }
   },
   "outputs": [],
   "source": [
    "tractsId_list = np.unique([ref.dataId['tract'] for ref in therefs])\n",
    "tractsId_list = sorted(tractsId_list)\n",
    "print(tractsId_list)"
   ]
  },
  {
   "cell_type": "code",
   "execution_count": null,
   "id": "3448b11c-a3d8-49b8-a217-f7c338ee455b",
   "metadata": {
    "execution": {
     "iopub.execute_input": "2025-02-19T17:22:26.767282Z",
     "iopub.status.busy": "2025-02-19T17:22:26.767150Z",
     "iopub.status.idle": "2025-02-19T17:23:19.184424Z",
     "shell.execute_reply": "2025-02-19T17:23:19.183973Z",
     "shell.execute_reply.started": "2025-02-19T17:22:26.767270Z"
    }
   },
   "outputs": [],
   "source": [
    "dict_tractpatches = {}\n",
    "for ref in therefs:\n",
    "    tract = ref.dataId[\"tract\"]\n",
    "    table = butler.get(ref) \n",
    "    list_of_patches = table['patch'].unique()\n",
    "    dict_tractpatches[tract] = list_of_patches"
   ]
  },
  {
   "cell_type": "markdown",
   "id": "047029ac-f97b-4e6e-93ce-7850e75e525b",
   "metadata": {},
   "source": [
    "## Get CCD Visits"
   ]
  },
  {
   "cell_type": "code",
   "execution_count": null,
   "id": "fb929f80-0250-495a-8971-cc888e44b0ab",
   "metadata": {
    "execution": {
     "iopub.execute_input": "2025-02-19T17:23:19.185083Z",
     "iopub.status.busy": "2025-02-19T17:23:19.184946Z",
     "iopub.status.idle": "2025-02-19T17:23:19.306928Z",
     "shell.execute_reply": "2025-02-19T17:23:19.306494Z",
     "shell.execute_reply.started": "2025-02-19T17:23:19.185070Z"
    }
   },
   "outputs": [],
   "source": [
    "datasettype = \"ccdVisitTable\"\n",
    "ccd_visit_table = butler.get(datasettype,collections=collection)"
   ]
  },
  {
   "cell_type": "code",
   "execution_count": null,
   "id": "c0ea7f3a-1aa0-462e-8e94-274e6e533466",
   "metadata": {
    "execution": {
     "iopub.execute_input": "2025-02-19T17:23:19.307559Z",
     "iopub.status.busy": "2025-02-19T17:23:19.307429Z",
     "iopub.status.idle": "2025-02-19T17:23:19.402913Z",
     "shell.execute_reply": "2025-02-19T17:23:19.402464Z",
     "shell.execute_reply.started": "2025-02-19T17:23:19.307546Z"
    }
   },
   "outputs": [],
   "source": [
    "# Compute nightobs\n",
    "ccd_visit_table[\"nightObs\"] = ccd_visit_table.apply(lambda x: x['visitId']//100_000, axis=1)"
   ]
  },
  {
   "cell_type": "code",
   "execution_count": null,
   "id": "c37f1530-4cb9-4e56-b50a-730df4f76de7",
   "metadata": {
    "execution": {
     "iopub.execute_input": "2025-02-19T17:23:19.403557Z",
     "iopub.status.busy": "2025-02-19T17:23:19.403427Z",
     "iopub.status.idle": "2025-02-19T17:23:19.411926Z",
     "shell.execute_reply": "2025-02-19T17:23:19.411585Z",
     "shell.execute_reply.started": "2025-02-19T17:23:19.403545Z"
    }
   },
   "outputs": [],
   "source": [
    "#  compute time\n",
    "ccd_visit_table[\"Time\"] = pd.to_datetime(ccd_visit_table['obsStart'])"
   ]
  },
  {
   "cell_type": "code",
   "execution_count": null,
   "id": "757eb7f7-6e37-4046-98e3-f43c52728cb8",
   "metadata": {
    "execution": {
     "iopub.execute_input": "2025-02-19T17:23:19.412509Z",
     "iopub.status.busy": "2025-02-19T17:23:19.412388Z",
     "iopub.status.idle": "2025-02-19T17:23:19.431989Z",
     "shell.execute_reply": "2025-02-19T17:23:19.431652Z",
     "shell.execute_reply.started": "2025-02-19T17:23:19.412498Z"
    }
   },
   "outputs": [],
   "source": [
    "# get airmass\n",
    "ccd_visit_table[\"airmass\"] = ccd_visit_table[\"zenithDistance\"].apply(lambda x: 1/np.cos(np.pi/180.*x))"
   ]
  },
  {
   "cell_type": "code",
   "execution_count": null,
   "id": "d5e9f185-f954-471d-8510-3f209ae8ede6",
   "metadata": {
    "execution": {
     "iopub.execute_input": "2025-02-19T17:23:19.432528Z",
     "iopub.status.busy": "2025-02-19T17:23:19.432408Z",
     "iopub.status.idle": "2025-02-19T17:23:19.435378Z",
     "shell.execute_reply": "2025-02-19T17:23:19.435023Z",
     "shell.execute_reply.started": "2025-02-19T17:23:19.432517Z"
    }
   },
   "outputs": [],
   "source": [
    "# Short visit ID\n",
    "ccd_visit_table[\"ccdVid\"] = ccd_visit_table.index -  ccd_visit_table.index[0]\n",
    "ccd_visit_table[\"Vid\"] = ccd_visit_table[\"visitId\"]  -   ccd_visit_table[\"visitId\"].iloc[0]"
   ]
  },
  {
   "cell_type": "code",
   "execution_count": null,
   "id": "61c310a1-e241-475f-b148-9e7f45453b04",
   "metadata": {
    "execution": {
     "iopub.execute_input": "2025-02-19T17:23:19.435918Z",
     "iopub.status.busy": "2025-02-19T17:23:19.435801Z",
     "iopub.status.idle": "2025-02-19T17:23:19.459103Z",
     "shell.execute_reply": "2025-02-19T17:23:19.458756Z",
     "shell.execute_reply.started": "2025-02-19T17:23:19.435907Z"
    }
   },
   "outputs": [],
   "source": [
    "ccd_visit_table"
   ]
  },
  {
   "cell_type": "markdown",
   "id": "3f549a32-c024-4aea-924f-ed817c6ade9b",
   "metadata": {},
   "source": [
    "### Associate Tract and Patch for each visit\n",
    "\n",
    "To associate Tract and Patch to every visit is a long procedure. This association is done at the first pass time in this notebook\n",
    "and written into a csv file. At next execution, this visitid-tract-patch is read into a pandas dtaframe. The association is done\n",
    "on a pair of columns ((visitId,detector)."
   ]
  },
  {
   "cell_type": "code",
   "execution_count": null,
   "id": "02920a07-2718-4e0d-946e-01d46de620de",
   "metadata": {
    "execution": {
     "iopub.execute_input": "2025-02-19T17:23:19.459649Z",
     "iopub.status.busy": "2025-02-19T17:23:19.459529Z",
     "iopub.status.idle": "2025-02-19T17:23:19.515680Z",
     "shell.execute_reply": "2025-02-19T17:23:19.515231Z",
     "shell.execute_reply.started": "2025-02-19T17:23:19.459638Z"
    }
   },
   "outputs": [],
   "source": [
    "# to speed up the calculation of tractID, patchID per visit, this file is saved\n",
    "# or read back\n",
    "if os.path.isfile(fn_ccdVisit_tracts_patches):\n",
    "    print(f\"{fn_ccdVisit_tracts_patches} found !!! ==> Read it !!!\" )\n",
    "    ccd_visit_tract_patch_table = pd.read_csv(fn_ccdVisit_tracts_patches,index_col=0) \n",
    "    # need to add only \"tractID\",\"patchID\" to ccd_visit_table\n",
    "    ccd_visit_tract_patch_table_only = ccd_visit_tract_patch_table[[\"visitId\",\"detector\",\"tractID\",\"patchID\"]]\n",
    "    # do the merging on the columns (visitId,detector), does not add suffixes to column names\n",
    "    new_df = pd.merge(\n",
    "    left=ccd_visit_table, \n",
    "    right=ccd_visit_tract_patch_table_only,\n",
    "    how='left',\n",
    "    left_on=['visitId', 'detector'],\n",
    "    right_on=['visitId', 'detector'], suffixes=('', ''))\n",
    "    #Overwrite the ccd_visit_table by the merge result\n",
    "    new_df\n",
    "    ccd_visit_table=new_df\n",
    "else:\n",
    "    print(f\"{fn_ccdVisit_tracts_patches} NOT found !!! ==> Create it !!! \" )\n",
    "    ccd_visit_table[[\"tractID\",\"patchID\"]] = ccd_visit_table.apply(FindTractAndPatch, axis=1,result_type ='expand')\n",
    "    # check if some (tract,patch) search failed\n",
    "    ccd_visit_table_patchnotfound = ccd_visit_table[ccd_visit_table.patchID==0]\n",
    "    if len(ccd_visit_table_patchnotfound)>0:\n",
    "        ccd_visit_table_patchnotfound.drop(columns=[\"tractID\",\"patchID\"],inplace=True)\n",
    "        ccd_visit_table_patchnotfound[[\"tractID\",\"patchID\"]] = ccd_visit_table_patchnotfound.apply(FindTractAndPatchFromAngularSep, axis=1,result_type ='expand')\n",
    "        for visitindex, row in ccd_visit_table_patchnotfound.iterrows(): \n",
    "            ccd_visit_table.loc[visitindex,[\"tractID\",\"patchID\"]] = ccd_visit_table_patchnotfound.loc[visitindex,[\"tractID\",\"patchID\"]]\n",
    "    #save a subsample for the visit \n",
    "    columns_selected = [\"visitId\",\"band\",\"detector\",\"ra\",\"dec\",\"llcra\",\"llcdec\",\"ulcra\",\"ulcdec\",\"urcra\",\"urcdec\",\"lrcra\",\"lrcdec\",\"ccdVid\",\"Vid\",\"nightObs\",\"tractID\",\"patchID\",\"zeroPoint\",\"airmass\",\"skyBg\",\"skyNoise\",\"expTime\"]\n",
    "    ccd_visit_tract_patch_table = ccd_visit_table[columns_selected]\n",
    "    ccd_visit_tract_patch_table.to_csv(fn_ccdVisit_tracts_patches) \n"
   ]
  },
  {
   "cell_type": "code",
   "execution_count": null,
   "id": "29b81249-404c-44ed-9fd4-9911ab240ef2",
   "metadata": {
    "execution": {
     "iopub.execute_input": "2025-02-19T17:23:19.516317Z",
     "iopub.status.busy": "2025-02-19T17:23:19.516184Z",
     "iopub.status.idle": "2025-02-19T17:23:19.526995Z",
     "shell.execute_reply": "2025-02-19T17:23:19.526589Z",
     "shell.execute_reply.started": "2025-02-19T17:23:19.516304Z"
    }
   },
   "outputs": [],
   "source": [
    "ccd_visit_table.head()"
   ]
  },
  {
   "cell_type": "markdown",
   "id": "b7b1c974-03f3-460f-b1b1-0052d2fd7f5c",
   "metadata": {},
   "source": [
    "## Plot One visit"
   ]
  },
  {
   "cell_type": "code",
   "execution_count": null,
   "id": "0cb077b6-47dc-4ccf-a5f3-e395f33e122b",
   "metadata": {
    "execution": {
     "iopub.execute_input": "2025-02-19T17:23:19.527541Z",
     "iopub.status.busy": "2025-02-19T17:23:19.527417Z",
     "iopub.status.idle": "2025-02-19T17:23:19.658789Z",
     "shell.execute_reply": "2025-02-19T17:23:19.658403Z",
     "shell.execute_reply.started": "2025-02-19T17:23:19.527529Z"
    }
   },
   "outputs": [],
   "source": [
    "fig,ax = plt.subplots(1,1,figsize=(6,6))\n",
    "plotAVisit(ccd_visit_table.iloc[0],ax=ax)\n",
    "ax.set_aspect('equal')\n",
    "ax.set_title(f\"{instrument} \\n {collectionStr}\",fontsize=12)"
   ]
  },
  {
   "cell_type": "markdown",
   "id": "cbb52584-702a-470e-b66a-f4b52846e749",
   "metadata": {
    "execution": {
     "iopub.execute_input": "2025-02-13T13:35:33.617502Z",
     "iopub.status.busy": "2025-02-13T13:35:33.617367Z",
     "iopub.status.idle": "2025-02-13T13:35:33.713933Z",
     "shell.execute_reply": "2025-02-13T13:35:33.713060Z",
     "shell.execute_reply.started": "2025-02-13T13:35:33.617490Z"
    }
   },
   "source": [
    "## 3) Statistics"
   ]
  },
  {
   "cell_type": "markdown",
   "id": "d94d8f82-4951-472d-9b7b-ac2bc8578927",
   "metadata": {},
   "source": [
    "### 3.1) Statistics per detectors and per filter"
   ]
  },
  {
   "cell_type": "code",
   "execution_count": null,
   "id": "d2f17fa8-dcfe-4b99-9ea3-22762cda96e2",
   "metadata": {
    "execution": {
     "iopub.execute_input": "2025-02-19T17:23:19.659403Z",
     "iopub.status.busy": "2025-02-19T17:23:19.659269Z",
     "iopub.status.idle": "2025-02-19T17:23:19.664302Z",
     "shell.execute_reply": "2025-02-19T17:23:19.663920Z",
     "shell.execute_reply.started": "2025-02-19T17:23:19.659390Z"
    }
   },
   "outputs": [],
   "source": [
    "ser_ccdvisit_perdetectorband_size = ccd_visit_table.groupby([\"detector\",\"band\"]).size()"
   ]
  },
  {
   "cell_type": "code",
   "execution_count": null,
   "id": "56096414-3098-4a8c-9bac-92444cd30f04",
   "metadata": {
    "execution": {
     "iopub.execute_input": "2025-02-19T17:23:19.664887Z",
     "iopub.status.busy": "2025-02-19T17:23:19.664752Z",
     "iopub.status.idle": "2025-02-19T17:23:19.670538Z",
     "shell.execute_reply": "2025-02-19T17:23:19.670168Z",
     "shell.execute_reply.started": "2025-02-19T17:23:19.664875Z"
    }
   },
   "outputs": [],
   "source": [
    "ser_ccdvisit_perdetectorband_size"
   ]
  },
  {
   "cell_type": "code",
   "execution_count": null,
   "id": "de768a71-17ff-4398-9e16-fcd6b11a0b7e",
   "metadata": {
    "execution": {
     "iopub.execute_input": "2025-02-19T17:23:19.671093Z",
     "iopub.status.busy": "2025-02-19T17:23:19.670974Z",
     "iopub.status.idle": "2025-02-19T17:23:19.681023Z",
     "shell.execute_reply": "2025-02-19T17:23:19.680656Z",
     "shell.execute_reply.started": "2025-02-19T17:23:19.671082Z"
    }
   },
   "outputs": [],
   "source": [
    "df_ccdvisit_perdetectorband = ser_ccdvisit_perdetectorband_size.unstack(level=1)\n",
    "df_ccdvisit_perdetectorband "
   ]
  },
  {
   "cell_type": "code",
   "execution_count": null,
   "id": "457cb8ac-e605-4625-b535-68cc9f50aa26",
   "metadata": {
    "execution": {
     "iopub.execute_input": "2025-02-19T17:23:19.681605Z",
     "iopub.status.busy": "2025-02-19T17:23:19.681483Z",
     "iopub.status.idle": "2025-02-19T17:23:19.684415Z",
     "shell.execute_reply": "2025-02-19T17:23:19.684054Z",
     "shell.execute_reply.started": "2025-02-19T17:23:19.681594Z"
    }
   },
   "outputs": [],
   "source": [
    "# retorder filters\n",
    "df_ccdvisit_perdetectorband = df_ccdvisit_perdetectorband[[\"u\",\"g\",\"r\",\"i\",\"z\",\"y\"]]"
   ]
  },
  {
   "cell_type": "code",
   "execution_count": null,
   "id": "d864f75f-3330-420b-a964-517d64337bb7",
   "metadata": {
    "execution": {
     "iopub.execute_input": "2025-02-19T17:23:19.684985Z",
     "iopub.status.busy": "2025-02-19T17:23:19.684869Z",
     "iopub.status.idle": "2025-02-19T17:23:19.690836Z",
     "shell.execute_reply": "2025-02-19T17:23:19.690483Z",
     "shell.execute_reply.started": "2025-02-19T17:23:19.684974Z"
    }
   },
   "outputs": [],
   "source": [
    "my_colors = list(islice(cycle(['b','g', 'r', 'orange','grey','purple']), None, len(df_ccdvisit_perdetectorband)))"
   ]
  },
  {
   "cell_type": "code",
   "execution_count": null,
   "id": "c0e26f25-f1a0-4dd4-bb65-39b448debecf",
   "metadata": {
    "execution": {
     "iopub.execute_input": "2025-02-19T17:23:19.691426Z",
     "iopub.status.busy": "2025-02-19T17:23:19.691302Z",
     "iopub.status.idle": "2025-02-19T17:23:19.903393Z",
     "shell.execute_reply": "2025-02-19T17:23:19.902983Z",
     "shell.execute_reply.started": "2025-02-19T17:23:19.691415Z"
    }
   },
   "outputs": [],
   "source": [
    "fig,ax = plt.subplots(1,1,figsize=(16,6))\n",
    "df_ccdvisit_perdetectorband.plot.bar(color=my_colors,ax=ax,rot=0,title=f\"{instrument} : Nb of ccdvisits per detector and per filter\") \n",
    "ax.legend(bbox_to_anchor=(1.1, 1.05))\n",
    "plt.suptitle(f\"{instrument} , {collectionStr}\",fontsize=12)"
   ]
  },
  {
   "cell_type": "code",
   "execution_count": null,
   "id": "95e4b5ff-871f-4e2f-b5a0-91ce613b163d",
   "metadata": {
    "execution": {
     "iopub.execute_input": "2025-02-19T17:23:19.904005Z",
     "iopub.status.busy": "2025-02-19T17:23:19.903875Z",
     "iopub.status.idle": "2025-02-19T17:23:19.906592Z",
     "shell.execute_reply": "2025-02-19T17:23:19.906239Z",
     "shell.execute_reply.started": "2025-02-19T17:23:19.903993Z"
    }
   },
   "outputs": [],
   "source": [
    "cmap = ListedColormap(sns.color_palette(\"hls\", NDET))\n",
    "all_det_colors = [cmap.colors[idx] for idx in range(NDET)]"
   ]
  },
  {
   "cell_type": "code",
   "execution_count": null,
   "id": "9e27ac38-70b0-4e66-90aa-16158252fadb",
   "metadata": {
    "execution": {
     "iopub.execute_input": "2025-02-19T17:23:19.907099Z",
     "iopub.status.busy": "2025-02-19T17:23:19.906983Z",
     "iopub.status.idle": "2025-02-19T17:23:19.916324Z",
     "shell.execute_reply": "2025-02-19T17:23:19.915959Z",
     "shell.execute_reply.started": "2025-02-19T17:23:19.907089Z"
    }
   },
   "outputs": [],
   "source": [
    "df_ccdvisit_perdetectorband = ser_ccdvisit_perdetectorband_size.unstack(level=0)\n",
    "df_ccdvisit_perdetectorband "
   ]
  },
  {
   "cell_type": "code",
   "execution_count": null,
   "id": "55a63f59-491a-4948-b995-ee198fcf9b96",
   "metadata": {
    "execution": {
     "iopub.execute_input": "2025-02-19T17:23:19.916874Z",
     "iopub.status.busy": "2025-02-19T17:23:19.916753Z",
     "iopub.status.idle": "2025-02-19T17:23:20.120213Z",
     "shell.execute_reply": "2025-02-19T17:23:20.119816Z",
     "shell.execute_reply.started": "2025-02-19T17:23:19.916863Z"
    }
   },
   "outputs": [],
   "source": [
    "fig,ax = plt.subplots(1,1,figsize=(16,6))\n",
    "df_ccdvisit_perdetectorband.plot.bar(ax=ax,color=all_det_colors,rot=0,title=f\"{instrument} : Number of CCDvisits per filter and per detector\")\n",
    "#ax.legend(loc=\"upper right\")\n",
    "ax.legend(bbox_to_anchor=(1.1, 1.05))\n",
    "plt.suptitle(f\"{instrument} , {collectionStr}\",fontsize=12)"
   ]
  },
  {
   "cell_type": "code",
   "execution_count": null,
   "id": "36682a9a-63b2-42ba-83a0-736a2596c5bf",
   "metadata": {
    "execution": {
     "iopub.execute_input": "2025-02-19T17:23:20.120823Z",
     "iopub.status.busy": "2025-02-19T17:23:20.120695Z",
     "iopub.status.idle": "2025-02-19T17:23:20.407157Z",
     "shell.execute_reply": "2025-02-19T17:23:20.406633Z",
     "shell.execute_reply.started": "2025-02-19T17:23:20.120812Z"
    }
   },
   "outputs": [],
   "source": [
    "my_colors = list(islice(cycle(['b','g', 'r', 'orange','grey','purple']), None, NDET))\n",
    "fig,ax = plt.subplots(1,1,figsize=(18,6))\n",
    "ser_ccdvisit_perdetectorband_size.plot.bar(x=\"detector\",color=my_colors,title=f\"{instrument} : Number of ccdvisits per detector and per filter\")\n",
    "plt.suptitle(f\"{instrument} , {collectionStr}\",fontsize=12)"
   ]
  },
  {
   "cell_type": "markdown",
   "id": "a7f9a1be-f008-4682-b0bb-64acaeaeea6f",
   "metadata": {},
   "source": [
    "### 3.2) Statistics on Visits per tract"
   ]
  },
  {
   "cell_type": "code",
   "execution_count": null,
   "id": "a0c628cd-a3d3-435f-9e3e-84c97981cb7e",
   "metadata": {
    "execution": {
     "iopub.execute_input": "2025-02-19T17:23:20.407768Z",
     "iopub.status.busy": "2025-02-19T17:23:20.407631Z",
     "iopub.status.idle": "2025-02-19T17:23:20.413135Z",
     "shell.execute_reply": "2025-02-19T17:23:20.412785Z",
     "shell.execute_reply.started": "2025-02-19T17:23:20.407757Z"
    }
   },
   "outputs": [],
   "source": [
    "ser_tract_det_size = ccd_visit_table[[\"Vid\",\"ccdVid\",\"detector\",\"tractID\",\"patchID\"]].groupby([\"tractID\",\"detector\"]).size()"
   ]
  },
  {
   "cell_type": "code",
   "execution_count": null,
   "id": "866239dd-1d99-4113-856b-a21b4a2eb4d8",
   "metadata": {
    "execution": {
     "iopub.execute_input": "2025-02-19T17:23:20.413704Z",
     "iopub.status.busy": "2025-02-19T17:23:20.413578Z",
     "iopub.status.idle": "2025-02-19T17:23:20.418675Z",
     "shell.execute_reply": "2025-02-19T17:23:20.418355Z",
     "shell.execute_reply.started": "2025-02-19T17:23:20.413693Z"
    }
   },
   "outputs": [],
   "source": [
    "ser_tract_det_size"
   ]
  },
  {
   "cell_type": "code",
   "execution_count": null,
   "id": "3c341577-575b-47f4-902d-16230f304c49",
   "metadata": {
    "execution": {
     "iopub.execute_input": "2025-02-19T17:23:20.419194Z",
     "iopub.status.busy": "2025-02-19T17:23:20.419071Z",
     "iopub.status.idle": "2025-02-19T17:23:20.425498Z",
     "shell.execute_reply": "2025-02-19T17:23:20.425160Z",
     "shell.execute_reply.started": "2025-02-19T17:23:20.419183Z"
    }
   },
   "outputs": [],
   "source": [
    "df_ccdvisit_pertractdet = ser_tract_det_size.unstack(level=1)"
   ]
  },
  {
   "cell_type": "code",
   "execution_count": null,
   "id": "3601677a-7efa-4fd6-a576-b791b2cec63a",
   "metadata": {
    "execution": {
     "iopub.execute_input": "2025-02-19T17:23:20.426096Z",
     "iopub.status.busy": "2025-02-19T17:23:20.425980Z",
     "iopub.status.idle": "2025-02-19T17:23:20.441850Z",
     "shell.execute_reply": "2025-02-19T17:23:20.441515Z",
     "shell.execute_reply.started": "2025-02-19T17:23:20.426085Z"
    }
   },
   "outputs": [],
   "source": [
    "df_ccdvisit_pertractdet"
   ]
  },
  {
   "cell_type": "code",
   "execution_count": null,
   "id": "29601ab3-6581-4657-8406-3ef1adc22810",
   "metadata": {
    "execution": {
     "iopub.execute_input": "2025-02-19T17:23:20.442374Z",
     "iopub.status.busy": "2025-02-19T17:23:20.442254Z",
     "iopub.status.idle": "2025-02-19T17:23:20.853738Z",
     "shell.execute_reply": "2025-02-19T17:23:20.853372Z",
     "shell.execute_reply.started": "2025-02-19T17:23:20.442363Z"
    }
   },
   "outputs": [],
   "source": [
    "fig,ax = plt.subplots(1,1,figsize=(18,6))\n",
    "df_ccdvisit_pertractdet.plot.bar(ax=ax,color=all_det_colors,title=f\"{instrument} :Number of ccdvisits per patch per detector\",grid=True) \n",
    "ax.legend(bbox_to_anchor=(1.1, 1.05))\n",
    "plt.suptitle(f\"{instrument} , {collectionStr}\",fontsize=12)"
   ]
  },
  {
   "cell_type": "markdown",
   "id": "dc1aba0f-e95a-446e-8afb-5acb29cd6608",
   "metadata": {},
   "source": [
    "## Vid and TractID"
   ]
  },
  {
   "cell_type": "code",
   "execution_count": null,
   "id": "9b32b84e-4f58-41a2-a682-8829cd8c7761",
   "metadata": {
    "execution": {
     "iopub.execute_input": "2025-02-19T17:23:20.854332Z",
     "iopub.status.busy": "2025-02-19T17:23:20.854205Z",
     "iopub.status.idle": "2025-02-19T17:23:20.857113Z",
     "shell.execute_reply": "2025-02-19T17:23:20.856779Z",
     "shell.execute_reply.started": "2025-02-19T17:23:20.854320Z"
    }
   },
   "outputs": [],
   "source": [
    "List_OfTracts = df_ccdvisit_pertractdet.index\n",
    "NTracts = len(List_OfTracts)-1\n",
    "NTracts"
   ]
  },
  {
   "cell_type": "code",
   "execution_count": null,
   "id": "c590ca6d-26e7-4071-afbe-78d3eddeefe9",
   "metadata": {
    "execution": {
     "iopub.execute_input": "2025-02-19T17:23:20.857641Z",
     "iopub.status.busy": "2025-02-19T17:23:20.857523Z",
     "iopub.status.idle": "2025-02-19T17:23:20.863273Z",
     "shell.execute_reply": "2025-02-19T17:23:20.862935Z",
     "shell.execute_reply.started": "2025-02-19T17:23:20.857630Z"
    }
   },
   "outputs": [],
   "source": [
    "cmap = ListedColormap(sns.color_palette(\"hls\", NTracts))\n",
    "list_tracts_colors = [cmap.colors[idx] for idx in range(NTracts)]"
   ]
  },
  {
   "cell_type": "code",
   "execution_count": null,
   "id": "44b84e66-aee2-404f-97ef-aa4b30b25423",
   "metadata": {
    "execution": {
     "iopub.execute_input": "2025-02-19T17:23:20.863780Z",
     "iopub.status.busy": "2025-02-19T17:23:20.863663Z",
     "iopub.status.idle": "2025-02-19T17:23:20.868980Z",
     "shell.execute_reply": "2025-02-19T17:23:20.868664Z",
     "shell.execute_reply.started": "2025-02-19T17:23:20.863770Z"
    }
   },
   "outputs": [],
   "source": [
    "list_tracts_colors = [ colors.to_rgb('k') ] + list_tracts_colors"
   ]
  },
  {
   "cell_type": "code",
   "execution_count": null,
   "id": "02b8d17e-eca3-4c73-845f-11beddb8eae4",
   "metadata": {
    "execution": {
     "iopub.execute_input": "2025-02-19T17:23:20.869500Z",
     "iopub.status.busy": "2025-02-19T17:23:20.869383Z",
     "iopub.status.idle": "2025-02-19T17:23:20.874394Z",
     "shell.execute_reply": "2025-02-19T17:23:20.874055Z",
     "shell.execute_reply.started": "2025-02-19T17:23:20.869490Z"
    }
   },
   "outputs": [],
   "source": [
    "dict_tract_colors = {}\n",
    "for idx,itr in enumerate(List_OfTracts):\n",
    "    dict_tract_colors[itr] = list_tracts_colors[idx]\n",
    "    "
   ]
  },
  {
   "cell_type": "code",
   "execution_count": null,
   "id": "737efd5c-5559-4aec-9896-ef0d641a89c7",
   "metadata": {
    "execution": {
     "iopub.execute_input": "2025-02-19T17:23:20.874938Z",
     "iopub.status.busy": "2025-02-19T17:23:20.874821Z",
     "iopub.status.idle": "2025-02-19T17:23:20.881745Z",
     "shell.execute_reply": "2025-02-19T17:23:20.881389Z",
     "shell.execute_reply.started": "2025-02-19T17:23:20.874927Z"
    }
   },
   "outputs": [],
   "source": [
    "all_colors = [ dict_tract_colors[itr] for itr in ccd_visit_table[\"tractID\"].values]"
   ]
  },
  {
   "cell_type": "code",
   "execution_count": null,
   "id": "7721a5bb-546a-4d7b-ba5f-f66d8c3f6c26",
   "metadata": {
    "execution": {
     "iopub.execute_input": "2025-02-19T17:23:20.882263Z",
     "iopub.status.busy": "2025-02-19T17:23:20.882141Z",
     "iopub.status.idle": "2025-02-19T17:23:21.396507Z",
     "shell.execute_reply": "2025-02-19T17:23:21.396095Z",
     "shell.execute_reply.started": "2025-02-19T17:23:20.882253Z"
    }
   },
   "outputs": [],
   "source": [
    "fig,ax = plt.subplots(1,1,figsize=(18,6))\n",
    "ccd_visit_table.plot.scatter(y=\"tractID\",x =\"visitId\",ax=ax,marker='o',color=all_colors,title=f\"{instrument} : tractID vs visit sequence number\",grid=True)\n",
    "plt.suptitle(f\"{instrument} , {collectionStr}\",fontsize=12)"
   ]
  },
  {
   "cell_type": "code",
   "execution_count": null,
   "id": "801fa53a-05b3-4a30-a38f-a5ba4a82f38a",
   "metadata": {
    "execution": {
     "iopub.execute_input": "2025-02-19T17:23:21.397140Z",
     "iopub.status.busy": "2025-02-19T17:23:21.397009Z",
     "iopub.status.idle": "2025-02-19T17:23:21.400875Z",
     "shell.execute_reply": "2025-02-19T17:23:21.400524Z",
     "shell.execute_reply.started": "2025-02-19T17:23:21.397128Z"
    }
   },
   "outputs": [],
   "source": [
    "ccd_visit_table[\"Time\"]"
   ]
  },
  {
   "cell_type": "code",
   "execution_count": null,
   "id": "cade4e08-e736-4287-a4b6-b1b692c6572f",
   "metadata": {
    "execution": {
     "iopub.execute_input": "2025-02-19T17:23:21.401413Z",
     "iopub.status.busy": "2025-02-19T17:23:21.401293Z",
     "iopub.status.idle": "2025-02-19T17:23:21.936930Z",
     "shell.execute_reply": "2025-02-19T17:23:21.936559Z",
     "shell.execute_reply.started": "2025-02-19T17:23:21.401401Z"
    }
   },
   "outputs": [],
   "source": [
    "fig,ax = plt.subplots(1,1,figsize=(18,6))\n",
    "ccd_visit_table.plot.scatter(y=\"tractID\",x =\"Time\",ax=ax,marker='o',rot=45,color=all_colors,title=f\"{instrument} : tractID vs date\",grid=True)\n",
    "plt.suptitle(f\"{instrument} , {collectionStr}\",fontsize=12)"
   ]
  },
  {
   "cell_type": "markdown",
   "id": "b98d0786-c282-4651-ab1a-776200dea7f0",
   "metadata": {},
   "source": [
    "### Statistics per night and per tracts"
   ]
  },
  {
   "cell_type": "code",
   "execution_count": null,
   "id": "af04c69a-9ba8-4a5d-a38f-b8027cc132de",
   "metadata": {
    "execution": {
     "iopub.execute_input": "2025-02-19T17:23:21.937533Z",
     "iopub.status.busy": "2025-02-19T17:23:21.937407Z",
     "iopub.status.idle": "2025-02-19T17:23:21.948767Z",
     "shell.execute_reply": "2025-02-19T17:23:21.948438Z",
     "shell.execute_reply.started": "2025-02-19T17:23:21.937521Z"
    }
   },
   "outputs": [],
   "source": [
    "df_stat_pertract = ccd_visit_table.groupby(by=[\"nightObs\",\"tractID\"]).count()[\"visitId\"]\n",
    "df_stat_pertract"
   ]
  },
  {
   "cell_type": "code",
   "execution_count": null,
   "id": "1f5111a4-fa42-44d2-aab2-209425afae2c",
   "metadata": {
    "execution": {
     "iopub.execute_input": "2025-02-19T17:23:21.949304Z",
     "iopub.status.busy": "2025-02-19T17:23:21.949184Z",
     "iopub.status.idle": "2025-02-19T17:23:22.846633Z",
     "shell.execute_reply": "2025-02-19T17:23:22.846239Z",
     "shell.execute_reply.started": "2025-02-19T17:23:21.949294Z"
    }
   },
   "outputs": [],
   "source": [
    "fig,ax = plt.subplots(1,1,figsize=(18,6))\n",
    "df_stat_pertract.unstack(level=1).plot(kind=\"bar\",ax=ax)\n",
    "ax.legend(bbox_to_anchor=(1.1, 1.05),ncols=2)\n",
    "ax.set_title(f\"{instrument} : number of visits per nightobs pertracts\")\n",
    "plt.suptitle(f\"{instrument} , {collectionStr}\",fontsize=12)\n",
    "plt.show()"
   ]
  },
  {
   "cell_type": "code",
   "execution_count": null,
   "id": "625b2b44-33f8-463e-bf2a-a5fce96d6fe1",
   "metadata": {
    "execution": {
     "iopub.execute_input": "2025-02-19T17:23:22.847264Z",
     "iopub.status.busy": "2025-02-19T17:23:22.847121Z",
     "iopub.status.idle": "2025-02-19T17:23:23.634175Z",
     "shell.execute_reply": "2025-02-19T17:23:23.633770Z",
     "shell.execute_reply.started": "2025-02-19T17:23:22.847251Z"
    }
   },
   "outputs": [],
   "source": [
    "fig,ax = plt.subplots(1,1,figsize=(18,6))\n",
    "df_stat_pertract.unstack(level=0).plot(kind='bar',ax=ax ,subplots=False, rot=90,figsize=(16,5),grid=True)\n",
    "ax.legend(bbox_to_anchor=(1.1, 1.05),ncols=2)\n",
    "ax.set_title(f\"{instrument} : number of visits per tracts per night\")\n",
    "plt.suptitle(f\"{instrument} , {collectionStr}\",fontsize=12)\n",
    "plt.show()"
   ]
  },
  {
   "cell_type": "markdown",
   "id": "14fe2e7e-d9af-45d5-930d-949d2334fe98",
   "metadata": {},
   "source": [
    "## Number of observations in each filters"
   ]
  },
  {
   "cell_type": "code",
   "execution_count": null,
   "id": "3b1e8f4f-6c5f-4e58-8c63-2bc6761497df",
   "metadata": {
    "execution": {
     "iopub.execute_input": "2025-02-19T17:23:23.634789Z",
     "iopub.status.busy": "2025-02-19T17:23:23.634660Z",
     "iopub.status.idle": "2025-02-19T17:23:23.650585Z",
     "shell.execute_reply": "2025-02-19T17:23:23.650255Z",
     "shell.execute_reply.started": "2025-02-19T17:23:23.634777Z"
    }
   },
   "outputs": [],
   "source": [
    "ccd_visit_table[ccd_visit_table[\"band\"] == \"u\"]"
   ]
  },
  {
   "cell_type": "code",
   "execution_count": null,
   "id": "e79ad6bf-dfad-4a5e-853d-66223e2825ce",
   "metadata": {
    "execution": {
     "iopub.execute_input": "2025-02-19T17:23:23.651102Z",
     "iopub.status.busy": "2025-02-19T17:23:23.650981Z",
     "iopub.status.idle": "2025-02-19T17:23:23.680705Z",
     "shell.execute_reply": "2025-02-19T17:23:23.680327Z",
     "shell.execute_reply.started": "2025-02-19T17:23:23.651091Z"
    }
   },
   "outputs": [],
   "source": [
    "df =  ccd_visit_table\n",
    "ccd_visit_table_counts = df.groupby(['nightObs','band']).count()[\"visitId\"]\n",
    "ccd_visit_table_counts_u = df[df[\"band\"] == \"u\"].groupby(['nightObs']).count()[\"visitId\"]\n",
    "ccd_visit_table_counts_g = df[df[\"band\"] == \"g\"].groupby(['nightObs']).count()[\"visitId\"]\n",
    "ccd_visit_table_counts_r = df[df[\"band\"] == \"r\"].groupby(['nightObs']).count()[\"visitId\"]\n",
    "ccd_visit_table_counts_i = df[df[\"band\"] == \"i\"].groupby(['nightObs']).count()[\"visitId\"]\n",
    "ccd_visit_table_counts_z = df[df[\"band\"] == \"z\"].groupby(['nightObs']).count()[\"visitId\"]\n",
    "ccd_visit_table_counts_y = df[df[\"band\"] == \"y\"].groupby(['nightObs']).count()[\"visitId\"]"
   ]
  },
  {
   "cell_type": "code",
   "execution_count": null,
   "id": "d2ab4de1-7081-484e-b188-727a98240d8a",
   "metadata": {
    "execution": {
     "iopub.execute_input": "2025-02-19T17:23:23.681247Z",
     "iopub.status.busy": "2025-02-19T17:23:23.681120Z",
     "iopub.status.idle": "2025-02-19T17:23:23.683964Z",
     "shell.execute_reply": "2025-02-19T17:23:23.683625Z",
     "shell.execute_reply.started": "2025-02-19T17:23:23.681235Z"
    }
   },
   "outputs": [],
   "source": [
    "def convertNumToDatestr(num):\n",
    "    year = num//10_000\n",
    "    month= (num-year*10_000)//100\n",
    "    day = (num-year*10_000-month*100)\n",
    "\n",
    "    year_str = str(year).zfill(4)\n",
    "    month_str = str(month).zfill(2)\n",
    "    day_str = str(day).zfill(2)\n",
    "    \n",
    "    datestr = f\"{year_str}-{month_str}-{day_str}\"\n",
    "    return pd.to_datetime(datestr)"
   ]
  },
  {
   "cell_type": "code",
   "execution_count": null,
   "id": "186a7d6c-d763-494e-9caf-43510d21acdc",
   "metadata": {
    "execution": {
     "iopub.execute_input": "2025-02-19T17:23:23.684491Z",
     "iopub.status.busy": "2025-02-19T17:23:23.684370Z",
     "iopub.status.idle": "2025-02-19T17:23:23.696296Z",
     "shell.execute_reply": "2025-02-19T17:23:23.695878Z",
     "shell.execute_reply.started": "2025-02-19T17:23:23.684480Z"
    }
   },
   "outputs": [],
   "source": [
    "dt_u = pd.to_datetime([convertNumToDatestr(num) for num in ccd_visit_table_counts_u.index])\n",
    "dt_g = pd.to_datetime([convertNumToDatestr(num) for num in ccd_visit_table_counts_g.index])\n",
    "dt_r = pd.to_datetime([convertNumToDatestr(num) for num in ccd_visit_table_counts_r.index ])\n",
    "dt_i = pd.to_datetime([convertNumToDatestr(num) for num in ccd_visit_table_counts_i.index ])\n",
    "dt_z = pd.to_datetime([convertNumToDatestr(num) for num in ccd_visit_table_counts_z.index ])\n",
    "dt_y = pd.to_datetime([convertNumToDatestr(num) for num in ccd_visit_table_counts_y.index ])"
   ]
  },
  {
   "cell_type": "code",
   "execution_count": null,
   "id": "429febab-887d-466f-97e6-a3194c1a6d9c",
   "metadata": {
    "execution": {
     "iopub.execute_input": "2025-02-19T17:23:23.696817Z",
     "iopub.status.busy": "2025-02-19T17:23:23.696697Z",
     "iopub.status.idle": "2025-02-19T17:23:23.702321Z",
     "shell.execute_reply": "2025-02-19T17:23:23.701983Z",
     "shell.execute_reply.started": "2025-02-19T17:23:23.696806Z"
    }
   },
   "outputs": [],
   "source": [
    "n_u = ccd_visit_table_counts_u.values\n",
    "n_g = ccd_visit_table_counts_g.values\n",
    "n_r = ccd_visit_table_counts_r.values\n",
    "n_i = ccd_visit_table_counts_i.values\n",
    "n_z = ccd_visit_table_counts_z.values\n",
    "n_y = ccd_visit_table_counts_y.values\n"
   ]
  },
  {
   "cell_type": "code",
   "execution_count": null,
   "id": "4e4dda99-cb45-4289-951f-585da75fd1ef",
   "metadata": {
    "execution": {
     "iopub.execute_input": "2025-02-19T17:23:23.702842Z",
     "iopub.status.busy": "2025-02-19T17:23:23.702726Z",
     "iopub.status.idle": "2025-02-19T17:23:23.709026Z",
     "shell.execute_reply": "2025-02-19T17:23:23.708690Z",
     "shell.execute_reply.started": "2025-02-19T17:23:23.702831Z"
    }
   },
   "outputs": [],
   "source": [
    "n_u_tot = np.sum(n_u)\n",
    "n_g_tot = np.sum(n_g)\n",
    "n_r_tot = np.sum(n_r)\n",
    "n_i_tot = np.sum(n_i)\n",
    "n_z_tot = np.sum(n_z)\n",
    "n_y_tot = np.sum(n_y)\n",
    "\n",
    "n_u_min = np.min(n_u)\n",
    "n_g_min = np.min(n_g)\n",
    "n_r_min = np.min(n_r)\n",
    "n_i_min = np.min(n_i)\n",
    "n_z_min = np.min(n_z)\n",
    "n_y_min = np.min(n_y)\n",
    "\n",
    "n_u_max = np.max(n_u)\n",
    "n_g_max = np.max(n_g)\n",
    "n_r_max = np.max(n_r)\n",
    "n_i_max = np.max(n_i)\n",
    "n_z_max = np.max(n_z)\n",
    "n_y_max = np.max(n_y)"
   ]
  },
  {
   "cell_type": "code",
   "execution_count": null,
   "id": "61f53212-1f5f-42cc-af80-d0b61d8b07e2",
   "metadata": {
    "execution": {
     "iopub.execute_input": "2025-02-19T17:23:23.712734Z",
     "iopub.status.busy": "2025-02-19T17:23:23.712609Z",
     "iopub.status.idle": "2025-02-19T17:23:23.715251Z",
     "shell.execute_reply": "2025-02-19T17:23:23.714902Z",
     "shell.execute_reply.started": "2025-02-19T17:23:23.712723Z"
    }
   },
   "outputs": [],
   "source": [
    "s_u = n_u.cumsum()\n",
    "s_g = n_g.cumsum()\n",
    "s_r = n_r.cumsum()\n",
    "s_i = n_i.cumsum()\n",
    "s_z = n_z.cumsum()\n",
    "s_y = n_y.cumsum()"
   ]
  },
  {
   "cell_type": "code",
   "execution_count": null,
   "id": "0455d0c9-326a-453a-9497-a5efe48da9b7",
   "metadata": {
    "execution": {
     "iopub.execute_input": "2025-02-19T17:23:23.715799Z",
     "iopub.status.busy": "2025-02-19T17:23:23.715681Z",
     "iopub.status.idle": "2025-02-19T17:23:25.334389Z",
     "shell.execute_reply": "2025-02-19T17:23:25.333973Z",
     "shell.execute_reply.started": "2025-02-19T17:23:23.715787Z"
    }
   },
   "outputs": [],
   "source": [
    "import matplotlib.dates as mdates\n",
    "month_locator = mdates.MonthLocator(interval=1)\n",
    "day_locator = mdates.DayLocator(interval=1)\n",
    "year_month_formatter = mdates.DateFormatter(\"%Y-%m-%d\") \n",
    "fig, axs = plt.subplots(6,1,figsize=(16, 16),sharex=True,layout=\"constrained\")\n",
    "\n",
    "ax0, ax1,ax2,ax3,ax4,ax5 = axs\n",
    "\n",
    "# fit 1\n",
    "#ax.plot(dt,df_spec_visit.values,marker='o', markersize=15,lw=0)\n",
    "ax0.bar(dt_u,n_u,lw=5,facecolor='b')\n",
    "ax0.xaxis.set_major_locator(month_locator) # Locator for major axis only.\n",
    "ax0.xaxis.set_minor_locator(day_locator)\n",
    "ax0.xaxis.set_major_formatter(year_month_formatter)\n",
    "ax0.grid()\n",
    "\n",
    "title0 = f\"number of phot obs per night in U\"\n",
    "#ax0.set_title(title0)\n",
    "\n",
    "\n",
    "# fit 1\n",
    "#ax.plot(dt,df_spec_visit.values,marker='o', markersize=15,lw=0)\n",
    "ax1.bar(dt_g,n_g,lw=5,facecolor='g')\n",
    "ax1.xaxis.set_major_locator(month_locator) # Locator for major axis only.\n",
    "ax1.xaxis.set_minor_locator(day_locator)\n",
    "ax1.xaxis.set_major_formatter(year_month_formatter)\n",
    "ax1.grid()\n",
    "\n",
    "title1 = f\"number of phot obs per night in G\"\n",
    "#ax1.set_title(title1)\n",
    "\n",
    "#fig.autofmt_xdate() # rotation\n",
    "ax1.set_xticks(ax1.get_xticks(), ax1.get_xticklabels(), rotation=45, ha='right')\n",
    "\n",
    "#ax2.bar(dt,df_spec_visit.cumsum().values,lw=5,facecolor='b')\n",
    "ax2.bar(dt_r,n_r,lw=5,facecolor='r')\n",
    "ax2.xaxis.set_major_locator(month_locator) # Locator for major axis only.\n",
    "ax2.xaxis.set_minor_locator(day_locator)\n",
    "ax2.xaxis.set_major_formatter(year_month_formatter)\n",
    "ax2.grid()\n",
    "\n",
    "#fig.autofmt_xdate() # rotation\n",
    "ax2.set_xticks(ax2.get_xticks(), ax2.get_xticklabels(), rotation=45, ha='right')\n",
    "title2 = f\"number of phot obs per night R\"\n",
    "#ax2.set_title(title2)\n",
    "\n",
    "#ax2.bar(dt,df_spec_visit.cumsum().values,lw=5,facecolor='b')\n",
    "ax3.bar(dt_i,n_i,lw=5,facecolor='orange')\n",
    "ax3.xaxis.set_major_locator(month_locator) # Locator for major axis only.\n",
    "ax3.xaxis.set_minor_locator(day_locator)\n",
    "ax3.xaxis.set_major_formatter(year_month_formatter)\n",
    "ax3.grid()\n",
    "\n",
    "#fig.autofmt_xdate() # rotation\n",
    "ax3.set_xticks(ax3.get_xticks(), ax3.get_xticklabels(), rotation=45, ha='right')\n",
    "title3 = f\"number of phot obs per night in I\"\n",
    "#ax3.set_title(title3)\n",
    "\n",
    "#ax2.bar(dt,df_spec_visit.cumsum().values,lw=5,facecolor='b')\n",
    "ax4.bar(dt_z,n_z,lw=5,facecolor='grey')\n",
    "ax4.xaxis.set_major_locator(month_locator) # Locator for major axis only.\n",
    "ax4.xaxis.set_minor_locator(day_locator)\n",
    "ax4.xaxis.set_major_formatter(year_month_formatter)\n",
    "ax4.grid()\n",
    "\n",
    "#fig.autofmt_xdate() # rotation\n",
    "ax4.set_xticks(ax4.get_xticks(), ax4.get_xticklabels(), rotation=45, ha='right')\n",
    "title4 = f\"number of phot obs per night in Z\"\n",
    "#ax4.set_title(title4)\n",
    "\n",
    "\n",
    "#ax2.bar(dt,df_spec_visit.cumsum().values,lw=5,facecolor='b')\n",
    "ax5.bar(dt_y,n_y,lw=5,facecolor='k')\n",
    "ax5.xaxis.set_major_locator(month_locator) # Locator for major axis only.\n",
    "ax5.xaxis.set_major_locator(day_locator)\n",
    "ax5.xaxis.set_major_formatter(year_month_formatter)\n",
    "ax5.grid()\n",
    "\n",
    "#fig.autofmt_xdate() # rotation\n",
    "ax5.set_xticks(ax5.get_xticks(), ax5.get_xticklabels(), rotation=45, ha='right')\n",
    "title5 = f\"number of phot obs per night in Y\"\n",
    "#ax5.set_title(title5)\n",
    "\n",
    "\n",
    "ax5.xaxis.set_major_locator(day_locator) #Every year\n",
    "plt.locator_params(axis=\"x\", nbins=10)\n",
    "\n",
    "plt.show()\n",
    "\n"
   ]
  },
  {
   "cell_type": "code",
   "execution_count": null,
   "id": "1a3f2f14-de71-4de1-b9c3-b25090d5440e",
   "metadata": {
    "execution": {
     "iopub.execute_input": "2025-02-19T17:23:25.335016Z",
     "iopub.status.busy": "2025-02-19T17:23:25.334882Z",
     "iopub.status.idle": "2025-02-19T17:23:26.103565Z",
     "shell.execute_reply": "2025-02-19T17:23:26.103157Z",
     "shell.execute_reply.started": "2025-02-19T17:23:25.335003Z"
    }
   },
   "outputs": [],
   "source": [
    "import matplotlib.dates as mdates\n",
    "month_locator = mdates.MonthLocator(interval=1)\n",
    "day_locator = mdates.DayLocator(interval=1)\n",
    "year_month_formatter = mdates.DateFormatter(\"%Y-%m\") \n",
    "fig, axs = plt.subplots(2,1,figsize=(20, 16),sharex=True)\n",
    "\n",
    "ax1,ax2 = axs\n",
    "\n",
    "dt = timedelta(hours=10)\n",
    "\n",
    "# fit 1\n",
    "#ax.plot(dt,df_spec_visit.values,marker='o', markersize=15,lw=0)\n",
    "ax1.bar(dt_u-dt,n_u,lw=5,facecolor='b',label=\"u\")\n",
    "ax1.bar(dt_g-dt,n_g,lw=5,facecolor='g',label=\"g\")\n",
    "ax1.bar(dt_r,n_r,lw=5,facecolor='r',label=\"r\")\n",
    "ax1.bar(dt_i+dt,n_i,lw=5,facecolor='orange',label=\"i\")\n",
    "ax1.bar(dt_z+2*dt,n_z,lw=5,facecolor='grey',label=\"z\")\n",
    "ax1.bar(dt_y+3*dt,n_y,lw=5,facecolor='k',label=\"y\")\n",
    "ax1.xaxis.set_major_locator(month_locator) # Locator for major axis only.\n",
    "ax1.xaxis.set_minor_locator(day_locator)\n",
    "ax1.xaxis.set_major_formatter(year_month_formatter)\n",
    "ax1.grid()\n",
    "ax1.legend()\n",
    "ax1.set_xticks(ax1.get_xticks(), ax1.get_xticklabels(), rotation=45, ha='right')\n",
    "\n",
    "title = f\"number of phot obs per night\"\n",
    "ax1.set_title(title)\n",
    "\n",
    "ax2.bar(dt_u-dt,s_u,lw=5,facecolor='b',label=\"u\")\n",
    "ax2.bar(dt_g-dt,s_g,lw=5,facecolor='g',label=\"g\")\n",
    "ax2.bar(dt_r,s_r,lw=5,facecolor='r',label=\"r\")\n",
    "ax2.bar(dt_i+dt,s_i,lw=5,facecolor='orange',label=\"i\")\n",
    "ax2.bar(dt_z+2*dt,s_z,lw=5,facecolor='grey',label=\"z\")\n",
    "ax2.bar(dt_y+3*dt,s_y,lw=5,facecolor='k',label=\"y\")\n",
    "ax2.xaxis.set_major_locator(month_locator) # Locator for major axis only.\n",
    "ax2.xaxis.set_major_locator(day_locator)\n",
    "ax2.xaxis.set_major_formatter(year_month_formatter)\n",
    "ax2.grid()\n",
    "ax2.legend()\n",
    "ax2.set_xticks(ax2.get_xticks(), ax2.get_xticklabels(), rotation=45, ha='right')\n",
    "\n",
    "title = f\"cumulative number of phot obs per night (n_tot_g = {n_g_tot} , n_r_tot = {n_r_tot} , n_i_tot = {n_i_tot} ,  n_z_tot = {n_z_tot}, n_y_tot = {n_y_tot})\"\n",
    "ax2.set_title(title)\n",
    "\n",
    "\n",
    "plt.tight_layout()"
   ]
  },
  {
   "cell_type": "code",
   "execution_count": null,
   "id": "14ba4ee2-f2fe-4855-b8a3-de4e0fc0c5c0",
   "metadata": {
    "execution": {
     "iopub.execute_input": "2025-02-19T17:23:26.104195Z",
     "iopub.status.busy": "2025-02-19T17:23:26.104053Z",
     "iopub.status.idle": "2025-02-19T17:23:26.108856Z",
     "shell.execute_reply": "2025-02-19T17:23:26.108511Z",
     "shell.execute_reply.started": "2025-02-19T17:23:26.104183Z"
    }
   },
   "outputs": [],
   "source": [
    "ccd_visit_table.band == \"b\""
   ]
  },
  {
   "cell_type": "code",
   "execution_count": null,
   "id": "b7560340-a02a-4c7f-8dc2-9882880b34b4",
   "metadata": {
    "execution": {
     "iopub.execute_input": "2025-02-19T17:23:26.109362Z",
     "iopub.status.busy": "2025-02-19T17:23:26.109244Z",
     "iopub.status.idle": "2025-02-19T17:23:26.125129Z",
     "shell.execute_reply": "2025-02-19T17:23:26.124771Z",
     "shell.execute_reply.started": "2025-02-19T17:23:26.109351Z"
    }
   },
   "outputs": [],
   "source": [
    "ccdVisitTable_u = ccd_visit_table[ccd_visit_table.band== \"u\"]\n",
    "ccdVisitTable_g = ccd_visit_table[ccd_visit_table.band== \"g\"]\n",
    "ccdVisitTable_r = ccd_visit_table[ccd_visit_table.band== \"r\"]\n",
    "ccdVisitTable_i = ccd_visit_table[ccd_visit_table.band== \"i\"]\n",
    "ccdVisitTable_z = ccd_visit_table[ccd_visit_table.band== \"z\"]\n",
    "ccdVisitTable_y = ccd_visit_table[ccd_visit_table.band== \"y\"]"
   ]
  },
  {
   "cell_type": "code",
   "execution_count": null,
   "id": "95479c12-d8e8-47c9-8089-e4fe8472d8fe",
   "metadata": {
    "execution": {
     "iopub.execute_input": "2025-02-19T17:23:26.125690Z",
     "iopub.status.busy": "2025-02-19T17:23:26.125570Z",
     "iopub.status.idle": "2025-02-19T17:23:26.128888Z",
     "shell.execute_reply": "2025-02-19T17:23:26.128546Z",
     "shell.execute_reply.started": "2025-02-19T17:23:26.125680Z"
    }
   },
   "outputs": [],
   "source": [
    "ccdVisitTable_u[\"zeroPoint\"]"
   ]
  },
  {
   "cell_type": "code",
   "execution_count": null,
   "id": "53000453-682a-4b57-9351-70e0b29610e3",
   "metadata": {
    "execution": {
     "iopub.execute_input": "2025-02-19T17:23:26.129420Z",
     "iopub.status.busy": "2025-02-19T17:23:26.129301Z",
     "iopub.status.idle": "2025-02-19T17:23:27.140525Z",
     "shell.execute_reply": "2025-02-19T17:23:27.140107Z",
     "shell.execute_reply.started": "2025-02-19T17:23:26.129409Z"
    }
   },
   "outputs": [],
   "source": [
    "from matplotlib.dates import DateFormatter\n",
    "date_form = DateFormatter(\"%y-%m-%d\")\n",
    "\n",
    "fig,axs = plt.subplots(4,1,figsize=(16,20),layout=\"constrained\")\n",
    "ax1,ax2,ax3,ax4 = axs\n",
    "leg1 = ax1.get_legend()\n",
    "leg2 = ax2.get_legend()\n",
    "leg3 = ax3.get_legend()\n",
    "leg4 = ax4.get_legend()\n",
    "\n",
    "ccdVisitTable_u.plot(x=\"Time\",y=\"zeroPoint\",marker='+',c=\"b\",lw=0.0,ax=ax1,grid=True,legend=leg1,label=\"u\")\n",
    "ccdVisitTable_g.plot(x=\"Time\",y=\"zeroPoint\",marker='+',c=\"g\",lw=0.0,ax=ax1,grid=True,legend=leg1,label=\"g\")\n",
    "ccdVisitTable_r.plot(x=\"Time\",y=\"zeroPoint\",marker='+',c=\"r\",lw=0.0,ax=ax1,grid=True,legend=leg1,label=\"r\")\n",
    "ccdVisitTable_i.plot(x=\"Time\",y=\"zeroPoint\",marker='+',c=\"orange\",lw=0.0,ax=ax1,grid=True,legend=leg1,label=\"i\")\n",
    "ccdVisitTable_z.plot(x=\"Time\",y=\"zeroPoint\",marker='+',c=\"grey\",lw=0.0,ax=ax1,grid=True,legend=leg1,label=\"z\")\n",
    "ccdVisitTable_g.plot(x=\"Time\",y=\"zeroPoint\",marker='+',c=\"k\",lw=0.0,ax=ax1,grid=True,legend=leg1,label=\"y\")\n",
    "#ax1.set_title(\"zeroPoint\")\n",
    "ax1.set_ylabel(\"zeroPoint\")\n",
    "ax1.set_xlabel(None)\n",
    "ax1.xaxis.set_major_formatter(date_form)\n",
    "ax1.legend(bbox_to_anchor=(1.1, 1.05))\n",
    "#ax1_up = ax1.secondary_xaxis(\"top\", functions=( dt_to_mjd, mjd_to_dt))\n",
    "#ccdVisitTable_g.plot(x=\"expMidptMJD\",y=\"zeroPoint\",marker='+',c=\"g\",lw=0.0,ax=ax1_up,grid=True,label=\"g\")\n",
    "\n",
    "\n",
    "ccdVisitTable_u.plot(x=\"Time\",y=\"airmass\",marker='+',c=\"b\",lw=0.0,ax=ax2,grid=True,legend=leg2,label=\"u\")\n",
    "ccdVisitTable_g.plot(x=\"Time\",y=\"airmass\",marker='+',c=\"g\",lw=0.0,ax=ax2,grid=True,legend=leg2,label=\"g\")\n",
    "ccdVisitTable_r.plot(x=\"Time\",y=\"airmass\",marker='+',c=\"r\",lw=0.0,ax=ax2,grid=True,legend=leg2,label=\"r\")\n",
    "ccdVisitTable_i.plot(x=\"Time\",y=\"airmass\",marker='+',c=\"orange\",lw=0.0,ax=ax2,grid=True,legend=leg2,label=\"i\")\n",
    "ccdVisitTable_z.plot(x=\"Time\",y=\"airmass\",marker='+',c=\"grey\",lw=0.0,ax=ax2,grid=True,legend=leg2,label=\"z\")\n",
    "ccdVisitTable_y.plot(x=\"Time\",y=\"airmass\",marker='+',c=\"k\",lw=0.0,ax=ax2,grid=True,legend=leg2,label=\"y\")\n",
    "ax2.set_xlabel(None)\n",
    "ax2.set_ylabel(\"airmass\")\n",
    "ax2.xaxis.set_major_formatter(date_form)\n",
    "ax2.legend(bbox_to_anchor=(1.1, 1.05))\n",
    "\n",
    "\n",
    "ccdVisitTable_u.plot(x=\"Time\",y=\"seeing\",marker='+',c=\"b\",lw=0.0,ax=ax3,grid=True,legend=leg3,label=\"u\")\n",
    "ccdVisitTable_g.plot(x=\"Time\",y=\"seeing\",marker='+',c=\"g\",lw=0.0,ax=ax3,grid=True,legend=leg3,label=\"g\")\n",
    "ccdVisitTable_r.plot(x=\"Time\",y=\"seeing\",marker='+',c=\"r\",lw=0.0,ax=ax3,grid=True,legend=leg3,label=\"r\")\n",
    "ccdVisitTable_i.plot(x=\"Time\",y=\"seeing\",marker='+',c=\"orange\",lw=0.0,ax=ax3,grid=True,legend=leg3,label=\"i\")\n",
    "ccdVisitTable_z.plot(x=\"Time\",y=\"seeing\",marker='+',c=\"grey\",lw=0.0,ax=ax3,grid=True,legend=leg3,label=\"z\")\n",
    "ccdVisitTable_y.plot(x=\"Time\",y=\"seeing\",marker='+',c=\"k\",lw=0.0,ax=ax3,grid=True,legend=leg3,label=\"y\")\n",
    "#ax2.set_title(\"airmass\")\n",
    "ax3.set_ylabel(\"seeing\")\n",
    "ax3.set_xlabel(None)\n",
    "ax3.xaxis.set_major_formatter(date_form)\n",
    "ax3.legend(bbox_to_anchor=(1.1, 1.05))\n",
    "\n",
    "\n",
    "ccdVisitTable_u.plot(x=\"Time\",y=\"magLim\",marker='+',c=\"b\",lw=0.0,ax=ax4,grid=True,legend=leg4,label=\"u\")\n",
    "ccdVisitTable_g.plot(x=\"Time\",y=\"magLim\",marker='+',c=\"g\",lw=0.0,ax=ax4,grid=True,legend=leg4,label=\"g\")\n",
    "ccdVisitTable_r.plot(x=\"Time\",y=\"magLim\",marker='+',c=\"r\",lw=0.0,ax=ax4,grid=True,legend=leg4,label=\"r\")\n",
    "ccdVisitTable_i.plot(x=\"Time\",y=\"magLim\",marker='+',c=\"orange\",lw=0.0,ax=ax4,grid=True,legend=leg4,label=\"i\")\n",
    "ccdVisitTable_z.plot(x=\"Time\",y=\"magLim\",marker='+',c=\"grey\",lw=0.0,ax=ax4,grid=True,legend=leg4,label=\"z\")\n",
    "ccdVisitTable_y.plot(x=\"Time\",y=\"magLim\",marker='+',c=\"k\",lw=0.0,ax=ax4,grid=True,legend=leg4,label=\"y\")\n",
    "\n",
    "ax4.set_ylabel(\"magLim\")\n",
    "ax4.xaxis.set_major_formatter(date_form)\n",
    "ax4.legend(bbox_to_anchor=(1.1, 1.05))\n",
    "ax4.set_xlabel(None)\n",
    "\n",
    "\n",
    "#df.plot(x=\"Time\",y=\"coord_dec\",marker='o',c=\"g\",lw=0.0,ax=ax2,grid=True)\n",
    "plt.suptitle(f\"{instrument} , {collectionStr}\",fontsize=12)\n",
    "plt.show()\n"
   ]
  },
  {
   "cell_type": "markdown",
   "id": "4c443c3d-b912-4e1c-a1da-a481517dac7a",
   "metadata": {},
   "source": [
    "## Select One tract"
   ]
  },
  {
   "cell_type": "code",
   "execution_count": null,
   "id": "c57c4758-86dc-4eb9-8706-627ce77759b0",
   "metadata": {
    "execution": {
     "iopub.execute_input": "2025-02-19T17:23:27.141127Z",
     "iopub.status.busy": "2025-02-19T17:23:27.140998Z",
     "iopub.status.idle": "2025-02-19T17:23:27.144222Z",
     "shell.execute_reply": "2025-02-19T17:23:27.143871Z",
     "shell.execute_reply.started": "2025-02-19T17:23:27.141115Z"
    }
   },
   "outputs": [],
   "source": [
    "ccd_visit_table_sel = ccd_visit_table[ccd_visit_table.tractID == TRACTSEL] "
   ]
  },
  {
   "cell_type": "code",
   "execution_count": null,
   "id": "876b784c-f9a4-40c6-89ef-72158f0502d2",
   "metadata": {
    "execution": {
     "iopub.execute_input": "2025-02-19T17:23:27.144751Z",
     "iopub.status.busy": "2025-02-19T17:23:27.144631Z",
     "iopub.status.idle": "2025-02-19T17:23:27.150757Z",
     "shell.execute_reply": "2025-02-19T17:23:27.150401Z",
     "shell.execute_reply.started": "2025-02-19T17:23:27.144740Z"
    }
   },
   "outputs": [],
   "source": [
    "ser_ccdvisit_perband = ccd_visit_table_sel.groupby([\"band\"]).size()"
   ]
  },
  {
   "cell_type": "code",
   "execution_count": null,
   "id": "bd15aaec-2ee9-4bb6-a199-8044509f185c",
   "metadata": {
    "execution": {
     "iopub.execute_input": "2025-02-19T17:23:27.151310Z",
     "iopub.status.busy": "2025-02-19T17:23:27.151189Z",
     "iopub.status.idle": "2025-02-19T17:23:27.156589Z",
     "shell.execute_reply": "2025-02-19T17:23:27.156223Z",
     "shell.execute_reply.started": "2025-02-19T17:23:27.151300Z"
    }
   },
   "outputs": [],
   "source": [
    "ser_ccdvisit_perband = ser_ccdvisit_perband[[\"u\",\"g\",\"r\",\"i\",\"z\",\"y\"]]"
   ]
  },
  {
   "cell_type": "code",
   "execution_count": null,
   "id": "f6760d40-01e9-46aa-bf0c-29f8568847da",
   "metadata": {
    "execution": {
     "iopub.execute_input": "2025-02-19T17:23:27.157126Z",
     "iopub.status.busy": "2025-02-19T17:23:27.157006Z",
     "iopub.status.idle": "2025-02-19T17:23:27.163182Z",
     "shell.execute_reply": "2025-02-19T17:23:27.162819Z",
     "shell.execute_reply.started": "2025-02-19T17:23:27.157115Z"
    }
   },
   "outputs": [],
   "source": [
    "ser_ccdvisit_perband"
   ]
  },
  {
   "cell_type": "code",
   "execution_count": null,
   "id": "e87c7873-651d-4136-8bbe-ee906ed5d2f1",
   "metadata": {
    "execution": {
     "iopub.execute_input": "2025-02-19T17:23:27.163718Z",
     "iopub.status.busy": "2025-02-19T17:23:27.163596Z",
     "iopub.status.idle": "2025-02-19T17:23:27.461510Z",
     "shell.execute_reply": "2025-02-19T17:23:27.461109Z",
     "shell.execute_reply.started": "2025-02-19T17:23:27.163707Z"
    }
   },
   "outputs": [],
   "source": [
    "fig,ax = plt.subplots(1,1,figsize=(8,6))\n",
    "ser_ccdvisit_perband.plot.bar(ax=ax,color=[\"b\",\"g\",\"r\",\"orange\",\"grey\",\"k\"],rot=0,title=f\"tract {TRACTSEL} : Number of CCDvisits per band\")\n",
    "#ax.legend(loc=\"upper right\")\n",
    "#ax.legend(bbox_to_anchor=(1.1, 1.05))"
   ]
  },
  {
   "cell_type": "markdown",
   "id": "434031db-ead5-4b45-8435-bdb5c4e0161e",
   "metadata": {},
   "source": [
    "## Simple visit table"
   ]
  },
  {
   "cell_type": "code",
   "execution_count": null,
   "id": "1317b5c8-b646-48eb-bcda-ce3cd2848a0d",
   "metadata": {
    "execution": {
     "iopub.execute_input": "2025-02-19T17:23:27.462117Z",
     "iopub.status.busy": "2025-02-19T17:23:27.461981Z",
     "iopub.status.idle": "2025-02-19T17:23:27.534204Z",
     "shell.execute_reply": "2025-02-19T17:23:27.533794Z",
     "shell.execute_reply.started": "2025-02-19T17:23:27.462104Z"
    }
   },
   "outputs": [],
   "source": [
    "visit_table = butler.get('visitTable', dataId={'instrument': instrument}, collections = collection)    \n",
    "visit_table"
   ]
  },
  {
   "cell_type": "code",
   "execution_count": null,
   "id": "b77b4228-6a87-4500-a1ae-e9872bd1d06f",
   "metadata": {},
   "outputs": [],
   "source": []
  }
 ],
 "metadata": {
  "kernelspec": {
   "display_name": "LSST",
   "language": "python",
   "name": "lsst"
  },
  "language_info": {
   "codemirror_mode": {
    "name": "ipython",
    "version": 3
   },
   "file_extension": ".py",
   "mimetype": "text/x-python",
   "name": "python",
   "nbconvert_exporter": "python",
   "pygments_lexer": "ipython3",
   "version": "3.11.9"
  }
 },
 "nbformat": 4,
 "nbformat_minor": 5
}
