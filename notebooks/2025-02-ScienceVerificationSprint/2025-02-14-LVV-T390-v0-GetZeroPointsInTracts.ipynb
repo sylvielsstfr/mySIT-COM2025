{
 "cells": [
  {
   "cell_type": "markdown",
   "id": "8f3da262-37ed-407f-908c-8ac5a52cb4db",
   "metadata": {},
   "source": [
    "# Notebook to access to data on CCDVisits for the System-level Science Performance Verification Sprint February 3-5 2025\n",
    "\n",
    "## LSSTComCam ZERO-Point uniformity in Tracts in the selected band in a selected range of dates\n",
    "\n",
    "- Confluence page : https://rubinobs.atlassian.net/wiki/spaces/LSSTCOM/pages/372867091/System-level+Science+Performance+Verification+Sprint\n",
    "- slides : https://docs.google.com/presentation/d/1bPjS5NGtiEL2lfjmvP1UYdG_tMEDfZxX26ayhf7MhtY/edit#slide=id.ga2f7fb1a1f_0_70"
   ]
  },
  {
   "cell_type": "markdown",
   "id": "f3737976-eab8-4483-a79d-796f738c4f22",
   "metadata": {},
   "source": [
    "- where to find the campains\n",
    "- https://rubinobs.atlassian.net/wiki/spaces/DM/pages/226656354/LSSTComCam+Intermittent+Cumulative+DRP+Runs\n",
    "\n",
    "- plot Navigator\n",
    "- https://usdf-rsp.slac.stanford.edu/plot-navigator\n",
    "- https://usdf-rsp.slac.stanford.edu/plot-navigator/plot/%2Frepo%2Fmain/LSSTComCam%2Fruns%2FDRP%2FDP1%2Fw_2025_05%2FDM-48666/objectTableCore_coaddInputCount_SkyPlot"
   ]
  },
  {
   "cell_type": "markdown",
   "id": "53b4594d-5de5-4fa1-8ada-f60f0018cac5",
   "metadata": {},
   "source": [
    "- Notebooks examples\n",
    "- https://github.com/lsst-dm/DMTR-401/blob/main/notebooks/test_LVV-T40_T1240.ipynb\n",
    "- https://github.com/lsst-dm/DMTR-412/blob/tickets/DM-38728/notebooks/test_LVV-T1751_AM1_AM2.ipynb"
   ]
  },
  {
   "cell_type": "markdown",
   "id": "8402aac4-562a-40cd-ac2b-c1ca76cae55b",
   "metadata": {},
   "source": [
    "- author : Sylvie Dagoret-Campagne\n",
    "- creattion date : 2025-02-13\n",
    "- Redo Visits like here : https://github.com/sylvielsstfr/LSST-Rehearsal2024/blob/main/notebooks/Visits/stat_on_visits_LSSTComCamSim.ipynb\n",
    "- To find what I did on LSSTComCamSim : https://github.com/sylvielsstfr/LSST-Rehearsal2024/blob/main/notebooks/LightCurves/MultiColor_lightCurves-DMRehearsal2024_01-AuxTel-DZPOnCCD.ipynb\n",
    "- **Confluence page** : https://rubinobs.atlassian.net/wiki/spaces/LSSTCOM/pages/443613290/Science+Verification+Sprint+Feb+2025\n"
   ]
  },
  {
   "cell_type": "code",
   "execution_count": null,
   "id": "9d583412-a5a0-456e-84be-1fb658ddf016",
   "metadata": {
    "execution": {
     "iopub.execute_input": "2025-02-14T21:21:14.780596Z",
     "iopub.status.busy": "2025-02-14T21:21:14.780470Z",
     "iopub.status.idle": "2025-02-14T21:21:15.345189Z",
     "shell.execute_reply": "2025-02-14T21:21:15.344643Z",
     "shell.execute_reply.started": "2025-02-14T21:21:14.780584Z"
    }
   },
   "outputs": [],
   "source": [
    "# Confirm that the version of the Science Pipelines is recent:\n",
    "! echo $HOSTNAME\n",
    "! eups list -s | grep lsst_distrib"
   ]
  },
  {
   "cell_type": "code",
   "execution_count": null,
   "id": "8fbb9671-7d8e-4724-8c58-0f0a4fb9e5f0",
   "metadata": {
    "execution": {
     "iopub.execute_input": "2025-02-14T21:21:15.345955Z",
     "iopub.status.busy": "2025-02-14T21:21:15.345806Z",
     "iopub.status.idle": "2025-02-14T21:21:16.146348Z",
     "shell.execute_reply": "2025-02-14T21:21:16.145831Z",
     "shell.execute_reply.started": "2025-02-14T21:21:15.345940Z"
    }
   },
   "outputs": [],
   "source": [
    "from lsst.daf.butler import Butler\n",
    "import lsst.geom as geom"
   ]
  },
  {
   "cell_type": "code",
   "execution_count": null,
   "id": "e814e3d6-750c-4e7f-a9a5-5bf1e2f7205f",
   "metadata": {
    "execution": {
     "iopub.execute_input": "2025-02-14T21:21:16.148733Z",
     "iopub.status.busy": "2025-02-14T21:21:16.148594Z",
     "iopub.status.idle": "2025-02-14T21:21:17.951745Z",
     "shell.execute_reply": "2025-02-14T21:21:17.951331Z",
     "shell.execute_reply.started": "2025-02-14T21:21:16.148719Z"
    }
   },
   "outputs": [],
   "source": [
    "import os\n",
    "import gc\n",
    "import glob\n",
    "import numpy as np\n",
    "import pandas as pd\n",
    "import random\n",
    "\n",
    "import astropy.units as u\n",
    "from astropy.coordinates import SkyCoord\n",
    "from astroquery.gaia import Gaia\n",
    "Gaia.MAIN_GAIA_TABLE = \"gaiadr3.gaia_source\"  # Reselect Data Release 3, default\n",
    "Gaia.ROW_LIMIT = 100000\n",
    "from astropy.visualization import (MinMaxInterval, AsinhStretch, ZScaleInterval, LogStretch, LinearStretch,\n",
    "                                   ImageNormalize)"
   ]
  },
  {
   "cell_type": "code",
   "execution_count": null,
   "id": "e68df967-7870-47da-a4dd-760df6732aa5",
   "metadata": {
    "execution": {
     "iopub.execute_input": "2025-02-14T21:21:17.952432Z",
     "iopub.status.busy": "2025-02-14T21:21:17.952142Z",
     "iopub.status.idle": "2025-02-14T21:21:18.207787Z",
     "shell.execute_reply": "2025-02-14T21:21:18.207431Z",
     "shell.execute_reply.started": "2025-02-14T21:21:17.952416Z"
    }
   },
   "outputs": [],
   "source": [
    "import seaborn as sns\n",
    "from itertools import cycle, islice"
   ]
  },
  {
   "cell_type": "code",
   "execution_count": null,
   "id": "f385c649-efb6-40a8-b9f7-ebc65c441a04",
   "metadata": {
    "execution": {
     "iopub.execute_input": "2025-02-14T21:21:18.208412Z",
     "iopub.status.busy": "2025-02-14T21:21:18.208203Z",
     "iopub.status.idle": "2025-02-14T21:21:18.210358Z",
     "shell.execute_reply": "2025-02-14T21:21:18.210067Z",
     "shell.execute_reply.started": "2025-02-14T21:21:18.208399Z"
    }
   },
   "outputs": [],
   "source": [
    "from astropy.time import Time\n",
    "from datetime import datetime, timedelta"
   ]
  },
  {
   "cell_type": "code",
   "execution_count": null,
   "id": "46c68d72-750b-4bb9-b92a-1fe6e1728171",
   "metadata": {
    "execution": {
     "iopub.execute_input": "2025-02-14T21:21:18.210805Z",
     "iopub.status.busy": "2025-02-14T21:21:18.210690Z",
     "iopub.status.idle": "2025-02-14T21:21:18.217312Z",
     "shell.execute_reply": "2025-02-14T21:21:18.217027Z",
     "shell.execute_reply.started": "2025-02-14T21:21:18.210794Z"
    }
   },
   "outputs": [],
   "source": [
    "import lsst.geom as geom\n",
    "from lsst.geom import Angle\n",
    "from lsst.geom import SpherePoint\n",
    "from lsst.geom import AngleUnit"
   ]
  },
  {
   "cell_type": "code",
   "execution_count": null,
   "id": "5af15c53-1d3f-42ee-81d8-508a2daa56c0",
   "metadata": {
    "execution": {
     "iopub.execute_input": "2025-02-14T21:21:18.217761Z",
     "iopub.status.busy": "2025-02-14T21:21:18.217646Z",
     "iopub.status.idle": "2025-02-14T21:21:18.229170Z",
     "shell.execute_reply": "2025-02-14T21:21:18.228887Z",
     "shell.execute_reply.started": "2025-02-14T21:21:18.217749Z"
    }
   },
   "outputs": [],
   "source": [
    "# Set plotting defaults\n",
    "%matplotlib inline\n",
    "\n",
    "import matplotlib as mpl\n",
    "import matplotlib.pyplot as plt\n",
    "from matplotlib.ticker import FormatStrFormatter\n",
    "from matplotlib.colors import ListedColormap\n",
    "from matplotlib import colors\n",
    "zscale = ZScaleInterval()\n",
    "\n",
    "# Set up some plotting defaults:\n",
    "plt.rcParams.update({'figure.figsize' : (12, 8)})\n",
    "plt.rcParams.update({'font.size' : 24})\n",
    "plt.rcParams.update({'axes.linewidth' : 3})\n",
    "plt.rcParams.update({'axes.labelweight' : 3})\n",
    "plt.rcParams.update({'axes.titleweight' : 5})\n",
    "plt.rcParams.update({'ytick.major.width' : 3})\n",
    "plt.rcParams.update({'ytick.minor.width' : 2})\n",
    "plt.rcParams.update({'ytick.major.size' : 8})\n",
    "plt.rcParams.update({'ytick.minor.size' : 5})\n",
    "plt.rcParams.update({'xtick.major.size' : 8})\n",
    "plt.rcParams.update({'xtick.minor.size' : 5})\n",
    "plt.rcParams.update({'xtick.major.width' : 3})\n",
    "plt.rcParams.update({'xtick.minor.width' : 2})\n",
    "plt.rcParams.update({'xtick.direction' : 'in'})\n",
    "plt.rcParams.update({'ytick.direction' : 'in'})\n"
   ]
  },
  {
   "cell_type": "code",
   "execution_count": null,
   "id": "23aec8e4-52f8-4361-817f-58a855d10a0e",
   "metadata": {
    "execution": {
     "iopub.execute_input": "2025-02-14T21:21:18.229630Z",
     "iopub.status.busy": "2025-02-14T21:21:18.229513Z",
     "iopub.status.idle": "2025-02-14T21:21:18.232935Z",
     "shell.execute_reply": "2025-02-14T21:21:18.232554Z",
     "shell.execute_reply.started": "2025-02-14T21:21:18.229619Z"
    }
   },
   "outputs": [],
   "source": [
    "# where are stored the figures\n",
    "pathfigs = \"figsUniformityZPTracts\"\n",
    "if not os.path.exists(pathfigs):\n",
    "    os.makedirs(pathfigs) \n",
    "figtype = \".pdf\""
   ]
  },
  {
   "cell_type": "code",
   "execution_count": null,
   "id": "352858ec-5409-4046-89c4-d9a41f2a400e",
   "metadata": {
    "execution": {
     "iopub.execute_input": "2025-02-14T21:21:18.233386Z",
     "iopub.status.busy": "2025-02-14T21:21:18.233272Z",
     "iopub.status.idle": "2025-02-14T21:21:18.238486Z",
     "shell.execute_reply": "2025-02-14T21:21:18.238198Z",
     "shell.execute_reply.started": "2025-02-14T21:21:18.233375Z"
    }
   },
   "outputs": [],
   "source": [
    "def angle_in_range(alpha, lower, upper):\n",
    "    return (alpha - lower) % 360 <= (upper - lower) % 360"
   ]
  },
  {
   "cell_type": "code",
   "execution_count": null,
   "id": "c2e61470-5dd3-4b6e-b800-a25bedfc0a7e",
   "metadata": {
    "execution": {
     "iopub.execute_input": "2025-02-14T21:21:18.238957Z",
     "iopub.status.busy": "2025-02-14T21:21:18.238836Z",
     "iopub.status.idle": "2025-02-14T21:21:18.246158Z",
     "shell.execute_reply": "2025-02-14T21:21:18.245883Z",
     "shell.execute_reply.started": "2025-02-14T21:21:18.238946Z"
    }
   },
   "outputs": [],
   "source": [
    "def get_bbox_radec(wcs, bbox):\n",
    "    \"\"\"\n",
    "    Return the corners in RA,Dec in degrees given the WCS and bounding box for an image.\n",
    "\n",
    "    Parameters\n",
    "    ----------\n",
    "    wcs: image WCS returned by the Butler\n",
    "    bbox: bounding box returned by the Butler\n",
    "\n",
    "    Returns\n",
    "    -------\n",
    "    ramin,ramax,decmin,decmax in decimal degrees\n",
    "    \"\"\"\n",
    "\n",
    "    xmin = bbox.beginX\n",
    "    xmax = bbox.endX\n",
    "    ymin = bbox.beginY\n",
    "    ymax = bbox.endY\n",
    "    \n",
    "    radec_ll = wcs.pixelToSky(xmin, ymin)\n",
    "    radec_ur = wcs.pixelToSky(xmax, ymax)\n",
    "        \n",
    "    return radec_ur.getRa().asDegrees(),radec_ll.getRa().asDegrees(), radec_ll.getDec().asDegrees(),radec_ur.getDec().asDegrees() \n"
   ]
  },
  {
   "cell_type": "code",
   "execution_count": null,
   "id": "57faae1f-6bc6-4784-9005-2555cfbf52ee",
   "metadata": {
    "execution": {
     "iopub.execute_input": "2025-02-14T21:21:18.246611Z",
     "iopub.status.busy": "2025-02-14T21:21:18.246499Z",
     "iopub.status.idle": "2025-02-14T21:21:18.253315Z",
     "shell.execute_reply": "2025-02-14T21:21:18.253041Z",
     "shell.execute_reply.started": "2025-02-14T21:21:18.246600Z"
    }
   },
   "outputs": [],
   "source": [
    "def isradec_inbbox_angularsep(ra,dec,wcs, bbox):\n",
    "    \"\"\"\n",
    "    Return the corners in RA,Dec in degrees given the WCS and bounding box for an image.\n",
    "\n",
    "    Parameters\n",
    "    ----------\n",
    "    ra: ra in degree\n",
    "    dec: dec in degree\n",
    "    wcs: image WCS returned by the Butler\n",
    "    bbox: bounding box returned by the Butler\n",
    "\n",
    "    Returns\n",
    "    -------\n",
    "    float in degree\n",
    "    \n",
    "    \"\"\"\n",
    "\n",
    "   \n",
    "    RAMIN,RAMAX,DECMIN,DECMAX = get_bbox_radec(wcs, bbox)\n",
    "  \n",
    "    RAMEAN = np.mean([RAMIN,RAMAX])\n",
    "    DECMEAN = np.mean([DECMIN,DECMAX])\n",
    "\n",
    "    sp0 = SpherePoint(longitude=geom.Angle(ra,geom.degrees),latitude=geom.Angle(dec,geom.degrees))\n",
    "    sp1 = SpherePoint(longitude=geom.Angle(RAMEAN,geom.degrees),latitude=geom.Angle(DECMEAN,geom.degrees)) \n",
    "    \n",
    "    sep = sp0.separation(sp1).asDegrees()\n",
    "     \n",
    "    return sep\n"
   ]
  },
  {
   "cell_type": "code",
   "execution_count": null,
   "id": "fed836bf-cd9f-4de1-92ff-d62f4f87f60a",
   "metadata": {
    "execution": {
     "iopub.execute_input": "2025-02-14T21:21:18.253759Z",
     "iopub.status.busy": "2025-02-14T21:21:18.253645Z",
     "iopub.status.idle": "2025-02-14T21:21:18.259972Z",
     "shell.execute_reply": "2025-02-14T21:21:18.259694Z",
     "shell.execute_reply.started": "2025-02-14T21:21:18.253747Z"
    }
   },
   "outputs": [],
   "source": [
    "def isradec_inbbox_radec(ra,dec,wcs, bbox):\n",
    "    \"\"\"\n",
    "    Return the corners in RA,Dec in degrees given the WCS and bounding box for an image.\n",
    "\n",
    "    Parameters\n",
    "    ----------\n",
    "    ra: ra in degree\n",
    "    dec: dec in degree\n",
    "    wcs: image WCS returned by the Butler\n",
    "    bbox: bounding box returned by the Butler\n",
    "\n",
    "    Returns\n",
    "    -------\n",
    "    Bool\n",
    "    \n",
    "    \"\"\"\n",
    "\n",
    "    RAMIN,RAMAX,DECMIN,DECMAX = get_bbox_radec(wcs, bbox)\n",
    "\n",
    "    flag_ra = angle_in_range(ra,RAMIN,RAMAX)\n",
    "    flag_dec = angle_in_range(dec,DECMIN,DECMAX)\n",
    "\n",
    "    flag = flag_ra and flag_dec\n",
    "    return flag\n"
   ]
  },
  {
   "cell_type": "code",
   "execution_count": null,
   "id": "a86f902b-bf08-4874-a2ae-85d5c20907b7",
   "metadata": {
    "execution": {
     "iopub.execute_input": "2025-02-14T21:21:18.260419Z",
     "iopub.status.busy": "2025-02-14T21:21:18.260307Z",
     "iopub.status.idle": "2025-02-14T21:21:18.267500Z",
     "shell.execute_reply": "2025-02-14T21:21:18.267160Z",
     "shell.execute_reply.started": "2025-02-14T21:21:18.260408Z"
    }
   },
   "outputs": [],
   "source": [
    "def FindTractAndPatch(row):\n",
    "    \"\"\"\n",
    "    Apply this function on ccdvisitTable dataframe to find the tract and patch for each visit\n",
    "    \"\"\"\n",
    "     \n",
    "    try:\n",
    "        ra = row[\"ra\"]\n",
    "        dec = row[\"dec\"]\n",
    "        selectFlag = False\n",
    "        # loop on tract\n",
    "        for tractID in tractsId_list:\n",
    "            tractInfo = skymap.generateTract(tractID)\n",
    "            patches_selected = [patch.getSequentialIndex() for patch in tractInfo]\n",
    "            wcs=tractInfo.getWcs()\n",
    "            # loop on patches\n",
    "            for patch in tractInfo:\n",
    "                patchID = patch.getSequentialIndex()\n",
    "                if patchID in patches_selected:\n",
    "                    ibb=patch.getInnerBBox()\n",
    "                    flag = isradec_inbbox_radec(ra,dec,wcs, ibb)\n",
    "                    selectFlag =  selectFlag or flag\n",
    "                    if selectFlag:\n",
    "                        return pd.Series([tractID,patchID])\n",
    "        return pd.Series([0,0])           \n",
    "                \n",
    "    except Exception as inst:\n",
    "        print(type(inst))    # the exception type\n",
    "        print(inst.args)     # arguments stored in .args\n",
    "        print(inst)          # __str__ allows args to be printed directly,\n",
    "        return pd.Series([0,0])  \n",
    "        "
   ]
  },
  {
   "cell_type": "code",
   "execution_count": null,
   "id": "97d63db3-29a2-478f-8ebe-19108a12ee50",
   "metadata": {
    "execution": {
     "iopub.execute_input": "2025-02-14T21:21:18.268066Z",
     "iopub.status.busy": "2025-02-14T21:21:18.267943Z",
     "iopub.status.idle": "2025-02-14T21:21:18.276036Z",
     "shell.execute_reply": "2025-02-14T21:21:18.275681Z",
     "shell.execute_reply.started": "2025-02-14T21:21:18.268055Z"
    }
   },
   "outputs": [],
   "source": [
    "def FindTractAndPatchFromAngularSep(row):\n",
    "    \"\"\"\n",
    "    Apply this function on ccdvisitTable dataframe to find the tract and patch for each visit\n",
    "    Need the tractsId_list not to scan the whole skymap\n",
    "    \"\"\"\n",
    "\n",
    "     \n",
    "    try:\n",
    "        ra = row[\"ra\"]\n",
    "        dec = row[\"dec\"]\n",
    "        \n",
    "        # loop on tracts\n",
    "        List_of_tractids = []\n",
    "        List_of_patchids = []\n",
    "        List_of_sep = []\n",
    "        \n",
    "        for tractID in tractsId_list:\n",
    "            tractInfo = skymap.generateTract(tractID)\n",
    "            patches_selected = [patch.getSequentialIndex() for patch in tractInfo]\n",
    "         \n",
    "            wcs=tractInfo.getWcs()\n",
    "            # loop on patches\n",
    "            patches_ids = []\n",
    "            patches_sep = []\n",
    "            # loop on patches\n",
    "            for patch in tractInfo:\n",
    "                patchID = patch.getSequentialIndex()\n",
    "                if patchID in patches_selected:\n",
    "                    ibb=patch.getInnerBBox()\n",
    "                  \n",
    "                    sep = isradec_inbbox_angularsep(ra,dec,wcs, ibb)\n",
    "                    patches_ids.append(patchID)\n",
    "                    patches_sep.append(sep)\n",
    "                    \n",
    "            # find the patch with the minimum distance\n",
    "            patches_ids=np.array(patches_ids)\n",
    "            patches_sep= np.array(patches_sep)\n",
    "            idx_sepmin = int(np.where(patches_sep==patches_sep.min())[0])\n",
    "            \n",
    "            \n",
    "            List_of_tractids.append(tractID)\n",
    "            List_of_patchids.append(patches_ids[idx_sepmin])\n",
    "            List_of_sep.append(patches_sep[idx_sepmin])\n",
    "            \n",
    "        List_of_tractids=np.array(List_of_tractids)\n",
    "        List_of_patchids=np.array(List_of_patchids)\n",
    "        List_of_sep= np.array(List_of_sep)\n",
    "        idx_sepmin = int(np.where(List_of_sep==List_of_sep.min())[0])\n",
    "\n",
    "        tractID_sel = List_of_tractids[idx_sepmin]\n",
    "        patchID_sel = List_of_patchids[idx_sepmin]\n",
    "       \n",
    "            \n",
    "        return pd.Series([tractID_sel,patchID_sel])\n",
    "               \n",
    "                \n",
    "    except Exception as inst:\n",
    "        print(type(inst))    # the exception type\n",
    "        print(inst.args)     # arguments stored in .args\n",
    "        print(inst)          # __str__ allows args to be printed directly,\n",
    "        return pd.Series([0,0])  \n",
    "        "
   ]
  },
  {
   "cell_type": "code",
   "execution_count": null,
   "id": "7bfe58fb-fdba-46d3-b05b-983f147aeab1",
   "metadata": {
    "execution": {
     "iopub.execute_input": "2025-02-14T21:21:18.276560Z",
     "iopub.status.busy": "2025-02-14T21:21:18.276417Z",
     "iopub.status.idle": "2025-02-14T21:21:18.284462Z",
     "shell.execute_reply": "2025-02-14T21:21:18.284115Z",
     "shell.execute_reply.started": "2025-02-14T21:21:18.276549Z"
    }
   },
   "outputs": [],
   "source": [
    "def plotAVisit(row,ax=None):\n",
    "    \"\"\"\n",
    "    row : dataframe row\n",
    "    ax \n",
    "    \"\"\"\n",
    "\n",
    "    if ax == None:\n",
    "        fig, ax = plt.subplots(1,1,figsize=(5,5))\n",
    "        \n",
    "    visitid = row[\"visitId\"]\n",
    "    ra= row[\"ra\"]\n",
    "    dec = row[\"dec\"]\n",
    "    tract_id  = row[\"tractID\"]\n",
    "    patch_id  = row[\"patchID\"]\n",
    "    label = f\"tract {tract_id} , patch {patch_id}\"              \n",
    "    \n",
    "    tractInfo = skymap.generateTract(tract_id)\n",
    "    patches_selected = [patch.getSequentialIndex() for patch in tractInfo]     \n",
    "    wcs=tractInfo.getWcs()\n",
    "            \n",
    "    # loop on patches\n",
    "    all_ra = []\n",
    "    all_dec = []\n",
    "    corners = []\n",
    "    for patch in tractInfo:\n",
    "        patchID = patch.getSequentialIndex()\n",
    "        if patchID == patch_id :\n",
    "            ibb=patch.getInnerBBox()\n",
    "            RAMIN,RAMAX,DECMIN,DECMAX = get_bbox_radec(wcs, ibb)\n",
    "            for icorn,corner in enumerate(ibb.getCorners()):\n",
    "                p = geom.Point2D(corner.getX(), corner.getY())\n",
    "                coord = wcs.pixelToSky(p)\n",
    "                corners.append([coord.getRa().asDegrees(), coord.getDec().asDegrees()])\n",
    "                all_ra.append(coord.getRa().asDegrees()) \n",
    "                all_dec.append(coord.getDec().asDegrees()) \n",
    "    if (len(all_ra)>0) and (len(all_dec)>0):\n",
    "        all_ra.append(all_ra[0])\n",
    "        all_dec.append(all_dec[0])\n",
    "        print(ax)\n",
    "        ax.plot(all_ra,all_dec,'b-',lw=3,label=label)\n",
    "        ax.scatter([ra],[dec],marker = 'o',s=20,c=\"r\",label=visitid)\n",
    "        ax.xaxis.set_major_formatter(FormatStrFormatter('%.2f'))\n",
    "        ax.yaxis.set_major_formatter(FormatStrFormatter('%.2f'))\n",
    "        ax.legend()\n",
    "                \n",
    "\n"
   ]
  },
  {
   "cell_type": "markdown",
   "id": "3506978f-3a1e-47a9-90c1-b576f17d092f",
   "metadata": {},
   "source": [
    "## Start Here with initialisation\n",
    "\n",
    "\n",
    "- Check here the collection available : https://rubinobs.atlassian.net/wiki/spaces/DM/pages/226656354/LSSTComCam+Intermittent+Cumulative+DRP+Runs"
   ]
  },
  {
   "cell_type": "code",
   "execution_count": null,
   "id": "58131b3b-f3bf-461a-8c71-d236e7d5e7fa",
   "metadata": {
    "execution": {
     "iopub.execute_input": "2025-02-14T21:21:18.284965Z",
     "iopub.status.busy": "2025-02-14T21:21:18.284835Z",
     "iopub.status.idle": "2025-02-14T21:21:18.290866Z",
     "shell.execute_reply": "2025-02-14T21:21:18.290532Z",
     "shell.execute_reply.started": "2025-02-14T21:21:18.284953Z"
    }
   },
   "outputs": [],
   "source": [
    "# The output repo is tagged with the Jira ticket number \"DM-40356\":\n",
    "repo = '/repo/main'\n",
    "collection = 'LSSTComCam/runs/DRP/DP1/w_2025_05/DM-48666'\n",
    "instrument = \"LSSTComCam\"\n",
    "skymapName = \"lsst_cells_v1\"\n",
    "band = \"g\"\n",
    "#STARTDATE = \"20241201\"\n",
    "STARTDATE = \"20241101\"\n",
    "where_clause = \"instrument = \\'\" + instrument+ \"\\'\" + \"AND band =  \\'\" + band + \"\\'\" +  \"AND exposure.day_obs >= \" + f\"{STARTDATE}\" \n",
    "collectionStr = collection.replace(\"/\", \"_\")\n",
    "NDET = 9\n",
    "MAGCUT = 18.0\n",
    "TRACTID= 5063\n",
    "fn_ccdVisit_tracts_patches = f\"ccdVisittractpatch_{collectionStr}.csv\""
   ]
  },
  {
   "cell_type": "code",
   "execution_count": null,
   "id": "24056d5e-320d-480c-879d-df9396fac643",
   "metadata": {
    "execution": {
     "iopub.execute_input": "2025-02-14T21:21:18.291368Z",
     "iopub.status.busy": "2025-02-14T21:21:18.291247Z",
     "iopub.status.idle": "2025-02-14T21:21:18.298732Z",
     "shell.execute_reply": "2025-02-14T21:21:18.298400Z",
     "shell.execute_reply.started": "2025-02-14T21:21:18.291357Z"
    }
   },
   "outputs": [],
   "source": [
    "# Select the aperture radius\n",
    "rap = \"_35_0_\"\n",
    "\n",
    "# instrumental flux (ADU or photons)\n",
    "calibFluxStr = f\"apFlux{rap}instFlux\"\n",
    "calibFluxErrStr = f\"apFlux{rap}instFluxErr\"\n",
    "calibFluxMagStr = f\"apFlux{rap}instMag\"\n",
    "calibFluxMagErrStr = f\"apFlux{rap}instMagErr\"\n",
    "\n",
    "# flux in nJ or Mag\n",
    "calibFluxCalStr = f\"apFlux{rap}calFlux\"\n",
    "calibFluxCalErrStr = f\"apFlux{rap}calFluxErr\"\n",
    "calibFluxCalMagStr = f\"apFlux{rap}calMag\"\n",
    "calibFluxCalMagErrStr = f\"apFlux{rap}calMagErr\""
   ]
  },
  {
   "cell_type": "code",
   "execution_count": null,
   "id": "804fcb8b-d567-4a27-b102-05ed002051c4",
   "metadata": {
    "execution": {
     "iopub.execute_input": "2025-02-14T21:21:18.299228Z",
     "iopub.status.busy": "2025-02-14T21:21:18.299102Z",
     "iopub.status.idle": "2025-02-14T21:21:18.717619Z",
     "shell.execute_reply": "2025-02-14T21:21:18.717082Z",
     "shell.execute_reply.started": "2025-02-14T21:21:18.299215Z"
    }
   },
   "outputs": [],
   "source": [
    "# Initialize the butler repo:\n",
    "butler = Butler(repo, collections=collection)\n",
    "registry = butler.registry"
   ]
  },
  {
   "cell_type": "code",
   "execution_count": null,
   "id": "03249edb-84b0-4f36-ae94-af25391b468e",
   "metadata": {
    "execution": {
     "iopub.execute_input": "2025-02-14T21:21:18.718277Z",
     "iopub.status.busy": "2025-02-14T21:21:18.718146Z",
     "iopub.status.idle": "2025-02-14T21:21:18.950381Z",
     "shell.execute_reply": "2025-02-14T21:21:18.949966Z",
     "shell.execute_reply.started": "2025-02-14T21:21:18.718265Z"
    }
   },
   "outputs": [],
   "source": [
    "skymap = butler.get('skyMap', skymap=skymapName, collections=collection)"
   ]
  },
  {
   "cell_type": "code",
   "execution_count": null,
   "id": "826aebd4-b08d-4259-a715-2274b75182c2",
   "metadata": {
    "execution": {
     "iopub.execute_input": "2025-02-14T21:21:18.951204Z",
     "iopub.status.busy": "2025-02-14T21:21:18.950881Z",
     "iopub.status.idle": "2025-02-14T21:21:18.953140Z",
     "shell.execute_reply": "2025-02-14T21:21:18.952796Z",
     "shell.execute_reply.started": "2025-02-14T21:21:18.951191Z"
    }
   },
   "outputs": [],
   "source": [
    "# Check here the collections available\n",
    "#for _ in registry.queryCollections():\n",
    "#    if \"LSSTComCam/runs/DRP/DP1/w_2025_05\" in _:\n",
    "#        print(_)"
   ]
  },
  {
   "cell_type": "code",
   "execution_count": null,
   "id": "d6dbd6d0-8f6c-441a-b465-b983e87cef9f",
   "metadata": {
    "execution": {
     "iopub.execute_input": "2025-02-14T21:21:18.953808Z",
     "iopub.status.busy": "2025-02-14T21:21:18.953539Z",
     "iopub.status.idle": "2025-02-14T21:21:18.960611Z",
     "shell.execute_reply": "2025-02-14T21:21:18.960279Z",
     "shell.execute_reply.started": "2025-02-14T21:21:18.953796Z"
    }
   },
   "outputs": [],
   "source": [
    "# List a number of usefull data-product to explore\n",
    "if 0:\n",
    "    for datasetType in registry.queryDatasetTypes():\n",
    "        if registry.queryDatasets(datasetType, collections=collection).any(\n",
    "            execute=False, exact=False\n",
    "        ):\n",
    "            # Limit search results to the data products\n",
    "            if (\n",
    "                (\"_config\" not in datasetType.name)\n",
    "                and (\"_log\" not in datasetType.name)\n",
    "                and (\"_metadata\" not in datasetType.name)\n",
    "                and (\"_resource_usage\" not in datasetType.name)\n",
    "                and ((\"Table\" in datasetType.name) or (\"Zeropointp\" in datasetType.name) or (\"fgcm\" in datasetType.name) or (\"transm\" in datasetType.name) or (\"Transm\" in datasetType.name) )\n",
    "            ):\n",
    "                print(datasetType)"
   ]
  },
  {
   "cell_type": "markdown",
   "id": "57be8008-c849-440e-9bae-8649564d3373",
   "metadata": {},
   "source": [
    "## Get list of Tracts and Patches"
   ]
  },
  {
   "cell_type": "code",
   "execution_count": null,
   "id": "c0823ed5-9b23-4548-af23-12d707772667",
   "metadata": {
    "execution": {
     "iopub.execute_input": "2025-02-14T21:21:18.961107Z",
     "iopub.status.busy": "2025-02-14T21:21:18.960992Z",
     "iopub.status.idle": "2025-02-14T21:21:19.038063Z",
     "shell.execute_reply": "2025-02-14T21:21:19.037684Z",
     "shell.execute_reply.started": "2025-02-14T21:21:18.961096Z"
    }
   },
   "outputs": [],
   "source": [
    "datasettype = \"objectTable_tract\"\n",
    "therefs = butler.registry.queryDatasets(datasettype,  collections=collection)"
   ]
  },
  {
   "cell_type": "code",
   "execution_count": null,
   "id": "f810d737-c393-40bb-bc60-32e3706cf4a0",
   "metadata": {
    "execution": {
     "iopub.execute_input": "2025-02-14T21:21:19.038566Z",
     "iopub.status.busy": "2025-02-14T21:21:19.038451Z",
     "iopub.status.idle": "2025-02-14T21:21:19.048132Z",
     "shell.execute_reply": "2025-02-14T21:21:19.047771Z",
     "shell.execute_reply.started": "2025-02-14T21:21:19.038555Z"
    }
   },
   "outputs": [],
   "source": [
    "tractsId_list = np.unique([ref.dataId['tract'] for ref in therefs])\n",
    "tractsId_list = sorted(tractsId_list)\n",
    "print(tractsId_list)"
   ]
  },
  {
   "cell_type": "code",
   "execution_count": null,
   "id": "3448b11c-a3d8-49b8-a217-f7c338ee455b",
   "metadata": {
    "execution": {
     "iopub.execute_input": "2025-02-14T21:21:19.048667Z",
     "iopub.status.busy": "2025-02-14T21:21:19.048545Z",
     "iopub.status.idle": "2025-02-14T21:22:03.246633Z",
     "shell.execute_reply": "2025-02-14T21:22:03.246159Z",
     "shell.execute_reply.started": "2025-02-14T21:21:19.048655Z"
    }
   },
   "outputs": [],
   "source": [
    "dict_tractpatches = {}\n",
    "for ref in therefs:\n",
    "    tract = ref.dataId[\"tract\"]\n",
    "    table = butler.get(ref) \n",
    "    list_of_patches = table['patch'].unique()\n",
    "    dict_tractpatches[tract] = list_of_patches"
   ]
  },
  {
   "cell_type": "markdown",
   "id": "047029ac-f97b-4e6e-93ce-7850e75e525b",
   "metadata": {},
   "source": [
    "## Get CCD Visits"
   ]
  },
  {
   "cell_type": "code",
   "execution_count": null,
   "id": "fb929f80-0250-495a-8971-cc888e44b0ab",
   "metadata": {
    "execution": {
     "iopub.execute_input": "2025-02-14T21:22:03.247338Z",
     "iopub.status.busy": "2025-02-14T21:22:03.247194Z",
     "iopub.status.idle": "2025-02-14T21:22:03.374874Z",
     "shell.execute_reply": "2025-02-14T21:22:03.374419Z",
     "shell.execute_reply.started": "2025-02-14T21:22:03.247325Z"
    }
   },
   "outputs": [],
   "source": [
    "datasettype = \"ccdVisitTable\"\n",
    "ccd_visit_table = butler.get(datasettype,collections=collection)"
   ]
  },
  {
   "cell_type": "code",
   "execution_count": null,
   "id": "c0ea7f3a-1aa0-462e-8e94-274e6e533466",
   "metadata": {
    "execution": {
     "iopub.execute_input": "2025-02-14T21:22:03.375527Z",
     "iopub.status.busy": "2025-02-14T21:22:03.375395Z",
     "iopub.status.idle": "2025-02-14T21:22:03.477442Z",
     "shell.execute_reply": "2025-02-14T21:22:03.476985Z",
     "shell.execute_reply.started": "2025-02-14T21:22:03.375515Z"
    }
   },
   "outputs": [],
   "source": [
    "# Compute nightobs\n",
    "ccd_visit_table[\"nightObs\"] = ccd_visit_table.apply(lambda x: x['visitId']//100_000, axis=1)"
   ]
  },
  {
   "cell_type": "code",
   "execution_count": null,
   "id": "c37f1530-4cb9-4e56-b50a-730df4f76de7",
   "metadata": {
    "execution": {
     "iopub.execute_input": "2025-02-14T21:22:03.478134Z",
     "iopub.status.busy": "2025-02-14T21:22:03.477998Z",
     "iopub.status.idle": "2025-02-14T21:22:03.486116Z",
     "shell.execute_reply": "2025-02-14T21:22:03.485753Z",
     "shell.execute_reply.started": "2025-02-14T21:22:03.478122Z"
    }
   },
   "outputs": [],
   "source": [
    "#  compute time\n",
    "ccd_visit_table[\"Time\"] = pd.to_datetime(ccd_visit_table['obsStart'])"
   ]
  },
  {
   "cell_type": "code",
   "execution_count": null,
   "id": "757eb7f7-6e37-4046-98e3-f43c52728cb8",
   "metadata": {
    "execution": {
     "iopub.execute_input": "2025-02-14T21:22:03.486664Z",
     "iopub.status.busy": "2025-02-14T21:22:03.486542Z",
     "iopub.status.idle": "2025-02-14T21:22:03.507482Z",
     "shell.execute_reply": "2025-02-14T21:22:03.507131Z",
     "shell.execute_reply.started": "2025-02-14T21:22:03.486653Z"
    }
   },
   "outputs": [],
   "source": [
    "# get airmass\n",
    "ccd_visit_table[\"airmass\"] = ccd_visit_table[\"zenithDistance\"].apply(lambda x: 1/np.cos(np.pi/180.*x))"
   ]
  },
  {
   "cell_type": "code",
   "execution_count": null,
   "id": "d5e9f185-f954-471d-8510-3f209ae8ede6",
   "metadata": {
    "execution": {
     "iopub.execute_input": "2025-02-14T21:22:03.508051Z",
     "iopub.status.busy": "2025-02-14T21:22:03.507913Z",
     "iopub.status.idle": "2025-02-14T21:22:03.510975Z",
     "shell.execute_reply": "2025-02-14T21:22:03.510631Z",
     "shell.execute_reply.started": "2025-02-14T21:22:03.508040Z"
    }
   },
   "outputs": [],
   "source": [
    "# Short visit ID\n",
    "ccd_visit_table[\"ccdVid\"] = ccd_visit_table.index -  ccd_visit_table.index[0]\n",
    "ccd_visit_table[\"Vid\"] = ccd_visit_table[\"visitId\"]  -   ccd_visit_table[\"visitId\"].iloc[0]"
   ]
  },
  {
   "cell_type": "code",
   "execution_count": null,
   "id": "61c310a1-e241-475f-b148-9e7f45453b04",
   "metadata": {
    "execution": {
     "iopub.execute_input": "2025-02-14T21:22:03.511480Z",
     "iopub.status.busy": "2025-02-14T21:22:03.511363Z",
     "iopub.status.idle": "2025-02-14T21:22:03.532798Z",
     "shell.execute_reply": "2025-02-14T21:22:03.532456Z",
     "shell.execute_reply.started": "2025-02-14T21:22:03.511468Z"
    }
   },
   "outputs": [],
   "source": [
    "ccd_visit_table"
   ]
  },
  {
   "cell_type": "markdown",
   "id": "3f549a32-c024-4aea-924f-ed817c6ade9b",
   "metadata": {},
   "source": [
    "### Associate Tract and Patch for each visit\n",
    "\n",
    "To associate Tract and Patch to every visit is a long procedure. This association is done at the first pass time in this notebook\n",
    "and written into a csv file. At next execution, this visitid-tract-patch is read into a pandas dtaframe. The association is done\n",
    "on a pair of columns ((visitId,detector)."
   ]
  },
  {
   "cell_type": "code",
   "execution_count": null,
   "id": "02920a07-2718-4e0d-946e-01d46de620de",
   "metadata": {
    "execution": {
     "iopub.execute_input": "2025-02-14T21:22:03.533394Z",
     "iopub.status.busy": "2025-02-14T21:22:03.533263Z",
     "iopub.status.idle": "2025-02-14T21:22:03.588355Z",
     "shell.execute_reply": "2025-02-14T21:22:03.587899Z",
     "shell.execute_reply.started": "2025-02-14T21:22:03.533382Z"
    }
   },
   "outputs": [],
   "source": [
    "# to speed up the calculation of tractID, patchID per visit, this file is saved\n",
    "# or read back\n",
    "if os.path.isfile(fn_ccdVisit_tracts_patches):\n",
    "    print(f\"{fn_ccdVisit_tracts_patches} found !!! ==> Read it !!!\" )\n",
    "    ccd_visit_tract_patch_table = pd.read_csv(fn_ccdVisit_tracts_patches,index_col=0) \n",
    "    # need to add only \"tractID\",\"patchID\" to ccd_visit_table\n",
    "    ccd_visit_tract_patch_table_only = ccd_visit_tract_patch_table[[\"visitId\",\"detector\",\"tractID\",\"patchID\"]]\n",
    "    # do the merging on the columns (visitId,detector), does not add suffixes to column names\n",
    "    new_df = pd.merge(\n",
    "    left=ccd_visit_table, \n",
    "    right=ccd_visit_tract_patch_table_only,\n",
    "    how='left',\n",
    "    left_on=['visitId', 'detector'],\n",
    "    right_on=['visitId', 'detector'], suffixes=('', ''))\n",
    "    #Overwrite the ccd_visit_table by the merge result\n",
    "    new_df\n",
    "    ccd_visit_table=new_df\n",
    "else:\n",
    "    print(f\"{fn_ccdVisit_tracts_patches} NOT found !!! ==> Create it !!! \" )\n",
    "    ccd_visit_table[[\"tractID\",\"patchID\"]] = ccd_visit_table.apply(FindTractAndPatch, axis=1,result_type ='expand')\n",
    "    # check if some (tract,patch) search failed\n",
    "    ccd_visit_table_patchnotfound = ccd_visit_table[ccd_visit_table.patchID==0]\n",
    "    if len(ccd_visit_table_patchnotfound)>0:\n",
    "        ccd_visit_table_patchnotfound.drop(columns=[\"tractID\",\"patchID\"],inplace=True)\n",
    "        ccd_visit_table_patchnotfound[[\"tractID\",\"patchID\"]] = ccd_visit_table_patchnotfound.apply(FindTractAndPatchFromAngularSep, axis=1,result_type ='expand')\n",
    "        for visitindex, row in ccd_visit_table_patchnotfound.iterrows(): \n",
    "            ccd_visit_table.loc[visitindex,[\"tractID\",\"patchID\"]] = ccd_visit_table_patchnotfound.loc[visitindex,[\"tractID\",\"patchID\"]]\n",
    "    #save a subsample for the visit \n",
    "    columns_selected = [\"visitId\",\"band\",\"detector\",\"ra\",\"dec\",\"llcra\",\"llcdec\",\"ulcra\",\"ulcdec\",\"urcra\",\"urcdec\",\"lrcra\",\"lrcdec\",\"ccdVid\",\"Vid\",\"nightObs\",\"tractID\",\"patchID\",\"zeroPoint\",\"airmass\",\"skyBg\",\"skyNoise\",\"expTime\"]\n",
    "    ccd_visit_tract_patch_table = ccd_visit_table[columns_selected]\n",
    "    ccd_visit_tract_patch_table.to_csv(fn_ccdVisit_tracts_patches) \n"
   ]
  },
  {
   "cell_type": "code",
   "execution_count": null,
   "id": "29b81249-404c-44ed-9fd4-9911ab240ef2",
   "metadata": {
    "execution": {
     "iopub.execute_input": "2025-02-14T21:22:03.588969Z",
     "iopub.status.busy": "2025-02-14T21:22:03.588814Z",
     "iopub.status.idle": "2025-02-14T21:22:03.599981Z",
     "shell.execute_reply": "2025-02-14T21:22:03.599576Z",
     "shell.execute_reply.started": "2025-02-14T21:22:03.588951Z"
    }
   },
   "outputs": [],
   "source": [
    "ccd_visit_table.head()"
   ]
  },
  {
   "cell_type": "markdown",
   "id": "b7b1c974-03f3-460f-b1b1-0052d2fd7f5c",
   "metadata": {},
   "source": [
    "## Plot One visit"
   ]
  },
  {
   "cell_type": "code",
   "execution_count": null,
   "id": "0cb077b6-47dc-4ccf-a5f3-e395f33e122b",
   "metadata": {
    "execution": {
     "iopub.execute_input": "2025-02-14T21:22:03.600527Z",
     "iopub.status.busy": "2025-02-14T21:22:03.600404Z",
     "iopub.status.idle": "2025-02-14T21:22:03.727325Z",
     "shell.execute_reply": "2025-02-14T21:22:03.726944Z",
     "shell.execute_reply.started": "2025-02-14T21:22:03.600515Z"
    }
   },
   "outputs": [],
   "source": [
    "fig,ax = plt.subplots(1,1,figsize=(6,6))\n",
    "plotAVisit(ccd_visit_table.iloc[0],ax=ax)\n",
    "ax.set_aspect('equal')\n",
    "ax.set_title(f\"{instrument} \\n {collectionStr}\",fontsize=12)"
   ]
  },
  {
   "cell_type": "markdown",
   "id": "cbb52584-702a-470e-b66a-f4b52846e749",
   "metadata": {
    "execution": {
     "iopub.execute_input": "2025-02-13T13:35:33.617502Z",
     "iopub.status.busy": "2025-02-13T13:35:33.617367Z",
     "iopub.status.idle": "2025-02-13T13:35:33.713933Z",
     "shell.execute_reply": "2025-02-13T13:35:33.713060Z",
     "shell.execute_reply.started": "2025-02-13T13:35:33.617490Z"
    }
   },
   "source": [
    "## 3) sourceTable_visit"
   ]
  },
  {
   "cell_type": "code",
   "execution_count": null,
   "id": "74032aca-f773-41f1-88cb-9be37d4038a9",
   "metadata": {
    "execution": {
     "iopub.execute_input": "2025-02-14T21:22:03.727951Z",
     "iopub.status.busy": "2025-02-14T21:22:03.727797Z",
     "iopub.status.idle": "2025-02-14T21:22:03.730201Z",
     "shell.execute_reply": "2025-02-14T21:22:03.729833Z",
     "shell.execute_reply.started": "2025-02-14T21:22:03.727936Z"
    }
   },
   "outputs": [],
   "source": [
    "FLAG_ISOLATED_STAR_SOURCES = False\n",
    "FLAG_SOURCES_TABLE_VISIT = True\n",
    "FLAG_OBJECTS_TABLE_TRACT = True\n",
    "FLAG_FGCM = False\n",
    "FLAG_FGCM_CYCLE5 = True\n",
    "FLAG_TRANSMISSION = True"
   ]
  },
  {
   "cell_type": "code",
   "execution_count": null,
   "id": "b77b4228-6a87-4500-a1ae-e9872bd1d06f",
   "metadata": {
    "execution": {
     "iopub.execute_input": "2025-02-14T21:22:03.733401Z",
     "iopub.status.busy": "2025-02-14T21:22:03.733277Z",
     "iopub.status.idle": "2025-02-14T21:22:03.843954Z",
     "shell.execute_reply": "2025-02-14T21:22:03.843549Z",
     "shell.execute_reply.started": "2025-02-14T21:22:03.733390Z"
    }
   },
   "outputs": [],
   "source": [
    "# Try to get the Schema\n",
    "\n",
    "if FLAG_SOURCES_TABLE_VISIT:\n",
    "\n",
    "    data_product = \"sourceTable_visit\"\n",
    "    #datasetRefs = butler.registry.queryDatasets(datasetType=data_product, collections=collections, where= where_clause)\n",
    "    datasetRefs = butler.registry.queryDatasets(datasetType=data_product, collections=collection,where = where_clause)\n",
    "    for i, ref in enumerate(datasetRefs):\n",
    "        print(i,ref.dataId)\n",
    "        if i>20:\n",
    "            break\n",
    "    "
   ]
  },
  {
   "cell_type": "code",
   "execution_count": null,
   "id": "0e5290ec-3da5-43f4-af95-aee44e266c75",
   "metadata": {
    "execution": {
     "iopub.execute_input": "2025-02-14T21:22:03.844509Z",
     "iopub.status.busy": "2025-02-14T21:22:03.844384Z",
     "iopub.status.idle": "2025-02-14T21:22:27.445976Z",
     "shell.execute_reply": "2025-02-14T21:22:27.445420Z",
     "shell.execute_reply.started": "2025-02-14T21:22:03.844497Z"
    }
   },
   "outputs": [],
   "source": [
    "all_sourceTable_visit = []\n",
    "count=0\n",
    "for i, ref in enumerate(datasetRefs):\n",
    "    # reduce used memory by filtering useless\n",
    "    t = butler.get(ref)\n",
    "\n",
    "    ## apply selection\n",
    "    t[\"psfMag\"] = (t[\"psfFlux\"].values*u.nJy).to(u.ABmag).value\n",
    "    selection_cut = (t.parentSourceId == 0) & (t.sky_source == False) &  (t.detect_isPrimary == True) & (t.extendedness_flag == False) & (t.blendedness_flag==False) & (t.psfMag<MAGCUT)\n",
    "    tf = t[selection_cut]\n",
    "    \n",
    "    n = len(tf)\n",
    "    count+=n\n",
    "    if i%100==0:\n",
    "        print(f\"loop {i}, n= +{n}/{count}\")\n",
    "\n",
    "    ## save  \n",
    "    if n>0:\n",
    "        all_sourceTable_visit.append(tf)\n",
    "    "
   ]
  },
  {
   "cell_type": "code",
   "execution_count": null,
   "id": "0bd32947-102b-4602-a4a9-1fea55df7c7d",
   "metadata": {
    "execution": {
     "iopub.execute_input": "2025-02-14T21:22:27.446679Z",
     "iopub.status.busy": "2025-02-14T21:22:27.446526Z",
     "iopub.status.idle": "2025-02-14T21:22:28.032992Z",
     "shell.execute_reply": "2025-02-14T21:22:28.032533Z",
     "shell.execute_reply.started": "2025-02-14T21:22:27.446665Z"
    }
   },
   "outputs": [],
   "source": [
    "df = pd.concat(all_sourceTable_visit)"
   ]
  },
  {
   "cell_type": "code",
   "execution_count": null,
   "id": "bb636d51-f3c0-4e1f-83e5-aa0adb6763dd",
   "metadata": {
    "execution": {
     "iopub.execute_input": "2025-02-14T21:22:28.033635Z",
     "iopub.status.busy": "2025-02-14T21:22:28.033505Z",
     "iopub.status.idle": "2025-02-14T21:22:28.037080Z",
     "shell.execute_reply": "2025-02-14T21:22:28.036720Z",
     "shell.execute_reply.started": "2025-02-14T21:22:28.033623Z"
    }
   },
   "outputs": [],
   "source": [
    "selection_cut = (df.parentSourceId == 0) & (df.sky_source == False) &  (df.detect_isPrimary == True) & (df.extendedness_flag == False) & (df.blendedness_flag==False)"
   ]
  },
  {
   "cell_type": "code",
   "execution_count": null,
   "id": "5329e228-73ed-4136-88bc-a40afbbc598b",
   "metadata": {
    "execution": {
     "iopub.execute_input": "2025-02-14T21:22:28.037721Z",
     "iopub.status.busy": "2025-02-14T21:22:28.037601Z",
     "iopub.status.idle": "2025-02-14T21:22:28.074627Z",
     "shell.execute_reply": "2025-02-14T21:22:28.074160Z",
     "shell.execute_reply.started": "2025-02-14T21:22:28.037710Z"
    }
   },
   "outputs": [],
   "source": [
    "df = df[selection_cut]"
   ]
  },
  {
   "cell_type": "code",
   "execution_count": null,
   "id": "ac37794a-3996-416e-8f04-929202d3d9e4",
   "metadata": {
    "execution": {
     "iopub.execute_input": "2025-02-14T21:22:28.075300Z",
     "iopub.status.busy": "2025-02-14T21:22:28.075168Z",
     "iopub.status.idle": "2025-02-14T21:22:28.094446Z",
     "shell.execute_reply": "2025-02-14T21:22:28.094014Z",
     "shell.execute_reply.started": "2025-02-14T21:22:28.075288Z"
    }
   },
   "outputs": [],
   "source": [
    "df"
   ]
  },
  {
   "cell_type": "markdown",
   "id": "870aa2c7-aa0c-47d5-ad73-adadc215839e",
   "metadata": {},
   "source": [
    "## Merge the sourceTable with the CCD visit Table"
   ]
  },
  {
   "cell_type": "code",
   "execution_count": null,
   "id": "3cf08b7a-bf93-4a23-8221-312deacd42cd",
   "metadata": {
    "execution": {
     "iopub.execute_input": "2025-02-14T21:22:28.095094Z",
     "iopub.status.busy": "2025-02-14T21:22:28.094960Z",
     "iopub.status.idle": "2025-02-14T21:22:28.149932Z",
     "shell.execute_reply": "2025-02-14T21:22:28.149473Z",
     "shell.execute_reply.started": "2025-02-14T21:22:28.095082Z"
    }
   },
   "outputs": [],
   "source": [
    "df_m =  pd.merge(left=df, right=ccd_visit_table,how='left',left_on=['visit', 'detector'],right_on=['visitId', 'detector'], suffixes=('', '_vis'))"
   ]
  },
  {
   "cell_type": "code",
   "execution_count": null,
   "id": "60507cbc-270d-4510-9132-9a06e35350a9",
   "metadata": {
    "execution": {
     "iopub.execute_input": "2025-02-14T21:22:28.150541Z",
     "iopub.status.busy": "2025-02-14T21:22:28.150412Z",
     "iopub.status.idle": "2025-02-14T21:22:28.167912Z",
     "shell.execute_reply": "2025-02-14T21:22:28.167510Z",
     "shell.execute_reply.started": "2025-02-14T21:22:28.150528Z"
    }
   },
   "outputs": [],
   "source": [
    "df_m"
   ]
  },
  {
   "cell_type": "code",
   "execution_count": null,
   "id": "9ca4fa34-d2c9-4167-a824-cca3ae44fc11",
   "metadata": {
    "execution": {
     "iopub.execute_input": "2025-02-14T21:22:28.168546Z",
     "iopub.status.busy": "2025-02-14T21:22:28.168419Z",
     "iopub.status.idle": "2025-02-14T21:22:28.170971Z",
     "shell.execute_reply": "2025-02-14T21:22:28.170614Z",
     "shell.execute_reply.started": "2025-02-14T21:22:28.168534Z"
    }
   },
   "outputs": [],
   "source": [
    "cmap = ListedColormap(sns.color_palette(\"hls\", NDET))\n",
    "all_det_colors = [cmap.colors[idx] for idx in range(NDET)]"
   ]
  },
  {
   "cell_type": "code",
   "execution_count": null,
   "id": "d0a52dd9-66f4-4c13-be58-6d805978ac5d",
   "metadata": {
    "execution": {
     "iopub.execute_input": "2025-02-14T21:22:28.171619Z",
     "iopub.status.busy": "2025-02-14T21:22:28.171370Z",
     "iopub.status.idle": "2025-02-14T21:22:29.949107Z",
     "shell.execute_reply": "2025-02-14T21:22:29.948659Z",
     "shell.execute_reply.started": "2025-02-14T21:22:28.171607Z"
    }
   },
   "outputs": [],
   "source": [
    "fig,axes = plt.subplots(3,3,figsize=(16,16),layout=\"constrained\")\n",
    "axs = axes.flatten()\n",
    "\n",
    "for idet, ax in enumerate(axs):\n",
    "    df_m[df_m.detector==idet].plot.scatter(x=\"x\",y=\"y\", marker=\".\",color=all_det_colors[idet],ax=ax,alpha=0.1)\n",
    "    ax.set_aspect('equal')\n",
    "    ax.set_title(f\"det = {idet}\")\n",
    "  \n",
    "    \n",
    "#plt.gca().set_aspect('equal')\n",
    "plt.suptitle(f\"{instrument} (band {band}) \\n {collectionStr}\",fontsize=12)"
   ]
  },
  {
   "cell_type": "markdown",
   "id": "9ca7f00c-1b09-4654-a937-e3664368a478",
   "metadata": {},
   "source": [
    "## Calculate Magnitudes"
   ]
  },
  {
   "cell_type": "code",
   "execution_count": null,
   "id": "77bb403d-6a74-4991-a3f8-28457f7958bd",
   "metadata": {
    "execution": {
     "iopub.execute_input": "2025-02-14T21:22:29.949762Z",
     "iopub.status.busy": "2025-02-14T21:22:29.949632Z",
     "iopub.status.idle": "2025-02-14T21:22:29.964131Z",
     "shell.execute_reply": "2025-02-14T21:22:29.963644Z",
     "shell.execute_reply.started": "2025-02-14T21:22:29.949750Z"
    }
   },
   "outputs": [],
   "source": [
    "# Add columns into df_m table to have them all in one place\n",
    "df_m[\"psfSn\"] = df_m[\"psfFlux\"]/df_m[\"psfFluxErr\"]\n",
    "df_m[\"psfMag\"] = (df_m[\"psfFlux\"].values*u.nJy).to(u.ABmag).value\n",
    "df_m[\"psfMagErr\"] = 2.5/np.log(10.0)*(df_m[\"psfFluxErr\"].values/df_m[\"psfFlux\"].values)\n",
    "\n",
    "\n",
    "# This is the way to apply aperture corrections :\n",
    "df_m[calibFluxCalStr] = df_m[calibFluxStr]*df_m[\"localPhotoCalib\"]\n",
    "df_m[calibFluxCalErrStr] = df_m[calibFluxErrStr]*df_m[\"localPhotoCalib\"]\n",
    "\n",
    "\n",
    "df_m[calibFluxCalMagStr] = (df_m[calibFluxCalStr].values*u.nJy).to(u.ABmag).value\n",
    "df_m[calibFluxCalMagErrStr] = 2.5/np.log(10.0)*(df_m[calibFluxCalErrStr].values/df_m[calibFluxCalStr].values)\n",
    "\n",
    "# NOTE: psfFlux is the fgcm calibrated flux.  I'm pretty sure you get the \"instrumental\" \n",
    "# flux by dividing psfFlux by the localPhotoCalib value.\n",
    "df_m[\"psfInstMag\"] = ((df_m[\"psfFlux\"].values/df_m[\"localPhotoCalib\"].values)*u.nJy).to(u.ABmag).value\n",
    "df_m[\"psfGausFluxRatio\"] = df_m[\"psfFlux\"]/df_m[\"gaussianFlux\"]"
   ]
  },
  {
   "cell_type": "code",
   "execution_count": null,
   "id": "a42c122e-d5b2-4b56-9ffd-75f5b6827d76",
   "metadata": {
    "execution": {
     "iopub.execute_input": "2025-02-14T21:22:29.964791Z",
     "iopub.status.busy": "2025-02-14T21:22:29.964659Z",
     "iopub.status.idle": "2025-02-14T21:22:32.074418Z",
     "shell.execute_reply": "2025-02-14T21:22:32.074006Z",
     "shell.execute_reply.started": "2025-02-14T21:22:29.964778Z"
    }
   },
   "outputs": [],
   "source": [
    "fig,axes = plt.subplots(3,3,figsize=(16,16),layout=\"constrained\",sharex=True,sharey=True)\n",
    "axs = axes.flatten()\n",
    "\n",
    "for idet, ax in enumerate(axs):\n",
    "    leg = ax.get_legend()\n",
    "    df_m[df_m.detector==idet].plot.scatter(x=calibFluxCalMagStr,y=calibFluxCalMagErrStr, marker=\".\",color=all_det_colors[idet],ax=ax,alpha=0.5,legend=leg,label=\"aperture Flux\")\n",
    "    df_m[df_m.detector==idet].plot.scatter(x=\"psfMag\",y=\"psfMagErr\", marker=\"+\",color=all_det_colors[idet],ax=ax,alpha=0.5,legend=leg,label=\"psf Flux\")\n",
    "    ax.set_aspect('auto')\n",
    "    ax.set_title(f\"det = {idet}\")\n",
    "    ax.set_ylim(0.,0.5)\n",
    "    ax.grid(True)\n",
    "    #ax.legend()\n",
    "  \n",
    "    \n",
    "#plt.gca().set_aspect('equal')\n",
    "plt.suptitle(f\"{instrument} (band {band})\\n {collectionStr}\",fontsize=12)"
   ]
  },
  {
   "cell_type": "markdown",
   "id": "e67ce423-0039-4647-aaf2-1013f62e2c0b",
   "metadata": {},
   "source": [
    "## Compute zero-point difference"
   ]
  },
  {
   "cell_type": "code",
   "execution_count": null,
   "id": "49e442d2-c68a-4bde-96dd-36ea64438235",
   "metadata": {
    "execution": {
     "iopub.execute_input": "2025-02-14T21:22:32.075058Z",
     "iopub.status.busy": "2025-02-14T21:22:32.074927Z",
     "iopub.status.idle": "2025-02-14T21:22:32.080319Z",
     "shell.execute_reply": "2025-02-14T21:22:32.079962Z",
     "shell.execute_reply.started": "2025-02-14T21:22:32.075046Z"
    }
   },
   "outputs": [],
   "source": [
    "df_m[\"localPhotoCalibMag\"] = (df_m[\"localPhotoCalib\"].values*u.nJy).to(u.ABmag).value\n",
    "df_m[\"localPhotoCalibMagErr\"] =   2.5/np.log(10.0)*df_m[\"localPhotoCalibErr\"].values/df_m[\"localPhotoCalib\"].values\n",
    "df_m[\"DZP\"] = df_m[\"localPhotoCalibMag\"] - df_m[\"zeroPoint\"]\n",
    "df_m[\"DZPmmag\"] = df_m[\"DZP\"]*1000."
   ]
  },
  {
   "cell_type": "code",
   "execution_count": null,
   "id": "b6196a49-0311-488e-b430-42341e0643cc",
   "metadata": {
    "execution": {
     "iopub.execute_input": "2025-02-14T21:43:09.343172Z",
     "iopub.status.busy": "2025-02-14T21:43:09.342688Z",
     "iopub.status.idle": "2025-02-14T21:43:10.033739Z",
     "shell.execute_reply": "2025-02-14T21:43:10.033278Z",
     "shell.execute_reply.started": "2025-02-14T21:43:09.343155Z"
    }
   },
   "outputs": [],
   "source": [
    "fig,ax = plt.subplots(1,1,figsize=(10,6),layout=\"constrained\",sharex=True)\n",
    "\n",
    "for idet in range(NDET):\n",
    "    leg = ax.get_legend()\n",
    "    stats = df_m[df_m.detector==idet][\"DZPmmag\"].agg([\"mean\",\"median\",\"std\"])\n",
    "    label = f\"det = {idet} \" + \"$\\overline{m}= $\" + f\" {stats[0]:.2f} mmag \" + \" $\\sigma $= \" + f\"{stats[2]:.2f} mmag\"\n",
    "    df_m[df_m.detector==idet][\"DZPmmag\"].hist(bins=100,range=(-15,15), histtype=\"step\",color=all_det_colors[idet],ax=ax,alpha=1,legend=leg,label=label,linewidth=3)\n",
    "ax.legend()\n",
    "ax.legend(bbox_to_anchor=(1.05, 1.02),ncols=1,fontsize=10)\n",
    "ax.set_title(\"Zero-point over Focal Plane\")\n",
    "ax.set_xlabel(\"$\\Delta ZP$ (mmag)\")\n",
    "plt.suptitle(f\"{instrument} (band {band}, mag < {MAGCUT} mag) \\n {collectionStr}\",fontsize=12)\n",
    "figname =f\"{pathfigs}/UNIFZPFP1D_1_{instrument}_{band}\"+figtype\n",
    "plt.savefig(figname)\n",
    "plt.show()"
   ]
  },
  {
   "cell_type": "code",
   "execution_count": null,
   "id": "d4dbbc4e-a18b-4db6-a081-07b7530a347c",
   "metadata": {
    "execution": {
     "iopub.execute_input": "2025-02-14T21:22:32.864968Z",
     "iopub.status.busy": "2025-02-14T21:22:32.864586Z",
     "iopub.status.idle": "2025-02-14T21:22:33.176646Z",
     "shell.execute_reply": "2025-02-14T21:22:33.176203Z",
     "shell.execute_reply.started": "2025-02-14T21:22:32.864954Z"
    }
   },
   "outputs": [],
   "source": [
    "from astropy.modeling import models, fitting\n",
    "props = dict(boxstyle='round', facecolor=\"white\", alpha=0.1)"
   ]
  },
  {
   "cell_type": "code",
   "execution_count": null,
   "id": "bb651b42-580f-4287-9e08-7f78dcbdf5e9",
   "metadata": {
    "execution": {
     "iopub.execute_input": "2025-02-14T21:22:33.177629Z",
     "iopub.status.busy": "2025-02-14T21:22:33.177190Z",
     "iopub.status.idle": "2025-02-14T21:22:35.120012Z",
     "shell.execute_reply": "2025-02-14T21:22:35.119547Z",
     "shell.execute_reply.started": "2025-02-14T21:22:33.177615Z"
    }
   },
   "outputs": [],
   "source": [
    "fig,axes = plt.subplots(3,3,figsize=(16,16),layout=\"constrained\",sharey=True)\n",
    "axs = axes.flatten()\n",
    "NBINS = 100\n",
    "RANGE = (-20,20)\n",
    "xfit = np.linspace(RANGE[0],RANGE[1],NBINS)\n",
    "all_fitparams = {}\n",
    "for idet, ax in enumerate(axs):\n",
    "    leg = ax.get_legend()\n",
    "\n",
    "    stats = df_m[df_m.detector==idet][\"DZPmmag\"].agg([\"mean\",\"median\",\"std\"])\n",
    "    label = f\"det = {idet} \" + \"$\\overline{m}= $\" + f\" {stats[0]:.2f} mmag \" + \" $\\sigma $= \" + f\"{stats[2]:.2f} mmag\"\n",
    "\n",
    "    # fit\n",
    "    histdata = df_m[df_m.detector==idet][\"DZPmmag\"].values\n",
    "    counts,xedges =np.histogram(histdata,bins=NBINS,range=RANGE)\n",
    "    xcenters = (xedges[:-1] + xedges[1:]) / 2\n",
    "    # Fit the data using a Gaussian\n",
    "    g_init = models.Gaussian1D(amplitude=1000., mean=0, stddev=10.)\n",
    "    fit_g = fitting.TRFLSQFitter()\n",
    "    g = fit_g(g_init, xcenters, counts)\n",
    "    fit_m = g.mean.value\n",
    "    fit_s = g.stddev.value\n",
    "    all_fitparams[idet] = g\n",
    "    yfit = g(xfit)\n",
    "    textstr = \"\\n\".join((f\"fit  of gaussian : \",\n",
    "                     f\"- mean : {fit_m:.2f} mmag\",\n",
    "                     f\"- sigma : {fit_s:.2f} mmag\",     \n",
    "                    ))\n",
    "    ax.text(0.05, 0.95, textstr, transform=ax.transAxes, fontsize=16,verticalalignment='top', bbox=props)\n",
    "\n",
    "    \n",
    "    df_m[df_m.detector==idet][\"DZPmmag\"].hist(bins=NBINS,range=RANGE, histtype=\"step\",color=all_det_colors[idet],ax=ax,alpha=1,legend=leg,label=label,linewidth=3)\n",
    "    ax.plot(xfit,yfit,'-k',lw=2)\n",
    "    \n",
    "    ax.set_aspect('auto')\n",
    "    ax.set_title(f\"det = {idet}\")\n",
    "    #ax.set_ylim(0.,0.5)\n",
    "    ax.grid(True)\n",
    "    ax.set_xlabel(\"$\\Delta ZP$ (mmag)\")\n",
    "  \n",
    "    \n",
    "#plt.gca().set_aspect('equal')\n",
    "#plt.suptitle(f\"{instrument} (band {band}, mag < {MAGCUT} mag)\\n {collectionStr}\",fontsize=12)\n",
    "plt.suptitle(\"$\\Delta ZP$ (mmag) : \" + f\" {instrument} (band {band}, mag < {MAGCUT} mag)\\n {collectionStr}\",fontsize=14)\n",
    "figname =f\"{pathfigs}/UNIFZPFP1D_9_{instrument}_{band}\"+figtype\n",
    "plt.savefig(figname)\n",
    "plt.show()"
   ]
  },
  {
   "cell_type": "markdown",
   "id": "3af21896-ffbb-482a-9593-a7db5d203b53",
   "metadata": {},
   "source": [
    "# Select TractID"
   ]
  },
  {
   "cell_type": "code",
   "execution_count": null,
   "id": "5ff40446-539e-4594-8ed0-c0932fe6a798",
   "metadata": {
    "execution": {
     "iopub.execute_input": "2025-02-14T21:22:35.120709Z",
     "iopub.status.busy": "2025-02-14T21:22:35.120565Z",
     "iopub.status.idle": "2025-02-14T21:22:35.123602Z",
     "shell.execute_reply": "2025-02-14T21:22:35.123212Z",
     "shell.execute_reply.started": "2025-02-14T21:22:35.120696Z"
    }
   },
   "outputs": [],
   "source": [
    "List_Of_Tracts = [2394, 4848, 4849, 5063, 5305, 5306, 5525, 5526, 10463]\n",
    "NTRACT = len(List_Of_Tracts)\n",
    "print(NTRACT) "
   ]
  },
  {
   "cell_type": "code",
   "execution_count": null,
   "id": "bcd4cc5f-eb54-4d15-a226-5b8e9663d99c",
   "metadata": {
    "execution": {
     "iopub.execute_input": "2025-02-14T21:22:35.124179Z",
     "iopub.status.busy": "2025-02-14T21:22:35.124050Z",
     "iopub.status.idle": "2025-02-14T21:22:35.133603Z",
     "shell.execute_reply": "2025-02-14T21:22:35.133242Z",
     "shell.execute_reply.started": "2025-02-14T21:22:35.124167Z"
    }
   },
   "outputs": [],
   "source": [
    "cmap = ListedColormap(sns.color_palette(\"hls\", NTRACT ))\n",
    "all_tract_colors = [cmap.colors[idx] for idx in range(NTRACT )]"
   ]
  },
  {
   "cell_type": "code",
   "execution_count": null,
   "id": "caf43333-6b42-4fac-bf90-9d90bcc9bae0",
   "metadata": {
    "execution": {
     "iopub.execute_input": "2025-02-14T21:44:14.184155Z",
     "iopub.status.busy": "2025-02-14T21:44:14.183826Z",
     "iopub.status.idle": "2025-02-14T21:44:14.811842Z",
     "shell.execute_reply": "2025-02-14T21:44:14.811434Z",
     "shell.execute_reply.started": "2025-02-14T21:44:14.184141Z"
    }
   },
   "outputs": [],
   "source": [
    "fig,ax = plt.subplots(1,1,figsize=(10,6),layout=\"constrained\",sharex=True)\n",
    "\n",
    "for itract,theTract in enumerate(List_Of_Tracts):\n",
    "    leg = ax.get_legend()\n",
    "    stats = df_m[df_m.tractID==theTract][\"DZPmmag\"].agg([\"mean\",\"median\",\"std\"])\n",
    "    label = f\"tract = {theTract} \" + \"$\\overline{m}= $\" + f\" {stats[0]:.2f} mmag \" + \" $\\sigma $= \" + f\"{stats[2]:.2f} mmag\"\n",
    "    df_m[df_m.tractID == theTract][\"DZPmmag\"].hist(bins=NBINS,range=RANGE, histtype=\"step\",color=all_tract_colors[itract],ax=ax,alpha=1,legend=leg,label=label,linewidth=3)\n",
    "ax.legend()\n",
    "ax.legend(bbox_to_anchor=(1.05, 1.02),ncols=1,fontsize=10)\n",
    "ax.set_title(\"Zero-point over Tract\")\n",
    "ax.set_xlabel(\"$\\Delta ZP$ (mmag)\")\n",
    "plt.suptitle(f\"{instrument} (band {band}, mag < {MAGCUT} mag) \\n {collectionStr}\",fontsize=12)\n",
    "figname =f\"{pathfigs}/UNIFZPTRACT1D_1_{instrument}_{band}\"+figtype\n",
    "plt.savefig(figname)\n",
    "plt.show()"
   ]
  },
  {
   "cell_type": "code",
   "execution_count": null,
   "id": "f59c14cb-8f26-4906-aecc-67a8816a38e3",
   "metadata": {
    "execution": {
     "iopub.execute_input": "2025-02-14T21:22:35.727123Z",
     "iopub.status.busy": "2025-02-14T21:22:35.726994Z",
     "iopub.status.idle": "2025-02-14T21:22:35.729477Z",
     "shell.execute_reply": "2025-02-14T21:22:35.729136Z",
     "shell.execute_reply.started": "2025-02-14T21:22:35.727111Z"
    }
   },
   "outputs": [],
   "source": [
    "from astropy.modeling import models, fitting\n",
    "props = dict(boxstyle='round', facecolor=\"white\", alpha=0.1)"
   ]
  },
  {
   "cell_type": "code",
   "execution_count": null,
   "id": "05e59d6d-ea64-424d-8ca0-d3a1a5b2f075",
   "metadata": {
    "execution": {
     "iopub.execute_input": "2025-02-14T21:41:09.908601Z",
     "iopub.status.busy": "2025-02-14T21:41:09.908294Z",
     "iopub.status.idle": "2025-02-14T21:41:11.948804Z",
     "shell.execute_reply": "2025-02-14T21:41:11.948455Z",
     "shell.execute_reply.started": "2025-02-14T21:41:09.908587Z"
    }
   },
   "outputs": [],
   "source": [
    "fig,axes = plt.subplots(3,3,figsize=(16,16),layout=\"constrained\")\n",
    "axs = axes.flatten()\n",
    "NBINS = 100\n",
    "RANGE = (-10,10)\n",
    "xfit = np.linspace(RANGE[0],RANGE[1],NBINS)\n",
    "all_fitparams = {}\n",
    "for itract, ax in enumerate(axs):\n",
    "    theTractID = List_Of_Tracts[itract]\n",
    "    leg = ax.get_legend()\n",
    "    stats = df_m[df_m.tractID==theTractID][\"DZPmmag\"].agg([\"mean\",\"median\",\"std\"])\n",
    "    label = f\"tract = {theTractID} \" + \"$\\overline{m}= $\" + f\" {stats[0]:.2f} mmag \" + \" $\\sigma $= \" + f\"{stats[2]:.2f} mmag\"\n",
    "\n",
    "    # fit\n",
    "    histdata = df_m[df_m.tractID==theTractID][\"DZPmmag\"].values\n",
    "    counts,xedges =np.histogram(histdata,bins=NBINS,range=RANGE)\n",
    "    xcenters = (xedges[:-1] + xedges[1:]) / 2\n",
    "    # Fit the data using a Gaussian\n",
    "    g_init = models.Gaussian1D(amplitude=1000., mean=0, stddev=10.)\n",
    "    fit_g = fitting.TRFLSQFitter()\n",
    "    g = fit_g(g_init, xcenters, counts)\n",
    "    fit_m = g.mean.value\n",
    "    fit_s = g.stddev.value\n",
    "    all_fitparams[theTractID] = g\n",
    "    yfit = g(xfit)\n",
    "    textstr = \"\\n\".join((f\"fit  of gaussian : \",\n",
    "                     f\"- mean : {fit_m:.2f} mmag\",\n",
    "                     f\"- sigma : {fit_s:.2f} mmag\",     \n",
    "                    ))\n",
    "    ax.text(0.05, 0.95, textstr, transform=ax.transAxes, fontsize=16,verticalalignment='top', bbox=props)\n",
    "\n",
    "    \n",
    "    df_m[df_m.tractID==theTractID][\"DZPmmag\"].hist(bins=NBINS,range=RANGE, histtype=\"step\",color=all_tract_colors[itract],ax=ax,alpha=1,legend=leg,label=label,linewidth=3)\n",
    "    ax.plot(xfit,yfit,'-k',lw=2)\n",
    "    \n",
    "    ax.set_aspect('auto')\n",
    "    ax.set_title(f\"tract = {theTractID}\")\n",
    "    #ax.set_ylim(0.,0.5)\n",
    "    ax.grid(True)\n",
    "    ax.set_xlabel(\"$\\Delta ZP$ (mmag)\")\n",
    "  \n",
    "    \n",
    "#plt.gca().set_aspect('equal')\n",
    "#plt.suptitle(f\"{instrument} (band {band}, mag < {MAGCUT} mag)\\n {collectionStr}\",fontsize=12)\n",
    "plt.suptitle(\"$\\Delta ZP$ (mmag) : \" + f\" {instrument} (band {band}, mag < {MAGCUT} mag)\\n {collectionStr}\",fontsize=14)\n",
    "figname =f\"{pathfigs}/UNIFZPTRACT1D_9_{instrument}_{band}\"+figtype\n",
    "plt.savefig(figname)\n",
    "plt.show()"
   ]
  },
  {
   "cell_type": "code",
   "execution_count": null,
   "id": "70969442-93d6-4778-9b96-edd884671fcc",
   "metadata": {
    "execution": {
     "iopub.execute_input": "2025-02-14T21:45:22.082414Z",
     "iopub.status.busy": "2025-02-14T21:45:22.082095Z",
     "iopub.status.idle": "2025-02-14T21:45:22.085163Z",
     "shell.execute_reply": "2025-02-14T21:45:22.084825Z",
     "shell.execute_reply.started": "2025-02-14T21:45:22.082399Z"
    }
   },
   "outputs": [],
   "source": [
    "cmap = mpl.colormaps['seismic']\n",
    "cmap_invert = mpl.colormaps['seismic_r']\n",
    "norm = mpl.colors.Normalize(vmin=-10., vmax=10.)\n",
    "\n",
    "from matplotlib import cm\n",
    "#normalize item number values to colormap"
   ]
  },
  {
   "cell_type": "code",
   "execution_count": null,
   "id": "b0e9b338-7d77-47d4-a9ef-311aff1180d8",
   "metadata": {
    "execution": {
     "iopub.execute_input": "2025-02-14T21:45:25.066730Z",
     "iopub.status.busy": "2025-02-14T21:45:25.066410Z",
     "iopub.status.idle": "2025-02-14T21:45:25.085238Z",
     "shell.execute_reply": "2025-02-14T21:45:25.084900Z",
     "shell.execute_reply.started": "2025-02-14T21:45:25.066715Z"
    }
   },
   "outputs": [],
   "source": [
    "df_m"
   ]
  },
  {
   "cell_type": "code",
   "execution_count": null,
   "id": "2875a5d2-c37d-4f2c-81ce-68ee59979571",
   "metadata": {
    "execution": {
     "iopub.execute_input": "2025-02-14T21:47:38.650828Z",
     "iopub.status.busy": "2025-02-14T21:47:38.650477Z",
     "iopub.status.idle": "2025-02-14T21:47:49.539869Z",
     "shell.execute_reply": "2025-02-14T21:47:49.539270Z",
     "shell.execute_reply.started": "2025-02-14T21:47:38.650812Z"
    }
   },
   "outputs": [],
   "source": [
    "fig,axes = plt.subplots(3,3,figsize=(18,18),layout=\"constrained\")\n",
    "axs = axes.flatten()\n",
    "\n",
    "#for idet, ax in enumerate(axs):\n",
    "for itract, ax in enumerate(axs):\n",
    "    leg = ax.get_legend()\n",
    "    \n",
    "    theTractID = List_Of_Tracts[itract]\n",
    "    leg = ax.get_legend()\n",
    "    stats = df_m[df_m.tractID==theTractID][\"DZPmmag\"].agg([\"mean\",\"median\",\"std\"])\n",
    "    label = f\"tract = {theTractID} \" + \"$\\overline{m}= $\" + f\" {stats[0]:.2f} mmag \" + \" $\\sigma $= \" + f\"{stats[2]:.2f} mmag\"\n",
    "\n",
    "    \n",
    "    fitparams = all_fitparams[theTractID]\n",
    "    fit_m = fitparams.mean.value\n",
    "    fit_s = fitparams.stddev.value\n",
    "    label = f\"tract = {theTractID} \\n\" + \"$\\overline{m}= $\" + f\" {fit_m:.2f} mmag \\n\" + \" $\\sigma $= \" + f\"{fit_s:.2f} mmag\"\n",
    "    df_data =  df_m[df_m.tractID==theTractID]\n",
    "    rgba_color = cmap(norm(df_data[\"DZPmmag\"].values )) \n",
    "    #df_data.plot.scatter(x=\"x\",y=\"y\",c=\"DZPmmag\",cmap=\"seismic\",ax=ax,marker=\"o\",colorbar=\"True\",vmin=-5,vmax=5.)\n",
    "    #df_data.plot.scatter(x=\"x\",y=\"y\",s=1.,c=rgba_color,cmap=cm.seismic,ax=ax)\n",
    "    im = ax.scatter(\"coord_ra\", \"coord_dec\",c='DZPmmag',data=df_data,cmap=\"seismic\",marker=\"o\",label=label,vmin=RANGE[0],vmax=RANGE[1])\n",
    "    ax.grid(True)\n",
    "    ax.legend(fontsize=18)\n",
    "    ax.set_aspect('equal')\n",
    "plt.suptitle(\"$\\Delta ZP$ (mmag) : \" + f\" {instrument} (band {band}, mag < {MAGCUT} mag)\\n {collectionStr}\",fontsize=16)\n",
    "\n",
    "#fig.add_axes\n",
    "#rect : tuple (left, bottom, width, height)\n",
    "#    The dimensions (left, bottom, width, height) of the new\n",
    "#    `~.axes.Axes`. All quantities are in fractions of figure width and\n",
    "#    height.\n",
    "cbar_ax = fig.add_axes([1.01, 0, 0.03, 1.0])\n",
    "\n",
    "fig.colorbar(im, cax=cbar_ax)    \n",
    "cbar_ax.set_ylabel('$\\Delta ZP$ (mmag)', rotation=90)\n",
    "\n",
    "figname =f\"{pathfigs}/UNIFZPTRACT2D_9_{instrument}_{band}\"+figtype\n",
    "plt.savefig(figname)\n",
    "\n",
    "plt.show()"
   ]
  },
  {
   "cell_type": "code",
   "execution_count": null,
   "id": "65539505-55ba-4dbe-b677-978a0f7660f0",
   "metadata": {},
   "outputs": [],
   "source": []
  }
 ],
 "metadata": {
  "kernelspec": {
   "display_name": "LSST",
   "language": "python",
   "name": "lsst"
  },
  "language_info": {
   "codemirror_mode": {
    "name": "ipython",
    "version": 3
   },
   "file_extension": ".py",
   "mimetype": "text/x-python",
   "name": "python",
   "nbconvert_exporter": "python",
   "pygments_lexer": "ipython3",
   "version": "3.11.11"
  }
 },
 "nbformat": 4,
 "nbformat_minor": 5
}
