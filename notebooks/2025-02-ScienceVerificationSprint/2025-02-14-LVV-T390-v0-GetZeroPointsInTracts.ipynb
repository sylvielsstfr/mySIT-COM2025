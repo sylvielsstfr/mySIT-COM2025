{
 "cells": [
  {
   "cell_type": "markdown",
   "id": "8f3da262-37ed-407f-908c-8ac5a52cb4db",
   "metadata": {},
   "source": [
    "# Notebook to access to data on CCDVisits for the System-level Science Performance Verification Sprint February 3-5 2025\n",
    "\n",
    "## LSSTComCam ZERO-Point uniformity in Tracts in the selected band in a selected range of dates\n",
    "\n",
    "- Confluence page : https://rubinobs.atlassian.net/wiki/spaces/LSSTCOM/pages/372867091/System-level+Science+Performance+Verification+Sprint\n",
    "- slides : https://docs.google.com/presentation/d/1bPjS5NGtiEL2lfjmvP1UYdG_tMEDfZxX26ayhf7MhtY/edit#slide=id.ga2f7fb1a1f_0_70"
   ]
  },
  {
   "cell_type": "markdown",
   "id": "f3737976-eab8-4483-a79d-796f738c4f22",
   "metadata": {},
   "source": [
    "- where to find the campains\n",
    "- https://rubinobs.atlassian.net/wiki/spaces/DM/pages/226656354/LSSTComCam+Intermittent+Cumulative+DRP+Runs\n",
    "\n",
    "- plot Navigator\n",
    "- https://usdf-rsp.slac.stanford.edu/plot-navigator\n",
    "- https://usdf-rsp.slac.stanford.edu/plot-navigator/plot/%2Frepo%2Fmain/LSSTComCam%2Fruns%2FDRP%2FDP1%2Fw_2025_05%2FDM-48666/objectTableCore_coaddInputCount_SkyPlot"
   ]
  },
  {
   "cell_type": "markdown",
   "id": "53b4594d-5de5-4fa1-8ada-f60f0018cac5",
   "metadata": {},
   "source": [
    "- Notebooks examples\n",
    "- https://github.com/lsst-dm/DMTR-401/blob/main/notebooks/test_LVV-T40_T1240.ipynb\n",
    "- https://github.com/lsst-dm/DMTR-412/blob/tickets/DM-38728/notebooks/test_LVV-T1751_AM1_AM2.ipynb"
   ]
  },
  {
   "cell_type": "markdown",
   "id": "8402aac4-562a-40cd-ac2b-c1ca76cae55b",
   "metadata": {},
   "source": [
    "- author : Sylvie Dagoret-Campagne\n",
    "- creation date : 2025-02-13\n",
    "- last update : 2025-02-15\n",
    "- Redo Visits like here : https://github.com/sylvielsstfr/LSST-Rehearsal2024/blob/main/notebooks/Visits/stat_on_visits_LSSTComCamSim.ipynb\n",
    "- To find what I did on LSSTComCamSim : https://github.com/sylvielsstfr/LSST-Rehearsal2024/blob/main/notebooks/LightCurves/MultiColor_lightCurves-DMRehearsal2024_01-AuxTel-DZPOnCCD.ipynb\n",
    "- **Confluence page** : https://rubinobs.atlassian.net/wiki/spaces/LSSTCOM/pages/443613290/Science+Verification+Sprint+Feb+2025\n"
   ]
  },
  {
   "cell_type": "code",
   "execution_count": null,
   "id": "9d583412-a5a0-456e-84be-1fb658ddf016",
   "metadata": {
    "execution": {
     "iopub.execute_input": "2025-02-15T19:14:32.703213Z",
     "iopub.status.busy": "2025-02-15T19:14:32.703075Z",
     "iopub.status.idle": "2025-02-15T19:14:33.280738Z",
     "shell.execute_reply": "2025-02-15T19:14:33.280315Z",
     "shell.execute_reply.started": "2025-02-15T19:14:32.703200Z"
    }
   },
   "outputs": [],
   "source": [
    "# Confirm that the version of the Science Pipelines is recent:\n",
    "! echo $HOSTNAME\n",
    "! eups list -s | grep lsst_distrib"
   ]
  },
  {
   "cell_type": "code",
   "execution_count": null,
   "id": "8fbb9671-7d8e-4724-8c58-0f0a4fb9e5f0",
   "metadata": {
    "execution": {
     "iopub.execute_input": "2025-02-15T19:14:33.281404Z",
     "iopub.status.busy": "2025-02-15T19:14:33.281250Z",
     "iopub.status.idle": "2025-02-15T19:14:34.123871Z",
     "shell.execute_reply": "2025-02-15T19:14:34.123416Z",
     "shell.execute_reply.started": "2025-02-15T19:14:33.281388Z"
    }
   },
   "outputs": [],
   "source": [
    "from lsst.daf.butler import Butler\n",
    "import lsst.geom as geom"
   ]
  },
  {
   "cell_type": "code",
   "execution_count": null,
   "id": "e814e3d6-750c-4e7f-a9a5-5bf1e2f7205f",
   "metadata": {
    "execution": {
     "iopub.execute_input": "2025-02-15T19:14:34.124601Z",
     "iopub.status.busy": "2025-02-15T19:14:34.124403Z",
     "iopub.status.idle": "2025-02-15T19:14:35.658034Z",
     "shell.execute_reply": "2025-02-15T19:14:35.657595Z",
     "shell.execute_reply.started": "2025-02-15T19:14:34.124586Z"
    }
   },
   "outputs": [],
   "source": [
    "import os\n",
    "import gc\n",
    "import glob\n",
    "import numpy as np\n",
    "import pandas as pd\n",
    "import random\n",
    "\n",
    "import astropy.units as u\n",
    "from astropy.coordinates import SkyCoord\n",
    "from astropy.visualization import (MinMaxInterval, AsinhStretch, ZScaleInterval, LogStretch, LinearStretch,\n",
    "                                   ImageNormalize)\n",
    "from astropy.modeling import models, fitting"
   ]
  },
  {
   "cell_type": "code",
   "execution_count": null,
   "id": "e68df967-7870-47da-a4dd-760df6732aa5",
   "metadata": {
    "execution": {
     "iopub.execute_input": "2025-02-15T19:14:35.658869Z",
     "iopub.status.busy": "2025-02-15T19:14:35.658548Z",
     "iopub.status.idle": "2025-02-15T19:14:35.959528Z",
     "shell.execute_reply": "2025-02-15T19:14:35.959004Z",
     "shell.execute_reply.started": "2025-02-15T19:14:35.658854Z"
    }
   },
   "outputs": [],
   "source": [
    "import seaborn as sns\n",
    "from itertools import cycle, islice"
   ]
  },
  {
   "cell_type": "code",
   "execution_count": null,
   "id": "f385c649-efb6-40a8-b9f7-ebc65c441a04",
   "metadata": {
    "execution": {
     "iopub.execute_input": "2025-02-15T19:14:35.960563Z",
     "iopub.status.busy": "2025-02-15T19:14:35.960115Z",
     "iopub.status.idle": "2025-02-15T19:14:35.962905Z",
     "shell.execute_reply": "2025-02-15T19:14:35.962530Z",
     "shell.execute_reply.started": "2025-02-15T19:14:35.960547Z"
    }
   },
   "outputs": [],
   "source": [
    "from astropy.time import Time\n",
    "from datetime import datetime, timedelta\n"
   ]
  },
  {
   "cell_type": "code",
   "execution_count": null,
   "id": "46c68d72-750b-4bb9-b92a-1fe6e1728171",
   "metadata": {
    "execution": {
     "iopub.execute_input": "2025-02-15T19:14:35.963537Z",
     "iopub.status.busy": "2025-02-15T19:14:35.963412Z",
     "iopub.status.idle": "2025-02-15T19:14:35.970744Z",
     "shell.execute_reply": "2025-02-15T19:14:35.970370Z",
     "shell.execute_reply.started": "2025-02-15T19:14:35.963525Z"
    }
   },
   "outputs": [],
   "source": [
    "import lsst.geom as geom\n",
    "from lsst.geom import Angle\n",
    "from lsst.geom import SpherePoint\n",
    "from lsst.geom import AngleUnit"
   ]
  },
  {
   "cell_type": "code",
   "execution_count": null,
   "id": "5af15c53-1d3f-42ee-81d8-508a2daa56c0",
   "metadata": {
    "execution": {
     "iopub.execute_input": "2025-02-15T19:14:35.971398Z",
     "iopub.status.busy": "2025-02-15T19:14:35.971270Z",
     "iopub.status.idle": "2025-02-15T19:14:35.987600Z",
     "shell.execute_reply": "2025-02-15T19:14:35.987162Z",
     "shell.execute_reply.started": "2025-02-15T19:14:35.971387Z"
    }
   },
   "outputs": [],
   "source": [
    "# Set plotting defaults\n",
    "%matplotlib inline\n",
    "\n",
    "import matplotlib as mpl\n",
    "import matplotlib.pyplot as plt\n",
    "from matplotlib.ticker import FormatStrFormatter\n",
    "from matplotlib.colors import ListedColormap\n",
    "from matplotlib import colors\n",
    "from matplotlib import cm\n",
    "\n",
    "zscale = ZScaleInterval()\n",
    "\n",
    "# Set up some plotting defaults:\n",
    "plt.rcParams.update({'figure.figsize' : (12, 8)})\n",
    "plt.rcParams.update({'font.size' : 24})\n",
    "plt.rcParams.update({'axes.linewidth' : 3})\n",
    "plt.rcParams.update({'axes.labelweight' : 3})\n",
    "plt.rcParams.update({'axes.titleweight' : 5})\n",
    "plt.rcParams.update({'ytick.major.width' : 3})\n",
    "plt.rcParams.update({'ytick.minor.width' : 2})\n",
    "plt.rcParams.update({'ytick.major.size' : 8})\n",
    "plt.rcParams.update({'ytick.minor.size' : 5})\n",
    "plt.rcParams.update({'xtick.major.size' : 8})\n",
    "plt.rcParams.update({'xtick.minor.size' : 5})\n",
    "plt.rcParams.update({'xtick.major.width' : 3})\n",
    "plt.rcParams.update({'xtick.minor.width' : 2})\n",
    "plt.rcParams.update({'xtick.direction' : 'in'})\n",
    "plt.rcParams.update({'ytick.direction' : 'in'})\n",
    "\n",
    "props = dict(boxstyle='round', facecolor=\"white\", alpha=0.1)"
   ]
  },
  {
   "cell_type": "markdown",
   "id": "5e8abba5-2af0-47bb-a8e4-906a30c18457",
   "metadata": {},
   "source": [
    "### Definition of functions"
   ]
  },
  {
   "cell_type": "code",
   "execution_count": null,
   "id": "352858ec-5409-4046-89c4-d9a41f2a400e",
   "metadata": {
    "execution": {
     "iopub.execute_input": "2025-02-15T19:14:35.990193Z",
     "iopub.status.busy": "2025-02-15T19:14:35.990054Z",
     "iopub.status.idle": "2025-02-15T19:14:35.992861Z",
     "shell.execute_reply": "2025-02-15T19:14:35.992452Z",
     "shell.execute_reply.started": "2025-02-15T19:14:35.990180Z"
    }
   },
   "outputs": [],
   "source": [
    "def angle_in_range(alpha, lower, upper):\n",
    "    return (alpha - lower) % 360 <= (upper - lower) % 360"
   ]
  },
  {
   "cell_type": "code",
   "execution_count": null,
   "id": "c2e61470-5dd3-4b6e-b800-a25bedfc0a7e",
   "metadata": {
    "execution": {
     "iopub.execute_input": "2025-02-15T19:14:35.993453Z",
     "iopub.status.busy": "2025-02-15T19:14:35.993323Z",
     "iopub.status.idle": "2025-02-15T19:14:36.001440Z",
     "shell.execute_reply": "2025-02-15T19:14:35.999974Z",
     "shell.execute_reply.started": "2025-02-15T19:14:35.993438Z"
    }
   },
   "outputs": [],
   "source": [
    "def get_bbox_radec(wcs, bbox):\n",
    "    \"\"\"\n",
    "    Return the corners in RA,Dec in degrees given the WCS and bounding box for an image.\n",
    "\n",
    "    Parameters\n",
    "    ----------\n",
    "    wcs: image WCS returned by the Butler\n",
    "    bbox: bounding box returned by the Butler\n",
    "\n",
    "    Returns\n",
    "    -------\n",
    "    ramin,ramax,decmin,decmax in decimal degrees\n",
    "    \"\"\"\n",
    "\n",
    "    xmin = bbox.beginX\n",
    "    xmax = bbox.endX\n",
    "    ymin = bbox.beginY\n",
    "    ymax = bbox.endY\n",
    "    \n",
    "    radec_ll = wcs.pixelToSky(xmin, ymin)\n",
    "    radec_ur = wcs.pixelToSky(xmax, ymax)\n",
    "        \n",
    "    return radec_ur.getRa().asDegrees(),radec_ll.getRa().asDegrees(), radec_ll.getDec().asDegrees(),radec_ur.getDec().asDegrees() \n"
   ]
  },
  {
   "cell_type": "code",
   "execution_count": null,
   "id": "57faae1f-6bc6-4784-9005-2555cfbf52ee",
   "metadata": {
    "execution": {
     "iopub.execute_input": "2025-02-15T19:14:36.002338Z",
     "iopub.status.busy": "2025-02-15T19:14:36.002013Z",
     "iopub.status.idle": "2025-02-15T19:14:36.013272Z",
     "shell.execute_reply": "2025-02-15T19:14:36.012869Z",
     "shell.execute_reply.started": "2025-02-15T19:14:36.002325Z"
    }
   },
   "outputs": [],
   "source": [
    "def isradec_inbbox_angularsep(ra,dec,wcs, bbox):\n",
    "    \"\"\"\n",
    "    Return the corners in RA,Dec in degrees given the WCS and bounding box for an image.\n",
    "\n",
    "    Parameters\n",
    "    ----------\n",
    "    ra: ra in degree\n",
    "    dec: dec in degree\n",
    "    wcs: image WCS returned by the Butler\n",
    "    bbox: bounding box returned by the Butler\n",
    "\n",
    "    Returns\n",
    "    -------\n",
    "    float in degree\n",
    "    \n",
    "    \"\"\"\n",
    "\n",
    "   \n",
    "    RAMIN,RAMAX,DECMIN,DECMAX = get_bbox_radec(wcs, bbox)\n",
    "  \n",
    "    RAMEAN = np.mean([RAMIN,RAMAX])\n",
    "    DECMEAN = np.mean([DECMIN,DECMAX])\n",
    "\n",
    "    sp0 = SpherePoint(longitude=geom.Angle(ra,geom.degrees),latitude=geom.Angle(dec,geom.degrees))\n",
    "    sp1 = SpherePoint(longitude=geom.Angle(RAMEAN,geom.degrees),latitude=geom.Angle(DECMEAN,geom.degrees)) \n",
    "    \n",
    "    sep = sp0.separation(sp1).asDegrees()\n",
    "     \n",
    "    return sep\n"
   ]
  },
  {
   "cell_type": "code",
   "execution_count": null,
   "id": "fed836bf-cd9f-4de1-92ff-d62f4f87f60a",
   "metadata": {
    "execution": {
     "iopub.execute_input": "2025-02-15T19:14:36.013867Z",
     "iopub.status.busy": "2025-02-15T19:14:36.013744Z",
     "iopub.status.idle": "2025-02-15T19:14:36.020151Z",
     "shell.execute_reply": "2025-02-15T19:14:36.019773Z",
     "shell.execute_reply.started": "2025-02-15T19:14:36.013855Z"
    }
   },
   "outputs": [],
   "source": [
    "def isradec_inbbox_radec(ra,dec,wcs, bbox):\n",
    "    \"\"\"\n",
    "    Return the corners in RA,Dec in degrees given the WCS and bounding box for an image.\n",
    "\n",
    "    Parameters\n",
    "    ----------\n",
    "    ra: ra in degree\n",
    "    dec: dec in degree\n",
    "    wcs: image WCS returned by the Butler\n",
    "    bbox: bounding box returned by the Butler\n",
    "\n",
    "    Returns\n",
    "    -------\n",
    "    Bool\n",
    "    \n",
    "    \"\"\"\n",
    "\n",
    "    RAMIN,RAMAX,DECMIN,DECMAX = get_bbox_radec(wcs, bbox)\n",
    "\n",
    "    flag_ra = angle_in_range(ra,RAMIN,RAMAX)\n",
    "    flag_dec = angle_in_range(dec,DECMIN,DECMAX)\n",
    "\n",
    "    flag = flag_ra and flag_dec\n",
    "    return flag\n"
   ]
  },
  {
   "cell_type": "code",
   "execution_count": null,
   "id": "a86f902b-bf08-4874-a2ae-85d5c20907b7",
   "metadata": {
    "execution": {
     "iopub.execute_input": "2025-02-15T19:14:36.020726Z",
     "iopub.status.busy": "2025-02-15T19:14:36.020607Z",
     "iopub.status.idle": "2025-02-15T19:14:36.028306Z",
     "shell.execute_reply": "2025-02-15T19:14:36.027940Z",
     "shell.execute_reply.started": "2025-02-15T19:14:36.020715Z"
    }
   },
   "outputs": [],
   "source": [
    "def FindTractAndPatch(row):\n",
    "    \"\"\"\n",
    "    Apply this function on ccdvisitTable dataframe to find the tract and patch for each visit\n",
    "    \"\"\"\n",
    "     \n",
    "    try:\n",
    "        ra = row[\"ra\"]\n",
    "        dec = row[\"dec\"]\n",
    "        selectFlag = False\n",
    "        # loop on tract\n",
    "        for tractID in tractsId_list:\n",
    "            tractInfo = skymap.generateTract(tractID)\n",
    "            patches_selected = [patch.getSequentialIndex() for patch in tractInfo]\n",
    "            wcs=tractInfo.getWcs()\n",
    "            # loop on patches\n",
    "            for patch in tractInfo:\n",
    "                patchID = patch.getSequentialIndex()\n",
    "                if patchID in patches_selected:\n",
    "                    ibb=patch.getInnerBBox()\n",
    "                    flag = isradec_inbbox_radec(ra,dec,wcs, ibb)\n",
    "                    selectFlag =  selectFlag or flag\n",
    "                    if selectFlag:\n",
    "                        return pd.Series([tractID,patchID])\n",
    "        return pd.Series([0,0])           \n",
    "                \n",
    "    except Exception as inst:\n",
    "        print(type(inst))    # the exception type\n",
    "        print(inst.args)     # arguments stored in .args\n",
    "        print(inst)          # __str__ allows args to be printed directly,\n",
    "        return pd.Series([0,0])  \n",
    "        "
   ]
  },
  {
   "cell_type": "code",
   "execution_count": null,
   "id": "97d63db3-29a2-478f-8ebe-19108a12ee50",
   "metadata": {
    "execution": {
     "iopub.execute_input": "2025-02-15T19:14:36.028872Z",
     "iopub.status.busy": "2025-02-15T19:14:36.028751Z",
     "iopub.status.idle": "2025-02-15T19:14:36.036824Z",
     "shell.execute_reply": "2025-02-15T19:14:36.036480Z",
     "shell.execute_reply.started": "2025-02-15T19:14:36.028861Z"
    }
   },
   "outputs": [],
   "source": [
    "def FindTractAndPatchFromAngularSep(row):\n",
    "    \"\"\"\n",
    "    Apply this function on ccdvisitTable dataframe to find the tract and patch for each visit\n",
    "    Need the tractsId_list not to scan the whole skymap\n",
    "    \"\"\"\n",
    "\n",
    "     \n",
    "    try:\n",
    "        ra = row[\"ra\"]\n",
    "        dec = row[\"dec\"]\n",
    "        \n",
    "        # loop on tracts\n",
    "        List_of_tractids = []\n",
    "        List_of_patchids = []\n",
    "        List_of_sep = []\n",
    "        \n",
    "        for tractID in tractsId_list:\n",
    "            tractInfo = skymap.generateTract(tractID)\n",
    "            patches_selected = [patch.getSequentialIndex() for patch in tractInfo]\n",
    "         \n",
    "            wcs=tractInfo.getWcs()\n",
    "            # loop on patches\n",
    "            patches_ids = []\n",
    "            patches_sep = []\n",
    "            # loop on patches\n",
    "            for patch in tractInfo:\n",
    "                patchID = patch.getSequentialIndex()\n",
    "                if patchID in patches_selected:\n",
    "                    ibb=patch.getInnerBBox()\n",
    "                  \n",
    "                    sep = isradec_inbbox_angularsep(ra,dec,wcs, ibb)\n",
    "                    patches_ids.append(patchID)\n",
    "                    patches_sep.append(sep)\n",
    "                    \n",
    "            # find the patch with the minimum distance\n",
    "            patches_ids=np.array(patches_ids)\n",
    "            patches_sep= np.array(patches_sep)\n",
    "            idx_sepmin = int(np.where(patches_sep==patches_sep.min())[0])\n",
    "            \n",
    "            \n",
    "            List_of_tractids.append(tractID)\n",
    "            List_of_patchids.append(patches_ids[idx_sepmin])\n",
    "            List_of_sep.append(patches_sep[idx_sepmin])\n",
    "            \n",
    "        List_of_tractids=np.array(List_of_tractids)\n",
    "        List_of_patchids=np.array(List_of_patchids)\n",
    "        List_of_sep= np.array(List_of_sep)\n",
    "        idx_sepmin = int(np.where(List_of_sep==List_of_sep.min())[0])\n",
    "\n",
    "        tractID_sel = List_of_tractids[idx_sepmin]\n",
    "        patchID_sel = List_of_patchids[idx_sepmin]\n",
    "       \n",
    "            \n",
    "        return pd.Series([tractID_sel,patchID_sel])\n",
    "               \n",
    "                \n",
    "    except Exception as inst:\n",
    "        print(type(inst))    # the exception type\n",
    "        print(inst.args)     # arguments stored in .args\n",
    "        print(inst)          # __str__ allows args to be printed directly,\n",
    "        return pd.Series([0,0])  \n",
    "        "
   ]
  },
  {
   "cell_type": "code",
   "execution_count": null,
   "id": "7bfe58fb-fdba-46d3-b05b-983f147aeab1",
   "metadata": {
    "execution": {
     "iopub.execute_input": "2025-02-15T19:14:36.037371Z",
     "iopub.status.busy": "2025-02-15T19:14:36.037241Z",
     "iopub.status.idle": "2025-02-15T19:14:36.046276Z",
     "shell.execute_reply": "2025-02-15T19:14:36.045784Z",
     "shell.execute_reply.started": "2025-02-15T19:14:36.037359Z"
    }
   },
   "outputs": [],
   "source": [
    "def plotAVisit(row,ax=None):\n",
    "    \"\"\"\n",
    "    row : dataframe row\n",
    "    ax \n",
    "    \"\"\"\n",
    "\n",
    "    if ax == None:\n",
    "        fig, ax = plt.subplots(1,1,figsize=(5,5))\n",
    "        \n",
    "    visitid = row[\"visitId\"]\n",
    "    ra= row[\"ra\"]\n",
    "    dec = row[\"dec\"]\n",
    "    tract_id  = row[\"tractID\"]\n",
    "    patch_id  = row[\"patchID\"]\n",
    "    label = f\"tract {tract_id} , patch {patch_id}\"              \n",
    "    \n",
    "    tractInfo = skymap.generateTract(tract_id)\n",
    "    patches_selected = [patch.getSequentialIndex() for patch in tractInfo]     \n",
    "    wcs=tractInfo.getWcs()\n",
    "            \n",
    "    # loop on patches\n",
    "    all_ra = []\n",
    "    all_dec = []\n",
    "    corners = []\n",
    "    for patch in tractInfo:\n",
    "        patchID = patch.getSequentialIndex()\n",
    "        if patchID == patch_id :\n",
    "            ibb=patch.getInnerBBox()\n",
    "            RAMIN,RAMAX,DECMIN,DECMAX = get_bbox_radec(wcs, ibb)\n",
    "            for icorn,corner in enumerate(ibb.getCorners()):\n",
    "                p = geom.Point2D(corner.getX(), corner.getY())\n",
    "                coord = wcs.pixelToSky(p)\n",
    "                corners.append([coord.getRa().asDegrees(), coord.getDec().asDegrees()])\n",
    "                all_ra.append(coord.getRa().asDegrees()) \n",
    "                all_dec.append(coord.getDec().asDegrees()) \n",
    "    if (len(all_ra)>0) and (len(all_dec)>0):\n",
    "        all_ra.append(all_ra[0])\n",
    "        all_dec.append(all_dec[0])\n",
    "        print(ax)\n",
    "        ax.plot(all_ra,all_dec,'b-',lw=3,label=label)\n",
    "        ax.scatter([ra],[dec],marker = 'o',s=20,c=\"r\",label=visitid)\n",
    "        ax.xaxis.set_major_formatter(FormatStrFormatter('%.2f'))\n",
    "        ax.yaxis.set_major_formatter(FormatStrFormatter('%.2f'))\n",
    "        ax.legend()\n",
    "                \n",
    "\n"
   ]
  },
  {
   "cell_type": "markdown",
   "id": "3506978f-3a1e-47a9-90c1-b576f17d092f",
   "metadata": {},
   "source": [
    "## Start Here with Configuration\n",
    "\n",
    "\n",
    "- Check here the collection available : https://rubinobs.atlassian.net/wiki/spaces/DM/pages/226656354/LSSTComCam+Intermittent+Cumulative+DRP+Runs"
   ]
  },
  {
   "cell_type": "code",
   "execution_count": null,
   "id": "b8f1db0c-37fc-420b-9f59-9ee5be4f48da",
   "metadata": {
    "execution": {
     "iopub.execute_input": "2025-02-15T19:14:36.046966Z",
     "iopub.status.busy": "2025-02-15T19:14:36.046818Z",
     "iopub.status.idle": "2025-02-15T19:14:36.052861Z",
     "shell.execute_reply": "2025-02-15T19:14:36.052453Z",
     "shell.execute_reply.started": "2025-02-15T19:14:36.046953Z"
    }
   },
   "outputs": [],
   "source": [
    "# where are stored the figures\n",
    "pathfigs = \"figsUniformityZPTracts\"\n",
    "if not os.path.exists(pathfigs):\n",
    "    os.makedirs(pathfigs) \n",
    "figtype = \".pdf\""
   ]
  },
  {
   "cell_type": "code",
   "execution_count": null,
   "id": "58131b3b-f3bf-461a-8c71-d236e7d5e7fa",
   "metadata": {
    "execution": {
     "iopub.execute_input": "2025-02-15T19:14:36.053493Z",
     "iopub.status.busy": "2025-02-15T19:14:36.053359Z",
     "iopub.status.idle": "2025-02-15T19:14:36.060284Z",
     "shell.execute_reply": "2025-02-15T19:14:36.059913Z",
     "shell.execute_reply.started": "2025-02-15T19:14:36.053480Z"
    }
   },
   "outputs": [],
   "source": [
    "# The output repo is tagged with the Jira ticket number \"DM-40356\":\n",
    "repo = '/repo/main'\n",
    "collection = 'LSSTComCam/runs/DRP/DP1/w_2025_05/DM-48666'\n",
    "instrument = \"LSSTComCam\"\n",
    "skymapName = \"lsst_cells_v1\"\n",
    "band = \"z\"\n",
    "#STARTDATE = \"20241201\"\n",
    "STARTDATE = \"20241101\"\n",
    "where_clause = \"instrument = \\'\" + instrument+ \"\\'\" + \"AND band =  \\'\" + band + \"\\'\" +  \"AND exposure.day_obs >= \" + f\"{STARTDATE}\" \n",
    "collectionStr = collection.replace(\"/\", \"_\")\n",
    "NDET = 9\n",
    "MAGCUT = 18.0\n",
    "fn_ccdVisit_tracts_patches = f\"ccdVisittractpatch_{collectionStr}.csv\""
   ]
  },
  {
   "cell_type": "code",
   "execution_count": null,
   "id": "24056d5e-320d-480c-879d-df9396fac643",
   "metadata": {
    "execution": {
     "iopub.execute_input": "2025-02-15T19:14:36.060891Z",
     "iopub.status.busy": "2025-02-15T19:14:36.060764Z",
     "iopub.status.idle": "2025-02-15T19:14:36.068804Z",
     "shell.execute_reply": "2025-02-15T19:14:36.068467Z",
     "shell.execute_reply.started": "2025-02-15T19:14:36.060878Z"
    }
   },
   "outputs": [],
   "source": [
    "# Select the aperture radius\n",
    "rap = \"_35_0_\"\n",
    "\n",
    "# instrumental flux (ADU or photons)\n",
    "calibFluxStr = f\"apFlux{rap}instFlux\"\n",
    "calibFluxErrStr = f\"apFlux{rap}instFluxErr\"\n",
    "calibFluxMagStr = f\"apFlux{rap}instMag\"\n",
    "calibFluxMagErrStr = f\"apFlux{rap}instMagErr\"\n",
    "\n",
    "# flux in nJ or Mag\n",
    "calibFluxCalStr = f\"apFlux{rap}calFlux\"\n",
    "calibFluxCalErrStr = f\"apFlux{rap}calFluxErr\"\n",
    "calibFluxCalMagStr = f\"apFlux{rap}calMag\"\n",
    "calibFluxCalMagErrStr = f\"apFlux{rap}calMagErr\""
   ]
  },
  {
   "cell_type": "markdown",
   "id": "102f71d9-5ce0-4288-9904-2a4340ad0d31",
   "metadata": {},
   "source": [
    "## Initialisation"
   ]
  },
  {
   "cell_type": "code",
   "execution_count": null,
   "id": "804fcb8b-d567-4a27-b102-05ed002051c4",
   "metadata": {
    "execution": {
     "iopub.execute_input": "2025-02-15T19:14:36.069357Z",
     "iopub.status.busy": "2025-02-15T19:14:36.069208Z",
     "iopub.status.idle": "2025-02-15T19:14:36.474940Z",
     "shell.execute_reply": "2025-02-15T19:14:36.474304Z",
     "shell.execute_reply.started": "2025-02-15T19:14:36.069345Z"
    }
   },
   "outputs": [],
   "source": [
    "# Initialize the butler repo:\n",
    "butler = Butler(repo, collections=collection)\n",
    "registry = butler.registry"
   ]
  },
  {
   "cell_type": "code",
   "execution_count": null,
   "id": "03249edb-84b0-4f36-ae94-af25391b468e",
   "metadata": {
    "execution": {
     "iopub.execute_input": "2025-02-15T19:14:36.475765Z",
     "iopub.status.busy": "2025-02-15T19:14:36.475589Z",
     "iopub.status.idle": "2025-02-15T19:14:36.868736Z",
     "shell.execute_reply": "2025-02-15T19:14:36.868363Z",
     "shell.execute_reply.started": "2025-02-15T19:14:36.475749Z"
    }
   },
   "outputs": [],
   "source": [
    "skymap = butler.get('skyMap', skymap=skymapName, collections=collection)"
   ]
  },
  {
   "cell_type": "code",
   "execution_count": null,
   "id": "826aebd4-b08d-4259-a715-2274b75182c2",
   "metadata": {
    "execution": {
     "iopub.execute_input": "2025-02-15T19:14:36.869672Z",
     "iopub.status.busy": "2025-02-15T19:14:36.869174Z",
     "iopub.status.idle": "2025-02-15T19:14:36.871874Z",
     "shell.execute_reply": "2025-02-15T19:14:36.871539Z",
     "shell.execute_reply.started": "2025-02-15T19:14:36.869654Z"
    }
   },
   "outputs": [],
   "source": [
    "# Check here the collections available\n",
    "#for _ in registry.queryCollections():\n",
    "#    if \"LSSTComCam/runs/DRP/DP1/w_2025_05\" in _:\n",
    "#        print(_)"
   ]
  },
  {
   "cell_type": "code",
   "execution_count": null,
   "id": "d6dbd6d0-8f6c-441a-b465-b983e87cef9f",
   "metadata": {
    "execution": {
     "iopub.execute_input": "2025-02-15T19:14:36.872367Z",
     "iopub.status.busy": "2025-02-15T19:14:36.872233Z",
     "iopub.status.idle": "2025-02-15T19:14:36.879226Z",
     "shell.execute_reply": "2025-02-15T19:14:36.878893Z",
     "shell.execute_reply.started": "2025-02-15T19:14:36.872356Z"
    }
   },
   "outputs": [],
   "source": [
    "# List a number of usefull data-product to explore\n",
    "if 0:\n",
    "    for datasetType in registry.queryDatasetTypes():\n",
    "        if registry.queryDatasets(datasetType, collections=collection).any(\n",
    "            execute=False, exact=False\n",
    "        ):\n",
    "            # Limit search results to the data products\n",
    "            if (\n",
    "                (\"_config\" not in datasetType.name)\n",
    "                and (\"_log\" not in datasetType.name)\n",
    "                and (\"_metadata\" not in datasetType.name)\n",
    "                and (\"_resource_usage\" not in datasetType.name)\n",
    "                and ((\"Table\" in datasetType.name) or (\"Zeropointp\" in datasetType.name) or (\"fgcm\" in datasetType.name) or (\"transm\" in datasetType.name) or (\"Transm\" in datasetType.name) )\n",
    "            ):\n",
    "                print(datasetType)"
   ]
  },
  {
   "cell_type": "markdown",
   "id": "57be8008-c849-440e-9bae-8649564d3373",
   "metadata": {},
   "source": [
    "### Get list of Tracts and Patches"
   ]
  },
  {
   "cell_type": "code",
   "execution_count": null,
   "id": "c0823ed5-9b23-4548-af23-12d707772667",
   "metadata": {
    "execution": {
     "iopub.execute_input": "2025-02-15T19:14:36.879690Z",
     "iopub.status.busy": "2025-02-15T19:14:36.879574Z",
     "iopub.status.idle": "2025-02-15T19:14:36.952459Z",
     "shell.execute_reply": "2025-02-15T19:14:36.952071Z",
     "shell.execute_reply.started": "2025-02-15T19:14:36.879679Z"
    }
   },
   "outputs": [],
   "source": [
    "datasettype = \"objectTable_tract\"\n",
    "therefs = butler.registry.queryDatasets(datasettype,  collections=collection)"
   ]
  },
  {
   "cell_type": "code",
   "execution_count": null,
   "id": "f810d737-c393-40bb-bc60-32e3706cf4a0",
   "metadata": {
    "execution": {
     "iopub.execute_input": "2025-02-15T19:14:36.953006Z",
     "iopub.status.busy": "2025-02-15T19:14:36.952846Z",
     "iopub.status.idle": "2025-02-15T19:14:36.989142Z",
     "shell.execute_reply": "2025-02-15T19:14:36.988851Z",
     "shell.execute_reply.started": "2025-02-15T19:14:36.952984Z"
    }
   },
   "outputs": [],
   "source": [
    "tractsId_list = np.unique([ref.dataId['tract'] for ref in therefs])\n",
    "tractsId_list = sorted(tractsId_list)\n",
    "print(tractsId_list)"
   ]
  },
  {
   "cell_type": "code",
   "execution_count": null,
   "id": "3448b11c-a3d8-49b8-a217-f7c338ee455b",
   "metadata": {
    "execution": {
     "iopub.execute_input": "2025-02-15T19:14:36.989628Z",
     "iopub.status.busy": "2025-02-15T19:14:36.989497Z",
     "iopub.status.idle": "2025-02-15T19:15:27.450502Z",
     "shell.execute_reply": "2025-02-15T19:15:27.450094Z",
     "shell.execute_reply.started": "2025-02-15T19:14:36.989617Z"
    }
   },
   "outputs": [],
   "source": [
    "dict_tractpatches = {}\n",
    "for ref in therefs:\n",
    "    tract = ref.dataId[\"tract\"]\n",
    "    table = butler.get(ref) \n",
    "    list_of_patches = table['patch'].unique()\n",
    "    dict_tractpatches[tract] = list_of_patches"
   ]
  },
  {
   "cell_type": "markdown",
   "id": "047029ac-f97b-4e6e-93ce-7850e75e525b",
   "metadata": {},
   "source": [
    "### Get CCD Visits"
   ]
  },
  {
   "cell_type": "code",
   "execution_count": null,
   "id": "fb929f80-0250-495a-8971-cc888e44b0ab",
   "metadata": {
    "execution": {
     "iopub.execute_input": "2025-02-15T19:15:27.451075Z",
     "iopub.status.busy": "2025-02-15T19:15:27.450937Z",
     "iopub.status.idle": "2025-02-15T19:15:27.739844Z",
     "shell.execute_reply": "2025-02-15T19:15:27.739429Z",
     "shell.execute_reply.started": "2025-02-15T19:15:27.451062Z"
    }
   },
   "outputs": [],
   "source": [
    "datasettype = \"ccdVisitTable\"\n",
    "ccd_visit_table = butler.get(datasettype,collections=collection)"
   ]
  },
  {
   "cell_type": "code",
   "execution_count": null,
   "id": "c0ea7f3a-1aa0-462e-8e94-274e6e533466",
   "metadata": {
    "execution": {
     "iopub.execute_input": "2025-02-15T19:15:27.740535Z",
     "iopub.status.busy": "2025-02-15T19:15:27.740304Z",
     "iopub.status.idle": "2025-02-15T19:15:27.859935Z",
     "shell.execute_reply": "2025-02-15T19:15:27.859541Z",
     "shell.execute_reply.started": "2025-02-15T19:15:27.740522Z"
    }
   },
   "outputs": [],
   "source": [
    "# Compute nightobs\n",
    "ccd_visit_table[\"nightObs\"] = ccd_visit_table.apply(lambda x: x['visitId']//100_000, axis=1)"
   ]
  },
  {
   "cell_type": "code",
   "execution_count": null,
   "id": "c37f1530-4cb9-4e56-b50a-730df4f76de7",
   "metadata": {
    "execution": {
     "iopub.execute_input": "2025-02-15T19:15:27.860509Z",
     "iopub.status.busy": "2025-02-15T19:15:27.860377Z",
     "iopub.status.idle": "2025-02-15T19:15:27.873838Z",
     "shell.execute_reply": "2025-02-15T19:15:27.873545Z",
     "shell.execute_reply.started": "2025-02-15T19:15:27.860496Z"
    }
   },
   "outputs": [],
   "source": [
    "#  compute time\n",
    "ccd_visit_table[\"Time\"] = pd.to_datetime(ccd_visit_table['obsStart'])"
   ]
  },
  {
   "cell_type": "code",
   "execution_count": null,
   "id": "757eb7f7-6e37-4046-98e3-f43c52728cb8",
   "metadata": {
    "execution": {
     "iopub.execute_input": "2025-02-15T19:15:27.874299Z",
     "iopub.status.busy": "2025-02-15T19:15:27.874177Z",
     "iopub.status.idle": "2025-02-15T19:15:27.893030Z",
     "shell.execute_reply": "2025-02-15T19:15:27.892670Z",
     "shell.execute_reply.started": "2025-02-15T19:15:27.874288Z"
    }
   },
   "outputs": [],
   "source": [
    "# get airmass\n",
    "ccd_visit_table[\"airmass\"] = ccd_visit_table[\"zenithDistance\"].apply(lambda x: 1/np.cos(np.pi/180.*x))"
   ]
  },
  {
   "cell_type": "code",
   "execution_count": null,
   "id": "d5e9f185-f954-471d-8510-3f209ae8ede6",
   "metadata": {
    "execution": {
     "iopub.execute_input": "2025-02-15T19:15:27.893494Z",
     "iopub.status.busy": "2025-02-15T19:15:27.893377Z",
     "iopub.status.idle": "2025-02-15T19:15:27.896451Z",
     "shell.execute_reply": "2025-02-15T19:15:27.896143Z",
     "shell.execute_reply.started": "2025-02-15T19:15:27.893483Z"
    }
   },
   "outputs": [],
   "source": [
    "# Short visit ID\n",
    "ccd_visit_table[\"ccdVid\"] = ccd_visit_table.index -  ccd_visit_table.index[0]\n",
    "ccd_visit_table[\"Vid\"] = ccd_visit_table[\"visitId\"]  -   ccd_visit_table[\"visitId\"].iloc[0]"
   ]
  },
  {
   "cell_type": "code",
   "execution_count": null,
   "id": "61c310a1-e241-475f-b148-9e7f45453b04",
   "metadata": {
    "execution": {
     "iopub.execute_input": "2025-02-15T19:15:27.897062Z",
     "iopub.status.busy": "2025-02-15T19:15:27.896810Z",
     "iopub.status.idle": "2025-02-15T19:15:27.925897Z",
     "shell.execute_reply": "2025-02-15T19:15:27.925601Z",
     "shell.execute_reply.started": "2025-02-15T19:15:27.897050Z"
    }
   },
   "outputs": [],
   "source": [
    "ccd_visit_table"
   ]
  },
  {
   "cell_type": "markdown",
   "id": "3f549a32-c024-4aea-924f-ed817c6ade9b",
   "metadata": {},
   "source": [
    "### Associate Tract and Patch for each visit\n",
    "\n",
    "To associate Tract and Patch to every visit is a long procedure. This association is done at the first pass time in this notebook\n",
    "and written into a csv file. At next execution, this visitid-tract-patch is read into a pandas dtaframe. The association is done\n",
    "on a pair of columns ((visitId,detector)."
   ]
  },
  {
   "cell_type": "code",
   "execution_count": null,
   "id": "02920a07-2718-4e0d-946e-01d46de620de",
   "metadata": {
    "execution": {
     "iopub.execute_input": "2025-02-15T19:15:27.926399Z",
     "iopub.status.busy": "2025-02-15T19:15:27.926270Z",
     "iopub.status.idle": "2025-02-15T19:15:27.987313Z",
     "shell.execute_reply": "2025-02-15T19:15:27.986939Z",
     "shell.execute_reply.started": "2025-02-15T19:15:27.926386Z"
    }
   },
   "outputs": [],
   "source": [
    "# to speed up the calculation of tractID, patchID per visit, this file is saved\n",
    "# or read back\n",
    "if os.path.isfile(fn_ccdVisit_tracts_patches):\n",
    "    print(f\"{fn_ccdVisit_tracts_patches} found !!! ==> Read it !!!\" )\n",
    "    ccd_visit_tract_patch_table = pd.read_csv(fn_ccdVisit_tracts_patches,index_col=0) \n",
    "    # need to add only \"tractID\",\"patchID\" to ccd_visit_table\n",
    "    ccd_visit_tract_patch_table_only = ccd_visit_tract_patch_table[[\"visitId\",\"detector\",\"tractID\",\"patchID\"]]\n",
    "    # do the merging on the columns (visitId,detector), does not add suffixes to column names\n",
    "    new_df = pd.merge(\n",
    "    left=ccd_visit_table, \n",
    "    right=ccd_visit_tract_patch_table_only,\n",
    "    how='left',\n",
    "    left_on=['visitId', 'detector'],\n",
    "    right_on=['visitId', 'detector'], suffixes=('', ''))\n",
    "    #Overwrite the ccd_visit_table by the merge result\n",
    "    new_df\n",
    "    ccd_visit_table=new_df\n",
    "else:\n",
    "    print(f\"{fn_ccdVisit_tracts_patches} NOT found !!! ==> Create it !!! \" )\n",
    "    ccd_visit_table[[\"tractID\",\"patchID\"]] = ccd_visit_table.apply(FindTractAndPatch, axis=1,result_type ='expand')\n",
    "    # check if some (tract,patch) search failed\n",
    "    ccd_visit_table_patchnotfound = ccd_visit_table[ccd_visit_table.patchID==0]\n",
    "    if len(ccd_visit_table_patchnotfound)>0:\n",
    "        ccd_visit_table_patchnotfound.drop(columns=[\"tractID\",\"patchID\"],inplace=True)\n",
    "        ccd_visit_table_patchnotfound[[\"tractID\",\"patchID\"]] = ccd_visit_table_patchnotfound.apply(FindTractAndPatchFromAngularSep, axis=1,result_type ='expand')\n",
    "        for visitindex, row in ccd_visit_table_patchnotfound.iterrows(): \n",
    "            ccd_visit_table.loc[visitindex,[\"tractID\",\"patchID\"]] = ccd_visit_table_patchnotfound.loc[visitindex,[\"tractID\",\"patchID\"]]\n",
    "    #save a subsample for the visit \n",
    "    columns_selected = [\"visitId\",\"band\",\"detector\",\"ra\",\"dec\",\"llcra\",\"llcdec\",\"ulcra\",\"ulcdec\",\"urcra\",\"urcdec\",\"lrcra\",\"lrcdec\",\"ccdVid\",\"Vid\",\"nightObs\",\"tractID\",\"patchID\",\"zeroPoint\",\"airmass\",\"skyBg\",\"skyNoise\",\"expTime\"]\n",
    "    ccd_visit_tract_patch_table = ccd_visit_table[columns_selected]\n",
    "    ccd_visit_tract_patch_table.to_csv(fn_ccdVisit_tracts_patches) \n"
   ]
  },
  {
   "cell_type": "code",
   "execution_count": null,
   "id": "29b81249-404c-44ed-9fd4-9911ab240ef2",
   "metadata": {
    "execution": {
     "iopub.execute_input": "2025-02-15T19:15:27.987862Z",
     "iopub.status.busy": "2025-02-15T19:15:27.987731Z",
     "iopub.status.idle": "2025-02-15T19:15:27.999320Z",
     "shell.execute_reply": "2025-02-15T19:15:27.999021Z",
     "shell.execute_reply.started": "2025-02-15T19:15:27.987849Z"
    }
   },
   "outputs": [],
   "source": [
    "ccd_visit_table.head()"
   ]
  },
  {
   "cell_type": "markdown",
   "id": "b7b1c974-03f3-460f-b1b1-0052d2fd7f5c",
   "metadata": {},
   "source": [
    "### Plot One visit"
   ]
  },
  {
   "cell_type": "code",
   "execution_count": null,
   "id": "0cb077b6-47dc-4ccf-a5f3-e395f33e122b",
   "metadata": {
    "execution": {
     "iopub.execute_input": "2025-02-15T19:15:27.999781Z",
     "iopub.status.busy": "2025-02-15T19:15:27.999663Z",
     "iopub.status.idle": "2025-02-15T19:15:28.129624Z",
     "shell.execute_reply": "2025-02-15T19:15:28.129272Z",
     "shell.execute_reply.started": "2025-02-15T19:15:27.999769Z"
    }
   },
   "outputs": [],
   "source": [
    "fig,ax = plt.subplots(1,1,figsize=(6,6))\n",
    "plotAVisit(ccd_visit_table.iloc[0],ax=ax)\n",
    "ax.set_aspect('equal')\n",
    "ax.set_title(f\"{instrument} \\n {collectionStr}\",fontsize=12)"
   ]
  },
  {
   "cell_type": "markdown",
   "id": "cbb52584-702a-470e-b66a-f4b52846e749",
   "metadata": {
    "execution": {
     "iopub.execute_input": "2025-02-13T13:35:33.617502Z",
     "iopub.status.busy": "2025-02-13T13:35:33.617367Z",
     "iopub.status.idle": "2025-02-13T13:35:33.713933Z",
     "shell.execute_reply": "2025-02-13T13:35:33.713060Z",
     "shell.execute_reply.started": "2025-02-13T13:35:33.617490Z"
    }
   },
   "source": [
    "### sourceTable_visit"
   ]
  },
  {
   "cell_type": "code",
   "execution_count": null,
   "id": "74032aca-f773-41f1-88cb-9be37d4038a9",
   "metadata": {
    "execution": {
     "iopub.execute_input": "2025-02-15T19:15:28.130135Z",
     "iopub.status.busy": "2025-02-15T19:15:28.130011Z",
     "iopub.status.idle": "2025-02-15T19:15:28.132331Z",
     "shell.execute_reply": "2025-02-15T19:15:28.132027Z",
     "shell.execute_reply.started": "2025-02-15T19:15:28.130123Z"
    }
   },
   "outputs": [],
   "source": [
    "FLAG_ISOLATED_STAR_SOURCES = False\n",
    "FLAG_SOURCES_TABLE_VISIT = True\n",
    "FLAG_OBJECTS_TABLE_TRACT = True\n",
    "FLAG_FGCM = False\n",
    "FLAG_FGCM_CYCLE5 = True\n",
    "FLAG_TRANSMISSION = True"
   ]
  },
  {
   "cell_type": "code",
   "execution_count": null,
   "id": "b77b4228-6a87-4500-a1ae-e9872bd1d06f",
   "metadata": {
    "execution": {
     "iopub.execute_input": "2025-02-15T19:15:28.132793Z",
     "iopub.status.busy": "2025-02-15T19:15:28.132674Z",
     "iopub.status.idle": "2025-02-15T19:15:28.254971Z",
     "shell.execute_reply": "2025-02-15T19:15:28.254653Z",
     "shell.execute_reply.started": "2025-02-15T19:15:28.132782Z"
    }
   },
   "outputs": [],
   "source": [
    "# Try to get the Schema\n",
    "\n",
    "if FLAG_SOURCES_TABLE_VISIT:\n",
    "\n",
    "    data_product = \"sourceTable_visit\"\n",
    "    #datasetRefs = butler.registry.queryDatasets(datasetType=data_product, collections=collections, where= where_clause)\n",
    "    datasetRefs = butler.registry.queryDatasets(datasetType=data_product, collections=collection,where = where_clause)\n",
    "    for i, ref in enumerate(datasetRefs):\n",
    "        print(i,ref.dataId)\n",
    "        if i>20:\n",
    "            break\n",
    "    "
   ]
  },
  {
   "cell_type": "code",
   "execution_count": null,
   "id": "0e5290ec-3da5-43f4-af95-aee44e266c75",
   "metadata": {
    "execution": {
     "iopub.execute_input": "2025-02-15T19:15:28.255479Z",
     "iopub.status.busy": "2025-02-15T19:15:28.255356Z",
     "iopub.status.idle": "2025-02-15T19:15:45.339416Z",
     "shell.execute_reply": "2025-02-15T19:15:45.339042Z",
     "shell.execute_reply.started": "2025-02-15T19:15:28.255468Z"
    }
   },
   "outputs": [],
   "source": [
    "all_sourceTable_visit = []\n",
    "count=0\n",
    "for i, ref in enumerate(datasetRefs):\n",
    "    # reduce used memory by filtering useless\n",
    "    t = butler.get(ref)\n",
    "\n",
    "    ## apply selection\n",
    "    t[\"psfMag\"] = (t[\"psfFlux\"].values*u.nJy).to(u.ABmag).value\n",
    "    selection_cut = (t.parentSourceId == 0) & (t.sky_source == False) &  (t.detect_isPrimary == True) & (t.extendedness_flag == False) & (t.blendedness_flag==False) & (t.psfMag<MAGCUT)\n",
    "    tf = t[selection_cut]\n",
    "    \n",
    "    n = len(tf)\n",
    "    count+=n\n",
    "    if i%100==0:\n",
    "        print(f\"loop {i}, n= +{n}/{count}\")\n",
    "\n",
    "    ## save  \n",
    "    if n>0:\n",
    "        all_sourceTable_visit.append(tf)\n",
    "    "
   ]
  },
  {
   "cell_type": "code",
   "execution_count": null,
   "id": "0bd32947-102b-4602-a4a9-1fea55df7c7d",
   "metadata": {
    "execution": {
     "iopub.execute_input": "2025-02-15T19:15:45.339962Z",
     "iopub.status.busy": "2025-02-15T19:15:45.339826Z",
     "iopub.status.idle": "2025-02-15T19:15:45.793031Z",
     "shell.execute_reply": "2025-02-15T19:15:45.792626Z",
     "shell.execute_reply.started": "2025-02-15T19:15:45.339950Z"
    }
   },
   "outputs": [],
   "source": [
    "df = pd.concat(all_sourceTable_visit)"
   ]
  },
  {
   "cell_type": "code",
   "execution_count": null,
   "id": "bb636d51-f3c0-4e1f-83e5-aa0adb6763dd",
   "metadata": {
    "execution": {
     "iopub.execute_input": "2025-02-15T19:15:45.793720Z",
     "iopub.status.busy": "2025-02-15T19:15:45.793585Z",
     "iopub.status.idle": "2025-02-15T19:15:45.797713Z",
     "shell.execute_reply": "2025-02-15T19:15:45.797342Z",
     "shell.execute_reply.started": "2025-02-15T19:15:45.793707Z"
    }
   },
   "outputs": [],
   "source": [
    "selection_cut = (df.parentSourceId == 0) & (df.sky_source == False) &  (df.detect_isPrimary == True) & (df.extendedness_flag == False) & (df.blendedness_flag==False)"
   ]
  },
  {
   "cell_type": "code",
   "execution_count": null,
   "id": "5329e228-73ed-4136-88bc-a40afbbc598b",
   "metadata": {
    "execution": {
     "iopub.execute_input": "2025-02-15T19:15:45.798249Z",
     "iopub.status.busy": "2025-02-15T19:15:45.798119Z",
     "iopub.status.idle": "2025-02-15T19:15:45.855069Z",
     "shell.execute_reply": "2025-02-15T19:15:45.854582Z",
     "shell.execute_reply.started": "2025-02-15T19:15:45.798237Z"
    }
   },
   "outputs": [],
   "source": [
    "df = df[selection_cut]"
   ]
  },
  {
   "cell_type": "code",
   "execution_count": null,
   "id": "ac37794a-3996-416e-8f04-929202d3d9e4",
   "metadata": {
    "execution": {
     "iopub.execute_input": "2025-02-15T19:15:45.855864Z",
     "iopub.status.busy": "2025-02-15T19:15:45.855668Z",
     "iopub.status.idle": "2025-02-15T19:15:45.879468Z",
     "shell.execute_reply": "2025-02-15T19:15:45.879062Z",
     "shell.execute_reply.started": "2025-02-15T19:15:45.855851Z"
    }
   },
   "outputs": [],
   "source": [
    "df"
   ]
  },
  {
   "cell_type": "markdown",
   "id": "870aa2c7-aa0c-47d5-ad73-adadc215839e",
   "metadata": {},
   "source": [
    "### Merge the sourceTable with the CCD visit Table"
   ]
  },
  {
   "cell_type": "code",
   "execution_count": null,
   "id": "3cf08b7a-bf93-4a23-8221-312deacd42cd",
   "metadata": {
    "execution": {
     "iopub.execute_input": "2025-02-15T19:15:45.880100Z",
     "iopub.status.busy": "2025-02-15T19:15:45.879923Z",
     "iopub.status.idle": "2025-02-15T19:15:45.969467Z",
     "shell.execute_reply": "2025-02-15T19:15:45.969027Z",
     "shell.execute_reply.started": "2025-02-15T19:15:45.880087Z"
    }
   },
   "outputs": [],
   "source": [
    "df_m =  pd.merge(left=df, right=ccd_visit_table,how='left',left_on=['visit', 'detector'],right_on=['visitId', 'detector'], suffixes=('', '_vis'))"
   ]
  },
  {
   "cell_type": "code",
   "execution_count": null,
   "id": "60507cbc-270d-4510-9132-9a06e35350a9",
   "metadata": {
    "execution": {
     "iopub.execute_input": "2025-02-15T19:15:45.970044Z",
     "iopub.status.busy": "2025-02-15T19:15:45.969909Z",
     "iopub.status.idle": "2025-02-15T19:15:45.990773Z",
     "shell.execute_reply": "2025-02-15T19:15:45.990376Z",
     "shell.execute_reply.started": "2025-02-15T19:15:45.970031Z"
    }
   },
   "outputs": [],
   "source": [
    "df_m"
   ]
  },
  {
   "cell_type": "code",
   "execution_count": null,
   "id": "9ca4fa34-d2c9-4167-a824-cca3ae44fc11",
   "metadata": {
    "execution": {
     "iopub.execute_input": "2025-02-15T19:15:45.991379Z",
     "iopub.status.busy": "2025-02-15T19:15:45.991231Z",
     "iopub.status.idle": "2025-02-15T19:15:45.994057Z",
     "shell.execute_reply": "2025-02-15T19:15:45.993648Z",
     "shell.execute_reply.started": "2025-02-15T19:15:45.991366Z"
    }
   },
   "outputs": [],
   "source": [
    "cmap = ListedColormap(sns.color_palette(\"hls\", NDET))\n",
    "all_det_colors = [cmap.colors[idx] for idx in range(NDET)]"
   ]
  },
  {
   "cell_type": "code",
   "execution_count": null,
   "id": "d0a52dd9-66f4-4c13-be58-6d805978ac5d",
   "metadata": {
    "execution": {
     "iopub.execute_input": "2025-02-15T19:15:45.994923Z",
     "iopub.status.busy": "2025-02-15T19:15:45.994508Z",
     "iopub.status.idle": "2025-02-15T19:15:47.835431Z",
     "shell.execute_reply": "2025-02-15T19:15:47.835052Z",
     "shell.execute_reply.started": "2025-02-15T19:15:45.994906Z"
    }
   },
   "outputs": [],
   "source": [
    "fig,axes = plt.subplots(3,3,figsize=(16,16),layout=\"constrained\")\n",
    "axs = axes.flatten()\n",
    "\n",
    "for idet, ax in enumerate(axs):\n",
    "    df_m[df_m.detector==idet].plot.scatter(x=\"x\",y=\"y\", marker=\".\",color=all_det_colors[idet],ax=ax,alpha=0.1)\n",
    "    ax.set_aspect('equal')\n",
    "    ax.set_title(f\"det = {idet}\")\n",
    "  \n",
    "    \n",
    "#plt.gca().set_aspect('equal')\n",
    "plt.suptitle(f\"{instrument} (band {band}) \\n {collectionStr}\",fontsize=12)"
   ]
  },
  {
   "cell_type": "markdown",
   "id": "9ca7f00c-1b09-4654-a937-e3664368a478",
   "metadata": {},
   "source": [
    "### Calculate Magnitudes"
   ]
  },
  {
   "cell_type": "code",
   "execution_count": null,
   "id": "77bb403d-6a74-4991-a3f8-28457f7958bd",
   "metadata": {
    "execution": {
     "iopub.execute_input": "2025-02-15T19:15:47.836042Z",
     "iopub.status.busy": "2025-02-15T19:15:47.835909Z",
     "iopub.status.idle": "2025-02-15T19:15:47.862813Z",
     "shell.execute_reply": "2025-02-15T19:15:47.862427Z",
     "shell.execute_reply.started": "2025-02-15T19:15:47.836029Z"
    }
   },
   "outputs": [],
   "source": [
    "# Add columns into df_m table to have them all in one place\n",
    "df_m[\"psfSn\"] = df_m[\"psfFlux\"]/df_m[\"psfFluxErr\"]\n",
    "df_m[\"psfMag\"] = (df_m[\"psfFlux\"].values*u.nJy).to(u.ABmag).value\n",
    "df_m[\"psfMagErr\"] = 2.5/np.log(10.0)*(df_m[\"psfFluxErr\"].values/df_m[\"psfFlux\"].values)\n",
    "\n",
    "\n",
    "# This is the way to apply aperture corrections :\n",
    "df_m[calibFluxCalStr] = df_m[calibFluxStr]*df_m[\"localPhotoCalib\"]\n",
    "df_m[calibFluxCalErrStr] = df_m[calibFluxErrStr]*df_m[\"localPhotoCalib\"]\n",
    "\n",
    "\n",
    "df_m[calibFluxCalMagStr] = (df_m[calibFluxCalStr].values*u.nJy).to(u.ABmag).value\n",
    "df_m[calibFluxCalMagErrStr] = 2.5/np.log(10.0)*(df_m[calibFluxCalErrStr].values/df_m[calibFluxCalStr].values)\n",
    "\n",
    "# NOTE: psfFlux is the fgcm calibrated flux.  I'm pretty sure you get the \"instrumental\" \n",
    "# flux by dividing psfFlux by the localPhotoCalib value.\n",
    "df_m[\"psfInstMag\"] = ((df_m[\"psfFlux\"].values/df_m[\"localPhotoCalib\"].values)*u.nJy).to(u.ABmag).value\n",
    "df_m[\"psfGausFluxRatio\"] = df_m[\"psfFlux\"]/df_m[\"gaussianFlux\"]"
   ]
  },
  {
   "cell_type": "code",
   "execution_count": null,
   "id": "a42c122e-d5b2-4b56-9ffd-75f5b6827d76",
   "metadata": {
    "execution": {
     "iopub.execute_input": "2025-02-15T19:15:47.866097Z",
     "iopub.status.busy": "2025-02-15T19:15:47.865958Z",
     "iopub.status.idle": "2025-02-15T19:15:50.459513Z",
     "shell.execute_reply": "2025-02-15T19:15:50.459096Z",
     "shell.execute_reply.started": "2025-02-15T19:15:47.866084Z"
    }
   },
   "outputs": [],
   "source": [
    "fig,axes = plt.subplots(3,3,figsize=(16,16),layout=\"constrained\",sharex=True,sharey=True)\n",
    "axs = axes.flatten()\n",
    "\n",
    "for idet, ax in enumerate(axs):\n",
    "    leg = ax.get_legend()\n",
    "    df_m[df_m.detector==idet].plot.scatter(x=calibFluxCalMagStr,y=calibFluxCalMagErrStr, marker=\".\",color=all_det_colors[idet],ax=ax,alpha=0.5,legend=leg,label=\"aperture Flux\")\n",
    "    df_m[df_m.detector==idet].plot.scatter(x=\"psfMag\",y=\"psfMagErr\", marker=\"+\",color=all_det_colors[idet],ax=ax,alpha=0.5,legend=leg,label=\"psf Flux\")\n",
    "    ax.set_aspect('auto')\n",
    "    ax.set_title(f\"det = {idet}\")\n",
    "    ax.set_ylim(0.,0.5)\n",
    "    ax.grid(True)\n",
    "    #ax.legend()\n",
    "  \n",
    "    \n",
    "#plt.gca().set_aspect('equal')\n",
    "plt.suptitle(f\"{instrument} (band {band})\\n {collectionStr}\",fontsize=12)"
   ]
  },
  {
   "cell_type": "markdown",
   "id": "e67ce423-0039-4647-aaf2-1013f62e2c0b",
   "metadata": {},
   "source": [
    "## Compute zero-point difference\n",
    "\n",
    "$$\n",
    "\\Delta ZP\n",
    "$$\n",
    "\n",
    "- difference betwen the local zero-point at the source position relative to the CCD zero-point"
   ]
  },
  {
   "cell_type": "code",
   "execution_count": null,
   "id": "49e442d2-c68a-4bde-96dd-36ea64438235",
   "metadata": {
    "execution": {
     "iopub.execute_input": "2025-02-15T19:15:50.460152Z",
     "iopub.status.busy": "2025-02-15T19:15:50.460008Z",
     "iopub.status.idle": "2025-02-15T19:15:50.466715Z",
     "shell.execute_reply": "2025-02-15T19:15:50.466332Z",
     "shell.execute_reply.started": "2025-02-15T19:15:50.460139Z"
    }
   },
   "outputs": [],
   "source": [
    "df_m[\"localPhotoCalibMag\"] = (df_m[\"localPhotoCalib\"].values*u.nJy).to(u.ABmag).value\n",
    "df_m[\"localPhotoCalibMagErr\"] =   2.5/np.log(10.0)*df_m[\"localPhotoCalibErr\"].values/df_m[\"localPhotoCalib\"].values\n",
    "df_m[\"DZP\"] = df_m[\"localPhotoCalibMag\"] - df_m[\"zeroPoint\"]\n",
    "df_m[\"DZPmmag\"] = df_m[\"DZP\"]*1000."
   ]
  },
  {
   "cell_type": "markdown",
   "id": "564fff15-4aae-4b98-943d-ce4e3b369d2c",
   "metadata": {},
   "source": [
    "#### Parameters for histograms on $\\Delta ZP$"
   ]
  },
  {
   "cell_type": "code",
   "execution_count": null,
   "id": "77c2d20e-c6c6-4456-a735-3e9972071859",
   "metadata": {
    "execution": {
     "iopub.execute_input": "2025-02-15T19:15:50.467302Z",
     "iopub.status.busy": "2025-02-15T19:15:50.467166Z",
     "iopub.status.idle": "2025-02-15T19:15:50.470449Z",
     "shell.execute_reply": "2025-02-15T19:15:50.470075Z",
     "shell.execute_reply.started": "2025-02-15T19:15:50.467290Z"
    }
   },
   "outputs": [],
   "source": [
    "NBINS = 100\n",
    "if band in [\"g\",\"r\"]:\n",
    "    RANGE = (-15,15)\n",
    "elif band in [\"i\", \"z\"]:\n",
    "    RANGE = (-20,20)\n",
    "else:\n",
    "    RANGE = (-30,30)\n",
    "xfit = np.linspace(RANGE[0],RANGE[1],NBINS)\n",
    "AMAX = 5000."
   ]
  },
  {
   "cell_type": "markdown",
   "id": "0c8350bb-9385-41bf-8df9-389750bf2772",
   "metadata": {},
   "source": [
    "#### All Combined DZP histogram, stat and fit"
   ]
  },
  {
   "cell_type": "code",
   "execution_count": null,
   "id": "9b2729f5-c688-4b69-ac5c-77578e892d61",
   "metadata": {
    "execution": {
     "iopub.execute_input": "2025-02-15T19:15:50.470978Z",
     "iopub.status.busy": "2025-02-15T19:15:50.470857Z",
     "iopub.status.idle": "2025-02-15T19:15:50.888447Z",
     "shell.execute_reply": "2025-02-15T19:15:50.888022Z",
     "shell.execute_reply.started": "2025-02-15T19:15:50.470966Z"
    }
   },
   "outputs": [],
   "source": [
    "fig,ax = plt.subplots(1,1,figsize=(8,6),layout=\"constrained\",sharex=True,sharey=True)\n",
    "\n",
    "leg = ax.get_legend()\n",
    "stats = df_m[\"DZPmmag\"].agg([\"mean\",\"median\",\"std\"])\n",
    "label =  \"$\\overline{m}= $\" + f\"{stats[0]:.2f} mmag \\n\" + \" $\\sigma $= \" + f\"{stats[2]:.2f} mmag\"\n",
    "df_m[\"DZPmmag\"].hist(bins=NBINS,range=RANGE, histtype=\"step\",color=\"b\",ax=ax,alpha=1,legend=leg,label=label,linewidth=3)\n",
    "\n",
    "histdata = df_m[\"DZPmmag\"].values\n",
    "counts,xedges =np.histogram(histdata,bins=NBINS,range=RANGE)\n",
    "xcenters = (xedges[:-1] + xedges[1:]) / 2\n",
    "\n",
    "# Fit the data using a Gaussian\n",
    "g_init = models.Gaussian1D(amplitude=AMAX, mean=0, stddev=10.)\n",
    "fit_g = fitting.TRFLSQFitter()\n",
    "g0 = fit_g(g_init, xcenters, counts)\n",
    "fit_m0 = g0.mean.value\n",
    "fit_s0 = g0.stddev.value\n",
    "   \n",
    "yfit = g0(xfit)\n",
    "ax.plot(xfit,yfit,\"r-\")\n",
    "textstr = \"\\n\".join((f\"fit  of gaussian : \",\n",
    "                     f\"- mean : {fit_m0:.2f} mmag\",\n",
    "                     f\"- sigma : {fit_s0:.2f} mmag\",     \n",
    "                    ))\n",
    "ax.text(0.05, 0.95, textstr, transform=ax.transAxes, fontsize=16,verticalalignment='top', bbox=props)\n",
    "\n",
    "ax.legend()\n",
    "ax.legend(bbox_to_anchor=(1.01, 1.02),ncols=1,fontsize=12)\n",
    "ax.set_title(\"zero-point over all the Focal Plane\",fontsize=16)\n",
    "ax.set_xlabel(\"$\\Delta ZP$ (mmag)\")\n",
    "plt.suptitle(f\"{instrument} (band {band}, mag < {MAGCUT} mag) \\n {collectionStr}\",fontsize=12)\n",
    "figname =f\"{pathfigs}/UNIFZPCOMBFP1D_1_{instrument}_{band}\"+figtype\n",
    "plt.savefig(figname)\n",
    "plt.show()"
   ]
  },
  {
   "cell_type": "markdown",
   "id": "dde43719-0aff-4dd3-8a63-711dee368126",
   "metadata": {},
   "source": [
    "#### All histogram of each detector shown on same plot, stat only"
   ]
  },
  {
   "cell_type": "code",
   "execution_count": null,
   "id": "b6196a49-0311-488e-b430-42341e0643cc",
   "metadata": {
    "execution": {
     "iopub.execute_input": "2025-02-15T19:15:50.889302Z",
     "iopub.status.busy": "2025-02-15T19:15:50.888895Z",
     "iopub.status.idle": "2025-02-15T19:15:51.671590Z",
     "shell.execute_reply": "2025-02-15T19:15:51.671167Z",
     "shell.execute_reply.started": "2025-02-15T19:15:50.889287Z"
    }
   },
   "outputs": [],
   "source": [
    "fig,ax = plt.subplots(1,1,figsize=(10,6),layout=\"constrained\",sharex=True)\n",
    "\n",
    "for idet in range(NDET):\n",
    "    leg = ax.get_legend()\n",
    "    stats = df_m[df_m.detector==idet][\"DZPmmag\"].agg([\"mean\",\"median\",\"std\"])\n",
    "    label = f\"det = {idet} \" + \"$\\overline{m}= $\" + f\" {stats[0]:.2f} mmag \" + \" $\\sigma $= \" + f\"{stats[2]:.2f} mmag\"\n",
    "    df_m[df_m.detector==idet][\"DZPmmag\"].hist(bins=NBINS,range=RANGE, histtype=\"step\",color=all_det_colors[idet],ax=ax,alpha=1,legend=leg,label=label,linewidth=3)\n",
    "ax.legend()\n",
    "ax.legend(bbox_to_anchor=(1.05, 1.02),ncols=1,fontsize=10)\n",
    "ax.set_title(\"Zero-point over Focal Plane\",fontsize=16)\n",
    "ax.set_xlabel(\"$\\Delta ZP$ (mmag)\")\n",
    "plt.suptitle(f\"{instrument} (band {band}, mag < {MAGCUT} mag) \\n {collectionStr}\",fontsize=12)\n",
    "figname =f\"{pathfigs}/UNIFZPFP1D_1_{instrument}_{band}\"+figtype\n",
    "plt.savefig(figname,bbox_inches='tight')\n",
    "plt.show()"
   ]
  },
  {
   "cell_type": "code",
   "execution_count": null,
   "id": "d4dbbc4e-a18b-4db6-a081-07b7530a347c",
   "metadata": {
    "execution": {
     "iopub.execute_input": "2025-02-15T19:15:51.672220Z",
     "iopub.status.busy": "2025-02-15T19:15:51.672081Z",
     "iopub.status.idle": "2025-02-15T19:15:51.674244Z",
     "shell.execute_reply": "2025-02-15T19:15:51.673846Z",
     "shell.execute_reply.started": "2025-02-15T19:15:51.672206Z"
    }
   },
   "outputs": [],
   "source": [
    "#from astropy.modeling import models, fitting\n",
    "#props = dict(boxstyle='round', facecolor=\"white\", alpha=0.1)"
   ]
  },
  {
   "cell_type": "markdown",
   "id": "3af878fe-727f-4c3c-b9d3-1b0ce0190524",
   "metadata": {},
   "source": [
    "#### Individual histogram per detector stat and fit"
   ]
  },
  {
   "cell_type": "code",
   "execution_count": null,
   "id": "bb651b42-580f-4287-9e08-7f78dcbdf5e9",
   "metadata": {
    "execution": {
     "iopub.execute_input": "2025-02-15T19:15:51.674836Z",
     "iopub.status.busy": "2025-02-15T19:15:51.674682Z",
     "iopub.status.idle": "2025-02-15T19:15:53.525181Z",
     "shell.execute_reply": "2025-02-15T19:15:53.524742Z",
     "shell.execute_reply.started": "2025-02-15T19:15:51.674824Z"
    }
   },
   "outputs": [],
   "source": [
    "fig,axes = plt.subplots(3,3,figsize=(16,16),layout=\"constrained\",sharey=True)\n",
    "axs = axes.flatten()\n",
    "xfit = np.linspace(RANGE[0],RANGE[1],NBINS)\n",
    "all_fitparams = {}\n",
    "for idet, ax in enumerate(axs):\n",
    "    leg = ax.get_legend()\n",
    "\n",
    "    stats = df_m[df_m.detector==idet][\"DZPmmag\"].agg([\"mean\",\"median\",\"std\"])\n",
    "    label = f\"det = {idet} \" + \"$\\overline{m}= $\" + f\" {stats[0]:.2f} mmag \" + \" $\\sigma $= \" + f\"{stats[2]:.2f} mmag\"\n",
    "\n",
    "    # fit\n",
    "    histdata = df_m[df_m.detector==idet][\"DZPmmag\"].values\n",
    "    counts,xedges =np.histogram(histdata,bins=NBINS,range=RANGE)\n",
    "    xcenters = (xedges[:-1] + xedges[1:]) / 2\n",
    "    # Fit the data using a Gaussian\n",
    "    g_init = models.Gaussian1D(amplitude=AMAX, mean=0, stddev=10.)\n",
    "    fit_g = fitting.TRFLSQFitter()\n",
    "    g = fit_g(g_init, xcenters, counts)\n",
    "    fit_m = g.mean.value\n",
    "    fit_s = g.stddev.value\n",
    "    all_fitparams[idet] = g\n",
    "    yfit = g(xfit)\n",
    "    textstr = \"\\n\".join((f\"fit  of gaussian : \",\n",
    "                     f\"- mean : {fit_m:.2f} mmag\",\n",
    "                     f\"- sigma : {fit_s:.2f} mmag\",     \n",
    "                    ))\n",
    "    ax.text(0.05, 0.95, textstr, transform=ax.transAxes, fontsize=16,verticalalignment='top', bbox=props)\n",
    "\n",
    "    \n",
    "    df_m[df_m.detector==idet][\"DZPmmag\"].hist(bins=NBINS,range=RANGE, histtype=\"step\",color=all_det_colors[idet],ax=ax,alpha=1,legend=leg,label=label,linewidth=3)\n",
    "    ax.plot(xfit,yfit,'-k',lw=2)\n",
    "    \n",
    "    ax.set_aspect('auto')\n",
    "    ax.set_title(f\"det = {idet}\")\n",
    "    #ax.set_ylim(0.,0.5)\n",
    "    ax.grid(True)\n",
    "    ax.set_xlabel(\"$\\Delta ZP$ (mmag)\")\n",
    "  \n",
    "    \n",
    "#plt.gca().set_aspect('equal')\n",
    "#plt.suptitle(f\"{instrument} (band {band}, mag < {MAGCUT} mag)\\n {collectionStr}\",fontsize=12)\n",
    "plt.suptitle(\"$\\Delta ZP$ (mmag) : \" + f\" {instrument} (band {band}, mag < {MAGCUT} mag)\\n {collectionStr}\",fontsize=14)\n",
    "figname =f\"{pathfigs}/UNIFZPFP1D_9_{instrument}_{band}\"+figtype\n",
    "plt.savefig(figname)\n",
    "plt.show()"
   ]
  },
  {
   "cell_type": "markdown",
   "id": "3af21896-ffbb-482a-9593-a7db5d203b53",
   "metadata": {},
   "source": [
    "## Select a subset of TractID"
   ]
  },
  {
   "cell_type": "code",
   "execution_count": null,
   "id": "5ff40446-539e-4594-8ed0-c0932fe6a798",
   "metadata": {
    "execution": {
     "iopub.execute_input": "2025-02-15T19:15:53.525860Z",
     "iopub.status.busy": "2025-02-15T19:15:53.525710Z",
     "iopub.status.idle": "2025-02-15T19:15:53.528658Z",
     "shell.execute_reply": "2025-02-15T19:15:53.528280Z",
     "shell.execute_reply.started": "2025-02-15T19:15:53.525847Z"
    }
   },
   "outputs": [],
   "source": [
    "List_Of_Tracts = [2394, 4848, 4849, 5063, 5305, 5306, 5525, 5526, 10463]\n",
    "NTRACT = len(List_Of_Tracts)\n",
    "print(NTRACT) "
   ]
  },
  {
   "cell_type": "code",
   "execution_count": null,
   "id": "bcd4cc5f-eb54-4d15-a226-5b8e9663d99c",
   "metadata": {
    "execution": {
     "iopub.execute_input": "2025-02-15T19:15:53.529275Z",
     "iopub.status.busy": "2025-02-15T19:15:53.529097Z",
     "iopub.status.idle": "2025-02-15T19:15:53.535600Z",
     "shell.execute_reply": "2025-02-15T19:15:53.535166Z",
     "shell.execute_reply.started": "2025-02-15T19:15:53.529262Z"
    }
   },
   "outputs": [],
   "source": [
    "cmap = ListedColormap(sns.color_palette(\"hls\", NTRACT ))\n",
    "all_tract_colors = [cmap.colors[idx] for idx in range(NTRACT )]"
   ]
  },
  {
   "cell_type": "markdown",
   "id": "ec465b28-182c-44e5-b301-faafbda1e18b",
   "metadata": {},
   "source": [
    "### Histogram of ZP per tract on one plot"
   ]
  },
  {
   "cell_type": "code",
   "execution_count": null,
   "id": "caf43333-6b42-4fac-bf90-9d90bcc9bae0",
   "metadata": {
    "execution": {
     "iopub.execute_input": "2025-02-15T19:15:53.536273Z",
     "iopub.status.busy": "2025-02-15T19:15:53.536107Z",
     "iopub.status.idle": "2025-02-15T19:15:54.222910Z",
     "shell.execute_reply": "2025-02-15T19:15:54.222500Z",
     "shell.execute_reply.started": "2025-02-15T19:15:53.536250Z"
    }
   },
   "outputs": [],
   "source": [
    "fig,ax = plt.subplots(1,1,figsize=(10,6),layout=\"constrained\",sharex=True)\n",
    "\n",
    "for itract,theTract in enumerate(List_Of_Tracts):\n",
    "    leg = ax.get_legend()\n",
    "    stats = df_m[df_m.tractID==theTract][\"DZPmmag\"].agg([\"mean\",\"median\",\"std\"])\n",
    "    label = f\"tract = {theTract} \" + \"$\\overline{m}= $\" + f\" {stats[0]:.2f} mmag \" + \" $\\sigma $= \" + f\"{stats[2]:.2f} mmag\"\n",
    "    df_m[df_m.tractID == theTract][\"DZPmmag\"].hist(bins=NBINS,range=RANGE, histtype=\"step\",color=all_tract_colors[itract],ax=ax,alpha=1,legend=leg,label=label,linewidth=3)\n",
    "ax.legend()\n",
    "ax.legend(bbox_to_anchor=(1.05, 1.02),ncols=1,fontsize=10)\n",
    "ax.set_title(\"Zero-point over Tract\")\n",
    "ax.set_xlabel(\"$\\Delta ZP$ (mmag)\")\n",
    "plt.suptitle(f\"{instrument} (band {band}, mag < {MAGCUT} mag) \\n {collectionStr}\",fontsize=12)\n",
    "figname =f\"{pathfigs}/UNIFZPTRACT1D_1_{instrument}_{band}\"+figtype\n",
    "plt.savefig(figname,bbox_inches='tight')\n",
    "plt.show()"
   ]
  },
  {
   "cell_type": "markdown",
   "id": "03427f1f-6e08-452e-acb5-c304ced67e83",
   "metadata": {
    "execution": {
     "iopub.execute_input": "2025-02-15T14:54:47.246908Z",
     "iopub.status.busy": "2025-02-15T14:54:47.246590Z",
     "iopub.status.idle": "2025-02-15T14:54:47.248689Z",
     "shell.execute_reply": "2025-02-15T14:54:47.248362Z",
     "shell.execute_reply.started": "2025-02-15T14:54:47.246894Z"
    }
   },
   "source": [
    "### Histogram of ZP per tract in different plots"
   ]
  },
  {
   "cell_type": "code",
   "execution_count": null,
   "id": "05e59d6d-ea64-424d-8ca0-d3a1a5b2f075",
   "metadata": {
    "execution": {
     "iopub.execute_input": "2025-02-15T19:15:54.223574Z",
     "iopub.status.busy": "2025-02-15T19:15:54.223434Z",
     "iopub.status.idle": "2025-02-15T19:15:56.031227Z",
     "shell.execute_reply": "2025-02-15T19:15:56.030687Z",
     "shell.execute_reply.started": "2025-02-15T19:15:54.223560Z"
    }
   },
   "outputs": [],
   "source": [
    "fig,axes = plt.subplots(3,3,figsize=(16,16),layout=\"constrained\")\n",
    "axs = axes.flatten()\n",
    "\n",
    "xfit = np.linspace(RANGE[0],RANGE[1],NBINS)\n",
    "all_fitparams = {}\n",
    "for itract, ax in enumerate(axs):\n",
    "    theTractID = List_Of_Tracts[itract]\n",
    "    leg = ax.get_legend()\n",
    "    stats = df_m[df_m.tractID==theTractID][\"DZPmmag\"].agg([\"mean\",\"median\",\"std\"])\n",
    "    label = f\"tract = {theTractID} \" + \"$\\overline{m}= $\" + f\" {stats[0]:.2f} mmag \" + \" $\\sigma $= \" + f\"{stats[2]:.2f} mmag\"\n",
    "\n",
    "    # fit\n",
    "    histdata = df_m[df_m.tractID==theTractID][\"DZPmmag\"].values\n",
    "    counts,xedges =np.histogram(histdata,bins=NBINS,range=RANGE)\n",
    "    xcenters = (xedges[:-1] + xedges[1:]) / 2\n",
    "    # Fit the data using a Gaussian\n",
    "    g_init = models.Gaussian1D(amplitude=1000., mean=0, stddev=10.)\n",
    "    fit_g = fitting.TRFLSQFitter()\n",
    "    g = fit_g(g_init, xcenters, counts)\n",
    "    fit_m = g.mean.value\n",
    "    fit_s = g.stddev.value\n",
    "    all_fitparams[theTractID] = g\n",
    "    yfit = g(xfit)\n",
    "    textstr = \"\\n\".join((f\"fit  of gaussian : \",\n",
    "                     f\"- mean : {fit_m:.2f} mmag\",\n",
    "                     f\"- sigma : {fit_s:.2f} mmag\",     \n",
    "                    ))\n",
    "    ax.text(0.05, 0.95, textstr, transform=ax.transAxes, fontsize=16,verticalalignment='top', bbox=props)\n",
    "\n",
    "    \n",
    "    df_m[df_m.tractID==theTractID][\"DZPmmag\"].hist(bins=NBINS,range=RANGE, histtype=\"step\",color=all_tract_colors[itract],ax=ax,alpha=1,legend=leg,label=label,linewidth=3)\n",
    "    ax.plot(xfit,yfit,'-k',lw=2)\n",
    "    \n",
    "    ax.set_aspect('auto')\n",
    "    ax.set_title(f\"tract = {theTractID}\")\n",
    "    #ax.set_ylim(0.,0.5)\n",
    "    ax.grid(True)\n",
    "    ax.set_xlabel(\"$\\Delta ZP$ (mmag)\")\n",
    "  \n",
    "    \n",
    "#plt.gca().set_aspect('equal')\n",
    "#plt.suptitle(f\"{instrument} (band {band}, mag < {MAGCUT} mag)\\n {collectionStr}\",fontsize=12)\n",
    "plt.suptitle(\"$\\Delta ZP$ (mmag) : \" + f\" {instrument} (band {band}, mag < {MAGCUT} mag)\\n {collectionStr}\",fontsize=14)\n",
    "figname =f\"{pathfigs}/UNIFZPTRACT1D_9_{instrument}_{band}\"+figtype\n",
    "plt.savefig(figname)\n",
    "plt.show()"
   ]
  },
  {
   "cell_type": "markdown",
   "id": "6d8c6eaf-d67f-4362-b1a6-0a2dfe55cbd1",
   "metadata": {},
   "source": [
    "#### 2D Uniformity plot of $\\Delta ZP$"
   ]
  },
  {
   "cell_type": "code",
   "execution_count": null,
   "id": "170815e2-cb17-42e4-8bf0-59e95075a49f",
   "metadata": {
    "execution": {
     "iopub.execute_input": "2025-02-15T19:15:56.031948Z",
     "iopub.status.busy": "2025-02-15T19:15:56.031798Z",
     "iopub.status.idle": "2025-02-15T19:15:56.035772Z",
     "shell.execute_reply": "2025-02-15T19:15:56.035274Z",
     "shell.execute_reply.started": "2025-02-15T19:15:56.031935Z"
    }
   },
   "outputs": [],
   "source": [
    "cmap = mpl.colormaps['seismic']\n",
    "cmap_invert = mpl.colormaps['seismic_r']\n",
    "norm = mpl.colors.Normalize(vmin=RANGE[0], vmax=RANGE[1])"
   ]
  },
  {
   "cell_type": "code",
   "execution_count": null,
   "id": "2875a5d2-c37d-4f2c-81ce-68ee59979571",
   "metadata": {
    "execution": {
     "iopub.execute_input": "2025-02-15T19:15:56.036413Z",
     "iopub.status.busy": "2025-02-15T19:15:56.036278Z",
     "iopub.status.idle": "2025-02-15T19:16:17.059393Z",
     "shell.execute_reply": "2025-02-15T19:16:17.058886Z",
     "shell.execute_reply.started": "2025-02-15T19:15:56.036401Z"
    }
   },
   "outputs": [],
   "source": [
    "fig,axes = plt.subplots(3,3,figsize=(18,18),layout=\"constrained\")\n",
    "axs = axes.flatten()\n",
    "\n",
    "#for idet, ax in enumerate(axs):\n",
    "for itract, ax in enumerate(axs):\n",
    "    leg = ax.get_legend()\n",
    "    \n",
    "    theTractID = List_Of_Tracts[itract]\n",
    "    leg = ax.get_legend()\n",
    "    stats = df_m[df_m.tractID==theTractID][\"DZPmmag\"].agg([\"mean\",\"median\",\"std\"])\n",
    "    label = f\"tract = {theTractID} \" + \"$\\overline{m}= $\" + f\" {stats[0]:.2f} mmag \" + \" $\\sigma $= \" + f\"{stats[2]:.2f} mmag\"\n",
    "\n",
    "    \n",
    "    fitparams = all_fitparams[theTractID]\n",
    "    fit_m = fitparams.mean.value\n",
    "    fit_s = fitparams.stddev.value\n",
    "    label = f\"tract = {theTractID} \\n\" + \"$\\overline{m}= $\" + f\" {fit_m:.2f} mmag \\n\" + \" $\\sigma $= \" + f\"{fit_s:.2f} mmag\"\n",
    "    df_data =  df_m[df_m.tractID==theTractID]\n",
    "    rgba_color = cmap(norm(df_data[\"DZPmmag\"].values )) \n",
    "    #df_data.plot.scatter(x=\"x\",y=\"y\",c=\"DZPmmag\",cmap=\"seismic\",ax=ax,marker=\"o\",colorbar=\"True\",vmin=-5,vmax=5.)\n",
    "    #df_data.plot.scatter(x=\"x\",y=\"y\",s=1.,c=rgba_color,cmap=cm.seismic,ax=ax)\n",
    "    im = ax.scatter(\"coord_ra\", \"coord_dec\",c='DZPmmag',data=df_data,cmap=\"seismic\",marker=\"o\",label=label,vmin=RANGE[0],vmax=RANGE[1])\n",
    "    ax.grid(True)\n",
    "    ax.legend(fontsize=18)\n",
    "    ax.set_aspect('equal')\n",
    "plt.suptitle(\"$\\Delta ZP$ (mmag) : \" + f\" {instrument} (band {band}, mag < {MAGCUT} mag)\\n {collectionStr}\",fontsize=16)\n",
    "\n",
    "#fig.add_axes\n",
    "#rect : tuple (left, bottom, width, height)\n",
    "#    The dimensions (left, bottom, width, height) of the new\n",
    "#    `~.axes.Axes`. All quantities are in fractions of figure width and\n",
    "#    height.\n",
    "cbar_ax = fig.add_axes([1.01, 0, 0.03, 1.0])\n",
    "\n",
    "fig.colorbar(im, cax=cbar_ax)    \n",
    "cbar_ax.set_ylabel('$\\Delta ZP$ (mmag)', rotation=90)\n",
    "\n",
    "figname =f\"{pathfigs}/UNIFZPTRACT2D_9_{instrument}_{band}\"+figtype\n",
    "plt.savefig(figname,bbox_inches='tight')\n",
    "\n",
    "plt.show()"
   ]
  }
 ],
 "metadata": {
  "kernelspec": {
   "display_name": "LSST",
   "language": "python",
   "name": "lsst"
  },
  "language_info": {
   "codemirror_mode": {
    "name": "ipython",
    "version": 3
   },
   "file_extension": ".py",
   "mimetype": "text/x-python",
   "name": "python",
   "nbconvert_exporter": "python",
   "pygments_lexer": "ipython3",
   "version": "3.11.11"
  }
 },
 "nbformat": 4,
 "nbformat_minor": 5
}
