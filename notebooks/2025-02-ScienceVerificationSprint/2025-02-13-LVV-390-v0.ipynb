{
 "cells": [
  {
   "cell_type": "markdown",
   "id": "8f3da262-37ed-407f-908c-8ac5a52cb4db",
   "metadata": {},
   "source": [
    "# Notebook to access to data for the System-level Science Performance Verification Sprint February 3-5 2025\n",
    "\n",
    "- Confluence page : https://rubinobs.atlassian.net/wiki/spaces/LSSTCOM/pages/372867091/System-level+Science+Performance+Verification+Sprint\n",
    "- slides : https://docs.google.com/presentation/d/1bPjS5NGtiEL2lfjmvP1UYdG_tMEDfZxX26ayhf7MhtY/edit#slide=id.ga2f7fb1a1f_0_70"
   ]
  },
  {
   "cell_type": "markdown",
   "id": "f3737976-eab8-4483-a79d-796f738c4f22",
   "metadata": {},
   "source": [
    "- where to find the campains\n",
    "- https://rubinobs.atlassian.net/wiki/spaces/DM/pages/226656354/LSSTComCam+Intermittent+Cumulative+DRP+Runs\n",
    "\n",
    "- plot Navigator\n",
    "- https://usdf-rsp.slac.stanford.edu/plot-navigator\n",
    "- https://usdf-rsp.slac.stanford.edu/plot-navigator/plot/%2Frepo%2Fmain/LSSTComCam%2Fruns%2FDRP%2FDP1%2Fw_2025_05%2FDM-48666/objectTableCore_coaddInputCount_SkyPlot"
   ]
  },
  {
   "cell_type": "markdown",
   "id": "53b4594d-5de5-4fa1-8ada-f60f0018cac5",
   "metadata": {},
   "source": [
    "- Notebooks examples\n",
    "- https://github.com/lsst-dm/DMTR-401/blob/main/notebooks/test_LVV-T40_T1240.ipynb\n",
    "- https://github.com/lsst-dm/DMTR-412/blob/tickets/DM-38728/notebooks/test_LVV-T1751_AM1_AM2.ipynb"
   ]
  },
  {
   "cell_type": "markdown",
   "id": "8402aac4-562a-40cd-ac2b-c1ca76cae55b",
   "metadata": {},
   "source": [
    "- author : Sylvie Dagoret-Campagne\n",
    "- creattion date : 2025-02-13\n",
    "\n",
    "\n",
    "- To find what I did on LSSTComCamSim : https://github.com/sylvielsstfr/LSST-Rehearsal2024/blob/main/notebooks/LightCurves/MultiColor_lightCurves-DMRehearsal2024_01-AuxTel-DZPOnCCD.ipynb\n",
    "- **Confluence page** : https://rubinobs.atlassian.net/wiki/spaces/LSSTCOM/pages/443613290/Science+Verification+Sprint+Feb+2025\n"
   ]
  },
  {
   "cell_type": "code",
   "execution_count": null,
   "id": "9d583412-a5a0-456e-84be-1fb658ddf016",
   "metadata": {
    "execution": {
     "iopub.execute_input": "2025-02-13T09:47:55.893765Z",
     "iopub.status.busy": "2025-02-13T09:47:55.893631Z",
     "iopub.status.idle": "2025-02-13T09:47:56.462301Z",
     "shell.execute_reply": "2025-02-13T09:47:56.461771Z",
     "shell.execute_reply.started": "2025-02-13T09:47:55.893753Z"
    }
   },
   "outputs": [],
   "source": [
    "# Confirm that the version of the Science Pipelines is recent:\n",
    "! echo $HOSTNAME\n",
    "! eups list -s | grep lsst_distrib"
   ]
  },
  {
   "cell_type": "code",
   "execution_count": null,
   "id": "8fbb9671-7d8e-4724-8c58-0f0a4fb9e5f0",
   "metadata": {
    "execution": {
     "iopub.execute_input": "2025-02-13T09:47:56.463005Z",
     "iopub.status.busy": "2025-02-13T09:47:56.462867Z",
     "iopub.status.idle": "2025-02-13T09:47:57.291850Z",
     "shell.execute_reply": "2025-02-13T09:47:57.291401Z",
     "shell.execute_reply.started": "2025-02-13T09:47:56.462990Z"
    }
   },
   "outputs": [],
   "source": [
    "from lsst.daf.butler import Butler\n",
    "import lsst.geom as geom"
   ]
  },
  {
   "cell_type": "code",
   "execution_count": null,
   "id": "e814e3d6-750c-4e7f-a9a5-5bf1e2f7205f",
   "metadata": {
    "execution": {
     "iopub.execute_input": "2025-02-13T09:47:57.292428Z",
     "iopub.status.busy": "2025-02-13T09:47:57.292300Z",
     "iopub.status.idle": "2025-02-13T09:47:58.947443Z",
     "shell.execute_reply": "2025-02-13T09:47:58.946989Z",
     "shell.execute_reply.started": "2025-02-13T09:47:57.292416Z"
    }
   },
   "outputs": [],
   "source": [
    "import os\n",
    "import gc\n",
    "import glob\n",
    "import numpy as np\n",
    "import pandas as pd\n",
    "import random\n",
    "\n",
    "import astropy.units as u\n",
    "from astropy.coordinates import SkyCoord\n",
    "from astroquery.gaia import Gaia\n",
    "Gaia.MAIN_GAIA_TABLE = \"gaiadr3.gaia_source\"  # Reselect Data Release 3, default\n",
    "Gaia.ROW_LIMIT = 100000\n",
    "from astropy.visualization import (MinMaxInterval, AsinhStretch, ZScaleInterval, LogStretch, LinearStretch,\n",
    "                                   ImageNormalize)"
   ]
  },
  {
   "cell_type": "code",
   "execution_count": null,
   "id": "5af15c53-1d3f-42ee-81d8-508a2daa56c0",
   "metadata": {
    "execution": {
     "iopub.execute_input": "2025-02-13T09:47:58.948277Z",
     "iopub.status.busy": "2025-02-13T09:47:58.947961Z",
     "iopub.status.idle": "2025-02-13T09:47:58.957205Z",
     "shell.execute_reply": "2025-02-13T09:47:58.956760Z",
     "shell.execute_reply.started": "2025-02-13T09:47:58.948263Z"
    }
   },
   "outputs": [],
   "source": [
    "# Set plotting defaults\n",
    "%matplotlib inline\n",
    "import matplotlib.pyplot as plt\n",
    "zscale = ZScaleInterval()\n",
    "\n",
    "# Set up some plotting defaults:\n",
    "plt.rcParams.update({'figure.figsize' : (12, 8)})\n",
    "plt.rcParams.update({'font.size' : 24})\n",
    "plt.rcParams.update({'axes.linewidth' : 3})\n",
    "plt.rcParams.update({'axes.labelweight' : 3})\n",
    "plt.rcParams.update({'axes.titleweight' : 5})\n",
    "plt.rcParams.update({'ytick.major.width' : 3})\n",
    "plt.rcParams.update({'ytick.minor.width' : 2})\n",
    "plt.rcParams.update({'ytick.major.size' : 8})\n",
    "plt.rcParams.update({'ytick.minor.size' : 5})\n",
    "plt.rcParams.update({'xtick.major.size' : 8})\n",
    "plt.rcParams.update({'xtick.minor.size' : 5})\n",
    "plt.rcParams.update({'xtick.major.width' : 3})\n",
    "plt.rcParams.update({'xtick.minor.width' : 2})\n",
    "plt.rcParams.update({'xtick.direction' : 'in'})\n",
    "plt.rcParams.update({'ytick.direction' : 'in'})\n"
   ]
  },
  {
   "cell_type": "code",
   "execution_count": null,
   "id": "58131b3b-f3bf-461a-8c71-d236e7d5e7fa",
   "metadata": {
    "execution": {
     "iopub.execute_input": "2025-02-13T09:47:58.957796Z",
     "iopub.status.busy": "2025-02-13T09:47:58.957664Z",
     "iopub.status.idle": "2025-02-13T09:47:58.961001Z",
     "shell.execute_reply": "2025-02-13T09:47:58.960667Z",
     "shell.execute_reply.started": "2025-02-13T09:47:58.957784Z"
    }
   },
   "outputs": [],
   "source": [
    "# The output repo is tagged with the Jira ticket number \"DM-40356\":\n",
    "repo = '/repo/main'\n",
    "collection = 'LSSTComCam/runs/DRP/DP1/w_2025_05/DM-48666'\n",
    "instrument = \"LSSTComCam\"\n",
    "skymapName = \"lsst_cells_v1\"\n",
    "where_clause = \"instrument = \\'\" + instrument+ \"\\'\""
   ]
  },
  {
   "cell_type": "code",
   "execution_count": null,
   "id": "804fcb8b-d567-4a27-b102-05ed002051c4",
   "metadata": {
    "execution": {
     "iopub.execute_input": "2025-02-13T09:47:58.961562Z",
     "iopub.status.busy": "2025-02-13T09:47:58.961429Z",
     "iopub.status.idle": "2025-02-13T09:47:59.329304Z",
     "shell.execute_reply": "2025-02-13T09:47:59.328860Z",
     "shell.execute_reply.started": "2025-02-13T09:47:58.961545Z"
    }
   },
   "outputs": [],
   "source": [
    "# Initialize the butler repo:\n",
    "butler = Butler(repo, collections=collection)\n",
    "registry = butler.registry"
   ]
  },
  {
   "cell_type": "code",
   "execution_count": null,
   "id": "826aebd4-b08d-4259-a715-2274b75182c2",
   "metadata": {
    "execution": {
     "iopub.execute_input": "2025-02-13T09:47:59.329896Z",
     "iopub.status.busy": "2025-02-13T09:47:59.329771Z",
     "iopub.status.idle": "2025-02-13T09:48:02.013151Z",
     "shell.execute_reply": "2025-02-13T09:48:02.012686Z",
     "shell.execute_reply.started": "2025-02-13T09:47:59.329884Z"
    }
   },
   "outputs": [],
   "source": [
    "for _ in registry.queryCollections():\n",
    "    if \"LSSTComCam/runs/DRP/DP1/w_2025_05\" in _:\n",
    "        print(_)"
   ]
  },
  {
   "cell_type": "code",
   "execution_count": null,
   "id": "d6dbd6d0-8f6c-441a-b465-b983e87cef9f",
   "metadata": {
    "execution": {
     "iopub.execute_input": "2025-02-13T10:09:23.535584Z",
     "iopub.status.busy": "2025-02-13T10:09:23.535303Z",
     "iopub.status.idle": "2025-02-13T10:12:48.376804Z",
     "shell.execute_reply": "2025-02-13T10:12:48.376394Z",
     "shell.execute_reply.started": "2025-02-13T10:09:23.535566Z"
    }
   },
   "outputs": [],
   "source": [
    "for datasetType in registry.queryDatasetTypes():\n",
    "    if registry.queryDatasets(datasetType, collections=collection).any(\n",
    "        execute=False, exact=False\n",
    "    ):\n",
    "        # Limit search results to the data products\n",
    "        if (\n",
    "            (\"_config\" not in datasetType.name)\n",
    "            and (\"_log\" not in datasetType.name)\n",
    "            and (\"_metadata\" not in datasetType.name)\n",
    "            and (\"_resource_usage\" not in datasetType.name)\n",
    "            and ((\"Table\" in datasetType.name) or (\"Zeropointp\" in datasetType.name) or (\"fgcm\" in datasetType.name) or (\"transm\" in datasetType.name) or (\"Transm\" in datasetType.name) )\n",
    "        ):\n",
    "            print(datasetType)"
   ]
  },
  {
   "cell_type": "markdown",
   "id": "6e8c59bd-7f48-409c-a8a1-9868d4ce07cb",
   "metadata": {},
   "source": [
    "## Select the data product"
   ]
  },
  {
   "cell_type": "code",
   "execution_count": null,
   "id": "b8327a67-fc64-4a93-9a32-9d7039c8d639",
   "metadata": {
    "execution": {
     "iopub.execute_input": "2025-02-13T09:54:52.739949Z",
     "iopub.status.busy": "2025-02-13T09:54:52.739766Z",
     "iopub.status.idle": "2025-02-13T09:54:52.741926Z",
     "shell.execute_reply": "2025-02-13T09:54:52.741573Z",
     "shell.execute_reply.started": "2025-02-13T09:54:52.739936Z"
    }
   },
   "outputs": [],
   "source": [
    "FLAG_ISOLATED_STAR_SOURCES = False\n",
    "FLAG_FGCM = False\n",
    "FLAG_FGCM_CYCLE5 = True\n",
    "FLAG_TRANSMISSION = True"
   ]
  },
  {
   "cell_type": "code",
   "execution_count": null,
   "id": "fd445ae0-85b6-441c-ace1-789843c31629",
   "metadata": {
    "execution": {
     "iopub.execute_input": "2025-02-13T09:54:52.742449Z",
     "iopub.status.busy": "2025-02-13T09:54:52.742301Z",
     "iopub.status.idle": "2025-02-13T09:54:52.749461Z",
     "shell.execute_reply": "2025-02-13T09:54:52.749107Z",
     "shell.execute_reply.started": "2025-02-13T09:54:52.742438Z"
    }
   },
   "outputs": [],
   "source": [
    "# Try to get the Schema\n",
    "\n",
    "if FLAG_ISOLATED_STAR_SOURCES:\n",
    "\n",
    "    all_tracts = []\n",
    "    data_product = \"isolated_star_sources\"\n",
    "    #datasetRefs = butler.registry.queryDatasets(datasetType=data_product, collections=collections, where= where_clause)\n",
    "    datasetRefs = butler.registry.queryDatasets(datasetType=data_product, collections=collection)\n",
    "    for i, ref in enumerate(datasetRefs):\n",
    "        print(i,ref.dataId)\n",
    "        all_tracts.append(ref.dataId[\"tract\"])\n",
    "        #butler_data = butler.get(ref)\n",
    "\n",
    "    all_tracts = sorted(all_tracts)\n",
    "    print(\"all tracts : \", all_tracts)\n",
    "\n",
    "#if not isinstance(butler_data, pd.core.frame.DataFrame):\n",
    "#    print(butler_data.getSchema())\n"
   ]
  },
  {
   "cell_type": "code",
   "execution_count": null,
   "id": "304b5b35-612c-4cc0-bfdf-92007bcb9948",
   "metadata": {
    "execution": {
     "iopub.execute_input": "2025-02-13T09:59:22.463518Z",
     "iopub.status.busy": "2025-02-13T09:59:22.462900Z",
     "iopub.status.idle": "2025-02-13T10:02:51.007571Z",
     "shell.execute_reply": "2025-02-13T10:02:51.007088Z",
     "shell.execute_reply.started": "2025-02-13T09:59:22.463504Z"
    }
   },
   "outputs": [],
   "source": [
    "if FLAG_FGCM_CYCLE5:\n",
    "    for datasetType in registry.queryDatasetTypes():\n",
    "        if registry.queryDatasets(datasetType, collections=collection).any(execute=False, exact=False):\n",
    "            # Limit search results to the data products\n",
    "            if (\"fgcm_Cycle5\" in datasetType.name):\n",
    "                print(datasetType)"
   ]
  },
  {
   "cell_type": "code",
   "execution_count": null,
   "id": "e937c9ef-3813-46cf-a03c-333b1631ac57",
   "metadata": {
    "execution": {
     "iopub.execute_input": "2025-02-13T10:58:07.770801Z",
     "iopub.status.busy": "2025-02-13T10:58:07.770436Z",
     "iopub.status.idle": "2025-02-13T10:58:07.773155Z",
     "shell.execute_reply": "2025-02-13T10:58:07.772843Z",
     "shell.execute_reply.started": "2025-02-13T10:58:07.770779Z"
    }
   },
   "outputs": [],
   "source": [
    "dataid = {'instrument':'LSSTComCam', 'band':'r'}\n",
    "selected_dataset_type = 'fgcm_Cycle5_Zeropoints_Plot'"
   ]
  },
  {
   "cell_type": "code",
   "execution_count": null,
   "id": "5b419ac1-858d-4f4c-a6ac-bbed61db9af2",
   "metadata": {
    "execution": {
     "iopub.execute_input": "2025-02-13T10:58:35.113875Z",
     "iopub.status.busy": "2025-02-13T10:58:35.113546Z",
     "iopub.status.idle": "2025-02-13T10:58:35.115773Z",
     "shell.execute_reply": "2025-02-13T10:58:35.115381Z",
     "shell.execute_reply.started": "2025-02-13T10:58:35.113858Z"
    }
   },
   "outputs": [],
   "source": [
    "# Does not exists in this collection\n",
    "#refs =  butler.get(selected_dataset_type,collections=collection,  dataId = dataid)"
   ]
  },
  {
   "cell_type": "code",
   "execution_count": null,
   "id": "6258ce65-abcf-4204-9b40-86441f6075a8",
   "metadata": {
    "execution": {
     "iopub.execute_input": "2025-02-13T10:40:26.989324Z",
     "iopub.status.busy": "2025-02-13T10:40:26.989000Z",
     "iopub.status.idle": "2025-02-13T10:40:26.991868Z",
     "shell.execute_reply": "2025-02-13T10:40:26.991429Z",
     "shell.execute_reply.started": "2025-02-13T10:40:26.989310Z"
    }
   },
   "outputs": [],
   "source": [
    "set_of_datatypes = ['transmission_optics','transmission_sensor', 'transmission_filter', 'transmission_atmosphere_fgcm' ]"
   ]
  },
  {
   "cell_type": "code",
   "execution_count": null,
   "id": "f04e3299-0bc1-49cd-9cce-57ca00c564ac",
   "metadata": {
    "execution": {
     "iopub.execute_input": "2025-02-13T10:48:35.867618Z",
     "iopub.status.busy": "2025-02-13T10:48:35.867234Z",
     "iopub.status.idle": "2025-02-13T10:48:35.999720Z",
     "shell.execute_reply": "2025-02-13T10:48:35.999349Z",
     "shell.execute_reply.started": "2025-02-13T10:48:35.867603Z"
    }
   },
   "outputs": [],
   "source": [
    "all_refs = {}\n",
    "dataid_optics = {'instrument':'LSSTComCam'}\n",
    "dataid_sensor = {'instrument':'LSSTComCam','detector':0}\n",
    "dataid_filter = {'band':'r','instrument':'LSSTComCam','physical_filter':'r_03'}\n",
    "#dataid_filter = {'band':'g','instrument':'LSSTComCam'}\n",
    "\n",
    "\n",
    "#dataid = {'instrument':'LSSTComCam', 'band':'g','detector':0}\n",
    "for selected_dataset_type in set_of_datatypes:\n",
    "    try:\n",
    "        if selected_dataset_type ==  'transmission_optics':\n",
    "            therefs = butler.get(selected_dataset_type,collections=collection,  dataId = dataid_optics)\n",
    "        elif selected_dataset_type ==  'transmission_sensor':\n",
    "            therefs = butler.get(selected_dataset_type,collections=collection,  dataId = dataid_sensor)\n",
    "        elif selected_dataset_type ==  'transmission_filter':\n",
    "            therefs = butler.get(selected_dataset_type,collections=collection,  dataId = dataid_filter)\n",
    "        else:\n",
    "            continue\n",
    "        all_refs[selected_dataset_type] = therefs\n",
    "    except Exception as inst:\n",
    "        print(type(inst))    # the exception type"
   ]
  },
  {
   "cell_type": "code",
   "execution_count": null,
   "id": "a174cf4e-1bd4-4377-ab17-4c9cf31a2bca",
   "metadata": {
    "execution": {
     "iopub.execute_input": "2025-02-13T10:48:41.985522Z",
     "iopub.status.busy": "2025-02-13T10:48:41.985056Z",
     "iopub.status.idle": "2025-02-13T10:48:41.988175Z",
     "shell.execute_reply": "2025-02-13T10:48:41.987845Z",
     "shell.execute_reply.started": "2025-02-13T10:48:41.985507Z"
    }
   },
   "outputs": [],
   "source": [
    "all_refs"
   ]
  },
  {
   "cell_type": "code",
   "execution_count": null,
   "id": "eacf6f41-d594-4490-b2fe-8e0a31524c08",
   "metadata": {
    "execution": {
     "iopub.execute_input": "2025-02-13T10:49:16.358949Z",
     "iopub.status.busy": "2025-02-13T10:49:16.358517Z",
     "iopub.status.idle": "2025-02-13T10:49:16.361194Z",
     "shell.execute_reply": "2025-02-13T10:49:16.360829Z",
     "shell.execute_reply.started": "2025-02-13T10:49:16.358934Z"
    }
   },
   "outputs": [],
   "source": [
    "transmission_optics = all_refs['transmission_optics'] \n",
    "transmission_sensor = all_refs['transmission_sensor'] \n",
    "transmission_filter = all_refs['transmission_filter'] "
   ]
  },
  {
   "cell_type": "code",
   "execution_count": null,
   "id": "6587884e-b888-4c54-8314-441ecd95d959",
   "metadata": {
    "execution": {
     "iopub.execute_input": "2025-02-13T10:22:40.884756Z",
     "iopub.status.busy": "2025-02-13T10:22:40.884213Z",
     "iopub.status.idle": "2025-02-13T10:22:40.887423Z",
     "shell.execute_reply": "2025-02-13T10:22:40.887061Z",
     "shell.execute_reply.started": "2025-02-13T10:22:40.884742Z"
    }
   },
   "outputs": [],
   "source": [
    "transmission_optics.getThroughputAtBounds()"
   ]
  },
  {
   "cell_type": "code",
   "execution_count": null,
   "id": "1d72846d-63f7-4806-bd70-5899fd436a51",
   "metadata": {
    "execution": {
     "iopub.execute_input": "2025-02-13T10:23:10.893039Z",
     "iopub.status.busy": "2025-02-13T10:23:10.892743Z",
     "iopub.status.idle": "2025-02-13T10:23:10.896003Z",
     "shell.execute_reply": "2025-02-13T10:23:10.895632Z",
     "shell.execute_reply.started": "2025-02-13T10:23:10.893023Z"
    }
   },
   "outputs": [],
   "source": [
    "transmission_optics.getWavelengthBounds()"
   ]
  },
  {
   "cell_type": "code",
   "execution_count": null,
   "id": "a1a740a1-3564-4ab8-a51c-07d035b984a5",
   "metadata": {
    "execution": {
     "iopub.execute_input": "2025-02-13T10:28:56.135436Z",
     "iopub.status.busy": "2025-02-13T10:28:56.135194Z",
     "iopub.status.idle": "2025-02-13T10:28:56.138370Z",
     "shell.execute_reply": "2025-02-13T10:28:56.137815Z",
     "shell.execute_reply.started": "2025-02-13T10:28:56.135420Z"
    }
   },
   "outputs": [],
   "source": [
    "from lsst.geom import Point2D\n",
    "wls = np.arange(3200.,10000.,1.)"
   ]
  },
  {
   "cell_type": "code",
   "execution_count": null,
   "id": "5bad8455-f672-43d8-9817-a43d602f601a",
   "metadata": {
    "execution": {
     "iopub.execute_input": "2025-02-13T10:49:41.448415Z",
     "iopub.status.busy": "2025-02-13T10:49:41.448080Z",
     "iopub.status.idle": "2025-02-13T10:49:41.451008Z",
     "shell.execute_reply": "2025-02-13T10:49:41.450665Z",
     "shell.execute_reply.started": "2025-02-13T10:49:41.448401Z"
    }
   },
   "outputs": [],
   "source": [
    "transm_optics = transmission_optics.sampleAt(position = Point2D(0.,0.) ,wavelengths = wls)\n",
    "transm_sensor = transmission_sensor.sampleAt(position = Point2D(0.,0.) ,wavelengths = wls)\n",
    "transm_filter = transmission_filter.sampleAt(position = Point2D(0.,0.) ,wavelengths = wls)"
   ]
  },
  {
   "cell_type": "code",
   "execution_count": null,
   "id": "03bc3a50-b10e-4ff0-9f12-9f5ea675ec2e",
   "metadata": {
    "execution": {
     "iopub.execute_input": "2025-02-13T10:49:55.828846Z",
     "iopub.status.busy": "2025-02-13T10:49:55.828498Z",
     "iopub.status.idle": "2025-02-13T10:49:55.938133Z",
     "shell.execute_reply": "2025-02-13T10:49:55.937812Z",
     "shell.execute_reply.started": "2025-02-13T10:49:55.828832Z"
    }
   },
   "outputs": [],
   "source": [
    "plt.plot(wls,transm_optics)\n",
    "plt.plot(wls,transm_sensor)\n",
    "plt.plot(wls,transm_filter)"
   ]
  },
  {
   "cell_type": "code",
   "execution_count": null,
   "id": "b77b4228-6a87-4500-a1ae-e9872bd1d06f",
   "metadata": {},
   "outputs": [],
   "source": []
  }
 ],
 "metadata": {
  "kernelspec": {
   "display_name": "LSST",
   "language": "python",
   "name": "lsst"
  },
  "language_info": {
   "codemirror_mode": {
    "name": "ipython",
    "version": 3
   },
   "file_extension": ".py",
   "mimetype": "text/x-python",
   "name": "python",
   "nbconvert_exporter": "python",
   "pygments_lexer": "ipython3",
   "version": "3.11.11"
  }
 },
 "nbformat": 4,
 "nbformat_minor": 5
}
