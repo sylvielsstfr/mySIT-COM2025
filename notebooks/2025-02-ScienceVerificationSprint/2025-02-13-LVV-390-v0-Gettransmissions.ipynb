{
 "cells": [
  {
   "cell_type": "markdown",
   "id": "8f3da262-37ed-407f-908c-8ac5a52cb4db",
   "metadata": {},
   "source": [
    "# Notebook to access to data for the System-level Science Performance Verification Sprint February 3-5 2025\n",
    "\n",
    "## Heare search to access to transmissions\n",
    "\n",
    "- Confluence page : https://rubinobs.atlassian.net/wiki/spaces/LSSTCOM/pages/372867091/System-level+Science+Performance+Verification+Sprint\n",
    "- slides : https://docs.google.com/presentation/d/1bPjS5NGtiEL2lfjmvP1UYdG_tMEDfZxX26ayhf7MhtY/edit#slide=id.ga2f7fb1a1f_0_70"
   ]
  },
  {
   "cell_type": "markdown",
   "id": "f3737976-eab8-4483-a79d-796f738c4f22",
   "metadata": {},
   "source": [
    "- where to find the campains\n",
    "- https://rubinobs.atlassian.net/wiki/spaces/DM/pages/226656354/LSSTComCam+Intermittent+Cumulative+DRP+Runs\n",
    "\n",
    "- plot Navigator\n",
    "- https://usdf-rsp.slac.stanford.edu/plot-navigator\n",
    "- https://usdf-rsp.slac.stanford.edu/plot-navigator/plot/%2Frepo%2Fmain/LSSTComCam%2Fruns%2FDRP%2FDP1%2Fw_2025_05%2FDM-48666/objectTableCore_coaddInputCount_SkyPlot"
   ]
  },
  {
   "cell_type": "markdown",
   "id": "53b4594d-5de5-4fa1-8ada-f60f0018cac5",
   "metadata": {},
   "source": [
    "- Notebooks examples\n",
    "- https://github.com/lsst-dm/DMTR-401/blob/main/notebooks/test_LVV-T40_T1240.ipynb\n",
    "- https://github.com/lsst-dm/DMTR-412/blob/tickets/DM-38728/notebooks/test_LVV-T1751_AM1_AM2.ipynb"
   ]
  },
  {
   "cell_type": "markdown",
   "id": "8402aac4-562a-40cd-ac2b-c1ca76cae55b",
   "metadata": {},
   "source": [
    "- author : Sylvie Dagoret-Campagne\n",
    "- creattion date : 2025-02-13\n",
    "\n",
    "\n",
    "- To find what I did on LSSTComCamSim : https://github.com/sylvielsstfr/LSST-Rehearsal2024/blob/main/notebooks/LightCurves/MultiColor_lightCurves-DMRehearsal2024_01-AuxTel-DZPOnCCD.ipynb\n",
    "- **Confluence page** : https://rubinobs.atlassian.net/wiki/spaces/LSSTCOM/pages/443613290/Science+Verification+Sprint+Feb+2025\n"
   ]
  },
  {
   "cell_type": "code",
   "execution_count": null,
   "id": "9d583412-a5a0-456e-84be-1fb658ddf016",
   "metadata": {
    "execution": {
     "iopub.execute_input": "2025-02-13T11:12:21.181121Z",
     "iopub.status.busy": "2025-02-13T11:12:21.180990Z",
     "iopub.status.idle": "2025-02-13T11:12:21.745008Z",
     "shell.execute_reply": "2025-02-13T11:12:21.744395Z",
     "shell.execute_reply.started": "2025-02-13T11:12:21.181107Z"
    }
   },
   "outputs": [],
   "source": [
    "# Confirm that the version of the Science Pipelines is recent:\n",
    "! echo $HOSTNAME\n",
    "! eups list -s | grep lsst_distrib"
   ]
  },
  {
   "cell_type": "code",
   "execution_count": null,
   "id": "8fbb9671-7d8e-4724-8c58-0f0a4fb9e5f0",
   "metadata": {
    "execution": {
     "iopub.execute_input": "2025-02-13T11:12:21.745832Z",
     "iopub.status.busy": "2025-02-13T11:12:21.745674Z",
     "iopub.status.idle": "2025-02-13T11:12:22.565096Z",
     "shell.execute_reply": "2025-02-13T11:12:22.564653Z",
     "shell.execute_reply.started": "2025-02-13T11:12:21.745811Z"
    }
   },
   "outputs": [],
   "source": [
    "from lsst.daf.butler import Butler\n",
    "import lsst.geom as geom"
   ]
  },
  {
   "cell_type": "code",
   "execution_count": null,
   "id": "e814e3d6-750c-4e7f-a9a5-5bf1e2f7205f",
   "metadata": {
    "execution": {
     "iopub.execute_input": "2025-02-13T11:12:22.565765Z",
     "iopub.status.busy": "2025-02-13T11:12:22.565623Z",
     "iopub.status.idle": "2025-02-13T11:12:24.187963Z",
     "shell.execute_reply": "2025-02-13T11:12:24.187521Z",
     "shell.execute_reply.started": "2025-02-13T11:12:22.565752Z"
    }
   },
   "outputs": [],
   "source": [
    "import os\n",
    "import gc\n",
    "import glob\n",
    "import numpy as np\n",
    "import pandas as pd\n",
    "import random\n",
    "\n",
    "import astropy.units as u\n",
    "from astropy.coordinates import SkyCoord\n",
    "from astroquery.gaia import Gaia\n",
    "Gaia.MAIN_GAIA_TABLE = \"gaiadr3.gaia_source\"  # Reselect Data Release 3, default\n",
    "Gaia.ROW_LIMIT = 100000\n",
    "from astropy.visualization import (MinMaxInterval, AsinhStretch, ZScaleInterval, LogStretch, LinearStretch,\n",
    "                                   ImageNormalize)"
   ]
  },
  {
   "cell_type": "code",
   "execution_count": null,
   "id": "5af15c53-1d3f-42ee-81d8-508a2daa56c0",
   "metadata": {
    "execution": {
     "iopub.execute_input": "2025-02-13T11:12:24.188868Z",
     "iopub.status.busy": "2025-02-13T11:12:24.188463Z",
     "iopub.status.idle": "2025-02-13T11:12:24.197745Z",
     "shell.execute_reply": "2025-02-13T11:12:24.197374Z",
     "shell.execute_reply.started": "2025-02-13T11:12:24.188852Z"
    }
   },
   "outputs": [],
   "source": [
    "# Set plotting defaults\n",
    "%matplotlib inline\n",
    "import matplotlib.pyplot as plt\n",
    "zscale = ZScaleInterval()\n",
    "\n",
    "# Set up some plotting defaults:\n",
    "plt.rcParams.update({'figure.figsize' : (12, 8)})\n",
    "plt.rcParams.update({'font.size' : 24})\n",
    "plt.rcParams.update({'axes.linewidth' : 3})\n",
    "plt.rcParams.update({'axes.labelweight' : 3})\n",
    "plt.rcParams.update({'axes.titleweight' : 5})\n",
    "plt.rcParams.update({'ytick.major.width' : 3})\n",
    "plt.rcParams.update({'ytick.minor.width' : 2})\n",
    "plt.rcParams.update({'ytick.major.size' : 8})\n",
    "plt.rcParams.update({'ytick.minor.size' : 5})\n",
    "plt.rcParams.update({'xtick.major.size' : 8})\n",
    "plt.rcParams.update({'xtick.minor.size' : 5})\n",
    "plt.rcParams.update({'xtick.major.width' : 3})\n",
    "plt.rcParams.update({'xtick.minor.width' : 2})\n",
    "plt.rcParams.update({'xtick.direction' : 'in'})\n",
    "plt.rcParams.update({'ytick.direction' : 'in'})\n"
   ]
  },
  {
   "cell_type": "code",
   "execution_count": null,
   "id": "58131b3b-f3bf-461a-8c71-d236e7d5e7fa",
   "metadata": {
    "execution": {
     "iopub.execute_input": "2025-02-13T11:12:24.198312Z",
     "iopub.status.busy": "2025-02-13T11:12:24.198180Z",
     "iopub.status.idle": "2025-02-13T11:12:24.201326Z",
     "shell.execute_reply": "2025-02-13T11:12:24.200973Z",
     "shell.execute_reply.started": "2025-02-13T11:12:24.198298Z"
    }
   },
   "outputs": [],
   "source": [
    "# The output repo is tagged with the Jira ticket number \"DM-40356\":\n",
    "repo = '/repo/main'\n",
    "collection = 'LSSTComCam/runs/DRP/DP1/w_2025_05/DM-48666'\n",
    "instrument = \"LSSTComCam\"\n",
    "skymapName = \"lsst_cells_v1\"\n",
    "where_clause = \"instrument = \\'\" + instrument+ \"\\'\""
   ]
  },
  {
   "cell_type": "code",
   "execution_count": null,
   "id": "804fcb8b-d567-4a27-b102-05ed002051c4",
   "metadata": {
    "execution": {
     "iopub.execute_input": "2025-02-13T11:12:24.201856Z",
     "iopub.status.busy": "2025-02-13T11:12:24.201737Z",
     "iopub.status.idle": "2025-02-13T11:12:24.605973Z",
     "shell.execute_reply": "2025-02-13T11:12:24.605545Z",
     "shell.execute_reply.started": "2025-02-13T11:12:24.201845Z"
    }
   },
   "outputs": [],
   "source": [
    "# Initialize the butler repo:\n",
    "butler = Butler(repo, collections=collection)\n",
    "registry = butler.registry"
   ]
  },
  {
   "cell_type": "code",
   "execution_count": null,
   "id": "826aebd4-b08d-4259-a715-2274b75182c2",
   "metadata": {
    "execution": {
     "iopub.execute_input": "2025-02-13T11:12:24.606606Z",
     "iopub.status.busy": "2025-02-13T11:12:24.606465Z",
     "iopub.status.idle": "2025-02-13T11:12:27.317825Z",
     "shell.execute_reply": "2025-02-13T11:12:27.317345Z",
     "shell.execute_reply.started": "2025-02-13T11:12:24.606593Z"
    }
   },
   "outputs": [],
   "source": [
    "for _ in registry.queryCollections():\n",
    "    if \"LSSTComCam/runs/DRP/DP1/w_2025_05\" in _:\n",
    "        print(_)"
   ]
  },
  {
   "cell_type": "code",
   "execution_count": null,
   "id": "d6dbd6d0-8f6c-441a-b465-b983e87cef9f",
   "metadata": {
    "execution": {
     "iopub.execute_input": "2025-02-13T12:06:11.289328Z",
     "iopub.status.busy": "2025-02-13T12:06:11.289166Z",
     "iopub.status.idle": "2025-02-13T12:09:39.560305Z",
     "shell.execute_reply": "2025-02-13T12:09:39.559880Z",
     "shell.execute_reply.started": "2025-02-13T12:06:11.289315Z"
    }
   },
   "outputs": [],
   "source": [
    "for datasetType in registry.queryDatasetTypes():\n",
    "    if registry.queryDatasets(datasetType, collections=collection).any(\n",
    "        execute=False, exact=False\n",
    "    ):\n",
    "        # Limit search results to the data products\n",
    "        if (\n",
    "            (\"_config\" not in datasetType.name)\n",
    "            and (\"_log\" not in datasetType.name)\n",
    "            and (\"_metadata\" not in datasetType.name)\n",
    "            and (\"_resource_usage\" not in datasetType.name)\n",
    "            and ((\"Table\" in datasetType.name) or (\"Zeropointp\" in datasetType.name) or (\"fgcm\" in datasetType.name) or (\"transm\" in datasetType.name) or (\"Transm\" in datasetType.name) or (\"atm\" in datasetType.name)  or (\"Atm\" in datasetType.name))):\n",
    "            print(datasetType)"
   ]
  },
  {
   "cell_type": "markdown",
   "id": "6e8c59bd-7f48-409c-a8a1-9868d4ce07cb",
   "metadata": {},
   "source": [
    "## Select the data product"
   ]
  },
  {
   "cell_type": "code",
   "execution_count": null,
   "id": "b8327a67-fc64-4a93-9a32-9d7039c8d639",
   "metadata": {
    "execution": {
     "iopub.status.busy": "2025-02-13T11:12:27.322955Z",
     "iopub.status.idle": "2025-02-13T11:12:27.323118Z",
     "shell.execute_reply": "2025-02-13T11:12:27.323040Z",
     "shell.execute_reply.started": "2025-02-13T11:12:27.323032Z"
    }
   },
   "outputs": [],
   "source": [
    "FLAG_ISOLATED_STAR_SOURCES = False\n",
    "FLAG_FGCM = False\n",
    "FLAG_FGCM_CYCLE5 = False\n",
    "FLAG_TRANSMISSION = True"
   ]
  },
  {
   "cell_type": "code",
   "execution_count": null,
   "id": "fd445ae0-85b6-441c-ace1-789843c31629",
   "metadata": {
    "execution": {
     "iopub.status.busy": "2025-02-13T11:12:27.323721Z",
     "iopub.status.idle": "2025-02-13T11:12:27.323988Z",
     "shell.execute_reply": "2025-02-13T11:12:27.323907Z",
     "shell.execute_reply.started": "2025-02-13T11:12:27.323899Z"
    }
   },
   "outputs": [],
   "source": [
    "# Try to get the Schema\n",
    "\n",
    "if FLAG_ISOLATED_STAR_SOURCES:\n",
    "\n",
    "    all_tracts = []\n",
    "    data_product = \"isolated_star_sources\"\n",
    "    #datasetRefs = butler.registry.queryDatasets(datasetType=data_product, collections=collections, where= where_clause)\n",
    "    datasetRefs = butler.registry.queryDatasets(datasetType=data_product, collections=collection)\n",
    "    for i, ref in enumerate(datasetRefs):\n",
    "        print(i,ref.dataId)\n",
    "        all_tracts.append(ref.dataId[\"tract\"])\n",
    "        #butler_data = butler.get(ref)\n",
    "\n",
    "    all_tracts = sorted(all_tracts)\n",
    "    print(\"all tracts : \", all_tracts)\n",
    "\n",
    "#if not isinstance(butler_data, pd.core.frame.DataFrame):\n",
    "#    print(butler_data.getSchema())\n"
   ]
  },
  {
   "cell_type": "code",
   "execution_count": null,
   "id": "304b5b35-612c-4cc0-bfdf-92007bcb9948",
   "metadata": {
    "execution": {
     "iopub.status.busy": "2025-02-13T11:12:27.324432Z",
     "iopub.status.idle": "2025-02-13T11:12:27.324581Z",
     "shell.execute_reply": "2025-02-13T11:12:27.324508Z",
     "shell.execute_reply.started": "2025-02-13T11:12:27.324501Z"
    }
   },
   "outputs": [],
   "source": [
    "if FLAG_FGCM_CYCLE5:\n",
    "    for datasetType in registry.queryDatasetTypes():\n",
    "        if registry.queryDatasets(datasetType, collections=collection).any(execute=False, exact=False):\n",
    "            # Limit search results to the data products\n",
    "            if (\"fgcm_Cycle5\" in datasetType.name):\n",
    "                print(datasetType)"
   ]
  },
  {
   "cell_type": "code",
   "execution_count": null,
   "id": "e937c9ef-3813-46cf-a03c-333b1631ac57",
   "metadata": {
    "execution": {
     "iopub.status.busy": "2025-02-13T11:12:27.325097Z",
     "iopub.status.idle": "2025-02-13T11:12:27.325460Z",
     "shell.execute_reply": "2025-02-13T11:12:27.325366Z",
     "shell.execute_reply.started": "2025-02-13T11:12:27.325355Z"
    }
   },
   "outputs": [],
   "source": [
    "dataid = {'instrument':'LSSTComCam', 'band':'r'}\n",
    "selected_dataset_type = 'fgcm_Cycle5_Zeropoints_Plot'"
   ]
  },
  {
   "cell_type": "code",
   "execution_count": null,
   "id": "5b419ac1-858d-4f4c-a6ac-bbed61db9af2",
   "metadata": {
    "execution": {
     "iopub.status.busy": "2025-02-13T11:12:27.325906Z",
     "iopub.status.idle": "2025-02-13T11:12:27.326066Z",
     "shell.execute_reply": "2025-02-13T11:12:27.325989Z",
     "shell.execute_reply.started": "2025-02-13T11:12:27.325982Z"
    }
   },
   "outputs": [],
   "source": [
    "#refs =  butler.get(selected_dataset_type,collections=collection,  dataId = dataid)"
   ]
  },
  {
   "cell_type": "markdown",
   "id": "42182f39-4e59-460f-9c79-b40747a45eb1",
   "metadata": {},
   "source": [
    "## try to find the transmissions"
   ]
  },
  {
   "cell_type": "code",
   "execution_count": null,
   "id": "6258ce65-abcf-4204-9b40-86441f6075a8",
   "metadata": {
    "execution": {
     "iopub.status.busy": "2025-02-13T11:12:27.326674Z",
     "iopub.status.idle": "2025-02-13T11:12:27.326993Z",
     "shell.execute_reply": "2025-02-13T11:12:27.326914Z",
     "shell.execute_reply.started": "2025-02-13T11:12:27.326906Z"
    }
   },
   "outputs": [],
   "source": [
    "set_of_datatypes = ['transmission_optics','transmission_sensor', 'transmission_filter', 'transmission_atmosphere_fgcm' ]"
   ]
  },
  {
   "cell_type": "code",
   "execution_count": null,
   "id": "f04e3299-0bc1-49cd-9cce-57ca00c564ac",
   "metadata": {
    "execution": {
     "iopub.status.busy": "2025-02-13T11:12:27.327574Z",
     "iopub.status.idle": "2025-02-13T11:12:27.327735Z",
     "shell.execute_reply": "2025-02-13T11:12:27.327662Z",
     "shell.execute_reply.started": "2025-02-13T11:12:27.327655Z"
    }
   },
   "outputs": [],
   "source": [
    "all_refs = {}\n",
    "dataid_optics = {'instrument':'LSSTComCam'}\n",
    "dataid_sensor = {'instrument':'LSSTComCam','detector':0}\n",
    "dataid_filter = {'band':'r','instrument':'LSSTComCam','physical_filter':'r_03'}\n",
    "#dataid_filter = {'band':'g','instrument':'LSSTComCam'}\n",
    "#TBT:\n",
    "#I’ve added it to the Description section of the ticket, and also here:  \n",
    "#dataQuery: \"instrument='LSSTComCam' AND (exposure.day_obs>=20241101 and exposure.day_obs<=20241113) AND exposure.observation_type='science' AND exposure.physical_filter in ('u_02','g_01','r_03','i_06','z_03')\"\n",
    "\n",
    "#dataid = {'instrument':'LSSTComCam', 'band':'g','detector':0}\n",
    "for selected_dataset_type in set_of_datatypes:\n",
    "    try:\n",
    "        if selected_dataset_type ==  'transmission_optics':\n",
    "            therefs = butler.get(selected_dataset_type,collections=collection,  dataId = dataid_optics)\n",
    "        elif selected_dataset_type ==  'transmission_sensor':\n",
    "            therefs = butler.get(selected_dataset_type,collections=collection,  dataId = dataid_sensor)\n",
    "        elif selected_dataset_type ==  'transmission_filter':\n",
    "            therefs = butler.get(selected_dataset_type,collections=collection,  dataId = dataid_filter)\n",
    "        else:\n",
    "            continue\n",
    "        all_refs[selected_dataset_type] = therefs\n",
    "    except Exception as inst:\n",
    "        print(type(inst))    # the exception type"
   ]
  },
  {
   "cell_type": "code",
   "execution_count": null,
   "id": "a174cf4e-1bd4-4377-ab17-4c9cf31a2bca",
   "metadata": {
    "execution": {
     "iopub.status.busy": "2025-02-13T11:12:27.328360Z",
     "iopub.status.idle": "2025-02-13T11:12:27.328528Z",
     "shell.execute_reply": "2025-02-13T11:12:27.328448Z",
     "shell.execute_reply.started": "2025-02-13T11:12:27.328437Z"
    }
   },
   "outputs": [],
   "source": [
    "all_refs"
   ]
  },
  {
   "cell_type": "code",
   "execution_count": null,
   "id": "eacf6f41-d594-4490-b2fe-8e0a31524c08",
   "metadata": {
    "execution": {
     "iopub.status.busy": "2025-02-13T11:12:27.329163Z",
     "iopub.status.idle": "2025-02-13T11:12:27.329429Z",
     "shell.execute_reply": "2025-02-13T11:12:27.329241Z",
     "shell.execute_reply.started": "2025-02-13T11:12:27.329234Z"
    }
   },
   "outputs": [],
   "source": [
    "transmission_optics = all_refs['transmission_optics'] \n",
    "transmission_sensor = all_refs['transmission_sensor'] \n",
    "transmission_filter = all_refs['transmission_filter'] "
   ]
  },
  {
   "cell_type": "code",
   "execution_count": null,
   "id": "6587884e-b888-4c54-8314-441ecd95d959",
   "metadata": {
    "execution": {
     "iopub.status.busy": "2025-02-13T11:12:27.329792Z",
     "iopub.status.idle": "2025-02-13T11:12:27.329948Z",
     "shell.execute_reply": "2025-02-13T11:12:27.329873Z",
     "shell.execute_reply.started": "2025-02-13T11:12:27.329866Z"
    }
   },
   "outputs": [],
   "source": [
    "transmission_optics.getThroughputAtBounds()"
   ]
  },
  {
   "cell_type": "code",
   "execution_count": null,
   "id": "1d72846d-63f7-4806-bd70-5899fd436a51",
   "metadata": {
    "execution": {
     "iopub.status.busy": "2025-02-13T11:12:27.330392Z",
     "iopub.status.idle": "2025-02-13T11:12:27.330541Z",
     "shell.execute_reply": "2025-02-13T11:12:27.330470Z",
     "shell.execute_reply.started": "2025-02-13T11:12:27.330463Z"
    }
   },
   "outputs": [],
   "source": [
    "transmission_optics.getWavelengthBounds()"
   ]
  },
  {
   "cell_type": "code",
   "execution_count": null,
   "id": "a1a740a1-3564-4ab8-a51c-07d035b984a5",
   "metadata": {
    "execution": {
     "iopub.status.busy": "2025-02-13T11:12:27.331005Z",
     "iopub.status.idle": "2025-02-13T11:12:27.331193Z",
     "shell.execute_reply": "2025-02-13T11:12:27.331088Z",
     "shell.execute_reply.started": "2025-02-13T11:12:27.331080Z"
    }
   },
   "outputs": [],
   "source": [
    "from lsst.geom import Point2D\n",
    "wls = np.arange(3200.,10000.,1.)"
   ]
  },
  {
   "cell_type": "code",
   "execution_count": null,
   "id": "5bad8455-f672-43d8-9817-a43d602f601a",
   "metadata": {
    "execution": {
     "iopub.status.busy": "2025-02-13T11:12:27.331931Z",
     "iopub.status.idle": "2025-02-13T11:12:27.332082Z",
     "shell.execute_reply": "2025-02-13T11:12:27.332008Z",
     "shell.execute_reply.started": "2025-02-13T11:12:27.332001Z"
    }
   },
   "outputs": [],
   "source": [
    "transm_optics = transmission_optics.sampleAt(position = Point2D(0.,0.) ,wavelengths = wls)\n",
    "transm_sensor = transmission_sensor.sampleAt(position = Point2D(0.,0.) ,wavelengths = wls)\n",
    "transm_filter = transmission_filter.sampleAt(position = Point2D(0.,0.) ,wavelengths = wls)"
   ]
  },
  {
   "cell_type": "code",
   "execution_count": null,
   "id": "03bc3a50-b10e-4ff0-9f12-9f5ea675ec2e",
   "metadata": {
    "execution": {
     "iopub.status.busy": "2025-02-13T11:12:27.332441Z",
     "iopub.status.idle": "2025-02-13T11:12:27.332593Z",
     "shell.execute_reply": "2025-02-13T11:12:27.332516Z",
     "shell.execute_reply.started": "2025-02-13T11:12:27.332510Z"
    }
   },
   "outputs": [],
   "source": [
    "plt.plot(wls,transm_optics)\n",
    "plt.plot(wls,transm_sensor)\n",
    "plt.plot(wls,transm_filter)"
   ]
  },
  {
   "cell_type": "code",
   "execution_count": null,
   "id": "b77b4228-6a87-4500-a1ae-e9872bd1d06f",
   "metadata": {},
   "outputs": [],
   "source": []
  }
 ],
 "metadata": {
  "kernelspec": {
   "display_name": "LSST",
   "language": "python",
   "name": "lsst"
  },
  "language_info": {
   "codemirror_mode": {
    "name": "ipython",
    "version": 3
   },
   "file_extension": ".py",
   "mimetype": "text/x-python",
   "name": "python",
   "nbconvert_exporter": "python",
   "pygments_lexer": "ipython3",
   "version": "3.11.11"
  }
 },
 "nbformat": 4,
 "nbformat_minor": 5
}
