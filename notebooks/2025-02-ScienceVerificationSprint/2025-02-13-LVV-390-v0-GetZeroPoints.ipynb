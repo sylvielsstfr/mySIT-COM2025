{
 "cells": [
  {
   "cell_type": "markdown",
   "id": "8f3da262-37ed-407f-908c-8ac5a52cb4db",
   "metadata": {},
   "source": [
    "# Notebook to access to data for the System-level Science Performance Verification Sprint February 3-5 2025\n",
    "\n",
    "## LSSTComCam ZERO-Point uniformity on Focal Plane in the selected band in a selected range of dates\n",
    "\n",
    "- Confluence page : https://rubinobs.atlassian.net/wiki/spaces/LSSTCOM/pages/372867091/System-level+Science+Performance+Verification+Sprint\n",
    "- slides : https://docs.google.com/presentation/d/1bPjS5NGtiEL2lfjmvP1UYdG_tMEDfZxX26ayhf7MhtY/edit#slide=id.ga2f7fb1a1f_0_70"
   ]
  },
  {
   "cell_type": "markdown",
   "id": "f3737976-eab8-4483-a79d-796f738c4f22",
   "metadata": {},
   "source": [
    "- where to find the campains\n",
    "- https://rubinobs.atlassian.net/wiki/spaces/DM/pages/226656354/LSSTComCam+Intermittent+Cumulative+DRP+Runs\n",
    "\n",
    "- plot Navigator\n",
    "- https://usdf-rsp.slac.stanford.edu/plot-navigator\n",
    "- https://usdf-rsp.slac.stanford.edu/plot-navigator/plot/%2Frepo%2Fmain/LSSTComCam%2Fruns%2FDRP%2FDP1%2Fw_2025_05%2FDM-48666/objectTableCore_coaddInputCount_SkyPlot"
   ]
  },
  {
   "cell_type": "markdown",
   "id": "53b4594d-5de5-4fa1-8ada-f60f0018cac5",
   "metadata": {},
   "source": [
    "- Notebooks examples\n",
    "- https://github.com/lsst-dm/DMTR-401/blob/main/notebooks/test_LVV-T40_T1240.ipynb\n",
    "- https://github.com/lsst-dm/DMTR-412/blob/tickets/DM-38728/notebooks/test_LVV-T1751_AM1_AM2.ipynb"
   ]
  },
  {
   "cell_type": "markdown",
   "id": "8402aac4-562a-40cd-ac2b-c1ca76cae55b",
   "metadata": {},
   "source": [
    "- author : Sylvie Dagoret-Campagne\n",
    "- creattion date : 2025-02-13\n",
    "- last update : 2025-02-14\n",
    "- To find what I did on LSSTComCamSim : https://github.com/sylvielsstfr/LSST-Rehearsal2024/blob/main/notebooks/LightCurves/MultiColor_lightCurves-DMRehearsal2024_01-AuxTel-DZPOnCCD.ipynb\n",
    "- **Confluence page** : https://rubinobs.atlassian.net/wiki/spaces/LSSTCOM/pages/443613290/Science+Verification+Sprint+Feb+2025\n",
    "-* Source code : https://github.com/sylvielsstfr/LSST-Rehearsal2024/blob/main/notebooks/LightCurves/SingleBand_lightCurves_ExtractOneObject_LSSTComCamSim.ipynb"
   ]
  },
  {
   "cell_type": "code",
   "execution_count": null,
   "id": "9d583412-a5a0-456e-84be-1fb658ddf016",
   "metadata": {
    "execution": {
     "iopub.execute_input": "2025-05-30T08:05:51.192059Z",
     "iopub.status.busy": "2025-05-30T08:05:51.191752Z",
     "iopub.status.idle": "2025-05-30T08:05:52.250787Z",
     "shell.execute_reply": "2025-05-30T08:05:52.250157Z",
     "shell.execute_reply.started": "2025-05-30T08:05:51.192042Z"
    }
   },
   "outputs": [],
   "source": [
    "# Confirm that the version of the Science Pipelines is recent:\n",
    "! echo $HOSTNAME\n",
    "! eups list -s | grep lsst_distrib"
   ]
  },
  {
   "cell_type": "code",
   "execution_count": null,
   "id": "8fbb9671-7d8e-4724-8c58-0f0a4fb9e5f0",
   "metadata": {
    "execution": {
     "iopub.execute_input": "2025-05-30T08:05:52.251633Z",
     "iopub.status.busy": "2025-05-30T08:05:52.251480Z",
     "iopub.status.idle": "2025-05-30T08:05:53.259424Z",
     "shell.execute_reply": "2025-05-30T08:05:53.258948Z",
     "shell.execute_reply.started": "2025-05-30T08:05:52.251616Z"
    }
   },
   "outputs": [],
   "source": [
    "from lsst.daf.butler import Butler\n",
    "import lsst.geom as geom"
   ]
  },
  {
   "cell_type": "code",
   "execution_count": null,
   "id": "e814e3d6-750c-4e7f-a9a5-5bf1e2f7205f",
   "metadata": {
    "execution": {
     "iopub.execute_input": "2025-05-30T08:05:53.260144Z",
     "iopub.status.busy": "2025-05-30T08:05:53.259976Z",
     "iopub.status.idle": "2025-05-30T08:05:54.568764Z",
     "shell.execute_reply": "2025-05-30T08:05:54.568258Z",
     "shell.execute_reply.started": "2025-05-30T08:05:53.260129Z"
    }
   },
   "outputs": [],
   "source": [
    "import os\n",
    "import gc\n",
    "import glob\n",
    "import numpy as np\n",
    "import pandas as pd\n",
    "import random\n",
    "\n",
    "import astropy.units as u\n",
    "from astropy.coordinates import SkyCoord\n",
    "from astroquery.gaia import Gaia\n",
    "Gaia.MAIN_GAIA_TABLE = \"gaiadr3.gaia_source\"  # Reselect Data Release 3, default\n",
    "Gaia.ROW_LIMIT = 100000\n",
    "from astropy.visualization import (MinMaxInterval, AsinhStretch, ZScaleInterval, LogStretch, LinearStretch,\n",
    "                                   ImageNormalize)"
   ]
  },
  {
   "cell_type": "code",
   "execution_count": null,
   "id": "5af15c53-1d3f-42ee-81d8-508a2daa56c0",
   "metadata": {
    "execution": {
     "iopub.execute_input": "2025-05-30T08:05:54.569747Z",
     "iopub.status.busy": "2025-05-30T08:05:54.569356Z",
     "iopub.status.idle": "2025-05-30T08:05:55.334337Z",
     "shell.execute_reply": "2025-05-30T08:05:55.333871Z",
     "shell.execute_reply.started": "2025-05-30T08:05:54.569730Z"
    }
   },
   "outputs": [],
   "source": [
    "# Set plotting defaults\n",
    "%matplotlib inline\n",
    "import matplotlib as mpl\n",
    "import matplotlib.pyplot as plt\n",
    "from matplotlib.ticker import FormatStrFormatter\n",
    "from matplotlib.colors import ListedColormap\n",
    "from matplotlib import colors\n",
    "\n",
    "import seaborn as sns\n",
    "from itertools import cycle, islice\n",
    "\n",
    "# Set up some plotting defaults:\n",
    "plt.rcParams.update({'figure.figsize' : (12, 8)})\n",
    "plt.rcParams.update({'font.size' : 24})\n",
    "plt.rcParams.update({'axes.linewidth' : 3})\n",
    "plt.rcParams.update({'axes.labelweight' : 3})\n",
    "plt.rcParams.update({'axes.titleweight' : 5})\n",
    "plt.rcParams.update({'ytick.major.width' : 3})\n",
    "plt.rcParams.update({'ytick.minor.width' : 2})\n",
    "plt.rcParams.update({'ytick.major.size' : 8})\n",
    "plt.rcParams.update({'ytick.minor.size' : 5})\n",
    "plt.rcParams.update({'xtick.major.size' : 8})\n",
    "plt.rcParams.update({'xtick.minor.size' : 5})\n",
    "plt.rcParams.update({'xtick.major.width' : 3})\n",
    "plt.rcParams.update({'xtick.minor.width' : 2})\n",
    "plt.rcParams.update({'xtick.direction' : 'in'})\n",
    "plt.rcParams.update({'ytick.direction' : 'in'})\n"
   ]
  },
  {
   "cell_type": "code",
   "execution_count": null,
   "id": "d57997df-992b-4b7f-b939-c289deaf42bd",
   "metadata": {
    "execution": {
     "iopub.execute_input": "2025-05-30T08:05:55.335174Z",
     "iopub.status.busy": "2025-05-30T08:05:55.334906Z",
     "iopub.status.idle": "2025-05-30T08:05:55.338256Z",
     "shell.execute_reply": "2025-05-30T08:05:55.337849Z",
     "shell.execute_reply.started": "2025-05-30T08:05:55.335157Z"
    }
   },
   "outputs": [],
   "source": [
    "def convertVisitToDatestr(visit):\n",
    "\n",
    "    num = visit//100_000\n",
    "    year = num//10_000\n",
    "    month= (num-year*10_000)//100\n",
    "    day = (num-year*10_000-month*100)\n",
    "\n",
    "    year_str = str(year).zfill(4)\n",
    "    month_str = str(month).zfill(2)\n",
    "    day_str = str(day).zfill(2)\n",
    "    \n",
    "    datestr = f\"{year_str}-{month_str}-{day_str}\"\n",
    "    return datestr"
   ]
  },
  {
   "cell_type": "code",
   "execution_count": null,
   "id": "030826e3-c08d-493b-bd91-d0d31a22dc4c",
   "metadata": {
    "execution": {
     "iopub.execute_input": "2025-05-30T08:05:55.338978Z",
     "iopub.status.busy": "2025-05-30T08:05:55.338712Z",
     "iopub.status.idle": "2025-05-30T08:05:55.348864Z",
     "shell.execute_reply": "2025-05-30T08:05:55.348501Z",
     "shell.execute_reply.started": "2025-05-30T08:05:55.338964Z"
    }
   },
   "outputs": [],
   "source": [
    "def convertVisitToMJD(visit):\n",
    "    return Time(convertVisitToDatestr(visit)).mjd"
   ]
  },
  {
   "cell_type": "code",
   "execution_count": null,
   "id": "58131b3b-f3bf-461a-8c71-d236e7d5e7fa",
   "metadata": {
    "execution": {
     "iopub.execute_input": "2025-05-30T08:05:55.349599Z",
     "iopub.status.busy": "2025-05-30T08:05:55.349332Z",
     "iopub.status.idle": "2025-05-30T08:05:55.357742Z",
     "shell.execute_reply": "2025-05-30T08:05:55.357376Z",
     "shell.execute_reply.started": "2025-05-30T08:05:55.349585Z"
    }
   },
   "outputs": [],
   "source": [
    "# The output repo is tagged with the Jira ticket number \"DM-40356\":\n",
    "repo = '/repo/main'\n",
    "collection = 'LSSTComCam/runs/DRP/DP1/w_2025_05/DM-48666'\n",
    "instrument = \"LSSTComCam\"\n",
    "skymapName = \"lsst_cells_v1\"\n",
    "band = \"g\"\n",
    "#where_clause = \"instrument = \\'\" + instrument+ \"\\'\" + \"AND band =  \\'\" + band + \"\\'\" \n",
    "STARTDATE = \"20241201\"\n",
    "where_clause = \"instrument = \\'\" + instrument+ \"\\'\" + \"AND band =  \\'\" + band + \"\\'\" +  \"AND exposure.day_obs >= \" + f\"{STARTDATE}\" \n",
    "#where=\"instrument='DECam' AND exposure.observation_type='science'\" \n",
    "collectionStr = collection.replace(\"/\", \"_\")\n",
    "NDET = 9"
   ]
  },
  {
   "cell_type": "code",
   "execution_count": null,
   "id": "4b77c31d-3427-4a48-9228-8ad01284d102",
   "metadata": {
    "execution": {
     "iopub.execute_input": "2025-05-30T08:05:55.358360Z",
     "iopub.status.busy": "2025-05-30T08:05:55.358228Z",
     "iopub.status.idle": "2025-05-30T08:05:55.365305Z",
     "shell.execute_reply": "2025-05-30T08:05:55.364922Z",
     "shell.execute_reply.started": "2025-05-30T08:05:55.358348Z"
    }
   },
   "outputs": [],
   "source": [
    "# Select the aperture radius\n",
    "rap = \"_35_0_\"\n",
    "\n",
    "# instrumental flux (ADU or photons)\n",
    "calibFluxStr = f\"apFlux{rap}instFlux\"\n",
    "calibFluxErrStr = f\"apFlux{rap}instFluxErr\"\n",
    "calibFluxMagStr = f\"apFlux{rap}instMag\"\n",
    "calibFluxMagErrStr = f\"apFlux{rap}instMagErr\"\n",
    "\n",
    "# flux in nJ or Mag\n",
    "calibFluxCalStr = f\"apFlux{rap}calFlux\"\n",
    "calibFluxCalErrStr = f\"apFlux{rap}calFluxErr\"\n",
    "calibFluxCalMagStr = f\"apFlux{rap}calMag\"\n",
    "calibFluxCalMagErrStr = f\"apFlux{rap}calMagErr\""
   ]
  },
  {
   "cell_type": "code",
   "execution_count": null,
   "id": "804fcb8b-d567-4a27-b102-05ed002051c4",
   "metadata": {
    "execution": {
     "iopub.execute_input": "2025-05-30T08:05:55.366005Z",
     "iopub.status.busy": "2025-05-30T08:05:55.365752Z",
     "iopub.status.idle": "2025-05-30T08:05:55.932990Z",
     "shell.execute_reply": "2025-05-30T08:05:55.932479Z",
     "shell.execute_reply.started": "2025-05-30T08:05:55.365992Z"
    }
   },
   "outputs": [],
   "source": [
    "# Initialize the butler repo:\n",
    "butler = Butler(repo, collections=collection)\n",
    "registry = butler.registry"
   ]
  },
  {
   "cell_type": "code",
   "execution_count": null,
   "id": "826aebd4-b08d-4259-a715-2274b75182c2",
   "metadata": {
    "execution": {
     "iopub.execute_input": "2025-05-30T08:05:55.933724Z",
     "iopub.status.busy": "2025-05-30T08:05:55.933580Z",
     "iopub.status.idle": "2025-05-30T08:06:00.400321Z",
     "shell.execute_reply": "2025-05-30T08:06:00.399813Z",
     "shell.execute_reply.started": "2025-05-30T08:05:55.933709Z"
    }
   },
   "outputs": [],
   "source": [
    "for _ in registry.queryCollections():\n",
    "    if \"LSSTComCam/runs/DRP/DP1/w_2025_05\" in _:\n",
    "        print(_)"
   ]
  },
  {
   "cell_type": "code",
   "execution_count": null,
   "id": "d6dbd6d0-8f6c-441a-b465-b983e87cef9f",
   "metadata": {
    "execution": {
     "iopub.execute_input": "2025-05-30T08:06:00.401009Z",
     "iopub.status.busy": "2025-05-30T08:06:00.400861Z",
     "iopub.status.idle": "2025-05-30T08:06:00.404405Z",
     "shell.execute_reply": "2025-05-30T08:06:00.404004Z",
     "shell.execute_reply.started": "2025-05-30T08:06:00.400993Z"
    }
   },
   "outputs": [],
   "source": [
    "if 0:\n",
    "    for datasetType in registry.queryDatasetTypes():\n",
    "        if registry.queryDatasets(datasetType, collections=collection).any(\n",
    "            execute=False, exact=False\n",
    "        ):\n",
    "            # Limit search results to the data products\n",
    "            if (\n",
    "                (\"_config\" not in datasetType.name)\n",
    "                and (\"_log\" not in datasetType.name)\n",
    "                and (\"_metadata\" not in datasetType.name)\n",
    "                and (\"_resource_usage\" not in datasetType.name)\n",
    "                and ((\"Table\" in datasetType.name) or (\"Zeropointp\" in datasetType.name) or (\"fgcm\" in datasetType.name) or (\"transm\" in datasetType.name) or (\"Transm\" in datasetType.name) )\n",
    "            ):\n",
    "                print(datasetType)"
   ]
  },
  {
   "cell_type": "markdown",
   "id": "6e8c59bd-7f48-409c-a8a1-9868d4ce07cb",
   "metadata": {},
   "source": [
    "## Select the data product"
   ]
  },
  {
   "cell_type": "code",
   "execution_count": null,
   "id": "b8327a67-fc64-4a93-9a32-9d7039c8d639",
   "metadata": {
    "execution": {
     "iopub.execute_input": "2025-05-30T08:06:00.405231Z",
     "iopub.status.busy": "2025-05-30T08:06:00.404895Z",
     "iopub.status.idle": "2025-05-30T08:06:00.415426Z",
     "shell.execute_reply": "2025-05-30T08:06:00.414966Z",
     "shell.execute_reply.started": "2025-05-30T08:06:00.405214Z"
    }
   },
   "outputs": [],
   "source": [
    "FLAG_ISOLATED_STAR_SOURCES = False\n",
    "FLAG_SOURCES_TABLE_VISIT = True\n",
    "FLAG_OBJECTS_TABLE_TRACT = True\n",
    "FLAG_FGCM = False\n",
    "FLAG_FGCM_CYCLE5 = True\n",
    "FLAG_TRANSMISSION = True"
   ]
  },
  {
   "cell_type": "markdown",
   "id": "4f46d7f5-d0a8-4168-ba9b-4556db43f699",
   "metadata": {},
   "source": [
    "### Object"
   ]
  },
  {
   "cell_type": "code",
   "execution_count": null,
   "id": "c0ba20b6-f6e4-4f01-9d42-ab75059446ef",
   "metadata": {
    "execution": {
     "iopub.execute_input": "2025-05-30T08:06:00.416066Z",
     "iopub.status.busy": "2025-05-30T08:06:00.415922Z",
     "iopub.status.idle": "2025-05-30T08:06:00.641118Z",
     "shell.execute_reply": "2025-05-30T08:06:00.640642Z",
     "shell.execute_reply.started": "2025-05-30T08:06:00.416050Z"
    }
   },
   "outputs": [],
   "source": [
    "if FLAG_SOURCES_TABLE_VISIT:\n",
    "\n",
    "    data_product = \"objectTable_tract\"\n",
    "    datasetRefs = butler.registry.queryDatasets(datasetType=data_product, collections=collection,where = where_clause)\n",
    "    for i, ref in enumerate(datasetRefs):\n",
    "        print(i,ref.dataId)\n",
    "        if i>20:\n",
    "            break\n",
    "    "
   ]
  },
  {
   "cell_type": "code",
   "execution_count": null,
   "id": "b6815b99-6749-44fd-a457-73dba592df8e",
   "metadata": {
    "execution": {
     "execution_failed": "2025-05-30T08:06:56.262Z",
     "iopub.execute_input": "2025-05-30T08:06:00.641805Z",
     "iopub.status.busy": "2025-05-30T08:06:00.641658Z"
    }
   },
   "outputs": [],
   "source": [
    "all_objectTable_tract = []\n",
    "for i, ref in enumerate(datasetRefs):\n",
    "    all_objectTable_tract.append(butler.get(ref))\n",
    "    if i>10:\n",
    "        break"
   ]
  },
  {
   "cell_type": "markdown",
   "id": "a2e765a7-9e17-42a5-9dac-3ef3814cc662",
   "metadata": {
    "execution": {
     "iopub.execute_input": "2025-02-14T09:51:07.083075Z",
     "iopub.status.busy": "2025-02-14T09:51:07.082657Z",
     "iopub.status.idle": "2025-02-14T09:51:07.085572Z",
     "shell.execute_reply": "2025-02-14T09:51:07.085200Z",
     "shell.execute_reply.started": "2025-02-14T09:51:07.083052Z"
    }
   },
   "source": [
    "### Visits"
   ]
  },
  {
   "cell_type": "code",
   "execution_count": null,
   "id": "fa7ca40c-72e3-402b-8b38-58fe77090ae6",
   "metadata": {
    "execution": {
     "execution_failed": "2025-05-30T08:06:56.262Z"
    }
   },
   "outputs": [],
   "source": [
    "#visit_table = butler.get('visitTable', dataId={'instrument': instrument}, collections = collection)   \n",
    "visit_table = butler.get('ccdVisitTable', dataId={'instrument': instrument}, collections = collection)   \n",
    "visit_table"
   ]
  },
  {
   "cell_type": "code",
   "execution_count": null,
   "id": "f93ffebf-9be2-4d8f-922c-5dea7a6aabae",
   "metadata": {
    "execution": {
     "execution_failed": "2025-05-30T08:06:56.262Z"
    }
   },
   "outputs": [],
   "source": [
    "# Compute nightobs\n",
    "visit_table[\"nightObs\"] = visit_table.apply(lambda x: x['visitId']//100_000, axis=1)\n",
    "#  compute time\n",
    "visit_table[\"Time\"] = pd.to_datetime(visit_table['obsStart'])\n",
    "# get airmass for CCD Visit table\n",
    "visit_table[\"airmass\"] = visit_table[\"zenithDistance\"].apply(lambda x: 1/np.cos(np.pi/180.*x))"
   ]
  },
  {
   "cell_type": "code",
   "execution_count": null,
   "id": "ebe4eb02-6a5b-4a81-82ce-02e112870de8",
   "metadata": {
    "execution": {
     "execution_failed": "2025-05-30T08:06:56.263Z"
    }
   },
   "outputs": [],
   "source": [
    "from matplotlib.dates import DateFormatter\n",
    "date_form = DateFormatter(\"%y-%m-%d\")\n",
    "\n",
    "fig,(ax,ax2) = plt.subplots(2,1,figsize=(16,8),layout=\"constrained\",sharex=True)\n",
    "leg = ax.get_legend()\n",
    "map_filtercolor = {\"u\":\"b\",\"g\":\"g\",\"r\":\"r\",\"i\":\"orange\",\"z\":\"grey\",\"y\":\"purple\"}\n",
    "for the_band in [\"u\",\"g\",\"r\",\"i\",\"z\",\"y\"]:\n",
    "    visit_table[visit_table.band == the_band].plot(x=\"Time\",y=\"airmass\",marker='+',c=map_filtercolor[the_band] ,lw=0.0,ax=ax,grid=True,legend=leg,label=the_band)\n",
    "    visit_table[visit_table.band == the_band].plot(x=\"Time\",y=\"zeroPoint\",marker='+',c=map_filtercolor[the_band] ,lw=0.0,ax=ax2,grid=True,legend=leg,label=the_band)\n",
    "ax.set_ylabel(\"airmass\")\n",
    "ax.set_xlabel(None)\n",
    "ax2.set_ylabel(\"zeroPoint\")\n",
    "\n",
    "ax.xaxis.set_major_formatter(date_form)\n",
    "ax2.xaxis.set_major_formatter(date_form)\n",
    "ax.legend(bbox_to_anchor=(1.01, 1.02),ncols=2)\n",
    "ax2.legend(bbox_to_anchor=(1.01, 1.02),ncols=2)\n",
    "ax.set_title(f\"{instrument} , {collectionStr}\",fontsize=12)\n",
    "plt.show()"
   ]
  },
  {
   "cell_type": "markdown",
   "id": "46ec7abf-536a-4248-8249-c3e4389c7043",
   "metadata": {},
   "source": [
    "### Sources"
   ]
  },
  {
   "cell_type": "code",
   "execution_count": null,
   "id": "fd445ae0-85b6-441c-ace1-789843c31629",
   "metadata": {
    "execution": {
     "execution_failed": "2025-05-30T08:06:56.263Z"
    }
   },
   "outputs": [],
   "source": [
    "# Try to get the Schema\n",
    "\n",
    "if FLAG_SOURCES_TABLE_VISIT:\n",
    "\n",
    "    data_product = \"sourceTable_visit\"\n",
    "    #datasetRefs = butler.registry.queryDatasets(datasetType=data_product, collections=collections, where= where_clause)\n",
    "    datasetRefs = butler.registry.queryDatasets(datasetType=data_product, collections=collection,where = where_clause)\n",
    "    for i, ref in enumerate(datasetRefs):\n",
    "        print(i,ref.dataId)\n",
    "        if i>20:\n",
    "            break\n",
    "    "
   ]
  },
  {
   "cell_type": "code",
   "execution_count": null,
   "id": "e34b474a-0d31-44e3-ae1e-a9606b4c8b97",
   "metadata": {
    "execution": {
     "execution_failed": "2025-05-30T08:06:56.263Z"
    }
   },
   "outputs": [],
   "source": [
    "all_sourceTable_visit = []\n",
    "for i, ref in enumerate(datasetRefs):\n",
    "    all_sourceTable_visit.append(butler.get(ref))\n",
    "    if i>20:\n",
    "            break"
   ]
  },
  {
   "cell_type": "code",
   "execution_count": null,
   "id": "8bd09773-1c4c-45d8-b2ec-3bb3f521276d",
   "metadata": {
    "execution": {
     "execution_failed": "2025-05-30T08:06:56.263Z"
    }
   },
   "outputs": [],
   "source": [
    "# Extra columns to load from sourceTable_visit catalogs\n",
    "names = [\"psfFlux\", \"psfFluxErr\", \"psfFlux_flag\", \"psfFlux_apCorr\", \"psfFlux_apCorrErr\",\n",
    "         \"extendedness\", \"detect_isPrimary\", \"deblend_skipped\",\n",
    "         \"gaussianFlux\", \"gaussianFluxErr\", \"gaussianFlux_flag\",\n",
    "         \"localPhotoCalib\", \"localPhotoCalibErr\", \"localPhotoCalib_flag\"]"
   ]
  },
  {
   "cell_type": "code",
   "execution_count": null,
   "id": "a6eca543-2620-4441-81a9-d0c6eb0f259e",
   "metadata": {
    "execution": {
     "execution_failed": "2025-05-30T08:06:56.263Z"
    }
   },
   "outputs": [],
   "source": [
    "#list(all_sourceTable_visit[0].columns)"
   ]
  },
  {
   "cell_type": "code",
   "execution_count": null,
   "id": "b77b4228-6a87-4500-a1ae-e9872bd1d06f",
   "metadata": {
    "execution": {
     "execution_failed": "2025-05-30T08:06:56.263Z"
    }
   },
   "outputs": [],
   "source": [
    "df = pd.concat(all_sourceTable_visit)"
   ]
  },
  {
   "cell_type": "code",
   "execution_count": null,
   "id": "1246782f-25e8-409e-8074-e7297dc55123",
   "metadata": {
    "execution": {
     "execution_failed": "2025-05-30T08:06:56.263Z"
    }
   },
   "outputs": [],
   "source": [
    "selection_cut = (df.parentSourceId == 0) & (df.sky_source == False) &  (df.detect_isPrimary == True) & (df.extendedness_flag == False) & (df.blendedness_flag==False)"
   ]
  },
  {
   "cell_type": "code",
   "execution_count": null,
   "id": "6a2b68fb-5ee1-4697-a2c3-b4b500a046ee",
   "metadata": {
    "execution": {
     "execution_failed": "2025-05-30T08:06:56.263Z"
    }
   },
   "outputs": [],
   "source": [
    "df = df[selection_cut]"
   ]
  },
  {
   "cell_type": "code",
   "execution_count": null,
   "id": "61031286-d93f-488b-9afc-6bc439f03cfd",
   "metadata": {
    "execution": {
     "execution_failed": "2025-05-30T08:06:56.263Z"
    }
   },
   "outputs": [],
   "source": [
    "df"
   ]
  },
  {
   "cell_type": "markdown",
   "id": "7b60edf2-3b8f-4e7d-a916-3e928db9260f",
   "metadata": {},
   "source": [
    "## Merge the sourceTable with the CCD visit Table"
   ]
  },
  {
   "cell_type": "code",
   "execution_count": null,
   "id": "37645e64-0b78-472d-b1af-138cd1661d6f",
   "metadata": {
    "execution": {
     "execution_failed": "2025-05-30T08:06:56.263Z"
    }
   },
   "outputs": [],
   "source": [
    "df_m =  pd.merge(left=df, right=visit_table,how='left',left_on=['visit', 'detector'],right_on=['visitId', 'detector'], suffixes=('', '_vis'))"
   ]
  },
  {
   "cell_type": "code",
   "execution_count": null,
   "id": "0428fc97-c01a-483e-b175-8d5d9dfe83e9",
   "metadata": {
    "execution": {
     "execution_failed": "2025-05-30T08:06:56.264Z"
    }
   },
   "outputs": [],
   "source": [
    "df_m"
   ]
  },
  {
   "cell_type": "code",
   "execution_count": null,
   "id": "b4302ffb-8ec7-4c9b-93ec-ba564d6cfd28",
   "metadata": {
    "execution": {
     "execution_failed": "2025-05-30T08:06:56.264Z"
    }
   },
   "outputs": [],
   "source": [
    "cmap = ListedColormap(sns.color_palette(\"hls\", NDET))\n",
    "all_det_colors = [cmap.colors[idx] for idx in range(NDET)]"
   ]
  },
  {
   "cell_type": "code",
   "execution_count": null,
   "id": "1d603482-6f43-43f9-87fc-659f6523bb5d",
   "metadata": {
    "execution": {
     "execution_failed": "2025-05-30T08:06:56.264Z"
    }
   },
   "outputs": [],
   "source": [
    "fig,axes = plt.subplots(3,3,figsize=(16,16),layout=\"constrained\")\n",
    "axs = axes.flatten()\n",
    "\n",
    "for idet, ax in enumerate(axs):\n",
    "    df_m[df_m.detector==idet].plot.scatter(x=\"x\",y=\"y\", marker=\".\",color=all_det_colors[idet],ax=ax,alpha=0.1)\n",
    "    ax.set_aspect('equal')\n",
    "    ax.set_title(f\"det = {idet}\")\n",
    "  \n",
    "    \n",
    "#plt.gca().set_aspect('equal')\n",
    "plt.suptitle(f\"{instrument} (band {band}) \\n {collectionStr}\",fontsize=12)"
   ]
  },
  {
   "cell_type": "markdown",
   "id": "b45699bf-2b98-409f-a2f6-ada066c2861c",
   "metadata": {},
   "source": [
    "## Calculate Magnitudes"
   ]
  },
  {
   "cell_type": "code",
   "execution_count": null,
   "id": "ed4de994-6e3b-4ca4-bc2f-3ae9ca28ffc2",
   "metadata": {
    "execution": {
     "execution_failed": "2025-05-30T08:06:56.264Z"
    }
   },
   "outputs": [],
   "source": [
    "# Add columns into df_m table to have them all in one place\n",
    "df_m[\"psfSn\"] = df_m[\"psfFlux\"]/df_m[\"psfFluxErr\"]\n",
    "df_m[\"psfMag\"] = (df_m[\"psfFlux\"].values*u.nJy).to(u.ABmag).value\n",
    "df_m[\"psfMagErr\"] = 2.5/np.log(10.0)*(df_m[\"psfFluxErr\"].values/df_m[\"psfFlux\"].values)\n",
    "\n",
    "\n",
    "# This is the way to apply aperture corrections :\n",
    "df_m[calibFluxCalStr] = df_m[calibFluxStr]*df_m[\"localPhotoCalib\"]\n",
    "df_m[calibFluxCalErrStr] = df_m[calibFluxErrStr]*df_m[\"localPhotoCalib\"]\n",
    "\n",
    "\n",
    "df_m[calibFluxCalMagStr] = (df_m[calibFluxCalStr].values*u.nJy).to(u.ABmag).value\n",
    "df_m[calibFluxCalMagErrStr] = 2.5/np.log(10.0)*(df_m[calibFluxCalErrStr].values/df_m[calibFluxCalStr].values)\n",
    "\n",
    "# NOTE: psfFlux is the fgcm calibrated flux.  I'm pretty sure you get the \"instrumental\" \n",
    "# flux by dividing psfFlux by the localPhotoCalib value.\n",
    "df_m[\"psfInstMag\"] = ((df_m[\"psfFlux\"].values/df_m[\"localPhotoCalib\"].values)*u.nJy).to(u.ABmag).value\n",
    "df_m[\"psfGausFluxRatio\"] = df_m[\"psfFlux\"]/df_m[\"gaussianFlux\"]"
   ]
  },
  {
   "cell_type": "code",
   "execution_count": null,
   "id": "07815760-62bb-46f2-ae58-dc458ff88ade",
   "metadata": {
    "execution": {
     "execution_failed": "2025-05-30T08:06:56.264Z"
    }
   },
   "outputs": [],
   "source": [
    "fig,axes = plt.subplots(3,3,figsize=(16,16),layout=\"constrained\",sharex=True,sharey=True)\n",
    "axs = axes.flatten()\n",
    "\n",
    "for idet, ax in enumerate(axs):\n",
    "    leg = ax.get_legend()\n",
    "    df_m[df_m.detector==idet].plot.scatter(x=calibFluxCalMagStr,y=calibFluxCalMagErrStr, marker=\".\",color=all_det_colors[idet],ax=ax,alpha=0.5,legend=leg,label=\"aperture Flux\")\n",
    "    df_m[df_m.detector==idet].plot.scatter(x=\"psfMag\",y=\"psfMagErr\", marker=\"+\",color=all_det_colors[idet],ax=ax,alpha=0.5,legend=leg,label=\"psf Flux\")\n",
    "    ax.set_aspect('auto')\n",
    "    ax.set_title(f\"det = {idet}\")\n",
    "    ax.set_ylim(0.,0.5)\n",
    "    ax.grid(True)\n",
    "    #ax.legend()\n",
    "  \n",
    "    \n",
    "#plt.gca().set_aspect('equal')\n",
    "plt.suptitle(f\"{instrument} (band {band})\\n {collectionStr}\",fontsize=12)"
   ]
  },
  {
   "cell_type": "code",
   "execution_count": null,
   "id": "3780f665-13b1-4b77-85ee-70b6619d0c8d",
   "metadata": {
    "execution": {
     "execution_failed": "2025-05-30T08:06:56.264Z"
    }
   },
   "outputs": [],
   "source": [
    "fig,ax = plt.subplots(1,1,figsize=(10,10),layout=\"constrained\",sharex=True,sharey=True)\n",
    "\n",
    "\n",
    "for idet in range(NDET):\n",
    "    leg = ax.get_legend()\n",
    "    df_m[df_m.detector==idet].plot.scatter(x=calibFluxCalMagStr,y=calibFluxCalMagErrStr, marker=\".\",color=all_det_colors[idet],ax=ax,alpha=0.5,legend=leg,label=\"aperture Flux\")\n",
    "    df_m[df_m.detector==idet].plot.scatter(x=\"psfMag\",y=\"psfMagErr\", marker=\"+\",color=all_det_colors[idet],ax=ax,alpha=0.5,legend=leg,label=\"psf Flux\")\n",
    "ax.set_aspect('auto')\n",
    "ax.set_title(f\"det = {idet}\")\n",
    "ax.set_ylim(0.,0.5)\n",
    "ax.grid(True)\n",
    "    #ax.legend()\n",
    "  \n",
    "    \n",
    "#plt.gca().set_aspect('equal')\n",
    "plt.suptitle(f\"{instrument} (band {band}) \\n {collectionStr}\",fontsize=12)"
   ]
  },
  {
   "cell_type": "markdown",
   "id": "038f50ca-7a85-4085-b908-8fe43528c2e2",
   "metadata": {},
   "source": [
    "## Compute zero-point difference"
   ]
  },
  {
   "cell_type": "code",
   "execution_count": null,
   "id": "6675d24d-b50f-41be-b1f0-4d402a665426",
   "metadata": {
    "execution": {
     "execution_failed": "2025-05-30T08:06:56.264Z"
    }
   },
   "outputs": [],
   "source": [
    "df_m[\"localPhotoCalibMag\"] = (df_m[\"localPhotoCalib\"].values*u.nJy).to(u.ABmag).value\n",
    "df_m[\"localPhotoCalibMagErr\"] =   2.5/np.log(10.0)*df_m[\"localPhotoCalibErr\"].values/df_m[\"localPhotoCalib\"].values\n",
    "df_m[\"DZP\"] = df_m[\"localPhotoCalibMag\"] - df_m[\"zeroPoint\"]\n",
    "df_m[\"DZPmmag\"] = df_m[\"DZP\"]*1000."
   ]
  },
  {
   "cell_type": "code",
   "execution_count": null,
   "id": "a5c1722f-2325-404c-8b57-54a2e53356ae",
   "metadata": {
    "execution": {
     "execution_failed": "2025-05-30T08:06:56.264Z"
    }
   },
   "outputs": [],
   "source": [
    "fig,ax = plt.subplots(1,1,figsize=(10,6),layout=\"constrained\",sharex=True,sharey=True)\n",
    "\n",
    "for idet in range(NDET):\n",
    "    leg = ax.get_legend()\n",
    "    stats = df_m[df_m.detector==idet][\"DZPmmag\"].agg([\"mean\",\"median\",\"std\"])\n",
    "    label = f\"det = {idet} \" + \"$\\overline{m}= $\" + f\" {stats[0]:.2f} mmag \" + \" $\\sigma $= \" + f\"{stats[2]:.2f} mmag\"\n",
    "    df_m[df_m.detector==idet][\"DZPmmag\"].hist(bins=100,range=(-15,15), histtype=\"step\",color=all_det_colors[idet],ax=ax,alpha=1,legend=leg,label=label,linewidth=3)\n",
    "ax.legend()\n",
    "ax.legend(bbox_to_anchor=(1.01, 1.02),ncols=1,fontsize=10)\n",
    "ax.set_title(\"relative zero-point over Focal Plane\")\n",
    "ax.set_xlabel(\"$\\Delta ZP$ (mmag)\")\n",
    "plt.suptitle(f\"{instrument} (band {band}) \\n {collectionStr}\",fontsize=12)"
   ]
  },
  {
   "cell_type": "code",
   "execution_count": null,
   "id": "f28d1ae6-f477-457a-b37b-1ec57ee5ef07",
   "metadata": {
    "execution": {
     "execution_failed": "2025-05-30T08:06:56.264Z"
    }
   },
   "outputs": [],
   "source": [
    "stats = df_m[df_m.detector==idet][\"DZPmmag\"].agg([\"mean\",\"median\",\"std\"])"
   ]
  },
  {
   "cell_type": "code",
   "execution_count": null,
   "id": "198a23c2-1c03-4c6a-91ef-994500186429",
   "metadata": {
    "execution": {
     "execution_failed": "2025-05-30T08:06:56.264Z"
    }
   },
   "outputs": [],
   "source": [
    "cmap = mpl.colormaps['seismic']\n",
    "cmap_invert = mpl.colormaps['seismic_r']\n",
    "norm = mpl.colors.Normalize(vmin=-5., vmax=5.)"
   ]
  },
  {
   "cell_type": "code",
   "execution_count": null,
   "id": "d90780c4-822c-4500-8e99-f4fa3bebf9a0",
   "metadata": {
    "execution": {
     "execution_failed": "2025-05-30T08:06:56.265Z"
    }
   },
   "outputs": [],
   "source": [
    "from matplotlib import cm\n",
    "\n",
    "#normalize item number values to colormap\n"
   ]
  },
  {
   "cell_type": "code",
   "execution_count": null,
   "id": "f42beeb7-0ff6-45bf-9ad4-3bd3bc7a9ab1",
   "metadata": {
    "execution": {
     "execution_failed": "2025-05-30T08:06:56.265Z"
    }
   },
   "outputs": [],
   "source": [
    "fig,axes = plt.subplots(3,3,figsize=(16,16),layout=\"constrained\",sharex=True,sharey=True)\n",
    "axs = axes.flatten()\n",
    "\n",
    "for idet, ax in enumerate(axs):\n",
    "    leg = ax.get_legend()\n",
    "    stats = df_m[df_m.detector==idet][\"DZPmmag\"].agg([\"mean\",\"median\",\"std\"])\n",
    "    label = f\"det = {idet} \\n\" + \"$\\overline{m}= $\" + f\" {stats[0]:.2f} mmag \\n\" + \" $\\sigma $= \" + f\"{stats[2]:.2f} mmag\"\n",
    "    df_data =  df_m[df_m.detector==idet]\n",
    "    rgba_color = cmap(norm(df_data[\"DZPmmag\"].values )) \n",
    "    #df_data.plot.scatter(x=\"x\",y=\"y\",c=\"DZPmmag\",cmap=\"seismic\",ax=ax,marker=\"o\",colorbar=\"True\",vmin=-5,vmax=5.)\n",
    "    #df_data.plot.scatter(x=\"x\",y=\"y\",s=1.,c=rgba_color,cmap=cm.seismic,ax=ax)\n",
    "    im = ax.scatter(\"x\", \"y\",c='DZPmmag',data=df_data,cmap=\"seismic\",marker=\"o\",label=label,vmin=-5,vmax=5)\n",
    "    ax.grid(True)\n",
    "    ax.legend(fontsize=12)\n",
    "    ax.set_aspect('equal')\n",
    "\n",
    "plt.suptitle(f\"{instrument} (band {band})\\n {collectionStr}\",fontsize=14)\n",
    "\n",
    "#fig.add_axes\n",
    "#rect : tuple (left, bottom, width, height)\n",
    "#    The dimensions (left, bottom, width, height) of the new\n",
    "#    `~.axes.Axes`. All quantities are in fractions of figure width and\n",
    "#    height.\n",
    "cbar_ax = fig.add_axes([1.01, 0, 0.03, 1.0])\n",
    "\n",
    "fig.colorbar(im, cax=cbar_ax)    \n",
    "cbar_ax.set_ylabel('$\\Delta ZP$ (mmag)', rotation=90)\n",
    "plt.show()"
   ]
  },
  {
   "cell_type": "code",
   "execution_count": null,
   "id": "ccdea58c-aba5-4fe2-8664-bfd37ceaca7a",
   "metadata": {},
   "outputs": [],
   "source": []
  }
 ],
 "metadata": {
  "kernelspec": {
   "display_name": "LSST",
   "language": "python",
   "name": "lsst"
  },
  "language_info": {
   "codemirror_mode": {
    "name": "ipython",
    "version": 3
   },
   "file_extension": ".py",
   "mimetype": "text/x-python",
   "name": "python",
   "nbconvert_exporter": "python",
   "pygments_lexer": "ipython3",
   "version": "3.12.10"
  }
 },
 "nbformat": 4,
 "nbformat_minor": 5
}
