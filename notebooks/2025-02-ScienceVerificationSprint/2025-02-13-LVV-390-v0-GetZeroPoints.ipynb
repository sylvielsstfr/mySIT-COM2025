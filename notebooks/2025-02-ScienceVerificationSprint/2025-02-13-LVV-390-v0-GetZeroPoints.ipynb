{
 "cells": [
  {
   "cell_type": "markdown",
   "id": "8f3da262-37ed-407f-908c-8ac5a52cb4db",
   "metadata": {},
   "source": [
    "# Notebook to access to data for the System-level Science Performance Verification Sprint February 3-5 2025\n",
    "\n",
    "- Confluence page : https://rubinobs.atlassian.net/wiki/spaces/LSSTCOM/pages/372867091/System-level+Science+Performance+Verification+Sprint\n",
    "- slides : https://docs.google.com/presentation/d/1bPjS5NGtiEL2lfjmvP1UYdG_tMEDfZxX26ayhf7MhtY/edit#slide=id.ga2f7fb1a1f_0_70"
   ]
  },
  {
   "cell_type": "markdown",
   "id": "f3737976-eab8-4483-a79d-796f738c4f22",
   "metadata": {},
   "source": [
    "- where to find the campains\n",
    "- https://rubinobs.atlassian.net/wiki/spaces/DM/pages/226656354/LSSTComCam+Intermittent+Cumulative+DRP+Runs\n",
    "\n",
    "- plot Navigator\n",
    "- https://usdf-rsp.slac.stanford.edu/plot-navigator\n",
    "- https://usdf-rsp.slac.stanford.edu/plot-navigator/plot/%2Frepo%2Fmain/LSSTComCam%2Fruns%2FDRP%2FDP1%2Fw_2025_05%2FDM-48666/objectTableCore_coaddInputCount_SkyPlot"
   ]
  },
  {
   "cell_type": "markdown",
   "id": "53b4594d-5de5-4fa1-8ada-f60f0018cac5",
   "metadata": {},
   "source": [
    "- Notebooks examples\n",
    "- https://github.com/lsst-dm/DMTR-401/blob/main/notebooks/test_LVV-T40_T1240.ipynb\n",
    "- https://github.com/lsst-dm/DMTR-412/blob/tickets/DM-38728/notebooks/test_LVV-T1751_AM1_AM2.ipynb"
   ]
  },
  {
   "cell_type": "markdown",
   "id": "8402aac4-562a-40cd-ac2b-c1ca76cae55b",
   "metadata": {},
   "source": [
    "- author : Sylvie Dagoret-Campagne\n",
    "- creattion date : 2025-02-13\n",
    "- last update : 2025-02-14\n",
    "\n",
    "\n",
    "- To find what I did on LSSTComCamSim : https://github.com/sylvielsstfr/LSST-Rehearsal2024/blob/main/notebooks/LightCurves/MultiColor_lightCurves-DMRehearsal2024_01-AuxTel-DZPOnCCD.ipynb\n",
    "- **Confluence page** : https://rubinobs.atlassian.net/wiki/spaces/LSSTCOM/pages/443613290/Science+Verification+Sprint+Feb+2025\n",
    "\n",
    "\n",
    "-* Source code : https://github.com/sylvielsstfr/LSST-Rehearsal2024/blob/main/notebooks/LightCurves/SingleBand_lightCurves_ExtractOneObject_LSSTComCamSim.ipynb"
   ]
  },
  {
   "cell_type": "code",
   "execution_count": null,
   "id": "9d583412-a5a0-456e-84be-1fb658ddf016",
   "metadata": {
    "execution": {
     "iopub.execute_input": "2025-02-14T12:03:22.575746Z",
     "iopub.status.busy": "2025-02-14T12:03:22.575589Z",
     "iopub.status.idle": "2025-02-14T12:03:23.151142Z",
     "shell.execute_reply": "2025-02-14T12:03:23.150691Z",
     "shell.execute_reply.started": "2025-02-14T12:03:22.575731Z"
    }
   },
   "outputs": [],
   "source": [
    "# Confirm that the version of the Science Pipelines is recent:\n",
    "! echo $HOSTNAME\n",
    "! eups list -s | grep lsst_distrib"
   ]
  },
  {
   "cell_type": "code",
   "execution_count": null,
   "id": "8fbb9671-7d8e-4724-8c58-0f0a4fb9e5f0",
   "metadata": {
    "execution": {
     "iopub.execute_input": "2025-02-14T12:03:23.151877Z",
     "iopub.status.busy": "2025-02-14T12:03:23.151716Z",
     "iopub.status.idle": "2025-02-14T12:03:24.070880Z",
     "shell.execute_reply": "2025-02-14T12:03:24.070495Z",
     "shell.execute_reply.started": "2025-02-14T12:03:23.151859Z"
    }
   },
   "outputs": [],
   "source": [
    "from lsst.daf.butler import Butler\n",
    "import lsst.geom as geom"
   ]
  },
  {
   "cell_type": "code",
   "execution_count": null,
   "id": "e814e3d6-750c-4e7f-a9a5-5bf1e2f7205f",
   "metadata": {
    "execution": {
     "iopub.execute_input": "2025-02-14T12:03:24.071443Z",
     "iopub.status.busy": "2025-02-14T12:03:24.071305Z",
     "iopub.status.idle": "2025-02-14T12:03:25.993852Z",
     "shell.execute_reply": "2025-02-14T12:03:25.993388Z",
     "shell.execute_reply.started": "2025-02-14T12:03:24.071429Z"
    }
   },
   "outputs": [],
   "source": [
    "import os\n",
    "import gc\n",
    "import glob\n",
    "import numpy as np\n",
    "import pandas as pd\n",
    "import random\n",
    "\n",
    "import astropy.units as u\n",
    "from astropy.coordinates import SkyCoord\n",
    "from astroquery.gaia import Gaia\n",
    "Gaia.MAIN_GAIA_TABLE = \"gaiadr3.gaia_source\"  # Reselect Data Release 3, default\n",
    "Gaia.ROW_LIMIT = 100000\n",
    "from astropy.visualization import (MinMaxInterval, AsinhStretch, ZScaleInterval, LogStretch, LinearStretch,\n",
    "                                   ImageNormalize)"
   ]
  },
  {
   "cell_type": "code",
   "execution_count": null,
   "id": "5af15c53-1d3f-42ee-81d8-508a2daa56c0",
   "metadata": {
    "execution": {
     "iopub.execute_input": "2025-02-14T12:03:25.994651Z",
     "iopub.status.busy": "2025-02-14T12:03:25.994323Z",
     "iopub.status.idle": "2025-02-14T12:03:26.353772Z",
     "shell.execute_reply": "2025-02-14T12:03:26.353313Z",
     "shell.execute_reply.started": "2025-02-14T12:03:25.994635Z"
    }
   },
   "outputs": [],
   "source": [
    "# Set plotting defaults\n",
    "%matplotlib inline\n",
    "import matplotlib.pyplot as plt\n",
    "from matplotlib.ticker import FormatStrFormatter\n",
    "from matplotlib.colors import ListedColormap\n",
    "from matplotlib import colors\n",
    "\n",
    "import seaborn as sns\n",
    "from itertools import cycle, islice\n",
    "\n",
    "# Set up some plotting defaults:\n",
    "plt.rcParams.update({'figure.figsize' : (12, 8)})\n",
    "plt.rcParams.update({'font.size' : 24})\n",
    "plt.rcParams.update({'axes.linewidth' : 3})\n",
    "plt.rcParams.update({'axes.labelweight' : 3})\n",
    "plt.rcParams.update({'axes.titleweight' : 5})\n",
    "plt.rcParams.update({'ytick.major.width' : 3})\n",
    "plt.rcParams.update({'ytick.minor.width' : 2})\n",
    "plt.rcParams.update({'ytick.major.size' : 8})\n",
    "plt.rcParams.update({'ytick.minor.size' : 5})\n",
    "plt.rcParams.update({'xtick.major.size' : 8})\n",
    "plt.rcParams.update({'xtick.minor.size' : 5})\n",
    "plt.rcParams.update({'xtick.major.width' : 3})\n",
    "plt.rcParams.update({'xtick.minor.width' : 2})\n",
    "plt.rcParams.update({'xtick.direction' : 'in'})\n",
    "plt.rcParams.update({'ytick.direction' : 'in'})\n"
   ]
  },
  {
   "cell_type": "code",
   "execution_count": null,
   "id": "d57997df-992b-4b7f-b939-c289deaf42bd",
   "metadata": {
    "execution": {
     "iopub.execute_input": "2025-02-14T12:03:26.354544Z",
     "iopub.status.busy": "2025-02-14T12:03:26.354278Z",
     "iopub.status.idle": "2025-02-14T12:03:26.357579Z",
     "shell.execute_reply": "2025-02-14T12:03:26.357215Z",
     "shell.execute_reply.started": "2025-02-14T12:03:26.354528Z"
    }
   },
   "outputs": [],
   "source": [
    "def convertVisitToDatestr(visit):\n",
    "\n",
    "    num = visit//100_000\n",
    "    year = num//10_000\n",
    "    month= (num-year*10_000)//100\n",
    "    day = (num-year*10_000-month*100)\n",
    "\n",
    "    year_str = str(year).zfill(4)\n",
    "    month_str = str(month).zfill(2)\n",
    "    day_str = str(day).zfill(2)\n",
    "    \n",
    "    datestr = f\"{year_str}-{month_str}-{day_str}\"\n",
    "    return datestr"
   ]
  },
  {
   "cell_type": "code",
   "execution_count": null,
   "id": "030826e3-c08d-493b-bd91-d0d31a22dc4c",
   "metadata": {
    "execution": {
     "iopub.execute_input": "2025-02-14T12:03:26.358304Z",
     "iopub.status.busy": "2025-02-14T12:03:26.357997Z",
     "iopub.status.idle": "2025-02-14T12:03:26.365413Z",
     "shell.execute_reply": "2025-02-14T12:03:26.365066Z",
     "shell.execute_reply.started": "2025-02-14T12:03:26.358290Z"
    }
   },
   "outputs": [],
   "source": [
    "def convertVisitToMJD(visit):\n",
    "    return Time(convertVisitToDatestr(visit)).mjd"
   ]
  },
  {
   "cell_type": "code",
   "execution_count": null,
   "id": "58131b3b-f3bf-461a-8c71-d236e7d5e7fa",
   "metadata": {
    "execution": {
     "iopub.execute_input": "2025-02-14T12:03:26.365932Z",
     "iopub.status.busy": "2025-02-14T12:03:26.365815Z",
     "iopub.status.idle": "2025-02-14T12:03:26.372221Z",
     "shell.execute_reply": "2025-02-14T12:03:26.371836Z",
     "shell.execute_reply.started": "2025-02-14T12:03:26.365921Z"
    }
   },
   "outputs": [],
   "source": [
    "# The output repo is tagged with the Jira ticket number \"DM-40356\":\n",
    "repo = '/repo/main'\n",
    "collection = 'LSSTComCam/runs/DRP/DP1/w_2025_05/DM-48666'\n",
    "instrument = \"LSSTComCam\"\n",
    "skymapName = \"lsst_cells_v1\"\n",
    "band = \"g\"\n",
    "#where_clause = \"instrument = \\'\" + instrument+ \"\\'\" + \"AND band =  \\'\" + band + \"\\'\" \n",
    "STARTDATE = \"20241201\"\n",
    "where_clause = \"instrument = \\'\" + instrument+ \"\\'\" + \"AND band =  \\'\" + band + \"\\'\" +  \"AND exposure.day_obs >= \" + f\"{STARTDATE}\" \n",
    "#where=\"instrument='DECam' AND exposure.observation_type='science'\" \n",
    "collectionStr = collection.replace(\"/\", \"_\")\n",
    "NDET = 9"
   ]
  },
  {
   "cell_type": "code",
   "execution_count": null,
   "id": "4b77c31d-3427-4a48-9228-8ad01284d102",
   "metadata": {},
   "outputs": [],
   "source": [
    "# Select the aperture radius\n",
    "rap = \"09\"\n",
    "\n",
    "# instrumental flux (ADU or photons)\n",
    "calibFluxStr = f\"apFlux{rap}instFlux\"\n",
    "calibFluxErrStr = f\"apFlux{rap}instFluxErr\"\n",
    "calibFluxMagStr = f\"apFlux{rap}instMag\"\n",
    "calibFluxMagErrStr = f\"apFlux{rap}instMagErr\"\n",
    "\n",
    "# flux in nJ or Mag\n",
    "calibFluxCalStr = f\"apFlux{rap}calFlux\"\n",
    "calibFluxCalErrStr = f\"apFlux{rap}calFluxErr\"\n",
    "calibFluxCalMagStr = f\"apFlux{rap}calMag\"\n",
    "calibFluxCalMagErrStr = f\"apFlux{rap}calMagErr\""
   ]
  },
  {
   "cell_type": "code",
   "execution_count": null,
   "id": "2be0ae2c-bd46-4914-a4da-c41b9beca9cf",
   "metadata": {
    "execution": {
     "iopub.execute_input": "2025-02-14T12:03:26.372788Z",
     "iopub.status.busy": "2025-02-14T12:03:26.372665Z",
     "iopub.status.idle": "2025-02-14T12:03:26.379250Z",
     "shell.execute_reply": "2025-02-14T12:03:26.378902Z",
     "shell.execute_reply.started": "2025-02-14T12:03:26.372776Z"
    }
   },
   "outputs": [],
   "source": []
  },
  {
   "cell_type": "code",
   "execution_count": null,
   "id": "804fcb8b-d567-4a27-b102-05ed002051c4",
   "metadata": {
    "execution": {
     "iopub.execute_input": "2025-02-14T12:03:26.379793Z",
     "iopub.status.busy": "2025-02-14T12:03:26.379668Z",
     "iopub.status.idle": "2025-02-14T12:03:26.879552Z",
     "shell.execute_reply": "2025-02-14T12:03:26.879103Z",
     "shell.execute_reply.started": "2025-02-14T12:03:26.379781Z"
    }
   },
   "outputs": [],
   "source": [
    "# Initialize the butler repo:\n",
    "butler = Butler(repo, collections=collection)\n",
    "registry = butler.registry"
   ]
  },
  {
   "cell_type": "code",
   "execution_count": null,
   "id": "826aebd4-b08d-4259-a715-2274b75182c2",
   "metadata": {
    "execution": {
     "iopub.execute_input": "2025-02-14T12:03:26.880310Z",
     "iopub.status.busy": "2025-02-14T12:03:26.880095Z",
     "iopub.status.idle": "2025-02-14T12:03:29.552435Z",
     "shell.execute_reply": "2025-02-14T12:03:29.551937Z",
     "shell.execute_reply.started": "2025-02-14T12:03:26.880295Z"
    }
   },
   "outputs": [],
   "source": [
    "for _ in registry.queryCollections():\n",
    "    if \"LSSTComCam/runs/DRP/DP1/w_2025_05\" in _:\n",
    "        print(_)"
   ]
  },
  {
   "cell_type": "code",
   "execution_count": null,
   "id": "d6dbd6d0-8f6c-441a-b465-b983e87cef9f",
   "metadata": {
    "execution": {
     "iopub.execute_input": "2025-02-14T12:03:29.553107Z",
     "iopub.status.busy": "2025-02-14T12:03:29.552967Z",
     "iopub.status.idle": "2025-02-14T12:03:29.556255Z",
     "shell.execute_reply": "2025-02-14T12:03:29.555898Z",
     "shell.execute_reply.started": "2025-02-14T12:03:29.553095Z"
    }
   },
   "outputs": [],
   "source": [
    "if 0:\n",
    "    for datasetType in registry.queryDatasetTypes():\n",
    "        if registry.queryDatasets(datasetType, collections=collection).any(\n",
    "            execute=False, exact=False\n",
    "        ):\n",
    "            # Limit search results to the data products\n",
    "            if (\n",
    "                (\"_config\" not in datasetType.name)\n",
    "                and (\"_log\" not in datasetType.name)\n",
    "                and (\"_metadata\" not in datasetType.name)\n",
    "                and (\"_resource_usage\" not in datasetType.name)\n",
    "                and ((\"Table\" in datasetType.name) or (\"Zeropointp\" in datasetType.name) or (\"fgcm\" in datasetType.name) or (\"transm\" in datasetType.name) or (\"Transm\" in datasetType.name) )\n",
    "            ):\n",
    "                print(datasetType)"
   ]
  },
  {
   "cell_type": "markdown",
   "id": "6e8c59bd-7f48-409c-a8a1-9868d4ce07cb",
   "metadata": {},
   "source": [
    "## Select the data product"
   ]
  },
  {
   "cell_type": "code",
   "execution_count": null,
   "id": "b8327a67-fc64-4a93-9a32-9d7039c8d639",
   "metadata": {
    "execution": {
     "iopub.execute_input": "2025-02-14T12:03:29.556838Z",
     "iopub.status.busy": "2025-02-14T12:03:29.556715Z",
     "iopub.status.idle": "2025-02-14T12:03:29.563370Z",
     "shell.execute_reply": "2025-02-14T12:03:29.563025Z",
     "shell.execute_reply.started": "2025-02-14T12:03:29.556826Z"
    }
   },
   "outputs": [],
   "source": [
    "FLAG_ISOLATED_STAR_SOURCES = False\n",
    "FLAG_SOURCES_TABLE_VISIT = True\n",
    "FLAG_OBJECTS_TABLE_TRACT = True\n",
    "FLAG_FGCM = False\n",
    "FLAG_FGCM_CYCLE5 = True\n",
    "FLAG_TRANSMISSION = True"
   ]
  },
  {
   "cell_type": "markdown",
   "id": "4f46d7f5-d0a8-4168-ba9b-4556db43f699",
   "metadata": {},
   "source": [
    "### Object"
   ]
  },
  {
   "cell_type": "code",
   "execution_count": null,
   "id": "c0ba20b6-f6e4-4f01-9d42-ab75059446ef",
   "metadata": {
    "execution": {
     "iopub.execute_input": "2025-02-14T12:03:29.563888Z",
     "iopub.status.busy": "2025-02-14T12:03:29.563768Z",
     "iopub.status.idle": "2025-02-14T12:03:29.866926Z",
     "shell.execute_reply": "2025-02-14T12:03:29.866388Z",
     "shell.execute_reply.started": "2025-02-14T12:03:29.563876Z"
    }
   },
   "outputs": [],
   "source": [
    "if FLAG_SOURCES_TABLE_VISIT:\n",
    "\n",
    "    data_product = \"objectTable_tract\"\n",
    "    datasetRefs = butler.registry.queryDatasets(datasetType=data_product, collections=collection,where = where_clause)\n",
    "    for i, ref in enumerate(datasetRefs):\n",
    "        print(i,ref.dataId)\n",
    "        if i>20:\n",
    "            break\n",
    "    "
   ]
  },
  {
   "cell_type": "code",
   "execution_count": null,
   "id": "b6815b99-6749-44fd-a457-73dba592df8e",
   "metadata": {
    "execution": {
     "iopub.execute_input": "2025-02-14T12:03:29.867569Z",
     "iopub.status.busy": "2025-02-14T12:03:29.867433Z",
     "iopub.status.idle": "2025-02-14T12:03:53.006065Z",
     "shell.execute_reply": "2025-02-14T12:03:53.005565Z",
     "shell.execute_reply.started": "2025-02-14T12:03:29.867556Z"
    }
   },
   "outputs": [],
   "source": [
    "all_objectTable_tract = []\n",
    "for i, ref in enumerate(datasetRefs):\n",
    "    all_objectTable_tract.append(butler.get(ref))\n",
    "    if i>10:\n",
    "        break"
   ]
  },
  {
   "cell_type": "markdown",
   "id": "a2e765a7-9e17-42a5-9dac-3ef3814cc662",
   "metadata": {
    "execution": {
     "iopub.execute_input": "2025-02-14T09:51:07.083075Z",
     "iopub.status.busy": "2025-02-14T09:51:07.082657Z",
     "iopub.status.idle": "2025-02-14T09:51:07.085572Z",
     "shell.execute_reply": "2025-02-14T09:51:07.085200Z",
     "shell.execute_reply.started": "2025-02-14T09:51:07.083052Z"
    }
   },
   "source": [
    "### Visits"
   ]
  },
  {
   "cell_type": "code",
   "execution_count": null,
   "id": "fa7ca40c-72e3-402b-8b38-58fe77090ae6",
   "metadata": {
    "execution": {
     "iopub.execute_input": "2025-02-14T12:03:53.006912Z",
     "iopub.status.busy": "2025-02-14T12:03:53.006735Z",
     "iopub.status.idle": "2025-02-14T12:03:53.222233Z",
     "shell.execute_reply": "2025-02-14T12:03:53.221741Z",
     "shell.execute_reply.started": "2025-02-14T12:03:53.006896Z"
    }
   },
   "outputs": [],
   "source": [
    "#visit_table = butler.get('visitTable', dataId={'instrument': instrument}, collections = collection)   \n",
    "visit_table = butler.get('ccdVisitTable', dataId={'instrument': instrument}, collections = collection)   \n",
    "visit_table"
   ]
  },
  {
   "cell_type": "code",
   "execution_count": null,
   "id": "f93ffebf-9be2-4d8f-922c-5dea7a6aabae",
   "metadata": {
    "execution": {
     "iopub.execute_input": "2025-02-14T12:03:53.222876Z",
     "iopub.status.busy": "2025-02-14T12:03:53.222748Z",
     "iopub.status.idle": "2025-02-14T12:03:53.334331Z",
     "shell.execute_reply": "2025-02-14T12:03:53.333892Z",
     "shell.execute_reply.started": "2025-02-14T12:03:53.222864Z"
    }
   },
   "outputs": [],
   "source": [
    "# Compute nightobs\n",
    "visit_table[\"nightObs\"] = visit_table.apply(lambda x: x['visitId']//100_000, axis=1)\n",
    "#  compute time\n",
    "visit_table[\"Time\"] = pd.to_datetime(visit_table['obsStart'])\n",
    "# get airmass for CCD Visit table\n",
    "visit_table[\"airmass\"] = visit_table[\"zenithDistance\"].apply(lambda x: 1/np.cos(np.pi/180.*x))"
   ]
  },
  {
   "cell_type": "code",
   "execution_count": null,
   "id": "ebe4eb02-6a5b-4a81-82ce-02e112870de8",
   "metadata": {
    "execution": {
     "iopub.execute_input": "2025-02-14T12:03:53.335124Z",
     "iopub.status.busy": "2025-02-14T12:03:53.334841Z",
     "iopub.status.idle": "2025-02-14T12:03:53.991901Z",
     "shell.execute_reply": "2025-02-14T12:03:53.991405Z",
     "shell.execute_reply.started": "2025-02-14T12:03:53.335110Z"
    }
   },
   "outputs": [],
   "source": [
    "from matplotlib.dates import DateFormatter\n",
    "date_form = DateFormatter(\"%y-%m-%d\")\n",
    "\n",
    "fig,(ax,ax2) = plt.subplots(2,1,figsize=(16,6),layout=\"constrained\",sharex=True)\n",
    "leg = ax.get_legend()\n",
    "map_filtercolor = {\"u\":\"b\",\"g\":\"g\",\"r\":\"r\",\"i\":\"orange\",\"z\":\"grey\",\"y\":\"purple\"}\n",
    "for the_band in [\"u\",\"g\",\"r\",\"i\",\"z\",\"y\"]:\n",
    "    visit_table[visit_table.band == the_band].plot(x=\"Time\",y=\"airmass\",marker='+',c=map_filtercolor[the_band] ,lw=0.0,ax=ax,grid=True,legend=leg,label=the_band)\n",
    "    visit_table[visit_table.band == the_band].plot(x=\"Time\",y=\"zeroPoint\",marker='+',c=map_filtercolor[the_band] ,lw=0.0,ax=ax2,grid=True,legend=leg,label=the_band)\n",
    "ax.set_ylabel(\"airmass\")\n",
    "ax.set_xlabel(None)\n",
    "ax2.set_ylabel(\"zeroPoint\")\n",
    "\n",
    "ax.xaxis.set_major_formatter(date_form)\n",
    "ax2.xaxis.set_major_formatter(date_form)\n",
    "ax.legend(bbox_to_anchor=(1.01, 1.02),ncols=2)\n",
    "ax2.legend(bbox_to_anchor=(1.01, 1.02),ncols=2)\n",
    "ax.set_title(f\"{instrument} , {collectionStr}\",fontsize=12)\n",
    "plt.show()"
   ]
  },
  {
   "cell_type": "markdown",
   "id": "46ec7abf-536a-4248-8249-c3e4389c7043",
   "metadata": {},
   "source": [
    "### Sources"
   ]
  },
  {
   "cell_type": "code",
   "execution_count": null,
   "id": "fd445ae0-85b6-441c-ace1-789843c31629",
   "metadata": {
    "execution": {
     "iopub.execute_input": "2025-02-14T12:03:53.992692Z",
     "iopub.status.busy": "2025-02-14T12:03:53.992546Z",
     "iopub.status.idle": "2025-02-14T12:03:54.244934Z",
     "shell.execute_reply": "2025-02-14T12:03:54.244467Z",
     "shell.execute_reply.started": "2025-02-14T12:03:53.992678Z"
    }
   },
   "outputs": [],
   "source": [
    "# Try to get the Schema\n",
    "\n",
    "if FLAG_SOURCES_TABLE_VISIT:\n",
    "\n",
    "    data_product = \"sourceTable_visit\"\n",
    "    #datasetRefs = butler.registry.queryDatasets(datasetType=data_product, collections=collections, where= where_clause)\n",
    "    datasetRefs = butler.registry.queryDatasets(datasetType=data_product, collections=collection,where = where_clause)\n",
    "    for i, ref in enumerate(datasetRefs):\n",
    "        print(i,ref.dataId)\n",
    "        if i>20:\n",
    "            break\n",
    "    "
   ]
  },
  {
   "cell_type": "code",
   "execution_count": null,
   "id": "e34b474a-0d31-44e3-ae1e-a9606b4c8b97",
   "metadata": {
    "execution": {
     "iopub.execute_input": "2025-02-14T12:03:54.245559Z",
     "iopub.status.busy": "2025-02-14T12:03:54.245430Z",
     "iopub.status.idle": "2025-02-14T12:03:55.301706Z",
     "shell.execute_reply": "2025-02-14T12:03:55.301284Z",
     "shell.execute_reply.started": "2025-02-14T12:03:54.245546Z"
    }
   },
   "outputs": [],
   "source": [
    "all_sourceTable_visit = []\n",
    "for i, ref in enumerate(datasetRefs):\n",
    "    all_sourceTable_visit.append(butler.get(ref))\n",
    "    if i>20:\n",
    "            break"
   ]
  },
  {
   "cell_type": "code",
   "execution_count": null,
   "id": "8bd09773-1c4c-45d8-b2ec-3bb3f521276d",
   "metadata": {
    "execution": {
     "iopub.execute_input": "2025-02-14T12:03:55.302279Z",
     "iopub.status.busy": "2025-02-14T12:03:55.302146Z",
     "iopub.status.idle": "2025-02-14T12:03:55.304647Z",
     "shell.execute_reply": "2025-02-14T12:03:55.304347Z",
     "shell.execute_reply.started": "2025-02-14T12:03:55.302265Z"
    }
   },
   "outputs": [],
   "source": [
    "# Extra columns to load from sourceTable_visit catalogs\n",
    "names = [\"psfFlux\", \"psfFluxErr\", \"psfFlux_flag\", \"psfFlux_apCorr\", \"psfFlux_apCorrErr\",\n",
    "         \"extendedness\", \"detect_isPrimary\", \"deblend_skipped\",\n",
    "         \"gaussianFlux\", \"gaussianFluxErr\", \"gaussianFlux_flag\",\n",
    "         \"localPhotoCalib\", \"localPhotoCalibErr\", \"localPhotoCalib_flag\"]"
   ]
  },
  {
   "cell_type": "code",
   "execution_count": null,
   "id": "a6eca543-2620-4441-81a9-d0c6eb0f259e",
   "metadata": {
    "execution": {
     "iopub.execute_input": "2025-02-14T12:03:55.305268Z",
     "iopub.status.busy": "2025-02-14T12:03:55.305014Z",
     "iopub.status.idle": "2025-02-14T12:03:55.312633Z",
     "shell.execute_reply": "2025-02-14T12:03:55.312359Z",
     "shell.execute_reply.started": "2025-02-14T12:03:55.305251Z"
    }
   },
   "outputs": [],
   "source": [
    "list(all_sourceTable_visit[0].columns)"
   ]
  },
  {
   "cell_type": "code",
   "execution_count": null,
   "id": "b77b4228-6a87-4500-a1ae-e9872bd1d06f",
   "metadata": {
    "execution": {
     "iopub.execute_input": "2025-02-14T12:03:55.315191Z",
     "iopub.status.busy": "2025-02-14T12:03:55.314908Z",
     "iopub.status.idle": "2025-02-14T12:03:55.651057Z",
     "shell.execute_reply": "2025-02-14T12:03:55.650653Z",
     "shell.execute_reply.started": "2025-02-14T12:03:55.315178Z"
    }
   },
   "outputs": [],
   "source": [
    "df = pd.concat(all_sourceTable_visit)"
   ]
  },
  {
   "cell_type": "code",
   "execution_count": null,
   "id": "1246782f-25e8-409e-8074-e7297dc55123",
   "metadata": {
    "execution": {
     "iopub.execute_input": "2025-02-14T12:03:55.651630Z",
     "iopub.status.busy": "2025-02-14T12:03:55.651502Z",
     "iopub.status.idle": "2025-02-14T12:03:55.655403Z",
     "shell.execute_reply": "2025-02-14T12:03:55.655049Z",
     "shell.execute_reply.started": "2025-02-14T12:03:55.651617Z"
    }
   },
   "outputs": [],
   "source": [
    "selection_cut = (df.parentSourceId == 0) & (df.sky_source == False) &  (df.detect_isPrimary == True) & (df.extendedness_flag == False) & (df.blendedness_flag==False)"
   ]
  },
  {
   "cell_type": "code",
   "execution_count": null,
   "id": "6a2b68fb-5ee1-4697-a2c3-b4b500a046ee",
   "metadata": {
    "execution": {
     "iopub.execute_input": "2025-02-14T12:03:55.656086Z",
     "iopub.status.busy": "2025-02-14T12:03:55.655775Z",
     "iopub.status.idle": "2025-02-14T12:03:56.262518Z",
     "shell.execute_reply": "2025-02-14T12:03:56.262014Z",
     "shell.execute_reply.started": "2025-02-14T12:03:55.656074Z"
    }
   },
   "outputs": [],
   "source": [
    "df = df[selection_cut]"
   ]
  },
  {
   "cell_type": "code",
   "execution_count": null,
   "id": "61031286-d93f-488b-9afc-6bc439f03cfd",
   "metadata": {
    "execution": {
     "iopub.execute_input": "2025-02-14T12:03:56.263169Z",
     "iopub.status.busy": "2025-02-14T12:03:56.263038Z",
     "iopub.status.idle": "2025-02-14T12:03:56.292045Z",
     "shell.execute_reply": "2025-02-14T12:03:56.291498Z",
     "shell.execute_reply.started": "2025-02-14T12:03:56.263156Z"
    }
   },
   "outputs": [],
   "source": [
    "df"
   ]
  },
  {
   "cell_type": "markdown",
   "id": "7b60edf2-3b8f-4e7d-a916-3e928db9260f",
   "metadata": {},
   "source": [
    "## Merge the sourceTable with the CCD visit Table"
   ]
  },
  {
   "cell_type": "code",
   "execution_count": null,
   "id": "37645e64-0b78-472d-b1af-138cd1661d6f",
   "metadata": {
    "execution": {
     "iopub.execute_input": "2025-02-14T12:03:56.292867Z",
     "iopub.status.busy": "2025-02-14T12:03:56.292680Z",
     "iopub.status.idle": "2025-02-14T12:03:56.423746Z",
     "shell.execute_reply": "2025-02-14T12:03:56.423280Z",
     "shell.execute_reply.started": "2025-02-14T12:03:56.292851Z"
    }
   },
   "outputs": [],
   "source": [
    "df_m =  pd.merge(left=df, right=visit_table,how='left',left_on=['visit', 'detector'],right_on=['visitId', 'detector'], suffixes=('', '_vis'))"
   ]
  },
  {
   "cell_type": "code",
   "execution_count": null,
   "id": "0428fc97-c01a-483e-b175-8d5d9dfe83e9",
   "metadata": {
    "execution": {
     "iopub.execute_input": "2025-02-14T12:03:56.424353Z",
     "iopub.status.busy": "2025-02-14T12:03:56.424224Z",
     "iopub.status.idle": "2025-02-14T12:03:56.450593Z",
     "shell.execute_reply": "2025-02-14T12:03:56.450191Z",
     "shell.execute_reply.started": "2025-02-14T12:03:56.424340Z"
    }
   },
   "outputs": [],
   "source": [
    "df_m"
   ]
  },
  {
   "cell_type": "code",
   "execution_count": null,
   "id": "b4302ffb-8ec7-4c9b-93ec-ba564d6cfd28",
   "metadata": {
    "execution": {
     "iopub.execute_input": "2025-02-14T12:03:56.451210Z",
     "iopub.status.busy": "2025-02-14T12:03:56.451079Z",
     "iopub.status.idle": "2025-02-14T12:03:56.453621Z",
     "shell.execute_reply": "2025-02-14T12:03:56.453276Z",
     "shell.execute_reply.started": "2025-02-14T12:03:56.451198Z"
    }
   },
   "outputs": [],
   "source": [
    "cmap = ListedColormap(sns.color_palette(\"hls\", NDET))\n",
    "all_det_colors = [cmap.colors[idx] for idx in range(NDET)]"
   ]
  },
  {
   "cell_type": "code",
   "execution_count": null,
   "id": "1d603482-6f43-43f9-87fc-659f6523bb5d",
   "metadata": {
    "execution": {
     "iopub.execute_input": "2025-02-14T12:03:56.454167Z",
     "iopub.status.busy": "2025-02-14T12:03:56.454049Z",
     "iopub.status.idle": "2025-02-14T12:03:58.592404Z",
     "shell.execute_reply": "2025-02-14T12:03:58.591910Z",
     "shell.execute_reply.started": "2025-02-14T12:03:56.454156Z"
    }
   },
   "outputs": [],
   "source": [
    "fig,axes = plt.subplots(3,3,figsize=(16,16),layout=\"constrained\")\n",
    "\n",
    "axs = axes.flatten()\n",
    "\n",
    "for idet, ax in enumerate(axs):\n",
    "    df_m[df_m.detector==idet].plot.scatter(x=\"x\",y=\"y\", marker=\".\",color=all_det_colors[idet],ax=ax,alpha=0.1)\n",
    "    ax.set_aspect('equal')\n",
    "    ax.set_title(f\"det = {idet}\")\n",
    "  \n",
    "    \n",
    "#plt.gca().set_aspect('equal')\n",
    "plt.suptitle(f\"{instrument} \\n {collectionStr}\",fontsize=12)"
   ]
  },
  {
   "cell_type": "markdown",
   "id": "b45699bf-2b98-409f-a2f6-ada066c2861c",
   "metadata": {},
   "source": [
    "## Calculate Magnitudes"
   ]
  },
  {
   "cell_type": "code",
   "execution_count": null,
   "id": "ed4de994-6e3b-4ca4-bc2f-3ae9ca28ffc2",
   "metadata": {},
   "outputs": [],
   "source": [
    "# Add columns into dataJoined table to have them all in one place\n",
    "dataJoined[\"psfSn\"] = dataJoined[\"psfFlux\"]/dataJoined[\"psfFluxErr\"]\n",
    "dataJoined[\"psfMag\"] = (dataJoined[\"psfFlux\"].values*u.nJy).to(u.ABmag).value\n",
    "dataJoined[\"psfMagErr\"] = 2.5/np.log(10.0)*(dataJoined[\"psfFluxErr\"].values/dataJoined[\"psfFlux\"].values)\n",
    "\n",
    "\n",
    "# This is the way to apply aperture corrections :\n",
    "dataJoined[calibFluxCalStr] = dataJoined[calibFluxStr]*dataJoined[\"localPhotoCalib\"]\n",
    "dataJoined[calibFluxCalErrStr] = dataJoined[calibFluxErrStr]*dataJoined[\"localPhotoCalib\"]\n",
    "\n",
    "\n",
    "dataJoined[calibFluxCalMagStr] = (dataJoined[calibFluxCalStr].values*u.nJy).to(u.ABmag).value\n",
    "dataJoined[calibFluxCalMagErrStr] = 2.5/np.log(10.0)*(dataJoined[calibFluxCalErrStr].values/dataJoined[calibFluxCalStr].values)\n",
    "\n",
    "# NOTE: psfFlux is the fgcm calibrated flux.  I'm pretty sure you get the \"instrumental\" \n",
    "# flux by dividing psfFlux by the localPhotoCalib value.\n",
    "dataJoined[\"psfInstMag\"] = ((dataJoined[\"psfFlux\"].values/dataJoined[\"localPhotoCalib\"].values)*u.nJy).to(u.ABmag).value\n",
    "dataJoined[\"psfGausFluxRatio\"] = dataJoined[\"psfFlux\"]/dataJoined[\"gaussianFlux\"]"
   ]
  },
  {
   "cell_type": "markdown",
   "id": "038f50ca-7a85-4085-b908-8fe43528c2e2",
   "metadata": {},
   "source": [
    "## Compute zero-point difference"
   ]
  },
  {
   "cell_type": "code",
   "execution_count": null,
   "id": "6675d24d-b50f-41be-b1f0-4d402a665426",
   "metadata": {
    "execution": {
     "iopub.execute_input": "2025-02-14T12:03:58.593066Z",
     "iopub.status.busy": "2025-02-14T12:03:58.592933Z",
     "iopub.status.idle": "2025-02-14T12:03:58.604991Z",
     "shell.execute_reply": "2025-02-14T12:03:58.604587Z",
     "shell.execute_reply.started": "2025-02-14T12:03:58.593054Z"
    }
   },
   "outputs": [],
   "source": [
    "df_m[\"localPhotoCalibMag\"] = (df_m[\"localPhotoCalib\"].values*u.nJy).to(u.ABmag).value\n",
    "df_m[\"localPhotoCalibMagErr\"] =   2.5/np.log(10.0)*df_m[\"localPhotoCalibErr\"].values/df_m[\"localPhotoCalib\"].values\n",
    "df_m[\"DZP\"] = df_m[\"localPhotoCalibMag\"] - df_m[\"zeroPoint\"]\n"
   ]
  },
  {
   "cell_type": "code",
   "execution_count": null,
   "id": "a5c1722f-2325-404c-8b57-54a2e53356ae",
   "metadata": {},
   "outputs": [],
   "source": []
  }
 ],
 "metadata": {
  "kernelspec": {
   "display_name": "LSST",
   "language": "python",
   "name": "lsst"
  },
  "language_info": {
   "codemirror_mode": {
    "name": "ipython",
    "version": 3
   },
   "file_extension": ".py",
   "mimetype": "text/x-python",
   "name": "python",
   "nbconvert_exporter": "python",
   "pygments_lexer": "ipython3",
   "version": "3.11.11"
  }
 },
 "nbformat": 4,
 "nbformat_minor": 5
}
