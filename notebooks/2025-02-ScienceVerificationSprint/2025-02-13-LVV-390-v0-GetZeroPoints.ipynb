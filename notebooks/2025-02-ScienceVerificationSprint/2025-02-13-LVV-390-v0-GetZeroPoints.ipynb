{
 "cells": [
  {
   "cell_type": "markdown",
   "id": "8f3da262-37ed-407f-908c-8ac5a52cb4db",
   "metadata": {},
   "source": [
    "# Notebook to access to data for the System-level Science Performance Verification Sprint February 3-5 2025\n",
    "\n",
    "- Confluence page : https://rubinobs.atlassian.net/wiki/spaces/LSSTCOM/pages/372867091/System-level+Science+Performance+Verification+Sprint\n",
    "- slides : https://docs.google.com/presentation/d/1bPjS5NGtiEL2lfjmvP1UYdG_tMEDfZxX26ayhf7MhtY/edit#slide=id.ga2f7fb1a1f_0_70"
   ]
  },
  {
   "cell_type": "markdown",
   "id": "f3737976-eab8-4483-a79d-796f738c4f22",
   "metadata": {},
   "source": [
    "- where to find the campains\n",
    "- https://rubinobs.atlassian.net/wiki/spaces/DM/pages/226656354/LSSTComCam+Intermittent+Cumulative+DRP+Runs\n",
    "\n",
    "- plot Navigator\n",
    "- https://usdf-rsp.slac.stanford.edu/plot-navigator\n",
    "- https://usdf-rsp.slac.stanford.edu/plot-navigator/plot/%2Frepo%2Fmain/LSSTComCam%2Fruns%2FDRP%2FDP1%2Fw_2025_05%2FDM-48666/objectTableCore_coaddInputCount_SkyPlot"
   ]
  },
  {
   "cell_type": "markdown",
   "id": "53b4594d-5de5-4fa1-8ada-f60f0018cac5",
   "metadata": {},
   "source": [
    "- Notebooks examples\n",
    "- https://github.com/lsst-dm/DMTR-401/blob/main/notebooks/test_LVV-T40_T1240.ipynb\n",
    "- https://github.com/lsst-dm/DMTR-412/blob/tickets/DM-38728/notebooks/test_LVV-T1751_AM1_AM2.ipynb"
   ]
  },
  {
   "cell_type": "markdown",
   "id": "8402aac4-562a-40cd-ac2b-c1ca76cae55b",
   "metadata": {},
   "source": [
    "- author : Sylvie Dagoret-Campagne\n",
    "- creattion date : 2025-02-13\n",
    "- last update : 2025-02-14\n",
    "\n",
    "\n",
    "- To find what I did on LSSTComCamSim : https://github.com/sylvielsstfr/LSST-Rehearsal2024/blob/main/notebooks/LightCurves/MultiColor_lightCurves-DMRehearsal2024_01-AuxTel-DZPOnCCD.ipynb\n",
    "- **Confluence page** : https://rubinobs.atlassian.net/wiki/spaces/LSSTCOM/pages/443613290/Science+Verification+Sprint+Feb+2025\n",
    "\n",
    "\n",
    "-* Source code : https://github.com/sylvielsstfr/LSST-Rehearsal2024/blob/main/notebooks/LightCurves/SingleBand_lightCurves_ExtractOneObject_LSSTComCamSim.ipynb"
   ]
  },
  {
   "cell_type": "code",
   "execution_count": null,
   "id": "9d583412-a5a0-456e-84be-1fb658ddf016",
   "metadata": {
    "execution": {
     "iopub.execute_input": "2025-02-14T10:30:32.868387Z",
     "iopub.status.busy": "2025-02-14T10:30:32.868257Z",
     "iopub.status.idle": "2025-02-14T10:30:33.515312Z",
     "shell.execute_reply": "2025-02-14T10:30:33.514806Z",
     "shell.execute_reply.started": "2025-02-14T10:30:32.868374Z"
    }
   },
   "outputs": [],
   "source": [
    "# Confirm that the version of the Science Pipelines is recent:\n",
    "! echo $HOSTNAME\n",
    "! eups list -s | grep lsst_distrib"
   ]
  },
  {
   "cell_type": "code",
   "execution_count": null,
   "id": "8fbb9671-7d8e-4724-8c58-0f0a4fb9e5f0",
   "metadata": {
    "execution": {
     "iopub.execute_input": "2025-02-14T10:30:33.516123Z",
     "iopub.status.busy": "2025-02-14T10:30:33.515950Z",
     "iopub.status.idle": "2025-02-14T10:30:34.444647Z",
     "shell.execute_reply": "2025-02-14T10:30:34.444184Z",
     "shell.execute_reply.started": "2025-02-14T10:30:33.516106Z"
    }
   },
   "outputs": [],
   "source": [
    "from lsst.daf.butler import Butler\n",
    "import lsst.geom as geom"
   ]
  },
  {
   "cell_type": "code",
   "execution_count": null,
   "id": "e814e3d6-750c-4e7f-a9a5-5bf1e2f7205f",
   "metadata": {
    "execution": {
     "iopub.execute_input": "2025-02-14T10:30:34.445376Z",
     "iopub.status.busy": "2025-02-14T10:30:34.445240Z",
     "iopub.status.idle": "2025-02-14T10:30:36.108831Z",
     "shell.execute_reply": "2025-02-14T10:30:36.108335Z",
     "shell.execute_reply.started": "2025-02-14T10:30:34.445362Z"
    }
   },
   "outputs": [],
   "source": [
    "import os\n",
    "import gc\n",
    "import glob\n",
    "import numpy as np\n",
    "import pandas as pd\n",
    "import random\n",
    "\n",
    "import astropy.units as u\n",
    "from astropy.coordinates import SkyCoord\n",
    "from astroquery.gaia import Gaia\n",
    "Gaia.MAIN_GAIA_TABLE = \"gaiadr3.gaia_source\"  # Reselect Data Release 3, default\n",
    "Gaia.ROW_LIMIT = 100000\n",
    "from astropy.visualization import (MinMaxInterval, AsinhStretch, ZScaleInterval, LogStretch, LinearStretch,\n",
    "                                   ImageNormalize)"
   ]
  },
  {
   "cell_type": "code",
   "execution_count": null,
   "id": "5af15c53-1d3f-42ee-81d8-508a2daa56c0",
   "metadata": {
    "execution": {
     "iopub.execute_input": "2025-02-14T10:30:36.109788Z",
     "iopub.status.busy": "2025-02-14T10:30:36.109378Z",
     "iopub.status.idle": "2025-02-14T10:30:36.118871Z",
     "shell.execute_reply": "2025-02-14T10:30:36.118475Z",
     "shell.execute_reply.started": "2025-02-14T10:30:36.109772Z"
    }
   },
   "outputs": [],
   "source": [
    "# Set plotting defaults\n",
    "%matplotlib inline\n",
    "import matplotlib.pyplot as plt\n",
    "from matplotlib.ticker import FormatStrFormatter\n",
    "from matplotlib.colors import ListedColormap\n",
    "from matplotlib import colors\n",
    "\n",
    "\n",
    "\n",
    "# Set up some plotting defaults:\n",
    "plt.rcParams.update({'figure.figsize' : (12, 8)})\n",
    "plt.rcParams.update({'font.size' : 24})\n",
    "plt.rcParams.update({'axes.linewidth' : 3})\n",
    "plt.rcParams.update({'axes.labelweight' : 3})\n",
    "plt.rcParams.update({'axes.titleweight' : 5})\n",
    "plt.rcParams.update({'ytick.major.width' : 3})\n",
    "plt.rcParams.update({'ytick.minor.width' : 2})\n",
    "plt.rcParams.update({'ytick.major.size' : 8})\n",
    "plt.rcParams.update({'ytick.minor.size' : 5})\n",
    "plt.rcParams.update({'xtick.major.size' : 8})\n",
    "plt.rcParams.update({'xtick.minor.size' : 5})\n",
    "plt.rcParams.update({'xtick.major.width' : 3})\n",
    "plt.rcParams.update({'xtick.minor.width' : 2})\n",
    "plt.rcParams.update({'xtick.direction' : 'in'})\n",
    "plt.rcParams.update({'ytick.direction' : 'in'})\n"
   ]
  },
  {
   "cell_type": "code",
   "execution_count": null,
   "id": "58131b3b-f3bf-461a-8c71-d236e7d5e7fa",
   "metadata": {
    "execution": {
     "iopub.execute_input": "2025-02-14T10:30:36.119471Z",
     "iopub.status.busy": "2025-02-14T10:30:36.119331Z",
     "iopub.status.idle": "2025-02-14T10:30:36.122883Z",
     "shell.execute_reply": "2025-02-14T10:30:36.122522Z",
     "shell.execute_reply.started": "2025-02-14T10:30:36.119457Z"
    }
   },
   "outputs": [],
   "source": [
    "# The output repo is tagged with the Jira ticket number \"DM-40356\":\n",
    "repo = '/repo/main'\n",
    "collection = 'LSSTComCam/runs/DRP/DP1/w_2025_05/DM-48666'\n",
    "instrument = \"LSSTComCam\"\n",
    "skymapName = \"lsst_cells_v1\"\n",
    "band = \"g\"\n",
    "#where_clause = \"instrument = \\'\" + instrument+ \"\\'\" + \"AND band =  \\'\" + band + \"\\'\" \n",
    "STARTDATE = \"20241201\"\n",
    "where_clause = \"instrument = \\'\" + instrument+ \"\\'\" + \"AND band =  \\'\" + band + \"\\'\" +  \"AND exposure.day_obs >= \" + f\"{STARTDATE}\" \n",
    "#where=\"instrument='DECam' AND exposure.observation_type='science'\" \n",
    "collectionStr = collection.replace(\"/\", \"_\")\n",
    "NDET = 9"
   ]
  },
  {
   "cell_type": "code",
   "execution_count": null,
   "id": "2be0ae2c-bd46-4914-a4da-c41b9beca9cf",
   "metadata": {
    "execution": {
     "iopub.execute_input": "2025-02-14T10:30:36.123413Z",
     "iopub.status.busy": "2025-02-14T10:30:36.123286Z",
     "iopub.status.idle": "2025-02-14T10:30:36.129466Z",
     "shell.execute_reply": "2025-02-14T10:30:36.129129Z",
     "shell.execute_reply.started": "2025-02-14T10:30:36.123401Z"
    }
   },
   "outputs": [],
   "source": [
    "where_clause"
   ]
  },
  {
   "cell_type": "code",
   "execution_count": null,
   "id": "804fcb8b-d567-4a27-b102-05ed002051c4",
   "metadata": {
    "execution": {
     "iopub.execute_input": "2025-02-14T10:30:36.130133Z",
     "iopub.status.busy": "2025-02-14T10:30:36.129864Z",
     "iopub.status.idle": "2025-02-14T10:30:36.511433Z",
     "shell.execute_reply": "2025-02-14T10:30:36.510981Z",
     "shell.execute_reply.started": "2025-02-14T10:30:36.130120Z"
    }
   },
   "outputs": [],
   "source": [
    "# Initialize the butler repo:\n",
    "butler = Butler(repo, collections=collection)\n",
    "registry = butler.registry"
   ]
  },
  {
   "cell_type": "code",
   "execution_count": null,
   "id": "826aebd4-b08d-4259-a715-2274b75182c2",
   "metadata": {
    "execution": {
     "iopub.execute_input": "2025-02-14T10:30:36.512151Z",
     "iopub.status.busy": "2025-02-14T10:30:36.511961Z",
     "iopub.status.idle": "2025-02-14T10:30:39.199114Z",
     "shell.execute_reply": "2025-02-14T10:30:39.198749Z",
     "shell.execute_reply.started": "2025-02-14T10:30:36.512134Z"
    }
   },
   "outputs": [],
   "source": [
    "for _ in registry.queryCollections():\n",
    "    if \"LSSTComCam/runs/DRP/DP1/w_2025_05\" in _:\n",
    "        print(_)"
   ]
  },
  {
   "cell_type": "code",
   "execution_count": null,
   "id": "d6dbd6d0-8f6c-441a-b465-b983e87cef9f",
   "metadata": {
    "execution": {
     "iopub.execute_input": "2025-02-14T10:30:39.199694Z",
     "iopub.status.busy": "2025-02-14T10:30:39.199547Z",
     "iopub.status.idle": "2025-02-14T10:30:39.202548Z",
     "shell.execute_reply": "2025-02-14T10:30:39.202238Z",
     "shell.execute_reply.started": "2025-02-14T10:30:39.199680Z"
    }
   },
   "outputs": [],
   "source": [
    "if 0:\n",
    "    for datasetType in registry.queryDatasetTypes():\n",
    "        if registry.queryDatasets(datasetType, collections=collection).any(\n",
    "            execute=False, exact=False\n",
    "        ):\n",
    "            # Limit search results to the data products\n",
    "            if (\n",
    "                (\"_config\" not in datasetType.name)\n",
    "                and (\"_log\" not in datasetType.name)\n",
    "                and (\"_metadata\" not in datasetType.name)\n",
    "                and (\"_resource_usage\" not in datasetType.name)\n",
    "                and ((\"Table\" in datasetType.name) or (\"Zeropointp\" in datasetType.name) or (\"fgcm\" in datasetType.name) or (\"transm\" in datasetType.name) or (\"Transm\" in datasetType.name) )\n",
    "            ):\n",
    "                print(datasetType)"
   ]
  },
  {
   "cell_type": "markdown",
   "id": "6e8c59bd-7f48-409c-a8a1-9868d4ce07cb",
   "metadata": {},
   "source": [
    "## Select the data product"
   ]
  },
  {
   "cell_type": "code",
   "execution_count": null,
   "id": "b8327a67-fc64-4a93-9a32-9d7039c8d639",
   "metadata": {
    "execution": {
     "iopub.execute_input": "2025-02-14T10:30:39.203033Z",
     "iopub.status.busy": "2025-02-14T10:30:39.202908Z",
     "iopub.status.idle": "2025-02-14T10:30:39.209941Z",
     "shell.execute_reply": "2025-02-14T10:30:39.209622Z",
     "shell.execute_reply.started": "2025-02-14T10:30:39.203021Z"
    }
   },
   "outputs": [],
   "source": [
    "FLAG_ISOLATED_STAR_SOURCES = False\n",
    "FLAG_SOURCES_TABLE_VISIT = True\n",
    "FLAG_OBJECTS_TABLE_TRACT = True\n",
    "FLAG_FGCM = False\n",
    "FLAG_FGCM_CYCLE5 = True\n",
    "FLAG_TRANSMISSION = True"
   ]
  },
  {
   "cell_type": "markdown",
   "id": "4f46d7f5-d0a8-4168-ba9b-4556db43f699",
   "metadata": {},
   "source": [
    "### Object"
   ]
  },
  {
   "cell_type": "code",
   "execution_count": null,
   "id": "c0ba20b6-f6e4-4f01-9d42-ab75059446ef",
   "metadata": {
    "execution": {
     "iopub.execute_input": "2025-02-14T10:30:39.210407Z",
     "iopub.status.busy": "2025-02-14T10:30:39.210286Z",
     "iopub.status.idle": "2025-02-14T10:30:39.390152Z",
     "shell.execute_reply": "2025-02-14T10:30:39.389810Z",
     "shell.execute_reply.started": "2025-02-14T10:30:39.210395Z"
    }
   },
   "outputs": [],
   "source": [
    "if FLAG_SOURCES_TABLE_VISIT:\n",
    "\n",
    "    data_product = \"objectTable_tract\"\n",
    "    datasetRefs = butler.registry.queryDatasets(datasetType=data_product, collections=collection,where = where_clause)\n",
    "    for i, ref in enumerate(datasetRefs):\n",
    "        print(i,ref.dataId)\n",
    "        if i>20:\n",
    "            break\n",
    "    "
   ]
  },
  {
   "cell_type": "code",
   "execution_count": null,
   "id": "b6815b99-6749-44fd-a457-73dba592df8e",
   "metadata": {
    "execution": {
     "iopub.execute_input": "2025-02-14T10:30:39.390842Z",
     "iopub.status.busy": "2025-02-14T10:30:39.390550Z",
     "iopub.status.idle": "2025-02-14T10:31:01.887513Z",
     "shell.execute_reply": "2025-02-14T10:31:01.886925Z",
     "shell.execute_reply.started": "2025-02-14T10:30:39.390828Z"
    }
   },
   "outputs": [],
   "source": [
    "all_objectTable_tract = []\n",
    "for i, ref in enumerate(datasetRefs):\n",
    "    all_objectTable_tract.append(butler.get(ref))\n",
    "    if i>10:\n",
    "        break"
   ]
  },
  {
   "cell_type": "markdown",
   "id": "a2e765a7-9e17-42a5-9dac-3ef3814cc662",
   "metadata": {
    "execution": {
     "iopub.execute_input": "2025-02-14T09:51:07.083075Z",
     "iopub.status.busy": "2025-02-14T09:51:07.082657Z",
     "iopub.status.idle": "2025-02-14T09:51:07.085572Z",
     "shell.execute_reply": "2025-02-14T09:51:07.085200Z",
     "shell.execute_reply.started": "2025-02-14T09:51:07.083052Z"
    }
   },
   "source": [
    "### Visits"
   ]
  },
  {
   "cell_type": "code",
   "execution_count": null,
   "id": "fa7ca40c-72e3-402b-8b38-58fe77090ae6",
   "metadata": {
    "execution": {
     "iopub.execute_input": "2025-02-14T10:31:01.888316Z",
     "iopub.status.busy": "2025-02-14T10:31:01.888153Z",
     "iopub.status.idle": "2025-02-14T10:31:02.119116Z",
     "shell.execute_reply": "2025-02-14T10:31:02.118798Z",
     "shell.execute_reply.started": "2025-02-14T10:31:01.888302Z"
    }
   },
   "outputs": [],
   "source": [
    "#visit_table = butler.get('visitTable', dataId={'instrument': instrument}, collections = collection)   \n",
    "visit_table = butler.get('ccdVisitTable', dataId={'instrument': instrument}, collections = collection)   \n",
    "visit_table"
   ]
  },
  {
   "cell_type": "code",
   "execution_count": null,
   "id": "f93ffebf-9be2-4d8f-922c-5dea7a6aabae",
   "metadata": {
    "execution": {
     "iopub.execute_input": "2025-02-14T10:31:02.119637Z",
     "iopub.status.busy": "2025-02-14T10:31:02.119514Z",
     "iopub.status.idle": "2025-02-14T10:31:02.332887Z",
     "shell.execute_reply": "2025-02-14T10:31:02.332511Z",
     "shell.execute_reply.started": "2025-02-14T10:31:02.119625Z"
    }
   },
   "outputs": [],
   "source": [
    "# Compute nightobs\n",
    "visit_table[\"nightObs\"] = visit_table.apply(lambda x: x['visitId']//100_000, axis=1)\n",
    "#  compute time\n",
    "visit_table[\"Time\"] = pd.to_datetime(visit_table['obsStart'])\n",
    "# get airmass for CCD Visit table\n",
    "visit_table[\"airmass\"] = visit_table[\"zenithDistance\"].apply(lambda x: 1/np.cos(np.pi/180.*x))"
   ]
  },
  {
   "cell_type": "code",
   "execution_count": null,
   "id": "ebe4eb02-6a5b-4a81-82ce-02e112870de8",
   "metadata": {
    "execution": {
     "iopub.execute_input": "2025-02-14T10:31:02.333495Z",
     "iopub.status.busy": "2025-02-14T10:31:02.333341Z",
     "iopub.status.idle": "2025-02-14T10:31:03.004942Z",
     "shell.execute_reply": "2025-02-14T10:31:03.004586Z",
     "shell.execute_reply.started": "2025-02-14T10:31:02.333480Z"
    }
   },
   "outputs": [],
   "source": [
    "from matplotlib.dates import DateFormatter\n",
    "date_form = DateFormatter(\"%y-%m-%d\")\n",
    "\n",
    "fig,(ax,ax2) = plt.subplots(2,1,figsize=(16,6),layout=\"constrained\",sharex=True)\n",
    "leg = ax.get_legend()\n",
    "map_filtercolor = {\"u\":\"b\",\"g\":\"g\",\"r\":\"r\",\"i\":\"orange\",\"z\":\"grey\",\"y\":\"purple\"}\n",
    "for the_band in [\"u\",\"g\",\"r\",\"i\",\"z\",\"y\"]:\n",
    "    visit_table[visit_table.band == the_band].plot(x=\"Time\",y=\"airmass\",marker='+',c=map_filtercolor[the_band] ,lw=0.0,ax=ax,grid=True,legend=leg,label=the_band)\n",
    "    visit_table[visit_table.band == the_band].plot(x=\"Time\",y=\"zeroPoint\",marker='+',c=map_filtercolor[the_band] ,lw=0.0,ax=ax2,grid=True,legend=leg,label=the_band)\n",
    "ax.set_ylabel(\"airmass\")\n",
    "ax.set_xlabel(None)\n",
    "ax2.set_ylabel(\"zeroPoint\")\n",
    "\n",
    "ax.xaxis.set_major_formatter(date_form)\n",
    "ax2.xaxis.set_major_formatter(date_form)\n",
    "ax.legend(bbox_to_anchor=(1.01, 1.02),ncols=2)\n",
    "ax2.legend(bbox_to_anchor=(1.01, 1.02),ncols=2)\n",
    "ax.set_title(f\"{instrument} , {collectionStr}\",fontsize=12)\n",
    "plt.show()"
   ]
  },
  {
   "cell_type": "markdown",
   "id": "46ec7abf-536a-4248-8249-c3e4389c7043",
   "metadata": {},
   "source": [
    "### Sources"
   ]
  },
  {
   "cell_type": "code",
   "execution_count": null,
   "id": "fd445ae0-85b6-441c-ace1-789843c31629",
   "metadata": {
    "execution": {
     "iopub.execute_input": "2025-02-14T10:31:03.005519Z",
     "iopub.status.busy": "2025-02-14T10:31:03.005385Z",
     "iopub.status.idle": "2025-02-14T10:31:03.294170Z",
     "shell.execute_reply": "2025-02-14T10:31:03.293694Z",
     "shell.execute_reply.started": "2025-02-14T10:31:03.005506Z"
    }
   },
   "outputs": [],
   "source": [
    "# Try to get the Schema\n",
    "\n",
    "if FLAG_SOURCES_TABLE_VISIT:\n",
    "\n",
    "    data_product = \"sourceTable_visit\"\n",
    "    #datasetRefs = butler.registry.queryDatasets(datasetType=data_product, collections=collections, where= where_clause)\n",
    "    datasetRefs = butler.registry.queryDatasets(datasetType=data_product, collections=collection,where = where_clause)\n",
    "    for i, ref in enumerate(datasetRefs):\n",
    "        print(i,ref.dataId)\n",
    "        if i>20:\n",
    "            break\n",
    "    "
   ]
  },
  {
   "cell_type": "code",
   "execution_count": null,
   "id": "e34b474a-0d31-44e3-ae1e-a9606b4c8b97",
   "metadata": {
    "execution": {
     "iopub.execute_input": "2025-02-14T10:31:03.295032Z",
     "iopub.status.busy": "2025-02-14T10:31:03.294754Z",
     "iopub.status.idle": "2025-02-14T10:31:04.450394Z",
     "shell.execute_reply": "2025-02-14T10:31:04.449974Z",
     "shell.execute_reply.started": "2025-02-14T10:31:03.295016Z"
    }
   },
   "outputs": [],
   "source": [
    "all_sourceTable_visit = []\n",
    "for i, ref in enumerate(datasetRefs):\n",
    "    all_sourceTable_visit.append(butler.get(ref))\n",
    "    if i>20:\n",
    "            break"
   ]
  },
  {
   "cell_type": "code",
   "execution_count": null,
   "id": "8bd09773-1c4c-45d8-b2ec-3bb3f521276d",
   "metadata": {
    "execution": {
     "iopub.execute_input": "2025-02-14T10:31:04.451122Z",
     "iopub.status.busy": "2025-02-14T10:31:04.450939Z",
     "iopub.status.idle": "2025-02-14T10:31:04.453407Z",
     "shell.execute_reply": "2025-02-14T10:31:04.453096Z",
     "shell.execute_reply.started": "2025-02-14T10:31:04.451107Z"
    }
   },
   "outputs": [],
   "source": [
    "# Extra columns to load from sourceTable_visit catalogs\n",
    "names = [\"psfFlux\", \"psfFluxErr\", \"psfFlux_flag\", \"psfFlux_apCorr\", \"psfFlux_apCorrErr\",\n",
    "         \"extendedness\", \"detect_isPrimary\", \"deblend_skipped\",\n",
    "         \"gaussianFlux\", \"gaussianFluxErr\", \"gaussianFlux_flag\",\n",
    "         \"localPhotoCalib\", \"localPhotoCalibErr\", \"localPhotoCalib_flag\"]"
   ]
  },
  {
   "cell_type": "code",
   "execution_count": null,
   "id": "a6eca543-2620-4441-81a9-d0c6eb0f259e",
   "metadata": {
    "execution": {
     "iopub.execute_input": "2025-02-14T10:31:04.453971Z",
     "iopub.status.busy": "2025-02-14T10:31:04.453782Z",
     "iopub.status.idle": "2025-02-14T10:31:04.462309Z",
     "shell.execute_reply": "2025-02-14T10:31:04.461984Z",
     "shell.execute_reply.started": "2025-02-14T10:31:04.453959Z"
    }
   },
   "outputs": [],
   "source": [
    "list(all_sourceTable_visit[0].columns)"
   ]
  },
  {
   "cell_type": "code",
   "execution_count": null,
   "id": "b77b4228-6a87-4500-a1ae-e9872bd1d06f",
   "metadata": {
    "execution": {
     "iopub.execute_input": "2025-02-14T10:35:34.579704Z",
     "iopub.status.busy": "2025-02-14T10:35:34.579296Z",
     "iopub.status.idle": "2025-02-14T10:35:35.375295Z",
     "shell.execute_reply": "2025-02-14T10:35:35.374919Z",
     "shell.execute_reply.started": "2025-02-14T10:35:34.579688Z"
    }
   },
   "outputs": [],
   "source": [
    "df = pd.concat(all_sourceTable_visit)"
   ]
  },
  {
   "cell_type": "code",
   "execution_count": null,
   "id": "1246782f-25e8-409e-8074-e7297dc55123",
   "metadata": {
    "execution": {
     "iopub.execute_input": "2025-02-14T10:39:56.408441Z",
     "iopub.status.busy": "2025-02-14T10:39:56.408003Z",
     "iopub.status.idle": "2025-02-14T10:39:56.412492Z",
     "shell.execute_reply": "2025-02-14T10:39:56.412109Z",
     "shell.execute_reply.started": "2025-02-14T10:39:56.408417Z"
    }
   },
   "outputs": [],
   "source": [
    "selection_cut = (df.parentSourceId == 0) & (df.sky_source == False) &  (df.detect_isPrimary == True) & (df.extendedness_flag == False) & (df.blendedness_flag==False)"
   ]
  },
  {
   "cell_type": "code",
   "execution_count": null,
   "id": "6a2b68fb-5ee1-4697-a2c3-b4b500a046ee",
   "metadata": {
    "execution": {
     "iopub.execute_input": "2025-02-14T10:40:31.171580Z",
     "iopub.status.busy": "2025-02-14T10:40:31.171365Z",
     "iopub.status.idle": "2025-02-14T10:40:32.116923Z",
     "shell.execute_reply": "2025-02-14T10:40:32.116444Z",
     "shell.execute_reply.started": "2025-02-14T10:40:31.171563Z"
    }
   },
   "outputs": [],
   "source": [
    "df = df[selection_cut]"
   ]
  },
  {
   "cell_type": "code",
   "execution_count": null,
   "id": "61031286-d93f-488b-9afc-6bc439f03cfd",
   "metadata": {
    "execution": {
     "iopub.execute_input": "2025-02-14T10:40:36.279689Z",
     "iopub.status.busy": "2025-02-14T10:40:36.279124Z",
     "iopub.status.idle": "2025-02-14T10:40:36.308269Z",
     "shell.execute_reply": "2025-02-14T10:40:36.307889Z",
     "shell.execute_reply.started": "2025-02-14T10:40:36.279670Z"
    }
   },
   "outputs": [],
   "source": [
    "df"
   ]
  },
  {
   "cell_type": "markdown",
   "id": "7b60edf2-3b8f-4e7d-a916-3e928db9260f",
   "metadata": {},
   "source": [
    "## Merge the sourceTable with the CCD visit Table"
   ]
  },
  {
   "cell_type": "code",
   "execution_count": null,
   "id": "37645e64-0b78-472d-b1af-138cd1661d6f",
   "metadata": {
    "execution": {
     "iopub.execute_input": "2025-02-14T10:50:43.748476Z",
     "iopub.status.busy": "2025-02-14T10:50:43.748180Z",
     "iopub.status.idle": "2025-02-14T10:50:43.887092Z",
     "shell.execute_reply": "2025-02-14T10:50:43.886698Z",
     "shell.execute_reply.started": "2025-02-14T10:50:43.748459Z"
    }
   },
   "outputs": [],
   "source": [
    "df_m =  pd.merge(left=df, right=visit_table,how='left',left_on=['visit', 'detector'],right_on=['visitId', 'detector'], suffixes=('', '_vis'))"
   ]
  },
  {
   "cell_type": "code",
   "execution_count": null,
   "id": "0428fc97-c01a-483e-b175-8d5d9dfe83e9",
   "metadata": {
    "execution": {
     "iopub.execute_input": "2025-02-14T10:50:55.029168Z",
     "iopub.status.busy": "2025-02-14T10:50:55.028866Z",
     "iopub.status.idle": "2025-02-14T10:50:55.060628Z",
     "shell.execute_reply": "2025-02-14T10:50:55.060275Z",
     "shell.execute_reply.started": "2025-02-14T10:50:55.029152Z"
    }
   },
   "outputs": [],
   "source": [
    "df_m"
   ]
  },
  {
   "cell_type": "code",
   "execution_count": null,
   "id": "1d603482-6f43-43f9-87fc-659f6523bb5d",
   "metadata": {
    "execution": {
     "iopub.execute_input": "2025-02-14T10:54:45.084769Z",
     "iopub.status.busy": "2025-02-14T10:54:45.084471Z",
     "iopub.status.idle": "2025-02-14T10:54:46.366977Z",
     "shell.execute_reply": "2025-02-14T10:54:46.366310Z",
     "shell.execute_reply.started": "2025-02-14T10:54:45.084755Z"
    }
   },
   "outputs": [],
   "source": [
    "fig,axes = plt.subplots(3,3,figsize=(16,16),layout=\"constrained\")\n",
    "\n",
    "axs = axes.flatten()\n",
    "\n",
    "for idet, ax in enumerate(axs):\n",
    "    df_m[df_m.detector==idet].plot.scatter(x=\"x\",y=\"y\", marker=\".\",ax=ax,alpha=0.1)\n",
    "    \n",
    "plt.gca().set_aspect('equal')\n",
    "plt.title(f\"{instrument} \\n {collectionStr}\",fontsize=12)"
   ]
  },
  {
   "cell_type": "code",
   "execution_count": null,
   "id": "e7ac158b-4efe-459c-9d96-7f79e12763fa",
   "metadata": {},
   "outputs": [],
   "source": []
  }
 ],
 "metadata": {
  "kernelspec": {
   "display_name": "LSST",
   "language": "python",
   "name": "lsst"
  },
  "language_info": {
   "codemirror_mode": {
    "name": "ipython",
    "version": 3
   },
   "file_extension": ".py",
   "mimetype": "text/x-python",
   "name": "python",
   "nbconvert_exporter": "python",
   "pygments_lexer": "ipython3",
   "version": "3.11.11"
  }
 },
 "nbformat": 4,
 "nbformat_minor": 5
}
