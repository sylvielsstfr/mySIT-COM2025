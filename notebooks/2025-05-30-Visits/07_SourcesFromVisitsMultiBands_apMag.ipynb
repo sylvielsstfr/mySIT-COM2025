{
 "cells": [
  {
   "cell_type": "markdown",
   "id": "adda26b1-7594-48da-94d2-6722bd71353c",
   "metadata": {},
   "source": [
    "# Select the tract-patch with the higest number of visits and Show the Coadds and Fetch the sources in that Patch Lightcurves in multibands with psfMag and ApertureFlag"
   ]
  },
  {
   "cell_type": "markdown",
   "id": "1f276e2d-e5e1-4b30-bf3c-4ea950073fad",
   "metadata": {
    "execution": {
     "iopub.execute_input": "2025-04-29T08:48:57.989253Z",
     "iopub.status.busy": "2025-04-29T08:48:57.988923Z",
     "iopub.status.idle": "2025-04-29T08:48:57.993268Z",
     "shell.execute_reply": "2025-04-29T08:48:57.992764Z",
     "shell.execute_reply.started": "2025-04-29T08:48:57.989226Z"
    }
   },
   "source": [
    "- author : Sylvie Dagoret-Campagne\n",
    "- affiliation : IJCLab/IN2P3/CNRS\n",
    "- member : DESC, rubin-inkind\n",
    "- creation date : 2025-06-04\n",
    "- last update : 2025-06-06"
   ]
  },
  {
   "cell_type": "code",
   "execution_count": null,
   "id": "01996343-5a50-4c86-a6a2-261bc3bf8df0",
   "metadata": {
    "execution": {
     "iopub.execute_input": "2025-06-06T15:33:02.758405Z",
     "iopub.status.busy": "2025-06-06T15:33:02.758165Z",
     "iopub.status.idle": "2025-06-06T15:33:04.135215Z",
     "shell.execute_reply": "2025-06-06T15:33:04.134715Z",
     "shell.execute_reply.started": "2025-06-06T15:33:02.758391Z"
    }
   },
   "outputs": [],
   "source": [
    "import lsst.pipe.base\n",
    "print(lsst.pipe.base.__version__)"
   ]
  },
  {
   "cell_type": "code",
   "execution_count": null,
   "id": "72f36e25-589c-4a8c-865f-8b51f5f35270",
   "metadata": {
    "execution": {
     "iopub.execute_input": "2025-06-06T15:33:04.135861Z",
     "iopub.status.busy": "2025-06-06T15:33:04.135718Z",
     "iopub.status.idle": "2025-06-06T15:33:05.020439Z",
     "shell.execute_reply": "2025-06-06T15:33:05.019922Z",
     "shell.execute_reply.started": "2025-06-06T15:33:04.135846Z"
    }
   },
   "outputs": [],
   "source": [
    "import sys\n",
    "import matplotlib.pyplot as plt\n",
    "import lsst.afw.display as afwDisplay\n",
    "from lsst.geom import SpherePoint, degrees\n",
    "from lsst.afw.image import ExposureF\n",
    "from lsst.skymap import PatchInfo, Index2D\n",
    "import numpy as np\n",
    "import pandas as pd\n",
    "import lsst.afw.display as afwDisplay\n",
    "# %matplotlib widget\n",
    "\n",
    "#%matplotlib widget"
   ]
  },
  {
   "cell_type": "code",
   "execution_count": null,
   "id": "3d9ad128-35bd-48b5-8214-8be3e5b362de",
   "metadata": {
    "execution": {
     "iopub.execute_input": "2025-06-06T15:33:05.021490Z",
     "iopub.status.busy": "2025-06-06T15:33:05.021041Z",
     "iopub.status.idle": "2025-06-06T15:33:05.027961Z",
     "shell.execute_reply": "2025-06-06T15:33:05.027528Z",
     "shell.execute_reply.started": "2025-06-06T15:33:05.021475Z"
    }
   },
   "outputs": [],
   "source": [
    "from astropy.coordinates import Angle\n",
    "import astropy.units as u\n",
    "from astropy.coordinates import SkyCoord\n",
    "from astropy.time import Time\n",
    "from astropy.stats import sigma_clipped_stats"
   ]
  },
  {
   "cell_type": "code",
   "execution_count": null,
   "id": "61970c43-da35-418a-a48b-d6eb5ebb2f54",
   "metadata": {
    "execution": {
     "iopub.execute_input": "2025-06-06T15:33:05.028823Z",
     "iopub.status.busy": "2025-06-06T15:33:05.028523Z",
     "iopub.status.idle": "2025-06-06T15:33:05.674126Z",
     "shell.execute_reply": "2025-06-06T15:33:05.673617Z",
     "shell.execute_reply.started": "2025-06-06T15:33:05.028809Z"
    }
   },
   "outputs": [],
   "source": [
    "import seaborn as sns"
   ]
  },
  {
   "cell_type": "code",
   "execution_count": null,
   "id": "f2580923-bf82-4204-a50d-c64eb56b9f06",
   "metadata": {
    "execution": {
     "iopub.execute_input": "2025-06-06T15:33:05.675567Z",
     "iopub.status.busy": "2025-06-06T15:33:05.674676Z",
     "iopub.status.idle": "2025-06-06T15:33:05.680043Z",
     "shell.execute_reply": "2025-06-06T15:33:05.679427Z",
     "shell.execute_reply.started": "2025-06-06T15:33:05.675543Z"
    }
   },
   "outputs": [],
   "source": [
    "plt.rcParams[\"figure.figsize\"] = (10, 6)\n",
    "plt.rcParams[\"axes.labelsize\"] = \"x-large\"\n",
    "plt.rcParams[\"axes.titlesize\"] = \"x-large\"\n",
    "plt.rcParams[\"xtick.labelsize\"] = \"x-large\"\n",
    "plt.rcParams[\"ytick.labelsize\"] = \"x-large\"\n",
    "\n",
    "# Set up some plotting defaults:\n",
    "plt.rcParams.update({'figure.figsize' : (12, 8)})\n",
    "plt.rcParams.update({'font.size' : 16})\n",
    "plt.rcParams.update({'axes.linewidth' : 3})\n",
    "plt.rcParams.update({'axes.labelweight' : 3})\n",
    "plt.rcParams.update({'axes.titleweight' : 5})\n",
    "plt.rcParams.update({'ytick.major.width' : 3})\n",
    "plt.rcParams.update({'ytick.minor.width' : 2})\n",
    "plt.rcParams.update({'ytick.major.size' : 8})\n",
    "plt.rcParams.update({'ytick.minor.size' : 5})\n",
    "plt.rcParams.update({'xtick.major.size' : 8})\n",
    "plt.rcParams.update({'xtick.minor.size' : 5})\n",
    "plt.rcParams.update({'xtick.major.width' : 3})\n",
    "plt.rcParams.update({'xtick.minor.width' : 2})\n",
    "plt.rcParams.update({'xtick.direction' : 'in'})\n",
    "plt.rcParams.update({'ytick.direction' : 'in'})\n"
   ]
  },
  {
   "cell_type": "code",
   "execution_count": null,
   "id": "37adbe72-e5a6-4b45-9749-87467563d028",
   "metadata": {
    "execution": {
     "iopub.execute_input": "2025-06-06T15:33:05.680956Z",
     "iopub.status.busy": "2025-06-06T15:33:05.680749Z",
     "iopub.status.idle": "2025-06-06T15:33:05.695058Z",
     "shell.execute_reply": "2025-06-06T15:33:05.694522Z",
     "shell.execute_reply.started": "2025-06-06T15:33:05.680936Z"
    }
   },
   "outputs": [],
   "source": [
    "all_bands = [\"u\", \"g\", \"r\", \"i\", \"z\", \"y\"]\n",
    "all_bands_colors = [\"blue\", \"green\", \"red\", \"orange\", \"yellow\", \"purple\"]"
   ]
  },
  {
   "cell_type": "code",
   "execution_count": null,
   "id": "1a1a267b-58c7-468a-a336-2c8def253a79",
   "metadata": {
    "execution": {
     "iopub.execute_input": "2025-06-06T15:33:05.695718Z",
     "iopub.status.busy": "2025-06-06T15:33:05.695572Z",
     "iopub.status.idle": "2025-06-06T15:33:05.720780Z",
     "shell.execute_reply": "2025-06-06T15:33:05.720327Z",
     "shell.execute_reply.started": "2025-06-06T15:33:05.695704Z"
    }
   },
   "outputs": [],
   "source": [
    "import traceback"
   ]
  },
  {
   "cell_type": "code",
   "execution_count": null,
   "id": "ede21bda-146f-4c77-aa40-edf2debfbfc0",
   "metadata": {
    "execution": {
     "iopub.execute_input": "2025-06-06T15:33:05.721319Z",
     "iopub.status.busy": "2025-06-06T15:33:05.721195Z",
     "iopub.status.idle": "2025-06-06T15:33:05.727615Z",
     "shell.execute_reply": "2025-06-06T15:33:05.727174Z",
     "shell.execute_reply.started": "2025-06-06T15:33:05.721307Z"
    }
   },
   "outputs": [],
   "source": [
    "# Define butler\n",
    "from lsst.daf.butler import Butler"
   ]
  },
  {
   "cell_type": "code",
   "execution_count": null,
   "id": "c7ab7fe3-285d-48c2-973a-2dde9d0a7faa",
   "metadata": {
    "execution": {
     "iopub.execute_input": "2025-06-06T15:33:05.728154Z",
     "iopub.status.busy": "2025-06-06T15:33:05.728031Z",
     "iopub.status.idle": "2025-06-06T15:33:06.509898Z",
     "shell.execute_reply": "2025-06-06T15:33:06.509255Z",
     "shell.execute_reply.started": "2025-06-06T15:33:05.728143Z"
    }
   },
   "outputs": [],
   "source": [
    "!eups list lsst_distrib"
   ]
  },
  {
   "cell_type": "code",
   "execution_count": null,
   "id": "37947b3f-f096-40a9-a6e7-989668256ad6",
   "metadata": {
    "execution": {
     "iopub.execute_input": "2025-06-06T15:33:06.510720Z",
     "iopub.status.busy": "2025-06-06T15:33:06.510572Z",
     "iopub.status.idle": "2025-06-06T15:33:06.514819Z",
     "shell.execute_reply": "2025-06-06T15:33:06.514404Z",
     "shell.execute_reply.started": "2025-06-06T15:33:06.510704Z"
    }
   },
   "outputs": [],
   "source": [
    "def nJy_to_ab_mag(f_njy):\n",
    "    \"\"\"Convert scalar or array flux in nJy to AB magnitude.\"\"\"\n",
    "    f_njy = np.asarray(f_njy)\n",
    "    mag = np.full_like(f_njy, fill_value=np.nan, dtype=float)\n",
    "    mask = f_njy > 0\n",
    "    mag[mask] = -2.5 * np.log10(f_njy[mask]) + 31.4\n",
    "    return mag\n",
    "\n",
    "\n",
    "def nJy_err_to_ab_err(f_njy, f_err):\n",
    "    \"\"\"Propagate flux error to magnitude error.\"\"\"\n",
    "    f_njy = np.asarray(f_njy)\n",
    "    f_err = np.asarray(f_err)\n",
    "    mag_err = np.full_like(f_njy, fill_value=np.nan, dtype=float)\n",
    "    mask = (f_njy > 0) & (f_err > 0)\n",
    "    mag_err[mask] = (2.5 / np.log(10)) * (f_err[mask] / f_njy[mask])\n",
    "    return mag_err\n"
   ]
  },
  {
   "cell_type": "code",
   "execution_count": null,
   "id": "9d92da8c-5245-4407-beda-836a5249d6d3",
   "metadata": {
    "execution": {
     "iopub.execute_input": "2025-06-06T15:33:06.515609Z",
     "iopub.status.busy": "2025-06-06T15:33:06.515313Z",
     "iopub.status.idle": "2025-06-06T15:33:06.539928Z",
     "shell.execute_reply": "2025-06-06T15:33:06.539521Z",
     "shell.execute_reply.started": "2025-06-06T15:33:06.515595Z"
    }
   },
   "outputs": [],
   "source": [
    "def RetrieveDRPSources_forTarget(butler,center_coord,datasettype,where_clause,radius_cut=50):\n",
    "    \"\"\"\n",
    "    Find the closest Sourcesthe target_coord \n",
    "\n",
    "    parameters:\n",
    "    - butler\n",
    "    - the coordinate of the target (center of the cone seach)\n",
    "    - the datasettype name for the DRP object\n",
    "    - where_clause : which contrain requirements on the tract and patch numbers\n",
    "    - cut on angluar separation for the returned for the returned object\n",
    "\n",
    "    Return\n",
    "    - object Id with minimum separation , \n",
    "    - minimum separation (arcec),\n",
    "    - the table of DRP objects within the radius_cut\n",
    "    \"\"\"\n",
    "\n",
    "    ra_columns = ['u_ra', 'g_ra', 'r_ra', 'i_ra', 'z_ra', 'y_ra']\n",
    "    dec_columns = ['u_dec', 'g_dec', 'r_dec', 'i_dec', 'z_dec', 'y_dec']\n",
    "\n",
    "    \n",
    "    therefs = butler.registry.queryDatasets(datasettype,  collections=collection, where=where_clause)\n",
    "\n",
    "    for count,ref in enumerate(therefs):\n",
    "        the_id = ref.dataId\n",
    "        the_tract_id = the_id[\"tract\"] \n",
    "        print(the_id)\n",
    "        \n",
    "        # catalog of rubin objects (a pandas Dataframe) inside the tract\n",
    "        catalog = butler.get(ref)\n",
    "        catalog = catalog[catalog[\"patch\"] == patchNbSel] \n",
    "       \n",
    "    \n",
    "        nobjects = len(catalog)\n",
    "\n",
    "\n",
    "        # Calcul de la moyenne ligne par ligne, en ignorant les NaN\n",
    "        catalog['ra'] = catalog[ra_columns].mean(axis=1, skipna=True)\n",
    "        catalog['dec'] = catalog[dec_columns].mean(axis=1, skipna=True)\n",
    "\n",
    "\n",
    "        # extract the (ra,dec) coordinates for all te objects of the rubin-catalog\n",
    "        ra_cat = catalog[\"ra\"].values\n",
    "        dec_cat = catalog[\"dec\"].values\n",
    "        # coordinates for all rubin-catalog points\n",
    "        catalog_coords = SkyCoord(ra=ra_cat*u.deg, dec=dec_cat*u.deg)\n",
    "\n",
    "        # Angular distance to target\n",
    "        distances_arcsec = center_coord.separation(catalog_coords).arcsecond\n",
    "\n",
    "        # add the separation angle to the ctalog\n",
    "        catalog[\"sep\"] = distances_arcsec\n",
    "\n",
    "\n",
    "        # closest object from the target\n",
    "        sepMin = distances_arcsec.min() \n",
    "        sepMin_idx = np.where(distances_arcsec == sepMin)[0][0]\n",
    "    \n",
    "        closest_obj = catalog[catalog[\"sep\"] <=  sepMin]\n",
    "                   \n",
    "        # select a few of these sources to debug the closest candidate\n",
    "        nearby_obj = catalog[distances_arcsec < radius_cut]\n",
    "        \n",
    "        return closest_obj, sepMin, nearby_obj\n"
   ]
  },
  {
   "cell_type": "code",
   "execution_count": null,
   "id": "10a45ccc-da14-4be4-849d-e68e2a33cc26",
   "metadata": {
    "execution": {
     "iopub.execute_input": "2025-06-06T15:33:06.540471Z",
     "iopub.status.busy": "2025-06-06T15:33:06.540348Z",
     "iopub.status.idle": "2025-06-06T15:33:06.547630Z",
     "shell.execute_reply": "2025-06-06T15:33:06.547170Z",
     "shell.execute_reply.started": "2025-06-06T15:33:06.540459Z"
    }
   },
   "outputs": [],
   "source": [
    "def FetchTimesForVisits(visit_list):\n",
    "    \"\"\"\n",
    "    \"\"\"\n",
    "    # On interroge la table visitDefinition\n",
    "    Nvisit = len(visit_list)\n",
    "        \n",
    "    if Nvisit == 1:\n",
    "        thevisit = visit_list.values[0]\n",
    "        rows = registry.queryDimensionRecords(\"visit\", where=f\"visit={thevisit}\")\n",
    "    else:\n",
    "        rows = registry.queryDimensionRecords(\"visit\", where=f\"visit in {tuple(visit_list)}\")\n",
    "\n",
    "    # 4. Construire un tableau des résultats\n",
    "    results = []\n",
    "    for row in rows:\n",
    "        visit_id = row.id\n",
    "        visit_airmass = 1./np.cos(Angle(row.zenith_angle,u.degree).rad)\n",
    "        visit_azimuth = row.azimuth\n",
    "\n",
    "        # Extraire l'instant de début de l'observation (Time astropy)\n",
    "        start_time = row.timespan.begin\n",
    "\n",
    "        # Convertir en MJD et ISO\n",
    "        mjd = start_time.to_value(\"mjd\")  # Ex: 60384.28718\n",
    "        isot = start_time.to_value(\"isot\")  # Ex: '2024-04-19 06:53:32.000'\n",
    "    \n",
    "        #mjd = row.startDate.toMjd()\n",
    "        #utc = Time(mjd, format='mjd', scale='utc').to_value('iso')\n",
    "        #results.append({\"visit\": visit_id, \"mjd\": mjd, \"isot\": isot})\n",
    "        results.append({\"visit\": visit_id, \"mjd\": mjd, \"isot\": isot,\"airmass\":visit_airmass,\"azimuth\":visit_azimuth})\n",
    "\n",
    "    df_times = pd.DataFrame(results).sort_values(\"visit\")\n",
    "    df_times.set_index(\"visit\",inplace=True)\n",
    "    return df_times"
   ]
  },
  {
   "cell_type": "code",
   "execution_count": null,
   "id": "e679ed50-b26d-4da5-9088-9c3652cd2760",
   "metadata": {
    "execution": {
     "iopub.execute_input": "2025-06-06T15:33:06.548228Z",
     "iopub.status.busy": "2025-06-06T15:33:06.548104Z",
     "iopub.status.idle": "2025-06-06T15:33:06.563227Z",
     "shell.execute_reply": "2025-06-06T15:33:06.562831Z",
     "shell.execute_reply.started": "2025-06-06T15:33:06.548216Z"
    }
   },
   "outputs": [],
   "source": [
    "def plotLightCurvesSeparatedBandsWithErrors(tb, title, subtitle, deltaylim = 0.5,magName = \"psfFluxMag\",figname=None):\n",
    "    \"\"\"\n",
    "    Plot light curves per band with error bars, horizontal lines at clipped mean ±0.01 mag,\n",
    "    and y-limits set to mean ±1 mag.\n",
    "\n",
    "    Parameters\n",
    "    ----------\n",
    "    tb : dict-like\n",
    "        Dictionnaire contenant les données de courbe de lumière par bande.\n",
    "        Chaque élément tb[band] doit avoir les colonnes 'mjd', 'mags' et 'magerr'.\n",
    "    title : str\n",
    "        Titre principal du graphe.\n",
    "    subtitle : str\n",
    "        Sous-titre du graphe (utilisé comme suptitle).\n",
    "    magName = \"psfFluxMag\"\n",
    "    figname : str or None\n",
    "        Si spécifié, sauvegarde la figure dans ce fichier.\n",
    "    \"\"\"\n",
    "    fig, axs = plt.subplots(6, 1, figsize=(18, 16), sharex=True, layout=\"constrained\")\n",
    "\n",
    "\n",
    "    stats_per_band = {}  # ou [] si tu préfères construire une liste de dicts\n",
    "    for idx, band in enumerate(all_bands):\n",
    "        ax = axs[idx]\n",
    "        label = f\"band {band}\"\n",
    "        \n",
    "        # Données\n",
    "        mjd = tb[band].mjd\n",
    "        #mags = tb[band].mags\n",
    "        #magerr = tb[band].magerr\n",
    "        mags = tb[band][magName]\n",
    "        magerr = tb[band][magName + \"Err\"]\n",
    "\n",
    "        \n",
    "        \n",
    "        # Moyenne sigma-clippée\n",
    "        allmags = mags[~np.isnan(mags)]\n",
    "        mean, median, std = sigma_clipped_stats(allmags, sigma=3.0, maxiters=5)\n",
    "\n",
    "        stats_per_band[band] = {\n",
    "            \"mean\": mean,\n",
    "            \"median\": median,\n",
    "            \"sigma\": std\n",
    "        }\n",
    "\n",
    "        # Ajouter un encadré avec les statistiques\n",
    "        stats_text = f\"mean = {mean:.1f} mag \\nmedian = {median:.1f} mag \\nσ = {std:.3f} mag\"\n",
    "        ax.text(\n",
    "            0.02, 0.05,\n",
    "            stats_text,\n",
    "            transform=ax.transAxes,\n",
    "            fontsize=12,\n",
    "            verticalalignment='bottom',\n",
    "            horizontalalignment='left',\n",
    "            bbox=dict(facecolor='white', alpha=0.8, edgecolor='gray')\n",
    "        )\n",
    "\n",
    "        \n",
    "        \n",
    "        # Tracé avec barres d'erreur\n",
    "        ax.errorbar(\n",
    "            mjd,\n",
    "            mags,\n",
    "            yerr=magerr,\n",
    "            fmt=\"o\",\n",
    "            color=all_bands_colors[idx],\n",
    "            label=label,\n",
    "            markersize=7,\n",
    "            capsize=3\n",
    "        )\n",
    "        \n",
    "        # Lignes horizontales\n",
    "        ax.axhline(mean, color=\"gray\", linestyle=\"--\", linewidth=1.5, label=\"clipped mean\")\n",
    "        ax.axhline(mean + 0.01, color=\"gray\", linestyle=\":\", linewidth=1.0, label=\"+/- 10 mmag\")\n",
    "        ax.axhline(mean - 0.01, color=\"gray\", linestyle=\":\", linewidth=1.0)\n",
    "        \n",
    "        # Limites y : +/- 1 mag autour de la moyenne\n",
    "        ax.set_ylim(mean - deltaylim, mean + deltaylim)  # inversé car l'axe y est inversé pour les magnitudes\n",
    "        #ax.set_ylabel(magName + \" (mag)\")\n",
    "        ax.set_ylabel(magName)\n",
    "\n",
    "        \n",
    "        ax.invert_yaxis()\n",
    "        #ax.legend(loc=\"upper left\")\n",
    "        ax.legend(loc='center left', bbox_to_anchor=(1.02, 0.5), title=\"Bands\")\n",
    "        \n",
    "        if idx == 0:\n",
    "            ax.set_title(title, fontweight=\"bold\")\n",
    "\n",
    "    stats_df = pd.DataFrame.from_dict(stats_per_band, orient='index')\n",
    "    stats_df.index.name = \"band\"\n",
    "    \n",
    "    ax.set_xlabel(\"mjd\")\n",
    "    plt.suptitle(subtitle)\n",
    "\n",
    "    if figname is not None:\n",
    "        plt.savefig(figname)\n",
    "    plt.show()\n",
    "    return stats_df\n"
   ]
  },
  {
   "cell_type": "markdown",
   "id": "7e369002-01db-40e2-a7b7-036072114e6a",
   "metadata": {},
   "source": [
    "## RubinTV, Campaigns , quicklook\n",
    "- RubinTV : https://usdf-rsp.slac.stanford.edu/rubintv/summit-usdf/lsstcam\n",
    "- https://rubinobs.atlassian.net/wiki/spaces/LSSTCOM/pages/467370016/LSSTCam+Commissioning+Planning\n",
    "- LSSTCam DM campaign : https://rubinobs.atlassian.net/wiki/spaces/DM/pages/48834013/Campaigns#1.1.2.-LSSTCam-Nightly-Validation-Pipeline\n",
    "- Check campaign also here  https://rubinobs.atlassian.net/wiki/pages/diffpagesbyversion.action?pageId=48834013&selectedPageVersions=145%2C143\n",
    "- fov-quicklook : https://usdf-rsp-dev.slac.stanford.edu/fov-quicklook/"
   ]
  },
  {
   "cell_type": "markdown",
   "id": "4ce495c8-71a6-4846-86fc-5715e13348ab",
   "metadata": {},
   "source": [
    "## Configuration"
   ]
  },
  {
   "cell_type": "markdown",
   "id": "29bdd60b-f237-4a90-8aee-95f83091a5c8",
   "metadata": {},
   "source": [
    "### Choose instrument"
   ]
  },
  {
   "cell_type": "code",
   "execution_count": null,
   "id": "66ff700b-a6ab-4b6d-ab28-dfadf54fdd9f",
   "metadata": {
    "execution": {
     "iopub.execute_input": "2025-06-06T15:33:06.563827Z",
     "iopub.status.busy": "2025-06-06T15:33:06.563701Z",
     "iopub.status.idle": "2025-06-06T15:33:06.569975Z",
     "shell.execute_reply": "2025-06-06T15:33:06.569586Z",
     "shell.execute_reply.started": "2025-06-06T15:33:06.563815Z"
    }
   },
   "outputs": [],
   "source": [
    "# instrument = \"LSSTCam\"\n",
    "instrument = \"LSSTComCam\"\n",
    "# instrument = \"LATISS\""
   ]
  },
  {
   "cell_type": "markdown",
   "id": "6d0c9a3d-a12b-424a-9aed-1d1309179e07",
   "metadata": {},
   "source": [
    "### For LSSTCam : RubinTV, Campaigns , quicklook\n",
    "- RubinTV : https://usdf-rsp.slac.stanford.edu/rubintv/summit-usdf/lsstcam\n",
    "- https://rubinobs.atlassian.net/wiki/spaces/LSSTCOM/pages/467370016/LSSTCam+Commissioning+Planning\n",
    "- LSSTCam DM campaign : https://rubinobs.atlassian.net/wiki/spaces/DM/pages/48834013/Campaigns#1.1.2.-LSSTCam-Nightly-Validation-Pipeline\n",
    "- Check campaign also here  https://rubinobs.atlassian.net/wiki/pages/diffpagesbyversion.action?pageId=48834013&selectedPageVersions=145%2C143\n",
    "- fov-quicklook : https://usdf-rsp-dev.slac.stanford.edu/fov-quicklook/"
   ]
  },
  {
   "cell_type": "markdown",
   "id": "5542de7d-695e-4256-b765-28b902b02adc",
   "metadata": {},
   "source": [
    "### For LSSTComCam check here : \n",
    "- - Check here the collection available : https://rubinobs.atlassian.net/wiki/spaces/DM/pages/226656354/LSSTComCam+Intermittent+Cumulative+DRP+Runs"
   ]
  },
  {
   "cell_type": "code",
   "execution_count": null,
   "id": "eacb14b0-183c-4dcd-ba59-64c7ca3efcd3",
   "metadata": {
    "execution": {
     "iopub.execute_input": "2025-06-06T15:33:06.570518Z",
     "iopub.status.busy": "2025-06-06T15:33:06.570389Z",
     "iopub.status.idle": "2025-06-06T15:33:06.577708Z",
     "shell.execute_reply": "2025-06-06T15:33:06.577342Z",
     "shell.execute_reply.started": "2025-06-06T15:33:06.570500Z"
    }
   },
   "outputs": [],
   "source": [
    "if instrument == \"LSSTCam\":\n",
    "    repo = \"/repo/embargo\"\n",
    "    instrument = \"LSSTCam\"\n",
    "    collection_validation = instrument + \"/runs/nightlyValidation\"\n",
    "    # collection_quicklook   = instrument + '/runs/quickLookTesting'\n",
    "    collection_validation = os.path.join(collection_validation, \"20250416/d_2025_04_15/DM-50157\")\n",
    "    date_start = 20250415\n",
    "    date_selection = 20250416\n",
    "    where_clause = \"instrument = '\" + f\"{instrument}\" + \"'\"\n",
    "    where_clause_date = where_clause + f\"and day_obs >= {date_start}\"\n",
    "    skymapName = \"lsst_cells_v1\"\n",
    "\n",
    "elif instrument == \"LSSTComCam\":\n",
    "    repo = \"/repo/main\"\n",
    "    collection_validation = \"LSSTComCam/runs/DRP/DP1/w_2025_10/DM-49359\"  # work\n",
    "    date_start = 20241024\n",
    "    date_selection = 20241211\n",
    "    skymapName = \"lsst_cells_v1\"\n",
    "    where_clause = \"instrument = \\'\" + instrument+ \"\\'\"\n",
    "    where_clause_date = where_clause + f\"and day_obs >= {date_start}\"\n",
    "\n",
    "    NDET = 9\n",
    "    TRACTSEL = 5063\n",
    "    PATCHSEL = 14\n",
    "    BANDSEL = \"g\"\n",
    "\n",
    "elif instrument == \"LSSTComCamSim\":\n",
    "    repo = \"/repo/main\"\n",
    "    collection_validation = \"LSSTComCamSim/*\"  # work\n",
    "    date_start = 20241024\n",
    "    date_selection = 20241211\n",
    "    skymapName = \"ops_rehersal_prep_2k_v1\"\n",
    "    where_clause = \"instrument = '\" + instrument + \"'\"\n",
    "    where_clause_date = where_clause + f\"and day_obs >= {date_start}\"\n",
    "\n",
    "    NDET = 9\n",
    "    TRACTSEL = 5063\n",
    "\n",
    "elif instrument == \"LATISS\":\n",
    "    repo = \"/repo/main\"\n",
    "    # collection_validation = instrument + \"/runs/quickLook\"\n",
    "    collection_validation = instrument + \"/raw/all\"\n",
    "    date_start = 20221001\n",
    "    date_selection = 20221001\n",
    "    skymapName = \"latiss_v1\"\n",
    "    where_clause = \"instrument = '\" + instrument + \"'\"\n",
    "    where_clause_date = where_clause + f\"and day_obs >= {date_start}\"\n",
    "\n",
    "    NDET = 9\n",
    "    TRACTSEL = 5063"
   ]
  },
  {
   "cell_type": "code",
   "execution_count": null,
   "id": "82535307-9253-4f06-b82a-956efd0217c9",
   "metadata": {
    "execution": {
     "iopub.execute_input": "2025-06-06T15:33:06.581635Z",
     "iopub.status.busy": "2025-06-06T15:33:06.581500Z",
     "iopub.status.idle": "2025-06-06T15:33:06.584652Z",
     "shell.execute_reply": "2025-06-06T15:33:06.584310Z",
     "shell.execute_reply.started": "2025-06-06T15:33:06.581624Z"
    }
   },
   "outputs": [],
   "source": [
    "collectionStr = collection_validation.replace(\"/\", \"_\")"
   ]
  },
  {
   "cell_type": "markdown",
   "id": "e77a39ca-c34f-4097-8a11-c40a121a82e9",
   "metadata": {},
   "source": [
    "## Access to Butler registry"
   ]
  },
  {
   "cell_type": "code",
   "execution_count": null,
   "id": "8726b7e4-94b7-48ac-92f8-447b34b7a59e",
   "metadata": {
    "execution": {
     "iopub.execute_input": "2025-06-06T15:33:06.585310Z",
     "iopub.status.busy": "2025-06-06T15:33:06.585071Z",
     "iopub.status.idle": "2025-06-06T15:33:07.005864Z",
     "shell.execute_reply": "2025-06-06T15:33:07.005311Z",
     "shell.execute_reply.started": "2025-06-06T15:33:06.585297Z"
    }
   },
   "outputs": [],
   "source": [
    "# Initialize the butler repo:\n",
    "butler = Butler(repo, collections=collection_validation)\n",
    "registry = butler.registry"
   ]
  },
  {
   "cell_type": "markdown",
   "id": "a82d1397-cd01-45d3-9f39-8b4f6bcbb21f",
   "metadata": {},
   "source": [
    "## Create a skymap object"
   ]
  },
  {
   "cell_type": "code",
   "execution_count": null,
   "id": "2a570834-a5dc-43b8-a0d3-af71a5b2706c",
   "metadata": {
    "execution": {
     "iopub.execute_input": "2025-06-06T15:33:07.006514Z",
     "iopub.status.busy": "2025-06-06T15:33:07.006372Z",
     "iopub.status.idle": "2025-06-06T15:33:07.008893Z",
     "shell.execute_reply": "2025-06-06T15:33:07.008528Z",
     "shell.execute_reply.started": "2025-06-06T15:33:07.006492Z"
    }
   },
   "outputs": [],
   "source": [
    "# skymap = butler.get(\"skyMap\", skymap=skymapName, collections=collection_validation)"
   ]
  },
  {
   "cell_type": "code",
   "execution_count": null,
   "id": "26edbe65-22fe-4377-9ea1-ad2a270da9a9",
   "metadata": {
    "execution": {
     "iopub.execute_input": "2025-06-06T15:33:07.009488Z",
     "iopub.status.busy": "2025-06-06T15:33:07.009360Z",
     "iopub.status.idle": "2025-06-06T15:33:07.377871Z",
     "shell.execute_reply": "2025-06-06T15:33:07.377344Z",
     "shell.execute_reply.started": "2025-06-06T15:33:07.009476Z"
    }
   },
   "outputs": [],
   "source": [
    "try:\n",
    "    skymap = butler.get(\"skyMap\", skymap=skymapName, collections=collection_validation)\n",
    "except Exception as inst:\n",
    "    print(type(inst))  # the exception type\n",
    "    print(inst.args)  # arguments stored in .args\n",
    "    print(inst)  # __str__ allows args to be printed directly,"
   ]
  },
  {
   "cell_type": "code",
   "execution_count": null,
   "id": "1d05a4bb-a090-442a-8c28-1245ec463ba6",
   "metadata": {
    "execution": {
     "iopub.execute_input": "2025-06-06T15:33:07.378548Z",
     "iopub.status.busy": "2025-06-06T15:33:07.378408Z",
     "iopub.status.idle": "2025-06-06T15:33:07.613221Z",
     "shell.execute_reply": "2025-06-06T15:33:07.612714Z",
     "shell.execute_reply.started": "2025-06-06T15:33:07.378535Z"
    }
   },
   "outputs": [],
   "source": [
    "camera = butler.get(\"camera\", collections=collection_validation, instrument=instrument)"
   ]
  },
  {
   "cell_type": "markdown",
   "id": "a70c8618-a3ca-4c9e-a97d-7ab848c4df85",
   "metadata": {},
   "source": [
    "## Dump registry into a pandas dataframe\n",
    "\n",
    "- Faster method to decode the registry in pandas dataframe : first save deconded filed into a list of fields and then flush the whole list in pandas instead of row by row\n",
    "- Be carefull the registry variable change in name and type perhaps depending on DM_version"
   ]
  },
  {
   "cell_type": "code",
   "execution_count": null,
   "id": "55d0f624-5a74-4a58-af6d-bb0d025d9a97",
   "metadata": {
    "execution": {
     "iopub.execute_input": "2025-06-06T15:33:07.614005Z",
     "iopub.status.busy": "2025-06-06T15:33:07.613860Z",
     "iopub.status.idle": "2025-06-06T15:33:07.616513Z",
     "shell.execute_reply": "2025-06-06T15:33:07.616140Z",
     "shell.execute_reply.started": "2025-06-06T15:33:07.613992Z"
    }
   },
   "outputs": [],
   "source": [
    "print(where_clause_date)"
   ]
  },
  {
   "cell_type": "code",
   "execution_count": null,
   "id": "7fb3f33e-6325-4610-aeb5-b4c8c3372e41",
   "metadata": {
    "execution": {
     "iopub.execute_input": "2025-06-06T15:33:07.617145Z",
     "iopub.status.busy": "2025-06-06T15:33:07.617014Z",
     "iopub.status.idle": "2025-06-06T15:33:07.623369Z",
     "shell.execute_reply": "2025-06-06T15:33:07.622971Z",
     "shell.execute_reply.started": "2025-06-06T15:33:07.617133Z"
    }
   },
   "outputs": [],
   "source": [
    "columns = [\n",
    "    \"id\",\n",
    "    \"obs_id\",\n",
    "    \"day_obs\",\n",
    "    \"seq_num\",\n",
    "    \"time_start\",\n",
    "    \"time_end\",\n",
    "    \"type\",\n",
    "    \"target\",\n",
    "    \"filter\",\n",
    "    \"zenith_angle\",\n",
    "    \"expos\",\n",
    "    \"ra\",\n",
    "    \"dec\",\n",
    "    \"skyangle\",\n",
    "    \"azimuth\",\n",
    "    \"zenith\",\n",
    "    \"science_program\",\n",
    "    \"jd\",\n",
    "    \"mjd\",\n",
    "]"
   ]
  },
  {
   "cell_type": "code",
   "execution_count": null,
   "id": "9a7e84e4-408f-4287-bddf-a366d0c0091c",
   "metadata": {
    "execution": {
     "iopub.execute_input": "2025-06-06T15:33:07.624033Z",
     "iopub.status.busy": "2025-06-06T15:33:07.623901Z",
     "iopub.status.idle": "2025-06-06T15:33:07.634869Z",
     "shell.execute_reply": "2025-06-06T15:33:07.634352Z",
     "shell.execute_reply.started": "2025-06-06T15:33:07.624021Z"
    }
   },
   "outputs": [],
   "source": [
    "df_exposure = pd.DataFrame(\n",
    "    {\n",
    "        \"id\": pd.Series(dtype=\"int\"),\n",
    "        \"obs_id\": pd.Series(dtype=\"int\"),\n",
    "        \"day_obs\": pd.Series(dtype=\"int\"),\n",
    "        \"seq_num\": pd.Series(dtype=\"int\"),\n",
    "        \"time_start\": pd.Series(dtype=\"str\"),  # ou 'datetime64[ns]' si c’est un datetime\n",
    "        \"time_end\": pd.Series(dtype=\"str\"),  # idem\n",
    "        \"type\": pd.Series(dtype=\"str\"),\n",
    "        \"target\": pd.Series(dtype=\"str\"),\n",
    "        \"filter\": pd.Series(dtype=\"str\"),\n",
    "        \"zenith_angle\": pd.Series(dtype=\"float\"),\n",
    "        \"expos\": pd.Series(dtype=\"float\"),  # ou 'int' selon le cas\n",
    "        \"ra\": pd.Series(dtype=\"float\"),\n",
    "        \"dec\": pd.Series(dtype=\"float\"),\n",
    "        \"skyangle\": pd.Series(dtype=\"float\"),\n",
    "        \"azimuth\": pd.Series(dtype=\"float\"),\n",
    "        \"zenith\": pd.Series(dtype=\"float\"),\n",
    "        \"science_program\": pd.Series(dtype=\"str\"),\n",
    "        \"jd\": pd.Series(dtype=\"float\"),\n",
    "        \"mjd\": pd.Series(dtype=\"float\"),\n",
    "    }\n",
    ")"
   ]
  },
  {
   "cell_type": "code",
   "execution_count": null,
   "id": "655e7d53-a2c3-40d7-9cb7-2cb451a6c4f4",
   "metadata": {
    "execution": {
     "iopub.execute_input": "2025-06-06T15:33:07.635547Z",
     "iopub.status.busy": "2025-06-06T15:33:07.635407Z",
     "iopub.status.idle": "2025-06-06T15:33:16.093752Z",
     "shell.execute_reply": "2025-06-06T15:33:16.093230Z",
     "shell.execute_reply.started": "2025-06-06T15:33:07.635535Z"
    }
   },
   "outputs": [],
   "source": [
    "# save the data array in rows before saving in pandas dataframe\n",
    "rows = []\n",
    "for count, info in enumerate(registry.queryDimensionRecords(\"exposure\", where=where_clause_date)):\n",
    "    try:\n",
    "        jd_start = info.timespan.begin.value\n",
    "        jd_end = info.timespan.end.value\n",
    "        the_Time_start = Time(jd_start, format=\"jd\", scale=\"utc\")\n",
    "        the_Time_end = Time(jd_end, format=\"jd\", scale=\"utc\")\n",
    "        mjd_start = the_Time_start.mjd\n",
    "        mjd_end = the_Time_end.mjd\n",
    "        isot_start = the_Time_start.isot\n",
    "        isot_end = the_Time_end.isot\n",
    "\n",
    "        if count == 0:\n",
    "            print(\"===== Time Conversion Debug Info =====\")\n",
    "            print(f\"JD start      : {jd_start} (type: {type(jd_start)})\")\n",
    "            print(f\"JD end        : {jd_end} (type: {type(jd_end)})\")\n",
    "            print(f\"MJD start     : {mjd_start} (type: {type(mjd_start)})\")\n",
    "            print(f\"MJD end       : {mjd_end} (type: {type(mjd_end)})\")\n",
    "            print(f\"ISOT start    : {isot_start} (type: {type(isot_start)})\")\n",
    "            print(f\"ISOT end      : {isot_end} (type: {type(isot_end)})\")\n",
    "            print(\"=======================================\")\n",
    "\n",
    "        # put row in a dictionnary before stacking\n",
    "        row = {\n",
    "            \"id\": info.id,\n",
    "            \"obs_id\": info.obs_id,\n",
    "            \"day_obs\": info.day_obs,\n",
    "            \"seq_num\": info.seq_num,\n",
    "            \"time_start\": isot_start,\n",
    "            \"time_end\": isot_end,\n",
    "            \"type\": info.observation_type,\n",
    "            \"target\": info.target_name,\n",
    "            \"filter\": info.physical_filter,\n",
    "            \"zenith_angle\": info.zenith_angle,\n",
    "            \"expos\": info.exposure_time,  # Exemple : adapter selon ton objet\n",
    "            \"ra\": info.tracking_ra,\n",
    "            \"dec\": info.tracking_dec,\n",
    "            \"skyangle\": info.sky_angle,\n",
    "            \"azimuth\": info.azimuth,\n",
    "            \"zenith\": info.zenith_angle,\n",
    "            \"science_program\": info.science_program,\n",
    "            \"jd\": float(jd_start),\n",
    "            \"mjd\": float(mjd_start),\n",
    "        }\n",
    "        rows.append(row)\n",
    "\n",
    "    except ValueError as e:\n",
    "        print(f\"Erreur de valeur : {e}\")\n",
    "    except FileNotFoundError as e:\n",
    "        print(f\"Fichier introuvable : {e}\")\n",
    "    except Exception as e:\n",
    "        print(f\"Erreur inattendue : {type(e).__name__} - {e}\")\n",
    "        print(f\">>>   Unexpected error at row {count}:\", sys.exc_info()[0])\n",
    "        traceback.print_exc()  # affiche la stack trace complète"
   ]
  },
  {
   "cell_type": "code",
   "execution_count": null,
   "id": "e8085e8c-c771-43f9-9e29-d42885493e88",
   "metadata": {
    "execution": {
     "iopub.execute_input": "2025-06-06T15:33:16.094610Z",
     "iopub.status.busy": "2025-06-06T15:33:16.094343Z",
     "iopub.status.idle": "2025-06-06T15:33:16.136807Z",
     "shell.execute_reply": "2025-06-06T15:33:16.136263Z",
     "shell.execute_reply.started": "2025-06-06T15:33:16.094591Z"
    }
   },
   "outputs": [],
   "source": [
    "# Création finale du DataFrame\n",
    "df_exposure = pd.DataFrame(rows)"
   ]
  },
  {
   "cell_type": "code",
   "execution_count": null,
   "id": "c9c0acb5-6827-411d-ae6f-e71fb7bd9974",
   "metadata": {
    "execution": {
     "iopub.execute_input": "2025-06-06T15:33:16.137531Z",
     "iopub.status.busy": "2025-06-06T15:33:16.137367Z",
     "iopub.status.idle": "2025-06-06T15:33:16.151558Z",
     "shell.execute_reply": "2025-06-06T15:33:16.151172Z",
     "shell.execute_reply.started": "2025-06-06T15:33:16.137514Z"
    }
   },
   "outputs": [],
   "source": [
    "df_exposure"
   ]
  },
  {
   "cell_type": "code",
   "execution_count": null,
   "id": "55855b74-0407-41b7-a4c2-623d6c4898ed",
   "metadata": {
    "execution": {
     "iopub.execute_input": "2025-06-06T15:33:16.152274Z",
     "iopub.status.busy": "2025-06-06T15:33:16.152131Z",
     "iopub.status.idle": "2025-06-06T15:33:16.154131Z",
     "shell.execute_reply": "2025-06-06T15:33:16.153767Z",
     "shell.execute_reply.started": "2025-06-06T15:33:16.152259Z"
    }
   },
   "outputs": [],
   "source": [
    "# df_exposure = df_exposure.astype({\"id\": int,'day_obs': int,'seq_num':int})"
   ]
  },
  {
   "cell_type": "markdown",
   "id": "57fbfb69-c000-4264-87d5-ea498c5d8150",
   "metadata": {},
   "source": [
    "## Select science exposures"
   ]
  },
  {
   "cell_type": "code",
   "execution_count": null,
   "id": "bf35edd5-74e0-40c1-a641-69b85dd843f1",
   "metadata": {
    "execution": {
     "iopub.execute_input": "2025-06-06T15:33:16.154883Z",
     "iopub.status.busy": "2025-06-06T15:33:16.154618Z",
     "iopub.status.idle": "2025-06-06T15:33:16.163133Z",
     "shell.execute_reply": "2025-06-06T15:33:16.162738Z",
     "shell.execute_reply.started": "2025-06-06T15:33:16.154868Z"
    }
   },
   "outputs": [],
   "source": [
    "df_science = df_exposure[df_exposure.type == \"science\"]\n",
    "df_science.reset_index(drop=True, inplace=True)"
   ]
  },
  {
   "cell_type": "markdown",
   "id": "116e56be-d4de-49fe-93d4-133cf21d1b06",
   "metadata": {},
   "source": [
    "## Add Tract-Patches"
   ]
  },
  {
   "cell_type": "code",
   "execution_count": null,
   "id": "9097e89e-b006-40fa-866a-deca00ed57f1",
   "metadata": {
    "execution": {
     "iopub.execute_input": "2025-06-06T15:33:16.163758Z",
     "iopub.status.busy": "2025-06-06T15:33:16.163613Z",
     "iopub.status.idle": "2025-06-06T15:33:16.179857Z",
     "shell.execute_reply": "2025-06-06T15:33:16.179451Z",
     "shell.execute_reply.started": "2025-06-06T15:33:16.163744Z"
    }
   },
   "outputs": [],
   "source": [
    "df=df_science.copy()\n",
    "df[\"band\"] = df[\"filter\"].apply(lambda x : x.split(\"_\")[0])"
   ]
  },
  {
   "cell_type": "code",
   "execution_count": null,
   "id": "f9b2b2c4-d0ca-4ba9-af11-9146d1145065",
   "metadata": {
    "execution": {
     "iopub.execute_input": "2025-06-06T15:33:16.180710Z",
     "iopub.status.busy": "2025-06-06T15:33:16.180309Z",
     "iopub.status.idle": "2025-06-06T15:33:16.186855Z",
     "shell.execute_reply": "2025-06-06T15:33:16.186389Z",
     "shell.execute_reply.started": "2025-06-06T15:33:16.180694Z"
    }
   },
   "outputs": [],
   "source": [
    "#df_with_tract_patch = add_tract_patch(df, butler)"
   ]
  },
  {
   "cell_type": "code",
   "execution_count": null,
   "id": "9c502d20-2a4f-4997-b8f2-962e441d6cb7",
   "metadata": {
    "execution": {
     "iopub.execute_input": "2025-06-06T15:33:16.187472Z",
     "iopub.status.busy": "2025-06-06T15:33:16.187331Z",
     "iopub.status.idle": "2025-06-06T15:33:16.195631Z",
     "shell.execute_reply": "2025-06-06T15:33:16.195244Z",
     "shell.execute_reply.started": "2025-06-06T15:33:16.187458Z"
    }
   },
   "outputs": [],
   "source": [
    "def get_tract_patch(row, skymap):\n",
    "    if pd.isna(row['ra']) or pd.isna(row['dec']):\n",
    "        return pd.Series({\"tract\": None, \"patch\": None})\n",
    "    \n",
    "    target_point = SpherePoint(row['ra'], row['dec'], degrees)\n",
    "\n",
    "    tract_info = skymap.findTract(target_point)\n",
    "    patch_info = tract_info.findPatch(target_point)\n",
    "    tractNbSel = tract_info.getId()\n",
    "    patchNbSel =  patch_info.getSequentialIndex()\n",
    "    patch_index_str = f\"{patch_info.getIndex()[0]},{patch_info.getIndex()[1]}\"\n",
    "   \n",
    "    \n",
    "    return pd.Series({\"tract\":   tractNbSel, \"patch\":  patchNbSel, \"patch_str\": patch_index_str})\n"
   ]
  },
  {
   "cell_type": "code",
   "execution_count": null,
   "id": "033b645b-ef29-4f3a-b0f0-6d906ee8970c",
   "metadata": {
    "execution": {
     "iopub.execute_input": "2025-06-06T15:33:16.196192Z",
     "iopub.status.busy": "2025-06-06T15:33:16.196059Z",
     "iopub.status.idle": "2025-06-06T15:33:16.735158Z",
     "shell.execute_reply": "2025-06-06T15:33:16.734608Z",
     "shell.execute_reply.started": "2025-06-06T15:33:16.196178Z"
    }
   },
   "outputs": [],
   "source": [
    "df = df.copy()\n",
    "df[['tract', 'patch', \"patch_str\"]] = df.apply(get_tract_patch, axis=1, args=(skymap,))"
   ]
  },
  {
   "cell_type": "code",
   "execution_count": null,
   "id": "05048d62-0fd8-4fa1-bd00-4b195e9e09bc",
   "metadata": {
    "execution": {
     "iopub.execute_input": "2025-06-06T15:33:16.735945Z",
     "iopub.status.busy": "2025-06-06T15:33:16.735788Z",
     "iopub.status.idle": "2025-06-06T15:33:16.751963Z",
     "shell.execute_reply": "2025-06-06T15:33:16.751268Z",
     "shell.execute_reply.started": "2025-06-06T15:33:16.735928Z"
    }
   },
   "outputs": [],
   "source": [
    "df"
   ]
  },
  {
   "cell_type": "markdown",
   "id": "e56c4145-85aa-4b7a-ab3f-f91f37ddcbe8",
   "metadata": {},
   "source": [
    "## Plots histograms with the number of visits and time sequences"
   ]
  },
  {
   "cell_type": "markdown",
   "id": "28979490-8797-45b6-a144-7a62ea9b7ea8",
   "metadata": {},
   "source": [
    "### Visits grouped by tract and target field"
   ]
  },
  {
   "cell_type": "code",
   "execution_count": null,
   "id": "bf7a731c-ff8c-4178-9a90-c4f33d8c2cda",
   "metadata": {
    "execution": {
     "iopub.execute_input": "2025-06-06T15:33:16.752893Z",
     "iopub.status.busy": "2025-06-06T15:33:16.752647Z",
     "iopub.status.idle": "2025-06-06T15:33:16.763939Z",
     "shell.execute_reply": "2025-06-06T15:33:16.763467Z",
     "shell.execute_reply.started": "2025-06-06T15:33:16.752859Z"
    }
   },
   "outputs": [],
   "source": [
    "# 1. Trier le DataFrame par numéro de tract\n",
    "df = df.sort_values(\"tract\")\n",
    "# 2. Créer la colonne tag après le tri\n",
    "df[\"tag\"] = df[\"tract\"].astype(str) + \"_\" + df[\"target\"]\n",
    "# 3. Grouper par tag et band, et compter\n",
    "grouped_tag = df.groupby(['tag', 'band']).size().reset_index(name='count')\n",
    "# 4. Définir l'ordre des tags selon l'ordre dans df trié\n",
    "tag_order = df[\"tag\"].drop_duplicates().tolist()"
   ]
  },
  {
   "cell_type": "code",
   "execution_count": null,
   "id": "8ad23435-5269-4a93-b117-96332bdbca34",
   "metadata": {
    "execution": {
     "iopub.execute_input": "2025-06-06T15:33:16.764958Z",
     "iopub.status.busy": "2025-06-06T15:33:16.764596Z",
     "iopub.status.idle": "2025-06-06T15:33:16.767231Z",
     "shell.execute_reply": "2025-06-06T15:33:16.766851Z",
     "shell.execute_reply.started": "2025-06-06T15:33:16.764942Z"
    }
   },
   "outputs": [],
   "source": [
    "# Forcer l'ordre des bandes\n",
    "band_order = ['u', 'g', 'r', 'i', 'z', 'y']\n",
    "color_map = {\n",
    "    'u': 'blue',\n",
    "    'g': 'green',\n",
    "    'r': 'red',\n",
    "    'i': 'orange',\n",
    "    'z': 'gray',\n",
    "    'y': 'black'\n",
    "}"
   ]
  },
  {
   "cell_type": "code",
   "execution_count": null,
   "id": "a376c4e9-f8ea-4d94-9f35-966a007624d4",
   "metadata": {
    "execution": {
     "iopub.execute_input": "2025-06-06T15:33:16.767915Z",
     "iopub.status.busy": "2025-06-06T15:33:16.767772Z",
     "iopub.status.idle": "2025-06-06T15:33:17.417168Z",
     "shell.execute_reply": "2025-06-06T15:33:17.416622Z",
     "shell.execute_reply.started": "2025-06-06T15:33:16.767901Z"
    }
   },
   "outputs": [],
   "source": [
    "# 6. Tracer le barplot\n",
    "plt.figure(figsize=(20, 8))\n",
    "sns.barplot(\n",
    "    data=grouped_tag,\n",
    "    x='tag',\n",
    "    y='count',\n",
    "    hue='band',\n",
    "    hue_order=band_order,\n",
    "    palette=color_map,\n",
    "    order=tag_order  # ordre des tags triés par tract\n",
    ")\n",
    "\n",
    "plt.xlabel(\"Visited fields / tract\")\n",
    "plt.ylabel(\"Number of visits per band\")\n",
    "plt.title(\"Number of visits per band in each tract\",fontsize=20,fontweight=\"bold\")\n",
    "plt.xticks(rotation=45, ha='right')\n",
    "plt.legend(title=\"Band\")\n",
    "plt.tight_layout()\n",
    "plt.show()"
   ]
  },
  {
   "cell_type": "code",
   "execution_count": null,
   "id": "37335bf2-c6ba-4a31-8b45-e07c24691b6c",
   "metadata": {
    "execution": {
     "iopub.execute_input": "2025-06-06T15:33:17.418219Z",
     "iopub.status.busy": "2025-06-06T15:33:17.417986Z",
     "iopub.status.idle": "2025-06-06T15:33:18.044129Z",
     "shell.execute_reply": "2025-06-06T15:33:18.043674Z",
     "shell.execute_reply.started": "2025-06-06T15:33:17.418202Z"
    }
   },
   "outputs": [],
   "source": [
    "# 6. Tracer le barplot\n",
    "plt.figure(figsize=(8, 20))\n",
    "sns.barplot(\n",
    "    data=grouped_tag,\n",
    "    x='count',\n",
    "    y='tag',\n",
    "    hue='band',\n",
    "    hue_order=band_order,\n",
    "    palette=color_map,\n",
    "    order=tag_order  # ordre des tags triés par tract\n",
    ")\n",
    "\n",
    "plt.ylabel(\"Visited fields / tract\")\n",
    "plt.xlabel(\"Number of visits per band\")\n",
    "plt.title(\"Number of visits per band in each tract\",fontsize=20,fontweight=\"bold\")\n",
    "#plt.xticks(rotation=45, ha='right')\n",
    "plt.legend(title=\"Band\")\n",
    "plt.tight_layout()\n",
    "plt.show()"
   ]
  },
  {
   "cell_type": "markdown",
   "id": "80f00eeb-8a98-4b38-972d-5670cca13fa3",
   "metadata": {},
   "source": [
    "### Visits detailed by tract and patches"
   ]
  },
  {
   "cell_type": "code",
   "execution_count": null,
   "id": "afbb3350-938a-4962-b1a4-3e60547cf3e7",
   "metadata": {
    "execution": {
     "iopub.execute_input": "2025-06-06T15:33:18.044852Z",
     "iopub.status.busy": "2025-06-06T15:33:18.044696Z",
     "iopub.status.idle": "2025-06-06T15:33:18.050178Z",
     "shell.execute_reply": "2025-06-06T15:33:18.049722Z",
     "shell.execute_reply.started": "2025-06-06T15:33:18.044836Z"
    }
   },
   "outputs": [],
   "source": [
    "# Grouper et compter\n",
    "grouped = df.groupby(['tract', 'patch', 'band']).size().reset_index(name='count')"
   ]
  },
  {
   "cell_type": "code",
   "execution_count": null,
   "id": "0aa77260-4e8c-4f9e-927e-67f5a6777a87",
   "metadata": {
    "execution": {
     "iopub.execute_input": "2025-06-06T15:33:18.051097Z",
     "iopub.status.busy": "2025-06-06T15:33:18.050813Z",
     "iopub.status.idle": "2025-06-06T15:33:18.058805Z",
     "shell.execute_reply": "2025-06-06T15:33:18.058433Z",
     "shell.execute_reply.started": "2025-06-06T15:33:18.051081Z"
    }
   },
   "outputs": [],
   "source": [
    "#grouped['tract_patch'] = grouped['tract'].astype(str) + '_' + grouped['patch_str']\n",
    "grouped['tract_patch'] = grouped['tract'].astype(str) + '_' + grouped['patch'].astype(str)"
   ]
  },
  {
   "cell_type": "code",
   "execution_count": null,
   "id": "583f9bcc-1e7c-4668-8d56-773cb7379969",
   "metadata": {
    "execution": {
     "iopub.execute_input": "2025-06-06T15:33:18.059479Z",
     "iopub.status.busy": "2025-06-06T15:33:18.059227Z",
     "iopub.status.idle": "2025-06-06T15:33:19.525699Z",
     "shell.execute_reply": "2025-06-06T15:33:19.524925Z",
     "shell.execute_reply.started": "2025-06-06T15:33:18.059464Z"
    }
   },
   "outputs": [],
   "source": [
    "plt.figure(figsize=(18, 6))\n",
    "sns.barplot(\n",
    "    data=grouped,\n",
    "    x='tract_patch',\n",
    "    y='count',\n",
    "    hue='band',\n",
    "    hue_order=band_order,\n",
    "    palette=color_map\n",
    ")\n",
    "\n",
    "plt.xlabel(\"Tract_Patch\")\n",
    "plt.ylabel(\"Number of visits per bands\")\n",
    "plt.title(\"Number of visits per bands in each (tract, patch)\")\n",
    "plt.xticks(rotation=45, ha='right')\n",
    "plt.legend(title=\"Band\")\n",
    "plt.tight_layout()\n",
    "plt.show()"
   ]
  },
  {
   "cell_type": "code",
   "execution_count": null,
   "id": "99889351-fb49-4189-bb4c-96d1ea2a67c2",
   "metadata": {
    "execution": {
     "iopub.execute_input": "2025-06-06T15:33:19.527042Z",
     "iopub.status.busy": "2025-06-06T15:33:19.526650Z",
     "iopub.status.idle": "2025-06-06T15:33:21.298401Z",
     "shell.execute_reply": "2025-06-06T15:33:21.297895Z",
     "shell.execute_reply.started": "2025-06-06T15:33:19.527015Z"
    }
   },
   "outputs": [],
   "source": [
    "plt.figure(figsize=(10, max(6, len(grouped['tract_patch'].unique()) * 0.8)))  # Adapter la hauteur\n",
    "\n",
    "sns.barplot(\n",
    "    data=grouped,\n",
    "    y='tract_patch',  # axe Y = les (tract, patch)\n",
    "    x='count',        # axe X = nombre de visites\n",
    "    hue='band',\n",
    "    hue_order=band_order,\n",
    "    palette=color_map\n",
    ")\n",
    "\n",
    "plt.ylabel(\"Tract_Patch\")\n",
    "plt.xlabel(\"Number of visits per bands\")\n",
    "plt.title(\"Number of visits per bands in field of view (tract, patch)\")\n",
    "plt.legend(title=\"Band\", bbox_to_anchor=(1.05, 1), loc='upper left')\n",
    "plt.grid()\n",
    "plt.tight_layout()\n",
    "plt.show()\n"
   ]
  },
  {
   "cell_type": "markdown",
   "id": "ac652254-f57b-4b6b-9402-8d54e9bc745c",
   "metadata": {},
   "source": [
    "## Which (tract,patch) has the maximum number of visits in y band"
   ]
  },
  {
   "cell_type": "code",
   "execution_count": null,
   "id": "bcc89941-e3ea-4f02-a250-0d3c6c3b6221",
   "metadata": {
    "execution": {
     "iopub.execute_input": "2025-06-06T15:33:21.299225Z",
     "iopub.status.busy": "2025-06-06T15:33:21.298981Z",
     "iopub.status.idle": "2025-06-06T15:33:21.305620Z",
     "shell.execute_reply": "2025-06-06T15:33:21.305179Z",
     "shell.execute_reply.started": "2025-06-06T15:33:21.299209Z"
    }
   },
   "outputs": [],
   "source": [
    "grouped"
   ]
  },
  {
   "cell_type": "code",
   "execution_count": null,
   "id": "a2eb34b8-a352-4b2b-a6dd-bed2d6fa4c10",
   "metadata": {
    "execution": {
     "iopub.execute_input": "2025-06-06T15:33:21.306242Z",
     "iopub.status.busy": "2025-06-06T15:33:21.306106Z",
     "iopub.status.idle": "2025-06-06T15:33:21.315690Z",
     "shell.execute_reply": "2025-06-06T15:33:21.315178Z",
     "shell.execute_reply.started": "2025-06-06T15:33:21.306229Z"
    }
   },
   "outputs": [],
   "source": [
    "# Filtrer la bande 'y'\n",
    "df_y = df[df['band'] == 'y']\n",
    "\n",
    "# Grouper par tract et patch\n",
    "grouped_y = df_y.groupby(['tract', 'patch']).size().reset_index(name='count')\n",
    "\n",
    "# Trouver le max\n",
    "max_row = grouped_y.loc[grouped_y['count'].idxmax()]\n",
    "\n",
    "\n",
    "tractNbSel = max_row['tract']\n",
    "patchNbSel = max_row['patch']\n"
   ]
  },
  {
   "cell_type": "code",
   "execution_count": null,
   "id": "0effed76-9741-4975-bc99-a0d09736ca22",
   "metadata": {
    "execution": {
     "iopub.execute_input": "2025-06-06T15:33:21.316299Z",
     "iopub.status.busy": "2025-06-06T15:33:21.316161Z",
     "iopub.status.idle": "2025-06-06T15:33:21.322668Z",
     "shell.execute_reply": "2025-06-06T15:33:21.322170Z",
     "shell.execute_reply.started": "2025-06-06T15:33:21.316286Z"
    }
   },
   "outputs": [],
   "source": [
    "print(f\"Tract: {tractNbSel}, Patch: {patchNbSel}, Number of Visits in y band: {max_row['count']}\")"
   ]
  },
  {
   "cell_type": "markdown",
   "id": "ada9bd0e-951c-4cb9-a7d1-ee717d4a337f",
   "metadata": {},
   "source": [
    "## Time sequences of arrival time in selected tract-patch"
   ]
  },
  {
   "cell_type": "code",
   "execution_count": null,
   "id": "0920fec5-c7bd-4519-8d0c-5f6adc481b2d",
   "metadata": {
    "execution": {
     "iopub.execute_input": "2025-06-06T15:33:21.323263Z",
     "iopub.status.busy": "2025-06-06T15:33:21.323130Z",
     "iopub.status.idle": "2025-06-06T15:33:21.340110Z",
     "shell.execute_reply": "2025-06-06T15:33:21.339678Z",
     "shell.execute_reply.started": "2025-06-06T15:33:21.323250Z"
    }
   },
   "outputs": [],
   "source": [
    "df_sel = df[(df['tract'] == tractNbSel) & (df['patch'] == patchNbSel)]"
   ]
  },
  {
   "cell_type": "code",
   "execution_count": null,
   "id": "42bc629e-b463-49cf-9446-e1dfee2e8b8c",
   "metadata": {
    "execution": {
     "iopub.execute_input": "2025-06-06T15:33:21.340747Z",
     "iopub.status.busy": "2025-06-06T15:33:21.340603Z",
     "iopub.status.idle": "2025-06-06T15:33:21.516976Z",
     "shell.execute_reply": "2025-06-06T15:33:21.516530Z",
     "shell.execute_reply.started": "2025-06-06T15:33:21.340734Z"
    }
   },
   "outputs": [],
   "source": [
    "plt.figure(figsize=(16, 8))\n",
    "\n",
    "sns.stripplot(\n",
    "    data=df_sel,\n",
    "    x='mjd',\n",
    "    y='band',\n",
    "    hue='band',  # <- correction\n",
    "    order=band_order,\n",
    "    palette=color_map,\n",
    "    size=10,\n",
    "    alpha=0.7,\n",
    "    dodge=False,\n",
    "    legend=False  # <- évite de doubler les légendes\n",
    ")\n",
    "\n",
    "plt.xlabel(\"MJD\")\n",
    "plt.ylabel(\"Band\")\n",
    "plt.title(f\"Sequence of visits in tract={tractNbSel}, patch={patchNbSel}\")\n",
    "plt.grid(True, linestyle='--', alpha=0.5)\n",
    "plt.tight_layout()\n",
    "plt.show()\n"
   ]
  },
  {
   "cell_type": "markdown",
   "id": "7d496496-97c5-4829-bf7e-8b7c7a91a872",
   "metadata": {},
   "source": [
    "## Retrieve all Coadds"
   ]
  },
  {
   "cell_type": "code",
   "execution_count": null,
   "id": "fd64015e-972a-40c6-8941-54fb384f321e",
   "metadata": {
    "execution": {
     "iopub.execute_input": "2025-06-06T15:33:21.517656Z",
     "iopub.status.busy": "2025-06-06T15:33:21.517502Z",
     "iopub.status.idle": "2025-06-06T15:33:21.520148Z",
     "shell.execute_reply": "2025-06-06T15:33:21.519777Z",
     "shell.execute_reply.started": "2025-06-06T15:33:21.517642Z"
    }
   },
   "outputs": [],
   "source": [
    "all_dataIds = [\n",
    "    {\n",
    "        \"band\": band,\n",
    "        \"tract\": tractNbSel,\n",
    "        \"patch\": patchNbSel,\n",
    "        \"skymap\": skymapName,\n",
    "    }\n",
    "    for band in all_bands\n",
    "]"
   ]
  },
  {
   "cell_type": "code",
   "execution_count": null,
   "id": "4394696b-fa74-4058-ad45-fc3165a926a5",
   "metadata": {
    "execution": {
     "iopub.execute_input": "2025-06-06T15:33:21.520837Z",
     "iopub.status.busy": "2025-06-06T15:33:21.520708Z",
     "iopub.status.idle": "2025-06-06T15:33:38.814449Z",
     "shell.execute_reply": "2025-06-06T15:33:38.813905Z",
     "shell.execute_reply.started": "2025-06-06T15:33:21.520825Z"
    }
   },
   "outputs": [],
   "source": [
    "all_deepCoadds = []\n",
    "all_deepCoadds_wcs = []\n",
    "all_titles = []\n",
    "for idx, band in enumerate(all_bands):\n",
    "    the_band = band\n",
    "    the_dataId = all_dataIds[idx]\n",
    "    the_title = f\"({tractNbSel},{patchNbSel}) \" + f\" band {the_band}\"\n",
    "    try:\n",
    "        coadd_exp = butler.get(\"deepCoadd_calexp\", the_dataId)\n",
    "        wcs = coadd_exp.getWcs()\n",
    "        psf = coadd_exp.getPsf()\n",
    "        all_deepCoadds.append(coadd_exp)\n",
    "        all_deepCoadds_wcs.append(wcs)\n",
    "        all_titles.append(the_title)\n",
    "\n",
    "    except Exception as inst:\n",
    "        print(f\"{key} :: catch Exception for band {band}\")\n",
    "        print(type(inst))  # the exception type\n",
    "        print(inst.args)  # arguments stored in .args\n",
    "        print(inst)  # __str_"
   ]
  },
  {
   "cell_type": "markdown",
   "id": "d81ce28b-c01f-4844-a37a-417359063782",
   "metadata": {},
   "source": [
    "## Plot all Deep Coadds with Firefly"
   ]
  },
  {
   "cell_type": "code",
   "execution_count": null,
   "id": "c3f1d36b-ac9b-46d2-b031-d0fb6d733f40",
   "metadata": {
    "execution": {
     "iopub.execute_input": "2025-06-06T15:33:38.817241Z",
     "iopub.status.busy": "2025-06-06T15:33:38.816666Z",
     "iopub.status.idle": "2025-06-06T15:33:38.820641Z",
     "shell.execute_reply": "2025-06-06T15:33:38.820246Z",
     "shell.execute_reply.started": "2025-06-06T15:33:38.817224Z"
    }
   },
   "outputs": [],
   "source": [
    "if 0:\n",
    "    afwDisplay.setDefaultBackend(\"firefly\")\n",
    "    N = len(all_deepCoadds)\n",
    "    for count in range(N):\n",
    "        band = all_bands[count]\n",
    "        display = afwDisplay.Display(frame=count + 1)\n",
    "        # cannot succeed to show white stars on dark sky\n",
    "        display.setImageColormap(\"gray\")\n",
    "        display.scale(\"asinh\", \"zscale\")\n",
    "        display.mtv(all_deepCoadds[count].image, title=all_titles[count])"
   ]
  },
  {
   "cell_type": "markdown",
   "id": "1bd2a7ee-8e29-47ef-acda-e95a24459777",
   "metadata": {},
   "source": [
    "### Clean"
   ]
  },
  {
   "cell_type": "code",
   "execution_count": null,
   "id": "4fb20acd-f6ad-46a3-b70c-7265222ffeb5",
   "metadata": {
    "execution": {
     "iopub.execute_input": "2025-06-06T15:33:38.821250Z",
     "iopub.status.busy": "2025-06-06T15:33:38.821109Z",
     "iopub.status.idle": "2025-06-06T15:33:38.838298Z",
     "shell.execute_reply": "2025-06-06T15:33:38.837894Z",
     "shell.execute_reply.started": "2025-06-06T15:33:38.821236Z"
    }
   },
   "outputs": [],
   "source": [
    "# display.clearViewer()"
   ]
  },
  {
   "cell_type": "markdown",
   "id": "e4a6de19-0edf-48da-b21f-cb4862152466",
   "metadata": {},
   "source": [
    "## Selecting objects for Light Curves"
   ]
  },
  {
   "cell_type": "markdown",
   "id": "a30c843c-9e54-451f-8649-8204a685179c",
   "metadata": {},
   "source": []
  },
  {
   "cell_type": "code",
   "execution_count": null,
   "id": "88bf32ce-e874-427f-af5a-becd9a437d01",
   "metadata": {
    "execution": {
     "iopub.execute_input": "2025-06-06T15:33:38.839044Z",
     "iopub.status.busy": "2025-06-06T15:33:38.838770Z",
     "iopub.status.idle": "2025-06-06T15:33:38.844640Z",
     "shell.execute_reply": "2025-06-06T15:33:38.844233Z",
     "shell.execute_reply.started": "2025-06-06T15:33:38.839029Z"
    }
   },
   "outputs": [],
   "source": [
    "FLAG_DUMP_COLLECTIONS = False\n",
    "FLAG_DUMP_DATASETS = False\n",
    "FLAG_DUMP_OBJECTSTABLECOLUMNS = False\n",
    "FLAG_CUT_OBJECTSMAG = True\n",
    "FLAG_CUT_OBJECTSSNR = True"
   ]
  },
  {
   "cell_type": "code",
   "execution_count": null,
   "id": "0a17895b-9392-4e68-89aa-11ba14326d27",
   "metadata": {
    "execution": {
     "iopub.execute_input": "2025-06-06T15:33:38.845382Z",
     "iopub.status.busy": "2025-06-06T15:33:38.845117Z",
     "iopub.status.idle": "2025-06-06T15:33:38.851832Z",
     "shell.execute_reply": "2025-06-06T15:33:38.851399Z",
     "shell.execute_reply.started": "2025-06-06T15:33:38.845368Z"
    }
   },
   "outputs": [],
   "source": [
    "# Check here the collections available\n",
    "if FLAG_DUMP_COLLECTIONS:\n",
    "    for _ in sorted(registry.queryCollections(expression=instrument + \"/*\")):\n",
    "        if \"/calib/\" not in _ and \"u/\" not in _:\n",
    "            print(_)"
   ]
  },
  {
   "cell_type": "code",
   "execution_count": null,
   "id": "bb60b46e-23d5-4a51-83da-608a41bb7721",
   "metadata": {
    "execution": {
     "iopub.execute_input": "2025-06-06T15:33:38.852537Z",
     "iopub.status.busy": "2025-06-06T15:33:38.852348Z",
     "iopub.status.idle": "2025-06-06T15:33:38.861401Z",
     "shell.execute_reply": "2025-06-06T15:33:38.860816Z",
     "shell.execute_reply.started": "2025-06-06T15:33:38.852521Z"
    }
   },
   "outputs": [],
   "source": [
    "if FLAG_DUMP_DATASETS:\n",
    "    for datasetType in registry.queryDatasetTypes():\n",
    "        if registry.queryDatasets(datasetType, collections=collection_validation).any(\n",
    "            execute=False, exact=False\n",
    "        ):\n",
    "            # Limit search results to the data products\n",
    "            if (\n",
    "                (\"_config\" not in datasetType.name)\n",
    "                and (\"_log\" not in datasetType.name)\n",
    "                and (\"_metadata\" not in datasetType.name)\n",
    "                and (\"_resource_usage\" not in datasetType.name)\n",
    "                and (\"Plot\" not in datasetType.name)\n",
    "                and (\"Metric\" not in datasetType.name)\n",
    "                and (\"metric\" not in datasetType.name)\n",
    "                and ((\"Table\" in datasetType.name) or (\"Zeropointp\" in datasetType.name) or (\"fgcm\" in datasetType.name) or (\"transm\" in datasetType.name) or (\"Transm\" in datasetType.name)\n",
    "                or (\"source\" in datasetType.name) or (\"Source\" in datasetType.name) or (\"object\" in datasetType.name) or (\"Object\" in datasetType.name))\n",
    "            ):\n",
    "                \n",
    "                print(datasetType)"
   ]
  },
  {
   "cell_type": "code",
   "execution_count": null,
   "id": "70fb58be-e654-42b8-be1a-a578075909fd",
   "metadata": {
    "execution": {
     "iopub.execute_input": "2025-06-06T15:33:38.862253Z",
     "iopub.status.busy": "2025-06-06T15:33:38.861913Z",
     "iopub.status.idle": "2025-06-06T15:33:38.872636Z",
     "shell.execute_reply": "2025-06-06T15:33:38.872247Z",
     "shell.execute_reply.started": "2025-06-06T15:33:38.862237Z"
    }
   },
   "outputs": [],
   "source": [
    "tract_info = skymap[tractNbSel]\n",
    "patch_info = tract_info.getPatchInfo(patchNbSel)"
   ]
  },
  {
   "cell_type": "code",
   "execution_count": null,
   "id": "225cd1f5-18cb-4081-b18f-f288e23a247a",
   "metadata": {
    "execution": {
     "iopub.execute_input": "2025-06-06T15:33:38.873379Z",
     "iopub.status.busy": "2025-06-06T15:33:38.873103Z",
     "iopub.status.idle": "2025-06-06T15:33:38.882308Z",
     "shell.execute_reply": "2025-06-06T15:33:38.881920Z",
     "shell.execute_reply.started": "2025-06-06T15:33:38.873363Z"
    }
   },
   "outputs": [],
   "source": [
    "# Centre du patch en pixels dans le système de coordonnées du tract\n",
    "center_pix = patch_info.getOuterBBox().getCenter()\n",
    "# Transformation en coordonnées célestes (RA/Dec)\n",
    "center_coord = tract_info.getWcs().pixelToSky(center_pix)\n",
    "# Extraire RA et Dec (en degrés)\n",
    "ra = center_coord.getRa().asDegrees()\n",
    "dec = center_coord.getDec().asDegrees()\n",
    "print(f\"Patch {patchNbSel} in Tract {tractNbSel} : center RA: {ra:.6f}, Dec: {dec:.6f}\")"
   ]
  },
  {
   "cell_type": "code",
   "execution_count": null,
   "id": "2f6bc5f6-2e52-4ad9-8067-7680ad42bdc8",
   "metadata": {
    "execution": {
     "iopub.execute_input": "2025-06-06T15:33:38.883052Z",
     "iopub.status.busy": "2025-06-06T15:33:38.882921Z",
     "iopub.status.idle": "2025-06-06T15:33:38.900766Z",
     "shell.execute_reply": "2025-06-06T15:33:38.900383Z",
     "shell.execute_reply.started": "2025-06-06T15:33:38.883040Z"
    }
   },
   "outputs": [],
   "source": [
    "df_sel"
   ]
  },
  {
   "cell_type": "code",
   "execution_count": null,
   "id": "af6e5458-ae2c-42db-bd4b-6a45cc00e606",
   "metadata": {
    "execution": {
     "iopub.execute_input": "2025-06-06T15:33:38.901376Z",
     "iopub.status.busy": "2025-06-06T15:33:38.901234Z",
     "iopub.status.idle": "2025-06-06T15:33:38.912539Z",
     "shell.execute_reply": "2025-06-06T15:33:38.911778Z",
     "shell.execute_reply.started": "2025-06-06T15:33:38.901361Z"
    }
   },
   "outputs": [],
   "source": [
    "df_sel = df_sel.copy()\n",
    "df_sel[\"tag\"] = df_sel[\"tract\"].astype(str) + \"_\" + df_sel[\"patch\"].astype(str) + \"_\" + df_sel[\"target\"]"
   ]
  },
  {
   "cell_type": "markdown",
   "id": "0a368fb4-6718-4529-8a46-56940f3b8790",
   "metadata": {},
   "source": [
    "### Select ECDFS"
   ]
  },
  {
   "cell_type": "code",
   "execution_count": null,
   "id": "f455e69d-b070-4e33-a424-9b967c688b9b",
   "metadata": {
    "execution": {
     "iopub.execute_input": "2025-06-06T15:33:38.913562Z",
     "iopub.status.busy": "2025-06-06T15:33:38.913310Z",
     "iopub.status.idle": "2025-06-06T15:33:38.930216Z",
     "shell.execute_reply": "2025-06-06T15:33:38.929826Z",
     "shell.execute_reply.started": "2025-06-06T15:33:38.913538Z"
    }
   },
   "outputs": [],
   "source": [
    "df_sel = df_sel[df_sel['target'] == \"ECDFS\"]\n",
    "df_sel"
   ]
  },
  {
   "cell_type": "markdown",
   "id": "a8a2b4ef-3455-42bf-be08-879d086a30a2",
   "metadata": {
    "execution": {
     "iopub.status.busy": "2025-06-04T18:22:01.256438Z",
     "iopub.status.idle": "2025-06-04T18:22:01.256749Z",
     "shell.execute_reply": "2025-06-04T18:22:01.256606Z",
     "shell.execute_reply.started": "2025-06-04T18:22:01.256592Z"
    }
   },
   "source": [
    "## Get visits"
   ]
  },
  {
   "cell_type": "code",
   "execution_count": null,
   "id": "82941864-d310-46f4-aac6-71bcb759c8b7",
   "metadata": {
    "execution": {
     "iopub.execute_input": "2025-06-06T15:33:38.930805Z",
     "iopub.status.busy": "2025-06-06T15:33:38.930666Z",
     "iopub.status.idle": "2025-06-06T15:33:38.933467Z",
     "shell.execute_reply": "2025-06-06T15:33:38.933058Z",
     "shell.execute_reply.started": "2025-06-06T15:33:38.930791Z"
    }
   },
   "outputs": [],
   "source": [
    "tuple_of_visits = tuple(df_sel.id)\n",
    "print(tuple_of_visits) "
   ]
  },
  {
   "cell_type": "markdown",
   "id": "14a498ad-1472-4aa7-b104-3a5e002d26cc",
   "metadata": {},
   "source": [
    "## Search in Objects Table"
   ]
  },
  {
   "cell_type": "markdown",
   "id": "9ec45ac9-faaa-4f55-bfc4-996139d85148",
   "metadata": {},
   "source": [
    "### Access to objectTable\n",
    "    DatasetType('objectTable', {skymap, tract, patch}, DataFrame"
   ]
  },
  {
   "cell_type": "code",
   "execution_count": null,
   "id": "11256a11-8942-43dd-9755-2c638157168f",
   "metadata": {
    "execution": {
     "iopub.execute_input": "2025-06-06T15:33:38.934059Z",
     "iopub.status.busy": "2025-06-06T15:33:38.933924Z",
     "iopub.status.idle": "2025-06-06T15:33:38.943081Z",
     "shell.execute_reply": "2025-06-06T15:33:38.942692Z",
     "shell.execute_reply.started": "2025-06-06T15:33:38.934044Z"
    }
   },
   "outputs": [],
   "source": [
    "datasettype = 'objectTable'\n",
    "where_clause_objects = f\"skymap = '{skymapName}' AND tract = {tractNbSel} AND patch = {patchNbSel}\"\n",
    "ra_columns = ['u_ra', 'g_ra', 'r_ra', 'i_ra', 'z_ra', 'y_ra']\n",
    "dec_columns = ['u_dec', 'g_dec', 'r_dec', 'i_dec', 'z_dec', 'y_dec']"
   ]
  },
  {
   "cell_type": "code",
   "execution_count": null,
   "id": "5760d4f5-aa14-4c95-aea2-76bbf99172bb",
   "metadata": {
    "execution": {
     "iopub.execute_input": "2025-06-06T15:33:38.943693Z",
     "iopub.status.busy": "2025-06-06T15:33:38.943554Z",
     "iopub.status.idle": "2025-06-06T15:33:39.097631Z",
     "shell.execute_reply": "2025-06-06T15:33:39.097116Z",
     "shell.execute_reply.started": "2025-06-06T15:33:38.943679Z"
    }
   },
   "outputs": [],
   "source": [
    "therefs = butler.registry.queryDatasets(\n",
    "    datasettype,\n",
    "    where=where_clause_objects,\n",
    "    collections = collection_validation,\n",
    ")\n",
    "\n",
    "listref = list(therefs)\n",
    "nref = len(listref)\n",
    "print(f\"nref = {nref}\")"
   ]
  },
  {
   "cell_type": "markdown",
   "id": "397a0968-5e66-4298-8974-fd945e5419c1",
   "metadata": {},
   "source": [
    "### Compute PSFMag"
   ]
  },
  {
   "cell_type": "code",
   "execution_count": null,
   "id": "2844fa63-2fad-4ee8-9a5f-ad1100df690e",
   "metadata": {
    "execution": {
     "iopub.execute_input": "2025-06-06T15:33:39.098405Z",
     "iopub.status.busy": "2025-06-06T15:33:39.098263Z",
     "iopub.status.idle": "2025-06-06T15:33:40.496687Z",
     "shell.execute_reply": "2025-06-06T15:33:40.496167Z",
     "shell.execute_reply.started": "2025-06-06T15:33:39.098390Z"
    }
   },
   "outputs": [],
   "source": [
    "for count,ref in enumerate(therefs):\n",
    "    the_id = ref.dataId\n",
    "    the_tract_id = the_id[\"tract\"] \n",
    "    print(the_id)\n",
    "        \n",
    "    # catalog of rubin objects (a pandas Dataframe) inside the tract\n",
    "    catalog = butler.get(ref)\n",
    "    catalog = catalog[catalog[\"patch\"] == patchNbSel] \n",
    "       \n",
    "    \n",
    "    nobjects = len(catalog)\n",
    "\n",
    "\n",
    "    # Calcul de la moyenne ligne par ligne, en ignorant les NaN\n",
    "    catalog['ra'] = catalog[ra_columns].mean(axis=1, skipna=True)\n",
    "    catalog['dec'] = catalog[dec_columns].mean(axis=1, skipna=True)\n",
    "\n",
    "    # compute magnitude AB\n",
    "    for ib,band in enumerate(all_bands):\n",
    "        id_name = \"objectId\"\n",
    "        id_parentname = \"parentObjectId\"\n",
    "        x_name = f\"{band}_centroid_x\"\n",
    "        y_name = f\"{band}_centroid_y\"\n",
    "        coord_ra_name = \"coord_ra\"\n",
    "        coord_dec_name = \"coord_dec\"\n",
    "        ra_name = f\"{band}_ra\"\n",
    "        dec_name = f\"{band}_dec\"\n",
    "        decl_name = f\"{band}_decl\"\n",
    "        raerr_name = f\"{band}_raErr\"\n",
    "        decerr_name = f\"{band}_decErr\"\n",
    "        extendedness_name = f\"{band}_extendedness\"\n",
    "        blendness_name = f\"{band}_blendedness\"\n",
    "        psfflux_name = f\"{band}_psfFlux\"\n",
    "        psffluxerr_name = f\"{band}_psfFluxErr\"\n",
    "        psfmag_name = f\"{band}_psfMag\"\n",
    "        psfmagerr_name = f\"{band}_psfMagErr\"\n",
    "        psfflux_free_name = f\"{band}_free_psfFlux\"\n",
    "            \n",
    "        catalog[psfmag_name] = catalog[psfflux_name].apply(nJy_to_ab_mag)\n",
    "        catalog[psfmagerr_name] = nJy_err_to_ab_err(catalog[psfflux_name], catalog[psffluxerr_name])\n",
    "\n",
    "\n",
    "        if band == BANDSEL:\n",
    "            psfmag_name_keep =  psfmag_name \n",
    "            psfmagerr_name_keep = psfmagerr_name \n",
    "            color_keep = all_bands_colors[ib]\n",
    "            extendedness_name_keep = extendedness_name\n",
    "            blendness_name_keep = blendness_name"
   ]
  },
  {
   "cell_type": "code",
   "execution_count": null,
   "id": "bfe5ff94-6c89-4fa8-a1f6-67ae073cf71e",
   "metadata": {
    "execution": {
     "iopub.execute_input": "2025-06-06T15:33:40.497377Z",
     "iopub.status.busy": "2025-06-06T15:33:40.497226Z",
     "iopub.status.idle": "2025-06-06T15:33:40.499806Z",
     "shell.execute_reply": "2025-06-06T15:33:40.499398Z",
     "shell.execute_reply.started": "2025-06-06T15:33:40.497361Z"
    }
   },
   "outputs": [],
   "source": [
    "#catalog.dropna(subset=[psfmag_name_keep,psfmagerr_name_keep], inplace=True)\n",
    "#catalog"
   ]
  },
  {
   "cell_type": "markdown",
   "id": "6e7698b0-b465-494f-8d94-fd286753d02b",
   "metadata": {},
   "source": [
    "### Plot Magnitude and errors for objects "
   ]
  },
  {
   "cell_type": "code",
   "execution_count": null,
   "id": "276544b8-3363-4017-9ecf-aacd894bc3e9",
   "metadata": {
    "execution": {
     "iopub.execute_input": "2025-06-06T15:33:40.500561Z",
     "iopub.status.busy": "2025-06-06T15:33:40.500278Z",
     "iopub.status.idle": "2025-06-06T15:33:42.007992Z",
     "shell.execute_reply": "2025-06-06T15:33:42.007524Z",
     "shell.execute_reply.started": "2025-06-06T15:33:40.500545Z"
    }
   },
   "outputs": [],
   "source": [
    "fig,(ax1,ax2) = plt.subplots(1,2,figsize=(16,6),layout=\"constrained\")\n",
    "\n",
    "for ib,band in enumerate(all_bands):\n",
    "\n",
    "    psfmag_name = f\"{band}_psfMag\"\n",
    "    psfmagerr_name = f\"{band}_psfMagErr\"\n",
    "\n",
    "    catalog.plot.scatter(x=psfmag_name, y = psfmagerr_name, c = all_bands_colors[ib],ax=ax1,ylim=(0.,0.5))\n",
    "\n",
    "    \n",
    "    catalog[psfmag_name].hist(bins=50,ax=ax2,color = all_bands_colors[ib], histtype=\"step\",linewidth=3,label=psfmag_name)\n",
    "\n",
    "ax1.axhline(0.2,color=\"k\")\n",
    "ax1.set_xlabel(\"psfMag (mag)\")\n",
    "ax1.set_ylabel(\"psfMagErr (mag)\")\n",
    "ax2.set_xlabel(\"psfMag (mag)\")\n",
    "plt.suptitle(\"object magnitude (\"+ collectionStr + \")\")\n",
    "plt.show()"
   ]
  },
  {
   "cell_type": "markdown",
   "id": "293dcb11-4e12-41db-a6e8-3b8c0e423d7d",
   "metadata": {},
   "source": [
    "### Select Brightest star-like objects "
   ]
  },
  {
   "cell_type": "code",
   "execution_count": null,
   "id": "494ba924-872a-4f34-92da-84cea648162f",
   "metadata": {
    "execution": {
     "iopub.execute_input": "2025-06-06T15:33:42.008806Z",
     "iopub.status.busy": "2025-06-06T15:33:42.008546Z",
     "iopub.status.idle": "2025-06-06T15:33:42.011683Z",
     "shell.execute_reply": "2025-06-06T15:33:42.011276Z",
     "shell.execute_reply.started": "2025-06-06T15:33:42.008789Z"
    }
   },
   "outputs": [],
   "source": [
    "MAGCUT = 25\n",
    "print(f\" Select all the star-like objects that have magnitude {psfmag_name_keep} less than {MAGCUT} in band {BANDSEL}\")"
   ]
  },
  {
   "cell_type": "code",
   "execution_count": null,
   "id": "da5c38f2-2fb3-4405-8da9-6e6ac5a5ce14",
   "metadata": {
    "execution": {
     "iopub.execute_input": "2025-06-06T15:33:42.012424Z",
     "iopub.status.busy": "2025-06-06T15:33:42.012153Z",
     "iopub.status.idle": "2025-06-06T15:33:42.022212Z",
     "shell.execute_reply": "2025-06-06T15:33:42.021775Z",
     "shell.execute_reply.started": "2025-06-06T15:33:42.012408Z"
    }
   },
   "outputs": [],
   "source": [
    "selection_cut = (catalog[psfmag_name_keep] < MAGCUT ) & (catalog[extendedness_name_keep] == 0) & (catalog[blendness_name_keep] ==0) \n",
    "catalog_object_sel = catalog[selection_cut]\n",
    "catalog_object_sel.reset_index(drop=True,inplace=True)"
   ]
  },
  {
   "cell_type": "code",
   "execution_count": null,
   "id": "c948bb9c-9365-48e9-9421-0a492aeedd8f",
   "metadata": {
    "execution": {
     "iopub.execute_input": "2025-06-06T15:33:42.023073Z",
     "iopub.status.busy": "2025-06-06T15:33:42.022727Z",
     "iopub.status.idle": "2025-06-06T15:33:42.037049Z",
     "shell.execute_reply": "2025-06-06T15:33:42.036519Z",
     "shell.execute_reply.started": "2025-06-06T15:33:42.023057Z"
    }
   },
   "outputs": [],
   "source": [
    "catalog_object_sel[[\"objectId\",\"ra\",\"dec\",psfmag_name_keep]]"
   ]
  },
  {
   "cell_type": "markdown",
   "id": "312fa02f-8b2e-481d-ad7a-bb4e3b279b90",
   "metadata": {},
   "source": [
    "### Plot the selected objects position "
   ]
  },
  {
   "cell_type": "code",
   "execution_count": null,
   "id": "33cde903-9d38-4991-8ebf-b410ca9b0b32",
   "metadata": {
    "execution": {
     "iopub.execute_input": "2025-06-06T15:33:42.037685Z",
     "iopub.status.busy": "2025-06-06T15:33:42.037537Z",
     "iopub.status.idle": "2025-06-06T15:33:42.287036Z",
     "shell.execute_reply": "2025-06-06T15:33:42.286476Z",
     "shell.execute_reply.started": "2025-06-06T15:33:42.037670Z"
    }
   },
   "outputs": [],
   "source": [
    "fig,ax = plt.subplots(1,1,figsize=(8,8),layout=\"constrained\")\n",
    "sc = catalog_object_sel.plot.scatter(x=\"ra\",y=\"dec\",c=psfmag_name_keep,colormap=\"jet_r\",ax=ax,marker=\"o\",s=50,colorbar=False)\n",
    "ax.set_aspect(\"equal\")\n",
    "ax.invert_xaxis()\n",
    "ax.set_title(\"objects position\")\n",
    "cbar = fig.colorbar(sc.collections[0], ax=ax, orientation=\"horizontal\", shrink=0.7, pad=0.05)\n",
    "cbar.set_label(psfmag_name_keep)\n",
    "\n",
    "plt.show()"
   ]
  },
  {
   "cell_type": "markdown",
   "id": "6bfc5a31-499b-4eb2-af94-7766da26f113",
   "metadata": {},
   "source": [
    "### Check the cut on the magnitude"
   ]
  },
  {
   "cell_type": "code",
   "execution_count": null,
   "id": "b64dd994-6ef6-4d2e-8ac1-e764db1523e4",
   "metadata": {
    "execution": {
     "iopub.execute_input": "2025-06-06T15:33:42.288039Z",
     "iopub.status.busy": "2025-06-06T15:33:42.287717Z",
     "iopub.status.idle": "2025-06-06T15:33:42.572631Z",
     "shell.execute_reply": "2025-06-06T15:33:42.571915Z",
     "shell.execute_reply.started": "2025-06-06T15:33:42.288017Z"
    }
   },
   "outputs": [],
   "source": [
    "fig,(ax1,ax2) = plt.subplots(1,2,figsize=(16,6),layout=\"constrained\")\n",
    "catalog_object_sel.plot.scatter(x=psfmag_name_keep, y = psfmagerr_name_keep,c= color_keep,ax=ax1)\n",
    "catalog_object_sel[psfmag_name_keep].hist(bins=50,ax=ax2,color= color_keep, histtype=\"step\",linewidth=3,label=psfmag_name_keep)\n",
    "ax2.set_xlabel(psfmag_name_keep)\n",
    "ax1.axvline(MAGCUT,color=\"k\")\n",
    "ax2.axvline(MAGCUT,color=\"k\")\n",
    "plt.suptitle(collectionStr)\n",
    "plt.show()"
   ]
  },
  {
   "cell_type": "code",
   "execution_count": null,
   "id": "2ef04523-d438-4bdb-b4c7-110345a6e573",
   "metadata": {
    "execution": {
     "iopub.execute_input": "2025-06-06T15:33:42.573376Z",
     "iopub.status.busy": "2025-06-06T15:33:42.573205Z",
     "iopub.status.idle": "2025-06-06T15:33:42.576032Z",
     "shell.execute_reply": "2025-06-06T15:33:42.575617Z",
     "shell.execute_reply.started": "2025-06-06T15:33:42.573358Z"
    }
   },
   "outputs": [],
   "source": [
    "#list(catalog_cut.columns)"
   ]
  },
  {
   "cell_type": "markdown",
   "id": "16bd02e4-a5cc-4120-b22c-6d80b2fd3a3a",
   "metadata": {},
   "source": [
    "### Plot the coadds and the selected objects in all bands"
   ]
  },
  {
   "cell_type": "code",
   "execution_count": null,
   "id": "d97bd80c-92b7-4a5e-a760-baa14a595c14",
   "metadata": {
    "execution": {
     "iopub.execute_input": "2025-06-06T15:33:42.576727Z",
     "iopub.status.busy": "2025-06-06T15:33:42.576564Z",
     "iopub.status.idle": "2025-06-06T15:33:45.509004Z",
     "shell.execute_reply": "2025-06-06T15:33:45.508612Z",
     "shell.execute_reply.started": "2025-06-06T15:33:42.576712Z"
    }
   },
   "outputs": [],
   "source": [
    "# plot all coadds\n",
    "if 1:\n",
    "    afwDisplay.setDefaultBackend(\"firefly\")\n",
    "    N = len(all_deepCoadds)\n",
    "\n",
    "    # Loop on bands\n",
    "    for count in range(N):\n",
    "        band = all_bands[count]\n",
    "        display = afwDisplay.Display(frame=count + 1)\n",
    "        # cannot succeed to show white stars on dark sky\n",
    "        display.setImageColormap(\"gray\")\n",
    "        display.scale(\"asinh\", \"zscale\")\n",
    "        display.mtv(all_deepCoadds[count].image, title=all_titles[count])\n",
    "\n",
    "        x_name = \"ra\"\n",
    "        y_name = \"dec\"\n",
    "\n",
    "        # loop on slected objects : star and high magnitudes\n",
    "        with display.Buffering():\n",
    "            for index, row in catalog_object_sel.iterrows():\n",
    "\n",
    "                ra_deg = row[x_name]\n",
    "                dec_deg = row[y_name]\n",
    "              \n",
    "                sky_coord = SpherePoint(ra_deg * degrees, dec_deg * degrees) \n",
    "                pixel_coord = wcs.skyToPixel(sky_coord)\n",
    "\n",
    "                xpix = pixel_coord.x\n",
    "                ypix = pixel_coord.y\n",
    "                \n",
    "                display.dot(\"o\", xpix, ypix, size=50, ctype=color_keep)\n",
    "                display.dot(str(index), xpix+80, ypix+80, size=2, ctype=all_bands_colors[count])"
   ]
  },
  {
   "cell_type": "code",
   "execution_count": null,
   "id": "d71792a0-a20c-45e5-b566-819f346b1c26",
   "metadata": {
    "execution": {
     "iopub.execute_input": "2025-06-06T15:33:45.509972Z",
     "iopub.status.busy": "2025-06-06T15:33:45.509471Z",
     "iopub.status.idle": "2025-06-06T15:33:45.513846Z",
     "shell.execute_reply": "2025-06-06T15:33:45.513520Z",
     "shell.execute_reply.started": "2025-06-06T15:33:45.509955Z"
    }
   },
   "outputs": [],
   "source": [
    "# Show only one coadds\n",
    "if 0:\n",
    "    afwDisplay.setDefaultBackend(\"firefly\")\n",
    "    N = len(all_deepCoadds)\n",
    "    for count in range(N):\n",
    "        band = all_bands[count]\n",
    "        if band == BANDSEL:\n",
    "            display = afwDisplay.Display(frame= 1)\n",
    "            # cannot succeed to show white stars on dark sky\n",
    "            display.setImageColormap(\"gray\")\n",
    "            display.scale(\"asinh\", \"zscale\")\n",
    "            display.mtv(all_deepCoadds[count].image, title=all_titles[count])\n",
    "            wcs = all_deepCoadds_wcs[count]\n",
    "\n",
    "    x_name = \"ra\"\n",
    "    y_name = \"dec\"\n",
    "    with display.Buffering():\n",
    "        for index, row in catalog_object_sel.iterrows():\n",
    "\n",
    "            ra_deg = row[x_name]\n",
    "            dec_deg = row[y_name]\n",
    "              \n",
    "            sky_coord = SpherePoint(ra_deg * degrees, dec_deg * degrees) \n",
    "            pixel_coord = wcs.skyToPixel(sky_coord)\n",
    "\n",
    "            xpix = pixel_coord.x\n",
    "            ypix = pixel_coord.y\n",
    "                \n",
    "            display.dot(\"o\", xpix, ypix, size=50, ctype=color_keep)\n",
    "            display.dot(str(index), xpix+80, ypix+80, size=2, ctype=color_keep)"
   ]
  },
  {
   "cell_type": "markdown",
   "id": "406fb3c6-2cda-458e-896c-40c5e09f31cb",
   "metadata": {},
   "source": [
    "## Search for the Sources"
   ]
  },
  {
   "cell_type": "markdown",
   "id": "09cdcbb3-5929-452b-85b8-c6009549f669",
   "metadata": {},
   "source": [
    "### Access to sourceTable\n",
    "    DatasetType('sourceTable', {band, instrument, day_obs, detector, physical_filter, visit}, DataFrame)"
   ]
  },
  {
   "cell_type": "code",
   "execution_count": null,
   "id": "35604f56-33ff-47c3-9309-30c51d868d2c",
   "metadata": {
    "execution": {
     "iopub.execute_input": "2025-06-06T15:33:45.514376Z",
     "iopub.status.busy": "2025-06-06T15:33:45.514239Z",
     "iopub.status.idle": "2025-06-06T15:33:45.554028Z",
     "shell.execute_reply": "2025-06-06T15:33:45.553729Z",
     "shell.execute_reply.started": "2025-06-06T15:33:45.514361Z"
    }
   },
   "outputs": [],
   "source": [
    "datasettype = 'sourceTable'"
   ]
  },
  {
   "cell_type": "code",
   "execution_count": null,
   "id": "d4eb9bef-61d9-4112-bcd5-0addac9b9bf6",
   "metadata": {
    "execution": {
     "iopub.execute_input": "2025-06-06T15:33:45.554482Z",
     "iopub.status.busy": "2025-06-06T15:33:45.554360Z",
     "iopub.status.idle": "2025-06-06T15:33:45.560523Z",
     "shell.execute_reply": "2025-06-06T15:33:45.560211Z",
     "shell.execute_reply.started": "2025-06-06T15:33:45.554469Z"
    }
   },
   "outputs": [],
   "source": [
    "#dataId = {\"band\": BANDSEL, \"instrument\": instrument, \"visit\" : 2024111900097}"
   ]
  },
  {
   "cell_type": "code",
   "execution_count": null,
   "id": "9e399286-b744-4db4-a9d0-264357aa09bb",
   "metadata": {
    "execution": {
     "iopub.execute_input": "2025-06-06T15:33:45.561000Z",
     "iopub.status.busy": "2025-06-06T15:33:45.560878Z",
     "iopub.status.idle": "2025-06-06T15:33:45.569031Z",
     "shell.execute_reply": "2025-06-06T15:33:45.568757Z",
     "shell.execute_reply.started": "2025-06-06T15:33:45.560988Z"
    }
   },
   "outputs": [],
   "source": [
    "#### Build the where clause\n",
    "where_clause_sources = where_clause_date + f\" and visit in {tuple_of_visits}\"\n",
    "where_clause_sources"
   ]
  },
  {
   "cell_type": "code",
   "execution_count": null,
   "id": "9e97272d-cd3f-4562-8bfe-f37788946c88",
   "metadata": {
    "execution": {
     "iopub.execute_input": "2025-06-06T15:33:45.569472Z",
     "iopub.status.busy": "2025-06-06T15:33:45.569348Z",
     "iopub.status.idle": "2025-06-06T15:33:46.532808Z",
     "shell.execute_reply": "2025-06-06T15:33:46.532274Z",
     "shell.execute_reply.started": "2025-06-06T15:33:45.569461Z"
    }
   },
   "outputs": [],
   "source": [
    "therefs = butler.registry.queryDatasets(\n",
    "    datasettype,\n",
    "    where=where_clause_sources,\n",
    "    collections = collection_validation,\n",
    ")\n",
    "\n",
    "listref = list(therefs)\n",
    "nref = len(listref)\n",
    "print(f\"nref = {nref}\")"
   ]
  },
  {
   "cell_type": "code",
   "execution_count": null,
   "id": "8e34b060-b227-4404-8864-390a44a5f95d",
   "metadata": {
    "execution": {
     "iopub.execute_input": "2025-06-06T15:33:46.533489Z",
     "iopub.status.busy": "2025-06-06T15:33:46.533315Z",
     "iopub.status.idle": "2025-06-06T15:34:51.260615Z",
     "shell.execute_reply": "2025-06-06T15:34:51.258418Z",
     "shell.execute_reply.started": "2025-06-06T15:33:46.533472Z"
    }
   },
   "outputs": [],
   "source": [
    "all_src = []\n",
    "for count,ref in enumerate(therefs):\n",
    "    the_id = ref.dataId\n",
    "    #print(the_id)\n",
    "    srccatalog = butler.get(ref)\n",
    "    all_src.append(srccatalog)"
   ]
  },
  {
   "cell_type": "code",
   "execution_count": null,
   "id": "7915ebbe-b705-495c-b034-8be0fec6a22f",
   "metadata": {
    "execution": {
     "iopub.execute_input": "2025-06-06T15:34:51.268152Z",
     "iopub.status.busy": "2025-06-06T15:34:51.267902Z",
     "iopub.status.idle": "2025-06-06T15:34:53.812964Z",
     "shell.execute_reply": "2025-06-06T15:34:53.812152Z",
     "shell.execute_reply.started": "2025-06-06T15:34:51.268137Z"
    }
   },
   "outputs": [],
   "source": [
    "t =  pd.concat(all_src)"
   ]
  },
  {
   "cell_type": "code",
   "execution_count": null,
   "id": "5b87f7d4-04bd-47d7-b6c3-5e97f6fbd3a2",
   "metadata": {
    "execution": {
     "iopub.execute_input": "2025-06-06T15:34:53.832825Z",
     "iopub.status.busy": "2025-06-06T15:34:53.832359Z",
     "iopub.status.idle": "2025-06-06T15:34:55.093680Z",
     "shell.execute_reply": "2025-06-06T15:34:55.092734Z",
     "shell.execute_reply.started": "2025-06-06T15:34:53.832807Z"
    }
   },
   "outputs": [],
   "source": [
    "t = t[t.parentSourceId  == 0 ]\t"
   ]
  },
  {
   "cell_type": "code",
   "execution_count": null,
   "id": "d665d1cb-9ecd-44b0-8ccb-f890bb61c1cc",
   "metadata": {
    "execution": {
     "iopub.execute_input": "2025-06-06T15:34:55.097271Z",
     "iopub.status.busy": "2025-06-06T15:34:55.096797Z",
     "iopub.status.idle": "2025-06-06T15:34:55.729303Z",
     "shell.execute_reply": "2025-06-06T15:34:55.728859Z",
     "shell.execute_reply.started": "2025-06-06T15:34:55.097239Z"
    }
   },
   "outputs": [],
   "source": [
    "t"
   ]
  },
  {
   "cell_type": "code",
   "execution_count": null,
   "id": "4d2ec40e-8729-40ff-83eb-dbddbd6b8d02",
   "metadata": {
    "execution": {
     "iopub.execute_input": "2025-06-06T15:34:55.730011Z",
     "iopub.status.busy": "2025-06-06T15:34:55.729862Z",
     "iopub.status.idle": "2025-06-06T15:34:55.734243Z",
     "shell.execute_reply": "2025-06-06T15:34:55.733874Z",
     "shell.execute_reply.started": "2025-06-06T15:34:55.729995Z"
    }
   },
   "outputs": [],
   "source": [
    "list(t.columns)"
   ]
  },
  {
   "cell_type": "code",
   "execution_count": null,
   "id": "59b3ca8b-d106-426d-ad4e-af8eb2c28ad2",
   "metadata": {
    "execution": {
     "iopub.execute_input": "2025-06-06T15:34:55.734840Z",
     "iopub.status.busy": "2025-06-06T15:34:55.734700Z",
     "iopub.status.idle": "2025-06-06T15:34:56.116041Z",
     "shell.execute_reply": "2025-06-06T15:34:56.115532Z",
     "shell.execute_reply.started": "2025-06-06T15:34:55.734826Z"
    }
   },
   "outputs": [],
   "source": [
    "sources_cut = (t['detect_isPrimary']) & (t[\"extendedness\"] == 0 ) \n",
    "t_sel = t[sources_cut]"
   ]
  },
  {
   "cell_type": "code",
   "execution_count": null,
   "id": "1af1f074-c140-4570-a156-b84077958716",
   "metadata": {
    "execution": {
     "iopub.execute_input": "2025-06-06T15:34:56.116784Z",
     "iopub.status.busy": "2025-06-06T15:34:56.116631Z",
     "iopub.status.idle": "2025-06-06T15:34:56.139271Z",
     "shell.execute_reply": "2025-06-06T15:34:56.138855Z",
     "shell.execute_reply.started": "2025-06-06T15:34:56.116769Z"
    }
   },
   "outputs": [],
   "source": [
    "t_sel[['ra','dec','visit','psfFlux','psfFluxErr','ap35Flux', 'localPhotoCalib','detect_isPrimary','extendedness','sky_source']]"
   ]
  },
  {
   "cell_type": "markdown",
   "id": "a9f79cc6-b3f5-4255-9aa8-39beec8e4b08",
   "metadata": {},
   "source": [
    "#### Compute the magnitudes of all the sources"
   ]
  },
  {
   "cell_type": "code",
   "execution_count": null,
   "id": "e37dd81d-c888-4bc9-8c29-765517d81407",
   "metadata": {
    "execution": {
     "iopub.execute_input": "2025-06-06T15:34:56.140176Z",
     "iopub.status.busy": "2025-06-06T15:34:56.139817Z",
     "iopub.status.idle": "2025-06-06T15:36:28.284009Z",
     "shell.execute_reply": "2025-06-06T15:36:28.283542Z",
     "shell.execute_reply.started": "2025-06-06T15:34:56.140158Z"
    }
   },
   "outputs": [],
   "source": [
    "t_sel = t_sel.copy()\n",
    "t_sel[\"dateobs\"] = t_sel.apply(lambda x: x['visit']//100_000, axis=1)\n",
    "t_sel[\"seq\"] = t_sel[\"visit\"] - t_sel[\"dateobs\"]*100_000\n",
    "t_sel[\"mags\"] = t_sel[\"psfFlux\"].apply(nJy_to_ab_mag)\n",
    "t_sel[\"magerr\"] = nJy_err_to_ab_err(t_sel[\"psfFlux\"], t_sel[\"psfFluxErr\"])                               \n",
    "t_sel[\"valid\"] = (t_sel[\"psfFlux\"] >0) & (~t_sel[\"psfFlux_flag\"])\n",
    "\n",
    "\n",
    "t_sel[\"psfFluxMag\"] = t_sel[\"psfFlux\"].apply(nJy_to_ab_mag)\n",
    "t_sel[\"psfFluxMagErr\"] = nJy_err_to_ab_err(t_sel[\"psfFlux\"], t_sel[\"psfFluxErr\"])        \n",
    "t_sel[\"calibMag\"] = t_sel[\"calibFlux\"].apply(nJy_to_ab_mag)\n",
    "t_sel[\"calibMagErr\"] = nJy_err_to_ab_err(t_sel[\"calibFlux\"], t_sel[\"calibFluxErr\"])     \n",
    "\n",
    "\n",
    "## loop on all radius avaialbe \n",
    "ap_radius = [ '03','06','09','12','17','25','35','50','70' ]\n",
    "\n",
    "\n",
    "\n",
    "calcversion = \"v0\"\n",
    "# No local localPhotoCalib\n",
    "# Checked that the apFlux are really calibrated\n",
    "if calcversion == \"v0\":\n",
    "\n",
    "\n",
    "    t_sel[\"calibMag\"] = t_sel[\"calibFlux\"].apply(nJy_to_ab_mag)\n",
    "    t_sel[\"calibMagErr\"] = nJy_err_to_ab_err(t_sel[\"calibFlux\"], t_sel[\"calibFluxErr\"])   \n",
    "    \n",
    "    for radius in ap_radius:\n",
    "        fluxName = f\"ap{radius}Flux\"\n",
    "        fluxNameErr = fluxName + \"Err\" \n",
    "        fluxNameFlag = fluxName + \"_flag\" \n",
    "\n",
    "        magName = f\"ap{radius}Mag\"\n",
    "        magNameErr = magName + \"Err\" \n",
    "        magNameFlag = magName + \"_flag\" \n",
    "\n",
    "        t_sel[magName] = t_sel[fluxName].apply(nJy_to_ab_mag)\n",
    "        t_sel[magNameErr] = nJy_err_to_ab_err(t_sel[fluxName], t_sel[fluxNameErr])     \n",
    "        t_sel[magNameFlag] = t_sel[fluxNameFlag]\n",
    "\n",
    "elif calcversion == \"v1\":\n",
    "        calibFlux =  t_sel[\"calibFlux\"]* t_sel[\"localPhotoCalib\"]\n",
    "        calibFluxErr =  t_sel[\"calibFluxErr\"] * t_sel[\"localPhotoCalib\"]\n",
    "        t_sel[\"calibMag\"] = calibFlux.apply(nJy_to_ab_mag)\n",
    "        t_sel[\"calibMagErr\"] = nJy_err_to_ab_err(calibFlux ,calibFluxErr)\n",
    "\n",
    "\n",
    "        for radius in ap_radius:\n",
    "            fluxName = f\"ap{radius}Flux\"\n",
    "            fluxNameErr = fluxName + \"Err\" \n",
    "            fluxNameFlag = fluxName + \"_flag\" \n",
    "\n",
    "            calibFlux =  t_sel[fluxName]* t_sel[\"localPhotoCalib\"]\n",
    "            calibFluxErr =  t_sel[fluxNameErr] * t_sel[\"localPhotoCalib\"]\n",
    "\n",
    "            magName = f\"ap{radius}Mag\"\n",
    "            magNameErr = magName + \"Err\" \n",
    "            magNameFlag = magName + \"_flag\" \n",
    "\n",
    "            t_sel[magName] = calibFlux .apply(nJy_to_ab_mag)\n",
    "            t_sel[magNameErr] = nJy_err_to_ab_err(calibFlux, calibFluxErr)     \n",
    "            t_sel[magNameFlag] = t_sel[fluxNameFlag]\n",
    "      \n",
    "    \n",
    "    \n",
    "\n",
    "    \n",
    "    \n",
    "\n",
    "    \n",
    "# create visit list from the sources\n",
    "visit_list = t_sel[\"visit\"].astype(int)"
   ]
  },
  {
   "cell_type": "code",
   "execution_count": null,
   "id": "0f5b55c5-9a21-4c65-99c9-1d503c49f393",
   "metadata": {
    "execution": {
     "iopub.execute_input": "2025-06-06T15:36:28.284886Z",
     "iopub.status.busy": "2025-06-06T15:36:28.284543Z",
     "iopub.status.idle": "2025-06-06T15:36:28.308424Z",
     "shell.execute_reply": "2025-06-06T15:36:28.308025Z",
     "shell.execute_reply.started": "2025-06-06T15:36:28.284870Z"
    }
   },
   "outputs": [],
   "source": [
    "t_sel[['ra','dec','visit','psfFluxMag','calibMag','ap12Mag','ap17Mag','ap25Mag','ap35Mag','ap50Mag' ,'localPhotoCalib','detect_isPrimary','extendedness','sky_source']]"
   ]
  },
  {
   "cell_type": "markdown",
   "id": "5287d5c5-56b8-4e50-9386-cfc84d63ffff",
   "metadata": {},
   "source": [
    "### Sources files"
   ]
  },
  {
   "cell_type": "code",
   "execution_count": null,
   "id": "79951515-42a8-4aa8-b618-981fcfe9ca57",
   "metadata": {
    "execution": {
     "iopub.execute_input": "2025-06-06T15:36:28.309051Z",
     "iopub.status.busy": "2025-06-06T15:36:28.308911Z",
     "iopub.status.idle": "2025-06-06T15:36:28.311864Z",
     "shell.execute_reply": "2025-06-06T15:36:28.311525Z",
     "shell.execute_reply.started": "2025-06-06T15:36:28.309038Z"
    }
   },
   "outputs": [],
   "source": [
    "outputfile_sources_complete = f\"all_src_t{TRACTSEL}_p{PATCHSEL}_magcutg{MAGCUT}_psf_ap_calc{calcversion}.csv\"\n",
    "outputfile_sources_complete"
   ]
  },
  {
   "cell_type": "markdown",
   "id": "64389bfe-5369-4496-afe1-1d304931a11d",
   "metadata": {},
   "source": [
    "#### Open source files if it exist otherwise fetch visits info\n",
    "\n",
    "- Note FetchTimesForVisits takes much time, that is why it is better to load the source file if it exists"
   ]
  },
  {
   "cell_type": "code",
   "execution_count": null,
   "id": "3ee6db5c-a913-4f59-9e2b-8b38b1aa8139",
   "metadata": {
    "execution": {
     "iopub.execute_input": "2025-06-06T15:36:28.312424Z",
     "iopub.status.busy": "2025-06-06T15:36:28.312297Z",
     "iopub.status.idle": "2025-06-06T16:06:28.183370Z",
     "shell.execute_reply": "2025-06-06T16:06:28.182854Z",
     "shell.execute_reply.started": "2025-06-06T15:36:28.312412Z"
    }
   },
   "outputs": [],
   "source": [
    "if os.path.exists(outputfile_sources_complete):\n",
    "    t_sel = pd.read_csv(outputfile_sources_complete)\n",
    "else:\n",
    "    df_times = FetchTimesForVisits(visit_list)\n",
    "    t_sel[\"mjd\"] = t_sel[\"visit\"].apply(lambda x: df_times.loc[x][\"mjd\"])\n",
    "    t_sel[\"isot\"] = t_sel[\"visit\"].apply(lambda x: df_times.loc[x][\"isot\"])\n",
    "    t_sel[\"airmass\"] = t_sel[\"visit\"].apply(lambda x: df_times.loc[x][\"airmass\"])\n",
    "    t_sel[\"azimuth\"] = t_sel[\"visit\"].apply(lambda x: df_times.loc[x][\"azimuth\"])\n",
    "    t_sel.to_csv(outputfile_sources_complete)\n",
    "    "
   ]
  },
  {
   "cell_type": "markdown",
   "id": "73888fc0-9255-4a6a-82aa-8322685928a4",
   "metadata": {
    "execution": {
     "iopub.execute_input": "2025-06-04T20:16:11.897604Z",
     "iopub.status.busy": "2025-06-04T20:16:11.897242Z",
     "iopub.status.idle": "2025-06-04T20:16:11.909133Z",
     "shell.execute_reply": "2025-06-04T20:16:11.908644Z",
     "shell.execute_reply.started": "2025-06-04T20:16:11.897585Z"
    }
   },
   "source": [
    "### Compute the SkyCoods for all the sources in the source catalog"
   ]
  },
  {
   "cell_type": "code",
   "execution_count": null,
   "id": "a498491e-325b-4604-ad30-ea12a959858f",
   "metadata": {
    "execution": {
     "iopub.execute_input": "2025-06-06T16:06:28.184227Z",
     "iopub.status.busy": "2025-06-06T16:06:28.183965Z",
     "iopub.status.idle": "2025-06-06T16:06:28.193449Z",
     "shell.execute_reply": "2025-06-06T16:06:28.192976Z",
     "shell.execute_reply.started": "2025-06-06T16:06:28.184210Z"
    }
   },
   "outputs": [],
   "source": [
    "catalog_sources_coords = SkyCoord(ra=t_sel[\"ra\"].values*u.deg, dec=t_sel[\"dec\"].values*u.deg)"
   ]
  },
  {
   "cell_type": "markdown",
   "id": "f0e4036b-bf26-4bb6-b53b-59107a3ab79e",
   "metadata": {},
   "source": [
    "## Plot light curves"
   ]
  },
  {
   "cell_type": "markdown",
   "id": "1cbfa2d8-9907-4bd5-ad5a-ffcb3dbda616",
   "metadata": {},
   "source": [
    "### Choose the type of flux calculation"
   ]
  },
  {
   "cell_type": "code",
   "execution_count": null,
   "id": "f2ee3c10-33a2-4eea-90dc-acd5d3ec38ee",
   "metadata": {
    "execution": {
     "iopub.execute_input": "2025-06-06T16:06:28.194252Z",
     "iopub.status.busy": "2025-06-06T16:06:28.193991Z",
     "iopub.status.idle": "2025-06-06T16:06:28.208605Z",
     "shell.execute_reply": "2025-06-06T16:06:28.208053Z",
     "shell.execute_reply.started": "2025-06-06T16:06:28.194236Z"
    }
   },
   "outputs": [],
   "source": [
    "#magnitude_name_selected = 'psfFluxMag' \t\n",
    "magnitude_name_selected = 'calibMag'\n",
    "#magnitude_name_selected = 'ap12Mag' \t\n",
    "#magnitude_name_selected = 'ap17Mag' \t\n",
    "#magnitude_name_selected = 'ap25Mag' \t\n",
    "#magnitude_name_selected = 'ap35Mag' \t\n",
    "#magnitude_name_selected = 'ap50Mag' \n",
    "#magnitude_name_selected = 'ap70Mag' "
   ]
  },
  {
   "cell_type": "code",
   "execution_count": null,
   "id": "53b6098b-18ef-486f-b1a6-f3d65590a347",
   "metadata": {
    "execution": {
     "iopub.execute_input": "2025-06-06T16:06:28.209305Z",
     "iopub.status.busy": "2025-06-06T16:06:28.209164Z",
     "iopub.status.idle": "2025-06-06T16:08:02.399744Z",
     "shell.execute_reply": "2025-06-06T16:08:02.399252Z",
     "shell.execute_reply.started": "2025-06-06T16:06:28.209291Z"
    }
   },
   "outputs": [],
   "source": [
    "from matplotlib import gridspec\n",
    "\n",
    "sep_cut = 5.0\n",
    "# Loop on selected objects\n",
    "\n",
    "all_stats_df = []\n",
    "\n",
    "for idx, row in catalog_object_sel.iterrows(): \n",
    "    t_src = t_sel.copy()\n",
    "    target_object_ra = row[\"ra\"]\n",
    "    target_object_dec = row[\"dec\"]\n",
    "    title_object = f\"{idx}) : {row['objectId']}\"  # Attention aux guillemets imbriqués\n",
    "\n",
    "    target_object_coords = SkyCoord(ra=target_object_ra*u.deg, dec=target_object_dec*u.deg)\n",
    "    distances_arcsec = target_object_coords.separation(catalog_sources_coords).arcsecond\n",
    "    t_src[\"sep\"] = distances_arcsec\n",
    "    sepmin = distances_arcsec.min()\n",
    "    t_src_cut = t_src[t_src[\"sep\"] < sep_cut]\n",
    "\n",
    "    tb = {}\n",
    "    for band in all_bands:\n",
    "        tb[band] = t_src_cut[t_src_cut[\"band\"] == band]\n",
    "\n",
    "  \n",
    "    # Créer figure et GridSpec avec 2 colonnes\n",
    "    fig = plt.figure(figsize=(16, 3))\n",
    "    gs = gridspec.GridSpec(1, 2, width_ratios=[1, 3], wspace=0.3)  # largeur relative ax1:ax2 = 1:2.5\n",
    "\n",
    "    ax1 = fig.add_subplot(gs[0])\n",
    "    ax2 = fig.add_subplot(gs[1])\n",
    "\n",
    "    # Histogramme à gauche\n",
    "    ax1.hist(distances_arcsec, bins=60, range=(0, 50),facecolor=\"b\")\n",
    "    ax1.set_title(title_object + f\" sep = {sepmin:.2f}\\\"\", fontsize=10)\n",
    "    ax1.set_xlabel(\"angular sep (arcsec)\",fontsize=12)\n",
    "\n",
    "    # Tu peux dessiner autre chose à droite ici (scatter, image, etc.)\n",
    "    #ax2.text(0.5, 0.5, \"Contenu pour ax2\", ha='center', va='center')\n",
    "    #ax2.set_axis_off()\n",
    "    ax2.errorbar(t_src_cut[\"mjd\"].values, t_src_cut[\"mags\"].values,yerr=t_src_cut[\"magerr\"].values,color=\"r\") \n",
    "    ax2.errorbar(\n",
    "    t_src_cut[\"mjd\"].values,\n",
    "    t_src_cut[\"mags\"].values,\n",
    "    yerr=t_src_cut[\"magerr\"].values,\n",
    "    fmt=\"o\",                      # 'o' pour des points\n",
    "    markersize=4,                 # taille des points\n",
    "    capsize=2,                    # petites barres horizontales aux extrémités\n",
    "    elinewidth=1,                 # épaisseur des barres d'erreur\n",
    "    ecolor=\"gray\",                # couleur des barres d'erreur\n",
    "    markerfacecolor=\"black\",     # couleur intérieure des points\n",
    "    markeredgecolor=\"black\",     # contour des points\n",
    "    alpha=0.8                     # transparence\n",
    "    )\n",
    "\n",
    "    ax2.set_title(f\"Light Curves in band {BANDSEL}\", fontsize=10)\n",
    "    ax2.set_xlabel(\"MJD\", fontsize=9)\n",
    "    ax2.set_ylabel(\"Magnitude (mag)\", fontsize=9)\n",
    "    ax2.invert_yaxis()  # Plus lumineux = vers le haut (standard en astronomie)\n",
    "    ax2.grid(True, linestyle=\"--\", alpha=0.5)\n",
    "\n",
    "    plt.tight_layout()\n",
    "    plt.show()\n",
    "\n",
    "    if len(t_src_cut)> 20:\n",
    "        try:\n",
    "            stats_df = plotLightCurvesSeparatedBandsWithErrors(tb,title_object,collectionStr,deltaylim =  0.1, magName = magnitude_name_selected)\n",
    "            all_stats_df.append(stats_df)\n",
    "        except Exception as inst:\n",
    "            print(type(inst))    # the exception type\n",
    "            print(inst.args)     # arguments stored in .args\n",
    "            print(inst)          # __str__ allows args to be printed directly,\n",
    "        \n",
    "    "
   ]
  },
  {
   "cell_type": "code",
   "execution_count": null,
   "id": "93afb64c-2113-49cd-baae-dbb0821774cf",
   "metadata": {
    "execution": {
     "iopub.execute_input": "2025-06-06T16:08:02.400498Z",
     "iopub.status.busy": "2025-06-06T16:08:02.400336Z",
     "iopub.status.idle": "2025-06-06T16:08:02.405743Z",
     "shell.execute_reply": "2025-06-06T16:08:02.405292Z",
     "shell.execute_reply.started": "2025-06-06T16:08:02.400481Z"
    }
   },
   "outputs": [],
   "source": [
    "combined_df = pd.concat(all_stats_df, keys=range(len(all_stats_df)), names=[\"sample_id\", \"band\"])\n",
    "combined_df = combined_df.reset_index()"
   ]
  },
  {
   "cell_type": "code",
   "execution_count": null,
   "id": "3300c2b3-b76d-40de-bac8-712fa294c47c",
   "metadata": {
    "execution": {
     "iopub.execute_input": "2025-06-06T16:08:02.406400Z",
     "iopub.status.busy": "2025-06-06T16:08:02.406241Z",
     "iopub.status.idle": "2025-06-06T16:08:02.425322Z",
     "shell.execute_reply": "2025-06-06T16:08:02.424789Z",
     "shell.execute_reply.started": "2025-06-06T16:08:02.406385Z"
    }
   },
   "outputs": [],
   "source": [
    "outputfile_lightcurves_reso = f\"lightcurves_reso_t{TRACTSEL}_p{PATCHSEL}_magcutg{MAGCUT}_mag{magnitude_name_selected}.csv\"\n",
    "outputfile_lightcurves_reso"
   ]
  },
  {
   "cell_type": "code",
   "execution_count": null,
   "id": "c8b26e0d-07f0-44b2-a827-e30153cde0a8",
   "metadata": {
    "execution": {
     "iopub.execute_input": "2025-06-06T16:08:02.425999Z",
     "iopub.status.busy": "2025-06-06T16:08:02.425863Z",
     "iopub.status.idle": "2025-06-06T16:08:02.441253Z",
     "shell.execute_reply": "2025-06-06T16:08:02.440763Z",
     "shell.execute_reply.started": "2025-06-06T16:08:02.425986Z"
    }
   },
   "outputs": [],
   "source": [
    "combined_df.to_csv(outputfile_lightcurves_reso)"
   ]
  },
  {
   "cell_type": "code",
   "execution_count": null,
   "id": "a7703925-c9c0-48e7-84a2-88bc6370dfbf",
   "metadata": {
    "execution": {
     "iopub.execute_input": "2025-06-06T16:08:02.441996Z",
     "iopub.status.busy": "2025-06-06T16:08:02.441841Z",
     "iopub.status.idle": "2025-06-06T16:08:02.683920Z",
     "shell.execute_reply": "2025-06-06T16:08:02.683364Z",
     "shell.execute_reply.started": "2025-06-06T16:08:02.441980Z"
    }
   },
   "outputs": [],
   "source": [
    "import seaborn as sns\n",
    "import matplotlib.pyplot as plt\n",
    "\n",
    "plt.figure(figsize=(10,8))\n",
    "sns.scatterplot(\n",
    "    data=combined_df,\n",
    "    x=\"median\",\n",
    "    y=\"sigma\",\n",
    "    hue=\"band\",\n",
    "    palette=all_bands_colors,  # ou all_bands_colors si tu as une palette perso\n",
    "    s=60\n",
    ")\n",
    "plt.axhline(0.01,color=\"k\",label=\"10 mmag\")\n",
    "plt.xlabel(f\"{magnitude_name_selected} (mag)\")\n",
    "plt.ylabel(\"$\\sigma $ (mag)\")\n",
    "plt.title(f\"Light curve dispersion vs {magnitude_name_selected}\")\n",
    "plt.grid(True)\n",
    "plt.legend(title=\"Band\")\n",
    "plt.tight_layout()\n",
    "plt.ylim(0.,0.05)\n",
    "plt.show()\n"
   ]
  },
  {
   "cell_type": "code",
   "execution_count": null,
   "id": "656ea1c3-c00d-4ce2-a98c-56c573e49f7e",
   "metadata": {
    "execution": {
     "iopub.execute_input": "2025-06-06T16:08:02.684736Z",
     "iopub.status.busy": "2025-06-06T16:08:02.684568Z",
     "iopub.status.idle": "2025-06-06T16:08:03.408347Z",
     "shell.execute_reply": "2025-06-06T16:08:03.407906Z",
     "shell.execute_reply.started": "2025-06-06T16:08:02.684719Z"
    }
   },
   "outputs": [],
   "source": [
    "import pandas as pd\n",
    "import seaborn as sns\n",
    "import matplotlib.pyplot as plt\n",
    "\n",
    "# Concaténation des stats\n",
    "combined_df = pd.concat(all_stats_df, keys=range(len(all_stats_df)), names=[\"sample_id\", \"band\"])\n",
    "combined_df = combined_df.reset_index()\n",
    "\n",
    "# Facet plot : un sous-graphique par bande\n",
    "g = sns.FacetGrid(\n",
    "    combined_df,\n",
    "    col=\"band\",\n",
    "    col_wrap=3,  # nombre de colonnes dans la grille\n",
    "    height=4,\n",
    "    sharex=True,\n",
    "    sharey=True,\n",
    "    palette=all_bands_colors\n",
    ")\n",
    "g.map_dataframe(sns.scatterplot, x=\"median\", y=\"sigma\", s=60, color=\"steelblue\")\n",
    "g.set(ylim=(0, 0.05))  # <- ici\n",
    "g.set_axis_labels(f\"{magnitude_name_selected}\" + \" (mag)\", \"std dev (mag)\")\n",
    "g.set_titles(col_template=\"Band: {col_name}\")\n",
    "g.fig.suptitle(f\"Sigma vs {magnitude_name_selected} per band\", fontsize=16, y=1.02)\n",
    "plt.tight_layout()\n",
    "plt.show()\n"
   ]
  },
  {
   "cell_type": "code",
   "execution_count": null,
   "id": "30d7be52-3052-4a3f-9e5e-2bb947320a56",
   "metadata": {
    "execution": {
     "iopub.execute_input": "2025-06-06T16:08:03.409175Z",
     "iopub.status.busy": "2025-06-06T16:08:03.408915Z",
     "iopub.status.idle": "2025-06-06T16:08:04.119101Z",
     "shell.execute_reply": "2025-06-06T16:08:04.118674Z",
     "shell.execute_reply.started": "2025-06-06T16:08:03.409160Z"
    }
   },
   "outputs": [],
   "source": [
    "# Exemple : dictionnaire de couleurs par bande\n",
    "all_bands_colors_dict = {\n",
    "    \"u\": \"blue\",\n",
    "    \"g\": \"green\",\n",
    "    \"r\": \"red\",\n",
    "    \"i\": \"orange\",\n",
    "    \"z\": \"grey\",\n",
    "    \"y\": \"k\"\n",
    "}\n",
    "\n",
    "# Création du FacetGrid\n",
    "g = sns.FacetGrid(\n",
    "    combined_df,\n",
    "    col=\"band\",\n",
    "    col_wrap=3,\n",
    "    height=4,\n",
    "    sharex=True,\n",
    "    sharey=True\n",
    ")\n",
    "\n",
    "# Ajout du scatter plot avec couleur spécifique à chaque bande\n",
    "def band_colored_scatter(data, color=None, **kwargs):\n",
    "    band = data[\"band\"].iloc[0]\n",
    "    sns.scatterplot(\n",
    "        data=data,\n",
    "        x=\"median\",\n",
    "        y=\"sigma\",\n",
    "        color=all_bands_colors_dict.get(band, \"gray\"),  # couleur par bande\n",
    "        s=60,\n",
    "        **kwargs\n",
    "    )\n",
    "\n",
    "g.map_dataframe(band_colored_scatter)\n",
    "\n",
    "# Axes & layout\n",
    "g.set(ylim=(0, 0.05))\n",
    "g.set_axis_labels(f\"{magnitude_name_selected}\" + \" (mag)\", \"std dev (mag)\")\n",
    "g.set_titles(col_template=\"Band: {col_name}\")\n",
    "g.fig.suptitle(f\"Sigma vs {magnitude_name_selected} per band\", fontsize=16, y=1.02)\n",
    "plt.tight_layout()\n",
    "plt.show()\n"
   ]
  },
  {
   "cell_type": "code",
   "execution_count": null,
   "id": "bd1705f8-2970-4bfb-81e6-32a9a70dca20",
   "metadata": {
    "execution": {
     "iopub.execute_input": "2025-06-06T16:08:04.119763Z",
     "iopub.status.busy": "2025-06-06T16:08:04.119618Z",
     "iopub.status.idle": "2025-06-06T16:08:04.122443Z",
     "shell.execute_reply": "2025-06-06T16:08:04.122079Z",
     "shell.execute_reply.started": "2025-06-06T16:08:04.119749Z"
    }
   },
   "outputs": [],
   "source": [
    "def sigma_mag_LSST(m, m5, gamma=0.039):\n",
    "    x = 10 ** (0.4 * (m - m5))\n",
    "    return np.sqrt((0.04 - gamma) * x + gamma * x**2)"
   ]
  },
  {
   "cell_type": "code",
   "execution_count": null,
   "id": "1ea5a2f7-b51b-433f-8eed-a18fcfc5597a",
   "metadata": {
    "execution": {
     "iopub.execute_input": "2025-06-06T16:08:04.123032Z",
     "iopub.status.busy": "2025-06-06T16:08:04.122898Z",
     "iopub.status.idle": "2025-06-06T16:08:04.237722Z",
     "shell.execute_reply": "2025-06-06T16:08:04.237275Z",
     "shell.execute_reply.started": "2025-06-06T16:08:04.123019Z"
    }
   },
   "outputs": [],
   "source": [
    "\n",
    "mags = np.linspace(18, 27, 100)\n",
    "sigma_theo = sigma_mag_LSST(mags, m5=24.5, gamma=0.039)\n",
    "\n",
    "fig = plt.figure(figsize=(6,4))\n",
    "plt.plot(mags, sigma_theo, label=\"Photometric error model\", color=\"black\")\n",
    "plt.scatter(combined_df[\"median\"], combined_df[\"sigma\"], label=\"Données\", alpha=0.6)\n",
    "plt.ylim(0, 0.5)\n",
    "plt.xlabel(f\"{magnitude_name_selected}\" + \" (mag)\" )\n",
    "plt.ylabel(\"std dev (mag)\")\n",
    "plt.title(\"Sigma vs {magnitude_name_selected} — Data and Model\")\n",
    "plt.legend()\n",
    "plt.grid(True)\n",
    "plt.show()\n"
   ]
  },
  {
   "cell_type": "code",
   "execution_count": null,
   "id": "834492e7-5d11-4639-8472-a1a2ac02bc82",
   "metadata": {
    "execution": {
     "iopub.execute_input": "2025-06-06T16:08:04.238475Z",
     "iopub.status.busy": "2025-06-06T16:08:04.238328Z",
     "iopub.status.idle": "2025-06-06T16:08:04.245116Z",
     "shell.execute_reply": "2025-06-06T16:08:04.244749Z",
     "shell.execute_reply.started": "2025-06-06T16:08:04.238461Z"
    }
   },
   "outputs": [],
   "source": [
    "combined_df"
   ]
  },
  {
   "cell_type": "code",
   "execution_count": null,
   "id": "b6a178d5-4347-4807-80e8-ccf396d90241",
   "metadata": {
    "execution": {
     "iopub.execute_input": "2025-06-06T16:08:04.245699Z",
     "iopub.status.busy": "2025-06-06T16:08:04.245564Z",
     "iopub.status.idle": "2025-06-06T16:08:04.257212Z",
     "shell.execute_reply": "2025-06-06T16:08:04.256848Z",
     "shell.execute_reply.started": "2025-06-06T16:08:04.245686Z"
    }
   },
   "outputs": [],
   "source": [
    "import numpy as np\n",
    "import pandas as pd\n",
    "from scipy.optimize import curve_fit\n",
    "import matplotlib.pyplot as plt\n",
    "\n",
    "# Fonction modèle Rubin-LSST\n",
    "def sigma_model(mag, m5, gamma):\n",
    "    x = 10 ** (0.4 * (mag - m5))\n",
    "    return np.sqrt((0.04 - gamma) * x + gamma * x**2)\n"
   ]
  },
  {
   "cell_type": "code",
   "execution_count": null,
   "id": "84a7c38c-c828-4b13-a0bf-f190c5b52eb5",
   "metadata": {
    "execution": {
     "iopub.execute_input": "2025-06-06T16:08:04.257827Z",
     "iopub.status.busy": "2025-06-06T16:08:04.257692Z",
     "iopub.status.idle": "2025-06-06T16:08:04.396977Z",
     "shell.execute_reply": "2025-06-06T16:08:04.396530Z",
     "shell.execute_reply.started": "2025-06-06T16:08:04.257815Z"
    }
   },
   "outputs": [],
   "source": [
    "from astropy.stats import sigma_clip\n",
    "\n",
    "# Bande à fitter\n",
    "band = \"r\"\n",
    "\n",
    "# Extraire données\n",
    "df_band = combined_df[combined_df[\"band\"] == band]\n",
    "mags = df_band[\"median\"].values\n",
    "sigmas = df_band[\"sigma\"].values\n",
    "\n",
    "# Filtrer pour éviter les zéros ou NaNs\n",
    "mask = (sigmas > 0) & np.isfinite(mags)\n",
    "mags = mags[mask]\n",
    "sigmas = sigmas[mask]\n",
    "\n",
    "clipped = sigma_clip(sigmas, sigma=3, maxiters=5)\n",
    "mags_clipped = mags[~clipped.mask]\n",
    "sigmas_clipped = sigmas[~clipped.mask]\n",
    "\n",
    "\n",
    "# Fit initial avec guess sur m5 et gamma\n",
    "p0 = [24.0, 0.039]  # m5 initial, gamma initial\n",
    "bounds = ([20.0, 0.01], [28.0, 0.1])  # limites raisonnables\n",
    "\n",
    "#popt, pcov = curve_fit(sigma_model, mags, sigmas, p0=p0, bounds=bounds)\n",
    "# Fit\n",
    "popt, pcov = curve_fit(sigma_model, mags_clipped, sigmas_clipped, p0=p0, bounds=bounds)\n",
    "\n",
    "m5_fit, gamma_fit = popt\n",
    "\n",
    "\n",
    "\n",
    "print(f\"Fit in band {band}: m5 = {m5_fit:.3f}, gamma = {gamma_fit:.4f}\")\n",
    "\n",
    "# Tracé\n",
    "mag_range = np.linspace(mags.min(), mags.max(), 200)\n",
    "sigma_fit = sigma_model(mag_range, m5_fit, gamma_fit)\n",
    "\n",
    "plt.figure(figsize=(10, 6))\n",
    "plt.scatter(mags, sigmas, label=\"Data\", alpha=0.6)\n",
    "plt.plot(mag_range, sigma_fit, \"r--\", label=\"Fit\")\n",
    "plt.xlabel(f\"{magnitude_name_selected} (mag)\")\n",
    "plt.ylabel(\"Sigma\")\n",
    "plt.title(f\"Band {band} : Fit σ vs {magnitude_name_selected}\\n(m5 = {m5_fit:.2f}, γ = {gamma_fit:.4f})\")\n",
    "plt.ylim(0, 0.1)\n",
    "plt.grid(True)\n",
    "plt.legend()\n",
    "plt.show()"
   ]
  },
  {
   "cell_type": "code",
   "execution_count": null,
   "id": "85714fb5-20e9-422a-8036-5a8ece9f682b",
   "metadata": {
    "execution": {
     "iopub.execute_input": "2025-06-06T16:08:04.397673Z",
     "iopub.status.busy": "2025-06-06T16:08:04.397524Z",
     "iopub.status.idle": "2025-06-06T16:08:04.424707Z",
     "shell.execute_reply": "2025-06-06T16:08:04.424303Z",
     "shell.execute_reply.started": "2025-06-06T16:08:04.397659Z"
    }
   },
   "outputs": [],
   "source": [
    "from astropy.stats import sigma_clip\n",
    "\n",
    "results = []\n",
    "\n",
    "for band in combined_df[\"band\"].unique():\n",
    "    df_band = combined_df[combined_df[\"band\"] == band]\n",
    "    mags = df_band[\"median\"].values\n",
    "    sigmas = df_band[\"sigma\"].values\n",
    "    \n",
    "    # Nettoyage\n",
    "    mask = (sigmas > 0) & np.isfinite(mags)\n",
    "    mags = mags[mask]\n",
    "    sigmas = sigmas[mask]\n",
    "\n",
    "    # Sigma-clipping\n",
    "    clipped = sigma_clip(sigmas, sigma=3, maxiters=5)\n",
    "    mags = mags[~clipped.mask]\n",
    "    sigmas = sigmas[~clipped.mask]\n",
    "\n",
    "    # Fit\n",
    "    try:\n",
    "        popt, _ = curve_fit(sigma_model, mags, sigmas, p0=[24.0, 0.039], bounds=([20, 0.01], [28, 0.1]))\n",
    "        m5_fit, gamma_fit = popt\n",
    "        results.append({\"band\": band, \"m5\": m5_fit, \"gamma\": gamma_fit, \"n\": len(mags)})\n",
    "    except RuntimeError:\n",
    "        print(f\"Fit failed for band {band}\")\n",
    "        results.append({\"band\": band, \"m5\": np.nan, \"gamma\": np.nan, \"n\": len(mags)})\n",
    "\n",
    "fit_df = pd.DataFrame(results)\n",
    "print(fit_df)\n"
   ]
  },
  {
   "cell_type": "code",
   "execution_count": null,
   "id": "b10e198f-39e6-43e9-be9b-0f379156e7fe",
   "metadata": {
    "execution": {
     "iopub.execute_input": "2025-06-06T16:08:04.425342Z",
     "iopub.status.busy": "2025-06-06T16:08:04.425204Z",
     "iopub.status.idle": "2025-06-06T16:08:05.516963Z",
     "shell.execute_reply": "2025-06-06T16:08:05.516372Z",
     "shell.execute_reply.started": "2025-06-06T16:08:04.425329Z"
    }
   },
   "outputs": [],
   "source": [
    "import numpy as np\n",
    "import pandas as pd\n",
    "import seaborn as sns\n",
    "import matplotlib.pyplot as plt\n",
    "from astropy.stats import sigma_clip\n",
    "from scipy.optimize import curve_fit\n",
    "\n",
    "# Fonction modèle Rubin-LSST\n",
    "def sigma_model(mag, m5, gamma):\n",
    "    x = 10 ** (0.4 * (mag - m5))\n",
    "    return np.sqrt((0.04 - gamma) * x + gamma * x**2)\n",
    "\n",
    "# Liste des bandes\n",
    "bands = combined_df[\"band\"].unique()\n",
    "all_fit_preds = []\n",
    "fit_results = []\n",
    "\n",
    "for band in bands:\n",
    "    df_band = combined_df[combined_df[\"band\"] == band]\n",
    "    mags = df_band[\"median\"].values\n",
    "    sigmas = df_band[\"sigma\"].values\n",
    "\n",
    "    # Nettoyage et clipping\n",
    "    mask = (sigmas > 0) & np.isfinite(mags)\n",
    "    mags = mags[mask]\n",
    "    sigmas = sigmas[mask]\n",
    "    clipped = sigma_clip(sigmas, sigma=3, maxiters=5)\n",
    "    mags = mags[~clipped.mask]\n",
    "    sigmas = sigmas[~clipped.mask]\n",
    "\n",
    "    try:\n",
    "        popt, _ = curve_fit(sigma_model, mags, sigmas, p0=[24.0, 0.039], bounds=([20, 0.01], [28, 0.1]))\n",
    "        m5_fit, gamma_fit = popt\n",
    "        \n",
    "        fit_results.append({\"band\": band, \"m5\": m5_fit, \"gamma\": gamma_fit})\n",
    "\n",
    "        # Courbe lissée pour superposition\n",
    "        xfit = np.linspace(mags.min() - 0.2, mags.max() + 0.2, 100)\n",
    "        yfit = sigma_model(xfit, m5_fit, gamma_fit)\n",
    "        df_pred = pd.DataFrame({\n",
    "            \"median\": xfit,\n",
    "            \"sigma_fit\": yfit,\n",
    "            \"band\": band\n",
    "        })\n",
    "        all_fit_preds.append(df_pred)\n",
    "\n",
    "    except RuntimeError:\n",
    "        print(f\"Fit échoué pour {band}\")\n",
    "\n",
    "# Combiner les prédictions\n",
    "fit_predictions_df = pd.concat(all_fit_preds, ignore_index=True)\n",
    "\n",
    "# Plot : FacetGrid avec seaborn\n",
    "sns.set(style=\"whitegrid\")\n",
    "\n",
    "g = sns.FacetGrid(combined_df, col=\"band\", col_wrap=3, height=4, sharex=False, sharey=True)\n",
    "g.map_dataframe(sns.scatterplot, x=\"median\", y=\"sigma\", color=\"k\",alpha=1.0)\n",
    "\n",
    "# Superposer les courbes de fit\n",
    "count = 0\n",
    "for ax, band in zip(g.axes.flat, bands):\n",
    "    pred = fit_predictions_df[fit_predictions_df[\"band\"] == band]\n",
    "    ax.plot(pred[\"median\"], pred[\"sigma_fit\"], color=all_bands_colors[count],lw=2)\n",
    "\n",
    "    # Récupérer les paramètres ajustés pour cette bande\n",
    "    row = next((r for r in fit_results if r[\"band\"] == band), None)\n",
    "    if row:\n",
    "        label = f\"m₅ = {row['m5']:.2f}, γ = {row['gamma']:.3f}\"\n",
    "        ax.legend([label])\n",
    "\n",
    "    ax.set_ylim(0, 0.08)\n",
    "    count +=1\n",
    "\n",
    "g.set_axis_labels(f\"{magnitude_name_selected} (mag)\", \"Standard deviation (mag)\")\n",
    "g.fig.suptitle(f\"Light curves with {magnitude_name_selected} in LSSTComCam-ECDFS : σ vs magnitude\", fontsize=16)\n",
    "g.fig.tight_layout()\n",
    "g.fig.subplots_adjust(top=0.92)\n",
    "plt.show()\n"
   ]
  },
  {
   "cell_type": "code",
   "execution_count": null,
   "id": "ad2b436f-c9bf-4809-990e-5632df0c62d7",
   "metadata": {},
   "outputs": [],
   "source": []
  }
 ],
 "metadata": {
  "kernelspec": {
   "display_name": "LSST",
   "language": "python",
   "name": "lsst"
  },
  "language_info": {
   "codemirror_mode": {
    "name": "ipython",
    "version": 3
   },
   "file_extension": ".py",
   "mimetype": "text/x-python",
   "name": "python",
   "nbconvert_exporter": "python",
   "pygments_lexer": "ipython3",
   "version": "3.12.10"
  }
 },
 "nbformat": 4,
 "nbformat_minor": 5
}
