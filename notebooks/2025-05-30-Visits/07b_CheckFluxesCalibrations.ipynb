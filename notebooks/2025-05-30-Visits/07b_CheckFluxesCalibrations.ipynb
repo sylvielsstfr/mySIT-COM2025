{
 "cells": [
  {
   "cell_type": "markdown",
   "id": "ff5f9cc3-7a18-4fa1-9931-9270f3e0d3ab",
   "metadata": {},
   "source": [
    "# Check source calibration\n",
    "\n",
    "- author : Sylvie Dagoret-Campagne\n",
    "- creation date : 2025-06-06\n",
    "- last update  : 2025-06-07"
   ]
  },
  {
   "cell_type": "code",
   "execution_count": null,
   "id": "de78d296-c70d-4445-88ec-7c1fcdf5a435",
   "metadata": {},
   "outputs": [],
   "source": [
    "import numpy as np\n",
    "import pandas as pd"
   ]
  },
  {
   "cell_type": "code",
   "execution_count": null,
   "id": "3d1e3baa-7e6d-4acf-a9e1-2eafde9aa553",
   "metadata": {},
   "outputs": [],
   "source": [
    "import matplotlib.pyplot as plt"
   ]
  },
  {
   "cell_type": "code",
   "execution_count": null,
   "id": "38bb5fa9-51f4-4cf8-b5b6-c66f70f73570",
   "metadata": {},
   "outputs": [],
   "source": [
    "import astropy.units as u\n",
    "from astropy.stats import sigma_clipped_stats"
   ]
  },
  {
   "cell_type": "code",
   "execution_count": null,
   "id": "a172e549-b91f-44b1-ae92-ea117f668ef6",
   "metadata": {},
   "outputs": [],
   "source": [
    "plt.rcParams[\"figure.figsize\"] = (10, 6)\n",
    "plt.rcParams[\"axes.labelsize\"] = \"x-large\"\n",
    "plt.rcParams[\"axes.titlesize\"] = \"x-large\"\n",
    "plt.rcParams[\"xtick.labelsize\"] = \"x-large\"\n",
    "plt.rcParams[\"ytick.labelsize\"] = \"x-large\"\n",
    "\n",
    "# Set up some plotting defaults:\n",
    "plt.rcParams.update({'figure.figsize' : (12, 8)})\n",
    "plt.rcParams.update({'font.size' : 16})\n",
    "plt.rcParams.update({'axes.linewidth' : 3})\n",
    "plt.rcParams.update({'axes.labelweight' : 3})\n",
    "plt.rcParams.update({'axes.titleweight' : 5})\n",
    "plt.rcParams.update({'ytick.major.width' : 3})\n",
    "plt.rcParams.update({'ytick.minor.width' : 2})\n",
    "plt.rcParams.update({'ytick.major.size' : 8})\n",
    "plt.rcParams.update({'ytick.minor.size' : 5})\n",
    "plt.rcParams.update({'xtick.major.size' : 8})\n",
    "plt.rcParams.update({'xtick.minor.size' : 5})\n",
    "plt.rcParams.update({'xtick.major.width' : 3})\n",
    "plt.rcParams.update({'xtick.minor.width' : 2})\n",
    "plt.rcParams.update({'xtick.direction' : 'in'})\n",
    "plt.rcParams.update({'ytick.direction' : 'in'})\n"
   ]
  },
  {
   "cell_type": "code",
   "execution_count": null,
   "id": "f5f3b6d8-2762-4201-b9f2-ee7086b0073c",
   "metadata": {},
   "outputs": [],
   "source": [
    "all_bands = [\"u\", \"g\", \"r\", \"i\", \"z\", \"y\"]\n",
    "all_bands_colors = [\"blue\", \"green\", \"red\", \"orange\", \"yellow\", \"purple\"]"
   ]
  },
  {
   "cell_type": "code",
   "execution_count": null,
   "id": "43db307e-48e5-42cb-bd74-41569a4577da",
   "metadata": {},
   "outputs": [],
   "source": [
    "def nJy_to_ab_mag(f_njy):\n",
    "    \"\"\"Convert scalar or array flux in nJy to AB magnitude.\"\"\"\n",
    "    f_njy = np.asarray(f_njy)\n",
    "    mag = np.full_like(f_njy, fill_value=np.nan, dtype=float)\n",
    "    mask = f_njy > 0\n",
    "    mag[mask] = -2.5 * np.log10(f_njy[mask]) + 31.4\n",
    "    return mag\n",
    "\n",
    "\n",
    "def nJy_err_to_ab_err(f_njy, f_err):\n",
    "    \"\"\"Propagate flux error to magnitude error.\"\"\"\n",
    "    f_njy = np.asarray(f_njy)\n",
    "    f_err = np.asarray(f_err)\n",
    "    mag_err = np.full_like(f_njy, fill_value=np.nan, dtype=float)\n",
    "    mask = (f_njy > 0) & (f_err > 0)\n",
    "    mag_err[mask] = (2.5 / np.log(10)) * (f_err[mask] / f_njy[mask])\n",
    "    return mag_err\n"
   ]
  },
  {
   "cell_type": "code",
   "execution_count": null,
   "id": "d2c325a9-b8da-4b19-aa3e-b2ee7109fc25",
   "metadata": {},
   "outputs": [],
   "source": [
    "file = \"all_src_t5063_p14_magcutg25_psf_ap.csv\"\n",
    "ap_radius = [ '03','06','09','12','17','25','35','50','70' ]"
   ]
  },
  {
   "cell_type": "markdown",
   "id": "4a965f7c-ff89-409a-87f2-4c3ebc38f6c7",
   "metadata": {},
   "source": [
    "## Input file read and process"
   ]
  },
  {
   "cell_type": "code",
   "execution_count": null,
   "id": "6674e743-ccc0-4fb9-b179-a6de8211cd0f",
   "metadata": {},
   "outputs": [],
   "source": [
    "df = pd.read_csv(file)"
   ]
  },
  {
   "cell_type": "code",
   "execution_count": null,
   "id": "634cb73b-c1b5-4487-80e0-1f5738a8e656",
   "metadata": {},
   "outputs": [],
   "source": [
    "print(list(df.columns))"
   ]
  },
  {
   "cell_type": "markdown",
   "id": "31292fbc-2899-4391-a6b3-47ebdba4a309",
   "metadata": {},
   "source": [
    "### Pre-compute usefull quantities like mags, flux ratio and differences en mag differences"
   ]
  },
  {
   "cell_type": "code",
   "execution_count": null,
   "id": "a0551599-3c2f-4fb8-a459-4c0aa721f601",
   "metadata": {},
   "outputs": [],
   "source": [
    "psfflux_name = \"psfFlux\"\n",
    "psffluxerr_name = \"psfFluxErr\"\n",
    "psfmag_name = \"psfMag\"\n",
    "psfmagerr_name = \"psfMagErr\"            \n",
    "df[psfmag_name] = df[psfflux_name].apply(nJy_to_ab_mag)\n",
    "df[psfmagerr_name] = nJy_err_to_ab_err(df[psfflux_name], df[psffluxerr_name])"
   ]
  },
  {
   "cell_type": "code",
   "execution_count": null,
   "id": "94baec48-7979-4f4d-adb9-3707fedb2915",
   "metadata": {},
   "outputs": [],
   "source": [
    "calibflux_name = \"calibFlux\"\n",
    "calibfluxerr_name = \"calibFluxErr\"\n",
    "calibmag_name = \"calibMag\"\n",
    "calibmagerr_name = \"calibMagErr\"            \n",
    "df[calibmag_name] = df[calibflux_name].apply(nJy_to_ab_mag)\n",
    "df[calibmagerr_name] = nJy_err_to_ab_err(df[calibflux_name], df[calibfluxerr_name])"
   ]
  },
  {
   "cell_type": "code",
   "execution_count": null,
   "id": "c7880dfc-d496-4299-b49c-b6bdf05a880a",
   "metadata": {},
   "outputs": [],
   "source": [
    "df[\"ratio_calibFlux\"] = df[\"calibFlux\"]/df[\"psfFlux\"] \n",
    "df[\"diff_calibFlux\"] = df[\"calibFlux\"]-df[\"psfFlux\"] \n",
    "df[\"diff_calibMag\"] = (df[calibmag_name]  -  df[psfmag_name])*1000.  \n",
    "df[\"ratiodiff_calibFlux\"] = df[\"diff_calibFlux\"]/df[\"psfFlux\"]"
   ]
  },
  {
   "cell_type": "code",
   "execution_count": null,
   "id": "a8a49df2-2b1c-45ff-965c-c2ad6f36edab",
   "metadata": {},
   "outputs": [],
   "source": [
    "for radius in ap_radius:\n",
    "    fluxName = f\"ap{radius}Flux\"\n",
    "    magName = f\"ap{radius}Mag\"\n",
    "\n",
    "    # compute the magnitude\n",
    "    df[magName] = df[fluxName].apply(nJy_to_ab_mag)\n",
    "\n",
    "    # define the columns names\n",
    "    diff_fluxname = \"diff_\" + fluxName\n",
    "    ratio_name = \"ratio_\" + fluxName\n",
    "    diffratio_name = \"ratiodiff_\" + fluxName\n",
    "\n",
    "     # calculate the ratio and difference for Ap Fluxes \n",
    "    df[ratio_name] =  df[fluxName]/df[\"psfFlux\"] \n",
    "    df[diff_fluxname] = df[fluxName] - df[\"calibFlux\"]\n",
    "    df[diffratio_name] = df[diff_fluxname]/df[\"psfFlux\"] \n",
    "\n",
    "    # On Ap magnitudes:\n",
    "    # to find the closest aperture flux to the psf or calib\n",
    "    diff_magname_psf = \"diff_\" + magName + \"_psf\"\n",
    "    diff_magname_calib= \"diff_\" + magName + \"_calib\"\n",
    "\n",
    "    # calculate the difference for magnitudes\n",
    "    df[diff_magname_psf] = (df[magName] - df[psfmag_name])*1000.\n",
    "    df[diff_magname_calib] = (df[magName] - df[calibmag_name])*1000.\n"
   ]
  },
  {
   "cell_type": "code",
   "execution_count": null,
   "id": "9f3372b5-248a-4024-9006-2a30c6b8231a",
   "metadata": {},
   "outputs": [],
   "source": [
    "print(list(df.columns))"
   ]
  },
  {
   "cell_type": "markdown",
   "id": "9e4f8889-9004-4d79-b550-15e0523aec7e",
   "metadata": {},
   "source": [
    "### Separate in different bands and cut on Mag\n",
    "- mag cut to avoid large tail at low flux preventing viewing histograms"
   ]
  },
  {
   "cell_type": "code",
   "execution_count": null,
   "id": "e4aeaacb-5f9a-427a-9a32-56de4f5d708a",
   "metadata": {},
   "outputs": [],
   "source": [
    "MAGCUT = 20\n",
    "df = df[df[psfmag_name] < MAGCUT]"
   ]
  },
  {
   "cell_type": "code",
   "execution_count": null,
   "id": "8683dce8-6e3c-45ab-a64d-d8734dfc9683",
   "metadata": {},
   "outputs": [],
   "source": [
    "all_df = []\n",
    "for band in all_bands:\n",
    "    the_df = df[df[\"band\"] == band]\n",
    "    all_df.append(the_df)"
   ]
  },
  {
   "cell_type": "markdown",
   "id": "01ff9ce3-5a7d-4541-8d09-fad20bfe1301",
   "metadata": {},
   "source": [
    "## Define Plots"
   ]
  },
  {
   "cell_type": "code",
   "execution_count": null,
   "id": "954ae40b-a296-4f96-9a7a-b2b870286a4e",
   "metadata": {},
   "outputs": [],
   "source": [
    "def plot_scatter_perband(x,y,nrows=2,ncols=3,scale = \"log\",bisectriss = True, aspect=\"equal\"):\n",
    "    fig,axes = plt.subplots(nrows,ncols,figsize=(16,10),layout=\"constrained\")\n",
    "    axs = axes.flatten()\n",
    "\n",
    "    for idx,band in enumerate(all_bands):\n",
    "        \n",
    "        ax = axs[idx]\n",
    "        the_color = all_bands_colors[idx]\n",
    "        the_df = all_df[idx]\n",
    "\n",
    "        the_x = the_df[x].values\n",
    "        the_y = the_df[y].values\n",
    "\n",
    "        the_x = the_x[~np.isnan(the_x)]\n",
    "        the_y = the_y[~np.isnan(the_y)]\n",
    "\n",
    "        min_val = min(np.min(the_x), np.min(the_y))\n",
    "        max_val = max(np.max(the_x), np.max(the_y))\n",
    "\n",
    "        if bisectriss :\n",
    "            ax.plot([min_val, max_val], [min_val, max_val], 'k--',lw=3)\n",
    "        else:\n",
    "            ax.axhline(1,color=\"k\")\n",
    "\n",
    "\n",
    "        the_df.plot.scatter(x=x,y=y,ax=ax,marker=\"o\",color=the_color,label=band,alpha=0.5)\n",
    "\n",
    "        \n",
    "        ax.legend()\n",
    "        ax.grid()\n",
    "        #ax.set_xlim(min_val,max_val)\n",
    "        #ax.set_ylim(min_val,max_val)\n",
    "        ax.set_yscale(scale)\n",
    "        ax.set_xscale(scale)\n",
    "        ax.set_aspect(aspect)\n",
    "        \n",
    "    suptitle = f\"{y} vs {x}\"\n",
    "    plt.suptitle(suptitle,fontsize=16,fontweight=\"bold\")\n",
    "    plt.show()\n"
   ]
  },
  {
   "cell_type": "code",
   "execution_count": null,
   "id": "ade9f379-3ca9-4360-91bb-3091d0c9eb14",
   "metadata": {},
   "outputs": [],
   "source": [
    "def plot_histo_perband(x,bins=50, nrows=2,ncols=3,scale = \"log\", aspect=\"auto\",unit = \"mmag\"):\n",
    "    fig,axes = plt.subplots(nrows,ncols,figsize=(16,10),layout=\"constrained\")\n",
    "    axs = axes.flatten()\n",
    "\n",
    "    stats_per_band = {}  # ou [] si tu préfères construire une liste de dicts\n",
    "    for idx,band in enumerate(all_bands):\n",
    "        \n",
    "        ax = axs[idx]\n",
    "        the_color = all_bands_colors[idx]\n",
    "        the_df = all_df[idx]\n",
    "\n",
    "        the_x = the_df[x].values\n",
    "        the_x = the_x[~np.isnan(the_x)]\n",
    "\n",
    "        mean, median, std = sigma_clipped_stats(the_x, sigma=3.0, maxiters=5)\n",
    "        \n",
    "        \n",
    "        # Ajouter un encadré avec les statistiques\n",
    "        stats_text = f\"mean = {mean:.2f} {unit} \\nmedian = {median:.2f} {unit} \\nσ = {std:.2f} {unit}\"\n",
    "        ax.text(\n",
    "            0.6, 0.85,\n",
    "            stats_text,\n",
    "            transform=ax.transAxes,\n",
    "            fontsize=12,\n",
    "            verticalalignment='bottom',\n",
    "            horizontalalignment='left',\n",
    "            bbox=dict(facecolor='white', alpha=0.8, edgecolor='gray')\n",
    "            )\n",
    "        stats_per_band[band] = {\n",
    "            \"mean\": mean,\n",
    "            \"median\": median,\n",
    "            \"sigma\": std\n",
    "        }\n",
    "            \n",
    "        ax.hist(the_x,bins=bins,range=(median- 5*std, median + 5*std),color = the_color, label = band)\n",
    "    \n",
    "        \n",
    "        ax.legend(loc=\"upper left\")\n",
    "        ax.grid()\n",
    "\n",
    "        if scale == \"log\":\n",
    "            ax.set_yscale(scale)\n",
    "        #ax.set_xscale(scale)\n",
    "        ax.set_aspect(aspect)\n",
    "\n",
    "    stats_df = pd.DataFrame.from_dict(stats_per_band, orient='index')\n",
    "    stats_df.index.name = \"band\"\n",
    "        \n",
    "    suptitle = f\"{x}\"\n",
    "    plt.suptitle(suptitle,fontsize=16,fontweight=\"bold\")\n",
    "    plt.show()\n",
    "    return  stats_df\n"
   ]
  },
  {
   "cell_type": "markdown",
   "id": "1bfde8bf-f220-4033-a52f-5bceab6516c8",
   "metadata": {},
   "source": [
    "## Run the plots"
   ]
  },
  {
   "cell_type": "markdown",
   "id": "3edba8f1-c69b-41d7-b9c4-881932a3f7ff",
   "metadata": {},
   "source": [
    "### 2D scatter plots "
   ]
  },
  {
   "cell_type": "code",
   "execution_count": null,
   "id": "037ea29d-1871-464f-a857-5119a1dfc283",
   "metadata": {},
   "outputs": [],
   "source": [
    "plot_scatter_perband(x= \"psfFlux\",y= \"calibFlux\")"
   ]
  },
  {
   "cell_type": "code",
   "execution_count": null,
   "id": "3c8620a8-ac6d-4e9c-a64b-6c3f7d65e5e4",
   "metadata": {},
   "outputs": [],
   "source": [
    "plot_scatter_perband(x= \"psfFlux\",y= \"ratio_calibFlux\",bisectriss = False, aspect=\"auto\")"
   ]
  },
  {
   "cell_type": "markdown",
   "id": "1c13b185-4024-4825-85d0-ecf3287a5f0e",
   "metadata": {},
   "source": [
    "## Aperture Fluxes"
   ]
  },
  {
   "cell_type": "markdown",
   "id": "adcc50ee-7c7b-4551-86e6-2055a3bd2d28",
   "metadata": {},
   "source": []
  },
  {
   "cell_type": "code",
   "execution_count": null,
   "id": "229f163a-3f61-4e89-9544-0744e292ef8e",
   "metadata": {},
   "outputs": [],
   "source": [
    "for radius in ap_radius:\n",
    "    fluxName = f\"ap{radius}Flux\"\n",
    "    ratio_name = \"ratio_\" + fluxName\n",
    "\n",
    "    plot_scatter_perband(x= \"psfFlux\",y = fluxName)\n",
    "    plot_scatter_perband(x= \"psfFlux\",y= ratio_name,bisectriss = False, aspect=\"auto\")"
   ]
  },
  {
   "cell_type": "markdown",
   "id": "49b9062d-bf31-4ad7-9e53-69042fa7f7da",
   "metadata": {},
   "source": [
    "### Histograms"
   ]
  },
  {
   "cell_type": "code",
   "execution_count": null,
   "id": "45bfca09-3928-4a88-a12a-082a2d3a0184",
   "metadata": {},
   "outputs": [],
   "source": [
    "stats_df_apcalib = plot_histo_perband(x=\"diff_calibFlux\",bins=50, nrows=2,ncols=3,scale = \"linear\", aspect=\"auto\",unit=\"nJ\")"
   ]
  },
  {
   "cell_type": "code",
   "execution_count": null,
   "id": "f7655cdd-8893-4aea-a044-cd2fc89a8a7e",
   "metadata": {},
   "outputs": [],
   "source": [
    "stats_df_calib_psf = plot_histo_perband(x=\"diff_calibMag\",bins=50, nrows=2,ncols=3,scale = \"log\", aspect=\"auto\",unit=\"mmag\")"
   ]
  },
  {
   "cell_type": "markdown",
   "id": "dea39fb5-0da7-4b68-8b8e-7546ff029210",
   "metadata": {},
   "source": [
    "## Plot magnitude difference Ap-mag - ref Mag  and make some statistics"
   ]
  },
  {
   "cell_type": "markdown",
   "id": "6644e2d3-a57e-4f48-bbb9-d0e9cdae9d67",
   "metadata": {},
   "source": [
    "### Magnitude difference Ap-mag - psf Mag "
   ]
  },
  {
   "cell_type": "code",
   "execution_count": null,
   "id": "7f582472-87b8-4b6d-a496-358b8770e052",
   "metadata": {},
   "outputs": [],
   "source": [
    "all_stat_ap_psf = {}\n",
    "\n",
    "for radius in ap_radius:\n",
    "    magName = f\"ap{radius}Mag\"\n",
    "    diff_magname_psf = \"diff_\" + magName + \"_psf\"\n",
    "    #diff_magname_calib= \"diff_\" + magName + \"_calib\"\n",
    "    \n",
    "    diff_name = \"diff_\" + magName\n",
    "    stats_df_ap = plot_histo_perband(x=diff_magname_psf,bins=50, nrows=2,ncols=3,scale = \"log\", aspect=\"auto\",unit=\"mmag\")\n",
    "    all_stat_ap_psf[radius] = stats_df_ap"
   ]
  },
  {
   "cell_type": "markdown",
   "id": "7ab3b665-6bc2-4e96-b204-48c662d3397f",
   "metadata": {},
   "source": [
    "### Magnitude difference Ap-mag - calib Mag "
   ]
  },
  {
   "cell_type": "code",
   "execution_count": null,
   "id": "278fc5ed-b576-44d2-ba99-2d69cb3f2fa2",
   "metadata": {},
   "outputs": [],
   "source": [
    "all_stats_ap_calib = {}\n",
    "\n",
    "for radius in ap_radius:\n",
    "    magName = f\"ap{radius}Mag\"\n",
    "    #diff_magname_calib = \"psf_\" + magName + \"_psf\"\n",
    "    diff_magname_calib= \"diff_\" + magName + \"_calib\"\n",
    "    \n",
    "   \n",
    "    stats_df_ap = plot_histo_perband(x=diff_magname_calib,bins=50, nrows=2,ncols=3,scale = \"log\", aspect=\"auto\",unit=\"mmag\")\n",
    "    all_stats_ap_calib[radius] = stats_df_ap"
   ]
  },
  {
   "cell_type": "code",
   "execution_count": null,
   "id": "08b69d27-5105-44e9-b007-e1692deeba95",
   "metadata": {},
   "outputs": [],
   "source": [
    "#all_stat_ap_psf"
   ]
  },
  {
   "cell_type": "code",
   "execution_count": null,
   "id": "a2af8563-a23a-430b-aae2-5e8445f53cfc",
   "metadata": {},
   "outputs": [],
   "source": [
    "#all_stat_ap_calib"
   ]
  },
  {
   "cell_type": "code",
   "execution_count": null,
   "id": "4d75a2e3-166b-45a7-8b42-1514328ed8d1",
   "metadata": {},
   "outputs": [],
   "source": [
    "all_stat_ap_calib.keys()"
   ]
  },
  {
   "cell_type": "code",
   "execution_count": null,
   "id": "0e7544e0-ea8f-4f4c-9fd4-a526a12e070f",
   "metadata": {},
   "outputs": [],
   "source": [
    "radii = sorted([float(k) for k in all_stat_ap_calib.keys()])"
   ]
  },
  {
   "cell_type": "code",
   "execution_count": null,
   "id": "04d30780-eb73-4c2c-8e98-2d2e6d6e7541",
   "metadata": {},
   "outputs": [],
   "source": [
    "all_stat_ap_calib['12']"
   ]
  },
  {
   "cell_type": "code",
   "execution_count": null,
   "id": "cf41ffb8-7197-4e37-88cc-7b57213c334f",
   "metadata": {},
   "outputs": [],
   "source": [
    "# Initialiser les courbes\n",
    "fig, ax = plt.subplots(figsize=(10, 8))\n",
    "\n",
    "for ib, band in enumerate(all_bands):\n",
    "    medians = []\n",
    "    sigmas = []\n",
    "    valid_radii = []\n",
    "    the_color = all_bands_colors[ib]\n",
    "    \n",
    "    for radius_str, df in all_stat_ap_psf.items():\n",
    "        \n",
    "        if band in df.index:\n",
    "            medians.append(df.loc[band, 'median'])\n",
    "            sigmas.append(df.loc[band, 'sigma'])\n",
    "            valid_radii.append(float(radius_str))\n",
    "    \n",
    "    ax.errorbar(valid_radii, medians, yerr=sigmas, label=band, marker='o', color= the_color,capsize=3)\n",
    "\n",
    "ax.set_xlabel('Radius R (pixels)')\n",
    "ax.set_ylabel('apMag(R) - psfMag (mmag)')\n",
    "ax.set_title('Magnitude difference (Aperture - Psf) vs radius')\n",
    "ax.legend(title='Band')\n",
    "ax.grid(True)\n",
    "plt.tight_layout()\n",
    "plt.show()"
   ]
  },
  {
   "cell_type": "code",
   "execution_count": null,
   "id": "1b714153-b2a9-4bc4-9bac-5fa4f000433a",
   "metadata": {},
   "outputs": [],
   "source": [
    "# Initialiser les courbes\n",
    "fig, ax = plt.subplots(figsize=(10, 8))\n",
    "\n",
    "for ib, band in enumerate(all_bands):\n",
    "    medians = []\n",
    "    sigmas = []\n",
    "    valid_radii = []\n",
    "    the_color = all_bands_colors[ib]\n",
    "    \n",
    "    for radius_str, df in all_stat_ap_calib.items():\n",
    "        \n",
    "        if band in df.index:\n",
    "            medians.append(df.loc[band, 'median'])\n",
    "            sigmas.append(df.loc[band, 'sigma'])\n",
    "            valid_radii.append(float(radius_str))\n",
    "    \n",
    "    ax.errorbar(valid_radii, medians, yerr=sigmas, label=band, marker='o', color= the_color,capsize=3)\n",
    "\n",
    "ax.set_xlabel('Radius R (pixels)')\n",
    "ax.set_ylabel('apMag(R) - calibMag (mmag)')\n",
    "ax.set_title('Magnitude difference (Aperture - Calib) vs radius')\n",
    "ax.legend(title='Band')\n",
    "ax.grid(True)\n",
    "plt.tight_layout()\n",
    "plt.show()"
   ]
  },
  {
   "cell_type": "code",
   "execution_count": null,
   "id": "6169d172-a58f-4a43-91ab-85c091379d62",
   "metadata": {},
   "outputs": [],
   "source": [
    "medians"
   ]
  },
  {
   "cell_type": "code",
   "execution_count": null,
   "id": "15d93631-1442-4c99-a5c0-7fb5e479ff67",
   "metadata": {},
   "outputs": [],
   "source": []
  }
 ],
 "metadata": {
  "kernelspec": {
   "display_name": "LSST",
   "language": "python",
   "name": "lsst"
  },
  "language_info": {
   "codemirror_mode": {
    "name": "ipython",
    "version": 3
   },
   "file_extension": ".py",
   "mimetype": "text/x-python",
   "name": "python",
   "nbconvert_exporter": "python",
   "pygments_lexer": "ipython3",
   "version": "3.12.10"
  }
 },
 "nbformat": 4,
 "nbformat_minor": 5
}
