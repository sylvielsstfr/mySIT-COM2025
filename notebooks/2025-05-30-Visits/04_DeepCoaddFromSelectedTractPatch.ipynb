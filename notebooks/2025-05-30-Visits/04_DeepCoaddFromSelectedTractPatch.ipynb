{
 "cells": [
  {
   "cell_type": "markdown",
   "id": "adda26b1-7594-48da-94d2-6722bd71353c",
   "metadata": {},
   "source": [
    "# Select the tract-patch with the highest number of visits and Show the Coadds "
   ]
  },
  {
   "cell_type": "markdown",
   "id": "1f276e2d-e5e1-4b30-bf3c-4ea950073fad",
   "metadata": {
    "execution": {
     "iopub.execute_input": "2025-04-29T08:48:57.989253Z",
     "iopub.status.busy": "2025-04-29T08:48:57.988923Z",
     "iopub.status.idle": "2025-04-29T08:48:57.993268Z",
     "shell.execute_reply": "2025-04-29T08:48:57.992764Z",
     "shell.execute_reply.started": "2025-04-29T08:48:57.989226Z"
    }
   },
   "source": [
    "- author : Sylvie Dagoret-Campagne\n",
    "- affiliation : IJCLab/IN2P3/CNRS\n",
    "- member : DESC, rubin-inkind\n",
    "- creation date : 2025-05-31\n",
    "- last update : 2025-05-31"
   ]
  },
  {
   "cell_type": "code",
   "execution_count": null,
   "id": "01996343-5a50-4c86-a6a2-261bc3bf8df0",
   "metadata": {
    "execution": {
     "iopub.execute_input": "2025-06-01T12:24:37.519192Z",
     "iopub.status.busy": "2025-06-01T12:24:37.518991Z",
     "iopub.status.idle": "2025-06-01T12:24:38.926673Z",
     "shell.execute_reply": "2025-06-01T12:24:38.926213Z",
     "shell.execute_reply.started": "2025-06-01T12:24:37.519167Z"
    }
   },
   "outputs": [],
   "source": [
    "import lsst.pipe.base\n",
    "print(lsst.pipe.base.__version__)"
   ]
  },
  {
   "cell_type": "code",
   "execution_count": null,
   "id": "72f36e25-589c-4a8c-865f-8b51f5f35270",
   "metadata": {
    "execution": {
     "iopub.execute_input": "2025-06-01T12:24:38.927408Z",
     "iopub.status.busy": "2025-06-01T12:24:38.927262Z",
     "iopub.status.idle": "2025-06-01T12:24:39.768249Z",
     "shell.execute_reply": "2025-06-01T12:24:39.767706Z",
     "shell.execute_reply.started": "2025-06-01T12:24:38.927393Z"
    }
   },
   "outputs": [],
   "source": [
    "import sys\n",
    "import matplotlib.pyplot as plt\n",
    "import lsst.afw.display as afwDisplay\n",
    "from lsst.geom import SpherePoint, degrees\n",
    "from lsst.afw.image import ExposureF\n",
    "from lsst.skymap import PatchInfo, Index2D\n",
    "import numpy as np\n",
    "import pandas as pd\n",
    "from astropy.time import Time\n",
    "import lsst.afw.display as afwDisplay\n",
    "# %matplotlib widget"
   ]
  },
  {
   "cell_type": "code",
   "execution_count": null,
   "id": "61970c43-da35-418a-a48b-d6eb5ebb2f54",
   "metadata": {
    "execution": {
     "iopub.execute_input": "2025-06-01T12:24:39.769292Z",
     "iopub.status.busy": "2025-06-01T12:24:39.768829Z",
     "iopub.status.idle": "2025-06-01T12:24:40.361075Z",
     "shell.execute_reply": "2025-06-01T12:24:40.360540Z",
     "shell.execute_reply.started": "2025-06-01T12:24:39.769276Z"
    }
   },
   "outputs": [],
   "source": [
    "import seaborn as sns"
   ]
  },
  {
   "cell_type": "code",
   "execution_count": null,
   "id": "f2580923-bf82-4204-a50d-c64eb56b9f06",
   "metadata": {
    "execution": {
     "iopub.execute_input": "2025-06-01T12:24:40.362017Z",
     "iopub.status.busy": "2025-06-01T12:24:40.361625Z",
     "iopub.status.idle": "2025-06-01T12:24:40.364996Z",
     "shell.execute_reply": "2025-06-01T12:24:40.364564Z",
     "shell.execute_reply.started": "2025-06-01T12:24:40.362001Z"
    }
   },
   "outputs": [],
   "source": [
    "plt.rcParams[\"figure.figsize\"] = (10, 6)\n",
    "plt.rcParams[\"axes.labelsize\"] = \"xx-large\"\n",
    "plt.rcParams[\"axes.titlesize\"] = \"xx-large\"\n",
    "plt.rcParams[\"xtick.labelsize\"] = \"xx-large\"\n",
    "plt.rcParams[\"ytick.labelsize\"] = \"xx-large\""
   ]
  },
  {
   "cell_type": "code",
   "execution_count": null,
   "id": "37adbe72-e5a6-4b45-9749-87467563d028",
   "metadata": {
    "execution": {
     "iopub.execute_input": "2025-06-01T12:24:40.365778Z",
     "iopub.status.busy": "2025-06-01T12:24:40.365475Z",
     "iopub.status.idle": "2025-06-01T12:24:40.379729Z",
     "shell.execute_reply": "2025-06-01T12:24:40.379361Z",
     "shell.execute_reply.started": "2025-06-01T12:24:40.365763Z"
    }
   },
   "outputs": [],
   "source": [
    "all_bands = [\"u\", \"g\", \"r\", \"i\", \"z\", \"y\"]\n",
    "all_bands_colors = [\"blue\", \"green\", \"red\", \"orange\", \"yellow\", \"purple\"]"
   ]
  },
  {
   "cell_type": "code",
   "execution_count": null,
   "id": "1a1a267b-58c7-468a-a336-2c8def253a79",
   "metadata": {
    "execution": {
     "iopub.execute_input": "2025-06-01T12:24:40.380441Z",
     "iopub.status.busy": "2025-06-01T12:24:40.380162Z",
     "iopub.status.idle": "2025-06-01T12:24:40.385999Z",
     "shell.execute_reply": "2025-06-01T12:24:40.385640Z",
     "shell.execute_reply.started": "2025-06-01T12:24:40.380426Z"
    }
   },
   "outputs": [],
   "source": [
    "import traceback"
   ]
  },
  {
   "cell_type": "code",
   "execution_count": null,
   "id": "ede21bda-146f-4c77-aa40-edf2debfbfc0",
   "metadata": {
    "execution": {
     "iopub.execute_input": "2025-06-01T12:24:40.386687Z",
     "iopub.status.busy": "2025-06-01T12:24:40.386430Z",
     "iopub.status.idle": "2025-06-01T12:24:40.392280Z",
     "shell.execute_reply": "2025-06-01T12:24:40.391925Z",
     "shell.execute_reply.started": "2025-06-01T12:24:40.386672Z"
    }
   },
   "outputs": [],
   "source": [
    "# Define butler\n",
    "from lsst.daf.butler import Butler"
   ]
  },
  {
   "cell_type": "code",
   "execution_count": null,
   "id": "c7ab7fe3-285d-48c2-973a-2dde9d0a7faa",
   "metadata": {
    "execution": {
     "iopub.execute_input": "2025-06-01T12:24:40.392970Z",
     "iopub.status.busy": "2025-06-01T12:24:40.392716Z",
     "iopub.status.idle": "2025-06-01T12:24:41.119303Z",
     "shell.execute_reply": "2025-06-01T12:24:41.118653Z",
     "shell.execute_reply.started": "2025-06-01T12:24:40.392956Z"
    }
   },
   "outputs": [],
   "source": [
    "!eups list lsst_distrib"
   ]
  },
  {
   "cell_type": "markdown",
   "id": "7e369002-01db-40e2-a7b7-036072114e6a",
   "metadata": {},
   "source": [
    "## RubinTV, Campaigns , quicklook\n",
    "- RubinTV : https://usdf-rsp.slac.stanford.edu/rubintv/summit-usdf/lsstcam\n",
    "- https://rubinobs.atlassian.net/wiki/spaces/LSSTCOM/pages/467370016/LSSTCam+Commissioning+Planning\n",
    "- LSSTCam DM campaign : https://rubinobs.atlassian.net/wiki/spaces/DM/pages/48834013/Campaigns#1.1.2.-LSSTCam-Nightly-Validation-Pipeline\n",
    "- Check campaign also here  https://rubinobs.atlassian.net/wiki/pages/diffpagesbyversion.action?pageId=48834013&selectedPageVersions=145%2C143\n",
    "- fov-quicklook : https://usdf-rsp-dev.slac.stanford.edu/fov-quicklook/"
   ]
  },
  {
   "cell_type": "markdown",
   "id": "4ce495c8-71a6-4846-86fc-5715e13348ab",
   "metadata": {},
   "source": [
    "## Configuration"
   ]
  },
  {
   "cell_type": "markdown",
   "id": "29bdd60b-f237-4a90-8aee-95f83091a5c8",
   "metadata": {},
   "source": [
    "### Choose instrument"
   ]
  },
  {
   "cell_type": "code",
   "execution_count": null,
   "id": "66ff700b-a6ab-4b6d-ab28-dfadf54fdd9f",
   "metadata": {
    "execution": {
     "iopub.execute_input": "2025-06-01T12:24:41.120179Z",
     "iopub.status.busy": "2025-06-01T12:24:41.120028Z",
     "iopub.status.idle": "2025-06-01T12:24:41.122994Z",
     "shell.execute_reply": "2025-06-01T12:24:41.122575Z",
     "shell.execute_reply.started": "2025-06-01T12:24:41.120162Z"
    }
   },
   "outputs": [],
   "source": [
    "# instrument = \"LSSTCam\"\n",
    "instrument = \"LSSTComCam\"\n",
    "# instrument = \"LATISS\""
   ]
  },
  {
   "cell_type": "markdown",
   "id": "6d0c9a3d-a12b-424a-9aed-1d1309179e07",
   "metadata": {},
   "source": [
    "### For LSSTCam : RubinTV, Campaigns , quicklook\n",
    "- RubinTV : https://usdf-rsp.slac.stanford.edu/rubintv/summit-usdf/lsstcam\n",
    "- https://rubinobs.atlassian.net/wiki/spaces/LSSTCOM/pages/467370016/LSSTCam+Commissioning+Planning\n",
    "- LSSTCam DM campaign : https://rubinobs.atlassian.net/wiki/spaces/DM/pages/48834013/Campaigns#1.1.2.-LSSTCam-Nightly-Validation-Pipeline\n",
    "- Check campaign also here  https://rubinobs.atlassian.net/wiki/pages/diffpagesbyversion.action?pageId=48834013&selectedPageVersions=145%2C143\n",
    "- fov-quicklook : https://usdf-rsp-dev.slac.stanford.edu/fov-quicklook/"
   ]
  },
  {
   "cell_type": "markdown",
   "id": "5542de7d-695e-4256-b765-28b902b02adc",
   "metadata": {},
   "source": [
    "### For LSSTComCam check here : \n",
    "- - Check here the collection available : https://rubinobs.atlassian.net/wiki/spaces/DM/pages/226656354/LSSTComCam+Intermittent+Cumulative+DRP+Runs"
   ]
  },
  {
   "cell_type": "code",
   "execution_count": null,
   "id": "eacb14b0-183c-4dcd-ba59-64c7ca3efcd3",
   "metadata": {
    "execution": {
     "iopub.execute_input": "2025-06-01T12:24:41.123637Z",
     "iopub.status.busy": "2025-06-01T12:24:41.123500Z",
     "iopub.status.idle": "2025-06-01T12:24:41.132405Z",
     "shell.execute_reply": "2025-06-01T12:24:41.131991Z",
     "shell.execute_reply.started": "2025-06-01T12:24:41.123625Z"
    }
   },
   "outputs": [],
   "source": [
    "if instrument == \"LSSTCam\":\n",
    "    repo = \"/repo/embargo\"\n",
    "    instrument = \"LSSTCam\"\n",
    "    collection_validation = instrument + \"/runs/nightlyValidation\"\n",
    "    # collection_quicklook   = instrument + '/runs/quickLookTesting'\n",
    "    collection_validation = os.path.join(collection_validation, \"20250416/d_2025_04_15/DM-50157\")\n",
    "    date_start = 20250415\n",
    "    date_selection = 20250416\n",
    "    where_clause = \"instrument = '\" + f\"{instrument}\" + \"'\"\n",
    "    where_clause_date = where_clause + f\"and day_obs >= {date_start}\"\n",
    "    skymapName = \"lsst_cells_v1\"\n",
    "\n",
    "elif instrument == \"LSSTComCam\":\n",
    "    repo = \"/repo/main\"\n",
    "    collection_validation = \"LSSTComCam/runs/DRP/DP1/w_2025_10/DM-49359\"  # work\n",
    "    date_start = 20241024\n",
    "    date_selection = 20241211\n",
    "    skymapName = \"lsst_cells_v1\"\n",
    "    where_clause = \"instrument = '\" + instrument + \"'\"\n",
    "    where_clause_date = where_clause + f\"and day_obs >= {date_start}\"\n",
    "\n",
    "    NDET = 9\n",
    "    TRACTSEL = 5063\n",
    "\n",
    "elif instrument == \"LSSTComCamSim\":\n",
    "    repo = \"/repo/main\"\n",
    "    collection_validation = \"LSSTComCamSim/*\"  # work\n",
    "    date_start = 20241024\n",
    "    date_selection = 20241211\n",
    "    skymapName = \"ops_rehersal_prep_2k_v1\"\n",
    "    where_clause = \"instrument = '\" + instrument + \"'\"\n",
    "    where_clause_date = where_clause + f\"and day_obs >= {date_start}\"\n",
    "\n",
    "    NDET = 9\n",
    "    TRACTSEL = 5063\n",
    "\n",
    "elif instrument == \"LATISS\":\n",
    "    repo = \"/repo/main\"\n",
    "    # collection_validation = instrument + \"/runs/quickLook\"\n",
    "    collection_validation = instrument + \"/raw/all\"\n",
    "    date_start = 20221001\n",
    "    date_selection = 20221001\n",
    "    skymapName = \"latiss_v1\"\n",
    "    where_clause = \"instrument = '\" + instrument + \"'\"\n",
    "    where_clause_date = where_clause + f\"and day_obs >= {date_start}\"\n",
    "\n",
    "    NDET = 9\n",
    "    TRACTSEL = 5063"
   ]
  },
  {
   "cell_type": "code",
   "execution_count": null,
   "id": "82535307-9253-4f06-b82a-956efd0217c9",
   "metadata": {
    "execution": {
     "iopub.execute_input": "2025-06-01T12:24:41.133038Z",
     "iopub.status.busy": "2025-06-01T12:24:41.132914Z",
     "iopub.status.idle": "2025-06-01T12:24:41.139653Z",
     "shell.execute_reply": "2025-06-01T12:24:41.139238Z",
     "shell.execute_reply.started": "2025-06-01T12:24:41.133026Z"
    }
   },
   "outputs": [],
   "source": [
    "collectionStr = collection_validation.replace(\"/\", \"_\")"
   ]
  },
  {
   "cell_type": "markdown",
   "id": "e77a39ca-c34f-4097-8a11-c40a121a82e9",
   "metadata": {},
   "source": [
    "## Access to Butler registry"
   ]
  },
  {
   "cell_type": "code",
   "execution_count": null,
   "id": "8726b7e4-94b7-48ac-92f8-447b34b7a59e",
   "metadata": {
    "execution": {
     "iopub.execute_input": "2025-06-01T12:24:41.140247Z",
     "iopub.status.busy": "2025-06-01T12:24:41.140124Z",
     "iopub.status.idle": "2025-06-01T12:24:41.527676Z",
     "shell.execute_reply": "2025-06-01T12:24:41.527118Z",
     "shell.execute_reply.started": "2025-06-01T12:24:41.140235Z"
    }
   },
   "outputs": [],
   "source": [
    "# Initialize the butler repo:\n",
    "butler = Butler(repo, collections=collection_validation)\n",
    "registry = butler.registry"
   ]
  },
  {
   "cell_type": "markdown",
   "id": "a82d1397-cd01-45d3-9f39-8b4f6bcbb21f",
   "metadata": {},
   "source": [
    "## Create a skymap object"
   ]
  },
  {
   "cell_type": "code",
   "execution_count": null,
   "id": "2a570834-a5dc-43b8-a0d3-af71a5b2706c",
   "metadata": {
    "execution": {
     "iopub.execute_input": "2025-06-01T12:24:41.528399Z",
     "iopub.status.busy": "2025-06-01T12:24:41.528254Z",
     "iopub.status.idle": "2025-06-01T12:24:41.530785Z",
     "shell.execute_reply": "2025-06-01T12:24:41.530414Z",
     "shell.execute_reply.started": "2025-06-01T12:24:41.528384Z"
    }
   },
   "outputs": [],
   "source": [
    "# skymap = butler.get(\"skyMap\", skymap=skymapName, collections=collection_validation)"
   ]
  },
  {
   "cell_type": "code",
   "execution_count": null,
   "id": "26edbe65-22fe-4377-9ea1-ad2a270da9a9",
   "metadata": {
    "execution": {
     "iopub.execute_input": "2025-06-01T12:24:41.531586Z",
     "iopub.status.busy": "2025-06-01T12:24:41.531204Z",
     "iopub.status.idle": "2025-06-01T12:24:41.909893Z",
     "shell.execute_reply": "2025-06-01T12:24:41.909364Z",
     "shell.execute_reply.started": "2025-06-01T12:24:41.531571Z"
    }
   },
   "outputs": [],
   "source": [
    "try:\n",
    "    skymap = butler.get(\"skyMap\", skymap=skymapName, collections=collection_validation)\n",
    "except Exception as inst:\n",
    "    print(type(inst))  # the exception type\n",
    "    print(inst.args)  # arguments stored in .args\n",
    "    print(inst)  # __str__ allows args to be printed directly,"
   ]
  },
  {
   "cell_type": "markdown",
   "id": "a70c8618-a3ca-4c9e-a97d-7ab848c4df85",
   "metadata": {},
   "source": [
    "## Dump registry into a pandas dataframe\n",
    "\n",
    "- Faster method to decode the registry in pandas dataframe : first save deconded filed into a list of fields and then flush the whole list in pandas instead of row by row\n",
    "- Be carefull the registry variable change in name and type perhaps depending on DM_version"
   ]
  },
  {
   "cell_type": "code",
   "execution_count": null,
   "id": "55d0f624-5a74-4a58-af6d-bb0d025d9a97",
   "metadata": {
    "execution": {
     "iopub.execute_input": "2025-06-01T12:24:41.910615Z",
     "iopub.status.busy": "2025-06-01T12:24:41.910463Z",
     "iopub.status.idle": "2025-06-01T12:24:41.913185Z",
     "shell.execute_reply": "2025-06-01T12:24:41.912762Z",
     "shell.execute_reply.started": "2025-06-01T12:24:41.910600Z"
    }
   },
   "outputs": [],
   "source": [
    "print(where_clause_date)"
   ]
  },
  {
   "cell_type": "code",
   "execution_count": null,
   "id": "7fb3f33e-6325-4610-aeb5-b4c8c3372e41",
   "metadata": {
    "execution": {
     "iopub.execute_input": "2025-06-01T12:24:41.913783Z",
     "iopub.status.busy": "2025-06-01T12:24:41.913656Z",
     "iopub.status.idle": "2025-06-01T12:24:41.930113Z",
     "shell.execute_reply": "2025-06-01T12:24:41.929622Z",
     "shell.execute_reply.started": "2025-06-01T12:24:41.913771Z"
    }
   },
   "outputs": [],
   "source": [
    "columns = [\n",
    "    \"id\",\n",
    "    \"obs_id\",\n",
    "    \"day_obs\",\n",
    "    \"seq_num\",\n",
    "    \"time_start\",\n",
    "    \"time_end\",\n",
    "    \"type\",\n",
    "    \"target\",\n",
    "    \"filter\",\n",
    "    \"zenith_angle\",\n",
    "    \"expos\",\n",
    "    \"ra\",\n",
    "    \"dec\",\n",
    "    \"skyangle\",\n",
    "    \"azimuth\",\n",
    "    \"zenith\",\n",
    "    \"science_program\",\n",
    "    \"jd\",\n",
    "    \"mjd\",\n",
    "]"
   ]
  },
  {
   "cell_type": "code",
   "execution_count": null,
   "id": "9a7e84e4-408f-4287-bddf-a366d0c0091c",
   "metadata": {
    "execution": {
     "iopub.execute_input": "2025-06-01T12:24:41.930722Z",
     "iopub.status.busy": "2025-06-01T12:24:41.930595Z",
     "iopub.status.idle": "2025-06-01T12:24:41.946527Z",
     "shell.execute_reply": "2025-06-01T12:24:41.946090Z",
     "shell.execute_reply.started": "2025-06-01T12:24:41.930711Z"
    }
   },
   "outputs": [],
   "source": [
    "df_exposure = pd.DataFrame(\n",
    "    {\n",
    "        \"id\": pd.Series(dtype=\"int\"),\n",
    "        \"obs_id\": pd.Series(dtype=\"int\"),\n",
    "        \"day_obs\": pd.Series(dtype=\"int\"),\n",
    "        \"seq_num\": pd.Series(dtype=\"int\"),\n",
    "        \"time_start\": pd.Series(dtype=\"str\"),  # ou 'datetime64[ns]' si c’est un datetime\n",
    "        \"time_end\": pd.Series(dtype=\"str\"),  # idem\n",
    "        \"type\": pd.Series(dtype=\"str\"),\n",
    "        \"target\": pd.Series(dtype=\"str\"),\n",
    "        \"filter\": pd.Series(dtype=\"str\"),\n",
    "        \"zenith_angle\": pd.Series(dtype=\"float\"),\n",
    "        \"expos\": pd.Series(dtype=\"float\"),  # ou 'int' selon le cas\n",
    "        \"ra\": pd.Series(dtype=\"float\"),\n",
    "        \"dec\": pd.Series(dtype=\"float\"),\n",
    "        \"skyangle\": pd.Series(dtype=\"float\"),\n",
    "        \"azimuth\": pd.Series(dtype=\"float\"),\n",
    "        \"zenith\": pd.Series(dtype=\"float\"),\n",
    "        \"science_program\": pd.Series(dtype=\"str\"),\n",
    "        \"jd\": pd.Series(dtype=\"float\"),\n",
    "        \"mjd\": pd.Series(dtype=\"float\"),\n",
    "    }\n",
    ")"
   ]
  },
  {
   "cell_type": "code",
   "execution_count": null,
   "id": "655e7d53-a2c3-40d7-9cb7-2cb451a6c4f4",
   "metadata": {
    "execution": {
     "iopub.execute_input": "2025-06-01T12:24:41.947138Z",
     "iopub.status.busy": "2025-06-01T12:24:41.947009Z",
     "iopub.status.idle": "2025-06-01T12:24:50.008535Z",
     "shell.execute_reply": "2025-06-01T12:24:50.007996Z",
     "shell.execute_reply.started": "2025-06-01T12:24:41.947126Z"
    }
   },
   "outputs": [],
   "source": [
    "# save the data array in rows before saving in pandas dataframe\n",
    "rows = []\n",
    "for count, info in enumerate(registry.queryDimensionRecords(\"exposure\", where=where_clause_date)):\n",
    "    try:\n",
    "        jd_start = info.timespan.begin.value\n",
    "        jd_end = info.timespan.end.value\n",
    "        the_Time_start = Time(jd_start, format=\"jd\", scale=\"utc\")\n",
    "        the_Time_end = Time(jd_end, format=\"jd\", scale=\"utc\")\n",
    "        mjd_start = the_Time_start.mjd\n",
    "        mjd_end = the_Time_end.mjd\n",
    "        isot_start = the_Time_start.isot\n",
    "        isot_end = the_Time_end.isot\n",
    "\n",
    "        if count == 0:\n",
    "            print(\"===== Time Conversion Debug Info =====\")\n",
    "            print(f\"JD start      : {jd_start} (type: {type(jd_start)})\")\n",
    "            print(f\"JD end        : {jd_end} (type: {type(jd_end)})\")\n",
    "            print(f\"MJD start     : {mjd_start} (type: {type(mjd_start)})\")\n",
    "            print(f\"MJD end       : {mjd_end} (type: {type(mjd_end)})\")\n",
    "            print(f\"ISOT start    : {isot_start} (type: {type(isot_start)})\")\n",
    "            print(f\"ISOT end      : {isot_end} (type: {type(isot_end)})\")\n",
    "            print(\"=======================================\")\n",
    "\n",
    "        # put row in a dictionnary before stacking\n",
    "        row = {\n",
    "            \"id\": info.id,\n",
    "            \"obs_id\": info.obs_id,\n",
    "            \"day_obs\": info.day_obs,\n",
    "            \"seq_num\": info.seq_num,\n",
    "            \"time_start\": isot_start,\n",
    "            \"time_end\": isot_end,\n",
    "            \"type\": info.observation_type,\n",
    "            \"target\": info.target_name,\n",
    "            \"filter\": info.physical_filter,\n",
    "            \"zenith_angle\": info.zenith_angle,\n",
    "            \"expos\": info.exposure_time,  # Exemple : adapter selon ton objet\n",
    "            \"ra\": info.tracking_ra,\n",
    "            \"dec\": info.tracking_dec,\n",
    "            \"skyangle\": info.sky_angle,\n",
    "            \"azimuth\": info.azimuth,\n",
    "            \"zenith\": info.zenith_angle,\n",
    "            \"science_program\": info.science_program,\n",
    "            \"jd\": float(jd_start),\n",
    "            \"mjd\": float(mjd_start),\n",
    "        }\n",
    "        rows.append(row)\n",
    "\n",
    "    except ValueError as e:\n",
    "        print(f\"Erreur de valeur : {e}\")\n",
    "    except FileNotFoundError as e:\n",
    "        print(f\"Fichier introuvable : {e}\")\n",
    "    except Exception as e:\n",
    "        print(f\"Erreur inattendue : {type(e).__name__} - {e}\")\n",
    "        print(f\">>>   Unexpected error at row {count}:\", sys.exc_info()[0])\n",
    "        traceback.print_exc()  # affiche la stack trace complète"
   ]
  },
  {
   "cell_type": "code",
   "execution_count": null,
   "id": "e8085e8c-c771-43f9-9e29-d42885493e88",
   "metadata": {
    "execution": {
     "iopub.execute_input": "2025-06-01T12:24:50.009287Z",
     "iopub.status.busy": "2025-06-01T12:24:50.009143Z",
     "iopub.status.idle": "2025-06-01T12:24:50.052574Z",
     "shell.execute_reply": "2025-06-01T12:24:50.052028Z",
     "shell.execute_reply.started": "2025-06-01T12:24:50.009271Z"
    }
   },
   "outputs": [],
   "source": [
    "# Création finale du DataFrame\n",
    "df_exposure = pd.DataFrame(rows)"
   ]
  },
  {
   "cell_type": "code",
   "execution_count": null,
   "id": "c9c0acb5-6827-411d-ae6f-e71fb7bd9974",
   "metadata": {
    "execution": {
     "iopub.execute_input": "2025-06-01T12:24:50.053285Z",
     "iopub.status.busy": "2025-06-01T12:24:50.053143Z",
     "iopub.status.idle": "2025-06-01T12:24:50.066985Z",
     "shell.execute_reply": "2025-06-01T12:24:50.066576Z",
     "shell.execute_reply.started": "2025-06-01T12:24:50.053271Z"
    }
   },
   "outputs": [],
   "source": [
    "df_exposure"
   ]
  },
  {
   "cell_type": "code",
   "execution_count": null,
   "id": "55855b74-0407-41b7-a4c2-623d6c4898ed",
   "metadata": {
    "execution": {
     "iopub.execute_input": "2025-06-01T12:24:50.067630Z",
     "iopub.status.busy": "2025-06-01T12:24:50.067478Z",
     "iopub.status.idle": "2025-06-01T12:24:50.069686Z",
     "shell.execute_reply": "2025-06-01T12:24:50.069316Z",
     "shell.execute_reply.started": "2025-06-01T12:24:50.067617Z"
    }
   },
   "outputs": [],
   "source": [
    "# df_exposure = df_exposure.astype({\"id\": int,'day_obs': int,'seq_num':int})"
   ]
  },
  {
   "cell_type": "markdown",
   "id": "57fbfb69-c000-4264-87d5-ea498c5d8150",
   "metadata": {},
   "source": [
    "## Select science exposures"
   ]
  },
  {
   "cell_type": "code",
   "execution_count": null,
   "id": "bf35edd5-74e0-40c1-a641-69b85dd843f1",
   "metadata": {
    "execution": {
     "iopub.execute_input": "2025-06-01T12:24:50.072807Z",
     "iopub.status.busy": "2025-06-01T12:24:50.072675Z",
     "iopub.status.idle": "2025-06-01T12:24:50.077528Z",
     "shell.execute_reply": "2025-06-01T12:24:50.077094Z",
     "shell.execute_reply.started": "2025-06-01T12:24:50.072794Z"
    }
   },
   "outputs": [],
   "source": [
    "df_science = df_exposure[df_exposure.type == \"science\"]\n",
    "df_science.reset_index(drop=True, inplace=True)"
   ]
  },
  {
   "cell_type": "markdown",
   "id": "116e56be-d4de-49fe-93d4-133cf21d1b06",
   "metadata": {},
   "source": [
    "## Add Tract-Patches"
   ]
  },
  {
   "cell_type": "code",
   "execution_count": null,
   "id": "9097e89e-b006-40fa-866a-deca00ed57f1",
   "metadata": {
    "execution": {
     "iopub.execute_input": "2025-06-01T12:24:50.078128Z",
     "iopub.status.busy": "2025-06-01T12:24:50.077997Z",
     "iopub.status.idle": "2025-06-01T12:24:50.084643Z",
     "shell.execute_reply": "2025-06-01T12:24:50.084214Z",
     "shell.execute_reply.started": "2025-06-01T12:24:50.078115Z"
    }
   },
   "outputs": [],
   "source": [
    "df=df_science.copy()\n",
    "df[\"band\"] = df[\"filter\"].apply(lambda x : x.split(\"_\")[0])"
   ]
  },
  {
   "cell_type": "code",
   "execution_count": null,
   "id": "f9b2b2c4-d0ca-4ba9-af11-9146d1145065",
   "metadata": {
    "execution": {
     "iopub.execute_input": "2025-06-01T12:24:50.085234Z",
     "iopub.status.busy": "2025-06-01T12:24:50.085101Z",
     "iopub.status.idle": "2025-06-01T12:24:50.090520Z",
     "shell.execute_reply": "2025-06-01T12:24:50.090080Z",
     "shell.execute_reply.started": "2025-06-01T12:24:50.085220Z"
    }
   },
   "outputs": [],
   "source": [
    "#df_with_tract_patch = add_tract_patch(df, butler)"
   ]
  },
  {
   "cell_type": "code",
   "execution_count": null,
   "id": "9c502d20-2a4f-4997-b8f2-962e441d6cb7",
   "metadata": {
    "execution": {
     "iopub.execute_input": "2025-06-01T12:24:50.091133Z",
     "iopub.status.busy": "2025-06-01T12:24:50.090990Z",
     "iopub.status.idle": "2025-06-01T12:24:50.097582Z",
     "shell.execute_reply": "2025-06-01T12:24:50.097213Z",
     "shell.execute_reply.started": "2025-06-01T12:24:50.091118Z"
    }
   },
   "outputs": [],
   "source": [
    "def get_tract_patch(row, skymap):\n",
    "    if pd.isna(row['ra']) or pd.isna(row['dec']):\n",
    "        return pd.Series({\"tract\": None, \"patch\": None})\n",
    "    \n",
    "    target_point = SpherePoint(row['ra'], row['dec'], degrees)\n",
    "\n",
    "    tract_info = skymap.findTract(target_point)\n",
    "    patch_info = tract_info.findPatch(target_point)\n",
    "    tractNbSel = tract_info.getId()\n",
    "    patchNbSel =  patch_info.getSequentialIndex()\n",
    "    patch_index_str = f\"{patch_info.getIndex()[0]},{patch_info.getIndex()[1]}\"\n",
    "   \n",
    "    \n",
    "    return pd.Series({\"tract\":   tractNbSel, \"patch\":  patchNbSel, \"patch_str\": patch_index_str})\n"
   ]
  },
  {
   "cell_type": "code",
   "execution_count": null,
   "id": "033b645b-ef29-4f3a-b0f0-6d906ee8970c",
   "metadata": {
    "execution": {
     "iopub.execute_input": "2025-06-01T12:24:50.098123Z",
     "iopub.status.busy": "2025-06-01T12:24:50.097995Z",
     "iopub.status.idle": "2025-06-01T12:24:50.601891Z",
     "shell.execute_reply": "2025-06-01T12:24:50.601414Z",
     "shell.execute_reply.started": "2025-06-01T12:24:50.098111Z"
    }
   },
   "outputs": [],
   "source": [
    "df = df.copy()\n",
    "df[['tract', 'patch', \"patch_str\"]] = df.apply(get_tract_patch, axis=1, args=(skymap,))"
   ]
  },
  {
   "cell_type": "code",
   "execution_count": null,
   "id": "05048d62-0fd8-4fa1-bd00-4b195e9e09bc",
   "metadata": {
    "execution": {
     "iopub.execute_input": "2025-06-01T12:24:50.602618Z",
     "iopub.status.busy": "2025-06-01T12:24:50.602429Z",
     "iopub.status.idle": "2025-06-01T12:24:50.616333Z",
     "shell.execute_reply": "2025-06-01T12:24:50.615984Z",
     "shell.execute_reply.started": "2025-06-01T12:24:50.602603Z"
    }
   },
   "outputs": [],
   "source": [
    "df"
   ]
  },
  {
   "cell_type": "markdown",
   "id": "e56c4145-85aa-4b7a-ab3f-f91f37ddcbe8",
   "metadata": {},
   "source": [
    "## Plots histograms with the number of visits and time sequences"
   ]
  },
  {
   "cell_type": "markdown",
   "id": "a5078f81-d0ce-4030-b974-ca53bbb2fead",
   "metadata": {},
   "source": [
    "### Visits grouped by tract and target field"
   ]
  },
  {
   "cell_type": "code",
   "execution_count": null,
   "id": "a9161706-db3b-436d-a3ca-5740d76fc8a2",
   "metadata": {
    "execution": {
     "iopub.execute_input": "2025-06-01T12:24:50.616907Z",
     "iopub.status.busy": "2025-06-01T12:24:50.616778Z",
     "iopub.status.idle": "2025-06-01T12:24:50.623232Z",
     "shell.execute_reply": "2025-06-01T12:24:50.622873Z",
     "shell.execute_reply.started": "2025-06-01T12:24:50.616895Z"
    }
   },
   "outputs": [],
   "source": [
    "# 1. Trier le DataFrame par numéro de tract\n",
    "df = df.sort_values(\"tract\")\n",
    "# 2. Créer la colonne tag après le tri\n",
    "df[\"tag\"] = df[\"tract\"].astype(str) + \"_\" + df[\"target\"]\n",
    "# 3. Grouper par tag et band, et compter\n",
    "grouped_tag = df.groupby(['tag', 'band']).size().reset_index(name='count')\n",
    "# 4. Définir l'ordre des tags selon l'ordre dans df trié\n",
    "tag_order = df[\"tag\"].drop_duplicates().tolist()"
   ]
  },
  {
   "cell_type": "code",
   "execution_count": null,
   "id": "8ad23435-5269-4a93-b117-96332bdbca34",
   "metadata": {
    "execution": {
     "iopub.execute_input": "2025-06-01T12:24:50.623799Z",
     "iopub.status.busy": "2025-06-01T12:24:50.623667Z",
     "iopub.status.idle": "2025-06-01T12:24:50.626541Z",
     "shell.execute_reply": "2025-06-01T12:24:50.626196Z",
     "shell.execute_reply.started": "2025-06-01T12:24:50.623787Z"
    }
   },
   "outputs": [],
   "source": [
    "# Forcer l'ordre des bandes\n",
    "band_order = ['u', 'g', 'r', 'i', 'z', 'y']\n",
    "color_map = {\n",
    "    'u': 'blue',\n",
    "    'g': 'green',\n",
    "    'r': 'red',\n",
    "    'i': 'orange',\n",
    "    'z': 'gray',\n",
    "    'y': 'black'\n",
    "}"
   ]
  },
  {
   "cell_type": "code",
   "execution_count": null,
   "id": "fad7c7da-a69b-468b-a3b8-e76812b849f4",
   "metadata": {
    "execution": {
     "iopub.execute_input": "2025-06-01T12:24:50.627138Z",
     "iopub.status.busy": "2025-06-01T12:24:50.627013Z",
     "iopub.status.idle": "2025-06-01T12:24:51.229180Z",
     "shell.execute_reply": "2025-06-01T12:24:51.228741Z",
     "shell.execute_reply.started": "2025-06-01T12:24:50.627126Z"
    }
   },
   "outputs": [],
   "source": [
    "# 6. Tracer le barplot\n",
    "plt.figure(figsize=(20, 8))\n",
    "sns.barplot(\n",
    "    data=grouped_tag,\n",
    "    x='tag',\n",
    "    y='count',\n",
    "    hue='band',\n",
    "    hue_order=band_order,\n",
    "    palette=color_map,\n",
    "    order=tag_order  # ordre des tags triés par tract\n",
    ")\n",
    "\n",
    "plt.xlabel(\"Visited fields / tract\")\n",
    "plt.ylabel(\"Number of visits per band\")\n",
    "plt.title(\"Number of visits per band in each tract\",fontsize=20,fontweight=\"bold\")\n",
    "plt.xticks(rotation=45, ha='right')\n",
    "plt.legend(title=\"Band\")\n",
    "plt.tight_layout()\n",
    "plt.show()"
   ]
  },
  {
   "cell_type": "code",
   "execution_count": null,
   "id": "e16adc7f-aebb-4633-b980-62c33927b064",
   "metadata": {
    "execution": {
     "iopub.execute_input": "2025-06-01T12:26:16.503604Z",
     "iopub.status.busy": "2025-06-01T12:26:16.503251Z",
     "iopub.status.idle": "2025-06-01T12:26:17.134105Z",
     "shell.execute_reply": "2025-06-01T12:26:17.133744Z",
     "shell.execute_reply.started": "2025-06-01T12:26:16.503586Z"
    }
   },
   "outputs": [],
   "source": [
    "# 6. Tracer le barplot\n",
    "plt.figure(figsize=(8, 20))\n",
    "sns.barplot(\n",
    "    data=grouped_tag,\n",
    "    x='count',\n",
    "    y='tag',\n",
    "    hue='band',\n",
    "    hue_order=band_order,\n",
    "    palette=color_map,\n",
    "    order=tag_order  # ordre des tags triés par tract\n",
    ")\n",
    "\n",
    "plt.ylabel(\"Visited fields / tract\")\n",
    "plt.xlabel(\"Number of visits per band\")\n",
    "plt.title(\"Number of visits per band in each tract\",fontsize=20,fontweight=\"bold\")\n",
    "#plt.xticks(rotation=45, ha='right')\n",
    "plt.legend(title=\"Band\")\n",
    "plt.tight_layout()\n",
    "plt.show()"
   ]
  },
  {
   "cell_type": "markdown",
   "id": "f33868a1-8558-4958-a1d9-ae900b9e94ef",
   "metadata": {},
   "source": [
    "### Visits detailed by tract and patches"
   ]
  },
  {
   "cell_type": "code",
   "execution_count": null,
   "id": "dfad8a72-2f0f-407f-bed5-0ab39dd38f99",
   "metadata": {
    "execution": {
     "iopub.execute_input": "2025-06-01T12:24:51.229847Z",
     "iopub.status.busy": "2025-06-01T12:24:51.229703Z",
     "iopub.status.idle": "2025-06-01T12:24:51.234325Z",
     "shell.execute_reply": "2025-06-01T12:24:51.233972Z",
     "shell.execute_reply.started": "2025-06-01T12:24:51.229831Z"
    }
   },
   "outputs": [],
   "source": [
    "# Grouper et compter\n",
    "grouped = df.groupby(['tract', 'patch', 'band']).size().reset_index(name='count')"
   ]
  },
  {
   "cell_type": "code",
   "execution_count": null,
   "id": "0aa77260-4e8c-4f9e-927e-67f5a6777a87",
   "metadata": {
    "execution": {
     "iopub.execute_input": "2025-06-01T12:24:51.234836Z",
     "iopub.status.busy": "2025-06-01T12:24:51.234710Z",
     "iopub.status.idle": "2025-06-01T12:24:51.258580Z",
     "shell.execute_reply": "2025-06-01T12:24:51.258163Z",
     "shell.execute_reply.started": "2025-06-01T12:24:51.234824Z"
    }
   },
   "outputs": [],
   "source": [
    "#grouped['tract_patch'] = grouped['tract'].astype(str) + '_' + grouped['patch_str']\n",
    "grouped['tract_patch'] = grouped['tract'].astype(str) + '_' + grouped['patch'].astype(str)"
   ]
  },
  {
   "cell_type": "code",
   "execution_count": null,
   "id": "583f9bcc-1e7c-4668-8d56-773cb7379969",
   "metadata": {
    "execution": {
     "iopub.execute_input": "2025-06-01T12:24:51.259162Z",
     "iopub.status.busy": "2025-06-01T12:24:51.259031Z",
     "iopub.status.idle": "2025-06-01T12:24:52.592999Z",
     "shell.execute_reply": "2025-06-01T12:24:52.592509Z",
     "shell.execute_reply.started": "2025-06-01T12:24:51.259149Z"
    }
   },
   "outputs": [],
   "source": [
    "plt.figure(figsize=(18, 6))\n",
    "sns.barplot(\n",
    "    data=grouped,\n",
    "    x='tract_patch',\n",
    "    y='count',\n",
    "    hue='band',\n",
    "    hue_order=band_order,\n",
    "    palette=color_map\n",
    ")\n",
    "\n",
    "plt.xlabel(\"Tract_Patch\")\n",
    "plt.ylabel(\"Number of visits per bands\")\n",
    "plt.title(\"Number of visits per bands in each (tract, patch)\")\n",
    "plt.xticks(rotation=45, ha='right')\n",
    "plt.legend(title=\"Band\")\n",
    "plt.tight_layout()\n",
    "plt.show()"
   ]
  },
  {
   "cell_type": "code",
   "execution_count": null,
   "id": "99889351-fb49-4189-bb4c-96d1ea2a67c2",
   "metadata": {
    "execution": {
     "iopub.execute_input": "2025-06-01T12:24:52.593711Z",
     "iopub.status.busy": "2025-06-01T12:24:52.593551Z",
     "iopub.status.idle": "2025-06-01T12:24:54.116655Z",
     "shell.execute_reply": "2025-06-01T12:24:54.116153Z",
     "shell.execute_reply.started": "2025-06-01T12:24:52.593694Z"
    }
   },
   "outputs": [],
   "source": [
    "plt.figure(figsize=(10, max(6, len(grouped['tract_patch'].unique()) * 0.8)))  # Adapter la hauteur\n",
    "\n",
    "sns.barplot(\n",
    "    data=grouped,\n",
    "    y='tract_patch',  # axe Y = les (tract, patch)\n",
    "    x='count',        # axe X = nombre de visites\n",
    "    hue='band',\n",
    "    hue_order=band_order,\n",
    "    palette=color_map\n",
    ")\n",
    "\n",
    "plt.ylabel(\"Tract_Patch\")\n",
    "plt.xlabel(\"Number of visits per bands\")\n",
    "plt.title(\"Number of visits per bands in field of view (tract, patch)\")\n",
    "plt.legend(title=\"Band\", bbox_to_anchor=(1.05, 1), loc='upper left')\n",
    "plt.grid()\n",
    "plt.tight_layout()\n",
    "plt.show()\n"
   ]
  },
  {
   "cell_type": "markdown",
   "id": "ac652254-f57b-4b6b-9402-8d54e9bc745c",
   "metadata": {},
   "source": [
    "## Which (tract,patch) has the maximum number of visits in y band"
   ]
  },
  {
   "cell_type": "code",
   "execution_count": null,
   "id": "bcc89941-e3ea-4f02-a250-0d3c6c3b6221",
   "metadata": {
    "execution": {
     "iopub.execute_input": "2025-06-01T12:24:54.117349Z",
     "iopub.status.busy": "2025-06-01T12:24:54.117201Z",
     "iopub.status.idle": "2025-06-01T12:24:54.123492Z",
     "shell.execute_reply": "2025-06-01T12:24:54.123090Z",
     "shell.execute_reply.started": "2025-06-01T12:24:54.117333Z"
    }
   },
   "outputs": [],
   "source": [
    "grouped"
   ]
  },
  {
   "cell_type": "code",
   "execution_count": null,
   "id": "a2eb34b8-a352-4b2b-a6dd-bed2d6fa4c10",
   "metadata": {
    "execution": {
     "iopub.execute_input": "2025-06-01T12:24:54.124088Z",
     "iopub.status.busy": "2025-06-01T12:24:54.123960Z",
     "iopub.status.idle": "2025-06-01T12:24:54.133088Z",
     "shell.execute_reply": "2025-06-01T12:24:54.132629Z",
     "shell.execute_reply.started": "2025-06-01T12:24:54.124076Z"
    }
   },
   "outputs": [],
   "source": [
    "# Filtrer la bande 'y'\n",
    "df_y = df[df['band'] == 'y']\n",
    "\n",
    "# Grouper par tract et patch\n",
    "grouped_y = df_y.groupby(['tract', 'patch']).size().reset_index(name='count')\n",
    "\n",
    "# Trouver le max\n",
    "max_row = grouped_y.loc[grouped_y['count'].idxmax()]\n",
    "\n",
    "\n",
    "tractNbSel = max_row['tract']\n",
    "patchNbSel = max_row['patch']\n"
   ]
  },
  {
   "cell_type": "code",
   "execution_count": null,
   "id": "0effed76-9741-4975-bc99-a0d09736ca22",
   "metadata": {
    "execution": {
     "iopub.execute_input": "2025-06-01T12:24:54.133704Z",
     "iopub.status.busy": "2025-06-01T12:24:54.133574Z",
     "iopub.status.idle": "2025-06-01T12:24:54.138404Z",
     "shell.execute_reply": "2025-06-01T12:24:54.137989Z",
     "shell.execute_reply.started": "2025-06-01T12:24:54.133692Z"
    }
   },
   "outputs": [],
   "source": [
    "print(f\"Tract: {tractNbSel}, Patch: {patchNbSel}, Number of Visits in y band: {max_row['count']}\")"
   ]
  },
  {
   "cell_type": "markdown",
   "id": "ada9bd0e-951c-4cb9-a7d1-ee717d4a337f",
   "metadata": {},
   "source": [
    "## Time sequences of arrival time in selected tract-patch"
   ]
  },
  {
   "cell_type": "code",
   "execution_count": null,
   "id": "0920fec5-c7bd-4519-8d0c-5f6adc481b2d",
   "metadata": {
    "execution": {
     "iopub.execute_input": "2025-06-01T12:24:54.139028Z",
     "iopub.status.busy": "2025-06-01T12:24:54.138801Z",
     "iopub.status.idle": "2025-06-01T12:24:54.145656Z",
     "shell.execute_reply": "2025-06-01T12:24:54.145246Z",
     "shell.execute_reply.started": "2025-06-01T12:24:54.139014Z"
    }
   },
   "outputs": [],
   "source": [
    "df_sel = df[(df['tract'] == tractNbSel) & (df['patch'] == patchNbSel)]"
   ]
  },
  {
   "cell_type": "code",
   "execution_count": null,
   "id": "42bc629e-b463-49cf-9446-e1dfee2e8b8c",
   "metadata": {
    "execution": {
     "iopub.execute_input": "2025-06-01T12:24:54.146229Z",
     "iopub.status.busy": "2025-06-01T12:24:54.146103Z",
     "iopub.status.idle": "2025-06-01T12:24:54.311746Z",
     "shell.execute_reply": "2025-06-01T12:24:54.311251Z",
     "shell.execute_reply.started": "2025-06-01T12:24:54.146217Z"
    }
   },
   "outputs": [],
   "source": [
    "plt.figure(figsize=(16, 8))\n",
    "\n",
    "sns.stripplot(\n",
    "    data=df_sel,\n",
    "    x='mjd',\n",
    "    y='band',\n",
    "    hue='band',  # <- correction\n",
    "    order=band_order,\n",
    "    palette=color_map,\n",
    "    size=10,\n",
    "    alpha=0.7,\n",
    "    dodge=False,\n",
    "    legend=False  # <- évite de doubler les légendes\n",
    ")\n",
    "\n",
    "plt.xlabel(\"MJD\")\n",
    "plt.ylabel(\"Band\")\n",
    "plt.title(f\"Sequence of visits in tract={tractNbSel}, patch={patchNbSel}\")\n",
    "plt.grid(True, linestyle='--', alpha=0.5)\n",
    "plt.tight_layout()\n",
    "plt.show()\n"
   ]
  },
  {
   "cell_type": "markdown",
   "id": "7d496496-97c5-4829-bf7e-8b7c7a91a872",
   "metadata": {},
   "source": [
    "## Retrieve Coadds"
   ]
  },
  {
   "cell_type": "code",
   "execution_count": null,
   "id": "fd64015e-972a-40c6-8941-54fb384f321e",
   "metadata": {
    "execution": {
     "iopub.execute_input": "2025-06-01T12:24:54.312465Z",
     "iopub.status.busy": "2025-06-01T12:24:54.312324Z",
     "iopub.status.idle": "2025-06-01T12:24:54.314980Z",
     "shell.execute_reply": "2025-06-01T12:24:54.314570Z",
     "shell.execute_reply.started": "2025-06-01T12:24:54.312450Z"
    }
   },
   "outputs": [],
   "source": [
    "all_dataIds = [\n",
    "    {\n",
    "        \"band\": band,\n",
    "        \"tract\": tractNbSel,\n",
    "        \"patch\": patchNbSel,\n",
    "        \"skymap\": skymapName,\n",
    "    }\n",
    "    for band in all_bands\n",
    "]"
   ]
  },
  {
   "cell_type": "code",
   "execution_count": null,
   "id": "4394696b-fa74-4058-ad45-fc3165a926a5",
   "metadata": {
    "execution": {
     "iopub.execute_input": "2025-06-01T12:24:54.315577Z",
     "iopub.status.busy": "2025-06-01T12:24:54.315439Z",
     "iopub.status.idle": "2025-06-01T12:25:07.216121Z",
     "shell.execute_reply": "2025-06-01T12:25:07.215591Z",
     "shell.execute_reply.started": "2025-06-01T12:24:54.315565Z"
    }
   },
   "outputs": [],
   "source": [
    "all_deepCoadds = []\n",
    "all_deepCoadds_wcs = []\n",
    "all_titles = []\n",
    "for idx, band in enumerate(all_bands):\n",
    "    the_band = band\n",
    "    the_dataId = all_dataIds[idx]\n",
    "    the_title = f\"({tractNbSel},{patchNbSel}) \" + f\" band {the_band}\"\n",
    "    try:\n",
    "        coadd_exp = butler.get(\"deepCoadd_calexp\", the_dataId)\n",
    "        wcs = coadd_exp.getWcs()\n",
    "        psf = coadd_exp.getPsf()\n",
    "        all_deepCoadds.append(coadd_exp)\n",
    "        all_deepCoadds_wcs.append(wcs)\n",
    "        all_titles.append(the_title)\n",
    "\n",
    "    except Exception as inst:\n",
    "        print(f\"{key} :: catch Exception for band {band}\")\n",
    "        print(type(inst))  # the exception type\n",
    "        print(inst.args)  # arguments stored in .args\n",
    "        print(inst)  # __str_"
   ]
  },
  {
   "cell_type": "markdown",
   "id": "d81ce28b-c01f-4844-a37a-417359063782",
   "metadata": {},
   "source": [
    "## Plot with Firefly"
   ]
  },
  {
   "cell_type": "code",
   "execution_count": null,
   "id": "4e89bb5c-1e16-461f-8bec-15263beb7077",
   "metadata": {
    "execution": {
     "iopub.execute_input": "2025-06-01T12:25:07.219498Z",
     "iopub.status.busy": "2025-06-01T12:25:07.218929Z",
     "iopub.status.idle": "2025-06-01T12:25:07.287196Z",
     "shell.execute_reply": "2025-06-01T12:25:07.286720Z",
     "shell.execute_reply.started": "2025-06-01T12:25:07.219480Z"
    }
   },
   "outputs": [],
   "source": [
    "afwDisplay.setDefaultBackend(\"firefly\")"
   ]
  },
  {
   "cell_type": "code",
   "execution_count": null,
   "id": "c3f1d36b-ac9b-46d2-b031-d0fb6d733f40",
   "metadata": {
    "execution": {
     "iopub.execute_input": "2025-06-01T12:25:07.288249Z",
     "iopub.status.busy": "2025-06-01T12:25:07.287716Z",
     "iopub.status.idle": "2025-06-01T12:25:09.857883Z",
     "shell.execute_reply": "2025-06-01T12:25:09.857482Z",
     "shell.execute_reply.started": "2025-06-01T12:25:07.288232Z"
    }
   },
   "outputs": [],
   "source": [
    "N = len(all_deepCoadds)\n",
    "for count in range(N):\n",
    "    band = all_bands[count]\n",
    "    display = afwDisplay.Display(frame=count + 1)\n",
    "    # cannot succeed to show white stars on dark sky\n",
    "    display.setImageColormap(\"gray\")\n",
    "    display.scale(\"asinh\", \"zscale\")\n",
    "    display.mtv(all_deepCoadds[count].image, title=all_titles[count])"
   ]
  },
  {
   "cell_type": "markdown",
   "id": "1bd2a7ee-8e29-47ef-acda-e95a24459777",
   "metadata": {},
   "source": [
    "### Clean"
   ]
  },
  {
   "cell_type": "code",
   "execution_count": null,
   "id": "4fb20acd-f6ad-46a3-b70c-7265222ffeb5",
   "metadata": {
    "execution": {
     "iopub.execute_input": "2025-06-01T12:25:09.858473Z",
     "iopub.status.busy": "2025-06-01T12:25:09.858334Z",
     "iopub.status.idle": "2025-06-01T12:25:09.860760Z",
     "shell.execute_reply": "2025-06-01T12:25:09.860445Z",
     "shell.execute_reply.started": "2025-06-01T12:25:09.858459Z"
    }
   },
   "outputs": [],
   "source": [
    "# display.clearViewer()"
   ]
  },
  {
   "cell_type": "code",
   "execution_count": null,
   "id": "70584417-e05e-4bf0-9b7d-ab164982bdb4",
   "metadata": {},
   "outputs": [],
   "source": []
  }
 ],
 "metadata": {
  "kernelspec": {
   "display_name": "LSST",
   "language": "python",
   "name": "lsst"
  },
  "language_info": {
   "codemirror_mode": {
    "name": "ipython",
    "version": 3
   },
   "file_extension": ".py",
   "mimetype": "text/x-python",
   "name": "python",
   "nbconvert_exporter": "python",
   "pygments_lexer": "ipython3",
   "version": "3.12.10"
  }
 },
 "nbformat": 4,
 "nbformat_minor": 5
}
