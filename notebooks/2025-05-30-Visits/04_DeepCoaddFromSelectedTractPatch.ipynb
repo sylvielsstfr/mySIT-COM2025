{
 "cells": [
  {
   "cell_type": "markdown",
   "id": "adda26b1-7594-48da-94d2-6722bd71353c",
   "metadata": {},
   "source": [
    "# Select the tract-patch with the highest number of visits and Show the Coadds "
   ]
  },
  {
   "cell_type": "markdown",
   "id": "1f276e2d-e5e1-4b30-bf3c-4ea950073fad",
   "metadata": {
    "execution": {
     "iopub.execute_input": "2025-04-29T08:48:57.989253Z",
     "iopub.status.busy": "2025-04-29T08:48:57.988923Z",
     "iopub.status.idle": "2025-04-29T08:48:57.993268Z",
     "shell.execute_reply": "2025-04-29T08:48:57.992764Z",
     "shell.execute_reply.started": "2025-04-29T08:48:57.989226Z"
    }
   },
   "source": [
    "- author : Sylvie Dagoret-Campagne\n",
    "- affiliation : IJCLab/IN2P3/CNRS\n",
    "- member : DESC, rubin-inkind\n",
    "- creation date : 2025-05-31\n",
    "- last update : 2025-05-31"
   ]
  },
  {
   "cell_type": "code",
   "execution_count": null,
   "id": "01996343-5a50-4c86-a6a2-261bc3bf8df0",
   "metadata": {
    "execution": {
     "iopub.execute_input": "2025-05-31T11:41:22.585228Z",
     "iopub.status.busy": "2025-05-31T11:41:22.585096Z",
     "iopub.status.idle": "2025-05-31T11:41:23.990634Z",
     "shell.execute_reply": "2025-05-31T11:41:23.990112Z",
     "shell.execute_reply.started": "2025-05-31T11:41:22.585215Z"
    }
   },
   "outputs": [],
   "source": [
    "import lsst.pipe.base\n",
    "print(lsst.pipe.base.__version__)"
   ]
  },
  {
   "cell_type": "code",
   "execution_count": null,
   "id": "72f36e25-589c-4a8c-865f-8b51f5f35270",
   "metadata": {
    "execution": {
     "iopub.execute_input": "2025-05-31T11:41:23.991352Z",
     "iopub.status.busy": "2025-05-31T11:41:23.991204Z",
     "iopub.status.idle": "2025-05-31T11:41:24.842204Z",
     "shell.execute_reply": "2025-05-31T11:41:24.841720Z",
     "shell.execute_reply.started": "2025-05-31T11:41:23.991333Z"
    }
   },
   "outputs": [],
   "source": [
    "import sys\n",
    "import matplotlib.pyplot as plt\n",
    "import lsst.afw.display as afwDisplay\n",
    "from lsst.geom import SpherePoint, degrees\n",
    "from lsst.afw.image import ExposureF\n",
    "from lsst.skymap import PatchInfo, Index2D\n",
    "import numpy as np\n",
    "import pandas as pd\n",
    "from astropy.time import Time\n",
    "import lsst.afw.display as afwDisplay\n",
    "# %matplotlib widget"
   ]
  },
  {
   "cell_type": "code",
   "execution_count": null,
   "id": "61970c43-da35-418a-a48b-d6eb5ebb2f54",
   "metadata": {
    "execution": {
     "iopub.execute_input": "2025-05-31T11:41:24.843148Z",
     "iopub.status.busy": "2025-05-31T11:41:24.842706Z",
     "iopub.status.idle": "2025-05-31T11:41:25.456982Z",
     "shell.execute_reply": "2025-05-31T11:41:25.456527Z",
     "shell.execute_reply.started": "2025-05-31T11:41:24.843133Z"
    }
   },
   "outputs": [],
   "source": [
    "import seaborn as sns"
   ]
  },
  {
   "cell_type": "code",
   "execution_count": null,
   "id": "f2580923-bf82-4204-a50d-c64eb56b9f06",
   "metadata": {
    "execution": {
     "iopub.execute_input": "2025-05-31T11:41:25.457844Z",
     "iopub.status.busy": "2025-05-31T11:41:25.457471Z",
     "iopub.status.idle": "2025-05-31T11:41:25.460685Z",
     "shell.execute_reply": "2025-05-31T11:41:25.460319Z",
     "shell.execute_reply.started": "2025-05-31T11:41:25.457829Z"
    }
   },
   "outputs": [],
   "source": [
    "plt.rcParams[\"figure.figsize\"] = (10, 6)\n",
    "plt.rcParams[\"axes.labelsize\"] = \"xx-large\"\n",
    "plt.rcParams[\"axes.titlesize\"] = \"xx-large\"\n",
    "plt.rcParams[\"xtick.labelsize\"] = \"xx-large\"\n",
    "plt.rcParams[\"ytick.labelsize\"] = \"xx-large\""
   ]
  },
  {
   "cell_type": "code",
   "execution_count": null,
   "id": "37adbe72-e5a6-4b45-9749-87467563d028",
   "metadata": {
    "execution": {
     "iopub.execute_input": "2025-05-31T11:41:25.461271Z",
     "iopub.status.busy": "2025-05-31T11:41:25.461136Z",
     "iopub.status.idle": "2025-05-31T11:41:25.469184Z",
     "shell.execute_reply": "2025-05-31T11:41:25.468813Z",
     "shell.execute_reply.started": "2025-05-31T11:41:25.461257Z"
    }
   },
   "outputs": [],
   "source": [
    "all_bands = [\"u\", \"g\", \"r\", \"i\", \"z\", \"y\"]\n",
    "all_bands_colors = [\"blue\", \"green\", \"red\", \"orange\", \"yellow\", \"purple\"]"
   ]
  },
  {
   "cell_type": "code",
   "execution_count": null,
   "id": "1a1a267b-58c7-468a-a336-2c8def253a79",
   "metadata": {
    "execution": {
     "iopub.execute_input": "2025-05-31T11:41:25.469812Z",
     "iopub.status.busy": "2025-05-31T11:41:25.469680Z",
     "iopub.status.idle": "2025-05-31T11:41:25.476023Z",
     "shell.execute_reply": "2025-05-31T11:41:25.475677Z",
     "shell.execute_reply.started": "2025-05-31T11:41:25.469800Z"
    }
   },
   "outputs": [],
   "source": [
    "import traceback"
   ]
  },
  {
   "cell_type": "code",
   "execution_count": null,
   "id": "ede21bda-146f-4c77-aa40-edf2debfbfc0",
   "metadata": {
    "execution": {
     "iopub.execute_input": "2025-05-31T11:41:25.476570Z",
     "iopub.status.busy": "2025-05-31T11:41:25.476439Z",
     "iopub.status.idle": "2025-05-31T11:41:25.490270Z",
     "shell.execute_reply": "2025-05-31T11:41:25.489904Z",
     "shell.execute_reply.started": "2025-05-31T11:41:25.476558Z"
    }
   },
   "outputs": [],
   "source": [
    "# Define butler\n",
    "from lsst.daf.butler import Butler"
   ]
  },
  {
   "cell_type": "code",
   "execution_count": null,
   "id": "c7ab7fe3-285d-48c2-973a-2dde9d0a7faa",
   "metadata": {
    "execution": {
     "iopub.execute_input": "2025-05-31T11:41:25.490898Z",
     "iopub.status.busy": "2025-05-31T11:41:25.490770Z",
     "iopub.status.idle": "2025-05-31T11:41:26.197381Z",
     "shell.execute_reply": "2025-05-31T11:41:26.196735Z",
     "shell.execute_reply.started": "2025-05-31T11:41:25.490886Z"
    }
   },
   "outputs": [],
   "source": [
    "!eups list lsst_distrib"
   ]
  },
  {
   "cell_type": "markdown",
   "id": "7e369002-01db-40e2-a7b7-036072114e6a",
   "metadata": {},
   "source": [
    "## RubinTV, Campaigns , quicklook\n",
    "- RubinTV : https://usdf-rsp.slac.stanford.edu/rubintv/summit-usdf/lsstcam\n",
    "- https://rubinobs.atlassian.net/wiki/spaces/LSSTCOM/pages/467370016/LSSTCam+Commissioning+Planning\n",
    "- LSSTCam DM campaign : https://rubinobs.atlassian.net/wiki/spaces/DM/pages/48834013/Campaigns#1.1.2.-LSSTCam-Nightly-Validation-Pipeline\n",
    "- Check campaign also here  https://rubinobs.atlassian.net/wiki/pages/diffpagesbyversion.action?pageId=48834013&selectedPageVersions=145%2C143\n",
    "- fov-quicklook : https://usdf-rsp-dev.slac.stanford.edu/fov-quicklook/"
   ]
  },
  {
   "cell_type": "markdown",
   "id": "4ce495c8-71a6-4846-86fc-5715e13348ab",
   "metadata": {},
   "source": [
    "## Configuration"
   ]
  },
  {
   "cell_type": "markdown",
   "id": "29bdd60b-f237-4a90-8aee-95f83091a5c8",
   "metadata": {},
   "source": [
    "### Choose instrument"
   ]
  },
  {
   "cell_type": "code",
   "execution_count": null,
   "id": "66ff700b-a6ab-4b6d-ab28-dfadf54fdd9f",
   "metadata": {
    "execution": {
     "iopub.execute_input": "2025-05-31T11:41:26.198505Z",
     "iopub.status.busy": "2025-05-31T11:41:26.198273Z",
     "iopub.status.idle": "2025-05-31T11:41:26.201168Z",
     "shell.execute_reply": "2025-05-31T11:41:26.200841Z",
     "shell.execute_reply.started": "2025-05-31T11:41:26.198478Z"
    }
   },
   "outputs": [],
   "source": [
    "# instrument = \"LSSTCam\"\n",
    "instrument = \"LSSTComCam\"\n",
    "# instrument = \"LATISS\""
   ]
  },
  {
   "cell_type": "markdown",
   "id": "6d0c9a3d-a12b-424a-9aed-1d1309179e07",
   "metadata": {},
   "source": [
    "### For LSSTCam : RubinTV, Campaigns , quicklook\n",
    "- RubinTV : https://usdf-rsp.slac.stanford.edu/rubintv/summit-usdf/lsstcam\n",
    "- https://rubinobs.atlassian.net/wiki/spaces/LSSTCOM/pages/467370016/LSSTCam+Commissioning+Planning\n",
    "- LSSTCam DM campaign : https://rubinobs.atlassian.net/wiki/spaces/DM/pages/48834013/Campaigns#1.1.2.-LSSTCam-Nightly-Validation-Pipeline\n",
    "- Check campaign also here  https://rubinobs.atlassian.net/wiki/pages/diffpagesbyversion.action?pageId=48834013&selectedPageVersions=145%2C143\n",
    "- fov-quicklook : https://usdf-rsp-dev.slac.stanford.edu/fov-quicklook/"
   ]
  },
  {
   "cell_type": "markdown",
   "id": "5542de7d-695e-4256-b765-28b902b02adc",
   "metadata": {},
   "source": [
    "### For LSSTComCam check here : \n",
    "- - Check here the collection available : https://rubinobs.atlassian.net/wiki/spaces/DM/pages/226656354/LSSTComCam+Intermittent+Cumulative+DRP+Runs"
   ]
  },
  {
   "cell_type": "code",
   "execution_count": null,
   "id": "eacb14b0-183c-4dcd-ba59-64c7ca3efcd3",
   "metadata": {
    "execution": {
     "iopub.execute_input": "2025-05-31T11:41:26.201678Z",
     "iopub.status.busy": "2025-05-31T11:41:26.201551Z",
     "iopub.status.idle": "2025-05-31T11:41:26.209195Z",
     "shell.execute_reply": "2025-05-31T11:41:26.208885Z",
     "shell.execute_reply.started": "2025-05-31T11:41:26.201665Z"
    }
   },
   "outputs": [],
   "source": [
    "if instrument == \"LSSTCam\":\n",
    "    repo = \"/repo/embargo\"\n",
    "    instrument = \"LSSTCam\"\n",
    "    collection_validation = instrument + \"/runs/nightlyValidation\"\n",
    "    # collection_quicklook   = instrument + '/runs/quickLookTesting'\n",
    "    collection_validation = os.path.join(collection_validation, \"20250416/d_2025_04_15/DM-50157\")\n",
    "    date_start = 20250415\n",
    "    date_selection = 20250416\n",
    "    where_clause = \"instrument = '\" + f\"{instrument}\" + \"'\"\n",
    "    where_clause_date = where_clause + f\"and day_obs >= {date_start}\"\n",
    "    skymapName = \"lsst_cells_v1\"\n",
    "\n",
    "elif instrument == \"LSSTComCam\":\n",
    "    repo = \"/repo/main\"\n",
    "    collection_validation = \"LSSTComCam/runs/DRP/DP1/w_2025_10/DM-49359\"  # work\n",
    "    date_start = 20241024\n",
    "    date_selection = 20241211\n",
    "    skymapName = \"lsst_cells_v1\"\n",
    "    where_clause = \"instrument = '\" + instrument + \"'\"\n",
    "    where_clause_date = where_clause + f\"and day_obs >= {date_start}\"\n",
    "\n",
    "    NDET = 9\n",
    "    TRACTSEL = 5063\n",
    "\n",
    "elif instrument == \"LSSTComCamSim\":\n",
    "    repo = \"/repo/main\"\n",
    "    collection_validation = \"LSSTComCamSim/*\"  # work\n",
    "    date_start = 20241024\n",
    "    date_selection = 20241211\n",
    "    skymapName = \"ops_rehersal_prep_2k_v1\"\n",
    "    where_clause = \"instrument = '\" + instrument + \"'\"\n",
    "    where_clause_date = where_clause + f\"and day_obs >= {date_start}\"\n",
    "\n",
    "    NDET = 9\n",
    "    TRACTSEL = 5063\n",
    "\n",
    "elif instrument == \"LATISS\":\n",
    "    repo = \"/repo/main\"\n",
    "    # collection_validation = instrument + \"/runs/quickLook\"\n",
    "    collection_validation = instrument + \"/raw/all\"\n",
    "    date_start = 20221001\n",
    "    date_selection = 20221001\n",
    "    skymapName = \"latiss_v1\"\n",
    "    where_clause = \"instrument = '\" + instrument + \"'\"\n",
    "    where_clause_date = where_clause + f\"and day_obs >= {date_start}\"\n",
    "\n",
    "    NDET = 9\n",
    "    TRACTSEL = 5063"
   ]
  },
  {
   "cell_type": "code",
   "execution_count": null,
   "id": "82535307-9253-4f06-b82a-956efd0217c9",
   "metadata": {
    "execution": {
     "iopub.execute_input": "2025-05-31T11:41:26.209829Z",
     "iopub.status.busy": "2025-05-31T11:41:26.209585Z",
     "iopub.status.idle": "2025-05-31T11:41:26.215409Z",
     "shell.execute_reply": "2025-05-31T11:41:26.215081Z",
     "shell.execute_reply.started": "2025-05-31T11:41:26.209815Z"
    }
   },
   "outputs": [],
   "source": [
    "collectionStr = collection_validation.replace(\"/\", \"_\")"
   ]
  },
  {
   "cell_type": "markdown",
   "id": "e77a39ca-c34f-4097-8a11-c40a121a82e9",
   "metadata": {},
   "source": [
    "## Access to Butler registry"
   ]
  },
  {
   "cell_type": "code",
   "execution_count": null,
   "id": "8726b7e4-94b7-48ac-92f8-447b34b7a59e",
   "metadata": {
    "execution": {
     "iopub.execute_input": "2025-05-31T11:41:26.215884Z",
     "iopub.status.busy": "2025-05-31T11:41:26.215759Z",
     "iopub.status.idle": "2025-05-31T11:41:26.665548Z",
     "shell.execute_reply": "2025-05-31T11:41:26.665073Z",
     "shell.execute_reply.started": "2025-05-31T11:41:26.215870Z"
    }
   },
   "outputs": [],
   "source": [
    "# Initialize the butler repo:\n",
    "butler = Butler(repo, collections=collection_validation)\n",
    "registry = butler.registry"
   ]
  },
  {
   "cell_type": "markdown",
   "id": "a82d1397-cd01-45d3-9f39-8b4f6bcbb21f",
   "metadata": {},
   "source": [
    "## Create a skymap object"
   ]
  },
  {
   "cell_type": "code",
   "execution_count": null,
   "id": "2a570834-a5dc-43b8-a0d3-af71a5b2706c",
   "metadata": {
    "execution": {
     "iopub.execute_input": "2025-05-31T11:41:26.666245Z",
     "iopub.status.busy": "2025-05-31T11:41:26.666093Z",
     "iopub.status.idle": "2025-05-31T11:41:26.668655Z",
     "shell.execute_reply": "2025-05-31T11:41:26.668272Z",
     "shell.execute_reply.started": "2025-05-31T11:41:26.666230Z"
    }
   },
   "outputs": [],
   "source": [
    "# skymap = butler.get(\"skyMap\", skymap=skymapName, collections=collection_validation)"
   ]
  },
  {
   "cell_type": "code",
   "execution_count": null,
   "id": "26edbe65-22fe-4377-9ea1-ad2a270da9a9",
   "metadata": {
    "execution": {
     "iopub.execute_input": "2025-05-31T11:41:26.671891Z",
     "iopub.status.busy": "2025-05-31T11:41:26.671628Z",
     "iopub.status.idle": "2025-05-31T11:41:27.231061Z",
     "shell.execute_reply": "2025-05-31T11:41:27.230444Z",
     "shell.execute_reply.started": "2025-05-31T11:41:26.671877Z"
    }
   },
   "outputs": [],
   "source": [
    "try:\n",
    "    skymap = butler.get(\"skyMap\", skymap=skymapName, collections=collection_validation)\n",
    "except Exception as inst:\n",
    "    print(type(inst))  # the exception type\n",
    "    print(inst.args)  # arguments stored in .args\n",
    "    print(inst)  # __str__ allows args to be printed directly,"
   ]
  },
  {
   "cell_type": "markdown",
   "id": "a70c8618-a3ca-4c9e-a97d-7ab848c4df85",
   "metadata": {},
   "source": [
    "## Dump registry into a pandas dataframe\n",
    "\n",
    "- Faster method to decode the registry in pandas dataframe : first save deconded filed into a list of fields and then flush the whole list in pandas instead of row by row\n",
    "- Be carefull the registry variable change in name and type perhaps depending on DM_version"
   ]
  },
  {
   "cell_type": "code",
   "execution_count": null,
   "id": "55d0f624-5a74-4a58-af6d-bb0d025d9a97",
   "metadata": {
    "execution": {
     "iopub.execute_input": "2025-05-31T11:41:27.232274Z",
     "iopub.status.busy": "2025-05-31T11:41:27.231888Z",
     "iopub.status.idle": "2025-05-31T11:41:27.236300Z",
     "shell.execute_reply": "2025-05-31T11:41:27.235710Z",
     "shell.execute_reply.started": "2025-05-31T11:41:27.232248Z"
    }
   },
   "outputs": [],
   "source": [
    "print(where_clause_date)"
   ]
  },
  {
   "cell_type": "code",
   "execution_count": null,
   "id": "7fb3f33e-6325-4610-aeb5-b4c8c3372e41",
   "metadata": {
    "execution": {
     "iopub.execute_input": "2025-05-31T11:41:27.237046Z",
     "iopub.status.busy": "2025-05-31T11:41:27.236834Z",
     "iopub.status.idle": "2025-05-31T11:41:27.244673Z",
     "shell.execute_reply": "2025-05-31T11:41:27.244008Z",
     "shell.execute_reply.started": "2025-05-31T11:41:27.237022Z"
    }
   },
   "outputs": [],
   "source": [
    "columns = [\n",
    "    \"id\",\n",
    "    \"obs_id\",\n",
    "    \"day_obs\",\n",
    "    \"seq_num\",\n",
    "    \"time_start\",\n",
    "    \"time_end\",\n",
    "    \"type\",\n",
    "    \"target\",\n",
    "    \"filter\",\n",
    "    \"zenith_angle\",\n",
    "    \"expos\",\n",
    "    \"ra\",\n",
    "    \"dec\",\n",
    "    \"skyangle\",\n",
    "    \"azimuth\",\n",
    "    \"zenith\",\n",
    "    \"science_program\",\n",
    "    \"jd\",\n",
    "    \"mjd\",\n",
    "]"
   ]
  },
  {
   "cell_type": "code",
   "execution_count": null,
   "id": "9a7e84e4-408f-4287-bddf-a366d0c0091c",
   "metadata": {
    "execution": {
     "iopub.execute_input": "2025-05-31T11:41:27.245426Z",
     "iopub.status.busy": "2025-05-31T11:41:27.245265Z",
     "iopub.status.idle": "2025-05-31T11:41:27.255389Z",
     "shell.execute_reply": "2025-05-31T11:41:27.254992Z",
     "shell.execute_reply.started": "2025-05-31T11:41:27.245410Z"
    }
   },
   "outputs": [],
   "source": [
    "df_exposure = pd.DataFrame(\n",
    "    {\n",
    "        \"id\": pd.Series(dtype=\"int\"),\n",
    "        \"obs_id\": pd.Series(dtype=\"int\"),\n",
    "        \"day_obs\": pd.Series(dtype=\"int\"),\n",
    "        \"seq_num\": pd.Series(dtype=\"int\"),\n",
    "        \"time_start\": pd.Series(dtype=\"str\"),  # ou 'datetime64[ns]' si c’est un datetime\n",
    "        \"time_end\": pd.Series(dtype=\"str\"),  # idem\n",
    "        \"type\": pd.Series(dtype=\"str\"),\n",
    "        \"target\": pd.Series(dtype=\"str\"),\n",
    "        \"filter\": pd.Series(dtype=\"str\"),\n",
    "        \"zenith_angle\": pd.Series(dtype=\"float\"),\n",
    "        \"expos\": pd.Series(dtype=\"float\"),  # ou 'int' selon le cas\n",
    "        \"ra\": pd.Series(dtype=\"float\"),\n",
    "        \"dec\": pd.Series(dtype=\"float\"),\n",
    "        \"skyangle\": pd.Series(dtype=\"float\"),\n",
    "        \"azimuth\": pd.Series(dtype=\"float\"),\n",
    "        \"zenith\": pd.Series(dtype=\"float\"),\n",
    "        \"science_program\": pd.Series(dtype=\"str\"),\n",
    "        \"jd\": pd.Series(dtype=\"float\"),\n",
    "        \"mjd\": pd.Series(dtype=\"float\"),\n",
    "    }\n",
    ")"
   ]
  },
  {
   "cell_type": "code",
   "execution_count": null,
   "id": "655e7d53-a2c3-40d7-9cb7-2cb451a6c4f4",
   "metadata": {
    "execution": {
     "iopub.execute_input": "2025-05-31T11:41:27.256127Z",
     "iopub.status.busy": "2025-05-31T11:41:27.255857Z",
     "iopub.status.idle": "2025-05-31T11:41:35.317966Z",
     "shell.execute_reply": "2025-05-31T11:41:35.317517Z",
     "shell.execute_reply.started": "2025-05-31T11:41:27.256112Z"
    }
   },
   "outputs": [],
   "source": [
    "# save the data array in rows before saving in pandas dataframe\n",
    "rows = []\n",
    "for count, info in enumerate(registry.queryDimensionRecords(\"exposure\", where=where_clause_date)):\n",
    "    try:\n",
    "        jd_start = info.timespan.begin.value\n",
    "        jd_end = info.timespan.end.value\n",
    "        the_Time_start = Time(jd_start, format=\"jd\", scale=\"utc\")\n",
    "        the_Time_end = Time(jd_end, format=\"jd\", scale=\"utc\")\n",
    "        mjd_start = the_Time_start.mjd\n",
    "        mjd_end = the_Time_end.mjd\n",
    "        isot_start = the_Time_start.isot\n",
    "        isot_end = the_Time_end.isot\n",
    "\n",
    "        if count == 0:\n",
    "            print(\"===== Time Conversion Debug Info =====\")\n",
    "            print(f\"JD start      : {jd_start} (type: {type(jd_start)})\")\n",
    "            print(f\"JD end        : {jd_end} (type: {type(jd_end)})\")\n",
    "            print(f\"MJD start     : {mjd_start} (type: {type(mjd_start)})\")\n",
    "            print(f\"MJD end       : {mjd_end} (type: {type(mjd_end)})\")\n",
    "            print(f\"ISOT start    : {isot_start} (type: {type(isot_start)})\")\n",
    "            print(f\"ISOT end      : {isot_end} (type: {type(isot_end)})\")\n",
    "            print(\"=======================================\")\n",
    "\n",
    "        # put row in a dictionnary before stacking\n",
    "        row = {\n",
    "            \"id\": info.id,\n",
    "            \"obs_id\": info.obs_id,\n",
    "            \"day_obs\": info.day_obs,\n",
    "            \"seq_num\": info.seq_num,\n",
    "            \"time_start\": isot_start,\n",
    "            \"time_end\": isot_end,\n",
    "            \"type\": info.observation_type,\n",
    "            \"target\": info.target_name,\n",
    "            \"filter\": info.physical_filter,\n",
    "            \"zenith_angle\": info.zenith_angle,\n",
    "            \"expos\": info.exposure_time,  # Exemple : adapter selon ton objet\n",
    "            \"ra\": info.tracking_ra,\n",
    "            \"dec\": info.tracking_dec,\n",
    "            \"skyangle\": info.sky_angle,\n",
    "            \"azimuth\": info.azimuth,\n",
    "            \"zenith\": info.zenith_angle,\n",
    "            \"science_program\": info.science_program,\n",
    "            \"jd\": float(jd_start),\n",
    "            \"mjd\": float(mjd_start),\n",
    "        }\n",
    "        rows.append(row)\n",
    "\n",
    "    except ValueError as e:\n",
    "        print(f\"Erreur de valeur : {e}\")\n",
    "    except FileNotFoundError as e:\n",
    "        print(f\"Fichier introuvable : {e}\")\n",
    "    except Exception as e:\n",
    "        print(f\"Erreur inattendue : {type(e).__name__} - {e}\")\n",
    "        print(f\">>>   Unexpected error at row {count}:\", sys.exc_info()[0])\n",
    "        traceback.print_exc()  # affiche la stack trace complète"
   ]
  },
  {
   "cell_type": "code",
   "execution_count": null,
   "id": "e8085e8c-c771-43f9-9e29-d42885493e88",
   "metadata": {
    "execution": {
     "iopub.execute_input": "2025-05-31T11:41:35.318597Z",
     "iopub.status.busy": "2025-05-31T11:41:35.318466Z",
     "iopub.status.idle": "2025-05-31T11:41:35.360328Z",
     "shell.execute_reply": "2025-05-31T11:41:35.359888Z",
     "shell.execute_reply.started": "2025-05-31T11:41:35.318584Z"
    }
   },
   "outputs": [],
   "source": [
    "# Création finale du DataFrame\n",
    "df_exposure = pd.DataFrame(rows)"
   ]
  },
  {
   "cell_type": "code",
   "execution_count": null,
   "id": "c9c0acb5-6827-411d-ae6f-e71fb7bd9974",
   "metadata": {
    "execution": {
     "iopub.execute_input": "2025-05-31T11:41:35.360939Z",
     "iopub.status.busy": "2025-05-31T11:41:35.360805Z",
     "iopub.status.idle": "2025-05-31T11:41:35.375430Z",
     "shell.execute_reply": "2025-05-31T11:41:35.375074Z",
     "shell.execute_reply.started": "2025-05-31T11:41:35.360926Z"
    }
   },
   "outputs": [],
   "source": [
    "df_exposure"
   ]
  },
  {
   "cell_type": "code",
   "execution_count": null,
   "id": "55855b74-0407-41b7-a4c2-623d6c4898ed",
   "metadata": {
    "execution": {
     "iopub.execute_input": "2025-05-31T11:41:35.375952Z",
     "iopub.status.busy": "2025-05-31T11:41:35.375825Z",
     "iopub.status.idle": "2025-05-31T11:41:35.378468Z",
     "shell.execute_reply": "2025-05-31T11:41:35.378174Z",
     "shell.execute_reply.started": "2025-05-31T11:41:35.375939Z"
    }
   },
   "outputs": [],
   "source": [
    "# df_exposure = df_exposure.astype({\"id\": int,'day_obs': int,'seq_num':int})"
   ]
  },
  {
   "cell_type": "markdown",
   "id": "57fbfb69-c000-4264-87d5-ea498c5d8150",
   "metadata": {},
   "source": [
    "## Select science exposures"
   ]
  },
  {
   "cell_type": "code",
   "execution_count": null,
   "id": "bf35edd5-74e0-40c1-a641-69b85dd843f1",
   "metadata": {
    "execution": {
     "iopub.execute_input": "2025-05-31T11:41:35.378945Z",
     "iopub.status.busy": "2025-05-31T11:41:35.378822Z",
     "iopub.status.idle": "2025-05-31T11:41:35.388817Z",
     "shell.execute_reply": "2025-05-31T11:41:35.388453Z",
     "shell.execute_reply.started": "2025-05-31T11:41:35.378933Z"
    }
   },
   "outputs": [],
   "source": [
    "df_science = df_exposure[df_exposure.type == \"science\"]\n",
    "df_science.reset_index(drop=True, inplace=True)"
   ]
  },
  {
   "cell_type": "markdown",
   "id": "116e56be-d4de-49fe-93d4-133cf21d1b06",
   "metadata": {},
   "source": [
    "## Add Tract-Patches"
   ]
  },
  {
   "cell_type": "code",
   "execution_count": null,
   "id": "9097e89e-b006-40fa-866a-deca00ed57f1",
   "metadata": {
    "execution": {
     "iopub.execute_input": "2025-05-31T11:41:35.389337Z",
     "iopub.status.busy": "2025-05-31T11:41:35.389212Z",
     "iopub.status.idle": "2025-05-31T11:41:35.400591Z",
     "shell.execute_reply": "2025-05-31T11:41:35.400231Z",
     "shell.execute_reply.started": "2025-05-31T11:41:35.389325Z"
    }
   },
   "outputs": [],
   "source": [
    "df=df_science.copy()\n",
    "df[\"band\"] = df[\"filter\"].apply(lambda x : x.split(\"_\")[0])"
   ]
  },
  {
   "cell_type": "code",
   "execution_count": null,
   "id": "f9b2b2c4-d0ca-4ba9-af11-9146d1145065",
   "metadata": {
    "execution": {
     "iopub.execute_input": "2025-05-31T11:41:35.401071Z",
     "iopub.status.busy": "2025-05-31T11:41:35.400950Z",
     "iopub.status.idle": "2025-05-31T11:41:35.413138Z",
     "shell.execute_reply": "2025-05-31T11:41:35.412840Z",
     "shell.execute_reply.started": "2025-05-31T11:41:35.401059Z"
    }
   },
   "outputs": [],
   "source": [
    "#df_with_tract_patch = add_tract_patch(df, butler)"
   ]
  },
  {
   "cell_type": "code",
   "execution_count": null,
   "id": "9c502d20-2a4f-4997-b8f2-962e441d6cb7",
   "metadata": {
    "execution": {
     "iopub.execute_input": "2025-05-31T11:41:35.413609Z",
     "iopub.status.busy": "2025-05-31T11:41:35.413489Z",
     "iopub.status.idle": "2025-05-31T11:41:35.426702Z",
     "shell.execute_reply": "2025-05-31T11:41:35.426401Z",
     "shell.execute_reply.started": "2025-05-31T11:41:35.413598Z"
    }
   },
   "outputs": [],
   "source": [
    "def get_tract_patch(row, skymap):\n",
    "    if pd.isna(row['ra']) or pd.isna(row['dec']):\n",
    "        return pd.Series({\"tract\": None, \"patch\": None})\n",
    "    \n",
    "    target_point = SpherePoint(row['ra'], row['dec'], degrees)\n",
    "\n",
    "    tract_info = skymap.findTract(target_point)\n",
    "    patch_info = tract_info.findPatch(target_point)\n",
    "    tractNbSel = tract_info.getId()\n",
    "    patchNbSel =  patch_info.getSequentialIndex()\n",
    "    patch_index_str = f\"{patch_info.getIndex()[0]},{patch_info.getIndex()[1]}\"\n",
    "   \n",
    "    \n",
    "    return pd.Series({\"tract\":   tractNbSel, \"patch\":  patchNbSel, \"patch_str\": patch_index_str})\n"
   ]
  },
  {
   "cell_type": "code",
   "execution_count": null,
   "id": "033b645b-ef29-4f3a-b0f0-6d906ee8970c",
   "metadata": {
    "execution": {
     "iopub.execute_input": "2025-05-31T11:41:35.427180Z",
     "iopub.status.busy": "2025-05-31T11:41:35.427054Z",
     "iopub.status.idle": "2025-05-31T11:41:35.951120Z",
     "shell.execute_reply": "2025-05-31T11:41:35.950720Z",
     "shell.execute_reply.started": "2025-05-31T11:41:35.427168Z"
    }
   },
   "outputs": [],
   "source": [
    "df = df.copy()\n",
    "df[['tract', 'patch', \"patch_str\"]] = df.apply(get_tract_patch, axis=1, args=(skymap,))"
   ]
  },
  {
   "cell_type": "code",
   "execution_count": null,
   "id": "05048d62-0fd8-4fa1-bd00-4b195e9e09bc",
   "metadata": {
    "execution": {
     "iopub.execute_input": "2025-05-31T11:41:35.951686Z",
     "iopub.status.busy": "2025-05-31T11:41:35.951543Z",
     "iopub.status.idle": "2025-05-31T11:41:35.965654Z",
     "shell.execute_reply": "2025-05-31T11:41:35.965343Z",
     "shell.execute_reply.started": "2025-05-31T11:41:35.951670Z"
    }
   },
   "outputs": [],
   "source": [
    "df"
   ]
  },
  {
   "cell_type": "markdown",
   "id": "e56c4145-85aa-4b7a-ab3f-f91f37ddcbe8",
   "metadata": {},
   "source": [
    "## Plots histograms with the number of visits and time sequences"
   ]
  },
  {
   "cell_type": "code",
   "execution_count": null,
   "id": "8ad23435-5269-4a93-b117-96332bdbca34",
   "metadata": {
    "execution": {
     "iopub.execute_input": "2025-05-31T11:41:35.966146Z",
     "iopub.status.busy": "2025-05-31T11:41:35.966009Z",
     "iopub.status.idle": "2025-05-31T11:41:35.975568Z",
     "shell.execute_reply": "2025-05-31T11:41:35.974973Z",
     "shell.execute_reply.started": "2025-05-31T11:41:35.966132Z"
    }
   },
   "outputs": [],
   "source": [
    "# Forcer l'ordre des bandes\n",
    "band_order = ['u', 'g', 'r', 'i', 'z', 'y']\n",
    "color_map = {\n",
    "    'u': 'blue',\n",
    "    'g': 'green',\n",
    "    'r': 'red',\n",
    "    'i': 'orange',\n",
    "    'z': 'gray',\n",
    "    'y': 'black'\n",
    "}\n",
    "\n",
    "# Grouper et compter\n",
    "grouped = df.groupby(['tract', 'patch', 'band']).size().reset_index(name='count')"
   ]
  },
  {
   "cell_type": "code",
   "execution_count": null,
   "id": "0aa77260-4e8c-4f9e-927e-67f5a6777a87",
   "metadata": {
    "execution": {
     "iopub.execute_input": "2025-05-31T11:41:35.976459Z",
     "iopub.status.busy": "2025-05-31T11:41:35.976267Z",
     "iopub.status.idle": "2025-05-31T11:41:35.984738Z",
     "shell.execute_reply": "2025-05-31T11:41:35.984430Z",
     "shell.execute_reply.started": "2025-05-31T11:41:35.976438Z"
    }
   },
   "outputs": [],
   "source": [
    "#grouped['tract_patch'] = grouped['tract'].astype(str) + '_' + grouped['patch_str']\n",
    "grouped['tract_patch'] = grouped['tract'].astype(str) + '_' + grouped['patch'].astype(str)"
   ]
  },
  {
   "cell_type": "code",
   "execution_count": null,
   "id": "583f9bcc-1e7c-4668-8d56-773cb7379969",
   "metadata": {
    "execution": {
     "iopub.execute_input": "2025-05-31T11:41:35.985231Z",
     "iopub.status.busy": "2025-05-31T11:41:35.985098Z",
     "iopub.status.idle": "2025-05-31T11:41:37.467596Z",
     "shell.execute_reply": "2025-05-31T11:41:37.467233Z",
     "shell.execute_reply.started": "2025-05-31T11:41:35.985218Z"
    }
   },
   "outputs": [],
   "source": [
    "plt.figure(figsize=(18, 6))\n",
    "sns.barplot(\n",
    "    data=grouped,\n",
    "    x='tract_patch',\n",
    "    y='count',\n",
    "    hue='band',\n",
    "    hue_order=band_order,\n",
    "    palette=color_map\n",
    ")\n",
    "\n",
    "plt.xlabel(\"Tract_Patch\")\n",
    "plt.ylabel(\"Number of visits per bands\")\n",
    "plt.title(\"Number of visits per bands in each (tract, patch)\")\n",
    "plt.xticks(rotation=45, ha='right')\n",
    "plt.legend(title=\"Band\")\n",
    "plt.tight_layout()\n",
    "plt.show()"
   ]
  },
  {
   "cell_type": "code",
   "execution_count": null,
   "id": "99889351-fb49-4189-bb4c-96d1ea2a67c2",
   "metadata": {
    "execution": {
     "iopub.execute_input": "2025-05-31T11:41:37.468206Z",
     "iopub.status.busy": "2025-05-31T11:41:37.468054Z",
     "iopub.status.idle": "2025-05-31T11:41:39.026807Z",
     "shell.execute_reply": "2025-05-31T11:41:39.026385Z",
     "shell.execute_reply.started": "2025-05-31T11:41:37.468191Z"
    }
   },
   "outputs": [],
   "source": [
    "plt.figure(figsize=(10, max(6, len(grouped['tract_patch'].unique()) * 0.8)))  # Adapter la hauteur\n",
    "\n",
    "sns.barplot(\n",
    "    data=grouped,\n",
    "    y='tract_patch',  # axe Y = les (tract, patch)\n",
    "    x='count',        # axe X = nombre de visites\n",
    "    hue='band',\n",
    "    hue_order=band_order,\n",
    "    palette=color_map\n",
    ")\n",
    "\n",
    "plt.ylabel(\"Tract_Patch\")\n",
    "plt.xlabel(\"Number of visits per bands\")\n",
    "plt.title(\"Number of visits per bands in field of view (tract, patch)\")\n",
    "plt.legend(title=\"Band\", bbox_to_anchor=(1.05, 1), loc='upper left')\n",
    "plt.grid()\n",
    "plt.tight_layout()\n",
    "plt.show()\n"
   ]
  },
  {
   "cell_type": "markdown",
   "id": "ac652254-f57b-4b6b-9402-8d54e9bc745c",
   "metadata": {},
   "source": [
    "## Which (tract,patch) has the maximum number of visits in y band"
   ]
  },
  {
   "cell_type": "code",
   "execution_count": null,
   "id": "bcc89941-e3ea-4f02-a250-0d3c6c3b6221",
   "metadata": {
    "execution": {
     "iopub.execute_input": "2025-05-31T11:41:39.027416Z",
     "iopub.status.busy": "2025-05-31T11:41:39.027276Z",
     "iopub.status.idle": "2025-05-31T11:41:39.033577Z",
     "shell.execute_reply": "2025-05-31T11:41:39.033224Z",
     "shell.execute_reply.started": "2025-05-31T11:41:39.027402Z"
    }
   },
   "outputs": [],
   "source": [
    "grouped"
   ]
  },
  {
   "cell_type": "code",
   "execution_count": null,
   "id": "a2eb34b8-a352-4b2b-a6dd-bed2d6fa4c10",
   "metadata": {
    "execution": {
     "iopub.execute_input": "2025-05-31T11:41:39.034112Z",
     "iopub.status.busy": "2025-05-31T11:41:39.033978Z",
     "iopub.status.idle": "2025-05-31T11:41:39.051442Z",
     "shell.execute_reply": "2025-05-31T11:41:39.050891Z",
     "shell.execute_reply.started": "2025-05-31T11:41:39.034092Z"
    }
   },
   "outputs": [],
   "source": [
    "# Filtrer la bande 'y'\n",
    "df_y = df[df['band'] == 'y']\n",
    "\n",
    "# Grouper par tract et patch\n",
    "grouped_y = df_y.groupby(['tract', 'patch']).size().reset_index(name='count')\n",
    "\n",
    "# Trouver le max\n",
    "max_row = grouped_y.loc[grouped_y['count'].idxmax()]\n",
    "\n",
    "\n",
    "tractNbSel = max_row['tract']\n",
    "patchNbSel = max_row['patch']\n"
   ]
  },
  {
   "cell_type": "code",
   "execution_count": null,
   "id": "0effed76-9741-4975-bc99-a0d09736ca22",
   "metadata": {
    "execution": {
     "iopub.execute_input": "2025-05-31T11:41:39.051962Z",
     "iopub.status.busy": "2025-05-31T11:41:39.051836Z",
     "iopub.status.idle": "2025-05-31T11:41:39.060946Z",
     "shell.execute_reply": "2025-05-31T11:41:39.060600Z",
     "shell.execute_reply.started": "2025-05-31T11:41:39.051950Z"
    }
   },
   "outputs": [],
   "source": [
    "print(f\"Tract: {tractNbSel}, Patch: {patchNbSel}, Number of Visits in y band: {max_row['count']}\")"
   ]
  },
  {
   "cell_type": "markdown",
   "id": "ada9bd0e-951c-4cb9-a7d1-ee717d4a337f",
   "metadata": {},
   "source": [
    "## Time sequences of arrival time in selected tract-patch"
   ]
  },
  {
   "cell_type": "code",
   "execution_count": null,
   "id": "0920fec5-c7bd-4519-8d0c-5f6adc481b2d",
   "metadata": {
    "execution": {
     "iopub.execute_input": "2025-05-31T11:41:39.061456Z",
     "iopub.status.busy": "2025-05-31T11:41:39.061330Z",
     "iopub.status.idle": "2025-05-31T11:41:39.074516Z",
     "shell.execute_reply": "2025-05-31T11:41:39.074111Z",
     "shell.execute_reply.started": "2025-05-31T11:41:39.061443Z"
    }
   },
   "outputs": [],
   "source": [
    "df_sel = df[(df['tract'] == tractNbSel) & (df['patch'] == patchNbSel)]"
   ]
  },
  {
   "cell_type": "code",
   "execution_count": null,
   "id": "42bc629e-b463-49cf-9446-e1dfee2e8b8c",
   "metadata": {
    "execution": {
     "iopub.execute_input": "2025-05-31T11:41:39.075036Z",
     "iopub.status.busy": "2025-05-31T11:41:39.074906Z",
     "iopub.status.idle": "2025-05-31T11:41:39.245827Z",
     "shell.execute_reply": "2025-05-31T11:41:39.245412Z",
     "shell.execute_reply.started": "2025-05-31T11:41:39.075024Z"
    }
   },
   "outputs": [],
   "source": [
    "plt.figure(figsize=(16, 8))\n",
    "\n",
    "sns.stripplot(\n",
    "    data=df_sel,\n",
    "    x='mjd',\n",
    "    y='band',\n",
    "    hue='band',  # <- correction\n",
    "    order=band_order,\n",
    "    palette=color_map,\n",
    "    size=10,\n",
    "    alpha=0.7,\n",
    "    dodge=False,\n",
    "    legend=False  # <- évite de doubler les légendes\n",
    ")\n",
    "\n",
    "plt.xlabel(\"MJD\")\n",
    "plt.ylabel(\"Band\")\n",
    "plt.title(f\"Sequence of visits in tract={tractNbSel}, patch={patchNbSel}\")\n",
    "plt.grid(True, linestyle='--', alpha=0.5)\n",
    "plt.tight_layout()\n",
    "plt.show()\n"
   ]
  },
  {
   "cell_type": "markdown",
   "id": "7d496496-97c5-4829-bf7e-8b7c7a91a872",
   "metadata": {},
   "source": [
    "## Retrieve Coadds"
   ]
  },
  {
   "cell_type": "code",
   "execution_count": null,
   "id": "fd64015e-972a-40c6-8941-54fb384f321e",
   "metadata": {
    "execution": {
     "iopub.execute_input": "2025-05-31T11:41:39.246446Z",
     "iopub.status.busy": "2025-05-31T11:41:39.246309Z",
     "iopub.status.idle": "2025-05-31T11:41:39.248826Z",
     "shell.execute_reply": "2025-05-31T11:41:39.248474Z",
     "shell.execute_reply.started": "2025-05-31T11:41:39.246432Z"
    }
   },
   "outputs": [],
   "source": [
    "all_dataIds = [\n",
    "    {\n",
    "        \"band\": band,\n",
    "        \"tract\": tractNbSel,\n",
    "        \"patch\": patchNbSel,\n",
    "        \"skymap\": skymapName,\n",
    "    }\n",
    "    for band in all_bands\n",
    "]"
   ]
  },
  {
   "cell_type": "code",
   "execution_count": null,
   "id": "4394696b-fa74-4058-ad45-fc3165a926a5",
   "metadata": {
    "execution": {
     "iopub.execute_input": "2025-05-31T11:41:39.249354Z",
     "iopub.status.busy": "2025-05-31T11:41:39.249228Z",
     "iopub.status.idle": "2025-05-31T11:41:53.906314Z",
     "shell.execute_reply": "2025-05-31T11:41:53.905735Z",
     "shell.execute_reply.started": "2025-05-31T11:41:39.249342Z"
    }
   },
   "outputs": [],
   "source": [
    "all_deepCoadds = []\n",
    "all_deepCoadds_wcs = []\n",
    "all_titles = []\n",
    "for idx, band in enumerate(all_bands):\n",
    "    the_band = band\n",
    "    the_dataId = all_dataIds[idx]\n",
    "    the_title = f\"({tractNbSel},{patchNbSel}) \" + f\" band {the_band}\"\n",
    "    try:\n",
    "        coadd_exp = butler.get(\"deepCoadd_calexp\", the_dataId)\n",
    "        wcs = coadd_exp.getWcs()\n",
    "        psf = coadd_exp.getPsf()\n",
    "        all_deepCoadds.append(coadd_exp)\n",
    "        all_deepCoadds_wcs.append(wcs)\n",
    "        all_titles.append(the_title)\n",
    "\n",
    "    except Exception as inst:\n",
    "        print(f\"{key} :: catch Exception for band {band}\")\n",
    "        print(type(inst))  # the exception type\n",
    "        print(inst.args)  # arguments stored in .args\n",
    "        print(inst)  # __str_"
   ]
  },
  {
   "cell_type": "markdown",
   "id": "d81ce28b-c01f-4844-a37a-417359063782",
   "metadata": {},
   "source": [
    "## Plot with Firefly"
   ]
  },
  {
   "cell_type": "code",
   "execution_count": null,
   "id": "4e89bb5c-1e16-461f-8bec-15263beb7077",
   "metadata": {
    "execution": {
     "iopub.execute_input": "2025-05-31T11:41:53.909082Z",
     "iopub.status.busy": "2025-05-31T11:41:53.908525Z",
     "iopub.status.idle": "2025-05-31T11:41:54.036431Z",
     "shell.execute_reply": "2025-05-31T11:41:54.035965Z",
     "shell.execute_reply.started": "2025-05-31T11:41:53.909067Z"
    }
   },
   "outputs": [],
   "source": [
    "afwDisplay.setDefaultBackend(\"firefly\")"
   ]
  },
  {
   "cell_type": "code",
   "execution_count": null,
   "id": "c3f1d36b-ac9b-46d2-b031-d0fb6d733f40",
   "metadata": {
    "execution": {
     "iopub.execute_input": "2025-05-31T11:42:21.252771Z",
     "iopub.status.busy": "2025-05-31T11:42:21.252421Z",
     "iopub.status.idle": "2025-05-31T11:42:23.788391Z",
     "shell.execute_reply": "2025-05-31T11:42:23.787866Z",
     "shell.execute_reply.started": "2025-05-31T11:42:21.252745Z"
    }
   },
   "outputs": [],
   "source": [
    "N = len(all_deepCoadds)\n",
    "for count in range(N):\n",
    "    band = all_bands[count]\n",
    "    display = afwDisplay.Display(frame=count + 1)\n",
    "    # cannot succeed to show white stars on dark sky\n",
    "    display.setImageColormap(\"gray\")\n",
    "    display.scale(\"asinh\", \"zscale\")\n",
    "    display.mtv(all_deepCoadds[count].image, title=all_titles[count])"
   ]
  },
  {
   "cell_type": "markdown",
   "id": "1bd2a7ee-8e29-47ef-acda-e95a24459777",
   "metadata": {},
   "source": [
    "### Clean"
   ]
  },
  {
   "cell_type": "code",
   "execution_count": null,
   "id": "4fb20acd-f6ad-46a3-b70c-7265222ffeb5",
   "metadata": {
    "execution": {
     "iopub.execute_input": "2025-05-31T11:42:53.415770Z",
     "iopub.status.busy": "2025-05-31T11:42:53.415549Z",
     "iopub.status.idle": "2025-05-31T11:42:53.418511Z",
     "shell.execute_reply": "2025-05-31T11:42:53.418050Z",
     "shell.execute_reply.started": "2025-05-31T11:42:53.415755Z"
    }
   },
   "outputs": [],
   "source": [
    "# display.clearViewer()"
   ]
  },
  {
   "cell_type": "code",
   "execution_count": null,
   "id": "70584417-e05e-4bf0-9b7d-ab164982bdb4",
   "metadata": {},
   "outputs": [],
   "source": []
  }
 ],
 "metadata": {
  "kernelspec": {
   "display_name": "LSST",
   "language": "python",
   "name": "lsst"
  },
  "language_info": {
   "codemirror_mode": {
    "name": "ipython",
    "version": 3
   },
   "file_extension": ".py",
   "mimetype": "text/x-python",
   "name": "python",
   "nbconvert_exporter": "python",
   "pygments_lexer": "ipython3",
   "version": "3.12.10"
  }
 },
 "nbformat": 4,
 "nbformat_minor": 5
}
