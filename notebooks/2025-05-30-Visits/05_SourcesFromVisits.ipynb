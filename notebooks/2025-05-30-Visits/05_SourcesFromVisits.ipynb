{
 "cells": [
  {
   "cell_type": "markdown",
   "id": "adda26b1-7594-48da-94d2-6722bd71353c",
   "metadata": {},
   "source": [
    "# Select the tract-patch with the higest number of visits and Show the Coadds and Fetch the sources in that Patch"
   ]
  },
  {
   "cell_type": "markdown",
   "id": "1f276e2d-e5e1-4b30-bf3c-4ea950073fad",
   "metadata": {
    "execution": {
     "iopub.execute_input": "2025-04-29T08:48:57.989253Z",
     "iopub.status.busy": "2025-04-29T08:48:57.988923Z",
     "iopub.status.idle": "2025-04-29T08:48:57.993268Z",
     "shell.execute_reply": "2025-04-29T08:48:57.992764Z",
     "shell.execute_reply.started": "2025-04-29T08:48:57.989226Z"
    }
   },
   "source": [
    "- author : Sylvie Dagoret-Campagne\n",
    "- affiliation : IJCLab/IN2P3/CNRS\n",
    "- member : DESC, rubin-inkind\n",
    "- creation date : 2025-05-31\n",
    "- last update : 2025-05-31"
   ]
  },
  {
   "cell_type": "code",
   "execution_count": null,
   "id": "01996343-5a50-4c86-a6a2-261bc3bf8df0",
   "metadata": {
    "execution": {
     "iopub.execute_input": "2025-05-31T17:47:04.605468Z",
     "iopub.status.busy": "2025-05-31T17:47:04.605349Z",
     "iopub.status.idle": "2025-05-31T17:47:06.013225Z",
     "shell.execute_reply": "2025-05-31T17:47:06.012865Z",
     "shell.execute_reply.started": "2025-05-31T17:47:04.605454Z"
    }
   },
   "outputs": [],
   "source": [
    "import lsst.pipe.base\n",
    "print(lsst.pipe.base.__version__)"
   ]
  },
  {
   "cell_type": "code",
   "execution_count": null,
   "id": "72f36e25-589c-4a8c-865f-8b51f5f35270",
   "metadata": {
    "execution": {
     "iopub.execute_input": "2025-05-31T17:47:06.013810Z",
     "iopub.status.busy": "2025-05-31T17:47:06.013665Z",
     "iopub.status.idle": "2025-05-31T17:47:06.943687Z",
     "shell.execute_reply": "2025-05-31T17:47:06.943285Z",
     "shell.execute_reply.started": "2025-05-31T17:47:06.013794Z"
    }
   },
   "outputs": [],
   "source": [
    "import sys\n",
    "import matplotlib.pyplot as plt\n",
    "import lsst.afw.display as afwDisplay\n",
    "from lsst.geom import SpherePoint, degrees\n",
    "from lsst.afw.image import ExposureF\n",
    "from lsst.skymap import PatchInfo, Index2D\n",
    "import numpy as np\n",
    "import pandas as pd\n",
    "import lsst.afw.display as afwDisplay\n",
    "# %matplotlib widget"
   ]
  },
  {
   "cell_type": "code",
   "execution_count": null,
   "id": "3d9ad128-35bd-48b5-8214-8be3e5b362de",
   "metadata": {
    "execution": {
     "iopub.execute_input": "2025-05-31T17:47:06.944665Z",
     "iopub.status.busy": "2025-05-31T17:47:06.944151Z",
     "iopub.status.idle": "2025-05-31T17:47:06.947206Z",
     "shell.execute_reply": "2025-05-31T17:47:06.946873Z",
     "shell.execute_reply.started": "2025-05-31T17:47:06.944648Z"
    }
   },
   "outputs": [],
   "source": [
    "from astropy.coordinates import Angle\n",
    "import astropy.units as u\n",
    "from astropy.coordinates import SkyCoord\n",
    "from astropy.time import Time"
   ]
  },
  {
   "cell_type": "code",
   "execution_count": null,
   "id": "61970c43-da35-418a-a48b-d6eb5ebb2f54",
   "metadata": {
    "execution": {
     "iopub.execute_input": "2025-05-31T17:47:06.947774Z",
     "iopub.status.busy": "2025-05-31T17:47:06.947635Z",
     "iopub.status.idle": "2025-05-31T17:47:07.628955Z",
     "shell.execute_reply": "2025-05-31T17:47:07.628335Z",
     "shell.execute_reply.started": "2025-05-31T17:47:06.947760Z"
    }
   },
   "outputs": [],
   "source": [
    "import seaborn as sns"
   ]
  },
  {
   "cell_type": "code",
   "execution_count": null,
   "id": "f2580923-bf82-4204-a50d-c64eb56b9f06",
   "metadata": {
    "execution": {
     "iopub.execute_input": "2025-05-31T17:47:07.631270Z",
     "iopub.status.busy": "2025-05-31T17:47:07.629753Z",
     "iopub.status.idle": "2025-05-31T17:47:07.635884Z",
     "shell.execute_reply": "2025-05-31T17:47:07.635467Z",
     "shell.execute_reply.started": "2025-05-31T17:47:07.631247Z"
    }
   },
   "outputs": [],
   "source": [
    "plt.rcParams[\"figure.figsize\"] = (10, 6)\n",
    "plt.rcParams[\"axes.labelsize\"] = \"x-large\"\n",
    "plt.rcParams[\"axes.titlesize\"] = \"x-large\"\n",
    "plt.rcParams[\"xtick.labelsize\"] = \"x-large\"\n",
    "plt.rcParams[\"ytick.labelsize\"] = \"x-large\"\n",
    "\n",
    "# Set up some plotting defaults:\n",
    "plt.rcParams.update({'figure.figsize' : (12, 8)})\n",
    "plt.rcParams.update({'font.size' : 20})\n",
    "plt.rcParams.update({'axes.linewidth' : 3})\n",
    "plt.rcParams.update({'axes.labelweight' : 3})\n",
    "plt.rcParams.update({'axes.titleweight' : 5})\n",
    "plt.rcParams.update({'ytick.major.width' : 3})\n",
    "plt.rcParams.update({'ytick.minor.width' : 2})\n",
    "plt.rcParams.update({'ytick.major.size' : 8})\n",
    "plt.rcParams.update({'ytick.minor.size' : 5})\n",
    "plt.rcParams.update({'xtick.major.size' : 8})\n",
    "plt.rcParams.update({'xtick.minor.size' : 5})\n",
    "plt.rcParams.update({'xtick.major.width' : 3})\n",
    "plt.rcParams.update({'xtick.minor.width' : 2})\n",
    "plt.rcParams.update({'xtick.direction' : 'in'})\n",
    "plt.rcParams.update({'ytick.direction' : 'in'})\n"
   ]
  },
  {
   "cell_type": "code",
   "execution_count": null,
   "id": "37adbe72-e5a6-4b45-9749-87467563d028",
   "metadata": {
    "execution": {
     "iopub.execute_input": "2025-05-31T17:47:07.636560Z",
     "iopub.status.busy": "2025-05-31T17:47:07.636417Z",
     "iopub.status.idle": "2025-05-31T17:47:07.648014Z",
     "shell.execute_reply": "2025-05-31T17:47:07.647537Z",
     "shell.execute_reply.started": "2025-05-31T17:47:07.636545Z"
    }
   },
   "outputs": [],
   "source": [
    "all_bands = [\"u\", \"g\", \"r\", \"i\", \"z\", \"y\"]\n",
    "all_bands_colors = [\"blue\", \"green\", \"red\", \"orange\", \"yellow\", \"purple\"]"
   ]
  },
  {
   "cell_type": "code",
   "execution_count": null,
   "id": "1a1a267b-58c7-468a-a336-2c8def253a79",
   "metadata": {
    "execution": {
     "iopub.execute_input": "2025-05-31T17:47:07.651034Z",
     "iopub.status.busy": "2025-05-31T17:47:07.650684Z",
     "iopub.status.idle": "2025-05-31T17:47:07.653781Z",
     "shell.execute_reply": "2025-05-31T17:47:07.653408Z",
     "shell.execute_reply.started": "2025-05-31T17:47:07.651018Z"
    }
   },
   "outputs": [],
   "source": [
    "import traceback"
   ]
  },
  {
   "cell_type": "code",
   "execution_count": null,
   "id": "ede21bda-146f-4c77-aa40-edf2debfbfc0",
   "metadata": {
    "execution": {
     "iopub.execute_input": "2025-05-31T17:47:07.654402Z",
     "iopub.status.busy": "2025-05-31T17:47:07.654265Z",
     "iopub.status.idle": "2025-05-31T17:47:07.705192Z",
     "shell.execute_reply": "2025-05-31T17:47:07.704713Z",
     "shell.execute_reply.started": "2025-05-31T17:47:07.654388Z"
    }
   },
   "outputs": [],
   "source": [
    "# Define butler\n",
    "from lsst.daf.butler import Butler"
   ]
  },
  {
   "cell_type": "code",
   "execution_count": null,
   "id": "c7ab7fe3-285d-48c2-973a-2dde9d0a7faa",
   "metadata": {
    "execution": {
     "iopub.execute_input": "2025-05-31T17:47:07.705881Z",
     "iopub.status.busy": "2025-05-31T17:47:07.705724Z",
     "iopub.status.idle": "2025-05-31T17:47:08.407659Z",
     "shell.execute_reply": "2025-05-31T17:47:08.407053Z",
     "shell.execute_reply.started": "2025-05-31T17:47:07.705866Z"
    }
   },
   "outputs": [],
   "source": [
    "!eups list lsst_distrib"
   ]
  },
  {
   "cell_type": "code",
   "execution_count": null,
   "id": "37947b3f-f096-40a9-a6e7-989668256ad6",
   "metadata": {
    "execution": {
     "iopub.execute_input": "2025-05-31T17:47:08.408505Z",
     "iopub.status.busy": "2025-05-31T17:47:08.408355Z",
     "iopub.status.idle": "2025-05-31T17:47:08.412900Z",
     "shell.execute_reply": "2025-05-31T17:47:08.412470Z",
     "shell.execute_reply.started": "2025-05-31T17:47:08.408488Z"
    }
   },
   "outputs": [],
   "source": [
    "def nJy_to_ab_mag(f_njy):\n",
    "    \"\"\"Convert scalar or array flux in nJy to AB magnitude.\"\"\"\n",
    "    f_njy = np.asarray(f_njy)\n",
    "    mag = np.full_like(f_njy, fill_value=np.nan, dtype=float)\n",
    "    mask = f_njy > 0\n",
    "    mag[mask] = -2.5 * np.log10(f_njy[mask]) + 31.4\n",
    "    return mag\n",
    "\n",
    "\n",
    "def nJy_err_to_ab_err(f_njy, f_err):\n",
    "    \"\"\"Propagate flux error to magnitude error.\"\"\"\n",
    "    f_njy = np.asarray(f_njy)\n",
    "    f_err = np.asarray(f_err)\n",
    "    mag_err = np.full_like(f_njy, fill_value=np.nan, dtype=float)\n",
    "    mask = (f_njy > 0) & (f_err > 0)\n",
    "    mag_err[mask] = (2.5 / np.log(10)) * (f_err[mask] / f_njy[mask])\n",
    "    return mag_err\n"
   ]
  },
  {
   "cell_type": "code",
   "execution_count": null,
   "id": "9d92da8c-5245-4407-beda-836a5249d6d3",
   "metadata": {
    "execution": {
     "iopub.execute_input": "2025-05-31T17:47:08.413426Z",
     "iopub.status.busy": "2025-05-31T17:47:08.413300Z",
     "iopub.status.idle": "2025-05-31T17:47:08.422271Z",
     "shell.execute_reply": "2025-05-31T17:47:08.421856Z",
     "shell.execute_reply.started": "2025-05-31T17:47:08.413414Z"
    }
   },
   "outputs": [],
   "source": [
    "def RetrieveDRPSources_forTarget(butler,center_coord,datasettype,where_clause,radius_cut=50):\n",
    "    \"\"\"\n",
    "    Find the closest Sourcesthe target_coord \n",
    "\n",
    "    parameters:\n",
    "    - butler\n",
    "    - the coordinate of the target (center of the cone seach)\n",
    "    - the datasettype name for the DRP object\n",
    "    - where_clause : which contrain requirements on the tract and patch numbers\n",
    "    - cut on angluar separation for the returned for the returned object\n",
    "\n",
    "    Return\n",
    "    - object Id with minimum separation , \n",
    "    - minimum separation (arcec),\n",
    "    - the table of DRP objects within the radius_cut\n",
    "    \"\"\"\n",
    "\n",
    "    ra_columns = ['u_ra', 'g_ra', 'r_ra', 'i_ra', 'z_ra', 'y_ra']\n",
    "    dec_columns = ['u_dec', 'g_dec', 'r_dec', 'i_dec', 'z_dec', 'y_dec']\n",
    "\n",
    "    \n",
    "    therefs = butler.registry.queryDatasets(datasettype,  collections=collection, where=where_clause)\n",
    "\n",
    "    for count,ref in enumerate(therefs):\n",
    "        the_id = ref.dataId\n",
    "        the_tract_id = the_id[\"tract\"] \n",
    "        print(the_id)\n",
    "        \n",
    "        # catalog of rubin objects (a pandas Dataframe) inside the tract\n",
    "        catalog = butler.get(ref)\n",
    "        catalog = catalog[catalog[\"patch\"] == patchNbSel] \n",
    "       \n",
    "    \n",
    "        nobjects = len(catalog)\n",
    "\n",
    "\n",
    "        # Calcul de la moyenne ligne par ligne, en ignorant les NaN\n",
    "        catalog['ra'] = catalog[ra_columns].mean(axis=1, skipna=True)\n",
    "        catalog['dec'] = catalog[dec_columns].mean(axis=1, skipna=True)\n",
    "\n",
    "\n",
    "        # extract the (ra,dec) coordinates for all te objects of the rubin-catalog\n",
    "        ra_cat = catalog[\"ra\"].values\n",
    "        dec_cat = catalog[\"dec\"].values\n",
    "        # coordinates for all rubin-catalog points\n",
    "        catalog_coords = SkyCoord(ra=ra_cat*u.deg, dec=dec_cat*u.deg)\n",
    "\n",
    "        # Angular distance to target\n",
    "        distances_arcsec = center_coord.separation(catalog_coords).arcsecond\n",
    "\n",
    "        # add the separation angle to the ctalog\n",
    "        catalog[\"sep\"] = distances_arcsec\n",
    "\n",
    "\n",
    "        # closest object from the target\n",
    "        sepMin = distances_arcsec.min() \n",
    "        sepMin_idx = np.where(distances_arcsec == sepMin)[0][0]\n",
    "    \n",
    "        closest_obj = catalog[catalog[\"sep\"] <=  sepMin]\n",
    "                   \n",
    "        # select a few of these sources to debug the closest candidate\n",
    "        nearby_obj = catalog[distances_arcsec < radius_cut]\n",
    "        \n",
    "        return closest_obj, sepMin, nearby_obj\n"
   ]
  },
  {
   "cell_type": "code",
   "execution_count": null,
   "id": "10a45ccc-da14-4be4-849d-e68e2a33cc26",
   "metadata": {
    "execution": {
     "iopub.execute_input": "2025-05-31T17:47:08.422888Z",
     "iopub.status.busy": "2025-05-31T17:47:08.422763Z",
     "iopub.status.idle": "2025-05-31T17:47:08.430156Z",
     "shell.execute_reply": "2025-05-31T17:47:08.429791Z",
     "shell.execute_reply.started": "2025-05-31T17:47:08.422876Z"
    }
   },
   "outputs": [],
   "source": [
    "def FetchTimesForVisits(visit_list):\n",
    "    \"\"\"\n",
    "    \"\"\"\n",
    "    # On interroge la table visitDefinition\n",
    "    Nvisit = len(visit_list)\n",
    "        \n",
    "    if Nvisit == 1:\n",
    "        thevisit = visit_list.values[0]\n",
    "        rows = registry.queryDimensionRecords(\"visit\", where=f\"visit={thevisit}\")\n",
    "    else:\n",
    "        rows = registry.queryDimensionRecords(\"visit\", where=f\"visit in {tuple(visit_list)}\")\n",
    "\n",
    "    # 4. Construire un tableau des résultats\n",
    "    results = []\n",
    "    for row in rows:\n",
    "        visit_id = row.id\n",
    "        visit_airmass = 1./np.cos(Angle(row.zenith_angle,u.degree).rad)\n",
    "        visit_azimuth = row.azimuth\n",
    "\n",
    "        # Extraire l'instant de début de l'observation (Time astropy)\n",
    "        start_time = row.timespan.begin\n",
    "\n",
    "        # Convertir en MJD et ISO\n",
    "        mjd = start_time.to_value(\"mjd\")  # Ex: 60384.28718\n",
    "        isot = start_time.to_value(\"isot\")  # Ex: '2024-04-19 06:53:32.000'\n",
    "    \n",
    "        #mjd = row.startDate.toMjd()\n",
    "        #utc = Time(mjd, format='mjd', scale='utc').to_value('iso')\n",
    "        #results.append({\"visit\": visit_id, \"mjd\": mjd, \"isot\": isot})\n",
    "        results.append({\"visit\": visit_id, \"mjd\": mjd, \"isot\": isot,\"airmass\":visit_airmass,\"azimuth\":visit_azimuth})\n",
    "\n",
    "    df_times = pd.DataFrame(results).sort_values(\"visit\")\n",
    "    df_times.set_index(\"visit\",inplace=True)\n",
    "    return df_times"
   ]
  },
  {
   "cell_type": "markdown",
   "id": "7e369002-01db-40e2-a7b7-036072114e6a",
   "metadata": {},
   "source": [
    "## RubinTV, Campaigns , quicklook\n",
    "- RubinTV : https://usdf-rsp.slac.stanford.edu/rubintv/summit-usdf/lsstcam\n",
    "- https://rubinobs.atlassian.net/wiki/spaces/LSSTCOM/pages/467370016/LSSTCam+Commissioning+Planning\n",
    "- LSSTCam DM campaign : https://rubinobs.atlassian.net/wiki/spaces/DM/pages/48834013/Campaigns#1.1.2.-LSSTCam-Nightly-Validation-Pipeline\n",
    "- Check campaign also here  https://rubinobs.atlassian.net/wiki/pages/diffpagesbyversion.action?pageId=48834013&selectedPageVersions=145%2C143\n",
    "- fov-quicklook : https://usdf-rsp-dev.slac.stanford.edu/fov-quicklook/"
   ]
  },
  {
   "cell_type": "markdown",
   "id": "4ce495c8-71a6-4846-86fc-5715e13348ab",
   "metadata": {},
   "source": [
    "## Configuration"
   ]
  },
  {
   "cell_type": "markdown",
   "id": "29bdd60b-f237-4a90-8aee-95f83091a5c8",
   "metadata": {},
   "source": [
    "### Choose instrument"
   ]
  },
  {
   "cell_type": "code",
   "execution_count": null,
   "id": "66ff700b-a6ab-4b6d-ab28-dfadf54fdd9f",
   "metadata": {
    "execution": {
     "iopub.execute_input": "2025-05-31T17:47:08.430721Z",
     "iopub.status.busy": "2025-05-31T17:47:08.430593Z",
     "iopub.status.idle": "2025-05-31T17:47:08.439091Z",
     "shell.execute_reply": "2025-05-31T17:47:08.438731Z",
     "shell.execute_reply.started": "2025-05-31T17:47:08.430709Z"
    }
   },
   "outputs": [],
   "source": [
    "# instrument = \"LSSTCam\"\n",
    "instrument = \"LSSTComCam\"\n",
    "# instrument = \"LATISS\""
   ]
  },
  {
   "cell_type": "markdown",
   "id": "6d0c9a3d-a12b-424a-9aed-1d1309179e07",
   "metadata": {},
   "source": [
    "### For LSSTCam : RubinTV, Campaigns , quicklook\n",
    "- RubinTV : https://usdf-rsp.slac.stanford.edu/rubintv/summit-usdf/lsstcam\n",
    "- https://rubinobs.atlassian.net/wiki/spaces/LSSTCOM/pages/467370016/LSSTCam+Commissioning+Planning\n",
    "- LSSTCam DM campaign : https://rubinobs.atlassian.net/wiki/spaces/DM/pages/48834013/Campaigns#1.1.2.-LSSTCam-Nightly-Validation-Pipeline\n",
    "- Check campaign also here  https://rubinobs.atlassian.net/wiki/pages/diffpagesbyversion.action?pageId=48834013&selectedPageVersions=145%2C143\n",
    "- fov-quicklook : https://usdf-rsp-dev.slac.stanford.edu/fov-quicklook/"
   ]
  },
  {
   "cell_type": "markdown",
   "id": "5542de7d-695e-4256-b765-28b902b02adc",
   "metadata": {},
   "source": [
    "### For LSSTComCam check here : \n",
    "- - Check here the collection available : https://rubinobs.atlassian.net/wiki/spaces/DM/pages/226656354/LSSTComCam+Intermittent+Cumulative+DRP+Runs"
   ]
  },
  {
   "cell_type": "code",
   "execution_count": null,
   "id": "eacb14b0-183c-4dcd-ba59-64c7ca3efcd3",
   "metadata": {
    "execution": {
     "iopub.execute_input": "2025-05-31T17:47:08.439693Z",
     "iopub.status.busy": "2025-05-31T17:47:08.439563Z",
     "iopub.status.idle": "2025-05-31T17:47:08.446933Z",
     "shell.execute_reply": "2025-05-31T17:47:08.446586Z",
     "shell.execute_reply.started": "2025-05-31T17:47:08.439679Z"
    }
   },
   "outputs": [],
   "source": [
    "if instrument == \"LSSTCam\":\n",
    "    repo = \"/repo/embargo\"\n",
    "    instrument = \"LSSTCam\"\n",
    "    collection_validation = instrument + \"/runs/nightlyValidation\"\n",
    "    # collection_quicklook   = instrument + '/runs/quickLookTesting'\n",
    "    collection_validation = os.path.join(collection_validation, \"20250416/d_2025_04_15/DM-50157\")\n",
    "    date_start = 20250415\n",
    "    date_selection = 20250416\n",
    "    where_clause = \"instrument = '\" + f\"{instrument}\" + \"'\"\n",
    "    where_clause_date = where_clause + f\"and day_obs >= {date_start}\"\n",
    "    skymapName = \"lsst_cells_v1\"\n",
    "\n",
    "elif instrument == \"LSSTComCam\":\n",
    "    repo = \"/repo/main\"\n",
    "    collection_validation = \"LSSTComCam/runs/DRP/DP1/w_2025_10/DM-49359\"  # work\n",
    "    date_start = 20241024\n",
    "    date_selection = 20241211\n",
    "    skymapName = \"lsst_cells_v1\"\n",
    "    where_clause = \"instrument = \\'\" + instrument+ \"\\'\"\n",
    "    where_clause_date = where_clause + f\"and day_obs >= {date_start}\"\n",
    "\n",
    "    NDET = 9\n",
    "    TRACTSEL = 5063\n",
    "    PATCHSEL = 14\n",
    "\n",
    "elif instrument == \"LSSTComCamSim\":\n",
    "    repo = \"/repo/main\"\n",
    "    collection_validation = \"LSSTComCamSim/*\"  # work\n",
    "    date_start = 20241024\n",
    "    date_selection = 20241211\n",
    "    skymapName = \"ops_rehersal_prep_2k_v1\"\n",
    "    where_clause = \"instrument = '\" + instrument + \"'\"\n",
    "    where_clause_date = where_clause + f\"and day_obs >= {date_start}\"\n",
    "\n",
    "    NDET = 9\n",
    "    TRACTSEL = 5063\n",
    "\n",
    "elif instrument == \"LATISS\":\n",
    "    repo = \"/repo/main\"\n",
    "    # collection_validation = instrument + \"/runs/quickLook\"\n",
    "    collection_validation = instrument + \"/raw/all\"\n",
    "    date_start = 20221001\n",
    "    date_selection = 20221001\n",
    "    skymapName = \"latiss_v1\"\n",
    "    where_clause = \"instrument = '\" + instrument + \"'\"\n",
    "    where_clause_date = where_clause + f\"and day_obs >= {date_start}\"\n",
    "\n",
    "    NDET = 9\n",
    "    TRACTSEL = 5063"
   ]
  },
  {
   "cell_type": "code",
   "execution_count": null,
   "id": "82535307-9253-4f06-b82a-956efd0217c9",
   "metadata": {
    "execution": {
     "iopub.execute_input": "2025-05-31T17:47:08.447507Z",
     "iopub.status.busy": "2025-05-31T17:47:08.447384Z",
     "iopub.status.idle": "2025-05-31T17:47:08.453872Z",
     "shell.execute_reply": "2025-05-31T17:47:08.453500Z",
     "shell.execute_reply.started": "2025-05-31T17:47:08.447495Z"
    }
   },
   "outputs": [],
   "source": [
    "collectionStr = collection_validation.replace(\"/\", \"_\")"
   ]
  },
  {
   "cell_type": "markdown",
   "id": "e77a39ca-c34f-4097-8a11-c40a121a82e9",
   "metadata": {},
   "source": [
    "## Access to Butler registry"
   ]
  },
  {
   "cell_type": "code",
   "execution_count": null,
   "id": "8726b7e4-94b7-48ac-92f8-447b34b7a59e",
   "metadata": {
    "execution": {
     "iopub.execute_input": "2025-05-31T17:47:08.454462Z",
     "iopub.status.busy": "2025-05-31T17:47:08.454339Z",
     "iopub.status.idle": "2025-05-31T17:47:08.804134Z",
     "shell.execute_reply": "2025-05-31T17:47:08.803636Z",
     "shell.execute_reply.started": "2025-05-31T17:47:08.454450Z"
    }
   },
   "outputs": [],
   "source": [
    "# Initialize the butler repo:\n",
    "butler = Butler(repo, collections=collection_validation)\n",
    "registry = butler.registry"
   ]
  },
  {
   "cell_type": "markdown",
   "id": "a82d1397-cd01-45d3-9f39-8b4f6bcbb21f",
   "metadata": {},
   "source": [
    "## Create a skymap object"
   ]
  },
  {
   "cell_type": "code",
   "execution_count": null,
   "id": "2a570834-a5dc-43b8-a0d3-af71a5b2706c",
   "metadata": {
    "execution": {
     "iopub.execute_input": "2025-05-31T17:47:08.804976Z",
     "iopub.status.busy": "2025-05-31T17:47:08.804833Z",
     "iopub.status.idle": "2025-05-31T17:47:08.807245Z",
     "shell.execute_reply": "2025-05-31T17:47:08.806870Z",
     "shell.execute_reply.started": "2025-05-31T17:47:08.804961Z"
    }
   },
   "outputs": [],
   "source": [
    "# skymap = butler.get(\"skyMap\", skymap=skymapName, collections=collection_validation)"
   ]
  },
  {
   "cell_type": "code",
   "execution_count": null,
   "id": "26edbe65-22fe-4377-9ea1-ad2a270da9a9",
   "metadata": {
    "execution": {
     "iopub.execute_input": "2025-05-31T17:47:08.807811Z",
     "iopub.status.busy": "2025-05-31T17:47:08.807685Z",
     "iopub.status.idle": "2025-05-31T17:47:09.153980Z",
     "shell.execute_reply": "2025-05-31T17:47:09.153480Z",
     "shell.execute_reply.started": "2025-05-31T17:47:08.807798Z"
    }
   },
   "outputs": [],
   "source": [
    "try:\n",
    "    skymap = butler.get(\"skyMap\", skymap=skymapName, collections=collection_validation)\n",
    "except Exception as inst:\n",
    "    print(type(inst))  # the exception type\n",
    "    print(inst.args)  # arguments stored in .args\n",
    "    print(inst)  # __str__ allows args to be printed directly,"
   ]
  },
  {
   "cell_type": "code",
   "execution_count": null,
   "id": "1d05a4bb-a090-442a-8c28-1245ec463ba6",
   "metadata": {
    "execution": {
     "iopub.execute_input": "2025-05-31T17:47:09.154524Z",
     "iopub.status.busy": "2025-05-31T17:47:09.154391Z",
     "iopub.status.idle": "2025-05-31T17:47:09.393573Z",
     "shell.execute_reply": "2025-05-31T17:47:09.393099Z",
     "shell.execute_reply.started": "2025-05-31T17:47:09.154508Z"
    }
   },
   "outputs": [],
   "source": [
    "camera = butler.get(\"camera\", collections=collection_validation, instrument=instrument)"
   ]
  },
  {
   "cell_type": "markdown",
   "id": "a70c8618-a3ca-4c9e-a97d-7ab848c4df85",
   "metadata": {},
   "source": [
    "## Dump registry into a pandas dataframe\n",
    "\n",
    "- Faster method to decode the registry in pandas dataframe : first save deconded filed into a list of fields and then flush the whole list in pandas instead of row by row\n",
    "- Be carefull the registry variable change in name and type perhaps depending on DM_version"
   ]
  },
  {
   "cell_type": "code",
   "execution_count": null,
   "id": "55d0f624-5a74-4a58-af6d-bb0d025d9a97",
   "metadata": {
    "execution": {
     "iopub.execute_input": "2025-05-31T17:47:09.394286Z",
     "iopub.status.busy": "2025-05-31T17:47:09.394144Z",
     "iopub.status.idle": "2025-05-31T17:47:09.397048Z",
     "shell.execute_reply": "2025-05-31T17:47:09.396616Z",
     "shell.execute_reply.started": "2025-05-31T17:47:09.394272Z"
    }
   },
   "outputs": [],
   "source": [
    "print(where_clause_date)"
   ]
  },
  {
   "cell_type": "code",
   "execution_count": null,
   "id": "7fb3f33e-6325-4610-aeb5-b4c8c3372e41",
   "metadata": {
    "execution": {
     "iopub.execute_input": "2025-05-31T17:47:09.397900Z",
     "iopub.status.busy": "2025-05-31T17:47:09.397534Z",
     "iopub.status.idle": "2025-05-31T17:47:09.404131Z",
     "shell.execute_reply": "2025-05-31T17:47:09.403715Z",
     "shell.execute_reply.started": "2025-05-31T17:47:09.397886Z"
    }
   },
   "outputs": [],
   "source": [
    "columns = [\n",
    "    \"id\",\n",
    "    \"obs_id\",\n",
    "    \"day_obs\",\n",
    "    \"seq_num\",\n",
    "    \"time_start\",\n",
    "    \"time_end\",\n",
    "    \"type\",\n",
    "    \"target\",\n",
    "    \"filter\",\n",
    "    \"zenith_angle\",\n",
    "    \"expos\",\n",
    "    \"ra\",\n",
    "    \"dec\",\n",
    "    \"skyangle\",\n",
    "    \"azimuth\",\n",
    "    \"zenith\",\n",
    "    \"science_program\",\n",
    "    \"jd\",\n",
    "    \"mjd\",\n",
    "]"
   ]
  },
  {
   "cell_type": "code",
   "execution_count": null,
   "id": "9a7e84e4-408f-4287-bddf-a366d0c0091c",
   "metadata": {
    "execution": {
     "iopub.execute_input": "2025-05-31T17:47:09.404737Z",
     "iopub.status.busy": "2025-05-31T17:47:09.404610Z",
     "iopub.status.idle": "2025-05-31T17:47:09.414166Z",
     "shell.execute_reply": "2025-05-31T17:47:09.413734Z",
     "shell.execute_reply.started": "2025-05-31T17:47:09.404724Z"
    }
   },
   "outputs": [],
   "source": [
    "df_exposure = pd.DataFrame(\n",
    "    {\n",
    "        \"id\": pd.Series(dtype=\"int\"),\n",
    "        \"obs_id\": pd.Series(dtype=\"int\"),\n",
    "        \"day_obs\": pd.Series(dtype=\"int\"),\n",
    "        \"seq_num\": pd.Series(dtype=\"int\"),\n",
    "        \"time_start\": pd.Series(dtype=\"str\"),  # ou 'datetime64[ns]' si c’est un datetime\n",
    "        \"time_end\": pd.Series(dtype=\"str\"),  # idem\n",
    "        \"type\": pd.Series(dtype=\"str\"),\n",
    "        \"target\": pd.Series(dtype=\"str\"),\n",
    "        \"filter\": pd.Series(dtype=\"str\"),\n",
    "        \"zenith_angle\": pd.Series(dtype=\"float\"),\n",
    "        \"expos\": pd.Series(dtype=\"float\"),  # ou 'int' selon le cas\n",
    "        \"ra\": pd.Series(dtype=\"float\"),\n",
    "        \"dec\": pd.Series(dtype=\"float\"),\n",
    "        \"skyangle\": pd.Series(dtype=\"float\"),\n",
    "        \"azimuth\": pd.Series(dtype=\"float\"),\n",
    "        \"zenith\": pd.Series(dtype=\"float\"),\n",
    "        \"science_program\": pd.Series(dtype=\"str\"),\n",
    "        \"jd\": pd.Series(dtype=\"float\"),\n",
    "        \"mjd\": pd.Series(dtype=\"float\"),\n",
    "    }\n",
    ")"
   ]
  },
  {
   "cell_type": "code",
   "execution_count": null,
   "id": "655e7d53-a2c3-40d7-9cb7-2cb451a6c4f4",
   "metadata": {
    "execution": {
     "iopub.execute_input": "2025-05-31T17:47:09.414775Z",
     "iopub.status.busy": "2025-05-31T17:47:09.414648Z",
     "iopub.status.idle": "2025-05-31T17:47:17.367922Z",
     "shell.execute_reply": "2025-05-31T17:47:17.367408Z",
     "shell.execute_reply.started": "2025-05-31T17:47:09.414763Z"
    }
   },
   "outputs": [],
   "source": [
    "# save the data array in rows before saving in pandas dataframe\n",
    "rows = []\n",
    "for count, info in enumerate(registry.queryDimensionRecords(\"exposure\", where=where_clause_date)):\n",
    "    try:\n",
    "        jd_start = info.timespan.begin.value\n",
    "        jd_end = info.timespan.end.value\n",
    "        the_Time_start = Time(jd_start, format=\"jd\", scale=\"utc\")\n",
    "        the_Time_end = Time(jd_end, format=\"jd\", scale=\"utc\")\n",
    "        mjd_start = the_Time_start.mjd\n",
    "        mjd_end = the_Time_end.mjd\n",
    "        isot_start = the_Time_start.isot\n",
    "        isot_end = the_Time_end.isot\n",
    "\n",
    "        if count == 0:\n",
    "            print(\"===== Time Conversion Debug Info =====\")\n",
    "            print(f\"JD start      : {jd_start} (type: {type(jd_start)})\")\n",
    "            print(f\"JD end        : {jd_end} (type: {type(jd_end)})\")\n",
    "            print(f\"MJD start     : {mjd_start} (type: {type(mjd_start)})\")\n",
    "            print(f\"MJD end       : {mjd_end} (type: {type(mjd_end)})\")\n",
    "            print(f\"ISOT start    : {isot_start} (type: {type(isot_start)})\")\n",
    "            print(f\"ISOT end      : {isot_end} (type: {type(isot_end)})\")\n",
    "            print(\"=======================================\")\n",
    "\n",
    "        # put row in a dictionnary before stacking\n",
    "        row = {\n",
    "            \"id\": info.id,\n",
    "            \"obs_id\": info.obs_id,\n",
    "            \"day_obs\": info.day_obs,\n",
    "            \"seq_num\": info.seq_num,\n",
    "            \"time_start\": isot_start,\n",
    "            \"time_end\": isot_end,\n",
    "            \"type\": info.observation_type,\n",
    "            \"target\": info.target_name,\n",
    "            \"filter\": info.physical_filter,\n",
    "            \"zenith_angle\": info.zenith_angle,\n",
    "            \"expos\": info.exposure_time,  # Exemple : adapter selon ton objet\n",
    "            \"ra\": info.tracking_ra,\n",
    "            \"dec\": info.tracking_dec,\n",
    "            \"skyangle\": info.sky_angle,\n",
    "            \"azimuth\": info.azimuth,\n",
    "            \"zenith\": info.zenith_angle,\n",
    "            \"science_program\": info.science_program,\n",
    "            \"jd\": float(jd_start),\n",
    "            \"mjd\": float(mjd_start),\n",
    "        }\n",
    "        rows.append(row)\n",
    "\n",
    "    except ValueError as e:\n",
    "        print(f\"Erreur de valeur : {e}\")\n",
    "    except FileNotFoundError as e:\n",
    "        print(f\"Fichier introuvable : {e}\")\n",
    "    except Exception as e:\n",
    "        print(f\"Erreur inattendue : {type(e).__name__} - {e}\")\n",
    "        print(f\">>>   Unexpected error at row {count}:\", sys.exc_info()[0])\n",
    "        traceback.print_exc()  # affiche la stack trace complète"
   ]
  },
  {
   "cell_type": "code",
   "execution_count": null,
   "id": "e8085e8c-c771-43f9-9e29-d42885493e88",
   "metadata": {
    "execution": {
     "iopub.execute_input": "2025-05-31T17:47:17.368775Z",
     "iopub.status.busy": "2025-05-31T17:47:17.368627Z",
     "iopub.status.idle": "2025-05-31T17:47:17.415458Z",
     "shell.execute_reply": "2025-05-31T17:47:17.414952Z",
     "shell.execute_reply.started": "2025-05-31T17:47:17.368760Z"
    }
   },
   "outputs": [],
   "source": [
    "# Création finale du DataFrame\n",
    "df_exposure = pd.DataFrame(rows)"
   ]
  },
  {
   "cell_type": "code",
   "execution_count": null,
   "id": "c9c0acb5-6827-411d-ae6f-e71fb7bd9974",
   "metadata": {
    "execution": {
     "iopub.execute_input": "2025-05-31T17:47:17.416200Z",
     "iopub.status.busy": "2025-05-31T17:47:17.416025Z",
     "iopub.status.idle": "2025-05-31T17:47:17.430536Z",
     "shell.execute_reply": "2025-05-31T17:47:17.430126Z",
     "shell.execute_reply.started": "2025-05-31T17:47:17.416185Z"
    }
   },
   "outputs": [],
   "source": [
    "df_exposure"
   ]
  },
  {
   "cell_type": "code",
   "execution_count": null,
   "id": "55855b74-0407-41b7-a4c2-623d6c4898ed",
   "metadata": {
    "execution": {
     "iopub.execute_input": "2025-05-31T17:47:17.431257Z",
     "iopub.status.busy": "2025-05-31T17:47:17.430987Z",
     "iopub.status.idle": "2025-05-31T17:47:17.433395Z",
     "shell.execute_reply": "2025-05-31T17:47:17.432986Z",
     "shell.execute_reply.started": "2025-05-31T17:47:17.431232Z"
    }
   },
   "outputs": [],
   "source": [
    "# df_exposure = df_exposure.astype({\"id\": int,'day_obs': int,'seq_num':int})"
   ]
  },
  {
   "cell_type": "markdown",
   "id": "57fbfb69-c000-4264-87d5-ea498c5d8150",
   "metadata": {},
   "source": [
    "## Select science exposures"
   ]
  },
  {
   "cell_type": "code",
   "execution_count": null,
   "id": "bf35edd5-74e0-40c1-a641-69b85dd843f1",
   "metadata": {
    "execution": {
     "iopub.execute_input": "2025-05-31T17:47:17.434090Z",
     "iopub.status.busy": "2025-05-31T17:47:17.433845Z",
     "iopub.status.idle": "2025-05-31T17:47:17.441459Z",
     "shell.execute_reply": "2025-05-31T17:47:17.441090Z",
     "shell.execute_reply.started": "2025-05-31T17:47:17.434074Z"
    }
   },
   "outputs": [],
   "source": [
    "df_science = df_exposure[df_exposure.type == \"science\"]\n",
    "df_science.reset_index(drop=True, inplace=True)"
   ]
  },
  {
   "cell_type": "markdown",
   "id": "116e56be-d4de-49fe-93d4-133cf21d1b06",
   "metadata": {},
   "source": [
    "## Add Tract-Patches"
   ]
  },
  {
   "cell_type": "code",
   "execution_count": null,
   "id": "9097e89e-b006-40fa-866a-deca00ed57f1",
   "metadata": {
    "execution": {
     "iopub.execute_input": "2025-05-31T17:47:17.442161Z",
     "iopub.status.busy": "2025-05-31T17:47:17.441888Z",
     "iopub.status.idle": "2025-05-31T17:47:17.448331Z",
     "shell.execute_reply": "2025-05-31T17:47:17.447943Z",
     "shell.execute_reply.started": "2025-05-31T17:47:17.442134Z"
    }
   },
   "outputs": [],
   "source": [
    "df=df_science.copy()\n",
    "df[\"band\"] = df[\"filter\"].apply(lambda x : x.split(\"_\")[0])"
   ]
  },
  {
   "cell_type": "code",
   "execution_count": null,
   "id": "f9b2b2c4-d0ca-4ba9-af11-9146d1145065",
   "metadata": {
    "execution": {
     "iopub.execute_input": "2025-05-31T17:47:17.448877Z",
     "iopub.status.busy": "2025-05-31T17:47:17.448748Z",
     "iopub.status.idle": "2025-05-31T17:47:17.455131Z",
     "shell.execute_reply": "2025-05-31T17:47:17.454507Z",
     "shell.execute_reply.started": "2025-05-31T17:47:17.448864Z"
    }
   },
   "outputs": [],
   "source": [
    "#df_with_tract_patch = add_tract_patch(df, butler)"
   ]
  },
  {
   "cell_type": "code",
   "execution_count": null,
   "id": "9c502d20-2a4f-4997-b8f2-962e441d6cb7",
   "metadata": {
    "execution": {
     "iopub.execute_input": "2025-05-31T17:47:17.455929Z",
     "iopub.status.busy": "2025-05-31T17:47:17.455742Z",
     "iopub.status.idle": "2025-05-31T17:47:17.463717Z",
     "shell.execute_reply": "2025-05-31T17:47:17.463289Z",
     "shell.execute_reply.started": "2025-05-31T17:47:17.455907Z"
    }
   },
   "outputs": [],
   "source": [
    "def get_tract_patch(row, skymap):\n",
    "    if pd.isna(row['ra']) or pd.isna(row['dec']):\n",
    "        return pd.Series({\"tract\": None, \"patch\": None})\n",
    "    \n",
    "    target_point = SpherePoint(row['ra'], row['dec'], degrees)\n",
    "\n",
    "    tract_info = skymap.findTract(target_point)\n",
    "    patch_info = tract_info.findPatch(target_point)\n",
    "    tractNbSel = tract_info.getId()\n",
    "    patchNbSel =  patch_info.getSequentialIndex()\n",
    "    patch_index_str = f\"{patch_info.getIndex()[0]},{patch_info.getIndex()[1]}\"\n",
    "   \n",
    "    \n",
    "    return pd.Series({\"tract\":   tractNbSel, \"patch\":  patchNbSel, \"patch_str\": patch_index_str})\n"
   ]
  },
  {
   "cell_type": "code",
   "execution_count": null,
   "id": "033b645b-ef29-4f3a-b0f0-6d906ee8970c",
   "metadata": {
    "execution": {
     "iopub.execute_input": "2025-05-31T17:47:17.464333Z",
     "iopub.status.busy": "2025-05-31T17:47:17.464204Z",
     "iopub.status.idle": "2025-05-31T17:47:17.996860Z",
     "shell.execute_reply": "2025-05-31T17:47:17.996395Z",
     "shell.execute_reply.started": "2025-05-31T17:47:17.464319Z"
    }
   },
   "outputs": [],
   "source": [
    "df = df.copy()\n",
    "df[['tract', 'patch', \"patch_str\"]] = df.apply(get_tract_patch, axis=1, args=(skymap,))"
   ]
  },
  {
   "cell_type": "code",
   "execution_count": null,
   "id": "05048d62-0fd8-4fa1-bd00-4b195e9e09bc",
   "metadata": {
    "execution": {
     "iopub.execute_input": "2025-05-31T17:47:17.997558Z",
     "iopub.status.busy": "2025-05-31T17:47:17.997414Z",
     "iopub.status.idle": "2025-05-31T17:47:18.015494Z",
     "shell.execute_reply": "2025-05-31T17:47:18.014946Z",
     "shell.execute_reply.started": "2025-05-31T17:47:17.997543Z"
    }
   },
   "outputs": [],
   "source": [
    "df"
   ]
  },
  {
   "cell_type": "markdown",
   "id": "e56c4145-85aa-4b7a-ab3f-f91f37ddcbe8",
   "metadata": {},
   "source": [
    "## Plots histograms with the number of visits and time sequences"
   ]
  },
  {
   "cell_type": "code",
   "execution_count": null,
   "id": "8ad23435-5269-4a93-b117-96332bdbca34",
   "metadata": {
    "execution": {
     "iopub.execute_input": "2025-05-31T17:47:18.016151Z",
     "iopub.status.busy": "2025-05-31T17:47:18.016006Z",
     "iopub.status.idle": "2025-05-31T17:47:18.021321Z",
     "shell.execute_reply": "2025-05-31T17:47:18.020856Z",
     "shell.execute_reply.started": "2025-05-31T17:47:18.016135Z"
    }
   },
   "outputs": [],
   "source": [
    "# Forcer l'ordre des bandes\n",
    "band_order = ['u', 'g', 'r', 'i', 'z', 'y']\n",
    "color_map = {\n",
    "    'u': 'blue',\n",
    "    'g': 'green',\n",
    "    'r': 'red',\n",
    "    'i': 'orange',\n",
    "    'z': 'gray',\n",
    "    'y': 'black'\n",
    "}\n",
    "\n",
    "# Grouper et compter\n",
    "grouped = df.groupby(['tract', 'patch', 'band']).size().reset_index(name='count')"
   ]
  },
  {
   "cell_type": "code",
   "execution_count": null,
   "id": "0aa77260-4e8c-4f9e-927e-67f5a6777a87",
   "metadata": {
    "execution": {
     "iopub.execute_input": "2025-05-31T17:47:18.022100Z",
     "iopub.status.busy": "2025-05-31T17:47:18.021829Z",
     "iopub.status.idle": "2025-05-31T17:47:18.026751Z",
     "shell.execute_reply": "2025-05-31T17:47:18.026327Z",
     "shell.execute_reply.started": "2025-05-31T17:47:18.022085Z"
    }
   },
   "outputs": [],
   "source": [
    "#grouped['tract_patch'] = grouped['tract'].astype(str) + '_' + grouped['patch_str']\n",
    "grouped['tract_patch'] = grouped['tract'].astype(str) + '_' + grouped['patch'].astype(str)"
   ]
  },
  {
   "cell_type": "code",
   "execution_count": null,
   "id": "583f9bcc-1e7c-4668-8d56-773cb7379969",
   "metadata": {
    "execution": {
     "iopub.execute_input": "2025-05-31T17:47:18.027492Z",
     "iopub.status.busy": "2025-05-31T17:47:18.027238Z",
     "iopub.status.idle": "2025-05-31T17:47:19.775787Z",
     "shell.execute_reply": "2025-05-31T17:47:19.775335Z",
     "shell.execute_reply.started": "2025-05-31T17:47:18.027478Z"
    }
   },
   "outputs": [],
   "source": [
    "plt.figure(figsize=(18, 6))\n",
    "sns.barplot(\n",
    "    data=grouped,\n",
    "    x='tract_patch',\n",
    "    y='count',\n",
    "    hue='band',\n",
    "    hue_order=band_order,\n",
    "    palette=color_map\n",
    ")\n",
    "\n",
    "plt.xlabel(\"Tract_Patch\")\n",
    "plt.ylabel(\"Number of visits per bands\")\n",
    "plt.title(\"Number of visits per bands in each (tract, patch)\")\n",
    "plt.xticks(rotation=45, ha='right')\n",
    "plt.legend(title=\"Band\")\n",
    "plt.tight_layout()\n",
    "plt.show()"
   ]
  },
  {
   "cell_type": "code",
   "execution_count": null,
   "id": "99889351-fb49-4189-bb4c-96d1ea2a67c2",
   "metadata": {
    "execution": {
     "iopub.execute_input": "2025-05-31T17:47:19.776486Z",
     "iopub.status.busy": "2025-05-31T17:47:19.776336Z",
     "iopub.status.idle": "2025-05-31T17:47:21.435992Z",
     "shell.execute_reply": "2025-05-31T17:47:21.435557Z",
     "shell.execute_reply.started": "2025-05-31T17:47:19.776470Z"
    }
   },
   "outputs": [],
   "source": [
    "plt.figure(figsize=(10, max(6, len(grouped['tract_patch'].unique()) * 0.8)))  # Adapter la hauteur\n",
    "\n",
    "sns.barplot(\n",
    "    data=grouped,\n",
    "    y='tract_patch',  # axe Y = les (tract, patch)\n",
    "    x='count',        # axe X = nombre de visites\n",
    "    hue='band',\n",
    "    hue_order=band_order,\n",
    "    palette=color_map\n",
    ")\n",
    "\n",
    "plt.ylabel(\"Tract_Patch\")\n",
    "plt.xlabel(\"Number of visits per bands\")\n",
    "plt.title(\"Number of visits per bands in field of view (tract, patch)\")\n",
    "plt.legend(title=\"Band\", bbox_to_anchor=(1.05, 1), loc='upper left')\n",
    "plt.grid()\n",
    "plt.tight_layout()\n",
    "plt.show()\n"
   ]
  },
  {
   "cell_type": "markdown",
   "id": "ac652254-f57b-4b6b-9402-8d54e9bc745c",
   "metadata": {},
   "source": [
    "## Which (tract,patch) has the maximum number of visits in y band"
   ]
  },
  {
   "cell_type": "code",
   "execution_count": null,
   "id": "bcc89941-e3ea-4f02-a250-0d3c6c3b6221",
   "metadata": {
    "execution": {
     "iopub.execute_input": "2025-05-31T17:47:21.436685Z",
     "iopub.status.busy": "2025-05-31T17:47:21.436541Z",
     "iopub.status.idle": "2025-05-31T17:47:21.443000Z",
     "shell.execute_reply": "2025-05-31T17:47:21.442630Z",
     "shell.execute_reply.started": "2025-05-31T17:47:21.436671Z"
    }
   },
   "outputs": [],
   "source": [
    "grouped"
   ]
  },
  {
   "cell_type": "code",
   "execution_count": null,
   "id": "a2eb34b8-a352-4b2b-a6dd-bed2d6fa4c10",
   "metadata": {
    "execution": {
     "iopub.execute_input": "2025-05-31T17:47:21.443652Z",
     "iopub.status.busy": "2025-05-31T17:47:21.443496Z",
     "iopub.status.idle": "2025-05-31T17:47:21.452544Z",
     "shell.execute_reply": "2025-05-31T17:47:21.452171Z",
     "shell.execute_reply.started": "2025-05-31T17:47:21.443633Z"
    }
   },
   "outputs": [],
   "source": [
    "# Filtrer la bande 'y'\n",
    "df_y = df[df['band'] == 'y']\n",
    "\n",
    "# Grouper par tract et patch\n",
    "grouped_y = df_y.groupby(['tract', 'patch']).size().reset_index(name='count')\n",
    "\n",
    "# Trouver le max\n",
    "max_row = grouped_y.loc[grouped_y['count'].idxmax()]\n",
    "\n",
    "\n",
    "tractNbSel = max_row['tract']\n",
    "patchNbSel = max_row['patch']\n"
   ]
  },
  {
   "cell_type": "code",
   "execution_count": null,
   "id": "0effed76-9741-4975-bc99-a0d09736ca22",
   "metadata": {
    "execution": {
     "iopub.execute_input": "2025-05-31T17:47:21.453286Z",
     "iopub.status.busy": "2025-05-31T17:47:21.453025Z",
     "iopub.status.idle": "2025-05-31T17:47:21.457588Z",
     "shell.execute_reply": "2025-05-31T17:47:21.457218Z",
     "shell.execute_reply.started": "2025-05-31T17:47:21.453271Z"
    }
   },
   "outputs": [],
   "source": [
    "print(f\"Tract: {tractNbSel}, Patch: {patchNbSel}, Number of Visits in y band: {max_row['count']}\")"
   ]
  },
  {
   "cell_type": "markdown",
   "id": "ada9bd0e-951c-4cb9-a7d1-ee717d4a337f",
   "metadata": {},
   "source": [
    "## Time sequences of arrival time in selected tract-patch"
   ]
  },
  {
   "cell_type": "code",
   "execution_count": null,
   "id": "0920fec5-c7bd-4519-8d0c-5f6adc481b2d",
   "metadata": {
    "execution": {
     "iopub.execute_input": "2025-05-31T17:47:21.458165Z",
     "iopub.status.busy": "2025-05-31T17:47:21.458026Z",
     "iopub.status.idle": "2025-05-31T17:47:21.464744Z",
     "shell.execute_reply": "2025-05-31T17:47:21.464365Z",
     "shell.execute_reply.started": "2025-05-31T17:47:21.458152Z"
    }
   },
   "outputs": [],
   "source": [
    "df_sel = df[(df['tract'] == tractNbSel) & (df['patch'] == patchNbSel)]"
   ]
  },
  {
   "cell_type": "code",
   "execution_count": null,
   "id": "42bc629e-b463-49cf-9446-e1dfee2e8b8c",
   "metadata": {
    "execution": {
     "iopub.execute_input": "2025-05-31T17:47:21.465356Z",
     "iopub.status.busy": "2025-05-31T17:47:21.465222Z",
     "iopub.status.idle": "2025-05-31T17:47:21.636196Z",
     "shell.execute_reply": "2025-05-31T17:47:21.635758Z",
     "shell.execute_reply.started": "2025-05-31T17:47:21.465343Z"
    }
   },
   "outputs": [],
   "source": [
    "plt.figure(figsize=(16, 8))\n",
    "\n",
    "sns.stripplot(\n",
    "    data=df_sel,\n",
    "    x='mjd',\n",
    "    y='band',\n",
    "    hue='band',  # <- correction\n",
    "    order=band_order,\n",
    "    palette=color_map,\n",
    "    size=10,\n",
    "    alpha=0.7,\n",
    "    dodge=False,\n",
    "    legend=False  # <- évite de doubler les légendes\n",
    ")\n",
    "\n",
    "plt.xlabel(\"MJD\")\n",
    "plt.ylabel(\"Band\")\n",
    "plt.title(f\"Sequence of visits in tract={tractNbSel}, patch={patchNbSel}\")\n",
    "plt.grid(True, linestyle='--', alpha=0.5)\n",
    "plt.tight_layout()\n",
    "plt.show()\n"
   ]
  },
  {
   "cell_type": "markdown",
   "id": "7d496496-97c5-4829-bf7e-8b7c7a91a872",
   "metadata": {},
   "source": [
    "## Retrieve all Coadds"
   ]
  },
  {
   "cell_type": "code",
   "execution_count": null,
   "id": "fd64015e-972a-40c6-8941-54fb384f321e",
   "metadata": {
    "execution": {
     "iopub.execute_input": "2025-05-31T17:47:21.640982Z",
     "iopub.status.busy": "2025-05-31T17:47:21.640528Z",
     "iopub.status.idle": "2025-05-31T17:47:21.643399Z",
     "shell.execute_reply": "2025-05-31T17:47:21.643010Z",
     "shell.execute_reply.started": "2025-05-31T17:47:21.640965Z"
    }
   },
   "outputs": [],
   "source": [
    "all_dataIds = [\n",
    "    {\n",
    "        \"band\": band,\n",
    "        \"tract\": tractNbSel,\n",
    "        \"patch\": patchNbSel,\n",
    "        \"skymap\": skymapName,\n",
    "    }\n",
    "    for band in all_bands\n",
    "]"
   ]
  },
  {
   "cell_type": "code",
   "execution_count": null,
   "id": "4394696b-fa74-4058-ad45-fc3165a926a5",
   "metadata": {
    "execution": {
     "iopub.execute_input": "2025-05-31T17:47:21.644182Z",
     "iopub.status.busy": "2025-05-31T17:47:21.643881Z",
     "iopub.status.idle": "2025-05-31T17:47:34.954034Z",
     "shell.execute_reply": "2025-05-31T17:47:34.953495Z",
     "shell.execute_reply.started": "2025-05-31T17:47:21.644166Z"
    }
   },
   "outputs": [],
   "source": [
    "all_deepCoadds = []\n",
    "all_deepCoadds_wcs = []\n",
    "all_titles = []\n",
    "for idx, band in enumerate(all_bands):\n",
    "    the_band = band\n",
    "    the_dataId = all_dataIds[idx]\n",
    "    the_title = f\"({tractNbSel},{patchNbSel}) \" + f\" band {the_band}\"\n",
    "    try:\n",
    "        coadd_exp = butler.get(\"deepCoadd_calexp\", the_dataId)\n",
    "        wcs = coadd_exp.getWcs()\n",
    "        psf = coadd_exp.getPsf()\n",
    "        all_deepCoadds.append(coadd_exp)\n",
    "        all_deepCoadds_wcs.append(wcs)\n",
    "        all_titles.append(the_title)\n",
    "\n",
    "    except Exception as inst:\n",
    "        print(f\"{key} :: catch Exception for band {band}\")\n",
    "        print(type(inst))  # the exception type\n",
    "        print(inst.args)  # arguments stored in .args\n",
    "        print(inst)  # __str_"
   ]
  },
  {
   "cell_type": "markdown",
   "id": "d81ce28b-c01f-4844-a37a-417359063782",
   "metadata": {},
   "source": [
    "## Plot all Deep Coadds with Firefly"
   ]
  },
  {
   "cell_type": "code",
   "execution_count": null,
   "id": "c3f1d36b-ac9b-46d2-b031-d0fb6d733f40",
   "metadata": {
    "execution": {
     "iopub.execute_input": "2025-05-31T17:47:34.958072Z",
     "iopub.status.busy": "2025-05-31T17:47:34.957434Z",
     "iopub.status.idle": "2025-05-31T17:47:34.962431Z",
     "shell.execute_reply": "2025-05-31T17:47:34.961712Z",
     "shell.execute_reply.started": "2025-05-31T17:47:34.958054Z"
    }
   },
   "outputs": [],
   "source": [
    "if 0:\n",
    "    afwDisplay.setDefaultBackend(\"firefly\")\n",
    "    N = len(all_deepCoadds)\n",
    "    for count in range(N):\n",
    "        band = all_bands[count]\n",
    "        display = afwDisplay.Display(frame=count + 1)\n",
    "        # cannot succeed to show white stars on dark sky\n",
    "        display.setImageColormap(\"gray\")\n",
    "        display.scale(\"asinh\", \"zscale\")\n",
    "        display.mtv(all_deepCoadds[count].image, title=all_titles[count])"
   ]
  },
  {
   "cell_type": "markdown",
   "id": "1bd2a7ee-8e29-47ef-acda-e95a24459777",
   "metadata": {},
   "source": [
    "### Clean"
   ]
  },
  {
   "cell_type": "code",
   "execution_count": null,
   "id": "4fb20acd-f6ad-46a3-b70c-7265222ffeb5",
   "metadata": {
    "execution": {
     "iopub.execute_input": "2025-05-31T17:47:34.967088Z",
     "iopub.status.busy": "2025-05-31T17:47:34.966322Z",
     "iopub.status.idle": "2025-05-31T17:47:34.971409Z",
     "shell.execute_reply": "2025-05-31T17:47:34.970850Z",
     "shell.execute_reply.started": "2025-05-31T17:47:34.967057Z"
    }
   },
   "outputs": [],
   "source": [
    "# display.clearViewer()"
   ]
  },
  {
   "cell_type": "markdown",
   "id": "e4a6de19-0edf-48da-b21f-cb4862152466",
   "metadata": {},
   "source": [
    "## Selecting objects for Light Curves"
   ]
  },
  {
   "cell_type": "markdown",
   "id": "a30c843c-9e54-451f-8649-8204a685179c",
   "metadata": {},
   "source": []
  },
  {
   "cell_type": "code",
   "execution_count": null,
   "id": "88bf32ce-e874-427f-af5a-becd9a437d01",
   "metadata": {
    "execution": {
     "iopub.execute_input": "2025-05-31T17:47:34.972308Z",
     "iopub.status.busy": "2025-05-31T17:47:34.972081Z",
     "iopub.status.idle": "2025-05-31T17:47:34.978770Z",
     "shell.execute_reply": "2025-05-31T17:47:34.978380Z",
     "shell.execute_reply.started": "2025-05-31T17:47:34.972283Z"
    }
   },
   "outputs": [],
   "source": [
    "FLAG_DUMP_COLLECTIONS = False\n",
    "FLAG_DUMP_DATASETS = False\n",
    "FLAG_DUMP_OBJECTSTABLECOLUMNS = False\n",
    "FLAG_CUT_OBJECTSMAG = True\n",
    "FLAG_CUT_OBJECTSSNR = True"
   ]
  },
  {
   "cell_type": "code",
   "execution_count": null,
   "id": "0a17895b-9392-4e68-89aa-11ba14326d27",
   "metadata": {
    "execution": {
     "iopub.execute_input": "2025-05-31T17:47:34.979374Z",
     "iopub.status.busy": "2025-05-31T17:47:34.979236Z",
     "iopub.status.idle": "2025-05-31T17:47:34.985774Z",
     "shell.execute_reply": "2025-05-31T17:47:34.985183Z",
     "shell.execute_reply.started": "2025-05-31T17:47:34.979360Z"
    }
   },
   "outputs": [],
   "source": [
    "# Check here the collections available\n",
    "if FLAG_DUMP_COLLECTIONS:\n",
    "    for _ in sorted(registry.queryCollections(expression=instrument + \"/*\")):\n",
    "        if \"/calib/\" not in _ and \"u/\" not in _:\n",
    "            print(_)"
   ]
  },
  {
   "cell_type": "code",
   "execution_count": null,
   "id": "bb60b46e-23d5-4a51-83da-608a41bb7721",
   "metadata": {
    "execution": {
     "iopub.execute_input": "2025-05-31T17:47:34.986598Z",
     "iopub.status.busy": "2025-05-31T17:47:34.986413Z",
     "iopub.status.idle": "2025-05-31T17:47:34.994391Z",
     "shell.execute_reply": "2025-05-31T17:47:34.994004Z",
     "shell.execute_reply.started": "2025-05-31T17:47:34.986571Z"
    }
   },
   "outputs": [],
   "source": [
    "if FLAG_DUMP_DATASETS:\n",
    "    for datasetType in registry.queryDatasetTypes():\n",
    "        if registry.queryDatasets(datasetType, collections=collection_validation).any(\n",
    "            execute=False, exact=False\n",
    "        ):\n",
    "            # Limit search results to the data products\n",
    "            if (\n",
    "                (\"_config\" not in datasetType.name)\n",
    "                and (\"_log\" not in datasetType.name)\n",
    "                and (\"_metadata\" not in datasetType.name)\n",
    "                and (\"_resource_usage\" not in datasetType.name)\n",
    "                and (\"Plot\" not in datasetType.name)\n",
    "                and (\"Metric\" not in datasetType.name)\n",
    "                and (\"metric\" not in datasetType.name)\n",
    "                and ((\"Table\" in datasetType.name) or (\"Zeropointp\" in datasetType.name) or (\"fgcm\" in datasetType.name) or (\"transm\" in datasetType.name) or (\"Transm\" in datasetType.name)\n",
    "                or (\"source\" in datasetType.name) or (\"Source\" in datasetType.name) or (\"object\" in datasetType.name) or (\"Object\" in datasetType.name))\n",
    "            ):\n",
    "                \n",
    "                print(datasetType)"
   ]
  },
  {
   "cell_type": "code",
   "execution_count": null,
   "id": "e9ec10fd-9a65-48dc-89c0-91d82c5ceaff",
   "metadata": {
    "execution": {
     "iopub.execute_input": "2025-05-31T17:47:34.994950Z",
     "iopub.status.busy": "2025-05-31T17:47:34.994821Z",
     "iopub.status.idle": "2025-05-31T17:47:35.000262Z",
     "shell.execute_reply": "2025-05-31T17:47:34.999903Z",
     "shell.execute_reply.started": "2025-05-31T17:47:34.994937Z"
    }
   },
   "outputs": [],
   "source": [
    "BANDSEL = \"g\""
   ]
  },
  {
   "cell_type": "code",
   "execution_count": null,
   "id": "70fb58be-e654-42b8-be1a-a578075909fd",
   "metadata": {
    "execution": {
     "iopub.execute_input": "2025-05-31T17:47:35.000934Z",
     "iopub.status.busy": "2025-05-31T17:47:35.000683Z",
     "iopub.status.idle": "2025-05-31T17:47:35.008116Z",
     "shell.execute_reply": "2025-05-31T17:47:35.007757Z",
     "shell.execute_reply.started": "2025-05-31T17:47:35.000920Z"
    }
   },
   "outputs": [],
   "source": [
    "tract_info = skymap[tractNbSel]\n",
    "patch_info = tract_info.getPatchInfo(patchNbSel)"
   ]
  },
  {
   "cell_type": "code",
   "execution_count": null,
   "id": "225cd1f5-18cb-4081-b18f-f288e23a247a",
   "metadata": {
    "execution": {
     "iopub.execute_input": "2025-05-31T17:47:35.008791Z",
     "iopub.status.busy": "2025-05-31T17:47:35.008544Z",
     "iopub.status.idle": "2025-05-31T17:47:35.016942Z",
     "shell.execute_reply": "2025-05-31T17:47:35.016274Z",
     "shell.execute_reply.started": "2025-05-31T17:47:35.008776Z"
    }
   },
   "outputs": [],
   "source": [
    "# Centre du patch en pixels dans le système de coordonnées du tract\n",
    "center_pix = patch_info.getOuterBBox().getCenter()\n",
    "# Transformation en coordonnées célestes (RA/Dec)\n",
    "center_coord = tract_info.getWcs().pixelToSky(center_pix)\n",
    "# Extraire RA et Dec (en degrés)\n",
    "ra = center_coord.getRa().asDegrees()\n",
    "dec = center_coord.getDec().asDegrees()\n",
    "print(f\"Patch {patchNbSel} in Tract {tractNbSel} : center RA: {ra:.6f}, Dec: {dec:.6f}\")"
   ]
  },
  {
   "cell_type": "code",
   "execution_count": null,
   "id": "9d5d266d-52b2-408a-9480-d440dfaed151",
   "metadata": {
    "execution": {
     "iopub.execute_input": "2025-05-31T17:47:35.017859Z",
     "iopub.status.busy": "2025-05-31T17:47:35.017648Z",
     "iopub.status.idle": "2025-05-31T17:47:35.027505Z",
     "shell.execute_reply": "2025-05-31T17:47:35.027132Z",
     "shell.execute_reply.started": "2025-05-31T17:47:35.017834Z"
    }
   },
   "outputs": [],
   "source": [
    "df_sel[[\"id\",\"band\"]]"
   ]
  },
  {
   "cell_type": "code",
   "execution_count": null,
   "id": "da1b4b1f-62ec-4266-87dc-c9d1bda2c0ee",
   "metadata": {
    "execution": {
     "iopub.execute_input": "2025-05-31T17:47:35.028282Z",
     "iopub.status.busy": "2025-05-31T17:47:35.028139Z",
     "iopub.status.idle": "2025-05-31T17:47:35.034011Z",
     "shell.execute_reply": "2025-05-31T17:47:35.033541Z",
     "shell.execute_reply.started": "2025-05-31T17:47:35.028267Z"
    }
   },
   "outputs": [],
   "source": [
    "df_bandsel = df_sel[df_sel.band == BANDSEL]"
   ]
  },
  {
   "cell_type": "code",
   "execution_count": null,
   "id": "60067de1-d76b-487c-9130-b9110dceead1",
   "metadata": {
    "execution": {
     "iopub.execute_input": "2025-05-31T17:47:35.034715Z",
     "iopub.status.busy": "2025-05-31T17:47:35.034561Z",
     "iopub.status.idle": "2025-05-31T17:47:35.052045Z",
     "shell.execute_reply": "2025-05-31T17:47:35.051606Z",
     "shell.execute_reply.started": "2025-05-31T17:47:35.034699Z"
    }
   },
   "outputs": [],
   "source": [
    "df_bandsel"
   ]
  },
  {
   "cell_type": "code",
   "execution_count": null,
   "id": "82941864-d310-46f4-aac6-71bcb759c8b7",
   "metadata": {
    "execution": {
     "iopub.execute_input": "2025-05-31T17:47:35.052683Z",
     "iopub.status.busy": "2025-05-31T17:47:35.052544Z",
     "iopub.status.idle": "2025-05-31T17:47:35.056634Z",
     "shell.execute_reply": "2025-05-31T17:47:35.056255Z",
     "shell.execute_reply.started": "2025-05-31T17:47:35.052668Z"
    }
   },
   "outputs": [],
   "source": [
    "tuple_of_visits = tuple(df_bandsel.id)\n",
    "tuple_of_visits "
   ]
  },
  {
   "cell_type": "markdown",
   "id": "14a498ad-1472-4aa7-b104-3a5e002d26cc",
   "metadata": {},
   "source": [
    "## Search in Objects"
   ]
  },
  {
   "cell_type": "markdown",
   "id": "9ec45ac9-faaa-4f55-bfc4-996139d85148",
   "metadata": {},
   "source": [
    "### Access to objectTable\n",
    "    DatasetType('objectTable', {skymap, tract, patch}, DataFrame"
   ]
  },
  {
   "cell_type": "code",
   "execution_count": null,
   "id": "11256a11-8942-43dd-9755-2c638157168f",
   "metadata": {
    "execution": {
     "iopub.execute_input": "2025-05-31T17:47:35.057306Z",
     "iopub.status.busy": "2025-05-31T17:47:35.057163Z",
     "iopub.status.idle": "2025-05-31T17:47:35.062963Z",
     "shell.execute_reply": "2025-05-31T17:47:35.062510Z",
     "shell.execute_reply.started": "2025-05-31T17:47:35.057291Z"
    }
   },
   "outputs": [],
   "source": [
    "datasettype = 'objectTable'\n",
    "where_clause_objects = f\"skymap = '{skymapName}' AND tract = {tractNbSel} AND patch = {patchNbSel}\"\n",
    "ra_columns = ['u_ra', 'g_ra', 'r_ra', 'i_ra', 'z_ra', 'y_ra']\n",
    "dec_columns = ['u_dec', 'g_dec', 'r_dec', 'i_dec', 'z_dec', 'y_dec']"
   ]
  },
  {
   "cell_type": "code",
   "execution_count": null,
   "id": "5760d4f5-aa14-4c95-aea2-76bbf99172bb",
   "metadata": {
    "execution": {
     "iopub.execute_input": "2025-05-31T17:47:35.063747Z",
     "iopub.status.busy": "2025-05-31T17:47:35.063605Z",
     "iopub.status.idle": "2025-05-31T17:47:35.179638Z",
     "shell.execute_reply": "2025-05-31T17:47:35.179137Z",
     "shell.execute_reply.started": "2025-05-31T17:47:35.063732Z"
    }
   },
   "outputs": [],
   "source": [
    "therefs = butler.registry.queryDatasets(\n",
    "    datasettype,\n",
    "    where=where_clause_objects,\n",
    "    collections = collection_validation,\n",
    ")\n",
    "\n",
    "listref = list(therefs)\n",
    "nref = len(listref)\n",
    "print(f\"nref = {nref}\")"
   ]
  },
  {
   "cell_type": "code",
   "execution_count": null,
   "id": "2844fa63-2fad-4ee8-9a5f-ad1100df690e",
   "metadata": {
    "execution": {
     "iopub.execute_input": "2025-05-31T17:47:35.180380Z",
     "iopub.status.busy": "2025-05-31T17:47:35.180227Z",
     "iopub.status.idle": "2025-05-31T17:47:36.506086Z",
     "shell.execute_reply": "2025-05-31T17:47:36.505612Z",
     "shell.execute_reply.started": "2025-05-31T17:47:35.180363Z"
    }
   },
   "outputs": [],
   "source": [
    "for count,ref in enumerate(therefs):\n",
    "    the_id = ref.dataId\n",
    "    the_tract_id = the_id[\"tract\"] \n",
    "    print(the_id)\n",
    "        \n",
    "    # catalog of rubin objects (a pandas Dataframe) inside the tract\n",
    "    catalog = butler.get(ref)\n",
    "    catalog = catalog[catalog[\"patch\"] == patchNbSel] \n",
    "       \n",
    "    \n",
    "    nobjects = len(catalog)\n",
    "\n",
    "\n",
    "    # Calcul de la moyenne ligne par ligne, en ignorant les NaN\n",
    "    catalog['ra'] = catalog[ra_columns].mean(axis=1, skipna=True)\n",
    "    catalog['dec'] = catalog[dec_columns].mean(axis=1, skipna=True)\n",
    "\n",
    "    # compute magnitude AB\n",
    "    for ib,band in enumerate(all_bands):\n",
    "        id_name = \"objectId\"\n",
    "        id_parentname = \"parentObjectId\"\n",
    "        x_name = f\"{band}_centroid_x\"\n",
    "        y_name = f\"{band}_centroid_y\"\n",
    "        coord_ra_name = \"coord_ra\"\n",
    "        coord_dec_name = \"coord_dec\"\n",
    "        ra_name = f\"{band}_ra\"\n",
    "        dec_name = f\"{band}_dec\"\n",
    "        decl_name = f\"{band}_decl\"\n",
    "        raerr_name = f\"{band}_raErr\"\n",
    "        decerr_name = f\"{band}_decErr\"\n",
    "        extendedness_name = f\"{band}_extendedness\"\n",
    "        blendness_name = f\"{band}_blendedness\"\n",
    "        psfflux_name = f\"{band}_psfFlux\"\n",
    "        psffluxerr_name = f\"{band}_psfFluxErr\"\n",
    "        psfmag_name = f\"{band}_psfMag\"\n",
    "        psfmagerr_name = f\"{band}_psfMagErr\"\n",
    "        psfflux_free_name = f\"{band}_free_psfFlux\"\n",
    "        if band == BANDSEL:\n",
    "            psfmag_name_keep =  psfmag_name \n",
    "            psfmagerr_name_keep = psfmagerr_name \n",
    "            color_keep = all_bands_colors[ib]\n",
    "            extendedness_name_keep = extendedness_name\n",
    "            blendness_name_keep = blendness_name\n",
    "            \n",
    "        catalog[psfmag_name] = catalog[psfflux_name].apply(nJy_to_ab_mag)\n",
    "        catalog[psfmagerr_name] = nJy_err_to_ab_err(catalog[psfflux_name], catalog[psffluxerr_name])"
   ]
  },
  {
   "cell_type": "code",
   "execution_count": null,
   "id": "bfe5ff94-6c89-4fa8-a1f6-67ae073cf71e",
   "metadata": {
    "execution": {
     "iopub.execute_input": "2025-05-31T17:47:36.506719Z",
     "iopub.status.busy": "2025-05-31T17:47:36.506583Z",
     "iopub.status.idle": "2025-05-31T17:47:36.553527Z",
     "shell.execute_reply": "2025-05-31T17:47:36.553057Z",
     "shell.execute_reply.started": "2025-05-31T17:47:36.506704Z"
    }
   },
   "outputs": [],
   "source": [
    "catalog.dropna(subset=[psfmag_name_keep,psfmagerr_name_keep], inplace=True)\n",
    "catalog"
   ]
  },
  {
   "cell_type": "code",
   "execution_count": null,
   "id": "276544b8-3363-4017-9ecf-aacd894bc3e9",
   "metadata": {
    "execution": {
     "iopub.execute_input": "2025-05-31T17:47:36.554189Z",
     "iopub.status.busy": "2025-05-31T17:47:36.553984Z",
     "iopub.status.idle": "2025-05-31T17:47:36.923618Z",
     "shell.execute_reply": "2025-05-31T17:47:36.922832Z",
     "shell.execute_reply.started": "2025-05-31T17:47:36.554174Z"
    }
   },
   "outputs": [],
   "source": [
    "fig,(ax1,ax2) = plt.subplots(1,2,figsize=(16,6),layout=\"constrained\")\n",
    "catalog.plot.scatter(x=psfmag_name_keep, y = psfmagerr_name_keep,c= color_keep,ax=ax1,ylim=(0.,0.5))\n",
    "catalog[psfmag_name_keep].hist(bins=50,ax=ax2,color= color_keep, histtype=\"step\",linewidth=3,label=psfmag_name_keep)\n",
    "ax2.set_xlabel(psfmag_name_keep)\n",
    "plt.suptitle(collectionStr)\n",
    "plt.show()"
   ]
  },
  {
   "cell_type": "code",
   "execution_count": null,
   "id": "da5c38f2-2fb3-4405-8da9-6e6ac5a5ce14",
   "metadata": {
    "execution": {
     "iopub.execute_input": "2025-05-31T17:47:36.924384Z",
     "iopub.status.busy": "2025-05-31T17:47:36.924228Z",
     "iopub.status.idle": "2025-05-31T17:47:36.928794Z",
     "shell.execute_reply": "2025-05-31T17:47:36.928357Z",
     "shell.execute_reply.started": "2025-05-31T17:47:36.924365Z"
    }
   },
   "outputs": [],
   "source": [
    "selection_cut = (catalog[psfmag_name_keep]<22) & (catalog[extendedness_name_keep] == 0) & (catalog[blendness_name_keep] ==0) \n",
    "catalog_object_sel = catalog[selection_cut]\n",
    "catalog_object_sel.reset_index(drop=True,inplace=True)"
   ]
  },
  {
   "cell_type": "code",
   "execution_count": null,
   "id": "c948bb9c-9365-48e9-9421-0a492aeedd8f",
   "metadata": {
    "execution": {
     "iopub.execute_input": "2025-05-31T17:47:36.929445Z",
     "iopub.status.busy": "2025-05-31T17:47:36.929308Z",
     "iopub.status.idle": "2025-05-31T17:47:36.941433Z",
     "shell.execute_reply": "2025-05-31T17:47:36.941004Z",
     "shell.execute_reply.started": "2025-05-31T17:47:36.929431Z"
    }
   },
   "outputs": [],
   "source": [
    "catalog_object_sel[[\"objectId\",\"ra\",\"dec\",psfmag_name_keep]]"
   ]
  },
  {
   "cell_type": "code",
   "execution_count": null,
   "id": "33cde903-9d38-4991-8ebf-b410ca9b0b32",
   "metadata": {
    "execution": {
     "iopub.execute_input": "2025-05-31T17:47:36.942091Z",
     "iopub.status.busy": "2025-05-31T17:47:36.941912Z",
     "iopub.status.idle": "2025-05-31T17:47:37.139346Z",
     "shell.execute_reply": "2025-05-31T17:47:37.138700Z",
     "shell.execute_reply.started": "2025-05-31T17:47:36.942041Z"
    }
   },
   "outputs": [],
   "source": [
    "fig,ax = plt.subplots(1,1,figsize=(8,8),layout=\"constrained\")\n",
    "sc = catalog_object_sel.plot.scatter(x=\"ra\",y=\"dec\",c=psfmag_name_keep,colormap=\"jet_r\",ax=ax,marker=\"o\",s=50,colorbar=False)\n",
    "ax.set_aspect(\"equal\")\n",
    "ax.invert_xaxis()\n",
    "ax.set_title(\"objects position\")\n",
    "cbar = fig.colorbar(sc.collections[0], ax=ax, orientation=\"horizontal\", shrink=0.7, pad=0.05)\n",
    "cbar.set_label(psfmag_name_keep)\n",
    "\n",
    "plt.show()"
   ]
  },
  {
   "cell_type": "code",
   "execution_count": null,
   "id": "d793a854-b549-467a-b550-8530aebbd4a1",
   "metadata": {
    "execution": {
     "iopub.execute_input": "2025-05-31T17:47:37.140155Z",
     "iopub.status.busy": "2025-05-31T17:47:37.139969Z",
     "iopub.status.idle": "2025-05-31T17:47:37.372224Z",
     "shell.execute_reply": "2025-05-31T17:47:37.371589Z",
     "shell.execute_reply.started": "2025-05-31T17:47:37.140095Z"
    }
   },
   "outputs": [],
   "source": [
    "fig,(ax1,ax2) = plt.subplots(1,2,figsize=(16,6),layout=\"constrained\")\n",
    "catalog_object_sel.plot.scatter(x=psfmag_name_keep, y = psfmagerr_name_keep,c= color_keep,ax=ax1)\n",
    "catalog_object_sel[psfmag_name_keep].hist(bins=50,ax=ax2,color= color_keep, histtype=\"step\",linewidth=3,label=psfmag_name_keep)\n",
    "ax2.set_xlabel(psfmag_name_keep)\n",
    "plt.suptitle(collectionStr)\n",
    "plt.show()"
   ]
  },
  {
   "cell_type": "code",
   "execution_count": null,
   "id": "2ef04523-d438-4bdb-b4c7-110345a6e573",
   "metadata": {
    "execution": {
     "iopub.execute_input": "2025-05-31T17:47:37.372989Z",
     "iopub.status.busy": "2025-05-31T17:47:37.372827Z",
     "iopub.status.idle": "2025-05-31T17:47:37.375311Z",
     "shell.execute_reply": "2025-05-31T17:47:37.374916Z",
     "shell.execute_reply.started": "2025-05-31T17:47:37.372962Z"
    }
   },
   "outputs": [],
   "source": [
    "#list(catalog_cut.columns)"
   ]
  },
  {
   "cell_type": "code",
   "execution_count": null,
   "id": "d71792a0-a20c-45e5-b566-819f346b1c26",
   "metadata": {
    "execution": {
     "iopub.execute_input": "2025-05-31T17:47:37.376135Z",
     "iopub.status.busy": "2025-05-31T17:47:37.375823Z",
     "iopub.status.idle": "2025-05-31T17:47:37.847124Z",
     "shell.execute_reply": "2025-05-31T17:47:37.846658Z",
     "shell.execute_reply.started": "2025-05-31T17:47:37.376118Z"
    }
   },
   "outputs": [],
   "source": [
    "if 1:\n",
    "    afwDisplay.setDefaultBackend(\"firefly\")\n",
    "    N = len(all_deepCoadds)\n",
    "    for count in range(N):\n",
    "        band = all_bands[count]\n",
    "        if band == BANDSEL:\n",
    "            display = afwDisplay.Display(frame= 1)\n",
    "            # cannot succeed to show white stars on dark sky\n",
    "            display.setImageColormap(\"gray\")\n",
    "            display.scale(\"asinh\", \"zscale\")\n",
    "            display.mtv(all_deepCoadds[count].image, title=all_titles[count])\n",
    "            wcs = all_deepCoadds_wcs[count]\n",
    "\n",
    "    x_name = \"ra\"\n",
    "    y_name = \"dec\"\n",
    "    with display.Buffering():\n",
    "        for index, row in catalog_object_sel.iterrows():\n",
    "\n",
    "            ra_deg = row[x_name]\n",
    "            dec_deg = row[y_name]\n",
    "              \n",
    "            sky_coord = SpherePoint(ra_deg * degrees, dec_deg * degrees) \n",
    "            pixel_coord = wcs.skyToPixel(sky_coord)\n",
    "\n",
    "            xpix = pixel_coord.x\n",
    "            ypix = pixel_coord.y\n",
    "                \n",
    "            display.dot(\"o\", xpix, ypix, size=50, ctype=color_keep)\n",
    "            display.dot(str(index), xpix+80, ypix+80, size=2, ctype=color_keep)"
   ]
  },
  {
   "cell_type": "markdown",
   "id": "406fb3c6-2cda-458e-896c-40c5e09f31cb",
   "metadata": {},
   "source": [
    "## Search for the Sources"
   ]
  },
  {
   "cell_type": "markdown",
   "id": "09cdcbb3-5929-452b-85b8-c6009549f669",
   "metadata": {},
   "source": [
    "### Access to sourceTable\n",
    "    DatasetType('sourceTable', {band, instrument, day_obs, detector, physical_filter, visit}, DataFrame)"
   ]
  },
  {
   "cell_type": "code",
   "execution_count": null,
   "id": "35604f56-33ff-47c3-9309-30c51d868d2c",
   "metadata": {
    "execution": {
     "iopub.execute_input": "2025-05-31T17:47:37.848151Z",
     "iopub.status.busy": "2025-05-31T17:47:37.847646Z",
     "iopub.status.idle": "2025-05-31T17:47:37.850490Z",
     "shell.execute_reply": "2025-05-31T17:47:37.850118Z",
     "shell.execute_reply.started": "2025-05-31T17:47:37.848134Z"
    }
   },
   "outputs": [],
   "source": [
    "datasettype = 'sourceTable'"
   ]
  },
  {
   "cell_type": "code",
   "execution_count": null,
   "id": "d4eb9bef-61d9-4112-bcd5-0addac9b9bf6",
   "metadata": {
    "execution": {
     "iopub.execute_input": "2025-05-31T17:47:37.851072Z",
     "iopub.status.busy": "2025-05-31T17:47:37.850935Z",
     "iopub.status.idle": "2025-05-31T17:47:37.857747Z",
     "shell.execute_reply": "2025-05-31T17:47:37.857385Z",
     "shell.execute_reply.started": "2025-05-31T17:47:37.851057Z"
    }
   },
   "outputs": [],
   "source": [
    "#dataId = {\"band\": BANDSEL, \"instrument\": instrument, \"visit\" : 2024111900097}"
   ]
  },
  {
   "cell_type": "code",
   "execution_count": null,
   "id": "9e399286-b744-4db4-a9d0-264357aa09bb",
   "metadata": {
    "execution": {
     "iopub.execute_input": "2025-05-31T17:47:37.858303Z",
     "iopub.status.busy": "2025-05-31T17:47:37.858177Z",
     "iopub.status.idle": "2025-05-31T17:47:37.867336Z",
     "shell.execute_reply": "2025-05-31T17:47:37.866917Z",
     "shell.execute_reply.started": "2025-05-31T17:47:37.858290Z"
    }
   },
   "outputs": [],
   "source": [
    "#### Build the where clause\n",
    "where_clause_sources = where_clause_date + f\" and visit in {tuple_of_visits}\"\n",
    "where_clause_sources"
   ]
  },
  {
   "cell_type": "code",
   "execution_count": null,
   "id": "9e97272d-cd3f-4562-8bfe-f37788946c88",
   "metadata": {
    "execution": {
     "iopub.execute_input": "2025-05-31T17:47:37.867969Z",
     "iopub.status.busy": "2025-05-31T17:47:37.867832Z",
     "iopub.status.idle": "2025-05-31T17:47:38.130633Z",
     "shell.execute_reply": "2025-05-31T17:47:38.130135Z",
     "shell.execute_reply.started": "2025-05-31T17:47:37.867955Z"
    }
   },
   "outputs": [],
   "source": [
    "therefs = butler.registry.queryDatasets(\n",
    "    datasettype,\n",
    "    where=where_clause_sources,\n",
    "    collections = collection_validation,\n",
    ")\n",
    "\n",
    "listref = list(therefs)\n",
    "nref = len(listref)\n",
    "print(f\"nref = {nref}\")"
   ]
  },
  {
   "cell_type": "code",
   "execution_count": null,
   "id": "8e34b060-b227-4404-8864-390a44a5f95d",
   "metadata": {
    "execution": {
     "iopub.execute_input": "2025-05-31T17:47:38.131333Z",
     "iopub.status.busy": "2025-05-31T17:47:38.131186Z",
     "iopub.status.idle": "2025-05-31T17:47:58.600063Z",
     "shell.execute_reply": "2025-05-31T17:47:58.599596Z",
     "shell.execute_reply.started": "2025-05-31T17:47:38.131318Z"
    }
   },
   "outputs": [],
   "source": [
    "all_src = []\n",
    "for count,ref in enumerate(therefs):\n",
    "    the_id = ref.dataId\n",
    "    #print(the_id)\n",
    "    srccatalog = butler.get(ref)\n",
    "    all_src.append(srccatalog)\n",
    "    "
   ]
  },
  {
   "cell_type": "code",
   "execution_count": null,
   "id": "7915ebbe-b705-495c-b034-8be0fec6a22f",
   "metadata": {
    "execution": {
     "iopub.execute_input": "2025-05-31T17:47:58.600767Z",
     "iopub.status.busy": "2025-05-31T17:47:58.600625Z",
     "iopub.status.idle": "2025-05-31T17:47:59.936979Z",
     "shell.execute_reply": "2025-05-31T17:47:59.936418Z",
     "shell.execute_reply.started": "2025-05-31T17:47:58.600753Z"
    }
   },
   "outputs": [],
   "source": [
    "t =  pd.concat(all_src)"
   ]
  },
  {
   "cell_type": "code",
   "execution_count": null,
   "id": "5b87f7d4-04bd-47d7-b6c3-5e97f6fbd3a2",
   "metadata": {
    "execution": {
     "iopub.execute_input": "2025-05-31T17:47:59.945653Z",
     "iopub.status.busy": "2025-05-31T17:47:59.945489Z",
     "iopub.status.idle": "2025-05-31T17:48:00.433357Z",
     "shell.execute_reply": "2025-05-31T17:48:00.432820Z",
     "shell.execute_reply.started": "2025-05-31T17:47:59.945639Z"
    }
   },
   "outputs": [],
   "source": [
    "t = t[t.parentSourceId  == 0 ]\t"
   ]
  },
  {
   "cell_type": "code",
   "execution_count": null,
   "id": "4d2ec40e-8729-40ff-83eb-dbddbd6b8d02",
   "metadata": {
    "execution": {
     "iopub.execute_input": "2025-05-31T17:48:00.434064Z",
     "iopub.status.busy": "2025-05-31T17:48:00.433918Z",
     "iopub.status.idle": "2025-05-31T17:48:00.438338Z",
     "shell.execute_reply": "2025-05-31T17:48:00.437972Z",
     "shell.execute_reply.started": "2025-05-31T17:48:00.434049Z"
    }
   },
   "outputs": [],
   "source": [
    "list(t.columns)"
   ]
  },
  {
   "cell_type": "code",
   "execution_count": null,
   "id": "59b3ca8b-d106-426d-ad4e-af8eb2c28ad2",
   "metadata": {
    "execution": {
     "iopub.execute_input": "2025-05-31T17:48:00.438911Z",
     "iopub.status.busy": "2025-05-31T17:48:00.438776Z",
     "iopub.status.idle": "2025-05-31T17:48:00.578447Z",
     "shell.execute_reply": "2025-05-31T17:48:00.577938Z",
     "shell.execute_reply.started": "2025-05-31T17:48:00.438897Z"
    }
   },
   "outputs": [],
   "source": [
    "sources_cut = (t['detect_isPrimary']) & (t[\"extendedness\"] == 0 ) \n",
    "t_sel = t[sources_cut]"
   ]
  },
  {
   "cell_type": "code",
   "execution_count": null,
   "id": "1af1f074-c140-4570-a156-b84077958716",
   "metadata": {
    "execution": {
     "iopub.execute_input": "2025-05-31T17:48:00.579138Z",
     "iopub.status.busy": "2025-05-31T17:48:00.578984Z",
     "iopub.status.idle": "2025-05-31T17:48:00.597458Z",
     "shell.execute_reply": "2025-05-31T17:48:00.596657Z",
     "shell.execute_reply.started": "2025-05-31T17:48:00.579122Z"
    }
   },
   "outputs": [],
   "source": [
    "t_sel[['ra','dec','visit','psfFlux','psfFluxErr','ap35Flux', 'localPhotoCalib','detect_isPrimary','extendedness','sky_source']]"
   ]
  },
  {
   "cell_type": "code",
   "execution_count": null,
   "id": "e37dd81d-c888-4bc9-8c29-765517d81407",
   "metadata": {
    "execution": {
     "iopub.execute_input": "2025-05-31T17:48:00.598532Z",
     "iopub.status.busy": "2025-05-31T17:48:00.598321Z",
     "iopub.status.idle": "2025-05-31T17:48:05.980987Z",
     "shell.execute_reply": "2025-05-31T17:48:05.980522Z",
     "shell.execute_reply.started": "2025-05-31T17:48:00.598509Z"
    }
   },
   "outputs": [],
   "source": [
    "t_sel = t_sel.copy()\n",
    "t_sel[\"dateobs\"] = t_sel.apply(lambda x: x['visit']//100_000, axis=1)\n",
    "t_sel[\"seq\"] = t_sel[\"visit\"] - t_sel[\"dateobs\"]*100_000\n",
    "t_sel[\"mags\"] = t_sel[\"psfFlux\"].apply(nJy_to_ab_mag)\n",
    "t_sel[\"magerr\"] = nJy_err_to_ab_err(t_sel[\"psfFlux\"], t_sel[\"psfFluxErr\"])                               \n",
    "t_sel[\"valid\"] = (t_sel[\"psfFlux\"] >0) & (~t_sel[\"psfFlux_flag\"])\n",
    "visit_list = t_sel[\"visit\"].astype(int)"
   ]
  },
  {
   "cell_type": "code",
   "execution_count": null,
   "id": "8c549b73-8dd2-4363-b0da-ff1123ca95f6",
   "metadata": {
    "execution": {
     "iopub.execute_input": "2025-05-31T17:48:05.981754Z",
     "iopub.status.busy": "2025-05-31T17:48:05.981608Z",
     "iopub.status.idle": "2025-05-31T17:48:05.986014Z",
     "shell.execute_reply": "2025-05-31T17:48:05.985652Z",
     "shell.execute_reply.started": "2025-05-31T17:48:05.981738Z"
    }
   },
   "outputs": [],
   "source": [
    "visit_list"
   ]
  },
  {
   "cell_type": "code",
   "execution_count": null,
   "id": "048ef421-a579-446e-98cd-3f2b63248cbd",
   "metadata": {
    "execution": {
     "iopub.execute_input": "2025-05-31T17:48:05.986713Z",
     "iopub.status.busy": "2025-05-31T17:48:05.986576Z",
     "iopub.status.idle": "2025-05-31T17:51:15.212828Z",
     "shell.execute_reply": "2025-05-31T17:51:15.212321Z",
     "shell.execute_reply.started": "2025-05-31T17:48:05.986699Z"
    }
   },
   "outputs": [],
   "source": [
    "df_times = FetchTimesForVisits(visit_list)"
   ]
  },
  {
   "cell_type": "code",
   "execution_count": null,
   "id": "b8349a6f-1843-4117-af78-77df8476a848",
   "metadata": {
    "execution": {
     "iopub.execute_input": "2025-05-31T17:51:15.213850Z",
     "iopub.status.busy": "2025-05-31T17:51:15.213397Z",
     "iopub.status.idle": "2025-05-31T17:51:53.286380Z",
     "shell.execute_reply": "2025-05-31T17:51:53.285861Z",
     "shell.execute_reply.started": "2025-05-31T17:51:15.213827Z"
    }
   },
   "outputs": [],
   "source": [
    "t_sel[\"mjd\"] = t_sel[\"visit\"].apply(lambda x: df_times.loc[x][\"mjd\"])\n",
    "t_sel[\"isot\"] = t_sel[\"visit\"].apply(lambda x: df_times.loc[x][\"isot\"])\n",
    "t_sel[\"airmass\"] = t_sel[\"visit\"].apply(lambda x: df_times.loc[x][\"airmass\"])\n",
    "t_sel[\"azimuth\"] = t_sel[\"visit\"].apply(lambda x: df_times.loc[x][\"azimuth\"])"
   ]
  },
  {
   "cell_type": "code",
   "execution_count": null,
   "id": "cbb33b25-2db3-4f15-a5d3-47a2dc712606",
   "metadata": {
    "execution": {
     "iopub.execute_input": "2025-05-31T17:51:53.287346Z",
     "iopub.status.busy": "2025-05-31T17:51:53.287158Z",
     "iopub.status.idle": "2025-05-31T17:51:53.342503Z",
     "shell.execute_reply": "2025-05-31T17:51:53.342046Z",
     "shell.execute_reply.started": "2025-05-31T17:51:53.287332Z"
    }
   },
   "outputs": [],
   "source": [
    "t_sel"
   ]
  },
  {
   "cell_type": "code",
   "execution_count": null,
   "id": "a498491e-325b-4604-ad30-ea12a959858f",
   "metadata": {
    "execution": {
     "iopub.execute_input": "2025-05-31T17:51:53.343141Z",
     "iopub.status.busy": "2025-05-31T17:51:53.343001Z",
     "iopub.status.idle": "2025-05-31T17:51:53.348095Z",
     "shell.execute_reply": "2025-05-31T17:51:53.347596Z",
     "shell.execute_reply.started": "2025-05-31T17:51:53.343128Z"
    }
   },
   "outputs": [],
   "source": [
    "catalog_sources_coords = SkyCoord(ra=t_sel[\"ra\"].values*u.deg, dec=t_sel[\"dec\"].values*u.deg)"
   ]
  },
  {
   "cell_type": "code",
   "execution_count": null,
   "id": "53b6098b-18ef-486f-b1a6-f3d65590a347",
   "metadata": {
    "execution": {
     "iopub.execute_input": "2025-05-31T17:51:53.348776Z",
     "iopub.status.busy": "2025-05-31T17:51:53.348641Z",
     "iopub.status.idle": "2025-05-31T17:52:05.898763Z",
     "shell.execute_reply": "2025-05-31T17:52:05.898313Z",
     "shell.execute_reply.started": "2025-05-31T17:51:53.348763Z"
    }
   },
   "outputs": [],
   "source": [
    "from matplotlib import gridspec\n",
    "\n",
    "sep_cut = 5.0\n",
    "for idx, row in catalog_object_sel.iterrows(): \n",
    "    t_src = t_sel.copy()\n",
    "    target_object_ra = row[\"ra\"]\n",
    "    target_object_dec = row[\"dec\"]\n",
    "    title_object = f\"{idx}) : {row['objectId']}\"  # Attention aux guillemets imbriqués\n",
    "\n",
    "    target_object_coords = SkyCoord(ra=target_object_ra*u.deg, dec=target_object_dec*u.deg)\n",
    "    distances_arcsec = target_object_coords.separation(catalog_sources_coords).arcsecond\n",
    "    t_src[\"sep\"] = distances_arcsec\n",
    "    sepmin = distances_arcsec.min()\n",
    "    t_src_cut = t_src[t_src[\"sep\"] < sep_cut]\n",
    "    \n",
    "    # Créer figure et GridSpec avec 2 colonnes\n",
    "    fig = plt.figure(figsize=(16, 3))\n",
    "    gs = gridspec.GridSpec(1, 2, width_ratios=[1, 3], wspace=0.3)  # largeur relative ax1:ax2 = 1:2.5\n",
    "\n",
    "    ax1 = fig.add_subplot(gs[0])\n",
    "    ax2 = fig.add_subplot(gs[1])\n",
    "\n",
    "    # Histogramme à gauche\n",
    "    ax1.hist(distances_arcsec, bins=60, range=(0, 50))\n",
    "    ax1.set_title(title_object + f\" sep = {sepmin:.2f}\\\"\", fontsize=10)\n",
    "\n",
    "    # Tu peux dessiner autre chose à droite ici (scatter, image, etc.)\n",
    "    #ax2.text(0.5, 0.5, \"Contenu pour ax2\", ha='center', va='center')\n",
    "    #ax2.set_axis_off()\n",
    "    ax2.errorbar(t_src_cut[\"mjd\"].values, t_src_cut[\"mags\"].values,yerr=t_src_cut[\"magerr\"].values) \n",
    "    ax2.errorbar(\n",
    "    t_src_cut[\"mjd\"].values,\n",
    "    t_src_cut[\"mags\"].values,\n",
    "    yerr=t_src_cut[\"magerr\"].values,\n",
    "    fmt=\"o\",                      # 'o' pour des points\n",
    "    markersize=4,                 # taille des points\n",
    "    capsize=2,                    # petites barres horizontales aux extrémités\n",
    "    elinewidth=1,                 # épaisseur des barres d'erreur\n",
    "    ecolor=\"gray\",                # couleur des barres d'erreur\n",
    "    markerfacecolor=\"black\",     # couleur intérieure des points\n",
    "    markeredgecolor=\"black\",     # contour des points\n",
    "    alpha=0.8                     # transparence\n",
    "    )\n",
    "\n",
    "    ax2.set_title(\"Light Curves\", fontsize=10)\n",
    "    ax2.set_xlabel(\"MJD\", fontsize=9)\n",
    "    ax2.set_ylabel(\"Magnitude\", fontsize=9)\n",
    "    ax2.invert_yaxis()  # Plus lumineux = vers le haut (standard en astronomie)\n",
    "    ax2.grid(True, linestyle=\"--\", alpha=0.5)\n",
    "\n",
    "    plt.show()\n"
   ]
  },
  {
   "cell_type": "code",
   "execution_count": null,
   "id": "03a675e7-d4f1-458f-8ad8-725a05a0c064",
   "metadata": {},
   "outputs": [],
   "source": []
  }
 ],
 "metadata": {
  "kernelspec": {
   "display_name": "LSST",
   "language": "python",
   "name": "lsst"
  },
  "language_info": {
   "codemirror_mode": {
    "name": "ipython",
    "version": 3
   },
   "file_extension": ".py",
   "mimetype": "text/x-python",
   "name": "python",
   "nbconvert_exporter": "python",
   "pygments_lexer": "ipython3",
   "version": "3.12.10"
  }
 },
 "nbformat": 4,
 "nbformat_minor": 5
}
