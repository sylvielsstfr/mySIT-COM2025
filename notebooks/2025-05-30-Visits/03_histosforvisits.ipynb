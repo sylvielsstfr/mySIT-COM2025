{
 "cells": [
  {
   "cell_type": "markdown",
   "id": "adda26b1-7594-48da-94d2-6722bd71353c",
   "metadata": {},
   "source": [
    "# Histograms and sequences of the visits in different tracts, patches and bands"
   ]
  },
  {
   "cell_type": "markdown",
   "id": "1f276e2d-e5e1-4b30-bf3c-4ea950073fad",
   "metadata": {
    "execution": {
     "iopub.execute_input": "2025-04-29T08:48:57.989253Z",
     "iopub.status.busy": "2025-04-29T08:48:57.988923Z",
     "iopub.status.idle": "2025-04-29T08:48:57.993268Z",
     "shell.execute_reply": "2025-04-29T08:48:57.992764Z",
     "shell.execute_reply.started": "2025-04-29T08:48:57.989226Z"
    }
   },
   "source": [
    "- author : Sylvie Dagoret-Campagne\n",
    "- affiliation : IJCLab/IN2P3/CNRS\n",
    "- member : DESC, rubin-inkind\n",
    "- creation date : 2025-05-30\n",
    "- last update : 2025-06-01\n",
    "- last update : 2025-06-04 : Better focus on 5063"
   ]
  },
  {
   "cell_type": "code",
   "execution_count": null,
   "id": "01996343-5a50-4c86-a6a2-261bc3bf8df0",
   "metadata": {
    "execution": {
     "iopub.execute_input": "2025-06-04T17:09:34.174124Z",
     "iopub.status.busy": "2025-06-04T17:09:34.173992Z",
     "iopub.status.idle": "2025-06-04T17:09:35.545344Z",
     "shell.execute_reply": "2025-06-04T17:09:35.544832Z",
     "shell.execute_reply.started": "2025-06-04T17:09:34.174109Z"
    }
   },
   "outputs": [],
   "source": [
    "import lsst.pipe.base\n",
    "\n",
    "print(lsst.pipe.base.__version__)"
   ]
  },
  {
   "cell_type": "code",
   "execution_count": null,
   "id": "72f36e25-589c-4a8c-865f-8b51f5f35270",
   "metadata": {
    "execution": {
     "iopub.execute_input": "2025-06-04T17:09:35.546041Z",
     "iopub.status.busy": "2025-06-04T17:09:35.545889Z",
     "iopub.status.idle": "2025-06-04T17:09:36.405743Z",
     "shell.execute_reply": "2025-06-04T17:09:36.405234Z",
     "shell.execute_reply.started": "2025-06-04T17:09:35.546026Z"
    }
   },
   "outputs": [],
   "source": [
    "import sys\n",
    "import matplotlib.pyplot as plt\n",
    "import lsst.afw.display as afwDisplay\n",
    "from lsst.geom import SpherePoint, degrees\n",
    "from lsst.afw.image import ExposureF\n",
    "from lsst.skymap import PatchInfo, Index2D\n",
    "import numpy as np\n",
    "import pandas as pd\n",
    "from astropy.time import Time\n",
    "#%matplotlib widget"
   ]
  },
  {
   "cell_type": "code",
   "execution_count": null,
   "id": "61970c43-da35-418a-a48b-d6eb5ebb2f54",
   "metadata": {
    "execution": {
     "iopub.execute_input": "2025-06-04T17:09:36.406761Z",
     "iopub.status.busy": "2025-06-04T17:09:36.406304Z",
     "iopub.status.idle": "2025-06-04T17:09:37.012344Z",
     "shell.execute_reply": "2025-06-04T17:09:37.011880Z",
     "shell.execute_reply.started": "2025-06-04T17:09:36.406746Z"
    }
   },
   "outputs": [],
   "source": [
    "import seaborn as sns"
   ]
  },
  {
   "cell_type": "code",
   "execution_count": null,
   "id": "f2580923-bf82-4204-a50d-c64eb56b9f06",
   "metadata": {
    "execution": {
     "iopub.execute_input": "2025-06-04T17:09:37.013273Z",
     "iopub.status.busy": "2025-06-04T17:09:37.012894Z",
     "iopub.status.idle": "2025-06-04T17:09:37.016059Z",
     "shell.execute_reply": "2025-06-04T17:09:37.015682Z",
     "shell.execute_reply.started": "2025-06-04T17:09:37.013258Z"
    }
   },
   "outputs": [],
   "source": [
    "plt.rcParams[\"figure.figsize\"] = (10, 6)\n",
    "plt.rcParams[\"axes.labelsize\"] = \"x-large\"\n",
    "plt.rcParams[\"axes.titlesize\"] = \"x-large\"\n",
    "plt.rcParams[\"xtick.labelsize\"] = \"x-large\"\n",
    "plt.rcParams[\"ytick.labelsize\"] = \"x-large\""
   ]
  },
  {
   "cell_type": "code",
   "execution_count": null,
   "id": "1a1a267b-58c7-468a-a336-2c8def253a79",
   "metadata": {
    "execution": {
     "iopub.execute_input": "2025-06-04T17:09:37.016629Z",
     "iopub.status.busy": "2025-06-04T17:09:37.016500Z",
     "iopub.status.idle": "2025-06-04T17:09:37.027172Z",
     "shell.execute_reply": "2025-06-04T17:09:37.026806Z",
     "shell.execute_reply.started": "2025-06-04T17:09:37.016616Z"
    }
   },
   "outputs": [],
   "source": [
    "import traceback"
   ]
  },
  {
   "cell_type": "code",
   "execution_count": null,
   "id": "ede21bda-146f-4c77-aa40-edf2debfbfc0",
   "metadata": {
    "execution": {
     "iopub.execute_input": "2025-06-04T17:09:37.027712Z",
     "iopub.status.busy": "2025-06-04T17:09:37.027583Z",
     "iopub.status.idle": "2025-06-04T17:09:37.035430Z",
     "shell.execute_reply": "2025-06-04T17:09:37.035078Z",
     "shell.execute_reply.started": "2025-06-04T17:09:37.027700Z"
    }
   },
   "outputs": [],
   "source": [
    "# Define butler\n",
    "from lsst.daf.butler import Butler"
   ]
  },
  {
   "cell_type": "code",
   "execution_count": null,
   "id": "c7ab7fe3-285d-48c2-973a-2dde9d0a7faa",
   "metadata": {
    "execution": {
     "iopub.execute_input": "2025-06-04T17:09:37.035969Z",
     "iopub.status.busy": "2025-06-04T17:09:37.035837Z",
     "iopub.status.idle": "2025-06-04T17:09:37.749523Z",
     "shell.execute_reply": "2025-06-04T17:09:37.748802Z",
     "shell.execute_reply.started": "2025-06-04T17:09:37.035957Z"
    }
   },
   "outputs": [],
   "source": [
    "!eups list lsst_distrib"
   ]
  },
  {
   "cell_type": "markdown",
   "id": "7e369002-01db-40e2-a7b7-036072114e6a",
   "metadata": {},
   "source": [
    "## RubinTV, Campaigns , quicklook\n",
    "- RubinTV : https://usdf-rsp.slac.stanford.edu/rubintv/summit-usdf/lsstcam\n",
    "- https://rubinobs.atlassian.net/wiki/spaces/LSSTCOM/pages/467370016/LSSTCam+Commissioning+Planning\n",
    "- LSSTCam DM campaign : https://rubinobs.atlassian.net/wiki/spaces/DM/pages/48834013/Campaigns#1.1.2.-LSSTCam-Nightly-Validation-Pipeline\n",
    "- Check campaign also here  https://rubinobs.atlassian.net/wiki/pages/diffpagesbyversion.action?pageId=48834013&selectedPageVersions=145%2C143\n",
    "- fov-quicklook : https://usdf-rsp-dev.slac.stanford.edu/fov-quicklook/"
   ]
  },
  {
   "cell_type": "markdown",
   "id": "4ce495c8-71a6-4846-86fc-5715e13348ab",
   "metadata": {},
   "source": [
    "## Configuration"
   ]
  },
  {
   "cell_type": "markdown",
   "id": "29bdd60b-f237-4a90-8aee-95f83091a5c8",
   "metadata": {},
   "source": [
    "### Choose instrument"
   ]
  },
  {
   "cell_type": "code",
   "execution_count": null,
   "id": "66ff700b-a6ab-4b6d-ab28-dfadf54fdd9f",
   "metadata": {
    "execution": {
     "iopub.execute_input": "2025-06-04T17:09:37.750362Z",
     "iopub.status.busy": "2025-06-04T17:09:37.750210Z",
     "iopub.status.idle": "2025-06-04T17:09:37.753356Z",
     "shell.execute_reply": "2025-06-04T17:09:37.752949Z",
     "shell.execute_reply.started": "2025-06-04T17:09:37.750345Z"
    }
   },
   "outputs": [],
   "source": [
    "# instrument = \"LSSTCam\"\n",
    "instrument = \"LSSTComCam\"\n",
    "# instrument = \"LATISS\""
   ]
  },
  {
   "cell_type": "markdown",
   "id": "6d0c9a3d-a12b-424a-9aed-1d1309179e07",
   "metadata": {},
   "source": [
    "### For LSSTCam : RubinTV, Campaigns , quicklook\n",
    "- RubinTV : https://usdf-rsp.slac.stanford.edu/rubintv/summit-usdf/lsstcam\n",
    "- https://rubinobs.atlassian.net/wiki/spaces/LSSTCOM/pages/467370016/LSSTCam+Commissioning+Planning\n",
    "- LSSTCam DM campaign : https://rubinobs.atlassian.net/wiki/spaces/DM/pages/48834013/Campaigns#1.1.2.-LSSTCam-Nightly-Validation-Pipeline\n",
    "- Check campaign also here  https://rubinobs.atlassian.net/wiki/pages/diffpagesbyversion.action?pageId=48834013&selectedPageVersions=145%2C143\n",
    "- fov-quicklook : https://usdf-rsp-dev.slac.stanford.edu/fov-quicklook/"
   ]
  },
  {
   "cell_type": "markdown",
   "id": "5542de7d-695e-4256-b765-28b902b02adc",
   "metadata": {},
   "source": [
    "### For LSSTComCam check here : \n",
    "- - Check here the collection available : https://rubinobs.atlassian.net/wiki/spaces/DM/pages/226656354/LSSTComCam+Intermittent+Cumulative+DRP+Runs"
   ]
  },
  {
   "cell_type": "code",
   "execution_count": null,
   "id": "eacb14b0-183c-4dcd-ba59-64c7ca3efcd3",
   "metadata": {
    "execution": {
     "iopub.execute_input": "2025-06-04T17:09:37.753985Z",
     "iopub.status.busy": "2025-06-04T17:09:37.753848Z",
     "iopub.status.idle": "2025-06-04T17:09:37.762694Z",
     "shell.execute_reply": "2025-06-04T17:09:37.762323Z",
     "shell.execute_reply.started": "2025-06-04T17:09:37.753973Z"
    }
   },
   "outputs": [],
   "source": [
    "if instrument == \"LSSTCam\":\n",
    "    repo = \"/repo/embargo\"\n",
    "    instrument = \"LSSTCam\"\n",
    "    collection_validation = instrument + \"/runs/nightlyValidation\"\n",
    "    # collection_quicklook   = instrument + '/runs/quickLookTesting'\n",
    "    collection_validation = os.path.join(collection_validation, \"20250416/d_2025_04_15/DM-50157\")\n",
    "    date_start = 20250415\n",
    "    date_selection = 20250416\n",
    "    where_clause = \"instrument = '\" + f\"{instrument}\" + \"'\"\n",
    "    where_clause_date = where_clause + f\"and day_obs >= {date_start}\"\n",
    "    skymapName = \"lsst_cells_v1\"\n",
    "\n",
    "elif instrument == \"LSSTComCam\":\n",
    "    repo = \"/repo/main\"\n",
    "    collection_validation = \"LSSTComCam/runs/DRP/DP1/w_2025_10/DM-49359\"  # work\n",
    "    date_start = 20241024\n",
    "    date_selection = 20241211\n",
    "    skymapName = \"lsst_cells_v1\"\n",
    "    where_clause = \"instrument = '\" + instrument + \"'\"\n",
    "    where_clause_date = where_clause + f\"and day_obs >= {date_start}\"\n",
    "\n",
    "    NDET = 9\n",
    "    TRACTSEL = 5063\n",
    "\n",
    "elif instrument == \"LSSTComCamSim\":\n",
    "    repo = \"/repo/main\"\n",
    "    collection_validation = \"LSSTComCamSim/*\"  # work\n",
    "    date_start = 20241024\n",
    "    date_selection = 20241211\n",
    "    skymapName = \"ops_rehersal_prep_2k_v1\"\n",
    "    where_clause = \"instrument = '\" + instrument + \"'\"\n",
    "    where_clause_date = where_clause + f\"and day_obs >= {date_start}\"\n",
    "\n",
    "    NDET = 9\n",
    "    TRACTSEL = 5063\n",
    "\n",
    "elif instrument == \"LATISS\":\n",
    "    repo = \"/repo/main\"\n",
    "    # collection_validation = instrument + \"/runs/quickLook\"\n",
    "    collection_validation = instrument + \"/raw/all\"\n",
    "    date_start = 20221001\n",
    "    date_selection = 20221001\n",
    "    skymapName = \"latiss_v1\"\n",
    "    where_clause = \"instrument = '\" + instrument + \"'\"\n",
    "    where_clause_date = where_clause + f\"and day_obs >= {date_start}\"\n",
    "\n",
    "    NDET = 9\n",
    "    TRACTSEL = 5063"
   ]
  },
  {
   "cell_type": "code",
   "execution_count": null,
   "id": "82535307-9253-4f06-b82a-956efd0217c9",
   "metadata": {
    "execution": {
     "iopub.execute_input": "2025-06-04T17:09:37.763308Z",
     "iopub.status.busy": "2025-06-04T17:09:37.763176Z",
     "iopub.status.idle": "2025-06-04T17:09:37.770586Z",
     "shell.execute_reply": "2025-06-04T17:09:37.770182Z",
     "shell.execute_reply.started": "2025-06-04T17:09:37.763296Z"
    }
   },
   "outputs": [],
   "source": [
    "collectionStr = collection_validation.replace(\"/\", \"_\")"
   ]
  },
  {
   "cell_type": "markdown",
   "id": "e77a39ca-c34f-4097-8a11-c40a121a82e9",
   "metadata": {},
   "source": [
    "## Access to Butler registry"
   ]
  },
  {
   "cell_type": "code",
   "execution_count": null,
   "id": "8726b7e4-94b7-48ac-92f8-447b34b7a59e",
   "metadata": {
    "execution": {
     "iopub.execute_input": "2025-06-04T17:09:37.771193Z",
     "iopub.status.busy": "2025-06-04T17:09:37.771069Z",
     "iopub.status.idle": "2025-06-04T17:09:38.185250Z",
     "shell.execute_reply": "2025-06-04T17:09:38.184736Z",
     "shell.execute_reply.started": "2025-06-04T17:09:37.771181Z"
    }
   },
   "outputs": [],
   "source": [
    "# Initialize the butler repo:\n",
    "butler = Butler(repo, collections=collection_validation)\n",
    "registry = butler.registry"
   ]
  },
  {
   "cell_type": "markdown",
   "id": "a82d1397-cd01-45d3-9f39-8b4f6bcbb21f",
   "metadata": {},
   "source": [
    "## Create a skymap object"
   ]
  },
  {
   "cell_type": "code",
   "execution_count": null,
   "id": "2a570834-a5dc-43b8-a0d3-af71a5b2706c",
   "metadata": {
    "execution": {
     "iopub.execute_input": "2025-06-04T17:09:38.186241Z",
     "iopub.status.busy": "2025-06-04T17:09:38.185952Z",
     "iopub.status.idle": "2025-06-04T17:09:38.189123Z",
     "shell.execute_reply": "2025-06-04T17:09:38.188726Z",
     "shell.execute_reply.started": "2025-06-04T17:09:38.186200Z"
    }
   },
   "outputs": [],
   "source": [
    "# skymap = butler.get(\"skyMap\", skymap=skymapName, collections=collection_validation)"
   ]
  },
  {
   "cell_type": "code",
   "execution_count": null,
   "id": "26edbe65-22fe-4377-9ea1-ad2a270da9a9",
   "metadata": {
    "execution": {
     "iopub.execute_input": "2025-06-04T17:09:38.189828Z",
     "iopub.status.busy": "2025-06-04T17:09:38.189636Z",
     "iopub.status.idle": "2025-06-04T17:09:38.563711Z",
     "shell.execute_reply": "2025-06-04T17:09:38.563252Z",
     "shell.execute_reply.started": "2025-06-04T17:09:38.189809Z"
    }
   },
   "outputs": [],
   "source": [
    "try:\n",
    "    skymap = butler.get(\"skyMap\", skymap=skymapName, collections=collection_validation)\n",
    "except Exception as inst:\n",
    "    print(type(inst))  # the exception type\n",
    "    print(inst.args)  # arguments stored in .args\n",
    "    print(inst)  # __str__ allows args to be printed directly,"
   ]
  },
  {
   "cell_type": "markdown",
   "id": "a70c8618-a3ca-4c9e-a97d-7ab848c4df85",
   "metadata": {},
   "source": [
    "## Dump registry into a pandas dataframe\n",
    "\n",
    "- Faster method to decode the registry in pandas dataframe : first save deconded filed into a list of fields and then flush the whole list in pandas instead of row by row\n",
    "- Be carefull the registry variable change in name and type perhaps depending on DM_version"
   ]
  },
  {
   "cell_type": "code",
   "execution_count": null,
   "id": "55d0f624-5a74-4a58-af6d-bb0d025d9a97",
   "metadata": {
    "execution": {
     "iopub.execute_input": "2025-06-04T17:09:38.564491Z",
     "iopub.status.busy": "2025-06-04T17:09:38.564301Z",
     "iopub.status.idle": "2025-06-04T17:09:38.567899Z",
     "shell.execute_reply": "2025-06-04T17:09:38.567464Z",
     "shell.execute_reply.started": "2025-06-04T17:09:38.564472Z"
    }
   },
   "outputs": [],
   "source": [
    "print(where_clause_date)"
   ]
  },
  {
   "cell_type": "code",
   "execution_count": null,
   "id": "7fb3f33e-6325-4610-aeb5-b4c8c3372e41",
   "metadata": {
    "execution": {
     "iopub.execute_input": "2025-06-04T17:09:38.568892Z",
     "iopub.status.busy": "2025-06-04T17:09:38.568519Z",
     "iopub.status.idle": "2025-06-04T17:09:38.578248Z",
     "shell.execute_reply": "2025-06-04T17:09:38.577830Z",
     "shell.execute_reply.started": "2025-06-04T17:09:38.568865Z"
    }
   },
   "outputs": [],
   "source": [
    "columns = [\n",
    "    \"id\",\n",
    "    \"obs_id\",\n",
    "    \"day_obs\",\n",
    "    \"seq_num\",\n",
    "    \"time_start\",\n",
    "    \"time_end\",\n",
    "    \"type\",\n",
    "    \"target\",\n",
    "    \"filter\",\n",
    "    \"zenith_angle\",\n",
    "    \"expos\",\n",
    "    \"ra\",\n",
    "    \"dec\",\n",
    "    \"skyangle\",\n",
    "    \"azimuth\",\n",
    "    \"zenith\",\n",
    "    \"science_program\",\n",
    "    \"jd\",\n",
    "    \"mjd\",\n",
    "]"
   ]
  },
  {
   "cell_type": "code",
   "execution_count": null,
   "id": "9a7e84e4-408f-4287-bddf-a366d0c0091c",
   "metadata": {
    "execution": {
     "iopub.execute_input": "2025-06-04T17:09:38.579059Z",
     "iopub.status.busy": "2025-06-04T17:09:38.578760Z",
     "iopub.status.idle": "2025-06-04T17:09:38.598541Z",
     "shell.execute_reply": "2025-06-04T17:09:38.598094Z",
     "shell.execute_reply.started": "2025-06-04T17:09:38.579037Z"
    }
   },
   "outputs": [],
   "source": [
    "df_exposure = pd.DataFrame(\n",
    "    {\n",
    "        \"id\": pd.Series(dtype=\"int\"),\n",
    "        \"obs_id\": pd.Series(dtype=\"int\"),\n",
    "        \"day_obs\": pd.Series(dtype=\"int\"),\n",
    "        \"seq_num\": pd.Series(dtype=\"int\"),\n",
    "        \"time_start\": pd.Series(dtype=\"str\"),  # ou 'datetime64[ns]' si c’est un datetime\n",
    "        \"time_end\": pd.Series(dtype=\"str\"),  # idem\n",
    "        \"type\": pd.Series(dtype=\"str\"),\n",
    "        \"target\": pd.Series(dtype=\"str\"),\n",
    "        \"filter\": pd.Series(dtype=\"str\"),\n",
    "        \"zenith_angle\": pd.Series(dtype=\"float\"),\n",
    "        \"expos\": pd.Series(dtype=\"float\"),  # ou 'int' selon le cas\n",
    "        \"ra\": pd.Series(dtype=\"float\"),\n",
    "        \"dec\": pd.Series(dtype=\"float\"),\n",
    "        \"skyangle\": pd.Series(dtype=\"float\"),\n",
    "        \"azimuth\": pd.Series(dtype=\"float\"),\n",
    "        \"zenith\": pd.Series(dtype=\"float\"),\n",
    "        \"science_program\": pd.Series(dtype=\"str\"),\n",
    "        \"jd\": pd.Series(dtype=\"float\"),\n",
    "        \"mjd\": pd.Series(dtype=\"float\"),\n",
    "    }\n",
    ")"
   ]
  },
  {
   "cell_type": "code",
   "execution_count": null,
   "id": "655e7d53-a2c3-40d7-9cb7-2cb451a6c4f4",
   "metadata": {
    "execution": {
     "iopub.execute_input": "2025-06-04T17:09:38.599347Z",
     "iopub.status.busy": "2025-06-04T17:09:38.599118Z",
     "iopub.status.idle": "2025-06-04T17:09:47.054296Z",
     "shell.execute_reply": "2025-06-04T17:09:47.053549Z",
     "shell.execute_reply.started": "2025-06-04T17:09:38.599321Z"
    }
   },
   "outputs": [],
   "source": [
    "# save the data array in rows before saving in pandas dataframe\n",
    "rows = []\n",
    "for count, info in enumerate(registry.queryDimensionRecords(\"exposure\", where=where_clause_date)):\n",
    "    try:\n",
    "        jd_start = info.timespan.begin.value\n",
    "        jd_end = info.timespan.end.value\n",
    "        the_Time_start = Time(jd_start, format=\"jd\", scale=\"utc\")\n",
    "        the_Time_end = Time(jd_end, format=\"jd\", scale=\"utc\")\n",
    "        mjd_start = the_Time_start.mjd\n",
    "        mjd_end = the_Time_end.mjd\n",
    "        isot_start = the_Time_start.isot\n",
    "        isot_end = the_Time_end.isot\n",
    "\n",
    "        if count == 0:\n",
    "            print(\"===== Time Conversion Debug Info =====\")\n",
    "            print(f\"JD start      : {jd_start} (type: {type(jd_start)})\")\n",
    "            print(f\"JD end        : {jd_end} (type: {type(jd_end)})\")\n",
    "            print(f\"MJD start     : {mjd_start} (type: {type(mjd_start)})\")\n",
    "            print(f\"MJD end       : {mjd_end} (type: {type(mjd_end)})\")\n",
    "            print(f\"ISOT start    : {isot_start} (type: {type(isot_start)})\")\n",
    "            print(f\"ISOT end      : {isot_end} (type: {type(isot_end)})\")\n",
    "            print(\"=======================================\")\n",
    "\n",
    "        # put row in a dictionnary before stacking\n",
    "        row = {\n",
    "            \"id\": info.id,\n",
    "            \"obs_id\": info.obs_id,\n",
    "            \"day_obs\": info.day_obs,\n",
    "            \"seq_num\": info.seq_num,\n",
    "            \"time_start\": isot_start,\n",
    "            \"time_end\": isot_end,\n",
    "            \"type\": info.observation_type,\n",
    "            \"target\": info.target_name,\n",
    "            \"filter\": info.physical_filter,\n",
    "            \"zenith_angle\": info.zenith_angle,\n",
    "            \"expos\": info.exposure_time,  # Exemple : adapter selon ton objet\n",
    "            \"ra\": info.tracking_ra,\n",
    "            \"dec\": info.tracking_dec,\n",
    "            \"skyangle\": info.sky_angle,\n",
    "            \"azimuth\": info.azimuth,\n",
    "            \"zenith\": info.zenith_angle,\n",
    "            \"science_program\": info.science_program,\n",
    "            \"jd\": float(jd_start),\n",
    "            \"mjd\": float(mjd_start),\n",
    "        }\n",
    "        rows.append(row)\n",
    "\n",
    "    except ValueError as e:\n",
    "        print(f\"Erreur de valeur : {e}\")\n",
    "    except FileNotFoundError as e:\n",
    "        print(f\"Fichier introuvable : {e}\")\n",
    "    except Exception as e:\n",
    "        print(f\"Erreur inattendue : {type(e).__name__} - {e}\")\n",
    "        print(f\">>>   Unexpected error at row {count}:\", sys.exc_info()[0])\n",
    "        traceback.print_exc()  # affiche la stack trace complète"
   ]
  },
  {
   "cell_type": "code",
   "execution_count": null,
   "id": "e8085e8c-c771-43f9-9e29-d42885493e88",
   "metadata": {
    "execution": {
     "iopub.execute_input": "2025-06-04T17:09:47.055225Z",
     "iopub.status.busy": "2025-06-04T17:09:47.055076Z",
     "iopub.status.idle": "2025-06-04T17:09:47.098647Z",
     "shell.execute_reply": "2025-06-04T17:09:47.098156Z",
     "shell.execute_reply.started": "2025-06-04T17:09:47.055209Z"
    }
   },
   "outputs": [],
   "source": [
    "# Création finale du DataFrame\n",
    "df_exposure = pd.DataFrame(rows)"
   ]
  },
  {
   "cell_type": "code",
   "execution_count": null,
   "id": "c9c0acb5-6827-411d-ae6f-e71fb7bd9974",
   "metadata": {
    "execution": {
     "iopub.execute_input": "2025-06-04T17:09:47.099866Z",
     "iopub.status.busy": "2025-06-04T17:09:47.099304Z",
     "iopub.status.idle": "2025-06-04T17:09:47.116029Z",
     "shell.execute_reply": "2025-06-04T17:09:47.115630Z",
     "shell.execute_reply.started": "2025-06-04T17:09:47.099831Z"
    }
   },
   "outputs": [],
   "source": [
    "df_exposure"
   ]
  },
  {
   "cell_type": "code",
   "execution_count": null,
   "id": "55855b74-0407-41b7-a4c2-623d6c4898ed",
   "metadata": {
    "execution": {
     "iopub.execute_input": "2025-06-04T17:09:47.116861Z",
     "iopub.status.busy": "2025-06-04T17:09:47.116616Z",
     "iopub.status.idle": "2025-06-04T17:09:47.119055Z",
     "shell.execute_reply": "2025-06-04T17:09:47.118670Z",
     "shell.execute_reply.started": "2025-06-04T17:09:47.116833Z"
    }
   },
   "outputs": [],
   "source": [
    "# df_exposure = df_exposure.astype({\"id\": int,'day_obs': int,'seq_num':int})"
   ]
  },
  {
   "cell_type": "markdown",
   "id": "57fbfb69-c000-4264-87d5-ea498c5d8150",
   "metadata": {},
   "source": [
    "## Select science exposures"
   ]
  },
  {
   "cell_type": "code",
   "execution_count": null,
   "id": "bf35edd5-74e0-40c1-a641-69b85dd843f1",
   "metadata": {
    "execution": {
     "iopub.execute_input": "2025-06-04T17:09:47.120011Z",
     "iopub.status.busy": "2025-06-04T17:09:47.119570Z",
     "iopub.status.idle": "2025-06-04T17:09:47.134391Z",
     "shell.execute_reply": "2025-06-04T17:09:47.134010Z",
     "shell.execute_reply.started": "2025-06-04T17:09:47.119990Z"
    }
   },
   "outputs": [],
   "source": [
    "df_science = df_exposure[df_exposure.type == \"science\"]\n",
    "df_science.reset_index(drop=True, inplace=True)"
   ]
  },
  {
   "cell_type": "markdown",
   "id": "116e56be-d4de-49fe-93d4-133cf21d1b06",
   "metadata": {},
   "source": [
    "## Add Tract-Patches"
   ]
  },
  {
   "cell_type": "code",
   "execution_count": null,
   "id": "9097e89e-b006-40fa-866a-deca00ed57f1",
   "metadata": {
    "execution": {
     "iopub.execute_input": "2025-06-04T17:09:47.135328Z",
     "iopub.status.busy": "2025-06-04T17:09:47.135015Z",
     "iopub.status.idle": "2025-06-04T17:09:47.147027Z",
     "shell.execute_reply": "2025-06-04T17:09:47.146674Z",
     "shell.execute_reply.started": "2025-06-04T17:09:47.135294Z"
    }
   },
   "outputs": [],
   "source": [
    "df=df_science.copy()\n",
    "df[\"band\"] = df[\"filter\"].apply(lambda x : x.split(\"_\")[0])"
   ]
  },
  {
   "cell_type": "code",
   "execution_count": null,
   "id": "f9b2b2c4-d0ca-4ba9-af11-9146d1145065",
   "metadata": {
    "execution": {
     "iopub.execute_input": "2025-06-04T17:09:47.147826Z",
     "iopub.status.busy": "2025-06-04T17:09:47.147578Z",
     "iopub.status.idle": "2025-06-04T17:09:47.157799Z",
     "shell.execute_reply": "2025-06-04T17:09:47.157439Z",
     "shell.execute_reply.started": "2025-06-04T17:09:47.147801Z"
    }
   },
   "outputs": [],
   "source": [
    "#df_with_tract_patch = add_tract_patch(df, butler)"
   ]
  },
  {
   "cell_type": "code",
   "execution_count": null,
   "id": "9c502d20-2a4f-4997-b8f2-962e441d6cb7",
   "metadata": {
    "execution": {
     "iopub.execute_input": "2025-06-04T17:09:47.162014Z",
     "iopub.status.busy": "2025-06-04T17:09:47.161752Z",
     "iopub.status.idle": "2025-06-04T17:09:47.170889Z",
     "shell.execute_reply": "2025-06-04T17:09:47.170523Z",
     "shell.execute_reply.started": "2025-06-04T17:09:47.162000Z"
    }
   },
   "outputs": [],
   "source": [
    "def get_tract_patch(row, skymap):\n",
    "    if pd.isna(row['ra']) or pd.isna(row['dec']):\n",
    "        return pd.Series({\"tract\": None, \"patch\": None})\n",
    "    \n",
    "    target_point = SpherePoint(row['ra'], row['dec'], degrees)\n",
    "\n",
    "    tract_info = skymap.findTract(target_point)\n",
    "    patch_info = tract_info.findPatch(target_point)\n",
    "    tractNbSel = tract_info.getId()\n",
    "    patchNbSel =  patch_info.getSequentialIndex()\n",
    "    patch_index_str = f\"{patch_info.getIndex()[0]},{patch_info.getIndex()[1]}\"\n",
    "   \n",
    "    \n",
    "    return pd.Series({\"tract\":   tractNbSel, \"patch\":  patchNbSel, \"patch_str\": patch_index_str})\n"
   ]
  },
  {
   "cell_type": "code",
   "execution_count": null,
   "id": "033b645b-ef29-4f3a-b0f0-6d906ee8970c",
   "metadata": {
    "execution": {
     "iopub.execute_input": "2025-06-04T17:09:47.171685Z",
     "iopub.status.busy": "2025-06-04T17:09:47.171411Z",
     "iopub.status.idle": "2025-06-04T17:09:47.688711Z",
     "shell.execute_reply": "2025-06-04T17:09:47.688235Z",
     "shell.execute_reply.started": "2025-06-04T17:09:47.171656Z"
    }
   },
   "outputs": [],
   "source": [
    "df = df.copy()\n",
    "df[['tract', 'patch', \"patch_str\"]] = df.apply(get_tract_patch, axis=1, args=(skymap,))"
   ]
  },
  {
   "cell_type": "code",
   "execution_count": null,
   "id": "05048d62-0fd8-4fa1-bd00-4b195e9e09bc",
   "metadata": {
    "execution": {
     "iopub.execute_input": "2025-06-04T17:09:47.689698Z",
     "iopub.status.busy": "2025-06-04T17:09:47.689353Z",
     "iopub.status.idle": "2025-06-04T17:09:47.704631Z",
     "shell.execute_reply": "2025-06-04T17:09:47.704223Z",
     "shell.execute_reply.started": "2025-06-04T17:09:47.689668Z"
    }
   },
   "outputs": [],
   "source": [
    "df"
   ]
  },
  {
   "cell_type": "code",
   "execution_count": null,
   "id": "08bcb87e-6158-471c-bce9-5e21a747d367",
   "metadata": {
    "execution": {
     "iopub.execute_input": "2025-06-04T17:09:47.705654Z",
     "iopub.status.busy": "2025-06-04T17:09:47.705265Z",
     "iopub.status.idle": "2025-06-04T17:09:47.714567Z",
     "shell.execute_reply": "2025-06-04T17:09:47.714206Z",
     "shell.execute_reply.started": "2025-06-04T17:09:47.705626Z"
    }
   },
   "outputs": [],
   "source": [
    "df[\"tag\"] = df[\"tract\"].astype(str) + \"_\" + df[\"target\"]"
   ]
  },
  {
   "cell_type": "code",
   "execution_count": null,
   "id": "2677961f-1c77-4d84-9320-38093b87b27c",
   "metadata": {
    "execution": {
     "iopub.execute_input": "2025-06-04T17:09:47.715528Z",
     "iopub.status.busy": "2025-06-04T17:09:47.715135Z",
     "iopub.status.idle": "2025-06-04T17:09:47.727761Z",
     "shell.execute_reply": "2025-06-04T17:09:47.727387Z",
     "shell.execute_reply.started": "2025-06-04T17:09:47.715496Z"
    }
   },
   "outputs": [],
   "source": [
    "df['tag'].unique()"
   ]
  },
  {
   "cell_type": "code",
   "execution_count": null,
   "id": "81808966-bc3a-41c5-9658-34f2ef44392a",
   "metadata": {
    "execution": {
     "iopub.execute_input": "2025-06-04T17:09:47.728693Z",
     "iopub.status.busy": "2025-06-04T17:09:47.728441Z",
     "iopub.status.idle": "2025-06-04T17:09:47.742923Z",
     "shell.execute_reply": "2025-06-04T17:09:47.742544Z",
     "shell.execute_reply.started": "2025-06-04T17:09:47.728665Z"
    }
   },
   "outputs": [],
   "source": [
    "df[\"target\"].unique()"
   ]
  },
  {
   "cell_type": "code",
   "execution_count": null,
   "id": "f03f334b-542e-4d9f-a3ea-091c593f9a35",
   "metadata": {
    "execution": {
     "iopub.execute_input": "2025-06-04T17:09:47.743950Z",
     "iopub.status.busy": "2025-06-04T17:09:47.743509Z",
     "iopub.status.idle": "2025-06-04T17:09:47.753714Z",
     "shell.execute_reply": "2025-06-04T17:09:47.753232Z",
     "shell.execute_reply.started": "2025-06-04T17:09:47.743915Z"
    }
   },
   "outputs": [],
   "source": [
    "df[\"science_program\"].unique()"
   ]
  },
  {
   "cell_type": "markdown",
   "id": "f626e4a7-8a7a-4283-a90e-539b66b999f7",
   "metadata": {
    "execution": {
     "iopub.execute_input": "2025-06-01T11:33:34.632823Z",
     "iopub.status.busy": "2025-06-01T11:33:34.632576Z",
     "iopub.status.idle": "2025-06-01T11:33:34.999987Z",
     "shell.execute_reply": "2025-06-01T11:33:34.999383Z",
     "shell.execute_reply.started": "2025-06-01T11:33:34.632808Z"
    }
   },
   "source": [
    "## Start plotting"
   ]
  },
  {
   "cell_type": "markdown",
   "id": "7b67743a-d4e0-49e5-adc0-255455a7f12d",
   "metadata": {},
   "source": [
    "### Plot tags"
   ]
  },
  {
   "cell_type": "code",
   "execution_count": null,
   "id": "fd8f41e7-07fb-46d1-ad44-66c842bfc300",
   "metadata": {
    "execution": {
     "iopub.execute_input": "2025-06-04T17:09:47.754390Z",
     "iopub.status.busy": "2025-06-04T17:09:47.754232Z",
     "iopub.status.idle": "2025-06-04T17:09:47.763982Z",
     "shell.execute_reply": "2025-06-04T17:09:47.763655Z",
     "shell.execute_reply.started": "2025-06-04T17:09:47.754375Z"
    }
   },
   "outputs": [],
   "source": [
    "# 1. Trier le DataFrame par numéro de tract\n",
    "df = df.sort_values(\"tract\")"
   ]
  },
  {
   "cell_type": "code",
   "execution_count": null,
   "id": "4f6853ea-65aa-4777-a65c-46cdf7d39b50",
   "metadata": {
    "execution": {
     "iopub.execute_input": "2025-06-04T17:09:47.764519Z",
     "iopub.status.busy": "2025-06-04T17:09:47.764385Z",
     "iopub.status.idle": "2025-06-04T17:09:47.771204Z",
     "shell.execute_reply": "2025-06-04T17:09:47.770877Z",
     "shell.execute_reply.started": "2025-06-04T17:09:47.764505Z"
    }
   },
   "outputs": [],
   "source": [
    "# 2. Créer la colonne tag après le tri\n",
    "df[\"tag\"] = df[\"tract\"].astype(str) + \"_\" + df[\"target\"]"
   ]
  },
  {
   "cell_type": "code",
   "execution_count": null,
   "id": "4f038834-a86d-4b32-9aff-568638d5dbbb",
   "metadata": {
    "execution": {
     "iopub.execute_input": "2025-06-04T17:09:47.771717Z",
     "iopub.status.busy": "2025-06-04T17:09:47.771587Z",
     "iopub.status.idle": "2025-06-04T17:09:47.779788Z",
     "shell.execute_reply": "2025-06-04T17:09:47.779476Z",
     "shell.execute_reply.started": "2025-06-04T17:09:47.771704Z"
    }
   },
   "outputs": [],
   "source": [
    "# 3. Grouper par tag et band, et compter\n",
    "grouped_tag = df.groupby(['tag', 'band']).size().reset_index(name='count')\n",
    "\n",
    "# 4. Définir l'ordre des tags selon l'ordre dans df trié\n",
    "tag_order = df[\"tag\"].drop_duplicates().tolist()"
   ]
  },
  {
   "cell_type": "code",
   "execution_count": null,
   "id": "c54c1166-8e7a-411b-88b0-590543bc96f4",
   "metadata": {
    "execution": {
     "iopub.execute_input": "2025-06-04T17:09:47.780294Z",
     "iopub.status.busy": "2025-06-04T17:09:47.780165Z",
     "iopub.status.idle": "2025-06-04T17:09:47.789914Z",
     "shell.execute_reply": "2025-06-04T17:09:47.789613Z",
     "shell.execute_reply.started": "2025-06-04T17:09:47.780280Z"
    }
   },
   "outputs": [],
   "source": [
    "# Force band order\n",
    "band_order = ['u', 'g', 'r', 'i', 'z', 'y']\n",
    "color_map = {\n",
    "    'u': 'blue',\n",
    "    'g': 'green',\n",
    "    'r': 'red',\n",
    "    'i': 'orange',\n",
    "    'z': 'gray',\n",
    "    'y': 'black'\n",
    "}"
   ]
  },
  {
   "cell_type": "code",
   "execution_count": null,
   "id": "136ff610-b4a3-495e-bf53-98785196a442",
   "metadata": {
    "execution": {
     "iopub.execute_input": "2025-06-04T17:09:47.790407Z",
     "iopub.status.busy": "2025-06-04T17:09:47.790281Z",
     "iopub.status.idle": "2025-06-04T17:09:48.400252Z",
     "shell.execute_reply": "2025-06-04T17:09:48.399877Z",
     "shell.execute_reply.started": "2025-06-04T17:09:47.790394Z"
    }
   },
   "outputs": [],
   "source": [
    "# 6. Tracer le barplot\n",
    "plt.figure(figsize=(20, 8))\n",
    "sns.barplot(\n",
    "    data=grouped_tag,\n",
    "    x='tag',\n",
    "    y='count',\n",
    "    hue='band',\n",
    "    hue_order=band_order,\n",
    "    palette=color_map,\n",
    "    order=tag_order  # ordre des tags triés par tract\n",
    ")\n",
    "\n",
    "plt.xlabel(\"Visited fields / tract\")\n",
    "plt.ylabel(\"Number of visits per band\")\n",
    "plt.title(\"Number of visits per band in each tract\",fontsize=20,fontweight=\"bold\")\n",
    "plt.xticks(rotation=45, ha='right')\n",
    "plt.legend(title=\"Band\")\n",
    "plt.tight_layout()\n",
    "plt.show()\n"
   ]
  },
  {
   "cell_type": "code",
   "execution_count": null,
   "id": "b890ab16-d9f8-4d45-b1a3-bd6bc1f3da30",
   "metadata": {
    "execution": {
     "iopub.execute_input": "2025-06-04T17:09:48.400893Z",
     "iopub.status.busy": "2025-06-04T17:09:48.400737Z",
     "iopub.status.idle": "2025-06-04T17:09:49.019853Z",
     "shell.execute_reply": "2025-06-04T17:09:49.019259Z",
     "shell.execute_reply.started": "2025-06-04T17:09:48.400876Z"
    }
   },
   "outputs": [],
   "source": [
    "# 6. Tracer le barplot\n",
    "plt.figure(figsize=(8, 20))\n",
    "sns.barplot(\n",
    "    data=grouped_tag,\n",
    "    x='count',\n",
    "    y='tag',\n",
    "    hue='band',\n",
    "    hue_order=band_order,\n",
    "    palette=color_map,\n",
    "    order=tag_order  # ordre des tags triés par tract\n",
    ")\n",
    "\n",
    "plt.ylabel(\"Visited fields / tract\")\n",
    "plt.xlabel(\"Number of visits per band\")\n",
    "plt.title(\"Number of visits per band in each tract\",fontsize=20,fontweight=\"bold\")\n",
    "#plt.xticks(rotation=45, ha='right')\n",
    "plt.legend(title=\"Band\")\n",
    "plt.tight_layout()\n",
    "plt.show()"
   ]
  },
  {
   "cell_type": "markdown",
   "id": "004e653a-97e0-447b-9be4-36392d51a420",
   "metadata": {
    "execution": {
     "iopub.execute_input": "2025-06-04T16:50:29.619811Z",
     "iopub.status.busy": "2025-06-04T16:50:29.619064Z",
     "iopub.status.idle": "2025-06-04T16:50:29.623102Z",
     "shell.execute_reply": "2025-06-04T16:50:29.622669Z",
     "shell.execute_reply.started": "2025-06-04T16:50:29.619793Z"
    }
   },
   "source": [
    "### Focus in selected TRACTSEL"
   ]
  },
  {
   "cell_type": "code",
   "execution_count": null,
   "id": "f93bccfe-8f09-4bc8-96c0-a8df524e10da",
   "metadata": {
    "execution": {
     "iopub.execute_input": "2025-06-04T17:09:49.021115Z",
     "iopub.status.busy": "2025-06-04T17:09:49.020796Z",
     "iopub.status.idle": "2025-06-04T17:09:49.030056Z",
     "shell.execute_reply": "2025-06-04T17:09:49.029297Z",
     "shell.execute_reply.started": "2025-06-04T17:09:49.021075Z"
    }
   },
   "outputs": [],
   "source": [
    "df_tract = df[df[\"tract\"] == TRACTSEL]\n",
    "\n",
    "# 3. Grouper par tag et band, et compter\n",
    "grouped_tag_tract = df_tract.groupby(['tag', 'band']).size().reset_index(name='count')\n",
    "\n",
    "# 4. Définir l'ordre des tags selon l'ordre dans df trié\n",
    "tag_order = df_tract[\"tag\"].drop_duplicates().tolist()"
   ]
  },
  {
   "cell_type": "code",
   "execution_count": null,
   "id": "5873a5d8-b303-404c-aa85-1878e8a0abc8",
   "metadata": {
    "execution": {
     "iopub.execute_input": "2025-06-04T17:09:49.030892Z",
     "iopub.status.busy": "2025-06-04T17:09:49.030692Z",
     "iopub.status.idle": "2025-06-04T17:09:49.225034Z",
     "shell.execute_reply": "2025-06-04T17:09:49.224585Z",
     "shell.execute_reply.started": "2025-06-04T17:09:49.030864Z"
    }
   },
   "outputs": [],
   "source": [
    "# 6. Tracer le barplot\n",
    "plt.figure(figsize=(10, 6))\n",
    "sns.barplot(\n",
    "    data=grouped_tag_tract,\n",
    "    x='tag',\n",
    "    y='count',\n",
    "    hue='band',\n",
    "    hue_order=band_order,\n",
    "    palette=color_map,\n",
    "    order=tag_order  # ordre des tags triés par tract\n",
    ")\n",
    "\n",
    "plt.xlabel(\"Visited fields / tract\")\n",
    "plt.ylabel(\"Number of visits per band\")\n",
    "plt.title(\"Number of visits per band in each tract\",fontsize=20,fontweight=\"bold\")\n",
    "plt.xticks(rotation=45, ha='right')\n",
    "plt.legend(title=\"Band\")\n",
    "plt.tight_layout()\n",
    "plt.show()\n"
   ]
  },
  {
   "cell_type": "markdown",
   "id": "e56c4145-85aa-4b7a-ab3f-f91f37ddcbe8",
   "metadata": {},
   "source": [
    "### Plots histograms with the number of visits in tract and patches"
   ]
  },
  {
   "cell_type": "code",
   "execution_count": null,
   "id": "8ad23435-5269-4a93-b117-96332bdbca34",
   "metadata": {
    "execution": {
     "iopub.execute_input": "2025-06-04T17:09:49.225729Z",
     "iopub.status.busy": "2025-06-04T17:09:49.225574Z",
     "iopub.status.idle": "2025-06-04T17:09:49.230335Z",
     "shell.execute_reply": "2025-06-04T17:09:49.229946Z",
     "shell.execute_reply.started": "2025-06-04T17:09:49.225713Z"
    }
   },
   "outputs": [],
   "source": [
    "# Grouper et compter\n",
    "grouped = df.groupby(['tract', 'patch', 'band']).size().reset_index(name='count')"
   ]
  },
  {
   "cell_type": "code",
   "execution_count": null,
   "id": "0aa77260-4e8c-4f9e-927e-67f5a6777a87",
   "metadata": {
    "execution": {
     "iopub.execute_input": "2025-06-04T17:09:49.230913Z",
     "iopub.status.busy": "2025-06-04T17:09:49.230772Z",
     "iopub.status.idle": "2025-06-04T17:09:49.244585Z",
     "shell.execute_reply": "2025-06-04T17:09:49.244196Z",
     "shell.execute_reply.started": "2025-06-04T17:09:49.230898Z"
    }
   },
   "outputs": [],
   "source": [
    "#grouped['tract_patch'] = grouped['tract'].astype(str) + '_' + grouped['patch_str']\n",
    "grouped['tract_patch'] = grouped['tract'].astype(str) + '_' + grouped['patch'].astype(str)"
   ]
  },
  {
   "cell_type": "code",
   "execution_count": null,
   "id": "583f9bcc-1e7c-4668-8d56-773cb7379969",
   "metadata": {
    "execution": {
     "iopub.execute_input": "2025-06-04T17:09:49.245328Z",
     "iopub.status.busy": "2025-06-04T17:09:49.245050Z",
     "iopub.status.idle": "2025-06-04T17:09:50.692383Z",
     "shell.execute_reply": "2025-06-04T17:09:50.691922Z",
     "shell.execute_reply.started": "2025-06-04T17:09:49.245312Z"
    }
   },
   "outputs": [],
   "source": [
    "plt.figure(figsize=(20, 6))\n",
    "sns.barplot(\n",
    "    data=grouped,\n",
    "    x='tract_patch',\n",
    "    y='count',\n",
    "    hue='band',\n",
    "    hue_order=band_order,\n",
    "    palette=color_map\n",
    ")\n",
    "\n",
    "plt.xlabel(\"Tract_Patch\")\n",
    "plt.ylabel(\"Number of visits per bands\")\n",
    "plt.title(\"Number of visits per bands in each (tract, patch)\",fontsize=20,fontweight=\"bold\")\n",
    "plt.xticks(rotation=45, ha='right')\n",
    "plt.legend(title=\"Band\")\n",
    "plt.tight_layout()\n",
    "plt.show()"
   ]
  },
  {
   "cell_type": "code",
   "execution_count": null,
   "id": "99889351-fb49-4189-bb4c-96d1ea2a67c2",
   "metadata": {
    "execution": {
     "iopub.execute_input": "2025-06-04T17:09:50.693220Z",
     "iopub.status.busy": "2025-06-04T17:09:50.692946Z",
     "iopub.status.idle": "2025-06-04T17:09:52.252039Z",
     "shell.execute_reply": "2025-06-04T17:09:52.251129Z",
     "shell.execute_reply.started": "2025-06-04T17:09:50.693203Z"
    }
   },
   "outputs": [],
   "source": [
    "plt.figure(figsize=(10, max(6, len(grouped['tract_patch'].unique()) * 0.8)))  # Adapter la hauteur\n",
    "\n",
    "sns.barplot(\n",
    "    data=grouped,\n",
    "    y='tract_patch',  # axe Y = les (tract, patch)\n",
    "    x='count',        # axe X = nombre de visites\n",
    "    hue='band',\n",
    "    hue_order=band_order,\n",
    "    palette=color_map\n",
    ")\n",
    "\n",
    "plt.ylabel(\"Tract_Patch\")\n",
    "plt.xlabel(\"Number of visits per bands\")\n",
    "plt.title(\"Number of visits per bands in field of view (tract, patch)\")\n",
    "plt.legend(title=\"Band\", bbox_to_anchor=(1.05, 1), loc='upper left')\n",
    "plt.grid()\n",
    "plt.tight_layout()\n",
    "plt.show()\n"
   ]
  },
  {
   "cell_type": "markdown",
   "id": "e085a91b-1520-4ccf-b32d-c431909187e6",
   "metadata": {},
   "source": [
    "### Select tractsel"
   ]
  },
  {
   "cell_type": "code",
   "execution_count": null,
   "id": "1a22b678-7cb1-488b-a4f6-8833c1524937",
   "metadata": {
    "execution": {
     "iopub.execute_input": "2025-06-04T17:09:52.253483Z",
     "iopub.status.busy": "2025-06-04T17:09:52.253153Z",
     "iopub.status.idle": "2025-06-04T17:09:52.261576Z",
     "shell.execute_reply": "2025-06-04T17:09:52.261155Z",
     "shell.execute_reply.started": "2025-06-04T17:09:52.253452Z"
    }
   },
   "outputs": [],
   "source": [
    "df_tract = df[df[\"tract\"] == TRACTSEL]\n",
    "df_tract = df_tract.sort_values(\"patch\")\n",
    "\n",
    "# Grouper et compter\n",
    "grouped_tag_tract= df_tract.groupby(['tract', 'patch', 'band']).size().reset_index(name='count')\n",
    "\n",
    "grouped_tag_tract['tract_patch'] = grouped_tag_tract['tract'].astype(str) + '_' + grouped_tag_tract['patch'].astype(str)\n",
    "\n",
    "\n",
    "# 4. Définir l'ordre des tags selon l'ordre dans df trié\n",
    "tag_order = df_tract[\"tag\"].drop_duplicates().tolist()"
   ]
  },
  {
   "cell_type": "code",
   "execution_count": null,
   "id": "d1f3eb34-8e9f-4e65-a93c-cbf17269379a",
   "metadata": {},
   "outputs": [],
   "source": []
  },
  {
   "cell_type": "code",
   "execution_count": null,
   "id": "ee82c3e9-90a2-4b5b-9d37-fcd41cde0360",
   "metadata": {
    "execution": {
     "iopub.execute_input": "2025-06-04T17:09:52.262349Z",
     "iopub.status.busy": "2025-06-04T17:09:52.262204Z",
     "iopub.status.idle": "2025-06-04T17:09:52.530999Z",
     "shell.execute_reply": "2025-06-04T17:09:52.530483Z",
     "shell.execute_reply.started": "2025-06-04T17:09:52.262334Z"
    }
   },
   "outputs": [],
   "source": [
    "plt.figure(figsize=(10, 6))\n",
    "sns.barplot(\n",
    "    data=grouped_tag_tract,\n",
    "    x='tract_patch',\n",
    "    y='count',\n",
    "    hue='band',\n",
    "    hue_order=band_order,\n",
    "    palette=color_map\n",
    ")\n",
    "\n",
    "plt.xlabel(\"Tract_Patch\")\n",
    "plt.ylabel(\"Number of visits per bands\")\n",
    "plt.title(f\"Number of visits per bands in each ({TRACTSEL}, patch)\",fontsize=20,fontweight=\"bold\")\n",
    "plt.xticks(rotation=45, ha='right')\n",
    "plt.legend(title=\"Band\")\n",
    "plt.tight_layout()\n",
    "plt.show()"
   ]
  },
  {
   "cell_type": "markdown",
   "id": "ac652254-f57b-4b6b-9402-8d54e9bc745c",
   "metadata": {},
   "source": [
    "## Which tract,patch has the maximum number of y visits"
   ]
  },
  {
   "cell_type": "code",
   "execution_count": null,
   "id": "bcc89941-e3ea-4f02-a250-0d3c6c3b6221",
   "metadata": {
    "execution": {
     "iopub.execute_input": "2025-06-04T17:09:52.531817Z",
     "iopub.status.busy": "2025-06-04T17:09:52.531552Z",
     "iopub.status.idle": "2025-06-04T17:09:52.538025Z",
     "shell.execute_reply": "2025-06-04T17:09:52.537626Z",
     "shell.execute_reply.started": "2025-06-04T17:09:52.531800Z"
    }
   },
   "outputs": [],
   "source": [
    "grouped"
   ]
  },
  {
   "cell_type": "code",
   "execution_count": null,
   "id": "a2eb34b8-a352-4b2b-a6dd-bed2d6fa4c10",
   "metadata": {
    "execution": {
     "iopub.execute_input": "2025-06-04T17:09:52.538647Z",
     "iopub.status.busy": "2025-06-04T17:09:52.538506Z",
     "iopub.status.idle": "2025-06-04T17:09:52.554002Z",
     "shell.execute_reply": "2025-06-04T17:09:52.553451Z",
     "shell.execute_reply.started": "2025-06-04T17:09:52.538633Z"
    }
   },
   "outputs": [],
   "source": [
    "# Filtrer la bande 'y'\n",
    "df_y = df[df['band'] == 'z']\n",
    "\n",
    "# Grouper par tract et patch\n",
    "grouped_y = df_y.groupby(['tract', 'patch']).size().reset_index(name='count')\n",
    "\n",
    "# Trouver le max\n",
    "max_row = grouped_y.loc[grouped_y['count'].idxmax()]\n",
    "\n",
    "tract_max = max_row['tract']\n",
    "patch_max = max_row['patch']"
   ]
  },
  {
   "cell_type": "code",
   "execution_count": null,
   "id": "0effed76-9741-4975-bc99-a0d09736ca22",
   "metadata": {
    "execution": {
     "iopub.execute_input": "2025-06-04T17:09:52.554701Z",
     "iopub.status.busy": "2025-06-04T17:09:52.554440Z",
     "iopub.status.idle": "2025-06-04T17:09:52.566541Z",
     "shell.execute_reply": "2025-06-04T17:09:52.566175Z",
     "shell.execute_reply.started": "2025-06-04T17:09:52.554687Z"
    }
   },
   "outputs": [],
   "source": [
    "print(f\"Tract: {max_row['tract']}, Patch: {max_row['patch']}, Nombre de visites en bande y: {max_row['count']}\")"
   ]
  },
  {
   "cell_type": "markdown",
   "id": "ada9bd0e-951c-4cb9-a7d1-ee717d4a337f",
   "metadata": {},
   "source": [
    "## Time sequences of arrival time in selected tract-patch"
   ]
  },
  {
   "cell_type": "code",
   "execution_count": null,
   "id": "0920fec5-c7bd-4519-8d0c-5f6adc481b2d",
   "metadata": {
    "execution": {
     "iopub.execute_input": "2025-06-04T17:09:52.567186Z",
     "iopub.status.busy": "2025-06-04T17:09:52.567059Z",
     "iopub.status.idle": "2025-06-04T17:09:52.573301Z",
     "shell.execute_reply": "2025-06-04T17:09:52.572948Z",
     "shell.execute_reply.started": "2025-06-04T17:09:52.567173Z"
    }
   },
   "outputs": [],
   "source": [
    "df_sel = df[(df['tract'] == tract_max) & (df['patch'] == patch_max)]"
   ]
  },
  {
   "cell_type": "code",
   "execution_count": null,
   "id": "42bc629e-b463-49cf-9446-e1dfee2e8b8c",
   "metadata": {
    "execution": {
     "iopub.execute_input": "2025-06-04T17:09:52.573863Z",
     "iopub.status.busy": "2025-06-04T17:09:52.573731Z",
     "iopub.status.idle": "2025-06-04T17:09:52.973680Z",
     "shell.execute_reply": "2025-06-04T17:09:52.973189Z",
     "shell.execute_reply.started": "2025-06-04T17:09:52.573850Z"
    }
   },
   "outputs": [],
   "source": [
    "plt.figure(figsize=(16, 6))\n",
    "\n",
    "sns.stripplot(\n",
    "    data=df_sel,\n",
    "    x='mjd',\n",
    "    y='band',\n",
    "    hue='band',  # <- correction\n",
    "    order=band_order,\n",
    "    palette=color_map,\n",
    "    size=10,\n",
    "    alpha=0.7,\n",
    "    dodge=False,\n",
    "    legend=False  # <- évite de doubler les légendes\n",
    ")\n",
    "\n",
    "plt.xlabel(\"MJD\")\n",
    "plt.ylabel(\"Band\")\n",
    "plt.title(f\"Sequence of visits in tract={tract_max}, patch={patch_max}\",fontsize=20,fontweight=\"bold\")\n",
    "plt.grid(True, linestyle='--', alpha=0.5)\n",
    "plt.tight_layout()\n",
    "plt.show()\n"
   ]
  },
  {
   "cell_type": "code",
   "execution_count": null,
   "id": "02300a67-282a-437c-a399-fac7dae2793c",
   "metadata": {
    "execution": {
     "iopub.execute_input": "2025-06-04T17:09:52.974413Z",
     "iopub.status.busy": "2025-06-04T17:09:52.974264Z",
     "iopub.status.idle": "2025-06-04T17:09:53.199385Z",
     "shell.execute_reply": "2025-06-04T17:09:53.198936Z",
     "shell.execute_reply.started": "2025-06-04T17:09:52.974400Z"
    }
   },
   "outputs": [],
   "source": [
    "plt.figure(figsize=(16, 6))\n",
    "\n",
    "# Stripplot : points temporels\n",
    "sns.stripplot(\n",
    "    data=df_sel,\n",
    "    x='mjd',\n",
    "    y='band',\n",
    "    hue='band',\n",
    "    order=band_order,\n",
    "    palette=color_map,\n",
    "    size=12,\n",
    "    alpha=0.6,\n",
    "    dodge=False,\n",
    "    legend=False\n",
    ")\n",
    "\n",
    "# KDE : densité temporelle pour chaque bande\n",
    "for band in band_order:\n",
    "    band_data = df_sel[df_sel['band'] == band]\n",
    "    if len(band_data) > 1:  # KDE a besoin de plus d'un point\n",
    "        sns.kdeplot(\n",
    "            data=band_data,\n",
    "            x='mjd',\n",
    "            bw_adjust=0.5,\n",
    "            color=color_map[band],\n",
    "            label=f\"Density {band}\",\n",
    "            fill=False,\n",
    "            linewidth=1.5\n",
    "        )\n",
    "\n",
    "plt.xlabel(\"MJD\")\n",
    "plt.ylabel(\"Band\",fontsize=20,fontweight=\"bold\")\n",
    "plt.title(f\"Sequence of visits + density per band in tract={tract_max}, patch={patch_max}\",fontsize=20,fontweight=\"bold\")\n",
    "plt.grid(True, linestyle='--', alpha=0.5)\n",
    "plt.tight_layout()\n",
    "plt.legend()\n",
    "plt.show()\n"
   ]
  },
  {
   "cell_type": "code",
   "execution_count": null,
   "id": "671b4a47-940c-4915-afab-9264ddff9ee5",
   "metadata": {
    "execution": {
     "iopub.execute_input": "2025-06-04T17:09:53.200108Z",
     "iopub.status.busy": "2025-06-04T17:09:53.199954Z",
     "iopub.status.idle": "2025-06-04T17:09:53.602740Z",
     "shell.execute_reply": "2025-06-04T17:09:53.602294Z",
     "shell.execute_reply.started": "2025-06-04T17:09:53.200092Z"
    }
   },
   "outputs": [],
   "source": [
    "\n",
    "bands_present = [b for b in band_order if b in df_sel['band'].unique()]\n",
    "n_bands = len(bands_present)\n",
    "\n",
    "fig, axes = plt.subplots(n_bands, 1, figsize=(18, 1.5 * n_bands), sharex=True)\n",
    "\n",
    "for i, band in enumerate(bands_present):\n",
    "    ax = axes[i]\n",
    "    band_data = df_sel[df_sel['band'] == band]\n",
    "\n",
    "    # KDE plot (densité)\n",
    "    if len(band_data) > 1:\n",
    "        sns.kdeplot(\n",
    "            data=band_data,\n",
    "            x='mjd',\n",
    "            bw_adjust=0.5,\n",
    "            fill=True,\n",
    "            color=color_map[band],\n",
    "            alpha=0.3,\n",
    "            ax=ax\n",
    "        )\n",
    "\n",
    "    # Rugplot = traits verticaux aux positions des observations\n",
    "    sns.rugplot(\n",
    "        data=band_data,\n",
    "        x='mjd',\n",
    "        color=color_map[band],\n",
    "        height=0.5,\n",
    "        linewidth=3,\n",
    "        ax=ax\n",
    "    )\n",
    "\n",
    "    ax.set_ylabel(band, rotation=0, labelpad=20, fontsize=18, weight='bold')\n",
    "    ax.grid(True, linestyle='--', alpha=0.3)\n",
    "    ax.set_yticks([])\n",
    "\n",
    "axes[-1].set_xlabel(\"MJD\")\n",
    "fig.suptitle(f\"Séquence temporelle et densité par bande\\n(tract={tract_max}, patch={patch_max})\", fontsize=20,fontweight=\"bold\")\n",
    "plt.tight_layout(rect=[0, 0, 1, 0.97])\n",
    "plt.show()\n"
   ]
  },
  {
   "cell_type": "code",
   "execution_count": null,
   "id": "f7685635-c77f-4080-ba35-f1446076d4cc",
   "metadata": {
    "execution": {
     "iopub.execute_input": "2025-06-04T17:09:53.603481Z",
     "iopub.status.busy": "2025-06-04T17:09:53.603319Z",
     "iopub.status.idle": "2025-06-04T17:09:54.168580Z",
     "shell.execute_reply": "2025-06-04T17:09:54.168130Z",
     "shell.execute_reply.started": "2025-06-04T17:09:53.603464Z"
    }
   },
   "outputs": [],
   "source": [
    "import matplotlib.pyplot as plt\n",
    "import seaborn as sns\n",
    "import numpy as np\n",
    "\n",
    "bands_present = [b for b in band_order if b in df_sel['band'].unique()]\n",
    "n_bands = len(bands_present)\n",
    "\n",
    "fig, axes = plt.subplots(n_bands, 1, figsize=(18, 1.5 * n_bands), sharex=True)\n",
    "\n",
    "for i, band in enumerate(bands_present):\n",
    "    ax = axes[i]\n",
    "    band_data = df_sel[df_sel['band'] == band]\n",
    "    mjds = band_data['mjd'].dropna()\n",
    "\n",
    "    # KDE plot (densité)\n",
    "    if len(mjds) > 1:\n",
    "        sns.kdeplot(\n",
    "            x=mjds,\n",
    "            bw_adjust=0.5,\n",
    "            fill=True,\n",
    "            color=color_map[band],\n",
    "            alpha=0.3,\n",
    "            ax=ax\n",
    "        )\n",
    "\n",
    "    # Rugplot\n",
    "    sns.rugplot(\n",
    "        x=mjds,\n",
    "        color=color_map[band],\n",
    "        height=0.2,\n",
    "        linewidth=2,\n",
    "        ax=ax\n",
    "    )\n",
    "\n",
    "    # Histogramme discret\n",
    "    ax.hist(\n",
    "        mjds,\n",
    "        #bins='auto',                    # nombre de barres (modifiable)\n",
    "        bins=30,                    # nombre de barres (modifiable)\n",
    "        color=color_map[band],\n",
    "        alpha=0.2,\n",
    "        edgecolor=color_map[band],\n",
    "        linewidth=1.0,\n",
    "    )\n",
    "\n",
    "    ax.set_ylabel(band, rotation=0, labelpad=20, fontsize=18, weight='bold')\n",
    "    ax.grid(True, linestyle='--', alpha=0.3)\n",
    "    ax.set_yticks([])\n",
    "\n",
    "axes[-1].set_xlabel(\"MJD\")\n",
    "fig.suptitle(f\"Séquence temporelle, densité & histogramme par bande\\n(tract={tract_max}, patch={patch_max})\", fontsize=20,fontweight=\"bold\")\n",
    "plt.tight_layout(rect=[0, 0, 1, 0.97])\n",
    "plt.show()\n"
   ]
  },
  {
   "cell_type": "code",
   "execution_count": null,
   "id": "4e89bb5c-1e16-461f-8bec-15263beb7077",
   "metadata": {},
   "outputs": [],
   "source": []
  }
 ],
 "metadata": {
  "kernelspec": {
   "display_name": "LSST",
   "language": "python",
   "name": "lsst"
  },
  "language_info": {
   "codemirror_mode": {
    "name": "ipython",
    "version": 3
   },
   "file_extension": ".py",
   "mimetype": "text/x-python",
   "name": "python",
   "nbconvert_exporter": "python",
   "pygments_lexer": "ipython3",
   "version": "3.12.10"
  }
 },
 "nbformat": 4,
 "nbformat_minor": 5
}
