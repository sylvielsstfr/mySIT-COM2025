{
 "cells": [
  {
   "cell_type": "markdown",
   "id": "e5f85ebc-4388-4654-9bed-2c435ce91959",
   "metadata": {},
   "source": [
    "# Strong Lens in ECDFS location\n",
    "\n",
    "- author Sylvie Dagoret-Campagne\n",
    "- creation date 2025-06-02\n",
    "- last update 2025-06-02\n"
   ]
  },
  {
   "cell_type": "markdown",
   "id": "34a502d3-af58-4cf2-92b1-f81236dc7653",
   "metadata": {},
   "source": [
    "## Import"
   ]
  },
  {
   "cell_type": "code",
   "execution_count": null,
   "id": "01f4a7f9-d12d-4bf3-85d6-fe8c6bb30ca9",
   "metadata": {
    "execution": {
     "iopub.execute_input": "2025-06-02T20:22:39.235473Z",
     "iopub.status.busy": "2025-06-02T20:22:39.235348Z",
     "iopub.status.idle": "2025-06-02T20:22:41.310214Z",
     "shell.execute_reply": "2025-06-02T20:22:41.309725Z",
     "shell.execute_reply.started": "2025-06-02T20:22:39.235459Z"
    },
    "tags": []
   },
   "outputs": [],
   "source": [
    "import numpy as np\n",
    "import pandas as pd\n",
    "import matplotlib\n",
    "import matplotlib.pyplot as plt\n",
    "from matplotlib import cm\n",
    "from mpl_toolkits.axes_grid1 import make_axes_locatable\n",
    "\n",
    "# import lsst.daf.butler as dafButler\n",
    "from lsst.daf.butler import Butler\n",
    "\n",
    "import lsst.geom as geom\n",
    "from lsst.geom import SpherePoint, degrees\n",
    "import lsst.afw.display as afwDisplay\n",
    "\n",
    "from lsst.skymap import PatchInfo, Index2D"
   ]
  },
  {
   "cell_type": "code",
   "execution_count": null,
   "id": "12729ea1-4269-4889-8f7c-b035f3fb2597",
   "metadata": {
    "execution": {
     "iopub.execute_input": "2025-06-02T20:22:41.312498Z",
     "iopub.status.busy": "2025-06-02T20:22:41.312362Z",
     "iopub.status.idle": "2025-06-02T20:22:41.314883Z",
     "shell.execute_reply": "2025-06-02T20:22:41.314515Z",
     "shell.execute_reply.started": "2025-06-02T20:22:41.312483Z"
    }
   },
   "outputs": [],
   "source": [
    "# For Angle conversion\n",
    "from astropy.coordinates import Angle\n",
    "import astropy.units as u"
   ]
  },
  {
   "cell_type": "code",
   "execution_count": null,
   "id": "f297e0ed-308c-46b7-be79-9415cd245bcb",
   "metadata": {
    "execution": {
     "iopub.execute_input": "2025-06-02T20:22:41.315659Z",
     "iopub.status.busy": "2025-06-02T20:22:41.315310Z",
     "iopub.status.idle": "2025-06-02T20:22:41.323484Z",
     "shell.execute_reply": "2025-06-02T20:22:41.322949Z",
     "shell.execute_reply.started": "2025-06-02T20:22:41.315644Z"
    }
   },
   "outputs": [],
   "source": [
    "#%matplotlib widget"
   ]
  },
  {
   "cell_type": "code",
   "execution_count": null,
   "id": "06212855-1aaf-4372-bbc0-41f363735992",
   "metadata": {
    "execution": {
     "iopub.execute_input": "2025-06-02T20:22:41.324087Z",
     "iopub.status.busy": "2025-06-02T20:22:41.323942Z",
     "iopub.status.idle": "2025-06-02T20:22:41.330712Z",
     "shell.execute_reply": "2025-06-02T20:22:41.330300Z",
     "shell.execute_reply.started": "2025-06-02T20:22:41.324074Z"
    }
   },
   "outputs": [],
   "source": [
    "all_bands = [\"u\", \"g\", \"r\", \"i\", \"z\", \"y\"]\n",
    "all_bands_colors = [\"blue\", \"green\", \"red\", \"orange\", \"yellow\", \"purple\"]"
   ]
  },
  {
   "cell_type": "code",
   "execution_count": null,
   "id": "3aa3f265-7ba5-4db4-ae97-a405984d2bfa",
   "metadata": {
    "execution": {
     "iopub.execute_input": "2025-06-02T20:22:41.331322Z",
     "iopub.status.busy": "2025-06-02T20:22:41.331188Z",
     "iopub.status.idle": "2025-06-02T20:22:41.337718Z",
     "shell.execute_reply": "2025-06-02T20:22:41.337352Z",
     "shell.execute_reply.started": "2025-06-02T20:22:41.331309Z"
    }
   },
   "outputs": [],
   "source": [
    "plt.rcParams[\"figure.figsize\"] = (10, 6)\n",
    "plt.rcParams[\"axes.labelsize\"] = \"xx-large\"\n",
    "plt.rcParams[\"axes.titlesize\"] = \"xx-large\"\n",
    "plt.rcParams[\"xtick.labelsize\"] = \"xx-large\"\n",
    "plt.rcParams[\"ytick.labelsize\"] = \"xx-large\""
   ]
  },
  {
   "cell_type": "code",
   "execution_count": null,
   "id": "0806b34a-e45a-4959-8cca-45bed9754ced",
   "metadata": {
    "execution": {
     "iopub.execute_input": "2025-06-02T20:22:41.338491Z",
     "iopub.status.busy": "2025-06-02T20:22:41.338193Z",
     "iopub.status.idle": "2025-06-02T20:22:41.347268Z",
     "shell.execute_reply": "2025-06-02T20:22:41.346783Z",
     "shell.execute_reply.started": "2025-06-02T20:22:41.338477Z"
    }
   },
   "outputs": [],
   "source": [
    "def plot_tract_patches_ra_dec(butler, skymap, tract_id, df_points = None):\n",
    "    \n",
    "    tract_info = skymap[tract_id]\n",
    "    wcs = tract_info.getWcs()\n",
    "\n",
    "    # Dimensions des patches\n",
    "    num_patches_x, num_patches_y = tract_info.getNumPatches()\n",
    "\n",
    "    fig, ax = plt.subplots(figsize=(10, 8))\n",
    "\n",
    "    for y in range(num_patches_y):\n",
    "        for x in range(num_patches_x):\n",
    "            patch_info = tract_info.getPatchInfo((x, y))\n",
    "            patch_bbox = patch_info.getOuterBBox()\n",
    "\n",
    "            # Coins en pixels\n",
    "            corners = [\n",
    "                (patch_bbox.getMinX(), patch_bbox.getMinY()),\n",
    "                (patch_bbox.getMaxX(), patch_bbox.getMinY()),\n",
    "                (patch_bbox.getMaxX(), patch_bbox.getMaxY()),\n",
    "                (patch_bbox.getMinX(), patch_bbox.getMaxY()),\n",
    "            ]\n",
    "\n",
    "            # Conversion pixel -> RA, Dec (pas besoin de .toIcrs())\n",
    "            sky_coords = [wcs.pixelToSky(xp, yp) for xp, yp in corners]\n",
    "            ra = [coord.getRa().asDegrees() for coord in sky_coords]\n",
    "            dec = [coord.getDec().asDegrees() for coord in sky_coords]\n",
    "\n",
    "            # Ferme le polygone\n",
    "            ra.append(ra[0])\n",
    "            dec.append(dec[0])\n",
    "\n",
    "            ax.plot(ra, dec, color=\"blue\", linewidth=0.5)\n",
    "\n",
    "    # Ajout des points (optionnel)\n",
    "    if df_points is not None:\n",
    "        df = df_points[df_points[\"tract\"] == tract_id]  # filtre les points du tract courant\n",
    "        ax.scatter(df[\"ra\"], df[\"dec\"], color=\"red\", marker=\"o\", s=30, label=\"Sources\", zorder=5)\n",
    "\n",
    "        # Optionnel : afficher les noms (ex: df[\"field_name\"])\n",
    "        for _, row in df.iterrows():\n",
    "            ax.text(row[\"ra\"], row[\"dec\"], row[\"field_name\"], fontsize=7, ha='right', va='bottom', color='darkred')\n",
    "\n",
    "    ax.set_xlabel(\"RA [deg]\")\n",
    "    ax.set_ylabel(\"Dec [deg]\")\n",
    "    ax.set_aspect('equal', adjustable='datalim')\n",
    "    ax.set_title(f\"Patches in Tract {tract_id} \")\n",
    "    ax.invert_xaxis()\n",
    "    ax.grid(True)\n",
    "    plt.tight_layout()\n",
    "    plt.show()\n"
   ]
  },
  {
   "cell_type": "code",
   "execution_count": null,
   "id": "e00c9be3-3007-48ea-bec5-57610634c2c6",
   "metadata": {
    "execution": {
     "iopub.execute_input": "2025-06-02T20:22:41.347901Z",
     "iopub.status.busy": "2025-06-02T20:22:41.347770Z",
     "iopub.status.idle": "2025-06-02T20:22:41.356967Z",
     "shell.execute_reply": "2025-06-02T20:22:41.356543Z",
     "shell.execute_reply.started": "2025-06-02T20:22:41.347889Z"
    }
   },
   "outputs": [],
   "source": [
    "def plot_tract_patches_ra_dec(butler, skymap, tract_id, df_points=None):\n",
    "    # Ouvre le Butler\n",
    "    \n",
    "    tract_info = skymap[tract_id]\n",
    "    wcs = tract_info.getWcs()\n",
    "    num_patches_x, num_patches_y = tract_info.getNumPatches()\n",
    "\n",
    "    fig, ax = plt.subplots(figsize=(12, 10))\n",
    "\n",
    "    for y in range(num_patches_y):\n",
    "        for x in range(num_patches_x):\n",
    "            patch_info = tract_info.getPatchInfo((x, y))\n",
    "            patch_seqnum = patch_info.getSequentialIndex()\n",
    "            patch_bbox = patch_info.getOuterBBox()\n",
    "\n",
    "            # Coins du patch\n",
    "            corners = [\n",
    "                (patch_bbox.getMinX(), patch_bbox.getMinY()),\n",
    "                (patch_bbox.getMaxX(), patch_bbox.getMinY()),\n",
    "                (patch_bbox.getMaxX(), patch_bbox.getMaxY()),\n",
    "                (patch_bbox.getMinX(), patch_bbox.getMaxY()),\n",
    "            ]\n",
    "            sky_coords = [wcs.pixelToSky(xp, yp) for xp, yp in corners]\n",
    "            ra = [coord.getRa().asDegrees() for coord in sky_coords]\n",
    "            dec = [coord.getDec().asDegrees() for coord in sky_coords]\n",
    "            ra.append(ra[0])\n",
    "            dec.append(dec[0])\n",
    "            ax.plot(ra, dec, color=\"blue\", linewidth=0.5)\n",
    "\n",
    "            # Centre du patch (en pixels)\n",
    "            center_pixel_x = 0.5 * (patch_bbox.getMinX() + patch_bbox.getMaxX())\n",
    "            center_pixel_y = 0.5 * (patch_bbox.getMinY() + patch_bbox.getMaxY())\n",
    "            center_sky = wcs.pixelToSky(center_pixel_x, center_pixel_y)\n",
    "            center_ra = center_sky.getRa().asDegrees()\n",
    "            center_dec = center_sky.getDec().asDegrees()\n",
    "\n",
    "            # Numéro de patch (x, y)\n",
    "            #ax.text(center_ra, center_dec, f\"{x},{y}\", fontsize=6, ha='center', va='center', color='black')\n",
    "            ax.text(center_ra, center_dec, f\"{patch_seqnum}\", fontsize=10, ha='center', va='center', color='darkgreen')\n",
    "\n",
    "    # Ajout des points (optionnel)\n",
    "    if df_points is not None:\n",
    "        df = df_points[df_points[\"tract\"] == tract_id]\n",
    "        ax.scatter(df[\"ra\"], df[\"dec\"], color=\"red\", marker=\"o\", s=30, label=\"Sources\", zorder=5)\n",
    "\n",
    "        # Optionnel : noms des sources\n",
    "        for _, row in df.iterrows():\n",
    "            ax.text(row[\"ra\"], row[\"dec\"], row[\"field_name\"], fontsize=10, fontweight=\"bold\" ,ha='right', va='bottom', color='darkred')\n",
    "\n",
    "    ax.set_xlabel(\"RA [deg]\")\n",
    "    ax.set_ylabel(\"Dec [deg]\")\n",
    "    ax.set_title(f\"Patches in Tract {tract_id}\")\n",
    "    ax.invert_xaxis()\n",
    "    ax.set_aspect('equal', adjustable='datalim')\n",
    "    ax.grid(True)\n",
    "    ax.legend()\n",
    "    plt.tight_layout()\n",
    "    plt.show()\n"
   ]
  },
  {
   "cell_type": "markdown",
   "id": "f823358e-18b4-4b29-845c-146e40dcf23f",
   "metadata": {},
   "source": [
    "## Config"
   ]
  },
  {
   "cell_type": "code",
   "execution_count": null,
   "id": "7d365042-56eb-4cf7-b9ef-32a0682259c1",
   "metadata": {
    "execution": {
     "iopub.execute_input": "2025-06-02T20:22:41.357729Z",
     "iopub.status.busy": "2025-06-02T20:22:41.357394Z",
     "iopub.status.idle": "2025-06-02T20:22:41.363682Z",
     "shell.execute_reply": "2025-06-02T20:22:41.363266Z",
     "shell.execute_reply.started": "2025-06-02T20:22:41.357715Z"
    }
   },
   "outputs": [],
   "source": [
    "# The output repo is tagged with the Jira ticket number \"DM-40356\":\n",
    "repo = \"/repo/main\"\n",
    "# collection = 'LSSTComCam/runs/DRP/DP1/w_2025_05/DM-48666' # work\n",
    "# collection = 'LSSTComCam/runs/DRP/DP1/w_2025_06/DM-48810' # work\n",
    "collection = \"LSSTComCam/runs/DRP/DP1/w_2025_10/DM-49359\"  # work\n",
    "\n",
    "\n",
    "# bad : crash collection = 'LSSTComCam/runs/DRP/DP1/w_2025_08/DM-49029'\n",
    "\n",
    "# bad : collection = \"LSSTComCam/runs/DRP/20241101_20241211/w_2024_51/DM-48233\"\n",
    "\n",
    "# not working perhaps because I am using w_2025_10 version\n",
    "# bad : no ccd visit collection = \"LSSTComCam/runs/DRP/DP1/w_2025_14/DM-49864\"\n",
    "# bad : no ccd visit collection = 'LSSTComCam/runs/DRP/DP1/w_2025_15/DM-50050'\n",
    "# bad : no cce visit collection = 'LSSTComCam/runs/DRP/DP1/w_2025_14/DM-49864'\n",
    "# bad : no cce visit collection collection = 'LSSTComCam/runs/DRP/DP1/w_2025_13/DM-49751'\n",
    "instrument = \"LSSTComCam\"\n",
    "skymapName = \"lsst_cells_v1\"\n",
    "where_clause = \"instrument = '\" + instrument + \"'\"\n",
    "collectionStr = collection.replace(\"/\", \"_\")\n",
    "BANDSEL = \"r\"  # Most fields were observed in red filter"
   ]
  },
  {
   "cell_type": "code",
   "execution_count": null,
   "id": "35a5264c-8853-4a81-ad25-d240644affdc",
   "metadata": {
    "execution": {
     "iopub.execute_input": "2025-06-02T20:22:41.364420Z",
     "iopub.status.busy": "2025-06-02T20:22:41.364162Z",
     "iopub.status.idle": "2025-06-02T20:22:41.811672Z",
     "shell.execute_reply": "2025-06-02T20:22:41.811096Z",
     "shell.execute_reply.started": "2025-06-02T20:22:41.364407Z"
    }
   },
   "outputs": [],
   "source": [
    "# Initialize the butler repo:\n",
    "butler = Butler(repo, collections=collection)\n",
    "registry = butler.registry"
   ]
  },
  {
   "cell_type": "code",
   "execution_count": null,
   "id": "d6f6935e-461e-40d8-8174-10e7de0eea89",
   "metadata": {
    "execution": {
     "iopub.execute_input": "2025-06-02T20:22:41.812653Z",
     "iopub.status.busy": "2025-06-02T20:22:41.812488Z",
     "iopub.status.idle": "2025-06-02T20:22:42.170307Z",
     "shell.execute_reply": "2025-06-02T20:22:42.169866Z",
     "shell.execute_reply.started": "2025-06-02T20:22:41.812637Z"
    }
   },
   "outputs": [],
   "source": [
    "skymap = butler.get(\"skyMap\", skymap=skymapName, collections=collection)"
   ]
  },
  {
   "cell_type": "code",
   "execution_count": null,
   "id": "74271e57-f8c2-4f1f-8c6c-4c75bae476f8",
   "metadata": {
    "execution": {
     "iopub.execute_input": "2025-06-02T20:22:42.170959Z",
     "iopub.status.busy": "2025-06-02T20:22:42.170816Z",
     "iopub.status.idle": "2025-06-02T20:22:42.718724Z",
     "shell.execute_reply": "2025-06-02T20:22:42.718187Z",
     "shell.execute_reply.started": "2025-06-02T20:22:42.170944Z"
    }
   },
   "outputs": [],
   "source": [
    "camera = butler.get(\"camera\", collections=collection, instrument=instrument)"
   ]
  },
  {
   "cell_type": "markdown",
   "id": "4d88c9d9-db19-412d-8b03-c7f5528e9782",
   "metadata": {},
   "source": [
    "## List of Strong Lenses\n",
    "- article : https://arxiv.org/pdf/1104.0931"
   ]
  },
  {
   "cell_type": "code",
   "execution_count": null,
   "id": "6370b529-31b5-4065-a5a2-9e3163561058",
   "metadata": {
    "execution": {
     "iopub.execute_input": "2025-06-02T20:22:42.719501Z",
     "iopub.status.busy": "2025-06-02T20:22:42.719352Z",
     "iopub.status.idle": "2025-06-02T20:22:42.723401Z",
     "shell.execute_reply": "2025-06-02T20:22:42.723025Z",
     "shell.execute_reply.started": "2025-06-02T20:22:42.719486Z"
    }
   },
   "outputs": [],
   "source": [
    "#15422 44 03:32:38.21 –27:56:53.2 \n",
    "ra1 = \"03:32:38.21 hours\"\n",
    "dec1 = \"-27:56:53.2 degrees\"\n",
    "tile1 = 44\n",
    "\n",
    "#34244 94 03:32:06.45 –27:47:28.6 \n",
    "ra2 = \"03:32:06.45 hours\"\n",
    "dec2 = \"-27:47:28.6 degrees\"\n",
    "tile2 = 94\n",
    "# Je ne trouve pas cette tile ==> FindTileForCutoutGEM\n",
    "tile2 = 32\n",
    "\n",
    "#40173 35 03:33:19.45 –27:44:50.0 \n",
    "ra3 = \"03:33:19.45 hours\"\n",
    "dec3 = \"-27:44:50.0 degrees\"\n",
    "tile3 = 35\n",
    "\n",
    "#43242 45 03:31:55.35 –27:43:23.5 \n",
    "ra4 = \"03:31:55.35 hours\"\n",
    "dec4 = \"-27:43:23.5 degrees\"\n",
    "tile4 = 45\n",
    "\n",
    "#46446 47 03:31:35.94 –27:41:48.2 \n",
    "ra5 = \"03:31:35.94 hours\"\n",
    "dec5 = \"-27:41:48.2 degrees\"\n",
    "tile5 = 47\n",
    "\n",
    "#12589 03:31:24.89 −27:58:07.0\n",
    "ra6 = \"03:31:24.89 hours\"\n",
    "dec6 = \"-27:58:07.0 degrees\"\n",
    "tile6 = 17\n",
    "\n",
    "#43797 03:31:31.74 −27:43:00.8 \n",
    "ra7 = \"03:31:31.74 hours\"\n",
    "dec7 = \"-27:43:00.8 degrees\"\n",
    "tile7 = 47\n",
    "\n",
    "#28294 03:31:50.54 −27:50:28.4 \n",
    "ra8 = \"03:31:50.54 hours\"\n",
    "dec8 = \"-27:50:28.4 degrees\"\n",
    "tile8 = 33\n",
    "\n",
    "#36857 03:31:53.24 −27:46:18.9\n",
    "ra9 = \"03:31:53.24 hours\"\n",
    "dec9 = \"-27:46:18.9 degrees\"\n",
    "tile9 = 38\n",
    "\n",
    "#36714 03:32:59.78 −27:46:26.4 \n",
    "ra10 = \"03:32:59.78 hours\"\n",
    "dec10 = \"-27:46:26.4 degrees\"\n",
    "tile10 = 37\n"
   ]
  },
  {
   "cell_type": "code",
   "execution_count": null,
   "id": "b243b402-58d1-418e-830d-e4772d8d03ee",
   "metadata": {
    "execution": {
     "iopub.execute_input": "2025-06-02T20:22:42.724030Z",
     "iopub.status.busy": "2025-06-02T20:22:42.723890Z",
     "iopub.status.idle": "2025-06-02T20:22:42.742895Z",
     "shell.execute_reply": "2025-06-02T20:22:42.742454Z",
     "shell.execute_reply.started": "2025-06-02T20:22:42.724018Z"
    }
   },
   "outputs": [],
   "source": [
    "ra = Angle(ra10)\n",
    "print(ra.degree)\n",
    "dec = Angle(dec10)\n",
    "print(dec.degree)"
   ]
  },
  {
   "cell_type": "markdown",
   "id": "5db4beba-3082-4754-8e70-26472f1c226c",
   "metadata": {},
   "source": [
    "## List of Sky field of interest"
   ]
  },
  {
   "cell_type": "code",
   "execution_count": null,
   "id": "c74c0da5-2d3a-43fa-98c7-d0cb04e2160a",
   "metadata": {
    "execution": {
     "iopub.execute_input": "2025-06-02T20:22:42.743640Z",
     "iopub.status.busy": "2025-06-02T20:22:42.743505Z",
     "iopub.status.idle": "2025-06-02T20:22:42.747384Z",
     "shell.execute_reply": "2025-06-02T20:22:42.747016Z",
     "shell.execute_reply.started": "2025-06-02T20:22:42.743627Z"
    }
   },
   "outputs": [],
   "source": [
    "lsstcomcam_targets = {}\n",
    "# high rank\n",
    "lsstcomcam_targets[\"ECDFS_G15422\"] = {\"field_name\": \"GEMS-15422\", \"ra\": 53.159208333333325, \"dec\": -27.94811111111111,\"tile\":tile1}\n",
    "lsstcomcam_targets[\"ECDFS_G34244\"] = {\"field_name\": \"GEMS-34244\", \"ra\": 53.02687499999999 , \"dec\": -27.79127777777778,\"tile\":tile2}\n",
    "lsstcomcam_targets[\"ECDFS_G40173\"] = {\"field_name\": \"GEMS-40173\", \"ra\": 53.33104166666666 , \"dec\": -27.747222222222224,\"tile\":tile3}\n",
    "lsstcomcam_targets[\"ECDFS_G43242\"] = {\"field_name\": \"GEMS-43242\", \"ra\": 52.980624999999996 , \"dec\": -27.72319444444444,\"tile\":tile4}\n",
    "lsstcomcam_targets[\"ECDFS_G46446\"] = {\"field_name\": \"GEMS-46446\", \"ra\": 52.89975 , \"dec\": -27.696722222222224,\"tile\":tile5}\n",
    "\n",
    "# low rank\n",
    "lsstcomcam_targets[\"ECDFS_G12589\"] = {\"field_name\": \"GEMS-12589\", \"ra\": 52.85370833333333, \"dec\": -27.96861111111111,\"tile\":tile6}\n",
    "lsstcomcam_targets[\"ECDFS_G43797\"] = {\"field_name\": \"GEMS-43797\", \"ra\": 52.88224999999999, \"dec\": -27.71688888888889,\"tile\":tile7}\n",
    "\n",
    "lsstcomcam_targets[\"ECDFS_G28294\"] = {\"field_name\": \"GEMS-28294\", \"ra\": 52.960583333333325 , \"dec\": -27.84122222222222,\"tile\":tile8}\n",
    "lsstcomcam_targets[\"ECDFS_G6857\"] = {\"field_name\": \"GEMS-6857\", \"ra\": 52.97183333333333 , \"dec\": -27.771916666666666,\"tile\":tile9}\n",
    "lsstcomcam_targets[\"ECDFS_G36714\"] = {\"field_name\": \"GEMS-36714\", \"ra\": 53.249083333333324, \"dec\": -27.773999999999997,\"tile\":tile10}\n"
   ]
  },
  {
   "cell_type": "code",
   "execution_count": null,
   "id": "867e39d6-a6c6-438d-8c66-b5642b075dcc",
   "metadata": {
    "execution": {
     "iopub.execute_input": "2025-06-02T20:22:42.748151Z",
     "iopub.status.busy": "2025-06-02T20:22:42.747869Z",
     "iopub.status.idle": "2025-06-02T20:22:42.754641Z",
     "shell.execute_reply": "2025-06-02T20:22:42.754219Z",
     "shell.execute_reply.started": "2025-06-02T20:22:42.748137Z"
    }
   },
   "outputs": [],
   "source": [
    "df = pd.DataFrame(lsstcomcam_targets).T"
   ]
  },
  {
   "cell_type": "code",
   "execution_count": null,
   "id": "85236d99-d47d-4372-9b80-5f936b370781",
   "metadata": {
    "execution": {
     "iopub.execute_input": "2025-06-02T20:22:42.755247Z",
     "iopub.status.busy": "2025-06-02T20:22:42.755115Z",
     "iopub.status.idle": "2025-06-02T20:22:42.768181Z",
     "shell.execute_reply": "2025-06-02T20:22:42.767746Z",
     "shell.execute_reply.started": "2025-06-02T20:22:42.755235Z"
    }
   },
   "outputs": [],
   "source": [
    "df"
   ]
  },
  {
   "cell_type": "markdown",
   "id": "0f01bf96-d767-4487-99d2-7a3641cf451b",
   "metadata": {},
   "source": [
    "### Make list of keys"
   ]
  },
  {
   "cell_type": "code",
   "execution_count": null,
   "id": "9ecf4b23-f54e-47b9-91e9-7b0dfd656bd2",
   "metadata": {
    "execution": {
     "iopub.execute_input": "2025-06-02T20:22:42.768818Z",
     "iopub.status.busy": "2025-06-02T20:22:42.768685Z",
     "iopub.status.idle": "2025-06-02T20:22:42.771041Z",
     "shell.execute_reply": "2025-06-02T20:22:42.770651Z",
     "shell.execute_reply.started": "2025-06-02T20:22:42.768806Z"
    }
   },
   "outputs": [],
   "source": [
    "list_of_keys = sorted(list(lsstcomcam_targets.keys()))"
   ]
  },
  {
   "cell_type": "code",
   "execution_count": null,
   "id": "1b090a09-e45f-4846-b1b6-9c858f98efe9",
   "metadata": {
    "execution": {
     "iopub.execute_input": "2025-06-02T20:22:42.771586Z",
     "iopub.status.busy": "2025-06-02T20:22:42.771460Z",
     "iopub.status.idle": "2025-06-02T20:22:42.778457Z",
     "shell.execute_reply": "2025-06-02T20:22:42.778085Z",
     "shell.execute_reply.started": "2025-06-02T20:22:42.771574Z"
    }
   },
   "outputs": [],
   "source": [
    "list_of_keys = [\"ECDFS_G15422\", \"ECDFS_G34244\",\"ECDFS_G40173\",\"ECDFS_G43242\",\"ECDFS_G46446\",\n",
    "                \"ECDFS_G12589\",\"ECDFS_G43797\",\"ECDFS_G28294\",\"ECDFS_G6857\",\"ECDFS_G36714\"]"
   ]
  },
  {
   "cell_type": "code",
   "execution_count": null,
   "id": "54be88e6-9184-45c3-9282-58399eb07181",
   "metadata": {
    "execution": {
     "iopub.execute_input": "2025-06-02T20:22:42.779179Z",
     "iopub.status.busy": "2025-06-02T20:22:42.778894Z",
     "iopub.status.idle": "2025-06-02T20:22:42.788031Z",
     "shell.execute_reply": "2025-06-02T20:22:42.787653Z",
     "shell.execute_reply.started": "2025-06-02T20:22:42.779166Z"
    }
   },
   "outputs": [],
   "source": [
    "all_tracts = []\n",
    "all_patches = []\n",
    "for key in list_of_keys:\n",
    "    the_target = lsstcomcam_targets[key]\n",
    "    target_ra = the_target[\"ra\"]\n",
    "    target_dec = the_target[\"dec\"]\n",
    "    target_name = the_target[\"field_name\"]\n",
    "    target_point = SpherePoint(target_ra, target_dec, degrees)\n",
    "\n",
    "    tract_info = skymap.findTract(target_point)\n",
    "    patch_info = tract_info.findPatch(target_point)\n",
    "    #bbox = patch_info.getOuterBBox()\n",
    "\n",
    "    tractNbSel = tract_info.getId()\n",
    "    patchNbSel = patch_info.getSequentialIndex()\n",
    "\n",
    "    all_tracts.append(tractNbSel)\n",
    "    all_patches.append(patchNbSel)"
   ]
  },
  {
   "cell_type": "code",
   "execution_count": null,
   "id": "4c923efb-eaa3-4ac5-96b2-21399d17357e",
   "metadata": {},
   "outputs": [],
   "source": []
  },
  {
   "cell_type": "code",
   "execution_count": null,
   "id": "8995e6c9-6d71-480c-a543-dd49d670b157",
   "metadata": {
    "execution": {
     "iopub.execute_input": "2025-06-02T20:22:42.788606Z",
     "iopub.status.busy": "2025-06-02T20:22:42.788474Z",
     "iopub.status.idle": "2025-06-02T20:22:42.795479Z",
     "shell.execute_reply": "2025-06-02T20:22:42.795118Z",
     "shell.execute_reply.started": "2025-06-02T20:22:42.788594Z"
    }
   },
   "outputs": [],
   "source": [
    "df[\"tract\"] = all_tracts\n",
    "df[\"patch\"] = all_patches"
   ]
  },
  {
   "cell_type": "code",
   "execution_count": null,
   "id": "b4d43403-c22a-402d-acb6-f0907e3e253c",
   "metadata": {
    "execution": {
     "iopub.execute_input": "2025-06-02T20:22:42.796034Z",
     "iopub.status.busy": "2025-06-02T20:22:42.795901Z",
     "iopub.status.idle": "2025-06-02T20:22:42.805979Z",
     "shell.execute_reply": "2025-06-02T20:22:42.805612Z",
     "shell.execute_reply.started": "2025-06-02T20:22:42.796022Z"
    }
   },
   "outputs": [],
   "source": [
    "df"
   ]
  },
  {
   "cell_type": "code",
   "execution_count": null,
   "id": "f0b75306-56e2-46b3-9426-494e2ac2d1b6",
   "metadata": {
    "execution": {
     "iopub.execute_input": "2025-06-02T20:22:42.806511Z",
     "iopub.status.busy": "2025-06-02T20:22:42.806385Z",
     "iopub.status.idle": "2025-06-02T20:22:42.811627Z",
     "shell.execute_reply": "2025-06-02T20:22:42.811263Z",
     "shell.execute_reply.started": "2025-06-02T20:22:42.806499Z"
    }
   },
   "outputs": [],
   "source": [
    "tract_id = 5063"
   ]
  },
  {
   "cell_type": "code",
   "execution_count": null,
   "id": "564b2ccf-67e4-495c-975d-10374d08de9d",
   "metadata": {
    "execution": {
     "iopub.execute_input": "2025-06-02T20:22:42.812204Z",
     "iopub.status.busy": "2025-06-02T20:22:42.812075Z",
     "iopub.status.idle": "2025-06-02T20:22:43.264597Z",
     "shell.execute_reply": "2025-06-02T20:22:43.264145Z",
     "shell.execute_reply.started": "2025-06-02T20:22:42.812192Z"
    }
   },
   "outputs": [],
   "source": [
    "plot_tract_patches_ra_dec(butler, skymap, tract_id, df)"
   ]
  },
  {
   "cell_type": "code",
   "execution_count": null,
   "id": "f965475d-2fe0-406e-8945-96098ea4638c",
   "metadata": {},
   "outputs": [],
   "source": []
  }
 ],
 "metadata": {
  "kernelspec": {
   "display_name": "LSST",
   "language": "python",
   "name": "lsst"
  },
  "language_info": {
   "codemirror_mode": {
    "name": "ipython",
    "version": 3
   },
   "file_extension": ".py",
   "mimetype": "text/x-python",
   "name": "python",
   "nbconvert_exporter": "python",
   "pygments_lexer": "ipython3",
   "version": "3.12.10"
  }
 },
 "nbformat": 4,
 "nbformat_minor": 5
}
