{
 "cells": [
  {
   "cell_type": "markdown",
   "id": "8f3da262-37ed-407f-908c-8ac5a52cb4db",
   "metadata": {},
   "source": [
    "# SL Light curves from forcedSourceTable in the Extended Chandra Deep Field South in DRP using forcedSourceTable\n",
    "Sources Light Curves\n",
    "\n",
    "- author : Sylvie Dagoret-Campagne\n",
    "- affiliation : IJCLab/IN2P3/CNRS\n",
    "- member : DESC, rubin-inkind\n",
    "- creation date : 2025-05-26\n",
    "- last update : 2025-05-28 : add Light curves colored by airmass and azimuth extraction from visit\n",
    "- last update : 2025-05-29 : add the fetchtimes from visit list function"
   ]
  },
  {
   "cell_type": "markdown",
   "id": "0bcb9c8b-c8a8-4f32-be7a-f8844cdc4102",
   "metadata": {},
   "source": [
    "- Confluence page : https://rubinobs.atlassian.net/wiki/spaces/LSSTCOM/pages/372867091/System-level+Science+Performance+Verification+Sprint\n",
    "- slides : https://docs.google.com/presentation/d/1bPjS5NGtiEL2lfjmvP1UYdG_tMEDfZxX26ayhf7MhtY/edit#slide=id.ga2f7fb1a1f_0_70"
   ]
  },
  {
   "cell_type": "markdown",
   "id": "f3737976-eab8-4483-a79d-796f738c4f22",
   "metadata": {},
   "source": [
    "- where to find the campains\n",
    "- https://rubinobs.atlassian.net/wiki/spaces/DM/pages/226656354/LSSTComCam+Intermittent+Cumulative+DRP+Runs\n",
    "\n",
    "- plot Navigator\n",
    "- https://usdf-rsp.slac.stanford.edu/plot-navigator\n",
    "- https://usdf-rsp.slac.stanford.edu/plot-navigator/plot/%2Frepo%2Fmain/LSSTComCam%2Fruns%2FDRP%2FDP1%2Fw_2025_05%2FDM-48666/objectTableCore_coaddInputCount_SkyPlot"
   ]
  },
  {
   "cell_type": "markdown",
   "id": "53b4594d-5de5-4fa1-8ada-f60f0018cac5",
   "metadata": {},
   "source": [
    "- Notebooks examples\n",
    "- https://github.com/lsst-dm/DMTR-401/blob/main/notebooks/test_LVV-T40_T1240.ipynb\n",
    "- https://github.com/lsst-dm/DMTR-412/blob/tickets/DM-38728/notebooks/test_LVV-T1751_AM1_AM2.ipynb"
   ]
  },
  {
   "cell_type": "markdown",
   "id": "8402aac4-562a-40cd-ac2b-c1ca76cae55b",
   "metadata": {},
   "source": [
    "- Redo Visits like here : https://github.com/sylvielsstfr/LSST-Rehearsal2024/blob/main/notebooks/Visits/stat_on_visits_LSSTComCamSim.ipynb\n",
    "- To find what I did on LSSTComCamSim : https://github.com/sylvielsstfr/LSST-Rehearsal2024/blob/main/notebooks/LightCurves/MultiColor_lightCurves-DMRehearsal2024_01-AuxTel-DZPOnCCD.ipynb\n",
    "- **Confluence page** : https://rubinobs.atlassian.net/wiki/spaces/LSSTCOM/pages/443613290/Science+Verification+Sprint+Feb+2025\n"
   ]
  },
  {
   "cell_type": "code",
   "execution_count": null,
   "id": "9d583412-a5a0-456e-84be-1fb658ddf016",
   "metadata": {
    "execution": {
     "iopub.execute_input": "2025-05-29T08:20:34.897992Z",
     "iopub.status.busy": "2025-05-29T08:20:34.897738Z",
     "iopub.status.idle": "2025-05-29T08:20:35.962912Z",
     "shell.execute_reply": "2025-05-29T08:20:35.962266Z",
     "shell.execute_reply.started": "2025-05-29T08:20:34.897976Z"
    }
   },
   "outputs": [],
   "source": [
    "# Confirm that the version of the Science Pipelines is recent:\n",
    "! echo $HOSTNAME\n",
    "! eups list -s | grep lsst_distrib"
   ]
  },
  {
   "cell_type": "code",
   "execution_count": null,
   "id": "8fbb9671-7d8e-4724-8c58-0f0a4fb9e5f0",
   "metadata": {
    "execution": {
     "iopub.execute_input": "2025-05-29T08:20:35.963793Z",
     "iopub.status.busy": "2025-05-29T08:20:35.963633Z",
     "iopub.status.idle": "2025-05-29T08:20:37.315540Z",
     "shell.execute_reply": "2025-05-29T08:20:37.315051Z",
     "shell.execute_reply.started": "2025-05-29T08:20:35.963775Z"
    }
   },
   "outputs": [],
   "source": [
    "from lsst.daf.butler import Butler\n",
    "import lsst.geom as geom\n",
    "\n",
    "import lsst.afw.display as afwDisplay\n",
    "\n",
    "from lsst.geom import SpherePoint, degrees, Point2D, Point2I, Extent2I, Box2I\n",
    "from lsst.afw.image import ExposureF\n",
    "from lsst.skymap import PatchInfo, Index2D"
   ]
  },
  {
   "cell_type": "code",
   "execution_count": null,
   "id": "8983f25c-dadf-434b-bb84-e24a3150f766",
   "metadata": {
    "execution": {
     "iopub.execute_input": "2025-05-29T08:20:37.316474Z",
     "iopub.status.busy": "2025-05-29T08:20:37.316086Z",
     "iopub.status.idle": "2025-05-29T08:20:37.374262Z",
     "shell.execute_reply": "2025-05-29T08:20:37.373746Z",
     "shell.execute_reply.started": "2025-05-29T08:20:37.316458Z"
    }
   },
   "outputs": [],
   "source": [
    "afwDisplay.setDefaultBackend(\"firefly\")"
   ]
  },
  {
   "cell_type": "code",
   "execution_count": null,
   "id": "e814e3d6-750c-4e7f-a9a5-5bf1e2f7205f",
   "metadata": {
    "execution": {
     "iopub.execute_input": "2025-05-29T08:20:37.375369Z",
     "iopub.status.busy": "2025-05-29T08:20:37.374832Z",
     "iopub.status.idle": "2025-05-29T08:20:38.716316Z",
     "shell.execute_reply": "2025-05-29T08:20:38.715842Z",
     "shell.execute_reply.started": "2025-05-29T08:20:37.375352Z"
    }
   },
   "outputs": [],
   "source": [
    "import os\n",
    "import gc\n",
    "import glob\n",
    "import numpy as np\n",
    "import pandas as pd\n",
    "import random\n",
    "\n",
    "import astropy.units as u\n",
    "from astropy.coordinates import SkyCoord\n",
    "from astroquery.gaia import Gaia\n",
    "Gaia.MAIN_GAIA_TABLE = \"gaiadr3.gaia_source\"  # Reselect Data Release 3, default\n",
    "Gaia.ROW_LIMIT = 100000\n",
    "from astropy.visualization import (MinMaxInterval, AsinhStretch, ZScaleInterval, LogStretch, LinearStretch,\n",
    "                                   ImageNormalize)"
   ]
  },
  {
   "cell_type": "code",
   "execution_count": null,
   "id": "e68df967-7870-47da-a4dd-760df6732aa5",
   "metadata": {
    "execution": {
     "iopub.execute_input": "2025-05-29T08:20:38.717281Z",
     "iopub.status.busy": "2025-05-29T08:20:38.716865Z",
     "iopub.status.idle": "2025-05-29T08:20:39.371445Z",
     "shell.execute_reply": "2025-05-29T08:20:39.370929Z",
     "shell.execute_reply.started": "2025-05-29T08:20:38.717264Z"
    }
   },
   "outputs": [],
   "source": [
    "import seaborn as sns\n",
    "from itertools import cycle, islice"
   ]
  },
  {
   "cell_type": "code",
   "execution_count": null,
   "id": "f385c649-efb6-40a8-b9f7-ebc65c441a04",
   "metadata": {
    "execution": {
     "iopub.execute_input": "2025-05-29T08:20:39.372226Z",
     "iopub.status.busy": "2025-05-29T08:20:39.371963Z",
     "iopub.status.idle": "2025-05-29T08:20:39.374819Z",
     "shell.execute_reply": "2025-05-29T08:20:39.374399Z",
     "shell.execute_reply.started": "2025-05-29T08:20:39.372210Z"
    }
   },
   "outputs": [],
   "source": [
    "from astropy.time import Time\n",
    "from datetime import datetime, timedelta"
   ]
  },
  {
   "cell_type": "code",
   "execution_count": null,
   "id": "46c68d72-750b-4bb9-b92a-1fe6e1728171",
   "metadata": {
    "execution": {
     "iopub.execute_input": "2025-05-29T08:20:39.375565Z",
     "iopub.status.busy": "2025-05-29T08:20:39.375303Z",
     "iopub.status.idle": "2025-05-29T08:20:39.382409Z",
     "shell.execute_reply": "2025-05-29T08:20:39.381987Z",
     "shell.execute_reply.started": "2025-05-29T08:20:39.375551Z"
    }
   },
   "outputs": [],
   "source": [
    "import lsst\n",
    "import lsst.geom as geom\n",
    "from lsst.geom import Angle\n",
    "from lsst.geom import SpherePoint\n",
    "from lsst.geom import AngleUnit"
   ]
  },
  {
   "cell_type": "code",
   "execution_count": null,
   "id": "a11a939d-942c-48b8-97ec-f426d85cd47f",
   "metadata": {
    "execution": {
     "iopub.execute_input": "2025-05-29T08:20:39.383000Z",
     "iopub.status.busy": "2025-05-29T08:20:39.382871Z",
     "iopub.status.idle": "2025-05-29T08:20:39.389468Z",
     "shell.execute_reply": "2025-05-29T08:20:39.389053Z",
     "shell.execute_reply.started": "2025-05-29T08:20:39.382987Z"
    }
   },
   "outputs": [],
   "source": [
    "# For Angle conversion\n",
    "from astropy.coordinates import Angle\n",
    "import astropy.units as u\n",
    "from astropy.coordinates import SkyCoord"
   ]
  },
  {
   "cell_type": "code",
   "execution_count": null,
   "id": "db3e1b4b-1bd1-4d15-9b0b-b014981ad0f5",
   "metadata": {
    "execution": {
     "iopub.execute_input": "2025-05-29T08:20:39.390062Z",
     "iopub.status.busy": "2025-05-29T08:20:39.389932Z",
     "iopub.status.idle": "2025-05-29T08:20:39.396506Z",
     "shell.execute_reply": "2025-05-29T08:20:39.396081Z",
     "shell.execute_reply.started": "2025-05-29T08:20:39.390049Z"
    }
   },
   "outputs": [],
   "source": [
    "import matplotlib.pyplot as plt\n",
    "import matplotlib.colors as mcolors"
   ]
  },
  {
   "cell_type": "code",
   "execution_count": null,
   "id": "224cf803-f7cc-4e49-9dc9-46779557286e",
   "metadata": {
    "execution": {
     "iopub.execute_input": "2025-05-29T08:20:39.397119Z",
     "iopub.status.busy": "2025-05-29T08:20:39.396981Z",
     "iopub.status.idle": "2025-05-29T08:20:39.405362Z",
     "shell.execute_reply": "2025-05-29T08:20:39.404954Z",
     "shell.execute_reply.started": "2025-05-29T08:20:39.397106Z"
    }
   },
   "outputs": [],
   "source": [
    "def find_tract_patch_and_display(butler, skymap,ra_deg, dec_deg, band, framecount):\n",
    "    \"\"\"\n",
    "    - butler\n",
    "    - skymap\n",
    "    - ra_deg, dec_deg : source\n",
    "    - band\n",
    "    - framecount\n",
    "    \"\"\"\n",
    "    # Ouvrir le dépôt\n",
    "    #butler = Butler(repo)\n",
    "    #skymap = butler.get(\"skyMap\")\n",
    "    band_to_color = {\"u\":\"blue\",\"g\":\"green\",\"r\":\"red\",\"i\":\"orange\",\"z\":\"yellow\",\"y\":\"purple\"}\n",
    "\n",
    "    datasettype = \"objectTable_tract\"\n",
    "    therefs = butler.registry.queryDatasets(datasettype,  collections=collection)\n",
    "\n",
    "    # Créer le point céleste\n",
    "    coord = SpherePoint(ra_deg * degrees, dec_deg * degrees)\n",
    "\n",
    "\n",
    "    found = False\n",
    "    # loop only on existing tracts\n",
    "    \n",
    "    for ref in therefs:\n",
    "        tract_id = ref.dataId[\"tract\"]\n",
    "        tractInfo = skymap[tract_id]\n",
    "        if tractInfo.contains(coord):\n",
    "            patchInfo = tractInfo.findPatch(coord)\n",
    "            patch_id = patchInfo.getIndex()  # Tuple (x, y)\n",
    "            patch_indexseq = patchInfo.getSequentialIndex()\n",
    "            print(f\"Tract: {tract_id}, Patch: {patch_indexseq}\")\n",
    "            found = True\n",
    "            break\n",
    "    # Charger l’image coadd correspondante\n",
    "    dataId = {\"tract\": tract_id, \"patch\": patch_indexseq, \"band\": band,\"skymap\": skymapName}\n",
    "    #deepCoadd_calexp\n",
    "    coadd = butler.get(\"deepCoadd_calexp\", dataId)\n",
    "    # Récupération du WCS\n",
    "    wcs = coadd.getWcs()\n",
    "\n",
    "    datatitle = f\"deepcoadd-LSSTComCam : {tract_id} , {patch_indexseq} , {band}\"\n",
    "    print(datatitle)\n",
    "\n",
    "    # Affichage avec marqueur\n",
    "    \n",
    "    display = afwDisplay.Display(frame = framecount)\n",
    "    display.scale('asinh', 'zscale')\n",
    "    #afw_display.scale('linear', min=zmin, max=zmax)\n",
    "    #display.setImageColormap(cmap='grey')\n",
    "    display.setImageColormap(cmap='Grey_r')\n",
    "    display.mtv(coadd.getImage(),title=datatitle)\n",
    "\n",
    "    # Création du point céleste\n",
    "    pix_point = wcs.skyToPixel(coord)\n",
    "    x, y = pix_point.x,pix_point.y\n",
    "    \n",
    "    col = band_to_color[band] \n",
    "    display.dot(\"+\", x, y, size=50, ctype=col)\n",
    "    \n",
    "\n",
    "    \n",
    "    return tract_id, patch_indexseq, band"
   ]
  },
  {
   "cell_type": "code",
   "execution_count": null,
   "id": "d3b2516d-c0fb-4c9d-9a4d-c0ab951c799a",
   "metadata": {
    "execution": {
     "iopub.execute_input": "2025-05-29T08:20:39.405971Z",
     "iopub.status.busy": "2025-05-29T08:20:39.405842Z",
     "iopub.status.idle": "2025-05-29T08:20:39.413498Z",
     "shell.execute_reply": "2025-05-29T08:20:39.413089Z",
     "shell.execute_reply.started": "2025-05-29T08:20:39.405959Z"
    }
   },
   "outputs": [],
   "source": [
    "def extract_deepCoadd_cutout(\n",
    "    ra_deg,\n",
    "    dec_deg,\n",
    "    tractInfo,\n",
    "    patchInfo,\n",
    "    band,\n",
    "    butler,\n",
    "    skymapName,\n",
    "    cutout_size_pixels,\n",
    "    collection,\n",
    "):\n",
    "    \"\"\"\n",
    "    Extract a square cutout from a deepCoadd image centered on given sky coordinates.\n",
    "\n",
    "    Parameters\n",
    "    ----------\n",
    "    ra_deg : float\n",
    "        Right ascension in degrees.\n",
    "    dec_deg : float\n",
    "        Declination in degrees.\n",
    "    tractInfo : lsst.skymap.TractInfo\n",
    "        Tract information object (from SkyMap).\n",
    "    patchInfo : lsst.skymap.PatchInfo\n",
    "        Patch information object (from SkyMap).\n",
    "    band : str\n",
    "        Photometric band (e.g., 'i', 'r', 'g').\n",
    "    butler : lsst.daf.butler.Butler\n",
    "        Butler instance to access LSST data.\n",
    "    cutout_size_pixels : int, optional\n",
    "        Size of the cutout in pixels (square region), default is 200.\n",
    "    collection : str, optional\n",
    "        Name of the collection containing deepCoadd data.\n",
    "\n",
    "    Returns\n",
    "    -------\n",
    "    cutout : lsst.afw.image.ExposureF\n",
    "        The extracted image cutout.\n",
    "    wcs : lsst.afw.geom.SkyWcs\n",
    "        World Coordinate System associated with the cutout.\n",
    "    metadata : lsst.daf.base.PropertyList\n",
    "        FITS metadata header for the cutout image.\n",
    "    \"\"\"\n",
    "\n",
    "    # Build dataId for the deepCoadd image\n",
    "    tract = tractInfo.getId()\n",
    "    patch = patchInfo.getSequentialIndex()\n",
    "    dataId = dict(tract=tract, patch=patch, band=band, skymap=skymapName)\n",
    "\n",
    "    # Retrieve the deepCoadd exposure\n",
    "    exposure = butler.get(\"deepCoadd\", dataId=dataId, collections=collection)\n",
    "    image_bbox = exposure.getBBox()\n",
    "\n",
    "    # Convert sky coordinates (RA, Dec) to pixel coordinates using WCS\n",
    "    coord = SpherePoint(ra_deg, dec_deg, degrees)\n",
    "    wcs = exposure.getWcs()\n",
    "    pixel_center = wcs.skyToPixel(coord)\n",
    "\n",
    "    half_size = cutout_size_pixels // 2\n",
    "\n",
    "    # Centre du cutout\n",
    "    center_x = int(pixel_center.getX())\n",
    "    center_y = int(pixel_center.getY())\n",
    "\n",
    "    # Coordonnées du coin en bas à gauche\n",
    "    corner_x = max(center_x - half_size, image_bbox.getMinX())\n",
    "    corner_y = max(center_y - half_size, image_bbox.getMinY())\n",
    "\n",
    "    # Ne pas dépasser la taille max de l'image\n",
    "    corner_x = min(corner_x, image_bbox.getMaxX() - cutout_size_pixels)\n",
    "    corner_y = min(corner_y, image_bbox.getMaxY() - cutout_size_pixels)\n",
    "\n",
    "    # Define a square bounding box around the target pixel\n",
    "    # Création du BBox valide\n",
    "    corner = Point2I(corner_x, corner_y)\n",
    "    bbox = Box2I(corner, Extent2I(cutout_size_pixels, cutout_size_pixels))\n",
    "\n",
    "    # Extract the cutout from the original exposure\n",
    "    cutout = exposure.Factory(exposure, bbox, deep=True)\n",
    "\n",
    "    return cutout, cutout.getWcs(), cutout.getMetadata()"
   ]
  },
  {
   "cell_type": "code",
   "execution_count": null,
   "id": "bd5588af-14ec-4f29-96c8-2cb1e2e226a5",
   "metadata": {
    "execution": {
     "iopub.execute_input": "2025-05-29T08:20:39.414103Z",
     "iopub.status.busy": "2025-05-29T08:20:39.413967Z",
     "iopub.status.idle": "2025-05-29T08:20:39.421490Z",
     "shell.execute_reply": "2025-05-29T08:20:39.421088Z",
     "shell.execute_reply.started": "2025-05-29T08:20:39.414090Z"
    }
   },
   "outputs": [],
   "source": [
    "def RetrieveDRPObject_forTarget(butler,center_coord,datasettype,where_clause,radius_cut=50):\n",
    "    \"\"\"\n",
    "    Find the closest DRP objectto the target_coord \n",
    "\n",
    "    parameters:\n",
    "    - butler\n",
    "    - the coordinate of the target (center of the cone seach)\n",
    "    - the datasettype name for the DRP object\n",
    "    - where_clause : which contrain requirements on the tract and patch numbers\n",
    "    - cut on angluar separation for the returned for the returned object\n",
    "\n",
    "    Return\n",
    "    - object Id with minimum separation , \n",
    "    - minimum separation (arcec),\n",
    "    - the table of DRP objects within the radius_cut\n",
    "    \"\"\"\n",
    "\n",
    "    ra_columns = ['u_ra', 'g_ra', 'r_ra', 'i_ra', 'z_ra', 'y_ra']\n",
    "    dec_columns = ['u_dec', 'g_dec', 'r_dec', 'i_dec', 'z_dec', 'y_dec']\n",
    "\n",
    "    \n",
    "    therefs = butler.registry.queryDatasets(datasettype,  collections=collection, where=where_clause)\n",
    "\n",
    "    for count,ref in enumerate(therefs):\n",
    "        the_id = ref.dataId\n",
    "        the_tract_id = the_id[\"tract\"] \n",
    "        print(the_id)\n",
    "        \n",
    "        # catalog of rubin objects (a pandas Dataframe) inside the tract\n",
    "        catalog = butler.get(ref)\n",
    "        catalog = catalog[catalog[\"patch\"] == patchNbSel] \n",
    "       \n",
    "    \n",
    "        nobjects = len(catalog)\n",
    "\n",
    "\n",
    "        # Calcul de la moyenne ligne par ligne, en ignorant les NaN\n",
    "        catalog['ra'] = catalog[ra_columns].mean(axis=1, skipna=True)\n",
    "        catalog['dec'] = catalog[dec_columns].mean(axis=1, skipna=True)\n",
    "\n",
    "\n",
    "        # extract the (ra,dec) coordinates for all te objects of the rubin-catalog\n",
    "        ra_cat = catalog[\"ra\"].values\n",
    "        dec_cat = catalog[\"dec\"].values\n",
    "        # coordinates for all rubin-catalog points\n",
    "        catalog_coords = SkyCoord(ra=ra_cat*u.deg, dec=dec_cat*u.deg)\n",
    "\n",
    "        # Angular distance to target\n",
    "        distances_arcsec = center_coord.separation(catalog_coords).arcsecond\n",
    "\n",
    "        # add the separation angle to the ctalog\n",
    "        catalog[\"sep\"] = distances_arcsec\n",
    "\n",
    "\n",
    "        # closest object from the target\n",
    "        sepMin = distances_arcsec.min() \n",
    "        sepMin_idx = np.where(distances_arcsec == sepMin)[0][0]\n",
    "    \n",
    "        closest_obj = catalog[catalog[\"sep\"] <=  sepMin]\n",
    "                   \n",
    "        # select a few of these sources to debug the closest candidate\n",
    "        nearby_obj = catalog[distances_arcsec < radius_cut]\n",
    "        \n",
    "        return closest_obj, sepMin, nearby_obj\n",
    "\n",
    "      "
   ]
  },
  {
   "cell_type": "code",
   "execution_count": null,
   "id": "a98edb84-bab9-4ed3-9265-ba88ce2406ed",
   "metadata": {
    "execution": {
     "iopub.execute_input": "2025-05-29T08:20:39.422033Z",
     "iopub.status.busy": "2025-05-29T08:20:39.421908Z",
     "iopub.status.idle": "2025-05-29T08:20:39.428008Z",
     "shell.execute_reply": "2025-05-29T08:20:39.427601Z",
     "shell.execute_reply.started": "2025-05-29T08:20:39.422021Z"
    }
   },
   "outputs": [],
   "source": [
    "#def RetrieveDRPSources_forTarget(butler,center_coord,datasettype,where_clause,radius_cut=100):\n",
    "def RetrieveForcedSources_forTarget(butler,objectid,datasettype,where_clause):\n",
    "    \"\"\"\n",
    "    Find the closest DRP objectto the target_coord \n",
    "\n",
    "    parameters:\n",
    "    - butler\n",
    "    - the id of the objects\n",
    "    - the datasettype name for the forced sources\n",
    "    - where_clause : which contrain requirements on the tract and patch numbers\n",
    " \n",
    "\n",
    "    Return\n",
    "    - object Id with minimum separation , \n",
    "    - minimum separation (arcec),\n",
    "    - the table of forced objects within the radius_cut\n",
    "    \"\"\"\n",
    "\n",
    "    therefs = butler.registry.queryDatasets(datasettype,  collections=collection, where=where_clause)\n",
    "    listref = list(therefs)\n",
    "    nref = len(listref)\n",
    "    print(f\"nref = {nref}\")\n",
    "    # assume the target is in a single (tract,patch)\n",
    "    assert nref == 1\n",
    "\n",
    "    # loop forcedSourceOnDiaObjectTable (per tract, per patch)\n",
    "    for count,ref in enumerate(therefs):\n",
    "        the_id = ref.dataId\n",
    "        the_tract_id = the_id[\"tract\"] \n",
    "        \n",
    "        assert the_tract_id == TRACTSEL\n",
    "\n",
    "        # catalog of rubin objects (a pandas Dataframe) inside the tract\n",
    "        srccatalog = butler.get(ref)\n",
    "        srccatalog = srccatalog[srccatalog[\"objectId\"] == objectid]\n",
    "       \n",
    "        return srccatalog\n",
    "\n",
    "      "
   ]
  },
  {
   "cell_type": "code",
   "execution_count": null,
   "id": "762a414b-5010-420e-8261-14a20e9db0a4",
   "metadata": {
    "execution": {
     "iopub.execute_input": "2025-05-29T08:20:39.431488Z",
     "iopub.status.busy": "2025-05-29T08:20:39.431353Z",
     "iopub.status.idle": "2025-05-29T08:20:39.435506Z",
     "shell.execute_reply": "2025-05-29T08:20:39.435166Z",
     "shell.execute_reply.started": "2025-05-29T08:20:39.431475Z"
    }
   },
   "outputs": [],
   "source": [
    "def FetchTimesForVisits(visit_list):\n",
    "    \"\"\"\n",
    "    \"\"\"\n",
    "    # On interroge la table visitDefinition\n",
    "    Nvisit = len(visit_list)\n",
    "        \n",
    "    if Nvisit == 1:\n",
    "        thevisit = visit_list.values[0]\n",
    "        rows = registry.queryDimensionRecords(\"visit\", where=f\"visit={thevisit}\")\n",
    "    else:\n",
    "        rows = registry.queryDimensionRecords(\"visit\", where=f\"visit in {tuple(visit_list)}\")\n",
    "\n",
    "    # 4. Construire un tableau des résultats\n",
    "    results = []\n",
    "    for row in rows:\n",
    "        visit_id = row.id\n",
    "        visit_airmass = 1./np.cos(Angle(row.zenith_angle,u.degree).rad)\n",
    "        visit_azimuth = row.azimuth\n",
    "\n",
    "        # Extraire l'instant de début de l'observation (Time astropy)\n",
    "        start_time = row.timespan.begin\n",
    "\n",
    "        # Convertir en MJD et ISO\n",
    "        mjd = start_time.to_value(\"mjd\")  # Ex: 60384.28718\n",
    "        isot = start_time.to_value(\"isot\")  # Ex: '2024-04-19 06:53:32.000'\n",
    "    \n",
    "        #mjd = row.startDate.toMjd()\n",
    "        #utc = Time(mjd, format='mjd', scale='utc').to_value('iso')\n",
    "        #results.append({\"visit\": visit_id, \"mjd\": mjd, \"isot\": isot})\n",
    "        results.append({\"visit\": visit_id, \"mjd\": mjd, \"isot\": isot,\"airmass\":visit_airmass,\"azimuth\":visit_azimuth})\n",
    "\n",
    "    df_times = pd.DataFrame(results).sort_values(\"visit\")\n",
    "    df_times.set_index(\"visit\",inplace=True)\n",
    "    return df_times"
   ]
  },
  {
   "cell_type": "code",
   "execution_count": null,
   "id": "0ba33e8e-f194-4ac7-89c1-b9e85be40f4d",
   "metadata": {
    "execution": {
     "iopub.execute_input": "2025-05-29T08:20:39.436010Z",
     "iopub.status.busy": "2025-05-29T08:20:39.435886Z",
     "iopub.status.idle": "2025-05-29T08:20:39.442501Z",
     "shell.execute_reply": "2025-05-29T08:20:39.442150Z",
     "shell.execute_reply.started": "2025-05-29T08:20:39.435998Z"
    }
   },
   "outputs": [],
   "source": [
    "def plotLightCurvesSeparatedBands(tb,title,subtitle,figname = None):\n",
    "    \"\"\"\n",
    "    \"\"\"\n",
    "\n",
    "    fig,axs = plt.subplots(6,1,figsize=(18,16),sharex=True,layout=\"constrained\")\n",
    "\n",
    "    for idx,band in enumerate(all_bands):\n",
    "        ax =axs[idx]\n",
    "        label = f\"band {band}\"\n",
    "        ax.scatter(tb[band].mjd, tb[band].mags,color=all_bands_colors[idx],label=label,marker=\"o\",s=100)\n",
    "        ax.set_ylabel(\"mag_psfFlux\")\n",
    "        ax.legend()\n",
    "        if idx==0:\n",
    "            ax.set_title(target_title,fontweight = \"bold\")\n",
    "    ax.set_xlabel(\"mjd\")\n",
    "    \n",
    "    plt.suptitle(subtitle)\n",
    "\n",
    "    if figname != None:\n",
    "        plt.savefig(figname)\n",
    "    plt.show()   "
   ]
  },
  {
   "cell_type": "code",
   "execution_count": null,
   "id": "6fc52327-f1ab-4ecc-b8cc-6e164e96005d",
   "metadata": {
    "execution": {
     "iopub.execute_input": "2025-05-29T08:20:39.443053Z",
     "iopub.status.busy": "2025-05-29T08:20:39.442927Z",
     "iopub.status.idle": "2025-05-29T08:20:39.449550Z",
     "shell.execute_reply": "2025-05-29T08:20:39.449214Z",
     "shell.execute_reply.started": "2025-05-29T08:20:39.443041Z"
    }
   },
   "outputs": [],
   "source": [
    "def plotLightCurvesSeparatedBands_coloredbyquantity(tb,quantity_str,title,subtitle,figname = None):\n",
    "    \"\"\"\n",
    "    \"\"\"\n",
    "\n",
    "    fig,axs = plt.subplots(6,1,figsize=(18,16),sharex=True,layout=\"constrained\")\n",
    "\n",
    "    for idx,band in enumerate(all_bands):\n",
    "        ax =axs[idx]\n",
    "        label = f\"band {band}\"\n",
    "        quantity_toplot = tb[band][quantity_str]\n",
    "        sc = ax.scatter(tb[band].mjd, tb[band].mags,c=quantity_toplot, cmap='jet',label=label,marker=\"o\",s=100)\n",
    "        ax.set_ylabel(\"mag_psfFlux\")\n",
    "        ax.legend()\n",
    "        if idx==0:\n",
    "            ax.set_title(target_title,fontweight = \"bold\")\n",
    "    ax.set_xlabel(\"mjd\")\n",
    "    \n",
    "    plt.suptitle(subtitle)\n",
    "    # Ajout d'une barre de couleur\n",
    "    cbar = fig.colorbar(sc, ax=axs, orientation='vertical', label=quantity_str)\n",
    "    \n",
    "    if figname != None:\n",
    "        plt.savefig(figname)\n",
    "    plt.show()   "
   ]
  },
  {
   "cell_type": "code",
   "execution_count": null,
   "id": "6553a8a1-af09-4b4b-b250-f69bb53dccff",
   "metadata": {
    "execution": {
     "iopub.execute_input": "2025-05-29T08:20:39.450108Z",
     "iopub.status.busy": "2025-05-29T08:20:39.449973Z",
     "iopub.status.idle": "2025-05-29T08:20:39.458549Z",
     "shell.execute_reply": "2025-05-29T08:20:39.458200Z",
     "shell.execute_reply.started": "2025-05-29T08:20:39.450095Z"
    }
   },
   "outputs": [],
   "source": [
    "def plotLightCurvesSeparatedBands_coloredbydiscretequantity(tb, quantity_str, title, subtitle, figname=None):\n",
    "    \"\"\"\n",
    "    tb: dictionnaire contenant des tables par bande\n",
    "    quantity_str: nom de la colonne discrète utilisée pour la couleur (par ex. 'airmass_flag')\n",
    "    \"\"\"\n",
    "\n",
    "    fig, axs = plt.subplots(6, 1, figsize=(18, 16), sharex=True, layout=\"constrained\")\n",
    "\n",
    "    # Récupération de toutes les valeurs discrètes possibles dans toutes les bandes\n",
    "    all_values = np.unique(np.concatenate([np.asarray(tb[band][quantity_str]) for band in all_bands]))\n",
    "    num_categories = len(all_values)\n",
    "\n",
    "    # Création d'une palette discrète\n",
    "    cmap = plt.cm.get_cmap('tab10', num_categories)  # ou 'tab20', 'Set3', etc.\n",
    "    norm = mcolors.BoundaryNorm(boundaries=np.arange(-0.5, num_categories + 0.5, 1), ncolors=num_categories)\n",
    "\n",
    "    for idx, band in enumerate(all_bands):\n",
    "        ax = axs[idx]\n",
    "        label = f\"band {band}\"\n",
    "\n",
    "        mjd = tb[band]['mjd']\n",
    "        mags = tb[band]['mags']\n",
    "        quantity_toplot = tb[band][quantity_str]\n",
    "\n",
    "        sc = ax.scatter(mjd, mags, c=quantity_toplot, cmap=cmap, norm=norm, label=label,marker=\"o\",s=100)\n",
    "        ax.set_ylabel(\"mag_psfFlux\")\n",
    "        ax.legend()\n",
    "        if idx == 0:\n",
    "            ax.set_title(title, fontweight=\"bold\")\n",
    "\n",
    "    ax.set_xlabel(\"mjd\")\n",
    "    plt.suptitle(subtitle)\n",
    "\n",
    "    # Ajout d'une colorbar discrète\n",
    "    cbar = fig.colorbar(sc, ax=axs, ticks=all_values, orientation='vertical')\n",
    "    cbar.set_label(quantity_str)\n",
    "    cbar.ax.set_yticklabels([str(v) for v in all_values])\n",
    "\n",
    "    if figname is not None:\n",
    "        plt.savefig(figname)\n",
    "    plt.show()\n"
   ]
  },
  {
   "cell_type": "code",
   "execution_count": null,
   "id": "e616ee9f-0be9-4d4d-be0e-a9bb8533df7f",
   "metadata": {
    "execution": {
     "iopub.execute_input": "2025-05-29T08:20:39.459101Z",
     "iopub.status.busy": "2025-05-29T08:20:39.458969Z",
     "iopub.status.idle": "2025-05-29T08:20:39.465487Z",
     "shell.execute_reply": "2025-05-29T08:20:39.465088Z",
     "shell.execute_reply.started": "2025-05-29T08:20:39.459089Z"
    }
   },
   "outputs": [],
   "source": [
    "def plotLightCurvesAllTogetherBands(tb,title,subtitle,figname = None):\n",
    "    \"\"\"\n",
    "    \"\"\"\n",
    "    fig,ax = plt.subplots(1,1,figsize=(18,10),sharex=True,layout=\"constrained\")\n",
    "\n",
    "    for idx,band in enumerate([\"u\", \"g\", \"r\", \"i\", \"z\", \"y\"]):\n",
    "        label = f\"band {band}\"\n",
    "        ax.scatter(tb[band].mjd, tb[band].mags,color=all_bands_colors[idx],label=label,marker=\"o\",s=100)\n",
    "\n",
    "    ax.set_ylabel(\"mag_psfFlux\")\n",
    "    ax.set_title(target_title,fontweight = \"bold\")\n",
    "    ax.set_xlabel(\"mjd\")\n",
    "    ax.legend()\n",
    "\n",
    "    plt.suptitle(subtitle)\n",
    "    if figname != None:\n",
    "        plt.savefig(figname)\n",
    "        \n",
    "    plt.show()"
   ]
  },
  {
   "cell_type": "code",
   "execution_count": null,
   "id": "2bbb53e9-e293-4ea7-ae47-c78930ce5d93",
   "metadata": {
    "execution": {
     "iopub.execute_input": "2025-05-29T08:20:39.466014Z",
     "iopub.status.busy": "2025-05-29T08:20:39.465893Z",
     "iopub.status.idle": "2025-05-29T08:20:39.472390Z",
     "shell.execute_reply": "2025-05-29T08:20:39.472032Z",
     "shell.execute_reply.started": "2025-05-29T08:20:39.466002Z"
    }
   },
   "outputs": [],
   "source": [
    "# https://pipelines.lsst.io/modules/lsst.geom/getting-started.html\n",
    "func_degToRad = lambda x : Angle(x,lsst.geom.degrees).asRadians()"
   ]
  },
  {
   "cell_type": "code",
   "execution_count": null,
   "id": "5af15c53-1d3f-42ee-81d8-508a2daa56c0",
   "metadata": {
    "execution": {
     "iopub.execute_input": "2025-05-29T08:20:39.472950Z",
     "iopub.status.busy": "2025-05-29T08:20:39.472824Z",
     "iopub.status.idle": "2025-05-29T08:20:39.487239Z",
     "shell.execute_reply": "2025-05-29T08:20:39.486867Z",
     "shell.execute_reply.started": "2025-05-29T08:20:39.472938Z"
    }
   },
   "outputs": [],
   "source": [
    "# Set plotting defaults\n",
    "%matplotlib inline\n",
    "import matplotlib.pyplot as plt\n",
    "from matplotlib.ticker import FormatStrFormatter\n",
    "from matplotlib.colors import ListedColormap\n",
    "from matplotlib import colors\n",
    "zscale = ZScaleInterval()\n",
    "\n",
    "# Set up some plotting defaults:\n",
    "plt.rcParams.update({'figure.figsize' : (12, 8)})\n",
    "plt.rcParams.update({'font.size' : 24})\n",
    "plt.rcParams.update({'axes.linewidth' : 3})\n",
    "plt.rcParams.update({'axes.labelweight' : 3})\n",
    "plt.rcParams.update({'axes.titleweight' : 5})\n",
    "plt.rcParams.update({'ytick.major.width' : 3})\n",
    "plt.rcParams.update({'ytick.minor.width' : 2})\n",
    "plt.rcParams.update({'ytick.major.size' : 8})\n",
    "plt.rcParams.update({'ytick.minor.size' : 5})\n",
    "plt.rcParams.update({'xtick.major.size' : 8})\n",
    "plt.rcParams.update({'xtick.minor.size' : 5})\n",
    "plt.rcParams.update({'xtick.major.width' : 3})\n",
    "plt.rcParams.update({'xtick.minor.width' : 2})\n",
    "plt.rcParams.update({'xtick.direction' : 'in'})\n",
    "plt.rcParams.update({'ytick.direction' : 'in'})\n"
   ]
  },
  {
   "cell_type": "code",
   "execution_count": null,
   "id": "8f02d7f7-cc18-4191-beb4-ad890c13b967",
   "metadata": {
    "execution": {
     "iopub.execute_input": "2025-05-29T08:20:39.487807Z",
     "iopub.status.busy": "2025-05-29T08:20:39.487674Z",
     "iopub.status.idle": "2025-05-29T08:20:39.490832Z",
     "shell.execute_reply": "2025-05-29T08:20:39.490428Z",
     "shell.execute_reply.started": "2025-05-29T08:20:39.487794Z"
    }
   },
   "outputs": [],
   "source": [
    "def nJy_to_ab_mag(f_njy):\n",
    "    \"\"\"Convert scalar or array flux in nJy to AB magnitude.\"\"\"\n",
    "    f_njy = np.asarray(f_njy)\n",
    "    mag = np.full_like(f_njy, fill_value=np.nan, dtype=float)\n",
    "    mask = f_njy > 0\n",
    "    mag[mask] = -2.5 * np.log10(f_njy[mask]) + 31.4\n",
    "    return mag\n",
    "\n",
    "\n",
    "def nJy_err_to_ab_err(f_njy, f_err):\n",
    "    \"\"\"Propagate flux error to magnitude error.\"\"\"\n",
    "    f_njy = np.asarray(f_njy)\n",
    "    f_err = np.asarray(f_err)\n",
    "    mag_err = np.full_like(f_njy, fill_value=np.nan, dtype=float)\n",
    "    mask = (f_njy > 0) & (f_err > 0)\n",
    "    mag_err[mask] = (2.5 / np.log(10)) * (f_err[mask] / f_njy[mask])\n",
    "    return mag_err\n"
   ]
  },
  {
   "cell_type": "code",
   "execution_count": null,
   "id": "88da0b26-88ce-41f8-b5b6-caf1c2d7afe0",
   "metadata": {
    "execution": {
     "iopub.execute_input": "2025-05-29T08:20:39.491390Z",
     "iopub.status.busy": "2025-05-29T08:20:39.491263Z",
     "iopub.status.idle": "2025-05-29T08:20:39.498897Z",
     "shell.execute_reply": "2025-05-29T08:20:39.498263Z",
     "shell.execute_reply.started": "2025-05-29T08:20:39.491378Z"
    }
   },
   "outputs": [],
   "source": [
    "def ab_mag_to_nJy(mag_ab):\n",
    "    \"\"\"Convert AB magnitude to flux in nanojanskys.\"\"\"\n",
    "    return 10 ** ((31.4 - mag_ab) / 2.5)\n"
   ]
  },
  {
   "cell_type": "markdown",
   "id": "a3f04297-3975-4baa-9e7f-146cd717904c",
   "metadata": {},
   "source": [
    "## 1) Build the table of SL\n",
    "\n",
    "- article : https://arxiv.org/pdf/1104.0931"
   ]
  },
  {
   "cell_type": "code",
   "execution_count": null,
   "id": "305a2903-3efb-4f55-8559-fe399266e457",
   "metadata": {
    "execution": {
     "iopub.execute_input": "2025-05-29T08:20:39.499535Z",
     "iopub.status.busy": "2025-05-29T08:20:39.499398Z",
     "iopub.status.idle": "2025-05-29T08:20:39.506929Z",
     "shell.execute_reply": "2025-05-29T08:20:39.506457Z",
     "shell.execute_reply.started": "2025-05-29T08:20:39.499522Z"
    }
   },
   "outputs": [],
   "source": [
    "#15422 44 03:32:38.21 –27:56:53.2 \n",
    "ra1 = \"03:32:38.21 hours\"\n",
    "dec1 = \"-27:56:53.2 degrees\"\n",
    "tile1 = 44\n",
    "\n",
    "#34244 94 03:32:06.45 –27:47:28.6 \n",
    "ra2 = \"03:32:06.45 hours\"\n",
    "dec2 = \"-27:47:28.6 degrees\"\n",
    "tile2 = 94\n",
    "# Je ne trouve pas cette tile ==> FindTileForCutoutGEM\n",
    "tile2 = 32\n",
    "\n",
    "#40173 35 03:33:19.45 –27:44:50.0 \n",
    "ra3 = \"03:33:19.45 hours\"\n",
    "dec3 = \"-27:44:50.0 degrees\"\n",
    "tile3 = 35\n",
    "\n",
    "#43242 45 03:31:55.35 –27:43:23.5 \n",
    "ra4 = \"03:31:55.35 hours\"\n",
    "dec4 = \"-27:43:23.5 degrees\"\n",
    "tile4 = 45\n",
    "\n",
    "#46446 47 03:31:35.94 –27:41:48.2 \n",
    "ra5 = \"03:31:35.94 hours\"\n",
    "dec5 = \"-27:41:48.2 degrees\"\n",
    "tile5 = 47\n",
    "\n",
    "#12589 03:31:24.89 −27:58:07.0\n",
    "ra6 = \"03:31:24.89 hours\"\n",
    "dec6 = \"-27:58:07.0 degrees\"\n",
    "tile6 = 17\n",
    "\n",
    "#43797 03:31:31.74 −27:43:00.8 \n",
    "ra7 = \"03:31:31.74 hours\"\n",
    "dec7 = \"-27:43:00.8 degrees\"\n",
    "tile7 = 47\n",
    "\n",
    "#28294 03:31:50.54 −27:50:28.4 \n",
    "ra8 = \"03:31:50.54 hours\"\n",
    "dec8 = \"-27:50:28.4 degrees\"\n",
    "tile8 = 33\n",
    "\n",
    "#36857 03:31:53.24 −27:46:18.9\n",
    "ra9 = \"03:31:53.24 hours\"\n",
    "dec9 = \"-27:46:18.9 degrees\"\n",
    "tile9 = 38\n",
    "\n",
    "#36714 03:32:59.78 −27:46:26.4 \n",
    "ra10 = \"03:32:59.78 hours\"\n",
    "dec10 = \"-27:46:26.4 degrees\"\n",
    "tile10 = 37\n"
   ]
  },
  {
   "cell_type": "code",
   "execution_count": null,
   "id": "11d6340e-bd50-4321-b28c-ab0857c0b9fe",
   "metadata": {
    "execution": {
     "iopub.execute_input": "2025-05-29T08:20:39.507531Z",
     "iopub.status.busy": "2025-05-29T08:20:39.507400Z",
     "iopub.status.idle": "2025-05-29T08:20:39.514715Z",
     "shell.execute_reply": "2025-05-29T08:20:39.514337Z",
     "shell.execute_reply.started": "2025-05-29T08:20:39.507518Z"
    }
   },
   "outputs": [],
   "source": [
    "lsstcomcam_targets = {}\n",
    "# high rank\n",
    "lsstcomcam_targets[\"ECDFS_G15422\"] = {\"field_name\": \"GEMS-15422\", \"ra\": 53.159208333333325, \"dec\": -27.94811111111111,\"tile\":tile1}\n",
    "lsstcomcam_targets[\"ECDFS_G34244\"] = {\"field_name\": \"GEMS-34244\", \"ra\": 53.02687499999999 , \"dec\": -27.79127777777778,\"tile\":tile2}\n",
    "lsstcomcam_targets[\"ECDFS_G40173\"] = {\"field_name\": \"GEMS-40173\", \"ra\": 53.33104166666666 , \"dec\": -27.747222222222224,\"tile\":tile3}\n",
    "lsstcomcam_targets[\"ECDFS_G43242\"] = {\"field_name\": \"GEMS-43242\", \"ra\": 52.980624999999996 , \"dec\": -27.72319444444444,\"tile\":tile4}\n",
    "lsstcomcam_targets[\"ECDFS_G46446\"] = {\"field_name\": \"GEMS-46446\", \"ra\": 52.89975 , \"dec\": -27.696722222222224,\"tile\":tile5}\n",
    "\n",
    "# low rank\n",
    "lsstcomcam_targets[\"ECDFS_G12589\"] = {\"field_name\": \"GEMS-12589\", \"ra\": 52.85370833333333, \"dec\": -27.96861111111111,\"tile\":tile6}\n",
    "lsstcomcam_targets[\"ECDFS_G43797\"] = {\"field_name\": \"GEMS-43797\", \"ra\": 52.88224999999999, \"dec\": -27.71688888888889,\"tile\":tile7}\n",
    "\n",
    "lsstcomcam_targets[\"ECDFS_G28294\"] = {\"field_name\": \"GEMS-28294\", \"ra\": 52.960583333333325 , \"dec\": -27.84122222222222,\"tile\":tile8}\n",
    "lsstcomcam_targets[\"ECDFS_G6857\"] = {\"field_name\": \"GEMS-6857\", \"ra\": 52.97183333333333 , \"dec\": -27.771916666666666,\"tile\":tile9}\n",
    "lsstcomcam_targets[\"ECDFS_G36714\"] = {\"field_name\": \"GEMS-36714\", \"ra\": 53.249083333333324, \"dec\": -27.773999999999997,\"tile\":tile10}\n"
   ]
  },
  {
   "cell_type": "code",
   "execution_count": null,
   "id": "f87bbd5f-724f-4b64-9ae8-a4410cc89188",
   "metadata": {
    "execution": {
     "iopub.execute_input": "2025-05-29T08:20:39.515291Z",
     "iopub.status.busy": "2025-05-29T08:20:39.515158Z",
     "iopub.status.idle": "2025-05-29T08:20:39.522189Z",
     "shell.execute_reply": "2025-05-29T08:20:39.521809Z",
     "shell.execute_reply.started": "2025-05-29T08:20:39.515279Z"
    }
   },
   "outputs": [],
   "source": [
    "df = pd.DataFrame(lsstcomcam_targets).T"
   ]
  },
  {
   "cell_type": "code",
   "execution_count": null,
   "id": "d4ba67e1-c6c9-45d7-a467-3cab1ddb7e17",
   "metadata": {
    "execution": {
     "iopub.execute_input": "2025-05-29T08:20:39.522759Z",
     "iopub.status.busy": "2025-05-29T08:20:39.522625Z",
     "iopub.status.idle": "2025-05-29T08:20:39.532495Z",
     "shell.execute_reply": "2025-05-29T08:20:39.532142Z",
     "shell.execute_reply.started": "2025-05-29T08:20:39.522746Z"
    }
   },
   "outputs": [],
   "source": [
    "df"
   ]
  },
  {
   "cell_type": "code",
   "execution_count": null,
   "id": "82f4b7d2-fa97-4e39-8b63-1a4e8fc6bc9f",
   "metadata": {
    "execution": {
     "iopub.execute_input": "2025-05-29T08:20:39.533058Z",
     "iopub.status.busy": "2025-05-29T08:20:39.532930Z",
     "iopub.status.idle": "2025-05-29T08:20:39.536621Z",
     "shell.execute_reply": "2025-05-29T08:20:39.536274Z",
     "shell.execute_reply.started": "2025-05-29T08:20:39.533045Z"
    }
   },
   "outputs": [],
   "source": [
    "# candidates\n",
    "key = \"ECDFS_G15422\"\n",
    "#key = \"ECDFS_G34244\"\n",
    "#key = \"ECDFS_G40173\"\n",
    "#key= \"ECDFS_G43242\"\n",
    "#key= \"ECDFS_G46446\"\n",
    "\n",
    "# unknown\n",
    "#key = \"ECDFS_G12589\"\n",
    "#key = \"ECDFS_G43797\"\n",
    "#key = \"ECDFS_G28294\"\n",
    "#key = \"ECDFS_G6857\"\n",
    "#key = \"ECDFS_G36714\"\n",
    "\n",
    "the_target = lsstcomcam_targets[key]\n",
    "target_ra = the_target[\"ra\"]\n",
    "target_dec = the_target[\"dec\"]\n",
    "target_name = the_target[\"field_name\"]\n",
    "\n",
    "target_title = (\n",
    "    the_target[\"field_name\"] +  f\" (ra,dec) = ({target_ra:.2f},{target_dec:.2f}) \"\n",
    ")\n",
    "target_point = SpherePoint(target_ra, target_dec, degrees)\n",
    "target_coord = SkyCoord(ra=target_ra*u.deg, dec=target_dec*u.deg)\n",
    "#target_name = f\"SL :: {key}\""
   ]
  },
  {
   "cell_type": "markdown",
   "id": "3506978f-3a1e-47a9-90c1-b576f17d092f",
   "metadata": {},
   "source": [
    "## Initialisation of rubin science pipeline\n",
    "- Check here the collection available : https://rubinobs.atlassian.net/wiki/spaces/DM/pages/226656354/LSSTComCam+Intermittent+Cumulative+DRP+Runs"
   ]
  },
  {
   "cell_type": "markdown",
   "id": "032c0193-0ca9-487a-943f-957dcea64a53",
   "metadata": {},
   "source": [
    "### Configuration"
   ]
  },
  {
   "cell_type": "code",
   "execution_count": null,
   "id": "58131b3b-f3bf-461a-8c71-d236e7d5e7fa",
   "metadata": {
    "execution": {
     "iopub.execute_input": "2025-05-29T08:20:39.537227Z",
     "iopub.status.busy": "2025-05-29T08:20:39.537097Z",
     "iopub.status.idle": "2025-05-29T08:20:39.543061Z",
     "shell.execute_reply": "2025-05-29T08:20:39.542710Z",
     "shell.execute_reply.started": "2025-05-29T08:20:39.537214Z"
    }
   },
   "outputs": [],
   "source": [
    "# The output repo is tagged with the Jira ticket number \"DM-40356\":\n",
    "repo = '/repo/main'\n",
    "\n",
    "collection = 'LSSTComCam/runs/DRP/DP1/w_2025_10/DM-49359' # work\n",
    "#collection = 'LSSTComCam/runs/DRP/DP1/w_2025_17/DM-50530' # Does not work : No objectTable\n",
    "#collection = \"LSSTComCam/runs/DRP/DP1/w_2025_15/DM-50050\" # Does not work : No objectTable\n",
    "#collection = \"LSSTComCam/runs/DRP/DP1/w_2025_14/DM-49864\" # Does not work : No objectTable\n",
    "\n",
    "# bad : crash collection = 'LSSTComCam/runs/DRP/DP1/w_2025_08/DM-49029'\n",
    "\n",
    "# bad : collection = \"LSSTComCam/runs/DRP/20241101_20241211/w_2024_51/DM-48233\"\n",
    "\n",
    "# not working perhaps because I am using w_2025_10 version\n",
    "# bad : no ccd visit collection = \"LSSTComCam/runs/DRP/DP1/w_2025_14/DM-49864\"\n",
    "# bad : no ccd visit collection = 'LSSTComCam/runs/DRP/DP1/w_2025_15/DM-50050'\n",
    "# bad : no cce visit collection = 'LSSTComCam/runs/DRP/DP1/w_2025_14/DM-49864'\n",
    "# bad : no cce visit collection collection = 'LSSTComCam/runs/DRP/DP1/w_2025_13/DM-49751'\n",
    "\n",
    "\n",
    "instrument = \"LSSTComCam\"\n",
    "skymapName = \"lsst_cells_v1\"\n",
    "where_clause = \"instrument = \\'\" + instrument+ \"\\'\"\n",
    "collectionStr = collection.replace(\"/\", \"_\")"
   ]
  },
  {
   "cell_type": "code",
   "execution_count": null,
   "id": "5aaaded0-f204-4b81-a359-6b9872f7c21d",
   "metadata": {
    "execution": {
     "iopub.execute_input": "2025-05-29T08:20:39.543829Z",
     "iopub.status.busy": "2025-05-29T08:20:39.543488Z",
     "iopub.status.idle": "2025-05-29T08:20:39.549917Z",
     "shell.execute_reply": "2025-05-29T08:20:39.549569Z",
     "shell.execute_reply.started": "2025-05-29T08:20:39.543815Z"
    }
   },
   "outputs": [],
   "source": [
    "FLAG_DUMP_COLLECTIONS = False\n",
    "FLAG_DUMP_DATASETS = False\n",
    "FLAG_DUMP_OBJECTSTABLECOLUMNS = False\n",
    "FLAG_CUT_OBJECTSMAG = True\n",
    "FLAG_CUT_OBJECTSSNR = True"
   ]
  },
  {
   "cell_type": "code",
   "execution_count": null,
   "id": "a66ee4ac-6255-4779-bdb3-088bee0f7058",
   "metadata": {
    "execution": {
     "iopub.execute_input": "2025-05-29T08:20:39.550463Z",
     "iopub.status.busy": "2025-05-29T08:20:39.550338Z",
     "iopub.status.idle": "2025-05-29T08:20:39.557859Z",
     "shell.execute_reply": "2025-05-29T08:20:39.557514Z",
     "shell.execute_reply.started": "2025-05-29T08:20:39.550451Z"
    }
   },
   "outputs": [],
   "source": [
    "MAGCUT = 24.0\n",
    "SNRCUT = 5.0"
   ]
  },
  {
   "cell_type": "code",
   "execution_count": null,
   "id": "d60358a6-62e7-4cc4-9440-3b178d76abe2",
   "metadata": {
    "execution": {
     "iopub.execute_input": "2025-05-29T08:20:39.558405Z",
     "iopub.status.busy": "2025-05-29T08:20:39.558278Z",
     "iopub.status.idle": "2025-05-29T08:20:39.564190Z",
     "shell.execute_reply": "2025-05-29T08:20:39.563826Z",
     "shell.execute_reply.started": "2025-05-29T08:20:39.558393Z"
    }
   },
   "outputs": [],
   "source": [
    "all_bands = [\"u\", \"g\", \"r\", \"i\", \"z\", \"y\"]\n",
    "all_bands_colors = [\"blue\", \"green\", \"red\", \"orange\", \"grey\", \"purple\"]"
   ]
  },
  {
   "cell_type": "markdown",
   "id": "e8f0113b-9e9a-46b8-9271-c4bde6d64679",
   "metadata": {},
   "source": [
    "### Initialisation of Butler"
   ]
  },
  {
   "cell_type": "code",
   "execution_count": null,
   "id": "804fcb8b-d567-4a27-b102-05ed002051c4",
   "metadata": {
    "execution": {
     "iopub.execute_input": "2025-05-29T08:20:39.564850Z",
     "iopub.status.busy": "2025-05-29T08:20:39.564602Z",
     "iopub.status.idle": "2025-05-29T08:20:40.075431Z",
     "shell.execute_reply": "2025-05-29T08:20:40.075028Z",
     "shell.execute_reply.started": "2025-05-29T08:20:39.564836Z"
    }
   },
   "outputs": [],
   "source": [
    "# Initialize the butler repo:\n",
    "butler = Butler(repo, collections=collection)\n",
    "registry = butler.registry"
   ]
  },
  {
   "cell_type": "code",
   "execution_count": null,
   "id": "03249edb-84b0-4f36-ae94-af25391b468e",
   "metadata": {
    "execution": {
     "iopub.execute_input": "2025-05-29T08:20:40.076037Z",
     "iopub.status.busy": "2025-05-29T08:20:40.075897Z",
     "iopub.status.idle": "2025-05-29T08:20:40.318031Z",
     "shell.execute_reply": "2025-05-29T08:20:40.317594Z",
     "shell.execute_reply.started": "2025-05-29T08:20:40.076023Z"
    }
   },
   "outputs": [],
   "source": [
    "skymap = butler.get('skyMap', skymap=skymapName, collections=collection)"
   ]
  },
  {
   "cell_type": "code",
   "execution_count": null,
   "id": "5b61a4a0-edcf-462f-be02-61502f79db0b",
   "metadata": {
    "execution": {
     "iopub.execute_input": "2025-05-29T08:20:40.318642Z",
     "iopub.status.busy": "2025-05-29T08:20:40.318500Z",
     "iopub.status.idle": "2025-05-29T08:20:40.987917Z",
     "shell.execute_reply": "2025-05-29T08:20:40.987402Z",
     "shell.execute_reply.started": "2025-05-29T08:20:40.318627Z"
    }
   },
   "outputs": [],
   "source": [
    "camera = butler.get(\"camera\", collections=collection, instrument=instrument)"
   ]
  },
  {
   "cell_type": "markdown",
   "id": "1c9ef688-a5d5-4494-9628-e2ccaa978909",
   "metadata": {},
   "source": [
    "## Find in which patch is the SL target"
   ]
  },
  {
   "cell_type": "code",
   "execution_count": null,
   "id": "ef1ab817-3225-4cc3-82b5-37f86d1f33cc",
   "metadata": {
    "execution": {
     "iopub.execute_input": "2025-05-29T08:20:40.988549Z",
     "iopub.status.busy": "2025-05-29T08:20:40.988408Z",
     "iopub.status.idle": "2025-05-29T08:20:40.993881Z",
     "shell.execute_reply": "2025-05-29T08:20:40.993513Z",
     "shell.execute_reply.started": "2025-05-29T08:20:40.988534Z"
    }
   },
   "outputs": [],
   "source": [
    "# 4. Trouver dans quel tract/patch se trouve la coordonnée\n",
    "tract_info = skymap.findTract(target_point)\n",
    "patch_info = tract_info.findPatch(target_point)\n",
    "tractNbSel = tract_info.getId()\n",
    "patchNbSel =  patch_info.getSequentialIndex()\n",
    "where_clause = f\"skymap = '{skymapName}' AND tract = {tractNbSel} AND patch = {patchNbSel}\"\n",
    "print(where_clause)"
   ]
  },
  {
   "cell_type": "code",
   "execution_count": null,
   "id": "d8becbb0-1595-447b-a2ea-fe81515fbd3a",
   "metadata": {
    "execution": {
     "iopub.execute_input": "2025-05-29T08:20:40.994385Z",
     "iopub.status.busy": "2025-05-29T08:20:40.994257Z",
     "iopub.status.idle": "2025-05-29T08:20:41.001678Z",
     "shell.execute_reply": "2025-05-29T08:20:41.001310Z",
     "shell.execute_reply.started": "2025-05-29T08:20:40.994372Z"
    }
   },
   "outputs": [],
   "source": [
    "print('Tract number for SL target in ECDFS ::',tract_info.getId())"
   ]
  },
  {
   "cell_type": "code",
   "execution_count": null,
   "id": "fa1992cb-691e-4408-a03b-2477c0bf052d",
   "metadata": {
    "execution": {
     "iopub.execute_input": "2025-05-29T08:20:41.002175Z",
     "iopub.status.busy": "2025-05-29T08:20:41.002044Z",
     "iopub.status.idle": "2025-05-29T08:20:41.007767Z",
     "shell.execute_reply": "2025-05-29T08:20:41.007224Z",
     "shell.execute_reply.started": "2025-05-29T08:20:41.002162Z"
    }
   },
   "outputs": [],
   "source": [
    "TRACTSEL = tract_info.getId()"
   ]
  },
  {
   "cell_type": "code",
   "execution_count": null,
   "id": "f9fa13a1-94b3-4fe1-9716-a05ec15f576c",
   "metadata": {
    "execution": {
     "iopub.execute_input": "2025-05-29T08:20:41.008277Z",
     "iopub.status.busy": "2025-05-29T08:20:41.008151Z",
     "iopub.status.idle": "2025-05-29T08:20:41.014648Z",
     "shell.execute_reply": "2025-05-29T08:20:41.014295Z",
     "shell.execute_reply.started": "2025-05-29T08:20:41.008265Z"
    }
   },
   "outputs": [],
   "source": [
    "print(f\"TRACT : {TRACTSEL}\")"
   ]
  },
  {
   "cell_type": "code",
   "execution_count": null,
   "id": "826aebd4-b08d-4259-a715-2274b75182c2",
   "metadata": {
    "execution": {
     "iopub.execute_input": "2025-05-29T08:20:41.015173Z",
     "iopub.status.busy": "2025-05-29T08:20:41.015041Z",
     "iopub.status.idle": "2025-05-29T08:20:41.021897Z",
     "shell.execute_reply": "2025-05-29T08:20:41.021583Z",
     "shell.execute_reply.started": "2025-05-29T08:20:41.015160Z"
    }
   },
   "outputs": [],
   "source": [
    "# Check here the collections available\n",
    "if FLAG_DUMP_COLLECTIONS:\n",
    "    for _ in sorted(registry.queryCollections(expression=instrument + \"/*\")):\n",
    "        if \"/calib/\" not in _ and \"u/\" not in _:\n",
    "            print(_)"
   ]
  },
  {
   "cell_type": "code",
   "execution_count": null,
   "id": "59563647-7ecd-4366-a7e8-eb2354393559",
   "metadata": {
    "execution": {
     "iopub.execute_input": "2025-05-29T08:20:41.022430Z",
     "iopub.status.busy": "2025-05-29T08:20:41.022303Z",
     "iopub.status.idle": "2025-05-29T08:20:41.029416Z",
     "shell.execute_reply": "2025-05-29T08:20:41.029080Z",
     "shell.execute_reply.started": "2025-05-29T08:20:41.022418Z"
    }
   },
   "outputs": [],
   "source": [
    "if FLAG_DUMP_DATASETS:\n",
    "    for datasetType in registry.queryDatasetTypes():\n",
    "        if registry.queryDatasets(datasetType, collections=collection).any(\n",
    "            execute=False, exact=False\n",
    "        ):\n",
    "            # Limit search results to the data products\n",
    "            if (\n",
    "                (\"_config\" not in datasetType.name)\n",
    "                and (\"_log\" not in datasetType.name)\n",
    "                and (\"_metadata\" not in datasetType.name)\n",
    "                and (\"_resource_usage\" not in datasetType.name)\n",
    "                and (\"Plot\" not in datasetType.name)\n",
    "                and (\"Metric\" not in datasetType.name)\n",
    "                and (\"metric\" not in datasetType.name)\n",
    "                and ((\"Table\" in datasetType.name) or (\"Zeropointp\" in datasetType.name) or (\"fgcm\" in datasetType.name) or (\"transm\" in datasetType.name) or (\"Transm\" in datasetType.name)\n",
    "                or (\"source\" in datasetType.name) or (\"Source\" in datasetType.name) or (\"object\" in datasetType.name) or (\"Object\" in datasetType.name))\n",
    "            ):\n",
    "                \n",
    "                print(datasetType)"
   ]
  },
  {
   "cell_type": "markdown",
   "id": "57be8008-c849-440e-9bae-8649564d3373",
   "metadata": {},
   "source": [
    "### Get list of Tracts and Patches\n",
    "\n",
    "- Just to know which tracts are involved in the observations"
   ]
  },
  {
   "cell_type": "code",
   "execution_count": null,
   "id": "c0823ed5-9b23-4548-af23-12d707772667",
   "metadata": {
    "execution": {
     "iopub.execute_input": "2025-05-29T08:20:41.029857Z",
     "iopub.status.busy": "2025-05-29T08:20:41.029736Z",
     "iopub.status.idle": "2025-05-29T08:20:41.092478Z",
     "shell.execute_reply": "2025-05-29T08:20:41.092160Z",
     "shell.execute_reply.started": "2025-05-29T08:20:41.029845Z"
    }
   },
   "outputs": [],
   "source": [
    "datasettype = \"objectTable_tract\"\n",
    "therefs = butler.registry.queryDatasets(datasettype,  collections=collection)"
   ]
  },
  {
   "cell_type": "code",
   "execution_count": null,
   "id": "f810d737-c393-40bb-bc60-32e3706cf4a0",
   "metadata": {
    "execution": {
     "iopub.execute_input": "2025-05-29T08:20:41.092969Z",
     "iopub.status.busy": "2025-05-29T08:20:41.092841Z",
     "iopub.status.idle": "2025-05-29T08:20:41.100803Z",
     "shell.execute_reply": "2025-05-29T08:20:41.100503Z",
     "shell.execute_reply.started": "2025-05-29T08:20:41.092956Z"
    }
   },
   "outputs": [],
   "source": [
    "tractsId_list = np.unique([ref.dataId['tract'] for ref in therefs])\n",
    "tractsId_list = sorted(tractsId_list)\n",
    "print(tractsId_list)"
   ]
  },
  {
   "cell_type": "code",
   "execution_count": null,
   "id": "8635f396-48ec-4d82-8fc1-d4aa1396ffd3",
   "metadata": {
    "execution": {
     "iopub.execute_input": "2025-05-29T08:20:41.101264Z",
     "iopub.status.busy": "2025-05-29T08:20:41.101139Z",
     "iopub.status.idle": "2025-05-29T08:20:41.104767Z",
     "shell.execute_reply": "2025-05-29T08:20:41.104462Z",
     "shell.execute_reply.started": "2025-05-29T08:20:41.101252Z"
    }
   },
   "outputs": [],
   "source": [
    "target_coord"
   ]
  },
  {
   "cell_type": "markdown",
   "id": "5022ca8c-d08a-40f7-b8b1-9a9f56d394f2",
   "metadata": {},
   "source": [
    "## Define the Stack DM product used for the DRP analysis"
   ]
  },
  {
   "cell_type": "code",
   "execution_count": null,
   "id": "92905ff8-215c-43ac-a380-7599a171034f",
   "metadata": {
    "execution": {
     "iopub.execute_input": "2025-05-29T08:20:41.105285Z",
     "iopub.status.busy": "2025-05-29T08:20:41.105156Z",
     "iopub.status.idle": "2025-05-29T08:20:41.110863Z",
     "shell.execute_reply": "2025-05-29T08:20:41.110574Z",
     "shell.execute_reply.started": "2025-05-29T08:20:41.105272Z"
    }
   },
   "outputs": [],
   "source": [
    "print(where_clause)"
   ]
  },
  {
   "cell_type": "code",
   "execution_count": null,
   "id": "ae40f327-7e25-46aa-832f-7feaaf526420",
   "metadata": {
    "execution": {
     "iopub.execute_input": "2025-05-29T08:20:41.111322Z",
     "iopub.status.busy": "2025-05-29T08:20:41.111200Z",
     "iopub.status.idle": "2025-05-29T08:20:41.117715Z",
     "shell.execute_reply": "2025-05-29T08:20:41.117424Z",
     "shell.execute_reply.started": "2025-05-29T08:20:41.111311Z"
    }
   },
   "outputs": [],
   "source": [
    "datasettype = 'objectTable'\n",
    "#datasettype = 'diaObjectTable_tract'\n",
    "#datasettype =  'forcedSourceOnDiaObjectTable'\n",
    "#datasettype =  'diaSourceTable_tract'\n",
    "#datasettype = 'goodSeeingDiff_assocSsSrcTable' # bad table\n",
    "subtitle = collectionStr + \"_\" + datasettype"
   ]
  },
  {
   "cell_type": "code",
   "execution_count": null,
   "id": "dc2e290d-3fef-4989-a4ca-6e57b502eaac",
   "metadata": {
    "execution": {
     "iopub.execute_input": "2025-05-29T08:20:41.118218Z",
     "iopub.status.busy": "2025-05-29T08:20:41.118094Z",
     "iopub.status.idle": "2025-05-29T08:20:41.671578Z",
     "shell.execute_reply": "2025-05-29T08:20:41.671160Z",
     "shell.execute_reply.started": "2025-05-29T08:20:41.118206Z"
    }
   },
   "outputs": [],
   "source": [
    "closest_obj, sepMin, nearby_obj = RetrieveDRPObject_forTarget(butler,target_coord,datasettype,where_clause)"
   ]
  },
  {
   "cell_type": "code",
   "execution_count": null,
   "id": "23306ca1-a7e6-4280-b9d7-0b199c046db9",
   "metadata": {
    "execution": {
     "iopub.execute_input": "2025-05-29T08:20:41.672171Z",
     "iopub.status.busy": "2025-05-29T08:20:41.672021Z",
     "iopub.status.idle": "2025-05-29T08:20:41.939282Z",
     "shell.execute_reply": "2025-05-29T08:20:41.938821Z",
     "shell.execute_reply.started": "2025-05-29T08:20:41.672156Z"
    }
   },
   "outputs": [],
   "source": [
    "fig, ax = plt.subplots(1,1,figsize=(10,4))\n",
    "nearby_obj[\"sep\"].hist(bins=50,ax=ax,facecolor=\"b\")\n",
    "closest_obj[\"sep\"].hist(bins=50,range=(0,50),ax=ax,facecolor=\"r\")\n",
    "ax.set_yscale(\"log\")\n",
    "ax.set_title(\"object separation angle\")\n",
    "ax.set_xlabel(\"separation angle (arcsec)\")\n",
    "plt.show()"
   ]
  },
  {
   "cell_type": "code",
   "execution_count": null,
   "id": "ff75b08d-f582-42a4-9f5d-b317c289b065",
   "metadata": {
    "execution": {
     "iopub.execute_input": "2025-05-29T08:20:41.939955Z",
     "iopub.status.busy": "2025-05-29T08:20:41.939792Z",
     "iopub.status.idle": "2025-05-29T08:20:41.944567Z",
     "shell.execute_reply": "2025-05-29T08:20:41.944228Z",
     "shell.execute_reply.started": "2025-05-29T08:20:41.939936Z"
    }
   },
   "outputs": [],
   "source": [
    "closed_obj_cleaned = closest_obj.dropna(axis=1,how='all')\n",
    "closed_obj_cleaned.reset_index(level=0, inplace=True)"
   ]
  },
  {
   "cell_type": "code",
   "execution_count": null,
   "id": "1030887f-fffc-4efe-8292-ae5658663e8b",
   "metadata": {
    "execution": {
     "iopub.execute_input": "2025-05-29T08:20:41.945038Z",
     "iopub.status.busy": "2025-05-29T08:20:41.944911Z",
     "iopub.status.idle": "2025-05-29T08:20:41.961449Z",
     "shell.execute_reply": "2025-05-29T08:20:41.961087Z",
     "shell.execute_reply.started": "2025-05-29T08:20:41.945025Z"
    }
   },
   "outputs": [],
   "source": [
    "closed_obj_cleaned"
   ]
  },
  {
   "cell_type": "markdown",
   "id": "2651f1e7-a6e8-4702-a5b3-5d85c6b7b9ca",
   "metadata": {},
   "source": [
    "## Plot the deepCoadds Cutsout"
   ]
  },
  {
   "cell_type": "code",
   "execution_count": null,
   "id": "18884813-0cc2-4493-a0b4-a46b96c31a92",
   "metadata": {
    "execution": {
     "iopub.execute_input": "2025-05-29T08:20:41.961957Z",
     "iopub.status.busy": "2025-05-29T08:20:41.961830Z",
     "iopub.status.idle": "2025-05-29T08:20:55.167725Z",
     "shell.execute_reply": "2025-05-29T08:20:55.167268Z",
     "shell.execute_reply.started": "2025-05-29T08:20:41.961944Z"
    }
   },
   "outputs": [],
   "source": [
    "df_obj = closed_obj_cleaned\n",
    "\n",
    "for ib,band in enumerate(all_bands):\n",
    "    print(ib,band)\n",
    "    iframe = ib + 1\n",
    "\n",
    "    id_name = \"objectId\" \n",
    "    ra_name = \"ra\"\n",
    "    dec_name = \"dec\"\n",
    "   \n",
    "   \n",
    "    # object\n",
    "    df_obj = closed_obj_cleaned.iloc[0]\n",
    "    #df_obj[id_name] = df_obj[id_name].astype(int)\n",
    "    name_obj = int(df_obj[id_name])\n",
    "    ra_obj = float(df_obj[ra_name])\n",
    "    dec_obj = float(df_obj[dec_name])\n",
    "    title_obj = f\"{target_name} {band} {ra_obj:.3f}, {dec_obj:.3f}\"\n",
    "  \n",
    "    \n",
    "    # Extract the cutout around the GEM catalog\n",
    "    cutout, wcs, metadata = extract_deepCoadd_cutout(\n",
    "        ra_deg=target_ra,\n",
    "        dec_deg=target_dec,\n",
    "        tractInfo=tract_info,\n",
    "        patchInfo=patch_info,\n",
    "        band=band,\n",
    "        butler=butler,\n",
    "        skymapName=skymapName,\n",
    "        cutout_size_pixels = 100,\n",
    "        collection = collection,\n",
    "    )\n",
    "\n",
    "    # Optionnel : nom unique si plusieurs affichages\n",
    "    display = afwDisplay.Display(frame=iframe)\n",
    "    display.scale(\"asinh\", \"zscale\")\n",
    "    # Affiche le cutout\n",
    "    display.mtv(cutout.image, title=title_obj)\n",
    "\n",
    "    # Show the DIA object as\n",
    "    wcs = cutout.getWcs()\n",
    "    coord_obj = SpherePoint(ra_obj, dec_obj, degrees)\n",
    "    pixel_obj = wcs.skyToPixel(coord_obj)  # donne un Point2D (x, y)\n",
    "    display.dot(\"o\", pixel_obj.getX(), pixel_obj.getY(), size=10, ctype=all_bands_colors[ib])\n",
    "\n",
    "    # Show the target as +\n",
    "    target_point = SpherePoint(target_ra, target_dec, degrees)\n",
    "    pixel_target = wcs.skyToPixel(target_point)  # donne un Point2D (x, y)\n",
    "    display.dot(\"+\", pixel_target.getX(), pixel_target.getY(), size=10, ctype=all_bands_colors[ib])\n",
    "\n",
    "   "
   ]
  },
  {
   "cell_type": "code",
   "execution_count": null,
   "id": "1bbeeb36-aee2-4165-a061-740e0f939451",
   "metadata": {
    "execution": {
     "iopub.execute_input": "2025-05-29T08:20:55.168754Z",
     "iopub.status.busy": "2025-05-29T08:20:55.168258Z",
     "iopub.status.idle": "2025-05-29T08:20:55.171215Z",
     "shell.execute_reply": "2025-05-29T08:20:55.170844Z",
     "shell.execute_reply.started": "2025-05-29T08:20:55.168737Z"
    }
   },
   "outputs": [],
   "source": [
    "#display.erase()"
   ]
  },
  {
   "cell_type": "markdown",
   "id": "b727d802-a564-45de-8c50-33e9a3f50d5f",
   "metadata": {},
   "source": [
    "## Search for Standard sources"
   ]
  },
  {
   "cell_type": "code",
   "execution_count": null,
   "id": "cd069653-a2b8-4e4c-b199-dbf621a85578",
   "metadata": {
    "execution": {
     "iopub.execute_input": "2025-05-29T08:20:55.171777Z",
     "iopub.status.busy": "2025-05-29T08:20:55.171638Z",
     "iopub.status.idle": "2025-05-29T08:20:55.180138Z",
     "shell.execute_reply": "2025-05-29T08:20:55.179768Z",
     "shell.execute_reply.started": "2025-05-29T08:20:55.171762Z"
    }
   },
   "outputs": [],
   "source": [
    "datasettype =  'forcedSourceTable'\n",
    "#datasettype =  'diaSourceTable_tract'\n",
    "#datasettype = 'goodSeeingDiff_assocSsSrcTable' # bad table\n",
    "subtitle = collectionStr + \"_\" + datasettype"
   ]
  },
  {
   "cell_type": "code",
   "execution_count": null,
   "id": "001563b6-3bef-4527-a038-c867d3cf06f1",
   "metadata": {
    "execution": {
     "iopub.execute_input": "2025-05-29T08:20:55.180687Z",
     "iopub.status.busy": "2025-05-29T08:20:55.180555Z",
     "iopub.status.idle": "2025-05-29T08:20:55.187527Z",
     "shell.execute_reply": "2025-05-29T08:20:55.187173Z",
     "shell.execute_reply.started": "2025-05-29T08:20:55.180675Z"
    }
   },
   "outputs": [],
   "source": [
    "objectId_selected = closed_obj_cleaned.objectId.values[0]\n",
    "objectId_selected"
   ]
  },
  {
   "cell_type": "code",
   "execution_count": null,
   "id": "ecdd7f95-45fc-48a2-b711-9dc86d4a9252",
   "metadata": {
    "execution": {
     "iopub.execute_input": "2025-05-29T08:20:55.188087Z",
     "iopub.status.busy": "2025-05-29T08:20:55.187951Z",
     "iopub.status.idle": "2025-05-29T08:20:55.193759Z",
     "shell.execute_reply": "2025-05-29T08:20:55.193387Z",
     "shell.execute_reply.started": "2025-05-29T08:20:55.188067Z"
    }
   },
   "outputs": [],
   "source": [
    "figname1 = f\"sl_{target_name}_{datasettype}_v1.png\"\n",
    "figname2 = f\"sl_{target_name}_{datasettype}_v2.png\""
   ]
  },
  {
   "cell_type": "code",
   "execution_count": null,
   "id": "1a2d373f-987d-4784-bc02-4bb4ea68d3ec",
   "metadata": {
    "execution": {
     "iopub.execute_input": "2025-05-29T08:20:55.194413Z",
     "iopub.status.busy": "2025-05-29T08:20:55.194278Z",
     "iopub.status.idle": "2025-05-29T08:20:58.456483Z",
     "shell.execute_reply": "2025-05-29T08:20:58.455929Z",
     "shell.execute_reply.started": "2025-05-29T08:20:55.194400Z"
    }
   },
   "outputs": [],
   "source": [
    "fsrc_fromselectedobject = RetrieveForcedSources_forTarget(butler,objectId_selected,datasettype,where_clause)"
   ]
  },
  {
   "cell_type": "markdown",
   "id": "b9a1767f-df1a-499d-b4e0-42f6ba628bfb",
   "metadata": {},
   "source": [
    "### Add a few columns : Split visit into dayobs and seq"
   ]
  },
  {
   "cell_type": "code",
   "execution_count": null,
   "id": "777db096-c726-4318-8953-9dc450f217f6",
   "metadata": {
    "execution": {
     "iopub.execute_input": "2025-05-29T08:20:58.457201Z",
     "iopub.status.busy": "2025-05-29T08:20:58.457053Z",
     "iopub.status.idle": "2025-05-29T08:20:58.459782Z",
     "shell.execute_reply": "2025-05-29T08:20:58.459375Z",
     "shell.execute_reply.started": "2025-05-29T08:20:58.457187Z"
    }
   },
   "outputs": [],
   "source": [
    "t = fsrc_fromselectedobject"
   ]
  },
  {
   "cell_type": "markdown",
   "id": "2c24a09f-7395-4679-a103-d742bac033fd",
   "metadata": {},
   "source": [
    "### Add Magnitudes and Magnitudes errors"
   ]
  },
  {
   "cell_type": "code",
   "execution_count": null,
   "id": "0d7732b5-d537-4481-a473-6f424db24704",
   "metadata": {
    "execution": {
     "iopub.execute_input": "2025-05-29T08:20:58.460328Z",
     "iopub.status.busy": "2025-05-29T08:20:58.460202Z",
     "iopub.status.idle": "2025-05-29T08:20:58.473122Z",
     "shell.execute_reply": "2025-05-29T08:20:58.472761Z",
     "shell.execute_reply.started": "2025-05-29T08:20:58.460316Z"
    }
   },
   "outputs": [],
   "source": [
    "t[\"dateobs\"] = t.apply(lambda x: x['visit']//100_000, axis=1)\n",
    "t[\"seq\"] = t[\"visit\"] - t[\"dateobs\"]*100_000"
   ]
  },
  {
   "cell_type": "code",
   "execution_count": null,
   "id": "0ce50da4-5813-4622-b582-2f2e735da2b0",
   "metadata": {
    "execution": {
     "iopub.execute_input": "2025-05-29T08:20:58.473845Z",
     "iopub.status.busy": "2025-05-29T08:20:58.473548Z",
     "iopub.status.idle": "2025-05-29T08:20:58.483910Z",
     "shell.execute_reply": "2025-05-29T08:20:58.483545Z",
     "shell.execute_reply.started": "2025-05-29T08:20:58.473831Z"
    }
   },
   "outputs": [],
   "source": [
    "#t[\"mags\"] = t[\"psfFlux\"].apply(lambda flux : -2.5 * np.log10(flux) + 31.4)\n",
    "t[\"mags\"] = t[\"psfFlux\"].apply(nJy_to_ab_mag)\n",
    "t[\"magerr\"] = nJy_err_to_ab_err(t[\"psfFlux\"], t[\"psfFluxErr\"])                               \n",
    "t[\"valid\"] = (t[\"psfFlux\"] >0) & (~t[\"psfFlux_flag\"])\n",
    "visit_list = t[\"visit\"].astype(int)\n",
    "Nvisit = len(visit_list)"
   ]
  },
  {
   "cell_type": "markdown",
   "id": "4efcc129-8e59-413d-9363-fbcaebc22b59",
   "metadata": {},
   "source": [
    "### Find the time associated to each visit"
   ]
  },
  {
   "cell_type": "code",
   "execution_count": null,
   "id": "36971d9a-10bd-4ca5-844c-d4586081ffe8",
   "metadata": {
    "execution": {
     "iopub.execute_input": "2025-05-29T08:20:58.484558Z",
     "iopub.status.busy": "2025-05-29T08:20:58.484426Z",
     "iopub.status.idle": "2025-05-29T08:20:58.707187Z",
     "shell.execute_reply": "2025-05-29T08:20:58.706693Z",
     "shell.execute_reply.started": "2025-05-29T08:20:58.484545Z"
    }
   },
   "outputs": [],
   "source": [
    "df_times = FetchTimesForVisits(visit_list)"
   ]
  },
  {
   "cell_type": "code",
   "execution_count": null,
   "id": "ed7ac948-6310-459e-b0e9-c178adb77bdd",
   "metadata": {
    "execution": {
     "iopub.execute_input": "2025-05-29T08:20:58.707901Z",
     "iopub.status.busy": "2025-05-29T08:20:58.707752Z",
     "iopub.status.idle": "2025-05-29T08:20:58.809295Z",
     "shell.execute_reply": "2025-05-29T08:20:58.808876Z",
     "shell.execute_reply.started": "2025-05-29T08:20:58.707886Z"
    }
   },
   "outputs": [],
   "source": [
    "t[\"mjd\"] = t[\"visit\"].apply(lambda x: df_times.loc[x][\"mjd\"])\n",
    "t[\"isot\"] = t[\"visit\"].apply(lambda x: df_times.loc[x][\"isot\"])\n",
    "t[\"airmass\"] = t[\"visit\"].apply(lambda x: df_times.loc[x][\"airmass\"])\n",
    "t[\"azimuth\"] = t[\"visit\"].apply(lambda x: df_times.loc[x][\"azimuth\"])"
   ]
  },
  {
   "cell_type": "markdown",
   "id": "a868b53e-f3a7-4af5-b494-d95c8733790c",
   "metadata": {},
   "source": [
    "## Split the sources in different bands"
   ]
  },
  {
   "cell_type": "code",
   "execution_count": null,
   "id": "0fd6fe35-901d-4f80-b181-1f5b6767dbde",
   "metadata": {
    "execution": {
     "iopub.execute_input": "2025-05-29T08:20:58.809925Z",
     "iopub.status.busy": "2025-05-29T08:20:58.809781Z",
     "iopub.status.idle": "2025-05-29T08:20:58.815448Z",
     "shell.execute_reply": "2025-05-29T08:20:58.815051Z",
     "shell.execute_reply.started": "2025-05-29T08:20:58.809910Z"
    }
   },
   "outputs": [],
   "source": [
    "tb = {}\n",
    "for band in all_bands:\n",
    "    tb[band] = t[t[\"band\"] == band]"
   ]
  },
  {
   "cell_type": "markdown",
   "id": "cdbb432f-01d0-4dae-aaa0-a79d6131c6f5",
   "metadata": {},
   "source": [
    "## Plot light curves"
   ]
  },
  {
   "cell_type": "code",
   "execution_count": null,
   "id": "08022c24-e001-4ad4-8744-d6d91eafb689",
   "metadata": {
    "execution": {
     "iopub.execute_input": "2025-05-29T08:20:58.816054Z",
     "iopub.status.busy": "2025-05-29T08:20:58.815911Z",
     "iopub.status.idle": "2025-05-29T08:21:00.130523Z",
     "shell.execute_reply": "2025-05-29T08:21:00.130026Z",
     "shell.execute_reply.started": "2025-05-29T08:20:58.816040Z"
    }
   },
   "outputs": [],
   "source": [
    "plotLightCurvesSeparatedBands(tb,target_title,subtitle,figname1)"
   ]
  },
  {
   "cell_type": "code",
   "execution_count": null,
   "id": "fc4b00b2-b2cb-46c8-854c-d5d4bf61f6e0",
   "metadata": {
    "execution": {
     "iopub.execute_input": "2025-05-29T08:21:00.131267Z",
     "iopub.status.busy": "2025-05-29T08:21:00.131112Z",
     "iopub.status.idle": "2025-05-29T08:21:00.775393Z",
     "shell.execute_reply": "2025-05-29T08:21:00.774941Z",
     "shell.execute_reply.started": "2025-05-29T08:21:00.131251Z"
    }
   },
   "outputs": [],
   "source": [
    "plotLightCurvesAllTogetherBands(tb,target_title,subtitle,figname2)"
   ]
  },
  {
   "cell_type": "code",
   "execution_count": null,
   "id": "4127532c-af9c-4878-b1ad-765aed35d19f",
   "metadata": {
    "execution": {
     "iopub.execute_input": "2025-05-29T08:21:00.776082Z",
     "iopub.status.busy": "2025-05-29T08:21:00.775928Z",
     "iopub.status.idle": "2025-05-29T08:21:01.478938Z",
     "shell.execute_reply": "2025-05-29T08:21:01.478447Z",
     "shell.execute_reply.started": "2025-05-29T08:21:00.776061Z"
    }
   },
   "outputs": [],
   "source": [
    "plotLightCurvesSeparatedBands_coloredbyquantity(tb,\"airmass\",target_title,subtitle)"
   ]
  },
  {
   "cell_type": "code",
   "execution_count": null,
   "id": "470eb4d4-a04a-41ae-8c67-5178c3439dec",
   "metadata": {
    "execution": {
     "iopub.execute_input": "2025-05-29T08:21:01.479631Z",
     "iopub.status.busy": "2025-05-29T08:21:01.479486Z",
     "iopub.status.idle": "2025-05-29T08:21:02.174343Z",
     "shell.execute_reply": "2025-05-29T08:21:02.173786Z",
     "shell.execute_reply.started": "2025-05-29T08:21:01.479616Z"
    }
   },
   "outputs": [],
   "source": [
    "plotLightCurvesSeparatedBands_coloredbyquantity(tb,\"azimuth\",target_title,subtitle)"
   ]
  },
  {
   "cell_type": "code",
   "execution_count": null,
   "id": "e3c1ca3d-281e-4488-845d-23db6e3150be",
   "metadata": {
    "execution": {
     "iopub.execute_input": "2025-05-29T08:21:02.175000Z",
     "iopub.status.busy": "2025-05-29T08:21:02.174857Z",
     "iopub.status.idle": "2025-05-29T08:21:02.921315Z",
     "shell.execute_reply": "2025-05-29T08:21:02.920821Z",
     "shell.execute_reply.started": "2025-05-29T08:21:02.174986Z"
    }
   },
   "outputs": [],
   "source": [
    "#plotLightCurvesSeparatedBands_coloredbyquantity(tb,\"detector\",target_title,subtitle)\n",
    "plotLightCurvesSeparatedBands_coloredbydiscretequantity(tb,\"detector\",target_title,subtitle)"
   ]
  },
  {
   "cell_type": "code",
   "execution_count": null,
   "id": "32bcca7c-d079-47d5-ba3f-1ec9f61015ea",
   "metadata": {
    "execution": {
     "iopub.execute_input": "2025-05-29T08:21:02.922008Z",
     "iopub.status.busy": "2025-05-29T08:21:02.921863Z",
     "iopub.status.idle": "2025-05-29T08:21:03.611561Z",
     "shell.execute_reply": "2025-05-29T08:21:03.611011Z",
     "shell.execute_reply.started": "2025-05-29T08:21:02.921994Z"
    }
   },
   "outputs": [],
   "source": [
    "plotLightCurvesSeparatedBands_coloredbyquantity(tb,\"localBackground_instFlux\",target_title,subtitle)"
   ]
  },
  {
   "cell_type": "code",
   "execution_count": null,
   "id": "4f1da962-b5b4-44cf-86bb-df259e8d3bcb",
   "metadata": {
    "execution": {
     "iopub.execute_input": "2025-05-29T08:21:03.612227Z",
     "iopub.status.busy": "2025-05-29T08:21:03.612081Z",
     "iopub.status.idle": "2025-05-29T08:21:04.311607Z",
     "shell.execute_reply": "2025-05-29T08:21:04.311080Z",
     "shell.execute_reply.started": "2025-05-29T08:21:03.612213Z"
    }
   },
   "outputs": [],
   "source": [
    "plotLightCurvesSeparatedBands_coloredbyquantity(tb,\"detect_isPrimary\",target_title,subtitle)"
   ]
  },
  {
   "cell_type": "code",
   "execution_count": null,
   "id": "c8f7524d-1871-4052-8b52-84d738f1dc48",
   "metadata": {
    "execution": {
     "iopub.execute_input": "2025-05-29T08:21:04.312305Z",
     "iopub.status.busy": "2025-05-29T08:21:04.312159Z",
     "iopub.status.idle": "2025-05-29T08:21:04.316049Z",
     "shell.execute_reply": "2025-05-29T08:21:04.315608Z",
     "shell.execute_reply.started": "2025-05-29T08:21:04.312289Z"
    }
   },
   "outputs": [],
   "source": [
    "tb[\"g\"].columns"
   ]
  },
  {
   "cell_type": "code",
   "execution_count": null,
   "id": "97b8fc96-85ce-4669-af02-250e1339cb6f",
   "metadata": {},
   "outputs": [],
   "source": []
  },
  {
   "cell_type": "code",
   "execution_count": null,
   "id": "07831fcf-de6c-407c-b08a-d8cdb16b272e",
   "metadata": {},
   "outputs": [],
   "source": []
  }
 ],
 "metadata": {
  "kernelspec": {
   "display_name": "LSST",
   "language": "python",
   "name": "lsst"
  },
  "language_info": {
   "codemirror_mode": {
    "name": "ipython",
    "version": 3
   },
   "file_extension": ".py",
   "mimetype": "text/x-python",
   "name": "python",
   "nbconvert_exporter": "python",
   "pygments_lexer": "ipython3",
   "version": "3.12.10"
  }
 },
 "nbformat": 4,
 "nbformat_minor": 5
}
