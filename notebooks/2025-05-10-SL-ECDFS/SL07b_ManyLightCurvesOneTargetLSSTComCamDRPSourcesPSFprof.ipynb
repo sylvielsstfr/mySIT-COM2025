{
 "cells": [
  {
   "cell_type": "markdown",
   "id": "8f3da262-37ed-407f-908c-8ac5a52cb4db",
   "metadata": {},
   "source": [
    "# SL Light curves in the Extended Chandra Deep Field South in DRP Sources Light Curves using mergedForcedSourcesTable\n",
    "\n",
    "- author : Sylvie Dagoret-Campagne\n",
    "- affiliation : IJCLab/IN2P3/CNRS\n",
    "- member : DESC, rubin-inkind\n",
    "- creation date : 2025-05-28\n",
    "- last verification : 2025-05-29"
   ]
  },
  {
   "cell_type": "markdown",
   "id": "0bcb9c8b-c8a8-4f32-be7a-f8844cdc4102",
   "metadata": {},
   "source": [
    "- Confluence page : https://rubinobs.atlassian.net/wiki/spaces/LSSTCOM/pages/372867091/System-level+Science+Performance+Verification+Sprint\n",
    "- slides : https://docs.google.com/presentation/d/1bPjS5NGtiEL2lfjmvP1UYdG_tMEDfZxX26ayhf7MhtY/edit#slide=id.ga2f7fb1a1f_0_70"
   ]
  },
  {
   "cell_type": "markdown",
   "id": "f3737976-eab8-4483-a79d-796f738c4f22",
   "metadata": {},
   "source": [
    "- where to find the campains\n",
    "- https://rubinobs.atlassian.net/wiki/spaces/DM/pages/226656354/LSSTComCam+Intermittent+Cumulative+DRP+Runs\n",
    "\n",
    "- plot Navigator\n",
    "- https://usdf-rsp.slac.stanford.edu/plot-navigator\n",
    "- https://usdf-rsp.slac.stanford.edu/plot-navigator/plot/%2Frepo%2Fmain/LSSTComCam%2Fruns%2FDRP%2FDP1%2Fw_2025_05%2FDM-48666/objectTableCore_coaddInputCount_SkyPlot"
   ]
  },
  {
   "cell_type": "markdown",
   "id": "53b4594d-5de5-4fa1-8ada-f60f0018cac5",
   "metadata": {},
   "source": [
    "- Notebooks examples\n",
    "- https://github.com/lsst-dm/DMTR-401/blob/main/notebooks/test_LVV-T40_T1240.ipynb\n",
    "- https://github.com/lsst-dm/DMTR-412/blob/tickets/DM-38728/notebooks/test_LVV-T1751_AM1_AM2.ipynb"
   ]
  },
  {
   "cell_type": "markdown",
   "id": "8402aac4-562a-40cd-ac2b-c1ca76cae55b",
   "metadata": {},
   "source": [
    "- Redo Visits like here : https://github.com/sylvielsstfr/LSST-Rehearsal2024/blob/main/notebooks/Visits/stat_on_visits_LSSTComCamSim.ipynb\n",
    "- To find what I did on LSSTComCamSim : https://github.com/sylvielsstfr/LSST-Rehearsal2024/blob/main/notebooks/LightCurves/MultiColor_lightCurves-DMRehearsal2024_01-AuxTel-DZPOnCCD.ipynb\n",
    "- **Confluence page** : https://rubinobs.atlassian.net/wiki/spaces/LSSTCOM/pages/443613290/Science+Verification+Sprint+Feb+2025\n"
   ]
  },
  {
   "cell_type": "code",
   "execution_count": null,
   "id": "9d583412-a5a0-456e-84be-1fb658ddf016",
   "metadata": {
    "execution": {
     "iopub.execute_input": "2025-05-29T11:31:38.678140Z",
     "iopub.status.busy": "2025-05-29T11:31:38.677873Z",
     "iopub.status.idle": "2025-05-29T11:31:39.744645Z",
     "shell.execute_reply": "2025-05-29T11:31:39.743968Z",
     "shell.execute_reply.started": "2025-05-29T11:31:38.678125Z"
    }
   },
   "outputs": [],
   "source": [
    "# Confirm that the version of the Science Pipelines is recent:\n",
    "! echo $HOSTNAME\n",
    "! eups list -s | grep lsst_distrib"
   ]
  },
  {
   "cell_type": "code",
   "execution_count": null,
   "id": "8fbb9671-7d8e-4724-8c58-0f0a4fb9e5f0",
   "metadata": {
    "execution": {
     "iopub.execute_input": "2025-05-29T11:31:39.745462Z",
     "iopub.status.busy": "2025-05-29T11:31:39.745309Z",
     "iopub.status.idle": "2025-05-29T11:31:41.080362Z",
     "shell.execute_reply": "2025-05-29T11:31:41.079831Z",
     "shell.execute_reply.started": "2025-05-29T11:31:39.745444Z"
    }
   },
   "outputs": [],
   "source": [
    "from lsst.daf.butler import Butler\n",
    "import lsst.geom as geom\n",
    "\n",
    "import lsst.afw.display as afwDisplay\n",
    "\n",
    "from lsst.geom import SpherePoint, degrees, Point2D, Point2I, Extent2I, Box2I\n",
    "from lsst.afw.image import ExposureF\n",
    "from lsst.skymap import PatchInfo, Index2D"
   ]
  },
  {
   "cell_type": "code",
   "execution_count": null,
   "id": "8983f25c-dadf-434b-bb84-e24a3150f766",
   "metadata": {
    "execution": {
     "iopub.execute_input": "2025-05-29T11:31:41.081298Z",
     "iopub.status.busy": "2025-05-29T11:31:41.080910Z",
     "iopub.status.idle": "2025-05-29T11:31:41.138418Z",
     "shell.execute_reply": "2025-05-29T11:31:41.137783Z",
     "shell.execute_reply.started": "2025-05-29T11:31:41.081282Z"
    }
   },
   "outputs": [],
   "source": [
    "afwDisplay.setDefaultBackend(\"firefly\")"
   ]
  },
  {
   "cell_type": "code",
   "execution_count": null,
   "id": "e814e3d6-750c-4e7f-a9a5-5bf1e2f7205f",
   "metadata": {
    "execution": {
     "iopub.execute_input": "2025-05-29T11:31:41.139407Z",
     "iopub.status.busy": "2025-05-29T11:31:41.139051Z",
     "iopub.status.idle": "2025-05-29T11:31:42.456001Z",
     "shell.execute_reply": "2025-05-29T11:31:42.455476Z",
     "shell.execute_reply.started": "2025-05-29T11:31:41.139392Z"
    }
   },
   "outputs": [],
   "source": [
    "import os\n",
    "import gc\n",
    "import glob\n",
    "import numpy as np\n",
    "import pandas as pd\n",
    "import random\n",
    "\n",
    "import astropy.units as u\n",
    "from astropy.coordinates import SkyCoord\n",
    "from astroquery.gaia import Gaia\n",
    "Gaia.MAIN_GAIA_TABLE = \"gaiadr3.gaia_source\"  # Reselect Data Release 3, default\n",
    "Gaia.ROW_LIMIT = 100000\n",
    "from astropy.visualization import (MinMaxInterval, AsinhStretch, ZScaleInterval, LogStretch, LinearStretch,\n",
    "                                   ImageNormalize)"
   ]
  },
  {
   "cell_type": "code",
   "execution_count": null,
   "id": "e68df967-7870-47da-a4dd-760df6732aa5",
   "metadata": {
    "execution": {
     "iopub.execute_input": "2025-05-29T11:31:42.456938Z",
     "iopub.status.busy": "2025-05-29T11:31:42.456583Z",
     "iopub.status.idle": "2025-05-29T11:31:43.100307Z",
     "shell.execute_reply": "2025-05-29T11:31:43.099761Z",
     "shell.execute_reply.started": "2025-05-29T11:31:42.456922Z"
    }
   },
   "outputs": [],
   "source": [
    "import seaborn as sns\n",
    "from itertools import cycle, islice"
   ]
  },
  {
   "cell_type": "code",
   "execution_count": null,
   "id": "f385c649-efb6-40a8-b9f7-ebc65c441a04",
   "metadata": {
    "execution": {
     "iopub.execute_input": "2025-05-29T11:31:43.101100Z",
     "iopub.status.busy": "2025-05-29T11:31:43.100830Z",
     "iopub.status.idle": "2025-05-29T11:31:43.103628Z",
     "shell.execute_reply": "2025-05-29T11:31:43.103203Z",
     "shell.execute_reply.started": "2025-05-29T11:31:43.101084Z"
    }
   },
   "outputs": [],
   "source": [
    "from astropy.time import Time\n",
    "from datetime import datetime, timedelta"
   ]
  },
  {
   "cell_type": "code",
   "execution_count": null,
   "id": "46c68d72-750b-4bb9-b92a-1fe6e1728171",
   "metadata": {
    "execution": {
     "iopub.execute_input": "2025-05-29T11:31:43.104251Z",
     "iopub.status.busy": "2025-05-29T11:31:43.104115Z",
     "iopub.status.idle": "2025-05-29T11:31:43.111449Z",
     "shell.execute_reply": "2025-05-29T11:31:43.111007Z",
     "shell.execute_reply.started": "2025-05-29T11:31:43.104238Z"
    }
   },
   "outputs": [],
   "source": [
    "import lsst\n",
    "import lsst.geom as geom\n",
    "from lsst.geom import Angle\n",
    "from lsst.geom import SpherePoint\n",
    "from lsst.geom import AngleUnit"
   ]
  },
  {
   "cell_type": "code",
   "execution_count": null,
   "id": "a11a939d-942c-48b8-97ec-f426d85cd47f",
   "metadata": {
    "execution": {
     "iopub.execute_input": "2025-05-29T11:31:43.112010Z",
     "iopub.status.busy": "2025-05-29T11:31:43.111884Z",
     "iopub.status.idle": "2025-05-29T11:31:43.119013Z",
     "shell.execute_reply": "2025-05-29T11:31:43.118646Z",
     "shell.execute_reply.started": "2025-05-29T11:31:43.111998Z"
    }
   },
   "outputs": [],
   "source": [
    "# For Angle conversion\n",
    "from astropy.coordinates import Angle\n",
    "import astropy.units as u\n",
    "from astropy.coordinates import SkyCoord"
   ]
  },
  {
   "cell_type": "code",
   "execution_count": null,
   "id": "224cf803-f7cc-4e49-9dc9-46779557286e",
   "metadata": {
    "execution": {
     "iopub.execute_input": "2025-05-29T11:31:43.119616Z",
     "iopub.status.busy": "2025-05-29T11:31:43.119483Z",
     "iopub.status.idle": "2025-05-29T11:31:43.127663Z",
     "shell.execute_reply": "2025-05-29T11:31:43.127224Z",
     "shell.execute_reply.started": "2025-05-29T11:31:43.119603Z"
    }
   },
   "outputs": [],
   "source": [
    "def find_tract_patch_and_display(butler, skymap,ra_deg, dec_deg, band, framecount):\n",
    "    \"\"\"\n",
    "    - butler\n",
    "    - skymap\n",
    "    - ra_deg, dec_deg : source\n",
    "    - band\n",
    "    - framecount\n",
    "    \"\"\"\n",
    "    # Ouvrir le dépôt\n",
    "    #butler = Butler(repo)\n",
    "    #skymap = butler.get(\"skyMap\")\n",
    "    band_to_color = {\"u\":\"blue\",\"g\":\"green\",\"r\":\"red\",\"i\":\"orange\",\"z\":\"yellow\",\"y\":\"purple\"}\n",
    "\n",
    "    datasettype = \"objectTable_tract\"\n",
    "    therefs = butler.registry.queryDatasets(datasettype,  collections=collection)\n",
    "\n",
    "    # Créer le point céleste\n",
    "    coord = SpherePoint(ra_deg * degrees, dec_deg * degrees)\n",
    "\n",
    "\n",
    "    found = False\n",
    "    # loop only on existing tracts\n",
    "    \n",
    "    for ref in therefs:\n",
    "        tract_id = ref.dataId[\"tract\"]\n",
    "        tractInfo = skymap[tract_id]\n",
    "        if tractInfo.contains(coord):\n",
    "            patchInfo = tractInfo.findPatch(coord)\n",
    "            patch_id = patchInfo.getIndex()  # Tuple (x, y)\n",
    "            patch_indexseq = patchInfo.getSequentialIndex()\n",
    "            print(f\"Tract: {tract_id}, Patch: {patch_indexseq}\")\n",
    "            found = True\n",
    "            break\n",
    "    # Charger l’image coadd correspondante\n",
    "    dataId = {\"tract\": tract_id, \"patch\": patch_indexseq, \"band\": band,\"skymap\": skymapName}\n",
    "    #deepCoadd_calexp\n",
    "    coadd = butler.get(\"deepCoadd_calexp\", dataId)\n",
    "    # Récupération du WCS\n",
    "    wcs = coadd.getWcs()\n",
    "\n",
    "    datatitle = f\"deepcoadd-LSSTComCam : {tract_id} , {patch_indexseq} , {band}\"\n",
    "    print(datatitle)\n",
    "\n",
    "    # Affichage avec marqueur\n",
    "    \n",
    "    display = afwDisplay.Display(frame = framecount)\n",
    "    display.scale('asinh', 'zscale')\n",
    "    #afw_display.scale('linear', min=zmin, max=zmax)\n",
    "    #display.setImageColormap(cmap='grey')\n",
    "    display.setImageColormap(cmap='Grey_r')\n",
    "    display.mtv(coadd.getImage(),title=datatitle)\n",
    "\n",
    "    # Création du point céleste\n",
    "    pix_point = wcs.skyToPixel(coord)\n",
    "    x, y = pix_point.x,pix_point.y\n",
    "    \n",
    "    col = band_to_color[band] \n",
    "    display.dot(\"+\", x, y, size=50, ctype=col)\n",
    "    \n",
    "\n",
    "    \n",
    "    return tract_id, patch_indexseq, band"
   ]
  },
  {
   "cell_type": "code",
   "execution_count": null,
   "id": "d3b2516d-c0fb-4c9d-9a4d-c0ab951c799a",
   "metadata": {
    "execution": {
     "iopub.execute_input": "2025-05-29T11:31:43.128281Z",
     "iopub.status.busy": "2025-05-29T11:31:43.128151Z",
     "iopub.status.idle": "2025-05-29T11:31:43.135911Z",
     "shell.execute_reply": "2025-05-29T11:31:43.135480Z",
     "shell.execute_reply.started": "2025-05-29T11:31:43.128269Z"
    }
   },
   "outputs": [],
   "source": [
    "def extract_deepCoadd_cutout(\n",
    "    ra_deg,\n",
    "    dec_deg,\n",
    "    tractInfo,\n",
    "    patchInfo,\n",
    "    band,\n",
    "    butler,\n",
    "    skymapName,\n",
    "    cutout_size_pixels,\n",
    "    collection,\n",
    "):\n",
    "    \"\"\"\n",
    "    Extract a square cutout from a deepCoadd image centered on given sky coordinates.\n",
    "\n",
    "    Parameters\n",
    "    ----------\n",
    "    ra_deg : float\n",
    "        Right ascension in degrees.\n",
    "    dec_deg : float\n",
    "        Declination in degrees.\n",
    "    tractInfo : lsst.skymap.TractInfo\n",
    "        Tract information object (from SkyMap).\n",
    "    patchInfo : lsst.skymap.PatchInfo\n",
    "        Patch information object (from SkyMap).\n",
    "    band : str\n",
    "        Photometric band (e.g., 'i', 'r', 'g').\n",
    "    butler : lsst.daf.butler.Butler\n",
    "        Butler instance to access LSST data.\n",
    "    cutout_size_pixels : int, optional\n",
    "        Size of the cutout in pixels (square region), default is 200.\n",
    "    collection : str, optional\n",
    "        Name of the collection containing deepCoadd data.\n",
    "\n",
    "    Returns\n",
    "    -------\n",
    "    cutout : lsst.afw.image.ExposureF\n",
    "        The extracted image cutout.\n",
    "    wcs : lsst.afw.geom.SkyWcs\n",
    "        World Coordinate System associated with the cutout.\n",
    "    metadata : lsst.daf.base.PropertyList\n",
    "        FITS metadata header for the cutout image.\n",
    "    \"\"\"\n",
    "\n",
    "    # Build dataId for the deepCoadd image\n",
    "    tract = tractInfo.getId()\n",
    "    patch = patchInfo.getSequentialIndex()\n",
    "    dataId = dict(tract=tract, patch=patch, band=band, skymap=skymapName)\n",
    "\n",
    "    # Retrieve the deepCoadd exposure\n",
    "    exposure = butler.get(\"deepCoadd\", dataId=dataId, collections=collection)\n",
    "    image_bbox = exposure.getBBox()\n",
    "\n",
    "    # Convert sky coordinates (RA, Dec) to pixel coordinates using WCS\n",
    "    coord = SpherePoint(ra_deg, dec_deg, degrees)\n",
    "    wcs = exposure.getWcs()\n",
    "    pixel_center = wcs.skyToPixel(coord)\n",
    "\n",
    "    half_size = cutout_size_pixels // 2\n",
    "\n",
    "    # Centre du cutout\n",
    "    center_x = int(pixel_center.getX())\n",
    "    center_y = int(pixel_center.getY())\n",
    "\n",
    "    # Coordonnées du coin en bas à gauche\n",
    "    corner_x = max(center_x - half_size, image_bbox.getMinX())\n",
    "    corner_y = max(center_y - half_size, image_bbox.getMinY())\n",
    "\n",
    "    # Ne pas dépasser la taille max de l'image\n",
    "    corner_x = min(corner_x, image_bbox.getMaxX() - cutout_size_pixels)\n",
    "    corner_y = min(corner_y, image_bbox.getMaxY() - cutout_size_pixels)\n",
    "\n",
    "    # Define a square bounding box around the target pixel\n",
    "    # Création du BBox valide\n",
    "    corner = Point2I(corner_x, corner_y)\n",
    "    bbox = Box2I(corner, Extent2I(cutout_size_pixels, cutout_size_pixels))\n",
    "\n",
    "    # Extract the cutout from the original exposure\n",
    "    cutout = exposure.Factory(exposure, bbox, deep=True)\n",
    "\n",
    "    return cutout, cutout.getWcs(), cutout.getMetadata()"
   ]
  },
  {
   "cell_type": "code",
   "execution_count": null,
   "id": "bd5588af-14ec-4f29-96c8-2cb1e2e226a5",
   "metadata": {
    "execution": {
     "iopub.execute_input": "2025-05-29T11:31:43.136534Z",
     "iopub.status.busy": "2025-05-29T11:31:43.136404Z",
     "iopub.status.idle": "2025-05-29T11:31:43.144685Z",
     "shell.execute_reply": "2025-05-29T11:31:43.144271Z",
     "shell.execute_reply.started": "2025-05-29T11:31:43.136522Z"
    }
   },
   "outputs": [],
   "source": [
    "def RetrieveDRPObject_forTarget(butler,center_coord,datasettype,where_clause,radius_cut=50):\n",
    "    \"\"\"\n",
    "    Find the closest DRP objectto the target_coord \n",
    "\n",
    "    parameters:\n",
    "    - butler\n",
    "    - the coordinate of the target (center of the cone seach)\n",
    "    - the datasettype name for the DRP object\n",
    "    - where_clause : which contrain requirements on the tract and patch numbers\n",
    "    - cut on angluar separation for the returned for the returned object\n",
    "\n",
    "    Return\n",
    "    - object Id with minimum separation , \n",
    "    - minimum separation (arcec),\n",
    "    - the table of DRP objects within the radius_cut\n",
    "    \"\"\"\n",
    "\n",
    "    ra_columns = ['u_ra', 'g_ra', 'r_ra', 'i_ra', 'z_ra', 'y_ra']\n",
    "    dec_columns = ['u_dec', 'g_dec', 'r_dec', 'i_dec', 'z_dec', 'y_dec']\n",
    "\n",
    "    \n",
    "    therefs = butler.registry.queryDatasets(datasettype,  collections=collection, where=where_clause)\n",
    "\n",
    "    for count,ref in enumerate(therefs):\n",
    "        the_id = ref.dataId\n",
    "        the_tract_id = the_id[\"tract\"] \n",
    "        print(the_id)\n",
    "        \n",
    "        # catalog of rubin objects (a pandas Dataframe) inside the tract\n",
    "        catalog = butler.get(ref)\n",
    "        catalog = catalog[catalog[\"patch\"] == patchNbSel] \n",
    "       \n",
    "    \n",
    "        nobjects = len(catalog)\n",
    "\n",
    "\n",
    "        # Calcul de la moyenne ligne par ligne, en ignorant les NaN\n",
    "        catalog['ra'] = catalog[ra_columns].mean(axis=1, skipna=True)\n",
    "        catalog['dec'] = catalog[dec_columns].mean(axis=1, skipna=True)\n",
    "\n",
    "\n",
    "        # extract the (ra,dec) coordinates for all te objects of the rubin-catalog\n",
    "        ra_cat = catalog[\"ra\"].values\n",
    "        dec_cat = catalog[\"dec\"].values\n",
    "        # coordinates for all rubin-catalog points\n",
    "        catalog_coords = SkyCoord(ra=ra_cat*u.deg, dec=dec_cat*u.deg)\n",
    "\n",
    "        # Angular distance to target\n",
    "        distances_arcsec = center_coord.separation(catalog_coords).arcsecond\n",
    "\n",
    "        # add the separation angle to the ctalog\n",
    "        catalog[\"sep\"] = distances_arcsec\n",
    "\n",
    "\n",
    "        # closest object from the target\n",
    "        sepMin = distances_arcsec.min() \n",
    "        sepMin_idx = np.where(distances_arcsec == sepMin)[0][0]\n",
    "    \n",
    "        closest_obj = catalog[catalog[\"sep\"] <=  sepMin]\n",
    "                   \n",
    "        # select a few of these sources to debug the closest candidate\n",
    "        nearby_obj = catalog[distances_arcsec < radius_cut]\n",
    "        \n",
    "        return closest_obj, sepMin, nearby_obj\n",
    "\n",
    "      "
   ]
  },
  {
   "cell_type": "code",
   "execution_count": null,
   "id": "a98edb84-bab9-4ed3-9265-ba88ce2406ed",
   "metadata": {
    "execution": {
     "iopub.execute_input": "2025-05-29T11:31:43.145231Z",
     "iopub.status.busy": "2025-05-29T11:31:43.145109Z",
     "iopub.status.idle": "2025-05-29T11:31:43.151597Z",
     "shell.execute_reply": "2025-05-29T11:31:43.151264Z",
     "shell.execute_reply.started": "2025-05-29T11:31:43.145218Z"
    }
   },
   "outputs": [],
   "source": [
    "#def RetrieveDRPSources_forTarget(butler,center_coord,datasettype,where_clause,radius_cut=100):\n",
    "def RetrieveMergedForcedSources_forTarget(butler,objectid,datasettype,where_clause):\n",
    "    \"\"\"\n",
    "    Find the closest DRP objectto the target_coord \n",
    "\n",
    "    parameters:\n",
    "    - butler\n",
    "    - the id of the objects\n",
    "    - the datasettype name for the forced sources\n",
    "    - where_clause : which contrain requirements on the tract and patch numbers\n",
    " \n",
    "\n",
    "    Return\n",
    "    - object Id with minimum separation , \n",
    "    - minimum separation (arcec),\n",
    "    - the table of forced objects within the radius_cut\n",
    "    \"\"\"\n",
    "\n",
    "    therefs = butler.registry.queryDatasets(datasettype,  collections=collection, where=where_clause)\n",
    "    listref = list(therefs)\n",
    "    nref = len(listref)\n",
    "    print(f\"nref = {nref}\")\n",
    "    # assume the target is in a single (tract,patch)\n",
    "    #assert nref == 1\n",
    "\n",
    "    # loop forcedSourceOnDiaObjectTable (per tract, per patch)\n",
    "    for count,ref in enumerate(therefs):\n",
    "       \n",
    "        the_id = ref.dataId\n",
    "        print(the_id)\n",
    "        the_tract_id = the_id[\"tract\"] \n",
    "        the_patch_id = the_id[\"patch\"] \n",
    "\n",
    "        if not  (the_tract_id == tractNbSel) and (the_patch_id == patchNbSel):\n",
    "            continue\n",
    "\n",
    "\n",
    "        # catalog of rubin objects (a pandas Dataframe) inside the tract\n",
    "        srccatalog = butler.get(ref)\n",
    "        srccatalog = srccatalog[srccatalog[\"objectId\"] == objectid]\n",
    "       \n",
    "        return srccatalog\n",
    "\n",
    "      "
   ]
  },
  {
   "cell_type": "code",
   "execution_count": null,
   "id": "21f99c62-e48b-4131-a394-4d5e5ff741fa",
   "metadata": {
    "execution": {
     "iopub.execute_input": "2025-05-29T11:31:43.152154Z",
     "iopub.status.busy": "2025-05-29T11:31:43.152018Z",
     "iopub.status.idle": "2025-05-29T11:31:43.158959Z",
     "shell.execute_reply": "2025-05-29T11:31:43.158614Z",
     "shell.execute_reply.started": "2025-05-29T11:31:43.152141Z"
    }
   },
   "outputs": [],
   "source": [
    "def FetchTimesForVisits(visit_list):\n",
    "    \"\"\"\n",
    "    \"\"\"\n",
    "    # On interroge la table visitDefinition\n",
    "    Nvisit = len(visit_list)\n",
    "        \n",
    "    if Nvisit == 1:\n",
    "        thevisit = visit_list.values[0]\n",
    "        rows = registry.queryDimensionRecords(\"visit\", where=f\"visit={thevisit}\")\n",
    "    else:\n",
    "        rows = registry.queryDimensionRecords(\"visit\", where=f\"visit in {tuple(visit_list)}\")\n",
    "\n",
    "    # 4. Construire un tableau des résultats\n",
    "    results = []\n",
    "    for row in rows:\n",
    "        visit_id = row.id\n",
    "        visit_airmass = 1./np.cos(Angle(row.zenith_angle,u.degree).rad)\n",
    "        visit_azimuth = row.azimuth\n",
    "\n",
    "        # Extraire l'instant de début de l'observation (Time astropy)\n",
    "        start_time = row.timespan.begin\n",
    "\n",
    "        # Convertir en MJD et ISO\n",
    "        mjd = start_time.to_value(\"mjd\")  # Ex: 60384.28718\n",
    "        isot = start_time.to_value(\"isot\")  # Ex: '2024-04-19 06:53:32.000'\n",
    "    \n",
    "        #mjd = row.startDate.toMjd()\n",
    "        #utc = Time(mjd, format='mjd', scale='utc').to_value('iso')\n",
    "        #results.append({\"visit\": visit_id, \"mjd\": mjd, \"isot\": isot})\n",
    "        results.append({\"visit\": visit_id, \"mjd\": mjd, \"isot\": isot,\"airmass\":visit_airmass,\"azimuth\":visit_azimuth})\n",
    "\n",
    "    df_times = pd.DataFrame(results).sort_values(\"visit\")\n",
    "    df_times.set_index(\"visit\",inplace=True)\n",
    "    return df_times"
   ]
  },
  {
   "cell_type": "code",
   "execution_count": null,
   "id": "5df7cd0e-9cdb-4328-9d33-403da4f9db78",
   "metadata": {
    "execution": {
     "iopub.execute_input": "2025-05-29T11:31:43.159522Z",
     "iopub.status.busy": "2025-05-29T11:31:43.159392Z",
     "iopub.status.idle": "2025-05-29T11:31:43.166319Z",
     "shell.execute_reply": "2025-05-29T11:31:43.165957Z",
     "shell.execute_reply.started": "2025-05-29T11:31:43.159509Z"
    }
   },
   "outputs": [],
   "source": [
    "def plotLightCurvesSeparatedBands(tb,title,subtitle,figname = None):\n",
    "    \"\"\"\n",
    "    \"\"\"\n",
    "\n",
    "    fig,axs = plt.subplots(6,1,figsize=(18,16),sharex=True,layout=\"constrained\")\n",
    "\n",
    "    for idx,band in enumerate(all_bands):\n",
    "        ax =axs[idx]\n",
    "        label = f\"band {band}\"\n",
    "        ax.scatter(tb[band].mjd, tb[band].mags,color=all_bands_colors[idx],label=label,marker=\"o\",s=100)\n",
    "        ax.set_ylabel(\"mag_psfFlux\")\n",
    "        ax.legend()\n",
    "        if idx==0:\n",
    "            ax.set_title(target_title,fontweight = \"bold\")\n",
    "    ax.set_xlabel(\"mjd\")\n",
    "    \n",
    "    plt.suptitle(subtitle)\n",
    "\n",
    "    if figname != None:\n",
    "        plt.savefig(figname)\n",
    "    plt.show()   "
   ]
  },
  {
   "cell_type": "code",
   "execution_count": null,
   "id": "ecb46e94-6141-4cd3-be1a-f893f35518a6",
   "metadata": {
    "execution": {
     "iopub.execute_input": "2025-05-29T11:31:43.166916Z",
     "iopub.status.busy": "2025-05-29T11:31:43.166793Z",
     "iopub.status.idle": "2025-05-29T11:31:43.173303Z",
     "shell.execute_reply": "2025-05-29T11:31:43.172957Z",
     "shell.execute_reply.started": "2025-05-29T11:31:43.166904Z"
    }
   },
   "outputs": [],
   "source": [
    "def plotLightCurvesSeparatedBands_coloredbyquantity(tb,quantity_str,title,subtitle,figname = None):\n",
    "    \"\"\"\n",
    "    \"\"\"\n",
    "\n",
    "    fig,axs = plt.subplots(6,1,figsize=(18,16),sharex=True,layout=\"constrained\")\n",
    "\n",
    "    for idx,band in enumerate(all_bands):\n",
    "        ax =axs[idx]\n",
    "        label = f\"band {band}\"\n",
    "        quantity_toplot = tb[band][quantity_str]\n",
    "        sc = ax.scatter(tb[band].mjd, tb[band].mags,c=quantity_toplot, cmap='jet',label=label,marker=\"o\",s=100)\n",
    "        ax.set_ylabel(\"mag_psfFlux\")\n",
    "        ax.legend()\n",
    "        if idx==0:\n",
    "            ax.set_title(target_title,fontweight = \"bold\")\n",
    "    ax.set_xlabel(\"mjd\")\n",
    "    \n",
    "    plt.suptitle(subtitle)\n",
    "    # Ajout d'une barre de couleur\n",
    "    cbar = fig.colorbar(sc, ax=axs, orientation='vertical', label=quantity_str)\n",
    "    \n",
    "    if figname != None:\n",
    "        plt.savefig(figname)\n",
    "    plt.show()   "
   ]
  },
  {
   "cell_type": "code",
   "execution_count": null,
   "id": "09fea6ec-f439-4422-accb-873f6b38ae5a",
   "metadata": {
    "execution": {
     "iopub.execute_input": "2025-05-29T11:31:43.173819Z",
     "iopub.status.busy": "2025-05-29T11:31:43.173692Z",
     "iopub.status.idle": "2025-05-29T11:31:43.181120Z",
     "shell.execute_reply": "2025-05-29T11:31:43.180747Z",
     "shell.execute_reply.started": "2025-05-29T11:31:43.173807Z"
    }
   },
   "outputs": [],
   "source": [
    "def plotLightCurvesSeparatedBands_coloredbydiscretequantity(tb, quantity_str, title, subtitle, figname=None):\n",
    "    \"\"\"\n",
    "    tb: dictionnaire contenant des tables par bande\n",
    "    quantity_str: nom de la colonne discrète utilisée pour la couleur (par ex. 'airmass_flag')\n",
    "    \"\"\"\n",
    "\n",
    "    fig, axs = plt.subplots(6, 1, figsize=(18, 16), sharex=True, layout=\"constrained\")\n",
    "\n",
    "    # Récupération de toutes les valeurs discrètes possibles dans toutes les bandes\n",
    "    all_values = np.unique(np.concatenate([np.asarray(tb[band][quantity_str]) for band in all_bands]))\n",
    "    num_categories = len(all_values)\n",
    "\n",
    "    # Création d'une palette discrète\n",
    "    cmap = plt.cm.get_cmap('tab10', num_categories)  # ou 'tab20', 'Set3', etc.\n",
    "    norm = mcolors.BoundaryNorm(boundaries=np.arange(-0.5, num_categories + 0.5, 1), ncolors=num_categories)\n",
    "\n",
    "    for idx, band in enumerate(all_bands):\n",
    "        ax = axs[idx]\n",
    "        label = f\"band {band}\"\n",
    "\n",
    "        mjd = tb[band]['mjd']\n",
    "        mags = tb[band]['mags']\n",
    "        quantity_toplot = tb[band][quantity_str]\n",
    "\n",
    "        sc = ax.scatter(mjd, mags, c=quantity_toplot, cmap=cmap, norm=norm, label=label,marker=\"o\",s=100)\n",
    "        ax.set_ylabel(\"mag_psfFlux\")\n",
    "        ax.legend()\n",
    "        if idx == 0:\n",
    "            ax.set_title(title, fontweight=\"bold\")\n",
    "\n",
    "    ax.set_xlabel(\"mjd\")\n",
    "    plt.suptitle(subtitle)\n",
    "\n",
    "    # Ajout d'une colorbar discrète\n",
    "    cbar = fig.colorbar(sc, ax=axs, ticks=all_values, orientation='vertical')\n",
    "    cbar.set_label(quantity_str)\n",
    "    cbar.ax.set_yticklabels([str(v) for v in all_values])\n",
    "\n",
    "    if figname is not None:\n",
    "        plt.savefig(figname)\n",
    "    plt.show()\n"
   ]
  },
  {
   "cell_type": "code",
   "execution_count": null,
   "id": "65c2547e-8174-4f5e-a3c7-7bf42338d0dc",
   "metadata": {
    "execution": {
     "iopub.execute_input": "2025-05-29T11:31:43.181676Z",
     "iopub.status.busy": "2025-05-29T11:31:43.181543Z",
     "iopub.status.idle": "2025-05-29T11:31:43.188041Z",
     "shell.execute_reply": "2025-05-29T11:31:43.187677Z",
     "shell.execute_reply.started": "2025-05-29T11:31:43.181663Z"
    }
   },
   "outputs": [],
   "source": [
    "def plotLightCurvesAllTogetherBands(tb,title,subtitle,figname = None):\n",
    "    \"\"\"\n",
    "    \"\"\"\n",
    "    fig,ax = plt.subplots(1,1,figsize=(18,10),sharex=True,layout=\"constrained\")\n",
    "\n",
    "    for idx,band in enumerate([\"u\", \"g\", \"r\", \"i\", \"z\", \"y\"]):\n",
    "        label = f\"band {band}\"\n",
    "        ax.scatter(tb[band].mjd, tb[band].mags,color=all_bands_colors[idx],label=label,marker=\"o\",s=100)\n",
    "\n",
    "    ax.set_ylabel(\"mag_psfFlux\")\n",
    "    ax.set_title(target_title,fontweight = \"bold\")\n",
    "    ax.set_xlabel(\"mjd\")\n",
    "    ax.legend()\n",
    "\n",
    "    plt.suptitle(subtitle)\n",
    "    if figname != None:\n",
    "        plt.savefig(figname)\n",
    "        \n",
    "    plt.show()"
   ]
  },
  {
   "cell_type": "code",
   "execution_count": null,
   "id": "2bbb53e9-e293-4ea7-ae47-c78930ce5d93",
   "metadata": {
    "execution": {
     "iopub.execute_input": "2025-05-29T11:31:43.191744Z",
     "iopub.status.busy": "2025-05-29T11:31:43.191612Z",
     "iopub.status.idle": "2025-05-29T11:31:43.195029Z",
     "shell.execute_reply": "2025-05-29T11:31:43.194723Z",
     "shell.execute_reply.started": "2025-05-29T11:31:43.191732Z"
    }
   },
   "outputs": [],
   "source": [
    "# https://pipelines.lsst.io/modules/lsst.geom/getting-started.html\n",
    "func_degToRad = lambda x : Angle(x,lsst.geom.degrees).asRadians()"
   ]
  },
  {
   "cell_type": "code",
   "execution_count": null,
   "id": "5af15c53-1d3f-42ee-81d8-508a2daa56c0",
   "metadata": {
    "execution": {
     "iopub.execute_input": "2025-05-29T11:31:43.195467Z",
     "iopub.status.busy": "2025-05-29T11:31:43.195344Z",
     "iopub.status.idle": "2025-05-29T11:31:43.210346Z",
     "shell.execute_reply": "2025-05-29T11:31:43.209953Z",
     "shell.execute_reply.started": "2025-05-29T11:31:43.195455Z"
    }
   },
   "outputs": [],
   "source": [
    "# Set plotting defaults\n",
    "%matplotlib inline\n",
    "import matplotlib.pyplot as plt\n",
    "from matplotlib.ticker import FormatStrFormatter\n",
    "from matplotlib.colors import ListedColormap\n",
    "from matplotlib import colors\n",
    "zscale = ZScaleInterval()\n",
    "\n",
    "# Set up some plotting defaults:\n",
    "plt.rcParams.update({'figure.figsize' : (12, 8)})\n",
    "plt.rcParams.update({'font.size' : 24})\n",
    "plt.rcParams.update({'axes.linewidth' : 3})\n",
    "plt.rcParams.update({'axes.labelweight' : 3})\n",
    "plt.rcParams.update({'axes.titleweight' : 5})\n",
    "plt.rcParams.update({'ytick.major.width' : 3})\n",
    "plt.rcParams.update({'ytick.minor.width' : 2})\n",
    "plt.rcParams.update({'ytick.major.size' : 8})\n",
    "plt.rcParams.update({'ytick.minor.size' : 5})\n",
    "plt.rcParams.update({'xtick.major.size' : 8})\n",
    "plt.rcParams.update({'xtick.minor.size' : 5})\n",
    "plt.rcParams.update({'xtick.major.width' : 3})\n",
    "plt.rcParams.update({'xtick.minor.width' : 2})\n",
    "plt.rcParams.update({'xtick.direction' : 'in'})\n",
    "plt.rcParams.update({'ytick.direction' : 'in'})\n"
   ]
  },
  {
   "cell_type": "code",
   "execution_count": null,
   "id": "8f02d7f7-cc18-4191-beb4-ad890c13b967",
   "metadata": {
    "execution": {
     "iopub.execute_input": "2025-05-29T11:31:43.210950Z",
     "iopub.status.busy": "2025-05-29T11:31:43.210817Z",
     "iopub.status.idle": "2025-05-29T11:31:43.213950Z",
     "shell.execute_reply": "2025-05-29T11:31:43.213588Z",
     "shell.execute_reply.started": "2025-05-29T11:31:43.210937Z"
    }
   },
   "outputs": [],
   "source": [
    "def nJy_to_ab_mag(f_njy):\n",
    "    \"\"\"Convert scalar or array flux in nJy to AB magnitude.\"\"\"\n",
    "    f_njy = np.asarray(f_njy)\n",
    "    mag = np.full_like(f_njy, fill_value=np.nan, dtype=float)\n",
    "    mask = f_njy > 0\n",
    "    mag[mask] = -2.5 * np.log10(f_njy[mask]) + 31.4\n",
    "    return mag\n",
    "\n",
    "\n",
    "def nJy_err_to_ab_err(f_njy, f_err):\n",
    "    \"\"\"Propagate flux error to magnitude error.\"\"\"\n",
    "    f_njy = np.asarray(f_njy)\n",
    "    f_err = np.asarray(f_err)\n",
    "    mag_err = np.full_like(f_njy, fill_value=np.nan, dtype=float)\n",
    "    mask = (f_njy > 0) & (f_err > 0)\n",
    "    mag_err[mask] = (2.5 / np.log(10)) * (f_err[mask] / f_njy[mask])\n",
    "    return mag_err\n"
   ]
  },
  {
   "cell_type": "code",
   "execution_count": null,
   "id": "88da0b26-88ce-41f8-b5b6-caf1c2d7afe0",
   "metadata": {
    "execution": {
     "iopub.execute_input": "2025-05-29T11:31:43.214494Z",
     "iopub.status.busy": "2025-05-29T11:31:43.214366Z",
     "iopub.status.idle": "2025-05-29T11:31:43.221068Z",
     "shell.execute_reply": "2025-05-29T11:31:43.220700Z",
     "shell.execute_reply.started": "2025-05-29T11:31:43.214482Z"
    }
   },
   "outputs": [],
   "source": [
    "def ab_mag_to_nJy(mag_ab):\n",
    "    \"\"\"Convert AB magnitude to flux in nanojanskys.\"\"\"\n",
    "    return 10 ** ((31.4 - mag_ab) / 2.5)\n"
   ]
  },
  {
   "cell_type": "markdown",
   "id": "a3f04297-3975-4baa-9e7f-146cd717904c",
   "metadata": {},
   "source": [
    "## 1) Build the table of SL\n",
    "\n",
    "- article : https://arxiv.org/pdf/1104.0931"
   ]
  },
  {
   "cell_type": "code",
   "execution_count": null,
   "id": "305a2903-3efb-4f55-8559-fe399266e457",
   "metadata": {
    "execution": {
     "iopub.execute_input": "2025-05-29T11:31:43.221690Z",
     "iopub.status.busy": "2025-05-29T11:31:43.221562Z",
     "iopub.status.idle": "2025-05-29T11:31:43.270387Z",
     "shell.execute_reply": "2025-05-29T11:31:43.270013Z",
     "shell.execute_reply.started": "2025-05-29T11:31:43.221678Z"
    }
   },
   "outputs": [],
   "source": [
    "#15422 44 03:32:38.21 –27:56:53.2 \n",
    "ra1 = \"03:32:38.21 hours\"\n",
    "dec1 = \"-27:56:53.2 degrees\"\n",
    "tile1 = 44\n",
    "\n",
    "#34244 94 03:32:06.45 –27:47:28.6 \n",
    "ra2 = \"03:32:06.45 hours\"\n",
    "dec2 = \"-27:47:28.6 degrees\"\n",
    "tile2 = 94\n",
    "# Je ne trouve pas cette tile ==> FindTileForCutoutGEM\n",
    "tile2 = 32\n",
    "\n",
    "#40173 35 03:33:19.45 –27:44:50.0 \n",
    "ra3 = \"03:33:19.45 hours\"\n",
    "dec3 = \"-27:44:50.0 degrees\"\n",
    "tile3 = 35\n",
    "\n",
    "#43242 45 03:31:55.35 –27:43:23.5 \n",
    "ra4 = \"03:31:55.35 hours\"\n",
    "dec4 = \"-27:43:23.5 degrees\"\n",
    "tile4 = 45\n",
    "\n",
    "#46446 47 03:31:35.94 –27:41:48.2 \n",
    "ra5 = \"03:31:35.94 hours\"\n",
    "dec5 = \"-27:41:48.2 degrees\"\n",
    "tile5 = 47\n",
    "\n",
    "#12589 03:31:24.89 −27:58:07.0\n",
    "ra6 = \"03:31:24.89 hours\"\n",
    "dec6 = \"-27:58:07.0 degrees\"\n",
    "tile6 = 17\n",
    "\n",
    "#43797 03:31:31.74 −27:43:00.8 \n",
    "ra7 = \"03:31:31.74 hours\"\n",
    "dec7 = \"-27:43:00.8 degrees\"\n",
    "tile7 = 47\n",
    "\n",
    "#28294 03:31:50.54 −27:50:28.4 \n",
    "ra8 = \"03:31:50.54 hours\"\n",
    "dec8 = \"-27:50:28.4 degrees\"\n",
    "tile8 = 33\n",
    "\n",
    "#36857 03:31:53.24 −27:46:18.9\n",
    "ra9 = \"03:31:53.24 hours\"\n",
    "dec9 = \"-27:46:18.9 degrees\"\n",
    "tile9 = 38\n",
    "\n",
    "#36714 03:32:59.78 −27:46:26.4 \n",
    "ra10 = \"03:32:59.78 hours\"\n",
    "dec10 = \"-27:46:26.4 degrees\"\n",
    "tile10 = 37\n"
   ]
  },
  {
   "cell_type": "code",
   "execution_count": null,
   "id": "11d6340e-bd50-4321-b28c-ab0857c0b9fe",
   "metadata": {
    "execution": {
     "iopub.execute_input": "2025-05-29T11:31:43.271165Z",
     "iopub.status.busy": "2025-05-29T11:31:43.270826Z",
     "iopub.status.idle": "2025-05-29T11:31:43.277934Z",
     "shell.execute_reply": "2025-05-29T11:31:43.277570Z",
     "shell.execute_reply.started": "2025-05-29T11:31:43.271151Z"
    }
   },
   "outputs": [],
   "source": [
    "lsstcomcam_targets = {}\n",
    "# high rank\n",
    "lsstcomcam_targets[\"ECDFS_G15422\"] = {\"field_name\": \"GEMS-15422\", \"ra\": 53.159208333333325, \"dec\": -27.94811111111111,\"tile\":tile1}\n",
    "lsstcomcam_targets[\"ECDFS_G34244\"] = {\"field_name\": \"GEMS-34244\", \"ra\": 53.02687499999999 , \"dec\": -27.79127777777778,\"tile\":tile2}\n",
    "lsstcomcam_targets[\"ECDFS_G40173\"] = {\"field_name\": \"GEMS-40173\", \"ra\": 53.33104166666666 , \"dec\": -27.747222222222224,\"tile\":tile3}\n",
    "lsstcomcam_targets[\"ECDFS_G43242\"] = {\"field_name\": \"GEMS-43242\", \"ra\": 52.980624999999996 , \"dec\": -27.72319444444444,\"tile\":tile4}\n",
    "lsstcomcam_targets[\"ECDFS_G46446\"] = {\"field_name\": \"GEMS-46446\", \"ra\": 52.89975 , \"dec\": -27.696722222222224,\"tile\":tile5}\n",
    "\n",
    "# low rank\n",
    "lsstcomcam_targets[\"ECDFS_G12589\"] = {\"field_name\": \"GEMS-12589\", \"ra\": 52.85370833333333, \"dec\": -27.96861111111111,\"tile\":tile6}\n",
    "lsstcomcam_targets[\"ECDFS_G43797\"] = {\"field_name\": \"GEMS-43797\", \"ra\": 52.88224999999999, \"dec\": -27.71688888888889,\"tile\":tile7}\n",
    "\n",
    "lsstcomcam_targets[\"ECDFS_G28294\"] = {\"field_name\": \"GEMS-28294\", \"ra\": 52.960583333333325 , \"dec\": -27.84122222222222,\"tile\":tile8}\n",
    "lsstcomcam_targets[\"ECDFS_G6857\"] = {\"field_name\": \"GEMS-6857\", \"ra\": 52.97183333333333 , \"dec\": -27.771916666666666,\"tile\":tile9}\n",
    "lsstcomcam_targets[\"ECDFS_G36714\"] = {\"field_name\": \"GEMS-36714\", \"ra\": 53.249083333333324, \"dec\": -27.773999999999997,\"tile\":tile10}\n"
   ]
  },
  {
   "cell_type": "code",
   "execution_count": null,
   "id": "f87bbd5f-724f-4b64-9ae8-a4410cc89188",
   "metadata": {
    "execution": {
     "iopub.execute_input": "2025-05-29T11:31:43.278458Z",
     "iopub.status.busy": "2025-05-29T11:31:43.278328Z",
     "iopub.status.idle": "2025-05-29T11:31:43.285289Z",
     "shell.execute_reply": "2025-05-29T11:31:43.284917Z",
     "shell.execute_reply.started": "2025-05-29T11:31:43.278446Z"
    }
   },
   "outputs": [],
   "source": [
    "df = pd.DataFrame(lsstcomcam_targets).T"
   ]
  },
  {
   "cell_type": "code",
   "execution_count": null,
   "id": "d4ba67e1-c6c9-45d7-a467-3cab1ddb7e17",
   "metadata": {
    "execution": {
     "iopub.execute_input": "2025-05-29T11:31:43.285866Z",
     "iopub.status.busy": "2025-05-29T11:31:43.285729Z",
     "iopub.status.idle": "2025-05-29T11:31:43.296066Z",
     "shell.execute_reply": "2025-05-29T11:31:43.295711Z",
     "shell.execute_reply.started": "2025-05-29T11:31:43.285847Z"
    }
   },
   "outputs": [],
   "source": [
    "df"
   ]
  },
  {
   "cell_type": "code",
   "execution_count": null,
   "id": "82f4b7d2-fa97-4e39-8b63-1a4e8fc6bc9f",
   "metadata": {
    "execution": {
     "iopub.execute_input": "2025-05-29T11:31:43.296625Z",
     "iopub.status.busy": "2025-05-29T11:31:43.296498Z",
     "iopub.status.idle": "2025-05-29T11:31:43.300317Z",
     "shell.execute_reply": "2025-05-29T11:31:43.299952Z",
     "shell.execute_reply.started": "2025-05-29T11:31:43.296613Z"
    }
   },
   "outputs": [],
   "source": [
    "# candidates\n",
    "key = \"ECDFS_G15422\"\n",
    "#key = \"ECDFS_G34244\"\n",
    "#key = \"ECDFS_G40173\"\n",
    "#key= \"ECDFS_G43242\"\n",
    "#key= \"ECDFS_G46446\"\n",
    "\n",
    "# unknown\n",
    "#key = \"ECDFS_G12589\"\n",
    "#key = \"ECDFS_G43797\"\n",
    "#key = \"ECDFS_G28294\"\n",
    "#key = \"ECDFS_G6857\"\n",
    "#key = \"ECDFS_G36714\"\n",
    "\n",
    "the_target = lsstcomcam_targets[key]\n",
    "target_ra = the_target[\"ra\"]\n",
    "target_dec = the_target[\"dec\"]\n",
    "target_name = the_target[\"field_name\"]\n",
    "\n",
    "target_title = (\n",
    "    the_target[\"field_name\"] +  f\" (ra,dec) = ({target_ra:.2f},{target_dec:.2f}) \"\n",
    ")\n",
    "target_point = SpherePoint(target_ra, target_dec, degrees)\n",
    "target_coord = SkyCoord(ra=target_ra*u.deg, dec=target_dec*u.deg)\n",
    "#target_name = f\"SL :: {key}\""
   ]
  },
  {
   "cell_type": "markdown",
   "id": "3506978f-3a1e-47a9-90c1-b576f17d092f",
   "metadata": {},
   "source": [
    "## Initialisation of rubin science pipeline\n",
    "- Check here the collection available : https://rubinobs.atlassian.net/wiki/spaces/DM/pages/226656354/LSSTComCam+Intermittent+Cumulative+DRP+Runs"
   ]
  },
  {
   "cell_type": "markdown",
   "id": "032c0193-0ca9-487a-943f-957dcea64a53",
   "metadata": {},
   "source": [
    "### Configuration"
   ]
  },
  {
   "cell_type": "code",
   "execution_count": null,
   "id": "58131b3b-f3bf-461a-8c71-d236e7d5e7fa",
   "metadata": {
    "execution": {
     "iopub.execute_input": "2025-05-29T11:31:43.300935Z",
     "iopub.status.busy": "2025-05-29T11:31:43.300806Z",
     "iopub.status.idle": "2025-05-29T11:31:43.307003Z",
     "shell.execute_reply": "2025-05-29T11:31:43.306701Z",
     "shell.execute_reply.started": "2025-05-29T11:31:43.300923Z"
    }
   },
   "outputs": [],
   "source": [
    "# The output repo is tagged with the Jira ticket number \"DM-40356\":\n",
    "repo = '/repo/main'\n",
    "\n",
    "collection = 'LSSTComCam/runs/DRP/DP1/w_2025_10/DM-49359' # work\n",
    "#collection = 'LSSTComCam/runs/DRP/DP1/w_2025_17/DM-50530' # Does not work : No objectTable\n",
    "#collection = \"LSSTComCam/runs/DRP/DP1/w_2025_15/DM-50050\" # Does not work : No objectTable\n",
    "#collection = \"LSSTComCam/runs/DRP/DP1/w_2025_14/DM-49864\" # Does not work : No objectTable\n",
    "\n",
    "# bad : crash collection = 'LSSTComCam/runs/DRP/DP1/w_2025_08/DM-49029'\n",
    "\n",
    "# bad : collection = \"LSSTComCam/runs/DRP/20241101_20241211/w_2024_51/DM-48233\"\n",
    "\n",
    "# not working perhaps because I am using w_2025_10 version\n",
    "# bad : no ccd visit collection = \"LSSTComCam/runs/DRP/DP1/w_2025_14/DM-49864\"\n",
    "# bad : no ccd visit collection = 'LSSTComCam/runs/DRP/DP1/w_2025_15/DM-50050'\n",
    "# bad : no cce visit collection = 'LSSTComCam/runs/DRP/DP1/w_2025_14/DM-49864'\n",
    "# bad : no cce visit collection collection = 'LSSTComCam/runs/DRP/DP1/w_2025_13/DM-49751'\n",
    "\n",
    "\n",
    "instrument = \"LSSTComCam\"\n",
    "skymapName = \"lsst_cells_v1\"\n",
    "where_clause = \"instrument = \\'\" + instrument+ \"\\'\"\n",
    "collectionStr = collection.replace(\"/\", \"_\")"
   ]
  },
  {
   "cell_type": "code",
   "execution_count": null,
   "id": "5aaaded0-f204-4b81-a359-6b9872f7c21d",
   "metadata": {
    "execution": {
     "iopub.execute_input": "2025-05-29T11:31:43.307605Z",
     "iopub.status.busy": "2025-05-29T11:31:43.307478Z",
     "iopub.status.idle": "2025-05-29T11:31:43.313759Z",
     "shell.execute_reply": "2025-05-29T11:31:43.313397Z",
     "shell.execute_reply.started": "2025-05-29T11:31:43.307593Z"
    }
   },
   "outputs": [],
   "source": [
    "FLAG_DUMP_COLLECTIONS = False\n",
    "FLAG_DUMP_DATASETS = False\n",
    "FLAG_DUMP_OBJECTSTABLECOLUMNS = False\n",
    "FLAG_CUT_OBJECTSMAG = True\n",
    "FLAG_CUT_OBJECTSSNR = True"
   ]
  },
  {
   "cell_type": "code",
   "execution_count": null,
   "id": "a66ee4ac-6255-4779-bdb3-088bee0f7058",
   "metadata": {
    "execution": {
     "iopub.execute_input": "2025-05-29T11:31:43.314291Z",
     "iopub.status.busy": "2025-05-29T11:31:43.314160Z",
     "iopub.status.idle": "2025-05-29T11:31:43.320559Z",
     "shell.execute_reply": "2025-05-29T11:31:43.320210Z",
     "shell.execute_reply.started": "2025-05-29T11:31:43.314278Z"
    }
   },
   "outputs": [],
   "source": [
    "MAGCUT = 24.0\n",
    "SNRCUT = 5.0"
   ]
  },
  {
   "cell_type": "code",
   "execution_count": null,
   "id": "d60358a6-62e7-4cc4-9440-3b178d76abe2",
   "metadata": {
    "execution": {
     "iopub.execute_input": "2025-05-29T11:31:43.321097Z",
     "iopub.status.busy": "2025-05-29T11:31:43.320956Z",
     "iopub.status.idle": "2025-05-29T11:31:43.327309Z",
     "shell.execute_reply": "2025-05-29T11:31:43.326941Z",
     "shell.execute_reply.started": "2025-05-29T11:31:43.321085Z"
    }
   },
   "outputs": [],
   "source": [
    "all_bands = [\"u\", \"g\", \"r\", \"i\", \"z\", \"y\"]\n",
    "all_bands_colors = [\"blue\", \"green\", \"red\", \"orange\", \"grey\", \"purple\"]"
   ]
  },
  {
   "cell_type": "markdown",
   "id": "e8f0113b-9e9a-46b8-9271-c4bde6d64679",
   "metadata": {},
   "source": [
    "### Initialisation of Butler"
   ]
  },
  {
   "cell_type": "code",
   "execution_count": null,
   "id": "804fcb8b-d567-4a27-b102-05ed002051c4",
   "metadata": {
    "execution": {
     "iopub.execute_input": "2025-05-29T11:31:43.327731Z",
     "iopub.status.busy": "2025-05-29T11:31:43.327613Z",
     "iopub.status.idle": "2025-05-29T11:31:43.909813Z",
     "shell.execute_reply": "2025-05-29T11:31:43.909273Z",
     "shell.execute_reply.started": "2025-05-29T11:31:43.327719Z"
    }
   },
   "outputs": [],
   "source": [
    "# Initialize the butler repo:\n",
    "butler = Butler(repo, collections=collection)\n",
    "registry = butler.registry"
   ]
  },
  {
   "cell_type": "code",
   "execution_count": null,
   "id": "03249edb-84b0-4f36-ae94-af25391b468e",
   "metadata": {
    "execution": {
     "iopub.execute_input": "2025-05-29T11:31:43.910644Z",
     "iopub.status.busy": "2025-05-29T11:31:43.910384Z",
     "iopub.status.idle": "2025-05-29T11:31:44.181469Z",
     "shell.execute_reply": "2025-05-29T11:31:44.180997Z",
     "shell.execute_reply.started": "2025-05-29T11:31:43.910627Z"
    }
   },
   "outputs": [],
   "source": [
    "skymap = butler.get('skyMap', skymap=skymapName, collections=collection)"
   ]
  },
  {
   "cell_type": "code",
   "execution_count": null,
   "id": "5b61a4a0-edcf-462f-be02-61502f79db0b",
   "metadata": {
    "execution": {
     "iopub.execute_input": "2025-05-29T11:31:44.182380Z",
     "iopub.status.busy": "2025-05-29T11:31:44.182010Z",
     "iopub.status.idle": "2025-05-29T11:31:44.902640Z",
     "shell.execute_reply": "2025-05-29T11:31:44.902106Z",
     "shell.execute_reply.started": "2025-05-29T11:31:44.182353Z"
    }
   },
   "outputs": [],
   "source": [
    "camera = butler.get(\"camera\", collections=collection, instrument=instrument)"
   ]
  },
  {
   "cell_type": "markdown",
   "id": "1c9ef688-a5d5-4494-9628-e2ccaa978909",
   "metadata": {},
   "source": [
    "## Find in which patch is the SL target"
   ]
  },
  {
   "cell_type": "code",
   "execution_count": null,
   "id": "ef1ab817-3225-4cc3-82b5-37f86d1f33cc",
   "metadata": {
    "execution": {
     "iopub.execute_input": "2025-05-29T11:31:44.903347Z",
     "iopub.status.busy": "2025-05-29T11:31:44.903199Z",
     "iopub.status.idle": "2025-05-29T11:31:44.908684Z",
     "shell.execute_reply": "2025-05-29T11:31:44.908295Z",
     "shell.execute_reply.started": "2025-05-29T11:31:44.903332Z"
    }
   },
   "outputs": [],
   "source": [
    "# 4. Trouver dans quel tract/patch se trouve la coordonnée\n",
    "tract_info = skymap.findTract(target_point)\n",
    "patch_info = tract_info.findPatch(target_point)\n",
    "tractNbSel = tract_info.getId()\n",
    "patchNbSel =  patch_info.getSequentialIndex()\n",
    "where_clause = f\"skymap = '{skymapName}' AND tract = {tractNbSel} AND patch = {patchNbSel}\"\n",
    "print(where_clause)"
   ]
  },
  {
   "cell_type": "code",
   "execution_count": null,
   "id": "d8becbb0-1595-447b-a2ea-fe81515fbd3a",
   "metadata": {
    "execution": {
     "iopub.execute_input": "2025-05-29T11:31:44.909261Z",
     "iopub.status.busy": "2025-05-29T11:31:44.909125Z",
     "iopub.status.idle": "2025-05-29T11:31:44.916173Z",
     "shell.execute_reply": "2025-05-29T11:31:44.915789Z",
     "shell.execute_reply.started": "2025-05-29T11:31:44.909248Z"
    }
   },
   "outputs": [],
   "source": [
    "print('Tract number for SL target in ECDFS ::',tract_info.getId())"
   ]
  },
  {
   "cell_type": "code",
   "execution_count": null,
   "id": "fa1992cb-691e-4408-a03b-2477c0bf052d",
   "metadata": {
    "execution": {
     "iopub.execute_input": "2025-05-29T11:31:44.916731Z",
     "iopub.status.busy": "2025-05-29T11:31:44.916601Z",
     "iopub.status.idle": "2025-05-29T11:31:44.922880Z",
     "shell.execute_reply": "2025-05-29T11:31:44.922517Z",
     "shell.execute_reply.started": "2025-05-29T11:31:44.916718Z"
    }
   },
   "outputs": [],
   "source": [
    "TRACTSEL = tract_info.getId()"
   ]
  },
  {
   "cell_type": "code",
   "execution_count": null,
   "id": "f9fa13a1-94b3-4fe1-9716-a05ec15f576c",
   "metadata": {
    "execution": {
     "iopub.execute_input": "2025-05-29T11:31:44.923508Z",
     "iopub.status.busy": "2025-05-29T11:31:44.923295Z",
     "iopub.status.idle": "2025-05-29T11:31:44.931340Z",
     "shell.execute_reply": "2025-05-29T11:31:44.930956Z",
     "shell.execute_reply.started": "2025-05-29T11:31:44.923494Z"
    }
   },
   "outputs": [],
   "source": [
    "print(f\"TRACT : {TRACTSEL}\")"
   ]
  },
  {
   "cell_type": "code",
   "execution_count": null,
   "id": "826aebd4-b08d-4259-a715-2274b75182c2",
   "metadata": {
    "execution": {
     "iopub.execute_input": "2025-05-29T11:31:44.931884Z",
     "iopub.status.busy": "2025-05-29T11:31:44.931755Z",
     "iopub.status.idle": "2025-05-29T11:31:44.938332Z",
     "shell.execute_reply": "2025-05-29T11:31:44.937918Z",
     "shell.execute_reply.started": "2025-05-29T11:31:44.931871Z"
    }
   },
   "outputs": [],
   "source": [
    "# Check here the collections available\n",
    "if FLAG_DUMP_COLLECTIONS:\n",
    "    for _ in sorted(registry.queryCollections(expression=instrument + \"/*\")):\n",
    "        if \"/calib/\" not in _ and \"u/\" not in _:\n",
    "            print(_)"
   ]
  },
  {
   "cell_type": "code",
   "execution_count": null,
   "id": "59563647-7ecd-4366-a7e8-eb2354393559",
   "metadata": {
    "execution": {
     "iopub.execute_input": "2025-05-29T11:31:44.938911Z",
     "iopub.status.busy": "2025-05-29T11:31:44.938787Z",
     "iopub.status.idle": "2025-05-29T11:31:44.947335Z",
     "shell.execute_reply": "2025-05-29T11:31:44.946966Z",
     "shell.execute_reply.started": "2025-05-29T11:31:44.938897Z"
    }
   },
   "outputs": [],
   "source": [
    "if FLAG_DUMP_DATASETS:\n",
    "    for datasetType in registry.queryDatasetTypes():\n",
    "        if registry.queryDatasets(datasetType, collections=collection).any(\n",
    "            execute=False, exact=False\n",
    "        ):\n",
    "            # Limit search results to the data products\n",
    "            if (\n",
    "                (\"_config\" not in datasetType.name)\n",
    "                and (\"_log\" not in datasetType.name)\n",
    "                and (\"_metadata\" not in datasetType.name)\n",
    "                and (\"_resource_usage\" not in datasetType.name)\n",
    "                and (\"Plot\" not in datasetType.name)\n",
    "                and (\"Metric\" not in datasetType.name)\n",
    "                and (\"metric\" not in datasetType.name)\n",
    "                and ((\"Table\" in datasetType.name) or (\"Zeropointp\" in datasetType.name) or (\"fgcm\" in datasetType.name) or (\"transm\" in datasetType.name) or (\"Transm\" in datasetType.name)\n",
    "                or (\"source\" in datasetType.name) or (\"Source\" in datasetType.name) or (\"object\" in datasetType.name) or (\"Object\" in datasetType.name))\n",
    "            ):\n",
    "                \n",
    "                print(datasetType)"
   ]
  },
  {
   "cell_type": "markdown",
   "id": "57be8008-c849-440e-9bae-8649564d3373",
   "metadata": {},
   "source": [
    "### Get list of Tracts and Patches\n",
    "\n",
    "- Just to know which tracts are involved in the observations"
   ]
  },
  {
   "cell_type": "code",
   "execution_count": null,
   "id": "c0823ed5-9b23-4548-af23-12d707772667",
   "metadata": {
    "execution": {
     "iopub.execute_input": "2025-05-29T11:31:44.947890Z",
     "iopub.status.busy": "2025-05-29T11:31:44.947763Z",
     "iopub.status.idle": "2025-05-29T11:31:45.011229Z",
     "shell.execute_reply": "2025-05-29T11:31:45.010692Z",
     "shell.execute_reply.started": "2025-05-29T11:31:44.947878Z"
    }
   },
   "outputs": [],
   "source": [
    "datasettype = \"objectTable_tract\"\n",
    "therefs = butler.registry.queryDatasets(datasettype,  collections=collection)"
   ]
  },
  {
   "cell_type": "code",
   "execution_count": null,
   "id": "f810d737-c393-40bb-bc60-32e3706cf4a0",
   "metadata": {
    "execution": {
     "iopub.execute_input": "2025-05-29T11:31:45.011902Z",
     "iopub.status.busy": "2025-05-29T11:31:45.011762Z",
     "iopub.status.idle": "2025-05-29T11:31:45.089667Z",
     "shell.execute_reply": "2025-05-29T11:31:45.089247Z",
     "shell.execute_reply.started": "2025-05-29T11:31:45.011888Z"
    }
   },
   "outputs": [],
   "source": [
    "tractsId_list = np.unique([ref.dataId['tract'] for ref in therefs])\n",
    "tractsId_list = sorted(tractsId_list)\n",
    "print(tractsId_list)"
   ]
  },
  {
   "cell_type": "code",
   "execution_count": null,
   "id": "8635f396-48ec-4d82-8fc1-d4aa1396ffd3",
   "metadata": {
    "execution": {
     "iopub.execute_input": "2025-05-29T11:31:45.090286Z",
     "iopub.status.busy": "2025-05-29T11:31:45.090155Z",
     "iopub.status.idle": "2025-05-29T11:31:45.093894Z",
     "shell.execute_reply": "2025-05-29T11:31:45.093544Z",
     "shell.execute_reply.started": "2025-05-29T11:31:45.090274Z"
    }
   },
   "outputs": [],
   "source": [
    "target_coord"
   ]
  },
  {
   "cell_type": "markdown",
   "id": "5022ca8c-d08a-40f7-b8b1-9a9f56d394f2",
   "metadata": {},
   "source": [
    "## Define the Stack DM product used for the DRP analysis"
   ]
  },
  {
   "cell_type": "code",
   "execution_count": null,
   "id": "92905ff8-215c-43ac-a380-7599a171034f",
   "metadata": {
    "execution": {
     "iopub.execute_input": "2025-05-29T11:31:45.094479Z",
     "iopub.status.busy": "2025-05-29T11:31:45.094352Z",
     "iopub.status.idle": "2025-05-29T11:31:45.101913Z",
     "shell.execute_reply": "2025-05-29T11:31:45.101504Z",
     "shell.execute_reply.started": "2025-05-29T11:31:45.094467Z"
    }
   },
   "outputs": [],
   "source": [
    "print(where_clause)"
   ]
  },
  {
   "cell_type": "code",
   "execution_count": null,
   "id": "ae40f327-7e25-46aa-832f-7feaaf526420",
   "metadata": {
    "execution": {
     "iopub.execute_input": "2025-05-29T11:31:45.102466Z",
     "iopub.status.busy": "2025-05-29T11:31:45.102340Z",
     "iopub.status.idle": "2025-05-29T11:31:45.107980Z",
     "shell.execute_reply": "2025-05-29T11:31:45.107617Z",
     "shell.execute_reply.started": "2025-05-29T11:31:45.102454Z"
    }
   },
   "outputs": [],
   "source": [
    "datasettype = 'objectTable'\n",
    "#datasettype = 'diaObjectTable_tract'\n",
    "#datasettype =  'forcedSourceOnDiaObjectTable'\n",
    "#datasettype =  'diaSourceTable_tract'\n",
    "#datasettype = 'goodSeeingDiff_assocSsSrcTable' # bad table\n",
    "subtitle = collectionStr + \"_\" + datasettype"
   ]
  },
  {
   "cell_type": "code",
   "execution_count": null,
   "id": "dc2e290d-3fef-4989-a4ca-6e57b502eaac",
   "metadata": {
    "execution": {
     "iopub.execute_input": "2025-05-29T11:31:45.108616Z",
     "iopub.status.busy": "2025-05-29T11:31:45.108488Z",
     "iopub.status.idle": "2025-05-29T11:31:45.667740Z",
     "shell.execute_reply": "2025-05-29T11:31:45.667340Z",
     "shell.execute_reply.started": "2025-05-29T11:31:45.108605Z"
    }
   },
   "outputs": [],
   "source": [
    "closest_obj, sepMin, nearby_obj = RetrieveDRPObject_forTarget(butler,target_coord,datasettype,where_clause)"
   ]
  },
  {
   "cell_type": "code",
   "execution_count": null,
   "id": "23306ca1-a7e6-4280-b9d7-0b199c046db9",
   "metadata": {
    "execution": {
     "iopub.execute_input": "2025-05-29T11:31:45.668335Z",
     "iopub.status.busy": "2025-05-29T11:31:45.668194Z",
     "iopub.status.idle": "2025-05-29T11:31:45.939773Z",
     "shell.execute_reply": "2025-05-29T11:31:45.939448Z",
     "shell.execute_reply.started": "2025-05-29T11:31:45.668321Z"
    }
   },
   "outputs": [],
   "source": [
    "fig, ax = plt.subplots(1,1,figsize=(10,4))\n",
    "nearby_obj[\"sep\"].hist(bins=50,ax=ax,facecolor=\"b\")\n",
    "closest_obj[\"sep\"].hist(bins=50,range=(0,50),ax=ax,facecolor=\"r\")\n",
    "ax.set_yscale(\"log\")\n",
    "ax.set_title(\"object separation angle\")\n",
    "ax.set_xlabel(\"separation angle (arcsec)\")\n",
    "plt.show()"
   ]
  },
  {
   "cell_type": "code",
   "execution_count": null,
   "id": "ff75b08d-f582-42a4-9f5d-b317c289b065",
   "metadata": {
    "execution": {
     "iopub.execute_input": "2025-05-29T11:31:45.940299Z",
     "iopub.status.busy": "2025-05-29T11:31:45.940165Z",
     "iopub.status.idle": "2025-05-29T11:31:45.944882Z",
     "shell.execute_reply": "2025-05-29T11:31:45.944580Z",
     "shell.execute_reply.started": "2025-05-29T11:31:45.940285Z"
    }
   },
   "outputs": [],
   "source": [
    "closed_obj_cleaned = closest_obj.dropna(axis=1,how='all')\n",
    "closed_obj_cleaned.reset_index(level=0, inplace=True)"
   ]
  },
  {
   "cell_type": "code",
   "execution_count": null,
   "id": "1030887f-fffc-4efe-8292-ae5658663e8b",
   "metadata": {
    "execution": {
     "iopub.execute_input": "2025-05-29T11:31:45.945553Z",
     "iopub.status.busy": "2025-05-29T11:31:45.945256Z",
     "iopub.status.idle": "2025-05-29T11:31:45.961635Z",
     "shell.execute_reply": "2025-05-29T11:31:45.961334Z",
     "shell.execute_reply.started": "2025-05-29T11:31:45.945539Z"
    }
   },
   "outputs": [],
   "source": [
    "closed_obj_cleaned"
   ]
  },
  {
   "cell_type": "markdown",
   "id": "2651f1e7-a6e8-4702-a5b3-5d85c6b7b9ca",
   "metadata": {},
   "source": [
    "## Plot the deepCoadds Cutsout"
   ]
  },
  {
   "cell_type": "code",
   "execution_count": null,
   "id": "18884813-0cc2-4493-a0b4-a46b96c31a92",
   "metadata": {
    "execution": {
     "iopub.execute_input": "2025-05-29T11:31:45.962143Z",
     "iopub.status.busy": "2025-05-29T11:31:45.962009Z",
     "iopub.status.idle": "2025-05-29T11:31:58.507041Z",
     "shell.execute_reply": "2025-05-29T11:31:58.506631Z",
     "shell.execute_reply.started": "2025-05-29T11:31:45.962130Z"
    }
   },
   "outputs": [],
   "source": [
    "df_obj = closed_obj_cleaned\n",
    "\n",
    "for ib,band in enumerate(all_bands):\n",
    "    print(ib,band)\n",
    "    iframe = ib + 1\n",
    "\n",
    "    id_name = \"objectId\" \n",
    "    ra_name = \"ra\"\n",
    "    dec_name = \"dec\"\n",
    "   \n",
    "   \n",
    "    # object\n",
    "    df_obj = closed_obj_cleaned.iloc[0]\n",
    "    #df_obj[id_name] = df_obj[id_name].astype(int)\n",
    "    name_obj = int(df_obj[id_name])\n",
    "    ra_obj = float(df_obj[ra_name])\n",
    "    dec_obj = float(df_obj[dec_name])\n",
    "    title_obj = f\"{target_name} {band} {ra_obj:.3f}, {dec_obj:.3f}\"\n",
    "  \n",
    "    \n",
    "    # Extract the cutout around the GEM catalog\n",
    "    cutout, wcs, metadata = extract_deepCoadd_cutout(\n",
    "        ra_deg=target_ra,\n",
    "        dec_deg=target_dec,\n",
    "        tractInfo=tract_info,\n",
    "        patchInfo=patch_info,\n",
    "        band=band,\n",
    "        butler=butler,\n",
    "        skymapName=skymapName,\n",
    "        cutout_size_pixels = 100,\n",
    "        collection = collection,\n",
    "    )\n",
    "\n",
    "    # Optionnel : nom unique si plusieurs affichages\n",
    "    display = afwDisplay.Display(frame=iframe)\n",
    "    display.scale(\"asinh\", \"zscale\")\n",
    "    # Affiche le cutout\n",
    "    display.mtv(cutout.image, title=title_obj)\n",
    "\n",
    "    # Show the DIA object as\n",
    "    wcs = cutout.getWcs()\n",
    "    coord_obj = SpherePoint(ra_obj, dec_obj, degrees)\n",
    "    pixel_obj = wcs.skyToPixel(coord_obj)  # donne un Point2D (x, y)\n",
    "    display.dot(\"o\", pixel_obj.getX(), pixel_obj.getY(), size=10, ctype=all_bands_colors[ib])\n",
    "\n",
    "    # Show the target as +\n",
    "    target_point = SpherePoint(target_ra, target_dec, degrees)\n",
    "    pixel_target = wcs.skyToPixel(target_point)  # donne un Point2D (x, y)\n",
    "    display.dot(\"+\", pixel_target.getX(), pixel_target.getY(), size=10, ctype=all_bands_colors[ib])\n",
    "\n",
    "   "
   ]
  },
  {
   "cell_type": "code",
   "execution_count": null,
   "id": "1bbeeb36-aee2-4165-a061-740e0f939451",
   "metadata": {
    "execution": {
     "iopub.execute_input": "2025-05-29T11:31:58.508067Z",
     "iopub.status.busy": "2025-05-29T11:31:58.507522Z",
     "iopub.status.idle": "2025-05-29T11:31:58.510415Z",
     "shell.execute_reply": "2025-05-29T11:31:58.510089Z",
     "shell.execute_reply.started": "2025-05-29T11:31:58.508049Z"
    }
   },
   "outputs": [],
   "source": [
    "#display.erase()"
   ]
  },
  {
   "cell_type": "markdown",
   "id": "b727d802-a564-45de-8c50-33e9a3f50d5f",
   "metadata": {},
   "source": [
    "## Search for Standard sources"
   ]
  },
  {
   "cell_type": "code",
   "execution_count": null,
   "id": "cd069653-a2b8-4e4c-b199-dbf621a85578",
   "metadata": {
    "execution": {
     "iopub.execute_input": "2025-05-29T11:33:55.586220Z",
     "iopub.status.busy": "2025-05-29T11:33:55.585992Z",
     "iopub.status.idle": "2025-05-29T11:33:55.588872Z",
     "shell.execute_reply": "2025-05-29T11:33:55.588540Z",
     "shell.execute_reply.started": "2025-05-29T11:33:55.586204Z"
    }
   },
   "outputs": [],
   "source": [
    "#datasettype =  'forcedSourceTable'\n",
    "datasettype = 'mergedForcedSource'\n",
    "#datasettype =  'diaSourceTable_tract'\n",
    "#datasettype = 'goodSeeingDiff_assocSsSrcTable' # bad table\n",
    "subtitle = collectionStr + \"_\" + datasettype"
   ]
  },
  {
   "cell_type": "code",
   "execution_count": null,
   "id": "001563b6-3bef-4527-a038-c867d3cf06f1",
   "metadata": {
    "execution": {
     "iopub.execute_input": "2025-05-29T11:33:57.274995Z",
     "iopub.status.busy": "2025-05-29T11:33:57.274735Z",
     "iopub.status.idle": "2025-05-29T11:33:57.278366Z",
     "shell.execute_reply": "2025-05-29T11:33:57.278060Z",
     "shell.execute_reply.started": "2025-05-29T11:33:57.274980Z"
    }
   },
   "outputs": [],
   "source": [
    "objectId_selected = closed_obj_cleaned.objectId.values[0]\n",
    "objectId_selected"
   ]
  },
  {
   "cell_type": "code",
   "execution_count": null,
   "id": "ecdd7f95-45fc-48a2-b711-9dc86d4a9252",
   "metadata": {
    "execution": {
     "iopub.execute_input": "2025-05-29T11:33:59.221298Z",
     "iopub.status.busy": "2025-05-29T11:33:59.220948Z",
     "iopub.status.idle": "2025-05-29T11:33:59.223900Z",
     "shell.execute_reply": "2025-05-29T11:33:59.223572Z",
     "shell.execute_reply.started": "2025-05-29T11:33:59.221279Z"
    }
   },
   "outputs": [],
   "source": [
    "figname1 = f\"sl_{target_name}_{datasettype}_v1.png\"\n",
    "figname2 = f\"sl_{target_name}_{datasettype}_v2.png\""
   ]
  },
  {
   "cell_type": "markdown",
   "id": "01644dbe-7501-46bd-b7c6-62a999e3ff9f",
   "metadata": {
    "execution": {
     "iopub.execute_input": "2025-05-29T11:58:15.044471Z",
     "iopub.status.busy": "2025-05-29T11:58:15.044125Z",
     "iopub.status.idle": "2025-05-29T11:58:15.061287Z",
     "shell.execute_reply": "2025-05-29T11:58:15.060836Z",
     "shell.execute_reply.started": "2025-05-29T11:58:15.044453Z"
    }
   },
   "source": [
    "- **But here we don't have any coordinates or patch number !!!**"
   ]
  },
  {
   "cell_type": "code",
   "execution_count": null,
   "id": "1a2d373f-987d-4784-bc02-4bb4ea68d3ec",
   "metadata": {
    "execution": {
     "iopub.execute_input": "2025-05-29T11:34:01.619459Z",
     "iopub.status.busy": "2025-05-29T11:34:01.618663Z",
     "iopub.status.idle": "2025-05-29T11:34:03.584100Z",
     "shell.execute_reply": "2025-05-29T11:34:03.583545Z",
     "shell.execute_reply.started": "2025-05-29T11:34:01.619441Z"
    }
   },
   "outputs": [],
   "source": [
    "fsrc_fromselectedobject = RetrieveMergedForcedSources_forTarget(butler,objectId_selected,datasettype,where_clause)"
   ]
  },
  {
   "cell_type": "markdown",
   "id": "b9a1767f-df1a-499d-b4e0-42f6ba628bfb",
   "metadata": {},
   "source": [
    "### Add a few columns : Split visit into dayobs and seq"
   ]
  },
  {
   "cell_type": "code",
   "execution_count": null,
   "id": "777db096-c726-4318-8953-9dc450f217f6",
   "metadata": {
    "execution": {
     "iopub.execute_input": "2025-05-29T11:31:58.542987Z",
     "iopub.status.busy": "2025-05-29T11:31:58.542855Z",
     "iopub.status.idle": "2025-05-29T11:31:58.546848Z",
     "shell.execute_reply": "2025-05-29T11:31:58.546549Z",
     "shell.execute_reply.started": "2025-05-29T11:31:58.542974Z"
    }
   },
   "outputs": [],
   "source": [
    "t = fsrc_fromselectedobject"
   ]
  },
  {
   "cell_type": "code",
   "execution_count": null,
   "id": "e5025429-e7d7-470c-91b4-963466578fcd",
   "metadata": {
    "execution": {
     "iopub.execute_input": "2025-05-29T11:31:58.547521Z",
     "iopub.status.busy": "2025-05-29T11:31:58.547223Z",
     "iopub.status.idle": "2025-05-29T11:31:58.554717Z",
     "shell.execute_reply": "2025-05-29T11:31:58.554428Z",
     "shell.execute_reply.started": "2025-05-29T11:31:58.547507Z"
    }
   },
   "outputs": [],
   "source": [
    "t"
   ]
  },
  {
   "cell_type": "markdown",
   "id": "2c24a09f-7395-4679-a103-d742bac033fd",
   "metadata": {},
   "source": [
    "### Add Magnitudes and Magnitudes errors"
   ]
  },
  {
   "cell_type": "code",
   "execution_count": null,
   "id": "0d7732b5-d537-4481-a473-6f424db24704",
   "metadata": {
    "execution": {
     "iopub.execute_input": "2025-05-29T11:31:58.555221Z",
     "iopub.status.busy": "2025-05-29T11:31:58.555096Z",
     "iopub.status.idle": "2025-05-29T11:31:58.893126Z",
     "shell.execute_reply": "2025-05-29T11:31:58.892591Z",
     "shell.execute_reply.started": "2025-05-29T11:31:58.555208Z"
    }
   },
   "outputs": [],
   "source": [
    "t[\"dateobs\"] = t.apply(lambda x: x['visit']//100_000, axis=1)\n",
    "t[\"seq\"] = t[\"visit\"] - t[\"dateobs\"]*100_000"
   ]
  },
  {
   "cell_type": "code",
   "execution_count": null,
   "id": "0ce50da4-5813-4622-b582-2f2e735da2b0",
   "metadata": {
    "execution": {
     "iopub.status.busy": "2025-05-29T11:31:58.893450Z",
     "iopub.status.idle": "2025-05-29T11:31:58.893620Z",
     "shell.execute_reply": "2025-05-29T11:31:58.893541Z",
     "shell.execute_reply.started": "2025-05-29T11:31:58.893532Z"
    }
   },
   "outputs": [],
   "source": [
    "#t[\"mags\"] = t[\"psfFlux\"].apply(lambda flux : -2.5 * np.log10(flux) + 31.4)\n",
    "t[\"mags\"] = t[\"psfFlux\"].apply(nJy_to_ab_mag)\n",
    "t[\"magerr\"] = nJy_err_to_ab_err(t[\"psfFlux\"], t[\"psfFluxErr\"])                               \n",
    "t[\"valid\"] = (t[\"psfFlux\"] >0) & (~t[\"psfFlux_flag\"])\n",
    "visit_list = t[\"visit\"].astype(int)"
   ]
  },
  {
   "cell_type": "markdown",
   "id": "4efcc129-8e59-413d-9363-fbcaebc22b59",
   "metadata": {},
   "source": [
    "### Find the time associated to each visit"
   ]
  },
  {
   "cell_type": "code",
   "execution_count": null,
   "id": "74d8d3af-4190-45f3-b401-27d0f26601cf",
   "metadata": {
    "execution": {
     "iopub.status.busy": "2025-05-29T11:31:58.894185Z",
     "iopub.status.idle": "2025-05-29T11:31:58.894349Z",
     "shell.execute_reply": "2025-05-29T11:31:58.894271Z",
     "shell.execute_reply.started": "2025-05-29T11:31:58.894263Z"
    }
   },
   "outputs": [],
   "source": [
    "df_times = FetchTimesForVisits(visit_list)"
   ]
  },
  {
   "cell_type": "code",
   "execution_count": null,
   "id": "1149deb8-31ef-4a3b-8194-6cf844a07673",
   "metadata": {
    "execution": {
     "iopub.status.busy": "2025-05-29T11:31:58.895005Z",
     "iopub.status.idle": "2025-05-29T11:31:58.895312Z",
     "shell.execute_reply": "2025-05-29T11:31:58.895226Z",
     "shell.execute_reply.started": "2025-05-29T11:31:58.895219Z"
    }
   },
   "outputs": [],
   "source": [
    "t[\"mjd\"] = t[\"visit\"].apply(lambda x: df_times.loc[x][\"mjd\"])\n",
    "t[\"isot\"] = t[\"visit\"].apply(lambda x: df_times.loc[x][\"isot\"])\n",
    "t[\"airmass\"] = t[\"visit\"].apply(lambda x: df_times.loc[x][\"airmass\"])\n",
    "t[\"azimuth\"] = t[\"visit\"].apply(lambda x: df_times.loc[x][\"azimuth\"])"
   ]
  },
  {
   "cell_type": "markdown",
   "id": "a868b53e-f3a7-4af5-b494-d95c8733790c",
   "metadata": {},
   "source": [
    "## Split the sources in different bands"
   ]
  },
  {
   "cell_type": "code",
   "execution_count": null,
   "id": "0fd6fe35-901d-4f80-b181-1f5b6767dbde",
   "metadata": {
    "execution": {
     "iopub.status.busy": "2025-05-29T11:31:58.895670Z",
     "iopub.status.idle": "2025-05-29T11:31:58.895825Z",
     "shell.execute_reply": "2025-05-29T11:31:58.895751Z",
     "shell.execute_reply.started": "2025-05-29T11:31:58.895744Z"
    }
   },
   "outputs": [],
   "source": [
    "tb = {}\n",
    "for band in all_bands:\n",
    "    tb[band] = t[t[\"band\"] == band]"
   ]
  },
  {
   "cell_type": "markdown",
   "id": "cdbb432f-01d0-4dae-aaa0-a79d6131c6f5",
   "metadata": {},
   "source": [
    "## Plot light curves"
   ]
  },
  {
   "cell_type": "code",
   "execution_count": null,
   "id": "08022c24-e001-4ad4-8744-d6d91eafb689",
   "metadata": {
    "execution": {
     "iopub.status.busy": "2025-05-29T11:31:58.896284Z",
     "iopub.status.idle": "2025-05-29T11:31:58.896441Z",
     "shell.execute_reply": "2025-05-29T11:31:58.896367Z",
     "shell.execute_reply.started": "2025-05-29T11:31:58.896360Z"
    }
   },
   "outputs": [],
   "source": [
    "plotLightCurvesSeparatedBands(tb,target_title,subtitle,figname1)"
   ]
  },
  {
   "cell_type": "code",
   "execution_count": null,
   "id": "fc4b00b2-b2cb-46c8-854c-d5d4bf61f6e0",
   "metadata": {
    "execution": {
     "iopub.status.busy": "2025-05-29T11:31:58.896973Z",
     "iopub.status.idle": "2025-05-29T11:31:58.897156Z",
     "shell.execute_reply": "2025-05-29T11:31:58.897053Z",
     "shell.execute_reply.started": "2025-05-29T11:31:58.897046Z"
    }
   },
   "outputs": [],
   "source": [
    "plotLightCurvesAllTogetherBands(tb,target_title,subtitle,figname2)"
   ]
  },
  {
   "cell_type": "code",
   "execution_count": null,
   "id": "4127532c-af9c-4878-b1ad-765aed35d19f",
   "metadata": {},
   "outputs": [],
   "source": []
  },
  {
   "cell_type": "code",
   "execution_count": null,
   "id": "7fdce4cf-e724-4aca-97f7-88fbb3985633",
   "metadata": {},
   "outputs": [],
   "source": []
  }
 ],
 "metadata": {
  "kernelspec": {
   "display_name": "LSST",
   "language": "python",
   "name": "lsst"
  },
  "language_info": {
   "codemirror_mode": {
    "name": "ipython",
    "version": 3
   },
   "file_extension": ".py",
   "mimetype": "text/x-python",
   "name": "python",
   "nbconvert_exporter": "python",
   "pygments_lexer": "ipython3",
   "version": "3.12.10"
  }
 },
 "nbformat": 4,
 "nbformat_minor": 5
}
