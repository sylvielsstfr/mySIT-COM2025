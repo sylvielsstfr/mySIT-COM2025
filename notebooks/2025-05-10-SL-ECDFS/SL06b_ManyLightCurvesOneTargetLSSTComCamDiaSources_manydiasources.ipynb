{
 "cells": [
  {
   "cell_type": "markdown",
   "id": "8f3da262-37ed-407f-908c-8ac5a52cb4db",
   "metadata": {},
   "source": [
    "# SL in the Extended Chandra Deep Field South in DIA  Sources Light Curves\n",
    "\n",
    "- author : Sylvie Dagoret-Campagne\n",
    "- affiliation : IJCLab/IN2P3/CNRS\n",
    "- member : DESC, rubin-inkind\n",
    "- creation date : 2025-05-26\n",
    "- last update : 2025-05-29 : Show many dia sources objects"
   ]
  },
  {
   "cell_type": "markdown",
   "id": "0bcb9c8b-c8a8-4f32-be7a-f8844cdc4102",
   "metadata": {},
   "source": [
    "- Confluence page : https://rubinobs.atlassian.net/wiki/spaces/LSSTCOM/pages/372867091/System-level+Science+Performance+Verification+Sprint\n",
    "- slides : https://docs.google.com/presentation/d/1bPjS5NGtiEL2lfjmvP1UYdG_tMEDfZxX26ayhf7MhtY/edit#slide=id.ga2f7fb1a1f_0_70"
   ]
  },
  {
   "cell_type": "markdown",
   "id": "f3737976-eab8-4483-a79d-796f738c4f22",
   "metadata": {},
   "source": [
    "- where to find the campains\n",
    "- https://rubinobs.atlassian.net/wiki/spaces/DM/pages/226656354/LSSTComCam+Intermittent+Cumulative+DRP+Runs\n",
    "\n",
    "- plot Navigator\n",
    "- https://usdf-rsp.slac.stanford.edu/plot-navigator\n",
    "- https://usdf-rsp.slac.stanford.edu/plot-navigator/plot/%2Frepo%2Fmain/LSSTComCam%2Fruns%2FDRP%2FDP1%2Fw_2025_05%2FDM-48666/objectTableCore_coaddInputCount_SkyPlot"
   ]
  },
  {
   "cell_type": "markdown",
   "id": "53b4594d-5de5-4fa1-8ada-f60f0018cac5",
   "metadata": {},
   "source": [
    "- Notebooks examples\n",
    "- https://github.com/lsst-dm/DMTR-401/blob/main/notebooks/test_LVV-T40_T1240.ipynb\n",
    "- https://github.com/lsst-dm/DMTR-412/blob/tickets/DM-38728/notebooks/test_LVV-T1751_AM1_AM2.ipynb"
   ]
  },
  {
   "cell_type": "markdown",
   "id": "8402aac4-562a-40cd-ac2b-c1ca76cae55b",
   "metadata": {},
   "source": [
    "- author : Sylvie Dagoret-Campagne\n",
    "- creation date : 2025-05-12\n",
    "- last update : 2025-05-12\n",
    "- Redo Visits like here : https://github.com/sylvielsstfr/LSST-Rehearsal2024/blob/main/notebooks/Visits/stat_on_visits_LSSTComCamSim.ipynb\n",
    "- To find what I did on LSSTComCamSim : https://github.com/sylvielsstfr/LSST-Rehearsal2024/blob/main/notebooks/LightCurves/MultiColor_lightCurves-DMRehearsal2024_01-AuxTel-DZPOnCCD.ipynb\n",
    "- **Confluence page** : https://rubinobs.atlassian.net/wiki/spaces/LSSTCOM/pages/443613290/Science+Verification+Sprint+Feb+2025\n"
   ]
  },
  {
   "cell_type": "code",
   "execution_count": null,
   "id": "9d583412-a5a0-456e-84be-1fb658ddf016",
   "metadata": {
    "execution": {
     "iopub.execute_input": "2025-05-29T12:02:49.071531Z",
     "iopub.status.busy": "2025-05-29T12:02:49.071411Z",
     "iopub.status.idle": "2025-05-29T12:02:50.130988Z",
     "shell.execute_reply": "2025-05-29T12:02:50.130480Z",
     "shell.execute_reply.started": "2025-05-29T12:02:49.071517Z"
    }
   },
   "outputs": [],
   "source": [
    "# Confirm that the version of the Science Pipelines is recent:\n",
    "! echo $HOSTNAME\n",
    "! eups list -s | grep lsst_distrib"
   ]
  },
  {
   "cell_type": "code",
   "execution_count": null,
   "id": "8fbb9671-7d8e-4724-8c58-0f0a4fb9e5f0",
   "metadata": {
    "execution": {
     "iopub.execute_input": "2025-05-29T12:02:50.131753Z",
     "iopub.status.busy": "2025-05-29T12:02:50.131597Z",
     "iopub.status.idle": "2025-05-29T12:02:51.471542Z",
     "shell.execute_reply": "2025-05-29T12:02:51.471100Z",
     "shell.execute_reply.started": "2025-05-29T12:02:50.131735Z"
    }
   },
   "outputs": [],
   "source": [
    "from lsst.daf.butler import Butler\n",
    "import lsst.geom as geom\n",
    "\n",
    "import lsst.afw.display as afwDisplay\n",
    "\n",
    "from lsst.geom import SpherePoint, degrees, Point2D, Point2I, Extent2I, Box2I\n",
    "from lsst.afw.image import ExposureF\n",
    "from lsst.skymap import PatchInfo, Index2D"
   ]
  },
  {
   "cell_type": "code",
   "execution_count": null,
   "id": "8983f25c-dadf-434b-bb84-e24a3150f766",
   "metadata": {
    "execution": {
     "iopub.execute_input": "2025-05-29T12:02:51.472373Z",
     "iopub.status.busy": "2025-05-29T12:02:51.472021Z",
     "iopub.status.idle": "2025-05-29T12:02:51.530054Z",
     "shell.execute_reply": "2025-05-29T12:02:51.529623Z",
     "shell.execute_reply.started": "2025-05-29T12:02:51.472358Z"
    }
   },
   "outputs": [],
   "source": [
    "afwDisplay.setDefaultBackend(\"firefly\")"
   ]
  },
  {
   "cell_type": "code",
   "execution_count": null,
   "id": "e814e3d6-750c-4e7f-a9a5-5bf1e2f7205f",
   "metadata": {
    "execution": {
     "iopub.execute_input": "2025-05-29T12:02:51.530861Z",
     "iopub.status.busy": "2025-05-29T12:02:51.530534Z",
     "iopub.status.idle": "2025-05-29T12:02:54.162998Z",
     "shell.execute_reply": "2025-05-29T12:02:54.162508Z",
     "shell.execute_reply.started": "2025-05-29T12:02:51.530844Z"
    }
   },
   "outputs": [],
   "source": [
    "import os\n",
    "import gc\n",
    "import glob\n",
    "import numpy as np\n",
    "import pandas as pd\n",
    "import random\n",
    "\n",
    "import astropy.units as u\n",
    "from astropy.coordinates import SkyCoord\n",
    "from astroquery.gaia import Gaia\n",
    "Gaia.MAIN_GAIA_TABLE = \"gaiadr3.gaia_source\"  # Reselect Data Release 3, default\n",
    "Gaia.ROW_LIMIT = 100000\n",
    "from astropy.visualization import (MinMaxInterval, AsinhStretch, ZScaleInterval, LogStretch, LinearStretch,\n",
    "                                   ImageNormalize)"
   ]
  },
  {
   "cell_type": "code",
   "execution_count": null,
   "id": "e68df967-7870-47da-a4dd-760df6732aa5",
   "metadata": {
    "execution": {
     "iopub.execute_input": "2025-05-29T12:02:54.163773Z",
     "iopub.status.busy": "2025-05-29T12:02:54.163447Z",
     "iopub.status.idle": "2025-05-29T12:02:54.831218Z",
     "shell.execute_reply": "2025-05-29T12:02:54.830724Z",
     "shell.execute_reply.started": "2025-05-29T12:02:54.163757Z"
    }
   },
   "outputs": [],
   "source": [
    "import seaborn as sns\n",
    "from itertools import cycle, islice"
   ]
  },
  {
   "cell_type": "code",
   "execution_count": null,
   "id": "f385c649-efb6-40a8-b9f7-ebc65c441a04",
   "metadata": {
    "execution": {
     "iopub.execute_input": "2025-05-29T12:02:54.832017Z",
     "iopub.status.busy": "2025-05-29T12:02:54.831736Z",
     "iopub.status.idle": "2025-05-29T12:02:54.834476Z",
     "shell.execute_reply": "2025-05-29T12:02:54.834089Z",
     "shell.execute_reply.started": "2025-05-29T12:02:54.832000Z"
    }
   },
   "outputs": [],
   "source": [
    "from astropy.time import Time\n",
    "from datetime import datetime, timedelta"
   ]
  },
  {
   "cell_type": "code",
   "execution_count": null,
   "id": "46c68d72-750b-4bb9-b92a-1fe6e1728171",
   "metadata": {
    "execution": {
     "iopub.execute_input": "2025-05-29T12:02:54.835260Z",
     "iopub.status.busy": "2025-05-29T12:02:54.834924Z",
     "iopub.status.idle": "2025-05-29T12:02:54.843009Z",
     "shell.execute_reply": "2025-05-29T12:02:54.842651Z",
     "shell.execute_reply.started": "2025-05-29T12:02:54.835245Z"
    }
   },
   "outputs": [],
   "source": [
    "import lsst\n",
    "import lsst.geom as geom\n",
    "from lsst.geom import Angle\n",
    "from lsst.geom import SpherePoint\n",
    "from lsst.geom import AngleUnit"
   ]
  },
  {
   "cell_type": "code",
   "execution_count": null,
   "id": "a11a939d-942c-48b8-97ec-f426d85cd47f",
   "metadata": {
    "execution": {
     "iopub.execute_input": "2025-05-29T12:02:54.843739Z",
     "iopub.status.busy": "2025-05-29T12:02:54.843465Z",
     "iopub.status.idle": "2025-05-29T12:02:54.850183Z",
     "shell.execute_reply": "2025-05-29T12:02:54.849808Z",
     "shell.execute_reply.started": "2025-05-29T12:02:54.843725Z"
    }
   },
   "outputs": [],
   "source": [
    "# For Angle conversion\n",
    "from astropy.coordinates import Angle\n",
    "import astropy.units as u\n",
    "from astropy.coordinates import SkyCoord"
   ]
  },
  {
   "cell_type": "code",
   "execution_count": null,
   "id": "224cf803-f7cc-4e49-9dc9-46779557286e",
   "metadata": {
    "execution": {
     "iopub.execute_input": "2025-05-29T12:02:54.850879Z",
     "iopub.status.busy": "2025-05-29T12:02:54.850630Z",
     "iopub.status.idle": "2025-05-29T12:02:54.859001Z",
     "shell.execute_reply": "2025-05-29T12:02:54.858650Z",
     "shell.execute_reply.started": "2025-05-29T12:02:54.850865Z"
    }
   },
   "outputs": [],
   "source": [
    "def find_tract_patch_and_display(butler, skymap,ra_deg, dec_deg, band, framecount):\n",
    "    \"\"\"\n",
    "    - butler\n",
    "    - skymap\n",
    "    - ra_deg, dec_deg : source\n",
    "    - band\n",
    "    - framecount\n",
    "    \"\"\"\n",
    "    # Ouvrir le dépôt\n",
    "    #butler = Butler(repo)\n",
    "    #skymap = butler.get(\"skyMap\")\n",
    "    band_to_color = {\"u\":\"blue\",\"g\":\"green\",\"r\":\"red\",\"i\":\"orange\",\"z\":\"yellow\",\"y\":\"purple\"}\n",
    "\n",
    "    datasettype = \"objectTable_tract\"\n",
    "    therefs = butler.registry.queryDatasets(datasettype,  collections=collection)\n",
    "\n",
    "    # Créer le point céleste\n",
    "    coord = SpherePoint(ra_deg * degrees, dec_deg * degrees)\n",
    "\n",
    "\n",
    "    found = False\n",
    "    # loop only on existing tracts\n",
    "    \n",
    "    for ref in therefs:\n",
    "        tract_id = ref.dataId[\"tract\"]\n",
    "        tractInfo = skymap[tract_id]\n",
    "        if tractInfo.contains(coord):\n",
    "            patchInfo = tractInfo.findPatch(coord)\n",
    "            patch_id = patchInfo.getIndex()  # Tuple (x, y)\n",
    "            patch_indexseq = patchInfo.getSequentialIndex()\n",
    "            print(f\"Tract: {tract_id}, Patch: {patch_indexseq}\")\n",
    "            found = True\n",
    "            break\n",
    "    # Charger l’image coadd correspondante\n",
    "    dataId = {\"tract\": tract_id, \"patch\": patch_indexseq, \"band\": band,\"skymap\": skymapName}\n",
    "    #deepCoadd_calexp\n",
    "    coadd = butler.get(\"deepCoadd_calexp\", dataId)\n",
    "    # Récupération du WCS\n",
    "    wcs = coadd.getWcs()\n",
    "\n",
    "    datatitle = f\"deepcoadd-LSSTComCam : {tract_id} , {patch_indexseq} , {band}\"\n",
    "    print(datatitle)\n",
    "\n",
    "    # Affichage avec marqueur\n",
    "    \n",
    "    display = afwDisplay.Display(frame = framecount)\n",
    "    display.scale('asinh', 'zscale')\n",
    "    #afw_display.scale('linear', min=zmin, max=zmax)\n",
    "    #display.setImageColormap(cmap='grey')\n",
    "    display.setImageColormap(cmap='Grey_r')\n",
    "    display.mtv(coadd.getImage(),title=datatitle)\n",
    "\n",
    "    # Création du point céleste\n",
    "    pix_point = wcs.skyToPixel(coord)\n",
    "    x, y = pix_point.x,pix_point.y\n",
    "    \n",
    "    col = band_to_color[band] \n",
    "    display.dot(\"+\", x, y, size=50, ctype=col)\n",
    "    \n",
    "\n",
    "    \n",
    "    return tract_id, patch_indexseq, band"
   ]
  },
  {
   "cell_type": "code",
   "execution_count": null,
   "id": "d3b2516d-c0fb-4c9d-9a4d-c0ab951c799a",
   "metadata": {
    "execution": {
     "iopub.execute_input": "2025-05-29T12:02:54.859754Z",
     "iopub.status.busy": "2025-05-29T12:02:54.859444Z",
     "iopub.status.idle": "2025-05-29T12:02:54.868314Z",
     "shell.execute_reply": "2025-05-29T12:02:54.867944Z",
     "shell.execute_reply.started": "2025-05-29T12:02:54.859739Z"
    }
   },
   "outputs": [],
   "source": [
    "def extract_deepCoadd_cutout(\n",
    "    ra_deg,\n",
    "    dec_deg,\n",
    "    tractInfo,\n",
    "    patchInfo,\n",
    "    band,\n",
    "    butler,\n",
    "    skymapName,\n",
    "    cutout_size_pixels,\n",
    "    collection,\n",
    "):\n",
    "    \"\"\"\n",
    "    Extract a square cutout from a deepCoadd image centered on given sky coordinates.\n",
    "\n",
    "    Parameters\n",
    "    ----------\n",
    "    ra_deg : float\n",
    "        Right ascension in degrees.\n",
    "    dec_deg : float\n",
    "        Declination in degrees.\n",
    "    tractInfo : lsst.skymap.TractInfo\n",
    "        Tract information object (from SkyMap).\n",
    "    patchInfo : lsst.skymap.PatchInfo\n",
    "        Patch information object (from SkyMap).\n",
    "    band : str\n",
    "        Photometric band (e.g., 'i', 'r', 'g').\n",
    "    butler : lsst.daf.butler.Butler\n",
    "        Butler instance to access LSST data.\n",
    "    cutout_size_pixels : int, optional\n",
    "        Size of the cutout in pixels (square region), default is 200.\n",
    "    collection : str, optional\n",
    "        Name of the collection containing deepCoadd data.\n",
    "\n",
    "    Returns\n",
    "    -------\n",
    "    cutout : lsst.afw.image.ExposureF\n",
    "        The extracted image cutout.\n",
    "    wcs : lsst.afw.geom.SkyWcs\n",
    "        World Coordinate System associated with the cutout.\n",
    "    metadata : lsst.daf.base.PropertyList\n",
    "        FITS metadata header for the cutout image.\n",
    "    \"\"\"\n",
    "\n",
    "    # Build dataId for the deepCoadd image\n",
    "    tract = tractInfo.getId()\n",
    "    patch = patchInfo.getSequentialIndex()\n",
    "    dataId = dict(tract=tract, patch=patch, band=band, skymap=skymapName)\n",
    "\n",
    "    # Retrieve the deepCoadd exposure\n",
    "    exposure = butler.get(\"deepCoadd\", dataId=dataId, collections=collection)\n",
    "    image_bbox = exposure.getBBox()\n",
    "\n",
    "    # Convert sky coordinates (RA, Dec) to pixel coordinates using WCS\n",
    "    coord = SpherePoint(ra_deg, dec_deg, degrees)\n",
    "    wcs = exposure.getWcs()\n",
    "    pixel_center = wcs.skyToPixel(coord)\n",
    "\n",
    "    half_size = cutout_size_pixels // 2\n",
    "\n",
    "    # Centre du cutout\n",
    "    center_x = int(pixel_center.getX())\n",
    "    center_y = int(pixel_center.getY())\n",
    "\n",
    "    # Coordonnées du coin en bas à gauche\n",
    "    corner_x = max(center_x - half_size, image_bbox.getMinX())\n",
    "    corner_y = max(center_y - half_size, image_bbox.getMinY())\n",
    "\n",
    "    # Ne pas dépasser la taille max de l'image\n",
    "    corner_x = min(corner_x, image_bbox.getMaxX() - cutout_size_pixels)\n",
    "    corner_y = min(corner_y, image_bbox.getMaxY() - cutout_size_pixels)\n",
    "\n",
    "    # Define a square bounding box around the target pixel\n",
    "    # Création du BBox valide\n",
    "    corner = Point2I(corner_x, corner_y)\n",
    "    bbox = Box2I(corner, Extent2I(cutout_size_pixels, cutout_size_pixels))\n",
    "\n",
    "    # Extract the cutout from the original exposure\n",
    "    cutout = exposure.Factory(exposure, bbox, deep=True)\n",
    "\n",
    "    return cutout, cutout.getWcs(), cutout.getMetadata()"
   ]
  },
  {
   "cell_type": "code",
   "execution_count": null,
   "id": "bd5588af-14ec-4f29-96c8-2cb1e2e226a5",
   "metadata": {
    "execution": {
     "iopub.execute_input": "2025-05-29T12:02:54.871257Z",
     "iopub.status.busy": "2025-05-29T12:02:54.871124Z",
     "iopub.status.idle": "2025-05-29T12:02:54.876361Z",
     "shell.execute_reply": "2025-05-29T12:02:54.876011Z",
     "shell.execute_reply.started": "2025-05-29T12:02:54.871245Z"
    }
   },
   "outputs": [],
   "source": [
    "def RetrieveDiaObject_forTarget(butler,center_coord,datasettype,where_clause,radius_cut=50):\n",
    "    \"\"\"\n",
    "    Find the closest DIA objectto the target_coord \n",
    "\n",
    "    parameters:\n",
    "    - butler\n",
    "    - the coordinate of the target (center of the cone seach)\n",
    "    - the datasettype name for the DIA object\n",
    "    - where_clause : which contrain requirements on the tract and patch numbers\n",
    "    - cut on angluar separation for the returned for the returned object\n",
    "\n",
    "    Return\n",
    "    - object Id with minimum separation , \n",
    "    - minimum separation (arcec),\n",
    "    - the table of DIA objects within the radius_cut\n",
    "    \"\"\"\n",
    "\n",
    "    #datasettype =  'forcedSourceOnDiaObjectTable'\n",
    "    #datasettype =  'diaSourceTable_tract'\n",
    "    #datasettype = 'goodSeeingDiff_assocSsSrcTable' # bad table\n",
    "    \n",
    "    therefs = butler.registry.queryDatasets(datasettype,  collections=collection, where=where_clause)\n",
    "    listref = list(therefs)\n",
    "    nref = len(listref)\n",
    "    print(f\"nref = {nref}\")\n",
    "    # assume the target is in a single (tract,patch)\n",
    "    assert nref == 1\n",
    "\n",
    "    # loop forcedSourceOnDiaObjectTable (per tract, per patch)\n",
    "    for count,ref in enumerate(therefs):\n",
    "        the_id = ref.dataId\n",
    "        the_tract_id = the_id[\"tract\"] \n",
    "        \n",
    "        assert the_tract_id == TRACTSEL\n",
    "\n",
    "        # catalog of rubin objects (a pandas Dataframe) inside the tract\n",
    "        catalog = butler.get(ref)\n",
    "        nsources = len(catalog)\n",
    "           \n",
    "\n",
    "        # extract the (ra,dec) coordinates for all te objects of the rubin-catalog\n",
    "        ra_cat = catalog[\"ra\"].values\n",
    "        dec_cat = catalog[\"dec\"].values\n",
    "        # coordinates for all rubin-catalog points\n",
    "        catalog_coords = SkyCoord(ra=ra_cat*u.deg, dec=dec_cat*u.deg)\n",
    "\n",
    "        # Angular distance to target\n",
    "        distances_arcsec = center_coord.separation(catalog_coords).arcsecond\n",
    "\n",
    "        # add the separation angle to the ctalog\n",
    "        catalog[\"sep\"] = distances_arcsec\n",
    "\n",
    "\n",
    "        # closest object from the target\n",
    "        sepMin = distances_arcsec.min() \n",
    "        sepMin_idx = np.where(distances_arcsec == sepMin)[0][0]\n",
    "    \n",
    "        closest_obj = catalog[catalog[\"sep\"] <=  sepMin]\n",
    "                   \n",
    "        # select a few of these sources to debug the closest candidate\n",
    "        nearby_obj = catalog[distances_arcsec < radius_cut]\n",
    "        \n",
    "        return closest_obj, sepMin, nearby_obj\n",
    "\n",
    "      "
   ]
  },
  {
   "cell_type": "code",
   "execution_count": null,
   "id": "bac5c1ba-bb19-4aa8-a6fe-8453ebe37358",
   "metadata": {
    "execution": {
     "iopub.execute_input": "2025-05-29T12:02:54.877019Z",
     "iopub.status.busy": "2025-05-29T12:02:54.876778Z",
     "iopub.status.idle": "2025-05-29T12:02:54.885394Z",
     "shell.execute_reply": "2025-05-29T12:02:54.885035Z",
     "shell.execute_reply.started": "2025-05-29T12:02:54.877005Z"
    }
   },
   "outputs": [],
   "source": [
    "def RetrieveDiaObjectManySources_forTarget(butler,center_coord,datasettype,where_clause,nsel):\n",
    "    \"\"\"\n",
    "    Find the closest DIA objectto the target_coord \n",
    "\n",
    "    parameters:\n",
    "    - butler\n",
    "    - the coordinate of the target (center of the cone seach)\n",
    "    - the datasettype name for the DIA object\n",
    "    - where_clause : which contrain requirements on the tract and patch numbers\n",
    "    - cut on angluar separation for the returned for the returned object\n",
    "\n",
    "    Return\n",
    "    - object Id with minimum separation , \n",
    "    - minimum separation (arcec),\n",
    "    - the table of DIA objects within the radius_cut\n",
    "    \"\"\"\n",
    "\n",
    "    #datasettype =  'forcedSourceOnDiaObjectTable'\n",
    "    #datasettype =  'diaSourceTable_tract'\n",
    "    #datasettype = 'goodSeeingDiff_assocSsSrcTable' # bad table\n",
    "    \n",
    "    therefs = butler.registry.queryDatasets(datasettype,  collections=collection, where=where_clause)\n",
    "    listref = list(therefs)\n",
    "    nref = len(listref)\n",
    "    print(f\"nref = {nref}\")\n",
    "    # assume the target is in a single (tract,patch)\n",
    "    assert nref == 1\n",
    "\n",
    "    # loop forcedSourceOnDiaObjectTable (per tract, per patch)\n",
    "    for count,ref in enumerate(therefs):\n",
    "        the_id = ref.dataId\n",
    "        the_tract_id = the_id[\"tract\"] \n",
    "        \n",
    "        assert the_tract_id == TRACTSEL\n",
    "\n",
    "        # catalog of rubin objects (a pandas Dataframe) inside the tract\n",
    "        catalog = butler.get(ref)\n",
    "        nsources = len(catalog)\n",
    "           \n",
    "\n",
    "        # extract the (ra,dec) coordinates for all te objects of the rubin-catalog\n",
    "        ra_cat = catalog[\"ra\"].values\n",
    "        dec_cat = catalog[\"dec\"].values\n",
    "        # coordinates for all rubin-catalog points\n",
    "        catalog_coords = SkyCoord(ra=ra_cat*u.deg, dec=dec_cat*u.deg)\n",
    "\n",
    "        # Angular distance to target\n",
    "        distances_arcsec = center_coord.separation(catalog_coords).arcsecond\n",
    "\n",
    "        # add the separation angle to the ctalog\n",
    "        catalog[\"sep\"] = distances_arcsec\n",
    "\n",
    "       \n",
    "        topn_vals = catalog['nDiaSources'].nlargest(nsel).unique()\n",
    "        filtered_catalog = catalog[catalog['nDiaSources'].isin(topn_vals)]\n",
    "        \n",
    "        return filtered_catalog \n",
    "\n",
    "      "
   ]
  },
  {
   "cell_type": "code",
   "execution_count": null,
   "id": "a98edb84-bab9-4ed3-9265-ba88ce2406ed",
   "metadata": {
    "execution": {
     "iopub.execute_input": "2025-05-29T12:02:54.886051Z",
     "iopub.status.busy": "2025-05-29T12:02:54.885815Z",
     "iopub.status.idle": "2025-05-29T12:02:54.893874Z",
     "shell.execute_reply": "2025-05-29T12:02:54.893521Z",
     "shell.execute_reply.started": "2025-05-29T12:02:54.886038Z"
    }
   },
   "outputs": [],
   "source": [
    "def RetrieveDiaSources_forTarget(butler,center_coord,datasettype,where_clause,radius_cut=100):\n",
    "    \"\"\"\n",
    "    Find the closest DIA objectto the target_coord \n",
    "\n",
    "    parameters:\n",
    "    - butler\n",
    "    - the coordinate of the target (center of the cone seach)\n",
    "    - the datasettype name for the DIA object\n",
    "    - where_clause : which contrain requirements on the tract and patch numbers\n",
    "    - cut on angluar separation for the returned for the returned object\n",
    "\n",
    "    Return\n",
    "    - object Id with minimum separation , \n",
    "    - minimum separation (arcec),\n",
    "    - the table of DIA objects within the radius_cut\n",
    "    \"\"\"\n",
    "\n",
    "    #datasettype =  'forcedSourceOnDiaObjectTable'\n",
    "    #datasettype =  'diaSourceTable_tract'\n",
    "    #datasettype = 'goodSeeingDiff_assocSsSrcTable' # bad table\n",
    "    \n",
    "    therefs = butler.registry.queryDatasets(datasettype,  collections=collection, where=where_clause)\n",
    "    listref = list(therefs)\n",
    "    nref = len(listref)\n",
    "    print(f\"nref = {nref}\")\n",
    "    # assume the target is in a single (tract,patch)\n",
    "    assert nref == 1\n",
    "\n",
    "    # loop forcedSourceOnDiaObjectTable (per tract, per patch)\n",
    "    for count,ref in enumerate(therefs):\n",
    "        the_id = ref.dataId\n",
    "        the_tract_id = the_id[\"tract\"] \n",
    "        \n",
    "        assert the_tract_id == TRACTSEL\n",
    "\n",
    "        # catalog of rubin objects (a pandas Dataframe) inside the tract\n",
    "        catalog = butler.get(ref)\n",
    "        nsources = len(catalog)\n",
    "           \n",
    "\n",
    "        # extract the (ra,dec) coordinates for all te objects of the rubin-catalog\n",
    "        ra_cat = catalog[\"coord_ra\"].values\n",
    "        dec_cat = catalog[\"coord_dec\"].values\n",
    "        # coordinates for all rubin-catalog points\n",
    "        catalog_coords = SkyCoord(ra=ra_cat*u.deg, dec=dec_cat*u.deg)\n",
    "\n",
    "        # Angular distance to target\n",
    "        distances_arcsec = center_coord.separation(catalog_coords).arcsecond\n",
    "\n",
    "        # add the separation angle to the ctalog\n",
    "        catalog[\"sep\"] = distances_arcsec\n",
    "\n",
    "\n",
    "        # closest object from the target\n",
    "        sepMin = distances_arcsec.min() \n",
    "        sepMin_idx = np.where(distances_arcsec == sepMin)[0][0]\n",
    "    \n",
    "        closest_src = catalog[catalog[\"sep\"] <=  sepMin]\n",
    "                   \n",
    "        # select a few of these sources to debug the closest candidate\n",
    "        nearby_src = catalog[distances_arcsec < radius_cut]\n",
    "        \n",
    "        return closest_src, sepMin, nearby_src\n",
    "\n",
    "      "
   ]
  },
  {
   "cell_type": "code",
   "execution_count": null,
   "id": "bd6269c5-af6f-4dec-a006-b405dd8a7dff",
   "metadata": {
    "execution": {
     "iopub.execute_input": "2025-05-29T12:02:54.894544Z",
     "iopub.status.busy": "2025-05-29T12:02:54.894307Z",
     "iopub.status.idle": "2025-05-29T12:02:54.901588Z",
     "shell.execute_reply": "2025-05-29T12:02:54.901242Z",
     "shell.execute_reply.started": "2025-05-29T12:02:54.894531Z"
    }
   },
   "outputs": [],
   "source": [
    "def RetrieveDiaManySources_forTarget(butler,center_coord,datasettype,where_clause,object_id):\n",
    "    \"\"\"\n",
    "    Find the closest DIA objectto the target_coord \n",
    "\n",
    "    parameters:\n",
    "    - butler\n",
    "    - the coordinate of the target (center of the cone seach)\n",
    "    - the datasettype name for the DIA object\n",
    "    - where_clause : which contrain requirements on the tract and patch numbers\n",
    "    - object ids\n",
    "\n",
    "    Return\n",
    "    - object Id with minimum separation , \n",
    "    - minimum separation (arcec),\n",
    "    - the table of DIA objects within the radius_cut\n",
    "    \"\"\"\n",
    "    \n",
    "    therefs = butler.registry.queryDatasets(datasettype,  collections=collection, where=where_clause)\n",
    "    listref = list(therefs)\n",
    "    nref = len(listref)\n",
    "    print(f\"nref = {nref}\")\n",
    "    # assume the target is in a single (tract,patch)\n",
    "    assert nref == 1\n",
    "\n",
    "    # loop forcedSourceOnDiaObjectTable (per tract, per patch)\n",
    "    for count,ref in enumerate(therefs):\n",
    "        the_id = ref.dataId\n",
    "        the_tract_id = the_id[\"tract\"] \n",
    "        \n",
    "        assert the_tract_id == TRACTSEL\n",
    "\n",
    "        # catalog of rubin objects (a pandas Dataframe) inside the tract\n",
    "        catalog = butler.get(ref)\n",
    "        nsources = len(catalog)\n",
    "           \n",
    "\n",
    "        # extract the (ra,dec) coordinates for all te objects of the rubin-catalog\n",
    "        ra_cat = catalog[\"coord_ra\"].values\n",
    "        dec_cat = catalog[\"coord_dec\"].values\n",
    "        # coordinates for all rubin-catalog points\n",
    "        catalog_coords = SkyCoord(ra=ra_cat*u.deg, dec=dec_cat*u.deg)\n",
    "\n",
    "        # Angular distance to target\n",
    "        distances_arcsec = center_coord.separation(catalog_coords).arcsecond\n",
    "\n",
    "        # add the separation angle to the ctalog\n",
    "        catalog[\"sep\"] = distances_arcsec\n",
    "        cut_selectionsrcs = catalog[\"diaObjectId\"] == object_id\n",
    "        the_srcs = catalog[cut_selectionsrcs]\n",
    "\n",
    "        return the_srcs\n"
   ]
  },
  {
   "cell_type": "code",
   "execution_count": null,
   "id": "cb45e8d8-fa8b-40a3-a24e-9261765b5e21",
   "metadata": {
    "execution": {
     "iopub.execute_input": "2025-05-29T12:02:54.902260Z",
     "iopub.status.busy": "2025-05-29T12:02:54.902022Z",
     "iopub.status.idle": "2025-05-29T12:02:54.909233Z",
     "shell.execute_reply": "2025-05-29T12:02:54.908868Z",
     "shell.execute_reply.started": "2025-05-29T12:02:54.902247Z"
    }
   },
   "outputs": [],
   "source": [
    "def FetchTimesForVisits(visit_list):\n",
    "    \"\"\"\n",
    "    \"\"\"\n",
    "    # On interroge la table visitDefinition\n",
    "    Nvisit = len(visit_list)\n",
    "        \n",
    "    if Nvisit == 1:\n",
    "        thevisit = visit_list.values[0]\n",
    "        rows = registry.queryDimensionRecords(\"visit\", where=f\"visit={thevisit}\")\n",
    "    else:\n",
    "        rows = registry.queryDimensionRecords(\"visit\", where=f\"visit in {tuple(visit_list)}\")\n",
    "\n",
    "    # 4. Construire un tableau des résultats\n",
    "    results = []\n",
    "    for row in rows:\n",
    "        visit_id = row.id\n",
    "        visit_airmass = 1./np.cos(Angle(row.zenith_angle,u.degree).rad)\n",
    "        visit_azimuth = row.azimuth\n",
    "\n",
    "        # Extraire l'instant de début de l'observation (Time astropy)\n",
    "        start_time = row.timespan.begin\n",
    "\n",
    "        # Convertir en MJD et ISO\n",
    "        mjd = start_time.to_value(\"mjd\")  # Ex: 60384.28718\n",
    "        isot = start_time.to_value(\"isot\")  # Ex: '2024-04-19 06:53:32.000'\n",
    "    \n",
    "        #mjd = row.startDate.toMjd()\n",
    "        #utc = Time(mjd, format='mjd', scale='utc').to_value('iso')\n",
    "        #results.append({\"visit\": visit_id, \"mjd\": mjd, \"isot\": isot})\n",
    "        results.append({\"visit\": visit_id, \"mjd\": mjd, \"isot\": isot,\"airmass\":visit_airmass,\"azimuth\":visit_azimuth})\n",
    "\n",
    "    df_times = pd.DataFrame(results).sort_values(\"visit\")\n",
    "    df_times.set_index(\"visit\",inplace=True)\n",
    "    return df_times"
   ]
  },
  {
   "cell_type": "code",
   "execution_count": null,
   "id": "27a667f4-e5bb-411d-a399-168624f19277",
   "metadata": {
    "execution": {
     "iopub.execute_input": "2025-05-29T12:02:54.909906Z",
     "iopub.status.busy": "2025-05-29T12:02:54.909660Z",
     "iopub.status.idle": "2025-05-29T12:02:54.916321Z",
     "shell.execute_reply": "2025-05-29T12:02:54.915967Z",
     "shell.execute_reply.started": "2025-05-29T12:02:54.909893Z"
    }
   },
   "outputs": [],
   "source": [
    "def plotLightCurvesSeparatedBands(tb,title,subtitle,figname = None):\n",
    "    \"\"\"\n",
    "    \"\"\"\n",
    "\n",
    "    fig,axs = plt.subplots(6,1,figsize=(18,16),sharex=True,layout=\"constrained\")\n",
    "\n",
    "    for idx,band in enumerate(all_bands):\n",
    "        ax =axs[idx]\n",
    "        label = f\"band {band}\"\n",
    "        ax.scatter(tb[band].mjd, tb[band].mags,color=all_bands_colors[idx],label=label,marker=\"o\",s=100)\n",
    "        ax.set_ylabel(\"mag_psfFlux\")\n",
    "        ax.legend()\n",
    "        if idx==0:\n",
    "            ax.set_title(target_title,fontweight = \"bold\")\n",
    "    ax.set_xlabel(\"mjd\")\n",
    "    \n",
    "    plt.suptitle(subtitle)\n",
    "\n",
    "    if figname != None:\n",
    "        plt.savefig(figname)\n",
    "    plt.show()   "
   ]
  },
  {
   "cell_type": "code",
   "execution_count": null,
   "id": "85d46c0f-3eb3-44d7-b91a-7fef80bed6d6",
   "metadata": {
    "execution": {
     "iopub.execute_input": "2025-05-29T12:02:54.916995Z",
     "iopub.status.busy": "2025-05-29T12:02:54.916747Z",
     "iopub.status.idle": "2025-05-29T12:02:54.923969Z",
     "shell.execute_reply": "2025-05-29T12:02:54.923586Z",
     "shell.execute_reply.started": "2025-05-29T12:02:54.916982Z"
    }
   },
   "outputs": [],
   "source": [
    "def plotLightCurvesAllTogetherBands(tb,title,subtitle,figname = None):\n",
    "    \"\"\"\n",
    "    \"\"\"\n",
    "    fig,ax = plt.subplots(1,1,figsize=(18,10),sharex=True,layout=\"constrained\")\n",
    "\n",
    "    for idx,band in enumerate([\"u\", \"g\", \"r\", \"i\", \"z\", \"y\"]):\n",
    "        label = f\"band {band}\"\n",
    "        ax.scatter(tb[band].mjd, tb[band].mags,color=all_bands_colors[idx],label=label,marker=\"o\",s=100)\n",
    "\n",
    "    ax.set_ylabel(\"mag_psfFlux\")\n",
    "    ax.set_title(target_title,fontweight = \"bold\")\n",
    "    ax.set_xlabel(\"mjd\")\n",
    "    ax.legend()\n",
    "\n",
    "    plt.suptitle(subtitle)\n",
    "    if figname != None:\n",
    "        plt.savefig(figname)\n",
    "        \n",
    "    plt.show()"
   ]
  },
  {
   "cell_type": "code",
   "execution_count": null,
   "id": "b99fa2b7-e843-47f4-b8d1-9cd00472ab7d",
   "metadata": {},
   "outputs": [],
   "source": []
  },
  {
   "cell_type": "code",
   "execution_count": null,
   "id": "2bbb53e9-e293-4ea7-ae47-c78930ce5d93",
   "metadata": {
    "execution": {
     "iopub.execute_input": "2025-05-29T12:02:54.924697Z",
     "iopub.status.busy": "2025-05-29T12:02:54.924440Z",
     "iopub.status.idle": "2025-05-29T12:02:54.930963Z",
     "shell.execute_reply": "2025-05-29T12:02:54.930628Z",
     "shell.execute_reply.started": "2025-05-29T12:02:54.924682Z"
    }
   },
   "outputs": [],
   "source": [
    "# https://pipelines.lsst.io/modules/lsst.geom/getting-started.html\n",
    "func_degToRad = lambda x : Angle(x,lsst.geom.degrees).asRadians()"
   ]
  },
  {
   "cell_type": "code",
   "execution_count": null,
   "id": "5af15c53-1d3f-42ee-81d8-508a2daa56c0",
   "metadata": {
    "execution": {
     "iopub.execute_input": "2025-05-29T12:02:54.931700Z",
     "iopub.status.busy": "2025-05-29T12:02:54.931393Z",
     "iopub.status.idle": "2025-05-29T12:02:54.947353Z",
     "shell.execute_reply": "2025-05-29T12:02:54.946983Z",
     "shell.execute_reply.started": "2025-05-29T12:02:54.931686Z"
    }
   },
   "outputs": [],
   "source": [
    "# Set plotting defaults\n",
    "%matplotlib inline\n",
    "import matplotlib.pyplot as plt\n",
    "from matplotlib.ticker import FormatStrFormatter\n",
    "from matplotlib.colors import ListedColormap\n",
    "from matplotlib import colors\n",
    "zscale = ZScaleInterval()\n",
    "\n",
    "# Set up some plotting defaults:\n",
    "plt.rcParams.update({'figure.figsize' : (12, 8)})\n",
    "plt.rcParams.update({'font.size' : 24})\n",
    "plt.rcParams.update({'axes.linewidth' : 3})\n",
    "plt.rcParams.update({'axes.labelweight' : 3})\n",
    "plt.rcParams.update({'axes.titleweight' : 5})\n",
    "plt.rcParams.update({'ytick.major.width' : 3})\n",
    "plt.rcParams.update({'ytick.minor.width' : 2})\n",
    "plt.rcParams.update({'ytick.major.size' : 8})\n",
    "plt.rcParams.update({'ytick.minor.size' : 5})\n",
    "plt.rcParams.update({'xtick.major.size' : 8})\n",
    "plt.rcParams.update({'xtick.minor.size' : 5})\n",
    "plt.rcParams.update({'xtick.major.width' : 3})\n",
    "plt.rcParams.update({'xtick.minor.width' : 2})\n",
    "plt.rcParams.update({'xtick.direction' : 'in'})\n",
    "plt.rcParams.update({'ytick.direction' : 'in'})\n"
   ]
  },
  {
   "cell_type": "code",
   "execution_count": null,
   "id": "8f02d7f7-cc18-4191-beb4-ad890c13b967",
   "metadata": {
    "execution": {
     "iopub.execute_input": "2025-05-29T12:02:54.948137Z",
     "iopub.status.busy": "2025-05-29T12:02:54.947803Z",
     "iopub.status.idle": "2025-05-29T12:02:54.950921Z",
     "shell.execute_reply": "2025-05-29T12:02:54.950580Z",
     "shell.execute_reply.started": "2025-05-29T12:02:54.948123Z"
    }
   },
   "outputs": [],
   "source": [
    "def nJy_to_ab_mag(f_njy):\n",
    "    \"\"\"Convert scalar or array flux in nJy to AB magnitude.\"\"\"\n",
    "    f_njy = np.asarray(f_njy)\n",
    "    mag = np.full_like(f_njy, fill_value=np.nan, dtype=float)\n",
    "    mask = f_njy > 0\n",
    "    mag[mask] = -2.5 * np.log10(f_njy[mask]) + 31.4\n",
    "    return mag\n",
    "\n",
    "\n",
    "def nJy_err_to_ab_err(f_njy, f_err):\n",
    "    \"\"\"Propagate flux error to magnitude error.\"\"\"\n",
    "    f_njy = np.asarray(f_njy)\n",
    "    f_err = np.asarray(f_err)\n",
    "    mag_err = np.full_like(f_njy, fill_value=np.nan, dtype=float)\n",
    "    mask = (f_njy > 0) & (f_err > 0)\n",
    "    mag_err[mask] = (2.5 / np.log(10)) * (f_err[mask] / f_njy[mask])\n",
    "    return mag_err\n"
   ]
  },
  {
   "cell_type": "code",
   "execution_count": null,
   "id": "88da0b26-88ce-41f8-b5b6-caf1c2d7afe0",
   "metadata": {
    "execution": {
     "iopub.execute_input": "2025-05-29T12:02:54.951590Z",
     "iopub.status.busy": "2025-05-29T12:02:54.951349Z",
     "iopub.status.idle": "2025-05-29T12:02:54.957937Z",
     "shell.execute_reply": "2025-05-29T12:02:54.957601Z",
     "shell.execute_reply.started": "2025-05-29T12:02:54.951577Z"
    }
   },
   "outputs": [],
   "source": [
    "def ab_mag_to_nJy(mag_ab):\n",
    "    \"\"\"Convert AB magnitude to flux in nanojanskys.\"\"\"\n",
    "    return 10 ** ((31.4 - mag_ab) / 2.5)\n"
   ]
  },
  {
   "cell_type": "markdown",
   "id": "a3f04297-3975-4baa-9e7f-146cd717904c",
   "metadata": {},
   "source": [
    "## 1) Build the table of SL\n",
    "\n",
    "- article : https://arxiv.org/pdf/1104.0931"
   ]
  },
  {
   "cell_type": "code",
   "execution_count": null,
   "id": "305a2903-3efb-4f55-8559-fe399266e457",
   "metadata": {
    "execution": {
     "iopub.execute_input": "2025-05-29T12:02:54.958596Z",
     "iopub.status.busy": "2025-05-29T12:02:54.958357Z",
     "iopub.status.idle": "2025-05-29T12:02:54.966209Z",
     "shell.execute_reply": "2025-05-29T12:02:54.965855Z",
     "shell.execute_reply.started": "2025-05-29T12:02:54.958582Z"
    }
   },
   "outputs": [],
   "source": [
    "#15422 44 03:32:38.21 –27:56:53.2 \n",
    "ra1 = \"03:32:38.21 hours\"\n",
    "dec1 = \"-27:56:53.2 degrees\"\n",
    "tile1 = 44\n",
    "\n",
    "#34244 94 03:32:06.45 –27:47:28.6 \n",
    "ra2 = \"03:32:06.45 hours\"\n",
    "dec2 = \"-27:47:28.6 degrees\"\n",
    "tile2 = 94\n",
    "# Je ne trouve pas cette tile ==> FindTileForCutoutGEM\n",
    "tile2 = 32\n",
    "\n",
    "#40173 35 03:33:19.45 –27:44:50.0 \n",
    "ra3 = \"03:33:19.45 hours\"\n",
    "dec3 = \"-27:44:50.0 degrees\"\n",
    "tile3 = 35\n",
    "\n",
    "#43242 45 03:31:55.35 –27:43:23.5 \n",
    "ra4 = \"03:31:55.35 hours\"\n",
    "dec4 = \"-27:43:23.5 degrees\"\n",
    "tile4 = 45\n",
    "\n",
    "#46446 47 03:31:35.94 –27:41:48.2 \n",
    "ra5 = \"03:31:35.94 hours\"\n",
    "dec5 = \"-27:41:48.2 degrees\"\n",
    "tile5 = 47\n",
    "\n",
    "#12589 03:31:24.89 −27:58:07.0\n",
    "ra6 = \"03:31:24.89 hours\"\n",
    "dec6 = \"-27:58:07.0 degrees\"\n",
    "tile6 = 17\n",
    "\n",
    "#43797 03:31:31.74 −27:43:00.8 \n",
    "ra7 = \"03:31:31.74 hours\"\n",
    "dec7 = \"-27:43:00.8 degrees\"\n",
    "tile7 = 47\n",
    "\n",
    "#28294 03:31:50.54 −27:50:28.4 \n",
    "ra8 = \"03:31:50.54 hours\"\n",
    "dec8 = \"-27:50:28.4 degrees\"\n",
    "tile8 = 33\n",
    "\n",
    "#36857 03:31:53.24 −27:46:18.9\n",
    "ra9 = \"03:31:53.24 hours\"\n",
    "dec9 = \"-27:46:18.9 degrees\"\n",
    "tile9 = 38\n",
    "\n",
    "#36714 03:32:59.78 −27:46:26.4 \n",
    "ra10 = \"03:32:59.78 hours\"\n",
    "dec10 = \"-27:46:26.4 degrees\"\n",
    "tile10 = 37\n"
   ]
  },
  {
   "cell_type": "code",
   "execution_count": null,
   "id": "11d6340e-bd50-4321-b28c-ab0857c0b9fe",
   "metadata": {
    "execution": {
     "iopub.execute_input": "2025-05-29T12:02:54.966873Z",
     "iopub.status.busy": "2025-05-29T12:02:54.966636Z",
     "iopub.status.idle": "2025-05-29T12:02:54.974559Z",
     "shell.execute_reply": "2025-05-29T12:02:54.974205Z",
     "shell.execute_reply.started": "2025-05-29T12:02:54.966860Z"
    }
   },
   "outputs": [],
   "source": [
    "lsstcomcam_targets = {}\n",
    "# high rank\n",
    "lsstcomcam_targets[\"ECDFS_G15422\"] = {\"field_name\": \"GEMS-15422\", \"ra\": 53.159208333333325, \"dec\": -27.94811111111111,\"tile\":tile1}\n",
    "lsstcomcam_targets[\"ECDFS_G34244\"] = {\"field_name\": \"GEMS-34244\", \"ra\": 53.02687499999999 , \"dec\": -27.79127777777778,\"tile\":tile2}\n",
    "lsstcomcam_targets[\"ECDFS_G40173\"] = {\"field_name\": \"GEMS-40173\", \"ra\": 53.33104166666666 , \"dec\": -27.747222222222224,\"tile\":tile3}\n",
    "lsstcomcam_targets[\"ECDFS_G43242\"] = {\"field_name\": \"GEMS-43242\", \"ra\": 52.980624999999996 , \"dec\": -27.72319444444444,\"tile\":tile4}\n",
    "lsstcomcam_targets[\"ECDFS_G46446\"] = {\"field_name\": \"GEMS-46446\", \"ra\": 52.89975 , \"dec\": -27.696722222222224,\"tile\":tile5}\n",
    "\n",
    "# low rank\n",
    "lsstcomcam_targets[\"ECDFS_G12589\"] = {\"field_name\": \"GEMS-12589\", \"ra\": 52.85370833333333, \"dec\": -27.96861111111111,\"tile\":tile6}\n",
    "lsstcomcam_targets[\"ECDFS_G43797\"] = {\"field_name\": \"GEMS-43797\", \"ra\": 52.88224999999999, \"dec\": -27.71688888888889,\"tile\":tile7}\n",
    "\n",
    "lsstcomcam_targets[\"ECDFS_G28294\"] = {\"field_name\": \"GEMS-28294\", \"ra\": 52.960583333333325 , \"dec\": -27.84122222222222,\"tile\":tile8}\n",
    "lsstcomcam_targets[\"ECDFS_G6857\"] = {\"field_name\": \"GEMS-6857\", \"ra\": 52.97183333333333 , \"dec\": -27.771916666666666,\"tile\":tile9}\n",
    "lsstcomcam_targets[\"ECDFS_G36714\"] = {\"field_name\": \"GEMS-36714\", \"ra\": 53.249083333333324, \"dec\": -27.773999999999997,\"tile\":tile10}\n"
   ]
  },
  {
   "cell_type": "code",
   "execution_count": null,
   "id": "f87bbd5f-724f-4b64-9ae8-a4410cc89188",
   "metadata": {
    "execution": {
     "iopub.execute_input": "2025-05-29T12:02:54.975278Z",
     "iopub.status.busy": "2025-05-29T12:02:54.975002Z",
     "iopub.status.idle": "2025-05-29T12:02:54.982857Z",
     "shell.execute_reply": "2025-05-29T12:02:54.982504Z",
     "shell.execute_reply.started": "2025-05-29T12:02:54.975263Z"
    }
   },
   "outputs": [],
   "source": [
    "df = pd.DataFrame(lsstcomcam_targets).T"
   ]
  },
  {
   "cell_type": "code",
   "execution_count": null,
   "id": "d4ba67e1-c6c9-45d7-a467-3cab1ddb7e17",
   "metadata": {
    "execution": {
     "iopub.execute_input": "2025-05-29T12:02:54.983514Z",
     "iopub.status.busy": "2025-05-29T12:02:54.983282Z",
     "iopub.status.idle": "2025-05-29T12:02:54.994388Z",
     "shell.execute_reply": "2025-05-29T12:02:54.994031Z",
     "shell.execute_reply.started": "2025-05-29T12:02:54.983501Z"
    }
   },
   "outputs": [],
   "source": [
    "df"
   ]
  },
  {
   "cell_type": "code",
   "execution_count": null,
   "id": "82f4b7d2-fa97-4e39-8b63-1a4e8fc6bc9f",
   "metadata": {
    "execution": {
     "iopub.execute_input": "2025-05-29T12:02:54.994948Z",
     "iopub.status.busy": "2025-05-29T12:02:54.994820Z",
     "iopub.status.idle": "2025-05-29T12:02:54.998580Z",
     "shell.execute_reply": "2025-05-29T12:02:54.998234Z",
     "shell.execute_reply.started": "2025-05-29T12:02:54.994935Z"
    }
   },
   "outputs": [],
   "source": [
    "# candidates\n",
    "key = \"ECDFS_G15422\"\n",
    "#key = \"ECDFS_G34244\"\n",
    "#key = \"ECDFS_G40173\"\n",
    "#key= \"ECDFS_G43242\"\n",
    "#key= \"ECDFS_G46446\"\n",
    "\n",
    "# unknown\n",
    "#key = \"ECDFS_G12589\"\n",
    "#key = \"ECDFS_G43797\"\n",
    "#key = \"ECDFS_G28294\"\n",
    "#key = \"ECDFS_G6857\"\n",
    "#key = \"ECDFS_G36714\"\n",
    "\n",
    "the_target = lsstcomcam_targets[key]\n",
    "target_ra = the_target[\"ra\"]\n",
    "target_dec = the_target[\"dec\"]\n",
    "target_name = the_target[\"field_name\"]\n",
    "\n",
    "target_title = (\n",
    "    the_target[\"field_name\"] +  f\" (ra,dec) = ({target_ra:.2f},{target_dec:.2f}) \"\n",
    ")\n",
    "target_point = SpherePoint(target_ra, target_dec, degrees)\n",
    "target_coord = SkyCoord(ra=target_ra*u.deg, dec=target_dec*u.deg)\n",
    "#target_name = f\"SL :: {key}\""
   ]
  },
  {
   "cell_type": "markdown",
   "id": "3506978f-3a1e-47a9-90c1-b576f17d092f",
   "metadata": {},
   "source": [
    "## Initialisation of rubin science pipeline\n",
    "- Check here the collection available : https://rubinobs.atlassian.net/wiki/spaces/DM/pages/226656354/LSSTComCam+Intermittent+Cumulative+DRP+Runs"
   ]
  },
  {
   "cell_type": "markdown",
   "id": "032c0193-0ca9-487a-943f-957dcea64a53",
   "metadata": {},
   "source": [
    "### Configuration"
   ]
  },
  {
   "cell_type": "code",
   "execution_count": null,
   "id": "58131b3b-f3bf-461a-8c71-d236e7d5e7fa",
   "metadata": {
    "execution": {
     "iopub.execute_input": "2025-05-29T12:02:54.999261Z",
     "iopub.status.busy": "2025-05-29T12:02:54.999013Z",
     "iopub.status.idle": "2025-05-29T12:02:55.006296Z",
     "shell.execute_reply": "2025-05-29T12:02:55.005944Z",
     "shell.execute_reply.started": "2025-05-29T12:02:54.999247Z"
    }
   },
   "outputs": [],
   "source": [
    "# The output repo is tagged with the Jira ticket number \"DM-40356\":\n",
    "repo = '/repo/main'\n",
    "#collection = 'LSSTComCam/runs/DRP/DP1/w_2025_05/DM-48666' # work\n",
    "#collection = 'LSSTComCam/runs/DRP/DP1/w_2025_06/DM-48810' # work\n",
    "collection = 'LSSTComCam/runs/DRP/DP1/w_2025_10/DM-49359' # work\n",
    "\n",
    "# bad : crash collection = 'LSSTComCam/runs/DRP/DP1/w_2025_08/DM-49029'\n",
    "\n",
    "# bad : collection = \"LSSTComCam/runs/DRP/20241101_20241211/w_2024_51/DM-48233\"\n",
    "\n",
    "# not working perhaps because I am using w_2025_10 version\n",
    "# bad : no ccd visit collection = \"LSSTComCam/runs/DRP/DP1/w_2025_14/DM-49864\"\n",
    "# bad : no ccd visit collection = 'LSSTComCam/runs/DRP/DP1/w_2025_15/DM-50050'\n",
    "# bad : no cce visit collection = 'LSSTComCam/runs/DRP/DP1/w_2025_14/DM-49864'\n",
    "# bad : no cce visit collection collection = 'LSSTComCam/runs/DRP/DP1/w_2025_13/DM-49751'\n",
    "\n",
    "\n",
    "instrument = \"LSSTComCam\"\n",
    "skymapName = \"lsst_cells_v1\"\n",
    "where_clause = \"instrument = \\'\" + instrument+ \"\\'\"\n",
    "collectionStr = collection.replace(\"/\", \"_\")"
   ]
  },
  {
   "cell_type": "code",
   "execution_count": null,
   "id": "5aaaded0-f204-4b81-a359-6b9872f7c21d",
   "metadata": {
    "execution": {
     "iopub.execute_input": "2025-05-29T12:02:55.006941Z",
     "iopub.status.busy": "2025-05-29T12:02:55.006700Z",
     "iopub.status.idle": "2025-05-29T12:02:55.013523Z",
     "shell.execute_reply": "2025-05-29T12:02:55.013183Z",
     "shell.execute_reply.started": "2025-05-29T12:02:55.006928Z"
    }
   },
   "outputs": [],
   "source": [
    "FLAG_DUMP_COLLECTIONS = False\n",
    "FLAG_DUMP_DATASETS = False\n",
    "FLAG_DUMP_OBJECTSTABLECOLUMNS = False\n",
    "FLAG_CUT_OBJECTSMAG = True\n",
    "FLAG_CUT_OBJECTSSNR = True"
   ]
  },
  {
   "cell_type": "code",
   "execution_count": null,
   "id": "a66ee4ac-6255-4779-bdb3-088bee0f7058",
   "metadata": {
    "execution": {
     "iopub.execute_input": "2025-05-29T12:02:55.014174Z",
     "iopub.status.busy": "2025-05-29T12:02:55.013936Z",
     "iopub.status.idle": "2025-05-29T12:02:55.020967Z",
     "shell.execute_reply": "2025-05-29T12:02:55.020624Z",
     "shell.execute_reply.started": "2025-05-29T12:02:55.014161Z"
    }
   },
   "outputs": [],
   "source": [
    "MAGCUT = 24.0\n",
    "SNRCUT = 5.0"
   ]
  },
  {
   "cell_type": "code",
   "execution_count": null,
   "id": "d60358a6-62e7-4cc4-9440-3b178d76abe2",
   "metadata": {
    "execution": {
     "iopub.execute_input": "2025-05-29T12:02:55.021686Z",
     "iopub.status.busy": "2025-05-29T12:02:55.021384Z",
     "iopub.status.idle": "2025-05-29T12:02:55.028398Z",
     "shell.execute_reply": "2025-05-29T12:02:55.028058Z",
     "shell.execute_reply.started": "2025-05-29T12:02:55.021672Z"
    }
   },
   "outputs": [],
   "source": [
    "all_bands = [\"u\", \"g\", \"r\", \"i\", \"z\", \"y\"]\n",
    "all_bands_colors = [\"blue\", \"green\", \"red\", \"orange\", \"grey\", \"purple\"]"
   ]
  },
  {
   "cell_type": "markdown",
   "id": "e8f0113b-9e9a-46b8-9271-c4bde6d64679",
   "metadata": {},
   "source": [
    "### Initialisation of Butler"
   ]
  },
  {
   "cell_type": "code",
   "execution_count": null,
   "id": "804fcb8b-d567-4a27-b102-05ed002051c4",
   "metadata": {
    "execution": {
     "iopub.execute_input": "2025-05-29T12:02:55.029131Z",
     "iopub.status.busy": "2025-05-29T12:02:55.028820Z",
     "iopub.status.idle": "2025-05-29T12:02:55.591057Z",
     "shell.execute_reply": "2025-05-29T12:02:55.590535Z",
     "shell.execute_reply.started": "2025-05-29T12:02:55.029117Z"
    }
   },
   "outputs": [],
   "source": [
    "# Initialize the butler repo:\n",
    "butler = Butler(repo, collections=collection)\n",
    "registry = butler.registry"
   ]
  },
  {
   "cell_type": "code",
   "execution_count": null,
   "id": "03249edb-84b0-4f36-ae94-af25391b468e",
   "metadata": {
    "execution": {
     "iopub.execute_input": "2025-05-29T12:02:55.591947Z",
     "iopub.status.busy": "2025-05-29T12:02:55.591632Z",
     "iopub.status.idle": "2025-05-29T12:02:55.781840Z",
     "shell.execute_reply": "2025-05-29T12:02:55.781334Z",
     "shell.execute_reply.started": "2025-05-29T12:02:55.591923Z"
    }
   },
   "outputs": [],
   "source": [
    "skymap = butler.get('skyMap', skymap=skymapName, collections=collection)"
   ]
  },
  {
   "cell_type": "code",
   "execution_count": null,
   "id": "5b61a4a0-edcf-462f-be02-61502f79db0b",
   "metadata": {
    "execution": {
     "iopub.execute_input": "2025-05-29T12:02:55.782589Z",
     "iopub.status.busy": "2025-05-29T12:02:55.782403Z",
     "iopub.status.idle": "2025-05-29T12:02:56.555456Z",
     "shell.execute_reply": "2025-05-29T12:02:56.554953Z",
     "shell.execute_reply.started": "2025-05-29T12:02:55.782570Z"
    }
   },
   "outputs": [],
   "source": [
    "camera = butler.get(\"camera\", collections=collection, instrument=instrument)"
   ]
  },
  {
   "cell_type": "markdown",
   "id": "1c9ef688-a5d5-4494-9628-e2ccaa978909",
   "metadata": {},
   "source": [
    "## Find in which patch is the SL target"
   ]
  },
  {
   "cell_type": "code",
   "execution_count": null,
   "id": "ef1ab817-3225-4cc3-82b5-37f86d1f33cc",
   "metadata": {
    "execution": {
     "iopub.execute_input": "2025-05-29T12:02:56.556284Z",
     "iopub.status.busy": "2025-05-29T12:02:56.556135Z",
     "iopub.status.idle": "2025-05-29T12:02:56.561470Z",
     "shell.execute_reply": "2025-05-29T12:02:56.561059Z",
     "shell.execute_reply.started": "2025-05-29T12:02:56.556269Z"
    }
   },
   "outputs": [],
   "source": [
    "# 4. Trouver dans quel tract/patch se trouve la coordonnée\n",
    "tract_info = skymap.findTract(target_point)\n",
    "patch_info = tract_info.findPatch(target_point)\n",
    "tractNbSel = tract_info.getId()\n",
    "patchNbSel =  patch_info.getSequentialIndex()\n",
    "where_clause = f\"skymap = '{skymapName}' AND tract = {tractNbSel} AND patch = {patchNbSel}\"\n",
    "print(where_clause)"
   ]
  },
  {
   "cell_type": "code",
   "execution_count": null,
   "id": "d8becbb0-1595-447b-a2ea-fe81515fbd3a",
   "metadata": {
    "execution": {
     "iopub.execute_input": "2025-05-29T12:02:56.562094Z",
     "iopub.status.busy": "2025-05-29T12:02:56.561954Z",
     "iopub.status.idle": "2025-05-29T12:02:56.569395Z",
     "shell.execute_reply": "2025-05-29T12:02:56.569005Z",
     "shell.execute_reply.started": "2025-05-29T12:02:56.562081Z"
    }
   },
   "outputs": [],
   "source": [
    "print('Tract number for SL target in ECDFS ::',tract_info.getId())"
   ]
  },
  {
   "cell_type": "code",
   "execution_count": null,
   "id": "fa1992cb-691e-4408-a03b-2477c0bf052d",
   "metadata": {
    "execution": {
     "iopub.execute_input": "2025-05-29T12:02:56.570026Z",
     "iopub.status.busy": "2025-05-29T12:02:56.569822Z",
     "iopub.status.idle": "2025-05-29T12:02:56.576478Z",
     "shell.execute_reply": "2025-05-29T12:02:56.576094Z",
     "shell.execute_reply.started": "2025-05-29T12:02:56.570011Z"
    }
   },
   "outputs": [],
   "source": [
    "TRACTSEL = tract_info.getId()"
   ]
  },
  {
   "cell_type": "code",
   "execution_count": null,
   "id": "f9fa13a1-94b3-4fe1-9716-a05ec15f576c",
   "metadata": {
    "execution": {
     "iopub.execute_input": "2025-05-29T12:02:56.577162Z",
     "iopub.status.busy": "2025-05-29T12:02:56.576945Z",
     "iopub.status.idle": "2025-05-29T12:02:56.583930Z",
     "shell.execute_reply": "2025-05-29T12:02:56.583551Z",
     "shell.execute_reply.started": "2025-05-29T12:02:56.577148Z"
    }
   },
   "outputs": [],
   "source": [
    "print(f\"TRACT : {TRACTSEL}\")"
   ]
  },
  {
   "cell_type": "code",
   "execution_count": null,
   "id": "826aebd4-b08d-4259-a715-2274b75182c2",
   "metadata": {
    "execution": {
     "iopub.execute_input": "2025-05-29T12:02:56.584457Z",
     "iopub.status.busy": "2025-05-29T12:02:56.584329Z",
     "iopub.status.idle": "2025-05-29T12:02:56.594683Z",
     "shell.execute_reply": "2025-05-29T12:02:56.594312Z",
     "shell.execute_reply.started": "2025-05-29T12:02:56.584444Z"
    }
   },
   "outputs": [],
   "source": [
    "# Check here the collections available\n",
    "if FLAG_DUMP_COLLECTIONS:\n",
    "    for _ in sorted(registry.queryCollections(expression=instrument + \"/*\")):\n",
    "        if \"/calib/\" not in _ and \"u/\" not in _:\n",
    "            print(_)"
   ]
  },
  {
   "cell_type": "code",
   "execution_count": null,
   "id": "59563647-7ecd-4366-a7e8-eb2354393559",
   "metadata": {
    "execution": {
     "iopub.execute_input": "2025-05-29T12:02:56.595264Z",
     "iopub.status.busy": "2025-05-29T12:02:56.595130Z",
     "iopub.status.idle": "2025-05-29T12:02:56.601884Z",
     "shell.execute_reply": "2025-05-29T12:02:56.601505Z",
     "shell.execute_reply.started": "2025-05-29T12:02:56.595252Z"
    }
   },
   "outputs": [],
   "source": [
    "if FLAG_DUMP_DATASETS:\n",
    "    for datasetType in registry.queryDatasetTypes():\n",
    "        if registry.queryDatasets(datasetType, collections=collection_validation).any(\n",
    "            execute=False, exact=False\n",
    "        ):\n",
    "            # Limit search results to the data products\n",
    "            if (\n",
    "                (\"_config\" not in datasetType.name)\n",
    "                and (\"_log\" not in datasetType.name)\n",
    "                and (\"_metadata\" not in datasetType.name)\n",
    "                and (\"_resource_usage\" not in datasetType.name)\n",
    "                and (\"Plot\" not in datasetType.name)\n",
    "                and (\"Metric\" not in datasetType.name)\n",
    "                and (\"metric\" not in datasetType.name)\n",
    "                and ((\"Table\" in datasetType.name) or (\"Zeropointp\" in datasetType.name) or (\"fgcm\" in datasetType.name) or (\"transm\" in datasetType.name) or (\"Transm\" in datasetType.name)\n",
    "                or (\"source\" in datasetType.name) or (\"Source\" in datasetType.name) or (\"object\" in datasetType.name) or (\"Object\" in datasetType.name))\n",
    "            ):\n",
    "                \n",
    "                print(datasetType)"
   ]
  },
  {
   "cell_type": "markdown",
   "id": "57be8008-c849-440e-9bae-8649564d3373",
   "metadata": {},
   "source": [
    "### Get list of Tracts and Patches\n",
    "\n",
    "- Just to know which tracts are involved in the observations"
   ]
  },
  {
   "cell_type": "code",
   "execution_count": null,
   "id": "c0823ed5-9b23-4548-af23-12d707772667",
   "metadata": {
    "execution": {
     "iopub.execute_input": "2025-05-29T12:02:56.602541Z",
     "iopub.status.busy": "2025-05-29T12:02:56.602342Z",
     "iopub.status.idle": "2025-05-29T12:02:56.668927Z",
     "shell.execute_reply": "2025-05-29T12:02:56.668484Z",
     "shell.execute_reply.started": "2025-05-29T12:02:56.602528Z"
    }
   },
   "outputs": [],
   "source": [
    "datasettype = \"objectTable_tract\"\n",
    "therefs = butler.registry.queryDatasets(datasettype,  collections=collection)"
   ]
  },
  {
   "cell_type": "code",
   "execution_count": null,
   "id": "f810d737-c393-40bb-bc60-32e3706cf4a0",
   "metadata": {
    "execution": {
     "iopub.execute_input": "2025-05-29T12:02:56.669677Z",
     "iopub.status.busy": "2025-05-29T12:02:56.669426Z",
     "iopub.status.idle": "2025-05-29T12:02:56.688452Z",
     "shell.execute_reply": "2025-05-29T12:02:56.688055Z",
     "shell.execute_reply.started": "2025-05-29T12:02:56.669663Z"
    }
   },
   "outputs": [],
   "source": [
    "tractsId_list = np.unique([ref.dataId['tract'] for ref in therefs])\n",
    "tractsId_list = sorted(tractsId_list)\n",
    "print(tractsId_list)"
   ]
  },
  {
   "cell_type": "code",
   "execution_count": null,
   "id": "8635f396-48ec-4d82-8fc1-d4aa1396ffd3",
   "metadata": {
    "execution": {
     "iopub.execute_input": "2025-05-29T12:02:56.689020Z",
     "iopub.status.busy": "2025-05-29T12:02:56.688886Z",
     "iopub.status.idle": "2025-05-29T12:02:56.692749Z",
     "shell.execute_reply": "2025-05-29T12:02:56.692376Z",
     "shell.execute_reply.started": "2025-05-29T12:02:56.689006Z"
    }
   },
   "outputs": [],
   "source": [
    "target_coord"
   ]
  },
  {
   "cell_type": "markdown",
   "id": "5022ca8c-d08a-40f7-b8b1-9a9f56d394f2",
   "metadata": {},
   "source": [
    "## Define the Stack DM product used for the DIA analysis"
   ]
  },
  {
   "cell_type": "code",
   "execution_count": null,
   "id": "ae40f327-7e25-46aa-832f-7feaaf526420",
   "metadata": {
    "execution": {
     "iopub.execute_input": "2025-05-29T12:02:56.693322Z",
     "iopub.status.busy": "2025-05-29T12:02:56.693186Z",
     "iopub.status.idle": "2025-05-29T12:02:56.728525Z",
     "shell.execute_reply": "2025-05-29T12:02:56.728152Z",
     "shell.execute_reply.started": "2025-05-29T12:02:56.693309Z"
    }
   },
   "outputs": [],
   "source": [
    "datasettype = 'diaObjectTable_tract'\n",
    "#datasettype =  'forcedSourceOnDiaObjectTable'\n",
    "#datasettype =  'diaSourceTable_tract'\n",
    "#datasettype = 'goodSeeingDiff_assocSsSrcTable' # bad table\n",
    "subtitle = collectionStr + \"_\" + datasettype"
   ]
  },
  {
   "cell_type": "code",
   "execution_count": null,
   "id": "dc2e290d-3fef-4989-a4ca-6e57b502eaac",
   "metadata": {
    "execution": {
     "iopub.execute_input": "2025-05-29T12:02:56.729069Z",
     "iopub.status.busy": "2025-05-29T12:02:56.728939Z",
     "iopub.status.idle": "2025-05-29T12:02:57.444790Z",
     "shell.execute_reply": "2025-05-29T12:02:57.444266Z",
     "shell.execute_reply.started": "2025-05-29T12:02:56.729056Z"
    }
   },
   "outputs": [],
   "source": [
    "closest_obj, sepMin, nearby_obj = RetrieveDiaObject_forTarget(butler,target_coord,datasettype,where_clause)"
   ]
  },
  {
   "cell_type": "code",
   "execution_count": null,
   "id": "c5197ccf-1882-4ad0-925e-5f82f6cb2bf1",
   "metadata": {
    "execution": {
     "iopub.execute_input": "2025-05-29T12:02:57.445489Z",
     "iopub.status.busy": "2025-05-29T12:02:57.445336Z",
     "iopub.status.idle": "2025-05-29T12:02:57.457392Z",
     "shell.execute_reply": "2025-05-29T12:02:57.457002Z",
     "shell.execute_reply.started": "2025-05-29T12:02:57.445473Z"
    }
   },
   "outputs": [],
   "source": [
    "closest_obj"
   ]
  },
  {
   "cell_type": "code",
   "execution_count": null,
   "id": "23306ca1-a7e6-4280-b9d7-0b199c046db9",
   "metadata": {
    "execution": {
     "iopub.execute_input": "2025-05-29T12:02:57.458013Z",
     "iopub.status.busy": "2025-05-29T12:02:57.457867Z",
     "iopub.status.idle": "2025-05-29T12:02:58.088928Z",
     "shell.execute_reply": "2025-05-29T12:02:58.088452Z",
     "shell.execute_reply.started": "2025-05-29T12:02:57.457998Z"
    }
   },
   "outputs": [],
   "source": [
    "fig, (ax1,ax2) = plt.subplots(2,1,figsize=(10,8),layout=\"constrained\")\n",
    "nearby_obj[\"sep\"].hist(bins=50,ax=ax1,facecolor=\"b\")\n",
    "closest_obj[\"sep\"].hist(bins=50,range=(0,50),ax=ax1,facecolor=\"r\")\n",
    "ax1.set_yscale(\"log\")\n",
    "ax1.set_title(\"object separation angle\")\n",
    "ax1.set_xlabel(\"separation angle (arcsec)\")\n",
    "\n",
    "nearby_obj[\"nDiaSources\"].hist(bins=50,range=(0,50),ax=ax2,facecolor=\"b\")\n",
    "closest_obj[\"nDiaSources\"].hist(bins=50,range=(0,50),ax=ax2,facecolor=\"r\")\n",
    "ax2.set_yscale(\"log\")\n",
    "ax2.set_title(\"Number of dia sources\")\n",
    "ax2.set_xlabel(\"nDiaSources\")\n",
    "\n",
    "plt.show()"
   ]
  },
  {
   "cell_type": "code",
   "execution_count": null,
   "id": "4e9037f5-5384-4bbe-818c-e4de82c77f3c",
   "metadata": {
    "execution": {
     "iopub.execute_input": "2025-05-29T12:02:58.089642Z",
     "iopub.status.busy": "2025-05-29T12:02:58.089485Z",
     "iopub.status.idle": "2025-05-29T12:02:58.193901Z",
     "shell.execute_reply": "2025-05-29T12:02:58.193427Z",
     "shell.execute_reply.started": "2025-05-29T12:02:58.089626Z"
    }
   },
   "outputs": [],
   "source": [
    "fig, ax = plt.subplots(1,1,figsize=(10,8))\n",
    "nearby_obj.plot.scatter(x=\"sep\",y=\"nDiaSources\",ax=ax,marker=\"o\",color=\"red\")\n",
    "ax.set_ylim(0.,30.)\n",
    "plt.show()"
   ]
  },
  {
   "cell_type": "markdown",
   "id": "c48b6883-6b71-465b-9dcf-6ea6a31f0433",
   "metadata": {},
   "source": [
    "### Closest DIA object"
   ]
  },
  {
   "cell_type": "code",
   "execution_count": null,
   "id": "ff75b08d-f582-42a4-9f5d-b317c289b065",
   "metadata": {
    "execution": {
     "iopub.execute_input": "2025-05-29T12:02:58.194590Z",
     "iopub.status.busy": "2025-05-29T12:02:58.194449Z",
     "iopub.status.idle": "2025-05-29T12:02:58.198551Z",
     "shell.execute_reply": "2025-05-29T12:02:58.198186Z",
     "shell.execute_reply.started": "2025-05-29T12:02:58.194576Z"
    }
   },
   "outputs": [],
   "source": [
    "closed_obj_cleaned = closest_obj.dropna(axis=1,how='all')\n",
    "closed_obj_cleaned.reset_index(level=0, inplace=True)"
   ]
  },
  {
   "cell_type": "code",
   "execution_count": null,
   "id": "1030887f-fffc-4efe-8292-ae5658663e8b",
   "metadata": {
    "execution": {
     "iopub.execute_input": "2025-05-29T12:02:58.199209Z",
     "iopub.status.busy": "2025-05-29T12:02:58.198984Z",
     "iopub.status.idle": "2025-05-29T12:02:58.231160Z",
     "shell.execute_reply": "2025-05-29T12:02:58.230781Z",
     "shell.execute_reply.started": "2025-05-29T12:02:58.199194Z"
    }
   },
   "outputs": [],
   "source": [
    "closed_obj_cleaned"
   ]
  },
  {
   "cell_type": "code",
   "execution_count": null,
   "id": "35679eec-2ffa-43f4-af13-4203e2c5023e",
   "metadata": {
    "execution": {
     "iopub.execute_input": "2025-05-29T12:02:58.231712Z",
     "iopub.status.busy": "2025-05-29T12:02:58.231582Z",
     "iopub.status.idle": "2025-05-29T12:02:58.235027Z",
     "shell.execute_reply": "2025-05-29T12:02:58.234664Z",
     "shell.execute_reply.started": "2025-05-29T12:02:58.231699Z"
    }
   },
   "outputs": [],
   "source": [
    "closed_obj_cleaned.iloc[0][\"ra\"]"
   ]
  },
  {
   "cell_type": "markdown",
   "id": "2651f1e7-a6e8-4702-a5b3-5d85c6b7b9ca",
   "metadata": {},
   "source": [
    "## Plot the deepCoadds Cutsout"
   ]
  },
  {
   "cell_type": "code",
   "execution_count": null,
   "id": "18884813-0cc2-4493-a0b4-a46b96c31a92",
   "metadata": {
    "execution": {
     "iopub.execute_input": "2025-05-29T12:02:58.235671Z",
     "iopub.status.busy": "2025-05-29T12:02:58.235469Z",
     "iopub.status.idle": "2025-05-29T12:03:11.646407Z",
     "shell.execute_reply": "2025-05-29T12:03:11.645892Z",
     "shell.execute_reply.started": "2025-05-29T12:02:58.235658Z"
    }
   },
   "outputs": [],
   "source": [
    "for ib,band in enumerate(all_bands):\n",
    "    print(ib,band)\n",
    "    iframe = ib + 1\n",
    "\n",
    "    id_name = \"diaObjectId\" \n",
    "    ra_name = \"ra\"\n",
    "    dec_name = \"dec\"\n",
    "    ndia_name = \"nDiaSources\"\n",
    "   \n",
    "    # object\n",
    "    df_obj = closed_obj_cleaned.iloc[0]\n",
    "    #df_obj[id_name] = df_obj[id_name].astype(int)\n",
    "    name_obj = int(df_obj[id_name])\n",
    "    ra_obj = float(df_obj[ra_name])\n",
    "    dec_obj = float(df_obj[dec_name])\n",
    "    title_obj = f\"{target_name} {band} {ra_obj:.3f}, {dec_obj:.3f}\"\n",
    "    ndia_obj = int(df_obj[ndia_name])\n",
    "    \n",
    "    # Extract the cutout around the GEM catalog\n",
    "    cutout, wcs, metadata = extract_deepCoadd_cutout(\n",
    "        ra_deg=target_ra,\n",
    "        dec_deg=target_dec,\n",
    "        tractInfo=tract_info,\n",
    "        patchInfo=patch_info,\n",
    "        band=band,\n",
    "        butler=butler,\n",
    "        skymapName=skymapName,\n",
    "        cutout_size_pixels = 100,\n",
    "        collection = collection,\n",
    "    )\n",
    "\n",
    "    # Optionnel : nom unique si plusieurs affichages\n",
    "    display = afwDisplay.Display(frame=iframe)\n",
    "    display.scale(\"asinh\", \"zscale\")\n",
    "    # Affiche le cutout\n",
    "    display.mtv(cutout.image, title=title_obj)\n",
    "\n",
    "    # Show the DIA object as\n",
    "    wcs = cutout.getWcs()\n",
    "    coord_obj = SpherePoint(ra_obj, dec_obj, degrees)\n",
    "    pixel_obj = wcs.skyToPixel(coord_obj)  # donne un Point2D (x, y)\n",
    "    display.dot(\"o\", pixel_obj.getX(), pixel_obj.getY(), size=10, ctype=all_bands_colors[ib])\n",
    "\n",
    "    # Show the target as +\n",
    "    target_point = SpherePoint(target_ra, target_dec, degrees)\n",
    "    pixel_target = wcs.skyToPixel(target_point)  # donne un Point2D (x, y)\n",
    "    display.dot(\"+\", pixel_target.getX(), pixel_target.getY(), size=10, ctype=all_bands_colors[ib])\n",
    "\n",
    "   "
   ]
  },
  {
   "cell_type": "code",
   "execution_count": null,
   "id": "1bbeeb36-aee2-4165-a061-740e0f939451",
   "metadata": {
    "execution": {
     "iopub.execute_input": "2025-05-29T12:03:11.647444Z",
     "iopub.status.busy": "2025-05-29T12:03:11.646934Z",
     "iopub.status.idle": "2025-05-29T12:03:11.649975Z",
     "shell.execute_reply": "2025-05-29T12:03:11.649545Z",
     "shell.execute_reply.started": "2025-05-29T12:03:11.647429Z"
    }
   },
   "outputs": [],
   "source": [
    "#display.erase()"
   ]
  },
  {
   "cell_type": "markdown",
   "id": "b727d802-a564-45de-8c50-33e9a3f50d5f",
   "metadata": {},
   "source": [
    "## Search for DIA sources"
   ]
  },
  {
   "cell_type": "code",
   "execution_count": null,
   "id": "cd069653-a2b8-4e4c-b199-dbf621a85578",
   "metadata": {
    "execution": {
     "iopub.execute_input": "2025-05-29T12:03:11.650604Z",
     "iopub.status.busy": "2025-05-29T12:03:11.650472Z",
     "iopub.status.idle": "2025-05-29T12:03:11.660096Z",
     "shell.execute_reply": "2025-05-29T12:03:11.659700Z",
     "shell.execute_reply.started": "2025-05-29T12:03:11.650592Z"
    }
   },
   "outputs": [],
   "source": [
    "#datasettype =  'forcedSourceOnDiaObjectTable'\n",
    "datasettype =  'diaSourceTable_tract'\n",
    "#datasettype = 'goodSeeingDiff_assocSsSrcTable' # bad table\n",
    "subtitle = collectionStr + \"_\" + datasettype"
   ]
  },
  {
   "cell_type": "code",
   "execution_count": null,
   "id": "ecdd7f95-45fc-48a2-b711-9dc86d4a9252",
   "metadata": {
    "execution": {
     "iopub.execute_input": "2025-05-29T12:03:11.660681Z",
     "iopub.status.busy": "2025-05-29T12:03:11.660550Z",
     "iopub.status.idle": "2025-05-29T12:03:11.666689Z",
     "shell.execute_reply": "2025-05-29T12:03:11.666283Z",
     "shell.execute_reply.started": "2025-05-29T12:03:11.660669Z"
    }
   },
   "outputs": [],
   "source": [
    "figname1 = f\"sl_{target_name}_{datasettype}_v1.png\"\n",
    "figname2 = f\"sl_{target_name}_{datasettype}_v2.png\""
   ]
  },
  {
   "cell_type": "code",
   "execution_count": null,
   "id": "1a2d373f-987d-4784-bc02-4bb4ea68d3ec",
   "metadata": {
    "execution": {
     "iopub.execute_input": "2025-05-29T12:03:11.667247Z",
     "iopub.status.busy": "2025-05-29T12:03:11.667121Z",
     "iopub.status.idle": "2025-05-29T12:03:12.338327Z",
     "shell.execute_reply": "2025-05-29T12:03:12.337770Z",
     "shell.execute_reply.started": "2025-05-29T12:03:11.667234Z"
    }
   },
   "outputs": [],
   "source": [
    "closest_src, sepMin, nearby_src = RetrieveDiaSources_forTarget(butler,target_coord,datasettype,where_clause)"
   ]
  },
  {
   "cell_type": "code",
   "execution_count": null,
   "id": "c8ff2d8f-9f54-41d7-800f-456e98c9a16d",
   "metadata": {
    "execution": {
     "iopub.execute_input": "2025-05-29T12:03:12.339003Z",
     "iopub.status.busy": "2025-05-29T12:03:12.338859Z",
     "iopub.status.idle": "2025-05-29T12:03:12.588589Z",
     "shell.execute_reply": "2025-05-29T12:03:12.588151Z",
     "shell.execute_reply.started": "2025-05-29T12:03:12.338989Z"
    }
   },
   "outputs": [],
   "source": [
    "fig, ax = plt.subplots(1,1,figsize=(6,4))\n",
    "nearby_src[\"sep\"].hist(bins=50,ax=ax,facecolor=\"b\")\n",
    "closest_src[\"sep\"].hist(bins=50,range=(0,100),ax=ax,facecolor=\"r\")\n",
    "ax.set_yscale(\"log\")\n",
    "ax.set_title(\"separation angle\")\n",
    "ax.set_xlabel(\"separation angle (arcsec)\")\n",
    "plt.show()"
   ]
  },
  {
   "cell_type": "markdown",
   "id": "b9a1767f-df1a-499d-b4e0-42f6ba628bfb",
   "metadata": {},
   "source": [
    "### Add a few columns : Split visit into dayobs and seq"
   ]
  },
  {
   "cell_type": "code",
   "execution_count": null,
   "id": "777db096-c726-4318-8953-9dc450f217f6",
   "metadata": {
    "execution": {
     "iopub.execute_input": "2025-05-29T12:03:12.589224Z",
     "iopub.status.busy": "2025-05-29T12:03:12.589079Z",
     "iopub.status.idle": "2025-05-29T12:03:12.591588Z",
     "shell.execute_reply": "2025-05-29T12:03:12.591178Z",
     "shell.execute_reply.started": "2025-05-29T12:03:12.589209Z"
    }
   },
   "outputs": [],
   "source": [
    "t = closest_src"
   ]
  },
  {
   "cell_type": "code",
   "execution_count": null,
   "id": "c206e302-6481-4bcd-9f9a-a799d87fe772",
   "metadata": {
    "execution": {
     "iopub.execute_input": "2025-05-29T12:03:12.596337Z",
     "iopub.status.busy": "2025-05-29T12:03:12.596198Z",
     "iopub.status.idle": "2025-05-29T12:03:12.610617Z",
     "shell.execute_reply": "2025-05-29T12:03:12.610182Z",
     "shell.execute_reply.started": "2025-05-29T12:03:12.596323Z"
    }
   },
   "outputs": [],
   "source": [
    "t"
   ]
  },
  {
   "cell_type": "markdown",
   "id": "2c24a09f-7395-4679-a103-d742bac033fd",
   "metadata": {},
   "source": [
    "### Add Magnitudes and Magnitudes errors"
   ]
  },
  {
   "cell_type": "code",
   "execution_count": null,
   "id": "0d7732b5-d537-4481-a473-6f424db24704",
   "metadata": {
    "execution": {
     "iopub.execute_input": "2025-05-29T12:03:12.611231Z",
     "iopub.status.busy": "2025-05-29T12:03:12.611093Z",
     "iopub.status.idle": "2025-05-29T12:03:12.618051Z",
     "shell.execute_reply": "2025-05-29T12:03:12.617648Z",
     "shell.execute_reply.started": "2025-05-29T12:03:12.611217Z"
    }
   },
   "outputs": [],
   "source": [
    "t[\"dateobs\"] = t.apply(lambda x: x['visit']//100_000, axis=1)\n",
    "t[\"seq\"] = t[\"visit\"] - t[\"dateobs\"]*100_000"
   ]
  },
  {
   "cell_type": "code",
   "execution_count": null,
   "id": "0ce50da4-5813-4622-b582-2f2e735da2b0",
   "metadata": {
    "execution": {
     "iopub.execute_input": "2025-05-29T12:03:12.618574Z",
     "iopub.status.busy": "2025-05-29T12:03:12.618446Z",
     "iopub.status.idle": "2025-05-29T12:03:12.626515Z",
     "shell.execute_reply": "2025-05-29T12:03:12.626090Z",
     "shell.execute_reply.started": "2025-05-29T12:03:12.618561Z"
    }
   },
   "outputs": [],
   "source": [
    "#t[\"mags\"] = t[\"psfFlux\"].apply(lambda flux : -2.5 * np.log10(flux) + 31.4)\n",
    "t[\"mags\"] = t[\"psfFlux\"].apply(nJy_to_ab_mag)\n",
    "t[\"magerr\"] = nJy_err_to_ab_err(t[\"psfFlux\"], t[\"psfFluxErr\"])                               \n",
    "t[\"valid\"] = (t[\"psfFlux\"] >0) & (~t[\"psfFlux_flag\"])\n",
    "visit_list = t[\"visit\"].astype(int)\n",
    "Nvisit = len(visit_list)"
   ]
  },
  {
   "cell_type": "markdown",
   "id": "4efcc129-8e59-413d-9363-fbcaebc22b59",
   "metadata": {},
   "source": [
    "### Find the time associated to each visit"
   ]
  },
  {
   "cell_type": "code",
   "execution_count": null,
   "id": "d74b49f5-57d6-4a19-9b81-0b605c62efc0",
   "metadata": {
    "execution": {
     "iopub.execute_input": "2025-05-29T12:03:12.627259Z",
     "iopub.status.busy": "2025-05-29T12:03:12.627007Z",
     "iopub.status.idle": "2025-05-29T12:03:12.651053Z",
     "shell.execute_reply": "2025-05-29T12:03:12.650600Z",
     "shell.execute_reply.started": "2025-05-29T12:03:12.627245Z"
    }
   },
   "outputs": [],
   "source": [
    "# On interroge la table visitDefinition\n",
    "\n",
    "if Nvisit == 1:\n",
    "    thevisit = visit_list.values[0]\n",
    "    rows = registry.queryDimensionRecords(\"visit\", where=f\"visit={thevisit}\")\n",
    "else:\n",
    "    rows = registry.queryDimensionRecords(\"visit\", where=f\"visit in {tuple(visit_list)}\")\n",
    "\n",
    "# 4. Construire un tableau des résultats\n",
    "results = []\n",
    "for row in rows:\n",
    "    visit_id = row.id\n",
    "    visit_airmass = 1./np.cos(Angle(row.zenith_angle,u.degree).rad)\n",
    "    visit_azimuth = row.azimuth\n",
    "\n",
    "    # Extraire l'instant de début de l'observation (Time astropy)\n",
    "    start_time = row.timespan.begin\n",
    "\n",
    "    # Convertir en MJD et ISO\n",
    "    mjd = start_time.to_value(\"mjd\")  # Ex: 60384.28718\n",
    "    isot = start_time.to_value(\"isot\")  # Ex: '2024-04-19 06:53:32.000'\n",
    "    \n",
    "    #mjd = row.startDate.toMjd()\n",
    "    #utc = Time(mjd, format='mjd', scale='utc').to_value('iso')\n",
    "    #results.append({\"visit\": visit_id, \"mjd\": mjd, \"isot\": isot})\n",
    "    results.append({\"visit\": visit_id, \"mjd\": mjd, \"isot\": isot,\"airmass\":visit_airmass,\"azimuth\":visit_azimuth})\n",
    "\n",
    "df_times = pd.DataFrame(results).sort_values(\"visit\")\n",
    "df_times.set_index(\"visit\",inplace=True)"
   ]
  },
  {
   "cell_type": "code",
   "execution_count": null,
   "id": "a0898852-d8c4-484a-ac79-994f1a2361b1",
   "metadata": {
    "execution": {
     "iopub.execute_input": "2025-05-29T12:03:12.651700Z",
     "iopub.status.busy": "2025-05-29T12:03:12.651562Z",
     "iopub.status.idle": "2025-05-29T12:03:12.654658Z",
     "shell.execute_reply": "2025-05-29T12:03:12.654312Z",
     "shell.execute_reply.started": "2025-05-29T12:03:12.651686Z"
    }
   },
   "outputs": [],
   "source": [
    "results"
   ]
  },
  {
   "cell_type": "code",
   "execution_count": null,
   "id": "ed7ac948-6310-459e-b0e9-c178adb77bdd",
   "metadata": {
    "execution": {
     "iopub.execute_input": "2025-05-29T12:03:12.655185Z",
     "iopub.status.busy": "2025-05-29T12:03:12.655049Z",
     "iopub.status.idle": "2025-05-29T12:03:12.662571Z",
     "shell.execute_reply": "2025-05-29T12:03:12.662187Z",
     "shell.execute_reply.started": "2025-05-29T12:03:12.655172Z"
    }
   },
   "outputs": [],
   "source": [
    "t[\"mjd\"] = t[\"visit\"].apply(lambda x: df_times.loc[x][\"mjd\"])\n",
    "t[\"isot\"] = t[\"visit\"].apply(lambda x: df_times.loc[x][\"isot\"])\n",
    "t[\"airmass\"] = t[\"visit\"].apply(lambda x: df_times.loc[x][\"airmass\"])\n",
    "t[\"azimuth\"] = t[\"visit\"].apply(lambda x: df_times.loc[x][\"azimuth\"])"
   ]
  },
  {
   "cell_type": "markdown",
   "id": "a868b53e-f3a7-4af5-b494-d95c8733790c",
   "metadata": {},
   "source": [
    "## Split the sources in different bands"
   ]
  },
  {
   "cell_type": "code",
   "execution_count": null,
   "id": "0fd6fe35-901d-4f80-b181-1f5b6767dbde",
   "metadata": {
    "execution": {
     "iopub.execute_input": "2025-05-29T12:03:12.663218Z",
     "iopub.status.busy": "2025-05-29T12:03:12.663065Z",
     "iopub.status.idle": "2025-05-29T12:03:12.671821Z",
     "shell.execute_reply": "2025-05-29T12:03:12.671345Z",
     "shell.execute_reply.started": "2025-05-29T12:03:12.663204Z"
    }
   },
   "outputs": [],
   "source": [
    "tb = {}\n",
    "for band in all_bands:\n",
    "    tb[band] = t[t[\"band\"] == band]"
   ]
  },
  {
   "cell_type": "markdown",
   "id": "cdbb432f-01d0-4dae-aaa0-a79d6131c6f5",
   "metadata": {},
   "source": [
    "## Plot light curves"
   ]
  },
  {
   "cell_type": "code",
   "execution_count": null,
   "id": "08022c24-e001-4ad4-8744-d6d91eafb689",
   "metadata": {
    "execution": {
     "iopub.execute_input": "2025-05-29T12:03:12.672263Z",
     "iopub.status.busy": "2025-05-29T12:03:12.672136Z",
     "iopub.status.idle": "2025-05-29T12:03:13.993132Z",
     "shell.execute_reply": "2025-05-29T12:03:13.992638Z",
     "shell.execute_reply.started": "2025-05-29T12:03:12.672250Z"
    }
   },
   "outputs": [],
   "source": [
    "plotLightCurvesSeparatedBands(tb,target_title,subtitle,figname1)"
   ]
  },
  {
   "cell_type": "code",
   "execution_count": null,
   "id": "fc4b00b2-b2cb-46c8-854c-d5d4bf61f6e0",
   "metadata": {
    "execution": {
     "iopub.execute_input": "2025-05-29T12:03:13.993815Z",
     "iopub.status.busy": "2025-05-29T12:03:13.993674Z",
     "iopub.status.idle": "2025-05-29T12:03:14.598608Z",
     "shell.execute_reply": "2025-05-29T12:03:14.598171Z",
     "shell.execute_reply.started": "2025-05-29T12:03:13.993801Z"
    }
   },
   "outputs": [],
   "source": [
    "plotLightCurvesAllTogetherBands(tb,target_title,subtitle,figname2)"
   ]
  },
  {
   "cell_type": "markdown",
   "id": "14d9be01-6dc1-4413-ab2e-2bfecc394b27",
   "metadata": {},
   "source": [
    "## Search for LightCurves with many ndiasources"
   ]
  },
  {
   "cell_type": "code",
   "execution_count": null,
   "id": "526b3083-de69-485a-a25e-1a1d65194388",
   "metadata": {
    "execution": {
     "iopub.execute_input": "2025-05-29T12:03:14.599219Z",
     "iopub.status.busy": "2025-05-29T12:03:14.599070Z",
     "iopub.status.idle": "2025-05-29T12:03:14.601599Z",
     "shell.execute_reply": "2025-05-29T12:03:14.601228Z",
     "shell.execute_reply.started": "2025-05-29T12:03:14.599204Z"
    }
   },
   "outputs": [],
   "source": [
    "datasettype = 'diaObjectTable_tract'\n",
    "nsel=20"
   ]
  },
  {
   "cell_type": "code",
   "execution_count": null,
   "id": "827f71ec-8922-4825-b2d4-f5c3d29b2540",
   "metadata": {
    "execution": {
     "iopub.execute_input": "2025-05-29T12:03:14.602118Z",
     "iopub.status.busy": "2025-05-29T12:03:14.601982Z",
     "iopub.status.idle": "2025-05-29T12:03:15.193654Z",
     "shell.execute_reply": "2025-05-29T12:03:15.193108Z",
     "shell.execute_reply.started": "2025-05-29T12:03:14.602104Z"
    }
   },
   "outputs": [],
   "source": [
    "manydiasrcobjs = RetrieveDiaObjectManySources_forTarget(butler,target_coord,datasettype,where_clause,nsel) "
   ]
  },
  {
   "cell_type": "code",
   "execution_count": null,
   "id": "b7379f8b-f6f4-401e-ade9-6b623f3e2e0f",
   "metadata": {
    "execution": {
     "iopub.execute_input": "2025-05-29T12:03:15.194405Z",
     "iopub.status.busy": "2025-05-29T12:03:15.194216Z",
     "iopub.status.idle": "2025-05-29T12:03:15.197150Z",
     "shell.execute_reply": "2025-05-29T12:03:15.196718Z",
     "shell.execute_reply.started": "2025-05-29T12:03:15.194389Z"
    }
   },
   "outputs": [],
   "source": [
    "print(list(manydiasrcobjs.columns))"
   ]
  },
  {
   "cell_type": "code",
   "execution_count": null,
   "id": "dc190f31-ca2f-48ed-b25e-ce15d008b7ab",
   "metadata": {
    "execution": {
     "iopub.execute_input": "2025-05-29T12:03:15.197800Z",
     "iopub.status.busy": "2025-05-29T12:03:15.197575Z",
     "iopub.status.idle": "2025-05-29T12:03:15.220708Z",
     "shell.execute_reply": "2025-05-29T12:03:15.220270Z",
     "shell.execute_reply.started": "2025-05-29T12:03:15.197787Z"
    }
   },
   "outputs": [],
   "source": [
    "manydiasrcobjs"
   ]
  },
  {
   "cell_type": "code",
   "execution_count": null,
   "id": "b3c93d99-c7d8-4096-b2be-a53919d57385",
   "metadata": {
    "execution": {
     "iopub.execute_input": "2025-05-29T12:03:15.221244Z",
     "iopub.status.busy": "2025-05-29T12:03:15.221115Z",
     "iopub.status.idle": "2025-05-29T12:03:15.229008Z",
     "shell.execute_reply": "2025-05-29T12:03:15.228598Z",
     "shell.execute_reply.started": "2025-05-29T12:03:15.221231Z"
    }
   },
   "outputs": [],
   "source": [
    "all_object_ids = list(manydiasrcobjs.index)\n",
    "all_object_ids"
   ]
  },
  {
   "cell_type": "code",
   "execution_count": null,
   "id": "56e5c583-d9d3-4d70-9ae2-a729ad860e3f",
   "metadata": {
    "execution": {
     "iopub.execute_input": "2025-05-29T12:03:15.229726Z",
     "iopub.status.busy": "2025-05-29T12:03:15.229477Z",
     "iopub.status.idle": "2025-05-29T12:03:15.235640Z",
     "shell.execute_reply": "2025-05-29T12:03:15.235263Z",
     "shell.execute_reply.started": "2025-05-29T12:03:15.229711Z"
    }
   },
   "outputs": [],
   "source": [
    "print(list(manydiasrcobjs.columns))"
   ]
  },
  {
   "cell_type": "code",
   "execution_count": null,
   "id": "17fd8316-d504-49bd-b46f-230acedd8078",
   "metadata": {
    "execution": {
     "iopub.execute_input": "2025-05-29T12:03:15.236311Z",
     "iopub.status.busy": "2025-05-29T12:03:15.236058Z",
     "iopub.status.idle": "2025-05-29T12:03:15.242872Z",
     "shell.execute_reply": "2025-05-29T12:03:15.242504Z",
     "shell.execute_reply.started": "2025-05-29T12:03:15.236297Z"
    }
   },
   "outputs": [],
   "source": [
    "datasettype =  'diaSourceTable_tract'"
   ]
  },
  {
   "cell_type": "code",
   "execution_count": null,
   "id": "8f21c416-2bd0-4fbc-8027-7fa9ce7d1112",
   "metadata": {
    "execution": {
     "iopub.execute_input": "2025-05-29T12:03:15.243561Z",
     "iopub.status.busy": "2025-05-29T12:03:15.243320Z",
     "iopub.status.idle": "2025-05-29T12:03:48.206816Z",
     "shell.execute_reply": "2025-05-29T12:03:48.206329Z",
     "shell.execute_reply.started": "2025-05-29T12:03:15.243548Z"
    }
   },
   "outputs": [],
   "source": [
    "for count, object_ids in enumerate(all_object_ids):\n",
    "    t = RetrieveDiaManySources_forTarget(butler,target_coord,datasettype,where_clause,object_ids)\n",
    "\n",
    "    t[\"dateobs\"] = t.apply(lambda x: x['visit']//100_000, axis=1)\n",
    "    t[\"seq\"] = t[\"visit\"] - t[\"dateobs\"]*100_000\n",
    "\n",
    "    #t[\"mags\"] = t[\"psfFlux\"].apply(lambda flux : -2.5 * np.log10(flux) + 31.4)\n",
    "    t[\"mags\"] = t[\"psfFlux\"].apply(nJy_to_ab_mag)\n",
    "    t[\"magerr\"] = nJy_err_to_ab_err(t[\"psfFlux\"], t[\"psfFluxErr\"])                               \n",
    "    t[\"valid\"] = (t[\"psfFlux\"] >0) & (~t[\"psfFlux_flag\"])\n",
    "    visit_list = t[\"visit\"].astype(int)\n",
    "    Nvisit = len(visit_list)\n",
    "\n",
    "    df_times = FetchTimesForVisits(visit_list)\n",
    "\n",
    "    t[\"mjd\"] = t[\"visit\"].apply(lambda x: df_times.loc[x][\"mjd\"])\n",
    "    t[\"isot\"] = t[\"visit\"].apply(lambda x: df_times.loc[x][\"isot\"])\n",
    "    t[\"airmass\"] = t[\"visit\"].apply(lambda x: df_times.loc[x][\"airmass\"])\n",
    "    t[\"azimuth\"] = t[\"visit\"].apply(lambda x: df_times.loc[x][\"azimuth\"])\n",
    "\n",
    "\n",
    "    tb = {}\n",
    "    for band in all_bands:\n",
    "        tb[band] = t[t[\"band\"] == band]\n",
    "        nb = len(tb[band])\n",
    "        print(count,\" :: \", object_ids, f\"{band} : nb={nb}\")\n",
    "\n",
    "    target_title = f\"{count}) {key} <=> objid = {object_ids}\"\n",
    "    plotLightCurvesSeparatedBands(tb,target_title,subtitle)\n",
    "\n",
    "   "
   ]
  },
  {
   "cell_type": "code",
   "execution_count": null,
   "id": "18ab8069-5f44-42e4-9cb8-4eb834573a9d",
   "metadata": {
    "execution": {
     "iopub.execute_input": "2025-05-29T12:03:48.207502Z",
     "iopub.status.busy": "2025-05-29T12:03:48.207357Z",
     "iopub.status.idle": "2025-05-29T12:03:48.222128Z",
     "shell.execute_reply": "2025-05-29T12:03:48.221749Z",
     "shell.execute_reply.started": "2025-05-29T12:03:48.207487Z"
    }
   },
   "outputs": [],
   "source": [
    "t"
   ]
  },
  {
   "cell_type": "code",
   "execution_count": null,
   "id": "9e349bfc-de0c-4e2e-9720-6106c16e8056",
   "metadata": {
    "execution": {
     "iopub.execute_input": "2025-05-29T12:03:48.222703Z",
     "iopub.status.busy": "2025-05-29T12:03:48.222570Z",
     "iopub.status.idle": "2025-05-29T12:03:48.228142Z",
     "shell.execute_reply": "2025-05-29T12:03:48.227774Z",
     "shell.execute_reply.started": "2025-05-29T12:03:48.222690Z"
    }
   },
   "outputs": [],
   "source": [
    "tb = {}\n",
    "for band in all_bands:\n",
    "    tb[band] = t[t[\"band\"] == band]"
   ]
  },
  {
   "cell_type": "code",
   "execution_count": null,
   "id": "9ab25155-e3ad-4996-9e14-298a5117c972",
   "metadata": {
    "execution": {
     "iopub.execute_input": "2025-05-29T12:03:48.228791Z",
     "iopub.status.busy": "2025-05-29T12:03:48.228655Z",
     "iopub.status.idle": "2025-05-29T12:03:48.837118Z",
     "shell.execute_reply": "2025-05-29T12:03:48.836626Z",
     "shell.execute_reply.started": "2025-05-29T12:03:48.228779Z"
    }
   },
   "outputs": [],
   "source": [
    "plotLightCurvesSeparatedBands(tb,target_title,subtitle)"
   ]
  },
  {
   "cell_type": "code",
   "execution_count": null,
   "id": "91f89972-31de-401d-80a6-89f5221a4919",
   "metadata": {
    "execution": {
     "iopub.execute_input": "2025-05-29T12:03:48.837824Z",
     "iopub.status.busy": "2025-05-29T12:03:48.837675Z",
     "iopub.status.idle": "2025-05-29T12:03:49.170604Z",
     "shell.execute_reply": "2025-05-29T12:03:49.170002Z",
     "shell.execute_reply.started": "2025-05-29T12:03:48.837808Z"
    }
   },
   "outputs": [],
   "source": [
    "p"
   ]
  },
  {
   "cell_type": "code",
   "execution_count": null,
   "id": "5117cb29-ac06-4832-b8c6-01b56d9d0ed5",
   "metadata": {
    "execution": {
     "iopub.status.busy": "2025-05-29T12:03:49.170985Z",
     "iopub.status.idle": "2025-05-29T12:03:49.171170Z",
     "shell.execute_reply": "2025-05-29T12:03:49.171083Z",
     "shell.execute_reply.started": "2025-05-29T12:03:49.171069Z"
    }
   },
   "outputs": [],
   "source": [
    "for count, object_ids in enumerate(all_object_ids):\n",
    "    t = RetrieveDiaManySources_forTarget(butler,target_coord,datasettype,where_clause,object_ids)\n",
    "\n",
    "    t[\"dateobs\"] = t.apply(lambda x: x['visit']//100_000, axis=1)\n",
    "    t[\"seq\"] = t[\"visit\"] - t[\"dateobs\"]*100_000\n",
    "\n",
    "    #t[\"mags\"] = t[\"psfFlux\"].apply(lambda flux : -2.5 * np.log10(flux) + 31.4)\n",
    "    t[\"mags\"] = t[\"psfFlux\"].apply(nJy_to_ab_mag)\n",
    "    t[\"magerr\"] = nJy_err_to_ab_err(t[\"psfFlux\"], t[\"psfFluxErr\"])                               \n",
    "    t[\"valid\"] = (t[\"psfFlux\"] >0) & (~t[\"psfFlux_flag\"])\n",
    "    visit_list = t[\"visit\"].astype(int)\n",
    "    Nvisit = len(visit_list)\n",
    "\n",
    "    df_times = FetchTimesForVisits(visit_list)\n",
    "\n",
    "    t[\"mjd\"] = t[\"visit\"].apply(lambda x: df_times.loc[x][\"mjd\"])\n",
    "    t[\"isot\"] = t[\"visit\"].apply(lambda x: df_times.loc[x][\"isot\"])\n",
    "    t[\"airmass\"] = t[\"visit\"].apply(lambda x: df_times.loc[x][\"airmass\"])\n",
    "    t[\"azimuth\"] = t[\"visit\"].apply(lambda x: df_times.loc[x][\"azimuth\"])\n",
    "\n",
    "\n",
    "    tb = {}\n",
    "    for band in all_bands:\n",
    "        tb[band] = t[t[\"band\"] == band]\n",
    "        nb = len(tb[band])\n",
    "        print(count,\" :: \", object_ids, f\"{band} : nb={nb}\")\n",
    "\n",
    "    target_title = f\"{count}) {key} <=> objid = {object_ids}\"\n",
    "    plotLightCurvesAllTogetherBands(tb,target_title,subtitle)"
   ]
  },
  {
   "cell_type": "code",
   "execution_count": null,
   "id": "a5beee71-20a0-413d-af30-a1d7870c8e14",
   "metadata": {},
   "outputs": [],
   "source": []
  }
 ],
 "metadata": {
  "kernelspec": {
   "display_name": "LSST",
   "language": "python",
   "name": "lsst"
  },
  "language_info": {
   "codemirror_mode": {
    "name": "ipython",
    "version": 3
   },
   "file_extension": ".py",
   "mimetype": "text/x-python",
   "name": "python",
   "nbconvert_exporter": "python",
   "pygments_lexer": "ipython3",
   "version": "3.12.10"
  }
 },
 "nbformat": 4,
 "nbformat_minor": 5
}
