{
 "cells": [
  {
   "cell_type": "markdown",
   "id": "e5f85ebc-4388-4654-9bed-2c435ce91959",
   "metadata": {},
   "source": [
    "# View LSSTComCam DeepCoadd On selected Strong Lens in ECDFS\n",
    "\n",
    "- author Sylvie Dagoret-Campagne\n",
    "- creation date 2025-05-10\n",
    "- last update 2025-05-10\n",
    "- last update 2025-05-10\n",
    "- last verification: 2025-05-27\n",
    "- LSST pipelines : w_2025_17"
   ]
  },
  {
   "cell_type": "markdown",
   "id": "34a502d3-af58-4cf2-92b1-f81236dc7653",
   "metadata": {},
   "source": [
    "## Import"
   ]
  },
  {
   "cell_type": "code",
   "execution_count": null,
   "id": "01f4a7f9-d12d-4bf3-85d6-fe8c6bb30ca9",
   "metadata": {
    "execution": {
     "iopub.execute_input": "2025-05-27T08:21:19.460838Z",
     "iopub.status.busy": "2025-05-27T08:21:19.460706Z",
     "iopub.status.idle": "2025-05-27T08:21:21.426944Z",
     "shell.execute_reply": "2025-05-27T08:21:21.426400Z",
     "shell.execute_reply.started": "2025-05-27T08:21:19.460824Z"
    },
    "tags": []
   },
   "outputs": [],
   "source": [
    "import numpy as np\n",
    "import pandas as pd\n",
    "import matplotlib\n",
    "import matplotlib.pyplot as plt\n",
    "from matplotlib import cm\n",
    "from mpl_toolkits.axes_grid1 import make_axes_locatable\n",
    "\n",
    "# import lsst.daf.butler as dafButler\n",
    "from lsst.daf.butler import Butler\n",
    "\n",
    "import lsst.geom as geom\n",
    "from lsst.geom import SpherePoint, degrees\n",
    "import lsst.afw.display as afwDisplay\n",
    "\n",
    "from lsst.skymap import PatchInfo, Index2D"
   ]
  },
  {
   "cell_type": "code",
   "execution_count": null,
   "id": "12729ea1-4269-4889-8f7c-b035f3fb2597",
   "metadata": {
    "execution": {
     "iopub.execute_input": "2025-05-27T08:21:21.427887Z",
     "iopub.status.busy": "2025-05-27T08:21:21.427470Z",
     "iopub.status.idle": "2025-05-27T08:21:21.430423Z",
     "shell.execute_reply": "2025-05-27T08:21:21.430049Z",
     "shell.execute_reply.started": "2025-05-27T08:21:21.427872Z"
    }
   },
   "outputs": [],
   "source": [
    "# For Angle conversion\n",
    "from astropy.coordinates import Angle\n",
    "import astropy.units as u"
   ]
  },
  {
   "cell_type": "code",
   "execution_count": null,
   "id": "06212855-1aaf-4372-bbc0-41f363735992",
   "metadata": {
    "execution": {
     "iopub.execute_input": "2025-05-27T08:21:21.431276Z",
     "iopub.status.busy": "2025-05-27T08:21:21.430898Z",
     "iopub.status.idle": "2025-05-27T08:21:21.439199Z",
     "shell.execute_reply": "2025-05-27T08:21:21.438770Z",
     "shell.execute_reply.started": "2025-05-27T08:21:21.431261Z"
    }
   },
   "outputs": [],
   "source": [
    "all_bands = [\"u\", \"g\", \"r\", \"i\", \"z\", \"y\"]\n",
    "all_bands_colors = [\"blue\", \"green\", \"red\", \"orange\", \"yellow\", \"purple\"]"
   ]
  },
  {
   "cell_type": "markdown",
   "id": "f823358e-18b4-4b29-845c-146e40dcf23f",
   "metadata": {},
   "source": [
    "## Config"
   ]
  },
  {
   "cell_type": "code",
   "execution_count": null,
   "id": "7d365042-56eb-4cf7-b9ef-32a0682259c1",
   "metadata": {
    "execution": {
     "iopub.execute_input": "2025-05-27T08:21:21.439877Z",
     "iopub.status.busy": "2025-05-27T08:21:21.439745Z",
     "iopub.status.idle": "2025-05-27T08:21:21.447099Z",
     "shell.execute_reply": "2025-05-27T08:21:21.446679Z",
     "shell.execute_reply.started": "2025-05-27T08:21:21.439865Z"
    }
   },
   "outputs": [],
   "source": [
    "# The output repo is tagged with the Jira ticket number \"DM-40356\":\n",
    "repo = \"/repo/main\"\n",
    "# collection = 'LSSTComCam/runs/DRP/DP1/w_2025_05/DM-48666' # work\n",
    "# collection = 'LSSTComCam/runs/DRP/DP1/w_2025_06/DM-48810' # work\n",
    "collection = \"LSSTComCam/runs/DRP/DP1/w_2025_10/DM-49359\"  # work\n",
    "\n",
    "\n",
    "# bad : crash collection = 'LSSTComCam/runs/DRP/DP1/w_2025_08/DM-49029'\n",
    "\n",
    "# bad : collection = \"LSSTComCam/runs/DRP/20241101_20241211/w_2024_51/DM-48233\"\n",
    "\n",
    "# not working perhaps because I am using w_2025_10 version\n",
    "# bad : no ccd visit collection = \"LSSTComCam/runs/DRP/DP1/w_2025_14/DM-49864\"\n",
    "# bad : no ccd visit collection = 'LSSTComCam/runs/DRP/DP1/w_2025_15/DM-50050'\n",
    "# bad : no cce visit collection = 'LSSTComCam/runs/DRP/DP1/w_2025_14/DM-49864'\n",
    "# bad : no cce visit collection collection = 'LSSTComCam/runs/DRP/DP1/w_2025_13/DM-49751'\n",
    "instrument = \"LSSTComCam\"\n",
    "skymapName = \"lsst_cells_v1\"\n",
    "where_clause = \"instrument = '\" + instrument + \"'\"\n",
    "collectionStr = collection.replace(\"/\", \"_\")\n",
    "BANDSEL = \"r\"  # Most fields were observed in red filter"
   ]
  },
  {
   "cell_type": "code",
   "execution_count": null,
   "id": "35a5264c-8853-4a81-ad25-d240644affdc",
   "metadata": {
    "execution": {
     "iopub.execute_input": "2025-05-27T08:21:21.447626Z",
     "iopub.status.busy": "2025-05-27T08:21:21.447502Z",
     "iopub.status.idle": "2025-05-27T08:21:21.829519Z",
     "shell.execute_reply": "2025-05-27T08:21:21.828930Z",
     "shell.execute_reply.started": "2025-05-27T08:21:21.447613Z"
    }
   },
   "outputs": [],
   "source": [
    "# Initialize the butler repo:\n",
    "butler = Butler(repo, collections=collection)\n",
    "registry = butler.registry"
   ]
  },
  {
   "cell_type": "code",
   "execution_count": null,
   "id": "d6f6935e-461e-40d8-8174-10e7de0eea89",
   "metadata": {
    "execution": {
     "iopub.execute_input": "2025-05-27T08:21:21.830281Z",
     "iopub.status.busy": "2025-05-27T08:21:21.830128Z",
     "iopub.status.idle": "2025-05-27T08:21:22.261768Z",
     "shell.execute_reply": "2025-05-27T08:21:22.261210Z",
     "shell.execute_reply.started": "2025-05-27T08:21:21.830267Z"
    }
   },
   "outputs": [],
   "source": [
    "skymap = butler.get(\"skyMap\", skymap=skymapName, collections=collection)"
   ]
  },
  {
   "cell_type": "code",
   "execution_count": null,
   "id": "74271e57-f8c2-4f1f-8c6c-4c75bae476f8",
   "metadata": {
    "execution": {
     "iopub.execute_input": "2025-05-27T08:21:22.262465Z",
     "iopub.status.busy": "2025-05-27T08:21:22.262322Z",
     "iopub.status.idle": "2025-05-27T08:21:22.826309Z",
     "shell.execute_reply": "2025-05-27T08:21:22.825773Z",
     "shell.execute_reply.started": "2025-05-27T08:21:22.262451Z"
    }
   },
   "outputs": [],
   "source": [
    "camera = butler.get(\"camera\", collections=collection, instrument=instrument)"
   ]
  },
  {
   "cell_type": "markdown",
   "id": "4d88c9d9-db19-412d-8b03-c7f5528e9782",
   "metadata": {},
   "source": [
    "## List of Strong Lenses\n",
    "- article : https://arxiv.org/pdf/1104.0931"
   ]
  },
  {
   "cell_type": "code",
   "execution_count": null,
   "id": "b041c47b-e3e2-47cd-8385-64a93271d4ba",
   "metadata": {
    "execution": {
     "iopub.execute_input": "2025-05-27T08:21:22.827060Z",
     "iopub.status.busy": "2025-05-27T08:21:22.826913Z",
     "iopub.status.idle": "2025-05-27T08:21:22.830853Z",
     "shell.execute_reply": "2025-05-27T08:21:22.830373Z",
     "shell.execute_reply.started": "2025-05-27T08:21:22.827046Z"
    }
   },
   "outputs": [],
   "source": [
    "#15422 44 03:32:38.21 –27:56:53.2 \n",
    "ra1 = \"03:32:38.21 hours\"\n",
    "dec1 = \"-27:56:53.2 degrees\"\n",
    "\n",
    "#34244 94 03:32:06.45 –27:47:28.6 \n",
    "ra2 = \"03:32:06.45 hours\"\n",
    "dec2 = \"-27:47:28.6 degrees\"\n",
    "\n",
    "#40173 35 03:33:19.45 –27:44:50.0 \n",
    "ra3 = \"03:33:19.45 hours\"\n",
    "dec3 = \"-27:44:50.0 degrees\"\n",
    "\n",
    "#43242 45 03:31:55.35 –27:43:23.5 \n",
    "ra4 = \"03:31:55.35 hours\"\n",
    "dec4 = \"-27:43:23.5 degrees\"\n",
    "\n",
    "#46446 47 03:31:35.94 –27:41:48.2 \n",
    "ra5 = \"03:31:35.94 hours\"\n",
    "dec5 = \"-27:41:48.2 degrees\"\n",
    "\n",
    "#12589 03:31:24.89 −27:58:07.0\n",
    "ra6 = \"03:31:24.89 hours\"\n",
    "dec6 = \"-27:58:07.0 degrees\"\n",
    "\n",
    "#43797 03:31:31.74 −27:43:00.8 \n",
    "ra7 = \"03:31:31.74 hours\"\n",
    "dec7 = \"-27:43:00.8 degrees\"\n",
    "\n",
    "#28294 03:31:50.54 −27:50:28.4 \n",
    "ra8 = \"03:31:50.54 hours\"\n",
    "dec8 = \"-27:50:28.4 degrees\"\n",
    "\n",
    "#36857 03:31:53.24 −27:46:18.9\n",
    "ra9 = \"03:31:53.24 hours\"\n",
    "dec9 = \"-27:46:18.9 degrees\"\n",
    "\n",
    "#36714 03:32:59.78 −27:46:26.4 \n",
    "ra10 = \"03:32:59.78 hours\"\n",
    "dec10 = \"-27:46:26.4 degrees\""
   ]
  },
  {
   "cell_type": "code",
   "execution_count": null,
   "id": "b243b402-58d1-418e-830d-e4772d8d03ee",
   "metadata": {
    "execution": {
     "iopub.execute_input": "2025-05-27T08:21:22.831437Z",
     "iopub.status.busy": "2025-05-27T08:21:22.831304Z",
     "iopub.status.idle": "2025-05-27T08:21:22.849491Z",
     "shell.execute_reply": "2025-05-27T08:21:22.849059Z",
     "shell.execute_reply.started": "2025-05-27T08:21:22.831424Z"
    }
   },
   "outputs": [],
   "source": [
    "ra = Angle(ra10)\n",
    "print(ra.degree)\n",
    "dec = Angle(dec10)\n",
    "print(dec.degree)"
   ]
  },
  {
   "cell_type": "markdown",
   "id": "5db4beba-3082-4754-8e70-26472f1c226c",
   "metadata": {},
   "source": [
    "## List of Sky field of interest"
   ]
  },
  {
   "cell_type": "code",
   "execution_count": null,
   "id": "42906390-6092-4f44-a520-b97a4a982160",
   "metadata": {
    "execution": {
     "iopub.execute_input": "2025-05-27T08:21:22.850052Z",
     "iopub.status.busy": "2025-05-27T08:21:22.849926Z",
     "iopub.status.idle": "2025-05-27T08:21:22.853701Z",
     "shell.execute_reply": "2025-05-27T08:21:22.853333Z",
     "shell.execute_reply.started": "2025-05-27T08:21:22.850040Z"
    }
   },
   "outputs": [],
   "source": [
    "lsstcomcam_targets = {}\n",
    "# high rank\n",
    "lsstcomcam_targets[\"ECDFS_G15422\"] = {\"field_name\": \"GEMS-15422\", \"ra\": 53.159208333333325, \"dec\": -27.94811111111111}\n",
    "lsstcomcam_targets[\"ECDFS_G34244\"] = {\"field_name\": \"GEMS-34244\", \"ra\": 53.02687499999999 , \"dec\": -27.79127777777778}\n",
    "lsstcomcam_targets[\"ECDFS_G40173\"] = {\"field_name\": \"GEMS-40173\", \"ra\": 53.33104166666666 , \"dec\": -27.747222222222224}\n",
    "lsstcomcam_targets[\"ECDFS_G43242\"] = {\"field_name\": \"GEMS-43242\", \"ra\": 52.980624999999996 , \"dec\": -27.72319444444444}\n",
    "lsstcomcam_targets[\"ECDFS_G46446\"] = {\"field_name\": \"GEMS-46446\", \"ra\": 52.89975 , \"dec\": -27.696722222222224}\n",
    "\n",
    "# low rank\n",
    "lsstcomcam_targets[\"ECDFS_G12589\"] = {\"field_name\": \"GEMS-12589\", \"ra\": 52.85370833333333, \"dec\": -27.96861111111111}\n",
    "lsstcomcam_targets[\"ECDFS_G43797\"] = {\"field_name\": \"GEMS-43797\", \"ra\": 52.88224999999999, \"dec\": -27.71688888888889}\n",
    "\n",
    "lsstcomcam_targets[\"ECDFS_G28294\"] = {\"field_name\": \"GEMS-28294\", \"ra\": 52.960583333333325 , \"dec\": -27.84122222222222}\n",
    "lsstcomcam_targets[\"ECDFS_G6857\"] = {\"field_name\": \"GEMS-6857\", \"ra\": 52.97183333333333 , \"dec\": -27.771916666666666}\n",
    "lsstcomcam_targets[\"ECDFS_G36714\"] = {\"field_name\": \"GEMS-36714\", \"ra\": 53.249083333333324, \"dec\": -27.773999999999997}\n"
   ]
  },
  {
   "cell_type": "code",
   "execution_count": null,
   "id": "867e39d6-a6c6-438d-8c66-b5642b075dcc",
   "metadata": {
    "execution": {
     "iopub.execute_input": "2025-05-27T08:21:22.854241Z",
     "iopub.status.busy": "2025-05-27T08:21:22.854118Z",
     "iopub.status.idle": "2025-05-27T08:21:22.861212Z",
     "shell.execute_reply": "2025-05-27T08:21:22.860785Z",
     "shell.execute_reply.started": "2025-05-27T08:21:22.854229Z"
    }
   },
   "outputs": [],
   "source": [
    "df = pd.DataFrame(lsstcomcam_targets).T"
   ]
  },
  {
   "cell_type": "code",
   "execution_count": null,
   "id": "85236d99-d47d-4372-9b80-5f936b370781",
   "metadata": {
    "execution": {
     "iopub.execute_input": "2025-05-27T08:21:22.861743Z",
     "iopub.status.busy": "2025-05-27T08:21:22.861620Z",
     "iopub.status.idle": "2025-05-27T08:21:22.872193Z",
     "shell.execute_reply": "2025-05-27T08:21:22.871771Z",
     "shell.execute_reply.started": "2025-05-27T08:21:22.861731Z"
    }
   },
   "outputs": [],
   "source": [
    "df"
   ]
  },
  {
   "cell_type": "markdown",
   "id": "a484fbb9-439d-484d-bac3-c7bc6ce378a0",
   "metadata": {},
   "source": [
    "### Select the target"
   ]
  },
  {
   "cell_type": "code",
   "execution_count": null,
   "id": "26ae4982-95a5-4965-8070-209b21e1373a",
   "metadata": {
    "execution": {
     "iopub.execute_input": "2025-05-27T08:21:22.872740Z",
     "iopub.status.busy": "2025-05-27T08:21:22.872618Z",
     "iopub.status.idle": "2025-05-27T08:21:22.876135Z",
     "shell.execute_reply": "2025-05-27T08:21:22.875773Z",
     "shell.execute_reply.started": "2025-05-27T08:21:22.872728Z"
    }
   },
   "outputs": [],
   "source": [
    "key = \"ECDFS_G15422\"\n",
    "#key = \"ECDFS_G34244\"\n",
    "#key = \"ECDFS_G40173\"\n",
    "#key= \"ECDFS_G43242\"\n",
    "#key= \"ECDFS_G46446\"\n",
    "#key = \"ECDFS_G12589\"\n",
    "#key = \"ECDFS_G43797\"\n",
    "#key = \"ECDFS_G28294\"\n",
    "#key = \"ECDFS_G6857\"\n",
    "#key = \"ECDFS_G36714\"\n",
    "\n",
    "the_target = lsstcomcam_targets[key]\n",
    "target_ra = the_target[\"ra\"]\n",
    "target_dec = the_target[\"dec\"]\n",
    "target_name = the_target[\"field_name\"]\n",
    "\n",
    "target_title = (\n",
    "    the_target[\"field_name\"] + f\" band  {BANDSEL} \" + f\" (ra,dec) = ({target_ra:.2f},{target_dec:.2f}) \"\n",
    ")\n",
    "target_point = SpherePoint(target_ra, target_dec, degrees)"
   ]
  },
  {
   "cell_type": "markdown",
   "id": "36412c63-d1e4-4f26-82c6-0681f74a7710",
   "metadata": {
    "execution": {
     "iopub.execute_input": "2025-04-30T18:53:36.820873Z",
     "iopub.status.busy": "2025-04-30T18:53:36.820327Z",
     "iopub.status.idle": "2025-04-30T18:53:36.823305Z",
     "shell.execute_reply": "2025-04-30T18:53:36.822857Z",
     "shell.execute_reply.started": "2025-04-30T18:53:36.820853Z"
    }
   },
   "source": [
    "## Find the list of tract numbers from Object Table"
   ]
  },
  {
   "cell_type": "code",
   "execution_count": null,
   "id": "3048e2e2-2489-43e0-a96d-848c548700cb",
   "metadata": {
    "execution": {
     "iopub.execute_input": "2025-05-27T08:21:22.878749Z",
     "iopub.status.busy": "2025-05-27T08:21:22.878617Z",
     "iopub.status.idle": "2025-05-27T08:21:22.971104Z",
     "shell.execute_reply": "2025-05-27T08:21:22.970613Z",
     "shell.execute_reply.started": "2025-05-27T08:21:22.878737Z"
    }
   },
   "outputs": [],
   "source": [
    "datasettype = \"objectTable_tract\"\n",
    "therefs = butler.registry.queryDatasets(datasettype, collections=collection)\n",
    "tractsId_list = np.unique([ref.dataId[\"tract\"] for ref in therefs])\n",
    "tractsId_list = sorted(tractsId_list)\n",
    "print(tractsId_list)"
   ]
  },
  {
   "cell_type": "markdown",
   "id": "cb36383d-8245-4053-9569-13982454b164",
   "metadata": {},
   "source": [
    "## Search all deepCoadd\n",
    "\n",
    "- deepCoadd_calexp comes with WCS"
   ]
  },
  {
   "cell_type": "code",
   "execution_count": null,
   "id": "fd2b0c95-2201-48f5-a93c-a2ebcd129e84",
   "metadata": {
    "execution": {
     "iopub.execute_input": "2025-05-27T08:21:22.971738Z",
     "iopub.status.busy": "2025-05-27T08:21:22.971605Z",
     "iopub.status.idle": "2025-05-27T08:21:22.974172Z",
     "shell.execute_reply": "2025-05-27T08:21:22.973753Z",
     "shell.execute_reply.started": "2025-05-27T08:21:22.971725Z"
    }
   },
   "outputs": [],
   "source": [
    "# List all  deepCoadd_calexp which are in the butler collection\n",
    "# Thus all patch and tracts\n",
    "# refs = butler.registry.queryDatasets(\"deepCoadd_calexp\", collections = collection)\n",
    "# for ref in refs:\n",
    "#    print(ref.dataId)"
   ]
  },
  {
   "cell_type": "markdown",
   "id": "b190c292-0efe-4e36-9315-c542b02ef3ec",
   "metadata": {},
   "source": [
    "## Find the DataId"
   ]
  },
  {
   "cell_type": "code",
   "execution_count": null,
   "id": "7eac4470-30fd-41ae-b81d-3b1bda379e26",
   "metadata": {
    "execution": {
     "iopub.execute_input": "2025-05-27T08:21:22.974670Z",
     "iopub.status.busy": "2025-05-27T08:21:22.974548Z",
     "iopub.status.idle": "2025-05-27T08:21:22.983914Z",
     "shell.execute_reply": "2025-05-27T08:21:22.983486Z",
     "shell.execute_reply.started": "2025-05-27T08:21:22.974658Z"
    }
   },
   "outputs": [],
   "source": [
    "tract_info = skymap.findTract(target_point)\n",
    "patch_info = tract_info.findPatch(target_point)\n",
    "bbox = patch_info.getOuterBBox()\n",
    "\n",
    "print(\"Patch bounding box:\", bbox)\n",
    "\n",
    "print(\"Tract ID :\", tract_info.getId())\n",
    "tractNbSel = tract_info.getId()\n",
    "\n",
    "print(\"Patch Index :\", patch_info.getIndex(), \" , \", patch_info.getSequentialIndex())  # (x, y)\n",
    "print(\"Bounding Box\", bbox)\n",
    "\n",
    "patchNbSel = patch_info.getSequentialIndex()"
   ]
  },
  {
   "cell_type": "code",
   "execution_count": null,
   "id": "58fa33e5-797e-48d3-b9ba-2632b4bc50ed",
   "metadata": {
    "execution": {
     "iopub.execute_input": "2025-05-27T08:21:22.984436Z",
     "iopub.status.busy": "2025-05-27T08:21:22.984314Z",
     "iopub.status.idle": "2025-05-27T08:21:22.990240Z",
     "shell.execute_reply": "2025-05-27T08:21:22.989817Z",
     "shell.execute_reply.started": "2025-05-27T08:21:22.984424Z"
    }
   },
   "outputs": [],
   "source": [
    "central_patch = patch_info.getIndex()\n",
    "central_x, central_y = patch_info.getIndex()\n",
    "neighbor_patches = [\n",
    "    f\"{x},{y}\"\n",
    "    for x in range(central_x - 1, central_x + 2)\n",
    "    for y in range(central_y - 1, central_y + 2)\n",
    "    if 0 <= x <= 8 and 0 <= y <= 8\n",
    "]"
   ]
  },
  {
   "cell_type": "code",
   "execution_count": null,
   "id": "c9601ca2-1ac3-4a2c-bc8e-e58809a20f79",
   "metadata": {
    "execution": {
     "iopub.execute_input": "2025-05-27T08:21:22.990889Z",
     "iopub.status.busy": "2025-05-27T08:21:22.990763Z",
     "iopub.status.idle": "2025-05-27T08:21:22.998059Z",
     "shell.execute_reply": "2025-05-27T08:21:22.997707Z",
     "shell.execute_reply.started": "2025-05-27T08:21:22.990877Z"
    }
   },
   "outputs": [],
   "source": [
    "neighbor_patches"
   ]
  },
  {
   "cell_type": "code",
   "execution_count": null,
   "id": "b94e46f8-7647-437c-8a4a-b3180150f64f",
   "metadata": {
    "execution": {
     "iopub.execute_input": "2025-05-27T08:21:22.998560Z",
     "iopub.status.busy": "2025-05-27T08:21:22.998438Z",
     "iopub.status.idle": "2025-05-27T08:21:23.007063Z",
     "shell.execute_reply": "2025-05-27T08:21:23.006719Z",
     "shell.execute_reply.started": "2025-05-27T08:21:22.998548Z"
    }
   },
   "outputs": [],
   "source": [
    "neighbor_patches_indexes = [\n",
    "    Index2D(x=x, y=y)\n",
    "    for x in range(central_x - 1, central_x + 2)\n",
    "    for y in range(central_y - 1, central_y + 2)\n",
    "    if 0 <= x <= 8 and 0 <= y <= 8\n",
    "]"
   ]
  },
  {
   "cell_type": "code",
   "execution_count": null,
   "id": "90b64f9b-56b6-4da2-99f7-c0e350cf425a",
   "metadata": {
    "execution": {
     "iopub.execute_input": "2025-05-27T08:21:23.007595Z",
     "iopub.status.busy": "2025-05-27T08:21:23.007469Z",
     "iopub.status.idle": "2025-05-27T08:21:23.053608Z",
     "shell.execute_reply": "2025-05-27T08:21:23.053196Z",
     "shell.execute_reply.started": "2025-05-27T08:21:23.007583Z"
    }
   },
   "outputs": [],
   "source": [
    "neighbor_patches_seqindexes = [\n",
    "    tract_info[patch_index].getSequentialIndex() for patch_index in neighbor_patches_indexes\n",
    "]"
   ]
  },
  {
   "cell_type": "code",
   "execution_count": null,
   "id": "286b497f-0b07-4512-adfb-6be573f6c468",
   "metadata": {
    "execution": {
     "iopub.execute_input": "2025-05-27T08:21:23.054188Z",
     "iopub.status.busy": "2025-05-27T08:21:23.054055Z",
     "iopub.status.idle": "2025-05-27T08:21:23.061728Z",
     "shell.execute_reply": "2025-05-27T08:21:23.061375Z",
     "shell.execute_reply.started": "2025-05-27T08:21:23.054176Z"
    }
   },
   "outputs": [],
   "source": [
    "mapdict_patchesindexes = {}\n",
    "for patch_index in neighbor_patches_indexes:\n",
    "    patch_seqindex = tract_info[patch_index].getSequentialIndex()\n",
    "    mapdict_patchesindexes[patch_seqindex] = f\"{patch_index.x},{patch_index.y}\"\n",
    "mapdict_patchesindexes"
   ]
  },
  {
   "cell_type": "code",
   "execution_count": null,
   "id": "e76445dd-adbc-45c9-bec0-e6bc5eaae724",
   "metadata": {
    "execution": {
     "iopub.execute_input": "2025-05-27T08:21:23.062258Z",
     "iopub.status.busy": "2025-05-27T08:21:23.062136Z",
     "iopub.status.idle": "2025-05-27T08:21:23.067617Z",
     "shell.execute_reply": "2025-05-27T08:21:23.067264Z",
     "shell.execute_reply.started": "2025-05-27T08:21:23.062246Z"
    }
   },
   "outputs": [],
   "source": [
    "# Add the patch and band to the dataId, we didn't need them for the objectTable_tract because it covers all patches and bands\n",
    "# However the coadds are stored by patch and band dimensions so we have to add them to the dataId\n",
    "\n",
    "dataId = {\"band\": BANDSEL, \"tract\": tractNbSel, \"patch\": patchNbSel, \"skymap\": skymapName}"
   ]
  },
  {
   "cell_type": "code",
   "execution_count": null,
   "id": "62daa676-7d7a-4182-a990-92e4cf084ce1",
   "metadata": {
    "execution": {
     "iopub.execute_input": "2025-05-27T08:21:23.068121Z",
     "iopub.status.busy": "2025-05-27T08:21:23.067991Z",
     "iopub.status.idle": "2025-05-27T08:21:23.075243Z",
     "shell.execute_reply": "2025-05-27T08:21:23.074870Z",
     "shell.execute_reply.started": "2025-05-27T08:21:23.068109Z"
    }
   },
   "outputs": [],
   "source": [
    "full_target_title = target_title + f\"(t,p) = ({tractNbSel}, {patchNbSel})\""
   ]
  },
  {
   "cell_type": "markdown",
   "id": "d93c1073-5774-4c43-ab89-bc29243d6e31",
   "metadata": {},
   "source": [
    "## Fetch the DeepCoadd"
   ]
  },
  {
   "cell_type": "code",
   "execution_count": null,
   "id": "263f5cae-5448-459e-9860-17b1faf51966",
   "metadata": {
    "execution": {
     "iopub.execute_input": "2025-05-27T08:21:23.075867Z",
     "iopub.status.busy": "2025-05-27T08:21:23.075734Z",
     "iopub.status.idle": "2025-05-27T08:21:28.696538Z",
     "shell.execute_reply": "2025-05-27T08:21:28.696048Z",
     "shell.execute_reply.started": "2025-05-27T08:21:23.075854Z"
    }
   },
   "outputs": [],
   "source": [
    "coadd_exp = butler.get(\"deepCoadd_calexp\", dataId)"
   ]
  },
  {
   "cell_type": "markdown",
   "id": "6d6ad42e-98c3-4794-b09f-edb0c7611b6d",
   "metadata": {},
   "source": [
    "## Plot in matplotlib"
   ]
  },
  {
   "cell_type": "code",
   "execution_count": null,
   "id": "b47e2870-1da6-44ae-8c3d-89ac8779a429",
   "metadata": {
    "execution": {
     "iopub.execute_input": "2025-05-27T08:21:28.702849Z",
     "iopub.status.busy": "2025-05-27T08:21:28.702227Z",
     "iopub.status.idle": "2025-05-27T08:21:28.705671Z",
     "shell.execute_reply": "2025-05-27T08:21:28.705328Z",
     "shell.execute_reply.started": "2025-05-27T08:21:28.702832Z"
    }
   },
   "outputs": [],
   "source": [
    "image_array = coadd_exp.image.array\n",
    "image = coadd_exp.image\n",
    "wcs = coadd_exp.getWcs()\n",
    "psf = coadd_exp.getPsf()"
   ]
  },
  {
   "cell_type": "code",
   "execution_count": null,
   "id": "7ea46fcd-2279-4041-ad2f-cc5f9b5f97e6",
   "metadata": {
    "execution": {
     "iopub.execute_input": "2025-05-27T08:21:28.706239Z",
     "iopub.status.busy": "2025-05-27T08:21:28.706101Z",
     "iopub.status.idle": "2025-05-27T08:21:30.050427Z",
     "shell.execute_reply": "2025-05-27T08:21:30.050062Z",
     "shell.execute_reply.started": "2025-05-27T08:21:28.706224Z"
    }
   },
   "outputs": [],
   "source": [
    "import matplotlib.pyplot as plt\n",
    "\n",
    "fig, ax = plt.subplots(1, 1, figsize=(10, 10))\n",
    "im = ax.imshow(image_array, cmap=\"gray\", origin=\"lower\", vmin=0, vmax=2000)\n",
    "ax.set_title(full_target_title)\n",
    "plt.colorbar(im, ax=ax)\n",
    "plt.show()"
   ]
  },
  {
   "cell_type": "code",
   "execution_count": null,
   "id": "89a8406f-a05e-40c2-9688-aeb624ee0094",
   "metadata": {
    "execution": {
     "iopub.execute_input": "2025-05-27T08:21:30.051034Z",
     "iopub.status.busy": "2025-05-27T08:21:30.050885Z",
     "iopub.status.idle": "2025-05-27T08:21:34.470143Z",
     "shell.execute_reply": "2025-05-27T08:21:34.469734Z",
     "shell.execute_reply.started": "2025-05-27T08:21:30.051019Z"
    }
   },
   "outputs": [],
   "source": [
    "from astropy.wcs import WCS\n",
    "import matplotlib.pyplot as plt\n",
    "from astropy.visualization import ZScaleInterval\n",
    "\n",
    "# Get astropy WCS to plot accordingly\n",
    "wcs_astropy = WCS(wcs.getFitsMetadata())  # Alternative en extrayant l'entête FITS\n",
    "\n",
    "# Use zscale to norm\n",
    "interval = ZScaleInterval()\n",
    "vmin, vmax = interval.get_limits(image_array)\n",
    "\n",
    "\n",
    "fig = plt.figure(figsize=(8, 8))\n",
    "ax = fig.add_subplot(1, 1, 1, projection=wcs_astropy)\n",
    "im = ax.imshow(image_array, origin=\"lower\", cmap=\"gray\", vmin=vmin, vmax=vmax)\n",
    "\n",
    "ax.set_xlabel(\"RA (deg)\")\n",
    "ax.set_ylabel(\"Dec (deg)\")\n",
    "ax.coords.grid(True, color=\"white\", ls=\"dotted\")\n",
    "plt.title(\"DeepCoadd_calexp for \" + target_title)\n",
    "# plt.colorbar(im, ax=ax)\n",
    "\n",
    "for index, row in df.iterrows():\n",
    "            ra_deg = row[\"ra\"]\n",
    "            dec_deg = row[\"dec\"]\n",
    "            tname = row[\"field_name\"]\n",
    "\n",
    "            if tname == target_name: \n",
    "                ax.plot(ra_deg, dec_deg, marker='+', transform=ax.get_transform('icrs') ,color='red', markersize=20, label=\"target_name\")\n",
    "\n",
    "ax.legend()\n",
    "plt.show()"
   ]
  },
  {
   "cell_type": "markdown",
   "id": "10145b3b-ca94-4fd7-b5f1-1d3c20656866",
   "metadata": {},
   "source": [
    "- don't understand why plotting not working :\n",
    "\n",
    "- https://docs.astropy.org/en/stable/visualization/wcsaxes/overlays.html"
   ]
  },
  {
   "cell_type": "markdown",
   "id": "ebb94f95-0189-43b3-812f-53eb503fa58a",
   "metadata": {},
   "source": [
    "## Plot with Firefly"
   ]
  },
  {
   "cell_type": "code",
   "execution_count": null,
   "id": "c86730c4-e9e8-44b2-9bb6-761fef482109",
   "metadata": {
    "execution": {
     "iopub.execute_input": "2025-05-27T08:21:34.470699Z",
     "iopub.status.busy": "2025-05-27T08:21:34.470561Z",
     "iopub.status.idle": "2025-05-27T08:21:34.534829Z",
     "shell.execute_reply": "2025-05-27T08:21:34.534391Z",
     "shell.execute_reply.started": "2025-05-27T08:21:34.470684Z"
    }
   },
   "outputs": [],
   "source": [
    "afwDisplay.setDefaultBackend(\"firefly\")\n",
    "# display = afwDisplay.Display(frame=1)\n",
    "# display.scale(\"asinh\", \"zscale\")\n",
    "# display.mtv(image, title = target_title)"
   ]
  },
  {
   "cell_type": "code",
   "execution_count": null,
   "id": "a4071800-b1aa-4765-a68c-5250d36ddc80",
   "metadata": {
    "execution": {
     "iopub.execute_input": "2025-05-27T08:21:34.535746Z",
     "iopub.status.busy": "2025-05-27T08:21:34.535238Z",
     "iopub.status.idle": "2025-05-27T08:21:34.538239Z",
     "shell.execute_reply": "2025-05-27T08:21:34.537924Z",
     "shell.execute_reply.started": "2025-05-27T08:21:34.535730Z"
    }
   },
   "outputs": [],
   "source": [
    "\n",
    "all_dataIds = [\n",
    "    {\n",
    "        \"band\": band,\n",
    "        \"tract\": tract_info.getId(),\n",
    "        \"patch\": patch_info.getSequentialIndex(),\n",
    "        \"skymap\": skymapName,\n",
    "    }\n",
    "    for band in all_bands\n",
    "]"
   ]
  },
  {
   "cell_type": "code",
   "execution_count": null,
   "id": "776ccf55-b0cc-466d-8c90-b5ab42611cb2",
   "metadata": {
    "execution": {
     "iopub.execute_input": "2025-05-27T08:21:34.538740Z",
     "iopub.status.busy": "2025-05-27T08:21:34.538611Z",
     "iopub.status.idle": "2025-05-27T08:21:34.544878Z",
     "shell.execute_reply": "2025-05-27T08:21:34.544584Z",
     "shell.execute_reply.started": "2025-05-27T08:21:34.538728Z"
    }
   },
   "outputs": [],
   "source": [
    "all_dataIds"
   ]
  },
  {
   "cell_type": "code",
   "execution_count": null,
   "id": "52b0420f-df14-4543-b6ce-e5a0fd19ba30",
   "metadata": {
    "execution": {
     "iopub.execute_input": "2025-05-27T08:21:34.545375Z",
     "iopub.status.busy": "2025-05-27T08:21:34.545253Z",
     "iopub.status.idle": "2025-05-27T08:21:49.961275Z",
     "shell.execute_reply": "2025-05-27T08:21:49.960779Z",
     "shell.execute_reply.started": "2025-05-27T08:21:34.545363Z"
    }
   },
   "outputs": [],
   "source": [
    "all_deepCoadds = []\n",
    "all_deepCoadds_wcs = []\n",
    "all_titles = []\n",
    "for idx, band in enumerate(all_bands):\n",
    "    the_band = band\n",
    "    the_dataId = all_dataIds[idx]\n",
    "    the_title = key + f\" band {the_band}\"\n",
    "    try:\n",
    "        coadd_exp = butler.get(\"deepCoadd_calexp\", the_dataId)\n",
    "        wcs = coadd_exp.getWcs()\n",
    "        psf = coadd_exp.getPsf()\n",
    "        all_deepCoadds.append(coadd_exp)\n",
    "        all_deepCoadds_wcs.append(wcs)\n",
    "        all_titles.append(the_title)\n",
    "\n",
    "    except Exception as inst:\n",
    "        print(f\"{key} :: catch Exception for band {band}\")\n",
    "        print(type(inst))  # the exception type\n",
    "        print(inst.args)  # arguments stored in .args\n",
    "        print(inst)  # __str_"
   ]
  },
  {
   "cell_type": "code",
   "execution_count": null,
   "id": "0f3dea1d-dca9-4ffa-b488-f390caf24f4f",
   "metadata": {
    "execution": {
     "iopub.execute_input": "2025-05-27T08:21:49.963533Z",
     "iopub.status.busy": "2025-05-27T08:21:49.963355Z",
     "iopub.status.idle": "2025-05-27T08:21:52.453200Z",
     "shell.execute_reply": "2025-05-27T08:21:52.452652Z",
     "shell.execute_reply.started": "2025-05-27T08:21:49.963518Z"
    }
   },
   "outputs": [],
   "source": [
    "N = len(all_deepCoadds)\n",
    "for count in range(N):\n",
    "    band = all_bands[count]\n",
    "    display = afwDisplay.Display(frame=count + 1)\n",
    "    # cannot succeed to show white stars on dark sky\n",
    "    display.setImageColormap(\"gray\")\n",
    "    display.scale(\"asinh\", \"zscale\")\n",
    "    display.mtv(all_deepCoadds[count].image, title=all_titles[count])\n",
    "\n",
    "    # work on targets\n",
    "    wcs = all_deepCoadds_wcs[count]\n",
    "    \n",
    "    x_name = \"ra\"\n",
    "    y_name = \"dec\"\n",
    "    f_name = \"field_name\"\n",
    "\n",
    "    with display.Buffering():\n",
    "        for index, row in df.iterrows():\n",
    "\n",
    "            ra_deg = row[x_name]\n",
    "            dec_deg = row[y_name]\n",
    "            tname = row[f_name]\n",
    "\n",
    "            if tname == target_name: \n",
    "                sky_coord = SpherePoint(ra_deg * degrees, dec_deg * degrees) \n",
    "                pixel_coord = wcs.skyToPixel(sky_coord)\n",
    "\n",
    "                xpix = pixel_coord.x\n",
    "                ypix = pixel_coord.y\n",
    "            \n",
    "                display.dot(\"o\", xpix, ypix, size=50, ctype=all_bands_colors[count])\n",
    "                display.dot(\"+\", xpix, ypix, size=100, ctype=all_bands_colors[count])\n",
    "           "
   ]
  },
  {
   "cell_type": "code",
   "execution_count": null,
   "id": "6c9a337b-5e43-4d21-9d32-421b6c388348",
   "metadata": {
    "execution": {
     "iopub.execute_input": "2025-05-27T08:21:52.453924Z",
     "iopub.status.busy": "2025-05-27T08:21:52.453770Z",
     "iopub.status.idle": "2025-05-27T08:21:52.456657Z",
     "shell.execute_reply": "2025-05-27T08:21:52.456171Z",
     "shell.execute_reply.started": "2025-05-27T08:21:52.453911Z"
    }
   },
   "outputs": [],
   "source": [
    "# display.clearViewer()"
   ]
  },
  {
   "cell_type": "code",
   "execution_count": null,
   "id": "08c3ccca-756e-4537-aac0-bb5ed5bada29",
   "metadata": {
    "execution": {
     "iopub.execute_input": "2025-05-27T08:21:52.457311Z",
     "iopub.status.busy": "2025-05-27T08:21:52.457173Z",
     "iopub.status.idle": "2025-05-27T08:21:52.471257Z",
     "shell.execute_reply": "2025-05-27T08:21:52.470717Z",
     "shell.execute_reply.started": "2025-05-27T08:21:52.457297Z"
    }
   },
   "outputs": [],
   "source": [
    "# setImageColormap) are “gray” and “grey”"
   ]
  },
  {
   "cell_type": "code",
   "execution_count": null,
   "id": "564b2ccf-67e4-495c-975d-10374d08de9d",
   "metadata": {},
   "outputs": [],
   "source": []
  }
 ],
 "metadata": {
  "kernelspec": {
   "display_name": "LSST",
   "language": "python",
   "name": "lsst"
  },
  "language_info": {
   "codemirror_mode": {
    "name": "ipython",
    "version": 3
   },
   "file_extension": ".py",
   "mimetype": "text/x-python",
   "name": "python",
   "nbconvert_exporter": "python",
   "pygments_lexer": "ipython3",
   "version": "3.12.10"
  }
 },
 "nbformat": 4,
 "nbformat_minor": 5
}
