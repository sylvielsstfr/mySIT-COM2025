{
 "cells": [
  {
   "cell_type": "code",
   "execution_count": null,
   "id": "5982c58e-0914-4565-9ced-54f7ae820762",
   "metadata": {
    "execution": {
     "iopub.execute_input": "2025-05-23T16:21:35.003953Z",
     "iopub.status.busy": "2025-05-23T16:21:35.003700Z",
     "iopub.status.idle": "2025-05-23T16:21:35.110629Z",
     "shell.execute_reply": "2025-05-23T16:21:35.110231Z",
     "shell.execute_reply.started": "2025-05-23T16:21:35.003924Z"
    }
   },
   "outputs": [],
   "source": [
    "from astropy.io import fits\n",
    "\n",
    "hdul = fits.open(\"cutout_wcs_ECDFS_G15422_g.fits\")\n",
    "hdul[0].header  # Contient CRVAL1, CRVAL2, etc."
   ]
  },
  {
   "cell_type": "code",
   "execution_count": null,
   "id": "8de194f8-78df-4ac1-9688-11beda63ef66",
   "metadata": {},
   "outputs": [],
   "source": []
  }
 ],
 "metadata": {
  "kernelspec": {
   "display_name": "LSST",
   "language": "python",
   "name": "lsst"
  },
  "language_info": {
   "codemirror_mode": {
    "name": "ipython",
    "version": 3
   },
   "file_extension": ".py",
   "mimetype": "text/x-python",
   "name": "python",
   "nbconvert_exporter": "python",
   "pygments_lexer": "ipython3",
   "version": "3.12.10"
  }
 },
 "nbformat": 4,
 "nbformat_minor": 5
}
