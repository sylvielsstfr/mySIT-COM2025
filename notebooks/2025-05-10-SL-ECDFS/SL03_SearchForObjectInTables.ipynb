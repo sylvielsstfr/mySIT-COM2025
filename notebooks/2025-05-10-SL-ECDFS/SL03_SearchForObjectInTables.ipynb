{
 "cells": [
  {
   "attachments": {},
   "cell_type": "markdown",
   "id": "1ad8c183-160a-43e4-9285-d54d12479cee",
   "metadata": {},
   "source": [
    "# Search for  GEMS SL in the objects Tables  ECDFS in LSSTComCam\n",
    "\n",
    "- author : Sylvie Dagoret-Campagne\n",
    "- affiliation : IJCLab/IN2P3/CNRS\n",
    "- member : DESC, rubin-inkind\n",
    "- creation date : 2025-05-25\n",
    "- last update : 2025-05-27: remove selection on parentObjectId=0 for the SL"
   ]
  },
  {
   "cell_type": "markdown",
   "id": "81c11161-2bd4-4317-812a-f246f3f70d81",
   "metadata": {},
   "source": [
    "### Note on work done on LSSTComCam Commissioning : https://sitcomtn-149.lsst.io/\n",
    "### Note Data Product definition Document : https://lse-163.lsst.io/"
   ]
  },
  {
   "cell_type": "code",
   "execution_count": null,
   "id": "72f36e25-589c-4a8c-865f-8b51f5f35270",
   "metadata": {
    "execution": {
     "iopub.execute_input": "2025-05-27T14:43:36.832049Z",
     "iopub.status.busy": "2025-05-27T14:43:36.831925Z",
     "iopub.status.idle": "2025-05-27T14:43:37.884492Z",
     "shell.execute_reply": "2025-05-27T14:43:37.883989Z",
     "shell.execute_reply.started": "2025-05-27T14:43:36.832035Z"
    }
   },
   "outputs": [],
   "source": [
    "import sys\n",
    "import matplotlib.pyplot as plt\n",
    "import lsst.afw.display as afwDisplay\n",
    "import numpy as np\n",
    "import pandas as pd\n",
    "from astropy.time import Time\n",
    "from astropy.io import fits\n",
    "# %matplotlib widget\n",
    "import copy  "
   ]
  },
  {
   "cell_type": "code",
   "execution_count": null,
   "id": "da7eddda-b7a2-4c6f-904a-4078b7126033",
   "metadata": {
    "execution": {
     "iopub.execute_input": "2025-05-27T14:43:37.885418Z",
     "iopub.status.busy": "2025-05-27T14:43:37.885105Z",
     "iopub.status.idle": "2025-05-27T14:43:37.887943Z",
     "shell.execute_reply": "2025-05-27T14:43:37.887571Z",
     "shell.execute_reply.started": "2025-05-27T14:43:37.885401Z"
    }
   },
   "outputs": [],
   "source": [
    "from lsst.geom import Point2D, Point2I, Box2I, Extent2I\n",
    "from lsst.afw.image import ExposureF"
   ]
  },
  {
   "cell_type": "code",
   "execution_count": null,
   "id": "2c3f835a-ca1b-483f-81f7-28108f56d440",
   "metadata": {
    "execution": {
     "iopub.execute_input": "2025-05-27T14:43:37.888534Z",
     "iopub.status.busy": "2025-05-27T14:43:37.888392Z",
     "iopub.status.idle": "2025-05-27T14:43:37.956998Z",
     "shell.execute_reply": "2025-05-27T14:43:37.956492Z",
     "shell.execute_reply.started": "2025-05-27T14:43:37.888521Z"
    }
   },
   "outputs": [],
   "source": [
    "afwDisplay.setDefaultBackend(\"firefly\")"
   ]
  },
  {
   "cell_type": "code",
   "execution_count": null,
   "id": "42897fba-1ca4-4f20-837d-bd7478ac4548",
   "metadata": {
    "execution": {
     "iopub.execute_input": "2025-05-27T14:43:37.958186Z",
     "iopub.status.busy": "2025-05-27T14:43:37.957535Z",
     "iopub.status.idle": "2025-05-27T14:43:37.981864Z",
     "shell.execute_reply": "2025-05-27T14:43:37.981478Z",
     "shell.execute_reply.started": "2025-05-27T14:43:37.958169Z"
    }
   },
   "outputs": [],
   "source": [
    "import lsst.geom as geom\n",
    "from lsst.geom import SpherePoint, degrees, Point2D, Point2I, Extent2I\n",
    "from lsst.skymap import PatchInfo, Index2D"
   ]
  },
  {
   "cell_type": "code",
   "execution_count": null,
   "id": "aa4b4cdd-dd89-4c6d-a792-aaece1df1eec",
   "metadata": {
    "execution": {
     "iopub.execute_input": "2025-05-27T14:43:37.982488Z",
     "iopub.status.busy": "2025-05-27T14:43:37.982351Z",
     "iopub.status.idle": "2025-05-27T14:43:37.984715Z",
     "shell.execute_reply": "2025-05-27T14:43:37.984293Z",
     "shell.execute_reply.started": "2025-05-27T14:43:37.982475Z"
    }
   },
   "outputs": [],
   "source": [
    "# For Angle conversion\n",
    "from astropy.coordinates import Angle\n",
    "import astropy.units as u\n",
    "from astropy.coordinates import SkyCoord"
   ]
  },
  {
   "cell_type": "code",
   "execution_count": null,
   "id": "f2580923-bf82-4204-a50d-c64eb56b9f06",
   "metadata": {
    "execution": {
     "iopub.execute_input": "2025-05-27T14:43:37.985426Z",
     "iopub.status.busy": "2025-05-27T14:43:37.985167Z",
     "iopub.status.idle": "2025-05-27T14:43:38.021602Z",
     "shell.execute_reply": "2025-05-27T14:43:38.021084Z",
     "shell.execute_reply.started": "2025-05-27T14:43:37.985408Z"
    }
   },
   "outputs": [],
   "source": [
    "plt.rcParams[\"figure.figsize\"] = (10, 6)\n",
    "plt.rcParams[\"axes.labelsize\"] = \"x-large\"\n",
    "plt.rcParams[\"axes.titlesize\"] = \"x-large\"\n",
    "plt.rcParams[\"xtick.labelsize\"] = \"x-large\"\n",
    "plt.rcParams[\"ytick.labelsize\"] = \"x-large\""
   ]
  },
  {
   "cell_type": "code",
   "execution_count": null,
   "id": "d47f09df-7496-431c-b4ae-4fb75a3c6ef9",
   "metadata": {
    "execution": {
     "iopub.execute_input": "2025-05-27T14:43:38.022204Z",
     "iopub.status.busy": "2025-05-27T14:43:38.022073Z",
     "iopub.status.idle": "2025-05-27T14:43:38.029621Z",
     "shell.execute_reply": "2025-05-27T14:43:38.029132Z",
     "shell.execute_reply.started": "2025-05-27T14:43:38.022191Z"
    }
   },
   "outputs": [],
   "source": [
    "import gc"
   ]
  },
  {
   "cell_type": "code",
   "execution_count": null,
   "id": "1a1a267b-58c7-468a-a336-2c8def253a79",
   "metadata": {
    "execution": {
     "iopub.execute_input": "2025-05-27T14:43:38.030201Z",
     "iopub.status.busy": "2025-05-27T14:43:38.030073Z",
     "iopub.status.idle": "2025-05-27T14:43:38.036622Z",
     "shell.execute_reply": "2025-05-27T14:43:38.036147Z",
     "shell.execute_reply.started": "2025-05-27T14:43:38.030188Z"
    }
   },
   "outputs": [],
   "source": [
    "import traceback"
   ]
  },
  {
   "cell_type": "code",
   "execution_count": null,
   "id": "ede21bda-146f-4c77-aa40-edf2debfbfc0",
   "metadata": {
    "execution": {
     "iopub.execute_input": "2025-05-27T14:43:38.037214Z",
     "iopub.status.busy": "2025-05-27T14:43:38.037086Z",
     "iopub.status.idle": "2025-05-27T14:43:38.928466Z",
     "shell.execute_reply": "2025-05-27T14:43:38.927957Z",
     "shell.execute_reply.started": "2025-05-27T14:43:38.037201Z"
    }
   },
   "outputs": [],
   "source": [
    "# Define butler\n",
    "from lsst.daf.butler import Butler"
   ]
  },
  {
   "cell_type": "code",
   "execution_count": null,
   "id": "c7ab7fe3-285d-48c2-973a-2dde9d0a7faa",
   "metadata": {
    "execution": {
     "iopub.execute_input": "2025-05-27T14:43:38.929179Z",
     "iopub.status.busy": "2025-05-27T14:43:38.929035Z",
     "iopub.status.idle": "2025-05-27T14:43:39.649495Z",
     "shell.execute_reply": "2025-05-27T14:43:39.648929Z",
     "shell.execute_reply.started": "2025-05-27T14:43:38.929165Z"
    }
   },
   "outputs": [],
   "source": [
    "!eups list lsst_distrib"
   ]
  },
  {
   "cell_type": "code",
   "execution_count": null,
   "id": "0cd350ad-7a29-415e-aabe-a837bf1c6998",
   "metadata": {
    "execution": {
     "iopub.execute_input": "2025-05-27T14:43:39.650306Z",
     "iopub.status.busy": "2025-05-27T14:43:39.650150Z",
     "iopub.status.idle": "2025-05-27T14:43:39.654302Z",
     "shell.execute_reply": "2025-05-27T14:43:39.653979Z",
     "shell.execute_reply.started": "2025-05-27T14:43:39.650288Z"
    }
   },
   "outputs": [],
   "source": [
    "def nJy_to_ab_mag(f_njy):\n",
    "    \"\"\"Convert scalar or array flux in nJy to AB magnitude.\"\"\"\n",
    "    f_njy = np.asarray(f_njy)\n",
    "    mag = np.full_like(f_njy, fill_value=np.nan, dtype=float)\n",
    "    mask = f_njy > 0\n",
    "    mag[mask] = -2.5 * np.log10(f_njy[mask]) + 31.4\n",
    "    return mag\n",
    "\n",
    "\n",
    "def nJy_err_to_ab_err(f_njy, f_err):\n",
    "    \"\"\"Propagate flux error to magnitude error.\"\"\"\n",
    "    f_njy = np.asarray(f_njy)\n",
    "    f_err = np.asarray(f_err)\n",
    "    mag_err = np.full_like(f_njy, fill_value=np.nan, dtype=float)\n",
    "    mask = (f_njy > 0) & (f_err > 0)\n",
    "    mag_err[mask] = (2.5 / np.log(10)) * (f_err[mask] / f_njy[mask])\n",
    "    return mag_err"
   ]
  },
  {
   "cell_type": "code",
   "execution_count": null,
   "id": "3196f32a-8f86-42d9-a1e9-9ccec528eb10",
   "metadata": {
    "execution": {
     "iopub.execute_input": "2025-05-27T14:43:39.654878Z",
     "iopub.status.busy": "2025-05-27T14:43:39.654742Z",
     "iopub.status.idle": "2025-05-27T14:43:39.661566Z",
     "shell.execute_reply": "2025-05-27T14:43:39.661250Z",
     "shell.execute_reply.started": "2025-05-27T14:43:39.654864Z"
    }
   },
   "outputs": [],
   "source": [
    "def ab_mag_to_nJy(mag_ab):\n",
    "    \"\"\"Convert AB magnitude to flux in nanojanskys.\"\"\"\n",
    "    return 10 ** ((31.4 - mag_ab) / 2.5)"
   ]
  },
  {
   "cell_type": "code",
   "execution_count": null,
   "id": "c43cffed-50f6-420b-a264-0b3ed921ead2",
   "metadata": {
    "execution": {
     "iopub.execute_input": "2025-05-27T14:43:39.662233Z",
     "iopub.status.busy": "2025-05-27T14:43:39.662101Z",
     "iopub.status.idle": "2025-05-27T14:43:39.669739Z",
     "shell.execute_reply": "2025-05-27T14:43:39.669434Z",
     "shell.execute_reply.started": "2025-05-27T14:43:39.662220Z"
    }
   },
   "outputs": [],
   "source": [
    "def extract_deepCoadd_cutout(\n",
    "    ra_deg,\n",
    "    dec_deg,\n",
    "    tractInfo,\n",
    "    patchInfo,\n",
    "    band,\n",
    "    butler,\n",
    "    skymapName,\n",
    "    cutout_size_pixels,\n",
    "    collection,\n",
    "):\n",
    "    \"\"\"\n",
    "    Extract a square cutout from a deepCoadd image centered on given sky coordinates.\n",
    "\n",
    "    Parameters\n",
    "    ----------\n",
    "    ra_deg : float\n",
    "        Right ascension in degrees.\n",
    "    dec_deg : float\n",
    "        Declination in degrees.\n",
    "    tractInfo : lsst.skymap.TractInfo\n",
    "        Tract information object (from SkyMap).\n",
    "    patchInfo : lsst.skymap.PatchInfo\n",
    "        Patch information object (from SkyMap).\n",
    "    band : str\n",
    "        Photometric band (e.g., 'i', 'r', 'g').\n",
    "    butler : lsst.daf.butler.Butler\n",
    "        Butler instance to access LSST data.\n",
    "    cutout_size_pixels : int, optional\n",
    "        Size of the cutout in pixels (square region), default is 200.\n",
    "    collection : str, optional\n",
    "        Name of the collection containing deepCoadd data.\n",
    "\n",
    "    Returns\n",
    "    -------\n",
    "    cutout : lsst.afw.image.ExposureF\n",
    "        The extracted image cutout.\n",
    "    wcs : lsst.afw.geom.SkyWcs\n",
    "        World Coordinate System associated with the cutout.\n",
    "    metadata : lsst.daf.base.PropertyList\n",
    "        FITS metadata header for the cutout image.\n",
    "    \"\"\"\n",
    "\n",
    "    # Build dataId for the deepCoadd image\n",
    "    tract = tractInfo.getId()\n",
    "    patch = patchInfo.getSequentialIndex()\n",
    "    dataId = dict(tract=tract, patch=patch, band=band, skymap=skymapName)\n",
    "\n",
    "    # Retrieve the deepCoadd exposure\n",
    "    exposure = butler.get(\"deepCoadd\", dataId=dataId, collections=collection)\n",
    "    image_bbox = exposure.getBBox()\n",
    "\n",
    "    # Convert sky coordinates (RA, Dec) to pixel coordinates using WCS\n",
    "    coord = SpherePoint(ra_deg, dec_deg, degrees)\n",
    "    wcs = exposure.getWcs()\n",
    "    pixel_center = wcs.skyToPixel(coord)\n",
    "\n",
    "    half_size = cutout_size_pixels // 2\n",
    "\n",
    "    # Centre du cutout\n",
    "    center_x = int(pixel_center.getX())\n",
    "    center_y = int(pixel_center.getY())\n",
    "\n",
    "    # Coordonnées du coin en bas à gauche\n",
    "    corner_x = max(center_x - half_size, image_bbox.getMinX())\n",
    "    corner_y = max(center_y - half_size, image_bbox.getMinY())\n",
    "\n",
    "    # Ne pas dépasser la taille max de l'image\n",
    "    corner_x = min(corner_x, image_bbox.getMaxX() - cutout_size_pixels)\n",
    "    corner_y = min(corner_y, image_bbox.getMaxY() - cutout_size_pixels)\n",
    "\n",
    "    # Define a square bounding box around the target pixel\n",
    "    # Création du BBox valide\n",
    "    corner = Point2I(corner_x, corner_y)\n",
    "    bbox = Box2I(corner, Extent2I(cutout_size_pixels, cutout_size_pixels))\n",
    "\n",
    "    # Extract the cutout from the original exposure\n",
    "    cutout = exposure.Factory(exposure, bbox, deep=True)\n",
    "\n",
    "    return cutout, cutout.getWcs(), cutout.getMetadata()"
   ]
  },
  {
   "cell_type": "code",
   "execution_count": null,
   "id": "d94bf53c-8a47-4272-b4c3-862d90f27776",
   "metadata": {
    "execution": {
     "iopub.execute_input": "2025-05-27T14:43:39.670276Z",
     "iopub.status.busy": "2025-05-27T14:43:39.670152Z",
     "iopub.status.idle": "2025-05-27T14:43:39.677347Z",
     "shell.execute_reply": "2025-05-27T14:43:39.677015Z",
     "shell.execute_reply.started": "2025-05-27T14:43:39.670263Z"
    }
   },
   "outputs": [],
   "source": [
    "def RetrieveDRPObject_forTarget(butler,center_coord,datasettype,where_clause,collection,radius_cut=50):\n",
    "    \"\"\"\n",
    "    Find the closest DRP objectto the target_coord \n",
    "\n",
    "    parameters:\n",
    "    - butler\n",
    "    - the coordinate of the target (center of the cone seach)\n",
    "    - the datasettype name for the DRP object\n",
    "    - where_clause : which contrain requirements on the tract and patch numbers\n",
    "    - cut on angluar separation for the returned for the returned object\n",
    "\n",
    "    Return\n",
    "    - object Id with minimum separation , \n",
    "    - minimum separation (arcec),\n",
    "    - the table of DRP objects within the radius_cut\n",
    "    \"\"\"\n",
    "\n",
    "    ra_columns = ['u_ra', 'g_ra', 'r_ra', 'i_ra', 'z_ra', 'y_ra']\n",
    "    dec_columns = ['u_dec', 'g_dec', 'r_dec', 'i_dec', 'z_dec', 'y_dec']\n",
    "\n",
    "    \n",
    "    therefs = butler.registry.queryDatasets(datasettype,  collections=collection, where=where_clause)\n",
    "\n",
    "    for count,ref in enumerate(therefs):\n",
    "        the_id = ref.dataId\n",
    "        the_tract_id = the_id[\"tract\"] \n",
    "        print(the_id)\n",
    "        \n",
    "        # catalog of rubin objects (a pandas Dataframe) inside the tract\n",
    "        catalog = butler.get(ref)\n",
    "        catalog = catalog[catalog[\"patch\"] == patchNbSel] \n",
    "       \n",
    "    \n",
    "        nobjects = len(catalog)\n",
    "\n",
    "\n",
    "        # Calcul de la moyenne ligne par ligne, en ignorant les NaN\n",
    "        catalog['ra'] = catalog[ra_columns].mean(axis=1, skipna=True)\n",
    "        catalog['dec'] = catalog[dec_columns].mean(axis=1, skipna=True)\n",
    "\n",
    "\n",
    "        # extract the (ra,dec) coordinates for all te objects of the rubin-catalog\n",
    "        ra_cat = catalog[\"ra\"].values\n",
    "        dec_cat = catalog[\"dec\"].values\n",
    "        # coordinates for all rubin-catalog points\n",
    "        catalog_coords = SkyCoord(ra=ra_cat*u.deg, dec=dec_cat*u.deg)\n",
    "\n",
    "        # Angular distance to target\n",
    "        distances_arcsec = center_coord.separation(catalog_coords).arcsecond\n",
    "\n",
    "        # add the separation angle to the ctalog\n",
    "        catalog[\"sep\"] = distances_arcsec\n",
    "\n",
    "\n",
    "        # closest object from the target\n",
    "        sepMin = distances_arcsec.min() \n",
    "        sepMin_idx = np.where(distances_arcsec == sepMin)[0][0]\n",
    "    \n",
    "        closest_obj = catalog[catalog[\"sep\"] <=  sepMin]\n",
    "                   \n",
    "        # select a few of these sources to debug the closest candidate\n",
    "        nearby_obj = catalog[distances_arcsec < radius_cut]\n",
    "        \n",
    "        return closest_obj, sepMin, nearby_obj\n",
    "\n",
    "      "
   ]
  },
  {
   "cell_type": "markdown",
   "id": "7e369002-01db-40e2-a7b7-036072114e6a",
   "metadata": {},
   "source": [
    "## RubinTV, Campaigns , quicklook\n",
    "- RubinTV : https://usdf-rsp.slac.stanford.edu/rubintv/summit-usdf/lsstcam\n",
    "- https://rubinobs.atlassian.net/wiki/spaces/LSSTCOM/pages/467370016/LSSTCam+Commissioning+Planning\n",
    "- LSSTCam DM campaign : https://rubinobs.atlassian.net/wiki/spaces/DM/pages/48834013/Campaigns#1.1.2.-LSSTCam-Nightly-Validation-Pipeline\n",
    "- Check campaign also here  https://rubinobs.atlassian.net/wiki/pages/diffpagesbyversion.action?pageId=48834013&selectedPageVersions=145%2C143\n",
    "- fov-quicklook : https://usdf-rsp-dev.slac.stanford.edu/fov-quicklook/"
   ]
  },
  {
   "cell_type": "markdown",
   "id": "4ce495c8-71a6-4846-86fc-5715e13348ab",
   "metadata": {},
   "source": [
    "## Configuration"
   ]
  },
  {
   "cell_type": "code",
   "execution_count": null,
   "id": "91e7b166-6245-4e54-8cb1-21f34fbba78f",
   "metadata": {
    "execution": {
     "iopub.execute_input": "2025-05-27T14:43:39.677968Z",
     "iopub.status.busy": "2025-05-27T14:43:39.677841Z",
     "iopub.status.idle": "2025-05-27T14:43:39.683874Z",
     "shell.execute_reply": "2025-05-27T14:43:39.683584Z",
     "shell.execute_reply.started": "2025-05-27T14:43:39.677956Z"
    }
   },
   "outputs": [],
   "source": [
    "FLAG_DUMP_COLLECTIONS = False\n",
    "FLAG_DUMP_DATASETS = False\n",
    "FLAG_DUMP_OBJECTSTABLECOLUMNS = False\n",
    "FLAG_CUT_OBJECTSPRIMARY = False # check this flag may throw the SL\n",
    "FLAG_CUT_OBJECTSMAG = False\n",
    "FLAG_CUT_OBJECTSSNR = False"
   ]
  },
  {
   "cell_type": "code",
   "execution_count": null,
   "id": "b0cd343d-97e1-4eca-90a8-8d1423c5333d",
   "metadata": {
    "execution": {
     "iopub.execute_input": "2025-05-27T14:43:39.684393Z",
     "iopub.status.busy": "2025-05-27T14:43:39.684269Z",
     "iopub.status.idle": "2025-05-27T14:43:39.690984Z",
     "shell.execute_reply": "2025-05-27T14:43:39.690651Z",
     "shell.execute_reply.started": "2025-05-27T14:43:39.684380Z"
    }
   },
   "outputs": [],
   "source": [
    "MAGCUT = 25.0\n",
    "SNRCUT = 5.0"
   ]
  },
  {
   "cell_type": "code",
   "execution_count": null,
   "id": "566b4b6f-68ac-472f-9a14-9645d06d291a",
   "metadata": {
    "execution": {
     "iopub.execute_input": "2025-05-27T14:43:39.691508Z",
     "iopub.status.busy": "2025-05-27T14:43:39.691375Z",
     "iopub.status.idle": "2025-05-27T14:43:39.698120Z",
     "shell.execute_reply": "2025-05-27T14:43:39.697827Z",
     "shell.execute_reply.started": "2025-05-27T14:43:39.691495Z"
    }
   },
   "outputs": [],
   "source": [
    "all_bands = [\"u\", \"g\", \"r\", \"i\", \"z\", \"y\"]\n",
    "all_bands_colors = [\"blue\", \"green\", \"red\", \"orange\", \"grey\", \"purple\"]"
   ]
  },
  {
   "cell_type": "markdown",
   "id": "29bdd60b-f237-4a90-8aee-95f83091a5c8",
   "metadata": {},
   "source": [
    "### Choose instrument"
   ]
  },
  {
   "cell_type": "code",
   "execution_count": null,
   "id": "66ff700b-a6ab-4b6d-ab28-dfadf54fdd9f",
   "metadata": {
    "execution": {
     "iopub.execute_input": "2025-05-27T14:43:39.698654Z",
     "iopub.status.busy": "2025-05-27T14:43:39.698529Z",
     "iopub.status.idle": "2025-05-27T14:43:39.705324Z",
     "shell.execute_reply": "2025-05-27T14:43:39.704978Z",
     "shell.execute_reply.started": "2025-05-27T14:43:39.698642Z"
    }
   },
   "outputs": [],
   "source": [
    "# instrument = \"LSSTCam\"\n",
    "\n",
    "# We focus here on sky fields oberved by LSSTComCam, so we select this camera\n",
    "instrument = \"LSSTComCam\""
   ]
  },
  {
   "cell_type": "markdown",
   "id": "6a07464c-6f2e-4015-8ea6-1fbc5698c1dd",
   "metadata": {},
   "source": [
    "### Choose options"
   ]
  },
  {
   "cell_type": "markdown",
   "id": "29fc15af-ca3f-4c38-99ec-433e84dae8a2",
   "metadata": {},
   "source": [
    "### For LSSTCam : RubinTV, Campaigns , quicklook\n",
    "- RubinTV : https://usdf-rsp.slac.stanford.edu/rubintv/summit-usdf/lsstcam\n",
    "- https://rubinobs.atlassian.net/wiki/spaces/LSSTCOM/pages/467370016/LSSTCam+Commissioning+Planning\n",
    "- LSSTCam DM campaign : https://rubinobs.atlassian.net/wiki/spaces/DM/pages/48834013/Campaigns#1.1.2.-LSSTCam-Nightly-Validation-Pipeline\n",
    "- Check campaign also here  https://rubinobs.atlassian.net/wiki/pages/diffpagesbyversion.action?pageId=48834013&selectedPageVersions=145%2C143\n",
    "- fov-quicklook : https://usdf-rsp-dev.slac.stanford.edu/fov-quicklook/"
   ]
  },
  {
   "cell_type": "markdown",
   "id": "5542de7d-695e-4256-b765-28b902b02adc",
   "metadata": {},
   "source": [
    "### For LSSTComCam check here : \n",
    "- Check here the collection available : https://rubinobs.atlassian.net/wiki/spaces/DM/pages/226656354/LSSTComCam+Intermittent+Cumulative+DRP+Runs"
   ]
  },
  {
   "cell_type": "code",
   "execution_count": null,
   "id": "eacb14b0-183c-4dcd-ba59-64c7ca3efcd3",
   "metadata": {
    "execution": {
     "iopub.execute_input": "2025-05-27T14:43:39.705828Z",
     "iopub.status.busy": "2025-05-27T14:43:39.705695Z",
     "iopub.status.idle": "2025-05-27T14:43:39.712895Z",
     "shell.execute_reply": "2025-05-27T14:43:39.712597Z",
     "shell.execute_reply.started": "2025-05-27T14:43:39.705815Z"
    }
   },
   "outputs": [],
   "source": [
    "if instrument == \"LSSTCam\":\n",
    "    repo = \"/repo/embargo\"\n",
    "    instrument = \"LSSTCam\"\n",
    "    collection_validation = instrument + \"/runs/nightlyValidation\"\n",
    "    # collection_quicklook   = instrument + '/runs/quickLookTesting'\n",
    "    collection_validation = os.path.join(collection_validation, \"20250416/d_2025_04_15/DM-50157\")\n",
    "    date_start = 20250415\n",
    "    date_selection = 20250416\n",
    "    where_clause = \"instrument = '\" + f\"{instrument}\" + \"'\"\n",
    "    where_clause_date = where_clause + f\"and day_obs >= {date_start}\"\n",
    "    skymapName = \"lsst_cells_v1\"\n",
    "    BANDSEL = \"i\"\n",
    "\n",
    "elif instrument == \"LSSTComCam\":\n",
    "    repo = \"/repo/main\"\n",
    "    collection_validation = \"LSSTComCam/runs/DRP/DP1/w_2025_10/DM-49359\"  # work 2025-05-01\n",
    "    # collection_validation = \"LSSTComCam/runs/DRP/DP1/w_2025_17/DM-50530\" #updated 2025-05-02\n",
    "    date_start = 20241024\n",
    "    date_selection = 20241211\n",
    "    skymapName = \"lsst_cells_v1\"\n",
    "    where_clause = \"instrument = '\" + instrument + \"'\"\n",
    "    where_clause_date = where_clause + f\"and day_obs >= {date_start}\"\n",
    "\n",
    "    NDET = 9\n",
    "    TRACTSEL = 5063\n",
    "    BANDSEL = \"i\""
   ]
  },
  {
   "cell_type": "code",
   "execution_count": null,
   "id": "82535307-9253-4f06-b82a-956efd0217c9",
   "metadata": {
    "execution": {
     "iopub.execute_input": "2025-05-27T14:43:39.716768Z",
     "iopub.status.busy": "2025-05-27T14:43:39.716509Z",
     "iopub.status.idle": "2025-05-27T14:43:39.719680Z",
     "shell.execute_reply": "2025-05-27T14:43:39.719375Z",
     "shell.execute_reply.started": "2025-05-27T14:43:39.716755Z"
    }
   },
   "outputs": [],
   "source": [
    "collectionStr = collection_validation.replace(\"/\", \"_\")"
   ]
  },
  {
   "cell_type": "markdown",
   "id": "e77a39ca-c34f-4097-8a11-c40a121a82e9",
   "metadata": {},
   "source": [
    "## Access to Butler registry"
   ]
  },
  {
   "cell_type": "code",
   "execution_count": null,
   "id": "8726b7e4-94b7-48ac-92f8-447b34b7a59e",
   "metadata": {
    "execution": {
     "iopub.execute_input": "2025-05-27T14:43:39.720172Z",
     "iopub.status.busy": "2025-05-27T14:43:39.720048Z",
     "iopub.status.idle": "2025-05-27T14:43:40.209120Z",
     "shell.execute_reply": "2025-05-27T14:43:40.208585Z",
     "shell.execute_reply.started": "2025-05-27T14:43:39.720159Z"
    }
   },
   "outputs": [],
   "source": [
    "# Initialize the butler repo:\n",
    "butler = Butler(repo, collections=collection_validation)\n",
    "registry = butler.registry"
   ]
  },
  {
   "cell_type": "markdown",
   "id": "a82d1397-cd01-45d3-9f39-8b4f6bcbb21f",
   "metadata": {},
   "source": [
    "## Create a skymap object and Camera"
   ]
  },
  {
   "cell_type": "code",
   "execution_count": null,
   "id": "2a570834-a5dc-43b8-a0d3-af71a5b2706c",
   "metadata": {
    "execution": {
     "iopub.execute_input": "2025-05-27T14:43:40.209896Z",
     "iopub.status.busy": "2025-05-27T14:43:40.209711Z",
     "iopub.status.idle": "2025-05-27T14:43:40.618176Z",
     "shell.execute_reply": "2025-05-27T14:43:40.617623Z",
     "shell.execute_reply.started": "2025-05-27T14:43:40.209870Z"
    }
   },
   "outputs": [],
   "source": [
    "skymap = butler.get(\"skyMap\", skymap=skymapName, collections=collection_validation)"
   ]
  },
  {
   "cell_type": "code",
   "execution_count": null,
   "id": "8870762e-6e5d-4a6d-b101-1783285b1935",
   "metadata": {
    "execution": {
     "iopub.execute_input": "2025-05-27T14:43:40.618916Z",
     "iopub.status.busy": "2025-05-27T14:43:40.618764Z",
     "iopub.status.idle": "2025-05-27T14:43:41.211453Z",
     "shell.execute_reply": "2025-05-27T14:43:41.210913Z",
     "shell.execute_reply.started": "2025-05-27T14:43:40.618900Z"
    }
   },
   "outputs": [],
   "source": [
    "camera = butler.get(\"camera\", collections=collection_validation, instrument=instrument)"
   ]
  },
  {
   "cell_type": "markdown",
   "id": "f0e61f09-1f15-4f29-9555-d4015b09c5cc",
   "metadata": {},
   "source": [
    "## Query for collections in Butler\n",
    "\n",
    "- remove user collections\n",
    "- remove calibration products"
   ]
  },
  {
   "cell_type": "code",
   "execution_count": null,
   "id": "55edfcaa-96c0-49dc-827c-0167a0b6f731",
   "metadata": {
    "execution": {
     "iopub.execute_input": "2025-05-27T14:43:41.212358Z",
     "iopub.status.busy": "2025-05-27T14:43:41.212193Z",
     "iopub.status.idle": "2025-05-27T14:43:41.215113Z",
     "shell.execute_reply": "2025-05-27T14:43:41.214715Z",
     "shell.execute_reply.started": "2025-05-27T14:43:41.212341Z"
    }
   },
   "outputs": [],
   "source": [
    "# mostly setup for LSSTCam\n",
    "if FLAG_DUMP_COLLECTIONS:\n",
    "    for _ in sorted(registry.queryCollections(expression=instrument + \"/*\")):\n",
    "        if \"/calib/\" not in _ and \"u/\" not in _:\n",
    "            print(_)"
   ]
  },
  {
   "cell_type": "markdown",
   "id": "3ff90940-a996-4174-97b4-beb8895ae7a4",
   "metadata": {},
   "source": [
    "## Query for the dataset types in the Butler\n",
    "\n",
    "- Refer to the Data Product definition Document to know about the definition of datasets\n",
    "- https://www.lsst.org/about/dm/data-products\n",
    "- https://lse-163.lsst.io/\n",
    "- https://docushare.lsst.org/docushare/dsweb/Get/LSE-163"
   ]
  },
  {
   "cell_type": "code",
   "execution_count": null,
   "id": "f06e34b6-0f25-4047-9859-a34ec32e268d",
   "metadata": {
    "execution": {
     "iopub.execute_input": "2025-05-27T14:43:41.215695Z",
     "iopub.status.busy": "2025-05-27T14:43:41.215553Z",
     "iopub.status.idle": "2025-05-27T14:43:41.223687Z",
     "shell.execute_reply": "2025-05-27T14:43:41.223322Z",
     "shell.execute_reply.started": "2025-05-27T14:43:41.215680Z"
    }
   },
   "outputs": [],
   "source": [
    "if FLAG_DUMP_DATASETS:\n",
    "    for datasetType in registry.queryDatasetTypes():\n",
    "        if registry.queryDatasets(datasetType, collections=collection_validation).any(\n",
    "            execute=False, exact=False\n",
    "        ):\n",
    "            # Limit search results to the data products\n",
    "            if (\n",
    "                (\"_config\" not in datasetType.name)\n",
    "                and (\"_log\" not in datasetType.name)\n",
    "                and (\"_metadata\" not in datasetType.name)\n",
    "                and (\"_resource_usage\" not in datasetType.name)\n",
    "                and (\"Plot\" not in datasetType.name)\n",
    "                and (\"Metric\" not in datasetType.name)\n",
    "                and (\"metric\" not in datasetType.name)\n",
    "            ):\n",
    "                if \"object\" in datasetType.name or \"Obj\" in datasetType.name:\n",
    "                    print(datasetType)\n",
    "#                if \"source\" in datasetType.name or \"Source\" in datasetType.name:\n",
    "#                    print(datasetType)"
   ]
  },
  {
   "cell_type": "markdown",
   "id": "f78111e1-238c-4641-b3c1-0faebbbb89b1",
   "metadata": {},
   "source": [
    "## List of Strong Lenses\n",
    "\n",
    "- article : https://arxiv.org/pdf/1104.0931"
   ]
  },
  {
   "cell_type": "code",
   "execution_count": null,
   "id": "83565827-8d39-46f6-a43c-1559923a739d",
   "metadata": {
    "execution": {
     "iopub.execute_input": "2025-05-27T14:43:41.224406Z",
     "iopub.status.busy": "2025-05-27T14:43:41.224131Z",
     "iopub.status.idle": "2025-05-27T14:43:41.231003Z",
     "shell.execute_reply": "2025-05-27T14:43:41.230641Z",
     "shell.execute_reply.started": "2025-05-27T14:43:41.224389Z"
    }
   },
   "outputs": [],
   "source": [
    "#15422 44 03:32:38.21 –27:56:53.2 \n",
    "ra1 = \"03:32:38.21 hours\"\n",
    "dec1 = \"-27:56:53.2 degrees\"\n",
    "tile1 = 44\n",
    "\n",
    "#34244 94 03:32:06.45 –27:47:28.6 \n",
    "ra2 = \"03:32:06.45 hours\"\n",
    "dec2 = \"-27:47:28.6 degrees\"\n",
    "tile2 = 94\n",
    "# Je ne trouve pas cette tile ==> FindTileForCutoutGEM\n",
    "tile2 = 32\n",
    "\n",
    "#40173 35 03:33:19.45 –27:44:50.0 \n",
    "ra3 = \"03:33:19.45 hours\"\n",
    "dec3 = \"-27:44:50.0 degrees\"\n",
    "tile3 = 35\n",
    "\n",
    "#43242 45 03:31:55.35 –27:43:23.5 \n",
    "ra4 = \"03:31:55.35 hours\"\n",
    "dec4 = \"-27:43:23.5 degrees\"\n",
    "tile4 = 45\n",
    "\n",
    "#46446 47 03:31:35.94 –27:41:48.2 \n",
    "ra5 = \"03:31:35.94 hours\"\n",
    "dec5 = \"-27:41:48.2 degrees\"\n",
    "tile5 = 47\n",
    "\n",
    "#12589 03:31:24.89 −27:58:07.0\n",
    "ra6 = \"03:31:24.89 hours\"\n",
    "dec6 = \"-27:58:07.0 degrees\"\n",
    "tile6 = 17\n",
    "\n",
    "#43797 03:31:31.74 −27:43:00.8 \n",
    "ra7 = \"03:31:31.74 hours\"\n",
    "dec7 = \"-27:43:00.8 degrees\"\n",
    "tile7 = 47\n",
    "\n",
    "#28294 03:31:50.54 −27:50:28.4 \n",
    "ra8 = \"03:31:50.54 hours\"\n",
    "dec8 = \"-27:50:28.4 degrees\"\n",
    "tile8 = 33\n",
    "\n",
    "#36857 03:31:53.24 −27:46:18.9\n",
    "ra9 = \"03:31:53.24 hours\"\n",
    "dec9 = \"-27:46:18.9 degrees\"\n",
    "tile9 = 38\n",
    "\n",
    "#36714 03:32:59.78 −27:46:26.4 \n",
    "ra10 = \"03:32:59.78 hours\"\n",
    "dec10 = \"-27:46:26.4 degrees\"\n",
    "tile10 = 37\n"
   ]
  },
  {
   "cell_type": "code",
   "execution_count": null,
   "id": "0cfcdfaf-83c8-4419-97a4-ba8df5346ca2",
   "metadata": {
    "execution": {
     "iopub.execute_input": "2025-05-27T14:43:41.231547Z",
     "iopub.status.busy": "2025-05-27T14:43:41.231417Z",
     "iopub.status.idle": "2025-05-27T14:43:41.249878Z",
     "shell.execute_reply": "2025-05-27T14:43:41.249479Z",
     "shell.execute_reply.started": "2025-05-27T14:43:41.231533Z"
    }
   },
   "outputs": [],
   "source": [
    "ra = Angle(ra10)\n",
    "print(ra.degree)\n",
    "dec = Angle(dec10)\n",
    "print(dec.degree)"
   ]
  },
  {
   "cell_type": "code",
   "execution_count": null,
   "id": "ec22e51f-cd77-4973-bbee-684e50f30669",
   "metadata": {
    "execution": {
     "iopub.execute_input": "2025-05-27T14:43:41.250540Z",
     "iopub.status.busy": "2025-05-27T14:43:41.250331Z",
     "iopub.status.idle": "2025-05-27T14:43:41.254278Z",
     "shell.execute_reply": "2025-05-27T14:43:41.253919Z",
     "shell.execute_reply.started": "2025-05-27T14:43:41.250525Z"
    }
   },
   "outputs": [],
   "source": [
    "lsstcomcam_targets = {}\n",
    "# high rank\n",
    "lsstcomcam_targets[\"ECDFS_G15422\"] = {\"field_name\": \"GEMS-15422\", \"ra\": 53.159208333333325, \"dec\": -27.94811111111111,\"tile\":tile1}\n",
    "lsstcomcam_targets[\"ECDFS_G34244\"] = {\"field_name\": \"GEMS-34244\", \"ra\": 53.02687499999999 , \"dec\": -27.79127777777778,\"tile\":tile2}\n",
    "lsstcomcam_targets[\"ECDFS_G40173\"] = {\"field_name\": \"GEMS-40173\", \"ra\": 53.33104166666666 , \"dec\": -27.747222222222224,\"tile\":tile3}\n",
    "lsstcomcam_targets[\"ECDFS_G43242\"] = {\"field_name\": \"GEMS-43242\", \"ra\": 52.980624999999996 , \"dec\": -27.72319444444444,\"tile\":tile4}\n",
    "lsstcomcam_targets[\"ECDFS_G46446\"] = {\"field_name\": \"GEMS-46446\", \"ra\": 52.89975 , \"dec\": -27.696722222222224,\"tile\":tile5}\n",
    "\n",
    "# low rank\n",
    "lsstcomcam_targets[\"ECDFS_G12589\"] = {\"field_name\": \"GEMS-12589\", \"ra\": 52.85370833333333, \"dec\": -27.96861111111111,\"tile\":tile6}\n",
    "lsstcomcam_targets[\"ECDFS_G43797\"] = {\"field_name\": \"GEMS-43797\", \"ra\": 52.88224999999999, \"dec\": -27.71688888888889,\"tile\":tile7}\n",
    "\n",
    "lsstcomcam_targets[\"ECDFS_G28294\"] = {\"field_name\": \"GEMS-28294\", \"ra\": 52.960583333333325 , \"dec\": -27.84122222222222,\"tile\":tile8}\n",
    "lsstcomcam_targets[\"ECDFS_G6857\"] = {\"field_name\": \"GEMS-6857\", \"ra\": 52.97183333333333 , \"dec\": -27.771916666666666,\"tile\":tile9}\n",
    "lsstcomcam_targets[\"ECDFS_G36714\"] = {\"field_name\": \"GEMS-36714\", \"ra\": 53.249083333333324, \"dec\": -27.773999999999997,\"tile\":tile10}\n"
   ]
  },
  {
   "cell_type": "code",
   "execution_count": null,
   "id": "bcfe9889-0f87-40fa-8bd1-68167073b74d",
   "metadata": {
    "execution": {
     "iopub.execute_input": "2025-05-27T14:43:41.254975Z",
     "iopub.status.busy": "2025-05-27T14:43:41.254723Z",
     "iopub.status.idle": "2025-05-27T14:43:41.261172Z",
     "shell.execute_reply": "2025-05-27T14:43:41.260819Z",
     "shell.execute_reply.started": "2025-05-27T14:43:41.254959Z"
    }
   },
   "outputs": [],
   "source": [
    "df = pd.DataFrame(lsstcomcam_targets).T"
   ]
  },
  {
   "cell_type": "code",
   "execution_count": null,
   "id": "6db2938f-f03d-472f-b310-72e4c0ab837a",
   "metadata": {
    "execution": {
     "iopub.execute_input": "2025-05-27T14:43:41.261713Z",
     "iopub.status.busy": "2025-05-27T14:43:41.261581Z",
     "iopub.status.idle": "2025-05-27T14:43:41.271960Z",
     "shell.execute_reply": "2025-05-27T14:43:41.271594Z",
     "shell.execute_reply.started": "2025-05-27T14:43:41.261700Z"
    }
   },
   "outputs": [],
   "source": [
    "df"
   ]
  },
  {
   "cell_type": "code",
   "execution_count": null,
   "id": "bb55c95c-abb6-4f5e-bcde-7d7e795c4dc9",
   "metadata": {
    "execution": {
     "iopub.execute_input": "2025-05-27T14:43:41.272667Z",
     "iopub.status.busy": "2025-05-27T14:43:41.272408Z",
     "iopub.status.idle": "2025-05-27T14:43:41.276023Z",
     "shell.execute_reply": "2025-05-27T14:43:41.275661Z",
     "shell.execute_reply.started": "2025-05-27T14:43:41.272652Z"
    }
   },
   "outputs": [],
   "source": [
    "# candidates\n",
    "key = \"ECDFS_G15422\"\n",
    "#key = \"ECDFS_G34244\"\n",
    "#key = \"ECDFS_G40173\"\n",
    "#key= \"ECDFS_G43242\"\n",
    "#key= \"ECDFS_G46446\"\n",
    "\n",
    "# unknown\n",
    "#key = \"ECDFS_G12589\"\n",
    "#key = \"ECDFS_G43797\"\n",
    "#key = \"ECDFS_G28294\"\n",
    "#key = \"ECDFS_G6857\"\n",
    "#key = \"ECDFS_G36714\"\n",
    "\n",
    "the_target = lsstcomcam_targets[key]\n",
    "target_ra = the_target[\"ra\"]\n",
    "target_dec = the_target[\"dec\"]\n",
    "target_name = the_target[\"field_name\"]\n",
    "\n",
    "target_title = (\n",
    "    the_target[\"field_name\"] + f\" band  {BANDSEL} \" + f\" (ra,dec) = ({target_ra:.2f},{target_dec:.2f}) \"\n",
    ")\n",
    "target_point = SpherePoint(target_ra, target_dec, degrees)\n",
    "target_coord = SkyCoord(ra=target_ra*u.deg, dec=target_dec*u.deg)"
   ]
  },
  {
   "cell_type": "markdown",
   "id": "5097cdde-6283-4499-aaaa-57e799bdd53a",
   "metadata": {},
   "source": [
    "## Get list of tracts from the objectTable_tract"
   ]
  },
  {
   "cell_type": "code",
   "execution_count": null,
   "id": "3560cdd4-3d7e-4325-a3f5-07a0d70a8360",
   "metadata": {
    "execution": {
     "iopub.execute_input": "2025-05-27T14:43:41.276550Z",
     "iopub.status.busy": "2025-05-27T14:43:41.276415Z",
     "iopub.status.idle": "2025-05-27T14:43:41.282377Z",
     "shell.execute_reply": "2025-05-27T14:43:41.282010Z",
     "shell.execute_reply.started": "2025-05-27T14:43:41.276536Z"
    }
   },
   "outputs": [],
   "source": [
    "# Find the dimension\n",
    "print(butler.registry.getDatasetType(\"objectTable_tract\").dimensions)"
   ]
  },
  {
   "cell_type": "code",
   "execution_count": null,
   "id": "e07d2107-8c9e-485e-89bc-ec6e52fa10f4",
   "metadata": {
    "execution": {
     "iopub.execute_input": "2025-05-27T14:43:41.283064Z",
     "iopub.status.busy": "2025-05-27T14:43:41.282930Z",
     "iopub.status.idle": "2025-05-27T14:43:41.358325Z",
     "shell.execute_reply": "2025-05-27T14:43:41.357898Z",
     "shell.execute_reply.started": "2025-05-27T14:43:41.283051Z"
    }
   },
   "outputs": [],
   "source": [
    "datasettype = \"objectTable_tract\"\n",
    "therefs = butler.registry.queryDatasets(datasettype, collections=collection_validation)\n",
    "tractsId_list = np.unique([ref.dataId[\"tract\"] for ref in therefs])\n",
    "tractsId_list = sorted(tractsId_list)\n",
    "print(tractsId_list)"
   ]
  },
  {
   "cell_type": "markdown",
   "id": "f060f57d-ac96-4ec7-8a94-f760e118248a",
   "metadata": {},
   "source": [
    "## Find the Tract and Patch of the region of interest\n",
    "\n",
    "- tract in tractNbSel\n",
    "- patch in patchNbSel"
   ]
  },
  {
   "cell_type": "code",
   "execution_count": null,
   "id": "ea99cc96-a0bf-4dec-9418-895e5569688b",
   "metadata": {
    "execution": {
     "iopub.execute_input": "2025-05-27T14:43:41.358993Z",
     "iopub.status.busy": "2025-05-27T14:43:41.358850Z",
     "iopub.status.idle": "2025-05-27T14:43:41.364395Z",
     "shell.execute_reply": "2025-05-27T14:43:41.364004Z",
     "shell.execute_reply.started": "2025-05-27T14:43:41.358978Z"
    }
   },
   "outputs": [],
   "source": [
    "tract_info = skymap.findTract(target_point)\n",
    "patch_info = tract_info.findPatch(target_point)\n",
    "bbox = patch_info.getOuterBBox()\n",
    "\n",
    "print(\"Patch bounding box:\", bbox)\n",
    "\n",
    "print(\"Tract ID :\", tract_info.getId())\n",
    "tractNbSel = tract_info.getId()\n",
    "\n",
    "print(\"Patch Index :\", patch_info.getIndex(), \" , \", patch_info.getSequentialIndex())  # (x, y)\n",
    "print(\"Bounding Box\", bbox)\n",
    "\n",
    "patchNbSel = patch_info.getSequentialIndex()"
   ]
  },
  {
   "cell_type": "code",
   "execution_count": null,
   "id": "e1df364f-89a7-4a94-9541-89a05d75004c",
   "metadata": {
    "execution": {
     "iopub.execute_input": "2025-05-27T14:43:41.365011Z",
     "iopub.status.busy": "2025-05-27T14:43:41.364867Z",
     "iopub.status.idle": "2025-05-27T14:43:41.370484Z",
     "shell.execute_reply": "2025-05-27T14:43:41.370120Z",
     "shell.execute_reply.started": "2025-05-27T14:43:41.364997Z"
    }
   },
   "outputs": [],
   "source": [
    "dataId = {\"band\": BANDSEL, \"tract\": tractNbSel, \"patch\": patchNbSel, \"skymap\": skymapName}"
   ]
  },
  {
   "cell_type": "code",
   "execution_count": null,
   "id": "fde4e025-7c01-4596-ab7e-581cb4a85e36",
   "metadata": {
    "execution": {
     "iopub.execute_input": "2025-05-27T14:43:41.371198Z",
     "iopub.status.busy": "2025-05-27T14:43:41.370946Z",
     "iopub.status.idle": "2025-05-27T14:43:41.377287Z",
     "shell.execute_reply": "2025-05-27T14:43:41.376920Z",
     "shell.execute_reply.started": "2025-05-27T14:43:41.371184Z"
    }
   },
   "outputs": [],
   "source": [
    "full_target_title = target_title + f\"(t,p) = ({tractNbSel}, {patchNbSel})\""
   ]
  },
  {
   "cell_type": "markdown",
   "id": "131ff71d-cee0-4141-ac33-c8f33758a584",
   "metadata": {},
   "source": [
    "## The Objects\n",
    "\n",
    "- Objects are extracted from object detection on deepcoadds\n",
    "- all bands are included "
   ]
  },
  {
   "cell_type": "markdown",
   "id": "f8e3ae2c-4b9d-47c0-8328-07ff07cd9499",
   "metadata": {},
   "source": [
    "### The objects : methods 1"
   ]
  },
  {
   "cell_type": "code",
   "execution_count": null,
   "id": "c825948c-ebff-4718-9647-10dcf8bc9de3",
   "metadata": {
    "execution": {
     "iopub.execute_input": "2025-05-27T14:43:41.377886Z",
     "iopub.status.busy": "2025-05-27T14:43:41.377744Z",
     "iopub.status.idle": "2025-05-27T14:43:41.385203Z",
     "shell.execute_reply": "2025-05-27T14:43:41.384849Z",
     "shell.execute_reply.started": "2025-05-27T14:43:41.377873Z"
    }
   },
   "outputs": [],
   "source": [
    "datasettype = \"objectTable\""
   ]
  },
  {
   "cell_type": "code",
   "execution_count": null,
   "id": "da53ac66-c2fc-4b54-a19b-0e6d2def56a9",
   "metadata": {
    "execution": {
     "iopub.execute_input": "2025-05-27T14:43:41.385892Z",
     "iopub.status.busy": "2025-05-27T14:43:41.385648Z",
     "iopub.status.idle": "2025-05-27T14:43:41.391933Z",
     "shell.execute_reply": "2025-05-27T14:43:41.391548Z",
     "shell.execute_reply.started": "2025-05-27T14:43:41.385878Z"
    }
   },
   "outputs": [],
   "source": [
    "print(butler.registry.getDatasetType(datasettype).dimensions)"
   ]
  },
  {
   "cell_type": "code",
   "execution_count": null,
   "id": "3e6b671b-f1c2-48ce-97ea-1eef0fa56cca",
   "metadata": {
    "execution": {
     "iopub.execute_input": "2025-05-27T14:43:41.392611Z",
     "iopub.status.busy": "2025-05-27T14:43:41.392371Z",
     "iopub.status.idle": "2025-05-27T14:43:41.400311Z",
     "shell.execute_reply": "2025-05-27T14:43:41.399779Z",
     "shell.execute_reply.started": "2025-05-27T14:43:41.392597Z"
    }
   },
   "outputs": [],
   "source": [
    "# cannot add a filter on band\n",
    "where_clause = f\"skymap = '{skymapName}' AND tract = {tractNbSel} AND patch = {patchNbSel}\"\n",
    "print(where_clause)"
   ]
  },
  {
   "cell_type": "code",
   "execution_count": null,
   "id": "064b709e-fd22-453f-a89c-8feeb6a157c7",
   "metadata": {
    "execution": {
     "iopub.execute_input": "2025-05-27T14:43:41.401206Z",
     "iopub.status.busy": "2025-05-27T14:43:41.400918Z",
     "iopub.status.idle": "2025-05-27T14:43:41.973822Z",
     "shell.execute_reply": "2025-05-27T14:43:41.973265Z",
     "shell.execute_reply.started": "2025-05-27T14:43:41.401187Z"
    }
   },
   "outputs": [],
   "source": [
    "dataset_refs = list(\n",
    "    butler.registry.queryDatasets(datasettype, collections=collection_validation, where=where_clause)\n",
    ")\n",
    "# Récupère un des refs valides\n",
    "Nrefs = len(dataset_refs)\n",
    "print(f\"Number of objectTables : {Nrefs}\")\n",
    "ref = dataset_refs[0]\n",
    "t = butler.get(ref)\n",
    "Nobj = len(t)\n",
    "# del t\n",
    "# gc.collect()\n",
    "print(f\"Total Number of objects {Nobj}\")"
   ]
  },
  {
   "cell_type": "markdown",
   "id": "584463e6-5694-4bfd-a5f3-c0021e8c64bc",
   "metadata": {
    "execution": {
     "iopub.execute_input": "2025-05-01T20:56:43.699655Z",
     "iopub.status.busy": "2025-05-01T20:56:43.699512Z",
     "iopub.status.idle": "2025-05-01T20:56:43.702758Z",
     "shell.execute_reply": "2025-05-01T20:56:43.702457Z",
     "shell.execute_reply.started": "2025-05-01T20:56:43.699640Z"
    }
   },
   "source": [
    "Oui, dans ce type de objectTable, les colonnes comme g_psfFlux, g_kronFlux, g_cModelFlux, etc., sont des flux calibrés (en nJy ou en unité de calibration interne du pipeline). Pour les convertir en magnitudes AB, tu peux utiliser la formule classique :"
   ]
  },
  {
   "cell_type": "code",
   "execution_count": null,
   "id": "069c5c04-af0c-47b3-893d-7c6ccf2c76a1",
   "metadata": {
    "execution": {
     "iopub.execute_input": "2025-05-27T14:43:41.974639Z",
     "iopub.status.busy": "2025-05-27T14:43:41.974461Z",
     "iopub.status.idle": "2025-05-27T14:43:41.977360Z",
     "shell.execute_reply": "2025-05-27T14:43:41.976968Z",
     "shell.execute_reply.started": "2025-05-27T14:43:41.974621Z"
    }
   },
   "outputs": [],
   "source": [
    "# Utilise ref.datasetType.name pour lister les colonnes disponibles\n",
    "if FLAG_DUMP_OBJECTSTABLECOLUMNS:\n",
    "    t_columns = list(butler.get(ref).columns)\n",
    "    print(t_columns)"
   ]
  },
  {
   "cell_type": "code",
   "execution_count": null,
   "id": "7c6648f9-6053-4343-aab6-56cb9648c599",
   "metadata": {
    "execution": {
     "iopub.execute_input": "2025-05-27T14:43:41.978091Z",
     "iopub.status.busy": "2025-05-27T14:43:41.977828Z",
     "iopub.status.idle": "2025-05-27T14:43:41.984866Z",
     "shell.execute_reply": "2025-05-27T14:43:41.984483Z",
     "shell.execute_reply.started": "2025-05-27T14:43:41.978076Z"
    }
   },
   "outputs": [],
   "source": [
    "# La constante 31.4 correspond à la conversion AB standard pour un flux exprimé en nanoJanskys (nJy).\n",
    "# À vérifier selon l’unité exacte utilisée par le pipeline sur ton RSP\n",
    "# (souvent c’est bien nJy, mais ça peut être autre chose si la calibration a été changée).\n",
    "# mag = -2.5 * np.log10(flux) + 31.4"
   ]
  },
  {
   "cell_type": "markdown",
   "id": "56ce3aca-2ec2-4083-b947-665ce5107500",
   "metadata": {},
   "source": [
    "## Extract the per-band tables of coordinates"
   ]
  },
  {
   "cell_type": "code",
   "execution_count": null,
   "id": "9b911b83-eb83-4f4a-8db4-0e9e7a4a4821",
   "metadata": {
    "execution": {
     "iopub.execute_input": "2025-05-27T14:43:41.985568Z",
     "iopub.status.busy": "2025-05-27T14:43:41.985318Z",
     "iopub.status.idle": "2025-05-27T14:43:43.032067Z",
     "shell.execute_reply": "2025-05-27T14:43:43.031537Z",
     "shell.execute_reply.started": "2025-05-27T14:43:41.985553Z"
    }
   },
   "outputs": [],
   "source": [
    "# Check columns definitions in https://lse-163.lsst.io/\n",
    "all_radecTable = []\n",
    "\n",
    "for band in all_bands:\n",
    "    id_name = \"objectId\"\n",
    "    id_parentname = \"parentObjectId\"\n",
    "    x_name = f\"{band}_centroid_x\"\n",
    "    y_name = f\"{band}_centroid_y\"\n",
    "    coord_ra_name = \"coord_ra\"\n",
    "    coord_dec_name = \"coord_dec\"\n",
    "    ra_name = f\"{band}_ra\"\n",
    "    dec_name = f\"{band}_dec\"\n",
    "    decl_name = f\"{band}_decl\"\n",
    "    raerr_name = f\"{band}_raErr\"\n",
    "    decerr_name = f\"{band}_decErr\"\n",
    "    extendedness_name = f\"{band}_extendedness\"\n",
    "    blendness_name = f\"{band}_blendedness\"\n",
    "    psfflux_name = f\"{band}_psfFlux\"\n",
    "    psffluxerr_name = f\"{band}_psfFluxErr\"\n",
    "    psfmag_name = f\"{band}_psfMag\"\n",
    "    psfmagerr_name = f\"{band}_psfMagErr\"\n",
    "    psfflux_free_name = f\"{band}_free_psfFlux\"\n",
    "    df = t[\n",
    "        [\n",
    "            id_name,\n",
    "            id_parentname,\n",
    "            x_name,\n",
    "            y_name,\n",
    "            coord_ra_name,\n",
    "            coord_dec_name,\n",
    "            ra_name,\n",
    "            dec_name,\n",
    "            raerr_name,\n",
    "            decerr_name,\n",
    "            decl_name,\n",
    "            extendedness_name,\n",
    "            blendness_name,\n",
    "            psfflux_name,\n",
    "            psffluxerr_name,\n",
    "        ]\n",
    "    ]\n",
    "\n",
    "    # select primary objects\n",
    "    if FLAG_CUT_OBJECTSPRIMARY: \n",
    "        #df_sel = (df[df[id_parentname] == 0]).drop([id_parentname], axis=1)\n",
    "        df_sel = df[df[id_parentname] == 0]\n",
    "    else:\n",
    "        df_sel = df\n",
    "\n",
    "    \n",
    "    # compute magnitude AB\n",
    "    df_sel[psfmag_name] = df_sel[psfflux_name].apply(nJy_to_ab_mag)\n",
    "    df_sel[psfmagerr_name] = nJy_err_to_ab_err(df_sel[psfflux_name], df_sel[psffluxerr_name])\n",
    "\n",
    "    # drop bad magnitudes\n",
    "    df_sel = df_sel[df_sel[psfmag_name] != 0.0]\n",
    "    # drop the fluxes\n",
    "    # df_sel = df_sel.drop([psfflux_name], axis=1)\n",
    "\n",
    "    # SNR\n",
    "    snr = df_sel[psfflux_name] / df_sel[psffluxerr_name]\n",
    "\n",
    "    if FLAG_CUT_OBJECTSSNR:\n",
    "        df_sel = df_sel[snr > SNRCUT]\n",
    "\n",
    "    # select bright objects\n",
    "    if FLAG_CUT_OBJECTSMAG:\n",
    "        df_sel = df_sel[df_sel[psfmag_name] < MAGCUT]\n",
    "\n",
    "    df_sel.reset_index(drop=True, inplace=True)\n",
    "\n",
    "    # save table in the list\n",
    "    all_radecTable.append(df_sel)"
   ]
  },
  {
   "cell_type": "code",
   "execution_count": null,
   "id": "b934f4bf-d6f0-442a-a223-7f9e8a564ed8",
   "metadata": {
    "execution": {
     "iopub.execute_input": "2025-05-27T14:43:43.032884Z",
     "iopub.status.busy": "2025-05-27T14:43:43.032723Z",
     "iopub.status.idle": "2025-05-27T14:43:43.035900Z",
     "shell.execute_reply": "2025-05-27T14:43:43.035497Z",
     "shell.execute_reply.started": "2025-05-27T14:43:43.032868Z"
    }
   },
   "outputs": [],
   "source": [
    "for idx, band in enumerate(all_bands):\n",
    "    df_obj = all_radecTable[idx]\n",
    "    n = len(df_obj)\n",
    "    print(f\"Number of objects in band {band} : {n}\")"
   ]
  },
  {
   "cell_type": "code",
   "execution_count": null,
   "id": "8b394e92-b507-4ec4-bedd-68b30e93bcb6",
   "metadata": {
    "execution": {
     "iopub.execute_input": "2025-05-27T14:43:43.036643Z",
     "iopub.status.busy": "2025-05-27T14:43:43.036373Z",
     "iopub.status.idle": "2025-05-27T14:43:43.052510Z",
     "shell.execute_reply": "2025-05-27T14:43:43.052141Z",
     "shell.execute_reply.started": "2025-05-27T14:43:43.036628Z"
    }
   },
   "outputs": [],
   "source": [
    "all_radecTable[0]"
   ]
  },
  {
   "cell_type": "markdown",
   "id": "9ba40e1f-5ad1-430d-b73c-84b9e95ab43a",
   "metadata": {},
   "source": [
    "## Plot Magnitudes and errors"
   ]
  },
  {
   "cell_type": "code",
   "execution_count": null,
   "id": "773ae3fc-1d17-4ca7-94fe-904ac0470db8",
   "metadata": {
    "execution": {
     "iopub.execute_input": "2025-05-27T14:43:43.053258Z",
     "iopub.status.busy": "2025-05-27T14:43:43.052996Z",
     "iopub.status.idle": "2025-05-27T14:43:43.367237Z",
     "shell.execute_reply": "2025-05-27T14:43:43.366696Z",
     "shell.execute_reply.started": "2025-05-27T14:43:43.053242Z"
    }
   },
   "outputs": [],
   "source": [
    "fig, ax = plt.subplots(1, 1, figsize=(8, 6))\n",
    "\n",
    "for ib, band in enumerate(all_bands):\n",
    "    color = all_bands_colors[ib]\n",
    "    df = all_radecTable[ib]\n",
    "    psfmag_name = f\"{band}_psfMag\"\n",
    "    label = f\"band {band}\"\n",
    "    df[psfmag_name].hist(ax=ax, bins=50, histtype=\"step\", color=color, label=label)\n",
    "ax.legend()\n",
    "ax.set_yscale(\"log\")\n",
    "ax.set_xlabel(\"psfMag\")\n",
    "ax.set_title(f\"Magnitude of object in (tract,patch) = ({tractNbSel},{patchNbSel})\")\n",
    "ax.set_xlim(12.,40.)\n",
    "plt.show()"
   ]
  },
  {
   "cell_type": "code",
   "execution_count": null,
   "id": "8ac0b8c1-d5fc-4be8-aa93-daf3e51fe7eb",
   "metadata": {
    "execution": {
     "iopub.execute_input": "2025-05-27T14:43:43.367982Z",
     "iopub.status.busy": "2025-05-27T14:43:43.367803Z",
     "iopub.status.idle": "2025-05-27T14:43:44.061090Z",
     "shell.execute_reply": "2025-05-27T14:43:44.060646Z",
     "shell.execute_reply.started": "2025-05-27T14:43:43.367965Z"
    }
   },
   "outputs": [],
   "source": [
    "fig, ax = plt.subplots(1, 1, figsize=(8, 6))\n",
    "for ib, band in enumerate(all_bands):\n",
    "    color = all_bands_colors[ib]\n",
    "    df = all_radecTable[ib]\n",
    "    psfmag_name = f\"{band}_psfMag\"\n",
    "    psfmagerr_name = f\"{band}_psfMagErr\"\n",
    "    label = f\"band {band}\"\n",
    "    df.plot.scatter(x=psfmag_name, y=psfmagerr_name, ax=ax, marker=\".\", s=10, c=color, label=label, alpha=0.5)\n",
    "    # produce a crash\n",
    "ax.axhline(0.02,color=\"k\",linestyle=\":\",label=\"$5\\sigma$ det\")\n",
    "ax.legend()\n",
    "ax.set_xlabel(\"psfMag\")\n",
    "ax.set_ylabel(\"psfMagErr\")\n",
    "ax.set_title(f\"Magnitude of Objects in (tract,patch) = ({tractNbSel},{patchNbSel})\")\n",
    "ax.set_aspect(\"auto\")\n",
    "\n",
    "ax.set_ylim(0.,0.05)\n",
    "ax.set_xlim(12.,28.)\n",
    "plt.show()"
   ]
  },
  {
   "cell_type": "markdown",
   "id": "0cb8d816-1ab8-46c7-aa4a-6ee9eedcb1de",
   "metadata": {},
   "source": [
    "### Object the methods 2\n",
    "\n",
    "- the retrieval method is implemented in RetrieveDRPObject_forTarget\n",
    "- note thos methods does not remove non-primary objects"
   ]
  },
  {
   "cell_type": "code",
   "execution_count": null,
   "id": "f68d0f36-1477-4401-849d-56b41d79d5b2",
   "metadata": {
    "execution": {
     "iopub.execute_input": "2025-05-27T14:43:44.061707Z",
     "iopub.status.busy": "2025-05-27T14:43:44.061563Z",
     "iopub.status.idle": "2025-05-27T14:43:44.472554Z",
     "shell.execute_reply": "2025-05-27T14:43:44.472003Z",
     "shell.execute_reply.started": "2025-05-27T14:43:44.061692Z"
    }
   },
   "outputs": [],
   "source": [
    "closest_obj, sepMin, nearby_obj = RetrieveDRPObject_forTarget(butler,target_coord,datasettype,where_clause,collection=collection_validation)"
   ]
  },
  {
   "cell_type": "code",
   "execution_count": null,
   "id": "20f52da3-7791-4c0e-acc7-b827c0f6c0ba",
   "metadata": {
    "execution": {
     "iopub.execute_input": "2025-05-27T14:43:44.473247Z",
     "iopub.status.busy": "2025-05-27T14:43:44.473100Z",
     "iopub.status.idle": "2025-05-27T14:43:44.682857Z",
     "shell.execute_reply": "2025-05-27T14:43:44.682365Z",
     "shell.execute_reply.started": "2025-05-27T14:43:44.473233Z"
    }
   },
   "outputs": [],
   "source": [
    "fig, ax = plt.subplots(1,1,figsize=(6,4))\n",
    "nearby_obj[\"sep\"].hist(bins=50,ax=ax,facecolor=\"b\")\n",
    "closest_obj[\"sep\"].hist(bins=50,range=(0,50),ax=ax,facecolor=\"r\")\n",
    "ax.set_yscale(\"log\")\n",
    "ax.set_title(\"object separation angle\")\n",
    "ax.set_xlabel(\"separation angle (arcsec)\")\n",
    "plt.show()"
   ]
  },
  {
   "cell_type": "code",
   "execution_count": null,
   "id": "9c1a27fe-f19a-4a55-a18d-97864cfb9ebe",
   "metadata": {
    "execution": {
     "iopub.execute_input": "2025-05-27T14:43:44.683483Z",
     "iopub.status.busy": "2025-05-27T14:43:44.683340Z",
     "iopub.status.idle": "2025-05-27T14:43:44.687220Z",
     "shell.execute_reply": "2025-05-27T14:43:44.686858Z",
     "shell.execute_reply.started": "2025-05-27T14:43:44.683469Z"
    }
   },
   "outputs": [],
   "source": [
    "closest_obj[\"parentObjectId\"]"
   ]
  },
  {
   "cell_type": "markdown",
   "id": "690008bd-5f38-4024-abab-5dca6ec85d0a",
   "metadata": {},
   "source": [
    "## Select the SL Object among all the objects of the patch"
   ]
  },
  {
   "cell_type": "markdown",
   "id": "528d8790-0869-4090-aa61-85c63fdd8237",
   "metadata": {},
   "source": [
    "### Study the closest object including by calculating the separation angle\n",
    "- separation\n",
    "- extendedness\n",
    "- blendedness    "
   ]
  },
  {
   "cell_type": "code",
   "execution_count": null,
   "id": "61f3df82-a9a9-4d40-8b13-768d3d678b17",
   "metadata": {
    "execution": {
     "iopub.execute_input": "2025-05-27T14:43:44.687879Z",
     "iopub.status.busy": "2025-05-27T14:43:44.687736Z",
     "iopub.status.idle": "2025-05-27T14:43:44.711947Z",
     "shell.execute_reply": "2025-05-27T14:43:44.711417Z",
     "shell.execute_reply.started": "2025-05-27T14:43:44.687866Z"
    }
   },
   "outputs": [],
   "source": [
    "all_df_obj = []\n",
    "all_df_closeobj = []\n",
    "for ib,band in enumerate(all_bands):\n",
    "    df_obj = all_radecTable[ib]\n",
    "\n",
    "    catalog = SkyCoord(ra=df_obj[\"coord_ra\"].values * u.deg, dec=df_obj[\"coord_dec\"].values * u.deg)\n",
    "    center = SkyCoord(ra=target_ra * u.deg, dec=target_dec * u.deg)\n",
    "\n",
    "    # Calcul des distances angulaires\n",
    "    separations = catalog.separation(center).arcsec\n",
    "    df_obj[\"sep\"] = separations\n",
    "\n",
    "    all_df_obj.append(df_obj)\n",
    "    \n",
    "    sepMin = separations.min() \n",
    "    sepMin_idx = np.where(separations == sepMin)[0][0]\n",
    "    print(band,sepMin_idx,sepMin)\n",
    "\n",
    "    all_df_closeobj.append(df_obj.iloc[sepMin_idx])"
   ]
  },
  {
   "cell_type": "code",
   "execution_count": null,
   "id": "29af03e4-ae2d-47aa-801b-e31759523b5c",
   "metadata": {
    "execution": {
     "iopub.execute_input": "2025-05-27T14:43:44.712852Z",
     "iopub.status.busy": "2025-05-27T14:43:44.712646Z",
     "iopub.status.idle": "2025-05-27T14:43:45.995179Z",
     "shell.execute_reply": "2025-05-27T14:43:45.994663Z",
     "shell.execute_reply.started": "2025-05-27T14:43:44.712833Z"
    }
   },
   "outputs": [],
   "source": [
    "fig,axis = plt.subplots(2,3,figsize=(14,8),layout=\"constrained\")\n",
    "axs = axis.flatten()\n",
    "for ib,band in enumerate(all_bands):\n",
    "    df_obj = all_df_obj[ib]\n",
    "    ax=axs[ib]\n",
    "    color = all_bands_colors[ib]\n",
    "    label = f\"band {band}\"\n",
    "    df_obj[\"sep\"].hist(bins=50,ax=ax,range=(0,100),color=color, label=label)\n",
    "    ax.legend()\n",
    "    ax.set_xlabel(\"separation angle (arcsec)\")\n",
    "plt.suptitle(\"Objects separation angle from SL in the different bands\")"
   ]
  },
  {
   "cell_type": "code",
   "execution_count": null,
   "id": "f440660b-e527-4bcb-ba54-b10f10be3943",
   "metadata": {
    "execution": {
     "iopub.execute_input": "2025-05-27T14:43:45.995925Z",
     "iopub.status.busy": "2025-05-27T14:43:45.995777Z",
     "iopub.status.idle": "2025-05-27T14:43:46.002965Z",
     "shell.execute_reply": "2025-05-27T14:43:46.002529Z",
     "shell.execute_reply.started": "2025-05-27T14:43:45.995910Z"
    }
   },
   "outputs": [],
   "source": [
    "all_df_closeobj"
   ]
  },
  {
   "cell_type": "markdown",
   "id": "f8d53f77-0e7e-4afe-91a7-0a30bb142d28",
   "metadata": {},
   "source": [
    "## Plot cutout but DO NOT SAVE them in a file (done in SL02)"
   ]
  },
  {
   "cell_type": "code",
   "execution_count": null,
   "id": "c687ac59-0c2b-4f19-b088-783cc70c2569",
   "metadata": {
    "execution": {
     "iopub.execute_input": "2025-05-27T14:43:46.003562Z",
     "iopub.status.busy": "2025-05-27T14:43:46.003425Z",
     "iopub.status.idle": "2025-05-27T14:43:59.684266Z",
     "shell.execute_reply": "2025-05-27T14:43:59.683757Z",
     "shell.execute_reply.started": "2025-05-27T14:43:46.003549Z"
    }
   },
   "outputs": [],
   "source": [
    "all_my_cutouts = []\n",
    "cutout_pixel_size = 200\n",
    "\n",
    "for ib,band in enumerate(all_bands):\n",
    "    iframe = ib + 1\n",
    "\n",
    "    id_name = \"objectId\"\n",
    "   \n",
    "    id_parentname = \"parentObjectId\"\n",
    "    x_name = f\"{band}_centroid_x\"\n",
    "    y_name = f\"{band}_centroid_y\"\n",
    "    coord_ra_name = \"coord_ra\"\n",
    "    coord_dec_name = \"coord_dec\"\n",
    "    ra_name = f\"{band}_ra\"\n",
    "    dec_name = f\"{band}_dec\"\n",
    "    psfmag_name = f\"{band}_psfMag\" \n",
    "    psfmagerr_name = f\"{band}_psfMagErr\"  \n",
    "\n",
    "    # object\n",
    "    df_obj = all_df_closeobj[ib]\n",
    "    #df_obj[id_name] = df_obj[id_name].astype(int)\n",
    "    name_obj = int(df_obj[id_name])\n",
    "    ra_obj = float(df_obj[ra_name])\n",
    "    dec_obj = float(df_obj[dec_name])\n",
    "    psfmag_obj = float(df_obj[psfmag_name])\n",
    "    psfmagerr_obj = float(df_obj[psfmagerr_name])\n",
    "    title_obj = f\"{key} {band} {ra_obj:.2f}, {dec_obj:.2f} m={psfmag_obj:.1f} +/- {psfmagerr_obj:.1f}\"\n",
    "    \n",
    "    # Extract the cutout around the GEM catalog\n",
    "    cutout, wcs, metadata = extract_deepCoadd_cutout(\n",
    "        ra_deg=target_ra,\n",
    "        dec_deg=target_dec,\n",
    "        tractInfo=tract_info,\n",
    "        patchInfo=patch_info,\n",
    "        band=band,\n",
    "        butler=butler,\n",
    "        skymapName=skymapName,\n",
    "        cutout_size_pixels = cutout_pixel_size,\n",
    "        collection =  collection_validation\n",
    "    )\n",
    "\n",
    "    # Optionnel : nom unique si plusieurs affichages\n",
    "    display = afwDisplay.Display(frame=iframe)\n",
    "    display.scale(\"asinh\", \"zscale\")\n",
    "    display.setMaskTransparency(90)\n",
    "    # Affiche le cutout\n",
    "    display.mtv(cutout.image, title=title_obj)\n",
    "\n",
    "    \n",
    "    coord_obj = SpherePoint(ra_obj, dec_obj, degrees)\n",
    "    pixel_obj = wcs.skyToPixel(coord_obj)  # donne un Point2D (x, y)\n",
    "\n",
    "    display.dot(\"x\", pixel_obj.getX(), pixel_obj.getY(), size=cutout_pixel_size/10, ctype=all_bands_colors[ib])\n",
    "\n",
    "    coord_target = SpherePoint(target_ra, target_dec, degrees)\n",
    "    pixel_target = wcs.skyToPixel(coord_target)  # donne un Point2D (x, y)\n",
    "    display.dot(\"+\", pixel_target.getX(), pixel_target.getY(), size=cutout_pixel_size/10, ctype=all_bands_colors[ib])\n"
   ]
  },
  {
   "cell_type": "code",
   "execution_count": null,
   "id": "bc325f8e-47ae-496d-8379-6ae7802a3abc",
   "metadata": {},
   "outputs": [],
   "source": []
  }
 ],
 "metadata": {
  "kernelspec": {
   "display_name": "LSST",
   "language": "python",
   "name": "lsst"
  },
  "language_info": {
   "codemirror_mode": {
    "name": "ipython",
    "version": 3
   },
   "file_extension": ".py",
   "mimetype": "text/x-python",
   "name": "python",
   "nbconvert_exporter": "python",
   "pygments_lexer": "ipython3",
   "version": "3.12.10"
  }
 },
 "nbformat": 4,
 "nbformat_minor": 5
}
