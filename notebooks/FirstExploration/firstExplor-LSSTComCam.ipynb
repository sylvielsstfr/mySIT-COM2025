{
 "cells": [
  {
   "cell_type": "markdown",
   "id": "de8df7dc-1f1a-476a-b0fc-8c47434675af",
   "metadata": {},
   "source": [
    "# First Exploration of LSST COMCAM"
   ]
  },
  {
   "cell_type": "markdown",
   "id": "fd840c17-607c-4e1f-b107-e38040b21b59",
   "metadata": {},
   "source": [
    "- author : Sylvie Dagoret-Campagne\n",
    "- creation date :  2025-02-19\n",
    "- update : 2025-02-19\n",
    "- w_2025_04\n",
    "\n",
    "  \n",
    "``Quantum Graphs``: https://tigress-web.princeton.edu/~lkelvin/pipelines/ \n",
    "\n",
    "``CalibrateTask``: \n",
    "https://github.com/lsst/pipe_tasks/blob/main/python/lsst/pipe/tasks/calibrate.py#L392-L399\n",
    "\n",
    "\n",
    "``Shemas``:\n",
    "https://dm.lsst.org/sdm_schemas/browser/"
   ]
  },
  {
   "cell_type": "code",
   "execution_count": null,
   "id": "053ddd12-33e9-4ae4-8283-67bf1d6b6586",
   "metadata": {
    "execution": {
     "iopub.execute_input": "2025-04-18T17:36:39.472597Z",
     "iopub.status.busy": "2025-04-18T17:36:39.472348Z",
     "iopub.status.idle": "2025-04-18T17:36:40.506727Z",
     "shell.execute_reply": "2025-04-18T17:36:40.506103Z",
     "shell.execute_reply.started": "2025-04-18T17:36:39.472581Z"
    }
   },
   "outputs": [],
   "source": [
    "# Confirm that the version of the Science Pipelines is recent:\n",
    "! echo $HOSTNAME\n",
    "! eups list -s | grep lsst_distrib"
   ]
  },
  {
   "cell_type": "code",
   "execution_count": null,
   "id": "2bea3d32-4d5b-4154-8b69-93fd0165e573",
   "metadata": {
    "execution": {
     "iopub.execute_input": "2025-04-18T17:36:40.507588Z",
     "iopub.status.busy": "2025-04-18T17:36:40.507433Z",
     "iopub.status.idle": "2025-04-18T17:36:41.528545Z",
     "shell.execute_reply": "2025-04-18T17:36:41.528027Z",
     "shell.execute_reply.started": "2025-04-18T17:36:40.507568Z"
    }
   },
   "outputs": [],
   "source": [
    "from lsst.daf.butler import Butler\n",
    "import lsst.geom as geom\n",
    "import lsst\n",
    "from lsst.geom import Angle "
   ]
  },
  {
   "cell_type": "code",
   "execution_count": null,
   "id": "29dded88-a8b6-42f8-a344-1208d6c17b69",
   "metadata": {
    "execution": {
     "iopub.execute_input": "2025-04-18T17:36:41.529283Z",
     "iopub.status.busy": "2025-04-18T17:36:41.529137Z",
     "iopub.status.idle": "2025-04-18T17:36:41.531773Z",
     "shell.execute_reply": "2025-04-18T17:36:41.531386Z",
     "shell.execute_reply.started": "2025-04-18T17:36:41.529268Z"
    }
   },
   "outputs": [],
   "source": [
    "from collections import OrderedDict"
   ]
  },
  {
   "cell_type": "code",
   "execution_count": null,
   "id": "4d4d9031-801c-4f52-a3d1-476636024568",
   "metadata": {
    "execution": {
     "iopub.execute_input": "2025-04-18T17:36:41.532353Z",
     "iopub.status.busy": "2025-04-18T17:36:41.532222Z",
     "iopub.status.idle": "2025-04-18T17:36:42.717239Z",
     "shell.execute_reply": "2025-04-18T17:36:42.716726Z",
     "shell.execute_reply.started": "2025-04-18T17:36:41.532340Z"
    }
   },
   "outputs": [],
   "source": [
    "import numpy as np\n",
    "import matplotlib.pyplot as plt\n",
    "import matplotlib as mpl\n",
    "import matplotlib.cm as cm \n",
    "import matplotlib.colors as colors\n",
    "import matplotlib.cm as cmx\n",
    "import matplotlib.dates as mdates\n",
    "from matplotlib.colors import ListedColormap\n",
    "%matplotlib inline\n",
    "from mpl_toolkits.axes_grid1 import make_axes_locatable\n",
    "from matplotlib.colors import LogNorm\n",
    "from astropy.visualization import imshow_norm, MinMaxInterval, SqrtStretch\n",
    "# Astropy\n",
    "from astropy.visualization import ZScaleInterval, AsinhStretch\n",
    "\n",
    "import seaborn as sns\n",
    "import pandas as pd\n",
    "\n",
    "import matplotlib.ticker                         # here's where the formatter is\n",
    "import os\n",
    "import re\n",
    "import pandas as pd\n",
    "\n",
    "\n",
    "#xx-small\n",
    "#x-small\n",
    "#small\n",
    "#medium\n",
    "#large\n",
    "#x-large\n",
    "#xx-large\n",
    "\n",
    "plt.rcParams[\"figure.figsize\"] = (10,6)\n",
    "plt.rcParams[\"axes.labelsize\"] = 'x-large'\n",
    "plt.rcParams['axes.titlesize'] = 'x-large'\n",
    "plt.rcParams['xtick.labelsize']= 'x-large'\n",
    "plt.rcParams['ytick.labelsize']= 'x-large'"
   ]
  },
  {
   "cell_type": "code",
   "execution_count": null,
   "id": "9c550afd-b500-4b20-9897-4076a312e444",
   "metadata": {
    "execution": {
     "iopub.execute_input": "2025-04-18T17:36:42.718053Z",
     "iopub.status.busy": "2025-04-18T17:36:42.717803Z",
     "iopub.status.idle": "2025-04-18T17:36:42.720674Z",
     "shell.execute_reply": "2025-04-18T17:36:42.720251Z",
     "shell.execute_reply.started": "2025-04-18T17:36:42.718037Z"
    }
   },
   "outputs": [],
   "source": [
    "from astropy.time import Time\n",
    "from astropy.coordinates import SkyCoord\n",
    "from astropy import coordinates\n",
    "import astropy.coordinates as coord\n",
    "import astropy.units as u"
   ]
  },
  {
   "cell_type": "markdown",
   "id": "0b851d85-54e9-4649-8de6-35278a27ec71",
   "metadata": {},
   "source": [
    "## Start initialisation here"
   ]
  },
  {
   "cell_type": "code",
   "execution_count": null,
   "id": "b9c5d979-40e6-4b6f-9af6-3e0663a53fe0",
   "metadata": {
    "execution": {
     "iopub.execute_input": "2025-04-18T17:36:42.721291Z",
     "iopub.status.busy": "2025-04-18T17:36:42.721159Z",
     "iopub.status.idle": "2025-04-18T17:36:42.729412Z",
     "shell.execute_reply": "2025-04-18T17:36:42.729049Z",
     "shell.execute_reply.started": "2025-04-18T17:36:42.721277Z"
    }
   },
   "outputs": [],
   "source": [
    "# The output repo is tagged with the Jira ticket number \"DM-40356\":\n",
    "repo = '/repo/main'\n",
    "collection = 'LSSTComCam/runs/DRP/DP1/w_2025_05/DM-48666'\n",
    "instrument = \"LSSTComCam\"\n",
    "skymapName = \"lsst_cells_v1\"\n",
    "where_clause = \"instrument = \\'\" + instrument+ \"\\'\"\n",
    "collectionStr = collection.replace(\"/\", \"_\")\n",
    "NDET = 9"
   ]
  },
  {
   "cell_type": "code",
   "execution_count": null,
   "id": "a11f69fd-f9ce-468d-a651-da9297473e31",
   "metadata": {
    "execution": {
     "iopub.execute_input": "2025-04-18T17:36:42.730238Z",
     "iopub.status.busy": "2025-04-18T17:36:42.729893Z",
     "iopub.status.idle": "2025-04-18T17:36:43.072932Z",
     "shell.execute_reply": "2025-04-18T17:36:43.072475Z",
     "shell.execute_reply.started": "2025-04-18T17:36:42.730223Z"
    }
   },
   "outputs": [],
   "source": [
    "# Initialize the butler repo:\n",
    "butler = Butler(repo, collections=collection)\n",
    "registry = butler.registry"
   ]
  },
  {
   "cell_type": "code",
   "execution_count": null,
   "id": "2cfb695a-c0a7-4c9e-8f22-38d66d8e0488",
   "metadata": {
    "execution": {
     "iopub.execute_input": "2025-04-18T17:36:43.073570Z",
     "iopub.status.busy": "2025-04-18T17:36:43.073431Z",
     "iopub.status.idle": "2025-04-18T17:36:43.491505Z",
     "shell.execute_reply": "2025-04-18T17:36:43.491058Z",
     "shell.execute_reply.started": "2025-04-18T17:36:43.073555Z"
    }
   },
   "outputs": [],
   "source": [
    "skymap = butler.get('skyMap', skymap=skymapName, collections=collection)"
   ]
  },
  {
   "cell_type": "code",
   "execution_count": null,
   "id": "51e9599f-85d3-41b7-852a-4d5a786fcdb0",
   "metadata": {
    "execution": {
     "iopub.execute_input": "2025-04-18T17:36:43.492489Z",
     "iopub.status.busy": "2025-04-18T17:36:43.492055Z",
     "iopub.status.idle": "2025-04-18T17:36:43.495591Z",
     "shell.execute_reply": "2025-04-18T17:36:43.495205Z",
     "shell.execute_reply.started": "2025-04-18T17:36:43.492473Z"
    }
   },
   "outputs": [],
   "source": [
    "# List a number of usefull data-product to explore\n",
    "if 0:\n",
    "    for datasetType in registry.queryDatasetTypes():\n",
    "        if registry.queryDatasets(datasetType, collections=collection).any(\n",
    "            execute=False, exact=False\n",
    "        ):\n",
    "            # Limit search results to the data products\n",
    "            if (\n",
    "                (\"_config\" not in datasetType.name)\n",
    "                and (\"_log\" not in datasetType.name)\n",
    "                and (\"_metadata\" not in datasetType.name)\n",
    "                and (\"_resource_usage\" not in datasetType.name)\n",
    "                and ((\"Table\" in datasetType.name) or (\"Zeropointp\" in datasetType.name) or (\"fgcm\" in datasetType.name) or (\"transm\" in datasetType.name) or (\"Transm\" in datasetType.name) )\n",
    "            ):\n",
    "                print(datasetType)"
   ]
  },
  {
   "cell_type": "markdown",
   "id": "1d98800f-b52e-4bb8-a282-5ecac04a095c",
   "metadata": {},
   "source": [
    "## How do I figure out which tracts have data?"
   ]
  },
  {
   "cell_type": "code",
   "execution_count": null,
   "id": "2aa997c9-d5a8-489d-9db4-8367cd96e2b0",
   "metadata": {
    "execution": {
     "iopub.execute_input": "2025-04-18T17:36:43.496155Z",
     "iopub.status.busy": "2025-04-18T17:36:43.496027Z",
     "iopub.status.idle": "2025-04-18T17:36:43.518458Z",
     "shell.execute_reply": "2025-04-18T17:36:43.518060Z",
     "shell.execute_reply.started": "2025-04-18T17:36:43.496142Z"
    }
   },
   "outputs": [],
   "source": [
    "for dtype in sorted(registry.queryDatasetTypes(expression=\"*nImage*\")):\n",
    "    print(dtype.name)"
   ]
  },
  {
   "cell_type": "code",
   "execution_count": null,
   "id": "276e8682-7ae6-42ef-a6af-47a7050674d2",
   "metadata": {
    "execution": {
     "iopub.execute_input": "2025-04-18T17:36:43.519054Z",
     "iopub.status.busy": "2025-04-18T17:36:43.518923Z",
     "iopub.status.idle": "2025-04-18T17:36:43.521100Z",
     "shell.execute_reply": "2025-04-18T17:36:43.520719Z",
     "shell.execute_reply.started": "2025-04-18T17:36:43.519041Z"
    }
   },
   "outputs": [],
   "source": [
    "#nImage_refs = list(butler.registry.queryDatasets('deepCoadd_nImage'))"
   ]
  },
  {
   "cell_type": "code",
   "execution_count": null,
   "id": "63407f9e-111e-4cb6-9b63-c886286e69cf",
   "metadata": {
    "execution": {
     "iopub.execute_input": "2025-04-18T17:36:43.521844Z",
     "iopub.status.busy": "2025-04-18T17:36:43.521556Z",
     "iopub.status.idle": "2025-04-18T17:36:43.528073Z",
     "shell.execute_reply": "2025-04-18T17:36:43.527718Z",
     "shell.execute_reply.started": "2025-04-18T17:36:43.521828Z"
    }
   },
   "outputs": [],
   "source": [
    "#tracts = np.unique([ref.dataId['tract'] for ref in nImage_refs])\n",
    "#print(tracts)\n",
    "#\n",
    "#bands = np.unique([ref.dataId['band'] for ref in nImage_refs])\n",
    "#print(bands)"
   ]
  },
  {
   "cell_type": "code",
   "execution_count": null,
   "id": "1bbb650d-65ec-4afb-b564-c9ef9937c4d8",
   "metadata": {
    "execution": {
     "iopub.execute_input": "2025-04-18T17:36:43.528671Z",
     "iopub.status.busy": "2025-04-18T17:36:43.528530Z",
     "iopub.status.idle": "2025-04-18T17:36:43.652303Z",
     "shell.execute_reply": "2025-04-18T17:36:43.651924Z",
     "shell.execute_reply.started": "2025-04-18T17:36:43.528658Z"
    }
   },
   "outputs": [],
   "source": [
    "datasettype = \"objectTable_tract\"\n",
    "therefs = butler.registry.queryDatasets(datasettype,  collections=collection)"
   ]
  },
  {
   "cell_type": "code",
   "execution_count": null,
   "id": "fe3a84eb-536f-4b88-b214-38146e5be321",
   "metadata": {
    "execution": {
     "iopub.execute_input": "2025-04-18T17:36:43.652898Z",
     "iopub.status.busy": "2025-04-18T17:36:43.652769Z",
     "iopub.status.idle": "2025-04-18T17:36:43.674646Z",
     "shell.execute_reply": "2025-04-18T17:36:43.674263Z",
     "shell.execute_reply.started": "2025-04-18T17:36:43.652885Z"
    }
   },
   "outputs": [],
   "source": [
    "tractsId_list = np.unique([ref.dataId['tract'] for ref in therefs])\n",
    "tractsId_list = sorted(tractsId_list)\n",
    "print(tractsId_list)"
   ]
  },
  {
   "cell_type": "code",
   "execution_count": null,
   "id": "2ae64f84-8f8a-4452-b264-168ee6fdc249",
   "metadata": {},
   "outputs": [],
   "source": []
  },
  {
   "cell_type": "code",
   "execution_count": null,
   "id": "7cbd08a9-ba87-404a-abf5-d01700c11346",
   "metadata": {
    "execution": {
     "iopub.execute_input": "2025-04-18T17:36:43.675244Z",
     "iopub.status.busy": "2025-04-18T17:36:43.675115Z",
     "iopub.status.idle": "2025-04-18T17:36:43.708731Z",
     "shell.execute_reply": "2025-04-18T17:36:43.708326Z",
     "shell.execute_reply.started": "2025-04-18T17:36:43.675231Z"
    }
   },
   "outputs": [],
   "source": [
    "dict_tract_to_coords_deg = OrderedDict()\n",
    "dict_tract_to_coords_rad = OrderedDict()\n",
    "\n",
    "for tract_sel in tractsId_list:\n",
    "    the_tract = skymap.generateTract(tract_sel)\n",
    "    sp2 = the_tract.getCtrCoord() # get a SpherePoint(278.7804878048781*degrees, -48.34710743801652*degrees)\n",
    "    dict_tract_to_coords_deg[tract_sel] = sp2\n",
    "    dict_tract_to_coords_rad[tract_sel] = dict(ra = sp2[0].asRadians(), dec = sp2[1].asRadians() )"
   ]
  },
  {
   "cell_type": "code",
   "execution_count": null,
   "id": "2e2932db-9bdf-4acf-b585-5bc9f5523a17",
   "metadata": {
    "execution": {
     "iopub.execute_input": "2025-04-18T17:36:43.709329Z",
     "iopub.status.busy": "2025-04-18T17:36:43.709194Z",
     "iopub.status.idle": "2025-04-18T17:36:43.711392Z",
     "shell.execute_reply": "2025-04-18T17:36:43.711019Z",
     "shell.execute_reply.started": "2025-04-18T17:36:43.709316Z"
    }
   },
   "outputs": [],
   "source": [
    "#for key, value in dict_tract_To_Coords.items():\n",
    "#    print(key, \"->\", value,  \" <=> (\", value[0].asRadians(),\" , \", value[1].asRadians(), \")\")"
   ]
  },
  {
   "cell_type": "code",
   "execution_count": null,
   "id": "7ef7a700-0d39-4414-8998-53eadfee2406",
   "metadata": {
    "execution": {
     "iopub.execute_input": "2025-04-18T17:36:43.711995Z",
     "iopub.status.busy": "2025-04-18T17:36:43.711866Z",
     "iopub.status.idle": "2025-04-18T17:36:43.720476Z",
     "shell.execute_reply": "2025-04-18T17:36:43.720086Z",
     "shell.execute_reply.started": "2025-04-18T17:36:43.711981Z"
    }
   },
   "outputs": [],
   "source": [
    "dict_tract_to_coords_deg "
   ]
  },
  {
   "cell_type": "code",
   "execution_count": null,
   "id": "351b1195-2684-4811-8189-c9fc1fc33f3b",
   "metadata": {
    "execution": {
     "iopub.execute_input": "2025-04-18T17:36:43.721085Z",
     "iopub.status.busy": "2025-04-18T17:36:43.720954Z",
     "iopub.status.idle": "2025-04-18T17:36:43.729132Z",
     "shell.execute_reply": "2025-04-18T17:36:43.728766Z",
     "shell.execute_reply.started": "2025-04-18T17:36:43.721072Z"
    }
   },
   "outputs": [],
   "source": [
    "dict_tract_to_coords_rad"
   ]
  },
  {
   "cell_type": "code",
   "execution_count": null,
   "id": "dd950f13-7ae0-42d1-ac1d-178211e801a6",
   "metadata": {
    "execution": {
     "iopub.execute_input": "2025-04-18T17:36:43.729851Z",
     "iopub.status.busy": "2025-04-18T17:36:43.729572Z",
     "iopub.status.idle": "2025-04-18T17:36:47.441671Z",
     "shell.execute_reply": "2025-04-18T17:36:47.441147Z",
     "shell.execute_reply.started": "2025-04-18T17:36:43.729836Z"
    }
   },
   "outputs": [],
   "source": [
    "# Check which tracts actually have a lot of visit coverage:\n",
    "dict_tract_to_coords_andvisits = OrderedDict()\n",
    "for tract_sel in tractsId_list:\n",
    "    visits = list(butler.registry.queryDatasets('visitSummary', tract=tract_sel, skymap=skymapName, findFirst=True))\n",
    "    Nvis = len(visits)\n",
    "    dict_tract_to_coords_andvisits[tract_sel] = dict(ra_deg=dict_tract_to_coords_deg[tract_sel][0], dec_deg =dict_tract_to_coords_deg[tract_sel][1] , \n",
    "                                                     ra_rad = dict_tract_to_coords_rad[tract_sel][\"ra\"], dec_rad = dict_tract_to_coords_rad[tract_sel][\"dec\"],nvis=Nvis)\n",
    "    "
   ]
  },
  {
   "cell_type": "code",
   "execution_count": null,
   "id": "8b804043-750f-454a-9b92-d8b39eef25bd",
   "metadata": {
    "execution": {
     "iopub.execute_input": "2025-04-18T17:36:47.442398Z",
     "iopub.status.busy": "2025-04-18T17:36:47.442261Z",
     "iopub.status.idle": "2025-04-18T17:36:47.448600Z",
     "shell.execute_reply": "2025-04-18T17:36:47.448192Z",
     "shell.execute_reply.started": "2025-04-18T17:36:47.442384Z"
    }
   },
   "outputs": [],
   "source": [
    "dict_tract_to_coords_andvisits"
   ]
  },
  {
   "cell_type": "markdown",
   "id": "4c49d010-5866-4c64-8039-95ab3c00ac6c",
   "metadata": {},
   "source": [
    "## visitSummary"
   ]
  },
  {
   "cell_type": "code",
   "execution_count": null,
   "id": "fddc94a1-df96-41d3-9c91-364155854e61",
   "metadata": {
    "execution": {
     "iopub.execute_input": "2025-04-18T17:36:47.449210Z",
     "iopub.status.busy": "2025-04-18T17:36:47.449081Z",
     "iopub.status.idle": "2025-04-18T17:36:47.457307Z",
     "shell.execute_reply": "2025-04-18T17:36:47.456938Z",
     "shell.execute_reply.started": "2025-04-18T17:36:47.449198Z"
    }
   },
   "outputs": [],
   "source": [
    "if 0:\n",
    "\n",
    "    all_data = []\n",
    "    data_product = 'visitSummary'\n",
    "\n",
    "    #datasetRefs = butler.registry.queryDatasets(datasetType=data_product, collections=collections, where= \"instrument='LSSTComCamSim'\")\n",
    "    datasetRefs = butler.registry.queryDatasets(datasetType=data_product, collections=collection, where = where_clause)\n",
    "    for i, ref in enumerate(datasetRefs):\n",
    "        if (i % 100 == 0):\n",
    "            print(f\"======================== datasetType = {data_product} ============================================\")\n",
    "            print(\"fullId..................:\",ref.dataId.full)\n",
    "        try:\n",
    "            data = butler.get(data_product, dataId=ref.dataId )  \n",
    "            all_data.append(data)\n",
    "       \n",
    "        except Exception as inst:\n",
    "            print(type(inst))    # the exception type\n",
    "            print(inst.args)     # arguments stored in .args\n",
    "            print(inst)         \n",
    "\n",
    "    N = len(all_data)\n",
    "    print(f\"{visitSummary} :: N = {N}\")"
   ]
  },
  {
   "cell_type": "markdown",
   "id": "63965e30-7998-4682-8c73-c0f58b0928d0",
   "metadata": {},
   "source": [
    "### CCD VisitTable"
   ]
  },
  {
   "cell_type": "code",
   "execution_count": null,
   "id": "aa2d60bf-678f-45f0-8939-7ba79ef8a72d",
   "metadata": {
    "execution": {
     "iopub.execute_input": "2025-04-18T17:36:47.457918Z",
     "iopub.status.busy": "2025-04-18T17:36:47.457791Z",
     "iopub.status.idle": "2025-04-18T17:36:47.536214Z",
     "shell.execute_reply": "2025-04-18T17:36:47.535804Z",
     "shell.execute_reply.started": "2025-04-18T17:36:47.457906Z"
    }
   },
   "outputs": [],
   "source": [
    "list(butler.registry.queryDatasets('ccdVisitTable'))"
   ]
  },
  {
   "cell_type": "code",
   "execution_count": null,
   "id": "441f4b9a-2270-43fb-9c31-846030c65128",
   "metadata": {
    "execution": {
     "iopub.execute_input": "2025-04-18T17:36:47.539645Z",
     "iopub.status.busy": "2025-04-18T17:36:47.539512Z",
     "iopub.status.idle": "2025-04-18T17:36:47.799398Z",
     "shell.execute_reply": "2025-04-18T17:36:47.798861Z",
     "shell.execute_reply.started": "2025-04-18T17:36:47.539632Z"
    }
   },
   "outputs": [],
   "source": [
    "ccdVisitTable = butler.get('ccdVisitTable')"
   ]
  },
  {
   "cell_type": "code",
   "execution_count": null,
   "id": "c193b7fb-1a98-4b08-be70-a53d6b6a4f4d",
   "metadata": {
    "execution": {
     "iopub.execute_input": "2025-04-18T17:36:47.800102Z",
     "iopub.status.busy": "2025-04-18T17:36:47.799952Z",
     "iopub.status.idle": "2025-04-18T17:36:47.803687Z",
     "shell.execute_reply": "2025-04-18T17:36:47.803316Z",
     "shell.execute_reply.started": "2025-04-18T17:36:47.800085Z"
    }
   },
   "outputs": [],
   "source": [
    "ccdVisitTable.columns"
   ]
  },
  {
   "cell_type": "code",
   "execution_count": null,
   "id": "7d646d54-2973-4512-a15d-fc9e6e517ca8",
   "metadata": {
    "execution": {
     "iopub.execute_input": "2025-04-18T17:36:47.804267Z",
     "iopub.status.busy": "2025-04-18T17:36:47.804137Z",
     "iopub.status.idle": "2025-04-18T17:36:47.810997Z",
     "shell.execute_reply": "2025-04-18T17:36:47.810632Z",
     "shell.execute_reply.started": "2025-04-18T17:36:47.804254Z"
    }
   },
   "outputs": [],
   "source": [
    "# https://pipelines.lsst.io/modules/lsst.geom/getting-started.html\n",
    "func_degToRad = lambda x : Angle(x,lsst.geom.degrees).asRadians()\n",
    "func_zendtoAirmass = lambda x : 1./np.cos(func_degToRad(x))\n",
    "#func_wrap = lambda x : Angle(x,lsst.geom.radians).wrap(180.*lsst.geom.degrees)"
   ]
  },
  {
   "cell_type": "code",
   "execution_count": null,
   "id": "a17ecbbe-e09a-412e-b07f-010bbacf8d50",
   "metadata": {
    "execution": {
     "iopub.execute_input": "2025-04-18T17:36:47.811566Z",
     "iopub.status.busy": "2025-04-18T17:36:47.811437Z",
     "iopub.status.idle": "2025-04-18T17:36:47.861817Z",
     "shell.execute_reply": "2025-04-18T17:36:47.861436Z",
     "shell.execute_reply.started": "2025-04-18T17:36:47.811553Z"
    }
   },
   "outputs": [],
   "source": [
    "ccdVisitTable[\"airmass\"] = ccdVisitTable['zenithDistance'].apply(func_zendtoAirmass)"
   ]
  },
  {
   "cell_type": "code",
   "execution_count": null,
   "id": "39f2c014-0095-4276-b8f2-fb7452025844",
   "metadata": {
    "execution": {
     "iopub.execute_input": "2025-04-18T17:36:47.862385Z",
     "iopub.status.busy": "2025-04-18T17:36:47.862255Z",
     "iopub.status.idle": "2025-04-18T17:36:48.127984Z",
     "shell.execute_reply": "2025-04-18T17:36:48.127521Z",
     "shell.execute_reply.started": "2025-04-18T17:36:47.862372Z"
    }
   },
   "outputs": [],
   "source": [
    "f2c = {'u': 'blue', 'g': 'green', 'r': 'red',\n",
    "       'i': 'orange', 'z': 'grey', 'y': 'k'}\n",
    "\n",
    "plt.figure(dpi=200)\n",
    "for bandname in f2c:\n",
    "    in_band = ccdVisitTable['band'] == bandname\n",
    "    if np.sum(in_band) > 0:\n",
    "        plt.plot(ccdVisitTable['zenithDistance'][in_band], ccdVisitTable['zeroPoint'][in_band], \n",
    "                 'o', markersize=1, color=f2c[bandname], label=bandname)\n",
    "plt.legend()\n",
    "plt.xlabel('zenithDistance')\n",
    "plt.ylabel('zeroPoint')"
   ]
  },
  {
   "cell_type": "code",
   "execution_count": null,
   "id": "56eed3c0-75a4-4360-b6d4-8a76c8472b1d",
   "metadata": {
    "execution": {
     "iopub.execute_input": "2025-04-18T17:36:48.128832Z",
     "iopub.status.busy": "2025-04-18T17:36:48.128605Z",
     "iopub.status.idle": "2025-04-18T17:36:48.523671Z",
     "shell.execute_reply": "2025-04-18T17:36:48.523196Z",
     "shell.execute_reply.started": "2025-04-18T17:36:48.128817Z"
    }
   },
   "outputs": [],
   "source": [
    "f2c = {'u': 'blue', 'g': 'green', 'r': 'red',\n",
    "       'i': 'orange', 'z': 'grey', 'y': 'k'}\n",
    "\n",
    "plt.figure(dpi=200)\n",
    "for bandname in f2c:\n",
    "    in_band = ccdVisitTable['band'] == bandname\n",
    "    if np.sum(in_band) > 0:\n",
    "        plt.plot(ccdVisitTable['airmass'][in_band], ccdVisitTable['zeroPoint'][in_band], \n",
    "                 'o', markersize=1, color=f2c[bandname], label=bandname)\n",
    "plt.legend()\n",
    "plt.xlabel('airmass')\n",
    "plt.ylabel('zeroPoint')"
   ]
  },
  {
   "cell_type": "code",
   "execution_count": null,
   "id": "b4f62b2a-e1bb-4f33-b838-af416e644831",
   "metadata": {
    "execution": {
     "iopub.execute_input": "2025-04-18T17:36:48.524409Z",
     "iopub.status.busy": "2025-04-18T17:36:48.524263Z",
     "iopub.status.idle": "2025-04-18T17:36:48.791812Z",
     "shell.execute_reply": "2025-04-18T17:36:48.791234Z",
     "shell.execute_reply.started": "2025-04-18T17:36:48.524394Z"
    }
   },
   "outputs": [],
   "source": [
    "f2c = {'u': 'blue', 'g': 'green', 'r': 'red',\n",
    "       'i': 'orange', 'z': 'grey', 'y': 'k'}\n",
    "\n",
    "plt.figure(dpi=200)\n",
    "for bandname in f2c:\n",
    "    in_band = ccdVisitTable['band'] == bandname\n",
    "    if np.sum(in_band) > 0:\n",
    "        plt.plot(ccdVisitTable['airmass'][in_band], ccdVisitTable['psfSigma'][in_band], \n",
    "                 'o', markersize=1, color=f2c[bandname], label=bandname)\n",
    "plt.legend()\n",
    "plt.xlabel('airmass')\n",
    "plt.ylabel('psfSigma')"
   ]
  },
  {
   "cell_type": "code",
   "execution_count": null,
   "id": "88e95e14-4f95-4866-ba3f-54358c4a73dd",
   "metadata": {
    "execution": {
     "iopub.execute_input": "2025-04-18T17:36:48.792543Z",
     "iopub.status.busy": "2025-04-18T17:36:48.792399Z",
     "iopub.status.idle": "2025-04-18T17:36:49.048319Z",
     "shell.execute_reply": "2025-04-18T17:36:49.047726Z",
     "shell.execute_reply.started": "2025-04-18T17:36:48.792528Z"
    }
   },
   "outputs": [],
   "source": [
    "f2c = {'u': 'blue', 'g': 'green', 'r': 'red',\n",
    "       'i': 'orange', 'z': 'grey', 'y': 'k'}\n",
    "\n",
    "plt.figure(dpi=200)\n",
    "for bandname in f2c:\n",
    "    in_band = ccdVisitTable['band'] == bandname\n",
    "    if np.sum(in_band) > 0:\n",
    "        plt.plot(ccdVisitTable['airmass'][in_band], ccdVisitTable['seeing'][in_band], \n",
    "                 'o', markersize=1, color=f2c[bandname], label=bandname)\n",
    "plt.legend()\n",
    "plt.xlabel('airmass')\n",
    "plt.ylabel('seeing')"
   ]
  },
  {
   "cell_type": "code",
   "execution_count": null,
   "id": "fce2c79b-edcf-4ab9-ba74-05426aa3c4a3",
   "metadata": {
    "execution": {
     "iopub.execute_input": "2025-04-18T17:36:49.049080Z",
     "iopub.status.busy": "2025-04-18T17:36:49.048931Z",
     "iopub.status.idle": "2025-04-18T17:36:49.052718Z",
     "shell.execute_reply": "2025-04-18T17:36:49.052316Z",
     "shell.execute_reply.started": "2025-04-18T17:36:49.049065Z"
    }
   },
   "outputs": [],
   "source": [
    "ccdvisit_subset = ccdVisitTable[['visitId', 'band', 'ra', 'dec','detector','zenithDistance','obsStartMJD']]"
   ]
  },
  {
   "cell_type": "code",
   "execution_count": null,
   "id": "7537c14b-36b7-4702-8dae-d784a4c9491e",
   "metadata": {
    "execution": {
     "iopub.execute_input": "2025-04-18T17:36:49.053437Z",
     "iopub.status.busy": "2025-04-18T17:36:49.053164Z",
     "iopub.status.idle": "2025-04-18T17:36:49.066495Z",
     "shell.execute_reply": "2025-04-18T17:36:49.066150Z",
     "shell.execute_reply.started": "2025-04-18T17:36:49.053422Z"
    }
   },
   "outputs": [],
   "source": [
    "ccdvisit_subset "
   ]
  },
  {
   "cell_type": "code",
   "execution_count": null,
   "id": "5d7a81c9-2b1e-4815-b0f5-d17e28eb4cd6",
   "metadata": {
    "execution": {
     "iopub.execute_input": "2025-04-18T17:36:49.067040Z",
     "iopub.status.busy": "2025-04-18T17:36:49.066915Z",
     "iopub.status.idle": "2025-04-18T17:36:49.093352Z",
     "shell.execute_reply": "2025-04-18T17:36:49.092941Z",
     "shell.execute_reply.started": "2025-04-18T17:36:49.067027Z"
    }
   },
   "outputs": [],
   "source": [
    "# https://pipelines.lsst.io/modules/lsst.geom/getting-started.html\n",
    "func_degToRad = lambda x : Angle(x,lsst.geom.degrees).asRadians()\n",
    "func_zendtoAirmass = lambda x : 1./np.cos(func_degToRad(x))\n",
    "#func_wrap = lambda x : Angle(x,lsst.geom.radians).wrap(180.*lsst.geom.degrees)"
   ]
  },
  {
   "cell_type": "code",
   "execution_count": null,
   "id": "598f8fd1-eafe-478c-b65f-1a9d97387530",
   "metadata": {
    "execution": {
     "iopub.execute_input": "2025-04-18T17:36:49.093941Z",
     "iopub.status.busy": "2025-04-18T17:36:49.093814Z",
     "iopub.status.idle": "2025-04-18T17:36:49.167651Z",
     "shell.execute_reply": "2025-04-18T17:36:49.167221Z",
     "shell.execute_reply.started": "2025-04-18T17:36:49.093928Z"
    }
   },
   "outputs": [],
   "source": [
    "ccdvisit_subset[\"zenithDistance_rad\"]= ccdvisit_subset[\"zenithDistance\"].apply(func_degToRad)\n",
    "ccdvisit_subset[\"airmass\"]= ccdvisit_subset[\"zenithDistance\"].apply(func_zendtoAirmass)"
   ]
  },
  {
   "cell_type": "code",
   "execution_count": null,
   "id": "755b8180-8acf-44e8-9e1e-8233110bf727",
   "metadata": {
    "execution": {
     "iopub.execute_input": "2025-04-18T17:36:49.168248Z",
     "iopub.status.busy": "2025-04-18T17:36:49.168120Z",
     "iopub.status.idle": "2025-04-18T17:36:49.175824Z",
     "shell.execute_reply": "2025-04-18T17:36:49.175419Z",
     "shell.execute_reply.started": "2025-04-18T17:36:49.168236Z"
    }
   },
   "outputs": [],
   "source": [
    "ccdvisit_subset"
   ]
  },
  {
   "cell_type": "code",
   "execution_count": null,
   "id": "2beb5941-ea57-41c5-abb0-59fe8fd26e79",
   "metadata": {
    "execution": {
     "iopub.execute_input": "2025-04-18T17:36:49.176431Z",
     "iopub.status.busy": "2025-04-18T17:36:49.176302Z",
     "iopub.status.idle": "2025-04-18T17:36:49.186850Z",
     "shell.execute_reply": "2025-04-18T17:36:49.186427Z",
     "shell.execute_reply.started": "2025-04-18T17:36:49.176419Z"
    }
   },
   "outputs": [],
   "source": [
    "#ccdvisit_subset_u = ccdvisit_subset[ccdvisit_subset.band == 'u']\n",
    "ccdvisit_subset_g = ccdvisit_subset[ccdvisit_subset.band == 'g']\n",
    "ccdvisit_subset_r = ccdvisit_subset[ccdvisit_subset.band == 'r']\n",
    "ccdvisit_subset_i = ccdvisit_subset[ccdvisit_subset.band == 'i']\n",
    "#ccdvisit_subset_z = ccdvisit_subset[ccdvisit_subset.band == 'z']\n",
    "#ccdvisit_subset_y = ccdvisit_subset[ccdvisit_subset.band == 'y']\n",
    "Ng = len(ccdvisit_subset_g)\n",
    "Nr = len(ccdvisit_subset_r)\n",
    "Ni = len(ccdvisit_subset_i)\n",
    "print(Ng,Nr,Ni)"
   ]
  },
  {
   "cell_type": "code",
   "execution_count": null,
   "id": "12fa2bb3-1d4b-4ed9-b389-bcb7661cf02a",
   "metadata": {
    "execution": {
     "iopub.execute_input": "2025-04-18T17:36:49.187450Z",
     "iopub.status.busy": "2025-04-18T17:36:49.187314Z",
     "iopub.status.idle": "2025-04-18T17:36:49.194574Z",
     "shell.execute_reply": "2025-04-18T17:36:49.194165Z",
     "shell.execute_reply.started": "2025-04-18T17:36:49.187437Z"
    }
   },
   "outputs": [],
   "source": [
    "sns.color_palette(\"Spectral\", as_cmap=True)"
   ]
  },
  {
   "cell_type": "code",
   "execution_count": null,
   "id": "9f0a5865-4a81-484b-9a68-9a72fb258ecb",
   "metadata": {
    "execution": {
     "iopub.execute_input": "2025-04-18T17:36:49.195151Z",
     "iopub.status.busy": "2025-04-18T17:36:49.195026Z",
     "iopub.status.idle": "2025-04-18T17:36:49.222306Z",
     "shell.execute_reply": "2025-04-18T17:36:49.221836Z",
     "shell.execute_reply.started": "2025-04-18T17:36:49.195139Z"
    }
   },
   "outputs": [],
   "source": [
    "cmap_g = ListedColormap(sns.color_palette(\"Spectral\", Ng))\n",
    "cmap_r = ListedColormap(sns.color_palette(\"Spectral\", Nr))\n",
    "cmap_i = ListedColormap(sns.color_palette(\"Spectral\", Ni))\n",
    "\n",
    "#patch_to_color[patch] = cmap.colors[idx]"
   ]
  },
  {
   "cell_type": "code",
   "execution_count": null,
   "id": "8585b7eb-9d6b-4b5b-bb78-dafd6f6e8eac",
   "metadata": {
    "execution": {
     "iopub.execute_input": "2025-04-18T17:36:49.222915Z",
     "iopub.status.busy": "2025-04-18T17:36:49.222789Z",
     "iopub.status.idle": "2025-04-18T17:36:49.226124Z",
     "shell.execute_reply": "2025-04-18T17:36:49.225708Z",
     "shell.execute_reply.started": "2025-04-18T17:36:49.222903Z"
    }
   },
   "outputs": [],
   "source": [
    "all_colors_g = [cmap_g.colors[idx] for idx in range(Ng)]\n",
    "all_colors_r = [cmap_r.colors[idx] for idx in range(Nr)]\n",
    "all_colors_i = [cmap_i.colors[idx] for idx in range(Ni)]"
   ]
  },
  {
   "cell_type": "code",
   "execution_count": null,
   "id": "9402d2a3-c324-4299-913f-8a793c386e14",
   "metadata": {
    "execution": {
     "iopub.execute_input": "2025-04-18T17:36:49.226866Z",
     "iopub.status.busy": "2025-04-18T17:36:49.226587Z",
     "iopub.status.idle": "2025-04-18T17:36:49.243942Z",
     "shell.execute_reply": "2025-04-18T17:36:49.243515Z",
     "shell.execute_reply.started": "2025-04-18T17:36:49.226852Z"
    }
   },
   "outputs": [],
   "source": [
    "ra_g = ccdvisit_subset_g['ra'].apply(func_degToRad) \n",
    "dec_g = ccdvisit_subset_g['dec'].apply(func_degToRad) "
   ]
  },
  {
   "cell_type": "code",
   "execution_count": null,
   "id": "6b90721b-4d07-4b9b-888a-0416fc5eb34a",
   "metadata": {
    "execution": {
     "iopub.execute_input": "2025-04-18T17:36:49.244536Z",
     "iopub.status.busy": "2025-04-18T17:36:49.244411Z",
     "iopub.status.idle": "2025-04-18T17:36:49.254498Z",
     "shell.execute_reply": "2025-04-18T17:36:49.254130Z",
     "shell.execute_reply.started": "2025-04-18T17:36:49.244524Z"
    }
   },
   "outputs": [],
   "source": [
    "# Galactic plane\n",
    "gal_long = np.linspace(-180.,180,360)\n",
    "gal_lat = np.zeros((360))\n",
    "coordinates_galactic_planes = SkyCoord(l=gal_long*u.degree, b=gal_lat*u.degree, frame='galactic')\n",
    "gp_radec = coordinates_galactic_planes.transform_to('icrs')  \n",
    "# for galactic plane\n",
    "# gp_radec.ra : 0., 360.\n",
    "# gp_radec.dec : -90, 90\n",
    "gp_ra_toplot = coordinates.Angle(gp_radec.ra.degree*u.degree)\n",
    "gp_ra_toplot = gp_ra_toplot.wrap_at(180*u.degree)\n",
    "# gp_ra_toplot -180, 180\n",
    "#wrapping angle : https://docs.astropy.org/en/stable/api/astropy.coordinates.Angle.html"
   ]
  },
  {
   "cell_type": "code",
   "execution_count": null,
   "id": "90a3e277-2d31-4bb2-922d-364f368d51ff",
   "metadata": {
    "execution": {
     "iopub.execute_input": "2025-04-18T17:36:49.255085Z",
     "iopub.status.busy": "2025-04-18T17:36:49.254957Z",
     "iopub.status.idle": "2025-04-18T17:36:49.740464Z",
     "shell.execute_reply": "2025-04-18T17:36:49.739983Z",
     "shell.execute_reply.started": "2025-04-18T17:36:49.255073Z"
    }
   },
   "outputs": [],
   "source": [
    "fig,ax = plt.subplots(1,1,figsize=(12,4),dpi=200)\n",
    "\n",
    "leg = ax.get_legend()\n",
    "#ax.scatter(ccdvisit_subset_g[\"obsStartMJD\"].values,ccdvisit_subset_g[\"ra\"].values ,c=all_colors_g)\n",
    "ccdvisit_subset_g.plot.scatter(x=\"obsStartMJD\",y=\"ra\",marker=\"o\",c=all_colors_g,ax=ax,legend=leg,label=\"G\")\n",
    "ccdvisit_subset_r.plot.scatter(x=\"obsStartMJD\",y=\"ra\",marker=\"^\",c=all_colors_r,ax=ax,legend=leg,label=\"R\")\n",
    "ccdvisit_subset_i.plot.scatter(x=\"obsStartMJD\",y=\"ra\",marker=\"v\",c=all_colors_i,ax=ax,legend=leg,label=\"I\")\n",
    "ax.grid()"
   ]
  },
  {
   "cell_type": "code",
   "execution_count": null,
   "id": "e14411e6-2d14-48af-8893-628030364f4a",
   "metadata": {
    "execution": {
     "iopub.execute_input": "2025-04-18T17:36:49.741176Z",
     "iopub.status.busy": "2025-04-18T17:36:49.741027Z",
     "iopub.status.idle": "2025-04-18T17:36:50.213483Z",
     "shell.execute_reply": "2025-04-18T17:36:50.213032Z",
     "shell.execute_reply.started": "2025-04-18T17:36:49.741162Z"
    }
   },
   "outputs": [],
   "source": [
    "fig,ax = plt.subplots(1,1,figsize=(12,4),dpi=200)\n",
    "leg = ax.get_legend()\n",
    "#ax.scatter(ccdvisit_subset_g[\"obsStartMJD\"].values,ccdvisit_subset_g[\"ra\"].values ,c=all_colors_g)\n",
    "ccdvisit_subset_g.plot.scatter(x=\"obsStartMJD\",y=\"dec\",marker=\"o\",c=all_colors_g,ax=ax,legend=leg,label=\"G\")\n",
    "ccdvisit_subset_r.plot.scatter(x=\"obsStartMJD\",y=\"dec\",marker=\"^\",c=all_colors_r,ax=ax,legend=leg,label=\"R\")\n",
    "ccdvisit_subset_i.plot.scatter(x=\"obsStartMJD\",y=\"dec\",marker=\"v\",c=all_colors_i,ax=ax,legend=leg,label=\"I\")\n",
    "ax.grid()"
   ]
  },
  {
   "cell_type": "code",
   "execution_count": null,
   "id": "3aa3a181-8dfd-4a8c-82a0-38cf6df211fe",
   "metadata": {
    "execution": {
     "iopub.execute_input": "2025-04-18T17:36:50.214195Z",
     "iopub.status.busy": "2025-04-18T17:36:50.214042Z",
     "iopub.status.idle": "2025-04-18T17:36:50.218942Z",
     "shell.execute_reply": "2025-04-18T17:36:50.218569Z",
     "shell.execute_reply.started": "2025-04-18T17:36:50.214180Z"
    }
   },
   "outputs": [],
   "source": [
    "dict_tract_to_coords_rad"
   ]
  },
  {
   "cell_type": "code",
   "execution_count": null,
   "id": "a244c484-e403-4b1a-b179-9949ca888ded",
   "metadata": {
    "execution": {
     "iopub.execute_input": "2025-04-18T17:36:50.219526Z",
     "iopub.status.busy": "2025-04-18T17:36:50.219391Z",
     "iopub.status.idle": "2025-04-18T17:36:50.701408Z",
     "shell.execute_reply": "2025-04-18T17:36:50.700682Z",
     "shell.execute_reply.started": "2025-04-18T17:36:50.219512Z"
    }
   },
   "outputs": [],
   "source": [
    "# plot\n",
    "# x arg in rad must be (-2pi,2pi), y arg in rad  must be in ( -pi,pi )\n",
    "fig = plt.figure(figsize=(12,6),dpi=200)\n",
    "#ax = fig.add_subplot(111, projection=\"aitoff\")\n",
    "ax = fig.add_subplot(111, projection=\"mollweide\")\n",
    "ax.scatter(gp_ra_toplot.radian, gp_radec.dec.radian,c=\"r\",label=\"Galactic Plane\",s=1)\n",
    "ax.scatter(ra_g.values-np.pi,dec_g.values,marker='+',c=all_colors_g)\n",
    "ax.legend()\n",
    "ax.grid()\n",
    "\n",
    "index=0\n",
    "for key, value in dict_tract_to_coords_rad.items():\n",
    "    tract_num_str= str(key)\n",
    "    x = value[\"ra\"] - np.pi\n",
    "    y = value[\"dec\"] \n",
    "    \n",
    "    if index%2 == 0:\n",
    "        dy= -Angle(3,lsst.geom.degrees).asRadians()\n",
    "        dx= -Angle(3,lsst.geom.degrees).asRadians()\n",
    "    else:\n",
    "        dy= Angle(3,lsst.geom.degrees).asRadians()\n",
    "        dx= Angle(3,lsst.geom.degrees).asRadians()\n",
    "        \n",
    "    ax.text(x+dx, y+dy, tract_num_str, fontsize=8,color=\"b\")\n",
    "    index+=1\n",
    "\n",
    "plt.suptitle(instrument)"
   ]
  },
  {
   "cell_type": "code",
   "execution_count": null,
   "id": "6d5863cb-f53d-42be-bbda-2fef8dad3bbd",
   "metadata": {
    "execution": {
     "iopub.execute_input": "2025-04-18T17:36:50.702214Z",
     "iopub.status.busy": "2025-04-18T17:36:50.702060Z",
     "iopub.status.idle": "2025-04-18T17:36:51.041328Z",
     "shell.execute_reply": "2025-04-18T17:36:51.040834Z",
     "shell.execute_reply.started": "2025-04-18T17:36:50.702198Z"
    }
   },
   "outputs": [],
   "source": [
    "# plot\n",
    "# x arg in rad must be (-2pi,2pi), y arg in rad  must be in ( -pi,pi )\n",
    "fig = plt.figure(figsize=(12,6),dpi=200)\n",
    "#ax = fig.add_subplot(111, projection=\"aitoff\")\n",
    "ax = fig.add_subplot(111)\n",
    "ax.scatter(gp_ra_toplot.degree, gp_radec.dec.degree,c=\"r\",label=\"Galactic Plane\",s=1)\n",
    "ax.scatter(ccdvisit_subset_g['ra'].values -180.,ccdvisit_subset_g['dec'].values,marker='+',c=all_colors_g)\n",
    "ax.legend()\n",
    "ax.grid()\n",
    "\n",
    "index=0\n",
    "for key, value in dict_tract_to_coords_andvisits.items():\n",
    "    \n",
    "    tract_num_str= str(key)\n",
    "    x = value['ra_deg'].asDegrees() - 180\n",
    "    y = value[\"dec_deg\"].asDegrees() \n",
    "    \n",
    "    if index%2 == 0:\n",
    "        dy= -5\n",
    "        dx= -5\n",
    "    else:\n",
    "        dy= 5\n",
    "        dx= 5\n",
    "        \n",
    "    ax.text(x+dx, y+dy, tract_num_str, fontsize=8,color=\"b\")\n",
    "    index+=1\n",
    "\n",
    "plt.suptitle(instrument)"
   ]
  },
  {
   "cell_type": "markdown",
   "id": "fa6beb89-050b-43fa-b5e4-8060326e5097",
   "metadata": {},
   "source": [
    "## sourceTable_visit"
   ]
  },
  {
   "cell_type": "code",
   "execution_count": null,
   "id": "7c401a3d-1f6f-4af9-813a-617eb2aeff0d",
   "metadata": {
    "execution": {
     "iopub.execute_input": "2025-04-18T17:36:51.042124Z",
     "iopub.status.busy": "2025-04-18T17:36:51.041909Z",
     "iopub.status.idle": "2025-04-18T17:36:51.046062Z",
     "shell.execute_reply": "2025-04-18T17:36:51.045448Z",
     "shell.execute_reply.started": "2025-04-18T17:36:51.042108Z"
    }
   },
   "outputs": [],
   "source": [
    "if 0:\n",
    "    all_data = []\n",
    "    data_product = 'sourceTable_visit'\n",
    "    datasetRefs = butler.registry.queryDatasets(datasetType=data_product, collections=collections, where= \"instrument='LSSTComCamSim'\")\n",
    "    for i, ref in enumerate(datasetRefs):\n",
    "        if (i % 500 == 0):\n",
    "            print(f\"======================== datasetType = {data_product} ============================================\")\n",
    "            print(\"fullId..................:\",ref.dataId.full)\n",
    "        try:\n",
    "            data = butler.get(data_product, dataId=ref.dataId )  \n",
    "            all_data.append(data)\n",
    "       \n",
    "        except Exception as inst:\n",
    "            print(type(inst))    # the exception type\n",
    "            print(inst.args)     # arguments stored in .args\n",
    "            print(inst)       \n",
    "\n",
    "    df = pd.concat(all_data)\n",
    "    filename = f\"out-{data_product}.csv\" \n",
    "    df.to_csv(filename)"
   ]
  },
  {
   "cell_type": "markdown",
   "id": "c9754379-bfff-45eb-b3d7-5c8b20d9912f",
   "metadata": {},
   "source": [
    "## How do I access an object table?"
   ]
  },
  {
   "cell_type": "code",
   "execution_count": null,
   "id": "34b85f49-f25c-4307-85db-364c3f14a28c",
   "metadata": {
    "execution": {
     "iopub.execute_input": "2025-04-18T17:36:51.047587Z",
     "iopub.status.busy": "2025-04-18T17:36:51.047018Z",
     "iopub.status.idle": "2025-04-18T17:36:53.461756Z",
     "shell.execute_reply": "2025-04-18T17:36:53.461283Z",
     "shell.execute_reply.started": "2025-04-18T17:36:51.047553Z"
    }
   },
   "outputs": [],
   "source": [
    "objectTable_refs = sorted(butler.registry.queryDatasets('objectTable_tract'))\n",
    "N = len(objectTable_refs)\n",
    "objectTable = butler.get(objectTable_refs[0])\n",
    "objectTable[['coord_ra','coord_dec','tract','patch']]"
   ]
  },
  {
   "cell_type": "code",
   "execution_count": null,
   "id": "c76b74a3-9665-4f85-b0e8-87d48b2baa5f",
   "metadata": {
    "execution": {
     "iopub.execute_input": "2025-04-18T17:36:53.462397Z",
     "iopub.status.busy": "2025-04-18T17:36:53.462265Z",
     "iopub.status.idle": "2025-04-18T17:36:53.472791Z",
     "shell.execute_reply": "2025-04-18T17:36:53.472233Z",
     "shell.execute_reply.started": "2025-04-18T17:36:53.462384Z"
    }
   },
   "outputs": [],
   "source": [
    "objectTable[['tract','patch']].groupby([\"tract\",\"patch\"]).size()"
   ]
  },
  {
   "cell_type": "code",
   "execution_count": null,
   "id": "16fda130-ac3d-4fce-a438-08e30d2d2708",
   "metadata": {
    "execution": {
     "iopub.execute_input": "2025-04-18T17:36:53.473483Z",
     "iopub.status.busy": "2025-04-18T17:36:53.473345Z",
     "iopub.status.idle": "2025-04-18T17:36:53.476265Z",
     "shell.execute_reply": "2025-04-18T17:36:53.475855Z",
     "shell.execute_reply.started": "2025-04-18T17:36:53.473469Z"
    }
   },
   "outputs": [],
   "source": [
    "patches = objectTable[\"patch\"].unique()"
   ]
  },
  {
   "cell_type": "code",
   "execution_count": null,
   "id": "196d9bc1-39a3-4090-af1e-fc6c94a42791",
   "metadata": {
    "execution": {
     "iopub.execute_input": "2025-04-18T17:36:53.476827Z",
     "iopub.status.busy": "2025-04-18T17:36:53.476693Z",
     "iopub.status.idle": "2025-04-18T17:36:53.483462Z",
     "shell.execute_reply": "2025-04-18T17:36:53.483058Z",
     "shell.execute_reply.started": "2025-04-18T17:36:53.476814Z"
    }
   },
   "outputs": [],
   "source": [
    "patches"
   ]
  },
  {
   "cell_type": "code",
   "execution_count": null,
   "id": "cf92665e-c847-4d57-975d-448b84b18eb8",
   "metadata": {
    "execution": {
     "execution_failed": "2025-04-18T17:37:04.179Z",
     "iopub.execute_input": "2025-04-18T17:36:53.484061Z",
     "iopub.status.busy": "2025-04-18T17:36:53.483937Z"
    }
   },
   "outputs": [],
   "source": [
    "from collections import OrderedDict\n",
    "tracts_patchs_dict = OrderedDict()\n",
    "objectTable_refs = sorted(butler.registry.queryDatasets('objectTable_tract'))\n",
    "N = len(objectTable_refs)\n",
    "for idx in range(N):\n",
    "    objectTable = butler.get(objectTable_refs[idx])\n",
    "    tract = objectTable[\"tract\"].unique()[0] \n",
    "    patches = objectTable[\"patch\"].unique()\n",
    "    tracts_patchs_dict[tract] = patches \n",
    "    del objectTable"
   ]
  },
  {
   "cell_type": "code",
   "execution_count": null,
   "id": "647b36ee-afe9-4967-8f60-f96ed5e0ced4",
   "metadata": {
    "execution": {
     "execution_failed": "2025-04-18T17:37:04.179Z"
    }
   },
   "outputs": [],
   "source": [
    "tracts_patchs_dict"
   ]
  },
  {
   "cell_type": "code",
   "execution_count": null,
   "id": "a085940a-0389-47b8-a072-9870bac78b19",
   "metadata": {},
   "outputs": [],
   "source": []
  },
  {
   "cell_type": "code",
   "execution_count": null,
   "id": "5cc138ad-0492-430a-b0d0-dfebefeacbb1",
   "metadata": {
    "execution": {
     "execution_failed": "2025-04-18T17:37:04.179Z"
    }
   },
   "outputs": [],
   "source": [
    "import pickle\n",
    "# Store data (serialize)\n",
    "filetractpatch_out = 'lsstcomcam_tractspatchs_20250219.pickle'\n",
    "with open(filetractpatch_out, 'wb') as handle:\n",
    "    pickle.dump(tracts_patchs_dict, handle, protocol=pickle.HIGHEST_PROTOCOL)"
   ]
  },
  {
   "cell_type": "markdown",
   "id": "d5508dd3-7517-42ac-84be-3919e12eb89c",
   "metadata": {},
   "source": [
    "## preSourceTable"
   ]
  },
  {
   "cell_type": "code",
   "execution_count": null,
   "id": "569602a0-a840-49df-b691-5150645cbebb",
   "metadata": {
    "execution": {
     "execution_failed": "2025-04-18T17:37:04.179Z"
    }
   },
   "outputs": [],
   "source": [
    "if 0:\n",
    "    all_data = []\n",
    "    data_product = 'preSourceTable'\n",
    "    datasetRefs = butler.registry.queryDatasets(datasetType=data_product, collections=collections, where= \"instrument='LSSTComCamSim'\")\n",
    "    for i, ref in enumerate(datasetRefs):\n",
    "        if (i % 500 == 0):\n",
    "            print(f\"======================== datasetType = {data_product} ============================================\")\n",
    "            print(\"fullId..................:\",ref.dataId.full)\n",
    "        try:\n",
    "            data = butler.get(data_product, dataId=ref.dataId )  \n",
    "            all_data.append(data)\n",
    "       \n",
    "        except Exception as inst:\n",
    "            print(type(inst))    # the exception type\n",
    "            print(inst.args)     # arguments stored in .args\n",
    "            print(inst)       \n",
    "\n",
    "    df = pd.concat(all_data)\n",
    "    filename = f\"out-{data_product}.csv\" \n",
    "    df.to_csv(filename)"
   ]
  },
  {
   "cell_type": "code",
   "execution_count": null,
   "id": "d37ba508-eba6-45d8-8ace-6f9e9d8ccd2f",
   "metadata": {},
   "outputs": [],
   "source": []
  },
  {
   "cell_type": "code",
   "execution_count": null,
   "id": "bb5ee764-cde7-41af-afe0-28107f6296b5",
   "metadata": {},
   "outputs": [],
   "source": []
  }
 ],
 "metadata": {
  "kernelspec": {
   "display_name": "LSST",
   "language": "python",
   "name": "lsst"
  },
  "language_info": {
   "codemirror_mode": {
    "name": "ipython",
    "version": 3
   },
   "file_extension": ".py",
   "mimetype": "text/x-python",
   "name": "python",
   "nbconvert_exporter": "python",
   "pygments_lexer": "ipython3",
   "version": "3.12.9"
  }
 },
 "nbformat": 4,
 "nbformat_minor": 5
}
