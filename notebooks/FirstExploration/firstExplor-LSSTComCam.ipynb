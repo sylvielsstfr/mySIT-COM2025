{
 "cells": [
  {
   "cell_type": "markdown",
   "id": "de8df7dc-1f1a-476a-b0fc-8c47434675af",
   "metadata": {},
   "source": [
    "# First Exploration of Simulated COMCAM"
   ]
  },
  {
   "cell_type": "markdown",
   "id": "fd840c17-607c-4e1f-b107-e38040b21b59",
   "metadata": {},
   "source": [
    "- author : Sylvie Dagoret-Campagne\n",
    "- creation date :  2025-02-19\n",
    "- update : 2025-02-19\n",
    "- w_2025_04\n",
    "\n",
    "  \n",
    "``Quantum Graphs``: https://tigress-web.princeton.edu/~lkelvin/pipelines/ \n",
    "\n",
    "``CalibrateTask``: \n",
    "https://github.com/lsst/pipe_tasks/blob/main/python/lsst/pipe/tasks/calibrate.py#L392-L399\n",
    "\n",
    "\n",
    "``Shemas``:\n",
    "https://dm.lsst.org/sdm_schemas/browser/"
   ]
  },
  {
   "cell_type": "code",
   "execution_count": null,
   "id": "053ddd12-33e9-4ae4-8283-67bf1d6b6586",
   "metadata": {
    "execution": {
     "iopub.execute_input": "2025-02-19T09:46:56.530609Z",
     "iopub.status.busy": "2025-02-19T09:46:56.530288Z",
     "iopub.status.idle": "2025-02-19T09:46:57.098337Z",
     "shell.execute_reply": "2025-02-19T09:46:57.097789Z",
     "shell.execute_reply.started": "2025-02-19T09:46:56.530587Z"
    }
   },
   "outputs": [],
   "source": [
    "# Confirm that the version of the Science Pipelines is recent:\n",
    "! echo $HOSTNAME\n",
    "! eups list -s | grep lsst_distrib"
   ]
  },
  {
   "cell_type": "code",
   "execution_count": null,
   "id": "2bea3d32-4d5b-4154-8b69-93fd0165e573",
   "metadata": {
    "execution": {
     "iopub.execute_input": "2025-02-19T09:46:57.099160Z",
     "iopub.status.busy": "2025-02-19T09:46:57.098997Z",
     "iopub.status.idle": "2025-02-19T09:46:57.965482Z",
     "shell.execute_reply": "2025-02-19T09:46:57.964898Z",
     "shell.execute_reply.started": "2025-02-19T09:46:57.099137Z"
    }
   },
   "outputs": [],
   "source": [
    "from lsst.daf.butler import Butler\n",
    "import lsst.geom as geom\n",
    "import lsst\n",
    "from lsst.geom import Angle "
   ]
  },
  {
   "cell_type": "code",
   "execution_count": null,
   "id": "29dded88-a8b6-42f8-a344-1208d6c17b69",
   "metadata": {
    "execution": {
     "iopub.execute_input": "2025-02-19T09:46:57.966186Z",
     "iopub.status.busy": "2025-02-19T09:46:57.966037Z",
     "iopub.status.idle": "2025-02-19T09:46:57.968388Z",
     "shell.execute_reply": "2025-02-19T09:46:57.968018Z",
     "shell.execute_reply.started": "2025-02-19T09:46:57.966172Z"
    }
   },
   "outputs": [],
   "source": [
    "from collections import OrderedDict"
   ]
  },
  {
   "cell_type": "code",
   "execution_count": null,
   "id": "4d4d9031-801c-4f52-a3d1-476636024568",
   "metadata": {
    "execution": {
     "iopub.execute_input": "2025-02-19T09:46:57.969765Z",
     "iopub.status.busy": "2025-02-19T09:46:57.969611Z",
     "iopub.status.idle": "2025-02-19T09:46:59.637942Z",
     "shell.execute_reply": "2025-02-19T09:46:59.637510Z",
     "shell.execute_reply.started": "2025-02-19T09:46:57.969753Z"
    }
   },
   "outputs": [],
   "source": [
    "import numpy as np\n",
    "import matplotlib.pyplot as plt\n",
    "import matplotlib as mpl\n",
    "import matplotlib.cm as cm \n",
    "import matplotlib.colors as colors\n",
    "import matplotlib.cm as cmx\n",
    "import matplotlib.dates as mdates\n",
    "from matplotlib.colors import ListedColormap\n",
    "%matplotlib inline\n",
    "from mpl_toolkits.axes_grid1 import make_axes_locatable\n",
    "from matplotlib.colors import LogNorm\n",
    "from astropy.visualization import imshow_norm, MinMaxInterval, SqrtStretch\n",
    "# Astropy\n",
    "from astropy.visualization import ZScaleInterval, AsinhStretch\n",
    "\n",
    "import seaborn as sns\n",
    "import pandas as pd\n",
    "\n",
    "import matplotlib.ticker                         # here's where the formatter is\n",
    "import os\n",
    "import re\n",
    "import pandas as pd\n",
    "\n",
    "\n",
    "#xx-small\n",
    "#x-small\n",
    "#small\n",
    "#medium\n",
    "#large\n",
    "#x-large\n",
    "#xx-large\n",
    "\n",
    "plt.rcParams[\"figure.figsize\"] = (10,6)\n",
    "plt.rcParams[\"axes.labelsize\"] = 'x-large'\n",
    "plt.rcParams['axes.titlesize'] = 'x-large'\n",
    "plt.rcParams['xtick.labelsize']= 'x-large'\n",
    "plt.rcParams['ytick.labelsize']= 'x-large'"
   ]
  },
  {
   "cell_type": "code",
   "execution_count": null,
   "id": "9c550afd-b500-4b20-9897-4076a312e444",
   "metadata": {
    "execution": {
     "iopub.execute_input": "2025-02-19T09:46:59.638627Z",
     "iopub.status.busy": "2025-02-19T09:46:59.638407Z",
     "iopub.status.idle": "2025-02-19T09:46:59.641172Z",
     "shell.execute_reply": "2025-02-19T09:46:59.640785Z",
     "shell.execute_reply.started": "2025-02-19T09:46:59.638612Z"
    }
   },
   "outputs": [],
   "source": [
    "from astropy.time import Time\n",
    "from astropy.coordinates import SkyCoord\n",
    "from astropy import coordinates\n",
    "import astropy.coordinates as coord\n",
    "import astropy.units as u"
   ]
  },
  {
   "cell_type": "markdown",
   "id": "0b851d85-54e9-4649-8de6-35278a27ec71",
   "metadata": {},
   "source": [
    "## Start initialisation here"
   ]
  },
  {
   "cell_type": "code",
   "execution_count": null,
   "id": "b9c5d979-40e6-4b6f-9af6-3e0663a53fe0",
   "metadata": {
    "execution": {
     "iopub.execute_input": "2025-02-19T09:46:59.641701Z",
     "iopub.status.busy": "2025-02-19T09:46:59.641581Z",
     "iopub.status.idle": "2025-02-19T09:46:59.647659Z",
     "shell.execute_reply": "2025-02-19T09:46:59.647337Z",
     "shell.execute_reply.started": "2025-02-19T09:46:59.641689Z"
    }
   },
   "outputs": [],
   "source": [
    "# The output repo is tagged with the Jira ticket number \"DM-40356\":\n",
    "repo = '/repo/main'\n",
    "collection = 'LSSTComCam/runs/DRP/DP1/w_2025_05/DM-48666'\n",
    "instrument = \"LSSTComCam\"\n",
    "skymapName = \"lsst_cells_v1\"\n",
    "where_clause = \"instrument = \\'\" + instrument+ \"\\'\"\n",
    "collectionStr = collection.replace(\"/\", \"_\")\n",
    "NDET = 9"
   ]
  },
  {
   "cell_type": "code",
   "execution_count": null,
   "id": "a11f69fd-f9ce-468d-a651-da9297473e31",
   "metadata": {
    "execution": {
     "iopub.execute_input": "2025-02-19T09:46:59.648182Z",
     "iopub.status.busy": "2025-02-19T09:46:59.648052Z",
     "iopub.status.idle": "2025-02-19T09:47:00.092495Z",
     "shell.execute_reply": "2025-02-19T09:47:00.092064Z",
     "shell.execute_reply.started": "2025-02-19T09:46:59.648171Z"
    }
   },
   "outputs": [],
   "source": [
    "# Initialize the butler repo:\n",
    "butler = Butler(repo, collections=collection)\n",
    "registry = butler.registry"
   ]
  },
  {
   "cell_type": "code",
   "execution_count": null,
   "id": "2cfb695a-c0a7-4c9e-8f22-38d66d8e0488",
   "metadata": {
    "execution": {
     "iopub.execute_input": "2025-02-19T09:47:00.093068Z",
     "iopub.status.busy": "2025-02-19T09:47:00.092937Z",
     "iopub.status.idle": "2025-02-19T09:47:00.332418Z",
     "shell.execute_reply": "2025-02-19T09:47:00.331987Z",
     "shell.execute_reply.started": "2025-02-19T09:47:00.093055Z"
    }
   },
   "outputs": [],
   "source": [
    "skymap = butler.get('skyMap', skymap=skymapName, collections=collection)"
   ]
  },
  {
   "cell_type": "code",
   "execution_count": null,
   "id": "51e9599f-85d3-41b7-852a-4d5a786fcdb0",
   "metadata": {
    "execution": {
     "iopub.execute_input": "2025-02-19T09:47:00.333274Z",
     "iopub.status.busy": "2025-02-19T09:47:00.332924Z",
     "iopub.status.idle": "2025-02-19T09:47:00.336429Z",
     "shell.execute_reply": "2025-02-19T09:47:00.336074Z",
     "shell.execute_reply.started": "2025-02-19T09:47:00.333260Z"
    }
   },
   "outputs": [],
   "source": [
    "# List a number of usefull data-product to explore\n",
    "if 0:\n",
    "    for datasetType in registry.queryDatasetTypes():\n",
    "        if registry.queryDatasets(datasetType, collections=collection).any(\n",
    "            execute=False, exact=False\n",
    "        ):\n",
    "            # Limit search results to the data products\n",
    "            if (\n",
    "                (\"_config\" not in datasetType.name)\n",
    "                and (\"_log\" not in datasetType.name)\n",
    "                and (\"_metadata\" not in datasetType.name)\n",
    "                and (\"_resource_usage\" not in datasetType.name)\n",
    "                and ((\"Table\" in datasetType.name) or (\"Zeropointp\" in datasetType.name) or (\"fgcm\" in datasetType.name) or (\"transm\" in datasetType.name) or (\"Transm\" in datasetType.name) )\n",
    "            ):\n",
    "                print(datasetType)"
   ]
  },
  {
   "cell_type": "markdown",
   "id": "1d98800f-b52e-4bb8-a282-5ecac04a095c",
   "metadata": {},
   "source": [
    "## How do I figure out which tracts have data?"
   ]
  },
  {
   "cell_type": "code",
   "execution_count": null,
   "id": "2aa997c9-d5a8-489d-9db4-8367cd96e2b0",
   "metadata": {
    "execution": {
     "iopub.execute_input": "2025-02-19T09:47:00.336947Z",
     "iopub.status.busy": "2025-02-19T09:47:00.336826Z",
     "iopub.status.idle": "2025-02-19T09:47:00.353018Z",
     "shell.execute_reply": "2025-02-19T09:47:00.352591Z",
     "shell.execute_reply.started": "2025-02-19T09:47:00.336935Z"
    }
   },
   "outputs": [],
   "source": [
    "for dtype in sorted(registry.queryDatasetTypes(expression=\"*nImage*\")):\n",
    "    print(dtype.name)"
   ]
  },
  {
   "cell_type": "code",
   "execution_count": null,
   "id": "276e8682-7ae6-42ef-a6af-47a7050674d2",
   "metadata": {
    "execution": {
     "iopub.execute_input": "2025-02-19T09:47:00.353582Z",
     "iopub.status.busy": "2025-02-19T09:47:00.353458Z",
     "iopub.status.idle": "2025-02-19T09:47:00.358745Z",
     "shell.execute_reply": "2025-02-19T09:47:00.358387Z",
     "shell.execute_reply.started": "2025-02-19T09:47:00.353571Z"
    }
   },
   "outputs": [],
   "source": [
    "#nImage_refs = list(butler.registry.queryDatasets('deepCoadd_nImage'))"
   ]
  },
  {
   "cell_type": "code",
   "execution_count": null,
   "id": "63407f9e-111e-4cb6-9b63-c886286e69cf",
   "metadata": {
    "execution": {
     "iopub.execute_input": "2025-02-19T09:47:00.359286Z",
     "iopub.status.busy": "2025-02-19T09:47:00.359168Z",
     "iopub.status.idle": "2025-02-19T09:47:00.364417Z",
     "shell.execute_reply": "2025-02-19T09:47:00.364074Z",
     "shell.execute_reply.started": "2025-02-19T09:47:00.359275Z"
    }
   },
   "outputs": [],
   "source": [
    "#tracts = np.unique([ref.dataId['tract'] for ref in nImage_refs])\n",
    "#print(tracts)\n",
    "#\n",
    "#bands = np.unique([ref.dataId['band'] for ref in nImage_refs])\n",
    "#print(bands)"
   ]
  },
  {
   "cell_type": "code",
   "execution_count": null,
   "id": "1bbb650d-65ec-4afb-b564-c9ef9937c4d8",
   "metadata": {
    "execution": {
     "iopub.execute_input": "2025-02-19T09:47:00.364913Z",
     "iopub.status.busy": "2025-02-19T09:47:00.364798Z",
     "iopub.status.idle": "2025-02-19T09:47:00.441745Z",
     "shell.execute_reply": "2025-02-19T09:47:00.441346Z",
     "shell.execute_reply.started": "2025-02-19T09:47:00.364902Z"
    }
   },
   "outputs": [],
   "source": [
    "datasettype = \"objectTable_tract\"\n",
    "therefs = butler.registry.queryDatasets(datasettype,  collections=collection)"
   ]
  },
  {
   "cell_type": "code",
   "execution_count": null,
   "id": "fe3a84eb-536f-4b88-b214-38146e5be321",
   "metadata": {
    "execution": {
     "iopub.execute_input": "2025-02-19T09:47:00.442305Z",
     "iopub.status.busy": "2025-02-19T09:47:00.442180Z",
     "iopub.status.idle": "2025-02-19T09:47:00.451614Z",
     "shell.execute_reply": "2025-02-19T09:47:00.451247Z",
     "shell.execute_reply.started": "2025-02-19T09:47:00.442294Z"
    }
   },
   "outputs": [],
   "source": [
    "tractsId_list = np.unique([ref.dataId['tract'] for ref in therefs])\n",
    "tractsId_list = sorted(tractsId_list)\n",
    "print(tractsId_list)"
   ]
  },
  {
   "cell_type": "code",
   "execution_count": null,
   "id": "2ae64f84-8f8a-4452-b264-168ee6fdc249",
   "metadata": {},
   "outputs": [],
   "source": []
  },
  {
   "cell_type": "code",
   "execution_count": null,
   "id": "7cbd08a9-ba87-404a-abf5-d01700c11346",
   "metadata": {
    "execution": {
     "iopub.execute_input": "2025-02-19T09:47:00.452162Z",
     "iopub.status.busy": "2025-02-19T09:47:00.452032Z",
     "iopub.status.idle": "2025-02-19T09:47:00.480217Z",
     "shell.execute_reply": "2025-02-19T09:47:00.479832Z",
     "shell.execute_reply.started": "2025-02-19T09:47:00.452143Z"
    }
   },
   "outputs": [],
   "source": [
    "dict_tract_to_coords_deg = OrderedDict()\n",
    "dict_tract_to_coords_rad = OrderedDict()\n",
    "\n",
    "for tract_sel in tractsId_list:\n",
    "    the_tract = skymap.generateTract(tract_sel)\n",
    "    sp2 = the_tract.getCtrCoord() # get a SpherePoint(278.7804878048781*degrees, -48.34710743801652*degrees)\n",
    "    dict_tract_to_coords_deg[tract_sel] = sp2\n",
    "    dict_tract_to_coords_rad[tract_sel] = dict(ra = sp2[0].asRadians(), dec = sp2[1].asRadians() )"
   ]
  },
  {
   "cell_type": "code",
   "execution_count": null,
   "id": "2e2932db-9bdf-4acf-b585-5bc9f5523a17",
   "metadata": {
    "execution": {
     "iopub.execute_input": "2025-02-19T09:47:00.480796Z",
     "iopub.status.busy": "2025-02-19T09:47:00.480665Z",
     "iopub.status.idle": "2025-02-19T09:47:00.486345Z",
     "shell.execute_reply": "2025-02-19T09:47:00.485974Z",
     "shell.execute_reply.started": "2025-02-19T09:47:00.480785Z"
    }
   },
   "outputs": [],
   "source": [
    "#for key, value in dict_tract_To_Coords.items():\n",
    "#    print(key, \"->\", value,  \" <=> (\", value[0].asRadians(),\" , \", value[1].asRadians(), \")\")"
   ]
  },
  {
   "cell_type": "code",
   "execution_count": null,
   "id": "7ef7a700-0d39-4414-8998-53eadfee2406",
   "metadata": {
    "execution": {
     "iopub.execute_input": "2025-02-19T09:47:09.700755Z",
     "iopub.status.busy": "2025-02-19T09:47:09.700474Z",
     "iopub.status.idle": "2025-02-19T09:47:09.704943Z",
     "shell.execute_reply": "2025-02-19T09:47:09.704582Z",
     "shell.execute_reply.started": "2025-02-19T09:47:09.700740Z"
    }
   },
   "outputs": [],
   "source": [
    "dict_tract_to_coords_deg "
   ]
  },
  {
   "cell_type": "code",
   "execution_count": null,
   "id": "351b1195-2684-4811-8189-c9fc1fc33f3b",
   "metadata": {
    "execution": {
     "iopub.execute_input": "2025-02-19T09:47:10.123914Z",
     "iopub.status.busy": "2025-02-19T09:47:10.123610Z",
     "iopub.status.idle": "2025-02-19T09:47:10.128243Z",
     "shell.execute_reply": "2025-02-19T09:47:10.127878Z",
     "shell.execute_reply.started": "2025-02-19T09:47:10.123897Z"
    }
   },
   "outputs": [],
   "source": [
    "dict_tract_to_coords_rad"
   ]
  },
  {
   "cell_type": "code",
   "execution_count": null,
   "id": "dd950f13-7ae0-42d1-ac1d-178211e801a6",
   "metadata": {
    "execution": {
     "iopub.execute_input": "2025-02-19T09:47:10.607484Z",
     "iopub.status.busy": "2025-02-19T09:47:10.607291Z",
     "iopub.status.idle": "2025-02-19T09:47:12.902299Z",
     "shell.execute_reply": "2025-02-19T09:47:12.901737Z",
     "shell.execute_reply.started": "2025-02-19T09:47:10.607471Z"
    }
   },
   "outputs": [],
   "source": [
    "# Check which tracts actually have a lot of visit coverage:\n",
    "dict_tract_to_coords_andvisits = OrderedDict()\n",
    "for tract_sel in tractsId_list:\n",
    "    visits = list(butler.registry.queryDatasets('visitSummary', tract=tract_sel, skymap=skymapName, findFirst=True))\n",
    "    Nvis = len(visits)\n",
    "    dict_tract_to_coords_andvisits[tract_sel] = dict(ra_deg=dict_tract_to_coords_deg[tract_sel][0], dec_deg =dict_tract_to_coords_deg[tract_sel][1] , \n",
    "                                                     ra_rad = dict_tract_to_coords_rad[tract_sel][\"ra\"], dec_rad = dict_tract_to_coords_rad[tract_sel][\"dec\"],nvis=Nvis)\n",
    "    "
   ]
  },
  {
   "cell_type": "code",
   "execution_count": null,
   "id": "8b804043-750f-454a-9b92-d8b39eef25bd",
   "metadata": {
    "execution": {
     "iopub.execute_input": "2025-02-19T09:47:12.903359Z",
     "iopub.status.busy": "2025-02-19T09:47:12.903188Z",
     "iopub.status.idle": "2025-02-19T09:47:12.909396Z",
     "shell.execute_reply": "2025-02-19T09:47:12.909022Z",
     "shell.execute_reply.started": "2025-02-19T09:47:12.903339Z"
    }
   },
   "outputs": [],
   "source": [
    "dict_tract_to_coords_andvisits"
   ]
  },
  {
   "cell_type": "markdown",
   "id": "4c49d010-5866-4c64-8039-95ab3c00ac6c",
   "metadata": {},
   "source": [
    "## visitSummary"
   ]
  },
  {
   "cell_type": "code",
   "execution_count": null,
   "id": "fddc94a1-df96-41d3-9c91-364155854e61",
   "metadata": {
    "execution": {
     "iopub.execute_input": "2025-02-19T09:47:12.909986Z",
     "iopub.status.busy": "2025-02-19T09:47:12.909836Z",
     "iopub.status.idle": "2025-02-19T09:47:12.916567Z",
     "shell.execute_reply": "2025-02-19T09:47:12.916178Z",
     "shell.execute_reply.started": "2025-02-19T09:47:12.909971Z"
    }
   },
   "outputs": [],
   "source": [
    "if 0:\n",
    "\n",
    "    all_data = []\n",
    "    data_product = 'visitSummary'\n",
    "\n",
    "    #datasetRefs = butler.registry.queryDatasets(datasetType=data_product, collections=collections, where= \"instrument='LSSTComCamSim'\")\n",
    "    datasetRefs = butler.registry.queryDatasets(datasetType=data_product, collections=collection, where = where_clause)\n",
    "    for i, ref in enumerate(datasetRefs):\n",
    "        if (i % 100 == 0):\n",
    "            print(f\"======================== datasetType = {data_product} ============================================\")\n",
    "            print(\"fullId..................:\",ref.dataId.full)\n",
    "        try:\n",
    "            data = butler.get(data_product, dataId=ref.dataId )  \n",
    "            all_data.append(data)\n",
    "       \n",
    "        except Exception as inst:\n",
    "            print(type(inst))    # the exception type\n",
    "            print(inst.args)     # arguments stored in .args\n",
    "            print(inst)         \n",
    "\n",
    "    N = len(all_data)\n",
    "    print(f\"{visitSummary} :: N = {N}\")"
   ]
  },
  {
   "cell_type": "markdown",
   "id": "63965e30-7998-4682-8c73-c0f58b0928d0",
   "metadata": {},
   "source": [
    "### CCD VisitTable"
   ]
  },
  {
   "cell_type": "code",
   "execution_count": null,
   "id": "aa2d60bf-678f-45f0-8939-7ba79ef8a72d",
   "metadata": {
    "execution": {
     "iopub.execute_input": "2025-02-19T09:47:13.623586Z",
     "iopub.status.busy": "2025-02-19T09:47:13.623387Z",
     "iopub.status.idle": "2025-02-19T09:47:13.705489Z",
     "shell.execute_reply": "2025-02-19T09:47:13.704973Z",
     "shell.execute_reply.started": "2025-02-19T09:47:13.623572Z"
    }
   },
   "outputs": [],
   "source": [
    "list(butler.registry.queryDatasets('ccdVisitTable'))"
   ]
  },
  {
   "cell_type": "code",
   "execution_count": null,
   "id": "441f4b9a-2270-43fb-9c31-846030c65128",
   "metadata": {
    "execution": {
     "iopub.execute_input": "2025-02-19T09:47:15.609415Z",
     "iopub.status.busy": "2025-02-19T09:47:15.609091Z",
     "iopub.status.idle": "2025-02-19T09:47:15.717143Z",
     "shell.execute_reply": "2025-02-19T09:47:15.716637Z",
     "shell.execute_reply.started": "2025-02-19T09:47:15.609401Z"
    }
   },
   "outputs": [],
   "source": [
    "ccdVisitTable = butler.get('ccdVisitTable')"
   ]
  },
  {
   "cell_type": "code",
   "execution_count": null,
   "id": "c193b7fb-1a98-4b08-be70-a53d6b6a4f4d",
   "metadata": {
    "execution": {
     "iopub.execute_input": "2025-02-19T09:47:16.376775Z",
     "iopub.status.busy": "2025-02-19T09:47:16.376106Z",
     "iopub.status.idle": "2025-02-19T09:47:16.380158Z",
     "shell.execute_reply": "2025-02-19T09:47:16.379754Z",
     "shell.execute_reply.started": "2025-02-19T09:47:16.376755Z"
    }
   },
   "outputs": [],
   "source": [
    "ccdVisitTable.columns"
   ]
  },
  {
   "cell_type": "code",
   "execution_count": null,
   "id": "7d646d54-2973-4512-a15d-fc9e6e517ca8",
   "metadata": {
    "execution": {
     "iopub.execute_input": "2025-02-19T09:47:17.005333Z",
     "iopub.status.busy": "2025-02-19T09:47:17.005005Z",
     "iopub.status.idle": "2025-02-19T09:47:17.008183Z",
     "shell.execute_reply": "2025-02-19T09:47:17.007764Z",
     "shell.execute_reply.started": "2025-02-19T09:47:17.005316Z"
    }
   },
   "outputs": [],
   "source": [
    "# https://pipelines.lsst.io/modules/lsst.geom/getting-started.html\n",
    "func_degToRad = lambda x : Angle(x,lsst.geom.degrees).asRadians()\n",
    "func_zendtoAirmass = lambda x : 1./np.cos(func_degToRad(x))\n",
    "#func_wrap = lambda x : Angle(x,lsst.geom.radians).wrap(180.*lsst.geom.degrees)"
   ]
  },
  {
   "cell_type": "code",
   "execution_count": null,
   "id": "a17ecbbe-e09a-412e-b07f-010bbacf8d50",
   "metadata": {
    "execution": {
     "iopub.execute_input": "2025-02-19T09:47:17.822712Z",
     "iopub.status.busy": "2025-02-19T09:47:17.822401Z",
     "iopub.status.idle": "2025-02-19T09:47:17.856470Z",
     "shell.execute_reply": "2025-02-19T09:47:17.856081Z",
     "shell.execute_reply.started": "2025-02-19T09:47:17.822698Z"
    }
   },
   "outputs": [],
   "source": [
    "ccdVisitTable[\"airmass\"] = ccdVisitTable['zenithDistance'].apply(func_zendtoAirmass)"
   ]
  },
  {
   "cell_type": "code",
   "execution_count": null,
   "id": "39f2c014-0095-4276-b8f2-fb7452025844",
   "metadata": {
    "execution": {
     "iopub.execute_input": "2025-02-19T09:47:18.524216Z",
     "iopub.status.busy": "2025-02-19T09:47:18.524038Z",
     "iopub.status.idle": "2025-02-19T09:47:18.764234Z",
     "shell.execute_reply": "2025-02-19T09:47:18.763820Z",
     "shell.execute_reply.started": "2025-02-19T09:47:18.524202Z"
    }
   },
   "outputs": [],
   "source": [
    "f2c = {'u': 'blue', 'g': 'green', 'r': 'red',\n",
    "       'i': 'orange', 'z': 'grey', 'y': 'k'}\n",
    "\n",
    "plt.figure(dpi=200)\n",
    "for bandname in f2c:\n",
    "    in_band = ccdVisitTable['band'] == bandname\n",
    "    if np.sum(in_band) > 0:\n",
    "        plt.plot(ccdVisitTable['zenithDistance'][in_band], ccdVisitTable['zeroPoint'][in_band], \n",
    "                 'o', markersize=1, color=f2c[bandname], label=bandname)\n",
    "plt.legend()\n",
    "plt.xlabel('zenithDistance')\n",
    "plt.ylabel('zeroPoint')"
   ]
  },
  {
   "cell_type": "code",
   "execution_count": null,
   "id": "56eed3c0-75a4-4360-b6d4-8a76c8472b1d",
   "metadata": {
    "execution": {
     "iopub.execute_input": "2025-02-19T09:47:19.329115Z",
     "iopub.status.busy": "2025-02-19T09:47:19.328935Z",
     "iopub.status.idle": "2025-02-19T09:47:19.553722Z",
     "shell.execute_reply": "2025-02-19T09:47:19.553321Z",
     "shell.execute_reply.started": "2025-02-19T09:47:19.329101Z"
    }
   },
   "outputs": [],
   "source": [
    "f2c = {'u': 'blue', 'g': 'green', 'r': 'red',\n",
    "       'i': 'orange', 'z': 'grey', 'y': 'k'}\n",
    "\n",
    "plt.figure(dpi=200)\n",
    "for bandname in f2c:\n",
    "    in_band = ccdVisitTable['band'] == bandname\n",
    "    if np.sum(in_band) > 0:\n",
    "        plt.plot(ccdVisitTable['airmass'][in_band], ccdVisitTable['zeroPoint'][in_band], \n",
    "                 'o', markersize=1, color=f2c[bandname], label=bandname)\n",
    "plt.legend()\n",
    "plt.xlabel('airmass')\n",
    "plt.ylabel('zeroPoint')"
   ]
  },
  {
   "cell_type": "code",
   "execution_count": null,
   "id": "b4f62b2a-e1bb-4f33-b838-af416e644831",
   "metadata": {
    "execution": {
     "iopub.execute_input": "2025-02-19T09:47:20.018700Z",
     "iopub.status.busy": "2025-02-19T09:47:20.018298Z",
     "iopub.status.idle": "2025-02-19T09:47:20.255465Z",
     "shell.execute_reply": "2025-02-19T09:47:20.255037Z",
     "shell.execute_reply.started": "2025-02-19T09:47:20.018684Z"
    }
   },
   "outputs": [],
   "source": [
    "f2c = {'u': 'blue', 'g': 'green', 'r': 'red',\n",
    "       'i': 'orange', 'z': 'grey', 'y': 'k'}\n",
    "\n",
    "plt.figure(dpi=200)\n",
    "for bandname in f2c:\n",
    "    in_band = ccdVisitTable['band'] == bandname\n",
    "    if np.sum(in_band) > 0:\n",
    "        plt.plot(ccdVisitTable['airmass'][in_band], ccdVisitTable['psfSigma'][in_band], \n",
    "                 'o', markersize=1, color=f2c[bandname], label=bandname)\n",
    "plt.legend()\n",
    "plt.xlabel('airmass')\n",
    "plt.ylabel('psfSigma')"
   ]
  },
  {
   "cell_type": "code",
   "execution_count": null,
   "id": "88e95e14-4f95-4866-ba3f-54358c4a73dd",
   "metadata": {
    "execution": {
     "iopub.execute_input": "2025-02-19T09:47:22.526571Z",
     "iopub.status.busy": "2025-02-19T09:47:22.526223Z",
     "iopub.status.idle": "2025-02-19T09:47:22.758273Z",
     "shell.execute_reply": "2025-02-19T09:47:22.757847Z",
     "shell.execute_reply.started": "2025-02-19T09:47:22.526554Z"
    }
   },
   "outputs": [],
   "source": [
    "f2c = {'u': 'blue', 'g': 'green', 'r': 'red',\n",
    "       'i': 'orange', 'z': 'grey', 'y': 'k'}\n",
    "\n",
    "plt.figure(dpi=200)\n",
    "for bandname in f2c:\n",
    "    in_band = ccdVisitTable['band'] == bandname\n",
    "    if np.sum(in_band) > 0:\n",
    "        plt.plot(ccdVisitTable['airmass'][in_band], ccdVisitTable['seeing'][in_band], \n",
    "                 'o', markersize=1, color=f2c[bandname], label=bandname)\n",
    "plt.legend()\n",
    "plt.xlabel('airmass')\n",
    "plt.ylabel('seeing')"
   ]
  },
  {
   "cell_type": "code",
   "execution_count": null,
   "id": "fce2c79b-edcf-4ab9-ba74-05426aa3c4a3",
   "metadata": {
    "execution": {
     "iopub.execute_input": "2025-02-19T09:47:24.031616Z",
     "iopub.status.busy": "2025-02-19T09:47:24.031315Z",
     "iopub.status.idle": "2025-02-19T09:47:24.038278Z",
     "shell.execute_reply": "2025-02-19T09:47:24.037883Z",
     "shell.execute_reply.started": "2025-02-19T09:47:24.031601Z"
    }
   },
   "outputs": [],
   "source": [
    "ccdvisit_subset = ccdVisitTable[['visitId', 'band', 'ra', 'dec','detector','zenithDistance','obsStartMJD']]"
   ]
  },
  {
   "cell_type": "code",
   "execution_count": null,
   "id": "7537c14b-36b7-4702-8dae-d784a4c9491e",
   "metadata": {
    "execution": {
     "iopub.execute_input": "2025-02-19T09:47:25.872630Z",
     "iopub.status.busy": "2025-02-19T09:47:25.872333Z",
     "iopub.status.idle": "2025-02-19T09:47:25.885900Z",
     "shell.execute_reply": "2025-02-19T09:47:25.885530Z",
     "shell.execute_reply.started": "2025-02-19T09:47:25.872614Z"
    }
   },
   "outputs": [],
   "source": [
    "ccdvisit_subset "
   ]
  },
  {
   "cell_type": "code",
   "execution_count": null,
   "id": "5d7a81c9-2b1e-4815-b0f5-d17e28eb4cd6",
   "metadata": {
    "execution": {
     "iopub.execute_input": "2025-02-19T09:47:26.993374Z",
     "iopub.status.busy": "2025-02-19T09:47:26.993062Z",
     "iopub.status.idle": "2025-02-19T09:47:26.996044Z",
     "shell.execute_reply": "2025-02-19T09:47:26.995669Z",
     "shell.execute_reply.started": "2025-02-19T09:47:26.993357Z"
    }
   },
   "outputs": [],
   "source": [
    "# https://pipelines.lsst.io/modules/lsst.geom/getting-started.html\n",
    "func_degToRad = lambda x : Angle(x,lsst.geom.degrees).asRadians()\n",
    "func_zendtoAirmass = lambda x : 1./np.cos(func_degToRad(x))\n",
    "#func_wrap = lambda x : Angle(x,lsst.geom.radians).wrap(180.*lsst.geom.degrees)"
   ]
  },
  {
   "cell_type": "code",
   "execution_count": null,
   "id": "598f8fd1-eafe-478c-b65f-1a9d97387530",
   "metadata": {
    "execution": {
     "iopub.execute_input": "2025-02-19T09:47:27.843743Z",
     "iopub.status.busy": "2025-02-19T09:47:27.843545Z",
     "iopub.status.idle": "2025-02-19T09:47:27.891623Z",
     "shell.execute_reply": "2025-02-19T09:47:27.891230Z",
     "shell.execute_reply.started": "2025-02-19T09:47:27.843729Z"
    }
   },
   "outputs": [],
   "source": [
    "ccdvisit_subset[\"zenithDistance_rad\"]= ccdvisit_subset[\"zenithDistance\"].apply(func_degToRad)\n",
    "ccdvisit_subset[\"airmass\"]= ccdvisit_subset[\"zenithDistance\"].apply(func_zendtoAirmass)"
   ]
  },
  {
   "cell_type": "code",
   "execution_count": null,
   "id": "755b8180-8acf-44e8-9e1e-8233110bf727",
   "metadata": {
    "execution": {
     "iopub.execute_input": "2025-02-19T09:47:28.677883Z",
     "iopub.status.busy": "2025-02-19T09:47:28.677543Z",
     "iopub.status.idle": "2025-02-19T09:47:28.687142Z",
     "shell.execute_reply": "2025-02-19T09:47:28.686792Z",
     "shell.execute_reply.started": "2025-02-19T09:47:28.677867Z"
    }
   },
   "outputs": [],
   "source": [
    "ccdvisit_subset"
   ]
  },
  {
   "cell_type": "code",
   "execution_count": null,
   "id": "2beb5941-ea57-41c5-abb0-59fe8fd26e79",
   "metadata": {
    "execution": {
     "iopub.execute_input": "2025-02-19T09:47:29.568494Z",
     "iopub.status.busy": "2025-02-19T09:47:29.568209Z",
     "iopub.status.idle": "2025-02-19T09:47:29.575547Z",
     "shell.execute_reply": "2025-02-19T09:47:29.575170Z",
     "shell.execute_reply.started": "2025-02-19T09:47:29.568479Z"
    }
   },
   "outputs": [],
   "source": [
    "#ccdvisit_subset_u = ccdvisit_subset[ccdvisit_subset.band == 'u']\n",
    "ccdvisit_subset_g = ccdvisit_subset[ccdvisit_subset.band == 'g']\n",
    "ccdvisit_subset_r = ccdvisit_subset[ccdvisit_subset.band == 'r']\n",
    "ccdvisit_subset_i = ccdvisit_subset[ccdvisit_subset.band == 'i']\n",
    "#ccdvisit_subset_z = ccdvisit_subset[ccdvisit_subset.band == 'z']\n",
    "#ccdvisit_subset_y = ccdvisit_subset[ccdvisit_subset.band == 'y']\n",
    "Ng = len(ccdvisit_subset_g)\n",
    "Nr = len(ccdvisit_subset_r)\n",
    "Ni = len(ccdvisit_subset_i)\n",
    "print(Ng,Nr,Ni)"
   ]
  },
  {
   "cell_type": "code",
   "execution_count": null,
   "id": "12fa2bb3-1d4b-4ed9-b389-bcb7661cf02a",
   "metadata": {
    "execution": {
     "iopub.execute_input": "2025-02-19T09:47:30.432744Z",
     "iopub.status.busy": "2025-02-19T09:47:30.432422Z",
     "iopub.status.idle": "2025-02-19T09:47:30.438976Z",
     "shell.execute_reply": "2025-02-19T09:47:30.438618Z",
     "shell.execute_reply.started": "2025-02-19T09:47:30.432727Z"
    }
   },
   "outputs": [],
   "source": [
    "sns.color_palette(\"Spectral\", as_cmap=True)"
   ]
  },
  {
   "cell_type": "code",
   "execution_count": null,
   "id": "9f0a5865-4a81-484b-9a68-9a72fb258ecb",
   "metadata": {
    "execution": {
     "iopub.execute_input": "2025-02-19T09:47:31.376503Z",
     "iopub.status.busy": "2025-02-19T09:47:31.376300Z",
     "iopub.status.idle": "2025-02-19T09:47:31.397294Z",
     "shell.execute_reply": "2025-02-19T09:47:31.396925Z",
     "shell.execute_reply.started": "2025-02-19T09:47:31.376490Z"
    }
   },
   "outputs": [],
   "source": [
    "cmap_g = ListedColormap(sns.color_palette(\"Spectral\", Ng))\n",
    "cmap_r = ListedColormap(sns.color_palette(\"Spectral\", Nr))\n",
    "cmap_i = ListedColormap(sns.color_palette(\"Spectral\", Ni))\n",
    "\n",
    "#patch_to_color[patch] = cmap.colors[idx]"
   ]
  },
  {
   "cell_type": "code",
   "execution_count": null,
   "id": "8585b7eb-9d6b-4b5b-bb78-dafd6f6e8eac",
   "metadata": {
    "execution": {
     "iopub.execute_input": "2025-02-19T09:47:32.004843Z",
     "iopub.status.busy": "2025-02-19T09:47:32.004569Z",
     "iopub.status.idle": "2025-02-19T09:47:32.008032Z",
     "shell.execute_reply": "2025-02-19T09:47:32.007681Z",
     "shell.execute_reply.started": "2025-02-19T09:47:32.004828Z"
    }
   },
   "outputs": [],
   "source": [
    "all_colors_g = [cmap_g.colors[idx] for idx in range(Ng)]\n",
    "all_colors_r = [cmap_r.colors[idx] for idx in range(Nr)]\n",
    "all_colors_i = [cmap_i.colors[idx] for idx in range(Ni)]"
   ]
  },
  {
   "cell_type": "code",
   "execution_count": null,
   "id": "9402d2a3-c324-4299-913f-8a793c386e14",
   "metadata": {
    "execution": {
     "iopub.execute_input": "2025-02-19T09:47:32.674936Z",
     "iopub.status.busy": "2025-02-19T09:47:32.674575Z",
     "iopub.status.idle": "2025-02-19T09:47:32.684360Z",
     "shell.execute_reply": "2025-02-19T09:47:32.683990Z",
     "shell.execute_reply.started": "2025-02-19T09:47:32.674921Z"
    }
   },
   "outputs": [],
   "source": [
    "ra_g = ccdvisit_subset_g['ra'].apply(func_degToRad) \n",
    "dec_g = ccdvisit_subset_g['dec'].apply(func_degToRad) "
   ]
  },
  {
   "cell_type": "code",
   "execution_count": null,
   "id": "6b90721b-4d07-4b9b-888a-0416fc5eb34a",
   "metadata": {
    "execution": {
     "iopub.execute_input": "2025-02-19T09:47:33.507707Z",
     "iopub.status.busy": "2025-02-19T09:47:33.507428Z",
     "iopub.status.idle": "2025-02-19T09:47:33.513870Z",
     "shell.execute_reply": "2025-02-19T09:47:33.513515Z",
     "shell.execute_reply.started": "2025-02-19T09:47:33.507693Z"
    }
   },
   "outputs": [],
   "source": [
    "# Galactic plane\n",
    "gal_long = np.linspace(-180.,180,360)\n",
    "gal_lat = np.zeros((360))\n",
    "coordinates_galactic_planes = SkyCoord(l=gal_long*u.degree, b=gal_lat*u.degree, frame='galactic')\n",
    "gp_radec = coordinates_galactic_planes.transform_to('icrs')  \n",
    "# for galactic plane\n",
    "# gp_radec.ra : 0., 360.\n",
    "# gp_radec.dec : -90, 90\n",
    "gp_ra_toplot = coordinates.Angle(gp_radec.ra.degree*u.degree)\n",
    "gp_ra_toplot = gp_ra_toplot.wrap_at(180*u.degree)\n",
    "# gp_ra_toplot -180, 180\n",
    "#wrapping angle : https://docs.astropy.org/en/stable/api/astropy.coordinates.Angle.html"
   ]
  },
  {
   "cell_type": "code",
   "execution_count": null,
   "id": "90a3e277-2d31-4bb2-922d-364f368d51ff",
   "metadata": {
    "execution": {
     "iopub.execute_input": "2025-02-19T09:49:23.247856Z",
     "iopub.status.busy": "2025-02-19T09:49:23.247487Z",
     "iopub.status.idle": "2025-02-19T09:49:23.598091Z",
     "shell.execute_reply": "2025-02-19T09:49:23.597755Z",
     "shell.execute_reply.started": "2025-02-19T09:49:23.247841Z"
    }
   },
   "outputs": [],
   "source": [
    "fig,ax = plt.subplots(1,1,figsize=(12,4),dpi=200)\n",
    "\n",
    "leg = ax.get_legend()\n",
    "#ax.scatter(ccdvisit_subset_g[\"obsStartMJD\"].values,ccdvisit_subset_g[\"ra\"].values ,c=all_colors_g)\n",
    "ccdvisit_subset_g.plot.scatter(x=\"obsStartMJD\",y=\"ra\",marker=\"o\",c=all_colors_g,ax=ax,legend=leg,label=\"G\")\n",
    "ccdvisit_subset_r.plot.scatter(x=\"obsStartMJD\",y=\"ra\",marker=\"^\",c=all_colors_r,ax=ax,legend=leg,label=\"R\")\n",
    "ccdvisit_subset_i.plot.scatter(x=\"obsStartMJD\",y=\"ra\",marker=\"v\",c=all_colors_i,ax=ax,legend=leg,label=\"I\")\n",
    "ax.grid()"
   ]
  },
  {
   "cell_type": "code",
   "execution_count": null,
   "id": "e14411e6-2d14-48af-8893-628030364f4a",
   "metadata": {
    "execution": {
     "iopub.execute_input": "2025-02-19T09:50:02.023051Z",
     "iopub.status.busy": "2025-02-19T09:50:02.022598Z",
     "iopub.status.idle": "2025-02-19T09:50:02.378053Z",
     "shell.execute_reply": "2025-02-19T09:50:02.377603Z",
     "shell.execute_reply.started": "2025-02-19T09:50:02.023035Z"
    }
   },
   "outputs": [],
   "source": [
    "fig,ax = plt.subplots(1,1,figsize=(12,4),dpi=200)\n",
    "leg = ax.get_legend()\n",
    "#ax.scatter(ccdvisit_subset_g[\"obsStartMJD\"].values,ccdvisit_subset_g[\"ra\"].values ,c=all_colors_g)\n",
    "ccdvisit_subset_g.plot.scatter(x=\"obsStartMJD\",y=\"dec\",marker=\"o\",c=all_colors_g,ax=ax,legend=leg,label=\"G\")\n",
    "ccdvisit_subset_r.plot.scatter(x=\"obsStartMJD\",y=\"dec\",marker=\"^\",c=all_colors_r,ax=ax,legend=leg,label=\"R\")\n",
    "ccdvisit_subset_i.plot.scatter(x=\"obsStartMJD\",y=\"dec\",marker=\"v\",c=all_colors_i,ax=ax,legend=leg,label=\"I\")\n",
    "ax.grid()"
   ]
  },
  {
   "cell_type": "code",
   "execution_count": null,
   "id": "3aa3a181-8dfd-4a8c-82a0-38cf6df211fe",
   "metadata": {
    "execution": {
     "iopub.execute_input": "2025-02-19T09:50:06.441641Z",
     "iopub.status.busy": "2025-02-19T09:50:06.441111Z",
     "iopub.status.idle": "2025-02-19T09:50:06.445270Z",
     "shell.execute_reply": "2025-02-19T09:50:06.444930Z",
     "shell.execute_reply.started": "2025-02-19T09:50:06.441623Z"
    }
   },
   "outputs": [],
   "source": [
    "dict_tract_to_coords_rad"
   ]
  },
  {
   "cell_type": "code",
   "execution_count": null,
   "id": "a244c484-e403-4b1a-b179-9949ca888ded",
   "metadata": {
    "execution": {
     "iopub.execute_input": "2025-02-19T09:50:15.600717Z",
     "iopub.status.busy": "2025-02-19T09:50:15.600209Z",
     "iopub.status.idle": "2025-02-19T09:50:16.074989Z",
     "shell.execute_reply": "2025-02-19T09:50:16.074573Z",
     "shell.execute_reply.started": "2025-02-19T09:50:15.600703Z"
    }
   },
   "outputs": [],
   "source": [
    "# plot\n",
    "# x arg in rad must be (-2pi,2pi), y arg in rad  must be in ( -pi,pi )\n",
    "fig = plt.figure(figsize=(12,6),dpi=200)\n",
    "#ax = fig.add_subplot(111, projection=\"aitoff\")\n",
    "ax = fig.add_subplot(111, projection=\"mollweide\")\n",
    "ax.scatter(gp_ra_toplot.radian, gp_radec.dec.radian,c=\"r\",label=\"Galactic Plane\",s=1)\n",
    "ax.scatter(ra_g.values-np.pi,dec_g.values,marker='+',c=all_colors_g)\n",
    "ax.legend()\n",
    "ax.grid()\n",
    "\n",
    "index=0\n",
    "for key, value in dict_tract_to_coords_rad.items():\n",
    "    tract_num_str= str(key)\n",
    "    x = value[\"ra\"] - np.pi\n",
    "    y = value[\"dec\"] \n",
    "    \n",
    "    if index%2 == 0:\n",
    "        dy= -Angle(3,lsst.geom.degrees).asRadians()\n",
    "        dx= -Angle(3,lsst.geom.degrees).asRadians()\n",
    "    else:\n",
    "        dy= Angle(3,lsst.geom.degrees).asRadians()\n",
    "        dx= Angle(3,lsst.geom.degrees).asRadians()\n",
    "        \n",
    "    ax.text(x+dx, y+dy, tract_num_str, fontsize=8,color=\"b\")\n",
    "    index+=1\n",
    "\n",
    "plt.suptitle(instrument)"
   ]
  },
  {
   "cell_type": "code",
   "execution_count": null,
   "id": "6d5863cb-f53d-42be-bbda-2fef8dad3bbd",
   "metadata": {
    "execution": {
     "iopub.execute_input": "2025-02-19T09:50:20.426130Z",
     "iopub.status.busy": "2025-02-19T09:50:20.425635Z",
     "iopub.status.idle": "2025-02-19T09:50:20.702406Z",
     "shell.execute_reply": "2025-02-19T09:50:20.702002Z",
     "shell.execute_reply.started": "2025-02-19T09:50:20.426115Z"
    }
   },
   "outputs": [],
   "source": [
    "# plot\n",
    "# x arg in rad must be (-2pi,2pi), y arg in rad  must be in ( -pi,pi )\n",
    "fig = plt.figure(figsize=(12,6),dpi=200)\n",
    "#ax = fig.add_subplot(111, projection=\"aitoff\")\n",
    "ax = fig.add_subplot(111)\n",
    "ax.scatter(gp_ra_toplot.degree, gp_radec.dec.degree,c=\"r\",label=\"Galactic Plane\",s=1)\n",
    "ax.scatter(ccdvisit_subset_g['ra'].values -180.,ccdvisit_subset_g['dec'].values,marker='+',c=all_colors_g)\n",
    "ax.legend()\n",
    "ax.grid()\n",
    "\n",
    "index=0\n",
    "for key, value in dict_tract_to_coords_andvisits.items():\n",
    "    \n",
    "    tract_num_str= str(key)\n",
    "    x = value['ra_deg'].asDegrees() - 180\n",
    "    y = value[\"dec_deg\"].asDegrees() \n",
    "    \n",
    "    if index%2 == 0:\n",
    "        dy= -5\n",
    "        dx= -5\n",
    "    else:\n",
    "        dy= 5\n",
    "        dx= 5\n",
    "        \n",
    "    ax.text(x+dx, y+dy, tract_num_str, fontsize=8,color=\"b\")\n",
    "    index+=1\n",
    "\n",
    "plt.suptitle(instrument)"
   ]
  },
  {
   "cell_type": "markdown",
   "id": "fa6beb89-050b-43fa-b5e4-8060326e5097",
   "metadata": {},
   "source": [
    "## sourceTable_visit"
   ]
  },
  {
   "cell_type": "code",
   "execution_count": null,
   "id": "7c401a3d-1f6f-4af9-813a-617eb2aeff0d",
   "metadata": {
    "execution": {
     "iopub.execute_input": "2025-02-19T09:50:24.491705Z",
     "iopub.status.busy": "2025-02-19T09:50:24.491232Z",
     "iopub.status.idle": "2025-02-19T09:50:24.495225Z",
     "shell.execute_reply": "2025-02-19T09:50:24.494803Z",
     "shell.execute_reply.started": "2025-02-19T09:50:24.491688Z"
    }
   },
   "outputs": [],
   "source": [
    "if 0:\n",
    "    all_data = []\n",
    "    data_product = 'sourceTable_visit'\n",
    "    datasetRefs = butler.registry.queryDatasets(datasetType=data_product, collections=collections, where= \"instrument='LSSTComCamSim'\")\n",
    "    for i, ref in enumerate(datasetRefs):\n",
    "        if (i % 500 == 0):\n",
    "            print(f\"======================== datasetType = {data_product} ============================================\")\n",
    "            print(\"fullId..................:\",ref.dataId.full)\n",
    "        try:\n",
    "            data = butler.get(data_product, dataId=ref.dataId )  \n",
    "            all_data.append(data)\n",
    "       \n",
    "        except Exception as inst:\n",
    "            print(type(inst))    # the exception type\n",
    "            print(inst.args)     # arguments stored in .args\n",
    "            print(inst)       \n",
    "\n",
    "    df = pd.concat(all_data)\n",
    "    filename = f\"out-{data_product}.csv\" \n",
    "    df.to_csv(filename)"
   ]
  },
  {
   "cell_type": "markdown",
   "id": "c9754379-bfff-45eb-b3d7-5c8b20d9912f",
   "metadata": {},
   "source": [
    "## How do I access an object table?"
   ]
  },
  {
   "cell_type": "code",
   "execution_count": null,
   "id": "34b85f49-f25c-4307-85db-364c3f14a28c",
   "metadata": {
    "execution": {
     "iopub.execute_input": "2025-02-19T09:50:32.346033Z",
     "iopub.status.busy": "2025-02-19T09:50:32.345484Z",
     "iopub.status.idle": "2025-02-19T09:50:34.055947Z",
     "shell.execute_reply": "2025-02-19T09:50:34.055576Z",
     "shell.execute_reply.started": "2025-02-19T09:50:32.346017Z"
    }
   },
   "outputs": [],
   "source": [
    "objectTable_refs = sorted(butler.registry.queryDatasets('objectTable_tract'))\n",
    "N = len(objectTable_refs)\n",
    "objectTable = butler.get(objectTable_refs[0])\n",
    "objectTable[['coord_ra','coord_dec','tract','patch']]"
   ]
  },
  {
   "cell_type": "code",
   "execution_count": null,
   "id": "c76b74a3-9665-4f85-b0e8-87d48b2baa5f",
   "metadata": {
    "execution": {
     "iopub.execute_input": "2025-02-19T09:50:38.000464Z",
     "iopub.status.busy": "2025-02-19T09:50:38.000239Z",
     "iopub.status.idle": "2025-02-19T09:50:38.011036Z",
     "shell.execute_reply": "2025-02-19T09:50:38.010665Z",
     "shell.execute_reply.started": "2025-02-19T09:50:38.000449Z"
    }
   },
   "outputs": [],
   "source": [
    "objectTable[['tract','patch']].groupby([\"tract\",\"patch\"]).size()"
   ]
  },
  {
   "cell_type": "code",
   "execution_count": null,
   "id": "16fda130-ac3d-4fce-a438-08e30d2d2708",
   "metadata": {
    "execution": {
     "iopub.execute_input": "2025-02-19T09:50:41.450341Z",
     "iopub.status.busy": "2025-02-19T09:50:41.449764Z",
     "iopub.status.idle": "2025-02-19T09:50:41.454082Z",
     "shell.execute_reply": "2025-02-19T09:50:41.453627Z",
     "shell.execute_reply.started": "2025-02-19T09:50:41.450326Z"
    }
   },
   "outputs": [],
   "source": [
    "patches = objectTable[\"patch\"].unique()"
   ]
  },
  {
   "cell_type": "code",
   "execution_count": null,
   "id": "196d9bc1-39a3-4090-af1e-fc6c94a42791",
   "metadata": {
    "execution": {
     "iopub.execute_input": "2025-02-19T09:50:43.367064Z",
     "iopub.status.busy": "2025-02-19T09:50:43.366605Z",
     "iopub.status.idle": "2025-02-19T09:50:43.369911Z",
     "shell.execute_reply": "2025-02-19T09:50:43.369550Z",
     "shell.execute_reply.started": "2025-02-19T09:50:43.367047Z"
    }
   },
   "outputs": [],
   "source": [
    "patches"
   ]
  },
  {
   "cell_type": "code",
   "execution_count": null,
   "id": "cf92665e-c847-4d57-975d-448b84b18eb8",
   "metadata": {
    "execution": {
     "iopub.execute_input": "2025-02-19T09:50:45.153941Z",
     "iopub.status.busy": "2025-02-19T09:50:45.153742Z",
     "iopub.status.idle": "2025-02-19T09:51:28.630720Z",
     "shell.execute_reply": "2025-02-19T09:51:28.630228Z",
     "shell.execute_reply.started": "2025-02-19T09:50:45.153927Z"
    }
   },
   "outputs": [],
   "source": [
    "from collections import OrderedDict\n",
    "tracts_patchs_dict = OrderedDict()\n",
    "objectTable_refs = sorted(butler.registry.queryDatasets('objectTable_tract'))\n",
    "N = len(objectTable_refs)\n",
    "for idx in range(N):\n",
    "    objectTable = butler.get(objectTable_refs[idx])\n",
    "    tract = objectTable[\"tract\"].unique()[0] \n",
    "    patches = objectTable[\"patch\"].unique()\n",
    "    tracts_patchs_dict[tract] = patches \n",
    "    del objectTable"
   ]
  },
  {
   "cell_type": "code",
   "execution_count": null,
   "id": "647b36ee-afe9-4967-8f60-f96ed5e0ced4",
   "metadata": {
    "execution": {
     "iopub.execute_input": "2025-02-19T09:51:28.631596Z",
     "iopub.status.busy": "2025-02-19T09:51:28.631457Z",
     "iopub.status.idle": "2025-02-19T09:51:28.636568Z",
     "shell.execute_reply": "2025-02-19T09:51:28.636232Z",
     "shell.execute_reply.started": "2025-02-19T09:51:28.631583Z"
    }
   },
   "outputs": [],
   "source": [
    "tracts_patchs_dict"
   ]
  },
  {
   "cell_type": "code",
   "execution_count": null,
   "id": "a085940a-0389-47b8-a072-9870bac78b19",
   "metadata": {},
   "outputs": [],
   "source": []
  },
  {
   "cell_type": "code",
   "execution_count": null,
   "id": "5cc138ad-0492-430a-b0d0-dfebefeacbb1",
   "metadata": {
    "execution": {
     "iopub.execute_input": "2025-02-19T09:51:28.637041Z",
     "iopub.status.busy": "2025-02-19T09:51:28.636924Z",
     "iopub.status.idle": "2025-02-19T09:51:28.644829Z",
     "shell.execute_reply": "2025-02-19T09:51:28.644484Z",
     "shell.execute_reply.started": "2025-02-19T09:51:28.637030Z"
    }
   },
   "outputs": [],
   "source": [
    "import pickle\n",
    "# Store data (serialize)\n",
    "filetractpatch_out = 'lsstcomcam_tractspatchs_20250219.pickle'\n",
    "with open(filetractpatch_out, 'wb') as handle:\n",
    "    pickle.dump(tracts_patchs_dict, handle, protocol=pickle.HIGHEST_PROTOCOL)"
   ]
  },
  {
   "cell_type": "markdown",
   "id": "d5508dd3-7517-42ac-84be-3919e12eb89c",
   "metadata": {},
   "source": [
    "## preSourceTable"
   ]
  },
  {
   "cell_type": "code",
   "execution_count": null,
   "id": "569602a0-a840-49df-b691-5150645cbebb",
   "metadata": {
    "execution": {
     "iopub.execute_input": "2025-02-19T09:51:28.645566Z",
     "iopub.status.busy": "2025-02-19T09:51:28.645449Z",
     "iopub.status.idle": "2025-02-19T09:51:28.648870Z",
     "shell.execute_reply": "2025-02-19T09:51:28.648510Z",
     "shell.execute_reply.started": "2025-02-19T09:51:28.645555Z"
    }
   },
   "outputs": [],
   "source": [
    "if 0:\n",
    "    all_data = []\n",
    "    data_product = 'preSourceTable'\n",
    "    datasetRefs = butler.registry.queryDatasets(datasetType=data_product, collections=collections, where= \"instrument='LSSTComCamSim'\")\n",
    "    for i, ref in enumerate(datasetRefs):\n",
    "        if (i % 500 == 0):\n",
    "            print(f\"======================== datasetType = {data_product} ============================================\")\n",
    "            print(\"fullId..................:\",ref.dataId.full)\n",
    "        try:\n",
    "            data = butler.get(data_product, dataId=ref.dataId )  \n",
    "            all_data.append(data)\n",
    "       \n",
    "        except Exception as inst:\n",
    "            print(type(inst))    # the exception type\n",
    "            print(inst.args)     # arguments stored in .args\n",
    "            print(inst)       \n",
    "\n",
    "    df = pd.concat(all_data)\n",
    "    filename = f\"out-{data_product}.csv\" \n",
    "    df.to_csv(filename)"
   ]
  },
  {
   "cell_type": "code",
   "execution_count": null,
   "id": "d37ba508-eba6-45d8-8ace-6f9e9d8ccd2f",
   "metadata": {},
   "outputs": [],
   "source": []
  },
  {
   "cell_type": "code",
   "execution_count": null,
   "id": "bb5ee764-cde7-41af-afe0-28107f6296b5",
   "metadata": {},
   "outputs": [],
   "source": []
  }
 ],
 "metadata": {
  "kernelspec": {
   "display_name": "LSST",
   "language": "python",
   "name": "lsst"
  },
  "language_info": {
   "codemirror_mode": {
    "name": "ipython",
    "version": 3
   },
   "file_extension": ".py",
   "mimetype": "text/x-python",
   "name": "python",
   "nbconvert_exporter": "python",
   "pygments_lexer": "ipython3",
   "version": "3.11.9"
  }
 },
 "nbformat": 4,
 "nbformat_minor": 5
}
