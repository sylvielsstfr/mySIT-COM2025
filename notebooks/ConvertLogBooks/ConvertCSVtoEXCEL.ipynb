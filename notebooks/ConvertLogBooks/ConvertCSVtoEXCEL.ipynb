{
 "cells": [
  {
   "cell_type": "markdown",
   "id": "454ade87-793f-4e42-b9cc-9c9f3438879a",
   "metadata": {},
   "source": [
    "# Convert csv into excel"
   ]
  },
  {
   "cell_type": "code",
   "execution_count": 1,
   "id": "38a81876-cd90-4428-8d50-55dbec39dce9",
   "metadata": {},
   "outputs": [],
   "source": [
    "import pandas as pd"
   ]
  },
  {
   "cell_type": "code",
   "execution_count": 2,
   "id": "f804ee4a-c58c-4426-82c0-2c876ee4b593",
   "metadata": {},
   "outputs": [],
   "source": [
    "#in_file = \"lsstcam_lgb_2025041500145-2025041500273.csv\"\n",
    "in_file = \"lsstcam_lgb_2025041500138-2025041600097.csv\"\n",
    "out_file = in_file.split(\".\")[0]+\".xlsx\""
   ]
  },
  {
   "cell_type": "code",
   "execution_count": 4,
   "id": "11157930-e28f-40bc-8008-2c027421580c",
   "metadata": {},
   "outputs": [],
   "source": [
    "df = pd.read_csv(in_file)"
   ]
  },
  {
   "cell_type": "code",
   "execution_count": 5,
   "id": "193edf7f-bc5a-41ff-93a4-35acc490d7a8",
   "metadata": {},
   "outputs": [],
   "source": [
    "df.to_excel(out_file)"
   ]
  },
  {
   "cell_type": "code",
   "execution_count": null,
   "id": "832e5b42-2631-4c2a-a31b-6422a8c274a0",
   "metadata": {},
   "outputs": [],
   "source": []
  }
 ],
 "metadata": {
  "kernelspec": {
   "display_name": "conda_py311",
   "language": "python",
   "name": "conda_py311"
  },
  "language_info": {
   "codemirror_mode": {
    "name": "ipython",
    "version": 3
   },
   "file_extension": ".py",
   "mimetype": "text/x-python",
   "name": "python",
   "nbconvert_exporter": "python",
   "pygments_lexer": "ipython3",
   "version": "3.11.11"
  }
 },
 "nbformat": 4,
 "nbformat_minor": 5
}
