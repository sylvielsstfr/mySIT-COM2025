{
 "cells": [
  {
   "cell_type": "markdown",
   "id": "8f3da262-37ed-407f-908c-8ac5a52cb4db",
   "metadata": {},
   "source": [
    "# Search for AGN in the Extended Chandra Deep Field South and show their Light Curves\n",
    "\n",
    "- Confluence page : https://rubinobs.atlassian.net/wiki/spaces/LSSTCOM/pages/372867091/System-level+Science+Performance+Verification+Sprint\n",
    "- slides : https://docs.google.com/presentation/d/1bPjS5NGtiEL2lfjmvP1UYdG_tMEDfZxX26ayhf7MhtY/edit#slide=id.ga2f7fb1a1f_0_70"
   ]
  },
  {
   "cell_type": "markdown",
   "id": "f3737976-eab8-4483-a79d-796f738c4f22",
   "metadata": {},
   "source": [
    "- where to find the campains\n",
    "- https://rubinobs.atlassian.net/wiki/spaces/DM/pages/226656354/LSSTComCam+Intermittent+Cumulative+DRP+Runs\n",
    "\n",
    "- plot Navigator\n",
    "- https://usdf-rsp.slac.stanford.edu/plot-navigator\n",
    "- https://usdf-rsp.slac.stanford.edu/plot-navigator/plot/%2Frepo%2Fmain/LSSTComCam%2Fruns%2FDRP%2FDP1%2Fw_2025_05%2FDM-48666/objectTableCore_coaddInputCount_SkyPlot"
   ]
  },
  {
   "cell_type": "markdown",
   "id": "53b4594d-5de5-4fa1-8ada-f60f0018cac5",
   "metadata": {},
   "source": [
    "- Notebooks examples\n",
    "- https://github.com/lsst-dm/DMTR-401/blob/main/notebooks/test_LVV-T40_T1240.ipynb\n",
    "- https://github.com/lsst-dm/DMTR-412/blob/tickets/DM-38728/notebooks/test_LVV-T1751_AM1_AM2.ipynb"
   ]
  },
  {
   "cell_type": "markdown",
   "id": "8402aac4-562a-40cd-ac2b-c1ca76cae55b",
   "metadata": {},
   "source": [
    "- author : Sylvie Dagoret-Campagne\n",
    "- creation date : 2025-05-11\n",
    "- last update : 2025-05-12\n",
    "- last update : 2025-06-05 : add nicer plots for Light curves\n",
    "- Redo Visits like here : https://github.com/sylvielsstfr/LSST-Rehearsal2024/blob/main/notebooks/Visits/stat_on_visits_LSSTComCamSim.ipynb\n",
    "- To find what I did on LSSTComCamSim : https://github.com/sylvielsstfr/LSST-Rehearsal2024/blob/main/notebooks/LightCurves/MultiColor_lightCurves-DMRehearsal2024_01-AuxTel-DZPOnCCD.ipynb\n",
    "- **Confluence page** : https://rubinobs.atlassian.net/wiki/spaces/LSSTCOM/pages/443613290/Science+Verification+Sprint+Feb+2025\n"
   ]
  },
  {
   "cell_type": "code",
   "execution_count": null,
   "id": "9d583412-a5a0-456e-84be-1fb658ddf016",
   "metadata": {
    "execution": {
     "iopub.execute_input": "2025-06-07T19:23:33.969228Z",
     "iopub.status.busy": "2025-06-07T19:23:33.969101Z",
     "iopub.status.idle": "2025-06-07T19:23:35.041527Z",
     "shell.execute_reply": "2025-06-07T19:23:35.040918Z",
     "shell.execute_reply.started": "2025-06-07T19:23:33.969213Z"
    }
   },
   "outputs": [],
   "source": [
    "# Confirm that the version of the Science Pipelines is recent:\n",
    "! echo $HOSTNAME\n",
    "! eups list -s | grep lsst_distrib"
   ]
  },
  {
   "cell_type": "code",
   "execution_count": null,
   "id": "8fbb9671-7d8e-4724-8c58-0f0a4fb9e5f0",
   "metadata": {
    "execution": {
     "iopub.execute_input": "2025-06-07T19:23:35.042361Z",
     "iopub.status.busy": "2025-06-07T19:23:35.042214Z",
     "iopub.status.idle": "2025-06-07T19:23:36.367143Z",
     "shell.execute_reply": "2025-06-07T19:23:36.366608Z",
     "shell.execute_reply.started": "2025-06-07T19:23:35.042344Z"
    }
   },
   "outputs": [],
   "source": [
    "from lsst.daf.butler import Butler\n",
    "import lsst.geom as geom\n",
    "from lsst.geom import SpherePoint, degrees\n",
    "import lsst.afw.display as afwDisplay"
   ]
  },
  {
   "cell_type": "code",
   "execution_count": null,
   "id": "8983f25c-dadf-434b-bb84-e24a3150f766",
   "metadata": {
    "execution": {
     "iopub.execute_input": "2025-06-07T19:23:36.368264Z",
     "iopub.status.busy": "2025-06-07T19:23:36.367878Z",
     "iopub.status.idle": "2025-06-07T19:23:36.426594Z",
     "shell.execute_reply": "2025-06-07T19:23:36.426081Z",
     "shell.execute_reply.started": "2025-06-07T19:23:36.368248Z"
    }
   },
   "outputs": [],
   "source": [
    "afwDisplay.setDefaultBackend(\"firefly\")"
   ]
  },
  {
   "cell_type": "code",
   "execution_count": null,
   "id": "e814e3d6-750c-4e7f-a9a5-5bf1e2f7205f",
   "metadata": {
    "execution": {
     "iopub.execute_input": "2025-06-07T19:23:36.427500Z",
     "iopub.status.busy": "2025-06-07T19:23:36.427161Z",
     "iopub.status.idle": "2025-06-07T19:23:37.808983Z",
     "shell.execute_reply": "2025-06-07T19:23:37.808456Z",
     "shell.execute_reply.started": "2025-06-07T19:23:36.427486Z"
    }
   },
   "outputs": [],
   "source": [
    "import os\n",
    "import gc\n",
    "import glob\n",
    "import numpy as np\n",
    "import pandas as pd\n",
    "import random\n",
    "\n",
    "import astropy.units as u\n",
    "from astropy.coordinates import SkyCoord\n",
    "from astroquery.gaia import Gaia\n",
    "Gaia.MAIN_GAIA_TABLE = \"gaiadr3.gaia_source\"  # Reselect Data Release 3, default\n",
    "Gaia.ROW_LIMIT = 100000\n",
    "from astropy.visualization import (MinMaxInterval, AsinhStretch, ZScaleInterval, LogStretch, LinearStretch,\n",
    "                                   ImageNormalize)"
   ]
  },
  {
   "cell_type": "code",
   "execution_count": null,
   "id": "e68df967-7870-47da-a4dd-760df6732aa5",
   "metadata": {
    "execution": {
     "iopub.execute_input": "2025-06-07T19:23:37.809920Z",
     "iopub.status.busy": "2025-06-07T19:23:37.809572Z",
     "iopub.status.idle": "2025-06-07T19:23:38.610222Z",
     "shell.execute_reply": "2025-06-07T19:23:38.609692Z",
     "shell.execute_reply.started": "2025-06-07T19:23:37.809905Z"
    }
   },
   "outputs": [],
   "source": [
    "import seaborn as sns\n",
    "from itertools import cycle, islice"
   ]
  },
  {
   "cell_type": "code",
   "execution_count": null,
   "id": "f385c649-efb6-40a8-b9f7-ebc65c441a04",
   "metadata": {
    "execution": {
     "iopub.execute_input": "2025-06-07T19:23:38.611019Z",
     "iopub.status.busy": "2025-06-07T19:23:38.610765Z",
     "iopub.status.idle": "2025-06-07T19:23:38.613611Z",
     "shell.execute_reply": "2025-06-07T19:23:38.613229Z",
     "shell.execute_reply.started": "2025-06-07T19:23:38.611004Z"
    }
   },
   "outputs": [],
   "source": [
    "from astropy.time import Time\n",
    "from datetime import datetime, timedelta"
   ]
  },
  {
   "cell_type": "code",
   "execution_count": null,
   "id": "46c68d72-750b-4bb9-b92a-1fe6e1728171",
   "metadata": {
    "execution": {
     "iopub.execute_input": "2025-06-07T19:23:38.614339Z",
     "iopub.status.busy": "2025-06-07T19:23:38.614067Z",
     "iopub.status.idle": "2025-06-07T19:23:38.622381Z",
     "shell.execute_reply": "2025-06-07T19:23:38.621969Z",
     "shell.execute_reply.started": "2025-06-07T19:23:38.614325Z"
    }
   },
   "outputs": [],
   "source": [
    "import lsst\n",
    "import lsst.geom as geom\n",
    "from lsst.geom import Angle\n",
    "from lsst.geom import SpherePoint\n",
    "from lsst.geom import AngleUnit"
   ]
  },
  {
   "cell_type": "code",
   "execution_count": null,
   "id": "224cf803-f7cc-4e49-9dc9-46779557286e",
   "metadata": {
    "execution": {
     "iopub.execute_input": "2025-06-07T19:23:38.623020Z",
     "iopub.status.busy": "2025-06-07T19:23:38.622886Z",
     "iopub.status.idle": "2025-06-07T19:23:38.640748Z",
     "shell.execute_reply": "2025-06-07T19:23:38.640374Z",
     "shell.execute_reply.started": "2025-06-07T19:23:38.623007Z"
    }
   },
   "outputs": [],
   "source": [
    "def find_tract_patch_and_display(butler, skymap,ra_deg, dec_deg, band, framecount):\n",
    "    \"\"\"\n",
    "    - butler\n",
    "    - skymap\n",
    "    - ra_deg, dec_deg : source\n",
    "    - band\n",
    "    - framecount\n",
    "    \"\"\"\n",
    "    # Ouvrir le dépôt\n",
    "    #butler = Butler(repo)\n",
    "    #skymap = butler.get(\"skyMap\")\n",
    "    band_to_color = {\"u\":\"blue\",\"g\":\"green\",\"r\":\"red\",\"i\":\"orange\",\"z\":\"yellow\",\"y\":\"purple\"}\n",
    "\n",
    "    datasettype = \"objectTable_tract\"\n",
    "    therefs = butler.registry.queryDatasets(datasettype,  collections=collection)\n",
    "\n",
    "    # Créer le point céleste\n",
    "    coord = SpherePoint(ra_deg * degrees, dec_deg * degrees)\n",
    "\n",
    "\n",
    "    found = False\n",
    "    # loop only on existing tracts\n",
    "    \n",
    "    for ref in therefs:\n",
    "        tract_id = ref.dataId[\"tract\"]\n",
    "        tractInfo = skymap[tract_id]\n",
    "        if tractInfo.contains(coord):\n",
    "            patchInfo = tractInfo.findPatch(coord)\n",
    "            patch_id = patchInfo.getIndex()  # Tuple (x, y)\n",
    "            patch_indexseq = patchInfo.getSequentialIndex()\n",
    "            print(f\"Tract: {tract_id}, Patch: {patch_indexseq}\")\n",
    "            found = True\n",
    "            break\n",
    "    # Charger l’image coadd correspondante\n",
    "    dataId = {\"tract\": tract_id, \"patch\": patch_indexseq, \"band\": band,\"skymap\": skymapName}\n",
    "    #deepCoadd_calexp\n",
    "    coadd = butler.get(\"deepCoadd_calexp\", dataId)\n",
    "    # Récupération du WCS\n",
    "    wcs = coadd.getWcs()\n",
    "\n",
    "    datatitle = f\"deepcoadd-LSSTComCam : {tract_id} , {patch_indexseq} , {band}\"\n",
    "    print(datatitle)\n",
    "\n",
    "    # Affichage avec marqueur\n",
    "    \n",
    "    display = afwDisplay.Display(frame = framecount)\n",
    "    display.scale('asinh', 'zscale')\n",
    "    #afw_display.scale('linear', min=zmin, max=zmax)\n",
    "    #display.setImageColormap(cmap='grey')\n",
    "    display.setImageColormap(cmap='Grey_r')\n",
    "    display.mtv(coadd.getImage(),title=datatitle)\n",
    "\n",
    "    # Création du point céleste\n",
    "    pix_point = wcs.skyToPixel(coord)\n",
    "    x, y = pix_point.x,pix_point.y\n",
    "    \n",
    "    col = band_to_color[band] \n",
    "    display.dot(\"+\", x, y, size=50, ctype=col)\n",
    "    \n",
    "\n",
    "    \n",
    "    return tract_id, patch_indexseq, band"
   ]
  },
  {
   "cell_type": "code",
   "execution_count": null,
   "id": "bd5588af-14ec-4f29-96c8-2cb1e2e226a5",
   "metadata": {
    "execution": {
     "iopub.execute_input": "2025-06-07T19:23:38.641357Z",
     "iopub.status.busy": "2025-06-07T19:23:38.641227Z",
     "iopub.status.idle": "2025-06-07T19:23:38.649025Z",
     "shell.execute_reply": "2025-06-07T19:23:38.648494Z",
     "shell.execute_reply.started": "2025-06-07T19:23:38.641345Z"
    }
   },
   "outputs": [],
   "source": [
    "def RetrieveDiaSources_forTarget(butler,center_coord,datasettype,where_clause,radius_cut=100):\n",
    "    \"\"\"\n",
    "    Find the closest DIA objectto the target_coord \n",
    "\n",
    "    parameters:\n",
    "    - butler\n",
    "    - the coordinate of the target (center of the cone seach)\n",
    "    - the datasettype name for the DIA object\n",
    "    - where_clause : which contrain requirements on the tract and patch numbers\n",
    "    - cut on angluar separation for the returned for the returned object\n",
    "\n",
    "    Return\n",
    "    - object Id with minimum separation , \n",
    "    - minimum separation (arcec),\n",
    "    - the table of DIA objects within the radius_cut\n",
    "    \"\"\"\n",
    "\n",
    "    #datasettype =  'forcedSourceOnDiaObjectTable'\n",
    "    #datasettype =  'diaSourceTable_tract'\n",
    "    #datasettype = 'goodSeeingDiff_assocSsSrcTable' # bad table\n",
    "    \n",
    "    therefs = butler.registry.queryDatasets(datasettype,  collections=collection, where=where_clause)\n",
    "    listref = list(therefs)\n",
    "    nref = len(listref)\n",
    "    print(f\"nref = {nref}\")\n",
    "    # assume the target is in a single (tract,patch)\n",
    "    assert nref == 1\n",
    "\n",
    "    # loop forcedSourceOnDiaObjectTable (per tract, per patch)\n",
    "    for count,ref in enumerate(therefs):\n",
    "        the_id = ref.dataId\n",
    "        the_tract_id = the_id[\"tract\"] \n",
    "        \n",
    "        assert the_tract_id == TRACTSEL\n",
    "\n",
    "        # catalog of rubin objects (a pandas Dataframe) inside the tract\n",
    "        catalog = butler.get(ref)\n",
    "        nsources = len(catalog)\n",
    "           \n",
    "\n",
    "        # extract the (ra,dec) coordinates for all te objects of the rubin-catalog\n",
    "        ra_cat = catalog[\"coord_ra\"].values\n",
    "        dec_cat = catalog[\"coord_dec\"].values\n",
    "        # coordinates for all rubin-catalog points\n",
    "        catalog_coords = SkyCoord(ra=ra_cat*u.deg, dec=dec_cat*u.deg)\n",
    "\n",
    "        # Angular distance to target\n",
    "        distances_arcsec = center_coord.separation(catalog_coords).arcsecond\n",
    "\n",
    "        # add the separation angle to the ctalog\n",
    "        catalog[\"sep\"] = distances_arcsec\n",
    "\n",
    "\n",
    "        # closest object from the target\n",
    "        sepMin = distances_arcsec.min() \n",
    "        sepMin_idx = np.where(distances_arcsec == sepMin)[0][0]\n",
    "    \n",
    "        closest_src = catalog[catalog[\"sep\"] <=  sepMin]\n",
    "                   \n",
    "        # select a few of these sources to debug the closest candidate\n",
    "        nearby_src = catalog[distances_arcsec < radius_cut]\n",
    "        \n",
    "        return closest_src, sepMin, nearby_src\n",
    "\n",
    "      "
   ]
  },
  {
   "cell_type": "code",
   "execution_count": null,
   "id": "52ab1d52-0fe0-4e57-8a99-717757c505bf",
   "metadata": {
    "execution": {
     "iopub.execute_input": "2025-06-07T19:23:38.649715Z",
     "iopub.status.busy": "2025-06-07T19:23:38.649581Z",
     "iopub.status.idle": "2025-06-07T19:23:38.659397Z",
     "shell.execute_reply": "2025-06-07T19:23:38.659050Z",
     "shell.execute_reply.started": "2025-06-07T19:23:38.649702Z"
    }
   },
   "outputs": [],
   "source": [
    "def plotLightCurvesSeparatedBandsWithErrors(tb, title, subtitle, deltaylim = 0.5  ,figname=None):\n",
    "    \"\"\"\n",
    "    Plot light curves per band with error bars, horizontal lines at clipped mean ±0.01 mag,\n",
    "    and y-limits set to mean ±1 mag.\n",
    "\n",
    "    Parameters\n",
    "    ----------\n",
    "    tb : dict-like\n",
    "        Dictionnaire contenant les données de courbe de lumière par bande.\n",
    "        Chaque élément tb[band] doit avoir les colonnes 'mjd', 'mags' et 'magerr'.\n",
    "    title : str\n",
    "        Titre principal du graphe.\n",
    "    subtitle : str\n",
    "        Sous-titre du graphe (utilisé comme suptitle).\n",
    "    figname : str or None\n",
    "        Si spécifié, sauvegarde la figure dans ce fichier.\n",
    "    \"\"\"\n",
    "    fig, axs = plt.subplots(6, 1, figsize=(18, 16), sharex=True, layout=\"constrained\")\n",
    "\n",
    "    for idx, band in enumerate(all_bands):\n",
    "        ax = axs[idx]\n",
    "        label = f\"band {band}\"\n",
    "        \n",
    "        # Données\n",
    "        mjd = tb[band].mjd\n",
    "        mags = tb[band].mags\n",
    "        magerr = tb[band].magerr\n",
    "        \n",
    "        # Moyenne sigma-clippée\n",
    "        mean, median, std = sigma_clipped_stats(mags, sigma=3.0, maxiters=5)\n",
    "\n",
    "        # Ajouter un encadré avec les statistiques\n",
    "        stats_text = f\"mean = {mean:.2f} mag \\nmedian = {median:.2f} mag \\nσ = {std:.3f} mag\"\n",
    "        ax.text(\n",
    "            0.02, 0.05,\n",
    "            stats_text,\n",
    "            transform=ax.transAxes,\n",
    "            fontsize=12,\n",
    "            verticalalignment='bottom',\n",
    "            horizontalalignment='left',\n",
    "            bbox=dict(facecolor='white', alpha=0.8, edgecolor='gray')\n",
    "        )\n",
    "\n",
    "        \n",
    "        \n",
    "        # Tracé avec barres d'erreur\n",
    "        ax.errorbar(\n",
    "            mjd,\n",
    "            mags,\n",
    "            yerr=magerr,\n",
    "            fmt=\"o\",\n",
    "            color=all_bands_colors[idx],\n",
    "            label=label,\n",
    "            markersize=7,\n",
    "            capsize=3\n",
    "        )\n",
    "        \n",
    "        # Lignes horizontales\n",
    "        ax.axhline(mean, color=\"gray\", linestyle=\"--\", linewidth=1.5, label=\"clipped mean\")\n",
    "        ax.axhline(mean + +0.01, color=\"gray\", linestyle=\":\", linewidth=1.0, label=\"+/- 10 mmag\")\n",
    "        ax.axhline(mean - 0.01, color=\"gray\", linestyle=\":\", linewidth=1.0)\n",
    "        \n",
    "        # Limites y : +/- 1 mag autour de la moyenne\n",
    "        ax.set_ylim(mean + deltaylim, mean - deltaylim)  # inversé car l'axe y est inversé pour les magnitudes\n",
    "        ax.set_ylabel(\"mag_psfFlux\")\n",
    "        ax.invert_yaxis()\n",
    "        #ax.legend(loc=\"upper left\")\n",
    "        ax.legend(loc='center left', bbox_to_anchor=(1.02, 0.5), title=\"Bands\")\n",
    "        \n",
    "        if idx == 0:\n",
    "            ax.set_title(title, fontweight=\"bold\")\n",
    "    \n",
    "    ax.set_xlabel(\"mjd\")\n",
    "    plt.suptitle(subtitle)\n",
    "\n",
    "    if figname is not None:\n",
    "        plt.savefig(figname)\n",
    "    plt.show()\n"
   ]
  },
  {
   "cell_type": "code",
   "execution_count": null,
   "id": "374b3e92-39e9-46b1-95c5-a52582a0d1a4",
   "metadata": {
    "execution": {
     "iopub.execute_input": "2025-06-07T19:23:38.659994Z",
     "iopub.status.busy": "2025-06-07T19:23:38.659864Z",
     "iopub.status.idle": "2025-06-07T19:23:38.669103Z",
     "shell.execute_reply": "2025-06-07T19:23:38.668690Z",
     "shell.execute_reply.started": "2025-06-07T19:23:38.659982Z"
    }
   },
   "outputs": [],
   "source": [
    "import numpy as np\n",
    "from matplotlib.cm import ScalarMappable\n",
    "from matplotlib.colors import Normalize\n",
    "\n",
    "def plotLightCurvesSeparatedBands_coloredbyquantity(tb, quantity_str, title, subtitle, deltaylim = 0.5 ,figname=None):\n",
    "    \"\"\"\n",
    "    Trace les courbes de lumière par bande, colorées par une quantité externe,\n",
    "    avec barres d'erreur, lignes horizontales (moyenne ±0.01 mag) et ylim centrées.\n",
    "    Affiche une colorbar globale.\n",
    "    \"\"\"\n",
    "\n",
    "    fig, axs = plt.subplots(6, 1, figsize=(18, 16), sharex=True, layout=\"constrained\")\n",
    "\n",
    "    # Regroupe toutes les valeurs du quantity_str pour normalisation colorbar\n",
    "    all_quantities = np.concatenate([tb[band][quantity_str] for band in all_bands])\n",
    "    norm = Normalize(vmin=np.nanmin(all_quantities), vmax=np.nanmax(all_quantities))\n",
    "    cmap = plt.get_cmap('jet')\n",
    "\n",
    "    for idx, band in enumerate(all_bands):\n",
    "        ax = axs[idx]\n",
    "        label = f\"band {band}\"\n",
    "\n",
    "        mjd = tb[band].mjd\n",
    "        mags = tb[band].mags\n",
    "        magerr = tb[band].magerr\n",
    "        quantity_toplot = tb[band][quantity_str]\n",
    "\n",
    "        # Moyenne sigma-clippée\n",
    "        mean, _, _ = sigma_clipped_stats(mags, sigma=3.0, maxiters=5)\n",
    "\n",
    "        # Barres d'erreur\n",
    "        ax.errorbar(\n",
    "            mjd,\n",
    "            mags,\n",
    "            yerr=magerr,\n",
    "            fmt='none',\n",
    "            ecolor='black',\n",
    "            elinewidth=0.8,\n",
    "            capsize=2,\n",
    "            alpha=0.5\n",
    "        )\n",
    "\n",
    "        # Scatter coloré\n",
    "        sc = ax.scatter(\n",
    "            mjd,\n",
    "            mags,\n",
    "            c=quantity_toplot,\n",
    "            cmap=cmap,\n",
    "            norm=norm,\n",
    "            s=80,\n",
    "            marker='o',\n",
    "            label=label\n",
    "        )\n",
    "\n",
    "        # Moyenne ± 0.01\n",
    "        ax.axhline(mean, color=\"gray\", linestyle=\"--\", linewidth=1.5, label=\"clipped mean\")\n",
    "        ax.axhline(mean + 0.01, color=\"gray\", linestyle=\":\", linewidth=1.0, label=\"+/- 10 mmag\")\n",
    "        ax.axhline(mean - 0.01, color=\"gray\", linestyle=\":\", linewidth=1.0)\n",
    "\n",
    "        # Limites Y\n",
    "        ax.set_ylim(mean + deltaylim , mean - deltaylim )\n",
    "        ax.set_ylabel(\"mag_psfFlux\")\n",
    "        ax.invert_yaxis()\n",
    "        #ax.legend()\n",
    "        ax.legend(loc='center left', bbox_to_anchor=(1.02, 0.5), title=\"Bands\")\n",
    "\n",
    "        if idx == 0:\n",
    "            ax.set_title(title, fontweight=\"bold\")\n",
    "\n",
    "    ax.set_xlabel(\"mjd\")\n",
    "    plt.suptitle(subtitle)\n",
    "\n",
    "    # Création d'une colorbar globale\n",
    "    sm = ScalarMappable(norm=norm, cmap=cmap)\n",
    "    sm.set_array([])  # nécessaire uniquement pour compatibilité\n",
    "    #cbar = fig.colorbar(sm, ax=axs, orientation='vertical', label=quantity_str)\n",
    "\n",
    "    cbar = fig.colorbar(\n",
    "    sm,\n",
    "    ax=axs,\n",
    "    orientation='vertical',\n",
    "    label=quantity_str,\n",
    "    fraction=1,  # largeur de la colorbar (plus petit = plus mince)\n",
    "    pad=0.01         # distance entre la colorbar et les subplots\n",
    "    )\n",
    "    \n",
    "\n",
    "    if figname is not None:\n",
    "        plt.savefig(figname)\n",
    "    plt.show()\n"
   ]
  },
  {
   "cell_type": "code",
   "execution_count": null,
   "id": "1be46d86-fed7-4f75-9ee0-ed44dcf1752e",
   "metadata": {
    "execution": {
     "iopub.execute_input": "2025-06-07T19:23:38.669690Z",
     "iopub.status.busy": "2025-06-07T19:23:38.669564Z",
     "iopub.status.idle": "2025-06-07T19:23:38.699975Z",
     "shell.execute_reply": "2025-06-07T19:23:38.699522Z",
     "shell.execute_reply.started": "2025-06-07T19:23:38.669677Z"
    }
   },
   "outputs": [],
   "source": [
    "import numpy as np\n",
    "import matplotlib.pyplot as plt\n",
    "import matplotlib.colors as mcolors\n",
    "from astropy.stats import sigma_clipped_stats\n",
    "\n",
    "def plotLightCurvesSeparatedBands_coloredbydiscretequantity(tb, quantity_str, title, subtitle,deltaylim = 0.5  ,figname=None):\n",
    "    \"\"\"\n",
    "    tb: dictionnaire contenant des tables par bande\n",
    "    quantity_str: nom de la colonne discrète utilisée pour la couleur (par ex. 'airmass_flag')\n",
    "    \"\"\"\n",
    "\n",
    "    fig, axs = plt.subplots(6, 1, figsize=(18, 16), sharex=True, layout=\"constrained\")\n",
    "\n",
    "    # Récupération de toutes les valeurs discrètes dans toutes les bandes\n",
    "    all_values = np.unique(np.concatenate([np.asarray(tb[band][quantity_str]) for band in all_bands]))\n",
    "    num_categories = len(all_values)\n",
    "\n",
    "    # Création d'une palette discrète\n",
    "    cmap = plt.cm.get_cmap('tab10', num_categories)  # Peut être 'tab20', 'Set3'...\n",
    "    norm = mcolors.BoundaryNorm(boundaries=np.arange(-0.5, num_categories + 0.5, 1), ncolors=num_categories)\n",
    "\n",
    "    for idx, band in enumerate(all_bands):\n",
    "        ax = axs[idx]\n",
    "        label = f\"band {band}\"\n",
    "\n",
    "        mjd = tb[band]['mjd']\n",
    "        mags = tb[band]['mags']\n",
    "        magerr = tb[band]['magerr']\n",
    "        quantity_toplot = tb[band][quantity_str]\n",
    "\n",
    "        # Moyenne sigma-clippée\n",
    "        mean, _, _ = sigma_clipped_stats(mags, sigma=3.0, maxiters=5)\n",
    "\n",
    "        # Barres d'erreur\n",
    "        ax.errorbar(\n",
    "            mjd,\n",
    "            mags,\n",
    "            yerr=magerr,\n",
    "            fmt='none',\n",
    "            ecolor='black',\n",
    "            elinewidth=0.8,\n",
    "            capsize=2,\n",
    "            alpha=0.5\n",
    "        )\n",
    "\n",
    "        # Scatter coloré par classe discrète\n",
    "        sc = ax.scatter(\n",
    "            mjd,\n",
    "            mags,\n",
    "            c=quantity_toplot,\n",
    "            cmap=cmap,\n",
    "            norm=norm,\n",
    "            label=label,\n",
    "            marker=\"o\",\n",
    "            s=80\n",
    "        )\n",
    "\n",
    "        # Moyenne ± 0.01\n",
    "        ax.axhline(mean, color=\"gray\", linestyle=\"--\", linewidth=1.5, label=\"clipped mean\")\n",
    "        ax.axhline(mean + 0.01, color=\"gray\", linestyle=\":\", linewidth=1.0, label=\"+/- 10 mmag\")\n",
    "        ax.axhline(mean - 0.01, color=\"gray\", linestyle=\":\", linewidth=1.0)\n",
    "\n",
    "        # Axe Y centré autour de la moyenne\n",
    "        ax.set_ylim(mean + deltaylim, mean - deltaylim)\n",
    "        ax.set_ylabel(\"mag_psfFlux\")\n",
    "        ax.invert_yaxis()\n",
    "        #ax.legend()\n",
    "        ax.legend(loc='center left', bbox_to_anchor=(1.02, 0.5), title=\"Bands\")\n",
    "\n",
    "        if idx == 0:\n",
    "            ax.set_title(title, fontweight=\"bold\")\n",
    "\n",
    "    ax.set_xlabel(\"mjd\")\n",
    "    plt.suptitle(subtitle)\n",
    "\n",
    "    # Ajout d'une colorbar discrète (mince)\n",
    "    cbar = fig.colorbar(\n",
    "        sc,\n",
    "        ax=axs,\n",
    "        ticks=all_values,\n",
    "        orientation='vertical',\n",
    "        fraction=1.0,\n",
    "        pad=0.01\n",
    "    )\n",
    "    cbar.set_label(quantity_str)\n",
    "    cbar.ax.set_yticklabels([str(v) for v in all_values])\n",
    "\n",
    "    if figname is not None:\n",
    "        plt.savefig(figname)\n",
    "    plt.show()\n"
   ]
  },
  {
   "cell_type": "code",
   "execution_count": null,
   "id": "b786018f-2371-475c-ad54-5ea84937bd92",
   "metadata": {
    "execution": {
     "iopub.execute_input": "2025-06-07T19:23:38.700563Z",
     "iopub.status.busy": "2025-06-07T19:23:38.700430Z",
     "iopub.status.idle": "2025-06-07T19:23:38.722222Z",
     "shell.execute_reply": "2025-06-07T19:23:38.721746Z",
     "shell.execute_reply.started": "2025-06-07T19:23:38.700551Z"
    }
   },
   "outputs": [],
   "source": [
    "def plotLightCurvesAllTogetherBands(tb,title,subtitle,figname = None):\n",
    "    \"\"\"\n",
    "    \"\"\"\n",
    "    fig,ax = plt.subplots(1,1,figsize=(18,10),sharex=True,layout=\"constrained\")\n",
    "\n",
    "    allmags = []\n",
    "    \n",
    "    for idx,band in enumerate(all_bands):\n",
    "\n",
    "        data = tb[band]\n",
    "        mjd = data[\"mjd\"]\n",
    "        mags = data[\"mags\"]\n",
    "        magerr = data[\"magerr\"]\n",
    "        mean, _, _ = sigma_clipped_stats(mags, sigma=3.0, maxiters=5)\n",
    "\n",
    "        label = f\"band {band}\"\n",
    "        ax.scatter(tb[band].mjd, tb[band].mags,color=all_bands_colors[idx],label=label,marker=\"o\",s=100)\n",
    "        allmags.append(tb[band].mags.values) \n",
    "\n",
    "\n",
    "        # Lignes horizontales\n",
    "        ax.axhline(mean, color=all_bands_colors[idx], linestyle=\"--\", linewidth=1.5)\n",
    "        ax.axhline(mean + 0.01, color=all_bands_colors[idx], linestyle=\":\", linewidth=1.0)\n",
    "        ax.axhline(mean - 0.01, color=all_bands_colors[idx], linestyle=\":\", linewidth=1.0)\n",
    "\n",
    "        \n",
    "    ax.set_ylabel(\"mag_psfFlux\")\n",
    "    ax.set_title(target_title,fontweight = \"bold\")\n",
    "    ax.set_xlabel(\"mjd\")\n",
    "    ax.legend()\n",
    "\n",
    "    allmags = np.concatenate(allmags)\n",
    "    allmags = allmags[~np.isnan(allmags)]\n",
    "    mags_min = allmags.min()\n",
    "    mags_max = allmags.max()\n",
    "    \n",
    "    ax.invert_yaxis()\n",
    "\n",
    "    plt.suptitle(subtitle)\n",
    "    if figname != None:\n",
    "        plt.savefig(figname)\n",
    "        \n",
    "    plt.show()\n",
    "    "
   ]
  },
  {
   "cell_type": "code",
   "execution_count": null,
   "id": "8f9288fa-323b-4ab7-a64c-f007f261e35c",
   "metadata": {
    "execution": {
     "iopub.execute_input": "2025-06-07T19:23:38.722669Z",
     "iopub.status.busy": "2025-06-07T19:23:38.722551Z",
     "iopub.status.idle": "2025-06-07T19:23:38.732966Z",
     "shell.execute_reply": "2025-06-07T19:23:38.732522Z",
     "shell.execute_reply.started": "2025-06-07T19:23:38.722658Z"
    }
   },
   "outputs": [],
   "source": [
    "\n",
    "def plotLightCurvesAllTogetherBandsWithErrors(tb, title, subtitle, figname=None):\n",
    "    \"\"\"\n",
    "    Affiche toutes les courbes de lumière sur un seul graphique avec :\n",
    "    - barres d'erreur\n",
    "    - moyenne sigma-clippée\n",
    "    - lignes à +/- 0.01 mag de la moyenne\n",
    "    \"\"\"\n",
    "\n",
    "    fig, ax = plt.subplots(1, 1, figsize=(18, 10), sharex=True, layout=\"constrained\")\n",
    "\n",
    "\n",
    "    allmags = []\n",
    "    for idx, band in enumerate(all_bands):\n",
    "        data = tb[band]\n",
    "        mjd = data[\"mjd\"]\n",
    "        mags = data[\"mags\"]\n",
    "        magerr = data[\"magerr\"]\n",
    "\n",
    "        # Moyenne sigma-clippée\n",
    "        mean, _, _ = sigma_clipped_stats(mags, sigma=3.0, maxiters=5)\n",
    "        \n",
    "        allmags.append(mags.values)\n",
    "\n",
    "        # Barres d'erreur\n",
    "        ax.errorbar(\n",
    "            mjd,\n",
    "            mags,\n",
    "            yerr=magerr,\n",
    "            fmt='none',\n",
    "            ecolor=all_bands_colors[idx],\n",
    "            elinewidth=0.8,\n",
    "            capsize=2,\n",
    "            alpha=0.4\n",
    "        )\n",
    "\n",
    "        # Points\n",
    "        ax.scatter(\n",
    "            mjd,\n",
    "            mags,\n",
    "            color=all_bands_colors[idx],\n",
    "            label=f\"band {band}\",\n",
    "            marker=\"o\",\n",
    "            s=100\n",
    "        )\n",
    "\n",
    "        # Lignes horizontales\n",
    "        ax.axhline(mean, color=all_bands_colors[idx], linestyle=\"--\", linewidth=1.5)\n",
    "        ax.axhline(mean + 0.01, color=all_bands_colors[idx], linestyle=\":\", linewidth=1.0)\n",
    "        ax.axhline(mean - 0.01, color=all_bands_colors[idx], linestyle=\":\", linewidth=1.0)\n",
    "\n",
    "    allmags = np.concatenate(allmags)\n",
    "    allmags = allmags[~np.isnan(allmags)]\n",
    "    mags_min = allmags.min()\n",
    "    mags_max = allmags.max()\n",
    "    \n",
    "    ax.set_ylim(mags_min,mags_max)\n",
    "    ax.set_ylabel(\"mag_psfFlux\")\n",
    "    ax.set_title(title, fontweight=\"bold\")\n",
    "    ax.set_xlabel(\"mjd\")\n",
    "\n",
    "\n",
    "    \n",
    "    ax.invert_yaxis()\n",
    "    #ax.legend()\n",
    "    ax.legend(loc='center left', bbox_to_anchor=(1.02, 0.5), title=\"Bands\")\n",
    "\n",
    "    plt.suptitle(subtitle)\n",
    "\n",
    "    if figname is not None:\n",
    "        plt.savefig(figname)\n",
    "        \n",
    "    plt.show()\n",
    "   \n"
   ]
  },
  {
   "cell_type": "code",
   "execution_count": null,
   "id": "2bbb53e9-e293-4ea7-ae47-c78930ce5d93",
   "metadata": {
    "execution": {
     "iopub.execute_input": "2025-06-07T19:23:38.733547Z",
     "iopub.status.busy": "2025-06-07T19:23:38.733414Z",
     "iopub.status.idle": "2025-06-07T19:23:38.739552Z",
     "shell.execute_reply": "2025-06-07T19:23:38.739152Z",
     "shell.execute_reply.started": "2025-06-07T19:23:38.733535Z"
    }
   },
   "outputs": [],
   "source": [
    "# https://pipelines.lsst.io/modules/lsst.geom/getting-started.html\n",
    "func_degToRad = lambda x : Angle(x,lsst.geom.degrees).asRadians()"
   ]
  },
  {
   "cell_type": "code",
   "execution_count": null,
   "id": "5af15c53-1d3f-42ee-81d8-508a2daa56c0",
   "metadata": {
    "execution": {
     "iopub.execute_input": "2025-06-07T19:23:38.740100Z",
     "iopub.status.busy": "2025-06-07T19:23:38.739976Z",
     "iopub.status.idle": "2025-06-07T19:23:38.761675Z",
     "shell.execute_reply": "2025-06-07T19:23:38.761239Z",
     "shell.execute_reply.started": "2025-06-07T19:23:38.740089Z"
    }
   },
   "outputs": [],
   "source": [
    "# Set plotting defaults\n",
    "%matplotlib inline\n",
    "import matplotlib.pyplot as plt\n",
    "from matplotlib.ticker import FormatStrFormatter\n",
    "from matplotlib.colors import ListedColormap\n",
    "from matplotlib import colors\n",
    "zscale = ZScaleInterval()\n",
    "\n",
    "# Set up some plotting defaults:\n",
    "plt.rcParams.update({'figure.figsize' : (12, 8)})\n",
    "plt.rcParams.update({'font.size' : 24})\n",
    "plt.rcParams.update({'axes.linewidth' : 3})\n",
    "plt.rcParams.update({'axes.labelweight' : 3})\n",
    "plt.rcParams.update({'axes.titleweight' : 5})\n",
    "plt.rcParams.update({'ytick.major.width' : 3})\n",
    "plt.rcParams.update({'ytick.minor.width' : 2})\n",
    "plt.rcParams.update({'ytick.major.size' : 8})\n",
    "plt.rcParams.update({'ytick.minor.size' : 5})\n",
    "plt.rcParams.update({'xtick.major.size' : 8})\n",
    "plt.rcParams.update({'xtick.minor.size' : 5})\n",
    "plt.rcParams.update({'xtick.major.width' : 3})\n",
    "plt.rcParams.update({'xtick.minor.width' : 2})\n",
    "plt.rcParams.update({'xtick.direction' : 'in'})\n",
    "plt.rcParams.update({'ytick.direction' : 'in'})\n"
   ]
  },
  {
   "cell_type": "code",
   "execution_count": null,
   "id": "8f02d7f7-cc18-4191-beb4-ad890c13b967",
   "metadata": {
    "execution": {
     "iopub.execute_input": "2025-06-07T19:23:38.765027Z",
     "iopub.status.busy": "2025-06-07T19:23:38.764894Z",
     "iopub.status.idle": "2025-06-07T19:23:38.768305Z",
     "shell.execute_reply": "2025-06-07T19:23:38.767876Z",
     "shell.execute_reply.started": "2025-06-07T19:23:38.765014Z"
    }
   },
   "outputs": [],
   "source": [
    "def nJy_to_ab_mag(f_njy):\n",
    "    \"\"\"Convert scalar or array flux in nJy to AB magnitude.\"\"\"\n",
    "    f_njy = np.asarray(f_njy)\n",
    "    mag = np.full_like(f_njy, fill_value=np.nan, dtype=float)\n",
    "    mask = f_njy > 0\n",
    "    mag[mask] = -2.5 * np.log10(f_njy[mask]) + 31.4\n",
    "    return mag\n",
    "\n",
    "\n",
    "def nJy_err_to_ab_err(f_njy, f_err):\n",
    "    \"\"\"Propagate flux error to magnitude error.\"\"\"\n",
    "    f_njy = np.asarray(f_njy)\n",
    "    f_err = np.asarray(f_err)\n",
    "    mag_err = np.full_like(f_njy, fill_value=np.nan, dtype=float)\n",
    "    mask = (f_njy > 0) & (f_err > 0)\n",
    "    mag_err[mask] = (2.5 / np.log(10)) * (f_err[mask] / f_njy[mask])\n",
    "    return mag_err\n"
   ]
  },
  {
   "cell_type": "code",
   "execution_count": null,
   "id": "88da0b26-88ce-41f8-b5b6-caf1c2d7afe0",
   "metadata": {
    "execution": {
     "iopub.execute_input": "2025-06-07T19:23:38.768876Z",
     "iopub.status.busy": "2025-06-07T19:23:38.768742Z",
     "iopub.status.idle": "2025-06-07T19:23:38.774955Z",
     "shell.execute_reply": "2025-06-07T19:23:38.774525Z",
     "shell.execute_reply.started": "2025-06-07T19:23:38.768864Z"
    }
   },
   "outputs": [],
   "source": [
    "def ab_mag_to_nJy(mag_ab):\n",
    "    \"\"\"Convert AB magnitude to flux in nanojanskys.\"\"\"\n",
    "    return 10 ** ((31.4 - mag_ab) / 2.5)\n"
   ]
  },
  {
   "cell_type": "markdown",
   "id": "a3f04297-3975-4baa-9e7f-146cd717904c",
   "metadata": {},
   "source": [
    "## 1) Build the table of AGN from the Vizier Catalog"
   ]
  },
  {
   "cell_type": "code",
   "execution_count": null,
   "id": "fdd48e59-d068-4c3c-a5f9-1c277959c9a1",
   "metadata": {
    "execution": {
     "iopub.execute_input": "2025-06-07T19:23:38.775599Z",
     "iopub.status.busy": "2025-06-07T19:23:38.775459Z",
     "iopub.status.idle": "2025-06-07T19:23:38.883555Z",
     "shell.execute_reply": "2025-06-07T19:23:38.883101Z",
     "shell.execute_reply.started": "2025-06-07T19:23:38.775583Z"
    }
   },
   "outputs": [],
   "source": [
    "from astroquery.vizier import Vizier\n",
    "from astropy.coordinates import SkyCoord\n",
    "import astropy.units as u"
   ]
  },
  {
   "cell_type": "code",
   "execution_count": null,
   "id": "ffc9c099-0200-4a2f-aea6-98e0369c4c6c",
   "metadata": {
    "execution": {
     "iopub.execute_input": "2025-06-07T19:23:38.884202Z",
     "iopub.status.busy": "2025-06-07T19:23:38.884062Z",
     "iopub.status.idle": "2025-06-07T19:23:38.886730Z",
     "shell.execute_reply": "2025-06-07T19:23:38.886353Z",
     "shell.execute_reply.started": "2025-06-07T19:23:38.884188Z"
    }
   },
   "outputs": [],
   "source": [
    "ECDFS_RA = 53.1\n",
    "ECDFS_DEC = -27.8\n",
    "ECDFS_COORD = SpherePoint(ECDFS_RA, ECDFS_DEC , degrees)"
   ]
  },
  {
   "cell_type": "code",
   "execution_count": null,
   "id": "4a3e4c07-1570-4588-976a-678132c11b09",
   "metadata": {
    "execution": {
     "iopub.execute_input": "2025-06-07T19:23:38.887407Z",
     "iopub.status.busy": "2025-06-07T19:23:38.887278Z",
     "iopub.status.idle": "2025-06-07T19:23:38.927661Z",
     "shell.execute_reply": "2025-06-07T19:23:38.927255Z",
     "shell.execute_reply.started": "2025-06-07T19:23:38.887394Z"
    }
   },
   "outputs": [],
   "source": [
    "# Coordonnées approximatives du centre du E-CDFS\n",
    "coord = SkyCoord(ra=ECDFS_RA, dec = ECDFS_DEC, unit=(u.deg, u.deg), frame='icrs')\n",
    "radius = 15 * u.arcmin\n",
    "\n",
    "# Exemple avec le catalogue Luo+2017 (7Ms CDF-S)\n",
    "catalog_id = \"J/ApJS/228/2\"\n",
    "result = Vizier(columns=[\"*\"]).query_region(coord, radius=radius, catalog=catalog_id)"
   ]
  },
  {
   "cell_type": "code",
   "execution_count": null,
   "id": "474756e6-6c8d-444f-961c-a5dad8b43648",
   "metadata": {
    "execution": {
     "iopub.execute_input": "2025-06-07T19:23:38.928272Z",
     "iopub.status.busy": "2025-06-07T19:23:38.928135Z",
     "iopub.status.idle": "2025-06-07T19:23:38.930806Z",
     "shell.execute_reply": "2025-06-07T19:23:38.930384Z",
     "shell.execute_reply.started": "2025-06-07T19:23:38.928258Z"
    }
   },
   "outputs": [],
   "source": [
    "sources_table = result['J/ApJS/228/2/sources']\n",
    "print(sources_table.colnames)"
   ]
  },
  {
   "cell_type": "code",
   "execution_count": null,
   "id": "1eff963d-56d8-413c-bce5-a0d779c34e99",
   "metadata": {
    "execution": {
     "iopub.execute_input": "2025-06-07T19:23:38.931378Z",
     "iopub.status.busy": "2025-06-07T19:23:38.931231Z",
     "iopub.status.idle": "2025-06-07T19:23:38.947695Z",
     "shell.execute_reply": "2025-06-07T19:23:38.947326Z",
     "shell.execute_reply.started": "2025-06-07T19:23:38.931366Z"
    }
   },
   "outputs": [],
   "source": [
    "# On calcule le log10 de LX\n",
    "logLX = np.log10(sources_table['LX'])\n",
    "\n",
    "# Et on l'ajoute comme nouvelle colonne à la table\n",
    "sources_table['logLX'] = logLX\n",
    "\n",
    "# Attention au nom exact de la colonne\n",
    "logLX = sources_table['logLX']\n",
    "is_agn = logLX > 42\n",
    "\n",
    "is_agn = sources_table['logLX'] > 42  # AGN si LX > 10^42 erg/s\n",
    "agn_table = sources_table[is_agn]"
   ]
  },
  {
   "cell_type": "code",
   "execution_count": null,
   "id": "61a131d7-b7bd-4098-af0e-ff9019ffcb23",
   "metadata": {
    "execution": {
     "iopub.execute_input": "2025-06-07T19:23:38.948272Z",
     "iopub.status.busy": "2025-06-07T19:23:38.948138Z",
     "iopub.status.idle": "2025-06-07T19:23:38.959208Z",
     "shell.execute_reply": "2025-06-07T19:23:38.958843Z",
     "shell.execute_reply.started": "2025-06-07T19:23:38.948260Z"
    }
   },
   "outputs": [],
   "source": [
    "agn_table[['RAJ2000', 'DEJ2000', 'logLX', 'LX', 'zspec']].pprint(max_lines=10)"
   ]
  },
  {
   "cell_type": "code",
   "execution_count": null,
   "id": "e902b64e-1149-4f50-8cf1-b5720ed24da6",
   "metadata": {
    "execution": {
     "iopub.execute_input": "2025-06-07T19:23:38.959776Z",
     "iopub.status.busy": "2025-06-07T19:23:38.959650Z",
     "iopub.status.idle": "2025-06-07T19:23:38.972552Z",
     "shell.execute_reply": "2025-06-07T19:23:38.972194Z",
     "shell.execute_reply.started": "2025-06-07T19:23:38.959764Z"
    }
   },
   "outputs": [],
   "source": [
    "galaxy_table = sources_table[sources_table['OType'] == 'Galaxy']"
   ]
  },
  {
   "cell_type": "code",
   "execution_count": null,
   "id": "b1edfa51-80a6-4d65-944d-c33a505049a3",
   "metadata": {
    "execution": {
     "iopub.execute_input": "2025-06-07T19:23:38.973069Z",
     "iopub.status.busy": "2025-06-07T19:23:38.972948Z",
     "iopub.status.idle": "2025-06-07T19:23:38.980810Z",
     "shell.execute_reply": "2025-06-07T19:23:38.980376Z",
     "shell.execute_reply.started": "2025-06-07T19:23:38.973057Z"
    }
   },
   "outputs": [],
   "source": [
    "galaxy_table[['RAJ2000', 'DEJ2000', 'logLX', 'LX', 'zspec']].pprint(max_lines=10)"
   ]
  },
  {
   "cell_type": "markdown",
   "id": "24980f69-ddd5-4c6b-b868-9f3dad599620",
   "metadata": {},
   "source": [
    "## Plot info from AGN Vizier catalog"
   ]
  },
  {
   "cell_type": "code",
   "execution_count": null,
   "id": "80a3a4fe-38f7-45ea-a7fd-cff3a4670722",
   "metadata": {
    "execution": {
     "iopub.execute_input": "2025-06-07T19:23:38.981557Z",
     "iopub.status.busy": "2025-06-07T19:23:38.981422Z",
     "iopub.status.idle": "2025-06-07T19:23:39.006497Z",
     "shell.execute_reply": "2025-06-07T19:23:39.005896Z",
     "shell.execute_reply.started": "2025-06-07T19:23:38.981544Z"
    }
   },
   "outputs": [],
   "source": [
    "df_galaxy = galaxy_table.to_pandas()\n",
    "df_agn = agn_table.to_pandas()"
   ]
  },
  {
   "cell_type": "code",
   "execution_count": null,
   "id": "14b5093d-cb0e-4cf8-98b4-0c66ec615abf",
   "metadata": {
    "execution": {
     "iopub.execute_input": "2025-06-07T19:23:39.006953Z",
     "iopub.status.busy": "2025-06-07T19:23:39.006830Z",
     "iopub.status.idle": "2025-06-07T19:23:39.211849Z",
     "shell.execute_reply": "2025-06-07T19:23:39.211407Z",
     "shell.execute_reply.started": "2025-06-07T19:23:39.006941Z"
    }
   },
   "outputs": [],
   "source": [
    "plt.figure(figsize=(14,5))\n",
    "\n",
    "plt.subplot(1, 2, 1)\n",
    "plt.hist(df_agn['zspec'].values, bins=20, color='green', alpha=0.7)\n",
    "plt.xlabel(\"Redshift zspec\")\n",
    "plt.ylabel(\"Nombre de sources\")\n",
    "plt.title(\"Distribution en redshift\")\n",
    "\n",
    "plt.subplot(1, 2, 2)\n",
    "plt.hist(df_agn['logLX'].values, bins=20, color='orange', alpha=0.7)\n",
    "plt.xlabel(\"log(Lx) [erg/s]\")\n",
    "plt.ylabel(\"Nombre de sources\")\n",
    "plt.title(\"Distribution de la luminosité X\")\n",
    "\n",
    "plt.tight_layout()\n",
    "plt.show()\n"
   ]
  },
  {
   "cell_type": "markdown",
   "id": "3506978f-3a1e-47a9-90c1-b576f17d092f",
   "metadata": {},
   "source": [
    "## Initialisation of rubin science pipeline\n",
    "- Check here the collection available : https://rubinobs.atlassian.net/wiki/spaces/DM/pages/226656354/LSSTComCam+Intermittent+Cumulative+DRP+Runs"
   ]
  },
  {
   "cell_type": "markdown",
   "id": "032c0193-0ca9-487a-943f-957dcea64a53",
   "metadata": {},
   "source": [
    "### Configuration"
   ]
  },
  {
   "cell_type": "code",
   "execution_count": null,
   "id": "58131b3b-f3bf-461a-8c71-d236e7d5e7fa",
   "metadata": {
    "execution": {
     "iopub.execute_input": "2025-06-07T19:23:39.212563Z",
     "iopub.status.busy": "2025-06-07T19:23:39.212405Z",
     "iopub.status.idle": "2025-06-07T19:23:39.215602Z",
     "shell.execute_reply": "2025-06-07T19:23:39.215239Z",
     "shell.execute_reply.started": "2025-06-07T19:23:39.212547Z"
    }
   },
   "outputs": [],
   "source": [
    "# The output repo is tagged with the Jira ticket number \"DM-40356\":\n",
    "repo = '/repo/main'\n",
    "#collection = 'LSSTComCam/runs/DRP/DP1/w_2025_05/DM-48666' # work\n",
    "#collection = 'LSSTComCam/runs/DRP/DP1/w_2025_06/DM-48810' # work\n",
    "collection = 'LSSTComCam/runs/DRP/DP1/w_2025_10/DM-49359' # work\n",
    "\n",
    "\n",
    "# bad : crash collection = 'LSSTComCam/runs/DRP/DP1/w_2025_08/DM-49029'\n",
    "\n",
    "# bad : collection = \"LSSTComCam/runs/DRP/20241101_20241211/w_2024_51/DM-48233\"\n",
    "\n",
    "# not working perhaps because I am using w_2025_10 version\n",
    "# bad : no ccd visit collection = \"LSSTComCam/runs/DRP/DP1/w_2025_14/DM-49864\"\n",
    "# bad : no ccd visit collection = 'LSSTComCam/runs/DRP/DP1/w_2025_15/DM-50050'\n",
    "# bad : no cce visit collection = 'LSSTComCam/runs/DRP/DP1/w_2025_14/DM-49864'\n",
    "# bad : no cce visit collection collection = 'LSSTComCam/runs/DRP/DP1/w_2025_13/DM-49751'\n",
    "\n",
    "\n",
    "instrument = \"LSSTComCam\"\n",
    "skymapName = \"lsst_cells_v1\"\n",
    "where_clause = \"instrument = \\'\" + instrument+ \"\\'\"\n",
    "collectionStr = collection.replace(\"/\", \"_\")"
   ]
  },
  {
   "cell_type": "code",
   "execution_count": null,
   "id": "5aaaded0-f204-4b81-a359-6b9872f7c21d",
   "metadata": {
    "execution": {
     "iopub.execute_input": "2025-06-07T19:23:39.216287Z",
     "iopub.status.busy": "2025-06-07T19:23:39.216035Z",
     "iopub.status.idle": "2025-06-07T19:23:39.225251Z",
     "shell.execute_reply": "2025-06-07T19:23:39.224903Z",
     "shell.execute_reply.started": "2025-06-07T19:23:39.216272Z"
    }
   },
   "outputs": [],
   "source": [
    "FLAG_DUMP_COLLECTIONS = False\n",
    "FLAG_DUMP_DATASETS = False\n",
    "FLAG_DUMP_OBJECTSTABLECOLUMNS = False\n",
    "FLAG_CUT_OBJECTSMAG = True\n",
    "FLAG_CUT_OBJECTSSNR = True"
   ]
  },
  {
   "cell_type": "code",
   "execution_count": null,
   "id": "a66ee4ac-6255-4779-bdb3-088bee0f7058",
   "metadata": {
    "execution": {
     "iopub.execute_input": "2025-06-07T19:23:39.226046Z",
     "iopub.status.busy": "2025-06-07T19:23:39.225668Z",
     "iopub.status.idle": "2025-06-07T19:23:39.235886Z",
     "shell.execute_reply": "2025-06-07T19:23:39.235521Z",
     "shell.execute_reply.started": "2025-06-07T19:23:39.226031Z"
    }
   },
   "outputs": [],
   "source": [
    "MAGCUT = 24.0\n",
    "SNRCUT = 5.0"
   ]
  },
  {
   "cell_type": "code",
   "execution_count": null,
   "id": "d60358a6-62e7-4cc4-9440-3b178d76abe2",
   "metadata": {
    "execution": {
     "iopub.execute_input": "2025-06-07T19:23:39.236578Z",
     "iopub.status.busy": "2025-06-07T19:23:39.236310Z",
     "iopub.status.idle": "2025-06-07T19:23:39.248984Z",
     "shell.execute_reply": "2025-06-07T19:23:39.248619Z",
     "shell.execute_reply.started": "2025-06-07T19:23:39.236563Z"
    }
   },
   "outputs": [],
   "source": [
    "all_bands = [\"u\", \"g\", \"r\", \"i\", \"z\", \"y\"]\n",
    "all_bands_colors = [\"blue\", \"green\", \"red\", \"orange\", \"yellow\", \"purple\"]"
   ]
  },
  {
   "cell_type": "markdown",
   "id": "e8f0113b-9e9a-46b8-9271-c4bde6d64679",
   "metadata": {},
   "source": [
    "### Initialisation of Butler"
   ]
  },
  {
   "cell_type": "code",
   "execution_count": null,
   "id": "804fcb8b-d567-4a27-b102-05ed002051c4",
   "metadata": {
    "execution": {
     "iopub.execute_input": "2025-06-07T19:23:39.249765Z",
     "iopub.status.busy": "2025-06-07T19:23:39.249537Z",
     "iopub.status.idle": "2025-06-07T19:23:39.757433Z",
     "shell.execute_reply": "2025-06-07T19:23:39.756924Z",
     "shell.execute_reply.started": "2025-06-07T19:23:39.249751Z"
    }
   },
   "outputs": [],
   "source": [
    "# Initialize the butler repo:\n",
    "butler = Butler(repo, collections=collection)\n",
    "registry = butler.registry"
   ]
  },
  {
   "cell_type": "code",
   "execution_count": null,
   "id": "03249edb-84b0-4f36-ae94-af25391b468e",
   "metadata": {
    "execution": {
     "iopub.execute_input": "2025-06-07T19:23:39.758142Z",
     "iopub.status.busy": "2025-06-07T19:23:39.758001Z",
     "iopub.status.idle": "2025-06-07T19:23:39.947658Z",
     "shell.execute_reply": "2025-06-07T19:23:39.947140Z",
     "shell.execute_reply.started": "2025-06-07T19:23:39.758128Z"
    }
   },
   "outputs": [],
   "source": [
    "skymap = butler.get('skyMap', skymap=skymapName, collections=collection)"
   ]
  },
  {
   "cell_type": "code",
   "execution_count": null,
   "id": "5b61a4a0-edcf-462f-be02-61502f79db0b",
   "metadata": {
    "execution": {
     "iopub.execute_input": "2025-06-07T19:23:39.948346Z",
     "iopub.status.busy": "2025-06-07T19:23:39.948207Z",
     "iopub.status.idle": "2025-06-07T19:23:40.449846Z",
     "shell.execute_reply": "2025-06-07T19:23:40.449307Z",
     "shell.execute_reply.started": "2025-06-07T19:23:39.948331Z"
    }
   },
   "outputs": [],
   "source": [
    "camera = butler.get(\"camera\", collections=collection, instrument=instrument)"
   ]
  },
  {
   "cell_type": "code",
   "execution_count": null,
   "id": "ef1ab817-3225-4cc3-82b5-37f86d1f33cc",
   "metadata": {
    "execution": {
     "iopub.execute_input": "2025-06-07T19:23:40.450631Z",
     "iopub.status.busy": "2025-06-07T19:23:40.450401Z",
     "iopub.status.idle": "2025-06-07T19:23:40.455106Z",
     "shell.execute_reply": "2025-06-07T19:23:40.454696Z",
     "shell.execute_reply.started": "2025-06-07T19:23:40.450595Z"
    }
   },
   "outputs": [],
   "source": [
    "# 4. Trouver dans quel tract/patch se trouve la coordonnée\n",
    "ECDFS_tract_info = skymap.findTract(ECDFS_COORD)"
   ]
  },
  {
   "cell_type": "code",
   "execution_count": null,
   "id": "d8becbb0-1595-447b-a2ea-fe81515fbd3a",
   "metadata": {
    "execution": {
     "iopub.execute_input": "2025-06-07T19:23:40.455839Z",
     "iopub.status.busy": "2025-06-07T19:23:40.455690Z",
     "iopub.status.idle": "2025-06-07T19:23:40.466891Z",
     "shell.execute_reply": "2025-06-07T19:23:40.466178Z",
     "shell.execute_reply.started": "2025-06-07T19:23:40.455824Z"
    }
   },
   "outputs": [],
   "source": [
    "print('Tract number for ECDFS ::',ECDFS_tract_info.getId())"
   ]
  },
  {
   "cell_type": "code",
   "execution_count": null,
   "id": "fa1992cb-691e-4408-a03b-2477c0bf052d",
   "metadata": {
    "execution": {
     "iopub.execute_input": "2025-06-07T19:23:40.468416Z",
     "iopub.status.busy": "2025-06-07T19:23:40.468194Z",
     "iopub.status.idle": "2025-06-07T19:23:40.481987Z",
     "shell.execute_reply": "2025-06-07T19:23:40.481383Z",
     "shell.execute_reply.started": "2025-06-07T19:23:40.468385Z"
    }
   },
   "outputs": [],
   "source": [
    "TRACTSEL = ECDFS_tract_info.getId()"
   ]
  },
  {
   "cell_type": "code",
   "execution_count": null,
   "id": "f9fa13a1-94b3-4fe1-9716-a05ec15f576c",
   "metadata": {
    "execution": {
     "iopub.execute_input": "2025-06-07T19:23:40.482603Z",
     "iopub.status.busy": "2025-06-07T19:23:40.482454Z",
     "iopub.status.idle": "2025-06-07T19:23:40.491725Z",
     "shell.execute_reply": "2025-06-07T19:23:40.491322Z",
     "shell.execute_reply.started": "2025-06-07T19:23:40.482589Z"
    }
   },
   "outputs": [],
   "source": [
    "print(f\"TRACT : {TRACTSEL}\")"
   ]
  },
  {
   "cell_type": "code",
   "execution_count": null,
   "id": "826aebd4-b08d-4259-a715-2274b75182c2",
   "metadata": {
    "execution": {
     "iopub.execute_input": "2025-06-07T19:23:40.492317Z",
     "iopub.status.busy": "2025-06-07T19:23:40.492178Z",
     "iopub.status.idle": "2025-06-07T19:23:40.503369Z",
     "shell.execute_reply": "2025-06-07T19:23:40.502992Z",
     "shell.execute_reply.started": "2025-06-07T19:23:40.492303Z"
    }
   },
   "outputs": [],
   "source": [
    "# Check here the collections available\n",
    "if FLAG_DUMP_COLLECTIONS:\n",
    "    for _ in sorted(registry.queryCollections(expression=instrument + \"/*\")):\n",
    "        if \"/calib/\" not in _ and \"u/\" not in _:\n",
    "            print(_)"
   ]
  },
  {
   "cell_type": "code",
   "execution_count": null,
   "id": "59563647-7ecd-4366-a7e8-eb2354393559",
   "metadata": {
    "execution": {
     "iopub.execute_input": "2025-06-07T19:23:40.504015Z",
     "iopub.status.busy": "2025-06-07T19:23:40.503875Z",
     "iopub.status.idle": "2025-06-07T19:23:40.515659Z",
     "shell.execute_reply": "2025-06-07T19:23:40.514877Z",
     "shell.execute_reply.started": "2025-06-07T19:23:40.504002Z"
    }
   },
   "outputs": [],
   "source": [
    "if FLAG_DUMP_DATASETS:\n",
    "    for datasetType in registry.queryDatasetTypes():\n",
    "        if registry.queryDatasets(datasetType, collections=collection_validation).any(\n",
    "            execute=False, exact=False\n",
    "        ):\n",
    "            # Limit search results to the data products\n",
    "            if (\n",
    "                (\"_config\" not in datasetType.name)\n",
    "                and (\"_log\" not in datasetType.name)\n",
    "                and (\"_metadata\" not in datasetType.name)\n",
    "                and (\"_resource_usage\" not in datasetType.name)\n",
    "                and (\"Plot\" not in datasetType.name)\n",
    "                and (\"Metric\" not in datasetType.name)\n",
    "                and (\"metric\" not in datasetType.name)\n",
    "                and ((\"Table\" in datasetType.name) or (\"Zeropointp\" in datasetType.name) or (\"fgcm\" in datasetType.name) or (\"transm\" in datasetType.name) or (\"Transm\" in datasetType.name)\n",
    "                or (\"source\" in datasetType.name) or (\"Source\" in datasetType.name) or (\"object\" in datasetType.name) or (\"Object\" in datasetType.name))\n",
    "            ):\n",
    "                \n",
    "                print(datasetType)"
   ]
  },
  {
   "cell_type": "markdown",
   "id": "57be8008-c849-440e-9bae-8649564d3373",
   "metadata": {},
   "source": [
    "### Get list of Tracts and Patches\n",
    "\n",
    "- Just to know which tracts are involved in the observations"
   ]
  },
  {
   "cell_type": "code",
   "execution_count": null,
   "id": "c0823ed5-9b23-4548-af23-12d707772667",
   "metadata": {
    "execution": {
     "iopub.execute_input": "2025-06-07T19:23:40.517360Z",
     "iopub.status.busy": "2025-06-07T19:23:40.516440Z",
     "iopub.status.idle": "2025-06-07T19:23:40.591117Z",
     "shell.execute_reply": "2025-06-07T19:23:40.590630Z",
     "shell.execute_reply.started": "2025-06-07T19:23:40.517338Z"
    }
   },
   "outputs": [],
   "source": [
    "datasettype = \"objectTable_tract\"\n",
    "therefs = butler.registry.queryDatasets(datasettype,  collections=collection)"
   ]
  },
  {
   "cell_type": "code",
   "execution_count": null,
   "id": "f810d737-c393-40bb-bc60-32e3706cf4a0",
   "metadata": {
    "execution": {
     "iopub.execute_input": "2025-06-07T19:23:40.591828Z",
     "iopub.status.busy": "2025-06-07T19:23:40.591679Z",
     "iopub.status.idle": "2025-06-07T19:23:40.601192Z",
     "shell.execute_reply": "2025-06-07T19:23:40.600794Z",
     "shell.execute_reply.started": "2025-06-07T19:23:40.591813Z"
    }
   },
   "outputs": [],
   "source": [
    "tractsId_list = np.unique([ref.dataId['tract'] for ref in therefs])\n",
    "tractsId_list = sorted(tractsId_list)\n",
    "print(tractsId_list)"
   ]
  },
  {
   "cell_type": "markdown",
   "id": "b20d2431-baf2-4f64-acdd-4301479d3981",
   "metadata": {
    "execution": {
     "iopub.execute_input": "2025-04-21T12:06:53.157322Z",
     "iopub.status.busy": "2025-04-21T12:06:53.157187Z",
     "iopub.status.idle": "2025-04-21T12:06:53.279027Z",
     "shell.execute_reply": "2025-04-21T12:06:53.278463Z",
     "shell.execute_reply.started": "2025-04-21T12:06:53.157309Z"
    }
   },
   "source": [
    "## Select AGN which are in the selected Patch"
   ]
  },
  {
   "cell_type": "code",
   "execution_count": null,
   "id": "6f2bea9b-889e-486d-a023-f2bf0e568f6a",
   "metadata": {
    "execution": {
     "iopub.execute_input": "2025-06-07T19:23:40.601807Z",
     "iopub.status.busy": "2025-06-07T19:23:40.601668Z",
     "iopub.status.idle": "2025-06-07T19:23:40.624496Z",
     "shell.execute_reply": "2025-06-07T19:23:40.623903Z",
     "shell.execute_reply.started": "2025-06-07T19:23:40.601793Z"
    }
   },
   "outputs": [],
   "source": [
    "df_agn[df_agn[\"zspec\"]<1.5]"
   ]
  },
  {
   "cell_type": "code",
   "execution_count": null,
   "id": "ee4d85d6-2e9a-4fff-9cbf-044565619bdc",
   "metadata": {
    "execution": {
     "iopub.execute_input": "2025-06-07T19:23:40.625573Z",
     "iopub.status.busy": "2025-06-07T19:23:40.625294Z",
     "iopub.status.idle": "2025-06-07T19:23:40.635136Z",
     "shell.execute_reply": "2025-06-07T19:23:40.634739Z",
     "shell.execute_reply.started": "2025-06-07T19:23:40.625544Z"
    }
   },
   "outputs": [],
   "source": [
    "galaxyindex_selected = []\n",
    "N =len(df_galaxy)\n",
    "for idx in range(N):\n",
    "    ra_target,dec_target = df_galaxy.iloc[idx][['RAJ2000','DEJ2000']]\n",
    "    target_point = SpherePoint(ra_target, dec_target, degrees)\n",
    "    if ECDFS_tract_info.contains(target_point):\n",
    "        galaxyindex_selected.append(idx)         "
   ]
  },
  {
   "cell_type": "code",
   "execution_count": null,
   "id": "e882f9ae-7f26-4593-bfe5-979699f26793",
   "metadata": {
    "execution": {
     "iopub.execute_input": "2025-06-07T19:23:40.635977Z",
     "iopub.status.busy": "2025-06-07T19:23:40.635605Z",
     "iopub.status.idle": "2025-06-07T19:23:40.649775Z",
     "shell.execute_reply": "2025-06-07T19:23:40.649409Z",
     "shell.execute_reply.started": "2025-06-07T19:23:40.635961Z"
    }
   },
   "outputs": [],
   "source": [
    "print(galaxyindex_selected)"
   ]
  },
  {
   "cell_type": "code",
   "execution_count": null,
   "id": "3acd9664-74f4-4dcc-abfc-80d3315ff166",
   "metadata": {
    "execution": {
     "iopub.execute_input": "2025-06-07T19:23:40.650355Z",
     "iopub.status.busy": "2025-06-07T19:23:40.650219Z",
     "iopub.status.idle": "2025-06-07T19:23:40.673863Z",
     "shell.execute_reply": "2025-06-07T19:23:40.673110Z",
     "shell.execute_reply.started": "2025-06-07T19:23:40.650341Z"
    }
   },
   "outputs": [],
   "source": [
    "agnindex_selected = []\n",
    "N =len(df_agn)\n",
    "for idx in range(N):\n",
    "    ra_target,dec_target = df_agn.iloc[idx][['RAJ2000','DEJ2000']]\n",
    "    target_point = SpherePoint(ra_target, dec_target, degrees)\n",
    "    if ECDFS_tract_info.contains(target_point):\n",
    "        agnindex_selected.append(idx)         "
   ]
  },
  {
   "cell_type": "code",
   "execution_count": null,
   "id": "21e97d92-72b3-48f2-b1a5-b1d96b5faadc",
   "metadata": {
    "execution": {
     "iopub.execute_input": "2025-06-07T19:23:40.675015Z",
     "iopub.status.busy": "2025-06-07T19:23:40.674741Z",
     "iopub.status.idle": "2025-06-07T19:23:40.678631Z",
     "shell.execute_reply": "2025-06-07T19:23:40.678206Z",
     "shell.execute_reply.started": "2025-06-07T19:23:40.674992Z"
    }
   },
   "outputs": [],
   "source": [
    "print(agnindex_selected)"
   ]
  },
  {
   "cell_type": "code",
   "execution_count": null,
   "id": "b5717a3a-6977-4592-b726-1f7781ee97a7",
   "metadata": {
    "execution": {
     "iopub.execute_input": "2025-06-07T19:23:40.679235Z",
     "iopub.status.busy": "2025-06-07T19:23:40.679094Z",
     "iopub.status.idle": "2025-06-07T19:23:40.684690Z",
     "shell.execute_reply": "2025-06-07T19:23:40.684305Z",
     "shell.execute_reply.started": "2025-06-07T19:23:40.679221Z"
    }
   },
   "outputs": [],
   "source": [
    "index_agn_selected = 0\n",
    "index_galaxy_selected = 0\n",
    "FLAG_AGN_SELECTED  = True"
   ]
  },
  {
   "cell_type": "code",
   "execution_count": null,
   "id": "e8b3a6dd-354b-4d2f-80e3-01a6da4d62d7",
   "metadata": {
    "execution": {
     "iopub.execute_input": "2025-06-07T19:23:40.685433Z",
     "iopub.status.busy": "2025-06-07T19:23:40.685151Z",
     "iopub.status.idle": "2025-06-07T19:23:40.693664Z",
     "shell.execute_reply": "2025-06-07T19:23:40.693290Z",
     "shell.execute_reply.started": "2025-06-07T19:23:40.685417Z"
    }
   },
   "outputs": [],
   "source": [
    "if FLAG_AGN_SELECTED: \n",
    "    ra_target,dec_target = df_agn.iloc[index_agn_selected ][['RAJ2000','DEJ2000']]\n",
    "    target_point = SpherePoint(ra_target, dec_target, degrees)\n",
    "    target_coord = SkyCoord(ra=ra_target*u.deg, dec=dec_target*u.deg)\n",
    "    logLx = df_agn.iloc[index_agn_selected ]['logLX']\n",
    "    zspec = df_agn.iloc[index_agn_selected ]['zspec']\n",
    "    target_title = f\"agn :: {index_agn_selected}, log L(erg/s) = {logLx:.2f} , zspec = {zspec:.2f}, (ra,dec) = {ra_target:.5f},{dec_target:.5f}\"\n",
    "else:\n",
    "    ra_target,dec_target = df_galaxy.iloc[index_galaxy_selected ][['RAJ2000','DEJ2000']]\n",
    "    target_point = SpherePoint(ra_target, dec_target, degrees)\n",
    "    target_coord = SkyCoord(ra=ra_target*u.deg, dec=dec_target*u.deg)\n",
    "    logLx = df_galaxy.iloc[index_galaxy_selected ]['logLX']\n",
    "    zspec = df_galaxy.iloc[index_galaxy_selected ]['zspec']\n",
    "    target_title = f\"galaxy :: {index_galaxy_selected}, log L(erg/s) = {logLx:.2f} , zspec = {zspec:.2f}, (ra,dec) = {ra_target:.5f},{dec_target:.5f}\"\n",
    "    "
   ]
  },
  {
   "cell_type": "code",
   "execution_count": null,
   "id": "8635f396-48ec-4d82-8fc1-d4aa1396ffd3",
   "metadata": {
    "execution": {
     "iopub.execute_input": "2025-06-07T19:23:40.694372Z",
     "iopub.status.busy": "2025-06-07T19:23:40.694113Z",
     "iopub.status.idle": "2025-06-07T19:23:40.706349Z",
     "shell.execute_reply": "2025-06-07T19:23:40.705999Z",
     "shell.execute_reply.started": "2025-06-07T19:23:40.694356Z"
    }
   },
   "outputs": [],
   "source": [
    "target_coord"
   ]
  },
  {
   "cell_type": "markdown",
   "id": "7eb4c8a6-7c70-45c3-99cb-d33765377995",
   "metadata": {},
   "source": [
    "## Find in which patch is the target"
   ]
  },
  {
   "cell_type": "code",
   "execution_count": null,
   "id": "ae380086-7634-4f28-9a4e-bbada8c1ee83",
   "metadata": {
    "execution": {
     "iopub.execute_input": "2025-06-07T19:23:40.706921Z",
     "iopub.status.busy": "2025-06-07T19:23:40.706786Z",
     "iopub.status.idle": "2025-06-07T19:23:40.719599Z",
     "shell.execute_reply": "2025-06-07T19:23:40.719237Z",
     "shell.execute_reply.started": "2025-06-07T19:23:40.706907Z"
    }
   },
   "outputs": [],
   "source": [
    "patch_info = ECDFS_tract_info.findPatch(target_point)\n",
    "tractNbSel = ECDFS_tract_info.getId()\n",
    "patchNbSel =  patch_info.getSequentialIndex()\n",
    "where_clause = f\"skymap = '{skymapName}' AND tract = {tractNbSel} AND patch = {patchNbSel}\"\n",
    "print(where_clause)"
   ]
  },
  {
   "cell_type": "markdown",
   "id": "5022ca8c-d08a-40f7-b8b1-9a9f56d394f2",
   "metadata": {},
   "source": [
    "## Define the Stack DM product used for the DIA analysis"
   ]
  },
  {
   "cell_type": "code",
   "execution_count": null,
   "id": "ae40f327-7e25-46aa-832f-7feaaf526420",
   "metadata": {
    "execution": {
     "iopub.execute_input": "2025-06-07T19:23:40.720157Z",
     "iopub.status.busy": "2025-06-07T19:23:40.720024Z",
     "iopub.status.idle": "2025-06-07T19:23:40.732963Z",
     "shell.execute_reply": "2025-06-07T19:23:40.732425Z",
     "shell.execute_reply.started": "2025-06-07T19:23:40.720144Z"
    }
   },
   "outputs": [],
   "source": [
    "datasettype =  'forcedSourceOnDiaObjectTable'\n",
    "#datasettype =  'diaSourceTable_tract'\n",
    "#datasettype = 'goodSeeingDiff_assocSsSrcTable' # bad table\n",
    "subtitle = collectionStr + \"_\" + datasettype"
   ]
  },
  {
   "cell_type": "code",
   "execution_count": null,
   "id": "3cc6ba9a-7fd8-4a08-927a-dda396deda30",
   "metadata": {
    "execution": {
     "iopub.execute_input": "2025-06-07T19:23:40.733432Z",
     "iopub.status.busy": "2025-06-07T19:23:40.733302Z",
     "iopub.status.idle": "2025-06-07T19:23:40.743459Z",
     "shell.execute_reply": "2025-06-07T19:23:40.743092Z",
     "shell.execute_reply.started": "2025-06-07T19:23:40.733418Z"
    }
   },
   "outputs": [],
   "source": [
    "if FLAG_AGN_SELECTED: \n",
    "    figname1 = f\"agn_{index_agn_selected}_{datasettype}_v1.png\"\n",
    "    figname2 = f\"agn_{index_agn_selected}_{datasettype}_v2.png\"\n",
    "else:\n",
    "    figname1 = f\"galaxy_{index_agn_selected}_{datasettype}_v1.png\"\n",
    "    figname2 = f\"galaxy_{index_agn_selected}_{datasettype}_v2.png\""
   ]
  },
  {
   "cell_type": "code",
   "execution_count": null,
   "id": "dc2e290d-3fef-4989-a4ca-6e57b502eaac",
   "metadata": {
    "execution": {
     "iopub.execute_input": "2025-06-07T19:23:40.744044Z",
     "iopub.status.busy": "2025-06-07T19:23:40.743912Z",
     "iopub.status.idle": "2025-06-07T19:23:47.069620Z",
     "shell.execute_reply": "2025-06-07T19:23:47.069045Z",
     "shell.execute_reply.started": "2025-06-07T19:23:40.744031Z"
    }
   },
   "outputs": [],
   "source": [
    "closest_src, sepMin, nearby_src = RetrieveDiaSources_forTarget(butler,target_coord,datasettype,where_clause)"
   ]
  },
  {
   "cell_type": "code",
   "execution_count": null,
   "id": "23306ca1-a7e6-4280-b9d7-0b199c046db9",
   "metadata": {
    "execution": {
     "iopub.execute_input": "2025-06-07T19:23:47.070319Z",
     "iopub.status.busy": "2025-06-07T19:23:47.070180Z",
     "iopub.status.idle": "2025-06-07T19:23:47.484004Z",
     "shell.execute_reply": "2025-06-07T19:23:47.483524Z",
     "shell.execute_reply.started": "2025-06-07T19:23:47.070306Z"
    }
   },
   "outputs": [],
   "source": [
    "fig, ax = plt.subplots(1,1,figsize=(6,4))\n",
    "nearby_src[\"sep\"].hist(bins=50,ax=ax,facecolor=\"b\")\n",
    "closest_src[\"sep\"].hist(bins=50,range=(0,100),ax=ax,facecolor=\"r\")\n",
    "ax.set_yscale(\"log\")\n",
    "ax.set_title(\"separation angle\")\n",
    "ax.set_xlabel(\"separation angle (arcsec)\")\n",
    "plt.show()"
   ]
  },
  {
   "cell_type": "markdown",
   "id": "37807cdf-cc88-4e5a-8ecb-43fa06183171",
   "metadata": {},
   "source": [
    "### Add a few columns : Split visit into dayobs and seq"
   ]
  },
  {
   "cell_type": "code",
   "execution_count": null,
   "id": "f5c7d9ec-6f52-441a-afbe-7ebb59e224a6",
   "metadata": {
    "execution": {
     "iopub.execute_input": "2025-06-07T19:23:47.484703Z",
     "iopub.status.busy": "2025-06-07T19:23:47.484558Z",
     "iopub.status.idle": "2025-06-07T19:23:47.486951Z",
     "shell.execute_reply": "2025-06-07T19:23:47.486526Z",
     "shell.execute_reply.started": "2025-06-07T19:23:47.484686Z"
    }
   },
   "outputs": [],
   "source": [
    "t = closest_src"
   ]
  },
  {
   "cell_type": "markdown",
   "id": "112094be-7b12-475f-8faa-7133b3b1b936",
   "metadata": {},
   "source": [
    "### Add Magnitudes and Magnitudes errors"
   ]
  },
  {
   "cell_type": "code",
   "execution_count": null,
   "id": "453798ec-0d66-4278-b8c3-a9ea4e1cf25b",
   "metadata": {
    "execution": {
     "iopub.execute_input": "2025-06-07T19:23:47.487520Z",
     "iopub.status.busy": "2025-06-07T19:23:47.487386Z",
     "iopub.status.idle": "2025-06-07T19:23:47.500046Z",
     "shell.execute_reply": "2025-06-07T19:23:47.499525Z",
     "shell.execute_reply.started": "2025-06-07T19:23:47.487502Z"
    }
   },
   "outputs": [],
   "source": [
    "t[\"dateobs\"] = t.apply(lambda x: x['visit']//100_000, axis=1)\n",
    "t[\"seq\"] = t[\"visit\"] - t[\"dateobs\"]*100_000"
   ]
  },
  {
   "cell_type": "code",
   "execution_count": null,
   "id": "3b3663e0-bc24-4d76-8fed-92781be70fd5",
   "metadata": {
    "execution": {
     "iopub.execute_input": "2025-06-07T19:23:47.500653Z",
     "iopub.status.busy": "2025-06-07T19:23:47.500522Z",
     "iopub.status.idle": "2025-06-07T19:23:47.514514Z",
     "shell.execute_reply": "2025-06-07T19:23:47.513939Z",
     "shell.execute_reply.started": "2025-06-07T19:23:47.500639Z"
    }
   },
   "outputs": [],
   "source": [
    "#t[\"mags\"] = t[\"psfFlux\"].apply(lambda flux : -2.5 * np.log10(flux) + 31.4)\n",
    "t[\"mags\"] = t[\"psfFlux\"].apply(nJy_to_ab_mag)\n",
    "t[\"magerr\"] = nJy_err_to_ab_err(t[\"psfFlux\"], t[\"psfFluxErr\"])                               \n",
    "t[\"valid\"] = (t[\"psfFlux\"] >0) & (~t[\"psfFlux_flag\"])\n",
    "visit_list = t[\"visit\"].astype(int)"
   ]
  },
  {
   "cell_type": "markdown",
   "id": "8ef1ef5c-7a4c-475f-9fe3-3e9384409943",
   "metadata": {
    "execution": {
     "iopub.execute_input": "2025-04-21T13:39:44.974222Z",
     "iopub.status.busy": "2025-04-21T13:39:44.973998Z",
     "iopub.status.idle": "2025-04-21T13:39:44.976793Z",
     "shell.execute_reply": "2025-04-21T13:39:44.976436Z",
     "shell.execute_reply.started": "2025-04-21T13:39:44.974206Z"
    }
   },
   "source": [
    "### Find the time associated to each visit"
   ]
  },
  {
   "cell_type": "code",
   "execution_count": null,
   "id": "7ee3d646-b857-4019-b71e-e1d447fe292e",
   "metadata": {
    "execution": {
     "iopub.execute_input": "2025-06-07T19:23:47.515111Z",
     "iopub.status.busy": "2025-06-07T19:23:47.514982Z",
     "iopub.status.idle": "2025-06-07T19:23:47.731848Z",
     "shell.execute_reply": "2025-06-07T19:23:47.731295Z",
     "shell.execute_reply.started": "2025-06-07T19:23:47.515098Z"
    }
   },
   "outputs": [],
   "source": [
    "# On interroge la table visitDefinition\n",
    "rows = registry.queryDimensionRecords(\"visit\", where=f\"visit in {tuple(visit_list)}\")\n",
    "\n",
    "# 4. Construire un tableau des résultats\n",
    "results = []\n",
    "for row in rows:\n",
    "    visit_id = row.id\n",
    "\n",
    "    # Extraire l'instant de début de l'observation (Time astropy)\n",
    "    start_time = row.timespan.begin\n",
    "\n",
    "    # Convertir en MJD et ISO\n",
    "    mjd = start_time.to_value(\"mjd\")  # Ex: 60384.28718\n",
    "    isot = start_time.to_value(\"isot\")  # Ex: '2024-04-19 06:53:32.000'\n",
    "    \n",
    "    #mjd = row.startDate.toMjd()\n",
    "    #utc = Time(mjd, format='mjd', scale='utc').to_value('iso')\n",
    "    results.append({\"visit\": visit_id, \"mjd\": mjd, \"isot\": isot})\n",
    "\n",
    "df_times = pd.DataFrame(results).sort_values(\"visit\")\n",
    "df_times.set_index(\"visit\",inplace=True)"
   ]
  },
  {
   "cell_type": "code",
   "execution_count": null,
   "id": "65027963-05cf-4df4-ae5f-79aa70eeaa57",
   "metadata": {
    "execution": {
     "iopub.execute_input": "2025-06-07T19:23:47.732579Z",
     "iopub.status.busy": "2025-06-07T19:23:47.732429Z",
     "iopub.status.idle": "2025-06-07T19:23:47.774422Z",
     "shell.execute_reply": "2025-06-07T19:23:47.774010Z",
     "shell.execute_reply.started": "2025-06-07T19:23:47.732565Z"
    }
   },
   "outputs": [],
   "source": [
    "t[\"mjd\"] = t[\"visit\"].apply(lambda x: df_times.loc[x][\"mjd\"])\n",
    "t[\"isot\"] = t[\"visit\"].apply(lambda x: df_times.loc[x][\"isot\"])"
   ]
  },
  {
   "cell_type": "markdown",
   "id": "0e5a76c4-200e-4be7-a9eb-6f414f567827",
   "metadata": {},
   "source": [
    "## Split the sources in different bands"
   ]
  },
  {
   "cell_type": "code",
   "execution_count": null,
   "id": "070b3a61-c473-4887-9c67-04b0c2ca39d2",
   "metadata": {
    "execution": {
     "iopub.execute_input": "2025-06-07T19:23:47.775143Z",
     "iopub.status.busy": "2025-06-07T19:23:47.774938Z",
     "iopub.status.idle": "2025-06-07T19:23:47.781245Z",
     "shell.execute_reply": "2025-06-07T19:23:47.780879Z",
     "shell.execute_reply.started": "2025-06-07T19:23:47.775129Z"
    }
   },
   "outputs": [],
   "source": [
    "tb = {}\n",
    "for band in all_bands:\n",
    "    tb[band] = t[t[\"band\"] == band]"
   ]
  },
  {
   "cell_type": "markdown",
   "id": "eb153e8f-c5b1-439f-a4f1-ca836c771294",
   "metadata": {},
   "source": [
    "## Plot light curves"
   ]
  },
  {
   "cell_type": "code",
   "execution_count": null,
   "id": "46206aeb-8cee-41ea-a9ff-0d1eb30600df",
   "metadata": {
    "execution": {
     "iopub.execute_input": "2025-06-07T19:23:47.781806Z",
     "iopub.status.busy": "2025-06-07T19:23:47.781682Z",
     "iopub.status.idle": "2025-06-07T19:23:49.466194Z",
     "shell.execute_reply": "2025-06-07T19:23:49.465740Z",
     "shell.execute_reply.started": "2025-06-07T19:23:47.781794Z"
    }
   },
   "outputs": [],
   "source": [
    "#plotLightCurvesSeparatedBands(tb,target_title,subtitle,figname1)\n",
    "plotLightCurvesSeparatedBandsWithErrors(tb, target_title, subtitle, deltaylim = 2.0  ,figname=figname1)"
   ]
  },
  {
   "cell_type": "code",
   "execution_count": null,
   "id": "190367aa-6d5b-4cbf-974b-1885e166721b",
   "metadata": {
    "execution": {
     "iopub.execute_input": "2025-06-07T19:23:49.467179Z",
     "iopub.status.busy": "2025-06-07T19:23:49.467034Z",
     "iopub.status.idle": "2025-06-07T19:23:50.507374Z",
     "shell.execute_reply": "2025-06-07T19:23:50.506659Z",
     "shell.execute_reply.started": "2025-06-07T19:23:49.467164Z"
    }
   },
   "outputs": [],
   "source": [
    "#plotLightCurvesAllTogetherBands(tb,target_title,subtitle,figname2)\n",
    "plotLightCurvesAllTogetherBandsWithErrors(tb, target_title, subtitle, figname=figname2)"
   ]
  },
  {
   "cell_type": "markdown",
   "id": "2651f1e7-a6e8-4702-a5b3-5d85c6b7b9ca",
   "metadata": {},
   "source": [
    "## Plot the deepCoadds"
   ]
  },
  {
   "cell_type": "code",
   "execution_count": null,
   "id": "1bbeeb36-aee2-4165-a061-740e0f939451",
   "metadata": {
    "execution": {
     "iopub.execute_input": "2025-06-07T19:23:50.508784Z",
     "iopub.status.busy": "2025-06-07T19:23:50.508394Z",
     "iopub.status.idle": "2025-06-07T19:24:04.554422Z",
     "shell.execute_reply": "2025-06-07T19:24:04.553849Z",
     "shell.execute_reply.started": "2025-06-07T19:23:50.508766Z"
    }
   },
   "outputs": [],
   "source": [
    "framecount = 0\n",
    "for iband,band in enumerate(all_bands):\n",
    "    framecount +=1\n",
    "    find_tract_patch_and_display(butler, skymap,ra_target, dec_target, band,framecount=framecount)"
   ]
  },
  {
   "cell_type": "code",
   "execution_count": null,
   "id": "c0ff101d-3672-456c-a365-eb84a67fb561",
   "metadata": {},
   "outputs": [],
   "source": []
  }
 ],
 "metadata": {
  "kernelspec": {
   "display_name": "LSST",
   "language": "python",
   "name": "lsst"
  },
  "language_info": {
   "codemirror_mode": {
    "name": "ipython",
    "version": 3
   },
   "file_extension": ".py",
   "mimetype": "text/x-python",
   "name": "python",
   "nbconvert_exporter": "python",
   "pygments_lexer": "ipython3",
   "version": "3.12.10"
  }
 },
 "nbformat": 4,
 "nbformat_minor": 5
}
