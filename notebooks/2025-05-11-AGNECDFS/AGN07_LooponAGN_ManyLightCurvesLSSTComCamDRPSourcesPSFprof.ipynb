{
 "cells": [
  {
   "cell_type": "markdown",
   "id": "8f3da262-37ed-407f-908c-8ac5a52cb4db",
   "metadata": {},
   "source": [
    "# Loop on AGN Light curves from forcedSourceTable in the Extended Chandra Deep Field South in DRP using forcedSourceTable\n",
    "Sources Light Curves\n",
    "\n",
    "- author : Sylvie Dagoret-Campagne\n",
    "- affiliation : IJCLab/IN2P3/CNRS\n",
    "- member : DESC, rubin-inkind\n",
    "- creation date : 2025-06-07"
   ]
  },
  {
   "cell_type": "markdown",
   "id": "0bcb9c8b-c8a8-4f32-be7a-f8844cdc4102",
   "metadata": {},
   "source": [
    "- Confluence page : https://rubinobs.atlassian.net/wiki/spaces/LSSTCOM/pages/372867091/System-level+Science+Performance+Verification+Sprint\n",
    "- slides : https://docs.google.com/presentation/d/1bPjS5NGtiEL2lfjmvP1UYdG_tMEDfZxX26ayhf7MhtY/edit#slide=id.ga2f7fb1a1f_0_70"
   ]
  },
  {
   "cell_type": "markdown",
   "id": "f3737976-eab8-4483-a79d-796f738c4f22",
   "metadata": {},
   "source": [
    "- where to find the campains\n",
    "- https://rubinobs.atlassian.net/wiki/spaces/DM/pages/226656354/LSSTComCam+Intermittent+Cumulative+DRP+Runs\n",
    "\n",
    "- plot Navigator\n",
    "- https://usdf-rsp.slac.stanford.edu/plot-navigator\n",
    "- https://usdf-rsp.slac.stanford.edu/plot-navigator/plot/%2Frepo%2Fmain/LSSTComCam%2Fruns%2FDRP%2FDP1%2Fw_2025_05%2FDM-48666/objectTableCore_coaddInputCount_SkyPlot"
   ]
  },
  {
   "cell_type": "markdown",
   "id": "53b4594d-5de5-4fa1-8ada-f60f0018cac5",
   "metadata": {},
   "source": [
    "- Notebooks examples\n",
    "- https://github.com/lsst-dm/DMTR-401/blob/main/notebooks/test_LVV-T40_T1240.ipynb\n",
    "- https://github.com/lsst-dm/DMTR-412/blob/tickets/DM-38728/notebooks/test_LVV-T1751_AM1_AM2.ipynb"
   ]
  },
  {
   "cell_type": "markdown",
   "id": "8402aac4-562a-40cd-ac2b-c1ca76cae55b",
   "metadata": {},
   "source": [
    "- Redo Visits like here : https://github.com/sylvielsstfr/LSST-Rehearsal2024/blob/main/notebooks/Visits/stat_on_visits_LSSTComCamSim.ipynb\n",
    "- To find what I did on LSSTComCamSim : https://github.com/sylvielsstfr/LSST-Rehearsal2024/blob/main/notebooks/LightCurves/MultiColor_lightCurves-DMRehearsal2024_01-AuxTel-DZPOnCCD.ipynb\n",
    "- **Confluence page** : https://rubinobs.atlassian.net/wiki/spaces/LSSTCOM/pages/443613290/Science+Verification+Sprint+Feb+2025\n"
   ]
  },
  {
   "cell_type": "code",
   "execution_count": null,
   "id": "9d583412-a5a0-456e-84be-1fb658ddf016",
   "metadata": {
    "execution": {
     "iopub.execute_input": "2025-06-07T20:23:52.774060Z",
     "iopub.status.busy": "2025-06-07T20:23:52.773929Z",
     "iopub.status.idle": "2025-06-07T20:23:53.833574Z",
     "shell.execute_reply": "2025-06-07T20:23:53.832782Z",
     "shell.execute_reply.started": "2025-06-07T20:23:52.774046Z"
    }
   },
   "outputs": [],
   "source": [
    "# Confirm that the version of the Science Pipelines is recent:\n",
    "! echo $HOSTNAME\n",
    "! eups list -s | grep lsst_distrib"
   ]
  },
  {
   "cell_type": "code",
   "execution_count": null,
   "id": "8fbb9671-7d8e-4724-8c58-0f0a4fb9e5f0",
   "metadata": {
    "execution": {
     "iopub.execute_input": "2025-06-07T20:23:53.834728Z",
     "iopub.status.busy": "2025-06-07T20:23:53.834567Z",
     "iopub.status.idle": "2025-06-07T20:23:55.223691Z",
     "shell.execute_reply": "2025-06-07T20:23:55.223179Z",
     "shell.execute_reply.started": "2025-06-07T20:23:53.834710Z"
    }
   },
   "outputs": [],
   "source": [
    "from lsst.daf.butler import Butler\n",
    "import lsst.geom as geom\n",
    "\n",
    "import lsst.afw.display as afwDisplay\n",
    "\n",
    "from lsst.geom import SpherePoint, degrees, Point2D, Point2I, Extent2I, Box2I\n",
    "from lsst.afw.image import ExposureF\n",
    "from lsst.skymap import PatchInfo, Index2D"
   ]
  },
  {
   "cell_type": "code",
   "execution_count": null,
   "id": "8983f25c-dadf-434b-bb84-e24a3150f766",
   "metadata": {
    "execution": {
     "iopub.execute_input": "2025-06-07T20:23:55.224688Z",
     "iopub.status.busy": "2025-06-07T20:23:55.224232Z",
     "iopub.status.idle": "2025-06-07T20:23:55.288635Z",
     "shell.execute_reply": "2025-06-07T20:23:55.288132Z",
     "shell.execute_reply.started": "2025-06-07T20:23:55.224670Z"
    }
   },
   "outputs": [],
   "source": [
    "afwDisplay.setDefaultBackend(\"firefly\")"
   ]
  },
  {
   "cell_type": "code",
   "execution_count": null,
   "id": "e814e3d6-750c-4e7f-a9a5-5bf1e2f7205f",
   "metadata": {
    "execution": {
     "iopub.execute_input": "2025-06-07T20:23:55.289577Z",
     "iopub.status.busy": "2025-06-07T20:23:55.289168Z",
     "iopub.status.idle": "2025-06-07T20:23:57.069773Z",
     "shell.execute_reply": "2025-06-07T20:23:57.069223Z",
     "shell.execute_reply.started": "2025-06-07T20:23:55.289559Z"
    }
   },
   "outputs": [],
   "source": [
    "import os\n",
    "import gc\n",
    "import glob\n",
    "import numpy as np\n",
    "import pandas as pd\n",
    "import random\n",
    "\n",
    "import astropy.units as u\n",
    "from astropy.coordinates import SkyCoord\n",
    "from astroquery.gaia import Gaia\n",
    "Gaia.MAIN_GAIA_TABLE = \"gaiadr3.gaia_source\"  # Reselect Data Release 3, default\n",
    "Gaia.ROW_LIMIT = 100000\n",
    "from astropy.visualization import (MinMaxInterval, AsinhStretch, ZScaleInterval, LogStretch, LinearStretch,\n",
    "                                   ImageNormalize)\n",
    "\n",
    "\n",
    "from astropy.stats import sigma_clipped_stats\n",
    "from astropy.stats import sigma_clip\n",
    "from scipy.optimize import curve_fit"
   ]
  },
  {
   "cell_type": "code",
   "execution_count": null,
   "id": "e68df967-7870-47da-a4dd-760df6732aa5",
   "metadata": {
    "execution": {
     "iopub.execute_input": "2025-06-07T20:23:57.070796Z",
     "iopub.status.busy": "2025-06-07T20:23:57.070393Z",
     "iopub.status.idle": "2025-06-07T20:23:57.518075Z",
     "shell.execute_reply": "2025-06-07T20:23:57.517534Z",
     "shell.execute_reply.started": "2025-06-07T20:23:57.070779Z"
    }
   },
   "outputs": [],
   "source": [
    "import seaborn as sns\n",
    "from itertools import cycle, islice"
   ]
  },
  {
   "cell_type": "code",
   "execution_count": null,
   "id": "f385c649-efb6-40a8-b9f7-ebc65c441a04",
   "metadata": {
    "execution": {
     "iopub.execute_input": "2025-06-07T20:23:57.518943Z",
     "iopub.status.busy": "2025-06-07T20:23:57.518680Z",
     "iopub.status.idle": "2025-06-07T20:23:57.521549Z",
     "shell.execute_reply": "2025-06-07T20:23:57.521103Z",
     "shell.execute_reply.started": "2025-06-07T20:23:57.518927Z"
    }
   },
   "outputs": [],
   "source": [
    "from astropy.time import Time\n",
    "from datetime import datetime, timedelta"
   ]
  },
  {
   "cell_type": "code",
   "execution_count": null,
   "id": "46c68d72-750b-4bb9-b92a-1fe6e1728171",
   "metadata": {
    "execution": {
     "iopub.execute_input": "2025-06-07T20:23:57.522184Z",
     "iopub.status.busy": "2025-06-07T20:23:57.522050Z",
     "iopub.status.idle": "2025-06-07T20:23:57.536791Z",
     "shell.execute_reply": "2025-06-07T20:23:57.536396Z",
     "shell.execute_reply.started": "2025-06-07T20:23:57.522172Z"
    }
   },
   "outputs": [],
   "source": [
    "import lsst\n",
    "import lsst.geom as geom\n",
    "from lsst.geom import Angle\n",
    "from lsst.geom import SpherePoint\n",
    "from lsst.geom import AngleUnit"
   ]
  },
  {
   "cell_type": "code",
   "execution_count": null,
   "id": "a11a939d-942c-48b8-97ec-f426d85cd47f",
   "metadata": {
    "execution": {
     "iopub.execute_input": "2025-06-07T20:23:57.537384Z",
     "iopub.status.busy": "2025-06-07T20:23:57.537243Z",
     "iopub.status.idle": "2025-06-07T20:23:57.553252Z",
     "shell.execute_reply": "2025-06-07T20:23:57.552723Z",
     "shell.execute_reply.started": "2025-06-07T20:23:57.537371Z"
    }
   },
   "outputs": [],
   "source": [
    "# For Angle conversion\n",
    "from astropy.coordinates import Angle\n",
    "import astropy.units as u\n",
    "from astropy.coordinates import SkyCoord"
   ]
  },
  {
   "cell_type": "code",
   "execution_count": null,
   "id": "db3e1b4b-1bd1-4d15-9b0b-b014981ad0f5",
   "metadata": {
    "execution": {
     "iopub.execute_input": "2025-06-07T20:23:57.554158Z",
     "iopub.status.busy": "2025-06-07T20:23:57.553947Z",
     "iopub.status.idle": "2025-06-07T20:23:57.563461Z",
     "shell.execute_reply": "2025-06-07T20:23:57.562997Z",
     "shell.execute_reply.started": "2025-06-07T20:23:57.554135Z"
    }
   },
   "outputs": [],
   "source": [
    "import matplotlib.pyplot as plt\n",
    "import matplotlib.colors as mcolors\n",
    "from matplotlib.cm import ScalarMappable\n",
    "from matplotlib.colors import Normalize"
   ]
  },
  {
   "cell_type": "code",
   "execution_count": null,
   "id": "224cf803-f7cc-4e49-9dc9-46779557286e",
   "metadata": {
    "execution": {
     "iopub.execute_input": "2025-06-07T20:23:57.564155Z",
     "iopub.status.busy": "2025-06-07T20:23:57.564010Z",
     "iopub.status.idle": "2025-06-07T20:23:57.581975Z",
     "shell.execute_reply": "2025-06-07T20:23:57.581576Z",
     "shell.execute_reply.started": "2025-06-07T20:23:57.564139Z"
    }
   },
   "outputs": [],
   "source": [
    "def find_tract_patch_and_display(butler, skymap,ra_deg, dec_deg, band, framecount):\n",
    "    \"\"\"\n",
    "    - butler\n",
    "    - skymap\n",
    "    - ra_deg, dec_deg : source\n",
    "    - band\n",
    "    - framecount\n",
    "    \"\"\"\n",
    "    # Ouvrir le dépôt\n",
    "    #butler = Butler(repo)\n",
    "    #skymap = butler.get(\"skyMap\")\n",
    "    band_to_color = {\"u\":\"blue\",\"g\":\"green\",\"r\":\"red\",\"i\":\"orange\",\"z\":\"yellow\",\"y\":\"purple\"}\n",
    "\n",
    "    datasettype = \"objectTable_tract\"\n",
    "    therefs = butler.registry.queryDatasets(datasettype,  collections=collection)\n",
    "\n",
    "    # Créer le point céleste\n",
    "    coord = SpherePoint(ra_deg * degrees, dec_deg * degrees)\n",
    "\n",
    "\n",
    "    found = False\n",
    "    # loop only on existing tracts\n",
    "    \n",
    "    for ref in therefs:\n",
    "        tract_id = ref.dataId[\"tract\"]\n",
    "        tractInfo = skymap[tract_id]\n",
    "        if tractInfo.contains(coord):\n",
    "            patchInfo = tractInfo.findPatch(coord)\n",
    "            patch_id = patchInfo.getIndex()  # Tuple (x, y)\n",
    "            patch_indexseq = patchInfo.getSequentialIndex()\n",
    "            print(f\"Tract: {tract_id}, Patch: {patch_indexseq}\")\n",
    "            found = True\n",
    "            break\n",
    "    # Charger l’image coadd correspondante\n",
    "    dataId = {\"tract\": tract_id, \"patch\": patch_indexseq, \"band\": band,\"skymap\": skymapName}\n",
    "    #deepCoadd_calexp\n",
    "    coadd = butler.get(\"deepCoadd_calexp\", dataId)\n",
    "    # Récupération du WCS\n",
    "    wcs = coadd.getWcs()\n",
    "\n",
    "    datatitle = f\"deepcoadd-LSSTComCam : {tract_id} , {patch_indexseq} , {band}\"\n",
    "    print(datatitle)\n",
    "\n",
    "    # Affichage avec marqueur\n",
    "    \n",
    "    display = afwDisplay.Display(frame = framecount)\n",
    "    display.scale('asinh', 'zscale')\n",
    "    #afw_display.scale('linear', min=zmin, max=zmax)\n",
    "    #display.setImageColormap(cmap='grey')\n",
    "    display.setImageColormap(cmap='Grey_r')\n",
    "    display.mtv(coadd.getImage(),title=datatitle)\n",
    "\n",
    "    # Création du point céleste\n",
    "    pix_point = wcs.skyToPixel(coord)\n",
    "    x, y = pix_point.x,pix_point.y\n",
    "    \n",
    "    col = band_to_color[band] \n",
    "    display.dot(\"+\", x, y, size=50, ctype=col)\n",
    "    \n",
    "\n",
    "    \n",
    "    return tract_id, patch_indexseq, band"
   ]
  },
  {
   "cell_type": "code",
   "execution_count": null,
   "id": "d3b2516d-c0fb-4c9d-9a4d-c0ab951c799a",
   "metadata": {
    "execution": {
     "iopub.execute_input": "2025-06-07T20:23:57.582792Z",
     "iopub.status.busy": "2025-06-07T20:23:57.582654Z",
     "iopub.status.idle": "2025-06-07T20:23:57.594632Z",
     "shell.execute_reply": "2025-06-07T20:23:57.594240Z",
     "shell.execute_reply.started": "2025-06-07T20:23:57.582779Z"
    }
   },
   "outputs": [],
   "source": [
    "def extract_deepCoadd_cutout(\n",
    "    ra_deg,\n",
    "    dec_deg,\n",
    "    tractInfo,\n",
    "    patchInfo,\n",
    "    band,\n",
    "    butler,\n",
    "    skymapName,\n",
    "    cutout_size_pixels,\n",
    "    collection,\n",
    "):\n",
    "    \"\"\"\n",
    "    Extract a square cutout from a deepCoadd image centered on given sky coordinates.\n",
    "\n",
    "    Parameters\n",
    "    ----------\n",
    "    ra_deg : float\n",
    "        Right ascension in degrees.\n",
    "    dec_deg : float\n",
    "        Declination in degrees.\n",
    "    tractInfo : lsst.skymap.TractInfo\n",
    "        Tract information object (from SkyMap).\n",
    "    patchInfo : lsst.skymap.PatchInfo\n",
    "        Patch information object (from SkyMap).\n",
    "    band : str\n",
    "        Photometric band (e.g., 'i', 'r', 'g').\n",
    "    butler : lsst.daf.butler.Butler\n",
    "        Butler instance to access LSST data.\n",
    "    cutout_size_pixels : int, optional\n",
    "        Size of the cutout in pixels (square region), default is 200.\n",
    "    collection : str, optional\n",
    "        Name of the collection containing deepCoadd data.\n",
    "\n",
    "    Returns\n",
    "    -------\n",
    "    cutout : lsst.afw.image.ExposureF\n",
    "        The extracted image cutout.\n",
    "    wcs : lsst.afw.geom.SkyWcs\n",
    "        World Coordinate System associated with the cutout.\n",
    "    metadata : lsst.daf.base.PropertyList\n",
    "        FITS metadata header for the cutout image.\n",
    "    \"\"\"\n",
    "\n",
    "    # Build dataId for the deepCoadd image\n",
    "    tract = tractInfo.getId()\n",
    "    patch = patchInfo.getSequentialIndex()\n",
    "    dataId = dict(tract=tract, patch=patch, band=band, skymap=skymapName)\n",
    "\n",
    "    # Retrieve the deepCoadd exposure\n",
    "    exposure = butler.get(\"deepCoadd\", dataId=dataId, collections=collection)\n",
    "    image_bbox = exposure.getBBox()\n",
    "\n",
    "    # Convert sky coordinates (RA, Dec) to pixel coordinates using WCS\n",
    "    coord = SpherePoint(ra_deg, dec_deg, degrees)\n",
    "    wcs = exposure.getWcs()\n",
    "    pixel_center = wcs.skyToPixel(coord)\n",
    "\n",
    "    half_size = cutout_size_pixels // 2\n",
    "\n",
    "    # Centre du cutout\n",
    "    center_x = int(pixel_center.getX())\n",
    "    center_y = int(pixel_center.getY())\n",
    "\n",
    "    # Coordonnées du coin en bas à gauche\n",
    "    corner_x = max(center_x - half_size, image_bbox.getMinX())\n",
    "    corner_y = max(center_y - half_size, image_bbox.getMinY())\n",
    "\n",
    "    # Ne pas dépasser la taille max de l'image\n",
    "    corner_x = min(corner_x, image_bbox.getMaxX() - cutout_size_pixels)\n",
    "    corner_y = min(corner_y, image_bbox.getMaxY() - cutout_size_pixels)\n",
    "\n",
    "    # Define a square bounding box around the target pixel\n",
    "    # Création du BBox valide\n",
    "    corner = Point2I(corner_x, corner_y)\n",
    "    bbox = Box2I(corner, Extent2I(cutout_size_pixels, cutout_size_pixels))\n",
    "\n",
    "    # Extract the cutout from the original exposure\n",
    "    cutout = exposure.Factory(exposure, bbox, deep=True)\n",
    "\n",
    "    return cutout, cutout.getWcs(), cutout.getMetadata()"
   ]
  },
  {
   "cell_type": "code",
   "execution_count": null,
   "id": "bd5588af-14ec-4f29-96c8-2cb1e2e226a5",
   "metadata": {
    "execution": {
     "iopub.execute_input": "2025-06-07T20:23:57.597841Z",
     "iopub.status.busy": "2025-06-07T20:23:57.597705Z",
     "iopub.status.idle": "2025-06-07T20:23:57.615757Z",
     "shell.execute_reply": "2025-06-07T20:23:57.615370Z",
     "shell.execute_reply.started": "2025-06-07T20:23:57.597828Z"
    }
   },
   "outputs": [],
   "source": [
    "def RetrieveDRPObject_forTarget(butler,center_coord,datasettype,where_clause,radius_cut=50):\n",
    "    \"\"\"\n",
    "    Find the closest DRP objectto the target_coord \n",
    "\n",
    "    parameters:\n",
    "    - butler\n",
    "    - the coordinate of the target (center of the cone seach)\n",
    "    - the datasettype name for the DRP object\n",
    "    - where_clause : which contrain requirements on the tract and patch numbers\n",
    "    - cut on angluar separation for the returned for the returned object\n",
    "\n",
    "    Return\n",
    "    - object Id with minimum separation , \n",
    "    - minimum separation (arcec),\n",
    "    - the table of DRP objects within the radius_cut\n",
    "    \"\"\"\n",
    "\n",
    "    ra_columns = ['u_ra', 'g_ra', 'r_ra', 'i_ra', 'z_ra', 'y_ra']\n",
    "    dec_columns = ['u_dec', 'g_dec', 'r_dec', 'i_dec', 'z_dec', 'y_dec']\n",
    "\n",
    "    \n",
    "    therefs = butler.registry.queryDatasets(datasettype,  collections=collection, where=where_clause)\n",
    "\n",
    "    for count,ref in enumerate(therefs):\n",
    "        the_id = ref.dataId\n",
    "        the_tract_id = the_id[\"tract\"] \n",
    "        print(the_id)\n",
    "        \n",
    "        # catalog of rubin objects (a pandas Dataframe) inside the tract\n",
    "        catalog = butler.get(ref)\n",
    "        catalog = catalog[catalog[\"patch\"] == patchNbSel] \n",
    "       \n",
    "    \n",
    "        nobjects = len(catalog)\n",
    "\n",
    "\n",
    "        # Calcul de la moyenne ligne par ligne, en ignorant les NaN\n",
    "        catalog['ra'] = catalog[ra_columns].mean(axis=1, skipna=True)\n",
    "        catalog['dec'] = catalog[dec_columns].mean(axis=1, skipna=True)\n",
    "\n",
    "\n",
    "        # extract the (ra,dec) coordinates for all te objects of the rubin-catalog\n",
    "        ra_cat = catalog[\"ra\"].values\n",
    "        dec_cat = catalog[\"dec\"].values\n",
    "        # coordinates for all rubin-catalog points\n",
    "        catalog_coords = SkyCoord(ra=ra_cat*u.deg, dec=dec_cat*u.deg)\n",
    "\n",
    "        # Angular distance to target\n",
    "        distances_arcsec = center_coord.separation(catalog_coords).arcsecond\n",
    "\n",
    "        # add the separation angle to the ctalog\n",
    "        catalog[\"sep\"] = distances_arcsec\n",
    "\n",
    "\n",
    "        # closest object from the target\n",
    "        sepMin = distances_arcsec.min() \n",
    "        sepMin_idx = np.where(distances_arcsec == sepMin)[0][0]\n",
    "    \n",
    "        closest_obj = catalog[catalog[\"sep\"] <=  sepMin]\n",
    "                   \n",
    "        # select a few of these sources to debug the closest candidate\n",
    "        nearby_obj = catalog[distances_arcsec < radius_cut]\n",
    "        \n",
    "        return closest_obj, sepMin, nearby_obj\n",
    "\n",
    "      "
   ]
  },
  {
   "cell_type": "code",
   "execution_count": null,
   "id": "a98edb84-bab9-4ed3-9265-ba88ce2406ed",
   "metadata": {
    "execution": {
     "iopub.execute_input": "2025-06-07T20:23:57.616325Z",
     "iopub.status.busy": "2025-06-07T20:23:57.616196Z",
     "iopub.status.idle": "2025-06-07T20:23:57.627766Z",
     "shell.execute_reply": "2025-06-07T20:23:57.627382Z",
     "shell.execute_reply.started": "2025-06-07T20:23:57.616311Z"
    }
   },
   "outputs": [],
   "source": [
    "def RetrieveForcedSources_forTarget(butler,objectid,datasettype,where_clause):\n",
    "    \"\"\"\n",
    "    Find the closest DRP objectto the target_coord \n",
    "\n",
    "    parameters:\n",
    "    - butler\n",
    "    - the id of the objects\n",
    "    - the datasettype name for the forced sources\n",
    "    - where_clause : which contrain requirements on the tract and patch numbers\n",
    " \n",
    "\n",
    "    Return\n",
    "    - object Id with minimum separation , \n",
    "    - minimum separation (arcec),\n",
    "    - the table of forced objects within the radius_cut\n",
    "    \"\"\"\n",
    "\n",
    "    therefs = butler.registry.queryDatasets(datasettype,  collections=collection, where=where_clause)\n",
    "    listref = list(therefs)\n",
    "    nref = len(listref)\n",
    "    print(f\"nref = {nref}\")\n",
    "    # assume the target is in a single (tract,patch)\n",
    "    assert nref == 1\n",
    "\n",
    "    # loop forcedSourceOnDiaObjectTable (per tract, per patch)\n",
    "    for count,ref in enumerate(therefs):\n",
    "        the_id = ref.dataId\n",
    "        the_tract_id = the_id[\"tract\"] \n",
    "        \n",
    "        assert the_tract_id == TRACTSEL\n",
    "\n",
    "        # catalog of rubin objects (a pandas Dataframe) inside the tract\n",
    "        srccatalog = butler.get(ref)\n",
    "        srccatalog = srccatalog[srccatalog[\"objectId\"] == objectid]\n",
    "       \n",
    "        return srccatalog\n",
    "\n",
    "      "
   ]
  },
  {
   "cell_type": "code",
   "execution_count": null,
   "id": "762a414b-5010-420e-8261-14a20e9db0a4",
   "metadata": {
    "execution": {
     "iopub.execute_input": "2025-06-07T20:23:57.628344Z",
     "iopub.status.busy": "2025-06-07T20:23:57.628216Z",
     "iopub.status.idle": "2025-06-07T20:23:57.644233Z",
     "shell.execute_reply": "2025-06-07T20:23:57.643857Z",
     "shell.execute_reply.started": "2025-06-07T20:23:57.628332Z"
    }
   },
   "outputs": [],
   "source": [
    "def FetchTimesForVisits(visit_list):\n",
    "    \"\"\"\n",
    "    \"\"\"\n",
    "    # On interroge la table visitDefinition\n",
    "    Nvisit = len(visit_list)\n",
    "        \n",
    "    if Nvisit == 1:\n",
    "        thevisit = visit_list.values[0]\n",
    "        rows = registry.queryDimensionRecords(\"visit\", where=f\"visit={thevisit}\")\n",
    "    else:\n",
    "        rows = registry.queryDimensionRecords(\"visit\", where=f\"visit in {tuple(visit_list)}\")\n",
    "\n",
    "    # 4. Construire un tableau des résultats\n",
    "    results = []\n",
    "    for row in rows:\n",
    "        visit_id = row.id\n",
    "        visit_airmass = 1./np.cos(Angle(row.zenith_angle,u.degree).rad)\n",
    "        visit_azimuth = row.azimuth\n",
    "\n",
    "        # Extraire l'instant de début de l'observation (Time astropy)\n",
    "        start_time = row.timespan.begin\n",
    "\n",
    "        # Convertir en MJD et ISO\n",
    "        mjd = start_time.to_value(\"mjd\")  # Ex: 60384.28718\n",
    "        isot = start_time.to_value(\"isot\")  # Ex: '2024-04-19 06:53:32.000'\n",
    "    \n",
    "        #mjd = row.startDate.toMjd()\n",
    "        #utc = Time(mjd, format='mjd', scale='utc').to_value('iso')\n",
    "        #results.append({\"visit\": visit_id, \"mjd\": mjd, \"isot\": isot})\n",
    "        results.append({\"visit\": visit_id, \"mjd\": mjd, \"isot\": isot,\"airmass\":visit_airmass,\"azimuth\":visit_azimuth})\n",
    "\n",
    "    df_times = pd.DataFrame(results).sort_values(\"visit\")\n",
    "    df_times.set_index(\"visit\",inplace=True)\n",
    "    return df_times"
   ]
  },
  {
   "cell_type": "code",
   "execution_count": null,
   "id": "0ba33e8e-f194-4ac7-89c1-b9e85be40f4d",
   "metadata": {
    "execution": {
     "iopub.execute_input": "2025-06-07T20:23:57.644845Z",
     "iopub.status.busy": "2025-06-07T20:23:57.644717Z",
     "iopub.status.idle": "2025-06-07T20:23:57.661065Z",
     "shell.execute_reply": "2025-06-07T20:23:57.660692Z",
     "shell.execute_reply.started": "2025-06-07T20:23:57.644832Z"
    }
   },
   "outputs": [],
   "source": [
    "def plotLightCurvesSeparatedBands(tb,title,subtitle,figname = None):\n",
    "    \"\"\"\n",
    "    \"\"\"\n",
    "\n",
    "    fig,axs = plt.subplots(6,1,figsize=(18,16),sharex=True,layout=\"constrained\")\n",
    "\n",
    "    for idx,band in enumerate(all_bands):\n",
    "        ax =axs[idx]\n",
    "        label = f\"band {band}\"\n",
    "        ax.scatter(tb[band].mjd, tb[band].mags,color=all_bands_colors[idx],label=label,marker=\"o\",s=100)\n",
    "        ax.set_ylabel(\"mag_psfFlux\")\n",
    "        ax.legend()\n",
    "        if idx==0:\n",
    "            ax.set_title(target_title,fontweight = \"bold\")\n",
    "    ax.set_xlabel(\"mjd\")\n",
    "    \n",
    "    plt.suptitle(subtitle)\n",
    "\n",
    "    if figname != None:\n",
    "        plt.savefig(figname)\n",
    "    plt.show()   "
   ]
  },
  {
   "cell_type": "code",
   "execution_count": null,
   "id": "d00d05fa-210a-4fa0-b29a-d7a7c6a887bd",
   "metadata": {
    "execution": {
     "iopub.execute_input": "2025-06-07T20:23:57.661684Z",
     "iopub.status.busy": "2025-06-07T20:23:57.661552Z",
     "iopub.status.idle": "2025-06-07T20:23:57.676032Z",
     "shell.execute_reply": "2025-06-07T20:23:57.675676Z",
     "shell.execute_reply.started": "2025-06-07T20:23:57.661671Z"
    }
   },
   "outputs": [],
   "source": [
    "def plotLightCurvesSeparatedBandsWithErrors(tb, title, subtitle, deltaylim = 0.5  ,figname=None):\n",
    "    \"\"\"\n",
    "    Plot light curves per band with error bars, horizontal lines at clipped mean ±0.01 mag,\n",
    "    and y-limits set to mean ±1 mag.\n",
    "\n",
    "    Parameters\n",
    "    ----------\n",
    "    tb : dict-like\n",
    "        Dictionnaire contenant les données de courbe de lumière par bande.\n",
    "        Chaque élément tb[band] doit avoir les colonnes 'mjd', 'mags' et 'magerr'.\n",
    "    title : str\n",
    "        Titre principal du graphe.\n",
    "    subtitle : str\n",
    "        Sous-titre du graphe (utilisé comme suptitle).\n",
    "    figname : str or None\n",
    "        Si spécifié, sauvegarde la figure dans ce fichier.\n",
    "    \"\"\"\n",
    "    fig, axs = plt.subplots(6, 1, figsize=(18, 16), sharex=True, layout=\"constrained\")\n",
    "\n",
    "    stats_per_band = {}  \n",
    "    for idx, band in enumerate(all_bands):\n",
    "        ax = axs[idx]\n",
    "        label = f\"band {band}\"\n",
    "        \n",
    "        # Données\n",
    "        mjd = tb[band].mjd\n",
    "        mags = tb[band].mags\n",
    "        magerr = tb[band].magerr\n",
    "        \n",
    "        # Moyenne sigma-clippée\n",
    "        mean, median, std = sigma_clipped_stats(mags, sigma=3.0, maxiters=5)\n",
    "\n",
    "        stats_per_band[band] = {\n",
    "            \"mean\": mean,\n",
    "            \"median\": median,\n",
    "            \"sigma\": std\n",
    "        }\n",
    "\n",
    "        # Ajouter un encadré avec les statistiques\n",
    "        stats_text = f\"mean = {mean:.2f} mag \\nmedian = {median:.2f} mag \\nσ = {std:.3f} mag\"\n",
    "        ax.text(\n",
    "            0.02, 0.05,\n",
    "            stats_text,\n",
    "            transform=ax.transAxes,\n",
    "            fontsize=12,\n",
    "            verticalalignment='bottom',\n",
    "            horizontalalignment='left',\n",
    "            bbox=dict(facecolor='white', alpha=0.8, edgecolor='gray')\n",
    "        )\n",
    "\n",
    "        \n",
    "        \n",
    "        # Tracé avec barres d'erreur\n",
    "        ax.errorbar(\n",
    "            mjd,\n",
    "            mags,\n",
    "            yerr=magerr,\n",
    "            fmt=\"o\",\n",
    "            color=all_bands_colors[idx],\n",
    "            label=label,\n",
    "            markersize=7,\n",
    "            capsize=3\n",
    "        )\n",
    "        \n",
    "        # Lignes horizontales\n",
    "        ax.axhline(mean, color=\"gray\", linestyle=\"--\", linewidth=1.5, label=\"clipped mean\")\n",
    "        ax.axhline(mean + +0.01, color=\"gray\", linestyle=\":\", linewidth=1.0, label=\"+/- 10 mmag\")\n",
    "        ax.axhline(mean - 0.01, color=\"gray\", linestyle=\":\", linewidth=1.0)\n",
    "        \n",
    "        # Limites y : +/- 1 mag autour de la moyenne\n",
    "        ax.set_ylim(mean + deltaylim, mean - deltaylim)  # inversé car l'axe y est inversé pour les magnitudes\n",
    "        ax.set_ylabel(\"mag_psfFlux\")\n",
    "        ax.invert_yaxis()\n",
    "        #ax.legend(loc=\"upper left\")\n",
    "        ax.legend(loc='center left', bbox_to_anchor=(1.02, 0.5), title=\"Bands\")\n",
    "        \n",
    "        if idx == 0:\n",
    "            ax.set_title(title, fontweight=\"bold\")\n",
    "            \n",
    "    stats_df = pd.DataFrame.from_dict(stats_per_band, orient='index')\n",
    "    stats_df.index.name = \"band\"\n",
    "    \n",
    "    ax.set_xlabel(\"mjd\")\n",
    "    plt.suptitle(subtitle)\n",
    "\n",
    "    if figname is not None:\n",
    "        plt.savefig(figname)\n",
    "    plt.show()\n",
    "    return stats_df\n"
   ]
  },
  {
   "cell_type": "code",
   "execution_count": null,
   "id": "df99c01c-1345-4fe9-b77c-8cbbb60405e5",
   "metadata": {
    "execution": {
     "iopub.execute_input": "2025-06-07T20:23:57.676606Z",
     "iopub.status.busy": "2025-06-07T20:23:57.676469Z",
     "iopub.status.idle": "2025-06-07T20:23:57.688838Z",
     "shell.execute_reply": "2025-06-07T20:23:57.688469Z",
     "shell.execute_reply.started": "2025-06-07T20:23:57.676594Z"
    }
   },
   "outputs": [],
   "source": [
    "def plotLightCurvesSeparatedBands_coloredbyquantity(tb, quantity_str, title, subtitle, deltaylim = 0.5 ,figname=None):\n",
    "    \"\"\"\n",
    "    Trace les courbes de lumière par bande, colorées par une quantité externe,\n",
    "    avec barres d'erreur, lignes horizontales (moyenne ±0.01 mag) et ylim centrées.\n",
    "    Affiche une colorbar globale.\n",
    "    \"\"\"\n",
    "\n",
    "    fig, axs = plt.subplots(6, 1, figsize=(18, 16), sharex=True, layout=\"constrained\")\n",
    "\n",
    "    # Regroupe toutes les valeurs du quantity_str pour normalisation colorbar\n",
    "    all_quantities = np.concatenate([tb[band][quantity_str] for band in all_bands])\n",
    "    norm = Normalize(vmin=np.nanmin(all_quantities), vmax=np.nanmax(all_quantities))\n",
    "    cmap = plt.get_cmap('jet')\n",
    "\n",
    "    for idx, band in enumerate(all_bands):\n",
    "        ax = axs[idx]\n",
    "        label = f\"band {band}\"\n",
    "\n",
    "        mjd = tb[band].mjd\n",
    "        mags = tb[band].mags\n",
    "        magerr = tb[band].magerr\n",
    "        quantity_toplot = tb[band][quantity_str]\n",
    "\n",
    "        # Moyenne sigma-clippée\n",
    "        mean, _, _ = sigma_clipped_stats(mags, sigma=3.0, maxiters=5)\n",
    "\n",
    "        # Barres d'erreur\n",
    "        ax.errorbar(\n",
    "            mjd,\n",
    "            mags,\n",
    "            yerr=magerr,\n",
    "            fmt='none',\n",
    "            ecolor='black',\n",
    "            elinewidth=0.8,\n",
    "            capsize=2,\n",
    "            alpha=0.5\n",
    "        )\n",
    "\n",
    "        # Scatter coloré\n",
    "        sc = ax.scatter(\n",
    "            mjd,\n",
    "            mags,\n",
    "            c=quantity_toplot,\n",
    "            cmap=cmap,\n",
    "            norm=norm,\n",
    "            s=80,\n",
    "            marker='o',\n",
    "            label=label\n",
    "        )\n",
    "\n",
    "        # Moyenne ± 0.01\n",
    "        ax.axhline(mean, color=\"gray\", linestyle=\"--\", linewidth=1.5, label=\"clipped mean\")\n",
    "        ax.axhline(mean + 0.01, color=\"gray\", linestyle=\":\", linewidth=1.0, label=\"+/- 10 mmag\")\n",
    "        ax.axhline(mean - 0.01, color=\"gray\", linestyle=\":\", linewidth=1.0)\n",
    "\n",
    "        # Limites Y\n",
    "        ax.set_ylim(mean + deltaylim , mean - deltaylim )\n",
    "        ax.set_ylabel(\"mag_psfFlux\")\n",
    "        ax.invert_yaxis()\n",
    "        #ax.legend()\n",
    "        ax.legend(loc='center left', bbox_to_anchor=(1.02, 0.5), title=\"Bands\")\n",
    "\n",
    "        if idx == 0:\n",
    "            ax.set_title(title, fontweight=\"bold\")\n",
    "\n",
    "    ax.set_xlabel(\"mjd\")\n",
    "    plt.suptitle(subtitle)\n",
    "\n",
    "    # Création d'une colorbar globale\n",
    "    sm = ScalarMappable(norm=norm, cmap=cmap)\n",
    "    sm.set_array([])  # nécessaire uniquement pour compatibilité\n",
    "    #cbar = fig.colorbar(sm, ax=axs, orientation='vertical', label=quantity_str)\n",
    "\n",
    "    cbar = fig.colorbar(\n",
    "    sm,\n",
    "    ax=axs,\n",
    "    orientation='vertical',\n",
    "    label=quantity_str,\n",
    "    fraction=1,  # largeur de la colorbar (plus petit = plus mince)\n",
    "    pad=0.01         # distance entre la colorbar et les subplots\n",
    "    )\n",
    "    \n",
    "\n",
    "    if figname is not None:\n",
    "        plt.savefig(figname)\n",
    "    plt.show()\n"
   ]
  },
  {
   "cell_type": "code",
   "execution_count": null,
   "id": "937890bd-de3f-43fb-a590-36bab7779e70",
   "metadata": {
    "execution": {
     "iopub.execute_input": "2025-06-07T20:23:57.689399Z",
     "iopub.status.busy": "2025-06-07T20:23:57.689267Z",
     "iopub.status.idle": "2025-06-07T20:23:57.710833Z",
     "shell.execute_reply": "2025-06-07T20:23:57.710464Z",
     "shell.execute_reply.started": "2025-06-07T20:23:57.689385Z"
    }
   },
   "outputs": [],
   "source": [
    "def plotLightCurvesSeparatedBands_coloredbydiscretequantity(tb, quantity_str, title, subtitle,deltaylim = 0.5  ,figname=None):\n",
    "    \"\"\"\n",
    "    tb: dictionnaire contenant des tables par bande\n",
    "    quantity_str: nom de la colonne discrète utilisée pour la couleur (par ex. 'airmass_flag')\n",
    "    \"\"\"\n",
    "\n",
    "    fig, axs = plt.subplots(6, 1, figsize=(18, 16), sharex=True, layout=\"constrained\")\n",
    "\n",
    "    # Récupération de toutes les valeurs discrètes dans toutes les bandes\n",
    "    all_values = np.unique(np.concatenate([np.asarray(tb[band][quantity_str]) for band in all_bands]))\n",
    "    num_categories = len(all_values)\n",
    "\n",
    "    # Création d'une palette discrète\n",
    "    cmap = plt.cm.get_cmap('tab10', num_categories)  # Peut être 'tab20', 'Set3'...\n",
    "    norm = mcolors.BoundaryNorm(boundaries=np.arange(-0.5, num_categories + 0.5, 1), ncolors=num_categories)\n",
    "\n",
    "    for idx, band in enumerate(all_bands):\n",
    "        ax = axs[idx]\n",
    "        label = f\"band {band}\"\n",
    "\n",
    "        mjd = tb[band]['mjd']\n",
    "        mags = tb[band]['mags']\n",
    "        magerr = tb[band]['magerr']\n",
    "        quantity_toplot = tb[band][quantity_str]\n",
    "\n",
    "        # Moyenne sigma-clippée\n",
    "        mean, _, _ = sigma_clipped_stats(mags, sigma=3.0, maxiters=5)\n",
    "\n",
    "        # Barres d'erreur\n",
    "        ax.errorbar(\n",
    "            mjd,\n",
    "            mags,\n",
    "            yerr=magerr,\n",
    "            fmt='none',\n",
    "            ecolor='black',\n",
    "            elinewidth=0.8,\n",
    "            capsize=2,\n",
    "            alpha=0.5\n",
    "        )\n",
    "\n",
    "        # Scatter coloré par classe discrète\n",
    "        sc = ax.scatter(\n",
    "            mjd,\n",
    "            mags,\n",
    "            c=quantity_toplot,\n",
    "            cmap=cmap,\n",
    "            norm=norm,\n",
    "            label=label,\n",
    "            marker=\"o\",\n",
    "            s=80\n",
    "        )\n",
    "\n",
    "        # Moyenne ± 0.01\n",
    "        ax.axhline(mean, color=\"gray\", linestyle=\"--\", linewidth=1.5, label=\"clipped mean\")\n",
    "        ax.axhline(mean + 0.01, color=\"gray\", linestyle=\":\", linewidth=1.0, label=\"+/- 10 mmag\")\n",
    "        ax.axhline(mean - 0.01, color=\"gray\", linestyle=\":\", linewidth=1.0)\n",
    "\n",
    "        # Axe Y centré autour de la moyenne\n",
    "        ax.set_ylim(mean + deltaylim, mean - deltaylim)\n",
    "        ax.set_ylabel(\"mag_psfFlux\")\n",
    "        ax.invert_yaxis()\n",
    "        #ax.legend()\n",
    "        ax.legend(loc='center left', bbox_to_anchor=(1.02, 0.5), title=\"Bands\")\n",
    "\n",
    "        if idx == 0:\n",
    "            ax.set_title(title, fontweight=\"bold\")\n",
    "\n",
    "    ax.set_xlabel(\"mjd\")\n",
    "    plt.suptitle(subtitle)\n",
    "\n",
    "    # Ajout d'une colorbar discrète (mince)\n",
    "    cbar = fig.colorbar(\n",
    "        sc,\n",
    "        ax=axs,\n",
    "        ticks=all_values,\n",
    "        orientation='vertical',\n",
    "        fraction=1.0,\n",
    "        pad=0.01\n",
    "    )\n",
    "    cbar.set_label(quantity_str)\n",
    "    cbar.ax.set_yticklabels([str(v) for v in all_values])\n",
    "\n",
    "    if figname is not None:\n",
    "        plt.savefig(figname)\n",
    "    plt.show()\n"
   ]
  },
  {
   "cell_type": "code",
   "execution_count": null,
   "id": "e616ee9f-0be9-4d4d-be0e-a9bb8533df7f",
   "metadata": {
    "execution": {
     "iopub.execute_input": "2025-06-07T20:23:57.711589Z",
     "iopub.status.busy": "2025-06-07T20:23:57.711265Z",
     "iopub.status.idle": "2025-06-07T20:23:57.727407Z",
     "shell.execute_reply": "2025-06-07T20:23:57.727051Z",
     "shell.execute_reply.started": "2025-06-07T20:23:57.711575Z"
    }
   },
   "outputs": [],
   "source": [
    "def plotLightCurvesAllTogetherBands(tb,title,subtitle,figname = None):\n",
    "    \"\"\"\n",
    "    \"\"\"\n",
    "    fig,ax = plt.subplots(1,1,figsize=(18,10),sharex=True,layout=\"constrained\")\n",
    "\n",
    "    allmags = []\n",
    "    \n",
    "    for idx,band in enumerate(all_bands):\n",
    "\n",
    "        data = tb[band]\n",
    "        mjd = data[\"mjd\"]\n",
    "        mags = data[\"mags\"]\n",
    "        magerr = data[\"magerr\"]\n",
    "        mean, _, _ = sigma_clipped_stats(mags, sigma=3.0, maxiters=5)\n",
    "\n",
    "        label = f\"band {band}\"\n",
    "        ax.scatter(tb[band].mjd, tb[band].mags,color=all_bands_colors[idx],label=label,marker=\"o\",s=100)\n",
    "        allmags.append(tb[band].mags.values) \n",
    "\n",
    "\n",
    "        # Lignes horizontales\n",
    "        ax.axhline(mean, color=all_bands_colors[idx], linestyle=\"--\", linewidth=1.5)\n",
    "        ax.axhline(mean + 0.01, color=all_bands_colors[idx], linestyle=\":\", linewidth=1.0)\n",
    "        ax.axhline(mean - 0.01, color=all_bands_colors[idx], linestyle=\":\", linewidth=1.0)\n",
    "\n",
    "        \n",
    "    ax.set_ylabel(\"mag_psfFlux\")\n",
    "    ax.set_title(target_title,fontweight = \"bold\")\n",
    "    ax.set_xlabel(\"mjd\")\n",
    "    ax.legend()\n",
    "\n",
    "    allmags = np.concatenate(allmags)\n",
    "    allmags = allmags[~np.isnan(allmags)]\n",
    "    mags_min = allmags.min()\n",
    "    mags_max = allmags.max()\n",
    "    \n",
    "    ax.invert_yaxis()\n",
    "\n",
    "    plt.suptitle(subtitle)\n",
    "    if figname != None:\n",
    "        plt.savefig(figname)\n",
    "        \n",
    "    plt.show()\n",
    "    "
   ]
  },
  {
   "cell_type": "code",
   "execution_count": null,
   "id": "dc9a1e19-3104-409e-b3ff-fedd742e9899",
   "metadata": {
    "execution": {
     "iopub.execute_input": "2025-06-07T20:23:57.727978Z",
     "iopub.status.busy": "2025-06-07T20:23:57.727852Z",
     "iopub.status.idle": "2025-06-07T20:23:57.745230Z",
     "shell.execute_reply": "2025-06-07T20:23:57.744870Z",
     "shell.execute_reply.started": "2025-06-07T20:23:57.727966Z"
    }
   },
   "outputs": [],
   "source": [
    "def plotLightCurvesAllTogetherBandsWithErrors(tb, title, subtitle, figname=None):\n",
    "    \"\"\"\n",
    "    Affiche toutes les courbes de lumière sur un seul graphique avec :\n",
    "    - barres d'erreur\n",
    "    - moyenne sigma-clippée\n",
    "    - lignes à +/- 0.01 mag de la moyenne\n",
    "    \"\"\"\n",
    "\n",
    "    fig, ax = plt.subplots(1, 1, figsize=(18, 10), sharex=True, layout=\"constrained\")\n",
    "\n",
    "\n",
    "    allmags = []\n",
    "    for idx, band in enumerate(all_bands):\n",
    "        data = tb[band]\n",
    "        mjd = data[\"mjd\"]\n",
    "        mags = data[\"mags\"]\n",
    "        magerr = data[\"magerr\"]\n",
    "\n",
    "        # Moyenne sigma-clippée\n",
    "        mean, _, _ = sigma_clipped_stats(mags, sigma=3.0, maxiters=5)\n",
    "        \n",
    "        allmags.append(mags.values)\n",
    "\n",
    "        # Barres d'erreur\n",
    "        ax.errorbar(\n",
    "            mjd,\n",
    "            mags,\n",
    "            yerr=magerr,\n",
    "            fmt='none',\n",
    "            ecolor=all_bands_colors[idx],\n",
    "            elinewidth=0.8,\n",
    "            capsize=2,\n",
    "            alpha=0.4\n",
    "        )\n",
    "\n",
    "        # Points\n",
    "        ax.scatter(\n",
    "            mjd,\n",
    "            mags,\n",
    "            color=all_bands_colors[idx],\n",
    "            label=f\"band {band}\",\n",
    "            marker=\"o\",\n",
    "            s=100\n",
    "        )\n",
    "\n",
    "        # Lignes horizontales\n",
    "        ax.axhline(mean, color=all_bands_colors[idx], linestyle=\"--\", linewidth=1.5)\n",
    "        ax.axhline(mean + 0.01, color=all_bands_colors[idx], linestyle=\":\", linewidth=1.0)\n",
    "        ax.axhline(mean - 0.01, color=all_bands_colors[idx], linestyle=\":\", linewidth=1.0)\n",
    "\n",
    "    allmags = np.concatenate(allmags)\n",
    "    allmags = allmags[~np.isnan(allmags)]\n",
    "    mags_min = allmags.min()\n",
    "    mags_max = allmags.max()\n",
    "    \n",
    "    ax.set_ylim(mags_min,mags_max)\n",
    "    ax.set_ylabel(\"mag_psfFlux\")\n",
    "    ax.set_title(title, fontweight=\"bold\")\n",
    "    ax.set_xlabel(\"mjd\")\n",
    "\n",
    "\n",
    "    \n",
    "    ax.invert_yaxis()\n",
    "    #ax.legend()\n",
    "    ax.legend(loc='center left', bbox_to_anchor=(1.02, 0.5), title=\"Bands\")\n",
    "\n",
    "    plt.suptitle(subtitle)\n",
    "\n",
    "    if figname is not None:\n",
    "        plt.savefig(figname)\n",
    "        \n",
    "    plt.show()\n",
    "   \n"
   ]
  },
  {
   "cell_type": "code",
   "execution_count": null,
   "id": "2bbb53e9-e293-4ea7-ae47-c78930ce5d93",
   "metadata": {
    "execution": {
     "iopub.execute_input": "2025-06-07T20:23:57.745761Z",
     "iopub.status.busy": "2025-06-07T20:23:57.745633Z",
     "iopub.status.idle": "2025-06-07T20:23:57.751220Z",
     "shell.execute_reply": "2025-06-07T20:23:57.750862Z",
     "shell.execute_reply.started": "2025-06-07T20:23:57.745749Z"
    }
   },
   "outputs": [],
   "source": [
    "# https://pipelines.lsst.io/modules/lsst.geom/getting-started.html\n",
    "func_degToRad = lambda x : Angle(x,lsst.geom.degrees).asRadians()"
   ]
  },
  {
   "cell_type": "code",
   "execution_count": null,
   "id": "5af15c53-1d3f-42ee-81d8-508a2daa56c0",
   "metadata": {
    "execution": {
     "iopub.execute_input": "2025-06-07T20:23:57.751961Z",
     "iopub.status.busy": "2025-06-07T20:23:57.751650Z",
     "iopub.status.idle": "2025-06-07T20:23:57.769754Z",
     "shell.execute_reply": "2025-06-07T20:23:57.769363Z",
     "shell.execute_reply.started": "2025-06-07T20:23:57.751947Z"
    }
   },
   "outputs": [],
   "source": [
    "# Set plotting defaults\n",
    "%matplotlib inline\n",
    "import matplotlib.pyplot as plt\n",
    "from matplotlib.ticker import FormatStrFormatter\n",
    "from matplotlib.colors import ListedColormap\n",
    "from matplotlib import colors\n",
    "zscale = ZScaleInterval()\n",
    "\n",
    "# Set up some plotting defaults:\n",
    "plt.rcParams.update({'figure.figsize' : (12, 8)})\n",
    "plt.rcParams.update({'font.size' : 16})\n",
    "plt.rcParams.update({'axes.linewidth' : 3})\n",
    "plt.rcParams.update({'axes.labelweight' : 3})\n",
    "plt.rcParams.update({'axes.titleweight' : 5})\n",
    "plt.rcParams.update({'ytick.major.width' : 3})\n",
    "plt.rcParams.update({'ytick.minor.width' : 2})\n",
    "plt.rcParams.update({'ytick.major.size' : 8})\n",
    "plt.rcParams.update({'ytick.minor.size' : 5})\n",
    "plt.rcParams.update({'xtick.major.size' : 8})\n",
    "plt.rcParams.update({'xtick.minor.size' : 5})\n",
    "plt.rcParams.update({'xtick.major.width' : 3})\n",
    "plt.rcParams.update({'xtick.minor.width' : 2})\n",
    "plt.rcParams.update({'xtick.direction' : 'in'})\n",
    "plt.rcParams.update({'ytick.direction' : 'in'})\n"
   ]
  },
  {
   "cell_type": "code",
   "execution_count": null,
   "id": "8f02d7f7-cc18-4191-beb4-ad890c13b967",
   "metadata": {
    "execution": {
     "iopub.execute_input": "2025-06-07T20:23:57.770430Z",
     "iopub.status.busy": "2025-06-07T20:23:57.770295Z",
     "iopub.status.idle": "2025-06-07T20:23:57.786354Z",
     "shell.execute_reply": "2025-06-07T20:23:57.785974Z",
     "shell.execute_reply.started": "2025-06-07T20:23:57.770417Z"
    }
   },
   "outputs": [],
   "source": [
    "def nJy_to_ab_mag(f_njy):\n",
    "    \"\"\"Convert scalar or array flux in nJy to AB magnitude.\"\"\"\n",
    "    f_njy = np.asarray(f_njy)\n",
    "    mag = np.full_like(f_njy, fill_value=np.nan, dtype=float)\n",
    "    mask = f_njy > 0\n",
    "    mag[mask] = -2.5 * np.log10(f_njy[mask]) + 31.4\n",
    "    return mag\n",
    "\n",
    "\n",
    "def nJy_err_to_ab_err(f_njy, f_err):\n",
    "    \"\"\"Propagate flux error to magnitude error.\"\"\"\n",
    "    f_njy = np.asarray(f_njy)\n",
    "    f_err = np.asarray(f_err)\n",
    "    mag_err = np.full_like(f_njy, fill_value=np.nan, dtype=float)\n",
    "    mask = (f_njy > 0) & (f_err > 0)\n",
    "    mag_err[mask] = (2.5 / np.log(10)) * (f_err[mask] / f_njy[mask])\n",
    "    return mag_err\n"
   ]
  },
  {
   "cell_type": "code",
   "execution_count": null,
   "id": "88da0b26-88ce-41f8-b5b6-caf1c2d7afe0",
   "metadata": {
    "execution": {
     "iopub.execute_input": "2025-06-07T20:23:57.786922Z",
     "iopub.status.busy": "2025-06-07T20:23:57.786793Z",
     "iopub.status.idle": "2025-06-07T20:23:57.794895Z",
     "shell.execute_reply": "2025-06-07T20:23:57.794518Z",
     "shell.execute_reply.started": "2025-06-07T20:23:57.786909Z"
    }
   },
   "outputs": [],
   "source": [
    "def ab_mag_to_nJy(mag_ab):\n",
    "    \"\"\"Convert AB magnitude to flux in nanojanskys.\"\"\"\n",
    "    return 10 ** ((31.4 - mag_ab) / 2.5)\n"
   ]
  },
  {
   "cell_type": "markdown",
   "id": "76f58554-1fa0-4e7f-aeea-04002cf329db",
   "metadata": {},
   "source": [
    "## Resolution from point sources"
   ]
  },
  {
   "cell_type": "markdown",
   "id": "3506978f-3a1e-47a9-90c1-b576f17d092f",
   "metadata": {},
   "source": [
    "## Initialisation of rubin science pipeline\n",
    "- Check here the collection available : https://rubinobs.atlassian.net/wiki/spaces/DM/pages/226656354/LSSTComCam+Intermittent+Cumulative+DRP+Runs"
   ]
  },
  {
   "cell_type": "markdown",
   "id": "032c0193-0ca9-487a-943f-957dcea64a53",
   "metadata": {},
   "source": [
    "### Configuration"
   ]
  },
  {
   "cell_type": "code",
   "execution_count": null,
   "id": "58131b3b-f3bf-461a-8c71-d236e7d5e7fa",
   "metadata": {
    "execution": {
     "iopub.execute_input": "2025-06-07T20:23:57.795419Z",
     "iopub.status.busy": "2025-06-07T20:23:57.795293Z",
     "iopub.status.idle": "2025-06-07T20:23:57.813675Z",
     "shell.execute_reply": "2025-06-07T20:23:57.813282Z",
     "shell.execute_reply.started": "2025-06-07T20:23:57.795407Z"
    }
   },
   "outputs": [],
   "source": [
    "# The output repo is tagged with the Jira ticket number \"DM-40356\":\n",
    "repo = '/repo/main'\n",
    "\n",
    "collection = 'LSSTComCam/runs/DRP/DP1/w_2025_10/DM-49359' # work\n",
    "#collection = 'LSSTComCam/runs/DRP/DP1/w_2025_17/DM-50530' # Does not work : No objectTable\n",
    "#collection = \"LSSTComCam/runs/DRP/DP1/w_2025_15/DM-50050\" # Does not work : No objectTable\n",
    "#collection = \"LSSTComCam/runs/DRP/DP1/w_2025_14/DM-49864\" # Does not work : No objectTable\n",
    "\n",
    "# bad : crash collection = 'LSSTComCam/runs/DRP/DP1/w_2025_08/DM-49029'\n",
    "\n",
    "# bad : collection = \"LSSTComCam/runs/DRP/20241101_20241211/w_2024_51/DM-48233\"\n",
    "\n",
    "# not working perhaps because I am using w_2025_10 version\n",
    "# bad : no ccd visit collection = \"LSSTComCam/runs/DRP/DP1/w_2025_14/DM-49864\"\n",
    "# bad : no ccd visit collection = 'LSSTComCam/runs/DRP/DP1/w_2025_15/DM-50050'\n",
    "# bad : no cce visit collection = 'LSSTComCam/runs/DRP/DP1/w_2025_14/DM-49864'\n",
    "# bad : no cce visit collection collection = 'LSSTComCam/runs/DRP/DP1/w_2025_13/DM-49751'\n",
    "\n",
    "\n",
    "instrument = \"LSSTComCam\"\n",
    "skymapName = \"lsst_cells_v1\"\n",
    "where_clause = \"instrument = \\'\" + instrument+ \"\\'\"\n",
    "collectionStr = collection.replace(\"/\", \"_\")\n",
    "\n",
    "NDET = 9\n",
    "TRACTSEL = 5063\n",
    "PATCHSEL = 14\n",
    "BANDSEL = \"g\"\n",
    "MAGCUTONSTARS = 25"
   ]
  },
  {
   "cell_type": "code",
   "execution_count": null,
   "id": "5aaaded0-f204-4b81-a359-6b9872f7c21d",
   "metadata": {
    "execution": {
     "iopub.execute_input": "2025-06-07T20:23:57.814235Z",
     "iopub.status.busy": "2025-06-07T20:23:57.814111Z",
     "iopub.status.idle": "2025-06-07T20:23:57.830129Z",
     "shell.execute_reply": "2025-06-07T20:23:57.829550Z",
     "shell.execute_reply.started": "2025-06-07T20:23:57.814223Z"
    }
   },
   "outputs": [],
   "source": [
    "FLAG_DUMP_COLLECTIONS = False\n",
    "FLAG_DUMP_DATASETS = False\n",
    "FLAG_DUMP_OBJECTSTABLECOLUMNS = False\n",
    "FLAG_CUT_OBJECTSMAG = True\n",
    "FLAG_CUT_OBJECTSSNR = True"
   ]
  },
  {
   "cell_type": "code",
   "execution_count": null,
   "id": "a66ee4ac-6255-4779-bdb3-088bee0f7058",
   "metadata": {
    "execution": {
     "iopub.execute_input": "2025-06-07T20:23:57.830962Z",
     "iopub.status.busy": "2025-06-07T20:23:57.830693Z",
     "iopub.status.idle": "2025-06-07T20:23:57.849154Z",
     "shell.execute_reply": "2025-06-07T20:23:57.848729Z",
     "shell.execute_reply.started": "2025-06-07T20:23:57.830929Z"
    }
   },
   "outputs": [],
   "source": [
    "MAGCUT = 24.0\n",
    "SNRCUT = 5.0"
   ]
  },
  {
   "cell_type": "code",
   "execution_count": null,
   "id": "d60358a6-62e7-4cc4-9440-3b178d76abe2",
   "metadata": {
    "execution": {
     "iopub.execute_input": "2025-06-07T20:23:57.849771Z",
     "iopub.status.busy": "2025-06-07T20:23:57.849639Z",
     "iopub.status.idle": "2025-06-07T20:23:57.859232Z",
     "shell.execute_reply": "2025-06-07T20:23:57.858849Z",
     "shell.execute_reply.started": "2025-06-07T20:23:57.849757Z"
    }
   },
   "outputs": [],
   "source": [
    "all_bands = [\"u\", \"g\", \"r\", \"i\", \"z\", \"y\"]\n",
    "all_bands_colors = [\"blue\", \"green\", \"red\", \"orange\", \"grey\", \"purple\"]\n",
    "all_bands_palette = {\"u\" : \"blue\",\n",
    "                     \"g\" : \"green\",\n",
    "                     \"r\" : \"red\",\n",
    "                     \"i\" : \"orange\",\n",
    "                     \"z\" : \"grey\",\n",
    "                     \"y\" : \"purple\"\n",
    "                    }"
   ]
  },
  {
   "cell_type": "markdown",
   "id": "e8f0113b-9e9a-46b8-9271-c4bde6d64679",
   "metadata": {},
   "source": [
    "### Initialisation of Butler"
   ]
  },
  {
   "cell_type": "code",
   "execution_count": null,
   "id": "804fcb8b-d567-4a27-b102-05ed002051c4",
   "metadata": {
    "execution": {
     "iopub.execute_input": "2025-06-07T20:23:57.859928Z",
     "iopub.status.busy": "2025-06-07T20:23:57.859680Z",
     "iopub.status.idle": "2025-06-07T20:23:58.389355Z",
     "shell.execute_reply": "2025-06-07T20:23:58.388888Z",
     "shell.execute_reply.started": "2025-06-07T20:23:57.859914Z"
    }
   },
   "outputs": [],
   "source": [
    "# Initialize the butler repo:\n",
    "butler = Butler(repo, collections=collection)\n",
    "registry = butler.registry"
   ]
  },
  {
   "cell_type": "code",
   "execution_count": null,
   "id": "03249edb-84b0-4f36-ae94-af25391b468e",
   "metadata": {
    "execution": {
     "iopub.execute_input": "2025-06-07T20:23:58.390041Z",
     "iopub.status.busy": "2025-06-07T20:23:58.389901Z",
     "iopub.status.idle": "2025-06-07T20:23:58.576052Z",
     "shell.execute_reply": "2025-06-07T20:23:58.575539Z",
     "shell.execute_reply.started": "2025-06-07T20:23:58.390027Z"
    }
   },
   "outputs": [],
   "source": [
    "skymap = butler.get('skyMap', skymap=skymapName, collections=collection)"
   ]
  },
  {
   "cell_type": "code",
   "execution_count": null,
   "id": "5b61a4a0-edcf-462f-be02-61502f79db0b",
   "metadata": {
    "execution": {
     "iopub.execute_input": "2025-06-07T20:23:58.576857Z",
     "iopub.status.busy": "2025-06-07T20:23:58.576711Z",
     "iopub.status.idle": "2025-06-07T20:23:59.253091Z",
     "shell.execute_reply": "2025-06-07T20:23:59.252536Z",
     "shell.execute_reply.started": "2025-06-07T20:23:58.576843Z"
    }
   },
   "outputs": [],
   "source": [
    "camera = butler.get(\"camera\", collections=collection, instrument=instrument)"
   ]
  },
  {
   "cell_type": "markdown",
   "id": "ba4dc6f9-2fc7-403a-815c-1c3e18486038",
   "metadata": {},
   "source": [
    "## 1) Build the table of AGN from the Vizier Catalog"
   ]
  },
  {
   "cell_type": "code",
   "execution_count": null,
   "id": "05b99793-551b-48b5-8f7b-27accdae501a",
   "metadata": {
    "execution": {
     "iopub.execute_input": "2025-06-07T20:23:59.253895Z",
     "iopub.status.busy": "2025-06-07T20:23:59.253734Z",
     "iopub.status.idle": "2025-06-07T20:23:59.403614Z",
     "shell.execute_reply": "2025-06-07T20:23:59.403147Z",
     "shell.execute_reply.started": "2025-06-07T20:23:59.253878Z"
    }
   },
   "outputs": [],
   "source": [
    "from astroquery.vizier import Vizier\n",
    "from astropy.coordinates import SkyCoord\n",
    "import astropy.units as u"
   ]
  },
  {
   "cell_type": "code",
   "execution_count": null,
   "id": "79e4b7a3-ea29-4e0a-a412-2614fc38603d",
   "metadata": {
    "execution": {
     "iopub.execute_input": "2025-06-07T20:23:59.404241Z",
     "iopub.status.busy": "2025-06-07T20:23:59.404097Z",
     "iopub.status.idle": "2025-06-07T20:23:59.406876Z",
     "shell.execute_reply": "2025-06-07T20:23:59.406481Z",
     "shell.execute_reply.started": "2025-06-07T20:23:59.404225Z"
    }
   },
   "outputs": [],
   "source": [
    "ECDFS_RA = 53.1\n",
    "ECDFS_DEC = -27.8\n",
    "ECDFS_COORD = SpherePoint(ECDFS_RA, ECDFS_DEC , degrees)"
   ]
  },
  {
   "cell_type": "code",
   "execution_count": null,
   "id": "56152a05-9c3a-4ef5-ae69-9eab0d30520f",
   "metadata": {
    "execution": {
     "iopub.execute_input": "2025-06-07T20:23:59.407623Z",
     "iopub.status.busy": "2025-06-07T20:23:59.407351Z",
     "iopub.status.idle": "2025-06-07T20:23:59.466203Z",
     "shell.execute_reply": "2025-06-07T20:23:59.465726Z",
     "shell.execute_reply.started": "2025-06-07T20:23:59.407607Z"
    }
   },
   "outputs": [],
   "source": [
    "# Coordonnées approximatives du centre du E-CDFS\n",
    "coord = SkyCoord(ra=ECDFS_RA, dec = ECDFS_DEC, unit=(u.deg, u.deg), frame='icrs')\n",
    "radius = 30 * u.arcmin\n",
    "\n",
    "# Exemple avec le catalogue Luo+2017 (7Ms CDF-S)\n",
    "catalog_id = \"J/ApJS/228/2\"\n",
    "result = Vizier(columns=[\"*\"]).query_region(coord, radius=radius, catalog=catalog_id)"
   ]
  },
  {
   "cell_type": "code",
   "execution_count": null,
   "id": "08cc0827-6204-471c-b7f3-eb1b714a142a",
   "metadata": {
    "execution": {
     "iopub.execute_input": "2025-06-07T20:23:59.466981Z",
     "iopub.status.busy": "2025-06-07T20:23:59.466821Z",
     "iopub.status.idle": "2025-06-07T20:23:59.469305Z",
     "shell.execute_reply": "2025-06-07T20:23:59.468915Z",
     "shell.execute_reply.started": "2025-06-07T20:23:59.466965Z"
    }
   },
   "outputs": [],
   "source": [
    "sources_table = result['J/ApJS/228/2/sources']"
   ]
  },
  {
   "cell_type": "code",
   "execution_count": null,
   "id": "241ead7f-82e4-4be3-bb9f-da4196b54140",
   "metadata": {
    "execution": {
     "iopub.execute_input": "2025-06-07T20:23:59.470006Z",
     "iopub.status.busy": "2025-06-07T20:23:59.469854Z",
     "iopub.status.idle": "2025-06-07T20:23:59.497610Z",
     "shell.execute_reply": "2025-06-07T20:23:59.497115Z",
     "shell.execute_reply.started": "2025-06-07T20:23:59.469991Z"
    }
   },
   "outputs": [],
   "source": [
    "# On calcule le log10 de LX\n",
    "logLX = np.log10(sources_table['LX'])\n",
    "\n",
    "# Et on l'ajoute comme nouvelle colonne à la table\n",
    "sources_table['logLX'] = logLX\n",
    "\n",
    "# Attention au nom exact de la colonne\n",
    "logLX = sources_table['logLX']\n",
    "is_agn = logLX > 42\n",
    "is_agn = sources_table['logLX'] > 42  # AGN si LX > 10^42 erg/s\n",
    "agn_table = sources_table[is_agn]\n",
    "galaxy_table = sources_table[sources_table['OType'] == 'Galaxy']"
   ]
  },
  {
   "cell_type": "code",
   "execution_count": null,
   "id": "b09cf7f3-e736-45f7-a75d-f451059e402f",
   "metadata": {
    "execution": {
     "iopub.execute_input": "2025-06-07T20:23:59.498284Z",
     "iopub.status.busy": "2025-06-07T20:23:59.498135Z",
     "iopub.status.idle": "2025-06-07T20:23:59.522120Z",
     "shell.execute_reply": "2025-06-07T20:23:59.521722Z",
     "shell.execute_reply.started": "2025-06-07T20:23:59.498268Z"
    }
   },
   "outputs": [],
   "source": [
    "df_galaxy = galaxy_table.to_pandas()\n",
    "df_agn = agn_table.to_pandas()\n",
    "df = pd.concat([df_galaxy,df_agn])\n",
    "\n",
    "df_agn.rename(columns={\"RAJ2000\": \"ra\", \"DEJ2000\": \"dec\"},inplace = True)\n",
    "df_galaxy.rename(columns={\"RAJ2000\": \"ra\", \"DEJ2000\": \"dec\"},inplace = True)\n",
    "df.rename(columns={\"RAJ2000\": \"ra\", \"DEJ2000\": \"dec\"},inplace = True)\n",
    "df.reset_index(drop=True,inplace=True)"
   ]
  },
  {
   "cell_type": "code",
   "execution_count": null,
   "id": "99b4d94f-4df9-481c-baa1-4f175a5abe03",
   "metadata": {
    "execution": {
     "iopub.execute_input": "2025-06-07T20:23:59.522745Z",
     "iopub.status.busy": "2025-06-07T20:23:59.522597Z",
     "iopub.status.idle": "2025-06-07T20:23:59.553040Z",
     "shell.execute_reply": "2025-06-07T20:23:59.552603Z",
     "shell.execute_reply.started": "2025-06-07T20:23:59.522730Z"
    }
   },
   "outputs": [],
   "source": [
    "df"
   ]
  },
  {
   "cell_type": "code",
   "execution_count": null,
   "id": "e1d0be74-eb27-4792-86df-f72c934fbfcf",
   "metadata": {
    "execution": {
     "iopub.execute_input": "2025-06-07T20:23:59.553746Z",
     "iopub.status.busy": "2025-06-07T20:23:59.553596Z",
     "iopub.status.idle": "2025-06-07T20:23:59.564817Z",
     "shell.execute_reply": "2025-06-07T20:23:59.564379Z",
     "shell.execute_reply.started": "2025-06-07T20:23:59.553730Z"
    }
   },
   "outputs": [],
   "source": [
    "all_tracts = []\n",
    "all_patches = []\n",
    "all_targetnames = []\n",
    "\n",
    "count_agn = 0\n",
    "count_gal = 0\n",
    "for key, row in df.iterrows():\n",
    "    target_ra = row[\"ra\"]\n",
    "    target_dec = row[\"dec\"]\n",
    "    target_type = row['OType']\n",
    "    if target_type == \"Galaxy\":\n",
    "        target_name = f\"GALAXY{count_gal}\"\n",
    "        count_gal +=1\n",
    "    else:\n",
    "        target_name = f\"AGN{count_agn}\"\n",
    "        count_agn +=1\n",
    "        \n",
    "    target_point = SpherePoint(target_ra, target_dec, degrees)\n",
    "\n",
    "    tract_info = skymap.findTract(target_point)\n",
    "    patch_info = tract_info.findPatch(target_point)\n",
    "    #bbox = patch_info.getOuterBBox()\n",
    "\n",
    "    tractNbSel = tract_info.getId()\n",
    "    patchNbSel = patch_info.getSequentialIndex()\n",
    "\n",
    "    all_tracts.append(tractNbSel)\n",
    "    all_patches.append(patchNbSel)\n",
    "    all_targetnames.append(target_name)\n",
    "      "
   ]
  },
  {
   "cell_type": "code",
   "execution_count": null,
   "id": "abbf8567-b6b3-42b8-a646-ca0233ff6687",
   "metadata": {
    "execution": {
     "iopub.execute_input": "2025-06-07T20:23:59.566101Z",
     "iopub.status.busy": "2025-06-07T20:23:59.565669Z",
     "iopub.status.idle": "2025-06-07T20:23:59.573486Z",
     "shell.execute_reply": "2025-06-07T20:23:59.573100Z",
     "shell.execute_reply.started": "2025-06-07T20:23:59.566084Z"
    }
   },
   "outputs": [],
   "source": [
    "df[\"tract\"] = all_tracts\n",
    "df[\"patch\"] = all_patches\n",
    "df['field_name'] = all_targetnames"
   ]
  },
  {
   "cell_type": "code",
   "execution_count": null,
   "id": "63968884-d759-4a6d-878d-d9418c008893",
   "metadata": {
    "execution": {
     "iopub.execute_input": "2025-06-07T20:23:59.574081Z",
     "iopub.status.busy": "2025-06-07T20:23:59.573945Z",
     "iopub.status.idle": "2025-06-07T20:23:59.844671Z",
     "shell.execute_reply": "2025-06-07T20:23:59.844218Z",
     "shell.execute_reply.started": "2025-06-07T20:23:59.574067Z"
    }
   },
   "outputs": [],
   "source": [
    "plt.figure(figsize=(14,5))\n",
    "\n",
    "plt.subplot(1, 2, 1)\n",
    "plt.hist(df['zspec'].values, bins=20, color='green', alpha=0.7)\n",
    "plt.xlabel(\"Redshift zspec\")\n",
    "plt.ylabel(\"Nombre de sources\")\n",
    "plt.title(\"Distribution en redshift\")\n",
    "\n",
    "plt.subplot(1, 2, 2)\n",
    "plt.hist(df['logLX'].values, bins=20, color='orange', alpha=0.7)\n",
    "plt.xlabel(\"log(Lx) [erg/s]\")\n",
    "plt.ylabel(\"Nombre de sources\")\n",
    "plt.title(\"Distribution de la luminosité X\")\n",
    "\n",
    "plt.tight_layout()\n",
    "plt.show()"
   ]
  },
  {
   "cell_type": "code",
   "execution_count": null,
   "id": "826aebd4-b08d-4259-a715-2274b75182c2",
   "metadata": {
    "execution": {
     "iopub.execute_input": "2025-06-07T20:23:59.845346Z",
     "iopub.status.busy": "2025-06-07T20:23:59.845189Z",
     "iopub.status.idle": "2025-06-07T20:23:59.848234Z",
     "shell.execute_reply": "2025-06-07T20:23:59.847829Z",
     "shell.execute_reply.started": "2025-06-07T20:23:59.845327Z"
    }
   },
   "outputs": [],
   "source": [
    "# Check here the collections available\n",
    "if FLAG_DUMP_COLLECTIONS:\n",
    "    for _ in sorted(registry.queryCollections(expression=instrument + \"/*\")):\n",
    "        if \"/calib/\" not in _ and \"u/\" not in _:\n",
    "            print(_)"
   ]
  },
  {
   "cell_type": "code",
   "execution_count": null,
   "id": "59563647-7ecd-4366-a7e8-eb2354393559",
   "metadata": {
    "execution": {
     "iopub.execute_input": "2025-06-07T20:23:59.848966Z",
     "iopub.status.busy": "2025-06-07T20:23:59.848700Z",
     "iopub.status.idle": "2025-06-07T20:23:59.863674Z",
     "shell.execute_reply": "2025-06-07T20:23:59.863286Z",
     "shell.execute_reply.started": "2025-06-07T20:23:59.848951Z"
    }
   },
   "outputs": [],
   "source": [
    "if FLAG_DUMP_DATASETS:\n",
    "    for datasetType in registry.queryDatasetTypes():\n",
    "        if registry.queryDatasets(datasetType, collections=collection).any(\n",
    "            execute=False, exact=False\n",
    "        ):\n",
    "            # Limit search results to the data products\n",
    "            if (\n",
    "                (\"_config\" not in datasetType.name)\n",
    "                and (\"_log\" not in datasetType.name)\n",
    "                and (\"_metadata\" not in datasetType.name)\n",
    "                and (\"_resource_usage\" not in datasetType.name)\n",
    "                and (\"Plot\" not in datasetType.name)\n",
    "                and (\"Metric\" not in datasetType.name)\n",
    "                and (\"metric\" not in datasetType.name)\n",
    "                and ((\"Table\" in datasetType.name) or (\"Zeropointp\" in datasetType.name) or (\"fgcm\" in datasetType.name) or (\"transm\" in datasetType.name) or (\"Transm\" in datasetType.name)\n",
    "                or (\"source\" in datasetType.name) or (\"Source\" in datasetType.name) or (\"object\" in datasetType.name) or (\"Object\" in datasetType.name))\n",
    "            ):\n",
    "                \n",
    "                print(datasetType)"
   ]
  },
  {
   "cell_type": "markdown",
   "id": "9250a76d-9adc-4802-9b9d-a702c6cf0d26",
   "metadata": {},
   "source": [
    "## Select one Object in df"
   ]
  },
  {
   "cell_type": "code",
   "execution_count": null,
   "id": "605c6d4b-1d80-471f-bcc1-ec4de56aecfe",
   "metadata": {
    "execution": {
     "iopub.execute_input": "2025-06-07T20:23:59.864358Z",
     "iopub.status.busy": "2025-06-07T20:23:59.864108Z",
     "iopub.status.idle": "2025-06-07T20:23:59.897255Z",
     "shell.execute_reply": "2025-06-07T20:23:59.896835Z",
     "shell.execute_reply.started": "2025-06-07T20:23:59.864343Z"
    }
   },
   "outputs": [],
   "source": [
    "df[df['zspec'] < 0.5]"
   ]
  },
  {
   "cell_type": "code",
   "execution_count": null,
   "id": "d2bfe613-b5c2-4133-b19a-ba87acbb00a3",
   "metadata": {
    "execution": {
     "iopub.execute_input": "2025-06-07T20:23:59.898008Z",
     "iopub.status.busy": "2025-06-07T20:23:59.897791Z",
     "iopub.status.idle": "2025-06-07T20:23:59.912465Z",
     "shell.execute_reply": "2025-06-07T20:23:59.912080Z",
     "shell.execute_reply.started": "2025-06-07T20:23:59.897991Z"
    }
   },
   "outputs": [],
   "source": [
    "the_target = df.iloc[0]\n",
    "target_ra = the_target[\"ra\"]\n",
    "target_dec = the_target[\"dec\"]\n",
    "target_name = the_target[\"field_name\"]\n",
    "\n",
    "target_title = (\n",
    "    the_target[\"field_name\"] +  f\" (ra,dec) = ({target_ra:.2f},{target_dec:.2f}) \"\n",
    ")\n",
    "target_point = SpherePoint(target_ra, target_dec, degrees)\n",
    "target_coord = SkyCoord(ra=target_ra*u.deg, dec=target_dec*u.deg)"
   ]
  },
  {
   "cell_type": "code",
   "execution_count": null,
   "id": "a321d4fe-8495-41d8-b093-3bd92261095a",
   "metadata": {
    "execution": {
     "iopub.execute_input": "2025-06-07T20:23:59.913228Z",
     "iopub.status.busy": "2025-06-07T20:23:59.912954Z",
     "iopub.status.idle": "2025-06-07T20:23:59.929721Z",
     "shell.execute_reply": "2025-06-07T20:23:59.929223Z",
     "shell.execute_reply.started": "2025-06-07T20:23:59.913212Z"
    }
   },
   "outputs": [],
   "source": [
    "tract_info = skymap.findTract(target_point)\n",
    "patch_info = tract_info.findPatch(target_point)\n",
    "tractNbSel = tract_info.getId()\n",
    "patchNbSel =  patch_info.getSequentialIndex()\n",
    "where_clause = f\"skymap = '{skymapName}' AND tract = {tractNbSel} AND patch = {patchNbSel}\"\n",
    "print(where_clause)"
   ]
  },
  {
   "cell_type": "markdown",
   "id": "57be8008-c849-440e-9bae-8649564d3373",
   "metadata": {},
   "source": [
    "### Get list of Tracts and Patches\n",
    "\n",
    "- Just to know which tracts are involved in the observations"
   ]
  },
  {
   "cell_type": "code",
   "execution_count": null,
   "id": "c0823ed5-9b23-4548-af23-12d707772667",
   "metadata": {
    "execution": {
     "iopub.execute_input": "2025-06-07T20:23:59.930417Z",
     "iopub.status.busy": "2025-06-07T20:23:59.930268Z",
     "iopub.status.idle": "2025-06-07T20:24:00.000744Z",
     "shell.execute_reply": "2025-06-07T20:24:00.000128Z",
     "shell.execute_reply.started": "2025-06-07T20:23:59.930402Z"
    }
   },
   "outputs": [],
   "source": [
    "datasettype = \"objectTable_tract\"\n",
    "therefs = butler.registry.queryDatasets(datasettype,  collections=collection)"
   ]
  },
  {
   "cell_type": "code",
   "execution_count": null,
   "id": "f810d737-c393-40bb-bc60-32e3706cf4a0",
   "metadata": {
    "execution": {
     "iopub.execute_input": "2025-06-07T20:24:00.001561Z",
     "iopub.status.busy": "2025-06-07T20:24:00.001396Z",
     "iopub.status.idle": "2025-06-07T20:24:00.069577Z",
     "shell.execute_reply": "2025-06-07T20:24:00.069061Z",
     "shell.execute_reply.started": "2025-06-07T20:24:00.001544Z"
    }
   },
   "outputs": [],
   "source": [
    "tractsId_list = np.unique([ref.dataId['tract'] for ref in therefs])\n",
    "tractsId_list = sorted(tractsId_list)\n",
    "print(tractsId_list)"
   ]
  },
  {
   "cell_type": "markdown",
   "id": "5022ca8c-d08a-40f7-b8b1-9a9f56d394f2",
   "metadata": {},
   "source": [
    "## Define the Stack DM product used for the DRP analysis"
   ]
  },
  {
   "cell_type": "code",
   "execution_count": null,
   "id": "92905ff8-215c-43ac-a380-7599a171034f",
   "metadata": {
    "execution": {
     "iopub.execute_input": "2025-06-07T20:24:00.070295Z",
     "iopub.status.busy": "2025-06-07T20:24:00.070138Z",
     "iopub.status.idle": "2025-06-07T20:24:00.073018Z",
     "shell.execute_reply": "2025-06-07T20:24:00.072602Z",
     "shell.execute_reply.started": "2025-06-07T20:24:00.070278Z"
    }
   },
   "outputs": [],
   "source": [
    "print(where_clause)"
   ]
  },
  {
   "cell_type": "code",
   "execution_count": null,
   "id": "ae40f327-7e25-46aa-832f-7feaaf526420",
   "metadata": {
    "execution": {
     "iopub.execute_input": "2025-06-07T20:24:00.074088Z",
     "iopub.status.busy": "2025-06-07T20:24:00.073774Z",
     "iopub.status.idle": "2025-06-07T20:24:00.095960Z",
     "shell.execute_reply": "2025-06-07T20:24:00.095490Z",
     "shell.execute_reply.started": "2025-06-07T20:24:00.074054Z"
    }
   },
   "outputs": [],
   "source": [
    "datasettype = 'objectTable'\n",
    "#datasettype = 'diaObjectTable_tract'\n",
    "#datasettype =  'forcedSourceOnDiaObjectTable'\n",
    "#datasettype =  'diaSourceTable_tract'\n",
    "#datasettype = 'goodSeeingDiff_assocSsSrcTable' # bad table\n",
    "subtitle = collectionStr + \"_\" + datasettype"
   ]
  },
  {
   "cell_type": "code",
   "execution_count": null,
   "id": "dc2e290d-3fef-4989-a4ca-6e57b502eaac",
   "metadata": {
    "execution": {
     "iopub.execute_input": "2025-06-07T20:24:00.096668Z",
     "iopub.status.busy": "2025-06-07T20:24:00.096517Z",
     "iopub.status.idle": "2025-06-07T20:24:00.767747Z",
     "shell.execute_reply": "2025-06-07T20:24:00.767229Z",
     "shell.execute_reply.started": "2025-06-07T20:24:00.096653Z"
    }
   },
   "outputs": [],
   "source": [
    "closest_obj, sepMin, nearby_obj = RetrieveDRPObject_forTarget(butler,target_coord,datasettype,where_clause)"
   ]
  },
  {
   "cell_type": "code",
   "execution_count": null,
   "id": "23306ca1-a7e6-4280-b9d7-0b199c046db9",
   "metadata": {
    "execution": {
     "iopub.execute_input": "2025-06-07T20:24:00.768461Z",
     "iopub.status.busy": "2025-06-07T20:24:00.768310Z",
     "iopub.status.idle": "2025-06-07T20:24:01.044123Z",
     "shell.execute_reply": "2025-06-07T20:24:01.043656Z",
     "shell.execute_reply.started": "2025-06-07T20:24:00.768446Z"
    }
   },
   "outputs": [],
   "source": [
    "fig, ax = plt.subplots(1,1,figsize=(10,4))\n",
    "nearby_obj[\"sep\"].hist(bins=50,ax=ax,facecolor=\"b\")\n",
    "closest_obj[\"sep\"].hist(bins=50,range=(0,50),ax=ax,facecolor=\"r\")\n",
    "ax.set_yscale(\"log\")\n",
    "ax.set_title(\"object separation angle\")\n",
    "ax.set_xlabel(\"separation angle (arcsec)\")\n",
    "plt.show()"
   ]
  },
  {
   "cell_type": "code",
   "execution_count": null,
   "id": "ff75b08d-f582-42a4-9f5d-b317c289b065",
   "metadata": {
    "execution": {
     "iopub.execute_input": "2025-06-07T20:24:01.044857Z",
     "iopub.status.busy": "2025-06-07T20:24:01.044686Z",
     "iopub.status.idle": "2025-06-07T20:24:01.050139Z",
     "shell.execute_reply": "2025-06-07T20:24:01.049663Z",
     "shell.execute_reply.started": "2025-06-07T20:24:01.044840Z"
    }
   },
   "outputs": [],
   "source": [
    "closed_obj_cleaned = closest_obj.dropna(axis=1,how='all')\n",
    "closed_obj_cleaned.reset_index(level=0, inplace=True)"
   ]
  },
  {
   "cell_type": "code",
   "execution_count": null,
   "id": "1030887f-fffc-4efe-8292-ae5658663e8b",
   "metadata": {
    "execution": {
     "iopub.execute_input": "2025-06-07T20:24:01.050827Z",
     "iopub.status.busy": "2025-06-07T20:24:01.050674Z",
     "iopub.status.idle": "2025-06-07T20:24:01.067738Z",
     "shell.execute_reply": "2025-06-07T20:24:01.067343Z",
     "shell.execute_reply.started": "2025-06-07T20:24:01.050812Z"
    }
   },
   "outputs": [],
   "source": [
    "closed_obj_cleaned"
   ]
  },
  {
   "cell_type": "markdown",
   "id": "2651f1e7-a6e8-4702-a5b3-5d85c6b7b9ca",
   "metadata": {},
   "source": [
    "## Plot the deepCoadds Cutsout"
   ]
  },
  {
   "cell_type": "code",
   "execution_count": null,
   "id": "18884813-0cc2-4493-a0b4-a46b96c31a92",
   "metadata": {
    "execution": {
     "iopub.execute_input": "2025-06-07T20:24:01.068480Z",
     "iopub.status.busy": "2025-06-07T20:24:01.068217Z",
     "iopub.status.idle": "2025-06-07T20:24:10.972734Z",
     "shell.execute_reply": "2025-06-07T20:24:10.972233Z",
     "shell.execute_reply.started": "2025-06-07T20:24:01.068464Z"
    }
   },
   "outputs": [],
   "source": [
    "df_obj = closed_obj_cleaned\n",
    "\n",
    "for ib,band in enumerate(all_bands):\n",
    "    print(ib,band)\n",
    "    iframe = ib + 1\n",
    "\n",
    "    id_name = \"objectId\" \n",
    "    ra_name = \"ra\"\n",
    "    dec_name = \"dec\"\n",
    "   \n",
    "   \n",
    "    # object\n",
    "    df_obj = closed_obj_cleaned.iloc[0]\n",
    "    #df_obj[id_name] = df_obj[id_name].astype(int)\n",
    "    name_obj = int(df_obj[id_name])\n",
    "    ra_obj = float(df_obj[ra_name])\n",
    "    dec_obj = float(df_obj[dec_name])\n",
    "    title_obj = f\"{target_name} {band} {ra_obj:.3f}, {dec_obj:.3f}\"\n",
    "  \n",
    "    \n",
    "    # Extract the cutout around the GEM catalog\n",
    "    cutout, wcs, metadata = extract_deepCoadd_cutout(\n",
    "        ra_deg=target_ra,\n",
    "        dec_deg=target_dec,\n",
    "        tractInfo=tract_info,\n",
    "        patchInfo=patch_info,\n",
    "        band=band,\n",
    "        butler=butler,\n",
    "        skymapName=skymapName,\n",
    "        cutout_size_pixels = 100,\n",
    "        collection = collection,\n",
    "    )\n",
    "\n",
    "    # Optionnel : nom unique si plusieurs affichages\n",
    "    display = afwDisplay.Display(frame=iframe)\n",
    "    display.scale(\"asinh\", \"zscale\")\n",
    "    # Affiche le cutout\n",
    "    display.mtv(cutout.image, title=title_obj)\n",
    "\n",
    "    # Show the DIA object as\n",
    "    wcs = cutout.getWcs()\n",
    "    coord_obj = SpherePoint(ra_obj, dec_obj, degrees)\n",
    "    pixel_obj = wcs.skyToPixel(coord_obj)  # donne un Point2D (x, y)\n",
    "    display.dot(\"o\", pixel_obj.getX(), pixel_obj.getY(), size=10, ctype=all_bands_colors[ib])\n",
    "\n",
    "    # Show the target as +\n",
    "    target_point = SpherePoint(target_ra, target_dec, degrees)\n",
    "    pixel_target = wcs.skyToPixel(target_point)  # donne un Point2D (x, y)\n",
    "    display.dot(\"+\", pixel_target.getX(), pixel_target.getY(), size=10, ctype=all_bands_colors[ib])\n",
    "\n",
    "   "
   ]
  },
  {
   "cell_type": "code",
   "execution_count": null,
   "id": "1bbeeb36-aee2-4165-a061-740e0f939451",
   "metadata": {
    "execution": {
     "iopub.execute_input": "2025-06-07T20:24:10.973973Z",
     "iopub.status.busy": "2025-06-07T20:24:10.973411Z",
     "iopub.status.idle": "2025-06-07T20:24:10.976318Z",
     "shell.execute_reply": "2025-06-07T20:24:10.975938Z",
     "shell.execute_reply.started": "2025-06-07T20:24:10.973956Z"
    }
   },
   "outputs": [],
   "source": [
    "#display.erase()"
   ]
  },
  {
   "cell_type": "markdown",
   "id": "b727d802-a564-45de-8c50-33e9a3f50d5f",
   "metadata": {},
   "source": [
    "## Search for Standard sources"
   ]
  },
  {
   "cell_type": "code",
   "execution_count": null,
   "id": "cd069653-a2b8-4e4c-b199-dbf621a85578",
   "metadata": {
    "execution": {
     "iopub.execute_input": "2025-06-07T20:24:10.976922Z",
     "iopub.status.busy": "2025-06-07T20:24:10.976783Z",
     "iopub.status.idle": "2025-06-07T20:24:11.000898Z",
     "shell.execute_reply": "2025-06-07T20:24:11.000462Z",
     "shell.execute_reply.started": "2025-06-07T20:24:10.976908Z"
    }
   },
   "outputs": [],
   "source": [
    "datasettype =  'forcedSourceTable'\n",
    "#datasettype =  'diaSourceTable_tract'\n",
    "#datasettype = 'goodSeeingDiff_assocSsSrcTable' # bad table\n",
    "subtitle = collectionStr + \"_\" + datasettype"
   ]
  },
  {
   "cell_type": "code",
   "execution_count": null,
   "id": "001563b6-3bef-4527-a038-c867d3cf06f1",
   "metadata": {
    "execution": {
     "iopub.execute_input": "2025-06-07T20:24:11.001590Z",
     "iopub.status.busy": "2025-06-07T20:24:11.001433Z",
     "iopub.status.idle": "2025-06-07T20:24:11.015350Z",
     "shell.execute_reply": "2025-06-07T20:24:11.014974Z",
     "shell.execute_reply.started": "2025-06-07T20:24:11.001574Z"
    }
   },
   "outputs": [],
   "source": [
    "objectId_selected = closed_obj_cleaned.objectId.values[0]\n",
    "objectId_selected"
   ]
  },
  {
   "cell_type": "code",
   "execution_count": null,
   "id": "ecdd7f95-45fc-48a2-b711-9dc86d4a9252",
   "metadata": {
    "execution": {
     "iopub.execute_input": "2025-06-07T20:24:11.015949Z",
     "iopub.status.busy": "2025-06-07T20:24:11.015811Z",
     "iopub.status.idle": "2025-06-07T20:24:11.032755Z",
     "shell.execute_reply": "2025-06-07T20:24:11.032364Z",
     "shell.execute_reply.started": "2025-06-07T20:24:11.015935Z"
    }
   },
   "outputs": [],
   "source": [
    "figname1 = f\"agn_{target_name}_{datasettype}_v1.png\"\n",
    "figname2 = f\"agn_{target_name}_{datasettype}_v2.png\""
   ]
  },
  {
   "cell_type": "code",
   "execution_count": null,
   "id": "1a2d373f-987d-4784-bc02-4bb4ea68d3ec",
   "metadata": {
    "execution": {
     "iopub.execute_input": "2025-06-07T20:24:11.033612Z",
     "iopub.status.busy": "2025-06-07T20:24:11.033256Z",
     "iopub.status.idle": "2025-06-07T20:24:13.373628Z",
     "shell.execute_reply": "2025-06-07T20:24:13.373066Z",
     "shell.execute_reply.started": "2025-06-07T20:24:11.033597Z"
    }
   },
   "outputs": [],
   "source": [
    "fsrc_fromselectedobject = RetrieveForcedSources_forTarget(butler,objectId_selected,datasettype,where_clause)"
   ]
  },
  {
   "cell_type": "markdown",
   "id": "b9a1767f-df1a-499d-b4e0-42f6ba628bfb",
   "metadata": {},
   "source": [
    "### Add a few columns : Split visit into dayobs and seq"
   ]
  },
  {
   "cell_type": "code",
   "execution_count": null,
   "id": "777db096-c726-4318-8953-9dc450f217f6",
   "metadata": {
    "execution": {
     "iopub.execute_input": "2025-06-07T20:24:13.374342Z",
     "iopub.status.busy": "2025-06-07T20:24:13.374203Z",
     "iopub.status.idle": "2025-06-07T20:24:13.376890Z",
     "shell.execute_reply": "2025-06-07T20:24:13.376474Z",
     "shell.execute_reply.started": "2025-06-07T20:24:13.374328Z"
    }
   },
   "outputs": [],
   "source": [
    "t = fsrc_fromselectedobject"
   ]
  },
  {
   "cell_type": "markdown",
   "id": "2c24a09f-7395-4679-a103-d742bac033fd",
   "metadata": {},
   "source": [
    "### Add Magnitudes and Magnitudes errors"
   ]
  },
  {
   "cell_type": "code",
   "execution_count": null,
   "id": "0d7732b5-d537-4481-a473-6f424db24704",
   "metadata": {
    "execution": {
     "iopub.execute_input": "2025-06-07T20:24:13.381360Z",
     "iopub.status.busy": "2025-06-07T20:24:13.381224Z",
     "iopub.status.idle": "2025-06-07T20:24:13.393480Z",
     "shell.execute_reply": "2025-06-07T20:24:13.393013Z",
     "shell.execute_reply.started": "2025-06-07T20:24:13.381348Z"
    }
   },
   "outputs": [],
   "source": [
    "t[\"dateobs\"] = t.apply(lambda x: x['visit']//100_000, axis=1)\n",
    "t[\"seq\"] = t[\"visit\"] - t[\"dateobs\"]*100_000"
   ]
  },
  {
   "cell_type": "code",
   "execution_count": null,
   "id": "0ce50da4-5813-4622-b582-2f2e735da2b0",
   "metadata": {
    "execution": {
     "iopub.execute_input": "2025-06-07T20:24:13.394131Z",
     "iopub.status.busy": "2025-06-07T20:24:13.394001Z",
     "iopub.status.idle": "2025-06-07T20:24:13.409935Z",
     "shell.execute_reply": "2025-06-07T20:24:13.409523Z",
     "shell.execute_reply.started": "2025-06-07T20:24:13.394119Z"
    }
   },
   "outputs": [],
   "source": [
    "#t[\"mags\"] = t[\"psfFlux\"].apply(lambda flux : -2.5 * np.log10(flux) + 31.4)\n",
    "t[\"mags\"] = t[\"psfFlux\"].apply(nJy_to_ab_mag)\n",
    "t[\"magerr\"] = nJy_err_to_ab_err(t[\"psfFlux\"], t[\"psfFluxErr\"])                               \n",
    "t[\"valid\"] = (t[\"psfFlux\"] >0) & (~t[\"psfFlux_flag\"])\n",
    "visit_list = t[\"visit\"].astype(int)\n",
    "Nvisit = len(visit_list)"
   ]
  },
  {
   "cell_type": "markdown",
   "id": "4efcc129-8e59-413d-9363-fbcaebc22b59",
   "metadata": {},
   "source": [
    "### Find the time associated to each visit"
   ]
  },
  {
   "cell_type": "code",
   "execution_count": null,
   "id": "36971d9a-10bd-4ca5-844c-d4586081ffe8",
   "metadata": {
    "execution": {
     "iopub.execute_input": "2025-06-07T20:24:13.410517Z",
     "iopub.status.busy": "2025-06-07T20:24:13.410380Z",
     "iopub.status.idle": "2025-06-07T20:24:13.620126Z",
     "shell.execute_reply": "2025-06-07T20:24:13.619618Z",
     "shell.execute_reply.started": "2025-06-07T20:24:13.410498Z"
    }
   },
   "outputs": [],
   "source": [
    "df_times = FetchTimesForVisits(visit_list)"
   ]
  },
  {
   "cell_type": "code",
   "execution_count": null,
   "id": "ed7ac948-6310-459e-b0e9-c178adb77bdd",
   "metadata": {
    "execution": {
     "iopub.execute_input": "2025-06-07T20:24:13.620882Z",
     "iopub.status.busy": "2025-06-07T20:24:13.620741Z",
     "iopub.status.idle": "2025-06-07T20:24:13.701668Z",
     "shell.execute_reply": "2025-06-07T20:24:13.701236Z",
     "shell.execute_reply.started": "2025-06-07T20:24:13.620868Z"
    }
   },
   "outputs": [],
   "source": [
    "t[\"mjd\"] = t[\"visit\"].apply(lambda x: df_times.loc[x][\"mjd\"])\n",
    "t[\"isot\"] = t[\"visit\"].apply(lambda x: df_times.loc[x][\"isot\"])\n",
    "t[\"airmass\"] = t[\"visit\"].apply(lambda x: df_times.loc[x][\"airmass\"])\n",
    "t[\"azimuth\"] = t[\"visit\"].apply(lambda x: df_times.loc[x][\"azimuth\"])"
   ]
  },
  {
   "cell_type": "markdown",
   "id": "a868b53e-f3a7-4af5-b494-d95c8733790c",
   "metadata": {},
   "source": [
    "## Split the sources in different bands"
   ]
  },
  {
   "cell_type": "code",
   "execution_count": null,
   "id": "0fd6fe35-901d-4f80-b181-1f5b6767dbde",
   "metadata": {
    "execution": {
     "iopub.execute_input": "2025-06-07T20:24:13.702326Z",
     "iopub.status.busy": "2025-06-07T20:24:13.702194Z",
     "iopub.status.idle": "2025-06-07T20:24:13.707005Z",
     "shell.execute_reply": "2025-06-07T20:24:13.706655Z",
     "shell.execute_reply.started": "2025-06-07T20:24:13.702313Z"
    }
   },
   "outputs": [],
   "source": [
    "tb = {}\n",
    "for band in all_bands:\n",
    "    tb[band] = t[t[\"band\"] == band]"
   ]
  },
  {
   "cell_type": "code",
   "execution_count": null,
   "id": "ad186f3e-1e59-4eaa-b549-f7120dfef747",
   "metadata": {
    "execution": {
     "iopub.execute_input": "2025-06-07T20:24:13.707546Z",
     "iopub.status.busy": "2025-06-07T20:24:13.707412Z",
     "iopub.status.idle": "2025-06-07T20:24:13.731239Z",
     "shell.execute_reply": "2025-06-07T20:24:13.730848Z",
     "shell.execute_reply.started": "2025-06-07T20:24:13.707534Z"
    }
   },
   "outputs": [],
   "source": [
    "tb['g'].columns"
   ]
  },
  {
   "cell_type": "markdown",
   "id": "cdbb432f-01d0-4dae-aaa0-a79d6131c6f5",
   "metadata": {},
   "source": [
    "## Plot all light curves "
   ]
  },
  {
   "cell_type": "code",
   "execution_count": null,
   "id": "08022c24-e001-4ad4-8744-d6d91eafb689",
   "metadata": {
    "execution": {
     "iopub.execute_input": "2025-06-07T20:24:13.731756Z",
     "iopub.status.busy": "2025-06-07T20:24:13.731634Z",
     "iopub.status.idle": "2025-06-07T20:24:15.262484Z",
     "shell.execute_reply": "2025-06-07T20:24:15.262050Z",
     "shell.execute_reply.started": "2025-06-07T20:24:13.731744Z"
    }
   },
   "outputs": [],
   "source": [
    "#plotLightCurvesSeparatedBands(tb,target_title,subtitle,figname1)\n",
    "stats_df_agn = plotLightCurvesSeparatedBandsWithErrors(tb,target_title,subtitle, 0.5 ,figname1)"
   ]
  },
  {
   "cell_type": "code",
   "execution_count": null,
   "id": "6584c8cb-d9f3-498e-a3b1-d05ccf295931",
   "metadata": {
    "execution": {
     "iopub.execute_input": "2025-06-07T20:24:15.263192Z",
     "iopub.status.busy": "2025-06-07T20:24:15.263044Z",
     "iopub.status.idle": "2025-06-07T20:28:46.149434Z",
     "shell.execute_reply": "2025-06-07T20:28:46.148933Z",
     "shell.execute_reply.started": "2025-06-07T20:24:15.263178Z"
    }
   },
   "outputs": [],
   "source": [
    "# list of statistic info for each AGN Light Curves\n",
    "all_stats_df_agn = []\n",
    "\n",
    "for key, row in df.iterrows():\n",
    "    # specify the target parameters\n",
    "    the_target = row\n",
    "    target_ra = the_target[\"ra\"]\n",
    "    target_dec = the_target[\"dec\"]\n",
    "    target_name = the_target[\"field_name\"]\n",
    "    target_title =  the_target[\"field_name\"] +  f\" (ra,dec) = ({target_ra:.2f},{target_dec:.2f}) \"\n",
    "    target_point = SpherePoint(target_ra, target_dec, degrees)\n",
    "    target_coord = SkyCoord(ra=target_ra*u.deg, dec=target_dec*u.deg)\n",
    "\n",
    "\n",
    "    # fint the Tract and Patch \n",
    "    # 4. Trouver dans quel tract/patch se trouve la coordonnée\n",
    "    tract_info = skymap.findTract(target_point)\n",
    "    patch_info = tract_info.findPatch(target_point)\n",
    "    tractNbSel = tract_info.getId()\n",
    "    patchNbSel =  patch_info.getSequentialIndex()\n",
    "    where_clause = f\"skymap = '{skymapName}' AND tract = {tractNbSel} AND patch = {patchNbSel}\"\n",
    "    print(\"where_clause\",where_clause)\n",
    "\n",
    "\n",
    "    # Find the objects in that Tract Patch\n",
    "    datasettype = 'objectTable'\n",
    "    subtitle = collectionStr + \"_\" + datasettype\n",
    "\n",
    "    # get all objects\n",
    "    closest_obj, sepMin, nearby_obj = RetrieveDRPObject_forTarget(butler,target_coord,datasettype,where_clause)\n",
    "    closed_obj_cleaned = closest_obj.dropna(axis=1,how='all')\n",
    "    closed_obj_cleaned.reset_index(level=0, inplace=True)\n",
    "    objectId_selected = closed_obj_cleaned.objectId.values[0]\n",
    "    #print(closed_obj_cleaned)\n",
    "\n",
    "\n",
    "    # plot separation angle\n",
    "    if 1:\n",
    "        fig, ax = plt.subplots(1,1,figsize=(12,4))\n",
    "        nearby_obj[\"sep\"].hist(bins=50,ax=ax,facecolor=\"b\")\n",
    "        closest_obj[\"sep\"].hist(bins=50,range=(0,50),ax=ax,facecolor=\"r\")\n",
    "        ax.set_yscale(\"log\")\n",
    "        ax.set_title(\"object separation angle : \" + target_title)\n",
    "        ax.set_xlabel(\"separation angle (arcsec)\")\n",
    "        plt.show()\n",
    "\n",
    "    # get sources\n",
    "    datasettype =  'forcedSourceTable'\n",
    "    subtitle = collectionStr + \"_\" + datasettype\n",
    "    fsrc_fromselectedobject = RetrieveForcedSources_forTarget(butler,objectId_selected,datasettype,where_clause)\n",
    "    # simple renaming\n",
    "    t = fsrc_fromselectedobject\n",
    "\n",
    "    # more computations in the dataframe\n",
    "    t[\"dateobs\"] = t.apply(lambda x: x['visit']//100_000, axis=1)\n",
    "    t[\"seq\"] = t[\"visit\"] - t[\"dateobs\"]*100_000\n",
    "\n",
    "    # magnitudes and errors\n",
    "    #t[\"mags\"] = t[\"psfFlux\"].apply(lambda flux : -2.5 * np.log10(flux) + 31.4)\n",
    "    t[\"mags\"] = t[\"psfFlux\"].apply(nJy_to_ab_mag)\n",
    "    t[\"magerr\"] = nJy_err_to_ab_err(t[\"psfFlux\"], t[\"psfFluxErr\"])                               \n",
    "    t[\"valid\"] = (t[\"psfFlux\"] >0) & (~t[\"psfFlux_flag\"])\n",
    "    visit_list = t[\"visit\"].astype(int)\n",
    "    Nvisit = len(visit_list)\n",
    "\n",
    "    # fetch visits to know which is observation time\n",
    "    df_times = FetchTimesForVisits(visit_list)\n",
    "\n",
    "    # add information from visit\n",
    "    t[\"mjd\"] = t[\"visit\"].apply(lambda x: df_times.loc[x][\"mjd\"])\n",
    "    t[\"isot\"] = t[\"visit\"].apply(lambda x: df_times.loc[x][\"isot\"])\n",
    "    t[\"airmass\"] = t[\"visit\"].apply(lambda x: df_times.loc[x][\"airmass\"])\n",
    "    t[\"azimuth\"] = t[\"visit\"].apply(lambda x: df_times.loc[x][\"azimuth\"])\n",
    "\n",
    "    # slit in different bands\n",
    "    tb = {}\n",
    "    for band in all_bands:\n",
    "        tb[band] = t[t[\"band\"] == band]\n",
    "    \n",
    "\n",
    "    figname1 = f\"agn_{target_name}_{datasettype}_v1.png\"\n",
    "    figname2 = f\"agn_{target_name}_{datasettype}_v2.png\"\n",
    "\n",
    "    # plot all light curves and get statistics\n",
    "    stats_df_agn = plotLightCurvesSeparatedBandsWithErrors(tb,target_title,subtitle, 0.5 ,figname1)\n",
    "\n",
    "    all_stats_df_agn.append( stats_df_agn)\n",
    "\n",
    " \n",
    "    "
   ]
  },
  {
   "cell_type": "markdown",
   "id": "4e7b2f66-4952-42fc-bc78-5d67bec2fc6c",
   "metadata": {},
   "source": [
    "## Plot light curves Resolution"
   ]
  },
  {
   "cell_type": "code",
   "execution_count": null,
   "id": "dca453ad-33da-48f6-98af-2f1fe0950a52",
   "metadata": {
    "execution": {
     "iopub.execute_input": "2025-06-07T20:28:46.150127Z",
     "iopub.status.busy": "2025-06-07T20:28:46.149979Z",
     "iopub.status.idle": "2025-06-07T20:28:46.154213Z",
     "shell.execute_reply": "2025-06-07T20:28:46.153784Z",
     "shell.execute_reply.started": "2025-06-07T20:28:46.150112Z"
    }
   },
   "outputs": [],
   "source": [
    "df_stat = pd.concat(all_stats_df_agn)\n",
    "df_stat = df_stat.reset_index()"
   ]
  },
  {
   "cell_type": "code",
   "execution_count": null,
   "id": "89d72f76-460d-4ea3-81e9-5df299d5f1ee",
   "metadata": {
    "execution": {
     "iopub.execute_input": "2025-06-07T20:28:46.154804Z",
     "iopub.status.busy": "2025-06-07T20:28:46.154667Z",
     "iopub.status.idle": "2025-06-07T20:28:47.392650Z",
     "shell.execute_reply": "2025-06-07T20:28:47.392160Z",
     "shell.execute_reply.started": "2025-06-07T20:28:46.154791Z"
    }
   },
   "outputs": [],
   "source": [
    "# Plot : FacetGrid avec seaborn\n",
    "sns.set(style=\"whitegrid\")\n",
    "\n",
    "g = sns.FacetGrid(df_stat, col=\"band\", col_wrap=3, height=4, sharex=True, sharey=False)\n",
    "#g.map_dataframe(sns.scatterplot, x=\"median\", y=\"sigma\", color=\"k\",alpha=1.0)\n",
    "g.map_dataframe(sns.scatterplot, x=\"median\", y=\"sigma\", hue=\"band\", palette=all_bands_palette, alpha=1.0)\n",
    "g.add_legend()\n",
    "\n",
    "\n",
    "g.set_axis_labels(\"PSF Magnitude (mag)\", \"Standard deviation (mag)\")\n",
    "g.fig.suptitle(\"Light curves in LSSTComCam-ECDFS : σ vs magnitude per band\", fontsize=16)\n",
    "g.fig.tight_layout()\n",
    "g.fig.subplots_adjust(top=0.92)\n",
    "plt.show()"
   ]
  },
  {
   "cell_type": "markdown",
   "id": "f27434f8-e3f7-43cf-9efd-00d1e5ab0001",
   "metadata": {},
   "source": [
    "### Point source resolution"
   ]
  },
  {
   "cell_type": "code",
   "execution_count": null,
   "id": "97b8fc96-85ce-4669-af02-250e1339cb6f",
   "metadata": {
    "execution": {
     "iopub.execute_input": "2025-06-07T20:31:00.111857Z",
     "iopub.status.busy": "2025-06-07T20:31:00.111633Z",
     "iopub.status.idle": "2025-06-07T20:31:00.152958Z",
     "shell.execute_reply": "2025-06-07T20:31:00.152427Z",
     "shell.execute_reply.started": "2025-06-07T20:31:00.111842Z"
    }
   },
   "outputs": [],
   "source": [
    "inputdir = \"./data_2025-05-30-Visits\"\n",
    "inputfile_lightcurves_reso = f\"lightcurves_reso_t{TRACTSEL}_p{PATCHSEL}_magcutg{MAGCUTONSTARS}_magpsfFluxMag.csv\"\n",
    "combined_df = pd.read_csv(os.path.join(inputdir,inputfile_lightcurves_reso))"
   ]
  },
  {
   "cell_type": "code",
   "execution_count": null,
   "id": "07831fcf-de6c-407c-b08a-d8cdb16b272e",
   "metadata": {
    "execution": {
     "iopub.execute_input": "2025-06-07T20:36:29.272332Z",
     "iopub.status.busy": "2025-06-07T20:36:29.272091Z",
     "iopub.status.idle": "2025-06-07T20:36:31.048102Z",
     "shell.execute_reply": "2025-06-07T20:36:31.047533Z",
     "shell.execute_reply.started": "2025-06-07T20:36:29.272316Z"
    }
   },
   "outputs": [],
   "source": [
    "import numpy as np\n",
    "import pandas as pd\n",
    "import seaborn as sns\n",
    "import matplotlib.pyplot as plt\n",
    "from astropy.stats import sigma_clip\n",
    "from scipy.optimize import curve_fit\n",
    "\n",
    "# Fonction modèle Rubin-LSST\n",
    "def sigma_model(mag, m5, gamma):\n",
    "    x = 10 ** (0.4 * (mag - m5))\n",
    "    return np.sqrt((0.04 - gamma) * x + gamma * x**2)\n",
    "\n",
    "# Liste des bandes\n",
    "bands = combined_df[\"band\"].unique()\n",
    "all_fit_preds = []\n",
    "fit_results = []\n",
    "\n",
    "for band in bands:\n",
    "    df_band = combined_df[combined_df[\"band\"] == band]\n",
    "    mags = df_band[\"median\"].values\n",
    "    sigmas = df_band[\"sigma\"].values\n",
    "\n",
    "    # Nettoyage et clipping\n",
    "    mask = (sigmas > 0) & np.isfinite(mags)\n",
    "    mags = mags[mask]\n",
    "    sigmas = sigmas[mask]\n",
    "    clipped = sigma_clip(sigmas, sigma=3, maxiters=5)\n",
    "    mags = mags[~clipped.mask]\n",
    "    sigmas = sigmas[~clipped.mask]\n",
    "\n",
    "    try:\n",
    "        popt, _ = curve_fit(sigma_model, mags, sigmas, p0=[24.0, 0.039], bounds=([20, 0.01], [28, 0.1]))\n",
    "        m5_fit, gamma_fit = popt\n",
    "        \n",
    "        fit_results.append({\"band\": band, \"m5\": m5_fit, \"gamma\": gamma_fit})\n",
    "\n",
    "        # Courbe lissée pour superposition\n",
    "        xfit = np.linspace(mags.min() - 0.2, mags.max() + 0.2, 100)\n",
    "        yfit = sigma_model(xfit, m5_fit, gamma_fit)\n",
    "        df_pred = pd.DataFrame({\n",
    "            \"median\": xfit,\n",
    "            \"sigma_fit\": yfit,\n",
    "            \"band\": band\n",
    "        })\n",
    "        all_fit_preds.append(df_pred)\n",
    "\n",
    "    except RuntimeError:\n",
    "        print(f\"Fit échoué pour {band}\")\n",
    "\n",
    "# Combiner les prédictions\n",
    "fit_predictions_df = pd.concat(all_fit_preds, ignore_index=True)\n",
    "\n",
    "# Plot : FacetGrid avec seaborn\n",
    "sns.set(style=\"whitegrid\")\n",
    "\n",
    "g = sns.FacetGrid(combined_df, col=\"band\", col_wrap=3, height=4, sharex=True, sharey=True)\n",
    "g.map_dataframe(sns.scatterplot, x=\"median\", y=\"sigma\", color=\"k\",alpha=1.0,s=20)\n",
    "\n",
    "#g = sns.FacetGrid(df, col=\"band\", col_wrap=3, height=4, sharex=False, sharey=True)\n",
    "#g.map_dataframe(sns.scatterplot, x=\"median\", y=\"sigma\", hue=\"band\", palette=all_bands_palette, alpha=1.0)\n",
    "\n",
    "# Superposer les courbes de fit\n",
    "count = 0\n",
    "for ax, band in zip(g.axes.flat, bands):\n",
    "    pred = fit_predictions_df[fit_predictions_df[\"band\"] == band]\n",
    "    ax.plot(pred[\"median\"], pred[\"sigma_fit\"], color=all_bands_colors[count],lw=2)\n",
    "\n",
    "    # Récupérer les paramètres ajustés pour cette bande\n",
    "    row = next((r for r in fit_results if r[\"band\"] == band), None)\n",
    "    if row:\n",
    "        label = f\"m₅ = {row['m5']:.2f}, γ = {row['gamma']:.3f}\"\n",
    "        ax.legend([label])\n",
    "  \n",
    "        \n",
    "    df_agn = df_stat[df_stat[\"band\"] == band]\n",
    "    sns.scatterplot(data=df_agn, x=\"median\", y=\"sigma\", ax=ax,marker=\"o\", s=80,color=all_bands_colors[count])\n",
    "        \n",
    "    \n",
    "    ax.set_ylim(0, 2)\n",
    "    ax.set_yscale(\"log\")\n",
    "    count +=1\n",
    "\n",
    "g.set_axis_labels(\"PSF Magnitude (mag)\", \"Standard deviation (mag)\")\n",
    "g.fig.suptitle(\"Light curves in LSSTComCam-ECDFS : σ vs magnitude per band\", fontsize=16)\n",
    "g.fig.tight_layout()\n",
    "g.fig.subplots_adjust(top=0.92)\n",
    "plt.show()\n"
   ]
  },
  {
   "cell_type": "code",
   "execution_count": null,
   "id": "d60ecf83-be41-4784-836d-5e955126671a",
   "metadata": {},
   "outputs": [],
   "source": []
  }
 ],
 "metadata": {
  "kernelspec": {
   "display_name": "LSST",
   "language": "python",
   "name": "lsst"
  },
  "language_info": {
   "codemirror_mode": {
    "name": "ipython",
    "version": 3
   },
   "file_extension": ".py",
   "mimetype": "text/x-python",
   "name": "python",
   "nbconvert_exporter": "python",
   "pygments_lexer": "ipython3",
   "version": "3.12.10"
  }
 },
 "nbformat": 4,
 "nbformat_minor": 5
}
