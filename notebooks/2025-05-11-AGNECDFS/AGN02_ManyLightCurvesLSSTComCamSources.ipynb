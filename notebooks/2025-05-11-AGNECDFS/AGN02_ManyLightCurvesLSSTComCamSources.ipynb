{
 "cells": [
  {
   "cell_type": "markdown",
   "id": "8f3da262-37ed-407f-908c-8ac5a52cb4db",
   "metadata": {},
   "source": [
    "# Search for AGN in the Extended Chandra Deep Field South and show their Light Curves\n",
    "\n",
    "- Confluence page : https://rubinobs.atlassian.net/wiki/spaces/LSSTCOM/pages/372867091/System-level+Science+Performance+Verification+Sprint\n",
    "- slides : https://docs.google.com/presentation/d/1bPjS5NGtiEL2lfjmvP1UYdG_tMEDfZxX26ayhf7MhtY/edit#slide=id.ga2f7fb1a1f_0_70"
   ]
  },
  {
   "cell_type": "markdown",
   "id": "f3737976-eab8-4483-a79d-796f738c4f22",
   "metadata": {},
   "source": [
    "- where to find the campains\n",
    "- https://rubinobs.atlassian.net/wiki/spaces/DM/pages/226656354/LSSTComCam+Intermittent+Cumulative+DRP+Runs\n",
    "\n",
    "- plot Navigator\n",
    "- https://usdf-rsp.slac.stanford.edu/plot-navigator\n",
    "- https://usdf-rsp.slac.stanford.edu/plot-navigator/plot/%2Frepo%2Fmain/LSSTComCam%2Fruns%2FDRP%2FDP1%2Fw_2025_05%2FDM-48666/objectTableCore_coaddInputCount_SkyPlot"
   ]
  },
  {
   "cell_type": "markdown",
   "id": "53b4594d-5de5-4fa1-8ada-f60f0018cac5",
   "metadata": {},
   "source": [
    "- Notebooks examples\n",
    "- https://github.com/lsst-dm/DMTR-401/blob/main/notebooks/test_LVV-T40_T1240.ipynb\n",
    "- https://github.com/lsst-dm/DMTR-412/blob/tickets/DM-38728/notebooks/test_LVV-T1751_AM1_AM2.ipynb"
   ]
  },
  {
   "cell_type": "markdown",
   "id": "8402aac4-562a-40cd-ac2b-c1ca76cae55b",
   "metadata": {},
   "source": [
    "- author : Sylvie Dagoret-Campagne\n",
    "- creation date : 2025-05-11\n",
    "- last update : 2025-05-11\n",
    "- Redo Visits like here : https://github.com/sylvielsstfr/LSST-Rehearsal2024/blob/main/notebooks/Visits/stat_on_visits_LSSTComCamSim.ipynb\n",
    "- To find what I did on LSSTComCamSim : https://github.com/sylvielsstfr/LSST-Rehearsal2024/blob/main/notebooks/LightCurves/MultiColor_lightCurves-DMRehearsal2024_01-AuxTel-DZPOnCCD.ipynb\n",
    "- **Confluence page** : https://rubinobs.atlassian.net/wiki/spaces/LSSTCOM/pages/443613290/Science+Verification+Sprint+Feb+2025\n"
   ]
  },
  {
   "cell_type": "code",
   "execution_count": null,
   "id": "9d583412-a5a0-456e-84be-1fb658ddf016",
   "metadata": {
    "execution": {
     "iopub.execute_input": "2025-05-11T16:19:22.300866Z",
     "iopub.status.busy": "2025-05-11T16:19:22.300745Z",
     "iopub.status.idle": "2025-05-11T16:19:23.717082Z",
     "shell.execute_reply": "2025-05-11T16:19:23.716497Z",
     "shell.execute_reply.started": "2025-05-11T16:19:22.300852Z"
    }
   },
   "outputs": [],
   "source": [
    "# Confirm that the version of the Science Pipelines is recent:\n",
    "! echo $HOSTNAME\n",
    "! eups list -s | grep lsst_distrib"
   ]
  },
  {
   "cell_type": "code",
   "execution_count": null,
   "id": "8fbb9671-7d8e-4724-8c58-0f0a4fb9e5f0",
   "metadata": {
    "execution": {
     "iopub.execute_input": "2025-05-11T16:19:23.719573Z",
     "iopub.status.busy": "2025-05-11T16:19:23.719262Z",
     "iopub.status.idle": "2025-05-11T16:19:25.049641Z",
     "shell.execute_reply": "2025-05-11T16:19:25.049134Z",
     "shell.execute_reply.started": "2025-05-11T16:19:23.719553Z"
    }
   },
   "outputs": [],
   "source": [
    "from lsst.daf.butler import Butler\n",
    "import lsst.geom as geom\n",
    "from lsst.geom import SpherePoint, degrees\n",
    "import lsst.afw.display as afwDisplay"
   ]
  },
  {
   "cell_type": "code",
   "execution_count": null,
   "id": "8983f25c-dadf-434b-bb84-e24a3150f766",
   "metadata": {
    "execution": {
     "iopub.execute_input": "2025-05-11T16:19:25.051917Z",
     "iopub.status.busy": "2025-05-11T16:19:25.051785Z",
     "iopub.status.idle": "2025-05-11T16:19:25.109563Z",
     "shell.execute_reply": "2025-05-11T16:19:25.109132Z",
     "shell.execute_reply.started": "2025-05-11T16:19:25.051903Z"
    }
   },
   "outputs": [],
   "source": [
    "afwDisplay.setDefaultBackend(\"firefly\")"
   ]
  },
  {
   "cell_type": "code",
   "execution_count": null,
   "id": "e814e3d6-750c-4e7f-a9a5-5bf1e2f7205f",
   "metadata": {
    "execution": {
     "iopub.execute_input": "2025-05-11T16:19:25.110596Z",
     "iopub.status.busy": "2025-05-11T16:19:25.110067Z",
     "iopub.status.idle": "2025-05-11T16:19:26.427030Z",
     "shell.execute_reply": "2025-05-11T16:19:26.426525Z",
     "shell.execute_reply.started": "2025-05-11T16:19:25.110579Z"
    }
   },
   "outputs": [],
   "source": [
    "import os\n",
    "import gc\n",
    "import glob\n",
    "import numpy as np\n",
    "import pandas as pd\n",
    "import random\n",
    "\n",
    "import astropy.units as u\n",
    "from astropy.coordinates import SkyCoord\n",
    "from astroquery.gaia import Gaia\n",
    "Gaia.MAIN_GAIA_TABLE = \"gaiadr3.gaia_source\"  # Reselect Data Release 3, default\n",
    "Gaia.ROW_LIMIT = 100000\n",
    "from astropy.visualization import (MinMaxInterval, AsinhStretch, ZScaleInterval, LogStretch, LinearStretch,\n",
    "                                   ImageNormalize)"
   ]
  },
  {
   "cell_type": "code",
   "execution_count": null,
   "id": "e68df967-7870-47da-a4dd-760df6732aa5",
   "metadata": {
    "execution": {
     "iopub.execute_input": "2025-05-11T16:19:26.427914Z",
     "iopub.status.busy": "2025-05-11T16:19:26.427570Z",
     "iopub.status.idle": "2025-05-11T16:19:27.134526Z",
     "shell.execute_reply": "2025-05-11T16:19:27.134014Z",
     "shell.execute_reply.started": "2025-05-11T16:19:26.427899Z"
    }
   },
   "outputs": [],
   "source": [
    "import seaborn as sns\n",
    "from itertools import cycle, islice"
   ]
  },
  {
   "cell_type": "code",
   "execution_count": null,
   "id": "f385c649-efb6-40a8-b9f7-ebc65c441a04",
   "metadata": {
    "execution": {
     "iopub.execute_input": "2025-05-11T16:19:27.135350Z",
     "iopub.status.busy": "2025-05-11T16:19:27.135096Z",
     "iopub.status.idle": "2025-05-11T16:19:27.137966Z",
     "shell.execute_reply": "2025-05-11T16:19:27.137533Z",
     "shell.execute_reply.started": "2025-05-11T16:19:27.135336Z"
    }
   },
   "outputs": [],
   "source": [
    "from astropy.time import Time\n",
    "from datetime import datetime, timedelta"
   ]
  },
  {
   "cell_type": "code",
   "execution_count": null,
   "id": "46c68d72-750b-4bb9-b92a-1fe6e1728171",
   "metadata": {
    "execution": {
     "iopub.execute_input": "2025-05-11T16:19:27.138587Z",
     "iopub.status.busy": "2025-05-11T16:19:27.138451Z",
     "iopub.status.idle": "2025-05-11T16:19:27.151183Z",
     "shell.execute_reply": "2025-05-11T16:19:27.150808Z",
     "shell.execute_reply.started": "2025-05-11T16:19:27.138575Z"
    }
   },
   "outputs": [],
   "source": [
    "import lsst\n",
    "import lsst.geom as geom\n",
    "from lsst.geom import Angle\n",
    "from lsst.geom import SpherePoint\n",
    "from lsst.geom import AngleUnit"
   ]
  },
  {
   "cell_type": "code",
   "execution_count": null,
   "id": "224cf803-f7cc-4e49-9dc9-46779557286e",
   "metadata": {
    "execution": {
     "iopub.execute_input": "2025-05-11T16:19:27.151827Z",
     "iopub.status.busy": "2025-05-11T16:19:27.151679Z",
     "iopub.status.idle": "2025-05-11T16:19:27.160823Z",
     "shell.execute_reply": "2025-05-11T16:19:27.160351Z",
     "shell.execute_reply.started": "2025-05-11T16:19:27.151815Z"
    }
   },
   "outputs": [],
   "source": [
    "def find_tract_patch_and_display(butler, skymap,ra_deg, dec_deg, band, framecount):\n",
    "    \"\"\"\n",
    "    - butler\n",
    "    - skymap\n",
    "    - ra_deg, dec_deg : source\n",
    "    - band\n",
    "    - framecount\n",
    "    \"\"\"\n",
    "    # Ouvrir le dépôt\n",
    "    #butler = Butler(repo)\n",
    "    #skymap = butler.get(\"skyMap\")\n",
    "    band_to_color = {\"u\":\"blue\",\"g\":\"green\",\"r\":\"red\",\"i\":\"orange\",\"z\":\"yellow\",\"y\":\"purple\"}\n",
    "\n",
    "    datasettype = \"objectTable_tract\"\n",
    "    therefs = butler.registry.queryDatasets(datasettype,  collections=collection)\n",
    "\n",
    "    # Créer le point céleste\n",
    "    coord = SpherePoint(ra_deg * degrees, dec_deg * degrees)\n",
    "\n",
    "\n",
    "    found = False\n",
    "    # loop only on existing tracts\n",
    "    \n",
    "    for ref in therefs:\n",
    "        tract_id = ref.dataId[\"tract\"]\n",
    "        tractInfo = skymap[tract_id]\n",
    "        if tractInfo.contains(coord):\n",
    "            patchInfo = tractInfo.findPatch(coord)\n",
    "            patch_id = patchInfo.getIndex()  # Tuple (x, y)\n",
    "            patch_indexseq = patchInfo.getSequentialIndex()\n",
    "            print(f\"Tract: {tract_id}, Patch: {patch_indexseq}\")\n",
    "            found = True\n",
    "            break\n",
    "    # Charger l’image coadd correspondante\n",
    "    dataId = {\"tract\": tract_id, \"patch\": patch_indexseq, \"band\": band,\"skymap\": skymapName}\n",
    "    #deepCoadd_calexp\n",
    "    coadd = butler.get(\"deepCoadd_calexp\", dataId)\n",
    "    # Récupération du WCS\n",
    "    wcs = coadd.getWcs()\n",
    "\n",
    "    datatitle = f\"deepcoadd-LSSTComCam : {tract_id} , {patch_indexseq} , {band}\"\n",
    "    print(datatitle)\n",
    "\n",
    "    # Affichage avec marqueur\n",
    "    \n",
    "    display = afwDisplay.Display(frame = framecount)\n",
    "    display.scale('asinh', 'zscale')\n",
    "    #afw_display.scale('linear', min=zmin, max=zmax)\n",
    "    #display.setImageColormap(cmap='grey')\n",
    "    display.setImageColormap(cmap='Grey_r')\n",
    "    display.mtv(coadd.getImage(),title=datatitle)\n",
    "\n",
    "    # Création du point céleste\n",
    "    pix_point = wcs.skyToPixel(coord)\n",
    "    x, y = pix_point.x,pix_point.y\n",
    "    \n",
    "    col = band_to_color[band] \n",
    "    display.dot(\"+\", x, y, size=50, ctype=col)\n",
    "    \n",
    "\n",
    "    \n",
    "    return tract_id, patch_indexseq, band"
   ]
  },
  {
   "cell_type": "code",
   "execution_count": null,
   "id": "2bbb53e9-e293-4ea7-ae47-c78930ce5d93",
   "metadata": {
    "execution": {
     "iopub.execute_input": "2025-05-11T16:19:27.161362Z",
     "iopub.status.busy": "2025-05-11T16:19:27.161238Z",
     "iopub.status.idle": "2025-05-11T16:19:27.175383Z",
     "shell.execute_reply": "2025-05-11T16:19:27.174952Z",
     "shell.execute_reply.started": "2025-05-11T16:19:27.161350Z"
    }
   },
   "outputs": [],
   "source": [
    "# https://pipelines.lsst.io/modules/lsst.geom/getting-started.html\n",
    "func_degToRad = lambda x : Angle(x,lsst.geom.degrees).asRadians()"
   ]
  },
  {
   "cell_type": "code",
   "execution_count": null,
   "id": "5af15c53-1d3f-42ee-81d8-508a2daa56c0",
   "metadata": {
    "execution": {
     "iopub.execute_input": "2025-05-11T16:19:27.176006Z",
     "iopub.status.busy": "2025-05-11T16:19:27.175875Z",
     "iopub.status.idle": "2025-05-11T16:19:27.198269Z",
     "shell.execute_reply": "2025-05-11T16:19:27.197816Z",
     "shell.execute_reply.started": "2025-05-11T16:19:27.175994Z"
    }
   },
   "outputs": [],
   "source": [
    "# Set plotting defaults\n",
    "%matplotlib inline\n",
    "import matplotlib.pyplot as plt\n",
    "from matplotlib.ticker import FormatStrFormatter\n",
    "from matplotlib.colors import ListedColormap\n",
    "from matplotlib import colors\n",
    "zscale = ZScaleInterval()\n",
    "\n",
    "# Set up some plotting defaults:\n",
    "plt.rcParams.update({'figure.figsize' : (12, 8)})\n",
    "plt.rcParams.update({'font.size' : 24})\n",
    "plt.rcParams.update({'axes.linewidth' : 3})\n",
    "plt.rcParams.update({'axes.labelweight' : 3})\n",
    "plt.rcParams.update({'axes.titleweight' : 5})\n",
    "plt.rcParams.update({'ytick.major.width' : 3})\n",
    "plt.rcParams.update({'ytick.minor.width' : 2})\n",
    "plt.rcParams.update({'ytick.major.size' : 8})\n",
    "plt.rcParams.update({'ytick.minor.size' : 5})\n",
    "plt.rcParams.update({'xtick.major.size' : 8})\n",
    "plt.rcParams.update({'xtick.minor.size' : 5})\n",
    "plt.rcParams.update({'xtick.major.width' : 3})\n",
    "plt.rcParams.update({'xtick.minor.width' : 2})\n",
    "plt.rcParams.update({'xtick.direction' : 'in'})\n",
    "plt.rcParams.update({'ytick.direction' : 'in'})\n"
   ]
  },
  {
   "cell_type": "code",
   "execution_count": null,
   "id": "8f02d7f7-cc18-4191-beb4-ad890c13b967",
   "metadata": {
    "execution": {
     "iopub.execute_input": "2025-05-11T16:19:27.198899Z",
     "iopub.status.busy": "2025-05-11T16:19:27.198766Z",
     "iopub.status.idle": "2025-05-11T16:19:27.202135Z",
     "shell.execute_reply": "2025-05-11T16:19:27.201705Z",
     "shell.execute_reply.started": "2025-05-11T16:19:27.198886Z"
    }
   },
   "outputs": [],
   "source": [
    "def nJy_to_ab_mag(f_njy):\n",
    "    \"\"\"Convert scalar or array flux in nJy to AB magnitude.\"\"\"\n",
    "    f_njy = np.asarray(f_njy)\n",
    "    mag = np.full_like(f_njy, fill_value=np.nan, dtype=float)\n",
    "    mask = f_njy > 0\n",
    "    mag[mask] = -2.5 * np.log10(f_njy[mask]) + 31.4\n",
    "    return mag\n",
    "\n",
    "\n",
    "def nJy_err_to_ab_err(f_njy, f_err):\n",
    "    \"\"\"Propagate flux error to magnitude error.\"\"\"\n",
    "    f_njy = np.asarray(f_njy)\n",
    "    f_err = np.asarray(f_err)\n",
    "    mag_err = np.full_like(f_njy, fill_value=np.nan, dtype=float)\n",
    "    mask = (f_njy > 0) & (f_err > 0)\n",
    "    mag_err[mask] = (2.5 / np.log(10)) * (f_err[mask] / f_njy[mask])\n",
    "    return mag_err\n"
   ]
  },
  {
   "cell_type": "code",
   "execution_count": null,
   "id": "88da0b26-88ce-41f8-b5b6-caf1c2d7afe0",
   "metadata": {
    "execution": {
     "iopub.execute_input": "2025-05-11T16:19:27.202707Z",
     "iopub.status.busy": "2025-05-11T16:19:27.202575Z",
     "iopub.status.idle": "2025-05-11T16:19:27.211478Z",
     "shell.execute_reply": "2025-05-11T16:19:27.211057Z",
     "shell.execute_reply.started": "2025-05-11T16:19:27.202687Z"
    }
   },
   "outputs": [],
   "source": [
    "def ab_mag_to_nJy(mag_ab):\n",
    "    \"\"\"Convert AB magnitude to flux in nanojanskys.\"\"\"\n",
    "    return 10 ** ((31.4 - mag_ab) / 2.5)\n"
   ]
  },
  {
   "cell_type": "markdown",
   "id": "a3f04297-3975-4baa-9e7f-146cd717904c",
   "metadata": {},
   "source": [
    "## 1) Build the table of AGN from the Vizier Catalog"
   ]
  },
  {
   "cell_type": "code",
   "execution_count": null,
   "id": "fdd48e59-d068-4c3c-a5f9-1c277959c9a1",
   "metadata": {
    "execution": {
     "iopub.execute_input": "2025-05-11T16:19:27.212025Z",
     "iopub.status.busy": "2025-05-11T16:19:27.211899Z",
     "iopub.status.idle": "2025-05-11T16:19:27.316074Z",
     "shell.execute_reply": "2025-05-11T16:19:27.315576Z",
     "shell.execute_reply.started": "2025-05-11T16:19:27.212013Z"
    }
   },
   "outputs": [],
   "source": [
    "from astroquery.vizier import Vizier\n",
    "from astropy.coordinates import SkyCoord\n",
    "import astropy.units as u"
   ]
  },
  {
   "cell_type": "code",
   "execution_count": null,
   "id": "ffc9c099-0200-4a2f-aea6-98e0369c4c6c",
   "metadata": {
    "execution": {
     "iopub.execute_input": "2025-05-11T16:19:27.316731Z",
     "iopub.status.busy": "2025-05-11T16:19:27.316591Z",
     "iopub.status.idle": "2025-05-11T16:19:27.319131Z",
     "shell.execute_reply": "2025-05-11T16:19:27.318706Z",
     "shell.execute_reply.started": "2025-05-11T16:19:27.316718Z"
    }
   },
   "outputs": [],
   "source": [
    "ECDFS_RA = 53.1\n",
    "ECDFS_DEC = -27.8\n",
    "ECDFS_COORD = SpherePoint(ECDFS_RA, ECDFS_DEC , degrees)"
   ]
  },
  {
   "cell_type": "code",
   "execution_count": null,
   "id": "4a3e4c07-1570-4588-976a-678132c11b09",
   "metadata": {
    "execution": {
     "iopub.execute_input": "2025-05-11T16:19:27.319901Z",
     "iopub.status.busy": "2025-05-11T16:19:27.319629Z",
     "iopub.status.idle": "2025-05-11T16:19:27.364263Z",
     "shell.execute_reply": "2025-05-11T16:19:27.363782Z",
     "shell.execute_reply.started": "2025-05-11T16:19:27.319887Z"
    }
   },
   "outputs": [],
   "source": [
    "# Coordonnées approximatives du centre du E-CDFS\n",
    "coord = SkyCoord(ra=ECDFS_RA, dec = ECDFS_DEC, unit=(u.deg, u.deg), frame='icrs')\n",
    "radius = 15 * u.arcmin\n",
    "\n",
    "# Exemple avec le catalogue Luo+2017 (7Ms CDF-S)\n",
    "catalog_id = \"J/ApJS/228/2\"\n",
    "result = Vizier(columns=[\"*\"]).query_region(coord, radius=radius, catalog=catalog_id)"
   ]
  },
  {
   "cell_type": "code",
   "execution_count": null,
   "id": "474756e6-6c8d-444f-961c-a5dad8b43648",
   "metadata": {
    "execution": {
     "iopub.execute_input": "2025-05-11T16:19:27.364939Z",
     "iopub.status.busy": "2025-05-11T16:19:27.364803Z",
     "iopub.status.idle": "2025-05-11T16:19:27.367528Z",
     "shell.execute_reply": "2025-05-11T16:19:27.367086Z",
     "shell.execute_reply.started": "2025-05-11T16:19:27.364925Z"
    }
   },
   "outputs": [],
   "source": [
    "sources_table = result['J/ApJS/228/2/sources']\n",
    "print(sources_table.colnames)"
   ]
  },
  {
   "cell_type": "code",
   "execution_count": null,
   "id": "1eff963d-56d8-413c-bce5-a0d779c34e99",
   "metadata": {
    "execution": {
     "iopub.execute_input": "2025-05-11T16:19:27.368153Z",
     "iopub.status.busy": "2025-05-11T16:19:27.368021Z",
     "iopub.status.idle": "2025-05-11T16:19:27.380891Z",
     "shell.execute_reply": "2025-05-11T16:19:27.380302Z",
     "shell.execute_reply.started": "2025-05-11T16:19:27.368141Z"
    }
   },
   "outputs": [],
   "source": [
    "# On calcule le log10 de LX\n",
    "logLX = np.log10(sources_table['LX'])\n",
    "\n",
    "# Et on l'ajoute comme nouvelle colonne à la table\n",
    "sources_table['logLX'] = logLX\n",
    "\n",
    "# Attention au nom exact de la colonne\n",
    "logLX = sources_table['logLX']\n",
    "is_agn = logLX > 42\n",
    "\n",
    "is_agn = sources_table['logLX'] > 42  # AGN si LX > 10^42 erg/s\n",
    "agn_table = sources_table[is_agn]"
   ]
  },
  {
   "cell_type": "code",
   "execution_count": null,
   "id": "61a131d7-b7bd-4098-af0e-ff9019ffcb23",
   "metadata": {
    "execution": {
     "iopub.execute_input": "2025-05-11T16:19:27.381619Z",
     "iopub.status.busy": "2025-05-11T16:19:27.381478Z",
     "iopub.status.idle": "2025-05-11T16:19:27.390173Z",
     "shell.execute_reply": "2025-05-11T16:19:27.389798Z",
     "shell.execute_reply.started": "2025-05-11T16:19:27.381605Z"
    }
   },
   "outputs": [],
   "source": [
    "agn_table[['RAJ2000', 'DEJ2000', 'logLX', 'LX', 'zspec']].pprint(max_lines=10)"
   ]
  },
  {
   "cell_type": "code",
   "execution_count": null,
   "id": "e902b64e-1149-4f50-8cf1-b5720ed24da6",
   "metadata": {
    "execution": {
     "iopub.execute_input": "2025-05-11T16:19:27.390690Z",
     "iopub.status.busy": "2025-05-11T16:19:27.390566Z",
     "iopub.status.idle": "2025-05-11T16:19:27.404833Z",
     "shell.execute_reply": "2025-05-11T16:19:27.404422Z",
     "shell.execute_reply.started": "2025-05-11T16:19:27.390678Z"
    }
   },
   "outputs": [],
   "source": [
    "galaxy_table = sources_table[sources_table['OType'] == 'Galaxy']"
   ]
  },
  {
   "cell_type": "code",
   "execution_count": null,
   "id": "b1edfa51-80a6-4d65-944d-c33a505049a3",
   "metadata": {
    "execution": {
     "iopub.execute_input": "2025-05-11T16:19:27.405348Z",
     "iopub.status.busy": "2025-05-11T16:19:27.405226Z",
     "iopub.status.idle": "2025-05-11T16:19:27.417555Z",
     "shell.execute_reply": "2025-05-11T16:19:27.417129Z",
     "shell.execute_reply.started": "2025-05-11T16:19:27.405336Z"
    }
   },
   "outputs": [],
   "source": [
    "galaxy_table[['RAJ2000', 'DEJ2000', 'logLX', 'LX', 'zspec']].pprint(max_lines=10)"
   ]
  },
  {
   "cell_type": "markdown",
   "id": "24980f69-ddd5-4c6b-b868-9f3dad599620",
   "metadata": {},
   "source": [
    "## Plot info from AGN Vizier catalog"
   ]
  },
  {
   "cell_type": "code",
   "execution_count": null,
   "id": "80a3a4fe-38f7-45ea-a7fd-cff3a4670722",
   "metadata": {
    "execution": {
     "iopub.execute_input": "2025-05-11T16:19:27.418144Z",
     "iopub.status.busy": "2025-05-11T16:19:27.418013Z",
     "iopub.status.idle": "2025-05-11T16:19:27.444834Z",
     "shell.execute_reply": "2025-05-11T16:19:27.444405Z",
     "shell.execute_reply.started": "2025-05-11T16:19:27.418132Z"
    }
   },
   "outputs": [],
   "source": [
    "df_galaxy = galaxy_table.to_pandas()\n",
    "df_agn = agn_table.to_pandas()"
   ]
  },
  {
   "cell_type": "code",
   "execution_count": null,
   "id": "14b5093d-cb0e-4cf8-98b4-0c66ec615abf",
   "metadata": {
    "execution": {
     "iopub.execute_input": "2025-05-11T16:19:27.445425Z",
     "iopub.status.busy": "2025-05-11T16:19:27.445297Z",
     "iopub.status.idle": "2025-05-11T16:19:27.786915Z",
     "shell.execute_reply": "2025-05-11T16:19:27.786420Z",
     "shell.execute_reply.started": "2025-05-11T16:19:27.445413Z"
    }
   },
   "outputs": [],
   "source": [
    "plt.figure(figsize=(14,5))\n",
    "\n",
    "plt.subplot(1, 2, 1)\n",
    "plt.hist(df_agn['zspec'].values, bins=20, color='green', alpha=0.7)\n",
    "plt.xlabel(\"Redshift zspec\")\n",
    "plt.ylabel(\"Nombre de sources\")\n",
    "plt.title(\"Distribution en redshift\")\n",
    "\n",
    "plt.subplot(1, 2, 2)\n",
    "plt.hist(df_agn['logLX'].values, bins=20, color='orange', alpha=0.7)\n",
    "plt.xlabel(\"log(Lx) [erg/s]\")\n",
    "plt.ylabel(\"Nombre de sources\")\n",
    "plt.title(\"Distribution de la luminosité X\")\n",
    "\n",
    "plt.tight_layout()\n",
    "plt.show()\n"
   ]
  },
  {
   "cell_type": "markdown",
   "id": "3506978f-3a1e-47a9-90c1-b576f17d092f",
   "metadata": {},
   "source": [
    "## Initialisation of rubin science pipeline\n",
    "- Check here the collection available : https://rubinobs.atlassian.net/wiki/spaces/DM/pages/226656354/LSSTComCam+Intermittent+Cumulative+DRP+Runs"
   ]
  },
  {
   "cell_type": "markdown",
   "id": "032c0193-0ca9-487a-943f-957dcea64a53",
   "metadata": {},
   "source": [
    "### Configuration"
   ]
  },
  {
   "cell_type": "code",
   "execution_count": null,
   "id": "58131b3b-f3bf-461a-8c71-d236e7d5e7fa",
   "metadata": {
    "execution": {
     "iopub.execute_input": "2025-05-11T16:19:27.787649Z",
     "iopub.status.busy": "2025-05-11T16:19:27.787493Z",
     "iopub.status.idle": "2025-05-11T16:19:27.790668Z",
     "shell.execute_reply": "2025-05-11T16:19:27.790223Z",
     "shell.execute_reply.started": "2025-05-11T16:19:27.787635Z"
    }
   },
   "outputs": [],
   "source": [
    "# The output repo is tagged with the Jira ticket number \"DM-40356\":\n",
    "repo = '/repo/main'\n",
    "#collection = 'LSSTComCam/runs/DRP/DP1/w_2025_05/DM-48666' # work\n",
    "#collection = 'LSSTComCam/runs/DRP/DP1/w_2025_06/DM-48810' # work\n",
    "collection = 'LSSTComCam/runs/DRP/DP1/w_2025_10/DM-49359' # work\n",
    "\n",
    "\n",
    "# bad : crash collection = 'LSSTComCam/runs/DRP/DP1/w_2025_08/DM-49029'\n",
    "\n",
    "# bad : collection = \"LSSTComCam/runs/DRP/20241101_20241211/w_2024_51/DM-48233\"\n",
    "\n",
    "# not working perhaps because I am using w_2025_10 version\n",
    "# bad : no ccd visit collection = \"LSSTComCam/runs/DRP/DP1/w_2025_14/DM-49864\"\n",
    "# bad : no ccd visit collection = 'LSSTComCam/runs/DRP/DP1/w_2025_15/DM-50050'\n",
    "# bad : no cce visit collection = 'LSSTComCam/runs/DRP/DP1/w_2025_14/DM-49864'\n",
    "# bad : no cce visit collection collection = 'LSSTComCam/runs/DRP/DP1/w_2025_13/DM-49751'\n",
    "\n",
    "\n",
    "instrument = \"LSSTComCam\"\n",
    "skymapName = \"lsst_cells_v1\"\n",
    "where_clause = \"instrument = \\'\" + instrument+ \"\\'\"\n",
    "collectionStr = collection.replace(\"/\", \"_\")"
   ]
  },
  {
   "cell_type": "code",
   "execution_count": null,
   "id": "5aaaded0-f204-4b81-a359-6b9872f7c21d",
   "metadata": {
    "execution": {
     "iopub.execute_input": "2025-05-11T16:19:27.794737Z",
     "iopub.status.busy": "2025-05-11T16:19:27.794361Z",
     "iopub.status.idle": "2025-05-11T16:19:27.804163Z",
     "shell.execute_reply": "2025-05-11T16:19:27.803721Z",
     "shell.execute_reply.started": "2025-05-11T16:19:27.794722Z"
    }
   },
   "outputs": [],
   "source": [
    "FLAG_DUMP_COLLECTIONS = False\n",
    "FLAG_DUMP_DATASETS = False\n",
    "FLAG_DUMP_OBJECTSTABLECOLUMNS = False\n",
    "FLAG_CUT_OBJECTSMAG = True\n",
    "FLAG_CUT_OBJECTSSNR = True"
   ]
  },
  {
   "cell_type": "code",
   "execution_count": null,
   "id": "a66ee4ac-6255-4779-bdb3-088bee0f7058",
   "metadata": {
    "execution": {
     "iopub.execute_input": "2025-05-11T16:19:27.804818Z",
     "iopub.status.busy": "2025-05-11T16:19:27.804681Z",
     "iopub.status.idle": "2025-05-11T16:19:27.814830Z",
     "shell.execute_reply": "2025-05-11T16:19:27.814371Z",
     "shell.execute_reply.started": "2025-05-11T16:19:27.804804Z"
    }
   },
   "outputs": [],
   "source": [
    "MAGCUT = 24.0\n",
    "SNRCUT = 5.0"
   ]
  },
  {
   "cell_type": "code",
   "execution_count": null,
   "id": "d60358a6-62e7-4cc4-9440-3b178d76abe2",
   "metadata": {
    "execution": {
     "iopub.execute_input": "2025-05-11T16:19:27.815653Z",
     "iopub.status.busy": "2025-05-11T16:19:27.815306Z",
     "iopub.status.idle": "2025-05-11T16:19:27.830825Z",
     "shell.execute_reply": "2025-05-11T16:19:27.830334Z",
     "shell.execute_reply.started": "2025-05-11T16:19:27.815638Z"
    }
   },
   "outputs": [],
   "source": [
    "all_bands = [\"u\", \"g\", \"r\", \"i\", \"z\", \"y\"]\n",
    "all_bands_colors = [\"blue\", \"green\", \"red\", \"orange\", \"yellow\", \"purple\"]"
   ]
  },
  {
   "cell_type": "markdown",
   "id": "e8f0113b-9e9a-46b8-9271-c4bde6d64679",
   "metadata": {},
   "source": [
    "### Initialisation of Butler"
   ]
  },
  {
   "cell_type": "code",
   "execution_count": null,
   "id": "804fcb8b-d567-4a27-b102-05ed002051c4",
   "metadata": {
    "execution": {
     "iopub.execute_input": "2025-05-11T16:19:27.831508Z",
     "iopub.status.busy": "2025-05-11T16:19:27.831370Z",
     "iopub.status.idle": "2025-05-11T16:19:28.214832Z",
     "shell.execute_reply": "2025-05-11T16:19:28.214289Z",
     "shell.execute_reply.started": "2025-05-11T16:19:27.831494Z"
    }
   },
   "outputs": [],
   "source": [
    "# Initialize the butler repo:\n",
    "butler = Butler(repo, collections=collection)\n",
    "registry = butler.registry"
   ]
  },
  {
   "cell_type": "code",
   "execution_count": null,
   "id": "03249edb-84b0-4f36-ae94-af25391b468e",
   "metadata": {
    "execution": {
     "iopub.execute_input": "2025-05-11T16:19:28.215549Z",
     "iopub.status.busy": "2025-05-11T16:19:28.215405Z",
     "iopub.status.idle": "2025-05-11T16:19:28.586926Z",
     "shell.execute_reply": "2025-05-11T16:19:28.586404Z",
     "shell.execute_reply.started": "2025-05-11T16:19:28.215535Z"
    }
   },
   "outputs": [],
   "source": [
    "skymap = butler.get('skyMap', skymap=skymapName, collections=collection)"
   ]
  },
  {
   "cell_type": "code",
   "execution_count": null,
   "id": "5b61a4a0-edcf-462f-be02-61502f79db0b",
   "metadata": {
    "execution": {
     "iopub.execute_input": "2025-05-11T16:19:28.587620Z",
     "iopub.status.busy": "2025-05-11T16:19:28.587479Z",
     "iopub.status.idle": "2025-05-11T16:19:29.143280Z",
     "shell.execute_reply": "2025-05-11T16:19:29.142785Z",
     "shell.execute_reply.started": "2025-05-11T16:19:28.587606Z"
    }
   },
   "outputs": [],
   "source": [
    "camera = butler.get(\"camera\", collections=collection, instrument=instrument)"
   ]
  },
  {
   "cell_type": "code",
   "execution_count": null,
   "id": "ef1ab817-3225-4cc3-82b5-37f86d1f33cc",
   "metadata": {
    "execution": {
     "iopub.execute_input": "2025-05-11T16:19:29.144003Z",
     "iopub.status.busy": "2025-05-11T16:19:29.143858Z",
     "iopub.status.idle": "2025-05-11T16:19:29.148279Z",
     "shell.execute_reply": "2025-05-11T16:19:29.147913Z",
     "shell.execute_reply.started": "2025-05-11T16:19:29.143989Z"
    }
   },
   "outputs": [],
   "source": [
    "# 4. Trouver dans quel tract/patch se trouve la coordonnée\n",
    "ECDFS_tract_info = skymap.findTract(ECDFS_COORD)"
   ]
  },
  {
   "cell_type": "code",
   "execution_count": null,
   "id": "d8becbb0-1595-447b-a2ea-fe81515fbd3a",
   "metadata": {
    "execution": {
     "iopub.execute_input": "2025-05-11T16:19:29.148860Z",
     "iopub.status.busy": "2025-05-11T16:19:29.148725Z",
     "iopub.status.idle": "2025-05-11T16:19:29.160627Z",
     "shell.execute_reply": "2025-05-11T16:19:29.160186Z",
     "shell.execute_reply.started": "2025-05-11T16:19:29.148847Z"
    }
   },
   "outputs": [],
   "source": [
    "print('Tract number for ECDFS ::',ECDFS_tract_info.getId())"
   ]
  },
  {
   "cell_type": "code",
   "execution_count": null,
   "id": "fa1992cb-691e-4408-a03b-2477c0bf052d",
   "metadata": {
    "execution": {
     "iopub.execute_input": "2025-05-11T16:19:29.161278Z",
     "iopub.status.busy": "2025-05-11T16:19:29.161133Z",
     "iopub.status.idle": "2025-05-11T16:19:29.171099Z",
     "shell.execute_reply": "2025-05-11T16:19:29.170677Z",
     "shell.execute_reply.started": "2025-05-11T16:19:29.161265Z"
    }
   },
   "outputs": [],
   "source": [
    "TRACTSEL = ECDFS_tract_info.getId()"
   ]
  },
  {
   "cell_type": "code",
   "execution_count": null,
   "id": "f9fa13a1-94b3-4fe1-9716-a05ec15f576c",
   "metadata": {
    "execution": {
     "iopub.execute_input": "2025-05-11T16:19:29.171851Z",
     "iopub.status.busy": "2025-05-11T16:19:29.171631Z",
     "iopub.status.idle": "2025-05-11T16:19:29.180743Z",
     "shell.execute_reply": "2025-05-11T16:19:29.180294Z",
     "shell.execute_reply.started": "2025-05-11T16:19:29.171837Z"
    }
   },
   "outputs": [],
   "source": [
    "print(f\"TRACT : {TRACTSEL}\")"
   ]
  },
  {
   "cell_type": "code",
   "execution_count": null,
   "id": "826aebd4-b08d-4259-a715-2274b75182c2",
   "metadata": {
    "execution": {
     "iopub.execute_input": "2025-05-11T16:19:29.181298Z",
     "iopub.status.busy": "2025-05-11T16:19:29.181170Z",
     "iopub.status.idle": "2025-05-11T16:19:29.191965Z",
     "shell.execute_reply": "2025-05-11T16:19:29.191599Z",
     "shell.execute_reply.started": "2025-05-11T16:19:29.181286Z"
    }
   },
   "outputs": [],
   "source": [
    "# Check here the collections available\n",
    "if FLAG_DUMP_COLLECTIONS:\n",
    "    for _ in sorted(registry.queryCollections(expression=instrument + \"/*\")):\n",
    "        if \"/calib/\" not in _ and \"u/\" not in _:\n",
    "            print(_)"
   ]
  },
  {
   "cell_type": "code",
   "execution_count": null,
   "id": "59563647-7ecd-4366-a7e8-eb2354393559",
   "metadata": {
    "execution": {
     "iopub.execute_input": "2025-05-11T16:19:29.192486Z",
     "iopub.status.busy": "2025-05-11T16:19:29.192359Z",
     "iopub.status.idle": "2025-05-11T16:19:29.204271Z",
     "shell.execute_reply": "2025-05-11T16:19:29.203914Z",
     "shell.execute_reply.started": "2025-05-11T16:19:29.192474Z"
    }
   },
   "outputs": [],
   "source": [
    "if FLAG_DUMP_DATASETS:\n",
    "    for datasetType in registry.queryDatasetTypes():\n",
    "        if registry.queryDatasets(datasetType, collections=collection_validation).any(\n",
    "            execute=False, exact=False\n",
    "        ):\n",
    "            # Limit search results to the data products\n",
    "            if (\n",
    "                (\"_config\" not in datasetType.name)\n",
    "                and (\"_log\" not in datasetType.name)\n",
    "                and (\"_metadata\" not in datasetType.name)\n",
    "                and (\"_resource_usage\" not in datasetType.name)\n",
    "                and (\"Plot\" not in datasetType.name)\n",
    "                and (\"Metric\" not in datasetType.name)\n",
    "                and (\"metric\" not in datasetType.name)\n",
    "                and ((\"Table\" in datasetType.name) or (\"Zeropointp\" in datasetType.name) or (\"fgcm\" in datasetType.name) or (\"transm\" in datasetType.name) or (\"Transm\" in datasetType.name)\n",
    "                or (\"source\" in datasetType.name) or (\"Source\" in datasetType.name) or (\"object\" in datasetType.name) or (\"Object\" in datasetType.name))\n",
    "            ):\n",
    "                \n",
    "                print(datasetType)"
   ]
  },
  {
   "cell_type": "markdown",
   "id": "57be8008-c849-440e-9bae-8649564d3373",
   "metadata": {},
   "source": [
    "### Get list of Tracts and Patches\n",
    "\n",
    "- Just to know which tracts are involved in the observations"
   ]
  },
  {
   "cell_type": "code",
   "execution_count": null,
   "id": "c0823ed5-9b23-4548-af23-12d707772667",
   "metadata": {
    "execution": {
     "iopub.execute_input": "2025-05-11T16:19:29.204846Z",
     "iopub.status.busy": "2025-05-11T16:19:29.204716Z",
     "iopub.status.idle": "2025-05-11T16:19:29.285891Z",
     "shell.execute_reply": "2025-05-11T16:19:29.285224Z",
     "shell.execute_reply.started": "2025-05-11T16:19:29.204834Z"
    }
   },
   "outputs": [],
   "source": [
    "datasettype = \"objectTable_tract\"\n",
    "therefs = butler.registry.queryDatasets(datasettype,  collections=collection)"
   ]
  },
  {
   "cell_type": "code",
   "execution_count": null,
   "id": "f810d737-c393-40bb-bc60-32e3706cf4a0",
   "metadata": {
    "execution": {
     "iopub.execute_input": "2025-05-11T16:19:29.286583Z",
     "iopub.status.busy": "2025-05-11T16:19:29.286447Z",
     "iopub.status.idle": "2025-05-11T16:19:29.309269Z",
     "shell.execute_reply": "2025-05-11T16:19:29.308839Z",
     "shell.execute_reply.started": "2025-05-11T16:19:29.286570Z"
    }
   },
   "outputs": [],
   "source": [
    "tractsId_list = np.unique([ref.dataId['tract'] for ref in therefs])\n",
    "tractsId_list = sorted(tractsId_list)\n",
    "print(tractsId_list)"
   ]
  },
  {
   "cell_type": "markdown",
   "id": "b20d2431-baf2-4f64-acdd-4301479d3981",
   "metadata": {
    "execution": {
     "iopub.execute_input": "2025-04-21T12:06:53.157322Z",
     "iopub.status.busy": "2025-04-21T12:06:53.157187Z",
     "iopub.status.idle": "2025-04-21T12:06:53.279027Z",
     "shell.execute_reply": "2025-04-21T12:06:53.278463Z",
     "shell.execute_reply.started": "2025-04-21T12:06:53.157309Z"
    }
   },
   "source": [
    "## Select AGN which are in the selected Patch"
   ]
  },
  {
   "cell_type": "code",
   "execution_count": null,
   "id": "6f2bea9b-889e-486d-a023-f2bf0e568f6a",
   "metadata": {
    "execution": {
     "iopub.execute_input": "2025-05-11T16:19:29.309877Z",
     "iopub.status.busy": "2025-05-11T16:19:29.309747Z",
     "iopub.status.idle": "2025-05-11T16:19:29.327666Z",
     "shell.execute_reply": "2025-05-11T16:19:29.327242Z",
     "shell.execute_reply.started": "2025-05-11T16:19:29.309864Z"
    }
   },
   "outputs": [],
   "source": [
    "df_agn[df_agn[\"zspec\"]<1.5]"
   ]
  },
  {
   "cell_type": "code",
   "execution_count": null,
   "id": "ee4d85d6-2e9a-4fff-9cbf-044565619bdc",
   "metadata": {
    "execution": {
     "iopub.execute_input": "2025-05-11T16:19:29.328275Z",
     "iopub.status.busy": "2025-05-11T16:19:29.328140Z",
     "iopub.status.idle": "2025-05-11T16:19:29.331398Z",
     "shell.execute_reply": "2025-05-11T16:19:29.331025Z",
     "shell.execute_reply.started": "2025-05-11T16:19:29.328262Z"
    }
   },
   "outputs": [],
   "source": [
    "galaxyindex_selected = []\n",
    "N =len(df_galaxy)\n",
    "for idx in range(N):\n",
    "    ra_target,dec_target = df_galaxy.iloc[idx][['RAJ2000','DEJ2000']]\n",
    "    target_point = SpherePoint(ra_target, dec_target, degrees)\n",
    "    if ECDFS_tract_info.contains(target_point):\n",
    "        galaxyindex_selected.append(idx)         "
   ]
  },
  {
   "cell_type": "code",
   "execution_count": null,
   "id": "e882f9ae-7f26-4593-bfe5-979699f26793",
   "metadata": {
    "execution": {
     "iopub.execute_input": "2025-05-11T16:19:29.331959Z",
     "iopub.status.busy": "2025-05-11T16:19:29.331832Z",
     "iopub.status.idle": "2025-05-11T16:19:29.342732Z",
     "shell.execute_reply": "2025-05-11T16:19:29.342344Z",
     "shell.execute_reply.started": "2025-05-11T16:19:29.331947Z"
    }
   },
   "outputs": [],
   "source": [
    "print(galaxyindex_selected)"
   ]
  },
  {
   "cell_type": "code",
   "execution_count": null,
   "id": "3acd9664-74f4-4dcc-abfc-80d3315ff166",
   "metadata": {
    "execution": {
     "iopub.execute_input": "2025-05-11T16:19:29.343299Z",
     "iopub.status.busy": "2025-05-11T16:19:29.343171Z",
     "iopub.status.idle": "2025-05-11T16:19:29.367792Z",
     "shell.execute_reply": "2025-05-11T16:19:29.367411Z",
     "shell.execute_reply.started": "2025-05-11T16:19:29.343286Z"
    }
   },
   "outputs": [],
   "source": [
    "agnindex_selected = []\n",
    "N =len(df_agn)\n",
    "for idx in range(N):\n",
    "    ra_target,dec_target = df_agn.iloc[idx][['RAJ2000','DEJ2000']]\n",
    "    target_point = SpherePoint(ra_target, dec_target, degrees)\n",
    "    if ECDFS_tract_info.contains(target_point):\n",
    "        agnindex_selected.append(idx)         "
   ]
  },
  {
   "cell_type": "code",
   "execution_count": null,
   "id": "21e97d92-72b3-48f2-b1a5-b1d96b5faadc",
   "metadata": {
    "execution": {
     "iopub.execute_input": "2025-05-11T16:19:29.368366Z",
     "iopub.status.busy": "2025-05-11T16:19:29.368232Z",
     "iopub.status.idle": "2025-05-11T16:19:29.373153Z",
     "shell.execute_reply": "2025-05-11T16:19:29.372773Z",
     "shell.execute_reply.started": "2025-05-11T16:19:29.368354Z"
    }
   },
   "outputs": [],
   "source": [
    "print(agnindex_selected)"
   ]
  },
  {
   "cell_type": "code",
   "execution_count": null,
   "id": "b5717a3a-6977-4592-b726-1f7781ee97a7",
   "metadata": {
    "execution": {
     "iopub.execute_input": "2025-05-11T16:19:29.373757Z",
     "iopub.status.busy": "2025-05-11T16:19:29.373618Z",
     "iopub.status.idle": "2025-05-11T16:19:29.385345Z",
     "shell.execute_reply": "2025-05-11T16:19:29.385003Z",
     "shell.execute_reply.started": "2025-05-11T16:19:29.373744Z"
    }
   },
   "outputs": [],
   "source": [
    "index_agn_selected = 0\n",
    "index_galaxy_selected = 0\n",
    "FLAG_AGN_SELECTED  = False"
   ]
  },
  {
   "cell_type": "code",
   "execution_count": null,
   "id": "e8b3a6dd-354b-4d2f-80e3-01a6da4d62d7",
   "metadata": {
    "execution": {
     "iopub.execute_input": "2025-05-11T16:19:29.385906Z",
     "iopub.status.busy": "2025-05-11T16:19:29.385778Z",
     "iopub.status.idle": "2025-05-11T16:19:29.397254Z",
     "shell.execute_reply": "2025-05-11T16:19:29.396916Z",
     "shell.execute_reply.started": "2025-05-11T16:19:29.385894Z"
    }
   },
   "outputs": [],
   "source": [
    "if FLAG_AGN_SELECTED: \n",
    "    ra_target,dec_target = df_agn.iloc[index_agn_selected ][['RAJ2000','DEJ2000']]\n",
    "    target_point = SpherePoint(ra_target, dec_target, degrees)\n",
    "    target_coord = SkyCoord(ra=ra_target*u.deg, dec=dec_target*u.deg)\n",
    "    logLx = df_agn.iloc[index_agn_selected ]['logLX']\n",
    "    zspec = df_agn.iloc[index_agn_selected ]['zspec']\n",
    "    target_title = f\"agn :: {index_agn_selected}, log L(erg/s) = {logLx:.2f} , zspec = {zspec:.2f}, (ra,dec) = {ra_target:.5f},{dec_target:.5f}\"\n",
    "else:\n",
    "    ra_target,dec_target = df_galaxy.iloc[index_galaxy_selected ][['RAJ2000','DEJ2000']]\n",
    "    target_point = SpherePoint(ra_target, dec_target, degrees)\n",
    "    target_coord = SkyCoord(ra=ra_target*u.deg, dec=dec_target*u.deg)\n",
    "    logLx = df_galaxy.iloc[index_galaxy_selected ]['logLX']\n",
    "    zspec = df_galaxy.iloc[index_galaxy_selected ]['zspec']\n",
    "    target_title = f\"galaxy :: {index_galaxy_selected}, log L(erg/s) = {logLx:.2f} , zspec = {zspec:.2f}, (ra,dec) = {ra_target:.5f},{dec_target:.5f}\"\n",
    "    "
   ]
  },
  {
   "cell_type": "markdown",
   "id": "6b4e52af-76e4-4625-943a-f2fc5acfdb11",
   "metadata": {},
   "source": [
    "## Find in which patch is the target"
   ]
  },
  {
   "cell_type": "code",
   "execution_count": null,
   "id": "9e479702-1fdf-48ef-a3be-9d424b413805",
   "metadata": {
    "execution": {
     "iopub.execute_input": "2025-05-11T16:55:34.666021Z",
     "iopub.status.busy": "2025-05-11T16:55:34.665811Z",
     "iopub.status.idle": "2025-05-11T16:55:34.669448Z",
     "shell.execute_reply": "2025-05-11T16:55:34.668992Z",
     "shell.execute_reply.started": "2025-05-11T16:55:34.666007Z"
    }
   },
   "outputs": [],
   "source": [
    "patch_info = ECDFS_tract_info.findPatch(target_point)\n",
    "tractNbSel = ECDFS_tract_info.getId()\n",
    "patchNbSel =  patch_info.getSequentialIndex()\n",
    "where_clause = f\"skymap = '{skymapName}' AND tract = {tractNbSel} AND patch = {patchNbSel}\"\n",
    "print(where_clause)"
   ]
  },
  {
   "cell_type": "markdown",
   "id": "5022ca8c-d08a-40f7-b8b1-9a9f56d394f2",
   "metadata": {},
   "source": [
    "## Define the Stack DM product used for the DIA analysis"
   ]
  },
  {
   "cell_type": "code",
   "execution_count": null,
   "id": "3cc6ba9a-7fd8-4a08-927a-dda396deda30",
   "metadata": {
    "execution": {
     "iopub.execute_input": "2025-05-11T16:19:29.397804Z",
     "iopub.status.busy": "2025-05-11T16:19:29.397671Z",
     "iopub.status.idle": "2025-05-11T16:19:29.407583Z",
     "shell.execute_reply": "2025-05-11T16:19:29.407246Z",
     "shell.execute_reply.started": "2025-05-11T16:19:29.397792Z"
    }
   },
   "outputs": [],
   "source": [
    "if FLAG_AGN_SELECTED: \n",
    "    figname1 = f\"agn_{index_agn_selected}_{datasettype}_v1.png\"\n",
    "    figname2 = f\"agn_{index_agn_selected}_{datasettype}_v2.png\"\n",
    "else:\n",
    "    figname1 = f\"galaxy_{index_agn_selected}_{datasettype}_v1.png\"\n",
    "    figname2 = f\"galaxy_{index_agn_selected}_{datasettype}_v2.png\""
   ]
  },
  {
   "cell_type": "code",
   "execution_count": null,
   "id": "21d775c2-b088-4384-8054-bd260988e504",
   "metadata": {
    "execution": {
     "iopub.execute_input": "2025-05-11T16:19:29.408271Z",
     "iopub.status.busy": "2025-05-11T16:19:29.408010Z",
     "iopub.status.idle": "2025-05-11T16:19:29.418278Z",
     "shell.execute_reply": "2025-05-11T16:19:29.417945Z",
     "shell.execute_reply.started": "2025-05-11T16:19:29.408257Z"
    }
   },
   "outputs": [],
   "source": [
    "target_coord"
   ]
  },
  {
   "cell_type": "code",
   "execution_count": null,
   "id": "b64eb706-1f01-4b19-ab0b-a5a0d8e020f0",
   "metadata": {
    "execution": {
     "iopub.execute_input": "2025-05-11T16:30:41.990041Z",
     "iopub.status.busy": "2025-05-11T16:30:41.989182Z",
     "iopub.status.idle": "2025-05-11T16:30:42.039471Z",
     "shell.execute_reply": "2025-05-11T16:30:42.039017Z",
     "shell.execute_reply.started": "2025-05-11T16:30:41.990023Z"
    }
   },
   "outputs": [],
   "source": [
    "datasettype =  'forcedSourceOnDiaObjectTable'\n",
    "#datasettype =  'diaSourceTable_tract'\n",
    "#datasettype = 'goodSeeingDiff_assocSsSrcTable' # bad table\n",
    "therefs = butler.registry.queryDatasets(datasettype,  collections=collection)\n",
    "\n",
    "therefs = butler.registry.queryDatasets(datasettype,  collections=collection)"
   ]
  },
  {
   "cell_type": "code",
   "execution_count": null,
   "id": "d8c4f82f-acb5-4c06-82f5-332aa76cabe2",
   "metadata": {
    "execution": {
     "iopub.execute_input": "2025-05-11T16:30:44.544882Z",
     "iopub.status.busy": "2025-05-11T16:30:44.544545Z",
     "iopub.status.idle": "2025-05-11T16:30:44.559192Z",
     "shell.execute_reply": "2025-05-11T16:30:44.558794Z",
     "shell.execute_reply.started": "2025-05-11T16:30:44.544863Z"
    }
   },
   "outputs": [],
   "source": [
    "for count,ref in enumerate(therefs):\n",
    "    the_id = ref.dataId\n",
    "    print(the_id)\n",
    "    break"
   ]
  },
  {
   "cell_type": "code",
   "execution_count": null,
   "id": "b2990d7a-23fb-494f-b24a-845550403cfb",
   "metadata": {
    "execution": {
     "iopub.execute_input": "2025-05-11T17:03:53.065223Z",
     "iopub.status.busy": "2025-05-11T17:03:53.064853Z",
     "iopub.status.idle": "2025-05-11T17:03:53.070100Z",
     "shell.execute_reply": "2025-05-11T17:03:53.069683Z",
     "shell.execute_reply.started": "2025-05-11T17:03:53.065208Z"
    }
   },
   "outputs": [],
   "source": [
    "def RetrieveDiaObject_forTarget(butler,center_coord,datasettype,where_clause,radius_cut=100):\n",
    "    \"\"\"\n",
    "    Find the closest DIA objectto the target_coord \n",
    "\n",
    "    parameters:\n",
    "    - butler\n",
    "    - the coordinate of the target (center of the cone seach)\n",
    "    - the datasettype name for the DIA object\n",
    "    - where_clause\n",
    "    - cut on angluar separation for the returned for the returned object\n",
    "\n",
    "    Return\n",
    "    - object Id with minimum separation , \n",
    "    - minimum separation (arcec),\n",
    "    - the table of DIA objects within the radius_cut\n",
    "    \"\"\"\n",
    "\n",
    "    #datasettype =  'forcedSourceOnDiaObjectTable'\n",
    "    #datasettype =  'diaSourceTable_tract'\n",
    "    #datasettype = 'goodSeeingDiff_assocSsSrcTable' # bad table\n",
    "    \n",
    "    therefs = butler.registry.queryDatasets(datasettype,  collections=collection, where=where_clause)\n",
    "\n",
    "    all_tables = []\n",
    "\n",
    "    # loop forcedSourceOnDiaObjectTable (per tract, per patch)\n",
    "    for count,ref in enumerate(therefs):\n",
    "        the_id = ref.dataId\n",
    "        the_tract_id = the_id[\"tract\"] \n",
    "        # select the visits in that Tract (ECDFS)\n",
    "        if the_tract_id == TRACTSEL: \n",
    "\n",
    "            # catalog of rubin objects (a pandas Dataframe) inside the tract\n",
    "            catalog = butler.get(ref)\n",
    "            nsources = len(catalog)\n",
    "            print()\n",
    "\n",
    "            # extract the (ra,dec) coordinates for all te objects of the rubin-catalog\n",
    "            ra_cat = catalog[\"coord_ra\"].values\n",
    "            dec_cat = catalog[\"coord_dec\"].values\n",
    "            # coordinates for all rubin-catalog points\n",
    "            catalog_coords = SkyCoord(ra=ra_cat*u.deg, dec=dec_cat*u.deg)\n",
    "\n",
    "            # Angular distance to target\n",
    "            distances_arcsec = center_coord.separation(catalog_coords).arcsecond\n",
    "\n",
    "            # add the separation angle to the ctalog\n",
    "            catalog[\"sep\"] = distances_arcsec\n",
    "\n",
    "\n",
    "            # closest object from the target\n",
    "            sepMin = distances_arcsec.min() \n",
    "            sepMin_idx = np.where(distances_arcsec == sepMin)[0][0]\n",
    "    \n",
    "            closest_src = catalog[catalog[\"sep\"] <=  sepMin]\n",
    "                   \n",
    "            # select\n",
    "            nearby_obj = catalog[distances_arcsec < radius_cut]\n",
    "        \n",
    "            return closest_src, sepMin, nearby_obj\n",
    "\n",
    "      "
   ]
  },
  {
   "cell_type": "code",
   "execution_count": null,
   "id": "d4bb929e-3689-4d51-8506-894bd6935aad",
   "metadata": {
    "execution": {
     "iopub.execute_input": "2025-05-11T17:04:07.560052Z",
     "iopub.status.busy": "2025-05-11T17:04:07.559184Z",
     "iopub.status.idle": "2025-05-11T17:04:11.520805Z",
     "shell.execute_reply": "2025-05-11T17:04:11.520249Z",
     "shell.execute_reply.started": "2025-05-11T17:04:07.560033Z"
    }
   },
   "outputs": [],
   "source": [
    "closest_src, sepMin, nearby_obj = RetrieveDiaObject_forTarget(butler,target_coord,datasettype,where_clause)"
   ]
  },
  {
   "cell_type": "code",
   "execution_count": null,
   "id": "9a36c606-5e70-46c5-b937-928cfa91e0b2",
   "metadata": {
    "execution": {
     "iopub.execute_input": "2025-05-11T17:04:14.891508Z",
     "iopub.status.busy": "2025-05-11T17:04:14.891183Z",
     "iopub.status.idle": "2025-05-11T17:04:14.894925Z",
     "shell.execute_reply": "2025-05-11T17:04:14.894536Z",
     "shell.execute_reply.started": "2025-05-11T17:04:14.891490Z"
    }
   },
   "outputs": [],
   "source": [
    "sepMin"
   ]
  },
  {
   "cell_type": "code",
   "execution_count": null,
   "id": "7daa1c50-1437-4b37-8cf2-639de1144b28",
   "metadata": {
    "execution": {
     "iopub.execute_input": "2025-05-11T17:04:21.656521Z",
     "iopub.status.busy": "2025-05-11T17:04:21.656197Z",
     "iopub.status.idle": "2025-05-11T17:04:21.669902Z",
     "shell.execute_reply": "2025-05-11T17:04:21.669466Z",
     "shell.execute_reply.started": "2025-05-11T17:04:21.656506Z"
    }
   },
   "outputs": [],
   "source": [
    "closest_src"
   ]
  },
  {
   "cell_type": "code",
   "execution_count": null,
   "id": "23306ca1-a7e6-4280-b9d7-0b199c046db9",
   "metadata": {
    "execution": {
     "iopub.execute_input": "2025-05-11T17:00:45.786019Z",
     "iopub.status.busy": "2025-05-11T17:00:45.785740Z",
     "iopub.status.idle": "2025-05-11T17:00:45.801278Z",
     "shell.execute_reply": "2025-05-11T17:00:45.800720Z",
     "shell.execute_reply.started": "2025-05-11T17:00:45.786005Z"
    }
   },
   "outputs": [],
   "source": [
    "t = nearby_obj "
   ]
  },
  {
   "cell_type": "code",
   "execution_count": null,
   "id": "e72f6c28-0998-497b-bebf-a243f0189c3b",
   "metadata": {
    "execution": {
     "iopub.execute_input": "2025-05-11T17:02:20.498798Z",
     "iopub.status.busy": "2025-05-11T17:02:20.498469Z",
     "iopub.status.idle": "2025-05-11T17:02:20.623007Z",
     "shell.execute_reply": "2025-05-11T17:02:20.622448Z",
     "shell.execute_reply.started": "2025-05-11T17:02:20.498781Z"
    }
   },
   "outputs": [],
   "source": [
    "fig, ax = plt.subplots(1,1,figsize=(6,4))\n",
    "t[\"sep\"].hist(bins=50,ax=ax,facecolor=\"r\")\n",
    "closest_obj[\"sep\"].hist(bins=50,range=(0,100),ax=ax,facolor=\"r\")\n",
    "plt.show()"
   ]
  },
  {
   "cell_type": "code",
   "execution_count": null,
   "id": "ee669cab-c892-47fc-982f-967081d452f7",
   "metadata": {
    "execution": {
     "iopub.status.busy": "2025-05-11T16:19:34.435620Z",
     "iopub.status.idle": "2025-05-11T16:19:34.435789Z",
     "shell.execute_reply": "2025-05-11T16:19:34.435710Z",
     "shell.execute_reply.started": "2025-05-11T16:19:34.435696Z"
    }
   },
   "outputs": [],
   "source": [
    "t = t[t[\"sep\"]<3.5]"
   ]
  },
  {
   "cell_type": "markdown",
   "id": "112094be-7b12-475f-8faa-7133b3b1b936",
   "metadata": {},
   "source": [
    "### Split visit into dayobs and seq"
   ]
  },
  {
   "cell_type": "code",
   "execution_count": null,
   "id": "453798ec-0d66-4278-b8c3-a9ea4e1cf25b",
   "metadata": {
    "execution": {
     "iopub.status.busy": "2025-05-11T16:19:34.436130Z",
     "iopub.status.idle": "2025-05-11T16:19:34.436282Z",
     "shell.execute_reply": "2025-05-11T16:19:34.436209Z",
     "shell.execute_reply.started": "2025-05-11T16:19:34.436202Z"
    }
   },
   "outputs": [],
   "source": [
    "t[\"dateobs\"] = t.apply(lambda x: x['visit']//100_000, axis=1)\n",
    "t[\"seq\"] = t[\"visit\"] - t[\"dateobs\"]*100_000"
   ]
  },
  {
   "cell_type": "code",
   "execution_count": null,
   "id": "c1b5a1a1-1e84-451f-b340-8371c9fbffac",
   "metadata": {
    "execution": {
     "iopub.status.busy": "2025-05-11T16:19:34.436772Z",
     "iopub.status.idle": "2025-05-11T16:19:34.436931Z",
     "shell.execute_reply": "2025-05-11T16:19:34.436853Z",
     "shell.execute_reply.started": "2025-05-11T16:19:34.436846Z"
    }
   },
   "outputs": [],
   "source": [
    "t[\"seq\"]"
   ]
  },
  {
   "cell_type": "code",
   "execution_count": null,
   "id": "3b3663e0-bc24-4d76-8fed-92781be70fd5",
   "metadata": {
    "execution": {
     "iopub.status.busy": "2025-05-11T16:19:34.437443Z",
     "iopub.status.idle": "2025-05-11T16:19:34.437601Z",
     "shell.execute_reply": "2025-05-11T16:19:34.437526Z",
     "shell.execute_reply.started": "2025-05-11T16:19:34.437519Z"
    }
   },
   "outputs": [],
   "source": [
    "t[\"mags\"] = t[\"psfFlux\"].apply(lambda flux : -2.5 * np.log10(flux) + 31.4)\n",
    "t[\"valid\"] = (t[\"psfFlux\"] >0) & (~t[\"psfFlux_flag\"])\n",
    "visit_list = t[\"visit\"].astype(int)"
   ]
  },
  {
   "cell_type": "markdown",
   "id": "8ef1ef5c-7a4c-475f-9fe3-3e9384409943",
   "metadata": {
    "execution": {
     "iopub.execute_input": "2025-04-21T13:39:44.974222Z",
     "iopub.status.busy": "2025-04-21T13:39:44.973998Z",
     "iopub.status.idle": "2025-04-21T13:39:44.976793Z",
     "shell.execute_reply": "2025-04-21T13:39:44.976436Z",
     "shell.execute_reply.started": "2025-04-21T13:39:44.974206Z"
    }
   },
   "source": [
    "#### Find the time associated to a visit"
   ]
  },
  {
   "cell_type": "code",
   "execution_count": null,
   "id": "7ee3d646-b857-4019-b71e-e1d447fe292e",
   "metadata": {
    "execution": {
     "iopub.status.busy": "2025-05-11T16:19:34.438029Z",
     "iopub.status.idle": "2025-05-11T16:19:34.438179Z",
     "shell.execute_reply": "2025-05-11T16:19:34.438108Z",
     "shell.execute_reply.started": "2025-05-11T16:19:34.438101Z"
    }
   },
   "outputs": [],
   "source": [
    "# On interroge la table visitDefinition\n",
    "rows = registry.queryDimensionRecords(\"visit\", where=f\"visit in {tuple(visit_list)}\")\n",
    "\n",
    "# 4. Construire un tableau des résultats\n",
    "results = []\n",
    "for row in rows:\n",
    "    visit_id = row.id\n",
    "\n",
    "    # Extraire l'instant de début de l'observation (Time astropy)\n",
    "    start_time = row.timespan.begin\n",
    "\n",
    "    # Convertir en MJD et ISO\n",
    "    mjd = start_time.to_value(\"mjd\")  # Ex: 60384.28718\n",
    "    isot = start_time.to_value(\"isot\")  # Ex: '2024-04-19 06:53:32.000'\n",
    "    \n",
    "    #mjd = row.startDate.toMjd()\n",
    "    #utc = Time(mjd, format='mjd', scale='utc').to_value('iso')\n",
    "    results.append({\"visit\": visit_id, \"mjd\": mjd, \"isot\": isot})\n",
    "\n",
    "df_times = pd.DataFrame(results).sort_values(\"visit\")\n",
    "df_times.set_index(\"visit\",inplace=True)"
   ]
  },
  {
   "cell_type": "code",
   "execution_count": null,
   "id": "65027963-05cf-4df4-ae5f-79aa70eeaa57",
   "metadata": {
    "execution": {
     "iopub.status.busy": "2025-05-11T16:19:34.438648Z",
     "iopub.status.idle": "2025-05-11T16:19:34.438859Z",
     "shell.execute_reply": "2025-05-11T16:19:34.438781Z",
     "shell.execute_reply.started": "2025-05-11T16:19:34.438773Z"
    }
   },
   "outputs": [],
   "source": [
    "t[\"mjd\"] = t[\"visit\"].apply(lambda x: df_times.loc[x][\"mjd\"])\n",
    "t[\"isot\"] = t[\"visit\"].apply(lambda x: df_times.loc[x][\"isot\"])"
   ]
  },
  {
   "cell_type": "code",
   "execution_count": null,
   "id": "070b3a61-c473-4887-9c67-04b0c2ca39d2",
   "metadata": {
    "execution": {
     "iopub.status.busy": "2025-05-11T16:19:34.439221Z",
     "iopub.status.idle": "2025-05-11T16:19:34.439372Z",
     "shell.execute_reply": "2025-05-11T16:19:34.439301Z",
     "shell.execute_reply.started": "2025-05-11T16:19:34.439294Z"
    }
   },
   "outputs": [],
   "source": [
    "tb = {}\n",
    "for band in [\"u\", \"g\", \"r\", \"i\", \"z\", \"y\"]:\n",
    "    tb[band] = t[t[\"band\"] == band]"
   ]
  },
  {
   "cell_type": "markdown",
   "id": "eb153e8f-c5b1-439f-a4f1-ca836c771294",
   "metadata": {},
   "source": [
    "## Plot light curves"
   ]
  },
  {
   "cell_type": "code",
   "execution_count": null,
   "id": "ccddae1e-0100-428d-96c9-8e8a99653c1e",
   "metadata": {
    "execution": {
     "iopub.status.busy": "2025-05-11T16:19:34.439807Z",
     "iopub.status.idle": "2025-05-11T16:19:34.439957Z",
     "shell.execute_reply": "2025-05-11T16:19:34.439886Z",
     "shell.execute_reply.started": "2025-05-11T16:19:34.439879Z"
    }
   },
   "outputs": [],
   "source": [
    "band_to_col = {\"u\":\"b\", \"g\":\"g\", \"r\":\"r\", \"i\":\"orange\", \"z\":\"grey\", \"y\":\"k\"}"
   ]
  },
  {
   "cell_type": "code",
   "execution_count": null,
   "id": "f816d35d-5402-4611-9b13-f431e3ddd8b2",
   "metadata": {
    "execution": {
     "iopub.status.busy": "2025-05-11T16:19:34.440300Z",
     "iopub.status.idle": "2025-05-11T16:19:34.440448Z",
     "shell.execute_reply": "2025-05-11T16:19:34.440378Z",
     "shell.execute_reply.started": "2025-05-11T16:19:34.440371Z"
    }
   },
   "outputs": [],
   "source": [
    "fig,axs = plt.subplots(6,1,figsize=(18,16),sharex=True,layout=\"constrained\")\n",
    "\n",
    "for idx,band in enumerate([\"u\", \"g\", \"r\", \"i\", \"z\", \"y\"]):\n",
    "    ax =axs[idx]\n",
    "    ax.scatter(tb[band].mjd, tb[band].mags,color=band_to_col[band])\n",
    "    ax.set_ylabel(\"mag_psfFlux\")\n",
    "    if idx==0:\n",
    "        ax.set_title(target_title,fontweight = \"bold\")\n",
    "ax.set_xlabel(\"mjd\")\n",
    "\n",
    "subtitle = collectionStr + \"_\" + datasettype\n",
    "plt.suptitle(subtitle)\n",
    "#plt.tight_layout()\n",
    "plt.savefig(figname1)\n",
    "plt.show()"
   ]
  },
  {
   "cell_type": "code",
   "execution_count": null,
   "id": "fd05015f-cec0-46eb-aa13-39e222116d39",
   "metadata": {
    "execution": {
     "iopub.status.busy": "2025-05-11T16:19:34.441001Z",
     "iopub.status.idle": "2025-05-11T16:19:34.441155Z",
     "shell.execute_reply": "2025-05-11T16:19:34.441083Z",
     "shell.execute_reply.started": "2025-05-11T16:19:34.441076Z"
    }
   },
   "outputs": [],
   "source": [
    "fig,ax = plt.subplots(1,1,figsize=(18,8),sharex=True,layout=\"constrained\")\n",
    "\n",
    "for idx,band in enumerate([\"u\", \"g\", \"r\", \"i\", \"z\", \"y\"]):\n",
    "    ax.scatter(tb[band].mjd, tb[band].mags,color=band_to_col[band])\n",
    "\n",
    "ax.set_ylabel(\"mag_psfFlux\")\n",
    "ax.set_title(target_title,fontweight = \"bold\")\n",
    "ax.set_xlabel(\"mjd\")\n",
    "\n",
    "subtitle = collectionStr + \"_\" + datasettype\n",
    "plt.suptitle(subtitle)\n",
    "#plt.tight_layout()\n",
    "plt.savefig(figname2)\n",
    "plt.show()"
   ]
  },
  {
   "cell_type": "code",
   "execution_count": null,
   "id": "9a7f251e-2ed8-4a82-9138-2ec06f99a057",
   "metadata": {},
   "outputs": [],
   "source": []
  },
  {
   "cell_type": "code",
   "execution_count": null,
   "id": "c0ff101d-3672-456c-a365-eb84a67fb561",
   "metadata": {},
   "outputs": [],
   "source": []
  }
 ],
 "metadata": {
  "kernelspec": {
   "display_name": "LSST",
   "language": "python",
   "name": "lsst"
  },
  "language_info": {
   "codemirror_mode": {
    "name": "ipython",
    "version": 3
   },
   "file_extension": ".py",
   "mimetype": "text/x-python",
   "name": "python",
   "nbconvert_exporter": "python",
   "pygments_lexer": "ipython3",
   "version": "3.12.10"
  }
 },
 "nbformat": 4,
 "nbformat_minor": 5
}
