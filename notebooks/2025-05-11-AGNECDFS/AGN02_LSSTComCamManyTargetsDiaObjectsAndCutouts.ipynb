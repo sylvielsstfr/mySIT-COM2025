{
 "cells": [
  {
   "cell_type": "markdown",
   "id": "8f3da262-37ed-407f-908c-8ac5a52cb4db",
   "metadata": {},
   "source": [
    "# Search for AGN in the Extended Chandra Deep Field South in DIA objects and Show Cutouts\n",
    "\n",
    "- Confluence page : https://rubinobs.atlassian.net/wiki/spaces/LSSTCOM/pages/372867091/System-level+Science+Performance+Verification+Sprint\n",
    "- slides : https://docs.google.com/presentation/d/1bPjS5NGtiEL2lfjmvP1UYdG_tMEDfZxX26ayhf7MhtY/edit#slide=id.ga2f7fb1a1f_0_70"
   ]
  },
  {
   "cell_type": "markdown",
   "id": "f3737976-eab8-4483-a79d-796f738c4f22",
   "metadata": {},
   "source": [
    "- where to find the campains\n",
    "- https://rubinobs.atlassian.net/wiki/spaces/DM/pages/226656354/LSSTComCam+Intermittent+Cumulative+DRP+Runs\n",
    "\n",
    "- plot Navigator\n",
    "- https://usdf-rsp.slac.stanford.edu/plot-navigator\n",
    "- https://usdf-rsp.slac.stanford.edu/plot-navigator/plot/%2Frepo%2Fmain/LSSTComCam%2Fruns%2FDRP%2FDP1%2Fw_2025_05%2FDM-48666/objectTableCore_coaddInputCount_SkyPlot"
   ]
  },
  {
   "cell_type": "markdown",
   "id": "53b4594d-5de5-4fa1-8ada-f60f0018cac5",
   "metadata": {},
   "source": [
    "- Notebooks examples\n",
    "- https://github.com/lsst-dm/DMTR-401/blob/main/notebooks/test_LVV-T40_T1240.ipynb\n",
    "- https://github.com/lsst-dm/DMTR-412/blob/tickets/DM-38728/notebooks/test_LVV-T1751_AM1_AM2.ipynb"
   ]
  },
  {
   "cell_type": "markdown",
   "id": "8402aac4-562a-40cd-ac2b-c1ca76cae55b",
   "metadata": {},
   "source": [
    "- author : Sylvie Dagoret-Campagne\n",
    "- creation date : 2025-05-12\n",
    "- last update : 2025-05-12\n",
    "- Redo Visits like here : https://github.com/sylvielsstfr/LSST-Rehearsal2024/blob/main/notebooks/Visits/stat_on_visits_LSSTComCamSim.ipynb\n",
    "- To find what I did on LSSTComCamSim : https://github.com/sylvielsstfr/LSST-Rehearsal2024/blob/main/notebooks/LightCurves/MultiColor_lightCurves-DMRehearsal2024_01-AuxTel-DZPOnCCD.ipynb\n",
    "- **Confluence page** : https://rubinobs.atlassian.net/wiki/spaces/LSSTCOM/pages/443613290/Science+Verification+Sprint+Feb+2025\n"
   ]
  },
  {
   "cell_type": "code",
   "execution_count": null,
   "id": "9d583412-a5a0-456e-84be-1fb658ddf016",
   "metadata": {
    "execution": {
     "iopub.execute_input": "2025-05-14T20:49:41.920229Z",
     "iopub.status.busy": "2025-05-14T20:49:41.920094Z",
     "iopub.status.idle": "2025-05-14T20:49:42.989595Z",
     "shell.execute_reply": "2025-05-14T20:49:42.988994Z",
     "shell.execute_reply.started": "2025-05-14T20:49:41.920215Z"
    }
   },
   "outputs": [],
   "source": [
    "# Confirm that the version of the Science Pipelines is recent:\n",
    "! echo $HOSTNAME\n",
    "! eups list -s | grep lsst_distrib"
   ]
  },
  {
   "cell_type": "code",
   "execution_count": null,
   "id": "8fbb9671-7d8e-4724-8c58-0f0a4fb9e5f0",
   "metadata": {
    "execution": {
     "iopub.execute_input": "2025-05-14T20:49:42.990417Z",
     "iopub.status.busy": "2025-05-14T20:49:42.990265Z",
     "iopub.status.idle": "2025-05-14T20:49:44.315208Z",
     "shell.execute_reply": "2025-05-14T20:49:44.314682Z",
     "shell.execute_reply.started": "2025-05-14T20:49:42.990399Z"
    }
   },
   "outputs": [],
   "source": [
    "from lsst.daf.butler import Butler\n",
    "import lsst.geom as geom\n",
    "\n",
    "import lsst.afw.display as afwDisplay\n",
    "\n",
    "from lsst.geom import SpherePoint, degrees, Point2D, Point2I, Extent2I, Box2I\n",
    "from lsst.afw.image import ExposureF"
   ]
  },
  {
   "cell_type": "code",
   "execution_count": null,
   "id": "8983f25c-dadf-434b-bb84-e24a3150f766",
   "metadata": {
    "execution": {
     "iopub.execute_input": "2025-05-14T20:49:44.316164Z",
     "iopub.status.busy": "2025-05-14T20:49:44.315768Z",
     "iopub.status.idle": "2025-05-14T20:49:44.375013Z",
     "shell.execute_reply": "2025-05-14T20:49:44.374480Z",
     "shell.execute_reply.started": "2025-05-14T20:49:44.316147Z"
    }
   },
   "outputs": [],
   "source": [
    "afwDisplay.setDefaultBackend(\"firefly\")"
   ]
  },
  {
   "cell_type": "code",
   "execution_count": null,
   "id": "e814e3d6-750c-4e7f-a9a5-5bf1e2f7205f",
   "metadata": {
    "execution": {
     "iopub.execute_input": "2025-05-14T20:49:44.375886Z",
     "iopub.status.busy": "2025-05-14T20:49:44.375545Z",
     "iopub.status.idle": "2025-05-14T20:49:45.692719Z",
     "shell.execute_reply": "2025-05-14T20:49:45.692207Z",
     "shell.execute_reply.started": "2025-05-14T20:49:44.375871Z"
    }
   },
   "outputs": [],
   "source": [
    "import os\n",
    "import gc\n",
    "import glob\n",
    "import numpy as np\n",
    "import pandas as pd\n",
    "import random\n",
    "\n",
    "import astropy.units as u\n",
    "from astropy.coordinates import SkyCoord\n",
    "from astroquery.gaia import Gaia\n",
    "Gaia.MAIN_GAIA_TABLE = \"gaiadr3.gaia_source\"  # Reselect Data Release 3, default\n",
    "Gaia.ROW_LIMIT = 100000\n",
    "from astropy.visualization import (MinMaxInterval, AsinhStretch, ZScaleInterval, LogStretch, LinearStretch,\n",
    "                                   ImageNormalize)"
   ]
  },
  {
   "cell_type": "code",
   "execution_count": null,
   "id": "e68df967-7870-47da-a4dd-760df6732aa5",
   "metadata": {
    "execution": {
     "iopub.execute_input": "2025-05-14T20:49:45.693626Z",
     "iopub.status.busy": "2025-05-14T20:49:45.693292Z",
     "iopub.status.idle": "2025-05-14T20:49:46.326718Z",
     "shell.execute_reply": "2025-05-14T20:49:46.326213Z",
     "shell.execute_reply.started": "2025-05-14T20:49:45.693611Z"
    }
   },
   "outputs": [],
   "source": [
    "import seaborn as sns\n",
    "from itertools import cycle, islice"
   ]
  },
  {
   "cell_type": "code",
   "execution_count": null,
   "id": "f385c649-efb6-40a8-b9f7-ebc65c441a04",
   "metadata": {
    "execution": {
     "iopub.execute_input": "2025-05-14T20:49:46.327635Z",
     "iopub.status.busy": "2025-05-14T20:49:46.327374Z",
     "iopub.status.idle": "2025-05-14T20:49:46.329884Z",
     "shell.execute_reply": "2025-05-14T20:49:46.329527Z",
     "shell.execute_reply.started": "2025-05-14T20:49:46.327620Z"
    }
   },
   "outputs": [],
   "source": [
    "from astropy.time import Time\n",
    "from datetime import datetime, timedelta"
   ]
  },
  {
   "cell_type": "code",
   "execution_count": null,
   "id": "46c68d72-750b-4bb9-b92a-1fe6e1728171",
   "metadata": {
    "execution": {
     "iopub.execute_input": "2025-05-14T20:49:46.330443Z",
     "iopub.status.busy": "2025-05-14T20:49:46.330319Z",
     "iopub.status.idle": "2025-05-14T20:49:46.338050Z",
     "shell.execute_reply": "2025-05-14T20:49:46.337630Z",
     "shell.execute_reply.started": "2025-05-14T20:49:46.330432Z"
    }
   },
   "outputs": [],
   "source": [
    "import lsst\n",
    "import lsst.geom as geom\n",
    "from lsst.geom import Angle\n",
    "from lsst.geom import SpherePoint\n",
    "from lsst.geom import AngleUnit"
   ]
  },
  {
   "cell_type": "code",
   "execution_count": null,
   "id": "224cf803-f7cc-4e49-9dc9-46779557286e",
   "metadata": {
    "execution": {
     "iopub.execute_input": "2025-05-14T20:49:46.338669Z",
     "iopub.status.busy": "2025-05-14T20:49:46.338539Z",
     "iopub.status.idle": "2025-05-14T20:49:46.347369Z",
     "shell.execute_reply": "2025-05-14T20:49:46.346946Z",
     "shell.execute_reply.started": "2025-05-14T20:49:46.338656Z"
    }
   },
   "outputs": [],
   "source": [
    "def find_tract_patch_and_display(butler, skymap,ra_deg, dec_deg, band, framecount):\n",
    "    \"\"\"\n",
    "    - butler\n",
    "    - skymap\n",
    "    - ra_deg, dec_deg : source\n",
    "    - band\n",
    "    - framecount\n",
    "    \"\"\"\n",
    "    # Ouvrir le dépôt\n",
    "    #butler = Butler(repo)\n",
    "    #skymap = butler.get(\"skyMap\")\n",
    "    band_to_color = {\"u\":\"blue\",\"g\":\"green\",\"r\":\"red\",\"i\":\"orange\",\"z\":\"yellow\",\"y\":\"purple\"}\n",
    "\n",
    "    datasettype = \"objectTable_tract\"\n",
    "    therefs = butler.registry.queryDatasets(datasettype,  collections=collection)\n",
    "\n",
    "    # Créer le point céleste\n",
    "    coord = SpherePoint(ra_deg * degrees, dec_deg * degrees)\n",
    "\n",
    "\n",
    "    found = False\n",
    "    # loop only on existing tracts\n",
    "    \n",
    "    for ref in therefs:\n",
    "        tract_id = ref.dataId[\"tract\"]\n",
    "        tractInfo = skymap[tract_id]\n",
    "        if tractInfo.contains(coord):\n",
    "            patchInfo = tractInfo.findPatch(coord)\n",
    "            patch_id = patchInfo.getIndex()  # Tuple (x, y)\n",
    "            patch_indexseq = patchInfo.getSequentialIndex()\n",
    "            print(f\"Tract: {tract_id}, Patch: {patch_indexseq}\")\n",
    "            found = True\n",
    "            break\n",
    "    # Charger l’image coadd correspondante\n",
    "    dataId = {\"tract\": tract_id, \"patch\": patch_indexseq, \"band\": band,\"skymap\": skymapName}\n",
    "    #deepCoadd_calexp\n",
    "    coadd = butler.get(\"deepCoadd_calexp\", dataId)\n",
    "    # Récupération du WCS\n",
    "    wcs = coadd.getWcs()\n",
    "\n",
    "    datatitle = f\"deepcoadd-LSSTComCam : {tract_id} , {patch_indexseq} , {band}\"\n",
    "    print(datatitle)\n",
    "\n",
    "    # Affichage avec marqueur\n",
    "    \n",
    "    display = afwDisplay.Display(frame = framecount)\n",
    "    display.scale('asinh', 'zscale')\n",
    "    #afw_display.scale('linear', min=zmin, max=zmax)\n",
    "    #display.setImageColormap(cmap='grey')\n",
    "    display.setImageColormap(cmap='Grey_r')\n",
    "    display.mtv(coadd.getImage(),title=datatitle)\n",
    "\n",
    "    # Création du point céleste\n",
    "    pix_point = wcs.skyToPixel(coord)\n",
    "    x, y = pix_point.x,pix_point.y\n",
    "    \n",
    "    col = band_to_color[band] \n",
    "    display.dot(\"+\", x, y, size=50, ctype=col)\n",
    "    \n",
    "\n",
    "    \n",
    "    return tract_id, patch_indexseq, band"
   ]
  },
  {
   "cell_type": "code",
   "execution_count": null,
   "id": "6570c4ab-395c-42f1-acfe-c6c65e448526",
   "metadata": {
    "execution": {
     "iopub.execute_input": "2025-05-14T20:49:46.347952Z",
     "iopub.status.busy": "2025-05-14T20:49:46.347826Z",
     "iopub.status.idle": "2025-05-14T20:49:46.357634Z",
     "shell.execute_reply": "2025-05-14T20:49:46.357229Z",
     "shell.execute_reply.started": "2025-05-14T20:49:46.347940Z"
    }
   },
   "outputs": [],
   "source": [
    "def extract_deepCoadd_cutout(\n",
    "    ra_deg,\n",
    "    dec_deg,\n",
    "    tractInfo,\n",
    "    patchInfo,\n",
    "    band,\n",
    "    butler,\n",
    "    skymapName,\n",
    "    cutout_size_pixels,\n",
    "    collection,\n",
    "):\n",
    "    \"\"\"\n",
    "    Extract a square cutout from a deepCoadd image centered on given sky coordinates.\n",
    "\n",
    "    Parameters\n",
    "    ----------\n",
    "    ra_deg : float\n",
    "        Right ascension in degrees.\n",
    "    dec_deg : float\n",
    "        Declination in degrees.\n",
    "    tractInfo : lsst.skymap.TractInfo\n",
    "        Tract information object (from SkyMap).\n",
    "    patchInfo : lsst.skymap.PatchInfo\n",
    "        Patch information object (from SkyMap).\n",
    "    band : str\n",
    "        Photometric band (e.g., 'i', 'r', 'g').\n",
    "    butler : lsst.daf.butler.Butler\n",
    "        Butler instance to access LSST data.\n",
    "    cutout_size_pixels : int, optional\n",
    "        Size of the cutout in pixels (square region), default is 200.\n",
    "    collection : str, optional\n",
    "        Name of the collection containing deepCoadd data.\n",
    "\n",
    "    Returns\n",
    "    -------\n",
    "    cutout : lsst.afw.image.ExposureF\n",
    "        The extracted image cutout.\n",
    "    wcs : lsst.afw.geom.SkyWcs\n",
    "        World Coordinate System associated with the cutout.\n",
    "    metadata : lsst.daf.base.PropertyList\n",
    "        FITS metadata header for the cutout image.\n",
    "    \"\"\"\n",
    "\n",
    "    # Build dataId for the deepCoadd image\n",
    "    tract = tractInfo.getId()\n",
    "    patch = patchInfo.getSequentialIndex()\n",
    "    dataId = dict(tract=tract, patch=patch, band=band, skymap=skymapName)\n",
    "\n",
    "    # Retrieve the deepCoadd exposure\n",
    "    exposure = butler.get(\"deepCoadd\", dataId=dataId, collections=collection)\n",
    "    image_bbox = exposure.getBBox()\n",
    "\n",
    "    # Convert sky coordinates (RA, Dec) to pixel coordinates using WCS\n",
    "    coord = SpherePoint(ra_deg, dec_deg, degrees)\n",
    "    wcs = exposure.getWcs()\n",
    "    pixel_center = wcs.skyToPixel(coord)\n",
    "\n",
    "    half_size = cutout_size_pixels // 2\n",
    "\n",
    "    # Centre du cutout\n",
    "    center_x = int(pixel_center.getX())\n",
    "    center_y = int(pixel_center.getY())\n",
    "\n",
    "    # Coordonnées du coin en bas à gauche\n",
    "    corner_x = max(center_x - half_size, image_bbox.getMinX())\n",
    "    corner_y = max(center_y - half_size, image_bbox.getMinY())\n",
    "\n",
    "    # Ne pas dépasser la taille max de l'image\n",
    "    corner_x = min(corner_x, image_bbox.getMaxX() - cutout_size_pixels)\n",
    "    corner_y = min(corner_y, image_bbox.getMaxY() - cutout_size_pixels)\n",
    "\n",
    "    # Define a square bounding box around the target pixel\n",
    "    # Création du BBox valide\n",
    "    corner = Point2I(corner_x, corner_y)\n",
    "    bbox = Box2I(corner, Extent2I(cutout_size_pixels, cutout_size_pixels))\n",
    "\n",
    "    # Extract the cutout from the original exposure\n",
    "    cutout = exposure.Factory(exposure, bbox, deep=True)\n",
    "\n",
    "    return cutout, cutout.getWcs(), cutout.getMetadata()"
   ]
  },
  {
   "cell_type": "code",
   "execution_count": null,
   "id": "7aff26ed-fb75-47cf-bae9-2708c9f34de3",
   "metadata": {
    "execution": {
     "iopub.execute_input": "2025-05-14T20:49:46.358212Z",
     "iopub.status.busy": "2025-05-14T20:49:46.358080Z",
     "iopub.status.idle": "2025-05-14T20:49:46.365852Z",
     "shell.execute_reply": "2025-05-14T20:49:46.365445Z",
     "shell.execute_reply.started": "2025-05-14T20:49:46.358200Z"
    }
   },
   "outputs": [],
   "source": [
    "def RetrieveDiaObject_forTarget(butler,center_coord,datasettype,where_clause,radius_cut=50):\n",
    "    \"\"\"\n",
    "    Find the closest DIA objectto the target_coord \n",
    "\n",
    "    parameters:\n",
    "    - butler\n",
    "    - the coordinate of the target (center of the cone seach)\n",
    "    - the datasettype name for the DIA object\n",
    "    - where_clause : which contrain requirements on the tract and patch numbers\n",
    "    - cut on angluar separation for the returned for the returned object\n",
    "\n",
    "    Return\n",
    "    - object Id with minimum separation , \n",
    "    - minimum separation (arcec),\n",
    "    - the table of DIA objects within the radius_cut\n",
    "    \"\"\"\n",
    "\n",
    "    #datasettype =  'forcedSourceOnDiaObjectTable'\n",
    "    #datasettype =  'diaSourceTable_tract'\n",
    "    #datasettype = 'goodSeeingDiff_assocSsSrcTable' # bad table\n",
    "    \n",
    "    therefs = butler.registry.queryDatasets(datasettype,  collections=collection, where=where_clause)\n",
    "    listref = list(therefs)\n",
    "    nref = len(listref)\n",
    "\n",
    "    # assume the target is in a single (tract,patch)\n",
    "    assert nref == 1\n",
    "\n",
    "    # loop forcedSourceOnDiaObjectTable (per tract, per patch)\n",
    "    for count,ref in enumerate(therefs):\n",
    "        the_id = ref.dataId\n",
    "        the_tract_id = the_id[\"tract\"] \n",
    "        \n",
    "        assert the_tract_id == TRACTSEL\n",
    "\n",
    "        # catalog of rubin objects (a pandas Dataframe) inside the tract\n",
    "        catalog = butler.get(ref)\n",
    "        nsources = len(catalog)\n",
    "           \n",
    "\n",
    "        # extract the (ra,dec) coordinates for all te objects of the rubin-catalog\n",
    "        ra_cat = catalog[\"ra\"].values\n",
    "        dec_cat = catalog[\"dec\"].values\n",
    "        # coordinates for all rubin-catalog points\n",
    "        catalog_coords = SkyCoord(ra=ra_cat*u.deg, dec=dec_cat*u.deg)\n",
    "\n",
    "        # Angular distance to target\n",
    "        distances_arcsec = center_coord.separation(catalog_coords).arcsecond\n",
    "\n",
    "        # add the separation angle to the ctalog\n",
    "        catalog[\"sep\"] = distances_arcsec\n",
    "\n",
    "\n",
    "        # closest object from the target\n",
    "        sepMin = distances_arcsec.min() \n",
    "        sepMin_idx = np.where(distances_arcsec == sepMin)[0][0]\n",
    "    \n",
    "        closest_obj = catalog[catalog[\"sep\"] <=  sepMin]\n",
    "                   \n",
    "        # select a few of these sources to debug the closest candidate\n",
    "        nearby_obj = catalog[distances_arcsec < radius_cut]\n",
    "        \n",
    "        return closest_obj, sepMin, nearby_obj\n",
    "\n",
    "      "
   ]
  },
  {
   "cell_type": "code",
   "execution_count": null,
   "id": "aa420f55-ba7e-43a9-a2a4-ef0cf3da1944",
   "metadata": {
    "execution": {
     "iopub.execute_input": "2025-05-14T20:49:46.366455Z",
     "iopub.status.busy": "2025-05-14T20:49:46.366327Z",
     "iopub.status.idle": "2025-05-14T20:49:46.373976Z",
     "shell.execute_reply": "2025-05-14T20:49:46.373504Z",
     "shell.execute_reply.started": "2025-05-14T20:49:46.366443Z"
    }
   },
   "outputs": [],
   "source": [
    "def extract_deepCoadd_cutout(\n",
    "    ra_deg,\n",
    "    dec_deg,\n",
    "    tractInfo,\n",
    "    patchInfo,\n",
    "    band,\n",
    "    butler,\n",
    "    skymapName,\n",
    "    cutout_size_pixels,\n",
    "    collection,\n",
    "):\n",
    "    \"\"\"\n",
    "    Extract a square cutout from a deepCoadd image centered on given sky coordinates.\n",
    "\n",
    "    Parameters\n",
    "    ----------\n",
    "    ra_deg : float\n",
    "        Right ascension in degrees.\n",
    "    dec_deg : float\n",
    "        Declination in degrees.\n",
    "    tractInfo : lsst.skymap.TractInfo\n",
    "        Tract information object (from SkyMap).\n",
    "    patchInfo : lsst.skymap.PatchInfo\n",
    "        Patch information object (from SkyMap).\n",
    "    band : str\n",
    "        Photometric band (e.g., 'i', 'r', 'g').\n",
    "    butler : lsst.daf.butler.Butler\n",
    "        Butler instance to access LSST data.\n",
    "    cutout_size_pixels : int, optional\n",
    "        Size of the cutout in pixels (square region), default is 200.\n",
    "    collection : str, optional\n",
    "        Name of the collection containing deepCoadd data.\n",
    "\n",
    "    Returns\n",
    "    -------\n",
    "    cutout : lsst.afw.image.ExposureF\n",
    "        The extracted image cutout.\n",
    "    wcs : lsst.afw.geom.SkyWcs\n",
    "        World Coordinate System associated with the cutout.\n",
    "    metadata : lsst.daf.base.PropertyList\n",
    "        FITS metadata header for the cutout image.\n",
    "    \"\"\"\n",
    "\n",
    "    # Build dataId for the deepCoadd image\n",
    "    tract = tractInfo.getId()\n",
    "    patch = patchInfo.getSequentialIndex()\n",
    "    dataId = dict(tract=tract, patch=patch, band=band, skymap=skymapName)\n",
    "\n",
    "    # Retrieve the deepCoadd exposure\n",
    "    exposure = butler.get(\"deepCoadd\", dataId=dataId, collections=collection)\n",
    "    image_bbox = exposure.getBBox()\n",
    "\n",
    "    # Convert sky coordinates (RA, Dec) to pixel coordinates using WCS\n",
    "    coord = SpherePoint(ra_deg, dec_deg, degrees)\n",
    "    wcs = exposure.getWcs()\n",
    "    pixel_center = wcs.skyToPixel(coord)\n",
    "\n",
    "    half_size = cutout_size_pixels // 2\n",
    "\n",
    "    # Centre du cutout\n",
    "    center_x = int(pixel_center.getX())\n",
    "    center_y = int(pixel_center.getY())\n",
    "\n",
    "    # Coordonnées du coin en bas à gauche\n",
    "    corner_x = max(center_x - half_size, image_bbox.getMinX())\n",
    "    corner_y = max(center_y - half_size, image_bbox.getMinY())\n",
    "\n",
    "    # Ne pas dépasser la taille max de l'image\n",
    "    corner_x = min(corner_x, image_bbox.getMaxX() - cutout_size_pixels)\n",
    "    corner_y = min(corner_y, image_bbox.getMaxY() - cutout_size_pixels)\n",
    "\n",
    "    # Define a square bounding box around the target pixel\n",
    "    # Création du BBox valide\n",
    "    corner = Point2I(corner_x, corner_y)\n",
    "    bbox = Box2I(corner, Extent2I(cutout_size_pixels, cutout_size_pixels))\n",
    "\n",
    "    # Extract the cutout from the original exposure\n",
    "    cutout = exposure.Factory(exposure, bbox, deep=True)\n",
    "\n",
    "    return cutout, cutout.getWcs(), cutout.getMetadata()"
   ]
  },
  {
   "cell_type": "code",
   "execution_count": null,
   "id": "9fb3ddfc-82a0-45d7-b839-0d657f7cfe91",
   "metadata": {
    "execution": {
     "iopub.execute_input": "2025-05-14T20:49:46.374580Z",
     "iopub.status.busy": "2025-05-14T20:49:46.374441Z",
     "iopub.status.idle": "2025-05-14T20:49:46.381254Z",
     "shell.execute_reply": "2025-05-14T20:49:46.380883Z",
     "shell.execute_reply.started": "2025-05-14T20:49:46.374567Z"
    }
   },
   "outputs": [],
   "source": [
    "def plotLightCurvesSeparatedBands(tb,title,subtitle,figname):\n",
    "    \"\"\"\n",
    "    \"\"\"\n",
    "\n",
    "    fig,axs = plt.subplots(6,1,figsize=(18,16),sharex=True,layout=\"constrained\")\n",
    "\n",
    "    for idx,band in enumerate(all_bands):\n",
    "        ax =axs[idx]\n",
    "        ax.scatter(tb[band].mjd, tb[band].mags,color=all_bands_colors[idx])\n",
    "        ax.set_ylabel(\"mag_psfFlux\")\n",
    "        if idx==0:\n",
    "            ax.set_title(target_title,fontweight = \"bold\")\n",
    "    ax.set_xlabel(\"mjd\")\n",
    "    \n",
    "    plt.suptitle(subtitle)\n",
    "    plt.savefig(figname)\n",
    "    plt.show()   "
   ]
  },
  {
   "cell_type": "code",
   "execution_count": null,
   "id": "f6af8960-1909-44a6-a39b-0e97a33a8a67",
   "metadata": {
    "execution": {
     "iopub.execute_input": "2025-05-14T20:49:46.381799Z",
     "iopub.status.busy": "2025-05-14T20:49:46.381671Z",
     "iopub.status.idle": "2025-05-14T20:49:46.388202Z",
     "shell.execute_reply": "2025-05-14T20:49:46.387842Z",
     "shell.execute_reply.started": "2025-05-14T20:49:46.381787Z"
    }
   },
   "outputs": [],
   "source": [
    "def plotLightCurvesAllTogetherBands(tb,title,subtitle,figname):\n",
    "    \"\"\"\n",
    "    \"\"\"\n",
    "    fig,ax = plt.subplots(1,1,figsize=(18,10),sharex=True,layout=\"constrained\")\n",
    "\n",
    "    for idx,band in enumerate([\"u\", \"g\", \"r\", \"i\", \"z\", \"y\"]):\n",
    "        ax.scatter(tb[band].mjd, tb[band].mags,color=all_bands_colors[idx])\n",
    "\n",
    "    ax.set_ylabel(\"mag_psfFlux\")\n",
    "    ax.set_title(target_title,fontweight = \"bold\")\n",
    "    ax.set_xlabel(\"mjd\")\n",
    "\n",
    "    plt.suptitle(subtitle)\n",
    "    plt.savefig(figname)\n",
    "    plt.show()"
   ]
  },
  {
   "cell_type": "code",
   "execution_count": null,
   "id": "2bbb53e9-e293-4ea7-ae47-c78930ce5d93",
   "metadata": {
    "execution": {
     "iopub.execute_input": "2025-05-14T20:49:46.388737Z",
     "iopub.status.busy": "2025-05-14T20:49:46.388611Z",
     "iopub.status.idle": "2025-05-14T20:49:46.432667Z",
     "shell.execute_reply": "2025-05-14T20:49:46.432318Z",
     "shell.execute_reply.started": "2025-05-14T20:49:46.388725Z"
    }
   },
   "outputs": [],
   "source": [
    "# https://pipelines.lsst.io/modules/lsst.geom/getting-started.html\n",
    "func_degToRad = lambda x : Angle(x,lsst.geom.degrees).asRadians()"
   ]
  },
  {
   "cell_type": "code",
   "execution_count": null,
   "id": "5af15c53-1d3f-42ee-81d8-508a2daa56c0",
   "metadata": {
    "execution": {
     "iopub.execute_input": "2025-05-14T20:49:46.433225Z",
     "iopub.status.busy": "2025-05-14T20:49:46.433090Z",
     "iopub.status.idle": "2025-05-14T20:49:46.448954Z",
     "shell.execute_reply": "2025-05-14T20:49:46.448583Z",
     "shell.execute_reply.started": "2025-05-14T20:49:46.433213Z"
    }
   },
   "outputs": [],
   "source": [
    "# Set plotting defaults\n",
    "%matplotlib inline\n",
    "import matplotlib.pyplot as plt\n",
    "from matplotlib.ticker import FormatStrFormatter\n",
    "from matplotlib.colors import ListedColormap\n",
    "from matplotlib import colors\n",
    "zscale = ZScaleInterval()\n",
    "\n",
    "# Set up some plotting defaults:\n",
    "plt.rcParams.update({'figure.figsize' : (12, 8)})\n",
    "plt.rcParams.update({'font.size' : 24})\n",
    "plt.rcParams.update({'axes.linewidth' : 3})\n",
    "plt.rcParams.update({'axes.labelweight' : 3})\n",
    "plt.rcParams.update({'axes.titleweight' : 5})\n",
    "plt.rcParams.update({'ytick.major.width' : 3})\n",
    "plt.rcParams.update({'ytick.minor.width' : 2})\n",
    "plt.rcParams.update({'ytick.major.size' : 8})\n",
    "plt.rcParams.update({'ytick.minor.size' : 5})\n",
    "plt.rcParams.update({'xtick.major.size' : 8})\n",
    "plt.rcParams.update({'xtick.minor.size' : 5})\n",
    "plt.rcParams.update({'xtick.major.width' : 3})\n",
    "plt.rcParams.update({'xtick.minor.width' : 2})\n",
    "plt.rcParams.update({'xtick.direction' : 'in'})\n",
    "plt.rcParams.update({'ytick.direction' : 'in'})\n"
   ]
  },
  {
   "cell_type": "code",
   "execution_count": null,
   "id": "8f02d7f7-cc18-4191-beb4-ad890c13b967",
   "metadata": {
    "execution": {
     "iopub.execute_input": "2025-05-14T20:49:46.449548Z",
     "iopub.status.busy": "2025-05-14T20:49:46.449416Z",
     "iopub.status.idle": "2025-05-14T20:49:46.452567Z",
     "shell.execute_reply": "2025-05-14T20:49:46.452221Z",
     "shell.execute_reply.started": "2025-05-14T20:49:46.449535Z"
    }
   },
   "outputs": [],
   "source": [
    "def nJy_to_ab_mag(f_njy):\n",
    "    \"\"\"Convert scalar or array flux in nJy to AB magnitude.\"\"\"\n",
    "    f_njy = np.asarray(f_njy)\n",
    "    mag = np.full_like(f_njy, fill_value=np.nan, dtype=float)\n",
    "    mask = f_njy > 0\n",
    "    mag[mask] = -2.5 * np.log10(f_njy[mask]) + 31.4\n",
    "    return mag\n",
    "\n",
    "\n",
    "def nJy_err_to_ab_err(f_njy, f_err):\n",
    "    \"\"\"Propagate flux error to magnitude error.\"\"\"\n",
    "    f_njy = np.asarray(f_njy)\n",
    "    f_err = np.asarray(f_err)\n",
    "    mag_err = np.full_like(f_njy, fill_value=np.nan, dtype=float)\n",
    "    mask = (f_njy > 0) & (f_err > 0)\n",
    "    mag_err[mask] = (2.5 / np.log(10)) * (f_err[mask] / f_njy[mask])\n",
    "    return mag_err\n"
   ]
  },
  {
   "cell_type": "code",
   "execution_count": null,
   "id": "88da0b26-88ce-41f8-b5b6-caf1c2d7afe0",
   "metadata": {
    "execution": {
     "iopub.execute_input": "2025-05-14T20:49:46.453124Z",
     "iopub.status.busy": "2025-05-14T20:49:46.452988Z",
     "iopub.status.idle": "2025-05-14T20:49:46.459067Z",
     "shell.execute_reply": "2025-05-14T20:49:46.458686Z",
     "shell.execute_reply.started": "2025-05-14T20:49:46.453112Z"
    }
   },
   "outputs": [],
   "source": [
    "def ab_mag_to_nJy(mag_ab):\n",
    "    \"\"\"Convert AB magnitude to flux in nanojanskys.\"\"\"\n",
    "    return 10 ** ((31.4 - mag_ab) / 2.5)\n"
   ]
  },
  {
   "cell_type": "markdown",
   "id": "a3f04297-3975-4baa-9e7f-146cd717904c",
   "metadata": {},
   "source": [
    "## 1) Build the table of AGN from the Vizier Catalog"
   ]
  },
  {
   "cell_type": "code",
   "execution_count": null,
   "id": "fdd48e59-d068-4c3c-a5f9-1c277959c9a1",
   "metadata": {
    "execution": {
     "iopub.execute_input": "2025-05-14T20:49:46.459656Z",
     "iopub.status.busy": "2025-05-14T20:49:46.459531Z",
     "iopub.status.idle": "2025-05-14T20:49:46.562453Z",
     "shell.execute_reply": "2025-05-14T20:49:46.561990Z",
     "shell.execute_reply.started": "2025-05-14T20:49:46.459644Z"
    }
   },
   "outputs": [],
   "source": [
    "from astroquery.vizier import Vizier\n",
    "from astropy.coordinates import SkyCoord\n",
    "import astropy.units as u"
   ]
  },
  {
   "cell_type": "code",
   "execution_count": null,
   "id": "ffc9c099-0200-4a2f-aea6-98e0369c4c6c",
   "metadata": {
    "execution": {
     "iopub.execute_input": "2025-05-14T20:49:46.563035Z",
     "iopub.status.busy": "2025-05-14T20:49:46.562906Z",
     "iopub.status.idle": "2025-05-14T20:49:46.565349Z",
     "shell.execute_reply": "2025-05-14T20:49:46.564987Z",
     "shell.execute_reply.started": "2025-05-14T20:49:46.563022Z"
    }
   },
   "outputs": [],
   "source": [
    "ECDFS_RA = 53.1\n",
    "ECDFS_DEC = -27.8\n",
    "ECDFS_COORD = SpherePoint(ECDFS_RA, ECDFS_DEC , degrees)"
   ]
  },
  {
   "cell_type": "code",
   "execution_count": null,
   "id": "4a3e4c07-1570-4588-976a-678132c11b09",
   "metadata": {
    "execution": {
     "iopub.execute_input": "2025-05-14T20:49:46.566004Z",
     "iopub.status.busy": "2025-05-14T20:49:46.565761Z",
     "iopub.status.idle": "2025-05-14T20:49:46.604333Z",
     "shell.execute_reply": "2025-05-14T20:49:46.603866Z",
     "shell.execute_reply.started": "2025-05-14T20:49:46.565990Z"
    }
   },
   "outputs": [],
   "source": [
    "# Coordonnées approximatives du centre du E-CDFS\n",
    "coord = SkyCoord(ra=ECDFS_RA, dec = ECDFS_DEC, unit=(u.deg, u.deg), frame='icrs')\n",
    "radius = 15 * u.arcmin\n",
    "\n",
    "# Exemple avec le catalogue Luo+2017 (7Ms CDF-S)\n",
    "catalog_id = \"J/ApJS/228/2\"\n",
    "result = Vizier(columns=[\"*\"]).query_region(coord, radius=radius, catalog=catalog_id)"
   ]
  },
  {
   "cell_type": "code",
   "execution_count": null,
   "id": "474756e6-6c8d-444f-961c-a5dad8b43648",
   "metadata": {
    "execution": {
     "iopub.execute_input": "2025-05-14T20:49:46.607657Z",
     "iopub.status.busy": "2025-05-14T20:49:46.607520Z",
     "iopub.status.idle": "2025-05-14T20:49:46.610390Z",
     "shell.execute_reply": "2025-05-14T20:49:46.609997Z",
     "shell.execute_reply.started": "2025-05-14T20:49:46.607644Z"
    }
   },
   "outputs": [],
   "source": [
    "sources_table = result['J/ApJS/228/2/sources']\n",
    "print(sources_table.colnames)"
   ]
  },
  {
   "cell_type": "code",
   "execution_count": null,
   "id": "1eff963d-56d8-413c-bce5-a0d779c34e99",
   "metadata": {
    "execution": {
     "iopub.execute_input": "2025-05-14T20:49:46.610926Z",
     "iopub.status.busy": "2025-05-14T20:49:46.610799Z",
     "iopub.status.idle": "2025-05-14T20:49:46.621273Z",
     "shell.execute_reply": "2025-05-14T20:49:46.620763Z",
     "shell.execute_reply.started": "2025-05-14T20:49:46.610914Z"
    }
   },
   "outputs": [],
   "source": [
    "# On calcule le log10 de LX\n",
    "logLX = np.log10(sources_table['LX'])\n",
    "\n",
    "# Et on l'ajoute comme nouvelle colonne à la table\n",
    "sources_table['logLX'] = logLX\n",
    "\n",
    "# Attention au nom exact de la colonne\n",
    "logLX = sources_table['logLX']\n",
    "is_agn = logLX > 42\n",
    "\n",
    "is_agn = sources_table['logLX'] > 42  # AGN si LX > 10^42 erg/s\n",
    "agn_table = sources_table[is_agn]"
   ]
  },
  {
   "cell_type": "code",
   "execution_count": null,
   "id": "61a131d7-b7bd-4098-af0e-ff9019ffcb23",
   "metadata": {
    "execution": {
     "iopub.execute_input": "2025-05-14T20:49:46.621839Z",
     "iopub.status.busy": "2025-05-14T20:49:46.621709Z",
     "iopub.status.idle": "2025-05-14T20:49:46.633803Z",
     "shell.execute_reply": "2025-05-14T20:49:46.633161Z",
     "shell.execute_reply.started": "2025-05-14T20:49:46.621827Z"
    }
   },
   "outputs": [],
   "source": [
    "agn_table[['RAJ2000', 'DEJ2000', 'logLX', 'LX', 'zspec']].pprint(max_lines=10)"
   ]
  },
  {
   "cell_type": "code",
   "execution_count": null,
   "id": "e902b64e-1149-4f50-8cf1-b5720ed24da6",
   "metadata": {
    "execution": {
     "iopub.execute_input": "2025-05-14T20:49:46.634616Z",
     "iopub.status.busy": "2025-05-14T20:49:46.634399Z",
     "iopub.status.idle": "2025-05-14T20:49:46.644995Z",
     "shell.execute_reply": "2025-05-14T20:49:46.644608Z",
     "shell.execute_reply.started": "2025-05-14T20:49:46.634594Z"
    }
   },
   "outputs": [],
   "source": [
    "galaxy_table = sources_table[sources_table['OType'] == 'Galaxy']"
   ]
  },
  {
   "cell_type": "code",
   "execution_count": null,
   "id": "b1edfa51-80a6-4d65-944d-c33a505049a3",
   "metadata": {
    "execution": {
     "iopub.execute_input": "2025-05-14T20:49:46.645609Z",
     "iopub.status.busy": "2025-05-14T20:49:46.645462Z",
     "iopub.status.idle": "2025-05-14T20:49:46.654551Z",
     "shell.execute_reply": "2025-05-14T20:49:46.654192Z",
     "shell.execute_reply.started": "2025-05-14T20:49:46.645594Z"
    }
   },
   "outputs": [],
   "source": [
    "galaxy_table[['RAJ2000', 'DEJ2000', 'logLX', 'LX', 'zspec']].pprint(max_lines=10)"
   ]
  },
  {
   "cell_type": "markdown",
   "id": "24980f69-ddd5-4c6b-b868-9f3dad599620",
   "metadata": {},
   "source": [
    "## Plot info from AGN Vizier catalog"
   ]
  },
  {
   "cell_type": "code",
   "execution_count": null,
   "id": "80a3a4fe-38f7-45ea-a7fd-cff3a4670722",
   "metadata": {
    "execution": {
     "iopub.execute_input": "2025-05-14T20:49:46.655232Z",
     "iopub.status.busy": "2025-05-14T20:49:46.655102Z",
     "iopub.status.idle": "2025-05-14T20:49:46.808574Z",
     "shell.execute_reply": "2025-05-14T20:49:46.808105Z",
     "shell.execute_reply.started": "2025-05-14T20:49:46.655219Z"
    }
   },
   "outputs": [],
   "source": [
    "df_galaxy = galaxy_table.to_pandas()\n",
    "df_agn = agn_table.to_pandas()"
   ]
  },
  {
   "cell_type": "code",
   "execution_count": null,
   "id": "14b5093d-cb0e-4cf8-98b4-0c66ec615abf",
   "metadata": {
    "execution": {
     "iopub.execute_input": "2025-05-14T20:49:46.809253Z",
     "iopub.status.busy": "2025-05-14T20:49:46.809112Z",
     "iopub.status.idle": "2025-05-14T20:49:47.005553Z",
     "shell.execute_reply": "2025-05-14T20:49:47.005090Z",
     "shell.execute_reply.started": "2025-05-14T20:49:46.809239Z"
    }
   },
   "outputs": [],
   "source": [
    "plt.figure(figsize=(14,5))\n",
    "\n",
    "plt.subplot(1, 2, 1)\n",
    "plt.hist(df_agn['zspec'].values, bins=20, color='green', alpha=0.7)\n",
    "plt.xlabel(\"Redshift zspec\")\n",
    "plt.ylabel(\"Nombre de sources\")\n",
    "plt.title(\"Distribution en redshift\")\n",
    "\n",
    "plt.subplot(1, 2, 2)\n",
    "plt.hist(df_agn['logLX'].values, bins=20, color='orange', alpha=0.7)\n",
    "plt.xlabel(\"log(Lx) [erg/s]\")\n",
    "plt.ylabel(\"Nombre de sources\")\n",
    "plt.title(\"Distribution de la luminosité X\")\n",
    "\n",
    "plt.tight_layout()\n",
    "plt.show()\n"
   ]
  },
  {
   "cell_type": "markdown",
   "id": "3506978f-3a1e-47a9-90c1-b576f17d092f",
   "metadata": {},
   "source": [
    "## Initialisation of rubin science pipeline\n",
    "- Check here the collection available : https://rubinobs.atlassian.net/wiki/spaces/DM/pages/226656354/LSSTComCam+Intermittent+Cumulative+DRP+Runs"
   ]
  },
  {
   "cell_type": "markdown",
   "id": "032c0193-0ca9-487a-943f-957dcea64a53",
   "metadata": {},
   "source": [
    "## Configuration"
   ]
  },
  {
   "cell_type": "code",
   "execution_count": null,
   "id": "58131b3b-f3bf-461a-8c71-d236e7d5e7fa",
   "metadata": {
    "execution": {
     "iopub.execute_input": "2025-05-14T20:49:47.006203Z",
     "iopub.status.busy": "2025-05-14T20:49:47.006051Z",
     "iopub.status.idle": "2025-05-14T20:49:47.009135Z",
     "shell.execute_reply": "2025-05-14T20:49:47.008765Z",
     "shell.execute_reply.started": "2025-05-14T20:49:47.006189Z"
    }
   },
   "outputs": [],
   "source": [
    "# The output repo is tagged with the Jira ticket number \"DM-40356\":\n",
    "repo = '/repo/main'\n",
    "#collection = 'LSSTComCam/runs/DRP/DP1/w_2025_05/DM-48666' # work\n",
    "#collection = 'LSSTComCam/runs/DRP/DP1/w_2025_06/DM-48810' # work\n",
    "collection = 'LSSTComCam/runs/DRP/DP1/w_2025_10/DM-49359' # work\n",
    "\n",
    "\n",
    "# bad : crash collection = 'LSSTComCam/runs/DRP/DP1/w_2025_08/DM-49029'\n",
    "\n",
    "# bad : collection = \"LSSTComCam/runs/DRP/20241101_20241211/w_2024_51/DM-48233\"\n",
    "\n",
    "# not working perhaps because I am using w_2025_10 version\n",
    "# bad : no ccd visit collection = \"LSSTComCam/runs/DRP/DP1/w_2025_14/DM-49864\"\n",
    "# bad : no ccd visit collection = 'LSSTComCam/runs/DRP/DP1/w_2025_15/DM-50050'\n",
    "# bad : no cce visit collection = 'LSSTComCam/runs/DRP/DP1/w_2025_14/DM-49864'\n",
    "# bad : no cce visit collection collection = 'LSSTComCam/runs/DRP/DP1/w_2025_13/DM-49751'\n",
    "\n",
    "\n",
    "instrument = \"LSSTComCam\"\n",
    "skymapName = \"lsst_cells_v1\"\n",
    "where_clause = \"instrument = \\'\" + instrument+ \"\\'\"\n",
    "collectionStr = collection.replace(\"/\", \"_\")"
   ]
  },
  {
   "cell_type": "markdown",
   "id": "8d979cc1-2d45-4fa0-ac9c-05481509b3af",
   "metadata": {},
   "source": [
    "## Choose Flags"
   ]
  },
  {
   "cell_type": "code",
   "execution_count": null,
   "id": "5aaaded0-f204-4b81-a359-6b9872f7c21d",
   "metadata": {
    "execution": {
     "iopub.execute_input": "2025-05-14T20:49:47.009693Z",
     "iopub.status.busy": "2025-05-14T20:49:47.009562Z",
     "iopub.status.idle": "2025-05-14T20:49:47.017173Z",
     "shell.execute_reply": "2025-05-14T20:49:47.016764Z",
     "shell.execute_reply.started": "2025-05-14T20:49:47.009681Z"
    }
   },
   "outputs": [],
   "source": [
    "FLAG_DUMP_COLLECTIONS = False\n",
    "FLAG_DUMP_DATASETS = False\n",
    "FLAG_DUMP_OBJECTSTABLECOLUMNS = False\n",
    "FLAG_CUT_OBJECTSMAG = True\n",
    "FLAG_CUT_OBJECTSSNR = True\n",
    "FLAG_CUTOUT = True"
   ]
  },
  {
   "cell_type": "code",
   "execution_count": null,
   "id": "a66ee4ac-6255-4779-bdb3-088bee0f7058",
   "metadata": {
    "execution": {
     "iopub.execute_input": "2025-05-14T20:49:47.017954Z",
     "iopub.status.busy": "2025-05-14T20:49:47.017611Z",
     "iopub.status.idle": "2025-05-14T20:49:47.024259Z",
     "shell.execute_reply": "2025-05-14T20:49:47.023899Z",
     "shell.execute_reply.started": "2025-05-14T20:49:47.017940Z"
    }
   },
   "outputs": [],
   "source": [
    "MAGCUT = 24.0\n",
    "SNRCUT = 5.0"
   ]
  },
  {
   "cell_type": "code",
   "execution_count": null,
   "id": "d60358a6-62e7-4cc4-9440-3b178d76abe2",
   "metadata": {
    "execution": {
     "iopub.execute_input": "2025-05-14T20:49:47.024929Z",
     "iopub.status.busy": "2025-05-14T20:49:47.024682Z",
     "iopub.status.idle": "2025-05-14T20:49:47.032076Z",
     "shell.execute_reply": "2025-05-14T20:49:47.031729Z",
     "shell.execute_reply.started": "2025-05-14T20:49:47.024915Z"
    }
   },
   "outputs": [],
   "source": [
    "all_bands = [\"u\", \"g\", \"r\", \"i\", \"z\", \"y\"]\n",
    "all_bands_colors = [\"blue\", \"green\", \"red\", \"orange\", \"yellow\", \"purple\"]"
   ]
  },
  {
   "cell_type": "markdown",
   "id": "e8f0113b-9e9a-46b8-9271-c4bde6d64679",
   "metadata": {},
   "source": [
    "### Initialisation of Butler"
   ]
  },
  {
   "cell_type": "code",
   "execution_count": null,
   "id": "804fcb8b-d567-4a27-b102-05ed002051c4",
   "metadata": {
    "execution": {
     "iopub.execute_input": "2025-05-14T20:49:47.032785Z",
     "iopub.status.busy": "2025-05-14T20:49:47.032474Z",
     "iopub.status.idle": "2025-05-14T20:49:47.424445Z",
     "shell.execute_reply": "2025-05-14T20:49:47.423978Z",
     "shell.execute_reply.started": "2025-05-14T20:49:47.032771Z"
    }
   },
   "outputs": [],
   "source": [
    "# Initialize the butler repo:\n",
    "butler = Butler(repo, collections=collection)\n",
    "registry = butler.registry"
   ]
  },
  {
   "cell_type": "code",
   "execution_count": null,
   "id": "03249edb-84b0-4f36-ae94-af25391b468e",
   "metadata": {
    "execution": {
     "iopub.execute_input": "2025-05-14T20:49:47.425098Z",
     "iopub.status.busy": "2025-05-14T20:49:47.424950Z",
     "iopub.status.idle": "2025-05-14T20:49:47.799917Z",
     "shell.execute_reply": "2025-05-14T20:49:47.799397Z",
     "shell.execute_reply.started": "2025-05-14T20:49:47.425084Z"
    }
   },
   "outputs": [],
   "source": [
    "skymap = butler.get('skyMap', skymap=skymapName, collections=collection)"
   ]
  },
  {
   "cell_type": "code",
   "execution_count": null,
   "id": "5b61a4a0-edcf-462f-be02-61502f79db0b",
   "metadata": {
    "execution": {
     "iopub.execute_input": "2025-05-14T20:49:47.800598Z",
     "iopub.status.busy": "2025-05-14T20:49:47.800459Z",
     "iopub.status.idle": "2025-05-14T20:49:48.303366Z",
     "shell.execute_reply": "2025-05-14T20:49:48.302891Z",
     "shell.execute_reply.started": "2025-05-14T20:49:47.800584Z"
    }
   },
   "outputs": [],
   "source": [
    "camera = butler.get(\"camera\", collections=collection, instrument=instrument)"
   ]
  },
  {
   "cell_type": "code",
   "execution_count": null,
   "id": "ef1ab817-3225-4cc3-82b5-37f86d1f33cc",
   "metadata": {
    "execution": {
     "iopub.execute_input": "2025-05-14T20:49:48.304038Z",
     "iopub.status.busy": "2025-05-14T20:49:48.303897Z",
     "iopub.status.idle": "2025-05-14T20:49:48.308050Z",
     "shell.execute_reply": "2025-05-14T20:49:48.307676Z",
     "shell.execute_reply.started": "2025-05-14T20:49:48.304024Z"
    }
   },
   "outputs": [],
   "source": [
    "# 4. Trouver dans quel tract/patch se trouve la coordonnée\n",
    "ECDFS_tract_info = skymap.findTract(ECDFS_COORD)"
   ]
  },
  {
   "cell_type": "code",
   "execution_count": null,
   "id": "d8becbb0-1595-447b-a2ea-fe81515fbd3a",
   "metadata": {
    "execution": {
     "iopub.execute_input": "2025-05-14T20:49:48.308604Z",
     "iopub.status.busy": "2025-05-14T20:49:48.308474Z",
     "iopub.status.idle": "2025-05-14T20:49:48.316457Z",
     "shell.execute_reply": "2025-05-14T20:49:48.316091Z",
     "shell.execute_reply.started": "2025-05-14T20:49:48.308591Z"
    }
   },
   "outputs": [],
   "source": [
    "print('Tract number for ECDFS ::',ECDFS_tract_info.getId())"
   ]
  },
  {
   "cell_type": "code",
   "execution_count": null,
   "id": "fa1992cb-691e-4408-a03b-2477c0bf052d",
   "metadata": {
    "execution": {
     "iopub.execute_input": "2025-05-14T20:49:48.316954Z",
     "iopub.status.busy": "2025-05-14T20:49:48.316830Z",
     "iopub.status.idle": "2025-05-14T20:49:48.323295Z",
     "shell.execute_reply": "2025-05-14T20:49:48.322927Z",
     "shell.execute_reply.started": "2025-05-14T20:49:48.316941Z"
    }
   },
   "outputs": [],
   "source": [
    "TRACTSEL = ECDFS_tract_info.getId()"
   ]
  },
  {
   "cell_type": "code",
   "execution_count": null,
   "id": "f9fa13a1-94b3-4fe1-9716-a05ec15f576c",
   "metadata": {
    "execution": {
     "iopub.execute_input": "2025-05-14T20:49:48.323818Z",
     "iopub.status.busy": "2025-05-14T20:49:48.323692Z",
     "iopub.status.idle": "2025-05-14T20:49:48.330525Z",
     "shell.execute_reply": "2025-05-14T20:49:48.330167Z",
     "shell.execute_reply.started": "2025-05-14T20:49:48.323806Z"
    }
   },
   "outputs": [],
   "source": [
    "print(f\"TRACT : {TRACTSEL}\")"
   ]
  },
  {
   "cell_type": "code",
   "execution_count": null,
   "id": "826aebd4-b08d-4259-a715-2274b75182c2",
   "metadata": {
    "execution": {
     "iopub.execute_input": "2025-05-14T20:49:48.331050Z",
     "iopub.status.busy": "2025-05-14T20:49:48.330925Z",
     "iopub.status.idle": "2025-05-14T20:49:48.337566Z",
     "shell.execute_reply": "2025-05-14T20:49:48.337223Z",
     "shell.execute_reply.started": "2025-05-14T20:49:48.331037Z"
    }
   },
   "outputs": [],
   "source": [
    "# Check here the collections available\n",
    "if FLAG_DUMP_COLLECTIONS:\n",
    "    for _ in sorted(registry.queryCollections(expression=instrument + \"/*\")):\n",
    "        if \"/calib/\" not in _ and \"u/\" not in _:\n",
    "            print(_)"
   ]
  },
  {
   "cell_type": "code",
   "execution_count": null,
   "id": "59563647-7ecd-4366-a7e8-eb2354393559",
   "metadata": {
    "execution": {
     "iopub.execute_input": "2025-05-14T20:49:48.338175Z",
     "iopub.status.busy": "2025-05-14T20:49:48.338032Z",
     "iopub.status.idle": "2025-05-14T20:49:48.346187Z",
     "shell.execute_reply": "2025-05-14T20:49:48.345804Z",
     "shell.execute_reply.started": "2025-05-14T20:49:48.338161Z"
    }
   },
   "outputs": [],
   "source": [
    "if FLAG_DUMP_DATASETS:\n",
    "    for datasetType in registry.queryDatasetTypes():\n",
    "        if registry.queryDatasets(datasetType, collections=collection_validation).any(\n",
    "            execute=False, exact=False\n",
    "        ):\n",
    "            # Limit search results to the data products\n",
    "            if (\n",
    "                (\"_config\" not in datasetType.name)\n",
    "                and (\"_log\" not in datasetType.name)\n",
    "                and (\"_metadata\" not in datasetType.name)\n",
    "                and (\"_resource_usage\" not in datasetType.name)\n",
    "                and (\"Plot\" not in datasetType.name)\n",
    "                and (\"Metric\" not in datasetType.name)\n",
    "                and (\"metric\" not in datasetType.name)\n",
    "                and ((\"Table\" in datasetType.name) or (\"Zeropointp\" in datasetType.name) or (\"fgcm\" in datasetType.name) or (\"transm\" in datasetType.name) or (\"Transm\" in datasetType.name)\n",
    "                or (\"source\" in datasetType.name) or (\"Source\" in datasetType.name) or (\"object\" in datasetType.name) or (\"Object\" in datasetType.name))\n",
    "            ):\n",
    "                \n",
    "                print(datasetType)"
   ]
  },
  {
   "cell_type": "markdown",
   "id": "57be8008-c849-440e-9bae-8649564d3373",
   "metadata": {},
   "source": [
    "### Get list of Tracts and Patches\n",
    "\n",
    "- Just to know which tracts are involved in the observations"
   ]
  },
  {
   "cell_type": "code",
   "execution_count": null,
   "id": "c0823ed5-9b23-4548-af23-12d707772667",
   "metadata": {
    "execution": {
     "iopub.execute_input": "2025-05-14T20:49:48.346737Z",
     "iopub.status.busy": "2025-05-14T20:49:48.346607Z",
     "iopub.status.idle": "2025-05-14T20:49:48.413676Z",
     "shell.execute_reply": "2025-05-14T20:49:48.413300Z",
     "shell.execute_reply.started": "2025-05-14T20:49:48.346724Z"
    }
   },
   "outputs": [],
   "source": [
    "datasettype = \"objectTable_tract\"\n",
    "therefs = butler.registry.queryDatasets(datasettype,  collections=collection)"
   ]
  },
  {
   "cell_type": "code",
   "execution_count": null,
   "id": "f810d737-c393-40bb-bc60-32e3706cf4a0",
   "metadata": {
    "execution": {
     "iopub.execute_input": "2025-05-14T20:49:48.414280Z",
     "iopub.status.busy": "2025-05-14T20:49:48.414144Z",
     "iopub.status.idle": "2025-05-14T20:49:48.424400Z",
     "shell.execute_reply": "2025-05-14T20:49:48.424017Z",
     "shell.execute_reply.started": "2025-05-14T20:49:48.414265Z"
    }
   },
   "outputs": [],
   "source": [
    "tractsId_list = np.unique([ref.dataId['tract'] for ref in therefs])\n",
    "tractsId_list = sorted(tractsId_list)\n",
    "print(tractsId_list)"
   ]
  },
  {
   "cell_type": "markdown",
   "id": "b20d2431-baf2-4f64-acdd-4301479d3981",
   "metadata": {
    "execution": {
     "iopub.execute_input": "2025-04-21T12:06:53.157322Z",
     "iopub.status.busy": "2025-04-21T12:06:53.157187Z",
     "iopub.status.idle": "2025-04-21T12:06:53.279027Z",
     "shell.execute_reply": "2025-04-21T12:06:53.278463Z",
     "shell.execute_reply.started": "2025-04-21T12:06:53.157309Z"
    }
   },
   "source": [
    "## Select AGN which are in the selected Patch"
   ]
  },
  {
   "cell_type": "code",
   "execution_count": null,
   "id": "6f2bea9b-889e-486d-a023-f2bf0e568f6a",
   "metadata": {
    "execution": {
     "iopub.execute_input": "2025-05-14T20:49:48.425025Z",
     "iopub.status.busy": "2025-05-14T20:49:48.424890Z",
     "iopub.status.idle": "2025-05-14T20:49:48.443905Z",
     "shell.execute_reply": "2025-05-14T20:49:48.443552Z",
     "shell.execute_reply.started": "2025-05-14T20:49:48.425012Z"
    }
   },
   "outputs": [],
   "source": [
    "df_agn[df_agn[\"zspec\"]<2]"
   ]
  },
  {
   "cell_type": "code",
   "execution_count": null,
   "id": "ee4d85d6-2e9a-4fff-9cbf-044565619bdc",
   "metadata": {
    "execution": {
     "iopub.execute_input": "2025-05-14T20:49:48.444453Z",
     "iopub.status.busy": "2025-05-14T20:49:48.444324Z",
     "iopub.status.idle": "2025-05-14T20:49:48.447567Z",
     "shell.execute_reply": "2025-05-14T20:49:48.447220Z",
     "shell.execute_reply.started": "2025-05-14T20:49:48.444441Z"
    }
   },
   "outputs": [],
   "source": [
    "galaxyindex_selected = []\n",
    "N =len(df_galaxy)\n",
    "for idx in range(N):\n",
    "    ra_target,dec_target = df_galaxy.iloc[idx][['RAJ2000','DEJ2000']]\n",
    "    target_point = SpherePoint(ra_target, dec_target, degrees)\n",
    "    if ECDFS_tract_info.contains(target_point):\n",
    "        galaxyindex_selected.append(idx)         "
   ]
  },
  {
   "cell_type": "code",
   "execution_count": null,
   "id": "e882f9ae-7f26-4593-bfe5-979699f26793",
   "metadata": {
    "execution": {
     "iopub.execute_input": "2025-05-14T20:49:48.448099Z",
     "iopub.status.busy": "2025-05-14T20:49:48.447956Z",
     "iopub.status.idle": "2025-05-14T20:49:48.454134Z",
     "shell.execute_reply": "2025-05-14T20:49:48.453765Z",
     "shell.execute_reply.started": "2025-05-14T20:49:48.448087Z"
    }
   },
   "outputs": [],
   "source": [
    "print(galaxyindex_selected)"
   ]
  },
  {
   "cell_type": "code",
   "execution_count": null,
   "id": "3acd9664-74f4-4dcc-abfc-80d3315ff166",
   "metadata": {
    "execution": {
     "iopub.execute_input": "2025-05-14T20:49:48.454663Z",
     "iopub.status.busy": "2025-05-14T20:49:48.454537Z",
     "iopub.status.idle": "2025-05-14T20:49:48.477583Z",
     "shell.execute_reply": "2025-05-14T20:49:48.477234Z",
     "shell.execute_reply.started": "2025-05-14T20:49:48.454651Z"
    }
   },
   "outputs": [],
   "source": [
    "agnindex_selected = []\n",
    "N =len(df_agn)\n",
    "for idx in range(N):\n",
    "    ra_target,dec_target = df_agn.iloc[idx][['RAJ2000','DEJ2000']]\n",
    "    target_point = SpherePoint(ra_target, dec_target, degrees)\n",
    "    if ECDFS_tract_info.contains(target_point):\n",
    "        agnindex_selected.append(idx)         "
   ]
  },
  {
   "cell_type": "code",
   "execution_count": null,
   "id": "21e97d92-72b3-48f2-b1a5-b1d96b5faadc",
   "metadata": {
    "execution": {
     "iopub.execute_input": "2025-05-14T20:49:48.478264Z",
     "iopub.status.busy": "2025-05-14T20:49:48.477994Z",
     "iopub.status.idle": "2025-05-14T20:49:48.480684Z",
     "shell.execute_reply": "2025-05-14T20:49:48.480337Z",
     "shell.execute_reply.started": "2025-05-14T20:49:48.478252Z"
    }
   },
   "outputs": [],
   "source": [
    "print(agnindex_selected)"
   ]
  },
  {
   "cell_type": "markdown",
   "id": "df756992-5ef1-4446-8746-8171dc1e75fe",
   "metadata": {},
   "source": [
    "## Specify which kind of curves"
   ]
  },
  {
   "cell_type": "code",
   "execution_count": null,
   "id": "c7a40efc-fda6-4434-b9b1-5e6b6ffe4702",
   "metadata": {
    "execution": {
     "iopub.execute_input": "2025-05-14T20:49:48.481334Z",
     "iopub.status.busy": "2025-05-14T20:49:48.481111Z",
     "iopub.status.idle": "2025-05-14T20:49:48.527629Z",
     "shell.execute_reply": "2025-05-14T20:49:48.527271Z",
     "shell.execute_reply.started": "2025-05-14T20:49:48.481321Z"
    }
   },
   "outputs": [],
   "source": [
    "datasettype = 'diaObjectTable_tract'\n",
    "#datasettype =  'forcedSourceOnDiaObjectTable'\n",
    "#datasettype =  'diaSourceTable_tract'\n",
    "#datasettype = 'goodSeeingDiff_assocSsSrcTable' # bad table\n",
    "subtitle = collectionStr + \"_\" + datasettype"
   ]
  },
  {
   "cell_type": "code",
   "execution_count": null,
   "id": "729d4ce2-df4b-445f-855f-adb78aa7c027",
   "metadata": {
    "execution": {
     "execution_failed": "2025-05-14T20:56:25.621Z",
     "iopub.execute_input": "2025-05-14T20:49:48.528258Z",
     "iopub.status.busy": "2025-05-14T20:49:48.528134Z"
    }
   },
   "outputs": [],
   "source": [
    "FLAG_AGN_SELECTED  = True\n",
    "iframe = 0\n",
    "all_sep = np.zeros(N)\n",
    "all_ndia = np.zeros(N)\n",
    "\n",
    "### Loop on AGN\n",
    "for index_agn, row_agn in enumerate(df_agn.iterrows()):\n",
    "    index_agn_selected = index_agn\n",
    "    index_galaxy_selected = 0\n",
    "\n",
    "    if FLAG_AGN_SELECTED: \n",
    "        ra_target,dec_target = df_agn.iloc[index_agn_selected ][['RAJ2000','DEJ2000']]\n",
    "        target_point = SpherePoint(ra_target, dec_target, degrees)\n",
    "        target_coord = SkyCoord(ra=ra_target*u.deg, dec=dec_target*u.deg)\n",
    "        logLx = df_agn.iloc[index_agn_selected ]['logLX']\n",
    "        zspec = df_agn.iloc[index_agn_selected ]['zspec']\n",
    "        target_title = f\"agn :: {index_agn_selected}, log L(erg/s) = {logLx:.2f} , zspec = {zspec:.2f}, (ra,dec) = {ra_target:.5f},{dec_target:.5f}\"\n",
    "        target_name = f\"agn :: {index_agn_selected}\"\n",
    "    else:\n",
    "        ra_target,dec_target = df_galaxy.iloc[index_galaxy_selected ][['RAJ2000','DEJ2000']]\n",
    "        target_point = SpherePoint(ra_target, dec_target, degrees)\n",
    "        target_coord = SkyCoord(ra=ra_target*u.deg, dec=dec_target*u.deg)\n",
    "        logLx = df_galaxy.iloc[index_galaxy_selected ]['logLX']\n",
    "        zspec = df_galaxy.iloc[index_galaxy_selected ]['zspec']\n",
    "        target_title = f\"galaxy :: {index_galaxy_selected}, log L(erg/s) = {logLx:.2f} , zspec = {zspec:.2f}, (ra,dec) = {ra_target:.5f},{dec_target:.5f}\"\n",
    "        target_name = f\"galaxy :: {index_galaxy_selected}\"\n",
    "\n",
    "   \n",
    "\n",
    "    ## Find in which patch is the target\n",
    "    tract_info = ECDFS_tract_info\n",
    "    patch_info = ECDFS_tract_info.findPatch(target_point)\n",
    "    tractNbSel = ECDFS_tract_info.getId()\n",
    "    patchNbSel =  patch_info.getSequentialIndex()\n",
    "    where_clause = f\"skymap = '{skymapName}' AND tract = {tractNbSel} AND patch = {patchNbSel}\"\n",
    "    print(where_clause)\n",
    "\n",
    "\n",
    "    ## Retrieve th sources associated with that AGN\n",
    "   \n",
    "    closest_obj, sepMin, nearby_obj = RetrieveDiaObject_forTarget(butler,target_coord,datasettype,where_clause)\n",
    "\n",
    "\n",
    "    ## check the separation angle\n",
    "    fig, ax = plt.subplots(1,1,figsize=(10,4))\n",
    "    nearby_obj[\"sep\"].hist(bins=50,ax=ax,facecolor=\"b\")\n",
    "    closest_obj[\"sep\"].hist(bins=50,range=(0,50),ax=ax,facecolor=\"r\")\n",
    "    ax.set_yscale(\"log\")\n",
    "    title_hist = f\"{target_name} , ({tractNbSel}, {patchNbSel}) sep={sepMin:.2f} arcsec\"\n",
    "    ax.set_title(title_hist)\n",
    "    ax.set_xlabel(\"separation angle (arcsec)\")\n",
    "    plt.show()\n",
    "\n",
    "    closed_obj_cleaned = closest_obj.dropna(axis=1,how='all')\n",
    "    closed_obj_cleaned.reset_index(level=0, inplace=True)\n",
    "\n",
    "\n",
    "    id_name = \"diaObjectId\" \n",
    "    ra_name = \"ra\"\n",
    "    dec_name = \"dec\"\n",
    "    ndia_name = \"nDiaSources\"\n",
    "   \n",
    "    \n",
    "    # object\n",
    "    df_obj = closed_obj_cleaned.iloc[0]\n",
    "    #df_obj[id_name] = df_obj[id_name].astype(int)\n",
    "    name_obj = int(df_obj[id_name])\n",
    "    ra_obj = float(df_obj[ra_name])\n",
    "    dec_obj = float(df_obj[dec_name])\n",
    "    ndia_obj = int(df_obj[ndia_name])\n",
    "\n",
    "    all_sep[index_agn] = sepMin\n",
    "    all_ndia[index_agn] = ndia_obj\n",
    "\n",
    "    if FLAG_CUTOUT:\n",
    "\n",
    "        for ib,band in enumerate(all_bands):\n",
    "    \n",
    "            iframe +=  1\n",
    "            title_obj = f\"{target_name} {band} {ra_obj:.3f}, {dec_obj:.3f}\"\n",
    "            \n",
    "    \n",
    "            # Extract the cutout around the GEM catalog\n",
    "            cutout, wcs, metadata = extract_deepCoadd_cutout(\n",
    "                ra_deg=ra_target,\n",
    "                dec_deg=dec_target,\n",
    "                tractInfo=tract_info,\n",
    "                patchInfo=patch_info,\n",
    "                band=band,\n",
    "                butler=butler,\n",
    "                skymapName=skymapName,\n",
    "                cutout_size_pixels = 50,\n",
    "                collection = collection,\n",
    "            )\n",
    "\n",
    "            # Optionnel : nom unique si plusieurs affichages\n",
    "            display = afwDisplay.Display(frame=iframe)\n",
    "            # Affiche le cutout\n",
    "            display.mtv(cutout.image, title=title_obj)\n",
    "\n",
    "            # Show the object\n",
    "            wcs = cutout.getWcs()\n",
    "            coord_obj = SpherePoint(ra_obj, dec_obj, degrees)\n",
    "            pixel_obj = wcs.skyToPixel(coord_obj)  # donne un Point2D (x, y)\n",
    "\n",
    "            display.dot(\"o\", pixel_obj.getX(), pixel_obj.getY(), size=10, ctype=all_bands_colors[ib])\n",
    "\n",
    "            coord_target = SpherePoint(ra_target, dec_target, degrees)\n",
    "            pixel_target = wcs.skyToPixel(coord_target)  # donne un Point2D (x, y)\n",
    "            display.dot(\"+\", pixel_target.getX(), pixel_target.getY(), size=10, ctype=all_bands_colors[ib])\n",
    "\n",
    "   \n",
    "   \n"
   ]
  },
  {
   "cell_type": "code",
   "execution_count": null,
   "id": "82180c6c-4090-40ec-9631-b2b90a6f447f",
   "metadata": {
    "execution": {
     "execution_failed": "2025-05-14T20:56:25.621Z"
    }
   },
   "outputs": [],
   "source": [
    "all_sep"
   ]
  },
  {
   "cell_type": "code",
   "execution_count": null,
   "id": "6e630636-0d67-4437-b811-81fff741444c",
   "metadata": {
    "execution": {
     "execution_failed": "2025-05-14T20:56:25.621Z"
    }
   },
   "outputs": [],
   "source": [
    "all_ndia"
   ]
  },
  {
   "cell_type": "code",
   "execution_count": null,
   "id": "1190d21f-e669-4c69-bd02-5d064b267c76",
   "metadata": {},
   "outputs": [],
   "source": []
  }
 ],
 "metadata": {
  "kernelspec": {
   "display_name": "LSST",
   "language": "python",
   "name": "lsst"
  },
  "language_info": {
   "codemirror_mode": {
    "name": "ipython",
    "version": 3
   },
   "file_extension": ".py",
   "mimetype": "text/x-python",
   "name": "python",
   "nbconvert_exporter": "python",
   "pygments_lexer": "ipython3",
   "version": "3.12.10"
  }
 },
 "nbformat": 4,
 "nbformat_minor": 5
}
