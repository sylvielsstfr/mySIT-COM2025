{
 "cells": [
  {
   "cell_type": "markdown",
   "id": "8f3da262-37ed-407f-908c-8ac5a52cb4db",
   "metadata": {},
   "source": [
    "# Search for AGN and neighbouring objects in the Extended Chandra Deep Field South and show their Light Curves\n",
    "\n",
    "- Confluence page : https://rubinobs.atlassian.net/wiki/spaces/LSSTCOM/pages/372867091/System-level+Science+Performance+Verification+Sprint\n",
    "- slides : https://docs.google.com/presentation/d/1bPjS5NGtiEL2lfjmvP1UYdG_tMEDfZxX26ayhf7MhtY/edit#slide=id.ga2f7fb1a1f_0_70"
   ]
  },
  {
   "cell_type": "markdown",
   "id": "f3737976-eab8-4483-a79d-796f738c4f22",
   "metadata": {},
   "source": [
    "- where to find the campains\n",
    "- https://rubinobs.atlassian.net/wiki/spaces/DM/pages/226656354/LSSTComCam+Intermittent+Cumulative+DRP+Runs\n",
    "\n",
    "- plot Navigator\n",
    "- https://usdf-rsp.slac.stanford.edu/plot-navigator\n",
    "- https://usdf-rsp.slac.stanford.edu/plot-navigator/plot/%2Frepo%2Fmain/LSSTComCam%2Fruns%2FDRP%2FDP1%2Fw_2025_05%2FDM-48666/objectTableCore_coaddInputCount_SkyPlot"
   ]
  },
  {
   "cell_type": "markdown",
   "id": "53b4594d-5de5-4fa1-8ada-f60f0018cac5",
   "metadata": {},
   "source": [
    "- Notebooks examples\n",
    "- https://github.com/lsst-dm/DMTR-401/blob/main/notebooks/test_LVV-T40_T1240.ipynb\n",
    "- https://github.com/lsst-dm/DMTR-412/blob/tickets/DM-38728/notebooks/test_LVV-T1751_AM1_AM2.ipynb"
   ]
  },
  {
   "cell_type": "markdown",
   "id": "8402aac4-562a-40cd-ac2b-c1ca76cae55b",
   "metadata": {},
   "source": [
    "- author : Sylvie Dagoret-Campagne\n",
    "- creation date : 2025-05-13\n",
    "- last update : 2025-05-13\n",
    "- Redo Visits like here : https://github.com/sylvielsstfr/LSST-Rehearsal2024/blob/main/notebooks/Visits/stat_on_visits_LSSTComCamSim.ipynb\n",
    "- To find what I did on LSSTComCamSim : https://github.com/sylvielsstfr/LSST-Rehearsal2024/blob/main/notebooks/LightCurves/MultiColor_lightCurves-DMRehearsal2024_01-AuxTel-DZPOnCCD.ipynb\n",
    "- **Confluence page** : https://rubinobs.atlassian.net/wiki/spaces/LSSTCOM/pages/443613290/Science+Verification+Sprint+Feb+2025\n"
   ]
  },
  {
   "cell_type": "code",
   "execution_count": null,
   "id": "9d583412-a5a0-456e-84be-1fb658ddf016",
   "metadata": {
    "execution": {
     "iopub.execute_input": "2025-05-13T21:40:30.740267Z",
     "iopub.status.busy": "2025-05-13T21:40:30.740133Z",
     "iopub.status.idle": "2025-05-13T21:40:31.800825Z",
     "shell.execute_reply": "2025-05-13T21:40:31.800209Z",
     "shell.execute_reply.started": "2025-05-13T21:40:30.740253Z"
    }
   },
   "outputs": [],
   "source": [
    "# Confirm that the version of the Science Pipelines is recent:\n",
    "! echo $HOSTNAME\n",
    "! eups list -s | grep lsst_distrib"
   ]
  },
  {
   "cell_type": "code",
   "execution_count": null,
   "id": "8fbb9671-7d8e-4724-8c58-0f0a4fb9e5f0",
   "metadata": {
    "execution": {
     "iopub.execute_input": "2025-05-13T21:40:31.801673Z",
     "iopub.status.busy": "2025-05-13T21:40:31.801513Z",
     "iopub.status.idle": "2025-05-13T21:40:33.103124Z",
     "shell.execute_reply": "2025-05-13T21:40:33.102386Z",
     "shell.execute_reply.started": "2025-05-13T21:40:31.801656Z"
    }
   },
   "outputs": [],
   "source": [
    "from lsst.daf.butler import Butler\n",
    "import lsst.geom as geom\n",
    "\n",
    "import lsst.afw.display as afwDisplay\n",
    "\n",
    "from lsst.geom import SpherePoint, degrees, Point2D, Point2I, Extent2I, Box2I\n",
    "from lsst.afw.image import ExposureF"
   ]
  },
  {
   "cell_type": "code",
   "execution_count": null,
   "id": "8983f25c-dadf-434b-bb84-e24a3150f766",
   "metadata": {
    "execution": {
     "iopub.execute_input": "2025-05-13T21:40:33.103947Z",
     "iopub.status.busy": "2025-05-13T21:40:33.103557Z",
     "iopub.status.idle": "2025-05-13T21:40:33.162287Z",
     "shell.execute_reply": "2025-05-13T21:40:33.161793Z",
     "shell.execute_reply.started": "2025-05-13T21:40:33.103931Z"
    }
   },
   "outputs": [],
   "source": [
    "afwDisplay.setDefaultBackend(\"firefly\")"
   ]
  },
  {
   "cell_type": "code",
   "execution_count": null,
   "id": "e814e3d6-750c-4e7f-a9a5-5bf1e2f7205f",
   "metadata": {
    "execution": {
     "iopub.execute_input": "2025-05-13T21:40:33.163266Z",
     "iopub.status.busy": "2025-05-13T21:40:33.162912Z",
     "iopub.status.idle": "2025-05-13T21:40:34.641036Z",
     "shell.execute_reply": "2025-05-13T21:40:34.640421Z",
     "shell.execute_reply.started": "2025-05-13T21:40:33.163252Z"
    }
   },
   "outputs": [],
   "source": [
    "import os\n",
    "import gc\n",
    "import glob\n",
    "import numpy as np\n",
    "import pandas as pd\n",
    "import random\n",
    "\n",
    "import astropy.units as u\n",
    "from astropy.coordinates import SkyCoord\n",
    "from astroquery.gaia import Gaia\n",
    "Gaia.MAIN_GAIA_TABLE = \"gaiadr3.gaia_source\"  # Reselect Data Release 3, default\n",
    "Gaia.ROW_LIMIT = 100000\n",
    "from astropy.visualization import (MinMaxInterval, AsinhStretch, ZScaleInterval, LogStretch, LinearStretch,\n",
    "                                   ImageNormalize)"
   ]
  },
  {
   "cell_type": "code",
   "execution_count": null,
   "id": "e68df967-7870-47da-a4dd-760df6732aa5",
   "metadata": {
    "execution": {
     "iopub.execute_input": "2025-05-13T21:40:34.642099Z",
     "iopub.status.busy": "2025-05-13T21:40:34.641733Z",
     "iopub.status.idle": "2025-05-13T21:40:35.280950Z",
     "shell.execute_reply": "2025-05-13T21:40:35.280420Z",
     "shell.execute_reply.started": "2025-05-13T21:40:34.642083Z"
    }
   },
   "outputs": [],
   "source": [
    "import seaborn as sns\n",
    "from itertools import cycle, islice"
   ]
  },
  {
   "cell_type": "code",
   "execution_count": null,
   "id": "f385c649-efb6-40a8-b9f7-ebc65c441a04",
   "metadata": {
    "execution": {
     "iopub.execute_input": "2025-05-13T21:40:35.281796Z",
     "iopub.status.busy": "2025-05-13T21:40:35.281485Z",
     "iopub.status.idle": "2025-05-13T21:40:35.284308Z",
     "shell.execute_reply": "2025-05-13T21:40:35.283875Z",
     "shell.execute_reply.started": "2025-05-13T21:40:35.281778Z"
    }
   },
   "outputs": [],
   "source": [
    "from astropy.time import Time\n",
    "from datetime import datetime, timedelta"
   ]
  },
  {
   "cell_type": "code",
   "execution_count": null,
   "id": "46c68d72-750b-4bb9-b92a-1fe6e1728171",
   "metadata": {
    "execution": {
     "iopub.execute_input": "2025-05-13T21:40:35.284938Z",
     "iopub.status.busy": "2025-05-13T21:40:35.284791Z",
     "iopub.status.idle": "2025-05-13T21:40:35.293494Z",
     "shell.execute_reply": "2025-05-13T21:40:35.293109Z",
     "shell.execute_reply.started": "2025-05-13T21:40:35.284925Z"
    }
   },
   "outputs": [],
   "source": [
    "import lsst\n",
    "import lsst.geom as geom\n",
    "from lsst.geom import Angle\n",
    "from lsst.geom import SpherePoint\n",
    "from lsst.geom import AngleUnit"
   ]
  },
  {
   "cell_type": "code",
   "execution_count": null,
   "id": "224cf803-f7cc-4e49-9dc9-46779557286e",
   "metadata": {
    "execution": {
     "iopub.execute_input": "2025-05-13T21:40:35.294151Z",
     "iopub.status.busy": "2025-05-13T21:40:35.294019Z",
     "iopub.status.idle": "2025-05-13T21:40:35.303770Z",
     "shell.execute_reply": "2025-05-13T21:40:35.303380Z",
     "shell.execute_reply.started": "2025-05-13T21:40:35.294139Z"
    }
   },
   "outputs": [],
   "source": [
    "def find_tract_patch_and_display(butler, skymap,ra_deg, dec_deg, band, framecount):\n",
    "    \"\"\"\n",
    "    - butler\n",
    "    - skymap\n",
    "    - ra_deg, dec_deg : source\n",
    "    - band\n",
    "    - framecount\n",
    "    \"\"\"\n",
    "    # Ouvrir le dépôt\n",
    "    #butler = Butler(repo)\n",
    "    #skymap = butler.get(\"skyMap\")\n",
    "    band_to_color = {\"u\":\"blue\",\"g\":\"green\",\"r\":\"red\",\"i\":\"orange\",\"z\":\"yellow\",\"y\":\"purple\"}\n",
    "\n",
    "    datasettype = \"objectTable_tract\"\n",
    "    therefs = butler.registry.queryDatasets(datasettype,  collections=collection)\n",
    "\n",
    "    # Créer le point céleste\n",
    "    coord = SpherePoint(ra_deg * degrees, dec_deg * degrees)\n",
    "\n",
    "\n",
    "    found = False\n",
    "    # loop only on existing tracts\n",
    "    \n",
    "    for ref in therefs:\n",
    "        tract_id = ref.dataId[\"tract\"]\n",
    "        tractInfo = skymap[tract_id]\n",
    "        if tractInfo.contains(coord):\n",
    "            patchInfo = tractInfo.findPatch(coord)\n",
    "            patch_id = patchInfo.getIndex()  # Tuple (x, y)\n",
    "            patch_indexseq = patchInfo.getSequentialIndex()\n",
    "            print(f\"Tract: {tract_id}, Patch: {patch_indexseq}\")\n",
    "            found = True\n",
    "            break\n",
    "    # Charger l’image coadd correspondante\n",
    "    dataId = {\"tract\": tract_id, \"patch\": patch_indexseq, \"band\": band,\"skymap\": skymapName}\n",
    "    #deepCoadd_calexp\n",
    "    coadd = butler.get(\"deepCoadd_calexp\", dataId)\n",
    "    # Récupération du WCS\n",
    "    wcs = coadd.getWcs()\n",
    "\n",
    "    datatitle = f\"deepcoadd-LSSTComCam : {tract_id} , {patch_indexseq} , {band}\"\n",
    "    print(datatitle)\n",
    "\n",
    "    # Affichage avec marqueur\n",
    "    \n",
    "    display = afwDisplay.Display(frame = framecount)\n",
    "    display.scale('asinh', 'zscale')\n",
    "    #afw_display.scale('linear', min=zmin, max=zmax)\n",
    "    #display.setImageColormap(cmap='grey')\n",
    "    display.setImageColormap(cmap='Grey_r')\n",
    "    display.mtv(coadd.getImage(),title=datatitle)\n",
    "\n",
    "    # Création du point céleste\n",
    "    pix_point = wcs.skyToPixel(coord)\n",
    "    x, y = pix_point.x,pix_point.y\n",
    "    \n",
    "    col = band_to_color[band] \n",
    "    display.dot(\"+\", x, y, size=50, ctype=col)\n",
    "    \n",
    "\n",
    "    \n",
    "    return tract_id, patch_indexseq, band"
   ]
  },
  {
   "cell_type": "code",
   "execution_count": null,
   "id": "23fd90bd-9bc6-4a17-b476-1c3d8e5afcbd",
   "metadata": {
    "execution": {
     "iopub.execute_input": "2025-05-13T21:40:35.304407Z",
     "iopub.status.busy": "2025-05-13T21:40:35.304262Z",
     "iopub.status.idle": "2025-05-13T21:40:35.313969Z",
     "shell.execute_reply": "2025-05-13T21:40:35.313542Z",
     "shell.execute_reply.started": "2025-05-13T21:40:35.304394Z"
    }
   },
   "outputs": [],
   "source": [
    "def extract_deepCoadd_cutout(\n",
    "    ra_deg,\n",
    "    dec_deg,\n",
    "    tractInfo,\n",
    "    patchInfo,\n",
    "    band,\n",
    "    butler,\n",
    "    skymapName,\n",
    "    cutout_size_pixels,\n",
    "    collection,\n",
    "):\n",
    "    \"\"\"\n",
    "    Extract a square cutout from a deepCoadd image centered on given sky coordinates.\n",
    "\n",
    "    Parameters\n",
    "    ----------\n",
    "    ra_deg : float\n",
    "        Right ascension in degrees.\n",
    "    dec_deg : float\n",
    "        Declination in degrees.\n",
    "    tractInfo : lsst.skymap.TractInfo\n",
    "        Tract information object (from SkyMap).\n",
    "    patchInfo : lsst.skymap.PatchInfo\n",
    "        Patch information object (from SkyMap).\n",
    "    band : str\n",
    "        Photometric band (e.g., 'i', 'r', 'g').\n",
    "    butler : lsst.daf.butler.Butler\n",
    "        Butler instance to access LSST data.\n",
    "    cutout_size_pixels : int, optional\n",
    "        Size of the cutout in pixels (square region), default is 200.\n",
    "    collection : str, optional\n",
    "        Name of the collection containing deepCoadd data.\n",
    "\n",
    "    Returns\n",
    "    -------\n",
    "    cutout : lsst.afw.image.ExposureF\n",
    "        The extracted image cutout.\n",
    "    wcs : lsst.afw.geom.SkyWcs\n",
    "        World Coordinate System associated with the cutout.\n",
    "    metadata : lsst.daf.base.PropertyList\n",
    "        FITS metadata header for the cutout image.\n",
    "    \"\"\"\n",
    "\n",
    "    # Build dataId for the deepCoadd image\n",
    "    tract = tractInfo.getId()\n",
    "    patch = patchInfo.getSequentialIndex()\n",
    "    dataId = dict(tract=tract, patch=patch, band=band, skymap=skymapName)\n",
    "\n",
    "    # Retrieve the deepCoadd exposure\n",
    "    exposure = butler.get(\"deepCoadd\", dataId=dataId, collections=collection)\n",
    "    image_bbox = exposure.getBBox()\n",
    "\n",
    "    # Convert sky coordinates (RA, Dec) to pixel coordinates using WCS\n",
    "    coord = SpherePoint(ra_deg, dec_deg, degrees)\n",
    "    wcs = exposure.getWcs()\n",
    "    pixel_center = wcs.skyToPixel(coord)\n",
    "\n",
    "    half_size = cutout_size_pixels // 2\n",
    "\n",
    "    # Centre du cutout\n",
    "    center_x = int(pixel_center.getX())\n",
    "    center_y = int(pixel_center.getY())\n",
    "\n",
    "    # Coordonnées du coin en bas à gauche\n",
    "    corner_x = max(center_x - half_size, image_bbox.getMinX())\n",
    "    corner_y = max(center_y - half_size, image_bbox.getMinY())\n",
    "\n",
    "    # Ne pas dépasser la taille max de l'image\n",
    "    corner_x = min(corner_x, image_bbox.getMaxX() - cutout_size_pixels)\n",
    "    corner_y = min(corner_y, image_bbox.getMaxY() - cutout_size_pixels)\n",
    "\n",
    "    # Define a square bounding box around the target pixel\n",
    "    # Création du BBox valide\n",
    "    corner = Point2I(corner_x, corner_y)\n",
    "    bbox = Box2I(corner, Extent2I(cutout_size_pixels, cutout_size_pixels))\n",
    "\n",
    "    # Extract the cutout from the original exposure\n",
    "    cutout = exposure.Factory(exposure, bbox, deep=True)\n",
    "\n",
    "    return cutout, cutout.getWcs(), cutout.getMetadata()"
   ]
  },
  {
   "cell_type": "code",
   "execution_count": null,
   "id": "bd5588af-14ec-4f29-96c8-2cb1e2e226a5",
   "metadata": {
    "execution": {
     "iopub.execute_input": "2025-05-13T21:40:35.314659Z",
     "iopub.status.busy": "2025-05-13T21:40:35.314508Z",
     "iopub.status.idle": "2025-05-13T21:40:35.322720Z",
     "shell.execute_reply": "2025-05-13T21:40:35.322287Z",
     "shell.execute_reply.started": "2025-05-13T21:40:35.314645Z"
    }
   },
   "outputs": [],
   "source": [
    "def RetrieveDiaSources_forTarget(butler,center_coord,datasettype,where_clause,radius_cut=100):\n",
    "    \"\"\"\n",
    "    Find the closest DIA objectto the target_coord \n",
    "\n",
    "    parameters:\n",
    "    - butler\n",
    "    - the coordinate of the target (center of the cone seach)\n",
    "    - the datasettype name for the DIA object\n",
    "    - where_clause : which contrain requirements on the tract and patch numbers\n",
    "    - cut on angluar separation for the returned for the returned object\n",
    "\n",
    "    Return\n",
    "    - object Id with minimum separation , \n",
    "    - minimum separation (arcec),\n",
    "    - the table of DIA objects within the radius_cut\n",
    "    \"\"\"\n",
    "\n",
    "    #datasettype =  'forcedSourceOnDiaObjectTable'\n",
    "    #datasettype =  'diaSourceTable_tract'\n",
    "    #datasettype = 'goodSeeingDiff_assocSsSrcTable' # bad table\n",
    "    \n",
    "    therefs = butler.registry.queryDatasets(datasettype,  collections=collection, where=where_clause)\n",
    "    listref = list(therefs)\n",
    "    nref = len(listref)\n",
    "   \n",
    "    # assume the target is in a single (tract,patch)\n",
    "    assert nref == 1\n",
    "\n",
    "    # loop forcedSourceOnDiaObjectTable (per tract, per patch)\n",
    "    for count,ref in enumerate(therefs):\n",
    "        the_id = ref.dataId\n",
    "        the_tract_id = the_id[\"tract\"] \n",
    "        \n",
    "        assert the_tract_id == TRACTSEL\n",
    "\n",
    "        # catalog of rubin objects (a pandas Dataframe) inside the tract\n",
    "        catalog = butler.get(ref)\n",
    "        nsources = len(catalog)\n",
    "           \n",
    "\n",
    "        # extract the (ra,dec) coordinates for all te objects of the rubin-catalog\n",
    "        ra_cat = catalog[\"coord_ra\"].values\n",
    "        dec_cat = catalog[\"coord_dec\"].values\n",
    "        # coordinates for all rubin-catalog points\n",
    "        catalog_coords = SkyCoord(ra=ra_cat*u.deg, dec=dec_cat*u.deg)\n",
    "\n",
    "        # Angular distance to target\n",
    "        distances_arcsec = center_coord.separation(catalog_coords).arcsecond\n",
    "\n",
    "        # add the separation angle to the ctalog\n",
    "        catalog[\"sep\"] = distances_arcsec\n",
    "\n",
    "\n",
    "        # closest object from the target\n",
    "        sepMin = distances_arcsec.min() \n",
    "        sepMin_idx = np.where(distances_arcsec == sepMin)[0][0]\n",
    "    \n",
    "        closest_src = catalog[catalog[\"sep\"] <=  sepMin]\n",
    "                   \n",
    "        # select a few of these sources to debug the closest candidate\n",
    "        nearby_src = catalog[distances_arcsec < radius_cut]\n",
    "        \n",
    "        return closest_src, sepMin, nearby_src\n",
    "\n",
    "      "
   ]
  },
  {
   "cell_type": "code",
   "execution_count": null,
   "id": "54b45fb1-2d4a-41e3-8a46-11d4bd24d410",
   "metadata": {
    "execution": {
     "iopub.execute_input": "2025-05-13T21:40:35.323286Z",
     "iopub.status.busy": "2025-05-13T21:40:35.323158Z",
     "iopub.status.idle": "2025-05-13T21:40:35.331366Z",
     "shell.execute_reply": "2025-05-13T21:40:35.330908Z",
     "shell.execute_reply.started": "2025-05-13T21:40:35.323273Z"
    }
   },
   "outputs": [],
   "source": [
    "def plotLightCurvesSeparatedBands(tb,title,subtitle,figname=None):\n",
    "    \"\"\"\n",
    "    \"\"\"\n",
    "\n",
    "    fig,axs = plt.subplots(6,1,figsize=(18,10),sharex=True,layout=\"constrained\")\n",
    "\n",
    "    for idx,band in enumerate(all_bands):\n",
    "        ax =axs[idx]\n",
    "        ax.scatter(tb[band].mjd, tb[band].mags,color=all_bands_colors[idx])\n",
    "        ax.set_ylabel(\"mag_psfFlux\")\n",
    "        if idx==0:\n",
    "            ax.set_title(title,fontweight = \"bold\")\n",
    "    ax.set_xlabel(\"mjd\")\n",
    "    \n",
    "    plt.suptitle(subtitle)\n",
    "    if figname != None:\n",
    "        plt.savefig(figname)\n",
    "    plt.show()   "
   ]
  },
  {
   "cell_type": "code",
   "execution_count": null,
   "id": "c11ea2bf-7031-4df4-a40b-0bcab9d6d599",
   "metadata": {
    "execution": {
     "iopub.execute_input": "2025-05-13T21:40:35.332001Z",
     "iopub.status.busy": "2025-05-13T21:40:35.331868Z",
     "iopub.status.idle": "2025-05-13T21:40:35.339819Z",
     "shell.execute_reply": "2025-05-13T21:40:35.339441Z",
     "shell.execute_reply.started": "2025-05-13T21:40:35.331988Z"
    }
   },
   "outputs": [],
   "source": [
    "def plotLightCurvesAllTogetherBands(tb,title,subtitle,figname=None):\n",
    "    \"\"\"\n",
    "    \"\"\"\n",
    "    fig,ax = plt.subplots(1,1,figsize=(18,6),sharex=True,layout=\"constrained\")\n",
    "\n",
    "    for idx,band in enumerate([\"u\", \"g\", \"r\", \"i\", \"z\", \"y\"]):\n",
    "        ax.scatter(tb[band].mjd, tb[band].mags,color=all_bands_colors[idx])\n",
    "\n",
    "    ax.set_ylabel(\"mag_psfFlux\")\n",
    "    ax.set_title(title,fontweight = \"bold\")\n",
    "    ax.set_xlabel(\"mjd\")\n",
    "\n",
    "    plt.suptitle(subtitle)\n",
    "\n",
    "    if figname != None:\n",
    "        plt.savefig(figname)\n",
    "    plt.show()\n"
   ]
  },
  {
   "cell_type": "code",
   "execution_count": null,
   "id": "2bbb53e9-e293-4ea7-ae47-c78930ce5d93",
   "metadata": {
    "execution": {
     "iopub.execute_input": "2025-05-13T21:40:35.340409Z",
     "iopub.status.busy": "2025-05-13T21:40:35.340263Z",
     "iopub.status.idle": "2025-05-13T21:40:35.348051Z",
     "shell.execute_reply": "2025-05-13T21:40:35.347679Z",
     "shell.execute_reply.started": "2025-05-13T21:40:35.340393Z"
    }
   },
   "outputs": [],
   "source": [
    "# https://pipelines.lsst.io/modules/lsst.geom/getting-started.html\n",
    "func_degToRad = lambda x : Angle(x,lsst.geom.degrees).asRadians()"
   ]
  },
  {
   "cell_type": "code",
   "execution_count": null,
   "id": "5af15c53-1d3f-42ee-81d8-508a2daa56c0",
   "metadata": {
    "execution": {
     "iopub.execute_input": "2025-05-13T21:40:35.348827Z",
     "iopub.status.busy": "2025-05-13T21:40:35.348519Z",
     "iopub.status.idle": "2025-05-13T21:40:35.363695Z",
     "shell.execute_reply": "2025-05-13T21:40:35.363318Z",
     "shell.execute_reply.started": "2025-05-13T21:40:35.348810Z"
    }
   },
   "outputs": [],
   "source": [
    "# Set plotting defaults\n",
    "%matplotlib inline\n",
    "import matplotlib.pyplot as plt\n",
    "from matplotlib.ticker import FormatStrFormatter\n",
    "from matplotlib.colors import ListedColormap\n",
    "from matplotlib import colors\n",
    "zscale = ZScaleInterval()\n",
    "\n",
    "# Set up some plotting defaults:\n",
    "plt.rcParams.update({'figure.figsize' : (12, 8)})\n",
    "plt.rcParams.update({'font.size' : 24})\n",
    "plt.rcParams.update({'axes.linewidth' : 3})\n",
    "plt.rcParams.update({'axes.labelweight' : 3})\n",
    "plt.rcParams.update({'axes.titleweight' : 5})\n",
    "plt.rcParams.update({'ytick.major.width' : 3})\n",
    "plt.rcParams.update({'ytick.minor.width' : 2})\n",
    "plt.rcParams.update({'ytick.major.size' : 8})\n",
    "plt.rcParams.update({'ytick.minor.size' : 5})\n",
    "plt.rcParams.update({'xtick.major.size' : 8})\n",
    "plt.rcParams.update({'xtick.minor.size' : 5})\n",
    "plt.rcParams.update({'xtick.major.width' : 3})\n",
    "plt.rcParams.update({'xtick.minor.width' : 2})\n",
    "plt.rcParams.update({'xtick.direction' : 'in'})\n",
    "plt.rcParams.update({'ytick.direction' : 'in'})\n"
   ]
  },
  {
   "cell_type": "code",
   "execution_count": null,
   "id": "8f02d7f7-cc18-4191-beb4-ad890c13b967",
   "metadata": {
    "execution": {
     "iopub.execute_input": "2025-05-13T21:40:35.367354Z",
     "iopub.status.busy": "2025-05-13T21:40:35.367216Z",
     "iopub.status.idle": "2025-05-13T21:40:35.370398Z",
     "shell.execute_reply": "2025-05-13T21:40:35.370021Z",
     "shell.execute_reply.started": "2025-05-13T21:40:35.367341Z"
    }
   },
   "outputs": [],
   "source": [
    "def nJy_to_ab_mag(f_njy):\n",
    "    \"\"\"Convert scalar or array flux in nJy to AB magnitude.\"\"\"\n",
    "    f_njy = np.asarray(f_njy)\n",
    "    mag = np.full_like(f_njy, fill_value=np.nan, dtype=float)\n",
    "    mask = f_njy > 0\n",
    "    mag[mask] = -2.5 * np.log10(f_njy[mask]) + 31.4\n",
    "    return mag\n",
    "\n",
    "\n",
    "def nJy_err_to_ab_err(f_njy, f_err):\n",
    "    \"\"\"Propagate flux error to magnitude error.\"\"\"\n",
    "    f_njy = np.asarray(f_njy)\n",
    "    f_err = np.asarray(f_err)\n",
    "    mag_err = np.full_like(f_njy, fill_value=np.nan, dtype=float)\n",
    "    mask = (f_njy > 0) & (f_err > 0)\n",
    "    mag_err[mask] = (2.5 / np.log(10)) * (f_err[mask] / f_njy[mask])\n",
    "    return mag_err\n"
   ]
  },
  {
   "cell_type": "code",
   "execution_count": null,
   "id": "88da0b26-88ce-41f8-b5b6-caf1c2d7afe0",
   "metadata": {
    "execution": {
     "iopub.execute_input": "2025-05-13T21:40:35.370960Z",
     "iopub.status.busy": "2025-05-13T21:40:35.370832Z",
     "iopub.status.idle": "2025-05-13T21:40:35.376647Z",
     "shell.execute_reply": "2025-05-13T21:40:35.376281Z",
     "shell.execute_reply.started": "2025-05-13T21:40:35.370947Z"
    }
   },
   "outputs": [],
   "source": [
    "def ab_mag_to_nJy(mag_ab):\n",
    "    \"\"\"Convert AB magnitude to flux in nanojanskys.\"\"\"\n",
    "    return 10 ** ((31.4 - mag_ab) / 2.5)\n"
   ]
  },
  {
   "cell_type": "markdown",
   "id": "a3f04297-3975-4baa-9e7f-146cd717904c",
   "metadata": {},
   "source": [
    "## 1) Build the table of AGN from the Vizier Catalog"
   ]
  },
  {
   "cell_type": "code",
   "execution_count": null,
   "id": "fdd48e59-d068-4c3c-a5f9-1c277959c9a1",
   "metadata": {
    "execution": {
     "iopub.execute_input": "2025-05-13T21:40:35.377229Z",
     "iopub.status.busy": "2025-05-13T21:40:35.377098Z",
     "iopub.status.idle": "2025-05-13T21:40:35.478382Z",
     "shell.execute_reply": "2025-05-13T21:40:35.477912Z",
     "shell.execute_reply.started": "2025-05-13T21:40:35.377217Z"
    }
   },
   "outputs": [],
   "source": [
    "from astroquery.vizier import Vizier\n",
    "from astropy.coordinates import SkyCoord\n",
    "import astropy.units as u"
   ]
  },
  {
   "cell_type": "code",
   "execution_count": null,
   "id": "ffc9c099-0200-4a2f-aea6-98e0369c4c6c",
   "metadata": {
    "execution": {
     "iopub.execute_input": "2025-05-13T21:40:35.478972Z",
     "iopub.status.busy": "2025-05-13T21:40:35.478826Z",
     "iopub.status.idle": "2025-05-13T21:40:35.481262Z",
     "shell.execute_reply": "2025-05-13T21:40:35.480874Z",
     "shell.execute_reply.started": "2025-05-13T21:40:35.478958Z"
    }
   },
   "outputs": [],
   "source": [
    "ECDFS_RA = 53.1\n",
    "ECDFS_DEC = -27.8\n",
    "ECDFS_COORD = SpherePoint(ECDFS_RA, ECDFS_DEC , degrees)"
   ]
  },
  {
   "cell_type": "code",
   "execution_count": null,
   "id": "4a3e4c07-1570-4588-976a-678132c11b09",
   "metadata": {
    "execution": {
     "iopub.execute_input": "2025-05-13T21:40:35.481864Z",
     "iopub.status.busy": "2025-05-13T21:40:35.481718Z",
     "iopub.status.idle": "2025-05-13T21:40:35.521119Z",
     "shell.execute_reply": "2025-05-13T21:40:35.520612Z",
     "shell.execute_reply.started": "2025-05-13T21:40:35.481852Z"
    }
   },
   "outputs": [],
   "source": [
    "# Coordonnées approximatives du centre du E-CDFS\n",
    "coord = SkyCoord(ra=ECDFS_RA, dec = ECDFS_DEC, unit=(u.deg, u.deg), frame='icrs')\n",
    "radius = 15 * u.arcmin\n",
    "\n",
    "# Exemple avec le catalogue Luo+2017 (7Ms CDF-S)\n",
    "catalog_id = \"J/ApJS/228/2\"\n",
    "result = Vizier(columns=[\"*\"]).query_region(coord, radius=radius, catalog=catalog_id)"
   ]
  },
  {
   "cell_type": "code",
   "execution_count": null,
   "id": "474756e6-6c8d-444f-961c-a5dad8b43648",
   "metadata": {
    "execution": {
     "iopub.execute_input": "2025-05-13T21:40:35.521817Z",
     "iopub.status.busy": "2025-05-13T21:40:35.521660Z",
     "iopub.status.idle": "2025-05-13T21:40:35.524429Z",
     "shell.execute_reply": "2025-05-13T21:40:35.523997Z",
     "shell.execute_reply.started": "2025-05-13T21:40:35.521803Z"
    }
   },
   "outputs": [],
   "source": [
    "sources_table = result['J/ApJS/228/2/sources']\n",
    "print(sources_table.colnames)"
   ]
  },
  {
   "cell_type": "code",
   "execution_count": null,
   "id": "1eff963d-56d8-413c-bce5-a0d779c34e99",
   "metadata": {
    "execution": {
     "iopub.execute_input": "2025-05-13T21:40:35.525056Z",
     "iopub.status.busy": "2025-05-13T21:40:35.524922Z",
     "iopub.status.idle": "2025-05-13T21:40:35.537863Z",
     "shell.execute_reply": "2025-05-13T21:40:35.537454Z",
     "shell.execute_reply.started": "2025-05-13T21:40:35.525043Z"
    }
   },
   "outputs": [],
   "source": [
    "# On calcule le log10 de LX\n",
    "logLX = np.log10(sources_table['LX'])\n",
    "\n",
    "# Et on l'ajoute comme nouvelle colonne à la table\n",
    "sources_table['logLX'] = logLX\n",
    "\n",
    "# Attention au nom exact de la colonne\n",
    "logLX = sources_table['logLX']\n",
    "is_agn = logLX > 42\n",
    "\n",
    "is_agn = sources_table['logLX'] > 42  # AGN si LX > 10^42 erg/s\n",
    "agn_table = sources_table[is_agn]"
   ]
  },
  {
   "cell_type": "code",
   "execution_count": null,
   "id": "61a131d7-b7bd-4098-af0e-ff9019ffcb23",
   "metadata": {
    "execution": {
     "iopub.execute_input": "2025-05-13T21:40:35.538525Z",
     "iopub.status.busy": "2025-05-13T21:40:35.538386Z",
     "iopub.status.idle": "2025-05-13T21:40:35.547510Z",
     "shell.execute_reply": "2025-05-13T21:40:35.547072Z",
     "shell.execute_reply.started": "2025-05-13T21:40:35.538512Z"
    }
   },
   "outputs": [],
   "source": [
    "agn_table[['RAJ2000', 'DEJ2000', 'logLX', 'LX', 'zspec']].pprint(max_lines=10)"
   ]
  },
  {
   "cell_type": "code",
   "execution_count": null,
   "id": "e902b64e-1149-4f50-8cf1-b5720ed24da6",
   "metadata": {
    "execution": {
     "iopub.execute_input": "2025-05-13T21:40:35.548124Z",
     "iopub.status.busy": "2025-05-13T21:40:35.547994Z",
     "iopub.status.idle": "2025-05-13T21:40:35.698846Z",
     "shell.execute_reply": "2025-05-13T21:40:35.698307Z",
     "shell.execute_reply.started": "2025-05-13T21:40:35.548111Z"
    }
   },
   "outputs": [],
   "source": [
    "galaxy_table = sources_table[sources_table['OType'] == 'Galaxy']"
   ]
  },
  {
   "cell_type": "code",
   "execution_count": null,
   "id": "b1edfa51-80a6-4d65-944d-c33a505049a3",
   "metadata": {
    "execution": {
     "iopub.execute_input": "2025-05-13T21:40:35.699585Z",
     "iopub.status.busy": "2025-05-13T21:40:35.699424Z",
     "iopub.status.idle": "2025-05-13T21:40:35.709077Z",
     "shell.execute_reply": "2025-05-13T21:40:35.708634Z",
     "shell.execute_reply.started": "2025-05-13T21:40:35.699570Z"
    }
   },
   "outputs": [],
   "source": [
    "galaxy_table[['RAJ2000', 'DEJ2000', 'logLX', 'LX', 'zspec']].pprint(max_lines=10)"
   ]
  },
  {
   "cell_type": "markdown",
   "id": "24980f69-ddd5-4c6b-b868-9f3dad599620",
   "metadata": {},
   "source": [
    "## Plot info from AGN Vizier catalog"
   ]
  },
  {
   "cell_type": "code",
   "execution_count": null,
   "id": "80a3a4fe-38f7-45ea-a7fd-cff3a4670722",
   "metadata": {
    "execution": {
     "iopub.execute_input": "2025-05-13T21:40:35.709772Z",
     "iopub.status.busy": "2025-05-13T21:40:35.709632Z",
     "iopub.status.idle": "2025-05-13T21:40:35.727473Z",
     "shell.execute_reply": "2025-05-13T21:40:35.727103Z",
     "shell.execute_reply.started": "2025-05-13T21:40:35.709760Z"
    }
   },
   "outputs": [],
   "source": [
    "df_galaxy = galaxy_table.to_pandas()\n",
    "df_agn = agn_table.to_pandas()"
   ]
  },
  {
   "cell_type": "code",
   "execution_count": null,
   "id": "14b5093d-cb0e-4cf8-98b4-0c66ec615abf",
   "metadata": {
    "execution": {
     "iopub.execute_input": "2025-05-13T21:40:35.728301Z",
     "iopub.status.busy": "2025-05-13T21:40:35.727957Z",
     "iopub.status.idle": "2025-05-13T21:40:35.923711Z",
     "shell.execute_reply": "2025-05-13T21:40:35.923207Z",
     "shell.execute_reply.started": "2025-05-13T21:40:35.728287Z"
    }
   },
   "outputs": [],
   "source": [
    "plt.figure(figsize=(14,5))\n",
    "\n",
    "plt.subplot(1, 2, 1)\n",
    "plt.hist(df_agn['zspec'].values, bins=20, color='green', alpha=0.7)\n",
    "plt.xlabel(\"Redshift zspec\")\n",
    "plt.ylabel(\"Nombre de sources\")\n",
    "plt.title(\"Distribution en redshift\")\n",
    "\n",
    "plt.subplot(1, 2, 2)\n",
    "plt.hist(df_agn['logLX'].values, bins=20, color='orange', alpha=0.7)\n",
    "plt.xlabel(\"log(Lx) [erg/s]\")\n",
    "plt.ylabel(\"Nombre de sources\")\n",
    "plt.title(\"Distribution de la luminosité X\")\n",
    "\n",
    "plt.tight_layout()\n",
    "plt.show()\n"
   ]
  },
  {
   "cell_type": "markdown",
   "id": "3506978f-3a1e-47a9-90c1-b576f17d092f",
   "metadata": {},
   "source": [
    "## Initialisation of rubin science pipeline\n",
    "- Check here the collection available : https://rubinobs.atlassian.net/wiki/spaces/DM/pages/226656354/LSSTComCam+Intermittent+Cumulative+DRP+Runs"
   ]
  },
  {
   "cell_type": "markdown",
   "id": "032c0193-0ca9-487a-943f-957dcea64a53",
   "metadata": {},
   "source": [
    "### Configuration"
   ]
  },
  {
   "cell_type": "code",
   "execution_count": null,
   "id": "58131b3b-f3bf-461a-8c71-d236e7d5e7fa",
   "metadata": {
    "execution": {
     "iopub.execute_input": "2025-05-13T21:40:35.924686Z",
     "iopub.status.busy": "2025-05-13T21:40:35.924336Z",
     "iopub.status.idle": "2025-05-13T21:40:35.927625Z",
     "shell.execute_reply": "2025-05-13T21:40:35.927182Z",
     "shell.execute_reply.started": "2025-05-13T21:40:35.924668Z"
    }
   },
   "outputs": [],
   "source": [
    "# The output repo is tagged with the Jira ticket number \"DM-40356\":\n",
    "repo = '/repo/main'\n",
    "#collection = 'LSSTComCam/runs/DRP/DP1/w_2025_05/DM-48666' # work\n",
    "#collection = 'LSSTComCam/runs/DRP/DP1/w_2025_06/DM-48810' # work\n",
    "collection = 'LSSTComCam/runs/DRP/DP1/w_2025_10/DM-49359' # work\n",
    "\n",
    "\n",
    "# bad : crash collection = 'LSSTComCam/runs/DRP/DP1/w_2025_08/DM-49029'\n",
    "\n",
    "# bad : collection = \"LSSTComCam/runs/DRP/20241101_20241211/w_2024_51/DM-48233\"\n",
    "\n",
    "# not working perhaps because I am using w_2025_10 version\n",
    "# bad : no ccd visit collection = \"LSSTComCam/runs/DRP/DP1/w_2025_14/DM-49864\"\n",
    "# bad : no ccd visit collection = 'LSSTComCam/runs/DRP/DP1/w_2025_15/DM-50050'\n",
    "# bad : no cce visit collection = 'LSSTComCam/runs/DRP/DP1/w_2025_14/DM-49864'\n",
    "# bad : no cce visit collection collection = 'LSSTComCam/runs/DRP/DP1/w_2025_13/DM-49751'\n",
    "\n",
    "\n",
    "instrument = \"LSSTComCam\"\n",
    "skymapName = \"lsst_cells_v1\"\n",
    "where_clause = \"instrument = \\'\" + instrument+ \"\\'\"\n",
    "collectionStr = collection.replace(\"/\", \"_\")"
   ]
  },
  {
   "cell_type": "code",
   "execution_count": null,
   "id": "5aaaded0-f204-4b81-a359-6b9872f7c21d",
   "metadata": {
    "execution": {
     "iopub.execute_input": "2025-05-13T21:40:35.928250Z",
     "iopub.status.busy": "2025-05-13T21:40:35.928109Z",
     "iopub.status.idle": "2025-05-13T21:40:35.938071Z",
     "shell.execute_reply": "2025-05-13T21:40:35.937637Z",
     "shell.execute_reply.started": "2025-05-13T21:40:35.928236Z"
    }
   },
   "outputs": [],
   "source": [
    "FLAG_DUMP_COLLECTIONS = False\n",
    "FLAG_DUMP_DATASETS = False\n",
    "FLAG_DUMP_OBJECTSTABLECOLUMNS = False\n",
    "FLAG_CUT_OBJECTSMAG = True\n",
    "FLAG_CUT_OBJECTSSNR = True"
   ]
  },
  {
   "cell_type": "code",
   "execution_count": null,
   "id": "a66ee4ac-6255-4779-bdb3-088bee0f7058",
   "metadata": {
    "execution": {
     "iopub.execute_input": "2025-05-13T21:40:35.938825Z",
     "iopub.status.busy": "2025-05-13T21:40:35.938560Z",
     "iopub.status.idle": "2025-05-13T21:40:35.946434Z",
     "shell.execute_reply": "2025-05-13T21:40:35.945932Z",
     "shell.execute_reply.started": "2025-05-13T21:40:35.938810Z"
    }
   },
   "outputs": [],
   "source": [
    "MAGCUT = 24.0\n",
    "SNRCUT = 5.0"
   ]
  },
  {
   "cell_type": "code",
   "execution_count": null,
   "id": "d60358a6-62e7-4cc4-9440-3b178d76abe2",
   "metadata": {
    "execution": {
     "iopub.execute_input": "2025-05-13T21:40:35.947068Z",
     "iopub.status.busy": "2025-05-13T21:40:35.946932Z",
     "iopub.status.idle": "2025-05-13T21:40:35.952786Z",
     "shell.execute_reply": "2025-05-13T21:40:35.952406Z",
     "shell.execute_reply.started": "2025-05-13T21:40:35.947054Z"
    }
   },
   "outputs": [],
   "source": [
    "all_bands = [\"u\", \"g\", \"r\", \"i\", \"z\", \"y\"]\n",
    "all_bands_colors = [\"blue\", \"green\", \"red\", \"orange\", \"yellow\", \"purple\"]"
   ]
  },
  {
   "cell_type": "markdown",
   "id": "e8f0113b-9e9a-46b8-9271-c4bde6d64679",
   "metadata": {},
   "source": [
    "### Initialisation of Butler"
   ]
  },
  {
   "cell_type": "code",
   "execution_count": null,
   "id": "804fcb8b-d567-4a27-b102-05ed002051c4",
   "metadata": {
    "execution": {
     "iopub.execute_input": "2025-05-13T21:40:35.953662Z",
     "iopub.status.busy": "2025-05-13T21:40:35.953261Z",
     "iopub.status.idle": "2025-05-13T21:40:36.344901Z",
     "shell.execute_reply": "2025-05-13T21:40:36.344366Z",
     "shell.execute_reply.started": "2025-05-13T21:40:35.953646Z"
    }
   },
   "outputs": [],
   "source": [
    "# Initialize the butler repo:\n",
    "butler = Butler(repo, collections=collection)\n",
    "registry = butler.registry"
   ]
  },
  {
   "cell_type": "code",
   "execution_count": null,
   "id": "03249edb-84b0-4f36-ae94-af25391b468e",
   "metadata": {
    "execution": {
     "iopub.execute_input": "2025-05-13T21:40:36.345641Z",
     "iopub.status.busy": "2025-05-13T21:40:36.345481Z",
     "iopub.status.idle": "2025-05-13T21:40:36.714690Z",
     "shell.execute_reply": "2025-05-13T21:40:36.714214Z",
     "shell.execute_reply.started": "2025-05-13T21:40:36.345626Z"
    }
   },
   "outputs": [],
   "source": [
    "skymap = butler.get('skyMap', skymap=skymapName, collections=collection)"
   ]
  },
  {
   "cell_type": "code",
   "execution_count": null,
   "id": "5b61a4a0-edcf-462f-be02-61502f79db0b",
   "metadata": {
    "execution": {
     "iopub.execute_input": "2025-05-13T21:40:36.715435Z",
     "iopub.status.busy": "2025-05-13T21:40:36.715279Z",
     "iopub.status.idle": "2025-05-13T21:40:37.259898Z",
     "shell.execute_reply": "2025-05-13T21:40:37.259401Z",
     "shell.execute_reply.started": "2025-05-13T21:40:36.715420Z"
    }
   },
   "outputs": [],
   "source": [
    "camera = butler.get(\"camera\", collections=collection, instrument=instrument)"
   ]
  },
  {
   "cell_type": "code",
   "execution_count": null,
   "id": "ef1ab817-3225-4cc3-82b5-37f86d1f33cc",
   "metadata": {
    "execution": {
     "iopub.execute_input": "2025-05-13T21:40:37.260579Z",
     "iopub.status.busy": "2025-05-13T21:40:37.260438Z",
     "iopub.status.idle": "2025-05-13T21:40:37.265262Z",
     "shell.execute_reply": "2025-05-13T21:40:37.264879Z",
     "shell.execute_reply.started": "2025-05-13T21:40:37.260565Z"
    }
   },
   "outputs": [],
   "source": [
    "# 4. Trouver dans quel tract/patch se trouve la coordonnée\n",
    "ECDFS_tract_info = skymap.findTract(ECDFS_COORD)"
   ]
  },
  {
   "cell_type": "code",
   "execution_count": null,
   "id": "d8becbb0-1595-447b-a2ea-fe81515fbd3a",
   "metadata": {
    "execution": {
     "iopub.execute_input": "2025-05-13T21:40:37.265860Z",
     "iopub.status.busy": "2025-05-13T21:40:37.265727Z",
     "iopub.status.idle": "2025-05-13T21:40:37.273033Z",
     "shell.execute_reply": "2025-05-13T21:40:37.272588Z",
     "shell.execute_reply.started": "2025-05-13T21:40:37.265847Z"
    }
   },
   "outputs": [],
   "source": [
    "print('Tract number for ECDFS ::',ECDFS_tract_info.getId())"
   ]
  },
  {
   "cell_type": "code",
   "execution_count": null,
   "id": "fa1992cb-691e-4408-a03b-2477c0bf052d",
   "metadata": {
    "execution": {
     "iopub.execute_input": "2025-05-13T21:40:37.273625Z",
     "iopub.status.busy": "2025-05-13T21:40:37.273494Z",
     "iopub.status.idle": "2025-05-13T21:40:37.280538Z",
     "shell.execute_reply": "2025-05-13T21:40:37.280079Z",
     "shell.execute_reply.started": "2025-05-13T21:40:37.273612Z"
    }
   },
   "outputs": [],
   "source": [
    "TRACTSEL = ECDFS_tract_info.getId()"
   ]
  },
  {
   "cell_type": "code",
   "execution_count": null,
   "id": "f9fa13a1-94b3-4fe1-9716-a05ec15f576c",
   "metadata": {
    "execution": {
     "iopub.execute_input": "2025-05-13T21:40:37.281107Z",
     "iopub.status.busy": "2025-05-13T21:40:37.280979Z",
     "iopub.status.idle": "2025-05-13T21:40:37.289089Z",
     "shell.execute_reply": "2025-05-13T21:40:37.288647Z",
     "shell.execute_reply.started": "2025-05-13T21:40:37.281094Z"
    }
   },
   "outputs": [],
   "source": [
    "print(f\"TRACT : {TRACTSEL}\")"
   ]
  },
  {
   "cell_type": "code",
   "execution_count": null,
   "id": "826aebd4-b08d-4259-a715-2274b75182c2",
   "metadata": {
    "execution": {
     "iopub.execute_input": "2025-05-13T21:40:37.289636Z",
     "iopub.status.busy": "2025-05-13T21:40:37.289510Z",
     "iopub.status.idle": "2025-05-13T21:40:37.298538Z",
     "shell.execute_reply": "2025-05-13T21:40:37.298009Z",
     "shell.execute_reply.started": "2025-05-13T21:40:37.289623Z"
    }
   },
   "outputs": [],
   "source": [
    "# Check here the collections available\n",
    "if FLAG_DUMP_COLLECTIONS:\n",
    "    for _ in sorted(registry.queryCollections(expression=instrument + \"/*\")):\n",
    "        if \"/calib/\" not in _ and \"u/\" not in _:\n",
    "            print(_)"
   ]
  },
  {
   "cell_type": "code",
   "execution_count": null,
   "id": "59563647-7ecd-4366-a7e8-eb2354393559",
   "metadata": {
    "execution": {
     "iopub.execute_input": "2025-05-13T21:40:37.299159Z",
     "iopub.status.busy": "2025-05-13T21:40:37.299027Z",
     "iopub.status.idle": "2025-05-13T21:40:37.307351Z",
     "shell.execute_reply": "2025-05-13T21:40:37.306971Z",
     "shell.execute_reply.started": "2025-05-13T21:40:37.299146Z"
    }
   },
   "outputs": [],
   "source": [
    "if FLAG_DUMP_DATASETS:\n",
    "    for datasetType in registry.queryDatasetTypes():\n",
    "        if registry.queryDatasets(datasetType, collections=collection_validation).any(\n",
    "            execute=False, exact=False\n",
    "        ):\n",
    "            # Limit search results to the data products\n",
    "            if (\n",
    "                (\"_config\" not in datasetType.name)\n",
    "                and (\"_log\" not in datasetType.name)\n",
    "                and (\"_metadata\" not in datasetType.name)\n",
    "                and (\"_resource_usage\" not in datasetType.name)\n",
    "                and (\"Plot\" not in datasetType.name)\n",
    "                and (\"Metric\" not in datasetType.name)\n",
    "                and (\"metric\" not in datasetType.name)\n",
    "                and ((\"Table\" in datasetType.name) or (\"Zeropointp\" in datasetType.name) or (\"fgcm\" in datasetType.name) or (\"transm\" in datasetType.name) or (\"Transm\" in datasetType.name)\n",
    "                or (\"source\" in datasetType.name) or (\"Source\" in datasetType.name) or (\"object\" in datasetType.name) or (\"Object\" in datasetType.name))\n",
    "            ):\n",
    "                \n",
    "                print(datasetType)"
   ]
  },
  {
   "cell_type": "markdown",
   "id": "57be8008-c849-440e-9bae-8649564d3373",
   "metadata": {},
   "source": [
    "### Get list of Tracts and Patches\n",
    "\n",
    "- Just to know which tracts are involved in the observations"
   ]
  },
  {
   "cell_type": "code",
   "execution_count": null,
   "id": "c0823ed5-9b23-4548-af23-12d707772667",
   "metadata": {
    "execution": {
     "iopub.execute_input": "2025-05-13T21:40:37.307922Z",
     "iopub.status.busy": "2025-05-13T21:40:37.307792Z",
     "iopub.status.idle": "2025-05-13T21:40:37.382599Z",
     "shell.execute_reply": "2025-05-13T21:40:37.382113Z",
     "shell.execute_reply.started": "2025-05-13T21:40:37.307909Z"
    }
   },
   "outputs": [],
   "source": [
    "datasettype = \"objectTable_tract\"\n",
    "therefs = butler.registry.queryDatasets(datasettype,  collections=collection)"
   ]
  },
  {
   "cell_type": "code",
   "execution_count": null,
   "id": "f810d737-c393-40bb-bc60-32e3706cf4a0",
   "metadata": {
    "execution": {
     "iopub.execute_input": "2025-05-13T21:40:37.383223Z",
     "iopub.status.busy": "2025-05-13T21:40:37.383091Z",
     "iopub.status.idle": "2025-05-13T21:40:37.393359Z",
     "shell.execute_reply": "2025-05-13T21:40:37.392967Z",
     "shell.execute_reply.started": "2025-05-13T21:40:37.383210Z"
    }
   },
   "outputs": [],
   "source": [
    "tractsId_list = np.unique([ref.dataId['tract'] for ref in therefs])\n",
    "tractsId_list = sorted(tractsId_list)\n",
    "print(tractsId_list)"
   ]
  },
  {
   "cell_type": "markdown",
   "id": "b20d2431-baf2-4f64-acdd-4301479d3981",
   "metadata": {
    "execution": {
     "iopub.execute_input": "2025-04-21T12:06:53.157322Z",
     "iopub.status.busy": "2025-04-21T12:06:53.157187Z",
     "iopub.status.idle": "2025-04-21T12:06:53.279027Z",
     "shell.execute_reply": "2025-04-21T12:06:53.278463Z",
     "shell.execute_reply.started": "2025-04-21T12:06:53.157309Z"
    }
   },
   "source": [
    "## Select AGN which are in the selected Patch"
   ]
  },
  {
   "cell_type": "code",
   "execution_count": null,
   "id": "6f2bea9b-889e-486d-a023-f2bf0e568f6a",
   "metadata": {
    "execution": {
     "iopub.execute_input": "2025-05-13T21:40:37.393917Z",
     "iopub.status.busy": "2025-05-13T21:40:37.393789Z",
     "iopub.status.idle": "2025-05-13T21:40:37.411629Z",
     "shell.execute_reply": "2025-05-13T21:40:37.411235Z",
     "shell.execute_reply.started": "2025-05-13T21:40:37.393905Z"
    }
   },
   "outputs": [],
   "source": [
    "df_agn[df_agn[\"zspec\"]<1.5]"
   ]
  },
  {
   "cell_type": "code",
   "execution_count": null,
   "id": "ee4d85d6-2e9a-4fff-9cbf-044565619bdc",
   "metadata": {
    "execution": {
     "iopub.execute_input": "2025-05-13T21:40:37.412333Z",
     "iopub.status.busy": "2025-05-13T21:40:37.412195Z",
     "iopub.status.idle": "2025-05-13T21:40:37.437830Z",
     "shell.execute_reply": "2025-05-13T21:40:37.437421Z",
     "shell.execute_reply.started": "2025-05-13T21:40:37.412320Z"
    }
   },
   "outputs": [],
   "source": [
    "galaxyindex_selected = []\n",
    "N =len(df_galaxy)\n",
    "for idx in range(N):\n",
    "    ra_target,dec_target = df_galaxy.iloc[idx][['RAJ2000','DEJ2000']]\n",
    "    target_point = SpherePoint(ra_target, dec_target, degrees)\n",
    "    if ECDFS_tract_info.contains(target_point):\n",
    "        galaxyindex_selected.append(idx)         "
   ]
  },
  {
   "cell_type": "code",
   "execution_count": null,
   "id": "e882f9ae-7f26-4593-bfe5-979699f26793",
   "metadata": {
    "execution": {
     "iopub.execute_input": "2025-05-13T21:40:37.438491Z",
     "iopub.status.busy": "2025-05-13T21:40:37.438359Z",
     "iopub.status.idle": "2025-05-13T21:40:37.446945Z",
     "shell.execute_reply": "2025-05-13T21:40:37.446517Z",
     "shell.execute_reply.started": "2025-05-13T21:40:37.438478Z"
    }
   },
   "outputs": [],
   "source": [
    "print(galaxyindex_selected)"
   ]
  },
  {
   "cell_type": "code",
   "execution_count": null,
   "id": "3acd9664-74f4-4dcc-abfc-80d3315ff166",
   "metadata": {
    "execution": {
     "iopub.execute_input": "2025-05-13T21:40:37.447479Z",
     "iopub.status.busy": "2025-05-13T21:40:37.447352Z",
     "iopub.status.idle": "2025-05-13T21:40:37.468366Z",
     "shell.execute_reply": "2025-05-13T21:40:37.468006Z",
     "shell.execute_reply.started": "2025-05-13T21:40:37.447466Z"
    }
   },
   "outputs": [],
   "source": [
    "agnindex_selected = []\n",
    "N =len(df_agn)\n",
    "for idx in range(N):\n",
    "    ra_target,dec_target = df_agn.iloc[idx][['RAJ2000','DEJ2000']]\n",
    "    target_point = SpherePoint(ra_target, dec_target, degrees)\n",
    "    if ECDFS_tract_info.contains(target_point):\n",
    "        agnindex_selected.append(idx)         "
   ]
  },
  {
   "cell_type": "code",
   "execution_count": null,
   "id": "21e97d92-72b3-48f2-b1a5-b1d96b5faadc",
   "metadata": {
    "execution": {
     "iopub.execute_input": "2025-05-13T21:40:37.468931Z",
     "iopub.status.busy": "2025-05-13T21:40:37.468801Z",
     "iopub.status.idle": "2025-05-13T21:40:37.471454Z",
     "shell.execute_reply": "2025-05-13T21:40:37.471071Z",
     "shell.execute_reply.started": "2025-05-13T21:40:37.468918Z"
    }
   },
   "outputs": [],
   "source": [
    "print(agnindex_selected)"
   ]
  },
  {
   "cell_type": "code",
   "execution_count": null,
   "id": "b5717a3a-6977-4592-b726-1f7781ee97a7",
   "metadata": {
    "execution": {
     "iopub.execute_input": "2025-05-13T21:40:37.471971Z",
     "iopub.status.busy": "2025-05-13T21:40:37.471846Z",
     "iopub.status.idle": "2025-05-13T21:40:37.477728Z",
     "shell.execute_reply": "2025-05-13T21:40:37.477371Z",
     "shell.execute_reply.started": "2025-05-13T21:40:37.471959Z"
    }
   },
   "outputs": [],
   "source": [
    "index_agn_selected = 0\n",
    "index_galaxy_selected = 0\n",
    "FLAG_AGN_SELECTED  = True"
   ]
  },
  {
   "cell_type": "code",
   "execution_count": null,
   "id": "e8b3a6dd-354b-4d2f-80e3-01a6da4d62d7",
   "metadata": {
    "execution": {
     "iopub.execute_input": "2025-05-13T21:40:37.478376Z",
     "iopub.status.busy": "2025-05-13T21:40:37.478244Z",
     "iopub.status.idle": "2025-05-13T21:40:37.486291Z",
     "shell.execute_reply": "2025-05-13T21:40:37.485913Z",
     "shell.execute_reply.started": "2025-05-13T21:40:37.478364Z"
    }
   },
   "outputs": [],
   "source": [
    "if FLAG_AGN_SELECTED: \n",
    "    ra_target,dec_target = df_agn.iloc[index_agn_selected ][['RAJ2000','DEJ2000']]\n",
    "    target_point = SpherePoint(ra_target, dec_target, degrees)\n",
    "    target_coord = SkyCoord(ra=ra_target*u.deg, dec=dec_target*u.deg)\n",
    "    logLx = df_agn.iloc[index_agn_selected ]['logLX']\n",
    "    zspec = df_agn.iloc[index_agn_selected ]['zspec']\n",
    "    target_title = f\"agn :: {index_agn_selected}, log L(erg/s) = {logLx:.2f} , zspec = {zspec:.2f}, (ra,dec) = {ra_target:.5f},{dec_target:.5f}\"\n",
    "else:\n",
    "    ra_target,dec_target = df_galaxy.iloc[index_galaxy_selected ][['RAJ2000','DEJ2000']]\n",
    "    target_point = SpherePoint(ra_target, dec_target, degrees)\n",
    "    target_coord = SkyCoord(ra=ra_target*u.deg, dec=dec_target*u.deg)\n",
    "    logLx = df_galaxy.iloc[index_galaxy_selected ]['logLX']\n",
    "    zspec = df_galaxy.iloc[index_galaxy_selected ]['zspec']\n",
    "    target_title = f\"galaxy :: {index_galaxy_selected}, log L(erg/s) = {logLx:.2f} , zspec = {zspec:.2f}, (ra,dec) = {ra_target:.5f},{dec_target:.5f}\"\n",
    "    "
   ]
  },
  {
   "cell_type": "code",
   "execution_count": null,
   "id": "8635f396-48ec-4d82-8fc1-d4aa1396ffd3",
   "metadata": {
    "execution": {
     "iopub.execute_input": "2025-05-13T21:40:37.486823Z",
     "iopub.status.busy": "2025-05-13T21:40:37.486687Z",
     "iopub.status.idle": "2025-05-13T21:40:37.493696Z",
     "shell.execute_reply": "2025-05-13T21:40:37.493337Z",
     "shell.execute_reply.started": "2025-05-13T21:40:37.486810Z"
    }
   },
   "outputs": [],
   "source": [
    "target_coord"
   ]
  },
  {
   "cell_type": "markdown",
   "id": "7eb4c8a6-7c70-45c3-99cb-d33765377995",
   "metadata": {},
   "source": [
    "## Find in which patch is the target"
   ]
  },
  {
   "cell_type": "code",
   "execution_count": null,
   "id": "ae380086-7634-4f28-9a4e-bbada8c1ee83",
   "metadata": {
    "execution": {
     "iopub.execute_input": "2025-05-13T21:40:37.494224Z",
     "iopub.status.busy": "2025-05-13T21:40:37.494099Z",
     "iopub.status.idle": "2025-05-13T21:40:37.500732Z",
     "shell.execute_reply": "2025-05-13T21:40:37.500366Z",
     "shell.execute_reply.started": "2025-05-13T21:40:37.494212Z"
    }
   },
   "outputs": [],
   "source": [
    "tract_info = ECDFS_tract_info\n",
    "patch_info = tract_info.findPatch(target_point)\n",
    "tractNbSel = tract_info.getId()\n",
    "patchNbSel =  patch_info.getSequentialIndex()\n",
    "where_clause = f\"skymap = '{skymapName}' AND tract = {tractNbSel} AND patch = {patchNbSel}\"\n",
    "print(where_clause)"
   ]
  },
  {
   "cell_type": "markdown",
   "id": "5022ca8c-d08a-40f7-b8b1-9a9f56d394f2",
   "metadata": {},
   "source": [
    "## Define the Stack DM product used for the DIA analysis"
   ]
  },
  {
   "cell_type": "code",
   "execution_count": null,
   "id": "ae40f327-7e25-46aa-832f-7feaaf526420",
   "metadata": {
    "execution": {
     "iopub.execute_input": "2025-05-13T21:40:37.501243Z",
     "iopub.status.busy": "2025-05-13T21:40:37.501117Z",
     "iopub.status.idle": "2025-05-13T21:40:37.507110Z",
     "shell.execute_reply": "2025-05-13T21:40:37.506767Z",
     "shell.execute_reply.started": "2025-05-13T21:40:37.501231Z"
    }
   },
   "outputs": [],
   "source": [
    "datasettype =  'forcedSourceOnDiaObjectTable'\n",
    "#datasettype =  'diaSourceTable_tract'\n",
    "#datasettype = 'goodSeeingDiff_assocSsSrcTable' # bad table\n",
    "subtitle = collectionStr + \"_\" + datasettype"
   ]
  },
  {
   "cell_type": "code",
   "execution_count": null,
   "id": "3cc6ba9a-7fd8-4a08-927a-dda396deda30",
   "metadata": {
    "execution": {
     "iopub.execute_input": "2025-05-13T21:40:37.507618Z",
     "iopub.status.busy": "2025-05-13T21:40:37.507495Z",
     "iopub.status.idle": "2025-05-13T21:40:37.513872Z",
     "shell.execute_reply": "2025-05-13T21:40:37.513504Z",
     "shell.execute_reply.started": "2025-05-13T21:40:37.507606Z"
    }
   },
   "outputs": [],
   "source": [
    "if FLAG_AGN_SELECTED: \n",
    "    figname1 = f\"agn_{index_agn_selected}_{datasettype}_v1.png\"\n",
    "    figname2 = f\"agn_{index_agn_selected}_{datasettype}_v2.png\"\n",
    "else:\n",
    "    figname1 = f\"galaxy_{index_agn_selected}_{datasettype}_v1.png\"\n",
    "    figname2 = f\"galaxy_{index_agn_selected}_{datasettype}_v2.png\""
   ]
  },
  {
   "cell_type": "code",
   "execution_count": null,
   "id": "dc2e290d-3fef-4989-a4ca-6e57b502eaac",
   "metadata": {
    "execution": {
     "iopub.execute_input": "2025-05-13T21:40:37.514508Z",
     "iopub.status.busy": "2025-05-13T21:40:37.514379Z",
     "iopub.status.idle": "2025-05-13T21:40:43.651789Z",
     "shell.execute_reply": "2025-05-13T21:40:43.651277Z",
     "shell.execute_reply.started": "2025-05-13T21:40:37.514497Z"
    }
   },
   "outputs": [],
   "source": [
    "radius_max = 10\n",
    "closest_src, sepMin, nearby_src = RetrieveDiaSources_forTarget(butler,target_coord,datasettype,where_clause,radius_cut = radius_max)"
   ]
  },
  {
   "cell_type": "code",
   "execution_count": null,
   "id": "23306ca1-a7e6-4280-b9d7-0b199c046db9",
   "metadata": {
    "execution": {
     "iopub.execute_input": "2025-05-13T21:40:43.652473Z",
     "iopub.status.busy": "2025-05-13T21:40:43.652337Z",
     "iopub.status.idle": "2025-05-13T21:40:43.911576Z",
     "shell.execute_reply": "2025-05-13T21:40:43.911092Z",
     "shell.execute_reply.started": "2025-05-13T21:40:43.652459Z"
    }
   },
   "outputs": [],
   "source": [
    "fig, ax = plt.subplots(1,1,figsize=(6,4))\n",
    "nearby_src[\"sep\"].hist(bins=50,ax=ax,facecolor=\"b\")\n",
    "closest_src[\"sep\"].hist(bins=50,range=(0,radius_max),ax=ax,facecolor=\"r\")\n",
    "ax.set_yscale(\"log\")\n",
    "ax.set_title(\"separation angle\")\n",
    "ax.set_xlabel(\"separation angle (arcsec)\")\n",
    "plt.show()"
   ]
  },
  {
   "cell_type": "markdown",
   "id": "37807cdf-cc88-4e5a-8ecb-43fa06183171",
   "metadata": {},
   "source": [
    "### Add a few columns : Split visit into dayobs and seq"
   ]
  },
  {
   "cell_type": "code",
   "execution_count": null,
   "id": "f5c7d9ec-6f52-441a-afbe-7ebb59e224a6",
   "metadata": {
    "execution": {
     "iopub.execute_input": "2025-05-13T21:40:43.912225Z",
     "iopub.status.busy": "2025-05-13T21:40:43.912085Z",
     "iopub.status.idle": "2025-05-13T21:40:43.914756Z",
     "shell.execute_reply": "2025-05-13T21:40:43.914327Z",
     "shell.execute_reply.started": "2025-05-13T21:40:43.912211Z"
    }
   },
   "outputs": [],
   "source": [
    "t = closest_src"
   ]
  },
  {
   "cell_type": "code",
   "execution_count": null,
   "id": "84c59598-bdfa-48b6-a61d-f176688e9292",
   "metadata": {
    "execution": {
     "iopub.execute_input": "2025-05-13T21:40:43.915348Z",
     "iopub.status.busy": "2025-05-13T21:40:43.915208Z",
     "iopub.status.idle": "2025-05-13T21:40:43.923236Z",
     "shell.execute_reply": "2025-05-13T21:40:43.922807Z",
     "shell.execute_reply.started": "2025-05-13T21:40:43.915335Z"
    }
   },
   "outputs": [],
   "source": [
    "cDiaObject_Id = t[\"diaObjectId\"].unique()[0]\n",
    "print(f\"central object {cDiaObject_Id}\")"
   ]
  },
  {
   "cell_type": "code",
   "execution_count": null,
   "id": "7efde9c8-ad03-49d7-a547-87e57c87a34c",
   "metadata": {
    "execution": {
     "iopub.execute_input": "2025-05-13T21:40:43.923865Z",
     "iopub.status.busy": "2025-05-13T21:40:43.923731Z",
     "iopub.status.idle": "2025-05-13T21:40:43.930532Z",
     "shell.execute_reply": "2025-05-13T21:40:43.930086Z",
     "shell.execute_reply.started": "2025-05-13T21:40:43.923853Z"
    }
   },
   "outputs": [],
   "source": [
    "# all sources in that small sky field by increasing separation anglle\n",
    "tn = nearby_src.sort_values(by=['sep'], ascending=True)"
   ]
  },
  {
   "cell_type": "code",
   "execution_count": null,
   "id": "d742875b-b073-42c0-9448-813af7e58c04",
   "metadata": {
    "execution": {
     "iopub.execute_input": "2025-05-13T21:40:43.931112Z",
     "iopub.status.busy": "2025-05-13T21:40:43.930982Z",
     "iopub.status.idle": "2025-05-13T21:40:43.937116Z",
     "shell.execute_reply": "2025-05-13T21:40:43.936695Z",
     "shell.execute_reply.started": "2025-05-13T21:40:43.931099Z"
    }
   },
   "outputs": [],
   "source": [
    "nDiaObject_Id = tn[\"diaObjectId\"].unique()"
   ]
  },
  {
   "cell_type": "code",
   "execution_count": null,
   "id": "ed8d399f-ed4f-462f-a844-cc60e387ce61",
   "metadata": {
    "execution": {
     "iopub.execute_input": "2025-05-13T21:40:43.937769Z",
     "iopub.status.busy": "2025-05-13T21:40:43.937626Z",
     "iopub.status.idle": "2025-05-13T21:40:43.946530Z",
     "shell.execute_reply": "2025-05-13T21:40:43.946121Z",
     "shell.execute_reply.started": "2025-05-13T21:40:43.937756Z"
    }
   },
   "outputs": [],
   "source": [
    "nDiaObject_Id"
   ]
  },
  {
   "cell_type": "code",
   "execution_count": null,
   "id": "90d180c7-3ee6-485b-95b4-794ced11bc51",
   "metadata": {
    "execution": {
     "iopub.execute_input": "2025-05-13T21:40:43.947101Z",
     "iopub.status.busy": "2025-05-13T21:40:43.946974Z",
     "iopub.status.idle": "2025-05-13T21:40:43.953415Z",
     "shell.execute_reply": "2025-05-13T21:40:43.952890Z",
     "shell.execute_reply.started": "2025-05-13T21:40:43.947089Z"
    }
   },
   "outputs": [],
   "source": [
    "# ASTUCE POUR ORDONNER LES BANDS DANS UN ORDRE\n",
    "tn['band'] = pd.Categorical(tn['band'], categories=all_bands, ordered=True)"
   ]
  },
  {
   "cell_type": "code",
   "execution_count": null,
   "id": "e5aeb14d-ac79-45f3-9464-edaadfe00598",
   "metadata": {
    "execution": {
     "iopub.execute_input": "2025-05-13T21:40:43.953958Z",
     "iopub.status.busy": "2025-05-13T21:40:43.953832Z",
     "iopub.status.idle": "2025-05-13T21:40:43.966290Z",
     "shell.execute_reply": "2025-05-13T21:40:43.965927Z",
     "shell.execute_reply.started": "2025-05-13T21:40:43.953945Z"
    }
   },
   "outputs": [],
   "source": [
    "#tn['diaObjectId'].value_counts()\n",
    "tn.groupby(['diaObjectId', 'band']).size().reset_index(name='count')"
   ]
  },
  {
   "cell_type": "code",
   "execution_count": null,
   "id": "97605276-3e01-4c7e-9e2d-ff23858304f8",
   "metadata": {
    "execution": {
     "iopub.execute_input": "2025-05-13T21:40:43.966856Z",
     "iopub.status.busy": "2025-05-13T21:40:43.966725Z",
     "iopub.status.idle": "2025-05-13T21:40:43.969309Z",
     "shell.execute_reply": "2025-05-13T21:40:43.968949Z",
     "shell.execute_reply.started": "2025-05-13T21:40:43.966843Z"
    }
   },
   "outputs": [],
   "source": [
    "nbDiaObjects_Id = tn[\"diaObjectId\"].unique()"
   ]
  },
  {
   "cell_type": "code",
   "execution_count": null,
   "id": "53c53400-885c-4b32-94c3-c25dfa9c7fd7",
   "metadata": {
    "execution": {
     "iopub.execute_input": "2025-05-13T21:40:43.970021Z",
     "iopub.status.busy": "2025-05-13T21:40:43.969885Z",
     "iopub.status.idle": "2025-05-13T21:40:43.975406Z",
     "shell.execute_reply": "2025-05-13T21:40:43.975038Z",
     "shell.execute_reply.started": "2025-05-13T21:40:43.970008Z"
    }
   },
   "outputs": [],
   "source": [
    "nnDiaObjects_Id = nbDiaObjects_Id[~(nbDiaObjects_Id == cDiaObject_Id) ]"
   ]
  },
  {
   "cell_type": "markdown",
   "id": "112094be-7b12-475f-8faa-7133b3b1b936",
   "metadata": {},
   "source": [
    "### Add Magnitudes and Magnitudes errors"
   ]
  },
  {
   "cell_type": "code",
   "execution_count": null,
   "id": "453798ec-0d66-4278-b8c3-a9ea4e1cf25b",
   "metadata": {
    "execution": {
     "iopub.execute_input": "2025-05-13T21:40:43.975966Z",
     "iopub.status.busy": "2025-05-13T21:40:43.975838Z",
     "iopub.status.idle": "2025-05-13T21:40:44.017801Z",
     "shell.execute_reply": "2025-05-13T21:40:44.017351Z",
     "shell.execute_reply.started": "2025-05-13T21:40:43.975954Z"
    }
   },
   "outputs": [],
   "source": [
    "tn[\"dateobs\"] = tn.apply(lambda x: x['visit']//100_000, axis=1)\n",
    "tn[\"seq\"] = tn[\"visit\"] - tn[\"dateobs\"]*100_000"
   ]
  },
  {
   "cell_type": "code",
   "execution_count": null,
   "id": "3b3663e0-bc24-4d76-8fed-92781be70fd5",
   "metadata": {
    "execution": {
     "iopub.execute_input": "2025-05-13T21:40:44.018402Z",
     "iopub.status.busy": "2025-05-13T21:40:44.018262Z",
     "iopub.status.idle": "2025-05-13T21:40:44.076398Z",
     "shell.execute_reply": "2025-05-13T21:40:44.075989Z",
     "shell.execute_reply.started": "2025-05-13T21:40:44.018388Z"
    }
   },
   "outputs": [],
   "source": [
    "#t[\"mags\"] = t[\"psfFlux\"].apply(lambda flux : -2.5 * np.log10(flux) + 31.4)\n",
    "tn[\"mags\"] = tn[\"psfFlux\"].apply(nJy_to_ab_mag)\n",
    "tn[\"magerr\"] = nJy_err_to_ab_err(tn[\"psfFlux\"], tn[\"psfFluxErr\"])                               \n",
    "tn[\"valid\"] = (tn[\"psfFlux\"] >0) & (~tn[\"psfFlux_flag\"])\n",
    "visit_list = tn[\"visit\"].astype(int)"
   ]
  },
  {
   "cell_type": "markdown",
   "id": "8ef1ef5c-7a4c-475f-9fe3-3e9384409943",
   "metadata": {
    "execution": {
     "iopub.execute_input": "2025-04-21T13:39:44.974222Z",
     "iopub.status.busy": "2025-04-21T13:39:44.973998Z",
     "iopub.status.idle": "2025-04-21T13:39:44.976793Z",
     "shell.execute_reply": "2025-04-21T13:39:44.976436Z",
     "shell.execute_reply.started": "2025-04-21T13:39:44.974206Z"
    }
   },
   "source": [
    "### Find the time associated to each visit"
   ]
  },
  {
   "cell_type": "code",
   "execution_count": null,
   "id": "7ee3d646-b857-4019-b71e-e1d447fe292e",
   "metadata": {
    "execution": {
     "iopub.execute_input": "2025-05-13T21:40:44.077022Z",
     "iopub.status.busy": "2025-05-13T21:40:44.076893Z",
     "iopub.status.idle": "2025-05-13T21:40:44.654231Z",
     "shell.execute_reply": "2025-05-13T21:40:44.653728Z",
     "shell.execute_reply.started": "2025-05-13T21:40:44.077010Z"
    }
   },
   "outputs": [],
   "source": [
    "# On interroge la table visitDefinition\n",
    "rows = registry.queryDimensionRecords(\"visit\", where=f\"visit in {tuple(visit_list)}\")\n",
    "\n",
    "# 4. Construire un tableau des résultats\n",
    "results = []\n",
    "for row in rows:\n",
    "    visit_id = row.id\n",
    "\n",
    "    # Extraire l'instant de début de l'observation (Time astropy)\n",
    "    start_time = row.timespan.begin\n",
    "\n",
    "    # Convertir en MJD et ISO\n",
    "    mjd = start_time.to_value(\"mjd\")  # Ex: 60384.28718\n",
    "    isot = start_time.to_value(\"isot\")  # Ex: '2024-04-19 06:53:32.000'\n",
    "    \n",
    "    #mjd = row.startDate.toMjd()\n",
    "    #utc = Time(mjd, format='mjd', scale='utc').to_value('iso')\n",
    "    results.append({\"visit\": visit_id, \"mjd\": mjd, \"isot\": isot})\n",
    "\n",
    "df_times = pd.DataFrame(results).sort_values(\"visit\")\n",
    "df_times.set_index(\"visit\",inplace=True)"
   ]
  },
  {
   "cell_type": "code",
   "execution_count": null,
   "id": "65027963-05cf-4df4-ae5f-79aa70eeaa57",
   "metadata": {
    "execution": {
     "iopub.execute_input": "2025-05-13T21:40:44.654919Z",
     "iopub.status.busy": "2025-05-13T21:40:44.654780Z",
     "iopub.status.idle": "2025-05-13T21:40:45.082189Z",
     "shell.execute_reply": "2025-05-13T21:40:45.081681Z",
     "shell.execute_reply.started": "2025-05-13T21:40:44.654905Z"
    }
   },
   "outputs": [],
   "source": [
    "tn[\"mjd\"] = tn[\"visit\"].apply(lambda x: df_times.loc[x][\"mjd\"])\n",
    "tn[\"isot\"] = tn[\"visit\"].apply(lambda x: df_times.loc[x][\"isot\"])"
   ]
  },
  {
   "cell_type": "markdown",
   "id": "4a265f32-9d1b-4b0d-bd3c-bf96e05735f8",
   "metadata": {
    "execution": {
     "iopub.execute_input": "2025-05-13T19:29:03.747601Z",
     "iopub.status.busy": "2025-05-13T19:29:03.747241Z",
     "iopub.status.idle": "2025-05-13T19:29:03.764394Z",
     "shell.execute_reply": "2025-05-13T19:29:03.764038Z",
     "shell.execute_reply.started": "2025-05-13T19:29:03.747570Z"
    }
   },
   "source": [
    "### Plot statistics"
   ]
  },
  {
   "cell_type": "code",
   "execution_count": null,
   "id": "8cf081bb-7dbe-46ea-b91f-432bf82d8202",
   "metadata": {
    "execution": {
     "iopub.execute_input": "2025-05-13T21:40:45.082890Z",
     "iopub.status.busy": "2025-05-13T21:40:45.082751Z",
     "iopub.status.idle": "2025-05-13T21:40:45.375125Z",
     "shell.execute_reply": "2025-05-13T21:40:45.374662Z",
     "shell.execute_reply.started": "2025-05-13T21:40:45.082877Z"
    }
   },
   "outputs": [],
   "source": [
    "# Grouper par diaObjectId et band, et compter le nombre de lignes\n",
    "grouped = tn.groupby(['diaObjectId', 'band'],observed=True).size().unstack(fill_value=0)[all_bands]\n",
    "\n",
    "# Afficher l’histogramme (barres empilées)\n",
    "grouped.plot(kind='bar', stacked=True, figsize=(18, 10),color= all_bands_colors)\n",
    "\n",
    "plt.xlabel(\"diaObjectId\")\n",
    "plt.ylabel(\"Number of observations)\")\n",
    "plt.title(\"Number of observation per band per diaObjectId\")\n",
    "plt.legend(title='Band')\n",
    "plt.tight_layout()\n",
    "plt.show()"
   ]
  },
  {
   "cell_type": "code",
   "execution_count": null,
   "id": "cfd1d9e6-169c-4aa2-898f-6991c276afdb",
   "metadata": {
    "execution": {
     "iopub.execute_input": "2025-05-13T21:40:45.375802Z",
     "iopub.status.busy": "2025-05-13T21:40:45.375652Z",
     "iopub.status.idle": "2025-05-13T21:40:45.481072Z",
     "shell.execute_reply": "2025-05-13T21:40:45.480587Z",
     "shell.execute_reply.started": "2025-05-13T21:40:45.375788Z"
    }
   },
   "outputs": [],
   "source": [
    "# Étape 1 : calcul de la moyenne de `sep` pour chaque diaObjectId\n",
    "sep_mean_by_id = tn.groupby('diaObjectId')['sep'].mean()\n",
    "\n",
    "# Étape 2 : histogramme de ces moyennes\n",
    "plt.figure(figsize=(6, 5))\n",
    "plt.hist(sep_mean_by_id, bins=30, edgecolor='black')  # Ajuste `bins` selon la résolution désirée\n",
    "\n",
    "plt.xlabel(\"sep angle (arcsec)\")\n",
    "plt.ylabel(\"Bb Dia Objects\")\n",
    "plt.title(\"separation angle\")\n",
    "plt.tight_layout()\n",
    "plt.show()"
   ]
  },
  {
   "cell_type": "markdown",
   "id": "c65f4d15-66ed-48a1-9dae-743f1005f29e",
   "metadata": {},
   "source": [
    "## Plot light curves"
   ]
  },
  {
   "cell_type": "code",
   "execution_count": null,
   "id": "e95f14d7-592d-4d1f-ba4f-ca9647f1c973",
   "metadata": {
    "execution": {
     "iopub.execute_input": "2025-05-13T21:40:45.481771Z",
     "iopub.status.busy": "2025-05-13T21:40:45.481619Z",
     "iopub.status.idle": "2025-05-13T21:40:45.496527Z",
     "shell.execute_reply": "2025-05-13T21:40:45.496092Z",
     "shell.execute_reply.started": "2025-05-13T21:40:45.481756Z"
    }
   },
   "outputs": [],
   "source": [
    "tn"
   ]
  },
  {
   "cell_type": "code",
   "execution_count": null,
   "id": "bcf79342-2831-4e33-a3b1-e9c03acd80ce",
   "metadata": {
    "execution": {
     "iopub.execute_input": "2025-05-13T21:40:45.497172Z",
     "iopub.status.busy": "2025-05-13T21:40:45.497037Z",
     "iopub.status.idle": "2025-05-13T21:40:45.500104Z",
     "shell.execute_reply": "2025-05-13T21:40:45.499682Z",
     "shell.execute_reply.started": "2025-05-13T21:40:45.497159Z"
    }
   },
   "outputs": [],
   "source": [
    "nDiaObject_Id"
   ]
  },
  {
   "cell_type": "markdown",
   "id": "0e5a76c4-200e-4be7-a9eb-6f414f567827",
   "metadata": {},
   "source": [
    "## Split the sources in different bands"
   ]
  },
  {
   "cell_type": "code",
   "execution_count": null,
   "id": "ea653339-264a-4711-99c1-75de83fe2f05",
   "metadata": {
    "execution": {
     "iopub.execute_input": "2025-05-13T21:40:45.500844Z",
     "iopub.status.busy": "2025-05-13T21:40:45.500583Z",
     "iopub.status.idle": "2025-05-13T21:40:47.583332Z",
     "shell.execute_reply": "2025-05-13T21:40:47.582826Z",
     "shell.execute_reply.started": "2025-05-13T21:40:45.500829Z"
    }
   },
   "outputs": [],
   "source": [
    "for idx,obj_id in enumerate(nDiaObject_Id):\n",
    "    t = tn[tn[\"diaObjectId\"] == obj_id]\n",
    "    tb = {}\n",
    "    for band in all_bands:\n",
    "        tb[band] = t[t[\"band\"] == band]\n",
    "\n",
    "    sepangle = t[\"sep\"].mean()\n",
    "    obj_title = f\"diaObj {obj_id} sep = {sepangle:.1f} arcsec\"\n",
    "    plotLightCurvesAllTogetherBands(tb,obj_title,\"\",None)"
   ]
  },
  {
   "cell_type": "code",
   "execution_count": null,
   "id": "070b3a61-c473-4887-9c67-04b0c2ca39d2",
   "metadata": {
    "execution": {
     "iopub.execute_input": "2025-05-13T21:40:47.584042Z",
     "iopub.status.busy": "2025-05-13T21:40:47.583892Z",
     "iopub.status.idle": "2025-05-13T21:40:53.002334Z",
     "shell.execute_reply": "2025-05-13T21:40:53.001835Z",
     "shell.execute_reply.started": "2025-05-13T21:40:47.584027Z"
    }
   },
   "outputs": [],
   "source": [
    "for idx,obj_id in enumerate(nDiaObject_Id):\n",
    "    t = tn[tn[\"diaObjectId\"] == obj_id]\n",
    "    tb = {}\n",
    "    for band in all_bands:\n",
    "        tb[band] = t[t[\"band\"] == band]\n",
    "\n",
    "    sepangle = t[\"sep\"].mean()\n",
    "    obj_title = f\"diaObj {obj_id} sep = {sepangle:.1f} arcsec\"\n",
    "    #plotLightCurvesAllTogetherBands(tb,obj_title,\"\",None)\n",
    "    plotLightCurvesSeparatedBands(tb,obj_title,\"\",None)"
   ]
  },
  {
   "cell_type": "code",
   "execution_count": null,
   "id": "1bbeeb36-aee2-4165-a061-740e0f939451",
   "metadata": {
    "execution": {
     "iopub.execute_input": "2025-05-13T21:52:32.487748Z",
     "iopub.status.busy": "2025-05-13T21:52:32.487391Z",
     "iopub.status.idle": "2025-05-13T21:52:43.708187Z",
     "shell.execute_reply": "2025-05-13T21:52:43.707656Z",
     "shell.execute_reply.started": "2025-05-13T21:52:32.487721Z"
    }
   },
   "outputs": [],
   "source": [
    "for ib,band in enumerate(all_bands):\n",
    "    print(ib,band)\n",
    "    iframe = ib + 1\n",
    "\n",
    "    #pixel_scale_arcsec = wcs.getPixelScale().asArcseconds() \n",
    "\n",
    "    # Extract the cutout around the GEM catalog\n",
    "    cutout, wcs, metadata = extract_deepCoadd_cutout(\n",
    "        ra_deg=ra_target,\n",
    "        dec_deg=dec_target,\n",
    "        tractInfo=tract_info,\n",
    "        patchInfo=patch_info,\n",
    "        band=band,\n",
    "        butler=butler,\n",
    "        skymapName=skymapName,\n",
    "        cutout_size_pixels = radius_max*10,\n",
    "        collection = collection,\n",
    "    )\n",
    "\n",
    "    # Optionnel : nom unique si plusieurs affichages\n",
    "    display = afwDisplay.Display(frame=iframe)\n",
    "    # Affiche le cutout\n",
    "    display.mtv(cutout.image, title=f\"band {band}\")\n",
    "\n",
    "    # Show the object\n",
    "    wcs = cutout.getWcs()\n",
    "    #coord_obj = SpherePoint(ra_obj, dec_obj, degrees)\n",
    "    #pixel_obj = wcs.skyToPixel(coord_obj)  # donne un Point2D (x, y)\n",
    "\n",
    "    #display.dot(\"o\", pixel_obj.getX(), pixel_obj.getY(), size=10, ctype=all_bands_colors[ib])\n",
    "\n",
    "    coord_target = SpherePoint(ra_target, dec_target, degrees)\n",
    "    pixel_target = wcs.skyToPixel(coord_target)  # donne un Point2D (x, y)\n",
    "    display.dot(\"+\", pixel_target.getX(), pixel_target.getY(), size=50, ctype=all_bands_colors[ib])\n",
    "\n",
    "   "
   ]
  },
  {
   "cell_type": "code",
   "execution_count": null,
   "id": "c0ff101d-3672-456c-a365-eb84a67fb561",
   "metadata": {
    "execution": {
     "iopub.execute_input": "2025-05-13T21:48:58.460508Z",
     "iopub.status.busy": "2025-05-13T21:48:58.460174Z",
     "iopub.status.idle": "2025-05-13T21:48:58.463963Z",
     "shell.execute_reply": "2025-05-13T21:48:58.463568Z",
     "shell.execute_reply.started": "2025-05-13T21:48:58.460491Z"
    }
   },
   "outputs": [],
   "source": [
    "1/wcs.getPixelScale().asArcseconds() "
   ]
  },
  {
   "cell_type": "code",
   "execution_count": null,
   "id": "339d8c85-eafd-4162-ba51-b5425c9ca2a5",
   "metadata": {
    "execution": {
     "iopub.execute_input": "2025-05-13T21:48:52.423270Z",
     "iopub.status.busy": "2025-05-13T21:48:52.423055Z",
     "iopub.status.idle": "2025-05-13T21:48:52.426962Z",
     "shell.execute_reply": "2025-05-13T21:48:52.426570Z",
     "shell.execute_reply.started": "2025-05-13T21:48:52.423255Z"
    }
   },
   "outputs": [],
   "source": [
    "wcs.getPixelScale()"
   ]
  },
  {
   "cell_type": "code",
   "execution_count": null,
   "id": "ee9534f9-adb6-474e-bfd2-0eca28b93e46",
   "metadata": {},
   "outputs": [],
   "source": []
  }
 ],
 "metadata": {
  "kernelspec": {
   "display_name": "LSST",
   "language": "python",
   "name": "lsst"
  },
  "language_info": {
   "codemirror_mode": {
    "name": "ipython",
    "version": 3
   },
   "file_extension": ".py",
   "mimetype": "text/x-python",
   "name": "python",
   "nbconvert_exporter": "python",
   "pygments_lexer": "ipython3",
   "version": "3.12.10"
  }
 },
 "nbformat": 4,
 "nbformat_minor": 5
}
