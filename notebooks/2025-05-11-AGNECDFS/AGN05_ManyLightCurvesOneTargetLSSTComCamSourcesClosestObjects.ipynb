{
 "cells": [
  {
   "cell_type": "markdown",
   "id": "8f3da262-37ed-407f-908c-8ac5a52cb4db",
   "metadata": {},
   "source": [
    "# Search for AGN and neighbouring objects in the Extended Chandra Deep Field South and show their Light Curves\n",
    "\n",
    "- Confluence page : https://rubinobs.atlassian.net/wiki/spaces/LSSTCOM/pages/372867091/System-level+Science+Performance+Verification+Sprint\n",
    "- slides : https://docs.google.com/presentation/d/1bPjS5NGtiEL2lfjmvP1UYdG_tMEDfZxX26ayhf7MhtY/edit#slide=id.ga2f7fb1a1f_0_70"
   ]
  },
  {
   "cell_type": "markdown",
   "id": "f3737976-eab8-4483-a79d-796f738c4f22",
   "metadata": {},
   "source": [
    "- where to find the campains\n",
    "- https://rubinobs.atlassian.net/wiki/spaces/DM/pages/226656354/LSSTComCam+Intermittent+Cumulative+DRP+Runs\n",
    "\n",
    "- plot Navigator\n",
    "- https://usdf-rsp.slac.stanford.edu/plot-navigator\n",
    "- https://usdf-rsp.slac.stanford.edu/plot-navigator/plot/%2Frepo%2Fmain/LSSTComCam%2Fruns%2FDRP%2FDP1%2Fw_2025_05%2FDM-48666/objectTableCore_coaddInputCount_SkyPlot"
   ]
  },
  {
   "cell_type": "markdown",
   "id": "53b4594d-5de5-4fa1-8ada-f60f0018cac5",
   "metadata": {},
   "source": [
    "- Notebooks examples\n",
    "- https://github.com/lsst-dm/DMTR-401/blob/main/notebooks/test_LVV-T40_T1240.ipynb\n",
    "- https://github.com/lsst-dm/DMTR-412/blob/tickets/DM-38728/notebooks/test_LVV-T1751_AM1_AM2.ipynb"
   ]
  },
  {
   "cell_type": "markdown",
   "id": "8402aac4-562a-40cd-ac2b-c1ca76cae55b",
   "metadata": {},
   "source": [
    "- author : Sylvie Dagoret-Campagne\n",
    "- creation date : 2025-05-13\n",
    "- last update : 2025-05-13\n",
    "- Redo Visits like here : https://github.com/sylvielsstfr/LSST-Rehearsal2024/blob/main/notebooks/Visits/stat_on_visits_LSSTComCamSim.ipynb\n",
    "- To find what I did on LSSTComCamSim : https://github.com/sylvielsstfr/LSST-Rehearsal2024/blob/main/notebooks/LightCurves/MultiColor_lightCurves-DMRehearsal2024_01-AuxTel-DZPOnCCD.ipynb\n",
    "- **Confluence page** : https://rubinobs.atlassian.net/wiki/spaces/LSSTCOM/pages/443613290/Science+Verification+Sprint+Feb+2025\n"
   ]
  },
  {
   "cell_type": "code",
   "execution_count": null,
   "id": "9d583412-a5a0-456e-84be-1fb658ddf016",
   "metadata": {
    "execution": {
     "iopub.execute_input": "2025-06-05T18:53:21.116691Z",
     "iopub.status.busy": "2025-06-05T18:53:21.116294Z",
     "iopub.status.idle": "2025-06-05T18:53:22.223536Z",
     "shell.execute_reply": "2025-06-05T18:53:22.222926Z",
     "shell.execute_reply.started": "2025-06-05T18:53:21.116672Z"
    }
   },
   "outputs": [],
   "source": [
    "# Confirm that the version of the Science Pipelines is recent:\n",
    "! echo $HOSTNAME\n",
    "! eups list -s | grep lsst_distrib"
   ]
  },
  {
   "cell_type": "code",
   "execution_count": null,
   "id": "8fbb9671-7d8e-4724-8c58-0f0a4fb9e5f0",
   "metadata": {
    "execution": {
     "iopub.execute_input": "2025-06-05T18:53:22.224394Z",
     "iopub.status.busy": "2025-06-05T18:53:22.224229Z",
     "iopub.status.idle": "2025-06-05T18:53:23.550825Z",
     "shell.execute_reply": "2025-06-05T18:53:23.550295Z",
     "shell.execute_reply.started": "2025-06-05T18:53:22.224376Z"
    }
   },
   "outputs": [],
   "source": [
    "from lsst.daf.butler import Butler\n",
    "import lsst.geom as geom\n",
    "\n",
    "import lsst.afw.display as afwDisplay\n",
    "\n",
    "from lsst.geom import SpherePoint, degrees, Point2D, Point2I, Extent2I, Box2I\n",
    "from lsst.afw.image import ExposureF"
   ]
  },
  {
   "cell_type": "code",
   "execution_count": null,
   "id": "8983f25c-dadf-434b-bb84-e24a3150f766",
   "metadata": {
    "execution": {
     "iopub.execute_input": "2025-06-05T18:53:23.551799Z",
     "iopub.status.busy": "2025-06-05T18:53:23.551404Z",
     "iopub.status.idle": "2025-06-05T18:53:23.609566Z",
     "shell.execute_reply": "2025-06-05T18:53:23.609073Z",
     "shell.execute_reply.started": "2025-06-05T18:53:23.551783Z"
    }
   },
   "outputs": [],
   "source": [
    "afwDisplay.setDefaultBackend(\"firefly\")"
   ]
  },
  {
   "cell_type": "code",
   "execution_count": null,
   "id": "e814e3d6-750c-4e7f-a9a5-5bf1e2f7205f",
   "metadata": {
    "execution": {
     "iopub.execute_input": "2025-06-05T18:53:23.610402Z",
     "iopub.status.busy": "2025-06-05T18:53:23.610058Z",
     "iopub.status.idle": "2025-06-05T18:53:55.179851Z",
     "shell.execute_reply": "2025-06-05T18:53:55.179333Z",
     "shell.execute_reply.started": "2025-06-05T18:53:23.610386Z"
    }
   },
   "outputs": [],
   "source": [
    "import os\n",
    "import gc\n",
    "import glob\n",
    "import numpy as np\n",
    "import pandas as pd\n",
    "import random\n",
    "\n",
    "import astropy.units as u\n",
    "from astropy.coordinates import SkyCoord\n",
    "from astroquery.gaia import Gaia\n",
    "Gaia.MAIN_GAIA_TABLE = \"gaiadr3.gaia_source\"  # Reselect Data Release 3, default\n",
    "Gaia.ROW_LIMIT = 100000\n",
    "from astropy.visualization import (MinMaxInterval, AsinhStretch, ZScaleInterval, LogStretch, LinearStretch,\n",
    "                                   ImageNormalize)"
   ]
  },
  {
   "cell_type": "code",
   "execution_count": null,
   "id": "e68df967-7870-47da-a4dd-760df6732aa5",
   "metadata": {
    "execution": {
     "iopub.execute_input": "2025-06-05T18:53:55.180762Z",
     "iopub.status.busy": "2025-06-05T18:53:55.180419Z",
     "iopub.status.idle": "2025-06-05T18:53:55.813312Z",
     "shell.execute_reply": "2025-06-05T18:53:55.812794Z",
     "shell.execute_reply.started": "2025-06-05T18:53:55.180746Z"
    }
   },
   "outputs": [],
   "source": [
    "import seaborn as sns\n",
    "from itertools import cycle, islice"
   ]
  },
  {
   "cell_type": "code",
   "execution_count": null,
   "id": "f385c649-efb6-40a8-b9f7-ebc65c441a04",
   "metadata": {
    "execution": {
     "iopub.execute_input": "2025-06-05T18:53:55.814127Z",
     "iopub.status.busy": "2025-06-05T18:53:55.813870Z",
     "iopub.status.idle": "2025-06-05T18:53:55.816806Z",
     "shell.execute_reply": "2025-06-05T18:53:55.816425Z",
     "shell.execute_reply.started": "2025-06-05T18:53:55.814111Z"
    }
   },
   "outputs": [],
   "source": [
    "from astropy.time import Time\n",
    "from datetime import datetime, timedelta"
   ]
  },
  {
   "cell_type": "code",
   "execution_count": null,
   "id": "46c68d72-750b-4bb9-b92a-1fe6e1728171",
   "metadata": {
    "execution": {
     "iopub.execute_input": "2025-06-05T18:53:55.817344Z",
     "iopub.status.busy": "2025-06-05T18:53:55.817217Z",
     "iopub.status.idle": "2025-06-05T18:53:55.824807Z",
     "shell.execute_reply": "2025-06-05T18:53:55.824390Z",
     "shell.execute_reply.started": "2025-06-05T18:53:55.817332Z"
    }
   },
   "outputs": [],
   "source": [
    "import lsst\n",
    "import lsst.geom as geom\n",
    "from lsst.geom import Angle\n",
    "from lsst.geom import SpherePoint\n",
    "from lsst.geom import AngleUnit"
   ]
  },
  {
   "cell_type": "code",
   "execution_count": null,
   "id": "224cf803-f7cc-4e49-9dc9-46779557286e",
   "metadata": {
    "execution": {
     "iopub.execute_input": "2025-06-05T18:53:55.825423Z",
     "iopub.status.busy": "2025-06-05T18:53:55.825286Z",
     "iopub.status.idle": "2025-06-05T18:53:55.834280Z",
     "shell.execute_reply": "2025-06-05T18:53:55.833917Z",
     "shell.execute_reply.started": "2025-06-05T18:53:55.825409Z"
    }
   },
   "outputs": [],
   "source": [
    "def find_tract_patch_and_display(butler, skymap,ra_deg, dec_deg, band, framecount):\n",
    "    \"\"\"\n",
    "    - butler\n",
    "    - skymap\n",
    "    - ra_deg, dec_deg : source\n",
    "    - band\n",
    "    - framecount\n",
    "    \"\"\"\n",
    "    # Ouvrir le dépôt\n",
    "    #butler = Butler(repo)\n",
    "    #skymap = butler.get(\"skyMap\")\n",
    "    band_to_color = {\"u\":\"blue\",\"g\":\"green\",\"r\":\"red\",\"i\":\"orange\",\"z\":\"yellow\",\"y\":\"purple\"}\n",
    "\n",
    "    datasettype = \"objectTable_tract\"\n",
    "    therefs = butler.registry.queryDatasets(datasettype,  collections=collection)\n",
    "\n",
    "    # Créer le point céleste\n",
    "    coord = SpherePoint(ra_deg * degrees, dec_deg * degrees)\n",
    "\n",
    "\n",
    "    found = False\n",
    "    # loop only on existing tracts\n",
    "    \n",
    "    for ref in therefs:\n",
    "        tract_id = ref.dataId[\"tract\"]\n",
    "        tractInfo = skymap[tract_id]\n",
    "        if tractInfo.contains(coord):\n",
    "            patchInfo = tractInfo.findPatch(coord)\n",
    "            patch_id = patchInfo.getIndex()  # Tuple (x, y)\n",
    "            patch_indexseq = patchInfo.getSequentialIndex()\n",
    "            print(f\"Tract: {tract_id}, Patch: {patch_indexseq}\")\n",
    "            found = True\n",
    "            break\n",
    "    # Charger l’image coadd correspondante\n",
    "    dataId = {\"tract\": tract_id, \"patch\": patch_indexseq, \"band\": band,\"skymap\": skymapName}\n",
    "    #deepCoadd_calexp\n",
    "    coadd = butler.get(\"deepCoadd_calexp\", dataId)\n",
    "    # Récupération du WCS\n",
    "    wcs = coadd.getWcs()\n",
    "\n",
    "    datatitle = f\"deepcoadd-LSSTComCam : {tract_id} , {patch_indexseq} , {band}\"\n",
    "    print(datatitle)\n",
    "\n",
    "    # Affichage avec marqueur\n",
    "    \n",
    "    display = afwDisplay.Display(frame = framecount)\n",
    "    display.scale('asinh', 'zscale')\n",
    "    #afw_display.scale('linear', min=zmin, max=zmax)\n",
    "    #display.setImageColormap(cmap='grey')\n",
    "    display.setImageColormap(cmap='Grey_r')\n",
    "    display.mtv(coadd.getImage(),title=datatitle)\n",
    "\n",
    "    # Création du point céleste\n",
    "    pix_point = wcs.skyToPixel(coord)\n",
    "    x, y = pix_point.x,pix_point.y\n",
    "    \n",
    "    col = band_to_color[band] \n",
    "    display.dot(\"+\", x, y, size=50, ctype=col)\n",
    "    \n",
    "\n",
    "    \n",
    "    return tract_id, patch_indexseq, band"
   ]
  },
  {
   "cell_type": "code",
   "execution_count": null,
   "id": "23fd90bd-9bc6-4a17-b476-1c3d8e5afcbd",
   "metadata": {
    "execution": {
     "iopub.execute_input": "2025-06-05T18:53:55.834868Z",
     "iopub.status.busy": "2025-06-05T18:53:55.834734Z",
     "iopub.status.idle": "2025-06-05T18:53:55.842862Z",
     "shell.execute_reply": "2025-06-05T18:53:55.842453Z",
     "shell.execute_reply.started": "2025-06-05T18:53:55.834855Z"
    }
   },
   "outputs": [],
   "source": [
    "def extract_deepCoadd_cutout(\n",
    "    ra_deg,\n",
    "    dec_deg,\n",
    "    tractInfo,\n",
    "    patchInfo,\n",
    "    band,\n",
    "    butler,\n",
    "    skymapName,\n",
    "    cutout_size_pixels,\n",
    "    collection,\n",
    "):\n",
    "    \"\"\"\n",
    "    Extract a square cutout from a deepCoadd image centered on given sky coordinates.\n",
    "\n",
    "    Parameters\n",
    "    ----------\n",
    "    ra_deg : float\n",
    "        Right ascension in degrees.\n",
    "    dec_deg : float\n",
    "        Declination in degrees.\n",
    "    tractInfo : lsst.skymap.TractInfo\n",
    "        Tract information object (from SkyMap).\n",
    "    patchInfo : lsst.skymap.PatchInfo\n",
    "        Patch information object (from SkyMap).\n",
    "    band : str\n",
    "        Photometric band (e.g., 'i', 'r', 'g').\n",
    "    butler : lsst.daf.butler.Butler\n",
    "        Butler instance to access LSST data.\n",
    "    cutout_size_pixels : int, optional\n",
    "        Size of the cutout in pixels (square region), default is 200.\n",
    "    collection : str, optional\n",
    "        Name of the collection containing deepCoadd data.\n",
    "\n",
    "    Returns\n",
    "    -------\n",
    "    cutout : lsst.afw.image.ExposureF\n",
    "        The extracted image cutout.\n",
    "    wcs : lsst.afw.geom.SkyWcs\n",
    "        World Coordinate System associated with the cutout.\n",
    "    metadata : lsst.daf.base.PropertyList\n",
    "        FITS metadata header for the cutout image.\n",
    "    \"\"\"\n",
    "\n",
    "    # Build dataId for the deepCoadd image\n",
    "    tract = tractInfo.getId()\n",
    "    patch = patchInfo.getSequentialIndex()\n",
    "    dataId = dict(tract=tract, patch=patch, band=band, skymap=skymapName)\n",
    "\n",
    "    # Retrieve the deepCoadd exposure\n",
    "    exposure = butler.get(\"deepCoadd\", dataId=dataId, collections=collection)\n",
    "    image_bbox = exposure.getBBox()\n",
    "\n",
    "    # Convert sky coordinates (RA, Dec) to pixel coordinates using WCS\n",
    "    coord = SpherePoint(ra_deg, dec_deg, degrees)\n",
    "    wcs = exposure.getWcs()\n",
    "    pixel_center = wcs.skyToPixel(coord)\n",
    "\n",
    "    half_size = cutout_size_pixels // 2\n",
    "\n",
    "    # Centre du cutout\n",
    "    center_x = int(pixel_center.getX())\n",
    "    center_y = int(pixel_center.getY())\n",
    "\n",
    "    # Coordonnées du coin en bas à gauche\n",
    "    corner_x = max(center_x - half_size, image_bbox.getMinX())\n",
    "    corner_y = max(center_y - half_size, image_bbox.getMinY())\n",
    "\n",
    "    # Ne pas dépasser la taille max de l'image\n",
    "    corner_x = min(corner_x, image_bbox.getMaxX() - cutout_size_pixels)\n",
    "    corner_y = min(corner_y, image_bbox.getMaxY() - cutout_size_pixels)\n",
    "\n",
    "    # Define a square bounding box around the target pixel\n",
    "    # Création du BBox valide\n",
    "    corner = Point2I(corner_x, corner_y)\n",
    "    bbox = Box2I(corner, Extent2I(cutout_size_pixels, cutout_size_pixels))\n",
    "\n",
    "    # Extract the cutout from the original exposure\n",
    "    cutout = exposure.Factory(exposure, bbox, deep=True)\n",
    "\n",
    "    return cutout, cutout.getWcs(), cutout.getMetadata()"
   ]
  },
  {
   "cell_type": "code",
   "execution_count": null,
   "id": "bd5588af-14ec-4f29-96c8-2cb1e2e226a5",
   "metadata": {
    "execution": {
     "iopub.execute_input": "2025-06-05T18:53:55.843469Z",
     "iopub.status.busy": "2025-06-05T18:53:55.843338Z",
     "iopub.status.idle": "2025-06-05T18:53:55.850861Z",
     "shell.execute_reply": "2025-06-05T18:53:55.850492Z",
     "shell.execute_reply.started": "2025-06-05T18:53:55.843456Z"
    }
   },
   "outputs": [],
   "source": [
    "def RetrieveDiaSources_forTarget(butler,center_coord,datasettype,where_clause,radius_cut=100):\n",
    "    \"\"\"\n",
    "    Find the closest DIA objectto the target_coord \n",
    "\n",
    "    parameters:\n",
    "    - butler\n",
    "    - the coordinate of the target (center of the cone seach)\n",
    "    - the datasettype name for the DIA object\n",
    "    - where_clause : which contrain requirements on the tract and patch numbers\n",
    "    - cut on angluar separation for the returned for the returned object\n",
    "\n",
    "    Return\n",
    "    - object Id with minimum separation , \n",
    "    - minimum separation (arcec),\n",
    "    - the table of DIA objects within the radius_cut\n",
    "    \"\"\"\n",
    "\n",
    "    #datasettype =  'forcedSourceOnDiaObjectTable'\n",
    "    #datasettype =  'diaSourceTable_tract'\n",
    "    #datasettype = 'goodSeeingDiff_assocSsSrcTable' # bad table\n",
    "    \n",
    "    therefs = butler.registry.queryDatasets(datasettype,  collections=collection, where=where_clause)\n",
    "    listref = list(therefs)\n",
    "    nref = len(listref)\n",
    "   \n",
    "    # assume the target is in a single (tract,patch)\n",
    "    assert nref == 1\n",
    "\n",
    "    # loop forcedSourceOnDiaObjectTable (per tract, per patch)\n",
    "    for count,ref in enumerate(therefs):\n",
    "        the_id = ref.dataId\n",
    "        the_tract_id = the_id[\"tract\"] \n",
    "        \n",
    "        assert the_tract_id == TRACTSEL\n",
    "\n",
    "        # catalog of rubin objects (a pandas Dataframe) inside the tract\n",
    "        catalog = butler.get(ref)\n",
    "        nsources = len(catalog)\n",
    "           \n",
    "\n",
    "        # extract the (ra,dec) coordinates for all te objects of the rubin-catalog\n",
    "        ra_cat = catalog[\"coord_ra\"].values\n",
    "        dec_cat = catalog[\"coord_dec\"].values\n",
    "        # coordinates for all rubin-catalog points\n",
    "        catalog_coords = SkyCoord(ra=ra_cat*u.deg, dec=dec_cat*u.deg)\n",
    "\n",
    "        # Angular distance to target\n",
    "        distances_arcsec = center_coord.separation(catalog_coords).arcsecond\n",
    "\n",
    "        # add the separation angle to the ctalog\n",
    "        catalog[\"sep\"] = distances_arcsec\n",
    "\n",
    "\n",
    "        # closest object from the target\n",
    "        sepMin = distances_arcsec.min() \n",
    "        sepMin_idx = np.where(distances_arcsec == sepMin)[0][0]\n",
    "    \n",
    "        closest_src = catalog[catalog[\"sep\"] <=  sepMin]\n",
    "                   \n",
    "        # select a few of these sources to debug the closest candidate\n",
    "        nearby_src = catalog[distances_arcsec < radius_cut]\n",
    "        \n",
    "        return closest_src, sepMin, nearby_src\n",
    "\n",
    "      "
   ]
  },
  {
   "cell_type": "code",
   "execution_count": null,
   "id": "9c56699f-a517-4af0-9b43-479402154537",
   "metadata": {
    "execution": {
     "iopub.execute_input": "2025-06-05T18:53:55.851419Z",
     "iopub.status.busy": "2025-06-05T18:53:55.851285Z",
     "iopub.status.idle": "2025-06-05T18:53:55.857894Z",
     "shell.execute_reply": "2025-06-05T18:53:55.857522Z",
     "shell.execute_reply.started": "2025-06-05T18:53:55.851407Z"
    }
   },
   "outputs": [],
   "source": [
    "def plotLightCurvesSeparatedBands(tb,title,subtitle,figname = None):\n",
    "    \"\"\"\n",
    "    \"\"\"\n",
    "\n",
    "    fig,axs = plt.subplots(6,1,figsize=(18,16),sharex=True,layout=\"constrained\")\n",
    "\n",
    "    for idx,band in enumerate(all_bands):\n",
    "        ax =axs[idx]\n",
    "        label = f\"band {band}\"\n",
    "        ax.scatter(tb[band].mjd, tb[band].mags,color=all_bands_colors[idx],label=label,marker=\"o\",s=100)\n",
    "        ax.set_ylabel(\"mag_psfFlux\")\n",
    "        ax.legend()\n",
    "        if idx==0:\n",
    "            ax.set_title(target_title,fontweight = \"bold\")\n",
    "    ax.set_xlabel(\"mjd\")\n",
    "    \n",
    "    plt.suptitle(subtitle)\n",
    "\n",
    "    if figname != None:\n",
    "        plt.savefig(figname)\n",
    "    plt.show() "
   ]
  },
  {
   "cell_type": "code",
   "execution_count": null,
   "id": "5ab02249-d662-4729-a8a1-9625cb05f89c",
   "metadata": {
    "execution": {
     "iopub.execute_input": "2025-06-05T18:53:55.858489Z",
     "iopub.status.busy": "2025-06-05T18:53:55.858358Z",
     "iopub.status.idle": "2025-06-05T18:53:55.866937Z",
     "shell.execute_reply": "2025-06-05T18:53:55.866576Z",
     "shell.execute_reply.started": "2025-06-05T18:53:55.858476Z"
    }
   },
   "outputs": [],
   "source": [
    "def plotLightCurvesSeparatedBandsWithErrors(tb, title, subtitle, deltaylim = 0.5  ,figname=None):\n",
    "    \"\"\"\n",
    "    Plot light curves per band with error bars, horizontal lines at clipped mean ±0.01 mag,\n",
    "    and y-limits set to mean ±1 mag.\n",
    "\n",
    "    Parameters\n",
    "    ----------\n",
    "    tb : dict-like\n",
    "        Dictionnaire contenant les données de courbe de lumière par bande.\n",
    "        Chaque élément tb[band] doit avoir les colonnes 'mjd', 'mags' et 'magerr'.\n",
    "    title : str\n",
    "        Titre principal du graphe.\n",
    "    subtitle : str\n",
    "        Sous-titre du graphe (utilisé comme suptitle).\n",
    "    figname : str or None\n",
    "        Si spécifié, sauvegarde la figure dans ce fichier.\n",
    "    \"\"\"\n",
    "    fig, axs = plt.subplots(6, 1, figsize=(18, 16), sharex=True, layout=\"constrained\")\n",
    "\n",
    "    for idx, band in enumerate(all_bands):\n",
    "        ax = axs[idx]\n",
    "        label = f\"band {band}\"\n",
    "        \n",
    "        # Données\n",
    "        mjd = tb[band].mjd\n",
    "        mags = tb[band].mags\n",
    "        magerr = tb[band].magerr\n",
    "        \n",
    "        # Moyenne sigma-clippée\n",
    "        mean, median, std = sigma_clipped_stats(mags, sigma=3.0, maxiters=5)\n",
    "\n",
    "        # Ajouter un encadré avec les statistiques\n",
    "        stats_text = f\"mean = {mean:.2f} mag \\nmedian = {median:.2f} mag \\nσ = {std:.3f} mag\"\n",
    "        ax.text(\n",
    "            0.02, 0.05,\n",
    "            stats_text,\n",
    "            transform=ax.transAxes,\n",
    "            fontsize=12,\n",
    "            verticalalignment='bottom',\n",
    "            horizontalalignment='left',\n",
    "            bbox=dict(facecolor='white', alpha=0.8, edgecolor='gray')\n",
    "        )\n",
    "\n",
    "        \n",
    "        \n",
    "        # Tracé avec barres d'erreur\n",
    "        ax.errorbar(\n",
    "            mjd,\n",
    "            mags,\n",
    "            yerr=magerr,\n",
    "            fmt=\"o\",\n",
    "            color=all_bands_colors[idx],\n",
    "            label=label,\n",
    "            markersize=7,\n",
    "            capsize=3\n",
    "        )\n",
    "        \n",
    "        # Lignes horizontales\n",
    "        ax.axhline(mean, color=\"gray\", linestyle=\"--\", linewidth=1.5, label=\"clipped mean\")\n",
    "        ax.axhline(mean + +0.01, color=\"gray\", linestyle=\":\", linewidth=1.0, label=\"+/- 10 mmag\")\n",
    "        ax.axhline(mean - 0.01, color=\"gray\", linestyle=\":\", linewidth=1.0)\n",
    "        \n",
    "        # Limites y : +/- 1 mag autour de la moyenne\n",
    "        ax.set_ylim(mean - deltaylim, mean + deltaylim)  # inversé car l'axe y est inversé pour les magnitudes\n",
    "        ax.set_ylabel(\"mag_psfFlux\")\n",
    "        ax.invert_yaxis()\n",
    "        #ax.legend(loc=\"upper left\")\n",
    "        ax.legend(loc='center left', bbox_to_anchor=(1.02, 0.5), title=\"Bands\")\n",
    "        \n",
    "        if idx == 0:\n",
    "            ax.set_title(title, fontweight=\"bold\")\n",
    "    \n",
    "    ax.set_xlabel(\"mjd\")\n",
    "    plt.suptitle(subtitle)\n",
    "\n",
    "    if figname is not None:\n",
    "        plt.savefig(figname)\n",
    "    plt.show()\n"
   ]
  },
  {
   "cell_type": "code",
   "execution_count": null,
   "id": "7297c27b-8967-44a4-acc1-4c21307caa9a",
   "metadata": {
    "execution": {
     "iopub.execute_input": "2025-06-05T18:53:55.867513Z",
     "iopub.status.busy": "2025-06-05T18:53:55.867377Z",
     "iopub.status.idle": "2025-06-05T18:53:55.876846Z",
     "shell.execute_reply": "2025-06-05T18:53:55.876483Z",
     "shell.execute_reply.started": "2025-06-05T18:53:55.867494Z"
    }
   },
   "outputs": [],
   "source": [
    "import numpy as np\n",
    "from matplotlib.cm import ScalarMappable\n",
    "from matplotlib.colors import Normalize\n",
    "\n",
    "def plotLightCurvesSeparatedBands_coloredbyquantity(tb, quantity_str, title, subtitle, deltaylim = 0.5 ,figname=None):\n",
    "    \"\"\"\n",
    "    Trace les courbes de lumière par bande, colorées par une quantité externe,\n",
    "    avec barres d'erreur, lignes horizontales (moyenne ±0.01 mag) et ylim centrées.\n",
    "    Affiche une colorbar globale.\n",
    "    \"\"\"\n",
    "\n",
    "    fig, axs = plt.subplots(6, 1, figsize=(18, 16), sharex=True, layout=\"constrained\")\n",
    "\n",
    "    # Regroupe toutes les valeurs du quantity_str pour normalisation colorbar\n",
    "    all_quantities = np.concatenate([tb[band][quantity_str] for band in all_bands])\n",
    "    norm = Normalize(vmin=np.nanmin(all_quantities), vmax=np.nanmax(all_quantities))\n",
    "    cmap = plt.get_cmap('jet')\n",
    "\n",
    "    for idx, band in enumerate(all_bands):\n",
    "        ax = axs[idx]\n",
    "        label = f\"band {band}\"\n",
    "\n",
    "        mjd = tb[band].mjd\n",
    "        mags = tb[band].mags\n",
    "        magerr = tb[band].magerr\n",
    "        quantity_toplot = tb[band][quantity_str]\n",
    "\n",
    "        # Moyenne sigma-clippée\n",
    "        mean, _, _ = sigma_clipped_stats(mags, sigma=3.0, maxiters=5)\n",
    "\n",
    "        # Barres d'erreur\n",
    "        ax.errorbar(\n",
    "            mjd,\n",
    "            mags,\n",
    "            yerr=magerr,\n",
    "            fmt='none',\n",
    "            ecolor='black',\n",
    "            elinewidth=0.8,\n",
    "            capsize=2,\n",
    "            alpha=0.5\n",
    "        )\n",
    "\n",
    "        # Scatter coloré\n",
    "        sc = ax.scatter(\n",
    "            mjd,\n",
    "            mags,\n",
    "            c=quantity_toplot,\n",
    "            cmap=cmap,\n",
    "            norm=norm,\n",
    "            s=80,\n",
    "            marker='o',\n",
    "            label=label\n",
    "        )\n",
    "\n",
    "        # Moyenne ± 0.01\n",
    "        ax.axhline(mean, color=\"gray\", linestyle=\"--\", linewidth=1.5, label=\"clipped mean\")\n",
    "        ax.axhline(mean + 0.01, color=\"gray\", linestyle=\":\", linewidth=1.0, label=\"+/- 10 mmag\")\n",
    "        ax.axhline(mean - 0.01, color=\"gray\", linestyle=\":\", linewidth=1.0)\n",
    "\n",
    "        # Limites Y\n",
    "        ax.set_ylim(mean + deltaylim , mean - deltaylim )\n",
    "        ax.set_ylabel(\"mag_psfFlux\")\n",
    "        ax.invert_yaxis()\n",
    "        #ax.legend()\n",
    "        ax.legend(loc='center left', bbox_to_anchor=(1.02, 0.5), title=\"Bands\")\n",
    "\n",
    "        if idx == 0:\n",
    "            ax.set_title(title, fontweight=\"bold\")\n",
    "\n",
    "    ax.set_xlabel(\"mjd\")\n",
    "    plt.suptitle(subtitle)\n",
    "\n",
    "    # Création d'une colorbar globale\n",
    "    sm = ScalarMappable(norm=norm, cmap=cmap)\n",
    "    sm.set_array([])  # nécessaire uniquement pour compatibilité\n",
    "    #cbar = fig.colorbar(sm, ax=axs, orientation='vertical', label=quantity_str)\n",
    "\n",
    "    cbar = fig.colorbar(\n",
    "    sm,\n",
    "    ax=axs,\n",
    "    orientation='vertical',\n",
    "    label=quantity_str,\n",
    "    fraction=1,  # largeur de la colorbar (plus petit = plus mince)\n",
    "    pad=0.01         # distance entre la colorbar et les subplots\n",
    "    )\n",
    "    \n",
    "\n",
    "    if figname is not None:\n",
    "        plt.savefig(figname)\n",
    "    plt.show()\n"
   ]
  },
  {
   "cell_type": "code",
   "execution_count": null,
   "id": "24a57df1-2505-4f7e-a377-c5f8829adfbd",
   "metadata": {
    "execution": {
     "iopub.execute_input": "2025-06-05T18:53:55.880389Z",
     "iopub.status.busy": "2025-06-05T18:53:55.880190Z",
     "iopub.status.idle": "2025-06-05T18:53:55.886399Z",
     "shell.execute_reply": "2025-06-05T18:53:55.886019Z",
     "shell.execute_reply.started": "2025-06-05T18:53:55.880376Z"
    }
   },
   "outputs": [],
   "source": [
    "import numpy as np\n",
    "import matplotlib.pyplot as plt\n",
    "import matplotlib.colors as mcolors\n",
    "from astropy.stats import sigma_clipped_stats\n",
    "\n",
    "def plotLightCurvesSeparatedBands_coloredbydiscretequantity(tb, quantity_str, title, subtitle,deltaylim = 0.5  ,figname=None):\n",
    "    \"\"\"\n",
    "    tb: dictionnaire contenant des tables par bande\n",
    "    quantity_str: nom de la colonne discrète utilisée pour la couleur (par ex. 'airmass_flag')\n",
    "    \"\"\"\n",
    "\n",
    "    fig, axs = plt.subplots(6, 1, figsize=(18, 16), sharex=True, layout=\"constrained\")\n",
    "\n",
    "    # Récupération de toutes les valeurs discrètes dans toutes les bandes\n",
    "    all_values = np.unique(np.concatenate([np.asarray(tb[band][quantity_str]) for band in all_bands]))\n",
    "    num_categories = len(all_values)\n",
    "\n",
    "    # Création d'une palette discrète\n",
    "    cmap = plt.cm.get_cmap('tab10', num_categories)  # Peut être 'tab20', 'Set3'...\n",
    "    norm = mcolors.BoundaryNorm(boundaries=np.arange(-0.5, num_categories + 0.5, 1), ncolors=num_categories)\n",
    "\n",
    "    for idx, band in enumerate(all_bands):\n",
    "        ax = axs[idx]\n",
    "        label = f\"band {band}\"\n",
    "\n",
    "        mjd = tb[band]['mjd']\n",
    "        mags = tb[band]['mags']\n",
    "        magerr = tb[band]['magerr']\n",
    "        quantity_toplot = tb[band][quantity_str]\n",
    "\n",
    "        # Moyenne sigma-clippée\n",
    "        mean, _, _ = sigma_clipped_stats(mags, sigma=3.0, maxiters=5)\n",
    "\n",
    "        # Barres d'erreur\n",
    "        ax.errorbar(\n",
    "            mjd,\n",
    "            mags,\n",
    "            yerr=magerr,\n",
    "            fmt='none',\n",
    "            ecolor='black',\n",
    "            elinewidth=0.8,\n",
    "            capsize=2,\n",
    "            alpha=0.5\n",
    "        )\n",
    "\n",
    "        # Scatter coloré par classe discrète\n",
    "        sc = ax.scatter(\n",
    "            mjd,\n",
    "            mags,\n",
    "            c=quantity_toplot,\n",
    "            cmap=cmap,\n",
    "            norm=norm,\n",
    "            label=label,\n",
    "            marker=\"o\",\n",
    "            s=80\n",
    "        )\n",
    "\n",
    "        # Moyenne ± 0.01\n",
    "        ax.axhline(mean, color=\"gray\", linestyle=\"--\", linewidth=1.5, label=\"clipped mean\")\n",
    "        ax.axhline(mean + 0.01, color=\"gray\", linestyle=\":\", linewidth=1.0, label=\"+/- 10 mmag\")\n",
    "        ax.axhline(mean - 0.01, color=\"gray\", linestyle=\":\", linewidth=1.0)\n",
    "\n",
    "        # Axe Y centré autour de la moyenne\n",
    "        ax.set_ylim(mean + deltaylim, mean - deltaylim)\n",
    "        ax.set_ylabel(\"mag_psfFlux\")\n",
    "        ax.invert_yaxis()\n",
    "        #ax.legend()\n",
    "        ax.legend(loc='center left', bbox_to_anchor=(1.02, 0.5), title=\"Bands\")\n",
    "\n",
    "        if idx == 0:\n",
    "            ax.set_title(title, fontweight=\"bold\")\n",
    "\n",
    "    ax.set_xlabel(\"mjd\")\n",
    "    plt.suptitle(subtitle)\n",
    "\n",
    "    # Ajout d'une colorbar discrète (mince)\n",
    "    cbar = fig.colorbar(\n",
    "        sc,\n",
    "        ax=axs,\n",
    "        ticks=all_values,\n",
    "        orientation='vertical',\n",
    "        fraction=1.0,\n",
    "        pad=0.01\n",
    "    )\n",
    "    cbar.set_label(quantity_str)\n",
    "    cbar.ax.set_yticklabels([str(v) for v in all_values])\n",
    "\n",
    "    if figname is not None:\n",
    "        plt.savefig(figname)\n",
    "    plt.show()\n"
   ]
  },
  {
   "cell_type": "code",
   "execution_count": null,
   "id": "b14bf441-5878-42a9-8799-b018a4f3eb29",
   "metadata": {
    "execution": {
     "iopub.execute_input": "2025-06-05T18:53:55.886973Z",
     "iopub.status.busy": "2025-06-05T18:53:55.886844Z",
     "iopub.status.idle": "2025-06-05T18:53:55.894786Z",
     "shell.execute_reply": "2025-06-05T18:53:55.894420Z",
     "shell.execute_reply.started": "2025-06-05T18:53:55.886961Z"
    }
   },
   "outputs": [],
   "source": [
    "def plotLightCurvesAllTogetherBands(tb,title,subtitle,figname = None):\n",
    "    \"\"\"\n",
    "    \"\"\"\n",
    "    fig,ax = plt.subplots(1,1,figsize=(18,10),sharex=True,layout=\"constrained\")\n",
    "\n",
    "    allmags = []\n",
    "    \n",
    "    for idx,band in enumerate(all_bands):\n",
    "\n",
    "        data = tb[band]\n",
    "        mjd = data[\"mjd\"]\n",
    "        mags = data[\"mags\"]\n",
    "        magerr = data[\"magerr\"]\n",
    "        mean, _, _ = sigma_clipped_stats(mags, sigma=3.0, maxiters=5)\n",
    "\n",
    "        label = f\"band {band}\"\n",
    "        ax.scatter(tb[band].mjd, tb[band].mags,color=all_bands_colors[idx],label=label,marker=\"o\",s=100)\n",
    "        allmags.append(tb[band].mags.values) \n",
    "\n",
    "\n",
    "        # Lignes horizontales\n",
    "        ax.axhline(mean, color=all_bands_colors[idx], linestyle=\"--\", linewidth=1.5)\n",
    "        ax.axhline(mean + 0.01, color=all_bands_colors[idx], linestyle=\":\", linewidth=1.0)\n",
    "        ax.axhline(mean - 0.01, color=all_bands_colors[idx], linestyle=\":\", linewidth=1.0)\n",
    "\n",
    "        \n",
    "    ax.set_ylabel(\"mag_psfFlux\")\n",
    "    ax.set_title(target_title,fontweight = \"bold\")\n",
    "    ax.set_xlabel(\"mjd\")\n",
    "    ax.legend()\n",
    "\n",
    "    allmags = np.concatenate(allmags)\n",
    "    allmags = allmags[~np.isnan(allmags)]\n",
    "    mags_min = allmags.min()\n",
    "    mags_max = allmags.max()\n",
    "    \n",
    "    ax.invert_yaxis()\n",
    "\n",
    "    plt.suptitle(subtitle)\n",
    "    if figname != None:\n",
    "        plt.savefig(figname)\n",
    "        \n",
    "    plt.show()\n",
    "    "
   ]
  },
  {
   "cell_type": "code",
   "execution_count": null,
   "id": "62ef807a-1565-4f22-aa3e-8d25dbd176b0",
   "metadata": {
    "execution": {
     "iopub.execute_input": "2025-06-05T18:53:55.895419Z",
     "iopub.status.busy": "2025-06-05T18:53:55.895290Z",
     "iopub.status.idle": "2025-06-05T18:53:55.903115Z",
     "shell.execute_reply": "2025-06-05T18:53:55.902728Z",
     "shell.execute_reply.started": "2025-06-05T18:53:55.895407Z"
    }
   },
   "outputs": [],
   "source": [
    "def plotLightCurvesAllTogetherBandsWithErrors(tb, title, subtitle, figname=None):\n",
    "    \"\"\"\n",
    "    Affiche toutes les courbes de lumière sur un seul graphique avec :\n",
    "    - barres d'erreur\n",
    "    - moyenne sigma-clippée\n",
    "    - lignes à +/- 0.01 mag de la moyenne\n",
    "    \"\"\"\n",
    "\n",
    "    fig, ax = plt.subplots(1, 1, figsize=(18, 10), sharex=True, layout=\"constrained\")\n",
    "\n",
    "\n",
    "    allmags = []\n",
    "    for idx, band in enumerate(all_bands):\n",
    "        data = tb[band]\n",
    "        mjd = data[\"mjd\"]\n",
    "        mags = data[\"mags\"]\n",
    "        magerr = data[\"magerr\"]\n",
    "\n",
    "        # Moyenne sigma-clippée\n",
    "        mean, _, _ = sigma_clipped_stats(mags, sigma=3.0, maxiters=5)\n",
    "        \n",
    "        allmags.append(mags.values)\n",
    "\n",
    "        # Barres d'erreur\n",
    "        ax.errorbar(\n",
    "            mjd,\n",
    "            mags,\n",
    "            yerr=magerr,\n",
    "            fmt='none',\n",
    "            ecolor=all_bands_colors[idx],\n",
    "            elinewidth=0.8,\n",
    "            capsize=2,\n",
    "            alpha=0.4\n",
    "        )\n",
    "\n",
    "        # Points\n",
    "        ax.scatter(\n",
    "            mjd,\n",
    "            mags,\n",
    "            color=all_bands_colors[idx],\n",
    "            label=f\"band {band}\",\n",
    "            marker=\"o\",\n",
    "            s=100\n",
    "        )\n",
    "\n",
    "        # Lignes horizontales\n",
    "        ax.axhline(mean, color=all_bands_colors[idx], linestyle=\"--\", linewidth=1.5)\n",
    "        ax.axhline(mean + 0.01, color=all_bands_colors[idx], linestyle=\":\", linewidth=1.0)\n",
    "        ax.axhline(mean - 0.01, color=all_bands_colors[idx], linestyle=\":\", linewidth=1.0)\n",
    "\n",
    "    allmags = np.concatenate(allmags)\n",
    "    allmags = allmags[~np.isnan(allmags)]\n",
    "    mags_min = allmags.min()\n",
    "    mags_max = allmags.max()\n",
    "    \n",
    "    ax.set_ylim(mags_min,mags_max)\n",
    "    ax.set_ylabel(\"mag_psfFlux\")\n",
    "    ax.set_title(title, fontweight=\"bold\")\n",
    "    ax.set_xlabel(\"mjd\")\n",
    "\n",
    "\n",
    "    \n",
    "    ax.invert_yaxis()\n",
    "    #ax.legend()\n",
    "    ax.legend(loc='center left', bbox_to_anchor=(1.02, 0.5), title=\"Bands\")\n",
    "\n",
    "    plt.suptitle(subtitle)\n",
    "\n",
    "    if figname is not None:\n",
    "        plt.savefig(figname)\n",
    "        \n",
    "    plt.show()"
   ]
  },
  {
   "cell_type": "code",
   "execution_count": null,
   "id": "2bbb53e9-e293-4ea7-ae47-c78930ce5d93",
   "metadata": {
    "execution": {
     "iopub.execute_input": "2025-06-05T18:53:55.903541Z",
     "iopub.status.busy": "2025-06-05T18:53:55.903414Z",
     "iopub.status.idle": "2025-06-05T18:53:55.911563Z",
     "shell.execute_reply": "2025-06-05T18:53:55.910928Z",
     "shell.execute_reply.started": "2025-06-05T18:53:55.903528Z"
    }
   },
   "outputs": [],
   "source": [
    "# https://pipelines.lsst.io/modules/lsst.geom/getting-started.html\n",
    "func_degToRad = lambda x : Angle(x,lsst.geom.degrees).asRadians()"
   ]
  },
  {
   "cell_type": "code",
   "execution_count": null,
   "id": "5af15c53-1d3f-42ee-81d8-508a2daa56c0",
   "metadata": {
    "execution": {
     "iopub.execute_input": "2025-06-05T18:53:55.912557Z",
     "iopub.status.busy": "2025-06-05T18:53:55.912306Z",
     "iopub.status.idle": "2025-06-05T18:53:55.929277Z",
     "shell.execute_reply": "2025-06-05T18:53:55.928789Z",
     "shell.execute_reply.started": "2025-06-05T18:53:55.912531Z"
    }
   },
   "outputs": [],
   "source": [
    "# Set plotting defaults\n",
    "%matplotlib inline\n",
    "import matplotlib.pyplot as plt\n",
    "from matplotlib.ticker import FormatStrFormatter\n",
    "from matplotlib.colors import ListedColormap\n",
    "from matplotlib import colors\n",
    "zscale = ZScaleInterval()\n",
    "\n",
    "# Set up some plotting defaults:\n",
    "plt.rcParams.update({'figure.figsize' : (12, 8)})\n",
    "plt.rcParams.update({'font.size' : 24})\n",
    "plt.rcParams.update({'axes.linewidth' : 3})\n",
    "plt.rcParams.update({'axes.labelweight' : 3})\n",
    "plt.rcParams.update({'axes.titleweight' : 5})\n",
    "plt.rcParams.update({'ytick.major.width' : 3})\n",
    "plt.rcParams.update({'ytick.minor.width' : 2})\n",
    "plt.rcParams.update({'ytick.major.size' : 8})\n",
    "plt.rcParams.update({'ytick.minor.size' : 5})\n",
    "plt.rcParams.update({'xtick.major.size' : 8})\n",
    "plt.rcParams.update({'xtick.minor.size' : 5})\n",
    "plt.rcParams.update({'xtick.major.width' : 3})\n",
    "plt.rcParams.update({'xtick.minor.width' : 2})\n",
    "plt.rcParams.update({'xtick.direction' : 'in'})\n",
    "plt.rcParams.update({'ytick.direction' : 'in'})\n"
   ]
  },
  {
   "cell_type": "code",
   "execution_count": null,
   "id": "8f02d7f7-cc18-4191-beb4-ad890c13b967",
   "metadata": {
    "execution": {
     "iopub.execute_input": "2025-06-05T18:53:55.930115Z",
     "iopub.status.busy": "2025-06-05T18:53:55.929830Z",
     "iopub.status.idle": "2025-06-05T18:53:55.933468Z",
     "shell.execute_reply": "2025-06-05T18:53:55.933012Z",
     "shell.execute_reply.started": "2025-06-05T18:53:55.930099Z"
    }
   },
   "outputs": [],
   "source": [
    "def nJy_to_ab_mag(f_njy):\n",
    "    \"\"\"Convert scalar or array flux in nJy to AB magnitude.\"\"\"\n",
    "    f_njy = np.asarray(f_njy)\n",
    "    mag = np.full_like(f_njy, fill_value=np.nan, dtype=float)\n",
    "    mask = f_njy > 0\n",
    "    mag[mask] = -2.5 * np.log10(f_njy[mask]) + 31.4\n",
    "    return mag\n",
    "\n",
    "\n",
    "def nJy_err_to_ab_err(f_njy, f_err):\n",
    "    \"\"\"Propagate flux error to magnitude error.\"\"\"\n",
    "    f_njy = np.asarray(f_njy)\n",
    "    f_err = np.asarray(f_err)\n",
    "    mag_err = np.full_like(f_njy, fill_value=np.nan, dtype=float)\n",
    "    mask = (f_njy > 0) & (f_err > 0)\n",
    "    mag_err[mask] = (2.5 / np.log(10)) * (f_err[mask] / f_njy[mask])\n",
    "    return mag_err\n"
   ]
  },
  {
   "cell_type": "code",
   "execution_count": null,
   "id": "88da0b26-88ce-41f8-b5b6-caf1c2d7afe0",
   "metadata": {
    "execution": {
     "iopub.execute_input": "2025-06-05T18:53:55.934045Z",
     "iopub.status.busy": "2025-06-05T18:53:55.933909Z",
     "iopub.status.idle": "2025-06-05T18:53:55.939422Z",
     "shell.execute_reply": "2025-06-05T18:53:55.938975Z",
     "shell.execute_reply.started": "2025-06-05T18:53:55.934030Z"
    }
   },
   "outputs": [],
   "source": [
    "def ab_mag_to_nJy(mag_ab):\n",
    "    \"\"\"Convert AB magnitude to flux in nanojanskys.\"\"\"\n",
    "    return 10 ** ((31.4 - mag_ab) / 2.5)\n"
   ]
  },
  {
   "cell_type": "markdown",
   "id": "a3f04297-3975-4baa-9e7f-146cd717904c",
   "metadata": {},
   "source": [
    "## 1) Build the table of AGN from the Vizier Catalog"
   ]
  },
  {
   "cell_type": "code",
   "execution_count": null,
   "id": "fdd48e59-d068-4c3c-a5f9-1c277959c9a1",
   "metadata": {
    "execution": {
     "iopub.execute_input": "2025-06-05T18:53:55.939999Z",
     "iopub.status.busy": "2025-06-05T18:53:55.939871Z",
     "iopub.status.idle": "2025-06-05T18:53:56.067940Z",
     "shell.execute_reply": "2025-06-05T18:53:56.067428Z",
     "shell.execute_reply.started": "2025-06-05T18:53:55.939986Z"
    }
   },
   "outputs": [],
   "source": [
    "from astroquery.vizier import Vizier\n",
    "from astropy.coordinates import SkyCoord\n",
    "import astropy.units as u"
   ]
  },
  {
   "cell_type": "code",
   "execution_count": null,
   "id": "ffc9c099-0200-4a2f-aea6-98e0369c4c6c",
   "metadata": {
    "execution": {
     "iopub.execute_input": "2025-06-05T18:53:56.068561Z",
     "iopub.status.busy": "2025-06-05T18:53:56.068424Z",
     "iopub.status.idle": "2025-06-05T18:53:56.070943Z",
     "shell.execute_reply": "2025-06-05T18:53:56.070527Z",
     "shell.execute_reply.started": "2025-06-05T18:53:56.068548Z"
    }
   },
   "outputs": [],
   "source": [
    "ECDFS_RA = 53.1\n",
    "ECDFS_DEC = -27.8\n",
    "ECDFS_COORD = SpherePoint(ECDFS_RA, ECDFS_DEC , degrees)"
   ]
  },
  {
   "cell_type": "code",
   "execution_count": null,
   "id": "4a3e4c07-1570-4588-976a-678132c11b09",
   "metadata": {
    "execution": {
     "iopub.execute_input": "2025-06-05T18:53:56.071512Z",
     "iopub.status.busy": "2025-06-05T18:53:56.071379Z",
     "iopub.status.idle": "2025-06-05T18:53:56.250285Z",
     "shell.execute_reply": "2025-06-05T18:53:56.249715Z",
     "shell.execute_reply.started": "2025-06-05T18:53:56.071493Z"
    }
   },
   "outputs": [],
   "source": [
    "# Coordonnées approximatives du centre du E-CDFS\n",
    "coord = SkyCoord(ra=ECDFS_RA, dec = ECDFS_DEC, unit=(u.deg, u.deg), frame='icrs')\n",
    "radius = 15 * u.arcmin\n",
    "\n",
    "# Exemple avec le catalogue Luo+2017 (7Ms CDF-S)\n",
    "catalog_id = \"J/ApJS/228/2\"\n",
    "result = Vizier(columns=[\"*\"]).query_region(coord, radius=radius, catalog=catalog_id)"
   ]
  },
  {
   "cell_type": "code",
   "execution_count": null,
   "id": "474756e6-6c8d-444f-961c-a5dad8b43648",
   "metadata": {
    "execution": {
     "iopub.execute_input": "2025-06-05T18:53:56.250929Z",
     "iopub.status.busy": "2025-06-05T18:53:56.250784Z",
     "iopub.status.idle": "2025-06-05T18:53:56.253835Z",
     "shell.execute_reply": "2025-06-05T18:53:56.253436Z",
     "shell.execute_reply.started": "2025-06-05T18:53:56.250913Z"
    }
   },
   "outputs": [],
   "source": [
    "sources_table = result['J/ApJS/228/2/sources']\n",
    "print(sources_table.colnames)"
   ]
  },
  {
   "cell_type": "code",
   "execution_count": null,
   "id": "1eff963d-56d8-413c-bce5-a0d779c34e99",
   "metadata": {
    "execution": {
     "iopub.execute_input": "2025-06-05T18:53:56.254463Z",
     "iopub.status.busy": "2025-06-05T18:53:56.254330Z",
     "iopub.status.idle": "2025-06-05T18:53:56.265490Z",
     "shell.execute_reply": "2025-06-05T18:53:56.265107Z",
     "shell.execute_reply.started": "2025-06-05T18:53:56.254449Z"
    }
   },
   "outputs": [],
   "source": [
    "# On calcule le log10 de LX\n",
    "logLX = np.log10(sources_table['LX'])\n",
    "\n",
    "# Et on l'ajoute comme nouvelle colonne à la table\n",
    "sources_table['logLX'] = logLX\n",
    "\n",
    "# Attention au nom exact de la colonne\n",
    "logLX = sources_table['logLX']\n",
    "is_agn = logLX > 42\n",
    "\n",
    "is_agn = sources_table['logLX'] > 42  # AGN si LX > 10^42 erg/s\n",
    "agn_table = sources_table[is_agn]"
   ]
  },
  {
   "cell_type": "code",
   "execution_count": null,
   "id": "61a131d7-b7bd-4098-af0e-ff9019ffcb23",
   "metadata": {
    "execution": {
     "iopub.execute_input": "2025-06-05T18:53:56.266220Z",
     "iopub.status.busy": "2025-06-05T18:53:56.265943Z",
     "iopub.status.idle": "2025-06-05T18:53:56.273847Z",
     "shell.execute_reply": "2025-06-05T18:53:56.273466Z",
     "shell.execute_reply.started": "2025-06-05T18:53:56.266205Z"
    }
   },
   "outputs": [],
   "source": [
    "agn_table[['RAJ2000', 'DEJ2000', 'logLX', 'LX', 'zspec']].pprint(max_lines=10)"
   ]
  },
  {
   "cell_type": "code",
   "execution_count": null,
   "id": "e902b64e-1149-4f50-8cf1-b5720ed24da6",
   "metadata": {
    "execution": {
     "iopub.execute_input": "2025-06-05T18:53:56.274551Z",
     "iopub.status.busy": "2025-06-05T18:53:56.274292Z",
     "iopub.status.idle": "2025-06-05T18:53:56.283526Z",
     "shell.execute_reply": "2025-06-05T18:53:56.283155Z",
     "shell.execute_reply.started": "2025-06-05T18:53:56.274537Z"
    }
   },
   "outputs": [],
   "source": [
    "galaxy_table = sources_table[sources_table['OType'] == 'Galaxy']"
   ]
  },
  {
   "cell_type": "code",
   "execution_count": null,
   "id": "b1edfa51-80a6-4d65-944d-c33a505049a3",
   "metadata": {
    "execution": {
     "iopub.execute_input": "2025-06-05T18:53:56.284220Z",
     "iopub.status.busy": "2025-06-05T18:53:56.283969Z",
     "iopub.status.idle": "2025-06-05T18:53:56.291642Z",
     "shell.execute_reply": "2025-06-05T18:53:56.291269Z",
     "shell.execute_reply.started": "2025-06-05T18:53:56.284207Z"
    }
   },
   "outputs": [],
   "source": [
    "galaxy_table[['RAJ2000', 'DEJ2000', 'logLX', 'LX', 'zspec']].pprint(max_lines=10)"
   ]
  },
  {
   "cell_type": "markdown",
   "id": "24980f69-ddd5-4c6b-b868-9f3dad599620",
   "metadata": {},
   "source": [
    "## Plot info from AGN Vizier catalog"
   ]
  },
  {
   "cell_type": "code",
   "execution_count": null,
   "id": "80a3a4fe-38f7-45ea-a7fd-cff3a4670722",
   "metadata": {
    "execution": {
     "iopub.execute_input": "2025-06-05T18:53:56.292318Z",
     "iopub.status.busy": "2025-06-05T18:53:56.292061Z",
     "iopub.status.idle": "2025-06-05T18:53:56.310407Z",
     "shell.execute_reply": "2025-06-05T18:53:56.310047Z",
     "shell.execute_reply.started": "2025-06-05T18:53:56.292303Z"
    }
   },
   "outputs": [],
   "source": [
    "df_galaxy = galaxy_table.to_pandas()\n",
    "df_agn = agn_table.to_pandas()"
   ]
  },
  {
   "cell_type": "code",
   "execution_count": null,
   "id": "14b5093d-cb0e-4cf8-98b4-0c66ec615abf",
   "metadata": {
    "execution": {
     "iopub.execute_input": "2025-06-05T18:53:56.311079Z",
     "iopub.status.busy": "2025-06-05T18:53:56.310944Z",
     "iopub.status.idle": "2025-06-05T18:53:56.504221Z",
     "shell.execute_reply": "2025-06-05T18:53:56.503787Z",
     "shell.execute_reply.started": "2025-06-05T18:53:56.311067Z"
    }
   },
   "outputs": [],
   "source": [
    "plt.figure(figsize=(14,5))\n",
    "\n",
    "plt.subplot(1, 2, 1)\n",
    "plt.hist(df_agn['zspec'].values, bins=20, color='green', alpha=0.7)\n",
    "plt.xlabel(\"Redshift zspec\")\n",
    "plt.ylabel(\"Nombre de sources\")\n",
    "plt.title(\"Distribution en redshift\")\n",
    "\n",
    "plt.subplot(1, 2, 2)\n",
    "plt.hist(df_agn['logLX'].values, bins=20, color='orange', alpha=0.7)\n",
    "plt.xlabel(\"log(Lx) [erg/s]\")\n",
    "plt.ylabel(\"Nombre de sources\")\n",
    "plt.title(\"Distribution de la luminosité X\")\n",
    "\n",
    "plt.tight_layout()\n",
    "plt.show()\n"
   ]
  },
  {
   "cell_type": "markdown",
   "id": "3506978f-3a1e-47a9-90c1-b576f17d092f",
   "metadata": {},
   "source": [
    "## Initialisation of rubin science pipeline\n",
    "- Check here the collection available : https://rubinobs.atlassian.net/wiki/spaces/DM/pages/226656354/LSSTComCam+Intermittent+Cumulative+DRP+Runs"
   ]
  },
  {
   "cell_type": "markdown",
   "id": "032c0193-0ca9-487a-943f-957dcea64a53",
   "metadata": {},
   "source": [
    "### Configuration"
   ]
  },
  {
   "cell_type": "code",
   "execution_count": null,
   "id": "58131b3b-f3bf-461a-8c71-d236e7d5e7fa",
   "metadata": {
    "execution": {
     "iopub.execute_input": "2025-06-05T18:53:56.504890Z",
     "iopub.status.busy": "2025-06-05T18:53:56.504749Z",
     "iopub.status.idle": "2025-06-05T18:53:56.507684Z",
     "shell.execute_reply": "2025-06-05T18:53:56.507314Z",
     "shell.execute_reply.started": "2025-06-05T18:53:56.504876Z"
    }
   },
   "outputs": [],
   "source": [
    "# The output repo is tagged with the Jira ticket number \"DM-40356\":\n",
    "repo = '/repo/main'\n",
    "#collection = 'LSSTComCam/runs/DRP/DP1/w_2025_05/DM-48666' # work\n",
    "#collection = 'LSSTComCam/runs/DRP/DP1/w_2025_06/DM-48810' # work\n",
    "collection = 'LSSTComCam/runs/DRP/DP1/w_2025_10/DM-49359' # work\n",
    "#collection = 'LSSTComCam/runs/DRP/DP1/w_2025_15/DM-50050' #NOT OK\n",
    "#collection = 'LSSTComCam/runs/DRP/DP1/w_2025_17/DM-50530' #NOT OK\n",
    "\n",
    "\n",
    "# bad : crash collection = 'LSSTComCam/runs/DRP/DP1/w_2025_08/DM-49029'\n",
    "\n",
    "# bad : collection = \"LSSTComCam/runs/DRP/20241101_20241211/w_2024_51/DM-48233\"\n",
    "\n",
    "# not working perhaps because I am using w_2025_10 version\n",
    "# bad : no ccd visit collection = \"LSSTComCam/runs/DRP/DP1/w_2025_14/DM-49864\"\n",
    "# bad : no ccd visit collection = 'LSSTComCam/runs/DRP/DP1/w_2025_15/DM-50050'\n",
    "# bad : no cce visit collection = 'LSSTComCam/runs/DRP/DP1/w_2025_14/DM-49864'\n",
    "# bad : no cce visit collection collection = 'LSSTComCam/runs/DRP/DP1/w_2025_13/DM-49751'\n",
    "\n",
    "\n",
    "instrument = \"LSSTComCam\"\n",
    "skymapName = \"lsst_cells_v1\"\n",
    "where_clause = \"instrument = \\'\" + instrument+ \"\\'\"\n",
    "collectionStr = collection.replace(\"/\", \"_\")"
   ]
  },
  {
   "cell_type": "code",
   "execution_count": null,
   "id": "5aaaded0-f204-4b81-a359-6b9872f7c21d",
   "metadata": {
    "execution": {
     "iopub.execute_input": "2025-06-05T18:53:56.508437Z",
     "iopub.status.busy": "2025-06-05T18:53:56.508238Z",
     "iopub.status.idle": "2025-06-05T18:53:56.516748Z",
     "shell.execute_reply": "2025-06-05T18:53:56.515834Z",
     "shell.execute_reply.started": "2025-06-05T18:53:56.508424Z"
    }
   },
   "outputs": [],
   "source": [
    "FLAG_DUMP_COLLECTIONS = False\n",
    "FLAG_DUMP_DATASETS = False\n",
    "FLAG_DUMP_OBJECTSTABLECOLUMNS = False\n",
    "FLAG_CUT_OBJECTSMAG = True\n",
    "FLAG_CUT_OBJECTSSNR = True"
   ]
  },
  {
   "cell_type": "code",
   "execution_count": null,
   "id": "a66ee4ac-6255-4779-bdb3-088bee0f7058",
   "metadata": {
    "execution": {
     "iopub.execute_input": "2025-06-05T18:53:56.517814Z",
     "iopub.status.busy": "2025-06-05T18:53:56.517569Z",
     "iopub.status.idle": "2025-06-05T18:53:56.523864Z",
     "shell.execute_reply": "2025-06-05T18:53:56.523406Z",
     "shell.execute_reply.started": "2025-06-05T18:53:56.517788Z"
    }
   },
   "outputs": [],
   "source": [
    "MAGCUT = 24.0\n",
    "SNRCUT = 5.0"
   ]
  },
  {
   "cell_type": "code",
   "execution_count": null,
   "id": "d60358a6-62e7-4cc4-9440-3b178d76abe2",
   "metadata": {
    "execution": {
     "iopub.execute_input": "2025-06-05T18:53:56.524593Z",
     "iopub.status.busy": "2025-06-05T18:53:56.524448Z",
     "iopub.status.idle": "2025-06-05T18:53:56.530895Z",
     "shell.execute_reply": "2025-06-05T18:53:56.530464Z",
     "shell.execute_reply.started": "2025-06-05T18:53:56.524579Z"
    }
   },
   "outputs": [],
   "source": [
    "all_bands = [\"u\", \"g\", \"r\", \"i\", \"z\", \"y\"]\n",
    "all_bands_colors = [\"blue\", \"green\", \"red\", \"orange\", \"yellow\", \"purple\"]"
   ]
  },
  {
   "cell_type": "markdown",
   "id": "e8f0113b-9e9a-46b8-9271-c4bde6d64679",
   "metadata": {},
   "source": [
    "### Initialisation of Butler"
   ]
  },
  {
   "cell_type": "code",
   "execution_count": null,
   "id": "804fcb8b-d567-4a27-b102-05ed002051c4",
   "metadata": {
    "execution": {
     "iopub.execute_input": "2025-06-05T18:53:56.531666Z",
     "iopub.status.busy": "2025-06-05T18:53:56.531378Z",
     "iopub.status.idle": "2025-06-05T18:53:56.956777Z",
     "shell.execute_reply": "2025-06-05T18:53:56.956269Z",
     "shell.execute_reply.started": "2025-06-05T18:53:56.531651Z"
    }
   },
   "outputs": [],
   "source": [
    "# Initialize the butler repo:\n",
    "butler = Butler(repo, collections=collection)\n",
    "registry = butler.registry"
   ]
  },
  {
   "cell_type": "code",
   "execution_count": null,
   "id": "03249edb-84b0-4f36-ae94-af25391b468e",
   "metadata": {
    "execution": {
     "iopub.execute_input": "2025-06-05T18:53:56.957631Z",
     "iopub.status.busy": "2025-06-05T18:53:56.957479Z",
     "iopub.status.idle": "2025-06-05T18:53:57.326859Z",
     "shell.execute_reply": "2025-06-05T18:53:57.326358Z",
     "shell.execute_reply.started": "2025-06-05T18:53:56.957616Z"
    }
   },
   "outputs": [],
   "source": [
    "skymap = butler.get('skyMap', skymap=skymapName, collections=collection)"
   ]
  },
  {
   "cell_type": "code",
   "execution_count": null,
   "id": "5b61a4a0-edcf-462f-be02-61502f79db0b",
   "metadata": {
    "execution": {
     "iopub.execute_input": "2025-06-05T18:53:57.327559Z",
     "iopub.status.busy": "2025-06-05T18:53:57.327412Z",
     "iopub.status.idle": "2025-06-05T18:53:57.830513Z",
     "shell.execute_reply": "2025-06-05T18:53:57.830046Z",
     "shell.execute_reply.started": "2025-06-05T18:53:57.327545Z"
    }
   },
   "outputs": [],
   "source": [
    "camera = butler.get(\"camera\", collections=collection, instrument=instrument)"
   ]
  },
  {
   "cell_type": "code",
   "execution_count": null,
   "id": "ef1ab817-3225-4cc3-82b5-37f86d1f33cc",
   "metadata": {
    "execution": {
     "iopub.execute_input": "2025-06-05T18:53:57.831242Z",
     "iopub.status.busy": "2025-06-05T18:53:57.831101Z",
     "iopub.status.idle": "2025-06-05T18:53:57.835383Z",
     "shell.execute_reply": "2025-06-05T18:53:57.835009Z",
     "shell.execute_reply.started": "2025-06-05T18:53:57.831227Z"
    }
   },
   "outputs": [],
   "source": [
    "# 4. Trouver dans quel tract/patch se trouve la coordonnée\n",
    "ECDFS_tract_info = skymap.findTract(ECDFS_COORD)"
   ]
  },
  {
   "cell_type": "code",
   "execution_count": null,
   "id": "d8becbb0-1595-447b-a2ea-fe81515fbd3a",
   "metadata": {
    "execution": {
     "iopub.execute_input": "2025-06-05T18:53:57.835997Z",
     "iopub.status.busy": "2025-06-05T18:53:57.835865Z",
     "iopub.status.idle": "2025-06-05T18:53:57.842763Z",
     "shell.execute_reply": "2025-06-05T18:53:57.842386Z",
     "shell.execute_reply.started": "2025-06-05T18:53:57.835984Z"
    }
   },
   "outputs": [],
   "source": [
    "print('Tract number for ECDFS ::',ECDFS_tract_info.getId())"
   ]
  },
  {
   "cell_type": "code",
   "execution_count": null,
   "id": "fa1992cb-691e-4408-a03b-2477c0bf052d",
   "metadata": {
    "execution": {
     "iopub.execute_input": "2025-06-05T18:53:57.843572Z",
     "iopub.status.busy": "2025-06-05T18:53:57.843212Z",
     "iopub.status.idle": "2025-06-05T18:53:57.849178Z",
     "shell.execute_reply": "2025-06-05T18:53:57.848828Z",
     "shell.execute_reply.started": "2025-06-05T18:53:57.843556Z"
    }
   },
   "outputs": [],
   "source": [
    "TRACTSEL = ECDFS_tract_info.getId()"
   ]
  },
  {
   "cell_type": "code",
   "execution_count": null,
   "id": "f9fa13a1-94b3-4fe1-9716-a05ec15f576c",
   "metadata": {
    "execution": {
     "iopub.execute_input": "2025-06-05T18:53:57.849896Z",
     "iopub.status.busy": "2025-06-05T18:53:57.849626Z",
     "iopub.status.idle": "2025-06-05T18:53:57.856943Z",
     "shell.execute_reply": "2025-06-05T18:53:57.856338Z",
     "shell.execute_reply.started": "2025-06-05T18:53:57.849882Z"
    }
   },
   "outputs": [],
   "source": [
    "print(f\"TRACT : {TRACTSEL}\")"
   ]
  },
  {
   "cell_type": "code",
   "execution_count": null,
   "id": "826aebd4-b08d-4259-a715-2274b75182c2",
   "metadata": {
    "execution": {
     "iopub.execute_input": "2025-06-05T18:53:57.857554Z",
     "iopub.status.busy": "2025-06-05T18:53:57.857408Z",
     "iopub.status.idle": "2025-06-05T18:53:57.863729Z",
     "shell.execute_reply": "2025-06-05T18:53:57.863363Z",
     "shell.execute_reply.started": "2025-06-05T18:53:57.857540Z"
    }
   },
   "outputs": [],
   "source": [
    "# Check here the collections available\n",
    "if FLAG_DUMP_COLLECTIONS:\n",
    "    for _ in sorted(registry.queryCollections(expression=instrument + \"/*\")):\n",
    "        if \"/calib/\" not in _ and \"u/\" not in _:\n",
    "            print(_)"
   ]
  },
  {
   "cell_type": "code",
   "execution_count": null,
   "id": "59563647-7ecd-4366-a7e8-eb2354393559",
   "metadata": {
    "execution": {
     "iopub.execute_input": "2025-06-05T18:53:57.864470Z",
     "iopub.status.busy": "2025-06-05T18:53:57.864202Z",
     "iopub.status.idle": "2025-06-05T18:53:57.871423Z",
     "shell.execute_reply": "2025-06-05T18:53:57.871015Z",
     "shell.execute_reply.started": "2025-06-05T18:53:57.864456Z"
    }
   },
   "outputs": [],
   "source": [
    "if FLAG_DUMP_DATASETS:\n",
    "    for datasetType in registry.queryDatasetTypes():\n",
    "        if registry.queryDatasets(datasetType, collections=collection_validation).any(\n",
    "            execute=False, exact=False\n",
    "        ):\n",
    "            # Limit search results to the data products\n",
    "            if (\n",
    "                (\"_config\" not in datasetType.name)\n",
    "                and (\"_log\" not in datasetType.name)\n",
    "                and (\"_metadata\" not in datasetType.name)\n",
    "                and (\"_resource_usage\" not in datasetType.name)\n",
    "                and (\"Plot\" not in datasetType.name)\n",
    "                and (\"Metric\" not in datasetType.name)\n",
    "                and (\"metric\" not in datasetType.name)\n",
    "                and ((\"Table\" in datasetType.name) or (\"Zeropointp\" in datasetType.name) or (\"fgcm\" in datasetType.name) or (\"transm\" in datasetType.name) or (\"Transm\" in datasetType.name)\n",
    "                or (\"source\" in datasetType.name) or (\"Source\" in datasetType.name) or (\"object\" in datasetType.name) or (\"Object\" in datasetType.name))\n",
    "            ):\n",
    "                \n",
    "                print(datasetType)"
   ]
  },
  {
   "cell_type": "markdown",
   "id": "57be8008-c849-440e-9bae-8649564d3373",
   "metadata": {},
   "source": [
    "### Get list of Tracts and Patches\n",
    "\n",
    "- Just to know which tracts are involved in the observations"
   ]
  },
  {
   "cell_type": "code",
   "execution_count": null,
   "id": "c0823ed5-9b23-4548-af23-12d707772667",
   "metadata": {
    "execution": {
     "iopub.execute_input": "2025-06-05T18:53:57.872107Z",
     "iopub.status.busy": "2025-06-05T18:53:57.871853Z",
     "iopub.status.idle": "2025-06-05T18:53:57.936561Z",
     "shell.execute_reply": "2025-06-05T18:53:57.936122Z",
     "shell.execute_reply.started": "2025-06-05T18:53:57.872093Z"
    }
   },
   "outputs": [],
   "source": [
    "datasettype = \"objectTable_tract\"\n",
    "therefs = butler.registry.queryDatasets(datasettype,  collections=collection)"
   ]
  },
  {
   "cell_type": "code",
   "execution_count": null,
   "id": "f810d737-c393-40bb-bc60-32e3706cf4a0",
   "metadata": {
    "execution": {
     "iopub.execute_input": "2025-06-05T18:53:57.937271Z",
     "iopub.status.busy": "2025-06-05T18:53:57.937138Z",
     "iopub.status.idle": "2025-06-05T18:53:57.947957Z",
     "shell.execute_reply": "2025-06-05T18:53:57.947529Z",
     "shell.execute_reply.started": "2025-06-05T18:53:57.937258Z"
    }
   },
   "outputs": [],
   "source": [
    "tractsId_list = np.unique([ref.dataId['tract'] for ref in therefs])\n",
    "tractsId_list = sorted(tractsId_list)\n",
    "print(tractsId_list)"
   ]
  },
  {
   "cell_type": "markdown",
   "id": "b20d2431-baf2-4f64-acdd-4301479d3981",
   "metadata": {
    "execution": {
     "iopub.execute_input": "2025-04-21T12:06:53.157322Z",
     "iopub.status.busy": "2025-04-21T12:06:53.157187Z",
     "iopub.status.idle": "2025-04-21T12:06:53.279027Z",
     "shell.execute_reply": "2025-04-21T12:06:53.278463Z",
     "shell.execute_reply.started": "2025-04-21T12:06:53.157309Z"
    }
   },
   "source": [
    "## Select AGN which are in the selected Patch"
   ]
  },
  {
   "cell_type": "code",
   "execution_count": null,
   "id": "6f2bea9b-889e-486d-a023-f2bf0e568f6a",
   "metadata": {
    "execution": {
     "iopub.execute_input": "2025-06-05T18:53:57.948548Z",
     "iopub.status.busy": "2025-06-05T18:53:57.948414Z",
     "iopub.status.idle": "2025-06-05T18:53:57.965833Z",
     "shell.execute_reply": "2025-06-05T18:53:57.965411Z",
     "shell.execute_reply.started": "2025-06-05T18:53:57.948536Z"
    }
   },
   "outputs": [],
   "source": [
    "df_agn[df_agn[\"zspec\"]<1.5]"
   ]
  },
  {
   "cell_type": "code",
   "execution_count": null,
   "id": "ee4d85d6-2e9a-4fff-9cbf-044565619bdc",
   "metadata": {
    "execution": {
     "iopub.execute_input": "2025-06-05T18:53:57.966572Z",
     "iopub.status.busy": "2025-06-05T18:53:57.966298Z",
     "iopub.status.idle": "2025-06-05T18:53:57.969611Z",
     "shell.execute_reply": "2025-06-05T18:53:57.969185Z",
     "shell.execute_reply.started": "2025-06-05T18:53:57.966557Z"
    }
   },
   "outputs": [],
   "source": [
    "galaxyindex_selected = []\n",
    "N =len(df_galaxy)\n",
    "for idx in range(N):\n",
    "    ra_target,dec_target = df_galaxy.iloc[idx][['RAJ2000','DEJ2000']]\n",
    "    target_point = SpherePoint(ra_target, dec_target, degrees)\n",
    "    if ECDFS_tract_info.contains(target_point):\n",
    "        galaxyindex_selected.append(idx)         "
   ]
  },
  {
   "cell_type": "code",
   "execution_count": null,
   "id": "e882f9ae-7f26-4593-bfe5-979699f26793",
   "metadata": {
    "execution": {
     "iopub.execute_input": "2025-06-05T18:53:57.970330Z",
     "iopub.status.busy": "2025-06-05T18:53:57.970079Z",
     "iopub.status.idle": "2025-06-05T18:53:57.975941Z",
     "shell.execute_reply": "2025-06-05T18:53:57.975527Z",
     "shell.execute_reply.started": "2025-06-05T18:53:57.970315Z"
    }
   },
   "outputs": [],
   "source": [
    "print(galaxyindex_selected)"
   ]
  },
  {
   "cell_type": "code",
   "execution_count": null,
   "id": "3acd9664-74f4-4dcc-abfc-80d3315ff166",
   "metadata": {
    "execution": {
     "iopub.execute_input": "2025-06-05T18:53:57.976515Z",
     "iopub.status.busy": "2025-06-05T18:53:57.976382Z",
     "iopub.status.idle": "2025-06-05T18:53:57.997249Z",
     "shell.execute_reply": "2025-06-05T18:53:57.996833Z",
     "shell.execute_reply.started": "2025-06-05T18:53:57.976496Z"
    }
   },
   "outputs": [],
   "source": [
    "agnindex_selected = []\n",
    "N =len(df_agn)\n",
    "for idx in range(N):\n",
    "    ra_target,dec_target = df_agn.iloc[idx][['RAJ2000','DEJ2000']]\n",
    "    target_point = SpherePoint(ra_target, dec_target, degrees)\n",
    "    if ECDFS_tract_info.contains(target_point):\n",
    "        agnindex_selected.append(idx)         "
   ]
  },
  {
   "cell_type": "code",
   "execution_count": null,
   "id": "21e97d92-72b3-48f2-b1a5-b1d96b5faadc",
   "metadata": {
    "execution": {
     "iopub.execute_input": "2025-06-05T18:53:57.997853Z",
     "iopub.status.busy": "2025-06-05T18:53:57.997722Z",
     "iopub.status.idle": "2025-06-05T18:53:58.000195Z",
     "shell.execute_reply": "2025-06-05T18:53:57.999830Z",
     "shell.execute_reply.started": "2025-06-05T18:53:57.997840Z"
    }
   },
   "outputs": [],
   "source": [
    "print(agnindex_selected)"
   ]
  },
  {
   "cell_type": "code",
   "execution_count": null,
   "id": "b5717a3a-6977-4592-b726-1f7781ee97a7",
   "metadata": {
    "execution": {
     "iopub.execute_input": "2025-06-05T18:53:58.000900Z",
     "iopub.status.busy": "2025-06-05T18:53:58.000720Z",
     "iopub.status.idle": "2025-06-05T18:53:58.009522Z",
     "shell.execute_reply": "2025-06-05T18:53:58.009170Z",
     "shell.execute_reply.started": "2025-06-05T18:53:58.000887Z"
    }
   },
   "outputs": [],
   "source": [
    "index_agn_selected = 10\n",
    "index_galaxy_selected = 0\n",
    "FLAG_AGN_SELECTED  = True"
   ]
  },
  {
   "cell_type": "code",
   "execution_count": null,
   "id": "e8b3a6dd-354b-4d2f-80e3-01a6da4d62d7",
   "metadata": {
    "execution": {
     "iopub.execute_input": "2025-06-05T18:53:58.010193Z",
     "iopub.status.busy": "2025-06-05T18:53:58.009945Z",
     "iopub.status.idle": "2025-06-05T18:53:58.025514Z",
     "shell.execute_reply": "2025-06-05T18:53:58.025143Z",
     "shell.execute_reply.started": "2025-06-05T18:53:58.010178Z"
    }
   },
   "outputs": [],
   "source": [
    "if FLAG_AGN_SELECTED: \n",
    "    ra_target,dec_target = df_agn.iloc[index_agn_selected ][['RAJ2000','DEJ2000']]\n",
    "    target_point = SpherePoint(ra_target, dec_target, degrees)\n",
    "    target_coord = SkyCoord(ra=ra_target*u.deg, dec=dec_target*u.deg)\n",
    "    logLx = df_agn.iloc[index_agn_selected ]['logLX']\n",
    "    zspec = df_agn.iloc[index_agn_selected ]['zspec']\n",
    "    target_title = f\"agn :: {index_agn_selected}, log L(erg/s) = {logLx:.2f} , zspec = {zspec:.2f}, (ra,dec) = {ra_target:.5f},{dec_target:.5f}\"\n",
    "else:\n",
    "    ra_target,dec_target = df_galaxy.iloc[index_galaxy_selected ][['RAJ2000','DEJ2000']]\n",
    "    target_point = SpherePoint(ra_target, dec_target, degrees)\n",
    "    target_coord = SkyCoord(ra=ra_target*u.deg, dec=dec_target*u.deg)\n",
    "    logLx = df_galaxy.iloc[index_galaxy_selected ]['logLX']\n",
    "    zspec = df_galaxy.iloc[index_galaxy_selected ]['zspec']\n",
    "    target_title = f\"galaxy :: {index_galaxy_selected}, log L(erg/s) = {logLx:.2f} , zspec = {zspec:.2f}, (ra,dec) = {ra_target:.5f},{dec_target:.5f}\"\n",
    "    "
   ]
  },
  {
   "cell_type": "code",
   "execution_count": null,
   "id": "8635f396-48ec-4d82-8fc1-d4aa1396ffd3",
   "metadata": {
    "execution": {
     "iopub.execute_input": "2025-06-05T18:53:58.026172Z",
     "iopub.status.busy": "2025-06-05T18:53:58.025918Z",
     "iopub.status.idle": "2025-06-05T18:53:58.033448Z",
     "shell.execute_reply": "2025-06-05T18:53:58.033097Z",
     "shell.execute_reply.started": "2025-06-05T18:53:58.026158Z"
    }
   },
   "outputs": [],
   "source": [
    "target_coord"
   ]
  },
  {
   "cell_type": "markdown",
   "id": "7eb4c8a6-7c70-45c3-99cb-d33765377995",
   "metadata": {},
   "source": [
    "## Find in which patch is the target"
   ]
  },
  {
   "cell_type": "code",
   "execution_count": null,
   "id": "ae380086-7634-4f28-9a4e-bbada8c1ee83",
   "metadata": {
    "execution": {
     "iopub.execute_input": "2025-06-05T18:53:58.034099Z",
     "iopub.status.busy": "2025-06-05T18:53:58.033962Z",
     "iopub.status.idle": "2025-06-05T18:53:58.040237Z",
     "shell.execute_reply": "2025-06-05T18:53:58.039882Z",
     "shell.execute_reply.started": "2025-06-05T18:53:58.034085Z"
    }
   },
   "outputs": [],
   "source": [
    "tract_info = ECDFS_tract_info\n",
    "patch_info = tract_info.findPatch(target_point)\n",
    "tractNbSel = tract_info.getId()\n",
    "patchNbSel =  patch_info.getSequentialIndex()\n",
    "where_clause = f\"skymap = '{skymapName}' AND tract = {tractNbSel} AND patch = {patchNbSel}\"\n",
    "print(where_clause)"
   ]
  },
  {
   "cell_type": "markdown",
   "id": "5022ca8c-d08a-40f7-b8b1-9a9f56d394f2",
   "metadata": {},
   "source": [
    "## Define the Stack DM product used for the DIA analysis"
   ]
  },
  {
   "cell_type": "code",
   "execution_count": null,
   "id": "ae40f327-7e25-46aa-832f-7feaaf526420",
   "metadata": {
    "execution": {
     "iopub.execute_input": "2025-06-05T18:53:58.040916Z",
     "iopub.status.busy": "2025-06-05T18:53:58.040790Z",
     "iopub.status.idle": "2025-06-05T18:53:58.046194Z",
     "shell.execute_reply": "2025-06-05T18:53:58.045850Z",
     "shell.execute_reply.started": "2025-06-05T18:53:58.040904Z"
    }
   },
   "outputs": [],
   "source": [
    "datasettype =  'forcedSourceOnDiaObjectTable'\n",
    "#datasettype =  'diaSourceTable_tract'\n",
    "#datasettype = 'goodSeeingDiff_assocSsSrcTable' # bad table\n",
    "subtitle = collectionStr + \"_\" + datasettype"
   ]
  },
  {
   "cell_type": "code",
   "execution_count": null,
   "id": "3cc6ba9a-7fd8-4a08-927a-dda396deda30",
   "metadata": {
    "execution": {
     "iopub.execute_input": "2025-06-05T18:53:58.046744Z",
     "iopub.status.busy": "2025-06-05T18:53:58.046617Z",
     "iopub.status.idle": "2025-06-05T18:53:58.076301Z",
     "shell.execute_reply": "2025-06-05T18:53:58.075961Z",
     "shell.execute_reply.started": "2025-06-05T18:53:58.046731Z"
    }
   },
   "outputs": [],
   "source": [
    "if FLAG_AGN_SELECTED: \n",
    "    figname1 = f\"agn_{index_agn_selected}_{datasettype}_v1.png\"\n",
    "    figname2 = f\"agn_{index_agn_selected}_{datasettype}_v2.png\"\n",
    "else:\n",
    "    figname1 = f\"galaxy_{index_agn_selected}_{datasettype}_v1.png\"\n",
    "    figname2 = f\"galaxy_{index_agn_selected}_{datasettype}_v2.png\""
   ]
  },
  {
   "cell_type": "code",
   "execution_count": null,
   "id": "dc2e290d-3fef-4989-a4ca-6e57b502eaac",
   "metadata": {
    "execution": {
     "iopub.execute_input": "2025-06-05T18:53:58.076836Z",
     "iopub.status.busy": "2025-06-05T18:53:58.076711Z",
     "iopub.status.idle": "2025-06-05T18:54:01.316919Z",
     "shell.execute_reply": "2025-06-05T18:54:01.316397Z",
     "shell.execute_reply.started": "2025-06-05T18:53:58.076824Z"
    }
   },
   "outputs": [],
   "source": [
    "radius_max = 11\n",
    "closest_src, sepMin, nearby_src = RetrieveDiaSources_forTarget(butler,target_coord,datasettype,where_clause,radius_cut = radius_max)"
   ]
  },
  {
   "cell_type": "code",
   "execution_count": null,
   "id": "23306ca1-a7e6-4280-b9d7-0b199c046db9",
   "metadata": {
    "execution": {
     "iopub.execute_input": "2025-06-05T18:54:01.317712Z",
     "iopub.status.busy": "2025-06-05T18:54:01.317556Z",
     "iopub.status.idle": "2025-06-05T18:54:01.576285Z",
     "shell.execute_reply": "2025-06-05T18:54:01.575838Z",
     "shell.execute_reply.started": "2025-06-05T18:54:01.317695Z"
    }
   },
   "outputs": [],
   "source": [
    "fig, ax = plt.subplots(1,1,figsize=(6,4))\n",
    "nearby_src[\"sep\"].hist(bins=50,ax=ax,facecolor=\"b\")\n",
    "closest_src[\"sep\"].hist(bins=50,range=(0,radius_max),ax=ax,facecolor=\"r\")\n",
    "ax.set_yscale(\"log\")\n",
    "ax.set_title(\"separation angle\")\n",
    "ax.set_xlabel(\"separation angle (arcsec)\")\n",
    "plt.show()"
   ]
  },
  {
   "cell_type": "markdown",
   "id": "37807cdf-cc88-4e5a-8ecb-43fa06183171",
   "metadata": {},
   "source": [
    "### Add a few columns : Split visit into dayobs and seq"
   ]
  },
  {
   "cell_type": "code",
   "execution_count": null,
   "id": "f5c7d9ec-6f52-441a-afbe-7ebb59e224a6",
   "metadata": {
    "execution": {
     "iopub.execute_input": "2025-06-05T18:54:01.576980Z",
     "iopub.status.busy": "2025-06-05T18:54:01.576818Z",
     "iopub.status.idle": "2025-06-05T18:54:01.579399Z",
     "shell.execute_reply": "2025-06-05T18:54:01.579014Z",
     "shell.execute_reply.started": "2025-06-05T18:54:01.576963Z"
    }
   },
   "outputs": [],
   "source": [
    "t = closest_src"
   ]
  },
  {
   "cell_type": "code",
   "execution_count": null,
   "id": "84c59598-bdfa-48b6-a61d-f176688e9292",
   "metadata": {
    "execution": {
     "iopub.execute_input": "2025-06-05T18:54:01.580032Z",
     "iopub.status.busy": "2025-06-05T18:54:01.579877Z",
     "iopub.status.idle": "2025-06-05T18:54:01.597170Z",
     "shell.execute_reply": "2025-06-05T18:54:01.596735Z",
     "shell.execute_reply.started": "2025-06-05T18:54:01.580017Z"
    }
   },
   "outputs": [],
   "source": [
    "cDiaObject_Id = t[\"diaObjectId\"].unique()[0]\n",
    "print(f\"central object {cDiaObject_Id}\")"
   ]
  },
  {
   "cell_type": "code",
   "execution_count": null,
   "id": "7efde9c8-ad03-49d7-a547-87e57c87a34c",
   "metadata": {
    "execution": {
     "iopub.execute_input": "2025-06-05T18:54:01.597823Z",
     "iopub.status.busy": "2025-06-05T18:54:01.597680Z",
     "iopub.status.idle": "2025-06-05T18:54:01.607665Z",
     "shell.execute_reply": "2025-06-05T18:54:01.607288Z",
     "shell.execute_reply.started": "2025-06-05T18:54:01.597808Z"
    }
   },
   "outputs": [],
   "source": [
    "# all sources in that small sky field by increasing separation anglle\n",
    "tn = nearby_src.sort_values(by=['sep'], ascending=True)"
   ]
  },
  {
   "cell_type": "code",
   "execution_count": null,
   "id": "d742875b-b073-42c0-9448-813af7e58c04",
   "metadata": {
    "execution": {
     "iopub.execute_input": "2025-06-05T18:54:01.608254Z",
     "iopub.status.busy": "2025-06-05T18:54:01.608120Z",
     "iopub.status.idle": "2025-06-05T18:54:01.626544Z",
     "shell.execute_reply": "2025-06-05T18:54:01.626101Z",
     "shell.execute_reply.started": "2025-06-05T18:54:01.608240Z"
    }
   },
   "outputs": [],
   "source": [
    "nDiaObject_Id = tn[\"diaObjectId\"].unique()"
   ]
  },
  {
   "cell_type": "code",
   "execution_count": null,
   "id": "ed8d399f-ed4f-462f-a844-cc60e387ce61",
   "metadata": {
    "execution": {
     "iopub.execute_input": "2025-06-05T18:54:01.627262Z",
     "iopub.status.busy": "2025-06-05T18:54:01.627117Z",
     "iopub.status.idle": "2025-06-05T18:54:01.639687Z",
     "shell.execute_reply": "2025-06-05T18:54:01.639328Z",
     "shell.execute_reply.started": "2025-06-05T18:54:01.627247Z"
    }
   },
   "outputs": [],
   "source": [
    "nDiaObject_Id"
   ]
  },
  {
   "cell_type": "code",
   "execution_count": null,
   "id": "90d180c7-3ee6-485b-95b4-794ced11bc51",
   "metadata": {
    "execution": {
     "iopub.execute_input": "2025-06-05T18:54:01.640282Z",
     "iopub.status.busy": "2025-06-05T18:54:01.640146Z",
     "iopub.status.idle": "2025-06-05T18:54:01.654084Z",
     "shell.execute_reply": "2025-06-05T18:54:01.653710Z",
     "shell.execute_reply.started": "2025-06-05T18:54:01.640267Z"
    }
   },
   "outputs": [],
   "source": [
    "# ASTUCE POUR ORDONNER LES BANDS DANS UN ORDRE\n",
    "tn['band'] = pd.Categorical(tn['band'], categories=all_bands, ordered=True)"
   ]
  },
  {
   "cell_type": "code",
   "execution_count": null,
   "id": "e5aeb14d-ac79-45f3-9464-edaadfe00598",
   "metadata": {
    "execution": {
     "iopub.execute_input": "2025-06-05T18:54:01.654790Z",
     "iopub.status.busy": "2025-06-05T18:54:01.654653Z",
     "iopub.status.idle": "2025-06-05T18:54:01.672809Z",
     "shell.execute_reply": "2025-06-05T18:54:01.672376Z",
     "shell.execute_reply.started": "2025-06-05T18:54:01.654777Z"
    }
   },
   "outputs": [],
   "source": [
    "#tn['diaObjectId'].value_counts()\n",
    "tn.groupby(['diaObjectId', 'band']).size().reset_index(name='count')"
   ]
  },
  {
   "cell_type": "code",
   "execution_count": null,
   "id": "97605276-3e01-4c7e-9e2d-ff23858304f8",
   "metadata": {
    "execution": {
     "iopub.execute_input": "2025-06-05T18:54:01.673486Z",
     "iopub.status.busy": "2025-06-05T18:54:01.673337Z",
     "iopub.status.idle": "2025-06-05T18:54:01.683017Z",
     "shell.execute_reply": "2025-06-05T18:54:01.682636Z",
     "shell.execute_reply.started": "2025-06-05T18:54:01.673469Z"
    }
   },
   "outputs": [],
   "source": [
    "nbDiaObjects_Id = tn[\"diaObjectId\"].unique()"
   ]
  },
  {
   "cell_type": "code",
   "execution_count": null,
   "id": "53c53400-885c-4b32-94c3-c25dfa9c7fd7",
   "metadata": {
    "execution": {
     "iopub.execute_input": "2025-06-05T18:54:01.683603Z",
     "iopub.status.busy": "2025-06-05T18:54:01.683457Z",
     "iopub.status.idle": "2025-06-05T18:54:01.692128Z",
     "shell.execute_reply": "2025-06-05T18:54:01.691758Z",
     "shell.execute_reply.started": "2025-06-05T18:54:01.683589Z"
    }
   },
   "outputs": [],
   "source": [
    "nnDiaObjects_Id = nbDiaObjects_Id[~(nbDiaObjects_Id == cDiaObject_Id) ]"
   ]
  },
  {
   "cell_type": "markdown",
   "id": "112094be-7b12-475f-8faa-7133b3b1b936",
   "metadata": {},
   "source": [
    "### Add Magnitudes and Magnitudes errors"
   ]
  },
  {
   "cell_type": "code",
   "execution_count": null,
   "id": "453798ec-0d66-4278-b8c3-a9ea4e1cf25b",
   "metadata": {
    "execution": {
     "iopub.execute_input": "2025-06-05T18:54:01.692821Z",
     "iopub.status.busy": "2025-06-05T18:54:01.692564Z",
     "iopub.status.idle": "2025-06-05T18:54:01.785750Z",
     "shell.execute_reply": "2025-06-05T18:54:01.785262Z",
     "shell.execute_reply.started": "2025-06-05T18:54:01.692806Z"
    }
   },
   "outputs": [],
   "source": [
    "tn[\"dateobs\"] = tn.apply(lambda x: x['visit']//100_000, axis=1)\n",
    "tn[\"seq\"] = tn[\"visit\"] - tn[\"dateobs\"]*100_000"
   ]
  },
  {
   "cell_type": "code",
   "execution_count": null,
   "id": "3b3663e0-bc24-4d76-8fed-92781be70fd5",
   "metadata": {
    "execution": {
     "iopub.execute_input": "2025-06-05T18:54:01.786428Z",
     "iopub.status.busy": "2025-06-05T18:54:01.786278Z",
     "iopub.status.idle": "2025-06-05T18:54:01.919940Z",
     "shell.execute_reply": "2025-06-05T18:54:01.919060Z",
     "shell.execute_reply.started": "2025-06-05T18:54:01.786412Z"
    }
   },
   "outputs": [],
   "source": [
    "#t[\"mags\"] = t[\"psfFlux\"].apply(lambda flux : -2.5 * np.log10(flux) + 31.4)\n",
    "tn[\"mags\"] = tn[\"psfFlux\"].apply(nJy_to_ab_mag)\n",
    "tn[\"magerr\"] = nJy_err_to_ab_err(tn[\"psfFlux\"], tn[\"psfFluxErr\"])                               \n",
    "tn[\"valid\"] = (tn[\"psfFlux\"] >0) & (~tn[\"psfFlux_flag\"])\n",
    "visit_list = tn[\"visit\"].astype(int)"
   ]
  },
  {
   "cell_type": "markdown",
   "id": "8ef1ef5c-7a4c-475f-9fe3-3e9384409943",
   "metadata": {
    "execution": {
     "iopub.execute_input": "2025-04-21T13:39:44.974222Z",
     "iopub.status.busy": "2025-04-21T13:39:44.973998Z",
     "iopub.status.idle": "2025-04-21T13:39:44.976793Z",
     "shell.execute_reply": "2025-04-21T13:39:44.976436Z",
     "shell.execute_reply.started": "2025-04-21T13:39:44.974206Z"
    }
   },
   "source": [
    "### Find the time associated to each visit"
   ]
  },
  {
   "cell_type": "code",
   "execution_count": null,
   "id": "7ee3d646-b857-4019-b71e-e1d447fe292e",
   "metadata": {
    "execution": {
     "iopub.execute_input": "2025-06-05T18:54:01.928123Z",
     "iopub.status.busy": "2025-06-05T18:54:01.927754Z",
     "iopub.status.idle": "2025-06-05T18:54:03.224722Z",
     "shell.execute_reply": "2025-06-05T18:54:03.224176Z",
     "shell.execute_reply.started": "2025-06-05T18:54:01.928102Z"
    }
   },
   "outputs": [],
   "source": [
    "# On interroge la table visitDefinition\n",
    "rows = registry.queryDimensionRecords(\"visit\", where=f\"visit in {tuple(visit_list)}\")\n",
    "\n",
    "# 4. Construire un tableau des résultats\n",
    "results = []\n",
    "for row in rows:\n",
    "    visit_id = row.id\n",
    "\n",
    "    # Extraire l'instant de début de l'observation (Time astropy)\n",
    "    start_time = row.timespan.begin\n",
    "\n",
    "    # Convertir en MJD et ISO\n",
    "    mjd = start_time.to_value(\"mjd\")  # Ex: 60384.28718\n",
    "    isot = start_time.to_value(\"isot\")  # Ex: '2024-04-19 06:53:32.000'\n",
    "    \n",
    "    #mjd = row.startDate.toMjd()\n",
    "    #utc = Time(mjd, format='mjd', scale='utc').to_value('iso')\n",
    "    results.append({\"visit\": visit_id, \"mjd\": mjd, \"isot\": isot})\n",
    "\n",
    "df_times = pd.DataFrame(results).sort_values(\"visit\")\n",
    "df_times.set_index(\"visit\",inplace=True)"
   ]
  },
  {
   "cell_type": "code",
   "execution_count": null,
   "id": "65027963-05cf-4df4-ae5f-79aa70eeaa57",
   "metadata": {
    "execution": {
     "iopub.execute_input": "2025-06-05T18:54:03.225439Z",
     "iopub.status.busy": "2025-06-05T18:54:03.225296Z",
     "iopub.status.idle": "2025-06-05T18:54:04.137063Z",
     "shell.execute_reply": "2025-06-05T18:54:04.136536Z",
     "shell.execute_reply.started": "2025-06-05T18:54:03.225425Z"
    }
   },
   "outputs": [],
   "source": [
    "tn[\"mjd\"] = tn[\"visit\"].apply(lambda x: df_times.loc[x][\"mjd\"])\n",
    "tn[\"isot\"] = tn[\"visit\"].apply(lambda x: df_times.loc[x][\"isot\"])"
   ]
  },
  {
   "cell_type": "markdown",
   "id": "4a265f32-9d1b-4b0d-bd3c-bf96e05735f8",
   "metadata": {
    "execution": {
     "iopub.execute_input": "2025-05-13T19:29:03.747601Z",
     "iopub.status.busy": "2025-05-13T19:29:03.747241Z",
     "iopub.status.idle": "2025-05-13T19:29:03.764394Z",
     "shell.execute_reply": "2025-05-13T19:29:03.764038Z",
     "shell.execute_reply.started": "2025-05-13T19:29:03.747570Z"
    }
   },
   "source": [
    "### Plot statistics"
   ]
  },
  {
   "cell_type": "code",
   "execution_count": null,
   "id": "8cf081bb-7dbe-46ea-b91f-432bf82d8202",
   "metadata": {
    "execution": {
     "iopub.execute_input": "2025-06-05T18:54:04.137830Z",
     "iopub.status.busy": "2025-06-05T18:54:04.137680Z",
     "iopub.status.idle": "2025-06-05T18:54:04.583880Z",
     "shell.execute_reply": "2025-06-05T18:54:04.583413Z",
     "shell.execute_reply.started": "2025-06-05T18:54:04.137815Z"
    }
   },
   "outputs": [],
   "source": [
    "# Grouper par diaObjectId et band, et compter le nombre de lignes\n",
    "grouped = tn.groupby(['diaObjectId', 'band'],observed=True).size().unstack(fill_value=0)[all_bands]\n",
    "\n",
    "# Afficher l’histogramme (barres empilées)\n",
    "grouped.plot(kind='bar', stacked=True, figsize=(18, 10),color= all_bands_colors)\n",
    "\n",
    "plt.xlabel(\"diaObjectId\")\n",
    "plt.ylabel(\"Number of observations)\")\n",
    "plt.title(\"Number of observation per band per diaObjectId\")\n",
    "plt.legend(title='Band')\n",
    "plt.tight_layout()\n",
    "plt.show()"
   ]
  },
  {
   "cell_type": "code",
   "execution_count": null,
   "id": "cfd1d9e6-169c-4aa2-898f-6991c276afdb",
   "metadata": {
    "execution": {
     "iopub.execute_input": "2025-06-05T18:54:04.584596Z",
     "iopub.status.busy": "2025-06-05T18:54:04.584439Z",
     "iopub.status.idle": "2025-06-05T18:54:04.685142Z",
     "shell.execute_reply": "2025-06-05T18:54:04.684672Z",
     "shell.execute_reply.started": "2025-06-05T18:54:04.584581Z"
    }
   },
   "outputs": [],
   "source": [
    "# Étape 1 : calcul de la moyenne de `sep` pour chaque diaObjectId\n",
    "sep_mean_by_id = tn.groupby('diaObjectId')['sep'].mean()\n",
    "\n",
    "# Étape 2 : histogramme de ces moyennes\n",
    "plt.figure(figsize=(6, 5))\n",
    "plt.hist(sep_mean_by_id, bins=30, edgecolor='black')  # Ajuste `bins` selon la résolution désirée\n",
    "\n",
    "plt.xlabel(\"sep angle (arcsec)\")\n",
    "plt.ylabel(\"Bb Dia Objects\")\n",
    "plt.title(\"separation angle\")\n",
    "plt.tight_layout()\n",
    "plt.show()"
   ]
  },
  {
   "cell_type": "markdown",
   "id": "c65f4d15-66ed-48a1-9dae-743f1005f29e",
   "metadata": {},
   "source": [
    "## Plot light curves"
   ]
  },
  {
   "cell_type": "code",
   "execution_count": null,
   "id": "e95f14d7-592d-4d1f-ba4f-ca9647f1c973",
   "metadata": {
    "execution": {
     "iopub.execute_input": "2025-06-05T18:54:04.685906Z",
     "iopub.status.busy": "2025-06-05T18:54:04.685761Z",
     "iopub.status.idle": "2025-06-05T18:54:04.701019Z",
     "shell.execute_reply": "2025-06-05T18:54:04.700578Z",
     "shell.execute_reply.started": "2025-06-05T18:54:04.685891Z"
    }
   },
   "outputs": [],
   "source": [
    "tn"
   ]
  },
  {
   "cell_type": "code",
   "execution_count": null,
   "id": "bcf79342-2831-4e33-a3b1-e9c03acd80ce",
   "metadata": {
    "execution": {
     "iopub.execute_input": "2025-06-05T18:54:04.701642Z",
     "iopub.status.busy": "2025-06-05T18:54:04.701498Z",
     "iopub.status.idle": "2025-06-05T18:54:04.704890Z",
     "shell.execute_reply": "2025-06-05T18:54:04.704467Z",
     "shell.execute_reply.started": "2025-06-05T18:54:04.701628Z"
    }
   },
   "outputs": [],
   "source": [
    "nDiaObject_Id"
   ]
  },
  {
   "cell_type": "markdown",
   "id": "0e5a76c4-200e-4be7-a9eb-6f414f567827",
   "metadata": {},
   "source": [
    "## Split the sources in different bands"
   ]
  },
  {
   "cell_type": "code",
   "execution_count": null,
   "id": "ea653339-264a-4711-99c1-75de83fe2f05",
   "metadata": {
    "execution": {
     "iopub.execute_input": "2025-06-05T18:54:04.705516Z",
     "iopub.status.busy": "2025-06-05T18:54:04.705378Z",
     "iopub.status.idle": "2025-06-05T18:54:18.477346Z",
     "shell.execute_reply": "2025-06-05T18:54:18.476854Z",
     "shell.execute_reply.started": "2025-06-05T18:54:04.705496Z"
    }
   },
   "outputs": [],
   "source": [
    "for idx,obj_id in enumerate(nDiaObject_Id):\n",
    "    t = tn[tn[\"diaObjectId\"] == obj_id]\n",
    "    tb = {}\n",
    "    for band in all_bands:\n",
    "        tb[band] = t[t[\"band\"] == band]\n",
    "\n",
    "    sepangle = t[\"sep\"].mean()\n",
    "    obj_title = f\"diaObj {obj_id} sep = {sepangle:.1f} arcsec\"\n",
    "    plotLightCurvesAllTogetherBands(tb,obj_title,\"\",None)"
   ]
  },
  {
   "cell_type": "code",
   "execution_count": null,
   "id": "070b3a61-c473-4887-9c67-04b0c2ca39d2",
   "metadata": {
    "execution": {
     "iopub.execute_input": "2025-06-05T18:56:31.652913Z",
     "iopub.status.busy": "2025-06-05T18:56:31.651330Z",
     "iopub.status.idle": "2025-06-05T18:56:55.886246Z",
     "shell.execute_reply": "2025-06-05T18:56:55.885733Z",
     "shell.execute_reply.started": "2025-06-05T18:56:31.652883Z"
    }
   },
   "outputs": [],
   "source": [
    "for idx,obj_id in enumerate(nDiaObject_Id):\n",
    "    t = tn[tn[\"diaObjectId\"] == obj_id]\n",
    "    tb = {}\n",
    "    for band in all_bands:\n",
    "        tb[band] = t[t[\"band\"] == band]\n",
    "\n",
    "    sepangle = t[\"sep\"].mean()\n",
    "    obj_title = f\"diaObj {obj_id} sep = {sepangle:.1f} arcsec\"\n",
    "    #plotLightCurvesAllTogetherBands(tb,obj_title,\"\",None)\n",
    "    #plotLightCurvesSeparatedBandsWithErrors(tb,obj_title,\"\",None)\n",
    "    plotLightCurvesSeparatedBandsWithErrors(tb, obj_title, subtitle, deltaylim = 2.0  ,figname=None)"
   ]
  },
  {
   "cell_type": "markdown",
   "id": "1954f183-5eaa-4016-a80e-0da9c10957f9",
   "metadata": {},
   "source": [
    "## Plot Cutout"
   ]
  },
  {
   "cell_type": "code",
   "execution_count": null,
   "id": "7c281b45-8c2e-46f5-a2dc-eb6f464cdc36",
   "metadata": {
    "execution": {
     "iopub.execute_input": "2025-06-05T18:54:35.236699Z",
     "iopub.status.busy": "2025-06-05T18:54:35.236555Z",
     "iopub.status.idle": "2025-06-05T18:54:35.252483Z",
     "shell.execute_reply": "2025-06-05T18:54:35.252100Z",
     "shell.execute_reply.started": "2025-06-05T18:54:35.236685Z"
    }
   },
   "outputs": [],
   "source": [
    "tn"
   ]
  },
  {
   "cell_type": "markdown",
   "id": "a45959aa-0e47-45da-95d5-b2c39ee0d1f8",
   "metadata": {
    "execution": {
     "iopub.execute_input": "2025-05-14T19:50:06.230926Z",
     "iopub.status.busy": "2025-05-14T19:50:06.230587Z",
     "iopub.status.idle": "2025-05-14T19:50:06.234983Z",
     "shell.execute_reply": "2025-05-14T19:50:06.234602Z",
     "shell.execute_reply.started": "2025-05-14T19:50:06.230910Z"
    }
   },
   "source": [
    "### ra,dec for each dia object"
   ]
  },
  {
   "cell_type": "code",
   "execution_count": null,
   "id": "6732406e-be15-40cc-98da-7e8bd097a9b7",
   "metadata": {
    "execution": {
     "iopub.execute_input": "2025-06-05T18:54:35.253081Z",
     "iopub.status.busy": "2025-06-05T18:54:35.252945Z",
     "iopub.status.idle": "2025-06-05T18:54:35.303952Z",
     "shell.execute_reply": "2025-06-05T18:54:35.303524Z",
     "shell.execute_reply.started": "2025-06-05T18:54:35.253067Z"
    }
   },
   "outputs": [],
   "source": [
    "df_neigh = tn.groupby('diaObjectId')[['coord_ra','coord_dec','sep']].mean()"
   ]
  },
  {
   "cell_type": "code",
   "execution_count": null,
   "id": "bc338cee-53de-4cc8-9449-8a62d99a813c",
   "metadata": {
    "execution": {
     "iopub.execute_input": "2025-06-05T18:54:35.304484Z",
     "iopub.status.busy": "2025-06-05T18:54:35.304353Z",
     "iopub.status.idle": "2025-06-05T18:54:35.314877Z",
     "shell.execute_reply": "2025-06-05T18:54:35.314583Z",
     "shell.execute_reply.started": "2025-06-05T18:54:35.304472Z"
    }
   },
   "outputs": [],
   "source": [
    "df_neigh "
   ]
  },
  {
   "cell_type": "code",
   "execution_count": null,
   "id": "1bbeeb36-aee2-4165-a061-740e0f939451",
   "metadata": {
    "execution": {
     "iopub.execute_input": "2025-06-05T18:54:35.315408Z",
     "iopub.status.busy": "2025-06-05T18:54:35.315280Z",
     "iopub.status.idle": "2025-06-05T18:54:48.387684Z",
     "shell.execute_reply": "2025-06-05T18:54:48.387134Z",
     "shell.execute_reply.started": "2025-06-05T18:54:35.315396Z"
    }
   },
   "outputs": [],
   "source": [
    "for ib,band in enumerate(all_bands):\n",
    "    print(ib,band)\n",
    "    iframe = ib + 1\n",
    "\n",
    "    #pixel_scale_arcsec = wcs.getPixelScale().asArcseconds() \n",
    "\n",
    "    # Extract the cutout around the GEM catalog\n",
    "    cutout, wcs, metadata = extract_deepCoadd_cutout(\n",
    "        ra_deg=ra_target,\n",
    "        dec_deg=dec_target,\n",
    "        tractInfo=tract_info,\n",
    "        patchInfo=patch_info,\n",
    "        band=band,\n",
    "        butler=butler,\n",
    "        skymapName=skymapName,\n",
    "        cutout_size_pixels = radius_max*10,\n",
    "        collection = collection,\n",
    "    )\n",
    "\n",
    "    # Optionnel : nom unique si plusieurs affichages\n",
    "    display = afwDisplay.Display(frame=iframe)\n",
    "    # Affiche le cutout\n",
    "    display.mtv(cutout.image, title=f\"band {band}\")\n",
    "\n",
    "    # Show the object\n",
    "    wcs = cutout.getWcs()\n",
    "    #coord_obj = SpherePoint(ra_obj, dec_obj, degrees)\n",
    "    #pixel_obj = wcs.skyToPixel(coord_obj)  # donne un Point2D (x, y)\n",
    "\n",
    "    #display.dot(\"o\", pixel_obj.getX(), pixel_obj.getY(), size=10, ctype=all_bands_colors[ib])\n",
    "\n",
    "    coord_target = SpherePoint(ra_target, dec_target, degrees)\n",
    "    pixel_target = wcs.skyToPixel(coord_target)  # donne un Point2D (x, y)\n",
    "    display.dot(\"+\", pixel_target.getX(), pixel_target.getY(), size=50, ctype=all_bands_colors[ib])\n",
    "\n",
    "    ## loop on neightbourgs\n",
    "    for idxn, row in df_neigh.iterrows():\n",
    "        ra_n = row[\"coord_ra\"] \t\n",
    "        dec_n = row[\"coord_dec\"] \t\n",
    "        coord_neigh = SpherePoint(ra_n, dec_n, degrees)\n",
    "        pixel_neigh = wcs.skyToPixel(coord_neigh)  # donne un Point2D (x, y)\n",
    "        display.dot(\"o\", pixel_neigh.getX(), pixel_neigh.getY(), size=5, ctype=all_bands_colors[ib])\n",
    "        \n",
    "\n",
    "   "
   ]
  },
  {
   "cell_type": "code",
   "execution_count": null,
   "id": "c0ff101d-3672-456c-a365-eb84a67fb561",
   "metadata": {
    "execution": {
     "iopub.execute_input": "2025-06-05T18:54:48.388811Z",
     "iopub.status.busy": "2025-06-05T18:54:48.388220Z",
     "iopub.status.idle": "2025-06-05T18:54:48.392421Z",
     "shell.execute_reply": "2025-06-05T18:54:48.392027Z",
     "shell.execute_reply.started": "2025-06-05T18:54:48.388795Z"
    }
   },
   "outputs": [],
   "source": [
    "1/wcs.getPixelScale().asArcseconds() "
   ]
  },
  {
   "cell_type": "code",
   "execution_count": null,
   "id": "339d8c85-eafd-4162-ba51-b5425c9ca2a5",
   "metadata": {
    "execution": {
     "iopub.execute_input": "2025-06-05T18:54:48.393011Z",
     "iopub.status.busy": "2025-06-05T18:54:48.392864Z",
     "iopub.status.idle": "2025-06-05T18:54:48.406451Z",
     "shell.execute_reply": "2025-06-05T18:54:48.406066Z",
     "shell.execute_reply.started": "2025-06-05T18:54:48.392996Z"
    }
   },
   "outputs": [],
   "source": [
    "wcs.getPixelScale()"
   ]
  },
  {
   "cell_type": "code",
   "execution_count": null,
   "id": "ee9534f9-adb6-474e-bfd2-0eca28b93e46",
   "metadata": {},
   "outputs": [],
   "source": []
  }
 ],
 "metadata": {
  "kernelspec": {
   "display_name": "LSST",
   "language": "python",
   "name": "lsst"
  },
  "language_info": {
   "codemirror_mode": {
    "name": "ipython",
    "version": 3
   },
   "file_extension": ".py",
   "mimetype": "text/x-python",
   "name": "python",
   "nbconvert_exporter": "python",
   "pygments_lexer": "ipython3",
   "version": "3.12.10"
  }
 },
 "nbformat": 4,
 "nbformat_minor": 5
}
