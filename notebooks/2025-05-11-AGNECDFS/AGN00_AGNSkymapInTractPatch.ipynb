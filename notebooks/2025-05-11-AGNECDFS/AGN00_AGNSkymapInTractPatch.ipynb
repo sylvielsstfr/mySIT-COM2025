{
 "cells": [
  {
   "cell_type": "markdown",
   "id": "e5f85ebc-4388-4654-9bed-2c435ce91959",
   "metadata": {},
   "source": [
    "# AGN in ECDFS location\n",
    "\n",
    "- author Sylvie Dagoret-Campagne\n",
    "- creation date 2025-06-07\n",
    "- last update 2025-06-07\n"
   ]
  },
  {
   "cell_type": "markdown",
   "id": "34a502d3-af58-4cf2-92b1-f81236dc7653",
   "metadata": {},
   "source": [
    "## Import"
   ]
  },
  {
   "cell_type": "code",
   "execution_count": null,
   "id": "01f4a7f9-d12d-4bf3-85d6-fe8c6bb30ca9",
   "metadata": {
    "tags": []
   },
   "outputs": [],
   "source": [
    "import numpy as np\n",
    "import pandas as pd\n",
    "import matplotlib\n",
    "import matplotlib.pyplot as plt\n",
    "from matplotlib import cm\n",
    "from mpl_toolkits.axes_grid1 import make_axes_locatable\n",
    "\n",
    "# import lsst.daf.butler as dafButler\n",
    "from lsst.daf.butler import Butler\n",
    "\n",
    "import lsst.geom as geom\n",
    "from lsst.geom import SpherePoint, degrees\n",
    "import lsst.afw.display as afwDisplay\n",
    "\n",
    "from lsst.skymap import PatchInfo, Index2D"
   ]
  },
  {
   "cell_type": "code",
   "execution_count": null,
   "id": "12729ea1-4269-4889-8f7c-b035f3fb2597",
   "metadata": {},
   "outputs": [],
   "source": [
    "# For Angle conversion\n",
    "from astropy.coordinates import Angle\n",
    "import astropy.units as u"
   ]
  },
  {
   "cell_type": "code",
   "execution_count": null,
   "id": "f297e0ed-308c-46b7-be79-9415cd245bcb",
   "metadata": {},
   "outputs": [],
   "source": [
    "#%matplotlib widget"
   ]
  },
  {
   "cell_type": "code",
   "execution_count": null,
   "id": "06212855-1aaf-4372-bbc0-41f363735992",
   "metadata": {},
   "outputs": [],
   "source": [
    "all_bands = [\"u\", \"g\", \"r\", \"i\", \"z\", \"y\"]\n",
    "all_bands_colors = [\"blue\", \"green\", \"red\", \"orange\", \"yellow\", \"purple\"]"
   ]
  },
  {
   "cell_type": "code",
   "execution_count": null,
   "id": "3aa3f265-7ba5-4db4-ae97-a405984d2bfa",
   "metadata": {},
   "outputs": [],
   "source": [
    "plt.rcParams[\"figure.figsize\"] = (10, 6)\n",
    "plt.rcParams[\"axes.labelsize\"] = \"xx-large\"\n",
    "plt.rcParams[\"axes.titlesize\"] = \"xx-large\"\n",
    "plt.rcParams[\"xtick.labelsize\"] = \"xx-large\"\n",
    "plt.rcParams[\"ytick.labelsize\"] = \"xx-large\"\n"
   ]
  },
  {
   "cell_type": "code",
   "execution_count": null,
   "id": "49015733-f95a-4889-ae61-91a338067e13",
   "metadata": {},
   "outputs": [],
   "source": [
    "def nJy_to_ab_mag(f_njy):\n",
    "    \"\"\"Convert scalar or array flux in nJy to AB magnitude.\"\"\"\n",
    "    f_njy = np.asarray(f_njy)\n",
    "    mag = np.full_like(f_njy, fill_value=np.nan, dtype=float)\n",
    "    mask = f_njy > 0\n",
    "    mag[mask] = -2.5 * np.log10(f_njy[mask]) + 31.4\n",
    "    return mag\n",
    "\n",
    "\n",
    "def nJy_err_to_ab_err(f_njy, f_err):\n",
    "    \"\"\"Propagate flux error to magnitude error.\"\"\"\n",
    "    f_njy = np.asarray(f_njy)\n",
    "    f_err = np.asarray(f_err)\n",
    "    mag_err = np.full_like(f_njy, fill_value=np.nan, dtype=float)\n",
    "    mask = (f_njy > 0) & (f_err > 0)\n",
    "    mag_err[mask] = (2.5 / np.log(10)) * (f_err[mask] / f_njy[mask])\n",
    "    return mag_err\n"
   ]
  },
  {
   "cell_type": "code",
   "execution_count": null,
   "id": "666a49ac-2b6b-4fdc-bafd-95246e678959",
   "metadata": {},
   "outputs": [],
   "source": [
    "def ab_mag_to_nJy(mag_ab):\n",
    "    \"\"\"Convert AB magnitude to flux in nanojanskys.\"\"\"\n",
    "    return 10 ** ((31.4 - mag_ab) / 2.5)\n"
   ]
  },
  {
   "cell_type": "code",
   "execution_count": null,
   "id": "e00c9be3-3007-48ea-bec5-57610634c2c6",
   "metadata": {},
   "outputs": [],
   "source": [
    "def plot_tract_patches_ra_dec(butler, skymap, tract_id, df_points=None):\n",
    "    # Ouvre le Butler\n",
    "    \n",
    "    tract_info = skymap[tract_id]\n",
    "    wcs = tract_info.getWcs()\n",
    "    num_patches_x, num_patches_y = tract_info.getNumPatches()\n",
    "\n",
    "    fig, ax = plt.subplots(figsize=(12, 10))\n",
    "\n",
    "    for y in range(num_patches_y):\n",
    "        for x in range(num_patches_x):\n",
    "            patch_info = tract_info.getPatchInfo((x, y))\n",
    "            patch_seqnum = patch_info.getSequentialIndex()\n",
    "            patch_bbox = patch_info.getOuterBBox()\n",
    "\n",
    "            # Coins du patch\n",
    "            corners = [\n",
    "                (patch_bbox.getMinX(), patch_bbox.getMinY()),\n",
    "                (patch_bbox.getMaxX(), patch_bbox.getMinY()),\n",
    "                (patch_bbox.getMaxX(), patch_bbox.getMaxY()),\n",
    "                (patch_bbox.getMinX(), patch_bbox.getMaxY()),\n",
    "            ]\n",
    "            sky_coords = [wcs.pixelToSky(xp, yp) for xp, yp in corners]\n",
    "            ra = [coord.getRa().asDegrees() for coord in sky_coords]\n",
    "            dec = [coord.getDec().asDegrees() for coord in sky_coords]\n",
    "            ra.append(ra[0])\n",
    "            dec.append(dec[0])\n",
    "            ax.plot(ra, dec, color=\"blue\", linewidth=0.5)\n",
    "\n",
    "            # Centre du patch (en pixels)\n",
    "            center_pixel_x = 0.5 * (patch_bbox.getMinX() + patch_bbox.getMaxX())\n",
    "            center_pixel_y = 0.5 * (patch_bbox.getMinY() + patch_bbox.getMaxY())\n",
    "            center_sky = wcs.pixelToSky(center_pixel_x, center_pixel_y)\n",
    "            center_ra = center_sky.getRa().asDegrees()\n",
    "            center_dec = center_sky.getDec().asDegrees()\n",
    "\n",
    "            # Numéro de patch (x, y)\n",
    "            #ax.text(center_ra, center_dec, f\"{x},{y}\", fontsize=6, ha='center', va='center', color='black')\n",
    "            ax.text(center_ra, center_dec, f\"{patch_seqnum}\", fontsize=10, ha='center', va='center', color='darkgreen')\n",
    "\n",
    "    # Ajout des points (optionnel)\n",
    "    if df_points is not None:\n",
    "        df = df_points[df_points[\"tract\"] == tract_id]\n",
    "        ax.scatter(df[\"ra\"], df[\"dec\"], color=\"red\", marker=\"o\", s=30, label=\"Sources\", zorder=5)\n",
    "\n",
    "        # Optionnel : noms des sources\n",
    "        for _, row in df.iterrows():\n",
    "            ax.text(row[\"ra\"], row[\"dec\"], row[\"field_name\"], fontsize=10, fontweight=\"bold\" ,ha='right', va='bottom', color='darkred')\n",
    "\n",
    "    ax.set_xlabel(\"RA [deg]\")\n",
    "    ax.set_ylabel(\"Dec [deg]\")\n",
    "    ax.set_title(f\"Patches in Tract {tract_id}\")\n",
    "    ax.invert_xaxis()\n",
    "    ax.set_aspect('equal', adjustable='datalim')\n",
    "    ax.grid(True)\n",
    "    ax.legend()\n",
    "    plt.tight_layout()\n",
    "    plt.show()\n"
   ]
  },
  {
   "cell_type": "markdown",
   "id": "f823358e-18b4-4b29-845c-146e40dcf23f",
   "metadata": {},
   "source": [
    "## Config"
   ]
  },
  {
   "cell_type": "code",
   "execution_count": null,
   "id": "7d365042-56eb-4cf7-b9ef-32a0682259c1",
   "metadata": {},
   "outputs": [],
   "source": [
    "# The output repo is tagged with the Jira ticket number \"DM-40356\":\n",
    "repo = \"/repo/main\"\n",
    "# collection = 'LSSTComCam/runs/DRP/DP1/w_2025_05/DM-48666' # work\n",
    "# collection = 'LSSTComCam/runs/DRP/DP1/w_2025_06/DM-48810' # work\n",
    "collection = \"LSSTComCam/runs/DRP/DP1/w_2025_10/DM-49359\"  # work\n",
    "\n",
    "\n",
    "# bad : crash collection = 'LSSTComCam/runs/DRP/DP1/w_2025_08/DM-49029'\n",
    "\n",
    "# bad : collection = \"LSSTComCam/runs/DRP/20241101_20241211/w_2024_51/DM-48233\"\n",
    "\n",
    "# not working perhaps because I am using w_2025_10 version\n",
    "# bad : no ccd visit collection = \"LSSTComCam/runs/DRP/DP1/w_2025_14/DM-49864\"\n",
    "# bad : no ccd visit collection = 'LSSTComCam/runs/DRP/DP1/w_2025_15/DM-50050'\n",
    "# bad : no cce visit collection = 'LSSTComCam/runs/DRP/DP1/w_2025_14/DM-49864'\n",
    "# bad : no cce visit collection collection = 'LSSTComCam/runs/DRP/DP1/w_2025_13/DM-49751'\n",
    "instrument = \"LSSTComCam\"\n",
    "skymapName = \"lsst_cells_v1\"\n",
    "where_clause = \"instrument = '\" + instrument + \"'\"\n",
    "collectionStr = collection.replace(\"/\", \"_\")\n",
    "BANDSEL = \"r\"  # Most fields were observed in red filter"
   ]
  },
  {
   "cell_type": "code",
   "execution_count": null,
   "id": "35a5264c-8853-4a81-ad25-d240644affdc",
   "metadata": {},
   "outputs": [],
   "source": [
    "# Initialize the butler repo:\n",
    "butler = Butler(repo, collections=collection)\n",
    "registry = butler.registry"
   ]
  },
  {
   "cell_type": "code",
   "execution_count": null,
   "id": "d6f6935e-461e-40d8-8174-10e7de0eea89",
   "metadata": {},
   "outputs": [],
   "source": [
    "skymap = butler.get(\"skyMap\", skymap=skymapName, collections=collection)"
   ]
  },
  {
   "cell_type": "code",
   "execution_count": null,
   "id": "74271e57-f8c2-4f1f-8c6c-4c75bae476f8",
   "metadata": {},
   "outputs": [],
   "source": [
    "camera = butler.get(\"camera\", collections=collection, instrument=instrument)"
   ]
  },
  {
   "cell_type": "markdown",
   "id": "15c0d67f-21af-4a7e-bcef-d500fad831c7",
   "metadata": {},
   "source": [
    "## 1) Build the table of AGN from the Vizier Catalog"
   ]
  },
  {
   "cell_type": "code",
   "execution_count": null,
   "id": "8793a5b4-cc5c-453d-b570-ad2401e70b12",
   "metadata": {},
   "outputs": [],
   "source": [
    "from astroquery.vizier import Vizier\n",
    "from astropy.coordinates import SkyCoord\n",
    "import astropy.units as u"
   ]
  },
  {
   "cell_type": "code",
   "execution_count": null,
   "id": "72ed9883-22e9-4395-9256-d441114d7759",
   "metadata": {},
   "outputs": [],
   "source": [
    "ECDFS_RA = 53.1\n",
    "ECDFS_DEC = -27.8\n",
    "ECDFS_COORD = SpherePoint(ECDFS_RA, ECDFS_DEC , degrees)"
   ]
  },
  {
   "cell_type": "code",
   "execution_count": null,
   "id": "a799e346-0ce7-4548-b71c-7ced711c23c6",
   "metadata": {},
   "outputs": [],
   "source": [
    "# Coordonnées approximatives du centre du E-CDFS\n",
    "coord = SkyCoord(ra=ECDFS_RA, dec = ECDFS_DEC, unit=(u.deg, u.deg), frame='icrs')\n",
    "radius = 30 * u.arcmin\n",
    "\n",
    "# Exemple avec le catalogue Luo+2017 (7Ms CDF-S)\n",
    "catalog_id = \"J/ApJS/228/2\"\n",
    "result = Vizier(columns=[\"*\"]).query_region(coord, radius=radius, catalog=catalog_id)"
   ]
  },
  {
   "cell_type": "code",
   "execution_count": null,
   "id": "8d9bc839-c86a-4915-a04e-f3a9fae3e47f",
   "metadata": {},
   "outputs": [],
   "source": [
    "sources_table = result['J/ApJS/228/2/sources']\n",
    "print(sources_table.colnames)"
   ]
  },
  {
   "cell_type": "code",
   "execution_count": null,
   "id": "186ca90f-3229-41e5-80a0-3aea63458b4f",
   "metadata": {},
   "outputs": [],
   "source": [
    "# On calcule le log10 de LX\n",
    "logLX = np.log10(sources_table['LX'])\n",
    "\n",
    "# Et on l'ajoute comme nouvelle colonne à la table\n",
    "sources_table['logLX'] = logLX\n",
    "\n",
    "# Attention au nom exact de la colonne\n",
    "logLX = sources_table['logLX']\n",
    "is_agn = logLX > 42\n",
    "\n",
    "is_agn = sources_table['logLX'] > 42  # AGN si LX > 10^42 erg/s\n",
    "agn_table = sources_table[is_agn]"
   ]
  },
  {
   "cell_type": "code",
   "execution_count": null,
   "id": "a17477a2-4088-451e-b490-1ebd9f318394",
   "metadata": {},
   "outputs": [],
   "source": [
    "agn_table[['RAJ2000', 'DEJ2000', 'logLX', 'LX', 'zspec']].pprint(max_lines=10)"
   ]
  },
  {
   "cell_type": "code",
   "execution_count": null,
   "id": "3bb052ff-a792-4c2d-ba07-9ca9cb32a534",
   "metadata": {},
   "outputs": [],
   "source": [
    "galaxy_table = sources_table[sources_table['OType'] == 'Galaxy']"
   ]
  },
  {
   "cell_type": "code",
   "execution_count": null,
   "id": "c37282b7-071b-41d1-9c91-ba66692ac30c",
   "metadata": {},
   "outputs": [],
   "source": [
    "galaxy_table[['RAJ2000', 'DEJ2000', 'logLX', 'LX', 'zspec']].pprint(max_lines=10)"
   ]
  },
  {
   "cell_type": "markdown",
   "id": "c8c0a7d4-6132-475b-a25d-20a8984e8f94",
   "metadata": {},
   "source": [
    "## Plot info from AGN Vizier catalog"
   ]
  },
  {
   "cell_type": "code",
   "execution_count": null,
   "id": "b8333314-57b4-4b55-a55b-b5722d237e88",
   "metadata": {},
   "outputs": [],
   "source": [
    "df_galaxy = galaxy_table.to_pandas()\n",
    "df_agn = agn_table.to_pandas()"
   ]
  },
  {
   "cell_type": "code",
   "execution_count": null,
   "id": "f1854f16-4b73-4dcf-9e13-e5daa565cd86",
   "metadata": {},
   "outputs": [],
   "source": [
    "plt.figure(figsize=(14,5))\n",
    "\n",
    "plt.subplot(1, 2, 1)\n",
    "plt.hist(df_agn['zspec'].values, bins=20, color='green', alpha=0.7)\n",
    "plt.xlabel(\"Redshift zspec\")\n",
    "plt.ylabel(\"Nombre de sources\")\n",
    "plt.title(\"Distribution en redshift\")\n",
    "\n",
    "plt.subplot(1, 2, 2)\n",
    "plt.hist(df_agn['logLX'].values, bins=20, color='orange', alpha=0.7)\n",
    "plt.xlabel(\"log(Lx) [erg/s]\")\n",
    "plt.ylabel(\"Nombre de sources\")\n",
    "plt.title(\"Distribution de la luminosité X\")\n",
    "\n",
    "plt.tight_layout()\n",
    "plt.show()"
   ]
  },
  {
   "cell_type": "code",
   "execution_count": null,
   "id": "54be88e6-9184-45c3-9282-58399eb07181",
   "metadata": {},
   "outputs": [],
   "source": [
    "all_tracts = []\n",
    "all_patches = []\n",
    "all_targetnames = []\n",
    "\n",
    "count = 0\n",
    "for key, row in df_agn.iterrows():\n",
    "    target_ra = row[\"RAJ2000\"]\n",
    "    target_dec = row[\"DEJ2000\"]\n",
    "    target_name = f\"AGN{count}\"\n",
    "    target_point = SpherePoint(target_ra, target_dec, degrees)\n",
    "\n",
    "    tract_info = skymap.findTract(target_point)\n",
    "    patch_info = tract_info.findPatch(target_point)\n",
    "    #bbox = patch_info.getOuterBBox()\n",
    "\n",
    "    tractNbSel = tract_info.getId()\n",
    "    patchNbSel = patch_info.getSequentialIndex()\n",
    "\n",
    "    all_tracts.append(tractNbSel)\n",
    "    all_patches.append(patchNbSel)\n",
    "    all_targetnames.append(target_name)\n",
    "    \n",
    "    count +=1"
   ]
  },
  {
   "cell_type": "code",
   "execution_count": null,
   "id": "8995e6c9-6d71-480c-a543-dd49d670b157",
   "metadata": {},
   "outputs": [],
   "source": [
    "df_agn[\"tract\"] = all_tracts\n",
    "df_agn[\"patch\"] = all_patches\n",
    "df_agn['field_name'] = all_targetnames\n",
    "df_agn.rename(columns={\"RAJ2000\": \"ra\", \"DEJ2000\": \"dec\"},inplace = True)"
   ]
  },
  {
   "cell_type": "code",
   "execution_count": null,
   "id": "b4d43403-c22a-402d-acb6-f0907e3e253c",
   "metadata": {},
   "outputs": [],
   "source": [
    "df_agn"
   ]
  },
  {
   "cell_type": "code",
   "execution_count": null,
   "id": "f0b75306-56e2-46b3-9426-494e2ac2d1b6",
   "metadata": {},
   "outputs": [],
   "source": [
    "tract_id = 5063"
   ]
  },
  {
   "cell_type": "code",
   "execution_count": null,
   "id": "564b2ccf-67e4-495c-975d-10374d08de9d",
   "metadata": {},
   "outputs": [],
   "source": [
    "plot_tract_patches_ra_dec(butler, skymap, tract_id, df_agn)"
   ]
  },
  {
   "cell_type": "code",
   "execution_count": null,
   "id": "f965475d-2fe0-406e-8945-96098ea4638c",
   "metadata": {},
   "outputs": [],
   "source": []
  }
 ],
 "metadata": {
  "kernelspec": {
   "display_name": "LSST",
   "language": "python",
   "name": "lsst"
  },
  "language_info": {
   "codemirror_mode": {
    "name": "ipython",
    "version": 3
   },
   "file_extension": ".py",
   "mimetype": "text/x-python",
   "name": "python",
   "nbconvert_exporter": "python",
   "pygments_lexer": "ipython3",
   "version": "3.12.10"
  }
 },
 "nbformat": 4,
 "nbformat_minor": 5
}
