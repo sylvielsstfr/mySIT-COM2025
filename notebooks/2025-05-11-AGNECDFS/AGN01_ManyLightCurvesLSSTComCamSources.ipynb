{
 "cells": [
  {
   "cell_type": "markdown",
   "id": "8f3da262-37ed-407f-908c-8ac5a52cb4db",
   "metadata": {},
   "source": [
    "# Search for AGN in the Extended Chandra Deep Field South and show their Light Curves\n",
    "\n",
    "- Confluence page : https://rubinobs.atlassian.net/wiki/spaces/LSSTCOM/pages/372867091/System-level+Science+Performance+Verification+Sprint\n",
    "- slides : https://docs.google.com/presentation/d/1bPjS5NGtiEL2lfjmvP1UYdG_tMEDfZxX26ayhf7MhtY/edit#slide=id.ga2f7fb1a1f_0_70"
   ]
  },
  {
   "cell_type": "markdown",
   "id": "f3737976-eab8-4483-a79d-796f738c4f22",
   "metadata": {},
   "source": [
    "- where to find the campains\n",
    "- https://rubinobs.atlassian.net/wiki/spaces/DM/pages/226656354/LSSTComCam+Intermittent+Cumulative+DRP+Runs\n",
    "\n",
    "- plot Navigator\n",
    "- https://usdf-rsp.slac.stanford.edu/plot-navigator\n",
    "- https://usdf-rsp.slac.stanford.edu/plot-navigator/plot/%2Frepo%2Fmain/LSSTComCam%2Fruns%2FDRP%2FDP1%2Fw_2025_05%2FDM-48666/objectTableCore_coaddInputCount_SkyPlot"
   ]
  },
  {
   "cell_type": "markdown",
   "id": "53b4594d-5de5-4fa1-8ada-f60f0018cac5",
   "metadata": {},
   "source": [
    "- Notebooks examples\n",
    "- https://github.com/lsst-dm/DMTR-401/blob/main/notebooks/test_LVV-T40_T1240.ipynb\n",
    "- https://github.com/lsst-dm/DMTR-412/blob/tickets/DM-38728/notebooks/test_LVV-T1751_AM1_AM2.ipynb"
   ]
  },
  {
   "cell_type": "markdown",
   "id": "8402aac4-562a-40cd-ac2b-c1ca76cae55b",
   "metadata": {},
   "source": [
    "- author : Sylvie Dagoret-Campagne\n",
    "- creation date : 2025-05-11\n",
    "- last update : 2025-05-11\n",
    "- Redo Visits like here : https://github.com/sylvielsstfr/LSST-Rehearsal2024/blob/main/notebooks/Visits/stat_on_visits_LSSTComCamSim.ipynb\n",
    "- To find what I did on LSSTComCamSim : https://github.com/sylvielsstfr/LSST-Rehearsal2024/blob/main/notebooks/LightCurves/MultiColor_lightCurves-DMRehearsal2024_01-AuxTel-DZPOnCCD.ipynb\n",
    "- **Confluence page** : https://rubinobs.atlassian.net/wiki/spaces/LSSTCOM/pages/443613290/Science+Verification+Sprint+Feb+2025\n"
   ]
  },
  {
   "cell_type": "code",
   "execution_count": null,
   "id": "9d583412-a5a0-456e-84be-1fb658ddf016",
   "metadata": {
    "execution": {
     "iopub.execute_input": "2025-05-11T14:38:49.787971Z",
     "iopub.status.busy": "2025-05-11T14:38:49.787840Z",
     "iopub.status.idle": "2025-05-11T14:38:50.909050Z",
     "shell.execute_reply": "2025-05-11T14:38:50.908437Z",
     "shell.execute_reply.started": "2025-05-11T14:38:49.787957Z"
    }
   },
   "outputs": [],
   "source": [
    "# Confirm that the version of the Science Pipelines is recent:\n",
    "! echo $HOSTNAME\n",
    "! eups list -s | grep lsst_distrib"
   ]
  },
  {
   "cell_type": "code",
   "execution_count": null,
   "id": "8fbb9671-7d8e-4724-8c58-0f0a4fb9e5f0",
   "metadata": {
    "execution": {
     "iopub.execute_input": "2025-05-11T14:38:50.909909Z",
     "iopub.status.busy": "2025-05-11T14:38:50.909749Z",
     "iopub.status.idle": "2025-05-11T14:38:52.262569Z",
     "shell.execute_reply": "2025-05-11T14:38:52.262039Z",
     "shell.execute_reply.started": "2025-05-11T14:38:50.909889Z"
    }
   },
   "outputs": [],
   "source": [
    "from lsst.daf.butler import Butler\n",
    "import lsst.geom as geom\n",
    "from lsst.geom import SpherePoint, degrees\n",
    "import lsst.afw.display as afwDisplay"
   ]
  },
  {
   "cell_type": "code",
   "execution_count": null,
   "id": "8983f25c-dadf-434b-bb84-e24a3150f766",
   "metadata": {
    "execution": {
     "iopub.execute_input": "2025-05-11T14:38:52.263446Z",
     "iopub.status.busy": "2025-05-11T14:38:52.263088Z",
     "iopub.status.idle": "2025-05-11T14:38:52.326520Z",
     "shell.execute_reply": "2025-05-11T14:38:52.326081Z",
     "shell.execute_reply.started": "2025-05-11T14:38:52.263430Z"
    }
   },
   "outputs": [],
   "source": [
    "afwDisplay.setDefaultBackend(\"firefly\")"
   ]
  },
  {
   "cell_type": "code",
   "execution_count": null,
   "id": "e814e3d6-750c-4e7f-a9a5-5bf1e2f7205f",
   "metadata": {
    "execution": {
     "iopub.execute_input": "2025-05-11T14:38:52.327741Z",
     "iopub.status.busy": "2025-05-11T14:38:52.327258Z",
     "iopub.status.idle": "2025-05-11T14:38:53.668455Z",
     "shell.execute_reply": "2025-05-11T14:38:53.667936Z",
     "shell.execute_reply.started": "2025-05-11T14:38:52.327724Z"
    }
   },
   "outputs": [],
   "source": [
    "import os\n",
    "import gc\n",
    "import glob\n",
    "import numpy as np\n",
    "import pandas as pd\n",
    "import random\n",
    "\n",
    "import astropy.units as u\n",
    "from astropy.coordinates import SkyCoord\n",
    "from astroquery.gaia import Gaia\n",
    "Gaia.MAIN_GAIA_TABLE = \"gaiadr3.gaia_source\"  # Reselect Data Release 3, default\n",
    "Gaia.ROW_LIMIT = 100000\n",
    "from astropy.visualization import (MinMaxInterval, AsinhStretch, ZScaleInterval, LogStretch, LinearStretch,\n",
    "                                   ImageNormalize)"
   ]
  },
  {
   "cell_type": "code",
   "execution_count": null,
   "id": "e68df967-7870-47da-a4dd-760df6732aa5",
   "metadata": {
    "execution": {
     "iopub.execute_input": "2025-05-11T14:38:53.669324Z",
     "iopub.status.busy": "2025-05-11T14:38:53.668984Z",
     "iopub.status.idle": "2025-05-11T14:38:54.361954Z",
     "shell.execute_reply": "2025-05-11T14:38:54.361471Z",
     "shell.execute_reply.started": "2025-05-11T14:38:53.669308Z"
    }
   },
   "outputs": [],
   "source": [
    "import seaborn as sns\n",
    "from itertools import cycle, islice"
   ]
  },
  {
   "cell_type": "code",
   "execution_count": null,
   "id": "f385c649-efb6-40a8-b9f7-ebc65c441a04",
   "metadata": {
    "execution": {
     "iopub.execute_input": "2025-05-11T14:38:54.362814Z",
     "iopub.status.busy": "2025-05-11T14:38:54.362511Z",
     "iopub.status.idle": "2025-05-11T14:38:54.365415Z",
     "shell.execute_reply": "2025-05-11T14:38:54.364974Z",
     "shell.execute_reply.started": "2025-05-11T14:38:54.362796Z"
    }
   },
   "outputs": [],
   "source": [
    "from astropy.time import Time\n",
    "from datetime import datetime, timedelta"
   ]
  },
  {
   "cell_type": "code",
   "execution_count": null,
   "id": "46c68d72-750b-4bb9-b92a-1fe6e1728171",
   "metadata": {
    "execution": {
     "iopub.execute_input": "2025-05-11T14:38:54.366112Z",
     "iopub.status.busy": "2025-05-11T14:38:54.365964Z",
     "iopub.status.idle": "2025-05-11T14:38:54.387553Z",
     "shell.execute_reply": "2025-05-11T14:38:54.387131Z",
     "shell.execute_reply.started": "2025-05-11T14:38:54.366097Z"
    }
   },
   "outputs": [],
   "source": [
    "import lsst\n",
    "import lsst.geom as geom\n",
    "from lsst.geom import Angle\n",
    "from lsst.geom import SpherePoint\n",
    "from lsst.geom import AngleUnit"
   ]
  },
  {
   "cell_type": "code",
   "execution_count": null,
   "id": "224cf803-f7cc-4e49-9dc9-46779557286e",
   "metadata": {
    "execution": {
     "iopub.execute_input": "2025-05-11T14:38:54.388328Z",
     "iopub.status.busy": "2025-05-11T14:38:54.388060Z",
     "iopub.status.idle": "2025-05-11T14:38:54.399927Z",
     "shell.execute_reply": "2025-05-11T14:38:54.399546Z",
     "shell.execute_reply.started": "2025-05-11T14:38:54.388312Z"
    }
   },
   "outputs": [],
   "source": [
    "def find_tract_patch_and_display(butler, skymap,ra_deg, dec_deg, band, framecount):\n",
    "    \"\"\"\n",
    "    - butler\n",
    "    - skymap\n",
    "    - ra_deg, dec_deg : source\n",
    "    - band\n",
    "    - framecount\n",
    "    \"\"\"\n",
    "    # Ouvrir le dépôt\n",
    "    #butler = Butler(repo)\n",
    "    #skymap = butler.get(\"skyMap\")\n",
    "    band_to_color = {\"u\":\"blue\",\"g\":\"green\",\"r\":\"red\",\"i\":\"orange\",\"z\":\"yellow\",\"y\":\"purple\"}\n",
    "\n",
    "    datasettype = \"objectTable_tract\"\n",
    "    therefs = butler.registry.queryDatasets(datasettype,  collections=collection)\n",
    "\n",
    "    # Créer le point céleste\n",
    "    coord = SpherePoint(ra_deg * degrees, dec_deg * degrees)\n",
    "\n",
    "\n",
    "    found = False\n",
    "    # loop only on existing tracts\n",
    "    \n",
    "    for ref in therefs:\n",
    "        tract_id = ref.dataId[\"tract\"]\n",
    "        tractInfo = skymap[tract_id]\n",
    "        if tractInfo.contains(coord):\n",
    "            patchInfo = tractInfo.findPatch(coord)\n",
    "            patch_id = patchInfo.getIndex()  # Tuple (x, y)\n",
    "            patch_indexseq = patchInfo.getSequentialIndex()\n",
    "            print(f\"Tract: {tract_id}, Patch: {patch_indexseq}\")\n",
    "            found = True\n",
    "            break\n",
    "    # Charger l’image coadd correspondante\n",
    "    dataId = {\"tract\": tract_id, \"patch\": patch_indexseq, \"band\": band,\"skymap\": skymapName}\n",
    "    #deepCoadd_calexp\n",
    "    coadd = butler.get(\"deepCoadd_calexp\", dataId)\n",
    "    # Récupération du WCS\n",
    "    wcs = coadd.getWcs()\n",
    "\n",
    "    datatitle = f\"deepcoadd-LSSTComCam : {tract_id} , {patch_indexseq} , {band}\"\n",
    "    print(datatitle)\n",
    "\n",
    "    # Affichage avec marqueur\n",
    "    \n",
    "    display = afwDisplay.Display(frame = framecount)\n",
    "    display.scale('asinh', 'zscale')\n",
    "    #afw_display.scale('linear', min=zmin, max=zmax)\n",
    "    #display.setImageColormap(cmap='grey')\n",
    "    display.setImageColormap(cmap='Grey_r')\n",
    "    display.mtv(coadd.getImage(),title=datatitle)\n",
    "\n",
    "    # Création du point céleste\n",
    "    pix_point = wcs.skyToPixel(coord)\n",
    "    x, y = pix_point.x,pix_point.y\n",
    "    \n",
    "    col = band_to_color[band] \n",
    "    display.dot(\"+\", x, y, size=50, ctype=col)\n",
    "    \n",
    "\n",
    "    \n",
    "    return tract_id, patch_indexseq, band"
   ]
  },
  {
   "cell_type": "code",
   "execution_count": null,
   "id": "2bbb53e9-e293-4ea7-ae47-c78930ce5d93",
   "metadata": {
    "execution": {
     "iopub.execute_input": "2025-05-11T14:38:54.400599Z",
     "iopub.status.busy": "2025-05-11T14:38:54.400365Z",
     "iopub.status.idle": "2025-05-11T14:38:54.416675Z",
     "shell.execute_reply": "2025-05-11T14:38:54.416291Z",
     "shell.execute_reply.started": "2025-05-11T14:38:54.400583Z"
    }
   },
   "outputs": [],
   "source": [
    "# https://pipelines.lsst.io/modules/lsst.geom/getting-started.html\n",
    "func_degToRad = lambda x : Angle(x,lsst.geom.degrees).asRadians()"
   ]
  },
  {
   "cell_type": "code",
   "execution_count": null,
   "id": "5af15c53-1d3f-42ee-81d8-508a2daa56c0",
   "metadata": {
    "execution": {
     "iopub.execute_input": "2025-05-11T14:38:54.417465Z",
     "iopub.status.busy": "2025-05-11T14:38:54.417132Z",
     "iopub.status.idle": "2025-05-11T14:38:54.440005Z",
     "shell.execute_reply": "2025-05-11T14:38:54.439614Z",
     "shell.execute_reply.started": "2025-05-11T14:38:54.417450Z"
    }
   },
   "outputs": [],
   "source": [
    "# Set plotting defaults\n",
    "%matplotlib inline\n",
    "import matplotlib.pyplot as plt\n",
    "from matplotlib.ticker import FormatStrFormatter\n",
    "from matplotlib.colors import ListedColormap\n",
    "from matplotlib import colors\n",
    "zscale = ZScaleInterval()\n",
    "\n",
    "# Set up some plotting defaults:\n",
    "plt.rcParams.update({'figure.figsize' : (12, 8)})\n",
    "plt.rcParams.update({'font.size' : 24})\n",
    "plt.rcParams.update({'axes.linewidth' : 3})\n",
    "plt.rcParams.update({'axes.labelweight' : 3})\n",
    "plt.rcParams.update({'axes.titleweight' : 5})\n",
    "plt.rcParams.update({'ytick.major.width' : 3})\n",
    "plt.rcParams.update({'ytick.minor.width' : 2})\n",
    "plt.rcParams.update({'ytick.major.size' : 8})\n",
    "plt.rcParams.update({'ytick.minor.size' : 5})\n",
    "plt.rcParams.update({'xtick.major.size' : 8})\n",
    "plt.rcParams.update({'xtick.minor.size' : 5})\n",
    "plt.rcParams.update({'xtick.major.width' : 3})\n",
    "plt.rcParams.update({'xtick.minor.width' : 2})\n",
    "plt.rcParams.update({'xtick.direction' : 'in'})\n",
    "plt.rcParams.update({'ytick.direction' : 'in'})\n"
   ]
  },
  {
   "cell_type": "code",
   "execution_count": null,
   "id": "8f02d7f7-cc18-4191-beb4-ad890c13b967",
   "metadata": {
    "execution": {
     "iopub.execute_input": "2025-05-11T14:38:54.440735Z",
     "iopub.status.busy": "2025-05-11T14:38:54.440456Z",
     "iopub.status.idle": "2025-05-11T14:38:54.443758Z",
     "shell.execute_reply": "2025-05-11T14:38:54.443384Z",
     "shell.execute_reply.started": "2025-05-11T14:38:54.440719Z"
    }
   },
   "outputs": [],
   "source": [
    "def nJy_to_ab_mag(f_njy):\n",
    "    \"\"\"Convert scalar or array flux in nJy to AB magnitude.\"\"\"\n",
    "    f_njy = np.asarray(f_njy)\n",
    "    mag = np.full_like(f_njy, fill_value=np.nan, dtype=float)\n",
    "    mask = f_njy > 0\n",
    "    mag[mask] = -2.5 * np.log10(f_njy[mask]) + 31.4\n",
    "    return mag\n",
    "\n",
    "\n",
    "def nJy_err_to_ab_err(f_njy, f_err):\n",
    "    \"\"\"Propagate flux error to magnitude error.\"\"\"\n",
    "    f_njy = np.asarray(f_njy)\n",
    "    f_err = np.asarray(f_err)\n",
    "    mag_err = np.full_like(f_njy, fill_value=np.nan, dtype=float)\n",
    "    mask = (f_njy > 0) & (f_err > 0)\n",
    "    mag_err[mask] = (2.5 / np.log(10)) * (f_err[mask] / f_njy[mask])\n",
    "    return mag_err\n"
   ]
  },
  {
   "cell_type": "code",
   "execution_count": null,
   "id": "88da0b26-88ce-41f8-b5b6-caf1c2d7afe0",
   "metadata": {
    "execution": {
     "iopub.execute_input": "2025-05-11T14:38:54.444304Z",
     "iopub.status.busy": "2025-05-11T14:38:54.444172Z",
     "iopub.status.idle": "2025-05-11T14:38:54.464598Z",
     "shell.execute_reply": "2025-05-11T14:38:54.464235Z",
     "shell.execute_reply.started": "2025-05-11T14:38:54.444291Z"
    }
   },
   "outputs": [],
   "source": [
    "def ab_mag_to_nJy(mag_ab):\n",
    "    \"\"\"Convert AB magnitude to flux in nanojanskys.\"\"\"\n",
    "    return 10 ** ((31.4 - mag_ab) / 2.5)\n"
   ]
  },
  {
   "cell_type": "markdown",
   "id": "a3f04297-3975-4baa-9e7f-146cd717904c",
   "metadata": {},
   "source": [
    "## 1) Build the table of AGN from the Vizier Catalog"
   ]
  },
  {
   "cell_type": "code",
   "execution_count": null,
   "id": "fdd48e59-d068-4c3c-a5f9-1c277959c9a1",
   "metadata": {
    "execution": {
     "iopub.execute_input": "2025-05-11T14:38:54.465359Z",
     "iopub.status.busy": "2025-05-11T14:38:54.465021Z",
     "iopub.status.idle": "2025-05-11T14:38:54.579554Z",
     "shell.execute_reply": "2025-05-11T14:38:54.579139Z",
     "shell.execute_reply.started": "2025-05-11T14:38:54.465344Z"
    }
   },
   "outputs": [],
   "source": [
    "from astroquery.vizier import Vizier\n",
    "from astropy.coordinates import SkyCoord\n",
    "import astropy.units as u"
   ]
  },
  {
   "cell_type": "code",
   "execution_count": null,
   "id": "ffc9c099-0200-4a2f-aea6-98e0369c4c6c",
   "metadata": {
    "execution": {
     "iopub.execute_input": "2025-05-11T14:38:54.580184Z",
     "iopub.status.busy": "2025-05-11T14:38:54.580048Z",
     "iopub.status.idle": "2025-05-11T14:38:54.582443Z",
     "shell.execute_reply": "2025-05-11T14:38:54.582056Z",
     "shell.execute_reply.started": "2025-05-11T14:38:54.580171Z"
    }
   },
   "outputs": [],
   "source": [
    "ECDFS_RA = 53.1\n",
    "ECDFS_DEC = -27.8\n",
    "ECDFS_COORD = SpherePoint(ECDFS_RA, ECDFS_DEC , degrees)"
   ]
  },
  {
   "cell_type": "code",
   "execution_count": null,
   "id": "4a3e4c07-1570-4588-976a-678132c11b09",
   "metadata": {
    "execution": {
     "iopub.execute_input": "2025-05-11T14:38:54.583046Z",
     "iopub.status.busy": "2025-05-11T14:38:54.582914Z",
     "iopub.status.idle": "2025-05-11T14:38:54.639605Z",
     "shell.execute_reply": "2025-05-11T14:38:54.639186Z",
     "shell.execute_reply.started": "2025-05-11T14:38:54.583033Z"
    }
   },
   "outputs": [],
   "source": [
    "# Coordonnées approximatives du centre du E-CDFS\n",
    "coord = SkyCoord(ra=ECDFS_RA, dec = ECDFS_DEC, unit=(u.deg, u.deg), frame='icrs')\n",
    "radius = 15 * u.arcmin\n",
    "\n",
    "# Exemple avec le catalogue Luo+2017 (7Ms CDF-S)\n",
    "catalog_id = \"J/ApJS/228/2\"\n",
    "result = Vizier(columns=[\"*\"]).query_region(coord, radius=radius, catalog=catalog_id)"
   ]
  },
  {
   "cell_type": "code",
   "execution_count": null,
   "id": "474756e6-6c8d-444f-961c-a5dad8b43648",
   "metadata": {
    "execution": {
     "iopub.execute_input": "2025-05-11T14:38:54.640218Z",
     "iopub.status.busy": "2025-05-11T14:38:54.640081Z",
     "iopub.status.idle": "2025-05-11T14:38:54.642798Z",
     "shell.execute_reply": "2025-05-11T14:38:54.642418Z",
     "shell.execute_reply.started": "2025-05-11T14:38:54.640204Z"
    }
   },
   "outputs": [],
   "source": [
    "sources_table = result['J/ApJS/228/2/sources']\n",
    "print(sources_table.colnames)"
   ]
  },
  {
   "cell_type": "code",
   "execution_count": null,
   "id": "1eff963d-56d8-413c-bce5-a0d779c34e99",
   "metadata": {
    "execution": {
     "iopub.execute_input": "2025-05-11T14:38:54.646269Z",
     "iopub.status.busy": "2025-05-11T14:38:54.645923Z",
     "iopub.status.idle": "2025-05-11T14:38:54.666637Z",
     "shell.execute_reply": "2025-05-11T14:38:54.666264Z",
     "shell.execute_reply.started": "2025-05-11T14:38:54.646255Z"
    }
   },
   "outputs": [],
   "source": [
    "# On calcule le log10 de LX\n",
    "logLX = np.log10(sources_table['LX'])\n",
    "\n",
    "# Et on l'ajoute comme nouvelle colonne à la table\n",
    "sources_table['logLX'] = logLX\n",
    "\n",
    "# Attention au nom exact de la colonne\n",
    "logLX = sources_table['logLX']\n",
    "is_agn = logLX > 42\n",
    "\n",
    "is_agn = sources_table['logLX'] > 42  # AGN si LX > 10^42 erg/s\n",
    "agn_table = sources_table[is_agn]"
   ]
  },
  {
   "cell_type": "code",
   "execution_count": null,
   "id": "61a131d7-b7bd-4098-af0e-ff9019ffcb23",
   "metadata": {
    "execution": {
     "iopub.execute_input": "2025-05-11T14:38:54.667211Z",
     "iopub.status.busy": "2025-05-11T14:38:54.667079Z",
     "iopub.status.idle": "2025-05-11T14:38:54.729455Z",
     "shell.execute_reply": "2025-05-11T14:38:54.729075Z",
     "shell.execute_reply.started": "2025-05-11T14:38:54.667198Z"
    }
   },
   "outputs": [],
   "source": [
    "agn_table[['RAJ2000', 'DEJ2000', 'logLX', 'LX', 'zspec']].pprint(max_lines=10)"
   ]
  },
  {
   "cell_type": "code",
   "execution_count": null,
   "id": "e902b64e-1149-4f50-8cf1-b5720ed24da6",
   "metadata": {
    "execution": {
     "iopub.execute_input": "2025-05-11T14:38:54.730029Z",
     "iopub.status.busy": "2025-05-11T14:38:54.729897Z",
     "iopub.status.idle": "2025-05-11T14:38:54.893785Z",
     "shell.execute_reply": "2025-05-11T14:38:54.893316Z",
     "shell.execute_reply.started": "2025-05-11T14:38:54.730017Z"
    }
   },
   "outputs": [],
   "source": [
    "galaxy_table = sources_table[sources_table['OType'] == 'Galaxy']"
   ]
  },
  {
   "cell_type": "code",
   "execution_count": null,
   "id": "b1edfa51-80a6-4d65-944d-c33a505049a3",
   "metadata": {
    "execution": {
     "iopub.execute_input": "2025-05-11T14:38:54.894396Z",
     "iopub.status.busy": "2025-05-11T14:38:54.894254Z",
     "iopub.status.idle": "2025-05-11T14:38:54.909167Z",
     "shell.execute_reply": "2025-05-11T14:38:54.908780Z",
     "shell.execute_reply.started": "2025-05-11T14:38:54.894383Z"
    }
   },
   "outputs": [],
   "source": [
    "galaxy_table[['RAJ2000', 'DEJ2000', 'logLX', 'LX', 'zspec']].pprint(max_lines=10)"
   ]
  },
  {
   "cell_type": "markdown",
   "id": "24980f69-ddd5-4c6b-b868-9f3dad599620",
   "metadata": {},
   "source": [
    "## Plot info from AGN Vizier catalog"
   ]
  },
  {
   "cell_type": "code",
   "execution_count": null,
   "id": "80a3a4fe-38f7-45ea-a7fd-cff3a4670722",
   "metadata": {
    "execution": {
     "iopub.execute_input": "2025-05-11T14:38:54.909804Z",
     "iopub.status.busy": "2025-05-11T14:38:54.909647Z",
     "iopub.status.idle": "2025-05-11T14:38:54.939649Z",
     "shell.execute_reply": "2025-05-11T14:38:54.939220Z",
     "shell.execute_reply.started": "2025-05-11T14:38:54.909790Z"
    }
   },
   "outputs": [],
   "source": [
    "df_galaxy = galaxy_table.to_pandas()\n",
    "df_agn = agn_table.to_pandas()"
   ]
  },
  {
   "cell_type": "code",
   "execution_count": null,
   "id": "14b5093d-cb0e-4cf8-98b4-0c66ec615abf",
   "metadata": {
    "execution": {
     "iopub.execute_input": "2025-05-11T14:38:54.940418Z",
     "iopub.status.busy": "2025-05-11T14:38:54.940145Z",
     "iopub.status.idle": "2025-05-11T14:38:55.148139Z",
     "shell.execute_reply": "2025-05-11T14:38:55.147704Z",
     "shell.execute_reply.started": "2025-05-11T14:38:54.940403Z"
    }
   },
   "outputs": [],
   "source": [
    "plt.figure(figsize=(14,5))\n",
    "\n",
    "plt.subplot(1, 2, 1)\n",
    "plt.hist(df_agn['zspec'].values, bins=20, color='green', alpha=0.7)\n",
    "plt.xlabel(\"Redshift zspec\")\n",
    "plt.ylabel(\"Nombre de sources\")\n",
    "plt.title(\"Distribution en redshift\")\n",
    "\n",
    "plt.subplot(1, 2, 2)\n",
    "plt.hist(df_agn['logLX'].values, bins=20, color='orange', alpha=0.7)\n",
    "plt.xlabel(\"log(Lx) [erg/s]\")\n",
    "plt.ylabel(\"Nombre de sources\")\n",
    "plt.title(\"Distribution de la luminosité X\")\n",
    "\n",
    "plt.tight_layout()\n",
    "plt.show()\n"
   ]
  },
  {
   "cell_type": "markdown",
   "id": "3506978f-3a1e-47a9-90c1-b576f17d092f",
   "metadata": {},
   "source": [
    "## Initialisation of rubin science pipeline\n",
    "- Check here the collection available : https://rubinobs.atlassian.net/wiki/spaces/DM/pages/226656354/LSSTComCam+Intermittent+Cumulative+DRP+Runs"
   ]
  },
  {
   "cell_type": "markdown",
   "id": "032c0193-0ca9-487a-943f-957dcea64a53",
   "metadata": {},
   "source": [
    "### Configuration"
   ]
  },
  {
   "cell_type": "code",
   "execution_count": null,
   "id": "58131b3b-f3bf-461a-8c71-d236e7d5e7fa",
   "metadata": {
    "execution": {
     "iopub.execute_input": "2025-05-11T14:38:55.148813Z",
     "iopub.status.busy": "2025-05-11T14:38:55.148666Z",
     "iopub.status.idle": "2025-05-11T14:38:55.151574Z",
     "shell.execute_reply": "2025-05-11T14:38:55.151204Z",
     "shell.execute_reply.started": "2025-05-11T14:38:55.148798Z"
    }
   },
   "outputs": [],
   "source": [
    "# The output repo is tagged with the Jira ticket number \"DM-40356\":\n",
    "repo = '/repo/main'\n",
    "#collection = 'LSSTComCam/runs/DRP/DP1/w_2025_05/DM-48666' # work\n",
    "#collection = 'LSSTComCam/runs/DRP/DP1/w_2025_06/DM-48810' # work\n",
    "collection = 'LSSTComCam/runs/DRP/DP1/w_2025_10/DM-49359' # work\n",
    "\n",
    "\n",
    "# bad : crash collection = 'LSSTComCam/runs/DRP/DP1/w_2025_08/DM-49029'\n",
    "\n",
    "# bad : collection = \"LSSTComCam/runs/DRP/20241101_20241211/w_2024_51/DM-48233\"\n",
    "\n",
    "# not working perhaps because I am using w_2025_10 version\n",
    "# bad : no ccd visit collection = \"LSSTComCam/runs/DRP/DP1/w_2025_14/DM-49864\"\n",
    "# bad : no ccd visit collection = 'LSSTComCam/runs/DRP/DP1/w_2025_15/DM-50050'\n",
    "# bad : no cce visit collection = 'LSSTComCam/runs/DRP/DP1/w_2025_14/DM-49864'\n",
    "# bad : no cce visit collection collection = 'LSSTComCam/runs/DRP/DP1/w_2025_13/DM-49751'\n",
    "\n",
    "\n",
    "instrument = \"LSSTComCam\"\n",
    "skymapName = \"lsst_cells_v1\"\n",
    "where_clause = \"instrument = \\'\" + instrument+ \"\\'\"\n",
    "collectionStr = collection.replace(\"/\", \"_\")"
   ]
  },
  {
   "cell_type": "code",
   "execution_count": null,
   "id": "5aaaded0-f204-4b81-a359-6b9872f7c21d",
   "metadata": {
    "execution": {
     "iopub.execute_input": "2025-05-11T14:38:55.152150Z",
     "iopub.status.busy": "2025-05-11T14:38:55.152022Z",
     "iopub.status.idle": "2025-05-11T14:38:55.168529Z",
     "shell.execute_reply": "2025-05-11T14:38:55.168159Z",
     "shell.execute_reply.started": "2025-05-11T14:38:55.152137Z"
    }
   },
   "outputs": [],
   "source": [
    "FLAG_DUMP_COLLECTIONS = False\n",
    "FLAG_DUMP_DATASETS = False\n",
    "FLAG_DUMP_OBJECTSTABLECOLUMNS = False\n",
    "FLAG_CUT_OBJECTSMAG = True\n",
    "FLAG_CUT_OBJECTSSNR = True"
   ]
  },
  {
   "cell_type": "code",
   "execution_count": null,
   "id": "a66ee4ac-6255-4779-bdb3-088bee0f7058",
   "metadata": {
    "execution": {
     "iopub.execute_input": "2025-05-11T14:38:55.169228Z",
     "iopub.status.busy": "2025-05-11T14:38:55.168980Z",
     "iopub.status.idle": "2025-05-11T14:38:55.236997Z",
     "shell.execute_reply": "2025-05-11T14:38:55.236526Z",
     "shell.execute_reply.started": "2025-05-11T14:38:55.169213Z"
    }
   },
   "outputs": [],
   "source": [
    "MAGCUT = 24.0\n",
    "SNRCUT = 5.0"
   ]
  },
  {
   "cell_type": "code",
   "execution_count": null,
   "id": "d60358a6-62e7-4cc4-9440-3b178d76abe2",
   "metadata": {
    "execution": {
     "iopub.execute_input": "2025-05-11T14:38:55.237815Z",
     "iopub.status.busy": "2025-05-11T14:38:55.237555Z",
     "iopub.status.idle": "2025-05-11T14:38:55.247945Z",
     "shell.execute_reply": "2025-05-11T14:38:55.247560Z",
     "shell.execute_reply.started": "2025-05-11T14:38:55.237798Z"
    }
   },
   "outputs": [],
   "source": [
    "all_bands = [\"u\", \"g\", \"r\", \"i\", \"z\", \"y\"]\n",
    "all_bands_colors = [\"blue\", \"green\", \"red\", \"orange\", \"yellow\", \"purple\"]"
   ]
  },
  {
   "cell_type": "markdown",
   "id": "e8f0113b-9e9a-46b8-9271-c4bde6d64679",
   "metadata": {},
   "source": [
    "### Initialisation of Butler"
   ]
  },
  {
   "cell_type": "code",
   "execution_count": null,
   "id": "804fcb8b-d567-4a27-b102-05ed002051c4",
   "metadata": {
    "execution": {
     "iopub.execute_input": "2025-05-11T14:38:55.248670Z",
     "iopub.status.busy": "2025-05-11T14:38:55.248410Z",
     "iopub.status.idle": "2025-05-11T14:38:55.669564Z",
     "shell.execute_reply": "2025-05-11T14:38:55.669081Z",
     "shell.execute_reply.started": "2025-05-11T14:38:55.248655Z"
    }
   },
   "outputs": [],
   "source": [
    "# Initialize the butler repo:\n",
    "butler = Butler(repo, collections=collection)\n",
    "registry = butler.registry"
   ]
  },
  {
   "cell_type": "code",
   "execution_count": null,
   "id": "03249edb-84b0-4f36-ae94-af25391b468e",
   "metadata": {
    "execution": {
     "iopub.execute_input": "2025-05-11T14:38:55.670263Z",
     "iopub.status.busy": "2025-05-11T14:38:55.670103Z",
     "iopub.status.idle": "2025-05-11T14:38:56.114349Z",
     "shell.execute_reply": "2025-05-11T14:38:56.113842Z",
     "shell.execute_reply.started": "2025-05-11T14:38:55.670243Z"
    }
   },
   "outputs": [],
   "source": [
    "skymap = butler.get('skyMap', skymap=skymapName, collections=collection)"
   ]
  },
  {
   "cell_type": "code",
   "execution_count": null,
   "id": "5b61a4a0-edcf-462f-be02-61502f79db0b",
   "metadata": {
    "execution": {
     "iopub.execute_input": "2025-05-11T14:38:56.115068Z",
     "iopub.status.busy": "2025-05-11T14:38:56.114921Z",
     "iopub.status.idle": "2025-05-11T14:38:56.620940Z",
     "shell.execute_reply": "2025-05-11T14:38:56.620478Z",
     "shell.execute_reply.started": "2025-05-11T14:38:56.115053Z"
    }
   },
   "outputs": [],
   "source": [
    "camera = butler.get(\"camera\", collections=collection, instrument=instrument)"
   ]
  },
  {
   "cell_type": "code",
   "execution_count": null,
   "id": "ef1ab817-3225-4cc3-82b5-37f86d1f33cc",
   "metadata": {
    "execution": {
     "iopub.execute_input": "2025-05-11T14:38:56.621847Z",
     "iopub.status.busy": "2025-05-11T14:38:56.621542Z",
     "iopub.status.idle": "2025-05-11T14:38:56.631037Z",
     "shell.execute_reply": "2025-05-11T14:38:56.627082Z",
     "shell.execute_reply.started": "2025-05-11T14:38:56.621829Z"
    }
   },
   "outputs": [],
   "source": [
    "# 4. Trouver dans quel tract/patch se trouve la coordonnée\n",
    "ECDFS_tract_info = skymap.findTract(ECDFS_COORD)"
   ]
  },
  {
   "cell_type": "code",
   "execution_count": null,
   "id": "d8becbb0-1595-447b-a2ea-fe81515fbd3a",
   "metadata": {
    "execution": {
     "iopub.execute_input": "2025-05-11T14:38:56.631853Z",
     "iopub.status.busy": "2025-05-11T14:38:56.631684Z",
     "iopub.status.idle": "2025-05-11T14:38:56.655990Z",
     "shell.execute_reply": "2025-05-11T14:38:56.655586Z",
     "shell.execute_reply.started": "2025-05-11T14:38:56.631838Z"
    }
   },
   "outputs": [],
   "source": [
    "print('Tract number for ECDFS ::',ECDFS_tract_info.getId())"
   ]
  },
  {
   "cell_type": "code",
   "execution_count": null,
   "id": "fa1992cb-691e-4408-a03b-2477c0bf052d",
   "metadata": {
    "execution": {
     "iopub.execute_input": "2025-05-11T14:38:56.656728Z",
     "iopub.status.busy": "2025-05-11T14:38:56.656441Z",
     "iopub.status.idle": "2025-05-11T14:38:56.701289Z",
     "shell.execute_reply": "2025-05-11T14:38:56.700904Z",
     "shell.execute_reply.started": "2025-05-11T14:38:56.656713Z"
    }
   },
   "outputs": [],
   "source": [
    "TRACTSEL = ECDFS_tract_info.getId()"
   ]
  },
  {
   "cell_type": "code",
   "execution_count": null,
   "id": "f9fa13a1-94b3-4fe1-9716-a05ec15f576c",
   "metadata": {
    "execution": {
     "iopub.execute_input": "2025-05-11T14:38:56.701885Z",
     "iopub.status.busy": "2025-05-11T14:38:56.701746Z",
     "iopub.status.idle": "2025-05-11T14:38:56.716890Z",
     "shell.execute_reply": "2025-05-11T14:38:56.716497Z",
     "shell.execute_reply.started": "2025-05-11T14:38:56.701872Z"
    }
   },
   "outputs": [],
   "source": [
    "print(f\"TRACT : {TRACTSEL}\")"
   ]
  },
  {
   "cell_type": "code",
   "execution_count": null,
   "id": "826aebd4-b08d-4259-a715-2274b75182c2",
   "metadata": {
    "execution": {
     "iopub.execute_input": "2025-05-11T14:38:56.717440Z",
     "iopub.status.busy": "2025-05-11T14:38:56.717313Z",
     "iopub.status.idle": "2025-05-11T14:38:56.726815Z",
     "shell.execute_reply": "2025-05-11T14:38:56.726452Z",
     "shell.execute_reply.started": "2025-05-11T14:38:56.717427Z"
    }
   },
   "outputs": [],
   "source": [
    "# Check here the collections available\n",
    "if FLAG_DUMP_COLLECTIONS:\n",
    "    for _ in sorted(registry.queryCollections(expression=instrument + \"/*\")):\n",
    "        if \"/calib/\" not in _ and \"u/\" not in _:\n",
    "            print(_)"
   ]
  },
  {
   "cell_type": "code",
   "execution_count": null,
   "id": "59563647-7ecd-4366-a7e8-eb2354393559",
   "metadata": {
    "execution": {
     "iopub.execute_input": "2025-05-11T14:38:56.727392Z",
     "iopub.status.busy": "2025-05-11T14:38:56.727263Z",
     "iopub.status.idle": "2025-05-11T14:38:56.734330Z",
     "shell.execute_reply": "2025-05-11T14:38:56.733967Z",
     "shell.execute_reply.started": "2025-05-11T14:38:56.727380Z"
    }
   },
   "outputs": [],
   "source": [
    "if FLAG_DUMP_DATASETS:\n",
    "    for datasetType in registry.queryDatasetTypes():\n",
    "        if registry.queryDatasets(datasetType, collections=collection_validation).any(\n",
    "            execute=False, exact=False\n",
    "        ):\n",
    "            # Limit search results to the data products\n",
    "            if (\n",
    "                (\"_config\" not in datasetType.name)\n",
    "                and (\"_log\" not in datasetType.name)\n",
    "                and (\"_metadata\" not in datasetType.name)\n",
    "                and (\"_resource_usage\" not in datasetType.name)\n",
    "                and (\"Plot\" not in datasetType.name)\n",
    "                and (\"Metric\" not in datasetType.name)\n",
    "                and (\"metric\" not in datasetType.name)\n",
    "                and ((\"Table\" in datasetType.name) or (\"Zeropointp\" in datasetType.name) or (\"fgcm\" in datasetType.name) or (\"transm\" in datasetType.name) or (\"Transm\" in datasetType.name)\n",
    "                or (\"source\" in datasetType.name) or (\"Source\" in datasetType.name) or (\"object\" in datasetType.name) or (\"Object\" in datasetType.name))\n",
    "            ):\n",
    "                \n",
    "                print(datasetType)"
   ]
  },
  {
   "cell_type": "markdown",
   "id": "57be8008-c849-440e-9bae-8649564d3373",
   "metadata": {},
   "source": [
    "### Get list of Tracts and Patches\n",
    "\n",
    "- Just to know which tracts are involved in the observations"
   ]
  },
  {
   "cell_type": "code",
   "execution_count": null,
   "id": "c0823ed5-9b23-4548-af23-12d707772667",
   "metadata": {
    "execution": {
     "iopub.execute_input": "2025-05-11T14:38:56.734899Z",
     "iopub.status.busy": "2025-05-11T14:38:56.734766Z",
     "iopub.status.idle": "2025-05-11T14:38:56.822230Z",
     "shell.execute_reply": "2025-05-11T14:38:56.821779Z",
     "shell.execute_reply.started": "2025-05-11T14:38:56.734886Z"
    }
   },
   "outputs": [],
   "source": [
    "datasettype = \"objectTable_tract\"\n",
    "therefs = butler.registry.queryDatasets(datasettype,  collections=collection)"
   ]
  },
  {
   "cell_type": "code",
   "execution_count": null,
   "id": "f810d737-c393-40bb-bc60-32e3706cf4a0",
   "metadata": {
    "execution": {
     "iopub.execute_input": "2025-05-11T14:38:56.822879Z",
     "iopub.status.busy": "2025-05-11T14:38:56.822744Z",
     "iopub.status.idle": "2025-05-11T14:38:56.833220Z",
     "shell.execute_reply": "2025-05-11T14:38:56.832788Z",
     "shell.execute_reply.started": "2025-05-11T14:38:56.822866Z"
    }
   },
   "outputs": [],
   "source": [
    "tractsId_list = np.unique([ref.dataId['tract'] for ref in therefs])\n",
    "tractsId_list = sorted(tractsId_list)\n",
    "print(tractsId_list)"
   ]
  },
  {
   "cell_type": "markdown",
   "id": "b20d2431-baf2-4f64-acdd-4301479d3981",
   "metadata": {
    "execution": {
     "iopub.execute_input": "2025-04-21T12:06:53.157322Z",
     "iopub.status.busy": "2025-04-21T12:06:53.157187Z",
     "iopub.status.idle": "2025-04-21T12:06:53.279027Z",
     "shell.execute_reply": "2025-04-21T12:06:53.278463Z",
     "shell.execute_reply.started": "2025-04-21T12:06:53.157309Z"
    }
   },
   "source": [
    "## Select AGN which are in the selected Patch"
   ]
  },
  {
   "cell_type": "code",
   "execution_count": null,
   "id": "6f2bea9b-889e-486d-a023-f2bf0e568f6a",
   "metadata": {
    "execution": {
     "iopub.execute_input": "2025-05-11T14:38:56.833827Z",
     "iopub.status.busy": "2025-05-11T14:38:56.833690Z",
     "iopub.status.idle": "2025-05-11T14:38:56.854610Z",
     "shell.execute_reply": "2025-05-11T14:38:56.854234Z",
     "shell.execute_reply.started": "2025-05-11T14:38:56.833814Z"
    }
   },
   "outputs": [],
   "source": [
    "df_agn[df_agn[\"zspec\"]<1.5]"
   ]
  },
  {
   "cell_type": "code",
   "execution_count": null,
   "id": "ee4d85d6-2e9a-4fff-9cbf-044565619bdc",
   "metadata": {
    "execution": {
     "iopub.execute_input": "2025-05-11T14:38:56.855309Z",
     "iopub.status.busy": "2025-05-11T14:38:56.855174Z",
     "iopub.status.idle": "2025-05-11T14:38:56.858745Z",
     "shell.execute_reply": "2025-05-11T14:38:56.858360Z",
     "shell.execute_reply.started": "2025-05-11T14:38:56.855297Z"
    }
   },
   "outputs": [],
   "source": [
    "galaxyindex_selected = []\n",
    "N =len(df_galaxy)\n",
    "for idx in range(N):\n",
    "    ra_target,dec_target = df_galaxy.iloc[idx][['RAJ2000','DEJ2000']]\n",
    "    target_point = SpherePoint(ra_target, dec_target, degrees)\n",
    "    if ECDFS_tract_info.contains(target_point):\n",
    "        galaxyindex_selected.append(idx)         "
   ]
  },
  {
   "cell_type": "code",
   "execution_count": null,
   "id": "e882f9ae-7f26-4593-bfe5-979699f26793",
   "metadata": {
    "execution": {
     "iopub.execute_input": "2025-05-11T14:38:56.859334Z",
     "iopub.status.busy": "2025-05-11T14:38:56.859198Z",
     "iopub.status.idle": "2025-05-11T14:38:56.875784Z",
     "shell.execute_reply": "2025-05-11T14:38:56.875320Z",
     "shell.execute_reply.started": "2025-05-11T14:38:56.859321Z"
    }
   },
   "outputs": [],
   "source": [
    "print(galaxyindex_selected)"
   ]
  },
  {
   "cell_type": "code",
   "execution_count": null,
   "id": "3acd9664-74f4-4dcc-abfc-80d3315ff166",
   "metadata": {
    "execution": {
     "iopub.execute_input": "2025-05-11T14:38:56.876384Z",
     "iopub.status.busy": "2025-05-11T14:38:56.876251Z",
     "iopub.status.idle": "2025-05-11T14:38:56.904885Z",
     "shell.execute_reply": "2025-05-11T14:38:56.904379Z",
     "shell.execute_reply.started": "2025-05-11T14:38:56.876371Z"
    }
   },
   "outputs": [],
   "source": [
    "agnindex_selected = []\n",
    "N =len(df_agn)\n",
    "for idx in range(N):\n",
    "    ra_target,dec_target = df_agn.iloc[idx][['RAJ2000','DEJ2000']]\n",
    "    target_point = SpherePoint(ra_target, dec_target, degrees)\n",
    "    if ECDFS_tract_info.contains(target_point):\n",
    "        agnindex_selected.append(idx)         "
   ]
  },
  {
   "cell_type": "code",
   "execution_count": null,
   "id": "21e97d92-72b3-48f2-b1a5-b1d96b5faadc",
   "metadata": {
    "execution": {
     "iopub.execute_input": "2025-05-11T14:38:56.905670Z",
     "iopub.status.busy": "2025-05-11T14:38:56.905461Z",
     "iopub.status.idle": "2025-05-11T14:38:56.918848Z",
     "shell.execute_reply": "2025-05-11T14:38:56.918388Z",
     "shell.execute_reply.started": "2025-05-11T14:38:56.905656Z"
    }
   },
   "outputs": [],
   "source": [
    "print(agnindex_selected)"
   ]
  },
  {
   "cell_type": "code",
   "execution_count": null,
   "id": "b5717a3a-6977-4592-b726-1f7781ee97a7",
   "metadata": {
    "execution": {
     "iopub.execute_input": "2025-05-11T14:38:56.919487Z",
     "iopub.status.busy": "2025-05-11T14:38:56.919350Z",
     "iopub.status.idle": "2025-05-11T14:38:56.928540Z",
     "shell.execute_reply": "2025-05-11T14:38:56.928158Z",
     "shell.execute_reply.started": "2025-05-11T14:38:56.919471Z"
    }
   },
   "outputs": [],
   "source": [
    "index_agn_selected = 0\n",
    "index_galaxy_selected = 0\n",
    "FLAG_AGN_SELECTED  = False"
   ]
  },
  {
   "cell_type": "code",
   "execution_count": null,
   "id": "e8b3a6dd-354b-4d2f-80e3-01a6da4d62d7",
   "metadata": {
    "execution": {
     "iopub.execute_input": "2025-05-11T14:38:56.929166Z",
     "iopub.status.busy": "2025-05-11T14:38:56.929033Z",
     "iopub.status.idle": "2025-05-11T14:38:56.943810Z",
     "shell.execute_reply": "2025-05-11T14:38:56.943438Z",
     "shell.execute_reply.started": "2025-05-11T14:38:56.929153Z"
    }
   },
   "outputs": [],
   "source": [
    "if FLAG_AGN_SELECTED: \n",
    "    ra_target,dec_target = df_agn.iloc[index_agn_selected ][['RAJ2000','DEJ2000']]\n",
    "    target_point = SpherePoint(ra_target, dec_target, degrees)\n",
    "    target_coord = SkyCoord(ra=ra_target*u.deg, dec=dec_target*u.deg)\n",
    "    logLx = df_agn.iloc[index_agn_selected ]['logLX']\n",
    "    zspec = df_agn.iloc[index_agn_selected ]['zspec']\n",
    "    target_title = f\"agn :: {index_agn_selected}, log L(erg/s) = {logLx:.2f} , zspec = {zspec:.2f}, (ra,dec) = {ra_target:.5f},{dec_target:.5f}\"\n",
    "else:\n",
    "    ra_target,dec_target = df_galaxy.iloc[index_galaxy_selected ][['RAJ2000','DEJ2000']]\n",
    "    target_point = SpherePoint(ra_target, dec_target, degrees)\n",
    "    target_coord = SkyCoord(ra=ra_target*u.deg, dec=dec_target*u.deg)\n",
    "    logLx = df_galaxy.iloc[index_galaxy_selected ]['logLX']\n",
    "    zspec = df_galaxy.iloc[index_galaxy_selected ]['zspec']\n",
    "    target_title = f\"galaxy :: {index_galaxy_selected}, log L(erg/s) = {logLx:.2f} , zspec = {zspec:.2f}, (ra,dec) = {ra_target:.5f},{dec_target:.5f}\"\n",
    "    "
   ]
  },
  {
   "cell_type": "markdown",
   "id": "5022ca8c-d08a-40f7-b8b1-9a9f56d394f2",
   "metadata": {},
   "source": [
    "## Define the Stack DM product used for the DIA analysis"
   ]
  },
  {
   "cell_type": "code",
   "execution_count": null,
   "id": "ae40f327-7e25-46aa-832f-7feaaf526420",
   "metadata": {
    "execution": {
     "iopub.execute_input": "2025-05-11T14:38:56.944406Z",
     "iopub.status.busy": "2025-05-11T14:38:56.944275Z",
     "iopub.status.idle": "2025-05-11T14:38:57.022637Z",
     "shell.execute_reply": "2025-05-11T14:38:57.022221Z",
     "shell.execute_reply.started": "2025-05-11T14:38:56.944393Z"
    }
   },
   "outputs": [],
   "source": [
    "datasettype =  'forcedSourceOnDiaObjectTable'\n",
    "#datasettype =  'diaSourceTable_tract'\n",
    "#datasettype = 'goodSeeingDiff_assocSsSrcTable' # bad table\n",
    "therefs = butler.registry.queryDatasets(datasettype,  collections=collection)"
   ]
  },
  {
   "cell_type": "code",
   "execution_count": null,
   "id": "3cc6ba9a-7fd8-4a08-927a-dda396deda30",
   "metadata": {
    "execution": {
     "iopub.execute_input": "2025-05-11T14:38:57.023363Z",
     "iopub.status.busy": "2025-05-11T14:38:57.023228Z",
     "iopub.status.idle": "2025-05-11T14:38:57.025780Z",
     "shell.execute_reply": "2025-05-11T14:38:57.025427Z",
     "shell.execute_reply.started": "2025-05-11T14:38:57.023350Z"
    }
   },
   "outputs": [],
   "source": [
    "if FLAG_AGN_SELECTED: \n",
    "    figname1 = f\"agn_{index_agn_selected}_{datasettype}_v1.png\"\n",
    "    figname2 = f\"agn_{index_agn_selected}_{datasettype}_v2.png\"\n",
    "else:\n",
    "    figname1 = f\"galaxy_{index_agn_selected}_{datasettype}_v1.png\"\n",
    "    figname2 = f\"galaxy_{index_agn_selected}_{datasettype}_v2.png\""
   ]
  },
  {
   "cell_type": "code",
   "execution_count": null,
   "id": "b2990d7a-23fb-494f-b24a-845550403cfb",
   "metadata": {
    "execution": {
     "iopub.execute_input": "2025-05-11T14:38:57.026335Z",
     "iopub.status.busy": "2025-05-11T14:38:57.026206Z",
     "iopub.status.idle": "2025-05-11T14:40:38.638384Z",
     "shell.execute_reply": "2025-05-11T14:40:38.637873Z",
     "shell.execute_reply.started": "2025-05-11T14:38:57.026323Z"
    }
   },
   "outputs": [],
   "source": [
    "all_tables = []\n",
    "\n",
    "for count,ref in enumerate(therefs):\n",
    "    the_id = ref.dataId\n",
    "    the_tract_id = the_id[\"tract\"] \n",
    "    # select the visits in that Tract (ECDFS)\n",
    "    if the_tract_id == TRACTSEL: \n",
    "        catalog = butler.get(ref)\n",
    "        #catalog[\"dateobs\"] = catalog.apply(lambda x: x['visit']//100_000, axis=1)\n",
    "        #catalog[\"seq\"] = catalog[\"visit\"] - catalog[\"dateobs\"]*100_000\n",
    "        #t[\"ra_rad\"] = t[\"coord_ra\"].apply(func_degToRad)  \n",
    "        #t[\"ra_dec\"] = t[\"coord_dec\"].apply(func_degToRad)  \n",
    "        ra = catalog[\"coord_ra\"].values\n",
    "        dec = catalog[\"coord_dec\"].values\n",
    "        # Créer tous les points du catalogue\n",
    "        #points = [SpherePoint(r, d, degrees) for r, d in zip(ra, dec)]\n",
    "        catalog_coords = SkyCoord(ra=ra*u.deg, dec=dec*u.deg)\n",
    "\n",
    "        # Calculer la distance angulaire à la cible (en arcsec)\n",
    "        #distances_arcsec = np.array([pt.separation(target_point).asArcseconds() for pt in points])\n",
    "        # 5. Calcul vectorisé des distances (résultat en arcsec)\n",
    "        distances_arcsec = target_coord.separation(catalog_coords).arcsecond\n",
    "        catalog[\"sep\"] = distances_arcsec\n",
    "\n",
    "        # 5. Sélectionner les objets proches (ex: < 1.5 arcsec)\n",
    "        if datasettype ==  'forcedSourceOnDiaObjectTable':\n",
    "            radius_arcsec = 3\n",
    "        elif datasettype ==  'diaSourceTable_tract':\n",
    "            radius_arcsec = 5\n",
    "        elif datasettype == 'goodSeeingDiff_assocSsSrcTable':\n",
    "            radius_arcsec = 5\n",
    "        else:\n",
    "            radius_arcsec = 3\n",
    "\n",
    "        # select\n",
    "        nearby = catalog[distances_arcsec < radius_arcsec]\n",
    "        \n",
    "        if len(nearby) > 0 :\n",
    "            #print(nearby)\n",
    "            all_tables.append(nearby)  \n",
    "            #break\n",
    "\n",
    "        #if(len(all_tables)>10):\n",
    "        #    break\n",
    "   "
   ]
  },
  {
   "cell_type": "code",
   "execution_count": null,
   "id": "dc2e290d-3fef-4989-a4ca-6e57b502eaac",
   "metadata": {
    "execution": {
     "iopub.execute_input": "2025-05-11T14:40:38.639184Z",
     "iopub.status.busy": "2025-05-11T14:40:38.639047Z",
     "iopub.status.idle": "2025-05-11T14:40:38.642337Z",
     "shell.execute_reply": "2025-05-11T14:40:38.641980Z",
     "shell.execute_reply.started": "2025-05-11T14:40:38.639171Z"
    }
   },
   "outputs": [],
   "source": [
    "len(all_tables)"
   ]
  },
  {
   "cell_type": "code",
   "execution_count": null,
   "id": "23306ca1-a7e6-4280-b9d7-0b199c046db9",
   "metadata": {
    "execution": {
     "iopub.execute_input": "2025-05-11T14:40:38.642856Z",
     "iopub.status.busy": "2025-05-11T14:40:38.642735Z",
     "iopub.status.idle": "2025-05-11T14:40:38.651781Z",
     "shell.execute_reply": "2025-05-11T14:40:38.651426Z",
     "shell.execute_reply.started": "2025-05-11T14:40:38.642844Z"
    }
   },
   "outputs": [],
   "source": [
    "t = all_tables[0]"
   ]
  },
  {
   "cell_type": "code",
   "execution_count": null,
   "id": "e72f6c28-0998-497b-bebf-a243f0189c3b",
   "metadata": {
    "execution": {
     "iopub.execute_input": "2025-05-11T14:40:38.652322Z",
     "iopub.status.busy": "2025-05-11T14:40:38.652197Z",
     "iopub.status.idle": "2025-05-11T14:40:38.740927Z",
     "shell.execute_reply": "2025-05-11T14:40:38.740484Z",
     "shell.execute_reply.started": "2025-05-11T14:40:38.652310Z"
    }
   },
   "outputs": [],
   "source": [
    "fig, ax = plt.subplots(1,1,figsize=(6,4))\n",
    "t[\"sep\"].hist(bins=50,ax=ax)\n",
    "plt.show()"
   ]
  },
  {
   "cell_type": "code",
   "execution_count": null,
   "id": "ee669cab-c892-47fc-982f-967081d452f7",
   "metadata": {
    "execution": {
     "iopub.execute_input": "2025-05-11T14:40:38.741571Z",
     "iopub.status.busy": "2025-05-11T14:40:38.741433Z",
     "iopub.status.idle": "2025-05-11T14:40:38.744639Z",
     "shell.execute_reply": "2025-05-11T14:40:38.744272Z",
     "shell.execute_reply.started": "2025-05-11T14:40:38.741557Z"
    }
   },
   "outputs": [],
   "source": [
    "t = t[t[\"sep\"]<3.5]"
   ]
  },
  {
   "cell_type": "markdown",
   "id": "112094be-7b12-475f-8faa-7133b3b1b936",
   "metadata": {},
   "source": [
    "### Split visit into dayobs and seq"
   ]
  },
  {
   "cell_type": "code",
   "execution_count": null,
   "id": "453798ec-0d66-4278-b8c3-a9ea4e1cf25b",
   "metadata": {
    "execution": {
     "iopub.execute_input": "2025-05-11T14:40:38.745204Z",
     "iopub.status.busy": "2025-05-11T14:40:38.745077Z",
     "iopub.status.idle": "2025-05-11T14:40:38.762167Z",
     "shell.execute_reply": "2025-05-11T14:40:38.761789Z",
     "shell.execute_reply.started": "2025-05-11T14:40:38.745192Z"
    }
   },
   "outputs": [],
   "source": [
    "t[\"dateobs\"] = t.apply(lambda x: x['visit']//100_000, axis=1)\n",
    "t[\"seq\"] = t[\"visit\"] - t[\"dateobs\"]*100_000"
   ]
  },
  {
   "cell_type": "code",
   "execution_count": null,
   "id": "c1b5a1a1-1e84-451f-b340-8371c9fbffac",
   "metadata": {
    "execution": {
     "iopub.execute_input": "2025-05-11T14:40:38.762843Z",
     "iopub.status.busy": "2025-05-11T14:40:38.762590Z",
     "iopub.status.idle": "2025-05-11T14:40:38.778383Z",
     "shell.execute_reply": "2025-05-11T14:40:38.778023Z",
     "shell.execute_reply.started": "2025-05-11T14:40:38.762830Z"
    }
   },
   "outputs": [],
   "source": [
    "t[\"seq\"]"
   ]
  },
  {
   "cell_type": "code",
   "execution_count": null,
   "id": "3b3663e0-bc24-4d76-8fed-92781be70fd5",
   "metadata": {
    "execution": {
     "iopub.execute_input": "2025-05-11T14:40:38.778943Z",
     "iopub.status.busy": "2025-05-11T14:40:38.778817Z",
     "iopub.status.idle": "2025-05-11T14:40:38.789510Z",
     "shell.execute_reply": "2025-05-11T14:40:38.789131Z",
     "shell.execute_reply.started": "2025-05-11T14:40:38.778931Z"
    }
   },
   "outputs": [],
   "source": [
    "t[\"mags\"] = t[\"psfFlux\"].apply(lambda flux : -2.5 * np.log10(flux) + 31.4)\n",
    "t[\"valid\"] = (t[\"psfFlux\"] >0) & (~t[\"psfFlux_flag\"])\n",
    "visit_list = t[\"visit\"].astype(int)"
   ]
  },
  {
   "cell_type": "markdown",
   "id": "8ef1ef5c-7a4c-475f-9fe3-3e9384409943",
   "metadata": {
    "execution": {
     "iopub.execute_input": "2025-04-21T13:39:44.974222Z",
     "iopub.status.busy": "2025-04-21T13:39:44.973998Z",
     "iopub.status.idle": "2025-04-21T13:39:44.976793Z",
     "shell.execute_reply": "2025-04-21T13:39:44.976436Z",
     "shell.execute_reply.started": "2025-04-21T13:39:44.974206Z"
    }
   },
   "source": [
    "#### Find the time associated to a visit"
   ]
  },
  {
   "cell_type": "code",
   "execution_count": null,
   "id": "7ee3d646-b857-4019-b71e-e1d447fe292e",
   "metadata": {
    "execution": {
     "iopub.execute_input": "2025-05-11T14:40:38.790095Z",
     "iopub.status.busy": "2025-05-11T14:40:38.789968Z",
     "iopub.status.idle": "2025-05-11T14:40:38.979162Z",
     "shell.execute_reply": "2025-05-11T14:40:38.978731Z",
     "shell.execute_reply.started": "2025-05-11T14:40:38.790083Z"
    }
   },
   "outputs": [],
   "source": [
    "# On interroge la table visitDefinition\n",
    "rows = registry.queryDimensionRecords(\"visit\", where=f\"visit in {tuple(visit_list)}\")\n",
    "\n",
    "# 4. Construire un tableau des résultats\n",
    "results = []\n",
    "for row in rows:\n",
    "    visit_id = row.id\n",
    "\n",
    "    # Extraire l'instant de début de l'observation (Time astropy)\n",
    "    start_time = row.timespan.begin\n",
    "\n",
    "    # Convertir en MJD et ISO\n",
    "    mjd = start_time.to_value(\"mjd\")  # Ex: 60384.28718\n",
    "    isot = start_time.to_value(\"isot\")  # Ex: '2024-04-19 06:53:32.000'\n",
    "    \n",
    "    #mjd = row.startDate.toMjd()\n",
    "    #utc = Time(mjd, format='mjd', scale='utc').to_value('iso')\n",
    "    results.append({\"visit\": visit_id, \"mjd\": mjd, \"isot\": isot})\n",
    "\n",
    "df_times = pd.DataFrame(results).sort_values(\"visit\")\n",
    "df_times.set_index(\"visit\",inplace=True)"
   ]
  },
  {
   "cell_type": "code",
   "execution_count": null,
   "id": "65027963-05cf-4df4-ae5f-79aa70eeaa57",
   "metadata": {
    "execution": {
     "iopub.execute_input": "2025-05-11T14:40:38.979801Z",
     "iopub.status.busy": "2025-05-11T14:40:38.979656Z",
     "iopub.status.idle": "2025-05-11T14:40:39.017585Z",
     "shell.execute_reply": "2025-05-11T14:40:39.017237Z",
     "shell.execute_reply.started": "2025-05-11T14:40:38.979787Z"
    }
   },
   "outputs": [],
   "source": [
    "t[\"mjd\"] = t[\"visit\"].apply(lambda x: df_times.loc[x][\"mjd\"])\n",
    "t[\"isot\"] = t[\"visit\"].apply(lambda x: df_times.loc[x][\"isot\"])"
   ]
  },
  {
   "cell_type": "code",
   "execution_count": null,
   "id": "070b3a61-c473-4887-9c67-04b0c2ca39d2",
   "metadata": {
    "execution": {
     "iopub.execute_input": "2025-05-11T14:40:39.018245Z",
     "iopub.status.busy": "2025-05-11T14:40:39.018012Z",
     "iopub.status.idle": "2025-05-11T14:40:39.046271Z",
     "shell.execute_reply": "2025-05-11T14:40:39.045913Z",
     "shell.execute_reply.started": "2025-05-11T14:40:39.018231Z"
    }
   },
   "outputs": [],
   "source": [
    "tb = {}\n",
    "for band in [\"u\", \"g\", \"r\", \"i\", \"z\", \"y\"]:\n",
    "    tb[band] = t[t[\"band\"] == band]"
   ]
  },
  {
   "cell_type": "markdown",
   "id": "eb153e8f-c5b1-439f-a4f1-ca836c771294",
   "metadata": {},
   "source": [
    "## Plot light curves"
   ]
  },
  {
   "cell_type": "code",
   "execution_count": null,
   "id": "ccddae1e-0100-428d-96c9-8e8a99653c1e",
   "metadata": {
    "execution": {
     "iopub.execute_input": "2025-05-11T14:40:39.046824Z",
     "iopub.status.busy": "2025-05-11T14:40:39.046688Z",
     "iopub.status.idle": "2025-05-11T14:40:39.065204Z",
     "shell.execute_reply": "2025-05-11T14:40:39.064855Z",
     "shell.execute_reply.started": "2025-05-11T14:40:39.046812Z"
    }
   },
   "outputs": [],
   "source": [
    "band_to_col = {\"u\":\"b\", \"g\":\"g\", \"r\":\"r\", \"i\":\"orange\", \"z\":\"grey\", \"y\":\"k\"}"
   ]
  },
  {
   "cell_type": "code",
   "execution_count": null,
   "id": "f816d35d-5402-4611-9b13-f431e3ddd8b2",
   "metadata": {
    "execution": {
     "iopub.execute_input": "2025-05-11T14:40:39.065754Z",
     "iopub.status.busy": "2025-05-11T14:40:39.065620Z",
     "iopub.status.idle": "2025-05-11T14:40:40.163307Z",
     "shell.execute_reply": "2025-05-11T14:40:40.162836Z",
     "shell.execute_reply.started": "2025-05-11T14:40:39.065742Z"
    }
   },
   "outputs": [],
   "source": [
    "fig,axs = plt.subplots(6,1,figsize=(18,16),sharex=True,layout=\"constrained\")\n",
    "\n",
    "for idx,band in enumerate([\"u\", \"g\", \"r\", \"i\", \"z\", \"y\"]):\n",
    "    ax =axs[idx]\n",
    "    ax.scatter(tb[band].mjd, tb[band].mags,color=band_to_col[band])\n",
    "    ax.set_ylabel(\"mag_psfFlux\")\n",
    "    if idx==0:\n",
    "        ax.set_title(target_title,fontweight = \"bold\")\n",
    "ax.set_xlabel(\"mjd\")\n",
    "\n",
    "subtitle = collectionStr + \"_\" + datasettype\n",
    "plt.suptitle(subtitle)\n",
    "#plt.tight_layout()\n",
    "plt.savefig(figname1)\n",
    "plt.show()"
   ]
  },
  {
   "cell_type": "code",
   "execution_count": null,
   "id": "fd05015f-cec0-46eb-aa13-39e222116d39",
   "metadata": {
    "execution": {
     "iopub.execute_input": "2025-05-11T14:40:40.164142Z",
     "iopub.status.busy": "2025-05-11T14:40:40.163991Z",
     "iopub.status.idle": "2025-05-11T14:40:40.622706Z",
     "shell.execute_reply": "2025-05-11T14:40:40.622244Z",
     "shell.execute_reply.started": "2025-05-11T14:40:40.164127Z"
    }
   },
   "outputs": [],
   "source": [
    "fig,ax = plt.subplots(1,1,figsize=(18,8),sharex=True,layout=\"constrained\")\n",
    "\n",
    "for idx,band in enumerate([\"u\", \"g\", \"r\", \"i\", \"z\", \"y\"]):\n",
    "    ax.scatter(tb[band].mjd, tb[band].mags,color=band_to_col[band])\n",
    "\n",
    "ax.set_ylabel(\"mag_psfFlux\")\n",
    "ax.set_title(target_title,fontweight = \"bold\")\n",
    "ax.set_xlabel(\"mjd\")\n",
    "\n",
    "subtitle = collectionStr + \"_\" + datasettype\n",
    "plt.suptitle(subtitle)\n",
    "#plt.tight_layout()\n",
    "plt.savefig(figname2)\n",
    "plt.show()"
   ]
  },
  {
   "cell_type": "markdown",
   "id": "2651f1e7-a6e8-4702-a5b3-5d85c6b7b9ca",
   "metadata": {},
   "source": [
    "## Plot the deepCoadds"
   ]
  },
  {
   "cell_type": "code",
   "execution_count": null,
   "id": "1bbeeb36-aee2-4165-a061-740e0f939451",
   "metadata": {
    "execution": {
     "iopub.execute_input": "2025-05-11T14:40:40.623407Z",
     "iopub.status.busy": "2025-05-11T14:40:40.623259Z",
     "iopub.status.idle": "2025-05-11T14:40:50.788399Z",
     "shell.execute_reply": "2025-05-11T14:40:50.787852Z",
     "shell.execute_reply.started": "2025-05-11T14:40:40.623392Z"
    }
   },
   "outputs": [],
   "source": [
    "\n",
    "framecount = 0\n",
    "for iband,band in enumerate(all_bands):\n",
    "    framecount +=1\n",
    "    find_tract_patch_and_display(butler, skymap,ra_target, dec_target, band,framecount=framecount)"
   ]
  },
  {
   "cell_type": "code",
   "execution_count": null,
   "id": "c0ff101d-3672-456c-a365-eb84a67fb561",
   "metadata": {},
   "outputs": [],
   "source": []
  }
 ],
 "metadata": {
  "kernelspec": {
   "display_name": "LSST",
   "language": "python",
   "name": "lsst"
  },
  "language_info": {
   "codemirror_mode": {
    "name": "ipython",
    "version": 3
   },
   "file_extension": ".py",
   "mimetype": "text/x-python",
   "name": "python",
   "nbconvert_exporter": "python",
   "pygments_lexer": "ipython3",
   "version": "3.12.10"
  }
 },
 "nbformat": 4,
 "nbformat_minor": 5
}
