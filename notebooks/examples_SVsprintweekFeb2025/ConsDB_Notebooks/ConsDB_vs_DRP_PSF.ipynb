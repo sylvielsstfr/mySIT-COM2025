{
 "cells": [
  {
   "cell_type": "markdown",
   "id": "826c6fb4-d2a2-4bae-bfa9-061a585ebf80",
   "metadata": {},
   "source": [
    "Notebook to do a direct comparison between the PSF second moments published in the ConsDB vs the DRP to make sure they are not very divergent"
   ]
  },
  {
   "cell_type": "code",
   "execution_count": null,
   "id": "d9170f34-bf3d-4223-a737-89f81fe22a96",
   "metadata": {
    "execution": {
     "iopub.execute_input": "2025-04-16T08:14:16.652381Z",
     "iopub.status.busy": "2025-04-16T08:14:16.652250Z",
     "iopub.status.idle": "2025-04-16T08:14:43.149571Z",
     "shell.execute_reply": "2025-04-16T08:14:43.149030Z",
     "shell.execute_reply.started": "2025-04-16T08:14:16.652367Z"
    }
   },
   "outputs": [],
   "source": [
    "from lsst.summit.utils import ConsDbClient"
   ]
  },
  {
   "cell_type": "code",
   "execution_count": null,
   "id": "c9637cf5-efa5-4842-b39c-1e22ce097b1b",
   "metadata": {
    "execution": {
     "iopub.execute_input": "2025-04-16T08:14:43.150679Z",
     "iopub.status.busy": "2025-04-16T08:14:43.150102Z",
     "iopub.status.idle": "2025-04-16T08:14:43.201494Z",
     "shell.execute_reply": "2025-04-16T08:14:43.201086Z",
     "shell.execute_reply.started": "2025-04-16T08:14:43.150662Z"
    }
   },
   "outputs": [],
   "source": [
    "import numpy as np\n",
    "from astropy.table import Table, join\n",
    "from astropy.time import Time\n",
    "\n",
    "import matplotlib.pyplot as plt\n",
    "import matplotlib.dates as mdates\n",
    "import seaborn as sns\n",
    "%matplotlib widget\n",
    "\n",
    "from lsst.meas.algorithms.installGaussianPsf import FwhmPerSigma\n",
    "\n",
    "from tqdm.notebook import tqdm"
   ]
  },
  {
   "cell_type": "code",
   "execution_count": null,
   "id": "0544817e-3b37-43d6-a52e-ee582145a407",
   "metadata": {
    "execution": {
     "iopub.execute_input": "2025-04-16T08:14:43.202376Z",
     "iopub.status.busy": "2025-04-16T08:14:43.201958Z",
     "iopub.status.idle": "2025-04-16T08:14:43.205982Z",
     "shell.execute_reply": "2025-04-16T08:14:43.205598Z",
     "shell.execute_reply.started": "2025-04-16T08:14:43.202362Z"
    }
   },
   "outputs": [],
   "source": [
    "def getAirmassSeeingCorrection(airmass: float) -> float:\n",
    "    \"\"\"Get the correction factor for seeing due to airmass.\n",
    "\n",
    "    Parameters\n",
    "    ----------\n",
    "    airmass : `float`\n",
    "        The airmass, greater than or equal to 1.\n",
    "\n",
    "    Returns\n",
    "    -------\n",
    "    correctionFactor : `float`\n",
    "        The correction factor to apply to the seeing.\n",
    "\n",
    "    Raises\n",
    "    ------\n",
    "        ValueError raised for unphysical airmasses.\n",
    "    \"\"\"\n",
    "    if airmass < 1:\n",
    "        raise ValueError(f\"Invalid airmass: {airmass}\")\n",
    "    return airmass ** (-0.6)\n",
    "\n",
    "def getBandpassSeeingCorrection(filterName: str) -> float:\n",
    "    \"\"\"Get the correction factor for seeing due to a filter.\n",
    "\n",
    "    Parameters\n",
    "    ----------\n",
    "    filterName : `str`\n",
    "        The name of the filter, e.g. 'SDSSg_65mm'.\n",
    "\n",
    "    Returns\n",
    "    -------\n",
    "    correctionFactor : `float`\n",
    "        The correction factor to apply to the seeing.\n",
    "\n",
    "    Raises\n",
    "    ------\n",
    "        ValueError raised for unknown filters.\n",
    "    \"\"\"\n",
    "    match filterName:\n",
    "        case \"SDSSg_65mm\":  # LATISS\n",
    "            return (474.41 / 500.0) ** 0.2\n",
    "        case \"SDSSr_65mm\":  # LATISS\n",
    "            return (628.47 / 500.0) ** 0.2\n",
    "        case \"SDSSi_65mm\":  # LATISS\n",
    "            return (769.51 / 500.0) ** 0.2\n",
    "        case \"SDSSz_65mm\":  # LATISS\n",
    "            return (871.45 / 500.0) ** 0.2\n",
    "        case \"SDSSy_65mm\":  # LATISS\n",
    "            return (986.8 / 500.0) ** 0.2\n",
    "        case \"u_02\":  # ComCam\n",
    "            return (370.697 / 500.0) ** 0.2\n",
    "        case \"g_01\":  # ComCam\n",
    "            return (476.359 / 500.0) ** 0.2\n",
    "        case \"r_03\":  # ComCam\n",
    "            return (619.383 / 500.0) ** 0.2\n",
    "        case \"i_06\":  # ComCam\n",
    "            return (754.502 / 500.0) ** 0.2\n",
    "        case \"z_03\":  # ComCam\n",
    "            return (866.976 / 500.0) ** 0.2\n",
    "        case \"y_04\":  # ComCam\n",
    "            return (972.713 / 500.0) ** 0.2\n",
    "        case _:\n",
    "            raise ValueError(f\"Unknown filter name: {filterName}\")"
   ]
  },
  {
   "cell_type": "code",
   "execution_count": null,
   "id": "fd95a0ea-f58f-4672-afe0-fc3f3f80cfc1",
   "metadata": {
    "execution": {
     "iopub.execute_input": "2025-04-16T08:14:43.206581Z",
     "iopub.status.busy": "2025-04-16T08:14:43.206449Z",
     "iopub.status.idle": "2025-04-16T08:14:43.212683Z",
     "shell.execute_reply": "2025-04-16T08:14:43.212342Z",
     "shell.execute_reply.started": "2025-04-16T08:14:43.206569Z"
    }
   },
   "outputs": [],
   "source": [
    "os.environ[\"no_proxy\"] += \",.consdb\""
   ]
  },
  {
   "cell_type": "code",
   "execution_count": null,
   "id": "8c679aa8-2199-4e02-9354-aafa7f114f91",
   "metadata": {
    "execution": {
     "iopub.execute_input": "2025-04-16T08:14:43.213254Z",
     "iopub.status.busy": "2025-04-16T08:14:43.213111Z",
     "iopub.status.idle": "2025-04-16T08:14:43.219577Z",
     "shell.execute_reply": "2025-04-16T08:14:43.219236Z",
     "shell.execute_reply.started": "2025-04-16T08:14:43.213242Z"
    }
   },
   "outputs": [],
   "source": [
    "url=\"http://consdb-pq.consdb:8080/consdb\""
   ]
  },
  {
   "cell_type": "code",
   "execution_count": null,
   "id": "396043d3-35d4-45f8-bea4-af2ae6af74cd",
   "metadata": {
    "execution": {
     "iopub.execute_input": "2025-04-16T08:14:43.220182Z",
     "iopub.status.busy": "2025-04-16T08:14:43.220021Z",
     "iopub.status.idle": "2025-04-16T08:14:43.226834Z",
     "shell.execute_reply": "2025-04-16T08:14:43.226503Z",
     "shell.execute_reply.started": "2025-04-16T08:14:43.220169Z"
    }
   },
   "outputs": [],
   "source": [
    "consdb=ConsDbClient(url)"
   ]
  },
  {
   "cell_type": "code",
   "execution_count": null,
   "id": "f015c934-ce60-4833-af60-a0514f33ddcd",
   "metadata": {
    "execution": {
     "iopub.execute_input": "2025-04-16T08:14:43.227361Z",
     "iopub.status.busy": "2025-04-16T08:14:43.227221Z",
     "iopub.status.idle": "2025-04-16T08:14:44.195968Z",
     "shell.execute_reply": "2025-04-16T08:14:44.195425Z",
     "shell.execute_reply.started": "2025-04-16T08:14:43.227348Z"
    }
   },
   "outputs": [],
   "source": [
    "# Query both consDB tables\n",
    "exposure = consdb.query(\"SELECT * FROM cdb_lsstcomcam.exposure WHERE science_program = 'BLOCK-320'\")\n",
    "visits = consdb.query(\"SELECT * FROM cdb_lsstcomcam.visit1 WHERE science_program = 'BLOCK-320'\")\n",
    "visits_ql = consdb.query(\"SELECT * FROM cdb_lsstcomcam.visit1_quicklook\")\n",
    "\n",
    "# Join using astropy's join function on 'visit_id'\n",
    "exposure_join = exposure.rename_column(\"exposure_id\", \"visit_id\")\n",
    "merged_exposure = join(exposure, visits, keys=\"visit_id\", join_type=\"inner\")  \n",
    "merged_visits = join(visits, visits_ql, keys=\"visit_id\", join_type=\"inner\")  \n",
    "\n",
    "# Display or use the merged table\n",
    "print(merged_visits)"
   ]
  },
  {
   "cell_type": "code",
   "execution_count": null,
   "id": "d3ab9e1f-2b6b-4372-af3d-457aed8df26b",
   "metadata": {
    "execution": {
     "iopub.execute_input": "2025-04-16T08:14:44.196646Z",
     "iopub.status.busy": "2025-04-16T08:14:44.196488Z",
     "iopub.status.idle": "2025-04-16T08:14:44.200311Z",
     "shell.execute_reply": "2025-04-16T08:14:44.199953Z",
     "shell.execute_reply.started": "2025-04-16T08:14:44.196632Z"
    }
   },
   "outputs": [],
   "source": [
    "merged_visits.colnames"
   ]
  },
  {
   "cell_type": "code",
   "execution_count": null,
   "id": "f4b9ef25-6572-4085-987c-e44e72cd51a2",
   "metadata": {
    "execution": {
     "iopub.execute_input": "2025-04-16T08:14:44.200903Z",
     "iopub.status.busy": "2025-04-16T08:14:44.200768Z",
     "iopub.status.idle": "2025-04-16T08:14:44.210969Z",
     "shell.execute_reply": "2025-04-16T08:14:44.210615Z",
     "shell.execute_reply.started": "2025-04-16T08:14:44.200891Z"
    }
   },
   "outputs": [],
   "source": [
    "# Convert PSF sigma to FWHM\n",
    "sig2fwhm = 2 * np.sqrt(2 * np.log(2))\n",
    "pixel_scale = 0.2  # arcsec / pixel\n",
    "merged_visits[\"psf_fwhm\"] = merged_visits[\"psf_sigma_median\"] * sig2fwhm * pixel_scale\n",
    "\n",
    "# Add the FWHM at zenith at 500nm\n",
    "merged_visits[\"fwhm_zenith_500nm\"] = [\n",
    "    fwhm * getBandpassSeeingCorrection(filt) * getAirmassSeeingCorrection(airmass)\n",
    "    for fwhm, filt, airmass in zip(merged_visits[\"psf_fwhm\"], merged_visits[\"physical_filter\"], merged_visits[\"airmass\"])\n",
    "]"
   ]
  },
  {
   "cell_type": "code",
   "execution_count": null,
   "id": "2ac16eec-4253-4647-a4c0-15c5e9ebd094",
   "metadata": {
    "execution": {
     "iopub.execute_input": "2025-04-16T08:14:44.211547Z",
     "iopub.status.busy": "2025-04-16T08:14:44.211416Z",
     "iopub.status.idle": "2025-04-16T08:14:44.390527Z",
     "shell.execute_reply": "2025-04-16T08:14:44.390004Z",
     "shell.execute_reply.started": "2025-04-16T08:14:44.211535Z"
    }
   },
   "outputs": [],
   "source": [
    "time = Time(merged_visits['exp_midpt'])\n",
    "\n",
    "# Plot the time vs the specified column\n",
    "plt.figure(figsize=(10, 6))\n",
    "plt.plot(time.plot_date, merged_visits['psf_fwhm'])\n",
    "\n",
    "# Set x-axis to show dates\n",
    "plt.gca().xaxis.set_major_formatter(mdates.DateFormatter('%Y-%m-%d %H:%M:%S'))\n",
    "plt.gca().xaxis.set_major_locator(mdates.AutoDateLocator())\n",
    "\n",
    "# Rotate and format x-axis labels for readability\n",
    "plt.xticks(rotation=45, ha='right')\n",
    "\n",
    "plt.xlabel('Time')\n",
    "plt.ylabel('FWHM (arcsec)')\n",
    "plt.title(f'Time vs PSF FWHM zenith 500nm median')\n",
    "plt.legend()\n",
    "plt.grid(True)\n",
    "plt.tight_layout()  # Adjust layout to prevent clipping of labels\n",
    "plt.show()"
   ]
  },
  {
   "cell_type": "code",
   "execution_count": null,
   "id": "49edc073-b664-4a86-b07e-4a41c55ea3cc",
   "metadata": {
    "execution": {
     "iopub.execute_input": "2025-04-16T08:14:44.391412Z",
     "iopub.status.busy": "2025-04-16T08:14:44.391196Z",
     "iopub.status.idle": "2025-04-16T08:14:45.000453Z",
     "shell.execute_reply": "2025-04-16T08:14:44.999299Z",
     "shell.execute_reply.started": "2025-04-16T08:14:44.391391Z"
    }
   },
   "outputs": [],
   "source": [
    "# Load the CSV file into an Astropy Table\n",
    "file_path = \"ringss4rubin.csv\"\n",
    "ringss_data = Table.read(file_path, format=\"csv\")\n",
    "\n",
    "# Display table info to check structure\n",
    "ringss_data.info()"
   ]
  },
  {
   "cell_type": "code",
   "execution_count": null,
   "id": "b9a3b984-d52c-4dda-ab44-3a36d8977738",
   "metadata": {
    "execution": {
     "iopub.status.busy": "2025-04-16T08:14:45.000816Z",
     "iopub.status.idle": "2025-04-16T08:14:45.000988Z",
     "shell.execute_reply": "2025-04-16T08:14:45.000909Z",
     "shell.execute_reply.started": "2025-04-16T08:14:45.000901Z"
    }
   },
   "outputs": [],
   "source": [
    "column_name='see'\n",
    "\n",
    "# Convert time column to Astropy Time object\n",
    "time_column = ringss_data.columns[0]\n",
    "time = Time(time_column, format='iso')\n",
    "\n",
    "# Get the data from the specified column\n",
    "data = ringss_data[column_name]\n",
    "\n",
    "# Plot the time vs the specified column\n",
    "plt.figure(figsize=(10, 6))\n",
    "plt.plot(time.plot_date, data, label=column_name)\n",
    "\n",
    "# Set x-axis to show dates\n",
    "plt.gca().xaxis.set_major_formatter(mdates.DateFormatter('%Y-%m-%d %H:%M:%S'))\n",
    "plt.gca().xaxis.set_major_locator(mdates.AutoDateLocator())\n",
    "\n",
    "# Rotate and format x-axis labels for readability\n",
    "plt.xticks(rotation=45, ha='right')\n",
    "\n",
    "plt.xlabel('Time')\n",
    "plt.ylabel(column_name)\n",
    "plt.title(f'Time vs {column_name}')\n",
    "plt.legend()\n",
    "plt.grid(True)\n",
    "plt.tight_layout()  # Adjust layout to prevent clipping of labels\n",
    "plt.show()"
   ]
  },
  {
   "cell_type": "code",
   "execution_count": null,
   "id": "687e41e7-c4c3-4aa9-a2ad-f24cd41b3c5a",
   "metadata": {
    "execution": {
     "iopub.status.busy": "2025-04-16T08:14:45.001613Z",
     "iopub.status.idle": "2025-04-16T08:14:45.001788Z",
     "shell.execute_reply": "2025-04-16T08:14:45.001709Z",
     "shell.execute_reply.started": "2025-04-16T08:14:45.001701Z"
    }
   },
   "outputs": [],
   "source": [
    "# Ensure time columns are Astropy Time objects\n",
    "ringss_data[\"time\"] = Time(ringss_data[\"time\"])\n",
    "merged_visits[\"exp_midpt\"] = Time(merged_visits[\"exp_midpt\"])\n",
    "\n",
    "# Find the nearest neighbor index in 'table' for each entry in 'ringss_data'\n",
    "idx = np.searchsorted(merged_visits[\"exp_midpt\"].jd, ringss_data[\"time\"].jd)\n",
    "\n",
    "# Prevent out-of-bounds indices\n",
    "idx = np.clip(idx, 0, len(merged_visits) - 1)\n",
    "\n",
    "# Compute time differences (keeping TimeDelta)\n",
    "time_diffs = merged_visits[\"exp_midpt\"][idx] - ringss_data[\"time\"]\n",
    "\n",
    "# Extract seconds properly **before using NumPy operations**\n",
    "time_diffs_sec = np.abs(time_diffs.sec)  # Now it's a NumPy array of seconds\n",
    "\n",
    "# Define the max time difference threshold\n",
    "max_diff = 30  # in seconds\n",
    "mask = time_diffs_sec < max_diff  # Now this will work correctly\n",
    "\n",
    "# Merge tables using the matched indices\n",
    "merged_table = ringss_data[mask].copy()  # Copy only matched rows\n",
    "for col in merged_visits.colnames:\n",
    "    merged_table[col] = merged_visits[col][idx][mask]  # Copy matched columns\n",
    "\n",
    "# Print merged table\n",
    "print(merged_table)"
   ]
  },
  {
   "cell_type": "code",
   "execution_count": null,
   "id": "f7f30990-9af5-40e9-9edf-be5c254479fe",
   "metadata": {
    "execution": {
     "iopub.status.busy": "2025-04-16T08:14:45.002311Z",
     "iopub.status.idle": "2025-04-16T08:14:45.002477Z",
     "shell.execute_reply": "2025-04-16T08:14:45.002399Z",
     "shell.execute_reply.started": "2025-04-16T08:14:45.002391Z"
    }
   },
   "outputs": [],
   "source": [
    "sqr_diff = merged_table[\"fwhm_zenith_500nm\"]**2.0 - merged_table[\"see\"]**2.0"
   ]
  },
  {
   "cell_type": "code",
   "execution_count": null,
   "id": "658b96f5-bab1-4775-a281-d709bff7b503",
   "metadata": {
    "execution": {
     "iopub.status.busy": "2025-04-16T08:14:45.002963Z",
     "iopub.status.idle": "2025-04-16T08:14:45.003120Z",
     "shell.execute_reply": "2025-04-16T08:14:45.003046Z",
     "shell.execute_reply.started": "2025-04-16T08:14:45.003039Z"
    }
   },
   "outputs": [],
   "source": [
    "# Plot histogram using Freedman-Diaconis rule\n",
    "plt.figure()\n",
    "plt.xlabel('Seeing')\n",
    "plt.ylabel(\"Frequency\")\n",
    "plt.title(f\"ComCam Delivered IQ - RINGSS Seeing during ComCam On-Sky\")\n",
    "plt.grid(True, linestyle=\"--\", alpha=0.6, zorder=0)\n",
    "plt.hist(merged_table[\"fwhm_zenith_500nm\"], bins='fd', edgecolor='0.1', zorder=2,alpha=0.5, label='ComCam FWHM')\n",
    "plt.hist(merged_table[\"see\"], bins=\"fd\", edgecolor='0.1', zorder=3,alpha=0.5, label='RINGSS')\n",
    "plt.legend()\n",
    "plt.show()"
   ]
  },
  {
   "cell_type": "code",
   "execution_count": null,
   "id": "3e9403fd-1321-4728-8286-cb673806578b",
   "metadata": {
    "execution": {
     "iopub.status.busy": "2025-04-16T08:14:45.003513Z",
     "iopub.status.idle": "2025-04-16T08:14:45.003660Z",
     "shell.execute_reply": "2025-04-16T08:14:45.003592Z",
     "shell.execute_reply.started": "2025-04-16T08:14:45.003585Z"
    }
   },
   "outputs": [],
   "source": [
    "# Plot histogram using Freedman-Diaconis rule\n",
    "plt.figure()\n",
    "plt.xlabel('Seeing')\n",
    "plt.ylabel(\"Frequency\")\n",
    "plt.title(f\"ComCam Delivered IQ - RINGSS Seeing during ComCam On-Sky\")\n",
    "plt.grid(True, linestyle=\"--\", alpha=0.6, zorder=0)\n",
    "plt.hist(merged_table[\"see2\"], bins='fd', edgecolor='0.1', zorder=2,alpha=0.5, label='RINGSS Profile-Weighted')\n",
    "plt.hist(merged_table[\"see\"], bins=\"fd\", edgecolor='0.1', zorder=3,alpha=0.5, label='RINGSS')\n",
    "plt.legend()\n",
    "plt.show()"
   ]
  },
  {
   "cell_type": "code",
   "execution_count": null,
   "id": "f1dddf2e-6f5d-4e91-a201-3f8f82245663",
   "metadata": {
    "execution": {
     "iopub.status.busy": "2025-04-16T08:14:45.004232Z",
     "iopub.status.idle": "2025-04-16T08:14:45.004394Z",
     "shell.execute_reply": "2025-04-16T08:14:45.004317Z",
     "shell.execute_reply.started": "2025-04-16T08:14:45.004310Z"
    }
   },
   "outputs": [],
   "source": [
    "# Plot the time vs the specified column\n",
    "plt.figure(figsize=(10, 6))\n",
    "plt.plot(merged_table[\"see\"], merged_table[\"fwhm_zenith_500nm\"],'.', color='0.5',zorder=0, alpha=0.5)\n",
    "sns.kdeplot(\n",
    "    x=merged_table[\"see\"], \n",
    "    y=merged_table[\"fwhm_zenith_500nm\"], \n",
    "    levels=10,  # Number of contour levels\n",
    "    cmap=\"Reds\",  # Color map for contours\n",
    "    alpha=0.6,\n",
    "    zorder=1,\n",
    ")\n",
    "\n",
    "plt.plot(np.arange(0.2,5,0.1), np.arange(0.2,5,0.1), 'r--', alpha=0.5)\n",
    "plt.ylabel('ComCam PSF FWHM @500nm AM=1')\n",
    "plt.xlabel('RINGSS Seeing')\n",
    "plt.xlim(0.2,3.0)\n",
    "plt.ylim(0.2,3.0)\n",
    "plt.title(f\"ComCam Seeing vs RINGSS during ComCam On-Sky\")\n",
    "plt.legend()\n",
    "plt.grid(True)\n",
    "plt.tight_layout()  # Adjust layout to prevent clipping of labels\n",
    "plt.show()"
   ]
  },
  {
   "cell_type": "code",
   "execution_count": null,
   "id": "1f65ccc9-f36b-4010-b85e-8744eef26a2d",
   "metadata": {
    "execution": {
     "iopub.status.busy": "2025-04-16T08:14:45.004865Z",
     "iopub.status.idle": "2025-04-16T08:14:45.005025Z",
     "shell.execute_reply": "2025-04-16T08:14:45.004946Z",
     "shell.execute_reply.started": "2025-04-16T08:14:45.004939Z"
    }
   },
   "outputs": [],
   "source": [
    "# Plot the time vs the specified column\n",
    "plt.figure(figsize=(10, 6))\n",
    "plt.plot(merged_table[\"see\"], merged_table[\"fwhm_zenith_500nm\"],'.', color='0.5',zorder=0, alpha=0.5)\n",
    "sns.kdeplot(\n",
    "    x=merged_table[\"see\"], \n",
    "    y=merged_table[\"fwhm_zenith_500nm\"], \n",
    "    levels=10,  # Number of contour levels\n",
    "    cmap=\"Reds\",  # Color map for contours\n",
    "    alpha=0.6,\n",
    "    zorder=1,\n",
    ")\n",
    "\n",
    "plt.plot(np.arange(0.2,5,0.1), np.arange(0.2,5,0.1), 'r--', alpha=0.5)\n",
    "plt.ylabel('ComCam PSF FWHM @500nm AM=1')\n",
    "plt.xlabel('RINGSS Seeing')\n",
    "plt.xlim(0.2,3.0)\n",
    "plt.ylim(0.2,3.0)\n",
    "plt.title(f\"ComCam Seeing vs RINGSS during ComCam On-Sky\")\n",
    "plt.grid(True)\n",
    "plt.tight_layout()  # Adjust layout to prevent clipping of labels\n",
    "plt.show()"
   ]
  },
  {
   "cell_type": "code",
   "execution_count": null,
   "id": "01d8198b-d5da-4d96-bd28-d956169a56ff",
   "metadata": {
    "execution": {
     "iopub.status.busy": "2025-04-16T08:14:45.005462Z",
     "iopub.status.idle": "2025-04-16T08:14:45.005621Z",
     "shell.execute_reply": "2025-04-16T08:14:45.005544Z",
     "shell.execute_reply.started": "2025-04-16T08:14:45.005537Z"
    }
   },
   "outputs": [],
   "source": [
    "# Plot histogram using Freedman-Diaconis rule\n",
    "plt.figure()\n",
    "plt.xlabel('Seeing')\n",
    "plt.ylabel(\"Frequency\")\n",
    "plt.title(f\"Difference in quadrature of ComCam FWHM \\n and RINGSS Seeing during ComCam On-Sky\")\n",
    "plt.grid(True, linestyle=\"--\", alpha=0.6, zorder=0)\n",
    "plt.hist(np.sqrt(sqr_diff[sqr_diff>0]), bins='fd', edgecolor='0.1', zorder=2,alpha=0.5)\n",
    "plt.legend()\n",
    "plt.show()"
   ]
  },
  {
   "cell_type": "code",
   "execution_count": null,
   "id": "ba8804cf-9d9a-4727-937e-96a4ffcbc4cd",
   "metadata": {
    "execution": {
     "iopub.status.busy": "2025-04-16T08:14:45.005920Z",
     "iopub.status.idle": "2025-04-16T08:14:45.006070Z",
     "shell.execute_reply": "2025-04-16T08:14:45.005999Z",
     "shell.execute_reply.started": "2025-04-16T08:14:45.005992Z"
    }
   },
   "outputs": [],
   "source": [
    "# Plot the time vs the specified column\n",
    "plt.figure(figsize=(10, 6))\n",
    "plt.plot(merged_table[\"fwhm_zenith_500nm\"], sqr_diff,'.', color='0.5',zorder=0, alpha=0.5)\n",
    "sns.kdeplot(\n",
    "    x=merged_table[\"fwhm_zenith_500nm\"], \n",
    "    y=sqr_diff, \n",
    "    levels=10,  # Number of contour levels\n",
    "    cmap=\"Reds\",  # Color map for contours\n",
    "    alpha=0.6,\n",
    "    zorder=1,\n",
    ")\n",
    "\n",
    "plt.ylabel('Squared Diff ComCam - RINGSS')\n",
    "plt.xlabel('ComCam FWHM zenith 500nm')\n",
    "plt.title(f\"ComCam PSF FWHM vs Squared Difference with ComCam\")\n",
    "plt.legend()\n",
    "plt.grid(True)\n",
    "plt.tight_layout()  # Adjust layout to prevent clipping of labels\n",
    "plt.show()"
   ]
  },
  {
   "cell_type": "code",
   "execution_count": null,
   "id": "cf64ba34-3c75-4e48-aa05-8e747c95a9eb",
   "metadata": {
    "execution": {
     "iopub.status.busy": "2025-04-16T08:14:45.006761Z",
     "iopub.status.idle": "2025-04-16T08:14:45.006918Z",
     "shell.execute_reply": "2025-04-16T08:14:45.006842Z",
     "shell.execute_reply.started": "2025-04-16T08:14:45.006835Z"
    }
   },
   "outputs": [],
   "source": [
    "# Plot the time vs the specified column\n",
    "plt.figure(figsize=(10, 6))\n",
    "plt.plot(merged_table[\"see\"], sqr_diff,'.', color='0.5',zorder=0, alpha=0.5)\n",
    "sns.kdeplot(\n",
    "    x=merged_table[\"see\"], \n",
    "    y=sqr_diff, \n",
    "    levels=10,  # Number of contour levels\n",
    "    cmap=\"Reds\",  # Color map for contours\n",
    "    alpha=0.6,\n",
    "    zorder=1,\n",
    ")\n",
    "\n",
    "plt.ylabel('ComCam Seeing - RINGSS Seeing')\n",
    "plt.xlabel('RINGSS Seeing')\n",
    "plt.title(f\"RINGSS Seeing vs Squared Difference with ComCam\")\n",
    "plt.legend()\n",
    "plt.grid(True)\n",
    "plt.tight_layout()  # Adjust layout to prevent clipping of labels\n",
    "plt.show()"
   ]
  },
  {
   "cell_type": "code",
   "execution_count": null,
   "id": "4bdfb1c1-d0ed-45da-af8d-641b77884f00",
   "metadata": {
    "execution": {
     "iopub.status.busy": "2025-04-16T08:14:45.007331Z",
     "iopub.status.idle": "2025-04-16T08:14:45.007487Z",
     "shell.execute_reply": "2025-04-16T08:14:45.007411Z",
     "shell.execute_reply.started": "2025-04-16T08:14:45.007404Z"
    }
   },
   "outputs": [],
   "source": [
    "diff = merged_table[\"fwhm_zenith_500nm\"] - merged_table[\"see\"]"
   ]
  },
  {
   "cell_type": "code",
   "execution_count": null,
   "id": "cabb4422-32a5-4b1f-adbb-b1abca782eee",
   "metadata": {
    "execution": {
     "iopub.status.busy": "2025-04-16T08:14:45.007849Z",
     "iopub.status.idle": "2025-04-16T08:14:45.008004Z",
     "shell.execute_reply": "2025-04-16T08:14:45.007930Z",
     "shell.execute_reply.started": "2025-04-16T08:14:45.007923Z"
    }
   },
   "outputs": [],
   "source": [
    "# Plot the time vs the specified column\n",
    "plt.figure(figsize=(10, 6))\n",
    "plt.plot(merged_table[\"see\"], diff,'.', color='0.5',zorder=0, alpha=0.5)\n",
    "sns.kdeplot(\n",
    "    x=merged_table[\"see\"], \n",
    "    y=diff, \n",
    "    levels=10,  # Number of contour levels\n",
    "    cmap=\"Reds\",  # Color map for contours\n",
    "    alpha=0.6,\n",
    "    zorder=1,\n",
    ")\n",
    "\n",
    "plt.ylabel('ComCam Seeing - RINGSS Seeing', size='large')\n",
    "plt.xlabel('RINGSS Seeing', size='large')\n",
    "plt.title(f\"Differennce Between ComCam and RINGSS during ComCam On-Sky\")\n",
    "plt.legend()\n",
    "plt.grid(True)\n",
    "plt.tight_layout()  # Adjust layout to prevent clipping of labels\n",
    "plt.show()"
   ]
  },
  {
   "cell_type": "markdown",
   "id": "283c9fb3-9341-48e1-a6d4-d19056764a57",
   "metadata": {},
   "source": [
    "There seems to be an issue with our PSF measurements in the ConsDB as a function of seeing. That is, we are underestimating the PSF FWHM in the consDB at high seeing. Let's see what the DRP has. "
   ]
  },
  {
   "cell_type": "code",
   "execution_count": null,
   "id": "4e5bfc9e-72af-494c-a78b-ddaf2654a612",
   "metadata": {
    "execution": {
     "iopub.status.busy": "2025-04-16T08:14:45.008524Z",
     "iopub.status.idle": "2025-04-16T08:14:45.008678Z",
     "shell.execute_reply": "2025-04-16T08:14:45.008603Z",
     "shell.execute_reply.started": "2025-04-16T08:14:45.008597Z"
    }
   },
   "outputs": [],
   "source": [
    "from lsst.daf.butler import Butler\n",
    "\n",
    "collection='LSSTComCam/runs/DRP/DP1/w_2025_05/DM-48666'\n",
    "butler = Butler('/sdf/group/rubin/repo/main', collections=collection)\n",
    "df = butler.get(\"ccdVisitTable\")"
   ]
  },
  {
   "cell_type": "code",
   "execution_count": null,
   "id": "35d8a980-76bd-4511-ab77-5fde9d621c67",
   "metadata": {
    "execution": {
     "iopub.status.busy": "2025-04-16T08:14:45.008987Z",
     "iopub.status.idle": "2025-04-16T08:14:45.009139Z",
     "shell.execute_reply": "2025-04-16T08:14:45.009065Z",
     "shell.execute_reply.started": "2025-04-16T08:14:45.009058Z"
    }
   },
   "outputs": [],
   "source": [
    "grouped_df = (\n",
    "    df.groupby([\"visitId\"])\n",
    "    .agg(lambda x: x.median() if np.issubdtype(x.dtype, np.number) else x.iloc[0])  \n",
    "    .reset_index()\n",
    ")\n",
    "grouped_df = grouped_df.rename(columns=lambda x: f\"drp_{x}\")\n",
    "grouped_df.rename(columns={\"drp_visitId\": \"visit_id\"})"
   ]
  },
  {
   "cell_type": "code",
   "execution_count": null,
   "id": "8596a562-cf07-4792-b26b-a242a07e0cef",
   "metadata": {
    "execution": {
     "iopub.status.busy": "2025-04-16T08:14:45.009707Z",
     "iopub.status.idle": "2025-04-16T08:14:45.009869Z",
     "shell.execute_reply": "2025-04-16T08:14:45.009791Z",
     "shell.execute_reply.started": "2025-04-16T08:14:45.009784Z"
    }
   },
   "outputs": [],
   "source": [
    "drp_table = Table.from_pandas(grouped_df)\n",
    "drp_table.rename_column(\"drp_visitId\", \"visit_id\")"
   ]
  },
  {
   "cell_type": "code",
   "execution_count": null,
   "id": "c9640453-cbe9-46f9-9da3-88aca4189944",
   "metadata": {
    "execution": {
     "iopub.status.busy": "2025-04-16T08:14:45.010432Z",
     "iopub.status.idle": "2025-04-16T08:14:45.010589Z",
     "shell.execute_reply": "2025-04-16T08:14:45.010514Z",
     "shell.execute_reply.started": "2025-04-16T08:14:45.010507Z"
    }
   },
   "outputs": [],
   "source": [
    "merged_drp_table = join(merged_table, drp_table, keys=[\"visit_id\"], join_type=\"inner\")"
   ]
  },
  {
   "cell_type": "code",
   "execution_count": null,
   "id": "9b854b0e-162f-4b67-9db2-944c685fdf52",
   "metadata": {
    "execution": {
     "iopub.status.busy": "2025-04-16T08:14:45.010983Z",
     "iopub.status.idle": "2025-04-16T08:14:45.011149Z",
     "shell.execute_reply": "2025-04-16T08:14:45.011062Z",
     "shell.execute_reply.started": "2025-04-16T08:14:45.011055Z"
    }
   },
   "outputs": [],
   "source": [
    "# Convert PSF sigma to FWHM\n",
    "sig2fwhm = 2 * np.sqrt(2 * np.log(2))\n",
    "pixel_scale = 0.2  # arcsec / pixel\n",
    "merged_drp_table[\"drp_psf_fwhm\"] = merged_drp_table[\"drp_psfSigma\"] * sig2fwhm * pixel_scale\n",
    "\n",
    "# Add the FWHM at zenith at 500nm\n",
    "merged_drp_table[\"drp_fwhm_zenith_500nm\"] = [\n",
    "    fwhm * getBandpassSeeingCorrection(filt) * getAirmassSeeingCorrection(airmass)\n",
    "    for fwhm, filt, airmass in zip(merged_drp_table[\"drp_psf_fwhm\"], merged_drp_table[\"physical_filter\"], merged_drp_table[\"airmass\"])\n",
    "]"
   ]
  },
  {
   "cell_type": "code",
   "execution_count": null,
   "id": "c1884ed1-9294-4e7a-a302-ec4f84c586ea",
   "metadata": {
    "execution": {
     "iopub.status.busy": "2025-04-16T08:14:45.011670Z",
     "iopub.status.idle": "2025-04-16T08:14:45.011825Z",
     "shell.execute_reply": "2025-04-16T08:14:45.011749Z",
     "shell.execute_reply.started": "2025-04-16T08:14:45.011742Z"
    }
   },
   "outputs": [],
   "source": [
    "# Plot the time vs the specified column\n",
    "plt.figure(figsize=(10, 6))\n",
    "plt.plot(merged_drp_table[\"fwhm_zenith_500nm\"], merged_drp_table[\"drp_fwhm_zenith_500nm\"] - merged_drp_table[\"fwhm_zenith_500nm\"],'.', color='0.5',zorder=0, alpha=0.5)\n",
    "sns.kdeplot(\n",
    "    x=merged_drp_table[\"fwhm_zenith_500nm\"], \n",
    "    y=merged_drp_table[\"drp_fwhm_zenith_500nm\"] - merged_drp_table[\"fwhm_zenith_500nm\"], \n",
    "    levels=10,  # Number of contour levels\n",
    "    cmap=\"Reds\",  # Color map for contours\n",
    "    alpha=0.6,\n",
    "    zorder=1,\n",
    ")\n",
    "\n",
    "plt.xlabel('QuickLook Seeing', size='large')\n",
    "plt.ylabel('DRP - QuickLook Seeing', size='large')\n",
    "plt.title(f\"DRP vs QuickLook Seeing for ComCam on-sky\")\n",
    "plt.grid(True)\n",
    "plt.tight_layout()  # Adjust layout to prevent clipping of labels\n",
    "plt.show()"
   ]
  },
  {
   "cell_type": "code",
   "execution_count": null,
   "id": "d9f37e97-5453-4b55-9bbe-ba7738a38221",
   "metadata": {
    "execution": {
     "iopub.status.busy": "2025-04-16T08:14:45.012113Z",
     "iopub.status.idle": "2025-04-16T08:14:45.012272Z",
     "shell.execute_reply": "2025-04-16T08:14:45.012204Z",
     "shell.execute_reply.started": "2025-04-16T08:14:45.012197Z"
    }
   },
   "outputs": [],
   "source": [
    "merged_drp_table.columns"
   ]
  },
  {
   "cell_type": "code",
   "execution_count": null,
   "id": "400d4c4e-7017-4627-bc6a-cfd7c8a65581",
   "metadata": {
    "execution": {
     "iopub.status.busy": "2025-04-16T08:14:45.012737Z",
     "iopub.status.idle": "2025-04-16T08:14:45.012886Z",
     "shell.execute_reply": "2025-04-16T08:14:45.012818Z",
     "shell.execute_reply.started": "2025-04-16T08:14:45.012811Z"
    }
   },
   "outputs": [],
   "source": [
    "merged_drp_table['drp_seeing'] - merged_drp_table['drp_fwhm_zenith_500nm']"
   ]
  },
  {
   "cell_type": "markdown",
   "id": "401c013e-bb6f-46d3-87ac-8e85e3a50a3d",
   "metadata": {},
   "source": [
    "There's a value in the visit summary table called seeing? I'm not sure where this is coming from, but the distribution looks quite different than what RINGSS measured."
   ]
  },
  {
   "cell_type": "code",
   "execution_count": null,
   "id": "72817f98-27d4-41ee-b927-8aeae60dd8ec",
   "metadata": {
    "execution": {
     "iopub.status.busy": "2025-04-16T08:14:45.013248Z",
     "iopub.status.idle": "2025-04-16T08:14:45.013392Z",
     "shell.execute_reply": "2025-04-16T08:14:45.013325Z",
     "shell.execute_reply.started": "2025-04-16T08:14:45.013318Z"
    }
   },
   "outputs": [],
   "source": [
    "# Plot the time vs the specified column\n",
    "plt.figure(figsize=(10, 6))\n",
    "plt.plot(merged_drp_table[\"drp_seeing\"], merged_drp_table[\"drp_fwhm_zenith_500nm\"] - merged_drp_table['drp_seeing'],'.', color='0.5',zorder=0, alpha=0.5)\n",
    "sns.kdeplot(\n",
    "    x=merged_drp_table[\"drp_seeing\"], \n",
    "    y=merged_drp_table[\"drp_fwhm_zenith_500nm\"] - merged_drp_table['drp_seeing'], \n",
    "    levels=10,  # Number of contour levels\n",
    "    cmap=\"Reds\",  # Color map for contours\n",
    "    alpha=0.6,\n",
    "    zorder=1,\n",
    ")\n",
    "\n",
    "plt.xlabel('DRP Seeing', size='large')\n",
    "plt.ylabel('DRP FWHM zenith 500nm', size='large')\n",
    "plt.title(f\"DRP seeing vs FWHM zenith 500nm ComCam on-sky\")\n",
    "plt.grid(True)\n",
    "plt.tight_layout()  # Adjust layout to prevent clipping of labels\n",
    "plt.show()"
   ]
  },
  {
   "cell_type": "code",
   "execution_count": null,
   "id": "17997d10-2299-451f-b72f-b2d553c863dc",
   "metadata": {
    "execution": {
     "iopub.status.busy": "2025-04-16T08:14:45.013895Z",
     "iopub.status.idle": "2025-04-16T08:14:45.014043Z",
     "shell.execute_reply": "2025-04-16T08:14:45.013974Z",
     "shell.execute_reply.started": "2025-04-16T08:14:45.013967Z"
    }
   },
   "outputs": [],
   "source": [
    "# Plot the time vs the specified column\n",
    "plt.figure(figsize=(10, 6))\n",
    "plt.plot(merged_drp_table[\"drp_seeing\"], merged_drp_table[\"see\"],'.', color='0.5',zorder=0, alpha=0.5)\n",
    "sns.kdeplot(\n",
    "    x=merged_drp_table[\"drp_seeing\"], \n",
    "    y=merged_drp_table[\"see\"], \n",
    "    levels=10,  # Number of contour levels\n",
    "    cmap=\"Reds\",  # Color map for contours\n",
    "    alpha=0.6,\n",
    "    zorder=1,\n",
    ")\n",
    "\n",
    "plt.xlabel('DRP Seeing', size='large')\n",
    "plt.ylabel('RINGSS Seeing', size='large')\n",
    "plt.title(f\"DRP seeing vs RINGSS seeing ComCam on-sky\")\n",
    "plt.grid(True)\n",
    "plt.tight_layout()  # Adjust layout to prevent clipping of labels\n",
    "plt.show()"
   ]
  },
  {
   "cell_type": "code",
   "execution_count": null,
   "id": "4390506c-d2d1-46e5-a6d6-1d077adc173f",
   "metadata": {
    "execution": {
     "iopub.status.busy": "2025-04-16T08:14:45.014547Z",
     "iopub.status.idle": "2025-04-16T08:14:45.014701Z",
     "shell.execute_reply": "2025-04-16T08:14:45.014626Z",
     "shell.execute_reply.started": "2025-04-16T08:14:45.014619Z"
    }
   },
   "outputs": [],
   "source": [
    "# Plot the time vs the specified column\n",
    "plt.figure(figsize=(10, 6))\n",
    "plt.plot(merged_drp_table[\"drp_seeing\"], merged_drp_table[\"see\"]-merged_drp_table[\"drp_seeing\"],'.', color='0.5',zorder=0, alpha=0.5)\n",
    "sns.kdeplot(\n",
    "    x=merged_drp_table[\"drp_seeing\"], \n",
    "    y=merged_drp_table[\"see\"]-merged_drp_table[\"drp_seeing\"], \n",
    "    levels=10,  # Number of contour levels\n",
    "    cmap=\"Reds\",  # Color map for contours\n",
    "    alpha=0.6,\n",
    "    zorder=1,\n",
    ")\n",
    "\n",
    "plt.xlabel('DRP Seeing', size='large')\n",
    "plt.ylabel('RINGSS - DRP Seeing', size='large')\n",
    "plt.title(f\"DRP seeing vs RINGSS seeing ComCam on-sky\")\n",
    "plt.grid(True)\n",
    "plt.tight_layout()  # Adjust layout to prevent clipping of labels\n",
    "plt.show()"
   ]
  },
  {
   "cell_type": "code",
   "execution_count": null,
   "id": "0227f663-ab4e-44d9-b926-c55bf0dea537",
   "metadata": {},
   "outputs": [],
   "source": []
  }
 ],
 "metadata": {
  "kernelspec": {
   "display_name": "LSST",
   "language": "python",
   "name": "lsst"
  },
  "language_info": {
   "codemirror_mode": {
    "name": "ipython",
    "version": 3
   },
   "file_extension": ".py",
   "mimetype": "text/x-python",
   "name": "python",
   "nbconvert_exporter": "python",
   "pygments_lexer": "ipython3",
   "version": "3.12.9"
  }
 },
 "nbformat": 4,
 "nbformat_minor": 5
}
