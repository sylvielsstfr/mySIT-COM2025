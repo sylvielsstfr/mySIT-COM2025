{
 "cells": [
  {
   "cell_type": "markdown",
   "id": "fbc2a82e-c64a-4801-b3bc-4c3c0917500f",
   "metadata": {},
   "source": [
    "## Test case LVV-T389 - Single Visit Photometric Repeatability\n",
    "\n",
    "- Stolen from : https://github.com/lsst-sitcom/sctr-116/tree/jcarlin_LVV-T389\n",
    "- Sylvie Dagoret-Campagne\n",
    "- Tested 2025/02/12 on w_2025_04 (not working on w_2024_50)\n",
    "\n",
    "Verify that the RMS of magnitudes in all filters and outlier rate of magnitudes is within specification."
   ]
  },
  {
   "cell_type": "markdown",
   "id": "9bd257ae-c0f3-49ca-975d-a8abf7aad4f2",
   "metadata": {},
   "source": [
    "- Hi all -- Seeking feedback on a verification artifact.\n",
    "- For [this Test Case](https://rubinobs.atlassian.net/projects/LVV?selectedItem=com.atlassian.plugins.atlassian-connect-plugin:com.kanoah.test-manager__main-project-page#!/v2/testCase/LVV-T389), would [https://github.com/lsst-sitcom/sctr-116/blob/jcarlin_LVV-T389/notebooks/test_LVV-T389.ipynb](https://github.com/lsst-sitcom/sctr-116/blob/jcarlin_LVV-T389/notebooks/test_LVV-T389.ipynb) be an acceptable/sufficient artifact? (I started with an easy one that's already in `analysis_tools`!)\n",
    "\n",
    "- See for Learning Purposes : https://github.com/lsst-dm/DMTR-401/tree/tickets/DM-40311/notebooks"
   ]
  },
  {
   "cell_type": "markdown",
   "id": "8e6183b9-0e34-4a99-a1b5-62d6b1f4db44",
   "metadata": {},
   "source": [
    "#### Discussion:\n",
    "\n",
    "OSS-REQ-0387 (from [LSE-030](https://ls.st/oss)) and LSR-REQ-0093 (from [LSE-029](https://ls.st/lsr)) state that the following requirements must be met (among others):\n",
    "- The RMS photometric repeatability of bright non-saturated unresolved point sources in the g, r, and i filters, `PA1gri`, shall be less than 5 mmag.\n",
    "- The RMS photometric repeatability of bright non-saturated unresolved point sources in the u, z, and y filters, `PA1uzy`, shall be less than 7.5 mmag.\n",
    "- The maximum fraction of isolated nonsaturated point source measurements exceeding the outlier limit, `PF1`, shall be less than 10%. Here, the outlier limits are defined as `PA2gri`=15 mmag and `PA2uzy`=22.5 mmag.\n",
    "\n",
    "This test can be verified using data products produced during Data Release Processing campaigns executed by the Data Management pipelines team. In particular, we will use the LSST ComCam data as reprocessed with weekly pipelines version w_2025_04, in Butler collection “LSSTComCam/runs/DRP/DP1/w_2025_04/DM-48556\".\n",
    "\n",
    "The `PA1` and `PF1` metrics and related plots are created by tasks in the `analysis_tools` package. Thus verification of this requirement can be accomplished by simply retrieving the datasets produced by those tasks and confirming that they meet the required accuracy."
   ]
  },
  {
   "cell_type": "markdown",
   "id": "41d72f03-1ea2-4261-9803-c58dede43a1f",
   "metadata": {},
   "source": [
    "#### analysis_tools calculation\n",
    "\n",
    "The [StellarPhotometricRepeatability task](https://github.com/lsst/analysis_tools/blob/d7c7025cbdcf02a9f8440e7a8cf441586eeecb3d/python/lsst/analysis/tools/atools/photometricRepeatability.py#L53) in `analysis_tools` handles the calculation of these metrics and plots. Its docstring describes the calculation as follows:\n",
    "\n",
    "\"Compute photometric repeatability from multiple measurements of a set of stars. First, a set of per-source quality criteria are applied. Second, the individual source measurements are grouped together by object index and per-group quantities are computed (e.g., a representative S/N for the group based on the median of associated per-source measurements). Third, additional per-group criteria are applied. Fourth, summary statistics are computed for the filtered groups.\"\n",
    "\n",
    "This is calculated by first measuring the RMS variations of magnitudes measured over all visits for each star in a given tract. Then `PA1` and `PF1` are derived from the distribution of these measurements, with `PA1` representing the median value, and `PF1` the percentage of measurements exceeding the `PA2` outlier limit."
   ]
  },
  {
   "cell_type": "code",
   "execution_count": null,
   "id": "93081372-0262-4f3e-8c3e-fa33ad9feaf9",
   "metadata": {
    "execution": {
     "iopub.execute_input": "2025-02-12T20:49:14.870096Z",
     "iopub.status.busy": "2025-02-12T20:49:14.869969Z",
     "iopub.status.idle": "2025-02-12T20:49:16.104167Z",
     "shell.execute_reply": "2025-02-12T20:49:16.103739Z",
     "shell.execute_reply.started": "2025-02-12T20:49:14.870082Z"
    }
   },
   "outputs": [],
   "source": [
    "import matplotlib.pyplot as plt\n",
    "import numpy as np\n",
    "import astropy.units as u\n",
    "from astropy.table import Table, hstack\n",
    "\n",
    "from lsst.daf.butler import Butler\n",
    "from IPython.display import Image"
   ]
  },
  {
   "cell_type": "code",
   "execution_count": null,
   "id": "58da7a76-d3b9-4ac2-bd33-9f4593169062",
   "metadata": {
    "execution": {
     "iopub.execute_input": "2025-02-12T20:49:16.104797Z",
     "iopub.status.busy": "2025-02-12T20:49:16.104663Z",
     "iopub.status.idle": "2025-02-12T20:49:16.398753Z",
     "shell.execute_reply": "2025-02-12T20:49:16.398333Z",
     "shell.execute_reply.started": "2025-02-12T20:49:16.104784Z"
    }
   },
   "outputs": [],
   "source": [
    "# Initialize the butler repo pointing to the DM-48556 (w_2025_04) collection\n",
    "repo = '/repo/main'\n",
    "collection = 'LSSTComCam/runs/DRP/DP1/w_2025_04/DM-48556'\n",
    "#collection = 'LSSTComCam/runs/DRP/DP1/w_2025_05/DM-48666'\n",
    "\n",
    "butler = Butler(repo, collections=collection)"
   ]
  },
  {
   "cell_type": "markdown",
   "id": "36696e78-cb2d-49bf-a0b5-6a24d736dd91",
   "metadata": {},
   "source": [
    "#### Retrieve the metrics from the butler\n",
    "\n",
    "The photometric repeatability metrics are created by `analysis_tools`, and reside in datasets of type `matchedVisitCore_metrics`. Use a butler query to identify all of the existing LSSTComCam datasets of this type."
   ]
  },
  {
   "cell_type": "code",
   "execution_count": null,
   "id": "7dad7866-9f1d-498d-b8ba-c3d49bcfc094",
   "metadata": {
    "execution": {
     "iopub.execute_input": "2025-02-12T20:49:16.399383Z",
     "iopub.status.busy": "2025-02-12T20:49:16.399251Z",
     "iopub.status.idle": "2025-02-12T20:49:16.631866Z",
     "shell.execute_reply": "2025-02-12T20:49:16.631393Z",
     "shell.execute_reply.started": "2025-02-12T20:49:16.399370Z"
    }
   },
   "outputs": [],
   "source": [
    "metrics_all = butler.query_datasets('matchedVisitCore_metrics', where=\"skymap='lsst_cells_v1'\")"
   ]
  },
  {
   "cell_type": "markdown",
   "id": "ed0a24c1-a289-4cd3-8bf2-ea604bce15e5",
   "metadata": {},
   "source": [
    "The query returns references to `matchedVisitCore_metrics` datasets, which are `MetricBundle`s. The following cell extracts each `MetricBundle` from the butler, then extracts the relevant metrics (`{band}_stellarPhotRepeatStdev` for PA1, and `{band}_stellarPhotRepeatOutlierFraction` for PF1) to a table."
   ]
  },
  {
   "cell_type": "code",
   "execution_count": null,
   "id": "156151e7-0943-4417-b92d-448234cefa7b",
   "metadata": {
    "execution": {
     "iopub.execute_input": "2025-02-12T20:49:16.633186Z",
     "iopub.status.busy": "2025-02-12T20:49:16.633010Z",
     "iopub.status.idle": "2025-02-12T20:49:18.402848Z",
     "shell.execute_reply": "2025-02-12T20:49:18.402388Z",
     "shell.execute_reply.started": "2025-02-12T20:49:16.633170Z"
    }
   },
   "outputs": [],
   "source": [
    "tracts = []\n",
    "bands = []\n",
    "PA1_all = []\n",
    "PF1_all = []\n",
    "\n",
    "for met_ref in metrics_all:\n",
    "    metrics = butler.get(met_ref)\n",
    "    mets = metrics['stellarPhotometricRepeatability']\n",
    "    for band in ['u', 'g', 'r', 'i', 'z', 'y']:\n",
    "        tracts.append(met_ref.dataId['tract'])\n",
    "        bands.append(band)\n",
    "        pa1_metric = band+'_stellarPhotRepeatStdev'\n",
    "        pf1_metric = band+'_stellarPhotRepeatOutlierFraction'\n",
    "        for m in mets:\n",
    "            if m.metric_name.metric == pa1_metric:\n",
    "                PA1_all.append(m.quantity.value)\n",
    "            if m.metric_name.metric == pf1_metric:\n",
    "                PF1_all.append(m.quantity.value)\n",
    "                "
   ]
  },
  {
   "cell_type": "code",
   "execution_count": null,
   "id": "63cf965e-7553-4048-b400-be13771f6b8d",
   "metadata": {
    "execution": {
     "iopub.execute_input": "2025-02-12T20:49:18.407545Z",
     "iopub.status.busy": "2025-02-12T20:49:18.407401Z",
     "iopub.status.idle": "2025-02-12T20:49:18.413612Z",
     "shell.execute_reply": "2025-02-12T20:49:18.413248Z",
     "shell.execute_reply.started": "2025-02-12T20:49:18.407531Z"
    }
   },
   "outputs": [],
   "source": [
    "tab_all = Table([tracts, bands, PA1_all, PF1_all], names=['tract', 'band', 'PA1', 'PF1'],\n",
    "                units=[None, None, u.mmag, u.percent])"
   ]
  },
  {
   "cell_type": "code",
   "execution_count": null,
   "id": "afe6a0e6-ee9e-478e-a3e1-2317240a4362",
   "metadata": {
    "execution": {
     "iopub.execute_input": "2025-02-12T20:49:18.414230Z",
     "iopub.status.busy": "2025-02-12T20:49:18.414110Z",
     "iopub.status.idle": "2025-02-12T20:49:18.421109Z",
     "shell.execute_reply": "2025-02-12T20:49:18.420739Z",
     "shell.execute_reply.started": "2025-02-12T20:49:18.414218Z"
    }
   },
   "outputs": [],
   "source": [
    "tab_all"
   ]
  },
  {
   "cell_type": "markdown",
   "id": "af9d418e-989f-4bc1-8945-b005d39a7003",
   "metadata": {},
   "source": [
    "The table includes metrics from all bands. Separately select the metrics corresponding to each band. Furthermore, because `PA1` and `PF1` are defined differently for \"gri\" and \"uzy\" bands, create selections for \"gri\" and \"uzy\" subsets."
   ]
  },
  {
   "cell_type": "code",
   "execution_count": null,
   "id": "db6a4644-e0ae-41e8-af9c-0f5efd6ad068",
   "metadata": {
    "execution": {
     "iopub.execute_input": "2025-02-12T20:49:18.421646Z",
     "iopub.status.busy": "2025-02-12T20:49:18.421520Z",
     "iopub.status.idle": "2025-02-12T20:49:18.427251Z",
     "shell.execute_reply": "2025-02-12T20:49:18.426838Z",
     "shell.execute_reply.started": "2025-02-12T20:49:18.421633Z"
    }
   },
   "outputs": [],
   "source": [
    "sel_u = (tab_all['band']=='u')\n",
    "sel_g = (tab_all['band']=='g')\n",
    "sel_r = (tab_all['band']=='r')\n",
    "sel_i = (tab_all['band']=='i')\n",
    "sel_z = (tab_all['band']=='z')\n",
    "sel_y = (tab_all['band']=='y')\n",
    "\n",
    "sel_gri = sel_g | sel_r | sel_i\n",
    "sel_uzy = sel_u | sel_z | sel_y\n"
   ]
  },
  {
   "cell_type": "markdown",
   "id": "c882cd6a-2349-4f61-a297-999764efa4f7",
   "metadata": {},
   "source": [
    "#### Distribution of metric values\n",
    "\n",
    "`PA1` and `PF1` are measured _per tract_. Plot histograms of all tract measurements for these metrics, and compare their median values against the requirement thresholds."
   ]
  },
  {
   "cell_type": "code",
   "execution_count": null,
   "id": "68a9f1d0-061a-415f-889b-4c4482899634",
   "metadata": {
    "execution": {
     "iopub.execute_input": "2025-02-12T20:49:18.427837Z",
     "iopub.status.busy": "2025-02-12T20:49:18.427715Z",
     "iopub.status.idle": "2025-02-12T20:49:18.684871Z",
     "shell.execute_reply": "2025-02-12T20:49:18.684418Z",
     "shell.execute_reply.started": "2025-02-12T20:49:18.427826Z"
    }
   },
   "outputs": [],
   "source": [
    "params = {'axes.labelsize': 20,\n",
    "          'font.size': 20,\n",
    "          'legend.fontsize': 14,\n",
    "          'xtick.major.width': 3,\n",
    "          'xtick.minor.width': 2,\n",
    "          'xtick.major.size': 12,\n",
    "          'xtick.minor.size': 6,\n",
    "          'xtick.direction': 'in',\n",
    "          'xtick.top': True,\n",
    "          'lines.linewidth': 3,\n",
    "          'axes.linewidth': 3,\n",
    "          'axes.labelweight': 3,\n",
    "          'axes.titleweight': 3,\n",
    "          'ytick.major.width': 3,\n",
    "          'ytick.minor.width': 2,\n",
    "          'ytick.major.size': 12,\n",
    "          'ytick.minor.size': 6,\n",
    "          'ytick.direction': 'in',\n",
    "          'ytick.right': True,\n",
    "          'figure.figsize': [7, 5],\n",
    "          'figure.facecolor': 'White'}\n",
    "plt.rcParams.update(params)\n",
    "\n",
    "fig, ax = plt.subplots(2, 1, figsize=(7, 8), sharex=True)\n",
    "plt.subplots_adjust(hspace=0)\n",
    "\n",
    "plt.sca(ax[0])\n",
    "plt.hist(tab_all[sel_gri]['PA1'], bins=np.arange(0, 25, 0.5), color='black', histtype='step', linewidth=2, label='gri')\n",
    "pa1_gri_median = np.nanmedian(tab_all[sel_gri]['PA1'])\n",
    "plt.vlines(pa1_gri_median, 0, 8.5, linestyle='--', color='Gray',\n",
    "           label=f'median: {pa1_gri_median:.2f} mmag')\n",
    "plt.vlines(5.0, 0, 8.5, linestyle=':', color='red',\n",
    "           label='requirement: <5.0 mmag')\n",
    "plt.xlim(0, 26.5)\n",
    "plt.ylim(0, 8.5)\n",
    "plt.legend()\n",
    "plt.ylabel('number of tracts')\n",
    "plt.minorticks_on()\n",
    "plt.sca(ax[1])\n",
    "plt.hist(tab_all[sel_uzy]['PA1'], bins=np.arange(0, 25, 0.5), color='black', histtype='step', linewidth=2, label='uzy')\n",
    "pa1_uzy_median = np.nanmedian(tab_all[sel_uzy]['PA1'])\n",
    "plt.vlines(pa1_uzy_median, 0, 8.5, linestyle='--', color='Gray',\n",
    "           label=f'median: {pa1_uzy_median:.2f} mmag')\n",
    "plt.vlines(7.5, 0, 8.5, linestyle=':', color='red',\n",
    "           label='requirement: <7.5 mmag')\n",
    "plt.xlim(0, 26.5)\n",
    "plt.ylim(0, 8.5)\n",
    "plt.legend()\n",
    "plt.xlabel('PA1 (mmag)')\n",
    "plt.ylabel('number of tracts')\n",
    "plt.minorticks_on()\n",
    "plt.show()"
   ]
  },
  {
   "cell_type": "markdown",
   "id": "661c5147-1815-4940-8b69-bbc69c891c41",
   "metadata": {},
   "source": [
    "We see that the median value of `PA1_gri`=7.76 mmag exceeds the requirement threshold of 5.0 mmag. The median value of `PA1_uzy`=7.05 mmag meets the requirement."
   ]
  },
  {
   "cell_type": "code",
   "execution_count": null,
   "id": "4ddf8404-5c85-48c2-9ad7-5b837c1575aa",
   "metadata": {
    "execution": {
     "iopub.execute_input": "2025-02-12T20:49:18.685448Z",
     "iopub.status.busy": "2025-02-12T20:49:18.685314Z",
     "iopub.status.idle": "2025-02-12T20:49:18.947582Z",
     "shell.execute_reply": "2025-02-12T20:49:18.947241Z",
     "shell.execute_reply.started": "2025-02-12T20:49:18.685434Z"
    }
   },
   "outputs": [],
   "source": [
    "fig, ax = plt.subplots(2, 1, figsize=(7, 8), sharex=True)\n",
    "plt.subplots_adjust(hspace=0)\n",
    "\n",
    "plt.sca(ax[0])\n",
    "plt.hist(tab_all[sel_gri]['PF1'], bins=np.arange(0, 7.5, 0.5), color='black', histtype='step', linewidth=2, label='gri')\n",
    "pf1_gri_median = np.nanmedian(tab_all[sel_gri]['PF1'])\n",
    "plt.vlines(pf1_gri_median, 0, 22, linestyle='--', color='Gray',\n",
    "           label=f'median: {pf1_gri_median:.2f} $\\%$')\n",
    "plt.vlines(10.0, 0, 22, linestyle=':', color='red',\n",
    "           label='requirement: <10%')\n",
    "plt.xlim(0, 11.5)\n",
    "# plt.ylim(0, 18.5)\n",
    "plt.legend()\n",
    "plt.ylabel('number of tracts')\n",
    "plt.minorticks_on()\n",
    "plt.sca(ax[1])\n",
    "plt.hist(tab_all[sel_uzy]['PF1'], bins=np.arange(0, 7.5, 0.5), color='black', histtype='step', linewidth=2, label='uzy')\n",
    "pf1_uzy_median = np.nanmedian(tab_all[sel_uzy]['PF1'])\n",
    "plt.vlines(pf1_uzy_median, 0, 19.5, linestyle='--', color='Gray',\n",
    "           label=f'median: {pf1_uzy_median:.2f} $\\%$')\n",
    "plt.vlines(10.0, 0, 22, linestyle=':', color='red',\n",
    "           label='requirement: <10%')\n",
    "plt.xlim(0, 11.5)\n",
    "plt.ylim(0, 19.5)\n",
    "plt.legend()\n",
    "plt.xlabel(r'PF1 $(\\%)$')\n",
    "plt.ylabel('number of tracts')\n",
    "plt.minorticks_on()\n",
    "plt.show()"
   ]
  },
  {
   "cell_type": "markdown",
   "id": "f3991b03-5bd5-482a-8336-b4c7e643a940",
   "metadata": {},
   "source": [
    "We see that the median values of both `PF1_gri` and `PF1_uzy` are well below the requirement threshold of 10%."
   ]
  },
  {
   "cell_type": "markdown",
   "id": "eda41610-779f-46dc-88e2-ccb6c6277462",
   "metadata": {},
   "source": [
    "### Plots associated with the metrics\n",
    "\n",
    "Retrieve the plots that are created alongside the metrics by `analysis_tools`, and display them in the notebook."
   ]
  },
  {
   "cell_type": "markdown",
   "id": "ede1f22b-84a2-49d6-934d-3fbf1ed7ee38",
   "metadata": {
    "execution": {
     "iopub.execute_input": "2024-07-26T22:42:33.056444Z",
     "iopub.status.busy": "2024-07-26T22:42:33.056097Z",
     "iopub.status.idle": "2024-07-26T22:42:33.058611Z",
     "shell.execute_reply": "2024-07-26T22:42:33.058210Z",
     "shell.execute_reply.started": "2024-07-26T22:42:33.056429Z"
    }
   },
   "source": [
    "The following cell extracts a list of dataset references for all histograms of dataset type `matchedVisitCore_stellarPhotometricRepeatability_HistPlot`. These are per-tract, per-band histograms of the photometric repeatability over all visits."
   ]
  },
  {
   "cell_type": "code",
   "execution_count": null,
   "id": "393bae87-27ef-4e0c-bbfe-cf514e9ce2a1",
   "metadata": {
    "execution": {
     "iopub.execute_input": "2025-02-12T20:49:18.948109Z",
     "iopub.status.busy": "2025-02-12T20:49:18.947986Z",
     "iopub.status.idle": "2025-02-12T20:49:19.093547Z",
     "shell.execute_reply": "2025-02-12T20:49:19.093145Z",
     "shell.execute_reply.started": "2025-02-12T20:49:18.948097Z"
    }
   },
   "outputs": [],
   "source": [
    "plots_all = butler.query_datasets('matchedVisitCore_stellarPhotometricRepeatability_HistPlot',\n",
    "                                  where=\"skymap='lsst_cells_v1'\")"
   ]
  },
  {
   "cell_type": "markdown",
   "id": "1b87a2fc-3d1d-416c-a5d2-e7a2cd343235",
   "metadata": {
    "execution": {
     "iopub.execute_input": "2024-07-26T21:36:07.480626Z",
     "iopub.status.busy": "2024-07-26T21:36:07.480359Z",
     "iopub.status.idle": "2024-07-26T21:36:07.483427Z",
     "shell.execute_reply": "2024-07-26T21:36:07.483127Z",
     "shell.execute_reply.started": "2024-07-26T21:36:07.480613Z"
    }
   },
   "source": [
    "Display one of the plots. This is a histogram of the RMS repeatability values for all stars in a given tract/band."
   ]
  },
  {
   "cell_type": "code",
   "execution_count": null,
   "id": "7d4d34f1-5558-486a-9c4d-0b4dd8b8882d",
   "metadata": {
    "execution": {
     "iopub.execute_input": "2025-02-12T20:49:19.094137Z",
     "iopub.status.busy": "2025-02-12T20:49:19.093994Z",
     "iopub.status.idle": "2025-02-12T20:49:19.244828Z",
     "shell.execute_reply": "2025-02-12T20:49:19.244452Z",
     "shell.execute_reply.started": "2025-02-12T20:49:19.094123Z"
    }
   },
   "outputs": [],
   "source": [
    "uri = butler.getURI(plots_all[12])\n",
    "image_bytes = uri.read()\n",
    "Image(image_bytes, width=600)\n"
   ]
  },
  {
   "cell_type": "markdown",
   "id": "61eaafa4-c290-4b74-9628-2f967816034d",
   "metadata": {},
   "source": [
    "## Results\n",
    "We have demonstrated that there is software within the Rubin Science Pipelines to calculate photometric repeatability (`PA1`) and the percentage of outliers (`PF1`). Additionally we have shown the metrics and plots that are produced by `analysis_tools` each time the DRP pipeline is executed.\n",
    "\n",
    "The metrics measured on LSST ComCam data exceed the requirement threshold for `PA1_gri`, but meet the requirements for `PA1_uzy` and `PF1`. It is unclear whether `PA1_gri` reflects poor data quality (and/or effects of data processing), or whether it is more of a reflection of the limited datasets gathered during the ComCam on-sky campaign.\n",
    "\n",
    "The result of this test is a \"**Fail**\", but could likely be passing with careful exploration of the outliers causing large repeatability in the \"gri\" bands."
   ]
  },
  {
   "cell_type": "code",
   "execution_count": null,
   "id": "27289b57-353a-47f1-b5a6-f54eac1afb93",
   "metadata": {},
   "outputs": [],
   "source": []
  }
 ],
 "metadata": {
  "kernelspec": {
   "display_name": "LSST",
   "language": "python",
   "name": "lsst"
  },
  "language_info": {
   "codemirror_mode": {
    "name": "ipython",
    "version": 3
   },
   "file_extension": ".py",
   "mimetype": "text/x-python",
   "name": "python",
   "nbconvert_exporter": "python",
   "pygments_lexer": "ipython3",
   "version": "3.11.11"
  }
 },
 "nbformat": 4,
 "nbformat_minor": 5
}
