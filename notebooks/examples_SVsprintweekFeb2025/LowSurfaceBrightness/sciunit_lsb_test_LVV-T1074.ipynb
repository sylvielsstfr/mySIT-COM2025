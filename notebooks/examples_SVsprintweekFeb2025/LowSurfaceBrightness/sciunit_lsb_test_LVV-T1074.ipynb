{
 "cells": [
  {
   "cell_type": "markdown",
   "id": "83403b0d-791c-4d58-9cd7-6e9af204516b",
   "metadata": {},
   "source": [
    "# Test case LVV-T1074: Sky Brightness precision\n",
    "\n",
    "> **The maximum error in the precision of the sky brightness determination shall be less than SBPerc = 1 percent.**\n",
    "\n",
    "This test verifies the following requirements:\n",
    "\n",
    "- LSR-REQ-0093-V-07: Sky brightness determination (https://rubinobs.atlassian.net/browse/LVV-9800)\n",
    "- OSS-REQ-0387-V-05: Sky Brightness precision (https://rubinobs.atlassian.net/browse/LVV-13366)\n"
   ]
  },
  {
   "cell_type": "markdown",
   "id": "56cfe482-9f7a-4eab-8883-a4a725966cc9",
   "metadata": {},
   "source": [
    "#### Discussion\n",
    "\n",
    "This test notebook can be run using data products produced during regular reprocessing campaigns executed by the Data Management pipelines team.\n",
    "\n",
    "- Calculations here : https://smtn-016.lsst.io/\n",
    "- DOCUMENTATION on DATA PRODUCTS : https://docushare.lsst.org/docushare/dsweb/Get/LSE-163 or https://lse-163.lsst.io/\n",
    "\n",
    "Initial testing of this notebook was performed using data in the following collections:\n",
    "\n",
    "- ComCam: `LSSTComCam/runs/DRP/DP1/w_2025_05/DM-48666`\n",
    "- HSC RC2: `HSC/runs/RC2/w_2024_46/DM-47577`\n"
   ]
  },
  {
   "cell_type": "code",
   "execution_count": null,
   "id": "c63bb808",
   "metadata": {
    "execution": {
     "iopub.execute_input": "2025-02-12T20:50:55.620466Z",
     "iopub.status.busy": "2025-02-12T20:50:55.620325Z",
     "iopub.status.idle": "2025-02-12T20:50:58.157037Z",
     "shell.execute_reply": "2025-02-12T20:50:58.156525Z",
     "shell.execute_reply.started": "2025-02-12T20:50:55.620453Z"
    }
   },
   "outputs": [],
   "source": [
    "import sys\n",
    "import time\n",
    "\n",
    "import matplotlib.pyplot as plt\n",
    "import numpy as np\n",
    "from astropy.stats import sigma_clip\n",
    "from IPython.display import clear_output, display\n",
    "from lsst.daf.butler import Butler\n",
    "from lsst.utils.packages import getEnvironmentPackages\n",
    "from matplotlib.lines import Line2D\n",
    "\n",
    "\n",
    "def print_session_info():\n",
    "    # Time info\n",
    "    print(f\"# Session Info on {time.strftime('%Y-%m-%d at %H:%M:%S %Z', time.localtime(time.time()))}\\n\")\n",
    "\n",
    "    # Python info\n",
    "    print(f\"## Python Interpreter\\n\\nVersion: {sys.version}  \\nExecutable: {sys.executable}\\n\")\n",
    "\n",
    "    # LSST info\n",
    "    packages = getEnvironmentPackages(True)\n",
    "    dev_packages = {\"lsst_distrib\": packages[\"lsst_distrib\"]}\n",
    "    dev_packages.update({k: v.split(\"@\")[0] for k, v in packages.items() if \"LOCAL\" in v})\n",
    "    print(\"## Science Pipelines\\n\\n\" + \"\\n\".join(f\"{k:<20} {v}\" for k, v in dev_packages.items()))\n",
    "\n",
    "\n",
    "print_session_info()"
   ]
  },
  {
   "cell_type": "markdown",
   "id": "d88ee02e-56af-440b-ad9d-87208d45dc70",
   "metadata": {},
   "source": [
    "#### Methodology\n",
    "\n",
    "We will measure the precision of the sky brightness using caibrated exposure (`calexp`) data.\n",
    "The following will be executed _for each detector, for each test visit_:\n",
    "\n",
    "- Retrieve the sky-subtracted `calexp`;\n",
    "- Convert image flux to nanojanskies;\n",
    "- Measure and record the per-pixel standard deviation of the background pixel fluxes, ignoring masked detections and artifacts.\n",
    "\n",
    "We also measure this metric using the `sourceTable_visit` tables.\n",
    "The following will be executed _for each test visit_:\n",
    "\n",
    "- Trim the `sourceTable_visit` table to include only sky sources;\n",
    "- Divide the summed `ap09Flux` fluxes by the circular aperture area to derive the mean fluxes within each aperture;\n",
    "- Measure and record the standard deviation of these sky source mean fluxes (equivalent to the standard deviation of an image binned by the aperture area);\n",
    "- Correct these mean fluxes by $\\sqrt{N}$, where $N$ is the number of pixels in the measurement aperture, to estimate the per-pixel standard deviation equivalent to that measured from the image background directly;\n",
    "- Record the ratios between the standard deviations of the image backgrounds and sky source fluxes to the visit's mean sky brightness, derived as the mean of the `calexp` metadata `BGMEAN` parameters for all CCDs;\n",
    "- Convert from the per-pixel standard deviations into a standard metric for the limiting surface brightness, $3\\sigma$ on 10\"x10\" scales, using the pixel scales associated with each `calexp`.\n"
   ]
  },
  {
   "cell_type": "markdown",
   "id": "5129f52a",
   "metadata": {},
   "source": [
    "#### Initialization\n"
   ]
  },
  {
   "cell_type": "code",
   "execution_count": null,
   "id": "c3be4cf8",
   "metadata": {
    "execution": {
     "iopub.execute_input": "2025-02-12T20:50:58.157687Z",
     "iopub.status.busy": "2025-02-12T20:50:58.157548Z",
     "iopub.status.idle": "2025-02-12T20:50:58.159778Z",
     "shell.execute_reply": "2025-02-12T20:50:58.159418Z",
     "shell.execute_reply.started": "2025-02-12T20:50:58.157673Z"
    }
   },
   "outputs": [],
   "source": [
    "# Choose a data collection\n",
    "collection = \"LSSTComCam/runs/DRP/DP1/w_2025_05/DM-48666\"\n",
    "# collection = \"HSC/runs/RC2/w_2024_46/DM-47577\""
   ]
  },
  {
   "cell_type": "code",
   "execution_count": null,
   "id": "cb8f642b",
   "metadata": {
    "execution": {
     "iopub.execute_input": "2025-02-12T20:50:58.160320Z",
     "iopub.status.busy": "2025-02-12T20:50:58.160185Z",
     "iopub.status.idle": "2025-02-12T20:50:58.549019Z",
     "shell.execute_reply": "2025-02-12T20:50:58.548572Z",
     "shell.execute_reply.started": "2025-02-12T20:50:58.160301Z"
    }
   },
   "outputs": [],
   "source": [
    "# Instantiate the Butler\n",
    "repo = \"/repo/main\"\n",
    "butler = Butler.from_config(repo, collections=collection)"
   ]
  },
  {
   "cell_type": "code",
   "execution_count": null,
   "id": "c79eb221",
   "metadata": {
    "execution": {
     "iopub.execute_input": "2025-02-12T20:50:58.549644Z",
     "iopub.status.busy": "2025-02-12T20:50:58.549503Z",
     "iopub.status.idle": "2025-02-12T20:50:58.862901Z",
     "shell.execute_reply": "2025-02-12T20:50:58.862453Z",
     "shell.execute_reply.started": "2025-02-12T20:50:58.549630Z"
    }
   },
   "outputs": [],
   "source": [
    "# Define a visit list\n",
    "instrument = collection.split(\"/\")[0]\n",
    "if instrument == \"LSSTComCam\":\n",
    "    detectors = list(range(9))\n",
    "elif instrument == \"HSC\":\n",
    "    detectors = list(range(104))\n",
    "    detectors.remove(9)  # Faulty CCD in HSC\n",
    "refs = butler.query_datasets(\"sourceTable_visit\", collections=collection)\n",
    "visits = [x.dataId[\"visit\"] for x in refs if x.dataId[\"band\"] == \"g\"]  # g-band only\n",
    "visits = visits[: int(np.ceil(500 / len(detectors)))]  # limit to a sub-sample of visits"
   ]
  },
  {
   "cell_type": "code",
   "execution_count": null,
   "id": "634c0da3",
   "metadata": {
    "execution": {
     "iopub.execute_input": "2025-02-12T20:50:58.863580Z",
     "iopub.status.busy": "2025-02-12T20:50:58.863419Z",
     "iopub.status.idle": "2025-02-12T20:50:58.865722Z",
     "shell.execute_reply": "2025-02-12T20:50:58.865366Z",
     "shell.execute_reply.started": "2025-02-12T20:50:58.863567Z"
    }
   },
   "outputs": [],
   "source": [
    "# Set the mask planes to ignore, following defaults in `background.py` used by `skyCorr`\n",
    "badMaskPlanes = [\"SAT\", \"BAD\", \"EDGE\", \"DETECTED\", \"DETECTED_NEGATIVE\", \"NO_DATA\"]"
   ]
  },
  {
   "cell_type": "code",
   "execution_count": null,
   "id": "2c705c59",
   "metadata": {
    "execution": {
     "iopub.execute_input": "2025-02-12T20:50:58.866261Z",
     "iopub.status.busy": "2025-02-12T20:50:58.866134Z",
     "iopub.status.idle": "2025-02-12T20:50:58.872130Z",
     "shell.execute_reply": "2025-02-12T20:50:58.871774Z",
     "shell.execute_reply.started": "2025-02-12T20:50:58.866249Z"
    }
   },
   "outputs": [],
   "source": [
    "print(f\"{repo = }\\n{collection = }\\n{len(visits) = }\")"
   ]
  },
  {
   "cell_type": "markdown",
   "id": "1a140af4",
   "metadata": {},
   "source": [
    "#### Functions\n",
    "\n",
    "The cells below define functions that retrieve image and metadata (`retrieveImage`) and retrieve sky sources (`retrieveSkySources`).\n"
   ]
  },
  {
   "cell_type": "code",
   "execution_count": null,
   "id": "c2b9adc0-55dd-4ee1-80de-537445694f7a",
   "metadata": {
    "execution": {
     "iopub.execute_input": "2025-02-12T20:50:58.872685Z",
     "iopub.status.busy": "2025-02-12T20:50:58.872561Z",
     "iopub.status.idle": "2025-02-12T20:50:58.878155Z",
     "shell.execute_reply": "2025-02-12T20:50:58.877806Z",
     "shell.execute_reply.started": "2025-02-12T20:50:58.872674Z"
    }
   },
   "outputs": [],
   "source": [
    "def retrieveImage(dataId, collection):\n",
    "    \"\"\"Retrieve the sky-subtracted calibrated exposure and associated metadata.\n",
    "\n",
    "    Parameters\n",
    "    ----------\n",
    "    dataId : `dict`\n",
    "        Dictionary containing \"visit\", \"detector\", and \"instrument\" values for\n",
    "        image retrieval\n",
    "    collection : `str`\n",
    "        Name of the collection in which the desired images are stored\n",
    "\n",
    "    Returns\n",
    "    -------\n",
    "    calexp : `ImageF`\n",
    "        Calexp with the `calexpBackground` subtracted from it, converted to nJy\n",
    "    `metaData` : `dict`\n",
    "        Dictionary of calexp metadata, including mean BG flux (in nJy)\n",
    "    \"\"\"\n",
    "    # Retrieve the image, metadata, and calibration\n",
    "    calexp = butler.get(\"calexp\", dataId=dataId, collections=collection)\n",
    "    metaData = calexp.info.getMetadata().toDict()\n",
    "    photoZp = calexp.getPhotoCalib().instFluxToNanojansky(1)\n",
    "\n",
    "    # Convert everything to nanojansky\n",
    "    calexp.image.array *= photoZp\n",
    "    metaData[\"BGMEAN\"] *= photoZp\n",
    "    metaData[\"BGVAR\"] *= photoZp\n",
    "\n",
    "    return calexp, metaData"
   ]
  },
  {
   "cell_type": "code",
   "execution_count": null,
   "id": "0d490a45-1522-4d93-92a0-f32143c4caf7",
   "metadata": {
    "execution": {
     "iopub.execute_input": "2025-02-12T20:50:58.878698Z",
     "iopub.status.busy": "2025-02-12T20:50:58.878575Z",
     "iopub.status.idle": "2025-02-12T20:50:58.884008Z",
     "shell.execute_reply": "2025-02-12T20:50:58.883677Z",
     "shell.execute_reply.started": "2025-02-12T20:50:58.878687Z"
    }
   },
   "outputs": [],
   "source": [
    "def retrieveSkySources(dataId, collection, aper=9):\n",
    "    \"\"\"Retrieve sky source aperture fluxes for a given detector / visit.\n",
    "\n",
    "    Parameters\n",
    "    ----------\n",
    "    dataId : `dict`\n",
    "        Dictionary containing \"visit\", \"detector\", and \"instrument\" values for\n",
    "        image retrieval\n",
    "    collection : `str`\n",
    "        Name of the collection in which the desired images are stored\n",
    "    aper : `int`\n",
    "        Choice of sky source aperture radius. Valid are 3,6,9,12,25,35,70.\n",
    "        The 9 pixel aperture is recommended as sky sources are defined as being\n",
    "        >8px from the nearest detection.\n",
    "\n",
    "    Returns\n",
    "    -------\n",
    "    skySources : pandas `Series`\n",
    "        Total fluxes of sky sources within circular aperture of radius aper.\n",
    "        Units are nJy.\n",
    "    \"\"\"\n",
    "    # Retrieve table\n",
    "    srcTab = butler.get(\"sourceTable\", dataId=dataId, collections=collection)\n",
    "    isSky = srcTab[\"sky_source\"] > 0  # Pick only sky sources\n",
    "    skySources = srcTab[isSky][\"ap%02dFlux\" % (aper)]  # Units are nJy already\n",
    "\n",
    "    return skySources"
   ]
  },
  {
   "cell_type": "markdown",
   "id": "43af31a9-5f61-4acb-b2a6-787a2d2872e2",
   "metadata": {},
   "source": [
    "Estimation of the background and sky source standard deviations are wrapped into functions called `deriveBgNoise` and `deriveSkySourceNoise`, in the following cells:\n"
   ]
  },
  {
   "cell_type": "code",
   "execution_count": null,
   "id": "c80ff687-46e0-4b53-b99c-eb0b96614067",
   "metadata": {
    "execution": {
     "iopub.execute_input": "2025-02-12T20:50:58.884560Z",
     "iopub.status.busy": "2025-02-12T20:50:58.884439Z",
     "iopub.status.idle": "2025-02-12T20:50:58.890203Z",
     "shell.execute_reply": "2025-02-12T20:50:58.889848Z",
     "shell.execute_reply.started": "2025-02-12T20:50:58.884547Z"
    }
   },
   "outputs": [],
   "source": [
    "def deriveBgNoise(dataId, collection):\n",
    "    \"\"\"Derive the clipped standard deviation of the background of\n",
    "    sky-subtracted calexps for a single visit.\n",
    "\n",
    "    Parameters\n",
    "    ----------\n",
    "    dataId : `dict`\n",
    "        Dictionary containing \"visit\", \"detector\", and \"instrument\" values for\n",
    "        image retrieval\n",
    "    collection : `str`\n",
    "        Name of the collection in which the desired images are stored\n",
    "\n",
    "    Returns\n",
    "    -------\n",
    "    sigSkyBg : `float`\n",
    "        Clipped standard deviation of sky-subtracted background flux, nJy\n",
    "    noiseFracBg : `float`\n",
    "        Ratio between sigSkyBg and mean sky brightness of exposure\n",
    "    \"\"\"\n",
    "    # Retrieve images and metadata\n",
    "    ssImage, metaData = retrieveImage(dataId, collection)\n",
    "\n",
    "    # Mask the sky-subtracted image of sources/other things\n",
    "    mask = ssImage.maskedImage.mask\n",
    "    bad_mask_bit_mask = mask.getPlaneBitMask(badMaskPlanes)\n",
    "    good = (mask.array.astype(int) & bad_mask_bit_mask) == 0\n",
    "\n",
    "    # Sigma-clip background pixel fluxes\n",
    "    clipSkyBackground = np.array(sigma_clip(ssImage.image.array[good], sigma=3, maxiters=3, masked=False))\n",
    "\n",
    "    sigSkyBg = np.nanstd(clipSkyBackground)  # 1 sigma value, per pixel\n",
    "\n",
    "    # Sky accuracy estimates\n",
    "    noiseFracBg = sigSkyBg / metaData[\"BGMEAN\"]\n",
    "\n",
    "    return sigSkyBg, noiseFracBg"
   ]
  },
  {
   "cell_type": "code",
   "execution_count": null,
   "id": "2b63e136-e520-4b86-a8ec-7e1c087963b9",
   "metadata": {
    "execution": {
     "iopub.execute_input": "2025-02-12T20:50:58.890915Z",
     "iopub.status.busy": "2025-02-12T20:50:58.890631Z",
     "iopub.status.idle": "2025-02-12T20:50:58.897047Z",
     "shell.execute_reply": "2025-02-12T20:50:58.896685Z",
     "shell.execute_reply.started": "2025-02-12T20:50:58.890903Z"
    }
   },
   "outputs": [],
   "source": [
    "def deriveSkySourceNoise(dataId, collection, bgMean, aper=9):\n",
    "    \"\"\"Derive the clipped standard deviation of sky sources for a single visit.\n",
    "\n",
    "    Parameters\n",
    "    ----------\n",
    "    dataId : `dict`\n",
    "        Dictionary containing \"visit\", \"detector\", and \"instrument\" values for\n",
    "        image retrieval\n",
    "    collection : `str`\n",
    "        Name of the collection in which the desired images are stored\n",
    "    bgMean : `float`\n",
    "        BGMEAN parameter for the corresponding detector\n",
    "    aper : `int`\n",
    "        Choice of sky source aperture radius. See retrieveSkySources()\n",
    "\n",
    "    Returns\n",
    "    -------\n",
    "    sigSkySource : `float`\n",
    "        Clipped standard deviation of mean sky source fluxes within aperture.\n",
    "        Units are nJy.\n",
    "    noiseFracSource : `float`\n",
    "        Ratio between sigSkySource and mean sky brightness of exposure.\n",
    "    \"\"\"\n",
    "    # Retrieve data\n",
    "    skySources = retrieveSkySources(dataId, collection, aper)\n",
    "\n",
    "    # Sigma-clip mean fluxes within sky source apertures\n",
    "    nPix = np.pi * aper**2  # Number of pixels per aperture\n",
    "    clipSkySources = np.array(sigma_clip(skySources / nPix, sigma=3, maxiters=3, masked=False))\n",
    "\n",
    "    # The distribution of the mean fluxes within 9px radius apertures is\n",
    "    # equivalent to the distribution of a binned version of the image, i.e. std\n",
    "    # is reduced by the bin factor. As such, we take that out to compare\n",
    "    # against the per-pixel std.\n",
    "    sigSkySource = np.nanstd(clipSkySources) * np.sqrt(nPix)\n",
    "\n",
    "    # Sky accuracy estimate\n",
    "    noiseFracSource = sigSkySource / bgMean\n",
    "\n",
    "    return sigSkySource, noiseFracSource"
   ]
  },
  {
   "cell_type": "markdown",
   "id": "404f8cc9-4a06-4bb0-b27d-b2295a7cd415",
   "metadata": {},
   "source": [
    "Derivation of an additional metric, the limiting surface brightness, is wrapped in the function `deriveLimitingSb` in the following cell:\n"
   ]
  },
  {
   "cell_type": "code",
   "execution_count": null,
   "id": "28fd4b71-be7c-4986-bd44-1e0ee574be6c",
   "metadata": {
    "execution": {
     "iopub.execute_input": "2025-02-12T20:50:58.897613Z",
     "iopub.status.busy": "2025-02-12T20:50:58.897496Z",
     "iopub.status.idle": "2025-02-12T20:50:58.903870Z",
     "shell.execute_reply": "2025-02-12T20:50:58.903510Z",
     "shell.execute_reply.started": "2025-02-12T20:50:58.897602Z"
    }
   },
   "outputs": [],
   "source": [
    "def deriveLimitingSb(dataId, collection, aper=9):\n",
    "    \"\"\"Derive the limiting surface brightness, as defined by\n",
    "    Roman et al. (2020), using sky sources for a given visit and detector. This\n",
    "    is defined as 3x the standard deviation of the background flux distribution\n",
    "    as averaged over 10\" x 10\" scales.\n",
    "\n",
    "    Parameters\n",
    "    ----------\n",
    "    dataId : `dict`\n",
    "        Dictionary containing \"visit\", \"detector\", and \"instrument\" values for\n",
    "        image retrieval\n",
    "    collection : `str`\n",
    "        Name of the collection in which the desired images are stored\n",
    "    aper : `int`\n",
    "        Choice of sky source aperture radius. Valid are 3,6,9,12,25,35,70.\n",
    "        The 9 pixel aperture is recommended as sky sources are defined as being\n",
    "        >8px from the nearest detection.\n",
    "    \"\"\"\n",
    "    skySources = retrieveSkySources(dataId, collection, aper=aper)\n",
    "\n",
    "    # Derive sigma-clipped per-pixel standard deviation\n",
    "    nPix = np.pi * aper**2  # Number of pixels within the circular aperture\n",
    "    clipSkySources = np.array(sigma_clip(skySources / nPix, sigma=3, maxiters=3, masked=False))\n",
    "    sigSkySource = np.nanstd(clipSkySources)\n",
    "    # Retrieve magnitude zeropoint and pixel scale for conversion to surface brightness\n",
    "    magZp = butler.get(\"calexp.photoCalib\", dataId, collections=collection).instFluxToMagnitude(1)\n",
    "    pxScale = butler.get(\"calexp.wcs\", dataId, collections=collection).getPixelScale().asArcseconds()\n",
    "\n",
    "    # Derive limiting surface brightness: 3sigma, on 10\"x10\" scales\n",
    "    pixScaleRatio = np.sqrt(pxScale**2 / (nPix * pxScale**2))\n",
    "    sigma = sigSkySource / pixScaleRatio\n",
    "    muLim = -2.5 * np.log10((3 * sigma) / (pxScale * 10)) + magZp\n",
    "\n",
    "    return muLim"
   ]
  },
  {
   "cell_type": "markdown",
   "id": "e0327681-a28c-42d0-8ec6-bfe0d11bfb39",
   "metadata": {},
   "source": [
    "#### Data Processing\n",
    "\n",
    "For _M_ visits, derive the background standard deviations and noise ratios of all CCDs and collate into lists.\n"
   ]
  },
  {
   "cell_type": "code",
   "execution_count": null,
   "id": "79ace256-17b8-4ce6-a332-e4e773ed1e83",
   "metadata": {
    "execution": {
     "iopub.execute_input": "2025-02-12T20:50:58.904458Z",
     "iopub.status.busy": "2025-02-12T20:50:58.904320Z",
     "iopub.status.idle": "2025-02-12T21:33:42.025351Z",
     "shell.execute_reply": "2025-02-12T21:33:42.024964Z",
     "shell.execute_reply.started": "2025-02-12T20:50:58.904442Z"
    }
   },
   "outputs": [],
   "source": [
    "# Set up a basic progress bar\n",
    "pound = \"#\"\n",
    "bounds = \" \" * (len(detectors)) + \"| %d\" % (1)\n",
    "\n",
    "# Store results in a dictionary accessed by visit ID\n",
    "noiseDict = {}\n",
    "# Processing time here is long!\n",
    "for i, vis in enumerate(visits):\n",
    "    noiseDict[vis] = {\n",
    "        \"sigSkySource\": [],\n",
    "        \"sigSkyBg\": [],\n",
    "        \"noiseFracSource\": [],\n",
    "        \"noiseFracBg\": [],\n",
    "        \"muLim\": [],\n",
    "    }\n",
    "    # Reset progress bar per visit, label by iteration #\n",
    "    if vis != visits[0]:\n",
    "        pound = \"#\"\n",
    "        bounds = \" \" * (len(detectors)) + \"| %d\" % (i + 1)\n",
    "    for det in detectors:\n",
    "        dataId = {\"visit\": vis, \"detector\": det, \"instrument\": instrument}\n",
    "        # Image backgrounds\n",
    "        try:\n",
    "            sigSkyBg, noiseFracBg = deriveBgNoise(dataId, collection)\n",
    "            noiseDict[vis][\"sigSkyBg\"].append(sigSkyBg)\n",
    "            noiseDict[vis][\"noiseFracBg\"].append(noiseFracBg)\n",
    "            bgMean = sigSkyBg / noiseFracBg  # Mean of detector BG\n",
    "        except Exception:\n",
    "            noiseDict[vis][\"sigSkyBg\"].append(np.nan)\n",
    "            noiseDict[vis][\"noiseFracBg\"].append(np.nan)\n",
    "            bgMean = np.nan\n",
    "\n",
    "        # sky sources\n",
    "        try:\n",
    "            sigSkySource, noiseFracSource = deriveSkySourceNoise(dataId, collection, bgMean)\n",
    "            noiseDict[vis][\"sigSkySource\"].append(sigSkySource)\n",
    "            noiseDict[vis][\"noiseFracSource\"].append(noiseFracSource)\n",
    "        except Exception:\n",
    "            noiseDict[vis][\"sigSkySource\"].append(np.nan)\n",
    "            noiseDict[vis][\"noiseFracSource\"].append(np.nan)\n",
    "\n",
    "        # Limiting surface brightness\n",
    "        try:\n",
    "            muLim = deriveLimitingSb(dataId, collection)\n",
    "            noiseDict[vis][\"muLim\"].append(muLim)\n",
    "        except Exception:\n",
    "            noiseDict[vis][\"muLim\"].append(np.nan)\n",
    "\n",
    "        # Progress bar code\n",
    "        clear_output(wait=True)\n",
    "        display(pound + bounds)\n",
    "        pound += \"#\"\n",
    "        bounds = bounds[1:]"
   ]
  },
  {
   "cell_type": "markdown",
   "id": "0dbc27ee-4bc1-4204-b87b-c234171ca6e0",
   "metadata": {},
   "source": [
    "For a random sub-sample of at least five visits (or all visits, if fewer than five total), print the standard deviations derived each way to the screen, and print the ratios between these and the mean background flux.\n"
   ]
  },
  {
   "cell_type": "code",
   "execution_count": null,
   "id": "3339e2d1-1838-4bf0-8b81-3ae699e66fd5",
   "metadata": {
    "execution": {
     "iopub.execute_input": "2025-02-12T21:33:42.026591Z",
     "iopub.status.busy": "2025-02-12T21:33:42.025800Z",
     "iopub.status.idle": "2025-02-12T21:33:42.031982Z",
     "shell.execute_reply": "2025-02-12T21:33:42.031613Z",
     "shell.execute_reply.started": "2025-02-12T21:33:42.026575Z"
    }
   },
   "outputs": [],
   "source": [
    "print(\n",
    "    \"Standard deviations and ratios with mean background flux for (max) five randomly chosen calexps in %a\"\n",
    "    % (instrument)\n",
    ")\n",
    "print(\"==================================================================================\")\n",
    "rng = np.random.default_rng(12345)  # Arbitrary seed\n",
    "if len(visits) < 5:\n",
    "    idx = np.arange(len(visits))\n",
    "else:\n",
    "    idx = rng.choice(np.arange(len(visits)), size=5, replace=False)\n",
    "keys = np.array(list(noiseDict.keys()))[idx]\n",
    "for key in keys:\n",
    "    idy = rng.choice(np.arange(9))  # Random detector ID\n",
    "    print(\n",
    "        \"Visit %d: sigBG=%.3f nJy, sigSources=%.3f nJy, sigBG/fBG=%.3f, sigSources/fSources=%.3f, muLim=%.3f mag/arcsec^2\"\n",
    "        % (\n",
    "            key,\n",
    "            np.nanmean(noiseDict[key][\"sigSkyBg\"][idy]),\n",
    "            noiseDict[key][\"sigSkySource\"][idy],\n",
    "            np.nanmean(noiseDict[key][\"noiseFracBg\"][idy]),\n",
    "            noiseDict[key][\"noiseFracSource\"][idy],\n",
    "            np.nanmean(noiseDict[key][\"muLim\"][idy]),\n",
    "        )\n",
    "    )"
   ]
  },
  {
   "cell_type": "markdown",
   "id": "87fc4570-a444-4908-bc38-65b7f195e4f2",
   "metadata": {},
   "source": [
    "#### Analysis\n",
    "\n",
    "The standard deviation measured from the background measures the pixel-to-pixel uncertainty from the distribution of all background flux, while that measured from sky sources measures the same uncertainty on larger (9px radius aperture) scales. Larger standard deviations measured within apertures suggest that the backgrounds contain correlated flux, possibly leakage from detection or artifact masks.\n",
    "\n",
    "The ratio between the standard deviation and the mean background flux subtracted from images is our defined metric to measure the `SBPerc` parameter specified in the requirement.\n",
    "\n",
    "**From this small sub-sample of test images, the requirement is not being met.**\n",
    "\n",
    "Limiting surface brightness is a metric used frequently by the LSB community, and can be tracked as the pipeline changes. The per-visit value is of less interest than the value derived from `deepCoadd` images, but that can be estimated using the number of images $N$ being coadded by assuming the background noise decreases as $\\sqrt{N}$.\n"
   ]
  },
  {
   "cell_type": "markdown",
   "id": "1506b23c-9296-4aae-a0ae-dfdfa9750759",
   "metadata": {},
   "source": [
    "#### Plots\n",
    "\n",
    "Below we create histograms of standard deviations, standard deviations normalized by the mean sky flux, and limiting surface brightness in each detector in each visit tested.\n"
   ]
  },
  {
   "cell_type": "code",
   "execution_count": null,
   "id": "b1754ac5-ba74-4996-a05a-47fb6649caab",
   "metadata": {
    "execution": {
     "iopub.execute_input": "2025-02-12T21:33:42.032549Z",
     "iopub.status.busy": "2025-02-12T21:33:42.032418Z",
     "iopub.status.idle": "2025-02-12T21:33:42.041245Z",
     "shell.execute_reply": "2025-02-12T21:33:42.040889Z",
     "shell.execute_reply.started": "2025-02-12T21:33:42.032537Z"
    }
   },
   "outputs": [],
   "source": [
    "# Retrieve stored dictionary values as Numpy arrays\n",
    "sigSkyBgs = np.array([noiseDict[visits[i]][\"sigSkyBg\"] for i in range(len(visits))]).flatten()\n",
    "sigSkySources = np.array([noiseDict[key][\"sigSkySource\"] for key in visits]).flatten()\n",
    "noiseFracBgs = np.array([noiseDict[visits[i]][\"noiseFracBg\"] for i in range(len(visits))]).flatten()\n",
    "noiseFracSources = np.array([noiseDict[key][\"noiseFracSource\"] for key in visits]).flatten()\n",
    "muLims = np.array([noiseDict[key][\"muLim\"] for key in visits]).flatten()"
   ]
  },
  {
   "cell_type": "code",
   "execution_count": null,
   "id": "c1337796-7924-4f46-90ed-0450bf154a00",
   "metadata": {
    "execution": {
     "iopub.execute_input": "2025-02-12T21:33:42.041814Z",
     "iopub.status.busy": "2025-02-12T21:33:42.041691Z",
     "iopub.status.idle": "2025-02-12T21:33:42.392210Z",
     "shell.execute_reply": "2025-02-12T21:33:42.391681Z",
     "shell.execute_reply.started": "2025-02-12T21:33:42.041803Z"
    }
   },
   "outputs": [],
   "source": [
    "fig, axs = plt.subplots(2, 2, figsize=(8, 8))\n",
    "axs = axs.flatten()\n",
    "\n",
    "# Standard deviation\n",
    "N = 30  # Number of histogram bins\n",
    "axs[0].hist(\n",
    "    sigSkyBgs,\n",
    "    np.linspace(np.nanmin(sigSkyBgs), np.nanmax(sigSkySources), N),\n",
    "    histtype=\"step\",\n",
    "    label=\"Sky BG\",\n",
    ")\n",
    "axs[0].hist(\n",
    "    sigSkySources,\n",
    "    np.linspace(np.nanmin(sigSkyBgs), np.nanmax(sigSkySources), N),\n",
    "    histtype=\"step\",\n",
    "    label=\"sky sources\",\n",
    ")\n",
    "axs[0].legend()\n",
    "axs[0].set_xlabel(r\"$\\overline{\\sigma}_{\\rm BG}$ (nJy)\")\n",
    "axs[0].set_title(f\"{instrument} background flux\")\n",
    "\n",
    "# Standard deviation / mean background flux\n",
    "axs[1].hist(\n",
    "    noiseFracBgs,\n",
    "    np.linspace(np.nanmin(noiseFracBgs), np.nanmax(noiseFracSources), N),\n",
    "    histtype=\"step\",\n",
    "    label=\"sky BG\",\n",
    ")\n",
    "axs[1].hist(\n",
    "    noiseFracSources,\n",
    "    np.linspace(np.nanmin(noiseFracBgs), np.nanmax(noiseFracSources), N),\n",
    "    histtype=\"step\",\n",
    "    label=\"sky sources\",\n",
    ")\n",
    "axs[1].set_xlabel(r\"$\\overline{\\sigma}_{\\rm BG}\\, /\\, \\overline{F}_{\\rm BG}$\")\n",
    "axs[1].set_title(f\"{instrument} background flux ratio\")\n",
    "\n",
    "# Limiting surface brightness\n",
    "axs[2].hist(muLims, np.linspace(np.nanmin(muLims), np.nanmax(muLims), N), histtype=\"step\", color=\"k\")\n",
    "axs[2].set_xlabel(r\"$\\mu_{{\\rm lim}} (3\\sigma, 10^{\\prime\\prime}\\times10^{\\prime\\prime})$\")\n",
    "axs[2].set_title(f\"{instrument} limiting surface brightness\")\n",
    "\n",
    "axs[3].axis(\"off\")\n",
    "\n",
    "plt.tight_layout()\n",
    "plt.show()\n",
    "plt.close()"
   ]
  },
  {
   "cell_type": "markdown",
   "id": "54e53566-833f-4ec0-9ea2-0a0e676fd9e7",
   "metadata": {},
   "source": [
    "Next we create violin plots showing distributions of standard deviations in sky-subtracted backgrounds for each visit (left panel), and distributions of ratios between those standard deviations and the mean sky brightness (right panel).\n",
    "\n",
    "Values derived from image backgrounds are shown as blue violins, and values derived from sky sources are shown as orange violins.\n",
    "To meet the stated requirements, the latter must be < 0.01 (red dotted line in right panel).\n",
    "Red x's show the same metrics evaluated from sky sources.\n",
    "To avoid clutter, we display only 10 visits.\n"
   ]
  },
  {
   "cell_type": "code",
   "execution_count": null,
   "id": "21f2b58e-a56e-4967-8e5a-d3cd937a0b9a",
   "metadata": {
    "execution": {
     "iopub.execute_input": "2025-02-12T21:33:42.392952Z",
     "iopub.status.busy": "2025-02-12T21:33:42.392821Z",
     "iopub.status.idle": "2025-02-12T21:33:42.789351Z",
     "shell.execute_reply": "2025-02-12T21:33:42.788938Z",
     "shell.execute_reply.started": "2025-02-12T21:33:42.392940Z"
    }
   },
   "outputs": [],
   "source": [
    "# Pick 10 visits of the full sample at random, or all if len < 10\n",
    "if len(visits) < 10:\n",
    "    idx = np.arange(len(visits))\n",
    "else:\n",
    "    rng = np.random.default_rng(12345)  # Set a seed for reproducibility\n",
    "    idx = rng.choice(np.arange(len(visits)), size=10, replace=False)\n",
    "\n",
    "fig, axs = plt.subplots(2, 2, figsize=(8, 8))\n",
    "axs = axs.flatten()\n",
    "\n",
    "# Standard deviation\n",
    "# From background flux distributions\n",
    "axs[0].violinplot(\n",
    "    [noiseDict[visits[i]][\"sigSkyBg\"] for i in idx],\n",
    "    showmedians=True,\n",
    ")\n",
    "# From sky sources\n",
    "axs[0].violinplot(\n",
    "    [noiseDict[visits[i]][\"sigSkySource\"] for i in idx],\n",
    "    showmedians=True,\n",
    ")\n",
    "legend_handles = [\n",
    "    Line2D([0], [0], color=\"C0\", label=\"sky BG\"),\n",
    "    Line2D([0], [0], color=\"C1\", label=\"sky sources\"),\n",
    "]\n",
    "axs[0].legend(handles=legend_handles)\n",
    "axs[0].set_xlabel(\"visit index\")\n",
    "axs[0].set_ylabel(r\"$\\overline{\\sigma}_{\\rm BG}$ (nJy)\")\n",
    "axs[0].set_title(f\"{instrument} background flux\")\n",
    "\n",
    "# Standard deviation / mean background flux\n",
    "# From background flux distributions\n",
    "axs[1].violinplot([noiseDict[visits[i]][\"noiseFracBg\"] for i in idx], showmedians=True)\n",
    "# From sky sources\n",
    "axs[1].violinplot([noiseDict[visits[i]][\"noiseFracSource\"] for i in idx], showmedians=True)\n",
    "axs[1].axhline(0.01, c=\"r\", linestyle=\":\")\n",
    "axs[1].set_xlabel(\"visit index\")\n",
    "axs[1].set_ylabel(r\"$\\overline{\\sigma}_{\\rm BG}\\, /\\, \\overline{F}_{\\rm BG}$\")\n",
    "axs[1].set_title(f\"{instrument} background flux ratio\")\n",
    "\n",
    "# Limiting surface brightness\n",
    "axs[2].violinplot([noiseDict[visits[i]][\"muLim\"] for i in idx], showmedians=True)\n",
    "axs[2].invert_yaxis()\n",
    "axs[2].set_xlabel(\"visit index\")\n",
    "axs[2].set_ylabel(r\"$\\mu_{{\\rm lim}} (3\\sigma, 10^{\\prime\\prime}\\times10^{\\prime\\prime})$\")\n",
    "axs[2].set_title(f\"{instrument} limiting surface brightness\")\n",
    "\n",
    "axs[3].axis(\"off\")\n",
    "\n",
    "plt.tight_layout()\n",
    "plt.show()\n",
    "plt.close()"
   ]
  },
  {
   "cell_type": "markdown",
   "id": "ef9c7f32-e164-4a29-96c1-728072d7752a",
   "metadata": {},
   "source": [
    "#### Conclusion\n",
    "\n",
    "We have demonstrated that the sky estimation precision metric `SBPerc` can be tested using `calexp` images, their associated `skyCorr` models, and the sky sources values stored in the `sourceTable_visit` tables produced by the Rubin Science Pipelines.\n",
    "\n",
    "> As defined, The result of this test is \"**Fail**\"; in no visits do we find that `SBPerc < 1%`.\n",
    "\n",
    "Alternatively, we tested this metric on images taken with the Burrell Schmidt Telescope (KPNO), an LSB-optimized telescope, which were processed using an LSB-optimized pipeline and heavily masked, and found values of $\\sim2$% even there.\n",
    "We've defined \"precision\" as effectively a signal-to-noise ratio.\n",
    "As sky counts are expected to follow Poisson statistics, like every other source, S/N reduces with brighter skies, hence this metric is sensitive to the initial sky brightness.\n",
    "\n",
    "**We therefore conclude that failure to satisfy the `SBPerc < 1%` criteria is not that concerning.**\n",
    "\n",
    "As we do not expect to be able to reach the `SBPerc < 1%` threshold consistently, we propose using a metric more frequently employed by the low surface brightness community, based only on the background noise: the limiting surface brightness.\n",
    "This is a value the LSB community will be interested in tracking throughout the survey, as more data is acquired and as the pipeline is refined, particularly on image coadds.\n"
   ]
  },
  {
   "cell_type": "markdown",
   "id": "eac9ebb0-089b-499b-a836-85a1c171a9fd",
   "metadata": {},
   "source": [
    "Reference: Roman, J., Trujillo, I., & Montes, M., 2020, A & A, 644, 42\n"
   ]
  }
 ],
 "metadata": {
  "kernelspec": {
   "display_name": "LSST",
   "language": "python",
   "name": "lsst"
  },
  "language_info": {
   "codemirror_mode": {
    "name": "ipython",
    "version": 3
   },
   "file_extension": ".py",
   "mimetype": "text/x-python",
   "name": "python",
   "nbconvert_exporter": "python",
   "pygments_lexer": "ipython3",
   "version": "3.11.11"
  }
 },
 "nbformat": 4,
 "nbformat_minor": 5
}
