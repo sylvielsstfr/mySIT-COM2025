{
 "cells": [
  {
   "cell_type": "markdown",
   "id": "434b4c03-b5a4-4f55-9208-dac2bc9e9c43",
   "metadata": {},
   "source": [
    "## View  RubinLSST cutout images and Lupton colored image\n",
    "\n",
    "- author : Sylvie Dagoret-Campagne\n",
    "- creation date : 2025-05-30\n",
    "- last update : 2025-05-30 "
   ]
  },
  {
   "cell_type": "code",
   "execution_count": null,
   "id": "07174771-40a6-47ce-a28d-6ac64cce51bc",
   "metadata": {
    "execution": {
     "iopub.execute_input": "2025-06-03T12:23:14.929600Z",
     "iopub.status.busy": "2025-06-03T12:23:14.929346Z",
     "iopub.status.idle": "2025-06-03T12:23:14.963184Z",
     "shell.execute_reply": "2025-06-03T12:23:14.962826Z",
     "shell.execute_reply.started": "2025-06-03T12:23:14.929583Z"
    }
   },
   "outputs": [],
   "source": [
    "import astroquery\n",
    "print(astroquery.__version__)"
   ]
  },
  {
   "cell_type": "markdown",
   "id": "37dcd3ab-0bc6-4823-a38e-764bc978e075",
   "metadata": {},
   "source": [
    "https://stackoverflow.com/questions/59699193/how-to-obtain-2d-cutout-of-an-image-from-a-skycoord-position"
   ]
  },
  {
   "cell_type": "code",
   "execution_count": null,
   "id": "91d47536-6176-4ae1-a5ab-4b5fbaf6ac02",
   "metadata": {
    "execution": {
     "iopub.execute_input": "2025-06-03T12:23:14.963784Z",
     "iopub.status.busy": "2025-06-03T12:23:14.963596Z",
     "iopub.status.idle": "2025-06-03T12:23:15.893131Z",
     "shell.execute_reply": "2025-06-03T12:23:15.892619Z",
     "shell.execute_reply.started": "2025-06-03T12:23:14.963770Z"
    }
   },
   "outputs": [],
   "source": [
    "# For Angle conversion\n",
    "import matplotlib.pyplot as plt\n",
    "from astropy.visualization.wcsaxes import WCSAxes\n",
    "from astropy.coordinates import Angle\n",
    "import astropy.units as u\n",
    "from astropy.coordinates import SkyCoord\n",
    "import pandas as pd\n",
    "import numpy as np\n",
    "from astropy.io import fits\n",
    "from astropy.coordinates import SkyCoord\n",
    "from astropy.wcs import WCS\n",
    "from astropy.nddata import Cutout2D\n",
    "from astropy.visualization import simple_norm, ZScaleInterval,PercentileInterval,make_lupton_rgb\n",
    "from itertools import combinations"
   ]
  },
  {
   "cell_type": "code",
   "execution_count": null,
   "id": "cc22dc13-54bf-4d67-9efd-c01049eecdeb",
   "metadata": {
    "execution": {
     "iopub.execute_input": "2025-06-03T12:23:15.894736Z",
     "iopub.status.busy": "2025-06-03T12:23:15.893664Z",
     "iopub.status.idle": "2025-06-03T12:23:15.897533Z",
     "shell.execute_reply": "2025-06-03T12:23:15.897168Z",
     "shell.execute_reply.started": "2025-06-03T12:23:15.894720Z"
    }
   },
   "outputs": [],
   "source": [
    "plt.rcParams[\"figure.figsize\"] = (4,3)\n",
    "plt.rcParams[\"axes.labelsize\"] = 'xx-large'\n",
    "plt.rcParams['axes.titlesize'] = 'xx-large'\n",
    "plt.rcParams['xtick.labelsize']= 'xx-large'\n",
    "plt.rcParams['ytick.labelsize']= 'xx-large'\n",
    "plt.rcParams['axes.titlesize']= 'xx-large'"
   ]
  },
  {
   "cell_type": "code",
   "execution_count": null,
   "id": "96deddc5-6828-4821-a86d-276f8db335ce",
   "metadata": {
    "execution": {
     "iopub.execute_input": "2025-06-03T12:23:15.898116Z",
     "iopub.status.busy": "2025-06-03T12:23:15.897982Z",
     "iopub.status.idle": "2025-06-03T12:23:15.910190Z",
     "shell.execute_reply": "2025-06-03T12:23:15.909791Z",
     "shell.execute_reply.started": "2025-06-03T12:23:15.898103Z"
    }
   },
   "outputs": [],
   "source": [
    "from IPython.display import Image, display"
   ]
  },
  {
   "cell_type": "code",
   "execution_count": null,
   "id": "fe8507ac-6c15-4cda-8456-c2d3748692c9",
   "metadata": {
    "execution": {
     "iopub.execute_input": "2025-06-03T12:23:15.910738Z",
     "iopub.status.busy": "2025-06-03T12:23:15.910610Z",
     "iopub.status.idle": "2025-06-03T12:23:15.917788Z",
     "shell.execute_reply": "2025-06-03T12:23:15.917384Z",
     "shell.execute_reply.started": "2025-06-03T12:23:15.910725Z"
    }
   },
   "outputs": [],
   "source": [
    "import os,re"
   ]
  },
  {
   "cell_type": "code",
   "execution_count": null,
   "id": "7203513f-f0a9-433a-a0ef-5dec079c0d28",
   "metadata": {
    "execution": {
     "iopub.execute_input": "2025-06-03T12:23:15.918810Z",
     "iopub.status.busy": "2025-06-03T12:23:15.918533Z",
     "iopub.status.idle": "2025-06-03T12:23:15.925988Z",
     "shell.execute_reply": "2025-06-03T12:23:15.925560Z",
     "shell.execute_reply.started": "2025-06-03T12:23:15.918784Z"
    }
   },
   "outputs": [],
   "source": [
    "def load_fits_image_with_norm(path):\n",
    "    \"\"\"\n",
    "    Load rubin cutout adapted to rubin LSST\n",
    "    \"\"\"\n",
    "    with fits.open(path) as hdul:\n",
    "        # where is the image\n",
    "        data = hdul[1].data\n",
    "        if data is None:\n",
    "            raise ValueError(f\"No image data in {path}\")\n",
    "        # where is the header that contains WCS\n",
    "        wcs = WCS(hdul[0].header)\n",
    "        \n",
    "    vmin, vmax = ZScaleInterval().get_limits(data)\n",
    "    norm = simple_norm(data, stretch='asinh', vmin=vmin, vmax=vmax)\n",
    "    return data, wcs, norm"
   ]
  },
  {
   "cell_type": "code",
   "execution_count": null,
   "id": "0382baaf-e525-4363-9d49-930bb0a5526d",
   "metadata": {
    "execution": {
     "iopub.execute_input": "2025-06-03T12:23:15.926546Z",
     "iopub.status.busy": "2025-06-03T12:23:15.926419Z",
     "iopub.status.idle": "2025-06-03T12:23:15.932599Z",
     "shell.execute_reply": "2025-06-03T12:23:15.932153Z",
     "shell.execute_reply.started": "2025-06-03T12:23:15.926534Z"
    }
   },
   "outputs": [],
   "source": [
    "def make_lupton_image(data_b, data_g, data_r, stretch=0.5, Q=10):\n",
    "    return make_lupton_rgb(image_r=data_r, image_g=data_g, image_b=data_b,\n",
    "                           stretch=stretch, Q=Q)"
   ]
  },
  {
   "cell_type": "code",
   "execution_count": null,
   "id": "607f8383-0ed8-4d80-aa0f-8611cc6cf018",
   "metadata": {
    "execution": {
     "iopub.execute_input": "2025-06-03T12:23:15.933168Z",
     "iopub.status.busy": "2025-06-03T12:23:15.933038Z",
     "iopub.status.idle": "2025-06-03T12:23:15.939885Z",
     "shell.execute_reply": "2025-06-03T12:23:15.939472Z",
     "shell.execute_reply.started": "2025-06-03T12:23:15.933155Z"
    }
   },
   "outputs": [],
   "source": [
    "def compute_color_difference(data_band1, data_band2):\n",
    "    \"\"\"\n",
    "    Calcule la différence de magnitudes entre deux bandes : -2.5 * log10(b1) + 2.5 * log10(b2)\n",
    "    \"\"\"\n",
    "    with np.errstate(divide='ignore', invalid='ignore'):\n",
    "        mask = (data_band1 > 0) & (data_band2 > 0)\n",
    "        diff = np.full_like(data_band1, np.nan)\n",
    "        diff[mask] = -2.5 * np.log10(data_band1[mask]) + 2.5 * np.log10(data_band2[mask])\n",
    "    return diff\n"
   ]
  },
  {
   "cell_type": "code",
   "execution_count": null,
   "id": "0f215aaa-0762-4665-ab71-8a5d71e6a040",
   "metadata": {
    "execution": {
     "iopub.execute_input": "2025-06-03T12:23:15.940433Z",
     "iopub.status.busy": "2025-06-03T12:23:15.940303Z",
     "iopub.status.idle": "2025-06-03T12:23:15.946578Z",
     "shell.execute_reply": "2025-06-03T12:23:15.946128Z",
     "shell.execute_reply.started": "2025-06-03T12:23:15.940421Z"
    }
   },
   "outputs": [],
   "source": [
    "def compute_common_limits(diff_maps, quantile_clip=0.01):\n",
    "    all_values = np.concatenate([d[np.isfinite(d)].ravel() for d in diff_maps])\n",
    "    vmin = np.quantile(all_values, quantile_clip)\n",
    "    vmax = np.quantile(all_values, 1 - quantile_clip)\n",
    "    return vmin, vmax"
   ]
  },
  {
   "cell_type": "markdown",
   "id": "13e83e75-543c-4373-92e2-38ca692aa3fc",
   "metadata": {},
   "source": [
    "## Configuration"
   ]
  },
  {
   "cell_type": "markdown",
   "id": "aedcfe02-8a4f-48cb-8ada-a5e8b080a3f2",
   "metadata": {},
   "source": [
    "### Target in ECDFS\n",
    "\n",
    "- path to article : https://arxiv.org/pdf/1104.0931\n",
    "- visual selection of the tiles : https://archive.stsci.edu/prepds/gems/browser.html\n",
    "- path file download : https://archive.stsci.edu/pub/hlsp/gems/v_mk1/"
   ]
  },
  {
   "cell_type": "code",
   "execution_count": null,
   "id": "704fa3d8-ef8f-4bff-9dd6-e71e2a337def",
   "metadata": {
    "execution": {
     "iopub.execute_input": "2025-06-03T12:23:15.947150Z",
     "iopub.status.busy": "2025-06-03T12:23:15.947021Z",
     "iopub.status.idle": "2025-06-03T12:23:15.952776Z",
     "shell.execute_reply": "2025-06-03T12:23:15.952429Z",
     "shell.execute_reply.started": "2025-06-03T12:23:15.947138Z"
    }
   },
   "outputs": [],
   "source": [
    "fig_table1 = \"input_figs/table1_gemcandidates.png\"\n",
    "fig_table2 = \"input_figs/table2_gemcandidates.png\""
   ]
  },
  {
   "cell_type": "code",
   "execution_count": null,
   "id": "3438e6e2-8750-408b-9404-3d2a7dfe3a61",
   "metadata": {
    "execution": {
     "iopub.execute_input": "2025-06-03T12:23:15.955359Z",
     "iopub.status.busy": "2025-06-03T12:23:15.955223Z",
     "iopub.status.idle": "2025-06-03T12:23:15.959884Z",
     "shell.execute_reply": "2025-06-03T12:23:15.959521Z",
     "shell.execute_reply.started": "2025-06-03T12:23:15.955346Z"
    }
   },
   "outputs": [],
   "source": [
    "Image(url= fig_table1,width=800)"
   ]
  },
  {
   "cell_type": "code",
   "execution_count": null,
   "id": "00dce019-3a93-40eb-b700-41468bab7554",
   "metadata": {
    "execution": {
     "iopub.execute_input": "2025-06-03T12:23:15.960434Z",
     "iopub.status.busy": "2025-06-03T12:23:15.960306Z",
     "iopub.status.idle": "2025-06-03T12:23:15.966652Z",
     "shell.execute_reply": "2025-06-03T12:23:15.966297Z",
     "shell.execute_reply.started": "2025-06-03T12:23:15.960422Z"
    }
   },
   "outputs": [],
   "source": [
    "Image(url= fig_table2,width=500)"
   ]
  },
  {
   "cell_type": "code",
   "execution_count": null,
   "id": "169491b5-2f1d-4e12-a1a6-1b755581d0d5",
   "metadata": {
    "execution": {
     "iopub.execute_input": "2025-06-03T12:23:15.967215Z",
     "iopub.status.busy": "2025-06-03T12:23:15.967083Z",
     "iopub.status.idle": "2025-06-03T12:23:15.973694Z",
     "shell.execute_reply": "2025-06-03T12:23:15.973364Z",
     "shell.execute_reply.started": "2025-06-03T12:23:15.967203Z"
    }
   },
   "outputs": [],
   "source": [
    "#15422 44 03:32:38.21 –27:56:53.2 \n",
    "ra1 = \"03:32:38.21 hours\"\n",
    "dec1 = \"-27:56:53.2 degrees\"\n",
    "tile1 = 44\n",
    "\n",
    "#34244 94 03:32:06.45 –27:47:28.6 \n",
    "ra2 = \"03:32:06.45 hours\"\n",
    "dec2 = \"-27:47:28.6 degrees\"\n",
    "tile2 = 94\n",
    "# Je ne trouve pas cette tile ==> FindTileForCutoutGEM\n",
    "tile2 = 32\n",
    "\n",
    "#40173 35 03:33:19.45 –27:44:50.0 \n",
    "ra3 = \"03:33:19.45 hours\"\n",
    "dec3 = \"-27:44:50.0 degrees\"\n",
    "tile3 = 35\n",
    "\n",
    "#43242 45 03:31:55.35 –27:43:23.5 \n",
    "ra4 = \"03:31:55.35 hours\"\n",
    "dec4 = \"-27:43:23.5 degrees\"\n",
    "tile4 = 45\n",
    "\n",
    "#46446 47 03:31:35.94 –27:41:48.2 \n",
    "ra5 = \"03:31:35.94 hours\"\n",
    "dec5 = \"-27:41:48.2 degrees\"\n",
    "tile5 = 47\n",
    "\n",
    "#12589 03:31:24.89 −27:58:07.0\n",
    "ra6 = \"03:31:24.89 hours\"\n",
    "dec6 = \"-27:58:07.0 degrees\"\n",
    "tile6 = 17\n",
    "\n",
    "#43797 03:31:31.74 −27:43:00.8 \n",
    "ra7 = \"03:31:31.74 hours\"\n",
    "dec7 = \"-27:43:00.8 degrees\"\n",
    "tile7 = 47\n",
    "\n",
    "#28294 03:31:50.54 −27:50:28.4 \n",
    "ra8 = \"03:31:50.54 hours\"\n",
    "dec8 = \"-27:50:28.4 degrees\"\n",
    "tile8 = 33\n",
    "\n",
    "#36857 03:31:53.24 −27:46:18.9\n",
    "ra9 = \"03:31:53.24 hours\"\n",
    "dec9 = \"-27:46:18.9 degrees\"\n",
    "tile9 = 38\n",
    "\n",
    "#36714 03:32:59.78 −27:46:26.4 \n",
    "ra10 = \"03:32:59.78 hours\"\n",
    "dec10 = \"-27:46:26.4 degrees\"\n",
    "tile10 = 37\n"
   ]
  },
  {
   "cell_type": "code",
   "execution_count": null,
   "id": "85c504b7-1ee1-4d83-9a1a-8b4e4c231103",
   "metadata": {
    "execution": {
     "iopub.execute_input": "2025-06-03T12:23:15.974199Z",
     "iopub.status.busy": "2025-06-03T12:23:15.974077Z",
     "iopub.status.idle": "2025-06-03T12:23:15.981340Z",
     "shell.execute_reply": "2025-06-03T12:23:15.981010Z",
     "shell.execute_reply.started": "2025-06-03T12:23:15.974187Z"
    }
   },
   "outputs": [],
   "source": [
    "lsstcomcam_targets = {}\n",
    "# high rank\n",
    "lsstcomcam_targets[\"ECDFS_G15422\"] = {\"field_name\": \"GEMS-15422\", \"ra\": 53.159208333333325, \"dec\": -27.94811111111111,\"tile\":tile1}\n",
    "lsstcomcam_targets[\"ECDFS_G34244\"] = {\"field_name\": \"GEMS-34244\", \"ra\": 53.02687499999999 , \"dec\": -27.79127777777778,\"tile\":tile2}\n",
    "lsstcomcam_targets[\"ECDFS_G40173\"] = {\"field_name\": \"GEMS-40173\", \"ra\": 53.33104166666666 , \"dec\": -27.747222222222224,\"tile\":tile3}\n",
    "lsstcomcam_targets[\"ECDFS_G43242\"] = {\"field_name\": \"GEMS-43242\", \"ra\": 52.980624999999996 , \"dec\": -27.72319444444444,\"tile\":tile4}\n",
    "lsstcomcam_targets[\"ECDFS_G46446\"] = {\"field_name\": \"GEMS-46446\", \"ra\": 52.89975 , \"dec\": -27.696722222222224,\"tile\":tile5}\n",
    "\n",
    "# low rank\n",
    "lsstcomcam_targets[\"ECDFS_G12589\"] = {\"field_name\": \"GEMS-12589\", \"ra\": 52.85370833333333, \"dec\": -27.96861111111111,\"tile\":tile6}\n",
    "lsstcomcam_targets[\"ECDFS_G43797\"] = {\"field_name\": \"GEMS-43797\", \"ra\": 52.88224999999999, \"dec\": -27.71688888888889,\"tile\":tile7}\n",
    "\n",
    "lsstcomcam_targets[\"ECDFS_G28294\"] = {\"field_name\": \"GEMS-28294\", \"ra\": 52.960583333333325 , \"dec\": -27.84122222222222,\"tile\":tile8}\n",
    "lsstcomcam_targets[\"ECDFS_G6857\"] = {\"field_name\": \"GEMS-6857\", \"ra\": 52.97183333333333 , \"dec\": -27.771916666666666,\"tile\":tile9}\n",
    "lsstcomcam_targets[\"ECDFS_G36714\"] = {\"field_name\": \"GEMS-36714\", \"ra\": 53.249083333333324, \"dec\": -27.773999999999997,\"tile\":tile10}\n"
   ]
  },
  {
   "cell_type": "code",
   "execution_count": null,
   "id": "17ae8de2-0358-4f1e-9443-1a360f662eee",
   "metadata": {
    "execution": {
     "iopub.execute_input": "2025-06-03T12:23:15.981860Z",
     "iopub.status.busy": "2025-06-03T12:23:15.981737Z",
     "iopub.status.idle": "2025-06-03T12:23:15.988280Z",
     "shell.execute_reply": "2025-06-03T12:23:15.987949Z",
     "shell.execute_reply.started": "2025-06-03T12:23:15.981848Z"
    }
   },
   "outputs": [],
   "source": [
    "df = pd.DataFrame(lsstcomcam_targets).T"
   ]
  },
  {
   "cell_type": "code",
   "execution_count": null,
   "id": "76ed9206-dde5-4349-9474-2b6c0cd3fb30",
   "metadata": {
    "execution": {
     "iopub.execute_input": "2025-06-03T12:23:15.988824Z",
     "iopub.status.busy": "2025-06-03T12:23:15.988699Z",
     "iopub.status.idle": "2025-06-03T12:23:15.995422Z",
     "shell.execute_reply": "2025-06-03T12:23:15.995089Z",
     "shell.execute_reply.started": "2025-06-03T12:23:15.988812Z"
    }
   },
   "outputs": [],
   "source": [
    "# candidates\n",
    "#key = \"ECDFS_G15422\"\n",
    "#key = \"ECDFS_G34244\"\n",
    "#key = \"ECDFS_G40173\"\n",
    "#key= \"ECDFS_G43242\"\n",
    "#key= \"ECDFS_G46446\"\n",
    "\n",
    "# unknown\n",
    "#key = \"ECDFS_G12589\"\n",
    "#key = \"ECDFS_G43797\"\n",
    "#key = \"ECDFS_G28294\"\n",
    "key = \"ECDFS_G6857\"\n",
    "#key = \"ECDFS_G36714\"\n",
    "\n",
    "the_target = lsstcomcam_targets[key]\n",
    "target_ra = the_target[\"ra\"]\n",
    "target_dec = the_target[\"dec\"]\n",
    "target_name = the_target[\"field_name\"]\n",
    "tile_num = the_target[\"tile\"]\n",
    "coord = SkyCoord(ra=target_ra, dec=target_dec, unit=(u.deg, u.deg))\n",
    "\n",
    "target_title = (\n",
    "    the_target[\"field_name\"] + f\" (ra,dec) = ({target_ra:.2f},{target_dec:.2f}) \"\n",
    ")\n",
    "\n",
    "list_of_keys = [\"ECDFS_G15422\", \"ECDFS_G34244\",\"ECDFS_G40173\",\"ECDFS_G43242\",\"ECDFS_G46446\",\"ECDFS_G12589\",\"ECDFS_G43797\",\"ECDFS_G28294\",\"ECDFS_G6857\",\"ECDFS_G36714\"]"
   ]
  },
  {
   "cell_type": "code",
   "execution_count": null,
   "id": "0f01806b-7bfe-4e1a-a23c-f8f9bae6dc16",
   "metadata": {
    "execution": {
     "iopub.execute_input": "2025-06-03T12:23:15.995930Z",
     "iopub.status.busy": "2025-06-03T12:23:15.995794Z",
     "iopub.status.idle": "2025-06-03T12:23:16.002852Z",
     "shell.execute_reply": "2025-06-03T12:23:16.002523Z",
     "shell.execute_reply.started": "2025-06-03T12:23:15.995918Z"
    }
   },
   "outputs": [],
   "source": [
    "subpath_img = re.findall(\"^ECDFS_(.*)\",key)[0]\n",
    "subpath_img"
   ]
  },
  {
   "cell_type": "markdown",
   "id": "2607c0a0-e708-4424-8ab8-87ef9bf42535",
   "metadata": {},
   "source": [
    "## Configuration"
   ]
  },
  {
   "cell_type": "code",
   "execution_count": null,
   "id": "02572c91-c80f-4b68-996f-85e1cbf9540c",
   "metadata": {
    "execution": {
     "iopub.execute_input": "2025-06-03T12:23:16.003392Z",
     "iopub.status.busy": "2025-06-03T12:23:16.003268Z",
     "iopub.status.idle": "2025-06-03T12:23:16.009096Z",
     "shell.execute_reply": "2025-06-03T12:23:16.008753Z",
     "shell.execute_reply.started": "2025-06-03T12:23:16.003380Z"
    }
   },
   "outputs": [],
   "source": [
    "all_bands = [\"u\", \"g\", \"r\", \"i\", \"z\", \"y\"]\n",
    "all_bands_colors = [\"blue\", \"green\", \"red\", \"orange\", \"yellow\", \"purple\"]\n",
    "all_bands_cmaps = [\"Blues\",\"Greens\",\"Reds\",\"Oranges\",\"Greys\",\"Purples\"]\n",
    "NB = len(all_bands)"
   ]
  },
  {
   "cell_type": "code",
   "execution_count": null,
   "id": "683d9850-46f1-40a3-af30-8350b374e964",
   "metadata": {
    "execution": {
     "iopub.execute_input": "2025-06-03T12:23:16.009611Z",
     "iopub.status.busy": "2025-06-03T12:23:16.009489Z",
     "iopub.status.idle": "2025-06-03T12:23:16.015347Z",
     "shell.execute_reply": "2025-06-03T12:23:16.015024Z",
     "shell.execute_reply.started": "2025-06-03T12:23:16.009599Z"
    }
   },
   "outputs": [],
   "source": [
    "toppath_rubincutout = \"../2025-05-24-SL-ECDFS-Fit/data\"\n",
    "path_rubincutout = os.path.join(toppath_rubincutout,subpath_img)"
   ]
  },
  {
   "cell_type": "code",
   "execution_count": null,
   "id": "c50ba871-c219-4683-acfc-10d85e52e091",
   "metadata": {
    "execution": {
     "iopub.execute_input": "2025-06-03T12:23:16.015852Z",
     "iopub.status.busy": "2025-06-03T12:23:16.015734Z",
     "iopub.status.idle": "2025-06-03T12:23:16.439437Z",
     "shell.execute_reply": "2025-06-03T12:23:16.438838Z",
     "shell.execute_reply.started": "2025-06-03T12:23:16.015840Z"
    }
   },
   "outputs": [],
   "source": [
    "!ls $path_rubincutout"
   ]
  },
  {
   "cell_type": "code",
   "execution_count": null,
   "id": "7e950586-c619-46c3-bc4c-d527541f5988",
   "metadata": {
    "execution": {
     "iopub.execute_input": "2025-06-03T12:23:16.440317Z",
     "iopub.status.busy": "2025-06-03T12:23:16.440143Z",
     "iopub.status.idle": "2025-06-03T12:23:16.443376Z",
     "shell.execute_reply": "2025-06-03T12:23:16.442954Z",
     "shell.execute_reply.started": "2025-06-03T12:23:16.440299Z"
    }
   },
   "outputs": [],
   "source": [
    "all_filenames = [ f\"cutout_wcs_{key}_{band}.fits\" for band in all_bands]\n",
    "all_fullfilenames = [ os.path.join(path_rubincutout, f\"cutout_wcs_{key}_{band}.fits\") for band in all_bands] "
   ]
  },
  {
   "cell_type": "markdown",
   "id": "cb5c327a-975e-496c-bf1a-f41ebf728b62",
   "metadata": {},
   "source": [
    "## Open cutout files, get wcs and normalize the images"
   ]
  },
  {
   "cell_type": "code",
   "execution_count": null,
   "id": "c9637fdc-21ca-4645-8a4c-da565d1b13e3",
   "metadata": {
    "execution": {
     "iopub.execute_input": "2025-06-03T12:23:16.443991Z",
     "iopub.status.busy": "2025-06-03T12:23:16.443840Z",
     "iopub.status.idle": "2025-06-03T12:23:17.468310Z",
     "shell.execute_reply": "2025-06-03T12:23:17.467795Z",
     "shell.execute_reply.started": "2025-06-03T12:23:16.443969Z"
    }
   },
   "outputs": [],
   "source": [
    "all_data_wcs_norm = []\n",
    "for ib in range(NB):\n",
    "    all_data_wcs_norm.append(load_fits_image_with_norm(all_fullfilenames[ib])) "
   ]
  },
  {
   "cell_type": "code",
   "execution_count": null,
   "id": "a278aa34-e09d-4551-b994-dfb5803e8d0f",
   "metadata": {
    "execution": {
     "iopub.execute_input": "2025-06-03T12:23:17.469011Z",
     "iopub.status.busy": "2025-06-03T12:23:17.468863Z",
     "iopub.status.idle": "2025-06-03T12:23:17.473306Z",
     "shell.execute_reply": "2025-06-03T12:23:17.472951Z",
     "shell.execute_reply.started": "2025-06-03T12:23:17.468996Z"
    }
   },
   "outputs": [],
   "source": [
    "def show_fits_grid(all_data_wcs_norm, ncols=3):\n",
    "    NB = len(all_data_wcs_norm)\n",
    "    nrows = (NB + ncols - 1) // ncols  # pour gérer les cas non multiples\n",
    "    fig, axes = plt.subplots(nrows, ncols, figsize=(9 * ncols, 9 * nrows),\n",
    "                             subplot_kw={'projection': all_data_wcs_norm[0][1]})\n",
    "\n",
    "    # Flatten si axes est 2D\n",
    "    axes = axes.flatten()\n",
    "\n",
    "    for i in range(NB):\n",
    "        band = all_bands[i]\n",
    "        data, wcs, norm = all_data_wcs_norm[i]\n",
    "        ax = axes[i]\n",
    "        ax.imshow(data, origin='lower', cmap=all_bands_cmaps[i], norm=norm)\n",
    "        #ax.imshow(data, origin='lower', cmap=\"grey\", norm=norm)\n",
    "        ax.set_xlabel(\"RA\")\n",
    "        ax.set_ylabel(\"Dec\")\n",
    "        ax.set_title(f\"band {band}\",fontweight=\"bold\")\n",
    "\n",
    "    # Masquer les axes restants si NB < nrows * ncols\n",
    "    for j in range(NB, nrows * ncols):\n",
    "        fig.delaxes(axes[j])\n",
    "\n",
    "    plt.suptitle(target_title,fontweight=\"bold\",fontsize=30)\n",
    "    plt.tight_layout()\n",
    "    plt.show()\n"
   ]
  },
  {
   "cell_type": "code",
   "execution_count": null,
   "id": "00de1880-973a-49ab-b98e-14371b439998",
   "metadata": {
    "execution": {
     "iopub.execute_input": "2025-06-03T12:23:17.473848Z",
     "iopub.status.busy": "2025-06-03T12:23:17.473722Z",
     "iopub.status.idle": "2025-06-03T12:23:28.700155Z",
     "shell.execute_reply": "2025-06-03T12:23:28.699796Z",
     "shell.execute_reply.started": "2025-06-03T12:23:17.473835Z"
    }
   },
   "outputs": [],
   "source": [
    "show_fits_grid(all_data_wcs_norm, ncols=3)"
   ]
  },
  {
   "cell_type": "markdown",
   "id": "00525693-6330-4eca-9419-8d02348f03d2",
   "metadata": {},
   "source": [
    "## Lupton"
   ]
  },
  {
   "cell_type": "code",
   "execution_count": null,
   "id": "dacdbec5-afe8-44db-9ba9-3628aab845db",
   "metadata": {
    "execution": {
     "iopub.execute_input": "2025-06-03T12:23:28.700716Z",
     "iopub.status.busy": "2025-06-03T12:23:28.700578Z",
     "iopub.status.idle": "2025-06-03T12:23:28.703101Z",
     "shell.execute_reply": "2025-06-03T12:23:28.702795Z",
     "shell.execute_reply.started": "2025-06-03T12:23:28.700702Z"
    }
   },
   "outputs": [],
   "source": [
    "combos = list(combinations(['g', 'r', 'i', 'z', 'y'], 3))"
   ]
  },
  {
   "cell_type": "code",
   "execution_count": null,
   "id": "2ff76582-624c-44b8-86d5-a3ff184a83fd",
   "metadata": {
    "execution": {
     "iopub.execute_input": "2025-06-03T12:23:28.703593Z",
     "iopub.status.busy": "2025-06-03T12:23:28.703466Z",
     "iopub.status.idle": "2025-06-03T12:23:28.719075Z",
     "shell.execute_reply": "2025-06-03T12:23:28.718781Z",
     "shell.execute_reply.started": "2025-06-03T12:23:28.703580Z"
    }
   },
   "outputs": [],
   "source": [
    "combos"
   ]
  },
  {
   "cell_type": "code",
   "execution_count": null,
   "id": "690d7f3f-fdc1-4d2a-b250-c22bc1070dd1",
   "metadata": {
    "execution": {
     "iopub.execute_input": "2025-06-03T12:23:28.719601Z",
     "iopub.status.busy": "2025-06-03T12:23:28.719476Z",
     "iopub.status.idle": "2025-06-03T12:23:28.727429Z",
     "shell.execute_reply": "2025-06-03T12:23:28.727111Z",
     "shell.execute_reply.started": "2025-06-03T12:23:28.719588Z"
    }
   },
   "outputs": [],
   "source": [
    "def show_color_difference_combinations(band_data, bands=('g', 'r', 'i', 'z', 'y'),\n",
    "                                       combos=None, ncols=3, cmap='seismic', stretch='linear'):\n",
    "    \"\"\"\n",
    "    Affiche une grille des différences de magnitudes entre deux bandes (par ex. g - r, r - i, etc.)\n",
    "    \n",
    "    band_data : dict {band: data_array}\n",
    "    combos : liste de tuples (band1, band2), ou None pour toutes les paires (band1 < band2)\n",
    "    cmap : colormap à utiliser\n",
    "    stretch : type de normalisation ('linear', 'asinh', 'log', etc.)\n",
    "    \"\"\"\n",
    "    if combos is None:\n",
    "        combos = list(combinations(bands, 2))  # toutes les paires ordonnées\n",
    "\n",
    "    N = len(combos)\n",
    "    nrows = (N + ncols - 1) // ncols\n",
    "    fig, axes = plt.subplots(nrows, ncols, figsize=(5 * ncols, 5 * nrows))\n",
    "    axes = axes.flatten()\n",
    "\n",
    "    for i, (b1, b2) in enumerate(combos):\n",
    "        ax = axes[i]\n",
    "        try:\n",
    "            diff = compute_color_difference(band_data[b1], band_data[b2])\n",
    "            norm = simple_norm(diff[np.isfinite(diff)], stretch=stretch)  # exclut les NaN pour l'étendue\n",
    "            im = ax.imshow(diff, origin='lower', cmap=cmap, norm=norm)\n",
    "            ax.set_title(f\"{b1} - {b2}\", fontweight='bold')\n",
    "            ax.axis('off')\n",
    "            fig.colorbar(im, ax=ax, shrink=0.7)\n",
    "        except Exception as e:\n",
    "            ax.text(0.5, 0.5, f'Erreur\\n{b1}-{b2}', ha='center', va='center', fontsize=10)\n",
    "            print(f\"Erreur pour {b1}-{b2} : {e}\")\n",
    "            ax.axis('off')\n",
    "\n",
    "    for j in range(N, len(axes)):\n",
    "        fig.delaxes(axes[j])\n",
    "\n",
    "    plt.tight_layout()\n",
    "    plt.show()\n"
   ]
  },
  {
   "cell_type": "markdown",
   "id": "9a39421b-9c42-410a-88cb-c0659af232a3",
   "metadata": {},
   "source": [
    "### Prepare the data"
   ]
  },
  {
   "cell_type": "code",
   "execution_count": null,
   "id": "d8b9c4a7-cad7-4062-84c9-a41956d15099",
   "metadata": {
    "execution": {
     "iopub.execute_input": "2025-06-03T12:23:28.727921Z",
     "iopub.status.busy": "2025-06-03T12:23:28.727794Z",
     "iopub.status.idle": "2025-06-03T12:23:28.734610Z",
     "shell.execute_reply": "2025-06-03T12:23:28.734300Z",
     "shell.execute_reply.started": "2025-06-03T12:23:28.727908Z"
    }
   },
   "outputs": [],
   "source": [
    "# Tu as déjà all_data_wcs_norm et band_names = ['u', 'g', 'r', 'i', 'z', 'y']\n",
    "band_names = ['u', 'g', 'r', 'i', 'z', 'y']\n",
    "band_data = {band_names[i]: all_data_wcs_norm[i][0] for i in range(len(band_names)) if band_names[i] != 'u'}\n"
   ]
  },
  {
   "cell_type": "markdown",
   "id": "8d197ac9-c55d-4a66-81d1-dc07076b8b3d",
   "metadata": {},
   "source": [
    "### Plot selection of combinations"
   ]
  },
  {
   "cell_type": "code",
   "execution_count": null,
   "id": "5119dba9-66bb-4be9-a1d8-3a573cd1e5e9",
   "metadata": {
    "execution": {
     "iopub.execute_input": "2025-06-03T12:23:28.735102Z",
     "iopub.status.busy": "2025-06-03T12:23:28.734978Z",
     "iopub.status.idle": "2025-06-03T12:23:29.433356Z",
     "shell.execute_reply": "2025-06-03T12:23:29.432951Z",
     "shell.execute_reply.started": "2025-06-03T12:23:28.735090Z"
    }
   },
   "outputs": [],
   "source": [
    "# Exemple simple avec les couleurs classiques\n",
    "color_combos = [('g', 'r'), ('r', 'i'), ('i', 'z'), ('z', 'y'), ('g', 'z'), ('r', 'y')]\n",
    "\n",
    "# Ou pour tester automatiquement toutes les combinaisons :\n",
    "# color_combos = list(combinations(['g', 'r', 'i', 'z', 'y'], 2))\n",
    "\n",
    "show_color_difference_combinations(band_data, combos=color_combos)"
   ]
  },
  {
   "cell_type": "markdown",
   "id": "d3b3a7a9-5816-4d87-94fd-998b9e0e37a7",
   "metadata": {},
   "source": [
    "### Plot all combinations"
   ]
  },
  {
   "cell_type": "code",
   "execution_count": null,
   "id": "d5ea6377-ba89-4af4-93e0-a711cc480063",
   "metadata": {
    "execution": {
     "iopub.execute_input": "2025-06-03T12:23:29.433961Z",
     "iopub.status.busy": "2025-06-03T12:23:29.433820Z",
     "iopub.status.idle": "2025-06-03T12:23:29.436819Z",
     "shell.execute_reply": "2025-06-03T12:23:29.436523Z",
     "shell.execute_reply.started": "2025-06-03T12:23:29.433948Z"
    }
   },
   "outputs": [],
   "source": [
    "color_combos = list(combinations(['g', 'r', 'i', 'z', 'y'], 2))"
   ]
  },
  {
   "cell_type": "code",
   "execution_count": null,
   "id": "2d1de4d1-88c7-4a3f-8d1e-db72275bd5d8",
   "metadata": {
    "execution": {
     "iopub.execute_input": "2025-06-03T12:23:29.437318Z",
     "iopub.status.busy": "2025-06-03T12:23:29.437192Z",
     "iopub.status.idle": "2025-06-03T12:23:29.447365Z",
     "shell.execute_reply": "2025-06-03T12:23:29.447073Z",
     "shell.execute_reply.started": "2025-06-03T12:23:29.437305Z"
    }
   },
   "outputs": [],
   "source": [
    "color_combos"
   ]
  },
  {
   "cell_type": "code",
   "execution_count": null,
   "id": "cd605c5d-04c8-4913-819e-9fa8c2c70527",
   "metadata": {
    "execution": {
     "iopub.execute_input": "2025-06-03T12:23:29.447857Z",
     "iopub.status.busy": "2025-06-03T12:23:29.447732Z",
     "iopub.status.idle": "2025-06-03T12:23:30.485265Z",
     "shell.execute_reply": "2025-06-03T12:23:30.484811Z",
     "shell.execute_reply.started": "2025-06-03T12:23:29.447845Z"
    }
   },
   "outputs": [],
   "source": [
    "show_color_difference_combinations(band_data, combos=color_combos)"
   ]
  },
  {
   "cell_type": "markdown",
   "id": "00e48a44-6045-4d07-8388-8dbbfd3a0f9d",
   "metadata": {},
   "source": [
    "## Autre normalisation avec sigmaclip"
   ]
  },
  {
   "cell_type": "code",
   "execution_count": null,
   "id": "9482eeb9-f155-44cb-93d3-3ca992c7c244",
   "metadata": {
    "execution": {
     "iopub.execute_input": "2025-06-03T12:23:30.486664Z",
     "iopub.status.busy": "2025-06-03T12:23:30.486320Z",
     "iopub.status.idle": "2025-06-03T12:23:30.492253Z",
     "shell.execute_reply": "2025-06-03T12:23:30.491904Z",
     "shell.execute_reply.started": "2025-06-03T12:23:30.486644Z"
    }
   },
   "outputs": [],
   "source": [
    "def show_color_difference_combinations_newnorm(band_data, bands=('g', 'r', 'i', 'z', 'y'),\n",
    "                                       combos=None, ncols=3, cmap='seismic', stretch='linear'):\n",
    "    \"\"\"\n",
    "    Affiche une grille des différences de magnitudes entre deux bandes (par ex. g - r, r - i, etc.)\n",
    "    \n",
    "    band_data : dict {band: data_array}\n",
    "    combos : liste de tuples (band1, band2), ou None pour toutes les paires (band1 < band2)\n",
    "    cmap : colormap à utiliser\n",
    "    stretch : type de normalisation ('linear', 'asinh', 'log', etc.)\n",
    "    \"\"\"\n",
    "    if combos is None:\n",
    "        combos = list(combinations(bands, 2))  # toutes les paires ordonnées\n",
    "\n",
    "    N = len(combos)\n",
    "    nrows = (N + ncols - 1) // ncols\n",
    "    fig, axes = plt.subplots(nrows, ncols, figsize=(5 * ncols, 5 * nrows))\n",
    "    axes = axes.flatten()\n",
    "\n",
    "    for i, (b1, b2) in enumerate(combos):\n",
    "        ax = axes[i]\n",
    "        try:\n",
    "            diff_map = compute_color_difference(band_data[b1], band_data[b2])\n",
    "            common_vmin,common_vmax = compute_common_limits(diff_map, quantile_clip=0.01)\n",
    "            #norm = simple_norm(diff[np.isfinite(diff)], stretch=stretch)  # exclut les NaN pour l'étendue\n",
    "            norm = simple_norm(diff_map, stretch='linear', vmin=common_vmin, vmax=common_vmax)\n",
    "            im = ax.imshow(diff_map, origin='lower', cmap=cmap, norm=norm)\n",
    "            ax.set_title(f\"{b1} - {b2}\", fontweight='bold')\n",
    "            ax.axis('off')\n",
    "            fig.colorbar(im, ax=ax, shrink=0.7)\n",
    "        except Exception as e:\n",
    "            ax.text(0.5, 0.5, f'Erreur\\n{b1}-{b2}', ha='center', va='center', fontsize=10)\n",
    "            print(f\"Erreur pour {b1}-{b2} : {e}\")\n",
    "            ax.axis('off')\n",
    "\n",
    "    for j in range(N, len(axes)):\n",
    "        fig.delaxes(axes[j])\n",
    "\n",
    "    plt.tight_layout()\n",
    "    plt.show()\n"
   ]
  },
  {
   "cell_type": "code",
   "execution_count": null,
   "id": "140be712-5eed-46b4-a7d4-b8e8f12d9f11",
   "metadata": {
    "execution": {
     "iopub.execute_input": "2025-06-03T12:23:30.492805Z",
     "iopub.status.busy": "2025-06-03T12:23:30.492663Z",
     "iopub.status.idle": "2025-06-03T12:23:31.217730Z",
     "shell.execute_reply": "2025-06-03T12:23:31.217338Z",
     "shell.execute_reply.started": "2025-06-03T12:23:30.492790Z"
    }
   },
   "outputs": [],
   "source": [
    "# Exemple simple avec les couleurs classiques\n",
    "color_combos = [('g', 'r'), ('r', 'i'), ('i', 'z'), ('z', 'y'), ('g', 'z'), ('r', 'y')]\n",
    "\n",
    "# Ou pour tester automatiquement toutes les combinaisons :\n",
    "# color_combos = list(combinations(['g', 'r', 'i', 'z', 'y'], 2))\n",
    "\n",
    "show_color_difference_combinations_newnorm(band_data, combos=color_combos)"
   ]
  },
  {
   "cell_type": "code",
   "execution_count": null,
   "id": "e07c9f2f-e346-4586-99e3-4af987bbcfdb",
   "metadata": {
    "execution": {
     "iopub.execute_input": "2025-06-03T12:23:31.218340Z",
     "iopub.status.busy": "2025-06-03T12:23:31.218201Z",
     "iopub.status.idle": "2025-06-03T12:23:32.224664Z",
     "shell.execute_reply": "2025-06-03T12:23:32.223788Z",
     "shell.execute_reply.started": "2025-06-03T12:23:31.218326Z"
    }
   },
   "outputs": [],
   "source": [
    "color_combos = list(combinations(['g', 'r', 'i', 'z', 'y'], 2))\n",
    "show_color_difference_combinations_newnorm(band_data, combos=color_combos)"
   ]
  },
  {
   "cell_type": "code",
   "execution_count": null,
   "id": "56689c38-d165-43f3-8ba7-f1d1fbf076f0",
   "metadata": {},
   "outputs": [],
   "source": []
  }
 ],
 "metadata": {
  "kernelspec": {
   "display_name": "LSST",
   "language": "python",
   "name": "lsst"
  },
  "language_info": {
   "codemirror_mode": {
    "name": "ipython",
    "version": 3
   },
   "file_extension": ".py",
   "mimetype": "text/x-python",
   "name": "python",
   "nbconvert_exporter": "python",
   "pygments_lexer": "ipython3",
   "version": "3.12.10"
  }
 },
 "nbformat": 4,
 "nbformat_minor": 5
}
