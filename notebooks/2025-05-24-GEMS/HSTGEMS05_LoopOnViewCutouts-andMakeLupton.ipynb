{
 "cells": [
  {
   "cell_type": "markdown",
   "id": "434b4c03-b5a4-4f55-9208-dac2bc9e9c43",
   "metadata": {},
   "source": [
    "## Loop on View  HST cutout images and Lupton colored image\n",
    "\n",
    "- author : Sylvie Dagoret-Campagne\n",
    "- creation date : 2025-05-30\n",
    "- last update : 2025-05-30 "
   ]
  },
  {
   "cell_type": "code",
   "execution_count": null,
   "id": "07174771-40a6-47ce-a28d-6ac64cce51bc",
   "metadata": {},
   "outputs": [],
   "source": [
    "import astroquery\n",
    "print(astroquery.__version__)"
   ]
  },
  {
   "cell_type": "markdown",
   "id": "37dcd3ab-0bc6-4823-a38e-764bc978e075",
   "metadata": {},
   "source": [
    "https://stackoverflow.com/questions/59699193/how-to-obtain-2d-cutout-of-an-image-from-a-skycoord-position"
   ]
  },
  {
   "cell_type": "code",
   "execution_count": null,
   "id": "91d47536-6176-4ae1-a5ab-4b5fbaf6ac02",
   "metadata": {},
   "outputs": [],
   "source": [
    "# For Angle conversion\n",
    "import matplotlib.pyplot as plt\n",
    "from astropy.coordinates import Angle\n",
    "import astropy.units as u\n",
    "from astropy.coordinates import SkyCoord\n",
    "import pandas as pd\n",
    "import numpy as np\n",
    "from astropy.io import fits\n",
    "from astropy.coordinates import SkyCoord\n",
    "from astropy.wcs import WCS\n",
    "from astropy.nddata import Cutout2D\n",
    "from astropy.visualization import simple_norm, ZScaleInterval,PercentileInterval,make_lupton_rgb"
   ]
  },
  {
   "cell_type": "code",
   "execution_count": null,
   "id": "96deddc5-6828-4821-a86d-276f8db335ce",
   "metadata": {},
   "outputs": [],
   "source": [
    "from IPython.display import Image, display"
   ]
  },
  {
   "cell_type": "markdown",
   "id": "13e83e75-543c-4373-92e2-38ca692aa3fc",
   "metadata": {},
   "source": [
    "## Configuration"
   ]
  },
  {
   "cell_type": "markdown",
   "id": "aedcfe02-8a4f-48cb-8ada-a5e8b080a3f2",
   "metadata": {},
   "source": [
    "### Target in ECDFS\n",
    "\n",
    "- path to article : https://arxiv.org/pdf/1104.0931\n",
    "- visual selection of the tiles : https://archive.stsci.edu/prepds/gems/browser.html\n",
    "- path file download : https://archive.stsci.edu/pub/hlsp/gems/v_mk1/"
   ]
  },
  {
   "cell_type": "code",
   "execution_count": null,
   "id": "704fa3d8-ef8f-4bff-9dd6-e71e2a337def",
   "metadata": {},
   "outputs": [],
   "source": [
    "fig_table1 = \"input_figs/table1_gemcandidates.png\"\n",
    "fig_table2 = \"input_figs/table2_gemcandidates.png\""
   ]
  },
  {
   "cell_type": "code",
   "execution_count": null,
   "id": "3438e6e2-8750-408b-9404-3d2a7dfe3a61",
   "metadata": {},
   "outputs": [],
   "source": [
    "Image(url= fig_table1,width=800)"
   ]
  },
  {
   "cell_type": "code",
   "execution_count": null,
   "id": "00dce019-3a93-40eb-b700-41468bab7554",
   "metadata": {},
   "outputs": [],
   "source": [
    "Image(url= fig_table2,width=500)"
   ]
  },
  {
   "cell_type": "code",
   "execution_count": null,
   "id": "169491b5-2f1d-4e12-a1a6-1b755581d0d5",
   "metadata": {},
   "outputs": [],
   "source": [
    "#15422 44 03:32:38.21 –27:56:53.2 \n",
    "ra1 = \"03:32:38.21 hours\"\n",
    "dec1 = \"-27:56:53.2 degrees\"\n",
    "tile1 = 44\n",
    "\n",
    "#34244 94 03:32:06.45 –27:47:28.6 \n",
    "ra2 = \"03:32:06.45 hours\"\n",
    "dec2 = \"-27:47:28.6 degrees\"\n",
    "tile2 = 94\n",
    "# Je ne trouve pas cette tile ==> FindTileForCutoutGEM\n",
    "tile2 = 32\n",
    "\n",
    "#40173 35 03:33:19.45 –27:44:50.0 \n",
    "ra3 = \"03:33:19.45 hours\"\n",
    "dec3 = \"-27:44:50.0 degrees\"\n",
    "tile3 = 35\n",
    "\n",
    "#43242 45 03:31:55.35 –27:43:23.5 \n",
    "ra4 = \"03:31:55.35 hours\"\n",
    "dec4 = \"-27:43:23.5 degrees\"\n",
    "tile4 = 45\n",
    "\n",
    "#46446 47 03:31:35.94 –27:41:48.2 \n",
    "ra5 = \"03:31:35.94 hours\"\n",
    "dec5 = \"-27:41:48.2 degrees\"\n",
    "tile5 = 47\n",
    "\n",
    "#12589 03:31:24.89 −27:58:07.0\n",
    "ra6 = \"03:31:24.89 hours\"\n",
    "dec6 = \"-27:58:07.0 degrees\"\n",
    "tile6 = 17\n",
    "\n",
    "#43797 03:31:31.74 −27:43:00.8 \n",
    "ra7 = \"03:31:31.74 hours\"\n",
    "dec7 = \"-27:43:00.8 degrees\"\n",
    "tile7 = 47\n",
    "\n",
    "#28294 03:31:50.54 −27:50:28.4 \n",
    "ra8 = \"03:31:50.54 hours\"\n",
    "dec8 = \"-27:50:28.4 degrees\"\n",
    "tile8 = 33\n",
    "\n",
    "#36857 03:31:53.24 −27:46:18.9\n",
    "ra9 = \"03:31:53.24 hours\"\n",
    "dec9 = \"-27:46:18.9 degrees\"\n",
    "tile9 = 38\n",
    "\n",
    "#36714 03:32:59.78 −27:46:26.4 \n",
    "ra10 = \"03:32:59.78 hours\"\n",
    "dec10 = \"-27:46:26.4 degrees\"\n",
    "tile10 = 37\n"
   ]
  },
  {
   "cell_type": "code",
   "execution_count": null,
   "id": "85c504b7-1ee1-4d83-9a1a-8b4e4c231103",
   "metadata": {},
   "outputs": [],
   "source": [
    "lsstcomcam_targets = {}\n",
    "# high rank\n",
    "lsstcomcam_targets[\"ECDFS_G15422\"] = {\"field_name\": \"GEMS-15422\", \"ra\": 53.159208333333325, \"dec\": -27.94811111111111,\"tile\":tile1}\n",
    "lsstcomcam_targets[\"ECDFS_G34244\"] = {\"field_name\": \"GEMS-34244\", \"ra\": 53.02687499999999 , \"dec\": -27.79127777777778,\"tile\":tile2}\n",
    "lsstcomcam_targets[\"ECDFS_G40173\"] = {\"field_name\": \"GEMS-40173\", \"ra\": 53.33104166666666 , \"dec\": -27.747222222222224,\"tile\":tile3}\n",
    "lsstcomcam_targets[\"ECDFS_G43242\"] = {\"field_name\": \"GEMS-43242\", \"ra\": 52.980624999999996 , \"dec\": -27.72319444444444,\"tile\":tile4}\n",
    "lsstcomcam_targets[\"ECDFS_G46446\"] = {\"field_name\": \"GEMS-46446\", \"ra\": 52.89975 , \"dec\": -27.696722222222224,\"tile\":tile5}\n",
    "\n",
    "# low rank\n",
    "lsstcomcam_targets[\"ECDFS_G12589\"] = {\"field_name\": \"GEMS-12589\", \"ra\": 52.85370833333333, \"dec\": -27.96861111111111,\"tile\":tile6}\n",
    "lsstcomcam_targets[\"ECDFS_G43797\"] = {\"field_name\": \"GEMS-43797\", \"ra\": 52.88224999999999, \"dec\": -27.71688888888889,\"tile\":tile7}\n",
    "\n",
    "lsstcomcam_targets[\"ECDFS_G28294\"] = {\"field_name\": \"GEMS-28294\", \"ra\": 52.960583333333325 , \"dec\": -27.84122222222222,\"tile\":tile8}\n",
    "lsstcomcam_targets[\"ECDFS_G6857\"] = {\"field_name\": \"GEMS-6857\", \"ra\": 52.97183333333333 , \"dec\": -27.771916666666666,\"tile\":tile9}\n",
    "lsstcomcam_targets[\"ECDFS_G36714\"] = {\"field_name\": \"GEMS-36714\", \"ra\": 53.249083333333324, \"dec\": -27.773999999999997,\"tile\":tile10}\n"
   ]
  },
  {
   "cell_type": "code",
   "execution_count": null,
   "id": "17ae8de2-0358-4f1e-9443-1a360f662eee",
   "metadata": {},
   "outputs": [],
   "source": [
    "df = pd.DataFrame(lsstcomcam_targets).T"
   ]
  },
  {
   "cell_type": "code",
   "execution_count": null,
   "id": "76ed9206-dde5-4349-9474-2b6c0cd3fb30",
   "metadata": {},
   "outputs": [],
   "source": [
    "# candidates\n",
    "#key = \"ECDFS_G15422\"\n",
    "#key = \"ECDFS_G34244\"\n",
    "#key = \"ECDFS_G40173\"\n",
    "#key= \"ECDFS_G43242\"\n",
    "#key= \"ECDFS_G46446\"\n",
    "\n",
    "# unknown\n",
    "#key = \"ECDFS_G12589\"\n",
    "#key = \"ECDFS_G43797\"\n",
    "#key = \"ECDFS_G28294\"\n",
    "#key = \"ECDFS_G6857\"\n",
    "#key = \"ECDFS_G36714\"\n",
    "\n"
   ]
  },
  {
   "cell_type": "markdown",
   "id": "20b735e7-1677-4a36-b6b7-ab47b6659e3e",
   "metadata": {},
   "source": [
    "## Config\n"
   ]
  },
  {
   "cell_type": "code",
   "execution_count": null,
   "id": "a9d44c03-cd57-47e1-9d5f-66c7b55b01f6",
   "metadata": {},
   "outputs": [],
   "source": [
    "# select your bands\n",
    "SELECT_VBAND = \"v\"\n",
    "SELECT_ZBAND = \"z\""
   ]
  },
  {
   "cell_type": "code",
   "execution_count": null,
   "id": "03f1718e-c3b5-4b4e-9ebe-993b4a2877e4",
   "metadata": {},
   "outputs": [],
   "source": [
    "list_of_keys = [\"ECDFS_G15422\", \"ECDFS_G34244\",\"ECDFS_G40173\",\"ECDFS_G43242\",\"ECDFS_G46446\",\"ECDFS_G12589\",\"ECDFS_G43797\",\"ECDFS_G28294\",\"ECDFS_G6857\",\"ECDFS_G36714\"]"
   ]
  },
  {
   "cell_type": "markdown",
   "id": "fa754820-2436-4696-bbfd-b4b7b825ef9d",
   "metadata": {},
   "source": [
    "### Load image"
   ]
  },
  {
   "cell_type": "markdown",
   "id": "8bf48460-2b66-433e-b0c8-56ca919e8234",
   "metadata": {},
   "source": [
    "\n",
    "🌈 Liste des stretch disponibles dans simple_norm\n",
    "Tu peux utiliser ces chaînes de caractères comme valeur de stretch :\n",
    "Valeur stretch\tDescription\n",
    "- \"linear\"\tÉchelle linéaire simple (valeurs brutes entre min_cut et max_cut)\n",
    "- \"sqrt\"\tÉchelle racine carrée – met en valeur les faibles intensités\n",
    "- \"power\"\tÉchelle puissance (x^power)\n",
    "- \"log\"\tÉchelle logarithmique – bon pour étendre la dynamique\n",
    "- \"asinh\"\tÉchelle arcsinus hyperbolique – lisse, bien adaptée aux images astronomiques\n",
    "- \"sinh\"\tHyperbolique sinus – moins courant\n",
    "- \"histeq\"\tÉgalisation d'histogramme – utile pour répartir les contrastes"
   ]
  },
  {
   "cell_type": "code",
   "execution_count": null,
   "id": "2025e9b3-622b-4ada-b5bc-86e0e76af1a5",
   "metadata": {},
   "outputs": [],
   "source": [
    "def load_fits_image_with_norm(path):\n",
    "    from astropy.io import fits\n",
    "    from astropy.wcs import WCS\n",
    "    with fits.open(path) as hdul:\n",
    "        data = hdul[0].data\n",
    "        wcs = WCS(hdul[0].header)\n",
    "    vmin, vmax = ZScaleInterval().get_limits(data)\n",
    "    #norm = simple_norm(data, stretch='asinh', min_cut=vmin, max_cut=vmax)\n",
    "    norm = simple_norm(data, stretch='asinh', vmin=vmin, vmax=vmax)\n",
    "    return data, wcs, norm"
   ]
  },
  {
   "cell_type": "code",
   "execution_count": null,
   "id": "4a92eeb2-26c2-4e88-9e08-e460add96fc4",
   "metadata": {},
   "outputs": [],
   "source": [
    "def plot_multiband_panel(key, path_v, path_z):\n",
    "    \"\"\"\n",
    "    Affiche une figure 2x2 : bande V, bande Z, RGB (V+Z), différence V-Z.\n",
    "    key : nom de l'objet (titre)\n",
    "    path_v : chemin image FITS bande V (peut être None ou invalide)\n",
    "    path_z : chemin image FITS bande Z (doit exister)\n",
    "    \"\"\"\n",
    "\n",
    "    # Tentative de chargement bande V\n",
    "    has_v = True\n",
    "    try:\n",
    "        data_v, wcs_v, norm_v = load_fits_image_with_norm(path_v)\n",
    "    except Exception:\n",
    "        has_v = False\n",
    "        data_v = None\n",
    "\n",
    "    # Chargement bande Z (obligatoire)\n",
    "    data_z, wcs_z, norm_z = load_fits_image_with_norm(path_z)\n",
    "\n",
    "    # Créer la figure 2x2\n",
    "    fig, axes = plt.subplots(2, 2, figsize=(12, 10),\n",
    "                             subplot_kw={'projection': wcs_z})\n",
    "\n",
    "    # Bande V\n",
    "    ax1 = axes[0, 0]\n",
    "    if has_v:\n",
    "        ax1.imshow(data_v, origin='lower', cmap='gray', norm=norm_v)\n",
    "        ax1.set_title(f'{key} V band')\n",
    "    else:\n",
    "        ax1.text(0.5, 0.5, 'V band image\\nnot available', ha='center', va='center', fontsize=14)\n",
    "        ax1.set_xticks([]); ax1.set_yticks([])\n",
    "        ax1.set_title(f'{key} V band (missing)')\n",
    "    ax1.set_xlabel('RA')\n",
    "    ax1.set_ylabel('Dec')\n",
    "\n",
    "    # Bande Z\n",
    "    ax2 = axes[0, 1]\n",
    "    ax2.imshow(data_z, origin='lower', cmap='gray', norm=norm_z)\n",
    "    ax2.set_title(f'{key} Z band')\n",
    "    ax2.set_xlabel('RA')\n",
    "    ax2.set_ylabel('Dec')\n",
    "\n",
    "    # RGB Lupton (Z=R, V=B, G=moyenne)\n",
    "    ax3 = axes[1, 0]\n",
    "    if has_v:\n",
    "        G = 0.5 * (data_v + data_z)\n",
    "        #rgb = make_lupton_rgb(R=data_z, G=G, B=data_v, stretch=0.5, Q=10)\n",
    "        rgb = make_lupton_rgb(image_r=data_z, image_g=G, image_b=data_v, stretch=0.02, Q=10)\n",
    "        ax3.imshow(rgb, origin='lower')\n",
    "        ax3.set_title(f'{key} RGB (B=v, R=z)')\n",
    "    else:\n",
    "        ax3.text(0.5, 0.5, 'RGB combination\\nnot available', ha='center', va='center', fontsize=14)\n",
    "        ax3.set_xticks([]); ax3.set_yticks([])\n",
    "        ax3.set_title(f'{key} RGB (missing)')\n",
    "    ax3.set_xlabel('RA')\n",
    "    ax3.set_ylabel('Dec')\n",
    "\n",
    "    # Différence V - Z\n",
    "    ax4 = axes[1, 1]\n",
    "    if has_v:\n",
    "        #diff = data_v - data_z\n",
    "        #diff = -2.5*np.log10(data_v) + 2.5*np.log10(data_z)\n",
    "        eps = 1e-10\n",
    "        diff = 2.5 * np.log10((data_z + eps) / (data_v + eps))\n",
    "        norm_diff = simple_norm(diff, stretch='linear', percent=97)\n",
    "        #im = ax4.imshow(diff, origin='lower', cmap='seismic', norm=norm_diff)\n",
    "        im = ax4.imshow(diff, origin='lower', cmap='coolwarm', norm=norm_diff)\n",
    "        ax4.set_title(f'{key} V - Z')\n",
    "\n",
    "        # Ajouter une colorbar interne\n",
    "        cax = ax4.inset_axes([1.02, 0.1, 0.02, 0.8])  # [left, bottom, width, height]\n",
    "        fig.colorbar(im, cax=cax, orientation='vertical',label='V - Z (mag)')\n",
    "    else:\n",
    "        ax4.text(0.5, 0.5, 'V - Z not available', ha='center', va='center', fontsize=14)\n",
    "        ax4.set_xticks([]); ax4.set_yticks([])\n",
    "        ax4.set_title(f'{key} V - Z (missing)')\n",
    "    ax4.set_xlabel('RA')\n",
    "    ax4.set_ylabel('Dec')\n",
    "\n",
    "    # Mise en page\n",
    "    plt.tight_layout()\n",
    "    plt.show()"
   ]
  },
  {
   "cell_type": "markdown",
   "id": "03198a43-fc4a-4960-9701-eb009870f02d",
   "metadata": {},
   "source": [
    "## Loop on targets"
   ]
  },
  {
   "cell_type": "code",
   "execution_count": null,
   "id": "ecef655f-ebd2-43c5-8adf-db9c50de893a",
   "metadata": {},
   "outputs": [],
   "source": [
    "for ik,key in enumerate(list_of_keys):\n",
    "\n",
    "\n",
    "    the_target = lsstcomcam_targets[key]\n",
    "    target_ra = the_target[\"ra\"]\n",
    "    target_dec = the_target[\"dec\"]\n",
    "    target_name = the_target[\"field_name\"]\n",
    "    tile_num = the_target[\"tile\"]\n",
    "    coord = SkyCoord(ra=target_ra, dec=target_dec, unit=(u.deg, u.deg))\n",
    "\n",
    "    target_title = (\n",
    "        the_target[\"field_name\"] + f\" (ra,dec) = ({target_ra:.2f},{target_dec:.2f}) \"\n",
    "    )\n",
    "\n",
    "    cutout_inputpath_v = f\"cutout_gems_{key}_b{SELECT_VBAND}.fits\"\n",
    "    cutout_inputpath_z = f\"cutout_gems_{key}_b{SELECT_ZBAND}.fits\"\n",
    "\n",
    "    plot_multiband_panel(key=key,path_v=cutout_inputpath_v,path_z=cutout_inputpath_z)\n",
    "\n",
    "\n",
    "    "
   ]
  },
  {
   "cell_type": "code",
   "execution_count": null,
   "id": "ed2160b7-cc6a-4eca-8a8f-25521377a104",
   "metadata": {},
   "outputs": [],
   "source": []
  }
 ],
 "metadata": {
  "kernelspec": {
   "display_name": "conda_py313",
   "language": "python",
   "name": "conda_py313"
  },
  "language_info": {
   "codemirror_mode": {
    "name": "ipython",
    "version": 3
   },
   "file_extension": ".py",
   "mimetype": "text/x-python",
   "name": "python",
   "nbconvert_exporter": "python",
   "pygments_lexer": "ipython3",
   "version": "3.13.3"
  }
 },
 "nbformat": 4,
 "nbformat_minor": 5
}
