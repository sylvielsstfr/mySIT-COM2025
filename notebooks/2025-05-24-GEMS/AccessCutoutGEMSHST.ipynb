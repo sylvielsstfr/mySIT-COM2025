{
 "cells": [
  {
   "cell_type": "markdown",
   "id": "434b4c03-b5a4-4f55-9208-dac2bc9e9c43",
   "metadata": {},
   "source": [
    "## Access images"
   ]
  },
  {
   "cell_type": "code",
   "execution_count": 1,
   "id": "07174771-40a6-47ce-a28d-6ac64cce51bc",
   "metadata": {},
   "outputs": [
    {
     "name": "stdout",
     "output_type": "stream",
     "text": [
      "0.4.11.dev10140\n"
     ]
    }
   ],
   "source": [
    "import astroquery\n",
    "print(astroquery.__version__)"
   ]
  },
  {
   "cell_type": "markdown",
   "id": "37dcd3ab-0bc6-4823-a38e-764bc978e075",
   "metadata": {},
   "source": [
    "https://stackoverflow.com/questions/59699193/how-to-obtain-2d-cutout-of-an-image-from-a-skycoord-position"
   ]
  },
  {
   "cell_type": "code",
   "execution_count": 23,
   "id": "91d47536-6176-4ae1-a5ab-4b5fbaf6ac02",
   "metadata": {},
   "outputs": [],
   "source": [
    "# For Angle conversion\n",
    "from astropy.coordinates import Angle\n",
    "import astropy.units as u\n",
    "from astropy.coordinates import SkyCoord\n",
    "import pandas as pd\n",
    "import numpy as np\n",
    "from astropy.io import fits\n",
    "from astropy.coordinates import SkyCoord\n",
    "from astropy.wcs import WCS\n",
    "from astropy.nddata import Cutout2D"
   ]
  },
  {
   "cell_type": "code",
   "execution_count": 24,
   "id": "96deddc5-6828-4821-a86d-276f8db335ce",
   "metadata": {},
   "outputs": [],
   "source": [
    "from IPython.display import Image, display"
   ]
  },
  {
   "cell_type": "markdown",
   "id": "13e83e75-543c-4373-92e2-38ca692aa3fc",
   "metadata": {},
   "source": [
    "## Configuration"
   ]
  },
  {
   "cell_type": "markdown",
   "id": "aedcfe02-8a4f-48cb-8ada-a5e8b080a3f2",
   "metadata": {},
   "source": [
    "### Target in ECDFS\n",
    "\n",
    "https://arxiv.org/pdf/1104.0931"
   ]
  },
  {
   "cell_type": "code",
   "execution_count": 25,
   "id": "704fa3d8-ef8f-4bff-9dd6-e71e2a337def",
   "metadata": {},
   "outputs": [],
   "source": [
    "fig_table1 = \"input_figs/table1_gemcandidates.png\"\n",
    "fig_table2 = \"input_figs/table2_gemcandidates.png\""
   ]
  },
  {
   "cell_type": "code",
   "execution_count": 33,
   "id": "3438e6e2-8750-408b-9404-3d2a7dfe3a61",
   "metadata": {},
   "outputs": [
    {
     "data": {
      "text/html": [
       "<img src=\"input_figs/table1_gemcandidates.png\" width=\"800\"/>"
      ],
      "text/plain": [
       "<IPython.core.display.Image object>"
      ]
     },
     "execution_count": 33,
     "metadata": {},
     "output_type": "execute_result"
    }
   ],
   "source": [
    "Image(url= fig_table1,width=800)"
   ]
  },
  {
   "cell_type": "code",
   "execution_count": 32,
   "id": "00dce019-3a93-40eb-b700-41468bab7554",
   "metadata": {},
   "outputs": [
    {
     "data": {
      "text/html": [
       "<img src=\"input_figs/table2_gemcandidates.png\" width=\"500\"/>"
      ],
      "text/plain": [
       "<IPython.core.display.Image object>"
      ]
     },
     "execution_count": 32,
     "metadata": {},
     "output_type": "execute_result"
    }
   ],
   "source": [
    "Image(url= fig_table2,width=500)"
   ]
  },
  {
   "cell_type": "code",
   "execution_count": 36,
   "id": "169491b5-2f1d-4e12-a1a6-1b755581d0d5",
   "metadata": {},
   "outputs": [],
   "source": [
    "#15422 44 03:32:38.21 –27:56:53.2 \n",
    "ra1 = \"03:32:38.21 hours\"\n",
    "dec1 = \"-27:56:53.2 degrees\"\n",
    "tile1 = 44\n",
    "\n",
    "#34244 94 03:32:06.45 –27:47:28.6 \n",
    "ra2 = \"03:32:06.45 hours\"\n",
    "dec2 = \"-27:47:28.6 degrees\"\n",
    "tile2 = 94\n",
    "\n",
    "#40173 35 03:33:19.45 –27:44:50.0 \n",
    "ra3 = \"03:33:19.45 hours\"\n",
    "dec3 = \"-27:44:50.0 degrees\"\n",
    "tile3 = 35\n",
    "\n",
    "#43242 45 03:31:55.35 –27:43:23.5 \n",
    "ra4 = \"03:31:55.35 hours\"\n",
    "dec4 = \"-27:43:23.5 degrees\"\n",
    "tile4 = 45\n",
    "\n",
    "#46446 47 03:31:35.94 –27:41:48.2 \n",
    "ra5 = \"03:31:35.94 hours\"\n",
    "dec5 = \"-27:41:48.2 degrees\"\n",
    "tile5 = 47\n",
    "\n",
    "#12589 03:31:24.89 −27:58:07.0\n",
    "ra6 = \"03:31:24.89 hours\"\n",
    "dec6 = \"-27:58:07.0 degrees\"\n",
    "tile6 = 17\n",
    "\n",
    "#43797 03:31:31.74 −27:43:00.8 \n",
    "ra7 = \"03:31:31.74 hours\"\n",
    "dec7 = \"-27:43:00.8 degrees\"\n",
    "tile7 = 47\n",
    "\n",
    "#28294 03:31:50.54 −27:50:28.4 \n",
    "ra8 = \"03:31:50.54 hours\"\n",
    "dec8 = \"-27:50:28.4 degrees\"\n",
    "tile8 = 33\n",
    "\n",
    "#36857 03:31:53.24 −27:46:18.9\n",
    "ra9 = \"03:31:53.24 hours\"\n",
    "dec9 = \"-27:46:18.9 degrees\"\n",
    "tile9 = 38\n",
    "\n",
    "#36714 03:32:59.78 −27:46:26.4 \n",
    "ra10 = \"03:32:59.78 hours\"\n",
    "dec10 = \"-27:46:26.4 degrees\"\n",
    "tile10 = 37\n"
   ]
  },
  {
   "cell_type": "code",
   "execution_count": 37,
   "id": "85c504b7-1ee1-4d83-9a1a-8b4e4c231103",
   "metadata": {},
   "outputs": [],
   "source": [
    "lsstcomcam_targets = {}\n",
    "# high rank\n",
    "lsstcomcam_targets[\"ECDFS_G15422\"] = {\"field_name\": \"GEMS-15422\", \"ra\": 53.159208333333325, \"dec\": -27.94811111111111,\"tile\":tile1}\n",
    "lsstcomcam_targets[\"ECDFS_G34244\"] = {\"field_name\": \"GEMS-34244\", \"ra\": 53.02687499999999 , \"dec\": -27.79127777777778,\"tile\":tile2}\n",
    "lsstcomcam_targets[\"ECDFS_G40173\"] = {\"field_name\": \"GEMS-40173\", \"ra\": 53.33104166666666 , \"dec\": -27.747222222222224,\"tile\":tile3}\n",
    "lsstcomcam_targets[\"ECDFS_G43242\"] = {\"field_name\": \"GEMS-43242\", \"ra\": 52.980624999999996 , \"dec\": -27.72319444444444,\"tile\":tile4}\n",
    "lsstcomcam_targets[\"ECDFS_G46446\"] = {\"field_name\": \"GEMS-46446\", \"ra\": 52.89975 , \"dec\": -27.696722222222224,\"tile\":tile5}\n",
    "\n",
    "# low rank\n",
    "lsstcomcam_targets[\"ECDFS_G12589\"] = {\"field_name\": \"GEMS-12589\", \"ra\": 52.85370833333333, \"dec\": -27.96861111111111,\"tile\":tile6}\n",
    "lsstcomcam_targets[\"ECDFS_G43797\"] = {\"field_name\": \"GEMS-43797\", \"ra\": 52.88224999999999, \"dec\": -27.71688888888889,\"tile\":tile7}\n",
    "\n",
    "lsstcomcam_targets[\"ECDFS_G28294\"] = {\"field_name\": \"GEMS-28294\", \"ra\": 52.960583333333325 , \"dec\": -27.84122222222222,\"tile\":tile8}\n",
    "lsstcomcam_targets[\"ECDFS_G6857\"] = {\"field_name\": \"GEMS-6857\", \"ra\": 52.97183333333333 , \"dec\": -27.771916666666666,\"tile\":tile9}\n",
    "lsstcomcam_targets[\"ECDFS_G36714\"] = {\"field_name\": \"GEMS-36714\", \"ra\": 53.249083333333324, \"dec\": -27.773999999999997,\"tile\":tile10}\n"
   ]
  },
  {
   "cell_type": "code",
   "execution_count": 38,
   "id": "17ae8de2-0358-4f1e-9443-1a360f662eee",
   "metadata": {},
   "outputs": [],
   "source": [
    "df = pd.DataFrame(lsstcomcam_targets).T"
   ]
  },
  {
   "cell_type": "code",
   "execution_count": 39,
   "id": "76ed9206-dde5-4349-9474-2b6c0cd3fb30",
   "metadata": {},
   "outputs": [],
   "source": [
    "# candidates\n",
    "#key = \"ECDFS_G15422\"\n",
    "key = \"ECDFS_G34244\"\n",
    "#key = \"ECDFS_G40173\"\n",
    "#key= \"ECDFS_G43242\"\n",
    "#key= \"ECDFS_G46446\"\n",
    "\n",
    "# unknown\n",
    "#key = \"ECDFS_G12589\"\n",
    "#key = \"ECDFS_G43797\"\n",
    "#key = \"ECDFS_G28294\"\n",
    "#key = \"ECDFS_G6857\"\n",
    "#key = \"ECDFS_G36714\"\n",
    "\n",
    "the_target = lsstcomcam_targets[key]\n",
    "target_ra = the_target[\"ra\"]\n",
    "target_dec = the_target[\"dec\"]\n",
    "target_name = the_target[\"field_name\"]\n",
    "tile_num = the_target[\"tile\"]\n",
    "\n",
    "target_title = (\n",
    "    the_target[\"field_name\"] + f\" (ra,dec) = ({target_ra:.2f},{target_dec:.2f}) \"\n",
    ")"
   ]
  },
  {
   "cell_type": "code",
   "execution_count": 40,
   "id": "683d9850-46f1-40a3-af30-8350b374e964",
   "metadata": {},
   "outputs": [
    {
     "data": {
      "text/plain": [
       "94"
      ]
     },
     "execution_count": 40,
     "metadata": {},
     "output_type": "execute_result"
    }
   ],
   "source": [
    "tile_num"
   ]
  },
  {
   "cell_type": "markdown",
   "id": "f896b114-1536-4bcf-8760-c241edca67be",
   "metadata": {},
   "source": [
    "### Access to remote files"
   ]
  },
  {
   "cell_type": "code",
   "execution_count": 7,
   "id": "33d1629b-b1e4-4d33-8e5a-a20185f9939b",
   "metadata": {},
   "outputs": [],
   "source": [
    "# Charger l'image\n",
    "\n",
    "# Load the FITS file and create a SkyCoord object for \n",
    "# the cutout center\n",
    "\n",
    "url = f\"http://archive.stsci.edu/pub/hlsp/gems/z_mk1/h_gems_z{tile_num}_mk1.fits\"\n",
    "hdul = fits.open(url)"
   ]
  },
  {
   "cell_type": "code",
   "execution_count": 8,
   "id": "6c67e014-6eb3-4c2d-bbe3-c7f27c224c43",
   "metadata": {},
   "outputs": [
    {
     "name": "stdout",
     "output_type": "stream",
     "text": [
      "Filename: /Users/dagoret/.astropy/cache/download/url/3119fbe9c74e679967daa7b90812391d/contents\n",
      "No.    Name      Ver    Type      Cards   Dimensions   Format\n",
      "  0  PRIMARY       1 PrimaryHDU     440   (7060, 7252)   float32   \n",
      "None\n"
     ]
    }
   ],
   "source": [
    "print(hdul.info())"
   ]
  },
  {
   "cell_type": "code",
   "execution_count": 9,
   "id": "ce2cd110-ed53-4bf0-a65b-fbeae252391a",
   "metadata": {},
   "outputs": [
    {
     "name": "stderr",
     "output_type": "stream",
     "text": [
      "WARNING: FITSFixedWarning: 'datfix' made the change 'Set MJD-OBS to 52592.000000 from DATE-OBS'. [astropy.wcs.wcs]\n"
     ]
    }
   ],
   "source": [
    "hdu = hdul[0]\n",
    "data = hdu.data\n",
    "header = hdu.header\n",
    "wcs = WCS(header)"
   ]
  },
  {
   "cell_type": "markdown",
   "id": "f830540a-43e2-4305-af95-de2bd36c1fa8",
   "metadata": {},
   "source": [
    "### Check the pixel scale"
   ]
  },
  {
   "cell_type": "code",
   "execution_count": 10,
   "id": "a9febfb3-27c0-4f64-8611-fc3a75d5e0c9",
   "metadata": {},
   "outputs": [
    {
     "name": "stdout",
     "output_type": "stream",
     "text": [
      "Pixel scale ≈ 0.030 arcsec/pixel\n"
     ]
    }
   ],
   "source": [
    "pixel_scale_matrix = wcs.pixel_scale_matrix\n",
    "\n",
    "# Norme des vecteurs de la matrice (en degrés/pixel)\n",
    "scale_x = np.linalg.norm(pixel_scale_matrix[0])\n",
    "scale_y = np.linalg.norm(pixel_scale_matrix[1])\n",
    "\n",
    "# Moyenne des deux axes\n",
    "scale_deg = (scale_x + scale_y) / 2\n",
    "\n",
    "# Conversion en arcsec/pixel\n",
    "scale_arcsec = scale_deg * 3600\n",
    "\n",
    "print(f\"Pixel scale ≈ {scale_arcsec:.3f} arcsec/pixel\")"
   ]
  },
  {
   "cell_type": "markdown",
   "id": "8780a773-bf5d-431a-ab59-345d5b095cee",
   "metadata": {},
   "source": [
    "### Build the target coordinates"
   ]
  },
  {
   "cell_type": "code",
   "execution_count": 11,
   "id": "6a5dd94d-a813-4aa3-b912-a063a87d955f",
   "metadata": {},
   "outputs": [],
   "source": [
    "# Exemple : coordonnées au centre du champ GEMS\n",
    "coord = SkyCoord(ra=target_ra, dec=target_dec, unit=(u.deg, u.deg))"
   ]
  },
  {
   "cell_type": "markdown",
   "id": "70a69d7d-4ebf-49b0-a05a-1efba034b21c",
   "metadata": {},
   "source": [
    "## Make the cutout"
   ]
  },
  {
   "cell_type": "code",
   "execution_count": 12,
   "id": "e9924971-978d-4d7a-9112-92aa29977148",
   "metadata": {},
   "outputs": [],
   "source": [
    "cut_im_path = f\"cutouthst_{key}.fits\""
   ]
  },
  {
   "cell_type": "code",
   "execution_count": 13,
   "id": "dffed91c-d1f4-4eb0-9fbe-552b68217107",
   "metadata": {},
   "outputs": [
    {
     "ename": "NoOverlapError",
     "evalue": "Arrays do not overlap.",
     "output_type": "error",
     "traceback": [
      "\u001b[31m---------------------------------------------------------------------------\u001b[39m",
      "\u001b[31mNoOverlapError\u001b[39m                            Traceback (most recent call last)",
      "\u001b[36mCell\u001b[39m\u001b[36m \u001b[39m\u001b[32mIn[13]\u001b[39m\u001b[32m, line 12\u001b[39m\n\u001b[32m      9\u001b[39m size = (\u001b[32m128\u001b[39m, \u001b[32m128\u001b[39m)\n\u001b[32m     11\u001b[39m \u001b[38;5;66;03m# Create the cutout with the 2D WCS\u001b[39;00m\n\u001b[32m---> \u001b[39m\u001b[32m12\u001b[39m cutout = \u001b[43mCutout2D\u001b[49m\u001b[43m(\u001b[49m\u001b[43mdata_2d\u001b[49m\u001b[43m,\u001b[49m\u001b[43m \u001b[49m\u001b[43mposition\u001b[49m\u001b[43m=\u001b[49m\u001b[43mcoord\u001b[49m\u001b[43m,\u001b[49m\u001b[43m \u001b[49m\u001b[43msize\u001b[49m\u001b[43m=\u001b[49m\u001b[43msize\u001b[49m\u001b[43m,\u001b[49m\u001b[43m \u001b[49m\u001b[43mwcs\u001b[49m\u001b[43m=\u001b[49m\u001b[43mwcs_2d\u001b[49m\u001b[43m)\u001b[49m\n\u001b[32m     14\u001b[39m cutout_wcs_to_header = cutout.wcs.to_header()\n\u001b[32m     15\u001b[39m \u001b[38;5;66;03m# Essential line to retain other axes (e.g frequency and Stokes).\u001b[39;00m\n",
      "\u001b[36mFile \u001b[39m\u001b[32m~/miniconda3/envs/conda_py313/lib/python3.13/site-packages/astropy/nddata/utils.py:599\u001b[39m, in \u001b[36mCutout2D.__init__\u001b[39m\u001b[34m(self, data, position, size, wcs, mode, fill_value, copy)\u001b[39m\n\u001b[32m    595\u001b[39m \u001b[38;5;66;03m# reverse position because extract_array and overlap_slices\u001b[39;00m\n\u001b[32m    596\u001b[39m \u001b[38;5;66;03m# use (y, x), but keep the input position\u001b[39;00m\n\u001b[32m    597\u001b[39m pos_yx = position[::-\u001b[32m1\u001b[39m]\n\u001b[32m--> \u001b[39m\u001b[32m599\u001b[39m cutout_data, input_position_cutout = \u001b[43mextract_array\u001b[49m\u001b[43m(\u001b[49m\n\u001b[32m    600\u001b[39m \u001b[43m    \u001b[49m\u001b[43mdata\u001b[49m\u001b[43m,\u001b[49m\n\u001b[32m    601\u001b[39m \u001b[43m    \u001b[49m\u001b[38;5;28;43mtuple\u001b[39;49m\u001b[43m(\u001b[49m\u001b[43mshape\u001b[49m\u001b[43m)\u001b[49m\u001b[43m,\u001b[49m\n\u001b[32m    602\u001b[39m \u001b[43m    \u001b[49m\u001b[43mpos_yx\u001b[49m\u001b[43m,\u001b[49m\n\u001b[32m    603\u001b[39m \u001b[43m    \u001b[49m\u001b[43mmode\u001b[49m\u001b[43m=\u001b[49m\u001b[43mmode\u001b[49m\u001b[43m,\u001b[49m\n\u001b[32m    604\u001b[39m \u001b[43m    \u001b[49m\u001b[43mfill_value\u001b[49m\u001b[43m=\u001b[49m\u001b[43mfill_value\u001b[49m\u001b[43m,\u001b[49m\n\u001b[32m    605\u001b[39m \u001b[43m    \u001b[49m\u001b[43mreturn_position\u001b[49m\u001b[43m=\u001b[49m\u001b[38;5;28;43;01mTrue\u001b[39;49;00m\u001b[43m,\u001b[49m\n\u001b[32m    606\u001b[39m \u001b[43m\u001b[49m\u001b[43m)\u001b[49m\n\u001b[32m    607\u001b[39m \u001b[38;5;28;01mif\u001b[39;00m copy:\n\u001b[32m    608\u001b[39m     cutout_data = np.copy(cutout_data)\n",
      "\u001b[36mFile \u001b[39m\u001b[32m~/miniconda3/envs/conda_py313/lib/python3.13/site-packages/astropy/nddata/utils.py:236\u001b[39m, in \u001b[36mextract_array\u001b[39m\u001b[34m(array_large, shape, position, mode, fill_value, return_position)\u001b[39m\n\u001b[32m    233\u001b[39m \u001b[38;5;28;01mif\u001b[39;00m mode \u001b[38;5;129;01mnot\u001b[39;00m \u001b[38;5;129;01min\u001b[39;00m [\u001b[33m\"\u001b[39m\u001b[33mpartial\u001b[39m\u001b[33m\"\u001b[39m, \u001b[33m\"\u001b[39m\u001b[33mtrim\u001b[39m\u001b[33m\"\u001b[39m, \u001b[33m\"\u001b[39m\u001b[33mstrict\u001b[39m\u001b[33m\"\u001b[39m]:\n\u001b[32m    234\u001b[39m     \u001b[38;5;28;01mraise\u001b[39;00m \u001b[38;5;167;01mValueError\u001b[39;00m(\u001b[33m\"\u001b[39m\u001b[33mValid modes are \u001b[39m\u001b[33m'\u001b[39m\u001b[33mpartial\u001b[39m\u001b[33m'\u001b[39m\u001b[33m, \u001b[39m\u001b[33m'\u001b[39m\u001b[33mtrim\u001b[39m\u001b[33m'\u001b[39m\u001b[33m, and \u001b[39m\u001b[33m'\u001b[39m\u001b[33mstrict\u001b[39m\u001b[33m'\u001b[39m\u001b[33m.\u001b[39m\u001b[33m\"\u001b[39m)\n\u001b[32m--> \u001b[39m\u001b[32m236\u001b[39m large_slices, small_slices = \u001b[43moverlap_slices\u001b[49m\u001b[43m(\u001b[49m\n\u001b[32m    237\u001b[39m \u001b[43m    \u001b[49m\u001b[43marray_large\u001b[49m\u001b[43m.\u001b[49m\u001b[43mshape\u001b[49m\u001b[43m,\u001b[49m\u001b[43m \u001b[49m\u001b[43mshape\u001b[49m\u001b[43m,\u001b[49m\u001b[43m \u001b[49m\u001b[43mposition\u001b[49m\u001b[43m,\u001b[49m\u001b[43m \u001b[49m\u001b[43mmode\u001b[49m\u001b[43m=\u001b[49m\u001b[43mmode\u001b[49m\n\u001b[32m    238\u001b[39m \u001b[43m\u001b[49m\u001b[43m)\u001b[49m\n\u001b[32m    239\u001b[39m extracted_array = array_large[large_slices]\n\u001b[32m    240\u001b[39m \u001b[38;5;28;01mif\u001b[39;00m return_position:\n",
      "\u001b[36mFile \u001b[39m\u001b[32m~/miniconda3/envs/conda_py313/lib/python3.13/site-packages/astropy/nddata/utils.py:122\u001b[39m, in \u001b[36moverlap_slices\u001b[39m\u001b[34m(large_array_shape, small_array_shape, position, mode)\u001b[39m\n\u001b[32m    120\u001b[39m \u001b[38;5;28;01mfor\u001b[39;00m e_min, large_shape \u001b[38;5;129;01min\u001b[39;00m \u001b[38;5;28mzip\u001b[39m(indices_min, large_array_shape):\n\u001b[32m    121\u001b[39m     \u001b[38;5;28;01mif\u001b[39;00m e_min >= large_shape:\n\u001b[32m--> \u001b[39m\u001b[32m122\u001b[39m         \u001b[38;5;28;01mraise\u001b[39;00m NoOverlapError(\u001b[33m\"\u001b[39m\u001b[33mArrays do not overlap.\u001b[39m\u001b[33m\"\u001b[39m)\n\u001b[32m    124\u001b[39m \u001b[38;5;28;01mif\u001b[39;00m mode == \u001b[33m\"\u001b[39m\u001b[33mstrict\u001b[39m\u001b[33m\"\u001b[39m:\n\u001b[32m    125\u001b[39m     \u001b[38;5;28;01mfor\u001b[39;00m e_min \u001b[38;5;129;01min\u001b[39;00m indices_min:\n",
      "\u001b[31mNoOverlapError\u001b[39m: Arrays do not overlap."
     ]
    }
   ],
   "source": [
    "cutout_header = hdu.header.copy()\n",
    "\n",
    "# Create a 2D WCS specifically for the spatial cutout\n",
    "wcs_full = WCS(cutout_header)\n",
    "wcs_2d = wcs_full.celestial\n",
    "\n",
    "# Extract only the 2D spatial slice of the data\n",
    "data_2d = data\n",
    "size = (128, 128)\n",
    "\n",
    "# Create the cutout with the 2D WCS\n",
    "cutout = Cutout2D(data_2d, position=coord, size=size, wcs=wcs_2d)\n",
    "\n",
    "cutout_wcs_to_header = cutout.wcs.to_header()\n",
    "# Essential line to retain other axes (e.g frequency and Stokes).\n",
    "cutout_wcs_to_header[\"WCSAXES\"] = hdu.header['NAXIS']\n",
    "\n",
    "cutout_header.update(cutout_wcs_to_header)\n",
    "\n",
    "# Save the cutout data with the updated header\n",
    "hdu_cutout = fits.PrimaryHDU(data=cutout.data, header=cutout_header)\n",
    "try:\n",
    "    hdu_cutout.writeto(cut_im_path, overwrite=False)\n",
    "except OSError:\n",
    "    print(\"Output file already exists.\")\n"
   ]
  },
  {
   "cell_type": "code",
   "execution_count": null,
   "id": "b62cb1c5-d9ff-4fb0-b087-dc0d8dd14e3d",
   "metadata": {},
   "outputs": [],
   "source": []
  }
 ],
 "metadata": {
  "kernelspec": {
   "display_name": "conda_py313",
   "language": "python",
   "name": "conda_py313"
  },
  "language_info": {
   "codemirror_mode": {
    "name": "ipython",
    "version": 3
   },
   "file_extension": ".py",
   "mimetype": "text/x-python",
   "name": "python",
   "nbconvert_exporter": "python",
   "pygments_lexer": "ipython3",
   "version": "3.13.3"
  }
 },
 "nbformat": 4,
 "nbformat_minor": 5
}
