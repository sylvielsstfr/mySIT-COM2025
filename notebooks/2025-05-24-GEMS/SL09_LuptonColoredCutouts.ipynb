{
 "cells": [
  {
   "attachments": {},
   "cell_type": "markdown",
   "id": "1ad8c183-160a-43e4-9285-d54d12479cee",
   "metadata": {},
   "source": [
    "# View cutouts GEMS SL in ECDFS in LSSTComCam and color them with Lupton\n",
    "\n",
    "- author : Sylvie Dagoret-Campagne\n",
    "- affiliation : IJCLab/IN2P3/CNRS\n",
    "- member : DESC, rubin-inkind\n",
    "- creation date : 2025-05-27\n",
    "- last update : 2025-05-27"
   ]
  },
  {
   "cell_type": "markdown",
   "id": "81c11161-2bd4-4317-812a-f246f3f70d81",
   "metadata": {},
   "source": [
    "### Note on work done on LSSTComCam Commissioning : https://sitcomtn-149.lsst.io/\n",
    "### Note Data Product definition Document : https://lse-163.lsst.io/"
   ]
  },
  {
   "cell_type": "code",
   "execution_count": null,
   "id": "72f36e25-589c-4a8c-865f-8b51f5f35270",
   "metadata": {
    "execution": {
     "iopub.execute_input": "2025-05-28T12:41:01.197464Z",
     "iopub.status.busy": "2025-05-28T12:41:01.197332Z",
     "iopub.status.idle": "2025-05-28T12:41:02.257317Z",
     "shell.execute_reply": "2025-05-28T12:41:02.256780Z",
     "shell.execute_reply.started": "2025-05-28T12:41:01.197448Z"
    }
   },
   "outputs": [],
   "source": [
    "import sys\n",
    "import matplotlib.pyplot as plt\n",
    "import lsst.afw.display as afwDisplay\n",
    "import numpy as np\n",
    "import pandas as pd\n",
    "from astropy.time import Time\n",
    "from astropy.io import fits\n",
    "# %matplotlib widget\n",
    "import copy  "
   ]
  },
  {
   "cell_type": "code",
   "execution_count": null,
   "id": "c95606f5-5a62-40c5-b3dc-bc779ebe3508",
   "metadata": {
    "execution": {
     "iopub.execute_input": "2025-05-28T12:41:02.259797Z",
     "iopub.status.busy": "2025-05-28T12:41:02.259647Z",
     "iopub.status.idle": "2025-05-28T12:41:02.944533Z",
     "shell.execute_reply": "2025-05-28T12:41:02.943941Z",
     "shell.execute_reply.started": "2025-05-28T12:41:02.259782Z"
    }
   },
   "outputs": [],
   "source": [
    "!eups list -s"
   ]
  },
  {
   "cell_type": "code",
   "execution_count": null,
   "id": "da7eddda-b7a2-4c6f-904a-4078b7126033",
   "metadata": {
    "execution": {
     "iopub.execute_input": "2025-05-28T12:41:02.948522Z",
     "iopub.status.busy": "2025-05-28T12:41:02.948373Z",
     "iopub.status.idle": "2025-05-28T12:41:02.951205Z",
     "shell.execute_reply": "2025-05-28T12:41:02.950815Z",
     "shell.execute_reply.started": "2025-05-28T12:41:02.948506Z"
    }
   },
   "outputs": [],
   "source": [
    "from lsst.geom import Point2D, Point2I, Box2I, Extent2I\n",
    "from lsst.afw.image import ExposureF"
   ]
  },
  {
   "cell_type": "code",
   "execution_count": null,
   "id": "2c3f835a-ca1b-483f-81f7-28108f56d440",
   "metadata": {
    "execution": {
     "iopub.execute_input": "2025-05-28T12:41:02.953426Z",
     "iopub.status.busy": "2025-05-28T12:41:02.953135Z",
     "iopub.status.idle": "2025-05-28T12:41:02.972410Z",
     "shell.execute_reply": "2025-05-28T12:41:02.971958Z",
     "shell.execute_reply.started": "2025-05-28T12:41:02.953407Z"
    }
   },
   "outputs": [],
   "source": [
    "from astropy.visualization import make_lupton_rgb\n",
    "import matplotlib.pyplot as plt"
   ]
  },
  {
   "cell_type": "code",
   "execution_count": null,
   "id": "42897fba-1ca4-4f20-837d-bd7478ac4548",
   "metadata": {
    "execution": {
     "iopub.execute_input": "2025-05-28T12:41:02.973462Z",
     "iopub.status.busy": "2025-05-28T12:41:02.972964Z",
     "iopub.status.idle": "2025-05-28T12:41:02.999673Z",
     "shell.execute_reply": "2025-05-28T12:41:02.999040Z",
     "shell.execute_reply.started": "2025-05-28T12:41:02.973446Z"
    }
   },
   "outputs": [],
   "source": [
    "import lsst.geom as geom\n",
    "from lsst.geom import SpherePoint, degrees, Point2D, Point2I, Extent2I\n",
    "from lsst.skymap import PatchInfo, Index2D"
   ]
  },
  {
   "cell_type": "code",
   "execution_count": null,
   "id": "aa4b4cdd-dd89-4c6d-a792-aaece1df1eec",
   "metadata": {
    "execution": {
     "iopub.execute_input": "2025-05-28T12:41:03.000142Z",
     "iopub.status.busy": "2025-05-28T12:41:03.000013Z",
     "iopub.status.idle": "2025-05-28T12:41:03.002393Z",
     "shell.execute_reply": "2025-05-28T12:41:03.002012Z",
     "shell.execute_reply.started": "2025-05-28T12:41:03.000129Z"
    }
   },
   "outputs": [],
   "source": [
    "# For Angle conversion\n",
    "from astropy.coordinates import Angle\n",
    "import astropy.units as u\n",
    "from astropy.coordinates import SkyCoord"
   ]
  },
  {
   "cell_type": "code",
   "execution_count": null,
   "id": "f2580923-bf82-4204-a50d-c64eb56b9f06",
   "metadata": {
    "execution": {
     "iopub.execute_input": "2025-05-28T12:41:03.002999Z",
     "iopub.status.busy": "2025-05-28T12:41:03.002862Z",
     "iopub.status.idle": "2025-05-28T12:41:03.012576Z",
     "shell.execute_reply": "2025-05-28T12:41:03.012133Z",
     "shell.execute_reply.started": "2025-05-28T12:41:03.002987Z"
    }
   },
   "outputs": [],
   "source": [
    "plt.rcParams[\"figure.figsize\"] = (10, 6)\n",
    "plt.rcParams[\"axes.labelsize\"] = \"x-large\"\n",
    "plt.rcParams[\"axes.titlesize\"] = \"x-large\"\n",
    "plt.rcParams[\"xtick.labelsize\"] = \"x-large\"\n",
    "plt.rcParams[\"ytick.labelsize\"] = \"x-large\""
   ]
  },
  {
   "cell_type": "code",
   "execution_count": null,
   "id": "d47f09df-7496-431c-b4ae-4fb75a3c6ef9",
   "metadata": {
    "execution": {
     "iopub.execute_input": "2025-05-28T12:41:03.013204Z",
     "iopub.status.busy": "2025-05-28T12:41:03.013052Z",
     "iopub.status.idle": "2025-05-28T12:41:03.026008Z",
     "shell.execute_reply": "2025-05-28T12:41:03.025559Z",
     "shell.execute_reply.started": "2025-05-28T12:41:03.013190Z"
    }
   },
   "outputs": [],
   "source": [
    "import gc"
   ]
  },
  {
   "cell_type": "code",
   "execution_count": null,
   "id": "1a1a267b-58c7-468a-a336-2c8def253a79",
   "metadata": {
    "execution": {
     "iopub.execute_input": "2025-05-28T12:41:03.026649Z",
     "iopub.status.busy": "2025-05-28T12:41:03.026510Z",
     "iopub.status.idle": "2025-05-28T12:41:03.036709Z",
     "shell.execute_reply": "2025-05-28T12:41:03.036277Z",
     "shell.execute_reply.started": "2025-05-28T12:41:03.026637Z"
    }
   },
   "outputs": [],
   "source": [
    "import traceback"
   ]
  },
  {
   "cell_type": "code",
   "execution_count": null,
   "id": "ede21bda-146f-4c77-aa40-edf2debfbfc0",
   "metadata": {
    "execution": {
     "iopub.execute_input": "2025-05-28T12:41:03.037518Z",
     "iopub.status.busy": "2025-05-28T12:41:03.037380Z",
     "iopub.status.idle": "2025-05-28T12:41:03.844939Z",
     "shell.execute_reply": "2025-05-28T12:41:03.844395Z",
     "shell.execute_reply.started": "2025-05-28T12:41:03.037505Z"
    }
   },
   "outputs": [],
   "source": [
    "# Define butler\n",
    "from lsst.daf.butler import Butler"
   ]
  },
  {
   "cell_type": "code",
   "execution_count": null,
   "id": "c7ab7fe3-285d-48c2-973a-2dde9d0a7faa",
   "metadata": {
    "execution": {
     "iopub.execute_input": "2025-05-28T12:41:03.845638Z",
     "iopub.status.busy": "2025-05-28T12:41:03.845491Z",
     "iopub.status.idle": "2025-05-28T12:41:04.513481Z",
     "shell.execute_reply": "2025-05-28T12:41:04.512981Z",
     "shell.execute_reply.started": "2025-05-28T12:41:03.845623Z"
    }
   },
   "outputs": [],
   "source": [
    "!eups list lsst_distrib"
   ]
  },
  {
   "cell_type": "code",
   "execution_count": null,
   "id": "0cd350ad-7a29-415e-aabe-a837bf1c6998",
   "metadata": {
    "execution": {
     "iopub.execute_input": "2025-05-28T12:41:04.514411Z",
     "iopub.status.busy": "2025-05-28T12:41:04.514140Z",
     "iopub.status.idle": "2025-05-28T12:41:04.518136Z",
     "shell.execute_reply": "2025-05-28T12:41:04.517836Z",
     "shell.execute_reply.started": "2025-05-28T12:41:04.514394Z"
    }
   },
   "outputs": [],
   "source": [
    "def nJy_to_ab_mag(f_njy):\n",
    "    \"\"\"Convert scalar or array flux in nJy to AB magnitude.\"\"\"\n",
    "    f_njy = np.asarray(f_njy)\n",
    "    mag = np.full_like(f_njy, fill_value=np.nan, dtype=float)\n",
    "    mask = f_njy > 0\n",
    "    mag[mask] = -2.5 * np.log10(f_njy[mask]) + 31.4\n",
    "    return mag\n",
    "\n",
    "\n",
    "def nJy_err_to_ab_err(f_njy, f_err):\n",
    "    \"\"\"Propagate flux error to magnitude error.\"\"\"\n",
    "    f_njy = np.asarray(f_njy)\n",
    "    f_err = np.asarray(f_err)\n",
    "    mag_err = np.full_like(f_njy, fill_value=np.nan, dtype=float)\n",
    "    mask = (f_njy > 0) & (f_err > 0)\n",
    "    mag_err[mask] = (2.5 / np.log(10)) * (f_err[mask] / f_njy[mask])\n",
    "    return mag_err"
   ]
  },
  {
   "cell_type": "code",
   "execution_count": null,
   "id": "3196f32a-8f86-42d9-a1e9-9ccec528eb10",
   "metadata": {
    "execution": {
     "iopub.execute_input": "2025-05-28T12:41:04.518653Z",
     "iopub.status.busy": "2025-05-28T12:41:04.518529Z",
     "iopub.status.idle": "2025-05-28T12:41:04.531418Z",
     "shell.execute_reply": "2025-05-28T12:41:04.531117Z",
     "shell.execute_reply.started": "2025-05-28T12:41:04.518641Z"
    }
   },
   "outputs": [],
   "source": [
    "def ab_mag_to_nJy(mag_ab):\n",
    "    \"\"\"Convert AB magnitude to flux in nanojanskys.\"\"\"\n",
    "    return 10 ** ((31.4 - mag_ab) / 2.5)"
   ]
  },
  {
   "cell_type": "markdown",
   "id": "7e369002-01db-40e2-a7b7-036072114e6a",
   "metadata": {},
   "source": [
    "## RubinTV, Campaigns , quicklook\n",
    "- RubinTV : https://usdf-rsp.slac.stanford.edu/rubintv/summit-usdf/lsstcam\n",
    "- https://rubinobs.atlassian.net/wiki/spaces/LSSTCOM/pages/467370016/LSSTCam+Commissioning+Planning\n",
    "- LSSTCam DM campaign : https://rubinobs.atlassian.net/wiki/spaces/DM/pages/48834013/Campaigns#1.1.2.-LSSTCam-Nightly-Validation-Pipeline\n",
    "- Check campaign also here  https://rubinobs.atlassian.net/wiki/pages/diffpagesbyversion.action?pageId=48834013&selectedPageVersions=145%2C143\n",
    "- fov-quicklook : https://usdf-rsp-dev.slac.stanford.edu/fov-quicklook/"
   ]
  },
  {
   "cell_type": "markdown",
   "id": "4ce495c8-71a6-4846-86fc-5715e13348ab",
   "metadata": {},
   "source": [
    "## Configuration"
   ]
  },
  {
   "cell_type": "code",
   "execution_count": null,
   "id": "91e7b166-6245-4e54-8cb1-21f34fbba78f",
   "metadata": {
    "execution": {
     "iopub.execute_input": "2025-05-28T12:41:04.531933Z",
     "iopub.status.busy": "2025-05-28T12:41:04.531806Z",
     "iopub.status.idle": "2025-05-28T12:41:04.542539Z",
     "shell.execute_reply": "2025-05-28T12:41:04.542254Z",
     "shell.execute_reply.started": "2025-05-28T12:41:04.531920Z"
    }
   },
   "outputs": [],
   "source": [
    "FLAG_DUMP_COLLECTIONS = False\n",
    "FLAG_DUMP_DATASETS = False\n",
    "FLAG_DUMP_OBJECTSTABLECOLUMNS = False\n",
    "FLAG_CUT_OBJECTSPRIMARY = False # check this flag may throw the SL\n",
    "FLAG_CUT_OBJECTSMAG = True\n",
    "FLAG_CUT_OBJECTSSNR = True"
   ]
  },
  {
   "cell_type": "code",
   "execution_count": null,
   "id": "b0cd343d-97e1-4eca-90a8-8d1423c5333d",
   "metadata": {
    "execution": {
     "iopub.execute_input": "2025-05-28T12:41:04.543031Z",
     "iopub.status.busy": "2025-05-28T12:41:04.542909Z",
     "iopub.status.idle": "2025-05-28T12:41:04.555984Z",
     "shell.execute_reply": "2025-05-28T12:41:04.555697Z",
     "shell.execute_reply.started": "2025-05-28T12:41:04.543019Z"
    }
   },
   "outputs": [],
   "source": [
    "MAGCUT = 24.0\n",
    "SNRCUT = 5.0"
   ]
  },
  {
   "cell_type": "code",
   "execution_count": null,
   "id": "566b4b6f-68ac-472f-9a14-9645d06d291a",
   "metadata": {
    "execution": {
     "iopub.execute_input": "2025-05-28T12:41:04.556472Z",
     "iopub.status.busy": "2025-05-28T12:41:04.556353Z",
     "iopub.status.idle": "2025-05-28T12:41:04.567211Z",
     "shell.execute_reply": "2025-05-28T12:41:04.566931Z",
     "shell.execute_reply.started": "2025-05-28T12:41:04.556460Z"
    }
   },
   "outputs": [],
   "source": [
    "all_bands = [\"u\", \"g\", \"r\", \"i\", \"z\", \"y\"]\n",
    "all_bands_colors = [\"blue\", \"green\", \"red\", \"orange\", \"yellow\", \"purple\"]"
   ]
  },
  {
   "cell_type": "markdown",
   "id": "29bdd60b-f237-4a90-8aee-95f83091a5c8",
   "metadata": {},
   "source": [
    "### Choose instrument"
   ]
  },
  {
   "cell_type": "code",
   "execution_count": null,
   "id": "66ff700b-a6ab-4b6d-ab28-dfadf54fdd9f",
   "metadata": {
    "execution": {
     "iopub.execute_input": "2025-05-28T12:41:04.567691Z",
     "iopub.status.busy": "2025-05-28T12:41:04.567569Z",
     "iopub.status.idle": "2025-05-28T12:41:04.580522Z",
     "shell.execute_reply": "2025-05-28T12:41:04.580245Z",
     "shell.execute_reply.started": "2025-05-28T12:41:04.567679Z"
    }
   },
   "outputs": [],
   "source": [
    "# instrument = \"LSSTCam\"\n",
    "\n",
    "# We focus here on sky fields oberved by LSSTComCam, so we select this camera\n",
    "instrument = \"LSSTComCam\""
   ]
  },
  {
   "cell_type": "markdown",
   "id": "6a07464c-6f2e-4015-8ea6-1fbc5698c1dd",
   "metadata": {},
   "source": [
    "### Choose options"
   ]
  },
  {
   "cell_type": "markdown",
   "id": "29fc15af-ca3f-4c38-99ec-433e84dae8a2",
   "metadata": {},
   "source": [
    "### For LSSTCam : RubinTV, Campaigns , quicklook\n",
    "- RubinTV : https://usdf-rsp.slac.stanford.edu/rubintv/summit-usdf/lsstcam\n",
    "- https://rubinobs.atlassian.net/wiki/spaces/LSSTCOM/pages/467370016/LSSTCam+Commissioning+Planning\n",
    "- LSSTCam DM campaign : https://rubinobs.atlassian.net/wiki/spaces/DM/pages/48834013/Campaigns#1.1.2.-LSSTCam-Nightly-Validation-Pipeline\n",
    "- Check campaign also here  https://rubinobs.atlassian.net/wiki/pages/diffpagesbyversion.action?pageId=48834013&selectedPageVersions=145%2C143\n",
    "- fov-quicklook : https://usdf-rsp-dev.slac.stanford.edu/fov-quicklook/"
   ]
  },
  {
   "cell_type": "markdown",
   "id": "5542de7d-695e-4256-b765-28b902b02adc",
   "metadata": {},
   "source": [
    "### For LSSTComCam check here : \n",
    "- Check here the collection available : https://rubinobs.atlassian.net/wiki/spaces/DM/pages/226656354/LSSTComCam+Intermittent+Cumulative+DRP+Runs"
   ]
  },
  {
   "cell_type": "code",
   "execution_count": null,
   "id": "eacb14b0-183c-4dcd-ba59-64c7ca3efcd3",
   "metadata": {
    "execution": {
     "iopub.execute_input": "2025-05-28T12:41:04.581003Z",
     "iopub.status.busy": "2025-05-28T12:41:04.580880Z",
     "iopub.status.idle": "2025-05-28T12:41:04.590933Z",
     "shell.execute_reply": "2025-05-28T12:41:04.590591Z",
     "shell.execute_reply.started": "2025-05-28T12:41:04.580991Z"
    }
   },
   "outputs": [],
   "source": [
    "if instrument == \"LSSTCam\":\n",
    "    repo = \"/repo/embargo\"\n",
    "    instrument = \"LSSTCam\"\n",
    "    collection_validation = instrument + \"/runs/nightlyValidation\"\n",
    "    # collection_quicklook   = instrument + '/runs/quickLookTesting'\n",
    "    collection_validation = os.path.join(collection_validation, \"20250416/d_2025_04_15/DM-50157\")\n",
    "    date_start = 20250415\n",
    "    date_selection = 20250416\n",
    "    where_clause = \"instrument = '\" + f\"{instrument}\" + \"'\"\n",
    "    where_clause_date = where_clause + f\"and day_obs >= {date_start}\"\n",
    "    skymapName = \"lsst_cells_v1\"\n",
    "    BANDSEL = \"i\"\n",
    "\n",
    "elif instrument == \"LSSTComCam\":\n",
    "    repo = \"/repo/main\"\n",
    "    collection_validation = \"LSSTComCam/runs/DRP/DP1/w_2025_10/DM-49359\"  # work 2025-05-01\n",
    "    # collection_validation = \"LSSTComCam/runs/DRP/DP1/w_2025_17/DM-50530\" #updated 2025-05-02\n",
    "    date_start = 20241024\n",
    "    date_selection = 20241211\n",
    "    skymapName = \"lsst_cells_v1\"\n",
    "    where_clause = \"instrument = '\" + instrument + \"'\"\n",
    "    where_clause_date = where_clause + f\"and day_obs >= {date_start}\"\n",
    "\n",
    "    NDET = 9\n",
    "    TRACTSEL = 5063\n",
    "    BANDSEL = \"i\""
   ]
  },
  {
   "cell_type": "code",
   "execution_count": null,
   "id": "82535307-9253-4f06-b82a-956efd0217c9",
   "metadata": {
    "execution": {
     "iopub.execute_input": "2025-05-28T12:41:04.591423Z",
     "iopub.status.busy": "2025-05-28T12:41:04.591297Z",
     "iopub.status.idle": "2025-05-28T12:41:04.605932Z",
     "shell.execute_reply": "2025-05-28T12:41:04.605616Z",
     "shell.execute_reply.started": "2025-05-28T12:41:04.591412Z"
    }
   },
   "outputs": [],
   "source": [
    "collectionStr = collection_validation.replace(\"/\", \"_\")"
   ]
  },
  {
   "cell_type": "markdown",
   "id": "e77a39ca-c34f-4097-8a11-c40a121a82e9",
   "metadata": {},
   "source": [
    "## Access to Butler registry"
   ]
  },
  {
   "cell_type": "code",
   "execution_count": null,
   "id": "8726b7e4-94b7-48ac-92f8-447b34b7a59e",
   "metadata": {
    "execution": {
     "iopub.execute_input": "2025-05-28T12:41:04.606416Z",
     "iopub.status.busy": "2025-05-28T12:41:04.606296Z",
     "iopub.status.idle": "2025-05-28T12:41:05.283889Z",
     "shell.execute_reply": "2025-05-28T12:41:05.283411Z",
     "shell.execute_reply.started": "2025-05-28T12:41:04.606404Z"
    }
   },
   "outputs": [],
   "source": [
    "# Initialize the butler repo:\n",
    "butler = Butler(repo, collections=collection_validation)\n",
    "registry = butler.registry"
   ]
  },
  {
   "cell_type": "markdown",
   "id": "a82d1397-cd01-45d3-9f39-8b4f6bcbb21f",
   "metadata": {},
   "source": [
    "## Create a skymap object and Camera"
   ]
  },
  {
   "cell_type": "code",
   "execution_count": null,
   "id": "2a570834-a5dc-43b8-a0d3-af71a5b2706c",
   "metadata": {
    "execution": {
     "iopub.execute_input": "2025-05-28T12:41:05.284509Z",
     "iopub.status.busy": "2025-05-28T12:41:05.284372Z",
     "iopub.status.idle": "2025-05-28T12:41:05.654361Z",
     "shell.execute_reply": "2025-05-28T12:41:05.653921Z",
     "shell.execute_reply.started": "2025-05-28T12:41:05.284494Z"
    }
   },
   "outputs": [],
   "source": [
    "skymap = butler.get(\"skyMap\", skymap=skymapName, collections=collection_validation)"
   ]
  },
  {
   "cell_type": "code",
   "execution_count": null,
   "id": "8870762e-6e5d-4a6d-b101-1783285b1935",
   "metadata": {
    "execution": {
     "iopub.execute_input": "2025-05-28T12:41:05.655025Z",
     "iopub.status.busy": "2025-05-28T12:41:05.654887Z",
     "iopub.status.idle": "2025-05-28T12:41:06.163133Z",
     "shell.execute_reply": "2025-05-28T12:41:06.162675Z",
     "shell.execute_reply.started": "2025-05-28T12:41:05.655011Z"
    }
   },
   "outputs": [],
   "source": [
    "camera = butler.get(\"camera\", collections=collection_validation, instrument=instrument)"
   ]
  },
  {
   "cell_type": "markdown",
   "id": "f0e61f09-1f15-4f29-9555-d4015b09c5cc",
   "metadata": {},
   "source": [
    "## Query for collections in Butler\n",
    "\n",
    "- remove user collections\n",
    "- remove calibration products"
   ]
  },
  {
   "cell_type": "code",
   "execution_count": null,
   "id": "55edfcaa-96c0-49dc-827c-0167a0b6f731",
   "metadata": {
    "execution": {
     "iopub.execute_input": "2025-05-28T12:41:06.163814Z",
     "iopub.status.busy": "2025-05-28T12:41:06.163663Z",
     "iopub.status.idle": "2025-05-28T12:41:06.166467Z",
     "shell.execute_reply": "2025-05-28T12:41:06.166108Z",
     "shell.execute_reply.started": "2025-05-28T12:41:06.163800Z"
    }
   },
   "outputs": [],
   "source": [
    "# mostly setup for LSSTCam\n",
    "if FLAG_DUMP_COLLECTIONS:\n",
    "    for _ in sorted(registry.queryCollections(expression=instrument + \"/*\")):\n",
    "        if \"/calib/\" not in _ and \"u/\" not in _:\n",
    "            print(_)"
   ]
  },
  {
   "cell_type": "markdown",
   "id": "3ff90940-a996-4174-97b4-beb8895ae7a4",
   "metadata": {},
   "source": [
    "## Query for the dataset types in the Butler\n",
    "\n",
    "- Refer to the Data Product definition Document to know about the definition of datasets\n",
    "- https://www.lsst.org/about/dm/data-products\n",
    "- https://lse-163.lsst.io/\n",
    "- https://docushare.lsst.org/docushare/dsweb/Get/LSE-163"
   ]
  },
  {
   "cell_type": "code",
   "execution_count": null,
   "id": "f06e34b6-0f25-4047-9859-a34ec32e268d",
   "metadata": {
    "execution": {
     "iopub.execute_input": "2025-05-28T12:41:06.167028Z",
     "iopub.status.busy": "2025-05-28T12:41:06.166894Z",
     "iopub.status.idle": "2025-05-28T12:41:06.183448Z",
     "shell.execute_reply": "2025-05-28T12:41:06.183095Z",
     "shell.execute_reply.started": "2025-05-28T12:41:06.167014Z"
    }
   },
   "outputs": [],
   "source": [
    "if FLAG_DUMP_DATASETS:\n",
    "    for datasetType in registry.queryDatasetTypes():\n",
    "        if registry.queryDatasets(datasetType, collections=collection_validation).any(\n",
    "            execute=False, exact=False\n",
    "        ):\n",
    "            # Limit search results to the data products\n",
    "            if (\n",
    "                (\"_config\" not in datasetType.name)\n",
    "                and (\"_log\" not in datasetType.name)\n",
    "                and (\"_metadata\" not in datasetType.name)\n",
    "                and (\"_resource_usage\" not in datasetType.name)\n",
    "                and (\"Plot\" not in datasetType.name)\n",
    "                and (\"Metric\" not in datasetType.name)\n",
    "                and (\"metric\" not in datasetType.name)\n",
    "            ):\n",
    "                if \"object\" in datasetType.name or \"Obj\" in datasetType.name:\n",
    "                    print(datasetType)\n",
    "#                if \"source\" in datasetType.name or \"Source\" in datasetType.name:\n",
    "#                    print(datasetType)"
   ]
  },
  {
   "cell_type": "markdown",
   "id": "f78111e1-238c-4641-b3c1-0faebbbb89b1",
   "metadata": {},
   "source": [
    "## List of Strong Lenses\n",
    "\n",
    "- article : https://arxiv.org/pdf/1104.0931"
   ]
  },
  {
   "cell_type": "code",
   "execution_count": null,
   "id": "83565827-8d39-46f6-a43c-1559923a739d",
   "metadata": {
    "execution": {
     "iopub.execute_input": "2025-05-28T12:41:06.184026Z",
     "iopub.status.busy": "2025-05-28T12:41:06.183894Z",
     "iopub.status.idle": "2025-05-28T12:41:06.198778Z",
     "shell.execute_reply": "2025-05-28T12:41:06.198408Z",
     "shell.execute_reply.started": "2025-05-28T12:41:06.184013Z"
    }
   },
   "outputs": [],
   "source": [
    "#15422 44 03:32:38.21 –27:56:53.2 \n",
    "ra1 = \"03:32:38.21 hours\"\n",
    "dec1 = \"-27:56:53.2 degrees\"\n",
    "tile1 = 44\n",
    "\n",
    "#34244 94 03:32:06.45 –27:47:28.6 \n",
    "ra2 = \"03:32:06.45 hours\"\n",
    "dec2 = \"-27:47:28.6 degrees\"\n",
    "tile2 = 94\n",
    "# Je ne trouve pas cette tile ==> FindTileForCutoutGEM\n",
    "tile2 = 32\n",
    "\n",
    "#40173 35 03:33:19.45 –27:44:50.0 \n",
    "ra3 = \"03:33:19.45 hours\"\n",
    "dec3 = \"-27:44:50.0 degrees\"\n",
    "tile3 = 35\n",
    "\n",
    "#43242 45 03:31:55.35 –27:43:23.5 \n",
    "ra4 = \"03:31:55.35 hours\"\n",
    "dec4 = \"-27:43:23.5 degrees\"\n",
    "tile4 = 45\n",
    "\n",
    "#46446 47 03:31:35.94 –27:41:48.2 \n",
    "ra5 = \"03:31:35.94 hours\"\n",
    "dec5 = \"-27:41:48.2 degrees\"\n",
    "tile5 = 47\n",
    "\n",
    "#12589 03:31:24.89 −27:58:07.0\n",
    "ra6 = \"03:31:24.89 hours\"\n",
    "dec6 = \"-27:58:07.0 degrees\"\n",
    "tile6 = 17\n",
    "\n",
    "#43797 03:31:31.74 −27:43:00.8 \n",
    "ra7 = \"03:31:31.74 hours\"\n",
    "dec7 = \"-27:43:00.8 degrees\"\n",
    "tile7 = 47\n",
    "\n",
    "#28294 03:31:50.54 −27:50:28.4 \n",
    "ra8 = \"03:31:50.54 hours\"\n",
    "dec8 = \"-27:50:28.4 degrees\"\n",
    "tile8 = 33\n",
    "\n",
    "#36857 03:31:53.24 −27:46:18.9\n",
    "ra9 = \"03:31:53.24 hours\"\n",
    "dec9 = \"-27:46:18.9 degrees\"\n",
    "tile9 = 38\n",
    "\n",
    "#36714 03:32:59.78 −27:46:26.4 \n",
    "ra10 = \"03:32:59.78 hours\"\n",
    "dec10 = \"-27:46:26.4 degrees\"\n",
    "tile10 = 37\n"
   ]
  },
  {
   "cell_type": "code",
   "execution_count": null,
   "id": "0cfcdfaf-83c8-4419-97a4-ba8df5346ca2",
   "metadata": {
    "execution": {
     "iopub.execute_input": "2025-05-28T12:41:06.199329Z",
     "iopub.status.busy": "2025-05-28T12:41:06.199197Z",
     "iopub.status.idle": "2025-05-28T12:41:06.225529Z",
     "shell.execute_reply": "2025-05-28T12:41:06.225158Z",
     "shell.execute_reply.started": "2025-05-28T12:41:06.199317Z"
    }
   },
   "outputs": [],
   "source": [
    "ra = Angle(ra10)\n",
    "print(ra.degree)\n",
    "dec = Angle(dec10)\n",
    "print(dec.degree)"
   ]
  },
  {
   "cell_type": "code",
   "execution_count": null,
   "id": "ec22e51f-cd77-4973-bbee-684e50f30669",
   "metadata": {
    "execution": {
     "iopub.execute_input": "2025-05-28T12:41:06.226081Z",
     "iopub.status.busy": "2025-05-28T12:41:06.225951Z",
     "iopub.status.idle": "2025-05-28T12:41:06.236014Z",
     "shell.execute_reply": "2025-05-28T12:41:06.235606Z",
     "shell.execute_reply.started": "2025-05-28T12:41:06.226068Z"
    }
   },
   "outputs": [],
   "source": [
    "lsstcomcam_targets = {}\n",
    "# high rank\n",
    "lsstcomcam_targets[\"ECDFS_G15422\"] = {\"field_name\": \"GEMS-15422\", \"ra\": 53.159208333333325, \"dec\": -27.94811111111111,\"tile\":tile1}\n",
    "lsstcomcam_targets[\"ECDFS_G34244\"] = {\"field_name\": \"GEMS-34244\", \"ra\": 53.02687499999999 , \"dec\": -27.79127777777778,\"tile\":tile2}\n",
    "lsstcomcam_targets[\"ECDFS_G40173\"] = {\"field_name\": \"GEMS-40173\", \"ra\": 53.33104166666666 , \"dec\": -27.747222222222224,\"tile\":tile3}\n",
    "lsstcomcam_targets[\"ECDFS_G43242\"] = {\"field_name\": \"GEMS-43242\", \"ra\": 52.980624999999996 , \"dec\": -27.72319444444444,\"tile\":tile4}\n",
    "lsstcomcam_targets[\"ECDFS_G46446\"] = {\"field_name\": \"GEMS-46446\", \"ra\": 52.89975 , \"dec\": -27.696722222222224,\"tile\":tile5}\n",
    "\n",
    "# low rank\n",
    "lsstcomcam_targets[\"ECDFS_G12589\"] = {\"field_name\": \"GEMS-12589\", \"ra\": 52.85370833333333, \"dec\": -27.96861111111111,\"tile\":tile6}\n",
    "lsstcomcam_targets[\"ECDFS_G43797\"] = {\"field_name\": \"GEMS-43797\", \"ra\": 52.88224999999999, \"dec\": -27.71688888888889,\"tile\":tile7}\n",
    "\n",
    "lsstcomcam_targets[\"ECDFS_G28294\"] = {\"field_name\": \"GEMS-28294\", \"ra\": 52.960583333333325 , \"dec\": -27.84122222222222,\"tile\":tile8}\n",
    "lsstcomcam_targets[\"ECDFS_G6857\"] = {\"field_name\": \"GEMS-6857\", \"ra\": 52.97183333333333 , \"dec\": -27.771916666666666,\"tile\":tile9}\n",
    "lsstcomcam_targets[\"ECDFS_G36714\"] = {\"field_name\": \"GEMS-36714\", \"ra\": 53.249083333333324, \"dec\": -27.773999999999997,\"tile\":tile10}\n"
   ]
  },
  {
   "cell_type": "code",
   "execution_count": null,
   "id": "bcfe9889-0f87-40fa-8bd1-68167073b74d",
   "metadata": {
    "execution": {
     "iopub.execute_input": "2025-05-28T12:41:06.236578Z",
     "iopub.status.busy": "2025-05-28T12:41:06.236446Z",
     "iopub.status.idle": "2025-05-28T12:41:06.289522Z",
     "shell.execute_reply": "2025-05-28T12:41:06.289164Z",
     "shell.execute_reply.started": "2025-05-28T12:41:06.236565Z"
    }
   },
   "outputs": [],
   "source": [
    "df = pd.DataFrame(lsstcomcam_targets).T"
   ]
  },
  {
   "cell_type": "code",
   "execution_count": null,
   "id": "6db2938f-f03d-472f-b310-72e4c0ab837a",
   "metadata": {
    "execution": {
     "iopub.execute_input": "2025-05-28T12:41:06.292762Z",
     "iopub.status.busy": "2025-05-28T12:41:06.292620Z",
     "iopub.status.idle": "2025-05-28T12:41:06.311436Z",
     "shell.execute_reply": "2025-05-28T12:41:06.311086Z",
     "shell.execute_reply.started": "2025-05-28T12:41:06.292743Z"
    }
   },
   "outputs": [],
   "source": [
    "df"
   ]
  },
  {
   "cell_type": "code",
   "execution_count": null,
   "id": "bb55c95c-abb6-4f5e-bcde-7d7e795c4dc9",
   "metadata": {
    "execution": {
     "iopub.execute_input": "2025-05-28T12:41:06.311989Z",
     "iopub.status.busy": "2025-05-28T12:41:06.311859Z",
     "iopub.status.idle": "2025-05-28T12:41:06.321726Z",
     "shell.execute_reply": "2025-05-28T12:41:06.321361Z",
     "shell.execute_reply.started": "2025-05-28T12:41:06.311976Z"
    }
   },
   "outputs": [],
   "source": [
    "# candidates\n",
    "#key = \"ECDFS_G15422\"\n",
    "#key = \"ECDFS_G34244\"\n",
    "#key = \"ECDFS_G40173\"\n",
    "#key= \"ECDFS_G43242\"\n",
    "#key= \"ECDFS_G46446\"\n",
    "\n",
    "# unknown\n",
    "#key = \"ECDFS_G12589\"\n",
    "#key = \"ECDFS_G43797\"\n",
    "#key = \"ECDFS_G28294\"\n",
    "#key = \"ECDFS_G6857\"\n",
    "key = \"ECDFS_G36714\"\n",
    "\n",
    "the_target = lsstcomcam_targets[key]\n",
    "target_ra = the_target[\"ra\"]\n",
    "target_dec = the_target[\"dec\"]\n",
    "target_name = the_target[\"field_name\"]\n",
    "\n",
    "target_title = (\n",
    "    the_target[\"field_name\"]\n",
    ")\n",
    "target_point = SpherePoint(target_ra, target_dec, degrees)"
   ]
  },
  {
   "cell_type": "markdown",
   "id": "5097cdde-6283-4499-aaaa-57e799bdd53a",
   "metadata": {},
   "source": [
    "## Get list of tracts from the objectTable_tract"
   ]
  },
  {
   "cell_type": "code",
   "execution_count": null,
   "id": "3560cdd4-3d7e-4325-a3f5-07a0d70a8360",
   "metadata": {
    "execution": {
     "iopub.execute_input": "2025-05-28T12:41:06.322288Z",
     "iopub.status.busy": "2025-05-28T12:41:06.322159Z",
     "iopub.status.idle": "2025-05-28T12:41:06.336683Z",
     "shell.execute_reply": "2025-05-28T12:41:06.336323Z",
     "shell.execute_reply.started": "2025-05-28T12:41:06.322276Z"
    }
   },
   "outputs": [],
   "source": [
    "# Find the dimension\n",
    "print(butler.registry.getDatasetType(\"objectTable_tract\").dimensions)"
   ]
  },
  {
   "cell_type": "code",
   "execution_count": null,
   "id": "e07d2107-8c9e-485e-89bc-ec6e52fa10f4",
   "metadata": {
    "execution": {
     "iopub.execute_input": "2025-05-28T12:41:06.337220Z",
     "iopub.status.busy": "2025-05-28T12:41:06.337097Z",
     "iopub.status.idle": "2025-05-28T12:41:06.442950Z",
     "shell.execute_reply": "2025-05-28T12:41:06.442480Z",
     "shell.execute_reply.started": "2025-05-28T12:41:06.337208Z"
    }
   },
   "outputs": [],
   "source": [
    "datasettype = \"objectTable_tract\"\n",
    "therefs = butler.registry.queryDatasets(datasettype, collections=collection_validation)\n",
    "tractsId_list = np.unique([ref.dataId[\"tract\"] for ref in therefs])\n",
    "tractsId_list = sorted(tractsId_list)\n",
    "print(tractsId_list)"
   ]
  },
  {
   "cell_type": "markdown",
   "id": "f060f57d-ac96-4ec7-8a94-f760e118248a",
   "metadata": {},
   "source": [
    "## Find the Tract and Patch of the region of interest\n",
    "\n",
    "- tract in tractNbSel\n",
    "- patch in patchNbSel"
   ]
  },
  {
   "cell_type": "code",
   "execution_count": null,
   "id": "ea99cc96-a0bf-4dec-9418-895e5569688b",
   "metadata": {
    "execution": {
     "iopub.execute_input": "2025-05-28T12:41:06.443554Z",
     "iopub.status.busy": "2025-05-28T12:41:06.443421Z",
     "iopub.status.idle": "2025-05-28T12:41:06.448807Z",
     "shell.execute_reply": "2025-05-28T12:41:06.448415Z",
     "shell.execute_reply.started": "2025-05-28T12:41:06.443539Z"
    }
   },
   "outputs": [],
   "source": [
    "tract_info = skymap.findTract(target_point)\n",
    "patch_info = tract_info.findPatch(target_point)\n",
    "bbox = patch_info.getOuterBBox()\n",
    "\n",
    "print(\"Patch bounding box:\", bbox)\n",
    "\n",
    "print(\"Tract ID :\", tract_info.getId())\n",
    "tractNbSel = tract_info.getId()\n",
    "\n",
    "print(\"Patch Index :\", patch_info.getIndex(), \" , \", patch_info.getSequentialIndex())  # (x, y)\n",
    "print(\"Bounding Box\", bbox)\n",
    "\n",
    "patchNbSel = patch_info.getSequentialIndex()"
   ]
  },
  {
   "cell_type": "code",
   "execution_count": null,
   "id": "e1df364f-89a7-4a94-9541-89a05d75004c",
   "metadata": {
    "execution": {
     "iopub.execute_input": "2025-05-28T12:41:06.449378Z",
     "iopub.status.busy": "2025-05-28T12:41:06.449247Z",
     "iopub.status.idle": "2025-05-28T12:41:06.459012Z",
     "shell.execute_reply": "2025-05-28T12:41:06.458598Z",
     "shell.execute_reply.started": "2025-05-28T12:41:06.449365Z"
    }
   },
   "outputs": [],
   "source": [
    "dataId = {\"band\": BANDSEL, \"tract\": tractNbSel, \"patch\": patchNbSel, \"skymap\": skymapName}"
   ]
  },
  {
   "cell_type": "code",
   "execution_count": null,
   "id": "fde4e025-7c01-4596-ab7e-581cb4a85e36",
   "metadata": {
    "execution": {
     "iopub.execute_input": "2025-05-28T12:41:06.459753Z",
     "iopub.status.busy": "2025-05-28T12:41:06.459470Z",
     "iopub.status.idle": "2025-05-28T12:41:06.469900Z",
     "shell.execute_reply": "2025-05-28T12:41:06.469506Z",
     "shell.execute_reply.started": "2025-05-28T12:41:06.459733Z"
    }
   },
   "outputs": [],
   "source": [
    "full_target_title = target_title + f\"(t,p) = ({tractNbSel}, {patchNbSel})\""
   ]
  },
  {
   "cell_type": "markdown",
   "id": "131ff71d-cee0-4141-ac33-c8f33758a584",
   "metadata": {},
   "source": [
    "## The Objects\n",
    "\n",
    "- Objects are extracted from object detection on deepcoadds\n",
    "- all bands are included "
   ]
  },
  {
   "cell_type": "code",
   "execution_count": null,
   "id": "da53ac66-c2fc-4b54-a19b-0e6d2def56a9",
   "metadata": {
    "execution": {
     "iopub.execute_input": "2025-05-28T12:41:06.470455Z",
     "iopub.status.busy": "2025-05-28T12:41:06.470326Z",
     "iopub.status.idle": "2025-05-28T12:41:06.481018Z",
     "shell.execute_reply": "2025-05-28T12:41:06.480633Z",
     "shell.execute_reply.started": "2025-05-28T12:41:06.470443Z"
    }
   },
   "outputs": [],
   "source": [
    "print(butler.registry.getDatasetType(\"objectTable\").dimensions)"
   ]
  },
  {
   "cell_type": "code",
   "execution_count": null,
   "id": "3e6b671b-f1c2-48ce-97ea-1eef0fa56cca",
   "metadata": {
    "execution": {
     "iopub.execute_input": "2025-05-28T12:41:06.481579Z",
     "iopub.status.busy": "2025-05-28T12:41:06.481451Z",
     "iopub.status.idle": "2025-05-28T12:41:06.496148Z",
     "shell.execute_reply": "2025-05-28T12:41:06.495768Z",
     "shell.execute_reply.started": "2025-05-28T12:41:06.481566Z"
    }
   },
   "outputs": [],
   "source": [
    "# cannot add a filter on band\n",
    "where_clause = f\"skymap = '{skymapName}' AND tract = {tractNbSel} AND patch = {patchNbSel}\"\n",
    "print(where_clause)"
   ]
  },
  {
   "cell_type": "code",
   "execution_count": null,
   "id": "064b709e-fd22-453f-a89c-8feeb6a157c7",
   "metadata": {
    "execution": {
     "iopub.execute_input": "2025-05-28T12:41:06.496719Z",
     "iopub.status.busy": "2025-05-28T12:41:06.496590Z",
     "iopub.status.idle": "2025-05-28T12:41:07.144719Z",
     "shell.execute_reply": "2025-05-28T12:41:07.144213Z",
     "shell.execute_reply.started": "2025-05-28T12:41:06.496706Z"
    }
   },
   "outputs": [],
   "source": [
    "dataset_refs = list(\n",
    "    butler.registry.queryDatasets(\"objectTable\", collections=collection_validation, where=where_clause)\n",
    ")\n",
    "# Récupère un des refs valides\n",
    "Nrefs = len(dataset_refs)\n",
    "print(f\"Number of objectTables : {Nrefs}\")\n",
    "ref = dataset_refs[0]\n",
    "t = butler.get(ref)\n",
    "Nobj = len(t)\n",
    "# del t\n",
    "# gc.collect()\n",
    "print(f\"Total Number of objects {Nobj}\")"
   ]
  },
  {
   "cell_type": "markdown",
   "id": "584463e6-5694-4bfd-a5f3-c0021e8c64bc",
   "metadata": {
    "execution": {
     "iopub.execute_input": "2025-05-01T20:56:43.699655Z",
     "iopub.status.busy": "2025-05-01T20:56:43.699512Z",
     "iopub.status.idle": "2025-05-01T20:56:43.702758Z",
     "shell.execute_reply": "2025-05-01T20:56:43.702457Z",
     "shell.execute_reply.started": "2025-05-01T20:56:43.699640Z"
    }
   },
   "source": [
    "Oui, dans ce type de objectTable, les colonnes comme g_psfFlux, g_kronFlux, g_cModelFlux, etc., sont des flux calibrés (en nJy ou en unité de calibration interne du pipeline). Pour les convertir en magnitudes AB, tu peux utiliser la formule classique :"
   ]
  },
  {
   "cell_type": "code",
   "execution_count": null,
   "id": "069c5c04-af0c-47b3-893d-7c6ccf2c76a1",
   "metadata": {
    "execution": {
     "iopub.execute_input": "2025-05-28T12:41:07.145521Z",
     "iopub.status.busy": "2025-05-28T12:41:07.145364Z",
     "iopub.status.idle": "2025-05-28T12:41:07.148295Z",
     "shell.execute_reply": "2025-05-28T12:41:07.147865Z",
     "shell.execute_reply.started": "2025-05-28T12:41:07.145503Z"
    }
   },
   "outputs": [],
   "source": [
    "# Utilise ref.datasetType.name pour lister les colonnes disponibles\n",
    "if FLAG_DUMP_OBJECTSTABLECOLUMNS:\n",
    "    t_columns = list(butler.get(ref).columns)\n",
    "    print(t_columns)"
   ]
  },
  {
   "cell_type": "code",
   "execution_count": null,
   "id": "7c6648f9-6053-4343-aab6-56cb9648c599",
   "metadata": {
    "execution": {
     "iopub.execute_input": "2025-05-28T12:41:07.148963Z",
     "iopub.status.busy": "2025-05-28T12:41:07.148799Z",
     "iopub.status.idle": "2025-05-28T12:41:07.163579Z",
     "shell.execute_reply": "2025-05-28T12:41:07.163211Z",
     "shell.execute_reply.started": "2025-05-28T12:41:07.148948Z"
    }
   },
   "outputs": [],
   "source": [
    "# La constante 31.4 correspond à la conversion AB standard pour un flux exprimé en nanoJanskys (nJy).\n",
    "# À vérifier selon l’unité exacte utilisée par le pipeline sur ton RSP\n",
    "# (souvent c’est bien nJy, mais ça peut être autre chose si la calibration a été changée).\n",
    "# mag = -2.5 * np.log10(flux) + 31.4"
   ]
  },
  {
   "cell_type": "markdown",
   "id": "56ce3aca-2ec2-4083-b947-665ce5107500",
   "metadata": {},
   "source": [
    "## Extract the per-band tables of coordinates"
   ]
  },
  {
   "cell_type": "code",
   "execution_count": null,
   "id": "9b911b83-eb83-4f4a-8db4-0e9e7a4a4821",
   "metadata": {
    "execution": {
     "iopub.execute_input": "2025-05-28T12:41:07.164103Z",
     "iopub.status.busy": "2025-05-28T12:41:07.163974Z",
     "iopub.status.idle": "2025-05-28T12:41:08.287638Z",
     "shell.execute_reply": "2025-05-28T12:41:08.287183Z",
     "shell.execute_reply.started": "2025-05-28T12:41:07.164090Z"
    }
   },
   "outputs": [],
   "source": [
    "# Check columns definitions in https://lse-163.lsst.io/\n",
    "all_radecTable = []\n",
    "\n",
    "for band in all_bands:\n",
    "    id_name = \"objectId\"\n",
    "    id_parentname = \"parentObjectId\"\n",
    "    x_name = f\"{band}_centroid_x\"\n",
    "    y_name = f\"{band}_centroid_y\"\n",
    "    coord_ra_name = \"coord_ra\"\n",
    "    coord_dec_name = \"coord_dec\"\n",
    "    ra_name = f\"{band}_ra\"\n",
    "    dec_name = f\"{band}_dec\"\n",
    "    decl_name = f\"{band}_decl\"\n",
    "    raerr_name = f\"{band}_raErr\"\n",
    "    decerr_name = f\"{band}_decErr\"\n",
    "    extendedness_name = f\"{band}_extendedness\"\n",
    "    blendness_name = f\"{band}_blendedness\"\n",
    "    psfflux_name = f\"{band}_psfFlux\"\n",
    "    psffluxerr_name = f\"{band}_psfFluxErr\"\n",
    "    psfmag_name = f\"{band}_psfMag\"\n",
    "    psfmagerr_name = f\"{band}_psfMagErr\"\n",
    "    psfflux_free_name = f\"{band}_free_psfFlux\"\n",
    "    df = t[\n",
    "        [\n",
    "            id_name,\n",
    "            id_parentname,\n",
    "            x_name,\n",
    "            y_name,\n",
    "            coord_ra_name,\n",
    "            coord_dec_name,\n",
    "            ra_name,\n",
    "            dec_name,\n",
    "            raerr_name,\n",
    "            decerr_name,\n",
    "            decl_name,\n",
    "            extendedness_name,\n",
    "            blendness_name,\n",
    "            psfflux_name,\n",
    "            psffluxerr_name,\n",
    "        ]\n",
    "    ]\n",
    "\n",
    "    # select primary objects\n",
    "    if FLAG_CUT_OBJECTSPRIMARY: \n",
    "        #df_sel = (df[df[id_parentname] == 0]).drop([id_parentname], axis=1)\n",
    "        df_sel = df[df[id_parentname] == 0]\n",
    "    else:\n",
    "        df_sel = df\n",
    "\n",
    "\n",
    "    \n",
    "    # compute magnitude AB\n",
    "    df_sel[psfmag_name] = df_sel[psfflux_name].apply(nJy_to_ab_mag)\n",
    "    df_sel[psfmagerr_name] = nJy_err_to_ab_err(df_sel[psfflux_name], df_sel[psffluxerr_name])\n",
    "\n",
    "    # drop bad magnitudes\n",
    "    df_sel = df_sel[df_sel[psfmag_name] != 0.0]\n",
    "    # drop the fluxes\n",
    "    # df_sel = df_sel.drop([psfflux_name], axis=1)\n",
    "\n",
    "    # SNR\n",
    "    snr = df_sel[psfflux_name] / df_sel[psffluxerr_name]\n",
    "\n",
    "    if FLAG_CUT_OBJECTSSNR:\n",
    "        df_sel = df_sel[snr > SNRCUT]\n",
    "\n",
    "    # select bright objects\n",
    "    if FLAG_CUT_OBJECTSMAG:\n",
    "        df_sel = df_sel[df_sel[psfmag_name] < MAGCUT]\n",
    "\n",
    "    df_sel.reset_index(drop=True, inplace=True)\n",
    "\n",
    "    # save table in the list\n",
    "    all_radecTable.append(df_sel)"
   ]
  },
  {
   "cell_type": "code",
   "execution_count": null,
   "id": "b934f4bf-d6f0-442a-a223-7f9e8a564ed8",
   "metadata": {
    "execution": {
     "iopub.execute_input": "2025-05-28T12:41:08.288259Z",
     "iopub.status.busy": "2025-05-28T12:41:08.288126Z",
     "iopub.status.idle": "2025-05-28T12:41:08.291219Z",
     "shell.execute_reply": "2025-05-28T12:41:08.290849Z",
     "shell.execute_reply.started": "2025-05-28T12:41:08.288245Z"
    }
   },
   "outputs": [],
   "source": [
    "for idx, band in enumerate(all_bands):\n",
    "    df_obj = all_radecTable[idx]\n",
    "    n = len(df_obj)\n",
    "    print(f\"Number of objects in band {band} : {n}\")"
   ]
  },
  {
   "cell_type": "code",
   "execution_count": null,
   "id": "8b394e92-b507-4ec4-bedd-68b30e93bcb6",
   "metadata": {
    "execution": {
     "iopub.execute_input": "2025-05-28T12:41:08.291756Z",
     "iopub.status.busy": "2025-05-28T12:41:08.291624Z",
     "iopub.status.idle": "2025-05-28T12:41:08.314066Z",
     "shell.execute_reply": "2025-05-28T12:41:08.313697Z",
     "shell.execute_reply.started": "2025-05-28T12:41:08.291737Z"
    }
   },
   "outputs": [],
   "source": [
    "all_radecTable[0]"
   ]
  },
  {
   "cell_type": "markdown",
   "id": "9ba40e1f-5ad1-430d-b73c-84b9e95ab43a",
   "metadata": {},
   "source": [
    "## Plot Magnitudes and errors"
   ]
  },
  {
   "cell_type": "code",
   "execution_count": null,
   "id": "773ae3fc-1d17-4ca7-94fe-904ac0470db8",
   "metadata": {
    "execution": {
     "iopub.execute_input": "2025-05-28T12:41:08.314621Z",
     "iopub.status.busy": "2025-05-28T12:41:08.314492Z",
     "iopub.status.idle": "2025-05-28T12:41:08.589776Z",
     "shell.execute_reply": "2025-05-28T12:41:08.589370Z",
     "shell.execute_reply.started": "2025-05-28T12:41:08.314609Z"
    }
   },
   "outputs": [],
   "source": [
    "fig, ax = plt.subplots(1, 1, figsize=(6, 4))\n",
    "\n",
    "for ib, band in enumerate(all_bands):\n",
    "    color = all_bands_colors[ib]\n",
    "    df = all_radecTable[ib]\n",
    "    psfmag_name = f\"{band}_psfMag\"\n",
    "    df[psfmag_name].hist(ax=ax, bins=50, histtype=\"step\", color=color, label=band)\n",
    "ax.legend()\n",
    "ax.set_yscale(\"log\")\n",
    "ax.set_xlabel(\"psfMag\")\n",
    "ax.set_title(f\"Magnitude of object in (tract,patch) = ({tractNbSel},{patchNbSel})\")\n",
    "plt.show()"
   ]
  },
  {
   "cell_type": "code",
   "execution_count": null,
   "id": "8ac0b8c1-d5fc-4be8-aa93-daf3e51fe7eb",
   "metadata": {
    "execution": {
     "iopub.execute_input": "2025-05-28T12:41:08.590352Z",
     "iopub.status.busy": "2025-05-28T12:41:08.590213Z",
     "iopub.status.idle": "2025-05-28T12:41:08.842537Z",
     "shell.execute_reply": "2025-05-28T12:41:08.841772Z",
     "shell.execute_reply.started": "2025-05-28T12:41:08.590338Z"
    }
   },
   "outputs": [],
   "source": [
    "fig, ax = plt.subplots(1, 1, figsize=(8, 6))\n",
    "for ib, band in enumerate(all_bands):\n",
    "    color = all_bands_colors[ib]\n",
    "    df = all_radecTable[ib]\n",
    "    psfmag_name = f\"{band}_psfMag\"\n",
    "    psfmagerr_name = f\"{band}_psfMagErr\"\n",
    "\n",
    "    df.plot.scatter(x=psfmag_name, y=psfmagerr_name, ax=ax, marker=\".\", s=10, c=color, label=band, alpha=0.5)\n",
    "    # produce a crash\n",
    "ax.legend()\n",
    "ax.set_xlabel(\"psfMag\")\n",
    "ax.set_ylabel(\"psfMagErr\")\n",
    "ax.set_title(f\"Magnitude of Objects in (tract,patch) = ({tractNbSel},{patchNbSel})\")\n",
    "ax.set_aspect(\"auto\")\n",
    "plt.show()"
   ]
  },
  {
   "cell_type": "markdown",
   "id": "690008bd-5f38-4024-abab-5dca6ec85d0a",
   "metadata": {},
   "source": [
    "## Select the SL Object among all the object of the patch"
   ]
  },
  {
   "cell_type": "code",
   "execution_count": null,
   "id": "61f3df82-a9a9-4d40-8b13-768d3d678b17",
   "metadata": {
    "execution": {
     "iopub.execute_input": "2025-05-28T12:41:08.843550Z",
     "iopub.status.busy": "2025-05-28T12:41:08.843280Z",
     "iopub.status.idle": "2025-05-28T12:41:08.856771Z",
     "shell.execute_reply": "2025-05-28T12:41:08.856369Z",
     "shell.execute_reply.started": "2025-05-28T12:41:08.843525Z"
    }
   },
   "outputs": [],
   "source": [
    "all_df_obj = []\n",
    "\n",
    "for ib,band in enumerate(all_bands):\n",
    "    df_obj = all_radecTable[ib]\n",
    "\n",
    "    catalog = SkyCoord(ra=df_obj[\"coord_ra\"].values * u.deg, dec=df_obj[\"coord_dec\"].values * u.deg)\n",
    "    center = SkyCoord(ra=target_ra * u.deg, dec=target_dec * u.deg)\n",
    "\n",
    "    # Calcul des distances angulaires\n",
    "    separations = catalog.separation(center).arcsec\n",
    "    df_obj[\"sep\"] = separations\n",
    "    sepMin = separations.min() \n",
    "    sepMin_idx = np.where(separations == sepMin)[0][0]\n",
    "    print(band,sepMin_idx,sepMin)\n",
    "\n",
    "    all_df_obj.append(df_obj.iloc[sepMin_idx])"
   ]
  },
  {
   "cell_type": "markdown",
   "id": "36c8f265-6496-4404-9228-a9085320c1e8",
   "metadata": {},
   "source": [
    "## Plot cutouts"
   ]
  },
  {
   "cell_type": "code",
   "execution_count": null,
   "id": "67033777-2aa0-4e91-892c-7477d2c0d4b6",
   "metadata": {
    "execution": {
     "iopub.execute_input": "2025-05-28T12:41:08.857372Z",
     "iopub.status.busy": "2025-05-28T12:41:08.857233Z",
     "iopub.status.idle": "2025-05-28T12:41:08.861828Z",
     "shell.execute_reply": "2025-05-28T12:41:08.861448Z",
     "shell.execute_reply.started": "2025-05-28T12:41:08.857358Z"
    }
   },
   "outputs": [],
   "source": [
    "def extract_deepCoadd_cutout(\n",
    "    ra_deg,\n",
    "    dec_deg,\n",
    "    tractInfo,\n",
    "    patchInfo,\n",
    "    band,\n",
    "    butler,\n",
    "    skymapName,\n",
    "    cutout_size_pixels=300,\n",
    "    collection=collection_validation,\n",
    "):\n",
    "    \"\"\"\n",
    "    Extract a square cutout from a deepCoadd image centered on given sky coordinates.\n",
    "\n",
    "    Parameters\n",
    "    ----------\n",
    "    ra_deg : float\n",
    "        Right ascension in degrees.\n",
    "    dec_deg : float\n",
    "        Declination in degrees.\n",
    "    tractInfo : lsst.skymap.TractInfo\n",
    "        Tract information object (from SkyMap).\n",
    "    patchInfo : lsst.skymap.PatchInfo\n",
    "        Patch information object (from SkyMap).\n",
    "    band : str\n",
    "        Photometric band (e.g., 'i', 'r', 'g').\n",
    "    butler : lsst.daf.butler.Butler\n",
    "        Butler instance to access LSST data.\n",
    "    cutout_size_pixels : int, optional\n",
    "        Size of the cutout in pixels (square region), default is 200.\n",
    "    collection : str, optional\n",
    "        Name of the collection containing deepCoadd data.\n",
    "\n",
    "    Returns\n",
    "    -------\n",
    "    cutout : lsst.afw.image.ExposureF\n",
    "        The extracted image cutout.\n",
    "    wcs : lsst.afw.geom.SkyWcs\n",
    "        World Coordinate System associated with the cutout.\n",
    "    metadata : lsst.daf.base.PropertyList\n",
    "        FITS metadata header for the cutout image.\n",
    "    \"\"\"\n",
    "\n",
    "    # Build dataId for the deepCoadd image\n",
    "    tract = tractInfo.getId()\n",
    "    patch = patchInfo.getSequentialIndex()\n",
    "    dataId = dict(tract=tract, patch=patch, band=band, skymap=skymapName)\n",
    "\n",
    "    # Retrieve the deepCoadd exposure\n",
    "    exposure = butler.get(\"deepCoadd\", dataId=dataId, collections=collection)\n",
    "    image_bbox = exposure.getBBox()\n",
    "\n",
    "    # Convert sky coordinates (RA, Dec) to pixel coordinates using WCS\n",
    "    coord = SpherePoint(ra_deg, dec_deg, degrees)\n",
    "    wcs = exposure.getWcs()\n",
    "    pixel_center = wcs.skyToPixel(coord)\n",
    "\n",
    "    half_size = cutout_size_pixels // 2\n",
    "\n",
    "    # Centre du cutout\n",
    "    center_x = int(pixel_center.getX())\n",
    "    center_y = int(pixel_center.getY())\n",
    "\n",
    "    # Coordonnées du coin en bas à gauche\n",
    "    corner_x = max(center_x - half_size, image_bbox.getMinX())\n",
    "    corner_y = max(center_y - half_size, image_bbox.getMinY())\n",
    "\n",
    "    # Ne pas dépasser la taille max de l'image\n",
    "    corner_x = min(corner_x, image_bbox.getMaxX() - cutout_size_pixels)\n",
    "    corner_y = min(corner_y, image_bbox.getMaxY() - cutout_size_pixels)\n",
    "\n",
    "    # Define a square bounding box around the target pixel\n",
    "    # Création du BBox valide\n",
    "    corner = Point2I(corner_x, corner_y)\n",
    "    bbox = Box2I(corner, Extent2I(cutout_size_pixels, cutout_size_pixels))\n",
    "\n",
    "    # Extract the cutout from the original exposure\n",
    "    cutout = exposure.Factory(exposure, bbox, deep=True)\n",
    "\n",
    "    return cutout, cutout.getWcs(), cutout.getMetadata()"
   ]
  },
  {
   "cell_type": "markdown",
   "id": "0ffb7357-ee81-416b-81cb-65da7c94619f",
   "metadata": {},
   "source": [
    "## Plot Cutout"
   ]
  },
  {
   "cell_type": "code",
   "execution_count": null,
   "id": "1e0e9ed3-0dca-4096-b2e0-6040e6a026ce",
   "metadata": {
    "execution": {
     "iopub.execute_input": "2025-05-28T12:41:08.862399Z",
     "iopub.status.busy": "2025-05-28T12:41:08.862263Z",
     "iopub.status.idle": "2025-05-28T12:41:08.874059Z",
     "shell.execute_reply": "2025-05-28T12:41:08.873694Z",
     "shell.execute_reply.started": "2025-05-28T12:41:08.862385Z"
    }
   },
   "outputs": [],
   "source": [
    "target_name"
   ]
  },
  {
   "cell_type": "code",
   "execution_count": null,
   "id": "b8cb8634-8762-4b1e-8a3f-59a523827a79",
   "metadata": {
    "execution": {
     "iopub.execute_input": "2025-05-28T12:41:08.874628Z",
     "iopub.status.busy": "2025-05-28T12:41:08.874497Z",
     "iopub.status.idle": "2025-05-28T12:41:08.885397Z",
     "shell.execute_reply": "2025-05-28T12:41:08.884939Z",
     "shell.execute_reply.started": "2025-05-28T12:41:08.874615Z"
    }
   },
   "outputs": [],
   "source": [
    "df_obj.iloc[sepMin_idx]"
   ]
  },
  {
   "cell_type": "code",
   "execution_count": null,
   "id": "89cea1b6-eb30-454f-9562-91074a4d6ab3",
   "metadata": {
    "execution": {
     "iopub.execute_input": "2025-05-28T12:41:08.886125Z",
     "iopub.status.busy": "2025-05-28T12:41:08.885988Z",
     "iopub.status.idle": "2025-05-28T12:41:22.528067Z",
     "shell.execute_reply": "2025-05-28T12:41:22.527453Z",
     "shell.execute_reply.started": "2025-05-28T12:41:08.886112Z"
    }
   },
   "outputs": [],
   "source": [
    "all_my_cutouts = []\n",
    "cutout_pixel_size = 50\n",
    "\n",
    "for ib,band in enumerate(all_bands):\n",
    "  \n",
    "    iframe = ib + 1\n",
    "\n",
    "    id_name = \"objectId\"\n",
    "   \n",
    "    id_parentname = \"parentObjectId\"\n",
    "    x_name = f\"{band}_centroid_x\"\n",
    "    y_name = f\"{band}_centroid_y\"\n",
    "    coord_ra_name = \"coord_ra\"\n",
    "    coord_dec_name = \"coord_dec\"\n",
    "    ra_name = f\"{band}_ra\"\n",
    "    dec_name = f\"{band}_dec\"\n",
    "\n",
    "    # object\n",
    "    df_obj = all_df_obj[ib]\n",
    "    #df_obj[id_name] = df_obj[id_name].astype(int)\n",
    "    name_obj = int(df_obj[id_name])\n",
    "    ra_obj = float(df_obj[ra_name])\n",
    "    dec_obj = float(df_obj[dec_name])\n",
    "    title_obj = f\"{key} {band} {ra_obj:.3f}, {dec_obj:.3f}\"\n",
    "    \n",
    "    # Extract the cutout around the GEM catalog\n",
    "    cutout, wcs, metadata = extract_deepCoadd_cutout(\n",
    "        ra_deg=target_ra,\n",
    "        dec_deg=target_dec,\n",
    "        tractInfo=tract_info,\n",
    "        patchInfo=patch_info,\n",
    "        band=band,\n",
    "        butler=butler,\n",
    "        skymapName=skymapName,\n",
    "        cutout_size_pixels = cutout_pixel_size,\n",
    "        collection =  collection_validation\n",
    "    )\n",
    "    all_my_cutouts.append(cutout.image.array)\n",
    "\n",
    " "
   ]
  },
  {
   "cell_type": "markdown",
   "id": "894f9687-5148-4ec0-b212-ad19acbbb67f",
   "metadata": {
    "execution": {
     "iopub.execute_input": "2025-05-27T14:59:02.932269Z",
     "iopub.status.busy": "2025-05-27T14:59:02.931729Z",
     "iopub.status.idle": "2025-05-27T14:59:02.934780Z",
     "shell.execute_reply": "2025-05-27T14:59:02.934338Z",
     "shell.execute_reply.started": "2025-05-27T14:59:02.932254Z"
    }
   },
   "source": [
    "## Make Lupton colored images"
   ]
  },
  {
   "cell_type": "markdown",
   "id": "61b90034-962f-4d08-9b27-1bef51efdc4b",
   "metadata": {},
   "source": [
    "### G,R,I Images"
   ]
  },
  {
   "cell_type": "code",
   "execution_count": null,
   "id": "34490859-127d-4555-bc30-cf1713fb61f7",
   "metadata": {
    "execution": {
     "iopub.execute_input": "2025-05-28T12:41:22.532270Z",
     "iopub.status.busy": "2025-05-28T12:41:22.531532Z",
     "iopub.status.idle": "2025-05-28T12:41:22.536579Z",
     "shell.execute_reply": "2025-05-28T12:41:22.536172Z",
     "shell.execute_reply.started": "2025-05-28T12:41:22.532251Z"
    }
   },
   "outputs": [],
   "source": [
    "stretch = 5\n",
    "Q=8"
   ]
  },
  {
   "cell_type": "code",
   "execution_count": null,
   "id": "f440660b-e527-4bcb-ba54-b10f10be3943",
   "metadata": {
    "execution": {
     "iopub.execute_input": "2025-05-28T12:41:22.537377Z",
     "iopub.status.busy": "2025-05-28T12:41:22.537118Z",
     "iopub.status.idle": "2025-05-28T12:41:22.548572Z",
     "shell.execute_reply": "2025-05-28T12:41:22.548207Z",
     "shell.execute_reply.started": "2025-05-28T12:41:22.537362Z"
    }
   },
   "outputs": [],
   "source": [
    "b_img = all_my_cutouts[1]\n",
    "g_img = all_my_cutouts[2]\n",
    "r_img = all_my_cutouts[3]\n",
    "#rgb_image1 = make_lupton_rgb(r_img, g_img, b_img, stretch=stretch, Q=Q)\n",
    "rgb_image1 = make_lupton_rgb(r_img, g_img, b_img)"
   ]
  },
  {
   "cell_type": "code",
   "execution_count": null,
   "id": "e5b6238f-1c5b-4c3c-a457-3b3c4670cda6",
   "metadata": {
    "execution": {
     "iopub.execute_input": "2025-05-28T12:41:22.549289Z",
     "iopub.status.busy": "2025-05-28T12:41:22.549037Z",
     "iopub.status.idle": "2025-05-28T12:41:22.559466Z",
     "shell.execute_reply": "2025-05-28T12:41:22.559105Z",
     "shell.execute_reply.started": "2025-05-28T12:41:22.549274Z"
    }
   },
   "outputs": [],
   "source": [
    "b_img = all_my_cutouts[1]\n",
    "g_img = all_my_cutouts[2]\n",
    "r_img = all_my_cutouts[4]\n",
    "#rgb_image2 = make_lupton_rgb(r_img, g_img, b_img, stretch=stretch, Q=Q)\n",
    "rgb_image2 = make_lupton_rgb(r_img, g_img, b_img)"
   ]
  },
  {
   "cell_type": "code",
   "execution_count": null,
   "id": "10846ca8-b3b7-442e-bebf-d9c5acbff4c9",
   "metadata": {
    "execution": {
     "iopub.execute_input": "2025-05-28T12:41:22.560157Z",
     "iopub.status.busy": "2025-05-28T12:41:22.559907Z",
     "iopub.status.idle": "2025-05-28T12:41:22.572265Z",
     "shell.execute_reply": "2025-05-28T12:41:22.571884Z",
     "shell.execute_reply.started": "2025-05-28T12:41:22.560142Z"
    }
   },
   "outputs": [],
   "source": [
    "b_img = all_my_cutouts[1]\n",
    "g_img = all_my_cutouts[2]\n",
    "r_img = all_my_cutouts[5]\n",
    "#rgb_image3 = make_lupton_rgb(r_img, g_img, b_img, stretch=stretch, Q=Q)\n",
    "rgb_image3 = make_lupton_rgb(r_img, g_img, b_img)"
   ]
  },
  {
   "cell_type": "code",
   "execution_count": null,
   "id": "f3599916-6895-43f1-8760-043b6303b52b",
   "metadata": {
    "execution": {
     "iopub.execute_input": "2025-05-28T12:41:22.573028Z",
     "iopub.status.busy": "2025-05-28T12:41:22.572697Z",
     "iopub.status.idle": "2025-05-28T12:41:22.758083Z",
     "shell.execute_reply": "2025-05-28T12:41:22.757529Z",
     "shell.execute_reply.started": "2025-05-28T12:41:22.573013Z"
    }
   },
   "outputs": [],
   "source": [
    "# Affichage avec matplotlib\n",
    "fig,axs=plt.subplots(1,3,figsize=(18,6),layout=\"constrained\")\n",
    "ax1,ax2,ax3 = axs.flatten()\n",
    "\n",
    "ax1.imshow(rgb_image1, origin=\"lower\")\n",
    "ax1.axis(\"off\")\n",
    "ax1.set_title(\"Lupton (G,R,I): \" + target_title)\n",
    "\n",
    "ax2.imshow(rgb_image2, origin=\"lower\")\n",
    "ax2.axis(\"off\")\n",
    "ax2.set_title(\"Lupton (G,R,Z): \" + target_title)\n",
    "\n",
    "ax3.imshow(rgb_image3, origin=\"lower\")\n",
    "ax3.axis(\"off\")\n",
    "ax3.set_title(\"Lupton (G,R,Y): \" + target_title)\n",
    "\n",
    "plt.show()"
   ]
  },
  {
   "cell_type": "code",
   "execution_count": null,
   "id": "b5c049c1-46b1-425d-ad7d-8f9e8874f4ba",
   "metadata": {},
   "outputs": [],
   "source": []
  }
 ],
 "metadata": {
  "kernelspec": {
   "display_name": "conda_py313",
   "language": "python",
   "name": "conda_py313"
  },
  "language_info": {
   "codemirror_mode": {
    "name": "ipython",
    "version": 3
   },
   "file_extension": ".py",
   "mimetype": "text/x-python",
   "name": "python",
   "nbconvert_exporter": "python",
   "pygments_lexer": "ipython3",
   "version": "3.13.3"
  }
 },
 "nbformat": 4,
 "nbformat_minor": 5
}
