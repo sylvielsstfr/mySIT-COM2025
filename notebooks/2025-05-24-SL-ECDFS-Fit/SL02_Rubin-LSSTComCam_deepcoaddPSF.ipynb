{
 "cells": [
  {
   "cell_type": "markdown",
   "id": "434b4c03-b5a4-4f55-9208-dac2bc9e9c43",
   "metadata": {},
   "source": [
    "## Compute the psf from the deepcoadds\n",
    "\n",
    "- author : Sylvie Dagoret-Campagne\n",
    "- creation date : 2025-05-29\n",
    "- last update : 2025-05-29 "
   ]
  },
  {
   "cell_type": "code",
   "execution_count": null,
   "id": "07174771-40a6-47ce-a28d-6ac64cce51bc",
   "metadata": {
    "execution": {
     "iopub.execute_input": "2025-06-01T13:25:18.168845Z",
     "iopub.status.busy": "2025-06-01T13:25:18.168715Z",
     "iopub.status.idle": "2025-06-01T13:25:18.202858Z",
     "shell.execute_reply": "2025-06-01T13:25:18.202460Z",
     "shell.execute_reply.started": "2025-06-01T13:25:18.168830Z"
    }
   },
   "outputs": [],
   "source": [
    "import astroquery\n",
    "print(astroquery.__version__)"
   ]
  },
  {
   "cell_type": "markdown",
   "id": "37dcd3ab-0bc6-4823-a38e-764bc978e075",
   "metadata": {},
   "source": [
    "https://stackoverflow.com/questions/59699193/how-to-obtain-2d-cutout-of-an-image-from-a-skycoord-position"
   ]
  },
  {
   "cell_type": "code",
   "execution_count": null,
   "id": "e5b6a9a2-c252-45b3-983e-61d03c131706",
   "metadata": {
    "execution": {
     "iopub.execute_input": "2025-06-01T13:25:18.203433Z",
     "iopub.status.busy": "2025-06-01T13:25:18.203300Z",
     "iopub.status.idle": "2025-06-01T13:25:18.636290Z",
     "shell.execute_reply": "2025-06-01T13:25:18.635586Z",
     "shell.execute_reply.started": "2025-06-01T13:25:18.203419Z"
    }
   },
   "outputs": [],
   "source": [
    "import matplotlib.pyplot as plt\n",
    "from astropy.io import fits\n",
    "from astropy.wcs import WCS\n",
    "import os\n",
    "import re"
   ]
  },
  {
   "cell_type": "code",
   "execution_count": null,
   "id": "91d47536-6176-4ae1-a5ab-4b5fbaf6ac02",
   "metadata": {
    "execution": {
     "iopub.execute_input": "2025-06-01T13:25:18.637120Z",
     "iopub.status.busy": "2025-06-01T13:25:18.636844Z",
     "iopub.status.idle": "2025-06-01T13:25:18.970678Z",
     "shell.execute_reply": "2025-06-01T13:25:18.970206Z",
     "shell.execute_reply.started": "2025-06-01T13:25:18.637105Z"
    }
   },
   "outputs": [],
   "source": [
    "# For Angle conversion\n",
    "from astropy.coordinates import Angle\n",
    "import astropy.units as u\n",
    "from astropy.coordinates import SkyCoord\n",
    "import pandas as pd\n",
    "import numpy as np\n",
    "from astropy.nddata import Cutout2D"
   ]
  },
  {
   "cell_type": "code",
   "execution_count": null,
   "id": "e58b4408-ff6e-4cf8-85bd-369f971e433e",
   "metadata": {
    "execution": {
     "iopub.execute_input": "2025-06-01T13:25:18.971513Z",
     "iopub.status.busy": "2025-06-01T13:25:18.971260Z",
     "iopub.status.idle": "2025-06-01T13:25:18.982183Z",
     "shell.execute_reply": "2025-06-01T13:25:18.981752Z",
     "shell.execute_reply.started": "2025-06-01T13:25:18.971499Z"
    }
   },
   "outputs": [],
   "source": [
    "from astropy.visualization import ZScaleInterval, AsinhStretch, ImageNormalize"
   ]
  },
  {
   "cell_type": "code",
   "execution_count": null,
   "id": "96deddc5-6828-4821-a86d-276f8db335ce",
   "metadata": {
    "execution": {
     "iopub.execute_input": "2025-06-01T13:25:18.983032Z",
     "iopub.status.busy": "2025-06-01T13:25:18.982778Z",
     "iopub.status.idle": "2025-06-01T13:25:18.985134Z",
     "shell.execute_reply": "2025-06-01T13:25:18.984762Z",
     "shell.execute_reply.started": "2025-06-01T13:25:18.983017Z"
    }
   },
   "outputs": [],
   "source": [
    "from IPython.display import Image, display"
   ]
  },
  {
   "cell_type": "code",
   "execution_count": null,
   "id": "8e271f07-35cf-4bfd-8f5e-f550f61244dc",
   "metadata": {
    "execution": {
     "iopub.execute_input": "2025-06-01T13:25:18.985701Z",
     "iopub.status.busy": "2025-06-01T13:25:18.985568Z",
     "iopub.status.idle": "2025-06-01T13:25:18.992062Z",
     "shell.execute_reply": "2025-06-01T13:25:18.991694Z",
     "shell.execute_reply.started": "2025-06-01T13:25:18.985688Z"
    }
   },
   "outputs": [],
   "source": [
    "plt.rcParams[\"figure.figsize\"] = (4,3)\n",
    "plt.rcParams[\"axes.labelsize\"] = 'xx-large'\n",
    "plt.rcParams['axes.titlesize'] = 'xx-large'\n",
    "plt.rcParams['xtick.labelsize']= 'xx-large'\n",
    "plt.rcParams['ytick.labelsize']= 'xx-large'"
   ]
  },
  {
   "cell_type": "markdown",
   "id": "13e83e75-543c-4373-92e2-38ca692aa3fc",
   "metadata": {},
   "source": [
    "## Configuration"
   ]
  },
  {
   "cell_type": "markdown",
   "id": "aedcfe02-8a4f-48cb-8ada-a5e8b080a3f2",
   "metadata": {},
   "source": [
    "### Target in ECDFS\n",
    "\n",
    "- path to article : https://arxiv.org/pdf/1104.0931\n",
    "- visual selection of the tiles : https://archive.stsci.edu/prepds/gems/browser.html\n",
    "- path file download : https://archive.stsci.edu/pub/hlsp/gems/v_mk1/"
   ]
  },
  {
   "cell_type": "code",
   "execution_count": null,
   "id": "704fa3d8-ef8f-4bff-9dd6-e71e2a337def",
   "metadata": {
    "execution": {
     "iopub.execute_input": "2025-06-01T13:25:18.992639Z",
     "iopub.status.busy": "2025-06-01T13:25:18.992506Z",
     "iopub.status.idle": "2025-06-01T13:25:18.998871Z",
     "shell.execute_reply": "2025-06-01T13:25:18.998503Z",
     "shell.execute_reply.started": "2025-06-01T13:25:18.992627Z"
    }
   },
   "outputs": [],
   "source": [
    "fig_table1 = \"input_figs/table1_gemcandidates.png\"\n",
    "fig_table2 = \"input_figs/table2_gemcandidates.png\""
   ]
  },
  {
   "cell_type": "code",
   "execution_count": null,
   "id": "3438e6e2-8750-408b-9404-3d2a7dfe3a61",
   "metadata": {
    "execution": {
     "iopub.execute_input": "2025-06-01T13:25:18.999407Z",
     "iopub.status.busy": "2025-06-01T13:25:18.999284Z",
     "iopub.status.idle": "2025-06-01T13:25:19.006516Z",
     "shell.execute_reply": "2025-06-01T13:25:19.006153Z",
     "shell.execute_reply.started": "2025-06-01T13:25:18.999395Z"
    }
   },
   "outputs": [],
   "source": [
    "Image(url= fig_table1,width=800)"
   ]
  },
  {
   "cell_type": "code",
   "execution_count": null,
   "id": "00dce019-3a93-40eb-b700-41468bab7554",
   "metadata": {
    "execution": {
     "iopub.execute_input": "2025-06-01T13:25:19.007329Z",
     "iopub.status.busy": "2025-06-01T13:25:19.006971Z",
     "iopub.status.idle": "2025-06-01T13:25:19.013774Z",
     "shell.execute_reply": "2025-06-01T13:25:19.013419Z",
     "shell.execute_reply.started": "2025-06-01T13:25:19.007314Z"
    }
   },
   "outputs": [],
   "source": [
    "Image(url= fig_table2,width=500)"
   ]
  },
  {
   "cell_type": "code",
   "execution_count": null,
   "id": "169491b5-2f1d-4e12-a1a6-1b755581d0d5",
   "metadata": {
    "execution": {
     "iopub.execute_input": "2025-06-01T13:25:19.014579Z",
     "iopub.status.busy": "2025-06-01T13:25:19.014224Z",
     "iopub.status.idle": "2025-06-01T13:25:19.021420Z",
     "shell.execute_reply": "2025-06-01T13:25:19.021064Z",
     "shell.execute_reply.started": "2025-06-01T13:25:19.014565Z"
    }
   },
   "outputs": [],
   "source": [
    "#15422 44 03:32:38.21 –27:56:53.2 \n",
    "ra1 = \"03:32:38.21 hours\"\n",
    "dec1 = \"-27:56:53.2 degrees\"\n",
    "tile1 = 44\n",
    "\n",
    "#34244 94 03:32:06.45 –27:47:28.6 \n",
    "ra2 = \"03:32:06.45 hours\"\n",
    "dec2 = \"-27:47:28.6 degrees\"\n",
    "tile2 = 94\n",
    "# Je ne trouve pas cette tile ==> FindTileForCutoutGEM\n",
    "tile2 = 32\n",
    "\n",
    "#40173 35 03:33:19.45 –27:44:50.0 \n",
    "ra3 = \"03:33:19.45 hours\"\n",
    "dec3 = \"-27:44:50.0 degrees\"\n",
    "tile3 = 35\n",
    "\n",
    "#43242 45 03:31:55.35 –27:43:23.5 \n",
    "ra4 = \"03:31:55.35 hours\"\n",
    "dec4 = \"-27:43:23.5 degrees\"\n",
    "tile4 = 45\n",
    "\n",
    "#46446 47 03:31:35.94 –27:41:48.2 \n",
    "ra5 = \"03:31:35.94 hours\"\n",
    "dec5 = \"-27:41:48.2 degrees\"\n",
    "tile5 = 47\n",
    "\n",
    "#12589 03:31:24.89 −27:58:07.0\n",
    "ra6 = \"03:31:24.89 hours\"\n",
    "dec6 = \"-27:58:07.0 degrees\"\n",
    "tile6 = 17\n",
    "\n",
    "#43797 03:31:31.74 −27:43:00.8 \n",
    "ra7 = \"03:31:31.74 hours\"\n",
    "dec7 = \"-27:43:00.8 degrees\"\n",
    "tile7 = 47\n",
    "\n",
    "#28294 03:31:50.54 −27:50:28.4 \n",
    "ra8 = \"03:31:50.54 hours\"\n",
    "dec8 = \"-27:50:28.4 degrees\"\n",
    "tile8 = 33\n",
    "\n",
    "#36857 03:31:53.24 −27:46:18.9\n",
    "ra9 = \"03:31:53.24 hours\"\n",
    "dec9 = \"-27:46:18.9 degrees\"\n",
    "tile9 = 38\n",
    "\n",
    "#36714 03:32:59.78 −27:46:26.4 \n",
    "ra10 = \"03:32:59.78 hours\"\n",
    "dec10 = \"-27:46:26.4 degrees\"\n",
    "tile10 = 37\n"
   ]
  },
  {
   "cell_type": "code",
   "execution_count": null,
   "id": "ae1009fe-428c-42f9-bef9-9dcc344bd004",
   "metadata": {
    "execution": {
     "iopub.execute_input": "2025-06-01T13:25:19.022207Z",
     "iopub.status.busy": "2025-06-01T13:25:19.021946Z",
     "iopub.status.idle": "2025-06-01T13:25:19.039315Z",
     "shell.execute_reply": "2025-06-01T13:25:19.038888Z",
     "shell.execute_reply.started": "2025-06-01T13:25:19.022193Z"
    }
   },
   "outputs": [],
   "source": [
    "ra = Angle(ra10)\n",
    "print(ra.degree)\n",
    "dec = Angle(dec10)\n",
    "print(dec.degree)"
   ]
  },
  {
   "cell_type": "code",
   "execution_count": null,
   "id": "85c504b7-1ee1-4d83-9a1a-8b4e4c231103",
   "metadata": {
    "execution": {
     "iopub.execute_input": "2025-06-01T13:25:19.039911Z",
     "iopub.status.busy": "2025-06-01T13:25:19.039783Z",
     "iopub.status.idle": "2025-06-01T13:25:19.043617Z",
     "shell.execute_reply": "2025-06-01T13:25:19.043211Z",
     "shell.execute_reply.started": "2025-06-01T13:25:19.039898Z"
    }
   },
   "outputs": [],
   "source": [
    "lsstcomcam_targets = {}\n",
    "# high rank\n",
    "lsstcomcam_targets[\"ECDFS_G15422\"] = {\"field_name\": \"GEMS-15422\", \"ra\": 53.159208333333325, \"dec\": -27.94811111111111,\"tile\":tile1}\n",
    "lsstcomcam_targets[\"ECDFS_G34244\"] = {\"field_name\": \"GEMS-34244\", \"ra\": 53.02687499999999 , \"dec\": -27.79127777777778,\"tile\":tile2}\n",
    "lsstcomcam_targets[\"ECDFS_G40173\"] = {\"field_name\": \"GEMS-40173\", \"ra\": 53.33104166666666 , \"dec\": -27.747222222222224,\"tile\":tile3}\n",
    "lsstcomcam_targets[\"ECDFS_G43242\"] = {\"field_name\": \"GEMS-43242\", \"ra\": 52.980624999999996 , \"dec\": -27.72319444444444,\"tile\":tile4}\n",
    "lsstcomcam_targets[\"ECDFS_G46446\"] = {\"field_name\": \"GEMS-46446\", \"ra\": 52.89975 , \"dec\": -27.696722222222224,\"tile\":tile5}\n",
    "\n",
    "# low rank\n",
    "lsstcomcam_targets[\"ECDFS_G12589\"] = {\"field_name\": \"GEMS-12589\", \"ra\": 52.85370833333333, \"dec\": -27.96861111111111,\"tile\":tile6}\n",
    "lsstcomcam_targets[\"ECDFS_G43797\"] = {\"field_name\": \"GEMS-43797\", \"ra\": 52.88224999999999, \"dec\": -27.71688888888889,\"tile\":tile7}\n",
    "\n",
    "lsstcomcam_targets[\"ECDFS_G28294\"] = {\"field_name\": \"GEMS-28294\", \"ra\": 52.960583333333325 , \"dec\": -27.84122222222222,\"tile\":tile8}\n",
    "lsstcomcam_targets[\"ECDFS_G6857\"] = {\"field_name\": \"GEMS-6857\", \"ra\": 52.97183333333333 , \"dec\": -27.771916666666666,\"tile\":tile9}\n",
    "lsstcomcam_targets[\"ECDFS_G36714\"] = {\"field_name\": \"GEMS-36714\", \"ra\": 53.249083333333324, \"dec\": -27.773999999999997,\"tile\":tile10}\n"
   ]
  },
  {
   "cell_type": "code",
   "execution_count": null,
   "id": "17ae8de2-0358-4f1e-9443-1a360f662eee",
   "metadata": {
    "execution": {
     "iopub.execute_input": "2025-06-01T13:25:19.044150Z",
     "iopub.status.busy": "2025-06-01T13:25:19.044027Z",
     "iopub.status.idle": "2025-06-01T13:25:19.051432Z",
     "shell.execute_reply": "2025-06-01T13:25:19.051036Z",
     "shell.execute_reply.started": "2025-06-01T13:25:19.044138Z"
    }
   },
   "outputs": [],
   "source": [
    "df = pd.DataFrame(lsstcomcam_targets).T"
   ]
  },
  {
   "cell_type": "code",
   "execution_count": null,
   "id": "76ed9206-dde5-4349-9474-2b6c0cd3fb30",
   "metadata": {
    "execution": {
     "iopub.execute_input": "2025-06-01T13:25:19.052032Z",
     "iopub.status.busy": "2025-06-01T13:25:19.051905Z",
     "iopub.status.idle": "2025-06-01T13:25:19.059026Z",
     "shell.execute_reply": "2025-06-01T13:25:19.058652Z",
     "shell.execute_reply.started": "2025-06-01T13:25:19.052020Z"
    }
   },
   "outputs": [],
   "source": [
    "# candidates\n",
    "key = \"ECDFS_G15422\"\n",
    "#key = \"ECDFS_G34244\"\n",
    "#key = \"ECDFS_G40173\"\n",
    "#key= \"ECDFS_G43242\"\n",
    "#key= \"ECDFS_G46446\"\n",
    "\n",
    "# unknown\n",
    "#key = \"ECDFS_G12589\"\n",
    "#key = \"ECDFS_G43797\"\n",
    "#key = \"ECDFS_G28294\"\n",
    "#key = \"ECDFS_G6857\"\n",
    "#key = \"ECDFS_G36714\"\n",
    "\n",
    "the_target = lsstcomcam_targets[key]\n",
    "target_ra = the_target[\"ra\"]\n",
    "target_dec = the_target[\"dec\"]\n",
    "target_name = the_target[\"field_name\"]\n",
    "tile_num = the_target[\"tile\"]\n",
    "coord = SkyCoord(ra=target_ra, dec=target_dec, unit=(u.deg, u.deg))\n",
    "\n",
    "target_title = (\n",
    "    the_target[\"field_name\"] + f\" (ra,dec) = ({target_ra:.2f},{target_dec:.2f}) \"\n",
    ")"
   ]
  },
  {
   "cell_type": "markdown",
   "id": "f896b114-1536-4bcf-8760-c241edca67be",
   "metadata": {},
   "source": [
    "### Access to remote files"
   ]
  },
  {
   "cell_type": "markdown",
   "id": "41db001a-5ea9-4435-bcf9-663068aa94b6",
   "metadata": {},
   "source": [
    "- visual selection of the tiles : https://archive.stsci.edu/prepds/gems/browser.html\n",
    "- path file download : https://archive.stsci.edu/pub/hlsp/gems/v_mk1/"
   ]
  },
  {
   "cell_type": "markdown",
   "id": "20b735e7-1677-4a36-b6b7-ab47b6659e3e",
   "metadata": {},
   "source": [
    "### Config\n",
    "\n",
    "- http://archive.stsci.edu/pub/hlsp/gems/v_mk1/h_gems_v35_mk1.fits\n",
    "- url = f\"http://archive.stsci.edu/pub/hlsp/gems/z_mk1/h_gems_z{tile_num}_mk1.fits\""
   ]
  },
  {
   "cell_type": "code",
   "execution_count": null,
   "id": "1900bb2b-49b5-4d55-a8c1-ea0f9e978a24",
   "metadata": {
    "execution": {
     "iopub.execute_input": "2025-06-01T13:25:19.059603Z",
     "iopub.status.busy": "2025-06-01T13:25:19.059467Z",
     "iopub.status.idle": "2025-06-01T13:25:19.066680Z",
     "shell.execute_reply": "2025-06-01T13:25:19.065856Z",
     "shell.execute_reply.started": "2025-06-01T13:25:19.059590Z"
    }
   },
   "outputs": [],
   "source": [
    "toppath_rubincutout = \"../2025-05-24-SL-ECDFS-Fit/data\""
   ]
  },
  {
   "cell_type": "code",
   "execution_count": null,
   "id": "da99bb93-2923-4fd0-98bd-ec77f383f9ea",
   "metadata": {
    "execution": {
     "iopub.execute_input": "2025-06-01T13:25:19.067484Z",
     "iopub.status.busy": "2025-06-01T13:25:19.067332Z",
     "iopub.status.idle": "2025-06-01T13:25:19.073805Z",
     "shell.execute_reply": "2025-06-01T13:25:19.073355Z",
     "shell.execute_reply.started": "2025-06-01T13:25:19.067468Z"
    }
   },
   "outputs": [],
   "source": [
    "all_bands = [\"u\", \"g\", \"r\", \"i\", \"z\", \"y\"]\n",
    "all_bands_colors = [\"blue\", \"green\", \"red\", \"orange\", \"grey\", \"purple\"]"
   ]
  },
  {
   "cell_type": "markdown",
   "id": "f6bc8efd-28b9-445e-9bbd-abf22b5c5e6a",
   "metadata": {},
   "source": [
    "### Choose the good index"
   ]
  },
  {
   "cell_type": "code",
   "execution_count": null,
   "id": "7a448125-56a5-4c75-ba87-0d2959ec64dc",
   "metadata": {
    "execution": {
     "iopub.execute_input": "2025-06-01T13:25:19.074533Z",
     "iopub.status.busy": "2025-06-01T13:25:19.074268Z",
     "iopub.status.idle": "2025-06-01T13:25:19.080674Z",
     "shell.execute_reply": "2025-06-01T13:25:19.080298Z",
     "shell.execute_reply.started": "2025-06-01T13:25:19.074519Z"
    }
   },
   "outputs": [],
   "source": [
    "#all_gems_id_numbers = [15422,34244,40173,43242,46446, 12589,43797,28294,6857,36714]"
   ]
  },
  {
   "cell_type": "code",
   "execution_count": null,
   "id": "cf5f0ae1-5da2-45f5-821f-d34f9fc29ce6",
   "metadata": {
    "execution": {
     "iopub.execute_input": "2025-06-01T13:25:19.083178Z",
     "iopub.status.busy": "2025-06-01T13:25:19.082921Z",
     "iopub.status.idle": "2025-06-01T13:25:19.088272Z",
     "shell.execute_reply": "2025-06-01T13:25:19.087922Z",
     "shell.execute_reply.started": "2025-06-01T13:25:19.083164Z"
    }
   },
   "outputs": [],
   "source": [
    "sl_number = int(re.findall(\"^ECDFS_G(.*)$\",key)[0])\n",
    "subpath = f\"G{sl_number}\"\n",
    "path = os.path.join(toppath_rubincutout,subpath)"
   ]
  },
  {
   "cell_type": "code",
   "execution_count": null,
   "id": "b62cb1c5-d9ff-4fb0-b087-dc0d8dd14e3d",
   "metadata": {
    "execution": {
     "iopub.execute_input": "2025-06-01T13:25:19.088830Z",
     "iopub.status.busy": "2025-06-01T13:25:19.088707Z",
     "iopub.status.idle": "2025-06-01T13:25:19.774993Z",
     "shell.execute_reply": "2025-06-01T13:25:19.774523Z",
     "shell.execute_reply.started": "2025-06-01T13:25:19.088818Z"
    }
   },
   "outputs": [],
   "source": [
    "fig,axs = plt.subplots(2,3,figsize=(12,8),layout=\"constrained\")\n",
    "all_cmaps = [\"Blues\",\"Greens\",\"Reds\",\"Oranges\",\"Greys\",\"Purples\"]\n",
    "\n",
    "ax = axs.flatten()\n",
    "\n",
    "for ib,band in enumerate(all_bands):\n",
    "    \n",
    "    title = f\"lsstcomcam psf band={band}\"    \n",
    "    suptitle = f\"SL {sl_number}\"\n",
    "\n",
    "# --- Remplace par tes fichiers FITS ---\n",
    "    file = f\"cutout_psf_ECDFS_{subpath}_{band}.fits\"\n",
    "\n",
    "\n",
    "    fullfilename = os.path.join(path ,file)\n",
    "\n",
    "\n",
    "    # --- Ouvrir les fichiers et leurs WCS ---\n",
    "    hdu = fits.open(fullfilename)[0]\n",
    "\n",
    "    data = hdu.data\n",
    "\n",
    "\n",
    "\n",
    "    zscale = ZScaleInterval()\n",
    "    vmin, vmax = zscale.get_limits(data)\n",
    "  \n",
    "    # --- Normalisation avec transformation asinh ---\n",
    "    norm = ImageNormalize(vmin=vmin, vmax=vmax, stretch=AsinhStretch())\n",
    "\n",
    "    # --- Afficher les images ---\n",
    "    im = ax[ib].imshow(data, origin='lower', cmap=all_cmaps[ib], norm=norm)\n",
    "\n",
    "# --- Ajouter des axes WCS ---\n",
    "    ax[ib].set_xlabel('x')\n",
    "    ax[ib].set_ylabel('y')\n",
    "    ax[ib].set_title(title)\n",
    "\n",
    "    ax[ib].set_aspect('equal', adjustable='datalim')\n",
    "\n",
    "\n",
    "\n",
    "# --- Affichage final ---\n",
    "plt.suptitle(suptitle + \" PSF\")\n",
    "plt.show()"
   ]
  },
  {
   "cell_type": "code",
   "execution_count": null,
   "id": "a7b0a143-00f8-478a-9084-7a90b001437b",
   "metadata": {
    "execution": {
     "iopub.execute_input": "2025-06-01T13:25:19.775715Z",
     "iopub.status.busy": "2025-06-01T13:25:19.775563Z",
     "iopub.status.idle": "2025-06-01T13:25:20.789297Z",
     "shell.execute_reply": "2025-06-01T13:25:20.788747Z",
     "shell.execute_reply.started": "2025-06-01T13:25:19.775700Z"
    }
   },
   "outputs": [],
   "source": [
    "import numpy as np\n",
    "import matplotlib.pyplot as plt\n",
    "from scipy.ndimage import center_of_mass\n",
    "from scipy.optimize import curve_fit\n",
    "from astropy.io import fits\n",
    "import pandas as pd\n",
    "\n",
    "def gauss(x, A, mu, sigma):\n",
    "    return A * np.exp(-0.5 * ((x - mu) / sigma)**2)\n",
    "\n",
    "fig, axs = plt.subplots(2, 3, figsize=(12, 7), layout=\"constrained\")\n",
    "ax = axs.flatten()\n",
    "\n",
    "# Tableau pour stocker les résultats\n",
    "psf_results = []\n",
    "\n",
    "for ib, band in enumerate(all_bands):\n",
    "    \n",
    "    title = f\"lsstcomcam psf band={band}\"    \n",
    "    suptitle = f\"SL {sl_number}\"\n",
    "    file = f\"cutout_psf_ECDFS_{subpath}_{band}.fits\"\n",
    "    fullfilename = os.path.join(path, file)\n",
    "\n",
    "    # Ouvrir FITS\n",
    "    hdu = fits.open(fullfilename)[0]\n",
    "    data = hdu.data\n",
    "\n",
    "    # Trouver le centre\n",
    "    y0, x0 = center_of_mass(data)\n",
    "\n",
    "    # Calcul du rayon\n",
    "    Y, X = np.indices(data.shape)\n",
    "    r = np.sqrt((X - x0)**2 + (Y - y0)**2)\n",
    "    r = r.astype(int)\n",
    "\n",
    "    # Profil radial moyen\n",
    "    tbin = np.bincount(r.ravel(), weights=data.ravel())\n",
    "    nr = np.bincount(r.ravel())\n",
    "    radialprofile = tbin / nr\n",
    "    radii = np.arange(len(radialprofile))\n",
    "\n",
    "    # Calcul sigma statistique\n",
    "    flux_norm = radialprofile / np.sum(radialprofile)\n",
    "    mu_stat = np.sum(radii * flux_norm)\n",
    "    sigma_stat = np.sqrt(np.sum(flux_norm * (radii - mu_stat)**2))\n",
    "\n",
    "    # Fit gaussienne\n",
    "    try:\n",
    "        popt, pcov = curve_fit(gauss, radii, radialprofile, p0=[np.max(radialprofile), mu_stat, sigma_stat])\n",
    "        A_fit, mu_fit, sigma_fit = popt\n",
    "        fwhm = 2.3548 * sigma_fit\n",
    "    except RuntimeError:\n",
    "        sigma_fit = np.nan\n",
    "        fwhm = np.nan\n",
    "\n",
    "    fwhm_arcsec = fwhm * 0.2  # si 1 pixel = 0.2 arcsec\n",
    "    \n",
    "    # Tracer\n",
    "    ax[ib].plot(radii, radialprofile, color=all_bands_colors[ib], label='profil radial',lw=3)\n",
    "    if not np.isnan(sigma_fit):\n",
    "        ax[ib].plot(radii, gauss(radii, *popt), 'k--', label='fit gaussien')\n",
    "\n",
    "    # Textbox\n",
    "    \n",
    "\n",
    "    stats_text = (f\"$\\\\sigma_{{stat}}$ = {sigma_stat:.2f} px\\n\"\n",
    "              f\"$\\\\sigma_{{fit}}$ = {sigma_fit:.2f} px\\n\"\n",
    "              f\"FWHM = {fwhm:.2f} px\\n\"\n",
    "              f\"FWHM = {fwhm_arcsec:.2f}\\\"\")\n",
    "\n",
    "    \n",
    "    ax[ib].text(0.95, 0.95, stats_text, transform=ax[ib].transAxes,\n",
    "                verticalalignment='top', horizontalalignment='right',\n",
    "                fontsize=10, bbox=dict(boxstyle='round', facecolor='white', alpha=0.8))\n",
    "\n",
    "    ax[ib].set_xlabel('Radius (pixels)')\n",
    "    ax[ib].set_ylabel('Average Flux')\n",
    "    ax[ib].set_title(title)\n",
    "    ax[ib].legend()\n",
    "\n",
    "    # ➕ Ajouter les résultats à la liste\n",
    "    psf_results.append({\n",
    "    'band': band,\n",
    "    'sigma_stat_px': round(sigma_stat, 2),\n",
    "    'sigma_fit_px': round(sigma_fit, 2),\n",
    "    'fwhm_px': round(fwhm, 2),\n",
    "    'fwhm_arcsec': round(fwhm_arcsec, 2)\n",
    "    })\n",
    "    \n",
    "\n",
    "plt.suptitle(suptitle + \" PSF\")\n",
    "plt.show()\n",
    "\n",
    "# 📊 Créer un DataFrame\n",
    "psf_df = pd.DataFrame(psf_results)\n",
    "psf_df = psf_df.round(2)\n",
    "\n",
    "# 📝 Sauvegarder en CSV si souhaité :\n",
    "# psf_df.to_csv(\"psf_statistics.csv\", index=False)\n",
    "\n",
    "# Afficher dans la console\n",
    "print(psf_df)\n"
   ]
  },
  {
   "cell_type": "code",
   "execution_count": null,
   "id": "0aff83f1-32c5-4990-9bc7-d17830d8796f",
   "metadata": {},
   "outputs": [],
   "source": []
  }
 ],
 "metadata": {
  "kernelspec": {
   "display_name": "LSST",
   "language": "python",
   "name": "lsst"
  },
  "language_info": {
   "codemirror_mode": {
    "name": "ipython",
    "version": 3
   },
   "file_extension": ".py",
   "mimetype": "text/x-python",
   "name": "python",
   "nbconvert_exporter": "python",
   "pygments_lexer": "ipython3",
   "version": "3.12.10"
  }
 },
 "nbformat": 4,
 "nbformat_minor": 5
}
