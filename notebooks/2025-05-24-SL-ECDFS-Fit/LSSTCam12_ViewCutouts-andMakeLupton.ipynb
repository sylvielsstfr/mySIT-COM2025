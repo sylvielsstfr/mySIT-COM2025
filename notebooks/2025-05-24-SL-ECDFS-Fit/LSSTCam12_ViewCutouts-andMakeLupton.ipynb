{
 "cells": [
  {
   "cell_type": "markdown",
   "id": "434b4c03-b5a4-4f55-9208-dac2bc9e9c43",
   "metadata": {},
   "source": [
    "## View  RubinLSST cutout images and Lupton colored image\n",
    "\n",
    "- author : Sylvie Dagoret-Campagne\n",
    "- creation date : 2025-05-30\n",
    "- last update : 2025-05-30 "
   ]
  },
  {
   "cell_type": "code",
   "execution_count": null,
   "id": "07174771-40a6-47ce-a28d-6ac64cce51bc",
   "metadata": {
    "execution": {
     "iopub.execute_input": "2025-06-01T13:02:29.741980Z",
     "iopub.status.busy": "2025-06-01T13:02:29.741725Z",
     "iopub.status.idle": "2025-06-01T13:02:29.775462Z",
     "shell.execute_reply": "2025-06-01T13:02:29.775087Z",
     "shell.execute_reply.started": "2025-06-01T13:02:29.741964Z"
    }
   },
   "outputs": [],
   "source": [
    "import astroquery\n",
    "print(astroquery.__version__)"
   ]
  },
  {
   "cell_type": "markdown",
   "id": "37dcd3ab-0bc6-4823-a38e-764bc978e075",
   "metadata": {},
   "source": [
    "https://stackoverflow.com/questions/59699193/how-to-obtain-2d-cutout-of-an-image-from-a-skycoord-position"
   ]
  },
  {
   "cell_type": "code",
   "execution_count": null,
   "id": "91d47536-6176-4ae1-a5ab-4b5fbaf6ac02",
   "metadata": {
    "execution": {
     "iopub.execute_input": "2025-06-01T13:02:29.776032Z",
     "iopub.status.busy": "2025-06-01T13:02:29.775903Z",
     "iopub.status.idle": "2025-06-01T13:02:30.690910Z",
     "shell.execute_reply": "2025-06-01T13:02:30.690385Z",
     "shell.execute_reply.started": "2025-06-01T13:02:29.776018Z"
    }
   },
   "outputs": [],
   "source": [
    "# For Angle conversion\n",
    "import matplotlib.pyplot as plt\n",
    "from astropy.visualization.wcsaxes import WCSAxes\n",
    "from astropy.coordinates import Angle\n",
    "import astropy.units as u\n",
    "from astropy.coordinates import SkyCoord\n",
    "import pandas as pd\n",
    "import numpy as np\n",
    "from astropy.io import fits\n",
    "from astropy.coordinates import SkyCoord\n",
    "from astropy.wcs import WCS\n",
    "from astropy.nddata import Cutout2D\n",
    "from astropy.visualization import simple_norm, ZScaleInterval,PercentileInterval,make_lupton_rgb\n",
    "from itertools import combinations"
   ]
  },
  {
   "cell_type": "code",
   "execution_count": null,
   "id": "cc22dc13-54bf-4d67-9efd-c01049eecdeb",
   "metadata": {
    "execution": {
     "iopub.execute_input": "2025-06-01T13:02:30.691865Z",
     "iopub.status.busy": "2025-06-01T13:02:30.691469Z",
     "iopub.status.idle": "2025-06-01T13:02:30.694755Z",
     "shell.execute_reply": "2025-06-01T13:02:30.694377Z",
     "shell.execute_reply.started": "2025-06-01T13:02:30.691849Z"
    }
   },
   "outputs": [],
   "source": [
    "plt.rcParams[\"figure.figsize\"] = (4,3)\n",
    "plt.rcParams[\"axes.labelsize\"] = 'x-large'\n",
    "plt.rcParams['axes.titlesize'] = 'x-large'\n",
    "plt.rcParams['xtick.labelsize']= 'x-large'\n",
    "plt.rcParams['ytick.labelsize']= 'x-large'\n",
    "plt.rcParams['axes.titlesize']= 'x-large'"
   ]
  },
  {
   "cell_type": "code",
   "execution_count": null,
   "id": "96deddc5-6828-4821-a86d-276f8db335ce",
   "metadata": {
    "execution": {
     "iopub.execute_input": "2025-06-01T13:02:30.695342Z",
     "iopub.status.busy": "2025-06-01T13:02:30.695206Z",
     "iopub.status.idle": "2025-06-01T13:02:30.704877Z",
     "shell.execute_reply": "2025-06-01T13:02:30.704503Z",
     "shell.execute_reply.started": "2025-06-01T13:02:30.695329Z"
    }
   },
   "outputs": [],
   "source": [
    "from IPython.display import Image, display"
   ]
  },
  {
   "cell_type": "code",
   "execution_count": null,
   "id": "fe8507ac-6c15-4cda-8456-c2d3748692c9",
   "metadata": {
    "execution": {
     "iopub.execute_input": "2025-06-01T13:02:30.705659Z",
     "iopub.status.busy": "2025-06-01T13:02:30.705305Z",
     "iopub.status.idle": "2025-06-01T13:02:30.711373Z",
     "shell.execute_reply": "2025-06-01T13:02:30.710963Z",
     "shell.execute_reply.started": "2025-06-01T13:02:30.705644Z"
    }
   },
   "outputs": [],
   "source": [
    "import os,re"
   ]
  },
  {
   "cell_type": "code",
   "execution_count": null,
   "id": "7203513f-f0a9-433a-a0ef-5dec079c0d28",
   "metadata": {
    "execution": {
     "iopub.execute_input": "2025-06-01T13:02:30.711910Z",
     "iopub.status.busy": "2025-06-01T13:02:30.711788Z",
     "iopub.status.idle": "2025-06-01T13:02:30.719698Z",
     "shell.execute_reply": "2025-06-01T13:02:30.719260Z",
     "shell.execute_reply.started": "2025-06-01T13:02:30.711898Z"
    }
   },
   "outputs": [],
   "source": [
    "def load_fits_image_with_norm(path):\n",
    "    \"\"\"\n",
    "    Load rubin cutout adapted to rubin LSST\n",
    "    \"\"\"\n",
    "    with fits.open(path) as hdul:\n",
    "        # where is the image\n",
    "        data = hdul[1].data\n",
    "        if data is None:\n",
    "            raise ValueError(f\"No image data in {path}\")\n",
    "        # where is the header that contains WCS\n",
    "        wcs = WCS(hdul[0].header)\n",
    "        \n",
    "    vmin, vmax = ZScaleInterval().get_limits(data)\n",
    "    norm = simple_norm(data, stretch='asinh', vmin=vmin, vmax=vmax)\n",
    "    return data, wcs, norm"
   ]
  },
  {
   "cell_type": "code",
   "execution_count": null,
   "id": "0382baaf-e525-4363-9d49-930bb0a5526d",
   "metadata": {
    "execution": {
     "iopub.execute_input": "2025-06-01T13:02:30.720348Z",
     "iopub.status.busy": "2025-06-01T13:02:30.720218Z",
     "iopub.status.idle": "2025-06-01T13:02:30.726662Z",
     "shell.execute_reply": "2025-06-01T13:02:30.726300Z",
     "shell.execute_reply.started": "2025-06-01T13:02:30.720336Z"
    }
   },
   "outputs": [],
   "source": [
    "def make_lupton_image(data_b, data_g, data_r, stretch=0.5, Q=10):\n",
    "    return make_lupton_rgb(image_r=data_r, image_g=data_g, image_b=data_b,\n",
    "                           stretch=stretch, Q=Q)"
   ]
  },
  {
   "cell_type": "markdown",
   "id": "13e83e75-543c-4373-92e2-38ca692aa3fc",
   "metadata": {},
   "source": [
    "## Configuration"
   ]
  },
  {
   "cell_type": "markdown",
   "id": "aedcfe02-8a4f-48cb-8ada-a5e8b080a3f2",
   "metadata": {},
   "source": [
    "### Target in ECDFS\n",
    "\n",
    "- path to article : https://arxiv.org/pdf/1104.0931\n",
    "- visual selection of the tiles : https://archive.stsci.edu/prepds/gems/browser.html\n",
    "- path file download : https://archive.stsci.edu/pub/hlsp/gems/v_mk1/"
   ]
  },
  {
   "cell_type": "code",
   "execution_count": null,
   "id": "704fa3d8-ef8f-4bff-9dd6-e71e2a337def",
   "metadata": {
    "execution": {
     "iopub.execute_input": "2025-06-01T13:02:30.727292Z",
     "iopub.status.busy": "2025-06-01T13:02:30.727164Z",
     "iopub.status.idle": "2025-06-01T13:02:30.733318Z",
     "shell.execute_reply": "2025-06-01T13:02:30.732972Z",
     "shell.execute_reply.started": "2025-06-01T13:02:30.727280Z"
    }
   },
   "outputs": [],
   "source": [
    "fig_table1 = \"input_figs/table1_gemcandidates.png\"\n",
    "fig_table2 = \"input_figs/table2_gemcandidates.png\""
   ]
  },
  {
   "cell_type": "code",
   "execution_count": null,
   "id": "3438e6e2-8750-408b-9404-3d2a7dfe3a61",
   "metadata": {
    "execution": {
     "iopub.execute_input": "2025-06-01T13:02:30.733886Z",
     "iopub.status.busy": "2025-06-01T13:02:30.733760Z",
     "iopub.status.idle": "2025-06-01T13:02:30.741831Z",
     "shell.execute_reply": "2025-06-01T13:02:30.741482Z",
     "shell.execute_reply.started": "2025-06-01T13:02:30.733874Z"
    }
   },
   "outputs": [],
   "source": [
    "Image(url= fig_table1,width=800)"
   ]
  },
  {
   "cell_type": "code",
   "execution_count": null,
   "id": "00dce019-3a93-40eb-b700-41468bab7554",
   "metadata": {
    "execution": {
     "iopub.execute_input": "2025-06-01T13:02:30.742451Z",
     "iopub.status.busy": "2025-06-01T13:02:30.742326Z",
     "iopub.status.idle": "2025-06-01T13:02:30.757055Z",
     "shell.execute_reply": "2025-06-01T13:02:30.756728Z",
     "shell.execute_reply.started": "2025-06-01T13:02:30.742439Z"
    }
   },
   "outputs": [],
   "source": [
    "Image(url= fig_table2,width=500)"
   ]
  },
  {
   "cell_type": "code",
   "execution_count": null,
   "id": "169491b5-2f1d-4e12-a1a6-1b755581d0d5",
   "metadata": {
    "execution": {
     "iopub.execute_input": "2025-06-01T13:02:30.757698Z",
     "iopub.status.busy": "2025-06-01T13:02:30.757572Z",
     "iopub.status.idle": "2025-06-01T13:02:30.788559Z",
     "shell.execute_reply": "2025-06-01T13:02:30.788198Z",
     "shell.execute_reply.started": "2025-06-01T13:02:30.757686Z"
    }
   },
   "outputs": [],
   "source": [
    "#15422 44 03:32:38.21 –27:56:53.2 \n",
    "ra1 = \"03:32:38.21 hours\"\n",
    "dec1 = \"-27:56:53.2 degrees\"\n",
    "tile1 = 44\n",
    "\n",
    "#34244 94 03:32:06.45 –27:47:28.6 \n",
    "ra2 = \"03:32:06.45 hours\"\n",
    "dec2 = \"-27:47:28.6 degrees\"\n",
    "tile2 = 94\n",
    "# Je ne trouve pas cette tile ==> FindTileForCutoutGEM\n",
    "tile2 = 32\n",
    "\n",
    "#40173 35 03:33:19.45 –27:44:50.0 \n",
    "ra3 = \"03:33:19.45 hours\"\n",
    "dec3 = \"-27:44:50.0 degrees\"\n",
    "tile3 = 35\n",
    "\n",
    "#43242 45 03:31:55.35 –27:43:23.5 \n",
    "ra4 = \"03:31:55.35 hours\"\n",
    "dec4 = \"-27:43:23.5 degrees\"\n",
    "tile4 = 45\n",
    "\n",
    "#46446 47 03:31:35.94 –27:41:48.2 \n",
    "ra5 = \"03:31:35.94 hours\"\n",
    "dec5 = \"-27:41:48.2 degrees\"\n",
    "tile5 = 47\n",
    "\n",
    "#12589 03:31:24.89 −27:58:07.0\n",
    "ra6 = \"03:31:24.89 hours\"\n",
    "dec6 = \"-27:58:07.0 degrees\"\n",
    "tile6 = 17\n",
    "\n",
    "#43797 03:31:31.74 −27:43:00.8 \n",
    "ra7 = \"03:31:31.74 hours\"\n",
    "dec7 = \"-27:43:00.8 degrees\"\n",
    "tile7 = 47\n",
    "\n",
    "#28294 03:31:50.54 −27:50:28.4 \n",
    "ra8 = \"03:31:50.54 hours\"\n",
    "dec8 = \"-27:50:28.4 degrees\"\n",
    "tile8 = 33\n",
    "\n",
    "#36857 03:31:53.24 −27:46:18.9\n",
    "ra9 = \"03:31:53.24 hours\"\n",
    "dec9 = \"-27:46:18.9 degrees\"\n",
    "tile9 = 38\n",
    "\n",
    "#36714 03:32:59.78 −27:46:26.4 \n",
    "ra10 = \"03:32:59.78 hours\"\n",
    "dec10 = \"-27:46:26.4 degrees\"\n",
    "tile10 = 37\n"
   ]
  },
  {
   "cell_type": "code",
   "execution_count": null,
   "id": "85c504b7-1ee1-4d83-9a1a-8b4e4c231103",
   "metadata": {
    "execution": {
     "iopub.execute_input": "2025-06-01T13:02:30.789081Z",
     "iopub.status.busy": "2025-06-01T13:02:30.788958Z",
     "iopub.status.idle": "2025-06-01T13:02:30.796765Z",
     "shell.execute_reply": "2025-06-01T13:02:30.796404Z",
     "shell.execute_reply.started": "2025-06-01T13:02:30.789069Z"
    }
   },
   "outputs": [],
   "source": [
    "lsstcomcam_targets = {}\n",
    "# high rank\n",
    "lsstcomcam_targets[\"ECDFS_G15422\"] = {\"field_name\": \"GEMS-15422\", \"ra\": 53.159208333333325, \"dec\": -27.94811111111111,\"tile\":tile1}\n",
    "lsstcomcam_targets[\"ECDFS_G34244\"] = {\"field_name\": \"GEMS-34244\", \"ra\": 53.02687499999999 , \"dec\": -27.79127777777778,\"tile\":tile2}\n",
    "lsstcomcam_targets[\"ECDFS_G40173\"] = {\"field_name\": \"GEMS-40173\", \"ra\": 53.33104166666666 , \"dec\": -27.747222222222224,\"tile\":tile3}\n",
    "lsstcomcam_targets[\"ECDFS_G43242\"] = {\"field_name\": \"GEMS-43242\", \"ra\": 52.980624999999996 , \"dec\": -27.72319444444444,\"tile\":tile4}\n",
    "lsstcomcam_targets[\"ECDFS_G46446\"] = {\"field_name\": \"GEMS-46446\", \"ra\": 52.89975 , \"dec\": -27.696722222222224,\"tile\":tile5}\n",
    "\n",
    "# low rank\n",
    "lsstcomcam_targets[\"ECDFS_G12589\"] = {\"field_name\": \"GEMS-12589\", \"ra\": 52.85370833333333, \"dec\": -27.96861111111111,\"tile\":tile6}\n",
    "lsstcomcam_targets[\"ECDFS_G43797\"] = {\"field_name\": \"GEMS-43797\", \"ra\": 52.88224999999999, \"dec\": -27.71688888888889,\"tile\":tile7}\n",
    "\n",
    "lsstcomcam_targets[\"ECDFS_G28294\"] = {\"field_name\": \"GEMS-28294\", \"ra\": 52.960583333333325 , \"dec\": -27.84122222222222,\"tile\":tile8}\n",
    "lsstcomcam_targets[\"ECDFS_G6857\"] = {\"field_name\": \"GEMS-6857\", \"ra\": 52.97183333333333 , \"dec\": -27.771916666666666,\"tile\":tile9}\n",
    "lsstcomcam_targets[\"ECDFS_G36714\"] = {\"field_name\": \"GEMS-36714\", \"ra\": 53.249083333333324, \"dec\": -27.773999999999997,\"tile\":tile10}\n"
   ]
  },
  {
   "cell_type": "code",
   "execution_count": null,
   "id": "17ae8de2-0358-4f1e-9443-1a360f662eee",
   "metadata": {
    "execution": {
     "iopub.execute_input": "2025-06-01T13:02:30.797385Z",
     "iopub.status.busy": "2025-06-01T13:02:30.797258Z",
     "iopub.status.idle": "2025-06-01T13:02:30.804848Z",
     "shell.execute_reply": "2025-06-01T13:02:30.804499Z",
     "shell.execute_reply.started": "2025-06-01T13:02:30.797373Z"
    }
   },
   "outputs": [],
   "source": [
    "df = pd.DataFrame(lsstcomcam_targets).T"
   ]
  },
  {
   "cell_type": "code",
   "execution_count": null,
   "id": "76ed9206-dde5-4349-9474-2b6c0cd3fb30",
   "metadata": {
    "execution": {
     "iopub.execute_input": "2025-06-01T13:02:30.805488Z",
     "iopub.status.busy": "2025-06-01T13:02:30.805353Z",
     "iopub.status.idle": "2025-06-01T13:02:30.813105Z",
     "shell.execute_reply": "2025-06-01T13:02:30.812746Z",
     "shell.execute_reply.started": "2025-06-01T13:02:30.805476Z"
    }
   },
   "outputs": [],
   "source": [
    "# candidates\n",
    "#key = \"ECDFS_G15422\"\n",
    "key = \"ECDFS_G34244\"\n",
    "#key = \"ECDFS_G40173\"\n",
    "#key= \"ECDFS_G43242\"\n",
    "#key= \"ECDFS_G46446\"\n",
    "\n",
    "# unknown\n",
    "#key = \"ECDFS_G12589\"\n",
    "#key = \"ECDFS_G43797\"\n",
    "#key = \"ECDFS_G28294\"\n",
    "#key = \"ECDFS_G6857\"\n",
    "#key = \"ECDFS_G36714\"\n",
    "\n",
    "the_target = lsstcomcam_targets[key]\n",
    "target_ra = the_target[\"ra\"]\n",
    "target_dec = the_target[\"dec\"]\n",
    "target_name = the_target[\"field_name\"]\n",
    "tile_num = the_target[\"tile\"]\n",
    "coord = SkyCoord(ra=target_ra, dec=target_dec, unit=(u.deg, u.deg))\n",
    "\n",
    "target_title = (\n",
    "    the_target[\"field_name\"] + f\" (ra,dec) = ({target_ra:.2f},{target_dec:.2f}) \"\n",
    ")\n",
    "\n",
    "list_of_keys = [\"ECDFS_G15422\", \"ECDFS_G34244\",\"ECDFS_G40173\",\"ECDFS_G43242\",\"ECDFS_G46446\",\"ECDFS_G12589\",\"ECDFS_G43797\",\"ECDFS_G28294\",\"ECDFS_G6857\",\"ECDFS_G36714\"]"
   ]
  },
  {
   "cell_type": "code",
   "execution_count": null,
   "id": "0f01806b-7bfe-4e1a-a23c-f8f9bae6dc16",
   "metadata": {
    "execution": {
     "iopub.execute_input": "2025-06-01T13:02:30.813648Z",
     "iopub.status.busy": "2025-06-01T13:02:30.813516Z",
     "iopub.status.idle": "2025-06-01T13:02:30.820527Z",
     "shell.execute_reply": "2025-06-01T13:02:30.820176Z",
     "shell.execute_reply.started": "2025-06-01T13:02:30.813635Z"
    }
   },
   "outputs": [],
   "source": [
    "subpath_img = re.findall(\"^ECDFS_(.*)\",key)[0]\n",
    "subpath_img"
   ]
  },
  {
   "cell_type": "markdown",
   "id": "2607c0a0-e708-4424-8ab8-87ef9bf42535",
   "metadata": {},
   "source": [
    "## Configuration"
   ]
  },
  {
   "cell_type": "code",
   "execution_count": null,
   "id": "02572c91-c80f-4b68-996f-85e1cbf9540c",
   "metadata": {
    "execution": {
     "iopub.execute_input": "2025-06-01T13:02:30.821056Z",
     "iopub.status.busy": "2025-06-01T13:02:30.820933Z",
     "iopub.status.idle": "2025-06-01T13:02:30.828998Z",
     "shell.execute_reply": "2025-06-01T13:02:30.828563Z",
     "shell.execute_reply.started": "2025-06-01T13:02:30.821044Z"
    }
   },
   "outputs": [],
   "source": [
    "all_bands = [\"u\", \"g\", \"r\", \"i\", \"z\", \"y\"]\n",
    "all_bands_colors = [\"blue\", \"green\", \"red\", \"orange\", \"yellow\", \"purple\"]\n",
    "all_bands_cmaps = [\"Blues\",\"Greens\",\"Reds\",\"Oranges\",\"Greys\",\"Purples\"]\n",
    "NB = len(all_bands)"
   ]
  },
  {
   "cell_type": "code",
   "execution_count": null,
   "id": "683d9850-46f1-40a3-af30-8350b374e964",
   "metadata": {
    "execution": {
     "iopub.execute_input": "2025-06-01T13:02:30.829523Z",
     "iopub.status.busy": "2025-06-01T13:02:30.829399Z",
     "iopub.status.idle": "2025-06-01T13:02:30.835574Z",
     "shell.execute_reply": "2025-06-01T13:02:30.835206Z",
     "shell.execute_reply.started": "2025-06-01T13:02:30.829511Z"
    }
   },
   "outputs": [],
   "source": [
    "toppath_rubincutout = \"../2025-05-24-SL-ECDFS-Fit/data\"\n",
    "path_rubincutout = os.path.join(toppath_rubincutout,subpath_img)"
   ]
  },
  {
   "cell_type": "code",
   "execution_count": null,
   "id": "c50ba871-c219-4683-acfc-10d85e52e091",
   "metadata": {
    "execution": {
     "iopub.execute_input": "2025-06-01T13:02:30.836317Z",
     "iopub.status.busy": "2025-06-01T13:02:30.835985Z",
     "iopub.status.idle": "2025-06-01T13:02:31.250033Z",
     "shell.execute_reply": "2025-06-01T13:02:31.249517Z",
     "shell.execute_reply.started": "2025-06-01T13:02:30.836303Z"
    }
   },
   "outputs": [],
   "source": [
    "!ls $path_rubincutout"
   ]
  },
  {
   "cell_type": "code",
   "execution_count": null,
   "id": "7e950586-c619-46c3-bc4c-d527541f5988",
   "metadata": {
    "execution": {
     "iopub.execute_input": "2025-06-01T13:02:31.250817Z",
     "iopub.status.busy": "2025-06-01T13:02:31.250675Z",
     "iopub.status.idle": "2025-06-01T13:02:31.253865Z",
     "shell.execute_reply": "2025-06-01T13:02:31.253512Z",
     "shell.execute_reply.started": "2025-06-01T13:02:31.250801Z"
    }
   },
   "outputs": [],
   "source": [
    "all_filenames = [ f\"cutout_wcs_{key}_{band}.fits\" for band in all_bands]\n",
    "all_fullfilenames = [ os.path.join(path_rubincutout, f\"cutout_wcs_{key}_{band}.fits\") for band in all_bands] "
   ]
  },
  {
   "cell_type": "markdown",
   "id": "cb5c327a-975e-496c-bf1a-f41ebf728b62",
   "metadata": {},
   "source": [
    "## Open cutout files, get wcs and normalize the images"
   ]
  },
  {
   "cell_type": "code",
   "execution_count": null,
   "id": "c9637fdc-21ca-4645-8a4c-da565d1b13e3",
   "metadata": {
    "execution": {
     "iopub.execute_input": "2025-06-01T13:02:31.254444Z",
     "iopub.status.busy": "2025-06-01T13:02:31.254318Z",
     "iopub.status.idle": "2025-06-01T13:02:32.303047Z",
     "shell.execute_reply": "2025-06-01T13:02:32.302517Z",
     "shell.execute_reply.started": "2025-06-01T13:02:31.254432Z"
    }
   },
   "outputs": [],
   "source": [
    "all_data_wcs_norm = []\n",
    "for ib in range(NB):\n",
    "    all_data_wcs_norm.append(load_fits_image_with_norm(all_fullfilenames[ib])) "
   ]
  },
  {
   "cell_type": "code",
   "execution_count": null,
   "id": "a278aa34-e09d-4551-b994-dfb5803e8d0f",
   "metadata": {
    "execution": {
     "iopub.execute_input": "2025-06-01T13:02:32.306330Z",
     "iopub.status.busy": "2025-06-01T13:02:32.305999Z",
     "iopub.status.idle": "2025-06-01T13:02:32.310218Z",
     "shell.execute_reply": "2025-06-01T13:02:32.309796Z",
     "shell.execute_reply.started": "2025-06-01T13:02:32.306315Z"
    }
   },
   "outputs": [],
   "source": [
    "def show_fits_grid(all_data_wcs_norm, ncols=3):\n",
    "    NB = len(all_data_wcs_norm)\n",
    "    nrows = (NB + ncols - 1) // ncols  # pour gérer les cas non multiples\n",
    "    fig, axes = plt.subplots(nrows, ncols, figsize=(9 * ncols, 9 * nrows),\n",
    "                             subplot_kw={'projection': all_data_wcs_norm[0][1]})\n",
    "\n",
    "    # Flatten si axes est 2D\n",
    "    axes = axes.flatten()\n",
    "\n",
    "    for i in range(NB):\n",
    "        band = all_bands[i]\n",
    "        data, wcs, norm = all_data_wcs_norm[i]\n",
    "        ax = axes[i]\n",
    "        ax.imshow(data, origin='lower', cmap=all_bands_cmaps[i], norm=norm)\n",
    "        #ax.imshow(data, origin='lower', cmap=\"grey\", norm=norm)\n",
    "        ax.set_xlabel(\"RA\")\n",
    "        ax.set_ylabel(\"Dec\")\n",
    "        ax.set_title(f\"band {band}\",fontweight=\"bold\")\n",
    "\n",
    "    # Masquer les axes restants si NB < nrows * ncols\n",
    "    for j in range(NB, nrows * ncols):\n",
    "        fig.delaxes(axes[j])\n",
    "\n",
    "    plt.suptitle(target_title,fontweight=\"bold\",fontsize=30)\n",
    "    plt.tight_layout()\n",
    "    plt.show()\n"
   ]
  },
  {
   "cell_type": "code",
   "execution_count": null,
   "id": "00de1880-973a-49ab-b98e-14371b439998",
   "metadata": {
    "execution": {
     "iopub.execute_input": "2025-06-01T13:02:32.310824Z",
     "iopub.status.busy": "2025-06-01T13:02:32.310696Z",
     "iopub.status.idle": "2025-06-01T13:02:41.469030Z",
     "shell.execute_reply": "2025-06-01T13:02:41.468567Z",
     "shell.execute_reply.started": "2025-06-01T13:02:32.310812Z"
    }
   },
   "outputs": [],
   "source": [
    "show_fits_grid(all_data_wcs_norm, ncols=3)"
   ]
  },
  {
   "cell_type": "markdown",
   "id": "00525693-6330-4eca-9419-8d02348f03d2",
   "metadata": {},
   "source": [
    "## Lupton"
   ]
  },
  {
   "cell_type": "code",
   "execution_count": null,
   "id": "dacdbec5-afe8-44db-9ba9-3628aab845db",
   "metadata": {
    "execution": {
     "iopub.execute_input": "2025-06-01T13:02:41.469661Z",
     "iopub.status.busy": "2025-06-01T13:02:41.469511Z",
     "iopub.status.idle": "2025-06-01T13:02:41.472291Z",
     "shell.execute_reply": "2025-06-01T13:02:41.471916Z",
     "shell.execute_reply.started": "2025-06-01T13:02:41.469647Z"
    }
   },
   "outputs": [],
   "source": [
    "combos = list(combinations(['g', 'r', 'i', 'z', 'y'], 3))"
   ]
  },
  {
   "cell_type": "code",
   "execution_count": null,
   "id": "2ff76582-624c-44b8-86d5-a3ff184a83fd",
   "metadata": {
    "execution": {
     "iopub.execute_input": "2025-06-01T13:02:41.472986Z",
     "iopub.status.busy": "2025-06-01T13:02:41.472857Z",
     "iopub.status.idle": "2025-06-01T13:02:41.480935Z",
     "shell.execute_reply": "2025-06-01T13:02:41.480575Z",
     "shell.execute_reply.started": "2025-06-01T13:02:41.472974Z"
    }
   },
   "outputs": [],
   "source": [
    "combos"
   ]
  },
  {
   "cell_type": "code",
   "execution_count": null,
   "id": "970045ff-904f-4332-b694-6c82422e7cd1",
   "metadata": {
    "execution": {
     "iopub.execute_input": "2025-06-01T13:02:41.481440Z",
     "iopub.status.busy": "2025-06-01T13:02:41.481317Z",
     "iopub.status.idle": "2025-06-01T13:02:41.491978Z",
     "shell.execute_reply": "2025-06-01T13:02:41.491561Z",
     "shell.execute_reply.started": "2025-06-01T13:02:41.481428Z"
    }
   },
   "outputs": [],
   "source": [
    "def show_lupton_combinations(band_data, bands=('g', 'r', 'i', 'z', 'y'),\n",
    "                             combos=None, ncols=3, stretch=0.01, Q=10):\n",
    "    \"\"\"\n",
    "    Affiche une grille d'images RGB Lupton pour les combinaisons données de bandes.\n",
    "    \n",
    "    band_data : dict de la forme {band: data_array}\n",
    "    bands : liste des bandes disponibles\n",
    "    combos : liste de tuples (b, g, r), ou None pour toutes les combinaisons\n",
    "    \"\"\"\n",
    "    if combos is None:\n",
    "        # Génère toutes les combinaisons possibles de 3 bandes parmi les disponibles\n",
    "        combos = list(combinations(bands, 3))\n",
    "    \n",
    "    N = len(combos)\n",
    "    nrows = (N + ncols - 1) // ncols\n",
    "    fig, axes = plt.subplots(nrows, ncols, figsize=(5 * ncols, 5 * nrows))\n",
    "\n",
    "    # Flatten au cas où subplot retourne un tableau 2D\n",
    "    axes = axes.flatten()\n",
    "\n",
    "    for i, (b, g, r) in enumerate(combos):\n",
    "        ax = axes[i]\n",
    "        try:\n",
    "            rgb = make_lupton_image(\n",
    "                data_b=band_data[b],\n",
    "                data_g=band_data[g],\n",
    "                data_r=band_data[r],\n",
    "                stretch=stretch,\n",
    "                Q=Q\n",
    "            )\n",
    "            ax.imshow(rgb,origin=\"lower\")\n",
    "            ax.set_title(f\"RGB: {b}-{g}-{r}\", fontweight='bold')\n",
    "        except Exception as e:\n",
    "            ax.text(0.5, 0.5, f'Erreur\\n{b}-{g}-{r}', ha='center', va='center', fontsize=10)\n",
    "            print(f\"Erreur pour la combinaison {b}-{g}-{r} : {e}\")\n",
    "        ax.axis('off')\n",
    "\n",
    "    # Cacher les axes inutilisés\n",
    "    for j in range(N, len(axes)):\n",
    "        fig.delaxes(axes[j])\n",
    "\n",
    "    plt.tight_layout()\n",
    "    plt.show()\n"
   ]
  },
  {
   "cell_type": "code",
   "execution_count": null,
   "id": "20ede0ac-e543-4855-bed6-3b5eeaa26f90",
   "metadata": {
    "execution": {
     "iopub.execute_input": "2025-06-01T13:02:41.492723Z",
     "iopub.status.busy": "2025-06-01T13:02:41.492440Z",
     "iopub.status.idle": "2025-06-01T13:02:41.500721Z",
     "shell.execute_reply": "2025-06-01T13:02:41.500297Z",
     "shell.execute_reply.started": "2025-06-01T13:02:41.492709Z"
    }
   },
   "outputs": [],
   "source": [
    "# Supposons que tu as déjà chargé :\n",
    "# all_data_wcs_norm = [...] dans l'ordre ['u', 'g', 'r', 'i', 'z', 'y']\n",
    "band_names = ['u', 'g', 'r', 'i', 'z', 'y']\n",
    "band_data = {band_names[i]: all_data_wcs_norm[i][0] for i in range(len(band_names)) if band_names[i] != 'u'}"
   ]
  },
  {
   "cell_type": "markdown",
   "id": "fee81bb6-1ac6-46f9-b64f-f84d58adda58",
   "metadata": {},
   "source": [
    "### Plot a selection of combinations"
   ]
  },
  {
   "cell_type": "code",
   "execution_count": null,
   "id": "eba1c947-18cb-4c80-98fd-20d761f8c9df",
   "metadata": {
    "execution": {
     "iopub.execute_input": "2025-06-01T13:02:41.501326Z",
     "iopub.status.busy": "2025-06-01T13:02:41.501198Z",
     "iopub.status.idle": "2025-06-01T13:02:41.603628Z",
     "shell.execute_reply": "2025-06-01T13:02:41.603150Z",
     "shell.execute_reply.started": "2025-06-01T13:02:41.501314Z"
    }
   },
   "outputs": [],
   "source": [
    "show_lupton_combinations(band_data, combos=[('g', 'r', 'i'), ('g', 'i', 'y')])"
   ]
  },
  {
   "cell_type": "markdown",
   "id": "772b0807-95ec-484a-a0de-cdd96073f652",
   "metadata": {},
   "source": [
    "### Plot all combinations"
   ]
  },
  {
   "cell_type": "code",
   "execution_count": null,
   "id": "33685679-c3a4-4297-b8f0-d2504a9be0b9",
   "metadata": {
    "execution": {
     "iopub.execute_input": "2025-06-01T13:02:41.604457Z",
     "iopub.status.busy": "2025-06-01T13:02:41.604175Z",
     "iopub.status.idle": "2025-06-01T13:02:42.042935Z",
     "shell.execute_reply": "2025-06-01T13:02:42.042431Z",
     "shell.execute_reply.started": "2025-06-01T13:02:41.604442Z"
    }
   },
   "outputs": [],
   "source": [
    "show_lupton_combinations(band_data)"
   ]
  },
  {
   "cell_type": "code",
   "execution_count": null,
   "id": "690d7f3f-fdc1-4d2a-b250-c22bc1070dd1",
   "metadata": {},
   "outputs": [],
   "source": []
  }
 ],
 "metadata": {
  "kernelspec": {
   "display_name": "LSST",
   "language": "python",
   "name": "lsst"
  },
  "language_info": {
   "codemirror_mode": {
    "name": "ipython",
    "version": 3
   },
   "file_extension": ".py",
   "mimetype": "text/x-python",
   "name": "python",
   "nbconvert_exporter": "python",
   "pygments_lexer": "ipython3",
   "version": "3.12.10"
  }
 },
 "nbformat": 4,
 "nbformat_minor": 5
}
