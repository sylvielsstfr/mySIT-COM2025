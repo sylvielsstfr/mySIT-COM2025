{
 "cells": [
  {
   "cell_type": "markdown",
   "id": "434b4c03-b5a4-4f55-9208-dac2bc9e9c43",
   "metadata": {},
   "source": [
    "## Compare SL images  GEMS Rubin\n",
    "\n",
    "- author : Sylvie Dagoret-Campagne\n",
    "- creation date : 2025-05-24\n",
    "- last update : 2025-05-29 : improve showing same xmin,xmax, ymin,ymax\n",
    "- last update : 2025-06-01"
   ]
  },
  {
   "cell_type": "code",
   "execution_count": null,
   "id": "07174771-40a6-47ce-a28d-6ac64cce51bc",
   "metadata": {
    "execution": {
     "iopub.execute_input": "2025-06-01T15:20:46.589572Z",
     "iopub.status.busy": "2025-06-01T15:20:46.589423Z",
     "iopub.status.idle": "2025-06-01T15:20:46.624254Z",
     "shell.execute_reply": "2025-06-01T15:20:46.623859Z",
     "shell.execute_reply.started": "2025-06-01T15:20:46.589546Z"
    }
   },
   "outputs": [],
   "source": [
    "import astroquery\n",
    "print(astroquery.__version__)"
   ]
  },
  {
   "cell_type": "markdown",
   "id": "37dcd3ab-0bc6-4823-a38e-764bc978e075",
   "metadata": {},
   "source": [
    "https://stackoverflow.com/questions/59699193/how-to-obtain-2d-cutout-of-an-image-from-a-skycoord-position"
   ]
  },
  {
   "cell_type": "code",
   "execution_count": null,
   "id": "e5b6a9a2-c252-45b3-983e-61d03c131706",
   "metadata": {
    "execution": {
     "iopub.execute_input": "2025-06-01T15:20:46.624964Z",
     "iopub.status.busy": "2025-06-01T15:20:46.624829Z",
     "iopub.status.idle": "2025-06-01T15:20:47.047337Z",
     "shell.execute_reply": "2025-06-01T15:20:47.046867Z",
     "shell.execute_reply.started": "2025-06-01T15:20:46.624950Z"
    }
   },
   "outputs": [],
   "source": [
    "import matplotlib.pyplot as plt\n",
    "from astropy.io import fits\n",
    "from astropy.wcs import WCS\n",
    "import os\n",
    "import re\n",
    "import numpy as np"
   ]
  },
  {
   "cell_type": "code",
   "execution_count": null,
   "id": "91d47536-6176-4ae1-a5ab-4b5fbaf6ac02",
   "metadata": {
    "execution": {
     "iopub.execute_input": "2025-06-01T15:20:47.048172Z",
     "iopub.status.busy": "2025-06-01T15:20:47.047882Z",
     "iopub.status.idle": "2025-06-01T15:20:47.403526Z",
     "shell.execute_reply": "2025-06-01T15:20:47.403042Z",
     "shell.execute_reply.started": "2025-06-01T15:20:47.048155Z"
    }
   },
   "outputs": [],
   "source": [
    "# For Angle conversion\n",
    "from astropy.coordinates import Angle\n",
    "import astropy.units as u\n",
    "from astropy.coordinates import SkyCoord\n",
    "import pandas as pd\n",
    "import numpy as np\n",
    "from astropy.nddata import Cutout2D"
   ]
  },
  {
   "cell_type": "code",
   "execution_count": null,
   "id": "e58b4408-ff6e-4cf8-85bd-369f971e433e",
   "metadata": {
    "execution": {
     "iopub.execute_input": "2025-06-01T15:20:47.404415Z",
     "iopub.status.busy": "2025-06-01T15:20:47.404127Z",
     "iopub.status.idle": "2025-06-01T15:20:47.414905Z",
     "shell.execute_reply": "2025-06-01T15:20:47.414495Z",
     "shell.execute_reply.started": "2025-06-01T15:20:47.404399Z"
    }
   },
   "outputs": [],
   "source": [
    "from astropy.visualization import ZScaleInterval, AsinhStretch, ImageNormalize\n",
    "from astropy.visualization import ZScaleInterval, simple_norm, make_lupton_rgb"
   ]
  },
  {
   "cell_type": "code",
   "execution_count": null,
   "id": "96deddc5-6828-4821-a86d-276f8db335ce",
   "metadata": {
    "execution": {
     "iopub.execute_input": "2025-06-01T15:20:47.415722Z",
     "iopub.status.busy": "2025-06-01T15:20:47.415376Z",
     "iopub.status.idle": "2025-06-01T15:20:47.417902Z",
     "shell.execute_reply": "2025-06-01T15:20:47.417510Z",
     "shell.execute_reply.started": "2025-06-01T15:20:47.415707Z"
    }
   },
   "outputs": [],
   "source": [
    "from IPython.display import Image, display"
   ]
  },
  {
   "cell_type": "code",
   "execution_count": null,
   "id": "848cadd2-2cf6-40a8-86a1-92d230755610",
   "metadata": {
    "execution": {
     "iopub.execute_input": "2025-06-01T15:20:47.418816Z",
     "iopub.status.busy": "2025-06-01T15:20:47.418609Z",
     "iopub.status.idle": "2025-06-01T15:20:47.426950Z",
     "shell.execute_reply": "2025-06-01T15:20:47.426318Z",
     "shell.execute_reply.started": "2025-06-01T15:20:47.418796Z"
    }
   },
   "outputs": [],
   "source": [
    "plt.rcParams[\"figure.figsize\"] = (4,3)\n",
    "plt.rcParams[\"axes.labelsize\"] = 'xx-large'\n",
    "plt.rcParams['axes.titlesize'] = 'xx-large'\n",
    "plt.rcParams['xtick.labelsize']= 'xx-large'\n",
    "plt.rcParams['ytick.labelsize']= 'xx-large'"
   ]
  },
  {
   "cell_type": "code",
   "execution_count": null,
   "id": "1468827b-aa0a-4d2a-ac68-f331a54534dd",
   "metadata": {
    "execution": {
     "iopub.execute_input": "2025-06-01T15:20:47.427578Z",
     "iopub.status.busy": "2025-06-01T15:20:47.427437Z",
     "iopub.status.idle": "2025-06-01T15:20:47.433542Z",
     "shell.execute_reply": "2025-06-01T15:20:47.432944Z",
     "shell.execute_reply.started": "2025-06-01T15:20:47.427564Z"
    }
   },
   "outputs": [],
   "source": [
    "#%matplotlib widget"
   ]
  },
  {
   "cell_type": "code",
   "execution_count": null,
   "id": "86174406-b7e7-488c-8e24-0c4b6bf6ac17",
   "metadata": {
    "execution": {
     "iopub.execute_input": "2025-06-01T15:20:47.434397Z",
     "iopub.status.busy": "2025-06-01T15:20:47.434209Z",
     "iopub.status.idle": "2025-06-01T15:20:47.440802Z",
     "shell.execute_reply": "2025-06-01T15:20:47.440412Z",
     "shell.execute_reply.started": "2025-06-01T15:20:47.434377Z"
    }
   },
   "outputs": [],
   "source": [
    "def loadgems_fits_image_with_norm(path):\n",
    "    from astropy.io import fits\n",
    "    from astropy.wcs import WCS\n",
    "    with fits.open(path) as hdul:\n",
    "        data = hdul[0].data\n",
    "        wcs = WCS(hdul[0].header)\n",
    "    vmin, vmax = ZScaleInterval().get_limits(data)\n",
    "    #norm = simple_norm(data, stretch='asinh', min_cut=vmin, max_cut=vmax)\n",
    "    norm = simple_norm(data, stretch='asinh', vmin=vmin, vmax=vmax)\n",
    "    return data, wcs, norm\n"
   ]
  },
  {
   "cell_type": "code",
   "execution_count": null,
   "id": "9da0a74a-c5e6-4cfa-8a1b-872b325bd415",
   "metadata": {
    "execution": {
     "iopub.execute_input": "2025-06-01T15:20:47.441539Z",
     "iopub.status.busy": "2025-06-01T15:20:47.441268Z",
     "iopub.status.idle": "2025-06-01T15:20:47.447804Z",
     "shell.execute_reply": "2025-06-01T15:20:47.447433Z",
     "shell.execute_reply.started": "2025-06-01T15:20:47.441524Z"
    }
   },
   "outputs": [],
   "source": [
    "def loadlsst_fits_image_with_norm(path):\n",
    "    \"\"\"\n",
    "    Load rubin cutout adapted to rubin LSST\n",
    "    \"\"\"\n",
    "    with fits.open(path) as hdul:\n",
    "        # where is the image\n",
    "        data = hdul[1].data\n",
    "        if data is None:\n",
    "            raise ValueError(f\"No image data in {path}\")\n",
    "        # where is the header that contains WCS\n",
    "        wcs = WCS(hdul[0].header)\n",
    "        \n",
    "    vmin, vmax = ZScaleInterval().get_limits(data)\n",
    "    norm = simple_norm(data, stretch='asinh', vmin=vmin, vmax=vmax)\n",
    "    return data, wcs, norm"
   ]
  },
  {
   "cell_type": "code",
   "execution_count": null,
   "id": "be3e4d0b-8717-4f07-9a5c-820d4de85481",
   "metadata": {
    "execution": {
     "iopub.execute_input": "2025-06-01T15:20:47.448510Z",
     "iopub.status.busy": "2025-06-01T15:20:47.448250Z",
     "iopub.status.idle": "2025-06-01T15:20:47.454947Z",
     "shell.execute_reply": "2025-06-01T15:20:47.454573Z",
     "shell.execute_reply.started": "2025-06-01T15:20:47.448496Z"
    }
   },
   "outputs": [],
   "source": [
    "def make_lupton_image(data_b, data_g, data_r, stretch=0.02, Q=10):\n",
    "    return make_lupton_rgb(image_r=data_r, image_g=data_g, image_b=data_b,\n",
    "                           stretch=stretch, Q=Q)"
   ]
  },
  {
   "cell_type": "code",
   "execution_count": null,
   "id": "d50fd4ec-ff2c-4d82-943a-ffc2bb8359bb",
   "metadata": {
    "execution": {
     "iopub.execute_input": "2025-06-01T15:20:47.455562Z",
     "iopub.status.busy": "2025-06-01T15:20:47.455426Z",
     "iopub.status.idle": "2025-06-01T15:20:47.462827Z",
     "shell.execute_reply": "2025-06-01T15:20:47.462451Z",
     "shell.execute_reply.started": "2025-06-01T15:20:47.455543Z"
    }
   },
   "outputs": [],
   "source": [
    "def compute_color_difference(data_band1, data_band2):\n",
    "    \"\"\"\n",
    "    Calcule la différence de magnitudes entre deux bandes : -2.5 * log10(b1) + 2.5 * log10(b2)\n",
    "    \"\"\"\n",
    "    with np.errstate(divide='ignore', invalid='ignore'):\n",
    "        mask = (data_band1 > 0) & (data_band2 > 0)\n",
    "        diff = np.full_like(data_band1, np.nan)\n",
    "        diff[mask] = -2.5 * np.log10(data_band1[mask]) + 2.5 * np.log10(data_band2[mask])\n",
    "    return diff"
   ]
  },
  {
   "cell_type": "code",
   "execution_count": null,
   "id": "1e4ac24a-d64a-4733-867b-9785a088dedf",
   "metadata": {
    "execution": {
     "iopub.execute_input": "2025-06-01T15:20:47.463537Z",
     "iopub.status.busy": "2025-06-01T15:20:47.463286Z",
     "iopub.status.idle": "2025-06-01T15:20:47.469938Z",
     "shell.execute_reply": "2025-06-01T15:20:47.469574Z",
     "shell.execute_reply.started": "2025-06-01T15:20:47.463522Z"
    }
   },
   "outputs": [],
   "source": [
    "def compute_common_limits(diff_maps, quantile_clip=0.01):\n",
    "    all_values = np.concatenate([d[np.isfinite(d)].ravel() for d in diff_maps])\n",
    "    vmin = np.quantile(all_values, quantile_clip)\n",
    "    vmax = np.quantile(all_values, 1 - quantile_clip)\n",
    "    return vmin, vmax"
   ]
  },
  {
   "cell_type": "markdown",
   "id": "13e83e75-543c-4373-92e2-38ca692aa3fc",
   "metadata": {},
   "source": [
    "## Configuration"
   ]
  },
  {
   "cell_type": "markdown",
   "id": "aedcfe02-8a4f-48cb-8ada-a5e8b080a3f2",
   "metadata": {},
   "source": [
    "### Target in ECDFS\n",
    "\n",
    "- path to article : https://arxiv.org/pdf/1104.0931\n",
    "- visual selection of the tiles : https://archive.stsci.edu/prepds/gems/browser.html\n",
    "- path file download : https://archive.stsci.edu/pub/hlsp/gems/v_mk1/"
   ]
  },
  {
   "cell_type": "code",
   "execution_count": null,
   "id": "704fa3d8-ef8f-4bff-9dd6-e71e2a337def",
   "metadata": {
    "execution": {
     "iopub.execute_input": "2025-06-01T15:20:47.470817Z",
     "iopub.status.busy": "2025-06-01T15:20:47.470431Z",
     "iopub.status.idle": "2025-06-01T15:20:47.478671Z",
     "shell.execute_reply": "2025-06-01T15:20:47.478016Z",
     "shell.execute_reply.started": "2025-06-01T15:20:47.470797Z"
    }
   },
   "outputs": [],
   "source": [
    "fig_table1 = \"input_figs/table1_gemcandidates.png\"\n",
    "fig_table2 = \"input_figs/table2_gemcandidates.png\""
   ]
  },
  {
   "cell_type": "code",
   "execution_count": null,
   "id": "3438e6e2-8750-408b-9404-3d2a7dfe3a61",
   "metadata": {
    "execution": {
     "iopub.execute_input": "2025-06-01T15:20:47.479622Z",
     "iopub.status.busy": "2025-06-01T15:20:47.479452Z",
     "iopub.status.idle": "2025-06-01T15:20:47.486365Z",
     "shell.execute_reply": "2025-06-01T15:20:47.485971Z",
     "shell.execute_reply.started": "2025-06-01T15:20:47.479604Z"
    }
   },
   "outputs": [],
   "source": [
    "Image(url= fig_table1,width=800)"
   ]
  },
  {
   "cell_type": "code",
   "execution_count": null,
   "id": "00dce019-3a93-40eb-b700-41468bab7554",
   "metadata": {
    "execution": {
     "iopub.execute_input": "2025-06-01T15:20:47.486959Z",
     "iopub.status.busy": "2025-06-01T15:20:47.486812Z",
     "iopub.status.idle": "2025-06-01T15:20:47.493068Z",
     "shell.execute_reply": "2025-06-01T15:20:47.492719Z",
     "shell.execute_reply.started": "2025-06-01T15:20:47.486945Z"
    }
   },
   "outputs": [],
   "source": [
    "Image(url= fig_table2,width=500)"
   ]
  },
  {
   "cell_type": "code",
   "execution_count": null,
   "id": "169491b5-2f1d-4e12-a1a6-1b755581d0d5",
   "metadata": {
    "execution": {
     "iopub.execute_input": "2025-06-01T15:20:47.493723Z",
     "iopub.status.busy": "2025-06-01T15:20:47.493593Z",
     "iopub.status.idle": "2025-06-01T15:20:47.500117Z",
     "shell.execute_reply": "2025-06-01T15:20:47.499767Z",
     "shell.execute_reply.started": "2025-06-01T15:20:47.493709Z"
    }
   },
   "outputs": [],
   "source": [
    "#15422 44 03:32:38.21 –27:56:53.2 \n",
    "ra1 = \"03:32:38.21 hours\"\n",
    "dec1 = \"-27:56:53.2 degrees\"\n",
    "tile1 = 44\n",
    "\n",
    "#34244 94 03:32:06.45 –27:47:28.6 \n",
    "ra2 = \"03:32:06.45 hours\"\n",
    "dec2 = \"-27:47:28.6 degrees\"\n",
    "tile2 = 94\n",
    "# Je ne trouve pas cette tile ==> FindTileForCutoutGEM\n",
    "tile2 = 32\n",
    "\n",
    "#40173 35 03:33:19.45 –27:44:50.0 \n",
    "ra3 = \"03:33:19.45 hours\"\n",
    "dec3 = \"-27:44:50.0 degrees\"\n",
    "tile3 = 35\n",
    "\n",
    "#43242 45 03:31:55.35 –27:43:23.5 \n",
    "ra4 = \"03:31:55.35 hours\"\n",
    "dec4 = \"-27:43:23.5 degrees\"\n",
    "tile4 = 45\n",
    "\n",
    "#46446 47 03:31:35.94 –27:41:48.2 \n",
    "ra5 = \"03:31:35.94 hours\"\n",
    "dec5 = \"-27:41:48.2 degrees\"\n",
    "tile5 = 47\n",
    "\n",
    "#12589 03:31:24.89 −27:58:07.0\n",
    "ra6 = \"03:31:24.89 hours\"\n",
    "dec6 = \"-27:58:07.0 degrees\"\n",
    "tile6 = 17\n",
    "\n",
    "#43797 03:31:31.74 −27:43:00.8 \n",
    "ra7 = \"03:31:31.74 hours\"\n",
    "dec7 = \"-27:43:00.8 degrees\"\n",
    "tile7 = 47\n",
    "\n",
    "#28294 03:31:50.54 −27:50:28.4 \n",
    "ra8 = \"03:31:50.54 hours\"\n",
    "dec8 = \"-27:50:28.4 degrees\"\n",
    "tile8 = 33\n",
    "\n",
    "#36857 03:31:53.24 −27:46:18.9\n",
    "ra9 = \"03:31:53.24 hours\"\n",
    "dec9 = \"-27:46:18.9 degrees\"\n",
    "tile9 = 38\n",
    "\n",
    "#36714 03:32:59.78 −27:46:26.4 \n",
    "ra10 = \"03:32:59.78 hours\"\n",
    "dec10 = \"-27:46:26.4 degrees\"\n",
    "tile10 = 37\n"
   ]
  },
  {
   "cell_type": "code",
   "execution_count": null,
   "id": "ae1009fe-428c-42f9-bef9-9dcc344bd004",
   "metadata": {
    "execution": {
     "iopub.execute_input": "2025-06-01T15:20:47.500757Z",
     "iopub.status.busy": "2025-06-01T15:20:47.500539Z",
     "iopub.status.idle": "2025-06-01T15:20:47.518570Z",
     "shell.execute_reply": "2025-06-01T15:20:47.518146Z",
     "shell.execute_reply.started": "2025-06-01T15:20:47.500745Z"
    }
   },
   "outputs": [],
   "source": [
    "ra = Angle(ra10)\n",
    "print(ra.degree)\n",
    "dec = Angle(dec10)\n",
    "print(dec.degree)"
   ]
  },
  {
   "cell_type": "code",
   "execution_count": null,
   "id": "85c504b7-1ee1-4d83-9a1a-8b4e4c231103",
   "metadata": {
    "execution": {
     "iopub.execute_input": "2025-06-01T15:20:47.519508Z",
     "iopub.status.busy": "2025-06-01T15:20:47.519273Z",
     "iopub.status.idle": "2025-06-01T15:20:47.526978Z",
     "shell.execute_reply": "2025-06-01T15:20:47.526574Z",
     "shell.execute_reply.started": "2025-06-01T15:20:47.519482Z"
    }
   },
   "outputs": [],
   "source": [
    "lsstcomcam_targets = {}\n",
    "# high rank\n",
    "lsstcomcam_targets[\"ECDFS_G15422\"] = {\"field_name\": \"GEMS-15422\", \"ra\": 53.159208333333325, \"dec\": -27.94811111111111,\"tile\":tile1}\n",
    "lsstcomcam_targets[\"ECDFS_G34244\"] = {\"field_name\": \"GEMS-34244\", \"ra\": 53.02687499999999 , \"dec\": -27.79127777777778,\"tile\":tile2}\n",
    "lsstcomcam_targets[\"ECDFS_G40173\"] = {\"field_name\": \"GEMS-40173\", \"ra\": 53.33104166666666 , \"dec\": -27.747222222222224,\"tile\":tile3}\n",
    "lsstcomcam_targets[\"ECDFS_G43242\"] = {\"field_name\": \"GEMS-43242\", \"ra\": 52.980624999999996 , \"dec\": -27.72319444444444,\"tile\":tile4}\n",
    "lsstcomcam_targets[\"ECDFS_G46446\"] = {\"field_name\": \"GEMS-46446\", \"ra\": 52.89975 , \"dec\": -27.696722222222224,\"tile\":tile5}\n",
    "\n",
    "# low rank\n",
    "lsstcomcam_targets[\"ECDFS_G12589\"] = {\"field_name\": \"GEMS-12589\", \"ra\": 52.85370833333333, \"dec\": -27.96861111111111,\"tile\":tile6}\n",
    "lsstcomcam_targets[\"ECDFS_G43797\"] = {\"field_name\": \"GEMS-43797\", \"ra\": 52.88224999999999, \"dec\": -27.71688888888889,\"tile\":tile7}\n",
    "\n",
    "lsstcomcam_targets[\"ECDFS_G28294\"] = {\"field_name\": \"GEMS-28294\", \"ra\": 52.960583333333325 , \"dec\": -27.84122222222222,\"tile\":tile8}\n",
    "lsstcomcam_targets[\"ECDFS_G6857\"] = {\"field_name\": \"GEMS-6857\", \"ra\": 52.97183333333333 , \"dec\": -27.771916666666666,\"tile\":tile9}\n",
    "lsstcomcam_targets[\"ECDFS_G36714\"] = {\"field_name\": \"GEMS-36714\", \"ra\": 53.249083333333324, \"dec\": -27.773999999999997,\"tile\":tile10}\n"
   ]
  },
  {
   "cell_type": "code",
   "execution_count": null,
   "id": "17ae8de2-0358-4f1e-9443-1a360f662eee",
   "metadata": {
    "execution": {
     "iopub.execute_input": "2025-06-01T15:20:47.527728Z",
     "iopub.status.busy": "2025-06-01T15:20:47.527466Z",
     "iopub.status.idle": "2025-06-01T15:20:47.553929Z",
     "shell.execute_reply": "2025-06-01T15:20:47.553574Z",
     "shell.execute_reply.started": "2025-06-01T15:20:47.527713Z"
    }
   },
   "outputs": [],
   "source": [
    "df = pd.DataFrame(lsstcomcam_targets).T"
   ]
  },
  {
   "cell_type": "code",
   "execution_count": null,
   "id": "76ed9206-dde5-4349-9474-2b6c0cd3fb30",
   "metadata": {
    "execution": {
     "iopub.execute_input": "2025-06-01T15:20:47.554595Z",
     "iopub.status.busy": "2025-06-01T15:20:47.554364Z",
     "iopub.status.idle": "2025-06-01T15:20:47.564603Z",
     "shell.execute_reply": "2025-06-01T15:20:47.564243Z",
     "shell.execute_reply.started": "2025-06-01T15:20:47.554581Z"
    }
   },
   "outputs": [],
   "source": [
    "# candidates\n",
    "#key = \"ECDFS_G15422\"\n",
    "key = \"ECDFS_G34244\"\n",
    "#key = \"ECDFS_G40173\"\n",
    "#key= \"ECDFS_G43242\"\n",
    "#key= \"ECDFS_G46446\"\n",
    "\n",
    "# unknown\n",
    "#key = \"ECDFS_G12589\"\n",
    "#key = \"ECDFS_G43797\"\n",
    "#key = \"ECDFS_G28294\"\n",
    "#key = \"ECDFS_G6857\"\n",
    "#key = \"ECDFS_G36714\"\n",
    "\n",
    "the_target = lsstcomcam_targets[key]\n",
    "target_ra = the_target[\"ra\"]\n",
    "target_dec = the_target[\"dec\"]\n",
    "target_name = the_target[\"field_name\"]\n",
    "tile_num = the_target[\"tile\"]\n",
    "target_coord = SkyCoord(ra=target_ra, dec=target_dec, unit=(u.deg, u.deg))\n",
    "\n",
    "target_title = (\n",
    "    the_target[\"field_name\"] + f\" (ra,dec) = ({target_ra:.2f},{target_dec:.2f}) \"\n",
    ")"
   ]
  },
  {
   "cell_type": "markdown",
   "id": "f896b114-1536-4bcf-8760-c241edca67be",
   "metadata": {},
   "source": [
    "### Access to remote files"
   ]
  },
  {
   "cell_type": "markdown",
   "id": "41db001a-5ea9-4435-bcf9-663068aa94b6",
   "metadata": {},
   "source": [
    "- visual selection of the tiles : https://archive.stsci.edu/prepds/gems/browser.html\n",
    "- path file download : https://archive.stsci.edu/pub/hlsp/gems/v_mk1/"
   ]
  },
  {
   "cell_type": "markdown",
   "id": "20b735e7-1677-4a36-b6b7-ab47b6659e3e",
   "metadata": {},
   "source": [
    "### Config\n",
    "\n",
    "- http://archive.stsci.edu/pub/hlsp/gems/v_mk1/h_gems_v35_mk1.fits\n",
    "- url = f\"http://archive.stsci.edu/pub/hlsp/gems/z_mk1/h_gems_z{tile_num}_mk1.fits\""
   ]
  },
  {
   "cell_type": "code",
   "execution_count": null,
   "id": "1900bb2b-49b5-4d55-a8c1-ea0f9e978a24",
   "metadata": {
    "execution": {
     "iopub.execute_input": "2025-06-01T15:20:47.565221Z",
     "iopub.status.busy": "2025-06-01T15:20:47.565015Z",
     "iopub.status.idle": "2025-06-01T15:20:47.573191Z",
     "shell.execute_reply": "2025-06-01T15:20:47.572574Z",
     "shell.execute_reply.started": "2025-06-01T15:20:47.565207Z"
    }
   },
   "outputs": [],
   "source": [
    "toppath_gemscutout = \"../2025-05-24-GEMS\"\n",
    "toppath_rubincutout = \"../2025-05-24-SL-ECDFS-Fit/data\""
   ]
  },
  {
   "cell_type": "code",
   "execution_count": null,
   "id": "24fddcf3-741e-4848-8c64-ffb6374c061b",
   "metadata": {
    "execution": {
     "iopub.execute_input": "2025-06-01T15:20:47.577799Z",
     "iopub.status.busy": "2025-06-01T15:20:47.577629Z",
     "iopub.status.idle": "2025-06-01T15:20:47.580964Z",
     "shell.execute_reply": "2025-06-01T15:20:47.580496Z",
     "shell.execute_reply.started": "2025-06-01T15:20:47.577785Z"
    }
   },
   "outputs": [],
   "source": [
    "#! ls ../2025-05-24-GEMS"
   ]
  },
  {
   "cell_type": "code",
   "execution_count": null,
   "id": "ebb605fa-9a01-4fc2-a7a8-b6aa55cb582a",
   "metadata": {
    "execution": {
     "iopub.execute_input": "2025-06-01T15:20:47.581526Z",
     "iopub.status.busy": "2025-06-01T15:20:47.581393Z",
     "iopub.status.idle": "2025-06-01T15:20:47.588240Z",
     "shell.execute_reply": "2025-06-01T15:20:47.587850Z",
     "shell.execute_reply.started": "2025-06-01T15:20:47.581512Z"
    }
   },
   "outputs": [],
   "source": [
    "#ls ../2025-05-24-SL-ECDFS-Fit/data/G43797"
   ]
  },
  {
   "cell_type": "markdown",
   "id": "f6bc8efd-28b9-445e-9bbd-abf22b5c5e6a",
   "metadata": {},
   "source": [
    "### Choose the good index"
   ]
  },
  {
   "cell_type": "code",
   "execution_count": null,
   "id": "7a448125-56a5-4c75-ba87-0d2959ec64dc",
   "metadata": {
    "execution": {
     "iopub.execute_input": "2025-06-01T15:20:47.589021Z",
     "iopub.status.busy": "2025-06-01T15:20:47.588849Z",
     "iopub.status.idle": "2025-06-01T15:20:47.595348Z",
     "shell.execute_reply": "2025-06-01T15:20:47.594860Z",
     "shell.execute_reply.started": "2025-06-01T15:20:47.589007Z"
    }
   },
   "outputs": [],
   "source": [
    "all_gems_id_numbers = [15422,34244,40173,43242,46446, 12589,43797,28294,6857,36714]\n",
    "NSL = len(all_gems_id_numbers)"
   ]
  },
  {
   "cell_type": "code",
   "execution_count": null,
   "id": "f929e1a5-0f8f-487b-8e82-d3f072f977a6",
   "metadata": {
    "execution": {
     "iopub.execute_input": "2025-06-01T15:20:47.596231Z",
     "iopub.status.busy": "2025-06-01T15:20:47.595886Z",
     "iopub.status.idle": "2025-06-01T15:20:47.602629Z",
     "shell.execute_reply": "2025-06-01T15:20:47.602159Z",
     "shell.execute_reply.started": "2025-06-01T15:20:47.596213Z"
    }
   },
   "outputs": [],
   "source": [
    "idx = 1\n",
    "print(all_gems_id_numbers[idx])"
   ]
  },
  {
   "cell_type": "code",
   "execution_count": null,
   "id": "e3701431-fb72-44a3-93ca-d7a4e702d013",
   "metadata": {
    "execution": {
     "iopub.execute_input": "2025-06-01T15:20:47.603328Z",
     "iopub.status.busy": "2025-06-01T15:20:47.603175Z",
     "iopub.status.idle": "2025-06-01T15:20:47.609454Z",
     "shell.execute_reply": "2025-06-01T15:20:47.609017Z",
     "shell.execute_reply.started": "2025-06-01T15:20:47.603313Z"
    }
   },
   "outputs": [],
   "source": [
    "sl_number = all_gems_id_numbers[idx]"
   ]
  },
  {
   "cell_type": "code",
   "execution_count": null,
   "id": "cf5f0ae1-5da2-45f5-821f-d34f9fc29ce6",
   "metadata": {
    "execution": {
     "iopub.execute_input": "2025-06-01T15:20:47.610182Z",
     "iopub.status.busy": "2025-06-01T15:20:47.609992Z",
     "iopub.status.idle": "2025-06-01T15:20:47.622434Z",
     "shell.execute_reply": "2025-06-01T15:20:47.621678Z",
     "shell.execute_reply.started": "2025-06-01T15:20:47.610167Z"
    }
   },
   "outputs": [],
   "source": [
    "#sl_number = all_gems_id_numbers[idx]\n",
    "#sl_number = int(re.findall(\"^ECDFS_G(.*)$\",key)[0])\n",
    "\n",
    "key  = f\"ECDFS_G{sl_number}\"\n",
    "has_v = key != \"ECDFS_G15422\"\n",
    "\n",
    "the_target = lsstcomcam_targets[key]\n",
    "target_ra = the_target[\"ra\"]\n",
    "target_dec = the_target[\"dec\"]\n",
    "target_name = the_target[\"field_name\"]\n",
    "tile_num = the_target[\"tile\"]\n",
    "target_coord = SkyCoord(ra=target_ra, dec=target_dec, unit=(u.deg, u.deg))\n",
    "\n",
    "target_title = (\n",
    "    the_target[\"field_name\"] + f\" (ra,dec) = ({target_ra:.2f},{target_dec:.2f}) \"\n",
    ")\n",
    "\n",
    "subpath1 = f\"G{sl_number}\"\n",
    "path1_lsst = os.path.join(toppath_rubincutout,subpath1)\n",
    "path2_gems = toppath_gemscutout\n",
    "\n",
    "# band 1 : rubin (g,r,i,z,y)\n",
    "bands1 = [\"g\",\"i\",\"z\"]\n",
    "band1_lupton = f\"lsst RGB : {tuple(bands1)}\"\n",
    "band1_colors = f\"lsst color : {bands1[0]} - {bands1[-1]}\"\n",
    "\n",
    "# band 2 : gem-hst (v,z)\n",
    "if has_v:\n",
    "    bands2 = [\"v\",\"z\"]\n",
    "    band2_colors = f\"gems color : {bands2[0]} - {bands2[-1]}\"\n",
    "    band2_lupton = f\"gems RGB : {tuple(bands2)}\"\n",
    "else:\n",
    "    bands2 = [\"z\"]\n",
    "    band2_colors = f\"gems color : None \"\n",
    "\n",
    "# field of view : 6 arcsec\n",
    "fov_deg = 6.0/3600.\n",
    "\n",
    "corner1 = SkyCoord(target_ra - fov_deg / 2, target_dec - fov_deg / 2, unit=\"deg\")\n",
    "corner2 = SkyCoord(target_ra + fov_deg / 2, target_dec + fov_deg / 2, unit=\"deg\")\n"
   ]
  },
  {
   "cell_type": "code",
   "execution_count": null,
   "id": "bb9a5e9d-37a2-4477-a3dd-70c373a38c07",
   "metadata": {
    "execution": {
     "iopub.execute_input": "2025-06-01T15:20:47.623587Z",
     "iopub.status.busy": "2025-06-01T15:20:47.623360Z",
     "iopub.status.idle": "2025-06-01T15:20:47.631896Z",
     "shell.execute_reply": "2025-06-01T15:20:47.631420Z",
     "shell.execute_reply.started": "2025-06-01T15:20:47.623550Z"
    }
   },
   "outputs": [],
   "source": [
    "# --- Remplace par tes fichiers FITS ---\n",
    "all_files1 = []\n",
    "all_fullfilenames1 = []\n",
    "for band1 in bands1:\n",
    "    file1 = f\"cutout_wcs_ECDFS_{subpath1}_{band1}.fits\"\n",
    "    fullfilename1 = os.path.join(path1_lsst ,file1)\n",
    "    all_files1.append(file1)\n",
    "    all_fullfilenames1.append(fullfilename1) \n",
    "\n",
    "all_files2 = []\n",
    "all_fullfilenames2 = []\n",
    "for band2 in bands2:\n",
    "    file2 = f\"cutout_gems_ECDFS_{subpath1}_b{band2}.fits\"\n",
    "    fullfilename2 = os.path.join(path2_gems ,file2)\n",
    "    all_files2.append(file2)\n",
    "    all_fullfilenames2.append(fullfilename2) \n",
    "    "
   ]
  },
  {
   "cell_type": "code",
   "execution_count": null,
   "id": "f9c51851-f08b-489e-b268-507afe7bf99b",
   "metadata": {
    "execution": {
     "iopub.execute_input": "2025-06-01T15:20:47.632855Z",
     "iopub.status.busy": "2025-06-01T15:20:47.632656Z",
     "iopub.status.idle": "2025-06-01T15:20:48.431295Z",
     "shell.execute_reply": "2025-06-01T15:20:48.430795Z",
     "shell.execute_reply.started": "2025-06-01T15:20:47.632832Z"
    }
   },
   "outputs": [],
   "source": [
    "all_images1 = [ loadlsst_fits_image_with_norm(path) for path in all_fullfilenames1]\n",
    "all_images2 = [ loadgems_fits_image_with_norm(path) for path in all_fullfilenames2]"
   ]
  },
  {
   "cell_type": "code",
   "execution_count": null,
   "id": "a2e4a089-6c87-4ac1-a31c-b402d3ca6233",
   "metadata": {
    "execution": {
     "iopub.execute_input": "2025-06-01T15:20:48.431995Z",
     "iopub.status.busy": "2025-06-01T15:20:48.431854Z",
     "iopub.status.idle": "2025-06-01T15:20:48.436114Z",
     "shell.execute_reply": "2025-06-01T15:20:48.435639Z",
     "shell.execute_reply.started": "2025-06-01T15:20:48.431979Z"
    }
   },
   "outputs": [],
   "source": [
    "def getluptonsanddiff(all_images1,all_images2):\n",
    "    \"\"\"\n",
    "    \"\"\"\n",
    "\n",
    "    lsst_lupton = make_lupton_image(data_b = all_images1[0][0],\n",
    "                                data_g = all_images1[1][0], \n",
    "                                data_r = all_images1[2][0])\n",
    "\n",
    "    if has_v:\n",
    "        gems_lupton = make_lupton_image(data_b = all_images2[0][0],\n",
    "                                data_g = 0.5*(all_images2[0][0]+all_images2[1][0]), \n",
    "                                data_r = all_images2[1][0])\n",
    "    else:\n",
    "        gems_lupton = all_images2[0][0]\n",
    "    \n",
    "\n",
    "\n",
    "\n",
    "    lsst_diff = compute_color_difference(all_images1[0][0], all_images1[-1][0])\n",
    "    common_vmin,common_vmax = compute_common_limits(lsst_diff, quantile_clip=0.01)\n",
    "    lsst_norm = simple_norm(lsst_diff, stretch='linear', vmin=common_vmin, vmax=common_vmax)\n",
    "\n",
    "    gems_diff = compute_color_difference(all_images2[0][0], all_images2[-1][0])\n",
    "    common_vmin,common_vmax = compute_common_limits(gems_diff, quantile_clip=0.01)\n",
    "    gems_norm = simple_norm(gems_diff, stretch='linear', vmin=common_vmin, vmax=common_vmax)\n",
    "\n",
    "    return lsst_lupton, gems_lupton , lsst_diff, gems_diff, lsst_norm,  gems_norm \n"
   ]
  },
  {
   "cell_type": "code",
   "execution_count": null,
   "id": "a18f634c-5c91-496d-bef8-80b11d207fd2",
   "metadata": {
    "execution": {
     "iopub.execute_input": "2025-06-01T15:20:48.436712Z",
     "iopub.status.busy": "2025-06-01T15:20:48.436581Z",
     "iopub.status.idle": "2025-06-01T15:20:48.444386Z",
     "shell.execute_reply": "2025-06-01T15:20:48.443947Z",
     "shell.execute_reply.started": "2025-06-01T15:20:48.436700Z"
    }
   },
   "outputs": [],
   "source": [
    "def plotluptonsanddiff(lsst_lupton, gems_lupton , lsst_diff, gems_diff, lsst_norm,  gems_norm,wcs1,wcs2):\n",
    "    \"\"\"\n",
    "    \"\"\"\n",
    "    fig = plt.figure(figsize=(14, 14))\n",
    "\n",
    "    # Image RGB LSST\n",
    "    ax1 = fig.add_subplot(2, 2, 1, projection=wcs1)\n",
    "    ax1.imshow(lsst_lupton, origin=\"lower\")\n",
    "    ax1.set_title(\"LSSTComCam \" + band1_lupton)\n",
    "\n",
    "    # Image RGB GEMS\n",
    "    ax2 = fig.add_subplot(2, 2, 2, projection=wcs2)\n",
    "    ax2.imshow(gems_lupton, origin=\"lower\")\n",
    "    ax2.set_title(\"HST-GEMS \" + band2_lupton)\n",
    "\n",
    "    # Diff LSST\n",
    "    ax3 = fig.add_subplot(2, 2, 3, projection=wcs1)\n",
    "    im3 = ax3.imshow(lsst_diff, origin=\"lower\", cmap=\"seismic\", norm=lsst_norm)\n",
    "    ax3.set_title(band1_colors)\n",
    "    cbar3 = fig.colorbar(im3, ax=ax3, orientation=\"horizontal\", pad=0.1)\n",
    "    cbar3.set_label(\"color (mag)\")\n",
    "\n",
    "    # Diff GEMS\n",
    "    ax4 = fig.add_subplot(2, 2, 4, projection=wcs2)\n",
    "    im4 = ax4.imshow(gems_diff, origin=\"lower\", cmap=\"seismic\", norm=gems_norm)\n",
    "    ax4.set_title(band2_colors)\n",
    "    cbar4 = fig.colorbar(im4, ax=ax4, orientation=\"horizontal\", pad=0.1)\n",
    "    cbar4.set_label(\"color (mag)\")\n",
    "\n",
    "    plt.suptitle(key, fontweight=\"bold\", fontsize=20)\n",
    "    #plt.tight_layout(rect=[0, 0, 1, 0.96])  # laisse de la place au titre\n",
    "\n",
    "    # Ajuster l'espacement vertical entre les lignes\n",
    "    fig.subplots_adjust(hspace=0.08)  # diminue la hauteur entre les lignes\n",
    "    #plt.tight_layout(rect=[0, 0, 1, 0.96])  # laisse de la place pour le titre\n",
    "    #plt.tight_layout(rect=[0, 0, 1, 0.8])  # laisse de la place pour le titre\n",
    "    plt.tight_layout()\n",
    "    plt.show()\n"
   ]
  },
  {
   "cell_type": "code",
   "execution_count": null,
   "id": "fa10fa49-6a47-4fb9-adf7-055b89179bcb",
   "metadata": {
    "execution": {
     "iopub.execute_input": "2025-06-01T15:20:48.445029Z",
     "iopub.status.busy": "2025-06-01T15:20:48.444902Z",
     "iopub.status.idle": "2025-06-01T15:20:48.457963Z",
     "shell.execute_reply": "2025-06-01T15:20:48.457538Z",
     "shell.execute_reply.started": "2025-06-01T15:20:48.445018Z"
    }
   },
   "outputs": [],
   "source": [
    "lsst_lupton, gems_lupton , lsst_diff, gems_diff, lsst_norm,  gems_norm  = getluptonsanddiff(all_images1,all_images2)"
   ]
  },
  {
   "cell_type": "code",
   "execution_count": null,
   "id": "60c2a4c2-4ae4-4892-8498-6d2b9933dcc7",
   "metadata": {
    "execution": {
     "iopub.execute_input": "2025-06-01T15:20:48.458619Z",
     "iopub.status.busy": "2025-06-01T15:20:48.458475Z",
     "iopub.status.idle": "2025-06-01T15:20:54.649560Z",
     "shell.execute_reply": "2025-06-01T15:20:54.649115Z",
     "shell.execute_reply.started": "2025-06-01T15:20:48.458606Z"
    }
   },
   "outputs": [],
   "source": [
    "wcs1 = all_images1[0][1]\n",
    "wcs2 = all_images2[0][1]\n",
    "plotluptonsanddiff(lsst_lupton, gems_lupton , lsst_diff, gems_diff, lsst_norm,  gems_norm,wcs1,wcs2)"
   ]
  },
  {
   "cell_type": "code",
   "execution_count": null,
   "id": "f94dd514-d501-425d-a825-2ed65046cb5d",
   "metadata": {
    "execution": {
     "iopub.execute_input": "2025-06-01T15:20:54.650284Z",
     "iopub.status.busy": "2025-06-01T15:20:54.650138Z",
     "iopub.status.idle": "2025-06-01T15:21:56.736724Z",
     "shell.execute_reply": "2025-06-01T15:21:56.736222Z",
     "shell.execute_reply.started": "2025-06-01T15:20:54.650267Z"
    }
   },
   "outputs": [],
   "source": [
    "for idx in range(0,NSL):\n",
    "    sl_number = all_gems_id_numbers[idx]\n",
    "\n",
    "    key  = f\"ECDFS_G{sl_number}\"\n",
    "    has_v = key != \"ECDFS_G15422\"\n",
    "\n",
    "    the_target = lsstcomcam_targets[key]\n",
    "    target_ra = the_target[\"ra\"]\n",
    "    target_dec = the_target[\"dec\"]\n",
    "    target_name = the_target[\"field_name\"]\n",
    "    tile_num = the_target[\"tile\"]\n",
    "    target_coord = SkyCoord(ra=target_ra, dec=target_dec, unit=(u.deg, u.deg))\n",
    "\n",
    "    target_title = (\n",
    "    the_target[\"field_name\"] + f\" (ra,dec) = ({target_ra:.2f},{target_dec:.2f}) \"\n",
    "    )\n",
    "\n",
    "    subpath1 = f\"G{sl_number}\"\n",
    "    path1_lsst = os.path.join(toppath_rubincutout,subpath1)\n",
    "    path2_gems = toppath_gemscutout\n",
    "\n",
    "    # band 1 : rubin (g,r,i,z,y)\n",
    "    bands1 = [\"g\",\"i\",\"z\"]\n",
    "    band1_lupton = f\"lsst RGB : {tuple(bands1)}\"\n",
    "    band1_colors = f\"lsst color : {bands1[0]} - {bands1[-1]}\"\n",
    "\n",
    "    # band 2 : gem-hst (v,z)\n",
    "    if has_v:\n",
    "        bands2 = [\"v\",\"z\"]\n",
    "        band2_colors = f\"gems color : {bands2[0]} - {bands2[-1]}\"\n",
    "        band2_lupton = f\"gems RGB : {tuple(bands2)}\"\n",
    "    else:\n",
    "        bands2 = [\"z\"]\n",
    "        band2_colors = f\"gems color : None \"\n",
    "\n",
    "\n",
    "    all_files1 = []\n",
    "    all_fullfilenames1 = []\n",
    "    for band1 in bands1:\n",
    "        file1 = f\"cutout_wcs_ECDFS_{subpath1}_{band1}.fits\"\n",
    "        fullfilename1 = os.path.join(path1_lsst ,file1)\n",
    "        all_files1.append(file1)\n",
    "        all_fullfilenames1.append(fullfilename1) \n",
    "\n",
    "    all_files2 = []\n",
    "    all_fullfilenames2 = []\n",
    "    for band2 in bands2:\n",
    "        file2 = f\"cutout_gems_ECDFS_{subpath1}_b{band2}.fits\"\n",
    "        fullfilename2 = os.path.join(path2_gems ,file2)\n",
    "        all_files2.append(file2)\n",
    "        all_fullfilenames2.append(fullfilename2) \n",
    "\n",
    "    all_images1 = [ loadlsst_fits_image_with_norm(path) for path in all_fullfilenames1]\n",
    "    all_images2 = [ loadgems_fits_image_with_norm(path) for path in all_fullfilenames2]\n",
    "\n",
    "    wcs1 = all_images1[0][1]\n",
    "    wcs2 = all_images2[0][1]\n",
    "\n",
    "    lsst_lupton, gems_lupton , lsst_diff, gems_diff, lsst_norm,  gems_norm  = getluptonsanddiff(all_images1,all_images2)\n",
    "    plotluptonsanddiff(lsst_lupton, gems_lupton , lsst_diff, gems_diff, lsst_norm,  gems_norm,wcs1,wcs2)\n",
    "\n",
    "\n",
    "        \n",
    "    "
   ]
  },
  {
   "cell_type": "code",
   "execution_count": null,
   "id": "0c580834-ea7b-431d-9ea7-c3beb1aa0066",
   "metadata": {},
   "outputs": [],
   "source": []
  }
 ],
 "metadata": {
  "kernelspec": {
   "display_name": "LSST",
   "language": "python",
   "name": "lsst"
  },
  "language_info": {
   "codemirror_mode": {
    "name": "ipython",
    "version": 3
   },
   "file_extension": ".py",
   "mimetype": "text/x-python",
   "name": "python",
   "nbconvert_exporter": "python",
   "pygments_lexer": "ipython3",
   "version": "3.12.10"
  }
 },
 "nbformat": 4,
 "nbformat_minor": 5
}
