{
 "cells": [
  {
   "cell_type": "markdown",
   "id": "434b4c03-b5a4-4f55-9208-dac2bc9e9c43",
   "metadata": {},
   "source": [
    "## Compare SL images  GEMS Rubin\n",
    "\n",
    "- author : Sylvie Dagoret-Campagne\n",
    "- creation date : 2025-05-24\n",
    "- last update : 2025-05-29 : improve showing same xmin,xmax, ymin,ymax"
   ]
  },
  {
   "cell_type": "code",
   "execution_count": null,
   "id": "07174771-40a6-47ce-a28d-6ac64cce51bc",
   "metadata": {
    "execution": {
     "iopub.execute_input": "2025-05-31T20:28:42.592983Z",
     "iopub.status.busy": "2025-05-31T20:28:42.592851Z",
     "iopub.status.idle": "2025-05-31T20:28:42.627285Z",
     "shell.execute_reply": "2025-05-31T20:28:42.626864Z",
     "shell.execute_reply.started": "2025-05-31T20:28:42.592967Z"
    }
   },
   "outputs": [],
   "source": [
    "import astroquery\n",
    "print(astroquery.__version__)"
   ]
  },
  {
   "cell_type": "markdown",
   "id": "37dcd3ab-0bc6-4823-a38e-764bc978e075",
   "metadata": {},
   "source": [
    "https://stackoverflow.com/questions/59699193/how-to-obtain-2d-cutout-of-an-image-from-a-skycoord-position"
   ]
  },
  {
   "cell_type": "code",
   "execution_count": null,
   "id": "e5b6a9a2-c252-45b3-983e-61d03c131706",
   "metadata": {
    "execution": {
     "iopub.execute_input": "2025-05-31T20:28:42.627988Z",
     "iopub.status.busy": "2025-05-31T20:28:42.627727Z",
     "iopub.status.idle": "2025-05-31T20:28:43.031725Z",
     "shell.execute_reply": "2025-05-31T20:28:43.031205Z",
     "shell.execute_reply.started": "2025-05-31T20:28:42.627974Z"
    }
   },
   "outputs": [],
   "source": [
    "import matplotlib.pyplot as plt\n",
    "from astropy.io import fits\n",
    "from astropy.wcs import WCS\n",
    "import os\n",
    "import re\n",
    "import numpy as np"
   ]
  },
  {
   "cell_type": "code",
   "execution_count": null,
   "id": "91d47536-6176-4ae1-a5ab-4b5fbaf6ac02",
   "metadata": {
    "execution": {
     "iopub.execute_input": "2025-05-31T20:28:43.032606Z",
     "iopub.status.busy": "2025-05-31T20:28:43.032331Z",
     "iopub.status.idle": "2025-05-31T20:28:43.364606Z",
     "shell.execute_reply": "2025-05-31T20:28:43.364046Z",
     "shell.execute_reply.started": "2025-05-31T20:28:43.032591Z"
    }
   },
   "outputs": [],
   "source": [
    "# For Angle conversion\n",
    "from astropy.coordinates import Angle\n",
    "import astropy.units as u\n",
    "from astropy.coordinates import SkyCoord\n",
    "import pandas as pd\n",
    "import numpy as np\n",
    "from astropy.nddata import Cutout2D"
   ]
  },
  {
   "cell_type": "code",
   "execution_count": null,
   "id": "e58b4408-ff6e-4cf8-85bd-369f971e433e",
   "metadata": {
    "execution": {
     "iopub.execute_input": "2025-05-31T20:28:43.365531Z",
     "iopub.status.busy": "2025-05-31T20:28:43.365278Z",
     "iopub.status.idle": "2025-05-31T20:28:43.375780Z",
     "shell.execute_reply": "2025-05-31T20:28:43.375346Z",
     "shell.execute_reply.started": "2025-05-31T20:28:43.365515Z"
    }
   },
   "outputs": [],
   "source": [
    "from astropy.visualization import ZScaleInterval, AsinhStretch, ImageNormalize\n",
    "from astropy.visualization import ZScaleInterval, simple_norm, make_lupton_rgb"
   ]
  },
  {
   "cell_type": "code",
   "execution_count": null,
   "id": "96deddc5-6828-4821-a86d-276f8db335ce",
   "metadata": {
    "execution": {
     "iopub.execute_input": "2025-05-31T20:28:43.376521Z",
     "iopub.status.busy": "2025-05-31T20:28:43.376285Z",
     "iopub.status.idle": "2025-05-31T20:28:43.397201Z",
     "shell.execute_reply": "2025-05-31T20:28:43.396728Z",
     "shell.execute_reply.started": "2025-05-31T20:28:43.376507Z"
    }
   },
   "outputs": [],
   "source": [
    "from IPython.display import Image, display"
   ]
  },
  {
   "cell_type": "code",
   "execution_count": null,
   "id": "848cadd2-2cf6-40a8-86a1-92d230755610",
   "metadata": {
    "execution": {
     "iopub.execute_input": "2025-05-31T20:28:43.397834Z",
     "iopub.status.busy": "2025-05-31T20:28:43.397703Z",
     "iopub.status.idle": "2025-05-31T20:28:43.404191Z",
     "shell.execute_reply": "2025-05-31T20:28:43.403693Z",
     "shell.execute_reply.started": "2025-05-31T20:28:43.397821Z"
    }
   },
   "outputs": [],
   "source": [
    "plt.rcParams[\"figure.figsize\"] = (4,3)\n",
    "plt.rcParams[\"axes.labelsize\"] = 'xx-large'\n",
    "plt.rcParams['axes.titlesize'] = 'xx-large'\n",
    "plt.rcParams['xtick.labelsize']= 'xx-large'\n",
    "plt.rcParams['ytick.labelsize']= 'xx-large'"
   ]
  },
  {
   "cell_type": "code",
   "execution_count": null,
   "id": "86174406-b7e7-488c-8e24-0c4b6bf6ac17",
   "metadata": {
    "execution": {
     "iopub.execute_input": "2025-05-31T20:28:43.404779Z",
     "iopub.status.busy": "2025-05-31T20:28:43.404654Z",
     "iopub.status.idle": "2025-05-31T20:28:43.411790Z",
     "shell.execute_reply": "2025-05-31T20:28:43.411368Z",
     "shell.execute_reply.started": "2025-05-31T20:28:43.404767Z"
    }
   },
   "outputs": [],
   "source": [
    "def loadgems_fits_image_with_norm(path):\n",
    "    from astropy.io import fits\n",
    "    from astropy.wcs import WCS\n",
    "    with fits.open(path) as hdul:\n",
    "        data = hdul[0].data\n",
    "        wcs = WCS(hdul[0].header)\n",
    "    vmin, vmax = ZScaleInterval().get_limits(data)\n",
    "    #norm = simple_norm(data, stretch='asinh', min_cut=vmin, max_cut=vmax)\n",
    "    norm = simple_norm(data, stretch='asinh', vmin=vmin, vmax=vmax)\n",
    "    return data, wcs, norm\n"
   ]
  },
  {
   "cell_type": "code",
   "execution_count": null,
   "id": "9da0a74a-c5e6-4cfa-8a1b-872b325bd415",
   "metadata": {
    "execution": {
     "iopub.execute_input": "2025-05-31T20:28:43.412382Z",
     "iopub.status.busy": "2025-05-31T20:28:43.412255Z",
     "iopub.status.idle": "2025-05-31T20:28:43.419240Z",
     "shell.execute_reply": "2025-05-31T20:28:43.418853Z",
     "shell.execute_reply.started": "2025-05-31T20:28:43.412370Z"
    }
   },
   "outputs": [],
   "source": [
    "def loadlsst_fits_image_with_norm(path):\n",
    "    \"\"\"\n",
    "    Load rubin cutout adapted to rubin LSST\n",
    "    \"\"\"\n",
    "    with fits.open(path) as hdul:\n",
    "        # where is the image\n",
    "        data = hdul[1].data\n",
    "        if data is None:\n",
    "            raise ValueError(f\"No image data in {path}\")\n",
    "        # where is the header that contains WCS\n",
    "        wcs = WCS(hdul[0].header)\n",
    "        \n",
    "    vmin, vmax = ZScaleInterval().get_limits(data)\n",
    "    norm = simple_norm(data, stretch='asinh', vmin=vmin, vmax=vmax)\n",
    "    return data, wcs, norm"
   ]
  },
  {
   "cell_type": "code",
   "execution_count": null,
   "id": "be3e4d0b-8717-4f07-9a5c-820d4de85481",
   "metadata": {
    "execution": {
     "iopub.execute_input": "2025-05-31T20:28:43.419934Z",
     "iopub.status.busy": "2025-05-31T20:28:43.419688Z",
     "iopub.status.idle": "2025-05-31T20:28:43.426124Z",
     "shell.execute_reply": "2025-05-31T20:28:43.425757Z",
     "shell.execute_reply.started": "2025-05-31T20:28:43.419919Z"
    }
   },
   "outputs": [],
   "source": [
    "def make_lupton_image(data_b, data_g, data_r, stretch=0.02, Q=10):\n",
    "    return make_lupton_rgb(image_r=data_r, image_g=data_g, image_b=data_b,\n",
    "                           stretch=stretch, Q=Q)"
   ]
  },
  {
   "cell_type": "markdown",
   "id": "13e83e75-543c-4373-92e2-38ca692aa3fc",
   "metadata": {},
   "source": [
    "## Configuration"
   ]
  },
  {
   "cell_type": "markdown",
   "id": "aedcfe02-8a4f-48cb-8ada-a5e8b080a3f2",
   "metadata": {},
   "source": [
    "### Target in ECDFS\n",
    "\n",
    "- path to article : https://arxiv.org/pdf/1104.0931\n",
    "- visual selection of the tiles : https://archive.stsci.edu/prepds/gems/browser.html\n",
    "- path file download : https://archive.stsci.edu/pub/hlsp/gems/v_mk1/"
   ]
  },
  {
   "cell_type": "code",
   "execution_count": null,
   "id": "704fa3d8-ef8f-4bff-9dd6-e71e2a337def",
   "metadata": {
    "execution": {
     "iopub.execute_input": "2025-05-31T20:28:43.426833Z",
     "iopub.status.busy": "2025-05-31T20:28:43.426571Z",
     "iopub.status.idle": "2025-05-31T20:28:43.433268Z",
     "shell.execute_reply": "2025-05-31T20:28:43.432904Z",
     "shell.execute_reply.started": "2025-05-31T20:28:43.426819Z"
    }
   },
   "outputs": [],
   "source": [
    "fig_table1 = \"input_figs/table1_gemcandidates.png\"\n",
    "fig_table2 = \"input_figs/table2_gemcandidates.png\""
   ]
  },
  {
   "cell_type": "code",
   "execution_count": null,
   "id": "3438e6e2-8750-408b-9404-3d2a7dfe3a61",
   "metadata": {
    "execution": {
     "iopub.execute_input": "2025-05-31T20:28:43.434042Z",
     "iopub.status.busy": "2025-05-31T20:28:43.433706Z",
     "iopub.status.idle": "2025-05-31T20:28:43.441167Z",
     "shell.execute_reply": "2025-05-31T20:28:43.440792Z",
     "shell.execute_reply.started": "2025-05-31T20:28:43.434029Z"
    }
   },
   "outputs": [],
   "source": [
    "Image(url= fig_table1,width=800)"
   ]
  },
  {
   "cell_type": "code",
   "execution_count": null,
   "id": "00dce019-3a93-40eb-b700-41468bab7554",
   "metadata": {
    "execution": {
     "iopub.execute_input": "2025-05-31T20:28:43.441727Z",
     "iopub.status.busy": "2025-05-31T20:28:43.441599Z",
     "iopub.status.idle": "2025-05-31T20:28:43.448405Z",
     "shell.execute_reply": "2025-05-31T20:28:43.448034Z",
     "shell.execute_reply.started": "2025-05-31T20:28:43.441715Z"
    }
   },
   "outputs": [],
   "source": [
    "Image(url= fig_table2,width=500)"
   ]
  },
  {
   "cell_type": "code",
   "execution_count": null,
   "id": "169491b5-2f1d-4e12-a1a6-1b755581d0d5",
   "metadata": {
    "execution": {
     "iopub.execute_input": "2025-05-31T20:28:43.449070Z",
     "iopub.status.busy": "2025-05-31T20:28:43.448941Z",
     "iopub.status.idle": "2025-05-31T20:28:43.455435Z",
     "shell.execute_reply": "2025-05-31T20:28:43.455066Z",
     "shell.execute_reply.started": "2025-05-31T20:28:43.449059Z"
    }
   },
   "outputs": [],
   "source": [
    "#15422 44 03:32:38.21 –27:56:53.2 \n",
    "ra1 = \"03:32:38.21 hours\"\n",
    "dec1 = \"-27:56:53.2 degrees\"\n",
    "tile1 = 44\n",
    "\n",
    "#34244 94 03:32:06.45 –27:47:28.6 \n",
    "ra2 = \"03:32:06.45 hours\"\n",
    "dec2 = \"-27:47:28.6 degrees\"\n",
    "tile2 = 94\n",
    "# Je ne trouve pas cette tile ==> FindTileForCutoutGEM\n",
    "tile2 = 32\n",
    "\n",
    "#40173 35 03:33:19.45 –27:44:50.0 \n",
    "ra3 = \"03:33:19.45 hours\"\n",
    "dec3 = \"-27:44:50.0 degrees\"\n",
    "tile3 = 35\n",
    "\n",
    "#43242 45 03:31:55.35 –27:43:23.5 \n",
    "ra4 = \"03:31:55.35 hours\"\n",
    "dec4 = \"-27:43:23.5 degrees\"\n",
    "tile4 = 45\n",
    "\n",
    "#46446 47 03:31:35.94 –27:41:48.2 \n",
    "ra5 = \"03:31:35.94 hours\"\n",
    "dec5 = \"-27:41:48.2 degrees\"\n",
    "tile5 = 47\n",
    "\n",
    "#12589 03:31:24.89 −27:58:07.0\n",
    "ra6 = \"03:31:24.89 hours\"\n",
    "dec6 = \"-27:58:07.0 degrees\"\n",
    "tile6 = 17\n",
    "\n",
    "#43797 03:31:31.74 −27:43:00.8 \n",
    "ra7 = \"03:31:31.74 hours\"\n",
    "dec7 = \"-27:43:00.8 degrees\"\n",
    "tile7 = 47\n",
    "\n",
    "#28294 03:31:50.54 −27:50:28.4 \n",
    "ra8 = \"03:31:50.54 hours\"\n",
    "dec8 = \"-27:50:28.4 degrees\"\n",
    "tile8 = 33\n",
    "\n",
    "#36857 03:31:53.24 −27:46:18.9\n",
    "ra9 = \"03:31:53.24 hours\"\n",
    "dec9 = \"-27:46:18.9 degrees\"\n",
    "tile9 = 38\n",
    "\n",
    "#36714 03:32:59.78 −27:46:26.4 \n",
    "ra10 = \"03:32:59.78 hours\"\n",
    "dec10 = \"-27:46:26.4 degrees\"\n",
    "tile10 = 37\n"
   ]
  },
  {
   "cell_type": "code",
   "execution_count": null,
   "id": "ae1009fe-428c-42f9-bef9-9dcc344bd004",
   "metadata": {
    "execution": {
     "iopub.execute_input": "2025-05-31T20:28:43.456067Z",
     "iopub.status.busy": "2025-05-31T20:28:43.455939Z",
     "iopub.status.idle": "2025-05-31T20:28:43.474897Z",
     "shell.execute_reply": "2025-05-31T20:28:43.474506Z",
     "shell.execute_reply.started": "2025-05-31T20:28:43.456055Z"
    }
   },
   "outputs": [],
   "source": [
    "ra = Angle(ra10)\n",
    "print(ra.degree)\n",
    "dec = Angle(dec10)\n",
    "print(dec.degree)"
   ]
  },
  {
   "cell_type": "code",
   "execution_count": null,
   "id": "85c504b7-1ee1-4d83-9a1a-8b4e4c231103",
   "metadata": {
    "execution": {
     "iopub.execute_input": "2025-05-31T20:28:43.475551Z",
     "iopub.status.busy": "2025-05-31T20:28:43.475423Z",
     "iopub.status.idle": "2025-05-31T20:28:43.479100Z",
     "shell.execute_reply": "2025-05-31T20:28:43.478741Z",
     "shell.execute_reply.started": "2025-05-31T20:28:43.475539Z"
    }
   },
   "outputs": [],
   "source": [
    "lsstcomcam_targets = {}\n",
    "# high rank\n",
    "lsstcomcam_targets[\"ECDFS_G15422\"] = {\"field_name\": \"GEMS-15422\", \"ra\": 53.159208333333325, \"dec\": -27.94811111111111,\"tile\":tile1}\n",
    "lsstcomcam_targets[\"ECDFS_G34244\"] = {\"field_name\": \"GEMS-34244\", \"ra\": 53.02687499999999 , \"dec\": -27.79127777777778,\"tile\":tile2}\n",
    "lsstcomcam_targets[\"ECDFS_G40173\"] = {\"field_name\": \"GEMS-40173\", \"ra\": 53.33104166666666 , \"dec\": -27.747222222222224,\"tile\":tile3}\n",
    "lsstcomcam_targets[\"ECDFS_G43242\"] = {\"field_name\": \"GEMS-43242\", \"ra\": 52.980624999999996 , \"dec\": -27.72319444444444,\"tile\":tile4}\n",
    "lsstcomcam_targets[\"ECDFS_G46446\"] = {\"field_name\": \"GEMS-46446\", \"ra\": 52.89975 , \"dec\": -27.696722222222224,\"tile\":tile5}\n",
    "\n",
    "# low rank\n",
    "lsstcomcam_targets[\"ECDFS_G12589\"] = {\"field_name\": \"GEMS-12589\", \"ra\": 52.85370833333333, \"dec\": -27.96861111111111,\"tile\":tile6}\n",
    "lsstcomcam_targets[\"ECDFS_G43797\"] = {\"field_name\": \"GEMS-43797\", \"ra\": 52.88224999999999, \"dec\": -27.71688888888889,\"tile\":tile7}\n",
    "\n",
    "lsstcomcam_targets[\"ECDFS_G28294\"] = {\"field_name\": \"GEMS-28294\", \"ra\": 52.960583333333325 , \"dec\": -27.84122222222222,\"tile\":tile8}\n",
    "lsstcomcam_targets[\"ECDFS_G6857\"] = {\"field_name\": \"GEMS-6857\", \"ra\": 52.97183333333333 , \"dec\": -27.771916666666666,\"tile\":tile9}\n",
    "lsstcomcam_targets[\"ECDFS_G36714\"] = {\"field_name\": \"GEMS-36714\", \"ra\": 53.249083333333324, \"dec\": -27.773999999999997,\"tile\":tile10}\n"
   ]
  },
  {
   "cell_type": "code",
   "execution_count": null,
   "id": "17ae8de2-0358-4f1e-9443-1a360f662eee",
   "metadata": {
    "execution": {
     "iopub.execute_input": "2025-05-31T20:28:43.479678Z",
     "iopub.status.busy": "2025-05-31T20:28:43.479549Z",
     "iopub.status.idle": "2025-05-31T20:28:43.486327Z",
     "shell.execute_reply": "2025-05-31T20:28:43.485946Z",
     "shell.execute_reply.started": "2025-05-31T20:28:43.479666Z"
    }
   },
   "outputs": [],
   "source": [
    "df = pd.DataFrame(lsstcomcam_targets).T"
   ]
  },
  {
   "cell_type": "code",
   "execution_count": null,
   "id": "76ed9206-dde5-4349-9474-2b6c0cd3fb30",
   "metadata": {
    "execution": {
     "iopub.execute_input": "2025-05-31T20:28:43.486862Z",
     "iopub.status.busy": "2025-05-31T20:28:43.486737Z",
     "iopub.status.idle": "2025-05-31T20:28:43.494004Z",
     "shell.execute_reply": "2025-05-31T20:28:43.493640Z",
     "shell.execute_reply.started": "2025-05-31T20:28:43.486850Z"
    }
   },
   "outputs": [],
   "source": [
    "# candidates\n",
    "#key = \"ECDFS_G15422\"\n",
    "key = \"ECDFS_G34244\"\n",
    "#key = \"ECDFS_G40173\"\n",
    "#key= \"ECDFS_G43242\"\n",
    "#key= \"ECDFS_G46446\"\n",
    "\n",
    "# unknown\n",
    "#key = \"ECDFS_G12589\"\n",
    "#key = \"ECDFS_G43797\"\n",
    "#key = \"ECDFS_G28294\"\n",
    "#key = \"ECDFS_G6857\"\n",
    "#key = \"ECDFS_G36714\"\n",
    "\n",
    "the_target = lsstcomcam_targets[key]\n",
    "target_ra = the_target[\"ra\"]\n",
    "target_dec = the_target[\"dec\"]\n",
    "target_name = the_target[\"field_name\"]\n",
    "tile_num = the_target[\"tile\"]\n",
    "target_coord = SkyCoord(ra=target_ra, dec=target_dec, unit=(u.deg, u.deg))\n",
    "\n",
    "target_title = (\n",
    "    the_target[\"field_name\"] + f\" (ra,dec) = ({target_ra:.2f},{target_dec:.2f}) \"\n",
    ")"
   ]
  },
  {
   "cell_type": "markdown",
   "id": "f896b114-1536-4bcf-8760-c241edca67be",
   "metadata": {},
   "source": [
    "### Access to remote files"
   ]
  },
  {
   "cell_type": "markdown",
   "id": "41db001a-5ea9-4435-bcf9-663068aa94b6",
   "metadata": {},
   "source": [
    "- visual selection of the tiles : https://archive.stsci.edu/prepds/gems/browser.html\n",
    "- path file download : https://archive.stsci.edu/pub/hlsp/gems/v_mk1/"
   ]
  },
  {
   "cell_type": "markdown",
   "id": "20b735e7-1677-4a36-b6b7-ab47b6659e3e",
   "metadata": {},
   "source": [
    "### Config\n",
    "\n",
    "- http://archive.stsci.edu/pub/hlsp/gems/v_mk1/h_gems_v35_mk1.fits\n",
    "- url = f\"http://archive.stsci.edu/pub/hlsp/gems/z_mk1/h_gems_z{tile_num}_mk1.fits\""
   ]
  },
  {
   "cell_type": "code",
   "execution_count": null,
   "id": "1900bb2b-49b5-4d55-a8c1-ea0f9e978a24",
   "metadata": {
    "execution": {
     "iopub.execute_input": "2025-05-31T20:28:43.494664Z",
     "iopub.status.busy": "2025-05-31T20:28:43.494533Z",
     "iopub.status.idle": "2025-05-31T20:28:43.501019Z",
     "shell.execute_reply": "2025-05-31T20:28:43.500666Z",
     "shell.execute_reply.started": "2025-05-31T20:28:43.494652Z"
    }
   },
   "outputs": [],
   "source": [
    "toppath_gemscutout = \"../2025-05-24-GEMS\"\n",
    "toppath_rubincutout = \"../2025-05-24-SL-ECDFS-Fit/data\""
   ]
  },
  {
   "cell_type": "code",
   "execution_count": null,
   "id": "24fddcf3-741e-4848-8c64-ffb6374c061b",
   "metadata": {
    "execution": {
     "iopub.execute_input": "2025-05-31T20:28:43.501567Z",
     "iopub.status.busy": "2025-05-31T20:28:43.501443Z",
     "iopub.status.idle": "2025-05-31T20:28:43.917810Z",
     "shell.execute_reply": "2025-05-31T20:28:43.917224Z",
     "shell.execute_reply.started": "2025-05-31T20:28:43.501556Z"
    }
   },
   "outputs": [],
   "source": [
    "! ls ../2025-05-24-GEMS"
   ]
  },
  {
   "cell_type": "code",
   "execution_count": null,
   "id": "ebb605fa-9a01-4fc2-a7a8-b6aa55cb582a",
   "metadata": {
    "execution": {
     "iopub.execute_input": "2025-05-31T20:28:43.918637Z",
     "iopub.status.busy": "2025-05-31T20:28:43.918490Z",
     "iopub.status.idle": "2025-05-31T20:28:44.316563Z",
     "shell.execute_reply": "2025-05-31T20:28:44.316010Z",
     "shell.execute_reply.started": "2025-05-31T20:28:43.918620Z"
    }
   },
   "outputs": [],
   "source": [
    "ls ../2025-05-24-SL-ECDFS-Fit/data/G43797"
   ]
  },
  {
   "cell_type": "markdown",
   "id": "f6bc8efd-28b9-445e-9bbd-abf22b5c5e6a",
   "metadata": {},
   "source": [
    "### Choose the good index"
   ]
  },
  {
   "cell_type": "code",
   "execution_count": null,
   "id": "7a448125-56a5-4c75-ba87-0d2959ec64dc",
   "metadata": {
    "execution": {
     "iopub.execute_input": "2025-05-31T20:28:44.319819Z",
     "iopub.status.busy": "2025-05-31T20:28:44.319668Z",
     "iopub.status.idle": "2025-05-31T20:28:44.322480Z",
     "shell.execute_reply": "2025-05-31T20:28:44.322114Z",
     "shell.execute_reply.started": "2025-05-31T20:28:44.319804Z"
    }
   },
   "outputs": [],
   "source": [
    "all_gems_id_numbers = [15422,34244,40173,43242,46446, 12589,43797,28294,6857,36714]"
   ]
  },
  {
   "cell_type": "code",
   "execution_count": null,
   "id": "f929e1a5-0f8f-487b-8e82-d3f072f977a6",
   "metadata": {
    "execution": {
     "iopub.execute_input": "2025-05-31T20:28:44.323040Z",
     "iopub.status.busy": "2025-05-31T20:28:44.322913Z",
     "iopub.status.idle": "2025-05-31T20:28:44.331576Z",
     "shell.execute_reply": "2025-05-31T20:28:44.331188Z",
     "shell.execute_reply.started": "2025-05-31T20:28:44.323029Z"
    }
   },
   "outputs": [],
   "source": [
    "idx = 2\n",
    "print(all_gems_id_numbers[idx])"
   ]
  },
  {
   "cell_type": "code",
   "execution_count": null,
   "id": "e3701431-fb72-44a3-93ca-d7a4e702d013",
   "metadata": {
    "execution": {
     "iopub.execute_input": "2025-05-31T20:28:44.332162Z",
     "iopub.status.busy": "2025-05-31T20:28:44.332028Z",
     "iopub.status.idle": "2025-05-31T20:28:44.337746Z",
     "shell.execute_reply": "2025-05-31T20:28:44.337364Z",
     "shell.execute_reply.started": "2025-05-31T20:28:44.332150Z"
    }
   },
   "outputs": [],
   "source": [
    "sl_number = all_gems_id_numbers[idx]"
   ]
  },
  {
   "cell_type": "code",
   "execution_count": null,
   "id": "cf5f0ae1-5da2-45f5-821f-d34f9fc29ce6",
   "metadata": {
    "execution": {
     "iopub.execute_input": "2025-05-31T20:28:44.338317Z",
     "iopub.status.busy": "2025-05-31T20:28:44.338189Z",
     "iopub.status.idle": "2025-05-31T20:28:44.348138Z",
     "shell.execute_reply": "2025-05-31T20:28:44.347741Z",
     "shell.execute_reply.started": "2025-05-31T20:28:44.338305Z"
    }
   },
   "outputs": [],
   "source": [
    "#sl_number = all_gems_id_numbers[idx]\n",
    "#sl_number = int(re.findall(\"^ECDFS_G(.*)$\",key)[0])\n",
    "\n",
    "key  = f\"ECDFS_G{sl_number}\"\n",
    "\n",
    "the_target = lsstcomcam_targets[key]\n",
    "target_ra = the_target[\"ra\"]\n",
    "target_dec = the_target[\"dec\"]\n",
    "target_name = the_target[\"field_name\"]\n",
    "tile_num = the_target[\"tile\"]\n",
    "target_coord = SkyCoord(ra=target_ra, dec=target_dec, unit=(u.deg, u.deg))\n",
    "\n",
    "target_title = (\n",
    "    the_target[\"field_name\"] + f\" (ra,dec) = ({target_ra:.2f},{target_dec:.2f}) \"\n",
    ")\n",
    "\n",
    "subpath1 = f\"G{sl_number}\"\n",
    "path1_lsst = os.path.join(toppath_rubincutout,subpath1)\n",
    "path2_gems = toppath_gemscutout\n",
    "\n",
    "# band 1 : rubin (g,r,i,z,y)\n",
    "bands1 = [\"g\",\"r\",\"z\"]\n",
    "\n",
    "# band 2 : gem-hst (v,z)\n",
    "bands2 = [\"v\",\"z\"]\n",
    "\n",
    "# field of view : 6 arcsec\n",
    "fov_deg = 6.0/3600.\n",
    "\n",
    "corner1 = SkyCoord(target_ra - fov_deg / 2, target_dec - fov_deg / 2, unit=\"deg\")\n",
    "corner2 = SkyCoord(target_ra + fov_deg / 2, target_dec + fov_deg / 2, unit=\"deg\")\n"
   ]
  },
  {
   "cell_type": "code",
   "execution_count": null,
   "id": "a2e4a089-6c87-4ac1-a31c-b402d3ca6233",
   "metadata": {
    "execution": {
     "iopub.execute_input": "2025-05-31T20:29:08.841298Z",
     "iopub.status.busy": "2025-05-31T20:29:08.841077Z",
     "iopub.status.idle": "2025-05-31T20:29:08.856026Z",
     "shell.execute_reply": "2025-05-31T20:29:08.855566Z",
     "shell.execute_reply.started": "2025-05-31T20:29:08.841283Z"
    }
   },
   "outputs": [],
   "source": [
    "lsst_lupton = make_lupton_image(data_b = all_images1[0][0],\n",
    "                                data_g = all_images1[1][0], \n",
    "                                data_r = all_images1[2][0])\n",
    "gems_lupton = make_lupton_image(data_b = all_images2[0][0],\n",
    "                                data_g = 0.5*(all_images2[0][0]+all_images2[1][0]), \n",
    "                                data_r = all_images2[1][0])\n",
    "\n",
    "lsst_diff = -2.5*(np.log10(all_images1[0][0]) - np.log10(all_images1[-1][0]))\n",
    "gems_diff = -2.5*(np.log10(all_images2[0][0]) - np.log10(all_images2[-1][0]))\n",
    "\n",
    "wcs1 =  all_images1[0][1]\n",
    "wcs2 =  all_images2[0][1]\n",
    "\n",
    "x1_min, y1_min = wcs1.world_to_pixel(corner1)\n",
    "x1_max, y1_max = wcs1.world_to_pixel(corner2)\n",
    "\n",
    "x2_min, y2_min = wcs2.world_to_pixel(corner1)\n",
    "x2_max, y2_max = wcs2.world_to_pixel(corner2)\n",
    "\n",
    "\n",
    "print(f\"(x1_min,x1_max) = ({x1_min},{x1_max})\")\n",
    "print(f\"(x2_min,x2_max) = ({x2_min},{x2_max})\")\n",
    "\n",
    "print(f\"(y1_min,y1_max) = ({y1_min},{y1_max})\")\n",
    "print(f\"(y2_min,y2_max) = ({y2_min},{y2_max})\")\n"
   ]
  },
  {
   "cell_type": "code",
   "execution_count": null,
   "id": "a1323b21-18c5-472d-81ae-adda15e0f49c",
   "metadata": {
    "execution": {
     "iopub.execute_input": "2025-05-31T20:29:11.179087Z",
     "iopub.status.busy": "2025-05-31T20:29:11.178479Z",
     "iopub.status.idle": "2025-05-31T20:29:17.525892Z",
     "shell.execute_reply": "2025-05-31T20:29:17.525401Z",
     "shell.execute_reply.started": "2025-05-31T20:29:11.179070Z"
    }
   },
   "outputs": [],
   "source": [
    "fig = plt.figure(figsize=(16,12))\n",
    "                 \n",
    "ax1 = fig.add_subplot(2, 2, 1, projection=wcs1)\n",
    "ax1.imshow(lsst_lupton ,origin=\"lower\")\n",
    "\n",
    "ax2 = fig.add_subplot(2, 2, 2, projection=wcs2)\n",
    "ax2.imshow(gems_lupton,origin=\"lower\")\n",
    "\n",
    "\n",
    "ax3 = fig.add_subplot(2, 2, 3, projection=wcs1)\n",
    "ax3.imshow(lsst_diff,origin=\"lower\",cmap=\"seismic\")\n",
    "\n",
    "ax4 = fig.add_subplot(2, 2, 4, projection=wcs2)\n",
    "ax4.imshow(gems_diff,origin=\"lower\",cmap=\"seismic\")\n",
    "\n",
    "#lsst_diff = -2.5*(np.log10(all_images1[0][0]) - np.log10(all_images1[-1][0]))\n",
    "#gems_diff = -2.5*(np.log10(all_images2[0][0]) - np.log10(all_images2[-1][0]))\n",
    "\n",
    "# Pour ax1\n",
    "#ax1.set_xlim(min(x1_min, x1_max), max(x1_min, x1_max))\n",
    "#ax1.set_ylim(min(y1_min, y1_max), max(y1_min, y1_max))\n",
    "#ax1.invert_xaxis()  # souvent nécessaire avec les images WCS\n",
    "\n",
    "# Pour ax2\n",
    "#ax2.set_xlim(min(x2_min, x2_max), max(x2_min, x2_max))\n",
    "#ax2.set_ylim(min(y2_min, y2_max), max(y2_min, y2_max))\n",
    "#ax2.invert_xaxis()\n",
    "\n",
    "\n",
    "#plt.tight_layout()\n",
    "plt.show()\n"
   ]
  },
  {
   "cell_type": "code",
   "execution_count": null,
   "id": "b62cb1c5-d9ff-4fb0-b087-dc0d8dd14e3d",
   "metadata": {
    "execution": {
     "iopub.execute_input": "2025-05-31T20:28:59.889451Z",
     "iopub.status.busy": "2025-05-31T20:28:59.889134Z",
     "iopub.status.idle": "2025-05-31T20:29:00.608438Z",
     "shell.execute_reply": "2025-05-31T20:29:00.607983Z",
     "shell.execute_reply.started": "2025-05-31T20:28:59.889426Z"
    }
   },
   "outputs": [],
   "source": [
    "all_titles1 = [ f\"lsstcomcam b={band1}\" for band1 in bands1]\n",
    "all_titles2 = [ f\"gems-hst b={band2}\" for band2 in bands2]\n",
    "\n",
    "suptitle = f\"SL {sl_number}\"\n",
    "\n",
    "# --- Remplace par tes fichiers FITS ---\n",
    "all_files1 = [f\"cutout_wcs_ECDFS_{subpath1}_{band1}.fits\" for band1 in bands1]\n",
    "all_files2 = [f\"cutout_gems_ECDFS_{subpath1}_b{band2}.fits\" for band2 in bands2]\n",
    "\n",
    "all_fullfilenames1 = [ os.path.join(path1_lsst ,file1) for file1 in all_files1]\n",
    "all_fullfilenames2 = [ os.path.join(path2_gems ,file2) for file2 in all_files2]\n",
    "\n",
    "\n",
    "all_images1 = [ loadlsst_fits_image_with_norm(fullfilename1) for fullfilename1 in all_fullfilenames1 ] \n",
    "all_images2 = [ loadgems_fits_image_with_norm(fullfilename2) for fullfilename2 in all_fullfilenames2 ] \n"
   ]
  },
  {
   "cell_type": "code",
   "execution_count": null,
   "id": "5d8a217e-9d6f-4c7d-be79-542cb62dd3aa",
   "metadata": {
    "execution": {
     "iopub.execute_input": "2025-05-31T20:29:17.790494Z",
     "iopub.status.busy": "2025-05-31T20:29:17.790155Z",
     "iopub.status.idle": "2025-05-31T20:29:20.618542Z",
     "shell.execute_reply": "2025-05-31T20:29:20.618126Z",
     "shell.execute_reply.started": "2025-05-31T20:29:17.790476Z"
    }
   },
   "outputs": [],
   "source": [
    "from astropy.visualization.wcsaxes import SphericalCircle\n",
    "\n",
    "# Définir les coins du champ en coordonnées monde (corner1 et corner2 doivent être des SkyCoord)\n",
    "# Supposons corner1 = coin en bas à gauche, corner2 = coin en haut à droite\n",
    "x1_min, y1_min = wcs1.world_to_pixel(corner1)\n",
    "x1_max, y1_max = wcs1.world_to_pixel(corner2)\n",
    "\n",
    "x2_min, y2_min = wcs2.world_to_pixel(corner1)\n",
    "x2_max, y2_max = wcs2.world_to_pixel(corner2)\n",
    "\n",
    "fig = plt.figure(figsize=(12, 8))\n",
    "\n",
    "# Image LSST\n",
    "ax1 = fig.add_subplot(1, 2, 1, projection=wcs1)\n",
    "ax1.imshow(lsst_lupton, origin=\"lower\")\n",
    "#ax1.set_xlim(x1_min, x1_max)\n",
    "#ax1.set_ylim(y1_min, y1_max)\n",
    "ax1.set_title(\"LSST\")\n",
    "\n",
    "# Image GEMS\n",
    "ax2 = fig.add_subplot(1, 2, 2, projection=wcs2)\n",
    "ax2.imshow(gems_lupton, origin=\"lower\")\n",
    "ax2.set_xlim(x2_min, x2_max)\n",
    "ax2.set_ylim(y2_min, y2_max)\n",
    "ax2.set_title(\"GEMS\")\n",
    "\n",
    "plt.tight_layout()\n",
    "plt.show()\n"
   ]
  },
  {
   "cell_type": "code",
   "execution_count": null,
   "id": "6caf5319-dd70-4422-b80e-988cc70fca6a",
   "metadata": {
    "execution": {
     "iopub.status.busy": "2025-05-31T20:28:44.551594Z",
     "iopub.status.idle": "2025-05-31T20:28:44.551759Z",
     "shell.execute_reply": "2025-05-31T20:28:44.551678Z",
     "shell.execute_reply.started": "2025-05-31T20:28:44.551671Z"
    }
   },
   "outputs": [],
   "source": [
    "\n",
    "fig = plt.figure(figsize=(12,8))\n",
    "                 \n",
    "ax1 = fig.add_subplot(1, 2, 1, projection=wcs1)\n",
    "ax1.imshow(lsst_lupton ,origin=\"lower\")\n",
    "\n",
    "ax2 = fig.add_subplot(1, 2, 2, projection=wcs2)\n",
    "ax2.imshow(gems_lupton,origin=\"lower\")\n",
    "\n",
    "\n",
    "\n",
    "plt.tight_layout()\n",
    "plt.show()"
   ]
  },
  {
   "cell_type": "code",
   "execution_count": null,
   "id": "9230efd3-3e61-4091-b466-8921642acd58",
   "metadata": {
    "execution": {
     "iopub.status.busy": "2025-05-31T20:28:44.552349Z",
     "iopub.status.idle": "2025-05-31T20:28:44.552515Z",
     "shell.execute_reply": "2025-05-31T20:28:44.552435Z",
     "shell.execute_reply.started": "2025-05-31T20:28:44.552428Z"
    }
   },
   "outputs": [],
   "source": [
    "assert False"
   ]
  },
  {
   "cell_type": "code",
   "execution_count": null,
   "id": "5ddcd5a1-a04b-4ada-8624-9ce89c8b9764",
   "metadata": {
    "execution": {
     "iopub.status.busy": "2025-05-31T20:28:44.552923Z",
     "iopub.status.idle": "2025-05-31T20:28:44.553083Z",
     "shell.execute_reply": "2025-05-31T20:28:44.553005Z",
     "shell.execute_reply.started": "2025-05-31T20:28:44.552997Z"
    }
   },
   "outputs": [],
   "source": [
    "\n",
    "# 4. Transformer ces coins dans chaque WCS en pixels\n",
    "x1_min, y1_min = wcs1.world_to_pixel(corner1)\n",
    "x1_max, y1_max = wcs1.world_to_pixel(corner2)\n",
    "\n",
    "x2_min, y2_min = wcs2.world_to_pixel(corner1)\n",
    "x2_max, y2_max = wcs2.world_to_pixel(corner2)\n",
    "\n",
    "zscale = ZScaleInterval()\n",
    "vmin1, vmax1 = zscale.get_limits(data1)\n",
    "vmin2, vmax2 = zscale.get_limits(data2)\n",
    "\n",
    "# --- Normalisation avec transformation asinh ---\n",
    "norm1 = ImageNormalize(vmin=vmin1, vmax=vmax1, stretch=AsinhStretch())\n",
    "norm2 = ImageNormalize(vmin=vmin2, vmax=vmax2, stretch=AsinhStretch())\n",
    "\n",
    "\n",
    "# --- Préparer la figure avec 2 sous-graphes alignés horizontalement ---\n",
    "#fig, (ax1, ax2) = plt.subplots(1, 2, figsize=(12, 6), subplot_kw={'projection': wcs1})\n",
    "fig = plt.figure(figsize=(14, 8),layout=\"constrained\")\n",
    "ax1 = fig.add_subplot(1, 2, 1, projection=wcs1)\n",
    "\n",
    "# Si les deux images ont des WCS différents, on peut créer une figure personnalisée :\n",
    "ax2 = fig.add_subplot(1, 2, 2, projection=wcs2)\n",
    "\n",
    "# --- Afficher les images ---\n",
    "im1 = ax1.imshow(data1, origin='lower', cmap='gray', norm=norm1)\n",
    "im2 = ax2.imshow(data2, origin='lower', cmap='gray', norm=norm2)\n",
    "\n",
    "# --- Ajouter des axes WCS ---\n",
    "ax1.set_xlabel('RA')\n",
    "ax1.set_ylabel('Dec')\n",
    "ax1.set_title(title1)\n",
    "ax1.set_xlim(x1_max, x1_min)\n",
    "ax1.set_ylim(y1_min, y1_max)\n",
    "\n",
    "#ax1.grid(color=\"r\")\n",
    "\n",
    "ax2.set_xlabel('RA')\n",
    "ax2.set_ylabel('Dec')\n",
    "ax2.set_title(title2)\n",
    "#ax2.grid(color=\"r\")\n",
    "ax2.set_xlim(x2_max, x2_min)\n",
    "ax2.set_ylim(y2_min, y2_max)\n",
    "\n",
    "\n",
    "ax1.set_aspect('auto', adjustable='datalim')\n",
    "ax2.set_aspect('auto', adjustable='datalim')\n",
    "\n",
    "\n",
    "# --- Affichage final ---\n",
    "plt.tight_layout()\n",
    "plt.suptitle(suptitle)\n",
    "plt.show()"
   ]
  }
 ],
 "metadata": {
  "kernelspec": {
   "display_name": "LSST",
   "language": "python",
   "name": "lsst"
  },
  "language_info": {
   "codemirror_mode": {
    "name": "ipython",
    "version": 3
   },
   "file_extension": ".py",
   "mimetype": "text/x-python",
   "name": "python",
   "nbconvert_exporter": "python",
   "pygments_lexer": "ipython3",
   "version": "3.12.10"
  }
 },
 "nbformat": 4,
 "nbformat_minor": 5
}
