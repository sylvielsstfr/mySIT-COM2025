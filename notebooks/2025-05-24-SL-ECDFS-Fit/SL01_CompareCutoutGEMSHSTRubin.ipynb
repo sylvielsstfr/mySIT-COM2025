{
 "cells": [
  {
   "cell_type": "markdown",
   "id": "434b4c03-b5a4-4f55-9208-dac2bc9e9c43",
   "metadata": {},
   "source": [
    "## Compare SL images  GEMS Rubin\n",
    "\n",
    "- author : Sylvie Dagoret-Campagne\n",
    "- creation date : 2025-05-24"
   ]
  },
  {
   "cell_type": "code",
   "execution_count": null,
   "id": "07174771-40a6-47ce-a28d-6ac64cce51bc",
   "metadata": {},
   "outputs": [],
   "source": [
    "import astroquery\n",
    "print(astroquery.__version__)"
   ]
  },
  {
   "cell_type": "markdown",
   "id": "37dcd3ab-0bc6-4823-a38e-764bc978e075",
   "metadata": {},
   "source": [
    "https://stackoverflow.com/questions/59699193/how-to-obtain-2d-cutout-of-an-image-from-a-skycoord-position"
   ]
  },
  {
   "cell_type": "code",
   "execution_count": null,
   "id": "e5b6a9a2-c252-45b3-983e-61d03c131706",
   "metadata": {},
   "outputs": [],
   "source": [
    "import matplotlib.pyplot as plt\n",
    "from astropy.io import fits\n",
    "from astropy.wcs import WCS\n",
    "import os"
   ]
  },
  {
   "cell_type": "code",
   "execution_count": null,
   "id": "91d47536-6176-4ae1-a5ab-4b5fbaf6ac02",
   "metadata": {},
   "outputs": [],
   "source": [
    "# For Angle conversion\n",
    "from astropy.coordinates import Angle\n",
    "import astropy.units as u\n",
    "from astropy.coordinates import SkyCoord\n",
    "import pandas as pd\n",
    "import numpy as np\n",
    "from astropy.nddata import Cutout2D"
   ]
  },
  {
   "cell_type": "code",
   "execution_count": null,
   "id": "e58b4408-ff6e-4cf8-85bd-369f971e433e",
   "metadata": {},
   "outputs": [],
   "source": [
    "from astropy.visualization import ZScaleInterval, AsinhStretch, ImageNormalize"
   ]
  },
  {
   "cell_type": "code",
   "execution_count": null,
   "id": "96deddc5-6828-4821-a86d-276f8db335ce",
   "metadata": {},
   "outputs": [],
   "source": [
    "from IPython.display import Image, display"
   ]
  },
  {
   "cell_type": "markdown",
   "id": "13e83e75-543c-4373-92e2-38ca692aa3fc",
   "metadata": {},
   "source": [
    "## Configuration"
   ]
  },
  {
   "cell_type": "markdown",
   "id": "aedcfe02-8a4f-48cb-8ada-a5e8b080a3f2",
   "metadata": {},
   "source": [
    "### Target in ECDFS\n",
    "\n",
    "- path to article : https://arxiv.org/pdf/1104.0931\n",
    "- visual selection of the tiles : https://archive.stsci.edu/prepds/gems/browser.html\n",
    "- path file download : https://archive.stsci.edu/pub/hlsp/gems/v_mk1/"
   ]
  },
  {
   "cell_type": "code",
   "execution_count": null,
   "id": "704fa3d8-ef8f-4bff-9dd6-e71e2a337def",
   "metadata": {},
   "outputs": [],
   "source": [
    "fig_table1 = \"input_figs/table1_gemcandidates.png\"\n",
    "fig_table2 = \"input_figs/table2_gemcandidates.png\""
   ]
  },
  {
   "cell_type": "code",
   "execution_count": null,
   "id": "3438e6e2-8750-408b-9404-3d2a7dfe3a61",
   "metadata": {},
   "outputs": [],
   "source": [
    "Image(url= fig_table1,width=800)"
   ]
  },
  {
   "cell_type": "code",
   "execution_count": null,
   "id": "00dce019-3a93-40eb-b700-41468bab7554",
   "metadata": {},
   "outputs": [],
   "source": [
    "Image(url= fig_table2,width=500)"
   ]
  },
  {
   "cell_type": "code",
   "execution_count": null,
   "id": "169491b5-2f1d-4e12-a1a6-1b755581d0d5",
   "metadata": {},
   "outputs": [],
   "source": [
    "#15422 44 03:32:38.21 –27:56:53.2 \n",
    "ra1 = \"03:32:38.21 hours\"\n",
    "dec1 = \"-27:56:53.2 degrees\"\n",
    "tile1 = 44\n",
    "\n",
    "#34244 94 03:32:06.45 –27:47:28.6 \n",
    "ra2 = \"03:32:06.45 hours\"\n",
    "dec2 = \"-27:47:28.6 degrees\"\n",
    "tile2 = 94\n",
    "# Je ne trouve pas cette tile ==> FindTileForCutoutGEM\n",
    "tile2 = 32\n",
    "\n",
    "#40173 35 03:33:19.45 –27:44:50.0 \n",
    "ra3 = \"03:33:19.45 hours\"\n",
    "dec3 = \"-27:44:50.0 degrees\"\n",
    "tile3 = 35\n",
    "\n",
    "#43242 45 03:31:55.35 –27:43:23.5 \n",
    "ra4 = \"03:31:55.35 hours\"\n",
    "dec4 = \"-27:43:23.5 degrees\"\n",
    "tile4 = 45\n",
    "\n",
    "#46446 47 03:31:35.94 –27:41:48.2 \n",
    "ra5 = \"03:31:35.94 hours\"\n",
    "dec5 = \"-27:41:48.2 degrees\"\n",
    "tile5 = 47\n",
    "\n",
    "#12589 03:31:24.89 −27:58:07.0\n",
    "ra6 = \"03:31:24.89 hours\"\n",
    "dec6 = \"-27:58:07.0 degrees\"\n",
    "tile6 = 17\n",
    "\n",
    "#43797 03:31:31.74 −27:43:00.8 \n",
    "ra7 = \"03:31:31.74 hours\"\n",
    "dec7 = \"-27:43:00.8 degrees\"\n",
    "tile7 = 47\n",
    "\n",
    "#28294 03:31:50.54 −27:50:28.4 \n",
    "ra8 = \"03:31:50.54 hours\"\n",
    "dec8 = \"-27:50:28.4 degrees\"\n",
    "tile8 = 33\n",
    "\n",
    "#36857 03:31:53.24 −27:46:18.9\n",
    "ra9 = \"03:31:53.24 hours\"\n",
    "dec9 = \"-27:46:18.9 degrees\"\n",
    "tile9 = 38\n",
    "\n",
    "#36714 03:32:59.78 −27:46:26.4 \n",
    "ra10 = \"03:32:59.78 hours\"\n",
    "dec10 = \"-27:46:26.4 degrees\"\n",
    "tile10 = 37\n"
   ]
  },
  {
   "cell_type": "code",
   "execution_count": null,
   "id": "ae1009fe-428c-42f9-bef9-9dcc344bd004",
   "metadata": {},
   "outputs": [],
   "source": [
    "ra = Angle(ra10)\n",
    "print(ra.degree)\n",
    "dec = Angle(dec10)\n",
    "print(dec.degree)"
   ]
  },
  {
   "cell_type": "code",
   "execution_count": null,
   "id": "85c504b7-1ee1-4d83-9a1a-8b4e4c231103",
   "metadata": {},
   "outputs": [],
   "source": [
    "lsstcomcam_targets = {}\n",
    "# high rank\n",
    "lsstcomcam_targets[\"ECDFS_G15422\"] = {\"field_name\": \"GEMS-15422\", \"ra\": 53.159208333333325, \"dec\": -27.94811111111111,\"tile\":tile1}\n",
    "lsstcomcam_targets[\"ECDFS_G34244\"] = {\"field_name\": \"GEMS-34244\", \"ra\": 53.02687499999999 , \"dec\": -27.79127777777778,\"tile\":tile2}\n",
    "lsstcomcam_targets[\"ECDFS_G40173\"] = {\"field_name\": \"GEMS-40173\", \"ra\": 53.33104166666666 , \"dec\": -27.747222222222224,\"tile\":tile3}\n",
    "lsstcomcam_targets[\"ECDFS_G43242\"] = {\"field_name\": \"GEMS-43242\", \"ra\": 52.980624999999996 , \"dec\": -27.72319444444444,\"tile\":tile4}\n",
    "lsstcomcam_targets[\"ECDFS_G46446\"] = {\"field_name\": \"GEMS-46446\", \"ra\": 52.89975 , \"dec\": -27.696722222222224,\"tile\":tile5}\n",
    "\n",
    "# low rank\n",
    "lsstcomcam_targets[\"ECDFS_G12589\"] = {\"field_name\": \"GEMS-12589\", \"ra\": 52.85370833333333, \"dec\": -27.96861111111111,\"tile\":tile6}\n",
    "lsstcomcam_targets[\"ECDFS_G43797\"] = {\"field_name\": \"GEMS-43797\", \"ra\": 52.88224999999999, \"dec\": -27.71688888888889,\"tile\":tile7}\n",
    "\n",
    "lsstcomcam_targets[\"ECDFS_G28294\"] = {\"field_name\": \"GEMS-28294\", \"ra\": 52.960583333333325 , \"dec\": -27.84122222222222,\"tile\":tile8}\n",
    "lsstcomcam_targets[\"ECDFS_G6857\"] = {\"field_name\": \"GEMS-6857\", \"ra\": 52.97183333333333 , \"dec\": -27.771916666666666,\"tile\":tile9}\n",
    "lsstcomcam_targets[\"ECDFS_G36714\"] = {\"field_name\": \"GEMS-36714\", \"ra\": 53.249083333333324, \"dec\": -27.773999999999997,\"tile\":tile10}\n"
   ]
  },
  {
   "cell_type": "code",
   "execution_count": null,
   "id": "17ae8de2-0358-4f1e-9443-1a360f662eee",
   "metadata": {},
   "outputs": [],
   "source": [
    "df = pd.DataFrame(lsstcomcam_targets).T"
   ]
  },
  {
   "cell_type": "code",
   "execution_count": null,
   "id": "76ed9206-dde5-4349-9474-2b6c0cd3fb30",
   "metadata": {},
   "outputs": [],
   "source": [
    "# candidates\n",
    "#key = \"ECDFS_G15422\"\n",
    "key = \"ECDFS_G34244\"\n",
    "#key = \"ECDFS_G40173\"\n",
    "#key= \"ECDFS_G43242\"\n",
    "#key= \"ECDFS_G46446\"\n",
    "\n",
    "# unknown\n",
    "#key = \"ECDFS_G12589\"\n",
    "#key = \"ECDFS_G43797\"\n",
    "#key = \"ECDFS_G28294\"\n",
    "#key = \"ECDFS_G6857\"\n",
    "#key = \"ECDFS_G36714\"\n",
    "\n",
    "the_target = lsstcomcam_targets[key]\n",
    "target_ra = the_target[\"ra\"]\n",
    "target_dec = the_target[\"dec\"]\n",
    "target_name = the_target[\"field_name\"]\n",
    "tile_num = the_target[\"tile\"]\n",
    "coord = SkyCoord(ra=target_ra, dec=target_dec, unit=(u.deg, u.deg))\n",
    "\n",
    "target_title = (\n",
    "    the_target[\"field_name\"] + f\" (ra,dec) = ({target_ra:.2f},{target_dec:.2f}) \"\n",
    ")"
   ]
  },
  {
   "cell_type": "markdown",
   "id": "f896b114-1536-4bcf-8760-c241edca67be",
   "metadata": {},
   "source": [
    "### Access to remote files"
   ]
  },
  {
   "cell_type": "markdown",
   "id": "41db001a-5ea9-4435-bcf9-663068aa94b6",
   "metadata": {},
   "source": [
    "- visual selection of the tiles : https://archive.stsci.edu/prepds/gems/browser.html\n",
    "- path file download : https://archive.stsci.edu/pub/hlsp/gems/v_mk1/"
   ]
  },
  {
   "cell_type": "markdown",
   "id": "20b735e7-1677-4a36-b6b7-ab47b6659e3e",
   "metadata": {},
   "source": [
    "### Config\n",
    "\n",
    "- http://archive.stsci.edu/pub/hlsp/gems/v_mk1/h_gems_v35_mk1.fits\n",
    "- url = f\"http://archive.stsci.edu/pub/hlsp/gems/z_mk1/h_gems_z{tile_num}_mk1.fits\""
   ]
  },
  {
   "cell_type": "code",
   "execution_count": null,
   "id": "1900bb2b-49b5-4d55-a8c1-ea0f9e978a24",
   "metadata": {},
   "outputs": [],
   "source": [
    "toppath_gemscutout = \"../2025-05-24-GEMS\"\n",
    "toppath_rubincutout = \"../2025-05-24-SL-ECDFS-Fit/data\""
   ]
  },
  {
   "cell_type": "code",
   "execution_count": null,
   "id": "24fddcf3-741e-4848-8c64-ffb6374c061b",
   "metadata": {},
   "outputs": [],
   "source": [
    "! ls ../2025-05-24-GEMS"
   ]
  },
  {
   "cell_type": "code",
   "execution_count": null,
   "id": "ebb605fa-9a01-4fc2-a7a8-b6aa55cb582a",
   "metadata": {},
   "outputs": [],
   "source": [
    "ls ../2025-05-24-SL-ECDFS-Fit/data/G15422/"
   ]
  },
  {
   "cell_type": "code",
   "execution_count": null,
   "id": "a9d44c03-cd57-47e1-9d5f-66c7b55b01f6",
   "metadata": {},
   "outputs": [],
   "source": [
    "# select your bands\n",
    "SELECT_VBAND = \"v\"\n",
    "SELECT_ZBAND = \"z\"\n",
    "SELECT_BAND = SELECT_VBAND"
   ]
  },
  {
   "cell_type": "code",
   "execution_count": null,
   "id": "7a448125-56a5-4c75-ba87-0d2959ec64dc",
   "metadata": {},
   "outputs": [],
   "source": [
    "all_gems_id_numbers1 = [15422,34244,40173,43242,46446]\n",
    "all_gems_id_numbers2 = [12589,43797,28294,6857,36714]"
   ]
  },
  {
   "cell_type": "code",
   "execution_count": null,
   "id": "f929e1a5-0f8f-487b-8e82-d3f072f977a6",
   "metadata": {},
   "outputs": [],
   "source": [
    "idx = 1"
   ]
  },
  {
   "cell_type": "code",
   "execution_count": null,
   "id": "cf5f0ae1-5da2-45f5-821f-d34f9fc29ce6",
   "metadata": {},
   "outputs": [],
   "source": [
    "sl_number = all_gems_id_numbers1[idx]\n",
    "subpath1 = f\"G{sl_number}\"\n",
    "path1 = os.path.join(toppath_rubincutout,subpath1)\n",
    "path2 = toppath_gemscutout\n",
    "\n",
    "band1 = \"z\"\n",
    "band2 = \"z\"\n",
    "\n",
    "# field of view : 6 arcsec\n",
    "fov_deg = 6.0/3600."
   ]
  },
  {
   "cell_type": "code",
   "execution_count": null,
   "id": "dcad8569-9785-4ded-9cb0-79effe8cbd97",
   "metadata": {},
   "outputs": [],
   "source": [
    "ls $path1"
   ]
  },
  {
   "cell_type": "code",
   "execution_count": null,
   "id": "b62cb1c5-d9ff-4fb0-b087-dc0d8dd14e3d",
   "metadata": {},
   "outputs": [],
   "source": [
    "title1 = f\"lsstcomcam b={band1}\"\n",
    "title2 = f\"gems-hst b={band2}\"\n",
    "suptitle = f\"SL {sl_number}\"\n",
    "\n",
    "# --- Remplace par tes fichiers FITS ---\n",
    "file1 = f\"cutout_wcs_ECDFS_{subpath1}_{band1}.fits\"\n",
    "file2 = f\"cutout_gems_ECDFS_{subpath1}_b{band2}.fits\"\n",
    "\n",
    "fullfilename1 = os.path.join(path1 ,file1)\n",
    "fullfilename2 = os.path.join(path2 ,file2)\n",
    "\n",
    "# --- Ouvrir les fichiers et leurs WCS ---\n",
    "hdu1 = fits.open(fullfilename1)[1]\n",
    "wcs1 = WCS(hdu1.header)\n",
    "data1 = hdu1.data\n",
    "\n",
    "hdu2 = fits.open(fullfilename2)[0]\n",
    "wcs2 = WCS(hdu2.header)\n",
    "data2 = hdu2.data\n",
    "\n",
    "corner1 = SkyCoord(target_ra - fov_deg / 2, target_dec - fov_deg / 2, unit=\"deg\")\n",
    "corner2 = SkyCoord(target_ra + fov_deg / 2, target_dec + fov_deg / 2, unit=\"deg\")\n",
    "\n",
    "\n",
    "# 4. Transformer ces coins dans chaque WCS en pixels\n",
    "x1_min, y1_min = wcs1.world_to_pixel(corner1)\n",
    "x1_max, y1_max = wcs1.world_to_pixel(corner2)\n",
    "\n",
    "x2_min, y2_min = wcs2.world_to_pixel(corner1)\n",
    "x2_max, y2_max = wcs2.world_to_pixel(corner2)\n",
    "\n",
    "zscale = ZScaleInterval()\n",
    "vmin1, vmax1 = zscale.get_limits(data1)\n",
    "vmin2, vmax2 = zscale.get_limits(data2)\n",
    "\n",
    "# --- Normalisation avec transformation asinh ---\n",
    "norm1 = ImageNormalize(vmin=vmin1, vmax=vmax1, stretch=AsinhStretch())\n",
    "norm2 = ImageNormalize(vmin=vmin2, vmax=vmax2, stretch=AsinhStretch())\n",
    "\n",
    "\n",
    "# --- Préparer la figure avec 2 sous-graphes alignés horizontalement ---\n",
    "#fig, (ax1, ax2) = plt.subplots(1, 2, figsize=(12, 6), subplot_kw={'projection': wcs1})\n",
    "fig = plt.figure(figsize=(14, 8),layout=\"constrained\")\n",
    "ax1 = fig.add_subplot(1, 2, 1, projection=wcs1)\n",
    "\n",
    "# Si les deux images ont des WCS différents, on peut créer une figure personnalisée :\n",
    "ax2 = fig.add_subplot(1, 2, 2, projection=wcs2)\n",
    "\n",
    "# --- Afficher les images ---\n",
    "im1 = ax1.imshow(data1, origin='lower', cmap='gray', norm=norm1)\n",
    "im2 = ax2.imshow(data2, origin='lower', cmap='gray', norm=norm2)\n",
    "\n",
    "# --- Ajouter des axes WCS ---\n",
    "ax1.set_xlabel('RA')\n",
    "ax1.set_ylabel('Dec')\n",
    "ax1.set_title(title1)\n",
    "ax1.set_xlim(x1_max, x1_min)\n",
    "ax1.set_ylim(y1_min, y1_max)\n",
    "\n",
    "#ax1.grid(color=\"r\")\n",
    "\n",
    "ax2.set_xlabel('RA')\n",
    "ax2.set_ylabel('Dec')\n",
    "ax2.set_title(title2)\n",
    "#ax2.grid(color=\"r\")\n",
    "ax2.set_xlim(x2_max, x2_min)\n",
    "ax2.set_ylim(y2_min, y2_max)\n",
    "\n",
    "\n",
    "ax1.set_aspect('auto', adjustable='datalim')\n",
    "ax2.set_aspect('auto', adjustable='datalim')\n",
    "\n",
    "\n",
    "# --- Affichage final ---\n",
    "plt.tight_layout()\n",
    "plt.suptitle(suptitle)\n",
    "plt.show()"
   ]
  },
  {
   "cell_type": "code",
   "execution_count": null,
   "id": "c005b4ff-7071-4faf-8daf-bec2330d6291",
   "metadata": {},
   "outputs": [],
   "source": [
    "print(x1_min,x1_max)"
   ]
  },
  {
   "cell_type": "code",
   "execution_count": null,
   "id": "02ff7af8-7078-476f-9202-fecbe9f17a73",
   "metadata": {},
   "outputs": [],
   "source": [
    "print(x2_min,x2_max)"
   ]
  },
  {
   "cell_type": "code",
   "execution_count": null,
   "id": "fce1df2f-6977-47e0-b2e1-336040b9e12a",
   "metadata": {},
   "outputs": [],
   "source": []
  }
 ],
 "metadata": {
  "kernelspec": {
   "display_name": "conda_py313",
   "language": "python",
   "name": "conda_py313"
  },
  "language_info": {
   "codemirror_mode": {
    "name": "ipython",
    "version": 3
   },
   "file_extension": ".py",
   "mimetype": "text/x-python",
   "name": "python",
   "nbconvert_exporter": "python",
   "pygments_lexer": "ipython3",
   "version": "3.13.3"
  }
 },
 "nbformat": 4,
 "nbformat_minor": 5
}
