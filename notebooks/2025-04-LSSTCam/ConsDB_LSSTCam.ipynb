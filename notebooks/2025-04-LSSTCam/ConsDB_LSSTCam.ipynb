{
 "cells": [
  {
   "cell_type": "markdown",
   "id": "4c50da0f-2a30-4761-9a29-c67185aab160",
   "metadata": {},
   "source": [
    "# Consdb for LSSTCam for visits\n",
    "\n",
    "- Creation date : 2025-04-18\n",
    "- last update : 2025-04-21\n",
    "- https://usdf-rsp-dev.slac.stanford.edu/consdb/\n",
    "- Schemes for constdb : https://sdm-schemas.lsst.io/\n",
    "- Documentation : https://consdb.lsst.io/index.html\n"
   ]
  },
  {
   "cell_type": "markdown",
   "id": "ce17244c-8f51-4666-90c4-509291c3d62f",
   "metadata": {},
   "source": [
    "LSSTCam/runs/nightlyValidation/{day_obs}/<lsst_distrib_tag>/DM-50157"
   ]
  },
  {
   "cell_type": "code",
   "execution_count": null,
   "id": "d9170f34-bf3d-4223-a737-89f81fe22a96",
   "metadata": {
    "execution": {
     "iopub.execute_input": "2025-05-01T18:24:07.639516Z",
     "iopub.status.busy": "2025-05-01T18:24:07.639396Z",
     "iopub.status.idle": "2025-05-01T18:24:16.360212Z",
     "shell.execute_reply": "2025-05-01T18:24:16.359777Z",
     "shell.execute_reply.started": "2025-05-01T18:24:07.639503Z"
    }
   },
   "outputs": [],
   "source": [
    "from lsst.summit.utils import ConsDbClient"
   ]
  },
  {
   "cell_type": "code",
   "execution_count": null,
   "id": "c9637cf5-efa5-4842-b39c-1e22ce097b1b",
   "metadata": {
    "execution": {
     "iopub.execute_input": "2025-05-01T18:24:16.362929Z",
     "iopub.status.busy": "2025-05-01T18:24:16.362589Z",
     "iopub.status.idle": "2025-05-01T18:24:16.415807Z",
     "shell.execute_reply": "2025-05-01T18:24:16.415313Z",
     "shell.execute_reply.started": "2025-05-01T18:24:16.362912Z"
    }
   },
   "outputs": [],
   "source": [
    "import numpy as np\n",
    "\n",
    "import matplotlib.pyplot as plt\n",
    "import matplotlib.dates as mdates\n",
    "\n",
    "import matplotlib as mpl\n",
    "import matplotlib.cm as cm \n",
    "import matplotlib.colors as colors\n",
    "import matplotlib.cm as cmx\n",
    "from matplotlib.colors import ListedColormap\n",
    "\n",
    "import seaborn as sns\n",
    "%matplotlib widget\n",
    "\n",
    "from lsst.meas.algorithms.installGaussianPsf import FwhmPerSigma\n",
    "\n",
    "from tqdm.notebook import tqdm"
   ]
  },
  {
   "cell_type": "code",
   "execution_count": null,
   "id": "b328ebd9-693e-4114-aff3-69ce6124f798",
   "metadata": {
    "execution": {
     "iopub.execute_input": "2025-05-01T18:24:16.416818Z",
     "iopub.status.busy": "2025-05-01T18:24:16.416360Z",
     "iopub.status.idle": "2025-05-01T18:24:16.419477Z",
     "shell.execute_reply": "2025-05-01T18:24:16.419066Z",
     "shell.execute_reply.started": "2025-05-01T18:24:16.416801Z"
    }
   },
   "outputs": [],
   "source": [
    "#xx-small\n",
    "#x-small\n",
    "#small\n",
    "#medium\n",
    "#large\n",
    "#x-large\n",
    "#xx-large\n",
    "\n",
    "plt.rcParams[\"figure.figsize\"] = (10,6)\n",
    "plt.rcParams[\"axes.labelsize\"] = 'x-large'\n",
    "plt.rcParams['axes.titlesize'] = 'x-large'\n",
    "plt.rcParams['xtick.labelsize']= 'x-large'\n",
    "plt.rcParams['ytick.labelsize']= 'x-large'"
   ]
  },
  {
   "cell_type": "code",
   "execution_count": null,
   "id": "46759823-0ab0-4792-9670-08d70280821d",
   "metadata": {
    "execution": {
     "iopub.execute_input": "2025-05-01T18:24:16.420046Z",
     "iopub.status.busy": "2025-05-01T18:24:16.419912Z",
     "iopub.status.idle": "2025-05-01T18:24:16.427121Z",
     "shell.execute_reply": "2025-05-01T18:24:16.426766Z",
     "shell.execute_reply.started": "2025-05-01T18:24:16.420033Z"
    }
   },
   "outputs": [],
   "source": [
    "from astropy.table import Table, join\n",
    "from astropy.time import Time\n",
    "\n",
    "from astropy.coordinates import SkyCoord\n",
    "from astropy import coordinates\n",
    "import astropy.coordinates as coord\n",
    "import astropy.units as u"
   ]
  },
  {
   "cell_type": "code",
   "execution_count": null,
   "id": "24490394-b03f-4aec-8907-8377f67c1df2",
   "metadata": {
    "execution": {
     "iopub.execute_input": "2025-05-01T18:24:16.427771Z",
     "iopub.status.busy": "2025-05-01T18:24:16.427622Z",
     "iopub.status.idle": "2025-05-01T18:24:16.433970Z",
     "shell.execute_reply": "2025-05-01T18:24:16.433595Z",
     "shell.execute_reply.started": "2025-05-01T18:24:16.427758Z"
    }
   },
   "outputs": [],
   "source": [
    "import lsst.geom as geom\n",
    "import lsst\n",
    "from lsst.geom import Angle "
   ]
  },
  {
   "cell_type": "code",
   "execution_count": null,
   "id": "338ce377-6a76-4474-8dfd-e94ee48c6cc8",
   "metadata": {
    "execution": {
     "iopub.execute_input": "2025-05-01T18:24:16.434642Z",
     "iopub.status.busy": "2025-05-01T18:24:16.434509Z",
     "iopub.status.idle": "2025-05-01T18:24:16.441600Z",
     "shell.execute_reply": "2025-05-01T18:24:16.441234Z",
     "shell.execute_reply.started": "2025-05-01T18:24:16.434629Z"
    }
   },
   "outputs": [],
   "source": [
    "# https://pipelines.lsst.io/modules/lsst.geom/getting-started.html\n",
    "func_degToRad = lambda x : Angle(x,lsst.geom.degrees).asRadians()\n",
    "func_zendtoAirmass = lambda x : 1./np.cos(func_degToRad(x))\n",
    "#func_wrap = lambda x : Angle(x,lsst.geom.radians).wrap(180.*lsst.geom.degrees)"
   ]
  },
  {
   "cell_type": "code",
   "execution_count": null,
   "id": "048ec938-33a7-4f6c-8b67-1ab5343f07d8",
   "metadata": {
    "execution": {
     "iopub.execute_input": "2025-05-01T18:24:16.442270Z",
     "iopub.status.busy": "2025-05-01T18:24:16.442136Z",
     "iopub.status.idle": "2025-05-01T18:24:16.448903Z",
     "shell.execute_reply": "2025-05-01T18:24:16.448525Z",
     "shell.execute_reply.started": "2025-05-01T18:24:16.442258Z"
    }
   },
   "outputs": [],
   "source": [
    "def ra_to_mollweide(ra_rad):\n",
    "    \"\"\"\n",
    "    Transforme une ascension droite (RA en radians) pour une projection Mollweide :\n",
    "    - RA doit être d'abord dans [0, 2π]\n",
    "    - Puis ramené dans [-π, +π] pour correspondre au domaine Mollweide\n",
    "    - Puis inversé pour que RA croisse vers la gauche sur la carte\n",
    "\n",
    "    Paramètre:\n",
    "    - ra_rad : array ou scalaire de RA en radians\n",
    "\n",
    "    Retourne:\n",
    "    - RA transformé pour projection Mollweide\n",
    "\n",
    "    Discussion avec ChatGPT verifiée le 28/04/2025\n",
    "    \"\"\"\n",
    "\n",
    "    # 1) Assurer que RA est entre 0 et 2π\n",
    "    ra_rad = np.remainder(ra_rad + 2*np.pi, 2*np.pi)\n",
    "\n",
    "    # 2) Remettre RA entre -π et +π\n",
    "    ra_rad[ra_rad > np.pi] -= 2*np.pi\n",
    "\n",
    "    # 3) Inverser RA pour que RA croisse vers la gauche\n",
    "    return -ra_rad\n"
   ]
  },
  {
   "cell_type": "markdown",
   "id": "644d0a4b-7193-46b5-85c8-638ac7207b4f",
   "metadata": {},
   "source": [
    "## Configuration"
   ]
  },
  {
   "cell_type": "code",
   "execution_count": null,
   "id": "7ce654a6-f761-478f-8133-b5e07868ed40",
   "metadata": {
    "execution": {
     "iopub.execute_input": "2025-05-01T18:24:16.449463Z",
     "iopub.status.busy": "2025-05-01T18:24:16.449334Z",
     "iopub.status.idle": "2025-05-01T18:24:16.458073Z",
     "shell.execute_reply": "2025-05-01T18:24:16.457676Z",
     "shell.execute_reply.started": "2025-05-01T18:24:16.449450Z"
    }
   },
   "outputs": [],
   "source": [
    "instrument = \"LSSTCam\""
   ]
  },
  {
   "cell_type": "code",
   "execution_count": null,
   "id": "fd95a0ea-f58f-4672-afe0-fc3f3f80cfc1",
   "metadata": {
    "execution": {
     "iopub.execute_input": "2025-05-01T18:24:16.458734Z",
     "iopub.status.busy": "2025-05-01T18:24:16.458603Z",
     "iopub.status.idle": "2025-05-01T18:24:16.464312Z",
     "shell.execute_reply": "2025-05-01T18:24:16.463956Z",
     "shell.execute_reply.started": "2025-05-01T18:24:16.458721Z"
    }
   },
   "outputs": [],
   "source": [
    "os.environ[\"no_proxy\"] += \",.consdb\""
   ]
  },
  {
   "cell_type": "code",
   "execution_count": null,
   "id": "8c679aa8-2199-4e02-9354-aafa7f114f91",
   "metadata": {
    "execution": {
     "iopub.execute_input": "2025-05-01T18:24:16.464918Z",
     "iopub.status.busy": "2025-05-01T18:24:16.464788Z",
     "iopub.status.idle": "2025-05-01T18:24:16.474182Z",
     "shell.execute_reply": "2025-05-01T18:24:16.473835Z",
     "shell.execute_reply.started": "2025-05-01T18:24:16.464906Z"
    }
   },
   "outputs": [],
   "source": [
    "url=\"http://consdb-pq.consdb:8080/consdb\""
   ]
  },
  {
   "cell_type": "code",
   "execution_count": null,
   "id": "396043d3-35d4-45f8-bea4-af2ae6af74cd",
   "metadata": {
    "execution": {
     "iopub.execute_input": "2025-05-01T18:24:16.474725Z",
     "iopub.status.busy": "2025-05-01T18:24:16.474595Z",
     "iopub.status.idle": "2025-05-01T18:24:16.480655Z",
     "shell.execute_reply": "2025-05-01T18:24:16.480331Z",
     "shell.execute_reply.started": "2025-05-01T18:24:16.474713Z"
    }
   },
   "outputs": [],
   "source": [
    "consdb=ConsDbClient(url)"
   ]
  },
  {
   "cell_type": "markdown",
   "id": "45ac7b79-cc4a-4abf-8afb-db5e575b894a",
   "metadata": {},
   "source": [
    "https://sdm-schemas.lsst.io/cdb_lsstcomcam.html#exposure"
   ]
  },
  {
   "cell_type": "code",
   "execution_count": null,
   "id": "f015c934-ce60-4833-af60-a0514f33ddcd",
   "metadata": {
    "execution": {
     "iopub.execute_input": "2025-05-01T18:24:16.481256Z",
     "iopub.status.busy": "2025-05-01T18:24:16.481126Z",
     "iopub.status.idle": "2025-05-01T18:24:18.018601Z",
     "shell.execute_reply": "2025-05-01T18:24:18.018012Z",
     "shell.execute_reply.started": "2025-05-01T18:24:16.481243Z"
    }
   },
   "outputs": [],
   "source": [
    "# Query both consDB tables\n",
    "#exposure = consdb.query(\"SELECT * FROM cdb_lsstcam.exposure WHERE science_program = 'BLOCK-351'\")\n",
    "#visits = consdb.query(\"SELECT * FROM cdb_lsstcam.visit1 WHERE science_program = 'BLOCK-351'\")\n",
    "#visits_ql = consdb.query(\"SELECT * FROM cdb_lsstcam.visit1_quicklook\")\n",
    "#visits_ql = consdb.query(\"SELECT * FROM cdb_lsstcam.visit1\")\n",
    "\n",
    "exposure = consdb.query(\"SELECT * FROM cdb_lsstcam.exposure WHERE day_obs >= 20250415\")\n",
    "visits = consdb.query(\"SELECT * FROM cdb_lsstcam.visit1 WHERE day_obs >= 20250415\")\n",
    "#visits_ql = consdb.query(\"SELECT * FROM cdb_lsstcam.visit1_quicklook\")\n",
    "visits_ql = consdb.query(\"SELECT * FROM cdb_lsstcam.visit1\")\n",
    "\n",
    "# Join using astropy's join function on 'visit_id'\n",
    "exposure_join = exposure.rename_column(\"exposure_id\", \"visit_id\")\n",
    "merged_exposure = join(exposure, visits, keys=\"visit_id\", join_type=\"inner\")  \n",
    "merged_visits = join(visits, visits_ql, keys=\"visit_id\", join_type=\"inner\")  \n",
    "\n",
    "# Display or use the merged table\n",
    "#print(merged_visits)"
   ]
  },
  {
   "cell_type": "markdown",
   "id": "24d47919-04af-45ea-a70e-3f9e3d4e2be2",
   "metadata": {},
   "source": [
    "## Explore the visit info in consdb"
   ]
  },
  {
   "cell_type": "code",
   "execution_count": null,
   "id": "d3ab9e1f-2b6b-4372-af3d-457aed8df26b",
   "metadata": {
    "execution": {
     "iopub.execute_input": "2025-05-01T18:24:18.019321Z",
     "iopub.status.busy": "2025-05-01T18:24:18.019181Z",
     "iopub.status.idle": "2025-05-01T18:24:18.022200Z",
     "shell.execute_reply": "2025-05-01T18:24:18.021830Z",
     "shell.execute_reply.started": "2025-05-01T18:24:18.019307Z"
    }
   },
   "outputs": [],
   "source": [
    "print(visits.columns)"
   ]
  },
  {
   "cell_type": "code",
   "execution_count": null,
   "id": "57354d6c-9686-4930-8762-9a8433beebfe",
   "metadata": {
    "execution": {
     "iopub.execute_input": "2025-05-01T18:24:18.022847Z",
     "iopub.status.busy": "2025-05-01T18:24:18.022709Z",
     "iopub.status.idle": "2025-05-01T18:24:18.046373Z",
     "shell.execute_reply": "2025-05-01T18:24:18.045836Z",
     "shell.execute_reply.started": "2025-05-01T18:24:18.022835Z"
    }
   },
   "outputs": [],
   "source": [
    "df_visits = visits.to_pandas()"
   ]
  },
  {
   "cell_type": "markdown",
   "id": "aef71a12-6d56-4b56-a49e-68ad90e2bc52",
   "metadata": {},
   "source": [
    "### Observation dates"
   ]
  },
  {
   "cell_type": "code",
   "execution_count": null,
   "id": "cb3cde1c-8ef3-4fa3-b4ce-4801747637f6",
   "metadata": {
    "execution": {
     "iopub.execute_input": "2025-05-01T18:24:18.047093Z",
     "iopub.status.busy": "2025-05-01T18:24:18.046950Z",
     "iopub.status.idle": "2025-05-01T18:24:18.050693Z",
     "shell.execute_reply": "2025-05-01T18:24:18.050354Z",
     "shell.execute_reply.started": "2025-05-01T18:24:18.047079Z"
    }
   },
   "outputs": [],
   "source": [
    "df_visits[\"day_obs\"].unique()"
   ]
  },
  {
   "cell_type": "markdown",
   "id": "0dddfbfb-bcab-46a0-a2e4-629d80284aab",
   "metadata": {},
   "source": [
    "### Filters"
   ]
  },
  {
   "cell_type": "code",
   "execution_count": null,
   "id": "5dd87d43-7d1e-47ba-9205-db72babd45aa",
   "metadata": {
    "execution": {
     "iopub.execute_input": "2025-05-01T18:24:18.051239Z",
     "iopub.status.busy": "2025-05-01T18:24:18.051111Z",
     "iopub.status.idle": "2025-05-01T18:24:18.058360Z",
     "shell.execute_reply": "2025-05-01T18:24:18.057967Z",
     "shell.execute_reply.started": "2025-05-01T18:24:18.051226Z"
    }
   },
   "outputs": [],
   "source": [
    "print(df_visits[\"physical_filter\"].unique(),df_visits[\"band\"].unique())"
   ]
  },
  {
   "cell_type": "markdown",
   "id": "0266b630-46e9-4166-be50-5b24574d4607",
   "metadata": {},
   "source": [
    "#### Remove bad filters"
   ]
  },
  {
   "cell_type": "code",
   "execution_count": null,
   "id": "3f2bbef0-8eed-43f2-a319-10774528157a",
   "metadata": {
    "execution": {
     "iopub.execute_input": "2025-05-01T18:24:18.059072Z",
     "iopub.status.busy": "2025-05-01T18:24:18.058943Z",
     "iopub.status.idle": "2025-05-01T18:24:18.069466Z",
     "shell.execute_reply": "2025-05-01T18:24:18.069045Z",
     "shell.execute_reply.started": "2025-05-01T18:24:18.059060Z"
    }
   },
   "outputs": [],
   "source": [
    "df_visits = df_visits[ ~((df_visits[\"physical_filter\"] == 'other') | (df_visits[\"physical_filter\"] == 'none') |  df_visits[\"physical_filter\"]  == 'other:pinhole')]"
   ]
  },
  {
   "cell_type": "markdown",
   "id": "9c1a9122-5f3b-492c-879a-1cd645103181",
   "metadata": {},
   "source": [
    "### Remove rows with bad ra and dec"
   ]
  },
  {
   "cell_type": "code",
   "execution_count": null,
   "id": "7cb7a64d-2fdf-49ae-8ee5-bd660c7c723c",
   "metadata": {
    "execution": {
     "iopub.execute_input": "2025-05-01T18:24:18.070156Z",
     "iopub.status.busy": "2025-05-01T18:24:18.070018Z",
     "iopub.status.idle": "2025-05-01T18:24:18.076987Z",
     "shell.execute_reply": "2025-05-01T18:24:18.076495Z",
     "shell.execute_reply.started": "2025-05-01T18:24:18.070142Z"
    }
   },
   "outputs": [],
   "source": [
    "df_visits = df_visits.dropna(subset=[\"s_ra\", \"s_dec\"])"
   ]
  },
  {
   "cell_type": "markdown",
   "id": "f90548eb-3722-4973-be9c-ab932088d70d",
   "metadata": {},
   "source": [
    "### Science program and observation reason"
   ]
  },
  {
   "cell_type": "code",
   "execution_count": null,
   "id": "b8cc4dd2-9b22-4a2e-8b2f-a5ce2525411b",
   "metadata": {
    "execution": {
     "iopub.execute_input": "2025-05-01T18:24:18.080659Z",
     "iopub.status.busy": "2025-05-01T18:24:18.080310Z",
     "iopub.status.idle": "2025-05-01T18:24:18.084322Z",
     "shell.execute_reply": "2025-05-01T18:24:18.083937Z",
     "shell.execute_reply.started": "2025-05-01T18:24:18.080644Z"
    }
   },
   "outputs": [],
   "source": [
    "df_visits[\"science_program\"].unique()"
   ]
  },
  {
   "cell_type": "code",
   "execution_count": null,
   "id": "9fd86ee6-48ce-4494-adf9-cc444c89d508",
   "metadata": {
    "execution": {
     "iopub.execute_input": "2025-05-01T18:24:18.084889Z",
     "iopub.status.busy": "2025-05-01T18:24:18.084760Z",
     "iopub.status.idle": "2025-05-01T18:24:18.092268Z",
     "shell.execute_reply": "2025-05-01T18:24:18.091887Z",
     "shell.execute_reply.started": "2025-05-01T18:24:18.084877Z"
    }
   },
   "outputs": [],
   "source": [
    "df_visits['observation_reason'].unique()"
   ]
  },
  {
   "cell_type": "markdown",
   "id": "f2a46c3b-20c1-4ce0-8db7-b4ab24ac1a12",
   "metadata": {},
   "source": [
    "### Time exposure"
   ]
  },
  {
   "cell_type": "code",
   "execution_count": null,
   "id": "4f5bbbdc-fa6c-45ab-bc4d-d5ee84ae75f9",
   "metadata": {
    "execution": {
     "iopub.execute_input": "2025-05-01T18:24:18.092858Z",
     "iopub.status.busy": "2025-05-01T18:24:18.092723Z",
     "iopub.status.idle": "2025-05-01T18:24:18.177537Z",
     "shell.execute_reply": "2025-05-01T18:24:18.177142Z",
     "shell.execute_reply.started": "2025-05-01T18:24:18.092845Z"
    }
   },
   "outputs": [],
   "source": [
    "fig,ax = plt.subplots(1,1,figsize=(8,4))\n",
    "ax.hist(df_visits[\"exp_time\"].values,bins=50,facecolor=\"b\");\n",
    "plt.show()"
   ]
  },
  {
   "cell_type": "markdown",
   "id": "21441f79-45ef-4022-808f-9957a87a0ad1",
   "metadata": {},
   "source": [
    "## Region in sky"
   ]
  },
  {
   "cell_type": "code",
   "execution_count": null,
   "id": "133fe6ce-6ad5-40ed-a097-40a3662d80df",
   "metadata": {
    "execution": {
     "iopub.execute_input": "2025-05-01T18:24:18.178472Z",
     "iopub.status.busy": "2025-05-01T18:24:18.178074Z",
     "iopub.status.idle": "2025-05-01T18:24:18.180702Z",
     "shell.execute_reply": "2025-05-01T18:24:18.180323Z",
     "shell.execute_reply.started": "2025-05-01T18:24:18.178455Z"
    }
   },
   "outputs": [],
   "source": [
    "#dict_b_to_col = {\"u\": \"b\", \"g\":\"g\", \"r\": \"r\", \"i\": 'orange', 'z': \"magenta\",'y':'purple'}\n",
    "dict_b_to_col = {\"u\": \"b\", \"g\": \"g\", \"r\": \"r\", \"i\": \"orange\", \"z\": \"magenta\", \"y\": \"purple\",\"other\":\"grey\",\"none\":\"k\",'other:pinhole':\"grey\"}"
   ]
  },
  {
   "cell_type": "code",
   "execution_count": null,
   "id": "5ee65e5b-3d0a-4fef-8a41-cd853c7c9e4f",
   "metadata": {
    "execution": {
     "iopub.execute_input": "2025-05-01T18:24:18.181246Z",
     "iopub.status.busy": "2025-05-01T18:24:18.181116Z",
     "iopub.status.idle": "2025-05-01T18:24:18.190109Z",
     "shell.execute_reply": "2025-05-01T18:24:18.189686Z",
     "shell.execute_reply.started": "2025-05-01T18:24:18.181232Z"
    }
   },
   "outputs": [],
   "source": [
    "col = df_visits[\"band\"].map(lambda b:  dict_b_to_col[b] ).values"
   ]
  },
  {
   "cell_type": "code",
   "execution_count": null,
   "id": "10ea14f9-5bd4-4c0f-b117-69b7db9886dd",
   "metadata": {
    "execution": {
     "iopub.execute_input": "2025-05-01T18:24:18.191237Z",
     "iopub.status.busy": "2025-05-01T18:24:18.190598Z",
     "iopub.status.idle": "2025-05-01T18:24:18.198215Z",
     "shell.execute_reply": "2025-05-01T18:24:18.197876Z",
     "shell.execute_reply.started": "2025-05-01T18:24:18.191222Z"
    }
   },
   "outputs": [],
   "source": [
    "col"
   ]
  },
  {
   "cell_type": "code",
   "execution_count": null,
   "id": "0f66774d-07a3-4289-95ef-8989fed64ab7",
   "metadata": {
    "execution": {
     "iopub.execute_input": "2025-05-01T18:24:18.198790Z",
     "iopub.status.busy": "2025-05-01T18:24:18.198655Z",
     "iopub.status.idle": "2025-05-01T18:24:18.946069Z",
     "shell.execute_reply": "2025-05-01T18:24:18.945503Z",
     "shell.execute_reply.started": "2025-05-01T18:24:18.198777Z"
    }
   },
   "outputs": [],
   "source": [
    "palette_spectral = sns.color_palette(\"Spectral_r\", as_cmap=True)\n",
    "cmap_time = ListedColormap(sns.color_palette(\"Spectral_r\", df_visits.size))\n",
    "dt = df_visits['obs_start_mjd'].values - df_visits['obs_start_mjd'].min()\n",
    "dtmin = dt.min()\n",
    "dtmax = dt.max()"
   ]
  },
  {
   "cell_type": "code",
   "execution_count": null,
   "id": "15cd0a56-3e44-4924-9080-e741dd1bf3b6",
   "metadata": {
    "execution": {
     "iopub.execute_input": "2025-05-01T18:24:18.946832Z",
     "iopub.status.busy": "2025-05-01T18:24:18.946677Z",
     "iopub.status.idle": "2025-05-01T18:24:19.575808Z",
     "shell.execute_reply": "2025-05-01T18:24:19.575368Z",
     "shell.execute_reply.started": "2025-05-01T18:24:18.946816Z"
    }
   },
   "outputs": [],
   "source": [
    "fig,ax = plt.subplots(1,1,figsize=(12,6))\n",
    "im = df_visits.plot.scatter(x='s_ra',y='s_dec',ax=ax,c=dt,cmap=cmap_time)\n",
    "ax.grid()\n",
    "ax.set_aspect(\"equal\")\n",
    "#cbar = plt.colorbar(im, orientation='horizontal', label='time(days)')\n",
    "plt.show()"
   ]
  },
  {
   "cell_type": "code",
   "execution_count": null,
   "id": "9e6ce737-28e5-4d28-8db2-858485517866",
   "metadata": {
    "execution": {
     "iopub.execute_input": "2025-05-01T18:24:19.576488Z",
     "iopub.status.busy": "2025-05-01T18:24:19.576336Z",
     "iopub.status.idle": "2025-05-01T18:24:19.579903Z",
     "shell.execute_reply": "2025-05-01T18:24:19.579518Z",
     "shell.execute_reply.started": "2025-05-01T18:24:19.576471Z"
    }
   },
   "outputs": [],
   "source": [
    "palette_spectral = sns.color_palette(\"Spectral_r\", as_cmap=True)"
   ]
  },
  {
   "cell_type": "code",
   "execution_count": null,
   "id": "7746fe8f-7c82-4ddf-a624-3d65f9404563",
   "metadata": {
    "execution": {
     "iopub.execute_input": "2025-05-01T18:24:19.580666Z",
     "iopub.status.busy": "2025-05-01T18:24:19.580521Z",
     "iopub.status.idle": "2025-05-01T18:24:20.299875Z",
     "shell.execute_reply": "2025-05-01T18:24:20.299403Z",
     "shell.execute_reply.started": "2025-05-01T18:24:19.580651Z"
    }
   },
   "outputs": [],
   "source": [
    "cmap_time = ListedColormap(sns.color_palette(\"Spectral\", df_visits.size))"
   ]
  },
  {
   "cell_type": "code",
   "execution_count": null,
   "id": "a9968ad6-6c5b-4855-a400-a769cb5ad52e",
   "metadata": {
    "execution": {
     "iopub.execute_input": "2025-05-01T18:24:20.300572Z",
     "iopub.status.busy": "2025-05-01T18:24:20.300422Z",
     "iopub.status.idle": "2025-05-01T18:24:20.303730Z",
     "shell.execute_reply": "2025-05-01T18:24:20.303344Z",
     "shell.execute_reply.started": "2025-05-01T18:24:20.300556Z"
    }
   },
   "outputs": [],
   "source": [
    "dt = df_visits['obs_start_mjd'].values - df_visits['obs_start_mjd'].min()"
   ]
  },
  {
   "cell_type": "code",
   "execution_count": null,
   "id": "358735fd-81de-42de-aa1e-930d5764d562",
   "metadata": {
    "execution": {
     "iopub.execute_input": "2025-05-01T18:24:20.304429Z",
     "iopub.status.busy": "2025-05-01T18:24:20.304284Z",
     "iopub.status.idle": "2025-05-01T18:24:20.313961Z",
     "shell.execute_reply": "2025-05-01T18:24:20.313584Z",
     "shell.execute_reply.started": "2025-05-01T18:24:20.304414Z"
    }
   },
   "outputs": [],
   "source": [
    "dtmin = dt.min()\n",
    "dtmax = dt.max()"
   ]
  },
  {
   "cell_type": "code",
   "execution_count": null,
   "id": "2227d182-4ddb-4032-a963-83fbb78fff46",
   "metadata": {
    "execution": {
     "iopub.execute_input": "2025-05-01T18:24:20.314691Z",
     "iopub.status.busy": "2025-05-01T18:24:20.314433Z",
     "iopub.status.idle": "2025-05-01T18:24:20.344649Z",
     "shell.execute_reply": "2025-05-01T18:24:20.344294Z",
     "shell.execute_reply.started": "2025-05-01T18:24:20.314676Z"
    }
   },
   "outputs": [],
   "source": [
    "ra_g = df_visits['s_ra'].apply(func_degToRad) \n",
    "dec_g = df_visits['s_dec'].apply(func_degToRad) "
   ]
  },
  {
   "cell_type": "code",
   "execution_count": null,
   "id": "cd8f4136-dfed-4029-ae49-d52ea4054839",
   "metadata": {
    "execution": {
     "iopub.execute_input": "2025-05-01T18:24:20.345242Z",
     "iopub.status.busy": "2025-05-01T18:24:20.345109Z",
     "iopub.status.idle": "2025-05-01T18:24:20.351605Z",
     "shell.execute_reply": "2025-05-01T18:24:20.351237Z",
     "shell.execute_reply.started": "2025-05-01T18:24:20.345228Z"
    }
   },
   "outputs": [],
   "source": [
    "# Galactic plane\n",
    "gal_long = np.linspace(-180.,180,360)\n",
    "gal_lat = np.zeros((360))\n",
    "coordinates_galactic_planes = SkyCoord(l=gal_long*u.degree, b=gal_lat*u.degree, frame='galactic')\n",
    "gp_radec = coordinates_galactic_planes.transform_to('icrs')  \n",
    "\n",
    "# for galactic plane\n",
    "# gp_radec.ra : 0., 360.\n",
    "# gp_radec.dec : -90, 90\n",
    "# Old method\n",
    "#gp_ra_toplot = coordinates.Angle(gp_radec.ra.degree*u.degree)\n",
    "#gp_ra_toplot = gp_ra_toplot.wrap_at(180*u.degree)\n",
    "# gp_ra_toplot -180, 180\n",
    "\n",
    "#new method in radian with ra_to_mollweide\n",
    "gp_ra_toplot = ra_to_mollweide(gp_radec.ra.radian)\n",
    "gp_dec_toplot = gp_radec.dec.radian"
   ]
  },
  {
   "cell_type": "markdown",
   "id": "7e7f8b7d-3693-4121-867a-336b1bf0118e",
   "metadata": {},
   "source": [
    "#### Convert data (ra,dec) into radian"
   ]
  },
  {
   "cell_type": "code",
   "execution_count": null,
   "id": "527a501a-41fd-4bb1-8db5-22c9d70fba5a",
   "metadata": {
    "execution": {
     "iopub.execute_input": "2025-05-01T18:24:20.352183Z",
     "iopub.status.busy": "2025-05-01T18:24:20.352051Z",
     "iopub.status.idle": "2025-05-01T18:24:20.358287Z",
     "shell.execute_reply": "2025-05-01T18:24:20.357933Z",
     "shell.execute_reply.started": "2025-05-01T18:24:20.352170Z"
    }
   },
   "outputs": [],
   "source": [
    "ra = coordinates.Angle(df_visits['s_ra'].values,unit=\"deg\").radian\n",
    "dec = coordinates.Angle(df_visits['s_dec'].values,unit=\"deg\").radian"
   ]
  },
  {
   "cell_type": "code",
   "execution_count": null,
   "id": "e99f4a95-1534-4345-b37c-c1de06bbd717",
   "metadata": {
    "execution": {
     "iopub.execute_input": "2025-05-01T18:24:20.358894Z",
     "iopub.status.busy": "2025-05-01T18:24:20.358756Z",
     "iopub.status.idle": "2025-05-01T18:24:20.558684Z",
     "shell.execute_reply": "2025-05-01T18:24:20.558247Z",
     "shell.execute_reply.started": "2025-05-01T18:24:20.358880Z"
    }
   },
   "outputs": [],
   "source": [
    "# plot\n",
    "# x arg in rad must be (-2pi,2pi), y arg in rad  must be in ( -pi,pi )\n",
    "fig = plt.figure(figsize=(12,6))\n",
    "#ax = fig.add_subplot(111, projection=\"aitoff\")\n",
    "ax = fig.add_subplot(111, projection=\"mollweide\")\n",
    "\n",
    "#galactic plane\n",
    "ax.scatter(gp_ra_toplot, gp_dec_toplot,c=\"r\",label=\"Galactic Plane\",s=1)\n",
    "\n",
    "#ax.scatter(ra-np.pi,dec,marker='+',c=all_colors_g)\n",
    "#im = ax.scatter(ra_g.values-np.pi,dec_g.values,marker='+',s=50,lw=3,c=dt,cmap=palette_spectral)\n",
    "im = ax.scatter(ra_to_mollweide(ra_g.values),dec_g.values,marker='+',s=50,lw=3,c=dt,cmap=palette_spectral)\n",
    "\n",
    "ax.legend()\n",
    "ax.grid()\n",
    "\n",
    "cbar = plt.colorbar(im, orientation='horizontal', label='time(days)')\n",
    "plt.suptitle(instrument,fontsize=20,fontweight=\"bold\")\n",
    "plt.show()"
   ]
  },
  {
   "cell_type": "code",
   "execution_count": null,
   "id": "a64830f2-4fb0-4120-8fc7-2711d2e958ac",
   "metadata": {
    "execution": {
     "iopub.execute_input": "2025-05-01T18:24:20.559404Z",
     "iopub.status.busy": "2025-05-01T18:24:20.559254Z",
     "iopub.status.idle": "2025-05-01T18:24:20.772164Z",
     "shell.execute_reply": "2025-05-01T18:24:20.771766Z",
     "shell.execute_reply.started": "2025-05-01T18:24:20.559388Z"
    }
   },
   "outputs": [],
   "source": [
    "import numpy as np\n",
    "import matplotlib.pyplot as plt\n",
    "\n",
    "# Coordonnées des Deep Drilling Fields (RA en degrés, Dec en degrés)\n",
    "ddf_names = ['XMM-LSS', 'COSMOS', 'ECDFS', 'ELAIS-S1', 'EDFS_a','EDFS_b']\n",
    "ddf_ra_deg = np.array([35.57, 150.11, 52.98, 9.45, 58.90, 63.60])   # approximatif\n",
    "ddf_dec_deg = np.array([-4.82, 2.23, -28.12, -44.02, -49.32,-47.60])  # approximatif\n",
    "\n",
    "\n",
    "# Conversion en radians et adaptation pour Mollweide projection\n",
    "ddf_ra_rad = np.radians(ddf_ra_deg)\n",
    "ddf_dec_rad = np.radians(ddf_dec_deg)\n",
    "# Décalage pour Mollweide (RA=0h au centre), donc -π à π\n",
    "#ddf_ra_rad = np.remainder(ddf_ra_rad + 2*np.pi, 2*np.pi)  # force RA entre 0 et 2pi\n",
    "#ddf_ra_rad[ddf_ra_rad > np.pi] -= 2*np.pi  # force entre -pi et +pi\n",
    "#ddf_ra_rad = -ddf_ra_rad  # reverse l'axe des RA\n",
    "ddf_ra_rad = ra_to_mollweide(ddf_ra_rad)\n",
    "\n",
    "# --- Ton plot existant ---\n",
    "fig = plt.figure(figsize=(12,6))\n",
    "ax = fig.add_subplot(111, projection=\"mollweide\")\n",
    "\n",
    "# Exemple de paln galactique\n",
    "ax.scatter(gp_ra_toplot, gp_dec_toplot, c=\"r\", label=\"Galactic Plane\", s=1)\n",
    "#im = ax.scatter(ra_g.values - np.pi, dec_g.values, marker='+', s=50, lw=3, c=dt, cmap=palette_spectral)\n",
    "im = ax.scatter(ra_to_mollweide(ra_g.values),dec_g.values,marker='+',s=50,lw=2,c=dt,cmap=palette_spectral)\n",
    "\n",
    "# Ajout des Deep Drilling Fields\n",
    "for i in range(len(ddf_names)):\n",
    "    ax.plot(ddf_ra_rad[i], ddf_dec_rad[i], 'o', markersize=10, color='gold', markeredgecolor='black')\n",
    "    ax.text(ddf_ra_rad[i]+0.05, ddf_dec_rad[i]+0.05, ddf_names[i], fontsize=10, color='gold', ha='left', va='bottom', weight='bold')\n",
    "\n",
    "ax.legend()\n",
    "ax.grid()\n",
    "\n",
    "cbar = plt.colorbar(im, orientation='horizontal', label='time (days)')\n",
    "plt.suptitle(instrument,fontsize=20,fontweight=\"bold\")\n",
    "plt.show()\n",
    "\n",
    "\n"
   ]
  },
  {
   "cell_type": "code",
   "execution_count": null,
   "id": "68103a62-2d53-4ff8-a002-799d8591223d",
   "metadata": {
    "execution": {
     "iopub.execute_input": "2025-05-01T18:24:20.772979Z",
     "iopub.status.busy": "2025-05-01T18:24:20.772831Z",
     "iopub.status.idle": "2025-05-01T18:24:21.270266Z",
     "shell.execute_reply": "2025-05-01T18:24:21.269757Z",
     "shell.execute_reply.started": "2025-05-01T18:24:20.772964Z"
    }
   },
   "outputs": [],
   "source": [
    "import numpy as np\n",
    "import matplotlib.pyplot as plt\n",
    "\n",
    "# Coordonnées des Deep Drilling Fields (RA en degrés, Dec en degrés)\n",
    "ddf_names = ['XMM-LSS', 'COSMOS', 'ECDFS', 'ELAIS-S1', 'EDFS_a','EDFS_b']\n",
    "ddf_ra_deg = np.array([35.57, 150.11, 52.98, 9.45, 58.90, 63.60])   # approximatif\n",
    "ddf_dec_deg = np.array([-4.82, 2.23, -28.12, -44.02, -49.32,-47.60])  # approximatif\n",
    "\n",
    "\n",
    "# Conversion en radians et adaptation pour Mollweide projection\n",
    "ddf_ra_rad = np.radians(ddf_ra_deg)\n",
    "ddf_dec_rad = np.radians(ddf_dec_deg)\n",
    "#ddf_ra_rad = np.remainder(ddf_ra_rad + 2*np.pi, 2*np.pi)\n",
    "#ddf_ra_rad[ddf_ra_rad > np.pi] -= 2*np.pi\n",
    "#ddf_ra_rad = -ddf_ra_rad\n",
    "ddf_ra_rad = ra_to_mollweide(ddf_ra_rad)\n",
    "\n",
    "# Rayon du cercle en radians (~3.5 degrés)\n",
    "radius_deg = 3.5\n",
    "radius_rad = np.radians(radius_deg)\n",
    "\n",
    "# --- Ton plot existant ---\n",
    "fig = plt.figure(figsize=(12,6))\n",
    "ax = fig.add_subplot(111, projection=\"mollweide\")\n",
    "\n",
    "# Plan galactique\n",
    "ax.scatter(gp_ra_toplot, gp_dec_toplot, c=\"r\", label=\"Galactic Plane\", s=1)\n",
    "#im = ax.scatter(ra_g.values - np.pi, dec_g.values, marker='+', s=50, lw=3, c=dt, cmap=palette_spectral)\n",
    "im = ax.scatter(ra_to_mollweide(ra_g.values),dec_g.values,marker='+',s=50,lw=3,c=dt,cmap=palette_spectral)\n",
    "\n",
    "# Couleur choisie\n",
    "ddf_color = 'navy'  # bleu foncé\n",
    "\n",
    "# Ajout des Deep Drilling Fields\n",
    "for i in range(len(ddf_names)):\n",
    "    # Marqueur central\n",
    "    ax.plot(ddf_ra_rad[i], ddf_dec_rad[i], 'o', markersize=10, lw=2 ,color=ddf_color, markeredgecolor='black')\n",
    "    ax.text(ddf_ra_rad[i]+0.05, ddf_dec_rad[i]+0.05, ddf_names[i], fontsize=10, color=ddf_color, ha='left', va='bottom', weight='bold')\n",
    "    \n",
    "    # Cercle autour\n",
    "    theta = np.linspace(0, 2*np.pi, 100)\n",
    "    circle_ra = ddf_ra_rad[i] + radius_rad * np.cos(theta)\n",
    "    circle_dec = ddf_dec_rad[i] + radius_rad * np.sin(theta)\n",
    "    ax.plot(circle_ra, circle_dec, color=ddf_color, linestyle='--', lw=1)\n",
    "\n",
    "ax.legend()\n",
    "ax.grid()\n",
    "\n",
    "cbar = plt.colorbar(im, orientation='horizontal', label='time (days)')\n",
    "plt.suptitle(instrument)\n",
    "\n",
    "# --- Ajouter aussi le LMC ---\n",
    "# Coordonnées du Grand Nuage de Magellan (LMC)\n",
    "lmc_ra_deg = 80.8939\n",
    "lmc_dec_deg = -69.7561\n",
    "\n",
    "# Conversion en radians\n",
    "lmc_ra_rad = np.radians(lmc_ra_deg)\n",
    "lmc_dec_rad = np.radians(lmc_dec_deg)\n",
    "\n",
    "# Ajustement Mollweide\n",
    "lmc_ra_rad = np.remainder(lmc_ra_rad + 2*np.pi, 2*np.pi)\n",
    "if lmc_ra_rad > np.pi:\n",
    "    lmc_ra_rad -= 2*np.pi\n",
    "lmc_ra_rad = -lmc_ra_rad\n",
    "#lmc_ra_rad = ra_to_mollweide([lmc_ra_rad])[0]\n",
    "\n",
    "# Ajouter LMC au plot\n",
    "ax.plot(lmc_ra_rad, lmc_dec_rad, marker='*', color='darkorange', markersize=15, markeredgecolor='black', label='LMC')\n",
    "ax.text(lmc_ra_rad + 0.05, lmc_dec_rad + 0.05, 'LMC', fontsize=10, color='darkorange', ha='left', va='bottom', weight='bold')\n",
    "\n",
    "plt.suptitle(instrument,fontsize=20,fontweight=\"bold\")\n",
    "plt.show()\n",
    "\n"
   ]
  },
  {
   "cell_type": "markdown",
   "id": "7310a336-342e-49b4-bdd7-eb5295afed7c",
   "metadata": {
    "execution": {
     "iopub.status.busy": "2025-04-18T15:21:32.428824Z",
     "iopub.status.idle": "2025-04-18T15:21:32.428991Z",
     "shell.execute_reply": "2025-04-18T15:21:32.428916Z",
     "shell.execute_reply.started": "2025-04-18T15:21:32.428908Z"
    }
   },
   "source": [
    "## Time dependence"
   ]
  },
  {
   "cell_type": "code",
   "execution_count": null,
   "id": "d6e78b73-58a4-40e5-bc6a-2c95f6953ae3",
   "metadata": {
    "execution": {
     "iopub.execute_input": "2025-05-01T18:24:21.271000Z",
     "iopub.status.busy": "2025-05-01T18:24:21.270862Z",
     "iopub.status.idle": "2025-05-01T18:24:21.276106Z",
     "shell.execute_reply": "2025-05-01T18:24:21.275761Z",
     "shell.execute_reply.started": "2025-05-01T18:24:21.270987Z"
    }
   },
   "outputs": [],
   "source": [
    "time = Time(visits['exp_midpt'])"
   ]
  },
  {
   "cell_type": "code",
   "execution_count": null,
   "id": "c9ae914c-b595-4f94-adff-2b77996fa096",
   "metadata": {
    "execution": {
     "iopub.execute_input": "2025-05-01T18:24:21.276652Z",
     "iopub.status.busy": "2025-05-01T18:24:21.276521Z",
     "iopub.status.idle": "2025-05-01T18:24:21.284691Z",
     "shell.execute_reply": "2025-05-01T18:24:21.284347Z",
     "shell.execute_reply.started": "2025-05-01T18:24:21.276639Z"
    }
   },
   "outputs": [],
   "source": [
    "print('tmin = ',time.min(),' | tmax = ',time.max())"
   ]
  },
  {
   "cell_type": "markdown",
   "id": "10161d7e-3d6b-4eb5-9871-d024961b0846",
   "metadata": {},
   "source": [
    "### Airmass vs Time"
   ]
  },
  {
   "cell_type": "code",
   "execution_count": null,
   "id": "2ac16eec-4253-4647-a4c0-15c5e9ebd094",
   "metadata": {
    "execution": {
     "iopub.execute_input": "2025-05-01T18:24:21.285398Z",
     "iopub.status.busy": "2025-05-01T18:24:21.285271Z",
     "iopub.status.idle": "2025-05-01T18:24:21.411456Z",
     "shell.execute_reply": "2025-05-01T18:24:21.411041Z",
     "shell.execute_reply.started": "2025-05-01T18:24:21.285385Z"
    }
   },
   "outputs": [],
   "source": [
    "\n",
    "# Plot the time vs the specified column\n",
    "plt.figure(figsize=(12, 4))\n",
    "plt.plot(time.plot_date, visits['airmass'],'b.')\n",
    "\n",
    "# Set x-axis to show dates\n",
    "#plt.gca().xaxis.set_major_formatter(mdates.DateFormatter('%Y-%m-%d %H:%M:%S'))\n",
    "plt.gca().xaxis.set_major_formatter(mdates.DateFormatter('%Y-%m-%d %H'))\n",
    "plt.gca().xaxis.set_major_locator(mdates.AutoDateLocator())\n",
    "\n",
    "# Rotate and format x-axis labels for readability\n",
    "plt.xticks(rotation=45, ha='right')\n",
    "\n",
    "plt.xlabel('Time')\n",
    "plt.ylabel('Airmass')\n",
    "plt.title(f'Time vs Airmass')\n",
    "plt.legend()\n",
    "plt.grid(True)\n",
    "plt.tight_layout()  # Adjust layout to prevent clipping of labels\n",
    "plt.show()"
   ]
  },
  {
   "cell_type": "code",
   "execution_count": null,
   "id": "6e94a1a2-f7a9-45fd-9fb7-876cd2634afc",
   "metadata": {},
   "outputs": [],
   "source": []
  },
  {
   "cell_type": "code",
   "execution_count": null,
   "id": "4f3d1575-f9ba-41bc-a983-07d7c7ade714",
   "metadata": {
    "execution": {
     "iopub.execute_input": "2025-05-01T18:24:21.412243Z",
     "iopub.status.busy": "2025-05-01T18:24:21.412099Z",
     "iopub.status.idle": "2025-05-01T18:24:21.534928Z",
     "shell.execute_reply": "2025-05-01T18:24:21.534523Z",
     "shell.execute_reply.started": "2025-05-01T18:24:21.412228Z"
    }
   },
   "outputs": [],
   "source": [
    "# Plot the time vs the specified column\n",
    "plt.figure(figsize=(12, 4))\n",
    "plt.plot(time.plot_date, visits['air_temp'],'b.')\n",
    "\n",
    "# Set x-axis to show dates\n",
    "#plt.gca().xaxis.set_major_formatter(mdates.DateFormatter('%Y-%m-%d %H:%M:%S'))\n",
    "plt.gca().xaxis.set_major_formatter(mdates.DateFormatter('%Y-%m-%d %H'))\n",
    "plt.gca().xaxis.set_major_locator(mdates.AutoDateLocator())\n",
    "\n",
    "# Rotate and format x-axis labels for readability\n",
    "plt.xticks(rotation=45, ha='right')\n",
    "\n",
    "plt.xlabel('Time')\n",
    "plt.ylabel('air_temp')\n",
    "plt.title(f'air_temp vs time')\n",
    "plt.legend()\n",
    "plt.grid(True)\n",
    "plt.tight_layout()  # Adjust layout to prevent clipping of labels\n",
    "plt.show()"
   ]
  },
  {
   "cell_type": "code",
   "execution_count": null,
   "id": "745d7739-954b-4947-9b37-4e15658087c5",
   "metadata": {
    "execution": {
     "iopub.execute_input": "2025-05-01T18:24:21.535577Z",
     "iopub.status.busy": "2025-05-01T18:24:21.535438Z",
     "iopub.status.idle": "2025-05-01T18:24:21.660270Z",
     "shell.execute_reply": "2025-05-01T18:24:21.659872Z",
     "shell.execute_reply.started": "2025-05-01T18:24:21.535563Z"
    }
   },
   "outputs": [],
   "source": [
    "# Plot the time vs the specified column\n",
    "plt.figure(figsize=(12, 4))\n",
    "plt.plot(time.plot_date, visits['pressure'],'b.')\n",
    "\n",
    "# Set x-axis to show dates\n",
    "#plt.gca().xaxis.set_major_formatter(mdates.DateFormatter('%Y-%m-%d %H:%M:%S'))\n",
    "plt.gca().xaxis.set_major_formatter(mdates.DateFormatter('%Y-%m-%d %H'))\n",
    "plt.gca().xaxis.set_major_locator(mdates.AutoDateLocator())\n",
    "\n",
    "# Rotate and format x-axis labels for readability\n",
    "plt.xticks(rotation=45, ha='right')\n",
    "\n",
    "plt.xlabel('Time')\n",
    "plt.ylabel('pressure')\n",
    "plt.title(f'pressure vs time')\n",
    "plt.legend()\n",
    "plt.grid(True)\n",
    "plt.tight_layout()  # Adjust layout to prevent clipping of labels\n",
    "plt.show()"
   ]
  },
  {
   "cell_type": "code",
   "execution_count": null,
   "id": "c56e229e-e2a7-4311-a619-ef77678cd07a",
   "metadata": {
    "execution": {
     "iopub.execute_input": "2025-05-01T18:24:21.660916Z",
     "iopub.status.busy": "2025-05-01T18:24:21.660779Z",
     "iopub.status.idle": "2025-05-01T18:24:21.786496Z",
     "shell.execute_reply": "2025-05-01T18:24:21.786100Z",
     "shell.execute_reply.started": "2025-05-01T18:24:21.660903Z"
    }
   },
   "outputs": [],
   "source": [
    "# Plot the time vs the specified column\n",
    "plt.figure(figsize=(12, 4))\n",
    "plt.plot(time.plot_date, visits['humidity'],'b.')\n",
    "\n",
    "# Set x-axis to show dates\n",
    "#plt.gca().xaxis.set_major_formatter(mdates.DateFormatter('%Y-%m-%d %H:%M:%S'))\n",
    "plt.gca().xaxis.set_major_formatter(mdates.DateFormatter('%Y-%m-%d %H'))\n",
    "plt.gca().xaxis.set_major_locator(mdates.AutoDateLocator())\n",
    "\n",
    "# Rotate and format x-axis labels for readability\n",
    "plt.xticks(rotation=45, ha='right')\n",
    "\n",
    "plt.xlabel('Time')\n",
    "plt.ylabel('humidity')\n",
    "plt.title(f'humidity vs time')\n",
    "plt.legend()\n",
    "plt.grid(True)\n",
    "plt.tight_layout()  # Adjust layout to prevent clipping of labels\n",
    "plt.show()"
   ]
  },
  {
   "cell_type": "code",
   "execution_count": null,
   "id": "69edab7a-5891-4423-9011-2ce78e570a6f",
   "metadata": {
    "execution": {
     "iopub.execute_input": "2025-05-01T18:24:21.787113Z",
     "iopub.status.busy": "2025-05-01T18:24:21.786976Z",
     "iopub.status.idle": "2025-05-01T18:24:21.912817Z",
     "shell.execute_reply": "2025-05-01T18:24:21.912404Z",
     "shell.execute_reply.started": "2025-05-01T18:24:21.787099Z"
    }
   },
   "outputs": [],
   "source": [
    "# Plot the time vs the specified column\n",
    "plt.figure(figsize=(12, 4))\n",
    "plt.plot(time.plot_date, visits['wind_speed'],'b.')\n",
    "\n",
    "# Set x-axis to show dates\n",
    "#plt.gca().xaxis.set_major_formatter(mdates.DateFormatter('%Y-%m-%d %H:%M:%S'))\n",
    "plt.gca().xaxis.set_major_formatter(mdates.DateFormatter('%Y-%m-%d %H'))\n",
    "plt.gca().xaxis.set_major_locator(mdates.AutoDateLocator())\n",
    "\n",
    "# Rotate and format x-axis labels for readability\n",
    "plt.xticks(rotation=45, ha='right')\n",
    "\n",
    "plt.xlabel('Time')\n",
    "plt.ylabel('wind_speed')\n",
    "plt.title(f'wind_speed vs time')\n",
    "plt.legend()\n",
    "plt.grid(True)\n",
    "plt.tight_layout()  # Adjust layout to prevent clipping of labels\n",
    "plt.show()"
   ]
  },
  {
   "cell_type": "code",
   "execution_count": null,
   "id": "5b53fb9e-dc8a-4bd3-bb9e-6c5640070191",
   "metadata": {
    "execution": {
     "iopub.execute_input": "2025-05-01T18:24:21.913462Z",
     "iopub.status.busy": "2025-05-01T18:24:21.913318Z",
     "iopub.status.idle": "2025-05-01T18:24:22.039157Z",
     "shell.execute_reply": "2025-05-01T18:24:22.038743Z",
     "shell.execute_reply.started": "2025-05-01T18:24:21.913447Z"
    }
   },
   "outputs": [],
   "source": [
    "# Plot the time vs the specified column\n",
    "plt.figure(figsize=(12, 4))\n",
    "plt.plot(time.plot_date, visits['wind_dir'],'b.')\n",
    "\n",
    "# Set x-axis to show dates\n",
    "#plt.gca().xaxis.set_major_formatter(mdates.DateFormatter('%Y-%m-%d %H:%M:%S'))\n",
    "plt.gca().xaxis.set_major_formatter(mdates.DateFormatter('%Y-%m-%d %H'))\n",
    "plt.gca().xaxis.set_major_locator(mdates.AutoDateLocator())\n",
    "\n",
    "# Rotate and format x-axis labels for readability\n",
    "plt.xticks(rotation=45, ha='right')\n",
    "\n",
    "plt.xlabel('Time')\n",
    "plt.ylabel('wind_dir')\n",
    "plt.title(f'wind_dir vs time')\n",
    "plt.legend()\n",
    "plt.grid(True)\n",
    "plt.tight_layout()  # Adjust layout to prevent clipping of labels\n",
    "plt.show()"
   ]
  },
  {
   "cell_type": "code",
   "execution_count": null,
   "id": "78ad5bbb-6425-4265-91f9-0f93a0286123",
   "metadata": {
    "execution": {
     "iopub.execute_input": "2025-05-01T18:24:22.039833Z",
     "iopub.status.busy": "2025-05-01T18:24:22.039683Z",
     "iopub.status.idle": "2025-05-01T18:24:22.159177Z",
     "shell.execute_reply": "2025-05-01T18:24:22.158767Z",
     "shell.execute_reply.started": "2025-05-01T18:24:22.039819Z"
    }
   },
   "outputs": [],
   "source": [
    "# Plot the time vs the specified column\n",
    "plt.figure(figsize=(12, 4))\n",
    "plt.plot(time.plot_date, visits['dimm_seeing'],'b.')\n",
    "\n",
    "# Set x-axis to show dates\n",
    "#plt.gca().xaxis.set_major_formatter(mdates.DateFormatter('%Y-%m-%d %H:%M:%S'))\n",
    "plt.gca().xaxis.set_major_formatter(mdates.DateFormatter('%Y-%m-%d %H'))\n",
    "plt.gca().xaxis.set_major_locator(mdates.AutoDateLocator())\n",
    "\n",
    "# Rotate and format x-axis labels for readability\n",
    "plt.xticks(rotation=45, ha='right')\n",
    "\n",
    "plt.xlabel('Time')\n",
    "plt.ylabel('dimm_seeing')\n",
    "plt.title(f'dimm_seeing vs time')\n",
    "plt.legend()\n",
    "plt.grid(True)\n",
    "plt.tight_layout()  # Adjust layout to prevent clipping of labels\n",
    "plt.show()"
   ]
  },
  {
   "cell_type": "code",
   "execution_count": null,
   "id": "aae79c73-d9cf-4d89-8d85-f0ebcaf259ef",
   "metadata": {
    "execution": {
     "iopub.execute_input": "2025-05-01T18:24:22.159844Z",
     "iopub.status.busy": "2025-05-01T18:24:22.159692Z",
     "iopub.status.idle": "2025-05-01T18:24:22.284963Z",
     "shell.execute_reply": "2025-05-01T18:24:22.284568Z",
     "shell.execute_reply.started": "2025-05-01T18:24:22.159829Z"
    }
   },
   "outputs": [],
   "source": [
    "# Plot the time vs the specified column\n",
    "plt.figure(figsize=(12, 4))\n",
    "plt.plot(time.plot_date, visits['focus_z'],'b.')\n",
    "\n",
    "# Set x-axis to show dates\n",
    "#plt.gca().xaxis.set_major_formatter(mdates.DateFormatter('%Y-%m-%d %H:%M:%S'))\n",
    "plt.gca().xaxis.set_major_formatter(mdates.DateFormatter('%Y-%m-%d %H'))\n",
    "plt.gca().xaxis.set_major_locator(mdates.AutoDateLocator())\n",
    "\n",
    "# Rotate and format x-axis labels for readability\n",
    "plt.xticks(rotation=45, ha='right')\n",
    "\n",
    "plt.xlabel('Time')\n",
    "plt.ylabel('focus_z')\n",
    "plt.title(f'focus_z vs time')\n",
    "plt.legend()\n",
    "plt.grid(True)\n",
    "plt.tight_layout()  # Adjust layout to prevent clipping of labels\n",
    "plt.show()"
   ]
  }
 ],
 "metadata": {
  "kernelspec": {
   "display_name": "LSST",
   "language": "python",
   "name": "lsst"
  },
  "language_info": {
   "codemirror_mode": {
    "name": "ipython",
    "version": 3
   },
   "file_extension": ".py",
   "mimetype": "text/x-python",
   "name": "python",
   "nbconvert_exporter": "python",
   "pygments_lexer": "ipython3",
   "version": "3.12.9"
  }
 },
 "nbformat": 4,
 "nbformat_minor": 5
}
