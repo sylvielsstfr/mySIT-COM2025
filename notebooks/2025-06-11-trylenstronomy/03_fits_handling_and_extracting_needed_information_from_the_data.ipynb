{
 "cells": [
  {
   "cell_type": "markdown",
   "id": "bb339fdc-1c2c-4afb-9081-f507c15890ac",
   "metadata": {},
   "source": [
    "# FITS handling and extracting needed information from the data prior to modeling\n",
    "This notebook gives an example of reading in data from a fits file and performing a modeling. Please note: lenstronomy is a modeling and analysis software package. The handling of the data, reductions and the extraction of the relevant quantities from the data are in the responsibility of the user. The examples provided here may be used as orientation for new users.\n",
    "\n",
    "- General fits handling with astropy can be found here: https://docs.astropy.org/en/stable/io/fits/\n",
    "- Information about astropy coordinate systems can be found here:\n",
    "http://docs.astropy.org/en/stable/wcs/\n",
    "- For the units and coordinate system description of lenstronomy, see the following Jupyter Notebook:\n",
    "https://github.com/sibirrer/lenstronomy_extensions/blob/main/lenstronomy_extensions/Notebooks/units_coordinates_parameters.ipynb\n",
    "- For reduction of HST data you may find useful Notebooks here: https://github.com/ajshajib/hst-lens"
   ]
  },
  {
   "cell_type": "markdown",
   "id": "8d6d6e7c-ecfa-4b0e-8cde-39e36ba25366",
   "metadata": {},
   "source": [
    "- https://colab.research.google.com/github/lenstronomy/lenstronomy-tutorials/blob/main/Notebooks/GettingStarted/fits_handling_and_extracting_needed_information_from_the_data.ipynb#scrollTo=5e3MBKK27lxT"
   ]
  },
  {
   "cell_type": "code",
   "execution_count": null,
   "id": "a70c94b4-b4a4-4a49-8662-cb86384e6d1f",
   "metadata": {},
   "outputs": [],
   "source": [
    "# make sure lenstronomy is installed, otherwise install the latest pip version\n",
    "try:\n",
    "    import lenstronomy\n",
    "except:\n",
    "    !pip install lenstronomy"
   ]
  },
  {
   "cell_type": "markdown",
   "id": "5a8020fe-ba14-4ae8-a5ec-f04160db3e49",
   "metadata": {},
   "source": [
    "## coordinate system from fits header\n",
    "Most fits data formats suport the WCS class of astropy and distortion corrected pixel to coordinate transformations are supported. lenstronomy currently only supports linear transformations. This is in most cases sufficient if the linear transformations are computed at the position of the lens in the image.\n",
    "\n",
    "The linear transformations are often marked in the header of the fits file in units of degrees."
   ]
  },
  {
   "cell_type": "code",
   "execution_count": null,
   "id": "992702e0-c7d7-4784-b0f4-877f261358a3",
   "metadata": {},
   "outputs": [],
   "source": [
    "# header entries for the linear transformation (from a HST data header)\n",
    "header = {'CD1_1': 5.73840710288063E-06, \n",
    "          'CD1_2': 1.26468148676247E-05, \n",
    "          'CD2_1': 1.26468146588748E-05, \n",
    "          'CD2_2': -5.7384070845446E-06,\n",
    "          'NAXIS1': 4244,\n",
    "          'NAXIS2': 4477\n",
    "         }\n",
    "\n",
    "# read out matrix elements and convert them in units of arc seconds\n",
    "CD1_1 = header.get('CD1_1') * 3600  # change in arc sec per pixel d(ra)/dx\n",
    "CD1_2 = header.get('CD1_2') * 3600\n",
    "CD2_1 = header.get('CD2_1') * 3600\n",
    "CD2_2 = header.get('CD2_2') * 3600\n",
    "\n",
    "# generate pixel-to-coordinate transform matrix and its inverse\n",
    "import numpy as np\n",
    "pix2coord_transform_undistorted = np.array([[CD1_1, CD1_2], [CD2_1, CD2_2]])\n",
    "det = CD1_1*CD2_2 - CD1_2*CD2_1\n",
    "coord2pix_transform_undistorted = np.array([[CD2_2, -CD1_2], [-CD2_1, CD1_1]])/det\n",
    "\n",
    "# as an example, we set the coordinate zero point in the center of the image and compute \n",
    "# the coordinate at the pixel (0,0) at the edge of the image\n",
    "\n",
    "# read out pixel size of image\n",
    "nx = header.get('NAXIS1')\n",
    "ny = header.get('NAXIS2')\n",
    "x_c = int(nx / 2)\n",
    "y_c = int(ny / 2)\n",
    "\n",
    "# compute RA/DEC relative shift between the edge and the center of the image\n",
    "dra, ddec = pix2coord_transform_undistorted.dot(np.array([x_c, y_c]))\n",
    "# set edge of the image such that the center has RA/DEC = (0,0)\n",
    "ra_at_xy_0, dec_at_xy_0 = -dra, -ddec"
   ]
  },
  {
   "cell_type": "markdown",
   "id": "7ee159cd-a841-4664-963f-0bca314d14dc",
   "metadata": {},
   "source": [
    "Hints:\n",
    "- Pay attention with conversion of absolute coordinates on the sky to relative coordinates (right ascention has a scaling with declination).\n",
    "- Set the coordinate system conveniently and well defined, e.g. with a zero point in the center of an object."
   ]
  },
  {
   "cell_type": "markdown",
   "id": "d7cb3026-de45-4127-99b5-65659f589245",
   "metadata": {},
   "source": [
    "## noise properties from data\n",
    "Noise properties can be estimated from the data. The noise implementation in lenstronomy uses a Gaussian noise component that is uniform and a Poissonian shot noise component that is directly related to the total number of independent photons hitting the detector.\n",
    "- The Gaussian component can be estimated by e.g. computing the r.m.s. value of the pixel values in regions where no (or neglible) signal is expected.\n",
    "- The Poissonian noise component requires the total counts per pixel, which is the exposure time x pixel values (if the units are in photons/time). Attention: sometimes the units are in ADU units and require a CCD gain conversion.\n",
    "\n",
    "\n",
    "Attention: \n",
    "- Noise properties can be correlated, depending also on the data reduction steps undertaken. This notebook is not meant to be a data reduction tutorial.\n",
    "- Be careful in checking the noise properties and units in your data. This is an important step in conduction scientific investigation and only a valid data product allows to derive a probabilistic statement."
   ]
  },
  {
   "cell_type": "markdown",
   "id": "aa03344c-da94-4048-b139-e4460b7e9b38",
   "metadata": {},
   "source": [
    "## point spread function (PSF) estimate\n",
    "The point spread function of the observations is a required and crucial component of any imaging modeling. The reliable extraction of this quantity from the data may be hard. The commonly used strategies are:\n",
    "- Using a PSF library from derived or simulated products provided.\n",
    "- Using nearby point sources (e.g. stars) to estimate the PSF.\n",
    "In some work, an iterative correction of the PSF has been performed. lenstronomy has support for this (but may not work in all circumstances and is rather involved).\n",
    "\n",
    "\n",
    "Attention:\n",
    "- The PSF can vary over the scale of an image.\n",
    "- The PSF is generally wave-length dependent and different SED objects may have slightly different PSF.\n",
    "- The PSF imported into lenstronomy is assumed to be a point source emission at the center of the central pixel. If the PSF imported is off-centered, this can lead to bad fitting results.\n",
    "- Do not de-convolve your image. lenstronomy performs best if the data product is untouched and the convolution is performed on the model. De-convolution is model dependent and generally there exists no unique solution."
   ]
  },
  {
   "cell_type": "markdown",
   "id": "a9502193-856c-4673-bb93-e52deaedc53e",
   "metadata": {},
   "source": [
    "Below is an example of how a pixelized PSF is imported in the PSF() class. For more details and options of PSF models, we refer to the documentation of the PSF() class."
   ]
  },
  {
   "cell_type": "code",
   "execution_count": null,
   "id": "c078834c-504c-431e-949c-82f8c81b9933",
   "metadata": {},
   "outputs": [],
   "source": []
  },
  {
   "cell_type": "code",
   "execution_count": null,
   "id": "f1990ced-bb75-42c3-8eb1-b1e0de31d082",
   "metadata": {},
   "outputs": [],
   "source": [
    "# import PSF file (here as a relative path in the lenstronomy_extension repository)\n",
    "# the psf_example.fits file can be found here:\n",
    "# https://github.com/sibirrer/lenstronomy_extensions/tree/main/Data/PSF_TinyTim\n",
    "# and imported from a local file path as well\n",
    "\n",
    "import os\n",
    "import astropy.io.fits as pyfits\n",
    "import matplotlib.pyplot as plt\n",
    "%matplotlib inline\n",
    "\n",
    "\n",
    "path = os.getcwd()\n",
    "dirpath, _ = os.path.split(path)\n",
    "module_path, _ = os.path.split(dirpath)\n",
    "#psf_filename = os.path.join(module_path, 'Data/PSF_TinyTim/psf_example.fits')\n",
    "psf_filename = './Data/PSF_TinyTim/psf_example.fits'"
   ]
  },
  {
   "cell_type": "code",
   "execution_count": null,
   "id": "fa37ccb4-4a85-47e9-b62f-24b1fc344c06",
   "metadata": {},
   "outputs": [],
   "source": [
    "pyfits.open(psf_filename)"
   ]
  },
  {
   "cell_type": "code",
   "execution_count": null,
   "id": "4f06ddb6-91be-48d1-9266-a299823ab6d5",
   "metadata": {},
   "outputs": [],
   "source": [
    "kernel = pyfits.getdata(psf_filename)\n",
    "\n",
    "plt.matshow(np.log10(kernel))\n",
    "plt.show()\n",
    "\n",
    "psf_type = 'PIXEL'  # 'gaussian', 'pixel', 'NONE'\n",
    "kernel_size = 91\n",
    "\n",
    "from lenstronomy.Data.psf import PSF\n",
    "from lenstronomy.Util import kernel_util\n",
    "kernel_cut = kernel_util.cut_psf(kernel, kernel_size)\n",
    "kwargs_psf = {'psf_type': psf_type, 'kernel_point_source': kernel_cut}\n",
    "psf_class = PSF(**kwargs_psf)\n",
    "\n",
    "kernel_psf_class = psf_class.kernel_point_source\n",
    "\n",
    "plt.matshow(np.log10(kernel_psf_class))\n",
    "plt.show()"
   ]
  },
  {
   "cell_type": "code",
   "execution_count": null,
   "id": "0099f5c1-3673-4009-ac83-858c77744d20",
   "metadata": {},
   "outputs": [],
   "source": []
  }
 ],
 "metadata": {
  "kernelspec": {
   "display_name": "conda_py313",
   "language": "python",
   "name": "conda_py313"
  },
  "language_info": {
   "codemirror_mode": {
    "name": "ipython",
    "version": 3
   },
   "file_extension": ".py",
   "mimetype": "text/x-python",
   "name": "python",
   "nbconvert_exporter": "python",
   "pygments_lexer": "ipython3",
   "version": "3.13.3"
  }
 },
 "nbformat": 4,
 "nbformat_minor": 5
}
