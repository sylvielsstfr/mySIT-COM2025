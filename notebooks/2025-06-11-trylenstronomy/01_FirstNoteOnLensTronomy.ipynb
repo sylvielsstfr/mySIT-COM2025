{
 "cells": [
  {
   "cell_type": "markdown",
   "id": "5ea9f770-c39c-425d-a7e8-3a05967be444",
   "metadata": {},
   "source": [
    "# First note on Lenstronomy"
   ]
  },
  {
   "cell_type": "markdown",
   "id": "641f555a-9156-4d99-a808-2a35f4fab58a",
   "metadata": {},
   "source": [
    "- creation date : 2025-06-11"
   ]
  },
  {
   "cell_type": "markdown",
   "id": "2c2d074f-3895-45b7-b279-222275b588e2",
   "metadata": {},
   "source": [
    "- https://arxiv.org/pdf/1803.09746"
   ]
  },
  {
   "cell_type": "markdown",
   "id": "1ba788ee-b419-4195-8ea2-23399a77575a",
   "metadata": {},
   "source": [
    "- https://lenstronomy.readthedocs.io/en/latest/"
   ]
  },
  {
   "cell_type": "markdown",
   "id": "ea0af33c-37e2-447a-b130-630563233669",
   "metadata": {},
   "source": [
    "- https://colab.research.google.com/github/lenstronomy/lenstronomy-tutorials/blob/main/Notebooks/GettingStarted/starting_guide.ipynb#scrollTo=32isZ3l7fPXj"
   ]
  },
  {
   "cell_type": "code",
   "execution_count": null,
   "id": "32e69359-c013-48c1-b5d3-fdc7bd9f348b",
   "metadata": {},
   "outputs": [],
   "source": [
    "# some standard python imports #\n",
    "import numpy as np\n",
    "import copy\n",
    "import matplotlib.pyplot as plt\n",
    "%matplotlib inline\n",
    "\n",
    "# make sure lenstronomy is installed, otherwise install the latest pip version\n",
    "try:\n",
    "    import lenstronomy\n",
    "except:\n",
    "    print(\"!pip install lenstronomy\")\n",
    "    \n",
    "print(\"This notebook is running with lenstronomy version\", lenstronomy.__version__)"
   ]
  },
  {
   "cell_type": "markdown",
   "id": "1194e8db-9556-4991-baa0-35c383f7e532",
   "metadata": {},
   "source": [
    "# *lenstronomy* starting guide\n",
    "\n",
    "Welcome to lenstronomy!\n",
    "\n",
    "This notebook aims to describe the basic functionalities of the most important modules of *lenstronomy* with some simple examples. More detailed information about the available routines and their use can be accessed through the [online documentation](https://readthedocs.com/lenstronomy) and in many other [Jupyter notebooks](https://github.com/sibirrer/lenstronomy_extensions).\n",
    "\n",
    "Also, we refer to the [strong lensing lecture notes](https://github.com/sibirrer/strong_lensing_lectures) in Jupyter form for a brief introduction in strong gravitational lensing.\n",
    "\n",
    "\n",
    "<div class=\"alert alert-warning\">\n",
    "\n",
    "**Disclamer:** Please reach out to the developers if you have questions! This is true for a beginner in gravitational lensing or have substantial experience with other lensing codes. Your questions and feedback is very valuable for us to improve the software and its documentation.\n",
    "\n",
    "</div>"
   ]
  },
  {
   "cell_type": "markdown",
   "id": "60d56a0e-b01c-485e-aa1b-1d881c4670bd",
   "metadata": {},
   "source": [
    "## Configuration"
   ]
  },
  {
   "cell_type": "markdown",
   "id": "8dfa2c52-3f91-4174-9552-bcb65a993df9",
   "metadata": {},
   "source": [
    "### LensModel module"
   ]
  },
  {
   "cell_type": "markdown",
   "id": "00334e99-9985-4ad3-9af0-acd7767ee516",
   "metadata": {},
   "source": [
    " $\\texttt{LensModel}$ module\n",
    "$\\texttt{LensModel}$ and its sub-packages execute all the purely lensing related tasks of *lenstronomy*. This includes ray-shooting, solving the lens equation, arrival time computation and non-linear solvers to optimize lens models for specific image configurations. The module allows consistent integration with single and multi plane lensing and an arbitrary superpositions of lens models. There is a wide range of lens models available. For details we refer to to the online-documentation."
   ]
  },
  {
   "cell_type": "markdown",
   "id": "d2667d1a-9ca0-4c19-a342-73324395f007",
   "metadata": {},
   "source": [
    "#### Single plane lensing\n",
    "As an example of initializing a single plane lens model as a super-position of an elliptical power-law potential and a singular isothermal sphere mass distribution and execute some basic routines:"
   ]
  },
  {
   "cell_type": "code",
   "execution_count": null,
   "id": "e45b02e0-52bf-419a-9487-4f09f24152be",
   "metadata": {},
   "outputs": [],
   "source": [
    "# import the LensModel class #\n",
    "from lenstronomy.LensModel.lens_model import LensModel\n",
    "\n",
    "# specify the choice of lens models #\n",
    "lens_model_list = ['EPL', 'SHEAR']\n",
    "\n",
    "# setup lens model class with the list of lens models #\n",
    "lensModel = LensModel(lens_model_list=lens_model_list)\n",
    "\n",
    "# define parameter values of lens models #\n",
    "kwargs_spep = {'theta_E': 1.1, 'e1': 0.1, 'e2': 0.1, 'gamma': 2., 'center_x': 0.0, 'center_y': 0}\n",
    "kwargs_shear = {'gamma1': -0.01, 'gamma2': .03}\n",
    "kwargs_lens = [kwargs_spep, kwargs_shear]\n",
    "\n",
    "\n",
    "# image plane coordinate #\n",
    "theta_ra, theta_dec = 1.3, .0\n",
    "\n",
    "# source plane coordinate #\n",
    "beta_ra, beta_dec = lensModel.ray_shooting(theta_ra, theta_dec, kwargs_lens)\n",
    "# Fermat potential #\n",
    "fermat_pot = lensModel.fermat_potential(x_image=theta_ra, y_image=theta_dec, x_source=beta_ra, y_source=beta_dec, kwargs_lens=kwargs_lens)\n",
    "\n",
    "# Magnification #\n",
    "mag = lensModel.magnification(theta_ra, theta_dec, kwargs_lens)"
   ]
  },
  {
   "cell_type": "markdown",
   "id": "26986d71-23a4-4340-902d-1b83af8225a2",
   "metadata": {},
   "source": [
    "Additionally, the $\\texttt{LensModel}$ class allows to compute the Hessian matrix, shear and convergence, deflection angle and lensing potential. These routines are fully compatible with the numpy array structure and as a superposition of an arbitrary number of single lens models."
   ]
  },
  {
   "cell_type": "markdown",
   "id": "9e884590-a2da-44ae-a820-2e57b391197a",
   "metadata": {},
   "source": [
    "### Multi-plane lensing\n",
    "\n",
    "The multi-plane setting of $\\texttt{LensModel}$ allows to place the different deflector models at different redshifts. When not further specified, the default cosmology of the $\\texttt{astropy}$ cosmology class. The interface to access the lensing functionalities remains the same.\n",
    "In this example we add an additional Singular Isothermal Sphere (SIS) model at a different redshfit."
   ]
  },
  {
   "cell_type": "code",
   "execution_count": null,
   "id": "80c2f6ef-2323-4d8f-9606-e4026e085770",
   "metadata": {},
   "outputs": [],
   "source": [
    "# keep the imports and variables from above #\n",
    "# specify redshifts of deflectors #\n",
    "redshift_list = [0.5, 0.5, 1.]\n",
    "# specify source redshift #\n",
    "z_source = 1.5\n",
    "# setup lens model class with the list of lens models #\n",
    "lens_model_list_mp = ['EPL', 'SHEAR', 'SIS']\n",
    "lensModel_mp = LensModel(lens_model_list=lens_model_list_mp, z_source=z_source, lens_redshift_list=redshift_list, multi_plane=True)\n",
    "\n",
    "kwargs_sis = {'theta_E': 0.3, 'center_x': .0, 'center_y': -0.1}\n",
    "kwargs_lens_mp = [kwargs_spep, kwargs_shear, kwargs_sis]\n",
    "\n",
    "# source plane coordinate #\n",
    "beta_ra, beta_dec = lensModel_mp.ray_shooting(theta_ra, theta_dec, kwargs_lens_mp)\n",
    "\n",
    "# Magnification #\n",
    "mag = lensModel_mp.magnification(theta_ra, theta_dec, kwargs_lens_mp)\n",
    "\n",
    "# arrival time relative to a straight path through (0,0) #\n",
    "dt = lensModel_mp.arrival_time(theta_ra, theta_dec, kwargs_lens_mp)"
   ]
  },
  {
   "cell_type": "markdown",
   "id": "f9197d07-bf69-4eca-a7a6-a2cc9e143cc1",
   "metadata": {},
   "source": [
    "## lens equation solver\n",
    "\n",
    "Solving the lens equation to compute the (multiple) image positions of a given source position can be conveniently performed within $\\texttt{LensModel}$ and is supported with a general instance of the $\\texttt{LensModel}$ class."
   ]
  },
  {
   "cell_type": "code",
   "execution_count": null,
   "id": "43f1fbff-7fd1-4d97-9f0f-432a31017a3e",
   "metadata": {},
   "outputs": [],
   "source": [
    "# keep the imports and variables from above #\n",
    "# import the lens equation solver class #\n",
    "from lenstronomy.LensModel.Solver.lens_equation_solver import LensEquationSolver\n",
    "\n",
    "# specifiy the lens model class to deal with #\n",
    "solver = LensEquationSolver(lensModel)\n",
    "\n",
    "# solve for image positions provided a lens model and the source position #\n",
    "theta_ra, theta_dec = solver.image_position_from_source(beta_ra, beta_dec, kwargs_lens)\n",
    "\n",
    "# the magnification of the point source images #\n",
    "mag = lensModel.magnification(theta_ra, theta_dec, kwargs_lens)"
   ]
  },
  {
   "cell_type": "markdown",
   "id": "b0b6d0e9-a267-4da8-a02d-b25c95c0554f",
   "metadata": {},
   "source": [
    "### illustration of lens models\n",
    "The lens models can be conveniently illustrated with routines present in the $\\texttt{Plot}$ module. As an option, you can plot the critical curves and caustics, which are computationally the most demanding part."
   ]
  },
  {
   "cell_type": "code",
   "execution_count": null,
   "id": "380a72e1-2c02-41f3-9da4-4933a8242cb0",
   "metadata": {},
   "outputs": [],
   "source": [
    "from lenstronomy.Plots import lens_plot\n",
    "f, axex = plt.subplots(1, 2, figsize=(10, 5), sharex=False, sharey=False)\n",
    "lens_plot.lens_model_plot(axex[0], lensModel=lensModel, kwargs_lens=kwargs_lens, sourcePos_x=beta_ra, sourcePos_y=beta_dec, point_source=True, with_caustics=True, fast_caustic=True, coord_inverse=False)\n",
    "lens_plot.lens_model_plot(axex[1], lensModel=lensModel_mp, kwargs_lens=kwargs_lens_mp, sourcePos_x=beta_ra, sourcePos_y=beta_dec, point_source=True, with_caustics=True, fast_caustic=True, coord_inverse=False)\n",
    "f.show()"
   ]
  },
  {
   "cell_type": "markdown",
   "id": "80cf006c-122a-445e-b559-14d39ba2b30c",
   "metadata": {},
   "source": [
    "### $\\texttt{LightModel}$ module\n",
    "\n",
    "The $\\texttt{LightModel}$ class provides the functionality to describe galaxy surface brightnesses. $\\texttt{LightModel}$ supports various analytic profiles as well as representations in shapelet basis sets. Any superposition of different profiles is allowed.\n",
    "\n",
    "The parameter levelig the amplitude of the surface brightness of a certain profile is named 'amp'. The units are not further specified and are effectively reflecting a surface brightness quantitiy integrated over the unit of angle square. In the $\\texttt{SimulationAPI}$ module, the user can conveniently chose astronomical magnitudes as inputs to the profiles, provided the magnitude zero point is declared. Have a look at the specific notebook to see a demonstration."
   ]
  },
  {
   "cell_type": "code",
   "execution_count": null,
   "id": "4dbb3303-21bc-4514-aa29-ba53beaba966",
   "metadata": {},
   "outputs": [],
   "source": [
    "# import the LightModel class #\n",
    "from lenstronomy.LightModel.light_model import LightModel\n",
    "# set up the list of light models to be used #\n",
    "source_light_model_list = ['SERSIC']\n",
    "lightModel_source = LightModel(light_model_list=source_light_model_list)\n",
    "lens_light_model_list = ['SERSIC_ELLIPSE']\n",
    "lightModel_lens = LightModel(light_model_list=lens_light_model_list)\n",
    "# define the parameters #\n",
    "kwargs_light_source = [{'amp': 100, 'R_sersic': 0.1, 'n_sersic': 1.5, 'center_x': beta_ra, 'center_y': beta_dec}]\n",
    "import lenstronomy.Util.param_util as param_util\n",
    "e1, e2 = param_util.phi_q2_ellipticity(phi=0.5, q=0.7)\n",
    "kwargs_light_lens = [{'amp': 1000, 'R_sersic': 0.1, 'n_sersic': 2.5, 'e1': e1, 'e2': e2, 'center_x': 0.1, 'center_y': 0}]\n",
    "\n",
    "# evaluate surface brightness at a specific position #\n",
    "flux = lightModel_lens.surface_brightness(x=1, y=1, kwargs_list=kwargs_light_lens)"
   ]
  },
  {
   "cell_type": "markdown",
   "id": "f432fe14-d167-49e6-b3f1-24f88c1be6f4",
   "metadata": {},
   "source": [
    "### $\\texttt{PointSource}$ module\n",
    "To accurately predict and model the positon and flux of point sources, one has to apply different numerical procedures than for extended surface brightness features. The $\\texttt{PointSource}$ class manages the different options in describing point sources (e.g. in the image plane or source plane, with fixed magnification or allowed with individual variations thereof) and provides a homogeneous interface to access image positions and magnifications."
   ]
  },
  {
   "cell_type": "code",
   "execution_count": null,
   "id": "44d61019-06c8-48df-b776-7e0c7433039b",
   "metadata": {},
   "outputs": [],
   "source": [
    "# import the PointSource class #\n",
    "from lenstronomy.PointSource.point_source import PointSource\n",
    "\n",
    "# unlensed source positon #\n",
    "point_source_model_list = ['SOURCE_POSITION']\n",
    "pointSource = PointSource(point_source_type_list=point_source_model_list, lens_model=lensModel, fixed_magnification_list=[True])\n",
    "kwargs_ps = [{'ra_source': beta_ra, 'dec_source': beta_dec, 'source_amp': 100}]\n",
    "# return image positions and amplitudes #\n",
    "x_pos, y_pos = pointSource.image_position(kwargs_ps=kwargs_ps, kwargs_lens=kwargs_lens)\n",
    "point_amp = pointSource.image_amplitude(kwargs_ps=kwargs_ps, kwargs_lens=kwargs_lens)\n",
    "\n",
    "# lensed image positions (solution of the lens equation) #\n",
    "point_source_model_list = ['LENSED_POSITION']\n",
    "pointSource = PointSource(point_source_type_list=point_source_model_list, lens_model=lensModel, fixed_magnification_list=[False])\n",
    "kwargs_ps = [{'ra_image': theta_ra, 'dec_image': theta_dec, 'point_amp': np.abs(mag)*30}]\n",
    "# return image positions and amplitudes #\n",
    "x_pos, y_pos = pointSource.image_position(kwargs_ps=kwargs_ps, kwargs_lens=kwargs_lens)\n",
    "point_amp = pointSource.image_amplitude(kwargs_ps=kwargs_ps, kwargs_lens=kwargs_lens)"
   ]
  },
  {
   "cell_type": "markdown",
   "id": "3f2deb14-b755-4c43-9670-285800cd83b2",
   "metadata": {},
   "source": [
    "### $\\texttt{Data}$ module\n",
    "The $\\texttt{PixelGrid}$ class stores and manages the coordinate frame and. the coordinate-to-pixel transformation necessary to simulate images.\n",
    "The $\\texttt{PSF}$ class handles the point spread function convolution. Supported are pixelized convolution kernels as well as some analytic profiles.\n",
    "\n",
    "The $\\texttt{Data}$ class inherits the $\\texttt{PixelGrid}$ and in addition manages data specific quantities (pixel values and noise properties) that are required when fitting models to data to estimate the likelihood of the data given a model. To simulate a mock lens, we only require an instance of the $\\texttt{PixelGrid}$ and $\\texttt{PSF}$ class."
   ]
  },
  {
   "cell_type": "code",
   "execution_count": null,
   "id": "36831267-f42e-450a-a55f-80ecbc4c06df",
   "metadata": {},
   "outputs": [],
   "source": [
    "# import the PixelGrid() class #\n",
    "from lenstronomy.Data.pixel_grid import PixelGrid\n",
    "deltaPix = 0.05  # size of pixel in angular coordinates #\n",
    "\n",
    "# setup the keyword arguments to create the Data() class #\n",
    "ra_at_xy_0, dec_at_xy_0 = -2.5, -2.5 # coordinate in angles (RA/DEC) at the position of the pixel edge (0,0)\n",
    "transform_pix2angle = np.array([[1, 0], [0, 1]]) * deltaPix  # linear translation matrix of a shift in pixel in a shift in coordinates\n",
    "kwargs_pixel = {'nx': 100, 'ny': 100,  # number of pixels per axis\n",
    "                'ra_at_xy_0': ra_at_xy_0,  # RA at pixel (0,0)\n",
    "                'dec_at_xy_0': dec_at_xy_0,  # DEC at pixel (0,0)\n",
    "                'transform_pix2angle': transform_pix2angle} \n",
    "pixel_grid = PixelGrid(**kwargs_pixel)\n",
    "# return the list of pixel coordinates #\n",
    "x_coords, y_coords = pixel_grid.pixel_coordinates\n",
    "# compute pixel value of a coordinate position #\n",
    "x_pos, y_pos = pixel_grid.map_coord2pix(ra=0, dec=0)\n",
    "# compute the coordinate value of a pixel position #\n",
    "ra_pos, dec_pos = pixel_grid.map_pix2coord(x=20, y=10)\n",
    "\n",
    "# import the PSF() class #\n",
    "from lenstronomy.Data.psf import PSF\n",
    "kwargs_psf = {'psf_type': 'GAUSSIAN',  # type of PSF model (supports 'GAUSSIAN' and 'PIXEL')\n",
    "              'fwhm': 0.1,  # full width at half maximum of the Gaussian PSF (in angular units)\n",
    "              'pixel_size': deltaPix  # angular scale of a pixel (required for a Gaussian PSF to translate the FWHM into a pixel scale)\n",
    "             }\n",
    "psf = PSF(**kwargs_psf)\n",
    "# return the pixel kernel corresponding to a point source # \n",
    "kernel = psf.kernel_point_source"
   ]
  },
  {
   "cell_type": "markdown",
   "id": "d19d871c-9f16-4b39-b61a-1ac9dc50c86d",
   "metadata": {},
   "source": [
    "### $\\texttt{ImSim}$ module\n",
    "The $\\texttt{ImSim}$ module simulates images. At its core is the $\\texttt{ImageModel}$ class. It is the interface to combine all the different components, $\\texttt{LensModel}$, $\\texttt{LightModel}$, $\\texttt{PointSource}$ and $\\texttt{Data}$ to model images. The $\\texttt{LightModel}$ can be used to model lens light (unlensed) or source light (lensed). $\\texttt{ImSim}$ is fully supporting all functionalities in each component. Additionaly, numerical precision arguments can be set in how to model the image."
   ]
  },
  {
   "cell_type": "markdown",
   "id": "2bd42bb0-e082-4b04-85e1-703c7ffde249",
   "metadata": {},
   "source": [
    "#### Simulate image\n",
    "We simulate an image with an instance of $\\texttt{ImageModel}$ that got instances of the classes we created above. We can define two different $\\texttt{LightModel}$ instances for the lens and source light. Additionally, we can define the sub-pixel ray-tracing resolution and whether the PSF convolution is applied on the higher resolution ray-tracing image or on the degraded pixel image.\n",
    "\n",
    "In this example, we do not simulate point source. You can look at the notebooks dedicated to model quads and doubles and also for time-delya cosmography."
   ]
  },
  {
   "cell_type": "code",
   "execution_count": null,
   "id": "90ecb6c5-1d28-4189-88ca-01e4805bfd89",
   "metadata": {},
   "outputs": [],
   "source": [
    "# import the ImageModel class #\n",
    "from lenstronomy.ImSim.image_model import ImageModel\n",
    "# define the numerics #\n",
    "kwargs_numerics = {'supersampling_factor': 1, # each pixel gets super-sampled (in each axis direction) \n",
    "                  'supersampling_convolution': False}\n",
    "# initialize the Image model class by combining the modules we created above #\n",
    "imageModel = ImageModel(data_class=pixel_grid, psf_class=psf, lens_model_class=lensModel,\n",
    "                        source_model_class=lightModel_source,\n",
    "                        lens_light_model_class=lightModel_lens,\n",
    "                        point_source_class=None, # in this example, we do not simulate point source.\n",
    "                        kwargs_numerics=kwargs_numerics)\n",
    "# simulate image with the parameters we have defined above #\n",
    "image = imageModel.image(kwargs_lens=kwargs_lens, kwargs_source=kwargs_light_source,\n",
    "                         kwargs_lens_light=kwargs_light_lens, kwargs_ps=kwargs_ps)\n",
    "\n",
    "# we can also add noise #\n",
    "import lenstronomy.Util.image_util as image_util\n",
    "exp_time = 100  # exposure time to quantify the Poisson noise level\n",
    "background_rms = 0.1  # background rms value\n",
    "poisson = image_util.add_poisson(image, exp_time=exp_time)\n",
    "bkg = image_util.add_background(image, sigma_bkd=background_rms)\n",
    "image_noisy = image + bkg + poisson\n",
    "\n",
    "f, axes = plt.subplots(1, 2, figsize=(8, 4), sharex=False, sharey=False)\n",
    "axes[0].matshow(np.log10(image), origin='lower')\n",
    "axes[1].matshow(np.log10(image_noisy), origin='lower')\n",
    "f.tight_layout()\n",
    "plt.show()"
   ]
  },
  {
   "cell_type": "markdown",
   "id": "3db5e6b6-9a03-4414-9db6-2a67729deed0",
   "metadata": {},
   "source": [
    "#### Linear inversion\n",
    "Parameter corresponding to an an amplitude of a surface brightness distribution have a linear response on the predicted flux values in the data and can be infered by a linear inversion. This can reduce the number of non-linear parameters fastly, depending on the source complexity to be modelled.\n",
    "\n",
    "The $\\texttt{ImageLinearFit}$ class performs this computation. The class inherits the $\\texttt{ImageModel}$ class but instead of the $\\texttt{PixelGrid}$ instance, it requires an instance of the full $\\texttt{ImageData}$ class including the data (which we use the mock image created above) and the noise properties therof.\n",
    "\n",
    "In the example of this notebook, we have 6 linear parameters, the 4 point source amplitudes and the amplitudes of the Sersic profile of the lens and source. *lenstronomy* automatically identifies those parameters and can recover those values (data permitting).\n"
   ]
  },
  {
   "cell_type": "code",
   "execution_count": null,
   "id": "949027e8-ca82-496e-9ab0-3a4d094bb50a",
   "metadata": {},
   "outputs": [],
   "source": [
    "from lenstronomy.Data.imaging_data import ImageData\n",
    "# update the data with the noisy image and its noise properties #\n",
    "kwargs_data = {'image_data': image_noisy,\n",
    "               'background_rms': background_rms,\n",
    "               'exposure_time': exp_time,\n",
    "               'ra_at_xy_0': ra_at_xy_0,  \n",
    "               'dec_at_xy_0': dec_at_xy_0,\n",
    "               'transform_pix2angle': transform_pix2angle} \n",
    "\n",
    "data_class = ImageData(**kwargs_data)\n",
    "\n",
    "from lenstronomy.ImSim.image_linear_solve import ImageLinearFit\n",
    "image_linear_fit = ImageLinearFit(data_class=data_class, psf_class=psf, lens_model_class=lensModel,\n",
    "                        source_model_class=lightModel_source,\n",
    "                        lens_light_model_class=lightModel_lens,\n",
    "                        point_source_class=pointSource, \n",
    "                        kwargs_numerics=kwargs_numerics)\n",
    "\n",
    "# we do not require the knowledge of the linear parameters #\n",
    "del kwargs_light_source[0]['amp']\n",
    "# apply the linear inversion to fit for the noisy image #\n",
    "image_reconstructed, _, _, _ = image_linear_fit.image_linear_solve(kwargs_lens=kwargs_lens, kwargs_source=kwargs_light_source, \n",
    "                              kwargs_lens_light=kwargs_light_lens, kwargs_ps=kwargs_ps)"
   ]
  },
  {
   "cell_type": "code",
   "execution_count": null,
   "id": "9a28bacc-26f2-4144-8581-22db09d29e6a",
   "metadata": {},
   "outputs": [],
   "source": [
    "# illustrate fit #\n",
    "from lenstronomy.Plots.model_plot import ModelPlot\n",
    "kwargs_model = {'lens_model_list': lens_model_list, 'source_light_model_list': source_light_model_list,\n",
    "               'lens_light_model_list': lens_light_model_list} #, 'point_source_model_list': point_source_model_list}\n",
    "kwargs_params = {'kwargs_lens': kwargs_lens, 'kwargs_source': kwargs_light_source,\n",
    "                 'kwargs_lens_light': kwargs_light_lens, 'kwargs_ps': kwargs_ps}\n",
    "lensPlot = ModelPlot([[kwargs_data, kwargs_psf, kwargs_numerics]], kwargs_model, kwargs_params, arrow_size=0.02)\n",
    "\n",
    "f, axes = plt.subplots(1, 2, figsize=(8, 4), sharex=False, sharey=False)\n",
    "lensPlot.data_plot(ax=axes[0])\n",
    "lensPlot.model_plot(ax=axes[1])\n",
    "f.tight_layout()\n",
    "plt.show()"
   ]
  },
  {
   "cell_type": "markdown",
   "id": "e5de2fbb-9c0a-4d3e-8f24-749d432a429c",
   "metadata": {},
   "source": [
    "### $\\texttt{Sampling}$ Module\n",
    "The $\\texttt{Sampling}$ Module consists of threee major classes: The $\\texttt{Likelihood}$ class manages the specific likelihood function, consisting of the imaging likelihood and potential other data and constraints. The $\\texttt{Param}$ class handles all the model choices and the parameters going in it. These classes handle all the model choices of the user and mitigate them to the external modules and from the external modules back to *lenstronomy*.\n",
    "\n",
    "The $\\texttt{Sampler}$ class gives specific examples how the $\\texttt{Likelihood}$ and $\\texttt{Param}$ classes can be used to execute specific samplers. This last class can also be replaced by other sampling methods by the user.\n"
   ]
  },
  {
   "cell_type": "markdown",
   "id": "a4e83340-4f0c-417f-89ed-5a4fadc6d976",
   "metadata": {},
   "source": [
    "#### $\\texttt{Param}$ class\n",
    "The $\\texttt{Param}$ class is the interface of the *lenstronomy* conventions of parameters (list of keyword arguments) and the fitting conventions of $\\texttt{CosmoHammer}$ or $\\texttt{emcee}$ (single array consisting all parameters). The $\\texttt{Param}$ class enables the user to set further options:\n",
    "\n",
    "- keep certain parameters fixed\n",
    "- handling of the linear parameters\n",
    "- provide additional constraints on the modelling (e.g. fix source profile to point source position etc)\n",
    "\n",
    "With the $\\texttt{Param}$ class, lenstronomy can be integrated robustly with other sampling methods.\n",
    "\n",
    "\n",
    "\n",
    "\n",
    "<div class=\"alert alert-warning\">\n",
    "\n",
    "**ATTENTION:** lenstronomy, by default, solves for the amplitude values of surface brighthness functions (in the lens and source) specified in the model by 'amp' through a linear minimization at each likelihood evaluation step. Solving a linear equation is more efficient than sampling the parameters in the non-linear exploration. Hence, the output of a sampling chain (be it PSO, MCMC or any other sampler used) do not contain the linear amplitudes and are set as =0.\n",
    "To retriev the linear amplitude parameters, you have to re-do the linear inversion in post processing. This can be done with the $\\texttt{LensModelPlot}$ class (see block further down) or with the $\\texttt{ImageReconstruction}$ class in the $\\texttt{Analysis}$ sub-package.\n",
    "\n",
    "</div>"
   ]
  },
  {
   "cell_type": "code",
   "execution_count": null,
   "id": "402c6f1b-28bc-4d22-9e9c-3762cd55b0ff",
   "metadata": {},
   "outputs": [],
   "source": [
    "# import the parameter handling class #\n",
    "from lenstronomy.Sampling.parameters import Param\n",
    "# set options for constraint parameters #\n",
    "# Here we join the position of the lens light and mass center. \n",
    "# There are more options available in the Param() class.\n",
    "kwargs_constraints = {'joint_lens_with_light': [[0, 0, ['center_x', 'center_y']]]}\n",
    "\n",
    "# list fixed parameters #\n",
    "kwargs_fixed_lens = [{'gamma': 2.}, {'ra_0': 0, 'dec_0': 0}, {}]\n",
    "kwargs_fixed_source = [{}]\n",
    "kwargs_fixed_lens_light = [{}]\n",
    "\n",
    "# optional: list lower and upper bounds in parameter space, otherwise it will be using lenstronomy default values! #\n",
    "# list lower bounds in parameter space #\n",
    "kwargs_lower_lens = [{'theta_E': 0, 'e1': -0.5, 'e2': -0.5, 'gamma': 1.5, 'center_x': -10., 'center_y': -10},\n",
    "                     {'gamma1': -0.5, 'gamma2': -0.5}]\n",
    "kwargs_lower_source = [{'R_sersic': 0.001, 'n_sersic': .5, 'center_x': -10, 'center_y': -10}]\n",
    "kwargs_lower_lens_light = [{'R_sersic': 0.001, 'n_sersic': 0.5, 'e1': -0.5, 'e2': -0.5, 'center_x': -10, 'center_y': -10}]\n",
    "kwargs_lower_ps = None\n",
    "\n",
    "# list upper bounds in parameter space #\n",
    "kwargs_upper_lens = [{'theta_E': 10, 'e1': 0.5, 'e2': 0.5, 'gamma': 2.5, 'center_x': 10., 'center_y': 10},\n",
    "                     {'gamma1': 0.5, 'gamma2': 0.5}]\n",
    "kwargs_upper_source = [{'R_sersic': 10, 'n_sersic': 5., 'center_x': 10, 'center_y': 10}]\n",
    "kwargs_upper_lens_light = [{'R_sersic': 10, 'n_sersic': 5., 'e1': 0.5, 'e2': 0.5, 'center_x': 10, 'center_y': 10}]\n",
    "kwargs_upper_ps = None\n",
    "\n",
    "# make instance of parameter class with given model options, constraints and fixed parameters #\n",
    "param = Param(kwargs_model, kwargs_fixed_lens, kwargs_fixed_source,\n",
    "              kwargs_fixed_lens_light, kwargs_fixed_ps=None, \n",
    "              kwargs_lower_lens=kwargs_lower_lens, kwargs_lower_source=kwargs_lower_source,\n",
    "              kwargs_lower_lens_light=kwargs_lower_lens_light, kwargs_lower_ps=kwargs_lower_ps,\n",
    "              kwargs_upper_lens=kwargs_upper_lens, kwargs_upper_source=kwargs_upper_source,\n",
    "              kwargs_upper_lens_light=kwargs_upper_lens_light, kwargs_upper_ps=kwargs_upper_ps,\n",
    "              kwargs_lens_init=kwargs_lens, **kwargs_constraints)\n",
    "\n",
    "# the number of non-linear parameters and their names #\n",
    "num_param, param_list = param.num_param()\n",
    "\n",
    "# parameter array for fitting routine #\n",
    "param_array = param.kwargs2args(kwargs_lens, kwargs_light_source, kwargs_light_lens, kwargs_ps)\n",
    "\n",
    "# recover keyword arguments list for lenstronomy from a parameter array of the fitting routine #\n",
    "kwargs_out = param.args2kwargs(param_array)\n",
    "\n",
    "# print settings #\n",
    "param.print_setting()\n"
   ]
  },
  {
   "cell_type": "markdown",
   "id": "9a340de3-8262-4268-bacc-eafd703b1705",
   "metadata": {},
   "source": [
    "#### $\\texttt{Likelihood}$ class\n",
    "\n",
    "The $\\texttt{Likelihood}$ class performs the likelihood computation. It combines the $\\texttt{ImSim}$ module with the $\\texttt{Param}$ module. The $\\texttt{Likelihood}$ class can evaluate imaging likelihoods, image position and time-delay likelihood with various options. For details we refer to the class documentation."
   ]
  },
  {
   "cell_type": "code",
   "execution_count": null,
   "id": "422744d4-d369-45b3-9398-760f4604130f",
   "metadata": {},
   "outputs": [],
   "source": [
    "kwargs_likelihood = {'source_marg': False,\n",
    "                    'source_position_tolerance': 0.001,}\n",
    "single_band = [[kwargs_data, kwargs_psf, kwargs_numerics]]\n",
    "kwargs_data_joint = {'multi_band_list': single_band, 'multi_band_type': 'multi-linear'}\n",
    "\n",
    "from lenstronomy.Sampling.likelihood import LikelihoodModule\n",
    "likelihoodModule = LikelihoodModule(kwargs_data_joint, kwargs_model, param_class=param, **kwargs_likelihood)\n",
    "\n",
    "logL = likelihoodModule.logL(args=param_array)"
   ]
  },
  {
   "cell_type": "markdown",
   "id": "64be02e5-1bbb-4f8d-a92c-7356b8634489",
   "metadata": {},
   "source": [
    "#### $\\texttt{Sampler}$ class\n",
    "\n",
    "The $\\texttt{Sampler}$ class performs the sampling of the likelihood. The class requires an instance of the $\\texttt{Likelihood}$ class. This class is also meant to showcase the sampling of the *lenstronomy* likelihood. We emphasise that the specific parameter space and complexity may warry significantly and depending on the problem, different approaches can be more efficient.\n",
    "\n",
    "<div class=\"alert alert-warning\">\n",
    "\n",
    "**Warning:** This particular example was run with a very small and insufficiently long Particle Swarm Optimization. This is for illustrative purpose only. You need to change the 'n_particles' and 'n_iterations' settings and make sure the PSO is sufficiently converged to draw conclusions from the best fit.\n",
    "\n",
    "</div>"
   ]
  },
  {
   "cell_type": "code",
   "execution_count": null,
   "id": "fe9c0fcf-1adb-416d-ac1a-203eb8f8939c",
   "metadata": {},
   "outputs": [],
   "source": [
    "# initial guess of non-linear parameters, we chose different starting parameters than the truth #\n",
    "kwargs_lens_init = [{'theta_E': 1.2, 'e1': 0, 'e2': 0, 'gamma': 2., 'center_x': 0., 'center_y': 0},\n",
    "                    {'gamma1': 0, 'gamma2': 0}]\n",
    "kwargs_source_init = [{'R_sersic': 0.03, 'n_sersic': 1., 'center_x': 0, 'center_y': 0}]\n",
    "kwargs_lens_light_init = [{'R_sersic': 0.1, 'n_sersic': 1, 'e1': 0, 'e2': 0, 'center_x': 0, 'center_y': 0}]\n",
    "\n",
    "# initial spread in parameter estimation #\n",
    "kwargs_lens_sigma = [{'theta_E': 0.3, 'e1': 0.5, 'e2': 0.5, 'gamma': .2, 'center_x': 0.1, 'center_y': 0.1},\n",
    "                     {'gamma1': 0.05, 'gamma2': 0.05}]\n",
    "kwargs_source_sigma = [{'R_sersic': 0.1, 'n_sersic': .5, 'center_x': .1, 'center_y': 0.1}]\n",
    "kwargs_lens_light_sigma = [{'R_sersic': 0.1, 'n_sersic': 0.2, 'e1': 0.2, 'e2': 0.2, 'center_x': .1, 'center_y': 0.1}]\n",
    "\n",
    "param_init = param.kwargs2args(kwargs_lens_init, kwargs_source_init, kwargs_lens_light_init, kwargs_ps=None)\n",
    "param_sigma = param.kwargs2args(kwargs_lens_sigma, kwargs_source_sigma, kwargs_lens_light_sigma, kwargs_ps=None)\n",
    "\n",
    "upper_start = np.array(param_init) + np.array(param_sigma)\n",
    "lower_start = np.array(param_init) - np.array(param_sigma)\n",
    "\n",
    "from lenstronomy.Sampling.sampler import Sampler\n",
    "sampler = Sampler(likelihoodModule=likelihoodModule)\n",
    "\n",
    "result, chain_properties = sampler.pso(n_particles=200, n_iterations=10, lower_start=lower_start, upper_start=upper_start)\n",
    "\n",
    "kwargs_result = param.args2kwargs(result)\n"
   ]
  },
  {
   "cell_type": "markdown",
   "id": "63ed0d04-786c-473a-b2f5-d63ff895616f",
   "metadata": {},
   "source": [
    "### $\\texttt{Workflow}$ Module\n",
    "The $\\texttt{Workflow}$ Module manages the execution of non-linear fitter (in our case the PSO) and the parameter inference (in our case the CosmoHammer emcee). The two main classes are $\\texttt{Param}$ and $\\texttt{FittingSequence}$. These classes handle all the model choices of the user and mitigate them to the external modules and from the external modules back to *lenstronomy*.\n"
   ]
  },
  {
   "cell_type": "markdown",
   "id": "65c4f1e4-06ea-4e96-a4cf-0ee2efea0520",
   "metadata": {},
   "source": [
    "#### $\\texttt{FittingSequence}$ class\n",
    "\n",
    "The $\\texttt{FittingSequence}$ class allows to perform a PSO and/or MCMC run. The user can run a sequence of fitting routines, applied one after the other with taking the results of the previous routine as an input of the next one. The user can specify (optionaly) to keep one or multiple parameter classes (lens model, source model, lens light model and source model) fixed during the fitting process or parameter inference.\n",
    "\n",
    "The user further needs to specify:\n",
    "- define input guess and uncertainties and uncertainties\n",
    "- hard bounds on parameters\n",
    "- number of particles and number of iterations being performed by the PSO/MCMC\n",
    "- enables MPI run through a set of fitting sequences\n",
    "\n",
    "$\\texttt{FittingSequence}$ does not rely on instances of other *lenstronomy* classes. It can be constructed from elements in the form of keyword arguments and lists thereof in the *lenstronomy* conventions. This enables a save and reliable execution of tasks within $\\texttt{FittingSequence}$ on non-local platforms, such as high performance clusters.\n",
    "\n",
    "MPI mode can be set in the initialization of the $\\texttt{FittingSequence}$ class. Multi-threading can be set (if available) for each individual sequence in their keyword arguments with 'threadCount'."
   ]
  },
  {
   "cell_type": "code",
   "execution_count": null,
   "id": "663b75d6-6fd1-4ab3-82d8-6bb493a84bcc",
   "metadata": {},
   "outputs": [],
   "source": [
    "# for this part of the code, the emcee MCMC sampler needs to be installed\n",
    "try:\n",
    "    import emcee\n",
    "except:\n",
    "    !pip install emcee\n",
    "\n",
    "lens_params = [kwargs_lens_init, kwargs_lens_sigma, kwargs_fixed_lens, kwargs_lower_lens, kwargs_upper_lens]\n",
    "source_params = [kwargs_source_init, kwargs_source_sigma, kwargs_fixed_source, kwargs_lower_source, kwargs_upper_source]\n",
    "lens_light_params = [kwargs_light_lens, kwargs_lens_light_sigma, kwargs_fixed_lens_light, kwargs_lower_lens_light, kwargs_upper_lens_light]\n",
    "\n",
    "kwargs_params = {'lens_model': lens_params,\n",
    "                'source_model': source_params,\n",
    "                'lens_light_model': lens_light_params}\n",
    "\n",
    "band_list = [kwargs_data, kwargs_psf, kwargs_numerics]\n",
    "multi_band_list = []\n",
    "multi_band_list.append(band_list)\n",
    "\n",
    "\n",
    "from lenstronomy.Workflow.fitting_sequence import FittingSequence\n",
    "fitting_seq = FittingSequence(kwargs_data_joint, kwargs_model, kwargs_constraints, kwargs_likelihood, kwargs_params, mpi=False)\n",
    "\n",
    "fitting_kwargs_list = [['PSO', {'sigma_scale': 1, 'n_particles': 200, 'n_iterations': 200, 'threadCount': 1}],\n",
    "                       ['MCMC', {'n_burn': 200, 'n_run': 200, 'n_walkers': 100, 'sigma_scale': .01, 'threadCount': 1}]]\n",
    "\n",
    "chain_list = fitting_seq.fit_sequence(fitting_kwargs_list)\n",
    "kwargs_result = fitting_seq.best_fit()"
   ]
  },
  {
   "cell_type": "markdown",
   "id": "c38d597e-85c6-412e-8ed3-817fd54be245",
   "metadata": {},
   "source": [
    "<div class=\"alert alert-warning\">\n",
    "\n",
    "**Warning:** This particular example was run with a very small and insufficiently long MCMC chain. This is for illustrative purpose only. You need to change the 'n_burn' and 'n_run' settings and make sure the chains are sufficiently converged to draw conclusions from the posteriors.\n",
    "\n",
    "</div>\n"
   ]
  },
  {
   "cell_type": "markdown",
   "id": "b97d8c9e-2fb6-4f2d-994a-a388398b2265",
   "metadata": {},
   "source": [
    "#### $\\texttt{LensModelPlot}$ class\n",
    "The $\\texttt{LensModelPlot}$ facilitates the plotting of models, comparison with the data etc. This class is also meant to illustrate the post-processing."
   ]
  },
  {
   "cell_type": "code",
   "execution_count": null,
   "id": "e78b27a2-cf36-4ecf-9ef7-486069152f6c",
   "metadata": {},
   "outputs": [],
   "source": [
    "\n",
    "modelPlot = ModelPlot([[kwargs_data, kwargs_psf, kwargs_numerics]], kwargs_model, kwargs_result, arrow_size=0.02, cmap_string=\"gist_heat\")\n",
    "    \n",
    "f, axes = plt.subplots(2, 3, figsize=(16, 8), sharex=False, sharey=False)\n",
    "\n",
    "modelPlot.data_plot(ax=axes[0,0])\n",
    "modelPlot.model_plot(ax=axes[0,1])\n",
    "modelPlot.normalized_residual_plot(ax=axes[0,2], v_min=-6, v_max=6)\n",
    "modelPlot.source_plot(ax=axes[1, 0], deltaPix_source=0.01, numPix=100)\n",
    "modelPlot.convergence_plot(ax=axes[1, 1], v_max=1)\n",
    "modelPlot.magnification_plot(ax=axes[1, 2])\n",
    "f.tight_layout()\n",
    "f.subplots_adjust(left=None, bottom=None, right=None, top=None, wspace=0., hspace=0.05)\n",
    "plt.show()\n",
    "\n",
    "f, axes = plt.subplots(2, 3, figsize=(16, 8), sharex=False, sharey=False)\n",
    "\n",
    "modelPlot.decomposition_plot(ax=axes[0,0], text='Lens light', lens_light_add=True, unconvolved=True)\n",
    "modelPlot.decomposition_plot(ax=axes[1,0], text='Lens light convolved', lens_light_add=True)\n",
    "modelPlot.decomposition_plot(ax=axes[0,1], text='Source light', source_add=True, unconvolved=True)\n",
    "modelPlot.decomposition_plot(ax=axes[1,1], text='Source light convolved', source_add=True)\n",
    "modelPlot.decomposition_plot(ax=axes[0,2], text='All components', source_add=True, lens_light_add=True, unconvolved=True)\n",
    "modelPlot.decomposition_plot(ax=axes[1,2], text='All components convolved', source_add=True, lens_light_add=True, point_source_add=True)\n",
    "f.tight_layout()\n",
    "f.subplots_adjust(left=None, bottom=None, right=None, top=None, wspace=0., hspace=0.05)\n",
    "plt.show()\n",
    "print(kwargs_result)"
   ]
  },
  {
   "cell_type": "code",
   "execution_count": null,
   "id": "e401b323-b202-49ba-90ea-6576cd9449cd",
   "metadata": {},
   "outputs": [],
   "source": [
    "from lenstronomy.Plots import chain_plot\n",
    "\n",
    "# here we get the truths of the input that we aim to recover in the MCMC chain with the help of the Param() class.\n",
    "# we can also get the Param() class instance from the FittingSequence() instancd\n",
    "param = fitting_seq.param_class\n",
    "param_array_truths = param.kwargs2args(kwargs_lens, kwargs_light_source, kwargs_light_lens, kwargs_ps)\n",
    "\n",
    "for i in range(len(chain_list)):\n",
    "    chain_plot.plot_chain_list(chain_list, i)\n",
    "    \n",
    "sampler_type, samples_mcmc, param_mcmc, dist_mcmc  = chain_list[1]\n",
    "print(\"number of non-linear parameters in the MCMC process: \", len(param_mcmc))\n",
    "print(\"parameters in order: \", param_mcmc)\n",
    "print(\"number of evaluations in the MCMC process: \", np.shape(samples_mcmc)[0])\n",
    "\n",
    "import corner  # pip install corner  (if you have not installed it)\n",
    "\n",
    "n, num_param = np.shape(samples_mcmc)\n",
    "plot = corner.corner(samples_mcmc[:,:8], labels=param_mcmc[:8], show_titles=True, truths=param_array_truths[:8])\n",
    "plot.show()\n",
    "plot = corner.corner(samples_mcmc[:,8:], labels=param_mcmc[8:], show_titles=True, truths=param_array_truths[8:])\n",
    "plot.show()\n",
    "        "
   ]
  },
  {
   "cell_type": "markdown",
   "id": "34065ba1-188d-4a51-b0e3-20efa6d151e5",
   "metadata": {},
   "source": [
    "### Further ressources\n",
    "\n",
    "This notebook ends here. There are almost certainly many aspects or features that you were looking for that were not presented above. For additional features of each class, we refer to the documentation of the specific classes.\n",
    "Here we provide few other pointers to notebooks that might be useful of features beyond of what was presented here:\n",
    "\n",
    "- [Units, coordiante system and parameter definitions in lenstronomy](https://github.com/sibirrer/lenstronomy_extensions/blob/main/lenstronomy_extensions/Notebooks/units_coordinates_parameters.ipynb)\n",
    "- [SimulationAPI module for convenient simulations according to different instrument configurations](https://github.com/sibirrer/lenstronomy_extensions/blob/main/lenstronomy_extensions/Notebooks/simulation_api.ipynb)\n",
    "- Modeling of point sources ([quad](https://github.com/sibirrer/lenstronomy_extensions/blob/main/lenstronomy_extensions/Notebooks/quad_model.ipynb), [double](https://github.com/sibirrer/lenstronomy_extensions/blob/main/lenstronomy_extensions/Notebooks/double_model.ipynb), [catalogue level](https://github.com/sibirrer/lenstronomy_extensions/blob/main/lenstronomy_extensions/Notebooks/catalogue%20modelling.ipynb))\n",
    "\n",
    "And many more notebooks available on the [lenstronomy_extension](https://github.com/lenstronomy/lenstronomy-tutorials) repository!"
   ]
  },
  {
   "cell_type": "code",
   "execution_count": null,
   "id": "bdb293c2-4cb3-42b8-84e1-2bf758d2e8f1",
   "metadata": {},
   "outputs": [],
   "source": []
  }
 ],
 "metadata": {
  "kernelspec": {
   "display_name": "conda_py313",
   "language": "python",
   "name": "conda_py313"
  },
  "language_info": {
   "codemirror_mode": {
    "name": "ipython",
    "version": 3
   },
   "file_extension": ".py",
   "mimetype": "text/x-python",
   "name": "python",
   "nbconvert_exporter": "python",
   "pygments_lexer": "ipython3",
   "version": "3.13.3"
  }
 },
 "nbformat": 4,
 "nbformat_minor": 5
}
