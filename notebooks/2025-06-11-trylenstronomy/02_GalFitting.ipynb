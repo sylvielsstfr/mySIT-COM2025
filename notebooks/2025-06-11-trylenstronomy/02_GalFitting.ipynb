{
 "cells": [
  {
   "cell_type": "markdown",
   "id": "958d6198-166f-4eb2-9334-ad2b27408703",
   "metadata": {},
   "source": [
    "# Galfitting with lenstronomy"
   ]
  },
  {
   "cell_type": "markdown",
   "id": "cfd94172-248b-48ac-8ea9-6c1c2c36e4a4",
   "metadata": {},
   "source": [
    "- https://colab.research.google.com/github/lenstronomy/lenstronomy-tutorials/blob/main/Notebooks/Galaxies/galfitting_with_lenstronomy.ipynb"
   ]
  },
  {
   "cell_type": "markdown",
   "id": "c78bbb57-29a9-4d0c-89c7-7a964a926b5b",
   "metadata": {},
   "source": [
    "An example of using **lenstronomy** without imposing a lensing deflector is the inference of galaxy structural parameters through the fitting of a parameterized surface brightness model (or many thereof).\n",
    "\n",
    "We want to demonstrate the flexibility of **lenstronomy**. Matching the structural properties of lensing and source galaxy is an integral part of lens modelling. **lenstronomy** may provide an alternative in python to other software that are more specific to this task.\n",
    "The 'lens_light_model' effectively describes undistorted surface brightness profiles in lenstronomy.\n",
    "\n",
    "**lenstronomy** supports a wide range of light profiles. You can find the current list here: https://github.com/lenstronomy/lenstronomy/blob/main/lenstronomy/LightModel/light_model_base.py\n",
    "\n",
    "A key difference to other ligth profile fitting codes is that **lenstronomy** solves the amplitude parameter of the different components with a linear minimizer on the fly. An arbitrary number of superposition of different profiles is supported, including shapelets and wavelets, to describe complex structure.\n",
    "\n",
    "**lenstronomy** also supports multi-band, multi-exposure, and multi-object fitting. We refer to other notebooks about the handling of those tasks. In short, all the tasks that are supported when using lenstronomy in the 'lensing model' are also supported when turning lensing off - with the identical API.\n",
    "\n",
    "<div class=\"alert alert-warning\">\n",
    "\n",
    "**Warning:** Small sources and very cuspy cores (such as Sersic profiels with high Sersic indexes) result in steep surface brightness variations below the pixel scale. The numerics used in this notebook only evaluates the surface brighness in the centre of each pixel and assigns the entire pixel this surface brightness value. Super-sampled evaluation of surface brightness profiles may be required. Lenstronomy supports this, both on a grid and adaptive in specific regions. We refer to the $\\texttt{Numerics}$ module and a dedicated notebook on numerical aspects.\n",
    "\n",
    "</div>\n",
    "\n",
    "Additional features are available with the software [GaLight](https://github.com/dartoon/galight), which wrapps around lenstronomy.\n"
   ]
  },
  {
   "cell_type": "code",
   "execution_count": null,
   "id": "25a696b4-9fd4-4e9d-a308-07b9c9e0a27e",
   "metadata": {},
   "outputs": [],
   "source": [
    "# some standard python imports #\n",
    "import numpy as np\n",
    "import matplotlib.pyplot as plt\n",
    "%matplotlib inline\n",
    "\n",
    "# make sure lenstronomy is installed, otherwise install the latest pip version\n",
    "try:\n",
    "    import lenstronomy\n",
    "except:\n",
    "    !pip install lenstronomy"
   ]
  },
  {
   "cell_type": "markdown",
   "id": "f6b2026d-6a74-4e61-9659-08acb602329e",
   "metadata": {},
   "source": [
    "## create mock image as a superposition of different profiles\n",
    "In the example below, we generate a galaxy image with a two component Sersic profile at the same center and a compagnion Hernquist light distribution. The data quality is comparable with wide field surveys."
   ]
  },
  {
   "cell_type": "code",
   "execution_count": null,
   "id": "cf9821d3-bc25-4519-940c-4b1b01364305",
   "metadata": {},
   "outputs": [],
   "source": [
    "import lenstronomy.Util.simulation_util as sim_util\n",
    "import lenstronomy.Util.image_util as image_util\n",
    "from lenstronomy.Data.imaging_data import ImageData\n",
    "from lenstronomy.Data.psf import PSF"
   ]
  },
  {
   "cell_type": "code",
   "execution_count": null,
   "id": "24b7795d-bb50-433d-abdf-78e390a7f0a8",
   "metadata": {},
   "outputs": [],
   "source": [
    "# data specifics\n",
    "background_rms = .05  # background noise per pixel\n",
    "exp_time = 100  # exposure time (arbitrary units, flux per pixel is in units #photons/exp_time unit)\n",
    "numPix = 50  # cutout pixel size\n",
    "deltaPix = 0.3  # pixel size in arcsec (area per pixel = deltaPix**2)\n",
    "fwhm = 0.8  # full width half max of PSF"
   ]
  },
  {
   "cell_type": "code",
   "execution_count": null,
   "id": "6925b550-99e2-4c18-b7a0-eb3b23999933",
   "metadata": {},
   "outputs": [],
   "source": [
    "kwargs_data = sim_util.data_configure_simple(numPix, deltaPix, exp_time, background_rms)\n",
    "data_class = ImageData(**kwargs_data)\n"
   ]
  },
  {
   "cell_type": "code",
   "execution_count": null,
   "id": "be15acc3-db19-40e3-b377-0121c216348c",
   "metadata": {},
   "outputs": [],
   "source": [
    "# PSF specification\n",
    "kwargs_psf = {'psf_type': 'GAUSSIAN', 'fwhm': fwhm, 'pixel_size': deltaPix, 'truncation': 6}\n",
    "psf_class = PSF(**kwargs_psf)"
   ]
  },
  {
   "cell_type": "code",
   "execution_count": null,
   "id": "c46725ea-f982-4f94-8982-f96b14b9b91f",
   "metadata": {},
   "outputs": [],
   "source": [
    "# create a model with three Sersic profiles\n",
    "# all the models are part of 'lens_light_model_list', meaning that their surface brightness profile are not lensed\n",
    "lens_light_model_list = ['SERSIC_ELLIPSE', 'SERSIC_ELLIPSE', 'HERNQUIST']\n",
    "from lenstronomy.LightModel.light_model import LightModel\n",
    "lightModel = LightModel(lens_light_model_list)"
   ]
  },
  {
   "cell_type": "code",
   "execution_count": null,
   "id": "eff4747e-04f8-4e98-8d2c-a8104f62f2b7",
   "metadata": {},
   "outputs": [],
   "source": [
    "kwargs_1 = {'amp': 100, 'R_sersic': .5, 'n_sersic': 3, 'e1': 0.1, 'e2': 0, 'center_x': 0, 'center_y': 0}\n",
    "kwargs_2 = {'amp': 100, 'R_sersic': 1.5, 'n_sersic': 1, 'e1': 0.2, 'e2': -0.2, 'center_x': 0, 'center_y': 0}\n",
    "kwargs_3 = {'amp': 100, 'Rs': 0.3, 'center_x': 3.5, 'center_y': -0.5}\n",
    "kwargs_light = [kwargs_1, kwargs_2, kwargs_3]"
   ]
  },
  {
   "cell_type": "code",
   "execution_count": null,
   "id": "7cdeb04a-9c79-450e-a0c6-e70c168c43c1",
   "metadata": {},
   "outputs": [],
   "source": [
    "# here we super-sample the resolution of some of the pixels where the surface brightness profile has a high gradient \n",
    "supersampled_indexes = np.zeros((numPix, numPix), dtype=bool)\n",
    "supersampled_indexes[23:27, 23:27] = True"
   ]
  },
  {
   "cell_type": "code",
   "execution_count": null,
   "id": "2f24b241-f5c8-47c5-95c4-1a6cf2717af5",
   "metadata": {},
   "outputs": [],
   "source": [
    "kwargs_numerics = {'supersampling_factor': 4, \n",
    "                   'compute_mode': 'adaptive',\n",
    "                  'supersampled_indexes': supersampled_indexes}\n",
    "from lenstronomy.ImSim.image_model import ImageModel\n",
    "imageModel = ImageModel(data_class, psf_class, lens_light_model_class=lightModel, kwargs_numerics=kwargs_numerics)\n",
    "image_sim = imageModel.image(kwargs_lens_light=kwargs_light)\n",
    "poisson = image_util.add_poisson(image_sim, exp_time=exp_time)\n",
    "bkg = image_util.add_background(image_sim, sigma_bkd=background_rms)\n",
    "image_noisy = image_sim + bkg + poisson\n",
    "data_class.update_data(image_noisy)\n",
    "kwargs_data['image_data'] = image_noisy"
   ]
  },
  {
   "cell_type": "code",
   "execution_count": null,
   "id": "9d72db5b-804b-4ffa-9851-f9ce51ac1398",
   "metadata": {},
   "outputs": [],
   "source": [
    "plt.matshow(np.log10(image_noisy), origin='lower')\n",
    "plt.show()"
   ]
  },
  {
   "cell_type": "code",
   "execution_count": null,
   "id": "0f30be52-23db-4bbd-9954-c645c9737b08",
   "metadata": {},
   "outputs": [],
   "source": []
  }
 ],
 "metadata": {
  "kernelspec": {
   "display_name": "conda_py313",
   "language": "python",
   "name": "conda_py313"
  },
  "language_info": {
   "codemirror_mode": {
    "name": "ipython",
    "version": 3
   },
   "file_extension": ".py",
   "mimetype": "text/x-python",
   "name": "python",
   "nbconvert_exporter": "python",
   "pygments_lexer": "ipython3",
   "version": "3.13.3"
  }
 },
 "nbformat": 4,
 "nbformat_minor": 5
}
