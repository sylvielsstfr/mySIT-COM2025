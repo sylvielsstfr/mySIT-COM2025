{
 "cells": [
  {
   "cell_type": "code",
   "execution_count": null,
   "id": "620f37b5-4a78-4b89-bff6-a575760063df",
   "metadata": {
    "editable": true,
    "execution": {
     "iopub.execute_input": "2025-04-16T12:59:31.222502Z",
     "iopub.status.busy": "2025-04-16T12:59:31.222373Z",
     "iopub.status.idle": "2025-04-16T12:59:31.977332Z",
     "shell.execute_reply": "2025-04-16T12:59:31.976958Z",
     "shell.execute_reply.started": "2025-04-16T12:59:31.222488Z"
    },
    "slideshow": {
     "slide_type": ""
    },
    "tags": []
   },
   "outputs": [],
   "source": [
    "import pylab as plt\n",
    "import lsst.afw.display as afwDisplay\n"
   ]
  },
  {
   "cell_type": "code",
   "execution_count": null,
   "id": "aeba9493-3c72-4e21-8c41-6c46602bd145",
   "metadata": {
    "editable": true,
    "execution": {
     "iopub.execute_input": "2025-04-16T12:59:31.977990Z",
     "iopub.status.busy": "2025-04-16T12:59:31.977732Z",
     "iopub.status.idle": "2025-04-16T12:59:31.982178Z",
     "shell.execute_reply": "2025-04-16T12:59:31.981868Z",
     "shell.execute_reply.started": "2025-04-16T12:59:31.977975Z"
    },
    "slideshow": {
     "slide_type": ""
    },
    "tags": []
   },
   "outputs": [],
   "source": [
    "def displayExposure(exposure,title=None):\n",
    "    afwDisplay.setDefaultBackend('matplotlib') \n",
    "    afwDisplay.setImageColormap(cmap='gray')\n",
    "    fig = plt.figure(figsize=(10,10))\n",
    "    afw_display = afwDisplay.Display(1)\n",
    "    afw_display.scale('asinh', 'zscale')\n",
    "    afw_display.mtv(exposure.getImage())\n",
    "    plt.title(title)\n",
    "    plt.gca().axis('off')\n",
    "    return afw_display\n",
    "\n",
    "def displayImage(image,title=None):\n",
    "    afwDisplay.setDefaultBackend('matplotlib') \n",
    "    fig = plt.figure(figsize=(10,10))\n",
    "    afw_display = afwDisplay.Display(1)\n",
    "    afw_display.scale('asinh', 'zscale')\n",
    "    #afw_display.scale('linear', min=-5, max=10)\n",
    "    afw_display.setImageColormap(cmap='plasma')\n",
    "    afw_display.mtv(image)\n",
    "    plt.title(title)\n",
    "    plt.gca().axis('off')\n",
    "    return afw_display\n",
    "    \n",
    "def displayImageGhosts(image, zmin=0, zmax=5000, title=None):\n",
    "    afwDisplay.setDefaultBackend('matplotlib') \n",
    "    fig = plt.figure(figsize=(10,10))\n",
    "    afw_display = afwDisplay.Display(1)\n",
    "    #afw_display.scale('asinh', 'zscale')\n",
    "    afw_display.scale('linear', min=zmin, max=zmax)\n",
    "    afw_display.setImageColormap(cmap='plasma')\n",
    "    afw_display.mtv(image)\n",
    "    plt.title(title)\n",
    "    plt.gca().axis('off')\n",
    "    return afw_display    "
   ]
  },
  {
   "cell_type": "code",
   "execution_count": null,
   "id": "77e49928-fd2d-4c16-9a7d-b79c75e0a3f7",
   "metadata": {
    "execution": {
     "iopub.execute_input": "2025-04-16T12:59:31.982716Z",
     "iopub.status.busy": "2025-04-16T12:59:31.982590Z",
     "iopub.status.idle": "2025-04-16T12:59:33.728642Z",
     "shell.execute_reply": "2025-04-16T12:59:33.728156Z",
     "shell.execute_reply.started": "2025-04-16T12:59:31.982704Z"
    }
   },
   "outputs": [],
   "source": [
    "# Define butler\n",
    "from lsst.daf.butler import Butler\n",
    "\n",
    "repo = 'embargo_new'\n",
    "collection = 'LSSTComCam/nightlyValidation'\n",
    "butler = Butler(repo,collections=collection)\n",
    "registry = butler.registry\n"
   ]
  },
  {
   "cell_type": "code",
   "execution_count": null,
   "id": "b1db879d-7208-49a9-b438-6e7e36ee3224",
   "metadata": {},
   "outputs": [],
   "source": []
  },
  {
   "cell_type": "code",
   "execution_count": null,
   "id": "e169b15c-351a-4ac7-a8df-b9d893cbab89",
   "metadata": {
    "execution": {
     "iopub.execute_input": "2025-04-16T12:59:33.729297Z",
     "iopub.status.busy": "2025-04-16T12:59:33.729161Z",
     "iopub.status.idle": "2025-04-16T12:59:33.733511Z",
     "shell.execute_reply": "2025-04-16T12:59:33.733065Z",
     "shell.execute_reply.started": "2025-04-16T12:59:33.729284Z"
    }
   },
   "outputs": [],
   "source": [
    "def queryExposures(expo=\"2024102400128\"):\n",
    "    dataset_refs = butler.query_datasets(\"postISRCCD\", collections=\"LSSTComCam/nightlyValidation\",\n",
    "                                         where=f\"instrument='LSSTComCam' AND exposure={expo}\")\n",
    "    exposures = [butler.get(dataset_ref) for dataset_ref in dataset_refs]\n",
    "    return exposures\n",
    "\n",
    "def make_mosaic(exposures, binning=4):\n",
    "    from lsst.pipe.tasks.visualizeVisit import (\n",
    "        VisualizeBinExpConfig,\n",
    "        VisualizeBinExpTask,\n",
    "        VisualizeMosaicExpConfig,\n",
    "        VisualizeMosaicExpTask,\n",
    "    )\n",
    "    camera = butler.get(\"camera\", collections=\"LSSTComCam/defaults\", instrument=\"LSSTComCam\")\n",
    "    \n",
    "    visualizeBinExpConfig = VisualizeBinExpConfig()\n",
    "    visualizeBinExpConfig.binning = binning\n",
    "    visualizeBinExpTask = VisualizeBinExpTask(config=visualizeBinExpConfig)\n",
    "    exposures_binned = [visualizeBinExpTask.run(inputExp = exposure, camera=camera).outputExp for exposure in exposures]\n",
    "    \n",
    "    visualizeMosaicExpConfig = VisualizeMosaicExpConfig()\n",
    "    visualizeMosaicExpConfig.binning = binning\n",
    "    visualizeMosaicExpTask = VisualizeMosaicExpTask(config=visualizeMosaicExpConfig)\n",
    "    \n",
    "    mosaic_full = visualizeMosaicExpTask.run(inputExps=exposures_binned, camera=camera)\n",
    "    mosaic = mosaic_full.outputData\n",
    "    return mosaic, mosaic_full\n",
    "\n",
    "def show_ghosts(exp_id=\"2024102400126\", binning=4, zmin=2230, zmax=2330):\n",
    "    expos = queryExposures(exp_id)\n",
    "    mosaic, mosaic_full = make_mosaic(expos, binning)\n",
    "    displayImageGhosts(mosaic, zmin=zmin, zmax=zmax)\n",
    "    return mosaic, mosaic_full, expos"
   ]
  },
  {
   "cell_type": "code",
   "execution_count": null,
   "id": "65194b1e-afd8-4e01-8e46-a7167d895915",
   "metadata": {
    "execution": {
     "iopub.execute_input": "2025-04-16T12:59:33.734275Z",
     "iopub.status.busy": "2025-04-16T12:59:33.734110Z",
     "iopub.status.idle": "2025-04-16T12:59:47.515830Z",
     "shell.execute_reply": "2025-04-16T12:59:47.515364Z",
     "shell.execute_reply.started": "2025-04-16T12:59:33.734261Z"
    }
   },
   "outputs": [],
   "source": [
    "mosaic, mosaic_full, expos = show_ghosts(\"2024102400126\", binning=4, zmin=2230, zmax=2330)"
   ]
  },
  {
   "cell_type": "code",
   "execution_count": null,
   "id": "784f4a09-7eb3-4171-97a0-de6e2f2fa315",
   "metadata": {
    "execution": {
     "iopub.execute_input": "2025-04-16T12:59:47.516533Z",
     "iopub.status.busy": "2025-04-16T12:59:47.516391Z",
     "iopub.status.idle": "2025-04-16T12:59:47.519838Z",
     "shell.execute_reply": "2025-04-16T12:59:47.519505Z",
     "shell.execute_reply.started": "2025-04-16T12:59:47.516520Z"
    }
   },
   "outputs": [],
   "source": [
    "type(mosaic_full)\n",
    "mosaic_full.getDict().values()\n"
   ]
  },
  {
   "cell_type": "code",
   "execution_count": null,
   "id": "69bd2f09-4591-4c17-874a-b4805a007d2a",
   "metadata": {
    "execution": {
     "iopub.execute_input": "2025-04-16T12:59:47.520380Z",
     "iopub.status.busy": "2025-04-16T12:59:47.520253Z",
     "iopub.status.idle": "2025-04-16T12:59:47.542450Z",
     "shell.execute_reply": "2025-04-16T12:59:47.542076Z",
     "shell.execute_reply.started": "2025-04-16T12:59:47.520368Z"
    }
   },
   "outputs": [],
   "source": [
    "w = expos[0].getWcs()\n",
    "type(expos[0])"
   ]
  },
  {
   "cell_type": "code",
   "execution_count": null,
   "id": "787d937b-de5f-47fb-ba9c-8458a1be701d",
   "metadata": {
    "execution": {
     "iopub.execute_input": "2025-04-16T12:59:47.542977Z",
     "iopub.status.busy": "2025-04-16T12:59:47.542851Z",
     "iopub.status.idle": "2025-04-16T12:59:47.787702Z",
     "shell.execute_reply": "2025-04-16T12:59:47.787103Z",
     "shell.execute_reply.started": "2025-04-16T12:59:47.542964Z"
    }
   },
   "outputs": [],
   "source": [
    "mosaic.getWcs()"
   ]
  },
  {
   "cell_type": "code",
   "execution_count": null,
   "id": "a8395fca-23ae-4c86-b94f-628975ced91a",
   "metadata": {
    "execution": {
     "iopub.status.busy": "2025-04-16T12:59:47.788018Z",
     "iopub.status.idle": "2025-04-16T12:59:47.788200Z",
     "shell.execute_reply": "2025-04-16T12:59:47.788110Z",
     "shell.execute_reply.started": "2025-04-16T12:59:47.788102Z"
    }
   },
   "outputs": [],
   "source": [
    "ghost_367, expos_367 = show_ghosts(\"2024112200367\", binning=8, zmin=500, zmax=2000)"
   ]
  },
  {
   "cell_type": "code",
   "execution_count": null,
   "id": "2e473e44-1d2e-4415-b799-2c7b9ff39a82",
   "metadata": {
    "execution": {
     "iopub.status.busy": "2025-04-16T12:59:47.788934Z",
     "iopub.status.idle": "2025-04-16T12:59:47.789093Z",
     "shell.execute_reply": "2025-04-16T12:59:47.789021Z",
     "shell.execute_reply.started": "2025-04-16T12:59:47.789013Z"
    }
   },
   "outputs": [],
   "source": [
    "displayImageGhosts(ghost, zmin=820, zmax=900)"
   ]
  },
  {
   "cell_type": "code",
   "execution_count": null,
   "id": "564a0eb8-c395-4370-93e0-27ee00ade6f6",
   "metadata": {
    "execution": {
     "iopub.status.busy": "2025-04-16T12:59:47.789445Z",
     "iopub.status.idle": "2025-04-16T12:59:47.789592Z",
     "shell.execute_reply": "2025-04-16T12:59:47.789525Z",
     "shell.execute_reply.started": "2025-04-16T12:59:47.789517Z"
    }
   },
   "outputs": [],
   "source": [
    "afwDisplay.setDefaultBackend('matplotlib') \n",
    "fig = plt.figure(figsize=(10,10))\n",
    "afw_display = afwDisplay.Display(1)\n",
    "afw_display.scale('asinh', 'zscale')\n",
    "#afw_display.scale('linear', min=zmin, max=zmax)\n",
    "afw_display.setImageColormap(cmap='grey')\n",
    "afw_display.mtv(ghost_367)\n",
    "plt.title(\"MC_2024112200367\")\n",
    "plt.gca().axis('off')\n"
   ]
  },
  {
   "cell_type": "code",
   "execution_count": null,
   "id": "44670534-11a4-4fcc-8a60-2f20f203dd37",
   "metadata": {
    "execution": {
     "iopub.status.busy": "2025-04-16T12:59:47.790084Z",
     "iopub.status.idle": "2025-04-16T12:59:47.790243Z",
     "shell.execute_reply": "2025-04-16T12:59:47.790173Z",
     "shell.execute_reply.started": "2025-04-16T12:59:47.790166Z"
    }
   },
   "outputs": [],
   "source": [
    "ghost_292, expos_292 = show_ghosts(\"2024111100292\", binning=8, zmin=500, zmax=2000)"
   ]
  },
  {
   "cell_type": "code",
   "execution_count": null,
   "id": "bfb97f0f-1a6d-437a-b35a-a68e9ef258a2",
   "metadata": {
    "execution": {
     "iopub.status.busy": "2025-04-16T12:59:47.790729Z",
     "iopub.status.idle": "2025-04-16T12:59:47.790878Z",
     "shell.execute_reply": "2025-04-16T12:59:47.790808Z",
     "shell.execute_reply.started": "2025-04-16T12:59:47.790801Z"
    }
   },
   "outputs": [],
   "source": [
    "afwDisplay.setDefaultBackend('matplotlib') \n",
    "fig = plt.figure(figsize=(10,10))\n",
    "afw_display = afwDisplay.Display(1)\n",
    "afw_display.scale('asinh', 'zscale')\n",
    "#afw_display.scale('linear', min=zmin, max=zmax)\n",
    "afw_display.setImageColormap(cmap='grey')\n",
    "afw_display.mtv(ghost_292)\n",
    "plt.title(\"MC_2024112200367\")\n",
    "plt.gca().axis('off')"
   ]
  },
  {
   "cell_type": "code",
   "execution_count": null,
   "id": "7bcb4ac0-5308-4cba-9fbf-e20f33641af4",
   "metadata": {
    "execution": {
     "iopub.status.busy": "2025-04-16T12:59:47.791409Z",
     "iopub.status.idle": "2025-04-16T12:59:47.791562Z",
     "shell.execute_reply": "2025-04-16T12:59:47.791493Z",
     "shell.execute_reply.started": "2025-04-16T12:59:47.791486Z"
    }
   },
   "outputs": [],
   "source": [
    "type(mosaic)"
   ]
  },
  {
   "cell_type": "code",
   "execution_count": null,
   "id": "bc2e7eec-c92a-4a73-8114-bacc5b16f74f",
   "metadata": {
    "execution": {
     "iopub.status.busy": "2025-04-16T12:59:47.792098Z",
     "iopub.status.idle": "2025-04-16T12:59:47.792339Z",
     "shell.execute_reply": "2025-04-16T12:59:47.792268Z",
     "shell.execute_reply.started": "2025-04-16T12:59:47.792261Z"
    }
   },
   "outputs": [],
   "source": [
    "mosaic.getBBox()"
   ]
  },
  {
   "cell_type": "code",
   "execution_count": null,
   "id": "203b02b0-650c-493d-8487-b21000b3546d",
   "metadata": {
    "execution": {
     "iopub.status.busy": "2025-04-16T12:59:47.792709Z",
     "iopub.status.idle": "2025-04-16T12:59:47.792854Z",
     "shell.execute_reply": "2025-04-16T12:59:47.792788Z",
     "shell.execute_reply.started": "2025-04-16T12:59:47.792781Z"
    }
   },
   "outputs": [],
   "source": [
    "expos_292[0].visitInfo.getBoresightRaDec()"
   ]
  },
  {
   "cell_type": "code",
   "execution_count": null,
   "id": "c5dbb798-09ac-4770-864a-088d0d0dcf36",
   "metadata": {
    "execution": {
     "iopub.status.busy": "2025-04-16T12:59:47.793169Z",
     "iopub.status.idle": "2025-04-16T12:59:47.793310Z",
     "shell.execute_reply": "2025-04-16T12:59:47.793245Z",
     "shell.execute_reply.started": "2025-04-16T12:59:47.793238Z"
    }
   },
   "outputs": [],
   "source": [
    "expos_292[0].getMetadata()[\"RA\"]"
   ]
  },
  {
   "cell_type": "code",
   "execution_count": null,
   "id": "4676eef6-c1dc-4a0d-ab37-11c8e444ad56",
   "metadata": {
    "execution": {
     "iopub.status.busy": "2025-04-16T12:59:47.793830Z",
     "iopub.status.idle": "2025-04-16T12:59:47.793971Z",
     "shell.execute_reply": "2025-04-16T12:59:47.793906Z",
     "shell.execute_reply.started": "2025-04-16T12:59:47.793899Z"
    }
   },
   "outputs": [],
   "source": [
    "ghost_292.writeFits(\"ghost_292.fits\", expos_292[0].getMetadata(), \"w\")"
   ]
  },
  {
   "cell_type": "code",
   "execution_count": null,
   "id": "1e7d0566-6efc-4bd6-ae29-ac5e451e5149",
   "metadata": {
    "execution": {
     "iopub.status.busy": "2025-04-16T12:59:47.794362Z",
     "iopub.status.idle": "2025-04-16T12:59:47.794504Z",
     "shell.execute_reply": "2025-04-16T12:59:47.794438Z",
     "shell.execute_reply.started": "2025-04-16T12:59:47.794432Z"
    }
   },
   "outputs": [],
   "source": [
    "ghost_292.getDimensions()"
   ]
  },
  {
   "cell_type": "code",
   "execution_count": null,
   "id": "b9b1be71-13ac-4929-b8b7-86c9002ae1f2",
   "metadata": {
    "execution": {
     "iopub.status.busy": "2025-04-16T12:59:47.794934Z",
     "iopub.status.idle": "2025-04-16T12:59:47.795086Z",
     "shell.execute_reply": "2025-04-16T12:59:47.795019Z",
     "shell.execute_reply.started": "2025-04-16T12:59:47.795012Z"
    }
   },
   "outputs": [],
   "source": [
    "ghost_367.writeFits(\"ghost_367.fits\", expos_367[0].getMetadata(), \"w\")"
   ]
  },
  {
   "cell_type": "code",
   "execution_count": null,
   "id": "74233f63-bf10-40d2-8b82-1f6fd591acd4",
   "metadata": {},
   "outputs": [],
   "source": []
  }
 ],
 "metadata": {
  "kernelspec": {
   "display_name": "LSST",
   "language": "python",
   "name": "lsst"
  },
  "language_info": {
   "codemirror_mode": {
    "name": "ipython",
    "version": 3
   },
   "file_extension": ".py",
   "mimetype": "text/x-python",
   "name": "python",
   "nbconvert_exporter": "python",
   "pygments_lexer": "ipython3",
   "version": "3.12.9"
  }
 },
 "nbformat": 4,
 "nbformat_minor": 5
}
