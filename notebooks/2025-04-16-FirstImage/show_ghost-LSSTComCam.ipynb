{
 "cells": [
  {
   "cell_type": "code",
   "execution_count": null,
   "id": "620f37b5-4a78-4b89-bff6-a575760063df",
   "metadata": {
    "editable": true,
    "execution": {
     "iopub.execute_input": "2025-05-01T19:08:57.466360Z",
     "iopub.status.busy": "2025-05-01T19:08:57.466014Z",
     "iopub.status.idle": "2025-05-01T19:08:58.281905Z",
     "shell.execute_reply": "2025-05-01T19:08:58.281426Z",
     "shell.execute_reply.started": "2025-05-01T19:08:57.466344Z"
    },
    "slideshow": {
     "slide_type": ""
    },
    "tags": []
   },
   "outputs": [],
   "source": [
    "import pylab as plt\n",
    "import lsst.afw.display as afwDisplay\n"
   ]
  },
  {
   "cell_type": "code",
   "execution_count": null,
   "id": "aeba9493-3c72-4e21-8c41-6c46602bd145",
   "metadata": {
    "editable": true,
    "execution": {
     "iopub.execute_input": "2025-05-01T19:08:58.284215Z",
     "iopub.status.busy": "2025-05-01T19:08:58.284076Z",
     "iopub.status.idle": "2025-05-01T19:08:58.288521Z",
     "shell.execute_reply": "2025-05-01T19:08:58.288155Z",
     "shell.execute_reply.started": "2025-05-01T19:08:58.284198Z"
    },
    "slideshow": {
     "slide_type": ""
    },
    "tags": []
   },
   "outputs": [],
   "source": [
    "def displayExposure(exposure,title=None):\n",
    "    afwDisplay.setDefaultBackend('matplotlib') \n",
    "    afwDisplay.setImageColormap(cmap='gray')\n",
    "    fig = plt.figure(figsize=(10,10))\n",
    "    afw_display = afwDisplay.Display(1)\n",
    "    afw_display.scale('asinh', 'zscale')\n",
    "    afw_display.mtv(exposure.getImage())\n",
    "    plt.title(title)\n",
    "    plt.gca().axis('off')\n",
    "    return afw_display\n",
    "\n",
    "def displayImage(image,title=None):\n",
    "    afwDisplay.setDefaultBackend('matplotlib') \n",
    "    fig = plt.figure(figsize=(10,10))\n",
    "    afw_display = afwDisplay.Display(1)\n",
    "    afw_display.scale('asinh', 'zscale')\n",
    "    #afw_display.scale('linear', min=-5, max=10)\n",
    "    afw_display.setImageColormap(cmap='plasma')\n",
    "    afw_display.mtv(image)\n",
    "    plt.title(title)\n",
    "    plt.gca().axis('off')\n",
    "    return afw_display\n",
    "    \n",
    "def displayImageGhosts(image, zmin=0, zmax=5000, title=None):\n",
    "    afwDisplay.setDefaultBackend('matplotlib') \n",
    "    fig = plt.figure(figsize=(10,10))\n",
    "    afw_display = afwDisplay.Display(1)\n",
    "    #afw_display.scale('asinh', 'zscale')\n",
    "    afw_display.scale('linear', min=zmin, max=zmax)\n",
    "    afw_display.setImageColormap(cmap='plasma')\n",
    "    afw_display.mtv(image)\n",
    "    plt.title(title)\n",
    "    plt.gca().axis('off')\n",
    "    return afw_display    "
   ]
  },
  {
   "cell_type": "code",
   "execution_count": null,
   "id": "77e49928-fd2d-4c16-9a7d-b79c75e0a3f7",
   "metadata": {
    "execution": {
     "iopub.execute_input": "2025-05-01T19:08:58.290245Z",
     "iopub.status.busy": "2025-05-01T19:08:58.290118Z",
     "iopub.status.idle": "2025-05-01T19:09:00.053041Z",
     "shell.execute_reply": "2025-05-01T19:09:00.052647Z",
     "shell.execute_reply.started": "2025-05-01T19:08:58.290231Z"
    }
   },
   "outputs": [],
   "source": [
    "# Define butler\n",
    "from lsst.daf.butler import Butler\n",
    "\n",
    "repo = 'embargo_new'\n",
    "collection = 'LSSTComCam/nightlyValidation'\n",
    "butler = Butler(repo,collections=collection)\n",
    "registry = butler.registry\n"
   ]
  },
  {
   "cell_type": "code",
   "execution_count": null,
   "id": "b1db879d-7208-49a9-b438-6e7e36ee3224",
   "metadata": {},
   "outputs": [],
   "source": []
  },
  {
   "cell_type": "code",
   "execution_count": null,
   "id": "e169b15c-351a-4ac7-a8df-b9d893cbab89",
   "metadata": {
    "execution": {
     "iopub.execute_input": "2025-05-01T19:09:00.054850Z",
     "iopub.status.busy": "2025-05-01T19:09:00.054718Z",
     "iopub.status.idle": "2025-05-01T19:09:00.059091Z",
     "shell.execute_reply": "2025-05-01T19:09:00.058760Z",
     "shell.execute_reply.started": "2025-05-01T19:09:00.054836Z"
    }
   },
   "outputs": [],
   "source": [
    "def queryExposures(expo=\"2024102400128\"):\n",
    "    dataset_refs = butler.query_datasets(\"postISRCCD\", collections=\"LSSTComCam/nightlyValidation\",\n",
    "                                         where=f\"instrument='LSSTComCam' AND exposure={expo}\")\n",
    "    exposures = [butler.get(dataset_ref) for dataset_ref in dataset_refs]\n",
    "    return exposures\n",
    "\n",
    "def make_mosaic(exposures, binning=4):\n",
    "    from lsst.pipe.tasks.visualizeVisit import (\n",
    "        VisualizeBinExpConfig,\n",
    "        VisualizeBinExpTask,\n",
    "        VisualizeMosaicExpConfig,\n",
    "        VisualizeMosaicExpTask,\n",
    "    )\n",
    "    camera = butler.get(\"camera\", collections=\"LSSTComCam/defaults\", instrument=\"LSSTComCam\")\n",
    "    \n",
    "    visualizeBinExpConfig = VisualizeBinExpConfig()\n",
    "    visualizeBinExpConfig.binning = binning\n",
    "    visualizeBinExpTask = VisualizeBinExpTask(config=visualizeBinExpConfig)\n",
    "    exposures_binned = [visualizeBinExpTask.run(inputExp = exposure, camera=camera).outputExp for exposure in exposures]\n",
    "    \n",
    "    visualizeMosaicExpConfig = VisualizeMosaicExpConfig()\n",
    "    visualizeMosaicExpConfig.binning = binning\n",
    "    visualizeMosaicExpTask = VisualizeMosaicExpTask(config=visualizeMosaicExpConfig)\n",
    "    \n",
    "    mosaic_full = visualizeMosaicExpTask.run(inputExps=exposures_binned, camera=camera)\n",
    "    mosaic = mosaic_full.outputData\n",
    "    return mosaic, mosaic_full\n",
    "\n",
    "def show_ghosts(exp_id=\"2024102400126\", binning=4, zmin=2230, zmax=2330):\n",
    "    expos = queryExposures(exp_id)\n",
    "    mosaic, mosaic_full = make_mosaic(expos, binning)\n",
    "    displayImageGhosts(mosaic, zmin=zmin, zmax=zmax)\n",
    "    return mosaic, mosaic_full, expos"
   ]
  },
  {
   "cell_type": "code",
   "execution_count": null,
   "id": "65194b1e-afd8-4e01-8e46-a7167d895915",
   "metadata": {
    "execution": {
     "iopub.execute_input": "2025-05-01T19:09:00.059682Z",
     "iopub.status.busy": "2025-05-01T19:09:00.059548Z",
     "iopub.status.idle": "2025-05-01T19:09:13.086651Z",
     "shell.execute_reply": "2025-05-01T19:09:13.086179Z",
     "shell.execute_reply.started": "2025-05-01T19:09:00.059667Z"
    }
   },
   "outputs": [],
   "source": [
    "mosaic, mosaic_full, expos = show_ghosts(\"2024102400126\", binning=4, zmin=2230, zmax=2330)"
   ]
  },
  {
   "cell_type": "code",
   "execution_count": null,
   "id": "784f4a09-7eb3-4171-97a0-de6e2f2fa315",
   "metadata": {
    "execution": {
     "iopub.execute_input": "2025-05-01T19:09:13.087329Z",
     "iopub.status.busy": "2025-05-01T19:09:13.087177Z",
     "iopub.status.idle": "2025-05-01T19:09:13.091153Z",
     "shell.execute_reply": "2025-05-01T19:09:13.090767Z",
     "shell.execute_reply.started": "2025-05-01T19:09:13.087313Z"
    }
   },
   "outputs": [],
   "source": [
    "type(mosaic_full)\n",
    "mosaic_full.getDict().values()\n"
   ]
  },
  {
   "cell_type": "code",
   "execution_count": null,
   "id": "69bd2f09-4591-4c17-874a-b4805a007d2a",
   "metadata": {
    "execution": {
     "iopub.execute_input": "2025-05-01T19:09:13.091741Z",
     "iopub.status.busy": "2025-05-01T19:09:13.091604Z",
     "iopub.status.idle": "2025-05-01T19:09:13.104919Z",
     "shell.execute_reply": "2025-05-01T19:09:13.104505Z",
     "shell.execute_reply.started": "2025-05-01T19:09:13.091728Z"
    }
   },
   "outputs": [],
   "source": [
    "w = expos[0].getWcs()\n",
    "type(expos[0])"
   ]
  },
  {
   "cell_type": "code",
   "execution_count": null,
   "id": "787d937b-de5f-47fb-ba9c-8458a1be701d",
   "metadata": {
    "execution": {
     "iopub.execute_input": "2025-05-01T19:09:13.105742Z",
     "iopub.status.busy": "2025-05-01T19:09:13.105575Z",
     "iopub.status.idle": "2025-05-01T19:09:13.427559Z",
     "shell.execute_reply": "2025-05-01T19:09:13.426902Z",
     "shell.execute_reply.started": "2025-05-01T19:09:13.105726Z"
    }
   },
   "outputs": [],
   "source": [
    "mosaic.getWcs()"
   ]
  },
  {
   "cell_type": "code",
   "execution_count": null,
   "id": "a8395fca-23ae-4c86-b94f-628975ced91a",
   "metadata": {
    "execution": {
     "iopub.status.busy": "2025-05-01T19:09:13.427997Z",
     "iopub.status.idle": "2025-05-01T19:09:13.428195Z",
     "shell.execute_reply": "2025-05-01T19:09:13.428102Z",
     "shell.execute_reply.started": "2025-05-01T19:09:13.428093Z"
    }
   },
   "outputs": [],
   "source": [
    "ghost_367, expos_367 = show_ghosts(\"2024112200367\", binning=8, zmin=500, zmax=2000)"
   ]
  },
  {
   "cell_type": "code",
   "execution_count": null,
   "id": "2e473e44-1d2e-4415-b799-2c7b9ff39a82",
   "metadata": {
    "execution": {
     "iopub.status.busy": "2025-05-01T19:09:13.428991Z",
     "iopub.status.idle": "2025-05-01T19:09:13.429176Z",
     "shell.execute_reply": "2025-05-01T19:09:13.429090Z",
     "shell.execute_reply.started": "2025-05-01T19:09:13.429081Z"
    }
   },
   "outputs": [],
   "source": [
    "displayImageGhosts(ghost, zmin=820, zmax=900)"
   ]
  },
  {
   "cell_type": "code",
   "execution_count": null,
   "id": "564a0eb8-c395-4370-93e0-27ee00ade6f6",
   "metadata": {
    "execution": {
     "iopub.status.busy": "2025-05-01T19:09:13.429696Z",
     "iopub.status.idle": "2025-05-01T19:09:13.429883Z",
     "shell.execute_reply": "2025-05-01T19:09:13.429798Z",
     "shell.execute_reply.started": "2025-05-01T19:09:13.429789Z"
    }
   },
   "outputs": [],
   "source": [
    "afwDisplay.setDefaultBackend('matplotlib') \n",
    "fig = plt.figure(figsize=(10,10))\n",
    "afw_display = afwDisplay.Display(1)\n",
    "afw_display.scale('asinh', 'zscale')\n",
    "#afw_display.scale('linear', min=zmin, max=zmax)\n",
    "afw_display.setImageColormap(cmap='grey')\n",
    "afw_display.mtv(ghost_367)\n",
    "plt.title(\"MC_2024112200367\")\n",
    "plt.gca().axis('off')\n"
   ]
  },
  {
   "cell_type": "code",
   "execution_count": null,
   "id": "44670534-11a4-4fcc-8a60-2f20f203dd37",
   "metadata": {
    "execution": {
     "iopub.status.busy": "2025-05-01T19:09:13.430250Z",
     "iopub.status.idle": "2025-05-01T19:09:13.430413Z",
     "shell.execute_reply": "2025-05-01T19:09:13.430337Z",
     "shell.execute_reply.started": "2025-05-01T19:09:13.430328Z"
    }
   },
   "outputs": [],
   "source": [
    "ghost_292, expos_292 = show_ghosts(\"2024111100292\", binning=8, zmin=500, zmax=2000)"
   ]
  },
  {
   "cell_type": "code",
   "execution_count": null,
   "id": "bfb97f0f-1a6d-437a-b35a-a68e9ef258a2",
   "metadata": {
    "execution": {
     "iopub.status.busy": "2025-05-01T19:09:13.430948Z",
     "iopub.status.idle": "2025-05-01T19:09:13.431117Z",
     "shell.execute_reply": "2025-05-01T19:09:13.431038Z",
     "shell.execute_reply.started": "2025-05-01T19:09:13.431030Z"
    }
   },
   "outputs": [],
   "source": [
    "afwDisplay.setDefaultBackend('matplotlib') \n",
    "fig = plt.figure(figsize=(10,10))\n",
    "afw_display = afwDisplay.Display(1)\n",
    "afw_display.scale('asinh', 'zscale')\n",
    "#afw_display.scale('linear', min=zmin, max=zmax)\n",
    "afw_display.setImageColormap(cmap='grey')\n",
    "afw_display.mtv(ghost_292)\n",
    "plt.title(\"MC_2024112200367\")\n",
    "plt.gca().axis('off')"
   ]
  },
  {
   "cell_type": "code",
   "execution_count": null,
   "id": "7bcb4ac0-5308-4cba-9fbf-e20f33641af4",
   "metadata": {
    "execution": {
     "iopub.status.busy": "2025-05-01T19:09:13.431480Z",
     "iopub.status.idle": "2025-05-01T19:09:13.431642Z",
     "shell.execute_reply": "2025-05-01T19:09:13.431565Z",
     "shell.execute_reply.started": "2025-05-01T19:09:13.431557Z"
    }
   },
   "outputs": [],
   "source": [
    "type(mosaic)"
   ]
  },
  {
   "cell_type": "code",
   "execution_count": null,
   "id": "bc2e7eec-c92a-4a73-8114-bacc5b16f74f",
   "metadata": {
    "execution": {
     "iopub.status.busy": "2025-05-01T19:09:13.432001Z",
     "iopub.status.idle": "2025-05-01T19:09:13.432156Z",
     "shell.execute_reply": "2025-05-01T19:09:13.432084Z",
     "shell.execute_reply.started": "2025-05-01T19:09:13.432076Z"
    }
   },
   "outputs": [],
   "source": [
    "mosaic.getBBox()"
   ]
  },
  {
   "cell_type": "code",
   "execution_count": null,
   "id": "203b02b0-650c-493d-8487-b21000b3546d",
   "metadata": {
    "execution": {
     "iopub.status.busy": "2025-05-01T19:09:13.432882Z",
     "iopub.status.idle": "2025-05-01T19:09:13.433049Z",
     "shell.execute_reply": "2025-05-01T19:09:13.432972Z",
     "shell.execute_reply.started": "2025-05-01T19:09:13.432964Z"
    }
   },
   "outputs": [],
   "source": [
    "expos_292[0].visitInfo.getBoresightRaDec()"
   ]
  },
  {
   "cell_type": "code",
   "execution_count": null,
   "id": "c5dbb798-09ac-4770-864a-088d0d0dcf36",
   "metadata": {
    "execution": {
     "iopub.status.busy": "2025-05-01T19:09:13.433701Z",
     "iopub.status.idle": "2025-05-01T19:09:13.433887Z",
     "shell.execute_reply": "2025-05-01T19:09:13.433802Z",
     "shell.execute_reply.started": "2025-05-01T19:09:13.433793Z"
    }
   },
   "outputs": [],
   "source": [
    "expos_292[0].getMetadata()[\"RA\"]"
   ]
  },
  {
   "cell_type": "code",
   "execution_count": null,
   "id": "4676eef6-c1dc-4a0d-ab37-11c8e444ad56",
   "metadata": {
    "execution": {
     "iopub.status.busy": "2025-05-01T19:09:13.434398Z",
     "iopub.status.idle": "2025-05-01T19:09:13.434569Z",
     "shell.execute_reply": "2025-05-01T19:09:13.434488Z",
     "shell.execute_reply.started": "2025-05-01T19:09:13.434480Z"
    }
   },
   "outputs": [],
   "source": [
    "ghost_292.writeFits(\"ghost_292.fits\", expos_292[0].getMetadata(), \"w\")"
   ]
  },
  {
   "cell_type": "code",
   "execution_count": null,
   "id": "1e7d0566-6efc-4bd6-ae29-ac5e451e5149",
   "metadata": {
    "execution": {
     "iopub.status.busy": "2025-05-01T19:09:13.435153Z",
     "iopub.status.idle": "2025-05-01T19:09:13.435328Z",
     "shell.execute_reply": "2025-05-01T19:09:13.435245Z",
     "shell.execute_reply.started": "2025-05-01T19:09:13.435237Z"
    }
   },
   "outputs": [],
   "source": [
    "ghost_292.getDimensions()"
   ]
  },
  {
   "cell_type": "code",
   "execution_count": null,
   "id": "b9b1be71-13ac-4929-b8b7-86c9002ae1f2",
   "metadata": {
    "execution": {
     "iopub.status.busy": "2025-05-01T19:09:13.435718Z",
     "iopub.status.idle": "2025-05-01T19:09:13.435902Z",
     "shell.execute_reply": "2025-05-01T19:09:13.435820Z",
     "shell.execute_reply.started": "2025-05-01T19:09:13.435810Z"
    }
   },
   "outputs": [],
   "source": [
    "ghost_367.writeFits(\"ghost_367.fits\", expos_367[0].getMetadata(), \"w\")"
   ]
  },
  {
   "cell_type": "code",
   "execution_count": null,
   "id": "74233f63-bf10-40d2-8b82-1f6fd591acd4",
   "metadata": {},
   "outputs": [],
   "source": []
  }
 ],
 "metadata": {
  "kernelspec": {
   "display_name": "LSST",
   "language": "python",
   "name": "lsst"
  },
  "language_info": {
   "codemirror_mode": {
    "name": "ipython",
    "version": 3
   },
   "file_extension": ".py",
   "mimetype": "text/x-python",
   "name": "python",
   "nbconvert_exporter": "python",
   "pygments_lexer": "ipython3",
   "version": "3.12.9"
  }
 },
 "nbformat": 4,
 "nbformat_minor": 5
}
