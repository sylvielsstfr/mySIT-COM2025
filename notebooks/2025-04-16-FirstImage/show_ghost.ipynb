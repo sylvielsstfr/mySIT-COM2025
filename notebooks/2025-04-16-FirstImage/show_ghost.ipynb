{
 "cells": [
  {
   "cell_type": "code",
   "execution_count": null,
   "id": "620f37b5-4a78-4b89-bff6-a575760063df",
   "metadata": {
    "editable": true,
    "execution": {
     "iopub.execute_input": "2025-04-16T08:18:47.711228Z",
     "iopub.status.busy": "2025-04-16T08:18:47.711095Z",
     "iopub.status.idle": "2025-04-16T08:18:48.447492Z",
     "shell.execute_reply": "2025-04-16T08:18:48.446968Z",
     "shell.execute_reply.started": "2025-04-16T08:18:47.711214Z"
    },
    "slideshow": {
     "slide_type": ""
    },
    "tags": []
   },
   "outputs": [],
   "source": [
    "import pylab as plt\n",
    "import lsst.afw.display as afwDisplay\n"
   ]
  },
  {
   "cell_type": "code",
   "execution_count": null,
   "id": "aeba9493-3c72-4e21-8c41-6c46602bd145",
   "metadata": {
    "editable": true,
    "execution": {
     "iopub.execute_input": "2025-04-16T08:18:48.448423Z",
     "iopub.status.busy": "2025-04-16T08:18:48.448106Z",
     "iopub.status.idle": "2025-04-16T08:18:48.453101Z",
     "shell.execute_reply": "2025-04-16T08:18:48.452742Z",
     "shell.execute_reply.started": "2025-04-16T08:18:48.448407Z"
    },
    "slideshow": {
     "slide_type": ""
    },
    "tags": []
   },
   "outputs": [],
   "source": [
    "def displayExposure(exposure,title=None):\n",
    "    afwDisplay.setDefaultBackend('matplotlib') \n",
    "    afwDisplay.setImageColormap(cmap='gray')\n",
    "    fig = plt.figure(figsize=(10,10))\n",
    "    afw_display = afwDisplay.Display(1)\n",
    "    afw_display.scale('asinh', 'zscale')\n",
    "    afw_display.mtv(exposure.getImage())\n",
    "    plt.title(title)\n",
    "    plt.gca().axis('off')\n",
    "    return afw_display\n",
    "\n",
    "def displayImage(image,title=None):\n",
    "    afwDisplay.setDefaultBackend('matplotlib') \n",
    "    fig = plt.figure(figsize=(10,10))\n",
    "    afw_display = afwDisplay.Display(1)\n",
    "    afw_display.scale('asinh', 'zscale')\n",
    "    #afw_display.scale('linear', min=-5, max=10)\n",
    "    afw_display.setImageColormap(cmap='plasma')\n",
    "    afw_display.mtv(image)\n",
    "    plt.title(title)\n",
    "    plt.gca().axis('off')\n",
    "    return afw_display\n",
    "    \n",
    "def displayImageGhosts(image, zmin=0, zmax=5000, title=None):\n",
    "    afwDisplay.setDefaultBackend('matplotlib') \n",
    "    fig = plt.figure(figsize=(10,10))\n",
    "    afw_display = afwDisplay.Display(1)\n",
    "    #afw_display.scale('asinh', 'zscale')\n",
    "    afw_display.scale('linear', min=zmin, max=zmax)\n",
    "    afw_display.setImageColormap(cmap='plasma')\n",
    "    afw_display.mtv(image)\n",
    "    plt.title(title)\n",
    "    plt.gca().axis('off')\n",
    "    return afw_display    "
   ]
  },
  {
   "cell_type": "code",
   "execution_count": null,
   "id": "77e49928-fd2d-4c16-9a7d-b79c75e0a3f7",
   "metadata": {
    "execution": {
     "iopub.execute_input": "2025-04-16T08:18:48.453690Z",
     "iopub.status.busy": "2025-04-16T08:18:48.453560Z",
     "iopub.status.idle": "2025-04-16T08:18:50.005409Z",
     "shell.execute_reply": "2025-04-16T08:18:50.004930Z",
     "shell.execute_reply.started": "2025-04-16T08:18:48.453679Z"
    }
   },
   "outputs": [],
   "source": [
    "# Define butler\n",
    "from lsst.daf.butler import Butler\n",
    "\n",
    "repo = 'embargo_new'\n",
    "collection = 'LSSTComCam/nightlyValidation'\n",
    "butler = Butler(repo,collections=collection)\n",
    "registry = butler.registry\n"
   ]
  },
  {
   "cell_type": "code",
   "execution_count": null,
   "id": "b1db879d-7208-49a9-b438-6e7e36ee3224",
   "metadata": {},
   "outputs": [],
   "source": []
  },
  {
   "cell_type": "code",
   "execution_count": null,
   "id": "e169b15c-351a-4ac7-a8df-b9d893cbab89",
   "metadata": {
    "execution": {
     "iopub.execute_input": "2025-04-16T08:18:50.006361Z",
     "iopub.status.busy": "2025-04-16T08:18:50.005913Z",
     "iopub.status.idle": "2025-04-16T08:18:50.010536Z",
     "shell.execute_reply": "2025-04-16T08:18:50.010096Z",
     "shell.execute_reply.started": "2025-04-16T08:18:50.006345Z"
    }
   },
   "outputs": [],
   "source": [
    "def queryExposures(expo=\"2024102400128\"):\n",
    "    dataset_refs = butler.query_datasets(\"postISRCCD\", collections=\"LSSTComCam/nightlyValidation\",\n",
    "                                         where=f\"instrument='LSSTComCam' AND exposure={expo}\")\n",
    "    exposures = [butler.get(dataset_ref) for dataset_ref in dataset_refs]\n",
    "    return exposures\n",
    "\n",
    "def make_mosaic(exposures, binning=4):\n",
    "    from lsst.pipe.tasks.visualizeVisit import (\n",
    "        VisualizeBinExpConfig,\n",
    "        VisualizeBinExpTask,\n",
    "        VisualizeMosaicExpConfig,\n",
    "        VisualizeMosaicExpTask,\n",
    "    )\n",
    "    camera = butler.get(\"camera\", collections=\"LSSTComCam/defaults\", instrument=\"LSSTComCam\")\n",
    "    \n",
    "    visualizeBinExpConfig = VisualizeBinExpConfig()\n",
    "    visualizeBinExpConfig.binning = binning\n",
    "    visualizeBinExpTask = VisualizeBinExpTask(config=visualizeBinExpConfig)\n",
    "    exposures_binned = [visualizeBinExpTask.run(inputExp = exposure, camera=camera).outputExp for exposure in exposures]\n",
    "    \n",
    "    visualizeMosaicExpConfig = VisualizeMosaicExpConfig()\n",
    "    visualizeMosaicExpConfig.binning = binning\n",
    "    visualizeMosaicExpTask = VisualizeMosaicExpTask(config=visualizeMosaicExpConfig)\n",
    "    \n",
    "    mosaic_full = visualizeMosaicExpTask.run(inputExps=exposures_binned, camera=camera)\n",
    "    mosaic = mosaic_full.outputData\n",
    "    return mosaic, mosaic_full\n",
    "\n",
    "def show_ghosts(exp_id=\"2024102400126\", binning=4, zmin=2230, zmax=2330):\n",
    "    expos = queryExposures(exp_id)\n",
    "    mosaic, mosaic_full = make_mosaic(expos, binning)\n",
    "    displayImageGhosts(mosaic, zmin=zmin, zmax=zmax)\n",
    "    return mosaic, mosaic_full, expos"
   ]
  },
  {
   "cell_type": "code",
   "execution_count": null,
   "id": "65194b1e-afd8-4e01-8e46-a7167d895915",
   "metadata": {
    "execution": {
     "iopub.execute_input": "2025-04-16T08:18:50.011105Z",
     "iopub.status.busy": "2025-04-16T08:18:50.010970Z",
     "iopub.status.idle": "2025-04-16T08:19:07.312290Z",
     "shell.execute_reply": "2025-04-16T08:19:07.311843Z",
     "shell.execute_reply.started": "2025-04-16T08:18:50.011092Z"
    }
   },
   "outputs": [],
   "source": [
    "mosaic, mosaic_full, expos = show_ghosts(\"2024102400126\", binning=4, zmin=2230, zmax=2330)"
   ]
  },
  {
   "cell_type": "code",
   "execution_count": null,
   "id": "784f4a09-7eb3-4171-97a0-de6e2f2fa315",
   "metadata": {
    "execution": {
     "iopub.execute_input": "2025-04-16T08:19:07.312951Z",
     "iopub.status.busy": "2025-04-16T08:19:07.312802Z",
     "iopub.status.idle": "2025-04-16T08:19:07.316427Z",
     "shell.execute_reply": "2025-04-16T08:19:07.316071Z",
     "shell.execute_reply.started": "2025-04-16T08:19:07.312937Z"
    }
   },
   "outputs": [],
   "source": [
    "type(mosaic_full)\n",
    "mosaic_full.getDict().values()\n"
   ]
  },
  {
   "cell_type": "code",
   "execution_count": null,
   "id": "69bd2f09-4591-4c17-874a-b4805a007d2a",
   "metadata": {
    "execution": {
     "iopub.execute_input": "2025-04-16T08:19:07.317050Z",
     "iopub.status.busy": "2025-04-16T08:19:07.316919Z",
     "iopub.status.idle": "2025-04-16T08:19:07.323480Z",
     "shell.execute_reply": "2025-04-16T08:19:07.323117Z",
     "shell.execute_reply.started": "2025-04-16T08:19:07.317038Z"
    }
   },
   "outputs": [],
   "source": [
    "w = expos[0].getWcs()\n",
    "type(expos[0])"
   ]
  },
  {
   "cell_type": "code",
   "execution_count": null,
   "id": "787d937b-de5f-47fb-ba9c-8458a1be701d",
   "metadata": {
    "execution": {
     "iopub.execute_input": "2025-04-16T08:19:07.323998Z",
     "iopub.status.busy": "2025-04-16T08:19:07.323852Z",
     "iopub.status.idle": "2025-04-16T08:19:07.580173Z",
     "shell.execute_reply": "2025-04-16T08:19:07.579510Z",
     "shell.execute_reply.started": "2025-04-16T08:19:07.323986Z"
    }
   },
   "outputs": [],
   "source": [
    "mosaic.getWcs()"
   ]
  },
  {
   "cell_type": "code",
   "execution_count": null,
   "id": "a8395fca-23ae-4c86-b94f-628975ced91a",
   "metadata": {
    "execution": {
     "iopub.status.busy": "2025-04-16T08:19:07.580718Z",
     "iopub.status.idle": "2025-04-16T08:19:07.580894Z",
     "shell.execute_reply": "2025-04-16T08:19:07.580814Z",
     "shell.execute_reply.started": "2025-04-16T08:19:07.580805Z"
    }
   },
   "outputs": [],
   "source": [
    "ghost_367, expos_367 = show_ghosts(\"2024112200367\", binning=8, zmin=500, zmax=2000)"
   ]
  },
  {
   "cell_type": "code",
   "execution_count": null,
   "id": "2e473e44-1d2e-4415-b799-2c7b9ff39a82",
   "metadata": {
    "execution": {
     "iopub.status.busy": "2025-04-16T08:19:07.581292Z",
     "iopub.status.idle": "2025-04-16T08:19:07.581452Z",
     "shell.execute_reply": "2025-04-16T08:19:07.581378Z",
     "shell.execute_reply.started": "2025-04-16T08:19:07.581371Z"
    }
   },
   "outputs": [],
   "source": [
    "displayImageGhosts(ghost, zmin=820, zmax=900)"
   ]
  },
  {
   "cell_type": "code",
   "execution_count": null,
   "id": "564a0eb8-c395-4370-93e0-27ee00ade6f6",
   "metadata": {
    "execution": {
     "iopub.status.busy": "2025-04-16T08:19:07.582175Z",
     "iopub.status.idle": "2025-04-16T08:19:07.582343Z",
     "shell.execute_reply": "2025-04-16T08:19:07.582265Z",
     "shell.execute_reply.started": "2025-04-16T08:19:07.582257Z"
    }
   },
   "outputs": [],
   "source": [
    "afwDisplay.setDefaultBackend('matplotlib') \n",
    "fig = plt.figure(figsize=(10,10))\n",
    "afw_display = afwDisplay.Display(1)\n",
    "afw_display.scale('asinh', 'zscale')\n",
    "#afw_display.scale('linear', min=zmin, max=zmax)\n",
    "afw_display.setImageColormap(cmap='grey')\n",
    "afw_display.mtv(ghost_367)\n",
    "plt.title(\"MC_2024112200367\")\n",
    "plt.gca().axis('off')\n"
   ]
  },
  {
   "cell_type": "code",
   "execution_count": null,
   "id": "44670534-11a4-4fcc-8a60-2f20f203dd37",
   "metadata": {
    "execution": {
     "iopub.status.busy": "2025-04-16T08:19:07.582793Z",
     "iopub.status.idle": "2025-04-16T08:19:07.582948Z",
     "shell.execute_reply": "2025-04-16T08:19:07.582876Z",
     "shell.execute_reply.started": "2025-04-16T08:19:07.582868Z"
    }
   },
   "outputs": [],
   "source": [
    "ghost_292, expos_292 = show_ghosts(\"2024111100292\", binning=8, zmin=500, zmax=2000)"
   ]
  },
  {
   "cell_type": "code",
   "execution_count": null,
   "id": "bfb97f0f-1a6d-437a-b35a-a68e9ef258a2",
   "metadata": {
    "execution": {
     "iopub.status.busy": "2025-04-16T08:19:07.583409Z",
     "iopub.status.idle": "2025-04-16T08:19:07.583561Z",
     "shell.execute_reply": "2025-04-16T08:19:07.583491Z",
     "shell.execute_reply.started": "2025-04-16T08:19:07.583483Z"
    }
   },
   "outputs": [],
   "source": [
    "afwDisplay.setDefaultBackend('matplotlib') \n",
    "fig = plt.figure(figsize=(10,10))\n",
    "afw_display = afwDisplay.Display(1)\n",
    "afw_display.scale('asinh', 'zscale')\n",
    "#afw_display.scale('linear', min=zmin, max=zmax)\n",
    "afw_display.setImageColormap(cmap='grey')\n",
    "afw_display.mtv(ghost_292)\n",
    "plt.title(\"MC_2024112200367\")\n",
    "plt.gca().axis('off')"
   ]
  },
  {
   "cell_type": "code",
   "execution_count": null,
   "id": "7bcb4ac0-5308-4cba-9fbf-e20f33641af4",
   "metadata": {
    "execution": {
     "iopub.status.busy": "2025-04-16T08:19:07.584179Z",
     "iopub.status.idle": "2025-04-16T08:19:07.584331Z",
     "shell.execute_reply": "2025-04-16T08:19:07.584263Z",
     "shell.execute_reply.started": "2025-04-16T08:19:07.584256Z"
    }
   },
   "outputs": [],
   "source": [
    "type(mosaic)"
   ]
  },
  {
   "cell_type": "code",
   "execution_count": null,
   "id": "bc2e7eec-c92a-4a73-8114-bacc5b16f74f",
   "metadata": {
    "execution": {
     "iopub.status.busy": "2025-04-16T08:19:07.584770Z",
     "iopub.status.idle": "2025-04-16T08:19:07.584920Z",
     "shell.execute_reply": "2025-04-16T08:19:07.584850Z",
     "shell.execute_reply.started": "2025-04-16T08:19:07.584843Z"
    }
   },
   "outputs": [],
   "source": [
    "mosaic.getBBox()"
   ]
  },
  {
   "cell_type": "code",
   "execution_count": null,
   "id": "203b02b0-650c-493d-8487-b21000b3546d",
   "metadata": {
    "execution": {
     "iopub.status.busy": "2025-04-16T08:19:07.585320Z",
     "iopub.status.idle": "2025-04-16T08:19:07.585469Z",
     "shell.execute_reply": "2025-04-16T08:19:07.585399Z",
     "shell.execute_reply.started": "2025-04-16T08:19:07.585393Z"
    }
   },
   "outputs": [],
   "source": [
    "expos_292[0].visitInfo.getBoresightRaDec()"
   ]
  },
  {
   "cell_type": "code",
   "execution_count": null,
   "id": "c5dbb798-09ac-4770-864a-088d0d0dcf36",
   "metadata": {
    "execution": {
     "iopub.status.busy": "2025-04-16T08:19:07.585948Z",
     "iopub.status.idle": "2025-04-16T08:19:07.586097Z",
     "shell.execute_reply": "2025-04-16T08:19:07.586027Z",
     "shell.execute_reply.started": "2025-04-16T08:19:07.586020Z"
    }
   },
   "outputs": [],
   "source": [
    "expos_292[0].getMetadata()[\"RA\"]"
   ]
  },
  {
   "cell_type": "code",
   "execution_count": null,
   "id": "4676eef6-c1dc-4a0d-ab37-11c8e444ad56",
   "metadata": {
    "execution": {
     "iopub.status.busy": "2025-04-16T08:19:07.586598Z",
     "iopub.status.idle": "2025-04-16T08:19:07.586754Z",
     "shell.execute_reply": "2025-04-16T08:19:07.586681Z",
     "shell.execute_reply.started": "2025-04-16T08:19:07.586674Z"
    }
   },
   "outputs": [],
   "source": [
    "ghost_292.writeFits(\"ghost_292.fits\", expos_292[0].getMetadata(), \"w\")"
   ]
  },
  {
   "cell_type": "code",
   "execution_count": null,
   "id": "1e7d0566-6efc-4bd6-ae29-ac5e451e5149",
   "metadata": {
    "execution": {
     "iopub.status.busy": "2025-04-16T08:19:07.587137Z",
     "iopub.status.idle": "2025-04-16T08:19:07.587292Z",
     "shell.execute_reply": "2025-04-16T08:19:07.587219Z",
     "shell.execute_reply.started": "2025-04-16T08:19:07.587212Z"
    }
   },
   "outputs": [],
   "source": [
    "ghost_292.getDimensions()"
   ]
  },
  {
   "cell_type": "code",
   "execution_count": null,
   "id": "b9b1be71-13ac-4929-b8b7-86c9002ae1f2",
   "metadata": {
    "execution": {
     "iopub.status.busy": "2025-04-16T08:19:07.587761Z",
     "iopub.status.idle": "2025-04-16T08:19:07.587912Z",
     "shell.execute_reply": "2025-04-16T08:19:07.587840Z",
     "shell.execute_reply.started": "2025-04-16T08:19:07.587833Z"
    }
   },
   "outputs": [],
   "source": [
    "ghost_367.writeFits(\"ghost_367.fits\", expos_367[0].getMetadata(), \"w\")"
   ]
  },
  {
   "cell_type": "code",
   "execution_count": null,
   "id": "74233f63-bf10-40d2-8b82-1f6fd591acd4",
   "metadata": {},
   "outputs": [],
   "source": []
  }
 ],
 "metadata": {
  "kernelspec": {
   "display_name": "LSST",
   "language": "python",
   "name": "lsst"
  },
  "language_info": {
   "codemirror_mode": {
    "name": "ipython",
    "version": 3
   },
   "file_extension": ".py",
   "mimetype": "text/x-python",
   "name": "python",
   "nbconvert_exporter": "python",
   "pygments_lexer": "ipython3",
   "version": "3.12.9"
  }
 },
 "nbformat": 4,
 "nbformat_minor": 5
}
