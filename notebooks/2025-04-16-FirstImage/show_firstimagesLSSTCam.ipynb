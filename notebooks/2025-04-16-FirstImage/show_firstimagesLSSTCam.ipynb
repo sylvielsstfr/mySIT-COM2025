{
 "cells": [
  {
   "cell_type": "markdown",
   "id": "ba6afc5a-53fe-431e-852b-f90c8cf41c3f",
   "metadata": {},
   "source": [
    "# Access to first images of LSSTCam\n",
    "\n",
    "- author : Sylvie Dagoret-Campagne\n",
    "- affiliation : IJCLab/IN2P3/CNRS\n",
    "- member : DESC, rubin-inkind\n",
    "- creation date : 2025-04-16\n",
    "- last update : 2025-04-18"
   ]
  },
  {
   "cell_type": "code",
   "execution_count": null,
   "id": "88e2d190-e737-4311-bde8-552651762e2d",
   "metadata": {
    "execution": {
     "iopub.execute_input": "2025-04-18T19:58:12.525713Z",
     "iopub.status.busy": "2025-04-18T19:58:12.525389Z",
     "iopub.status.idle": "2025-04-18T19:58:12.528580Z",
     "shell.execute_reply": "2025-04-18T19:58:12.528181Z",
     "shell.execute_reply.started": "2025-04-18T19:58:12.525680Z"
    }
   },
   "outputs": [],
   "source": [
    "import sys\n",
    "import matplotlib.pyplot as plt\n",
    "import lsst.afw.display as afwDisplay\n",
    "import numpy as np\n",
    "import pandas as pd\n",
    "from astropy.time import Time\n",
    "#%matplotlib widget"
   ]
  },
  {
   "cell_type": "code",
   "execution_count": null,
   "id": "dc92bf92-c15d-4076-94fe-a59a9352c9d5",
   "metadata": {
    "execution": {
     "iopub.execute_input": "2025-04-18T19:58:20.489772Z",
     "iopub.status.busy": "2025-04-18T19:58:20.489537Z",
     "iopub.status.idle": "2025-04-18T19:58:20.492821Z",
     "shell.execute_reply": "2025-04-18T19:58:20.492285Z",
     "shell.execute_reply.started": "2025-04-18T19:58:20.489756Z"
    }
   },
   "outputs": [],
   "source": [
    "sys.path.append(\"../libs\")"
   ]
  },
  {
   "cell_type": "code",
   "execution_count": null,
   "id": "ef980f87-544e-4217-92b8-9914e18d9b58",
   "metadata": {
    "execution": {
     "iopub.execute_input": "2025-04-18T19:59:45.527081Z",
     "iopub.status.busy": "2025-04-18T19:59:45.526749Z",
     "iopub.status.idle": "2025-04-18T19:59:45.529590Z",
     "shell.execute_reply": "2025-04-18T19:59:45.529185Z",
     "shell.execute_reply.started": "2025-04-18T19:59:45.527064Z"
    }
   },
   "outputs": [],
   "source": [
    "from conversion import detector,rafts,ccds, dict_detector"
   ]
  },
  {
   "cell_type": "code",
   "execution_count": null,
   "id": "768e8c54-4fd1-4c54-927c-89e2bd690706",
   "metadata": {
    "execution": {
     "iopub.execute_input": "2025-04-18T06:26:19.931812Z",
     "iopub.status.busy": "2025-04-18T06:26:19.931484Z",
     "iopub.status.idle": "2025-04-18T06:26:20.003494Z",
     "shell.execute_reply": "2025-04-18T06:26:20.003035Z",
     "shell.execute_reply.started": "2025-04-18T06:26:19.931795Z"
    }
   },
   "outputs": [],
   "source": [
    "afwDisplay.setDefaultBackend(\"firefly\")"
   ]
  },
  {
   "cell_type": "code",
   "execution_count": null,
   "id": "71da93ff-4198-4a5f-a0d3-0a3c68afc5d7",
   "metadata": {
    "execution": {
     "iopub.execute_input": "2025-04-18T06:26:20.004336Z",
     "iopub.status.busy": "2025-04-18T06:26:20.004017Z",
     "iopub.status.idle": "2025-04-18T06:26:20.007842Z",
     "shell.execute_reply": "2025-04-18T06:26:20.007442Z",
     "shell.execute_reply.started": "2025-04-18T06:26:20.004320Z"
    }
   },
   "outputs": [],
   "source": [
    "plt.rcParams[\"figure.figsize\"] = (10,6)\n",
    "plt.rcParams[\"axes.labelsize\"] = 'x-large'\n",
    "plt.rcParams['axes.titlesize'] = 'x-large'\n",
    "plt.rcParams['xtick.labelsize']= 'x-large'\n",
    "plt.rcParams['ytick.labelsize']= 'x-large'"
   ]
  },
  {
   "cell_type": "code",
   "execution_count": null,
   "id": "aeba9493-3c72-4e21-8c41-6c46602bd145",
   "metadata": {
    "editable": true,
    "execution": {
     "iopub.execute_input": "2025-04-18T06:26:20.008652Z",
     "iopub.status.busy": "2025-04-18T06:26:20.008302Z",
     "iopub.status.idle": "2025-04-18T06:26:20.018092Z",
     "shell.execute_reply": "2025-04-18T06:26:20.017725Z",
     "shell.execute_reply.started": "2025-04-18T06:26:20.008637Z"
    },
    "slideshow": {
     "slide_type": ""
    },
    "tags": []
   },
   "outputs": [],
   "source": [
    "def displayExposure(exposure,title=None):\n",
    "    afwDisplay.setDefaultBackend('matplotlib') \n",
    "    afwDisplay.setImageColormap(cmap='gray')\n",
    "    fig = plt.figure(figsize=(10,10))\n",
    "    afw_display = afwDisplay.Display(1)\n",
    "    afw_display.scale('asinh', 'zscale')\n",
    "    afw_display.mtv(exposure.getImage())\n",
    "    plt.title(title)\n",
    "    plt.gca().axis('off')\n",
    "    return afw_display\n",
    "\n",
    "def displayImage(image,title=None):\n",
    "    afwDisplay.setDefaultBackend('matplotlib') \n",
    "    fig = plt.figure(figsize=(10,10))\n",
    "    afw_display = afwDisplay.Display(1)\n",
    "    afw_display.scale('asinh', 'zscale')\n",
    "    #afw_display.scale('linear', min=-5, max=10)\n",
    "    afw_display.setImageColormap(cmap='plasma')\n",
    "    afw_display.mtv(image)\n",
    "    plt.title(title)\n",
    "    plt.gca().axis('off')\n",
    "    return afw_display\n",
    "    \n",
    "def displayImageGhosts(image, zmin=0, zmax=5000, title=None):\n",
    "    afwDisplay.setDefaultBackend('matplotlib') \n",
    "    fig = plt.figure(figsize=(10,10))\n",
    "    afw_display = afwDisplay.Display(1)\n",
    "    #afw_display.scale('asinh', 'zscale')\n",
    "    afw_display.scale('linear', min=zmin, max=zmax)\n",
    "    afw_display.setImageColormap(cmap='plasma')\n",
    "    afw_display.mtv(image)\n",
    "    plt.title(title)\n",
    "    plt.gca().axis('off')\n",
    "    return afw_display    "
   ]
  },
  {
   "cell_type": "markdown",
   "id": "69d3e70b-b824-4ab9-a220-228956839a01",
   "metadata": {},
   "source": [
    "## RubinTV, Campaigns , quicklook\n",
    "- RubinTV : https://usdf-rsp.slac.stanford.edu/rubintv/summit-usdf/lsstcam\n",
    "- https://rubinobs.atlassian.net/wiki/spaces/LSSTCOM/pages/467370016/LSSTCam+Commissioning+Planning\n",
    "- LSSTCam DM campaign : https://rubinobs.atlassian.net/wiki/spaces/DM/pages/48834013/Campaigns#1.1.2.-LSSTCam-Nightly-Validation-Pipeline\n",
    "- Check campaign also here  https://rubinobs.atlassian.net/wiki/pages/diffpagesbyversion.action?pageId=48834013&selectedPageVersions=145%2C143\n",
    "- fov-quicklook : https://usdf-rsp-dev.slac.stanford.edu/fov-quicklook/"
   ]
  },
  {
   "cell_type": "markdown",
   "id": "da3e7186-88c4-4689-985d-a600fb219aed",
   "metadata": {},
   "source": [
    "Existing collections:\n",
    "\n",
    "    LSSTCam/runs/nightlyValidation/20250416/d_2025_04_15/DM-50157\n",
    "    LSSTCam/runs/nightlyValidation/20250415/d_2025_04_15/DM-50157"
   ]
  },
  {
   "cell_type": "markdown",
   "id": "5d4421a4-9ad2-499b-9b7f-758cddf393c1",
   "metadata": {},
   "source": [
    "## Configuration"
   ]
  },
  {
   "cell_type": "markdown",
   "id": "1a0c3eeb-33ab-4a5a-a693-d7f80111599c",
   "metadata": {},
   "source": [
    "### Butler and collection"
   ]
  },
  {
   "cell_type": "code",
   "execution_count": null,
   "id": "77e49928-fd2d-4c16-9a7d-b79c75e0a3f7",
   "metadata": {
    "execution": {
     "iopub.execute_input": "2025-04-18T16:03:45.722030Z",
     "iopub.status.busy": "2025-04-18T16:03:45.721834Z",
     "iopub.status.idle": "2025-04-18T16:03:45.725173Z",
     "shell.execute_reply": "2025-04-18T16:03:45.724802Z",
     "shell.execute_reply.started": "2025-04-18T16:03:45.722016Z"
    }
   },
   "outputs": [],
   "source": [
    "# Define butler\n",
    "from lsst.daf.butler import Butler\n",
    "\n",
    "repo = '/repo/embargo'\n",
    "instrument = 'LSSTCam'\n",
    "collection_validation  = instrument + '/runs/nightlyValidation'\n",
    "collection_quicklook   = instrument + '/runs/quickLookTesting'\n",
    "date_start = 20250415\n",
    "date_selection = 20250416\n",
    "where_clause = \"instrument = \\'\" + f\"{instrument}\" +\"\\'\"\n",
    "where_clause_date = where_clause + f\"and day_obs >= {date_start}\"\n",
    "skymap_name = \"lsst_cells_v1\""
   ]
  },
  {
   "cell_type": "code",
   "execution_count": null,
   "id": "40aa953d-ea9f-4ad5-ac2b-3927ec0d6f0d",
   "metadata": {
    "execution": {
     "iopub.execute_input": "2025-04-18T16:04:47.492376Z",
     "iopub.status.busy": "2025-04-18T16:04:47.492123Z",
     "iopub.status.idle": "2025-04-18T16:04:47.495106Z",
     "shell.execute_reply": "2025-04-18T16:04:47.494721Z",
     "shell.execute_reply.started": "2025-04-18T16:04:47.492361Z"
    }
   },
   "outputs": [],
   "source": [
    "collection_validation = os.path.join(collection_validation,'20250416/d_2025_04_15/DM-50157') "
   ]
  },
  {
   "cell_type": "code",
   "execution_count": null,
   "id": "b1db879d-7208-49a9-b438-6e7e36ee3224",
   "metadata": {
    "execution": {
     "iopub.execute_input": "2025-04-18T16:04:50.057949Z",
     "iopub.status.busy": "2025-04-18T16:04:50.057734Z",
     "iopub.status.idle": "2025-04-18T16:04:50.343354Z",
     "shell.execute_reply": "2025-04-18T16:04:50.342965Z",
     "shell.execute_reply.started": "2025-04-18T16:04:50.057933Z"
    }
   },
   "outputs": [],
   "source": [
    "butler = Butler(repo,collections=collection_validation)\n",
    "registry = butler.registry"
   ]
  },
  {
   "cell_type": "markdown",
   "id": "79a83e38-e04d-48f5-a9d2-4e639facb61c",
   "metadata": {},
   "source": [
    "### Collections in the butler"
   ]
  },
  {
   "cell_type": "code",
   "execution_count": null,
   "id": "78720f4d-d4c0-4367-a9c9-a8a974c9f7ca",
   "metadata": {
    "execution": {
     "iopub.execute_input": "2025-04-18T16:04:55.066161Z",
     "iopub.status.busy": "2025-04-18T16:04:55.065838Z",
     "iopub.status.idle": "2025-04-18T16:04:55.517257Z",
     "shell.execute_reply": "2025-04-18T16:04:55.516825Z",
     "shell.execute_reply.started": "2025-04-18T16:04:55.066143Z"
    }
   },
   "outputs": [],
   "source": [
    "sorted(registry.queryCollections(expression = instrument+\"/*\"))"
   ]
  },
  {
   "cell_type": "markdown",
   "id": "a8921a93-98a9-480e-9221-a6aaaa07b81a",
   "metadata": {},
   "source": [
    "## Select the Instrument and observation date"
   ]
  },
  {
   "cell_type": "code",
   "execution_count": null,
   "id": "f442004f-2832-4d06-94d0-1a5ab4e0781f",
   "metadata": {
    "execution": {
     "iopub.execute_input": "2025-04-18T16:05:12.536661Z",
     "iopub.status.busy": "2025-04-18T16:05:12.536325Z",
     "iopub.status.idle": "2025-04-18T16:05:12.539371Z",
     "shell.execute_reply": "2025-04-18T16:05:12.539055Z",
     "shell.execute_reply.started": "2025-04-18T16:05:12.536634Z"
    }
   },
   "outputs": [],
   "source": [
    "collection = collection_validation \n",
    "where_clause = \"instrument = \\'LSSTCam\\' and day_obs >= 20250415\""
   ]
  },
  {
   "cell_type": "code",
   "execution_count": null,
   "id": "03ccffed-d9a2-45bb-80da-037a82039159",
   "metadata": {
    "execution": {
     "iopub.execute_input": "2025-04-18T16:05:16.152026Z",
     "iopub.status.busy": "2025-04-18T16:05:16.151798Z",
     "iopub.status.idle": "2025-04-18T16:05:16.410310Z",
     "shell.execute_reply": "2025-04-18T16:05:16.409847Z",
     "shell.execute_reply.started": "2025-04-18T16:05:16.152010Z"
    }
   },
   "outputs": [],
   "source": [
    "butler = Butler(repo,collections=collection)\n",
    "registry = butler.registry"
   ]
  },
  {
   "cell_type": "code",
   "execution_count": null,
   "id": "b7d642ca-8f02-4a70-87c4-5d83c286e9fa",
   "metadata": {
    "execution": {
     "iopub.execute_input": "2025-04-18T16:05:17.767800Z",
     "iopub.status.busy": "2025-04-18T16:05:17.767459Z",
     "iopub.status.idle": "2025-04-18T16:05:17.770956Z",
     "shell.execute_reply": "2025-04-18T16:05:17.770556Z",
     "shell.execute_reply.started": "2025-04-18T16:05:17.767772Z"
    }
   },
   "outputs": [],
   "source": [
    "print(butler.registry.dimensions[\"exposure\"].RecordClass.fields)"
   ]
  },
  {
   "cell_type": "markdown",
   "id": "cd74c2a6-799d-493b-85da-f7460b0d11d9",
   "metadata": {},
   "source": [
    "## Dump registry into a pandas dataframe"
   ]
  },
  {
   "cell_type": "code",
   "execution_count": null,
   "id": "bb4a0d2a-cb68-4fb2-866a-d3be588a14a2",
   "metadata": {
    "execution": {
     "iopub.execute_input": "2025-04-18T16:05:20.794666Z",
     "iopub.status.busy": "2025-04-18T16:05:20.794347Z",
     "iopub.status.idle": "2025-04-18T16:05:20.797984Z",
     "shell.execute_reply": "2025-04-18T16:05:20.797518Z",
     "shell.execute_reply.started": "2025-04-18T16:05:20.794649Z"
    }
   },
   "outputs": [],
   "source": [
    "where_clause_date"
   ]
  },
  {
   "cell_type": "code",
   "execution_count": null,
   "id": "5aeb723f-c7d1-41c3-916f-c0027b44707c",
   "metadata": {
    "execution": {
     "iopub.execute_input": "2025-04-18T16:05:24.148267Z",
     "iopub.status.busy": "2025-04-18T16:05:24.148064Z",
     "iopub.status.idle": "2025-04-18T16:05:26.677070Z",
     "shell.execute_reply": "2025-04-18T16:05:26.676563Z",
     "shell.execute_reply.started": "2025-04-18T16:05:24.148253Z"
    }
   },
   "outputs": [],
   "source": [
    "df_exposure = pd.DataFrame(columns=['id', 'obs_id','day_obs', 'seq_num','time_start','time_end' ,'type', 'target','filter','zenith_angle','expos','ra','dec','skyangle','azimuth','zenith','science_program','jd','mjd'])\n",
    "for count, info in enumerate(registry.queryDimensionRecords('exposure',where= where_clause_date)):\n",
    "    \n",
    "    \n",
    "    try:\n",
    "        jd_start = info.timespan.begin.value\n",
    "        jd_end = info.timespan.end.value\n",
    "        the_Time_start = Time(jd_start,format=\"jd\",scale=\"utc\")\n",
    "        the_Time_end = Time(jd_end,format=\"jd\",scale=\"utc\")\n",
    "        mjd_start = the_Time_start.mjd\n",
    "        mjd_end = the_Time_end.mjd\n",
    "        isot_start = the_Time_start.isot\n",
    "        isot_end = the_Time_end.isot\n",
    "        \n",
    "        df_exposure.loc[count] = [info.id, info.obs_id, info.day_obs, info.seq_num,isot_start,isot_end ,info.observation_type, info.target_name, info.physical_filter, info.zenith_angle, \\\n",
    "                             info.exposure_time,info.tracking_ra, info.tracking_dec, info.sky_angle,info.azimuth ,info.zenith_angle, info.science_program,\n",
    "                              jd_start, mjd_start]\n",
    "    except:\n",
    "        print(\">>>   Unexpected error:\", sys.exc_info()[0])\n",
    "        info_timespan_begin_to_string = \"2021-01-01 00:00:00.00\"\n",
    "        info_timespan_end_to_string = \"2051-01-01 00:00:00.00\"\n",
    "        info_timespan_begin_jd = 0\n",
    "        info_timespan_begin_mjd = 0\n",
    "        df_exposure.loc[count] = [info.id, info.obs_id, info.day_obs, info.seq_num,\n",
    "                                  pd.to_datetime(info_timespan_begin_to_string),\n",
    "                                  pd.to_datetime(info_timespan_end_to_string) ,\n",
    "                                  info.observation_type, info.target_name, \n",
    "                                  info.physical_filter, info.zenith_angle, \\\n",
    "                             info.exposure_time,info.tracking_ra, info.tracking_dec, info.sky_angle,info.azimuth ,info.zenith_angle, info.science_program,\n",
    "                             info_timespan_begin_jd, info_timespan_begin_mjd  ]\n",
    " \n",
    "    \n",
    "    if count < 2:\n",
    "        print(\"-----------------------------------------------------\",count,\"---------------------------------------------------------\")\n",
    "        print(info)\n",
    "        print(\"\\t id:                  \",info.id)\n",
    "        print(\"\\t day_obs:             \",info.day_obs)\n",
    "        print(\"\\t seq_num:             \",info.seq_num)\n",
    "        print(\"\\t type-of-observation: \",info.observation_type)\n",
    "        print(\"\\t target:              \",info.target_name)\n",
    "        \n",
    "        print(f\"mjd = {mjd_start}, jd = {jd_start}\")\n",
    "    "
   ]
  },
  {
   "cell_type": "code",
   "execution_count": null,
   "id": "2e00ff54-7276-461f-b1c5-ac970a8e179d",
   "metadata": {
    "execution": {
     "iopub.execute_input": "2025-04-18T16:05:57.660482Z",
     "iopub.status.busy": "2025-04-18T16:05:57.660164Z",
     "iopub.status.idle": "2025-04-18T16:05:57.664072Z",
     "shell.execute_reply": "2025-04-18T16:05:57.663687Z",
     "shell.execute_reply.started": "2025-04-18T16:05:57.660457Z"
    }
   },
   "outputs": [],
   "source": [
    "df_science = df_exposure[df_exposure.type == 'science']"
   ]
  },
  {
   "cell_type": "code",
   "execution_count": null,
   "id": "f9f219d2-eb11-48c6-8cdd-1d5ac88477cc",
   "metadata": {
    "execution": {
     "iopub.execute_input": "2025-04-18T16:05:59.368895Z",
     "iopub.status.busy": "2025-04-18T16:05:59.368676Z",
     "iopub.status.idle": "2025-04-18T16:05:59.381585Z",
     "shell.execute_reply": "2025-04-18T16:05:59.381120Z",
     "shell.execute_reply.started": "2025-04-18T16:05:59.368881Z"
    }
   },
   "outputs": [],
   "source": [
    "df_science"
   ]
  },
  {
   "cell_type": "code",
   "execution_count": null,
   "id": "9ce0d04f-235a-49a4-bcc2-0c774cd4e898",
   "metadata": {
    "execution": {
     "iopub.execute_input": "2025-04-18T16:06:20.665037Z",
     "iopub.status.busy": "2025-04-18T16:06:20.664404Z",
     "iopub.status.idle": "2025-04-18T16:06:20.749623Z",
     "shell.execute_reply": "2025-04-18T16:06:20.749166Z",
     "shell.execute_reply.started": "2025-04-18T16:06:20.665017Z"
    }
   },
   "outputs": [],
   "source": [
    "fig,ax = plt.subplots(1,1,figsize=(8,4))\n",
    "df_science.expos.hist(ax=ax)"
   ]
  },
  {
   "cell_type": "code",
   "execution_count": null,
   "id": "d1e05608-9580-4401-a303-f4648f3203a7",
   "metadata": {
    "execution": {
     "iopub.execute_input": "2025-04-18T16:06:25.915942Z",
     "iopub.status.busy": "2025-04-18T16:06:25.915715Z",
     "iopub.status.idle": "2025-04-18T16:06:25.918491Z",
     "shell.execute_reply": "2025-04-18T16:06:25.918107Z",
     "shell.execute_reply.started": "2025-04-18T16:06:25.915926Z"
    }
   },
   "outputs": [],
   "source": [
    "#df_science = df_science[df_science.expos>=15]"
   ]
  },
  {
   "cell_type": "code",
   "execution_count": null,
   "id": "d1c43a31-24e0-4f48-baa5-604e8a512e3d",
   "metadata": {
    "execution": {
     "iopub.execute_input": "2025-04-18T16:06:27.456884Z",
     "iopub.status.busy": "2025-04-18T16:06:27.456672Z",
     "iopub.status.idle": "2025-04-18T16:06:27.459616Z",
     "shell.execute_reply": "2025-04-18T16:06:27.459251Z",
     "shell.execute_reply.started": "2025-04-18T16:06:27.456869Z"
    }
   },
   "outputs": [],
   "source": [
    "df_science.reset_index(drop=True,inplace=True)"
   ]
  },
  {
   "cell_type": "code",
   "execution_count": null,
   "id": "8d1482eb-d7cc-46a0-b35b-eb688740f36b",
   "metadata": {
    "execution": {
     "iopub.execute_input": "2025-04-18T16:06:29.460027Z",
     "iopub.status.busy": "2025-04-18T16:06:29.459712Z",
     "iopub.status.idle": "2025-04-18T16:06:29.472656Z",
     "shell.execute_reply": "2025-04-18T16:06:29.472243Z",
     "shell.execute_reply.started": "2025-04-18T16:06:29.460009Z"
    }
   },
   "outputs": [],
   "source": [
    "df_science"
   ]
  },
  {
   "cell_type": "code",
   "execution_count": null,
   "id": "43b40982-33e1-4a9a-8326-a0a44cfc69c9",
   "metadata": {
    "execution": {
     "iopub.execute_input": "2025-04-18T16:06:36.138821Z",
     "iopub.status.busy": "2025-04-18T16:06:36.138526Z",
     "iopub.status.idle": "2025-04-18T16:06:36.141544Z",
     "shell.execute_reply": "2025-04-18T16:06:36.141195Z",
     "shell.execute_reply.started": "2025-04-18T16:06:36.138804Z"
    }
   },
   "outputs": [],
   "source": [
    "id_min = df_science_id_min = df_science.id.min()\n",
    "id_max = df_science_id_max = df_science.id.max()"
   ]
  },
  {
   "cell_type": "code",
   "execution_count": null,
   "id": "fff36b1c-0364-470f-b99a-6dad875a7ef9",
   "metadata": {
    "execution": {
     "iopub.execute_input": "2025-04-18T06:26:24.800833Z",
     "iopub.status.busy": "2025-04-18T06:26:24.800713Z",
     "iopub.status.idle": "2025-04-18T06:26:24.807378Z",
     "shell.execute_reply": "2025-04-18T06:26:24.807006Z",
     "shell.execute_reply.started": "2025-04-18T06:26:24.800821Z"
    }
   },
   "outputs": [],
   "source": [
    "#! pip install --user openpyxl"
   ]
  },
  {
   "cell_type": "code",
   "execution_count": null,
   "id": "ca308ac6-8610-47d2-ba40-b6b7ff63c024",
   "metadata": {
    "execution": {
     "iopub.execute_input": "2025-04-18T16:06:38.497995Z",
     "iopub.status.busy": "2025-04-18T16:06:38.497723Z",
     "iopub.status.idle": "2025-04-18T16:06:38.504276Z",
     "shell.execute_reply": "2025-04-18T16:06:38.503864Z",
     "shell.execute_reply.started": "2025-04-18T16:06:38.497980Z"
    }
   },
   "outputs": [],
   "source": [
    "output_file_csv = f\"lsstcam_lgb_{id_min}-{id_max}.csv\"\n",
    "output_file_xlsx = f\"lsstcam_lgb_{id_min}-{id_max}.xlsx\"\n",
    "df_science.to_csv(output_file_csv)\n",
    "#df_science.to_excel(output_file_xlsx)"
   ]
  },
  {
   "cell_type": "markdown",
   "id": "af17b971-adf9-4ded-9bb4-b3f892d3e517",
   "metadata": {},
   "source": [
    "## Dataset type"
   ]
  },
  {
   "cell_type": "code",
   "execution_count": null,
   "id": "69f4de9c-e960-44fc-806a-a1cc60b1e712",
   "metadata": {
    "execution": {
     "iopub.execute_input": "2025-04-18T16:07:39.965376Z",
     "iopub.status.busy": "2025-04-18T16:07:39.964839Z",
     "iopub.status.idle": "2025-04-18T16:08:16.328803Z",
     "shell.execute_reply": "2025-04-18T16:08:16.328337Z",
     "shell.execute_reply.started": "2025-04-18T16:07:39.965358Z"
    }
   },
   "outputs": [],
   "source": [
    "for datasetType in registry.queryDatasetTypes():\n",
    "    if registry.queryDatasets(datasetType, collections=collection).any(execute=False, exact=False):\n",
    "        # Limit search results to the data products\n",
    "        if ('_config' not in datasetType.name) and ('_log' not in datasetType.name) and ('_metadata' not in datasetType.name) and ('_resource_usage' not in datasetType.name):\n",
    "            print(datasetType)"
   ]
  },
  {
   "cell_type": "code",
   "execution_count": null,
   "id": "90ebd85b-ea52-4679-872a-9835fe09b2f4",
   "metadata": {
    "execution": {
     "iopub.execute_input": "2025-04-18T16:08:29.862646Z",
     "iopub.status.busy": "2025-04-18T16:08:29.861806Z",
     "iopub.status.idle": "2025-04-18T16:08:32.899578Z",
     "shell.execute_reply": "2025-04-18T16:08:32.899104Z",
     "shell.execute_reply.started": "2025-04-18T16:08:29.862626Z"
    }
   },
   "outputs": [],
   "source": [
    "dataProduct = 'preliminary_visit_image'\n",
    "datasetRefs = list(butler.registry.queryDatasets(dataProduct,where=where_clause_date))"
   ]
  },
  {
   "cell_type": "code",
   "execution_count": null,
   "id": "03dc5310-e424-4910-b219-8082441b6486",
   "metadata": {
    "execution": {
     "iopub.execute_input": "2025-04-18T16:08:32.900436Z",
     "iopub.status.busy": "2025-04-18T16:08:32.900298Z",
     "iopub.status.idle": "2025-04-18T16:08:32.903478Z",
     "shell.execute_reply": "2025-04-18T16:08:32.903087Z",
     "shell.execute_reply.started": "2025-04-18T16:08:32.900423Z"
    }
   },
   "outputs": [],
   "source": [
    "len(datasetRefs)"
   ]
  },
  {
   "cell_type": "code",
   "execution_count": null,
   "id": "c33172b5-ea20-4f5c-90e5-f2805ecd1b5c",
   "metadata": {
    "execution": {
     "iopub.execute_input": "2025-04-18T16:08:35.955216Z",
     "iopub.status.busy": "2025-04-18T16:08:35.955012Z",
     "iopub.status.idle": "2025-04-18T16:08:35.959219Z",
     "shell.execute_reply": "2025-04-18T16:08:35.958871Z",
     "shell.execute_reply.started": "2025-04-18T16:08:35.955198Z"
    }
   },
   "outputs": [],
   "source": [
    "all_selected_visit = df_science.id.values\n",
    "all_selected_visit = sorted(all_selected_visit)\n",
    "all_selected_visit"
   ]
  },
  {
   "cell_type": "markdown",
   "id": "3b0e5b73-aa1a-4f74-b2b2-c2041a5cc811",
   "metadata": {},
   "source": [
    "> I was just poking around at images, and the following dataId has some really nice nebulosity:\n",
    "> preliminary_visit_image@{instrument: 'LSSTCam', detector: 71, visit: 2025041500268, band: 'i', day_obs: 20250415, physical_filter: 'i_39'} [sc=ExposureF] (run=LSSTCam/runs/nightlyValidation/12 id=6695e83d-a251-440f-87c5-c85b5471b3ac)"
   ]
  },
  {
   "cell_type": "code",
   "execution_count": null,
   "id": "6bb60d7d-823d-48d5-9daf-df37d90faf80",
   "metadata": {
    "execution": {
     "iopub.execute_input": "2025-04-18T06:27:06.481487Z",
     "iopub.status.busy": "2025-04-18T06:27:06.481365Z",
     "iopub.status.idle": "2025-04-18T06:27:06.488494Z",
     "shell.execute_reply": "2025-04-18T06:27:06.488083Z",
     "shell.execute_reply.started": "2025-04-18T06:27:06.481475Z"
    }
   },
   "outputs": [],
   "source": [
    "#the_selected_visit = all_selected_visit[3]\n",
    "#the_selected_visit = 2025041500268\n",
    "#the_selected_detector = 71\n",
    "#title = f\"dataProduct  v={the_selected_visit} d={the_selected_detector}\""
   ]
  },
  {
   "cell_type": "code",
   "execution_count": null,
   "id": "4d4ecf1a-94ae-4952-b2ae-6efa2430e495",
   "metadata": {
    "execution": {
     "iopub.execute_input": "2025-04-18T16:41:50.880773Z",
     "iopub.status.busy": "2025-04-18T16:41:50.880428Z",
     "iopub.status.idle": "2025-04-18T16:41:50.883514Z",
     "shell.execute_reply": "2025-04-18T16:41:50.883144Z",
     "shell.execute_reply.started": "2025-04-18T16:41:50.880745Z"
    }
   },
   "outputs": [],
   "source": [
    "the_selected_visit = all_selected_visit[3]\n",
    "the_selected_visit = 2025041700817\n",
    "the_selected_detector = 71\n",
    "title = f\"dataProduct  v={the_selected_visit} d={the_selected_detector}\""
   ]
  },
  {
   "cell_type": "code",
   "execution_count": null,
   "id": "7ffdb17b-a9a0-464c-b354-fcf47c0432af",
   "metadata": {},
   "outputs": [],
   "source": []
  },
  {
   "cell_type": "code",
   "execution_count": null,
   "id": "55fbb48c-00ab-4aa2-ae75-92fdfe8eb911",
   "metadata": {
    "execution": {
     "iopub.execute_input": "2025-04-18T16:41:54.025742Z",
     "iopub.status.busy": "2025-04-18T16:41:54.025047Z",
     "iopub.status.idle": "2025-04-18T16:41:55.109663Z",
     "shell.execute_reply": "2025-04-18T16:41:55.109181Z",
     "shell.execute_reply.started": "2025-04-18T16:41:54.025724Z"
    }
   },
   "outputs": [],
   "source": [
    "all_images = []\n",
    "all_titles = []\n",
    "count = 0\n",
    "for i, ref in enumerate(datasetRefs):\n",
    "    the_visit = ref.dataId[\"visit\"]\n",
    "    the_detector = ref.dataId[\"detector\"]\n",
    "\n",
    "    if the_visit == the_selected_visit:\n",
    "        print(ref.dataId)\n",
    "    if the_visit == the_selected_visit and the_detector == the_selected_detector: \n",
    "        count+=1\n",
    "\n",
    "        print(f\"========= {count} =============== datasetType = {dataProduct} ============================================\")\n",
    "        print(\"fId..................:\",ref.dataId)\n",
    "        print(\"visitId..................:\",ref.dataId[\"visit\"])\n",
    "        try:\n",
    "        \n",
    "            data = butler.get(dataProduct, dataId=ref.dataId )  \n",
    "            all_images.append(data)\n",
    "            all_titles.append(f\"{the_visit} : {the_detector}\")\n",
    "       \n",
    "        except Exception as inst:\n",
    "            print(type(inst))    # the exception type\n",
    "            print(inst.args)     # arguments stored in .args\n",
    "            print(inst)         \n",
    "\n",
    "N = len(all_images)\n",
    "print(f\"{dataProduct} :: N = {N}\")"
   ]
  },
  {
   "cell_type": "code",
   "execution_count": null,
   "id": "00d926ff-8bbb-42fd-b0a8-e6bb99f711f4",
   "metadata": {
    "execution": {
     "iopub.execute_input": "2025-04-18T16:42:07.521909Z",
     "iopub.status.busy": "2025-04-18T16:42:07.521591Z",
     "iopub.status.idle": "2025-04-18T16:42:08.115286Z",
     "shell.execute_reply": "2025-04-18T16:42:08.114814Z",
     "shell.execute_reply.started": "2025-04-18T16:42:07.521895Z"
    }
   },
   "outputs": [],
   "source": [
    "for count in range(N):\n",
    "    display = afwDisplay.Display(frame=count+1)\n",
    "    display.scale(\"asinh\", \"zscale\")\n",
    "    display.mtv(all_images[count].image, title=all_titles[count])\n",
    "    "
   ]
  },
  {
   "cell_type": "code",
   "execution_count": null,
   "id": "b0d0803d-e0e5-4a51-8045-75f64e67d973",
   "metadata": {
    "execution": {
     "iopub.execute_input": "2025-04-18T20:03:51.568016Z",
     "iopub.status.busy": "2025-04-18T20:03:51.567813Z",
     "iopub.status.idle": "2025-04-18T20:03:51.571985Z",
     "shell.execute_reply": "2025-04-18T20:03:51.571572Z",
     "shell.execute_reply.started": "2025-04-18T20:03:51.568001Z"
    }
   },
   "outputs": [],
   "source": [
    "rafts"
   ]
  },
  {
   "cell_type": "code",
   "execution_count": null,
   "id": "aa5d89c0-5ba1-4073-ace9-ee17c99122bd",
   "metadata": {
    "execution": {
     "iopub.execute_input": "2025-04-18T20:00:55.181401Z",
     "iopub.status.busy": "2025-04-18T20:00:55.181195Z",
     "iopub.status.idle": "2025-04-18T20:00:55.186091Z",
     "shell.execute_reply": "2025-04-18T20:00:55.185670Z",
     "shell.execute_reply.started": "2025-04-18T20:00:55.181385Z"
    }
   },
   "outputs": [],
   "source": [
    "for i_raft in range(len(rafts)):\n",
    "    for i_ccd in range(len(ccds)):\n",
    "        detector_id=detector(rafts[i_raft],ccds[i_ccd])\n",
    "        print('\"'+str(detector_id[1]) + '\": \"' + rafts[i_raft]+ '_' + ccds[i_ccd]+'\",',end=\"\")\n",
    "        #print(str(detector_id[1]) + ': ' + rafts[i_raft]+ '_' + ccds[i_ccd])"
   ]
  },
  {
   "cell_type": "code",
   "execution_count": null,
   "id": "e169b15c-351a-4ac7-a8df-b9d893cbab89",
   "metadata": {
    "execution": {
     "iopub.status.busy": "2025-04-18T06:27:09.599141Z",
     "iopub.status.idle": "2025-04-18T06:27:09.599310Z",
     "shell.execute_reply": "2025-04-18T06:27:09.599233Z",
     "shell.execute_reply.started": "2025-04-18T06:27:09.599224Z"
    }
   },
   "outputs": [],
   "source": [
    "def queryExposures(expo=\"2025041500160\"):\n",
    "    #dataset_refs = butler.query_datasets(\"postISRCCD\", collections=collection,\n",
    "    #                                     where=f\"instrument='LSSTCam' AND exposure={expo}\")\n",
    "    dataset_refs = butler.query_datasets(\"preliminary_visit_image\", collections=collection,\n",
    "                                         where=f\"instrument='LSSTCam' AND visit={expo}\")\n",
    "    exposures = [butler.get(dataset_ref) for dataset_ref in dataset_refs]\n",
    "    return exposures\n",
    "\n",
    "def make_mosaic(exposures, binning=16):\n",
    "    from lsst.pipe.tasks.visualizeVisit import (\n",
    "        VisualizeBinExpConfig,\n",
    "        VisualizeBinExpTask,\n",
    "        VisualizeMosaicExpConfig,\n",
    "        VisualizeMosaicExpTask,\n",
    "    )\n",
    "    camera = butler.get(\"camera\", collections=collection, instrument=instrument)\n",
    "    \n",
    "    visualizeBinExpConfig = VisualizeBinExpConfig()\n",
    "    visualizeBinExpConfig.binning = binning\n",
    "    visualizeBinExpTask = VisualizeBinExpTask(config=visualizeBinExpConfig)\n",
    "    exposures_binned = [visualizeBinExpTask.run(inputExp = exposure, camera=camera).outputExp for exposure in exposures]\n",
    "    \n",
    "    visualizeMosaicExpConfig = VisualizeMosaicExpConfig()\n",
    "    visualizeMosaicExpConfig.binning = binning\n",
    "    visualizeMosaicExpTask = VisualizeMosaicExpTask(config=visualizeMosaicExpConfig)\n",
    "    \n",
    "    mosaic_full = visualizeMosaicExpTask.run(inputExps=exposures_binned, camera=camera)\n",
    "    mosaic = mosaic_full.outputData\n",
    "    return mosaic, mosaic_full\n",
    "\n",
    "def show_ghosts(exp_id=\"2025041500160\", binning=16, zmin=2230, zmax=2330):\n",
    "    expos = queryExposures(exp_id)\n",
    "    mosaic, mosaic_full = make_mosaic(expos, binning)\n",
    "    displayImageGhosts(mosaic, zmin=zmin, zmax=zmax)\n",
    "    return mosaic, mosaic_full, expos"
   ]
  },
  {
   "cell_type": "code",
   "execution_count": null,
   "id": "65194b1e-afd8-4e01-8e46-a7167d895915",
   "metadata": {
    "execution": {
     "iopub.status.busy": "2025-04-18T06:27:09.599862Z",
     "iopub.status.idle": "2025-04-18T06:27:09.600027Z",
     "shell.execute_reply": "2025-04-18T06:27:09.599950Z",
     "shell.execute_reply.started": "2025-04-18T06:27:09.599942Z"
    }
   },
   "outputs": [],
   "source": [
    "mosaic, mosaic_full, expos = show_ghosts(\"2025041500160\", binning=64, zmin=2230, zmax=2330)"
   ]
  },
  {
   "cell_type": "code",
   "execution_count": null,
   "id": "784f4a09-7eb3-4171-97a0-de6e2f2fa315",
   "metadata": {
    "execution": {
     "iopub.status.busy": "2025-04-18T06:27:09.600648Z",
     "iopub.status.idle": "2025-04-18T06:27:09.600818Z",
     "shell.execute_reply": "2025-04-18T06:27:09.600741Z",
     "shell.execute_reply.started": "2025-04-18T06:27:09.600734Z"
    }
   },
   "outputs": [],
   "source": [
    "type(mosaic_full)\n",
    "mosaic_full.getDict().values()\n"
   ]
  },
  {
   "cell_type": "code",
   "execution_count": null,
   "id": "a3489a14-252e-426e-8057-6c9e98e0e78b",
   "metadata": {
    "execution": {
     "iopub.status.busy": "2025-04-18T06:27:09.601433Z",
     "iopub.status.idle": "2025-04-18T06:27:09.601600Z",
     "shell.execute_reply": "2025-04-18T06:27:09.601520Z",
     "shell.execute_reply.started": "2025-04-18T06:27:09.601512Z"
    }
   },
   "outputs": [],
   "source": [
    "assert False"
   ]
  },
  {
   "cell_type": "code",
   "execution_count": null,
   "id": "69bd2f09-4591-4c17-874a-b4805a007d2a",
   "metadata": {
    "execution": {
     "iopub.status.busy": "2025-04-18T06:27:09.601960Z",
     "iopub.status.idle": "2025-04-18T06:27:09.602118Z",
     "shell.execute_reply": "2025-04-18T06:27:09.602042Z",
     "shell.execute_reply.started": "2025-04-18T06:27:09.602034Z"
    }
   },
   "outputs": [],
   "source": [
    "w = expos[0].getWcs()\n",
    "type(expos[0])"
   ]
  },
  {
   "cell_type": "code",
   "execution_count": null,
   "id": "787d937b-de5f-47fb-ba9c-8458a1be701d",
   "metadata": {
    "execution": {
     "iopub.status.busy": "2025-04-18T06:27:09.602586Z",
     "iopub.status.idle": "2025-04-18T06:27:09.602757Z",
     "shell.execute_reply": "2025-04-18T06:27:09.602672Z",
     "shell.execute_reply.started": "2025-04-18T06:27:09.602665Z"
    }
   },
   "outputs": [],
   "source": [
    "mosaic.getWcs()"
   ]
  },
  {
   "cell_type": "code",
   "execution_count": null,
   "id": "a8395fca-23ae-4c86-b94f-628975ced91a",
   "metadata": {
    "execution": {
     "iopub.status.busy": "2025-04-18T06:27:09.603413Z",
     "iopub.status.idle": "2025-04-18T06:27:09.603587Z",
     "shell.execute_reply": "2025-04-18T06:27:09.603503Z",
     "shell.execute_reply.started": "2025-04-18T06:27:09.603495Z"
    }
   },
   "outputs": [],
   "source": [
    "ghost_367, expos_367 = show_ghosts(\"2024112200367\", binning=8, zmin=500, zmax=2000)"
   ]
  },
  {
   "cell_type": "code",
   "execution_count": null,
   "id": "2e473e44-1d2e-4415-b799-2c7b9ff39a82",
   "metadata": {
    "execution": {
     "iopub.status.busy": "2025-04-18T06:27:09.603988Z",
     "iopub.status.idle": "2025-04-18T06:27:09.604142Z",
     "shell.execute_reply": "2025-04-18T06:27:09.604071Z",
     "shell.execute_reply.started": "2025-04-18T06:27:09.604064Z"
    }
   },
   "outputs": [],
   "source": [
    "displayImageGhosts(ghost, zmin=820, zmax=900)"
   ]
  },
  {
   "cell_type": "code",
   "execution_count": null,
   "id": "564a0eb8-c395-4370-93e0-27ee00ade6f6",
   "metadata": {
    "execution": {
     "iopub.status.busy": "2025-04-18T06:27:09.604782Z",
     "iopub.status.idle": "2025-04-18T06:27:09.604950Z",
     "shell.execute_reply": "2025-04-18T06:27:09.604869Z",
     "shell.execute_reply.started": "2025-04-18T06:27:09.604862Z"
    }
   },
   "outputs": [],
   "source": [
    "afwDisplay.setDefaultBackend('matplotlib') \n",
    "fig = plt.figure(figsize=(10,10))\n",
    "afw_display = afwDisplay.Display(1)\n",
    "afw_display.scale('asinh', 'zscale')\n",
    "#afw_display.scale('linear', min=zmin, max=zmax)\n",
    "afw_display.setImageColormap(cmap='grey')\n",
    "afw_display.mtv(ghost_367)\n",
    "plt.title(\"MC_2024112200367\")\n",
    "plt.gca().axis('off')\n"
   ]
  },
  {
   "cell_type": "code",
   "execution_count": null,
   "id": "44670534-11a4-4fcc-8a60-2f20f203dd37",
   "metadata": {
    "execution": {
     "iopub.status.busy": "2025-04-18T06:27:09.605272Z",
     "iopub.status.idle": "2025-04-18T06:27:09.605430Z",
     "shell.execute_reply": "2025-04-18T06:27:09.605357Z",
     "shell.execute_reply.started": "2025-04-18T06:27:09.605350Z"
    }
   },
   "outputs": [],
   "source": [
    "ghost_292, expos_292 = show_ghosts(\"2024111100292\", binning=8, zmin=500, zmax=2000)"
   ]
  },
  {
   "cell_type": "code",
   "execution_count": null,
   "id": "bfb97f0f-1a6d-437a-b35a-a68e9ef258a2",
   "metadata": {
    "execution": {
     "iopub.status.busy": "2025-04-18T06:27:09.606184Z",
     "iopub.status.idle": "2025-04-18T06:27:09.606352Z",
     "shell.execute_reply": "2025-04-18T06:27:09.606273Z",
     "shell.execute_reply.started": "2025-04-18T06:27:09.606265Z"
    }
   },
   "outputs": [],
   "source": [
    "afwDisplay.setDefaultBackend('matplotlib') \n",
    "fig = plt.figure(figsize=(10,10))\n",
    "afw_display = afwDisplay.Display(1)\n",
    "afw_display.scale('asinh', 'zscale')\n",
    "#afw_display.scale('linear', min=zmin, max=zmax)\n",
    "afw_display.setImageColormap(cmap='grey')\n",
    "afw_display.mtv(ghost_292)\n",
    "plt.title(\"MC_2024112200367\")\n",
    "plt.gca().axis('off')"
   ]
  },
  {
   "cell_type": "code",
   "execution_count": null,
   "id": "7bcb4ac0-5308-4cba-9fbf-e20f33641af4",
   "metadata": {
    "execution": {
     "iopub.status.busy": "2025-04-18T06:27:09.606881Z",
     "iopub.status.idle": "2025-04-18T06:27:09.607048Z",
     "shell.execute_reply": "2025-04-18T06:27:09.606967Z",
     "shell.execute_reply.started": "2025-04-18T06:27:09.606959Z"
    }
   },
   "outputs": [],
   "source": [
    "type(mosaic)"
   ]
  },
  {
   "cell_type": "code",
   "execution_count": null,
   "id": "bc2e7eec-c92a-4a73-8114-bacc5b16f74f",
   "metadata": {
    "execution": {
     "iopub.status.busy": "2025-04-18T06:27:09.607389Z",
     "iopub.status.idle": "2025-04-18T06:27:09.607544Z",
     "shell.execute_reply": "2025-04-18T06:27:09.607472Z",
     "shell.execute_reply.started": "2025-04-18T06:27:09.607465Z"
    }
   },
   "outputs": [],
   "source": [
    "mosaic.getBBox()"
   ]
  },
  {
   "cell_type": "code",
   "execution_count": null,
   "id": "203b02b0-650c-493d-8487-b21000b3546d",
   "metadata": {
    "execution": {
     "iopub.status.busy": "2025-04-18T06:27:09.608106Z",
     "iopub.status.idle": "2025-04-18T06:27:09.608264Z",
     "shell.execute_reply": "2025-04-18T06:27:09.608191Z",
     "shell.execute_reply.started": "2025-04-18T06:27:09.608184Z"
    }
   },
   "outputs": [],
   "source": [
    "expos_292[0].visitInfo.getBoresightRaDec()"
   ]
  },
  {
   "cell_type": "code",
   "execution_count": null,
   "id": "c5dbb798-09ac-4770-864a-088d0d0dcf36",
   "metadata": {
    "execution": {
     "iopub.status.busy": "2025-04-18T06:27:09.608991Z",
     "iopub.status.idle": "2025-04-18T06:27:09.609166Z",
     "shell.execute_reply": "2025-04-18T06:27:09.609080Z",
     "shell.execute_reply.started": "2025-04-18T06:27:09.609072Z"
    }
   },
   "outputs": [],
   "source": [
    "expos_292[0].getMetadata()[\"RA\"]"
   ]
  },
  {
   "cell_type": "code",
   "execution_count": null,
   "id": "4676eef6-c1dc-4a0d-ab37-11c8e444ad56",
   "metadata": {
    "execution": {
     "iopub.status.busy": "2025-04-18T06:27:09.609447Z",
     "iopub.status.idle": "2025-04-18T06:27:09.609599Z",
     "shell.execute_reply": "2025-04-18T06:27:09.609529Z",
     "shell.execute_reply.started": "2025-04-18T06:27:09.609522Z"
    }
   },
   "outputs": [],
   "source": [
    "ghost_292.writeFits(\"ghost_292.fits\", expos_292[0].getMetadata(), \"w\")"
   ]
  },
  {
   "cell_type": "code",
   "execution_count": null,
   "id": "1e7d0566-6efc-4bd6-ae29-ac5e451e5149",
   "metadata": {
    "execution": {
     "iopub.status.busy": "2025-04-18T06:27:09.610219Z",
     "iopub.status.idle": "2025-04-18T06:27:09.610388Z",
     "shell.execute_reply": "2025-04-18T06:27:09.610308Z",
     "shell.execute_reply.started": "2025-04-18T06:27:09.610300Z"
    }
   },
   "outputs": [],
   "source": [
    "ghost_292.getDimensions()"
   ]
  },
  {
   "cell_type": "code",
   "execution_count": null,
   "id": "b9b1be71-13ac-4929-b8b7-86c9002ae1f2",
   "metadata": {
    "execution": {
     "iopub.status.busy": "2025-04-18T06:27:09.610936Z",
     "iopub.status.idle": "2025-04-18T06:27:09.611093Z",
     "shell.execute_reply": "2025-04-18T06:27:09.611020Z",
     "shell.execute_reply.started": "2025-04-18T06:27:09.611013Z"
    }
   },
   "outputs": [],
   "source": [
    "ghost_367.writeFits(\"ghost_367.fits\", expos_367[0].getMetadata(), \"w\")"
   ]
  },
  {
   "cell_type": "code",
   "execution_count": null,
   "id": "74233f63-bf10-40d2-8b82-1f6fd591acd4",
   "metadata": {},
   "outputs": [],
   "source": []
  }
 ],
 "metadata": {
  "kernelspec": {
   "display_name": "LSST",
   "language": "python",
   "name": "lsst"
  },
  "language_info": {
   "codemirror_mode": {
    "name": "ipython",
    "version": 3
   },
   "file_extension": ".py",
   "mimetype": "text/x-python",
   "name": "python",
   "nbconvert_exporter": "python",
   "pygments_lexer": "ipython3",
   "version": "3.12.9"
  }
 },
 "nbformat": 4,
 "nbformat_minor": 5
}
