{
 "cells": [
  {
   "cell_type": "code",
   "execution_count": null,
   "id": "620f37b5-4a78-4b89-bff6-a575760063df",
   "metadata": {
    "editable": true,
    "slideshow": {
     "slide_type": ""
    },
    "tags": []
   },
   "outputs": [],
   "source": []
  },
  {
   "cell_type": "markdown",
   "id": "ba6afc5a-53fe-431e-852b-f90c8cf41c3f",
   "metadata": {},
   "source": [
    "# Access to first images of LSSTCam\n",
    "\n",
    "- author : Sylvie Dagoret-Campagne\n",
    "- affiliation : IJCLab/IN2P3/CNRS\n",
    "- member : DESC, rubin-inkind\n",
    "- creation date : 2025-04-16\n",
    "- last update : 2025-04-17"
   ]
  },
  {
   "cell_type": "code",
   "execution_count": null,
   "id": "88e2d190-e737-4311-bde8-552651762e2d",
   "metadata": {
    "execution": {
     "iopub.execute_input": "2025-04-17T08:11:17.758637Z",
     "iopub.status.busy": "2025-04-17T08:11:17.758497Z",
     "iopub.status.idle": "2025-04-17T08:11:18.621308Z",
     "shell.execute_reply": "2025-04-17T08:11:18.620887Z",
     "shell.execute_reply.started": "2025-04-17T08:11:17.758622Z"
    }
   },
   "outputs": [],
   "source": [
    "import matplotlib.pyplot as plt\n",
    "import lsst.afw.display as afwDisplay\n",
    "import numpy as np\n",
    "import pandas as pd\n",
    "from astropy.time import Time\n",
    "#%matplotlib widget"
   ]
  },
  {
   "cell_type": "code",
   "execution_count": null,
   "id": "768e8c54-4fd1-4c54-927c-89e2bd690706",
   "metadata": {
    "execution": {
     "iopub.execute_input": "2025-04-17T08:11:18.622072Z",
     "iopub.status.busy": "2025-04-17T08:11:18.621794Z",
     "iopub.status.idle": "2025-04-17T08:11:18.677903Z",
     "shell.execute_reply": "2025-04-17T08:11:18.677558Z",
     "shell.execute_reply.started": "2025-04-17T08:11:18.622057Z"
    }
   },
   "outputs": [],
   "source": [
    "afwDisplay.setDefaultBackend(\"firefly\")"
   ]
  },
  {
   "cell_type": "code",
   "execution_count": null,
   "id": "71da93ff-4198-4a5f-a0d3-0a3c68afc5d7",
   "metadata": {
    "execution": {
     "iopub.execute_input": "2025-04-17T08:11:18.678606Z",
     "iopub.status.busy": "2025-04-17T08:11:18.678341Z",
     "iopub.status.idle": "2025-04-17T08:11:18.680831Z",
     "shell.execute_reply": "2025-04-17T08:11:18.680514Z",
     "shell.execute_reply.started": "2025-04-17T08:11:18.678592Z"
    }
   },
   "outputs": [],
   "source": [
    "plt.rcParams[\"figure.figsize\"] = (10,6)\n",
    "plt.rcParams[\"axes.labelsize\"] = 'x-large'\n",
    "plt.rcParams['axes.titlesize'] = 'x-large'\n",
    "plt.rcParams['xtick.labelsize']= 'x-large'\n",
    "plt.rcParams['ytick.labelsize']= 'x-large'"
   ]
  },
  {
   "cell_type": "code",
   "execution_count": null,
   "id": "aeba9493-3c72-4e21-8c41-6c46602bd145",
   "metadata": {
    "editable": true,
    "execution": {
     "iopub.execute_input": "2025-04-17T08:11:18.681368Z",
     "iopub.status.busy": "2025-04-17T08:11:18.681242Z",
     "iopub.status.idle": "2025-04-17T08:11:18.694988Z",
     "shell.execute_reply": "2025-04-17T08:11:18.694671Z",
     "shell.execute_reply.started": "2025-04-17T08:11:18.681355Z"
    },
    "slideshow": {
     "slide_type": ""
    },
    "tags": []
   },
   "outputs": [],
   "source": [
    "def displayExposure(exposure,title=None):\n",
    "    afwDisplay.setDefaultBackend('matplotlib') \n",
    "    afwDisplay.setImageColormap(cmap='gray')\n",
    "    fig = plt.figure(figsize=(10,10))\n",
    "    afw_display = afwDisplay.Display(1)\n",
    "    afw_display.scale('asinh', 'zscale')\n",
    "    afw_display.mtv(exposure.getImage())\n",
    "    plt.title(title)\n",
    "    plt.gca().axis('off')\n",
    "    return afw_display\n",
    "\n",
    "def displayImage(image,title=None):\n",
    "    afwDisplay.setDefaultBackend('matplotlib') \n",
    "    fig = plt.figure(figsize=(10,10))\n",
    "    afw_display = afwDisplay.Display(1)\n",
    "    afw_display.scale('asinh', 'zscale')\n",
    "    #afw_display.scale('linear', min=-5, max=10)\n",
    "    afw_display.setImageColormap(cmap='plasma')\n",
    "    afw_display.mtv(image)\n",
    "    plt.title(title)\n",
    "    plt.gca().axis('off')\n",
    "    return afw_display\n",
    "    \n",
    "def displayImageGhosts(image, zmin=0, zmax=5000, title=None):\n",
    "    afwDisplay.setDefaultBackend('matplotlib') \n",
    "    fig = plt.figure(figsize=(10,10))\n",
    "    afw_display = afwDisplay.Display(1)\n",
    "    #afw_display.scale('asinh', 'zscale')\n",
    "    afw_display.scale('linear', min=zmin, max=zmax)\n",
    "    afw_display.setImageColormap(cmap='plasma')\n",
    "    afw_display.mtv(image)\n",
    "    plt.title(title)\n",
    "    plt.gca().axis('off')\n",
    "    return afw_display    "
   ]
  },
  {
   "cell_type": "markdown",
   "id": "69d3e70b-b824-4ab9-a220-228956839a01",
   "metadata": {},
   "source": [
    "## RubinTV, Campaigns , quicklook\n",
    "- RubinTV : https://usdf-rsp.slac.stanford.edu/rubintv/summit-usdf/lsstcam\n",
    "- https://rubinobs.atlassian.net/wiki/spaces/LSSTCOM/pages/467370016/LSSTCam+Commissioning+Planning\n",
    "- LSSTCam DM campaign : https://rubinobs.atlassian.net/wiki/spaces/DM/pages/48834013/Campaigns#1.1.2.-LSSTCam-Nightly-Validation-Pipeline\n",
    "- fov-quicklook : https://usdf-rsp-dev.slac.stanford.edu/fov-quicklook/"
   ]
  },
  {
   "cell_type": "markdown",
   "id": "5d4421a4-9ad2-499b-9b7f-758cddf393c1",
   "metadata": {},
   "source": [
    "## Configuration"
   ]
  },
  {
   "cell_type": "markdown",
   "id": "1a0c3eeb-33ab-4a5a-a693-d7f80111599c",
   "metadata": {},
   "source": [
    "### Butler and collection"
   ]
  },
  {
   "cell_type": "code",
   "execution_count": null,
   "id": "77e49928-fd2d-4c16-9a7d-b79c75e0a3f7",
   "metadata": {
    "execution": {
     "iopub.execute_input": "2025-04-17T08:11:18.695618Z",
     "iopub.status.busy": "2025-04-17T08:11:18.695484Z",
     "iopub.status.idle": "2025-04-17T08:11:19.506160Z",
     "shell.execute_reply": "2025-04-17T08:11:19.505704Z",
     "shell.execute_reply.started": "2025-04-17T08:11:18.695606Z"
    }
   },
   "outputs": [],
   "source": [
    "# Define butler\n",
    "from lsst.daf.butler import Butler\n",
    "\n",
    "repo = '/repo/embargo'\n",
    "instrument = 'LSSTCam'\n",
    "collection_validation  = instrument + '/runs/nightlyValidation'\n",
    "collection_quicklook   = instrument + '/runs/quickLookTesting'\n",
    "date_start = 20250415\n",
    "where_clause = \"instrument = \\'\" + f\"{instrument}\" +\"\\'\"\n",
    "where_clause_date = where_clause + f\"and day_obs >= {date_start}\"\n",
    "skymap_name = \"lsst_cells_v1\"\n"
   ]
  },
  {
   "cell_type": "code",
   "execution_count": null,
   "id": "b1db879d-7208-49a9-b438-6e7e36ee3224",
   "metadata": {
    "execution": {
     "iopub.execute_input": "2025-04-17T08:11:19.507010Z",
     "iopub.status.busy": "2025-04-17T08:11:19.506871Z",
     "iopub.status.idle": "2025-04-17T08:11:20.122157Z",
     "shell.execute_reply": "2025-04-17T08:11:20.121738Z",
     "shell.execute_reply.started": "2025-04-17T08:11:19.506997Z"
    }
   },
   "outputs": [],
   "source": [
    "butler = Butler(repo,collections=collection_validation)\n",
    "registry = butler.registry"
   ]
  },
  {
   "cell_type": "markdown",
   "id": "79a83e38-e04d-48f5-a9d2-4e639facb61c",
   "metadata": {},
   "source": [
    "### Collections in the butler"
   ]
  },
  {
   "cell_type": "code",
   "execution_count": null,
   "id": "78720f4d-d4c0-4367-a9c9-a8a974c9f7ca",
   "metadata": {
    "execution": {
     "iopub.execute_input": "2025-04-17T08:11:20.122789Z",
     "iopub.status.busy": "2025-04-17T08:11:20.122649Z",
     "iopub.status.idle": "2025-04-17T08:11:20.483687Z",
     "shell.execute_reply": "2025-04-17T08:11:20.483237Z",
     "shell.execute_reply.started": "2025-04-17T08:11:20.122776Z"
    }
   },
   "outputs": [],
   "source": [
    "sorted(registry.queryCollections(expression = instrument+\"/*\"))"
   ]
  },
  {
   "cell_type": "markdown",
   "id": "a8921a93-98a9-480e-9221-a6aaaa07b81a",
   "metadata": {},
   "source": [
    "## Select the nightlyValidation"
   ]
  },
  {
   "cell_type": "code",
   "execution_count": null,
   "id": "f442004f-2832-4d06-94d0-1a5ab4e0781f",
   "metadata": {
    "execution": {
     "iopub.execute_input": "2025-04-17T08:11:20.484307Z",
     "iopub.status.busy": "2025-04-17T08:11:20.484173Z",
     "iopub.status.idle": "2025-04-17T08:11:20.486375Z",
     "shell.execute_reply": "2025-04-17T08:11:20.486062Z",
     "shell.execute_reply.started": "2025-04-17T08:11:20.484295Z"
    }
   },
   "outputs": [],
   "source": [
    "collection = collection_validation \n",
    "where_clause = \"instrument = \\'LSSTCam\\' and day_obs=20250416\""
   ]
  },
  {
   "cell_type": "code",
   "execution_count": null,
   "id": "03ccffed-d9a2-45bb-80da-037a82039159",
   "metadata": {
    "execution": {
     "iopub.execute_input": "2025-04-17T08:11:20.486865Z",
     "iopub.status.busy": "2025-04-17T08:11:20.486746Z",
     "iopub.status.idle": "2025-04-17T08:11:20.719356Z",
     "shell.execute_reply": "2025-04-17T08:11:20.718919Z",
     "shell.execute_reply.started": "2025-04-17T08:11:20.486853Z"
    }
   },
   "outputs": [],
   "source": [
    "butler = Butler(repo,collections=collection)\n",
    "registry = butler.registry"
   ]
  },
  {
   "cell_type": "code",
   "execution_count": null,
   "id": "b7d642ca-8f02-4a70-87c4-5d83c286e9fa",
   "metadata": {
    "execution": {
     "iopub.execute_input": "2025-04-17T08:11:20.719992Z",
     "iopub.status.busy": "2025-04-17T08:11:20.719855Z",
     "iopub.status.idle": "2025-04-17T08:11:20.722536Z",
     "shell.execute_reply": "2025-04-17T08:11:20.722186Z",
     "shell.execute_reply.started": "2025-04-17T08:11:20.719978Z"
    }
   },
   "outputs": [],
   "source": [
    "print(butler.registry.dimensions[\"exposure\"].RecordClass.fields)"
   ]
  },
  {
   "cell_type": "markdown",
   "id": "cd74c2a6-799d-493b-85da-f7460b0d11d9",
   "metadata": {},
   "source": [
    "## Dump registry"
   ]
  },
  {
   "cell_type": "code",
   "execution_count": null,
   "id": "5aeb723f-c7d1-41c3-916f-c0027b44707c",
   "metadata": {
    "execution": {
     "iopub.execute_input": "2025-04-17T08:11:20.723087Z",
     "iopub.status.busy": "2025-04-17T08:11:20.722961Z",
     "iopub.status.idle": "2025-04-17T08:11:22.005265Z",
     "shell.execute_reply": "2025-04-17T08:11:22.004828Z",
     "shell.execute_reply.started": "2025-04-17T08:11:20.723076Z"
    }
   },
   "outputs": [],
   "source": [
    "df_exposure = pd.DataFrame(columns=['id', 'obs_id','day_obs', 'seq_num','time_start','time_end' ,'type', 'target','filter','zenith_angle','expos','ra','dec','skyangle','azimuth','zenith','science_program','jd','mjd'])\n",
    "for count, info in enumerate(registry.queryDimensionRecords('exposure',where= where_clause_date)):\n",
    "    \n",
    "    \n",
    "    try:\n",
    "        jd_start = info.timespan.begin.value\n",
    "        jd_end = info.timespan.end.value\n",
    "        the_Time_start = Time(jd_start,format=\"jd\",scale=\"utc\")\n",
    "        the_Time_end = Time(jd_end,format=\"jd\",scale=\"utc\")\n",
    "        mjd_start = the_Time_start.mjd\n",
    "        mjd_end = the_Time_end.mjd\n",
    "        isot_start = the_Time_start.isot\n",
    "        isot_end = the_Time_end.isot\n",
    "        \n",
    "        df_exposure.loc[count] = [info.id, info.obs_id, info.day_obs, info.seq_num,isot_start,isot_end ,info.observation_type, info.target_name, info.physical_filter, info.zenith_angle, \\\n",
    "                             info.exposure_time,info.tracking_ra, info.tracking_dec, info.sky_angle,info.azimuth ,info.zenith_angle, info.science_program,\n",
    "                              jd_start, mjd_start]\n",
    "    except:\n",
    "        print(\">>>   Unexpected error:\", sys.exc_info()[0])\n",
    "        info_timespan_begin_to_string = \"2021-01-01 00:00:00.00\"\n",
    "        info_timespan_end_to_string = \"2051-01-01 00:00:00.00\"\n",
    "        info_timespan_begin_jd = 0\n",
    "        info_timespan_begin_mjd = 0\n",
    "        df_exposure.loc[count] = [info.id, info.obs_id, info.day_obs, info.seq_num,\n",
    "                                  pd.to_datetime(info_timespan_begin_to_string),\n",
    "                                  pd.to_datetime(info_timespan_end_to_string) ,\n",
    "                                  info.observation_type, info.target_name, \n",
    "                                  info.physical_filter, info.zenith_angle, \\\n",
    "                             info.exposure_time,info.tracking_ra, info.tracking_dec, info.sky_angle,info.azimuth ,info.zenith_angle, info.science_program,\n",
    "                             info_timespan_begin_jd, info_timespan_begin_mjd  ]\n",
    " \n",
    "    \n",
    "    if count < 2:\n",
    "        print(\"-----------------------------------------------------\",count,\"---------------------------------------------------------\")\n",
    "        print(info)\n",
    "        print(\"\\t id:                  \",info.id)\n",
    "        print(\"\\t day_obs:             \",info.day_obs)\n",
    "        print(\"\\t seq_num:             \",info.seq_num)\n",
    "        print(\"\\t type-of-observation: \",info.observation_type)\n",
    "        print(\"\\t target:              \",info.target_name)\n",
    "        \n",
    "        print(f\"mjd = {mjd_start}, jd = {jd_start}\")\n",
    "    "
   ]
  },
  {
   "cell_type": "code",
   "execution_count": null,
   "id": "2e00ff54-7276-461f-b1c5-ac970a8e179d",
   "metadata": {
    "execution": {
     "iopub.execute_input": "2025-04-17T08:11:22.005878Z",
     "iopub.status.busy": "2025-04-17T08:11:22.005741Z",
     "iopub.status.idle": "2025-04-17T08:11:22.008757Z",
     "shell.execute_reply": "2025-04-17T08:11:22.008427Z",
     "shell.execute_reply.started": "2025-04-17T08:11:22.005864Z"
    }
   },
   "outputs": [],
   "source": [
    "df_science = df_exposure[df_exposure.type == 'science']"
   ]
  },
  {
   "cell_type": "code",
   "execution_count": null,
   "id": "f9f219d2-eb11-48c6-8cdd-1d5ac88477cc",
   "metadata": {
    "execution": {
     "iopub.execute_input": "2025-04-17T08:11:22.009389Z",
     "iopub.status.busy": "2025-04-17T08:11:22.009266Z",
     "iopub.status.idle": "2025-04-17T08:11:22.026977Z",
     "shell.execute_reply": "2025-04-17T08:11:22.026671Z",
     "shell.execute_reply.started": "2025-04-17T08:11:22.009377Z"
    }
   },
   "outputs": [],
   "source": [
    "df_science"
   ]
  },
  {
   "cell_type": "code",
   "execution_count": null,
   "id": "9ce0d04f-235a-49a4-bcc2-0c774cd4e898",
   "metadata": {
    "execution": {
     "iopub.execute_input": "2025-04-17T08:11:22.027495Z",
     "iopub.status.busy": "2025-04-17T08:11:22.027369Z",
     "iopub.status.idle": "2025-04-17T08:11:22.123481Z",
     "shell.execute_reply": "2025-04-17T08:11:22.123072Z",
     "shell.execute_reply.started": "2025-04-17T08:11:22.027483Z"
    }
   },
   "outputs": [],
   "source": [
    "fig,ax = plt.subplots(1,1,figsize=(8,4))\n",
    "df_science.expos.hist(ax=ax)"
   ]
  },
  {
   "cell_type": "code",
   "execution_count": null,
   "id": "d1e05608-9580-4401-a303-f4648f3203a7",
   "metadata": {
    "execution": {
     "iopub.execute_input": "2025-04-17T08:11:22.124055Z",
     "iopub.status.busy": "2025-04-17T08:11:22.123924Z",
     "iopub.status.idle": "2025-04-17T08:11:22.126534Z",
     "shell.execute_reply": "2025-04-17T08:11:22.126192Z",
     "shell.execute_reply.started": "2025-04-17T08:11:22.124042Z"
    }
   },
   "outputs": [],
   "source": [
    "df_science = df_science[df_science.expos>=15]"
   ]
  },
  {
   "cell_type": "code",
   "execution_count": null,
   "id": "d1c43a31-24e0-4f48-baa5-604e8a512e3d",
   "metadata": {
    "execution": {
     "iopub.execute_input": "2025-04-17T08:11:22.127073Z",
     "iopub.status.busy": "2025-04-17T08:11:22.126950Z",
     "iopub.status.idle": "2025-04-17T08:11:22.133137Z",
     "shell.execute_reply": "2025-04-17T08:11:22.132781Z",
     "shell.execute_reply.started": "2025-04-17T08:11:22.127062Z"
    }
   },
   "outputs": [],
   "source": [
    "df_science.reset_index(drop=True,inplace=True)"
   ]
  },
  {
   "cell_type": "code",
   "execution_count": null,
   "id": "8d1482eb-d7cc-46a0-b35b-eb688740f36b",
   "metadata": {
    "execution": {
     "iopub.execute_input": "2025-04-17T08:11:22.133683Z",
     "iopub.status.busy": "2025-04-17T08:11:22.133560Z",
     "iopub.status.idle": "2025-04-17T08:11:22.148752Z",
     "shell.execute_reply": "2025-04-17T08:11:22.148427Z",
     "shell.execute_reply.started": "2025-04-17T08:11:22.133672Z"
    }
   },
   "outputs": [],
   "source": [
    "df_science"
   ]
  },
  {
   "cell_type": "markdown",
   "id": "af17b971-adf9-4ded-9bb4-b3f892d3e517",
   "metadata": {},
   "source": [
    "## Dataset type"
   ]
  },
  {
   "cell_type": "code",
   "execution_count": null,
   "id": "69f4de9c-e960-44fc-806a-a1cc60b1e712",
   "metadata": {
    "execution": {
     "iopub.execute_input": "2025-04-17T08:11:22.149416Z",
     "iopub.status.busy": "2025-04-17T08:11:22.149173Z",
     "iopub.status.idle": "2025-04-17T08:12:03.704856Z",
     "shell.execute_reply": "2025-04-17T08:12:03.704517Z",
     "shell.execute_reply.started": "2025-04-17T08:11:22.149403Z"
    }
   },
   "outputs": [],
   "source": [
    "for datasetType in registry.queryDatasetTypes():\n",
    "    if registry.queryDatasets(datasetType, collections=collection).any(execute=False, exact=False):\n",
    "        # Limit search results to the data products\n",
    "        if ('_config' not in datasetType.name) and ('_log' not in datasetType.name) and ('_metadata' not in datasetType.name) and ('_resource_usage' not in datasetType.name):\n",
    "            print(datasetType)"
   ]
  },
  {
   "cell_type": "code",
   "execution_count": null,
   "id": "90ebd85b-ea52-4679-872a-9835fe09b2f4",
   "metadata": {
    "execution": {
     "iopub.execute_input": "2025-04-17T08:12:03.705384Z",
     "iopub.status.busy": "2025-04-17T08:12:03.705254Z",
     "iopub.status.idle": "2025-04-17T08:12:04.546123Z",
     "shell.execute_reply": "2025-04-17T08:12:04.545760Z",
     "shell.execute_reply.started": "2025-04-17T08:12:03.705371Z"
    }
   },
   "outputs": [],
   "source": [
    "dataProduct = 'preliminary_visit_image'\n",
    "datasetRefs = list(butler.registry.queryDatasets(dataProduct,where=where_clause))"
   ]
  },
  {
   "cell_type": "code",
   "execution_count": null,
   "id": "03dc5310-e424-4910-b219-8082441b6486",
   "metadata": {
    "execution": {
     "iopub.execute_input": "2025-04-17T08:12:04.546700Z",
     "iopub.status.busy": "2025-04-17T08:12:04.546561Z",
     "iopub.status.idle": "2025-04-17T08:12:04.549419Z",
     "shell.execute_reply": "2025-04-17T08:12:04.549126Z",
     "shell.execute_reply.started": "2025-04-17T08:12:04.546687Z"
    }
   },
   "outputs": [],
   "source": [
    "len(datasetRefs)"
   ]
  },
  {
   "cell_type": "code",
   "execution_count": null,
   "id": "c33172b5-ea20-4f5c-90e5-f2805ecd1b5c",
   "metadata": {
    "execution": {
     "iopub.execute_input": "2025-04-17T08:12:04.549902Z",
     "iopub.status.busy": "2025-04-17T08:12:04.549777Z",
     "iopub.status.idle": "2025-04-17T08:12:04.557164Z",
     "shell.execute_reply": "2025-04-17T08:12:04.556880Z",
     "shell.execute_reply.started": "2025-04-17T08:12:04.549890Z"
    }
   },
   "outputs": [],
   "source": [
    "all_selected_visit = df_science.id.values\n",
    "all_selected_visit = sorted(all_selected_visit)\n",
    "all_selected_visit"
   ]
  },
  {
   "cell_type": "markdown",
   "id": "3b0e5b73-aa1a-4f74-b2b2-c2041a5cc811",
   "metadata": {},
   "source": [
    "> I was just poking around at images, and the following dataId has some really nice nebulosity:\n",
    "> preliminary_visit_image@{instrument: 'LSSTCam', detector: 71, visit: 2025041500268, band: 'i', day_obs: 20250415, physical_filter: 'i_39'} [sc=ExposureF] (run=LSSTCam/runs/nightlyValidation/12 id=6695e83d-a251-440f-87c5-c85b5471b3ac)"
   ]
  },
  {
   "cell_type": "code",
   "execution_count": null,
   "id": "6bb60d7d-823d-48d5-9daf-df37d90faf80",
   "metadata": {
    "execution": {
     "iopub.execute_input": "2025-04-17T08:12:04.557636Z",
     "iopub.status.busy": "2025-04-17T08:12:04.557507Z",
     "iopub.status.idle": "2025-04-17T08:12:04.563699Z",
     "shell.execute_reply": "2025-04-17T08:12:04.563411Z",
     "shell.execute_reply.started": "2025-04-17T08:12:04.557624Z"
    }
   },
   "outputs": [],
   "source": [
    "the_selected_visit = all_selected_visit[3]\n",
    "the_selected_visit = 2025041500268\n",
    "the_selected_detector = 71\n",
    "title = f\"dataProduct  v={the_selected_visit} d={the_selected_detector}\""
   ]
  },
  {
   "cell_type": "code",
   "execution_count": null,
   "id": "55fbb48c-00ab-4aa2-ae75-92fdfe8eb911",
   "metadata": {
    "execution": {
     "iopub.execute_input": "2025-04-17T08:12:04.566209Z",
     "iopub.status.busy": "2025-04-17T08:12:04.566075Z",
     "iopub.status.idle": "2025-04-17T08:12:04.578090Z",
     "shell.execute_reply": "2025-04-17T08:12:04.577761Z",
     "shell.execute_reply.started": "2025-04-17T08:12:04.566194Z"
    }
   },
   "outputs": [],
   "source": [
    "all_images = []\n",
    "all_titles = []\n",
    "count = 0\n",
    "for i, ref in enumerate(datasetRefs):\n",
    "    the_visit = ref.dataId[\"visit\"]\n",
    "    the_detector = ref.dataId[\"detector\"]\n",
    "   \n",
    "    if the_visit == the_selected_visit and the_detector == the_selected_detector: \n",
    "        count+=1\n",
    "\n",
    "        print(f\"========= {count} =============== datasetType = {dataProduct} ============================================\")\n",
    "        print(\"fId..................:\",ref.dataId)\n",
    "        print(\"visitId..................:\",ref.dataId[\"visit\"])\n",
    "        try:\n",
    "        \n",
    "            data = butler.get(dataProduct, dataId=ref.dataId )  \n",
    "            all_images.append(data)\n",
    "            all_titles.append(f\"{the_visit} : {the_detector}\")\n",
    "       \n",
    "        except Exception as inst:\n",
    "            print(type(inst))    # the exception type\n",
    "            print(inst.args)     # arguments stored in .args\n",
    "            print(inst)         \n",
    "\n",
    "N = len(all_images)\n",
    "print(f\"{dataProduct} :: N = {N}\")"
   ]
  },
  {
   "cell_type": "code",
   "execution_count": null,
   "id": "00d926ff-8bbb-42fd-b0a8-e6bb99f711f4",
   "metadata": {
    "execution": {
     "iopub.execute_input": "2025-04-17T08:12:04.578571Z",
     "iopub.status.busy": "2025-04-17T08:12:04.578443Z",
     "iopub.status.idle": "2025-04-17T08:12:04.584045Z",
     "shell.execute_reply": "2025-04-17T08:12:04.583735Z",
     "shell.execute_reply.started": "2025-04-17T08:12:04.578559Z"
    }
   },
   "outputs": [],
   "source": [
    "for count in range(N):\n",
    "    display = afwDisplay.Display(frame=count+1)\n",
    "    display.scale(\"asinh\", \"zscale\")\n",
    "    display.mtv(all_images[count].image, title=all_titles[count])\n",
    "    "
   ]
  },
  {
   "cell_type": "code",
   "execution_count": null,
   "id": "b0d0803d-e0e5-4a51-8045-75f64e67d973",
   "metadata": {
    "execution": {
     "iopub.execute_input": "2025-04-17T08:12:04.584488Z",
     "iopub.status.busy": "2025-04-17T08:12:04.584369Z",
     "iopub.status.idle": "2025-04-17T08:12:04.822101Z",
     "shell.execute_reply": "2025-04-17T08:12:04.821653Z",
     "shell.execute_reply.started": "2025-04-17T08:12:04.584476Z"
    }
   },
   "outputs": [],
   "source": [
    "assert False"
   ]
  },
  {
   "cell_type": "code",
   "execution_count": null,
   "id": "aa5d89c0-5ba1-4073-ace9-ee17c99122bd",
   "metadata": {
    "execution": {
     "iopub.status.busy": "2025-04-17T08:12:04.822375Z",
     "iopub.status.idle": "2025-04-17T08:12:04.822530Z",
     "shell.execute_reply": "2025-04-17T08:12:04.822458Z",
     "shell.execute_reply.started": "2025-04-17T08:12:04.822451Z"
    }
   },
   "outputs": [],
   "source": [
    "collection"
   ]
  },
  {
   "cell_type": "code",
   "execution_count": null,
   "id": "e169b15c-351a-4ac7-a8df-b9d893cbab89",
   "metadata": {
    "execution": {
     "iopub.status.busy": "2025-04-17T08:12:04.822893Z",
     "iopub.status.idle": "2025-04-17T08:12:04.823042Z",
     "shell.execute_reply": "2025-04-17T08:12:04.822973Z",
     "shell.execute_reply.started": "2025-04-17T08:12:04.822966Z"
    }
   },
   "outputs": [],
   "source": [
    "def queryExposures(expo=\"2025041500160\"):\n",
    "    #dataset_refs = butler.query_datasets(\"postISRCCD\", collections=collection,\n",
    "    #                                     where=f\"instrument='LSSTCam' AND exposure={expo}\")\n",
    "    dataset_refs = butler.query_datasets(\"preliminary_visit_image\", collections=collection,\n",
    "                                         where=f\"instrument='LSSTCam' AND visit={expo}\")\n",
    "    exposures = [butler.get(dataset_ref) for dataset_ref in dataset_refs]\n",
    "    return exposures\n",
    "\n",
    "def make_mosaic(exposures, binning=16):\n",
    "    from lsst.pipe.tasks.visualizeVisit import (\n",
    "        VisualizeBinExpConfig,\n",
    "        VisualizeBinExpTask,\n",
    "        VisualizeMosaicExpConfig,\n",
    "        VisualizeMosaicExpTask,\n",
    "    )\n",
    "    camera = butler.get(\"camera\", collections=collection, instrument=instrument)\n",
    "    \n",
    "    visualizeBinExpConfig = VisualizeBinExpConfig()\n",
    "    visualizeBinExpConfig.binning = binning\n",
    "    visualizeBinExpTask = VisualizeBinExpTask(config=visualizeBinExpConfig)\n",
    "    exposures_binned = [visualizeBinExpTask.run(inputExp = exposure, camera=camera).outputExp for exposure in exposures]\n",
    "    \n",
    "    visualizeMosaicExpConfig = VisualizeMosaicExpConfig()\n",
    "    visualizeMosaicExpConfig.binning = binning\n",
    "    visualizeMosaicExpTask = VisualizeMosaicExpTask(config=visualizeMosaicExpConfig)\n",
    "    \n",
    "    mosaic_full = visualizeMosaicExpTask.run(inputExps=exposures_binned, camera=camera)\n",
    "    mosaic = mosaic_full.outputData\n",
    "    return mosaic, mosaic_full\n",
    "\n",
    "def show_ghosts(exp_id=\"2025041500160\", binning=16, zmin=2230, zmax=2330):\n",
    "    expos = queryExposures(exp_id)\n",
    "    mosaic, mosaic_full = make_mosaic(expos, binning)\n",
    "    displayImageGhosts(mosaic, zmin=zmin, zmax=zmax)\n",
    "    return mosaic, mosaic_full, expos"
   ]
  },
  {
   "cell_type": "code",
   "execution_count": null,
   "id": "65194b1e-afd8-4e01-8e46-a7167d895915",
   "metadata": {
    "execution": {
     "iopub.status.busy": "2025-04-17T08:12:04.823645Z",
     "iopub.status.idle": "2025-04-17T08:12:04.823791Z",
     "shell.execute_reply": "2025-04-17T08:12:04.823723Z",
     "shell.execute_reply.started": "2025-04-17T08:12:04.823716Z"
    }
   },
   "outputs": [],
   "source": [
    "mosaic, mosaic_full, expos = show_ghosts(\"2025041500160\", binning=64, zmin=2230, zmax=2330)"
   ]
  },
  {
   "cell_type": "code",
   "execution_count": null,
   "id": "784f4a09-7eb3-4171-97a0-de6e2f2fa315",
   "metadata": {
    "execution": {
     "iopub.status.busy": "2025-04-17T08:12:04.824251Z",
     "iopub.status.idle": "2025-04-17T08:12:04.824395Z",
     "shell.execute_reply": "2025-04-17T08:12:04.824328Z",
     "shell.execute_reply.started": "2025-04-17T08:12:04.824321Z"
    }
   },
   "outputs": [],
   "source": [
    "type(mosaic_full)\n",
    "mosaic_full.getDict().values()\n"
   ]
  },
  {
   "cell_type": "code",
   "execution_count": null,
   "id": "a3489a14-252e-426e-8057-6c9e98e0e78b",
   "metadata": {
    "execution": {
     "iopub.status.busy": "2025-04-17T08:12:04.824811Z",
     "iopub.status.idle": "2025-04-17T08:12:04.824951Z",
     "shell.execute_reply": "2025-04-17T08:12:04.824885Z",
     "shell.execute_reply.started": "2025-04-17T08:12:04.824878Z"
    }
   },
   "outputs": [],
   "source": [
    "assert False"
   ]
  },
  {
   "cell_type": "code",
   "execution_count": null,
   "id": "69bd2f09-4591-4c17-874a-b4805a007d2a",
   "metadata": {
    "execution": {
     "iopub.status.busy": "2025-04-17T08:12:04.825508Z",
     "iopub.status.idle": "2025-04-17T08:12:04.825667Z",
     "shell.execute_reply": "2025-04-17T08:12:04.825594Z",
     "shell.execute_reply.started": "2025-04-17T08:12:04.825587Z"
    }
   },
   "outputs": [],
   "source": [
    "w = expos[0].getWcs()\n",
    "type(expos[0])"
   ]
  },
  {
   "cell_type": "code",
   "execution_count": null,
   "id": "787d937b-de5f-47fb-ba9c-8458a1be701d",
   "metadata": {
    "execution": {
     "iopub.status.busy": "2025-04-17T08:12:04.826073Z",
     "iopub.status.idle": "2025-04-17T08:12:04.826217Z",
     "shell.execute_reply": "2025-04-17T08:12:04.826147Z",
     "shell.execute_reply.started": "2025-04-17T08:12:04.826140Z"
    }
   },
   "outputs": [],
   "source": [
    "mosaic.getWcs()"
   ]
  },
  {
   "cell_type": "code",
   "execution_count": null,
   "id": "a8395fca-23ae-4c86-b94f-628975ced91a",
   "metadata": {
    "execution": {
     "iopub.status.busy": "2025-04-17T08:12:04.826472Z",
     "iopub.status.idle": "2025-04-17T08:12:04.826619Z",
     "shell.execute_reply": "2025-04-17T08:12:04.826545Z",
     "shell.execute_reply.started": "2025-04-17T08:12:04.826539Z"
    }
   },
   "outputs": [],
   "source": [
    "ghost_367, expos_367 = show_ghosts(\"2024112200367\", binning=8, zmin=500, zmax=2000)"
   ]
  },
  {
   "cell_type": "code",
   "execution_count": null,
   "id": "2e473e44-1d2e-4415-b799-2c7b9ff39a82",
   "metadata": {
    "execution": {
     "iopub.status.busy": "2025-04-17T08:12:04.827117Z",
     "iopub.status.idle": "2025-04-17T08:12:04.827253Z",
     "shell.execute_reply": "2025-04-17T08:12:04.827190Z",
     "shell.execute_reply.started": "2025-04-17T08:12:04.827183Z"
    }
   },
   "outputs": [],
   "source": [
    "displayImageGhosts(ghost, zmin=820, zmax=900)"
   ]
  },
  {
   "cell_type": "code",
   "execution_count": null,
   "id": "564a0eb8-c395-4370-93e0-27ee00ade6f6",
   "metadata": {
    "execution": {
     "iopub.status.busy": "2025-04-17T08:12:04.827541Z",
     "iopub.status.idle": "2025-04-17T08:12:04.827684Z",
     "shell.execute_reply": "2025-04-17T08:12:04.827620Z",
     "shell.execute_reply.started": "2025-04-17T08:12:04.827613Z"
    }
   },
   "outputs": [],
   "source": [
    "afwDisplay.setDefaultBackend('matplotlib') \n",
    "fig = plt.figure(figsize=(10,10))\n",
    "afw_display = afwDisplay.Display(1)\n",
    "afw_display.scale('asinh', 'zscale')\n",
    "#afw_display.scale('linear', min=zmin, max=zmax)\n",
    "afw_display.setImageColormap(cmap='grey')\n",
    "afw_display.mtv(ghost_367)\n",
    "plt.title(\"MC_2024112200367\")\n",
    "plt.gca().axis('off')\n"
   ]
  },
  {
   "cell_type": "code",
   "execution_count": null,
   "id": "44670534-11a4-4fcc-8a60-2f20f203dd37",
   "metadata": {
    "execution": {
     "iopub.status.busy": "2025-04-17T08:12:04.828063Z",
     "iopub.status.idle": "2025-04-17T08:12:04.828203Z",
     "shell.execute_reply": "2025-04-17T08:12:04.828138Z",
     "shell.execute_reply.started": "2025-04-17T08:12:04.828131Z"
    }
   },
   "outputs": [],
   "source": [
    "ghost_292, expos_292 = show_ghosts(\"2024111100292\", binning=8, zmin=500, zmax=2000)"
   ]
  },
  {
   "cell_type": "code",
   "execution_count": null,
   "id": "bfb97f0f-1a6d-437a-b35a-a68e9ef258a2",
   "metadata": {
    "execution": {
     "iopub.status.busy": "2025-04-17T08:12:04.828660Z",
     "iopub.status.idle": "2025-04-17T08:12:04.828806Z",
     "shell.execute_reply": "2025-04-17T08:12:04.828734Z",
     "shell.execute_reply.started": "2025-04-17T08:12:04.828728Z"
    }
   },
   "outputs": [],
   "source": [
    "afwDisplay.setDefaultBackend('matplotlib') \n",
    "fig = plt.figure(figsize=(10,10))\n",
    "afw_display = afwDisplay.Display(1)\n",
    "afw_display.scale('asinh', 'zscale')\n",
    "#afw_display.scale('linear', min=zmin, max=zmax)\n",
    "afw_display.setImageColormap(cmap='grey')\n",
    "afw_display.mtv(ghost_292)\n",
    "plt.title(\"MC_2024112200367\")\n",
    "plt.gca().axis('off')"
   ]
  },
  {
   "cell_type": "code",
   "execution_count": null,
   "id": "7bcb4ac0-5308-4cba-9fbf-e20f33641af4",
   "metadata": {
    "execution": {
     "iopub.status.busy": "2025-04-17T08:12:04.829073Z",
     "iopub.status.idle": "2025-04-17T08:12:04.829207Z",
     "shell.execute_reply": "2025-04-17T08:12:04.829144Z",
     "shell.execute_reply.started": "2025-04-17T08:12:04.829138Z"
    }
   },
   "outputs": [],
   "source": [
    "type(mosaic)"
   ]
  },
  {
   "cell_type": "code",
   "execution_count": null,
   "id": "bc2e7eec-c92a-4a73-8114-bacc5b16f74f",
   "metadata": {
    "execution": {
     "iopub.status.busy": "2025-04-17T08:12:04.829656Z",
     "iopub.status.idle": "2025-04-17T08:12:04.829799Z",
     "shell.execute_reply": "2025-04-17T08:12:04.829730Z",
     "shell.execute_reply.started": "2025-04-17T08:12:04.829724Z"
    }
   },
   "outputs": [],
   "source": [
    "mosaic.getBBox()"
   ]
  },
  {
   "cell_type": "code",
   "execution_count": null,
   "id": "203b02b0-650c-493d-8487-b21000b3546d",
   "metadata": {
    "execution": {
     "iopub.status.busy": "2025-04-17T08:12:04.830298Z",
     "iopub.status.idle": "2025-04-17T08:12:04.830445Z",
     "shell.execute_reply": "2025-04-17T08:12:04.830373Z",
     "shell.execute_reply.started": "2025-04-17T08:12:04.830367Z"
    }
   },
   "outputs": [],
   "source": [
    "expos_292[0].visitInfo.getBoresightRaDec()"
   ]
  },
  {
   "cell_type": "code",
   "execution_count": null,
   "id": "c5dbb798-09ac-4770-864a-088d0d0dcf36",
   "metadata": {
    "execution": {
     "iopub.status.busy": "2025-04-17T08:12:04.830797Z",
     "iopub.status.idle": "2025-04-17T08:12:04.830937Z",
     "shell.execute_reply": "2025-04-17T08:12:04.830869Z",
     "shell.execute_reply.started": "2025-04-17T08:12:04.830863Z"
    }
   },
   "outputs": [],
   "source": [
    "expos_292[0].getMetadata()[\"RA\"]"
   ]
  },
  {
   "cell_type": "code",
   "execution_count": null,
   "id": "4676eef6-c1dc-4a0d-ab37-11c8e444ad56",
   "metadata": {
    "execution": {
     "iopub.status.busy": "2025-04-17T08:12:04.831190Z",
     "iopub.status.idle": "2025-04-17T08:12:04.831324Z",
     "shell.execute_reply": "2025-04-17T08:12:04.831261Z",
     "shell.execute_reply.started": "2025-04-17T08:12:04.831254Z"
    }
   },
   "outputs": [],
   "source": [
    "ghost_292.writeFits(\"ghost_292.fits\", expos_292[0].getMetadata(), \"w\")"
   ]
  },
  {
   "cell_type": "code",
   "execution_count": null,
   "id": "1e7d0566-6efc-4bd6-ae29-ac5e451e5149",
   "metadata": {
    "execution": {
     "iopub.status.busy": "2025-04-17T08:12:04.831793Z",
     "iopub.status.idle": "2025-04-17T08:12:04.831937Z",
     "shell.execute_reply": "2025-04-17T08:12:04.831868Z",
     "shell.execute_reply.started": "2025-04-17T08:12:04.831862Z"
    }
   },
   "outputs": [],
   "source": [
    "ghost_292.getDimensions()"
   ]
  },
  {
   "cell_type": "code",
   "execution_count": null,
   "id": "b9b1be71-13ac-4929-b8b7-86c9002ae1f2",
   "metadata": {
    "execution": {
     "iopub.status.busy": "2025-04-17T08:12:04.832280Z",
     "iopub.status.idle": "2025-04-17T08:12:04.832421Z",
     "shell.execute_reply": "2025-04-17T08:12:04.832353Z",
     "shell.execute_reply.started": "2025-04-17T08:12:04.832347Z"
    }
   },
   "outputs": [],
   "source": [
    "ghost_367.writeFits(\"ghost_367.fits\", expos_367[0].getMetadata(), \"w\")"
   ]
  },
  {
   "cell_type": "code",
   "execution_count": null,
   "id": "74233f63-bf10-40d2-8b82-1f6fd591acd4",
   "metadata": {},
   "outputs": [],
   "source": []
  }
 ],
 "metadata": {
  "kernelspec": {
   "display_name": "LSST",
   "language": "python",
   "name": "lsst"
  },
  "language_info": {
   "codemirror_mode": {
    "name": "ipython",
    "version": 3
   },
   "file_extension": ".py",
   "mimetype": "text/x-python",
   "name": "python",
   "nbconvert_exporter": "python",
   "pygments_lexer": "ipython3",
   "version": "3.12.9"
  }
 },
 "nbformat": 4,
 "nbformat_minor": 5
}
