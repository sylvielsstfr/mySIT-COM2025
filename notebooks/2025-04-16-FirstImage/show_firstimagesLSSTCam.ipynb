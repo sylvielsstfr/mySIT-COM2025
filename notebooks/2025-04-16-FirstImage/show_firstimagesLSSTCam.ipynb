{
 "cells": [
  {
   "cell_type": "markdown",
   "id": "ba6afc5a-53fe-431e-852b-f90c8cf41c3f",
   "metadata": {},
   "source": [
    "# Access to first images of LSSTCam\n",
    "\n",
    "- author : Sylvie Dagoret-Campagne\n",
    "- affiliation : IJCLab/IN2P3/CNRS\n",
    "- member : DESC, rubin-inkind\n",
    "- creation date : 2025-04-16\n",
    "- last update : 2025-04-20\n",
    "- last update : 2025-04-29 : better decoding registry"
   ]
  },
  {
   "cell_type": "code",
   "execution_count": null,
   "id": "88e2d190-e737-4311-bde8-552651762e2d",
   "metadata": {
    "execution": {
     "iopub.execute_input": "2025-04-29T11:32:48.625835Z",
     "iopub.status.busy": "2025-04-29T11:32:48.625686Z",
     "iopub.status.idle": "2025-04-29T11:32:49.692531Z",
     "shell.execute_reply": "2025-04-29T11:32:49.692012Z",
     "shell.execute_reply.started": "2025-04-29T11:32:48.625816Z"
    }
   },
   "outputs": [],
   "source": [
    "import sys\n",
    "import matplotlib.pyplot as plt\n",
    "import lsst.afw.display as afwDisplay\n",
    "import numpy as np\n",
    "import pandas as pd\n",
    "from astropy.time import Time\n",
    "#%matplotlib widget"
   ]
  },
  {
   "cell_type": "code",
   "execution_count": null,
   "id": "81759bcf-8936-43c2-bd7f-78097e61f01e",
   "metadata": {
    "execution": {
     "iopub.execute_input": "2025-04-29T11:32:49.694675Z",
     "iopub.status.busy": "2025-04-29T11:32:49.694544Z",
     "iopub.status.idle": "2025-04-29T11:32:49.697047Z",
     "shell.execute_reply": "2025-04-29T11:32:49.696660Z",
     "shell.execute_reply.started": "2025-04-29T11:32:49.694660Z"
    }
   },
   "outputs": [],
   "source": [
    "import traceback"
   ]
  },
  {
   "cell_type": "code",
   "execution_count": null,
   "id": "dc92bf92-c15d-4076-94fe-a59a9352c9d5",
   "metadata": {
    "execution": {
     "iopub.execute_input": "2025-04-29T11:32:49.698794Z",
     "iopub.status.busy": "2025-04-29T11:32:49.698662Z",
     "iopub.status.idle": "2025-04-29T11:32:49.711116Z",
     "shell.execute_reply": "2025-04-29T11:32:49.710742Z",
     "shell.execute_reply.started": "2025-04-29T11:32:49.698781Z"
    }
   },
   "outputs": [],
   "source": [
    "sys.path.append(\"../libs\")"
   ]
  },
  {
   "cell_type": "code",
   "execution_count": null,
   "id": "ef980f87-544e-4217-92b8-9914e18d9b58",
   "metadata": {
    "execution": {
     "iopub.execute_input": "2025-04-29T11:32:49.712109Z",
     "iopub.status.busy": "2025-04-29T11:32:49.711557Z",
     "iopub.status.idle": "2025-04-29T11:32:49.729875Z",
     "shell.execute_reply": "2025-04-29T11:32:49.729503Z",
     "shell.execute_reply.started": "2025-04-29T11:32:49.712094Z"
    }
   },
   "outputs": [],
   "source": [
    "from conversion import detector,rafts,ccds, dict_detector"
   ]
  },
  {
   "cell_type": "code",
   "execution_count": null,
   "id": "768e8c54-4fd1-4c54-927c-89e2bd690706",
   "metadata": {
    "execution": {
     "iopub.execute_input": "2025-04-29T11:32:49.730543Z",
     "iopub.status.busy": "2025-04-29T11:32:49.730306Z",
     "iopub.status.idle": "2025-04-29T11:32:49.794068Z",
     "shell.execute_reply": "2025-04-29T11:32:49.793629Z",
     "shell.execute_reply.started": "2025-04-29T11:32:49.730529Z"
    }
   },
   "outputs": [],
   "source": [
    "afwDisplay.setDefaultBackend(\"firefly\")"
   ]
  },
  {
   "cell_type": "code",
   "execution_count": null,
   "id": "71da93ff-4198-4a5f-a0d3-0a3c68afc5d7",
   "metadata": {
    "execution": {
     "iopub.execute_input": "2025-04-29T11:32:49.794879Z",
     "iopub.status.busy": "2025-04-29T11:32:49.794570Z",
     "iopub.status.idle": "2025-04-29T11:32:49.797631Z",
     "shell.execute_reply": "2025-04-29T11:32:49.797281Z",
     "shell.execute_reply.started": "2025-04-29T11:32:49.794865Z"
    }
   },
   "outputs": [],
   "source": [
    "plt.rcParams[\"figure.figsize\"] = (10,6)\n",
    "plt.rcParams[\"axes.labelsize\"] = 'x-large'\n",
    "plt.rcParams['axes.titlesize'] = 'x-large'\n",
    "plt.rcParams['xtick.labelsize']= 'x-large'\n",
    "plt.rcParams['ytick.labelsize']= 'x-large'"
   ]
  },
  {
   "cell_type": "code",
   "execution_count": null,
   "id": "aeba9493-3c72-4e21-8c41-6c46602bd145",
   "metadata": {
    "editable": true,
    "execution": {
     "iopub.execute_input": "2025-04-29T11:32:49.798258Z",
     "iopub.status.busy": "2025-04-29T11:32:49.798057Z",
     "iopub.status.idle": "2025-04-29T11:32:49.808302Z",
     "shell.execute_reply": "2025-04-29T11:32:49.807962Z",
     "shell.execute_reply.started": "2025-04-29T11:32:49.798245Z"
    },
    "slideshow": {
     "slide_type": ""
    },
    "tags": []
   },
   "outputs": [],
   "source": [
    "def displayExposure(exposure,title=None):\n",
    "    afwDisplay.setDefaultBackend('matplotlib') \n",
    "    afwDisplay.setImageColormap(cmap='gray')\n",
    "    fig = plt.figure(figsize=(10,10))\n",
    "    afw_display = afwDisplay.Display(1)\n",
    "    afw_display.scale('asinh', 'zscale')\n",
    "    afw_display.mtv(exposure.getImage())\n",
    "    plt.title(title)\n",
    "    plt.gca().axis('off')\n",
    "    return afw_display\n",
    "\n",
    "def displayImage(image,title=None):\n",
    "    afwDisplay.setDefaultBackend('matplotlib') \n",
    "    fig = plt.figure(figsize=(10,10))\n",
    "    afw_display = afwDisplay.Display(1)\n",
    "    afw_display.scale('asinh', 'zscale')\n",
    "    #afw_display.scale('linear', min=-5, max=10)\n",
    "    afw_display.setImageColormap(cmap='plasma')\n",
    "    afw_display.mtv(image)\n",
    "    plt.title(title)\n",
    "    plt.gca().axis('off')\n",
    "    return afw_display\n",
    "    \n",
    "def displayImageGhosts(image, zmin=0, zmax=5000, title=None):\n",
    "    afwDisplay.setDefaultBackend('matplotlib') \n",
    "    fig = plt.figure(figsize=(10,10))\n",
    "    afw_display = afwDisplay.Display(1)\n",
    "    #afw_display.scale('asinh', 'zscale')\n",
    "    afw_display.scale('linear', min=zmin, max=zmax)\n",
    "    afw_display.setImageColormap(cmap='plasma')\n",
    "    afw_display.mtv(image)\n",
    "    plt.title(title)\n",
    "    plt.gca().axis('off')\n",
    "    return afw_display    "
   ]
  },
  {
   "cell_type": "markdown",
   "id": "69d3e70b-b824-4ab9-a220-228956839a01",
   "metadata": {},
   "source": [
    "## RubinTV, Campaigns , quicklook\n",
    "- RubinTV : https://usdf-rsp.slac.stanford.edu/rubintv/summit-usdf/lsstcam\n",
    "- https://rubinobs.atlassian.net/wiki/spaces/LSSTCOM/pages/467370016/LSSTCam+Commissioning+Planning\n",
    "- LSSTCam DM campaign : https://rubinobs.atlassian.net/wiki/spaces/DM/pages/48834013/Campaigns#1.1.2.-LSSTCam-Nightly-Validation-Pipeline\n",
    "- Check campaign also here  https://rubinobs.atlassian.net/wiki/pages/diffpagesbyversion.action?pageId=48834013&selectedPageVersions=145%2C143\n",
    "- fov-quicklook : https://usdf-rsp-dev.slac.stanford.edu/fov-quicklook/"
   ]
  },
  {
   "cell_type": "markdown",
   "id": "da3e7186-88c4-4689-985d-a600fb219aed",
   "metadata": {},
   "source": [
    "Existing collections:\n",
    "\n",
    "    LSSTCam/runs/nightlyValidation/20250416/d_2025_04_15/DM-50157\n",
    "    LSSTCam/runs/nightlyValidation/20250415/d_2025_04_15/DM-50157"
   ]
  },
  {
   "cell_type": "markdown",
   "id": "5d4421a4-9ad2-499b-9b7f-758cddf393c1",
   "metadata": {},
   "source": [
    "## Configuration"
   ]
  },
  {
   "cell_type": "markdown",
   "id": "1a0c3eeb-33ab-4a5a-a693-d7f80111599c",
   "metadata": {},
   "source": [
    "### Butler and collection"
   ]
  },
  {
   "cell_type": "code",
   "execution_count": null,
   "id": "77e49928-fd2d-4c16-9a7d-b79c75e0a3f7",
   "metadata": {
    "execution": {
     "iopub.execute_input": "2025-04-29T11:32:49.808868Z",
     "iopub.status.busy": "2025-04-29T11:32:49.808730Z",
     "iopub.status.idle": "2025-04-29T11:32:50.792689Z",
     "shell.execute_reply": "2025-04-29T11:32:50.792008Z",
     "shell.execute_reply.started": "2025-04-29T11:32:49.808856Z"
    }
   },
   "outputs": [],
   "source": [
    "# Define butler\n",
    "from lsst.daf.butler import Butler\n",
    "\n",
    "repo = '/repo/embargo'\n",
    "instrument = 'LSSTCam'\n",
    "collection_validation  = instrument + '/runs/nightlyValidation'\n",
    "collection_quicklook   = instrument + '/runs/quickLookTesting'\n",
    "date_start = 20250415\n",
    "date_selection = 20250416\n",
    "where_clause = \"instrument = \\'\" + f\"{instrument}\" +\"\\'\"\n",
    "where_clause_date = where_clause + f\"and day_obs >= {date_start}\"\n",
    "skymap_name = \"lsst_cells_v1\""
   ]
  },
  {
   "cell_type": "code",
   "execution_count": null,
   "id": "40aa953d-ea9f-4ad5-ac2b-3927ec0d6f0d",
   "metadata": {
    "execution": {
     "iopub.execute_input": "2025-04-29T11:32:50.793404Z",
     "iopub.status.busy": "2025-04-29T11:32:50.793248Z",
     "iopub.status.idle": "2025-04-29T11:32:50.795936Z",
     "shell.execute_reply": "2025-04-29T11:32:50.795551Z",
     "shell.execute_reply.started": "2025-04-29T11:32:50.793388Z"
    }
   },
   "outputs": [],
   "source": [
    "collection_validation = os.path.join(collection_validation,'20250416/d_2025_04_15/DM-50157') "
   ]
  },
  {
   "cell_type": "code",
   "execution_count": null,
   "id": "b1db879d-7208-49a9-b438-6e7e36ee3224",
   "metadata": {
    "execution": {
     "iopub.execute_input": "2025-04-29T11:32:50.796584Z",
     "iopub.status.busy": "2025-04-29T11:32:50.796383Z",
     "iopub.status.idle": "2025-04-29T11:32:51.602915Z",
     "shell.execute_reply": "2025-04-29T11:32:51.602323Z",
     "shell.execute_reply.started": "2025-04-29T11:32:50.796570Z"
    }
   },
   "outputs": [],
   "source": [
    "butler = Butler(repo,collections=collection_validation)\n",
    "registry = butler.registry"
   ]
  },
  {
   "cell_type": "markdown",
   "id": "79a83e38-e04d-48f5-a9d2-4e639facb61c",
   "metadata": {},
   "source": [
    "### Collections in the butler"
   ]
  },
  {
   "cell_type": "code",
   "execution_count": null,
   "id": "78720f4d-d4c0-4367-a9c9-a8a974c9f7ca",
   "metadata": {
    "execution": {
     "iopub.execute_input": "2025-04-29T11:32:51.603611Z",
     "iopub.status.busy": "2025-04-29T11:32:51.603464Z",
     "iopub.status.idle": "2025-04-29T11:32:51.999914Z",
     "shell.execute_reply": "2025-04-29T11:32:51.999452Z",
     "shell.execute_reply.started": "2025-04-29T11:32:51.603596Z"
    }
   },
   "outputs": [],
   "source": [
    "sorted(registry.queryCollections(expression = instrument+\"/*\"))"
   ]
  },
  {
   "cell_type": "markdown",
   "id": "a8921a93-98a9-480e-9221-a6aaaa07b81a",
   "metadata": {},
   "source": [
    "## Select the Instrument and observation date"
   ]
  },
  {
   "cell_type": "code",
   "execution_count": null,
   "id": "f442004f-2832-4d06-94d0-1a5ab4e0781f",
   "metadata": {
    "execution": {
     "iopub.execute_input": "2025-04-29T11:32:52.000564Z",
     "iopub.status.busy": "2025-04-29T11:32:52.000429Z",
     "iopub.status.idle": "2025-04-29T11:32:52.002892Z",
     "shell.execute_reply": "2025-04-29T11:32:52.002516Z",
     "shell.execute_reply.started": "2025-04-29T11:32:52.000551Z"
    }
   },
   "outputs": [],
   "source": [
    "collection = collection_validation \n",
    "where_clause = \"instrument = \\'LSSTCam\\' and day_obs >= 20250415\""
   ]
  },
  {
   "cell_type": "code",
   "execution_count": null,
   "id": "03ccffed-d9a2-45bb-80da-037a82039159",
   "metadata": {
    "execution": {
     "iopub.execute_input": "2025-04-29T11:32:52.003401Z",
     "iopub.status.busy": "2025-04-29T11:32:52.003277Z",
     "iopub.status.idle": "2025-04-29T11:32:52.286464Z",
     "shell.execute_reply": "2025-04-29T11:32:52.285942Z",
     "shell.execute_reply.started": "2025-04-29T11:32:52.003389Z"
    }
   },
   "outputs": [],
   "source": [
    "butler = Butler(repo,collections=collection)\n",
    "registry = butler.registry"
   ]
  },
  {
   "cell_type": "code",
   "execution_count": null,
   "id": "b7d642ca-8f02-4a70-87c4-5d83c286e9fa",
   "metadata": {
    "execution": {
     "iopub.execute_input": "2025-04-29T11:32:52.287170Z",
     "iopub.status.busy": "2025-04-29T11:32:52.287021Z",
     "iopub.status.idle": "2025-04-29T11:32:52.290015Z",
     "shell.execute_reply": "2025-04-29T11:32:52.289573Z",
     "shell.execute_reply.started": "2025-04-29T11:32:52.287152Z"
    }
   },
   "outputs": [],
   "source": [
    "print(butler.registry.dimensions[\"exposure\"].RecordClass.fields)"
   ]
  },
  {
   "cell_type": "markdown",
   "id": "cd74c2a6-799d-493b-85da-f7460b0d11d9",
   "metadata": {},
   "source": [
    "## Dump registry into a pandas dataframe"
   ]
  },
  {
   "cell_type": "code",
   "execution_count": null,
   "id": "bb4a0d2a-cb68-4fb2-866a-d3be588a14a2",
   "metadata": {
    "execution": {
     "iopub.execute_input": "2025-04-29T11:32:52.290666Z",
     "iopub.status.busy": "2025-04-29T11:32:52.290443Z",
     "iopub.status.idle": "2025-04-29T11:32:52.301521Z",
     "shell.execute_reply": "2025-04-29T11:32:52.301170Z",
     "shell.execute_reply.started": "2025-04-29T11:32:52.290653Z"
    }
   },
   "outputs": [],
   "source": [
    "where_clause_date"
   ]
  },
  {
   "cell_type": "code",
   "execution_count": null,
   "id": "a05008a4-043e-4ec9-b986-1c35f4512df0",
   "metadata": {
    "execution": {
     "iopub.execute_input": "2025-04-29T11:32:52.302044Z",
     "iopub.status.busy": "2025-04-29T11:32:52.301916Z",
     "iopub.status.idle": "2025-04-29T11:32:52.314994Z",
     "shell.execute_reply": "2025-04-29T11:32:52.314628Z",
     "shell.execute_reply.started": "2025-04-29T11:32:52.302031Z"
    }
   },
   "outputs": [],
   "source": [
    "columns=['id', 'obs_id','day_obs', 'seq_num','time_start','time_end' ,'type', 'target','filter','zenith_angle','expos','ra','dec','skyangle','azimuth','zenith','science_program','jd','mjd']"
   ]
  },
  {
   "cell_type": "code",
   "execution_count": null,
   "id": "fc4e0951-94ba-4828-8c59-aefc7b3bef65",
   "metadata": {
    "execution": {
     "iopub.execute_input": "2025-04-29T11:32:52.315689Z",
     "iopub.status.busy": "2025-04-29T11:32:52.315551Z",
     "iopub.status.idle": "2025-04-29T11:32:52.331852Z",
     "shell.execute_reply": "2025-04-29T11:32:52.331476Z",
     "shell.execute_reply.started": "2025-04-29T11:32:52.315676Z"
    }
   },
   "outputs": [],
   "source": [
    "df_exposure = pd.DataFrame({\n",
    "    'id': pd.Series(dtype='int'),\n",
    "    'obs_id': pd.Series(dtype='int'),\n",
    "    'day_obs': pd.Series(dtype='int'),\n",
    "    'seq_num': pd.Series(dtype='int'),\n",
    "    'time_start': pd.Series(dtype='str'),  # ou 'datetime64[ns]' si c’est un datetime\n",
    "    'time_end': pd.Series(dtype='str'),    # idem\n",
    "    'type': pd.Series(dtype='str'),\n",
    "    'target': pd.Series(dtype='str'),\n",
    "    'filter': pd.Series(dtype='str'),\n",
    "    'zenith_angle': pd.Series(dtype='float'),\n",
    "    'expos': pd.Series(dtype='float'),     # ou 'int' selon le cas\n",
    "    'ra': pd.Series(dtype='float'),\n",
    "    'dec': pd.Series(dtype='float'),\n",
    "    'skyangle': pd.Series(dtype='float'),\n",
    "    'azimuth': pd.Series(dtype='float'),\n",
    "    'zenith': pd.Series(dtype='float'),\n",
    "    'science_program': pd.Series(dtype='str'),\n",
    "    'jd': pd.Series(dtype='float'),\n",
    "    'mjd': pd.Series(dtype='float'),\n",
    "})"
   ]
  },
  {
   "cell_type": "code",
   "execution_count": null,
   "id": "314909fe-f674-420f-87a7-8cca375b43db",
   "metadata": {
    "execution": {
     "iopub.execute_input": "2025-04-29T11:32:52.335890Z",
     "iopub.status.busy": "2025-04-29T11:32:52.335586Z",
     "iopub.status.idle": "2025-04-29T11:32:56.226732Z",
     "shell.execute_reply": "2025-04-29T11:32:56.226175Z",
     "shell.execute_reply.started": "2025-04-29T11:32:52.335876Z"
    }
   },
   "outputs": [],
   "source": [
    "# save the data array in rows before saving in pandas dataframe\n",
    "rows  = []\n",
    "for count, info in enumerate(registry.queryDimensionRecords('exposure',where= where_clause_date)):\n",
    "    try:\n",
    "        jd_start = info.timespan.begin.value\n",
    "        jd_end = info.timespan.end.value\n",
    "        the_Time_start = Time(jd_start,format=\"jd\",scale=\"utc\")\n",
    "        the_Time_end = Time(jd_end,format=\"jd\",scale=\"utc\")\n",
    "        mjd_start = the_Time_start.mjd\n",
    "        mjd_end = the_Time_end.mjd\n",
    "        isot_start = the_Time_start.isot\n",
    "        isot_end = the_Time_end.isot\n",
    "\n",
    "        if count ==0:\n",
    "            print(\"===== Time Conversion Debug Info =====\")\n",
    "            print(f\"JD start      : {jd_start} (type: {type(jd_start)})\")\n",
    "            print(f\"JD end        : {jd_end} (type: {type(jd_end)})\")\n",
    "            print(f\"MJD start     : {mjd_start} (type: {type(mjd_start)})\")\n",
    "            print(f\"MJD end       : {mjd_end} (type: {type(mjd_end)})\")\n",
    "            print(f\"ISOT start    : {isot_start} (type: {type(isot_start)})\")\n",
    "            print(f\"ISOT end      : {isot_end} (type: {type(isot_end)})\")\n",
    "            print(\"=======================================\")\n",
    "\n",
    "        # put row in a dictionnary before stacking \n",
    "        row = {\n",
    "        'id': info.id,\n",
    "        'obs_id': info.obs_id,\n",
    "        'day_obs': info.day_obs,\n",
    "        'seq_num': info.seq_num,\n",
    "            \n",
    "        'time_start': isot_start,\n",
    "        'time_end': isot_end,\n",
    "            \n",
    "        'type': info.observation_type,\n",
    "        'target': info.target_name,\n",
    "            \n",
    "        'filter': info.physical_filter,\n",
    "        'zenith_angle': info.zenith_angle,\n",
    "        'expos': info.exposure_time,       # Exemple : adapter selon ton objet\n",
    "        'ra': info.tracking_ra,\n",
    "        'dec': info.tracking_dec,\n",
    "        'skyangle': info.sky_angle,\n",
    "        'azimuth': info.azimuth,\n",
    "        'zenith': info.zenith_angle,\n",
    "        'science_program': info.science_program,\n",
    "            \n",
    "        'jd': float(jd_start),\n",
    "        'mjd':  float(mjd_start)\n",
    "        }\n",
    "        rows.append(row)\n",
    "\n",
    " \n",
    "    except ValueError as e:\n",
    "        print(f\"Erreur de valeur : {e}\")\n",
    "    except FileNotFoundError as e:\n",
    "        print(f\"Fichier introuvable : {e}\")\n",
    "    except Exception as e:\n",
    "        print(f\"Erreur inattendue : {type(e).__name__} - {e}\")\n",
    "        print(f\">>>   Unexpected error at row {count}:\", sys.exc_info()[0])\n",
    "        traceback.print_exc()  # affiche la stack trace complète\n"
   ]
  },
  {
   "cell_type": "code",
   "execution_count": null,
   "id": "0d25e7f9-fe70-43b7-a7b2-b44eca9add19",
   "metadata": {
    "execution": {
     "iopub.execute_input": "2025-04-29T11:32:56.227434Z",
     "iopub.status.busy": "2025-04-29T11:32:56.227286Z",
     "iopub.status.idle": "2025-04-29T11:32:56.248230Z",
     "shell.execute_reply": "2025-04-29T11:32:56.247689Z",
     "shell.execute_reply.started": "2025-04-29T11:32:56.227420Z"
    }
   },
   "outputs": [],
   "source": [
    "# Création finale du DataFrame\n",
    "df_exposure = pd.DataFrame(rows)"
   ]
  },
  {
   "cell_type": "code",
   "execution_count": null,
   "id": "f39def4e-ee67-4e59-a09e-141b06a05fa2",
   "metadata": {
    "execution": {
     "iopub.execute_input": "2025-04-29T11:33:18.759063Z",
     "iopub.status.busy": "2025-04-29T11:33:18.758847Z",
     "iopub.status.idle": "2025-04-29T11:33:18.773411Z",
     "shell.execute_reply": "2025-04-29T11:33:18.772981Z",
     "shell.execute_reply.started": "2025-04-29T11:33:18.759047Z"
    }
   },
   "outputs": [],
   "source": [
    "df_exposure"
   ]
  },
  {
   "cell_type": "code",
   "execution_count": null,
   "id": "6eab002a-3fac-41b6-8377-8cdca17cb926",
   "metadata": {
    "execution": {
     "iopub.status.busy": "2025-04-29T11:32:56.548429Z",
     "iopub.status.idle": "2025-04-29T11:32:56.548590Z",
     "shell.execute_reply": "2025-04-29T11:32:56.548516Z",
     "shell.execute_reply.started": "2025-04-29T11:32:56.548508Z"
    }
   },
   "outputs": [],
   "source": [
    "#df_exposure = df_exposure.astype({\"id\": int,'day_obs': int,'seq_num':int})"
   ]
  },
  {
   "cell_type": "code",
   "execution_count": null,
   "id": "2e00ff54-7276-461f-b1c5-ac970a8e179d",
   "metadata": {
    "execution": {
     "iopub.execute_input": "2025-04-29T11:33:39.678966Z",
     "iopub.status.busy": "2025-04-29T11:33:39.678739Z",
     "iopub.status.idle": "2025-04-29T11:33:39.683269Z",
     "shell.execute_reply": "2025-04-29T11:33:39.682821Z",
     "shell.execute_reply.started": "2025-04-29T11:33:39.678951Z"
    }
   },
   "outputs": [],
   "source": [
    "df_science = df_exposure[df_exposure.type == 'science']"
   ]
  },
  {
   "cell_type": "code",
   "execution_count": null,
   "id": "f9f219d2-eb11-48c6-8cdd-1d5ac88477cc",
   "metadata": {
    "execution": {
     "iopub.execute_input": "2025-04-29T11:33:48.702602Z",
     "iopub.status.busy": "2025-04-29T11:33:48.702100Z",
     "iopub.status.idle": "2025-04-29T11:33:48.717465Z",
     "shell.execute_reply": "2025-04-29T11:33:48.716935Z",
     "shell.execute_reply.started": "2025-04-29T11:33:48.702582Z"
    }
   },
   "outputs": [],
   "source": [
    "df_science"
   ]
  },
  {
   "cell_type": "code",
   "execution_count": null,
   "id": "9ce0d04f-235a-49a4-bcc2-0c774cd4e898",
   "metadata": {
    "execution": {
     "iopub.execute_input": "2025-04-29T11:33:51.709525Z",
     "iopub.status.busy": "2025-04-29T11:33:51.708803Z",
     "iopub.status.idle": "2025-04-29T11:33:51.981604Z",
     "shell.execute_reply": "2025-04-29T11:33:51.981130Z",
     "shell.execute_reply.started": "2025-04-29T11:33:51.709506Z"
    }
   },
   "outputs": [],
   "source": [
    "fig,ax = plt.subplots(1,1,figsize=(8,4))\n",
    "df_science.expos.hist(ax=ax)"
   ]
  },
  {
   "cell_type": "code",
   "execution_count": null,
   "id": "d1e05608-9580-4401-a303-f4648f3203a7",
   "metadata": {
    "execution": {
     "iopub.execute_input": "2025-04-29T11:33:55.707354Z",
     "iopub.status.busy": "2025-04-29T11:33:55.706619Z",
     "iopub.status.idle": "2025-04-29T11:33:55.709515Z",
     "shell.execute_reply": "2025-04-29T11:33:55.709076Z",
     "shell.execute_reply.started": "2025-04-29T11:33:55.707335Z"
    }
   },
   "outputs": [],
   "source": [
    "#df_science = df_science[df_science.expos>=15]"
   ]
  },
  {
   "cell_type": "code",
   "execution_count": null,
   "id": "d1c43a31-24e0-4f48-baa5-604e8a512e3d",
   "metadata": {
    "execution": {
     "iopub.execute_input": "2025-04-29T11:33:57.199258Z",
     "iopub.status.busy": "2025-04-29T11:33:57.198587Z",
     "iopub.status.idle": "2025-04-29T11:33:57.202020Z",
     "shell.execute_reply": "2025-04-29T11:33:57.201433Z",
     "shell.execute_reply.started": "2025-04-29T11:33:57.199240Z"
    }
   },
   "outputs": [],
   "source": [
    "df_science.reset_index(drop=True,inplace=True)"
   ]
  },
  {
   "cell_type": "code",
   "execution_count": null,
   "id": "8d1482eb-d7cc-46a0-b35b-eb688740f36b",
   "metadata": {
    "execution": {
     "iopub.execute_input": "2025-04-29T11:33:59.675475Z",
     "iopub.status.busy": "2025-04-29T11:33:59.674850Z",
     "iopub.status.idle": "2025-04-29T11:33:59.687797Z",
     "shell.execute_reply": "2025-04-29T11:33:59.687361Z",
     "shell.execute_reply.started": "2025-04-29T11:33:59.675453Z"
    }
   },
   "outputs": [],
   "source": [
    "df_science"
   ]
  },
  {
   "cell_type": "code",
   "execution_count": null,
   "id": "43b40982-33e1-4a9a-8326-a0a44cfc69c9",
   "metadata": {
    "execution": {
     "iopub.execute_input": "2025-04-29T11:34:04.725076Z",
     "iopub.status.busy": "2025-04-29T11:34:04.724407Z",
     "iopub.status.idle": "2025-04-29T11:34:04.727598Z",
     "shell.execute_reply": "2025-04-29T11:34:04.727167Z",
     "shell.execute_reply.started": "2025-04-29T11:34:04.725058Z"
    }
   },
   "outputs": [],
   "source": [
    "id_min = df_science_id_min = df_science.id.min()\n",
    "id_max = df_science_id_max = df_science.id.max()"
   ]
  },
  {
   "cell_type": "code",
   "execution_count": null,
   "id": "fff36b1c-0364-470f-b99a-6dad875a7ef9",
   "metadata": {
    "execution": {
     "iopub.execute_input": "2025-04-29T11:34:06.188308Z",
     "iopub.status.busy": "2025-04-29T11:34:06.188014Z",
     "iopub.status.idle": "2025-04-29T11:34:06.190673Z",
     "shell.execute_reply": "2025-04-29T11:34:06.190240Z",
     "shell.execute_reply.started": "2025-04-29T11:34:06.188289Z"
    }
   },
   "outputs": [],
   "source": [
    "#! pip install --user openpyxl"
   ]
  },
  {
   "cell_type": "code",
   "execution_count": null,
   "id": "ca308ac6-8610-47d2-ba40-b6b7ff63c024",
   "metadata": {
    "execution": {
     "iopub.execute_input": "2025-04-29T11:34:07.084702Z",
     "iopub.status.busy": "2025-04-29T11:34:07.083932Z",
     "iopub.status.idle": "2025-04-29T11:34:07.106787Z",
     "shell.execute_reply": "2025-04-29T11:34:07.106307Z",
     "shell.execute_reply.started": "2025-04-29T11:34:07.084683Z"
    }
   },
   "outputs": [],
   "source": [
    "output_file_csv = f\"lsstcam_lgb_{id_min}-{id_max}.csv\"\n",
    "output_file_xlsx = f\"lsstcam_lgb_{id_min}-{id_max}.xlsx\"\n",
    "df_science.to_csv(output_file_csv)\n",
    "#df_science.to_excel(output_file_xlsx)"
   ]
  },
  {
   "cell_type": "markdown",
   "id": "af17b971-adf9-4ded-9bb4-b3f892d3e517",
   "metadata": {},
   "source": [
    "## Dataset type"
   ]
  },
  {
   "cell_type": "code",
   "execution_count": null,
   "id": "69f4de9c-e960-44fc-806a-a1cc60b1e712",
   "metadata": {
    "execution": {
     "iopub.execute_input": "2025-04-29T11:34:12.687016Z",
     "iopub.status.busy": "2025-04-29T11:34:12.686425Z",
     "iopub.status.idle": "2025-04-29T11:34:50.607124Z",
     "shell.execute_reply": "2025-04-29T11:34:50.606635Z",
     "shell.execute_reply.started": "2025-04-29T11:34:12.686997Z"
    }
   },
   "outputs": [],
   "source": [
    "for datasetType in registry.queryDatasetTypes():\n",
    "    if registry.queryDatasets(datasetType, collections=collection).any(execute=False, exact=False):\n",
    "        # Limit search results to the data products\n",
    "        if ('_config' not in datasetType.name) and ('_log' not in datasetType.name) and ('_metadata' not in datasetType.name) and ('_resource_usage' not in datasetType.name):\n",
    "            print(datasetType)"
   ]
  },
  {
   "cell_type": "code",
   "execution_count": null,
   "id": "90ebd85b-ea52-4679-872a-9835fe09b2f4",
   "metadata": {
    "execution": {
     "iopub.execute_input": "2025-04-29T11:35:13.069653Z",
     "iopub.status.busy": "2025-04-29T11:35:13.069438Z",
     "iopub.status.idle": "2025-04-29T11:36:00.784340Z",
     "shell.execute_reply": "2025-04-29T11:36:00.783786Z",
     "shell.execute_reply.started": "2025-04-29T11:35:13.069638Z"
    }
   },
   "outputs": [],
   "source": [
    "dataProduct = 'preliminary_visit_image'\n",
    "datasetRefs = list(butler.registry.queryDatasets(dataProduct,where=where_clause_date))"
   ]
  },
  {
   "cell_type": "code",
   "execution_count": null,
   "id": "03dc5310-e424-4910-b219-8082441b6486",
   "metadata": {
    "execution": {
     "iopub.execute_input": "2025-04-29T11:36:09.643897Z",
     "iopub.status.busy": "2025-04-29T11:36:09.643546Z",
     "iopub.status.idle": "2025-04-29T11:36:09.647446Z",
     "shell.execute_reply": "2025-04-29T11:36:09.647074Z",
     "shell.execute_reply.started": "2025-04-29T11:36:09.643871Z"
    }
   },
   "outputs": [],
   "source": [
    "len(datasetRefs)"
   ]
  },
  {
   "cell_type": "code",
   "execution_count": null,
   "id": "c33172b5-ea20-4f5c-90e5-f2805ecd1b5c",
   "metadata": {
    "execution": {
     "iopub.execute_input": "2025-04-29T11:36:15.928992Z",
     "iopub.status.busy": "2025-04-29T11:36:15.928646Z",
     "iopub.status.idle": "2025-04-29T11:36:15.939445Z",
     "shell.execute_reply": "2025-04-29T11:36:15.938997Z",
     "shell.execute_reply.started": "2025-04-29T11:36:15.928966Z"
    }
   },
   "outputs": [],
   "source": [
    "all_selected_visit = df_science.id.values\n",
    "all_selected_visit = sorted(all_selected_visit)\n",
    "all_selected_visit"
   ]
  },
  {
   "cell_type": "markdown",
   "id": "3b0e5b73-aa1a-4f74-b2b2-c2041a5cc811",
   "metadata": {},
   "source": [
    "> I was just poking around at images, and the following dataId has some really nice nebulosity:\n",
    "> preliminary_visit_image@{instrument: 'LSSTCam', detector: 71, visit: 2025041500268, band: 'i', day_obs: 20250415, physical_filter: 'i_39'} [sc=ExposureF] (run=LSSTCam/runs/nightlyValidation/12 id=6695e83d-a251-440f-87c5-c85b5471b3ac)"
   ]
  },
  {
   "cell_type": "code",
   "execution_count": null,
   "id": "6bb60d7d-823d-48d5-9daf-df37d90faf80",
   "metadata": {
    "execution": {
     "iopub.status.busy": "2025-04-29T11:32:56.557315Z",
     "iopub.status.idle": "2025-04-29T11:32:56.557472Z",
     "shell.execute_reply": "2025-04-29T11:32:56.557400Z",
     "shell.execute_reply.started": "2025-04-29T11:32:56.557392Z"
    }
   },
   "outputs": [],
   "source": [
    "#the_selected_visit = all_selected_visit[3]\n",
    "#the_selected_visit = 2025041500268\n",
    "#the_selected_detector = 71\n",
    "#title = f\"dataProduct  v={the_selected_visit} d={the_selected_detector}\""
   ]
  },
  {
   "cell_type": "code",
   "execution_count": null,
   "id": "4d4ecf1a-94ae-4952-b2ae-6efa2430e495",
   "metadata": {
    "execution": {
     "iopub.execute_input": "2025-04-29T11:37:22.329639Z",
     "iopub.status.busy": "2025-04-29T11:37:22.329017Z",
     "iopub.status.idle": "2025-04-29T11:37:22.332216Z",
     "shell.execute_reply": "2025-04-29T11:37:22.331766Z",
     "shell.execute_reply.started": "2025-04-29T11:37:22.329620Z"
    }
   },
   "outputs": [],
   "source": [
    "the_selected_visit = all_selected_visit[3]\n",
    "the_selected_visit = 2025041700817\n",
    "the_selected_detector = 71\n",
    "title = f\"dataProduct  v={the_selected_visit} d={the_selected_detector}\""
   ]
  },
  {
   "cell_type": "markdown",
   "id": "08c7b817-1a0f-4cb2-b213-f350b713b625",
   "metadata": {},
   "source": [
    "## Select a Raft\n",
    "![title](figs/LSSTCam_fp_layout.png)"
   ]
  },
  {
   "cell_type": "code",
   "execution_count": null,
   "id": "d13390e1-fa02-4113-aa06-83f2eed8f652",
   "metadata": {
    "execution": {
     "iopub.execute_input": "2025-04-29T11:37:26.565877Z",
     "iopub.status.busy": "2025-04-29T11:37:26.565035Z",
     "iopub.status.idle": "2025-04-29T11:37:26.568365Z",
     "shell.execute_reply": "2025-04-29T11:37:26.567927Z",
     "shell.execute_reply.started": "2025-04-29T11:37:26.565858Z"
    }
   },
   "outputs": [],
   "source": [
    "def getDetectorfromRaft(raft):\n",
    "    all_det = []\n",
    "    for ccd in ccds:\n",
    "        _,det = detector(raft,ccd)\n",
    "        all_det.append(det)\n",
    "    return all_det"
   ]
  },
  {
   "cell_type": "code",
   "execution_count": null,
   "id": "3a01874c-7a98-442c-9d12-f2e12dd2f317",
   "metadata": {
    "execution": {
     "iopub.execute_input": "2025-04-29T11:37:27.262676Z",
     "iopub.status.busy": "2025-04-29T11:37:27.262338Z",
     "iopub.status.idle": "2025-04-29T11:37:27.265534Z",
     "shell.execute_reply": "2025-04-29T11:37:27.265137Z",
     "shell.execute_reply.started": "2025-04-29T11:37:27.262660Z"
    }
   },
   "outputs": [],
   "source": [
    "print(rafts)"
   ]
  },
  {
   "cell_type": "code",
   "execution_count": null,
   "id": "65c4f9cd-62e5-459d-89cf-560b6578746a",
   "metadata": {
    "execution": {
     "iopub.execute_input": "2025-04-29T11:37:27.984236Z",
     "iopub.status.busy": "2025-04-29T11:37:27.983910Z",
     "iopub.status.idle": "2025-04-29T11:37:27.987167Z",
     "shell.execute_reply": "2025-04-29T11:37:27.986769Z",
     "shell.execute_reply.started": "2025-04-29T11:37:27.984221Z"
    }
   },
   "outputs": [],
   "source": [
    "print(ccds)"
   ]
  },
  {
   "cell_type": "code",
   "execution_count": null,
   "id": "de97793b-1209-4c48-9931-4c38d715aa13",
   "metadata": {
    "execution": {
     "iopub.execute_input": "2025-04-29T11:37:28.641281Z",
     "iopub.status.busy": "2025-04-29T11:37:28.640995Z",
     "iopub.status.idle": "2025-04-29T11:37:28.644245Z",
     "shell.execute_reply": "2025-04-29T11:37:28.643837Z",
     "shell.execute_reply.started": "2025-04-29T11:37:28.641266Z"
    }
   },
   "outputs": [],
   "source": [
    "the_raft_selected = \"R22\"\n",
    "list_of_detectors = getDetectorfromRaft(the_raft_selected)\n",
    "print(list_of_detectors)"
   ]
  },
  {
   "cell_type": "code",
   "execution_count": null,
   "id": "b753560b-8a4d-4a31-997c-e532d332d8aa",
   "metadata": {},
   "outputs": [],
   "source": []
  },
  {
   "cell_type": "code",
   "execution_count": null,
   "id": "55fbb48c-00ab-4aa2-ae75-92fdfe8eb911",
   "metadata": {
    "execution": {
     "iopub.execute_input": "2025-04-29T11:37:29.831441Z",
     "iopub.status.busy": "2025-04-29T11:37:29.830880Z",
     "iopub.status.idle": "2025-04-29T11:37:40.593310Z",
     "shell.execute_reply": "2025-04-29T11:37:40.592771Z",
     "shell.execute_reply.started": "2025-04-29T11:37:29.831424Z"
    }
   },
   "outputs": [],
   "source": [
    "all_images = []\n",
    "all_titles = []\n",
    "count = 0\n",
    "for i, ref in enumerate(datasetRefs):\n",
    "    the_visit = ref.dataId[\"visit\"]\n",
    "    the_detector = ref.dataId[\"detector\"]\n",
    "\n",
    "#    if the_visit == the_selected_visit:\n",
    "#        print(ref.dataId)\n",
    "    if the_visit == the_selected_visit and the_detector in list_of_detectors: \n",
    "        count+=1\n",
    "\n",
    "        print(f\"========= {count} =============== datasetType = {dataProduct} ============================================\")\n",
    "        print(\"fId..................:\",ref.dataId)\n",
    "        print(\"visitId..................:\",ref.dataId[\"visit\"])\n",
    "        try:\n",
    "        \n",
    "            data = butler.get(dataProduct, dataId=ref.dataId )  \n",
    "            all_images.append(data)\n",
    "            all_titles.append(f\"{the_visit} : {the_detector}\")\n",
    "       \n",
    "        except Exception as inst:\n",
    "            print(type(inst))    # the exception type\n",
    "            print(inst.args)     # arguments stored in .args\n",
    "            print(inst)         \n",
    "\n",
    "N = len(all_images)\n",
    "print(f\"{dataProduct} :: N = {N}\")"
   ]
  },
  {
   "cell_type": "code",
   "execution_count": null,
   "id": "00d926ff-8bbb-42fd-b0a8-e6bb99f711f4",
   "metadata": {
    "execution": {
     "iopub.execute_input": "2025-04-29T11:37:40.594607Z",
     "iopub.status.busy": "2025-04-29T11:37:40.594056Z",
     "iopub.status.idle": "2025-04-29T11:37:47.022779Z",
     "shell.execute_reply": "2025-04-29T11:37:47.022145Z",
     "shell.execute_reply.started": "2025-04-29T11:37:40.594589Z"
    }
   },
   "outputs": [],
   "source": [
    "for count in range(N):\n",
    "    display = afwDisplay.Display(frame=count+1)\n",
    "    display.scale(\"asinh\", \"zscale\")\n",
    "    display.mtv(all_images[count].image, title=all_titles[count])\n",
    "    "
   ]
  },
  {
   "cell_type": "markdown",
   "id": "43c80408-9c5e-438c-94d0-e36852d189c9",
   "metadata": {},
   "source": [
    "## Mosaic\n",
    "\n",
    "https://pipelines.lsst.io/py-api/lsst.afw.display.Mosaic.html#lsst.afw.display.Mosaic"
   ]
  },
  {
   "cell_type": "code",
   "execution_count": null,
   "id": "aa5d89c0-5ba1-4073-ace9-ee17c99122bd",
   "metadata": {
    "execution": {
     "iopub.execute_input": "2025-04-29T11:53:46.991457Z",
     "iopub.status.busy": "2025-04-29T11:53:46.991242Z",
     "iopub.status.idle": "2025-04-29T11:53:46.996108Z",
     "shell.execute_reply": "2025-04-29T11:53:46.995654Z",
     "shell.execute_reply.started": "2025-04-29T11:53:46.991440Z"
    }
   },
   "outputs": [],
   "source": [
    "for i_raft in range(len(rafts)):\n",
    "    for i_ccd in range(len(ccds)):\n",
    "        detector_id=detector(rafts[i_raft],ccds[i_ccd])\n",
    "        print('\"'+str(detector_id[1]) + '\": \"' + rafts[i_raft]+ '_' + ccds[i_ccd]+'\",',end=\"\")\n",
    "        #print(str(detector_id[1]) + ': ' + rafts[i_raft]+ '_' + ccds[i_ccd])"
   ]
  },
  {
   "cell_type": "code",
   "execution_count": null,
   "id": "fb12d4d0-bfde-4983-9601-6b345df87837",
   "metadata": {
    "execution": {
     "iopub.execute_input": "2025-04-29T11:53:49.737287Z",
     "iopub.status.busy": "2025-04-29T11:53:49.736958Z",
     "iopub.status.idle": "2025-04-29T11:53:49.740152Z",
     "shell.execute_reply": "2025-04-29T11:53:49.739756Z",
     "shell.execute_reply.started": "2025-04-29T11:53:49.737262Z"
    }
   },
   "outputs": [],
   "source": [
    "list_of_detectors = getDetectorfromRaft(the_raft_selected)"
   ]
  },
  {
   "cell_type": "code",
   "execution_count": null,
   "id": "ef0c5ed2-4343-4f2c-bb24-2a02b35bf5b6",
   "metadata": {
    "execution": {
     "iopub.execute_input": "2025-04-29T11:53:50.736187Z",
     "iopub.status.busy": "2025-04-29T11:53:50.735880Z",
     "iopub.status.idle": "2025-04-29T11:53:50.739558Z",
     "shell.execute_reply": "2025-04-29T11:53:50.739165Z",
     "shell.execute_reply.started": "2025-04-29T11:53:50.736170Z"
    }
   },
   "outputs": [],
   "source": [
    "list_of_detectors"
   ]
  },
  {
   "cell_type": "code",
   "execution_count": null,
   "id": "d25979cd-bdd3-48a2-8cc2-852e3bb83328",
   "metadata": {
    "execution": {
     "iopub.execute_input": "2025-04-29T11:53:51.384894Z",
     "iopub.status.busy": "2025-04-29T11:53:51.384286Z",
     "iopub.status.idle": "2025-04-29T11:53:51.387712Z",
     "shell.execute_reply": "2025-04-29T11:53:51.387268Z",
     "shell.execute_reply.started": "2025-04-29T11:53:51.384875Z"
    }
   },
   "outputs": [],
   "source": [
    "detector_clause = f\"detector in (\"\n",
    "for ii,det_id in enumerate(list_of_detectors):\n",
    "    if ii<8:\n",
    "        detector_clause += str(det_id) +\",\"\n",
    "    else:\n",
    "         detector_clause += str(det_id) +\")\""
   ]
  },
  {
   "cell_type": "code",
   "execution_count": null,
   "id": "cd655b60-dfc3-4fd2-bc41-920e5eb7b26f",
   "metadata": {
    "execution": {
     "iopub.execute_input": "2025-04-29T11:53:52.089236Z",
     "iopub.status.busy": "2025-04-29T11:53:52.089025Z",
     "iopub.status.idle": "2025-04-29T11:53:52.092701Z",
     "shell.execute_reply": "2025-04-29T11:53:52.092278Z",
     "shell.execute_reply.started": "2025-04-29T11:53:52.089221Z"
    }
   },
   "outputs": [],
   "source": [
    "detector_clause"
   ]
  },
  {
   "cell_type": "code",
   "execution_count": null,
   "id": "e169b15c-351a-4ac7-a8df-b9d893cbab89",
   "metadata": {
    "execution": {
     "iopub.execute_input": "2025-04-29T11:53:52.826074Z",
     "iopub.status.busy": "2025-04-29T11:53:52.825603Z",
     "iopub.status.idle": "2025-04-29T11:53:52.831064Z",
     "shell.execute_reply": "2025-04-29T11:53:52.830666Z",
     "shell.execute_reply.started": "2025-04-29T11:53:52.826057Z"
    }
   },
   "outputs": [],
   "source": [
    "def queryExposures(expo=\"2025041500160\",raft=\"R22\"):\n",
    "\n",
    "    list_of_detectors = getDetectorfromRaft(raft)\n",
    "    detector_clause = f\"detector in (\"\n",
    "    for ii,det_id in enumerate(list_of_detectors):\n",
    "        if ii<len(list_of_detectors)-1:\n",
    "            detector_clause += str(det_id) +\",\"\n",
    "        else:\n",
    "             detector_clause += str(det_id) +\")\"\n",
    "    where_clause = f\"instrument='LSSTCam' AND visit={expo} AND \"\n",
    "    where_clause += detector_clause\n",
    "    \n",
    "    dataset_refs = butler.query_datasets(\"preliminary_visit_image\", collections = collection,where = where_clause)\n",
    "    exposures = [butler.get(dataset_ref) for dataset_ref in dataset_refs]\n",
    "    return exposures\n",
    "\n",
    "def make_mosaic(exposures, binning=4):\n",
    "    from lsst.pipe.tasks.visualizeVisit import (\n",
    "        VisualizeBinExpConfig,\n",
    "        VisualizeBinExpTask,\n",
    "        VisualizeMosaicExpConfig,\n",
    "        VisualizeMosaicExpTask,\n",
    "    )\n",
    "    camera = butler.get(\"camera\", collections=collection, instrument=instrument)\n",
    "    \n",
    "    visualizeBinExpConfig = VisualizeBinExpConfig()\n",
    "    visualizeBinExpConfig.binning = binning\n",
    "    visualizeBinExpTask = VisualizeBinExpTask(config=visualizeBinExpConfig)\n",
    "    exposures_binned = [visualizeBinExpTask.run(inputExp = exposure, camera=camera).outputExp for exposure in exposures]\n",
    "    \n",
    "    visualizeMosaicExpConfig = VisualizeMosaicExpConfig()\n",
    "    visualizeMosaicExpConfig.binning = binning\n",
    "    visualizeMosaicExpTask = VisualizeMosaicExpTask(config=visualizeMosaicExpConfig)\n",
    "    \n",
    "    mosaic_full = visualizeMosaicExpTask.run(inputExps=exposures_binned, camera=camera)\n",
    "    mosaic = mosaic_full.outputData\n",
    "    return mosaic, mosaic_full\n",
    "\n",
    "def show_ghosts(exp_id=\"2025041500160\", binning=16, zmin=2230, zmax=2330):\n",
    "    expos = queryExposures(exp_id)\n",
    "    mosaic, mosaic_full = make_mosaic(expos, binning)\n",
    "    displayImageGhosts(mosaic, zmin=zmin, zmax=zmax)\n",
    "    return mosaic, mosaic_full, expos"
   ]
  },
  {
   "cell_type": "code",
   "execution_count": null,
   "id": "65194b1e-afd8-4e01-8e46-a7167d895915",
   "metadata": {
    "execution": {
     "execution_failed": "2025-04-29T11:54:08.324Z",
     "iopub.execute_input": "2025-04-29T11:53:54.066618Z",
     "iopub.status.busy": "2025-04-29T11:53:54.066419Z"
    }
   },
   "outputs": [],
   "source": [
    "mosaic, mosaic_full, expos = show_ghosts(the_selected_visit, binning=4, zmin=0, zmax=6000)"
   ]
  },
  {
   "cell_type": "code",
   "execution_count": null,
   "id": "784f4a09-7eb3-4171-97a0-de6e2f2fa315",
   "metadata": {
    "execution": {
     "execution_failed": "2025-04-29T11:54:08.324Z"
    }
   },
   "outputs": [],
   "source": [
    "type(mosaic_full)\n",
    "mosaic_full.getDict().values()\n"
   ]
  },
  {
   "cell_type": "code",
   "execution_count": null,
   "id": "a3489a14-252e-426e-8057-6c9e98e0e78b",
   "metadata": {
    "execution": {
     "iopub.status.busy": "2025-04-29T11:32:56.567583Z",
     "iopub.status.idle": "2025-04-29T11:32:56.567730Z",
     "shell.execute_reply": "2025-04-29T11:32:56.567660Z",
     "shell.execute_reply.started": "2025-04-29T11:32:56.567653Z"
    }
   },
   "outputs": [],
   "source": [
    "assert False"
   ]
  },
  {
   "cell_type": "code",
   "execution_count": null,
   "id": "69bd2f09-4591-4c17-874a-b4805a007d2a",
   "metadata": {
    "execution": {
     "iopub.status.busy": "2025-04-29T11:32:56.568175Z",
     "iopub.status.idle": "2025-04-29T11:32:56.568325Z",
     "shell.execute_reply": "2025-04-29T11:32:56.568253Z",
     "shell.execute_reply.started": "2025-04-29T11:32:56.568246Z"
    }
   },
   "outputs": [],
   "source": [
    "w = expos[0].getWcs()\n",
    "type(expos[0])"
   ]
  },
  {
   "cell_type": "code",
   "execution_count": null,
   "id": "787d937b-de5f-47fb-ba9c-8458a1be701d",
   "metadata": {
    "execution": {
     "iopub.status.busy": "2025-04-29T11:32:56.568603Z",
     "iopub.status.idle": "2025-04-29T11:32:56.568744Z",
     "shell.execute_reply": "2025-04-29T11:32:56.568679Z",
     "shell.execute_reply.started": "2025-04-29T11:32:56.568672Z"
    }
   },
   "outputs": [],
   "source": [
    "mosaic.getWcs()"
   ]
  },
  {
   "cell_type": "code",
   "execution_count": null,
   "id": "a8395fca-23ae-4c86-b94f-628975ced91a",
   "metadata": {
    "execution": {
     "iopub.status.busy": "2025-04-29T11:32:56.569545Z",
     "iopub.status.idle": "2025-04-29T11:32:56.569705Z",
     "shell.execute_reply": "2025-04-29T11:32:56.569628Z",
     "shell.execute_reply.started": "2025-04-29T11:32:56.569621Z"
    }
   },
   "outputs": [],
   "source": [
    "ghost_367, expos_367 = show_ghosts(\"2024112200367\", binning=8, zmin=500, zmax=2000)"
   ]
  },
  {
   "cell_type": "code",
   "execution_count": null,
   "id": "2e473e44-1d2e-4415-b799-2c7b9ff39a82",
   "metadata": {
    "execution": {
     "iopub.status.busy": "2025-04-29T11:32:56.570188Z",
     "iopub.status.idle": "2025-04-29T11:32:56.570348Z",
     "shell.execute_reply": "2025-04-29T11:32:56.570271Z",
     "shell.execute_reply.started": "2025-04-29T11:32:56.570264Z"
    }
   },
   "outputs": [],
   "source": [
    "displayImageGhosts(ghost, zmin=820, zmax=900)"
   ]
  },
  {
   "cell_type": "code",
   "execution_count": null,
   "id": "564a0eb8-c395-4370-93e0-27ee00ade6f6",
   "metadata": {
    "execution": {
     "iopub.status.busy": "2025-04-29T11:32:56.570913Z",
     "iopub.status.idle": "2025-04-29T11:32:56.571070Z",
     "shell.execute_reply": "2025-04-29T11:32:56.570993Z",
     "shell.execute_reply.started": "2025-04-29T11:32:56.570986Z"
    }
   },
   "outputs": [],
   "source": [
    "afwDisplay.setDefaultBackend('matplotlib') \n",
    "fig = plt.figure(figsize=(10,10))\n",
    "afw_display = afwDisplay.Display(1)\n",
    "afw_display.scale('asinh', 'zscale')\n",
    "#afw_display.scale('linear', min=zmin, max=zmax)\n",
    "afw_display.setImageColormap(cmap='grey')\n",
    "afw_display.mtv(ghost_367)\n",
    "plt.title(\"MC_2024112200367\")\n",
    "plt.gca().axis('off')\n"
   ]
  },
  {
   "cell_type": "code",
   "execution_count": null,
   "id": "44670534-11a4-4fcc-8a60-2f20f203dd37",
   "metadata": {
    "execution": {
     "iopub.status.busy": "2025-04-29T11:32:56.571428Z",
     "iopub.status.idle": "2025-04-29T11:32:56.571574Z",
     "shell.execute_reply": "2025-04-29T11:32:56.571505Z",
     "shell.execute_reply.started": "2025-04-29T11:32:56.571499Z"
    }
   },
   "outputs": [],
   "source": [
    "ghost_292, expos_292 = show_ghosts(\"2024111100292\", binning=8, zmin=500, zmax=2000)"
   ]
  },
  {
   "cell_type": "code",
   "execution_count": null,
   "id": "bfb97f0f-1a6d-437a-b35a-a68e9ef258a2",
   "metadata": {
    "execution": {
     "iopub.status.busy": "2025-04-29T11:32:56.572071Z",
     "iopub.status.idle": "2025-04-29T11:32:56.572228Z",
     "shell.execute_reply": "2025-04-29T11:32:56.572152Z",
     "shell.execute_reply.started": "2025-04-29T11:32:56.572146Z"
    }
   },
   "outputs": [],
   "source": [
    "afwDisplay.setDefaultBackend('matplotlib') \n",
    "fig = plt.figure(figsize=(10,10))\n",
    "afw_display = afwDisplay.Display(1)\n",
    "afw_display.scale('asinh', 'zscale')\n",
    "#afw_display.scale('linear', min=zmin, max=zmax)\n",
    "afw_display.setImageColormap(cmap='grey')\n",
    "afw_display.mtv(ghost_292)\n",
    "plt.title(\"MC_2024112200367\")\n",
    "plt.gca().axis('off')"
   ]
  },
  {
   "cell_type": "code",
   "execution_count": null,
   "id": "7bcb4ac0-5308-4cba-9fbf-e20f33641af4",
   "metadata": {
    "execution": {
     "iopub.status.busy": "2025-04-29T11:32:56.572734Z",
     "iopub.status.idle": "2025-04-29T11:32:56.572895Z",
     "shell.execute_reply": "2025-04-29T11:32:56.572819Z",
     "shell.execute_reply.started": "2025-04-29T11:32:56.572813Z"
    }
   },
   "outputs": [],
   "source": [
    "type(mosaic)"
   ]
  },
  {
   "cell_type": "code",
   "execution_count": null,
   "id": "bc2e7eec-c92a-4a73-8114-bacc5b16f74f",
   "metadata": {
    "execution": {
     "iopub.status.busy": "2025-04-29T11:32:56.573339Z",
     "iopub.status.idle": "2025-04-29T11:32:56.573497Z",
     "shell.execute_reply": "2025-04-29T11:32:56.573419Z",
     "shell.execute_reply.started": "2025-04-29T11:32:56.573412Z"
    }
   },
   "outputs": [],
   "source": [
    "mosaic.getBBox()"
   ]
  },
  {
   "cell_type": "code",
   "execution_count": null,
   "id": "203b02b0-650c-493d-8487-b21000b3546d",
   "metadata": {
    "execution": {
     "iopub.status.busy": "2025-04-29T11:32:56.574061Z",
     "iopub.status.idle": "2025-04-29T11:32:56.574220Z",
     "shell.execute_reply": "2025-04-29T11:32:56.574143Z",
     "shell.execute_reply.started": "2025-04-29T11:32:56.574137Z"
    }
   },
   "outputs": [],
   "source": [
    "expos_292[0].visitInfo.getBoresightRaDec()"
   ]
  },
  {
   "cell_type": "code",
   "execution_count": null,
   "id": "c5dbb798-09ac-4770-864a-088d0d0dcf36",
   "metadata": {
    "execution": {
     "iopub.status.busy": "2025-04-29T11:32:56.574666Z",
     "iopub.status.idle": "2025-04-29T11:32:56.574830Z",
     "shell.execute_reply": "2025-04-29T11:32:56.574752Z",
     "shell.execute_reply.started": "2025-04-29T11:32:56.574740Z"
    }
   },
   "outputs": [],
   "source": [
    "expos_292[0].getMetadata()[\"RA\"]"
   ]
  },
  {
   "cell_type": "code",
   "execution_count": null,
   "id": "4676eef6-c1dc-4a0d-ab37-11c8e444ad56",
   "metadata": {
    "execution": {
     "iopub.status.busy": "2025-04-29T11:32:56.575248Z",
     "iopub.status.idle": "2025-04-29T11:32:56.575406Z",
     "shell.execute_reply": "2025-04-29T11:32:56.575330Z",
     "shell.execute_reply.started": "2025-04-29T11:32:56.575324Z"
    }
   },
   "outputs": [],
   "source": [
    "ghost_292.writeFits(\"ghost_292.fits\", expos_292[0].getMetadata(), \"w\")"
   ]
  },
  {
   "cell_type": "code",
   "execution_count": null,
   "id": "1e7d0566-6efc-4bd6-ae29-ac5e451e5149",
   "metadata": {
    "execution": {
     "iopub.status.busy": "2025-04-29T11:32:56.575687Z",
     "iopub.status.idle": "2025-04-29T11:32:56.575846Z",
     "shell.execute_reply": "2025-04-29T11:32:56.575776Z",
     "shell.execute_reply.started": "2025-04-29T11:32:56.575769Z"
    }
   },
   "outputs": [],
   "source": [
    "ghost_292.getDimensions()"
   ]
  },
  {
   "cell_type": "code",
   "execution_count": null,
   "id": "b9b1be71-13ac-4929-b8b7-86c9002ae1f2",
   "metadata": {
    "execution": {
     "iopub.status.busy": "2025-04-29T11:32:56.576205Z",
     "iopub.status.idle": "2025-04-29T11:32:56.576354Z",
     "shell.execute_reply": "2025-04-29T11:32:56.576280Z",
     "shell.execute_reply.started": "2025-04-29T11:32:56.576273Z"
    }
   },
   "outputs": [],
   "source": [
    "ghost_367.writeFits(\"ghost_367.fits\", expos_367[0].getMetadata(), \"w\")"
   ]
  },
  {
   "cell_type": "code",
   "execution_count": null,
   "id": "74233f63-bf10-40d2-8b82-1f6fd591acd4",
   "metadata": {},
   "outputs": [],
   "source": []
  }
 ],
 "metadata": {
  "kernelspec": {
   "display_name": "LSST",
   "language": "python",
   "name": "lsst"
  },
  "language_info": {
   "codemirror_mode": {
    "name": "ipython",
    "version": 3
   },
   "file_extension": ".py",
   "mimetype": "text/x-python",
   "name": "python",
   "nbconvert_exporter": "python",
   "pygments_lexer": "ipython3",
   "version": "3.12.9"
  }
 },
 "nbformat": 4,
 "nbformat_minor": 5
}
