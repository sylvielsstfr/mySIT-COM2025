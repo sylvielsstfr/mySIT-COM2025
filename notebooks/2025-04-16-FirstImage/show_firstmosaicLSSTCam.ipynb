{
 "cells": [
  {
   "cell_type": "markdown",
   "id": "ba6afc5a-53fe-431e-852b-f90c8cf41c3f",
   "metadata": {},
   "source": [
    "# Access to first Mosaic images of LSSTCam\n",
    "\n",
    "- author : Sylvie Dagoret-Campagne\n",
    "- affiliation : IJCLab/IN2P3/CNRS\n",
    "- member : DESC, rubin-inkind\n",
    "- creation date : 2025-04-16\n",
    "- last update : 2025-04-23\n",
    "- last update : 2025-05-01 : collection_validation = os.path.join(collection_validation,'20250429/w_2025_17/DM-50157') and  better decoding registry"
   ]
  },
  {
   "cell_type": "code",
   "execution_count": null,
   "id": "88e2d190-e737-4311-bde8-552651762e2d",
   "metadata": {
    "execution": {
     "iopub.execute_input": "2025-05-01T19:44:43.981422Z",
     "iopub.status.busy": "2025-05-01T19:44:43.981299Z",
     "iopub.status.idle": "2025-05-01T19:44:45.033294Z",
     "shell.execute_reply": "2025-05-01T19:44:45.032777Z",
     "shell.execute_reply.started": "2025-05-01T19:44:43.981407Z"
    }
   },
   "outputs": [],
   "source": [
    "import sys\n",
    "import matplotlib.pyplot as plt\n",
    "import lsst.afw.display as afwDisplay\n",
    "import numpy as np\n",
    "import pandas as pd\n",
    "from astropy.time import Time\n",
    "#%matplotlib widget"
   ]
  },
  {
   "cell_type": "code",
   "execution_count": null,
   "id": "7038121f-b85c-46bf-a970-5b84186d9a02",
   "metadata": {
    "execution": {
     "iopub.execute_input": "2025-05-01T19:44:45.034092Z",
     "iopub.status.busy": "2025-05-01T19:44:45.033774Z",
     "iopub.status.idle": "2025-05-01T19:44:45.036548Z",
     "shell.execute_reply": "2025-05-01T19:44:45.036225Z",
     "shell.execute_reply.started": "2025-05-01T19:44:45.034074Z"
    }
   },
   "outputs": [],
   "source": [
    "import traceback"
   ]
  },
  {
   "cell_type": "code",
   "execution_count": null,
   "id": "dc92bf92-c15d-4076-94fe-a59a9352c9d5",
   "metadata": {
    "execution": {
     "iopub.execute_input": "2025-05-01T19:44:45.037075Z",
     "iopub.status.busy": "2025-05-01T19:44:45.036943Z",
     "iopub.status.idle": "2025-05-01T19:44:45.046615Z",
     "shell.execute_reply": "2025-05-01T19:44:45.046302Z",
     "shell.execute_reply.started": "2025-05-01T19:44:45.037062Z"
    }
   },
   "outputs": [],
   "source": [
    "sys.path.append(\"../libs\")"
   ]
  },
  {
   "cell_type": "code",
   "execution_count": null,
   "id": "ef980f87-544e-4217-92b8-9914e18d9b58",
   "metadata": {
    "execution": {
     "iopub.execute_input": "2025-05-01T19:44:45.047188Z",
     "iopub.status.busy": "2025-05-01T19:44:45.047052Z",
     "iopub.status.idle": "2025-05-01T19:44:45.061135Z",
     "shell.execute_reply": "2025-05-01T19:44:45.060830Z",
     "shell.execute_reply.started": "2025-05-01T19:44:45.047175Z"
    }
   },
   "outputs": [],
   "source": [
    "from conversion import detector,rafts,ccds, dict_detector"
   ]
  },
  {
   "cell_type": "code",
   "execution_count": null,
   "id": "768e8c54-4fd1-4c54-927c-89e2bd690706",
   "metadata": {
    "execution": {
     "iopub.execute_input": "2025-05-01T19:44:45.061639Z",
     "iopub.status.busy": "2025-05-01T19:44:45.061510Z",
     "iopub.status.idle": "2025-05-01T19:44:45.124205Z",
     "shell.execute_reply": "2025-05-01T19:44:45.123837Z",
     "shell.execute_reply.started": "2025-05-01T19:44:45.061626Z"
    }
   },
   "outputs": [],
   "source": [
    "afwDisplay.setDefaultBackend(\"firefly\")"
   ]
  },
  {
   "cell_type": "code",
   "execution_count": null,
   "id": "71da93ff-4198-4a5f-a0d3-0a3c68afc5d7",
   "metadata": {
    "execution": {
     "iopub.execute_input": "2025-05-01T19:44:45.125106Z",
     "iopub.status.busy": "2025-05-01T19:44:45.124648Z",
     "iopub.status.idle": "2025-05-01T19:44:45.127383Z",
     "shell.execute_reply": "2025-05-01T19:44:45.127091Z",
     "shell.execute_reply.started": "2025-05-01T19:44:45.125089Z"
    }
   },
   "outputs": [],
   "source": [
    "plt.rcParams[\"figure.figsize\"] = (10,6)\n",
    "plt.rcParams[\"axes.labelsize\"] = 'x-large'\n",
    "plt.rcParams['axes.titlesize'] = 'x-large'\n",
    "plt.rcParams['xtick.labelsize']= 'x-large'\n",
    "plt.rcParams['ytick.labelsize']= 'x-large'"
   ]
  },
  {
   "cell_type": "code",
   "execution_count": null,
   "id": "aeba9493-3c72-4e21-8c41-6c46602bd145",
   "metadata": {
    "editable": true,
    "execution": {
     "iopub.execute_input": "2025-05-01T19:44:45.128017Z",
     "iopub.status.busy": "2025-05-01T19:44:45.127890Z",
     "iopub.status.idle": "2025-05-01T19:44:45.136078Z",
     "shell.execute_reply": "2025-05-01T19:44:45.135734Z",
     "shell.execute_reply.started": "2025-05-01T19:44:45.128004Z"
    },
    "slideshow": {
     "slide_type": ""
    },
    "tags": []
   },
   "outputs": [],
   "source": [
    "def displayExposure(exposure,title=None):\n",
    "    afwDisplay.setDefaultBackend('matplotlib') \n",
    "    afwDisplay.setImageColormap(cmap='gray')\n",
    "    fig = plt.figure(figsize=(10,10))\n",
    "    afw_display = afwDisplay.Display(1)\n",
    "    afw_display.scale('asinh', 'zscale')\n",
    "    afw_display.mtv(exposure.getImage())\n",
    "    plt.title(title)\n",
    "    plt.gca().axis('off')\n",
    "    return afw_display\n",
    "\n",
    "def displayImage(image,title=None):\n",
    "    afwDisplay.setDefaultBackend('matplotlib') \n",
    "    fig = plt.figure(figsize=(10,10))\n",
    "    afw_display = afwDisplay.Display(1)\n",
    "    afw_display.scale('asinh', 'zscale')\n",
    "    #afw_display.scale('linear', min=-5, max=10)\n",
    "    afw_display.setImageColormap(cmap='plasma')\n",
    "    afw_display.mtv(image)\n",
    "    plt.title(title)\n",
    "    plt.gca().axis('off')\n",
    "    return afw_display\n",
    "    \n",
    "def displayImageGhosts(image, zmin=0, zmax=5000, title=None):\n",
    "    afwDisplay.setDefaultBackend('matplotlib') \n",
    "    fig = plt.figure(figsize=(10,10))\n",
    "    afw_display = afwDisplay.Display(1)\n",
    "    #afw_display.scale('asinh', 'zscale')\n",
    "    afw_display.scale('linear', min=zmin, max=zmax)\n",
    "    afw_display.setImageColormap(cmap='plasma')\n",
    "    afw_display.mtv(image)\n",
    "    plt.title(title)\n",
    "    plt.gca().axis('off')\n",
    "    return afw_display    "
   ]
  },
  {
   "cell_type": "markdown",
   "id": "69d3e70b-b824-4ab9-a220-228956839a01",
   "metadata": {},
   "source": [
    "## RubinTV, Campaigns , quicklook\n",
    "- RubinTV : https://usdf-rsp.slac.stanford.edu/rubintv/summit-usdf/lsstcam\n",
    "- https://rubinobs.atlassian.net/wiki/spaces/LSSTCOM/pages/467370016/LSSTCam+Commissioning+Planning\n",
    "- LSSTCam DM campaign : https://rubinobs.atlassian.net/wiki/spaces/DM/pages/48834013/Campaigns#1.1.2.-LSSTCam-Nightly-Validation-Pipeline\n",
    "- Check campaign also here  https://rubinobs.atlassian.net/wiki/pages/diffpagesbyversion.action?pageId=48834013&selectedPageVersions=145%2C143\n",
    "- fov-quicklook : https://usdf-rsp-dev.slac.stanford.edu/fov-quicklook/"
   ]
  },
  {
   "cell_type": "markdown",
   "id": "da3e7186-88c4-4689-985d-a600fb219aed",
   "metadata": {},
   "source": [
    "Existing collections:\n",
    "\n",
    "    LSSTCam/runs/nightlyValidation/20250416/d_2025_04_15/DM-50157\n",
    "    LSSTCam/runs/nightlyValidation/20250415/d_2025_04_15/DM-50157"
   ]
  },
  {
   "cell_type": "markdown",
   "id": "5d4421a4-9ad2-499b-9b7f-758cddf393c1",
   "metadata": {},
   "source": [
    "## Configuration"
   ]
  },
  {
   "cell_type": "markdown",
   "id": "1a0c3eeb-33ab-4a5a-a693-d7f80111599c",
   "metadata": {},
   "source": [
    "### Butler and collection"
   ]
  },
  {
   "cell_type": "code",
   "execution_count": null,
   "id": "77e49928-fd2d-4c16-9a7d-b79c75e0a3f7",
   "metadata": {
    "execution": {
     "iopub.execute_input": "2025-05-01T19:44:45.136560Z",
     "iopub.status.busy": "2025-05-01T19:44:45.136437Z",
     "iopub.status.idle": "2025-05-01T19:44:46.104093Z",
     "shell.execute_reply": "2025-05-01T19:44:46.103533Z",
     "shell.execute_reply.started": "2025-05-01T19:44:45.136547Z"
    }
   },
   "outputs": [],
   "source": [
    "# Define butler\n",
    "from lsst.daf.butler import Butler\n",
    "\n",
    "repo = '/repo/embargo'\n",
    "instrument = 'LSSTCam'\n",
    "collection_validation  = instrument + '/runs/nightlyValidation'\n",
    "collection_quicklook   = instrument + '/runs/quickLookTesting'\n",
    "date_start = 20250415\n",
    "date_selection = 20250416\n",
    "where_clause = \"instrument = \\'\" + f\"{instrument}\" +\"\\'\"\n",
    "where_clause_date = where_clause + f\"and day_obs >= {date_start}\"\n",
    "skymap_name = \"lsst_cells_v1\""
   ]
  },
  {
   "cell_type": "markdown",
   "id": "91105843-64e0-4582-a883-fdab2ea9adbd",
   "metadata": {},
   "source": [
    "### Update the collection"
   ]
  },
  {
   "cell_type": "code",
   "execution_count": null,
   "id": "40aa953d-ea9f-4ad5-ac2b-3927ec0d6f0d",
   "metadata": {
    "execution": {
     "iopub.execute_input": "2025-05-01T19:44:46.104674Z",
     "iopub.status.busy": "2025-05-01T19:44:46.104528Z",
     "iopub.status.idle": "2025-05-01T19:44:46.107128Z",
     "shell.execute_reply": "2025-05-01T19:44:46.106764Z",
     "shell.execute_reply.started": "2025-05-01T19:44:46.104658Z"
    }
   },
   "outputs": [],
   "source": [
    "#collection_validation = os.path.join(collection_validation,'20250416/d_2025_04_15/DM-50157') \n",
    "collection_validation = os.path.join(collection_validation,'20250429/w_2025_17/DM-50157')"
   ]
  },
  {
   "cell_type": "code",
   "execution_count": null,
   "id": "b1db879d-7208-49a9-b438-6e7e36ee3224",
   "metadata": {
    "execution": {
     "iopub.execute_input": "2025-05-01T19:44:46.107662Z",
     "iopub.status.busy": "2025-05-01T19:44:46.107527Z",
     "iopub.status.idle": "2025-05-01T19:44:46.833908Z",
     "shell.execute_reply": "2025-05-01T19:44:46.833336Z",
     "shell.execute_reply.started": "2025-05-01T19:44:46.107648Z"
    }
   },
   "outputs": [],
   "source": [
    "butler = Butler(repo,collections=collection_validation)\n",
    "registry = butler.registry"
   ]
  },
  {
   "cell_type": "markdown",
   "id": "79a83e38-e04d-48f5-a9d2-4e639facb61c",
   "metadata": {},
   "source": [
    "### Collections in the butler"
   ]
  },
  {
   "cell_type": "code",
   "execution_count": null,
   "id": "78720f4d-d4c0-4367-a9c9-a8a974c9f7ca",
   "metadata": {
    "execution": {
     "iopub.execute_input": "2025-05-01T19:44:46.834652Z",
     "iopub.status.busy": "2025-05-01T19:44:46.834498Z",
     "iopub.status.idle": "2025-05-01T19:44:47.234271Z",
     "shell.execute_reply": "2025-05-01T19:44:47.233828Z",
     "shell.execute_reply.started": "2025-05-01T19:44:46.834634Z"
    }
   },
   "outputs": [],
   "source": [
    "sorted(registry.queryCollections(expression = instrument+\"/*\"))"
   ]
  },
  {
   "cell_type": "markdown",
   "id": "a8921a93-98a9-480e-9221-a6aaaa07b81a",
   "metadata": {},
   "source": [
    "## Select the Instrument and observation date"
   ]
  },
  {
   "cell_type": "code",
   "execution_count": null,
   "id": "d0456a3e-e17b-4fb8-b297-9732453519ae",
   "metadata": {
    "execution": {
     "iopub.execute_input": "2025-05-01T19:44:47.234966Z",
     "iopub.status.busy": "2025-05-01T19:44:47.234812Z",
     "iopub.status.idle": "2025-05-01T19:44:47.237523Z",
     "shell.execute_reply": "2025-05-01T19:44:47.237151Z",
     "shell.execute_reply.started": "2025-05-01T19:44:47.234950Z"
    }
   },
   "outputs": [],
   "source": [
    "import warnings\n",
    "with warnings.catch_warnings():\n",
    "    warnings.simplefilter(\"ignore\", category=FutureWarning)"
   ]
  },
  {
   "cell_type": "code",
   "execution_count": null,
   "id": "f442004f-2832-4d06-94d0-1a5ab4e0781f",
   "metadata": {
    "execution": {
     "iopub.execute_input": "2025-05-01T19:44:47.238079Z",
     "iopub.status.busy": "2025-05-01T19:44:47.237946Z",
     "iopub.status.idle": "2025-05-01T19:44:47.245393Z",
     "shell.execute_reply": "2025-05-01T19:44:47.245024Z",
     "shell.execute_reply.started": "2025-05-01T19:44:47.238065Z"
    }
   },
   "outputs": [],
   "source": [
    "collection = collection_validation \n",
    "where_clause = \"instrument = \\'LSSTCam\\' and day_obs >= 20250415\""
   ]
  },
  {
   "cell_type": "code",
   "execution_count": null,
   "id": "03ccffed-d9a2-45bb-80da-037a82039159",
   "metadata": {
    "execution": {
     "iopub.execute_input": "2025-05-01T19:44:47.245971Z",
     "iopub.status.busy": "2025-05-01T19:44:47.245834Z",
     "iopub.status.idle": "2025-05-01T19:44:47.412727Z",
     "shell.execute_reply": "2025-05-01T19:44:47.412257Z",
     "shell.execute_reply.started": "2025-05-01T19:44:47.245957Z"
    }
   },
   "outputs": [],
   "source": [
    "butler = Butler(repo,collections=collection)\n",
    "registry = butler.registry"
   ]
  },
  {
   "cell_type": "code",
   "execution_count": null,
   "id": "b7d642ca-8f02-4a70-87c4-5d83c286e9fa",
   "metadata": {
    "execution": {
     "iopub.execute_input": "2025-05-01T19:44:47.413554Z",
     "iopub.status.busy": "2025-05-01T19:44:47.413299Z",
     "iopub.status.idle": "2025-05-01T19:44:47.416399Z",
     "shell.execute_reply": "2025-05-01T19:44:47.416010Z",
     "shell.execute_reply.started": "2025-05-01T19:44:47.413537Z"
    }
   },
   "outputs": [],
   "source": [
    "print(butler.registry.dimensions[\"exposure\"].RecordClass.fields)"
   ]
  },
  {
   "cell_type": "markdown",
   "id": "cd74c2a6-799d-493b-85da-f7460b0d11d9",
   "metadata": {},
   "source": [
    "## Dump registry into a pandas dataframe"
   ]
  },
  {
   "cell_type": "markdown",
   "id": "b7d73f12-d77d-4e29-aa30-6e8d9fd82506",
   "metadata": {},
   "source": [
    "- Faster method to decode the registry in pandas dataframe : first save deconded filed into a list of fields and then flush the whole list in pandas instead of row by row\n",
    "- Be carefull the registry variable change in name and type perhaps depending on DM_version"
   ]
  },
  {
   "cell_type": "code",
   "execution_count": null,
   "id": "bb4a0d2a-cb68-4fb2-866a-d3be588a14a2",
   "metadata": {
    "execution": {
     "iopub.execute_input": "2025-05-01T19:44:47.417181Z",
     "iopub.status.busy": "2025-05-01T19:44:47.416853Z",
     "iopub.status.idle": "2025-05-01T19:44:47.426495Z",
     "shell.execute_reply": "2025-05-01T19:44:47.426125Z",
     "shell.execute_reply.started": "2025-05-01T19:44:47.417166Z"
    }
   },
   "outputs": [],
   "source": [
    "where_clause_date"
   ]
  },
  {
   "cell_type": "code",
   "execution_count": null,
   "id": "f463d25c-b14d-402b-9944-4e5d06bd79c7",
   "metadata": {
    "execution": {
     "iopub.execute_input": "2025-05-01T19:44:47.427014Z",
     "iopub.status.busy": "2025-05-01T19:44:47.426885Z",
     "iopub.status.idle": "2025-05-01T19:44:47.432537Z",
     "shell.execute_reply": "2025-05-01T19:44:47.432152Z",
     "shell.execute_reply.started": "2025-05-01T19:44:47.427001Z"
    }
   },
   "outputs": [],
   "source": [
    "columns=['id', 'obs_id','day_obs', 'seq_num','time_start','time_end' ,'type', 'target','filter','zenith_angle','expos','ra','dec','skyangle','azimuth','zenith','science_program','jd','mjd']"
   ]
  },
  {
   "cell_type": "code",
   "execution_count": null,
   "id": "d89ce385-c509-462e-856f-705be9bd786f",
   "metadata": {
    "execution": {
     "iopub.execute_input": "2025-05-01T19:44:47.433089Z",
     "iopub.status.busy": "2025-05-01T19:44:47.432960Z",
     "iopub.status.idle": "2025-05-01T19:44:47.443091Z",
     "shell.execute_reply": "2025-05-01T19:44:47.442627Z",
     "shell.execute_reply.started": "2025-05-01T19:44:47.433075Z"
    }
   },
   "outputs": [],
   "source": [
    "df_exposure = pd.DataFrame({\n",
    "    'id': pd.Series(dtype='int'),\n",
    "    'obs_id': pd.Series(dtype='int'),\n",
    "    'day_obs': pd.Series(dtype='int'),\n",
    "    'seq_num': pd.Series(dtype='int'),\n",
    "    'time_start': pd.Series(dtype='str'),  # ou 'datetime64[ns]' si c’est un datetime\n",
    "    'time_end': pd.Series(dtype='str'),    # idem\n",
    "    'type': pd.Series(dtype='str'),\n",
    "    'target': pd.Series(dtype='str'),\n",
    "    'filter': pd.Series(dtype='str'),\n",
    "    'zenith_angle': pd.Series(dtype='float'),\n",
    "    'expos': pd.Series(dtype='float'),     # ou 'int' selon le cas\n",
    "    'ra': pd.Series(dtype='float'),\n",
    "    'dec': pd.Series(dtype='float'),\n",
    "    'skyangle': pd.Series(dtype='float'),\n",
    "    'azimuth': pd.Series(dtype='float'),\n",
    "    'zenith': pd.Series(dtype='float'),\n",
    "    'science_program': pd.Series(dtype='str'),\n",
    "    'jd': pd.Series(dtype='float'),\n",
    "    'mjd': pd.Series(dtype='float'),\n",
    "})"
   ]
  },
  {
   "cell_type": "code",
   "execution_count": null,
   "id": "26da3754-27ca-4e25-a61c-7b3dfd08bc2d",
   "metadata": {
    "execution": {
     "iopub.execute_input": "2025-05-01T19:44:47.443667Z",
     "iopub.status.busy": "2025-05-01T19:44:47.443537Z",
     "iopub.status.idle": "2025-05-01T19:44:51.704807Z",
     "shell.execute_reply": "2025-05-01T19:44:51.704335Z",
     "shell.execute_reply.started": "2025-05-01T19:44:47.443654Z"
    }
   },
   "outputs": [],
   "source": [
    "# save the data array in rows before saving in pandas dataframe\n",
    "rows  = []\n",
    "for count, info in enumerate(registry.queryDimensionRecords('exposure',where= where_clause_date)):\n",
    "    try:\n",
    "        jd_start = info.timespan.begin.value\n",
    "        jd_end = info.timespan.end.value\n",
    "        the_Time_start = Time(jd_start,format=\"jd\",scale=\"utc\")\n",
    "        the_Time_end = Time(jd_end,format=\"jd\",scale=\"utc\")\n",
    "        mjd_start = the_Time_start.mjd\n",
    "        mjd_end = the_Time_end.mjd\n",
    "        isot_start = the_Time_start.isot\n",
    "        isot_end = the_Time_end.isot\n",
    "\n",
    "        if count <10:\n",
    "            print(\"===== Time Conversion Debug Info =====\")\n",
    "            print(f\"JD start      : {jd_start} (type: {type(jd_start)})\")\n",
    "            print(f\"JD end        : {jd_end} (type: {type(jd_end)})\")\n",
    "            print(f\"MJD start     : {mjd_start} (type: {type(mjd_start)})\")\n",
    "            print(f\"MJD end       : {mjd_end} (type: {type(mjd_end)})\")\n",
    "            print(f\"ISOT start    : {isot_start} (type: {type(isot_start)})\")\n",
    "            print(f\"ISOT end      : {isot_end} (type: {type(isot_end)})\")\n",
    "            print(\"=======================================\")\n",
    "\n",
    "        # put row in a dictionnary before stacking \n",
    "        row = {\n",
    "        'id': info.id,\n",
    "        'obs_id': info.obs_id,\n",
    "        'day_obs': info.day_obs,\n",
    "        'seq_num': info.seq_num,\n",
    "            \n",
    "        'time_start': isot_start,\n",
    "        'time_end': isot_end,\n",
    "            \n",
    "        'type': info.observation_type,\n",
    "        'target': info.target_name,\n",
    "            \n",
    "        'filter': info.physical_filter,\n",
    "        'zenith_angle': info.zenith_angle,\n",
    "        'expos': info.exposure_time,       # Exemple : adapter selon ton objet\n",
    "        'ra': info.tracking_ra,\n",
    "        'dec': info.tracking_dec,\n",
    "        'skyangle': info.sky_angle,\n",
    "        'azimuth': info.azimuth,\n",
    "        'zenith': info.zenith_angle,\n",
    "        'science_program': info.science_program,\n",
    "            \n",
    "        'jd': float(jd_start),\n",
    "        'mjd':  float(mjd_start)\n",
    "        }\n",
    "        rows.append(row)\n",
    "\n",
    " \n",
    "    except ValueError as e:\n",
    "        print(f\"Erreur de valeur : {e}\")\n",
    "    except FileNotFoundError as e:\n",
    "        print(f\"Fichier introuvable : {e}\")\n",
    "    except Exception as e:\n",
    "        print(f\"Erreur inattendue : {type(e).__name__} - {e}\")\n",
    "        print(f\">>>   Unexpected error at row {count}:\", sys.exc_info()[0])\n",
    "        traceback.print_exc()  # affiche la stack trace complète\n"
   ]
  },
  {
   "cell_type": "code",
   "execution_count": null,
   "id": "bf75977d-0e00-4f00-9fb1-f8f662ca2331",
   "metadata": {
    "execution": {
     "iopub.execute_input": "2025-05-01T19:44:51.705536Z",
     "iopub.status.busy": "2025-05-01T19:44:51.705394Z",
     "iopub.status.idle": "2025-05-01T19:44:51.729064Z",
     "shell.execute_reply": "2025-05-01T19:44:51.728520Z",
     "shell.execute_reply.started": "2025-05-01T19:44:51.705521Z"
    }
   },
   "outputs": [],
   "source": [
    "# Création finale du DataFrame\n",
    "df_exposure = pd.DataFrame(rows)"
   ]
  },
  {
   "cell_type": "markdown",
   "id": "2999152b-f0e5-46de-96ce-9da40515d1be",
   "metadata": {},
   "source": [
    "## Select science exposures"
   ]
  },
  {
   "cell_type": "code",
   "execution_count": null,
   "id": "2e00ff54-7276-461f-b1c5-ac970a8e179d",
   "metadata": {
    "execution": {
     "iopub.execute_input": "2025-05-01T19:44:51.732715Z",
     "iopub.status.busy": "2025-05-01T19:44:51.732501Z",
     "iopub.status.idle": "2025-05-01T19:44:51.737092Z",
     "shell.execute_reply": "2025-05-01T19:44:51.736690Z",
     "shell.execute_reply.started": "2025-05-01T19:44:51.732699Z"
    }
   },
   "outputs": [],
   "source": [
    "df_science = df_exposure[df_exposure.type == 'science']\n",
    "df_science.reset_index(drop=True, inplace=True)"
   ]
  },
  {
   "cell_type": "code",
   "execution_count": null,
   "id": "f9f219d2-eb11-48c6-8cdd-1d5ac88477cc",
   "metadata": {
    "execution": {
     "iopub.execute_input": "2025-05-01T19:44:51.737863Z",
     "iopub.status.busy": "2025-05-01T19:44:51.737527Z",
     "iopub.status.idle": "2025-05-01T19:44:51.755637Z",
     "shell.execute_reply": "2025-05-01T19:44:51.755279Z",
     "shell.execute_reply.started": "2025-05-01T19:44:51.737849Z"
    }
   },
   "outputs": [],
   "source": [
    "df_science"
   ]
  },
  {
   "cell_type": "code",
   "execution_count": null,
   "id": "9ce0d04f-235a-49a4-bcc2-0c774cd4e898",
   "metadata": {
    "execution": {
     "iopub.execute_input": "2025-05-01T19:44:51.756271Z",
     "iopub.status.busy": "2025-05-01T19:44:51.756138Z",
     "iopub.status.idle": "2025-05-01T19:44:51.865188Z",
     "shell.execute_reply": "2025-05-01T19:44:51.864780Z",
     "shell.execute_reply.started": "2025-05-01T19:44:51.756258Z"
    }
   },
   "outputs": [],
   "source": [
    "fig,ax = plt.subplots(1,1,figsize=(8,4))\n",
    "df_science.expos.hist(ax=ax)"
   ]
  },
  {
   "cell_type": "code",
   "execution_count": null,
   "id": "d1e05608-9580-4401-a303-f4648f3203a7",
   "metadata": {
    "execution": {
     "iopub.execute_input": "2025-05-01T19:44:51.865851Z",
     "iopub.status.busy": "2025-05-01T19:44:51.865706Z",
     "iopub.status.idle": "2025-05-01T19:44:51.868058Z",
     "shell.execute_reply": "2025-05-01T19:44:51.867642Z",
     "shell.execute_reply.started": "2025-05-01T19:44:51.865837Z"
    }
   },
   "outputs": [],
   "source": [
    "#df_science = df_science[df_science.expos>=15]"
   ]
  },
  {
   "cell_type": "code",
   "execution_count": null,
   "id": "d1c43a31-24e0-4f48-baa5-604e8a512e3d",
   "metadata": {
    "execution": {
     "iopub.execute_input": "2025-05-01T19:44:51.868766Z",
     "iopub.status.busy": "2025-05-01T19:44:51.868490Z",
     "iopub.status.idle": "2025-05-01T19:44:51.876728Z",
     "shell.execute_reply": "2025-05-01T19:44:51.876368Z",
     "shell.execute_reply.started": "2025-05-01T19:44:51.868752Z"
    }
   },
   "outputs": [],
   "source": [
    "df_science.reset_index(drop=True,inplace=True)"
   ]
  },
  {
   "cell_type": "code",
   "execution_count": null,
   "id": "8d1482eb-d7cc-46a0-b35b-eb688740f36b",
   "metadata": {
    "execution": {
     "iopub.execute_input": "2025-05-01T19:44:51.877384Z",
     "iopub.status.busy": "2025-05-01T19:44:51.877254Z",
     "iopub.status.idle": "2025-05-01T19:44:51.893005Z",
     "shell.execute_reply": "2025-05-01T19:44:51.892597Z",
     "shell.execute_reply.started": "2025-05-01T19:44:51.877372Z"
    }
   },
   "outputs": [],
   "source": [
    "df_science"
   ]
  },
  {
   "cell_type": "code",
   "execution_count": null,
   "id": "43b40982-33e1-4a9a-8326-a0a44cfc69c9",
   "metadata": {
    "execution": {
     "iopub.execute_input": "2025-05-01T19:44:51.893567Z",
     "iopub.status.busy": "2025-05-01T19:44:51.893437Z",
     "iopub.status.idle": "2025-05-01T19:44:51.901374Z",
     "shell.execute_reply": "2025-05-01T19:44:51.901000Z",
     "shell.execute_reply.started": "2025-05-01T19:44:51.893554Z"
    }
   },
   "outputs": [],
   "source": [
    "id_min = df_science_id_min = df_science.id.min()\n",
    "id_max = df_science_id_max = df_science.id.max()"
   ]
  },
  {
   "cell_type": "code",
   "execution_count": null,
   "id": "fff36b1c-0364-470f-b99a-6dad875a7ef9",
   "metadata": {
    "execution": {
     "iopub.execute_input": "2025-05-01T19:44:51.902018Z",
     "iopub.status.busy": "2025-05-01T19:44:51.901888Z",
     "iopub.status.idle": "2025-05-01T19:44:51.907969Z",
     "shell.execute_reply": "2025-05-01T19:44:51.907558Z",
     "shell.execute_reply.started": "2025-05-01T19:44:51.902006Z"
    }
   },
   "outputs": [],
   "source": [
    "#! pip install --user openpyxl"
   ]
  },
  {
   "cell_type": "code",
   "execution_count": null,
   "id": "ca308ac6-8610-47d2-ba40-b6b7ff63c024",
   "metadata": {
    "execution": {
     "iopub.execute_input": "2025-05-01T19:44:51.908566Z",
     "iopub.status.busy": "2025-05-01T19:44:51.908418Z",
     "iopub.status.idle": "2025-05-01T19:44:51.939013Z",
     "shell.execute_reply": "2025-05-01T19:44:51.938547Z",
     "shell.execute_reply.started": "2025-05-01T19:44:51.908549Z"
    }
   },
   "outputs": [],
   "source": [
    "output_file_csv = f\"lsstcam_lgb_{id_min}-{id_max}.csv\"\n",
    "output_file_xlsx = f\"lsstcam_lgb_{id_min}-{id_max}.xlsx\"\n",
    "df_science.to_csv(output_file_csv)\n",
    "#df_science.to_excel(output_file_xlsx)"
   ]
  },
  {
   "cell_type": "markdown",
   "id": "af17b971-adf9-4ded-9bb4-b3f892d3e517",
   "metadata": {},
   "source": [
    "## Dataset type"
   ]
  },
  {
   "cell_type": "code",
   "execution_count": null,
   "id": "69f4de9c-e960-44fc-806a-a1cc60b1e712",
   "metadata": {
    "execution": {
     "iopub.execute_input": "2025-05-01T19:44:51.939768Z",
     "iopub.status.busy": "2025-05-01T19:44:51.939633Z",
     "iopub.status.idle": "2025-05-01T19:45:33.397671Z",
     "shell.execute_reply": "2025-05-01T19:45:33.397134Z",
     "shell.execute_reply.started": "2025-05-01T19:44:51.939755Z"
    }
   },
   "outputs": [],
   "source": [
    "for datasetType in registry.queryDatasetTypes():\n",
    "    if registry.queryDatasets(datasetType, collections=collection).any(execute=False, exact=False):\n",
    "        # Limit search results to the data products\n",
    "        if ('_config' not in datasetType.name) and ('_log' not in datasetType.name) and ('_metadata' not in datasetType.name) and ('_resource_usage' not in datasetType.name):\n",
    "            print(datasetType)"
   ]
  },
  {
   "cell_type": "code",
   "execution_count": null,
   "id": "90ebd85b-ea52-4679-872a-9835fe09b2f4",
   "metadata": {
    "execution": {
     "iopub.execute_input": "2025-05-01T19:45:33.398391Z",
     "iopub.status.busy": "2025-05-01T19:45:33.398247Z",
     "iopub.status.idle": "2025-05-01T19:46:03.841490Z",
     "shell.execute_reply": "2025-05-01T19:46:03.840947Z",
     "shell.execute_reply.started": "2025-05-01T19:45:33.398377Z"
    }
   },
   "outputs": [],
   "source": [
    "dataProduct = 'preliminary_visit_image'\n",
    "datasetRefs = list(butler.registry.queryDatasets(dataProduct,where=where_clause_date))"
   ]
  },
  {
   "cell_type": "code",
   "execution_count": null,
   "id": "03dc5310-e424-4910-b219-8082441b6486",
   "metadata": {
    "execution": {
     "iopub.execute_input": "2025-05-01T19:46:03.842161Z",
     "iopub.status.busy": "2025-05-01T19:46:03.842019Z",
     "iopub.status.idle": "2025-05-01T19:46:03.845341Z",
     "shell.execute_reply": "2025-05-01T19:46:03.844982Z",
     "shell.execute_reply.started": "2025-05-01T19:46:03.842146Z"
    }
   },
   "outputs": [],
   "source": [
    "len(datasetRefs)"
   ]
  },
  {
   "cell_type": "code",
   "execution_count": null,
   "id": "c33172b5-ea20-4f5c-90e5-f2805ecd1b5c",
   "metadata": {
    "execution": {
     "iopub.execute_input": "2025-05-01T19:46:03.845985Z",
     "iopub.status.busy": "2025-05-01T19:46:03.845857Z",
     "iopub.status.idle": "2025-05-01T19:46:03.855130Z",
     "shell.execute_reply": "2025-05-01T19:46:03.854767Z",
     "shell.execute_reply.started": "2025-05-01T19:46:03.845973Z"
    }
   },
   "outputs": [],
   "source": [
    "all_selected_visit = df_science.id.values\n",
    "all_selected_visit = sorted(all_selected_visit)\n",
    "print(all_selected_visit)"
   ]
  },
  {
   "cell_type": "markdown",
   "id": "3b0e5b73-aa1a-4f74-b2b2-c2041a5cc811",
   "metadata": {},
   "source": [
    "> I was just poking around at images, and the following dataId has some really nice nebulosity:\n",
    "> preliminary_visit_image@{instrument: 'LSSTCam', detector: 71, visit: 2025041500268, band: 'i', day_obs: 20250415, physical_filter: 'i_39'} [sc=ExposureF] (run=LSSTCam/runs/nightlyValidation/12 id=6695e83d-a251-440f-87c5-c85b5471b3ac)"
   ]
  },
  {
   "cell_type": "code",
   "execution_count": null,
   "id": "6bb60d7d-823d-48d5-9daf-df37d90faf80",
   "metadata": {
    "execution": {
     "iopub.execute_input": "2025-05-01T19:46:03.855686Z",
     "iopub.status.busy": "2025-05-01T19:46:03.855560Z",
     "iopub.status.idle": "2025-05-01T19:46:03.861585Z",
     "shell.execute_reply": "2025-05-01T19:46:03.861244Z",
     "shell.execute_reply.started": "2025-05-01T19:46:03.855674Z"
    }
   },
   "outputs": [],
   "source": [
    "#the_selected_visit = all_selected_visit[3]\n",
    "#the_selected_visit = 2025041500268\n",
    "#the_selected_detector = 71\n",
    "#title = f\"dataProduct  v={the_selected_visit} d={the_selected_detector}\""
   ]
  },
  {
   "cell_type": "code",
   "execution_count": null,
   "id": "4d4ecf1a-94ae-4952-b2ae-6efa2430e495",
   "metadata": {
    "execution": {
     "iopub.execute_input": "2025-05-01T19:46:03.862287Z",
     "iopub.status.busy": "2025-05-01T19:46:03.862032Z",
     "iopub.status.idle": "2025-05-01T19:46:03.872114Z",
     "shell.execute_reply": "2025-05-01T19:46:03.871697Z",
     "shell.execute_reply.started": "2025-05-01T19:46:03.862272Z"
    }
   },
   "outputs": [],
   "source": [
    "#the_selected_visit = all_selected_visit[3]\n",
    "#the_selected_visit = 2025041700817\n",
    "#the_selected_visit = 2025042200389\n",
    "the_selected_visit = 2025042200451\n",
    "the_selected_detector = 71\n",
    "title = f\"dataProduct  v={the_selected_visit} d={the_selected_detector}\""
   ]
  },
  {
   "cell_type": "markdown",
   "id": "08c7b817-1a0f-4cb2-b213-f350b713b625",
   "metadata": {},
   "source": [
    "## Select a Raft\n",
    "![title](figs/LSSTCam_fp_layout.png)"
   ]
  },
  {
   "cell_type": "code",
   "execution_count": null,
   "id": "d13390e1-fa02-4113-aa06-83f2eed8f652",
   "metadata": {
    "execution": {
     "iopub.execute_input": "2025-05-01T19:46:03.872705Z",
     "iopub.status.busy": "2025-05-01T19:46:03.872579Z",
     "iopub.status.idle": "2025-05-01T19:46:03.878963Z",
     "shell.execute_reply": "2025-05-01T19:46:03.878596Z",
     "shell.execute_reply.started": "2025-05-01T19:46:03.872693Z"
    }
   },
   "outputs": [],
   "source": [
    "def getDetectorfromRaft(raft):\n",
    "    all_det = []\n",
    "    for ccd in ccds:\n",
    "        _,det = detector(raft,ccd)\n",
    "        all_det.append(det)\n",
    "    return all_det"
   ]
  },
  {
   "cell_type": "code",
   "execution_count": null,
   "id": "3a01874c-7a98-442c-9d12-f2e12dd2f317",
   "metadata": {
    "execution": {
     "iopub.execute_input": "2025-05-01T19:46:03.879676Z",
     "iopub.status.busy": "2025-05-01T19:46:03.879549Z",
     "iopub.status.idle": "2025-05-01T19:46:03.887906Z",
     "shell.execute_reply": "2025-05-01T19:46:03.887476Z",
     "shell.execute_reply.started": "2025-05-01T19:46:03.879664Z"
    }
   },
   "outputs": [],
   "source": [
    "print(rafts)"
   ]
  },
  {
   "cell_type": "code",
   "execution_count": null,
   "id": "65c4f9cd-62e5-459d-89cf-560b6578746a",
   "metadata": {
    "execution": {
     "iopub.execute_input": "2025-05-01T19:46:03.888474Z",
     "iopub.status.busy": "2025-05-01T19:46:03.888348Z",
     "iopub.status.idle": "2025-05-01T19:46:03.895523Z",
     "shell.execute_reply": "2025-05-01T19:46:03.895160Z",
     "shell.execute_reply.started": "2025-05-01T19:46:03.888462Z"
    }
   },
   "outputs": [],
   "source": [
    "print(ccds)"
   ]
  },
  {
   "cell_type": "code",
   "execution_count": null,
   "id": "de97793b-1209-4c48-9931-4c38d715aa13",
   "metadata": {
    "execution": {
     "iopub.execute_input": "2025-05-01T19:46:03.896082Z",
     "iopub.status.busy": "2025-05-01T19:46:03.895959Z",
     "iopub.status.idle": "2025-05-01T19:46:03.901879Z",
     "shell.execute_reply": "2025-05-01T19:46:03.901514Z",
     "shell.execute_reply.started": "2025-05-01T19:46:03.896070Z"
    }
   },
   "outputs": [],
   "source": [
    "#the_raft_selected = \"R22\"\n",
    "the_raft_selected = \"R24\"\n",
    "list_of_detectors = getDetectorfromRaft(the_raft_selected)\n",
    "print(list_of_detectors)"
   ]
  },
  {
   "cell_type": "markdown",
   "id": "43c80408-9c5e-438c-94d0-e36852d189c9",
   "metadata": {},
   "source": [
    "## Mosaic\n",
    "\n",
    "https://pipelines.lsst.io/py-api/lsst.afw.display.Mosaic.html#lsst.afw.display.Mosaic"
   ]
  },
  {
   "cell_type": "code",
   "execution_count": null,
   "id": "aa5d89c0-5ba1-4073-ace9-ee17c99122bd",
   "metadata": {
    "execution": {
     "iopub.execute_input": "2025-05-01T19:46:03.902469Z",
     "iopub.status.busy": "2025-05-01T19:46:03.902340Z",
     "iopub.status.idle": "2025-05-01T19:46:03.911778Z",
     "shell.execute_reply": "2025-05-01T19:46:03.911399Z",
     "shell.execute_reply.started": "2025-05-01T19:46:03.902457Z"
    }
   },
   "outputs": [],
   "source": [
    "for i_raft in range(len(rafts)):\n",
    "    for i_ccd in range(len(ccds)):\n",
    "        detector_id=detector(rafts[i_raft],ccds[i_ccd])\n",
    "        print('\"'+str(detector_id[1]) + '\": \"' + rafts[i_raft]+ '_' + ccds[i_ccd]+'\",',end=\"\")\n",
    "        #print(str(detector_id[1]) + ': ' + rafts[i_raft]+ '_' + ccds[i_ccd])"
   ]
  },
  {
   "cell_type": "code",
   "execution_count": null,
   "id": "fb12d4d0-bfde-4983-9601-6b345df87837",
   "metadata": {
    "execution": {
     "iopub.execute_input": "2025-05-01T19:46:03.912339Z",
     "iopub.status.busy": "2025-05-01T19:46:03.912212Z",
     "iopub.status.idle": "2025-05-01T19:46:03.918851Z",
     "shell.execute_reply": "2025-05-01T19:46:03.918492Z",
     "shell.execute_reply.started": "2025-05-01T19:46:03.912327Z"
    }
   },
   "outputs": [],
   "source": [
    "list_of_detectors = getDetectorfromRaft(the_raft_selected)"
   ]
  },
  {
   "cell_type": "code",
   "execution_count": null,
   "id": "ef0c5ed2-4343-4f2c-bb24-2a02b35bf5b6",
   "metadata": {
    "execution": {
     "iopub.execute_input": "2025-05-01T19:46:03.919524Z",
     "iopub.status.busy": "2025-05-01T19:46:03.919277Z",
     "iopub.status.idle": "2025-05-01T19:46:03.926310Z",
     "shell.execute_reply": "2025-05-01T19:46:03.925969Z",
     "shell.execute_reply.started": "2025-05-01T19:46:03.919510Z"
    }
   },
   "outputs": [],
   "source": [
    "list_of_detectors"
   ]
  },
  {
   "cell_type": "code",
   "execution_count": null,
   "id": "d25979cd-bdd3-48a2-8cc2-852e3bb83328",
   "metadata": {
    "execution": {
     "iopub.execute_input": "2025-05-01T19:46:03.926840Z",
     "iopub.status.busy": "2025-05-01T19:46:03.926711Z",
     "iopub.status.idle": "2025-05-01T19:46:03.933445Z",
     "shell.execute_reply": "2025-05-01T19:46:03.933096Z",
     "shell.execute_reply.started": "2025-05-01T19:46:03.926828Z"
    }
   },
   "outputs": [],
   "source": [
    "detector_clause = f\"detector in (\"\n",
    "for ii,det_id in enumerate(list_of_detectors):\n",
    "    if ii<8:\n",
    "        detector_clause += str(det_id) +\",\"\n",
    "    else:\n",
    "         detector_clause += str(det_id) +\")\""
   ]
  },
  {
   "cell_type": "code",
   "execution_count": null,
   "id": "cd655b60-dfc3-4fd2-bc41-920e5eb7b26f",
   "metadata": {
    "execution": {
     "iopub.execute_input": "2025-05-01T19:46:03.934005Z",
     "iopub.status.busy": "2025-05-01T19:46:03.933879Z",
     "iopub.status.idle": "2025-05-01T19:46:03.943703Z",
     "shell.execute_reply": "2025-05-01T19:46:03.943366Z",
     "shell.execute_reply.started": "2025-05-01T19:46:03.933993Z"
    }
   },
   "outputs": [],
   "source": [
    "detector_clause"
   ]
  },
  {
   "cell_type": "code",
   "execution_count": null,
   "id": "e169b15c-351a-4ac7-a8df-b9d893cbab89",
   "metadata": {
    "execution": {
     "iopub.execute_input": "2025-05-01T19:46:03.944243Z",
     "iopub.status.busy": "2025-05-01T19:46:03.944121Z",
     "iopub.status.idle": "2025-05-01T19:46:03.951820Z",
     "shell.execute_reply": "2025-05-01T19:46:03.951472Z",
     "shell.execute_reply.started": "2025-05-01T19:46:03.944231Z"
    }
   },
   "outputs": [],
   "source": [
    "def queryExposures(expo=\"2025041500160\",raft=\"R22\"):\n",
    "\n",
    "    list_of_detectors = getDetectorfromRaft(raft)\n",
    "    detector_clause = f\"detector in (\"\n",
    "    for ii,det_id in enumerate(list_of_detectors):\n",
    "        if ii<len(list_of_detectors)-1:\n",
    "            detector_clause += str(det_id) +\",\"\n",
    "        else:\n",
    "             detector_clause += str(det_id) +\")\"\n",
    "    where_clause = f\"instrument='LSSTCam' AND visit={expo} AND \"\n",
    "    where_clause += detector_clause\n",
    "    \n",
    "    dataset_refs = butler.query_datasets(\"preliminary_visit_image\", collections = collection,where = where_clause)\n",
    "    exposures = [butler.get(dataset_ref) for dataset_ref in dataset_refs]\n",
    "    return exposures\n",
    "\n",
    "def make_mosaic(exposures, binning=4):\n",
    "    from lsst.pipe.tasks.visualizeVisit import (\n",
    "        VisualizeBinExpConfig,\n",
    "        VisualizeBinExpTask,\n",
    "        VisualizeMosaicExpConfig,\n",
    "        VisualizeMosaicExpTask,\n",
    "    )\n",
    "    camera = butler.get(\"camera\", collections=collection, instrument=instrument)\n",
    "    \n",
    "    visualizeBinExpConfig = VisualizeBinExpConfig()\n",
    "    visualizeBinExpConfig.binning = binning\n",
    "    visualizeBinExpTask = VisualizeBinExpTask(config=visualizeBinExpConfig)\n",
    "    exposures_binned = [visualizeBinExpTask.run(inputExp = exposure, camera=camera).outputExp for exposure in exposures]\n",
    "    \n",
    "    visualizeMosaicExpConfig = VisualizeMosaicExpConfig()\n",
    "    visualizeMosaicExpConfig.binning = binning\n",
    "    visualizeMosaicExpTask = VisualizeMosaicExpTask(config=visualizeMosaicExpConfig)\n",
    "    \n",
    "    mosaic_full = visualizeMosaicExpTask.run(inputExps=exposures_binned, camera=camera)\n",
    "    mosaic = mosaic_full.outputData\n",
    "    return mosaic, mosaic_full\n",
    "\n",
    "def show_ghosts(exp_id=\"2025041500160\", raft=\"R22\" ,binning=4, zmin=2230, zmax=2330):\n",
    "    expos = queryExposures(exp_id,raft)\n",
    "    mosaic, mosaic_full = make_mosaic(expos, binning)\n",
    "    displayImageGhosts(mosaic, zmin=zmin, zmax=zmax)\n",
    "    return mosaic, mosaic_full, expos"
   ]
  },
  {
   "cell_type": "code",
   "execution_count": null,
   "id": "f81de164-8dd6-4fe1-8383-02fcdd9aea3e",
   "metadata": {
    "execution": {
     "iopub.execute_input": "2025-05-01T19:46:03.952461Z",
     "iopub.status.busy": "2025-05-01T19:46:03.952217Z",
     "iopub.status.idle": "2025-05-01T19:46:14.262960Z",
     "shell.execute_reply": "2025-05-01T19:46:14.262441Z",
     "shell.execute_reply.started": "2025-05-01T19:46:03.952447Z"
    }
   },
   "outputs": [],
   "source": [
    "the_list_of_exposures  = queryExposures(the_selected_visit, the_raft_selected)"
   ]
  },
  {
   "cell_type": "code",
   "execution_count": null,
   "id": "31aece12-2e50-4a4f-86cd-06a0a496732e",
   "metadata": {
    "execution": {
     "iopub.execute_input": "2025-05-01T19:46:14.264098Z",
     "iopub.status.busy": "2025-05-01T19:46:14.263546Z",
     "iopub.status.idle": "2025-05-01T19:46:14.267254Z",
     "shell.execute_reply": "2025-05-01T19:46:14.266894Z",
     "shell.execute_reply.started": "2025-05-01T19:46:14.264081Z"
    }
   },
   "outputs": [],
   "source": [
    "the_selected_visit"
   ]
  },
  {
   "cell_type": "code",
   "execution_count": null,
   "id": "c51133b5-e2fd-45e3-aa06-b80c6a43f88b",
   "metadata": {
    "execution": {
     "iopub.execute_input": "2025-05-01T19:46:14.267833Z",
     "iopub.status.busy": "2025-05-01T19:46:14.267695Z",
     "iopub.status.idle": "2025-05-01T19:46:15.026012Z",
     "shell.execute_reply": "2025-05-01T19:46:15.025520Z",
     "shell.execute_reply.started": "2025-05-01T19:46:14.267821Z"
    }
   },
   "outputs": [],
   "source": [
    "mosaic, mosaic_full =  make_mosaic(the_list_of_exposures, binning=4)"
   ]
  },
  {
   "cell_type": "code",
   "execution_count": null,
   "id": "98110f27-09dd-4737-91aa-d6decb5250b1",
   "metadata": {
    "execution": {
     "iopub.execute_input": "2025-05-01T19:46:15.026795Z",
     "iopub.status.busy": "2025-05-01T19:46:15.026644Z",
     "iopub.status.idle": "2025-05-01T19:46:42.612043Z",
     "shell.execute_reply": "2025-05-01T19:46:42.611530Z",
     "shell.execute_reply.started": "2025-05-01T19:46:15.026781Z"
    }
   },
   "outputs": [],
   "source": [
    "display = afwDisplay.Display(frame=1)\n",
    "display.scale(\"asinh\", \"zscale\")\n",
    "display.mtv(mosaic, title= str(the_selected_visit) +'::'+the_raft_selected)"
   ]
  },
  {
   "cell_type": "code",
   "execution_count": null,
   "id": "7bcb4ac0-5308-4cba-9fbf-e20f33641af4",
   "metadata": {
    "execution": {
     "iopub.execute_input": "2025-05-01T19:46:42.612727Z",
     "iopub.status.busy": "2025-05-01T19:46:42.612589Z",
     "iopub.status.idle": "2025-05-01T19:46:42.615919Z",
     "shell.execute_reply": "2025-05-01T19:46:42.615560Z",
     "shell.execute_reply.started": "2025-05-01T19:46:42.612713Z"
    }
   },
   "outputs": [],
   "source": [
    "type(mosaic)"
   ]
  },
  {
   "cell_type": "code",
   "execution_count": null,
   "id": "bc2e7eec-c92a-4a73-8114-bacc5b16f74f",
   "metadata": {
    "execution": {
     "iopub.execute_input": "2025-05-01T19:46:42.616475Z",
     "iopub.status.busy": "2025-05-01T19:46:42.616348Z",
     "iopub.status.idle": "2025-05-01T19:46:42.623987Z",
     "shell.execute_reply": "2025-05-01T19:46:42.623624Z",
     "shell.execute_reply.started": "2025-05-01T19:46:42.616463Z"
    }
   },
   "outputs": [],
   "source": [
    "mosaic.getBBox()"
   ]
  },
  {
   "cell_type": "code",
   "execution_count": null,
   "id": "74233f63-bf10-40d2-8b82-1f6fd591acd4",
   "metadata": {},
   "outputs": [],
   "source": []
  }
 ],
 "metadata": {
  "kernelspec": {
   "display_name": "LSST",
   "language": "python",
   "name": "lsst"
  },
  "language_info": {
   "codemirror_mode": {
    "name": "ipython",
    "version": 3
   },
   "file_extension": ".py",
   "mimetype": "text/x-python",
   "name": "python",
   "nbconvert_exporter": "python",
   "pygments_lexer": "ipython3",
   "version": "3.12.9"
  }
 },
 "nbformat": 4,
 "nbformat_minor": 5
}
