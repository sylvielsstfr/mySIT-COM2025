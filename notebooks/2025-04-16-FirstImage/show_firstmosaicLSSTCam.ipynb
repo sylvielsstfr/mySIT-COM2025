{
 "cells": [
  {
   "cell_type": "markdown",
   "id": "ba6afc5a-53fe-431e-852b-f90c8cf41c3f",
   "metadata": {},
   "source": [
    "# Access to first Mosaic images of LSSTCam\n",
    "\n",
    "- author : Sylvie Dagoret-Campagne\n",
    "- affiliation : IJCLab/IN2P3/CNRS\n",
    "- member : DESC, rubin-inkind\n",
    "- creation date : 2025-04-16\n",
    "- last update : 2025-04-19"
   ]
  },
  {
   "cell_type": "code",
   "execution_count": null,
   "id": "88e2d190-e737-4311-bde8-552651762e2d",
   "metadata": {
    "execution": {
     "iopub.execute_input": "2025-04-22T15:28:28.891650Z",
     "iopub.status.busy": "2025-04-22T15:28:28.891396Z",
     "iopub.status.idle": "2025-04-22T15:28:29.944900Z",
     "shell.execute_reply": "2025-04-22T15:28:29.944367Z",
     "shell.execute_reply.started": "2025-04-22T15:28:28.891632Z"
    }
   },
   "outputs": [],
   "source": [
    "import sys\n",
    "import matplotlib.pyplot as plt\n",
    "import lsst.afw.display as afwDisplay\n",
    "import numpy as np\n",
    "import pandas as pd\n",
    "from astropy.time import Time\n",
    "#%matplotlib widget"
   ]
  },
  {
   "cell_type": "code",
   "execution_count": null,
   "id": "dc92bf92-c15d-4076-94fe-a59a9352c9d5",
   "metadata": {
    "execution": {
     "iopub.execute_input": "2025-04-22T15:28:29.947454Z",
     "iopub.status.busy": "2025-04-22T15:28:29.947185Z",
     "iopub.status.idle": "2025-04-22T15:28:29.949666Z",
     "shell.execute_reply": "2025-04-22T15:28:29.949247Z",
     "shell.execute_reply.started": "2025-04-22T15:28:29.947437Z"
    }
   },
   "outputs": [],
   "source": [
    "sys.path.append(\"../libs\")"
   ]
  },
  {
   "cell_type": "code",
   "execution_count": null,
   "id": "ef980f87-544e-4217-92b8-9914e18d9b58",
   "metadata": {
    "execution": {
     "iopub.execute_input": "2025-04-22T15:28:29.951786Z",
     "iopub.status.busy": "2025-04-22T15:28:29.951642Z",
     "iopub.status.idle": "2025-04-22T15:28:30.062562Z",
     "shell.execute_reply": "2025-04-22T15:28:30.062074Z",
     "shell.execute_reply.started": "2025-04-22T15:28:29.951773Z"
    }
   },
   "outputs": [],
   "source": [
    "from conversion import detector,rafts,ccds, dict_detector"
   ]
  },
  {
   "cell_type": "code",
   "execution_count": null,
   "id": "768e8c54-4fd1-4c54-927c-89e2bd690706",
   "metadata": {
    "execution": {
     "iopub.execute_input": "2025-04-22T15:28:30.064575Z",
     "iopub.status.busy": "2025-04-22T15:28:30.064447Z",
     "iopub.status.idle": "2025-04-22T15:28:30.133811Z",
     "shell.execute_reply": "2025-04-22T15:28:30.133294Z",
     "shell.execute_reply.started": "2025-04-22T15:28:30.064561Z"
    }
   },
   "outputs": [],
   "source": [
    "afwDisplay.setDefaultBackend(\"firefly\")"
   ]
  },
  {
   "cell_type": "code",
   "execution_count": null,
   "id": "71da93ff-4198-4a5f-a0d3-0a3c68afc5d7",
   "metadata": {
    "execution": {
     "iopub.execute_input": "2025-04-22T15:28:30.136178Z",
     "iopub.status.busy": "2025-04-22T15:28:30.136044Z",
     "iopub.status.idle": "2025-04-22T15:28:30.138937Z",
     "shell.execute_reply": "2025-04-22T15:28:30.138505Z",
     "shell.execute_reply.started": "2025-04-22T15:28:30.136163Z"
    }
   },
   "outputs": [],
   "source": [
    "plt.rcParams[\"figure.figsize\"] = (10,6)\n",
    "plt.rcParams[\"axes.labelsize\"] = 'x-large'\n",
    "plt.rcParams['axes.titlesize'] = 'x-large'\n",
    "plt.rcParams['xtick.labelsize']= 'x-large'\n",
    "plt.rcParams['ytick.labelsize']= 'x-large'"
   ]
  },
  {
   "cell_type": "code",
   "execution_count": null,
   "id": "aeba9493-3c72-4e21-8c41-6c46602bd145",
   "metadata": {
    "editable": true,
    "execution": {
     "iopub.execute_input": "2025-04-22T15:28:30.139550Z",
     "iopub.status.busy": "2025-04-22T15:28:30.139414Z",
     "iopub.status.idle": "2025-04-22T15:28:30.149166Z",
     "shell.execute_reply": "2025-04-22T15:28:30.148724Z",
     "shell.execute_reply.started": "2025-04-22T15:28:30.139536Z"
    },
    "slideshow": {
     "slide_type": ""
    },
    "tags": []
   },
   "outputs": [],
   "source": [
    "def displayExposure(exposure,title=None):\n",
    "    afwDisplay.setDefaultBackend('matplotlib') \n",
    "    afwDisplay.setImageColormap(cmap='gray')\n",
    "    fig = plt.figure(figsize=(10,10))\n",
    "    afw_display = afwDisplay.Display(1)\n",
    "    afw_display.scale('asinh', 'zscale')\n",
    "    afw_display.mtv(exposure.getImage())\n",
    "    plt.title(title)\n",
    "    plt.gca().axis('off')\n",
    "    return afw_display\n",
    "\n",
    "def displayImage(image,title=None):\n",
    "    afwDisplay.setDefaultBackend('matplotlib') \n",
    "    fig = plt.figure(figsize=(10,10))\n",
    "    afw_display = afwDisplay.Display(1)\n",
    "    afw_display.scale('asinh', 'zscale')\n",
    "    #afw_display.scale('linear', min=-5, max=10)\n",
    "    afw_display.setImageColormap(cmap='plasma')\n",
    "    afw_display.mtv(image)\n",
    "    plt.title(title)\n",
    "    plt.gca().axis('off')\n",
    "    return afw_display\n",
    "    \n",
    "def displayImageGhosts(image, zmin=0, zmax=5000, title=None):\n",
    "    afwDisplay.setDefaultBackend('matplotlib') \n",
    "    fig = plt.figure(figsize=(10,10))\n",
    "    afw_display = afwDisplay.Display(1)\n",
    "    #afw_display.scale('asinh', 'zscale')\n",
    "    afw_display.scale('linear', min=zmin, max=zmax)\n",
    "    afw_display.setImageColormap(cmap='plasma')\n",
    "    afw_display.mtv(image)\n",
    "    plt.title(title)\n",
    "    plt.gca().axis('off')\n",
    "    return afw_display    "
   ]
  },
  {
   "cell_type": "markdown",
   "id": "69d3e70b-b824-4ab9-a220-228956839a01",
   "metadata": {},
   "source": [
    "## RubinTV, Campaigns , quicklook\n",
    "- RubinTV : https://usdf-rsp.slac.stanford.edu/rubintv/summit-usdf/lsstcam\n",
    "- https://rubinobs.atlassian.net/wiki/spaces/LSSTCOM/pages/467370016/LSSTCam+Commissioning+Planning\n",
    "- LSSTCam DM campaign : https://rubinobs.atlassian.net/wiki/spaces/DM/pages/48834013/Campaigns#1.1.2.-LSSTCam-Nightly-Validation-Pipeline\n",
    "- Check campaign also here  https://rubinobs.atlassian.net/wiki/pages/diffpagesbyversion.action?pageId=48834013&selectedPageVersions=145%2C143\n",
    "- fov-quicklook : https://usdf-rsp-dev.slac.stanford.edu/fov-quicklook/"
   ]
  },
  {
   "cell_type": "markdown",
   "id": "da3e7186-88c4-4689-985d-a600fb219aed",
   "metadata": {},
   "source": [
    "Existing collections:\n",
    "\n",
    "    LSSTCam/runs/nightlyValidation/20250416/d_2025_04_15/DM-50157\n",
    "    LSSTCam/runs/nightlyValidation/20250415/d_2025_04_15/DM-50157"
   ]
  },
  {
   "cell_type": "markdown",
   "id": "5d4421a4-9ad2-499b-9b7f-758cddf393c1",
   "metadata": {},
   "source": [
    "## Configuration"
   ]
  },
  {
   "cell_type": "markdown",
   "id": "1a0c3eeb-33ab-4a5a-a693-d7f80111599c",
   "metadata": {},
   "source": [
    "### Butler and collection"
   ]
  },
  {
   "cell_type": "code",
   "execution_count": null,
   "id": "77e49928-fd2d-4c16-9a7d-b79c75e0a3f7",
   "metadata": {
    "execution": {
     "iopub.execute_input": "2025-04-22T15:28:30.149803Z",
     "iopub.status.busy": "2025-04-22T15:28:30.149621Z",
     "iopub.status.idle": "2025-04-22T15:28:30.998203Z",
     "shell.execute_reply": "2025-04-22T15:28:30.997731Z",
     "shell.execute_reply.started": "2025-04-22T15:28:30.149778Z"
    }
   },
   "outputs": [],
   "source": [
    "# Define butler\n",
    "from lsst.daf.butler import Butler\n",
    "\n",
    "repo = '/repo/embargo'\n",
    "instrument = 'LSSTCam'\n",
    "collection_validation  = instrument + '/runs/nightlyValidation'\n",
    "collection_quicklook   = instrument + '/runs/quickLookTesting'\n",
    "date_start = 20250415\n",
    "date_selection = 20250416\n",
    "where_clause = \"instrument = \\'\" + f\"{instrument}\" +\"\\'\"\n",
    "where_clause_date = where_clause + f\"and day_obs >= {date_start}\"\n",
    "skymap_name = \"lsst_cells_v1\""
   ]
  },
  {
   "cell_type": "code",
   "execution_count": null,
   "id": "40aa953d-ea9f-4ad5-ac2b-3927ec0d6f0d",
   "metadata": {
    "execution": {
     "iopub.execute_input": "2025-04-22T15:28:30.998971Z",
     "iopub.status.busy": "2025-04-22T15:28:30.998817Z",
     "iopub.status.idle": "2025-04-22T15:28:31.001499Z",
     "shell.execute_reply": "2025-04-22T15:28:31.001103Z",
     "shell.execute_reply.started": "2025-04-22T15:28:30.998956Z"
    }
   },
   "outputs": [],
   "source": [
    "collection_validation = os.path.join(collection_validation,'20250416/d_2025_04_15/DM-50157') "
   ]
  },
  {
   "cell_type": "code",
   "execution_count": null,
   "id": "b1db879d-7208-49a9-b438-6e7e36ee3224",
   "metadata": {
    "execution": {
     "iopub.execute_input": "2025-04-22T15:28:31.002159Z",
     "iopub.status.busy": "2025-04-22T15:28:31.002001Z",
     "iopub.status.idle": "2025-04-22T15:28:31.803336Z",
     "shell.execute_reply": "2025-04-22T15:28:31.802818Z",
     "shell.execute_reply.started": "2025-04-22T15:28:31.002144Z"
    }
   },
   "outputs": [],
   "source": [
    "butler = Butler(repo,collections=collection_validation)\n",
    "registry = butler.registry"
   ]
  },
  {
   "cell_type": "markdown",
   "id": "79a83e38-e04d-48f5-a9d2-4e639facb61c",
   "metadata": {},
   "source": [
    "### Collections in the butler"
   ]
  },
  {
   "cell_type": "code",
   "execution_count": null,
   "id": "78720f4d-d4c0-4367-a9c9-a8a974c9f7ca",
   "metadata": {
    "execution": {
     "iopub.execute_input": "2025-04-22T15:28:31.804046Z",
     "iopub.status.busy": "2025-04-22T15:28:31.803903Z",
     "iopub.status.idle": "2025-04-22T15:28:32.318107Z",
     "shell.execute_reply": "2025-04-22T15:28:32.317498Z",
     "shell.execute_reply.started": "2025-04-22T15:28:31.804032Z"
    }
   },
   "outputs": [],
   "source": [
    "sorted(registry.queryCollections(expression = instrument+\"/*\"))"
   ]
  },
  {
   "cell_type": "markdown",
   "id": "a8921a93-98a9-480e-9221-a6aaaa07b81a",
   "metadata": {},
   "source": [
    "## Select the Instrument and observation date"
   ]
  },
  {
   "cell_type": "code",
   "execution_count": null,
   "id": "f442004f-2832-4d06-94d0-1a5ab4e0781f",
   "metadata": {
    "execution": {
     "iopub.execute_input": "2025-04-22T15:28:32.318816Z",
     "iopub.status.busy": "2025-04-22T15:28:32.318673Z",
     "iopub.status.idle": "2025-04-22T15:28:32.321172Z",
     "shell.execute_reply": "2025-04-22T15:28:32.320809Z",
     "shell.execute_reply.started": "2025-04-22T15:28:32.318802Z"
    }
   },
   "outputs": [],
   "source": [
    "collection = collection_validation \n",
    "where_clause = \"instrument = \\'LSSTCam\\' and day_obs >= 20250415\""
   ]
  },
  {
   "cell_type": "code",
   "execution_count": null,
   "id": "03ccffed-d9a2-45bb-80da-037a82039159",
   "metadata": {
    "execution": {
     "iopub.execute_input": "2025-04-22T15:28:32.321733Z",
     "iopub.status.busy": "2025-04-22T15:28:32.321592Z",
     "iopub.status.idle": "2025-04-22T15:28:32.549858Z",
     "shell.execute_reply": "2025-04-22T15:28:32.549313Z",
     "shell.execute_reply.started": "2025-04-22T15:28:32.321719Z"
    }
   },
   "outputs": [],
   "source": [
    "butler = Butler(repo,collections=collection)\n",
    "registry = butler.registry"
   ]
  },
  {
   "cell_type": "code",
   "execution_count": null,
   "id": "b7d642ca-8f02-4a70-87c4-5d83c286e9fa",
   "metadata": {
    "execution": {
     "iopub.execute_input": "2025-04-22T15:28:32.550598Z",
     "iopub.status.busy": "2025-04-22T15:28:32.550451Z",
     "iopub.status.idle": "2025-04-22T15:28:32.553394Z",
     "shell.execute_reply": "2025-04-22T15:28:32.553016Z",
     "shell.execute_reply.started": "2025-04-22T15:28:32.550580Z"
    }
   },
   "outputs": [],
   "source": [
    "print(butler.registry.dimensions[\"exposure\"].RecordClass.fields)"
   ]
  },
  {
   "cell_type": "markdown",
   "id": "cd74c2a6-799d-493b-85da-f7460b0d11d9",
   "metadata": {},
   "source": [
    "## Dump registry into a pandas dataframe"
   ]
  },
  {
   "cell_type": "code",
   "execution_count": null,
   "id": "bb4a0d2a-cb68-4fb2-866a-d3be588a14a2",
   "metadata": {
    "execution": {
     "iopub.execute_input": "2025-04-22T15:28:32.553993Z",
     "iopub.status.busy": "2025-04-22T15:28:32.553863Z",
     "iopub.status.idle": "2025-04-22T15:28:32.569143Z",
     "shell.execute_reply": "2025-04-22T15:28:32.568771Z",
     "shell.execute_reply.started": "2025-04-22T15:28:32.553980Z"
    }
   },
   "outputs": [],
   "source": [
    "where_clause_date"
   ]
  },
  {
   "cell_type": "code",
   "execution_count": null,
   "id": "5aeb723f-c7d1-41c3-916f-c0027b44707c",
   "metadata": {
    "execution": {
     "iopub.execute_input": "2025-04-22T15:28:32.569736Z",
     "iopub.status.busy": "2025-04-22T15:28:32.569598Z",
     "iopub.status.idle": "2025-04-22T15:28:37.828606Z",
     "shell.execute_reply": "2025-04-22T15:28:37.828006Z",
     "shell.execute_reply.started": "2025-04-22T15:28:32.569723Z"
    }
   },
   "outputs": [],
   "source": [
    "df_exposure = pd.DataFrame(columns=['id', 'obs_id','day_obs', 'seq_num','time_start','time_end' ,'type', 'target','filter','zenith_angle','expos','ra','dec','skyangle','azimuth','zenith','science_program','jd','mjd'])\n",
    "for count, info in enumerate(registry.queryDimensionRecords('exposure',where= where_clause_date)):\n",
    "    \n",
    "    \n",
    "    try:\n",
    "        jd_start = info.timespan.begin.value\n",
    "        jd_end = info.timespan.end.value\n",
    "        the_Time_start = Time(jd_start,format=\"jd\",scale=\"utc\")\n",
    "        the_Time_end = Time(jd_end,format=\"jd\",scale=\"utc\")\n",
    "        mjd_start = the_Time_start.mjd\n",
    "        mjd_end = the_Time_end.mjd\n",
    "        isot_start = the_Time_start.isot\n",
    "        isot_end = the_Time_end.isot\n",
    "        \n",
    "        df_exposure.loc[count] = [info.id, info.obs_id, info.day_obs, info.seq_num,isot_start,isot_end ,info.observation_type, info.target_name, info.physical_filter, info.zenith_angle, \\\n",
    "                             info.exposure_time,info.tracking_ra, info.tracking_dec, info.sky_angle,info.azimuth ,info.zenith_angle, info.science_program,\n",
    "                              jd_start, mjd_start]\n",
    "    except:\n",
    "        print(\">>>   Unexpected error:\", sys.exc_info()[0])\n",
    "        info_timespan_begin_to_string = \"2021-01-01 00:00:00.00\"\n",
    "        info_timespan_end_to_string = \"2051-01-01 00:00:00.00\"\n",
    "        info_timespan_begin_jd = 0\n",
    "        info_timespan_begin_mjd = 0\n",
    "        df_exposure.loc[count] = [info.id, info.obs_id, info.day_obs, info.seq_num,\n",
    "                                  pd.to_datetime(info_timespan_begin_to_string),\n",
    "                                  pd.to_datetime(info_timespan_end_to_string) ,\n",
    "                                  info.observation_type, info.target_name, \n",
    "                                  info.physical_filter, info.zenith_angle, \\\n",
    "                             info.exposure_time,info.tracking_ra, info.tracking_dec, info.sky_angle,info.azimuth ,info.zenith_angle, info.science_program,\n",
    "                             info_timespan_begin_jd, info_timespan_begin_mjd  ]\n",
    " \n",
    "    \n",
    "    if count < 2:\n",
    "        print(\"-----------------------------------------------------\",count,\"---------------------------------------------------------\")\n",
    "        print(info)\n",
    "        print(\"\\t id:                  \",info.id)\n",
    "        print(\"\\t day_obs:             \",info.day_obs)\n",
    "        print(\"\\t seq_num:             \",info.seq_num)\n",
    "        print(\"\\t type-of-observation: \",info.observation_type)\n",
    "        print(\"\\t target:              \",info.target_name)\n",
    "        \n",
    "        print(f\"mjd = {mjd_start}, jd = {jd_start}\")\n",
    "    "
   ]
  },
  {
   "cell_type": "code",
   "execution_count": null,
   "id": "2e00ff54-7276-461f-b1c5-ac970a8e179d",
   "metadata": {
    "execution": {
     "iopub.execute_input": "2025-04-22T15:28:37.829368Z",
     "iopub.status.busy": "2025-04-22T15:28:37.829220Z",
     "iopub.status.idle": "2025-04-22T15:28:37.833138Z",
     "shell.execute_reply": "2025-04-22T15:28:37.832775Z",
     "shell.execute_reply.started": "2025-04-22T15:28:37.829354Z"
    }
   },
   "outputs": [],
   "source": [
    "df_science = df_exposure[df_exposure.type == 'science']"
   ]
  },
  {
   "cell_type": "code",
   "execution_count": null,
   "id": "f9f219d2-eb11-48c6-8cdd-1d5ac88477cc",
   "metadata": {
    "execution": {
     "iopub.execute_input": "2025-04-22T15:28:37.833756Z",
     "iopub.status.busy": "2025-04-22T15:28:37.833610Z",
     "iopub.status.idle": "2025-04-22T15:28:37.861573Z",
     "shell.execute_reply": "2025-04-22T15:28:37.861164Z",
     "shell.execute_reply.started": "2025-04-22T15:28:37.833742Z"
    }
   },
   "outputs": [],
   "source": [
    "df_science"
   ]
  },
  {
   "cell_type": "code",
   "execution_count": null,
   "id": "9ce0d04f-235a-49a4-bcc2-0c774cd4e898",
   "metadata": {
    "execution": {
     "iopub.execute_input": "2025-04-22T15:28:37.862188Z",
     "iopub.status.busy": "2025-04-22T15:28:37.862053Z",
     "iopub.status.idle": "2025-04-22T15:28:37.973337Z",
     "shell.execute_reply": "2025-04-22T15:28:37.972925Z",
     "shell.execute_reply.started": "2025-04-22T15:28:37.862175Z"
    }
   },
   "outputs": [],
   "source": [
    "fig,ax = plt.subplots(1,1,figsize=(8,4))\n",
    "df_science.expos.hist(ax=ax)"
   ]
  },
  {
   "cell_type": "code",
   "execution_count": null,
   "id": "d1e05608-9580-4401-a303-f4648f3203a7",
   "metadata": {
    "execution": {
     "iopub.execute_input": "2025-04-22T15:28:37.974003Z",
     "iopub.status.busy": "2025-04-22T15:28:37.973858Z",
     "iopub.status.idle": "2025-04-22T15:28:37.976055Z",
     "shell.execute_reply": "2025-04-22T15:28:37.975695Z",
     "shell.execute_reply.started": "2025-04-22T15:28:37.973987Z"
    }
   },
   "outputs": [],
   "source": [
    "#df_science = df_science[df_science.expos>=15]"
   ]
  },
  {
   "cell_type": "code",
   "execution_count": null,
   "id": "d1c43a31-24e0-4f48-baa5-604e8a512e3d",
   "metadata": {
    "execution": {
     "iopub.execute_input": "2025-04-22T15:28:37.979641Z",
     "iopub.status.busy": "2025-04-22T15:28:37.979299Z",
     "iopub.status.idle": "2025-04-22T15:28:37.990410Z",
     "shell.execute_reply": "2025-04-22T15:28:37.989860Z",
     "shell.execute_reply.started": "2025-04-22T15:28:37.979626Z"
    }
   },
   "outputs": [],
   "source": [
    "df_science.reset_index(drop=True,inplace=True)"
   ]
  },
  {
   "cell_type": "code",
   "execution_count": null,
   "id": "8d1482eb-d7cc-46a0-b35b-eb688740f36b",
   "metadata": {
    "execution": {
     "iopub.execute_input": "2025-04-22T15:28:37.991000Z",
     "iopub.status.busy": "2025-04-22T15:28:37.990868Z",
     "iopub.status.idle": "2025-04-22T15:28:38.017202Z",
     "shell.execute_reply": "2025-04-22T15:28:38.016792Z",
     "shell.execute_reply.started": "2025-04-22T15:28:37.990987Z"
    }
   },
   "outputs": [],
   "source": [
    "df_science"
   ]
  },
  {
   "cell_type": "code",
   "execution_count": null,
   "id": "43b40982-33e1-4a9a-8326-a0a44cfc69c9",
   "metadata": {
    "execution": {
     "iopub.execute_input": "2025-04-22T15:28:38.017789Z",
     "iopub.status.busy": "2025-04-22T15:28:38.017652Z",
     "iopub.status.idle": "2025-04-22T15:28:38.035277Z",
     "shell.execute_reply": "2025-04-22T15:28:38.034872Z",
     "shell.execute_reply.started": "2025-04-22T15:28:38.017776Z"
    }
   },
   "outputs": [],
   "source": [
    "id_min = df_science_id_min = df_science.id.min()\n",
    "id_max = df_science_id_max = df_science.id.max()"
   ]
  },
  {
   "cell_type": "code",
   "execution_count": null,
   "id": "fff36b1c-0364-470f-b99a-6dad875a7ef9",
   "metadata": {
    "execution": {
     "iopub.execute_input": "2025-04-22T15:28:38.035865Z",
     "iopub.status.busy": "2025-04-22T15:28:38.035739Z",
     "iopub.status.idle": "2025-04-22T15:28:38.054803Z",
     "shell.execute_reply": "2025-04-22T15:28:38.054396Z",
     "shell.execute_reply.started": "2025-04-22T15:28:38.035853Z"
    }
   },
   "outputs": [],
   "source": [
    "#! pip install --user openpyxl"
   ]
  },
  {
   "cell_type": "code",
   "execution_count": null,
   "id": "ca308ac6-8610-47d2-ba40-b6b7ff63c024",
   "metadata": {
    "execution": {
     "iopub.execute_input": "2025-04-22T15:28:38.055345Z",
     "iopub.status.busy": "2025-04-22T15:28:38.055222Z",
     "iopub.status.idle": "2025-04-22T15:28:38.086640Z",
     "shell.execute_reply": "2025-04-22T15:28:38.086229Z",
     "shell.execute_reply.started": "2025-04-22T15:28:38.055332Z"
    }
   },
   "outputs": [],
   "source": [
    "output_file_csv = f\"lsstcam_lgb_{id_min}-{id_max}.csv\"\n",
    "output_file_xlsx = f\"lsstcam_lgb_{id_min}-{id_max}.xlsx\"\n",
    "df_science.to_csv(output_file_csv)\n",
    "#df_science.to_excel(output_file_xlsx)"
   ]
  },
  {
   "cell_type": "markdown",
   "id": "af17b971-adf9-4ded-9bb4-b3f892d3e517",
   "metadata": {},
   "source": [
    "## Dataset type"
   ]
  },
  {
   "cell_type": "code",
   "execution_count": null,
   "id": "69f4de9c-e960-44fc-806a-a1cc60b1e712",
   "metadata": {
    "execution": {
     "iopub.execute_input": "2025-04-22T15:28:38.087251Z",
     "iopub.status.busy": "2025-04-22T15:28:38.087125Z",
     "iopub.status.idle": "2025-04-22T15:29:15.457751Z",
     "shell.execute_reply": "2025-04-22T15:29:15.457290Z",
     "shell.execute_reply.started": "2025-04-22T15:28:38.087238Z"
    }
   },
   "outputs": [],
   "source": [
    "for datasetType in registry.queryDatasetTypes():\n",
    "    if registry.queryDatasets(datasetType, collections=collection).any(execute=False, exact=False):\n",
    "        # Limit search results to the data products\n",
    "        if ('_config' not in datasetType.name) and ('_log' not in datasetType.name) and ('_metadata' not in datasetType.name) and ('_resource_usage' not in datasetType.name):\n",
    "            print(datasetType)"
   ]
  },
  {
   "cell_type": "code",
   "execution_count": null,
   "id": "90ebd85b-ea52-4679-872a-9835fe09b2f4",
   "metadata": {
    "execution": {
     "iopub.execute_input": "2025-04-22T15:29:15.458425Z",
     "iopub.status.busy": "2025-04-22T15:29:15.458284Z",
     "iopub.status.idle": "2025-04-22T15:29:24.899202Z",
     "shell.execute_reply": "2025-04-22T15:29:24.898651Z",
     "shell.execute_reply.started": "2025-04-22T15:29:15.458411Z"
    }
   },
   "outputs": [],
   "source": [
    "dataProduct = 'preliminary_visit_image'\n",
    "datasetRefs = list(butler.registry.queryDatasets(dataProduct,where=where_clause_date))"
   ]
  },
  {
   "cell_type": "code",
   "execution_count": null,
   "id": "03dc5310-e424-4910-b219-8082441b6486",
   "metadata": {
    "execution": {
     "iopub.execute_input": "2025-04-22T15:29:24.899868Z",
     "iopub.status.busy": "2025-04-22T15:29:24.899729Z",
     "iopub.status.idle": "2025-04-22T15:29:24.903208Z",
     "shell.execute_reply": "2025-04-22T15:29:24.902863Z",
     "shell.execute_reply.started": "2025-04-22T15:29:24.899853Z"
    }
   },
   "outputs": [],
   "source": [
    "len(datasetRefs)"
   ]
  },
  {
   "cell_type": "code",
   "execution_count": null,
   "id": "c33172b5-ea20-4f5c-90e5-f2805ecd1b5c",
   "metadata": {
    "execution": {
     "iopub.execute_input": "2025-04-22T15:29:24.903773Z",
     "iopub.status.busy": "2025-04-22T15:29:24.903637Z",
     "iopub.status.idle": "2025-04-22T15:29:24.919429Z",
     "shell.execute_reply": "2025-04-22T15:29:24.919090Z",
     "shell.execute_reply.started": "2025-04-22T15:29:24.903760Z"
    }
   },
   "outputs": [],
   "source": [
    "all_selected_visit = df_science.id.values\n",
    "all_selected_visit = sorted(all_selected_visit)\n",
    "all_selected_visit"
   ]
  },
  {
   "cell_type": "markdown",
   "id": "3b0e5b73-aa1a-4f74-b2b2-c2041a5cc811",
   "metadata": {},
   "source": [
    "> I was just poking around at images, and the following dataId has some really nice nebulosity:\n",
    "> preliminary_visit_image@{instrument: 'LSSTCam', detector: 71, visit: 2025041500268, band: 'i', day_obs: 20250415, physical_filter: 'i_39'} [sc=ExposureF] (run=LSSTCam/runs/nightlyValidation/12 id=6695e83d-a251-440f-87c5-c85b5471b3ac)"
   ]
  },
  {
   "cell_type": "code",
   "execution_count": null,
   "id": "6bb60d7d-823d-48d5-9daf-df37d90faf80",
   "metadata": {
    "execution": {
     "iopub.execute_input": "2025-04-22T15:29:24.919974Z",
     "iopub.status.busy": "2025-04-22T15:29:24.919845Z",
     "iopub.status.idle": "2025-04-22T15:29:24.932544Z",
     "shell.execute_reply": "2025-04-22T15:29:24.932201Z",
     "shell.execute_reply.started": "2025-04-22T15:29:24.919961Z"
    }
   },
   "outputs": [],
   "source": [
    "#the_selected_visit = all_selected_visit[3]\n",
    "#the_selected_visit = 2025041500268\n",
    "#the_selected_detector = 71\n",
    "#title = f\"dataProduct  v={the_selected_visit} d={the_selected_detector}\""
   ]
  },
  {
   "cell_type": "code",
   "execution_count": null,
   "id": "4d4ecf1a-94ae-4952-b2ae-6efa2430e495",
   "metadata": {
    "execution": {
     "iopub.execute_input": "2025-04-22T15:29:24.933090Z",
     "iopub.status.busy": "2025-04-22T15:29:24.932962Z",
     "iopub.status.idle": "2025-04-22T15:29:24.983057Z",
     "shell.execute_reply": "2025-04-22T15:29:24.982690Z",
     "shell.execute_reply.started": "2025-04-22T15:29:24.933077Z"
    }
   },
   "outputs": [],
   "source": [
    "the_selected_visit = all_selected_visit[3]\n",
    "the_selected_visit = 2025041700817\n",
    "the_selected_detector = 71\n",
    "title = f\"dataProduct  v={the_selected_visit} d={the_selected_detector}\""
   ]
  },
  {
   "cell_type": "markdown",
   "id": "08c7b817-1a0f-4cb2-b213-f350b713b625",
   "metadata": {},
   "source": [
    "## Select a Raft\n",
    "![title](figs/LSSTCam_fp_layout.png)"
   ]
  },
  {
   "cell_type": "code",
   "execution_count": null,
   "id": "d13390e1-fa02-4113-aa06-83f2eed8f652",
   "metadata": {
    "execution": {
     "iopub.execute_input": "2025-04-22T15:29:24.983623Z",
     "iopub.status.busy": "2025-04-22T15:29:24.983495Z",
     "iopub.status.idle": "2025-04-22T15:29:24.998874Z",
     "shell.execute_reply": "2025-04-22T15:29:24.998458Z",
     "shell.execute_reply.started": "2025-04-22T15:29:24.983610Z"
    }
   },
   "outputs": [],
   "source": [
    "def getDetectorfromRaft(raft):\n",
    "    all_det = []\n",
    "    for ccd in ccds:\n",
    "        _,det = detector(raft,ccd)\n",
    "        all_det.append(det)\n",
    "    return all_det"
   ]
  },
  {
   "cell_type": "code",
   "execution_count": null,
   "id": "3a01874c-7a98-442c-9d12-f2e12dd2f317",
   "metadata": {
    "execution": {
     "iopub.execute_input": "2025-04-22T15:29:24.999454Z",
     "iopub.status.busy": "2025-04-22T15:29:24.999327Z",
     "iopub.status.idle": "2025-04-22T15:29:25.012662Z",
     "shell.execute_reply": "2025-04-22T15:29:25.012294Z",
     "shell.execute_reply.started": "2025-04-22T15:29:24.999442Z"
    }
   },
   "outputs": [],
   "source": [
    "print(rafts)"
   ]
  },
  {
   "cell_type": "code",
   "execution_count": null,
   "id": "65c4f9cd-62e5-459d-89cf-560b6578746a",
   "metadata": {
    "execution": {
     "iopub.execute_input": "2025-04-22T15:29:25.013297Z",
     "iopub.status.busy": "2025-04-22T15:29:25.013168Z",
     "iopub.status.idle": "2025-04-22T15:29:25.022533Z",
     "shell.execute_reply": "2025-04-22T15:29:25.022180Z",
     "shell.execute_reply.started": "2025-04-22T15:29:25.013284Z"
    }
   },
   "outputs": [],
   "source": [
    "print(ccds)"
   ]
  },
  {
   "cell_type": "code",
   "execution_count": null,
   "id": "de97793b-1209-4c48-9931-4c38d715aa13",
   "metadata": {
    "execution": {
     "iopub.execute_input": "2025-04-22T15:29:25.023169Z",
     "iopub.status.busy": "2025-04-22T15:29:25.023040Z",
     "iopub.status.idle": "2025-04-22T15:29:25.034132Z",
     "shell.execute_reply": "2025-04-22T15:29:25.033780Z",
     "shell.execute_reply.started": "2025-04-22T15:29:25.023156Z"
    }
   },
   "outputs": [],
   "source": [
    "the_raft_selected = \"R22\"\n",
    "list_of_detectors = getDetectorfromRaft(the_raft_selected)\n",
    "print(list_of_detectors)"
   ]
  },
  {
   "cell_type": "code",
   "execution_count": null,
   "id": "b753560b-8a4d-4a31-997c-e532d332d8aa",
   "metadata": {},
   "outputs": [],
   "source": []
  },
  {
   "cell_type": "markdown",
   "id": "43c80408-9c5e-438c-94d0-e36852d189c9",
   "metadata": {},
   "source": [
    "## Mosaic\n",
    "\n",
    "https://pipelines.lsst.io/py-api/lsst.afw.display.Mosaic.html#lsst.afw.display.Mosaic"
   ]
  },
  {
   "cell_type": "code",
   "execution_count": null,
   "id": "aa5d89c0-5ba1-4073-ace9-ee17c99122bd",
   "metadata": {
    "execution": {
     "iopub.execute_input": "2025-04-22T15:29:25.034774Z",
     "iopub.status.busy": "2025-04-22T15:29:25.034640Z",
     "iopub.status.idle": "2025-04-22T15:29:25.046491Z",
     "shell.execute_reply": "2025-04-22T15:29:25.046134Z",
     "shell.execute_reply.started": "2025-04-22T15:29:25.034762Z"
    }
   },
   "outputs": [],
   "source": [
    "for i_raft in range(len(rafts)):\n",
    "    for i_ccd in range(len(ccds)):\n",
    "        detector_id=detector(rafts[i_raft],ccds[i_ccd])\n",
    "        print('\"'+str(detector_id[1]) + '\": \"' + rafts[i_raft]+ '_' + ccds[i_ccd]+'\",',end=\"\")\n",
    "        #print(str(detector_id[1]) + ': ' + rafts[i_raft]+ '_' + ccds[i_ccd])"
   ]
  },
  {
   "cell_type": "code",
   "execution_count": null,
   "id": "fb12d4d0-bfde-4983-9601-6b345df87837",
   "metadata": {
    "execution": {
     "iopub.execute_input": "2025-04-22T15:29:25.047029Z",
     "iopub.status.busy": "2025-04-22T15:29:25.046904Z",
     "iopub.status.idle": "2025-04-22T15:29:25.054739Z",
     "shell.execute_reply": "2025-04-22T15:29:25.054375Z",
     "shell.execute_reply.started": "2025-04-22T15:29:25.047016Z"
    }
   },
   "outputs": [],
   "source": [
    "list_of_detectors = getDetectorfromRaft(the_raft_selected)"
   ]
  },
  {
   "cell_type": "code",
   "execution_count": null,
   "id": "ef0c5ed2-4343-4f2c-bb24-2a02b35bf5b6",
   "metadata": {
    "execution": {
     "iopub.execute_input": "2025-04-22T15:29:25.055502Z",
     "iopub.status.busy": "2025-04-22T15:29:25.055161Z",
     "iopub.status.idle": "2025-04-22T15:29:25.064493Z",
     "shell.execute_reply": "2025-04-22T15:29:25.064146Z",
     "shell.execute_reply.started": "2025-04-22T15:29:25.055487Z"
    }
   },
   "outputs": [],
   "source": [
    "list_of_detectors"
   ]
  },
  {
   "cell_type": "code",
   "execution_count": null,
   "id": "d25979cd-bdd3-48a2-8cc2-852e3bb83328",
   "metadata": {
    "execution": {
     "iopub.execute_input": "2025-04-22T15:29:25.065045Z",
     "iopub.status.busy": "2025-04-22T15:29:25.064924Z",
     "iopub.status.idle": "2025-04-22T15:29:25.074245Z",
     "shell.execute_reply": "2025-04-22T15:29:25.073889Z",
     "shell.execute_reply.started": "2025-04-22T15:29:25.065033Z"
    }
   },
   "outputs": [],
   "source": [
    "detector_clause = f\"detector in (\"\n",
    "for ii,det_id in enumerate(list_of_detectors):\n",
    "    if ii<8:\n",
    "        detector_clause += str(det_id) +\",\"\n",
    "    else:\n",
    "         detector_clause += str(det_id) +\")\""
   ]
  },
  {
   "cell_type": "code",
   "execution_count": null,
   "id": "cd655b60-dfc3-4fd2-bc41-920e5eb7b26f",
   "metadata": {
    "execution": {
     "iopub.execute_input": "2025-04-22T15:29:25.074782Z",
     "iopub.status.busy": "2025-04-22T15:29:25.074653Z",
     "iopub.status.idle": "2025-04-22T15:29:25.083774Z",
     "shell.execute_reply": "2025-04-22T15:29:25.083419Z",
     "shell.execute_reply.started": "2025-04-22T15:29:25.074770Z"
    }
   },
   "outputs": [],
   "source": [
    "detector_clause"
   ]
  },
  {
   "cell_type": "code",
   "execution_count": null,
   "id": "e169b15c-351a-4ac7-a8df-b9d893cbab89",
   "metadata": {
    "execution": {
     "iopub.execute_input": "2025-04-22T15:29:25.084471Z",
     "iopub.status.busy": "2025-04-22T15:29:25.084346Z",
     "iopub.status.idle": "2025-04-22T15:29:25.094695Z",
     "shell.execute_reply": "2025-04-22T15:29:25.094346Z",
     "shell.execute_reply.started": "2025-04-22T15:29:25.084458Z"
    }
   },
   "outputs": [],
   "source": [
    "def queryExposures(expo=\"2025041500160\",raft=\"R22\"):\n",
    "\n",
    "    list_of_detectors = getDetectorfromRaft(raft)\n",
    "    detector_clause = f\"detector in (\"\n",
    "    for ii,det_id in enumerate(list_of_detectors):\n",
    "        if ii<len(list_of_detectors)-1:\n",
    "            detector_clause += str(det_id) +\",\"\n",
    "        else:\n",
    "             detector_clause += str(det_id) +\")\"\n",
    "    where_clause = f\"instrument='LSSTCam' AND visit={expo} AND \"\n",
    "    where_clause += detector_clause\n",
    "    \n",
    "    dataset_refs = butler.query_datasets(\"preliminary_visit_image\", collections = collection,where = where_clause)\n",
    "    exposures = [butler.get(dataset_ref) for dataset_ref in dataset_refs]\n",
    "    return exposures\n",
    "\n",
    "def make_mosaic(exposures, binning=4):\n",
    "    from lsst.pipe.tasks.visualizeVisit import (\n",
    "        VisualizeBinExpConfig,\n",
    "        VisualizeBinExpTask,\n",
    "        VisualizeMosaicExpConfig,\n",
    "        VisualizeMosaicExpTask,\n",
    "    )\n",
    "    camera = butler.get(\"camera\", collections=collection, instrument=instrument)\n",
    "    \n",
    "    visualizeBinExpConfig = VisualizeBinExpConfig()\n",
    "    visualizeBinExpConfig.binning = binning\n",
    "    visualizeBinExpTask = VisualizeBinExpTask(config=visualizeBinExpConfig)\n",
    "    exposures_binned = [visualizeBinExpTask.run(inputExp = exposure, camera=camera).outputExp for exposure in exposures]\n",
    "    \n",
    "    visualizeMosaicExpConfig = VisualizeMosaicExpConfig()\n",
    "    visualizeMosaicExpConfig.binning = binning\n",
    "    visualizeMosaicExpTask = VisualizeMosaicExpTask(config=visualizeMosaicExpConfig)\n",
    "    \n",
    "    mosaic_full = visualizeMosaicExpTask.run(inputExps=exposures_binned, camera=camera)\n",
    "    mosaic = mosaic_full.outputData\n",
    "    return mosaic, mosaic_full\n",
    "\n",
    "def show_ghosts(exp_id=\"2025041500160\", raft=\"R22\" ,binning=4, zmin=2230, zmax=2330):\n",
    "    expos = queryExposures(exp_id,raft)\n",
    "    mosaic, mosaic_full = make_mosaic(expos, binning)\n",
    "    displayImageGhosts(mosaic, zmin=zmin, zmax=zmax)\n",
    "    return mosaic, mosaic_full, expos"
   ]
  },
  {
   "cell_type": "code",
   "execution_count": null,
   "id": "f81de164-8dd6-4fe1-8383-02fcdd9aea3e",
   "metadata": {
    "execution": {
     "iopub.execute_input": "2025-04-22T15:29:25.095471Z",
     "iopub.status.busy": "2025-04-22T15:29:25.095104Z",
     "iopub.status.idle": "2025-04-22T15:29:35.443168Z",
     "shell.execute_reply": "2025-04-22T15:29:35.442609Z",
     "shell.execute_reply.started": "2025-04-22T15:29:25.095456Z"
    }
   },
   "outputs": [],
   "source": [
    "the_list_of_exposures  = queryExposures(the_selected_visit, the_raft_selected)"
   ]
  },
  {
   "cell_type": "code",
   "execution_count": null,
   "id": "31aece12-2e50-4a4f-86cd-06a0a496732e",
   "metadata": {
    "execution": {
     "iopub.execute_input": "2025-04-22T15:29:35.444311Z",
     "iopub.status.busy": "2025-04-22T15:29:35.443755Z",
     "iopub.status.idle": "2025-04-22T15:29:35.447506Z",
     "shell.execute_reply": "2025-04-22T15:29:35.447111Z",
     "shell.execute_reply.started": "2025-04-22T15:29:35.444295Z"
    }
   },
   "outputs": [],
   "source": [
    "the_selected_visit"
   ]
  },
  {
   "cell_type": "code",
   "execution_count": null,
   "id": "c51133b5-e2fd-45e3-aa06-b80c6a43f88b",
   "metadata": {
    "execution": {
     "iopub.execute_input": "2025-04-22T15:29:35.448089Z",
     "iopub.status.busy": "2025-04-22T15:29:35.447950Z",
     "iopub.status.idle": "2025-04-22T15:29:36.297247Z",
     "shell.execute_reply": "2025-04-22T15:29:36.296683Z",
     "shell.execute_reply.started": "2025-04-22T15:29:35.448075Z"
    }
   },
   "outputs": [],
   "source": [
    "mosaic, mosaic_full =  make_mosaic(the_list_of_exposures, binning=4)"
   ]
  },
  {
   "cell_type": "code",
   "execution_count": null,
   "id": "98110f27-09dd-4737-91aa-d6decb5250b1",
   "metadata": {
    "execution": {
     "iopub.execute_input": "2025-04-22T15:29:36.298092Z",
     "iopub.status.busy": "2025-04-22T15:29:36.297944Z",
     "iopub.status.idle": "2025-04-22T15:29:43.833994Z",
     "shell.execute_reply": "2025-04-22T15:29:43.833480Z",
     "shell.execute_reply.started": "2025-04-22T15:29:36.298077Z"
    }
   },
   "outputs": [],
   "source": [
    "display = afwDisplay.Display(frame=1)\n",
    "display.scale(\"asinh\", \"zscale\")\n",
    "display.mtv(mosaic, title= str(the_selected_visit) +'::'+the_raft_selected)"
   ]
  },
  {
   "cell_type": "code",
   "execution_count": null,
   "id": "65194b1e-afd8-4e01-8e46-a7167d895915",
   "metadata": {
    "execution": {
     "iopub.execute_input": "2025-04-22T15:29:43.834768Z",
     "iopub.status.busy": "2025-04-22T15:29:43.834560Z",
     "iopub.status.idle": "2025-04-22T15:29:43.837215Z",
     "shell.execute_reply": "2025-04-22T15:29:43.836797Z",
     "shell.execute_reply.started": "2025-04-22T15:29:43.834694Z"
    }
   },
   "outputs": [],
   "source": [
    "#mosaic, mosaic_full, expos = show_ghosts(the_selected_visit, the_raft_selected ,binning=4, zmin=0, zmax=6000)"
   ]
  },
  {
   "cell_type": "code",
   "execution_count": null,
   "id": "a8395fca-23ae-4c86-b94f-628975ced91a",
   "metadata": {
    "execution": {
     "iopub.execute_input": "2025-04-22T15:29:43.837767Z",
     "iopub.status.busy": "2025-04-22T15:29:43.837637Z",
     "iopub.status.idle": "2025-04-22T15:29:43.847237Z",
     "shell.execute_reply": "2025-04-22T15:29:43.846806Z",
     "shell.execute_reply.started": "2025-04-22T15:29:43.837754Z"
    }
   },
   "outputs": [],
   "source": [
    "#ghost_367, expos_367 = show_ghosts(\"2024112200367\", binning=8, zmin=500, zmax=2000)"
   ]
  },
  {
   "cell_type": "code",
   "execution_count": null,
   "id": "2e473e44-1d2e-4415-b799-2c7b9ff39a82",
   "metadata": {
    "execution": {
     "iopub.execute_input": "2025-04-22T15:29:43.847832Z",
     "iopub.status.busy": "2025-04-22T15:29:43.847705Z",
     "iopub.status.idle": "2025-04-22T15:29:43.854179Z",
     "shell.execute_reply": "2025-04-22T15:29:43.853703Z",
     "shell.execute_reply.started": "2025-04-22T15:29:43.847820Z"
    }
   },
   "outputs": [],
   "source": [
    "#displayImageGhosts(ghost, zmin=820, zmax=900)"
   ]
  },
  {
   "cell_type": "code",
   "execution_count": null,
   "id": "564a0eb8-c395-4370-93e0-27ee00ade6f6",
   "metadata": {
    "execution": {
     "iopub.execute_input": "2025-04-22T15:29:43.854747Z",
     "iopub.status.busy": "2025-04-22T15:29:43.854616Z",
     "iopub.status.idle": "2025-04-22T15:29:43.866782Z",
     "shell.execute_reply": "2025-04-22T15:29:43.866411Z",
     "shell.execute_reply.started": "2025-04-22T15:29:43.854732Z"
    }
   },
   "outputs": [],
   "source": [
    "#afwDisplay.setDefaultBackend('matplotlib') \n",
    "#fig = plt.figure(figsize=(10,10))\n",
    "#afw_display = afwDisplay.Display(1)\n",
    "#afw_display.scale('asinh', 'zscale')\n",
    "#afw_display.scale('linear', min=zmin, max=zmax)\n",
    "#afw_display.setImageColormap(cmap='grey')\n",
    "#afw_display.mtv(ghost_367)\n",
    "#plt.title(\"MC_2024112200367\")\n",
    "#plt.gca().axis('off')\n"
   ]
  },
  {
   "cell_type": "code",
   "execution_count": null,
   "id": "44670534-11a4-4fcc-8a60-2f20f203dd37",
   "metadata": {
    "execution": {
     "iopub.execute_input": "2025-04-22T15:29:43.867340Z",
     "iopub.status.busy": "2025-04-22T15:29:43.867219Z",
     "iopub.status.idle": "2025-04-22T15:29:43.873400Z",
     "shell.execute_reply": "2025-04-22T15:29:43.873039Z",
     "shell.execute_reply.started": "2025-04-22T15:29:43.867328Z"
    }
   },
   "outputs": [],
   "source": [
    "#ghost_292, expos_292 = show_ghosts(\"2024111100292\", binning=8, zmin=500, zmax=2000)"
   ]
  },
  {
   "cell_type": "code",
   "execution_count": null,
   "id": "bfb97f0f-1a6d-437a-b35a-a68e9ef258a2",
   "metadata": {
    "execution": {
     "iopub.execute_input": "2025-04-22T15:29:43.873993Z",
     "iopub.status.busy": "2025-04-22T15:29:43.873870Z",
     "iopub.status.idle": "2025-04-22T15:29:43.887875Z",
     "shell.execute_reply": "2025-04-22T15:29:43.887506Z",
     "shell.execute_reply.started": "2025-04-22T15:29:43.873981Z"
    }
   },
   "outputs": [],
   "source": [
    "#afwDisplay.setDefaultBackend('matplotlib') \n",
    "#fig = plt.figure(figsize=(10,10))\n",
    "#afw_display = afwDisplay.Display(1)\n",
    "#afw_display.scale('asinh', 'zscale')\n",
    "#afw_display.scale('linear', min=zmin, max=zmax)\n",
    "#afw_display.setImageColormap(cmap='grey')\n",
    "#afw_display.mtv(ghost_292)\n",
    "#plt.title(\"MC_2024112200367\")\n",
    "#plt.gca().axis('off')"
   ]
  },
  {
   "cell_type": "code",
   "execution_count": null,
   "id": "7bcb4ac0-5308-4cba-9fbf-e20f33641af4",
   "metadata": {
    "execution": {
     "iopub.execute_input": "2025-04-22T15:29:43.888428Z",
     "iopub.status.busy": "2025-04-22T15:29:43.888300Z",
     "iopub.status.idle": "2025-04-22T15:29:43.894985Z",
     "shell.execute_reply": "2025-04-22T15:29:43.894616Z",
     "shell.execute_reply.started": "2025-04-22T15:29:43.888416Z"
    }
   },
   "outputs": [],
   "source": [
    "type(mosaic)"
   ]
  },
  {
   "cell_type": "code",
   "execution_count": null,
   "id": "bc2e7eec-c92a-4a73-8114-bacc5b16f74f",
   "metadata": {
    "execution": {
     "iopub.execute_input": "2025-04-22T15:29:43.895538Z",
     "iopub.status.busy": "2025-04-22T15:29:43.895416Z",
     "iopub.status.idle": "2025-04-22T15:29:43.909134Z",
     "shell.execute_reply": "2025-04-22T15:29:43.908780Z",
     "shell.execute_reply.started": "2025-04-22T15:29:43.895526Z"
    }
   },
   "outputs": [],
   "source": [
    "mosaic.getBBox()"
   ]
  },
  {
   "cell_type": "code",
   "execution_count": null,
   "id": "203b02b0-650c-493d-8487-b21000b3546d",
   "metadata": {
    "execution": {
     "iopub.execute_input": "2025-04-22T15:29:43.909691Z",
     "iopub.status.busy": "2025-04-22T15:29:43.909570Z",
     "iopub.status.idle": "2025-04-22T15:29:43.920574Z",
     "shell.execute_reply": "2025-04-22T15:29:43.920228Z",
     "shell.execute_reply.started": "2025-04-22T15:29:43.909679Z"
    }
   },
   "outputs": [],
   "source": [
    "#expos_292[0].visitInfo.getBoresightRaDec()"
   ]
  },
  {
   "cell_type": "code",
   "execution_count": null,
   "id": "c5dbb798-09ac-4770-864a-088d0d0dcf36",
   "metadata": {
    "execution": {
     "iopub.execute_input": "2025-04-22T15:29:43.921108Z",
     "iopub.status.busy": "2025-04-22T15:29:43.920985Z",
     "iopub.status.idle": "2025-04-22T15:29:43.929398Z",
     "shell.execute_reply": "2025-04-22T15:29:43.929049Z",
     "shell.execute_reply.started": "2025-04-22T15:29:43.921096Z"
    }
   },
   "outputs": [],
   "source": [
    "#expos_292[0].getMetadata()[\"RA\"]"
   ]
  },
  {
   "cell_type": "code",
   "execution_count": null,
   "id": "4676eef6-c1dc-4a0d-ab37-11c8e444ad56",
   "metadata": {
    "execution": {
     "iopub.execute_input": "2025-04-22T15:29:43.930031Z",
     "iopub.status.busy": "2025-04-22T15:29:43.929905Z",
     "iopub.status.idle": "2025-04-22T15:29:43.977710Z",
     "shell.execute_reply": "2025-04-22T15:29:43.977304Z",
     "shell.execute_reply.started": "2025-04-22T15:29:43.930018Z"
    }
   },
   "outputs": [],
   "source": [
    "#ghost_292.writeFits(\"ghost_292.fits\", expos_292[0].getMetadata(), \"w\")"
   ]
  },
  {
   "cell_type": "code",
   "execution_count": null,
   "id": "1e7d0566-6efc-4bd6-ae29-ac5e451e5149",
   "metadata": {
    "execution": {
     "iopub.execute_input": "2025-04-22T15:29:43.978298Z",
     "iopub.status.busy": "2025-04-22T15:29:43.978177Z",
     "iopub.status.idle": "2025-04-22T15:29:43.993162Z",
     "shell.execute_reply": "2025-04-22T15:29:43.992676Z",
     "shell.execute_reply.started": "2025-04-22T15:29:43.978286Z"
    }
   },
   "outputs": [],
   "source": [
    "#ghost_292.getDimensions()"
   ]
  },
  {
   "cell_type": "code",
   "execution_count": null,
   "id": "b9b1be71-13ac-4929-b8b7-86c9002ae1f2",
   "metadata": {
    "execution": {
     "iopub.execute_input": "2025-04-22T15:29:43.993715Z",
     "iopub.status.busy": "2025-04-22T15:29:43.993587Z",
     "iopub.status.idle": "2025-04-22T15:29:44.002612Z",
     "shell.execute_reply": "2025-04-22T15:29:44.002254Z",
     "shell.execute_reply.started": "2025-04-22T15:29:43.993697Z"
    }
   },
   "outputs": [],
   "source": [
    "#ghost_367.writeFits(\"ghost_367.fits\", expos_367[0].getMetadata(), \"w\")"
   ]
  },
  {
   "cell_type": "code",
   "execution_count": null,
   "id": "74233f63-bf10-40d2-8b82-1f6fd591acd4",
   "metadata": {},
   "outputs": [],
   "source": []
  }
 ],
 "metadata": {
  "kernelspec": {
   "display_name": "LSST",
   "language": "python",
   "name": "lsst"
  },
  "language_info": {
   "codemirror_mode": {
    "name": "ipython",
    "version": 3
   },
   "file_extension": ".py",
   "mimetype": "text/x-python",
   "name": "python",
   "nbconvert_exporter": "python",
   "pygments_lexer": "ipython3",
   "version": "3.12.9"
  }
 },
 "nbformat": 4,
 "nbformat_minor": 5
}
