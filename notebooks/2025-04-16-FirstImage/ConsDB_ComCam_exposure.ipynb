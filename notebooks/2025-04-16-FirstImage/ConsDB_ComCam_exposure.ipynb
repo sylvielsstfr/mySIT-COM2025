{
 "cells": [
  {
   "cell_type": "markdown",
   "id": "4c50da0f-2a30-4761-9a29-c67185aab160",
   "metadata": {},
   "source": [
    "# Consdb for LSSTCam for exposures\n",
    "\n",
    "- Creation date : 2025-04-18\n",
    "- last update : 2025-04-18\n",
    "- https://usdf-rsp-dev.slac.stanford.edu/consdb/\n",
    "- Schemes for constdb : https://sdm-schemas.lsst.io/\n",
    "- Documentation : https://consdb.lsst.io/index.html\n"
   ]
  },
  {
   "cell_type": "markdown",
   "id": "ce17244c-8f51-4666-90c4-509291c3d62f",
   "metadata": {},
   "source": [
    "LSSTCam/runs/nightlyValidation/{day_obs}/<lsst_distrib_tag>/DM-50157"
   ]
  },
  {
   "cell_type": "code",
   "execution_count": null,
   "id": "d9170f34-bf3d-4223-a737-89f81fe22a96",
   "metadata": {
    "execution": {
     "iopub.execute_input": "2025-04-18T16:47:23.933527Z",
     "iopub.status.busy": "2025-04-18T16:47:23.933270Z",
     "iopub.status.idle": "2025-04-18T16:47:32.471969Z",
     "shell.execute_reply": "2025-04-18T16:47:32.471522Z",
     "shell.execute_reply.started": "2025-04-18T16:47:23.933511Z"
    }
   },
   "outputs": [],
   "source": [
    "from lsst.summit.utils import ConsDbClient"
   ]
  },
  {
   "cell_type": "code",
   "execution_count": null,
   "id": "c9637cf5-efa5-4842-b39c-1e22ce097b1b",
   "metadata": {
    "execution": {
     "iopub.execute_input": "2025-04-18T16:47:32.472947Z",
     "iopub.status.busy": "2025-04-18T16:47:32.472453Z",
     "iopub.status.idle": "2025-04-18T16:47:32.529201Z",
     "shell.execute_reply": "2025-04-18T16:47:32.528685Z",
     "shell.execute_reply.started": "2025-04-18T16:47:32.472930Z"
    }
   },
   "outputs": [],
   "source": [
    "import numpy as np\n",
    "from astropy.table import Table, join\n",
    "from astropy.time import Time\n",
    "\n",
    "import matplotlib.pyplot as plt\n",
    "import matplotlib.dates as mdates\n",
    "import seaborn as sns\n",
    "%matplotlib widget\n",
    "\n",
    "from lsst.meas.algorithms.installGaussianPsf import FwhmPerSigma\n",
    "\n",
    "from tqdm.notebook import tqdm"
   ]
  },
  {
   "cell_type": "markdown",
   "id": "644d0a4b-7193-46b5-85c8-638ac7207b4f",
   "metadata": {},
   "source": [
    "## Configuration"
   ]
  },
  {
   "cell_type": "code",
   "execution_count": null,
   "id": "fd95a0ea-f58f-4672-afe0-fc3f3f80cfc1",
   "metadata": {
    "execution": {
     "iopub.execute_input": "2025-04-18T16:47:32.530462Z",
     "iopub.status.busy": "2025-04-18T16:47:32.529774Z",
     "iopub.status.idle": "2025-04-18T16:47:32.532893Z",
     "shell.execute_reply": "2025-04-18T16:47:32.532479Z",
     "shell.execute_reply.started": "2025-04-18T16:47:32.530444Z"
    }
   },
   "outputs": [],
   "source": [
    "os.environ[\"no_proxy\"] += \",.consdb\""
   ]
  },
  {
   "cell_type": "code",
   "execution_count": null,
   "id": "8c679aa8-2199-4e02-9354-aafa7f114f91",
   "metadata": {
    "execution": {
     "iopub.execute_input": "2025-04-18T16:47:32.533434Z",
     "iopub.status.busy": "2025-04-18T16:47:32.533300Z",
     "iopub.status.idle": "2025-04-18T16:47:32.539935Z",
     "shell.execute_reply": "2025-04-18T16:47:32.539542Z",
     "shell.execute_reply.started": "2025-04-18T16:47:32.533419Z"
    }
   },
   "outputs": [],
   "source": [
    "url=\"http://consdb-pq.consdb:8080/consdb\""
   ]
  },
  {
   "cell_type": "code",
   "execution_count": null,
   "id": "396043d3-35d4-45f8-bea4-af2ae6af74cd",
   "metadata": {
    "execution": {
     "iopub.execute_input": "2025-04-18T16:47:32.540586Z",
     "iopub.status.busy": "2025-04-18T16:47:32.540453Z",
     "iopub.status.idle": "2025-04-18T16:47:32.547245Z",
     "shell.execute_reply": "2025-04-18T16:47:32.546885Z",
     "shell.execute_reply.started": "2025-04-18T16:47:32.540571Z"
    }
   },
   "outputs": [],
   "source": [
    "consdb=ConsDbClient(url)"
   ]
  },
  {
   "cell_type": "markdown",
   "id": "45ac7b79-cc4a-4abf-8afb-db5e575b894a",
   "metadata": {},
   "source": [
    "https://sdm-schemas.lsst.io/cdb_lsstcomcam.html#exposure"
   ]
  },
  {
   "cell_type": "code",
   "execution_count": null,
   "id": "f015c934-ce60-4833-af60-a0514f33ddcd",
   "metadata": {
    "execution": {
     "iopub.execute_input": "2025-04-18T16:47:32.547822Z",
     "iopub.status.busy": "2025-04-18T16:47:32.547681Z",
     "iopub.status.idle": "2025-04-18T16:47:32.961963Z",
     "shell.execute_reply": "2025-04-18T16:47:32.961494Z",
     "shell.execute_reply.started": "2025-04-18T16:47:32.547808Z"
    }
   },
   "outputs": [],
   "source": [
    "# Query both consDB tables\n",
    "#exposure = consdb.query(\"SELECT * FROM cdb_lsstcam.exposure WHERE science_program = 'BLOCK-351'\")\n",
    "#visits = consdb.query(\"SELECT * FROM cdb_lsstcam.visit1 WHERE science_program = 'BLOCK-351'\")\n",
    "#visits_ql = consdb.query(\"SELECT * FROM cdb_lsstcam.visit1_quicklook\")\n",
    "#visits_ql = consdb.query(\"SELECT * FROM cdb_lsstcam.visit1\")\n",
    "\n",
    "exposures = consdb.query(\"SELECT * FROM cdb_lsstcam.exposure WHERE day_obs >= 20250415\")\n",
    "visits = consdb.query(\"SELECT * FROM cdb_lsstcam.visit1 WHERE day_obs >= 20250415\")\n",
    "#visits_ql = consdb.query(\"SELECT * FROM cdb_lsstcam.visit1_quicklook\")\n",
    "visits_ql = consdb.query(\"SELECT * FROM cdb_lsstcam.visit1\")\n",
    "\n",
    "# Join using astropy's join function on 'visit_id'\n",
    "exposure_join = exposures.rename_column(\"exposure_id\", \"visit_id\")\n",
    "merged_exposure = join(exposures, visits, keys=\"visit_id\", join_type=\"inner\")  \n",
    "merged_visits = join(visits, visits_ql, keys=\"visit_id\", join_type=\"inner\")  \n",
    "\n",
    "# Display or use the merged table\n",
    "#print(merged_visits)"
   ]
  },
  {
   "cell_type": "markdown",
   "id": "24d47919-04af-45ea-a70e-3f9e3d4e2be2",
   "metadata": {},
   "source": [
    "## Explore the exposures info in consdb"
   ]
  },
  {
   "cell_type": "code",
   "execution_count": null,
   "id": "d3ab9e1f-2b6b-4372-af3d-457aed8df26b",
   "metadata": {
    "execution": {
     "iopub.execute_input": "2025-04-18T16:47:32.962764Z",
     "iopub.status.busy": "2025-04-18T16:47:32.962609Z",
     "iopub.status.idle": "2025-04-18T16:47:32.965452Z",
     "shell.execute_reply": "2025-04-18T16:47:32.965075Z",
     "shell.execute_reply.started": "2025-04-18T16:47:32.962748Z"
    }
   },
   "outputs": [],
   "source": [
    "print(exposures.columns)"
   ]
  },
  {
   "cell_type": "code",
   "execution_count": null,
   "id": "57354d6c-9686-4930-8762-9a8433beebfe",
   "metadata": {
    "execution": {
     "iopub.execute_input": "2025-04-18T16:47:32.966207Z",
     "iopub.status.busy": "2025-04-18T16:47:32.965888Z",
     "iopub.status.idle": "2025-04-18T16:47:32.975906Z",
     "shell.execute_reply": "2025-04-18T16:47:32.975525Z",
     "shell.execute_reply.started": "2025-04-18T16:47:32.966192Z"
    }
   },
   "outputs": [],
   "source": [
    "df_exposures = exposures.to_pandas()"
   ]
  },
  {
   "cell_type": "code",
   "execution_count": null,
   "id": "a87acb62-ab95-42cb-abf3-58a02a86c3e8",
   "metadata": {
    "execution": {
     "iopub.execute_input": "2025-04-18T16:49:27.320048Z",
     "iopub.status.busy": "2025-04-18T16:49:27.319846Z",
     "iopub.status.idle": "2025-04-18T16:49:27.323645Z",
     "shell.execute_reply": "2025-04-18T16:49:27.323233Z",
     "shell.execute_reply.started": "2025-04-18T16:49:27.320032Z"
    }
   },
   "outputs": [],
   "source": [
    "df_exposures.size "
   ]
  },
  {
   "cell_type": "markdown",
   "id": "aef71a12-6d56-4b56-a49e-68ad90e2bc52",
   "metadata": {},
   "source": [
    "### Observation dates"
   ]
  },
  {
   "cell_type": "code",
   "execution_count": null,
   "id": "cb3cde1c-8ef3-4fa3-b4ce-4801747637f6",
   "metadata": {
    "execution": {
     "iopub.execute_input": "2025-04-18T16:50:44.809057Z",
     "iopub.status.busy": "2025-04-18T16:50:44.808733Z",
     "iopub.status.idle": "2025-04-18T16:50:44.812775Z",
     "shell.execute_reply": "2025-04-18T16:50:44.812406Z",
     "shell.execute_reply.started": "2025-04-18T16:50:44.809029Z"
    }
   },
   "outputs": [],
   "source": [
    "df_exposures[\"day_obs\"].unique()"
   ]
  },
  {
   "cell_type": "markdown",
   "id": "0dddfbfb-bcab-46a0-a2e4-629d80284aab",
   "metadata": {},
   "source": [
    "### Filters"
   ]
  },
  {
   "cell_type": "code",
   "execution_count": null,
   "id": "5dd87d43-7d1e-47ba-9205-db72babd45aa",
   "metadata": {
    "execution": {
     "iopub.execute_input": "2025-04-18T16:50:55.718010Z",
     "iopub.status.busy": "2025-04-18T16:50:55.717674Z",
     "iopub.status.idle": "2025-04-18T16:50:55.721582Z",
     "shell.execute_reply": "2025-04-18T16:50:55.721192Z",
     "shell.execute_reply.started": "2025-04-18T16:50:55.717993Z"
    }
   },
   "outputs": [],
   "source": [
    "print(df_exposures[\"physical_filter\"].unique(),df_exposures[\"band\"].unique())"
   ]
  },
  {
   "cell_type": "markdown",
   "id": "f90548eb-3722-4973-be9c-ab932088d70d",
   "metadata": {},
   "source": [
    "### Science program and observation reason"
   ]
  },
  {
   "cell_type": "code",
   "execution_count": null,
   "id": "b8cc4dd2-9b22-4a2e-8b2f-a5ce2525411b",
   "metadata": {
    "execution": {
     "iopub.execute_input": "2025-04-18T16:51:06.399358Z",
     "iopub.status.busy": "2025-04-18T16:51:06.399078Z",
     "iopub.status.idle": "2025-04-18T16:51:06.403236Z",
     "shell.execute_reply": "2025-04-18T16:51:06.402876Z",
     "shell.execute_reply.started": "2025-04-18T16:51:06.399343Z"
    }
   },
   "outputs": [],
   "source": [
    "df_exposures[\"science_program\"].unique()"
   ]
  },
  {
   "cell_type": "code",
   "execution_count": null,
   "id": "9fd86ee6-48ce-4494-adf9-cc444c89d508",
   "metadata": {
    "execution": {
     "iopub.execute_input": "2025-04-18T16:51:08.711916Z",
     "iopub.status.busy": "2025-04-18T16:51:08.711570Z",
     "iopub.status.idle": "2025-04-18T16:51:08.715907Z",
     "shell.execute_reply": "2025-04-18T16:51:08.715545Z",
     "shell.execute_reply.started": "2025-04-18T16:51:08.711889Z"
    }
   },
   "outputs": [],
   "source": [
    "df_exposures['observation_reason'].unique()"
   ]
  },
  {
   "cell_type": "markdown",
   "id": "f2a46c3b-20c1-4ce0-8db7-b4ab24ac1a12",
   "metadata": {},
   "source": [
    "### Time exposure"
   ]
  },
  {
   "cell_type": "code",
   "execution_count": null,
   "id": "4f5bbbdc-fa6c-45ab-bc4d-d5ee84ae75f9",
   "metadata": {
    "execution": {
     "iopub.execute_input": "2025-04-18T16:51:23.077248Z",
     "iopub.status.busy": "2025-04-18T16:51:23.076957Z",
     "iopub.status.idle": "2025-04-18T16:51:23.161140Z",
     "shell.execute_reply": "2025-04-18T16:51:23.160708Z",
     "shell.execute_reply.started": "2025-04-18T16:51:23.077232Z"
    }
   },
   "outputs": [],
   "source": [
    "fig,ax = plt.subplots(1,1,figsize=(8,4))\n",
    "ax.hist(df_exposures[\"exp_time\"].values,bins=50,facecolor=\"b\");\n",
    "plt.show()"
   ]
  },
  {
   "cell_type": "markdown",
   "id": "21441f79-45ef-4022-808f-9957a87a0ad1",
   "metadata": {},
   "source": [
    "## Region in sky"
   ]
  },
  {
   "cell_type": "code",
   "execution_count": null,
   "id": "133fe6ce-6ad5-40ed-a097-40a3662d80df",
   "metadata": {
    "execution": {
     "iopub.execute_input": "2025-04-18T16:51:27.462198Z",
     "iopub.status.busy": "2025-04-18T16:51:27.461882Z",
     "iopub.status.idle": "2025-04-18T16:51:27.465015Z",
     "shell.execute_reply": "2025-04-18T16:51:27.464621Z",
     "shell.execute_reply.started": "2025-04-18T16:51:27.462178Z"
    }
   },
   "outputs": [],
   "source": [
    "dict_b_to_col = {\"u\": \"b\", \"g\":\"g\", \"r\": \"r\", \"i\": 'orange', 'z': \"magenta\",'y':'purple'}"
   ]
  },
  {
   "cell_type": "code",
   "execution_count": null,
   "id": "5ee65e5b-3d0a-4fef-8a41-cd853c7c9e4f",
   "metadata": {
    "execution": {
     "iopub.execute_input": "2025-04-18T16:51:34.217288Z",
     "iopub.status.busy": "2025-04-18T16:51:34.216588Z",
     "iopub.status.idle": "2025-04-18T16:51:34.220231Z",
     "shell.execute_reply": "2025-04-18T16:51:34.219796Z",
     "shell.execute_reply.started": "2025-04-18T16:51:34.217268Z"
    }
   },
   "outputs": [],
   "source": [
    "col = df_exposures[\"band\"].map(lambda b:  dict_b_to_col[b] ).values"
   ]
  },
  {
   "cell_type": "code",
   "execution_count": null,
   "id": "10ea14f9-5bd4-4c0f-b117-69b7db9886dd",
   "metadata": {
    "execution": {
     "iopub.execute_input": "2025-04-18T16:51:36.233249Z",
     "iopub.status.busy": "2025-04-18T16:51:36.233019Z",
     "iopub.status.idle": "2025-04-18T16:51:36.236869Z",
     "shell.execute_reply": "2025-04-18T16:51:36.236494Z",
     "shell.execute_reply.started": "2025-04-18T16:51:36.233225Z"
    }
   },
   "outputs": [],
   "source": [
    "col"
   ]
  },
  {
   "cell_type": "code",
   "execution_count": null,
   "id": "15cd0a56-3e44-4924-9080-e741dd1bf3b6",
   "metadata": {
    "execution": {
     "iopub.execute_input": "2025-04-18T16:51:42.223354Z",
     "iopub.status.busy": "2025-04-18T16:51:42.223141Z",
     "iopub.status.idle": "2025-04-18T16:51:42.306216Z",
     "shell.execute_reply": "2025-04-18T16:51:42.305766Z",
     "shell.execute_reply.started": "2025-04-18T16:51:42.223339Z"
    }
   },
   "outputs": [],
   "source": [
    "fig,ax = plt.subplots(1,1,figsize=(8,4))\n",
    "df_exposures.plot.scatter(x='s_ra',y='s_dec',ax=ax,c=col)\n",
    "ax.grid()\n",
    "ax.set_aspect(\"equal\")\n",
    "plt.show()"
   ]
  },
  {
   "cell_type": "markdown",
   "id": "7310a336-342e-49b4-bdd7-eb5295afed7c",
   "metadata": {
    "execution": {
     "iopub.status.busy": "2025-04-18T15:21:32.428824Z",
     "iopub.status.idle": "2025-04-18T15:21:32.428991Z",
     "shell.execute_reply": "2025-04-18T15:21:32.428916Z",
     "shell.execute_reply.started": "2025-04-18T15:21:32.428908Z"
    }
   },
   "source": [
    "## Time dependence"
   ]
  },
  {
   "cell_type": "code",
   "execution_count": null,
   "id": "d6e78b73-58a4-40e5-bc6a-2c95f6953ae3",
   "metadata": {
    "execution": {
     "iopub.execute_input": "2025-04-18T16:51:53.114780Z",
     "iopub.status.busy": "2025-04-18T16:51:53.114435Z",
     "iopub.status.idle": "2025-04-18T16:51:53.118500Z",
     "shell.execute_reply": "2025-04-18T16:51:53.118085Z",
     "shell.execute_reply.started": "2025-04-18T16:51:53.114753Z"
    }
   },
   "outputs": [],
   "source": [
    "time = Time(exposures['exp_midpt'])"
   ]
  },
  {
   "cell_type": "code",
   "execution_count": null,
   "id": "c9ae914c-b595-4f94-adff-2b77996fa096",
   "metadata": {
    "execution": {
     "iopub.execute_input": "2025-04-18T16:51:56.983111Z",
     "iopub.status.busy": "2025-04-18T16:51:56.982901Z",
     "iopub.status.idle": "2025-04-18T16:51:56.987015Z",
     "shell.execute_reply": "2025-04-18T16:51:56.986553Z",
     "shell.execute_reply.started": "2025-04-18T16:51:56.983095Z"
    }
   },
   "outputs": [],
   "source": [
    "print('tmin = ',time.min(),' | tmax = ',time.max())"
   ]
  },
  {
   "cell_type": "markdown",
   "id": "10161d7e-3d6b-4eb5-9871-d024961b0846",
   "metadata": {},
   "source": [
    "### Airmass vs Time"
   ]
  },
  {
   "cell_type": "code",
   "execution_count": null,
   "id": "2ac16eec-4253-4647-a4c0-15c5e9ebd094",
   "metadata": {
    "execution": {
     "iopub.execute_input": "2025-04-18T16:52:11.150163Z",
     "iopub.status.busy": "2025-04-18T16:52:11.149957Z",
     "iopub.status.idle": "2025-04-18T16:52:11.271167Z",
     "shell.execute_reply": "2025-04-18T16:52:11.270716Z",
     "shell.execute_reply.started": "2025-04-18T16:52:11.150148Z"
    }
   },
   "outputs": [],
   "source": [
    "\n",
    "# Plot the time vs the specified column\n",
    "plt.figure(figsize=(8, 4))\n",
    "plt.plot(time.plot_date, exposures['airmass'],'b.')\n",
    "\n",
    "# Set x-axis to show dates\n",
    "#plt.gca().xaxis.set_major_formatter(mdates.DateFormatter('%Y-%m-%d %H:%M:%S'))\n",
    "plt.gca().xaxis.set_major_formatter(mdates.DateFormatter('%Y-%m-%d %H'))\n",
    "plt.gca().xaxis.set_major_locator(mdates.AutoDateLocator())\n",
    "\n",
    "# Rotate and format x-axis labels for readability\n",
    "plt.xticks(rotation=45, ha='right')\n",
    "\n",
    "plt.xlabel('Time')\n",
    "plt.ylabel('Airmass')\n",
    "plt.title(f'Time vs Airmass')\n",
    "plt.legend()\n",
    "plt.grid(True)\n",
    "plt.tight_layout()  # Adjust layout to prevent clipping of labels\n",
    "plt.show()"
   ]
  },
  {
   "cell_type": "code",
   "execution_count": null,
   "id": "6e94a1a2-f7a9-45fd-9fb7-876cd2634afc",
   "metadata": {},
   "outputs": [],
   "source": []
  },
  {
   "cell_type": "code",
   "execution_count": null,
   "id": "4f3d1575-f9ba-41bc-a983-07d7c7ade714",
   "metadata": {
    "execution": {
     "iopub.execute_input": "2025-04-18T16:52:24.097166Z",
     "iopub.status.busy": "2025-04-18T16:52:24.096932Z",
     "iopub.status.idle": "2025-04-18T16:52:24.455709Z",
     "shell.execute_reply": "2025-04-18T16:52:24.455308Z",
     "shell.execute_reply.started": "2025-04-18T16:52:24.097150Z"
    }
   },
   "outputs": [],
   "source": [
    "# Plot the time vs the specified column\n",
    "plt.figure(figsize=(12, 4))\n",
    "plt.plot(time.plot_date, exposures['air_temp'],'b.')\n",
    "\n",
    "# Set x-axis to show dates\n",
    "#plt.gca().xaxis.set_major_formatter(mdates.DateFormatter('%Y-%m-%d %H:%M:%S'))\n",
    "plt.gca().xaxis.set_major_formatter(mdates.DateFormatter('%Y-%m-%d %H'))\n",
    "plt.gca().xaxis.set_major_locator(mdates.AutoDateLocator())\n",
    "\n",
    "# Rotate and format x-axis labels for readability\n",
    "plt.xticks(rotation=45, ha='right')\n",
    "\n",
    "plt.xlabel('Time')\n",
    "plt.ylabel('air_temp')\n",
    "plt.title(f'air_temp vs time')\n",
    "plt.legend()\n",
    "plt.grid(True)\n",
    "plt.tight_layout()  # Adjust layout to prevent clipping of labels\n",
    "plt.show()"
   ]
  },
  {
   "cell_type": "code",
   "execution_count": null,
   "id": "745d7739-954b-4947-9b37-4e15658087c5",
   "metadata": {
    "execution": {
     "iopub.execute_input": "2025-04-18T16:52:33.464903Z",
     "iopub.status.busy": "2025-04-18T16:52:33.464688Z",
     "iopub.status.idle": "2025-04-18T16:52:33.574686Z",
     "shell.execute_reply": "2025-04-18T16:52:33.574240Z",
     "shell.execute_reply.started": "2025-04-18T16:52:33.464888Z"
    }
   },
   "outputs": [],
   "source": [
    "# Plot the time vs the specified column\n",
    "plt.figure(figsize=(12, 4))\n",
    "plt.plot(time.plot_date, exposures['pressure'],'b.')\n",
    "\n",
    "# Set x-axis to show dates\n",
    "#plt.gca().xaxis.set_major_formatter(mdates.DateFormatter('%Y-%m-%d %H:%M:%S'))\n",
    "plt.gca().xaxis.set_major_formatter(mdates.DateFormatter('%Y-%m-%d %H'))\n",
    "plt.gca().xaxis.set_major_locator(mdates.AutoDateLocator())\n",
    "\n",
    "# Rotate and format x-axis labels for readability\n",
    "plt.xticks(rotation=45, ha='right')\n",
    "\n",
    "plt.xlabel('Time')\n",
    "plt.ylabel('pressure')\n",
    "plt.title(f'pressure vs time')\n",
    "plt.legend()\n",
    "plt.grid(True)\n",
    "plt.tight_layout()  # Adjust layout to prevent clipping of labels\n",
    "plt.show()"
   ]
  },
  {
   "cell_type": "code",
   "execution_count": null,
   "id": "c56e229e-e2a7-4311-a619-ef77678cd07a",
   "metadata": {
    "execution": {
     "iopub.execute_input": "2025-04-18T16:52:43.324504Z",
     "iopub.status.busy": "2025-04-18T16:52:43.324158Z",
     "iopub.status.idle": "2025-04-18T16:52:43.434947Z",
     "shell.execute_reply": "2025-04-18T16:52:43.434550Z",
     "shell.execute_reply.started": "2025-04-18T16:52:43.324488Z"
    }
   },
   "outputs": [],
   "source": [
    "# Plot the time vs the specified column\n",
    "plt.figure(figsize=(12, 4))\n",
    "plt.plot(time.plot_date, exposures['humidity'],'b.')\n",
    "\n",
    "# Set x-axis to show dates\n",
    "#plt.gca().xaxis.set_major_formatter(mdates.DateFormatter('%Y-%m-%d %H:%M:%S'))\n",
    "plt.gca().xaxis.set_major_formatter(mdates.DateFormatter('%Y-%m-%d %H'))\n",
    "plt.gca().xaxis.set_major_locator(mdates.AutoDateLocator())\n",
    "\n",
    "# Rotate and format x-axis labels for readability\n",
    "plt.xticks(rotation=45, ha='right')\n",
    "\n",
    "plt.xlabel('Time')\n",
    "plt.ylabel('humidity')\n",
    "plt.title(f'humidity vs time')\n",
    "plt.legend()\n",
    "plt.grid(True)\n",
    "plt.tight_layout()  # Adjust layout to prevent clipping of labels\n",
    "plt.show()"
   ]
  },
  {
   "cell_type": "code",
   "execution_count": null,
   "id": "161879f6-53c4-4d00-8760-3f7edc95b450",
   "metadata": {},
   "outputs": [],
   "source": []
  },
  {
   "cell_type": "code",
   "execution_count": null,
   "id": "b341d28f-5e57-462a-90a2-0f7e3fe88afa",
   "metadata": {},
   "outputs": [],
   "source": []
  },
  {
   "cell_type": "code",
   "execution_count": null,
   "id": "69edab7a-5891-4423-9011-2ce78e570a6f",
   "metadata": {
    "execution": {
     "iopub.execute_input": "2025-04-18T16:52:53.062811Z",
     "iopub.status.busy": "2025-04-18T16:52:53.062495Z",
     "iopub.status.idle": "2025-04-18T16:52:53.177186Z",
     "shell.execute_reply": "2025-04-18T16:52:53.176718Z",
     "shell.execute_reply.started": "2025-04-18T16:52:53.062794Z"
    }
   },
   "outputs": [],
   "source": [
    "# Plot the time vs the specified column\n",
    "plt.figure(figsize=(12, 4))\n",
    "plt.plot(time.plot_date, exposures['wind_speed'],'b.')\n",
    "\n",
    "# Set x-axis to show dates\n",
    "#plt.gca().xaxis.set_major_formatter(mdates.DateFormatter('%Y-%m-%d %H:%M:%S'))\n",
    "plt.gca().xaxis.set_major_formatter(mdates.DateFormatter('%Y-%m-%d %H'))\n",
    "plt.gca().xaxis.set_major_locator(mdates.AutoDateLocator())\n",
    "\n",
    "# Rotate and format x-axis labels for readability\n",
    "plt.xticks(rotation=45, ha='right')\n",
    "\n",
    "plt.xlabel('Time')\n",
    "plt.ylabel('wind_speed')\n",
    "plt.title(f'wind_speed vs time')\n",
    "plt.legend()\n",
    "plt.grid(True)\n",
    "plt.tight_layout()  # Adjust layout to prevent clipping of labels\n",
    "plt.show()"
   ]
  },
  {
   "cell_type": "code",
   "execution_count": null,
   "id": "5b53fb9e-dc8a-4bd3-bb9e-6c5640070191",
   "metadata": {
    "execution": {
     "iopub.execute_input": "2025-04-18T16:53:02.208752Z",
     "iopub.status.busy": "2025-04-18T16:53:02.208420Z",
     "iopub.status.idle": "2025-04-18T16:53:02.325136Z",
     "shell.execute_reply": "2025-04-18T16:53:02.324718Z",
     "shell.execute_reply.started": "2025-04-18T16:53:02.208724Z"
    }
   },
   "outputs": [],
   "source": [
    "# Plot the time vs the specified column\n",
    "plt.figure(figsize=(12, 4))\n",
    "plt.plot(time.plot_date, exposures['wind_dir'],'b.')\n",
    "\n",
    "# Set x-axis to show dates\n",
    "#plt.gca().xaxis.set_major_formatter(mdates.DateFormatter('%Y-%m-%d %H:%M:%S'))\n",
    "plt.gca().xaxis.set_major_formatter(mdates.DateFormatter('%Y-%m-%d %H'))\n",
    "plt.gca().xaxis.set_major_locator(mdates.AutoDateLocator())\n",
    "\n",
    "# Rotate and format x-axis labels for readability\n",
    "plt.xticks(rotation=45, ha='right')\n",
    "\n",
    "plt.xlabel('Time')\n",
    "plt.ylabel('wind_dir')\n",
    "plt.title(f'wind_dir vs time')\n",
    "plt.legend()\n",
    "plt.grid(True)\n",
    "plt.tight_layout()  # Adjust layout to prevent clipping of labels\n",
    "plt.show()"
   ]
  },
  {
   "cell_type": "code",
   "execution_count": null,
   "id": "78ad5bbb-6425-4265-91f9-0f93a0286123",
   "metadata": {
    "execution": {
     "iopub.execute_input": "2025-04-18T16:53:11.045878Z",
     "iopub.status.busy": "2025-04-18T16:53:11.045626Z",
     "iopub.status.idle": "2025-04-18T16:53:11.182687Z",
     "shell.execute_reply": "2025-04-18T16:53:11.182222Z",
     "shell.execute_reply.started": "2025-04-18T16:53:11.045856Z"
    }
   },
   "outputs": [],
   "source": [
    "# Plot the time vs the specified column\n",
    "plt.figure(figsize=(12, 4))\n",
    "plt.plot(time.plot_date, exposures['dimm_seeing'],'b.')\n",
    "\n",
    "# Set x-axis to show dates\n",
    "#plt.gca().xaxis.set_major_formatter(mdates.DateFormatter('%Y-%m-%d %H:%M:%S'))\n",
    "plt.gca().xaxis.set_major_formatter(mdates.DateFormatter('%Y-%m-%d %H'))\n",
    "plt.gca().xaxis.set_major_locator(mdates.AutoDateLocator())\n",
    "\n",
    "# Rotate and format x-axis labels for readability\n",
    "plt.xticks(rotation=45, ha='right')\n",
    "\n",
    "plt.xlabel('Time')\n",
    "plt.ylabel('dimm_seeing')\n",
    "plt.title(f'dimm_seeing vs time')\n",
    "plt.legend()\n",
    "plt.grid(True)\n",
    "plt.tight_layout()  # Adjust layout to prevent clipping of labels\n",
    "plt.show()"
   ]
  },
  {
   "cell_type": "code",
   "execution_count": null,
   "id": "aae79c73-d9cf-4d89-8d85-f0ebcaf259ef",
   "metadata": {
    "execution": {
     "iopub.status.busy": "2025-04-18T16:47:33.209682Z",
     "iopub.status.idle": "2025-04-18T16:47:33.209843Z",
     "shell.execute_reply": "2025-04-18T16:47:33.209771Z",
     "shell.execute_reply.started": "2025-04-18T16:47:33.209764Z"
    }
   },
   "outputs": [],
   "source": [
    "# Plot the time vs the specified column\n",
    "plt.figure(figsize=(12, 4))\n",
    "plt.plot(time.plot_date, exposures['focus_z'],'b.')\n",
    "\n",
    "# Set x-axis to show dates\n",
    "#plt.gca().xaxis.set_major_formatter(mdates.DateFormatter('%Y-%m-%d %H:%M:%S'))\n",
    "plt.gca().xaxis.set_major_formatter(mdates.DateFormatter('%Y-%m-%d %H'))\n",
    "plt.gca().xaxis.set_major_locator(mdates.AutoDateLocator())\n",
    "\n",
    "# Rotate and format x-axis labels for readability\n",
    "plt.xticks(rotation=45, ha='right')\n",
    "\n",
    "plt.xlabel('Time')\n",
    "plt.ylabel('focus_z')\n",
    "plt.title(f'focus_z vs time')\n",
    "plt.legend()\n",
    "plt.grid(True)\n",
    "plt.tight_layout()  # Adjust layout to prevent clipping of labels\n",
    "plt.show()"
   ]
  },
  {
   "cell_type": "code",
   "execution_count": null,
   "id": "98d10515-a9d1-4cd0-a8a2-eeb9007d5538",
   "metadata": {},
   "outputs": [],
   "source": []
  }
 ],
 "metadata": {
  "kernelspec": {
   "display_name": "LSST",
   "language": "python",
   "name": "lsst"
  },
  "language_info": {
   "codemirror_mode": {
    "name": "ipython",
    "version": 3
   },
   "file_extension": ".py",
   "mimetype": "text/x-python",
   "name": "python",
   "nbconvert_exporter": "python",
   "pygments_lexer": "ipython3",
   "version": "3.12.9"
  }
 },
 "nbformat": 4,
 "nbformat_minor": 5
}
