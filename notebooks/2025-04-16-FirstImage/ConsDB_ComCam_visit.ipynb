{
 "cells": [
  {
   "cell_type": "markdown",
   "id": "4c50da0f-2a30-4761-9a29-c67185aab160",
   "metadata": {},
   "source": [
    "# Consdb for LSSTCam for visits\n",
    "\n",
    "- Creation date : 2025-04-18\n",
    "- last update : 2025-04-18\n",
    "- https://usdf-rsp-dev.slac.stanford.edu/consdb/\n",
    "- Schemes for constdb : https://sdm-schemas.lsst.io/\n",
    "- Documentation : https://consdb.lsst.io/index.html\n"
   ]
  },
  {
   "cell_type": "markdown",
   "id": "ce17244c-8f51-4666-90c4-509291c3d62f",
   "metadata": {},
   "source": [
    "LSSTCam/runs/nightlyValidation/{day_obs}/<lsst_distrib_tag>/DM-50157"
   ]
  },
  {
   "cell_type": "code",
   "execution_count": null,
   "id": "d9170f34-bf3d-4223-a737-89f81fe22a96",
   "metadata": {
    "execution": {
     "iopub.execute_input": "2025-04-18T16:50:09.239774Z",
     "iopub.status.busy": "2025-04-18T16:50:09.239557Z",
     "iopub.status.idle": "2025-04-18T16:50:17.781559Z",
     "shell.execute_reply": "2025-04-18T16:50:17.781103Z",
     "shell.execute_reply.started": "2025-04-18T16:50:09.239753Z"
    }
   },
   "outputs": [],
   "source": [
    "from lsst.summit.utils import ConsDbClient"
   ]
  },
  {
   "cell_type": "code",
   "execution_count": null,
   "id": "c9637cf5-efa5-4842-b39c-1e22ce097b1b",
   "metadata": {
    "execution": {
     "iopub.execute_input": "2025-04-18T16:50:17.782620Z",
     "iopub.status.busy": "2025-04-18T16:50:17.782083Z",
     "iopub.status.idle": "2025-04-18T16:50:17.834847Z",
     "shell.execute_reply": "2025-04-18T16:50:17.834398Z",
     "shell.execute_reply.started": "2025-04-18T16:50:17.782603Z"
    }
   },
   "outputs": [],
   "source": [
    "import numpy as np\n",
    "from astropy.table import Table, join\n",
    "from astropy.time import Time\n",
    "\n",
    "import matplotlib.pyplot as plt\n",
    "import matplotlib.dates as mdates\n",
    "import seaborn as sns\n",
    "%matplotlib widget\n",
    "\n",
    "from lsst.meas.algorithms.installGaussianPsf import FwhmPerSigma\n",
    "\n",
    "from tqdm.notebook import tqdm"
   ]
  },
  {
   "cell_type": "markdown",
   "id": "644d0a4b-7193-46b5-85c8-638ac7207b4f",
   "metadata": {},
   "source": [
    "## Configuration"
   ]
  },
  {
   "cell_type": "code",
   "execution_count": null,
   "id": "fd95a0ea-f58f-4672-afe0-fc3f3f80cfc1",
   "metadata": {
    "execution": {
     "iopub.execute_input": "2025-04-18T16:50:17.836040Z",
     "iopub.status.busy": "2025-04-18T16:50:17.835374Z",
     "iopub.status.idle": "2025-04-18T16:50:17.838089Z",
     "shell.execute_reply": "2025-04-18T16:50:17.837715Z",
     "shell.execute_reply.started": "2025-04-18T16:50:17.836022Z"
    }
   },
   "outputs": [],
   "source": [
    "os.environ[\"no_proxy\"] += \",.consdb\""
   ]
  },
  {
   "cell_type": "code",
   "execution_count": null,
   "id": "8c679aa8-2199-4e02-9354-aafa7f114f91",
   "metadata": {
    "execution": {
     "iopub.execute_input": "2025-04-18T16:50:17.838792Z",
     "iopub.status.busy": "2025-04-18T16:50:17.838531Z",
     "iopub.status.idle": "2025-04-18T16:50:17.844360Z",
     "shell.execute_reply": "2025-04-18T16:50:17.844001Z",
     "shell.execute_reply.started": "2025-04-18T16:50:17.838776Z"
    }
   },
   "outputs": [],
   "source": [
    "url=\"http://consdb-pq.consdb:8080/consdb\""
   ]
  },
  {
   "cell_type": "code",
   "execution_count": null,
   "id": "396043d3-35d4-45f8-bea4-af2ae6af74cd",
   "metadata": {
    "execution": {
     "iopub.execute_input": "2025-04-18T16:50:17.845171Z",
     "iopub.status.busy": "2025-04-18T16:50:17.844814Z",
     "iopub.status.idle": "2025-04-18T16:50:17.851765Z",
     "shell.execute_reply": "2025-04-18T16:50:17.851391Z",
     "shell.execute_reply.started": "2025-04-18T16:50:17.845155Z"
    }
   },
   "outputs": [],
   "source": [
    "consdb=ConsDbClient(url)"
   ]
  },
  {
   "cell_type": "markdown",
   "id": "45ac7b79-cc4a-4abf-8afb-db5e575b894a",
   "metadata": {},
   "source": [
    "https://sdm-schemas.lsst.io/cdb_lsstcomcam.html#exposure"
   ]
  },
  {
   "cell_type": "code",
   "execution_count": null,
   "id": "f015c934-ce60-4833-af60-a0514f33ddcd",
   "metadata": {
    "execution": {
     "iopub.execute_input": "2025-04-18T16:50:17.852586Z",
     "iopub.status.busy": "2025-04-18T16:50:17.852248Z",
     "iopub.status.idle": "2025-04-18T16:50:18.241802Z",
     "shell.execute_reply": "2025-04-18T16:50:18.241334Z",
     "shell.execute_reply.started": "2025-04-18T16:50:17.852570Z"
    }
   },
   "outputs": [],
   "source": [
    "# Query both consDB tables\n",
    "#exposure = consdb.query(\"SELECT * FROM cdb_lsstcam.exposure WHERE science_program = 'BLOCK-351'\")\n",
    "#visits = consdb.query(\"SELECT * FROM cdb_lsstcam.visit1 WHERE science_program = 'BLOCK-351'\")\n",
    "#visits_ql = consdb.query(\"SELECT * FROM cdb_lsstcam.visit1_quicklook\")\n",
    "#visits_ql = consdb.query(\"SELECT * FROM cdb_lsstcam.visit1\")\n",
    "\n",
    "exposure = consdb.query(\"SELECT * FROM cdb_lsstcam.exposure WHERE day_obs >= 20250415\")\n",
    "visits = consdb.query(\"SELECT * FROM cdb_lsstcam.visit1 WHERE day_obs >= 20250415\")\n",
    "#visits_ql = consdb.query(\"SELECT * FROM cdb_lsstcam.visit1_quicklook\")\n",
    "visits_ql = consdb.query(\"SELECT * FROM cdb_lsstcam.visit1\")\n",
    "\n",
    "# Join using astropy's join function on 'visit_id'\n",
    "exposure_join = exposure.rename_column(\"exposure_id\", \"visit_id\")\n",
    "merged_exposure = join(exposure, visits, keys=\"visit_id\", join_type=\"inner\")  \n",
    "merged_visits = join(visits, visits_ql, keys=\"visit_id\", join_type=\"inner\")  \n",
    "\n",
    "# Display or use the merged table\n",
    "#print(merged_visits)"
   ]
  },
  {
   "cell_type": "markdown",
   "id": "24d47919-04af-45ea-a70e-3f9e3d4e2be2",
   "metadata": {},
   "source": [
    "## Explore the visit info in consdb"
   ]
  },
  {
   "cell_type": "code",
   "execution_count": null,
   "id": "d3ab9e1f-2b6b-4372-af3d-457aed8df26b",
   "metadata": {
    "execution": {
     "iopub.execute_input": "2025-04-18T16:50:18.242497Z",
     "iopub.status.busy": "2025-04-18T16:50:18.242358Z",
     "iopub.status.idle": "2025-04-18T16:50:18.245230Z",
     "shell.execute_reply": "2025-04-18T16:50:18.244861Z",
     "shell.execute_reply.started": "2025-04-18T16:50:18.242482Z"
    }
   },
   "outputs": [],
   "source": [
    "print(visits.columns)"
   ]
  },
  {
   "cell_type": "code",
   "execution_count": null,
   "id": "57354d6c-9686-4930-8762-9a8433beebfe",
   "metadata": {
    "execution": {
     "iopub.execute_input": "2025-04-18T16:50:18.245803Z",
     "iopub.status.busy": "2025-04-18T16:50:18.245663Z",
     "iopub.status.idle": "2025-04-18T16:50:18.259652Z",
     "shell.execute_reply": "2025-04-18T16:50:18.259294Z",
     "shell.execute_reply.started": "2025-04-18T16:50:18.245790Z"
    }
   },
   "outputs": [],
   "source": [
    "df_visits = visits.to_pandas()"
   ]
  },
  {
   "cell_type": "code",
   "execution_count": null,
   "id": "cd0afbd3-5f9a-448c-ba81-27ebada30515",
   "metadata": {
    "execution": {
     "iopub.execute_input": "2025-04-18T16:50:18.260218Z",
     "iopub.status.busy": "2025-04-18T16:50:18.260086Z",
     "iopub.status.idle": "2025-04-18T16:50:18.267969Z",
     "shell.execute_reply": "2025-04-18T16:50:18.267617Z",
     "shell.execute_reply.started": "2025-04-18T16:50:18.260204Z"
    }
   },
   "outputs": [],
   "source": [
    "df_visits.size"
   ]
  },
  {
   "cell_type": "markdown",
   "id": "aef71a12-6d56-4b56-a49e-68ad90e2bc52",
   "metadata": {},
   "source": [
    "### Observation dates"
   ]
  },
  {
   "cell_type": "code",
   "execution_count": null,
   "id": "cb3cde1c-8ef3-4fa3-b4ce-4801747637f6",
   "metadata": {
    "execution": {
     "iopub.execute_input": "2025-04-18T16:50:18.268587Z",
     "iopub.status.busy": "2025-04-18T16:50:18.268456Z",
     "iopub.status.idle": "2025-04-18T16:50:18.275347Z",
     "shell.execute_reply": "2025-04-18T16:50:18.275000Z",
     "shell.execute_reply.started": "2025-04-18T16:50:18.268574Z"
    }
   },
   "outputs": [],
   "source": [
    "df_visits[\"day_obs\"].unique()"
   ]
  },
  {
   "cell_type": "markdown",
   "id": "0dddfbfb-bcab-46a0-a2e4-629d80284aab",
   "metadata": {},
   "source": [
    "### Filters"
   ]
  },
  {
   "cell_type": "code",
   "execution_count": null,
   "id": "5dd87d43-7d1e-47ba-9205-db72babd45aa",
   "metadata": {
    "execution": {
     "iopub.execute_input": "2025-04-18T16:50:18.276016Z",
     "iopub.status.busy": "2025-04-18T16:50:18.275883Z",
     "iopub.status.idle": "2025-04-18T16:50:18.282198Z",
     "shell.execute_reply": "2025-04-18T16:50:18.281837Z",
     "shell.execute_reply.started": "2025-04-18T16:50:18.276003Z"
    }
   },
   "outputs": [],
   "source": [
    "print(df_visits[\"physical_filter\"].unique(),df_visits[\"band\"].unique())"
   ]
  },
  {
   "cell_type": "markdown",
   "id": "f90548eb-3722-4973-be9c-ab932088d70d",
   "metadata": {},
   "source": [
    "### Science program and observation reason"
   ]
  },
  {
   "cell_type": "code",
   "execution_count": null,
   "id": "b8cc4dd2-9b22-4a2e-8b2f-a5ce2525411b",
   "metadata": {
    "execution": {
     "iopub.execute_input": "2025-04-18T16:50:18.282764Z",
     "iopub.status.busy": "2025-04-18T16:50:18.282621Z",
     "iopub.status.idle": "2025-04-18T16:50:18.289140Z",
     "shell.execute_reply": "2025-04-18T16:50:18.288796Z",
     "shell.execute_reply.started": "2025-04-18T16:50:18.282750Z"
    }
   },
   "outputs": [],
   "source": [
    "df_visits[\"science_program\"].unique()"
   ]
  },
  {
   "cell_type": "code",
   "execution_count": null,
   "id": "9fd86ee6-48ce-4494-adf9-cc444c89d508",
   "metadata": {
    "execution": {
     "iopub.execute_input": "2025-04-18T16:50:18.289679Z",
     "iopub.status.busy": "2025-04-18T16:50:18.289553Z",
     "iopub.status.idle": "2025-04-18T16:50:18.297477Z",
     "shell.execute_reply": "2025-04-18T16:50:18.297130Z",
     "shell.execute_reply.started": "2025-04-18T16:50:18.289667Z"
    }
   },
   "outputs": [],
   "source": [
    "df_visits['observation_reason'].unique()"
   ]
  },
  {
   "cell_type": "markdown",
   "id": "f2a46c3b-20c1-4ce0-8db7-b4ab24ac1a12",
   "metadata": {},
   "source": [
    "### Time exposure"
   ]
  },
  {
   "cell_type": "code",
   "execution_count": null,
   "id": "4f5bbbdc-fa6c-45ab-bc4d-d5ee84ae75f9",
   "metadata": {
    "execution": {
     "iopub.execute_input": "2025-04-18T16:50:18.297993Z",
     "iopub.status.busy": "2025-04-18T16:50:18.297870Z",
     "iopub.status.idle": "2025-04-18T16:50:18.386366Z",
     "shell.execute_reply": "2025-04-18T16:50:18.385975Z",
     "shell.execute_reply.started": "2025-04-18T16:50:18.297980Z"
    }
   },
   "outputs": [],
   "source": [
    "fig,ax = plt.subplots(1,1,figsize=(8,4))\n",
    "ax.hist(df_visits[\"exp_time\"].values,bins=50,facecolor=\"b\");\n",
    "plt.show()"
   ]
  },
  {
   "cell_type": "markdown",
   "id": "21441f79-45ef-4022-808f-9957a87a0ad1",
   "metadata": {},
   "source": [
    "## Region in sky"
   ]
  },
  {
   "cell_type": "code",
   "execution_count": null,
   "id": "133fe6ce-6ad5-40ed-a097-40a3662d80df",
   "metadata": {
    "execution": {
     "iopub.execute_input": "2025-04-18T16:50:18.386988Z",
     "iopub.status.busy": "2025-04-18T16:50:18.386853Z",
     "iopub.status.idle": "2025-04-18T16:50:18.389461Z",
     "shell.execute_reply": "2025-04-18T16:50:18.389114Z",
     "shell.execute_reply.started": "2025-04-18T16:50:18.386974Z"
    }
   },
   "outputs": [],
   "source": [
    "dict_b_to_col = {\"u\": \"b\", \"g\":\"g\", \"r\": \"r\", \"i\": 'orange', 'z': \"magenta\",'y':'purple'}"
   ]
  },
  {
   "cell_type": "code",
   "execution_count": null,
   "id": "5ee65e5b-3d0a-4fef-8a41-cd853c7c9e4f",
   "metadata": {
    "execution": {
     "iopub.execute_input": "2025-04-18T16:50:18.390241Z",
     "iopub.status.busy": "2025-04-18T16:50:18.389912Z",
     "iopub.status.idle": "2025-04-18T16:50:18.396524Z",
     "shell.execute_reply": "2025-04-18T16:50:18.396180Z",
     "shell.execute_reply.started": "2025-04-18T16:50:18.390226Z"
    }
   },
   "outputs": [],
   "source": [
    "col = df_visits[\"band\"].map(lambda b:  dict_b_to_col[b] ).values"
   ]
  },
  {
   "cell_type": "code",
   "execution_count": null,
   "id": "10ea14f9-5bd4-4c0f-b117-69b7db9886dd",
   "metadata": {
    "execution": {
     "iopub.execute_input": "2025-04-18T16:50:18.397159Z",
     "iopub.status.busy": "2025-04-18T16:50:18.397028Z",
     "iopub.status.idle": "2025-04-18T16:50:18.404220Z",
     "shell.execute_reply": "2025-04-18T16:50:18.403882Z",
     "shell.execute_reply.started": "2025-04-18T16:50:18.397146Z"
    }
   },
   "outputs": [],
   "source": [
    "col"
   ]
  },
  {
   "cell_type": "code",
   "execution_count": null,
   "id": "15cd0a56-3e44-4924-9080-e741dd1bf3b6",
   "metadata": {
    "execution": {
     "iopub.execute_input": "2025-04-18T16:50:18.404762Z",
     "iopub.status.busy": "2025-04-18T16:50:18.404631Z",
     "iopub.status.idle": "2025-04-18T16:50:18.492764Z",
     "shell.execute_reply": "2025-04-18T16:50:18.492344Z",
     "shell.execute_reply.started": "2025-04-18T16:50:18.404750Z"
    }
   },
   "outputs": [],
   "source": [
    "fig,ax = plt.subplots(1,1,figsize=(8,4))\n",
    "df_visits.plot.scatter(x='s_ra',y='s_dec',ax=ax,c=col)\n",
    "ax.grid()\n",
    "ax.set_aspect(\"equal\")\n",
    "plt.show()"
   ]
  },
  {
   "cell_type": "markdown",
   "id": "7310a336-342e-49b4-bdd7-eb5295afed7c",
   "metadata": {
    "execution": {
     "iopub.status.busy": "2025-04-18T15:21:32.428824Z",
     "iopub.status.idle": "2025-04-18T15:21:32.428991Z",
     "shell.execute_reply": "2025-04-18T15:21:32.428916Z",
     "shell.execute_reply.started": "2025-04-18T15:21:32.428908Z"
    }
   },
   "source": [
    "## Time dependence"
   ]
  },
  {
   "cell_type": "code",
   "execution_count": null,
   "id": "d6e78b73-58a4-40e5-bc6a-2c95f6953ae3",
   "metadata": {
    "execution": {
     "iopub.execute_input": "2025-04-18T16:50:18.493418Z",
     "iopub.status.busy": "2025-04-18T16:50:18.493275Z",
     "iopub.status.idle": "2025-04-18T16:50:18.496852Z",
     "shell.execute_reply": "2025-04-18T16:50:18.496484Z",
     "shell.execute_reply.started": "2025-04-18T16:50:18.493398Z"
    }
   },
   "outputs": [],
   "source": [
    "time = Time(visits['exp_midpt'])"
   ]
  },
  {
   "cell_type": "code",
   "execution_count": null,
   "id": "c9ae914c-b595-4f94-adff-2b77996fa096",
   "metadata": {
    "execution": {
     "iopub.execute_input": "2025-04-18T16:50:18.497391Z",
     "iopub.status.busy": "2025-04-18T16:50:18.497266Z",
     "iopub.status.idle": "2025-04-18T16:50:18.503709Z",
     "shell.execute_reply": "2025-04-18T16:50:18.503346Z",
     "shell.execute_reply.started": "2025-04-18T16:50:18.497379Z"
    }
   },
   "outputs": [],
   "source": [
    "print('tmin = ',time.min(),' | tmax = ',time.max())"
   ]
  },
  {
   "cell_type": "markdown",
   "id": "10161d7e-3d6b-4eb5-9871-d024961b0846",
   "metadata": {},
   "source": [
    "### Airmass vs Time"
   ]
  },
  {
   "cell_type": "code",
   "execution_count": null,
   "id": "2ac16eec-4253-4647-a4c0-15c5e9ebd094",
   "metadata": {
    "execution": {
     "iopub.execute_input": "2025-04-18T16:50:18.504228Z",
     "iopub.status.busy": "2025-04-18T16:50:18.504103Z",
     "iopub.status.idle": "2025-04-18T16:50:18.632384Z",
     "shell.execute_reply": "2025-04-18T16:50:18.631969Z",
     "shell.execute_reply.started": "2025-04-18T16:50:18.504215Z"
    }
   },
   "outputs": [],
   "source": [
    "\n",
    "# Plot the time vs the specified column\n",
    "plt.figure(figsize=(8, 4))\n",
    "plt.plot(time.plot_date, visits['airmass'],'b.')\n",
    "\n",
    "# Set x-axis to show dates\n",
    "#plt.gca().xaxis.set_major_formatter(mdates.DateFormatter('%Y-%m-%d %H:%M:%S'))\n",
    "plt.gca().xaxis.set_major_formatter(mdates.DateFormatter('%Y-%m-%d %H'))\n",
    "plt.gca().xaxis.set_major_locator(mdates.AutoDateLocator())\n",
    "\n",
    "# Rotate and format x-axis labels for readability\n",
    "plt.xticks(rotation=45, ha='right')\n",
    "\n",
    "plt.xlabel('Time')\n",
    "plt.ylabel('Airmass')\n",
    "plt.title(f'Time vs Airmass')\n",
    "plt.legend()\n",
    "plt.grid(True)\n",
    "plt.tight_layout()  # Adjust layout to prevent clipping of labels\n",
    "plt.show()"
   ]
  },
  {
   "cell_type": "code",
   "execution_count": null,
   "id": "6e94a1a2-f7a9-45fd-9fb7-876cd2634afc",
   "metadata": {},
   "outputs": [],
   "source": []
  },
  {
   "cell_type": "code",
   "execution_count": null,
   "id": "4f3d1575-f9ba-41bc-a983-07d7c7ade714",
   "metadata": {
    "execution": {
     "iopub.execute_input": "2025-04-18T16:50:18.633081Z",
     "iopub.status.busy": "2025-04-18T16:50:18.632929Z",
     "iopub.status.idle": "2025-04-18T16:50:18.750237Z",
     "shell.execute_reply": "2025-04-18T16:50:18.749793Z",
     "shell.execute_reply.started": "2025-04-18T16:50:18.633065Z"
    }
   },
   "outputs": [],
   "source": [
    "# Plot the time vs the specified column\n",
    "plt.figure(figsize=(12, 4))\n",
    "plt.plot(time.plot_date, visits['air_temp'],'b.')\n",
    "\n",
    "# Set x-axis to show dates\n",
    "#plt.gca().xaxis.set_major_formatter(mdates.DateFormatter('%Y-%m-%d %H:%M:%S'))\n",
    "plt.gca().xaxis.set_major_formatter(mdates.DateFormatter('%Y-%m-%d %H'))\n",
    "plt.gca().xaxis.set_major_locator(mdates.AutoDateLocator())\n",
    "\n",
    "# Rotate and format x-axis labels for readability\n",
    "plt.xticks(rotation=45, ha='right')\n",
    "\n",
    "plt.xlabel('Time')\n",
    "plt.ylabel('air_temp')\n",
    "plt.title(f'air_temp vs time')\n",
    "plt.legend()\n",
    "plt.grid(True)\n",
    "plt.tight_layout()  # Adjust layout to prevent clipping of labels\n",
    "plt.show()"
   ]
  },
  {
   "cell_type": "code",
   "execution_count": null,
   "id": "745d7739-954b-4947-9b37-4e15658087c5",
   "metadata": {
    "execution": {
     "iopub.execute_input": "2025-04-18T16:50:18.750977Z",
     "iopub.status.busy": "2025-04-18T16:50:18.750824Z",
     "iopub.status.idle": "2025-04-18T16:50:18.865106Z",
     "shell.execute_reply": "2025-04-18T16:50:18.864655Z",
     "shell.execute_reply.started": "2025-04-18T16:50:18.750961Z"
    }
   },
   "outputs": [],
   "source": [
    "# Plot the time vs the specified column\n",
    "plt.figure(figsize=(12, 4))\n",
    "plt.plot(time.plot_date, visits['pressure'],'b.')\n",
    "\n",
    "# Set x-axis to show dates\n",
    "#plt.gca().xaxis.set_major_formatter(mdates.DateFormatter('%Y-%m-%d %H:%M:%S'))\n",
    "plt.gca().xaxis.set_major_formatter(mdates.DateFormatter('%Y-%m-%d %H'))\n",
    "plt.gca().xaxis.set_major_locator(mdates.AutoDateLocator())\n",
    "\n",
    "# Rotate and format x-axis labels for readability\n",
    "plt.xticks(rotation=45, ha='right')\n",
    "\n",
    "plt.xlabel('Time')\n",
    "plt.ylabel('pressure')\n",
    "plt.title(f'pressure vs time')\n",
    "plt.legend()\n",
    "plt.grid(True)\n",
    "plt.tight_layout()  # Adjust layout to prevent clipping of labels\n",
    "plt.show()"
   ]
  },
  {
   "cell_type": "code",
   "execution_count": null,
   "id": "c56e229e-e2a7-4311-a619-ef77678cd07a",
   "metadata": {
    "execution": {
     "iopub.execute_input": "2025-04-18T16:50:18.868494Z",
     "iopub.status.busy": "2025-04-18T16:50:18.868350Z",
     "iopub.status.idle": "2025-04-18T16:50:18.981919Z",
     "shell.execute_reply": "2025-04-18T16:50:18.981466Z",
     "shell.execute_reply.started": "2025-04-18T16:50:18.868479Z"
    }
   },
   "outputs": [],
   "source": [
    "# Plot the time vs the specified column\n",
    "plt.figure(figsize=(12, 4))\n",
    "plt.plot(time.plot_date, visits['humidity'],'b.')\n",
    "\n",
    "# Set x-axis to show dates\n",
    "#plt.gca().xaxis.set_major_formatter(mdates.DateFormatter('%Y-%m-%d %H:%M:%S'))\n",
    "plt.gca().xaxis.set_major_formatter(mdates.DateFormatter('%Y-%m-%d %H'))\n",
    "plt.gca().xaxis.set_major_locator(mdates.AutoDateLocator())\n",
    "\n",
    "# Rotate and format x-axis labels for readability\n",
    "plt.xticks(rotation=45, ha='right')\n",
    "\n",
    "plt.xlabel('Time')\n",
    "plt.ylabel('humidity')\n",
    "plt.title(f'humidity vs time')\n",
    "plt.legend()\n",
    "plt.grid(True)\n",
    "plt.tight_layout()  # Adjust layout to prevent clipping of labels\n",
    "plt.show()"
   ]
  },
  {
   "cell_type": "code",
   "execution_count": null,
   "id": "161879f6-53c4-4d00-8760-3f7edc95b450",
   "metadata": {},
   "outputs": [],
   "source": []
  },
  {
   "cell_type": "code",
   "execution_count": null,
   "id": "b341d28f-5e57-462a-90a2-0f7e3fe88afa",
   "metadata": {},
   "outputs": [],
   "source": []
  },
  {
   "cell_type": "code",
   "execution_count": null,
   "id": "69edab7a-5891-4423-9011-2ce78e570a6f",
   "metadata": {
    "execution": {
     "iopub.execute_input": "2025-04-18T16:50:18.982564Z",
     "iopub.status.busy": "2025-04-18T16:50:18.982417Z",
     "iopub.status.idle": "2025-04-18T16:50:19.104269Z",
     "shell.execute_reply": "2025-04-18T16:50:19.103844Z",
     "shell.execute_reply.started": "2025-04-18T16:50:18.982548Z"
    }
   },
   "outputs": [],
   "source": [
    "# Plot the time vs the specified column\n",
    "plt.figure(figsize=(12, 4))\n",
    "plt.plot(time.plot_date, visits['wind_speed'],'b.')\n",
    "\n",
    "# Set x-axis to show dates\n",
    "#plt.gca().xaxis.set_major_formatter(mdates.DateFormatter('%Y-%m-%d %H:%M:%S'))\n",
    "plt.gca().xaxis.set_major_formatter(mdates.DateFormatter('%Y-%m-%d %H'))\n",
    "plt.gca().xaxis.set_major_locator(mdates.AutoDateLocator())\n",
    "\n",
    "# Rotate and format x-axis labels for readability\n",
    "plt.xticks(rotation=45, ha='right')\n",
    "\n",
    "plt.xlabel('Time')\n",
    "plt.ylabel('wind_speed')\n",
    "plt.title(f'wind_speed vs time')\n",
    "plt.legend()\n",
    "plt.grid(True)\n",
    "plt.tight_layout()  # Adjust layout to prevent clipping of labels\n",
    "plt.show()"
   ]
  },
  {
   "cell_type": "code",
   "execution_count": null,
   "id": "5b53fb9e-dc8a-4bd3-bb9e-6c5640070191",
   "metadata": {
    "execution": {
     "iopub.execute_input": "2025-04-18T16:50:19.104951Z",
     "iopub.status.busy": "2025-04-18T16:50:19.104799Z",
     "iopub.status.idle": "2025-04-18T16:50:19.221622Z",
     "shell.execute_reply": "2025-04-18T16:50:19.221221Z",
     "shell.execute_reply.started": "2025-04-18T16:50:19.104935Z"
    }
   },
   "outputs": [],
   "source": [
    "# Plot the time vs the specified column\n",
    "plt.figure(figsize=(12, 4))\n",
    "plt.plot(time.plot_date, visits['wind_dir'],'b.')\n",
    "\n",
    "# Set x-axis to show dates\n",
    "#plt.gca().xaxis.set_major_formatter(mdates.DateFormatter('%Y-%m-%d %H:%M:%S'))\n",
    "plt.gca().xaxis.set_major_formatter(mdates.DateFormatter('%Y-%m-%d %H'))\n",
    "plt.gca().xaxis.set_major_locator(mdates.AutoDateLocator())\n",
    "\n",
    "# Rotate and format x-axis labels for readability\n",
    "plt.xticks(rotation=45, ha='right')\n",
    "\n",
    "plt.xlabel('Time')\n",
    "plt.ylabel('wind_dir')\n",
    "plt.title(f'wind_dir vs time')\n",
    "plt.legend()\n",
    "plt.grid(True)\n",
    "plt.tight_layout()  # Adjust layout to prevent clipping of labels\n",
    "plt.show()"
   ]
  },
  {
   "cell_type": "code",
   "execution_count": null,
   "id": "78ad5bbb-6425-4265-91f9-0f93a0286123",
   "metadata": {
    "execution": {
     "iopub.execute_input": "2025-04-18T16:50:19.222301Z",
     "iopub.status.busy": "2025-04-18T16:50:19.222160Z",
     "iopub.status.idle": "2025-04-18T16:50:19.349730Z",
     "shell.execute_reply": "2025-04-18T16:50:19.349312Z",
     "shell.execute_reply.started": "2025-04-18T16:50:19.222286Z"
    }
   },
   "outputs": [],
   "source": [
    "# Plot the time vs the specified column\n",
    "plt.figure(figsize=(12, 4))\n",
    "plt.plot(time.plot_date, visits['dimm_seeing'],'b.')\n",
    "\n",
    "# Set x-axis to show dates\n",
    "#plt.gca().xaxis.set_major_formatter(mdates.DateFormatter('%Y-%m-%d %H:%M:%S'))\n",
    "plt.gca().xaxis.set_major_formatter(mdates.DateFormatter('%Y-%m-%d %H'))\n",
    "plt.gca().xaxis.set_major_locator(mdates.AutoDateLocator())\n",
    "\n",
    "# Rotate and format x-axis labels for readability\n",
    "plt.xticks(rotation=45, ha='right')\n",
    "\n",
    "plt.xlabel('Time')\n",
    "plt.ylabel('dimm_seeing')\n",
    "plt.title(f'dimm_seeing vs time')\n",
    "plt.legend()\n",
    "plt.grid(True)\n",
    "plt.tight_layout()  # Adjust layout to prevent clipping of labels\n",
    "plt.show()"
   ]
  },
  {
   "cell_type": "code",
   "execution_count": null,
   "id": "aae79c73-d9cf-4d89-8d85-f0ebcaf259ef",
   "metadata": {
    "execution": {
     "iopub.execute_input": "2025-04-18T16:50:19.350384Z",
     "iopub.status.busy": "2025-04-18T16:50:19.350244Z",
     "iopub.status.idle": "2025-04-18T16:50:19.461006Z",
     "shell.execute_reply": "2025-04-18T16:50:19.460581Z",
     "shell.execute_reply.started": "2025-04-18T16:50:19.350370Z"
    }
   },
   "outputs": [],
   "source": [
    "# Plot the time vs the specified column\n",
    "plt.figure(figsize=(12, 4))\n",
    "plt.plot(time.plot_date, visits['focus_z'],'b.')\n",
    "\n",
    "# Set x-axis to show dates\n",
    "#plt.gca().xaxis.set_major_formatter(mdates.DateFormatter('%Y-%m-%d %H:%M:%S'))\n",
    "plt.gca().xaxis.set_major_formatter(mdates.DateFormatter('%Y-%m-%d %H'))\n",
    "plt.gca().xaxis.set_major_locator(mdates.AutoDateLocator())\n",
    "\n",
    "# Rotate and format x-axis labels for readability\n",
    "plt.xticks(rotation=45, ha='right')\n",
    "\n",
    "plt.xlabel('Time')\n",
    "plt.ylabel('focus_z')\n",
    "plt.title(f'focus_z vs time')\n",
    "plt.legend()\n",
    "plt.grid(True)\n",
    "plt.tight_layout()  # Adjust layout to prevent clipping of labels\n",
    "plt.show()"
   ]
  },
  {
   "cell_type": "code",
   "execution_count": null,
   "id": "98d10515-a9d1-4cd0-a8a2-eeb9007d5538",
   "metadata": {},
   "outputs": [],
   "source": []
  }
 ],
 "metadata": {
  "kernelspec": {
   "display_name": "LSST",
   "language": "python",
   "name": "lsst"
  },
  "language_info": {
   "codemirror_mode": {
    "name": "ipython",
    "version": 3
   },
   "file_extension": ".py",
   "mimetype": "text/x-python",
   "name": "python",
   "nbconvert_exporter": "python",
   "pygments_lexer": "ipython3",
   "version": "3.12.9"
  }
 },
 "nbformat": 4,
 "nbformat_minor": 5
}
