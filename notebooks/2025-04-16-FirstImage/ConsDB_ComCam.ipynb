{
 "cells": [
  {
   "cell_type": "markdown",
   "id": "4c50da0f-2a30-4761-9a29-c67185aab160",
   "metadata": {},
   "source": [
    "# Consdb for LSSTCam for visits\n",
    "\n",
    "- Creation date : 2025-04-18\n",
    "- last update : 2025-04-18\n",
    "- https://usdf-rsp-dev.slac.stanford.edu/consdb/\n",
    "- Schemes for constdb : https://sdm-schemas.lsst.io/\n",
    "- Documentation : https://consdb.lsst.io/index.html\n"
   ]
  },
  {
   "cell_type": "markdown",
   "id": "ce17244c-8f51-4666-90c4-509291c3d62f",
   "metadata": {},
   "source": [
    "LSSTCam/runs/nightlyValidation/{day_obs}/<lsst_distrib_tag>/DM-50157"
   ]
  },
  {
   "cell_type": "code",
   "execution_count": null,
   "id": "d9170f34-bf3d-4223-a737-89f81fe22a96",
   "metadata": {
    "execution": {
     "iopub.execute_input": "2025-04-18T17:40:59.628680Z",
     "iopub.status.busy": "2025-04-18T17:40:59.628556Z",
     "iopub.status.idle": "2025-04-18T17:41:08.405104Z",
     "shell.execute_reply": "2025-04-18T17:41:08.404679Z",
     "shell.execute_reply.started": "2025-04-18T17:40:59.628666Z"
    }
   },
   "outputs": [],
   "source": [
    "from lsst.summit.utils import ConsDbClient"
   ]
  },
  {
   "cell_type": "code",
   "execution_count": null,
   "id": "c9637cf5-efa5-4842-b39c-1e22ce097b1b",
   "metadata": {
    "execution": {
     "iopub.execute_input": "2025-04-18T17:58:16.366635Z",
     "iopub.status.busy": "2025-04-18T17:58:16.366316Z",
     "iopub.status.idle": "2025-04-18T17:58:16.383977Z",
     "shell.execute_reply": "2025-04-18T17:58:16.383628Z",
     "shell.execute_reply.started": "2025-04-18T17:58:16.366609Z"
    }
   },
   "outputs": [],
   "source": [
    "import numpy as np\n",
    "\n",
    "import matplotlib.pyplot as plt\n",
    "import matplotlib.dates as mdates\n",
    "\n",
    "import matplotlib as mpl\n",
    "import matplotlib.cm as cm \n",
    "import matplotlib.colors as colors\n",
    "import matplotlib.cm as cmx\n",
    "from matplotlib.colors import ListedColormap\n",
    "\n",
    "import seaborn as sns\n",
    "%matplotlib widget\n",
    "\n",
    "from lsst.meas.algorithms.installGaussianPsf import FwhmPerSigma\n",
    "\n",
    "from tqdm.notebook import tqdm"
   ]
  },
  {
   "cell_type": "code",
   "execution_count": null,
   "id": "b328ebd9-693e-4114-aff3-69ce6124f798",
   "metadata": {
    "execution": {
     "iopub.execute_input": "2025-04-18T18:28:46.174466Z",
     "iopub.status.busy": "2025-04-18T18:28:46.174195Z",
     "iopub.status.idle": "2025-04-18T18:28:46.177322Z",
     "shell.execute_reply": "2025-04-18T18:28:46.176911Z",
     "shell.execute_reply.started": "2025-04-18T18:28:46.174450Z"
    }
   },
   "outputs": [],
   "source": [
    "#xx-small\n",
    "#x-small\n",
    "#small\n",
    "#medium\n",
    "#large\n",
    "#x-large\n",
    "#xx-large\n",
    "\n",
    "plt.rcParams[\"figure.figsize\"] = (10,6)\n",
    "plt.rcParams[\"axes.labelsize\"] = 'x-large'\n",
    "plt.rcParams['axes.titlesize'] = 'x-large'\n",
    "plt.rcParams['xtick.labelsize']= 'x-large'\n",
    "plt.rcParams['ytick.labelsize']= 'x-large'"
   ]
  },
  {
   "cell_type": "code",
   "execution_count": null,
   "id": "46759823-0ab0-4792-9670-08d70280821d",
   "metadata": {
    "execution": {
     "iopub.execute_input": "2025-04-18T17:41:08.459716Z",
     "iopub.status.busy": "2025-04-18T17:41:08.459275Z",
     "iopub.status.idle": "2025-04-18T17:41:08.462010Z",
     "shell.execute_reply": "2025-04-18T17:41:08.461652Z",
     "shell.execute_reply.started": "2025-04-18T17:41:08.459694Z"
    }
   },
   "outputs": [],
   "source": [
    "from astropy.table import Table, join\n",
    "from astropy.time import Time\n",
    "\n",
    "from astropy.coordinates import SkyCoord\n",
    "from astropy import coordinates\n",
    "import astropy.coordinates as coord\n",
    "import astropy.units as u"
   ]
  },
  {
   "cell_type": "code",
   "execution_count": null,
   "id": "24490394-b03f-4aec-8907-8377f67c1df2",
   "metadata": {
    "execution": {
     "iopub.execute_input": "2025-04-18T18:05:07.150378Z",
     "iopub.status.busy": "2025-04-18T18:05:07.150070Z",
     "iopub.status.idle": "2025-04-18T18:05:07.153072Z",
     "shell.execute_reply": "2025-04-18T18:05:07.152607Z",
     "shell.execute_reply.started": "2025-04-18T18:05:07.150360Z"
    }
   },
   "outputs": [],
   "source": [
    "import lsst.geom as geom\n",
    "import lsst\n",
    "from lsst.geom import Angle "
   ]
  },
  {
   "cell_type": "code",
   "execution_count": null,
   "id": "338ce377-6a76-4474-8dfd-e94ee48c6cc8",
   "metadata": {
    "execution": {
     "iopub.execute_input": "2025-04-18T18:05:10.304880Z",
     "iopub.status.busy": "2025-04-18T18:05:10.304644Z",
     "iopub.status.idle": "2025-04-18T18:05:10.307797Z",
     "shell.execute_reply": "2025-04-18T18:05:10.307414Z",
     "shell.execute_reply.started": "2025-04-18T18:05:10.304864Z"
    }
   },
   "outputs": [],
   "source": [
    "# https://pipelines.lsst.io/modules/lsst.geom/getting-started.html\n",
    "func_degToRad = lambda x : Angle(x,lsst.geom.degrees).asRadians()\n",
    "func_zendtoAirmass = lambda x : 1./np.cos(func_degToRad(x))\n",
    "#func_wrap = lambda x : Angle(x,lsst.geom.radians).wrap(180.*lsst.geom.degrees)"
   ]
  },
  {
   "cell_type": "markdown",
   "id": "644d0a4b-7193-46b5-85c8-638ac7207b4f",
   "metadata": {},
   "source": [
    "## Configuration"
   ]
  },
  {
   "cell_type": "code",
   "execution_count": null,
   "id": "7ce654a6-f761-478f-8133-b5e07868ed40",
   "metadata": {
    "execution": {
     "iopub.execute_input": "2025-04-18T17:46:41.006093Z",
     "iopub.status.busy": "2025-04-18T17:46:41.005548Z",
     "iopub.status.idle": "2025-04-18T17:46:41.008581Z",
     "shell.execute_reply": "2025-04-18T17:46:41.008092Z",
     "shell.execute_reply.started": "2025-04-18T17:46:41.006073Z"
    }
   },
   "outputs": [],
   "source": [
    "instrument = \"LSSTCam\""
   ]
  },
  {
   "cell_type": "code",
   "execution_count": null,
   "id": "fd95a0ea-f58f-4672-afe0-fc3f3f80cfc1",
   "metadata": {
    "execution": {
     "iopub.execute_input": "2025-04-18T17:41:08.462497Z",
     "iopub.status.busy": "2025-04-18T17:41:08.462377Z",
     "iopub.status.idle": "2025-04-18T17:41:08.472214Z",
     "shell.execute_reply": "2025-04-18T17:41:08.471867Z",
     "shell.execute_reply.started": "2025-04-18T17:41:08.462485Z"
    }
   },
   "outputs": [],
   "source": [
    "os.environ[\"no_proxy\"] += \",.consdb\""
   ]
  },
  {
   "cell_type": "code",
   "execution_count": null,
   "id": "8c679aa8-2199-4e02-9354-aafa7f114f91",
   "metadata": {
    "execution": {
     "iopub.execute_input": "2025-04-18T17:41:08.472720Z",
     "iopub.status.busy": "2025-04-18T17:41:08.472591Z",
     "iopub.status.idle": "2025-04-18T17:41:08.478963Z",
     "shell.execute_reply": "2025-04-18T17:41:08.478611Z",
     "shell.execute_reply.started": "2025-04-18T17:41:08.472707Z"
    }
   },
   "outputs": [],
   "source": [
    "url=\"http://consdb-pq.consdb:8080/consdb\""
   ]
  },
  {
   "cell_type": "code",
   "execution_count": null,
   "id": "396043d3-35d4-45f8-bea4-af2ae6af74cd",
   "metadata": {
    "execution": {
     "iopub.execute_input": "2025-04-18T17:41:08.479467Z",
     "iopub.status.busy": "2025-04-18T17:41:08.479347Z",
     "iopub.status.idle": "2025-04-18T17:41:08.485895Z",
     "shell.execute_reply": "2025-04-18T17:41:08.485594Z",
     "shell.execute_reply.started": "2025-04-18T17:41:08.479455Z"
    }
   },
   "outputs": [],
   "source": [
    "consdb=ConsDbClient(url)"
   ]
  },
  {
   "cell_type": "markdown",
   "id": "45ac7b79-cc4a-4abf-8afb-db5e575b894a",
   "metadata": {},
   "source": [
    "https://sdm-schemas.lsst.io/cdb_lsstcomcam.html#exposure"
   ]
  },
  {
   "cell_type": "code",
   "execution_count": null,
   "id": "f015c934-ce60-4833-af60-a0514f33ddcd",
   "metadata": {
    "execution": {
     "iopub.execute_input": "2025-04-18T17:41:08.486502Z",
     "iopub.status.busy": "2025-04-18T17:41:08.486252Z",
     "iopub.status.idle": "2025-04-18T17:41:08.874932Z",
     "shell.execute_reply": "2025-04-18T17:41:08.874318Z",
     "shell.execute_reply.started": "2025-04-18T17:41:08.486488Z"
    }
   },
   "outputs": [],
   "source": [
    "# Query both consDB tables\n",
    "#exposure = consdb.query(\"SELECT * FROM cdb_lsstcam.exposure WHERE science_program = 'BLOCK-351'\")\n",
    "#visits = consdb.query(\"SELECT * FROM cdb_lsstcam.visit1 WHERE science_program = 'BLOCK-351'\")\n",
    "#visits_ql = consdb.query(\"SELECT * FROM cdb_lsstcam.visit1_quicklook\")\n",
    "#visits_ql = consdb.query(\"SELECT * FROM cdb_lsstcam.visit1\")\n",
    "\n",
    "exposure = consdb.query(\"SELECT * FROM cdb_lsstcam.exposure WHERE day_obs >= 20250415\")\n",
    "visits = consdb.query(\"SELECT * FROM cdb_lsstcam.visit1 WHERE day_obs >= 20250415\")\n",
    "#visits_ql = consdb.query(\"SELECT * FROM cdb_lsstcam.visit1_quicklook\")\n",
    "visits_ql = consdb.query(\"SELECT * FROM cdb_lsstcam.visit1\")\n",
    "\n",
    "# Join using astropy's join function on 'visit_id'\n",
    "exposure_join = exposure.rename_column(\"exposure_id\", \"visit_id\")\n",
    "merged_exposure = join(exposure, visits, keys=\"visit_id\", join_type=\"inner\")  \n",
    "merged_visits = join(visits, visits_ql, keys=\"visit_id\", join_type=\"inner\")  \n",
    "\n",
    "# Display or use the merged table\n",
    "#print(merged_visits)"
   ]
  },
  {
   "cell_type": "markdown",
   "id": "24d47919-04af-45ea-a70e-3f9e3d4e2be2",
   "metadata": {},
   "source": [
    "## Explore the visit info in consdb"
   ]
  },
  {
   "cell_type": "code",
   "execution_count": null,
   "id": "d3ab9e1f-2b6b-4372-af3d-457aed8df26b",
   "metadata": {
    "execution": {
     "iopub.execute_input": "2025-04-18T17:41:08.875529Z",
     "iopub.status.busy": "2025-04-18T17:41:08.875397Z",
     "iopub.status.idle": "2025-04-18T17:41:08.878041Z",
     "shell.execute_reply": "2025-04-18T17:41:08.877680Z",
     "shell.execute_reply.started": "2025-04-18T17:41:08.875515Z"
    }
   },
   "outputs": [],
   "source": [
    "print(visits.columns)"
   ]
  },
  {
   "cell_type": "code",
   "execution_count": null,
   "id": "57354d6c-9686-4930-8762-9a8433beebfe",
   "metadata": {
    "execution": {
     "iopub.execute_input": "2025-04-18T17:41:08.878511Z",
     "iopub.status.busy": "2025-04-18T17:41:08.878389Z",
     "iopub.status.idle": "2025-04-18T17:41:08.889649Z",
     "shell.execute_reply": "2025-04-18T17:41:08.889289Z",
     "shell.execute_reply.started": "2025-04-18T17:41:08.878499Z"
    }
   },
   "outputs": [],
   "source": [
    "df_visits = visits.to_pandas()"
   ]
  },
  {
   "cell_type": "markdown",
   "id": "aef71a12-6d56-4b56-a49e-68ad90e2bc52",
   "metadata": {},
   "source": [
    "### Observation dates"
   ]
  },
  {
   "cell_type": "code",
   "execution_count": null,
   "id": "cb3cde1c-8ef3-4fa3-b4ce-4801747637f6",
   "metadata": {
    "execution": {
     "iopub.execute_input": "2025-04-18T17:41:08.890140Z",
     "iopub.status.busy": "2025-04-18T17:41:08.890020Z",
     "iopub.status.idle": "2025-04-18T17:41:08.895055Z",
     "shell.execute_reply": "2025-04-18T17:41:08.894715Z",
     "shell.execute_reply.started": "2025-04-18T17:41:08.890128Z"
    }
   },
   "outputs": [],
   "source": [
    "df_visits[\"day_obs\"].unique()"
   ]
  },
  {
   "cell_type": "markdown",
   "id": "0dddfbfb-bcab-46a0-a2e4-629d80284aab",
   "metadata": {},
   "source": [
    "### Filters"
   ]
  },
  {
   "cell_type": "code",
   "execution_count": null,
   "id": "5dd87d43-7d1e-47ba-9205-db72babd45aa",
   "metadata": {
    "execution": {
     "iopub.execute_input": "2025-04-18T17:41:08.895531Z",
     "iopub.status.busy": "2025-04-18T17:41:08.895413Z",
     "iopub.status.idle": "2025-04-18T17:41:08.901533Z",
     "shell.execute_reply": "2025-04-18T17:41:08.901193Z",
     "shell.execute_reply.started": "2025-04-18T17:41:08.895520Z"
    }
   },
   "outputs": [],
   "source": [
    "print(df_visits[\"physical_filter\"].unique(),df_visits[\"band\"].unique())"
   ]
  },
  {
   "cell_type": "markdown",
   "id": "f90548eb-3722-4973-be9c-ab932088d70d",
   "metadata": {},
   "source": [
    "### Science program and observation reason"
   ]
  },
  {
   "cell_type": "code",
   "execution_count": null,
   "id": "b8cc4dd2-9b22-4a2e-8b2f-a5ce2525411b",
   "metadata": {
    "execution": {
     "iopub.execute_input": "2025-04-18T17:41:08.902229Z",
     "iopub.status.busy": "2025-04-18T17:41:08.901934Z",
     "iopub.status.idle": "2025-04-18T17:41:08.908758Z",
     "shell.execute_reply": "2025-04-18T17:41:08.908469Z",
     "shell.execute_reply.started": "2025-04-18T17:41:08.902213Z"
    }
   },
   "outputs": [],
   "source": [
    "df_visits[\"science_program\"].unique()"
   ]
  },
  {
   "cell_type": "code",
   "execution_count": null,
   "id": "9fd86ee6-48ce-4494-adf9-cc444c89d508",
   "metadata": {
    "execution": {
     "iopub.execute_input": "2025-04-18T17:41:08.909197Z",
     "iopub.status.busy": "2025-04-18T17:41:08.909083Z",
     "iopub.status.idle": "2025-04-18T17:41:08.916557Z",
     "shell.execute_reply": "2025-04-18T17:41:08.916191Z",
     "shell.execute_reply.started": "2025-04-18T17:41:08.909185Z"
    }
   },
   "outputs": [],
   "source": [
    "df_visits['observation_reason'].unique()"
   ]
  },
  {
   "cell_type": "markdown",
   "id": "f2a46c3b-20c1-4ce0-8db7-b4ab24ac1a12",
   "metadata": {},
   "source": [
    "### Time exposure"
   ]
  },
  {
   "cell_type": "code",
   "execution_count": null,
   "id": "4f5bbbdc-fa6c-45ab-bc4d-d5ee84ae75f9",
   "metadata": {
    "execution": {
     "iopub.execute_input": "2025-04-18T17:41:08.916995Z",
     "iopub.status.busy": "2025-04-18T17:41:08.916880Z",
     "iopub.status.idle": "2025-04-18T17:41:09.005804Z",
     "shell.execute_reply": "2025-04-18T17:41:09.005432Z",
     "shell.execute_reply.started": "2025-04-18T17:41:08.916983Z"
    }
   },
   "outputs": [],
   "source": [
    "fig,ax = plt.subplots(1,1,figsize=(8,4))\n",
    "ax.hist(df_visits[\"exp_time\"].values,bins=50,facecolor=\"b\");\n",
    "plt.show()"
   ]
  },
  {
   "cell_type": "markdown",
   "id": "21441f79-45ef-4022-808f-9957a87a0ad1",
   "metadata": {},
   "source": [
    "## Region in sky"
   ]
  },
  {
   "cell_type": "code",
   "execution_count": null,
   "id": "133fe6ce-6ad5-40ed-a097-40a3662d80df",
   "metadata": {
    "execution": {
     "iopub.execute_input": "2025-04-18T17:41:09.006556Z",
     "iopub.status.busy": "2025-04-18T17:41:09.006418Z",
     "iopub.status.idle": "2025-04-18T17:41:09.008688Z",
     "shell.execute_reply": "2025-04-18T17:41:09.008354Z",
     "shell.execute_reply.started": "2025-04-18T17:41:09.006542Z"
    }
   },
   "outputs": [],
   "source": [
    "dict_b_to_col = {\"u\": \"b\", \"g\":\"g\", \"r\": \"r\", \"i\": 'orange', 'z': \"magenta\",'y':'purple'}"
   ]
  },
  {
   "cell_type": "code",
   "execution_count": null,
   "id": "5ee65e5b-3d0a-4fef-8a41-cd853c7c9e4f",
   "metadata": {
    "execution": {
     "iopub.execute_input": "2025-04-18T17:41:09.009200Z",
     "iopub.status.busy": "2025-04-18T17:41:09.009080Z",
     "iopub.status.idle": "2025-04-18T17:41:09.017444Z",
     "shell.execute_reply": "2025-04-18T17:41:09.017095Z",
     "shell.execute_reply.started": "2025-04-18T17:41:09.009187Z"
    }
   },
   "outputs": [],
   "source": [
    "col = df_visits[\"band\"].map(lambda b:  dict_b_to_col[b] ).values"
   ]
  },
  {
   "cell_type": "code",
   "execution_count": null,
   "id": "10ea14f9-5bd4-4c0f-b117-69b7db9886dd",
   "metadata": {
    "execution": {
     "iopub.execute_input": "2025-04-18T17:41:09.017964Z",
     "iopub.status.busy": "2025-04-18T17:41:09.017841Z",
     "iopub.status.idle": "2025-04-18T17:41:09.024987Z",
     "shell.execute_reply": "2025-04-18T17:41:09.024711Z",
     "shell.execute_reply.started": "2025-04-18T17:41:09.017951Z"
    }
   },
   "outputs": [],
   "source": [
    "col"
   ]
  },
  {
   "cell_type": "code",
   "execution_count": null,
   "id": "15cd0a56-3e44-4924-9080-e741dd1bf3b6",
   "metadata": {
    "execution": {
     "iopub.execute_input": "2025-04-18T17:41:09.025427Z",
     "iopub.status.busy": "2025-04-18T17:41:09.025312Z",
     "iopub.status.idle": "2025-04-18T17:41:09.113796Z",
     "shell.execute_reply": "2025-04-18T17:41:09.113478Z",
     "shell.execute_reply.started": "2025-04-18T17:41:09.025415Z"
    }
   },
   "outputs": [],
   "source": [
    "fig,ax = plt.subplots(1,1,figsize=(8,4))\n",
    "df_visits.plot.scatter(x='s_ra',y='s_dec',ax=ax,c=col)\n",
    "ax.grid()\n",
    "ax.set_aspect(\"equal\")\n",
    "plt.show()"
   ]
  },
  {
   "cell_type": "code",
   "execution_count": null,
   "id": "9e6ce737-28e5-4d28-8db2-858485517866",
   "metadata": {
    "execution": {
     "iopub.execute_input": "2025-04-18T18:26:32.378181Z",
     "iopub.status.busy": "2025-04-18T18:26:32.377805Z",
     "iopub.status.idle": "2025-04-18T18:26:32.381098Z",
     "shell.execute_reply": "2025-04-18T18:26:32.380716Z",
     "shell.execute_reply.started": "2025-04-18T18:26:32.378163Z"
    }
   },
   "outputs": [],
   "source": [
    "palette_spectral = sns.color_palette(\"Spectral_r\", as_cmap=True)"
   ]
  },
  {
   "cell_type": "code",
   "execution_count": null,
   "id": "7746fe8f-7c82-4ddf-a624-3d65f9404563",
   "metadata": {
    "execution": {
     "iopub.execute_input": "2025-04-18T17:58:21.289209Z",
     "iopub.status.busy": "2025-04-18T17:58:21.288868Z",
     "iopub.status.idle": "2025-04-18T17:58:21.423572Z",
     "shell.execute_reply": "2025-04-18T17:58:21.423119Z",
     "shell.execute_reply.started": "2025-04-18T17:58:21.289191Z"
    }
   },
   "outputs": [],
   "source": [
    "cmap_time = ListedColormap(sns.color_palette(\"Spectral\", df_visits.size))"
   ]
  },
  {
   "cell_type": "code",
   "execution_count": null,
   "id": "6f056e3e-491b-4e6d-a92e-76f06f8e9536",
   "metadata": {
    "execution": {
     "iopub.execute_input": "2025-04-18T18:08:03.059730Z",
     "iopub.status.busy": "2025-04-18T18:08:03.059506Z",
     "iopub.status.idle": "2025-04-18T18:08:03.066434Z",
     "shell.execute_reply": "2025-04-18T18:08:03.066109Z",
     "shell.execute_reply.started": "2025-04-18T18:08:03.059713Z"
    }
   },
   "outputs": [],
   "source": [
    "ra_g = df_visits['s_ra'].apply(func_degToRad) \n",
    "dec_g = df_visits['s_dec'].apply(func_degToRad) "
   ]
  },
  {
   "cell_type": "code",
   "execution_count": null,
   "id": "a9968ad6-6c5b-4855-a400-a769cb5ad52e",
   "metadata": {
    "execution": {
     "iopub.execute_input": "2025-04-18T18:22:05.401177Z",
     "iopub.status.busy": "2025-04-18T18:22:05.400904Z",
     "iopub.status.idle": "2025-04-18T18:22:05.404087Z",
     "shell.execute_reply": "2025-04-18T18:22:05.403662Z",
     "shell.execute_reply.started": "2025-04-18T18:22:05.401160Z"
    }
   },
   "outputs": [],
   "source": [
    "dt = df_visits['obs_start_mjd'].values - df_visits['obs_start_mjd'].min()"
   ]
  },
  {
   "cell_type": "code",
   "execution_count": null,
   "id": "358735fd-81de-42de-aa1e-930d5764d562",
   "metadata": {
    "execution": {
     "iopub.execute_input": "2025-04-18T18:25:33.801654Z",
     "iopub.status.busy": "2025-04-18T18:25:33.801083Z",
     "iopub.status.idle": "2025-04-18T18:25:33.803954Z",
     "shell.execute_reply": "2025-04-18T18:25:33.803573Z",
     "shell.execute_reply.started": "2025-04-18T18:25:33.801635Z"
    }
   },
   "outputs": [],
   "source": [
    "dtmin = dt.min()\n",
    "dtmax = dt.max()"
   ]
  },
  {
   "cell_type": "code",
   "execution_count": null,
   "id": "cd8f4136-dfed-4029-ae49-d52ea4054839",
   "metadata": {
    "execution": {
     "iopub.execute_input": "2025-04-18T17:44:22.916645Z",
     "iopub.status.busy": "2025-04-18T17:44:22.916427Z",
     "iopub.status.idle": "2025-04-18T17:44:22.923329Z",
     "shell.execute_reply": "2025-04-18T17:44:22.922919Z",
     "shell.execute_reply.started": "2025-04-18T17:44:22.916629Z"
    }
   },
   "outputs": [],
   "source": [
    "# Galactic plane\n",
    "gal_long = np.linspace(-180.,180,360)\n",
    "gal_lat = np.zeros((360))\n",
    "coordinates_galactic_planes = SkyCoord(l=gal_long*u.degree, b=gal_lat*u.degree, frame='galactic')\n",
    "gp_radec = coordinates_galactic_planes.transform_to('icrs')  \n",
    "# for galactic plane\n",
    "# gp_radec.ra : 0., 360.\n",
    "# gp_radec.dec : -90, 90\n",
    "gp_ra_toplot = coordinates.Angle(gp_radec.ra.degree*u.degree)\n",
    "gp_ra_toplot = gp_ra_toplot.wrap_at(180*u.degree)\n",
    "# gp_ra_toplot -180, 180"
   ]
  },
  {
   "cell_type": "code",
   "execution_count": null,
   "id": "527a501a-41fd-4bb1-8db5-22c9d70fba5a",
   "metadata": {
    "execution": {
     "iopub.execute_input": "2025-04-18T17:53:18.119531Z",
     "iopub.status.busy": "2025-04-18T17:53:18.119064Z",
     "iopub.status.idle": "2025-04-18T17:53:18.122086Z",
     "shell.execute_reply": "2025-04-18T17:53:18.121719Z",
     "shell.execute_reply.started": "2025-04-18T17:53:18.119513Z"
    }
   },
   "outputs": [],
   "source": [
    "ra = coordinates.Angle(df_visits['s_ra'].values,unit=\"deg\").radian\n",
    "dec = coordinates.Angle(df_visits['s_dec'].values,unit=\"deg\").radian"
   ]
  },
  {
   "cell_type": "code",
   "execution_count": null,
   "id": "1712cfc0-eed3-4dfa-a61e-f79d167db18e",
   "metadata": {
    "execution": {
     "iopub.execute_input": "2025-04-18T17:53:20.236491Z",
     "iopub.status.busy": "2025-04-18T17:53:20.236224Z",
     "iopub.status.idle": "2025-04-18T17:53:20.239642Z",
     "shell.execute_reply": "2025-04-18T17:53:20.239313Z",
     "shell.execute_reply.started": "2025-04-18T17:53:20.236474Z"
    }
   },
   "outputs": [],
   "source": [
    "ra"
   ]
  },
  {
   "cell_type": "code",
   "execution_count": null,
   "id": "e99f4a95-1534-4345-b37c-c1de06bbd717",
   "metadata": {
    "execution": {
     "iopub.execute_input": "2025-04-18T18:37:07.672719Z",
     "iopub.status.busy": "2025-04-18T18:37:07.672384Z",
     "iopub.status.idle": "2025-04-18T18:37:07.817683Z",
     "shell.execute_reply": "2025-04-18T18:37:07.817296Z",
     "shell.execute_reply.started": "2025-04-18T18:37:07.672694Z"
    }
   },
   "outputs": [],
   "source": [
    "# plot\n",
    "# x arg in rad must be (-2pi,2pi), y arg in rad  must be in ( -pi,pi )\n",
    "fig = plt.figure(figsize=(12,6))\n",
    "#ax = fig.add_subplot(111, projection=\"aitoff\")\n",
    "ax = fig.add_subplot(111, projection=\"mollweide\")\n",
    "ax.scatter(gp_ra_toplot.radian, gp_radec.dec.radian,c=\"r\",label=\"Galactic Plane\",s=1)\n",
    "#ax.scatter(ra-np.pi,dec,marker='+',c=all_colors_g)\n",
    "im = ax.scatter(ra_g.values-np.pi,dec_g.values,marker='+',s=50,lw=3,c=dt,cmap=palette_spectral)\n",
    "ax.legend()\n",
    "ax.grid()\n",
    "\n",
    "cbar = plt.colorbar(im, orientation='horizontal', label='time(days)')\n",
    "plt.suptitle(instrument)"
   ]
  },
  {
   "cell_type": "markdown",
   "id": "7310a336-342e-49b4-bdd7-eb5295afed7c",
   "metadata": {
    "execution": {
     "iopub.status.busy": "2025-04-18T15:21:32.428824Z",
     "iopub.status.idle": "2025-04-18T15:21:32.428991Z",
     "shell.execute_reply": "2025-04-18T15:21:32.428916Z",
     "shell.execute_reply.started": "2025-04-18T15:21:32.428908Z"
    }
   },
   "source": [
    "## Time dependence"
   ]
  },
  {
   "cell_type": "code",
   "execution_count": null,
   "id": "d6e78b73-58a4-40e5-bc6a-2c95f6953ae3",
   "metadata": {
    "execution": {
     "iopub.execute_input": "2025-04-18T17:41:09.114353Z",
     "iopub.status.busy": "2025-04-18T17:41:09.114220Z",
     "iopub.status.idle": "2025-04-18T17:41:09.117411Z",
     "shell.execute_reply": "2025-04-18T17:41:09.117136Z",
     "shell.execute_reply.started": "2025-04-18T17:41:09.114339Z"
    }
   },
   "outputs": [],
   "source": [
    "time = Time(visits['exp_midpt'])"
   ]
  },
  {
   "cell_type": "code",
   "execution_count": null,
   "id": "c9ae914c-b595-4f94-adff-2b77996fa096",
   "metadata": {
    "execution": {
     "iopub.execute_input": "2025-04-18T17:41:09.117874Z",
     "iopub.status.busy": "2025-04-18T17:41:09.117751Z",
     "iopub.status.idle": "2025-04-18T17:41:09.126217Z",
     "shell.execute_reply": "2025-04-18T17:41:09.125922Z",
     "shell.execute_reply.started": "2025-04-18T17:41:09.117862Z"
    }
   },
   "outputs": [],
   "source": [
    "print('tmin = ',time.min(),' | tmax = ',time.max())"
   ]
  },
  {
   "cell_type": "markdown",
   "id": "10161d7e-3d6b-4eb5-9871-d024961b0846",
   "metadata": {},
   "source": [
    "### Airmass vs Time"
   ]
  },
  {
   "cell_type": "code",
   "execution_count": null,
   "id": "2ac16eec-4253-4647-a4c0-15c5e9ebd094",
   "metadata": {
    "execution": {
     "iopub.execute_input": "2025-04-18T17:41:09.129152Z",
     "iopub.status.busy": "2025-04-18T17:41:09.128888Z",
     "iopub.status.idle": "2025-04-18T17:41:09.250287Z",
     "shell.execute_reply": "2025-04-18T17:41:09.249970Z",
     "shell.execute_reply.started": "2025-04-18T17:41:09.129137Z"
    }
   },
   "outputs": [],
   "source": [
    "\n",
    "# Plot the time vs the specified column\n",
    "plt.figure(figsize=(8, 4))\n",
    "plt.plot(time.plot_date, visits['airmass'],'b.')\n",
    "\n",
    "# Set x-axis to show dates\n",
    "#plt.gca().xaxis.set_major_formatter(mdates.DateFormatter('%Y-%m-%d %H:%M:%S'))\n",
    "plt.gca().xaxis.set_major_formatter(mdates.DateFormatter('%Y-%m-%d %H'))\n",
    "plt.gca().xaxis.set_major_locator(mdates.AutoDateLocator())\n",
    "\n",
    "# Rotate and format x-axis labels for readability\n",
    "plt.xticks(rotation=45, ha='right')\n",
    "\n",
    "plt.xlabel('Time')\n",
    "plt.ylabel('Airmass')\n",
    "plt.title(f'Time vs Airmass')\n",
    "plt.legend()\n",
    "plt.grid(True)\n",
    "plt.tight_layout()  # Adjust layout to prevent clipping of labels\n",
    "plt.show()"
   ]
  },
  {
   "cell_type": "code",
   "execution_count": null,
   "id": "6e94a1a2-f7a9-45fd-9fb7-876cd2634afc",
   "metadata": {},
   "outputs": [],
   "source": []
  },
  {
   "cell_type": "code",
   "execution_count": null,
   "id": "4f3d1575-f9ba-41bc-a983-07d7c7ade714",
   "metadata": {
    "execution": {
     "iopub.execute_input": "2025-04-18T17:41:09.250822Z",
     "iopub.status.busy": "2025-04-18T17:41:09.250678Z",
     "iopub.status.idle": "2025-04-18T17:41:09.366807Z",
     "shell.execute_reply": "2025-04-18T17:41:09.366473Z",
     "shell.execute_reply.started": "2025-04-18T17:41:09.250806Z"
    }
   },
   "outputs": [],
   "source": [
    "# Plot the time vs the specified column\n",
    "plt.figure(figsize=(12, 4))\n",
    "plt.plot(time.plot_date, visits['air_temp'],'b.')\n",
    "\n",
    "# Set x-axis to show dates\n",
    "#plt.gca().xaxis.set_major_formatter(mdates.DateFormatter('%Y-%m-%d %H:%M:%S'))\n",
    "plt.gca().xaxis.set_major_formatter(mdates.DateFormatter('%Y-%m-%d %H'))\n",
    "plt.gca().xaxis.set_major_locator(mdates.AutoDateLocator())\n",
    "\n",
    "# Rotate and format x-axis labels for readability\n",
    "plt.xticks(rotation=45, ha='right')\n",
    "\n",
    "plt.xlabel('Time')\n",
    "plt.ylabel('air_temp')\n",
    "plt.title(f'air_temp vs time')\n",
    "plt.legend()\n",
    "plt.grid(True)\n",
    "plt.tight_layout()  # Adjust layout to prevent clipping of labels\n",
    "plt.show()"
   ]
  },
  {
   "cell_type": "code",
   "execution_count": null,
   "id": "745d7739-954b-4947-9b37-4e15658087c5",
   "metadata": {
    "execution": {
     "iopub.execute_input": "2025-04-18T17:41:09.367378Z",
     "iopub.status.busy": "2025-04-18T17:41:09.367243Z",
     "iopub.status.idle": "2025-04-18T17:41:09.476979Z",
     "shell.execute_reply": "2025-04-18T17:41:09.476653Z",
     "shell.execute_reply.started": "2025-04-18T17:41:09.367364Z"
    }
   },
   "outputs": [],
   "source": [
    "# Plot the time vs the specified column\n",
    "plt.figure(figsize=(12, 4))\n",
    "plt.plot(time.plot_date, visits['pressure'],'b.')\n",
    "\n",
    "# Set x-axis to show dates\n",
    "#plt.gca().xaxis.set_major_formatter(mdates.DateFormatter('%Y-%m-%d %H:%M:%S'))\n",
    "plt.gca().xaxis.set_major_formatter(mdates.DateFormatter('%Y-%m-%d %H'))\n",
    "plt.gca().xaxis.set_major_locator(mdates.AutoDateLocator())\n",
    "\n",
    "# Rotate and format x-axis labels for readability\n",
    "plt.xticks(rotation=45, ha='right')\n",
    "\n",
    "plt.xlabel('Time')\n",
    "plt.ylabel('pressure')\n",
    "plt.title(f'pressure vs time')\n",
    "plt.legend()\n",
    "plt.grid(True)\n",
    "plt.tight_layout()  # Adjust layout to prevent clipping of labels\n",
    "plt.show()"
   ]
  },
  {
   "cell_type": "code",
   "execution_count": null,
   "id": "c56e229e-e2a7-4311-a619-ef77678cd07a",
   "metadata": {
    "execution": {
     "iopub.execute_input": "2025-04-18T17:41:09.477538Z",
     "iopub.status.busy": "2025-04-18T17:41:09.477405Z",
     "iopub.status.idle": "2025-04-18T17:41:09.589340Z",
     "shell.execute_reply": "2025-04-18T17:41:09.589035Z",
     "shell.execute_reply.started": "2025-04-18T17:41:09.477524Z"
    }
   },
   "outputs": [],
   "source": [
    "# Plot the time vs the specified column\n",
    "plt.figure(figsize=(12, 4))\n",
    "plt.plot(time.plot_date, visits['humidity'],'b.')\n",
    "\n",
    "# Set x-axis to show dates\n",
    "#plt.gca().xaxis.set_major_formatter(mdates.DateFormatter('%Y-%m-%d %H:%M:%S'))\n",
    "plt.gca().xaxis.set_major_formatter(mdates.DateFormatter('%Y-%m-%d %H'))\n",
    "plt.gca().xaxis.set_major_locator(mdates.AutoDateLocator())\n",
    "\n",
    "# Rotate and format x-axis labels for readability\n",
    "plt.xticks(rotation=45, ha='right')\n",
    "\n",
    "plt.xlabel('Time')\n",
    "plt.ylabel('humidity')\n",
    "plt.title(f'humidity vs time')\n",
    "plt.legend()\n",
    "plt.grid(True)\n",
    "plt.tight_layout()  # Adjust layout to prevent clipping of labels\n",
    "plt.show()"
   ]
  },
  {
   "cell_type": "code",
   "execution_count": null,
   "id": "161879f6-53c4-4d00-8760-3f7edc95b450",
   "metadata": {},
   "outputs": [],
   "source": []
  },
  {
   "cell_type": "code",
   "execution_count": null,
   "id": "b341d28f-5e57-462a-90a2-0f7e3fe88afa",
   "metadata": {},
   "outputs": [],
   "source": []
  },
  {
   "cell_type": "code",
   "execution_count": null,
   "id": "69edab7a-5891-4423-9011-2ce78e570a6f",
   "metadata": {
    "execution": {
     "iopub.execute_input": "2025-04-18T17:41:09.589901Z",
     "iopub.status.busy": "2025-04-18T17:41:09.589766Z",
     "iopub.status.idle": "2025-04-18T17:41:09.701038Z",
     "shell.execute_reply": "2025-04-18T17:41:09.700714Z",
     "shell.execute_reply.started": "2025-04-18T17:41:09.589887Z"
    }
   },
   "outputs": [],
   "source": [
    "# Plot the time vs the specified column\n",
    "plt.figure(figsize=(12, 4))\n",
    "plt.plot(time.plot_date, visits['wind_speed'],'b.')\n",
    "\n",
    "# Set x-axis to show dates\n",
    "#plt.gca().xaxis.set_major_formatter(mdates.DateFormatter('%Y-%m-%d %H:%M:%S'))\n",
    "plt.gca().xaxis.set_major_formatter(mdates.DateFormatter('%Y-%m-%d %H'))\n",
    "plt.gca().xaxis.set_major_locator(mdates.AutoDateLocator())\n",
    "\n",
    "# Rotate and format x-axis labels for readability\n",
    "plt.xticks(rotation=45, ha='right')\n",
    "\n",
    "plt.xlabel('Time')\n",
    "plt.ylabel('wind_speed')\n",
    "plt.title(f'wind_speed vs time')\n",
    "plt.legend()\n",
    "plt.grid(True)\n",
    "plt.tight_layout()  # Adjust layout to prevent clipping of labels\n",
    "plt.show()"
   ]
  },
  {
   "cell_type": "code",
   "execution_count": null,
   "id": "5b53fb9e-dc8a-4bd3-bb9e-6c5640070191",
   "metadata": {
    "execution": {
     "iopub.execute_input": "2025-04-18T17:41:09.701618Z",
     "iopub.status.busy": "2025-04-18T17:41:09.701486Z",
     "iopub.status.idle": "2025-04-18T17:41:09.821292Z",
     "shell.execute_reply": "2025-04-18T17:41:09.820838Z",
     "shell.execute_reply.started": "2025-04-18T17:41:09.701604Z"
    }
   },
   "outputs": [],
   "source": [
    "# Plot the time vs the specified column\n",
    "plt.figure(figsize=(12, 4))\n",
    "plt.plot(time.plot_date, visits['wind_dir'],'b.')\n",
    "\n",
    "# Set x-axis to show dates\n",
    "#plt.gca().xaxis.set_major_formatter(mdates.DateFormatter('%Y-%m-%d %H:%M:%S'))\n",
    "plt.gca().xaxis.set_major_formatter(mdates.DateFormatter('%Y-%m-%d %H'))\n",
    "plt.gca().xaxis.set_major_locator(mdates.AutoDateLocator())\n",
    "\n",
    "# Rotate and format x-axis labels for readability\n",
    "plt.xticks(rotation=45, ha='right')\n",
    "\n",
    "plt.xlabel('Time')\n",
    "plt.ylabel('wind_dir')\n",
    "plt.title(f'wind_dir vs time')\n",
    "plt.legend()\n",
    "plt.grid(True)\n",
    "plt.tight_layout()  # Adjust layout to prevent clipping of labels\n",
    "plt.show()"
   ]
  },
  {
   "cell_type": "code",
   "execution_count": null,
   "id": "78ad5bbb-6425-4265-91f9-0f93a0286123",
   "metadata": {
    "execution": {
     "iopub.execute_input": "2025-04-18T17:41:09.821951Z",
     "iopub.status.busy": "2025-04-18T17:41:09.821807Z",
     "iopub.status.idle": "2025-04-18T17:41:09.952086Z",
     "shell.execute_reply": "2025-04-18T17:41:09.951665Z",
     "shell.execute_reply.started": "2025-04-18T17:41:09.821936Z"
    }
   },
   "outputs": [],
   "source": [
    "# Plot the time vs the specified column\n",
    "plt.figure(figsize=(12, 4))\n",
    "plt.plot(time.plot_date, visits['dimm_seeing'],'b.')\n",
    "\n",
    "# Set x-axis to show dates\n",
    "#plt.gca().xaxis.set_major_formatter(mdates.DateFormatter('%Y-%m-%d %H:%M:%S'))\n",
    "plt.gca().xaxis.set_major_formatter(mdates.DateFormatter('%Y-%m-%d %H'))\n",
    "plt.gca().xaxis.set_major_locator(mdates.AutoDateLocator())\n",
    "\n",
    "# Rotate and format x-axis labels for readability\n",
    "plt.xticks(rotation=45, ha='right')\n",
    "\n",
    "plt.xlabel('Time')\n",
    "plt.ylabel('dimm_seeing')\n",
    "plt.title(f'dimm_seeing vs time')\n",
    "plt.legend()\n",
    "plt.grid(True)\n",
    "plt.tight_layout()  # Adjust layout to prevent clipping of labels\n",
    "plt.show()"
   ]
  },
  {
   "cell_type": "code",
   "execution_count": null,
   "id": "aae79c73-d9cf-4d89-8d85-f0ebcaf259ef",
   "metadata": {
    "execution": {
     "iopub.execute_input": "2025-04-18T17:41:09.952761Z",
     "iopub.status.busy": "2025-04-18T17:41:09.952612Z",
     "iopub.status.idle": "2025-04-18T17:41:10.066790Z",
     "shell.execute_reply": "2025-04-18T17:41:10.066377Z",
     "shell.execute_reply.started": "2025-04-18T17:41:09.952747Z"
    }
   },
   "outputs": [],
   "source": [
    "# Plot the time vs the specified column\n",
    "plt.figure(figsize=(12, 4))\n",
    "plt.plot(time.plot_date, visits['focus_z'],'b.')\n",
    "\n",
    "# Set x-axis to show dates\n",
    "#plt.gca().xaxis.set_major_formatter(mdates.DateFormatter('%Y-%m-%d %H:%M:%S'))\n",
    "plt.gca().xaxis.set_major_formatter(mdates.DateFormatter('%Y-%m-%d %H'))\n",
    "plt.gca().xaxis.set_major_locator(mdates.AutoDateLocator())\n",
    "\n",
    "# Rotate and format x-axis labels for readability\n",
    "plt.xticks(rotation=45, ha='right')\n",
    "\n",
    "plt.xlabel('Time')\n",
    "plt.ylabel('focus_z')\n",
    "plt.title(f'focus_z vs time')\n",
    "plt.legend()\n",
    "plt.grid(True)\n",
    "plt.tight_layout()  # Adjust layout to prevent clipping of labels\n",
    "plt.show()"
   ]
  },
  {
   "cell_type": "code",
   "execution_count": null,
   "id": "98d10515-a9d1-4cd0-a8a2-eeb9007d5538",
   "metadata": {},
   "outputs": [],
   "source": []
  }
 ],
 "metadata": {
  "kernelspec": {
   "display_name": "LSST",
   "language": "python",
   "name": "lsst"
  },
  "language_info": {
   "codemirror_mode": {
    "name": "ipython",
    "version": 3
   },
   "file_extension": ".py",
   "mimetype": "text/x-python",
   "name": "python",
   "nbconvert_exporter": "python",
   "pygments_lexer": "ipython3",
   "version": "3.12.9"
  }
 },
 "nbformat": 4,
 "nbformat_minor": 5
}
