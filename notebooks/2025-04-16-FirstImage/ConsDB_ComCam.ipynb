{
 "cells": [
  {
   "cell_type": "markdown",
   "id": "4c50da0f-2a30-4761-9a29-c67185aab160",
   "metadata": {},
   "source": [
    "# Consdb for LSSTComCam for visits\n",
    "\n",
    "- Creation date : 2025-04-18\n",
    "- last update : 2025-04-19\n",
    "- https://usdf-rsp-dev.slac.stanford.edu/consdb/\n",
    "- Schemes for constdb : https://sdm-schemas.lsst.io/\n",
    "- Documentation : https://consdb.lsst.io/index.html\n"
   ]
  },
  {
   "cell_type": "markdown",
   "id": "ce17244c-8f51-4666-90c4-509291c3d62f",
   "metadata": {},
   "source": [
    "LSSTCam/runs/nightlyValidation/{day_obs}/<lsst_distrib_tag>/DM-50157"
   ]
  },
  {
   "cell_type": "code",
   "execution_count": null,
   "id": "d9170f34-bf3d-4223-a737-89f81fe22a96",
   "metadata": {
    "execution": {
     "iopub.execute_input": "2025-04-22T15:25:27.845114Z",
     "iopub.status.busy": "2025-04-22T15:25:27.844991Z",
     "iopub.status.idle": "2025-04-22T15:25:36.643094Z",
     "shell.execute_reply": "2025-04-22T15:25:36.642567Z",
     "shell.execute_reply.started": "2025-04-22T15:25:27.845100Z"
    }
   },
   "outputs": [],
   "source": [
    "from lsst.summit.utils import ConsDbClient"
   ]
  },
  {
   "cell_type": "code",
   "execution_count": null,
   "id": "c9637cf5-efa5-4842-b39c-1e22ce097b1b",
   "metadata": {
    "execution": {
     "iopub.execute_input": "2025-04-22T15:25:36.645450Z",
     "iopub.status.busy": "2025-04-22T15:25:36.645317Z",
     "iopub.status.idle": "2025-04-22T15:25:36.698377Z",
     "shell.execute_reply": "2025-04-22T15:25:36.697869Z",
     "shell.execute_reply.started": "2025-04-22T15:25:36.645435Z"
    }
   },
   "outputs": [],
   "source": [
    "import numpy as np\n",
    "\n",
    "import matplotlib.pyplot as plt\n",
    "import matplotlib.dates as mdates\n",
    "\n",
    "import matplotlib as mpl\n",
    "import matplotlib.cm as cm \n",
    "import matplotlib.colors as colors\n",
    "import matplotlib.cm as cmx\n",
    "from matplotlib.colors import ListedColormap\n",
    "\n",
    "import seaborn as sns\n",
    "%matplotlib widget\n",
    "\n",
    "from lsst.meas.algorithms.installGaussianPsf import FwhmPerSigma\n",
    "\n",
    "from tqdm.notebook import tqdm\n",
    "import pandas as pd"
   ]
  },
  {
   "cell_type": "code",
   "execution_count": null,
   "id": "b328ebd9-693e-4114-aff3-69ce6124f798",
   "metadata": {
    "execution": {
     "iopub.execute_input": "2025-04-22T15:25:36.699365Z",
     "iopub.status.busy": "2025-04-22T15:25:36.698894Z",
     "iopub.status.idle": "2025-04-22T15:25:36.702094Z",
     "shell.execute_reply": "2025-04-22T15:25:36.701646Z",
     "shell.execute_reply.started": "2025-04-22T15:25:36.699349Z"
    }
   },
   "outputs": [],
   "source": [
    "#xx-small\n",
    "#x-small\n",
    "#small\n",
    "#medium\n",
    "#large\n",
    "#x-large\n",
    "#xx-large\n",
    "\n",
    "plt.rcParams[\"figure.figsize\"] = (10,6)\n",
    "plt.rcParams[\"axes.labelsize\"] = 'x-large'\n",
    "plt.rcParams['axes.titlesize'] = 'x-large'\n",
    "plt.rcParams['xtick.labelsize']= 'x-large'\n",
    "plt.rcParams['ytick.labelsize']= 'x-large'"
   ]
  },
  {
   "cell_type": "code",
   "execution_count": null,
   "id": "46759823-0ab0-4792-9670-08d70280821d",
   "metadata": {
    "execution": {
     "iopub.execute_input": "2025-04-22T15:25:36.702868Z",
     "iopub.status.busy": "2025-04-22T15:25:36.702563Z",
     "iopub.status.idle": "2025-04-22T15:25:36.719096Z",
     "shell.execute_reply": "2025-04-22T15:25:36.718718Z",
     "shell.execute_reply.started": "2025-04-22T15:25:36.702853Z"
    }
   },
   "outputs": [],
   "source": [
    "from astropy.table import Table, join\n",
    "from astropy.time import Time\n",
    "\n",
    "from astropy.coordinates import SkyCoord\n",
    "from astropy import coordinates\n",
    "import astropy.coordinates as coord\n",
    "import astropy.units as u"
   ]
  },
  {
   "cell_type": "code",
   "execution_count": null,
   "id": "24490394-b03f-4aec-8907-8377f67c1df2",
   "metadata": {
    "execution": {
     "iopub.execute_input": "2025-04-22T15:25:36.719672Z",
     "iopub.status.busy": "2025-04-22T15:25:36.719542Z",
     "iopub.status.idle": "2025-04-22T15:25:36.725758Z",
     "shell.execute_reply": "2025-04-22T15:25:36.725363Z",
     "shell.execute_reply.started": "2025-04-22T15:25:36.719659Z"
    }
   },
   "outputs": [],
   "source": [
    "import lsst.geom as geom\n",
    "import lsst\n",
    "from lsst.geom import Angle "
   ]
  },
  {
   "cell_type": "code",
   "execution_count": null,
   "id": "338ce377-6a76-4474-8dfd-e94ee48c6cc8",
   "metadata": {
    "execution": {
     "iopub.execute_input": "2025-04-22T15:25:36.726335Z",
     "iopub.status.busy": "2025-04-22T15:25:36.726204Z",
     "iopub.status.idle": "2025-04-22T15:25:36.739655Z",
     "shell.execute_reply": "2025-04-22T15:25:36.739282Z",
     "shell.execute_reply.started": "2025-04-22T15:25:36.726323Z"
    }
   },
   "outputs": [],
   "source": [
    "# https://pipelines.lsst.io/modules/lsst.geom/getting-started.html\n",
    "func_degToRad = lambda x : Angle(x,lsst.geom.degrees).asRadians()\n",
    "func_zendtoAirmass = lambda x : 1./np.cos(func_degToRad(x))\n",
    "#func_wrap = lambda x : Angle(x,lsst.geom.radians).wrap(180.*lsst.geom.degrees)"
   ]
  },
  {
   "cell_type": "markdown",
   "id": "644d0a4b-7193-46b5-85c8-638ac7207b4f",
   "metadata": {},
   "source": [
    "## Configuration"
   ]
  },
  {
   "cell_type": "code",
   "execution_count": null,
   "id": "7ce654a6-f761-478f-8133-b5e07868ed40",
   "metadata": {
    "execution": {
     "iopub.execute_input": "2025-04-22T15:25:36.740237Z",
     "iopub.status.busy": "2025-04-22T15:25:36.740105Z",
     "iopub.status.idle": "2025-04-22T15:25:36.755600Z",
     "shell.execute_reply": "2025-04-22T15:25:36.755247Z",
     "shell.execute_reply.started": "2025-04-22T15:25:36.740224Z"
    }
   },
   "outputs": [],
   "source": [
    "instrument = \"LSSTComCam\""
   ]
  },
  {
   "cell_type": "code",
   "execution_count": null,
   "id": "fd95a0ea-f58f-4672-afe0-fc3f3f80cfc1",
   "metadata": {
    "execution": {
     "iopub.execute_input": "2025-04-22T15:25:36.756300Z",
     "iopub.status.busy": "2025-04-22T15:25:36.756038Z",
     "iopub.status.idle": "2025-04-22T15:25:36.770837Z",
     "shell.execute_reply": "2025-04-22T15:25:36.770454Z",
     "shell.execute_reply.started": "2025-04-22T15:25:36.756286Z"
    }
   },
   "outputs": [],
   "source": [
    "os.environ[\"no_proxy\"] += \",.consdb\""
   ]
  },
  {
   "cell_type": "code",
   "execution_count": null,
   "id": "8c679aa8-2199-4e02-9354-aafa7f114f91",
   "metadata": {
    "execution": {
     "iopub.execute_input": "2025-04-22T15:25:36.771439Z",
     "iopub.status.busy": "2025-04-22T15:25:36.771306Z",
     "iopub.status.idle": "2025-04-22T15:25:36.777285Z",
     "shell.execute_reply": "2025-04-22T15:25:36.776941Z",
     "shell.execute_reply.started": "2025-04-22T15:25:36.771426Z"
    }
   },
   "outputs": [],
   "source": [
    "url=\"http://consdb-pq.consdb:8080/consdb\""
   ]
  },
  {
   "cell_type": "code",
   "execution_count": null,
   "id": "396043d3-35d4-45f8-bea4-af2ae6af74cd",
   "metadata": {
    "execution": {
     "iopub.execute_input": "2025-04-22T15:25:36.777839Z",
     "iopub.status.busy": "2025-04-22T15:25:36.777709Z",
     "iopub.status.idle": "2025-04-22T15:25:36.784089Z",
     "shell.execute_reply": "2025-04-22T15:25:36.783716Z",
     "shell.execute_reply.started": "2025-04-22T15:25:36.777826Z"
    }
   },
   "outputs": [],
   "source": [
    "consdb=ConsDbClient(url)"
   ]
  },
  {
   "cell_type": "markdown",
   "id": "45ac7b79-cc4a-4abf-8afb-db5e575b894a",
   "metadata": {},
   "source": [
    "https://sdm-schemas.lsst.io/cdb_lsstcomcam.html#exposure"
   ]
  },
  {
   "cell_type": "code",
   "execution_count": null,
   "id": "f015c934-ce60-4833-af60-a0514f33ddcd",
   "metadata": {
    "execution": {
     "iopub.execute_input": "2025-04-22T15:25:36.784751Z",
     "iopub.status.busy": "2025-04-22T15:25:36.784608Z",
     "iopub.status.idle": "2025-04-22T15:25:39.493668Z",
     "shell.execute_reply": "2025-04-22T15:25:39.493133Z",
     "shell.execute_reply.started": "2025-04-22T15:25:36.784738Z"
    }
   },
   "outputs": [],
   "source": [
    "# Query both consDB tables\n",
    "#exposure = consdb.query(\"SELECT * FROM cdb_lsstcam.exposure WHERE science_program = 'BLOCK-351'\")\n",
    "#visits = consdb.query(\"SELECT * FROM cdb_lsstcam.visit1 WHERE science_program = 'BLOCK-351'\")\n",
    "#visits_ql = consdb.query(\"SELECT * FROM cdb_lsstcam.visit1_quicklook\")\n",
    "#visits_ql = consdb.query(\"SELECT * FROM cdb_lsstcam.visit1\")\n",
    "\n",
    "exposure = consdb.query(\"SELECT * FROM cdb_lsstcomcam.exposure WHERE day_obs >= 20241021\")\n",
    "visits = consdb.query(\"SELECT * FROM cdb_lsstcomcam.visit1 WHERE day_obs >= 20241021\")\n",
    "#visits_ql = consdb.query(\"SELECT * FROM cdb_lsstcam.visit1_quicklook\")\n",
    "visits_ql = consdb.query(\"SELECT * FROM cdb_lsstcomcam.visit1 WHERE day_obs >= 20241021\")\n",
    "\n",
    "# Join using astropy's join function on 'visit_id'\n",
    "exposure_join = exposure.rename_column(\"exposure_id\", \"visit_id\")\n",
    "merged_exposure = join(exposure, visits, keys=\"visit_id\", join_type=\"inner\")  \n",
    "merged_visits = join(visits, visits_ql, keys=\"visit_id\", join_type=\"inner\")  \n",
    "\n",
    "# Display or use the merged table\n",
    "#print(merged_visits)"
   ]
  },
  {
   "cell_type": "markdown",
   "id": "24d47919-04af-45ea-a70e-3f9e3d4e2be2",
   "metadata": {},
   "source": [
    "## Explore the visit info in consdb"
   ]
  },
  {
   "cell_type": "code",
   "execution_count": null,
   "id": "d3ab9e1f-2b6b-4372-af3d-457aed8df26b",
   "metadata": {
    "execution": {
     "iopub.execute_input": "2025-04-22T15:25:39.494390Z",
     "iopub.status.busy": "2025-04-22T15:25:39.494249Z",
     "iopub.status.idle": "2025-04-22T15:25:39.497150Z",
     "shell.execute_reply": "2025-04-22T15:25:39.496768Z",
     "shell.execute_reply.started": "2025-04-22T15:25:39.494375Z"
    }
   },
   "outputs": [],
   "source": [
    "print(visits.columns)"
   ]
  },
  {
   "cell_type": "code",
   "execution_count": null,
   "id": "57354d6c-9686-4930-8762-9a8433beebfe",
   "metadata": {
    "execution": {
     "iopub.execute_input": "2025-04-22T15:25:39.497684Z",
     "iopub.status.busy": "2025-04-22T15:25:39.497560Z",
     "iopub.status.idle": "2025-04-22T15:25:39.544182Z",
     "shell.execute_reply": "2025-04-22T15:25:39.543625Z",
     "shell.execute_reply.started": "2025-04-22T15:25:39.497672Z"
    }
   },
   "outputs": [],
   "source": [
    "df_visits = visits.to_pandas()"
   ]
  },
  {
   "cell_type": "code",
   "execution_count": null,
   "id": "cdd83049-7527-4337-abe3-75ed126e2ea9",
   "metadata": {
    "execution": {
     "iopub.execute_input": "2025-04-22T15:25:39.544897Z",
     "iopub.status.busy": "2025-04-22T15:25:39.544756Z",
     "iopub.status.idle": "2025-04-22T15:25:39.548794Z",
     "shell.execute_reply": "2025-04-22T15:25:39.548379Z",
     "shell.execute_reply.started": "2025-04-22T15:25:39.544883Z"
    }
   },
   "outputs": [],
   "source": [
    "df_visits['band'].unique()"
   ]
  },
  {
   "cell_type": "markdown",
   "id": "aef71a12-6d56-4b56-a49e-68ad90e2bc52",
   "metadata": {},
   "source": [
    "### Observation dates"
   ]
  },
  {
   "cell_type": "code",
   "execution_count": null,
   "id": "cb3cde1c-8ef3-4fa3-b4ce-4801747637f6",
   "metadata": {
    "execution": {
     "iopub.execute_input": "2025-04-22T15:25:39.549403Z",
     "iopub.status.busy": "2025-04-22T15:25:39.549272Z",
     "iopub.status.idle": "2025-04-22T15:25:39.561258Z",
     "shell.execute_reply": "2025-04-22T15:25:39.560846Z",
     "shell.execute_reply.started": "2025-04-22T15:25:39.549389Z"
    }
   },
   "outputs": [],
   "source": [
    "df_visits[\"day_obs\"].unique()"
   ]
  },
  {
   "cell_type": "markdown",
   "id": "0dddfbfb-bcab-46a0-a2e4-629d80284aab",
   "metadata": {},
   "source": [
    "### Filters"
   ]
  },
  {
   "cell_type": "code",
   "execution_count": null,
   "id": "5dd87d43-7d1e-47ba-9205-db72babd45aa",
   "metadata": {
    "execution": {
     "iopub.execute_input": "2025-04-22T15:25:39.561855Z",
     "iopub.status.busy": "2025-04-22T15:25:39.561728Z",
     "iopub.status.idle": "2025-04-22T15:25:39.573149Z",
     "shell.execute_reply": "2025-04-22T15:25:39.572722Z",
     "shell.execute_reply.started": "2025-04-22T15:25:39.561843Z"
    }
   },
   "outputs": [],
   "source": [
    "print(df_visits[\"physical_filter\"].unique(),df_visits[\"band\"].unique())"
   ]
  },
  {
   "cell_type": "code",
   "execution_count": null,
   "id": "aa2e3d41-1d5c-495f-86d3-e3a2467d37c5",
   "metadata": {
    "execution": {
     "iopub.execute_input": "2025-04-22T15:25:39.573750Z",
     "iopub.status.busy": "2025-04-22T15:25:39.573613Z",
     "iopub.status.idle": "2025-04-22T15:25:39.598457Z",
     "shell.execute_reply": "2025-04-22T15:25:39.597900Z",
     "shell.execute_reply.started": "2025-04-22T15:25:39.573738Z"
    }
   },
   "outputs": [],
   "source": [
    "df_visits = df_visits[df_visits.band != 'other']\n",
    "df_visits = df_visits[df_visits.band != 'none']"
   ]
  },
  {
   "cell_type": "markdown",
   "id": "c6f1d4b2-ab22-47bf-9a1c-24897a9a308b",
   "metadata": {},
   "source": [
    "## Reasonable airmass"
   ]
  },
  {
   "cell_type": "code",
   "execution_count": null,
   "id": "cc271bbf-f083-439a-84d5-918b8f00176d",
   "metadata": {
    "execution": {
     "iopub.execute_input": "2025-04-22T15:25:39.599253Z",
     "iopub.status.busy": "2025-04-22T15:25:39.599109Z",
     "iopub.status.idle": "2025-04-22T15:25:39.609974Z",
     "shell.execute_reply": "2025-04-22T15:25:39.609474Z",
     "shell.execute_reply.started": "2025-04-22T15:25:39.599239Z"
    }
   },
   "outputs": [],
   "source": [
    "df_visits = df_visits[df_visits[\"airmass\"]>=1.0]"
   ]
  },
  {
   "cell_type": "markdown",
   "id": "f90548eb-3722-4973-be9c-ab932088d70d",
   "metadata": {},
   "source": [
    "### Science program and observation reason"
   ]
  },
  {
   "cell_type": "code",
   "execution_count": null,
   "id": "b8cc4dd2-9b22-4a2e-8b2f-a5ce2525411b",
   "metadata": {
    "execution": {
     "iopub.execute_input": "2025-04-22T15:25:39.613732Z",
     "iopub.status.busy": "2025-04-22T15:25:39.613583Z",
     "iopub.status.idle": "2025-04-22T15:25:39.618052Z",
     "shell.execute_reply": "2025-04-22T15:25:39.617634Z",
     "shell.execute_reply.started": "2025-04-22T15:25:39.613718Z"
    }
   },
   "outputs": [],
   "source": [
    "df_visits[\"science_program\"].unique()"
   ]
  },
  {
   "cell_type": "code",
   "execution_count": null,
   "id": "9fd86ee6-48ce-4494-adf9-cc444c89d508",
   "metadata": {
    "execution": {
     "iopub.execute_input": "2025-04-22T15:25:39.618620Z",
     "iopub.status.busy": "2025-04-22T15:25:39.618491Z",
     "iopub.status.idle": "2025-04-22T15:25:39.627470Z",
     "shell.execute_reply": "2025-04-22T15:25:39.627108Z",
     "shell.execute_reply.started": "2025-04-22T15:25:39.618607Z"
    }
   },
   "outputs": [],
   "source": [
    "df_visits['observation_reason'].unique()"
   ]
  },
  {
   "cell_type": "markdown",
   "id": "f2a46c3b-20c1-4ce0-8db7-b4ab24ac1a12",
   "metadata": {},
   "source": [
    "### Time exposure"
   ]
  },
  {
   "cell_type": "code",
   "execution_count": null,
   "id": "4f5bbbdc-fa6c-45ab-bc4d-d5ee84ae75f9",
   "metadata": {
    "execution": {
     "iopub.execute_input": "2025-04-22T15:25:39.628018Z",
     "iopub.status.busy": "2025-04-22T15:25:39.627891Z",
     "iopub.status.idle": "2025-04-22T15:25:39.725491Z",
     "shell.execute_reply": "2025-04-22T15:25:39.725066Z",
     "shell.execute_reply.started": "2025-04-22T15:25:39.628005Z"
    }
   },
   "outputs": [],
   "source": [
    "fig,ax = plt.subplots(1,1,figsize=(8,4))\n",
    "ax.hist(df_visits[\"exp_time\"].values,bins=50,facecolor=\"b\");\n",
    "plt.show()"
   ]
  },
  {
   "cell_type": "markdown",
   "id": "21441f79-45ef-4022-808f-9957a87a0ad1",
   "metadata": {},
   "source": [
    "## Region in sky"
   ]
  },
  {
   "cell_type": "code",
   "execution_count": null,
   "id": "133fe6ce-6ad5-40ed-a097-40a3662d80df",
   "metadata": {
    "execution": {
     "iopub.execute_input": "2025-04-22T15:25:39.726150Z",
     "iopub.status.busy": "2025-04-22T15:25:39.726007Z",
     "iopub.status.idle": "2025-04-22T15:25:39.728748Z",
     "shell.execute_reply": "2025-04-22T15:25:39.728364Z",
     "shell.execute_reply.started": "2025-04-22T15:25:39.726135Z"
    }
   },
   "outputs": [],
   "source": [
    "dict_b_to_col = {\"u\": \"b\", \"g\":\"g\", \"r\": \"r\", \"i\": 'orange', 'z': \"magenta\",'y':'purple','other':\"k\",'none':'grey'}"
   ]
  },
  {
   "cell_type": "code",
   "execution_count": null,
   "id": "5ee65e5b-3d0a-4fef-8a41-cd853c7c9e4f",
   "metadata": {
    "execution": {
     "iopub.execute_input": "2025-04-22T15:25:39.729432Z",
     "iopub.status.busy": "2025-04-22T15:25:39.729183Z",
     "iopub.status.idle": "2025-04-22T15:25:39.747167Z",
     "shell.execute_reply": "2025-04-22T15:25:39.746812Z",
     "shell.execute_reply.started": "2025-04-22T15:25:39.729418Z"
    }
   },
   "outputs": [],
   "source": [
    "col = df_visits[\"band\"].map(lambda b:  dict_b_to_col[b] ).values"
   ]
  },
  {
   "cell_type": "code",
   "execution_count": null,
   "id": "10ea14f9-5bd4-4c0f-b117-69b7db9886dd",
   "metadata": {
    "execution": {
     "iopub.execute_input": "2025-04-22T15:25:39.747911Z",
     "iopub.status.busy": "2025-04-22T15:25:39.747611Z",
     "iopub.status.idle": "2025-04-22T15:25:39.757080Z",
     "shell.execute_reply": "2025-04-22T15:25:39.756719Z",
     "shell.execute_reply.started": "2025-04-22T15:25:39.747896Z"
    }
   },
   "outputs": [],
   "source": [
    "col"
   ]
  },
  {
   "cell_type": "code",
   "execution_count": null,
   "id": "15cd0a56-3e44-4924-9080-e741dd1bf3b6",
   "metadata": {
    "execution": {
     "iopub.execute_input": "2025-04-22T15:25:39.757634Z",
     "iopub.status.busy": "2025-04-22T15:25:39.757504Z",
     "iopub.status.idle": "2025-04-22T15:25:40.052132Z",
     "shell.execute_reply": "2025-04-22T15:25:40.051626Z",
     "shell.execute_reply.started": "2025-04-22T15:25:39.757621Z"
    }
   },
   "outputs": [],
   "source": [
    "fig,ax = plt.subplots(1,1,figsize=(8,4))\n",
    "df_visits.plot.scatter(x='s_ra',y='s_dec',ax=ax,c=col)\n",
    "ax.grid()\n",
    "ax.set_aspect(\"equal\")\n",
    "plt.show()"
   ]
  },
  {
   "cell_type": "code",
   "execution_count": null,
   "id": "9e6ce737-28e5-4d28-8db2-858485517866",
   "metadata": {
    "execution": {
     "iopub.execute_input": "2025-04-22T15:25:40.052878Z",
     "iopub.status.busy": "2025-04-22T15:25:40.052727Z",
     "iopub.status.idle": "2025-04-22T15:25:40.056226Z",
     "shell.execute_reply": "2025-04-22T15:25:40.055798Z",
     "shell.execute_reply.started": "2025-04-22T15:25:40.052863Z"
    }
   },
   "outputs": [],
   "source": [
    "palette_spectral = sns.color_palette(\"Spectral_r\", as_cmap=True)"
   ]
  },
  {
   "cell_type": "code",
   "execution_count": null,
   "id": "7746fe8f-7c82-4ddf-a624-3d65f9404563",
   "metadata": {
    "execution": {
     "iopub.execute_input": "2025-04-22T15:25:40.056820Z",
     "iopub.status.busy": "2025-04-22T15:25:40.056674Z",
     "iopub.status.idle": "2025-04-22T15:25:41.133520Z",
     "shell.execute_reply": "2025-04-22T15:25:41.133092Z",
     "shell.execute_reply.started": "2025-04-22T15:25:40.056806Z"
    }
   },
   "outputs": [],
   "source": [
    "cmap_time = ListedColormap(sns.color_palette(\"Spectral_r\", df_visits.size))"
   ]
  },
  {
   "cell_type": "code",
   "execution_count": null,
   "id": "97116f16-4c6c-4b78-951d-cbb67fb150d5",
   "metadata": {
    "execution": {
     "iopub.execute_input": "2025-04-22T15:25:41.134188Z",
     "iopub.status.busy": "2025-04-22T15:25:41.134047Z",
     "iopub.status.idle": "2025-04-22T15:25:41.273215Z",
     "shell.execute_reply": "2025-04-22T15:25:41.272792Z",
     "shell.execute_reply.started": "2025-04-22T15:25:41.134174Z"
    }
   },
   "outputs": [],
   "source": [
    "fig, axs = plt.subplots(1,2,figsize=(10,4))\n",
    "ax1,ax2 = axs.flatten() \n",
    "df_visits['s_ra'].hist(bins=50,ax=ax1)\n",
    "df_visits['s_dec'].hist(bins=50,ax=ax2)"
   ]
  },
  {
   "cell_type": "code",
   "execution_count": null,
   "id": "5e3f9c6b-5a36-4ba6-baf3-d66e5f37fef3",
   "metadata": {
    "execution": {
     "iopub.execute_input": "2025-04-22T15:25:41.273918Z",
     "iopub.status.busy": "2025-04-22T15:25:41.273767Z",
     "iopub.status.idle": "2025-04-22T15:25:41.278286Z",
     "shell.execute_reply": "2025-04-22T15:25:41.277902Z",
     "shell.execute_reply.started": "2025-04-22T15:25:41.273903Z"
    }
   },
   "outputs": [],
   "source": [
    "df_coordinates = df_visits[['s_ra','s_dec','obs_start_mjd','airmass']]"
   ]
  },
  {
   "cell_type": "code",
   "execution_count": null,
   "id": "4400e8d5-8121-491f-80e3-4bd2133d5126",
   "metadata": {
    "execution": {
     "iopub.execute_input": "2025-04-22T15:25:41.278875Z",
     "iopub.status.busy": "2025-04-22T15:25:41.278736Z",
     "iopub.status.idle": "2025-04-22T15:25:41.293607Z",
     "shell.execute_reply": "2025-04-22T15:25:41.293234Z",
     "shell.execute_reply.started": "2025-04-22T15:25:41.278862Z"
    }
   },
   "outputs": [],
   "source": [
    "df_coordinates "
   ]
  },
  {
   "cell_type": "markdown",
   "id": "b98f7df3-c5b8-4db0-8977-dc00e457876b",
   "metadata": {},
   "source": [
    "## Must remove not a number in ra and dec"
   ]
  },
  {
   "cell_type": "code",
   "execution_count": null,
   "id": "5df5be78-f4ac-4c9b-9532-ddb105578209",
   "metadata": {
    "execution": {
     "iopub.execute_input": "2025-04-22T15:25:41.294155Z",
     "iopub.status.busy": "2025-04-22T15:25:41.294026Z",
     "iopub.status.idle": "2025-04-22T15:25:41.297034Z",
     "shell.execute_reply": "2025-04-22T15:25:41.296662Z",
     "shell.execute_reply.started": "2025-04-22T15:25:41.294142Z"
    }
   },
   "outputs": [],
   "source": [
    "df_dtypes = np.array(df_coordinates.dtypes)\n",
    "df_numericDtypes= [x.kind in 'bifc' for x in df_dtypes]"
   ]
  },
  {
   "cell_type": "code",
   "execution_count": null,
   "id": "194efe62-bd19-4fbe-9151-7d1f8deaef9b",
   "metadata": {
    "execution": {
     "iopub.execute_input": "2025-04-22T15:25:41.297607Z",
     "iopub.status.busy": "2025-04-22T15:25:41.297476Z",
     "iopub.status.idle": "2025-04-22T15:25:41.312738Z",
     "shell.execute_reply": "2025-04-22T15:25:41.312368Z",
     "shell.execute_reply.started": "2025-04-22T15:25:41.297595Z"
    }
   },
   "outputs": [],
   "source": [
    "df_numericDtypes"
   ]
  },
  {
   "cell_type": "code",
   "execution_count": null,
   "id": "18709735-2cad-438c-b52d-5275c8df323b",
   "metadata": {
    "execution": {
     "iopub.execute_input": "2025-04-22T15:25:41.313384Z",
     "iopub.status.busy": "2025-04-22T15:25:41.313252Z",
     "iopub.status.idle": "2025-04-22T15:25:41.325574Z",
     "shell.execute_reply": "2025-04-22T15:25:41.325214Z",
     "shell.execute_reply.started": "2025-04-22T15:25:41.313371Z"
    }
   },
   "outputs": [],
   "source": [
    "from pandas.api.types import is_any_real_numeric_dtype"
   ]
  },
  {
   "cell_type": "code",
   "execution_count": null,
   "id": "212104b2-2fa0-40c4-a12b-86134692b6ff",
   "metadata": {
    "execution": {
     "iopub.execute_input": "2025-04-22T15:25:41.326229Z",
     "iopub.status.busy": "2025-04-22T15:25:41.326096Z",
     "iopub.status.idle": "2025-04-22T15:25:41.332843Z",
     "shell.execute_reply": "2025-04-22T15:25:41.332472Z",
     "shell.execute_reply.started": "2025-04-22T15:25:41.326216Z"
    }
   },
   "outputs": [],
   "source": [
    "is_any_real_numeric_dtype(df_coordinates ['s_ra'])"
   ]
  },
  {
   "cell_type": "code",
   "execution_count": null,
   "id": "0dc96481-18ce-455f-b837-f6574fae2fa9",
   "metadata": {
    "execution": {
     "iopub.execute_input": "2025-04-22T15:25:41.333402Z",
     "iopub.status.busy": "2025-04-22T15:25:41.333270Z",
     "iopub.status.idle": "2025-04-22T15:25:41.344691Z",
     "shell.execute_reply": "2025-04-22T15:25:41.344342Z",
     "shell.execute_reply.started": "2025-04-22T15:25:41.333389Z"
    }
   },
   "outputs": [],
   "source": [
    "is_any_real_numeric_dtype(df_coordinates ['s_dec'])"
   ]
  },
  {
   "cell_type": "code",
   "execution_count": null,
   "id": "3615ac10-d139-4ced-87d3-34383e63f183",
   "metadata": {
    "execution": {
     "iopub.execute_input": "2025-04-22T15:25:41.345244Z",
     "iopub.status.busy": "2025-04-22T15:25:41.345116Z",
     "iopub.status.idle": "2025-04-22T15:25:41.355204Z",
     "shell.execute_reply": "2025-04-22T15:25:41.354856Z",
     "shell.execute_reply.started": "2025-04-22T15:25:41.345231Z"
    }
   },
   "outputs": [],
   "source": [
    "is_any_real_numeric_dtype(df_coordinates ['obs_start_mjd'])"
   ]
  },
  {
   "cell_type": "code",
   "execution_count": null,
   "id": "2389aca4-54d4-41fe-b483-73330d0f4f50",
   "metadata": {
    "execution": {
     "iopub.execute_input": "2025-04-22T15:25:41.355739Z",
     "iopub.status.busy": "2025-04-22T15:25:41.355605Z",
     "iopub.status.idle": "2025-04-22T15:25:41.375757Z",
     "shell.execute_reply": "2025-04-22T15:25:41.375377Z",
     "shell.execute_reply.started": "2025-04-22T15:25:41.355727Z"
    }
   },
   "outputs": [],
   "source": [
    "df_ = df_coordinates .copy().apply(pd.to_numeric, errors='coerce')\n",
    "test_nmr_coerce = df_.dropna(axis=0, how='any')\n",
    "display(test_nmr_coerce)"
   ]
  },
  {
   "cell_type": "code",
   "execution_count": null,
   "id": "4a201044-e1a4-4d43-ac26-ed5026319819",
   "metadata": {
    "execution": {
     "iopub.execute_input": "2025-04-22T15:25:41.376307Z",
     "iopub.status.busy": "2025-04-22T15:25:41.376175Z",
     "iopub.status.idle": "2025-04-22T15:25:41.378738Z",
     "shell.execute_reply": "2025-04-22T15:25:41.378378Z",
     "shell.execute_reply.started": "2025-04-22T15:25:41.376293Z"
    }
   },
   "outputs": [],
   "source": [
    "df_coordinates  = test_nmr_coerce"
   ]
  },
  {
   "cell_type": "code",
   "execution_count": null,
   "id": "6f056e3e-491b-4e6d-a92e-76f06f8e9536",
   "metadata": {
    "execution": {
     "iopub.execute_input": "2025-04-22T15:25:41.379255Z",
     "iopub.status.busy": "2025-04-22T15:25:41.379128Z",
     "iopub.status.idle": "2025-04-22T15:25:41.421636Z",
     "shell.execute_reply": "2025-04-22T15:25:41.421293Z",
     "shell.execute_reply.started": "2025-04-22T15:25:41.379242Z"
    }
   },
   "outputs": [],
   "source": [
    "ra_g = df_coordinates['s_ra'].apply(func_degToRad) \n",
    "dec_g = df_coordinates['s_dec'].apply(func_degToRad) "
   ]
  },
  {
   "cell_type": "code",
   "execution_count": null,
   "id": "a9968ad6-6c5b-4855-a400-a769cb5ad52e",
   "metadata": {
    "execution": {
     "iopub.execute_input": "2025-04-22T15:25:41.422189Z",
     "iopub.status.busy": "2025-04-22T15:25:41.422060Z",
     "iopub.status.idle": "2025-04-22T15:25:41.424774Z",
     "shell.execute_reply": "2025-04-22T15:25:41.424421Z",
     "shell.execute_reply.started": "2025-04-22T15:25:41.422176Z"
    }
   },
   "outputs": [],
   "source": [
    "dt = df_coordinates['obs_start_mjd'].values - df_coordinates['obs_start_mjd'].min()"
   ]
  },
  {
   "cell_type": "code",
   "execution_count": null,
   "id": "358735fd-81de-42de-aa1e-930d5764d562",
   "metadata": {
    "execution": {
     "iopub.execute_input": "2025-04-22T15:25:41.425336Z",
     "iopub.status.busy": "2025-04-22T15:25:41.425209Z",
     "iopub.status.idle": "2025-04-22T15:25:41.438522Z",
     "shell.execute_reply": "2025-04-22T15:25:41.438179Z",
     "shell.execute_reply.started": "2025-04-22T15:25:41.425323Z"
    }
   },
   "outputs": [],
   "source": [
    "dtmin = dt.min()\n",
    "dtmax = dt.max()"
   ]
  },
  {
   "cell_type": "code",
   "execution_count": null,
   "id": "cd8f4136-dfed-4029-ae49-d52ea4054839",
   "metadata": {
    "execution": {
     "iopub.execute_input": "2025-04-22T15:25:41.439169Z",
     "iopub.status.busy": "2025-04-22T15:25:41.439042Z",
     "iopub.status.idle": "2025-04-22T15:25:41.470148Z",
     "shell.execute_reply": "2025-04-22T15:25:41.469789Z",
     "shell.execute_reply.started": "2025-04-22T15:25:41.439157Z"
    }
   },
   "outputs": [],
   "source": [
    "# Galactic plane\n",
    "gal_long = np.linspace(-180.,180,360)\n",
    "gal_lat = np.zeros((360))\n",
    "coordinates_galactic_planes = SkyCoord(l=gal_long*u.degree, b=gal_lat*u.degree, frame='galactic')\n",
    "gp_radec = coordinates_galactic_planes.transform_to('icrs')  \n",
    "# for galactic plane\n",
    "# gp_radec.ra : 0., 360.\n",
    "# gp_radec.dec : -90, 90\n",
    "gp_ra_toplot = coordinates.Angle(gp_radec.ra.degree*u.degree)\n",
    "gp_ra_toplot = gp_ra_toplot.wrap_at(180*u.degree)\n",
    "# gp_ra_toplot -180, 180"
   ]
  },
  {
   "cell_type": "code",
   "execution_count": null,
   "id": "527a501a-41fd-4bb1-8db5-22c9d70fba5a",
   "metadata": {
    "execution": {
     "iopub.execute_input": "2025-04-22T15:25:41.470850Z",
     "iopub.status.busy": "2025-04-22T15:25:41.470672Z",
     "iopub.status.idle": "2025-04-22T15:25:41.477158Z",
     "shell.execute_reply": "2025-04-22T15:25:41.476806Z",
     "shell.execute_reply.started": "2025-04-22T15:25:41.470837Z"
    }
   },
   "outputs": [],
   "source": [
    "ra = coordinates.Angle(df_coordinates['s_ra'].values,unit=\"deg\").radian\n",
    "dec = coordinates.Angle(df_coordinates['s_dec'].values,unit=\"deg\").radian"
   ]
  },
  {
   "cell_type": "code",
   "execution_count": null,
   "id": "e99f4a95-1534-4345-b37c-c1de06bbd717",
   "metadata": {
    "execution": {
     "iopub.execute_input": "2025-04-22T15:25:41.477746Z",
     "iopub.status.busy": "2025-04-22T15:25:41.477605Z",
     "iopub.status.idle": "2025-04-22T15:25:41.738818Z",
     "shell.execute_reply": "2025-04-22T15:25:41.738374Z",
     "shell.execute_reply.started": "2025-04-22T15:25:41.477733Z"
    }
   },
   "outputs": [],
   "source": [
    "# plot\n",
    "# x arg in rad must be (-2pi,2pi), y arg in rad  must be in ( -pi,pi )\n",
    "fig = plt.figure(figsize=(16,8))\n",
    "#ax = fig.add_subplot(111, projection=\"aitoff\")\n",
    "ax = fig.add_subplot(111, projection=\"mollweide\")\n",
    "ax.scatter(gp_ra_toplot.radian, gp_radec.dec.radian,c=\"r\",label=\"Galactic Plane\",s=1)\n",
    "#ax.scatter(ra-np.pi,dec,marker='+',c=all_colors_g)\n",
    "im = ax.scatter(ra_g.values-np.pi,dec_g.values,marker='+',s=50,lw=3,c=dt,cmap=palette_spectral)\n",
    "ax.legend()\n",
    "ax.grid()\n",
    "\n",
    "cbar = plt.colorbar(im, orientation='horizontal', label='time(days)')\n",
    "plt.suptitle(instrument + \" commissioning 2024\")\n",
    "plt.show()"
   ]
  },
  {
   "cell_type": "markdown",
   "id": "4206e540-8635-4806-8e00-d32799a0de06",
   "metadata": {},
   "source": [
    "### Add Deep drilling field"
   ]
  },
  {
   "cell_type": "code",
   "execution_count": null,
   "id": "90f09ba6-32bd-4087-ae47-befc3ee15eb8",
   "metadata": {
    "execution": {
     "iopub.execute_input": "2025-04-22T15:25:41.739528Z",
     "iopub.status.busy": "2025-04-22T15:25:41.739385Z",
     "iopub.status.idle": "2025-04-22T15:25:41.743323Z",
     "shell.execute_reply": "2025-04-22T15:25:41.742937Z",
     "shell.execute_reply.started": "2025-04-22T15:25:41.739513Z"
    }
   },
   "outputs": [],
   "source": [
    "ddf = {}\n",
    "ddf[\"47 Tuc\"] = {\"name\": \"47 Tuc Globular Cluster\", \"ra\": 6.02, \"dec\": -72.08}\n",
    "ddf[\"Rubin SV 38 7\"] = {\"name\": \"Low Ecliptic Latitude Field\", \"ra\": 37.86, \"dec\": 6.98}\n",
    "ddf[\"Fornax dSph\"] = {\"name\" : \"Fornax Dwarf Spheroidal Galaxy\", \"ra\": 40.00, \"dec\": -34.45}\n",
    "ddf[\"ECDFS\"] = {\"name\" : \"Extended Chandra Deep Field South\", \"ra\": 53.13, \"dec\": -28.10}\n",
    "ddf[\"EDFS\"] = {\"name\" : \"Euclid Deep Field South\", \"ra\": 59.10, \"dec\": -48.73}\n",
    "ddf[\"Rubin SV 95 -25\"] = {\"name\" : \"Low Galactic Latitude Field\", \"ra\": 95.00, \"dec\": -25.00}\n",
    "ddf[\"Seagull\"] = {\"name\" : \"Seagul Nebular\", \"ra\": 106.23, \"dec\": -10.51}"
   ]
  },
  {
   "cell_type": "code",
   "execution_count": null,
   "id": "7a6b6b73-f5d5-4352-bdf6-2e632bc8c350",
   "metadata": {
    "execution": {
     "iopub.execute_input": "2025-04-22T15:25:41.744055Z",
     "iopub.status.busy": "2025-04-22T15:25:41.743911Z",
     "iopub.status.idle": "2025-04-22T15:25:41.760064Z",
     "shell.execute_reply": "2025-04-22T15:25:41.759705Z",
     "shell.execute_reply.started": "2025-04-22T15:25:41.744042Z"
    }
   },
   "outputs": [],
   "source": [
    "# Extraire les coordonnées RA/DEC depuis le dictionnaire\n",
    "ddf_ra = []\n",
    "ddf_dec = []\n",
    "ddf_labels = []\n",
    "ddf_names = []\n",
    "\n",
    "for key, val in ddf.items():\n",
    "    ddf_ra.append(val[\"ra\"])\n",
    "    ddf_dec.append(val[\"dec\"])\n",
    "    ddf_labels.append(key)\n",
    "    ddf_names.append(val[\"name\"]) \n",
    "\n",
    "# Conversion en radians to plot in sky map\n",
    "ddf_ra_rad = np.radians(ddf_ra) - np.pi  # recentrer RA autour de 0\n",
    "ddf_dec_rad = np.radians(ddf_dec)"
   ]
  },
  {
   "cell_type": "code",
   "execution_count": null,
   "id": "add90051-893f-406a-bfd8-b9bc43de4f64",
   "metadata": {},
   "outputs": [],
   "source": []
  },
  {
   "cell_type": "code",
   "execution_count": null,
   "id": "f4fd7793-1441-4948-8da5-43111852f9f4",
   "metadata": {
    "execution": {
     "iopub.execute_input": "2025-04-22T15:25:41.760648Z",
     "iopub.status.busy": "2025-04-22T15:25:41.760514Z",
     "iopub.status.idle": "2025-04-22T15:25:42.105309Z",
     "shell.execute_reply": "2025-04-22T15:25:42.104894Z",
     "shell.execute_reply.started": "2025-04-22T15:25:41.760634Z"
    }
   },
   "outputs": [],
   "source": [
    "# plot\n",
    "# x arg in rad must be (-2pi,2pi), y arg in rad  must be in ( -pi,pi )\n",
    "fig = plt.figure(figsize=(16,8))\n",
    "#ax = fig.add_subplot(111, projection=\"aitoff\")\n",
    "ax = fig.add_subplot(111, projection=\"mollweide\")\n",
    "ax.scatter(gp_ra_toplot.radian, gp_radec.dec.radian,c=\"r\",label=\"Galactic Plane\",s=1)\n",
    "#ax.scatter(ra-np.pi,dec,marker='+',c=all_colors_g)\n",
    "im = ax.scatter(ra_g.values-np.pi,dec_g.values,marker='+',s=50,lw=3,c=dt,cmap=palette_spectral)\n",
    "\n",
    "#cbar = plt.colorbar(im, orientation='horizontal', label='time(days)')\n",
    "\n",
    "# Affichage sur la carte\n",
    "ax.scatter(ddf_ra_rad, ddf_dec_rad, c=\"k\", marker=\"*\", s=200, label=\"Deep drilling fields\")\n",
    "\n",
    "# Ajouter les noms des champs sur la carte\n",
    "for ra, dec, label in zip(ddf_ra_rad, ddf_dec_rad, ddf_labels):\n",
    "    ax.text(ra, dec, label, fontsize=16, fontweight=\"bold\",ha=\"left\", va=\"bottom\", color=\"k\")\n",
    "\n",
    "\n",
    "# Créer un tableau avec pandas pour les noms\n",
    "df = pd.DataFrame({\n",
    "    'Deep Field': ddf_labels,\n",
    "    'description': ddf_names,\n",
    "    'RA (deg)': ddf_ra,\n",
    "    'DEC (deg)': ddf_dec\n",
    "})\n",
    "\n",
    "# Créer un tableau sous la carte\n",
    "table_data = df.values\n",
    "col_labels = df.columns\n",
    "\n",
    "\n",
    "# Ajouter un tableau sous la carte avec plus d'espace et ajustement des lignes\n",
    "table = ax.table(cellText=table_data, colLabels=col_labels, loc='bottom', cellLoc='center', colLoc='center', bbox=[0, -0.2, 1, 0.15])\n",
    "\n",
    "# Ajuster la taille des lignes (hauteur des cellules)\n",
    "for key, cell in table.get_celld().items():\n",
    "    if key[0] == 0:  # En-têtes de colonnes\n",
    "        cell.set_fontsize(14)\n",
    "    else:  # Données des lignes\n",
    "        cell.set_fontsize(12)\n",
    "    cell.set_height(1.8)  # Ajuste la hauteur des cellules pour éviter qu'elles soient trop écrasées\n",
    "\n",
    "\n",
    "# Ajouter la colorbar sous le tableau\n",
    "#cbar = plt.colorbar(im, label='time(days)', ax=ax, pad=0.1, fraction=0.05)\n",
    "cbar = plt.colorbar(im, label='time(days)', ax=ax)\n",
    "\n",
    "ax.legend()\n",
    "ax.grid()\n",
    "plt.suptitle(instrument + \" commissioning 2024\",fontsize=16)\n",
    "plt.subplots_adjust(bottom=0.2)  # Augmenter l'espace en bas pour accueillir la colorbar\n"
   ]
  },
  {
   "cell_type": "markdown",
   "id": "7310a336-342e-49b4-bdd7-eb5295afed7c",
   "metadata": {
    "execution": {
     "iopub.status.busy": "2025-04-18T15:21:32.428824Z",
     "iopub.status.idle": "2025-04-18T15:21:32.428991Z",
     "shell.execute_reply": "2025-04-18T15:21:32.428916Z",
     "shell.execute_reply.started": "2025-04-18T15:21:32.428908Z"
    }
   },
   "source": [
    "## Time dependence"
   ]
  },
  {
   "cell_type": "code",
   "execution_count": null,
   "id": "d6e78b73-58a4-40e5-bc6a-2c95f6953ae3",
   "metadata": {
    "execution": {
     "iopub.execute_input": "2025-04-22T15:25:42.105981Z",
     "iopub.status.busy": "2025-04-22T15:25:42.105836Z",
     "iopub.status.idle": "2025-04-22T15:25:42.113175Z",
     "shell.execute_reply": "2025-04-22T15:25:42.112766Z",
     "shell.execute_reply.started": "2025-04-22T15:25:42.105966Z"
    }
   },
   "outputs": [],
   "source": [
    "time = Time(visits['exp_midpt'])"
   ]
  },
  {
   "cell_type": "code",
   "execution_count": null,
   "id": "c9ae914c-b595-4f94-adff-2b77996fa096",
   "metadata": {
    "execution": {
     "iopub.execute_input": "2025-04-22T15:25:42.113790Z",
     "iopub.status.busy": "2025-04-22T15:25:42.113649Z",
     "iopub.status.idle": "2025-04-22T15:25:42.124590Z",
     "shell.execute_reply": "2025-04-22T15:25:42.124221Z",
     "shell.execute_reply.started": "2025-04-22T15:25:42.113776Z"
    }
   },
   "outputs": [],
   "source": [
    "print('tmin = ',time.min(),' | tmax = ',time.max())"
   ]
  },
  {
   "cell_type": "markdown",
   "id": "10161d7e-3d6b-4eb5-9871-d024961b0846",
   "metadata": {},
   "source": [
    "### Airmass vs Time"
   ]
  },
  {
   "cell_type": "code",
   "execution_count": null,
   "id": "2ac16eec-4253-4647-a4c0-15c5e9ebd094",
   "metadata": {
    "execution": {
     "iopub.execute_input": "2025-04-22T15:25:42.125163Z",
     "iopub.status.busy": "2025-04-22T15:25:42.125034Z",
     "iopub.status.idle": "2025-04-22T15:25:42.278088Z",
     "shell.execute_reply": "2025-04-22T15:25:42.277678Z",
     "shell.execute_reply.started": "2025-04-22T15:25:42.125151Z"
    }
   },
   "outputs": [],
   "source": [
    "\n",
    "# Plot the time vs the specified column\n",
    "plt.figure(figsize=(12, 4))\n",
    "plt.plot(time.plot_date, visits['airmass'],'b.')\n",
    "\n",
    "# Set x-axis to show dates\n",
    "#plt.gca().xaxis.set_major_formatter(mdates.DateFormatter('%Y-%m-%d %H:%M:%S'))\n",
    "plt.gca().xaxis.set_major_formatter(mdates.DateFormatter('%Y-%m-%d %H'))\n",
    "plt.gca().xaxis.set_major_locator(mdates.AutoDateLocator())\n",
    "\n",
    "# Rotate and format x-axis labels for readability\n",
    "plt.xticks(rotation=45, ha='right')\n",
    "\n",
    "plt.xlabel('Time')\n",
    "plt.ylabel('Airmass')\n",
    "plt.title(f'Time vs Airmass')\n",
    "plt.legend()\n",
    "plt.grid(True)\n",
    "plt.tight_layout()  # Adjust layout to prevent clipping of labels\n",
    "plt.show()"
   ]
  },
  {
   "cell_type": "code",
   "execution_count": null,
   "id": "6e94a1a2-f7a9-45fd-9fb7-876cd2634afc",
   "metadata": {},
   "outputs": [],
   "source": []
  },
  {
   "cell_type": "code",
   "execution_count": null,
   "id": "4f3d1575-f9ba-41bc-a983-07d7c7ade714",
   "metadata": {
    "execution": {
     "iopub.execute_input": "2025-04-22T15:25:42.278778Z",
     "iopub.status.busy": "2025-04-22T15:25:42.278623Z",
     "iopub.status.idle": "2025-04-22T15:25:42.669004Z",
     "shell.execute_reply": "2025-04-22T15:25:42.668583Z",
     "shell.execute_reply.started": "2025-04-22T15:25:42.278763Z"
    }
   },
   "outputs": [],
   "source": [
    "# Plot the time vs the specified column\n",
    "plt.figure(figsize=(12, 4))\n",
    "plt.plot(time.plot_date, visits['air_temp'],'b.')\n",
    "\n",
    "# Set x-axis to show dates\n",
    "#plt.gca().xaxis.set_major_formatter(mdates.DateFormatter('%Y-%m-%d %H:%M:%S'))\n",
    "plt.gca().xaxis.set_major_formatter(mdates.DateFormatter('%Y-%m-%d %H'))\n",
    "plt.gca().xaxis.set_major_locator(mdates.AutoDateLocator())\n",
    "\n",
    "# Rotate and format x-axis labels for readability\n",
    "plt.xticks(rotation=45, ha='right')\n",
    "\n",
    "plt.xlabel('Time')\n",
    "plt.ylabel('air_temp')\n",
    "plt.title(f'air_temp vs time')\n",
    "plt.legend()\n",
    "plt.grid(True)\n",
    "plt.tight_layout()  # Adjust layout to prevent clipping of labels\n",
    "plt.show()"
   ]
  },
  {
   "cell_type": "code",
   "execution_count": null,
   "id": "745d7739-954b-4947-9b37-4e15658087c5",
   "metadata": {
    "execution": {
     "iopub.execute_input": "2025-04-22T15:25:42.669680Z",
     "iopub.status.busy": "2025-04-22T15:25:42.669537Z",
     "iopub.status.idle": "2025-04-22T15:25:42.801957Z",
     "shell.execute_reply": "2025-04-22T15:25:42.801523Z",
     "shell.execute_reply.started": "2025-04-22T15:25:42.669665Z"
    }
   },
   "outputs": [],
   "source": [
    "# Plot the time vs the specified column\n",
    "plt.figure(figsize=(12, 4))\n",
    "plt.plot(time.plot_date, visits['pressure'],'b.')\n",
    "\n",
    "# Set x-axis to show dates\n",
    "#plt.gca().xaxis.set_major_formatter(mdates.DateFormatter('%Y-%m-%d %H:%M:%S'))\n",
    "plt.gca().xaxis.set_major_formatter(mdates.DateFormatter('%Y-%m-%d %H'))\n",
    "plt.gca().xaxis.set_major_locator(mdates.AutoDateLocator())\n",
    "\n",
    "# Rotate and format x-axis labels for readability\n",
    "plt.xticks(rotation=45, ha='right')\n",
    "\n",
    "plt.xlabel('Time')\n",
    "plt.ylabel('pressure')\n",
    "plt.title(f'pressure vs time')\n",
    "plt.legend()\n",
    "plt.grid(True)\n",
    "plt.tight_layout()  # Adjust layout to prevent clipping of labels\n",
    "plt.show()"
   ]
  },
  {
   "cell_type": "code",
   "execution_count": null,
   "id": "c56e229e-e2a7-4311-a619-ef77678cd07a",
   "metadata": {
    "execution": {
     "iopub.execute_input": "2025-04-22T15:25:42.802799Z",
     "iopub.status.busy": "2025-04-22T15:25:42.802642Z",
     "iopub.status.idle": "2025-04-22T15:25:42.943086Z",
     "shell.execute_reply": "2025-04-22T15:25:42.942616Z",
     "shell.execute_reply.started": "2025-04-22T15:25:42.802784Z"
    }
   },
   "outputs": [],
   "source": [
    "# Plot the time vs the specified column\n",
    "plt.figure(figsize=(12, 4))\n",
    "plt.plot(time.plot_date, visits['humidity'],'b.')\n",
    "\n",
    "# Set x-axis to show dates\n",
    "#plt.gca().xaxis.set_major_formatter(mdates.DateFormatter('%Y-%m-%d %H:%M:%S'))\n",
    "plt.gca().xaxis.set_major_formatter(mdates.DateFormatter('%Y-%m-%d %H'))\n",
    "plt.gca().xaxis.set_major_locator(mdates.AutoDateLocator())\n",
    "\n",
    "# Rotate and format x-axis labels for readability\n",
    "plt.xticks(rotation=45, ha='right')\n",
    "\n",
    "plt.xlabel('Time')\n",
    "plt.ylabel('humidity')\n",
    "plt.title(f'humidity vs time')\n",
    "plt.legend()\n",
    "plt.grid(True)\n",
    "plt.tight_layout()  # Adjust layout to prevent clipping of labels\n",
    "plt.show()"
   ]
  },
  {
   "cell_type": "code",
   "execution_count": null,
   "id": "161879f6-53c4-4d00-8760-3f7edc95b450",
   "metadata": {},
   "outputs": [],
   "source": []
  },
  {
   "cell_type": "code",
   "execution_count": null,
   "id": "b341d28f-5e57-462a-90a2-0f7e3fe88afa",
   "metadata": {},
   "outputs": [],
   "source": []
  },
  {
   "cell_type": "code",
   "execution_count": null,
   "id": "69edab7a-5891-4423-9011-2ce78e570a6f",
   "metadata": {
    "execution": {
     "iopub.execute_input": "2025-04-22T15:25:42.943736Z",
     "iopub.status.busy": "2025-04-22T15:25:42.943589Z",
     "iopub.status.idle": "2025-04-22T15:25:43.075650Z",
     "shell.execute_reply": "2025-04-22T15:25:43.075175Z",
     "shell.execute_reply.started": "2025-04-22T15:25:42.943722Z"
    }
   },
   "outputs": [],
   "source": [
    "# Plot the time vs the specified column\n",
    "plt.figure(figsize=(12, 4))\n",
    "plt.plot(time.plot_date, visits['wind_speed'],'b.')\n",
    "\n",
    "# Set x-axis to show dates\n",
    "#plt.gca().xaxis.set_major_formatter(mdates.DateFormatter('%Y-%m-%d %H:%M:%S'))\n",
    "plt.gca().xaxis.set_major_formatter(mdates.DateFormatter('%Y-%m-%d %H'))\n",
    "plt.gca().xaxis.set_major_locator(mdates.AutoDateLocator())\n",
    "\n",
    "# Rotate and format x-axis labels for readability\n",
    "plt.xticks(rotation=45, ha='right')\n",
    "\n",
    "plt.xlabel('Time')\n",
    "plt.ylabel('wind_speed')\n",
    "plt.title(f'wind_speed vs time')\n",
    "plt.legend()\n",
    "plt.grid(True)\n",
    "plt.tight_layout()  # Adjust layout to prevent clipping of labels\n",
    "plt.show()"
   ]
  },
  {
   "cell_type": "code",
   "execution_count": null,
   "id": "5b53fb9e-dc8a-4bd3-bb9e-6c5640070191",
   "metadata": {
    "execution": {
     "iopub.execute_input": "2025-04-22T15:25:43.076315Z",
     "iopub.status.busy": "2025-04-22T15:25:43.076168Z",
     "iopub.status.idle": "2025-04-22T15:25:43.211940Z",
     "shell.execute_reply": "2025-04-22T15:25:43.211514Z",
     "shell.execute_reply.started": "2025-04-22T15:25:43.076300Z"
    }
   },
   "outputs": [],
   "source": [
    "# Plot the time vs the specified column\n",
    "plt.figure(figsize=(12, 4))\n",
    "plt.plot(time.plot_date, visits['wind_dir'],'b.')\n",
    "\n",
    "# Set x-axis to show dates\n",
    "#plt.gca().xaxis.set_major_formatter(mdates.DateFormatter('%Y-%m-%d %H:%M:%S'))\n",
    "plt.gca().xaxis.set_major_formatter(mdates.DateFormatter('%Y-%m-%d %H'))\n",
    "plt.gca().xaxis.set_major_locator(mdates.AutoDateLocator())\n",
    "\n",
    "# Rotate and format x-axis labels for readability\n",
    "plt.xticks(rotation=45, ha='right')\n",
    "\n",
    "plt.xlabel('Time')\n",
    "plt.ylabel('wind_dir')\n",
    "plt.title(f'wind_dir vs time')\n",
    "plt.legend()\n",
    "plt.grid(True)\n",
    "plt.tight_layout()  # Adjust layout to prevent clipping of labels\n",
    "plt.show()"
   ]
  },
  {
   "cell_type": "code",
   "execution_count": null,
   "id": "78ad5bbb-6425-4265-91f9-0f93a0286123",
   "metadata": {
    "execution": {
     "iopub.execute_input": "2025-04-22T15:25:43.212626Z",
     "iopub.status.busy": "2025-04-22T15:25:43.212480Z",
     "iopub.status.idle": "2025-04-22T15:25:43.341351Z",
     "shell.execute_reply": "2025-04-22T15:25:43.340921Z",
     "shell.execute_reply.started": "2025-04-22T15:25:43.212611Z"
    }
   },
   "outputs": [],
   "source": [
    "# Plot the time vs the specified column\n",
    "plt.figure(figsize=(12, 4))\n",
    "plt.plot(time.plot_date, visits['dimm_seeing'],'b.')\n",
    "\n",
    "# Set x-axis to show dates\n",
    "#plt.gca().xaxis.set_major_formatter(mdates.DateFormatter('%Y-%m-%d %H:%M:%S'))\n",
    "plt.gca().xaxis.set_major_formatter(mdates.DateFormatter('%Y-%m-%d %H'))\n",
    "plt.gca().xaxis.set_major_locator(mdates.AutoDateLocator())\n",
    "\n",
    "# Rotate and format x-axis labels for readability\n",
    "plt.xticks(rotation=45, ha='right')\n",
    "\n",
    "plt.xlabel('Time')\n",
    "plt.ylabel('dimm_seeing')\n",
    "plt.title(f'dimm_seeing vs time')\n",
    "plt.legend()\n",
    "plt.grid(True)\n",
    "plt.tight_layout()  # Adjust layout to prevent clipping of labels\n",
    "plt.show()"
   ]
  },
  {
   "cell_type": "code",
   "execution_count": null,
   "id": "aae79c73-d9cf-4d89-8d85-f0ebcaf259ef",
   "metadata": {
    "execution": {
     "iopub.execute_input": "2025-04-22T15:25:43.342028Z",
     "iopub.status.busy": "2025-04-22T15:25:43.341885Z",
     "iopub.status.idle": "2025-04-22T15:25:43.469219Z",
     "shell.execute_reply": "2025-04-22T15:25:43.468802Z",
     "shell.execute_reply.started": "2025-04-22T15:25:43.342014Z"
    }
   },
   "outputs": [],
   "source": [
    "# Plot the time vs the specified column\n",
    "plt.figure(figsize=(12, 4))\n",
    "plt.plot(time.plot_date, visits['focus_z'],'b.')\n",
    "\n",
    "# Set x-axis to show dates\n",
    "#plt.gca().xaxis.set_major_formatter(mdates.DateFormatter('%Y-%m-%d %H:%M:%S'))\n",
    "plt.gca().xaxis.set_major_formatter(mdates.DateFormatter('%Y-%m-%d %H'))\n",
    "plt.gca().xaxis.set_major_locator(mdates.AutoDateLocator())\n",
    "\n",
    "# Rotate and format x-axis labels for readability\n",
    "plt.xticks(rotation=45, ha='right')\n",
    "\n",
    "plt.xlabel('Time')\n",
    "plt.ylabel('focus_z')\n",
    "plt.title(f'focus_z vs time')\n",
    "plt.legend()\n",
    "plt.grid(True)\n",
    "plt.tight_layout()  # Adjust layout to prevent clipping of labels\n",
    "plt.show()"
   ]
  },
  {
   "cell_type": "code",
   "execution_count": null,
   "id": "98d10515-a9d1-4cd0-a8a2-eeb9007d5538",
   "metadata": {},
   "outputs": [],
   "source": []
  }
 ],
 "metadata": {
  "kernelspec": {
   "display_name": "LSST",
   "language": "python",
   "name": "lsst"
  },
  "language_info": {
   "codemirror_mode": {
    "name": "ipython",
    "version": 3
   },
   "file_extension": ".py",
   "mimetype": "text/x-python",
   "name": "python",
   "nbconvert_exporter": "python",
   "pygments_lexer": "ipython3",
   "version": "3.12.9"
  }
 },
 "nbformat": 4,
 "nbformat_minor": 5
}
