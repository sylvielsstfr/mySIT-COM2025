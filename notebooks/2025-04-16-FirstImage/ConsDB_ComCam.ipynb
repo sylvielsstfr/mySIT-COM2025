{
 "cells": [
  {
   "cell_type": "markdown",
   "id": "4c50da0f-2a30-4761-9a29-c67185aab160",
   "metadata": {},
   "source": [
    "# Consdb for LSSTComCam for visits\n",
    "\n",
    "- Creation date : 2025-04-18\n",
    "- last update : 2025-04-19\n",
    "- https://usdf-rsp-dev.slac.stanford.edu/consdb/\n",
    "- Schemes for constdb : https://sdm-schemas.lsst.io/\n",
    "- Documentation : https://consdb.lsst.io/index.html\n"
   ]
  },
  {
   "cell_type": "markdown",
   "id": "ce17244c-8f51-4666-90c4-509291c3d62f",
   "metadata": {},
   "source": [
    "LSSTCam/runs/nightlyValidation/{day_obs}/<lsst_distrib_tag>/DM-50157"
   ]
  },
  {
   "cell_type": "code",
   "execution_count": null,
   "id": "d9170f34-bf3d-4223-a737-89f81fe22a96",
   "metadata": {
    "execution": {
     "iopub.execute_input": "2025-04-19T21:00:12.570588Z",
     "iopub.status.busy": "2025-04-19T21:00:12.570464Z",
     "iopub.status.idle": "2025-04-19T21:00:21.813644Z",
     "shell.execute_reply": "2025-04-19T21:00:21.813118Z",
     "shell.execute_reply.started": "2025-04-19T21:00:12.570574Z"
    }
   },
   "outputs": [],
   "source": [
    "from lsst.summit.utils import ConsDbClient"
   ]
  },
  {
   "cell_type": "code",
   "execution_count": null,
   "id": "c9637cf5-efa5-4842-b39c-1e22ce097b1b",
   "metadata": {
    "execution": {
     "iopub.execute_input": "2025-04-19T21:00:21.814807Z",
     "iopub.status.busy": "2025-04-19T21:00:21.814210Z",
     "iopub.status.idle": "2025-04-19T21:00:21.892511Z",
     "shell.execute_reply": "2025-04-19T21:00:21.891974Z",
     "shell.execute_reply.started": "2025-04-19T21:00:21.814788Z"
    }
   },
   "outputs": [],
   "source": [
    "import numpy as np\n",
    "\n",
    "import matplotlib.pyplot as plt\n",
    "import matplotlib.dates as mdates\n",
    "\n",
    "import matplotlib as mpl\n",
    "import matplotlib.cm as cm \n",
    "import matplotlib.colors as colors\n",
    "import matplotlib.cm as cmx\n",
    "from matplotlib.colors import ListedColormap\n",
    "\n",
    "import seaborn as sns\n",
    "%matplotlib widget\n",
    "\n",
    "from lsst.meas.algorithms.installGaussianPsf import FwhmPerSigma\n",
    "\n",
    "from tqdm.notebook import tqdm\n",
    "import pandas as pd"
   ]
  },
  {
   "cell_type": "code",
   "execution_count": null,
   "id": "b328ebd9-693e-4114-aff3-69ce6124f798",
   "metadata": {
    "execution": {
     "iopub.execute_input": "2025-04-19T21:00:21.893646Z",
     "iopub.status.busy": "2025-04-19T21:00:21.893023Z",
     "iopub.status.idle": "2025-04-19T21:00:21.896416Z",
     "shell.execute_reply": "2025-04-19T21:00:21.895971Z",
     "shell.execute_reply.started": "2025-04-19T21:00:21.893629Z"
    }
   },
   "outputs": [],
   "source": [
    "#xx-small\n",
    "#x-small\n",
    "#small\n",
    "#medium\n",
    "#large\n",
    "#x-large\n",
    "#xx-large\n",
    "\n",
    "plt.rcParams[\"figure.figsize\"] = (10,6)\n",
    "plt.rcParams[\"axes.labelsize\"] = 'x-large'\n",
    "plt.rcParams['axes.titlesize'] = 'x-large'\n",
    "plt.rcParams['xtick.labelsize']= 'x-large'\n",
    "plt.rcParams['ytick.labelsize']= 'x-large'"
   ]
  },
  {
   "cell_type": "code",
   "execution_count": null,
   "id": "46759823-0ab0-4792-9670-08d70280821d",
   "metadata": {
    "execution": {
     "iopub.execute_input": "2025-04-19T21:00:21.897046Z",
     "iopub.status.busy": "2025-04-19T21:00:21.896898Z",
     "iopub.status.idle": "2025-04-19T21:00:21.921743Z",
     "shell.execute_reply": "2025-04-19T21:00:21.921220Z",
     "shell.execute_reply.started": "2025-04-19T21:00:21.897031Z"
    }
   },
   "outputs": [],
   "source": [
    "from astropy.table import Table, join\n",
    "from astropy.time import Time\n",
    "\n",
    "from astropy.coordinates import SkyCoord\n",
    "from astropy import coordinates\n",
    "import astropy.coordinates as coord\n",
    "import astropy.units as u"
   ]
  },
  {
   "cell_type": "code",
   "execution_count": null,
   "id": "24490394-b03f-4aec-8907-8377f67c1df2",
   "metadata": {
    "execution": {
     "iopub.execute_input": "2025-04-19T21:00:21.922427Z",
     "iopub.status.busy": "2025-04-19T21:00:21.922280Z",
     "iopub.status.idle": "2025-04-19T21:00:21.934379Z",
     "shell.execute_reply": "2025-04-19T21:00:21.933916Z",
     "shell.execute_reply.started": "2025-04-19T21:00:21.922411Z"
    }
   },
   "outputs": [],
   "source": [
    "import lsst.geom as geom\n",
    "import lsst\n",
    "from lsst.geom import Angle "
   ]
  },
  {
   "cell_type": "code",
   "execution_count": null,
   "id": "338ce377-6a76-4474-8dfd-e94ee48c6cc8",
   "metadata": {
    "execution": {
     "iopub.execute_input": "2025-04-19T21:00:21.935054Z",
     "iopub.status.busy": "2025-04-19T21:00:21.934909Z",
     "iopub.status.idle": "2025-04-19T21:00:21.947646Z",
     "shell.execute_reply": "2025-04-19T21:00:21.947213Z",
     "shell.execute_reply.started": "2025-04-19T21:00:21.935039Z"
    }
   },
   "outputs": [],
   "source": [
    "# https://pipelines.lsst.io/modules/lsst.geom/getting-started.html\n",
    "func_degToRad = lambda x : Angle(x,lsst.geom.degrees).asRadians()\n",
    "func_zendtoAirmass = lambda x : 1./np.cos(func_degToRad(x))\n",
    "#func_wrap = lambda x : Angle(x,lsst.geom.radians).wrap(180.*lsst.geom.degrees)"
   ]
  },
  {
   "cell_type": "markdown",
   "id": "644d0a4b-7193-46b5-85c8-638ac7207b4f",
   "metadata": {},
   "source": [
    "## Configuration"
   ]
  },
  {
   "cell_type": "code",
   "execution_count": null,
   "id": "7ce654a6-f761-478f-8133-b5e07868ed40",
   "metadata": {
    "execution": {
     "iopub.execute_input": "2025-04-19T21:00:21.948472Z",
     "iopub.status.busy": "2025-04-19T21:00:21.948163Z",
     "iopub.status.idle": "2025-04-19T21:00:21.961676Z",
     "shell.execute_reply": "2025-04-19T21:00:21.961267Z",
     "shell.execute_reply.started": "2025-04-19T21:00:21.948456Z"
    }
   },
   "outputs": [],
   "source": [
    "instrument = \"LSSTComCam\""
   ]
  },
  {
   "cell_type": "code",
   "execution_count": null,
   "id": "fd95a0ea-f58f-4672-afe0-fc3f3f80cfc1",
   "metadata": {
    "execution": {
     "iopub.execute_input": "2025-04-19T21:00:21.962370Z",
     "iopub.status.busy": "2025-04-19T21:00:21.962224Z",
     "iopub.status.idle": "2025-04-19T21:00:21.987165Z",
     "shell.execute_reply": "2025-04-19T21:00:21.986768Z",
     "shell.execute_reply.started": "2025-04-19T21:00:21.962356Z"
    }
   },
   "outputs": [],
   "source": [
    "os.environ[\"no_proxy\"] += \",.consdb\""
   ]
  },
  {
   "cell_type": "code",
   "execution_count": null,
   "id": "8c679aa8-2199-4e02-9354-aafa7f114f91",
   "metadata": {
    "execution": {
     "iopub.execute_input": "2025-04-19T21:00:21.987910Z",
     "iopub.status.busy": "2025-04-19T21:00:21.987628Z",
     "iopub.status.idle": "2025-04-19T21:00:22.001969Z",
     "shell.execute_reply": "2025-04-19T21:00:22.001483Z",
     "shell.execute_reply.started": "2025-04-19T21:00:21.987895Z"
    }
   },
   "outputs": [],
   "source": [
    "url=\"http://consdb-pq.consdb:8080/consdb\""
   ]
  },
  {
   "cell_type": "code",
   "execution_count": null,
   "id": "396043d3-35d4-45f8-bea4-af2ae6af74cd",
   "metadata": {
    "execution": {
     "iopub.execute_input": "2025-04-19T21:00:22.002843Z",
     "iopub.status.busy": "2025-04-19T21:00:22.002679Z",
     "iopub.status.idle": "2025-04-19T21:00:22.015898Z",
     "shell.execute_reply": "2025-04-19T21:00:22.015469Z",
     "shell.execute_reply.started": "2025-04-19T21:00:22.002827Z"
    }
   },
   "outputs": [],
   "source": [
    "consdb=ConsDbClient(url)"
   ]
  },
  {
   "cell_type": "markdown",
   "id": "45ac7b79-cc4a-4abf-8afb-db5e575b894a",
   "metadata": {},
   "source": [
    "https://sdm-schemas.lsst.io/cdb_lsstcomcam.html#exposure"
   ]
  },
  {
   "cell_type": "code",
   "execution_count": null,
   "id": "f015c934-ce60-4833-af60-a0514f33ddcd",
   "metadata": {
    "execution": {
     "iopub.execute_input": "2025-04-19T21:00:22.016663Z",
     "iopub.status.busy": "2025-04-19T21:00:22.016506Z",
     "iopub.status.idle": "2025-04-19T21:00:24.943074Z",
     "shell.execute_reply": "2025-04-19T21:00:24.942539Z",
     "shell.execute_reply.started": "2025-04-19T21:00:22.016647Z"
    }
   },
   "outputs": [],
   "source": [
    "# Query both consDB tables\n",
    "#exposure = consdb.query(\"SELECT * FROM cdb_lsstcam.exposure WHERE science_program = 'BLOCK-351'\")\n",
    "#visits = consdb.query(\"SELECT * FROM cdb_lsstcam.visit1 WHERE science_program = 'BLOCK-351'\")\n",
    "#visits_ql = consdb.query(\"SELECT * FROM cdb_lsstcam.visit1_quicklook\")\n",
    "#visits_ql = consdb.query(\"SELECT * FROM cdb_lsstcam.visit1\")\n",
    "\n",
    "exposure = consdb.query(\"SELECT * FROM cdb_lsstcomcam.exposure WHERE day_obs >= 20241021\")\n",
    "visits = consdb.query(\"SELECT * FROM cdb_lsstcomcam.visit1 WHERE day_obs >= 20241021\")\n",
    "#visits_ql = consdb.query(\"SELECT * FROM cdb_lsstcam.visit1_quicklook\")\n",
    "visits_ql = consdb.query(\"SELECT * FROM cdb_lsstcomcam.visit1 WHERE day_obs >= 20241021\")\n",
    "\n",
    "# Join using astropy's join function on 'visit_id'\n",
    "exposure_join = exposure.rename_column(\"exposure_id\", \"visit_id\")\n",
    "merged_exposure = join(exposure, visits, keys=\"visit_id\", join_type=\"inner\")  \n",
    "merged_visits = join(visits, visits_ql, keys=\"visit_id\", join_type=\"inner\")  \n",
    "\n",
    "# Display or use the merged table\n",
    "#print(merged_visits)"
   ]
  },
  {
   "cell_type": "markdown",
   "id": "24d47919-04af-45ea-a70e-3f9e3d4e2be2",
   "metadata": {},
   "source": [
    "## Explore the visit info in consdb"
   ]
  },
  {
   "cell_type": "code",
   "execution_count": null,
   "id": "d3ab9e1f-2b6b-4372-af3d-457aed8df26b",
   "metadata": {
    "execution": {
     "iopub.execute_input": "2025-04-19T21:00:24.943836Z",
     "iopub.status.busy": "2025-04-19T21:00:24.943661Z",
     "iopub.status.idle": "2025-04-19T21:00:24.946911Z",
     "shell.execute_reply": "2025-04-19T21:00:24.946453Z",
     "shell.execute_reply.started": "2025-04-19T21:00:24.943819Z"
    }
   },
   "outputs": [],
   "source": [
    "print(visits.columns)"
   ]
  },
  {
   "cell_type": "code",
   "execution_count": null,
   "id": "57354d6c-9686-4930-8762-9a8433beebfe",
   "metadata": {
    "execution": {
     "iopub.execute_input": "2025-04-19T21:00:24.947654Z",
     "iopub.status.busy": "2025-04-19T21:00:24.947494Z",
     "iopub.status.idle": "2025-04-19T21:00:24.990436Z",
     "shell.execute_reply": "2025-04-19T21:00:24.989903Z",
     "shell.execute_reply.started": "2025-04-19T21:00:24.947638Z"
    }
   },
   "outputs": [],
   "source": [
    "df_visits = visits.to_pandas()"
   ]
  },
  {
   "cell_type": "code",
   "execution_count": null,
   "id": "cdd83049-7527-4337-abe3-75ed126e2ea9",
   "metadata": {
    "execution": {
     "iopub.execute_input": "2025-04-19T21:00:24.991176Z",
     "iopub.status.busy": "2025-04-19T21:00:24.991013Z",
     "iopub.status.idle": "2025-04-19T21:00:24.995241Z",
     "shell.execute_reply": "2025-04-19T21:00:24.994853Z",
     "shell.execute_reply.started": "2025-04-19T21:00:24.991160Z"
    }
   },
   "outputs": [],
   "source": [
    "df_visits['band'].unique()"
   ]
  },
  {
   "cell_type": "markdown",
   "id": "aef71a12-6d56-4b56-a49e-68ad90e2bc52",
   "metadata": {},
   "source": [
    "### Observation dates"
   ]
  },
  {
   "cell_type": "code",
   "execution_count": null,
   "id": "cb3cde1c-8ef3-4fa3-b4ce-4801747637f6",
   "metadata": {
    "execution": {
     "iopub.execute_input": "2025-04-19T21:00:24.995899Z",
     "iopub.status.busy": "2025-04-19T21:00:24.995743Z",
     "iopub.status.idle": "2025-04-19T21:00:25.015221Z",
     "shell.execute_reply": "2025-04-19T21:00:25.014771Z",
     "shell.execute_reply.started": "2025-04-19T21:00:24.995882Z"
    }
   },
   "outputs": [],
   "source": [
    "df_visits[\"day_obs\"].unique()"
   ]
  },
  {
   "cell_type": "markdown",
   "id": "0dddfbfb-bcab-46a0-a2e4-629d80284aab",
   "metadata": {},
   "source": [
    "### Filters"
   ]
  },
  {
   "cell_type": "code",
   "execution_count": null,
   "id": "5dd87d43-7d1e-47ba-9205-db72babd45aa",
   "metadata": {
    "execution": {
     "iopub.execute_input": "2025-04-19T21:00:25.015967Z",
     "iopub.status.busy": "2025-04-19T21:00:25.015794Z",
     "iopub.status.idle": "2025-04-19T21:00:25.031850Z",
     "shell.execute_reply": "2025-04-19T21:00:25.031357Z",
     "shell.execute_reply.started": "2025-04-19T21:00:25.015946Z"
    }
   },
   "outputs": [],
   "source": [
    "print(df_visits[\"physical_filter\"].unique(),df_visits[\"band\"].unique())"
   ]
  },
  {
   "cell_type": "code",
   "execution_count": null,
   "id": "aa2e3d41-1d5c-495f-86d3-e3a2467d37c5",
   "metadata": {
    "execution": {
     "iopub.execute_input": "2025-04-19T21:00:25.032545Z",
     "iopub.status.busy": "2025-04-19T21:00:25.032392Z",
     "iopub.status.idle": "2025-04-19T21:00:25.061334Z",
     "shell.execute_reply": "2025-04-19T21:00:25.060795Z",
     "shell.execute_reply.started": "2025-04-19T21:00:25.032530Z"
    }
   },
   "outputs": [],
   "source": [
    "df_visits = df_visits[df_visits.band != 'other']\n",
    "df_visits = df_visits[df_visits.band != 'none']"
   ]
  },
  {
   "cell_type": "markdown",
   "id": "f90548eb-3722-4973-be9c-ab932088d70d",
   "metadata": {},
   "source": [
    "### Science program and observation reason"
   ]
  },
  {
   "cell_type": "code",
   "execution_count": null,
   "id": "b8cc4dd2-9b22-4a2e-8b2f-a5ce2525411b",
   "metadata": {
    "execution": {
     "iopub.execute_input": "2025-04-19T21:00:25.062178Z",
     "iopub.status.busy": "2025-04-19T21:00:25.061936Z",
     "iopub.status.idle": "2025-04-19T21:00:25.067159Z",
     "shell.execute_reply": "2025-04-19T21:00:25.066769Z",
     "shell.execute_reply.started": "2025-04-19T21:00:25.062161Z"
    }
   },
   "outputs": [],
   "source": [
    "df_visits[\"science_program\"].unique()"
   ]
  },
  {
   "cell_type": "code",
   "execution_count": null,
   "id": "9fd86ee6-48ce-4494-adf9-cc444c89d508",
   "metadata": {
    "execution": {
     "iopub.execute_input": "2025-04-19T21:00:25.067816Z",
     "iopub.status.busy": "2025-04-19T21:00:25.067661Z",
     "iopub.status.idle": "2025-04-19T21:00:25.109623Z",
     "shell.execute_reply": "2025-04-19T21:00:25.109148Z",
     "shell.execute_reply.started": "2025-04-19T21:00:25.067801Z"
    }
   },
   "outputs": [],
   "source": [
    "df_visits['observation_reason'].unique()"
   ]
  },
  {
   "cell_type": "markdown",
   "id": "f2a46c3b-20c1-4ce0-8db7-b4ab24ac1a12",
   "metadata": {},
   "source": [
    "### Time exposure"
   ]
  },
  {
   "cell_type": "code",
   "execution_count": null,
   "id": "4f5bbbdc-fa6c-45ab-bc4d-d5ee84ae75f9",
   "metadata": {
    "execution": {
     "iopub.execute_input": "2025-04-19T21:00:25.114290Z",
     "iopub.status.busy": "2025-04-19T21:00:25.113845Z",
     "iopub.status.idle": "2025-04-19T21:00:25.219347Z",
     "shell.execute_reply": "2025-04-19T21:00:25.218887Z",
     "shell.execute_reply.started": "2025-04-19T21:00:25.114272Z"
    }
   },
   "outputs": [],
   "source": [
    "fig,ax = plt.subplots(1,1,figsize=(8,4))\n",
    "ax.hist(df_visits[\"exp_time\"].values,bins=50,facecolor=\"b\");\n",
    "plt.show()"
   ]
  },
  {
   "cell_type": "markdown",
   "id": "21441f79-45ef-4022-808f-9957a87a0ad1",
   "metadata": {},
   "source": [
    "## Region in sky"
   ]
  },
  {
   "cell_type": "code",
   "execution_count": null,
   "id": "133fe6ce-6ad5-40ed-a097-40a3662d80df",
   "metadata": {
    "execution": {
     "iopub.execute_input": "2025-04-19T21:00:25.220048Z",
     "iopub.status.busy": "2025-04-19T21:00:25.219888Z",
     "iopub.status.idle": "2025-04-19T21:00:25.222867Z",
     "shell.execute_reply": "2025-04-19T21:00:25.222420Z",
     "shell.execute_reply.started": "2025-04-19T21:00:25.220029Z"
    }
   },
   "outputs": [],
   "source": [
    "dict_b_to_col = {\"u\": \"b\", \"g\":\"g\", \"r\": \"r\", \"i\": 'orange', 'z': \"magenta\",'y':'purple','other':\"k\",'none':'grey'}"
   ]
  },
  {
   "cell_type": "code",
   "execution_count": null,
   "id": "5ee65e5b-3d0a-4fef-8a41-cd853c7c9e4f",
   "metadata": {
    "execution": {
     "iopub.execute_input": "2025-04-19T21:00:25.223656Z",
     "iopub.status.busy": "2025-04-19T21:00:25.223496Z",
     "iopub.status.idle": "2025-04-19T21:00:25.243321Z",
     "shell.execute_reply": "2025-04-19T21:00:25.242872Z",
     "shell.execute_reply.started": "2025-04-19T21:00:25.223634Z"
    }
   },
   "outputs": [],
   "source": [
    "col = df_visits[\"band\"].map(lambda b:  dict_b_to_col[b] ).values"
   ]
  },
  {
   "cell_type": "code",
   "execution_count": null,
   "id": "10ea14f9-5bd4-4c0f-b117-69b7db9886dd",
   "metadata": {
    "execution": {
     "iopub.execute_input": "2025-04-19T21:00:25.244145Z",
     "iopub.status.busy": "2025-04-19T21:00:25.243841Z",
     "iopub.status.idle": "2025-04-19T21:00:25.258515Z",
     "shell.execute_reply": "2025-04-19T21:00:25.258075Z",
     "shell.execute_reply.started": "2025-04-19T21:00:25.244127Z"
    }
   },
   "outputs": [],
   "source": [
    "col"
   ]
  },
  {
   "cell_type": "code",
   "execution_count": null,
   "id": "15cd0a56-3e44-4924-9080-e741dd1bf3b6",
   "metadata": {
    "execution": {
     "iopub.execute_input": "2025-04-19T21:00:25.259451Z",
     "iopub.status.busy": "2025-04-19T21:00:25.259052Z",
     "iopub.status.idle": "2025-04-19T21:00:25.647003Z",
     "shell.execute_reply": "2025-04-19T21:00:25.646550Z",
     "shell.execute_reply.started": "2025-04-19T21:00:25.259434Z"
    }
   },
   "outputs": [],
   "source": [
    "fig,ax = plt.subplots(1,1,figsize=(8,4))\n",
    "df_visits.plot.scatter(x='s_ra',y='s_dec',ax=ax,c=col)\n",
    "ax.grid()\n",
    "ax.set_aspect(\"equal\")\n",
    "plt.show()"
   ]
  },
  {
   "cell_type": "code",
   "execution_count": null,
   "id": "9e6ce737-28e5-4d28-8db2-858485517866",
   "metadata": {
    "execution": {
     "iopub.execute_input": "2025-04-19T21:00:25.647826Z",
     "iopub.status.busy": "2025-04-19T21:00:25.647537Z",
     "iopub.status.idle": "2025-04-19T21:00:25.651211Z",
     "shell.execute_reply": "2025-04-19T21:00:25.650759Z",
     "shell.execute_reply.started": "2025-04-19T21:00:25.647809Z"
    }
   },
   "outputs": [],
   "source": [
    "palette_spectral = sns.color_palette(\"Spectral_r\", as_cmap=True)"
   ]
  },
  {
   "cell_type": "code",
   "execution_count": null,
   "id": "7746fe8f-7c82-4ddf-a624-3d65f9404563",
   "metadata": {
    "execution": {
     "iopub.execute_input": "2025-04-19T21:00:25.651887Z",
     "iopub.status.busy": "2025-04-19T21:00:25.651692Z",
     "iopub.status.idle": "2025-04-19T21:00:27.235264Z",
     "shell.execute_reply": "2025-04-19T21:00:27.234766Z",
     "shell.execute_reply.started": "2025-04-19T21:00:25.651871Z"
    }
   },
   "outputs": [],
   "source": [
    "cmap_time = ListedColormap(sns.color_palette(\"Spectral_r\", df_visits.size))"
   ]
  },
  {
   "cell_type": "code",
   "execution_count": null,
   "id": "97116f16-4c6c-4b78-951d-cbb67fb150d5",
   "metadata": {
    "execution": {
     "iopub.execute_input": "2025-04-19T21:00:27.236082Z",
     "iopub.status.busy": "2025-04-19T21:00:27.235879Z",
     "iopub.status.idle": "2025-04-19T21:00:27.395810Z",
     "shell.execute_reply": "2025-04-19T21:00:27.395085Z",
     "shell.execute_reply.started": "2025-04-19T21:00:27.236064Z"
    }
   },
   "outputs": [],
   "source": [
    "fig, axs = plt.subplots(1,2,figsize=(10,4))\n",
    "ax1,ax2 = axs.flatten() \n",
    "df_visits['s_ra'].hist(bins=50,ax=ax1)\n",
    "df_visits['s_dec'].hist(bins=50,ax=ax2)"
   ]
  },
  {
   "cell_type": "code",
   "execution_count": null,
   "id": "5e3f9c6b-5a36-4ba6-baf3-d66e5f37fef3",
   "metadata": {
    "execution": {
     "iopub.execute_input": "2025-04-19T21:00:27.397286Z",
     "iopub.status.busy": "2025-04-19T21:00:27.397010Z",
     "iopub.status.idle": "2025-04-19T21:00:27.402261Z",
     "shell.execute_reply": "2025-04-19T21:00:27.401773Z",
     "shell.execute_reply.started": "2025-04-19T21:00:27.397268Z"
    }
   },
   "outputs": [],
   "source": [
    "df_coordinates = df_visits[['s_ra','s_dec','obs_start_mjd']]"
   ]
  },
  {
   "cell_type": "code",
   "execution_count": null,
   "id": "4400e8d5-8121-491f-80e3-4bd2133d5126",
   "metadata": {
    "execution": {
     "iopub.execute_input": "2025-04-19T21:00:27.403068Z",
     "iopub.status.busy": "2025-04-19T21:00:27.402887Z",
     "iopub.status.idle": "2025-04-19T21:00:27.419577Z",
     "shell.execute_reply": "2025-04-19T21:00:27.419131Z",
     "shell.execute_reply.started": "2025-04-19T21:00:27.403031Z"
    }
   },
   "outputs": [],
   "source": [
    "df_coordinates "
   ]
  },
  {
   "cell_type": "markdown",
   "id": "b98f7df3-c5b8-4db0-8977-dc00e457876b",
   "metadata": {},
   "source": [
    "## Must remove not a number in ra and dec"
   ]
  },
  {
   "cell_type": "code",
   "execution_count": null,
   "id": "5df5be78-f4ac-4c9b-9532-ddb105578209",
   "metadata": {
    "execution": {
     "iopub.execute_input": "2025-04-19T21:00:27.420552Z",
     "iopub.status.busy": "2025-04-19T21:00:27.420179Z",
     "iopub.status.idle": "2025-04-19T21:00:27.423641Z",
     "shell.execute_reply": "2025-04-19T21:00:27.423184Z",
     "shell.execute_reply.started": "2025-04-19T21:00:27.420532Z"
    }
   },
   "outputs": [],
   "source": [
    "df_dtypes = np.array(df_coordinates.dtypes)\n",
    "df_numericDtypes= [x.kind in 'bifc' for x in df_dtypes]"
   ]
  },
  {
   "cell_type": "code",
   "execution_count": null,
   "id": "194efe62-bd19-4fbe-9151-7d1f8deaef9b",
   "metadata": {
    "execution": {
     "iopub.execute_input": "2025-04-19T21:00:27.424640Z",
     "iopub.status.busy": "2025-04-19T21:00:27.424296Z",
     "iopub.status.idle": "2025-04-19T21:00:27.459513Z",
     "shell.execute_reply": "2025-04-19T21:00:27.459120Z",
     "shell.execute_reply.started": "2025-04-19T21:00:27.424622Z"
    }
   },
   "outputs": [],
   "source": [
    "df_numericDtypes"
   ]
  },
  {
   "cell_type": "code",
   "execution_count": null,
   "id": "18709735-2cad-438c-b52d-5275c8df323b",
   "metadata": {
    "execution": {
     "iopub.execute_input": "2025-04-19T21:00:27.460156Z",
     "iopub.status.busy": "2025-04-19T21:00:27.460012Z",
     "iopub.status.idle": "2025-04-19T21:00:27.466628Z",
     "shell.execute_reply": "2025-04-19T21:00:27.466271Z",
     "shell.execute_reply.started": "2025-04-19T21:00:27.460142Z"
    }
   },
   "outputs": [],
   "source": [
    "from pandas.api.types import is_any_real_numeric_dtype"
   ]
  },
  {
   "cell_type": "code",
   "execution_count": null,
   "id": "212104b2-2fa0-40c4-a12b-86134692b6ff",
   "metadata": {
    "execution": {
     "iopub.execute_input": "2025-04-19T21:00:27.467223Z",
     "iopub.status.busy": "2025-04-19T21:00:27.467083Z",
     "iopub.status.idle": "2025-04-19T21:00:27.476806Z",
     "shell.execute_reply": "2025-04-19T21:00:27.476446Z",
     "shell.execute_reply.started": "2025-04-19T21:00:27.467209Z"
    }
   },
   "outputs": [],
   "source": [
    "is_any_real_numeric_dtype(df_coordinates ['s_ra'])"
   ]
  },
  {
   "cell_type": "code",
   "execution_count": null,
   "id": "0dc96481-18ce-455f-b837-f6574fae2fa9",
   "metadata": {
    "execution": {
     "iopub.execute_input": "2025-04-19T21:00:27.477594Z",
     "iopub.status.busy": "2025-04-19T21:00:27.477253Z",
     "iopub.status.idle": "2025-04-19T21:00:27.484126Z",
     "shell.execute_reply": "2025-04-19T21:00:27.483764Z",
     "shell.execute_reply.started": "2025-04-19T21:00:27.477579Z"
    }
   },
   "outputs": [],
   "source": [
    "is_any_real_numeric_dtype(df_coordinates ['s_dec'])"
   ]
  },
  {
   "cell_type": "code",
   "execution_count": null,
   "id": "3615ac10-d139-4ced-87d3-34383e63f183",
   "metadata": {
    "execution": {
     "iopub.execute_input": "2025-04-19T21:00:27.484864Z",
     "iopub.status.busy": "2025-04-19T21:00:27.484699Z",
     "iopub.status.idle": "2025-04-19T21:00:27.492327Z",
     "shell.execute_reply": "2025-04-19T21:00:27.491979Z",
     "shell.execute_reply.started": "2025-04-19T21:00:27.484851Z"
    }
   },
   "outputs": [],
   "source": [
    "is_any_real_numeric_dtype(df_coordinates ['obs_start_mjd'])"
   ]
  },
  {
   "cell_type": "code",
   "execution_count": null,
   "id": "2389aca4-54d4-41fe-b483-73330d0f4f50",
   "metadata": {
    "execution": {
     "iopub.execute_input": "2025-04-19T21:00:27.492866Z",
     "iopub.status.busy": "2025-04-19T21:00:27.492733Z",
     "iopub.status.idle": "2025-04-19T21:00:27.520740Z",
     "shell.execute_reply": "2025-04-19T21:00:27.520279Z",
     "shell.execute_reply.started": "2025-04-19T21:00:27.492854Z"
    }
   },
   "outputs": [],
   "source": [
    "df_ = df_coordinates .copy().apply(pd.to_numeric, errors='coerce')\n",
    "test_nmr_coerce = df_.dropna(axis=0, how='any')\n",
    "display(test_nmr_coerce)"
   ]
  },
  {
   "cell_type": "code",
   "execution_count": null,
   "id": "4a201044-e1a4-4d43-ac26-ed5026319819",
   "metadata": {
    "execution": {
     "iopub.execute_input": "2025-04-19T21:00:27.521739Z",
     "iopub.status.busy": "2025-04-19T21:00:27.521386Z",
     "iopub.status.idle": "2025-04-19T21:00:27.524403Z",
     "shell.execute_reply": "2025-04-19T21:00:27.523943Z",
     "shell.execute_reply.started": "2025-04-19T21:00:27.521721Z"
    }
   },
   "outputs": [],
   "source": [
    "df_coordinates  = test_nmr_coerce"
   ]
  },
  {
   "cell_type": "code",
   "execution_count": null,
   "id": "6f056e3e-491b-4e6d-a92e-76f06f8e9536",
   "metadata": {
    "execution": {
     "iopub.execute_input": "2025-04-19T21:00:27.525250Z",
     "iopub.status.busy": "2025-04-19T21:00:27.524949Z",
     "iopub.status.idle": "2025-04-19T21:00:27.591149Z",
     "shell.execute_reply": "2025-04-19T21:00:27.590703Z",
     "shell.execute_reply.started": "2025-04-19T21:00:27.525233Z"
    }
   },
   "outputs": [],
   "source": [
    "ra_g = df_coordinates['s_ra'].apply(func_degToRad) \n",
    "dec_g = df_coordinates['s_dec'].apply(func_degToRad) "
   ]
  },
  {
   "cell_type": "code",
   "execution_count": null,
   "id": "a9968ad6-6c5b-4855-a400-a769cb5ad52e",
   "metadata": {
    "execution": {
     "iopub.execute_input": "2025-04-19T21:00:27.591794Z",
     "iopub.status.busy": "2025-04-19T21:00:27.591643Z",
     "iopub.status.idle": "2025-04-19T21:00:27.594806Z",
     "shell.execute_reply": "2025-04-19T21:00:27.594429Z",
     "shell.execute_reply.started": "2025-04-19T21:00:27.591779Z"
    }
   },
   "outputs": [],
   "source": [
    "dt = df_coordinates['obs_start_mjd'].values - df_coordinates['obs_start_mjd'].min()"
   ]
  },
  {
   "cell_type": "code",
   "execution_count": null,
   "id": "358735fd-81de-42de-aa1e-930d5764d562",
   "metadata": {
    "execution": {
     "iopub.execute_input": "2025-04-19T21:00:27.595583Z",
     "iopub.status.busy": "2025-04-19T21:00:27.595353Z",
     "iopub.status.idle": "2025-04-19T21:00:27.613512Z",
     "shell.execute_reply": "2025-04-19T21:00:27.612913Z",
     "shell.execute_reply.started": "2025-04-19T21:00:27.595522Z"
    }
   },
   "outputs": [],
   "source": [
    "dtmin = dt.min()\n",
    "dtmax = dt.max()"
   ]
  },
  {
   "cell_type": "code",
   "execution_count": null,
   "id": "cd8f4136-dfed-4029-ae49-d52ea4054839",
   "metadata": {
    "execution": {
     "iopub.execute_input": "2025-04-19T21:00:27.615918Z",
     "iopub.status.busy": "2025-04-19T21:00:27.615579Z",
     "iopub.status.idle": "2025-04-19T21:00:27.638067Z",
     "shell.execute_reply": "2025-04-19T21:00:27.637428Z",
     "shell.execute_reply.started": "2025-04-19T21:00:27.615882Z"
    }
   },
   "outputs": [],
   "source": [
    "# Galactic plane\n",
    "gal_long = np.linspace(-180.,180,360)\n",
    "gal_lat = np.zeros((360))\n",
    "coordinates_galactic_planes = SkyCoord(l=gal_long*u.degree, b=gal_lat*u.degree, frame='galactic')\n",
    "gp_radec = coordinates_galactic_planes.transform_to('icrs')  \n",
    "# for galactic plane\n",
    "# gp_radec.ra : 0., 360.\n",
    "# gp_radec.dec : -90, 90\n",
    "gp_ra_toplot = coordinates.Angle(gp_radec.ra.degree*u.degree)\n",
    "gp_ra_toplot = gp_ra_toplot.wrap_at(180*u.degree)\n",
    "# gp_ra_toplot -180, 180"
   ]
  },
  {
   "cell_type": "code",
   "execution_count": null,
   "id": "527a501a-41fd-4bb1-8db5-22c9d70fba5a",
   "metadata": {
    "execution": {
     "iopub.execute_input": "2025-04-19T21:00:27.638893Z",
     "iopub.status.busy": "2025-04-19T21:00:27.638665Z",
     "iopub.status.idle": "2025-04-19T21:00:27.651373Z",
     "shell.execute_reply": "2025-04-19T21:00:27.650877Z",
     "shell.execute_reply.started": "2025-04-19T21:00:27.638849Z"
    }
   },
   "outputs": [],
   "source": [
    "ra = coordinates.Angle(df_coordinates['s_ra'].values,unit=\"deg\").radian\n",
    "dec = coordinates.Angle(df_coordinates['s_dec'].values,unit=\"deg\").radian"
   ]
  },
  {
   "cell_type": "code",
   "execution_count": null,
   "id": "e99f4a95-1534-4345-b37c-c1de06bbd717",
   "metadata": {
    "execution": {
     "iopub.execute_input": "2025-04-19T21:00:27.652298Z",
     "iopub.status.busy": "2025-04-19T21:00:27.652140Z",
     "iopub.status.idle": "2025-04-19T21:00:27.923195Z",
     "shell.execute_reply": "2025-04-19T21:00:27.922721Z",
     "shell.execute_reply.started": "2025-04-19T21:00:27.652281Z"
    }
   },
   "outputs": [],
   "source": [
    "# plot\n",
    "# x arg in rad must be (-2pi,2pi), y arg in rad  must be in ( -pi,pi )\n",
    "fig = plt.figure(figsize=(12,6))\n",
    "#ax = fig.add_subplot(111, projection=\"aitoff\")\n",
    "ax = fig.add_subplot(111, projection=\"mollweide\")\n",
    "ax.scatter(gp_ra_toplot.radian, gp_radec.dec.radian,c=\"r\",label=\"Galactic Plane\",s=1)\n",
    "#ax.scatter(ra-np.pi,dec,marker='+',c=all_colors_g)\n",
    "im = ax.scatter(ra_g.values-np.pi,dec_g.values,marker='+',s=50,lw=3,c=dt,cmap=palette_spectral)\n",
    "ax.legend()\n",
    "ax.grid()\n",
    "\n",
    "cbar = plt.colorbar(im, orientation='horizontal', label='time(days)')\n",
    "plt.suptitle(instrument)"
   ]
  },
  {
   "cell_type": "markdown",
   "id": "7310a336-342e-49b4-bdd7-eb5295afed7c",
   "metadata": {
    "execution": {
     "iopub.status.busy": "2025-04-18T15:21:32.428824Z",
     "iopub.status.idle": "2025-04-18T15:21:32.428991Z",
     "shell.execute_reply": "2025-04-18T15:21:32.428916Z",
     "shell.execute_reply.started": "2025-04-18T15:21:32.428908Z"
    }
   },
   "source": [
    "## Time dependence"
   ]
  },
  {
   "cell_type": "code",
   "execution_count": null,
   "id": "d6e78b73-58a4-40e5-bc6a-2c95f6953ae3",
   "metadata": {
    "execution": {
     "iopub.execute_input": "2025-04-19T21:00:27.923921Z",
     "iopub.status.busy": "2025-04-19T21:00:27.923763Z",
     "iopub.status.idle": "2025-04-19T21:00:27.931515Z",
     "shell.execute_reply": "2025-04-19T21:00:27.931048Z",
     "shell.execute_reply.started": "2025-04-19T21:00:27.923905Z"
    }
   },
   "outputs": [],
   "source": [
    "time = Time(visits['exp_midpt'])"
   ]
  },
  {
   "cell_type": "code",
   "execution_count": null,
   "id": "c9ae914c-b595-4f94-adff-2b77996fa096",
   "metadata": {
    "execution": {
     "iopub.execute_input": "2025-04-19T21:00:27.932231Z",
     "iopub.status.busy": "2025-04-19T21:00:27.932077Z",
     "iopub.status.idle": "2025-04-19T21:00:27.941793Z",
     "shell.execute_reply": "2025-04-19T21:00:27.941335Z",
     "shell.execute_reply.started": "2025-04-19T21:00:27.932216Z"
    }
   },
   "outputs": [],
   "source": [
    "print('tmin = ',time.min(),' | tmax = ',time.max())"
   ]
  },
  {
   "cell_type": "markdown",
   "id": "10161d7e-3d6b-4eb5-9871-d024961b0846",
   "metadata": {},
   "source": [
    "### Airmass vs Time"
   ]
  },
  {
   "cell_type": "code",
   "execution_count": null,
   "id": "2ac16eec-4253-4647-a4c0-15c5e9ebd094",
   "metadata": {
    "execution": {
     "iopub.execute_input": "2025-04-19T21:09:15.651394Z",
     "iopub.status.busy": "2025-04-19T21:09:15.651200Z",
     "iopub.status.idle": "2025-04-19T21:09:15.787482Z",
     "shell.execute_reply": "2025-04-19T21:09:15.787050Z",
     "shell.execute_reply.started": "2025-04-19T21:09:15.651379Z"
    }
   },
   "outputs": [],
   "source": [
    "\n",
    "# Plot the time vs the specified column\n",
    "plt.figure(figsize=(12, 4))\n",
    "plt.plot(time.plot_date, visits['airmass'],'b.')\n",
    "\n",
    "# Set x-axis to show dates\n",
    "#plt.gca().xaxis.set_major_formatter(mdates.DateFormatter('%Y-%m-%d %H:%M:%S'))\n",
    "plt.gca().xaxis.set_major_formatter(mdates.DateFormatter('%Y-%m-%d %H'))\n",
    "plt.gca().xaxis.set_major_locator(mdates.AutoDateLocator())\n",
    "\n",
    "# Rotate and format x-axis labels for readability\n",
    "plt.xticks(rotation=45, ha='right')\n",
    "\n",
    "plt.xlabel('Time')\n",
    "plt.ylabel('Airmass')\n",
    "plt.title(f'Time vs Airmass')\n",
    "plt.legend()\n",
    "plt.grid(True)\n",
    "plt.tight_layout()  # Adjust layout to prevent clipping of labels\n",
    "plt.show()"
   ]
  },
  {
   "cell_type": "code",
   "execution_count": null,
   "id": "6e94a1a2-f7a9-45fd-9fb7-876cd2634afc",
   "metadata": {},
   "outputs": [],
   "source": []
  },
  {
   "cell_type": "code",
   "execution_count": null,
   "id": "4f3d1575-f9ba-41bc-a983-07d7c7ade714",
   "metadata": {
    "execution": {
     "iopub.execute_input": "2025-04-19T21:00:28.082503Z",
     "iopub.status.busy": "2025-04-19T21:00:28.082355Z",
     "iopub.status.idle": "2025-04-19T21:00:28.221400Z",
     "shell.execute_reply": "2025-04-19T21:00:28.220930Z",
     "shell.execute_reply.started": "2025-04-19T21:00:28.082487Z"
    }
   },
   "outputs": [],
   "source": [
    "# Plot the time vs the specified column\n",
    "plt.figure(figsize=(12, 4))\n",
    "plt.plot(time.plot_date, visits['air_temp'],'b.')\n",
    "\n",
    "# Set x-axis to show dates\n",
    "#plt.gca().xaxis.set_major_formatter(mdates.DateFormatter('%Y-%m-%d %H:%M:%S'))\n",
    "plt.gca().xaxis.set_major_formatter(mdates.DateFormatter('%Y-%m-%d %H'))\n",
    "plt.gca().xaxis.set_major_locator(mdates.AutoDateLocator())\n",
    "\n",
    "# Rotate and format x-axis labels for readability\n",
    "plt.xticks(rotation=45, ha='right')\n",
    "\n",
    "plt.xlabel('Time')\n",
    "plt.ylabel('air_temp')\n",
    "plt.title(f'air_temp vs time')\n",
    "plt.legend()\n",
    "plt.grid(True)\n",
    "plt.tight_layout()  # Adjust layout to prevent clipping of labels\n",
    "plt.show()"
   ]
  },
  {
   "cell_type": "code",
   "execution_count": null,
   "id": "745d7739-954b-4947-9b37-4e15658087c5",
   "metadata": {
    "execution": {
     "iopub.execute_input": "2025-04-19T21:00:28.222164Z",
     "iopub.status.busy": "2025-04-19T21:00:28.222007Z",
     "iopub.status.idle": "2025-04-19T21:00:28.366161Z",
     "shell.execute_reply": "2025-04-19T21:00:28.365733Z",
     "shell.execute_reply.started": "2025-04-19T21:00:28.222147Z"
    }
   },
   "outputs": [],
   "source": [
    "# Plot the time vs the specified column\n",
    "plt.figure(figsize=(12, 4))\n",
    "plt.plot(time.plot_date, visits['pressure'],'b.')\n",
    "\n",
    "# Set x-axis to show dates\n",
    "#plt.gca().xaxis.set_major_formatter(mdates.DateFormatter('%Y-%m-%d %H:%M:%S'))\n",
    "plt.gca().xaxis.set_major_formatter(mdates.DateFormatter('%Y-%m-%d %H'))\n",
    "plt.gca().xaxis.set_major_locator(mdates.AutoDateLocator())\n",
    "\n",
    "# Rotate and format x-axis labels for readability\n",
    "plt.xticks(rotation=45, ha='right')\n",
    "\n",
    "plt.xlabel('Time')\n",
    "plt.ylabel('pressure')\n",
    "plt.title(f'pressure vs time')\n",
    "plt.legend()\n",
    "plt.grid(True)\n",
    "plt.tight_layout()  # Adjust layout to prevent clipping of labels\n",
    "plt.show()"
   ]
  },
  {
   "cell_type": "code",
   "execution_count": null,
   "id": "c56e229e-e2a7-4311-a619-ef77678cd07a",
   "metadata": {
    "execution": {
     "iopub.execute_input": "2025-04-19T21:00:28.366819Z",
     "iopub.status.busy": "2025-04-19T21:00:28.366665Z",
     "iopub.status.idle": "2025-04-19T21:00:28.523644Z",
     "shell.execute_reply": "2025-04-19T21:00:28.523284Z",
     "shell.execute_reply.started": "2025-04-19T21:00:28.366804Z"
    }
   },
   "outputs": [],
   "source": [
    "# Plot the time vs the specified column\n",
    "plt.figure(figsize=(12, 4))\n",
    "plt.plot(time.plot_date, visits['humidity'],'b.')\n",
    "\n",
    "# Set x-axis to show dates\n",
    "#plt.gca().xaxis.set_major_formatter(mdates.DateFormatter('%Y-%m-%d %H:%M:%S'))\n",
    "plt.gca().xaxis.set_major_formatter(mdates.DateFormatter('%Y-%m-%d %H'))\n",
    "plt.gca().xaxis.set_major_locator(mdates.AutoDateLocator())\n",
    "\n",
    "# Rotate and format x-axis labels for readability\n",
    "plt.xticks(rotation=45, ha='right')\n",
    "\n",
    "plt.xlabel('Time')\n",
    "plt.ylabel('humidity')\n",
    "plt.title(f'humidity vs time')\n",
    "plt.legend()\n",
    "plt.grid(True)\n",
    "plt.tight_layout()  # Adjust layout to prevent clipping of labels\n",
    "plt.show()"
   ]
  },
  {
   "cell_type": "code",
   "execution_count": null,
   "id": "161879f6-53c4-4d00-8760-3f7edc95b450",
   "metadata": {},
   "outputs": [],
   "source": []
  },
  {
   "cell_type": "code",
   "execution_count": null,
   "id": "b341d28f-5e57-462a-90a2-0f7e3fe88afa",
   "metadata": {},
   "outputs": [],
   "source": []
  },
  {
   "cell_type": "code",
   "execution_count": null,
   "id": "69edab7a-5891-4423-9011-2ce78e570a6f",
   "metadata": {
    "execution": {
     "iopub.execute_input": "2025-04-19T21:00:28.524239Z",
     "iopub.status.busy": "2025-04-19T21:00:28.524094Z",
     "iopub.status.idle": "2025-04-19T21:00:28.661399Z",
     "shell.execute_reply": "2025-04-19T21:00:28.661036Z",
     "shell.execute_reply.started": "2025-04-19T21:00:28.524223Z"
    }
   },
   "outputs": [],
   "source": [
    "# Plot the time vs the specified column\n",
    "plt.figure(figsize=(12, 4))\n",
    "plt.plot(time.plot_date, visits['wind_speed'],'b.')\n",
    "\n",
    "# Set x-axis to show dates\n",
    "#plt.gca().xaxis.set_major_formatter(mdates.DateFormatter('%Y-%m-%d %H:%M:%S'))\n",
    "plt.gca().xaxis.set_major_formatter(mdates.DateFormatter('%Y-%m-%d %H'))\n",
    "plt.gca().xaxis.set_major_locator(mdates.AutoDateLocator())\n",
    "\n",
    "# Rotate and format x-axis labels for readability\n",
    "plt.xticks(rotation=45, ha='right')\n",
    "\n",
    "plt.xlabel('Time')\n",
    "plt.ylabel('wind_speed')\n",
    "plt.title(f'wind_speed vs time')\n",
    "plt.legend()\n",
    "plt.grid(True)\n",
    "plt.tight_layout()  # Adjust layout to prevent clipping of labels\n",
    "plt.show()"
   ]
  },
  {
   "cell_type": "code",
   "execution_count": null,
   "id": "5b53fb9e-dc8a-4bd3-bb9e-6c5640070191",
   "metadata": {
    "execution": {
     "iopub.execute_input": "2025-04-19T21:00:28.662010Z",
     "iopub.status.busy": "2025-04-19T21:00:28.661863Z",
     "iopub.status.idle": "2025-04-19T21:00:29.074752Z",
     "shell.execute_reply": "2025-04-19T21:00:29.074300Z",
     "shell.execute_reply.started": "2025-04-19T21:00:28.661994Z"
    }
   },
   "outputs": [],
   "source": [
    "# Plot the time vs the specified column\n",
    "plt.figure(figsize=(12, 4))\n",
    "plt.plot(time.plot_date, visits['wind_dir'],'b.')\n",
    "\n",
    "# Set x-axis to show dates\n",
    "#plt.gca().xaxis.set_major_formatter(mdates.DateFormatter('%Y-%m-%d %H:%M:%S'))\n",
    "plt.gca().xaxis.set_major_formatter(mdates.DateFormatter('%Y-%m-%d %H'))\n",
    "plt.gca().xaxis.set_major_locator(mdates.AutoDateLocator())\n",
    "\n",
    "# Rotate and format x-axis labels for readability\n",
    "plt.xticks(rotation=45, ha='right')\n",
    "\n",
    "plt.xlabel('Time')\n",
    "plt.ylabel('wind_dir')\n",
    "plt.title(f'wind_dir vs time')\n",
    "plt.legend()\n",
    "plt.grid(True)\n",
    "plt.tight_layout()  # Adjust layout to prevent clipping of labels\n",
    "plt.show()"
   ]
  },
  {
   "cell_type": "code",
   "execution_count": null,
   "id": "78ad5bbb-6425-4265-91f9-0f93a0286123",
   "metadata": {
    "execution": {
     "iopub.execute_input": "2025-04-19T21:00:29.075492Z",
     "iopub.status.busy": "2025-04-19T21:00:29.075324Z",
     "iopub.status.idle": "2025-04-19T21:00:29.209664Z",
     "shell.execute_reply": "2025-04-19T21:00:29.209231Z",
     "shell.execute_reply.started": "2025-04-19T21:00:29.075477Z"
    }
   },
   "outputs": [],
   "source": [
    "# Plot the time vs the specified column\n",
    "plt.figure(figsize=(12, 4))\n",
    "plt.plot(time.plot_date, visits['dimm_seeing'],'b.')\n",
    "\n",
    "# Set x-axis to show dates\n",
    "#plt.gca().xaxis.set_major_formatter(mdates.DateFormatter('%Y-%m-%d %H:%M:%S'))\n",
    "plt.gca().xaxis.set_major_formatter(mdates.DateFormatter('%Y-%m-%d %H'))\n",
    "plt.gca().xaxis.set_major_locator(mdates.AutoDateLocator())\n",
    "\n",
    "# Rotate and format x-axis labels for readability\n",
    "plt.xticks(rotation=45, ha='right')\n",
    "\n",
    "plt.xlabel('Time')\n",
    "plt.ylabel('dimm_seeing')\n",
    "plt.title(f'dimm_seeing vs time')\n",
    "plt.legend()\n",
    "plt.grid(True)\n",
    "plt.tight_layout()  # Adjust layout to prevent clipping of labels\n",
    "plt.show()"
   ]
  },
  {
   "cell_type": "code",
   "execution_count": null,
   "id": "aae79c73-d9cf-4d89-8d85-f0ebcaf259ef",
   "metadata": {
    "execution": {
     "iopub.execute_input": "2025-04-19T21:00:29.210461Z",
     "iopub.status.busy": "2025-04-19T21:00:29.210293Z",
     "iopub.status.idle": "2025-04-19T21:00:29.351039Z",
     "shell.execute_reply": "2025-04-19T21:00:29.350676Z",
     "shell.execute_reply.started": "2025-04-19T21:00:29.210443Z"
    }
   },
   "outputs": [],
   "source": [
    "# Plot the time vs the specified column\n",
    "plt.figure(figsize=(12, 4))\n",
    "plt.plot(time.plot_date, visits['focus_z'],'b.')\n",
    "\n",
    "# Set x-axis to show dates\n",
    "#plt.gca().xaxis.set_major_formatter(mdates.DateFormatter('%Y-%m-%d %H:%M:%S'))\n",
    "plt.gca().xaxis.set_major_formatter(mdates.DateFormatter('%Y-%m-%d %H'))\n",
    "plt.gca().xaxis.set_major_locator(mdates.AutoDateLocator())\n",
    "\n",
    "# Rotate and format x-axis labels for readability\n",
    "plt.xticks(rotation=45, ha='right')\n",
    "\n",
    "plt.xlabel('Time')\n",
    "plt.ylabel('focus_z')\n",
    "plt.title(f'focus_z vs time')\n",
    "plt.legend()\n",
    "plt.grid(True)\n",
    "plt.tight_layout()  # Adjust layout to prevent clipping of labels\n",
    "plt.show()"
   ]
  },
  {
   "cell_type": "code",
   "execution_count": null,
   "id": "98d10515-a9d1-4cd0-a8a2-eeb9007d5538",
   "metadata": {},
   "outputs": [],
   "source": []
  }
 ],
 "metadata": {
  "kernelspec": {
   "display_name": "LSST",
   "language": "python",
   "name": "lsst"
  },
  "language_info": {
   "codemirror_mode": {
    "name": "ipython",
    "version": 3
   },
   "file_extension": ".py",
   "mimetype": "text/x-python",
   "name": "python",
   "nbconvert_exporter": "python",
   "pygments_lexer": "ipython3",
   "version": "3.12.9"
  }
 },
 "nbformat": 4,
 "nbformat_minor": 5
}
